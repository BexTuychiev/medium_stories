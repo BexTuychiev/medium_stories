{
 "cells": [
  {
   "cell_type": "markdown",
   "metadata": {},
   "source": [
    "# How to Build Custom Context Managers in Python\n",
    "## True power of `with` keyword\n",
    "<img src='images/bike.jpg'></img>\n",
    "<figcaption style=\"text-align: center;\">\n",
    "    <strong>\n",
    "        Photo by \n",
    "        <a href='https://www.pexels.com/@gijs-coolen-1325695?utm_content=attributionCopyText&utm_medium=referral&utm_source=pexels'>Gijs Coolen</a>\n",
    "        on \n",
    "        <a href='https://www.pexels.com/photo/black-bmw-motorcycle-2948297/?utm_content=attributionCopyText&utm_medium=referral&utm_source=pexels'>Pexels</a>\n",
    "    </strong>\n",
    "</figcaption>"
   ]
  },
  {
   "cell_type": "markdown",
   "metadata": {},
   "source": [
    "### Introduction"
   ]
  },
  {
   "cell_type": "markdown",
   "metadata": {},
   "source": [
    "Programmers often work with external resources such as databases, files, connections, etc. Since these operations are so common, Python has built-in tools called context managers which allow programmers to efficiently handle external sources. The built-in context manager functions might be useful, but there are still many cases where you will need custom context managers.\n",
    "\n",
    "Under the hood, context managers perform tasks to clean-up any used connections or resources so that they are ready for later. A common use case you might have seen is a context manager that opens a file and closes it after some operation is done:"
   ]
  },
  {
   "cell_type": "code",
   "execution_count": 2,
   "metadata": {},
   "outputs": [],
   "source": [
    "with open('sample.txt', 'w') as file:\n",
    "    file.write('Hello World!')"
   ]
  },
  {
   "cell_type": "markdown",
   "metadata": {},
   "source": [
    "This is the most common pattern to use context managers but there are many others too:"
   ]
  },
  {
   "attachments": {
    "image.png": {
     "image/png": "[encoded data removed]"
    }
   },
   "cell_type": "markdown",
   "metadata": {},
   "source": [
    "![image.png](attachment:image.png)"
   ]
  },
  {
   "cell_type": "markdown",
   "metadata": {},
   "source": [
    "When you are in one of these situations, you will find there are not many built-in functions that come to your aid. Thankfully, you can build one yourself!"
   ]
  },
  {
   "cell_type": "markdown",
   "metadata": {},
   "source": [
    "### How To Create a Custom Context Manager"
   ]
  },
  {
   "cell_type": "markdown",
   "metadata": {},
   "source": [
    "There are two ways to build user-defined context-managers:\n",
    "- class-based\n",
    "- function-based\n",
    "\n",
    "Since the first way is a little more complex and some readers may not be familiar with OOP concepts in Python, we will choose equally powerful function-based method."
   ]
  },
  {
   "cell_type": "markdown",
   "metadata": {},
   "source": [
    "In this method, there are 5 steps to implement your own context-managers:\n",
    "1. Define a function.\n",
    "2. (optional) Write any setup code your context needs.\n",
    "3. Use the `yield` keyword.\n",
    "4. (optional) Write any teardown code your context needs.\n",
    "5. Add the `@contextlib.contextmanager` decorator."
   ]
  },
  {
   "cell_type": "markdown",
   "metadata": {},
   "source": [
    "Let's create a simple function:"
   ]
  },
  {
   "cell_type": "code",
   "execution_count": 5,
   "metadata": {},
   "outputs": [],
   "source": [
    "import contextlib\n",
    "\n",
    "@contextlib.contextmanager\n",
    "def my_context():\n",
    "    print('Welcome!')\n",
    "    yield\n",
    "    print('Bye!')"
   ]
  },
  {
   "cell_type": "markdown",
   "metadata": {},
   "source": [
    "We created a very simple context manager that prints `Welcome` whenever we open the context and as soon as we are outside the context, prints `Bye`. Let's use it before I explain it further:"
   ]
  },
  {
   "cell_type": "code",
   "execution_count": 8,
   "metadata": {
    "scrolled": true
   },
   "outputs": [
    {
     "name": "stdout",
     "output_type": "stream",
     "text": [
      "Welcome!\n",
      "I am always executed before the yield keyword\n",
      "\n",
      "Bye!\n",
      "I am always executed after the yield keyword\n"
     ]
    }
   ],
   "source": [
    "with my_context():\n",
    "    print('I am always executed before the yield keyword\\n')\n",
    "print('I am always executed after the yield keyword')"
   ]
  },
  {
   "cell_type": "markdown",
   "metadata": {},
   "source": [
    "First of all, to convert a function to a context manager, we need to import `contextlib` module and add `@contextlib.contextmanager` decorator right before the function definition. You don't have to know what decorators are for the scope of this article but here is a [link](https://realpython.com/primer-on-python-decorators/) to a good source if you want to know more."
   ]
  },
  {
   "cell_type": "markdown",
   "metadata": {},
   "source": [
    "The second most important step is to add a `yield` keyword. The code you write before `yield` is called setup. In the setup, you should write all the logic that should be executed within the context like connecting to a database, opening a file, etc. \n",
    "\n",
    "What comes after `yield` is always executed as soon as you are out of the context. Since Python uses indents for code blocks, writing a single unindented statement indicates Python that we are out of the context. The code that comes after `yield` is also called teardown code. In the teardown, you do operations like closing connections, clearing up resources and so on."
   ]
  },
  {
   "cell_type": "markdown",
   "metadata": {},
   "source": [
    "To drive the point home, let's implement a commonly-used timer:"
   ]
  },
  {
   "cell_type": "code",
   "execution_count": 11,
   "metadata": {},
   "outputs": [],
   "source": [
    "import time\n",
    "\n",
    "@contextlib.contextmanager\n",
    "def timer():\n",
    "    # Start the timer\n",
    "    start = time.time()\n",
    "    # context breakdown\n",
    "    yield\n",
    "    # End the timer\n",
    "    end = time.time()\n",
    "    # Tell the user how much time elapsed\n",
    "    print(f'This code block executed in {end - start} seconds.')"
   ]
  },
  {
   "cell_type": "code",
   "execution_count": 15,
   "metadata": {},
   "outputs": [
    {
     "name": "stdout",
     "output_type": "stream",
     "text": [
      "This code block executed in 1.0053565502166748\n",
      "Done!\n"
     ]
    }
   ],
   "source": [
    "with timer():\n",
    "    for i in range(10):\n",
    "        time.sleep(0.1)\n",
    "print('Done!')"
   ]
  },
  {
   "cell_type": "markdown",
   "metadata": {},
   "source": [
    "Python starts the timer whenever the interprets sees `with timer():` and ends it (executes `yield` and what comes after) as soon as a new unindented statement is written (`print('Done!')`)"
   ]
  },
  {
   "cell_type": "markdown",
   "metadata": {},
   "source": [
    "### Building Context Managers That Accept Arguments"
   ]
  },
  {
   "cell_type": "markdown",
   "metadata": {},
   "source": [
    "Sometimes, we will need context managers that accept arguments and do operations on them in the setup section. For the first example, let's implement the built-in `open` function's context-manager, but only with read-only functionality:"
   ]
  },
  {
   "cell_type": "code",
   "execution_count": 17,
   "metadata": {},
   "outputs": [],
   "source": [
    "@contextlib.contextmanager\n",
    "def read_only(path_to_file):\n",
    "    # Open the file\n",
    "    file = open(path_to_file, 'r')\n",
    "    # Context breakdwon\n",
    "    yield file\n",
    "    # Close the file\n",
    "    file.close()"
   ]
  },
  {
   "cell_type": "code",
   "execution_count": 22,
   "metadata": {},
   "outputs": [
    {
     "name": "stdout",
     "output_type": "stream",
     "text": [
      "Printing the contents of the file\n",
      "\n",
      "Sample file\n"
     ]
    }
   ],
   "source": [
    "with read_only('sample.txt') as file:\n",
    "    print('Printing the contents of the file\\n')\n",
    "    print(file.read())"
   ]
  },
  {
   "cell_type": "markdown",
   "metadata": {},
   "source": [
    "More often than not, when context managers accept arguments they yield the results of the setup code. When a context yields a result, it can be accessed `as` keyword like we are doing in the above `read_only` function."
   ]
  },
  {
   "cell_type": "markdown",
   "metadata": {},
   "source": [
    "Here is another example that connects to a `postgreSQL` database and returns the connection:"
   ]
  },
  {
   "cell_type": "code",
   "execution_count": 26,
   "metadata": {},
   "outputs": [],
   "source": [
    "import psycopg2  # pip install psycopg2, postgres connection adapter\n",
    "\n",
    "\n",
    "@contextlib.contextmanager\n",
    "def postgres_connect(user, password, port, database_name, host='127.0.0.1'):\n",
    "    # Set up a database connection\n",
    "    connection = psycopg2.connect(host=host,\n",
    "                                  user=user,\n",
    "                                  password=password,\n",
    "                                  port=port,\n",
    "                                  database=database_name)\n",
    "    # Yield the connection to be used\n",
    "    yield connection\n",
    "    # Close the connection\n",
    "    connection.close()"
   ]
  },
  {
   "cell_type": "markdown",
   "metadata": {},
   "source": [
    "```python\n",
    "with postgres_connect('admin', 'password', '5432', 'sample_db') as conn:\n",
    "    results = conn.execute(\"\"\"\n",
    "        SELECT * FROM my_table\n",
    "    \"\"\")\n",
    "    print(results.fetchall())\n",
    "\n",
    "...\n",
    "```"
   ]
  },
  {
   "cell_type": "markdown",
   "metadata": {},
   "source": [
    "### Error Handling"
   ]
  },
  {
   "cell_type": "markdown",
   "metadata": {},
   "source": [
    "It is always a good practice to implement error-handling in your code. Context managers are no exception.\n",
    "\n",
    "Imagine in our `postgres_connect` function, the user generates an error before the context reaches the teardown. If this ever happens, the connection created to the database using your credentials remains open and you will no longer be able to connect again. To prevent this, we will insert `try-except` statements that close the connection regardless of whether there is an error or not:"
   ]
  },
  {
   "cell_type": "code",
   "execution_count": 29,
   "metadata": {},
   "outputs": [],
   "source": [
    "@contextlib.contextmanager\n",
    "def postgres_connect(user, password, port, database_name, host='127.0.0.1'):\n",
    "    # Set up a database connection\n",
    "    connection = psycopg2.connect(host=host,\n",
    "                                  user=user,\n",
    "                                  password=password,\n",
    "                                  port=port,\n",
    "                                  database=database_name)\n",
    "    try:\n",
    "        yield connection\n",
    "    except Exception as e:\n",
    "        print(e)\n",
    "    finally:\n",
    "        # Close the connection\n",
    "        connection.close()"
   ]
  },
  {
   "cell_type": "markdown",
   "metadata": {},
   "source": [
    "After the `try-except` statements, adding the `finally` block ensures that the code within `finally` executes no matter what happens. This feature is particularly useful for context managers.\n",
    "\n",
    "Now, consider this example:"
   ]
  },
  {
   "cell_type": "code",
   "execution_count": 30,
   "metadata": {},
   "outputs": [],
   "source": [
    "import os\n",
    "\n",
    "@contextlib.contextmanager\n",
    "def in_dir(path):\n",
    "    # Get the current working directory\n",
    "    cwd = os.getcwd()\n",
    "    # Change the directory to the desired path\n",
    "    os.chdir(path)\n",
    "    try:\n",
    "        yield\n",
    "    finally:\n",
    "        # Change the directory back to home on any occasion\n",
    "        os.chdir(cwd)"
   ]
  },
  {
   "cell_type": "markdown",
   "metadata": {},
   "source": [
    "The above manager temporarily changes the working directory that will allow you to perform operations within the context:"
   ]
  },
  {
   "cell_type": "code",
   "execution_count": 34,
   "metadata": {},
   "outputs": [
    {
     "name": "stdout",
     "output_type": "stream",
     "text": [
      "['sample.txt']\n"
     ]
    }
   ],
   "source": [
    "with in_dir('data'):\n",
    "    print(os.listdir())"
   ]
  },
  {
   "cell_type": "markdown",
   "metadata": {},
   "source": [
    "Of course the above code-block could have been executed without a context manager but you get the idea. If we made any errors within the context, the error would be raised but the working directory would be back to where it was."
   ]
  }
 ],
 "metadata": {
  "kernelspec": {
   "display_name": "medium_articles",
   "language": "python",
   "name": "medium_articles"
  },
  "language_info": {
   "codemirror_mode": {
    "name": "ipython",
    "version": 3
   },
   "file_extension": ".py",
   "mimetype": "text/x-python",
   "name": "python",
   "nbconvert_exporter": "python",
   "pygments_lexer": "ipython3",
   "version": "3.8.5"
  }
 },
 "nbformat": 4,
 "nbformat_minor": 4
}
