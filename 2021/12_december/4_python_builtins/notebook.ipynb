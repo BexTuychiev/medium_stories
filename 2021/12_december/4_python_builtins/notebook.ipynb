{
 "cells": [
  {
   "cell_type": "markdown",
   "metadata": {},
   "source": [
    "# 22-2 Built-in Python Libraries That Will Put Haters to Shame\n",
    "## Get to know Python standard library like never before\n",
    "![](images/pixabay.jpg)\n",
    "<figcaption style=\"text-align: center;\">\n",
    "    <strong>\n",
    "        Photo by \n",
    "        <a href='https://pixabay.com/users/skorchanov-5650284/?utm_source=link-attribution&utm_medium=referral&utm_campaign=image&utm_content=3602557'>Сергей Корчанов</a>\n",
    "        on \n",
    "        <a href='https://pixabay.com/?utm_source=link-attribution&utm_medium=referral&utm_campaign=image&utm_content=3602557'>Pixabay</a>\n",
    "    </strong>\n",
    "</figcaption>"
   ]
  },
  {
   "cell_type": "markdown",
   "metadata": {},
   "source": [
    "## Introduction"
   ]
  },
  {
   "cell_type": "markdown",
   "metadata": {},
   "source": [
    "Most people think that the mass dominance of Python is owed to its powerful packages like NumPy, Pandas, Sklearn, XGBoost, etc. These are third-party packages, written by professional developers, often with the help of other faster programming languages like C, Java or C++. \n",
    "\n",
    "So, one of the feeble arguments haters might throw against Python is that it won't be as popular once you strip away all the glory these third-party packages bring. I am here to say otherwise and show that standard Python is already powerful enough to give a serious run for their money. \n",
    "\n",
    "I bring to your attention 20 lightweight packages that come built-in with your Python installation and only a single line away from being unleashed."
   ]
  },
  {
   "cell_type": "markdown",
   "metadata": {},
   "source": [
    "## 1️⃣. contextlib"
   ]
  },
  {
   "cell_type": "markdown",
   "metadata": {},
   "source": [
    "Handling external sources like database connections, open files or anything that requires manual open/close operations can become a giant pain in the neck. Context managers solve this issue elegantly. \n",
    "\n",
    "Context managers are a defining feature of Python, not present in other languages and highly sought after. You've probably seen the `with` keyword used with the `open` function. What you might not know is that you can create your own functions that work as context managers.\n",
    "\n",
    "Below, you can see a context manager that serves as a timer:"
   ]
  },
  {
   "cell_type": "code",
   "execution_count": 1,
   "metadata": {},
   "outputs": [],
   "source": [
    "from contextlib import contextmanager\n",
    "\n",
    "\n",
    "@contextmanager\n",
    "def timer():\n",
    "    # Start the timer\n",
    "    start = time.time()\n",
    "    # context breakdown\n",
    "    yield\n",
    "    # End the timer\n",
    "    end = time.time()\n",
    "\n",
    "    # Tell the user how much time elapsed\n",
    "    print(f\"This code block executed in {round(end - start, 3)} seconds.\")"
   ]
  },
  {
   "cell_type": "code",
   "execution_count": 2,
   "metadata": {},
   "outputs": [
    {
     "name": "stdout",
     "output_type": "stream",
     "text": [
      "This code block executed in 5.08 seconds.\n"
     ]
    }
   ],
   "source": [
    "import time\n",
    "\n",
    "with timer():\n",
    "    for _ in range(10):\n",
    "        time.sleep(0.5)"
   ]
  },
  {
   "cell_type": "markdown",
   "metadata": {},
   "source": [
    "Wrapping a function written with special syntax under a `contextmanager` decorator from `contextlib`, converts it to a manager that can be used with the `with` keyword. You can read more about custom context managers in [my separate article](https://towardsdatascience.com/how-to-build-custom-context-managers-in-python-31727ffe96e1)."
   ]
  },
  {
   "cell_type": "markdown",
   "metadata": {},
   "source": [
    "### 📚 Documentation: [https://docs.python.org/3/library/contextlib.html](https://docs.python.org/3/library/contextlib.html)\n",
    "\n",
    "### 💻 Demo: [link](https://towardsdatascience.com/how-to-build-custom-context-managers-in-python-31727ffe96e1)"
   ]
  },
  {
   "cell_type": "markdown",
   "metadata": {},
   "source": [
    "## 2️⃣. functools"
   ]
  },
  {
   "cell_type": "markdown",
   "metadata": {},
   "source": [
    "Want more powerful, shorter and multi-functional *functions*? Then, `functools` has got you covered. This built-in library contains many methods and decorators you can wrap around already existing ones to add additional features. \n",
    "\n",
    "One of them is the `partial`, which can be used to clone functions while preserving some of their arguments with custom values. Below, we are copying the `read_csv` from Pandas to so that we won't have to repeat passing the same arguments to read some special CSV files:"
   ]
  },
  {
   "cell_type": "markdown",
   "metadata": {},
   "source": [
    "```python\n",
    "from functools import partial\n",
    "\n",
    "import pandas as pd\n",
    "\n",
    "partial_read_csv = partial(\n",
    "    pd.read_csv, delimiter=\"|\", index_col=\"date\", true_values=\"true\"\n",
    ")\n",
    "\n",
    "partial_read_csv(\"data/specially_formatted.csv\")\n",
    "```"
   ]
  },
  {
   "cell_type": "markdown",
   "metadata": {},
   "source": [
    "Another one of my favorite is a caching decorator. Once wrapped, `cache` remembers every output that map to inputs so that the results are instantly available when the same arguments are passed to the function. The `streamlit` library greatly take advantage of [such a function](https://docs.streamlit.io/library/advanced-features/caching). "
   ]
  },
  {
   "cell_type": "code",
   "execution_count": 3,
   "metadata": {},
   "outputs": [],
   "source": [
    "from functools import lru_cache\n",
    "\n",
    "\n",
    "@lru_cache  # change\n",
    "def sleep(n):\n",
    "    time.sleep(n)"
   ]
  },
  {
   "cell_type": "code",
   "execution_count": 4,
   "metadata": {},
   "outputs": [
    {
     "name": "stdout",
     "output_type": "stream",
     "text": [
      "This code block executed in 10.015 seconds.\n"
     ]
    }
   ],
   "source": [
    "with timer():\n",
    "    sleep(10)"
   ]
  },
  {
   "cell_type": "code",
   "execution_count": 48,
   "metadata": {},
   "outputs": [
    {
     "name": "stdout",
     "output_type": "stream",
     "text": [
      "This code block executed in 0.0 seconds.\n"
     ]
    }
   ],
   "source": [
    "with timer():\n",
    "    sleep(10)"
   ]
  },
  {
   "cell_type": "markdown",
   "metadata": {},
   "source": [
    "### 📚 Documentation: [https://docs.python.org/3/library/functools.html](https://docs.python.org/3/library/functools.html)"
   ]
  },
  {
   "cell_type": "markdown",
   "metadata": {},
   "source": [
    "## 3️⃣. itertools"
   ]
  },
  {
   "cell_type": "markdown",
   "metadata": {},
   "source": [
    "If you ever find yourself in a situation where you are writing nested loops or complicated functions to iterate through more than one iterable, check if there is already a function in `itertools` library. Maybe, you don't have to reinvent the wheel - Python thought of your every need.\n",
    "\n",
    "Below are some handy iteration functions from the library:"
   ]
  },
  {
   "cell_type": "code",
   "execution_count": 6,
   "metadata": {},
   "outputs": [
    {
     "name": "stdout",
     "output_type": "stream",
     "text": [
      "('A', 'F')\n",
      "('A', 'G')\n",
      "('A', 'H')\n",
      "('B', 'F')\n",
      "('B', 'G')\n",
      "('B', 'H')\n",
      "('C', 'F')\n",
      "('C', 'G')\n",
      "('C', 'H')\n"
     ]
    }
   ],
   "source": [
    "from itertools import product\n",
    "\n",
    "a = \"ABC\"\n",
    "b = \"FGH\"\n",
    "\n",
    "for i in product(a, b):\n",
    "    print(i)"
   ]
  },
  {
   "cell_type": "code",
   "execution_count": 7,
   "metadata": {},
   "outputs": [
    {
     "name": "stdout",
     "output_type": "stream",
     "text": [
      "(1, 5)\n",
      "(2, 6)\n"
     ]
    }
   ],
   "source": [
    "a = [1, 2, 3, 4]\n",
    "b = [5, 6]\n",
    "\n",
    "for item in zip(a, b):\n",
    "    print(item)"
   ]
  },
  {
   "cell_type": "code",
   "execution_count": 8,
   "metadata": {},
   "outputs": [
    {
     "name": "stdout",
     "output_type": "stream",
     "text": [
      "(1, 5)\n",
      "(2, 6)\n",
      "(3, 0)\n",
      "(4, 0)\n"
     ]
    }
   ],
   "source": [
    "from itertools import zip_longest\n",
    "\n",
    "for item in zip_longest(a, b, fillvalue=0):\n",
    "    print(item)"
   ]
  },
  {
   "cell_type": "markdown",
   "metadata": {},
   "source": [
    "### 📚 Documentation: [https://docs.python.org/3/library/itertools.html](https://docs.python.org/3/library/itertools.html)"
   ]
  },
  {
   "cell_type": "markdown",
   "metadata": {},
   "source": [
    "## 4️⃣. glob"
   ]
  },
  {
   "cell_type": "markdown",
   "metadata": {},
   "source": [
    "For users who love Unix-style pattern matching, the `glob` library should feel right at home:"
   ]
  },
  {
   "cell_type": "code",
   "execution_count": 49,
   "metadata": {},
   "outputs": [
    {
     "data": {
      "text/plain": [
       "['images\\\\1.gif',\n",
       " 'images\\\\1.png',\n",
       " 'images\\\\2.gif',\n",
       " 'images\\\\2.png',\n",
       " 'images\\\\3.png',\n",
       " 'images\\\\4.png',\n",
       " 'images\\\\5.png',\n",
       " 'images\\\\6.png']"
      ]
     },
     "execution_count": 49,
     "metadata": {},
     "output_type": "execute_result"
    }
   ],
   "source": [
    "import glob\n",
    "\n",
    "\n",
    "def choose_numbered_files(root=\".\"):\n",
    "    return glob.glob(f\"{root}/[0-9].*\")\n",
    "\n",
    "\n",
    "choose_numbered_files(\"images\")"
   ]
  },
  {
   "cell_type": "markdown",
   "metadata": {},
   "source": [
    "`glob` contains all the relevant functions to work with multiple files simultaneously without headaches (or using a mouse)."
   ]
  },
  {
   "cell_type": "markdown",
   "metadata": {},
   "source": [
    "### 📚 Documentation: [https://docs.python.org/3/library/glob.html](https://docs.python.org/3/library/glob.html)"
   ]
  },
  {
   "cell_type": "markdown",
   "metadata": {},
   "source": [
    "## 5️⃣. pathlib"
   ]
  },
  {
   "cell_type": "markdown",
   "metadata": {},
   "source": [
    "The Python `os` module, to put it nicely, sucks... Fortunately, core Python developers heard the cries of millions and introduced the `pathlib` library in Python 3.4. It brings the convenient object-oriented approach to systems paths."
   ]
  },
  {
   "cell_type": "code",
   "execution_count": 52,
   "metadata": {},
   "outputs": [
    {
     "data": {
      "text/plain": [
       "WindowsPath('.')"
      ]
     },
     "execution_count": 52,
     "metadata": {},
     "output_type": "execute_result"
    }
   ],
   "source": [
    "import pathlib\n",
    "\n",
    "p = pathlib.Path(\"images\")\n",
    "p.parent"
   ]
  },
  {
   "cell_type": "code",
   "execution_count": 13,
   "metadata": {},
   "outputs": [],
   "source": [
    "cwd = pathlib.Path.cwd()"
   ]
  },
  {
   "cell_type": "markdown",
   "metadata": {},
   "source": [
    "It also tries very hard to solve all the issues related to *(put in the adjective)* Windows path system:"
   ]
  },
  {
   "cell_type": "code",
   "execution_count": 14,
   "metadata": {},
   "outputs": [
    {
     "data": {
      "text/plain": [
       "WindowsPath('C:/Users/User/Desktop/medium_stories/2021/december/4_python_builtins')"
      ]
     },
     "execution_count": 14,
     "metadata": {},
     "output_type": "execute_result"
    }
   ],
   "source": [
    "cwd"
   ]
  },
  {
   "cell_type": "code",
   "execution_count": 15,
   "metadata": {},
   "outputs": [
    {
     "name": "stdout",
     "output_type": "stream",
     "text": [
      "C:\\Users\\User\\Desktop\\medium_stories\\2021\\december\n",
      "C:\\Users\\User\\Desktop\\medium_stories\\2021\n",
      "C:\\Users\\User\\Desktop\\medium_stories\n",
      "C:\\Users\\User\\Desktop\n",
      "C:\\Users\\User\n",
      "C:\\Users\n",
      "C:\\\n"
     ]
    }
   ],
   "source": [
    "for parent in cwd.parents:\n",
    "    print(parent)"
   ]
  },
  {
   "cell_type": "code",
   "execution_count": 16,
   "metadata": {},
   "outputs": [
    {
     "data": {
      "text/plain": [
       "WindowsPath('C:/Users/User/Desktop/medium_stories')"
      ]
     },
     "execution_count": 16,
     "metadata": {},
     "output_type": "execute_result"
    }
   ],
   "source": [
    "pathlib.Path.home() / \"Desktop\" / \"medium_stories\""
   ]
  },
  {
   "cell_type": "markdown",
   "metadata": {},
   "source": [
    "### 📚 Documentation: [https://docs.python.org/3/library/pathlib.html](https://docs.python.org/3/library/pathlib.html)"
   ]
  },
  {
   "cell_type": "markdown",
   "metadata": {},
   "source": [
    "## 6️⃣. sqlite3"
   ]
  },
  {
   "cell_type": "markdown",
   "metadata": {},
   "source": [
    "To the delight of data scientists and engineers, Python comes with a built-in support for databases and SQL through the `sqlite3` package. Just hook up to any database (or create one) using a connection object and fire away SQL queries. The package performs obediently."
   ]
  },
  {
   "cell_type": "code",
   "execution_count": 17,
   "metadata": {},
   "outputs": [],
   "source": [
    "import sqlite3\n",
    "\n",
    "con = sqlite3.connect(\"sample.db\")\n",
    "\n",
    "cursor = con.cursor()\n",
    "\n",
    "cursor.execute(\n",
    "    \"\"\"\n",
    "    CREATE TABLE films\n",
    "    (released text, title text, budget real)\n",
    "\"\"\"\n",
    ")\n",
    "\n",
    "con.commit()\n",
    "con.close()"
   ]
  },
  {
   "cell_type": "markdown",
   "metadata": {},
   "source": [
    "### 📚 Documentation: [https://docs.python.org/3/library/sqlite3.html](https://docs.python.org/3/library/sqlite3.html)"
   ]
  },
  {
   "cell_type": "markdown",
   "metadata": {},
   "source": [
    "## 7️⃣. hashlib"
   ]
  },
  {
   "cell_type": "markdown",
   "metadata": {},
   "source": [
    "Python has spawned deep, deep roots in the sphere of cybersecurity, not just in AI and ML. An example of this is the `hashlib` library which contains your most common (and secure) cryptographic hash functions like SHA256, SHA512 and so on."
   ]
  },
  {
   "cell_type": "code",
   "execution_count": 18,
   "metadata": {},
   "outputs": [],
   "source": [
    "import hashlib\n",
    "\n",
    "encoded = hashlib.sha256(b\"Encode me!\")"
   ]
  },
  {
   "cell_type": "code",
   "execution_count": 19,
   "metadata": {},
   "outputs": [
    {
     "data": {
      "text/plain": [
       "'68907fbd785a694c3617d35a6ce49477ac5704d75f0e727e353da7bc664aacc2'"
      ]
     },
     "execution_count": 19,
     "metadata": {},
     "output_type": "execute_result"
    }
   ],
   "source": [
    "encoded.hexdigest()"
   ]
  },
  {
   "cell_type": "code",
   "execution_count": 20,
   "metadata": {},
   "outputs": [
    {
     "data": {
      "text/plain": [
       "['__all__',\n",
       " '__block_openssl_constructor',\n",
       " '__builtin_constructor_cache',\n",
       " '__builtins__',\n",
       " '__cached__',\n",
       " '__doc__',\n",
       " '__file__',\n",
       " '__get_builtin_constructor',\n",
       " '__loader__',\n",
       " '__name__',\n",
       " '__package__',\n",
       " '__spec__',\n",
       " '_hashlib',\n",
       " 'algorithms_available',\n",
       " 'algorithms_guaranteed',\n",
       " 'blake2b',\n",
       " 'blake2s',\n",
       " 'md5',\n",
       " 'new',\n",
       " 'pbkdf2_hmac',\n",
       " 'scrypt',\n",
       " 'sha1',\n",
       " 'sha224',\n",
       " 'sha256',\n",
       " 'sha384',\n",
       " 'sha3_224',\n",
       " 'sha3_256',\n",
       " 'sha3_384',\n",
       " 'sha3_512',\n",
       " 'sha512',\n",
       " 'shake_128',\n",
       " 'shake_256']"
      ]
     },
     "execution_count": 20,
     "metadata": {},
     "output_type": "execute_result"
    }
   ],
   "source": [
    "dir(hashlib)"
   ]
  },
  {
   "cell_type": "markdown",
   "metadata": {},
   "source": [
    "### 📚 Documentation: [https://docs.python.org/3/library/hashlib.html](https://docs.python.org/3/library/hashlib.html)"
   ]
  },
  {
   "cell_type": "markdown",
   "metadata": {},
   "source": [
    "## 8️⃣. secrets"
   ]
  },
  {
   "cell_type": "markdown",
   "metadata": {},
   "source": [
    "I love mystery novels. Have you ever read [*The Hound of Baskervilles*](https://en.wikipedia.org/wiki/The_Hound_of_the_Baskervilles)? It is amazing, go read it. \n",
    "\n",
    "While it might be immense fun to implement your own message encoding functions, they won't probably be up to the same standards as the battle-tested functions in the `secrets` library.\n",
    "\n",
    "There, you will find everything you need to generate random numbers and characters for the hairest of passwords, security tokens and related secrets:"
   ]
  },
  {
   "cell_type": "code",
   "execution_count": 59,
   "metadata": {},
   "outputs": [
    {
     "data": {
      "text/plain": [
       "'VB2ewEtytP'"
      ]
     },
     "execution_count": 59,
     "metadata": {},
     "output_type": "execute_result"
    }
   ],
   "source": [
    "import secrets\n",
    "import string\n",
    "\n",
    "# From the docs\n",
    "alphabet = string.ascii_letters + string.digits\n",
    "password = \"\".join(secrets.choice(alphabet) for _ in range(10))\n",
    "\n",
    "password"
   ]
  },
  {
   "cell_type": "code",
   "execution_count": 60,
   "metadata": {},
   "outputs": [
    {
     "data": {
      "text/plain": [
       "'vN4yQy-3T7YE6xzAzw3kZcPMZL1GZUmFpNmlXirAzZA'"
      ]
     },
     "execution_count": 60,
     "metadata": {},
     "output_type": "execute_result"
    }
   ],
   "source": [
    "secrets.token_urlsafe()"
   ]
  },
  {
   "cell_type": "code",
   "execution_count": 61,
   "metadata": {},
   "outputs": [
    {
     "data": {
      "text/plain": [
       "'28dbfdf2897adaa53a91db7808cf4db2be10b0acec95af019dbbaf06ef356e73'"
      ]
     },
     "execution_count": 61,
     "metadata": {},
     "output_type": "execute_result"
    }
   ],
   "source": [
    "secrets.token_hex()"
   ]
  },
  {
   "cell_type": "markdown",
   "metadata": {},
   "source": [
    "### 📚 Documentation: [https://docs.python.org/3/library/secrets.html](https://docs.python.org/3/library/secrets.html)"
   ]
  },
  {
   "cell_type": "markdown",
   "metadata": {},
   "source": [
    "## 9️⃣. argparse"
   ]
  },
  {
   "cell_type": "markdown",
   "metadata": {},
   "source": [
    "Are you good at the command-line? Then, you are one of the few. Also, you will love the `argparse` library. You can make your static Python scripts accept user input through CLI keyword arguments. \n",
    "\n",
    "The library is rich in functionality, enough to create complex CLI applications for your script or even a package."
   ]
  },
  {
   "cell_type": "markdown",
   "metadata": {},
   "source": [
    "```python\n",
    "import argparse\n",
    "\n",
    "parser = argparse.ArgumentParser(\n",
    "    prog=\"Quadratic equation solver in the form of ax^2 + bx + c = 0\",\n",
    "    epilog=\"Good luck!\",\n",
    ")\n",
    "\n",
    "parser.add_argument(\"a\", help=\"The first coefficient\")\n",
    "parser.add_argument(\"b\", help=\"The second coefficient\")\n",
    "parser.add_argument(\"c\", help=\"The last coefficient\")\n",
    "\n",
    "args = parser.parse_args()\n",
    "\n",
    "print(f\"The equation is ({args.a}x^2) + ({args.b}x) + ({args.c}) = 0\")\n",
    "```\n",
    "\n",
    "```shell\n",
    "$ python example.py 1 -5 6\n",
    "The equation is (1x^2) + (-5x) + (6) = 0\n",
    "```"
   ]
  },
  {
   "cell_type": "markdown",
   "metadata": {},
   "source": [
    "I highly recommend checking out the RealPython article for a comprehensive overview of the library."
   ]
  },
  {
   "cell_type": "markdown",
   "metadata": {},
   "source": [
    "### 📚 Documentation: [https://docs.python.org/3/library/argparse.html](https://docs.python.org/3/library/argparse.html)\n",
    "### 💻 Demo tutorial: [Real Python](https://realpython.com/command-line-interfaces-python-argparse/ )"
   ]
  },
  {
   "cell_type": "markdown",
   "metadata": {},
   "source": [
    "## 🔟. random"
   ]
  },
  {
   "cell_type": "markdown",
   "metadata": {},
   "source": [
    "> There are no coincidences in this world - Oogway.\n",
    "\n",
    "Maybe that's why scientists use pseudorandomness, that pure randomness doesn't exist. \n",
    "\n",
    "Anyway, the `random` module in Python should be more than enough to simulate basic *chance* events:"
   ]
  },
  {
   "cell_type": "code",
   "execution_count": 24,
   "metadata": {},
   "outputs": [
    {
     "data": {
      "text/plain": [
       "-1.1497306720936395"
      ]
     },
     "execution_count": 24,
     "metadata": {},
     "output_type": "execute_result"
    }
   ],
   "source": [
    "import random\n",
    "\n",
    "normal_dist = random.gauss(0, 1)\n",
    "normal_dist"
   ]
  },
  {
   "cell_type": "code",
   "execution_count": 25,
   "metadata": {},
   "outputs": [
    {
     "data": {
      "text/plain": [
       "444"
      ]
     },
     "execution_count": 25,
     "metadata": {},
     "output_type": "execute_result"
    }
   ],
   "source": [
    "random.choice(list(range(1000)))"
   ]
  },
  {
   "cell_type": "code",
   "execution_count": 26,
   "metadata": {},
   "outputs": [
    {
     "data": {
      "text/plain": [
       "[1, 6, 5, 4, 0, 8, 2, 7, 3, 9]"
      ]
     },
     "execution_count": 26,
     "metadata": {},
     "output_type": "execute_result"
    }
   ],
   "source": [
    "unordered = list(range(10))\n",
    "\n",
    "random.shuffle(unordered)\n",
    "unordered"
   ]
  },
  {
   "cell_type": "markdown",
   "metadata": {},
   "source": [
    "### 📚 Documentation: [https://docs.python.org/3/library/random.html](https://docs.python.org/3/library/random.html)"
   ]
  },
  {
   "cell_type": "markdown",
   "metadata": {},
   "source": [
    "## 1️⃣1️⃣. pickle"
   ]
  },
  {
   "cell_type": "markdown",
   "metadata": {},
   "source": [
    "Just as dataset sizes are getting larger and larger, so are our needs to store them faster and more efficiently. One of the alternatives to flat CSV files that come natively with your Python installation is `pickle` file format. In fact, it is 80 times faster than CSVs at IO and occupies smaller memory. \n",
    "\n",
    "Here is an example that pickles a dataset and loads it back:"
   ]
  },
  {
   "cell_type": "code",
   "execution_count": 27,
   "metadata": {},
   "outputs": [],
   "source": [
    "import pickle\n",
    "\n",
    "import seaborn as sns\n",
    "\n",
    "df = sns.load_dataset(\"diamonds\")\n",
    "\n",
    "with open(\"data/diamonds.pkl\", \"wb\") as file:\n",
    "    pickle.dump(df, file)"
   ]
  },
  {
   "cell_type": "code",
   "execution_count": 28,
   "metadata": {},
   "outputs": [],
   "source": [
    "with open(\"data/diamonds.pkl\", \"rb\") as file:\n",
    "    df_loaded = pickle.load(file)"
   ]
  },
  {
   "cell_type": "code",
   "execution_count": 29,
   "metadata": {},
   "outputs": [
    {
     "data": {
      "text/html": [
       "<div>\n",
       "<style scoped>\n",
       "    .dataframe tbody tr th:only-of-type {\n",
       "        vertical-align: middle;\n",
       "    }\n",
       "\n",
       "    .dataframe tbody tr th {\n",
       "        vertical-align: top;\n",
       "    }\n",
       "\n",
       "    .dataframe thead th {\n",
       "        text-align: right;\n",
       "    }\n",
       "</style>\n",
       "<table border=\"1\" class=\"dataframe\">\n",
       "  <thead>\n",
       "    <tr style=\"text-align: right;\">\n",
       "      <th></th>\n",
       "      <th>carat</th>\n",
       "      <th>cut</th>\n",
       "      <th>color</th>\n",
       "      <th>clarity</th>\n",
       "      <th>depth</th>\n",
       "      <th>table</th>\n",
       "      <th>price</th>\n",
       "      <th>x</th>\n",
       "      <th>y</th>\n",
       "      <th>z</th>\n",
       "    </tr>\n",
       "  </thead>\n",
       "  <tbody>\n",
       "    <tr>\n",
       "      <th>0</th>\n",
       "      <td>0.23</td>\n",
       "      <td>Ideal</td>\n",
       "      <td>E</td>\n",
       "      <td>SI2</td>\n",
       "      <td>61.5</td>\n",
       "      <td>55.0</td>\n",
       "      <td>326</td>\n",
       "      <td>3.95</td>\n",
       "      <td>3.98</td>\n",
       "      <td>2.43</td>\n",
       "    </tr>\n",
       "    <tr>\n",
       "      <th>1</th>\n",
       "      <td>0.21</td>\n",
       "      <td>Premium</td>\n",
       "      <td>E</td>\n",
       "      <td>SI1</td>\n",
       "      <td>59.8</td>\n",
       "      <td>61.0</td>\n",
       "      <td>326</td>\n",
       "      <td>3.89</td>\n",
       "      <td>3.84</td>\n",
       "      <td>2.31</td>\n",
       "    </tr>\n",
       "    <tr>\n",
       "      <th>2</th>\n",
       "      <td>0.23</td>\n",
       "      <td>Good</td>\n",
       "      <td>E</td>\n",
       "      <td>VS1</td>\n",
       "      <td>56.9</td>\n",
       "      <td>65.0</td>\n",
       "      <td>327</td>\n",
       "      <td>4.05</td>\n",
       "      <td>4.07</td>\n",
       "      <td>2.31</td>\n",
       "    </tr>\n",
       "    <tr>\n",
       "      <th>3</th>\n",
       "      <td>0.29</td>\n",
       "      <td>Premium</td>\n",
       "      <td>I</td>\n",
       "      <td>VS2</td>\n",
       "      <td>62.4</td>\n",
       "      <td>58.0</td>\n",
       "      <td>334</td>\n",
       "      <td>4.20</td>\n",
       "      <td>4.23</td>\n",
       "      <td>2.63</td>\n",
       "    </tr>\n",
       "    <tr>\n",
       "      <th>4</th>\n",
       "      <td>0.31</td>\n",
       "      <td>Good</td>\n",
       "      <td>J</td>\n",
       "      <td>SI2</td>\n",
       "      <td>63.3</td>\n",
       "      <td>58.0</td>\n",
       "      <td>335</td>\n",
       "      <td>4.34</td>\n",
       "      <td>4.35</td>\n",
       "      <td>2.75</td>\n",
       "    </tr>\n",
       "  </tbody>\n",
       "</table>\n",
       "</div>"
      ],
      "text/plain": [
       "   carat      cut color clarity  depth  table  price     x     y     z\n",
       "0   0.23    Ideal     E     SI2   61.5   55.0    326  3.95  3.98  2.43\n",
       "1   0.21  Premium     E     SI1   59.8   61.0    326  3.89  3.84  2.31\n",
       "2   0.23     Good     E     VS1   56.9   65.0    327  4.05  4.07  2.31\n",
       "3   0.29  Premium     I     VS2   62.4   58.0    334  4.20  4.23  2.63\n",
       "4   0.31     Good     J     SI2   63.3   58.0    335  4.34  4.35  2.75"
      ]
     },
     "execution_count": 29,
     "metadata": {},
     "output_type": "execute_result"
    }
   ],
   "source": [
    "df_loaded.head()"
   ]
  },
  {
   "cell_type": "markdown",
   "metadata": {},
   "source": [
    "### 📚 Documentation: [https://docs.python.org/3/library/pickle.html](https://docs.python.org/3/library/pickle.html)"
   ]
  },
  {
   "cell_type": "markdown",
   "metadata": {},
   "source": [
    "### 💻 Comparison article by Dario Radecic: [link](https://towardsdatascience.com/stop-using-csvs-for-storage-pickle-is-an-80-times-faster-alternative-832041bbc199)"
   ]
  },
  {
   "cell_type": "markdown",
   "metadata": {},
   "source": [
    "## 1️⃣2️⃣. shutil"
   ]
  },
  {
   "cell_type": "markdown",
   "metadata": {},
   "source": [
    "The `shutil` library, standing for *shell utilities* is a module for advanced file operations. With `shutil`, you can copy, move, delete, archive or do any file operation that you would normally perform in the file explorer or on the terminal:"
   ]
  },
  {
   "cell_type": "code",
   "execution_count": 30,
   "metadata": {},
   "outputs": [
    {
     "data": {
      "text/plain": [
       "['COPY_BUFSIZE',\n",
       " 'Error',\n",
       " 'ExecError',\n",
       " 'ReadError',\n",
       " 'RegistryError',\n",
       " 'SameFileError',\n",
       " 'SpecialFileError',\n",
       " '_ARCHIVE_FORMATS',\n",
       " '_BZ2_SUPPORTED',\n",
       " '_GiveupOnFastCopy',\n",
       " '_HAS_FCOPYFILE',\n",
       " '_LZMA_SUPPORTED',\n",
       " '_UNPACK_FORMATS',\n",
       " '_USE_CP_SENDFILE',\n",
       " '_WINDOWS',\n",
       " '_ZLIB_SUPPORTED',\n",
       " '__all__',\n",
       " '__builtins__',\n",
       " '__cached__',\n",
       " '__doc__',\n",
       " '__file__',\n",
       " '__loader__',\n",
       " '__name__',\n",
       " '__package__',\n",
       " '__spec__',\n",
       " '_access_check',\n",
       " '_basename',\n",
       " '_check_unpack_options',\n",
       " '_copyfileobj_readinto',\n",
       " '_copytree',\n",
       " '_copyxattr',\n",
       " '_destinsrc',\n",
       " '_ensure_directory',\n",
       " '_fastcopy_fcopyfile',\n",
       " '_fastcopy_sendfile',\n",
       " '_find_unpack_format',\n",
       " '_get_gid',\n",
       " '_get_uid',\n",
       " '_islink',\n",
       " '_make_tarball',\n",
       " '_make_zipfile',\n",
       " '_ntuple_diskusage',\n",
       " '_rmtree_isdir',\n",
       " '_rmtree_islink',\n",
       " '_rmtree_safe_fd',\n",
       " '_rmtree_unsafe',\n",
       " '_samefile',\n",
       " '_stat',\n",
       " '_unpack_tarfile',\n",
       " '_unpack_zipfile',\n",
       " '_use_fd_functions',\n",
       " 'chown',\n",
       " 'collections',\n",
       " 'copy',\n",
       " 'copy2',\n",
       " 'copyfile',\n",
       " 'copyfileobj',\n",
       " 'copymode',\n",
       " 'copystat',\n",
       " 'copytree',\n",
       " 'disk_usage',\n",
       " 'errno',\n",
       " 'fnmatch',\n",
       " 'get_archive_formats',\n",
       " 'get_terminal_size',\n",
       " 'get_unpack_formats',\n",
       " 'getgrnam',\n",
       " 'getpwnam',\n",
       " 'ignore_patterns',\n",
       " 'make_archive',\n",
       " 'move',\n",
       " 'nt',\n",
       " 'os',\n",
       " 'posix',\n",
       " 'register_archive_format',\n",
       " 'register_unpack_format',\n",
       " 'rmtree',\n",
       " 'stat',\n",
       " 'sys',\n",
       " 'unpack_archive',\n",
       " 'unregister_archive_format',\n",
       " 'unregister_unpack_format',\n",
       " 'which']"
      ]
     },
     "execution_count": 30,
     "metadata": {},
     "output_type": "execute_result"
    }
   ],
   "source": [
    "import shutil\n",
    "\n",
    "dir(shutil)"
   ]
  },
  {
   "cell_type": "code",
   "execution_count": 32,
   "metadata": {},
   "outputs": [
    {
     "data": {
      "text/plain": [
       "'C:\\\\Users\\\\User\\\\anaconda3\\\\Library\\\\bin\\\\conda.BAT'"
      ]
     },
     "execution_count": 32,
     "metadata": {},
     "output_type": "execute_result"
    }
   ],
   "source": [
    "shutil.which(\"conda\")"
   ]
  },
  {
   "cell_type": "code",
   "execution_count": 33,
   "metadata": {},
   "outputs": [
    {
     "data": {
      "text/plain": [
       "'data/pickles/diamonds.pkl'"
      ]
     },
     "execution_count": 33,
     "metadata": {},
     "output_type": "execute_result"
    }
   ],
   "source": [
    "shutil.move(\"data/diamonds.pkl\", \"data/pickles/diamonds.pkl\")"
   ]
  },
  {
   "cell_type": "markdown",
   "metadata": {},
   "source": [
    "### 📚 Documentation: [https://docs.python.org/3/library/shutil.html](https://docs.python.org/3/library/shutil.html)"
   ]
  },
  {
   "cell_type": "markdown",
   "metadata": {},
   "source": [
    "## 1️⃣3️⃣. statistics"
   ]
  },
  {
   "cell_type": "markdown",
   "metadata": {},
   "source": [
    "Who even needs NumPy or SciPy when there is the `statistics` module? (Actually, everyone does - I just wanted to write a dramatic sentence).\n",
    "\n",
    "This module can come in handy when you want to perform common statistical computations on pure Python arrays. There is no need to install third-party packages if all you need is to make a simple calculation."
   ]
  },
  {
   "cell_type": "code",
   "execution_count": 34,
   "metadata": {},
   "outputs": [
    {
     "data": {
      "text/plain": [
       "508.506"
      ]
     },
     "execution_count": 34,
     "metadata": {},
     "output_type": "execute_result"
    }
   ],
   "source": [
    "import statistics\n",
    "\n",
    "array = [random.randint(1, 1000) for _ in range(1000)]\n",
    "array2 = [random.randint(1, 1000) for _ in range(1000)]\n",
    "\n",
    "statistics.mean(array)"
   ]
  },
  {
   "cell_type": "code",
   "execution_count": 35,
   "metadata": {},
   "outputs": [
    {
     "data": {
      "text/plain": [
       "285.835948210314"
      ]
     },
     "execution_count": 35,
     "metadata": {},
     "output_type": "execute_result"
    }
   ],
   "source": [
    "statistics.stdev(array2)"
   ]
  },
  {
   "cell_type": "code",
   "execution_count": 36,
   "metadata": {},
   "outputs": [
    {
     "data": {
      "text/plain": [
       "[103.2, 199.6, 323.3, 412.2, 512.5, 601.0, 696.0, 789.0, 900.9]"
      ]
     },
     "execution_count": 36,
     "metadata": {},
     "output_type": "execute_result"
    }
   ],
   "source": [
    "statistics.quantiles(array2, n=10)"
   ]
  },
  {
   "cell_type": "markdown",
   "metadata": {},
   "source": [
    "### 📚Documentation: [https://docs.python.org/3/library/statistics.html](https://docs.python.org/3/library/statistics.html)"
   ]
  },
  {
   "cell_type": "markdown",
   "metadata": {},
   "source": [
    "## 1️⃣4️⃣. gc"
   ]
  },
  {
   "cell_type": "markdown",
   "metadata": {},
   "source": [
    "Python really pulls out all the stops. It comes with everything - from package managers right up to *garbage collectors*. \n",
    "\n",
    "Yeah, you heard (/read) it right. The `gc` module serves as a garbage collector in Python programs once enabled. In [lower-level languages](https://en.wikipedia.org/wiki/Low-level_programming_language), this irksome task is left to the developer, who has to allocate and release chunks of memory required in the program. "
   ]
  },
  {
   "cell_type": "code",
   "execution_count": 37,
   "metadata": {},
   "outputs": [],
   "source": [
    "import gc\n",
    "\n",
    "gc.enable()"
   ]
  },
  {
   "cell_type": "code",
   "execution_count": 38,
   "metadata": {},
   "outputs": [
    {
     "data": {
      "text/plain": [
       "44"
      ]
     },
     "execution_count": 38,
     "metadata": {},
     "output_type": "execute_result"
    }
   ],
   "source": [
    "gc.collect()"
   ]
  },
  {
   "cell_type": "markdown",
   "metadata": {},
   "source": [
    "The `collect` function returns the number of unreachable objects found and cleaned within the namespace. In simple terms, the function releases the memory slot of unused objects. You can read more about memory management of Python below."
   ]
  },
  {
   "cell_type": "markdown",
   "metadata": {},
   "source": [
    "### 📚Documentation: [https://docs.python.org/3/library/gc.html](https://docs.python.org/3/library/gc.html)\n",
    "### 💻Memory management in Python - [link](https://towardsdatascience.com/memory-management-and-garbage-collection-in-python-c1cb51d1612c)"
   ]
  },
  {
   "cell_type": "markdown",
   "metadata": {},
   "source": [
    "## 1️⃣5️⃣. pprint"
   ]
  },
  {
   "cell_type": "markdown",
   "metadata": {},
   "source": [
    "Some outputs coming from certain operations are just too horrific to look at. Do your eyes a favor and use the `pprint` package for smart indentations and pretty outputs:"
   ]
  },
  {
   "cell_type": "code",
   "execution_count": 10,
   "metadata": {},
   "outputs": [
    {
     "name": "stdout",
     "output_type": "stream",
     "text": [
      "[['a', 'b', 'c', 's'], ['s', 'd', 'f', 'f'], [1, 45, 4, 6, 7, 8], [0, 1, 2, 3, 4, 5, 6, 7, 8, 9, 10, 11]]\n"
     ]
    }
   ],
   "source": [
    "nested = [list(\"abcs\"), list(\"sdff\"), [1, 45, 4, 6, 7, 8], list(range(12))]\n",
    "\n",
    "print(nested)"
   ]
  },
  {
   "cell_type": "code",
   "execution_count": 11,
   "metadata": {},
   "outputs": [
    {
     "name": "stdout",
     "output_type": "stream",
     "text": [
      "[['a', 'b', 'c', 's'],\n",
      " ['s', 'd', 'f', 'f'],\n",
      " [1, 45, 4, 6, 7, 8],\n",
      " [0, 1, 2, 3, 4, 5, 6, 7, 8, 9, 10, 11]]\n"
     ]
    }
   ],
   "source": [
    "from pprint import pprint\n",
    "\n",
    "pprint(nested)"
   ]
  },
  {
   "cell_type": "markdown",
   "metadata": {},
   "source": [
    "For even more complex outputs and custom printing options, you can create printer objects with `pprint` and use them multiple times over. Details are in the docs."
   ]
  },
  {
   "cell_type": "markdown",
   "metadata": {},
   "source": [
    "### 📚 Documentation: [https://docs.python.org/3/library/pprint.html](https://docs.python.org/3/library/pprint.html)"
   ]
  },
  {
   "cell_type": "markdown",
   "metadata": {},
   "source": [
    "## 1️⃣6️⃣. pydoc"
   ]
  },
  {
   "cell_type": "markdown",
   "metadata": {},
   "source": [
    "> Code is more often read than written - Guido Van Rossum.\n",
    "\n",
    "Guess what? I love documentations and writing them for my own code (don't be surprised, I am a bit of an OCD).\n",
    "\n",
    "Hate it or love it - documenting your code is a necessary evil. It becomes essentially important for larger projects. In such cases, you can use the `pydoc` CLI library to automatically generate docs on the browser or save it to HTML using the docstrings of your classes and functions. "
   ]
  },
  {
   "cell_type": "markdown",
   "metadata": {},
   "source": [
    "![](images/1.gif)"
   ]
  },
  {
   "cell_type": "markdown",
   "metadata": {},
   "source": [
    "It can serve as a preliminary overview tool before you deploy your docs to other services like Read the Docs."
   ]
  },
  {
   "cell_type": "markdown",
   "metadata": {},
   "source": [
    "### 📚Documentation: [https://docs.python.org/3/library/pydoc.html](https://docs.python.org/3/library/pydoc.html)"
   ]
  },
  {
   "cell_type": "markdown",
   "metadata": {},
   "source": [
    "### 💻 [Guide to documenting your code - Real Python](https://realpython.com/documenting-python-code/)"
   ]
  },
  {
   "cell_type": "markdown",
   "metadata": {},
   "source": [
    "## 1️⃣7️⃣. calendar"
   ]
  },
  {
   "cell_type": "markdown",
   "metadata": {},
   "source": [
    "What the HECK is going on in this September?\n",
    "\n",
    "![](images/7.png)"
   ]
  },
  {
   "cell_type": "markdown",
   "metadata": {},
   "source": [
    "Apparently, there were 19 days in September 1752 in the UK. Where did 3, 4, ... 13 go? Well, it is all about the giant mess about switching from the Julian Calendar to Gregorian, which the UK was very stubborn about till the 1750s. You can watch it [here](https://youtu.be/IJhgZBn-LHg)."
   ]
  },
  {
   "cell_type": "markdown",
   "metadata": {},
   "source": [
    "This was the case only in the UK. The rest of the world had sense and was following through the correct course of time, as can be seen using the `calendar` module:"
   ]
  },
  {
   "cell_type": "code",
   "execution_count": 63,
   "metadata": {},
   "outputs": [
    {
     "name": "stdout",
     "output_type": "stream",
     "text": [
      "   September 1752\n",
      "Mo Tu We Th Fr Sa Su\n",
      "             1  2  3\n",
      " 4  5  6  7  8  9 10\n",
      "11 12 13 14 15 16 17\n",
      "18 19 20 21 22 23 24\n",
      "25 26 27 28 29 30\n",
      "\n"
     ]
    }
   ],
   "source": [
    "import calendar\n",
    "\n",
    "print(calendar.month(1752, 9))"
   ]
  },
  {
   "cell_type": "markdown",
   "metadata": {},
   "source": [
    "Python takes time seriously. "
   ]
  },
  {
   "cell_type": "code",
   "execution_count": 42,
   "metadata": {},
   "outputs": [
    {
     "data": {
      "text/plain": [
       "490"
      ]
     },
     "execution_count": 42,
     "metadata": {},
     "output_type": "execute_result"
    }
   ],
   "source": [
    "# Return number of leap days within a range\n",
    "calendar.leapdays(1, 2022)"
   ]
  },
  {
   "cell_type": "markdown",
   "metadata": {},
   "source": [
    "### 📚Documentation: [https://docs.python.org/3/library/calendar.html](https://docs.python.org/3/library/calendar.html)"
   ]
  },
  {
   "cell_type": "markdown",
   "metadata": {},
   "source": [
    "## 1️⃣8️⃣. webbrowser"
   ]
  },
  {
   "cell_type": "markdown",
   "metadata": {},
   "source": [
    "Imagine jumping straight to StackOverflow from your Jupyter Notebook or your Python script. Why would even do that?\n",
    "\n",
    "Well, because you CAN... with the `webbrowser` module."
   ]
  },
  {
   "cell_type": "markdown",
   "metadata": {},
   "source": [
    "![](images/2.gif)"
   ]
  },
  {
   "cell_type": "markdown",
   "metadata": {},
   "source": [
    "### 📚Documentation: [https://docs.python.org/3/library/webbrowser.html](https://docs.python.org/3/library/webbrowser.html)"
   ]
  },
  {
   "cell_type": "markdown",
   "metadata": {},
   "source": [
    "## 1️⃣9️⃣. logging"
   ]
  },
  {
   "cell_type": "markdown",
   "metadata": {},
   "source": [
    "One of the signs that you are looking at a seasoned developer is the lack of print statements in their code. The vanilla `print` function won't just cut it for the myriad of use-cases you have to deal with while coding and debugging. You need to use more sophisticated tools like `logging`.\n",
    "\n",
    "This module lets you log messages with different priorities and custom formatted timestamps. Here is the one I use daily: "
   ]
  },
  {
   "cell_type": "code",
   "execution_count": 43,
   "metadata": {},
   "outputs": [],
   "source": [
    "import logging\n",
    "\n",
    "# Set the log format\n",
    "logging.basicConfig(\n",
    "    format=\"%(asctime)s - %(message)s\", datefmt=\"%d-%b-%y %H:%M:%S\", level=logging.INFO\n",
    ")"
   ]
  },
  {
   "cell_type": "code",
   "execution_count": 44,
   "metadata": {},
   "outputs": [
    {
     "name": "stderr",
     "output_type": "stream",
     "text": [
      "31-Dec-21 20:26:30 - Finished execution\n"
     ]
    }
   ],
   "source": [
    "logging.info(\"Finished execution\")"
   ]
  },
  {
   "cell_type": "code",
   "execution_count": 45,
   "metadata": {},
   "outputs": [
    {
     "name": "stderr",
     "output_type": "stream",
     "text": [
      "31-Dec-21 20:26:30 - Critical error!\n"
     ]
    }
   ],
   "source": [
    "logging.critical(\"Critical error!\")"
   ]
  },
  {
   "cell_type": "markdown",
   "metadata": {},
   "source": [
    "### 📚 Documentation: [https://docs.python.org/3/library/logging.html](https://docs.python.org/3/library/logging.html)\n",
    "### 💻 Excellent tutorial on logging in Python: [Real Python](https://realpython.com/python-logging/)"
   ]
  },
  {
   "cell_type": "markdown",
   "metadata": {},
   "source": [
    "## 2️⃣0️⃣. concurrent.futures"
   ]
  },
  {
   "cell_type": "markdown",
   "metadata": {},
   "source": [
    "I have left something juicy for the end. This library is about executing operations concurrently, as in multithreading.\n",
    "\n",
    "Below, I try to send 100 GET requests to a URL and get back the response. The process is slow and boring as the interpreter waits until each request comes back. That's what you get when you use loops."
   ]
  },
  {
   "cell_type": "code",
   "execution_count": 46,
   "metadata": {},
   "outputs": [
    {
     "name": "stderr",
     "output_type": "stream",
     "text": [
      "31-Dec-21 20:26:50 - 10check...\n",
      "31-Dec-21 20:27:08 - 10check...\n",
      "31-Dec-21 20:27:14 - 10check...\n",
      "31-Dec-21 20:27:30 - 10check...\n",
      "31-Dec-21 20:27:45 - 10check...\n",
      "31-Dec-21 20:27:51 - 10check...\n",
      "31-Dec-21 20:27:58 - 10check...\n",
      "31-Dec-21 20:28:04 - 10check...\n",
      "31-Dec-21 20:28:10 - 10check...\n",
      "31-Dec-21 20:28:16 - 10check...\n"
     ]
    },
    {
     "name": "stdout",
     "output_type": "stream",
     "text": [
      "This code block executed in 106.313 seconds.\n"
     ]
    }
   ],
   "source": [
    "import requests\n",
    "\n",
    "URL = \"https://www.google.com/\"\n",
    "\n",
    "\n",
    "def get(url: str):\n",
    "    response = requests.get(url)\n",
    "\n",
    "    return response.content\n",
    "\n",
    "\n",
    "with timer():\n",
    "    for index, _ in enumerate(range(101), 1):\n",
    "        if index % 10 == 0:\n",
    "            logging.info(\"10check...\")\n",
    "        get(URL)"
   ]
  },
  {
   "cell_type": "markdown",
   "metadata": {},
   "source": [
    "A much smarter approach is to use concurrency and use all the cores on your machine. The `concurrent.futures` package enables you to do this. Here is the basic syntax:"
   ]
  },
  {
   "cell_type": "code",
   "execution_count": 47,
   "metadata": {},
   "outputs": [
    {
     "name": "stderr",
     "output_type": "stream",
     "text": [
      "31-Dec-21 20:28:17 - 10check...\n",
      "31-Dec-21 20:28:17 - 10check...\n",
      "31-Dec-21 20:28:17 - 10check...\n",
      "31-Dec-21 20:28:17 - 10check...\n",
      "31-Dec-21 20:28:17 - 10check...\n",
      "31-Dec-21 20:28:17 - 10check...\n",
      "31-Dec-21 20:28:17 - 10check...\n",
      "31-Dec-21 20:28:17 - 10check...\n",
      "31-Dec-21 20:28:17 - 10check...\n",
      "31-Dec-21 20:28:17 - 10check...\n"
     ]
    },
    {
     "name": "stdout",
     "output_type": "stream",
     "text": [
      "This code block executed in 7.929 seconds.\n"
     ]
    }
   ],
   "source": [
    "import concurrent.futures as cf\n",
    "\n",
    "# Initiate a timer\n",
    "with timer():\n",
    "    # Initiate a pool\n",
    "    with cf.ThreadPoolExecutor() as tpe:\n",
    "        for index, _ in enumerate(range(100), 1):\n",
    "            if index % 10 == 0:\n",
    "                logging.info(\"10check...\")\n",
    "            tpe.submit(get, URL)"
   ]
  },
  {
   "cell_type": "markdown",
   "metadata": {},
   "source": [
    "The runtime decreased 12 times, as concurrency allowed sending multiple requests simultaneously using all the cores. You can read more about concurrency in the below tutorial."
   ]
  },
  {
   "cell_type": "markdown",
   "metadata": {},
   "source": [
    "### 📚 Documentation: [https://docs.python.org/3/library/concurrent.futures.html](https://docs.python.org/3/library/concurrent.futures.html)\n",
    "### 💻 Demo tutorial: [Article](https://towardsdatascience.com/concurrency-in-python-how-to-speed-up-your-code-with-threads-bb89d67c1bc9) by Dario Radecic"
   ]
  },
  {
   "cell_type": "markdown",
   "metadata": {},
   "source": [
    "## Conclusion"
   ]
  },
  {
   "cell_type": "markdown",
   "metadata": {},
   "source": [
    "There is no need to overcomplicate things. If you don't need them, there is no need to saturate your virtual environment with heavy packages. Having a few built-in packages up your sleeve might just be enough. Remember, \"Simple is better than complex\" - [the Zen of Python](https://www.python.org/dev/peps/pep-0020/#id2)."
   ]
  },
  {
   "cell_type": "markdown",
   "metadata": {},
   "source": [
    "https://ibexorigin.medium.com/membership"
   ]
  },
  {
   "cell_type": "markdown",
   "metadata": {},
   "source": [
    "Reach out to me on [LinkendIn](https://www.linkedin.com/in/bextuychiev/) or [Twitter](https://twitter.com/BexTuychiev) for a friendly chat about all things data. Or you can just read another story from me. How about these:\n",
    "\n",
    "https://towardsdatascience.com/8-booming-data-science-libraries-you-must-watch-out-in-2022-cec2dbb42437\n",
    "\n",
    "https://towardsdatascience.com/6-pandas-mistakes-that-silently-tell-you-are-a-rookie-b566a252e60d\n",
    "\n",
    "https://towardsdatascience.com/7-cool-python-packages-kagglers-are-using-without-telling-you-e83298781cf4\n",
    "\n",
    "https://towardsdatascience.com/how-to-beat-the-heck-out-of-xgboost-with-lightgbm-comprehensive-tutorial-5eba52195997\n",
    "\n",
    "https://towardsdatascience.com/why-is-everyone-at-kaggle-obsessed-with-optuna-for-hyperparameter-tuning-7608fdca337c\n",
    "\n",
    "https://towardsdatascience.com/matplotlib-vs-plotly-lets-decide-once-and-for-all-ad25a5e43322\n"
   ]
  }
 ],
 "metadata": {
  "kernelspec": {
   "display_name": "medium_articles",
   "language": "python",
   "name": "medium_articles"
  },
  "language_info": {
   "codemirror_mode": {
    "name": "ipython",
    "version": 3
   },
   "file_extension": ".py",
   "mimetype": "text/x-python",
   "name": "python",
   "nbconvert_exporter": "python",
   "pygments_lexer": "ipython3",
   "version": "3.8.5"
  }
 },
 "nbformat": 4,
 "nbformat_minor": 5
}
