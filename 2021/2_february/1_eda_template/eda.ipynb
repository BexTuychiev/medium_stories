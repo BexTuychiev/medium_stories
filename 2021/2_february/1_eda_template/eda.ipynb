{
 "cells": [
  {
   "cell_type": "markdown",
   "metadata": {
    "papermill": {
     "duration": 0.059926,
     "end_time": "2021-02-03T09:59:55.138223",
     "exception": false,
     "start_time": "2021-02-03T09:59:55.078297",
     "status": "completed"
    },
    "tags": []
   },
   "source": [
    "# My 5-part Powerful EDA Template That Speaks of Ultimate Skill\n",
    "## It is hard to stand out guys...\n",
    "<img src='https://cdn-images-1.medium.com/max/1200/1*JwZ7l0LNnIVP9bPNjI8KZQ.jpeg'></img>\n",
    "<figcaption style=\"text-align: center;\">\n",
    "    <strong>\n",
    "        Photo by \n",
    "        <a href='https://pixabay.com/users/gam-ol-2829280/?utm_source=link-attribution&utm_medium=referral&utm_campaign=image&utm_content=3319946'>Oleg Gamulinskiy</a>\n",
    "        on \n",
    "        <a href='https://pixabay.com/?utm_source=link-attribution&utm_medium=referral&utm_campaign=image&utm_content=3319946'>Pixabay</a>\n",
    "    </strong>\n",
    "</figcaption>"
   ]
  },
  {
   "cell_type": "markdown",
   "metadata": {
    "papermill": {
     "duration": 0.059048,
     "end_time": "2021-02-03T09:59:55.255970",
     "exception": false,
     "start_time": "2021-02-03T09:59:55.196922",
     "status": "completed"
    },
    "tags": []
   },
   "source": [
    "# 1. Introduction to the Dataset And The Aim of the EDA"
   ]
  },
  {
   "cell_type": "markdown",
   "metadata": {
    "papermill": {
     "duration": 0.058689,
     "end_time": "2021-02-03T09:59:55.373424",
     "exception": false,
     "start_time": "2021-02-03T09:59:55.314735",
     "status": "completed"
    },
    "tags": []
   },
   "source": [
    "Today, more and more businesses are offering their services through mobile applications. Because of this massive number of apps it is hard to compete and get your product in front of potential customers. So, it is important to make thorough research into your niche category and find out how you would stack up against your competitors. \n",
    "\n",
    "This [dataset](https://www.kaggle.com/gauthamp10/google-playstore-apps) of more than 1 million apps on the Google Play Store can be used for exactly that purpose. This notebook tries to compare the performance of free and paid apps in the top 8 most popular app categories on Google Play Store (excluding games):\n",
    "- Education\n",
    "- Business\n",
    "- Music & Audio\n",
    "- Tools\n",
    "- Entertainment\n",
    "- Lifestyle\n",
    "- Books & Reference\n",
    "- Food & Drink"
   ]
  },
  {
   "cell_type": "markdown",
   "metadata": {
    "papermill": {
     "duration": 0.059624,
     "end_time": "2021-02-03T09:59:55.491461",
     "exception": false,
     "start_time": "2021-02-03T09:59:55.431837",
     "status": "completed"
    },
    "tags": []
   },
   "source": [
    "## 1.1 Library Setup and Read in the Data"
   ]
  },
  {
   "cell_type": "markdown",
   "metadata": {
    "papermill": {
     "duration": 0.058751,
     "end_time": "2021-02-03T09:59:55.607516",
     "exception": false,
     "start_time": "2021-02-03T09:59:55.548765",
     "status": "completed"
    },
    "tags": []
   },
   "source": [
    "You will need to install additional libraries: `empiricaldist` and `missingno`:"
   ]
  },
  {
   "cell_type": "code",
   "execution_count": 1,
   "metadata": {
    "execution": {
     "iopub.execute_input": "2021-02-03T10:00:13.843242Z",
     "iopub.status.busy": "2021-02-03T10:00:13.832108Z",
     "iopub.status.idle": "2021-02-03T10:00:14.863643Z",
     "shell.execute_reply": "2021-02-03T10:00:14.864168Z"
    },
    "papermill": {
     "duration": 1.104462,
     "end_time": "2021-02-03T10:00:14.864376",
     "exception": false,
     "start_time": "2021-02-03T10:00:13.759914",
     "status": "completed"
    },
    "tags": []
   },
   "outputs": [],
   "source": [
    "# Base libraries\n",
    "import time\n",
    "import datetime\n",
    "import os\n",
    "\n",
    "# Scientific libraries\n",
    "import numpy as np\n",
    "import pandas as pd\n",
    "from empiricaldist import Cdf, Pmf\n",
    "\n",
    "# Visual libraries\n",
    "import matplotlib.pyplot as plt\n",
    "from matplotlib import rcParams\n",
    "import seaborn as sns\n",
    "import missingno as msno  # Visualize missing values\n",
    "\n",
    "# Helper libraries\n",
    "from tqdm.notebook import tqdm, trange\n",
    "from colorama import Fore, Back, Style\n",
    "import warnings\n",
    "warnings.filterwarnings('ignore')\n",
    "\n",
    "# Visual setup\n",
    "import matplotlib.ticker as ticker\n",
    "plt.style.use('ggplot')\n",
    "rcParams['axes.spines.right'] = False\n",
    "rcParams['axes.spines.top'] = False\n",
    "rcParams['figure.figsize'] = [12, 9]\n",
    "rcParams['font.size'] = 16\n",
    "plt.rc('xtick', labelsize=12)\n",
    "plt.rc('ytick', labelsize=12)\n",
    "custom_colors = ['#74a09e','#86c1b2','#98e2c6','#f3c969','#f2a553', '#d96548', '#c14953']\n",
    "sns.set_palette(custom_colors)\n",
    "%config InlineBackend.figure_format = 'retina'\n",
    "%config Completer.use_jedi = False\n",
    "\n",
    "# Pandas options\n",
    "pd.set_option('max_colwidth', 40)\n",
    "pd.options.display.max_columns = None  # Possible to limit\n",
    "from IPython.core.interactiveshell import InteractiveShell\n",
    "InteractiveShell.ast_node_interactivity = 'all'\n",
    "\n",
    "# Seed value for numpy.random\n",
    "np.random.seed(42)"
   ]
  },
  {
   "cell_type": "markdown",
   "metadata": {
    "papermill": {
     "duration": 0.065101,
     "end_time": "2021-02-03T10:00:14.991948",
     "exception": false,
     "start_time": "2021-02-03T10:00:14.926847",
     "status": "completed"
    },
    "tags": []
   },
   "source": [
    "Load in the data:"
   ]
  },
  {
   "cell_type": "code",
   "execution_count": 4,
   "metadata": {
    "execution": {
     "iopub.execute_input": "2021-02-03T10:00:15.122735Z",
     "iopub.status.busy": "2021-02-03T10:00:15.122024Z",
     "iopub.status.idle": "2021-02-03T10:00:29.122236Z",
     "shell.execute_reply": "2021-02-03T10:00:29.121054Z"
    },
    "papermill": {
     "duration": 14.067233,
     "end_time": "2021-02-03T10:00:29.122410",
     "exception": false,
     "start_time": "2021-02-03T10:00:15.055177",
     "status": "completed"
    },
    "tags": []
   },
   "outputs": [
    {
     "ename": "FileNotFoundError",
     "evalue": "[Errno 2] No such file or directory: 'data/Google-Playstore.csv'",
     "output_type": "error",
     "traceback": [
      "\u001b[1;31m---------------------------------------------------------------------------\u001b[0m",
      "\u001b[1;31mFileNotFoundError\u001b[0m                         Traceback (most recent call last)",
      "\u001b[1;32m<ipython-input-4-3bea16343b7d>\u001b[0m in \u001b[0;36m<module>\u001b[1;34m\u001b[0m\n\u001b[1;32m----> 1\u001b[1;33m \u001b[0mapps\u001b[0m \u001b[1;33m=\u001b[0m \u001b[0mpd\u001b[0m\u001b[1;33m.\u001b[0m\u001b[0mread_csv\u001b[0m\u001b[1;33m(\u001b[0m\u001b[1;34m'data/Google-Playstore.csv'\u001b[0m\u001b[1;33m)\u001b[0m\u001b[1;33m\u001b[0m\u001b[1;33m\u001b[0m\u001b[0m\n\u001b[0m\u001b[0;32m      2\u001b[0m \u001b[0mapps\u001b[0m\u001b[1;33m.\u001b[0m\u001b[0mhead\u001b[0m\u001b[1;33m(\u001b[0m\u001b[1;33m)\u001b[0m\u001b[1;33m\u001b[0m\u001b[1;33m\u001b[0m\u001b[0m\n",
      "\u001b[1;32m~\\anaconda3\\envs\\medium_articles\\lib\\site-packages\\pandas\\io\\parsers.py\u001b[0m in \u001b[0;36mread_csv\u001b[1;34m(filepath_or_buffer, sep, delimiter, header, names, index_col, usecols, squeeze, prefix, mangle_dupe_cols, dtype, engine, converters, true_values, false_values, skipinitialspace, skiprows, skipfooter, nrows, na_values, keep_default_na, na_filter, verbose, skip_blank_lines, parse_dates, infer_datetime_format, keep_date_col, date_parser, dayfirst, cache_dates, iterator, chunksize, compression, thousands, decimal, lineterminator, quotechar, quoting, doublequote, escapechar, comment, encoding, dialect, error_bad_lines, warn_bad_lines, delim_whitespace, low_memory, memory_map, float_precision)\u001b[0m\n\u001b[0;32m    684\u001b[0m     )\n\u001b[0;32m    685\u001b[0m \u001b[1;33m\u001b[0m\u001b[0m\n\u001b[1;32m--> 686\u001b[1;33m     \u001b[1;32mreturn\u001b[0m \u001b[0m_read\u001b[0m\u001b[1;33m(\u001b[0m\u001b[0mfilepath_or_buffer\u001b[0m\u001b[1;33m,\u001b[0m \u001b[0mkwds\u001b[0m\u001b[1;33m)\u001b[0m\u001b[1;33m\u001b[0m\u001b[1;33m\u001b[0m\u001b[0m\n\u001b[0m\u001b[0;32m    687\u001b[0m \u001b[1;33m\u001b[0m\u001b[0m\n\u001b[0;32m    688\u001b[0m \u001b[1;33m\u001b[0m\u001b[0m\n",
      "\u001b[1;32m~\\anaconda3\\envs\\medium_articles\\lib\\site-packages\\pandas\\io\\parsers.py\u001b[0m in \u001b[0;36m_read\u001b[1;34m(filepath_or_buffer, kwds)\u001b[0m\n\u001b[0;32m    450\u001b[0m \u001b[1;33m\u001b[0m\u001b[0m\n\u001b[0;32m    451\u001b[0m     \u001b[1;31m# Create the parser.\u001b[0m\u001b[1;33m\u001b[0m\u001b[1;33m\u001b[0m\u001b[1;33m\u001b[0m\u001b[0m\n\u001b[1;32m--> 452\u001b[1;33m     \u001b[0mparser\u001b[0m \u001b[1;33m=\u001b[0m \u001b[0mTextFileReader\u001b[0m\u001b[1;33m(\u001b[0m\u001b[0mfp_or_buf\u001b[0m\u001b[1;33m,\u001b[0m \u001b[1;33m**\u001b[0m\u001b[0mkwds\u001b[0m\u001b[1;33m)\u001b[0m\u001b[1;33m\u001b[0m\u001b[1;33m\u001b[0m\u001b[0m\n\u001b[0m\u001b[0;32m    453\u001b[0m \u001b[1;33m\u001b[0m\u001b[0m\n\u001b[0;32m    454\u001b[0m     \u001b[1;32mif\u001b[0m \u001b[0mchunksize\u001b[0m \u001b[1;32mor\u001b[0m \u001b[0miterator\u001b[0m\u001b[1;33m:\u001b[0m\u001b[1;33m\u001b[0m\u001b[1;33m\u001b[0m\u001b[0m\n",
      "\u001b[1;32m~\\anaconda3\\envs\\medium_articles\\lib\\site-packages\\pandas\\io\\parsers.py\u001b[0m in \u001b[0;36m__init__\u001b[1;34m(self, f, engine, **kwds)\u001b[0m\n\u001b[0;32m    934\u001b[0m             \u001b[0mself\u001b[0m\u001b[1;33m.\u001b[0m\u001b[0moptions\u001b[0m\u001b[1;33m[\u001b[0m\u001b[1;34m\"has_index_names\"\u001b[0m\u001b[1;33m]\u001b[0m \u001b[1;33m=\u001b[0m \u001b[0mkwds\u001b[0m\u001b[1;33m[\u001b[0m\u001b[1;34m\"has_index_names\"\u001b[0m\u001b[1;33m]\u001b[0m\u001b[1;33m\u001b[0m\u001b[1;33m\u001b[0m\u001b[0m\n\u001b[0;32m    935\u001b[0m \u001b[1;33m\u001b[0m\u001b[0m\n\u001b[1;32m--> 936\u001b[1;33m         \u001b[0mself\u001b[0m\u001b[1;33m.\u001b[0m\u001b[0m_make_engine\u001b[0m\u001b[1;33m(\u001b[0m\u001b[0mself\u001b[0m\u001b[1;33m.\u001b[0m\u001b[0mengine\u001b[0m\u001b[1;33m)\u001b[0m\u001b[1;33m\u001b[0m\u001b[1;33m\u001b[0m\u001b[0m\n\u001b[0m\u001b[0;32m    937\u001b[0m \u001b[1;33m\u001b[0m\u001b[0m\n\u001b[0;32m    938\u001b[0m     \u001b[1;32mdef\u001b[0m \u001b[0mclose\u001b[0m\u001b[1;33m(\u001b[0m\u001b[0mself\u001b[0m\u001b[1;33m)\u001b[0m\u001b[1;33m:\u001b[0m\u001b[1;33m\u001b[0m\u001b[1;33m\u001b[0m\u001b[0m\n",
      "\u001b[1;32m~\\anaconda3\\envs\\medium_articles\\lib\\site-packages\\pandas\\io\\parsers.py\u001b[0m in \u001b[0;36m_make_engine\u001b[1;34m(self, engine)\u001b[0m\n\u001b[0;32m   1166\u001b[0m     \u001b[1;32mdef\u001b[0m \u001b[0m_make_engine\u001b[0m\u001b[1;33m(\u001b[0m\u001b[0mself\u001b[0m\u001b[1;33m,\u001b[0m \u001b[0mengine\u001b[0m\u001b[1;33m=\u001b[0m\u001b[1;34m\"c\"\u001b[0m\u001b[1;33m)\u001b[0m\u001b[1;33m:\u001b[0m\u001b[1;33m\u001b[0m\u001b[1;33m\u001b[0m\u001b[0m\n\u001b[0;32m   1167\u001b[0m         \u001b[1;32mif\u001b[0m \u001b[0mengine\u001b[0m \u001b[1;33m==\u001b[0m \u001b[1;34m\"c\"\u001b[0m\u001b[1;33m:\u001b[0m\u001b[1;33m\u001b[0m\u001b[1;33m\u001b[0m\u001b[0m\n\u001b[1;32m-> 1168\u001b[1;33m             \u001b[0mself\u001b[0m\u001b[1;33m.\u001b[0m\u001b[0m_engine\u001b[0m \u001b[1;33m=\u001b[0m \u001b[0mCParserWrapper\u001b[0m\u001b[1;33m(\u001b[0m\u001b[0mself\u001b[0m\u001b[1;33m.\u001b[0m\u001b[0mf\u001b[0m\u001b[1;33m,\u001b[0m \u001b[1;33m**\u001b[0m\u001b[0mself\u001b[0m\u001b[1;33m.\u001b[0m\u001b[0moptions\u001b[0m\u001b[1;33m)\u001b[0m\u001b[1;33m\u001b[0m\u001b[1;33m\u001b[0m\u001b[0m\n\u001b[0m\u001b[0;32m   1169\u001b[0m         \u001b[1;32melse\u001b[0m\u001b[1;33m:\u001b[0m\u001b[1;33m\u001b[0m\u001b[1;33m\u001b[0m\u001b[0m\n\u001b[0;32m   1170\u001b[0m             \u001b[1;32mif\u001b[0m \u001b[0mengine\u001b[0m \u001b[1;33m==\u001b[0m \u001b[1;34m\"python\"\u001b[0m\u001b[1;33m:\u001b[0m\u001b[1;33m\u001b[0m\u001b[1;33m\u001b[0m\u001b[0m\n",
      "\u001b[1;32m~\\anaconda3\\envs\\medium_articles\\lib\\site-packages\\pandas\\io\\parsers.py\u001b[0m in \u001b[0;36m__init__\u001b[1;34m(self, src, **kwds)\u001b[0m\n\u001b[0;32m   1996\u001b[0m         \u001b[0mkwds\u001b[0m\u001b[1;33m[\u001b[0m\u001b[1;34m\"usecols\"\u001b[0m\u001b[1;33m]\u001b[0m \u001b[1;33m=\u001b[0m \u001b[0mself\u001b[0m\u001b[1;33m.\u001b[0m\u001b[0musecols\u001b[0m\u001b[1;33m\u001b[0m\u001b[1;33m\u001b[0m\u001b[0m\n\u001b[0;32m   1997\u001b[0m \u001b[1;33m\u001b[0m\u001b[0m\n\u001b[1;32m-> 1998\u001b[1;33m         \u001b[0mself\u001b[0m\u001b[1;33m.\u001b[0m\u001b[0m_reader\u001b[0m \u001b[1;33m=\u001b[0m \u001b[0mparsers\u001b[0m\u001b[1;33m.\u001b[0m\u001b[0mTextReader\u001b[0m\u001b[1;33m(\u001b[0m\u001b[0msrc\u001b[0m\u001b[1;33m,\u001b[0m \u001b[1;33m**\u001b[0m\u001b[0mkwds\u001b[0m\u001b[1;33m)\u001b[0m\u001b[1;33m\u001b[0m\u001b[1;33m\u001b[0m\u001b[0m\n\u001b[0m\u001b[0;32m   1999\u001b[0m         \u001b[0mself\u001b[0m\u001b[1;33m.\u001b[0m\u001b[0munnamed_cols\u001b[0m \u001b[1;33m=\u001b[0m \u001b[0mself\u001b[0m\u001b[1;33m.\u001b[0m\u001b[0m_reader\u001b[0m\u001b[1;33m.\u001b[0m\u001b[0munnamed_cols\u001b[0m\u001b[1;33m\u001b[0m\u001b[1;33m\u001b[0m\u001b[0m\n\u001b[0;32m   2000\u001b[0m \u001b[1;33m\u001b[0m\u001b[0m\n",
      "\u001b[1;32mpandas\\_libs\\parsers.pyx\u001b[0m in \u001b[0;36mpandas._libs.parsers.TextReader.__cinit__\u001b[1;34m()\u001b[0m\n",
      "\u001b[1;32mpandas\\_libs\\parsers.pyx\u001b[0m in \u001b[0;36mpandas._libs.parsers.TextReader._setup_parser_source\u001b[1;34m()\u001b[0m\n",
      "\u001b[1;31mFileNotFoundError\u001b[0m: [Errno 2] No such file or directory: 'data/Google-Playstore.csv'"
     ]
    }
   ],
   "source": [
    "apps = pd.read_csv('data/Google-Playstore.csv')\n",
    "apps.head()"
   ]
  },
  {
   "cell_type": "markdown",
   "metadata": {
    "papermill": {
     "duration": 0.062512,
     "end_time": "2021-02-03T10:00:29.499769",
     "exception": false,
     "start_time": "2021-02-03T10:00:29.437257",
     "status": "completed"
    },
    "tags": []
   },
   "source": [
    "# 2. Basic Exploration and Data Cleaning\n",
    "## 2.1 Basic Exploration\n",
    "We will start with basic exploration of the dataset and get a feel for how it looks."
   ]
  },
  {
   "cell_type": "code",
   "execution_count": null,
   "metadata": {
    "execution": {
     "iopub.execute_input": "2021-02-03T10:00:29.635653Z",
     "iopub.status.busy": "2021-02-03T10:00:29.634328Z",
     "iopub.status.idle": "2021-02-03T10:00:31.289841Z",
     "shell.execute_reply": "2021-02-03T10:00:31.289135Z"
    },
    "papermill": {
     "duration": 1.726596,
     "end_time": "2021-02-03T10:00:31.290005",
     "exception": false,
     "start_time": "2021-02-03T10:00:29.563409",
     "status": "completed"
    },
    "tags": []
   },
   "outputs": [],
   "source": [
    "apps.info()"
   ]
  },
  {
   "cell_type": "markdown",
   "metadata": {
    "papermill": {
     "duration": 0.063479,
     "end_time": "2021-02-03T10:00:31.419611",
     "exception": false,
     "start_time": "2021-02-03T10:00:31.356132",
     "status": "completed"
    },
    "tags": []
   },
   "source": [
    "There are 23 columns and several of them have missing values. I like creating a single cell to list all the issues that need addressing and deal with them separately after I am done exploring. Then, I can cross each issue one by one as I fix them."
   ]
  },
  {
   "cell_type": "code",
   "execution_count": null,
   "metadata": {
    "execution": {
     "iopub.execute_input": "2021-02-03T10:00:31.551503Z",
     "iopub.status.busy": "2021-02-03T10:00:31.550231Z",
     "iopub.status.idle": "2021-02-03T10:00:33.136458Z",
     "shell.execute_reply": "2021-02-03T10:00:33.135810Z"
    },
    "papermill": {
     "duration": 1.653801,
     "end_time": "2021-02-03T10:00:33.136611",
     "exception": false,
     "start_time": "2021-02-03T10:00:31.482810",
     "status": "completed"
    },
    "tags": []
   },
   "outputs": [],
   "source": [
    "apps.isnull().sum()"
   ]
  },
  {
   "cell_type": "markdown",
   "metadata": {
    "papermill": {
     "duration": 0.074747,
     "end_time": "2021-02-03T10:00:33.404927",
     "exception": false,
     "start_time": "2021-02-03T10:00:33.330180",
     "status": "completed"
    },
    "tags": []
   },
   "source": [
    "I like the columns of my dataset to have *snake_case* because it will be easier to choose them later on (added to the list).\n",
    "\n",
    "Also, I think these columns will not be useful for us: App ID, minimum and maximum installs, minimum android version, developer ID, website and email, privacy policy link.\n",
    "\n",
    "Next, looking at the dataset info again:"
   ]
  },
  {
   "cell_type": "code",
   "execution_count": null,
   "metadata": {
    "execution": {
     "iopub.execute_input": "2021-02-03T10:00:33.553948Z",
     "iopub.status.busy": "2021-02-03T10:00:33.552741Z",
     "iopub.status.idle": "2021-02-03T10:00:35.159483Z",
     "shell.execute_reply": "2021-02-03T10:00:35.160061Z"
    },
    "papermill": {
     "duration": 1.678607,
     "end_time": "2021-02-03T10:00:35.160255",
     "exception": false,
     "start_time": "2021-02-03T10:00:33.481648",
     "status": "completed"
    },
    "tags": []
   },
   "outputs": [],
   "source": [
    "apps.info()"
   ]
  },
  {
   "cell_type": "markdown",
   "metadata": {
    "papermill": {
     "duration": 0.065726,
     "end_time": "2021-02-03T10:00:35.419171",
     "exception": false,
     "start_time": "2021-02-03T10:00:35.353445",
     "status": "completed"
    },
    "tags": []
   },
   "source": [
    "Some columns have incorrect data types: Released, Size. Released should be a `datetime`. Size is probably rendered as string because each size contains the letter 'M' to indicate megabytes. These issues will be added to the list too.\n",
    "\n",
    "Now, let's look at the app categories:"
   ]
  },
  {
   "cell_type": "code",
   "execution_count": null,
   "metadata": {
    "execution": {
     "iopub.execute_input": "2021-02-03T10:00:35.830030Z",
     "iopub.status.busy": "2021-02-03T10:00:35.829297Z",
     "iopub.status.idle": "2021-02-03T10:00:35.837848Z",
     "shell.execute_reply": "2021-02-03T10:00:35.837309Z"
    },
    "papermill": {
     "duration": 0.355665,
     "end_time": "2021-02-03T10:00:35.838012",
     "exception": false,
     "start_time": "2021-02-03T10:00:35.482347",
     "status": "completed"
    },
    "tags": []
   },
   "outputs": [],
   "source": [
    "apps['Category'].value_counts()"
   ]
  },
  {
   "cell_type": "markdown",
   "metadata": {
    "papermill": {
     "duration": 0.064125,
     "end_time": "2021-02-03T10:00:36.094315",
     "exception": false,
     "start_time": "2021-02-03T10:00:36.030190",
     "status": "completed"
    },
    "tags": []
   },
   "source": [
    "If we look carefully, some categories of interest like Music and Eduction are given with different labels: there are both 'Music & Audio' and 'Music' labels as well as 'Education' and 'Educational' for education. They should be merged together to represent a single category. \n",
    "\n",
    "Later, we will subset for the top 8 columns after finishing cleaning.\n",
    "\n",
    "Now, let's explore the numerical features of the dataset and see if they contain any issues:"
   ]
  },
  {
   "cell_type": "code",
   "execution_count": null,
   "metadata": {
    "execution": {
     "iopub.execute_input": "2021-02-03T10:00:36.249504Z",
     "iopub.status.busy": "2021-02-03T10:00:36.248798Z",
     "iopub.status.idle": "2021-02-03T10:00:36.451492Z",
     "shell.execute_reply": "2021-02-03T10:00:36.452070Z"
    },
    "papermill": {
     "duration": 0.29381,
     "end_time": "2021-02-03T10:00:36.452261",
     "exception": false,
     "start_time": "2021-02-03T10:00:36.158451",
     "status": "completed"
    },
    "tags": []
   },
   "outputs": [],
   "source": [
    "# Display in normal notation instead of scientific\n",
    "with pd.option_context('float_format', '{:f}'.format):\n",
    "    apps.describe()"
   ]
  },
  {
   "cell_type": "markdown",
   "metadata": {
    "papermill": {
     "duration": 0.066678,
     "end_time": "2021-02-03T10:00:36.584943",
     "exception": false,
     "start_time": "2021-02-03T10:00:36.518265",
     "status": "completed"
    },
    "tags": []
   },
   "source": [
    "Looks like all numerical columns are within the sensible range, like rating should be between 0 and 5. But the maximum value for price is 400$ which is a bit suspicious. We will dig into that later.\n",
    "\n",
    "Before we further explore, let's deal with the issues we highlighted. Here is the final list:"
   ]
  },
  {
   "cell_type": "markdown",
   "metadata": {
    "papermill": {
     "duration": 0.065939,
     "end_time": "2021-02-03T10:00:36.720224",
     "exception": false,
     "start_time": "2021-02-03T10:00:36.654285",
     "status": "completed"
    },
    "tags": []
   },
   "source": [
    "### Issues List For the Dataset\n",
    "- Missing values in several cols: Rating, rating count, Installs, minimum and maximum installs, currency and more\n",
    "- Convert all columns to snake_case\n",
    "- Drop these columns: App ID, minimum and maximum installs, minimum android version, developer ID, website and email, privacy policy link.\n",
    "- Incorrect data types for release data and size\n",
    "- Music and education is represented by different labels\n",
    "- Drop unnecessary categories"
   ]
  },
  {
   "cell_type": "markdown",
   "metadata": {
    "papermill": {
     "duration": 0.069326,
     "end_time": "2021-02-03T10:00:36.858251",
     "exception": false,
     "start_time": "2021-02-03T10:00:36.788925",
     "status": "completed"
    },
    "tags": []
   },
   "source": [
    "## 2.2 Data Cleaning"
   ]
  },
  {
   "cell_type": "markdown",
   "metadata": {
    "papermill": {
     "duration": 0.066499,
     "end_time": "2021-02-03T10:00:36.995020",
     "exception": false,
     "start_time": "2021-02-03T10:00:36.928521",
     "status": "completed"
    },
    "tags": []
   },
   "source": [
    "It is a good practice to start cleaning from the easiest issues."
   ]
  },
  {
   "cell_type": "markdown",
   "metadata": {
    "papermill": {
     "duration": 0.064206,
     "end_time": "2021-02-03T10:00:37.124207",
     "exception": false,
     "start_time": "2021-02-03T10:00:37.060001",
     "status": "completed"
    },
    "tags": []
   },
   "source": [
    "### Convert all columns to snake case"
   ]
  },
  {
   "cell_type": "code",
   "execution_count": null,
   "metadata": {
    "execution": {
     "iopub.execute_input": "2021-02-03T10:00:37.263125Z",
     "iopub.status.busy": "2021-02-03T10:00:37.262303Z",
     "iopub.status.idle": "2021-02-03T10:00:37.265753Z",
     "shell.execute_reply": "2021-02-03T10:00:37.265070Z"
    },
    "papermill": {
     "duration": 0.07585,
     "end_time": "2021-02-03T10:00:37.265901",
     "exception": false,
     "start_time": "2021-02-03T10:00:37.190051",
     "status": "completed"
    },
    "tags": []
   },
   "outputs": [],
   "source": [
    "apps.rename(lambda x: x.lower().strip().replace(' ', '_'), \n",
    "            axis='columns', inplace=True)"
   ]
  },
  {
   "cell_type": "markdown",
   "metadata": {
    "papermill": {
     "duration": 0.064333,
     "end_time": "2021-02-03T10:00:37.397187",
     "exception": false,
     "start_time": "2021-02-03T10:00:37.332854",
     "status": "completed"
    },
    "tags": []
   },
   "source": [
    "Check the results:"
   ]
  },
  {
   "cell_type": "code",
   "execution_count": null,
   "metadata": {
    "execution": {
     "iopub.execute_input": "2021-02-03T10:00:37.531841Z",
     "iopub.status.busy": "2021-02-03T10:00:37.531145Z",
     "iopub.status.idle": "2021-02-03T10:00:37.536190Z",
     "shell.execute_reply": "2021-02-03T10:00:37.535640Z"
    },
    "papermill": {
     "duration": 0.074718,
     "end_time": "2021-02-03T10:00:37.536349",
     "exception": false,
     "start_time": "2021-02-03T10:00:37.461631",
     "status": "completed"
    },
    "tags": []
   },
   "outputs": [],
   "source": [
    "apps.columns"
   ]
  },
  {
   "cell_type": "markdown",
   "metadata": {
    "papermill": {
     "duration": 0.065574,
     "end_time": "2021-02-03T10:00:37.667979",
     "exception": false,
     "start_time": "2021-02-03T10:00:37.602405",
     "status": "completed"
    },
    "tags": []
   },
   "source": [
    "### Drop unnecessary columns"
   ]
  },
  {
   "cell_type": "code",
   "execution_count": null,
   "metadata": {
    "execution": {
     "iopub.execute_input": "2021-02-03T10:00:37.848284Z",
     "iopub.status.busy": "2021-02-03T10:00:37.847136Z",
     "iopub.status.idle": "2021-02-03T10:00:37.909253Z",
     "shell.execute_reply": "2021-02-03T10:00:37.908667Z"
    },
    "papermill": {
     "duration": 0.176127,
     "end_time": "2021-02-03T10:00:37.909423",
     "exception": false,
     "start_time": "2021-02-03T10:00:37.733296",
     "status": "completed"
    },
    "tags": []
   },
   "outputs": [],
   "source": [
    "# Specify the cols to drop\n",
    "to_drop = [\n",
    "    'app_id', 'minimum_android', \n",
    "    'developer_id', 'developer_website', 'developer_email', 'privacy_policy', \n",
    "    'ad_supported', 'in_app_purchases', 'editors_choice'\n",
    "]\n",
    "\n",
    "# Drop them\n",
    "apps.drop(to_drop, axis='columns', inplace=True)"
   ]
  },
  {
   "cell_type": "markdown",
   "metadata": {
    "papermill": {
     "duration": 0.069327,
     "end_time": "2021-02-03T10:00:38.047463",
     "exception": false,
     "start_time": "2021-02-03T10:00:37.978136",
     "status": "completed"
    },
    "tags": []
   },
   "source": [
    "Check:"
   ]
  },
  {
   "cell_type": "code",
   "execution_count": null,
   "metadata": {
    "execution": {
     "iopub.execute_input": "2021-02-03T10:00:38.188643Z",
     "iopub.status.busy": "2021-02-03T10:00:38.187989Z",
     "iopub.status.idle": "2021-02-03T10:00:38.191121Z",
     "shell.execute_reply": "2021-02-03T10:00:38.190539Z"
    },
    "papermill": {
     "duration": 0.075897,
     "end_time": "2021-02-03T10:00:38.191284",
     "exception": false,
     "start_time": "2021-02-03T10:00:38.115387",
     "status": "completed"
    },
    "tags": []
   },
   "outputs": [],
   "source": [
    "assert apps.columns.all() not in to_drop"
   ]
  },
  {
   "cell_type": "markdown",
   "metadata": {
    "papermill": {
     "duration": 0.065967,
     "end_time": "2021-02-03T10:00:38.327057",
     "exception": false,
     "start_time": "2021-02-03T10:00:38.261090",
     "status": "completed"
    },
    "tags": []
   },
   "source": [
    "### Collapse multiple categories into one"
   ]
  },
  {
   "cell_type": "code",
   "execution_count": null,
   "metadata": {
    "execution": {
     "iopub.execute_input": "2021-02-03T10:00:38.575102Z",
     "iopub.status.busy": "2021-02-03T10:00:38.574372Z",
     "iopub.status.idle": "2021-02-03T10:00:39.423201Z",
     "shell.execute_reply": "2021-02-03T10:00:39.422625Z"
    },
    "papermill": {
     "duration": 1.030409,
     "end_time": "2021-02-03T10:00:39.423367",
     "exception": false,
     "start_time": "2021-02-03T10:00:38.392958",
     "status": "completed"
    },
    "tags": []
   },
   "outputs": [],
   "source": [
    "# Collapse 'Music' and 'Music & Audio' into 'Music'\n",
    "apps['category'] = apps['category'].str.replace('Music & Audio', 'Music')"
   ]
  },
  {
   "cell_type": "code",
   "execution_count": null,
   "metadata": {
    "execution": {
     "iopub.execute_input": "2021-02-03T10:00:39.675332Z",
     "iopub.status.busy": "2021-02-03T10:00:39.674550Z",
     "iopub.status.idle": "2021-02-03T10:00:40.516007Z",
     "shell.execute_reply": "2021-02-03T10:00:40.516531Z"
    },
    "papermill": {
     "duration": 1.026955,
     "end_time": "2021-02-03T10:00:40.516766",
     "exception": false,
     "start_time": "2021-02-03T10:00:39.489811",
     "status": "completed"
    },
    "tags": []
   },
   "outputs": [],
   "source": [
    "# Collapse 'Educational' and 'Education' into 'Education'\n",
    "apps['category'] = apps['category'].str.replace('Educational', 'Education')"
   ]
  },
  {
   "cell_type": "markdown",
   "metadata": {
    "papermill": {
     "duration": 0.075222,
     "end_time": "2021-02-03T10:00:40.666602",
     "exception": false,
     "start_time": "2021-02-03T10:00:40.591380",
     "status": "completed"
    },
    "tags": []
   },
   "source": [
    "Check:"
   ]
  },
  {
   "cell_type": "code",
   "execution_count": null,
   "metadata": {
    "execution": {
     "iopub.execute_input": "2021-02-03T10:00:40.812398Z",
     "iopub.status.busy": "2021-02-03T10:00:40.811626Z",
     "iopub.status.idle": "2021-02-03T10:00:40.815133Z",
     "shell.execute_reply": "2021-02-03T10:00:40.814543Z"
    },
    "papermill": {
     "duration": 0.078063,
     "end_time": "2021-02-03T10:00:40.815287",
     "exception": false,
     "start_time": "2021-02-03T10:00:40.737224",
     "status": "completed"
    },
    "tags": []
   },
   "outputs": [],
   "source": [
    "assert 'Educational' not in apps['category'] and \\\n",
    "       'Music & Audio' not in apps['category']"
   ]
  },
  {
   "cell_type": "markdown",
   "metadata": {
    "papermill": {
     "duration": 0.068753,
     "end_time": "2021-02-03T10:00:40.952242",
     "exception": false,
     "start_time": "2021-02-03T10:00:40.883489",
     "status": "completed"
    },
    "tags": []
   },
   "source": [
    "### Subset only for top 8 categories"
   ]
  },
  {
   "cell_type": "code",
   "execution_count": null,
   "metadata": {
    "execution": {
     "iopub.execute_input": "2021-02-03T10:00:41.173493Z",
     "iopub.status.busy": "2021-02-03T10:00:41.172584Z",
     "iopub.status.idle": "2021-02-03T10:00:41.350757Z",
     "shell.execute_reply": "2021-02-03T10:00:41.350130Z"
    },
    "papermill": {
     "duration": 0.327833,
     "end_time": "2021-02-03T10:00:41.350910",
     "exception": false,
     "start_time": "2021-02-03T10:00:41.023077",
     "status": "completed"
    },
    "tags": []
   },
   "outputs": [],
   "source": [
    "top_8_list = [\n",
    "    'Education', 'Music', 'Business', 'Tools', \n",
    "    'Entertainment', 'Lifestyle', 'Food & Drink', \n",
    "    'Books & Reference'\n",
    "]\n",
    "\n",
    "top = apps[apps['category'].isin(top_8_list)].reset_index(drop=True)"
   ]
  },
  {
   "cell_type": "markdown",
   "metadata": {
    "papermill": {
     "duration": 0.06622,
     "end_time": "2021-02-03T10:00:41.484438",
     "exception": false,
     "start_time": "2021-02-03T10:00:41.418218",
     "status": "completed"
    },
    "tags": []
   },
   "source": [
    "Check:"
   ]
  },
  {
   "cell_type": "code",
   "execution_count": null,
   "metadata": {
    "execution": {
     "iopub.execute_input": "2021-02-03T10:00:41.725487Z",
     "iopub.status.busy": "2021-02-03T10:00:41.709255Z",
     "iopub.status.idle": "2021-02-03T10:00:41.730449Z",
     "shell.execute_reply": "2021-02-03T10:00:41.728964Z"
    },
    "papermill": {
     "duration": 0.174986,
     "end_time": "2021-02-03T10:00:41.730719",
     "exception": false,
     "start_time": "2021-02-03T10:00:41.555733",
     "status": "completed"
    },
    "tags": []
   },
   "outputs": [],
   "source": [
    "assert top['category'].all() in top_8_list"
   ]
  },
  {
   "cell_type": "markdown",
   "metadata": {
    "papermill": {
     "duration": 0.068215,
     "end_time": "2021-02-03T10:00:41.883096",
     "exception": false,
     "start_time": "2021-02-03T10:00:41.814881",
     "status": "completed"
    },
    "tags": []
   },
   "source": [
    "### Convert `released` to `datetime`"
   ]
  },
  {
   "cell_type": "code",
   "execution_count": null,
   "metadata": {
    "execution": {
     "iopub.execute_input": "2021-02-03T10:00:42.033227Z",
     "iopub.status.busy": "2021-02-03T10:00:42.031770Z",
     "iopub.status.idle": "2021-02-03T10:00:44.864946Z",
     "shell.execute_reply": "2021-02-03T10:00:44.864340Z"
    },
    "papermill": {
     "duration": 2.913349,
     "end_time": "2021-02-03T10:00:44.865097",
     "exception": false,
     "start_time": "2021-02-03T10:00:41.951748",
     "status": "completed"
    },
    "tags": []
   },
   "outputs": [],
   "source": [
    "# Specifying the datetime format significantly reduces conversion time\n",
    "top['released'] = pd.to_datetime(top['released'], format='%b %d, %Y',\n",
    "                                 infer_datetime_format=True, errors='coerce')"
   ]
  },
  {
   "cell_type": "markdown",
   "metadata": {
    "papermill": {
     "duration": 0.071003,
     "end_time": "2021-02-03T10:00:45.004840",
     "exception": false,
     "start_time": "2021-02-03T10:00:44.933837",
     "status": "completed"
    },
    "tags": []
   },
   "source": [
    "Check:"
   ]
  },
  {
   "cell_type": "code",
   "execution_count": null,
   "metadata": {
    "execution": {
     "iopub.execute_input": "2021-02-03T10:00:45.145121Z",
     "iopub.status.busy": "2021-02-03T10:00:45.144380Z",
     "iopub.status.idle": "2021-02-03T10:00:45.151924Z",
     "shell.execute_reply": "2021-02-03T10:00:45.151134Z"
    },
    "papermill": {
     "duration": 0.080466,
     "end_time": "2021-02-03T10:00:45.152085",
     "exception": false,
     "start_time": "2021-02-03T10:00:45.071619",
     "status": "completed"
    },
    "scrolled": true,
    "tags": []
   },
   "outputs": [],
   "source": [
    "top.released.dtype"
   ]
  },
  {
   "cell_type": "markdown",
   "metadata": {
    "papermill": {
     "duration": 0.067159,
     "end_time": "2021-02-03T10:00:45.286887",
     "exception": false,
     "start_time": "2021-02-03T10:00:45.219728",
     "status": "completed"
    },
    "tags": []
   },
   "source": [
    "### Convert `size` to float"
   ]
  },
  {
   "cell_type": "code",
   "execution_count": null,
   "metadata": {
    "execution": {
     "iopub.execute_input": "2021-02-03T10:00:45.486839Z",
     "iopub.status.busy": "2021-02-03T10:00:45.486138Z",
     "iopub.status.idle": "2021-02-03T10:00:46.646679Z",
     "shell.execute_reply": "2021-02-03T10:00:46.646022Z"
    },
    "papermill": {
     "duration": 1.291243,
     "end_time": "2021-02-03T10:00:46.646848",
     "exception": false,
     "start_time": "2021-02-03T10:00:45.355605",
     "status": "completed"
    },
    "tags": []
   },
   "outputs": [],
   "source": [
    "# Strip of all text and convert to numeric\n",
    "top['size'] = pd.to_numeric(top['size'].str.replace(r'[a-zA-Z]+', ''), \n",
    "                             errors='coerce')"
   ]
  },
  {
   "cell_type": "markdown",
   "metadata": {
    "papermill": {
     "duration": 0.06733,
     "end_time": "2021-02-03T10:00:46.781967",
     "exception": false,
     "start_time": "2021-02-03T10:00:46.714637",
     "status": "completed"
    },
    "tags": []
   },
   "source": [
    "Check:"
   ]
  },
  {
   "cell_type": "code",
   "execution_count": null,
   "metadata": {
    "execution": {
     "iopub.execute_input": "2021-02-03T10:00:46.921618Z",
     "iopub.status.busy": "2021-02-03T10:00:46.920824Z",
     "iopub.status.idle": "2021-02-03T10:00:46.923875Z",
     "shell.execute_reply": "2021-02-03T10:00:46.923318Z"
    },
    "papermill": {
     "duration": 0.07494,
     "end_time": "2021-02-03T10:00:46.924026",
     "exception": false,
     "start_time": "2021-02-03T10:00:46.849086",
     "status": "completed"
    },
    "tags": []
   },
   "outputs": [],
   "source": [
    "assert top['size'].dtype == 'float64'"
   ]
  },
  {
   "cell_type": "markdown",
   "metadata": {
    "papermill": {
     "duration": 0.068238,
     "end_time": "2021-02-03T10:00:47.061435",
     "exception": false,
     "start_time": "2021-02-03T10:00:46.993197",
     "status": "completed"
    },
    "tags": []
   },
   "source": [
    "No output means passed!"
   ]
  },
  {
   "cell_type": "markdown",
   "metadata": {
    "papermill": {
     "duration": 0.068025,
     "end_time": "2021-02-03T10:00:47.339154",
     "exception": false,
     "start_time": "2021-02-03T10:00:47.271129",
     "status": "completed"
    },
    "tags": []
   },
   "source": [
    "### Deal With Missing Values\n",
    "\n",
    "There seems to be much more missing values in `size`, well over the threshold where we can safely drop them. Let's dive deeper using the `missingno` package:"
   ]
  },
  {
   "cell_type": "code",
   "execution_count": null,
   "metadata": {
    "execution": {
     "iopub.execute_input": "2021-02-03T10:00:47.537837Z",
     "iopub.status.busy": "2021-02-03T10:00:47.537140Z",
     "iopub.status.idle": "2021-02-03T10:00:52.592459Z",
     "shell.execute_reply": "2021-02-03T10:00:52.591913Z"
    },
    "papermill": {
     "duration": 5.185385,
     "end_time": "2021-02-03T10:00:52.592613",
     "exception": false,
     "start_time": "2021-02-03T10:00:47.407228",
     "status": "completed"
    },
    "tags": []
   },
   "outputs": [],
   "source": [
    "msno.matrix(top.sort_values('category'))"
   ]
  },
  {
   "cell_type": "markdown",
   "metadata": {
    "papermill": {
     "duration": 0.102568,
     "end_time": "2021-02-03T10:00:52.778287",
     "exception": false,
     "start_time": "2021-02-03T10:00:52.675719",
     "status": "completed"
    },
    "tags": []
   },
   "source": [
    "> If you don't understand this plot or what I just did here, read my [article](https://towardsdatascience.com/how-to-identify-missingness-types-with-missingno-61cfe0449ad9) on the topic.\n",
    "\n",
    "Plotting the data sorted by category tells that nulls in `size` are randomly scattered. Let's plot the missingness correlation:"
   ]
  },
  {
   "cell_type": "code",
   "execution_count": null,
   "metadata": {
    "execution": {
     "iopub.execute_input": "2021-02-03T10:00:53.059152Z",
     "iopub.status.busy": "2021-02-03T10:00:53.057943Z",
     "iopub.status.idle": "2021-02-03T10:00:54.363613Z",
     "shell.execute_reply": "2021-02-03T10:00:54.364157Z"
    },
    "papermill": {
     "duration": 1.502527,
     "end_time": "2021-02-03T10:00:54.364341",
     "exception": false,
     "start_time": "2021-02-03T10:00:52.861814",
     "status": "completed"
    },
    "tags": []
   },
   "outputs": [],
   "source": [
    "fig, ax = plt.subplots()\n",
    "msno.heatmap(top, cmap='rainbow', ax=ax)"
   ]
  },
  {
   "cell_type": "markdown",
   "metadata": {
    "papermill": {
     "duration": 0.078177,
     "end_time": "2021-02-03T10:00:54.519629",
     "exception": false,
     "start_time": "2021-02-03T10:00:54.441452",
     "status": "completed"
    },
    "tags": []
   },
   "source": [
    "The correlation matrix of missingness shows that most nulls in `size` are associated with nulls in `rating` and `rating_count`. This scenario falls into the Missing At Random class of missingness. This means that even though null values are random their misssingness is related to other observed values. \n",
    "\n",
    "In most cases, you can impute them with ML techniques. But our case is specific because we don't have enough features that help predict the size or rating of an app. We have no choice but to drop them. (I am not even mentioning nulls in other columns because their proportion is marginal)"
   ]
  },
  {
   "cell_type": "code",
   "execution_count": null,
   "metadata": {
    "execution": {
     "iopub.execute_input": "2021-02-03T10:00:54.677517Z",
     "iopub.status.busy": "2021-02-03T10:00:54.676473Z",
     "iopub.status.idle": "2021-02-03T10:00:55.148896Z",
     "shell.execute_reply": "2021-02-03T10:00:55.147331Z"
    },
    "papermill": {
     "duration": 0.55284,
     "end_time": "2021-02-03T10:00:55.149069",
     "exception": false,
     "start_time": "2021-02-03T10:00:54.596229",
     "status": "completed"
    },
    "tags": []
   },
   "outputs": [],
   "source": [
    "top.dropna(inplace=True)"
   ]
  },
  {
   "cell_type": "markdown",
   "metadata": {
    "papermill": {
     "duration": 0.07498,
     "end_time": "2021-02-03T10:00:55.299592",
     "exception": false,
     "start_time": "2021-02-03T10:00:55.224612",
     "status": "completed"
    },
    "tags": []
   },
   "source": [
    "# 3. Univariate Exploration"
   ]
  },
  {
   "cell_type": "markdown",
   "metadata": {
    "papermill": {
     "duration": 0.07812,
     "end_time": "2021-02-03T10:00:55.453054",
     "exception": false,
     "start_time": "2021-02-03T10:00:55.374934",
     "status": "completed"
    },
    "tags": []
   },
   "source": [
    "Finally, time to create some plots. Specifically, we will look at the distribution of the numerical features of the dataset. \n",
    "\n",
    "Let's start with rating:"
   ]
  },
  {
   "cell_type": "code",
   "execution_count": null,
   "metadata": {
    "execution": {
     "iopub.execute_input": "2021-02-03T10:00:55.631497Z",
     "iopub.status.busy": "2021-02-03T10:00:55.628554Z",
     "iopub.status.idle": "2021-02-03T10:00:55.928415Z",
     "shell.execute_reply": "2021-02-03T10:00:55.929071Z"
    },
    "papermill": {
     "duration": 0.398539,
     "end_time": "2021-02-03T10:00:55.929328",
     "exception": false,
     "start_time": "2021-02-03T10:00:55.530789",
     "status": "completed"
    },
    "tags": []
   },
   "outputs": [],
   "source": [
    "fig, ax = plt.subplots()\n",
    "\n",
    "# Plot a histogram\n",
    "ax.hist(top['rating'], bins=20)\n",
    "# Label\n",
    "ax.set(title='A Histogram of App ratings',\n",
    "       xlabel='Rating out of 5.0',\n",
    "       ylabel='Count')\n",
    "plt.show();"
   ]
  },
  {
   "cell_type": "markdown",
   "metadata": {
    "papermill": {
     "duration": 0.082594,
     "end_time": "2021-02-03T10:00:56.091557",
     "exception": false,
     "start_time": "2021-02-03T10:00:56.008963",
     "status": "completed"
    },
    "tags": []
   },
   "source": [
    "It looks like, there are much more apps with no rating. We might get a better visual if omit them:"
   ]
  },
  {
   "cell_type": "code",
   "execution_count": null,
   "metadata": {
    "execution": {
     "iopub.execute_input": "2021-02-03T10:00:56.271081Z",
     "iopub.status.busy": "2021-02-03T10:00:56.255749Z",
     "iopub.status.idle": "2021-02-03T10:00:56.619315Z",
     "shell.execute_reply": "2021-02-03T10:00:56.619824Z"
    },
    "papermill": {
     "duration": 0.449596,
     "end_time": "2021-02-03T10:00:56.620003",
     "exception": false,
     "start_time": "2021-02-03T10:00:56.170407",
     "status": "completed"
    },
    "tags": []
   },
   "outputs": [],
   "source": [
    "fig, ax = plt.subplots()\n",
    "\n",
    "# Subset for ratings over 0\n",
    "over_0 = top[top['rating'] > 0]['rating']\n",
    "\n",
    "# Plot a histogram\n",
    "ax.hist(over_0, bins=15)\n",
    "\n",
    "# Label\n",
    "ax.set(title='A Histogram of App ratings',\n",
    "       xlabel='Rating out of 5.0',\n",
    "       ylabel='Count')\n",
    "\n",
    "plt.show();"
   ]
  },
  {
   "cell_type": "markdown",
   "metadata": {
    "papermill": {
     "duration": 0.081929,
     "end_time": "2021-02-03T10:00:56.785286",
     "exception": false,
     "start_time": "2021-02-03T10:00:56.703357",
     "status": "completed"
    },
    "tags": []
   },
   "source": [
    "Histogram shows that majority of the apps are rated between ~3.8 and 4.8. It is also surprising to see so many 5-star ratings."
   ]
  },
  {
   "cell_type": "markdown",
   "metadata": {
    "papermill": {
     "duration": 0.080442,
     "end_time": "2021-02-03T10:00:56.947471",
     "exception": false,
     "start_time": "2021-02-03T10:00:56.867029",
     "status": "completed"
    },
    "tags": []
   },
   "source": [
    "Now, let's look at how categories are distributed:"
   ]
  },
  {
   "cell_type": "code",
   "execution_count": null,
   "metadata": {
    "execution": {
     "iopub.execute_input": "2021-02-03T10:00:57.111997Z",
     "iopub.status.busy": "2021-02-03T10:00:57.111278Z",
     "iopub.status.idle": "2021-02-03T10:00:57.551005Z",
     "shell.execute_reply": "2021-02-03T10:00:57.550391Z"
    },
    "papermill": {
     "duration": 0.523433,
     "end_time": "2021-02-03T10:00:57.551159",
     "exception": false,
     "start_time": "2021-02-03T10:00:57.027726",
     "status": "completed"
    },
    "tags": []
   },
   "outputs": [],
   "source": [
    "fig, ax = plt.subplots()\n",
    "\n",
    "# Plot a normalized countplot\n",
    "top['category'].value_counts(normalize=True).plot.barh()\n",
    "\n",
    "# Label\n",
    "ax.set(title='Proportion of 8 Categories',\n",
    "       xlabel='Proportion', ylabel='')\n",
    "\n",
    "plt.show();"
   ]
  },
  {
   "cell_type": "markdown",
   "metadata": {
    "papermill": {
     "duration": 0.082118,
     "end_time": "2021-02-03T10:00:57.884773",
     "exception": false,
     "start_time": "2021-02-03T10:00:57.802655",
     "status": "completed"
    },
    "tags": []
   },
   "source": [
    "Looks like educational apps make up more than one fifth of the data. \n",
    "\n",
    "It would be ideal if we had the `install_count` given as integers. But they are collapsed into categories which makes it impossible to see their distribution as a numeric feature. We got no other choice but to plot them in the same way as above:"
   ]
  },
  {
   "cell_type": "code",
   "execution_count": null,
   "metadata": {
    "execution": {
     "iopub.execute_input": "2021-02-03T10:00:58.075033Z",
     "iopub.status.busy": "2021-02-03T10:00:58.058214Z",
     "iopub.status.idle": "2021-02-03T10:00:58.602953Z",
     "shell.execute_reply": "2021-02-03T10:00:58.602253Z"
    },
    "papermill": {
     "duration": 0.634162,
     "end_time": "2021-02-03T10:00:58.603106",
     "exception": false,
     "start_time": "2021-02-03T10:00:57.968944",
     "status": "completed"
    },
    "tags": []
   },
   "outputs": [],
   "source": [
    "fig, ax = plt.subplots()\n",
    "\n",
    "# Create a normalized countplot\n",
    "top.installs.value_counts(normalize=True).plot.barh()\n",
    "\n",
    "ax.set(title='Proportion of install categories',\n",
    "       xlabel='Proportion', ylabel='')\n",
    "\n",
    "plt.show();"
   ]
  },
  {
   "cell_type": "markdown",
   "metadata": {
    "papermill": {
     "duration": 0.085169,
     "end_time": "2021-02-03T10:00:58.773918",
     "exception": false,
     "start_time": "2021-02-03T10:00:58.688749",
     "status": "completed"
    },
    "tags": []
   },
   "source": [
    "The plot shows that the vast majority of installs are between 10 and 10k installs. Maybe, we could get a better insight if we plotted `rating_count`. The number of ratings is given as exact figures and logically, they are positively related to install count. Before plotting, let's get the 5-number-summary of `rating_count`:"
   ]
  },
  {
   "cell_type": "code",
   "execution_count": null,
   "metadata": {
    "execution": {
     "iopub.execute_input": "2021-02-03T10:00:58.950135Z",
     "iopub.status.busy": "2021-02-03T10:00:58.949441Z",
     "iopub.status.idle": "2021-02-03T10:00:58.978342Z",
     "shell.execute_reply": "2021-02-03T10:00:58.977610Z"
    },
    "papermill": {
     "duration": 0.119786,
     "end_time": "2021-02-03T10:00:58.978496",
     "exception": false,
     "start_time": "2021-02-03T10:00:58.858710",
     "status": "completed"
    },
    "tags": []
   },
   "outputs": [],
   "source": [
    "with pd.option_context('float_format', '{:f}'.format):\n",
    "    top.rating_count.describe()"
   ]
  },
  {
   "cell_type": "markdown",
   "metadata": {
    "papermill": {
     "duration": 0.086568,
     "end_time": "2021-02-03T10:00:59.151331",
     "exception": false,
     "start_time": "2021-02-03T10:00:59.064763",
     "status": "completed"
    },
    "tags": []
   },
   "source": [
    "WOW! From the summary we can see that 75% of the distribution is less than 59 while the max is over 1.6 million. So, we will only plot the apps with ratings <60:"
   ]
  },
  {
   "cell_type": "code",
   "execution_count": null,
   "metadata": {
    "execution": {
     "iopub.execute_input": "2021-02-03T10:00:59.358234Z",
     "iopub.status.busy": "2021-02-03T10:00:59.357122Z",
     "iopub.status.idle": "2021-02-03T10:00:59.693722Z",
     "shell.execute_reply": "2021-02-03T10:00:59.693038Z"
    },
    "papermill": {
     "duration": 0.454776,
     "end_time": "2021-02-03T10:00:59.693870",
     "exception": false,
     "start_time": "2021-02-03T10:00:59.239094",
     "status": "completed"
    },
    "tags": []
   },
   "outputs": [],
   "source": [
    "fig, ax = plt.subplots()\n",
    "\n",
    "# Choose apps with ratings <60\n",
    "percentile_75 = top[top['rating_count'] < 60]\n",
    "\n",
    "ax.hist(percentile_75['rating_count'], bins=15)\n",
    "\n",
    "ax.set(title='Histogram of Rating Count',\n",
    "       xlabel='Ratings', ylabel='Count')\n",
    "\n",
    "plt.show();"
   ]
  },
  {
   "cell_type": "markdown",
   "metadata": {
    "papermill": {
     "duration": 0.088539,
     "end_time": "2021-02-03T10:00:59.871210",
     "exception": false,
     "start_time": "2021-02-03T10:00:59.782671",
     "status": "completed"
    },
    "tags": []
   },
   "source": [
    "This histogram tells us that about a quarter of the apps have no more than 5 ratings. This shows how competetive the mobile market is. Only a small proportion of apps can go as popular as the ones with thousands of ratings. Just for curiosity, let's explore the apps that have more than 1 million ratings:"
   ]
  },
  {
   "cell_type": "code",
   "execution_count": null,
   "metadata": {
    "execution": {
     "iopub.execute_input": "2021-02-03T10:01:00.059555Z",
     "iopub.status.busy": "2021-02-03T10:01:00.058877Z",
     "iopub.status.idle": "2021-02-03T10:01:00.069897Z",
     "shell.execute_reply": "2021-02-03T10:01:00.069252Z"
    },
    "papermill": {
     "duration": 0.109123,
     "end_time": "2021-02-03T10:01:00.070056",
     "exception": false,
     "start_time": "2021-02-03T10:00:59.960933",
     "status": "completed"
    },
    "tags": []
   },
   "outputs": [],
   "source": [
    "over_mln = top[top['rating_count'] > 1e6]\n",
    "over_mln.shape"
   ]
  },
  {
   "cell_type": "markdown",
   "metadata": {
    "papermill": {
     "duration": 0.090194,
     "end_time": "2021-02-03T10:01:00.253808",
     "exception": false,
     "start_time": "2021-02-03T10:01:00.163614",
     "status": "completed"
    },
    "tags": []
   },
   "source": [
    "Out of the initial 1 million apps, only 76 have over 1 million ratings. Let's see which categories have the most number of apps:"
   ]
  },
  {
   "cell_type": "code",
   "execution_count": null,
   "metadata": {
    "execution": {
     "iopub.execute_input": "2021-02-03T10:01:00.458409Z",
     "iopub.status.busy": "2021-02-03T10:01:00.443344Z",
     "iopub.status.idle": "2021-02-03T10:01:00.742119Z",
     "shell.execute_reply": "2021-02-03T10:01:00.741246Z"
    },
    "papermill": {
     "duration": 0.397932,
     "end_time": "2021-02-03T10:01:00.742280",
     "exception": false,
     "start_time": "2021-02-03T10:01:00.344348",
     "status": "completed"
    },
    "tags": []
   },
   "outputs": [],
   "source": [
    "fig, ax = plt.subplots()\n",
    "\n",
    "over_mln.category.value_counts().plot.barh()\n",
    "\n",
    "ax.set(title='Comparison of Rating Count of Most Popular Apps by Category',\n",
    "       ylabel='Rating Count')\n",
    "\n",
    "plt.show();"
   ]
  },
  {
   "cell_type": "markdown",
   "metadata": {
    "papermill": {
     "duration": 0.089999,
     "end_time": "2021-02-03T10:01:01.105278",
     "exception": false,
     "start_time": "2021-02-03T10:01:01.015279",
     "status": "completed"
    },
    "tags": []
   },
   "source": [
    "Not surprisingly, 30 of the apps belong to `Tools` which probably include most popular everyday apps.\n",
    "\n",
    "Finally, let's look at the 5-number summary of the price of paid apps:"
   ]
  },
  {
   "cell_type": "code",
   "execution_count": null,
   "metadata": {
    "execution": {
     "iopub.execute_input": "2021-02-03T10:01:01.294913Z",
     "iopub.status.busy": "2021-02-03T10:01:01.294142Z",
     "iopub.status.idle": "2021-02-03T10:01:01.313250Z",
     "shell.execute_reply": "2021-02-03T10:01:01.313847Z"
    },
    "papermill": {
     "duration": 0.117209,
     "end_time": "2021-02-03T10:01:01.314049",
     "exception": false,
     "start_time": "2021-02-03T10:01:01.196840",
     "status": "completed"
    },
    "tags": []
   },
   "outputs": [],
   "source": [
    "# Create a mask for paid apps\n",
    "is_paid = top['price'] != 0\n",
    "\n",
    "with pd.option_context('float_format', '{:f}'.format):\n",
    "    top[is_paid]['price'].describe()"
   ]
  },
  {
   "cell_type": "markdown",
   "metadata": {
    "papermill": {
     "duration": 0.093129,
     "end_time": "2021-02-03T10:01:01.499819",
     "exception": false,
     "start_time": "2021-02-03T10:01:01.406690",
     "status": "completed"
    },
    "tags": []
   },
   "source": [
    "Again, `price` also contains some serious outliers. For best insights, we subset for apps that cost less than 10$:"
   ]
  },
  {
   "cell_type": "code",
   "execution_count": null,
   "metadata": {
    "execution": {
     "iopub.execute_input": "2021-02-03T10:01:01.712748Z",
     "iopub.status.busy": "2021-02-03T10:01:01.712065Z",
     "iopub.status.idle": "2021-02-03T10:01:04.340291Z",
     "shell.execute_reply": "2021-02-03T10:01:04.339619Z"
    },
    "papermill": {
     "duration": 2.745498,
     "end_time": "2021-02-03T10:01:04.340447",
     "exception": false,
     "start_time": "2021-02-03T10:01:01.594949",
     "status": "completed"
    },
    "tags": []
   },
   "outputs": [],
   "source": [
    "fig, ax = plt.subplots()\n",
    "\n",
    "# Subset for apps that cost less than 10$\n",
    "less_10 = top[(top['price'] > 0) & (top['price'] < 10)]\n",
    "\n",
    "# Create a PMF of price for apps\n",
    "pmf_price = Pmf.from_seq(less_10['price'])\n",
    "\n",
    "pmf_price.bar()\n",
    "\n",
    "ax.set(title='PMF of Price of Paid Apps',\n",
    "       xlabel='Price ($)', ylabel='$P(X = x)$')\n",
    "\n",
    "plt.show();"
   ]
  },
  {
   "cell_type": "markdown",
   "metadata": {
    "papermill": {
     "duration": 0.094938,
     "end_time": "2021-02-03T10:01:04.527552",
     "exception": false,
     "start_time": "2021-02-03T10:01:04.432614",
     "status": "completed"
    },
    "tags": []
   },
   "source": [
    "> I used a Probability Mass Function to compare the distributions. I find them much better than historgrams. Because, they avoid binning bias of histograms and allows for improved visual comparison of distributions. Learn more about them [here](https://towardsdatascience.com/3-best-often-better-histogram-alternatives-avoid-binning-bias-1ffd3c811a31?source=your_stories_page-------------------------------------)."
   ]
  },
  {
   "cell_type": "markdown",
   "metadata": {
    "papermill": {
     "duration": 0.095746,
     "end_time": "2021-02-03T10:01:04.719064",
     "exception": false,
     "start_time": "2021-02-03T10:01:04.623318",
     "status": "completed"
    },
    "tags": []
   },
   "source": [
    "It is clear that most apps cost about a dollar."
   ]
  },
  {
   "cell_type": "markdown",
   "metadata": {
    "papermill": {
     "duration": 0.095881,
     "end_time": "2021-02-03T10:01:04.910899",
     "exception": false,
     "start_time": "2021-02-03T10:01:04.815018",
     "status": "completed"
    },
    "tags": []
   },
   "source": []
  },
  {
   "cell_type": "markdown",
   "metadata": {
    "papermill": {
     "duration": 0.102007,
     "end_time": "2021-02-03T10:01:05.112910",
     "exception": false,
     "start_time": "2021-02-03T10:01:05.010903",
     "status": "completed"
    },
    "tags": []
   },
   "source": [
    "# 4. Bivariate Exploration\n",
    "Coming to bivariate exploration, we will start by comparing the distributions among categories:"
   ]
  },
  {
   "cell_type": "code",
   "execution_count": null,
   "metadata": {
    "execution": {
     "iopub.execute_input": "2021-02-03T10:01:05.326455Z",
     "iopub.status.busy": "2021-02-03T10:01:05.325508Z",
     "iopub.status.idle": "2021-02-03T10:01:06.336893Z",
     "shell.execute_reply": "2021-02-03T10:01:06.337422Z"
    },
    "papermill": {
     "duration": 1.121362,
     "end_time": "2021-02-03T10:01:06.337615",
     "exception": false,
     "start_time": "2021-02-03T10:01:05.216253",
     "status": "completed"
    },
    "tags": []
   },
   "outputs": [],
   "source": [
    "fig, ax = plt.subplots()\n",
    "# Extract the unique categories\n",
    "categories = top['category'].unique()\n",
    "# Filter out 0-star ratings\n",
    "over_0 = top[top['rating'] > 0]\n",
    "\n",
    "for cat in categories:\n",
    "    pmf_cat = Pmf.from_seq(over_0[over_0['category'] == cat]['rating'])\n",
    "    ax.plot(pmf_cat, label=cat)\n",
    "\n",
    "ax.set(title='PMF of Rating For Top 8 App Categories',\n",
    "       xlabel='Rating',\n",
    "       ylabel='P(X = x)')\n",
    "\n",
    "ax.legend()\n",
    "\n",
    "plt.show();"
   ]
  },
  {
   "cell_type": "markdown",
   "metadata": {
    "papermill": {
     "duration": 0.106466,
     "end_time": "2021-02-03T10:01:06.748377",
     "exception": false,
     "start_time": "2021-02-03T10:01:06.641911",
     "status": "completed"
    },
    "tags": []
   },
   "source": [
    "Probability Mass Function of app ratings show that the distributions of rating for top 8 are pretty similar. However, more apps in Music and Tools seem to be rated ~4.6 compared to other groups.\n",
    "\n",
    "From this, we can also conclude that rating counts and number of installs probably have similar distributions across categories.\n",
    "\n",
    "What would be interesting is to compare prices of the apps across categories. I am guessing that apps for business will be the most expensive but let's make sure with a proper visual:"
   ]
  },
  {
   "cell_type": "code",
   "execution_count": null,
   "metadata": {
    "execution": {
     "iopub.execute_input": "2021-02-03T10:01:06.956396Z",
     "iopub.status.busy": "2021-02-03T10:01:06.955749Z",
     "iopub.status.idle": "2021-02-03T10:01:07.609510Z",
     "shell.execute_reply": "2021-02-03T10:01:07.608839Z"
    },
    "papermill": {
     "duration": 0.757557,
     "end_time": "2021-02-03T10:01:07.609656",
     "exception": false,
     "start_time": "2021-02-03T10:01:06.852099",
     "status": "completed"
    },
    "tags": []
   },
   "outputs": [],
   "source": [
    "fig, ax = plt.subplots()\n",
    "\n",
    "sns.boxplot(x='category', y='price', data=top[is_paid])\n",
    "\n",
    "ax.set_yscale('log')\n",
    "\n",
    "ax.set(title='Comparison of Price Between Categories',\n",
    "       xlabel='', ylabel='Price ($)')\n",
    "\n",
    "# Rotate xtick labels\n",
    "ax.set_xticklabels(ax.get_xticklabels(), rotation=60)\n",
    "\n",
    "# Set custom yticklabels\n",
    "y_ticks = [0.3, 0.5, 1, 3, 5, 10, 30, 100, 300]\n",
    "ax.set_yticklabels(y_ticks)\n",
    "\n",
    "plt.show();"
   ]
  },
  {
   "cell_type": "markdown",
   "metadata": {
    "papermill": {
     "duration": 0.106729,
     "end_time": "2021-02-03T10:01:07.823391",
     "exception": false,
     "start_time": "2021-02-03T10:01:07.716662",
     "status": "completed"
    },
    "tags": []
   },
   "source": []
  },
  {
   "cell_type": "markdown",
   "metadata": {
    "papermill": {
     "duration": 0.108334,
     "end_time": "2021-02-03T10:01:08.039401",
     "exception": false,
     "start_time": "2021-02-03T10:01:07.931067",
     "status": "completed"
    },
    "tags": []
   },
   "source": [
    "Well, I was off by one category. Looking at medium price for each, `Food & Drink` seems to be the winner closely followed by `Business`.\n",
    "\n",
    "Now, let's see if more ratings mean higher ratings. Again, we will only look at apps with ratings fewer than 100k and exclude the ones with no ratings:"
   ]
  },
  {
   "cell_type": "code",
   "execution_count": null,
   "metadata": {
    "execution": {
     "iopub.execute_input": "2021-02-03T10:01:08.278622Z",
     "iopub.status.busy": "2021-02-03T10:01:08.277794Z",
     "iopub.status.idle": "2021-02-03T10:01:09.892886Z",
     "shell.execute_reply": "2021-02-03T10:01:09.893506Z"
    },
    "papermill": {
     "duration": 1.747319,
     "end_time": "2021-02-03T10:01:09.893722",
     "exception": false,
     "start_time": "2021-02-03T10:01:08.146403",
     "status": "completed"
    },
    "tags": []
   },
   "outputs": [],
   "source": [
    "fig, ax = plt.subplots()\n",
    "\n",
    "# Filter out undesired apps\n",
    "majority_rated = top[(top['rating_count'] > 0) & (top['rating_count'] < 1e5)]\n",
    "\n",
    "# Jitter the ratings\n",
    "rating_jittered = majority_rated['rating'] + np.random.normal(0, 0.12, len(majority_rated))\n",
    "# Jitter the number of ratings\n",
    "count_jittered = majority_rated['rating_count'] + np.random.normal(0, 1, len(majority_rated))\n",
    "\n",
    "ax.plot(count_jittered, rating_jittered, \n",
    "        marker='o', linestyle='none', markersize=1, alpha=0.05)\n",
    "\n",
    "# Use log scale\n",
    "ax.set_xscale('log')\n",
    "# Set custom tick labels\n",
    "x_tick_labels = [1, 10, 50, 100, 200, 500, 1000, 5000, 10000, 50000, 100000]\n",
    "ax.set_xticklabels(x_tick_labels)\n",
    "\n",
    "# Label\n",
    "ax.set(title='Rating Count vs. Rating',\n",
    "       xlabel='Rating Count', \n",
    "       ylabel='Rating')\n",
    "\n",
    "plt.show();"
   ]
  },
  {
   "cell_type": "markdown",
   "metadata": {
    "papermill": {
     "duration": 0.13266,
     "end_time": "2021-02-03T10:01:10.484484",
     "exception": false,
     "start_time": "2021-02-03T10:01:10.351824",
     "status": "completed"
    },
    "tags": []
   },
   "source": [
    "Even though there are much more apps with few but high ratings, there seems to be a weak positive non-linear relationship between rating count and rating.\n",
    "\n",
    "We can check this by plotting a correlation matrix:"
   ]
  },
  {
   "cell_type": "code",
   "execution_count": null,
   "metadata": {
    "execution": {
     "iopub.execute_input": "2021-02-03T10:01:10.758463Z",
     "iopub.status.busy": "2021-02-03T10:01:10.757754Z",
     "iopub.status.idle": "2021-02-03T10:01:11.585800Z",
     "shell.execute_reply": "2021-02-03T10:01:11.586317Z"
    },
    "papermill": {
     "duration": 0.967418,
     "end_time": "2021-02-03T10:01:11.586499",
     "exception": false,
     "start_time": "2021-02-03T10:01:10.619081",
     "status": "completed"
    },
    "tags": []
   },
   "outputs": [],
   "source": [
    "fig, ax = plt.subplots()\n",
    "\n",
    "sns.heatmap(top.corr(), annot=True, \n",
    "            linewidths=3, center=0, cmap='rainbow', ax=ax);"
   ]
  },
  {
   "cell_type": "markdown",
   "metadata": {
    "papermill": {
     "duration": 0.136982,
     "end_time": "2021-02-03T10:01:12.133722",
     "exception": false,
     "start_time": "2021-02-03T10:01:11.996740",
     "status": "completed"
    },
    "tags": []
   },
   "source": [
    "Correlation matrix does not tell us much. However, we could confirm our earlier notion that there is a non-linear positive relationship between rating and rating count with a coefficient of $r=0.028$. \n",
    "\n",
    "Now, let's explore other angles. We will look at content rating of the apps and grouping them into paid and free categories:"
   ]
  },
  {
   "cell_type": "code",
   "execution_count": null,
   "metadata": {
    "execution": {
     "iopub.execute_input": "2021-02-03T10:01:12.415234Z",
     "iopub.status.busy": "2021-02-03T10:01:12.414503Z",
     "iopub.status.idle": "2021-02-03T10:01:13.469946Z",
     "shell.execute_reply": "2021-02-03T10:01:13.469262Z"
    },
    "papermill": {
     "duration": 1.195852,
     "end_time": "2021-02-03T10:01:13.470093",
     "exception": false,
     "start_time": "2021-02-03T10:01:12.274241",
     "status": "completed"
    },
    "tags": []
   },
   "outputs": [],
   "source": [
    "fig, ax = plt.subplots(figsize=(10, 8))\n",
    "\n",
    "sns.countplot(x='content_rating', hue='free', data=top,\n",
    "              palette=['#74a09e','#f2a553'])\n",
    "\n",
    "ax.legend(['Paid', 'Free'], loc='upper right')\n",
    "\n",
    "ax.set(title='Comparison of Content Rating For Paid And Free Apps',\n",
    "       xlabel='Content Rating', ylabel='Count')\n",
    "\n",
    "plt.show();"
   ]
  },
  {
   "cell_type": "markdown",
   "metadata": {
    "papermill": {
     "duration": 0.140188,
     "end_time": "2021-02-03T10:01:13.749303",
     "exception": false,
     "start_time": "2021-02-03T10:01:13.609115",
     "status": "completed"
    },
    "tags": []
   },
   "source": [
    "The countplot shows that the vast majority is rated for `Everyone`. "
   ]
  },
  {
   "cell_type": "markdown",
   "metadata": {
    "papermill": {
     "duration": 0.138677,
     "end_time": "2021-02-03T10:01:14.305167",
     "exception": false,
     "start_time": "2021-02-03T10:01:14.166490",
     "status": "completed"
    },
    "tags": []
   },
   "source": [
    "# 5. Multivariate Exploration\n",
    "\n",
    "Honestly, at this point, I am little disappointed because the dataset did not turn out to be that interesting. To create more angles to explore, we will use the minimum and maximum installs columns. Looking at the dataset documentation, they show estimated minimum and maximum installs.\n",
    "\n",
    "We will take the mean of the two columns which would be a better estimate for the true install count:"
   ]
  },
  {
   "cell_type": "code",
   "execution_count": null,
   "metadata": {
    "execution": {
     "iopub.execute_input": "2021-02-03T10:01:14.587817Z",
     "iopub.status.busy": "2021-02-03T10:01:14.587032Z",
     "iopub.status.idle": "2021-02-03T10:01:14.635067Z",
     "shell.execute_reply": "2021-02-03T10:01:14.634505Z"
    },
    "papermill": {
     "duration": 0.192999,
     "end_time": "2021-02-03T10:01:14.635220",
     "exception": false,
     "start_time": "2021-02-03T10:01:14.442221",
     "status": "completed"
    },
    "tags": []
   },
   "outputs": [],
   "source": [
    "top['true_installs'] = (top['minimum_installs'] + top['maximum_installs']) // 2"
   ]
  },
  {
   "cell_type": "markdown",
   "metadata": {
    "papermill": {
     "duration": 0.138091,
     "end_time": "2021-02-03T10:01:14.947969",
     "exception": false,
     "start_time": "2021-02-03T10:01:14.809878",
     "status": "completed"
    },
    "tags": []
   },
   "source": [
    "We will see if there is a relationship between rating and install count. We will also group the plots into paid and free apps.:"
   ]
  },
  {
   "cell_type": "code",
   "execution_count": null,
   "metadata": {
    "execution": {
     "iopub.execute_input": "2021-02-03T10:01:15.261266Z",
     "iopub.status.busy": "2021-02-03T10:01:15.260305Z",
     "iopub.status.idle": "2021-02-03T10:01:15.295843Z",
     "shell.execute_reply": "2021-02-03T10:01:15.295266Z"
    },
    "papermill": {
     "duration": 0.204661,
     "end_time": "2021-02-03T10:01:15.296007",
     "exception": false,
     "start_time": "2021-02-03T10:01:15.091346",
     "status": "completed"
    },
    "tags": []
   },
   "outputs": [],
   "source": [
    "top['free'] = top['free'].replace({True: 'Free', False: 'Paid'})"
   ]
  },
  {
   "cell_type": "code",
   "execution_count": null,
   "metadata": {
    "execution": {
     "iopub.execute_input": "2021-02-03T10:01:15.583815Z",
     "iopub.status.busy": "2021-02-03T10:01:15.583124Z",
     "iopub.status.idle": "2021-02-03T10:01:17.304164Z",
     "shell.execute_reply": "2021-02-03T10:01:17.304649Z"
    },
    "papermill": {
     "duration": 1.871366,
     "end_time": "2021-02-03T10:01:17.304862",
     "exception": false,
     "start_time": "2021-02-03T10:01:15.433496",
     "status": "completed"
    },
    "tags": []
   },
   "outputs": [],
   "source": [
    "fig, ax = plt.subplots()\n",
    "\n",
    "# Create a boxplot\n",
    "sns.boxplot(x='category', y='rating', hue='free', data=top[top['rating'] > 0],\n",
    "           palette=['#74a09e','#f2a553'])\n",
    "\n",
    "# Labelling\n",
    "ax.set(title='Comparison of Rating For Both Free And Paid Apps',\n",
    "       xlabel='', ylabel='Rating')\n",
    "\n",
    "# Rotate xticks\n",
    "ax.set_xticklabels(ax.get_xticklabels(), rotation=60)\n",
    "\n",
    "ax.legend(title='')\n",
    "\n",
    "plt.show();"
   ]
  },
  {
   "cell_type": "markdown",
   "metadata": {
    "papermill": {
     "duration": 0.142471,
     "end_time": "2021-02-03T10:01:18.161728",
     "exception": false,
     "start_time": "2021-02-03T10:01:18.019257",
     "status": "completed"
    },
    "tags": []
   },
   "source": [
    "A couple interesting things from the above plot: Education and Books categories have the same median rating. Also, Tools and Business apps are generally lower rated than other categories. But it seems that the fact that app is free or paid does not have any effect ont its rating. \n",
    "\n",
    "Lastly, we will look at if well-maintainted apps have higher ratings. To achieve this, we will look at the `last_updated` column and compare it to the date of the latest version of this dataset, which was December, 2020.\n",
    "\n",
    "First, we will find out how many days have passed since an app was last updated:"
   ]
  },
  {
   "cell_type": "code",
   "execution_count": null,
   "metadata": {
    "execution": {
     "iopub.execute_input": "2021-02-03T10:01:18.448180Z",
     "iopub.status.busy": "2021-02-03T10:01:18.447535Z",
     "iopub.status.idle": "2021-02-03T10:01:18.631016Z",
     "shell.execute_reply": "2021-02-03T10:01:18.631578Z"
    },
    "papermill": {
     "duration": 0.328485,
     "end_time": "2021-02-03T10:01:18.631779",
     "exception": false,
     "start_time": "2021-02-03T10:01:18.303294",
     "status": "completed"
    },
    "tags": []
   },
   "outputs": [],
   "source": [
    "# Covert last_updated to datetime\n",
    "top['last_updated'] = pd.to_datetime(top['last_updated'], format='%b %d, %Y',\n",
    "                                 infer_datetime_format=True)"
   ]
  },
  {
   "cell_type": "code",
   "execution_count": null,
   "metadata": {
    "execution": {
     "iopub.execute_input": "2021-02-03T10:01:18.920667Z",
     "iopub.status.busy": "2021-02-03T10:01:18.919993Z",
     "iopub.status.idle": "2021-02-03T10:01:18.940456Z",
     "shell.execute_reply": "2021-02-03T10:01:18.941023Z"
    },
    "papermill": {
     "duration": 0.168427,
     "end_time": "2021-02-03T10:01:18.941201",
     "exception": false,
     "start_time": "2021-02-03T10:01:18.772774",
     "status": "completed"
    },
    "tags": []
   },
   "outputs": [],
   "source": [
    "top['days_elapsed'] = (datetime.datetime(2020, 12, 31) - top['last_updated']).dt.days"
   ]
  },
  {
   "cell_type": "markdown",
   "metadata": {
    "papermill": {
     "duration": 0.143211,
     "end_time": "2021-02-03T10:01:19.226645",
     "exception": false,
     "start_time": "2021-02-03T10:01:19.083434",
     "status": "completed"
    },
    "tags": []
   },
   "source": [
    "Let's see 5-number summary of `days_elapsed`:"
   ]
  },
  {
   "cell_type": "code",
   "execution_count": null,
   "metadata": {
    "execution": {
     "iopub.execute_input": "2021-02-03T10:01:19.515620Z",
     "iopub.status.busy": "2021-02-03T10:01:19.515019Z",
     "iopub.status.idle": "2021-02-03T10:01:19.541224Z",
     "shell.execute_reply": "2021-02-03T10:01:19.541862Z"
    },
    "papermill": {
     "duration": 0.172462,
     "end_time": "2021-02-03T10:01:19.542063",
     "exception": false,
     "start_time": "2021-02-03T10:01:19.369601",
     "status": "completed"
    },
    "tags": []
   },
   "outputs": [],
   "source": [
    "top.days_elapsed.describe()"
   ]
  },
  {
   "cell_type": "markdown",
   "metadata": {
    "papermill": {
     "duration": 0.146337,
     "end_time": "2021-02-03T10:01:19.830149",
     "exception": false,
     "start_time": "2021-02-03T10:01:19.683812",
     "status": "completed"
    },
    "tags": []
   },
   "source": [
    "It seems most apps were updated within a year at the time of collecting this dataset. Let's plot it against `rating` grouping by `Free` or `Paid` (Again, exclude apps with no rating):"
   ]
  },
  {
   "cell_type": "code",
   "execution_count": null,
   "metadata": {
    "execution": {
     "iopub.execute_input": "2021-02-03T10:01:20.127192Z",
     "iopub.status.busy": "2021-02-03T10:01:20.126013Z",
     "iopub.status.idle": "2021-02-03T10:01:40.685642Z",
     "shell.execute_reply": "2021-02-03T10:01:40.686184Z"
    },
    "papermill": {
     "duration": 20.713125,
     "end_time": "2021-02-03T10:01:40.686366",
     "exception": false,
     "start_time": "2021-02-03T10:01:19.973241",
     "status": "completed"
    },
    "scrolled": false,
    "tags": []
   },
   "outputs": [],
   "source": [
    "fig, ax = plt.subplots()\n",
    "\n",
    "with_rating = top[top['rating'] > 0]\n",
    "\n",
    "# Jitter the ratings for a nicer visual\n",
    "with_rating['rating_jittered'] = with_rating['rating'] + np.random.normal(0, 0.12, len(with_rating))\n",
    "sns.scatterplot(x='days_elapsed', y='rating_jittered', hue='free', data=with_rating,\n",
    "                alpha=0.5, s=1, palette=['#74a09e','#f2a553'])\n",
    "\n",
    "ax.set(title='Maintenance of App vs. Rating', xlabel='Days Elapsed Since Last Updated',\n",
    "       ylabel='Rating')\n",
    "\n",
    "ax.set_xscale('log')\n",
    "ax.set_xticklabels([10, 30, 70, 100, 300, 700, 1000])\n",
    "ax.legend(title='')\n",
    "plt.show();"
   ]
  },
  {
   "cell_type": "markdown",
   "metadata": {
    "papermill": {
     "duration": 0.192806,
     "end_time": "2021-02-03T10:01:41.468083",
     "exception": false,
     "start_time": "2021-02-03T10:01:41.275277",
     "status": "completed"
    },
    "tags": []
   },
   "source": [
    "It seems maintenance didn't have any effect on rating. But we should also conside the possibility that not all apps were updated with relevant information by the dataset owner.\n",
    "\n",
    "Let's look at this distribution grouped by category:"
   ]
  },
  {
   "cell_type": "code",
   "execution_count": null,
   "metadata": {
    "execution": {
     "iopub.execute_input": "2021-02-03T10:01:41.923208Z",
     "iopub.status.busy": "2021-02-03T10:01:41.922240Z",
     "iopub.status.idle": "2021-02-03T10:01:43.489294Z",
     "shell.execute_reply": "2021-02-03T10:01:43.489830Z"
    },
    "papermill": {
     "duration": 1.827743,
     "end_time": "2021-02-03T10:01:43.490017",
     "exception": false,
     "start_time": "2021-02-03T10:01:41.662274",
     "status": "completed"
    },
    "tags": []
   },
   "outputs": [],
   "source": [
    "ax = sns.boxplot(x='category', y='days_elapsed', data=top, \n",
    "                 hue='free', palette=['#74a09e','#f2a553'])\n",
    "\n",
    "ax.set(title='Comparison of Categories By Days Elapsed Since Last Update', \n",
    "       xlabel='Days Elapsed', ylabel='')\n",
    "\n",
    "ax.legend(loc='upper right', title='')\n",
    "\n",
    "ax.set_xticklabels(ax.get_xticklabels(), rotation=30)\n",
    "\n",
    "plt.show();"
   ]
  },
  {
   "cell_type": "markdown",
   "metadata": {
    "papermill": {
     "duration": 0.200104,
     "end_time": "2021-02-03T10:01:43.896973",
     "exception": false,
     "start_time": "2021-02-03T10:01:43.696869",
     "status": "completed"
    },
    "tags": []
   },
   "source": [
    "The above plot shows a clear trend. Surprisingly, paid apps are much less maintained than free apps except for Food & Drink category. "
   ]
  },
  {
   "cell_type": "markdown",
   "metadata": {
    "papermill": {
     "duration": 0.198866,
     "end_time": "2021-02-03T10:01:44.692007",
     "exception": false,
     "start_time": "2021-02-03T10:01:44.493141",
     "status": "completed"
    },
    "tags": []
   },
   "source": [
    "# 6. Brief Conclusion of the EDA\n",
    "\n",
    "In short, this dataset clearly showed how competetive the Google Play Store is. More than half of the apps had close to 0 ratings and installs. \n",
    "\n",
    "Even though there were more than 50 categories, only top 8 were explored which accounted to more than half of all apps. Among the top 8, `Tools` category was a clear winner in terms of install and rating count. \n",
    "\n",
    "Majority of the paid apps cost around a dollar however there were outliers as huge as 400 dollars. \n",
    "Coming to paid apps, most expensive categories were Food & Drink and Business. \n",
    "\n",
    "In 4th and 5th parts of the exploration, the dataset was looked at from different angles. Specifically, the relationships between rating and rating count, rating and install count, rating and maintenance were explored. \n",
    "\n",
    "For better insight, apps with no ratings and installs were exlcuded. This showed that most apps had a rating of ~4.5 and most highly-rated apps were in Music."
   ]
  }
 ],
 "metadata": {
  "kernelspec": {
   "display_name": "medium_articles",
   "language": "python",
   "name": "medium_articles"
  },
  "language_info": {
   "codemirror_mode": {
    "name": "ipython",
    "version": 3
   },
   "file_extension": ".py",
   "mimetype": "text/x-python",
   "name": "python",
   "nbconvert_exporter": "python",
   "pygments_lexer": "ipython3",
   "version": "3.8.5"
  },
  "papermill": {
   "default_parameters": {},
   "duration": 117.316237,
   "end_time": "2021-02-03T10:01:45.808724",
   "environment_variables": {},
   "exception": null,
   "input_path": "__notebook__.ipynb",
   "output_path": "__notebook__.ipynb",
   "parameters": {},
   "start_time": "2021-02-03T09:59:48.492487",
   "version": "2.2.2"
  }
 },
 "nbformat": 4,
 "nbformat_minor": 4
}
