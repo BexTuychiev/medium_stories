{
 "cells": [
  {
   "cell_type": "markdown",
   "metadata": {},
   "source": [
    "# Yes, These Unbelievable Masterpieces Are Created With Matplotlib\n",
    "## They make my plots look like a child's drawing of a tree\n",
    "![](images/pexels.jpg)\n",
    "<figcaption style=\"text-align: center;\">\n",
    "    <strong>\n",
    "        Photo by \n",
    "        <a href='https://www.pexels.com/@daiangan?utm_content=attributionCopyText&utm_medium=referral&utm_source=pexels'>Daian Gan</a>\n",
    "        on \n",
    "        <a href='https://www.pexels.com/photo/shallow-focus-photography-of-paintbrush-102127/?utm_content=attributionCopyText&utm_medium=referral&utm_source=pexels'>Pexels.</a> All images are by the author unless specified otherwise.\n",
    "    </strong>\n",
    "</figcaption>"
   ]
  },
  {
   "cell_type": "markdown",
   "metadata": {},
   "source": [
    "# Introduction"
   ]
  },
  {
   "cell_type": "markdown",
   "metadata": {},
   "source": [
    "These plots... \n",
    "\n",
    "They are snazzy...\\\n",
    "They are breathtaking...\\\n",
    "They remind you just how beautiful and powerful data visualization can be.\n",
    "\n",
    "They only takes a few seconds to deliver their message.\\\n",
    "But take hours to create.\\\n",
    "And require more than coding skills to master.\n",
    "\n",
    "Such plots have a theme.\\\n",
    "They don't just *visualize*.\\\n",
    "They *speak* to the observer.\n",
    "\n",
    "Ultimately, you only have to watch and digest the information. No room to guessing or figuring out on your part. \n",
    "\n",
    "So, watch and digest!"
   ]
  },
  {
   "cell_type": "markdown",
   "metadata": {},
   "source": [
    "# 1. History of Netflix\n",
    "![](images/1.png)\n",
    "<figcaption style=\"text-align: center;\">\n",
    "    <strong>\n",
    "        <a href='https://www.kaggle.com/joshuaswords/netflix-data-visualization?scriptVersionId=58425238&cellId=17'>Link to the code</a>\n",
    "    </strong>\n",
    "</figcaption>"
   ]
  },
  {
   "cell_type": "markdown",
   "metadata": {},
   "source": [
    "As dictated in the title, the above is the history of Netflix from 1997 to the present. I think what immediately jumps out here is the simplicity of the plot and its power.\n",
    "\n",
    "People often think of history in a linear fashion and using a single line for the timeline effectively captures this behavior. But is that the whole story?\n",
    "\n",
    "Bigger events are encoded with larger dots, while intermediary events get represented in smaller ones, slightly away from the timeline. The author also adds an element of personality for 2012, UK launch event.\n",
    "\n",
    "This plot is the combination of 4 critical components:\n",
    "- Simple horizontal line created with `hline`\n",
    "- 3 scatter plots to draw different sized dots\n",
    "- A single stem plot to create those vertical whiskers using `plt.stem`\n",
    "- Skillful use of text at different levels to display additional messages and different styled axes ticks."
   ]
  },
  {
   "cell_type": "markdown",
   "metadata": {},
   "source": [
    "# 2. Ratings distribution of Movies vs. TV Shows in Netflix\n",
    "![](images/2.png)\n",
    "<figcaption style=\"text-align: center;\">\n",
    "    <strong>\n",
    "        <a href='https://www.kaggle.com/joshuaswords/netflix-data-visualization?scriptVersionId=58425238&cellId=28'>Link to the code</a>\n",
    "    </strong>\n",
    "</figcaption>"
   ]
  },
  {
   "cell_type": "markdown",
   "metadata": {},
   "source": [
    "How would you go around and display this information? This plot would certainly beat a lame stacked bar chart I would have come up with. \n",
    "\n",
    "It is clear from the plot that the number of movies in every rating category is dominating the number of TV Shows. Showing this information as a joint bar chart would certainly do the trick. \n",
    "\n",
    "However, displaying the bars of the TV Shows underneath the movies offers a better and unique way of representing this domination. \n",
    "\n",
    "I'd also like to draw your attention to how the plot is completely devoid of clutter - no unnecessary axes, texts, spines or anything else that does not give immediate value to the delivery of the information."
   ]
  },
  {
   "cell_type": "markdown",
   "metadata": {},
   "source": [
    "# 3. The amount of content added to Netflix over the years\n",
    "![](images/3.png)\n",
    "<figcaption style=\"text-align: center;\">\n",
    "    <strong>\n",
    "        <a href='https://www.kaggle.com/joshuaswords/netflix-data-visualization?scriptVersionId=58425238&cellId=28'>Link to the code</a>\n",
    "    </strong>\n",
    "</figcaption>"
   ]
  },
  {
   "cell_type": "markdown",
   "metadata": {},
   "source": [
    "In terms of displaying a value that changes over time, this plot is spot-on.\n",
    "\n",
    "Yes, it is a simple line plot but what makes it unique is the display location of certain elements. \n",
    "\n",
    "First is the legend. It is unconventional - no boring list of items inside a box. Its lower-left location makes it almost invisible and weave into the background. Somehow, you know that red is for Movies and black is for TV Shows even though you don't have to look at it. \n",
    "\n",
    "The author also uses a block of text in the upper left corner. The benefit of this text description is twofold: it covers up the vast white space that would otherwise make the plot look bland and it points out the key observations, freeing the observer from pausing and drawing conclusions on their own.\n",
    "\n",
    "Next is the Y axis. I bet you didn't even notice that its location is on the right, opposite of where it usually is. Yet, this fact does not even register into your brain without paying close attention. \n",
    "\n",
    "That is the secret to powerful data visualization - if everything is done right, the observer won't even notice how the plot itself is created - they are just busy taking in the information."
   ]
  },
  {
   "cell_type": "markdown",
   "metadata": {},
   "source": [
    "# 4. Breakdown of how content is added to the platform throughout the year\n",
    "![](images/4.png)\n",
    "<figcaption style=\"text-align: center;\">\n",
    "    <strong>\n",
    "        <a href='https://www.kaggle.com/joshuaswords/netflix-data-visualization?scriptVersionId=58425238&cellId=38'>Link to the code</a>\n",
    "    </strong>\n",
    "</figcaption>"
   ]
  },
  {
   "cell_type": "markdown",
   "metadata": {},
   "source": [
    "Normally, I am completely against pie charts, as is the case with most people.\n",
    "\n",
    "But would you believe me if I said this is a bar chart? Well, whatever you say, you have to. This *is* a bar chart with a twist - the axes are in polar coordinates.\n",
    "\n",
    "Even though the plot looks simple, the code that went into creating it is more complex than any other we will see today. \n",
    "\n",
    "Creating each bar requires you to extract the angle, width and height, and that's not even the hardest part. Pay attention to the text labels - if you notice, they are rotated 180° at April and October for readability.\n",
    "\n",
    "If you think that's the default with Matplotlib, you are *wildly* mistaken. They are actually annotations, cleverly placed by the author. To make them fit nicely with their respective bars, the author has to calculate the angle of rotation for each one and place them at the polar coordinates that are \"just above\" each bar.\n",
    "\n",
    "Sometimes, the simplest things require the most effort."
   ]
  },
  {
   "cell_type": "markdown",
   "metadata": {},
   "source": [
    "# 5. The lag between the release date of an item and its launch on Netflix\n",
    "![](images/5.png)\n",
    "<figcaption style=\"text-align: center;\">\n",
    "    <strong>\n",
    "        <a href='https://www.kaggle.com/joshuaswords/netflix-data-visualization?scriptVersionId=58425238&cellId=49'>Link to the code</a>\n",
    "    </strong>\n",
    "</figcaption>"
   ]
  },
  {
   "cell_type": "markdown",
   "metadata": {},
   "source": [
    "This plot shows the plain-old, vanilla *mean* (average) in a unique way. \n",
    "\n",
    "Most people would display numeric variables grouped by categories in a bar chart. In contrast, the author uses intervals, which not only shows the differences in means but also encode the additional time component in the X axis. \n",
    "\n",
    "Once you read the description, you will immediately realize how ingenious the plot is. \n",
    "\n",
    "Here, we see another smart way of representing legends - the legend labels are put next to a single sample of their respective category. "
   ]
  },
  {
   "cell_type": "markdown",
   "metadata": {},
   "source": [
    "# 6. Categorizing Netflix content by countries: USA and India\n",
    "![](images/6.png)\n",
    "<figcaption style=\"text-align: center;\">\n",
    "    <strong>\n",
    "        <a href='https://www.kaggle.com/joshuaswords/netflix-data-visualization?scriptVersionId=58425238&cellId=57'>Link to the code</a>\n",
    "    </strong>\n",
    "</figcaption>"
   ]
  },
  {
   "cell_type": "markdown",
   "metadata": {},
   "source": [
    "This is a special chart type called a stream graph. It belongs to the \"parts of the whole\" chart family along with area, pie, donut charts. \n",
    "\n",
    "It is not implemented in Matplotlib, so, the author had to come up with his own version of code to plot it. And surprisingly, the solution is incredibly simple - he just uses the `fill_between` function bordered with the relevant data points through the timeline.\n",
    "\n",
    "As usual, the plot discards anything that does not add significant value - no grids, no additional tick marks or even the Y axis. You might argue that Y axis could have been added to see the proportions of content between the two counties. \n",
    "\n",
    "But since USA's dominance is obvious at first glance, there is no need to put additional numbers to differentiate the proportions."
   ]
  },
  {
   "cell_type": "markdown",
   "metadata": {},
   "source": [
    "# 7. Factors that lead to heart disease\n",
    "![](images/8.png)\n",
    "<figcaption style=\"text-align: center;\">\n",
    "    <strong>\n",
    "        <a href='https://www.kaggle.com/joshuaswords/awesome-eda-predicting-heart-disease?scriptVersionId=59744920&cellId=38'>Link to the code</a>\n",
    "    </strong>\n",
    "</figcaption>"
   ]
  },
  {
   "cell_type": "markdown",
   "metadata": {},
   "source": [
    "Yes, even this one is created with solely Matplotlib. \n",
    "\n",
    "Just like you are now, an annotation with brackets for the arrow head, completely blew me away. Apparently, you can link text annotations with the plot using [a large suite of arrow types](https://matplotlib.org/stable/api/_as_gen/matplotlib.patches.ArrowStyle.html), including those brackets.\n",
    "\n",
    "And the crazy part is how you define the bracket itself. In the `arrowprops` dictionary of `annotate` function, you just need to pass a code string to `arrowstyle` like - `\"-[, widthB=width, lengthB=length\"` encoded with the relevant `width` and `height`.\n",
    "\n",
    "Such annotations can add another layer of information and positively surprise the audience with their freshness and uniqueness."
   ]
  },
  {
   "cell_type": "markdown",
   "metadata": {},
   "source": [
    "# Summary"
   ]
  },
  {
   "cell_type": "markdown",
   "metadata": {},
   "source": [
    "No matter how hard you try to be good at something, there are always people doing it at ridiculous levels. Such instances are nothing to be jealous of, but are only to be inspired by and enjoyed. \n",
    "\n",
    "The plots in this post are an example of this - they are all created by [Josh](https://www.kaggle.com/joshuaswords) from Kaggle (data analyst at AWS, with whom I have no personal connection whatsoever and happen to love his awesome visuals). I only gathered his best (in my opinion) visuals from just 2 notebooks on Kaggle, but the quality of his work is consistent in every other notebook I have observed.\n",
    "\n",
    "If are like me and have a soft spot for data visualizations like these, I highly recommend you to check out [Flowing Data](https://flowingdata.com/) created by Nathan Yau. He is an award winning expert at data visualization and his website is full of \"I can't even begin to describe\" plots and animations. \n",
    "\n",
    "Thank you for reading!"
   ]
  },
  {
   "cell_type": "markdown",
   "metadata": {},
   "source": [
    "# Check out my latest viral hits:\n",
    "\n",
    "https://towardsdatascience.com/7-cool-python-packages-kagglers-are-using-without-telling-you-e83298781cf4?source=your_stories_page-------------------------------------\n",
    "\n",
    "https://towardsdatascience.com/25-pandas-functions-you-didnt-know-existed-p-guarantee-0-8-1a05dcaad5d0?source=your_stories_page-------------------------------------\n",
    "\n",
    "https://towardsdatascience.com/why-is-everyone-at-kaggle-obsessed-with-optuna-for-hyperparameter-tuning-7608fdca337c?source=your_stories_page-------------------------------------"
   ]
  }
 ],
 "metadata": {
  "kernelspec": {
   "display_name": "medium_articles",
   "language": "python",
   "name": "medium_articles"
  },
  "language_info": {
   "codemirror_mode": {
    "name": "ipython",
    "version": 3
   },
   "file_extension": ".py",
   "mimetype": "text/x-python",
   "name": "python",
   "nbconvert_exporter": "python",
   "pygments_lexer": "ipython3",
   "version": "3.8.5"
  }
 },
 "nbformat": 4,
 "nbformat_minor": 4
}
