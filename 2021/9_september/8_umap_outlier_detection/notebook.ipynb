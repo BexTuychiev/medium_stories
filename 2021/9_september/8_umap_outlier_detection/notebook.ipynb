{
 "cells": [
  {
   "cell_type": "markdown",
   "id": "64c0a716-81f9-4b71-9bb7-7fe92ffc583e",
   "metadata": {
    "tags": []
   },
   "source": [
    "# How to Perform N Times Faster Outlier Detection in UMAP (Python) on Million-row Datasets\n",
    "## SUBTITLE TODO\n",
    "![](images/pixabay.jpg)\n",
    "<figcaption style=\"text-align: center;\">\n",
    "    <strong>\n",
    "        Photo by \n",
    "        <a href='https://pixabay.com/users/publicdomainpictures-14/?utm_source=link-attribution&utm_medium=referral&utm_campaign=image&utm_content=2205'>PublicDomainPictures</a>\n",
    "        on \n",
    "        <a href='https://pixabay.com/?utm_source=link-attribution&utm_medium=referral&utm_campaign=image&utm_content=2205'></a>\n",
    "    </strong>\n",
    "</figcaption>"
   ]
  },
  {
   "cell_type": "markdown",
   "id": "7e8bbdef-0baf-4843-86b3-5f6f73811e7a",
   "metadata": {},
   "source": [
    "# Setup"
   ]
  },
  {
   "cell_type": "code",
   "execution_count": null,
   "id": "f9905bd8-b983-4665-889b-09f73f7ebe8f",
   "metadata": {},
   "outputs": [
    {
     "data": {
      "text/html": [
       "<style type='text/css'>\n",
       ".datatable table.frame { margin-bottom: 0; }\n",
       ".datatable table.frame thead { border-bottom: none; }\n",
       ".datatable table.frame tr.coltypes td {  color: #FFFFFF;  line-height: 6px;  padding: 0 0.5em;}\n",
       ".datatable .bool    { background: #DDDD99; }\n",
       ".datatable .object  { background: #565656; }\n",
       ".datatable .int     { background: #5D9E5D; }\n",
       ".datatable .float   { background: #4040CC; }\n",
       ".datatable .str     { background: #CC4040; }\n",
       ".datatable .time    { background: #40CC40; }\n",
       ".datatable .row_index {  background: var(--jp-border-color3);  border-right: 1px solid var(--jp-border-color0);  color: var(--jp-ui-font-color3);  font-size: 9px;}\n",
       ".datatable .frame tbody td { text-align: left; }\n",
       ".datatable .frame tr.coltypes .row_index {  background: var(--jp-border-color0);}\n",
       ".datatable th:nth-child(2) { padding-left: 12px; }\n",
       ".datatable .hellipsis {  color: var(--jp-cell-editor-border-color);}\n",
       ".datatable .vellipsis {  background: var(--jp-layout-color0);  color: var(--jp-cell-editor-border-color);}\n",
       ".datatable .na {  color: var(--jp-cell-editor-border-color);  font-size: 80%;}\n",
       ".datatable .sp {  opacity: 0.25;}\n",
       ".datatable .footer { font-size: 9px; }\n",
       ".datatable .frame_dimensions {  background: var(--jp-border-color3);  border-top: 1px solid var(--jp-border-color0);  color: var(--jp-ui-font-color3);  display: inline-block;  opacity: 0.6;  padding: 1px 10px 1px 5px;}\n",
       "</style>\n"
      ],
      "text/plain": [
       "<IPython.core.display.HTML object>"
      ]
     },
     "metadata": {},
     "output_type": "display_data"
    }
   ],
   "source": [
    "import logging\n",
    "import time\n",
    "import warnings\n",
    "\n",
    "import catboost as cb\n",
    "import datatable as dt\n",
    "import joblib\n",
    "import lightgbm as lgbm\n",
    "import matplotlib.pyplot as plt\n",
    "import numpy as np\n",
    "import optuna\n",
    "import pandas as pd\n",
    "import seaborn as sns\n",
    "import xgboost as xgb\n",
    "from optuna.samplers import TPESampler\n",
    "from sklearn.compose import (\n",
    "    ColumnTransformer,\n",
    "    make_column_selector,\n",
    "    make_column_transformer,\n",
    ")\n",
    "from sklearn.impute import SimpleImputer\n",
    "from sklearn.metrics import log_loss, mean_squared_error\n",
    "from sklearn.model_selection import (\n",
    "    KFold,\n",
    "    StratifiedKFold,\n",
    "    cross_validate,\n",
    "    train_test_split,\n",
    ")\n",
    "from sklearn.pipeline import Pipeline, make_pipeline\n",
    "from sklearn.preprocessing import OneHotEncoder, OrdinalEncoder\n",
    "\n",
    "logging.basicConfig(\n",
    "    format=\"%(asctime)s - %(message)s\", datefmt=\"%d-%b-%y %H:%M:%S\", level=logging.INFO\n",
    ")\n",
    "optuna.logging.set_verbosity(optuna.logging.WARNING)\n",
    "warnings.filterwarnings(\"ignore\")\n",
    "pd.set_option(\"float_format\", \"{:.5f}\".format)"
   ]
  },
  {
   "cell_type": "markdown",
   "id": "6d26cb35-13f8-4002-b727-abfaeb30fd79",
   "metadata": {
    "tags": []
   },
   "source": [
    "# Introduction"
   ]
  },
  {
   "cell_type": "markdown",
   "id": "56a8f3fb-3db8-47c4-9169-d195ab6d3101",
   "metadata": {},
   "source": [
    "We've all used those simple techniques - plot a scatterplot or a KDE, and the data points farthest from the group are outliers. Now, tell me - how would you use these methods if you were to find outliers in say, 100-dimensional datasets? Right off the bat, visual outlier detection methods are out of the question. So, fancy machine learning algorithms like Local Outlier Factor or Isolation Forest come to mind, which are fairly effectively against outliers that lie in high-dimensional data. \n",
    "\n",
    "But there are many caveats to using ML methods to detect outliers. A method called Elliptical Envelope uses a covariance estimation but assumes the data is normally distributed (which is rarely the case). Local Outlier Factor is much faster than Isolation Forest at the risk of lower accuracy. \n",
    "\n",
    "So, how can we excel at both speed and accuracy at outlier detection when dealing with massive, million-row datasets that are so common? That's where UMAP comes in."
   ]
  },
  {
   "cell_type": "markdown",
   "id": "bec6f913-cce9-4bc7-adf2-d05a78bc5ff0",
   "metadata": {},
   "source": [
    "# What is UMAP?"
   ]
  },
  {
   "cell_type": "markdown",
   "id": "ab12c63f-1970-4b7c-89f6-26d6449540d4",
   "metadata": {},
   "source": [
    "UMAP (Uniform Manifold Approximation & Projection) is a dimensionality reduction algorithm, introduced in 2018. It combines the best features of PCA and tSNE - it can scale to large datasets easily and compete with PCA in terms of speed, and project data to low dimensional space much more effectively and beautifully than tSNE:\n",
    "\n",
    "<p float=\"left\">\n",
    "  <img src=\"https://miro.medium.com/max/1250/1*OMXhwgFxgwn5fLEkGrV_Pw.png\" width=\"300\" height=\"300\"/>\n",
    "  <img src=\"https://miro.medium.com/max/3750/1*GEeKKJET7WzzrGcWhL3H-A.png\" width=\"300\" height=\"300\"/> \n",
    "  <img src=\"https://miro.medium.com/max/1250/1*rlfn-CugxKhmZ8G7sLJQJQ.png\" width=\"300\" height=\"300\"/>\n",
    "</p>"
   ]
  },
  {
   "cell_type": "markdown",
   "id": "d9484083-8247-45ae-ae3d-1baa3a0bb5b7",
   "metadata": {},
   "source": [
    "The UMAP python package has a familiar Scikit-learn API. Below is an example projecting the Kaggle TPS September Competition to 2D:"
   ]
  },
  {
   "cell_type": "code",
   "execution_count": 2,
   "id": "e33cbde8-4334-481b-aa55-3e64a77e21b7",
   "metadata": {},
   "outputs": [
    {
     "data": {
      "text/plain": [
       "(957919, 120)"
      ]
     },
     "execution_count": 2,
     "metadata": {},
     "output_type": "execute_result"
    }
   ],
   "source": [
    "import datatable as dt\n",
    "import pandas as pd\n",
    "import umap  # pip install umap-learn\n",
    "\n",
    "tps = dt.fread(\"data/train.csv\").to_pandas()\n",
    "tps.shape"
   ]
  },
  {
   "cell_type": "markdown",
   "id": "fe4d87d3-d6e0-4578-89f1-4aaaef771c6a",
   "metadata": {},
   "source": [
    "```python\n",
    "X, y = tps.drop(\"claim\", axis=1), tps[[\"claim\"]].values.flatten()\n",
    "\n",
    "# Initialize the manifold\n",
    "manifold = umap.UMAP(n_components=2)\n",
    "manifold.fit(X, y)\n",
    "\n",
    "X_2d = manifold.transform(X)\n",
    "```"
   ]
  },
  {
   "cell_type": "markdown",
   "id": "3d8e38c0-04fe-427a-8cf4-1ef09831c55a",
   "metadata": {},
   "source": [
    "UMAP is designed so that whatever dimension you project the data to, it reserves as much variance and topological structure of the data as possible. But what does it have to do with outlier detection?\n",
    "\n",
    "Well, since we know that UMAP preserves all the pecularities and attributes of the dataset even in lower dimensions, we can use it to first project the data to a lower space and then use any other outlier detection algorithm much faster! In the coming sections, we will look at an example of this using the above TPS September data."
   ]
  },
  {
   "cell_type": "markdown",
   "id": "e37a9012-b8bc-4fef-ae3a-98a87eb5b90a",
   "metadata": {},
   "source": [
    "> If you want to learn more about UMAP and its awesome features, I have covered it in-depth in a previous article:\n",
    "\n",
    "https://towardsdatascience.com/beginners-guide-to-umap-for-reducing-dimensionality-and-visualizing-100-dimensional-datasets-ff5590fb17be\n"
   ]
  },
  {
   "cell_type": "markdown",
   "id": "227a924d-d148-45f4-8e14-8cd5062bfc48",
   "metadata": {},
   "source": [
    "# Setting a baseline with pure Isolation Forest"
   ]
  },
  {
   "cell_type": "markdown",
   "id": "2673874f-204b-4500-9202-c75c5ac2f920",
   "metadata": {},
   "source": [
    "Before we move on, let's establish a baseline performance. First, we will fit a CatBoostClassifier for a benchmark:"
   ]
  },
  {
   "cell_type": "code",
   "execution_count": 38,
   "id": "aeb13bed-ee2e-48d8-8750-f53ba7246c29",
   "metadata": {},
   "outputs": [],
   "source": [
    "from sklearn.ensemble import IsolationForest\n",
    "\n",
    "tps = dt.fread(\"data/train.csv\").to_pandas()\n",
    "X, y = tps.drop(\"claim\", axis=1), tps[[\"claim\"]].values.flatten()"
   ]
  },
  {
   "cell_type": "code",
   "execution_count": 37,
   "id": "a81b3f6c-be24-4c07-8d49-964f22646c46",
   "metadata": {
    "jupyter": {
     "source_hidden": true
    },
    "tags": []
   },
   "outputs": [],
   "source": [
    "### HIDE, wont' affect the speed\n",
    "\n",
    "\n",
    "def reduce_memory_usage(X: pd.DataFrame):\n",
    "    numerics = [\"int8\", \"int16\", \"int32\", \"int64\", \"float16\", \"float32\", \"float64\"]\n",
    "    for col in X.columns:\n",
    "        col_type = X[col].dtypes\n",
    "        if col_type in numerics:\n",
    "            c_min = X[col].min()\n",
    "            c_max = X[col].max()\n",
    "            if str(col_type)[:3] == \"int\":\n",
    "                if c_min > np.iinfo(np.int8).min and c_max < np.iinfo(np.int8).max:\n",
    "                    X[col] = X[col].astype(np.int8)\n",
    "                elif c_min > np.iinfo(np.int16).min and c_max < np.iinfo(np.int16).max:\n",
    "                    X[col] = X[col].astype(np.int16)\n",
    "                elif c_min > np.iinfo(np.int32).min and c_max < np.iinfo(np.int32).max:\n",
    "                    X[col] = X[col].astype(np.int32)\n",
    "                elif c_min > np.iinfo(np.int64).min and c_max < np.iinfo(np.int64).max:\n",
    "                    X[col] = X[col].astype(np.int64)\n",
    "            else:\n",
    "                if (\n",
    "                    c_min > np.finfo(np.float32).min\n",
    "                    and c_max < np.finfo(np.float32).max\n",
    "                ):\n",
    "                    X[col] = X[col].astype(np.float32)\n",
    "                else:\n",
    "                    X[col] = X[col].astype(np.float64)\n",
    "\n",
    "    return X\n",
    "\n",
    "\n",
    "def add_new_features(X: pd.DataFrame):\n",
    "    # Calculate num and std of missing across rows\n",
    "    num_missing = X.isna().sum(axis=1)\n",
    "    std_missing = X.isna().std(axis=1)\n",
    "\n",
    "    # Add new features\n",
    "    X[\"#missing\"] = num_missing\n",
    "    X[\"std_missing\"] = std_missing\n",
    "\n",
    "    return X\n",
    "\n",
    "\n",
    "X = reduce_memory_usage(X.copy())\n",
    "X = add_new_features(X.copy())"
   ]
  },
  {
   "cell_type": "code",
   "execution_count": 42,
   "id": "896738da-689e-4ab5-9582-28cd4fd3a6ce",
   "metadata": {},
   "outputs": [
    {
     "data": {
      "text/plain": [
       "0.7847255607853264"
      ]
     },
     "execution_count": 42,
     "metadata": {},
     "output_type": "execute_result"
    }
   ],
   "source": [
    "from sklearn.pipeline import make_pipeline\n",
    "\n",
    "X_train, X_valid, y_train, y_valid = train_test_split(\n",
    "    X, y, random_state=11212128, test_size=0.1\n",
    ")\n",
    "\n",
    "pipe = make_pipeline(\n",
    "    SimpleImputer(),\n",
    "    cb.CatBoostClassifier(task_type=\"GPU\", n_estimators=1000, verbose=False),\n",
    ")\n",
    "\n",
    "pipe.fit(X_train, y_train)\n",
    "preds = pipe.predict_proba(X_valid)\n",
    "\n",
    "roc_auc_score(y_valid, preds[:, 1])"
   ]
  },
  {
   "cell_type": "markdown",
   "id": "b659e5b2-ab9b-4677-94cd-a6868a450203",
   "metadata": {},
   "source": [
    "We have got a ROC AUC score of 0.784. Now, let's fit an Isolation Forest estimator to the data after imputing missing data:"
   ]
  },
  {
   "cell_type": "code",
   "execution_count": 34,
   "id": "8fb6d680-3efe-4b82-934a-880667bc7128",
   "metadata": {},
   "outputs": [],
   "source": [
    "from sklearn.impute import SimpleImputer\n",
    "\n",
    "# Impute\n",
    "X_imputed = SimpleImputer().fit_transform(X.copy())"
   ]
  },
  {
   "cell_type": "markdown",
   "id": "cc7cc725-59b4-4f92-8ba3-2136e9549f78",
   "metadata": {},
   "source": [
    "Event though powerful, Isolation Forest has only a few parameters to tune. The most important one is `n_estimators`, which controls the number of trees to be built. We are setting to 3000 considering the dataset size."
   ]
  },
  {
   "cell_type": "code",
   "execution_count": 35,
   "id": "8d015fcb-fdd4-4e26-9127-b791c48e686f",
   "metadata": {},
   "outputs": [
    {
     "name": "stdout",
     "output_type": "stream",
     "text": [
      "Wall time: 48min 19s\n"
     ]
    }
   ],
   "source": [
    "%%time\n",
    "\n",
    "# Init Isolation Forest\n",
    "iso = IsolationForest(n_estimators=3000, n_jobs=9)\n",
    "labels = iso.fit_predict(X_imputed)"
   ]
  },
  {
   "cell_type": "code",
   "execution_count": 36,
   "id": "df99fd7f-c035-4c7b-ba01-76317cac3d9f",
   "metadata": {},
   "outputs": [
    {
     "data": {
      "text/plain": [
       "2270"
      ]
     },
     "execution_count": 36,
     "metadata": {},
     "output_type": "execute_result"
    }
   ],
   "source": [
    "np.sum(labels == -1)"
   ]
  },
  {
   "cell_type": "markdown",
   "id": "4b1c2570-3c4e-4a36-92a7-ba669496a4a0",
   "metadata": {
    "tags": []
   },
   "source": [
    "After waiting for about 50 minutes, we discover that Isolation Forest found 2270 outliers in the data. Let's drop those values from the training data and fit a classifier again:"
   ]
  },
  {
   "cell_type": "code",
   "execution_count": 45,
   "id": "9a021916-c365-4cd0-97b9-67c148ce2615",
   "metadata": {},
   "outputs": [
    {
     "data": {
      "text/plain": [
       "0.7830150068211033"
      ]
     },
     "execution_count": 45,
     "metadata": {},
     "output_type": "execute_result"
    }
   ],
   "source": [
    "outlier_idx = np.where(labels == -1)[0]\n",
    "X_reduced = X.copy().drop(outlier_idx)\n",
    "y_reduced = np.delete(y, outlier_idx)\n",
    "\n",
    "# Impute again\n",
    "X_reduced_imputed = SimpleImputer().fit_transform(X_reduced)\n",
    "\n",
    "X_train, X_valid, y_train, y_valid = train_test_split(\n",
    "    X_reduced_imputed, y_reduced, random_state=1121218, test_size=0.1\n",
    ")\n",
    "\n",
    "clf = cb.CatBoostClassifier(task_type=\"GPU\", n_estimators=1000, verbose=False).fit(\n",
    "    X_train, y_train\n",
    ")\n",
    "\n",
    "preds = clf.predict_proba(X_valid)\n",
    "roc_auc_score(y_valid, preds[:, 1])"
   ]
  },
  {
   "cell_type": "markdown",
   "id": "dc7e468e-8047-4877-bdc1-cf22388e0004",
   "metadata": {},
   "source": [
    "We got a slight drop in the performance, but that's not a sign for us to drop our efforts of finding outliers. At this point, we don't really know whether these ~2200 data points are all the outliers in the data. We don't know whether we build Isolation Forest with enough trees, as well. The worst part, we can't try the experiment again because it is too time-consuming.\n",
    "\n",
    "That's why we will start playing smart."
   ]
  },
  {
   "cell_type": "markdown",
   "id": "fdd183b4-9c9b-4594-a001-4e3a23bd9898",
   "metadata": {},
   "source": [
    "# Outlier detection with UMAP combined with Isolation Forest"
   ]
  },
  {
   "cell_type": "markdown",
   "id": "d9993e48-c31d-400f-a761-c8edc4d6f633",
   "metadata": {},
   "source": [
    "After we found the 2270 outliers, we didn't double-check whether they were actually outliers. Traditional visualization methods won't work, so let's try projecting the data to 2D first and plot a scatterplot:"
   ]
  },
  {
   "cell_type": "code",
   "execution_count": 11,
   "id": "f681a7b9-3b9a-42f3-82f2-704c38d37438",
   "metadata": {
    "tags": []
   },
   "outputs": [
    {
     "name": "stdout",
     "output_type": "stream",
     "text": [
      "Wall time: 13min 53s\n"
     ]
    },
    {
     "data": {
      "text/plain": [
       "<AxesSubplot:>"
      ]
     },
     "execution_count": 11,
     "metadata": {},
     "output_type": "execute_result"
    },
    {
     "data": {
      "image/png": "[encoded data removed]",
      "text/plain": [
       "<Figure size 800x800 with 1 Axes>"
      ]
     },
     "metadata": {},
     "output_type": "display_data"
    }
   ],
   "source": [
    "%%time\n",
    "\n",
    "import umap\n",
    "import umap.plot  # pip install umap-learn[plot]\n",
    "from sklearn.impute import SimpleImputer\n",
    "from sklearn.pipeline import make_pipeline\n",
    "from sklearn.preprocessing import QuantileTransformer\n",
    "\n",
    "# Make a pipeline\n",
    "pipe = make_pipeline(SimpleImputer(), QuantileTransformer())\n",
    "X_processed = pipe.fit_transform(X)\n",
    "\n",
    "# Fit the manifold and visualize\n",
    "manifold = umap.UMAP().fit(X_processed, y)\n",
    "\n",
    "umap.plot.points(manifold, labels=y, theme=\"fire\")"
   ]
  },
  {
   "cell_type": "markdown",
   "id": "937e13a6-bde7-4e7f-bf94-16f0554bdae1",
   "metadata": {},
   "source": [
    "We can immediately see singleton points farthest from the two distinct clusters (they are displayed in small sizes because we didn't tweak UMAP parameters). We can confidently classify these points as outliers and trust the results we obtained from Isolation Forest. \n",
    "\n",
    "Now, we will combine UMAP with IsolationForest. To maximize retention as much as possible, we will project the data to 5 dimensions. Then, we will fit Isolation Forest with only 500 trees, since we have much fewer features this time:"
   ]
  },
  {
   "cell_type": "code",
   "execution_count": 46,
   "id": "94f1c478-f49b-42e2-ba62-7f589221f313",
   "metadata": {},
   "outputs": [],
   "source": [
    "## HIDE\n",
    "\n",
    "import umap\n",
    "from sklearn.impute import SimpleImputer\n",
    "from sklearn.pipeline import make_pipeline\n",
    "from sklearn.preprocessing import QuantileTransformer"
   ]
  },
  {
   "cell_type": "code",
   "execution_count": 50,
   "id": "fb7d516d-c272-4307-83c7-1d675772109e",
   "metadata": {},
   "outputs": [
    {
     "name": "stdout",
     "output_type": "stream",
     "text": [
      "Wall time: 16min 22s\n"
     ]
    }
   ],
   "source": [
    "%%time\n",
    "\n",
    "from sklearn.ensemble import IsolationForest\n",
    "\n",
    "# Transform the data\n",
    "pipe = make_pipeline(SimpleImputer(), QuantileTransformer(), umap.UMAP(n_components=5))\n",
    "X_processed = pipe.fit_transform(X)\n",
    "\n",
    "# Fit IsolationForest and predict labels\n",
    "iso = IsolationForest(n_estimators=500, n_jobs=9)\n",
    "labels = iso.fit_predict(X_processed)"
   ]
  },
  {
   "cell_type": "code",
   "execution_count": 51,
   "id": "75ff7cd7-2b3a-4279-aa86-3c7e376affca",
   "metadata": {},
   "outputs": [
    {
     "data": {
      "text/plain": [
       "162997"
      ]
     },
     "execution_count": 51,
     "metadata": {},
     "output_type": "execute_result"
    }
   ],
   "source": [
    "np.sum(labels == -1)"
   ]
  },
  {
   "cell_type": "markdown",
   "id": "6003bc18-5876-4c7e-9f84-d40711bacf24",
   "metadata": {},
   "source": [
    "The whole transformation and outlier detection took three times less amount of time. But here is the surprise - this time, Isolation Forest found a whopping ~163k outliers out of 950k. Are we making a mistake? Let's check by fitting a classifier once again after dropping these outliers:"
   ]
  },
  {
   "cell_type": "code",
   "execution_count": 52,
   "id": "d544ee46-e65d-48ca-b62d-b3c802b1708e",
   "metadata": {},
   "outputs": [
    {
     "data": {
      "text/plain": [
       "0.7852876861807212"
      ]
     },
     "execution_count": 52,
     "metadata": {},
     "output_type": "execute_result"
    }
   ],
   "source": [
    "outlier_idx = np.where(labels == -1)[0]\n",
    "X_reduced = X.copy().drop(outlier_idx)\n",
    "y_reduced = np.delete(y, outlier_idx)\n",
    "\n",
    "# Impute again\n",
    "X_reduced_imputed = SimpleImputer().fit_transform(X_reduced)\n",
    "\n",
    "X_train, X_valid, y_train, y_valid = train_test_split(\n",
    "    X_reduced_imputed, y_reduced, random_state=1121218, test_size=0.1\n",
    ")\n",
    "\n",
    "clf = cb.CatBoostClassifier(task_type=\"GPU\", n_estimators=1000, verbose=False).fit(\n",
    "    X_train, y_train\n",
    ")\n",
    "\n",
    "preds = clf.predict_proba(X_valid)\n",
    "roc_auc_score(y_valid, preds[:, 1])"
   ]
  },
  {
   "cell_type": "markdown",
   "id": "78803ea5-ebff-4d29-a573-27df5b6efae3",
   "metadata": {},
   "source": [
    "It seems that 3000 trees were not enough to find all the outliers in the data. We clearly see that even after dropping 160k observations, we are still getting the same results."
   ]
  },
  {
   "cell_type": "markdown",
   "id": "dd727df5-42e9-453a-b304-86cf2ad251b3",
   "metadata": {},
   "source": [
    "# Summary"
   ]
  },
  {
   "cell_type": "markdown",
   "id": "70102fc9-9bae-466b-a7e8-36bb0154218d",
   "metadata": {},
   "source": [
    "Yes, we didn't get a significant improvement after removing outliers from the dataset. In fact, you could have said all our efforts were complete waste in terms of practicality. \n",
    "\n",
    "However, the purpose of this article was to show you that outlier detection will become much less time/resource-consuming when combining it powerful dimensionality reduction techniques like UMAP. As you have seen, we achieved much better performance in terms of detection with much less resources in Isolation Forests. \n",
    "\n",
    "Outliers are real and serious problem in the ML world. The techniques you have learned today will surely benefit you against scenarios like below, especially when you data is massive and high-dimensional:\n",
    "\n",
    "![](https://scikit-learn.org/stable/_images/sphx_glr_plot_huber_vs_ridge_001.png)\n",
    "<figcaption style=\"text-align: center;\">\n",
    "    <strong>\n",
    "        Photo from Sklearn documentation\n",
    "    </strong>\n",
    "</figcaption>\n",
    "\n",
    "\n",
    "ADD CTA"
   ]
  }
 ],
 "metadata": {
  "kernelspec": {
   "display_name": "medium_articles",
   "language": "python",
   "name": "medium_articles"
  },
  "language_info": {
   "codemirror_mode": {
    "name": "ipython",
    "version": 3
   },
   "file_extension": ".py",
   "mimetype": "text/x-python",
   "name": "python",
   "nbconvert_exporter": "python",
   "pygments_lexer": "ipython3",
   "version": "3.8.11"
  }
 },
 "nbformat": 4,
 "nbformat_minor": 5
}
