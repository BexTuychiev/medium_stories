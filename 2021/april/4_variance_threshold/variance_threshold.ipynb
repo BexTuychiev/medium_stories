{
 "cells": [
  {
   "cell_type": "markdown",
   "metadata": {},
   "source": [
    "# How to Use Variance Threshold Properly\n",
    "## There is more to it than just choosing a threshold\n",
    "<img src='images/pexels.jpg'></img>\n",
    "<figcaption style=\"text-align: center;\">\n",
    "    <strong>\n",
    "        Photo by \n",
    "        <a href='https://www.pexels.com/@billelmoula?utm_content=attributionCopyText&utm_medium=referral&utm_source=pexels'>Billel Moula</a>\n",
    "        on \n",
    "        <a href='https://www.pexels.com/photo/black-and-teal-mountain-540518/?utm_content=attributionCopyText&utm_medium=referral&utm_source=pexels'>Pexels</a>\n",
    "    </strong>\n",
    "</figcaption>"
   ]
  },
  {
   "cell_type": "markdown",
   "metadata": {},
   "source": [
    "### Setup"
   ]
  },
  {
   "cell_type": "code",
   "execution_count": 1,
   "metadata": {},
   "outputs": [],
   "source": [
    "import warnings\n",
    "\n",
    "import matplotlib.pyplot as plt\n",
    "import numpy as np\n",
    "import pandas as pd\n",
    "import seaborn as sns\n",
    "\n",
    "warnings.filterwarnings(\"ignore\")"
   ]
  },
  {
   "cell_type": "markdown",
   "metadata": {},
   "source": [
    "### Intro to Feature Selection"
   ]
  },
  {
   "cell_type": "markdown",
   "metadata": {},
   "source": [
    "Today, it is common for datasets to have hundreds if not thousands of features. On the surface, this might seem like a good thing - more features give more information about each sample. But more often that not, these additional features don't provide that much value and introduce unnecessary complexity.\n",
    "\n",
    "The biggest challenge of Machine Learning is to create models that have robust predictive power by using as few features as possible. But given the massive sizes of today's datasets, it is easy to lose the oversight of which features are important and which ones aren't. \n",
    "\n",
    "That's why, there is an entire skill to be learned in the ML field - **feature selection**. Feature selection is the process of choosing a subset of the most important features while trying to retain as much information as possible. \n",
    "\n",
    "As an example, let's say we have a dataset of body measurements such as weight, height, BMI, etc. Basic feature selection techniques should be able to drop BMI by finding out that BMI can be represented by weight and height.\n",
    "\n",
    "In this article, we will explore one such feature selection technique called Variance Thresholding. This technique is a quick and light-weight way of eliminating features with very low variance, i. e. features with not much useful information."
   ]
  },
  {
   "cell_type": "markdown",
   "metadata": {},
   "source": [
    "### A Note on Variance"
   ]
  },
  {
   "cell_type": "markdown",
   "metadata": {},
   "source": [
    "For those who are not familiar, *variance*, as the name suggests, shows the variability in a distribution in a single metric. It shows how spread out the distribution is and shows the average squared distance from the mean:"
   ]
  },
  {
   "attachments": {
    "8675e508-b7aa-46e0-80f9-681a704eb413.png": {
     "image/png": "[encoded data removed]"
    }
   },
   "cell_type": "markdown",
   "metadata": {},
   "source": [
    "![image.png](attachment:8675e508-b7aa-46e0-80f9-681a704eb413.png)"
   ]
  },
  {
   "cell_type": "markdown",
   "metadata": {},
   "source": [
    "Obviously, distributions with bigger values yield a bigger variance because each difference is squared. But the main thing we care about in ML is that the distribution actually contains useful information. For example, consider this distribution:"
   ]
  },
  {
   "cell_type": "code",
   "execution_count": 2,
   "metadata": {},
   "outputs": [
    {
     "data": {
      "text/plain": [
       "0.0"
      ]
     },
     "execution_count": 2,
     "metadata": {},
     "output_type": "execute_result"
    }
   ],
   "source": [
    "dist_1 = [2, 2, 2, 2, 2, 2, 2, 2]\n",
    "\n",
    "np.std(dist_1)"
   ]
  },
  {
   "cell_type": "markdown",
   "metadata": {},
   "source": [
    "Computing the variance with Numpy shows us that the distribution has 0 variance or in other words completely useless. Using a feature with zero-variance only adds to model complexity not to its predictive power. Consider another one:"
   ]
  },
  {
   "cell_type": "code",
   "execution_count": 3,
   "metadata": {},
   "outputs": [
    {
     "data": {
      "text/plain": [
       "0.28747978728803447"
      ]
     },
     "execution_count": 3,
     "metadata": {},
     "output_type": "execute_result"
    }
   ],
   "source": [
    "dist_2 = [5, 5, 5, 5, 5, 5, 5, 5, 5, 5, 6]\n",
    "\n",
    "np.std(dist_2)"
   ]
  },
  {
   "cell_type": "markdown",
   "metadata": {},
   "source": [
    "Similarly, this one is almost made up of a single constant. Distributions that go around a single constant with a few exceptions are also useless. In other words, any feature or distribution with close to 0 variance should be dropped. "
   ]
  },
  {
   "cell_type": "markdown",
   "metadata": {},
   "source": [
    "### How to Use Scikit-learn's VarianceThreshold Estimator"
   ]
  },
  {
   "cell_type": "markdown",
   "metadata": {
    "tags": []
   },
   "source": [
    "Manually computing variances and thresholding them can be a lot of work. Fortunately, Scikit-learn provides `VarianceThreshold` estimator which can do all the work for us. Just pass a threshold cut-off and all features below that threshold will be dropped. "
   ]
  },
  {
   "cell_type": "markdown",
   "metadata": {},
   "source": [
    "To demonstrate `VarianceThreshold`, we will be working with Ansur dataset. This dataset records measurements of the human body in every imaginable way. Both male and female datasets contain 108 features or measurements of almost 6000 (4000 male, 2000 female) US Army Personnel. We will will be focusing on the male dataset:"
   ]
  },
  {
   "cell_type": "code",
   "execution_count": 4,
   "metadata": {},
   "outputs": [
    {
     "data": {
      "text/html": [
       "<div>\n",
       "<style scoped>\n",
       "    .dataframe tbody tr th:only-of-type {\n",
       "        vertical-align: middle;\n",
       "    }\n",
       "\n",
       "    .dataframe tbody tr th {\n",
       "        vertical-align: top;\n",
       "    }\n",
       "\n",
       "    .dataframe thead th {\n",
       "        text-align: right;\n",
       "    }\n",
       "</style>\n",
       "<table border=\"1\" class=\"dataframe\">\n",
       "  <thead>\n",
       "    <tr style=\"text-align: right;\">\n",
       "      <th></th>\n",
       "      <th>abdominalextensiondepthsitting</th>\n",
       "      <th>acromialheight</th>\n",
       "      <th>acromionradialelength</th>\n",
       "      <th>anklecircumference</th>\n",
       "      <th>axillaheight</th>\n",
       "      <th>balloffootcircumference</th>\n",
       "      <th>balloffootlength</th>\n",
       "      <th>biacromialbreadth</th>\n",
       "      <th>bicepscircumferenceflexed</th>\n",
       "      <th>bicristalbreadth</th>\n",
       "      <th>...</th>\n",
       "      <th>Branch</th>\n",
       "      <th>PrimaryMOS</th>\n",
       "      <th>SubjectsBirthLocation</th>\n",
       "      <th>SubjectNumericRace</th>\n",
       "      <th>Ethnicity</th>\n",
       "      <th>DODRace</th>\n",
       "      <th>Age</th>\n",
       "      <th>Heightin</th>\n",
       "      <th>Weightlbs</th>\n",
       "      <th>WritingPreference</th>\n",
       "    </tr>\n",
       "  </thead>\n",
       "  <tbody>\n",
       "    <tr>\n",
       "      <th>0</th>\n",
       "      <td>266</td>\n",
       "      <td>1467</td>\n",
       "      <td>337</td>\n",
       "      <td>222</td>\n",
       "      <td>1347</td>\n",
       "      <td>253</td>\n",
       "      <td>202</td>\n",
       "      <td>401</td>\n",
       "      <td>369</td>\n",
       "      <td>274</td>\n",
       "      <td>...</td>\n",
       "      <td>Combat Arms</td>\n",
       "      <td>19D</td>\n",
       "      <td>North Dakota</td>\n",
       "      <td>1</td>\n",
       "      <td>NaN</td>\n",
       "      <td>1</td>\n",
       "      <td>41</td>\n",
       "      <td>71</td>\n",
       "      <td>180</td>\n",
       "      <td>Right hand</td>\n",
       "    </tr>\n",
       "    <tr>\n",
       "      <th>1</th>\n",
       "      <td>233</td>\n",
       "      <td>1395</td>\n",
       "      <td>326</td>\n",
       "      <td>220</td>\n",
       "      <td>1293</td>\n",
       "      <td>245</td>\n",
       "      <td>193</td>\n",
       "      <td>394</td>\n",
       "      <td>338</td>\n",
       "      <td>257</td>\n",
       "      <td>...</td>\n",
       "      <td>Combat Support</td>\n",
       "      <td>68W</td>\n",
       "      <td>New York</td>\n",
       "      <td>1</td>\n",
       "      <td>NaN</td>\n",
       "      <td>1</td>\n",
       "      <td>35</td>\n",
       "      <td>68</td>\n",
       "      <td>160</td>\n",
       "      <td>Left hand</td>\n",
       "    </tr>\n",
       "    <tr>\n",
       "      <th>2</th>\n",
       "      <td>287</td>\n",
       "      <td>1430</td>\n",
       "      <td>341</td>\n",
       "      <td>230</td>\n",
       "      <td>1327</td>\n",
       "      <td>256</td>\n",
       "      <td>196</td>\n",
       "      <td>427</td>\n",
       "      <td>408</td>\n",
       "      <td>261</td>\n",
       "      <td>...</td>\n",
       "      <td>Combat Support</td>\n",
       "      <td>68W</td>\n",
       "      <td>New York</td>\n",
       "      <td>2</td>\n",
       "      <td>NaN</td>\n",
       "      <td>2</td>\n",
       "      <td>42</td>\n",
       "      <td>68</td>\n",
       "      <td>205</td>\n",
       "      <td>Left hand</td>\n",
       "    </tr>\n",
       "    <tr>\n",
       "      <th>3</th>\n",
       "      <td>234</td>\n",
       "      <td>1347</td>\n",
       "      <td>310</td>\n",
       "      <td>230</td>\n",
       "      <td>1239</td>\n",
       "      <td>262</td>\n",
       "      <td>199</td>\n",
       "      <td>401</td>\n",
       "      <td>359</td>\n",
       "      <td>262</td>\n",
       "      <td>...</td>\n",
       "      <td>Combat Service Support</td>\n",
       "      <td>88M</td>\n",
       "      <td>Wisconsin</td>\n",
       "      <td>1</td>\n",
       "      <td>NaN</td>\n",
       "      <td>1</td>\n",
       "      <td>31</td>\n",
       "      <td>66</td>\n",
       "      <td>175</td>\n",
       "      <td>Right hand</td>\n",
       "    </tr>\n",
       "    <tr>\n",
       "      <th>4</th>\n",
       "      <td>250</td>\n",
       "      <td>1585</td>\n",
       "      <td>372</td>\n",
       "      <td>247</td>\n",
       "      <td>1478</td>\n",
       "      <td>267</td>\n",
       "      <td>224</td>\n",
       "      <td>435</td>\n",
       "      <td>356</td>\n",
       "      <td>263</td>\n",
       "      <td>...</td>\n",
       "      <td>Combat Service Support</td>\n",
       "      <td>92G</td>\n",
       "      <td>North Carolina</td>\n",
       "      <td>2</td>\n",
       "      <td>NaN</td>\n",
       "      <td>2</td>\n",
       "      <td>21</td>\n",
       "      <td>77</td>\n",
       "      <td>213</td>\n",
       "      <td>Right hand</td>\n",
       "    </tr>\n",
       "  </tbody>\n",
       "</table>\n",
       "<p>5 rows × 107 columns</p>\n",
       "</div>"
      ],
      "text/plain": [
       "   abdominalextensiondepthsitting  acromialheight  acromionradialelength  \\\n",
       "0                             266            1467                    337   \n",
       "1                             233            1395                    326   \n",
       "2                             287            1430                    341   \n",
       "3                             234            1347                    310   \n",
       "4                             250            1585                    372   \n",
       "\n",
       "   anklecircumference  axillaheight  balloffootcircumference  \\\n",
       "0                 222          1347                      253   \n",
       "1                 220          1293                      245   \n",
       "2                 230          1327                      256   \n",
       "3                 230          1239                      262   \n",
       "4                 247          1478                      267   \n",
       "\n",
       "   balloffootlength  biacromialbreadth  bicepscircumferenceflexed  \\\n",
       "0               202                401                        369   \n",
       "1               193                394                        338   \n",
       "2               196                427                        408   \n",
       "3               199                401                        359   \n",
       "4               224                435                        356   \n",
       "\n",
       "   bicristalbreadth  ...                  Branch  PrimaryMOS  \\\n",
       "0               274  ...             Combat Arms         19D   \n",
       "1               257  ...          Combat Support         68W   \n",
       "2               261  ...          Combat Support         68W   \n",
       "3               262  ...  Combat Service Support         88M   \n",
       "4               263  ...  Combat Service Support         92G   \n",
       "\n",
       "   SubjectsBirthLocation  SubjectNumericRace  Ethnicity  DODRace  Age  \\\n",
       "0           North Dakota                   1        NaN        1   41   \n",
       "1               New York                   1        NaN        1   35   \n",
       "2               New York                   2        NaN        2   42   \n",
       "3              Wisconsin                   1        NaN        1   31   \n",
       "4         North Carolina                   2        NaN        2   21   \n",
       "\n",
       "   Heightin  Weightlbs  WritingPreference  \n",
       "0        71        180         Right hand  \n",
       "1        68        160          Left hand  \n",
       "2        68        205          Left hand  \n",
       "3        66        175         Right hand  \n",
       "4        77        213         Right hand  \n",
       "\n",
       "[5 rows x 107 columns]"
      ]
     },
     "execution_count": 4,
     "metadata": {},
     "output_type": "execute_result"
    }
   ],
   "source": [
    "ansur_male = pd.read_csv('data/ansur_male.csv', encoding='latin').drop('subjectid', axis=1)\n",
    "ansur_male.head()"
   ]
  },
  {
   "cell_type": "markdown",
   "metadata": {},
   "source": [
    "First, let's get rid of the features with zero-variance. We will import `VarianceThreshold` from `sklearn.feature_selection`:"
   ]
  },
  {
   "cell_type": "code",
   "execution_count": 5,
   "metadata": {},
   "outputs": [],
   "source": [
    "from sklearn.feature_selection import VarianceThreshold\n",
    "\n",
    "vt = VarianceThreshold()"
   ]
  },
  {
   "cell_type": "markdown",
   "metadata": {},
   "source": [
    "We initialize it just like any other Scikit-learn estimator. The default value for the threshold is always 0. Also, the estimator only works with numeric data obviously and it will raise an error if there are categorical features present in the dataframe. That's why, for now, we will subset the numeric features into another dataframe:"
   ]
  },
  {
   "cell_type": "code",
   "execution_count": 6,
   "metadata": {},
   "outputs": [
    {
     "data": {
      "text/plain": [
       "(4082, 98)"
      ]
     },
     "execution_count": 6,
     "metadata": {},
     "output_type": "execute_result"
    }
   ],
   "source": [
    "ansur_male_num = ansur_male.select_dtypes(include='number')\n",
    "ansur_male_num.shape"
   ]
  },
  {
   "cell_type": "markdown",
   "metadata": {},
   "source": [
    "So, we have got 98 numeric features. Let's now fit the estimator to the data and get its results:"
   ]
  },
  {
   "cell_type": "code",
   "execution_count": 7,
   "metadata": {},
   "outputs": [
    {
     "data": {
      "text/plain": [
       "array([[ 266, 1467,  337, ...,   41,   71,  180],\n",
       "       [ 233, 1395,  326, ...,   35,   68,  160],\n",
       "       [ 287, 1430,  341, ...,   42,   68,  205],\n",
       "       ...,\n",
       "       [ 264, 1394,  313, ...,   23,   67,  186],\n",
       "       [ 203, 1417,  327, ...,   22,   69,  165],\n",
       "       [ 327, 1523,  358, ...,   38,   73,  218]], dtype=int64)"
      ]
     },
     "execution_count": 7,
     "metadata": {},
     "output_type": "execute_result"
    }
   ],
   "source": [
    "transformed = vt.fit_transform(ansur_male_num)\n",
    "transformed"
   ]
  },
  {
   "cell_type": "markdown",
   "metadata": {},
   "source": [
    "Directly calling `fit_transform` will return the dataframe as a `numpy` array with features dropped. But sometimes, we don't want the result in that format because the column names will be removed. Consider the alternative:"
   ]
  },
  {
   "cell_type": "code",
   "execution_count": 8,
   "metadata": {},
   "outputs": [],
   "source": [
    "_ = vt.fit(ansur_male_num)\n",
    "\n",
    "mask = vt.get_support()"
   ]
  },
  {
   "cell_type": "markdown",
   "metadata": {
    "tags": []
   },
   "source": [
    "First, we fit the estimator to data and call its `get_support()` method. It returns a boolean mask with `True` values for columns which are not dropped. We can then use this mask to subset our DataFrame like so:"
   ]
  },
  {
   "cell_type": "code",
   "execution_count": 9,
   "metadata": {},
   "outputs": [],
   "source": [
    "ansur_male_num = ansur_male_num.loc[:, mask]"
   ]
  },
  {
   "cell_type": "markdown",
   "metadata": {},
   "source": [
    "Let's check the shape of the DataFrame to see if there were any constant columns:"
   ]
  },
  {
   "cell_type": "code",
   "execution_count": 10,
   "metadata": {},
   "outputs": [
    {
     "data": {
      "text/plain": [
       "(4082, 98)"
      ]
     },
     "execution_count": 10,
     "metadata": {},
     "output_type": "execute_result"
    }
   ],
   "source": [
    "ansur_male_num.shape"
   ]
  },
  {
   "cell_type": "markdown",
   "metadata": {},
   "source": [
    "Nope, we still have the same number of features. Now, let's drop features with variances close to 0:"
   ]
  },
  {
   "cell_type": "code",
   "execution_count": 11,
   "metadata": {},
   "outputs": [
    {
     "data": {
      "text/plain": [
       "(4082, 97)"
      ]
     },
     "execution_count": 11,
     "metadata": {},
     "output_type": "execute_result"
    }
   ],
   "source": [
    "vt = VarianceThreshold(threshold=1)\n",
    "\n",
    "# Fit\n",
    "_ = vt.fit(ansur_male_num)\n",
    "# Get the boolean mask\n",
    "mask = vt.get_support()\n",
    "\n",
    "ansur_reduced = ansur_male_num.loc[:, mask]\n",
    "ansur_reduced.shape"
   ]
  },
  {
   "cell_type": "markdown",
   "metadata": {},
   "source": [
    "With a `threshold` of 1, only 1 feature got dropped."
   ]
  },
  {
   "cell_type": "markdown",
   "metadata": {},
   "source": [
    "### Fairer Comparison of Variance With Feature Normalization"
   ]
  },
  {
   "cell_type": "markdown",
   "metadata": {},
   "source": [
    "Often, it is not fair to compare the variance of a feature to another. The reason is that as the values in a distribution gets bigger, the variance grows exponentially. In other words, the variances will not be on the same scale. Consider this example:\n",
    "\n",
    "<img src='images/1.png'></img>"
   ]
  },
  {
   "cell_type": "markdown",
   "metadata": {},
   "source": [
    "The above features all have different medians, quartiles and ranges - completely different distributions. We cannot compare these features to each other. \n",
    "\n",
    "One method we can use is normalizing all features by dividing them by their mean:"
   ]
  },
  {
   "cell_type": "code",
   "execution_count": 12,
   "metadata": {},
   "outputs": [
    {
     "data": {
      "text/html": [
       "<div>\n",
       "<style scoped>\n",
       "    .dataframe tbody tr th:only-of-type {\n",
       "        vertical-align: middle;\n",
       "    }\n",
       "\n",
       "    .dataframe tbody tr th {\n",
       "        vertical-align: top;\n",
       "    }\n",
       "\n",
       "    .dataframe thead th {\n",
       "        text-align: right;\n",
       "    }\n",
       "</style>\n",
       "<table border=\"1\" class=\"dataframe\">\n",
       "  <thead>\n",
       "    <tr style=\"text-align: right;\">\n",
       "      <th></th>\n",
       "      <th>abdominalextensiondepthsitting</th>\n",
       "      <th>acromialheight</th>\n",
       "      <th>acromionradialelength</th>\n",
       "      <th>anklecircumference</th>\n",
       "      <th>axillaheight</th>\n",
       "      <th>balloffootcircumference</th>\n",
       "      <th>balloffootlength</th>\n",
       "      <th>biacromialbreadth</th>\n",
       "      <th>bicepscircumferenceflexed</th>\n",
       "      <th>bicristalbreadth</th>\n",
       "      <th>...</th>\n",
       "      <th>waistfrontlengthsitting</th>\n",
       "      <th>waistheightomphalion</th>\n",
       "      <th>weightkg</th>\n",
       "      <th>wristcircumference</th>\n",
       "      <th>wristheight</th>\n",
       "      <th>SubjectNumericRace</th>\n",
       "      <th>DODRace</th>\n",
       "      <th>Age</th>\n",
       "      <th>Heightin</th>\n",
       "      <th>Weightlbs</th>\n",
       "    </tr>\n",
       "  </thead>\n",
       "  <tbody>\n",
       "    <tr>\n",
       "      <th>0</th>\n",
       "      <td>1.044567</td>\n",
       "      <td>1.018229</td>\n",
       "      <td>1.005237</td>\n",
       "      <td>0.967978</td>\n",
       "      <td>1.013481</td>\n",
       "      <td>1.003900</td>\n",
       "      <td>1.005300</td>\n",
       "      <td>0.964694</td>\n",
       "      <td>1.030336</td>\n",
       "      <td>0.994796</td>\n",
       "      <td>...</td>\n",
       "      <td>1.135066</td>\n",
       "      <td>0.997648</td>\n",
       "      <td>0.952949</td>\n",
       "      <td>0.994789</td>\n",
       "      <td>1.006476</td>\n",
       "      <td>0.111439</td>\n",
       "      <td>0.651868</td>\n",
       "      <td>1.359462</td>\n",
       "      <td>1.013768</td>\n",
       "      <td>0.957422</td>\n",
       "    </tr>\n",
       "    <tr>\n",
       "      <th>1</th>\n",
       "      <td>0.914978</td>\n",
       "      <td>0.968255</td>\n",
       "      <td>0.972425</td>\n",
       "      <td>0.959258</td>\n",
       "      <td>0.972852</td>\n",
       "      <td>0.972156</td>\n",
       "      <td>0.960509</td>\n",
       "      <td>0.947854</td>\n",
       "      <td>0.943776</td>\n",
       "      <td>0.933075</td>\n",
       "      <td>...</td>\n",
       "      <td>0.957067</td>\n",
       "      <td>0.997648</td>\n",
       "      <td>0.848885</td>\n",
       "      <td>0.949313</td>\n",
       "      <td>0.961639</td>\n",
       "      <td>0.111439</td>\n",
       "      <td>0.651868</td>\n",
       "      <td>1.160516</td>\n",
       "      <td>0.970932</td>\n",
       "      <td>0.851042</td>\n",
       "    </tr>\n",
       "    <tr>\n",
       "      <th>2</th>\n",
       "      <td>1.127033</td>\n",
       "      <td>0.992548</td>\n",
       "      <td>1.017168</td>\n",
       "      <td>1.002861</td>\n",
       "      <td>0.998433</td>\n",
       "      <td>1.015804</td>\n",
       "      <td>0.975439</td>\n",
       "      <td>1.027243</td>\n",
       "      <td>1.139233</td>\n",
       "      <td>0.947598</td>\n",
       "      <td>...</td>\n",
       "      <td>1.060254</td>\n",
       "      <td>0.985343</td>\n",
       "      <td>1.086245</td>\n",
       "      <td>1.023212</td>\n",
       "      <td>0.980518</td>\n",
       "      <td>0.222877</td>\n",
       "      <td>1.303737</td>\n",
       "      <td>1.392620</td>\n",
       "      <td>0.970932</td>\n",
       "      <td>1.090397</td>\n",
       "    </tr>\n",
       "    <tr>\n",
       "      <th>3</th>\n",
       "      <td>0.918905</td>\n",
       "      <td>0.934938</td>\n",
       "      <td>0.924698</td>\n",
       "      <td>1.002861</td>\n",
       "      <td>0.932222</td>\n",
       "      <td>1.039612</td>\n",
       "      <td>0.990370</td>\n",
       "      <td>0.964694</td>\n",
       "      <td>1.002413</td>\n",
       "      <td>0.951228</td>\n",
       "      <td>...</td>\n",
       "      <td>1.029298</td>\n",
       "      <td>0.916246</td>\n",
       "      <td>0.928395</td>\n",
       "      <td>1.000473</td>\n",
       "      <td>0.935681</td>\n",
       "      <td>0.111439</td>\n",
       "      <td>0.651868</td>\n",
       "      <td>1.027886</td>\n",
       "      <td>0.942376</td>\n",
       "      <td>0.930827</td>\n",
       "    </tr>\n",
       "    <tr>\n",
       "      <th>4</th>\n",
       "      <td>0.981736</td>\n",
       "      <td>1.100131</td>\n",
       "      <td>1.109638</td>\n",
       "      <td>1.076985</td>\n",
       "      <td>1.112046</td>\n",
       "      <td>1.059452</td>\n",
       "      <td>1.114788</td>\n",
       "      <td>1.046489</td>\n",
       "      <td>0.994037</td>\n",
       "      <td>0.954859</td>\n",
       "      <td>...</td>\n",
       "      <td>0.977704</td>\n",
       "      <td>1.178436</td>\n",
       "      <td>1.106123</td>\n",
       "      <td>1.068688</td>\n",
       "      <td>1.125648</td>\n",
       "      <td>0.222877</td>\n",
       "      <td>1.303737</td>\n",
       "      <td>0.696310</td>\n",
       "      <td>1.099438</td>\n",
       "      <td>1.132949</td>\n",
       "    </tr>\n",
       "  </tbody>\n",
       "</table>\n",
       "<p>5 rows × 98 columns</p>\n",
       "</div>"
      ],
      "text/plain": [
       "   abdominalextensiondepthsitting  acromialheight  acromionradialelength  \\\n",
       "0                        1.044567        1.018229               1.005237   \n",
       "1                        0.914978        0.968255               0.972425   \n",
       "2                        1.127033        0.992548               1.017168   \n",
       "3                        0.918905        0.934938               0.924698   \n",
       "4                        0.981736        1.100131               1.109638   \n",
       "\n",
       "   anklecircumference  axillaheight  balloffootcircumference  \\\n",
       "0            0.967978      1.013481                 1.003900   \n",
       "1            0.959258      0.972852                 0.972156   \n",
       "2            1.002861      0.998433                 1.015804   \n",
       "3            1.002861      0.932222                 1.039612   \n",
       "4            1.076985      1.112046                 1.059452   \n",
       "\n",
       "   balloffootlength  biacromialbreadth  bicepscircumferenceflexed  \\\n",
       "0          1.005300           0.964694                   1.030336   \n",
       "1          0.960509           0.947854                   0.943776   \n",
       "2          0.975439           1.027243                   1.139233   \n",
       "3          0.990370           0.964694                   1.002413   \n",
       "4          1.114788           1.046489                   0.994037   \n",
       "\n",
       "   bicristalbreadth  ...  waistfrontlengthsitting  waistheightomphalion  \\\n",
       "0          0.994796  ...                 1.135066              0.997648   \n",
       "1          0.933075  ...                 0.957067              0.997648   \n",
       "2          0.947598  ...                 1.060254              0.985343   \n",
       "3          0.951228  ...                 1.029298              0.916246   \n",
       "4          0.954859  ...                 0.977704              1.178436   \n",
       "\n",
       "   weightkg  wristcircumference  wristheight  SubjectNumericRace   DODRace  \\\n",
       "0  0.952949            0.994789     1.006476            0.111439  0.651868   \n",
       "1  0.848885            0.949313     0.961639            0.111439  0.651868   \n",
       "2  1.086245            1.023212     0.980518            0.222877  1.303737   \n",
       "3  0.928395            1.000473     0.935681            0.111439  0.651868   \n",
       "4  1.106123            1.068688     1.125648            0.222877  1.303737   \n",
       "\n",
       "        Age  Heightin  Weightlbs  \n",
       "0  1.359462  1.013768   0.957422  \n",
       "1  1.160516  0.970932   0.851042  \n",
       "2  1.392620  0.970932   1.090397  \n",
       "3  1.027886  0.942376   0.930827  \n",
       "4  0.696310  1.099438   1.132949  \n",
       "\n",
       "[5 rows x 98 columns]"
      ]
     },
     "execution_count": 12,
     "metadata": {},
     "output_type": "execute_result"
    }
   ],
   "source": [
    "normalized_df = ansur_male_num / ansur_male_num.mean()\n",
    "normalized_df.head()"
   ]
  },
  {
   "cell_type": "markdown",
   "metadata": {},
   "source": [
    "This method ensures that all varainces are on the same scale:"
   ]
  },
  {
   "cell_type": "code",
   "execution_count": 13,
   "metadata": {},
   "outputs": [
    {
     "data": {
      "text/plain": [
       "abdominalextensiondepthsitting     0.021486\n",
       "acromialheight                     0.001930\n",
       "acromionradialelength              0.002720\n",
       "anklecircumference                 0.004080\n",
       "axillaheight                       0.002005\n",
       "                                    ...    \n",
       "SubjectNumericRace                85.577697\n",
       "DODRace                            0.390651\n",
       "Age                                0.085336\n",
       "Heightin                           0.001771\n",
       "Weightlbs                          0.025364\n",
       "Length: 98, dtype: float64"
      ]
     },
     "execution_count": 13,
     "metadata": {},
     "output_type": "execute_result"
    }
   ],
   "source": [
    "normalized_df.var()"
   ]
  },
  {
   "cell_type": "markdown",
   "metadata": {},
   "source": [
    "Now, we can use the estimator with a lower threshold like 0.005 or 0.003:"
   ]
  },
  {
   "cell_type": "code",
   "execution_count": 14,
   "metadata": {},
   "outputs": [
    {
     "data": {
      "text/plain": [
       "(4082, 48)"
      ]
     },
     "execution_count": 14,
     "metadata": {},
     "output_type": "execute_result"
    }
   ],
   "source": [
    "vt = VarianceThreshold(threshold=.003)\n",
    "\n",
    "# Fit\n",
    "_ = vt.fit(normalized_df)\n",
    "# Get the mask\n",
    "mask = vt.get_support()\n",
    "# Subset the DataFrame\n",
    "ansur_final = ansur_male_num.loc[:, mask]\n",
    "ansur_final.shape"
   ]
  },
  {
   "cell_type": "markdown",
   "metadata": {},
   "source": [
    "As you can see, we were able to drop 50 features from the dataset. Now, let's test if we did the right thing by dropping so many features. \n",
    "\n",
    "We will check this by training two RandomForestRegressor to predict a person's weight in pounds: first one on the final, feature selected dataset and the second one on the full, numeric-feature only dataset."
   ]
  },
  {
   "cell_type": "code",
   "execution_count": 22,
   "metadata": {},
   "outputs": [
    {
     "name": "stdout",
     "output_type": "stream",
     "text": [
      "Training Score: 0.988528867222243\n",
      "Test Score: 0.9511616691995844\n"
     ]
    }
   ],
   "source": [
    "from sklearn.ensemble import RandomForestRegressor\n",
    "from sklearn.model_selection import train_test_split\n",
    "\n",
    "# Build feature, target arrays\n",
    "X, y = ansur_final.iloc[:, :-1], ansur_final.iloc[:, -1]\n",
    "\n",
    "# Train/test split\n",
    "X_train, X_test, y_train, y_test = train_test_split(X, y, test_size=.3, random_state=1121218)\n",
    "\n",
    "# Init, fit, score\n",
    "forest = RandomForestRegressor(random_state=1121218)\n",
    "\n",
    "_ = forest.fit(X_train, y_train)\n",
    "\n",
    "# Training Score\n",
    "print(f\"Training Score: {forest.score(X_train, y_train)}\")\n",
    "print(f\"Test Score: {forest.score(X_test, y_test)}\")"
   ]
  },
  {
   "cell_type": "markdown",
   "metadata": {},
   "source": [
    "Both training and test score suggest a really high performance without overfitting. Now, let's train the same model on the full numeric-only dataset:"
   ]
  },
  {
   "cell_type": "code",
   "execution_count": 23,
   "metadata": {},
   "outputs": [
    {
     "name": "stdout",
     "output_type": "stream",
     "text": [
      "Training Score: 0.9886396641558658\n",
      "Test Score: 0.9495977505935259\n"
     ]
    }
   ],
   "source": [
    "# Build feature, target arrays\n",
    "X, y = ansur_male_num.iloc[:, :-1], ansur_male_num.iloc[:, -1]\n",
    "\n",
    "# Train/test split\n",
    "X_train, X_test, y_train, y_test = train_test_split(X, y, test_size=.3, random_state=1121218)\n",
    "\n",
    "# Init, fit, score\n",
    "forest = RandomForestRegressor(random_state=1121218)\n",
    "\n",
    "_ = forest.fit(X_train, y_train)\n",
    "\n",
    "# Training Score\n",
    "print(f\"Training Score: {forest.score(X_train, y_train)}\")\n",
    "print(f\"Test Score: {forest.score(X_test, y_test)}\")"
   ]
  },
  {
   "cell_type": "markdown",
   "metadata": {},
   "source": [
    "As you can see, even by dropping 50 features we were able to build a pretty powerful model. In fact, the first RandomForestRegressor is 1% better than the second."
   ]
  }
 ],
 "metadata": {
  "kernelspec": {
   "display_name": "medium_articles",
   "language": "python",
   "name": "medium_articles"
  },
  "language_info": {
   "codemirror_mode": {
    "name": "ipython",
    "version": 3
   },
   "file_extension": ".py",
   "mimetype": "text/x-python",
   "name": "python",
   "nbconvert_exporter": "python",
   "pygments_lexer": "ipython3",
   "version": "3.8.5"
  }
 },
 "nbformat": 4,
 "nbformat_minor": 4
}
