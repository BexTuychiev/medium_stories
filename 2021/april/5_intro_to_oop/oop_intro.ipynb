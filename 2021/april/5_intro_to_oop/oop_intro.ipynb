{
 "cells": [
  {
   "cell_type": "markdown",
   "metadata": {},
   "source": [
    "# Intro to Object-Oriented Programming For Data Scientists\n",
    "## Learn a new way of thinking - a new perspective\n",
    "<img src='images/pexels.jpg'></img>\n",
    "<figcaption style=\"text-align: center;\">\n",
    "    <strong>\n",
    "        Photo by \n",
    "        <a href='https://www.pexels.com/@pixabay?utm_content=attributionCopyText&utm_medium=referral&utm_source=pexels'>Pixabay</a>\n",
    "        on \n",
    "        <a href='https://www.pexels.com/photo/balance-blur-boulder-close-up-355863/?utm_content=attributionCopyText&utm_medium=referral&utm_source=pexels'>Pexels</a>\n",
    "    </strong>\n",
    "</figcaption>"
   ]
  },
  {
   "cell_type": "markdown",
   "metadata": {},
   "source": [
    "### Setup"
   ]
  },
  {
   "cell_type": "code",
   "execution_count": 1,
   "metadata": {},
   "outputs": [],
   "source": [
    "import numpy as np\n",
    "import pandas as pd\n",
    "import matplotlib.pyplot as plt\n",
    "import seaborn as sns\n",
    "import warnings\n",
    "warnings.filterwarnings('ignore')"
   ]
  },
  {
   "cell_type": "markdown",
   "metadata": {},
   "source": [
    "### What is Object-Oriented Programming?"
   ]
  },
  {
   "cell_type": "markdown",
   "metadata": {},
   "source": [
    "It is no doubt that data scientists spend majority of their time doing procedural programming - writing code that executes as a sequence of steps. Doing data analysis in Jupyter Notebooks, writing Python scripts to clean the data are all examples of this. This type of thinking and doing things come to people naturally. After all, that is how we go through each day, one step - one process at a time."
   ]
  },
  {
   "cell_type": "markdown",
   "metadata": {},
   "source": [
    "However, as data scientists, we should be eternally grateful that there is another, much better system of coding - Object-Oriented Programming (OOP). OOP gives us massively powerful `numpy` functions, endlessly flexible `pandas` DataFrames and beautifully designed `sklearn` models. OOP enables different chunks of code to interact with each other allowing programmers to build flexible tools and frameworks that work seamlessly together. "
   ]
  },
  {
   "cell_type": "markdown",
   "metadata": {},
   "source": [
    "Object-Oriented Programming allows us to think about concepts and tools in terms of patterns and behaviors. In other words, anything that cannot be built using a sequential workflow should be built in OOP. For example, can you imagine `pandas` DataFrames to be built in some script bundled with thousands of functions?"
   ]
  },
  {
   "cell_type": "markdown",
   "metadata": {},
   "source": [
    "Most important trait of OOP is that it enables us to combine both the state and behavior of some concept. For example, if you were to represent a programmer in code, you would have to store the features of that programmer in separate variables like name, salary, age, etc. Besides, each programmer has similar behaviors like coding, drinking coffee, sleeping and eating. You would have to create each of these behaviors using functions, entirely not aware of each other's existence."
   ]
  },
  {
   "cell_type": "markdown",
   "metadata": {},
   "source": [
    "However, in OOP, these tasks are elegantly achieved using data structures called **objects** and blueprints called **classes**. Classes give us a way to talk about programmers in a unified way. For example, if we created a class name Programmer, it would have the ability to generalize about programmers with every possible feature and behavior. If we wanted to talk about a certain programmer, we could just create an instance of the Programmer class with the specifics of that programmer. This instance would be called an object."
   ]
  },
  {
   "cell_type": "markdown",
   "metadata": {},
   "source": [
    "Using a single class, we could create infinitely many objects, each an instance of a single, unique item."
   ]
  },
  {
   "cell_type": "markdown",
   "metadata": {},
   "source": [
    "### Everything Is an Object in Python"
   ]
  },
  {
   "cell_type": "markdown",
   "metadata": {},
   "source": [
    "### Class Methods And Attributes"
   ]
  },
  {
   "cell_type": "markdown",
   "metadata": {},
   "source": [
    "### The Constructor Method"
   ]
  }
 ],
 "metadata": {
  "kernelspec": {
   "display_name": "medium_articles",
   "language": "python",
   "name": "medium_articles"
  },
  "language_info": {
   "codemirror_mode": {
    "name": "ipython",
    "version": 3
   },
   "file_extension": ".py",
   "mimetype": "text/x-python",
   "name": "python",
   "nbconvert_exporter": "python",
   "pygments_lexer": "ipython3",
   "version": "3.8.5"
  }
 },
 "nbformat": 4,
 "nbformat_minor": 4
}
