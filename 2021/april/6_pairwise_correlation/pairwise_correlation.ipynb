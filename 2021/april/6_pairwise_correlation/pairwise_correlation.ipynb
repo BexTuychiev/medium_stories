{
 "cells": [
  {
   "cell_type": "markdown",
   "metadata": {},
   "source": [
    "# How to Use Pairwise Correlation For Robust Feature Selection\n",
    "## TODO\n",
    "<img src='images/pexels.jpg'></img>\n",
    "<figcaption style=\"text-align: center;\">\n",
    "    <strong>\n",
    "        Photo by \n",
    "        <a href='https://www.pexels.com/@pixabay?utm_content=attributionCopyText&utm_medium=referral&utm_source=pexels'>Pixabay</a>\n",
    "        on \n",
    "        <a href='https://www.pexels.com/photo/2-grey-and-black-birds-45853/?utm_content=attributionCopyText&utm_medium=referral&utm_source=pexels'>Pexels</a>\n",
    "    </strong>\n",
    "</figcaption>"
   ]
  },
  {
   "cell_type": "markdown",
   "metadata": {},
   "source": [
    "### Setup"
   ]
  },
  {
   "cell_type": "code",
   "execution_count": 1,
   "metadata": {},
   "outputs": [],
   "source": [
    "import pandas as pd\n",
    "import numpy as np\n",
    "import matplotlib.pyplot as plt\n",
    "import seaborn as sns\n",
    "import warnings\n",
    "warnings.filterwarnings('ignore')"
   ]
  },
  {
   "cell_type": "markdown",
   "metadata": {},
   "source": [
    "### What Is Correlation Coefficient?"
   ]
  },
  {
   "cell_type": "markdown",
   "metadata": {},
   "source": [
    "In my [last article](https://towardsdatascience.com/how-to-use-variance-thresholding-for-robust-feature-selection-a4503f2b5c3f?source=your_stories_page-------------------------------------) on the topic of Feature Selection, we focused on a technique to remove features based on their individual properties. In this post, we will look at a more reliable, more robust method which let's us see the connection between features and decide if they are worth keeping. This method, as you have read from the title, uses Pairwise Correlation."
   ]
  },
  {
   "cell_type": "markdown",
   "metadata": {},
   "source": [
    "First of all, let's briefly touch on the Pearson's correlation coefficient - commonly denoted as *r*. This coefficient can be used to quantify the linear relationship between two distributions (or features) in a single metric. It ranges from -1 to 1, -1 being a perfect negative correlation and 1 being perfect positive correlation."
   ]
  },
  {
   "cell_type": "markdown",
   "metadata": {},
   "source": [
    "<img src='https://miro.medium.com/proxy/1*8neIel7ZpzIc3p64f04-NQ.png'></img>"
   ]
  },
  {
   "cell_type": "markdown",
   "metadata": {},
   "source": [
    "For instance, body measurements often have strong positive correlation. You can expect someone tall to have longer arms and legs or someone with broad shoulders to weigh more. Also, the sales of ice cream is negatively correlated with temperature or the further you run the slower you get, etc."
   ]
  },
  {
   "cell_type": "markdown",
   "metadata": {},
   "source": [
    "> For an in-depth guide on how to use, interpret and understand correlation coefficient, refer to my separate [article](https://towardsdev.com/how-to-not-misunderstand-correlation-75ce9b0289e)."
   ]
  },
  {
   "cell_type": "markdown",
   "metadata": {},
   "source": [
    "But what does correlation coefficient have to do with Machine Learning or feature selection? Well, let's say the correlation coefficient between two features is 0.85. This high values means that in 85% of the time, you can predict feature 2 just using the values of feature 1. In other words, if you have feature 1 in your dataset, feature 2 won't bring much new information. That's why there is no point in keeping feature 2 since it only adds to complexity when training a model."
   ]
  },
  {
   "cell_type": "markdown",
   "metadata": {
    "tags": []
   },
   "source": [
    "Using pairwise correlation for feature selection is all about that - identifying groups of highly-correlated features and only keeping one of them so that your model can have as much predictive power using as few features as possible."
   ]
  },
  {
   "cell_type": "markdown",
   "metadata": {},
   "source": [
    "### Plotting the Perfect Correlation Matrix"
   ]
  },
  {
   "cell_type": "markdown",
   "metadata": {},
   "source": [
    "### How to Remove Highly Correlated Features"
   ]
  }
 ],
 "metadata": {
  "kernelspec": {
   "display_name": "medium_articles",
   "language": "python",
   "name": "medium_articles"
  },
  "language_info": {
   "codemirror_mode": {
    "name": "ipython",
    "version": 3
   },
   "file_extension": ".py",
   "mimetype": "text/x-python",
   "name": "python",
   "nbconvert_exporter": "python",
   "pygments_lexer": "ipython3",
   "version": "3.8.5"
  }
 },
 "nbformat": 4,
 "nbformat_minor": 4
}
