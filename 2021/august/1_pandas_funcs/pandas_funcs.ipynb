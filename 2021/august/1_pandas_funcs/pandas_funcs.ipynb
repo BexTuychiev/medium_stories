{
 "cells": [
  {
   "cell_type": "markdown",
   "metadata": {},
   "source": [
    "# 25 Pandas Functions You Didn't Know Existed | P(Guarantee) = 0.8\n",
    "## ExcelWriter, factorize, explode, squeeze, T, mask, idxmax, clip, ...\n",
    "![](https://images.pexels.com/photos/5199661/pexels-photo-5199661.jpeg?auto=compress&cs=tinysrgb&dpr=2&h=650&w=940)\n",
    "<figcaption style=\"text-align: center;\">\n",
    "    <strong>\n",
    "        Photo by \n",
    "        <a href='https://www.pexels.com/@introspectivedsgn?utm_content=attributionCopyText&utm_medium=referral&utm_source=pexels'>Erik Mclean</a>\n",
    "        on \n",
    "        <a href='https://www.pexels.com/photo/unrecognizable-man-in-panda-head-sitting-near-car-5199661/?utm_content=attributionCopyText&utm_medium=referral&utm_source=pexels'>Pexels.</a> All images are by the author unless specified otherwise.\n",
    "    </strong>\n",
    "</figcaption>"
   ]
  },
  {
   "cell_type": "markdown",
   "metadata": {},
   "source": [
    "## Setup"
   ]
  },
  {
   "cell_type": "code",
   "execution_count": 1,
   "metadata": {},
   "outputs": [],
   "source": [
    "import warnings\n",
    "\n",
    "import matplotlib.pyplot as plt\n",
    "import numpy as np\n",
    "import pandas as pd\n",
    "import seaborn as sns\n",
    "\n",
    "pd.options.display.max_rows = None\n",
    "warnings.filterwarnings(\"ignore\")"
   ]
  },
  {
   "cell_type": "markdown",
   "metadata": {},
   "source": [
    "## Introduction"
   ]
  },
  {
   "cell_type": "markdown",
   "metadata": {},
   "source": [
    "\"I wish I could do this operation in Pandas….\"\n",
    "\n",
    "Well, chances are, you can!\n",
    "\n",
    "Pandas is so vast and deep that it enables you to execute virtually any tabular manipulation you can think of. However, this vastness sometimes comes at a disadvantage.\n",
    "\n",
    "Many elegant features that solve rare edge-cases, unique scenarios are lost in the documentation, shadowed by the more frequently used functions.\n",
    "\n",
    "This article aims to rediscover those features and show you that Pandas is more capable than you ever knew."
   ]
  },
  {
   "cell_type": "markdown",
   "metadata": {},
   "source": [
    "## 1. `ExcelWriter`"
   ]
  },
  {
   "cell_type": "markdown",
   "metadata": {},
   "source": [
    "`ExcelWriter` is a generic class for creating excel files (with sheets!) and writing DataFrames to them. Let's say we have these 2:"
   ]
  },
  {
   "cell_type": "code",
   "execution_count": 2,
   "metadata": {},
   "outputs": [],
   "source": [
    "# Load two datasets\n",
    "diamonds = sns.load_dataset(\"diamonds\")\n",
    "tips = sns.load_dataset(\"tips\")\n",
    "\n",
    "# Write to the same excel file\n",
    "with pd.ExcelWriter(\"data/data.xlsx\") as writer:\n",
    "\n",
    "    diamonds.to_excel(writer, sheet_name=\"diamonds\")\n",
    "    tips.to_excel(writer, sheet_name=\"tips\")"
   ]
  },
  {
   "cell_type": "markdown",
   "metadata": {},
   "source": [
    "It has additional attributes to specify the DateTime format to be used, whether you want to create a new excel file or modify an existing one, what happens when a sheet exists, etc. Check out the details from the [documentation](https://pandas.pydata.org/pandas-docs/stable/reference/api/pandas.ExcelWriter.html)."
   ]
  },
  {
   "cell_type": "markdown",
   "metadata": {},
   "source": [
    "## 2. `pipe`"
   ]
  },
  {
   "cell_type": "markdown",
   "metadata": {},
   "source": [
    "![](https://images.pexels.com/photos/192473/pexels-photo-192473.jpeg?auto=compress&cs=tinysrgb&dpr=2&h=650&w=940)\n",
    "<figcaption style=\"text-align: center;\">\n",
    "    <strong>\n",
    "        Photo by \n",
    "        <a href='https://www.pexels.com/@leah-kelley-50725?utm_content=attributionCopyText&utm_medium=referral&utm_source=pexels'>Leah Kelley</a>\n",
    "        on \n",
    "        <a href='https://www.pexels.com/photo/grayscale-photo-of-man-holding-tobacco-pipe-192473/?utm_content=attributionCopyText&utm_medium=referral&utm_source=pexels'>Pexels</a>\n",
    "    </strong>\n",
    "</figcaption>"
   ]
  },
  {
   "cell_type": "markdown",
   "metadata": {},
   "source": [
    "`pipe` is one of the best functions for doing data cleaning in a concise, compact manner in Pandas. It allows you to chain multiple custom functions into a single operation.\n",
    "\n",
    "For example, let's say you have functions to `drop_duplicates`, `remove_outliers`, `encode_categoricals` that accept their own arguments. Here is how you apply all three in a single operation:"
   ]
  },
  {
   "cell_type": "markdown",
   "metadata": {},
   "source": [
    "```python\n",
    "df_preprocessed = (diamonds.pipe(drop_duplicates).\n",
    "                            pipe(remove_outliers, ['price', 'carat', 'depth']).\n",
    "                            pipe(encode_categoricals, ['cut', 'color', 'clarity'])\n",
    "                  )\n",
    "```"
   ]
  },
  {
   "cell_type": "markdown",
   "metadata": {},
   "source": [
    "I like how this function resembles [Sklearn pipelines](https://towardsdatascience.com/how-to-use-sklearn-pipelines-for-ridiculously-neat-code-a61ab66ca90d). There is more you can do with it, so check out the [documentation](https://pandas.pydata.org/docs/reference/api/pandas.DataFrame.pipe.html) or this [helpful article](https://towardsdatascience.com/a-better-way-for-data-preprocessing-pandas-pipe-a08336a012bc)."
   ]
  },
  {
   "cell_type": "markdown",
   "metadata": {},
   "source": [
    "## 3. `factorize`"
   ]
  },
  {
   "cell_type": "markdown",
   "metadata": {},
   "source": [
    "This function is a pandas alternative to Sklearn's `LabelEncoder`:"
   ]
  },
  {
   "cell_type": "code",
   "execution_count": 3,
   "metadata": {},
   "outputs": [
    {
     "data": {
      "text/plain": [
       "52103    2\n",
       "39813    0\n",
       "31843    0\n",
       "10675    0\n",
       "6634     0\n",
       "Name: cut_enc, dtype: int64"
      ]
     },
     "execution_count": 3,
     "metadata": {},
     "output_type": "execute_result"
    }
   ],
   "source": [
    "# Mind the [0] at the end\n",
    "diamonds[\"cut_enc\"] = pd.factorize(diamonds[\"cut\"])[0]\n",
    "\n",
    "diamonds[\"cut_enc\"].sample(5)"
   ]
  },
  {
   "cell_type": "markdown",
   "metadata": {},
   "source": [
    "Unlike `LabelEncoder`, `factorize` returns a tuple of two values: the encoded column and a list of the unique categories:"
   ]
  },
  {
   "cell_type": "code",
   "execution_count": 4,
   "metadata": {},
   "outputs": [
    {
     "data": {
      "text/plain": [
       "array([0, 1, 3, 1, 3, 2, 2, 2, 4, 2], dtype=int64)"
      ]
     },
     "execution_count": 4,
     "metadata": {},
     "output_type": "execute_result"
    }
   ],
   "source": [
    "codes, unique = pd.factorize(diamonds[\"cut\"], sort=True)\n",
    "\n",
    "codes[:10]"
   ]
  },
  {
   "cell_type": "code",
   "execution_count": 5,
   "metadata": {},
   "outputs": [
    {
     "data": {
      "text/plain": [
       "CategoricalIndex(['Ideal', 'Premium', 'Very Good', 'Good', 'Fair'], categories=['Ideal', 'Premium', 'Very Good', 'Good', 'Fair'], ordered=False, dtype='category')"
      ]
     },
     "execution_count": 5,
     "metadata": {},
     "output_type": "execute_result"
    }
   ],
   "source": [
    "unique"
   ]
  },
  {
   "cell_type": "markdown",
   "metadata": {},
   "source": [
    "## 4. `explode` - 🤯🤯"
   ]
  },
  {
   "cell_type": "markdown",
   "metadata": {},
   "source": [
    "![](https://images.unsplash.com/photo-1567446042109-8a62d37fea07?ixid=MnwxMjA3fDB8MHxwaG90by1wYWdlfHx8fGVufDB8fHx8&ixlib=rb-1.2.1&auto=format&fit=crop&w=750&q=80)\n",
    "<figcaption style=\"text-align: center;\">\n",
    "    <strong>\n",
    "        Photo by \n",
    "        <a href='https://unsplash.com/@joshuas?utm_source=unsplash&utm_medium=referral&utm_content=creditCopyText'>Joshua Sukoff</a>\n",
    "        on \n",
    "        <a href='https://unsplash.com/s/photos/explode?utm_source=unsplash&utm_medium=referral&utm_content=creditCopyText'>Unsplash</a>\n",
    "    </strong>\n",
    "</figcaption>"
   ]
  },
  {
   "cell_type": "markdown",
   "metadata": {},
   "source": [
    "A function with an interesting name is `explode`. Let's see an example first and then, explain:"
   ]
  },
  {
   "cell_type": "code",
   "execution_count": 6,
   "metadata": {},
   "outputs": [
    {
     "data": {
      "text/html": [
       "<div>\n",
       "<style scoped>\n",
       "    .dataframe tbody tr th:only-of-type {\n",
       "        vertical-align: middle;\n",
       "    }\n",
       "\n",
       "    .dataframe tbody tr th {\n",
       "        vertical-align: top;\n",
       "    }\n",
       "\n",
       "    .dataframe thead th {\n",
       "        text-align: right;\n",
       "    }\n",
       "</style>\n",
       "<table border=\"1\" class=\"dataframe\">\n",
       "  <thead>\n",
       "    <tr style=\"text-align: right;\">\n",
       "      <th></th>\n",
       "      <th>dirty</th>\n",
       "    </tr>\n",
       "  </thead>\n",
       "  <tbody>\n",
       "    <tr>\n",
       "      <th>0</th>\n",
       "      <td>1</td>\n",
       "    </tr>\n",
       "    <tr>\n",
       "      <th>1</th>\n",
       "      <td>6</td>\n",
       "    </tr>\n",
       "    <tr>\n",
       "      <th>2</th>\n",
       "      <td>7</td>\n",
       "    </tr>\n",
       "    <tr>\n",
       "      <th>3</th>\n",
       "      <td>[46, 56, 49]</td>\n",
       "    </tr>\n",
       "    <tr>\n",
       "      <th>4</th>\n",
       "      <td>45</td>\n",
       "    </tr>\n",
       "    <tr>\n",
       "      <th>5</th>\n",
       "      <td>[15, 10, 12]</td>\n",
       "    </tr>\n",
       "  </tbody>\n",
       "</table>\n",
       "</div>"
      ],
      "text/plain": [
       "          dirty\n",
       "0             1\n",
       "1             6\n",
       "2             7\n",
       "3  [46, 56, 49]\n",
       "4            45\n",
       "5  [15, 10, 12]"
      ]
     },
     "execution_count": 6,
     "metadata": {},
     "output_type": "execute_result"
    }
   ],
   "source": [
    "data = pd.Series([1, 6, 7, [46, 56, 49], 45, [15, 10, 12]]).to_frame(\"dirty\")\n",
    "data"
   ]
  },
  {
   "cell_type": "markdown",
   "metadata": {},
   "source": [
    "The `dirty` column has two rows where values are recorded as actual lists. You may often see this type of data in surveys as some questions accept multiple answers."
   ]
  },
  {
   "cell_type": "code",
   "execution_count": 7,
   "metadata": {},
   "outputs": [
    {
     "data": {
      "text/html": [
       "<div>\n",
       "<style scoped>\n",
       "    .dataframe tbody tr th:only-of-type {\n",
       "        vertical-align: middle;\n",
       "    }\n",
       "\n",
       "    .dataframe tbody tr th {\n",
       "        vertical-align: top;\n",
       "    }\n",
       "\n",
       "    .dataframe thead th {\n",
       "        text-align: right;\n",
       "    }\n",
       "</style>\n",
       "<table border=\"1\" class=\"dataframe\">\n",
       "  <thead>\n",
       "    <tr style=\"text-align: right;\">\n",
       "      <th></th>\n",
       "      <th>dirty</th>\n",
       "    </tr>\n",
       "  </thead>\n",
       "  <tbody>\n",
       "    <tr>\n",
       "      <th>0</th>\n",
       "      <td>1</td>\n",
       "    </tr>\n",
       "    <tr>\n",
       "      <th>1</th>\n",
       "      <td>6</td>\n",
       "    </tr>\n",
       "    <tr>\n",
       "      <th>2</th>\n",
       "      <td>7</td>\n",
       "    </tr>\n",
       "    <tr>\n",
       "      <th>3</th>\n",
       "      <td>46</td>\n",
       "    </tr>\n",
       "    <tr>\n",
       "      <th>4</th>\n",
       "      <td>56</td>\n",
       "    </tr>\n",
       "    <tr>\n",
       "      <th>5</th>\n",
       "      <td>49</td>\n",
       "    </tr>\n",
       "    <tr>\n",
       "      <th>6</th>\n",
       "      <td>45</td>\n",
       "    </tr>\n",
       "    <tr>\n",
       "      <th>7</th>\n",
       "      <td>15</td>\n",
       "    </tr>\n",
       "    <tr>\n",
       "      <th>8</th>\n",
       "      <td>10</td>\n",
       "    </tr>\n",
       "    <tr>\n",
       "      <th>9</th>\n",
       "      <td>12</td>\n",
       "    </tr>\n",
       "  </tbody>\n",
       "</table>\n",
       "</div>"
      ],
      "text/plain": [
       "  dirty\n",
       "0     1\n",
       "1     6\n",
       "2     7\n",
       "3    46\n",
       "4    56\n",
       "5    49\n",
       "6    45\n",
       "7    15\n",
       "8    10\n",
       "9    12"
      ]
     },
     "execution_count": 7,
     "metadata": {},
     "output_type": "execute_result"
    }
   ],
   "source": [
    "data.explode(\"dirty\", ignore_index=True)"
   ]
  },
  {
   "cell_type": "markdown",
   "metadata": {},
   "source": [
    "`explode` takes a cell with an array-like value and explodes it into multiple rows. Set `ignore_index` to True to keep the ordering of a numeric index."
   ]
  },
  {
   "cell_type": "markdown",
   "metadata": {},
   "source": [
    "## 5. `squeeze`"
   ]
  },
  {
   "cell_type": "markdown",
   "metadata": {},
   "source": [
    "![](https://images.pexels.com/photos/5875701/pexels-photo-5875701.jpeg?auto=compress&cs=tinysrgb&dpr=2&h=650&w=940)\n",
    "<figcaption style=\"text-align: center;\">\n",
    "    <strong>\n",
    "        Photo by \n",
    "        <a href='https://www.pexels.com/@cottonbro?utm_content=attributionCopyText&utm_medium=referral&utm_source=pexels'>cottonbro</a>\n",
    "        on \n",
    "        <a href='https://www.pexels.com/photo/close-up-photo-of-sausage-5875701/?utm_content=attributionCopyText&utm_medium=referral&utm_source=pexels'>Pexels.</a>\n",
    "    </strong>\n",
    "</figcaption>"
   ]
  },
  {
   "cell_type": "markdown",
   "metadata": {},
   "source": [
    "Another function with a funky name is `squeeze` and is used in very rare but annoying edge cases.\n",
    "\n",
    "One of these cases is when a single value is returned from a condition used to subset a DataFrame. Consider this example:"
   ]
  },
  {
   "cell_type": "code",
   "execution_count": 8,
   "metadata": {},
   "outputs": [
    {
     "data": {
      "text/html": [
       "<div>\n",
       "<style scoped>\n",
       "    .dataframe tbody tr th:only-of-type {\n",
       "        vertical-align: middle;\n",
       "    }\n",
       "\n",
       "    .dataframe tbody tr th {\n",
       "        vertical-align: top;\n",
       "    }\n",
       "\n",
       "    .dataframe thead th {\n",
       "        text-align: right;\n",
       "    }\n",
       "</style>\n",
       "<table border=\"1\" class=\"dataframe\">\n",
       "  <thead>\n",
       "    <tr style=\"text-align: right;\">\n",
       "      <th></th>\n",
       "      <th>price</th>\n",
       "    </tr>\n",
       "  </thead>\n",
       "  <tbody>\n",
       "    <tr>\n",
       "      <th>0</th>\n",
       "      <td>326</td>\n",
       "    </tr>\n",
       "  </tbody>\n",
       "</table>\n",
       "</div>"
      ],
      "text/plain": [
       "   price\n",
       "0    326"
      ]
     },
     "execution_count": 8,
     "metadata": {},
     "output_type": "execute_result"
    }
   ],
   "source": [
    "subset = diamonds.loc[diamonds.index < 1, [\"price\"]]\n",
    "subset"
   ]
  },
  {
   "cell_type": "markdown",
   "metadata": {},
   "source": [
    "Even though there is just one cell, it is returned as a DataFrame. This can be annoying since you now have to use `.loc` again with both the column name and index to access the price.\n",
    "\n",
    "But, if you know `squeeze`, you don't have to. The function enables you to remove an axis from a single-cell DataFrame or Series. For example:"
   ]
  },
  {
   "cell_type": "code",
   "execution_count": 9,
   "metadata": {},
   "outputs": [
    {
     "data": {
      "text/plain": [
       "326"
      ]
     },
     "execution_count": 9,
     "metadata": {},
     "output_type": "execute_result"
    }
   ],
   "source": [
    "subset.squeeze()"
   ]
  },
  {
   "cell_type": "markdown",
   "metadata": {},
   "source": [
    "Now, only the scalar is returned. It is also possible to specify the axis to remove:"
   ]
  },
  {
   "cell_type": "code",
   "execution_count": 10,
   "metadata": {},
   "outputs": [
    {
     "data": {
      "text/plain": [
       "0    326\n",
       "Name: price, dtype: int64"
      ]
     },
     "execution_count": 10,
     "metadata": {},
     "output_type": "execute_result"
    }
   ],
   "source": [
    "subset.squeeze(\"columns\")  # or \"rows\""
   ]
  },
  {
   "cell_type": "markdown",
   "metadata": {},
   "source": [
    "Note that `squeeze` only works for DataFrames or Series with single values."
   ]
  },
  {
   "cell_type": "markdown",
   "metadata": {},
   "source": [
    "## 6. between"
   ]
  },
  {
   "cell_type": "markdown",
   "metadata": {},
   "source": [
    "![](https://images.unsplash.com/photo-1596806082495-fb05004cfe49?ixid=MnwxMjA3fDB8MHxwaG90by1wYWdlfHx8fGVufDB8fHx8&ixlib=rb-1.2.1&auto=format&fit=crop&w=769&q=80)\n",
    "<figcaption style=\"text-align: center;\">\n",
    "    <strong>\n",
    "        Photo by \n",
    "        <a href='https://unsplash.com/@jujudreaminx?utm_source=unsplash&utm_medium=referral&utm_content=creditCopyText'>Justin Dream</a>\n",
    "        on \n",
    "        <a href='https://unsplash.com/s/photos/between?utm_source=unsplash&utm_medium=referral&utm_content=creditCopyText'>Pexels</a>\n",
    "    </strong>\n",
    "</figcaption>"
   ]
  },
  {
   "cell_type": "markdown",
   "metadata": {},
   "source": [
    "A rather nifty function for boolean indexing numeric features within a range:"
   ]
  },
  {
   "cell_type": "code",
   "execution_count": 11,
   "metadata": {},
   "outputs": [
    {
     "data": {
      "text/html": [
       "<div>\n",
       "<style scoped>\n",
       "    .dataframe tbody tr th:only-of-type {\n",
       "        vertical-align: middle;\n",
       "    }\n",
       "\n",
       "    .dataframe tbody tr th {\n",
       "        vertical-align: top;\n",
       "    }\n",
       "\n",
       "    .dataframe thead th {\n",
       "        text-align: right;\n",
       "    }\n",
       "</style>\n",
       "<table border=\"1\" class=\"dataframe\">\n",
       "  <thead>\n",
       "    <tr style=\"text-align: right;\">\n",
       "      <th></th>\n",
       "      <th>carat</th>\n",
       "      <th>cut</th>\n",
       "      <th>color</th>\n",
       "      <th>clarity</th>\n",
       "      <th>depth</th>\n",
       "      <th>table</th>\n",
       "      <th>price</th>\n",
       "      <th>x</th>\n",
       "      <th>y</th>\n",
       "      <th>z</th>\n",
       "      <th>cut_enc</th>\n",
       "    </tr>\n",
       "  </thead>\n",
       "  <tbody>\n",
       "    <tr>\n",
       "      <th>4358</th>\n",
       "      <td>1.10</td>\n",
       "      <td>Premium</td>\n",
       "      <td>I</td>\n",
       "      <td>SI2</td>\n",
       "      <td>62.9</td>\n",
       "      <td>59.0</td>\n",
       "      <td>3604</td>\n",
       "      <td>6.60</td>\n",
       "      <td>6.53</td>\n",
       "      <td>4.13</td>\n",
       "      <td>1</td>\n",
       "    </tr>\n",
       "    <tr>\n",
       "      <th>4639</th>\n",
       "      <td>0.73</td>\n",
       "      <td>Ideal</td>\n",
       "      <td>G</td>\n",
       "      <td>VVS1</td>\n",
       "      <td>61.9</td>\n",
       "      <td>57.0</td>\n",
       "      <td>3669</td>\n",
       "      <td>5.76</td>\n",
       "      <td>5.80</td>\n",
       "      <td>3.58</td>\n",
       "      <td>0</td>\n",
       "    </tr>\n",
       "    <tr>\n",
       "      <th>4024</th>\n",
       "      <td>0.73</td>\n",
       "      <td>Ideal</td>\n",
       "      <td>F</td>\n",
       "      <td>VVS2</td>\n",
       "      <td>61.7</td>\n",
       "      <td>54.0</td>\n",
       "      <td>3524</td>\n",
       "      <td>5.76</td>\n",
       "      <td>5.82</td>\n",
       "      <td>3.57</td>\n",
       "      <td>0</td>\n",
       "    </tr>\n",
       "    <tr>\n",
       "      <th>4227</th>\n",
       "      <td>1.20</td>\n",
       "      <td>Ideal</td>\n",
       "      <td>I</td>\n",
       "      <td>I1</td>\n",
       "      <td>61.9</td>\n",
       "      <td>56.0</td>\n",
       "      <td>3570</td>\n",
       "      <td>6.85</td>\n",
       "      <td>6.82</td>\n",
       "      <td>4.23</td>\n",
       "      <td>0</td>\n",
       "    </tr>\n",
       "    <tr>\n",
       "      <th>3987</th>\n",
       "      <td>0.82</td>\n",
       "      <td>Premium</td>\n",
       "      <td>F</td>\n",
       "      <td>VS1</td>\n",
       "      <td>62.1</td>\n",
       "      <td>56.0</td>\n",
       "      <td>3513</td>\n",
       "      <td>6.02</td>\n",
       "      <td>5.97</td>\n",
       "      <td>3.72</td>\n",
       "      <td>1</td>\n",
       "    </tr>\n",
       "  </tbody>\n",
       "</table>\n",
       "</div>"
      ],
      "text/plain": [
       "      carat      cut color clarity  depth  table  price     x     y     z  \\\n",
       "4358   1.10  Premium     I     SI2   62.9   59.0   3604  6.60  6.53  4.13   \n",
       "4639   0.73    Ideal     G    VVS1   61.9   57.0   3669  5.76  5.80  3.58   \n",
       "4024   0.73    Ideal     F    VVS2   61.7   54.0   3524  5.76  5.82  3.57   \n",
       "4227   1.20    Ideal     I      I1   61.9   56.0   3570  6.85  6.82  4.23   \n",
       "3987   0.82  Premium     F     VS1   62.1   56.0   3513  6.02  5.97  3.72   \n",
       "\n",
       "      cut_enc  \n",
       "4358        1  \n",
       "4639        0  \n",
       "4024        0  \n",
       "4227        0  \n",
       "3987        1  "
      ]
     },
     "execution_count": 11,
     "metadata": {},
     "output_type": "execute_result"
    }
   ],
   "source": [
    "# Get diamonds that are priced between 3500 and 3700 dollars\n",
    "diamonds[diamonds[\"price\"].between(3500, 3700, inclusive=\"neither\")].sample(5)"
   ]
  },
  {
   "cell_type": "markdown",
   "metadata": {},
   "source": [
    "## 7. `T`"
   ]
  },
  {
   "cell_type": "markdown",
   "metadata": {},
   "source": [
    "![](https://images.pexels.com/photos/258083/pexels-photo-258083.jpeg?auto=compress&cs=tinysrgb&dpr=2&h=650&w=940)\n",
    "<figcaption style=\"text-align: center;\">\n",
    "    <strong>\n",
    "        Photo by \n",
    "        <a href='https://www.pexels.com/@pixabay?utm_content=attributionCopyText&utm_medium=referral&utm_source=pexels'>Pixabay</a>\n",
    "        on \n",
    "        <a href='https://www.pexels.com/photo/close-up-of-illuminated-text-against-black-background-258083/?utm_content=attributionCopyText&utm_medium=referral&utm_source=pexels'>Pexels</a>\n",
    "    </strong>\n",
    "</figcaption>"
   ]
  },
  {
   "cell_type": "markdown",
   "metadata": {},
   "source": [
    "All DataFrames have a simple `T` attribute, which stands for transpose. You may not use it often, but I find it quite useful when displaying DataFrames of the `describe` method:"
   ]
  },
  {
   "cell_type": "code",
   "execution_count": 12,
   "metadata": {},
   "outputs": [],
   "source": [
    "## HIDE\n",
    "from sklearn.datasets import load_boston\n",
    "\n",
    "bunch = load_boston()\n",
    "boston = pd.DataFrame(bunch[\"data\"], columns=bunch[\"feature_names\"])"
   ]
  },
  {
   "cell_type": "code",
   "execution_count": 13,
   "metadata": {},
   "outputs": [
    {
     "data": {
      "text/html": [
       "<div>\n",
       "<style scoped>\n",
       "    .dataframe tbody tr th:only-of-type {\n",
       "        vertical-align: middle;\n",
       "    }\n",
       "\n",
       "    .dataframe tbody tr th {\n",
       "        vertical-align: top;\n",
       "    }\n",
       "\n",
       "    .dataframe thead th {\n",
       "        text-align: right;\n",
       "    }\n",
       "</style>\n",
       "<table border=\"1\" class=\"dataframe\">\n",
       "  <thead>\n",
       "    <tr style=\"text-align: right;\">\n",
       "      <th></th>\n",
       "      <th>count</th>\n",
       "      <th>mean</th>\n",
       "      <th>std</th>\n",
       "      <th>min</th>\n",
       "      <th>25%</th>\n",
       "      <th>50%</th>\n",
       "      <th>75%</th>\n",
       "      <th>max</th>\n",
       "    </tr>\n",
       "  </thead>\n",
       "  <tbody>\n",
       "    <tr>\n",
       "      <th>CRIM</th>\n",
       "      <td>506.0</td>\n",
       "      <td>3.613524</td>\n",
       "      <td>8.601545</td>\n",
       "      <td>0.00632</td>\n",
       "      <td>0.082045</td>\n",
       "      <td>0.25651</td>\n",
       "      <td>3.677083</td>\n",
       "      <td>88.9762</td>\n",
       "    </tr>\n",
       "    <tr>\n",
       "      <th>ZN</th>\n",
       "      <td>506.0</td>\n",
       "      <td>11.363636</td>\n",
       "      <td>23.322453</td>\n",
       "      <td>0.00000</td>\n",
       "      <td>0.000000</td>\n",
       "      <td>0.00000</td>\n",
       "      <td>12.500000</td>\n",
       "      <td>100.0000</td>\n",
       "    </tr>\n",
       "    <tr>\n",
       "      <th>INDUS</th>\n",
       "      <td>506.0</td>\n",
       "      <td>11.136779</td>\n",
       "      <td>6.860353</td>\n",
       "      <td>0.46000</td>\n",
       "      <td>5.190000</td>\n",
       "      <td>9.69000</td>\n",
       "      <td>18.100000</td>\n",
       "      <td>27.7400</td>\n",
       "    </tr>\n",
       "    <tr>\n",
       "      <th>CHAS</th>\n",
       "      <td>506.0</td>\n",
       "      <td>0.069170</td>\n",
       "      <td>0.253994</td>\n",
       "      <td>0.00000</td>\n",
       "      <td>0.000000</td>\n",
       "      <td>0.00000</td>\n",
       "      <td>0.000000</td>\n",
       "      <td>1.0000</td>\n",
       "    </tr>\n",
       "    <tr>\n",
       "      <th>NOX</th>\n",
       "      <td>506.0</td>\n",
       "      <td>0.554695</td>\n",
       "      <td>0.115878</td>\n",
       "      <td>0.38500</td>\n",
       "      <td>0.449000</td>\n",
       "      <td>0.53800</td>\n",
       "      <td>0.624000</td>\n",
       "      <td>0.8710</td>\n",
       "    </tr>\n",
       "    <tr>\n",
       "      <th>RM</th>\n",
       "      <td>506.0</td>\n",
       "      <td>6.284634</td>\n",
       "      <td>0.702617</td>\n",
       "      <td>3.56100</td>\n",
       "      <td>5.885500</td>\n",
       "      <td>6.20850</td>\n",
       "      <td>6.623500</td>\n",
       "      <td>8.7800</td>\n",
       "    </tr>\n",
       "    <tr>\n",
       "      <th>AGE</th>\n",
       "      <td>506.0</td>\n",
       "      <td>68.574901</td>\n",
       "      <td>28.148861</td>\n",
       "      <td>2.90000</td>\n",
       "      <td>45.025000</td>\n",
       "      <td>77.50000</td>\n",
       "      <td>94.075000</td>\n",
       "      <td>100.0000</td>\n",
       "    </tr>\n",
       "    <tr>\n",
       "      <th>DIS</th>\n",
       "      <td>506.0</td>\n",
       "      <td>3.795043</td>\n",
       "      <td>2.105710</td>\n",
       "      <td>1.12960</td>\n",
       "      <td>2.100175</td>\n",
       "      <td>3.20745</td>\n",
       "      <td>5.188425</td>\n",
       "      <td>12.1265</td>\n",
       "    </tr>\n",
       "    <tr>\n",
       "      <th>RAD</th>\n",
       "      <td>506.0</td>\n",
       "      <td>9.549407</td>\n",
       "      <td>8.707259</td>\n",
       "      <td>1.00000</td>\n",
       "      <td>4.000000</td>\n",
       "      <td>5.00000</td>\n",
       "      <td>24.000000</td>\n",
       "      <td>24.0000</td>\n",
       "    </tr>\n",
       "    <tr>\n",
       "      <th>TAX</th>\n",
       "      <td>506.0</td>\n",
       "      <td>408.237154</td>\n",
       "      <td>168.537116</td>\n",
       "      <td>187.00000</td>\n",
       "      <td>279.000000</td>\n",
       "      <td>330.00000</td>\n",
       "      <td>666.000000</td>\n",
       "      <td>711.0000</td>\n",
       "    </tr>\n",
       "  </tbody>\n",
       "</table>\n",
       "</div>"
      ],
      "text/plain": [
       "       count        mean         std        min         25%        50%  \\\n",
       "CRIM   506.0    3.613524    8.601545    0.00632    0.082045    0.25651   \n",
       "ZN     506.0   11.363636   23.322453    0.00000    0.000000    0.00000   \n",
       "INDUS  506.0   11.136779    6.860353    0.46000    5.190000    9.69000   \n",
       "CHAS   506.0    0.069170    0.253994    0.00000    0.000000    0.00000   \n",
       "NOX    506.0    0.554695    0.115878    0.38500    0.449000    0.53800   \n",
       "RM     506.0    6.284634    0.702617    3.56100    5.885500    6.20850   \n",
       "AGE    506.0   68.574901   28.148861    2.90000   45.025000   77.50000   \n",
       "DIS    506.0    3.795043    2.105710    1.12960    2.100175    3.20745   \n",
       "RAD    506.0    9.549407    8.707259    1.00000    4.000000    5.00000   \n",
       "TAX    506.0  408.237154  168.537116  187.00000  279.000000  330.00000   \n",
       "\n",
       "              75%       max  \n",
       "CRIM     3.677083   88.9762  \n",
       "ZN      12.500000  100.0000  \n",
       "INDUS   18.100000   27.7400  \n",
       "CHAS     0.000000    1.0000  \n",
       "NOX      0.624000    0.8710  \n",
       "RM       6.623500    8.7800  \n",
       "AGE     94.075000  100.0000  \n",
       "DIS      5.188425   12.1265  \n",
       "RAD     24.000000   24.0000  \n",
       "TAX    666.000000  711.0000  "
      ]
     },
     "execution_count": 13,
     "metadata": {},
     "output_type": "execute_result"
    }
   ],
   "source": [
    "boston.describe().T.head(10)"
   ]
  },
  {
   "cell_type": "markdown",
   "metadata": {},
   "source": [
    "The Boston housing dataset has 30 numeric columns. If you call `describe` as-is, the DataFrame will stretch horizontally, making it hard to compare the statistics. Taking the transpose will switch the axes so that summary statistics are given in columns."
   ]
  },
  {
   "cell_type": "markdown",
   "metadata": {},
   "source": [
    "## 8. Pandas Styler"
   ]
  },
  {
   "cell_type": "markdown",
   "metadata": {},
   "source": [
    "Did you know that Pandas allows you to style DataFrames?\n",
    "\n",
    "They have a `style` attribute which opens doors to customizations and styles only limited by your HTML and CSS knowledge. I won't discuss the full details of what you can do with `style` but only show you my favorite functions:"
   ]
  },
  {
   "cell_type": "code",
   "execution_count": 14,
   "metadata": {},
   "outputs": [],
   "source": [
    "## HIDE\n",
    "diabetes = pd.read_csv(\"data/diabetes.csv\")"
   ]
  },
  {
   "cell_type": "code",
   "execution_count": 15,
   "metadata": {},
   "outputs": [
    {
     "data": {
      "text/html": [
       "<style  type=\"text/css\" >\n",
       "#T_3f8828fd_f42f_11eb_8bf5_ace2d369d7d9row1_col0,#T_3f8828fd_f42f_11eb_8bf5_ace2d369d7d9row1_col3,#T_3f8828fd_f42f_11eb_8bf5_ace2d369d7d9row1_col4,#T_3f8828fd_f42f_11eb_8bf5_ace2d369d7d9row1_col5,#T_3f8828fd_f42f_11eb_8bf5_ace2d369d7d9row4_col1,#T_3f8828fd_f42f_11eb_8bf5_ace2d369d7d9row4_col6,#T_3f8828fd_f42f_11eb_8bf5_ace2d369d7d9row7_col2{\n",
       "            background-color:  darkred;\n",
       "        }</style><table id=\"T_3f8828fd_f42f_11eb_8bf5_ace2d369d7d9\" ><thead>    <tr>        <th class=\"blank level0\" ></th>        <th class=\"col_heading level0 col0\" >mean</th>        <th class=\"col_heading level0 col1\" >std</th>        <th class=\"col_heading level0 col2\" >min</th>        <th class=\"col_heading level0 col3\" >25%</th>        <th class=\"col_heading level0 col4\" >50%</th>        <th class=\"col_heading level0 col5\" >75%</th>        <th class=\"col_heading level0 col6\" >max</th>    </tr></thead><tbody>\n",
       "                <tr>\n",
       "                        <th id=\"T_3f8828fd_f42f_11eb_8bf5_ace2d369d7d9level0_row0\" class=\"row_heading level0 row0\" >Pregnancies</th>\n",
       "                        <td id=\"T_3f8828fd_f42f_11eb_8bf5_ace2d369d7d9row0_col0\" class=\"data row0 col0\" >3.845052</td>\n",
       "                        <td id=\"T_3f8828fd_f42f_11eb_8bf5_ace2d369d7d9row0_col1\" class=\"data row0 col1\" >3.369578</td>\n",
       "                        <td id=\"T_3f8828fd_f42f_11eb_8bf5_ace2d369d7d9row0_col2\" class=\"data row0 col2\" >0.000000</td>\n",
       "                        <td id=\"T_3f8828fd_f42f_11eb_8bf5_ace2d369d7d9row0_col3\" class=\"data row0 col3\" >1.000000</td>\n",
       "                        <td id=\"T_3f8828fd_f42f_11eb_8bf5_ace2d369d7d9row0_col4\" class=\"data row0 col4\" >3.000000</td>\n",
       "                        <td id=\"T_3f8828fd_f42f_11eb_8bf5_ace2d369d7d9row0_col5\" class=\"data row0 col5\" >6.000000</td>\n",
       "                        <td id=\"T_3f8828fd_f42f_11eb_8bf5_ace2d369d7d9row0_col6\" class=\"data row0 col6\" >17.000000</td>\n",
       "            </tr>\n",
       "            <tr>\n",
       "                        <th id=\"T_3f8828fd_f42f_11eb_8bf5_ace2d369d7d9level0_row1\" class=\"row_heading level0 row1\" >Glucose</th>\n",
       "                        <td id=\"T_3f8828fd_f42f_11eb_8bf5_ace2d369d7d9row1_col0\" class=\"data row1 col0\" >120.894531</td>\n",
       "                        <td id=\"T_3f8828fd_f42f_11eb_8bf5_ace2d369d7d9row1_col1\" class=\"data row1 col1\" >31.972618</td>\n",
       "                        <td id=\"T_3f8828fd_f42f_11eb_8bf5_ace2d369d7d9row1_col2\" class=\"data row1 col2\" >0.000000</td>\n",
       "                        <td id=\"T_3f8828fd_f42f_11eb_8bf5_ace2d369d7d9row1_col3\" class=\"data row1 col3\" >99.000000</td>\n",
       "                        <td id=\"T_3f8828fd_f42f_11eb_8bf5_ace2d369d7d9row1_col4\" class=\"data row1 col4\" >117.000000</td>\n",
       "                        <td id=\"T_3f8828fd_f42f_11eb_8bf5_ace2d369d7d9row1_col5\" class=\"data row1 col5\" >140.250000</td>\n",
       "                        <td id=\"T_3f8828fd_f42f_11eb_8bf5_ace2d369d7d9row1_col6\" class=\"data row1 col6\" >199.000000</td>\n",
       "            </tr>\n",
       "            <tr>\n",
       "                        <th id=\"T_3f8828fd_f42f_11eb_8bf5_ace2d369d7d9level0_row2\" class=\"row_heading level0 row2\" >BloodPressure</th>\n",
       "                        <td id=\"T_3f8828fd_f42f_11eb_8bf5_ace2d369d7d9row2_col0\" class=\"data row2 col0\" >69.105469</td>\n",
       "                        <td id=\"T_3f8828fd_f42f_11eb_8bf5_ace2d369d7d9row2_col1\" class=\"data row2 col1\" >19.355807</td>\n",
       "                        <td id=\"T_3f8828fd_f42f_11eb_8bf5_ace2d369d7d9row2_col2\" class=\"data row2 col2\" >0.000000</td>\n",
       "                        <td id=\"T_3f8828fd_f42f_11eb_8bf5_ace2d369d7d9row2_col3\" class=\"data row2 col3\" >62.000000</td>\n",
       "                        <td id=\"T_3f8828fd_f42f_11eb_8bf5_ace2d369d7d9row2_col4\" class=\"data row2 col4\" >72.000000</td>\n",
       "                        <td id=\"T_3f8828fd_f42f_11eb_8bf5_ace2d369d7d9row2_col5\" class=\"data row2 col5\" >80.000000</td>\n",
       "                        <td id=\"T_3f8828fd_f42f_11eb_8bf5_ace2d369d7d9row2_col6\" class=\"data row2 col6\" >122.000000</td>\n",
       "            </tr>\n",
       "            <tr>\n",
       "                        <th id=\"T_3f8828fd_f42f_11eb_8bf5_ace2d369d7d9level0_row3\" class=\"row_heading level0 row3\" >SkinThickness</th>\n",
       "                        <td id=\"T_3f8828fd_f42f_11eb_8bf5_ace2d369d7d9row3_col0\" class=\"data row3 col0\" >20.536458</td>\n",
       "                        <td id=\"T_3f8828fd_f42f_11eb_8bf5_ace2d369d7d9row3_col1\" class=\"data row3 col1\" >15.952218</td>\n",
       "                        <td id=\"T_3f8828fd_f42f_11eb_8bf5_ace2d369d7d9row3_col2\" class=\"data row3 col2\" >0.000000</td>\n",
       "                        <td id=\"T_3f8828fd_f42f_11eb_8bf5_ace2d369d7d9row3_col3\" class=\"data row3 col3\" >0.000000</td>\n",
       "                        <td id=\"T_3f8828fd_f42f_11eb_8bf5_ace2d369d7d9row3_col4\" class=\"data row3 col4\" >23.000000</td>\n",
       "                        <td id=\"T_3f8828fd_f42f_11eb_8bf5_ace2d369d7d9row3_col5\" class=\"data row3 col5\" >32.000000</td>\n",
       "                        <td id=\"T_3f8828fd_f42f_11eb_8bf5_ace2d369d7d9row3_col6\" class=\"data row3 col6\" >99.000000</td>\n",
       "            </tr>\n",
       "            <tr>\n",
       "                        <th id=\"T_3f8828fd_f42f_11eb_8bf5_ace2d369d7d9level0_row4\" class=\"row_heading level0 row4\" >Insulin</th>\n",
       "                        <td id=\"T_3f8828fd_f42f_11eb_8bf5_ace2d369d7d9row4_col0\" class=\"data row4 col0\" >79.799479</td>\n",
       "                        <td id=\"T_3f8828fd_f42f_11eb_8bf5_ace2d369d7d9row4_col1\" class=\"data row4 col1\" >115.244002</td>\n",
       "                        <td id=\"T_3f8828fd_f42f_11eb_8bf5_ace2d369d7d9row4_col2\" class=\"data row4 col2\" >0.000000</td>\n",
       "                        <td id=\"T_3f8828fd_f42f_11eb_8bf5_ace2d369d7d9row4_col3\" class=\"data row4 col3\" >0.000000</td>\n",
       "                        <td id=\"T_3f8828fd_f42f_11eb_8bf5_ace2d369d7d9row4_col4\" class=\"data row4 col4\" >30.500000</td>\n",
       "                        <td id=\"T_3f8828fd_f42f_11eb_8bf5_ace2d369d7d9row4_col5\" class=\"data row4 col5\" >127.250000</td>\n",
       "                        <td id=\"T_3f8828fd_f42f_11eb_8bf5_ace2d369d7d9row4_col6\" class=\"data row4 col6\" >846.000000</td>\n",
       "            </tr>\n",
       "            <tr>\n",
       "                        <th id=\"T_3f8828fd_f42f_11eb_8bf5_ace2d369d7d9level0_row5\" class=\"row_heading level0 row5\" >BMI</th>\n",
       "                        <td id=\"T_3f8828fd_f42f_11eb_8bf5_ace2d369d7d9row5_col0\" class=\"data row5 col0\" >31.992578</td>\n",
       "                        <td id=\"T_3f8828fd_f42f_11eb_8bf5_ace2d369d7d9row5_col1\" class=\"data row5 col1\" >7.884160</td>\n",
       "                        <td id=\"T_3f8828fd_f42f_11eb_8bf5_ace2d369d7d9row5_col2\" class=\"data row5 col2\" >0.000000</td>\n",
       "                        <td id=\"T_3f8828fd_f42f_11eb_8bf5_ace2d369d7d9row5_col3\" class=\"data row5 col3\" >27.300000</td>\n",
       "                        <td id=\"T_3f8828fd_f42f_11eb_8bf5_ace2d369d7d9row5_col4\" class=\"data row5 col4\" >32.000000</td>\n",
       "                        <td id=\"T_3f8828fd_f42f_11eb_8bf5_ace2d369d7d9row5_col5\" class=\"data row5 col5\" >36.600000</td>\n",
       "                        <td id=\"T_3f8828fd_f42f_11eb_8bf5_ace2d369d7d9row5_col6\" class=\"data row5 col6\" >67.100000</td>\n",
       "            </tr>\n",
       "            <tr>\n",
       "                        <th id=\"T_3f8828fd_f42f_11eb_8bf5_ace2d369d7d9level0_row6\" class=\"row_heading level0 row6\" >DiabetesPedigreeFunction</th>\n",
       "                        <td id=\"T_3f8828fd_f42f_11eb_8bf5_ace2d369d7d9row6_col0\" class=\"data row6 col0\" >0.471876</td>\n",
       "                        <td id=\"T_3f8828fd_f42f_11eb_8bf5_ace2d369d7d9row6_col1\" class=\"data row6 col1\" >0.331329</td>\n",
       "                        <td id=\"T_3f8828fd_f42f_11eb_8bf5_ace2d369d7d9row6_col2\" class=\"data row6 col2\" >0.078000</td>\n",
       "                        <td id=\"T_3f8828fd_f42f_11eb_8bf5_ace2d369d7d9row6_col3\" class=\"data row6 col3\" >0.243750</td>\n",
       "                        <td id=\"T_3f8828fd_f42f_11eb_8bf5_ace2d369d7d9row6_col4\" class=\"data row6 col4\" >0.372500</td>\n",
       "                        <td id=\"T_3f8828fd_f42f_11eb_8bf5_ace2d369d7d9row6_col5\" class=\"data row6 col5\" >0.626250</td>\n",
       "                        <td id=\"T_3f8828fd_f42f_11eb_8bf5_ace2d369d7d9row6_col6\" class=\"data row6 col6\" >2.420000</td>\n",
       "            </tr>\n",
       "            <tr>\n",
       "                        <th id=\"T_3f8828fd_f42f_11eb_8bf5_ace2d369d7d9level0_row7\" class=\"row_heading level0 row7\" >Age</th>\n",
       "                        <td id=\"T_3f8828fd_f42f_11eb_8bf5_ace2d369d7d9row7_col0\" class=\"data row7 col0\" >33.240885</td>\n",
       "                        <td id=\"T_3f8828fd_f42f_11eb_8bf5_ace2d369d7d9row7_col1\" class=\"data row7 col1\" >11.760232</td>\n",
       "                        <td id=\"T_3f8828fd_f42f_11eb_8bf5_ace2d369d7d9row7_col2\" class=\"data row7 col2\" >21.000000</td>\n",
       "                        <td id=\"T_3f8828fd_f42f_11eb_8bf5_ace2d369d7d9row7_col3\" class=\"data row7 col3\" >24.000000</td>\n",
       "                        <td id=\"T_3f8828fd_f42f_11eb_8bf5_ace2d369d7d9row7_col4\" class=\"data row7 col4\" >29.000000</td>\n",
       "                        <td id=\"T_3f8828fd_f42f_11eb_8bf5_ace2d369d7d9row7_col5\" class=\"data row7 col5\" >41.000000</td>\n",
       "                        <td id=\"T_3f8828fd_f42f_11eb_8bf5_ace2d369d7d9row7_col6\" class=\"data row7 col6\" >81.000000</td>\n",
       "            </tr>\n",
       "            <tr>\n",
       "                        <th id=\"T_3f8828fd_f42f_11eb_8bf5_ace2d369d7d9level0_row8\" class=\"row_heading level0 row8\" >Outcome</th>\n",
       "                        <td id=\"T_3f8828fd_f42f_11eb_8bf5_ace2d369d7d9row8_col0\" class=\"data row8 col0\" >0.348958</td>\n",
       "                        <td id=\"T_3f8828fd_f42f_11eb_8bf5_ace2d369d7d9row8_col1\" class=\"data row8 col1\" >0.476951</td>\n",
       "                        <td id=\"T_3f8828fd_f42f_11eb_8bf5_ace2d369d7d9row8_col2\" class=\"data row8 col2\" >0.000000</td>\n",
       "                        <td id=\"T_3f8828fd_f42f_11eb_8bf5_ace2d369d7d9row8_col3\" class=\"data row8 col3\" >0.000000</td>\n",
       "                        <td id=\"T_3f8828fd_f42f_11eb_8bf5_ace2d369d7d9row8_col4\" class=\"data row8 col4\" >0.000000</td>\n",
       "                        <td id=\"T_3f8828fd_f42f_11eb_8bf5_ace2d369d7d9row8_col5\" class=\"data row8 col5\" >1.000000</td>\n",
       "                        <td id=\"T_3f8828fd_f42f_11eb_8bf5_ace2d369d7d9row8_col6\" class=\"data row8 col6\" >1.000000</td>\n",
       "            </tr>\n",
       "    </tbody></table>"
      ],
      "text/plain": [
       "<pandas.io.formats.style.Styler at 0x24001e70e20>"
      ]
     },
     "execution_count": 15,
     "metadata": {},
     "output_type": "execute_result"
    }
   ],
   "source": [
    "diabetes.describe().T.drop(\"count\", axis=1).style.highlight_max(color=\"darkred\")"
   ]
  },
  {
   "cell_type": "markdown",
   "metadata": {},
   "source": [
    "Above, we are highlighting cells that hold the maximum value of a column. Another cool styler is `background_gradient` which can give columns a gradient background color based on their values:"
   ]
  },
  {
   "cell_type": "code",
   "execution_count": 16,
   "metadata": {},
   "outputs": [
    {
     "data": {
      "text/html": [
       "<style  type=\"text/css\" >\n",
       "#T_3f971dba_f42f_11eb_81c4_ace2d369d7d9row0_col0{\n",
       "            background-color:  #fff0e9;\n",
       "            color:  #000000;\n",
       "        }#T_3f971dba_f42f_11eb_81c4_ace2d369d7d9row0_col4{\n",
       "            background-color:  #fff1ea;\n",
       "            color:  #000000;\n",
       "        }#T_3f971dba_f42f_11eb_81c4_ace2d369d7d9row1_col0,#T_3f971dba_f42f_11eb_81c4_ace2d369d7d9row1_col4{\n",
       "            background-color:  #67000d;\n",
       "            color:  #f1f1f1;\n",
       "        }#T_3f971dba_f42f_11eb_81c4_ace2d369d7d9row2_col0{\n",
       "            background-color:  #f44f39;\n",
       "            color:  #000000;\n",
       "        }#T_3f971dba_f42f_11eb_81c4_ace2d369d7d9row2_col4{\n",
       "            background-color:  #f03f2e;\n",
       "            color:  #f1f1f1;\n",
       "        }#T_3f971dba_f42f_11eb_81c4_ace2d369d7d9row3_col0{\n",
       "            background-color:  #fdd4c2;\n",
       "            color:  #000000;\n",
       "        }#T_3f971dba_f42f_11eb_81c4_ace2d369d7d9row3_col4{\n",
       "            background-color:  #fdcbb6;\n",
       "            color:  #000000;\n",
       "        }#T_3f971dba_f42f_11eb_81c4_ace2d369d7d9row4_col0{\n",
       "            background-color:  #e53228;\n",
       "            color:  #f1f1f1;\n",
       "        }#T_3f971dba_f42f_11eb_81c4_ace2d369d7d9row4_col4{\n",
       "            background-color:  #fcb89e;\n",
       "            color:  #000000;\n",
       "        }#T_3f971dba_f42f_11eb_81c4_ace2d369d7d9row5_col0{\n",
       "            background-color:  #fcb79c;\n",
       "            color:  #000000;\n",
       "        }#T_3f971dba_f42f_11eb_81c4_ace2d369d7d9row5_col4{\n",
       "            background-color:  #fcb398;\n",
       "            color:  #000000;\n",
       "        }#T_3f971dba_f42f_11eb_81c4_ace2d369d7d9row6_col0,#T_3f971dba_f42f_11eb_81c4_ace2d369d7d9row6_col4,#T_3f971dba_f42f_11eb_81c4_ace2d369d7d9row8_col0,#T_3f971dba_f42f_11eb_81c4_ace2d369d7d9row8_col4{\n",
       "            background-color:  #fff5f0;\n",
       "            color:  #000000;\n",
       "        }#T_3f971dba_f42f_11eb_81c4_ace2d369d7d9row7_col0{\n",
       "            background-color:  #fcb499;\n",
       "            color:  #000000;\n",
       "        }#T_3f971dba_f42f_11eb_81c4_ace2d369d7d9row7_col4{\n",
       "            background-color:  #fcbca2;\n",
       "            color:  #000000;\n",
       "        }</style><table id=\"T_3f971dba_f42f_11eb_81c4_ace2d369d7d9\" ><thead>    <tr>        <th class=\"blank level0\" ></th>        <th class=\"col_heading level0 col0\" >mean</th>        <th class=\"col_heading level0 col1\" >std</th>        <th class=\"col_heading level0 col2\" >min</th>        <th class=\"col_heading level0 col3\" >25%</th>        <th class=\"col_heading level0 col4\" >50%</th>        <th class=\"col_heading level0 col5\" >75%</th>        <th class=\"col_heading level0 col6\" >max</th>    </tr></thead><tbody>\n",
       "                <tr>\n",
       "                        <th id=\"T_3f971dba_f42f_11eb_81c4_ace2d369d7d9level0_row0\" class=\"row_heading level0 row0\" >Pregnancies</th>\n",
       "                        <td id=\"T_3f971dba_f42f_11eb_81c4_ace2d369d7d9row0_col0\" class=\"data row0 col0\" >3.845052</td>\n",
       "                        <td id=\"T_3f971dba_f42f_11eb_81c4_ace2d369d7d9row0_col1\" class=\"data row0 col1\" >3.369578</td>\n",
       "                        <td id=\"T_3f971dba_f42f_11eb_81c4_ace2d369d7d9row0_col2\" class=\"data row0 col2\" >0.000000</td>\n",
       "                        <td id=\"T_3f971dba_f42f_11eb_81c4_ace2d369d7d9row0_col3\" class=\"data row0 col3\" >1.000000</td>\n",
       "                        <td id=\"T_3f971dba_f42f_11eb_81c4_ace2d369d7d9row0_col4\" class=\"data row0 col4\" >3.000000</td>\n",
       "                        <td id=\"T_3f971dba_f42f_11eb_81c4_ace2d369d7d9row0_col5\" class=\"data row0 col5\" >6.000000</td>\n",
       "                        <td id=\"T_3f971dba_f42f_11eb_81c4_ace2d369d7d9row0_col6\" class=\"data row0 col6\" >17.000000</td>\n",
       "            </tr>\n",
       "            <tr>\n",
       "                        <th id=\"T_3f971dba_f42f_11eb_81c4_ace2d369d7d9level0_row1\" class=\"row_heading level0 row1\" >Glucose</th>\n",
       "                        <td id=\"T_3f971dba_f42f_11eb_81c4_ace2d369d7d9row1_col0\" class=\"data row1 col0\" >120.894531</td>\n",
       "                        <td id=\"T_3f971dba_f42f_11eb_81c4_ace2d369d7d9row1_col1\" class=\"data row1 col1\" >31.972618</td>\n",
       "                        <td id=\"T_3f971dba_f42f_11eb_81c4_ace2d369d7d9row1_col2\" class=\"data row1 col2\" >0.000000</td>\n",
       "                        <td id=\"T_3f971dba_f42f_11eb_81c4_ace2d369d7d9row1_col3\" class=\"data row1 col3\" >99.000000</td>\n",
       "                        <td id=\"T_3f971dba_f42f_11eb_81c4_ace2d369d7d9row1_col4\" class=\"data row1 col4\" >117.000000</td>\n",
       "                        <td id=\"T_3f971dba_f42f_11eb_81c4_ace2d369d7d9row1_col5\" class=\"data row1 col5\" >140.250000</td>\n",
       "                        <td id=\"T_3f971dba_f42f_11eb_81c4_ace2d369d7d9row1_col6\" class=\"data row1 col6\" >199.000000</td>\n",
       "            </tr>\n",
       "            <tr>\n",
       "                        <th id=\"T_3f971dba_f42f_11eb_81c4_ace2d369d7d9level0_row2\" class=\"row_heading level0 row2\" >BloodPressure</th>\n",
       "                        <td id=\"T_3f971dba_f42f_11eb_81c4_ace2d369d7d9row2_col0\" class=\"data row2 col0\" >69.105469</td>\n",
       "                        <td id=\"T_3f971dba_f42f_11eb_81c4_ace2d369d7d9row2_col1\" class=\"data row2 col1\" >19.355807</td>\n",
       "                        <td id=\"T_3f971dba_f42f_11eb_81c4_ace2d369d7d9row2_col2\" class=\"data row2 col2\" >0.000000</td>\n",
       "                        <td id=\"T_3f971dba_f42f_11eb_81c4_ace2d369d7d9row2_col3\" class=\"data row2 col3\" >62.000000</td>\n",
       "                        <td id=\"T_3f971dba_f42f_11eb_81c4_ace2d369d7d9row2_col4\" class=\"data row2 col4\" >72.000000</td>\n",
       "                        <td id=\"T_3f971dba_f42f_11eb_81c4_ace2d369d7d9row2_col5\" class=\"data row2 col5\" >80.000000</td>\n",
       "                        <td id=\"T_3f971dba_f42f_11eb_81c4_ace2d369d7d9row2_col6\" class=\"data row2 col6\" >122.000000</td>\n",
       "            </tr>\n",
       "            <tr>\n",
       "                        <th id=\"T_3f971dba_f42f_11eb_81c4_ace2d369d7d9level0_row3\" class=\"row_heading level0 row3\" >SkinThickness</th>\n",
       "                        <td id=\"T_3f971dba_f42f_11eb_81c4_ace2d369d7d9row3_col0\" class=\"data row3 col0\" >20.536458</td>\n",
       "                        <td id=\"T_3f971dba_f42f_11eb_81c4_ace2d369d7d9row3_col1\" class=\"data row3 col1\" >15.952218</td>\n",
       "                        <td id=\"T_3f971dba_f42f_11eb_81c4_ace2d369d7d9row3_col2\" class=\"data row3 col2\" >0.000000</td>\n",
       "                        <td id=\"T_3f971dba_f42f_11eb_81c4_ace2d369d7d9row3_col3\" class=\"data row3 col3\" >0.000000</td>\n",
       "                        <td id=\"T_3f971dba_f42f_11eb_81c4_ace2d369d7d9row3_col4\" class=\"data row3 col4\" >23.000000</td>\n",
       "                        <td id=\"T_3f971dba_f42f_11eb_81c4_ace2d369d7d9row3_col5\" class=\"data row3 col5\" >32.000000</td>\n",
       "                        <td id=\"T_3f971dba_f42f_11eb_81c4_ace2d369d7d9row3_col6\" class=\"data row3 col6\" >99.000000</td>\n",
       "            </tr>\n",
       "            <tr>\n",
       "                        <th id=\"T_3f971dba_f42f_11eb_81c4_ace2d369d7d9level0_row4\" class=\"row_heading level0 row4\" >Insulin</th>\n",
       "                        <td id=\"T_3f971dba_f42f_11eb_81c4_ace2d369d7d9row4_col0\" class=\"data row4 col0\" >79.799479</td>\n",
       "                        <td id=\"T_3f971dba_f42f_11eb_81c4_ace2d369d7d9row4_col1\" class=\"data row4 col1\" >115.244002</td>\n",
       "                        <td id=\"T_3f971dba_f42f_11eb_81c4_ace2d369d7d9row4_col2\" class=\"data row4 col2\" >0.000000</td>\n",
       "                        <td id=\"T_3f971dba_f42f_11eb_81c4_ace2d369d7d9row4_col3\" class=\"data row4 col3\" >0.000000</td>\n",
       "                        <td id=\"T_3f971dba_f42f_11eb_81c4_ace2d369d7d9row4_col4\" class=\"data row4 col4\" >30.500000</td>\n",
       "                        <td id=\"T_3f971dba_f42f_11eb_81c4_ace2d369d7d9row4_col5\" class=\"data row4 col5\" >127.250000</td>\n",
       "                        <td id=\"T_3f971dba_f42f_11eb_81c4_ace2d369d7d9row4_col6\" class=\"data row4 col6\" >846.000000</td>\n",
       "            </tr>\n",
       "            <tr>\n",
       "                        <th id=\"T_3f971dba_f42f_11eb_81c4_ace2d369d7d9level0_row5\" class=\"row_heading level0 row5\" >BMI</th>\n",
       "                        <td id=\"T_3f971dba_f42f_11eb_81c4_ace2d369d7d9row5_col0\" class=\"data row5 col0\" >31.992578</td>\n",
       "                        <td id=\"T_3f971dba_f42f_11eb_81c4_ace2d369d7d9row5_col1\" class=\"data row5 col1\" >7.884160</td>\n",
       "                        <td id=\"T_3f971dba_f42f_11eb_81c4_ace2d369d7d9row5_col2\" class=\"data row5 col2\" >0.000000</td>\n",
       "                        <td id=\"T_3f971dba_f42f_11eb_81c4_ace2d369d7d9row5_col3\" class=\"data row5 col3\" >27.300000</td>\n",
       "                        <td id=\"T_3f971dba_f42f_11eb_81c4_ace2d369d7d9row5_col4\" class=\"data row5 col4\" >32.000000</td>\n",
       "                        <td id=\"T_3f971dba_f42f_11eb_81c4_ace2d369d7d9row5_col5\" class=\"data row5 col5\" >36.600000</td>\n",
       "                        <td id=\"T_3f971dba_f42f_11eb_81c4_ace2d369d7d9row5_col6\" class=\"data row5 col6\" >67.100000</td>\n",
       "            </tr>\n",
       "            <tr>\n",
       "                        <th id=\"T_3f971dba_f42f_11eb_81c4_ace2d369d7d9level0_row6\" class=\"row_heading level0 row6\" >DiabetesPedigreeFunction</th>\n",
       "                        <td id=\"T_3f971dba_f42f_11eb_81c4_ace2d369d7d9row6_col0\" class=\"data row6 col0\" >0.471876</td>\n",
       "                        <td id=\"T_3f971dba_f42f_11eb_81c4_ace2d369d7d9row6_col1\" class=\"data row6 col1\" >0.331329</td>\n",
       "                        <td id=\"T_3f971dba_f42f_11eb_81c4_ace2d369d7d9row6_col2\" class=\"data row6 col2\" >0.078000</td>\n",
       "                        <td id=\"T_3f971dba_f42f_11eb_81c4_ace2d369d7d9row6_col3\" class=\"data row6 col3\" >0.243750</td>\n",
       "                        <td id=\"T_3f971dba_f42f_11eb_81c4_ace2d369d7d9row6_col4\" class=\"data row6 col4\" >0.372500</td>\n",
       "                        <td id=\"T_3f971dba_f42f_11eb_81c4_ace2d369d7d9row6_col5\" class=\"data row6 col5\" >0.626250</td>\n",
       "                        <td id=\"T_3f971dba_f42f_11eb_81c4_ace2d369d7d9row6_col6\" class=\"data row6 col6\" >2.420000</td>\n",
       "            </tr>\n",
       "            <tr>\n",
       "                        <th id=\"T_3f971dba_f42f_11eb_81c4_ace2d369d7d9level0_row7\" class=\"row_heading level0 row7\" >Age</th>\n",
       "                        <td id=\"T_3f971dba_f42f_11eb_81c4_ace2d369d7d9row7_col0\" class=\"data row7 col0\" >33.240885</td>\n",
       "                        <td id=\"T_3f971dba_f42f_11eb_81c4_ace2d369d7d9row7_col1\" class=\"data row7 col1\" >11.760232</td>\n",
       "                        <td id=\"T_3f971dba_f42f_11eb_81c4_ace2d369d7d9row7_col2\" class=\"data row7 col2\" >21.000000</td>\n",
       "                        <td id=\"T_3f971dba_f42f_11eb_81c4_ace2d369d7d9row7_col3\" class=\"data row7 col3\" >24.000000</td>\n",
       "                        <td id=\"T_3f971dba_f42f_11eb_81c4_ace2d369d7d9row7_col4\" class=\"data row7 col4\" >29.000000</td>\n",
       "                        <td id=\"T_3f971dba_f42f_11eb_81c4_ace2d369d7d9row7_col5\" class=\"data row7 col5\" >41.000000</td>\n",
       "                        <td id=\"T_3f971dba_f42f_11eb_81c4_ace2d369d7d9row7_col6\" class=\"data row7 col6\" >81.000000</td>\n",
       "            </tr>\n",
       "            <tr>\n",
       "                        <th id=\"T_3f971dba_f42f_11eb_81c4_ace2d369d7d9level0_row8\" class=\"row_heading level0 row8\" >Outcome</th>\n",
       "                        <td id=\"T_3f971dba_f42f_11eb_81c4_ace2d369d7d9row8_col0\" class=\"data row8 col0\" >0.348958</td>\n",
       "                        <td id=\"T_3f971dba_f42f_11eb_81c4_ace2d369d7d9row8_col1\" class=\"data row8 col1\" >0.476951</td>\n",
       "                        <td id=\"T_3f971dba_f42f_11eb_81c4_ace2d369d7d9row8_col2\" class=\"data row8 col2\" >0.000000</td>\n",
       "                        <td id=\"T_3f971dba_f42f_11eb_81c4_ace2d369d7d9row8_col3\" class=\"data row8 col3\" >0.000000</td>\n",
       "                        <td id=\"T_3f971dba_f42f_11eb_81c4_ace2d369d7d9row8_col4\" class=\"data row8 col4\" >0.000000</td>\n",
       "                        <td id=\"T_3f971dba_f42f_11eb_81c4_ace2d369d7d9row8_col5\" class=\"data row8 col5\" >1.000000</td>\n",
       "                        <td id=\"T_3f971dba_f42f_11eb_81c4_ace2d369d7d9row8_col6\" class=\"data row8 col6\" >1.000000</td>\n",
       "            </tr>\n",
       "    </tbody></table>"
      ],
      "text/plain": [
       "<pandas.io.formats.style.Styler at 0x24001a3a130>"
      ]
     },
     "execution_count": 16,
     "metadata": {},
     "output_type": "execute_result"
    }
   ],
   "source": [
    "diabetes.describe().T.drop(\"count\", axis=1).style.background_gradient(\n",
    "    subset=[\"mean\", \"50%\"], cmap=\"Reds\"\n",
    ")"
   ]
  },
  {
   "cell_type": "markdown",
   "metadata": {},
   "source": [
    "This feature comes especially handy when you are using `describe` on a table with many columns and want to compare summary statistics. Check out the documentation of the styler [here](https://pandas.pydata.org/docs/reference/style.html)."
   ]
  },
  {
   "cell_type": "markdown",
   "metadata": {},
   "source": [
    "## 9. Pandas options"
   ]
  },
  {
   "cell_type": "markdown",
   "metadata": {},
   "source": [
    "Like Matplotlib, pandas has global settings that you can tweak to change the default behaviors:"
   ]
  },
  {
   "cell_type": "code",
   "execution_count": 17,
   "metadata": {},
   "outputs": [
    {
     "data": {
      "text/plain": [
       "['compute', 'display', 'io', 'mode', 'plotting']"
      ]
     },
     "execution_count": 17,
     "metadata": {},
     "output_type": "execute_result"
    }
   ],
   "source": [
    "dir(pd.options)"
   ]
  },
  {
   "cell_type": "markdown",
   "metadata": {},
   "source": [
    "These settings are divided into 5 modules. Let's see what settings are there under `display`:"
   ]
  },
  {
   "cell_type": "code",
   "execution_count": 18,
   "metadata": {},
   "outputs": [
    {
     "data": {
      "text/plain": [
       "['chop_threshold',\n",
       " 'colheader_justify',\n",
       " 'column_space',\n",
       " 'date_dayfirst',\n",
       " 'date_yearfirst',\n",
       " 'encoding',\n",
       " 'expand_frame_repr',\n",
       " 'float_format',\n",
       " 'html',\n",
       " 'large_repr',\n",
       " 'latex',\n",
       " 'max_categories',\n",
       " 'max_columns',\n",
       " 'max_colwidth',\n",
       " 'max_info_columns',\n",
       " 'max_info_rows',\n",
       " 'max_rows',\n",
       " 'max_seq_items',\n",
       " 'memory_usage',\n",
       " 'min_rows',\n",
       " 'multi_sparse',\n",
       " 'notebook_repr_html',\n",
       " 'pprint_nest_depth',\n",
       " 'precision',\n",
       " 'show_dimensions',\n",
       " 'unicode',\n",
       " 'width']"
      ]
     },
     "execution_count": 18,
     "metadata": {},
     "output_type": "execute_result"
    }
   ],
   "source": [
    "dir(pd.options.display)"
   ]
  },
  {
   "cell_type": "markdown",
   "metadata": {},
   "source": [
    "There are options under `display` but I mostly use `max_columns` and `precision`:"
   ]
  },
  {
   "cell_type": "code",
   "execution_count": 19,
   "metadata": {},
   "outputs": [],
   "source": [
    "# Remove the limit to display the number of cols\n",
    "pd.options.display.max_columns = None\n",
    "\n",
    "# Only show 5 numbers after the decimal\n",
    "pd.options.display.precision = 5  # gets rid of scientific notation"
   ]
  },
  {
   "cell_type": "markdown",
   "metadata": {},
   "source": [
    "You can check out the [documentation](https://pandas.pydata.org/pandas-docs/stable/user_guide/options.html) to dig deeper into this wonderful feature."
   ]
  },
  {
   "cell_type": "markdown",
   "metadata": {},
   "source": [
    "## 10. `convert_dtypes`"
   ]
  },
  {
   "cell_type": "markdown",
   "metadata": {},
   "source": [
    "We all know that pandas has an annoying tendency to mark some columns as `object` data type. Instead of manually specifying their types, you can use `convert_dtypes` method which tries to infer the best data type:"
   ]
  },
  {
   "cell_type": "code",
   "execution_count": 20,
   "metadata": {},
   "outputs": [
    {
     "data": {
      "text/plain": [
       "StationId      object\n",
       "CO            float64\n",
       "O3            float64\n",
       "AQI_Bucket     object\n",
       "dtype: object"
      ]
     },
     "execution_count": 20,
     "metadata": {},
     "output_type": "execute_result"
    }
   ],
   "source": [
    "sample = pd.read_csv(\n",
    "    \"data/station_day.csv\",\n",
    "    usecols=[\"StationId\", \"CO\", \"O3\", \"AQI_Bucket\"],\n",
    ")\n",
    "sample.dtypes"
   ]
  },
  {
   "cell_type": "code",
   "execution_count": 21,
   "metadata": {},
   "outputs": [
    {
     "data": {
      "text/plain": [
       "StationId      string\n",
       "CO            float64\n",
       "O3            float64\n",
       "AQI_Bucket     string\n",
       "dtype: object"
      ]
     },
     "execution_count": 21,
     "metadata": {},
     "output_type": "execute_result"
    }
   ],
   "source": [
    "sample.convert_dtypes().dtypes"
   ]
  },
  {
   "cell_type": "markdown",
   "metadata": {},
   "source": [
    "Unfortunately, it can't pares dates due to the caveats of different date time formats."
   ]
  },
  {
   "cell_type": "markdown",
   "metadata": {},
   "source": [
    "## 11. `select_dtypes`"
   ]
  },
  {
   "cell_type": "markdown",
   "metadata": {},
   "source": [
    "A function I use all the time is `select_dtypes`. I think it is obvious what the function does from its name. It has `include` and `exclude` parameters that you can use to select columns including or excluding certain data types.\n",
    "\n",
    "For example, choose only numeric columns with `np.number`:"
   ]
  },
  {
   "cell_type": "code",
   "execution_count": 22,
   "metadata": {},
   "outputs": [
    {
     "data": {
      "text/html": [
       "<div>\n",
       "<style scoped>\n",
       "    .dataframe tbody tr th:only-of-type {\n",
       "        vertical-align: middle;\n",
       "    }\n",
       "\n",
       "    .dataframe tbody tr th {\n",
       "        vertical-align: top;\n",
       "    }\n",
       "\n",
       "    .dataframe thead th {\n",
       "        text-align: right;\n",
       "    }\n",
       "</style>\n",
       "<table border=\"1\" class=\"dataframe\">\n",
       "  <thead>\n",
       "    <tr style=\"text-align: right;\">\n",
       "      <th></th>\n",
       "      <th>carat</th>\n",
       "      <th>depth</th>\n",
       "      <th>table</th>\n",
       "      <th>price</th>\n",
       "      <th>x</th>\n",
       "      <th>y</th>\n",
       "      <th>z</th>\n",
       "      <th>cut_enc</th>\n",
       "    </tr>\n",
       "  </thead>\n",
       "  <tbody>\n",
       "    <tr>\n",
       "      <th>0</th>\n",
       "      <td>0.23</td>\n",
       "      <td>61.5</td>\n",
       "      <td>55.0</td>\n",
       "      <td>326</td>\n",
       "      <td>3.95</td>\n",
       "      <td>3.98</td>\n",
       "      <td>2.43</td>\n",
       "      <td>0</td>\n",
       "    </tr>\n",
       "    <tr>\n",
       "      <th>1</th>\n",
       "      <td>0.21</td>\n",
       "      <td>59.8</td>\n",
       "      <td>61.0</td>\n",
       "      <td>326</td>\n",
       "      <td>3.89</td>\n",
       "      <td>3.84</td>\n",
       "      <td>2.31</td>\n",
       "      <td>1</td>\n",
       "    </tr>\n",
       "    <tr>\n",
       "      <th>2</th>\n",
       "      <td>0.23</td>\n",
       "      <td>56.9</td>\n",
       "      <td>65.0</td>\n",
       "      <td>327</td>\n",
       "      <td>4.05</td>\n",
       "      <td>4.07</td>\n",
       "      <td>2.31</td>\n",
       "      <td>2</td>\n",
       "    </tr>\n",
       "    <tr>\n",
       "      <th>3</th>\n",
       "      <td>0.29</td>\n",
       "      <td>62.4</td>\n",
       "      <td>58.0</td>\n",
       "      <td>334</td>\n",
       "      <td>4.20</td>\n",
       "      <td>4.23</td>\n",
       "      <td>2.63</td>\n",
       "      <td>1</td>\n",
       "    </tr>\n",
       "    <tr>\n",
       "      <th>4</th>\n",
       "      <td>0.31</td>\n",
       "      <td>63.3</td>\n",
       "      <td>58.0</td>\n",
       "      <td>335</td>\n",
       "      <td>4.34</td>\n",
       "      <td>4.35</td>\n",
       "      <td>2.75</td>\n",
       "      <td>2</td>\n",
       "    </tr>\n",
       "  </tbody>\n",
       "</table>\n",
       "</div>"
      ],
      "text/plain": [
       "   carat  depth  table  price     x     y     z  cut_enc\n",
       "0   0.23   61.5   55.0    326  3.95  3.98  2.43        0\n",
       "1   0.21   59.8   61.0    326  3.89  3.84  2.31        1\n",
       "2   0.23   56.9   65.0    327  4.05  4.07  2.31        2\n",
       "3   0.29   62.4   58.0    334  4.20  4.23  2.63        1\n",
       "4   0.31   63.3   58.0    335  4.34  4.35  2.75        2"
      ]
     },
     "execution_count": 22,
     "metadata": {},
     "output_type": "execute_result"
    }
   ],
   "source": [
    "# Choose only numerical columns\n",
    "diamonds.select_dtypes(include=np.number).head()"
   ]
  },
  {
   "cell_type": "markdown",
   "metadata": {},
   "source": [
    "Or `exclude` them:"
   ]
  },
  {
   "cell_type": "code",
   "execution_count": 23,
   "metadata": {},
   "outputs": [
    {
     "data": {
      "text/html": [
       "<div>\n",
       "<style scoped>\n",
       "    .dataframe tbody tr th:only-of-type {\n",
       "        vertical-align: middle;\n",
       "    }\n",
       "\n",
       "    .dataframe tbody tr th {\n",
       "        vertical-align: top;\n",
       "    }\n",
       "\n",
       "    .dataframe thead th {\n",
       "        text-align: right;\n",
       "    }\n",
       "</style>\n",
       "<table border=\"1\" class=\"dataframe\">\n",
       "  <thead>\n",
       "    <tr style=\"text-align: right;\">\n",
       "      <th></th>\n",
       "      <th>cut</th>\n",
       "      <th>color</th>\n",
       "      <th>clarity</th>\n",
       "    </tr>\n",
       "  </thead>\n",
       "  <tbody>\n",
       "    <tr>\n",
       "      <th>0</th>\n",
       "      <td>Ideal</td>\n",
       "      <td>E</td>\n",
       "      <td>SI2</td>\n",
       "    </tr>\n",
       "    <tr>\n",
       "      <th>1</th>\n",
       "      <td>Premium</td>\n",
       "      <td>E</td>\n",
       "      <td>SI1</td>\n",
       "    </tr>\n",
       "    <tr>\n",
       "      <th>2</th>\n",
       "      <td>Good</td>\n",
       "      <td>E</td>\n",
       "      <td>VS1</td>\n",
       "    </tr>\n",
       "    <tr>\n",
       "      <th>3</th>\n",
       "      <td>Premium</td>\n",
       "      <td>I</td>\n",
       "      <td>VS2</td>\n",
       "    </tr>\n",
       "    <tr>\n",
       "      <th>4</th>\n",
       "      <td>Good</td>\n",
       "      <td>J</td>\n",
       "      <td>SI2</td>\n",
       "    </tr>\n",
       "  </tbody>\n",
       "</table>\n",
       "</div>"
      ],
      "text/plain": [
       "       cut color clarity\n",
       "0    Ideal     E     SI2\n",
       "1  Premium     E     SI1\n",
       "2     Good     E     VS1\n",
       "3  Premium     I     VS2\n",
       "4     Good     J     SI2"
      ]
     },
     "execution_count": 23,
     "metadata": {},
     "output_type": "execute_result"
    }
   ],
   "source": [
    "# Exclude numerical columns\n",
    "diamonds.select_dtypes(exclude=np.number).head()"
   ]
  },
  {
   "cell_type": "markdown",
   "metadata": {},
   "source": [
    "## 12. `mask`"
   ]
  },
  {
   "cell_type": "markdown",
   "metadata": {},
   "source": [
    "![](https://images.pexels.com/photos/38275/anonymous-studio-figure-photography-facial-mask-38275.jpeg?auto=compress&cs=tinysrgb&dpr=2&h=650&w=940)\n",
    "<figcaption style=\"text-align: center;\">\n",
    "    <strong>\n",
    "        Photo by \n",
    "        <a href='https://www.pexels.com/@pixabay?utm_content=attributionCopyText&utm_medium=referral&utm_source=pexels'>Pixabay</a>\n",
    "        on \n",
    "        <a href='https://www.pexels.com/photo/photo-of-guy-fawkes-mask-with-red-flower-on-top-on-hand-38275/?utm_content=attributionCopyText&utm_medium=referral&utm_source=pexels'>Pexels.</a>\n",
    "    </strong>\n",
    "</figcaption>"
   ]
  },
  {
   "cell_type": "markdown",
   "metadata": {},
   "source": [
    "`mask` allows you to quickly replace cell values where a custom condition is true. \n",
    "\n",
    "For example, let's say we have a survey data collected from people aged 50-60."
   ]
  },
  {
   "cell_type": "code",
   "execution_count": 24,
   "metadata": {},
   "outputs": [
    {
     "data": {
      "text/html": [
       "<div>\n",
       "<style scoped>\n",
       "    .dataframe tbody tr th:only-of-type {\n",
       "        vertical-align: middle;\n",
       "    }\n",
       "\n",
       "    .dataframe tbody tr th {\n",
       "        vertical-align: top;\n",
       "    }\n",
       "\n",
       "    .dataframe thead th {\n",
       "        text-align: right;\n",
       "    }\n",
       "</style>\n",
       "<table border=\"1\" class=\"dataframe\">\n",
       "  <thead>\n",
       "    <tr style=\"text-align: right;\">\n",
       "      <th></th>\n",
       "      <th>ages</th>\n",
       "    </tr>\n",
       "  </thead>\n",
       "  <tbody>\n",
       "    <tr>\n",
       "      <th>0</th>\n",
       "      <td>55</td>\n",
       "    </tr>\n",
       "    <tr>\n",
       "      <th>1</th>\n",
       "      <td>52</td>\n",
       "    </tr>\n",
       "    <tr>\n",
       "      <th>2</th>\n",
       "      <td>50</td>\n",
       "    </tr>\n",
       "    <tr>\n",
       "      <th>3</th>\n",
       "      <td>66</td>\n",
       "    </tr>\n",
       "    <tr>\n",
       "      <th>4</th>\n",
       "      <td>57</td>\n",
       "    </tr>\n",
       "    <tr>\n",
       "      <th>5</th>\n",
       "      <td>59</td>\n",
       "    </tr>\n",
       "    <tr>\n",
       "      <th>6</th>\n",
       "      <td>49</td>\n",
       "    </tr>\n",
       "    <tr>\n",
       "      <th>7</th>\n",
       "      <td>60</td>\n",
       "    </tr>\n",
       "  </tbody>\n",
       "</table>\n",
       "</div>"
      ],
      "text/plain": [
       "   ages\n",
       "0    55\n",
       "1    52\n",
       "2    50\n",
       "3    66\n",
       "4    57\n",
       "5    59\n",
       "6    49\n",
       "7    60"
      ]
     },
     "execution_count": 24,
     "metadata": {},
     "output_type": "execute_result"
    }
   ],
   "source": [
    "# Create sample data\n",
    "ages = pd.Series([55, 52, 50, 66, 57, 59, 49, 60]).to_frame(\"ages\")\n",
    "\n",
    "ages"
   ]
  },
  {
   "cell_type": "markdown",
   "metadata": {},
   "source": [
    "We will treat ages that are outside 50-60 range (there are two, 49 and 66) as data entry mistakes and replace them with NaNs."
   ]
  },
  {
   "cell_type": "code",
   "execution_count": 25,
   "metadata": {},
   "outputs": [
    {
     "data": {
      "text/html": [
       "<div>\n",
       "<style scoped>\n",
       "    .dataframe tbody tr th:only-of-type {\n",
       "        vertical-align: middle;\n",
       "    }\n",
       "\n",
       "    .dataframe tbody tr th {\n",
       "        vertical-align: top;\n",
       "    }\n",
       "\n",
       "    .dataframe thead th {\n",
       "        text-align: right;\n",
       "    }\n",
       "</style>\n",
       "<table border=\"1\" class=\"dataframe\">\n",
       "  <thead>\n",
       "    <tr style=\"text-align: right;\">\n",
       "      <th></th>\n",
       "      <th>ages</th>\n",
       "    </tr>\n",
       "  </thead>\n",
       "  <tbody>\n",
       "    <tr>\n",
       "      <th>0</th>\n",
       "      <td>55.0</td>\n",
       "    </tr>\n",
       "    <tr>\n",
       "      <th>1</th>\n",
       "      <td>52.0</td>\n",
       "    </tr>\n",
       "    <tr>\n",
       "      <th>2</th>\n",
       "      <td>50.0</td>\n",
       "    </tr>\n",
       "    <tr>\n",
       "      <th>3</th>\n",
       "      <td>NaN</td>\n",
       "    </tr>\n",
       "    <tr>\n",
       "      <th>4</th>\n",
       "      <td>57.0</td>\n",
       "    </tr>\n",
       "    <tr>\n",
       "      <th>5</th>\n",
       "      <td>59.0</td>\n",
       "    </tr>\n",
       "    <tr>\n",
       "      <th>6</th>\n",
       "      <td>NaN</td>\n",
       "    </tr>\n",
       "    <tr>\n",
       "      <th>7</th>\n",
       "      <td>60.0</td>\n",
       "    </tr>\n",
       "  </tbody>\n",
       "</table>\n",
       "</div>"
      ],
      "text/plain": [
       "   ages\n",
       "0  55.0\n",
       "1  52.0\n",
       "2  50.0\n",
       "3   NaN\n",
       "4  57.0\n",
       "5  59.0\n",
       "6   NaN\n",
       "7  60.0"
      ]
     },
     "execution_count": 25,
     "metadata": {},
     "output_type": "execute_result"
    }
   ],
   "source": [
    "ages.mask(cond=~ages[\"ages\"].between(50, 60), other=np.nan)"
   ]
  },
  {
   "cell_type": "markdown",
   "metadata": {},
   "source": [
    "So, `mask` replaces values that don't meet `cond` with `other`."
   ]
  },
  {
   "cell_type": "markdown",
   "metadata": {},
   "source": [
    "## 13. `min` and `max` along the columns axis"
   ]
  },
  {
   "cell_type": "markdown",
   "metadata": {},
   "source": [
    "Even though `min` and `max` functions are well-known, they have another useful property for some edge-cases. Consider this dataset:"
   ]
  },
  {
   "cell_type": "code",
   "execution_count": 26,
   "metadata": {
    "tags": []
   },
   "outputs": [
    {
     "data": {
      "text/html": [
       "<div>\n",
       "<style scoped>\n",
       "    .dataframe tbody tr th:only-of-type {\n",
       "        vertical-align: middle;\n",
       "    }\n",
       "\n",
       "    .dataframe tbody tr th {\n",
       "        vertical-align: top;\n",
       "    }\n",
       "\n",
       "    .dataframe thead th {\n",
       "        text-align: right;\n",
       "    }\n",
       "</style>\n",
       "<table border=\"1\" class=\"dataframe\">\n",
       "  <thead>\n",
       "    <tr style=\"text-align: right;\">\n",
       "      <th></th>\n",
       "      <th>XGBoost</th>\n",
       "      <th>CatBoost</th>\n",
       "      <th>LightGBM</th>\n",
       "      <th>Sklearn GB</th>\n",
       "    </tr>\n",
       "  </thead>\n",
       "  <tbody>\n",
       "    <tr>\n",
       "      <th>Diamonds</th>\n",
       "      <td>99.42441</td>\n",
       "      <td>99.27410</td>\n",
       "      <td>99.52684</td>\n",
       "      <td>95.72998</td>\n",
       "    </tr>\n",
       "    <tr>\n",
       "      <th>Titanic</th>\n",
       "      <td>90.86399</td>\n",
       "      <td>94.25364</td>\n",
       "      <td>92.10503</td>\n",
       "      <td>99.63650</td>\n",
       "    </tr>\n",
       "    <tr>\n",
       "      <th>Iris</th>\n",
       "      <td>99.10989</td>\n",
       "      <td>98.15600</td>\n",
       "      <td>96.34995</td>\n",
       "      <td>92.47787</td>\n",
       "    </tr>\n",
       "    <tr>\n",
       "      <th>Heart Disease</th>\n",
       "      <td>97.21279</td>\n",
       "      <td>95.02175</td>\n",
       "      <td>99.31627</td>\n",
       "      <td>97.29571</td>\n",
       "    </tr>\n",
       "    <tr>\n",
       "      <th>Loan Default</th>\n",
       "      <td>97.96728</td>\n",
       "      <td>90.63744</td>\n",
       "      <td>96.46238</td>\n",
       "      <td>90.89748</td>\n",
       "    </tr>\n",
       "  </tbody>\n",
       "</table>\n",
       "</div>"
      ],
      "text/plain": [
       "                XGBoost  CatBoost  LightGBM  Sklearn GB\n",
       "Diamonds       99.42441  99.27410  99.52684    95.72998\n",
       "Titanic        90.86399  94.25364  92.10503    99.63650\n",
       "Iris           99.10989  98.15600  96.34995    92.47787\n",
       "Heart Disease  97.21279  95.02175  99.31627    97.29571\n",
       "Loan Default   97.96728  90.63744  96.46238    90.89748"
      ]
     },
     "execution_count": 26,
     "metadata": {},
     "output_type": "execute_result"
    }
   ],
   "source": [
    "index = [\"Diamonds\", \"Titanic\", \"Iris\", \"Heart Disease\", \"Loan Default\"]\n",
    "libraries = [\"XGBoost\", \"CatBoost\", \"LightGBM\", \"Sklearn GB\"]\n",
    "df = pd.DataFrame(\n",
    "    {lib: np.random.uniform(90, 100, 5) for lib in libraries}, index=index\n",
    ")\n",
    "\n",
    "df"
   ]
  },
  {
   "cell_type": "markdown",
   "metadata": {},
   "source": [
    "The above fake DataFrame is a point-performance of 4 different gradient boosting libraries on 5 datasets. We want to find the library that performed best at each dataset. Here is how you do it elegantly with `max`:"
   ]
  },
  {
   "cell_type": "code",
   "execution_count": 27,
   "metadata": {},
   "outputs": [
    {
     "data": {
      "text/plain": [
       "Diamonds         99.52684\n",
       "Titanic          99.63650\n",
       "Iris             99.10989\n",
       "Heart Disease    99.31627\n",
       "Loan Default     97.96728\n",
       "dtype: float64"
      ]
     },
     "execution_count": 27,
     "metadata": {},
     "output_type": "execute_result"
    }
   ],
   "source": [
    "df.max(axis=1)"
   ]
  },
  {
   "cell_type": "markdown",
   "metadata": {},
   "source": [
    "Just change the axis to 1 and you get a row-wise max/min. "
   ]
  },
  {
   "cell_type": "markdown",
   "metadata": {},
   "source": [
    "## 14. `nlargest` and `nsmallest`"
   ]
  },
  {
   "cell_type": "markdown",
   "metadata": {},
   "source": [
    "Sometimes you don't just want the min/max of a column. You want to see the top N or ~(top N) values of a variable. This is where `nlargest` and `nsmallest` comes in handy.\n",
    "\n",
    "Let's see the top 5 most expensive and cheapest diamonds:"
   ]
  },
  {
   "cell_type": "code",
   "execution_count": 28,
   "metadata": {},
   "outputs": [
    {
     "data": {
      "text/html": [
       "<div>\n",
       "<style scoped>\n",
       "    .dataframe tbody tr th:only-of-type {\n",
       "        vertical-align: middle;\n",
       "    }\n",
       "\n",
       "    .dataframe tbody tr th {\n",
       "        vertical-align: top;\n",
       "    }\n",
       "\n",
       "    .dataframe thead th {\n",
       "        text-align: right;\n",
       "    }\n",
       "</style>\n",
       "<table border=\"1\" class=\"dataframe\">\n",
       "  <thead>\n",
       "    <tr style=\"text-align: right;\">\n",
       "      <th></th>\n",
       "      <th>carat</th>\n",
       "      <th>cut</th>\n",
       "      <th>color</th>\n",
       "      <th>clarity</th>\n",
       "      <th>depth</th>\n",
       "      <th>table</th>\n",
       "      <th>price</th>\n",
       "      <th>x</th>\n",
       "      <th>y</th>\n",
       "      <th>z</th>\n",
       "      <th>cut_enc</th>\n",
       "    </tr>\n",
       "  </thead>\n",
       "  <tbody>\n",
       "    <tr>\n",
       "      <th>27749</th>\n",
       "      <td>2.29</td>\n",
       "      <td>Premium</td>\n",
       "      <td>I</td>\n",
       "      <td>VS2</td>\n",
       "      <td>60.8</td>\n",
       "      <td>60.0</td>\n",
       "      <td>18823</td>\n",
       "      <td>8.50</td>\n",
       "      <td>8.47</td>\n",
       "      <td>5.16</td>\n",
       "      <td>1</td>\n",
       "    </tr>\n",
       "    <tr>\n",
       "      <th>27748</th>\n",
       "      <td>2.00</td>\n",
       "      <td>Very Good</td>\n",
       "      <td>G</td>\n",
       "      <td>SI1</td>\n",
       "      <td>63.5</td>\n",
       "      <td>56.0</td>\n",
       "      <td>18818</td>\n",
       "      <td>7.90</td>\n",
       "      <td>7.97</td>\n",
       "      <td>5.04</td>\n",
       "      <td>3</td>\n",
       "    </tr>\n",
       "    <tr>\n",
       "      <th>27747</th>\n",
       "      <td>1.51</td>\n",
       "      <td>Ideal</td>\n",
       "      <td>G</td>\n",
       "      <td>IF</td>\n",
       "      <td>61.7</td>\n",
       "      <td>55.0</td>\n",
       "      <td>18806</td>\n",
       "      <td>7.37</td>\n",
       "      <td>7.41</td>\n",
       "      <td>4.56</td>\n",
       "      <td>0</td>\n",
       "    </tr>\n",
       "    <tr>\n",
       "      <th>27746</th>\n",
       "      <td>2.07</td>\n",
       "      <td>Ideal</td>\n",
       "      <td>G</td>\n",
       "      <td>SI2</td>\n",
       "      <td>62.5</td>\n",
       "      <td>55.0</td>\n",
       "      <td>18804</td>\n",
       "      <td>8.20</td>\n",
       "      <td>8.13</td>\n",
       "      <td>5.11</td>\n",
       "      <td>0</td>\n",
       "    </tr>\n",
       "    <tr>\n",
       "      <th>27745</th>\n",
       "      <td>2.00</td>\n",
       "      <td>Very Good</td>\n",
       "      <td>H</td>\n",
       "      <td>SI1</td>\n",
       "      <td>62.8</td>\n",
       "      <td>57.0</td>\n",
       "      <td>18803</td>\n",
       "      <td>7.95</td>\n",
       "      <td>8.00</td>\n",
       "      <td>5.01</td>\n",
       "      <td>3</td>\n",
       "    </tr>\n",
       "  </tbody>\n",
       "</table>\n",
       "</div>"
      ],
      "text/plain": [
       "       carat        cut color clarity  depth  table  price     x     y     z  \\\n",
       "27749   2.29    Premium     I     VS2   60.8   60.0  18823  8.50  8.47  5.16   \n",
       "27748   2.00  Very Good     G     SI1   63.5   56.0  18818  7.90  7.97  5.04   \n",
       "27747   1.51      Ideal     G      IF   61.7   55.0  18806  7.37  7.41  4.56   \n",
       "27746   2.07      Ideal     G     SI2   62.5   55.0  18804  8.20  8.13  5.11   \n",
       "27745   2.00  Very Good     H     SI1   62.8   57.0  18803  7.95  8.00  5.01   \n",
       "\n",
       "       cut_enc  \n",
       "27749        1  \n",
       "27748        3  \n",
       "27747        0  \n",
       "27746        0  \n",
       "27745        3  "
      ]
     },
     "execution_count": 28,
     "metadata": {},
     "output_type": "execute_result"
    }
   ],
   "source": [
    "diamonds.nlargest(5, \"price\")"
   ]
  },
  {
   "cell_type": "code",
   "execution_count": 29,
   "metadata": {},
   "outputs": [
    {
     "data": {
      "text/html": [
       "<div>\n",
       "<style scoped>\n",
       "    .dataframe tbody tr th:only-of-type {\n",
       "        vertical-align: middle;\n",
       "    }\n",
       "\n",
       "    .dataframe tbody tr th {\n",
       "        vertical-align: top;\n",
       "    }\n",
       "\n",
       "    .dataframe thead th {\n",
       "        text-align: right;\n",
       "    }\n",
       "</style>\n",
       "<table border=\"1\" class=\"dataframe\">\n",
       "  <thead>\n",
       "    <tr style=\"text-align: right;\">\n",
       "      <th></th>\n",
       "      <th>carat</th>\n",
       "      <th>cut</th>\n",
       "      <th>color</th>\n",
       "      <th>clarity</th>\n",
       "      <th>depth</th>\n",
       "      <th>table</th>\n",
       "      <th>price</th>\n",
       "      <th>x</th>\n",
       "      <th>y</th>\n",
       "      <th>z</th>\n",
       "      <th>cut_enc</th>\n",
       "    </tr>\n",
       "  </thead>\n",
       "  <tbody>\n",
       "    <tr>\n",
       "      <th>0</th>\n",
       "      <td>0.23</td>\n",
       "      <td>Ideal</td>\n",
       "      <td>E</td>\n",
       "      <td>SI2</td>\n",
       "      <td>61.5</td>\n",
       "      <td>55.0</td>\n",
       "      <td>326</td>\n",
       "      <td>3.95</td>\n",
       "      <td>3.98</td>\n",
       "      <td>2.43</td>\n",
       "      <td>0</td>\n",
       "    </tr>\n",
       "    <tr>\n",
       "      <th>1</th>\n",
       "      <td>0.21</td>\n",
       "      <td>Premium</td>\n",
       "      <td>E</td>\n",
       "      <td>SI1</td>\n",
       "      <td>59.8</td>\n",
       "      <td>61.0</td>\n",
       "      <td>326</td>\n",
       "      <td>3.89</td>\n",
       "      <td>3.84</td>\n",
       "      <td>2.31</td>\n",
       "      <td>1</td>\n",
       "    </tr>\n",
       "    <tr>\n",
       "      <th>2</th>\n",
       "      <td>0.23</td>\n",
       "      <td>Good</td>\n",
       "      <td>E</td>\n",
       "      <td>VS1</td>\n",
       "      <td>56.9</td>\n",
       "      <td>65.0</td>\n",
       "      <td>327</td>\n",
       "      <td>4.05</td>\n",
       "      <td>4.07</td>\n",
       "      <td>2.31</td>\n",
       "      <td>2</td>\n",
       "    </tr>\n",
       "    <tr>\n",
       "      <th>3</th>\n",
       "      <td>0.29</td>\n",
       "      <td>Premium</td>\n",
       "      <td>I</td>\n",
       "      <td>VS2</td>\n",
       "      <td>62.4</td>\n",
       "      <td>58.0</td>\n",
       "      <td>334</td>\n",
       "      <td>4.20</td>\n",
       "      <td>4.23</td>\n",
       "      <td>2.63</td>\n",
       "      <td>1</td>\n",
       "    </tr>\n",
       "    <tr>\n",
       "      <th>4</th>\n",
       "      <td>0.31</td>\n",
       "      <td>Good</td>\n",
       "      <td>J</td>\n",
       "      <td>SI2</td>\n",
       "      <td>63.3</td>\n",
       "      <td>58.0</td>\n",
       "      <td>335</td>\n",
       "      <td>4.34</td>\n",
       "      <td>4.35</td>\n",
       "      <td>2.75</td>\n",
       "      <td>2</td>\n",
       "    </tr>\n",
       "  </tbody>\n",
       "</table>\n",
       "</div>"
      ],
      "text/plain": [
       "   carat      cut color clarity  depth  table  price     x     y     z  \\\n",
       "0   0.23    Ideal     E     SI2   61.5   55.0    326  3.95  3.98  2.43   \n",
       "1   0.21  Premium     E     SI1   59.8   61.0    326  3.89  3.84  2.31   \n",
       "2   0.23     Good     E     VS1   56.9   65.0    327  4.05  4.07  2.31   \n",
       "3   0.29  Premium     I     VS2   62.4   58.0    334  4.20  4.23  2.63   \n",
       "4   0.31     Good     J     SI2   63.3   58.0    335  4.34  4.35  2.75   \n",
       "\n",
       "   cut_enc  \n",
       "0        0  \n",
       "1        1  \n",
       "2        2  \n",
       "3        1  \n",
       "4        2  "
      ]
     },
     "execution_count": 29,
     "metadata": {},
     "output_type": "execute_result"
    }
   ],
   "source": [
    "diamonds.nsmallest(5, \"price\")"
   ]
  },
  {
   "cell_type": "markdown",
   "metadata": {},
   "source": [
    "## 15. `idxmax` and `idxmin`"
   ]
  },
  {
   "cell_type": "markdown",
   "metadata": {},
   "source": [
    "When you call `max` or `min` on a column, pandas returns the value that is largest/smallest. However, sometimes you want the *position* of the min/max, which is not possible with these functions.\n",
    "\n",
    "Instead, you should use `idxmax`/`idxmin`:"
   ]
  },
  {
   "cell_type": "code",
   "execution_count": 30,
   "metadata": {},
   "outputs": [
    {
     "data": {
      "text/plain": [
       "27749"
      ]
     },
     "execution_count": 30,
     "metadata": {},
     "output_type": "execute_result"
    }
   ],
   "source": [
    "diamonds.price.idxmax()"
   ]
  },
  {
   "cell_type": "code",
   "execution_count": 31,
   "metadata": {},
   "outputs": [
    {
     "data": {
      "text/plain": [
       "14"
      ]
     },
     "execution_count": 31,
     "metadata": {},
     "output_type": "execute_result"
    }
   ],
   "source": [
    "diamonds.carat.idxmin()"
   ]
  },
  {
   "cell_type": "markdown",
   "metadata": {},
   "source": [
    "You can also specify the `columns` axis, in which case the functions return the index number of the column."
   ]
  },
  {
   "cell_type": "markdown",
   "metadata": {},
   "source": [
    "## 16. `value_counts` with `dropna=False`"
   ]
  },
  {
   "cell_type": "markdown",
   "metadata": {},
   "source": [
    "A common operation to find the percentage of missing values in a column is to chain `isnull` and `sum` and divide by the length of the array. \n",
    "\n",
    "But, you can do the same thing with `value_counts` with relevant arguments:"
   ]
  },
  {
   "cell_type": "code",
   "execution_count": 32,
   "metadata": {},
   "outputs": [
    {
     "data": {
      "text/plain": [
       "NaN    0.47260\n",
       "Gd     0.26027\n",
       "TA     0.21438\n",
       "Fa     0.02260\n",
       "Ex     0.01644\n",
       "Po     0.01370\n",
       "Name: FireplaceQu, dtype: float64"
      ]
     },
     "execution_count": 32,
     "metadata": {},
     "output_type": "execute_result"
    }
   ],
   "source": [
    "ames_housing = pd.read_csv(\"data/train.csv\")\n",
    "\n",
    "ames_housing[\"FireplaceQu\"].value_counts(dropna=False, normalize=True)"
   ]
  },
  {
   "cell_type": "markdown",
   "metadata": {},
   "source": [
    "Fireplace quality of Ames housing dataset consists of 47% nulls."
   ]
  },
  {
   "cell_type": "markdown",
   "metadata": {},
   "source": [
    "## 17. `clip`"
   ]
  },
  {
   "cell_type": "markdown",
   "metadata": {},
   "source": [
    "![](https://images.pexels.com/photos/2448452/pexels-photo-2448452.jpeg?auto=compress&cs=tinysrgb&dpr=2&h=650&w=940)\n",
    "<figcaption style=\"text-align: center;\">\n",
    "    <strong>\n",
    "        Photo by \n",
    "        <a href='https://www.pexels.com/@ann-h-45017?utm_content=attributionCopyText&utm_medium=referral&utm_source=pexels'>Ann H</a>\n",
    "        on \n",
    "        <a href='https://www.pexels.com/photo/a-lot-of-paper-clips-2448452/?utm_content=attributionCopyText&utm_medium=referral&utm_source=pexels'>Pexels</a></strong>\n",
    "</figcaption>"
   ]
  },
  {
   "cell_type": "markdown",
   "metadata": {},
   "source": [
    "Outlier detection and removal is common in data analysis. \n",
    "\n",
    "`clip` function makes it really easy to find outliers outside a range and replacing them with the hard limits. \n",
    "\n",
    "Let's go back to the ages example:"
   ]
  },
  {
   "cell_type": "code",
   "execution_count": 33,
   "metadata": {},
   "outputs": [
    {
     "data": {
      "text/html": [
       "<div>\n",
       "<style scoped>\n",
       "    .dataframe tbody tr th:only-of-type {\n",
       "        vertical-align: middle;\n",
       "    }\n",
       "\n",
       "    .dataframe tbody tr th {\n",
       "        vertical-align: top;\n",
       "    }\n",
       "\n",
       "    .dataframe thead th {\n",
       "        text-align: right;\n",
       "    }\n",
       "</style>\n",
       "<table border=\"1\" class=\"dataframe\">\n",
       "  <thead>\n",
       "    <tr style=\"text-align: right;\">\n",
       "      <th></th>\n",
       "      <th>ages</th>\n",
       "    </tr>\n",
       "  </thead>\n",
       "  <tbody>\n",
       "    <tr>\n",
       "      <th>0</th>\n",
       "      <td>55</td>\n",
       "    </tr>\n",
       "    <tr>\n",
       "      <th>1</th>\n",
       "      <td>52</td>\n",
       "    </tr>\n",
       "    <tr>\n",
       "      <th>2</th>\n",
       "      <td>50</td>\n",
       "    </tr>\n",
       "    <tr>\n",
       "      <th>3</th>\n",
       "      <td>66</td>\n",
       "    </tr>\n",
       "    <tr>\n",
       "      <th>4</th>\n",
       "      <td>57</td>\n",
       "    </tr>\n",
       "    <tr>\n",
       "      <th>5</th>\n",
       "      <td>59</td>\n",
       "    </tr>\n",
       "    <tr>\n",
       "      <th>6</th>\n",
       "      <td>49</td>\n",
       "    </tr>\n",
       "    <tr>\n",
       "      <th>7</th>\n",
       "      <td>60</td>\n",
       "    </tr>\n",
       "  </tbody>\n",
       "</table>\n",
       "</div>"
      ],
      "text/plain": [
       "   ages\n",
       "0    55\n",
       "1    52\n",
       "2    50\n",
       "3    66\n",
       "4    57\n",
       "5    59\n",
       "6    49\n",
       "7    60"
      ]
     },
     "execution_count": 33,
     "metadata": {},
     "output_type": "execute_result"
    }
   ],
   "source": [
    "ages"
   ]
  },
  {
   "cell_type": "markdown",
   "metadata": {},
   "source": [
    "This time, we will replace the out-of-range ages with the hard limits of 50 and 60:"
   ]
  },
  {
   "cell_type": "code",
   "execution_count": 34,
   "metadata": {},
   "outputs": [
    {
     "data": {
      "text/html": [
       "<div>\n",
       "<style scoped>\n",
       "    .dataframe tbody tr th:only-of-type {\n",
       "        vertical-align: middle;\n",
       "    }\n",
       "\n",
       "    .dataframe tbody tr th {\n",
       "        vertical-align: top;\n",
       "    }\n",
       "\n",
       "    .dataframe thead th {\n",
       "        text-align: right;\n",
       "    }\n",
       "</style>\n",
       "<table border=\"1\" class=\"dataframe\">\n",
       "  <thead>\n",
       "    <tr style=\"text-align: right;\">\n",
       "      <th></th>\n",
       "      <th>ages</th>\n",
       "    </tr>\n",
       "  </thead>\n",
       "  <tbody>\n",
       "    <tr>\n",
       "      <th>0</th>\n",
       "      <td>55</td>\n",
       "    </tr>\n",
       "    <tr>\n",
       "      <th>1</th>\n",
       "      <td>52</td>\n",
       "    </tr>\n",
       "    <tr>\n",
       "      <th>2</th>\n",
       "      <td>50</td>\n",
       "    </tr>\n",
       "    <tr>\n",
       "      <th>3</th>\n",
       "      <td>60</td>\n",
       "    </tr>\n",
       "    <tr>\n",
       "      <th>4</th>\n",
       "      <td>57</td>\n",
       "    </tr>\n",
       "    <tr>\n",
       "      <th>5</th>\n",
       "      <td>59</td>\n",
       "    </tr>\n",
       "    <tr>\n",
       "      <th>6</th>\n",
       "      <td>50</td>\n",
       "    </tr>\n",
       "    <tr>\n",
       "      <th>7</th>\n",
       "      <td>60</td>\n",
       "    </tr>\n",
       "  </tbody>\n",
       "</table>\n",
       "</div>"
      ],
      "text/plain": [
       "   ages\n",
       "0    55\n",
       "1    52\n",
       "2    50\n",
       "3    60\n",
       "4    57\n",
       "5    59\n",
       "6    50\n",
       "7    60"
      ]
     },
     "execution_count": 34,
     "metadata": {},
     "output_type": "execute_result"
    }
   ],
   "source": [
    "ages.clip(50, 60)"
   ]
  },
  {
   "cell_type": "markdown",
   "metadata": {},
   "source": [
    "Fast and efficient!"
   ]
  },
  {
   "cell_type": "markdown",
   "metadata": {},
   "source": [
    "## 18. `at_time` and `between_time`"
   ]
  },
  {
   "cell_type": "markdown",
   "metadata": {},
   "source": [
    "These two can be useful when working with time-series that have high granularity. \n",
    "\n",
    "`at_time` allows you to subset values at a specific date or time. Consider this time series:"
   ]
  },
  {
   "cell_type": "code",
   "execution_count": 35,
   "metadata": {},
   "outputs": [
    {
     "data": {
      "text/html": [
       "<div>\n",
       "<style scoped>\n",
       "    .dataframe tbody tr th:only-of-type {\n",
       "        vertical-align: middle;\n",
       "    }\n",
       "\n",
       "    .dataframe tbody tr th {\n",
       "        vertical-align: top;\n",
       "    }\n",
       "\n",
       "    .dataframe thead th {\n",
       "        text-align: right;\n",
       "    }\n",
       "</style>\n",
       "<table border=\"1\" class=\"dataframe\">\n",
       "  <thead>\n",
       "    <tr style=\"text-align: right;\">\n",
       "      <th></th>\n",
       "      <th>col</th>\n",
       "    </tr>\n",
       "  </thead>\n",
       "  <tbody>\n",
       "    <tr>\n",
       "      <th>2021-08-01 00:00:00</th>\n",
       "      <td>0</td>\n",
       "    </tr>\n",
       "    <tr>\n",
       "      <th>2021-08-01 01:00:00</th>\n",
       "      <td>1</td>\n",
       "    </tr>\n",
       "    <tr>\n",
       "      <th>2021-08-01 02:00:00</th>\n",
       "      <td>2</td>\n",
       "    </tr>\n",
       "    <tr>\n",
       "      <th>2021-08-01 03:00:00</th>\n",
       "      <td>3</td>\n",
       "    </tr>\n",
       "    <tr>\n",
       "      <th>2021-08-01 04:00:00</th>\n",
       "      <td>4</td>\n",
       "    </tr>\n",
       "  </tbody>\n",
       "</table>\n",
       "</div>"
      ],
      "text/plain": [
       "                     col\n",
       "2021-08-01 00:00:00    0\n",
       "2021-08-01 01:00:00    1\n",
       "2021-08-01 02:00:00    2\n",
       "2021-08-01 03:00:00    3\n",
       "2021-08-01 04:00:00    4"
      ]
     },
     "execution_count": 35,
     "metadata": {},
     "output_type": "execute_result"
    }
   ],
   "source": [
    "index = pd.date_range(\"2021-08-01\", periods=100, freq=\"H\")\n",
    "data = pd.DataFrame({\"col\": list(range(100))}, index=index)\n",
    "\n",
    "data.head()"
   ]
  },
  {
   "cell_type": "markdown",
   "metadata": {},
   "source": [
    "Let's select all rows at 3 PM:"
   ]
  },
  {
   "cell_type": "code",
   "execution_count": 36,
   "metadata": {},
   "outputs": [
    {
     "data": {
      "text/html": [
       "<div>\n",
       "<style scoped>\n",
       "    .dataframe tbody tr th:only-of-type {\n",
       "        vertical-align: middle;\n",
       "    }\n",
       "\n",
       "    .dataframe tbody tr th {\n",
       "        vertical-align: top;\n",
       "    }\n",
       "\n",
       "    .dataframe thead th {\n",
       "        text-align: right;\n",
       "    }\n",
       "</style>\n",
       "<table border=\"1\" class=\"dataframe\">\n",
       "  <thead>\n",
       "    <tr style=\"text-align: right;\">\n",
       "      <th></th>\n",
       "      <th>col</th>\n",
       "    </tr>\n",
       "  </thead>\n",
       "  <tbody>\n",
       "    <tr>\n",
       "      <th>2021-08-01 15:00:00</th>\n",
       "      <td>15</td>\n",
       "    </tr>\n",
       "    <tr>\n",
       "      <th>2021-08-02 15:00:00</th>\n",
       "      <td>39</td>\n",
       "    </tr>\n",
       "    <tr>\n",
       "      <th>2021-08-03 15:00:00</th>\n",
       "      <td>63</td>\n",
       "    </tr>\n",
       "    <tr>\n",
       "      <th>2021-08-04 15:00:00</th>\n",
       "      <td>87</td>\n",
       "    </tr>\n",
       "  </tbody>\n",
       "</table>\n",
       "</div>"
      ],
      "text/plain": [
       "                     col\n",
       "2021-08-01 15:00:00   15\n",
       "2021-08-02 15:00:00   39\n",
       "2021-08-03 15:00:00   63\n",
       "2021-08-04 15:00:00   87"
      ]
     },
     "execution_count": 36,
     "metadata": {},
     "output_type": "execute_result"
    }
   ],
   "source": [
    "data.at_time(\"15:00\")"
   ]
  },
  {
   "cell_type": "markdown",
   "metadata": {},
   "source": [
    "Cool, huh? Now, let's use `between_time` to select rows within a custom interval:"
   ]
  },
  {
   "cell_type": "code",
   "execution_count": 37,
   "metadata": {},
   "outputs": [
    {
     "data": {
      "text/html": [
       "<div>\n",
       "<style scoped>\n",
       "    .dataframe tbody tr th:only-of-type {\n",
       "        vertical-align: middle;\n",
       "    }\n",
       "\n",
       "    .dataframe tbody tr th {\n",
       "        vertical-align: top;\n",
       "    }\n",
       "\n",
       "    .dataframe thead th {\n",
       "        text-align: right;\n",
       "    }\n",
       "</style>\n",
       "<table border=\"1\" class=\"dataframe\">\n",
       "  <thead>\n",
       "    <tr style=\"text-align: right;\">\n",
       "      <th></th>\n",
       "      <th>col</th>\n",
       "    </tr>\n",
       "  </thead>\n",
       "  <tbody>\n",
       "    <tr>\n",
       "      <th>2021-08-01 10:00:00</th>\n",
       "      <td>10</td>\n",
       "    </tr>\n",
       "    <tr>\n",
       "      <th>2021-08-01 11:00:00</th>\n",
       "      <td>11</td>\n",
       "    </tr>\n",
       "    <tr>\n",
       "      <th>2021-08-01 12:00:00</th>\n",
       "      <td>12</td>\n",
       "    </tr>\n",
       "    <tr>\n",
       "      <th>2021-08-02 10:00:00</th>\n",
       "      <td>34</td>\n",
       "    </tr>\n",
       "    <tr>\n",
       "      <th>2021-08-02 11:00:00</th>\n",
       "      <td>35</td>\n",
       "    </tr>\n",
       "    <tr>\n",
       "      <th>2021-08-02 12:00:00</th>\n",
       "      <td>36</td>\n",
       "    </tr>\n",
       "    <tr>\n",
       "      <th>2021-08-03 10:00:00</th>\n",
       "      <td>58</td>\n",
       "    </tr>\n",
       "    <tr>\n",
       "      <th>2021-08-03 11:00:00</th>\n",
       "      <td>59</td>\n",
       "    </tr>\n",
       "    <tr>\n",
       "      <th>2021-08-03 12:00:00</th>\n",
       "      <td>60</td>\n",
       "    </tr>\n",
       "    <tr>\n",
       "      <th>2021-08-04 10:00:00</th>\n",
       "      <td>82</td>\n",
       "    </tr>\n",
       "    <tr>\n",
       "      <th>2021-08-04 11:00:00</th>\n",
       "      <td>83</td>\n",
       "    </tr>\n",
       "    <tr>\n",
       "      <th>2021-08-04 12:00:00</th>\n",
       "      <td>84</td>\n",
       "    </tr>\n",
       "  </tbody>\n",
       "</table>\n",
       "</div>"
      ],
      "text/plain": [
       "                     col\n",
       "2021-08-01 10:00:00   10\n",
       "2021-08-01 11:00:00   11\n",
       "2021-08-01 12:00:00   12\n",
       "2021-08-02 10:00:00   34\n",
       "2021-08-02 11:00:00   35\n",
       "2021-08-02 12:00:00   36\n",
       "2021-08-03 10:00:00   58\n",
       "2021-08-03 11:00:00   59\n",
       "2021-08-03 12:00:00   60\n",
       "2021-08-04 10:00:00   82\n",
       "2021-08-04 11:00:00   83\n",
       "2021-08-04 12:00:00   84"
      ]
     },
     "execution_count": 37,
     "metadata": {},
     "output_type": "execute_result"
    }
   ],
   "source": [
    "from datetime import datetime\n",
    "\n",
    "data.between_time(\"09:45\", \"12:00\")"
   ]
  },
  {
   "cell_type": "markdown",
   "metadata": {},
   "source": [
    "Note that both functions require a DateTimeIndex and they only work with times (as in *o'clock*). If you want to subset within a DateTime interval, use `between`."
   ]
  },
  {
   "cell_type": "markdown",
   "metadata": {},
   "source": [
    "## 19. `bdate_range`"
   ]
  },
  {
   "cell_type": "markdown",
   "metadata": {},
   "source": [
    "`bdate_range` is a short-hand function to create TimeSeries indices with business-day frequency:"
   ]
  },
  {
   "cell_type": "code",
   "execution_count": 38,
   "metadata": {},
   "outputs": [
    {
     "data": {
      "text/plain": [
       "21"
      ]
     },
     "execution_count": 38,
     "metadata": {},
     "output_type": "execute_result"
    }
   ],
   "source": [
    "series = pd.bdate_range(\"2021-01-01\", \"2021-01-31\")  # A period of one month\n",
    "len(series)"
   ]
  },
  {
   "cell_type": "markdown",
   "metadata": {},
   "source": [
    "Business-day frequencies are common in the financial world. So, this function may come in handy when reindexing existing time-series with `reindex` function."
   ]
  },
  {
   "cell_type": "markdown",
   "metadata": {},
   "source": [
    "## 20. `autocorr`"
   ]
  },
  {
   "cell_type": "markdown",
   "metadata": {},
   "source": [
    "One of the critical components in time-series analysis is examining the autocorrelation of a variable. \n",
    "\n",
    "Autocorrelation is the plain-old correlation coefficient but it is calculated with the lagging version of a time series. \n",
    "\n",
    "In more detail, autocorrelation of a time series at `lag=k` is calculated as follows:\n",
    "\n",
    "1. The time-series is shifted till `k` periods:"
   ]
  },
  {
   "cell_type": "code",
   "execution_count": 39,
   "metadata": {},
   "outputs": [],
   "source": [
    "## HIDE\n",
    "# Prep the data for an example\n",
    "dt = pd.date_range(\"2021-01-01\", periods=len(tips))\n",
    "tips.index = dt\n",
    "\n",
    "time_series = tips[[\"tip\"]]"
   ]
  },
  {
   "cell_type": "code",
   "execution_count": 40,
   "metadata": {},
   "outputs": [
    {
     "data": {
      "text/html": [
       "<div>\n",
       "<style scoped>\n",
       "    .dataframe tbody tr th:only-of-type {\n",
       "        vertical-align: middle;\n",
       "    }\n",
       "\n",
       "    .dataframe tbody tr th {\n",
       "        vertical-align: top;\n",
       "    }\n",
       "\n",
       "    .dataframe thead th {\n",
       "        text-align: right;\n",
       "    }\n",
       "</style>\n",
       "<table border=\"1\" class=\"dataframe\">\n",
       "  <thead>\n",
       "    <tr style=\"text-align: right;\">\n",
       "      <th></th>\n",
       "      <th>tip</th>\n",
       "      <th>lag_1</th>\n",
       "      <th>lag_2</th>\n",
       "      <th>lag_3</th>\n",
       "      <th>lag_4</th>\n",
       "    </tr>\n",
       "  </thead>\n",
       "  <tbody>\n",
       "    <tr>\n",
       "      <th>2021-01-01</th>\n",
       "      <td>1.01</td>\n",
       "      <td>NaN</td>\n",
       "      <td>NaN</td>\n",
       "      <td>NaN</td>\n",
       "      <td>NaN</td>\n",
       "    </tr>\n",
       "    <tr>\n",
       "      <th>2021-01-02</th>\n",
       "      <td>1.66</td>\n",
       "      <td>1.01</td>\n",
       "      <td>NaN</td>\n",
       "      <td>NaN</td>\n",
       "      <td>NaN</td>\n",
       "    </tr>\n",
       "    <tr>\n",
       "      <th>2021-01-03</th>\n",
       "      <td>3.50</td>\n",
       "      <td>1.66</td>\n",
       "      <td>1.01</td>\n",
       "      <td>NaN</td>\n",
       "      <td>NaN</td>\n",
       "    </tr>\n",
       "    <tr>\n",
       "      <th>2021-01-04</th>\n",
       "      <td>3.31</td>\n",
       "      <td>3.50</td>\n",
       "      <td>1.66</td>\n",
       "      <td>1.01</td>\n",
       "      <td>NaN</td>\n",
       "    </tr>\n",
       "    <tr>\n",
       "      <th>2021-01-05</th>\n",
       "      <td>3.61</td>\n",
       "      <td>3.31</td>\n",
       "      <td>3.50</td>\n",
       "      <td>1.66</td>\n",
       "      <td>1.01</td>\n",
       "    </tr>\n",
       "  </tbody>\n",
       "</table>\n",
       "</div>"
      ],
      "text/plain": [
       "             tip  lag_1  lag_2  lag_3  lag_4\n",
       "2021-01-01  1.01    NaN    NaN    NaN    NaN\n",
       "2021-01-02  1.66   1.01    NaN    NaN    NaN\n",
       "2021-01-03  3.50   1.66   1.01    NaN    NaN\n",
       "2021-01-04  3.31   3.50   1.66   1.01    NaN\n",
       "2021-01-05  3.61   3.31   3.50   1.66   1.01"
      ]
     },
     "execution_count": 40,
     "metadata": {},
     "output_type": "execute_result"
    }
   ],
   "source": [
    "time_series[\"lag_1\"] = time_series[\"tip\"].shift(1)\n",
    "time_series[\"lag_2\"] = time_series[\"tip\"].shift(2)\n",
    "time_series[\"lag_3\"] = time_series[\"tip\"].shift(3)\n",
    "time_series[\"lag_4\"] = time_series[\"tip\"].shift(4)\n",
    "# time_series['lag_k'] = time_series['tip'].shift(k)\n",
    "\n",
    "time_series.head()"
   ]
  },
  {
   "cell_type": "markdown",
   "metadata": {},
   "source": [
    "2. Correlation is calculated between the original `tip` and each `lag_*`. \n",
    "\n",
    "Instead of doing all this manually, you can use the `autocorr` function of Pandas:"
   ]
  },
  {
   "cell_type": "code",
   "execution_count": 41,
   "metadata": {},
   "outputs": [
    {
     "data": {
      "text/plain": [
       "0.07475238789967077"
      ]
     },
     "execution_count": 41,
     "metadata": {},
     "output_type": "execute_result"
    }
   ],
   "source": [
    "# Autocorrelation of tip at lag_10\n",
    "time_series[\"tip\"].autocorr(lag=8)"
   ]
  },
  {
   "cell_type": "markdown",
   "metadata": {},
   "source": [
    "You can read more about the importance of autocorrelation in time-series analysis from this [post](https://towardsdatascience.com/advanced-time-series-analysis-in-python-decomposition-autocorrelation-115aa64f475e)."
   ]
  },
  {
   "cell_type": "markdown",
   "metadata": {},
   "source": [
    "## 21. `hasnans`"
   ]
  },
  {
   "cell_type": "markdown",
   "metadata": {},
   "source": [
    "Pandas offers a quick method to check if a given series contains any nulls with `hasnans` attribute:"
   ]
  },
  {
   "cell_type": "code",
   "execution_count": 42,
   "metadata": {},
   "outputs": [
    {
     "data": {
      "text/plain": [
       "True"
      ]
     },
     "execution_count": 42,
     "metadata": {},
     "output_type": "execute_result"
    }
   ],
   "source": [
    "series = pd.Series([2, 4, 6, \"sadf\", np.nan])\n",
    "series.hasnans"
   ]
  },
  {
   "cell_type": "markdown",
   "metadata": {},
   "source": [
    "According to its [documentation](https://pandas.pydata.org/pandas-docs/stable/reference/api/pandas.Series.hasnans.html), it enables various performance increases. Note that the attribute works only on `pd.Series`."
   ]
  },
  {
   "cell_type": "markdown",
   "metadata": {},
   "source": [
    "## 22. `at` and `iat`"
   ]
  },
  {
   "cell_type": "markdown",
   "metadata": {},
   "source": [
    "These two accessors are much faster alternatives to `loc` and `iloc` with a disadvantage. They only allow selecting or replacing a single value at a time:"
   ]
  },
  {
   "cell_type": "code",
   "execution_count": 43,
   "metadata": {},
   "outputs": [
    {
     "data": {
      "text/plain": [
       "'Ideal'"
      ]
     },
     "execution_count": 43,
     "metadata": {},
     "output_type": "execute_result"
    }
   ],
   "source": [
    "# [index, label]\n",
    "diamonds.at[234, \"cut\"]"
   ]
  },
  {
   "cell_type": "code",
   "execution_count": 44,
   "metadata": {},
   "outputs": [
    {
     "data": {
      "text/plain": [
       "61.2"
      ]
     },
     "execution_count": 44,
     "metadata": {},
     "output_type": "execute_result"
    }
   ],
   "source": [
    "# [index, index]\n",
    "diamonds.iat[1564, 4]"
   ]
  },
  {
   "cell_type": "code",
   "execution_count": 45,
   "metadata": {},
   "outputs": [],
   "source": [
    "# Replace 16541th row of the price column\n",
    "diamonds.at[16541, \"price\"] = 10000"
   ]
  },
  {
   "cell_type": "markdown",
   "metadata": {},
   "source": [
    "## 23. `argsort`"
   ]
  },
  {
   "cell_type": "markdown",
   "metadata": {},
   "source": [
    "You should use this function when you want to extract the indices that would sort an array:"
   ]
  },
  {
   "cell_type": "code",
   "execution_count": 46,
   "metadata": {},
   "outputs": [
    {
     "data": {
      "text/html": [
       "<div>\n",
       "<style scoped>\n",
       "    .dataframe tbody tr th:only-of-type {\n",
       "        vertical-align: middle;\n",
       "    }\n",
       "\n",
       "    .dataframe tbody tr th {\n",
       "        vertical-align: top;\n",
       "    }\n",
       "\n",
       "    .dataframe thead th {\n",
       "        text-align: right;\n",
       "    }\n",
       "</style>\n",
       "<table border=\"1\" class=\"dataframe\">\n",
       "  <thead>\n",
       "    <tr style=\"text-align: right;\">\n",
       "      <th></th>\n",
       "      <th>total_bill</th>\n",
       "      <th>tip</th>\n",
       "      <th>sex</th>\n",
       "      <th>smoker</th>\n",
       "      <th>day</th>\n",
       "      <th>time</th>\n",
       "      <th>size</th>\n",
       "    </tr>\n",
       "  </thead>\n",
       "  <tbody>\n",
       "    <tr>\n",
       "      <th>67</th>\n",
       "      <td>3.07</td>\n",
       "      <td>1.00</td>\n",
       "      <td>Female</td>\n",
       "      <td>Yes</td>\n",
       "      <td>Sat</td>\n",
       "      <td>Dinner</td>\n",
       "      <td>1</td>\n",
       "    </tr>\n",
       "    <tr>\n",
       "      <th>92</th>\n",
       "      <td>5.75</td>\n",
       "      <td>1.00</td>\n",
       "      <td>Female</td>\n",
       "      <td>Yes</td>\n",
       "      <td>Fri</td>\n",
       "      <td>Dinner</td>\n",
       "      <td>2</td>\n",
       "    </tr>\n",
       "    <tr>\n",
       "      <th>111</th>\n",
       "      <td>7.25</td>\n",
       "      <td>1.00</td>\n",
       "      <td>Female</td>\n",
       "      <td>No</td>\n",
       "      <td>Sat</td>\n",
       "      <td>Dinner</td>\n",
       "      <td>1</td>\n",
       "    </tr>\n",
       "    <tr>\n",
       "      <th>172</th>\n",
       "      <td>7.25</td>\n",
       "      <td>5.15</td>\n",
       "      <td>Male</td>\n",
       "      <td>Yes</td>\n",
       "      <td>Sun</td>\n",
       "      <td>Dinner</td>\n",
       "      <td>2</td>\n",
       "    </tr>\n",
       "    <tr>\n",
       "      <th>149</th>\n",
       "      <td>7.51</td>\n",
       "      <td>2.00</td>\n",
       "      <td>Male</td>\n",
       "      <td>No</td>\n",
       "      <td>Thur</td>\n",
       "      <td>Lunch</td>\n",
       "      <td>2</td>\n",
       "    </tr>\n",
       "  </tbody>\n",
       "</table>\n",
       "</div>"
      ],
      "text/plain": [
       "     total_bill   tip     sex smoker   day    time  size\n",
       "67         3.07  1.00  Female    Yes   Sat  Dinner     1\n",
       "92         5.75  1.00  Female    Yes   Fri  Dinner     2\n",
       "111        7.25  1.00  Female     No   Sat  Dinner     1\n",
       "172        7.25  5.15    Male    Yes   Sun  Dinner     2\n",
       "149        7.51  2.00    Male     No  Thur   Lunch     2"
      ]
     },
     "execution_count": 46,
     "metadata": {},
     "output_type": "execute_result"
    }
   ],
   "source": [
    "tips.reset_index(inplace=True, drop=True)\n",
    "\n",
    "sort_idx = tips[\"total_bill\"].argsort(kind=\"mergesort\")\n",
    "\n",
    "# Now, sort `tips` based on total_bill\n",
    "tips.iloc[sort_idx].head()"
   ]
  },
  {
   "cell_type": "markdown",
   "metadata": {},
   "source": [
    "## 24. `cat` accessor"
   ]
  },
  {
   "cell_type": "markdown",
   "metadata": {},
   "source": [
    "It is common knowledge that Pandas enables to use built-in Python functions on dates and strings using accessors like `dt` or `str`. \n",
    "\n",
    "Pandas also has a special `category` data type for categorical variables as can be seen below:"
   ]
  },
  {
   "cell_type": "code",
   "execution_count": 47,
   "metadata": {},
   "outputs": [
    {
     "data": {
      "text/plain": [
       "carat       float64\n",
       "cut        category\n",
       "color      category\n",
       "clarity    category\n",
       "depth       float64\n",
       "table       float64\n",
       "price         int64\n",
       "x           float64\n",
       "y           float64\n",
       "z           float64\n",
       "cut_enc       int64\n",
       "dtype: object"
      ]
     },
     "execution_count": 47,
     "metadata": {},
     "output_type": "execute_result"
    }
   ],
   "source": [
    "diamonds.dtypes"
   ]
  },
  {
   "cell_type": "markdown",
   "metadata": {},
   "source": [
    "When a column is `category`, you can use several special functions using the `cat` accessor. For example, let's see the unique categories of diamond cuts:"
   ]
  },
  {
   "cell_type": "code",
   "execution_count": 48,
   "metadata": {},
   "outputs": [
    {
     "data": {
      "text/plain": [
       "Index(['Ideal', 'Premium', 'Very Good', 'Good', 'Fair'], dtype='object')"
      ]
     },
     "execution_count": 48,
     "metadata": {},
     "output_type": "execute_result"
    }
   ],
   "source": [
    "diamonds[\"cut\"].cat.categories"
   ]
  },
  {
   "cell_type": "markdown",
   "metadata": {},
   "source": [
    "There are also functions like `remove_categories` or `rename_categories`, etc.:"
   ]
  },
  {
   "cell_type": "code",
   "execution_count": 49,
   "metadata": {},
   "outputs": [
    {
     "data": {
      "text/plain": [
       "Index(['A', 'B', 'C', 'D', 'E'], dtype='object')"
      ]
     },
     "execution_count": 49,
     "metadata": {},
     "output_type": "execute_result"
    }
   ],
   "source": [
    "diamonds[\"new_cuts\"] = diamonds[\"cut\"].cat.rename_categories(list(\"ABCDE\"))\n",
    "diamonds[\"new_cuts\"].cat.categories"
   ]
  },
  {
   "cell_type": "markdown",
   "metadata": {},
   "source": [
    "You can see the full list of functions under the `cat` accessor [here](https://pandas.pydata.org/pandas-docs/stable/reference/series.html#categorical-accessor)."
   ]
  },
  {
   "cell_type": "markdown",
   "metadata": {},
   "source": [
    "## 25. `GroupBy.nth`"
   ]
  },
  {
   "cell_type": "markdown",
   "metadata": {},
   "source": [
    "This function only works with `GroupBy` objects. Specifically, after grouping, `nth` returns the nth row from each group:"
   ]
  },
  {
   "cell_type": "code",
   "execution_count": 50,
   "metadata": {},
   "outputs": [
    {
     "data": {
      "text/html": [
       "<div>\n",
       "<style scoped>\n",
       "    .dataframe tbody tr th:only-of-type {\n",
       "        vertical-align: middle;\n",
       "    }\n",
       "\n",
       "    .dataframe tbody tr th {\n",
       "        vertical-align: top;\n",
       "    }\n",
       "\n",
       "    .dataframe thead th {\n",
       "        text-align: right;\n",
       "    }\n",
       "</style>\n",
       "<table border=\"1\" class=\"dataframe\">\n",
       "  <thead>\n",
       "    <tr style=\"text-align: right;\">\n",
       "      <th></th>\n",
       "      <th>carat</th>\n",
       "      <th>color</th>\n",
       "      <th>clarity</th>\n",
       "      <th>depth</th>\n",
       "      <th>table</th>\n",
       "      <th>price</th>\n",
       "      <th>x</th>\n",
       "      <th>y</th>\n",
       "      <th>z</th>\n",
       "      <th>cut_enc</th>\n",
       "      <th>new_cuts</th>\n",
       "    </tr>\n",
       "    <tr>\n",
       "      <th>cut</th>\n",
       "      <th></th>\n",
       "      <th></th>\n",
       "      <th></th>\n",
       "      <th></th>\n",
       "      <th></th>\n",
       "      <th></th>\n",
       "      <th></th>\n",
       "      <th></th>\n",
       "      <th></th>\n",
       "      <th></th>\n",
       "      <th></th>\n",
       "    </tr>\n",
       "  </thead>\n",
       "  <tbody>\n",
       "    <tr>\n",
       "      <th>Ideal</th>\n",
       "      <td>0.33</td>\n",
       "      <td>I</td>\n",
       "      <td>SI2</td>\n",
       "      <td>61.2</td>\n",
       "      <td>56.0</td>\n",
       "      <td>403</td>\n",
       "      <td>4.49</td>\n",
       "      <td>4.50</td>\n",
       "      <td>2.75</td>\n",
       "      <td>0</td>\n",
       "      <td>A</td>\n",
       "    </tr>\n",
       "    <tr>\n",
       "      <th>Premium</th>\n",
       "      <td>0.24</td>\n",
       "      <td>I</td>\n",
       "      <td>VS1</td>\n",
       "      <td>62.5</td>\n",
       "      <td>57.0</td>\n",
       "      <td>355</td>\n",
       "      <td>3.97</td>\n",
       "      <td>3.94</td>\n",
       "      <td>2.47</td>\n",
       "      <td>1</td>\n",
       "      <td>B</td>\n",
       "    </tr>\n",
       "    <tr>\n",
       "      <th>Very Good</th>\n",
       "      <td>0.23</td>\n",
       "      <td>E</td>\n",
       "      <td>VS2</td>\n",
       "      <td>63.8</td>\n",
       "      <td>55.0</td>\n",
       "      <td>352</td>\n",
       "      <td>3.85</td>\n",
       "      <td>3.92</td>\n",
       "      <td>2.48</td>\n",
       "      <td>3</td>\n",
       "      <td>C</td>\n",
       "    </tr>\n",
       "    <tr>\n",
       "      <th>Good</th>\n",
       "      <td>0.30</td>\n",
       "      <td>I</td>\n",
       "      <td>SI2</td>\n",
       "      <td>63.3</td>\n",
       "      <td>56.0</td>\n",
       "      <td>351</td>\n",
       "      <td>4.26</td>\n",
       "      <td>4.30</td>\n",
       "      <td>2.71</td>\n",
       "      <td>2</td>\n",
       "      <td>D</td>\n",
       "    </tr>\n",
       "    <tr>\n",
       "      <th>Fair</th>\n",
       "      <td>0.91</td>\n",
       "      <td>H</td>\n",
       "      <td>SI2</td>\n",
       "      <td>64.4</td>\n",
       "      <td>57.0</td>\n",
       "      <td>2763</td>\n",
       "      <td>6.11</td>\n",
       "      <td>6.09</td>\n",
       "      <td>3.93</td>\n",
       "      <td>4</td>\n",
       "      <td>E</td>\n",
       "    </tr>\n",
       "  </tbody>\n",
       "</table>\n",
       "</div>"
      ],
      "text/plain": [
       "           carat color clarity  depth  table  price     x     y     z  \\\n",
       "cut                                                                     \n",
       "Ideal       0.33     I     SI2   61.2   56.0    403  4.49  4.50  2.75   \n",
       "Premium     0.24     I     VS1   62.5   57.0    355  3.97  3.94  2.47   \n",
       "Very Good   0.23     E     VS2   63.8   55.0    352  3.85  3.92  2.48   \n",
       "Good        0.30     I     SI2   63.3   56.0    351  4.26  4.30  2.71   \n",
       "Fair        0.91     H     SI2   64.4   57.0   2763  6.11  6.09  3.93   \n",
       "\n",
       "           cut_enc new_cuts  \n",
       "cut                          \n",
       "Ideal            0        A  \n",
       "Premium          1        B  \n",
       "Very Good        3        C  \n",
       "Good             2        D  \n",
       "Fair             4        E  "
      ]
     },
     "execution_count": 50,
     "metadata": {},
     "output_type": "execute_result"
    }
   ],
   "source": [
    "diamonds.groupby(\"cut\").nth(5)"
   ]
  },
  {
   "cell_type": "markdown",
   "metadata": {},
   "source": [
    "## Summary"
   ]
  },
  {
   "cell_type": "markdown",
   "metadata": {},
   "source": [
    "Even though libraries like Dask and datatable are slowly winning over Pandas with their shiny new features for handling massive datasets, Pandas still remains the most widely-used data manipulation tool in Python data science ecosystem.\n",
    "\n",
    "The library still remains as a role-model for other packages to imitate and improve upon, as it integrates into the modern SciPy stack so well. Thank you for reading!"
   ]
  }
 ],
 "metadata": {
  "kernelspec": {
   "display_name": "medium_articles",
   "language": "python",
   "name": "medium_articles"
  },
  "language_info": {
   "codemirror_mode": {
    "name": "ipython",
    "version": 3
   },
   "file_extension": ".py",
   "mimetype": "text/x-python",
   "name": "python",
   "nbconvert_exporter": "python",
   "pygments_lexer": "ipython3",
   "version": "3.8.5"
  }
 },
 "nbformat": 4,
 "nbformat_minor": 4
}
