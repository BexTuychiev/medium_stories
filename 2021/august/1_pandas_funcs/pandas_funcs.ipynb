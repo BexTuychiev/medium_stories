{
 "cells": [
  {
   "cell_type": "markdown",
   "metadata": {},
   "source": [
    "# 27 Pandas Functions You Didn't Know Existed | P(Guarantee) = 0.9\n",
    "## Making Pandas Even More Awesome\n",
    "![](https://images.pexels.com/photos/5199661/pexels-photo-5199661.jpeg?auto=compress&cs=tinysrgb&dpr=2&h=650&w=940)\n",
    "<figcaption style=\"text-align: center;\">\n",
    "    <strong>\n",
    "        Photo by \n",
    "        <a href='https://www.pexels.com/@introspectivedsgn?utm_content=attributionCopyText&utm_medium=referral&utm_source=pexels'>Erik Mclean</a>\n",
    "        on \n",
    "        <a href='https://www.pexels.com/photo/unrecognizable-man-in-panda-head-sitting-near-car-5199661/?utm_content=attributionCopyText&utm_medium=referral&utm_source=pexels'>Pexels.</a> All images are by the author unless specified otherwise.\n",
    "    </strong>\n",
    "</figcaption>"
   ]
  },
  {
   "cell_type": "markdown",
   "metadata": {},
   "source": [
    "## Setup"
   ]
  },
  {
   "cell_type": "code",
   "execution_count": 74,
   "metadata": {},
   "outputs": [],
   "source": [
    "import warnings\n",
    "\n",
    "import matplotlib.pyplot as plt\n",
    "import numpy as np\n",
    "import pandas as pd\n",
    "import seaborn as sns\n",
    "\n",
    "pd.options.display.max_rows = None\n",
    "warnings.filterwarnings(\"ignore\")"
   ]
  },
  {
   "cell_type": "markdown",
   "metadata": {},
   "source": [
    "## Introduction"
   ]
  },
  {
   "cell_type": "markdown",
   "metadata": {},
   "source": [
    "## 1. `ExcelWriter`"
   ]
  },
  {
   "cell_type": "markdown",
   "metadata": {},
   "source": [
    "`ExcelWriter` is a generic class for creating excel files (with sheets!) and writing DataFrames to them. Let's say we have these 2:"
   ]
  },
  {
   "cell_type": "code",
   "execution_count": 2,
   "metadata": {},
   "outputs": [],
   "source": [
    "diamonds = sns.load_dataset(\"diamonds\")\n",
    "tips = sns.load_dataset(\"tips\")\n",
    "\n",
    "with pd.ExcelWriter(\"data/data.xlsx\") as writer:\n",
    "    diamonds.to_excel(writer, sheet_name=\"diamonds\")\n",
    "    tips.to_excel(writer, sheet_name=\"tips\")"
   ]
  },
  {
   "cell_type": "markdown",
   "metadata": {},
   "source": [
    "It has additional attributes to specify the datetime format to be used, whether you want to create a new excel file or modify an existing one, what happens when a sheet exists, etc. Check out the details from the [documentation](https://pandas.pydata.org/pandas-docs/stable/reference/api/pandas.ExcelWriter.html)."
   ]
  },
  {
   "cell_type": "markdown",
   "metadata": {},
   "source": [
    "## 2. `factorize`"
   ]
  },
  {
   "cell_type": "markdown",
   "metadata": {},
   "source": [
    "This function is a pandas alternative to Sklearn's `LabelEncoder`:"
   ]
  },
  {
   "cell_type": "code",
   "execution_count": 6,
   "metadata": {},
   "outputs": [
    {
     "data": {
      "text/plain": [
       "array([0, 1, 3, 1, 3, 2, 2, 2, 4, 2], dtype=int64)"
      ]
     },
     "execution_count": 6,
     "metadata": {},
     "output_type": "execute_result"
    }
   ],
   "source": [
    "codes, unique = pd.factorize(diamonds[\"cut\"], sort=True)\n",
    "\n",
    "codes[:10]"
   ]
  },
  {
   "cell_type": "code",
   "execution_count": 7,
   "metadata": {},
   "outputs": [
    {
     "data": {
      "text/plain": [
       "CategoricalIndex(['Ideal', 'Premium', 'Very Good', 'Good', 'Fair'], categories=['Ideal', 'Premium', 'Very Good', 'Good', 'Fair'], ordered=False, dtype='category')"
      ]
     },
     "execution_count": 7,
     "metadata": {},
     "output_type": "execute_result"
    }
   ],
   "source": [
    "unique"
   ]
  },
  {
   "cell_type": "markdown",
   "metadata": {},
   "source": [
    "Pay attention to how the function returns the categories as well. "
   ]
  },
  {
   "cell_type": "code",
   "execution_count": 10,
   "metadata": {},
   "outputs": [
    {
     "data": {
      "text/plain": [
       "46228    0\n",
       "10292    3\n",
       "50925    1\n",
       "38309    1\n",
       "1775     0\n",
       "Name: cut_enc, dtype: int64"
      ]
     },
     "execution_count": 10,
     "metadata": {},
     "output_type": "execute_result"
    }
   ],
   "source": [
    "diamonds[\"cut_enc\"] = pd.factorize(diamonds[\"cut\"])[0]\n",
    "diamonds[\"cut_enc\"].sample(5)"
   ]
  },
  {
   "cell_type": "markdown",
   "metadata": {},
   "source": [
    "## 3. `bdate_range`"
   ]
  },
  {
   "cell_type": "markdown",
   "metadata": {},
   "source": [
    "A short-hand function to create TimeSeries indices with business-day frequency:"
   ]
  },
  {
   "cell_type": "code",
   "execution_count": 14,
   "metadata": {},
   "outputs": [
    {
     "data": {
      "text/plain": [
       "21"
      ]
     },
     "execution_count": 14,
     "metadata": {},
     "output_type": "execute_result"
    }
   ],
   "source": [
    "series = pd.bdate_range(\"2021-01-01\", \"2021-01-31\")  # A period of one month\n",
    "len(series)"
   ]
  },
  {
   "cell_type": "markdown",
   "metadata": {},
   "source": [
    "Business-day frequencies are common in the financial world. So, this function may come in handy when reindexing existing time-series with `reindex` function."
   ]
  },
  {
   "cell_type": "markdown",
   "metadata": {},
   "source": [
    "## 4. `hasnans`"
   ]
  },
  {
   "cell_type": "markdown",
   "metadata": {},
   "source": [
    "Pandas offers a quick method to check if a given series contains any nulls with `hasnans` attribute:"
   ]
  },
  {
   "cell_type": "code",
   "execution_count": 15,
   "metadata": {},
   "outputs": [
    {
     "data": {
      "text/plain": [
       "True"
      ]
     },
     "execution_count": 15,
     "metadata": {},
     "output_type": "execute_result"
    }
   ],
   "source": [
    "series = pd.Series([2, 4, 6, \"sadf\", np.nan])\n",
    "series.hasnans"
   ]
  },
  {
   "cell_type": "markdown",
   "metadata": {},
   "source": [
    "According to its [documentation](https://pandas.pydata.org/pandas-docs/stable/reference/api/pandas.Series.hasnans.html), it enables various performance increases. Note that the attribute is pd.Series-only."
   ]
  },
  {
   "cell_type": "markdown",
   "metadata": {},
   "source": [
    "## 5. `convert_dtypes`"
   ]
  },
  {
   "cell_type": "markdown",
   "metadata": {},
   "source": [
    "We all know that pandas has an annoying tendency to mark some columns as `object` data type. Instead of manually specifying their types, you can use `convert_dtypes` method which infers the best data type:"
   ]
  },
  {
   "cell_type": "code",
   "execution_count": 25,
   "metadata": {},
   "outputs": [
    {
     "data": {
      "text/plain": [
       "StationId      object\n",
       "CO            float64\n",
       "O3            float64\n",
       "AQI_Bucket     object\n",
       "dtype: object"
      ]
     },
     "execution_count": 25,
     "metadata": {},
     "output_type": "execute_result"
    }
   ],
   "source": [
    "sample = pd.read_csv(\n",
    "    \"data/station_day.csv\",\n",
    "    usecols=[\"StationId\", \"CO\", \"O3\", \"AQI_Bucket\"],\n",
    ")\n",
    "sample.dtypes"
   ]
  },
  {
   "cell_type": "code",
   "execution_count": 28,
   "metadata": {},
   "outputs": [
    {
     "data": {
      "text/plain": [
       "StationId      string\n",
       "CO            float64\n",
       "O3            float64\n",
       "AQI_Bucket     string\n",
       "dtype: object"
      ]
     },
     "execution_count": 28,
     "metadata": {},
     "output_type": "execute_result"
    }
   ],
   "source": [
    "sample.convert_dtypes().dtypes"
   ]
  },
  {
   "cell_type": "markdown",
   "metadata": {},
   "source": [
    "Unfortunately, it can't pares dates due to the caveats of different date time formats."
   ]
  },
  {
   "cell_type": "markdown",
   "metadata": {},
   "source": [
    "## 6. `at` and `iat`"
   ]
  },
  {
   "cell_type": "markdown",
   "metadata": {},
   "source": [
    "These two accessors are much faster alternatives to `loc` and `iloc` with a disadvantage. They only allow selecting or replacing a single value at a time:"
   ]
  },
  {
   "cell_type": "code",
   "execution_count": 29,
   "metadata": {},
   "outputs": [
    {
     "data": {
      "text/plain": [
       "'Ideal'"
      ]
     },
     "execution_count": 29,
     "metadata": {},
     "output_type": "execute_result"
    }
   ],
   "source": [
    "diamonds.at[234, \"cut\"]"
   ]
  },
  {
   "cell_type": "code",
   "execution_count": 30,
   "metadata": {},
   "outputs": [
    {
     "data": {
      "text/plain": [
       "61.2"
      ]
     },
     "execution_count": 30,
     "metadata": {},
     "output_type": "execute_result"
    }
   ],
   "source": [
    "diamonds.iat[1564, 4]"
   ]
  },
  {
   "cell_type": "code",
   "execution_count": 31,
   "metadata": {},
   "outputs": [],
   "source": [
    "# Replace 16541th row of the price column\n",
    "diamonds.at[16541, \"price\"] = 10000"
   ]
  },
  {
   "cell_type": "markdown",
   "metadata": {},
   "source": [
    "## 7. `min` and `max` along the columns axis"
   ]
  },
  {
   "cell_type": "markdown",
   "metadata": {},
   "source": [
    "Even though `min` and `max` functions are well-known, they have another useful property for some edge-cases. Consider this dataset:"
   ]
  },
  {
   "cell_type": "code",
   "execution_count": 34,
   "metadata": {
    "tags": []
   },
   "outputs": [
    {
     "data": {
      "text/html": [
       "<div>\n",
       "<style scoped>\n",
       "    .dataframe tbody tr th:only-of-type {\n",
       "        vertical-align: middle;\n",
       "    }\n",
       "\n",
       "    .dataframe tbody tr th {\n",
       "        vertical-align: top;\n",
       "    }\n",
       "\n",
       "    .dataframe thead th {\n",
       "        text-align: right;\n",
       "    }\n",
       "</style>\n",
       "<table border=\"1\" class=\"dataframe\">\n",
       "  <thead>\n",
       "    <tr style=\"text-align: right;\">\n",
       "      <th></th>\n",
       "      <th>XGBoost</th>\n",
       "      <th>CatBoost</th>\n",
       "      <th>LightGBM</th>\n",
       "      <th>Sklearn GB</th>\n",
       "    </tr>\n",
       "  </thead>\n",
       "  <tbody>\n",
       "    <tr>\n",
       "      <th>Diamonds</th>\n",
       "      <td>99.733903</td>\n",
       "      <td>96.540712</td>\n",
       "      <td>91.725201</td>\n",
       "      <td>93.640438</td>\n",
       "    </tr>\n",
       "    <tr>\n",
       "      <th>Titanic</th>\n",
       "      <td>93.130239</td>\n",
       "      <td>99.838026</td>\n",
       "      <td>93.586711</td>\n",
       "      <td>95.963391</td>\n",
       "    </tr>\n",
       "    <tr>\n",
       "      <th>Iris</th>\n",
       "      <td>97.153966</td>\n",
       "      <td>98.354851</td>\n",
       "      <td>90.585250</td>\n",
       "      <td>93.693119</td>\n",
       "    </tr>\n",
       "    <tr>\n",
       "      <th>Heart Disease</th>\n",
       "      <td>92.590182</td>\n",
       "      <td>94.402339</td>\n",
       "      <td>93.373349</td>\n",
       "      <td>93.399484</td>\n",
       "    </tr>\n",
       "    <tr>\n",
       "      <th>Loan Default</th>\n",
       "      <td>98.359192</td>\n",
       "      <td>91.073934</td>\n",
       "      <td>90.595855</td>\n",
       "      <td>92.900320</td>\n",
       "    </tr>\n",
       "  </tbody>\n",
       "</table>\n",
       "</div>"
      ],
      "text/plain": [
       "                 XGBoost   CatBoost   LightGBM  Sklearn GB\n",
       "Diamonds       99.733903  96.540712  91.725201   93.640438\n",
       "Titanic        93.130239  99.838026  93.586711   95.963391\n",
       "Iris           97.153966  98.354851  90.585250   93.693119\n",
       "Heart Disease  92.590182  94.402339  93.373349   93.399484\n",
       "Loan Default   98.359192  91.073934  90.595855   92.900320"
      ]
     },
     "execution_count": 34,
     "metadata": {},
     "output_type": "execute_result"
    }
   ],
   "source": [
    "index = [\"Diamonds\", \"Titanic\", \"Iris\", \"Heart Disease\", \"Loan Default\"]\n",
    "libraries = [\"XGBoost\", \"CatBoost\", \"LightGBM\", \"Sklearn GB\"]\n",
    "df = pd.DataFrame(\n",
    "    {lib: np.random.uniform(90, 100, 5) for lib in libraries}, index=index\n",
    ")\n",
    "\n",
    "df"
   ]
  },
  {
   "cell_type": "markdown",
   "metadata": {},
   "source": [
    "The above fake DataFrame is a point-performance of 4 different gradient boosting libraries on 5 datasets. We want to find the library that performed best at each dataset non-manually. Here is how you do it with `max`:"
   ]
  },
  {
   "cell_type": "code",
   "execution_count": 37,
   "metadata": {},
   "outputs": [
    {
     "data": {
      "text/plain": [
       "Diamonds         99.733903\n",
       "Titanic          99.838026\n",
       "Iris             98.354851\n",
       "Heart Disease    94.402339\n",
       "Loan Default     98.359192\n",
       "dtype: float64"
      ]
     },
     "execution_count": 37,
     "metadata": {},
     "output_type": "execute_result"
    }
   ],
   "source": [
    "df.max(axis=1)"
   ]
  },
  {
   "cell_type": "markdown",
   "metadata": {},
   "source": [
    "Just change the axis to 1 and you get a row-wise max/min. "
   ]
  },
  {
   "cell_type": "markdown",
   "metadata": {},
   "source": [
    "## 8. `pipe`"
   ]
  },
  {
   "cell_type": "markdown",
   "metadata": {},
   "source": [
    "This is one of the best functions for doing data cleaning in a concise, compact manner. `pipe` function allows you to chain multiple custom functions into a single operation.\n",
    "\n",
    "For example, let's say you have custom functions to `drop_duplicates`, `remove_outliers`, `encode_categoricals` that accept their own custom arguments. Here is how you apply all three in a single operation:"
   ]
  },
  {
   "cell_type": "markdown",
   "metadata": {},
   "source": [
    "```python\n",
    "df_preprocessed = (diamonds.pipe(drop_duplicates).\n",
    "                            pipe(remove_outliers, ['price', 'carat', 'depth']).\n",
    "                            pipe(encode_categoricals, ['cut', 'color', 'clarity'])\n",
    "                  )\n",
    "```"
   ]
  },
  {
   "cell_type": "markdown",
   "metadata": {},
   "source": [
    "I like how this function resembles [Sklearn pipelines](https://towardsdatascience.com/how-to-use-sklearn-pipelines-for-ridiculously-neat-code-a61ab66ca90d). There is more you can do with it, so check out the [documentation](https://pandas.pydata.org/docs/reference/api/pandas.DataFrame.pipe.html) or this [helpful article](https://towardsdatascience.com/a-better-way-for-data-preprocessing-pandas-pipe-a08336a012bc)."
   ]
  },
  {
   "cell_type": "markdown",
   "metadata": {},
   "source": [
    "## 9. `autocorr`"
   ]
  },
  {
   "cell_type": "markdown",
   "metadata": {},
   "source": [
    "One of the critical components in time-series analysis is examining the autocorrelation of a variable. \n",
    "\n",
    "Autocorrelation is the plain-old correlation coefficient but it is calculated with the lagging version of a time series. \n",
    "\n",
    "In more detail, autocorrelation of a time series at `lag=k` is calculated as follows:\n",
    "\n",
    "1. The time-series is shifted till `k` periods:"
   ]
  },
  {
   "cell_type": "code",
   "execution_count": 44,
   "metadata": {},
   "outputs": [],
   "source": [
    "## HIDE\n",
    "# Prep the data for an example\n",
    "dt = pd.date_range(\"2021-01-01\", periods=len(tips))\n",
    "tips.index = dt\n",
    "\n",
    "time_series = tips[[\"tip\"]]"
   ]
  },
  {
   "cell_type": "code",
   "execution_count": 43,
   "metadata": {},
   "outputs": [
    {
     "data": {
      "text/html": [
       "<div>\n",
       "<style scoped>\n",
       "    .dataframe tbody tr th:only-of-type {\n",
       "        vertical-align: middle;\n",
       "    }\n",
       "\n",
       "    .dataframe tbody tr th {\n",
       "        vertical-align: top;\n",
       "    }\n",
       "\n",
       "    .dataframe thead th {\n",
       "        text-align: right;\n",
       "    }\n",
       "</style>\n",
       "<table border=\"1\" class=\"dataframe\">\n",
       "  <thead>\n",
       "    <tr style=\"text-align: right;\">\n",
       "      <th></th>\n",
       "      <th>tip</th>\n",
       "      <th>lag_1</th>\n",
       "      <th>lag_2</th>\n",
       "      <th>lag_3</th>\n",
       "      <th>lag_4</th>\n",
       "    </tr>\n",
       "  </thead>\n",
       "  <tbody>\n",
       "    <tr>\n",
       "      <th>2021-01-01</th>\n",
       "      <td>1.01</td>\n",
       "      <td>NaN</td>\n",
       "      <td>NaN</td>\n",
       "      <td>NaN</td>\n",
       "      <td>NaN</td>\n",
       "    </tr>\n",
       "    <tr>\n",
       "      <th>2021-01-02</th>\n",
       "      <td>1.66</td>\n",
       "      <td>1.01</td>\n",
       "      <td>NaN</td>\n",
       "      <td>NaN</td>\n",
       "      <td>NaN</td>\n",
       "    </tr>\n",
       "    <tr>\n",
       "      <th>2021-01-03</th>\n",
       "      <td>3.50</td>\n",
       "      <td>1.66</td>\n",
       "      <td>1.01</td>\n",
       "      <td>NaN</td>\n",
       "      <td>NaN</td>\n",
       "    </tr>\n",
       "    <tr>\n",
       "      <th>2021-01-04</th>\n",
       "      <td>3.31</td>\n",
       "      <td>3.50</td>\n",
       "      <td>1.66</td>\n",
       "      <td>1.01</td>\n",
       "      <td>NaN</td>\n",
       "    </tr>\n",
       "    <tr>\n",
       "      <th>2021-01-05</th>\n",
       "      <td>3.61</td>\n",
       "      <td>3.31</td>\n",
       "      <td>3.50</td>\n",
       "      <td>1.66</td>\n",
       "      <td>1.01</td>\n",
       "    </tr>\n",
       "  </tbody>\n",
       "</table>\n",
       "</div>"
      ],
      "text/plain": [
       "             tip  lag_1  lag_2  lag_3  lag_4\n",
       "2021-01-01  1.01    NaN    NaN    NaN    NaN\n",
       "2021-01-02  1.66   1.01    NaN    NaN    NaN\n",
       "2021-01-03  3.50   1.66   1.01    NaN    NaN\n",
       "2021-01-04  3.31   3.50   1.66   1.01    NaN\n",
       "2021-01-05  3.61   3.31   3.50   1.66   1.01"
      ]
     },
     "execution_count": 43,
     "metadata": {},
     "output_type": "execute_result"
    }
   ],
   "source": [
    "time_series[\"lag_1\"] = time_series[\"tip\"].shift(1)\n",
    "time_series[\"lag_2\"] = time_series[\"tip\"].shift(2)\n",
    "time_series[\"lag_3\"] = time_series[\"tip\"].shift(3)\n",
    "time_series[\"lag_4\"] = time_series[\"tip\"].shift(4)\n",
    "# time_series['lag_k'] = time_series['tip'].shift(k)\n",
    "\n",
    "time_series.head()"
   ]
  },
  {
   "cell_type": "markdown",
   "metadata": {},
   "source": [
    "2. Correlation is calculated between the original `tip` and each `lag_*`. \n",
    "\n",
    "Instead of doing all this manually, you can use the `autocorr` function of Pandas:"
   ]
  },
  {
   "cell_type": "code",
   "execution_count": 47,
   "metadata": {},
   "outputs": [
    {
     "data": {
      "text/plain": [
       "0.07475238789967077"
      ]
     },
     "execution_count": 47,
     "metadata": {},
     "output_type": "execute_result"
    }
   ],
   "source": [
    "# Autocorrelation of tip at lag_10\n",
    "time_series[\"tip\"].autocorr(lag=8)"
   ]
  },
  {
   "cell_type": "markdown",
   "metadata": {},
   "source": [
    "You can read more about the importance of autocorrelation in time-series analysis from this [post](https://towardsdatascience.com/advanced-time-series-analysis-in-python-decomposition-autocorrelation-115aa64f475e)."
   ]
  },
  {
   "cell_type": "markdown",
   "metadata": {},
   "source": [
    "## 10. between"
   ]
  },
  {
   "cell_type": "markdown",
   "metadata": {},
   "source": [
    "A rather nifty function for boolean indexing numeric features within a range:"
   ]
  },
  {
   "cell_type": "code",
   "execution_count": 53,
   "metadata": {},
   "outputs": [
    {
     "data": {
      "text/html": [
       "<div>\n",
       "<style scoped>\n",
       "    .dataframe tbody tr th:only-of-type {\n",
       "        vertical-align: middle;\n",
       "    }\n",
       "\n",
       "    .dataframe tbody tr th {\n",
       "        vertical-align: top;\n",
       "    }\n",
       "\n",
       "    .dataframe thead th {\n",
       "        text-align: right;\n",
       "    }\n",
       "</style>\n",
       "<table border=\"1\" class=\"dataframe\">\n",
       "  <thead>\n",
       "    <tr style=\"text-align: right;\">\n",
       "      <th></th>\n",
       "      <th>carat</th>\n",
       "      <th>cut</th>\n",
       "      <th>color</th>\n",
       "      <th>clarity</th>\n",
       "      <th>depth</th>\n",
       "      <th>table</th>\n",
       "      <th>price</th>\n",
       "      <th>x</th>\n",
       "      <th>y</th>\n",
       "      <th>z</th>\n",
       "      <th>cut_enc</th>\n",
       "    </tr>\n",
       "  </thead>\n",
       "  <tbody>\n",
       "    <tr>\n",
       "      <th>4412</th>\n",
       "      <td>1.01</td>\n",
       "      <td>Very Good</td>\n",
       "      <td>I</td>\n",
       "      <td>SI1</td>\n",
       "      <td>58.8</td>\n",
       "      <td>58.0</td>\n",
       "      <td>3610</td>\n",
       "      <td>6.52</td>\n",
       "      <td>6.57</td>\n",
       "      <td>3.85</td>\n",
       "      <td>3</td>\n",
       "    </tr>\n",
       "    <tr>\n",
       "      <th>4806</th>\n",
       "      <td>0.90</td>\n",
       "      <td>Good</td>\n",
       "      <td>F</td>\n",
       "      <td>SI1</td>\n",
       "      <td>58.0</td>\n",
       "      <td>58.0</td>\n",
       "      <td>3699</td>\n",
       "      <td>6.24</td>\n",
       "      <td>6.28</td>\n",
       "      <td>3.63</td>\n",
       "      <td>2</td>\n",
       "    </tr>\n",
       "    <tr>\n",
       "      <th>4587</th>\n",
       "      <td>0.80</td>\n",
       "      <td>Ideal</td>\n",
       "      <td>F</td>\n",
       "      <td>VS2</td>\n",
       "      <td>62.0</td>\n",
       "      <td>55.0</td>\n",
       "      <td>3653</td>\n",
       "      <td>5.93</td>\n",
       "      <td>6.00</td>\n",
       "      <td>3.70</td>\n",
       "      <td>0</td>\n",
       "    </tr>\n",
       "    <tr>\n",
       "      <th>3972</th>\n",
       "      <td>0.73</td>\n",
       "      <td>Ideal</td>\n",
       "      <td>D</td>\n",
       "      <td>VS1</td>\n",
       "      <td>61.1</td>\n",
       "      <td>57.0</td>\n",
       "      <td>3509</td>\n",
       "      <td>5.85</td>\n",
       "      <td>5.81</td>\n",
       "      <td>3.56</td>\n",
       "      <td>0</td>\n",
       "    </tr>\n",
       "    <tr>\n",
       "      <th>4379</th>\n",
       "      <td>0.90</td>\n",
       "      <td>Premium</td>\n",
       "      <td>E</td>\n",
       "      <td>SI1</td>\n",
       "      <td>62.4</td>\n",
       "      <td>57.0</td>\n",
       "      <td>3609</td>\n",
       "      <td>6.19</td>\n",
       "      <td>6.14</td>\n",
       "      <td>3.85</td>\n",
       "      <td>1</td>\n",
       "    </tr>\n",
       "  </tbody>\n",
       "</table>\n",
       "</div>"
      ],
      "text/plain": [
       "      carat        cut color clarity  depth  table  price     x     y     z  \\\n",
       "4412   1.01  Very Good     I     SI1   58.8   58.0   3610  6.52  6.57  3.85   \n",
       "4806   0.90       Good     F     SI1   58.0   58.0   3699  6.24  6.28  3.63   \n",
       "4587   0.80      Ideal     F     VS2   62.0   55.0   3653  5.93  6.00  3.70   \n",
       "3972   0.73      Ideal     D     VS1   61.1   57.0   3509  5.85  5.81  3.56   \n",
       "4379   0.90    Premium     E     SI1   62.4   57.0   3609  6.19  6.14  3.85   \n",
       "\n",
       "      cut_enc  \n",
       "4412        3  \n",
       "4806        2  \n",
       "4587        0  \n",
       "3972        0  \n",
       "4379        1  "
      ]
     },
     "execution_count": 53,
     "metadata": {},
     "output_type": "execute_result"
    }
   ],
   "source": [
    "# Get diamonds that are priced between 3500 and 3700 dollars\n",
    "diamonds[diamonds[\"price\"].between(3500, 3700, inclusive=\"neither\")].sample(5)"
   ]
  },
  {
   "cell_type": "markdown",
   "metadata": {},
   "source": [
    "## 11. `clip`"
   ]
  },
  {
   "cell_type": "markdown",
   "metadata": {},
   "source": [
    "Outlier detection and removal is common in data analysis. \n",
    "\n",
    "`clip` function makes it really easy to find outliers outside a range and replacing them with the hard limits. For example, let's say we have a survey data collected from people aged 50-60. We want to check the age column and replace any values that are outside this range treating them as data entry mistakes:"
   ]
  },
  {
   "cell_type": "code",
   "execution_count": 55,
   "metadata": {},
   "outputs": [
    {
     "data": {
      "text/html": [
       "<div>\n",
       "<style scoped>\n",
       "    .dataframe tbody tr th:only-of-type {\n",
       "        vertical-align: middle;\n",
       "    }\n",
       "\n",
       "    .dataframe tbody tr th {\n",
       "        vertical-align: top;\n",
       "    }\n",
       "\n",
       "    .dataframe thead th {\n",
       "        text-align: right;\n",
       "    }\n",
       "</style>\n",
       "<table border=\"1\" class=\"dataframe\">\n",
       "  <thead>\n",
       "    <tr style=\"text-align: right;\">\n",
       "      <th></th>\n",
       "      <th>ages</th>\n",
       "    </tr>\n",
       "  </thead>\n",
       "  <tbody>\n",
       "    <tr>\n",
       "      <th>0</th>\n",
       "      <td>55</td>\n",
       "    </tr>\n",
       "    <tr>\n",
       "      <th>1</th>\n",
       "      <td>52</td>\n",
       "    </tr>\n",
       "    <tr>\n",
       "      <th>2</th>\n",
       "      <td>50</td>\n",
       "    </tr>\n",
       "    <tr>\n",
       "      <th>3</th>\n",
       "      <td>66</td>\n",
       "    </tr>\n",
       "    <tr>\n",
       "      <th>4</th>\n",
       "      <td>57</td>\n",
       "    </tr>\n",
       "    <tr>\n",
       "      <th>5</th>\n",
       "      <td>59</td>\n",
       "    </tr>\n",
       "    <tr>\n",
       "      <th>6</th>\n",
       "      <td>49</td>\n",
       "    </tr>\n",
       "    <tr>\n",
       "      <th>7</th>\n",
       "      <td>60</td>\n",
       "    </tr>\n",
       "  </tbody>\n",
       "</table>\n",
       "</div>"
      ],
      "text/plain": [
       "   ages\n",
       "0    55\n",
       "1    52\n",
       "2    50\n",
       "3    66\n",
       "4    57\n",
       "5    59\n",
       "6    49\n",
       "7    60"
      ]
     },
     "execution_count": 55,
     "metadata": {},
     "output_type": "execute_result"
    }
   ],
   "source": [
    "ages = pd.Series([55, 52, 50, 66, 57, 59, 49, 60]).to_frame(\"ages\")\n",
    "ages"
   ]
  },
  {
   "cell_type": "markdown",
   "metadata": {},
   "source": [
    "Two values are outside this range (49, 66). Let's fix it with `clip`:"
   ]
  },
  {
   "cell_type": "code",
   "execution_count": 57,
   "metadata": {},
   "outputs": [
    {
     "data": {
      "text/html": [
       "<div>\n",
       "<style scoped>\n",
       "    .dataframe tbody tr th:only-of-type {\n",
       "        vertical-align: middle;\n",
       "    }\n",
       "\n",
       "    .dataframe tbody tr th {\n",
       "        vertical-align: top;\n",
       "    }\n",
       "\n",
       "    .dataframe thead th {\n",
       "        text-align: right;\n",
       "    }\n",
       "</style>\n",
       "<table border=\"1\" class=\"dataframe\">\n",
       "  <thead>\n",
       "    <tr style=\"text-align: right;\">\n",
       "      <th></th>\n",
       "      <th>ages</th>\n",
       "    </tr>\n",
       "  </thead>\n",
       "  <tbody>\n",
       "    <tr>\n",
       "      <th>0</th>\n",
       "      <td>55</td>\n",
       "    </tr>\n",
       "    <tr>\n",
       "      <th>1</th>\n",
       "      <td>52</td>\n",
       "    </tr>\n",
       "    <tr>\n",
       "      <th>2</th>\n",
       "      <td>50</td>\n",
       "    </tr>\n",
       "    <tr>\n",
       "      <th>3</th>\n",
       "      <td>60</td>\n",
       "    </tr>\n",
       "    <tr>\n",
       "      <th>4</th>\n",
       "      <td>57</td>\n",
       "    </tr>\n",
       "    <tr>\n",
       "      <th>5</th>\n",
       "      <td>59</td>\n",
       "    </tr>\n",
       "    <tr>\n",
       "      <th>6</th>\n",
       "      <td>50</td>\n",
       "    </tr>\n",
       "    <tr>\n",
       "      <th>7</th>\n",
       "      <td>60</td>\n",
       "    </tr>\n",
       "  </tbody>\n",
       "</table>\n",
       "</div>"
      ],
      "text/plain": [
       "   ages\n",
       "0    55\n",
       "1    52\n",
       "2    50\n",
       "3    60\n",
       "4    57\n",
       "5    59\n",
       "6    50\n",
       "7    60"
      ]
     },
     "execution_count": 57,
     "metadata": {},
     "output_type": "execute_result"
    }
   ],
   "source": [
    "ages.clip(50, 60)"
   ]
  },
  {
   "cell_type": "markdown",
   "metadata": {},
   "source": [
    "Fast and efficient!"
   ]
  },
  {
   "cell_type": "markdown",
   "metadata": {},
   "source": [
    "## 12. `nlargest` and `nsmallest`"
   ]
  },
  {
   "cell_type": "markdown",
   "metadata": {},
   "source": [
    "Sometimes you don't just want the min/max of a column. You want to see the top N or ~(top N) values of a variable. This is where `nlargest` and `nsmallest` comes in handy.\n",
    "\n",
    "Let's see top 5 most expensive and cheapest diamonds:"
   ]
  },
  {
   "cell_type": "code",
   "execution_count": 59,
   "metadata": {},
   "outputs": [
    {
     "data": {
      "text/html": [
       "<div>\n",
       "<style scoped>\n",
       "    .dataframe tbody tr th:only-of-type {\n",
       "        vertical-align: middle;\n",
       "    }\n",
       "\n",
       "    .dataframe tbody tr th {\n",
       "        vertical-align: top;\n",
       "    }\n",
       "\n",
       "    .dataframe thead th {\n",
       "        text-align: right;\n",
       "    }\n",
       "</style>\n",
       "<table border=\"1\" class=\"dataframe\">\n",
       "  <thead>\n",
       "    <tr style=\"text-align: right;\">\n",
       "      <th></th>\n",
       "      <th>carat</th>\n",
       "      <th>cut</th>\n",
       "      <th>color</th>\n",
       "      <th>clarity</th>\n",
       "      <th>depth</th>\n",
       "      <th>table</th>\n",
       "      <th>price</th>\n",
       "      <th>x</th>\n",
       "      <th>y</th>\n",
       "      <th>z</th>\n",
       "      <th>cut_enc</th>\n",
       "    </tr>\n",
       "  </thead>\n",
       "  <tbody>\n",
       "    <tr>\n",
       "      <th>27749</th>\n",
       "      <td>2.29</td>\n",
       "      <td>Premium</td>\n",
       "      <td>I</td>\n",
       "      <td>VS2</td>\n",
       "      <td>60.8</td>\n",
       "      <td>60.0</td>\n",
       "      <td>18823</td>\n",
       "      <td>8.50</td>\n",
       "      <td>8.47</td>\n",
       "      <td>5.16</td>\n",
       "      <td>1</td>\n",
       "    </tr>\n",
       "    <tr>\n",
       "      <th>27748</th>\n",
       "      <td>2.00</td>\n",
       "      <td>Very Good</td>\n",
       "      <td>G</td>\n",
       "      <td>SI1</td>\n",
       "      <td>63.5</td>\n",
       "      <td>56.0</td>\n",
       "      <td>18818</td>\n",
       "      <td>7.90</td>\n",
       "      <td>7.97</td>\n",
       "      <td>5.04</td>\n",
       "      <td>3</td>\n",
       "    </tr>\n",
       "    <tr>\n",
       "      <th>27747</th>\n",
       "      <td>1.51</td>\n",
       "      <td>Ideal</td>\n",
       "      <td>G</td>\n",
       "      <td>IF</td>\n",
       "      <td>61.7</td>\n",
       "      <td>55.0</td>\n",
       "      <td>18806</td>\n",
       "      <td>7.37</td>\n",
       "      <td>7.41</td>\n",
       "      <td>4.56</td>\n",
       "      <td>0</td>\n",
       "    </tr>\n",
       "    <tr>\n",
       "      <th>27746</th>\n",
       "      <td>2.07</td>\n",
       "      <td>Ideal</td>\n",
       "      <td>G</td>\n",
       "      <td>SI2</td>\n",
       "      <td>62.5</td>\n",
       "      <td>55.0</td>\n",
       "      <td>18804</td>\n",
       "      <td>8.20</td>\n",
       "      <td>8.13</td>\n",
       "      <td>5.11</td>\n",
       "      <td>0</td>\n",
       "    </tr>\n",
       "    <tr>\n",
       "      <th>27745</th>\n",
       "      <td>2.00</td>\n",
       "      <td>Very Good</td>\n",
       "      <td>H</td>\n",
       "      <td>SI1</td>\n",
       "      <td>62.8</td>\n",
       "      <td>57.0</td>\n",
       "      <td>18803</td>\n",
       "      <td>7.95</td>\n",
       "      <td>8.00</td>\n",
       "      <td>5.01</td>\n",
       "      <td>3</td>\n",
       "    </tr>\n",
       "  </tbody>\n",
       "</table>\n",
       "</div>"
      ],
      "text/plain": [
       "       carat        cut color clarity  depth  table  price     x     y     z  \\\n",
       "27749   2.29    Premium     I     VS2   60.8   60.0  18823  8.50  8.47  5.16   \n",
       "27748   2.00  Very Good     G     SI1   63.5   56.0  18818  7.90  7.97  5.04   \n",
       "27747   1.51      Ideal     G      IF   61.7   55.0  18806  7.37  7.41  4.56   \n",
       "27746   2.07      Ideal     G     SI2   62.5   55.0  18804  8.20  8.13  5.11   \n",
       "27745   2.00  Very Good     H     SI1   62.8   57.0  18803  7.95  8.00  5.01   \n",
       "\n",
       "       cut_enc  \n",
       "27749        1  \n",
       "27748        3  \n",
       "27747        0  \n",
       "27746        0  \n",
       "27745        3  "
      ]
     },
     "execution_count": 59,
     "metadata": {},
     "output_type": "execute_result"
    }
   ],
   "source": [
    "diamonds.nlargest(5, \"price\")"
   ]
  },
  {
   "cell_type": "code",
   "execution_count": 60,
   "metadata": {},
   "outputs": [
    {
     "data": {
      "text/html": [
       "<div>\n",
       "<style scoped>\n",
       "    .dataframe tbody tr th:only-of-type {\n",
       "        vertical-align: middle;\n",
       "    }\n",
       "\n",
       "    .dataframe tbody tr th {\n",
       "        vertical-align: top;\n",
       "    }\n",
       "\n",
       "    .dataframe thead th {\n",
       "        text-align: right;\n",
       "    }\n",
       "</style>\n",
       "<table border=\"1\" class=\"dataframe\">\n",
       "  <thead>\n",
       "    <tr style=\"text-align: right;\">\n",
       "      <th></th>\n",
       "      <th>carat</th>\n",
       "      <th>cut</th>\n",
       "      <th>color</th>\n",
       "      <th>clarity</th>\n",
       "      <th>depth</th>\n",
       "      <th>table</th>\n",
       "      <th>price</th>\n",
       "      <th>x</th>\n",
       "      <th>y</th>\n",
       "      <th>z</th>\n",
       "      <th>cut_enc</th>\n",
       "    </tr>\n",
       "  </thead>\n",
       "  <tbody>\n",
       "    <tr>\n",
       "      <th>0</th>\n",
       "      <td>0.23</td>\n",
       "      <td>Ideal</td>\n",
       "      <td>E</td>\n",
       "      <td>SI2</td>\n",
       "      <td>61.5</td>\n",
       "      <td>55.0</td>\n",
       "      <td>326</td>\n",
       "      <td>3.95</td>\n",
       "      <td>3.98</td>\n",
       "      <td>2.43</td>\n",
       "      <td>0</td>\n",
       "    </tr>\n",
       "    <tr>\n",
       "      <th>1</th>\n",
       "      <td>0.21</td>\n",
       "      <td>Premium</td>\n",
       "      <td>E</td>\n",
       "      <td>SI1</td>\n",
       "      <td>59.8</td>\n",
       "      <td>61.0</td>\n",
       "      <td>326</td>\n",
       "      <td>3.89</td>\n",
       "      <td>3.84</td>\n",
       "      <td>2.31</td>\n",
       "      <td>1</td>\n",
       "    </tr>\n",
       "    <tr>\n",
       "      <th>2</th>\n",
       "      <td>0.23</td>\n",
       "      <td>Good</td>\n",
       "      <td>E</td>\n",
       "      <td>VS1</td>\n",
       "      <td>56.9</td>\n",
       "      <td>65.0</td>\n",
       "      <td>327</td>\n",
       "      <td>4.05</td>\n",
       "      <td>4.07</td>\n",
       "      <td>2.31</td>\n",
       "      <td>2</td>\n",
       "    </tr>\n",
       "    <tr>\n",
       "      <th>3</th>\n",
       "      <td>0.29</td>\n",
       "      <td>Premium</td>\n",
       "      <td>I</td>\n",
       "      <td>VS2</td>\n",
       "      <td>62.4</td>\n",
       "      <td>58.0</td>\n",
       "      <td>334</td>\n",
       "      <td>4.20</td>\n",
       "      <td>4.23</td>\n",
       "      <td>2.63</td>\n",
       "      <td>1</td>\n",
       "    </tr>\n",
       "    <tr>\n",
       "      <th>4</th>\n",
       "      <td>0.31</td>\n",
       "      <td>Good</td>\n",
       "      <td>J</td>\n",
       "      <td>SI2</td>\n",
       "      <td>63.3</td>\n",
       "      <td>58.0</td>\n",
       "      <td>335</td>\n",
       "      <td>4.34</td>\n",
       "      <td>4.35</td>\n",
       "      <td>2.75</td>\n",
       "      <td>2</td>\n",
       "    </tr>\n",
       "  </tbody>\n",
       "</table>\n",
       "</div>"
      ],
      "text/plain": [
       "   carat      cut color clarity  depth  table  price     x     y     z  \\\n",
       "0   0.23    Ideal     E     SI2   61.5   55.0    326  3.95  3.98  2.43   \n",
       "1   0.21  Premium     E     SI1   59.8   61.0    326  3.89  3.84  2.31   \n",
       "2   0.23     Good     E     VS1   56.9   65.0    327  4.05  4.07  2.31   \n",
       "3   0.29  Premium     I     VS2   62.4   58.0    334  4.20  4.23  2.63   \n",
       "4   0.31     Good     J     SI2   63.3   58.0    335  4.34  4.35  2.75   \n",
       "\n",
       "   cut_enc  \n",
       "0        0  \n",
       "1        1  \n",
       "2        2  \n",
       "3        1  \n",
       "4        2  "
      ]
     },
     "execution_count": 60,
     "metadata": {},
     "output_type": "execute_result"
    }
   ],
   "source": [
    "diamonds.nsmallest(5, \"price\")"
   ]
  },
  {
   "cell_type": "markdown",
   "metadata": {},
   "source": [
    "## 13. `value_counts` with `dropna=False`"
   ]
  },
  {
   "cell_type": "markdown",
   "metadata": {},
   "source": [
    "One thing that I see most people do to find the percentage of missing values in a column is to chain `isnull` and `sum` and divide by the length of the array. \n",
    "\n",
    "You can do the same thing with `value_counts` with relevant arguments:"
   ]
  },
  {
   "cell_type": "code",
   "execution_count": 76,
   "metadata": {},
   "outputs": [
    {
     "data": {
      "text/plain": [
       "NaN    0.472603\n",
       "Gd     0.260274\n",
       "TA     0.214384\n",
       "Fa     0.022603\n",
       "Ex     0.016438\n",
       "Po     0.013699\n",
       "Name: FireplaceQu, dtype: float64"
      ]
     },
     "execution_count": 76,
     "metadata": {},
     "output_type": "execute_result"
    }
   ],
   "source": [
    "ames_housing = pd.read_csv(\"data/train.csv\")\n",
    "\n",
    "ames_housing[\"FireplaceQu\"].value_counts(dropna=False, normalize=True)"
   ]
  },
  {
   "cell_type": "markdown",
   "metadata": {},
   "source": [
    "Fireplace quality of Ames housing dataset consists of 47% nulls."
   ]
  },
  {
   "cell_type": "markdown",
   "metadata": {},
   "source": [
    "## 14. `idxmax` and `idxmin`"
   ]
  },
  {
   "cell_type": "markdown",
   "metadata": {},
   "source": [
    "When you call `max` or `min` on a column, pandas returns the value that is largest/smallest. However, sometimes you want the *position* of the min/max, which is not possible with these functions.\n",
    "\n",
    "Instead, you should use `idxmax`/`idxmin`:"
   ]
  },
  {
   "cell_type": "code",
   "execution_count": 77,
   "metadata": {},
   "outputs": [
    {
     "data": {
      "text/plain": [
       "27749"
      ]
     },
     "execution_count": 77,
     "metadata": {},
     "output_type": "execute_result"
    }
   ],
   "source": [
    "diamonds.price.idxmax()"
   ]
  },
  {
   "cell_type": "code",
   "execution_count": 78,
   "metadata": {},
   "outputs": [
    {
     "data": {
      "text/plain": [
       "14"
      ]
     },
     "execution_count": 78,
     "metadata": {},
     "output_type": "execute_result"
    }
   ],
   "source": [
    "diamonds.carat.idxmin()"
   ]
  },
  {
   "cell_type": "markdown",
   "metadata": {},
   "source": [
    "You can also specify the `columns` axis, in which case the functions return the index number of the column."
   ]
  },
  {
   "cell_type": "markdown",
   "metadata": {},
   "source": [
    "## 15. `mask`"
   ]
  },
  {
   "cell_type": "markdown",
   "metadata": {},
   "source": [
    "A quick function to replace values of a DataFrame based on a condition. \n",
    "\n",
    "Let's go back to the ages example:"
   ]
  },
  {
   "cell_type": "code",
   "execution_count": 79,
   "metadata": {},
   "outputs": [
    {
     "data": {
      "text/html": [
       "<div>\n",
       "<style scoped>\n",
       "    .dataframe tbody tr th:only-of-type {\n",
       "        vertical-align: middle;\n",
       "    }\n",
       "\n",
       "    .dataframe tbody tr th {\n",
       "        vertical-align: top;\n",
       "    }\n",
       "\n",
       "    .dataframe thead th {\n",
       "        text-align: right;\n",
       "    }\n",
       "</style>\n",
       "<table border=\"1\" class=\"dataframe\">\n",
       "  <thead>\n",
       "    <tr style=\"text-align: right;\">\n",
       "      <th></th>\n",
       "      <th>ages</th>\n",
       "    </tr>\n",
       "  </thead>\n",
       "  <tbody>\n",
       "    <tr>\n",
       "      <th>0</th>\n",
       "      <td>55</td>\n",
       "    </tr>\n",
       "    <tr>\n",
       "      <th>1</th>\n",
       "      <td>52</td>\n",
       "    </tr>\n",
       "    <tr>\n",
       "      <th>2</th>\n",
       "      <td>50</td>\n",
       "    </tr>\n",
       "    <tr>\n",
       "      <th>3</th>\n",
       "      <td>66</td>\n",
       "    </tr>\n",
       "    <tr>\n",
       "      <th>4</th>\n",
       "      <td>57</td>\n",
       "    </tr>\n",
       "    <tr>\n",
       "      <th>5</th>\n",
       "      <td>59</td>\n",
       "    </tr>\n",
       "    <tr>\n",
       "      <th>6</th>\n",
       "      <td>49</td>\n",
       "    </tr>\n",
       "    <tr>\n",
       "      <th>7</th>\n",
       "      <td>60</td>\n",
       "    </tr>\n",
       "  </tbody>\n",
       "</table>\n",
       "</div>"
      ],
      "text/plain": [
       "   ages\n",
       "0    55\n",
       "1    52\n",
       "2    50\n",
       "3    66\n",
       "4    57\n",
       "5    59\n",
       "6    49\n",
       "7    60"
      ]
     },
     "execution_count": 79,
     "metadata": {},
     "output_type": "execute_result"
    }
   ],
   "source": [
    "ages"
   ]
  },
  {
   "cell_type": "markdown",
   "metadata": {},
   "source": [
    "Let's replace ages that are outside 50-60 with nulls:"
   ]
  },
  {
   "cell_type": "code",
   "execution_count": 81,
   "metadata": {},
   "outputs": [
    {
     "data": {
      "text/html": [
       "<div>\n",
       "<style scoped>\n",
       "    .dataframe tbody tr th:only-of-type {\n",
       "        vertical-align: middle;\n",
       "    }\n",
       "\n",
       "    .dataframe tbody tr th {\n",
       "        vertical-align: top;\n",
       "    }\n",
       "\n",
       "    .dataframe thead th {\n",
       "        text-align: right;\n",
       "    }\n",
       "</style>\n",
       "<table border=\"1\" class=\"dataframe\">\n",
       "  <thead>\n",
       "    <tr style=\"text-align: right;\">\n",
       "      <th></th>\n",
       "      <th>ages</th>\n",
       "    </tr>\n",
       "  </thead>\n",
       "  <tbody>\n",
       "    <tr>\n",
       "      <th>0</th>\n",
       "      <td>55.0</td>\n",
       "    </tr>\n",
       "    <tr>\n",
       "      <th>1</th>\n",
       "      <td>52.0</td>\n",
       "    </tr>\n",
       "    <tr>\n",
       "      <th>2</th>\n",
       "      <td>50.0</td>\n",
       "    </tr>\n",
       "    <tr>\n",
       "      <th>3</th>\n",
       "      <td>NaN</td>\n",
       "    </tr>\n",
       "    <tr>\n",
       "      <th>4</th>\n",
       "      <td>57.0</td>\n",
       "    </tr>\n",
       "    <tr>\n",
       "      <th>5</th>\n",
       "      <td>59.0</td>\n",
       "    </tr>\n",
       "    <tr>\n",
       "      <th>6</th>\n",
       "      <td>NaN</td>\n",
       "    </tr>\n",
       "    <tr>\n",
       "      <th>7</th>\n",
       "      <td>60.0</td>\n",
       "    </tr>\n",
       "  </tbody>\n",
       "</table>\n",
       "</div>"
      ],
      "text/plain": [
       "   ages\n",
       "0  55.0\n",
       "1  52.0\n",
       "2  50.0\n",
       "3   NaN\n",
       "4  57.0\n",
       "5  59.0\n",
       "6   NaN\n",
       "7  60.0"
      ]
     },
     "execution_count": 81,
     "metadata": {},
     "output_type": "execute_result"
    }
   ],
   "source": [
    "ages.mask(cond=~ages[\"ages\"].between(50, 60), other=np.nan)"
   ]
  },
  {
   "cell_type": "markdown",
   "metadata": {},
   "source": [
    "So, `mask` replaces values that don't meet `cond` with `other`."
   ]
  },
  {
   "cell_type": "markdown",
   "metadata": {},
   "source": [
    "## 16. `argsort`"
   ]
  },
  {
   "cell_type": "markdown",
   "metadata": {},
   "source": [
    "You should use this function when you want to extract the indices that would sort an array:"
   ]
  },
  {
   "cell_type": "code",
   "execution_count": 91,
   "metadata": {},
   "outputs": [
    {
     "data": {
      "text/html": [
       "<div>\n",
       "<style scoped>\n",
       "    .dataframe tbody tr th:only-of-type {\n",
       "        vertical-align: middle;\n",
       "    }\n",
       "\n",
       "    .dataframe tbody tr th {\n",
       "        vertical-align: top;\n",
       "    }\n",
       "\n",
       "    .dataframe thead th {\n",
       "        text-align: right;\n",
       "    }\n",
       "</style>\n",
       "<table border=\"1\" class=\"dataframe\">\n",
       "  <thead>\n",
       "    <tr style=\"text-align: right;\">\n",
       "      <th></th>\n",
       "      <th>total_bill</th>\n",
       "      <th>tip</th>\n",
       "      <th>sex</th>\n",
       "      <th>smoker</th>\n",
       "      <th>day</th>\n",
       "      <th>time</th>\n",
       "      <th>size</th>\n",
       "    </tr>\n",
       "  </thead>\n",
       "  <tbody>\n",
       "    <tr>\n",
       "      <th>67</th>\n",
       "      <td>3.07</td>\n",
       "      <td>1.00</td>\n",
       "      <td>Female</td>\n",
       "      <td>Yes</td>\n",
       "      <td>Sat</td>\n",
       "      <td>Dinner</td>\n",
       "      <td>1</td>\n",
       "    </tr>\n",
       "    <tr>\n",
       "      <th>92</th>\n",
       "      <td>5.75</td>\n",
       "      <td>1.00</td>\n",
       "      <td>Female</td>\n",
       "      <td>Yes</td>\n",
       "      <td>Fri</td>\n",
       "      <td>Dinner</td>\n",
       "      <td>2</td>\n",
       "    </tr>\n",
       "    <tr>\n",
       "      <th>111</th>\n",
       "      <td>7.25</td>\n",
       "      <td>1.00</td>\n",
       "      <td>Female</td>\n",
       "      <td>No</td>\n",
       "      <td>Sat</td>\n",
       "      <td>Dinner</td>\n",
       "      <td>1</td>\n",
       "    </tr>\n",
       "    <tr>\n",
       "      <th>172</th>\n",
       "      <td>7.25</td>\n",
       "      <td>5.15</td>\n",
       "      <td>Male</td>\n",
       "      <td>Yes</td>\n",
       "      <td>Sun</td>\n",
       "      <td>Dinner</td>\n",
       "      <td>2</td>\n",
       "    </tr>\n",
       "    <tr>\n",
       "      <th>149</th>\n",
       "      <td>7.51</td>\n",
       "      <td>2.00</td>\n",
       "      <td>Male</td>\n",
       "      <td>No</td>\n",
       "      <td>Thur</td>\n",
       "      <td>Lunch</td>\n",
       "      <td>2</td>\n",
       "    </tr>\n",
       "  </tbody>\n",
       "</table>\n",
       "</div>"
      ],
      "text/plain": [
       "     total_bill   tip     sex smoker   day    time  size\n",
       "67         3.07  1.00  Female    Yes   Sat  Dinner     1\n",
       "92         5.75  1.00  Female    Yes   Fri  Dinner     2\n",
       "111        7.25  1.00  Female     No   Sat  Dinner     1\n",
       "172        7.25  5.15    Male    Yes   Sun  Dinner     2\n",
       "149        7.51  2.00    Male     No  Thur   Lunch     2"
      ]
     },
     "execution_count": 91,
     "metadata": {},
     "output_type": "execute_result"
    }
   ],
   "source": [
    "tips.reset_index(inplace=True, drop=True)\n",
    "\n",
    "sort_idx = tips[\"total_bill\"].argsort(kind=\"mergesort\")\n",
    "\n",
    "# Now, sort tips based on total_bill\n",
    "tips.iloc[sort_idx].head()"
   ]
  },
  {
   "cell_type": "markdown",
   "metadata": {},
   "source": [
    "## 17. `explode` - 🤯🤯"
   ]
  },
  {
   "cell_type": "markdown",
   "metadata": {},
   "source": [
    "![](https://images.unsplash.com/photo-1567446042109-8a62d37fea07?ixid=MnwxMjA3fDB8MHxwaG90by1wYWdlfHx8fGVufDB8fHx8&ixlib=rb-1.2.1&auto=format&fit=crop&w=750&q=80)\n",
    "<figcaption style=\"text-align: center;\">\n",
    "    <strong>\n",
    "        Photo by \n",
    "        <a href='https://unsplash.com/@joshuas?utm_source=unsplash&utm_medium=referral&utm_content=creditCopyText'>Joshua Sukoff</a>\n",
    "        on \n",
    "        <a href='https://unsplash.com/s/photos/explode?utm_source=unsplash&utm_medium=referral&utm_content=creditCopyText'>Unsplash</a>\n",
    "    </strong>\n",
    "</figcaption>"
   ]
  },
  {
   "cell_type": "markdown",
   "metadata": {},
   "source": [
    "A function with an interesting name. Let's see an example first and then, explain:"
   ]
  },
  {
   "cell_type": "code",
   "execution_count": 94,
   "metadata": {},
   "outputs": [
    {
     "data": {
      "text/html": [
       "<div>\n",
       "<style scoped>\n",
       "    .dataframe tbody tr th:only-of-type {\n",
       "        vertical-align: middle;\n",
       "    }\n",
       "\n",
       "    .dataframe tbody tr th {\n",
       "        vertical-align: top;\n",
       "    }\n",
       "\n",
       "    .dataframe thead th {\n",
       "        text-align: right;\n",
       "    }\n",
       "</style>\n",
       "<table border=\"1\" class=\"dataframe\">\n",
       "  <thead>\n",
       "    <tr style=\"text-align: right;\">\n",
       "      <th></th>\n",
       "      <th>dirty</th>\n",
       "    </tr>\n",
       "  </thead>\n",
       "  <tbody>\n",
       "    <tr>\n",
       "      <th>0</th>\n",
       "      <td>1</td>\n",
       "    </tr>\n",
       "    <tr>\n",
       "      <th>1</th>\n",
       "      <td>6</td>\n",
       "    </tr>\n",
       "    <tr>\n",
       "      <th>2</th>\n",
       "      <td>7</td>\n",
       "    </tr>\n",
       "    <tr>\n",
       "      <th>3</th>\n",
       "      <td>[46, 56, 49]</td>\n",
       "    </tr>\n",
       "    <tr>\n",
       "      <th>4</th>\n",
       "      <td>45</td>\n",
       "    </tr>\n",
       "    <tr>\n",
       "      <th>5</th>\n",
       "      <td>[15, 10, 12]</td>\n",
       "    </tr>\n",
       "  </tbody>\n",
       "</table>\n",
       "</div>"
      ],
      "text/plain": [
       "          dirty\n",
       "0             1\n",
       "1             6\n",
       "2             7\n",
       "3  [46, 56, 49]\n",
       "4            45\n",
       "5  [15, 10, 12]"
      ]
     },
     "execution_count": 94,
     "metadata": {},
     "output_type": "execute_result"
    }
   ],
   "source": [
    "data = pd.Series([1, 6, 7, [46, 56, 49], 45, [15, 10, 12]]).to_frame(\"dirty\")\n",
    "data"
   ]
  },
  {
   "cell_type": "markdown",
   "metadata": {},
   "source": [
    "The `dirty` column has two rows where values are recorded as actual lists. You may often see this type of data from real-world survey data as some questions accept multiple answers. "
   ]
  },
  {
   "cell_type": "code",
   "execution_count": 99,
   "metadata": {},
   "outputs": [
    {
     "data": {
      "text/html": [
       "<div>\n",
       "<style scoped>\n",
       "    .dataframe tbody tr th:only-of-type {\n",
       "        vertical-align: middle;\n",
       "    }\n",
       "\n",
       "    .dataframe tbody tr th {\n",
       "        vertical-align: top;\n",
       "    }\n",
       "\n",
       "    .dataframe thead th {\n",
       "        text-align: right;\n",
       "    }\n",
       "</style>\n",
       "<table border=\"1\" class=\"dataframe\">\n",
       "  <thead>\n",
       "    <tr style=\"text-align: right;\">\n",
       "      <th></th>\n",
       "      <th>dirty</th>\n",
       "    </tr>\n",
       "  </thead>\n",
       "  <tbody>\n",
       "    <tr>\n",
       "      <th>0</th>\n",
       "      <td>1</td>\n",
       "    </tr>\n",
       "    <tr>\n",
       "      <th>1</th>\n",
       "      <td>6</td>\n",
       "    </tr>\n",
       "    <tr>\n",
       "      <th>2</th>\n",
       "      <td>7</td>\n",
       "    </tr>\n",
       "    <tr>\n",
       "      <th>3</th>\n",
       "      <td>46</td>\n",
       "    </tr>\n",
       "    <tr>\n",
       "      <th>4</th>\n",
       "      <td>56</td>\n",
       "    </tr>\n",
       "    <tr>\n",
       "      <th>5</th>\n",
       "      <td>49</td>\n",
       "    </tr>\n",
       "    <tr>\n",
       "      <th>6</th>\n",
       "      <td>45</td>\n",
       "    </tr>\n",
       "    <tr>\n",
       "      <th>7</th>\n",
       "      <td>15</td>\n",
       "    </tr>\n",
       "    <tr>\n",
       "      <th>8</th>\n",
       "      <td>10</td>\n",
       "    </tr>\n",
       "    <tr>\n",
       "      <th>9</th>\n",
       "      <td>12</td>\n",
       "    </tr>\n",
       "  </tbody>\n",
       "</table>\n",
       "</div>"
      ],
      "text/plain": [
       "  dirty\n",
       "0     1\n",
       "1     6\n",
       "2     7\n",
       "3    46\n",
       "4    56\n",
       "5    49\n",
       "6    45\n",
       "7    15\n",
       "8    10\n",
       "9    12"
      ]
     },
     "execution_count": 99,
     "metadata": {},
     "output_type": "execute_result"
    }
   ],
   "source": [
    "data.explode(\"dirty\", ignore_index=True)"
   ]
  },
  {
   "cell_type": "markdown",
   "metadata": {},
   "source": [
    "`explode` takes a row with an array-like value and *explodes* it into multiple rows. Set `ignore_index` to True to keep the ordering of a numeric index."
   ]
  },
  {
   "cell_type": "markdown",
   "metadata": {},
   "source": [
    "## 18. `squeeze`"
   ]
  },
  {
   "cell_type": "markdown",
   "metadata": {},
   "source": [
    "![](https://images.pexels.com/photos/5875701/pexels-photo-5875701.jpeg?auto=compress&cs=tinysrgb&dpr=2&h=650&w=940)\n",
    "<figcaption style=\"text-align: center;\">\n",
    "    <strong>\n",
    "        Photo by \n",
    "        <a href='https://www.pexels.com/@cottonbro?utm_content=attributionCopyText&utm_medium=referral&utm_source=pexels'>cottonbro</a>\n",
    "        on \n",
    "        <a href='https://www.pexels.com/photo/close-up-photo-of-sausage-5875701/?utm_content=attributionCopyText&utm_medium=referral&utm_source=pexels'>Pexels.</a>\n",
    "    </strong>\n",
    "</figcaption>"
   ]
  },
  {
   "cell_type": "markdown",
   "metadata": {},
   "source": [
    "Another function with a funky name is `squeeze` and is used in very rare but annoying edge cases.\n",
    "\n",
    "One of these rare cases is when there is a *single* value returned from a condition used to subset a DataFrame. Consider this example:"
   ]
  },
  {
   "cell_type": "code",
   "execution_count": 112,
   "metadata": {},
   "outputs": [
    {
     "data": {
      "text/html": [
       "<div>\n",
       "<style scoped>\n",
       "    .dataframe tbody tr th:only-of-type {\n",
       "        vertical-align: middle;\n",
       "    }\n",
       "\n",
       "    .dataframe tbody tr th {\n",
       "        vertical-align: top;\n",
       "    }\n",
       "\n",
       "    .dataframe thead th {\n",
       "        text-align: right;\n",
       "    }\n",
       "</style>\n",
       "<table border=\"1\" class=\"dataframe\">\n",
       "  <thead>\n",
       "    <tr style=\"text-align: right;\">\n",
       "      <th></th>\n",
       "      <th>price</th>\n",
       "    </tr>\n",
       "  </thead>\n",
       "  <tbody>\n",
       "    <tr>\n",
       "      <th>0</th>\n",
       "      <td>326</td>\n",
       "    </tr>\n",
       "  </tbody>\n",
       "</table>\n",
       "</div>"
      ],
      "text/plain": [
       "   price\n",
       "0    326"
      ]
     },
     "execution_count": 112,
     "metadata": {},
     "output_type": "execute_result"
    }
   ],
   "source": [
    "subset = diamonds.loc[diamonds.index < 1, [\"price\"]]\n",
    "subset"
   ]
  },
  {
   "cell_type": "markdown",
   "metadata": {},
   "source": [
    "Even though there is just one value, it is returned as a DataFrame. This can be annoying since you have to now use `.loc` again with both the column name and index.\n",
    "\n",
    "But, if you know `squeeze`, you don't have to. The function enables you to remove an axis from a single-cell DataFrame or Series. For example:"
   ]
  },
  {
   "cell_type": "code",
   "execution_count": 113,
   "metadata": {},
   "outputs": [
    {
     "data": {
      "text/plain": [
       "326"
      ]
     },
     "execution_count": 113,
     "metadata": {},
     "output_type": "execute_result"
    }
   ],
   "source": [
    "subset.squeeze()"
   ]
  },
  {
   "cell_type": "markdown",
   "metadata": {},
   "source": [
    "Only the scalar value is returned. You can also specify the axis to remove:"
   ]
  },
  {
   "cell_type": "code",
   "execution_count": 115,
   "metadata": {},
   "outputs": [
    {
     "data": {
      "text/plain": [
       "0    326\n",
       "Name: price, dtype: int64"
      ]
     },
     "execution_count": 115,
     "metadata": {},
     "output_type": "execute_result"
    }
   ],
   "source": [
    "subset.squeeze(\"columns\")  # or \"rows\""
   ]
  },
  {
   "cell_type": "markdown",
   "metadata": {},
   "source": [
    "Note that `squeeze` only works for DataFrames or Series with single values."
   ]
  },
  {
   "cell_type": "markdown",
   "metadata": {},
   "source": [
    "## 19. `at_time` and `between_time`"
   ]
  },
  {
   "cell_type": "markdown",
   "metadata": {},
   "source": [
    "Another couple of handy time-series functions.\n",
    "\n",
    "`at_time` allows you to subset values at a specific date or time. Consider this time series:"
   ]
  },
  {
   "cell_type": "code",
   "execution_count": 117,
   "metadata": {},
   "outputs": [
    {
     "data": {
      "text/html": [
       "<div>\n",
       "<style scoped>\n",
       "    .dataframe tbody tr th:only-of-type {\n",
       "        vertical-align: middle;\n",
       "    }\n",
       "\n",
       "    .dataframe tbody tr th {\n",
       "        vertical-align: top;\n",
       "    }\n",
       "\n",
       "    .dataframe thead th {\n",
       "        text-align: right;\n",
       "    }\n",
       "</style>\n",
       "<table border=\"1\" class=\"dataframe\">\n",
       "  <thead>\n",
       "    <tr style=\"text-align: right;\">\n",
       "      <th></th>\n",
       "      <th>col</th>\n",
       "    </tr>\n",
       "  </thead>\n",
       "  <tbody>\n",
       "    <tr>\n",
       "      <th>2021-08-01 00:00:00</th>\n",
       "      <td>0</td>\n",
       "    </tr>\n",
       "    <tr>\n",
       "      <th>2021-08-01 01:00:00</th>\n",
       "      <td>1</td>\n",
       "    </tr>\n",
       "    <tr>\n",
       "      <th>2021-08-01 02:00:00</th>\n",
       "      <td>2</td>\n",
       "    </tr>\n",
       "    <tr>\n",
       "      <th>2021-08-01 03:00:00</th>\n",
       "      <td>3</td>\n",
       "    </tr>\n",
       "    <tr>\n",
       "      <th>2021-08-01 04:00:00</th>\n",
       "      <td>4</td>\n",
       "    </tr>\n",
       "  </tbody>\n",
       "</table>\n",
       "</div>"
      ],
      "text/plain": [
       "                     col\n",
       "2021-08-01 00:00:00    0\n",
       "2021-08-01 01:00:00    1\n",
       "2021-08-01 02:00:00    2\n",
       "2021-08-01 03:00:00    3\n",
       "2021-08-01 04:00:00    4"
      ]
     },
     "execution_count": 117,
     "metadata": {},
     "output_type": "execute_result"
    }
   ],
   "source": [
    "index = pd.date_range(\"2021-08-01\", periods=100, freq=\"H\")\n",
    "data = pd.DataFrame({\"col\": list(range(100))}, index=index)\n",
    "data.head()"
   ]
  },
  {
   "cell_type": "markdown",
   "metadata": {},
   "source": [
    "Let's select all rows at time equals \"15:00\":"
   ]
  },
  {
   "cell_type": "code",
   "execution_count": 118,
   "metadata": {},
   "outputs": [
    {
     "data": {
      "text/html": [
       "<div>\n",
       "<style scoped>\n",
       "    .dataframe tbody tr th:only-of-type {\n",
       "        vertical-align: middle;\n",
       "    }\n",
       "\n",
       "    .dataframe tbody tr th {\n",
       "        vertical-align: top;\n",
       "    }\n",
       "\n",
       "    .dataframe thead th {\n",
       "        text-align: right;\n",
       "    }\n",
       "</style>\n",
       "<table border=\"1\" class=\"dataframe\">\n",
       "  <thead>\n",
       "    <tr style=\"text-align: right;\">\n",
       "      <th></th>\n",
       "      <th>col</th>\n",
       "    </tr>\n",
       "  </thead>\n",
       "  <tbody>\n",
       "    <tr>\n",
       "      <th>2021-08-01 15:00:00</th>\n",
       "      <td>15</td>\n",
       "    </tr>\n",
       "    <tr>\n",
       "      <th>2021-08-02 15:00:00</th>\n",
       "      <td>39</td>\n",
       "    </tr>\n",
       "    <tr>\n",
       "      <th>2021-08-03 15:00:00</th>\n",
       "      <td>63</td>\n",
       "    </tr>\n",
       "    <tr>\n",
       "      <th>2021-08-04 15:00:00</th>\n",
       "      <td>87</td>\n",
       "    </tr>\n",
       "  </tbody>\n",
       "</table>\n",
       "</div>"
      ],
      "text/plain": [
       "                     col\n",
       "2021-08-01 15:00:00   15\n",
       "2021-08-02 15:00:00   39\n",
       "2021-08-03 15:00:00   63\n",
       "2021-08-04 15:00:00   87"
      ]
     },
     "execution_count": 118,
     "metadata": {},
     "output_type": "execute_result"
    }
   ],
   "source": [
    "data.at_time(\"15:00\")"
   ]
  },
  {
   "cell_type": "markdown",
   "metadata": {},
   "source": [
    "Cool, huh? Now, let's use `between_time` to select rows within a custom interval:"
   ]
  },
  {
   "cell_type": "code",
   "execution_count": 123,
   "metadata": {},
   "outputs": [
    {
     "data": {
      "text/html": [
       "<div>\n",
       "<style scoped>\n",
       "    .dataframe tbody tr th:only-of-type {\n",
       "        vertical-align: middle;\n",
       "    }\n",
       "\n",
       "    .dataframe tbody tr th {\n",
       "        vertical-align: top;\n",
       "    }\n",
       "\n",
       "    .dataframe thead th {\n",
       "        text-align: right;\n",
       "    }\n",
       "</style>\n",
       "<table border=\"1\" class=\"dataframe\">\n",
       "  <thead>\n",
       "    <tr style=\"text-align: right;\">\n",
       "      <th></th>\n",
       "      <th>col</th>\n",
       "    </tr>\n",
       "  </thead>\n",
       "  <tbody>\n",
       "    <tr>\n",
       "      <th>2021-08-01 10:00:00</th>\n",
       "      <td>10</td>\n",
       "    </tr>\n",
       "    <tr>\n",
       "      <th>2021-08-01 11:00:00</th>\n",
       "      <td>11</td>\n",
       "    </tr>\n",
       "    <tr>\n",
       "      <th>2021-08-01 12:00:00</th>\n",
       "      <td>12</td>\n",
       "    </tr>\n",
       "    <tr>\n",
       "      <th>2021-08-02 10:00:00</th>\n",
       "      <td>34</td>\n",
       "    </tr>\n",
       "    <tr>\n",
       "      <th>2021-08-02 11:00:00</th>\n",
       "      <td>35</td>\n",
       "    </tr>\n",
       "    <tr>\n",
       "      <th>2021-08-02 12:00:00</th>\n",
       "      <td>36</td>\n",
       "    </tr>\n",
       "    <tr>\n",
       "      <th>2021-08-03 10:00:00</th>\n",
       "      <td>58</td>\n",
       "    </tr>\n",
       "    <tr>\n",
       "      <th>2021-08-03 11:00:00</th>\n",
       "      <td>59</td>\n",
       "    </tr>\n",
       "    <tr>\n",
       "      <th>2021-08-03 12:00:00</th>\n",
       "      <td>60</td>\n",
       "    </tr>\n",
       "    <tr>\n",
       "      <th>2021-08-04 10:00:00</th>\n",
       "      <td>82</td>\n",
       "    </tr>\n",
       "    <tr>\n",
       "      <th>2021-08-04 11:00:00</th>\n",
       "      <td>83</td>\n",
       "    </tr>\n",
       "    <tr>\n",
       "      <th>2021-08-04 12:00:00</th>\n",
       "      <td>84</td>\n",
       "    </tr>\n",
       "  </tbody>\n",
       "</table>\n",
       "</div>"
      ],
      "text/plain": [
       "                     col\n",
       "2021-08-01 10:00:00   10\n",
       "2021-08-01 11:00:00   11\n",
       "2021-08-01 12:00:00   12\n",
       "2021-08-02 10:00:00   34\n",
       "2021-08-02 11:00:00   35\n",
       "2021-08-02 12:00:00   36\n",
       "2021-08-03 10:00:00   58\n",
       "2021-08-03 11:00:00   59\n",
       "2021-08-03 12:00:00   60\n",
       "2021-08-04 10:00:00   82\n",
       "2021-08-04 11:00:00   83\n",
       "2021-08-04 12:00:00   84"
      ]
     },
     "execution_count": 123,
     "metadata": {},
     "output_type": "execute_result"
    }
   ],
   "source": [
    "from datetime import datetime\n",
    "\n",
    "data.between_time(\"09:45\", \"12:00\")"
   ]
  },
  {
   "cell_type": "markdown",
   "metadata": {},
   "source": [
    "Note that both functions require a DateTimeIndex and they only work with times (as in o'clock). If you want to subset within a DateTime interval, use `between`."
   ]
  },
  {
   "cell_type": "markdown",
   "metadata": {},
   "source": [
    "## 20. `cat` accessor"
   ]
  },
  {
   "cell_type": "markdown",
   "metadata": {},
   "source": [
    "It is common knowledge that Pandas enables to use built-in Python functions on dates and strings using accessors like `dt` or `str`. \n",
    "\n",
    "Pandas also has a special `category` data type for categorical variables as can be seen below:"
   ]
  },
  {
   "cell_type": "code",
   "execution_count": 124,
   "metadata": {},
   "outputs": [
    {
     "data": {
      "text/plain": [
       "carat       float64\n",
       "cut        category\n",
       "color      category\n",
       "clarity    category\n",
       "depth       float64\n",
       "table       float64\n",
       "price         int64\n",
       "x           float64\n",
       "y           float64\n",
       "z           float64\n",
       "cut_enc       int64\n",
       "dtype: object"
      ]
     },
     "execution_count": 124,
     "metadata": {},
     "output_type": "execute_result"
    }
   ],
   "source": [
    "diamonds.dtypes"
   ]
  },
  {
   "cell_type": "markdown",
   "metadata": {},
   "source": [
    "When a column is `category`, you can use several special functions using the `cat` accessor. For example, let's see the unique categories of diamond cuts:"
   ]
  },
  {
   "cell_type": "code",
   "execution_count": 125,
   "metadata": {},
   "outputs": [
    {
     "data": {
      "text/plain": [
       "Index(['Ideal', 'Premium', 'Very Good', 'Good', 'Fair'], dtype='object')"
      ]
     },
     "execution_count": 125,
     "metadata": {},
     "output_type": "execute_result"
    }
   ],
   "source": [
    "diamonds[\"cut\"].cat.categories"
   ]
  },
  {
   "cell_type": "markdown",
   "metadata": {},
   "source": [
    "There are also functions like `remove_categories` or `rename_categories`, etc.:"
   ]
  },
  {
   "cell_type": "code",
   "execution_count": 132,
   "metadata": {},
   "outputs": [
    {
     "data": {
      "text/plain": [
       "Index(['A', 'B', 'C', 'D', 'E'], dtype='object')"
      ]
     },
     "execution_count": 132,
     "metadata": {},
     "output_type": "execute_result"
    }
   ],
   "source": [
    "diamonds[\"new_cuts\"] = diamonds[\"cut\"].cat.rename_categories(list(\"ABCDE\"))\n",
    "diamonds[\"new_cuts\"].cat.categories"
   ]
  },
  {
   "cell_type": "markdown",
   "metadata": {},
   "source": [
    "You can see the full list of functions under the `cat` accessor [here](https://pandas.pydata.org/pandas-docs/stable/reference/series.html#categorical-accessor)."
   ]
  },
  {
   "cell_type": "markdown",
   "metadata": {},
   "source": [
    "## 21. `select_dtypes`"
   ]
  },
  {
   "cell_type": "markdown",
   "metadata": {},
   "source": [
    "A function I use all the time is `select_dtypes`. I think it is obvious what the function does from its name. It has `include` and `exclude` parameters that can be used to select columns including or excluding certain data types. \n",
    "\n",
    "For example:"
   ]
  },
  {
   "cell_type": "code",
   "execution_count": 135,
   "metadata": {},
   "outputs": [
    {
     "data": {
      "text/html": [
       "<div>\n",
       "<style scoped>\n",
       "    .dataframe tbody tr th:only-of-type {\n",
       "        vertical-align: middle;\n",
       "    }\n",
       "\n",
       "    .dataframe tbody tr th {\n",
       "        vertical-align: top;\n",
       "    }\n",
       "\n",
       "    .dataframe thead th {\n",
       "        text-align: right;\n",
       "    }\n",
       "</style>\n",
       "<table border=\"1\" class=\"dataframe\">\n",
       "  <thead>\n",
       "    <tr style=\"text-align: right;\">\n",
       "      <th></th>\n",
       "      <th>carat</th>\n",
       "      <th>depth</th>\n",
       "      <th>table</th>\n",
       "      <th>price</th>\n",
       "      <th>x</th>\n",
       "      <th>y</th>\n",
       "      <th>z</th>\n",
       "      <th>cut_enc</th>\n",
       "    </tr>\n",
       "  </thead>\n",
       "  <tbody>\n",
       "    <tr>\n",
       "      <th>0</th>\n",
       "      <td>0.23</td>\n",
       "      <td>61.5</td>\n",
       "      <td>55.0</td>\n",
       "      <td>326</td>\n",
       "      <td>3.95</td>\n",
       "      <td>3.98</td>\n",
       "      <td>2.43</td>\n",
       "      <td>0</td>\n",
       "    </tr>\n",
       "    <tr>\n",
       "      <th>1</th>\n",
       "      <td>0.21</td>\n",
       "      <td>59.8</td>\n",
       "      <td>61.0</td>\n",
       "      <td>326</td>\n",
       "      <td>3.89</td>\n",
       "      <td>3.84</td>\n",
       "      <td>2.31</td>\n",
       "      <td>1</td>\n",
       "    </tr>\n",
       "    <tr>\n",
       "      <th>2</th>\n",
       "      <td>0.23</td>\n",
       "      <td>56.9</td>\n",
       "      <td>65.0</td>\n",
       "      <td>327</td>\n",
       "      <td>4.05</td>\n",
       "      <td>4.07</td>\n",
       "      <td>2.31</td>\n",
       "      <td>2</td>\n",
       "    </tr>\n",
       "    <tr>\n",
       "      <th>3</th>\n",
       "      <td>0.29</td>\n",
       "      <td>62.4</td>\n",
       "      <td>58.0</td>\n",
       "      <td>334</td>\n",
       "      <td>4.20</td>\n",
       "      <td>4.23</td>\n",
       "      <td>2.63</td>\n",
       "      <td>1</td>\n",
       "    </tr>\n",
       "    <tr>\n",
       "      <th>4</th>\n",
       "      <td>0.31</td>\n",
       "      <td>63.3</td>\n",
       "      <td>58.0</td>\n",
       "      <td>335</td>\n",
       "      <td>4.34</td>\n",
       "      <td>4.35</td>\n",
       "      <td>2.75</td>\n",
       "      <td>2</td>\n",
       "    </tr>\n",
       "  </tbody>\n",
       "</table>\n",
       "</div>"
      ],
      "text/plain": [
       "   carat  depth  table  price     x     y     z  cut_enc\n",
       "0   0.23   61.5   55.0    326  3.95  3.98  2.43        0\n",
       "1   0.21   59.8   61.0    326  3.89  3.84  2.31        1\n",
       "2   0.23   56.9   65.0    327  4.05  4.07  2.31        2\n",
       "3   0.29   62.4   58.0    334  4.20  4.23  2.63        1\n",
       "4   0.31   63.3   58.0    335  4.34  4.35  2.75        2"
      ]
     },
     "execution_count": 135,
     "metadata": {},
     "output_type": "execute_result"
    }
   ],
   "source": [
    "# Choose only numerical columns\n",
    "diamonds.select_dtypes(include=np.number).head()"
   ]
  },
  {
   "cell_type": "code",
   "execution_count": 137,
   "metadata": {},
   "outputs": [
    {
     "data": {
      "text/html": [
       "<div>\n",
       "<style scoped>\n",
       "    .dataframe tbody tr th:only-of-type {\n",
       "        vertical-align: middle;\n",
       "    }\n",
       "\n",
       "    .dataframe tbody tr th {\n",
       "        vertical-align: top;\n",
       "    }\n",
       "\n",
       "    .dataframe thead th {\n",
       "        text-align: right;\n",
       "    }\n",
       "</style>\n",
       "<table border=\"1\" class=\"dataframe\">\n",
       "  <thead>\n",
       "    <tr style=\"text-align: right;\">\n",
       "      <th></th>\n",
       "      <th>cut</th>\n",
       "      <th>color</th>\n",
       "      <th>clarity</th>\n",
       "      <th>new_cuts</th>\n",
       "    </tr>\n",
       "  </thead>\n",
       "  <tbody>\n",
       "    <tr>\n",
       "      <th>0</th>\n",
       "      <td>Ideal</td>\n",
       "      <td>E</td>\n",
       "      <td>SI2</td>\n",
       "      <td>A</td>\n",
       "    </tr>\n",
       "    <tr>\n",
       "      <th>1</th>\n",
       "      <td>Premium</td>\n",
       "      <td>E</td>\n",
       "      <td>SI1</td>\n",
       "      <td>B</td>\n",
       "    </tr>\n",
       "    <tr>\n",
       "      <th>2</th>\n",
       "      <td>Good</td>\n",
       "      <td>E</td>\n",
       "      <td>VS1</td>\n",
       "      <td>D</td>\n",
       "    </tr>\n",
       "    <tr>\n",
       "      <th>3</th>\n",
       "      <td>Premium</td>\n",
       "      <td>I</td>\n",
       "      <td>VS2</td>\n",
       "      <td>B</td>\n",
       "    </tr>\n",
       "    <tr>\n",
       "      <th>4</th>\n",
       "      <td>Good</td>\n",
       "      <td>J</td>\n",
       "      <td>SI2</td>\n",
       "      <td>D</td>\n",
       "    </tr>\n",
       "  </tbody>\n",
       "</table>\n",
       "</div>"
      ],
      "text/plain": [
       "       cut color clarity new_cuts\n",
       "0    Ideal     E     SI2        A\n",
       "1  Premium     E     SI1        B\n",
       "2     Good     E     VS1        D\n",
       "3  Premium     I     VS2        B\n",
       "4     Good     J     SI2        D"
      ]
     },
     "execution_count": 137,
     "metadata": {},
     "output_type": "execute_result"
    }
   ],
   "source": [
    "# Exclude numerical columns\n",
    "diamonds.select_dtypes(exclude=np.number).head()"
   ]
  },
  {
   "cell_type": "markdown",
   "metadata": {},
   "source": [
    "## 22. `T`"
   ]
  },
  {
   "cell_type": "markdown",
   "metadata": {},
   "source": [
    "All DataFrames have a simple `T` attribute, which stands for *transpose*. You may not use it often, but I find it quite useful when displaying DataFrames of the `describe` method:"
   ]
  },
  {
   "cell_type": "code",
   "execution_count": 141,
   "metadata": {},
   "outputs": [
    {
     "data": {
      "text/html": [
       "<div>\n",
       "<style scoped>\n",
       "    .dataframe tbody tr th:only-of-type {\n",
       "        vertical-align: middle;\n",
       "    }\n",
       "\n",
       "    .dataframe tbody tr th {\n",
       "        vertical-align: top;\n",
       "    }\n",
       "\n",
       "    .dataframe thead th {\n",
       "        text-align: right;\n",
       "    }\n",
       "</style>\n",
       "<table border=\"1\" class=\"dataframe\">\n",
       "  <thead>\n",
       "    <tr style=\"text-align: right;\">\n",
       "      <th></th>\n",
       "      <th>count</th>\n",
       "      <th>mean</th>\n",
       "      <th>std</th>\n",
       "      <th>min</th>\n",
       "      <th>25%</th>\n",
       "      <th>50%</th>\n",
       "      <th>75%</th>\n",
       "      <th>max</th>\n",
       "    </tr>\n",
       "  </thead>\n",
       "  <tbody>\n",
       "    <tr>\n",
       "      <th>mean radius</th>\n",
       "      <td>569.0</td>\n",
       "      <td>14.127292</td>\n",
       "      <td>3.524049</td>\n",
       "      <td>6.98100</td>\n",
       "      <td>11.70000</td>\n",
       "      <td>13.37000</td>\n",
       "      <td>15.78000</td>\n",
       "      <td>28.11000</td>\n",
       "    </tr>\n",
       "    <tr>\n",
       "      <th>mean texture</th>\n",
       "      <td>569.0</td>\n",
       "      <td>19.289649</td>\n",
       "      <td>4.301036</td>\n",
       "      <td>9.71000</td>\n",
       "      <td>16.17000</td>\n",
       "      <td>18.84000</td>\n",
       "      <td>21.80000</td>\n",
       "      <td>39.28000</td>\n",
       "    </tr>\n",
       "    <tr>\n",
       "      <th>mean perimeter</th>\n",
       "      <td>569.0</td>\n",
       "      <td>91.969033</td>\n",
       "      <td>24.298981</td>\n",
       "      <td>43.79000</td>\n",
       "      <td>75.17000</td>\n",
       "      <td>86.24000</td>\n",
       "      <td>104.10000</td>\n",
       "      <td>188.50000</td>\n",
       "    </tr>\n",
       "    <tr>\n",
       "      <th>mean area</th>\n",
       "      <td>569.0</td>\n",
       "      <td>654.889104</td>\n",
       "      <td>351.914129</td>\n",
       "      <td>143.50000</td>\n",
       "      <td>420.30000</td>\n",
       "      <td>551.10000</td>\n",
       "      <td>782.70000</td>\n",
       "      <td>2501.00000</td>\n",
       "    </tr>\n",
       "    <tr>\n",
       "      <th>mean smoothness</th>\n",
       "      <td>569.0</td>\n",
       "      <td>0.096360</td>\n",
       "      <td>0.014064</td>\n",
       "      <td>0.05263</td>\n",
       "      <td>0.08637</td>\n",
       "      <td>0.09587</td>\n",
       "      <td>0.10530</td>\n",
       "      <td>0.16340</td>\n",
       "    </tr>\n",
       "    <tr>\n",
       "      <th>mean compactness</th>\n",
       "      <td>569.0</td>\n",
       "      <td>0.104341</td>\n",
       "      <td>0.052813</td>\n",
       "      <td>0.01938</td>\n",
       "      <td>0.06492</td>\n",
       "      <td>0.09263</td>\n",
       "      <td>0.13040</td>\n",
       "      <td>0.34540</td>\n",
       "    </tr>\n",
       "    <tr>\n",
       "      <th>mean concavity</th>\n",
       "      <td>569.0</td>\n",
       "      <td>0.088799</td>\n",
       "      <td>0.079720</td>\n",
       "      <td>0.00000</td>\n",
       "      <td>0.02956</td>\n",
       "      <td>0.06154</td>\n",
       "      <td>0.13070</td>\n",
       "      <td>0.42680</td>\n",
       "    </tr>\n",
       "    <tr>\n",
       "      <th>mean concave points</th>\n",
       "      <td>569.0</td>\n",
       "      <td>0.048919</td>\n",
       "      <td>0.038803</td>\n",
       "      <td>0.00000</td>\n",
       "      <td>0.02031</td>\n",
       "      <td>0.03350</td>\n",
       "      <td>0.07400</td>\n",
       "      <td>0.20120</td>\n",
       "    </tr>\n",
       "    <tr>\n",
       "      <th>mean symmetry</th>\n",
       "      <td>569.0</td>\n",
       "      <td>0.181162</td>\n",
       "      <td>0.027414</td>\n",
       "      <td>0.10600</td>\n",
       "      <td>0.16190</td>\n",
       "      <td>0.17920</td>\n",
       "      <td>0.19570</td>\n",
       "      <td>0.30400</td>\n",
       "    </tr>\n",
       "    <tr>\n",
       "      <th>mean fractal dimension</th>\n",
       "      <td>569.0</td>\n",
       "      <td>0.062798</td>\n",
       "      <td>0.007060</td>\n",
       "      <td>0.04996</td>\n",
       "      <td>0.05770</td>\n",
       "      <td>0.06154</td>\n",
       "      <td>0.06612</td>\n",
       "      <td>0.09744</td>\n",
       "    </tr>\n",
       "  </tbody>\n",
       "</table>\n",
       "</div>"
      ],
      "text/plain": [
       "                        count        mean         std        min        25%  \\\n",
       "mean radius             569.0   14.127292    3.524049    6.98100   11.70000   \n",
       "mean texture            569.0   19.289649    4.301036    9.71000   16.17000   \n",
       "mean perimeter          569.0   91.969033   24.298981   43.79000   75.17000   \n",
       "mean area               569.0  654.889104  351.914129  143.50000  420.30000   \n",
       "mean smoothness         569.0    0.096360    0.014064    0.05263    0.08637   \n",
       "mean compactness        569.0    0.104341    0.052813    0.01938    0.06492   \n",
       "mean concavity          569.0    0.088799    0.079720    0.00000    0.02956   \n",
       "mean concave points     569.0    0.048919    0.038803    0.00000    0.02031   \n",
       "mean symmetry           569.0    0.181162    0.027414    0.10600    0.16190   \n",
       "mean fractal dimension  569.0    0.062798    0.007060    0.04996    0.05770   \n",
       "\n",
       "                              50%        75%         max  \n",
       "mean radius              13.37000   15.78000    28.11000  \n",
       "mean texture             18.84000   21.80000    39.28000  \n",
       "mean perimeter           86.24000  104.10000   188.50000  \n",
       "mean area               551.10000  782.70000  2501.00000  \n",
       "mean smoothness           0.09587    0.10530     0.16340  \n",
       "mean compactness          0.09263    0.13040     0.34540  \n",
       "mean concavity            0.06154    0.13070     0.42680  \n",
       "mean concave points       0.03350    0.07400     0.20120  \n",
       "mean symmetry             0.17920    0.19570     0.30400  \n",
       "mean fractal dimension    0.06154    0.06612     0.09744  "
      ]
     },
     "execution_count": 141,
     "metadata": {},
     "output_type": "execute_result"
    }
   ],
   "source": [
    "boston.describe().T.head(10)"
   ]
  },
  {
   "cell_type": "markdown",
   "metadata": {},
   "source": [
    "Boston housing dataset has 30 numeric columns. If you call `describe` as-is, the DataFrame will stretch horizontally, making it hard to compare the statistics. Taking the transpose will switch the axes so that summary statistics are given in columns."
   ]
  },
  {
   "cell_type": "markdown",
   "metadata": {},
   "source": [
    "## 23. Pandas Styler"
   ]
  },
  {
   "cell_type": "markdown",
   "metadata": {},
   "source": [
    "Did you know that Pandas allows you to style DataFrames?\n",
    "\n",
    "DataFrames have a `style` attribute which opens doors to customizations and styles only limited by your HTML and CSS knowledge. I won't discuss the full details of what you can with `style` but only show you my favorite functions:"
   ]
  },
  {
   "cell_type": "code",
   "execution_count": 146,
   "metadata": {},
   "outputs": [
    {
     "data": {
      "text/html": [
       "<style  type=\"text/css\" >\n",
       "#T_22bef549_f39a_11eb_9d14_ace2d369d7d9row1_col0,#T_22bef549_f39a_11eb_9d14_ace2d369d7d9row1_col3,#T_22bef549_f39a_11eb_9d14_ace2d369d7d9row1_col4,#T_22bef549_f39a_11eb_9d14_ace2d369d7d9row1_col5,#T_22bef549_f39a_11eb_9d14_ace2d369d7d9row4_col1,#T_22bef549_f39a_11eb_9d14_ace2d369d7d9row4_col6,#T_22bef549_f39a_11eb_9d14_ace2d369d7d9row7_col2{\n",
       "            background-color:  darkred;\n",
       "        }</style><table id=\"T_22bef549_f39a_11eb_9d14_ace2d369d7d9\" ><thead>    <tr>        <th class=\"blank level0\" ></th>        <th class=\"col_heading level0 col0\" >mean</th>        <th class=\"col_heading level0 col1\" >std</th>        <th class=\"col_heading level0 col2\" >min</th>        <th class=\"col_heading level0 col3\" >25%</th>        <th class=\"col_heading level0 col4\" >50%</th>        <th class=\"col_heading level0 col5\" >75%</th>        <th class=\"col_heading level0 col6\" >max</th>    </tr></thead><tbody>\n",
       "                <tr>\n",
       "                        <th id=\"T_22bef549_f39a_11eb_9d14_ace2d369d7d9level0_row0\" class=\"row_heading level0 row0\" >Pregnancies</th>\n",
       "                        <td id=\"T_22bef549_f39a_11eb_9d14_ace2d369d7d9row0_col0\" class=\"data row0 col0\" >3.845052</td>\n",
       "                        <td id=\"T_22bef549_f39a_11eb_9d14_ace2d369d7d9row0_col1\" class=\"data row0 col1\" >3.369578</td>\n",
       "                        <td id=\"T_22bef549_f39a_11eb_9d14_ace2d369d7d9row0_col2\" class=\"data row0 col2\" >0.000000</td>\n",
       "                        <td id=\"T_22bef549_f39a_11eb_9d14_ace2d369d7d9row0_col3\" class=\"data row0 col3\" >1.000000</td>\n",
       "                        <td id=\"T_22bef549_f39a_11eb_9d14_ace2d369d7d9row0_col4\" class=\"data row0 col4\" >3.000000</td>\n",
       "                        <td id=\"T_22bef549_f39a_11eb_9d14_ace2d369d7d9row0_col5\" class=\"data row0 col5\" >6.000000</td>\n",
       "                        <td id=\"T_22bef549_f39a_11eb_9d14_ace2d369d7d9row0_col6\" class=\"data row0 col6\" >17.000000</td>\n",
       "            </tr>\n",
       "            <tr>\n",
       "                        <th id=\"T_22bef549_f39a_11eb_9d14_ace2d369d7d9level0_row1\" class=\"row_heading level0 row1\" >Glucose</th>\n",
       "                        <td id=\"T_22bef549_f39a_11eb_9d14_ace2d369d7d9row1_col0\" class=\"data row1 col0\" >120.894531</td>\n",
       "                        <td id=\"T_22bef549_f39a_11eb_9d14_ace2d369d7d9row1_col1\" class=\"data row1 col1\" >31.972618</td>\n",
       "                        <td id=\"T_22bef549_f39a_11eb_9d14_ace2d369d7d9row1_col2\" class=\"data row1 col2\" >0.000000</td>\n",
       "                        <td id=\"T_22bef549_f39a_11eb_9d14_ace2d369d7d9row1_col3\" class=\"data row1 col3\" >99.000000</td>\n",
       "                        <td id=\"T_22bef549_f39a_11eb_9d14_ace2d369d7d9row1_col4\" class=\"data row1 col4\" >117.000000</td>\n",
       "                        <td id=\"T_22bef549_f39a_11eb_9d14_ace2d369d7d9row1_col5\" class=\"data row1 col5\" >140.250000</td>\n",
       "                        <td id=\"T_22bef549_f39a_11eb_9d14_ace2d369d7d9row1_col6\" class=\"data row1 col6\" >199.000000</td>\n",
       "            </tr>\n",
       "            <tr>\n",
       "                        <th id=\"T_22bef549_f39a_11eb_9d14_ace2d369d7d9level0_row2\" class=\"row_heading level0 row2\" >BloodPressure</th>\n",
       "                        <td id=\"T_22bef549_f39a_11eb_9d14_ace2d369d7d9row2_col0\" class=\"data row2 col0\" >69.105469</td>\n",
       "                        <td id=\"T_22bef549_f39a_11eb_9d14_ace2d369d7d9row2_col1\" class=\"data row2 col1\" >19.355807</td>\n",
       "                        <td id=\"T_22bef549_f39a_11eb_9d14_ace2d369d7d9row2_col2\" class=\"data row2 col2\" >0.000000</td>\n",
       "                        <td id=\"T_22bef549_f39a_11eb_9d14_ace2d369d7d9row2_col3\" class=\"data row2 col3\" >62.000000</td>\n",
       "                        <td id=\"T_22bef549_f39a_11eb_9d14_ace2d369d7d9row2_col4\" class=\"data row2 col4\" >72.000000</td>\n",
       "                        <td id=\"T_22bef549_f39a_11eb_9d14_ace2d369d7d9row2_col5\" class=\"data row2 col5\" >80.000000</td>\n",
       "                        <td id=\"T_22bef549_f39a_11eb_9d14_ace2d369d7d9row2_col6\" class=\"data row2 col6\" >122.000000</td>\n",
       "            </tr>\n",
       "            <tr>\n",
       "                        <th id=\"T_22bef549_f39a_11eb_9d14_ace2d369d7d9level0_row3\" class=\"row_heading level0 row3\" >SkinThickness</th>\n",
       "                        <td id=\"T_22bef549_f39a_11eb_9d14_ace2d369d7d9row3_col0\" class=\"data row3 col0\" >20.536458</td>\n",
       "                        <td id=\"T_22bef549_f39a_11eb_9d14_ace2d369d7d9row3_col1\" class=\"data row3 col1\" >15.952218</td>\n",
       "                        <td id=\"T_22bef549_f39a_11eb_9d14_ace2d369d7d9row3_col2\" class=\"data row3 col2\" >0.000000</td>\n",
       "                        <td id=\"T_22bef549_f39a_11eb_9d14_ace2d369d7d9row3_col3\" class=\"data row3 col3\" >0.000000</td>\n",
       "                        <td id=\"T_22bef549_f39a_11eb_9d14_ace2d369d7d9row3_col4\" class=\"data row3 col4\" >23.000000</td>\n",
       "                        <td id=\"T_22bef549_f39a_11eb_9d14_ace2d369d7d9row3_col5\" class=\"data row3 col5\" >32.000000</td>\n",
       "                        <td id=\"T_22bef549_f39a_11eb_9d14_ace2d369d7d9row3_col6\" class=\"data row3 col6\" >99.000000</td>\n",
       "            </tr>\n",
       "            <tr>\n",
       "                        <th id=\"T_22bef549_f39a_11eb_9d14_ace2d369d7d9level0_row4\" class=\"row_heading level0 row4\" >Insulin</th>\n",
       "                        <td id=\"T_22bef549_f39a_11eb_9d14_ace2d369d7d9row4_col0\" class=\"data row4 col0\" >79.799479</td>\n",
       "                        <td id=\"T_22bef549_f39a_11eb_9d14_ace2d369d7d9row4_col1\" class=\"data row4 col1\" >115.244002</td>\n",
       "                        <td id=\"T_22bef549_f39a_11eb_9d14_ace2d369d7d9row4_col2\" class=\"data row4 col2\" >0.000000</td>\n",
       "                        <td id=\"T_22bef549_f39a_11eb_9d14_ace2d369d7d9row4_col3\" class=\"data row4 col3\" >0.000000</td>\n",
       "                        <td id=\"T_22bef549_f39a_11eb_9d14_ace2d369d7d9row4_col4\" class=\"data row4 col4\" >30.500000</td>\n",
       "                        <td id=\"T_22bef549_f39a_11eb_9d14_ace2d369d7d9row4_col5\" class=\"data row4 col5\" >127.250000</td>\n",
       "                        <td id=\"T_22bef549_f39a_11eb_9d14_ace2d369d7d9row4_col6\" class=\"data row4 col6\" >846.000000</td>\n",
       "            </tr>\n",
       "            <tr>\n",
       "                        <th id=\"T_22bef549_f39a_11eb_9d14_ace2d369d7d9level0_row5\" class=\"row_heading level0 row5\" >BMI</th>\n",
       "                        <td id=\"T_22bef549_f39a_11eb_9d14_ace2d369d7d9row5_col0\" class=\"data row5 col0\" >31.992578</td>\n",
       "                        <td id=\"T_22bef549_f39a_11eb_9d14_ace2d369d7d9row5_col1\" class=\"data row5 col1\" >7.884160</td>\n",
       "                        <td id=\"T_22bef549_f39a_11eb_9d14_ace2d369d7d9row5_col2\" class=\"data row5 col2\" >0.000000</td>\n",
       "                        <td id=\"T_22bef549_f39a_11eb_9d14_ace2d369d7d9row5_col3\" class=\"data row5 col3\" >27.300000</td>\n",
       "                        <td id=\"T_22bef549_f39a_11eb_9d14_ace2d369d7d9row5_col4\" class=\"data row5 col4\" >32.000000</td>\n",
       "                        <td id=\"T_22bef549_f39a_11eb_9d14_ace2d369d7d9row5_col5\" class=\"data row5 col5\" >36.600000</td>\n",
       "                        <td id=\"T_22bef549_f39a_11eb_9d14_ace2d369d7d9row5_col6\" class=\"data row5 col6\" >67.100000</td>\n",
       "            </tr>\n",
       "            <tr>\n",
       "                        <th id=\"T_22bef549_f39a_11eb_9d14_ace2d369d7d9level0_row6\" class=\"row_heading level0 row6\" >DiabetesPedigreeFunction</th>\n",
       "                        <td id=\"T_22bef549_f39a_11eb_9d14_ace2d369d7d9row6_col0\" class=\"data row6 col0\" >0.471876</td>\n",
       "                        <td id=\"T_22bef549_f39a_11eb_9d14_ace2d369d7d9row6_col1\" class=\"data row6 col1\" >0.331329</td>\n",
       "                        <td id=\"T_22bef549_f39a_11eb_9d14_ace2d369d7d9row6_col2\" class=\"data row6 col2\" >0.078000</td>\n",
       "                        <td id=\"T_22bef549_f39a_11eb_9d14_ace2d369d7d9row6_col3\" class=\"data row6 col3\" >0.243750</td>\n",
       "                        <td id=\"T_22bef549_f39a_11eb_9d14_ace2d369d7d9row6_col4\" class=\"data row6 col4\" >0.372500</td>\n",
       "                        <td id=\"T_22bef549_f39a_11eb_9d14_ace2d369d7d9row6_col5\" class=\"data row6 col5\" >0.626250</td>\n",
       "                        <td id=\"T_22bef549_f39a_11eb_9d14_ace2d369d7d9row6_col6\" class=\"data row6 col6\" >2.420000</td>\n",
       "            </tr>\n",
       "            <tr>\n",
       "                        <th id=\"T_22bef549_f39a_11eb_9d14_ace2d369d7d9level0_row7\" class=\"row_heading level0 row7\" >Age</th>\n",
       "                        <td id=\"T_22bef549_f39a_11eb_9d14_ace2d369d7d9row7_col0\" class=\"data row7 col0\" >33.240885</td>\n",
       "                        <td id=\"T_22bef549_f39a_11eb_9d14_ace2d369d7d9row7_col1\" class=\"data row7 col1\" >11.760232</td>\n",
       "                        <td id=\"T_22bef549_f39a_11eb_9d14_ace2d369d7d9row7_col2\" class=\"data row7 col2\" >21.000000</td>\n",
       "                        <td id=\"T_22bef549_f39a_11eb_9d14_ace2d369d7d9row7_col3\" class=\"data row7 col3\" >24.000000</td>\n",
       "                        <td id=\"T_22bef549_f39a_11eb_9d14_ace2d369d7d9row7_col4\" class=\"data row7 col4\" >29.000000</td>\n",
       "                        <td id=\"T_22bef549_f39a_11eb_9d14_ace2d369d7d9row7_col5\" class=\"data row7 col5\" >41.000000</td>\n",
       "                        <td id=\"T_22bef549_f39a_11eb_9d14_ace2d369d7d9row7_col6\" class=\"data row7 col6\" >81.000000</td>\n",
       "            </tr>\n",
       "            <tr>\n",
       "                        <th id=\"T_22bef549_f39a_11eb_9d14_ace2d369d7d9level0_row8\" class=\"row_heading level0 row8\" >Outcome</th>\n",
       "                        <td id=\"T_22bef549_f39a_11eb_9d14_ace2d369d7d9row8_col0\" class=\"data row8 col0\" >0.348958</td>\n",
       "                        <td id=\"T_22bef549_f39a_11eb_9d14_ace2d369d7d9row8_col1\" class=\"data row8 col1\" >0.476951</td>\n",
       "                        <td id=\"T_22bef549_f39a_11eb_9d14_ace2d369d7d9row8_col2\" class=\"data row8 col2\" >0.000000</td>\n",
       "                        <td id=\"T_22bef549_f39a_11eb_9d14_ace2d369d7d9row8_col3\" class=\"data row8 col3\" >0.000000</td>\n",
       "                        <td id=\"T_22bef549_f39a_11eb_9d14_ace2d369d7d9row8_col4\" class=\"data row8 col4\" >0.000000</td>\n",
       "                        <td id=\"T_22bef549_f39a_11eb_9d14_ace2d369d7d9row8_col5\" class=\"data row8 col5\" >1.000000</td>\n",
       "                        <td id=\"T_22bef549_f39a_11eb_9d14_ace2d369d7d9row8_col6\" class=\"data row8 col6\" >1.000000</td>\n",
       "            </tr>\n",
       "    </tbody></table>"
      ],
      "text/plain": [
       "<pandas.io.formats.style.Styler at 0x220b5c598e0>"
      ]
     },
     "execution_count": 146,
     "metadata": {},
     "output_type": "execute_result"
    }
   ],
   "source": [
    "diabetes.describe().T.drop(\"count\", axis=1).style.highlight_max(color=\"darkred\")"
   ]
  },
  {
   "cell_type": "markdown",
   "metadata": {},
   "source": [
    "Above, we are highlighting cells that hold the maximum value of a column. Another cool styler is `background_gradient` which can give columns gradient background color based on their values:"
   ]
  },
  {
   "cell_type": "code",
   "execution_count": 148,
   "metadata": {},
   "outputs": [
    {
     "data": {
      "text/html": [
       "<style  type=\"text/css\" >\n",
       "#T_78c599c0_f39a_11eb_9317_ace2d369d7d9row0_col0{\n",
       "            background-color:  #fff0e9;\n",
       "            color:  #000000;\n",
       "        }#T_78c599c0_f39a_11eb_9317_ace2d369d7d9row0_col4{\n",
       "            background-color:  #fff1ea;\n",
       "            color:  #000000;\n",
       "        }#T_78c599c0_f39a_11eb_9317_ace2d369d7d9row1_col0,#T_78c599c0_f39a_11eb_9317_ace2d369d7d9row1_col4{\n",
       "            background-color:  #67000d;\n",
       "            color:  #f1f1f1;\n",
       "        }#T_78c599c0_f39a_11eb_9317_ace2d369d7d9row2_col0{\n",
       "            background-color:  #f44f39;\n",
       "            color:  #000000;\n",
       "        }#T_78c599c0_f39a_11eb_9317_ace2d369d7d9row2_col4{\n",
       "            background-color:  #f03f2e;\n",
       "            color:  #f1f1f1;\n",
       "        }#T_78c599c0_f39a_11eb_9317_ace2d369d7d9row3_col0{\n",
       "            background-color:  #fdd4c2;\n",
       "            color:  #000000;\n",
       "        }#T_78c599c0_f39a_11eb_9317_ace2d369d7d9row3_col4{\n",
       "            background-color:  #fdcbb6;\n",
       "            color:  #000000;\n",
       "        }#T_78c599c0_f39a_11eb_9317_ace2d369d7d9row4_col0{\n",
       "            background-color:  #e53228;\n",
       "            color:  #f1f1f1;\n",
       "        }#T_78c599c0_f39a_11eb_9317_ace2d369d7d9row4_col4{\n",
       "            background-color:  #fcb89e;\n",
       "            color:  #000000;\n",
       "        }#T_78c599c0_f39a_11eb_9317_ace2d369d7d9row5_col0{\n",
       "            background-color:  #fcb79c;\n",
       "            color:  #000000;\n",
       "        }#T_78c599c0_f39a_11eb_9317_ace2d369d7d9row5_col4{\n",
       "            background-color:  #fcb398;\n",
       "            color:  #000000;\n",
       "        }#T_78c599c0_f39a_11eb_9317_ace2d369d7d9row6_col0,#T_78c599c0_f39a_11eb_9317_ace2d369d7d9row6_col4,#T_78c599c0_f39a_11eb_9317_ace2d369d7d9row8_col0,#T_78c599c0_f39a_11eb_9317_ace2d369d7d9row8_col4{\n",
       "            background-color:  #fff5f0;\n",
       "            color:  #000000;\n",
       "        }#T_78c599c0_f39a_11eb_9317_ace2d369d7d9row7_col0{\n",
       "            background-color:  #fcb499;\n",
       "            color:  #000000;\n",
       "        }#T_78c599c0_f39a_11eb_9317_ace2d369d7d9row7_col4{\n",
       "            background-color:  #fcbca2;\n",
       "            color:  #000000;\n",
       "        }</style><table id=\"T_78c599c0_f39a_11eb_9317_ace2d369d7d9\" ><thead>    <tr>        <th class=\"blank level0\" ></th>        <th class=\"col_heading level0 col0\" >mean</th>        <th class=\"col_heading level0 col1\" >std</th>        <th class=\"col_heading level0 col2\" >min</th>        <th class=\"col_heading level0 col3\" >25%</th>        <th class=\"col_heading level0 col4\" >50%</th>        <th class=\"col_heading level0 col5\" >75%</th>        <th class=\"col_heading level0 col6\" >max</th>    </tr></thead><tbody>\n",
       "                <tr>\n",
       "                        <th id=\"T_78c599c0_f39a_11eb_9317_ace2d369d7d9level0_row0\" class=\"row_heading level0 row0\" >Pregnancies</th>\n",
       "                        <td id=\"T_78c599c0_f39a_11eb_9317_ace2d369d7d9row0_col0\" class=\"data row0 col0\" >3.845052</td>\n",
       "                        <td id=\"T_78c599c0_f39a_11eb_9317_ace2d369d7d9row0_col1\" class=\"data row0 col1\" >3.369578</td>\n",
       "                        <td id=\"T_78c599c0_f39a_11eb_9317_ace2d369d7d9row0_col2\" class=\"data row0 col2\" >0.000000</td>\n",
       "                        <td id=\"T_78c599c0_f39a_11eb_9317_ace2d369d7d9row0_col3\" class=\"data row0 col3\" >1.000000</td>\n",
       "                        <td id=\"T_78c599c0_f39a_11eb_9317_ace2d369d7d9row0_col4\" class=\"data row0 col4\" >3.000000</td>\n",
       "                        <td id=\"T_78c599c0_f39a_11eb_9317_ace2d369d7d9row0_col5\" class=\"data row0 col5\" >6.000000</td>\n",
       "                        <td id=\"T_78c599c0_f39a_11eb_9317_ace2d369d7d9row0_col6\" class=\"data row0 col6\" >17.000000</td>\n",
       "            </tr>\n",
       "            <tr>\n",
       "                        <th id=\"T_78c599c0_f39a_11eb_9317_ace2d369d7d9level0_row1\" class=\"row_heading level0 row1\" >Glucose</th>\n",
       "                        <td id=\"T_78c599c0_f39a_11eb_9317_ace2d369d7d9row1_col0\" class=\"data row1 col0\" >120.894531</td>\n",
       "                        <td id=\"T_78c599c0_f39a_11eb_9317_ace2d369d7d9row1_col1\" class=\"data row1 col1\" >31.972618</td>\n",
       "                        <td id=\"T_78c599c0_f39a_11eb_9317_ace2d369d7d9row1_col2\" class=\"data row1 col2\" >0.000000</td>\n",
       "                        <td id=\"T_78c599c0_f39a_11eb_9317_ace2d369d7d9row1_col3\" class=\"data row1 col3\" >99.000000</td>\n",
       "                        <td id=\"T_78c599c0_f39a_11eb_9317_ace2d369d7d9row1_col4\" class=\"data row1 col4\" >117.000000</td>\n",
       "                        <td id=\"T_78c599c0_f39a_11eb_9317_ace2d369d7d9row1_col5\" class=\"data row1 col5\" >140.250000</td>\n",
       "                        <td id=\"T_78c599c0_f39a_11eb_9317_ace2d369d7d9row1_col6\" class=\"data row1 col6\" >199.000000</td>\n",
       "            </tr>\n",
       "            <tr>\n",
       "                        <th id=\"T_78c599c0_f39a_11eb_9317_ace2d369d7d9level0_row2\" class=\"row_heading level0 row2\" >BloodPressure</th>\n",
       "                        <td id=\"T_78c599c0_f39a_11eb_9317_ace2d369d7d9row2_col0\" class=\"data row2 col0\" >69.105469</td>\n",
       "                        <td id=\"T_78c599c0_f39a_11eb_9317_ace2d369d7d9row2_col1\" class=\"data row2 col1\" >19.355807</td>\n",
       "                        <td id=\"T_78c599c0_f39a_11eb_9317_ace2d369d7d9row2_col2\" class=\"data row2 col2\" >0.000000</td>\n",
       "                        <td id=\"T_78c599c0_f39a_11eb_9317_ace2d369d7d9row2_col3\" class=\"data row2 col3\" >62.000000</td>\n",
       "                        <td id=\"T_78c599c0_f39a_11eb_9317_ace2d369d7d9row2_col4\" class=\"data row2 col4\" >72.000000</td>\n",
       "                        <td id=\"T_78c599c0_f39a_11eb_9317_ace2d369d7d9row2_col5\" class=\"data row2 col5\" >80.000000</td>\n",
       "                        <td id=\"T_78c599c0_f39a_11eb_9317_ace2d369d7d9row2_col6\" class=\"data row2 col6\" >122.000000</td>\n",
       "            </tr>\n",
       "            <tr>\n",
       "                        <th id=\"T_78c599c0_f39a_11eb_9317_ace2d369d7d9level0_row3\" class=\"row_heading level0 row3\" >SkinThickness</th>\n",
       "                        <td id=\"T_78c599c0_f39a_11eb_9317_ace2d369d7d9row3_col0\" class=\"data row3 col0\" >20.536458</td>\n",
       "                        <td id=\"T_78c599c0_f39a_11eb_9317_ace2d369d7d9row3_col1\" class=\"data row3 col1\" >15.952218</td>\n",
       "                        <td id=\"T_78c599c0_f39a_11eb_9317_ace2d369d7d9row3_col2\" class=\"data row3 col2\" >0.000000</td>\n",
       "                        <td id=\"T_78c599c0_f39a_11eb_9317_ace2d369d7d9row3_col3\" class=\"data row3 col3\" >0.000000</td>\n",
       "                        <td id=\"T_78c599c0_f39a_11eb_9317_ace2d369d7d9row3_col4\" class=\"data row3 col4\" >23.000000</td>\n",
       "                        <td id=\"T_78c599c0_f39a_11eb_9317_ace2d369d7d9row3_col5\" class=\"data row3 col5\" >32.000000</td>\n",
       "                        <td id=\"T_78c599c0_f39a_11eb_9317_ace2d369d7d9row3_col6\" class=\"data row3 col6\" >99.000000</td>\n",
       "            </tr>\n",
       "            <tr>\n",
       "                        <th id=\"T_78c599c0_f39a_11eb_9317_ace2d369d7d9level0_row4\" class=\"row_heading level0 row4\" >Insulin</th>\n",
       "                        <td id=\"T_78c599c0_f39a_11eb_9317_ace2d369d7d9row4_col0\" class=\"data row4 col0\" >79.799479</td>\n",
       "                        <td id=\"T_78c599c0_f39a_11eb_9317_ace2d369d7d9row4_col1\" class=\"data row4 col1\" >115.244002</td>\n",
       "                        <td id=\"T_78c599c0_f39a_11eb_9317_ace2d369d7d9row4_col2\" class=\"data row4 col2\" >0.000000</td>\n",
       "                        <td id=\"T_78c599c0_f39a_11eb_9317_ace2d369d7d9row4_col3\" class=\"data row4 col3\" >0.000000</td>\n",
       "                        <td id=\"T_78c599c0_f39a_11eb_9317_ace2d369d7d9row4_col4\" class=\"data row4 col4\" >30.500000</td>\n",
       "                        <td id=\"T_78c599c0_f39a_11eb_9317_ace2d369d7d9row4_col5\" class=\"data row4 col5\" >127.250000</td>\n",
       "                        <td id=\"T_78c599c0_f39a_11eb_9317_ace2d369d7d9row4_col6\" class=\"data row4 col6\" >846.000000</td>\n",
       "            </tr>\n",
       "            <tr>\n",
       "                        <th id=\"T_78c599c0_f39a_11eb_9317_ace2d369d7d9level0_row5\" class=\"row_heading level0 row5\" >BMI</th>\n",
       "                        <td id=\"T_78c599c0_f39a_11eb_9317_ace2d369d7d9row5_col0\" class=\"data row5 col0\" >31.992578</td>\n",
       "                        <td id=\"T_78c599c0_f39a_11eb_9317_ace2d369d7d9row5_col1\" class=\"data row5 col1\" >7.884160</td>\n",
       "                        <td id=\"T_78c599c0_f39a_11eb_9317_ace2d369d7d9row5_col2\" class=\"data row5 col2\" >0.000000</td>\n",
       "                        <td id=\"T_78c599c0_f39a_11eb_9317_ace2d369d7d9row5_col3\" class=\"data row5 col3\" >27.300000</td>\n",
       "                        <td id=\"T_78c599c0_f39a_11eb_9317_ace2d369d7d9row5_col4\" class=\"data row5 col4\" >32.000000</td>\n",
       "                        <td id=\"T_78c599c0_f39a_11eb_9317_ace2d369d7d9row5_col5\" class=\"data row5 col5\" >36.600000</td>\n",
       "                        <td id=\"T_78c599c0_f39a_11eb_9317_ace2d369d7d9row5_col6\" class=\"data row5 col6\" >67.100000</td>\n",
       "            </tr>\n",
       "            <tr>\n",
       "                        <th id=\"T_78c599c0_f39a_11eb_9317_ace2d369d7d9level0_row6\" class=\"row_heading level0 row6\" >DiabetesPedigreeFunction</th>\n",
       "                        <td id=\"T_78c599c0_f39a_11eb_9317_ace2d369d7d9row6_col0\" class=\"data row6 col0\" >0.471876</td>\n",
       "                        <td id=\"T_78c599c0_f39a_11eb_9317_ace2d369d7d9row6_col1\" class=\"data row6 col1\" >0.331329</td>\n",
       "                        <td id=\"T_78c599c0_f39a_11eb_9317_ace2d369d7d9row6_col2\" class=\"data row6 col2\" >0.078000</td>\n",
       "                        <td id=\"T_78c599c0_f39a_11eb_9317_ace2d369d7d9row6_col3\" class=\"data row6 col3\" >0.243750</td>\n",
       "                        <td id=\"T_78c599c0_f39a_11eb_9317_ace2d369d7d9row6_col4\" class=\"data row6 col4\" >0.372500</td>\n",
       "                        <td id=\"T_78c599c0_f39a_11eb_9317_ace2d369d7d9row6_col5\" class=\"data row6 col5\" >0.626250</td>\n",
       "                        <td id=\"T_78c599c0_f39a_11eb_9317_ace2d369d7d9row6_col6\" class=\"data row6 col6\" >2.420000</td>\n",
       "            </tr>\n",
       "            <tr>\n",
       "                        <th id=\"T_78c599c0_f39a_11eb_9317_ace2d369d7d9level0_row7\" class=\"row_heading level0 row7\" >Age</th>\n",
       "                        <td id=\"T_78c599c0_f39a_11eb_9317_ace2d369d7d9row7_col0\" class=\"data row7 col0\" >33.240885</td>\n",
       "                        <td id=\"T_78c599c0_f39a_11eb_9317_ace2d369d7d9row7_col1\" class=\"data row7 col1\" >11.760232</td>\n",
       "                        <td id=\"T_78c599c0_f39a_11eb_9317_ace2d369d7d9row7_col2\" class=\"data row7 col2\" >21.000000</td>\n",
       "                        <td id=\"T_78c599c0_f39a_11eb_9317_ace2d369d7d9row7_col3\" class=\"data row7 col3\" >24.000000</td>\n",
       "                        <td id=\"T_78c599c0_f39a_11eb_9317_ace2d369d7d9row7_col4\" class=\"data row7 col4\" >29.000000</td>\n",
       "                        <td id=\"T_78c599c0_f39a_11eb_9317_ace2d369d7d9row7_col5\" class=\"data row7 col5\" >41.000000</td>\n",
       "                        <td id=\"T_78c599c0_f39a_11eb_9317_ace2d369d7d9row7_col6\" class=\"data row7 col6\" >81.000000</td>\n",
       "            </tr>\n",
       "            <tr>\n",
       "                        <th id=\"T_78c599c0_f39a_11eb_9317_ace2d369d7d9level0_row8\" class=\"row_heading level0 row8\" >Outcome</th>\n",
       "                        <td id=\"T_78c599c0_f39a_11eb_9317_ace2d369d7d9row8_col0\" class=\"data row8 col0\" >0.348958</td>\n",
       "                        <td id=\"T_78c599c0_f39a_11eb_9317_ace2d369d7d9row8_col1\" class=\"data row8 col1\" >0.476951</td>\n",
       "                        <td id=\"T_78c599c0_f39a_11eb_9317_ace2d369d7d9row8_col2\" class=\"data row8 col2\" >0.000000</td>\n",
       "                        <td id=\"T_78c599c0_f39a_11eb_9317_ace2d369d7d9row8_col3\" class=\"data row8 col3\" >0.000000</td>\n",
       "                        <td id=\"T_78c599c0_f39a_11eb_9317_ace2d369d7d9row8_col4\" class=\"data row8 col4\" >0.000000</td>\n",
       "                        <td id=\"T_78c599c0_f39a_11eb_9317_ace2d369d7d9row8_col5\" class=\"data row8 col5\" >1.000000</td>\n",
       "                        <td id=\"T_78c599c0_f39a_11eb_9317_ace2d369d7d9row8_col6\" class=\"data row8 col6\" >1.000000</td>\n",
       "            </tr>\n",
       "    </tbody></table>"
      ],
      "text/plain": [
       "<pandas.io.formats.style.Styler at 0x220b323f760>"
      ]
     },
     "execution_count": 148,
     "metadata": {},
     "output_type": "execute_result"
    }
   ],
   "source": [
    "diabetes.describe().T.drop(\"count\", axis=1).style.background_gradient(\n",
    "    subset=[\"mean\", \"50%\"], cmap=\"Reds\"\n",
    ")"
   ]
  },
  {
   "cell_type": "markdown",
   "metadata": {},
   "source": [
    "This feature comes especially handy when you are using `describe` on a table with many columns and want to compare summary statistics. Check out the documentation of the styler [here](https://pandas.pydata.org/docs/reference/style.html)."
   ]
  }
 ],
 "metadata": {
  "kernelspec": {
   "display_name": "medium_articles",
   "language": "python",
   "name": "medium_articles"
  },
  "language_info": {
   "codemirror_mode": {
    "name": "ipython",
    "version": 3
   },
   "file_extension": ".py",
   "mimetype": "text/x-python",
   "name": "python",
   "nbconvert_exporter": "python",
   "pygments_lexer": "ipython3",
   "version": "3.8.5"
  }
 },
 "nbformat": 4,
 "nbformat_minor": 4
}
