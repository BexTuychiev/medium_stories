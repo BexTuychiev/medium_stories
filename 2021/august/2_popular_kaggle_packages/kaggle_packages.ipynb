{
 "cells": [
  {
   "cell_type": "markdown",
   "metadata": {},
   "source": [
    "# 8 Coolest Python Packages Kagglers Are Using Without Telling You\n",
    "## Seriously, they are great\n",
    "![](images/pexels.jpg)\n",
    "<figcaption style=\"text-align: center;\">\n",
    "    <strong>\n",
    "        Photo by \n",
    "        <a href='https://www.pexels.com/@miphotography?utm_content=attributionCopyText&utm_medium=referral&utm_source=pexels'>Miesha Maiden</a>\n",
    "        on \n",
    "        <a href='https://www.pexels.com/photo/pineapple-with-brown-sunglasses-459601/?utm_content=attributionCopyText&utm_medium=referral&utm_source=pexels'>Pexels.</a> All images are by author unless specified otherwise.\n",
    "    </strong>\n",
    "</figcaption>"
   ]
  },
  {
   "cell_type": "markdown",
   "metadata": {},
   "source": [
    "## Introduction"
   ]
  },
  {
   "cell_type": "markdown",
   "metadata": {},
   "source": [
    "## 1. UMAP"
   ]
  },
  {
   "cell_type": "markdown",
   "metadata": {},
   "source": [
    "![](images/1.png)\n",
    "<figcaption style=\"text-align: center;\">\n",
    "    <strong>\n",
    "        <a href='https://www.kaggle.com/subinium/tps-jun-this-is-original-eda-viz/notebook?scriptVersionId=64865915&cellId=37'>Link to the code of the plot.</a>\n",
    "    </strong>\n",
    "</figcaption>"
   ]
  },
  {
   "cell_type": "markdown",
   "metadata": {},
   "source": [
    "Above is a 100k row dataset with 75 features projected to 2D using a package called UMAP. Each dot represents a single sample in a classification problem and is color-encoded based on their class. \n",
    "\n",
    "Massive datasets like these can make you miserable during EDA, mainly because of the computation and time expenses they come with. So, it is important that each plot you create is spot-on and reveals something significant about the data. \n",
    "\n",
    "I think that's one of the reasons why UMAP (Uniform Manifold Approximation and Projection) is so well-received on Kaggle. It is efficient, low-code and let's you take a real \"look\" at the data from a high-dimensional perspective:\n",
    "\n",
    "<p float=\"left\">\n",
    "  <img src=\"https://umap-learn.readthedocs.io/en/latest/_images/plotting_21_2.png\" width=\"250\" height=\"250\">\n",
    "  <img src=\"https://umap-learn.readthedocs.io/en/latest/_images/plotting_32_2.png\" width=\"250\" height=\"250\"> \n",
    "  <img src=\"https://umap-learn.readthedocs.io/en/latest/_images/plotting_34_2.png\" width=\"250\" height=\"250\">\n",
    "</p"
   ]
  },
  {
   "cell_type": "markdown",
   "metadata": {},
   "source": [
    "When I look at plots like these, they remind me of why I got into data science in the first place - data is beautiful!\n",
    "\n",
    "🛠 Github and documentation\n",
    "- https://umap-learn.readthedocs.io/en/latest/\n",
    "- https://github.com/lmcinnes/umap\n",
    "\n",
    "🔬 Papers\n",
    "- [UMAP: Uniform Manifold Approximation and Projection for Dimension Reduction](https://arxiv.org/abs/1802.03426)\n",
    "\n",
    "💻 Demo\n",
    "\n",
    "UMAP offers an easy, Sklearn-compatible API. After importing `UMAP` module, call its `fit` on the feature and target arrays (`X`, `y`) to project them to 2D by default:"
   ]
  },
  {
   "cell_type": "markdown",
   "metadata": {},
   "source": [
    "```python\n",
    "import umap  # pip install umap-learn\n",
    "\n",
    "# Create the mapper\n",
    "mapper = umap.UMAP()\n",
    "# Fit to the data\n",
    "mapper.fit(X, y)\n",
    "\n",
    "# Plot as a scatterplot\n",
    "umap.plot.points(mapper)\n",
    "```"
   ]
  },
  {
   "cell_type": "markdown",
   "metadata": {},
   "source": [
    "The most important parameters of `UMAP` estimator are `n_neighbors` and `min_dist` (minimum distance). Think of `n_neighbors` as a handle that controls the zoom level of the projects. `min_dist` is the minimum distance between each projected point.\n",
    "\n",
    "If you wish to project to a higher dimension, you can tweak `n_components` just like in  Sklearn's `PCA`."
   ]
  },
  {
   "cell_type": "markdown",
   "metadata": {},
   "source": [
    "## 2. Datatable"
   ]
  },
  {
   "cell_type": "markdown",
   "metadata": {},
   "source": [
    "![](images/5.png)"
   ]
  },
  {
   "cell_type": "markdown",
   "metadata": {},
   "source": [
    "As dataset sizes are getting bigger, people are paying more attention to out-of-memory, multi-threaded data preprocessing tools to escape the performance limitations of Pandas. \n",
    "\n",
    "One of the most promising tools in this regard is `datatable`, inspired by R's data.table package. It is developed by H2O.ai to support parallel-computing and out-of-memory operations on big data (up to 100 GB), as required by today's machine learning applications.\n",
    "\n",
    "While `datatable` does not have as large a suite of tabular manipulation functions as pandas, it is found to heavily outperform pandas on most common operations. In an [experiment](https://www.kaggle.com/rohanrao/tutorial-on-reading-large-datasets) done on a 100M row dataset, datatable manages to read the data into memory in just over a minute, 9 times faster than pandas."
   ]
  },
  {
   "cell_type": "markdown",
   "metadata": {},
   "source": [
    "### 🛠 Github and documentation\n",
    "- https://github.com/h2oai/datatable\n",
    "- https://datatable.readthedocs.io/en/latest/?badge=latest\n",
    "\n",
    "### 💻 Demo"
   ]
  },
  {
   "cell_type": "markdown",
   "metadata": {},
   "source": [
    "The main data structure in `datatable` is `Frame` (as in DataFrame). "
   ]
  },
  {
   "cell_type": "code",
   "execution_count": 4,
   "metadata": {},
   "outputs": [
    {
     "data": {
      "text/html": [
       "<div class='datatable'>\n",
       "  <table class='frame'>\n",
       "  <thead>\n",
       "    <tr class='colnames'><td class='row_index'></td><th>StationId</th><th>Date</th><th>PM2.5</th><th>PM10</th><th>NO</th><th>NO2</th><th>NOx</th><th>NH3</th><th>CO</th><th>SO2</th><th class='vellipsis'>&hellip;</th><th>Benzene</th><th>Toluene</th><th>Xylene</th><th>AQI</th><th>AQI_Bucket</th></tr>\n",
       "    <tr class='coltypes'><td class='row_index'></td><td class='str' title='str32'>&#x25AA;&#x25AA;&#x25AA;&#x25AA;</td><td class='time' title='date32'>&#x25AA;&#x25AA;&#x25AA;&#x25AA;</td><td class='float' title='float64'>&#x25AA;&#x25AA;&#x25AA;&#x25AA;&#x25AA;&#x25AA;&#x25AA;&#x25AA;</td><td class='float' title='float64'>&#x25AA;&#x25AA;&#x25AA;&#x25AA;&#x25AA;&#x25AA;&#x25AA;&#x25AA;</td><td class='float' title='float64'>&#x25AA;&#x25AA;&#x25AA;&#x25AA;&#x25AA;&#x25AA;&#x25AA;&#x25AA;</td><td class='float' title='float64'>&#x25AA;&#x25AA;&#x25AA;&#x25AA;&#x25AA;&#x25AA;&#x25AA;&#x25AA;</td><td class='float' title='float64'>&#x25AA;&#x25AA;&#x25AA;&#x25AA;&#x25AA;&#x25AA;&#x25AA;&#x25AA;</td><td class='float' title='float64'>&#x25AA;&#x25AA;&#x25AA;&#x25AA;&#x25AA;&#x25AA;&#x25AA;&#x25AA;</td><td class='float' title='float64'>&#x25AA;&#x25AA;&#x25AA;&#x25AA;&#x25AA;&#x25AA;&#x25AA;&#x25AA;</td><td class='float' title='float64'>&#x25AA;&#x25AA;&#x25AA;&#x25AA;&#x25AA;&#x25AA;&#x25AA;&#x25AA;</td><td></td><td class='float' title='float64'>&#x25AA;&#x25AA;&#x25AA;&#x25AA;&#x25AA;&#x25AA;&#x25AA;&#x25AA;</td><td class='float' title='float64'>&#x25AA;&#x25AA;&#x25AA;&#x25AA;&#x25AA;&#x25AA;&#x25AA;&#x25AA;</td><td class='float' title='float64'>&#x25AA;&#x25AA;&#x25AA;&#x25AA;&#x25AA;&#x25AA;&#x25AA;&#x25AA;</td><td class='float' title='float64'>&#x25AA;&#x25AA;&#x25AA;&#x25AA;&#x25AA;&#x25AA;&#x25AA;&#x25AA;</td><td class='str' title='str32'>&#x25AA;&#x25AA;&#x25AA;&#x25AA;</td></tr>\n",
       "  </thead>\n",
       "  <tbody>\n",
       "    <tr><td class='row_index'>0</td><td>AP001</td><td>2017-11-24</td><td>71.36</td><td>115.75</td><td>1.75</td><td>20.65</td><td>12.4</td><td>12.19</td><td>0.1</td><td>10.76</td><td class=vellipsis>&hellip;</td><td>0.17</td><td>5.92</td><td>0.1</td><td><span class=na>NA</span></td><td></td></tr>\n",
       "    <tr><td class='row_index'>1</td><td>AP001</td><td>2017-11-25</td><td>81.4</td><td>124.5</td><td>1.44</td><td>20.5</td><td>12.08</td><td>10.72</td><td>0.12</td><td>15.24</td><td class=vellipsis>&hellip;</td><td>0.2</td><td>6.5</td><td>0.06</td><td>184</td><td>Moderate</td></tr>\n",
       "    <tr><td class='row_index'>2</td><td>AP001</td><td>2017-11-26</td><td>78.32</td><td>129.06</td><td>1.26</td><td>26</td><td>14.85</td><td>10.28</td><td>0.14</td><td>26.96</td><td class=vellipsis>&hellip;</td><td>0.22</td><td>7.95</td><td>0.08</td><td>197</td><td>Moderate</td></tr>\n",
       "    <tr><td class='row_index'>3</td><td>AP001</td><td>2017-11-27</td><td>88.76</td><td>135.32</td><td>6.6</td><td>30.85</td><td>21.77</td><td>12.91</td><td>0.11</td><td>33.59</td><td class=vellipsis>&hellip;</td><td>0.29</td><td>7.63</td><td>0.12</td><td>198</td><td>Moderate</td></tr>\n",
       "    <tr><td class='row_index'>4</td><td>AP001</td><td>2017-11-28</td><td>64.18</td><td>104.09</td><td>2.56</td><td>28.07</td><td>17.01</td><td>11.42</td><td>0.09</td><td>19</td><td class=vellipsis>&hellip;</td><td>0.17</td><td>5.02</td><td>0.07</td><td>188</td><td>Moderate</td></tr>\n",
       "  </tbody>\n",
       "  </table>\n",
       "  <div class='footer'>\n",
       "    <div class='frame_dimensions'>5 rows &times; 16 columns</div>\n",
       "  </div>\n",
       "</div>\n"
      ],
      "text/plain": [
       "<Frame#1d484d14cf0 5x16>"
      ]
     },
     "execution_count": 4,
     "metadata": {},
     "output_type": "execute_result"
    }
   ],
   "source": [
    "import datatable as dt  # pip install datatable\n",
    "\n",
    "frame = dt.fread(\"data/station_day.csv\")\n",
    "frame.head(5)"
   ]
  },
  {
   "cell_type": "code",
   "execution_count": 5,
   "metadata": {},
   "outputs": [
    {
     "data": {
      "text/plain": [
       "datatable.Frame"
      ]
     },
     "execution_count": 5,
     "metadata": {},
     "output_type": "execute_result"
    }
   ],
   "source": [
    "type(frame)"
   ]
  },
  {
   "cell_type": "markdown",
   "metadata": {},
   "source": [
    "## 3. Lazypredict"
   ]
  },
  {
   "cell_type": "markdown",
   "metadata": {},
   "source": [
    "Lazypredict is one of the best one-liner packages I have ever seen.\n",
    "\n",
    "Using the library, you can train almost all Sklearn models plus XGBoost and LightGBM in a single line of code. It only has two estimators - one for regression and one for classification. Fitting either one on a dataset with a given target will evaluate more than 30 base models and generate a report with their rankings on a number of popular metrics.\n",
    "\n",
    "### 💻 Demo"
   ]
  },
  {
   "cell_type": "code",
   "execution_count": 11,
   "metadata": {},
   "outputs": [
    {
     "name": "stderr",
     "output_type": "stream",
     "text": [
      "100%|███████████████████████████████████████████████████████████████████████████████████████████████████████████████████████████| 42/42 [00:03<00:00, 13.08it/s]\n"
     ]
    }
   ],
   "source": [
    "from lazypredict.Supervised import (  # pip install lazypredict\n",
    "    LazyClassifier,\n",
    "    LazyRegressor,\n",
    ")\n",
    "from sklearn.datasets import load_boston\n",
    "from sklearn.model_selection import train_test_split\n",
    "\n",
    "# Load data and split\n",
    "X, y = load_boston(return_X_y=True)\n",
    "X_train, X_test, y_train, y_test = train_test_split(X, y, test_size=0.2)\n",
    "\n",
    "# Fit LazyRegressor\n",
    "reg = LazyRegressor(ignore_warnings=True, random_state=1121218, verbose=False)\n",
    "models, predictions = reg.fit(X_train, X_test, y_train, y_test)  # pass all sets"
   ]
  },
  {
   "cell_type": "code",
   "execution_count": 13,
   "metadata": {},
   "outputs": [
    {
     "data": {
      "text/html": [
       "<div>\n",
       "<style scoped>\n",
       "    .dataframe tbody tr th:only-of-type {\n",
       "        vertical-align: middle;\n",
       "    }\n",
       "\n",
       "    .dataframe tbody tr th {\n",
       "        vertical-align: top;\n",
       "    }\n",
       "\n",
       "    .dataframe thead th {\n",
       "        text-align: right;\n",
       "    }\n",
       "</style>\n",
       "<table border=\"1\" class=\"dataframe\">\n",
       "  <thead>\n",
       "    <tr style=\"text-align: right;\">\n",
       "      <th></th>\n",
       "      <th>Adjusted R-Squared</th>\n",
       "      <th>R-Squared</th>\n",
       "      <th>RMSE</th>\n",
       "      <th>Time Taken</th>\n",
       "    </tr>\n",
       "    <tr>\n",
       "      <th>Model</th>\n",
       "      <th></th>\n",
       "      <th></th>\n",
       "      <th></th>\n",
       "      <th></th>\n",
       "    </tr>\n",
       "  </thead>\n",
       "  <tbody>\n",
       "    <tr>\n",
       "      <th>XGBRegressor</th>\n",
       "      <td>0.90</td>\n",
       "      <td>0.91</td>\n",
       "      <td>2.95</td>\n",
       "      <td>0.09</td>\n",
       "    </tr>\n",
       "    <tr>\n",
       "      <th>GradientBoostingRegressor</th>\n",
       "      <td>0.89</td>\n",
       "      <td>0.90</td>\n",
       "      <td>3.08</td>\n",
       "      <td>0.13</td>\n",
       "    </tr>\n",
       "    <tr>\n",
       "      <th>RandomForestRegressor</th>\n",
       "      <td>0.88</td>\n",
       "      <td>0.90</td>\n",
       "      <td>3.15</td>\n",
       "      <td>0.35</td>\n",
       "    </tr>\n",
       "    <tr>\n",
       "      <th>ExtraTreesRegressor</th>\n",
       "      <td>0.88</td>\n",
       "      <td>0.89</td>\n",
       "      <td>3.23</td>\n",
       "      <td>0.21</td>\n",
       "    </tr>\n",
       "    <tr>\n",
       "      <th>AdaBoostRegressor</th>\n",
       "      <td>0.85</td>\n",
       "      <td>0.87</td>\n",
       "      <td>3.49</td>\n",
       "      <td>0.17</td>\n",
       "    </tr>\n",
       "    <tr>\n",
       "      <th>HistGradientBoostingRegressor</th>\n",
       "      <td>0.85</td>\n",
       "      <td>0.87</td>\n",
       "      <td>3.54</td>\n",
       "      <td>0.61</td>\n",
       "    </tr>\n",
       "    <tr>\n",
       "      <th>BaggingRegressor</th>\n",
       "      <td>0.85</td>\n",
       "      <td>0.87</td>\n",
       "      <td>3.55</td>\n",
       "      <td>0.07</td>\n",
       "    </tr>\n",
       "    <tr>\n",
       "      <th>LGBMRegressor</th>\n",
       "      <td>0.85</td>\n",
       "      <td>0.87</td>\n",
       "      <td>3.59</td>\n",
       "      <td>0.09</td>\n",
       "    </tr>\n",
       "    <tr>\n",
       "      <th>ExtraTreeRegressor</th>\n",
       "      <td>0.81</td>\n",
       "      <td>0.83</td>\n",
       "      <td>4.02</td>\n",
       "      <td>0.02</td>\n",
       "    </tr>\n",
       "    <tr>\n",
       "      <th>DecisionTreeRegressor</th>\n",
       "      <td>0.79</td>\n",
       "      <td>0.81</td>\n",
       "      <td>4.22</td>\n",
       "      <td>0.02</td>\n",
       "    </tr>\n",
       "  </tbody>\n",
       "</table>\n",
       "</div>"
      ],
      "text/plain": [
       "                               Adjusted R-Squared  R-Squared  RMSE  Time Taken\n",
       "Model                                                                         \n",
       "XGBRegressor                                 0.90       0.91  2.95        0.09\n",
       "GradientBoostingRegressor                    0.89       0.90  3.08        0.13\n",
       "RandomForestRegressor                        0.88       0.90  3.15        0.35\n",
       "ExtraTreesRegressor                          0.88       0.89  3.23        0.21\n",
       "AdaBoostRegressor                            0.85       0.87  3.49        0.17\n",
       "HistGradientBoostingRegressor                0.85       0.87  3.54        0.61\n",
       "BaggingRegressor                             0.85       0.87  3.55        0.07\n",
       "LGBMRegressor                                0.85       0.87  3.59        0.09\n",
       "ExtraTreeRegressor                           0.81       0.83  4.02        0.02\n",
       "DecisionTreeRegressor                        0.79       0.81  4.22        0.02"
      ]
     },
     "execution_count": 13,
     "metadata": {},
     "output_type": "execute_result"
    }
   ],
   "source": [
    "models.head(10)"
   ]
  },
  {
   "cell_type": "markdown",
   "metadata": {},
   "source": [
    "A table like this will free you from the manual task of selecting a base model, a time much better spent on tasks like feature engineering.\n",
    "\n",
    "## 🛠 Github and documentation\n",
    "- https://lazypredict.readthedocs.io/en/latest/index.html\n",
    "- https://github.com/shankarpandala/lazypredict"
   ]
  }
 ],
 "metadata": {
  "kernelspec": {
   "display_name": "medium_articles",
   "language": "python",
   "name": "medium_articles"
  },
  "language_info": {
   "codemirror_mode": {
    "name": "ipython",
    "version": 3
   },
   "file_extension": ".py",
   "mimetype": "text/x-python",
   "name": "python",
   "nbconvert_exporter": "python",
   "pygments_lexer": "ipython3",
   "version": "3.8.5"
  }
 },
 "nbformat": 4,
 "nbformat_minor": 4
}
