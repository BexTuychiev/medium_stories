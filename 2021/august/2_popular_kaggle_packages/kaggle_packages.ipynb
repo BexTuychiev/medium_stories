{
 "cells": [
  {
   "cell_type": "markdown",
   "metadata": {},
   "source": [
    "# 8 Coolest Python Packages Kagglers Are Using Without Telling You\n",
    "## Seriously, they are great\n",
    "![](images/pexels.jpg)\n",
    "<figcaption style=\"text-align: center;\">\n",
    "    <strong>\n",
    "        Photo by \n",
    "        <a href='https://www.pexels.com/@miphotography?utm_content=attributionCopyText&utm_medium=referral&utm_source=pexels'>Miesha Maiden</a>\n",
    "        on \n",
    "        <a href='https://www.pexels.com/photo/pineapple-with-brown-sunglasses-459601/?utm_content=attributionCopyText&utm_medium=referral&utm_source=pexels'>Pexels.</a> All images are by author unless specified otherwise.\n",
    "    </strong>\n",
    "</figcaption>"
   ]
  },
  {
   "cell_type": "markdown",
   "metadata": {},
   "source": [
    "## Setup"
   ]
  },
  {
   "cell_type": "code",
   "execution_count": null,
   "metadata": {},
   "outputs": [],
   "source": [
    "import warnings\n",
    "\n",
    "import matplotlib.pyplot as plt\n",
    "import numpy as np\n",
    "import optuna\n",
    "import pandas as pd\n",
    "import seaborn as sns\n",
    "\n",
    "warnings.filterwarnings(\"ignore\")\n",
    "optuna.logging.set_verbosity(optuna.logging.WARNING)"
   ]
  },
  {
   "cell_type": "markdown",
   "metadata": {},
   "source": [
    "## Introduction"
   ]
  },
  {
   "cell_type": "markdown",
   "metadata": {},
   "source": [
    "## 1️⃣. UMAP"
   ]
  },
  {
   "cell_type": "markdown",
   "metadata": {},
   "source": [
    "![](images/1.png)\n",
    "<figcaption style=\"text-align: center;\">\n",
    "    <strong>\n",
    "        <a href='https://www.kaggle.com/subinium/tps-jun-this-is-original-eda-viz/notebook?scriptVersionId=64865915&cellId=37'>Link to the code of the plot.</a>\n",
    "    </strong>\n",
    "</figcaption>"
   ]
  },
  {
   "cell_type": "markdown",
   "metadata": {},
   "source": [
    "Above is a 100k row dataset with 75 features projected to 2D using a package called UMAP. Each dot represents a single sample in a classification problem and is color-encoded based on their class. \n",
    "\n",
    "Massive datasets like these can make you miserable during EDA, mainly because of the computation and time expenses they come with. So, it is important that each plot you create is spot-on and reveals something significant about the data. \n",
    "\n",
    "I think that's one of the reasons why UMAP (Uniform Manifold Approximation and Projection) is so well-received on Kaggle. It is efficient, low-code and let's you take a real \"look\" at the data from a high-dimensional perspective:\n",
    "\n",
    "<p float=\"left\">\n",
    "  <img src=\"https://umap-learn.readthedocs.io/en/latest/_images/plotting_21_2.png\" width=\"250\" height=\"250\">\n",
    "  <img src=\"https://umap-learn.readthedocs.io/en/latest/_images/plotting_32_2.png\" width=\"250\" height=\"250\"> \n",
    "  <img src=\"https://umap-learn.readthedocs.io/en/latest/_images/plotting_34_2.png\" width=\"250\" height=\"250\">\n",
    "</p"
   ]
  },
  {
   "cell_type": "markdown",
   "metadata": {},
   "source": [
    "When I look at plots like these, they remind me of why I got into data science in the first place - data is beautiful!\n",
    "\n",
    "🛠 Github and documentation\n",
    "- https://umap-learn.readthedocs.io/en/latest/\n",
    "- https://github.com/lmcinnes/umap\n",
    "\n",
    "🔬 Papers\n",
    "- [UMAP: Uniform Manifold Approximation and Projection for Dimension Reduction](https://arxiv.org/abs/1802.03426)\n",
    "\n",
    "💻 Demo\n",
    "\n",
    "UMAP offers an easy, Sklearn-compatible API. After importing `UMAP` module, call its `fit` on the feature and target arrays (`X`, `y`) to project them to 2D by default:"
   ]
  },
  {
   "cell_type": "markdown",
   "metadata": {},
   "source": [
    "```python\n",
    "import umap  # pip install umap-learn\n",
    "\n",
    "# Create the mapper\n",
    "mapper = umap.UMAP()\n",
    "# Fit to the data\n",
    "mapper.fit(X, y)\n",
    "\n",
    "# Plot as a scatterplot\n",
    "umap.plot.points(mapper)\n",
    "```"
   ]
  },
  {
   "cell_type": "markdown",
   "metadata": {},
   "source": [
    "The most important parameters of `UMAP` estimator are `n_neighbors` and `min_dist` (minimum distance). Think of `n_neighbors` as a handle that controls the zoom level of the projects. `min_dist` is the minimum distance between each projected point.\n",
    "\n",
    "If you wish to project to a higher dimension, you can tweak `n_components` just like in  Sklearn's `PCA`."
   ]
  },
  {
   "cell_type": "markdown",
   "metadata": {},
   "source": [
    "## 2️⃣. Datatable"
   ]
  },
  {
   "cell_type": "markdown",
   "metadata": {},
   "source": [
    "![](images/5.png)"
   ]
  },
  {
   "cell_type": "markdown",
   "metadata": {},
   "source": [
    "As dataset sizes are getting bigger, people are paying more attention to out-of-memory, multi-threaded data preprocessing tools to escape the performance limitations of Pandas. \n",
    "\n",
    "One of the most promising tools in this regard is `datatable`, inspired by R's data.table package. It is developed by H2O.ai to support parallel-computing and out-of-memory operations on big data (up to 100 GB), as required by today's machine learning applications.\n",
    "\n",
    "While `datatable` does not have as large a suite of tabular manipulation functions as pandas, it is found to heavily outperform pandas on most common operations. In an [experiment](https://www.kaggle.com/rohanrao/tutorial-on-reading-large-datasets) done on a 100M row dataset, datatable manages to read the data into memory in just over a minute, 9 times faster than pandas."
   ]
  },
  {
   "cell_type": "markdown",
   "metadata": {},
   "source": [
    "### 🛠 Github and documentation\n",
    "- https://github.com/h2oai/datatable\n",
    "- https://datatable.readthedocs.io/en/latest/?badge=latest\n",
    "\n",
    "### 💻 Demo"
   ]
  },
  {
   "cell_type": "markdown",
   "metadata": {},
   "source": [
    "The main data structure in `datatable` is `Frame` (as in DataFrame). "
   ]
  },
  {
   "cell_type": "code",
   "execution_count": 4,
   "metadata": {},
   "outputs": [
    {
     "data": {
      "text/html": [
       "<div class='datatable'>\n",
       "  <table class='frame'>\n",
       "  <thead>\n",
       "    <tr class='colnames'><td class='row_index'></td><th>StationId</th><th>Date</th><th>PM2.5</th><th>PM10</th><th>NO</th><th>NO2</th><th>NOx</th><th>NH3</th><th>CO</th><th>SO2</th><th class='vellipsis'>&hellip;</th><th>Benzene</th><th>Toluene</th><th>Xylene</th><th>AQI</th><th>AQI_Bucket</th></tr>\n",
       "    <tr class='coltypes'><td class='row_index'></td><td class='str' title='str32'>&#x25AA;&#x25AA;&#x25AA;&#x25AA;</td><td class='time' title='date32'>&#x25AA;&#x25AA;&#x25AA;&#x25AA;</td><td class='float' title='float64'>&#x25AA;&#x25AA;&#x25AA;&#x25AA;&#x25AA;&#x25AA;&#x25AA;&#x25AA;</td><td class='float' title='float64'>&#x25AA;&#x25AA;&#x25AA;&#x25AA;&#x25AA;&#x25AA;&#x25AA;&#x25AA;</td><td class='float' title='float64'>&#x25AA;&#x25AA;&#x25AA;&#x25AA;&#x25AA;&#x25AA;&#x25AA;&#x25AA;</td><td class='float' title='float64'>&#x25AA;&#x25AA;&#x25AA;&#x25AA;&#x25AA;&#x25AA;&#x25AA;&#x25AA;</td><td class='float' title='float64'>&#x25AA;&#x25AA;&#x25AA;&#x25AA;&#x25AA;&#x25AA;&#x25AA;&#x25AA;</td><td class='float' title='float64'>&#x25AA;&#x25AA;&#x25AA;&#x25AA;&#x25AA;&#x25AA;&#x25AA;&#x25AA;</td><td class='float' title='float64'>&#x25AA;&#x25AA;&#x25AA;&#x25AA;&#x25AA;&#x25AA;&#x25AA;&#x25AA;</td><td class='float' title='float64'>&#x25AA;&#x25AA;&#x25AA;&#x25AA;&#x25AA;&#x25AA;&#x25AA;&#x25AA;</td><td></td><td class='float' title='float64'>&#x25AA;&#x25AA;&#x25AA;&#x25AA;&#x25AA;&#x25AA;&#x25AA;&#x25AA;</td><td class='float' title='float64'>&#x25AA;&#x25AA;&#x25AA;&#x25AA;&#x25AA;&#x25AA;&#x25AA;&#x25AA;</td><td class='float' title='float64'>&#x25AA;&#x25AA;&#x25AA;&#x25AA;&#x25AA;&#x25AA;&#x25AA;&#x25AA;</td><td class='float' title='float64'>&#x25AA;&#x25AA;&#x25AA;&#x25AA;&#x25AA;&#x25AA;&#x25AA;&#x25AA;</td><td class='str' title='str32'>&#x25AA;&#x25AA;&#x25AA;&#x25AA;</td></tr>\n",
       "  </thead>\n",
       "  <tbody>\n",
       "    <tr><td class='row_index'>0</td><td>AP001</td><td>2017-11-24</td><td>71.36</td><td>115.75</td><td>1.75</td><td>20.65</td><td>12.4</td><td>12.19</td><td>0.1</td><td>10.76</td><td class=vellipsis>&hellip;</td><td>0.17</td><td>5.92</td><td>0.1</td><td><span class=na>NA</span></td><td></td></tr>\n",
       "    <tr><td class='row_index'>1</td><td>AP001</td><td>2017-11-25</td><td>81.4</td><td>124.5</td><td>1.44</td><td>20.5</td><td>12.08</td><td>10.72</td><td>0.12</td><td>15.24</td><td class=vellipsis>&hellip;</td><td>0.2</td><td>6.5</td><td>0.06</td><td>184</td><td>Moderate</td></tr>\n",
       "    <tr><td class='row_index'>2</td><td>AP001</td><td>2017-11-26</td><td>78.32</td><td>129.06</td><td>1.26</td><td>26</td><td>14.85</td><td>10.28</td><td>0.14</td><td>26.96</td><td class=vellipsis>&hellip;</td><td>0.22</td><td>7.95</td><td>0.08</td><td>197</td><td>Moderate</td></tr>\n",
       "    <tr><td class='row_index'>3</td><td>AP001</td><td>2017-11-27</td><td>88.76</td><td>135.32</td><td>6.6</td><td>30.85</td><td>21.77</td><td>12.91</td><td>0.11</td><td>33.59</td><td class=vellipsis>&hellip;</td><td>0.29</td><td>7.63</td><td>0.12</td><td>198</td><td>Moderate</td></tr>\n",
       "    <tr><td class='row_index'>4</td><td>AP001</td><td>2017-11-28</td><td>64.18</td><td>104.09</td><td>2.56</td><td>28.07</td><td>17.01</td><td>11.42</td><td>0.09</td><td>19</td><td class=vellipsis>&hellip;</td><td>0.17</td><td>5.02</td><td>0.07</td><td>188</td><td>Moderate</td></tr>\n",
       "  </tbody>\n",
       "  </table>\n",
       "  <div class='footer'>\n",
       "    <div class='frame_dimensions'>5 rows &times; 16 columns</div>\n",
       "  </div>\n",
       "</div>\n"
      ],
      "text/plain": [
       "<Frame#1d484d14cf0 5x16>"
      ]
     },
     "execution_count": 4,
     "metadata": {},
     "output_type": "execute_result"
    }
   ],
   "source": [
    "import datatable as dt  # pip install datatable\n",
    "\n",
    "frame = dt.fread(\"data/station_day.csv\")\n",
    "frame.head(5)"
   ]
  },
  {
   "cell_type": "code",
   "execution_count": 5,
   "metadata": {},
   "outputs": [
    {
     "data": {
      "text/plain": [
       "datatable.Frame"
      ]
     },
     "execution_count": 5,
     "metadata": {},
     "output_type": "execute_result"
    }
   ],
   "source": [
    "type(frame)"
   ]
  },
  {
   "cell_type": "markdown",
   "metadata": {},
   "source": [
    "## 3️⃣. Lazypredict"
   ]
  },
  {
   "cell_type": "markdown",
   "metadata": {},
   "source": [
    "Lazypredict is one of the best one-liner packages I have ever seen.\n",
    "\n",
    "Using the library, you can train almost all Sklearn models plus XGBoost and LightGBM in a single line of code. It only has two estimators - one for regression and one for classification. Fitting either one on a dataset with a given target will evaluate more than 30 base models and generate a report with their rankings on a number of popular metrics.\n",
    "\n",
    "### 💻 Demo"
   ]
  },
  {
   "cell_type": "code",
   "execution_count": 11,
   "metadata": {},
   "outputs": [
    {
     "name": "stderr",
     "output_type": "stream",
     "text": [
      "100%|███████████████████████████████████████████████████████████████████████████████████████████████████████████████████████████| 42/42 [00:03<00:00, 13.08it/s]\n"
     ]
    }
   ],
   "source": [
    "from lazypredict.Supervised import (  # pip install lazypredict\n",
    "    LazyClassifier,\n",
    "    LazyRegressor,\n",
    ")\n",
    "from sklearn.datasets import load_boston\n",
    "from sklearn.model_selection import train_test_split\n",
    "\n",
    "# Load data and split\n",
    "X, y = load_boston(return_X_y=True)\n",
    "X_train, X_test, y_train, y_test = train_test_split(X, y, test_size=0.2)\n",
    "\n",
    "# Fit LazyRegressor\n",
    "reg = LazyRegressor(ignore_warnings=True, random_state=1121218, verbose=False)\n",
    "models, predictions = reg.fit(X_train, X_test, y_train, y_test)  # pass all sets"
   ]
  },
  {
   "cell_type": "code",
   "execution_count": 13,
   "metadata": {},
   "outputs": [
    {
     "data": {
      "text/html": [
       "<div>\n",
       "<style scoped>\n",
       "    .dataframe tbody tr th:only-of-type {\n",
       "        vertical-align: middle;\n",
       "    }\n",
       "\n",
       "    .dataframe tbody tr th {\n",
       "        vertical-align: top;\n",
       "    }\n",
       "\n",
       "    .dataframe thead th {\n",
       "        text-align: right;\n",
       "    }\n",
       "</style>\n",
       "<table border=\"1\" class=\"dataframe\">\n",
       "  <thead>\n",
       "    <tr style=\"text-align: right;\">\n",
       "      <th></th>\n",
       "      <th>Adjusted R-Squared</th>\n",
       "      <th>R-Squared</th>\n",
       "      <th>RMSE</th>\n",
       "      <th>Time Taken</th>\n",
       "    </tr>\n",
       "    <tr>\n",
       "      <th>Model</th>\n",
       "      <th></th>\n",
       "      <th></th>\n",
       "      <th></th>\n",
       "      <th></th>\n",
       "    </tr>\n",
       "  </thead>\n",
       "  <tbody>\n",
       "    <tr>\n",
       "      <th>XGBRegressor</th>\n",
       "      <td>0.90</td>\n",
       "      <td>0.91</td>\n",
       "      <td>2.95</td>\n",
       "      <td>0.09</td>\n",
       "    </tr>\n",
       "    <tr>\n",
       "      <th>GradientBoostingRegressor</th>\n",
       "      <td>0.89</td>\n",
       "      <td>0.90</td>\n",
       "      <td>3.08</td>\n",
       "      <td>0.13</td>\n",
       "    </tr>\n",
       "    <tr>\n",
       "      <th>RandomForestRegressor</th>\n",
       "      <td>0.88</td>\n",
       "      <td>0.90</td>\n",
       "      <td>3.15</td>\n",
       "      <td>0.35</td>\n",
       "    </tr>\n",
       "    <tr>\n",
       "      <th>ExtraTreesRegressor</th>\n",
       "      <td>0.88</td>\n",
       "      <td>0.89</td>\n",
       "      <td>3.23</td>\n",
       "      <td>0.21</td>\n",
       "    </tr>\n",
       "    <tr>\n",
       "      <th>AdaBoostRegressor</th>\n",
       "      <td>0.85</td>\n",
       "      <td>0.87</td>\n",
       "      <td>3.49</td>\n",
       "      <td>0.17</td>\n",
       "    </tr>\n",
       "    <tr>\n",
       "      <th>HistGradientBoostingRegressor</th>\n",
       "      <td>0.85</td>\n",
       "      <td>0.87</td>\n",
       "      <td>3.54</td>\n",
       "      <td>0.61</td>\n",
       "    </tr>\n",
       "    <tr>\n",
       "      <th>BaggingRegressor</th>\n",
       "      <td>0.85</td>\n",
       "      <td>0.87</td>\n",
       "      <td>3.55</td>\n",
       "      <td>0.07</td>\n",
       "    </tr>\n",
       "    <tr>\n",
       "      <th>LGBMRegressor</th>\n",
       "      <td>0.85</td>\n",
       "      <td>0.87</td>\n",
       "      <td>3.59</td>\n",
       "      <td>0.09</td>\n",
       "    </tr>\n",
       "    <tr>\n",
       "      <th>ExtraTreeRegressor</th>\n",
       "      <td>0.81</td>\n",
       "      <td>0.83</td>\n",
       "      <td>4.02</td>\n",
       "      <td>0.02</td>\n",
       "    </tr>\n",
       "    <tr>\n",
       "      <th>DecisionTreeRegressor</th>\n",
       "      <td>0.79</td>\n",
       "      <td>0.81</td>\n",
       "      <td>4.22</td>\n",
       "      <td>0.02</td>\n",
       "    </tr>\n",
       "  </tbody>\n",
       "</table>\n",
       "</div>"
      ],
      "text/plain": [
       "                               Adjusted R-Squared  R-Squared  RMSE  Time Taken\n",
       "Model                                                                         \n",
       "XGBRegressor                                 0.90       0.91  2.95        0.09\n",
       "GradientBoostingRegressor                    0.89       0.90  3.08        0.13\n",
       "RandomForestRegressor                        0.88       0.90  3.15        0.35\n",
       "ExtraTreesRegressor                          0.88       0.89  3.23        0.21\n",
       "AdaBoostRegressor                            0.85       0.87  3.49        0.17\n",
       "HistGradientBoostingRegressor                0.85       0.87  3.54        0.61\n",
       "BaggingRegressor                             0.85       0.87  3.55        0.07\n",
       "LGBMRegressor                                0.85       0.87  3.59        0.09\n",
       "ExtraTreeRegressor                           0.81       0.83  4.02        0.02\n",
       "DecisionTreeRegressor                        0.79       0.81  4.22        0.02"
      ]
     },
     "execution_count": 13,
     "metadata": {},
     "output_type": "execute_result"
    }
   ],
   "source": [
    "models.head(10)"
   ]
  },
  {
   "cell_type": "markdown",
   "metadata": {},
   "source": [
    "A table like this will free you from the manual task of selecting a base model, a time much better spent on tasks like feature engineering.\n",
    "\n",
    "### 🛠 Github and documentation\n",
    "- https://lazypredict.readthedocs.io/en/latest/index.html\n",
    "- https://github.com/shankarpandala/lazypredict"
   ]
  },
  {
   "cell_type": "markdown",
   "metadata": {},
   "source": [
    "## 4️⃣. Optuna"
   ]
  },
  {
   "cell_type": "markdown",
   "metadata": {},
   "source": [
    "![](https://miro.medium.com/max/1400/0*IBkpkOCS0anhUHWp.png)"
   ]
  },
  {
   "cell_type": "markdown",
   "metadata": {},
   "source": [
    "One of the more recent libraries I have added to my skill-stack is Kagglers' favorite - Optuna. \n",
    "\n",
    "Optuna is a next-generation automatic hyperparameter tuning framework, designed to work on virtually any model and neural network available in today's ML and Deep learning packages. \n",
    "\n",
    "It offers several advantages over similar tools like GridSearch, TPOT, HyperOPT, etc:\n",
    "- Platform-agnostic: has APIs to work with any framework, including XGBoost, LightGBM, CatBoost, Sklearn, Keras, TensorFlow, PyTorch, etc.\n",
    "- A large suite of optimization algorithms with early stopping and pruning features baked in\n",
    "- Easy parallelization with little or no changes to the code\n",
    "- Built in support to visually explore tuning history and the importance of each hyperparameter.\n",
    "\n",
    "My most favorite feature is its ability to pause/resume/save search histories. Optuna keeps track of all previous rounds of tuning and you can resume the search for however long you want until you get the performance you want. \n",
    "\n",
    "Besides, you can make Optuna RAM-independent for massive datasets and searching by storing results in a local or a remote database by just adding an extra parameter.\n",
    "\n",
    "### 🛠 Github and documentation\n",
    "- https://github.com/optuna/optuna\n",
    "- https://optuna.readthedocs.io/en/stable/\n",
    "\n",
    "### 🔬 Papers\n",
    "- [Optuna: A Next-generation Hyperparameter Optimization Framework](https://arxiv.org/abs/1907.10902)\n",
    "\n",
    "### 💻 Demo"
   ]
  },
  {
   "cell_type": "code",
   "execution_count": 16,
   "metadata": {},
   "outputs": [
    {
     "name": "stderr",
     "output_type": "stream",
     "text": [
      "\u001b[32m[I 2021-08-05 17:00:58,948]\u001b[0m A new study created in memory with name: no-name-e42a8b2d-395c-4859-aee4-009fc462453d\u001b[0m\n",
      "\u001b[32m[I 2021-08-05 17:00:58,951]\u001b[0m Trial 0 finished with value: 96.98038155604101 and parameters: {'x': 1.3813072644079387, 'y': 6.840476935908683}. Best is trial 0 with value: 96.98038155604101.\u001b[0m\n",
      "\u001b[32m[I 2021-08-05 17:00:58,953]\u001b[0m Trial 1 finished with value: 3.950690932180003 and parameters: {'x': 2.853574558327045, 'y': -3.7176017620537887}. Best is trial 1 with value: 3.950690932180003.\u001b[0m\n",
      "\u001b[32m[I 2021-08-05 17:00:58,955]\u001b[0m Trial 2 finished with value: 18.174361233669117 and parameters: {'x': 3.866378810808227, 'y': 0.15566692580486574}. Best is trial 1 with value: 3.950690932180003.\u001b[0m\n",
      "\u001b[32m[I 2021-08-05 17:00:58,955]\u001b[0m Trial 3 finished with value: 104.68880750024934 and parameters: {'x': -4.014968135417397, 'y': 5.918458504752797}. Best is trial 1 with value: 3.950690932180003.\u001b[0m\n",
      "\u001b[32m[I 2021-08-05 17:00:58,963]\u001b[0m Trial 4 finished with value: 15.986384481206256 and parameters: {'x': 4.654958184383229, 'y': -4.621007449586924}. Best is trial 1 with value: 3.950690932180003.\u001b[0m\n",
      "\u001b[32m[I 2021-08-05 17:00:58,963]\u001b[0m Trial 5 finished with value: 54.375446287180324 and parameters: {'x': 5.261784849271576, 'y': 3.0176935935372757}. Best is trial 1 with value: 3.950690932180003.\u001b[0m\n",
      "\u001b[32m[I 2021-08-05 17:00:58,971]\u001b[0m Trial 6 finished with value: 67.27409640340494 and parameters: {'x': -5.889409704359437, 'y': 1.450857257751922}. Best is trial 1 with value: 3.950690932180003.\u001b[0m\n",
      "\u001b[32m[I 2021-08-05 17:00:58,971]\u001b[0m Trial 7 finished with value: 41.52460303508346 and parameters: {'x': 6.180337842580169, 'y': -6.832584359386665}. Best is trial 1 with value: 3.950690932180003.\u001b[0m\n",
      "\u001b[32m[I 2021-08-05 17:00:58,979]\u001b[0m Trial 8 finished with value: 35.544488033877336 and parameters: {'x': -4.849735293620974, 'y': -1.8488766232751246}. Best is trial 1 with value: 3.950690932180003.\u001b[0m\n",
      "\u001b[32m[I 2021-08-05 17:00:58,979]\u001b[0m Trial 9 finished with value: 74.82554270362331 and parameters: {'x': 2.803929320303755, 'y': 5.459987098747359}. Best is trial 1 with value: 3.950690932180003.\u001b[0m\n",
      "\u001b[32m[I 2021-08-05 17:00:58,999]\u001b[0m Trial 10 finished with value: 2.1140303684478976 and parameters: {'x': -0.34447510751725074, 'y': -3.553549504303251}. Best is trial 10 with value: 2.1140303684478976.\u001b[0m\n",
      "\u001b[32m[I 2021-08-05 17:00:59,015]\u001b[0m Trial 11 finished with value: 6.458714456844176 and parameters: {'x': -1.4978027540360752, 'y': -3.468717248214714}. Best is trial 10 with value: 2.1140303684478976.\u001b[0m\n",
      "\u001b[32m[I 2021-08-05 17:00:59,023]\u001b[0m Trial 12 finished with value: 16.254713197373473 and parameters: {'x': -0.5795400298509017, 'y': -6.709415923224583}. Best is trial 10 with value: 2.1140303684478976.\u001b[0m\n",
      "\u001b[32m[I 2021-08-05 17:00:59,039]\u001b[0m Trial 13 finished with value: 14.911846866859033 and parameters: {'x': -2.7487038051435797, 'y': -3.926858483351735}. Best is trial 10 with value: 2.1140303684478976.\u001b[0m\n",
      "\u001b[32m[I 2021-08-05 17:00:59,047]\u001b[0m Trial 14 finished with value: 1.4395120947760174 and parameters: {'x': 1.1807335203678915, 'y': -1.8138939805432879}. Best is trial 14 with value: 1.4395120947760174.\u001b[0m\n",
      "\u001b[32m[I 2021-08-05 17:00:59,063]\u001b[0m Trial 15 finished with value: 2.8748099686942474 and parameters: {'x': 0.9191070480205843, 'y': -1.3064043283551108}. Best is trial 14 with value: 1.4395120947760174.\u001b[0m\n",
      "\u001b[32m[I 2021-08-05 17:00:59,071]\u001b[0m Trial 16 finished with value: 9.14501543815428 and parameters: {'x': -1.7863669157295432, 'y': -1.824766044958659}. Best is trial 14 with value: 1.4395120947760174.\u001b[0m\n",
      "\u001b[32m[I 2021-08-05 17:00:59,087]\u001b[0m Trial 17 finished with value: 10.107015094693852 and parameters: {'x': 0.3209944108334044, 'y': -6.105795631488713}. Best is trial 14 with value: 1.4395120947760174.\u001b[0m\n",
      "\u001b[32m[I 2021-08-05 17:00:59,095]\u001b[0m Trial 18 finished with value: 10.471522922976073 and parameters: {'x': 1.7798870143282268, 'y': 0.1405889842286394}. Best is trial 14 with value: 1.4395120947760174.\u001b[0m\n",
      "\u001b[32m[I 2021-08-05 17:00:59,111]\u001b[0m Trial 19 finished with value: 30.86818685345261 and parameters: {'x': -0.7318851279849554, 'y': 2.2790871139731292}. Best is trial 14 with value: 1.4395120947760174.\u001b[0m\n",
      "\u001b[32m[I 2021-08-05 17:00:59,119]\u001b[0m Trial 20 finished with value: 19.01256660327289 and parameters: {'x': -2.765540708817712, 'y': -5.198469870957865}. Best is trial 14 with value: 1.4395120947760174.\u001b[0m\n",
      "\u001b[32m[I 2021-08-05 17:00:59,139]\u001b[0m Trial 21 finished with value: 0.8688044165180495 and parameters: {'x': 0.8069791813146788, 'y': -2.0881078023844606}. Best is trial 21 with value: 0.8688044165180495.\u001b[0m\n",
      "\u001b[32m[I 2021-08-05 17:00:59,148]\u001b[0m Trial 22 finished with value: 1.6175041182517698 and parameters: {'x': 2.251706207298731, 'y': -2.7747541590581615}. Best is trial 21 with value: 0.8688044165180495.\u001b[0m\n",
      "\u001b[32m[I 2021-08-05 17:00:59,164]\u001b[0m Trial 23 finished with value: 2.8346407708312324 and parameters: {'x': 2.551363723447307, 'y': -2.3458506528299985}. Best is trial 21 with value: 0.8688044165180495.\u001b[0m\n",
      "\u001b[32m[I 2021-08-05 17:00:59,172]\u001b[0m Trial 24 finished with value: 5.543074099552492 and parameters: {'x': 1.635133961709927, 'y': -0.732913995845075}. Best is trial 21 with value: 0.8688044165180495.\u001b[0m\n",
      "\u001b[32m[I 2021-08-05 17:00:59,188]\u001b[0m Trial 25 finished with value: 7.517591875536642 and parameters: {'x': 3.709726568829156, 'y': -2.581701305622393}. Best is trial 21 with value: 0.8688044165180495.\u001b[0m\n",
      "\u001b[32m[I 2021-08-05 17:00:59,196]\u001b[0m Trial 26 finished with value: 51.68365832307907 and parameters: {'x': 6.888605401051585, 'y': 1.1240738055695818}. Best is trial 21 with value: 0.8688044165180495.\u001b[0m\n",
      "\u001b[32m[I 2021-08-05 17:00:59,212]\u001b[0m Trial 27 finished with value: 5.615197102255894 and parameters: {'x': 0.31431518226265054, 'y': -0.731733385825116}. Best is trial 21 with value: 0.8688044165180495.\u001b[0m\n",
      "\u001b[32m[I 2021-08-05 17:00:59,220]\u001b[0m Trial 28 finished with value: 1.9079241720541102 and parameters: {'x': 2.3653498549825085, 'y': -2.790849466762924}. Best is trial 21 with value: 0.8688044165180495.\u001b[0m\n",
      "\u001b[32m[I 2021-08-05 17:00:59,236]\u001b[0m Trial 29 finished with value: 3.9735411071673514 and parameters: {'x': 0.7629766907296744, 'y': -4.979232441637388}. Best is trial 21 with value: 0.8688044165180495.\u001b[0m\n",
      "\u001b[32m[I 2021-08-05 17:00:59,252]\u001b[0m Trial 30 finished with value: 6.786240435758205 and parameters: {'x': 1.4933273194995709, 'y': -0.4420968369397613}. Best is trial 21 with value: 0.8688044165180495.\u001b[0m\n",
      "\u001b[32m[I 2021-08-05 17:00:59,268]\u001b[0m Trial 31 finished with value: 1.884966339507362 and parameters: {'x': 2.3710600758547233, 'y': -3.071837371225584}. Best is trial 21 with value: 0.8688044165180495.\u001b[0m\n",
      "\u001b[32m[I 2021-08-05 17:00:59,284]\u001b[0m Trial 32 finished with value: 6.672069028237211 and parameters: {'x': 3.5783588936413526, 'y': -2.844647356579453}. Best is trial 21 with value: 0.8688044165180495.\u001b[0m\n",
      "\u001b[32m[I 2021-08-05 17:00:59,300]\u001b[0m Trial 33 finished with value: 3.1083105703135185 and parameters: {'x': 2.2091418902020328, 'y': -4.283076950019824}. Best is trial 21 with value: 0.8688044165180495.\u001b[0m\n",
      "\u001b[32m[I 2021-08-05 17:00:59,308]\u001b[0m Trial 34 finished with value: 7.742063790091441 and parameters: {'x': 3.3414675302118884, 'y': -1.4968055365140276}. Best is trial 21 with value: 0.8688044165180495.\u001b[0m\n",
      "\u001b[32m[I 2021-08-05 17:00:59,316]\u001b[0m Trial 35 finished with value: 20.131712707986697 and parameters: {'x': 4.460993380902671, 'y': -5.855387456254333}. Best is trial 21 with value: 0.8688044165180495.\u001b[0m\n",
      "\u001b[32m[I 2021-08-05 17:00:59,332]\u001b[0m Trial 36 finished with value: 0.12920761030368882 and parameters: {'x': 0.7648391277142319, 'y': -3.2718583720422925}. Best is trial 36 with value: 0.12920761030368882.\u001b[0m\n",
      "\u001b[32m[I 2021-08-05 17:00:59,348]\u001b[0m Trial 37 finished with value: 13.083122958226948 and parameters: {'x': 0.8624963907668084, 'y': 0.614445422976365}. Best is trial 36 with value: 0.12920761030368882.\u001b[0m\n",
      "\u001b[32m[I 2021-08-05 17:00:59,356]\u001b[0m Trial 38 finished with value: 6.896882579238747 and parameters: {'x': -1.4546406534608987, 'y': -2.0663931011309957}. Best is trial 36 with value: 0.12920761030368882.\u001b[0m\n",
      "\u001b[32m[I 2021-08-05 17:00:59,372]\u001b[0m Trial 39 finished with value: 16.39520018611387 and parameters: {'x': 4.87834356301577, 'y': -4.163465252307953}. Best is trial 36 with value: 0.12920761030368882.\u001b[0m\n",
      "\u001b[32m[I 2021-08-05 17:00:59,380]\u001b[0m Trial 40 finished with value: 3.3885919280660417 and parameters: {'x': 1.1094415159209454, 'y': -1.162443338925581}. Best is trial 36 with value: 0.12920761030368882.\u001b[0m\n",
      "\u001b[32m[I 2021-08-05 17:00:59,389]\u001b[0m Trial 41 finished with value: 3.6925446905931487 and parameters: {'x': 2.9214286914125367, 'y': -3.025621756572402}. Best is trial 36 with value: 0.12920761030368882.\u001b[0m\n",
      "\u001b[32m[I 2021-08-05 17:00:59,405]\u001b[0m Trial 42 finished with value: 1.0158807269299546 and parameters: {'x': 1.923546527542968, 'y': -3.403661415536933}. Best is trial 36 with value: 0.12920761030368882.\u001b[0m\n",
      "\u001b[32m[I 2021-08-05 17:00:59,413]\u001b[0m Trial 43 finished with value: 1.3142197575662642 and parameters: {'x': 0.004882560294520832, 'y': -3.5691757538408293}. Best is trial 36 with value: 0.12920761030368882.\u001b[0m\n",
      "\u001b[32m[I 2021-08-05 17:00:59,429]\u001b[0m Trial 44 finished with value: 4.23843943402612 and parameters: {'x': -0.046948612829032794, 'y': -4.772664106964848}. Best is trial 36 with value: 0.12920761030368882.\u001b[0m\n",
      "\u001b[32m[I 2021-08-05 17:00:59,437]\u001b[0m Trial 45 finished with value: 2.6824272364969803 and parameters: {'x': -0.5405782752297448, 'y': -3.555918891914212}. Best is trial 36 with value: 0.12920761030368882.\u001b[0m\n",
      "\u001b[32m[I 2021-08-05 17:00:59,451]\u001b[0m Trial 46 finished with value: 10.217151451007323 and parameters: {'x': -1.2101614041281454, 'y': -5.309185574766486}. Best is trial 36 with value: 0.12920761030368882.\u001b[0m\n",
      "\u001b[32m[I 2021-08-05 17:00:59,467]\u001b[0m Trial 47 finished with value: 12.230799210833167 and parameters: {'x': -2.381793296961927, 'y': -2.1087798771029984}. Best is trial 36 with value: 0.12920761030368882.\u001b[0m\n",
      "\u001b[32m[I 2021-08-05 17:00:59,483]\u001b[0m Trial 48 finished with value: 0.9823675447594372 and parameters: {'x': 0.3662713641654162, 'y': -3.7620731991630953}. Best is trial 36 with value: 0.12920761030368882.\u001b[0m\n",
      "\u001b[32m[I 2021-08-05 17:00:59,491]\u001b[0m Trial 49 finished with value: 2.6780233746540354 and parameters: {'x': 0.18527676786509217, 'y': -4.419242554912191}. Best is trial 36 with value: 0.12920761030368882.\u001b[0m\n",
      "\u001b[32m[I 2021-08-05 17:00:59,507]\u001b[0m Trial 50 finished with value: 28.870817076938877 and parameters: {'x': -3.6562820732472874, 'y': -5.681390372790732}. Best is trial 36 with value: 0.12920761030368882.\u001b[0m\n",
      "\u001b[32m[I 2021-08-05 17:00:59,515]\u001b[0m Trial 51 finished with value: 0.4316901752015913 and parameters: {'x': 0.5787710832726802, 'y': -3.5042384107883096}. Best is trial 36 with value: 0.12920761030368882.\u001b[0m\n",
      "\u001b[32m[I 2021-08-05 17:00:59,531]\u001b[0m Trial 52 finished with value: 0.5532899682413661 and parameters: {'x': 0.6442148084784389, 'y': -3.6532280350194197}. Best is trial 36 with value: 0.12920761030368882.\u001b[0m\n",
      "\u001b[32m[I 2021-08-05 17:00:59,547]\u001b[0m Trial 53 finished with value: 2.113001843894842 and parameters: {'x': 1.767438095540082, 'y': -4.234520398133888}. Best is trial 36 with value: 0.12920761030368882.\u001b[0m\n",
      "\u001b[32m[I 2021-08-05 17:00:59,563]\u001b[0m Trial 54 finished with value: 0.4152977844105302 and parameters: {'x': 0.4923786243431026, 'y': -3.397011742127017}. Best is trial 36 with value: 0.12920761030368882.\u001b[0m\n",
      "\u001b[32m[I 2021-08-05 17:00:59,571]\u001b[0m Trial 55 finished with value: 16.703132953528463 and parameters: {'x': -0.8189130740257988, 'y': -6.659875432670692}. Best is trial 36 with value: 0.12920761030368882.\u001b[0m\n",
      "\u001b[32m[I 2021-08-05 17:00:59,587]\u001b[0m Trial 56 finished with value: 0.6440665062356189 and parameters: {'x': 0.6418776165558929, 'y': -3.718202523465304}. Best is trial 36 with value: 0.12920761030368882.\u001b[0m\n",
      "\u001b[32m[I 2021-08-05 17:00:59,603]\u001b[0m Trial 57 finished with value: 3.6235832491134485 and parameters: {'x': 0.6176640914325982, 'y': -4.864779478151073}. Best is trial 36 with value: 0.12920761030368882.\u001b[0m\n",
      "\u001b[32m[I 2021-08-05 17:00:59,611]\u001b[0m Trial 58 finished with value: 61.078955680545974 and parameters: {'x': -0.9540217921499623, 'y': 4.567083620282587}. Best is trial 36 with value: 0.12920761030368882.\u001b[0m\n",
      "\u001b[32m[I 2021-08-05 17:00:59,627]\u001b[0m Trial 59 finished with value: 8.979199745619182 and parameters: {'x': -1.9460935449502543, 'y': -2.4525216259781333}. Best is trial 36 with value: 0.12920761030368882.\u001b[0m\n",
      "\u001b[32m[I 2021-08-05 17:00:59,643]\u001b[0m Trial 60 finished with value: 3.973193030182044 and parameters: {'x': -0.18637940016713417, 'y': -1.3982206927790848}. Best is trial 36 with value: 0.12920761030368882.\u001b[0m\n",
      "\u001b[32m[I 2021-08-05 17:00:59,651]\u001b[0m Trial 61 finished with value: 1.0250630836894077 and parameters: {'x': 1.2744515346651806, 'y': -3.9745457602438865}. Best is trial 36 with value: 0.12920761030368882.\u001b[0m\n",
      "\u001b[32m[I 2021-08-05 17:00:59,667]\u001b[0m Trial 62 finished with value: 1.0036491212391898 and parameters: {'x': 0.48835542807720284, 'y': -3.861318148689047}. Best is trial 36 with value: 0.12920761030368882.\u001b[0m\n",
      "\u001b[32m[I 2021-08-05 17:00:59,683]\u001b[0m Trial 63 finished with value: 61.95442065419344 and parameters: {'x': -6.867523050091298, 'y': -3.2377008844652515}. Best is trial 36 with value: 0.12920761030368882.\u001b[0m\n",
      "\u001b[32m[I 2021-08-05 17:00:59,699]\u001b[0m Trial 64 finished with value: 2.4893071183015243 and parameters: {'x': -0.40051974063061213, 'y': -3.726533945803971}. Best is trial 36 with value: 0.12920761030368882.\u001b[0m\n",
      "\u001b[32m[I 2021-08-05 17:00:59,707]\u001b[0m Trial 65 finished with value: 5.38450605829648 and parameters: {'x': 0.8470574267029883, 'y': -5.3154080909355415}. Best is trial 36 with value: 0.12920761030368882.\u001b[0m\n",
      "\u001b[32m[I 2021-08-05 17:00:59,723]\u001b[0m Trial 66 finished with value: 0.45943131645664603 and parameters: {'x': 1.361432047249536, 'y': -2.426590729341027}. Best is trial 36 with value: 0.12920761030368882.\u001b[0m\n",
      "\u001b[32m[I 2021-08-05 17:00:59,733]\u001b[0m Trial 67 finished with value: 0.5243842180930104 and parameters: {'x': 1.328417005229344, 'y': -2.354611366098535}. Best is trial 36 with value: 0.12920761030368882.\u001b[0m\n",
      "\u001b[32m[I 2021-08-05 17:00:59,749]\u001b[0m Trial 68 finished with value: 3.578154408951522 and parameters: {'x': 2.8105962685833425, 'y': -2.4523727899897607}. Best is trial 36 with value: 0.12920761030368882.\u001b[0m\n",
      "\u001b[32m[I 2021-08-05 17:00:59,757]\u001b[0m Trial 69 finished with value: 2.6640041952100244 and parameters: {'x': 1.3948591990376977, 'y': -4.583695175261115}. Best is trial 36 with value: 0.12920761030368882.\u001b[0m\n",
      "\u001b[32m[I 2021-08-05 17:00:59,773]\u001b[0m Trial 70 finished with value: 6.482517503053712 and parameters: {'x': 3.1507031464170896, 'y': -1.6372845201417343}. Best is trial 36 with value: 0.12920761030368882.\u001b[0m\n",
      "\u001b[32m[I 2021-08-05 17:00:59,789]\u001b[0m Trial 71 finished with value: 1.5135145909989172 and parameters: {'x': 1.8988861468296818, 'y': -2.1600486406722084}. Best is trial 36 with value: 0.12920761030368882.\u001b[0m\n",
      "\u001b[32m[I 2021-08-05 17:00:59,797]\u001b[0m Trial 72 finished with value: 4.385103365445198 and parameters: {'x': 1.1722417541753827, 'y': -0.9130318297674531}. Best is trial 36 with value: 0.12920761030368882.\u001b[0m\n",
      "\u001b[32m[I 2021-08-05 17:00:59,805]\u001b[0m Trial 73 finished with value: 8.12158711812864 and parameters: {'x': 0.584396647060626, 'y': -0.180627557211678}. Best is trial 36 with value: 0.12920761030368882.\u001b[0m\n",
      "\u001b[32m[I 2021-08-05 17:00:59,821]\u001b[0m Trial 74 finished with value: 0.3639722945852052 and parameters: {'x': 1.5748982834793248, 'y': -3.182932387066181}. Best is trial 36 with value: 0.12920761030368882.\u001b[0m\n",
      "\u001b[32m[I 2021-08-05 17:00:59,829]\u001b[0m Trial 75 finished with value: 1.1736225283703938 and parameters: {'x': 2.0830214037904313, 'y': -2.9737861238616388}. Best is trial 36 with value: 0.12920761030368882.\u001b[0m\n",
      "\u001b[32m[I 2021-08-05 17:00:59,845]\u001b[0m Trial 76 finished with value: 0.5060389756645478 and parameters: {'x': 1.651296521582413, 'y': -3.2860975648956092}. Best is trial 36 with value: 0.12920761030368882.\u001b[0m\n",
      "\u001b[32m[I 2021-08-05 17:00:59,853]\u001b[0m Trial 77 finished with value: 0.34209300848272556 and parameters: {'x': 1.5064603290665806, 'y': -2.707440700772482}. Best is trial 36 with value: 0.12920761030368882.\u001b[0m\n",
      "\u001b[32m[I 2021-08-05 17:00:59,869]\u001b[0m Trial 78 finished with value: 2.956469181466856 and parameters: {'x': 2.6971542426799435, 'y': -2.724071280906964}. Best is trial 36 with value: 0.12920761030368882.\u001b[0m\n",
      "\u001b[32m[I 2021-08-05 17:00:59,877]\u001b[0m Trial 79 finished with value: 0.37703978771033175 and parameters: {'x': 1.5727990850135378, 'y': -3.2212261194298395}. Best is trial 36 with value: 0.12920761030368882.\u001b[0m\n",
      "\u001b[32m[I 2021-08-05 17:00:59,893]\u001b[0m Trial 80 finished with value: 0.3477300960667503 and parameters: {'x': 1.529095831342618, 'y': -3.2603607061801267}. Best is trial 36 with value: 0.12920761030368882.\u001b[0m\n",
      "\u001b[32m[I 2021-08-05 17:00:59,909]\u001b[0m Trial 81 finished with value: 0.3608291580399426 and parameters: {'x': 1.599356021209286, 'y': -2.959981030996334}. Best is trial 36 with value: 0.12920761030368882.\u001b[0m\n",
      "\u001b[32m[I 2021-08-05 17:00:59,925]\u001b[0m Trial 82 finished with value: 2.7770948407188722 and parameters: {'x': 2.182437860387349, 'y': -1.825719136219337}. Best is trial 36 with value: 0.12920761030368882.\u001b[0m\n",
      "\u001b[32m[I 2021-08-05 17:00:59,965]\u001b[0m Trial 83 finished with value: 0.3185971732558527 and parameters: {'x': 1.5058117827391864, 'y': -3.250502721937425}. Best is trial 36 with value: 0.12920761030368882.\u001b[0m\n",
      "\u001b[32m[I 2021-08-05 17:00:59,973]\u001b[0m Trial 84 finished with value: 9.93334005376893 and parameters: {'x': 4.148078127707275, 'y': -3.151473283518874}. Best is trial 36 with value: 0.12920761030368882.\u001b[0m\n",
      "\u001b[32m[I 2021-08-05 17:00:59,992]\u001b[0m Trial 85 finished with value: 3.6107246668619504 and parameters: {'x': 2.492076546497097, 'y': -4.17661898941639}. Best is trial 36 with value: 0.12920761030368882.\u001b[0m\n",
      "\u001b[32m[I 2021-08-05 17:01:00,002]\u001b[0m Trial 86 finished with value: 0.5712896058600826 and parameters: {'x': 1.738293952574125, 'y': -2.838099890510975}. Best is trial 36 with value: 0.12920761030368882.\u001b[0m\n",
      "\u001b[32m[I 2021-08-05 17:01:00,018]\u001b[0m Trial 87 finished with value: 0.14652603915723442 and parameters: {'x': 0.9671942311847409, 'y': -3.3813788414289316}. Best is trial 36 with value: 0.12920761030368882.\u001b[0m\n",
      "\u001b[32m[I 2021-08-05 17:01:00,034]\u001b[0m Trial 88 finished with value: 1.2461220452202992 and parameters: {'x': 0.9888287117287557, 'y': -4.116242468077012}. Best is trial 36 with value: 0.12920761030368882.\u001b[0m\n",
      "\u001b[32m[I 2021-08-05 17:01:00,050]\u001b[0m Trial 89 finished with value: 1.1302264030257552 and parameters: {'x': -0.04719237894502881, 'y': -3.183342642353617}. Best is trial 36 with value: 0.12920761030368882.\u001b[0m\n",
      "\u001b[32m[I 2021-08-05 17:01:00,058]\u001b[0m Trial 90 finished with value: 7.329660447132566 and parameters: {'x': 3.2950441314971575, 'y': -4.436117293821443}. Best is trial 36 with value: 0.12920761030368882.\u001b[0m\n",
      "\u001b[32m[I 2021-08-05 17:01:00,074]\u001b[0m Trial 91 finished with value: 0.8920549922433352 and parameters: {'x': 0.12568327400610457, 'y': -3.3572467703012174}. Best is trial 36 with value: 0.12920761030368882.\u001b[0m\n",
      "\u001b[32m[I 2021-08-05 17:01:00,082]\u001b[0m Trial 92 finished with value: 1.220475497319101 and parameters: {'x': 2.019751592669025, 'y': -2.5750503717284974}. Best is trial 36 with value: 0.12920761030368882.\u001b[0m\n",
      "\u001b[32m[I 2021-08-05 17:01:00,098]\u001b[0m Trial 93 finished with value: 2.744762128668234 and parameters: {'x': 1.0274735833764894, 'y': -4.6565045520265524}. Best is trial 36 with value: 0.12920761030368882.\u001b[0m\n",
      "\u001b[32m[I 2021-08-05 17:01:00,106]\u001b[0m Trial 94 finished with value: 2.0951713955985314 and parameters: {'x': 2.4471697449018306, 'y': -2.970485172551713}. Best is trial 36 with value: 0.12920761030368882.\u001b[0m\n",
      "\u001b[32m[I 2021-08-05 17:01:00,124]\u001b[0m Trial 95 finished with value: 0.5533920461520467 and parameters: {'x': 0.3481778598983012, 'y': -3.3584967835633788}. Best is trial 36 with value: 0.12920761030368882.\u001b[0m\n",
      "\u001b[32m[I 2021-08-05 17:01:00,132]\u001b[0m Trial 96 finished with value: 1.3069363433178123 and parameters: {'x': 1.582041713238741, 'y': -2.0160468571278796}. Best is trial 36 with value: 0.12920761030368882.\u001b[0m\n",
      "\u001b[32m[I 2021-08-05 17:01:00,148]\u001b[0m Trial 97 finished with value: 5.944788194379697 and parameters: {'x': -0.36926200586439606, 'y': -5.0174017333381835}. Best is trial 36 with value: 0.12920761030368882.\u001b[0m\n",
      "\u001b[32m[I 2021-08-05 17:01:00,164]\u001b[0m Trial 98 finished with value: 0.8967717555398229 and parameters: {'x': 1.0548549742791262, 'y': -3.94539023018892}. Best is trial 36 with value: 0.12920761030368882.\u001b[0m\n",
      "\u001b[32m[I 2021-08-05 17:01:00,180]\u001b[0m Trial 99 finished with value: 4.296182655281926 and parameters: {'x': 2.9819056288530166, 'y': -3.6068218301961914}. Best is trial 36 with value: 0.12920761030368882.\u001b[0m\n"
     ]
    },
    {
     "data": {
      "text/plain": [
       "{'x': 0.7648391277142319, 'y': -3.2718583720422925}"
      ]
     },
     "execution_count": 16,
     "metadata": {},
     "output_type": "execute_result"
    }
   ],
   "source": [
    "import optuna  # pip install optuna\n",
    "\n",
    "\n",
    "def objective(trial):\n",
    "    x = trial.suggest_float(\"x\", -7, 7)\n",
    "    y = trial.suggest_float(\"y\", -7, 7)\n",
    "    return (x - 1) ** 2 + (y + 3) ** 2\n",
    "\n",
    "\n",
    "study = optuna.create_study()\n",
    "study.optimize(objective, n_trials=100)  # number of iterations\n",
    "\n",
    "study.best_params"
   ]
  },
  {
   "cell_type": "code",
   "execution_count": null,
   "metadata": {},
   "outputs": [],
   "source": []
  }
 ],
 "metadata": {
  "kernelspec": {
   "display_name": "medium_articles",
   "language": "python",
   "name": "medium_articles"
  },
  "language_info": {
   "codemirror_mode": {
    "name": "ipython",
    "version": 3
   },
   "file_extension": ".py",
   "mimetype": "text/x-python",
   "name": "python",
   "nbconvert_exporter": "python",
   "pygments_lexer": "ipython3",
   "version": "3.8.5"
  }
 },
 "nbformat": 4,
 "nbformat_minor": 4
}
