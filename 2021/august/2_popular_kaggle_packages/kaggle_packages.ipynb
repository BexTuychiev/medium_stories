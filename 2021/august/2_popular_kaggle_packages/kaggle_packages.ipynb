{
 "cells": [
  {
   "cell_type": "markdown",
   "metadata": {},
   "source": [
    "# 9 Coolest Python Packages Kagglers Are Using Without Telling You\n",
    "## Seriously, they are great\n",
    "![](images/pexels.jpg)\n",
    "<figcaption style=\"text-align: center;\">\n",
    "    <strong>\n",
    "        Photo by \n",
    "        <a href='https://www.pexels.com/@miphotography?utm_content=attributionCopyText&utm_medium=referral&utm_source=pexels'>Miesha Maiden</a>\n",
    "        on \n",
    "        <a href='https://www.pexels.com/photo/pineapple-with-brown-sunglasses-459601/?utm_content=attributionCopyText&utm_medium=referral&utm_source=pexels'>Pexels.</a> All images are by author unless specified otherwise.\n",
    "    </strong>\n",
    "</figcaption>"
   ]
  },
  {
   "cell_type": "markdown",
   "metadata": {},
   "source": [
    "## Introduction"
   ]
  },
  {
   "cell_type": "markdown",
   "metadata": {},
   "source": [
    "## 1. UMAP"
   ]
  },
  {
   "cell_type": "markdown",
   "metadata": {},
   "source": [
    "![](images/1.png)\n",
    "<figcaption style=\"text-align: center;\">\n",
    "    <strong>\n",
    "        <a href='https://www.kaggle.com/subinium/tps-jun-this-is-original-eda-viz/notebook?scriptVersionId=64865915&cellId=37'>Link to the code of the plot.</a>\n",
    "    </strong>\n",
    "</figcaption>"
   ]
  },
  {
   "cell_type": "markdown",
   "metadata": {},
   "source": [
    "Above is a 100k row dataset with 75 features projected to 2D using a package called UMAP. Each dot represents a single sample in a classification problem and is color-encoded based on their class. \n",
    "\n",
    "Massive datasets like these can make you miserable during EDA, mainly because of the computation and time expenses they come with. So, it is important that each plot you create is spot-on and reveals something significant about the data. \n",
    "\n",
    "I think that's one of the reasons why UMAP (Uniform Manifold Approximation and Projection) is so well-received on Kaggle. It is efficient, low-code and let's you take a real \"look\" at the data from a high-dimensional perspective:\n",
    "\n",
    "<p float=\"left\">\n",
    "  <img src=\"https://umap-learn.readthedocs.io/en/latest/_images/plotting_21_2.png\" width=\"250\" height=\"250\">\n",
    "  <img src=\"https://umap-learn.readthedocs.io/en/latest/_images/plotting_32_2.png\" width=\"250\" height=\"250\"> \n",
    "  <img src=\"https://umap-learn.readthedocs.io/en/latest/_images/plotting_34_2.png\" width=\"250\" height=\"250\">\n",
    "</p"
   ]
  },
  {
   "cell_type": "markdown",
   "metadata": {},
   "source": [
    "When I look at plots like these, they remind me of why I got into data science in the first place - data is beautiful!\n",
    "\n",
    "🛠 Github and documentation\n",
    "- https://umap-learn.readthedocs.io/en/latest/\n",
    "- https://github.com/lmcinnes/umap\n",
    "\n",
    "🔬 Papers\n",
    "- [UMAP: Uniform Manifold Approximation and Projection for Dimension Reduction](https://arxiv.org/abs/1802.03426)\n",
    "\n",
    "💻 Demo\n",
    "\n",
    "UMAP offers an easy, Sklearn-compatible API. After importing `UMAP` module, call its `fit` on the feature and target arrays (`X`, `y`) to project them to 2D by default:"
   ]
  },
  {
   "cell_type": "markdown",
   "metadata": {},
   "source": [
    "```python\n",
    "import umap  # pip install umap-learn\n",
    "\n",
    "# Create the mapper\n",
    "mapper = umap.UMAP()\n",
    "# Fit to the data\n",
    "mapper.fit(X, y)\n",
    "\n",
    "# Plot as a scatterplot\n",
    "umap.plot.points(mapper)\n",
    "```"
   ]
  },
  {
   "cell_type": "markdown",
   "metadata": {},
   "source": [
    "The most important parameters of `UMAP` estimator are `n_neighbors` and `min_dist` (minimum distance). Think of `n_neighbors` as a handle that controls the zoom level of the projects. `min_dist` is the minimum distance between each projected point.\n",
    "\n",
    "If you wish to project to a higher dimension, you can tweak `n_components` just like in  Sklearn's `PCA`."
   ]
  }
 ],
 "metadata": {
  "kernelspec": {
   "display_name": "medium_articles",
   "language": "python",
   "name": "medium_articles"
  },
  "language_info": {
   "codemirror_mode": {
    "name": "ipython",
    "version": 3
   },
   "file_extension": ".py",
   "mimetype": "text/x-python",
   "name": "python",
   "nbconvert_exporter": "python",
   "pygments_lexer": "ipython3",
   "version": "3.8.5"
  }
 },
 "nbformat": 4,
 "nbformat_minor": 4
}
