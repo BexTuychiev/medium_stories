{
 "cells": [
  {
   "cell_type": "markdown",
   "metadata": {},
   "source": [
    "# 8 Coolest Python Packages Kagglers Are Using Without Telling You\n",
    "## Seriously, they are great\n",
    "![](images/pexels.jpg)\n",
    "<figcaption style=\"text-align: center;\">\n",
    "    <strong>\n",
    "        Photo by \n",
    "        <a href='https://www.pexels.com/@miphotography?utm_content=attributionCopyText&utm_medium=referral&utm_source=pexels'>Miesha Maiden</a>\n",
    "        on \n",
    "        <a href='https://www.pexels.com/photo/pineapple-with-brown-sunglasses-459601/?utm_content=attributionCopyText&utm_medium=referral&utm_source=pexels'>Pexels.</a> All images are by author unless specified otherwise.\n",
    "    </strong>\n",
    "</figcaption>"
   ]
  },
  {
   "cell_type": "markdown",
   "metadata": {},
   "source": [
    "## Setup"
   ]
  },
  {
   "cell_type": "code",
   "execution_count": 18,
   "metadata": {},
   "outputs": [],
   "source": [
    "import warnings\n",
    "\n",
    "import matplotlib.pyplot as plt\n",
    "import numpy as np\n",
    "import optuna\n",
    "import pandas as pd\n",
    "import seaborn as sns\n",
    "\n",
    "warnings.filterwarnings(\"ignore\")\n",
    "optuna.logging.set_verbosity(optuna.logging.WARNING)"
   ]
  },
  {
   "cell_type": "markdown",
   "metadata": {},
   "source": [
    "## Introduction"
   ]
  },
  {
   "cell_type": "markdown",
   "metadata": {},
   "source": [
    "## 1️⃣. UMAP"
   ]
  },
  {
   "cell_type": "markdown",
   "metadata": {},
   "source": [
    "![](images/1.png)\n",
    "<figcaption style=\"text-align: center;\">\n",
    "    <strong>\n",
    "        <a href='https://www.kaggle.com/subinium/tps-jun-this-is-original-eda-viz/notebook?scriptVersionId=64865915&cellId=37'>Link to the code of the plot.</a>\n",
    "    </strong>\n",
    "</figcaption>"
   ]
  },
  {
   "cell_type": "markdown",
   "metadata": {},
   "source": [
    "Above is a 100k row dataset with 75 features projected to 2D using a package called UMAP. Each dot represents a single sample in a classification problem and is color-encoded based on their class. \n",
    "\n",
    "Massive datasets like these can make you miserable during EDA, mainly because of the computation and time expenses they come with. So, it is important that each plot you create is spot-on and reveals something significant about the data. \n",
    "\n",
    "I think that's one of the reasons why UMAP (Uniform Manifold Approximation and Projection) is so well-received on Kaggle. It is efficient, low-code and let's you take a real \"look\" at the data from a high-dimensional perspective:\n",
    "\n",
    "<p float=\"left\">\n",
    "  <img src=\"https://umap-learn.readthedocs.io/en/latest/_images/plotting_21_2.png\" width=\"250\" height=\"250\">\n",
    "  <img src=\"https://umap-learn.readthedocs.io/en/latest/_images/plotting_32_2.png\" width=\"250\" height=\"250\"> \n",
    "  <img src=\"https://umap-learn.readthedocs.io/en/latest/_images/plotting_34_2.png\" width=\"250\" height=\"250\">\n",
    "</p"
   ]
  },
  {
   "cell_type": "markdown",
   "metadata": {},
   "source": [
    "When I look at plots like these, they remind me of why I got into data science in the first place - data is beautiful!\n",
    "\n",
    "### 🛠 GitHub and documentation\n",
    "- https://umap-learn.readthedocs.io/en/latest/\n",
    "- https://github.com/lmcinnes/umap\n",
    "\n",
    "### 🔬 Papers\n",
    "- [UMAP: Uniform Manifold Approximation and Projection for Dimension Reduction](https://arxiv.org/abs/1802.03426)\n",
    "\n",
    "### 💻 Demo\n",
    "\n",
    "UMAP offers an easy, Sklearn-compatible API. After importing `UMAP` module, call its `fit` on the feature and target arrays (`X`, `y`) to project them to 2D by default:"
   ]
  },
  {
   "cell_type": "markdown",
   "metadata": {},
   "source": [
    "```python\n",
    "import umap  # pip install umap-learn\n",
    "\n",
    "# Create the mapper\n",
    "mapper = umap.UMAP()\n",
    "# Fit to the data\n",
    "mapper.fit(X, y)\n",
    "\n",
    "# Plot as a scatterplot\n",
    "umap.plot.points(mapper)\n",
    "```"
   ]
  },
  {
   "cell_type": "markdown",
   "metadata": {},
   "source": [
    "The most important parameters of `UMAP` estimator are `n_neighbors` and `min_dist` (minimum distance). Think of `n_neighbors` as a handle that controls the zoom level of the projects. `min_dist` is the minimum distance between each projected point.\n",
    "\n",
    "If you wish to project to a higher dimension, you can tweak `n_components` just like in  Sklearn's `PCA`."
   ]
  },
  {
   "cell_type": "markdown",
   "metadata": {},
   "source": [
    "## 2️⃣. Datatable"
   ]
  },
  {
   "cell_type": "markdown",
   "metadata": {},
   "source": [
    "![](images/5.png)"
   ]
  },
  {
   "cell_type": "markdown",
   "metadata": {},
   "source": [
    "As dataset sizes are getting bigger, people are paying more attention to out-of-memory, multi-threaded data preprocessing tools to escape the performance limitations of Pandas. \n",
    "\n",
    "One of the most promising tools in this regard is `datatable`, inspired by R's data.table package. It is developed by H2O.ai to support parallel-computing and out-of-memory operations on big data (up to 100 GB), as required by today's machine learning applications.\n",
    "\n",
    "While `datatable` does not have as large a suite of tabular manipulation functions as pandas, it is found to heavily outperform pandas on most common operations. In an [experiment](https://www.kaggle.com/rohanrao/tutorial-on-reading-large-datasets) done on a 100M row dataset, datatable manages to read the data into memory in just over a minute, 9 times faster than pandas."
   ]
  },
  {
   "cell_type": "markdown",
   "metadata": {},
   "source": [
    "### 🛠 GitHub and documentation\n",
    "- https://github.com/h2oai/datatable\n",
    "- https://datatable.readthedocs.io/en/latest/?badge=latest\n",
    "\n",
    "### 💻 Demo"
   ]
  },
  {
   "cell_type": "markdown",
   "metadata": {},
   "source": [
    "The main data structure in `datatable` is `Frame` (as in DataFrame). "
   ]
  },
  {
   "cell_type": "code",
   "execution_count": 4,
   "metadata": {},
   "outputs": [
    {
     "data": {
      "text/html": [
       "<div class='datatable'>\n",
       "  <table class='frame'>\n",
       "  <thead>\n",
       "    <tr class='colnames'><td class='row_index'></td><th>StationId</th><th>Date</th><th>PM2.5</th><th>PM10</th><th>NO</th><th>NO2</th><th>NOx</th><th>NH3</th><th>CO</th><th>SO2</th><th class='vellipsis'>&hellip;</th><th>Benzene</th><th>Toluene</th><th>Xylene</th><th>AQI</th><th>AQI_Bucket</th></tr>\n",
       "    <tr class='coltypes'><td class='row_index'></td><td class='str' title='str32'>&#x25AA;&#x25AA;&#x25AA;&#x25AA;</td><td class='time' title='date32'>&#x25AA;&#x25AA;&#x25AA;&#x25AA;</td><td class='float' title='float64'>&#x25AA;&#x25AA;&#x25AA;&#x25AA;&#x25AA;&#x25AA;&#x25AA;&#x25AA;</td><td class='float' title='float64'>&#x25AA;&#x25AA;&#x25AA;&#x25AA;&#x25AA;&#x25AA;&#x25AA;&#x25AA;</td><td class='float' title='float64'>&#x25AA;&#x25AA;&#x25AA;&#x25AA;&#x25AA;&#x25AA;&#x25AA;&#x25AA;</td><td class='float' title='float64'>&#x25AA;&#x25AA;&#x25AA;&#x25AA;&#x25AA;&#x25AA;&#x25AA;&#x25AA;</td><td class='float' title='float64'>&#x25AA;&#x25AA;&#x25AA;&#x25AA;&#x25AA;&#x25AA;&#x25AA;&#x25AA;</td><td class='float' title='float64'>&#x25AA;&#x25AA;&#x25AA;&#x25AA;&#x25AA;&#x25AA;&#x25AA;&#x25AA;</td><td class='float' title='float64'>&#x25AA;&#x25AA;&#x25AA;&#x25AA;&#x25AA;&#x25AA;&#x25AA;&#x25AA;</td><td class='float' title='float64'>&#x25AA;&#x25AA;&#x25AA;&#x25AA;&#x25AA;&#x25AA;&#x25AA;&#x25AA;</td><td></td><td class='float' title='float64'>&#x25AA;&#x25AA;&#x25AA;&#x25AA;&#x25AA;&#x25AA;&#x25AA;&#x25AA;</td><td class='float' title='float64'>&#x25AA;&#x25AA;&#x25AA;&#x25AA;&#x25AA;&#x25AA;&#x25AA;&#x25AA;</td><td class='float' title='float64'>&#x25AA;&#x25AA;&#x25AA;&#x25AA;&#x25AA;&#x25AA;&#x25AA;&#x25AA;</td><td class='float' title='float64'>&#x25AA;&#x25AA;&#x25AA;&#x25AA;&#x25AA;&#x25AA;&#x25AA;&#x25AA;</td><td class='str' title='str32'>&#x25AA;&#x25AA;&#x25AA;&#x25AA;</td></tr>\n",
       "  </thead>\n",
       "  <tbody>\n",
       "    <tr><td class='row_index'>0</td><td>AP001</td><td>2017-11-24</td><td>71.36</td><td>115.75</td><td>1.75</td><td>20.65</td><td>12.4</td><td>12.19</td><td>0.1</td><td>10.76</td><td class=vellipsis>&hellip;</td><td>0.17</td><td>5.92</td><td>0.1</td><td><span class=na>NA</span></td><td></td></tr>\n",
       "    <tr><td class='row_index'>1</td><td>AP001</td><td>2017-11-25</td><td>81.4</td><td>124.5</td><td>1.44</td><td>20.5</td><td>12.08</td><td>10.72</td><td>0.12</td><td>15.24</td><td class=vellipsis>&hellip;</td><td>0.2</td><td>6.5</td><td>0.06</td><td>184</td><td>Moderate</td></tr>\n",
       "    <tr><td class='row_index'>2</td><td>AP001</td><td>2017-11-26</td><td>78.32</td><td>129.06</td><td>1.26</td><td>26</td><td>14.85</td><td>10.28</td><td>0.14</td><td>26.96</td><td class=vellipsis>&hellip;</td><td>0.22</td><td>7.95</td><td>0.08</td><td>197</td><td>Moderate</td></tr>\n",
       "    <tr><td class='row_index'>3</td><td>AP001</td><td>2017-11-27</td><td>88.76</td><td>135.32</td><td>6.6</td><td>30.85</td><td>21.77</td><td>12.91</td><td>0.11</td><td>33.59</td><td class=vellipsis>&hellip;</td><td>0.29</td><td>7.63</td><td>0.12</td><td>198</td><td>Moderate</td></tr>\n",
       "    <tr><td class='row_index'>4</td><td>AP001</td><td>2017-11-28</td><td>64.18</td><td>104.09</td><td>2.56</td><td>28.07</td><td>17.01</td><td>11.42</td><td>0.09</td><td>19</td><td class=vellipsis>&hellip;</td><td>0.17</td><td>5.02</td><td>0.07</td><td>188</td><td>Moderate</td></tr>\n",
       "  </tbody>\n",
       "  </table>\n",
       "  <div class='footer'>\n",
       "    <div class='frame_dimensions'>5 rows &times; 16 columns</div>\n",
       "  </div>\n",
       "</div>\n"
      ],
      "text/plain": [
       "<Frame#1d484d14cf0 5x16>"
      ]
     },
     "execution_count": 4,
     "metadata": {},
     "output_type": "execute_result"
    }
   ],
   "source": [
    "import datatable as dt  # pip install datatable\n",
    "\n",
    "frame = dt.fread(\"data/station_day.csv\")\n",
    "frame.head(5)"
   ]
  },
  {
   "cell_type": "code",
   "execution_count": 5,
   "metadata": {},
   "outputs": [
    {
     "data": {
      "text/plain": [
       "datatable.Frame"
      ]
     },
     "execution_count": 5,
     "metadata": {},
     "output_type": "execute_result"
    }
   ],
   "source": [
    "type(frame)"
   ]
  },
  {
   "cell_type": "markdown",
   "metadata": {},
   "source": [
    "## 3️⃣. Lazypredict"
   ]
  },
  {
   "cell_type": "markdown",
   "metadata": {},
   "source": [
    "Lazypredict is one of the best one-liner packages I have ever seen.\n",
    "\n",
    "Using the library, you can train almost all Sklearn models plus XGBoost and LightGBM in a single line of code. It only has two estimators - one for regression and one for classification. Fitting either one on a dataset with a given target will evaluate more than 30 base models and generate a report with their rankings on a number of popular metrics.\n",
    "\n",
    "### 💻 Demo"
   ]
  },
  {
   "cell_type": "code",
   "execution_count": 11,
   "metadata": {},
   "outputs": [
    {
     "name": "stderr",
     "output_type": "stream",
     "text": [
      "100%|███████████████████████████████████████████████████████████████████████████████████████████████████████████████████████████| 42/42 [00:03<00:00, 13.08it/s]\n"
     ]
    }
   ],
   "source": [
    "from lazypredict.Supervised import (  # pip install lazypredict\n",
    "    LazyClassifier,\n",
    "    LazyRegressor,\n",
    ")\n",
    "from sklearn.datasets import load_boston\n",
    "from sklearn.model_selection import train_test_split\n",
    "\n",
    "# Load data and split\n",
    "X, y = load_boston(return_X_y=True)\n",
    "X_train, X_test, y_train, y_test = train_test_split(X, y, test_size=0.2)\n",
    "\n",
    "# Fit LazyRegressor\n",
    "reg = LazyRegressor(ignore_warnings=True, random_state=1121218, verbose=False)\n",
    "models, predictions = reg.fit(X_train, X_test, y_train, y_test)  # pass all sets"
   ]
  },
  {
   "cell_type": "code",
   "execution_count": 13,
   "metadata": {},
   "outputs": [
    {
     "data": {
      "text/html": [
       "<div>\n",
       "<style scoped>\n",
       "    .dataframe tbody tr th:only-of-type {\n",
       "        vertical-align: middle;\n",
       "    }\n",
       "\n",
       "    .dataframe tbody tr th {\n",
       "        vertical-align: top;\n",
       "    }\n",
       "\n",
       "    .dataframe thead th {\n",
       "        text-align: right;\n",
       "    }\n",
       "</style>\n",
       "<table border=\"1\" class=\"dataframe\">\n",
       "  <thead>\n",
       "    <tr style=\"text-align: right;\">\n",
       "      <th></th>\n",
       "      <th>Adjusted R-Squared</th>\n",
       "      <th>R-Squared</th>\n",
       "      <th>RMSE</th>\n",
       "      <th>Time Taken</th>\n",
       "    </tr>\n",
       "    <tr>\n",
       "      <th>Model</th>\n",
       "      <th></th>\n",
       "      <th></th>\n",
       "      <th></th>\n",
       "      <th></th>\n",
       "    </tr>\n",
       "  </thead>\n",
       "  <tbody>\n",
       "    <tr>\n",
       "      <th>XGBRegressor</th>\n",
       "      <td>0.90</td>\n",
       "      <td>0.91</td>\n",
       "      <td>2.95</td>\n",
       "      <td>0.09</td>\n",
       "    </tr>\n",
       "    <tr>\n",
       "      <th>GradientBoostingRegressor</th>\n",
       "      <td>0.89</td>\n",
       "      <td>0.90</td>\n",
       "      <td>3.08</td>\n",
       "      <td>0.13</td>\n",
       "    </tr>\n",
       "    <tr>\n",
       "      <th>RandomForestRegressor</th>\n",
       "      <td>0.88</td>\n",
       "      <td>0.90</td>\n",
       "      <td>3.15</td>\n",
       "      <td>0.35</td>\n",
       "    </tr>\n",
       "    <tr>\n",
       "      <th>ExtraTreesRegressor</th>\n",
       "      <td>0.88</td>\n",
       "      <td>0.89</td>\n",
       "      <td>3.23</td>\n",
       "      <td>0.21</td>\n",
       "    </tr>\n",
       "    <tr>\n",
       "      <th>AdaBoostRegressor</th>\n",
       "      <td>0.85</td>\n",
       "      <td>0.87</td>\n",
       "      <td>3.49</td>\n",
       "      <td>0.17</td>\n",
       "    </tr>\n",
       "    <tr>\n",
       "      <th>HistGradientBoostingRegressor</th>\n",
       "      <td>0.85</td>\n",
       "      <td>0.87</td>\n",
       "      <td>3.54</td>\n",
       "      <td>0.61</td>\n",
       "    </tr>\n",
       "    <tr>\n",
       "      <th>BaggingRegressor</th>\n",
       "      <td>0.85</td>\n",
       "      <td>0.87</td>\n",
       "      <td>3.55</td>\n",
       "      <td>0.07</td>\n",
       "    </tr>\n",
       "    <tr>\n",
       "      <th>LGBMRegressor</th>\n",
       "      <td>0.85</td>\n",
       "      <td>0.87</td>\n",
       "      <td>3.59</td>\n",
       "      <td>0.09</td>\n",
       "    </tr>\n",
       "    <tr>\n",
       "      <th>ExtraTreeRegressor</th>\n",
       "      <td>0.81</td>\n",
       "      <td>0.83</td>\n",
       "      <td>4.02</td>\n",
       "      <td>0.02</td>\n",
       "    </tr>\n",
       "    <tr>\n",
       "      <th>DecisionTreeRegressor</th>\n",
       "      <td>0.79</td>\n",
       "      <td>0.81</td>\n",
       "      <td>4.22</td>\n",
       "      <td>0.02</td>\n",
       "    </tr>\n",
       "  </tbody>\n",
       "</table>\n",
       "</div>"
      ],
      "text/plain": [
       "                               Adjusted R-Squared  R-Squared  RMSE  Time Taken\n",
       "Model                                                                         \n",
       "XGBRegressor                                 0.90       0.91  2.95        0.09\n",
       "GradientBoostingRegressor                    0.89       0.90  3.08        0.13\n",
       "RandomForestRegressor                        0.88       0.90  3.15        0.35\n",
       "ExtraTreesRegressor                          0.88       0.89  3.23        0.21\n",
       "AdaBoostRegressor                            0.85       0.87  3.49        0.17\n",
       "HistGradientBoostingRegressor                0.85       0.87  3.54        0.61\n",
       "BaggingRegressor                             0.85       0.87  3.55        0.07\n",
       "LGBMRegressor                                0.85       0.87  3.59        0.09\n",
       "ExtraTreeRegressor                           0.81       0.83  4.02        0.02\n",
       "DecisionTreeRegressor                        0.79       0.81  4.22        0.02"
      ]
     },
     "execution_count": 13,
     "metadata": {},
     "output_type": "execute_result"
    }
   ],
   "source": [
    "models.head(10)"
   ]
  },
  {
   "cell_type": "markdown",
   "metadata": {},
   "source": [
    "A table like this will free you from the manual task of selecting a base model, a time much better spent on tasks like feature engineering.\n",
    "\n",
    "### 🛠 GitHub and documentation\n",
    "- https://lazypredict.readthedocs.io/en/latest/index.html\n",
    "- https://github.com/shankarpandala/lazypredict"
   ]
  },
  {
   "cell_type": "markdown",
   "metadata": {},
   "source": [
    "## 4️⃣. Optuna"
   ]
  },
  {
   "cell_type": "markdown",
   "metadata": {},
   "source": [
    "![](https://miro.medium.com/max/1400/0*IBkpkOCS0anhUHWp.png)"
   ]
  },
  {
   "cell_type": "markdown",
   "metadata": {},
   "source": [
    "One of the more recent libraries I have added to my skill-stack is Kagglers' favorite - Optuna. \n",
    "\n",
    "Optuna is a next-generation automatic hyperparameter tuning framework, designed to work on virtually any model and neural network available in today's ML and Deep learning packages. \n",
    "\n",
    "It offers several advantages over similar tools like GridSearch, TPOT, HyperOPT, etc:\n",
    "- Platform-agnostic: has APIs to work with any framework, including XGBoost, LightGBM, CatBoost, Sklearn, Keras, TensorFlow, PyTorch, etc.\n",
    "- A large suite of optimization algorithms with early stopping and pruning features baked in\n",
    "- Easy parallelization with little or no changes to the code\n",
    "- Built in support to visually explore tuning history and the importance of each hyperparameter.\n",
    "\n",
    "My most favorite feature is its ability to pause/resume/save search histories. Optuna keeps track of all previous rounds of tuning and you can resume the search for however long you want until you get the performance you want. \n",
    "\n",
    "Besides, you can make Optuna RAM-independent for massive datasets and searching by storing results in a local or a remote database by just adding an extra parameter.\n",
    "\n",
    "### 🛠 GitHub and documentation\n",
    "- https://github.com/optuna/optuna\n",
    "- https://optuna.readthedocs.io/en/stable/\n",
    "\n",
    "### 🔬 Papers\n",
    "- [Optuna: A Next-generation Hyperparameter Optimization Framework](https://arxiv.org/abs/1907.10902)\n",
    "\n",
    "### 💻 Demo"
   ]
  },
  {
   "cell_type": "code",
   "execution_count": 20,
   "metadata": {},
   "outputs": [
    {
     "data": {
      "text/plain": [
       "{'x': 1.0292346846493052, 'y': -2.969875637298915}"
      ]
     },
     "execution_count": 20,
     "metadata": {},
     "output_type": "execute_result"
    }
   ],
   "source": [
    "import optuna  # pip install optuna\n",
    "\n",
    "\n",
    "def objective(trial):\n",
    "    x = trial.suggest_float(\"x\", -7, 7)\n",
    "    y = trial.suggest_float(\"y\", -7, 7)\n",
    "    return (x - 1) ** 2 + (y + 3) ** 2\n",
    "\n",
    "\n",
    "study = optuna.create_study()\n",
    "study.optimize(objective, n_trials=200)  # number of iterations\n",
    "\n",
    "study.best_params"
   ]
  },
  {
   "cell_type": "code",
   "execution_count": 21,
   "metadata": {},
   "outputs": [
    {
     "data": {
      "text/plain": [
       "0.0017621440146908432"
      ]
     },
     "execution_count": 21,
     "metadata": {},
     "output_type": "execute_result"
    }
   ],
   "source": [
    "study.best_value"
   ]
  },
  {
   "cell_type": "markdown",
   "metadata": {},
   "source": [
    "For the sake of simplicity, we are trying to optimize the function $(x - 1)^2 + (y + 3)^2$. As you can see, the tuned values for `x` and `y` are pretty close to the optimal (1, -3). \n",
    "\n",
    "Hyperparamter tuning for real estimators is a bit more involved, so why don't you check out my detailed guide:\n",
    "\n",
    "https://towardsdatascience.com/why-is-everyone-at-kaggle-obsessed-with-optuna-for-hyperparameter-tuning-7608fdca337c?source=your_stories_page-------------------------------------"
   ]
  },
  {
   "cell_type": "markdown",
   "metadata": {},
   "source": [
    "## 5️⃣. SHAP"
   ]
  },
  {
   "cell_type": "markdown",
   "metadata": {},
   "source": [
    "![](https://shap.readthedocs.io/en/latest/_images/shap_header.png)"
   ]
  },
  {
   "cell_type": "markdown",
   "metadata": {},
   "source": [
    "Right now, **Explainable AI (XAI)** is one of the strongest trends in ML and AI sphere. Companies and businesses are starting to be fussy over the adoption of AI solutions due to their \"black box\" nature.\n",
    "\n",
    "Hey, no one can blame them. If data scientists themselves are coming up with tools to understand the models *they* created, the worries and suspicions of business owners are entirely justified. \n",
    "\n",
    "One of those tools that often come up in grandmasters' notebooks on Kaggle is SHAP. \n",
    "\n",
    "SHAP (SHapley Additive exPlanations) is an approach to explain how a model works using concepts from game theory. At its score, SHAP uses something called Shapley values to explain:\n",
    "- Which features in the model are the most important\n",
    "- The model's decisions behind any single prediction. For example, asking which features led to this particular output.\n",
    "\n",
    "Most notable aspects of SHAP is its unified theme and unique plots that break down the mechanics of any model and neural network. Here is an example plot that shows the feature importances in terms of Shapley values for a single prediction:\n",
    "\n",
    "![](https://raw.githubusercontent.com/slundberg/shap/master/docs/artwork/boston_waterfall.png)"
   ]
  },
  {
   "cell_type": "markdown",
   "metadata": {},
   "source": [
    "Trust me, SHAP has way cooler plots. It is such a powerful tool that the Kaggle platform has an [entire free course](https://www.kaggle.com/learn/machine-learning-explainability) built around it. \n",
    "\n",
    "### 🛠 GitHub and documentation\n",
    "- https://shap.readthedocs.io/en/latest/index.html\n",
    "- https://github.com/slundberg/shap\n",
    "\n",
    "### 🔬 Papers\n",
    "- [A Unified Approach to Interpreting Model Predictions](https://proceedings.neurips.cc/paper/2017/hash/8a20a8621978632d76c43dfd28b67767-Abstract.html)\n",
    "- [From local explanations to global understanding with explainable AI for trees](https://www.nature.com/articles/s42256-019-0138-9)\n",
    "- [Explainable machine-learning predictions for the prevention of hypoxaemia during surgery](https://www.nature.com/articles/s41551-018-0304-0)\n",
    "\n",
    "### 💻 Demo\n",
    "Here is a short snippet to create a beeswarm plot of all predictions from the classic Diabeters dataset:"
   ]
  },
  {
   "cell_type": "code",
   "execution_count": 33,
   "metadata": {},
   "outputs": [
    {
     "data": {
      "image/png": "[encoded data removed]",
      "text/plain": [
       "<Figure size 576x396 with 2 Axes>"
      ]
     },
     "metadata": {
      "needs_background": "light"
     },
     "output_type": "display_data"
    }
   ],
   "source": [
    "import shap  # pip install shap\n",
    "import xgboost as xgb\n",
    "\n",
    "# Load and train a model\n",
    "X, y = shap.datasets.diabetes()\n",
    "clf = xgb.XGBRegressor().fit(X, y)\n",
    "\n",
    "# Explain model's predictions with SHAP\n",
    "explainer = shap.Explainer(clf)\n",
    "shap_values = explainer(X)\n",
    "\n",
    "# Visualize the predictions' explanation\n",
    "shap.plots.beeswarm(shap_values)"
   ]
  },
  {
   "cell_type": "markdown",
   "metadata": {},
   "source": [
    "## 6️⃣. Rapids cuDF"
   ]
  },
  {
   "cell_type": "markdown",
   "metadata": {},
   "source": [
    "![](images/6.png)"
   ]
  },
  {
   "cell_type": "markdown",
   "metadata": {},
   "source": [
    "If you thought GPUs are deep learning-exclusive, you are *horribly* mistaken.\n",
    "\n",
    "The cuDF library created by the open-source platform RAPIDs enables you to run tabular manipulation operations on one or more GPUs.\n",
    "\n",
    "Unlike `datatable`, cuDF has very similar API to Pandas, thus offering a less steeper learning curve. As it is standard with GPUs, the library is super fast, giving it an edge over `datatable` when combined with its Pandas-like API. \n",
    "\n",
    "The only hassle when using cuDF is its installation - it requires:\n",
    "- CUDA Toolkit 11.0+\n",
    "- NVIDIA driver 450.80.02+\n",
    "- Pascal architecture or better (Compute Capability >=6.0)\n",
    "\n",
    "If you want to try out the library without installation limitations, Kaggle kernels are a great option. Here is a [notebook](https://www.kaggle.com/rohanrao/tutorial-on-reading-large-datasets?scriptVersionId=49328159&cellId=14) to get you started.\n",
    "\n",
    "### 🛠 GitHub and documentation\n",
    "- https://docs.rapids.ai/api/cudf/stable/\n",
    "- https://github.com/rapidsai/cudf\n",
    "\n",
    "### 💻 Demo\n",
    "Here is a snippet from the documentation that shows a simple GroupBy operation on the tips dataset:"
   ]
  },
  {
   "cell_type": "markdown",
   "metadata": {},
   "source": [
    "```python\n",
    "import cudf, io, requests\n",
    "from io import StringIO\n",
    "\n",
    "url = \"https://github.com/plotly/datasets/raw/master/tips.csv\"\n",
    "content = requests.get(url).content.decode('utf-8')\n",
    "\n",
    "tips_df = cudf.read_csv(StringIO(content))\n",
    "tips_df['tip_percentage'] = tips_df['tip'] / tips_df['total_bill'] * 100\n",
    "\n",
    "# display average tip by dining party size\n",
    "print(tips_df.groupby('size').tip_percentage.mean())\n",
    "```"
   ]
  },
  {
   "cell_type": "markdown",
   "metadata": {},
   "source": [
    "## 7️⃣. Automatic EDA libraries"
   ]
  },
  {
   "cell_type": "markdown",
   "metadata": {},
   "source": [
    "Normally, I am against any library or tool that takes a programmer away from writing actual code. But, since auto-EDA libraries are all the rage now on Kaggle, I had to include this section for completeness.\n",
    "\n",
    "Initially, this section was supposed to be only about AutoViz, which uses [XGBoost](https://towardsdatascience.com/20-burning-xgboost-faqs-answered-to-use-the-library-like-a-pro-f8013b8df3e4?source=your_stories_page-------------------------------------) under the hood to display most important information of the dataset (that's why I chose it). Later, I decided to include a few others as well. \n",
    "\n",
    "Here is a list of the best auto EDA libraries I have found:\n",
    "- **DataPrep** - most comprehensive EDA \\[[GitHub](https://github.com/sfu-db/dataprep), [Documentation](https://docs.dataprep.ai/index.html)\\]\n",
    "- **AutoViz** - fastest auto EDA \\[[GitHub](https://github.com/AutoViML/AutoViz)]\n",
    "- **PandasProfiling** - earliest and one of the best auto EDA tools \\[[GitHub](https://github.com/pandas-profiling/pandas-profiling), [Documentation](https://pandas-profiling.github.io/pandas-profiling/docs/master/rtd/)\\]\n",
    "- **Lux** - most user-friendly and luxurious EDA \\[[GitHub](https://github.com/lux-org/lux), [Documentation](https://lux-api.readthedocs.io/en/latest/)\\]\n",
    "\n",
    "### 💻 Demo\n",
    "If you want to see how each package performs EDA, check out this great [notebook](https://www.kaggle.com/andreshg/automatic-eda-libraries-comparisson/notebook#6.-%F0%9F%93%8A-D-Tale-%F0%9F%93%9A) on Kaggle."
   ]
  }
 ],
 "metadata": {
  "kernelspec": {
   "display_name": "medium_articles",
   "language": "python",
   "name": "medium_articles"
  },
  "language_info": {
   "codemirror_mode": {
    "name": "ipython",
    "version": 3
   },
   "file_extension": ".py",
   "mimetype": "text/x-python",
   "name": "python",
   "nbconvert_exporter": "python",
   "pygments_lexer": "ipython3",
   "version": "3.8.5"
  }
 },
 "nbformat": 4,
 "nbformat_minor": 4
}
