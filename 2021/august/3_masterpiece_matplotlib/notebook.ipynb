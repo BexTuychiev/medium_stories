{
 "cells": [
  {
   "cell_type": "markdown",
   "metadata": {},
   "source": [
    "# Yes, These Masterpiece Visuals Are Created With - Unbelievably - Matplotlib\n",
    "## They make my plots look like a child's drawing of a tree\n",
    "![](images/pexels.jpg)\n",
    "<figcaption style=\"text-align: center;\">\n",
    "    <strong>\n",
    "        Photo by \n",
    "        <a href='https://www.pexels.com/@daiangan?utm_content=attributionCopyText&utm_medium=referral&utm_source=pexels'>Daian Gan</a>\n",
    "        on \n",
    "        <a href='https://www.pexels.com/photo/shallow-focus-photography-of-paintbrush-102127/?utm_content=attributionCopyText&utm_medium=referral&utm_source=pexels'>Pexels.</a> All images are by the author unless specified otherwise.\n",
    "    </strong>\n",
    "</figcaption>"
   ]
  },
  {
   "cell_type": "markdown",
   "metadata": {},
   "source": [
    "# Introduction"
   ]
  },
  {
   "cell_type": "markdown",
   "metadata": {},
   "source": [
    "These plots... \n",
    "\n",
    "They are snazzy.\\\n",
    "They are breathtaking.\\\n",
    "They remind you just how beautiful and powerful data visualization can be.\n",
    "\n",
    "They only takes seconds to deliver the message.\\\n",
    "But take hours to create.\\\n",
    "And require more than coding skills to fully master."
   ]
  },
  {
   "cell_type": "markdown",
   "metadata": {},
   "source": [
    "# 1. History of Netflix\n",
    "![](images/1.png)"
   ]
  },
  {
   "cell_type": "markdown",
   "metadata": {},
   "source": [
    "As dictated in the title, the above is the history of Netflix from 1997 to the present. I think what immediately jumps out here is the simplicity of the plot and its power.\n",
    "\n",
    "People often think of history in a linear fashion and using a single line for the timeline effectively captures this behavior. But is that the whole story?\n",
    "\n",
    "Bigger events are encoded with larger dots, while intermediary events get represented in smaller ones, slightly away from the timeline. The author also adds an element of personality for 2012, UK launch event.\n",
    "\n",
    "This plot is the combination of 4 critical components:\n",
    "- Simple horizontal line created with `hline`\n",
    "- 3 scatter plots to draw different sized dots\n",
    "- A single stem plot to create those vertical whiskers using `plt.stem`\n",
    "- Skillful use of text at different levels to display additional messages and different styled axes ticks."
   ]
  },
  {
   "cell_type": "markdown",
   "metadata": {},
   "source": [
    "# 2. Ratings distribution of Movies vs. TV Shows in Netflix\n",
    "![](images/2.png)"
   ]
  },
  {
   "cell_type": "markdown",
   "metadata": {},
   "source": [
    "How would you go around and display this information? This plot would certainly beat a lame stacked bar chart I would have come up with. \n",
    "\n",
    "It is clear from the plot that the number of movies in every rating category is dominating the number of TV Shows. Showing this information as a joint bar chart would certainly do the trick. \n",
    "\n",
    "However, displaying the bars of the TV Shows underneath the movies offers a better and unique way of representing this domination. \n",
    "\n",
    "I'd also like to draw your attention to how the plot is completely devoid of clutter - no unnecessary axes, texts, spines or anything else that does not give immediate value to the delivery of the message."
   ]
  },
  {
   "cell_type": "markdown",
   "metadata": {},
   "source": [
    "# 3. The amount of content added to Netflix over the years\n",
    "![](images/3.png)"
   ]
  },
  {
   "cell_type": "markdown",
   "metadata": {},
   "source": [
    "In terms of displaying a value that changes over time, this plot is spot-on.\n",
    "\n",
    "Yes, it is a simple line plot but what makes it unique is the display location of certain elements. \n",
    "\n",
    "First is the legend. It is unconventional - no boring list of items inside a box. Its lower-left location makes it almost invisible and weave into the background. Somehow, you know that red is for Movies and black is for TV Shows even though you don't have to look at it. \n",
    "\n",
    "The author also uses a block of text in the upper left corner. The benefit of this text description is twofold: it covers up the vast white space that would otherwise make the plot look bland and it points out the key observations, freeing the observer from pausing and drawing conclusions on their own.\n",
    "\n",
    "Next is the Y axis. I bet you didn't even notice that its location is on the right, opposite of where it usually is. Yet, this fact does not even register into your brain without paying attention. \n",
    "\n",
    "This is the secret to powerful data visualization - if everything is done right, the observer won't even notice how the plot itself is created - they are just busy taking in the information."
   ]
  },
  {
   "cell_type": "markdown",
   "metadata": {},
   "source": [
    "# 4. Breakdown of how content is added to the platform throughout the year\n",
    "![](images/4.png)"
   ]
  },
  {
   "cell_type": "markdown",
   "metadata": {},
   "source": [
    "Normally, I am completely against pie charts, as is the case with most people.\n",
    "\n",
    "But would you believe me if I said this is a bar chart? Well, whatever you say, you have to. This *is* a bar chart with a twist - the axes are in polar coordinates.\n",
    "\n",
    "Even though the plot looks simple, the code that went into creating it is more complex than any other we will see today. \n",
    "\n",
    "Creating each bar requires you to extract the angle, width and height, and that's not even the hardest part. Pay attention to the text labels - if you notice, they are rotated 180° at April and October for readability.\n",
    "\n",
    "If you think that's the default with Matplotlib, you are *wildly* mistaken. They are actually annotations, cleverly placed by the user. To make them fit nicely with their respective bars, the author has to calculate the angle of rotation for each one and place them just at the coordinates that are \"just above\" each bar.\n",
    "\n",
    "Sometimes, the simplest things require the most effort."
   ]
  },
  {
   "cell_type": "markdown",
   "metadata": {},
   "source": [
    "# 5. The lag between the release date of an item and its launch on Netflix\n",
    "![](images/5.png)"
   ]
  },
  {
   "cell_type": "markdown",
   "metadata": {},
   "source": [
    "This plot shows the plain-old, vanilla *mean* (average) in a unique way. \n",
    "\n",
    "Most people would use display numeric variables grouped by categories in a bar chart. In contrast, the author uses intervals, which not only shows the differences in means but also encode the additional time component in the X axis. \n",
    "\n",
    "Once you read the description, you will immediately realize how ingenious the plot is. \n",
    "\n",
    "Here, we see another smart way of representing legends - the legend labels are put next to a single sample of their respective category. "
   ]
  },
  {
   "cell_type": "markdown",
   "metadata": {},
   "source": [
    "# 6. Categorizing Netflix content by countries: USA and India\n",
    "![](images/6.png)"
   ]
  },
  {
   "cell_type": "markdown",
   "metadata": {},
   "source": [
    "This is a special chart type called a stream graph. It belongs to the \"parts of the whole\" chart family along with area, pie, donut charts. \n",
    "\n",
    "It is not implemented in Matplotlib, so, the author had to come up with his own version of code to plot it. And surprisingly, the solution is incredibly simple - he just uses the `fill_between` function bordered with the relevant data points through the timeline.\n",
    "\n",
    "As usual, the plot discards anything that does not add immediate value - no grids, no additional tick marks or even the Y axis. You might argue that Y axis could have been added to see the proportions of content between the two counties. \n",
    "\n",
    "But since USA's dominance is obvious at first glance, there is no need to put additional numbers to differentiate the proportions."
   ]
  },
  {
   "cell_type": "markdown",
   "metadata": {},
   "source": [
    "# 7.\n",
    "![](images/7.png)"
   ]
  },
  {
   "cell_type": "markdown",
   "metadata": {},
   "source": [
    "# 8.\n",
    "![](images/8.png)"
   ]
  }
 ],
 "metadata": {
  "kernelspec": {
   "display_name": "medium_articles",
   "language": "python",
   "name": "medium_articles"
  },
  "language_info": {
   "codemirror_mode": {
    "name": "ipython",
    "version": 3
   },
   "file_extension": ".py",
   "mimetype": "text/x-python",
   "name": "python",
   "nbconvert_exporter": "python",
   "pygments_lexer": "ipython3",
   "version": "3.8.5"
  }
 },
 "nbformat": 4,
 "nbformat_minor": 4
}
