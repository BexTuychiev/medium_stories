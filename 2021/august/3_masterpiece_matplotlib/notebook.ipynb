{
 "cells": [
  {
   "cell_type": "markdown",
   "metadata": {},
   "source": [
    "# Yes, These Masterpiece Visuals Are Created With Matplotlib\n",
    "## They make my plots like a child's drawing of a tree\n",
    "![](images/pexels.jpg)\n",
    "<figcaption style=\"text-align: center;\">\n",
    "    <strong>\n",
    "        Photo by \n",
    "        <a href='https://www.pexels.com/@daiangan?utm_content=attributionCopyText&utm_medium=referral&utm_source=pexels'>Daian Gan</a>\n",
    "        on \n",
    "        <a href='https://www.pexels.com/photo/shallow-focus-photography-of-paintbrush-102127/?utm_content=attributionCopyText&utm_medium=referral&utm_source=pexels'>Pexels.</a> All images are by the author unless specified otherwise.\n",
    "    </strong>\n",
    "</figcaption>"
   ]
  },
  {
   "cell_type": "markdown",
   "metadata": {},
   "source": [
    "# Introduction"
   ]
  },
  {
   "cell_type": "markdown",
   "metadata": {},
   "source": [
    "These plots... \n",
    "\n",
    "They are snazzy.\\\n",
    "They are breathtaking.\\\n",
    "They remind you just how beautiful and powerful data visualization can be.\n",
    "\n",
    "They only takes seconds to deliver the message.\\\n",
    "But take hours to create.\\\n",
    "And require more than coding skills to fully master."
   ]
  },
  {
   "cell_type": "markdown",
   "metadata": {},
   "source": [
    "# 1. History of Netflix\n",
    "![](images/1.png)"
   ]
  },
  {
   "cell_type": "markdown",
   "metadata": {},
   "source": [
    "As dictated in the title, the above is the history of Netflix from 1997 to the present. I think what immediately jumps out here is the simplicity of the plot and its power.\n",
    "\n",
    "People often think of history in a linear fashion and using a single line for the timeline effectively captures this behavior. But is that the whole story?\n",
    "\n",
    "Bigger events are encoded with larger dots, while intermediary events get represented in smaller ones, slightly away from the timeline. The author also adds an element of personality for 2012, UK launch event.\n",
    "\n",
    "This plot is the combination of 4 critical components:\n",
    "- Simple horizontal line created with `hline`\n",
    "- 3 scatter plots to draw different sized dots\n",
    "- A single stem plot to create those vertical whiskers using `plt.stem`\n",
    "- Skillful use of text at different levels to display additional messages and different styled axes ticks."
   ]
  },
  {
   "cell_type": "markdown",
   "metadata": {},
   "source": [
    "# 2. Ratings distribution of Movies vs. TV Shows in Netflix\n",
    "![](images/2.png)"
   ]
  },
  {
   "cell_type": "markdown",
   "metadata": {},
   "source": [
    "How would you go around and display this information? This plot would certainly beat a lame stacked bar chart I would have come up with. \n",
    "\n",
    "It is clear from the plot that the number of movies in every rating category is dominating the number of TV Shows. Showing this information as a joint bar chart would certainly do the trick. \n",
    "\n",
    "However, displaying the bars of the TV Shows underneath the movies offers a better and unique way of representing this domination. \n",
    "\n",
    "I'd also like to draw your attention to how the plot is completely devoid of clutter - no unnecessary axes, texts, spines or anything else that does not give immediate value to the delivery of the message."
   ]
  },
  {
   "cell_type": "markdown",
   "metadata": {},
   "source": [
    "# 3. The amount of content added to Netflix over the years\n",
    "![](images/3.png)"
   ]
  },
  {
   "cell_type": "markdown",
   "metadata": {},
   "source": [
    "In terms of displaying a value that changes over time, this plot is spot-on.\n",
    "\n",
    "Yes, it is a simple line plot but what makes it unique is the display location of certain elements. \n",
    "\n",
    "First is the legend. It is unconventional - no boring list of items inside a box. Its lower-left location makes it almost invisible and weave into the background. Somehow, you know that red is for Movies and black is for TV Shows even though you don't have to look at it. \n",
    "\n",
    "The author also uses a block of text in the upper left corner. The benefit of this text description is twofold: it covers up the vast white space that would otherwise make the plot look bland and it points out the key observations, freeing the observer from pausing and drawing conclusions on their own.\n",
    "\n",
    "Next is the Y axis. I bet you didn't even notice that its location is on the right, opposite of where it usually is. Yet, this fact does not even register into your brain without paying attention. \n",
    "\n",
    "This is the secret to powerful data visualization - if everything is done right, the observer won't even notice how the plot itself is created - they are just busy taking in the information."
   ]
  },
  {
   "cell_type": "markdown",
   "metadata": {},
   "source": [
    "# 4.\n",
    "![](images/4.png)"
   ]
  },
  {
   "cell_type": "markdown",
   "metadata": {},
   "source": [
    "# 5. \n",
    "![](images/5.png)"
   ]
  },
  {
   "cell_type": "markdown",
   "metadata": {},
   "source": [
    "# 6.\n",
    "![](images/6.png)"
   ]
  },
  {
   "cell_type": "markdown",
   "metadata": {},
   "source": [
    "# 7.\n",
    "![](images/7.png)"
   ]
  },
  {
   "cell_type": "markdown",
   "metadata": {},
   "source": [
    "# 8.\n",
    "![](images/8.png)"
   ]
  }
 ],
 "metadata": {
  "kernelspec": {
   "display_name": "medium_articles",
   "language": "python",
   "name": "medium_articles"
  },
  "language_info": {
   "codemirror_mode": {
    "name": "ipython",
    "version": 3
   },
   "file_extension": ".py",
   "mimetype": "text/x-python",
   "name": "python",
   "nbconvert_exporter": "python",
   "pygments_lexer": "ipython3",
   "version": "3.8.5"
  }
 },
 "nbformat": 4,
 "nbformat_minor": 4
}
