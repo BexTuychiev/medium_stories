{
 "cells": [
  {
   "cell_type": "markdown",
   "metadata": {},
   "source": [
    "# Yes, These Masterpiece Visuals Are Created With Matplotlib\n",
    "## They make my plots like a child's drawing of a tree\n",
    "![](images/pexels.jpg)\n",
    "<figcaption style=\"text-align: center;\">\n",
    "    <strong>\n",
    "        Photo by \n",
    "        <a href='https://www.pexels.com/@daiangan?utm_content=attributionCopyText&utm_medium=referral&utm_source=pexels'>Daian Gan</a>\n",
    "        on \n",
    "        <a href='https://www.pexels.com/photo/shallow-focus-photography-of-paintbrush-102127/?utm_content=attributionCopyText&utm_medium=referral&utm_source=pexels'>Pexels.</a> All images are by the author unless specified otherwise.\n",
    "    </strong>\n",
    "</figcaption>"
   ]
  },
  {
   "cell_type": "markdown",
   "metadata": {},
   "source": [
    "# Introduction"
   ]
  },
  {
   "cell_type": "markdown",
   "metadata": {},
   "source": [
    "These plots... \n",
    "\n",
    "They are snazzy.\n",
    "They are breathtaking.\n",
    "They remind you just how beautiful and powerful data visualization can be.\n",
    "\n",
    "They only takes seconds to deliver the message.\n",
    "But take hours to create.\n",
    "And require more than coding skills to fully master."
   ]
  },
  {
   "cell_type": "markdown",
   "metadata": {},
   "source": [
    "# 1. History of Netflix\n",
    "![](images/1.png)"
   ]
  },
  {
   "cell_type": "markdown",
   "metadata": {},
   "source": [
    "As dictated in the title, the above is the history of Netflix from 1997 to the present. I think what immediately jumps out here is the simplicity of the plot and its power.\n",
    "\n",
    "People often think of history in a linear fashion and using a single line for the timeline effectively captures this behavior. But is that the whole story?\n",
    "\n",
    "Bigger events are encoded with larger dots, while intermediary events get represented in smaller dots, slightly away from the timeline. The author also adds an element of personality for 2012, UK launch event.\n",
    "\n",
    "This plot is the combination of 4 critical components:\n",
    "- Simple horizontal line created with `hline`\n",
    "- 3 scatter plots to draw different sized dots\n",
    "- A single stem plot to create those vertical whiskers using `plt.stem`\n",
    "- Skillful use of text at different levels to display additional messages and different styled axes ticks."
   ]
  },
  {
   "cell_type": "markdown",
   "metadata": {},
   "source": [
    "# 2.\n",
    "![](images/2.png)"
   ]
  },
  {
   "cell_type": "markdown",
   "metadata": {},
   "source": [
    "# 3. \n",
    "![](images/3.png)"
   ]
  },
  {
   "cell_type": "markdown",
   "metadata": {},
   "source": [
    "# 4.\n",
    "![](images/4.png)"
   ]
  },
  {
   "cell_type": "markdown",
   "metadata": {},
   "source": [
    "# 5. \n",
    "![](images/5.png)"
   ]
  },
  {
   "cell_type": "markdown",
   "metadata": {},
   "source": [
    "# 6.\n",
    "![](images/6.png)"
   ]
  },
  {
   "cell_type": "markdown",
   "metadata": {},
   "source": [
    "# 7.\n",
    "![](images/7.png)"
   ]
  },
  {
   "cell_type": "markdown",
   "metadata": {},
   "source": [
    "# 8.\n",
    "![](images/8.png)"
   ]
  }
 ],
 "metadata": {
  "kernelspec": {
   "display_name": "medium_articles",
   "language": "python",
   "name": "medium_articles"
  },
  "language_info": {
   "codemirror_mode": {
    "name": "ipython",
    "version": 3
   },
   "file_extension": ".py",
   "mimetype": "text/x-python",
   "name": "python",
   "nbconvert_exporter": "python",
   "pygments_lexer": "ipython3",
   "version": "3.8.5"
  }
 },
 "nbformat": 4,
 "nbformat_minor": 4
}
