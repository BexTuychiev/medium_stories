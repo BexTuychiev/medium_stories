{
 "cells": [
  {
   "cell_type": "markdown",
   "metadata": {},
   "source": [
    "# Love 3Blue1Brown Animations? Learn How to Create One in Python Using Manim\n",
    "## TODO\n",
    "![](images/pexels.jpg)\n",
    "<figcaption style=\"text-align: center;\">\n",
    "    <strong>\n",
    "        Photo by \n",
    "        <a href='https://www.pexels.com/@eye4dtail?utm_content=attributionCopyText&utm_medium=referral&utm_source=pexels'>George Becker</a>\n",
    "        on \n",
    "        <a href='https://www.pexels.com/photo/1-1-3-text-on-black-chalkboard-374918/?utm_content=attributionCopyText&utm_medium=referral&utm_source=pexels'>Pexels.</a> All images are by the author unless specified otherwise.\n",
    "    </strong>\n",
    "</figcaption>"
   ]
  },
  {
   "cell_type": "markdown",
   "metadata": {},
   "source": [
    "Do you know how many lines of code went into creating the Essence of Linear Algebra series of 3Blue1Brown?\n",
    "\n",
    "> 22,466!\n",
    "\n",
    "This gives an average of ~1400 lines per video. Now, multiply this number to about 100 *(fill in the adjective)* videos Grant Sanders has created and you can get a rough estimate of how much online math world is indebted to him."
   ]
  },
  {
   "cell_type": "markdown",
   "metadata": {},
   "source": [
    "# Higher-level overview of how Manim works"
   ]
  },
  {
   "cell_type": "markdown",
   "metadata": {},
   "source": [
    "At its core, Manim uses [FFmpeg](https://en.wikipedia.org/wiki/FFmpeg) multi-media encoding software system to render its videos. Manim was created as a communication bridge between FFmpeg engine and the standard Python API. \n",
    "\n",
    "To draw and animate various objects in a media format, Manim implements several classes most of which are focused on representing mathematical objects and concepts.\n",
    "\n",
    "These classes are generally divided into 3 categories: `Scene`, `Mobject` and `Animation`. To explain this concepts more clearly, let's create our very first animation using the library:"
   ]
  },
  {
   "cell_type": "markdown",
   "metadata": {},
   "source": [
    "```python\n",
    "from manim import *\n",
    "\n",
    "\n",
    "class MyFirstAnimation(Scene):\n",
    "    def construct(self):\n",
    "        # Create basic mobjects\n",
    "        star = Star(n=5, fill_color=RED, stroke_color=BLUE)\n",
    "        circle = Circle(fill_color=DARK_BLUE, fill_opacity=.8, stroke_color=BLUE)\n",
    "\n",
    "        # Animate Fade in of the star that takes 2 seconds\n",
    "        self.play(FadeIn(star, run_time=2))\n",
    "        # Wait for a second\n",
    "        self.wait()\n",
    "        # Animate Fade Out of the star\n",
    "        self.play(FadeOut(star))\n",
    "        self.wait(0.5)\n",
    "        # Do the same for the circle\n",
    "        self.play(FadeIn(circle, run_time=2))\n",
    "        self.wait()\n",
    "        self.play(FadeOut(circle))\n",
    "```\n",
    "\n",
    "![](images/example_1.gif)"
   ]
  },
  {
   "cell_type": "markdown",
   "metadata": {},
   "source": [
    "First, we are creating two basic Mobjects (Mathematical objects) using the `Circle` and `Star` classes. They are examples of built-in geometric shapes in Manim. When you call `from manim import *`, all classes are imported into the namespace to avoid making multiple import statements. \n",
    "\n",
    "`Circle` and `Star`, like we mentioned, belong to the `Mobject` class in Manim, including others like `Dot`, `Ellipsis`, `Line`, `Polygon`, etc. They are the basic building blocks of Manim. Often, they have additional arguments to control their `fill_color`, `fill_opacity` or `stroke_color`.\n",
    "\n",
    "Next, we have `Animation` classes. In the above code snippet, we are using two instances of `Animation` - `FadeIn` and `FadeOut`. As their names suggest, they take Mobjects as input and animate their creation using fade-in and fade-out effects. `run_time` controls the duration (s) of the animation. \n",
    "\n",
    "Whenever you use an instance of built-in `Animation` classes, you have to wrap them inside `self.play` so that they are rendered on the screen."
   ]
  },
  {
   "cell_type": "code",
   "execution_count": null,
   "metadata": {},
   "outputs": [],
   "source": []
  }
 ],
 "metadata": {
  "kernelspec": {
   "display_name": "medium_articles",
   "language": "python",
   "name": "medium_articles"
  },
  "language_info": {
   "codemirror_mode": {
    "name": "ipython",
    "version": 3
   },
   "file_extension": ".py",
   "mimetype": "text/x-python",
   "name": "python",
   "nbconvert_exporter": "python",
   "pygments_lexer": "ipython3",
   "version": "3.8.5"
  }
 },
 "nbformat": 4,
 "nbformat_minor": 4
}
