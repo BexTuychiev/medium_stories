{
 "cells": [
  {
   "cell_type": "markdown",
   "metadata": {},
   "source": [
    "# Love 3Blue1Brown Animations? Learn How to Create One in Python Using Manim\n",
    "## TODO\n",
    "![](images/pexels.jpg)\n",
    "<figcaption style=\"text-align: center;\">\n",
    "    <strong>\n",
    "        Photo by \n",
    "        <a href='https://www.pexels.com/@eye4dtail?utm_content=attributionCopyText&utm_medium=referral&utm_source=pexels'>George Becker</a>\n",
    "        on \n",
    "        <a href='https://www.pexels.com/photo/1-1-3-text-on-black-chalkboard-374918/?utm_content=attributionCopyText&utm_medium=referral&utm_source=pexels'>Pexels.</a> All images are by the author unless specified otherwise.\n",
    "    </strong>\n",
    "</figcaption>"
   ]
  },
  {
   "cell_type": "markdown",
   "metadata": {},
   "source": [
    "Do you know how many lines of code went into creating the Essence of Linear Algebra series of 3Blue1Brown?\n",
    "\n",
    "> 22,466!\n",
    "\n",
    "This gives an average of ~1400 lines per video. Now, multiply this number to about 100 *(fill in the adjective)* videos Grant Sanders has created and you can get a rough estimate of how much online math world is indebted to him."
   ]
  },
  {
   "cell_type": "markdown",
   "metadata": {},
   "source": [
    "# Higher-level overview of how Manim works"
   ]
  },
  {
   "cell_type": "markdown",
   "metadata": {},
   "source": [
    "Manim was created as a bridge between [FFmpeg video encoding engine](https://en.wikipedia.org/wiki/FFmpeg) and Python. Since you can't communicate built-in Python data structures to FFmpeg, Manim implements several classes focused on mathematical object representation and animation.\n",
    "\n",
    "These classes are generally divided into 3 categories: `Scene`, `Mobject` and `Animation`. To explain this concepts more clearly, let's create our very first animation:"
   ]
  },
  {
   "cell_type": "markdown",
   "metadata": {},
   "source": [
    "```python\n",
    "from manim import *\n",
    "\n",
    "\n",
    "class MyFirstAnimation(Scene):\n",
    "    def construct(self):\n",
    "        # Create basic mobjects\n",
    "        star = Star(n=5, fill_color=RED, stroke_color=BLUE)\n",
    "        circle = Circle(fill_color=DARK_BLUE, fill_opacity=.8, stroke_color=BLUE)\n",
    "\n",
    "        # Animate Fade in of the star that takes 2 seconds\n",
    "        self.play(FadeIn(star, run_time=2))\n",
    "        # Wait for a second\n",
    "        self.wait()\n",
    "        # Transform star into a circle\n",
    "        self.play(Transform(star, circle))\n",
    "        self.wait(0.5)\n",
    "        # Remove the circle by fading it out\n",
    "        self.play(FadeOut(circle))\n",
    "\n",
    "```"
   ]
  },
  {
   "cell_type": "markdown",
   "metadata": {},
   "source": [
    "After you have installed Manim using these instructions and saving the above code in a script like `scenes.py`, run the following command in the command-line:\n",
    "\n",
    "```\n",
    "manim -pqh scenes.py MyFirstAnimation\n",
    "```\n",
    "and you will get the following output:\n",
    "\n",
    "![](images/example_1.gif)"
   ]
  },
  {
   "cell_type": "markdown",
   "metadata": {},
   "source": [
    "Congratulations! You just made your very first animation!"
   ]
  },
  {
   "cell_type": "markdown",
   "metadata": {},
   "source": [
    "# Breaking down basic Manim API"
   ]
  },
  {
   "cell_type": "markdown",
   "metadata": {},
   "source": [
    "Let's understand how we got to the above animation by analyzing the code line by line. \n",
    "\n",
    "After importing all manim content in the first line, we are defining a scene class with a construct method:\n",
    "\n",
    "```python\n",
    "class MyFirstAnimation(Scene):\n",
    "    def construct(self):\n",
    "```"
   ]
  },
  {
   "cell_type": "markdown",
   "metadata": {},
   "source": [
    "This is the general formula of creating a single animation - you define a custom class that inherits from the `Scene` class and has a `construct` method. `Scene` class is the higher-level building block of Manim which connects all related animations and objects into a single structure.\n",
    "\n",
    "Next, we are creating two objects (a star and a circle) that belong to a `Mobject` class (mathematical object). This `Mobject` class is a base data structure for many built-in mobjects like geometric shapes, vectors, coordinate systems, etc. Basically, everything that is not a scene and animation is a `Mobject`.\n",
    "\n",
    "```python\n",
    "class MyFirstAnimation(Scene):\n",
    "    def construct(self):\n",
    "        # Create basic mobjects\n",
    "        star = Star(n=5, fill_color=RED, stroke_color=BLUE)\n",
    "        circle = Circle(fill_color=DARK_BLUE, fill_opacity=.8, stroke_color=BLUE)\n",
    "```\n",
    "\n",
    "All `Mobject`s have their own properties like `fill_color`, `fill_opacity` or `n` for the number of points of the star mobject. \n",
    "\n",
    "Then, we have the `Animation` classes. In the above example, we are using 3 of them - `FadeIn`, `Transform` and `FadeOut`. All built-in `Animation` classes in manim accept mobjects as arguments and apply various effects to them. For example, `Transform` accepts two mobjects and plays out a smooth animation that converts the first one to the other.\n",
    "\n",
    "```python\n",
    "self.play(FadeIn(star, run_time=2))\n",
    "# Wait for a second\n",
    "self.wait()\n",
    "# Transform star into a circle\n",
    "self.play(Transform(star, circle))\n",
    "self.wait(0.5)\n",
    "# Remove the circle by fading it out\n",
    "self.play(FadeOut(circle))\n",
    "```\n",
    "\n",
    "Every time you create an animation, you have to wrap it inside the `play` function so that they are rendered on the screen.\n",
    "\n",
    "Lastly, we have the constants like `RED`, `BLUE`, `YELLOW`, `PI`, `TAU`, etc. These are part of the `constants` module of Manim and encode commonly used values as variables and are imported in the first line of the snippet:"
   ]
  },
  {
   "cell_type": "code",
   "execution_count": 3,
   "metadata": {},
   "outputs": [
    {
     "data": {
      "text/plain": [
       "('#FFFF00', '#FC6255', '#58C4DD')"
      ]
     },
     "execution_count": 3,
     "metadata": {},
     "output_type": "execute_result"
    }
   ],
   "source": [
    "from manim import *\n",
    "\n",
    "YELLOW, RED, BLUE"
   ]
  },
  {
   "cell_type": "code",
   "execution_count": 4,
   "metadata": {},
   "outputs": [
    {
     "data": {
      "text/plain": [
       "(3.141592653589793, 6.283185307179586)"
      ]
     },
     "execution_count": 4,
     "metadata": {},
     "output_type": "execute_result"
    }
   ],
   "source": [
    "PI, TAU"
   ]
  }
 ],
 "metadata": {
  "kernelspec": {
   "display_name": "medium_articles",
   "language": "python",
   "name": "medium_articles"
  },
  "language_info": {
   "codemirror_mode": {
    "name": "ipython",
    "version": 3
   },
   "file_extension": ".py",
   "mimetype": "text/x-python",
   "name": "python",
   "nbconvert_exporter": "python",
   "pygments_lexer": "ipython3",
   "version": "3.8.5"
  }
 },
 "nbformat": 4,
 "nbformat_minor": 4
}
