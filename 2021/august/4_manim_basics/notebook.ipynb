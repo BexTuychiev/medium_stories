{
 "cells": [
  {
   "cell_type": "markdown",
   "metadata": {},
   "source": [
    "# Love 3Blue1Brown Animations? Learn How to Create One in Python Using Manim\n",
    "## TODO\n",
    "![](images/opening.png)\n",
    "<figcaption style=\"text-align: center;\">\n",
    "    <strong>\n",
    "        All images are by the author unless specified otherwise.\n",
    "    </strong>\n",
    "</figcaption>"
   ]
  },
  {
   "cell_type": "markdown",
   "metadata": {},
   "source": [
    "Do you know how many lines of code went into creating the Essence of Linear Algebra series of 3Blue1Brown?\n",
    "\n",
    "> 22,466!\n",
    "\n",
    "With 16 videos in the series and a total of +100 on the channel, these numbers speak volumes of how much the math world is indebted to Grant Sanderson. \n",
    "\n"
   ]
  },
  {
   "cell_type": "markdown",
   "metadata": {},
   "source": [
    "# What is Manim?"
   ]
  },
  {
   "cell_type": "markdown",
   "metadata": {},
   "source": [
    "Manim stands for *mathematical animation* engine and was created by Grant Sanderson to produce high-precision math animation videos. The main objective of the 3B1B channel and this Python library is to compliment traditional textbook-based math learning with visual intuition.\n",
    "\n",
    "https://www.youtube.com/watch?v=v0YEaeIClKY\n",
    "\n",
    "Currently, there are two versions of Manim: [the original library](https://github.com/3b1b/manim) created by Grant and [the forked version](https://github.com/ManimCommunity/manim) maintained by the Manim community. In this post, we will be using the community version since it is better maintained, tested and most importantly, properly documented.\n",
    "\n",
    "There are many installation options and I think, using the Docker image is the most hassle-free way to interact with the library. Kindly refer to [this page](https://hub.docker.com/r/manimcommunity/manim) for Dockerized installation instructions or [this page](https://docs.manim.community/en/stable/installation.html) for other options so that you can follow along. \n",
    "\n",
    "Or, you can just stay and enjoy the content, because there will be some awesome animations!"
   ]
  },
  {
   "cell_type": "markdown",
   "metadata": {},
   "source": [
    "> Note that the post contains several animations as GIFs and videos, which might slow down their display. You can download the source code of the article from [my GitHub repo](https://github.com/BexTuychiev/medium_stories/tree/master/2021/august/4_manim_basics). The post also refers to several Python OOP concepts that might confuse beginners. If at any point you find yourself struggling, check out [my OOP series](https://ibexorigin.medium.com/list/objectoriented-programming-essentials-for-data-scientists-cf2ff3dc9fc9)."
   ]
  },
  {
   "cell_type": "markdown",
   "metadata": {},
   "source": [
    "# Higher-level overview of how Manim works"
   ]
  },
  {
   "cell_type": "markdown",
   "metadata": {},
   "source": [
    "Manim was created as a bridge between [FFmpeg video encoding engine](https://en.wikipedia.org/wiki/FFmpeg) and Python. Since you can't communicate built-in Python data structures to FFmpeg, Manim implements several classes focused on mathematical object representation and animation.\n",
    "\n",
    "These classes are generally divided into 3 categories: `Scene`, `Mobject` and `Animation`. To explain these concepts more clearly, let's create our very first animation:"
   ]
  },
  {
   "cell_type": "markdown",
   "metadata": {},
   "source": [
    "```python\n",
    "from manim import *\n",
    "\n",
    "\n",
    "class MyFirstAnimation(Scene):\n",
    "    def construct(self):\n",
    "        # Create basic mobjects\n",
    "        star = Star(n=5, fill_color=RED, stroke_color=BLUE)\n",
    "        circle = Circle(fill_color=DARK_BLUE, fill_opacity=0.8, stroke_color=BLUE)\n",
    "\n",
    "        # Animate Fade in of the star that takes 2 seconds\n",
    "        self.play(FadeIn(star, run_time=2))\n",
    "        # Wait for a second\n",
    "        self.wait()\n",
    "        # Transform star into a circle\n",
    "        self.play(Transform(star, circle))\n",
    "        self.wait(0.5)\n",
    "        # Remove the circle by fading it out\n",
    "        self.play(FadeOut(circle))\n",
    "```"
   ]
  },
  {
   "cell_type": "markdown",
   "metadata": {},
   "source": [
    "After you have installed Manim and saved the above code in a script like `scenes.py`, run the following command:\n",
    "\n",
    "```\n",
    "manim -pqh scenes.py MyFirstAnimation\n",
    "```\n",
    "and you should get this output:"
   ]
  },
  {
   "cell_type": "markdown",
   "metadata": {},
   "source": [
    "Congratulations! You just made your very first animation! \n",
    "\n",
    "Here is the breakdown of this CLI command - adding `-p` to `manim` will enable you to play the video as soon as it is compiled. Combining it with `qh` means render it in high quality. There are 4 quality levels - low (`l`), medium (`m`), high (`h`) and 4k (`k`) with increasing render time. \n",
    "\n",
    "If you want a GIF version of the animation, just add `-i` after `-pqh`. Here is a [full list](https://docs.manim.community/en/stable/tutorials/configuration.html) of manim CLI commands."
   ]
  },
  {
   "cell_type": "markdown",
   "metadata": {},
   "source": [
    "# Breaking down the basic Manim API"
   ]
  },
  {
   "cell_type": "markdown",
   "metadata": {},
   "source": [
    "Let's understand the above animation by analyzing the code line by line. \n",
    "\n",
    "After importing all manim content in the first line, we are defining a scene class with a construct method:\n",
    "\n",
    "```python\n",
    "class MyFirstAnimation(Scene):\n",
    "    def construct(self):\n",
    "        ...\n",
    "```"
   ]
  },
  {
   "cell_type": "markdown",
   "metadata": {},
   "source": [
    "This is the general formula of creating a single animation - you define a custom class that inherits from the [`Scene`](https://docs.manim.community/en/stable/reference/manim.scene.scene.Scene.html) class and has a `construct` method. `Scene` class is the higher-level building block of Manim which connects all related animations and objects into a single structure.\n",
    "\n",
    "Next, we are creating two objects (a star and a circle) that belong to a `Mobject` class (mathematical object). This [`Mobject`](https://docs.manim.community/en/stable/reference_index/mobjects.html) class is a base data structure for many built-in mobjects like geometric shapes, vectors, coordinate systems, etc. Basically, everything that is not a scene and animation is a `Mobject`.\n",
    "\n",
    "```python\n",
    "class MyFirstAnimation(Scene):\n",
    "    def construct(self):\n",
    "        # Create basic mobjects\n",
    "        star = Star(n=5, fill_color=RED, stroke_color=BLUE)\n",
    "        circle = Circle(fill_color=DARK_BLUE, fill_opacity=.8, stroke_color=BLUE)\n",
    "```\n",
    "\n",
    "Then, we have the [`Animation`](https://docs.manim.community/en/stable/reference_index/animations.html) classes. In the above example, we are using 3 of them - `FadeIn`, `Transform` and `FadeOut`. All built-in `Animation` classes in manim accept mobjects as arguments and apply various effects to them. For example, `Transform` accepts two mobjects and plays out a smooth animation that converts the first one to the other.\n",
    "\n",
    "```python\n",
    "self.play(FadeIn(star, run_time=2))\n",
    "# Wait for a second\n",
    "self.wait()\n",
    "# Transform star into a circle\n",
    "self.play(Transform(star, circle))\n",
    "self.wait(0.5)\n",
    "# Remove the circle by fading it out\n",
    "self.play(FadeOut(circle))\n",
    "```\n",
    "\n",
    "Every time you create an animation, you have to wrap it inside the `play` function so that they are rendered on the screen.\n",
    "\n",
    "Lastly, we have the constants like `RED`, `BLUE`, `YELLOW`, `PI`, `TAU`, etc. These are part of the [`constants`](https://docs.manim.community/en/stable/reference/manim.constants.html) module of Manim and encode commonly-used values as variables and are imported in the first line of the snippet:"
   ]
  },
  {
   "cell_type": "code",
   "execution_count": 1,
   "metadata": {
    "tags": []
   },
   "outputs": [
    {
     "data": {
      "text/html": [
       "<pre style=\"white-space:pre;overflow-x:auto;line-height:normal;font-family:Menlo,'DejaVu Sans Mono',consolas,'Courier New',monospace\">Manim Community <span style=\"color: #008000; text-decoration-color: #008000\">v0.9.0</span>\n",
       "\n",
       "</pre>\n"
      ],
      "text/plain": [
       "Manim Community \u001b[32mv0.\u001b[0m\u001b[32m9.0\u001b[0m\n",
       "\n"
      ]
     },
     "metadata": {},
     "output_type": "display_data"
    },
    {
     "data": {
      "text/plain": [
       "('#FFFF00', '#FC6255', '#58C4DD')"
      ]
     },
     "execution_count": 1,
     "metadata": {},
     "output_type": "execute_result"
    }
   ],
   "source": [
    "from manim import *\n",
    "\n",
    "YELLOW, RED, BLUE"
   ]
  },
  {
   "cell_type": "code",
   "execution_count": 2,
   "metadata": {},
   "outputs": [
    {
     "data": {
      "text/plain": [
       "(3.141592653589793, 6.283185307179586)"
      ]
     },
     "execution_count": 2,
     "metadata": {},
     "output_type": "execute_result"
    }
   ],
   "source": [
    "PI, TAU  # 2 * PI"
   ]
  },
  {
   "cell_type": "markdown",
   "metadata": {},
   "source": [
    "# Controlling Mobjects and their location"
   ]
  },
  {
   "cell_type": "markdown",
   "metadata": {},
   "source": [
    "By default, all mobjects added to the screen gets displayed in the `ORIGIN`:"
   ]
  },
  {
   "cell_type": "code",
   "execution_count": 3,
   "metadata": {},
   "outputs": [
    {
     "data": {
      "text/plain": [
       "array([0., 0., 0.])"
      ]
     },
     "execution_count": 3,
     "metadata": {},
     "output_type": "execute_result"
    }
   ],
   "source": [
    "ORIGIN"
   ]
  },
  {
   "cell_type": "markdown",
   "metadata": {},
   "source": [
    "Manim uses numpy arrays to represent the screen in `x`, `y`, `z` coordinates. `z` will stay 0 as long as you are animating in the 2D space. To shift an object a single unit in either `x` or `y` direction, you can use constants `LEFT`, `RIGHT`, `UP` and `DOWN`:"
   ]
  },
  {
   "cell_type": "code",
   "execution_count": 6,
   "metadata": {},
   "outputs": [
    {
     "data": {
      "text/plain": [
       "(array([-1.,  0.,  0.]),\n",
       " array([1., 0., 0.]),\n",
       " array([0., 1., 0.]),\n",
       " array([ 0., -1.,  0.]))"
      ]
     },
     "execution_count": 6,
     "metadata": {},
     "output_type": "execute_result"
    }
   ],
   "source": [
    "LEFT, RIGHT, UP, DOWN"
   ]
  },
  {
   "cell_type": "markdown",
   "metadata": {},
   "source": [
    "As an example, we will draw 4 mobjects at different locations in the screen and place a dot at the origin for reference:"
   ]
  },
  {
   "cell_type": "markdown",
   "metadata": {},
   "source": [
    "```python\n",
    "%%manim ShowCoordinates\n",
    "\n",
    "\n",
    "class ShowCoordinates(Scene):\n",
    "    def construct(self):\n",
    "        # place a dot at the origin\n",
    "        dot = Dot(radius=0.16, color=RED)\n",
    "        # Add the dot to the screen\n",
    "        self.add(dot)\n",
    "        # Create 4 different mobjects and shift them from the origin\n",
    "        square = Square().shift(2 * LEFT)\n",
    "        triangle = Triangle().shift(2 * RIGHT)\n",
    "        circle = Circle().shift(2 * DOWN)\n",
    "        star = Star(n=7).shift(2 * UP)\n",
    "        # Add all to the screen\n",
    "        self.add(square, triangle, circle, star)\n",
    "```"
   ]
  },
  {
   "cell_type": "markdown",
   "metadata": {},
   "source": [
    "Since `LEFT`, `RIGHT`, etc. variables are Numpy arrays, they allow numeric operations that allow scaling them like above. There are also other built-in location variables like `UL` (UP + LEFT), `DR` (DOWN + RIGHT), etc.:"
   ]
  },
  {
   "cell_type": "code",
   "execution_count": 8,
   "metadata": {},
   "outputs": [
    {
     "data": {
      "text/plain": [
       "(array([-1.,  1.,  0.]), array([ 1., -1.,  0.]))"
      ]
     },
     "execution_count": 8,
     "metadata": {},
     "output_type": "execute_result"
    }
   ],
   "source": [
    "UL, DR"
   ]
  },
  {
   "cell_type": "markdown",
   "metadata": {},
   "source": [
    "In the above snippet, we are using the `shift` method of the mobjects by passing their new coordinate location. Since `shift` is only a function, the actual shifting does not get animated. To display mobjects that aren't animated, we use the `add` method.\n",
    "\n",
    "What if we wanted to animate that shifting motion? Well, you can just chain `shift` after the `animate` function like so:"
   ]
  },
  {
   "cell_type": "markdown",
   "metadata": {},
   "source": [
    "```python \n",
    "%%manim -i ShowCoords2\n",
    "\n",
    "\n",
    "class ShowCoords2(Scene):\n",
    "    def construct(self):\n",
    "        # place a dot at the origin\n",
    "        dot = Dot(radius=0.16, color=RED)  # twice the usual size\n",
    "\n",
    "        # Create 4 different mobjects and animate their shift\n",
    "        new_locations = [2 * UL, 2 * UR, 2 * DL, 2 * DR]\n",
    "        mobjects = [Square(), Triangle(), Circle(), Star(n=7)]\n",
    "\n",
    "        for loc, mob in zip(new_locations, mobjects):\n",
    "            self.play(mob.animate.shift(loc))\n",
    "\n",
    "        # Add the dot with Create animation\n",
    "        self.play(Create(dot))\n",
    "```"
   ]
  },
  {
   "cell_type": "markdown",
   "metadata": {},
   "source": [
    "In fact, with `animate` method, you can animate almost any type of change to an mobject. For example, mobjects have several methods that start with `set_*` that changes their attributes. Here is an example:"
   ]
  },
  {
   "cell_type": "markdown",
   "metadata": {},
   "source": [
    "```python\n",
    "%%manim -i AnimateAttribs\n",
    "\n",
    "\n",
    "class AnimateAttribs(Scene):\n",
    "    def construct(self):\n",
    "        # Create a simple square\n",
    "        square = Square(side_length=2)\n",
    "\n",
    "        # Scale to twice the size\n",
    "        self.play(square.animate.scale(2))\n",
    "        # Rotate\n",
    "        self.play(square.animate.rotate(PI / 3))  # Rotate 60 degrees\n",
    "        # Change the fill color and opacity\n",
    "        self.play(square.animate.set_fill(RED, opacity=0.7))\n",
    "        self.wait(2)\n",
    "```"
   ]
  },
  {
   "cell_type": "markdown",
   "metadata": {},
   "source": [
    "# Animating functions"
   ]
  },
  {
   "cell_type": "markdown",
   "metadata": {},
   "source": [
    "Let's get a bit more serious and learn how to draw functions and animate their creation. From now on, I will be using JupyterLab and its `%%manim` cell magic to render the manim output. The syntax is exactly the same as the CLI interface."
   ]
  },
  {
   "cell_type": "markdown",
   "metadata": {},
   "source": [
    "```python\n",
    "%%manim -i -qh -o func_example FunctionExample\n",
    "import numpy as np\n",
    "\n",
    "class FunctionExample(Scene):\n",
    "    def construct(self):\n",
    "        axes = Axes(\n",
    "            x_range=[-5, 5, .5],\n",
    "            y_range=[-3, 4, 1],\n",
    "            x_axis_config={\"numbers_to_include\": [-4, -3, 3, 4]},\n",
    "            y_axis_config={\"numbers_to_include\": [-2, 2, 3]},\n",
    "            tips=True\n",
    "        )\n",
    "        axes_labels=axes.get_axis_labels()\n",
    "        # Get the graph of a simple functions\n",
    "        graph = axes.get_graph(lambda x: np.sin(1/x), color=RED)\n",
    "        # Set up its label\n",
    "        graph_label = axes.get_graph_label(\n",
    "            graph, x_val=1, direction=2 * UP + RIGHT,\n",
    "           label=r'f(x) = \\sin(\\frac{1}{x})', color=DARK_BLUE\n",
    "        )\n",
    "\n",
    "        # Graph the axes components together\n",
    "        axes_group = VGroup(axes, axes_labels)\n",
    "        \n",
    "        # Animate\n",
    "        self.play(Create(axes_group), run_time=2)\n",
    "        self.wait(0.25)\n",
    "        self.play(Create(graph), run_time=3)\n",
    "        self.play(Write(graph_label), run_time=2)   \n",
    "```"
   ]
  },
  {
   "cell_type": "markdown",
   "metadata": {},
   "source": [
    "To draw a 2D axes like in Matplotlib, call the [`Axes`](https://docs.manim.community/en/stable/reference/manim.mobject.coordinate_systems.Axes.html) class with the desired arguments. \n",
    "\n",
    "Next, we are using the [`get_graph`](https://docs.manim.community/en/stable/reference/manim.mobject.coordinate_systems.CoordinateSystem.html#manim.mobject.coordinate_systems.CoordinateSystem.get_graph) method, passing the function we want to draw. This built-in method only accepts single variable functions that return a one-to-one mapping between `x` and `y`. In the above example, we are drawing the graph of $f(x) = \\sin(\\frac{1}{x})$. \n",
    "\n",
    "```python\n",
    "# Get the graph of a simple functions\n",
    "graph = axes.get_graph(lambda x: np.sin(1/x), color=RED)\n",
    "```\n",
    "Optionally, you can place the function's label at a specific location using `get_graph_label`:\n",
    "\n",
    "```python\n",
    "# Set up its label\n",
    "graph_label = axes.get_graph_label(\n",
    "    graph, x_val=1, direction=2 * UP + RIGHT,\n",
    "   label=r'f(x) = \\sin(\\frac{1}{x})', color=DARK_BLUE\n",
    ")\n",
    "```\n",
    "\n",
    "Finally, we are creating a group of mobjects using the [`VGroup`](https://docs.manim.community/en/stable/reference/manim.mobject.types.vectorized_mobject.VGroup.html?highlight=vgroup) class. It allows simultaneous animations and transformations on multiple mobjects.\n",
    "\n",
    "Also, don't forget to draw each mobject you created. Either use animation functions like `Create`/`Write` or simply use `self.add`."
   ]
  },
  {
   "cell_type": "markdown",
   "metadata": {},
   "source": [
    "# More cool examples"
   ]
  },
  {
   "cell_type": "markdown",
   "metadata": {},
   "source": [
    "You didn't think I would leave without showing some signature animations of 3B1B, right?\n",
    "\n",
    "I got to know about 3B1B from his Essence of Linear Algebra series and seeing a linear transformation of space completely blew my mind. The crazy part is that animating it is stupidly easy with Manim:"
   ]
  },
  {
   "cell_type": "markdown",
   "metadata": {},
   "source": [
    "```python\n",
    "%%manim -qh -o lin_transform LinearTransformExample\n",
    "\n",
    "class LinearTransformExample(LinearTransformationScene):\n",
    "    def __init__(self):\n",
    "        LinearTransformationScene.__init__(\n",
    "            self,\n",
    "            show_coordinates=True,\n",
    "            leave_ghost_vectors=True,\n",
    "        )\n",
    "        \n",
    "    def construct(self):\n",
    "        # Create the matrix that does the transform\n",
    "        matrix = [[3, 1], \n",
    "                  [4, 2]]\n",
    "        self.apply_matrix(matrix)\n",
    "        self.wait(2)\n",
    "```"
   ]
  },
  {
   "cell_type": "markdown",
   "metadata": {},
   "source": [
    "Similarly, seeing functions graphed in 3D was really eye-opening because we are all used to drawing functions on the XY plane. You will realize how beautiful math can be when you look at functions like below:"
   ]
  },
  {
   "cell_type": "markdown",
   "metadata": {},
   "source": [
    "```python\n",
    "%%manim -qh -o threeDexample ThreeDSurface\n",
    "\n",
    "class ThreeDSurface(ThreeDScene):\n",
    "    def construct(self):\n",
    "        res = 30\n",
    "        self.set_camera_orientation(phi=50*DEGREES, theta=-30*DEGREES)\n",
    "        \n",
    "        def ripple(u, v):\n",
    "            x = u\n",
    "            y = v\n",
    "            z = np.sin(10*(x**2 + y**2)) / 10\n",
    "            return np.array([x, y, z])\n",
    "        \n",
    "        ripple_plane = ParametricSurface(\n",
    "            ripple, resolution=(res, res),\n",
    "            v_range=[-3, 3],\n",
    "            u_range=[-3, 3],\n",
    "            checkerboard_colors=None\n",
    "        )\n",
    "        # Set up the ripple plane\n",
    "        ripple_plane.scale_about_point(1.5, ORIGIN)\n",
    "        ripple_plane.set_style(fill_opacity=.5, stroke_color=ORANGE)\n",
    "        # Create 3D axes\n",
    "        axes = ThreeDAxes()\n",
    "        # Animate\n",
    "        self.add(axes)\n",
    "        self.play(GrowFromCenter(ripple_plane), run_time=3)\n",
    "        # Rotate around the Z axis for 20 seconds\n",
    "        self.begin_ambient_camera_rotation()\n",
    "        self.wait(20)\n",
    "        self.stop_ambient_camera_rotation()\n",
    "```"
   ]
  },
  {
   "cell_type": "markdown",
   "metadata": {},
   "source": [
    "Hey, how about those non-linear transforms?"
   ]
  },
  {
   "cell_type": "markdown",
   "metadata": {},
   "source": [
    "```python\n",
    "%%manim -i -qh -o non_lin_transform NonLinearTransform\n",
    "\n",
    "\n",
    "class NonLinearTransform(Scene):\n",
    "    def construct(self):\n",
    "        # Create the grid and add it to screen\n",
    "        grid = NumberPlane()\n",
    "        self.add(grid)\n",
    "        self.play(Create(grid, run_time=3, lag_ratio=.1))\n",
    "        \n",
    "        self.wait()\n",
    "        \n",
    "        grid.prepare_for_nonlinear_transform()\n",
    "        # Transform\n",
    "        self.play(\n",
    "        grid.animate.apply_function(\n",
    "                    lambda p: p + np.array(\n",
    "                        [np.cos(p[1]), np.exp(2*np.sin(p[0]) + np.tan(p[0])), 0,]\n",
    "                )\n",
    "            ),\n",
    "            run_time=3,\n",
    "        )\n",
    "        \n",
    "        self.wait()\n",
    "```"
   ]
  },
  {
   "cell_type": "markdown",
   "metadata": {},
   "source": [
    "Can it get any better than this? Of course it can!\n",
    "\n",
    "What you learned today, though very cool already, is only a thin slice of what manim can do. The above animations are only what Grant Sanderson uses in his simple opening scenes. \n",
    "\n",
    "The library has a steep learning curve when you want to move beyond the built-in mobjects and animation classes. Implementing custom classes can be pretty verbose, often taking thousands lines of code for longer videos.\n",
    "\n",
    "However, this shouldn't stop you if you truly love math and explaining it to others in novel and creative ways."
   ]
  },
  {
   "cell_type": "markdown",
   "metadata": {},
   "source": [
    "# Parting words"
   ]
  },
  {
   "cell_type": "markdown",
   "metadata": {},
   "source": [
    "I apologize for turning this piece into too much of a \"how-to\" post. That's just my deep-rooted tendency to over-explain things. \n",
    "\n",
    "However, I felt that proper explanations were necessary since the Internet was full of outdated tutorials and videos. On top of that, there is that confusion when you accidentally use different versions of manim in a single project. \n",
    "\n",
    "I strongly recommend going through every page of the [documentation of the community version](https://docs.manim.community/en/stable/) if you want to be a die-hard manim animator. I also suggest you check out channels like [this](https://www.youtube.com/channel/UCK8XIGR5kRidIw2fWqwyHRA) that use Manim and read their source code. "
   ]
  }
 ],
 "metadata": {
  "kernelspec": {
   "display_name": "medium_articles",
   "language": "python",
   "name": "medium_articles"
  },
  "language_info": {
   "codemirror_mode": {
    "name": "ipython",
    "version": 3
   },
   "file_extension": ".py",
   "mimetype": "text/x-python",
   "name": "python",
   "nbconvert_exporter": "python",
   "pygments_lexer": "ipython3",
   "version": "3.8.5"
  }
 },
 "nbformat": 4,
 "nbformat_minor": 4
}
