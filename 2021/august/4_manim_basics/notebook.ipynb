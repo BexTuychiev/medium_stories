{
 "cells": [
  {
   "cell_type": "markdown",
   "metadata": {},
   "source": [
    "# Love 3Blue1Brown Animations? Learn How to Create One in Python Using Manim\n",
    "## TODO\n",
    "![](images/pexels.jpg)\n",
    "<figcaption style=\"text-align: center;\">\n",
    "    <strong>\n",
    "        Photo by \n",
    "        <a href='https://www.pexels.com/@eye4dtail?utm_content=attributionCopyText&utm_medium=referral&utm_source=pexels'>George Becker</a>\n",
    "        on \n",
    "        <a href='https://www.pexels.com/photo/1-1-3-text-on-black-chalkboard-374918/?utm_content=attributionCopyText&utm_medium=referral&utm_source=pexels'>Pexels.</a> All images are by the author unless specified otherwise.\n",
    "    </strong>\n",
    "</figcaption>"
   ]
  },
  {
   "cell_type": "markdown",
   "metadata": {},
   "source": [
    "Do you know how many lines of code went into creating the Essence of Linear Algebra series of 3Blue1Brown?\n",
    "\n",
    "> 22,466!\n",
    "\n",
    "This gives an average of ~1400 lines per video. Now, multiply this number to about 100 *(fill in the adjective)* videos Grant Sanders has created and you can get a rough estimate of how much online math world is indebted to him."
   ]
  },
  {
   "cell_type": "markdown",
   "metadata": {},
   "source": [
    "# Higher-level overview of how Manim works"
   ]
  },
  {
   "cell_type": "markdown",
   "metadata": {},
   "source": [
    "Manim was created as a bridge between [FFmpeg video encoding engine](https://en.wikipedia.org/wiki/FFmpeg) and Python. Since you can't communicate built-in Python data structures to FFmpeg, Manim implements several classes focused on mathematical object representation and animation.\n",
    "\n",
    "These classes are generally divided into 3 categories: `Scene`, `Mobject` and `Animation`. To explain this concepts more clearly, let's create our very first animation:"
   ]
  },
  {
   "cell_type": "markdown",
   "metadata": {},
   "source": [
    "```python\n",
    "from manim import *\n",
    "\n",
    "\n",
    "class MyFirstAnimation(Scene):\n",
    "    def construct(self):\n",
    "        # Create basic mobjects\n",
    "        star = Star(n=5, fill_color=RED, stroke_color=BLUE)\n",
    "        circle = Circle(fill_color=DARK_BLUE, fill_opacity=.8, stroke_color=BLUE)\n",
    "\n",
    "        # Animate Fade in of the star that takes 2 seconds\n",
    "        self.play(FadeIn(star, run_time=2))\n",
    "        # Wait for a second\n",
    "        self.wait()\n",
    "        # Transform star into a circle\n",
    "        self.play(Transform(star, circle))\n",
    "        self.wait(0.5)\n",
    "        # Remove the circle by fading it out\n",
    "        self.play(FadeOut(circle))\n",
    "\n",
    "```"
   ]
  },
  {
   "cell_type": "markdown",
   "metadata": {},
   "source": [
    "After you have installed Manim using these instructions and saving the above code in a script like `scenes.py`, run the following command in the command-line:\n",
    "\n",
    "```\n",
    "manim -pqh scenes.py MyFirstAnimation\n",
    "```\n",
    "and you will get the following output:\n",
    "\n",
    "![](images/example_1.gif)"
   ]
  },
  {
   "cell_type": "markdown",
   "metadata": {},
   "source": [
    "Congratulations! You just made your very first animation! Here is what the above command means - adding `-p` will enable you to play the video as soon as it is compiled. Combining it `qh` means render it in high quality. There are 4 quality levels and codes - low (`l`), medium (`m`), high (`h`) and 4k (`k`) with increasing render time. \n",
    "\n",
    "If you want a gif version of the animation like above just add `i` after `-pqh`. Here is a full list of manim [CLI commands](https://docs.manim.community/en/stable/tutorials/configuration.html)."
   ]
  },
  {
   "cell_type": "markdown",
   "metadata": {},
   "source": [
    "# Breaking down basic Manim API"
   ]
  },
  {
   "cell_type": "markdown",
   "metadata": {},
   "source": [
    "Let's understand how we got to the above animation by analyzing the code line by line. \n",
    "\n",
    "After importing all manim content in the first line, we are defining a scene class with a construct method:\n",
    "\n",
    "```python\n",
    "class MyFirstAnimation(Scene):\n",
    "    def construct(self):\n",
    "```"
   ]
  },
  {
   "cell_type": "markdown",
   "metadata": {},
   "source": [
    "This is the general formula of creating a single animation - you define a custom class that inherits from the `Scene` class and has a `construct` method. `Scene` class is the higher-level building block of Manim which connects all related animations and objects into a single structure.\n",
    "\n",
    "Next, we are creating two objects (a star and a circle) that belong to a `Mobject` class (mathematical object). This `Mobject` class is a base data structure for many built-in mobjects like geometric shapes, vectors, coordinate systems, etc. Basically, everything that is not a scene and animation is a `Mobject`.\n",
    "\n",
    "```python\n",
    "class MyFirstAnimation(Scene):\n",
    "    def construct(self):\n",
    "        # Create basic mobjects\n",
    "        star = Star(n=5, fill_color=RED, stroke_color=BLUE)\n",
    "        circle = Circle(fill_color=DARK_BLUE, fill_opacity=.8, stroke_color=BLUE)\n",
    "```\n",
    "\n",
    "All `Mobject`s have their own properties like `fill_color`, `fill_opacity` or `n` for the number of points of the star mobject. \n",
    "\n",
    "Then, we have the `Animation` classes. In the above example, we are using 3 of them - `FadeIn`, `Transform` and `FadeOut`. All built-in `Animation` classes in manim accept mobjects as arguments and apply various effects to them. For example, `Transform` accepts two mobjects and plays out a smooth animation that converts the first one to the other.\n",
    "\n",
    "```python\n",
    "self.play(FadeIn(star, run_time=2))\n",
    "# Wait for a second\n",
    "self.wait()\n",
    "# Transform star into a circle\n",
    "self.play(Transform(star, circle))\n",
    "self.wait(0.5)\n",
    "# Remove the circle by fading it out\n",
    "self.play(FadeOut(circle))\n",
    "```\n",
    "\n",
    "Every time you create an animation, you have to wrap it inside the `play` function so that they are rendered on the screen.\n",
    "\n",
    "Lastly, we have the constants like `RED`, `BLUE`, `YELLOW`, `PI`, `TAU`, etc. These are part of the `constants` module of Manim and encode commonly used values as variables and are imported in the first line of the snippet:"
   ]
  },
  {
   "cell_type": "code",
   "execution_count": 3,
   "metadata": {
    "tags": []
   },
   "outputs": [
    {
     "data": {
      "text/plain": [
       "('#FFFF00', '#FC6255', '#58C4DD')"
      ]
     },
     "execution_count": 3,
     "metadata": {},
     "output_type": "execute_result"
    }
   ],
   "source": [
    "from manim import *\n",
    "\n",
    "YELLOW, RED, BLUE"
   ]
  },
  {
   "cell_type": "code",
   "execution_count": 4,
   "metadata": {},
   "outputs": [
    {
     "data": {
      "text/plain": [
       "(3.141592653589793, 6.283185307179586)"
      ]
     },
     "execution_count": 4,
     "metadata": {},
     "output_type": "execute_result"
    }
   ],
   "source": [
    "PI, TAU  # 2 * PI"
   ]
  },
  {
   "cell_type": "markdown",
   "metadata": {},
   "source": [
    "# Controlling Mobjects and their location"
   ]
  },
  {
   "cell_type": "markdown",
   "metadata": {},
   "source": [
    "By default, all mobjects added to the screen gets displayed in the `ORIGIN`:"
   ]
  },
  {
   "cell_type": "code",
   "execution_count": 5,
   "metadata": {},
   "outputs": [
    {
     "data": {
      "text/plain": [
       "array([0., 0., 0.])"
      ]
     },
     "execution_count": 5,
     "metadata": {},
     "output_type": "execute_result"
    }
   ],
   "source": [
    "ORIGIN"
   ]
  },
  {
   "cell_type": "markdown",
   "metadata": {},
   "source": [
    "Manim uses numpy arrays to represent the screen in `x`, `y`, `z` coordinates. `z` will stay 0 as long as you are animating in the 2D space. To shift object a single unit in either `x` or `y` direction, you can use constants `LEFT`, `RIGHT`, `UP` and `DOWN`:"
   ]
  },
  {
   "cell_type": "code",
   "execution_count": 6,
   "metadata": {},
   "outputs": [
    {
     "data": {
      "text/plain": [
       "(array([-1.,  0.,  0.]),\n",
       " array([1., 0., 0.]),\n",
       " array([0., 1., 0.]),\n",
       " array([ 0., -1.,  0.]))"
      ]
     },
     "execution_count": 6,
     "metadata": {},
     "output_type": "execute_result"
    }
   ],
   "source": [
    "LEFT, RIGHT, UP, DOWN"
   ]
  },
  {
   "cell_type": "markdown",
   "metadata": {},
   "source": [
    "As an example, we will draw 4 mobjects at different locations in the screen and place a dot at the origin for reference:"
   ]
  },
  {
   "cell_type": "markdown",
   "metadata": {},
   "source": [
    "```python\n",
    "class ShowCoordinates(Scene):\n",
    "    def construct(self):\n",
    "        # place a dot at the origin\n",
    "        dot = Dot(radius=0.16, color=RED)  # twice the usual size\n",
    "        # Add the dot to the screen\n",
    "        self.add(dot)\n",
    "        # Create 4 different mobjects\n",
    "        square = Square().shift(2 * LEFT)\n",
    "        triangle = Triangle().shift(2 * RIGHT)\n",
    "        circle = Circle().shift(2 * DOWN)\n",
    "        star = Star(n=7).shift(2 * UP)\n",
    "        # Add all to the screen\n",
    "        self.add(square, triangle, circle, star)\n",
    "```\n",
    "\n",
    "![](images/example_2.png)"
   ]
  },
  {
   "cell_type": "markdown",
   "metadata": {},
   "source": [
    "Since `LEFT`, `RIGHT`, etc. variables are Numpy arrays, they allow numeric operations that allow scaling them like above. There are also other built-in location variables like `UL` (UP + LEFT), `DR` (DOWN + RIGHT), etc.:"
   ]
  },
  {
   "cell_type": "code",
   "execution_count": 8,
   "metadata": {},
   "outputs": [
    {
     "data": {
      "text/plain": [
       "(array([-1.,  1.,  0.]), array([ 1., -1.,  0.]))"
      ]
     },
     "execution_count": 8,
     "metadata": {},
     "output_type": "execute_result"
    }
   ],
   "source": [
    "UL, DR"
   ]
  },
  {
   "cell_type": "markdown",
   "metadata": {},
   "source": [
    "In the above snippet, we are using the `shift` method of the mobjects by passing their new coordinate location. Since `shift` is only a function, the actual shifting does not get animated. To display mobjects that aren't animated, we use the `add` method.\n",
    "\n",
    "What if we wanted to animate that shifting motion? Well, you can just chain them after the `animate` function like so:"
   ]
  },
  {
   "cell_type": "markdown",
   "metadata": {},
   "source": [
    "```python\n",
    "class ShowCoords2(Scene):\n",
    "    def construct(self):\n",
    "        # place a dot at the origin\n",
    "        dot = Dot(radius=0.16, color=RED)  # twice the usual size\n",
    "        # Create 4 different mobjects and animate their shift\n",
    "        new_locations = [2 * UL, 2 * UR, 2 * DL, 2 * DR]\n",
    "        mobjects = [Square(), Triangle(), Circle(), Star(n=7)]\n",
    "        for loc, mob in zip(new_locations, mobjects):\n",
    "            self.play(mob.animate.shift(loc))\n",
    "\n",
    "        # Add the dot with Create animation\n",
    "        self.play(Create(dot))\n",
    "```\n",
    "![](images/example_3.gif)"
   ]
  },
  {
   "cell_type": "markdown",
   "metadata": {},
   "source": [
    "In fact, with `animate` method, you can animate almost any type of change to an mobject. For example, mobjects have several methods that start with `set_*` that changes their attributes. Here is an example:\n",
    "\n",
    "```python\n",
    "class AnimateAttribs(Scene):\n",
    "    def construct(self):\n",
    "        # Create a simple square\n",
    "        square = Square(side_length=2)\n",
    "\n",
    "        # Scale to twice the size\n",
    "        self.play(square.animate.scale(2))\n",
    "        # Rotate\n",
    "        self.play(square.animate.rotate(PI / 3))  # Rotate 60 degrees\n",
    "        # Change the fill color\n",
    "        self.play(square.animate.set_fill(RED))\n",
    "        # Change the opacity\n",
    "        self.play(square.animate.set_opacity(0.3), run_time=2)\n",
    "```\n",
    "\n",
    "![](images/example_4.gif)"
   ]
  }
 ],
 "metadata": {
  "kernelspec": {
   "display_name": "medium_articles",
   "language": "python",
   "name": "medium_articles"
  },
  "language_info": {
   "codemirror_mode": {
    "name": "ipython",
    "version": 3
   },
   "file_extension": ".py",
   "mimetype": "text/x-python",
   "name": "python",
   "nbconvert_exporter": "python",
   "pygments_lexer": "ipython3",
   "version": "3.8.5"
  }
 },
 "nbformat": 4,
 "nbformat_minor": 4
}
