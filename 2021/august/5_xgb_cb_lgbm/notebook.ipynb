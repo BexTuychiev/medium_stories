{
 "cells": [
  {
   "cell_type": "markdown",
   "metadata": {
    "tags": []
   },
   "source": [
    "# Game of the Gradients: XGBoost vs. CatBoost vs. LightGMB vs. Sklearn on 21 Datasets\n",
    "## You will be surprised at who is going to win\n",
    "![](images/pexels.jpg)"
   ]
  },
  {
   "cell_type": "code",
   "execution_count": 1,
   "metadata": {},
   "outputs": [
    {
     "data": {
      "text/html": [
       "<style type='text/css'>\n",
       ".datatable table.frame { margin-bottom: 0; }\n",
       ".datatable table.frame thead { border-bottom: none; }\n",
       ".datatable table.frame tr.coltypes td {  color: #FFFFFF;  line-height: 6px;  padding: 0 0.5em;}\n",
       ".datatable .bool    { background: #DDDD99; }\n",
       ".datatable .object  { background: #565656; }\n",
       ".datatable .int     { background: #5D9E5D; }\n",
       ".datatable .float   { background: #4040CC; }\n",
       ".datatable .str     { background: #CC4040; }\n",
       ".datatable .time    { background: #40CC40; }\n",
       ".datatable .row_index {  background: var(--jp-border-color3);  border-right: 1px solid var(--jp-border-color0);  color: var(--jp-ui-font-color3);  font-size: 9px;}\n",
       ".datatable .frame tbody td { text-align: left; }\n",
       ".datatable .frame tr.coltypes .row_index {  background: var(--jp-border-color0);}\n",
       ".datatable th:nth-child(2) { padding-left: 12px; }\n",
       ".datatable .hellipsis {  color: var(--jp-cell-editor-border-color);}\n",
       ".datatable .vellipsis {  background: var(--jp-layout-color0);  color: var(--jp-cell-editor-border-color);}\n",
       ".datatable .na {  color: var(--jp-cell-editor-border-color);  font-size: 80%;}\n",
       ".datatable .sp {  opacity: 0.25;}\n",
       ".datatable .footer { font-size: 9px; }\n",
       ".datatable .frame_dimensions {  background: var(--jp-border-color3);  border-top: 1px solid var(--jp-border-color0);  color: var(--jp-ui-font-color3);  display: inline-block;  opacity: 0.6;  padding: 1px 10px 1px 5px;}\n",
       "</style>\n"
      ],
      "text/plain": [
       "<IPython.core.display.HTML object>"
      ]
     },
     "metadata": {},
     "output_type": "display_data"
    }
   ],
   "source": [
    "import warnings\n",
    "\n",
    "warnings.filterwarnings(\"ignore\")\n",
    "from utility import CBTask, LGBMTask, MasterTask, XGBTask"
   ]
  },
  {
   "cell_type": "code",
   "execution_count": 2,
   "metadata": {},
   "outputs": [],
   "source": [
    "tasks = [\n",
    "    (\"data/bin5_banknote.csv\", \"Banknote classification\", \"class\", \"binary\"),\n",
    "    (\"data/m3_wine.csv\", \"Wine Quality\", \"quality\", \"multi\"),\n",
    "]"
   ]
  },
  {
   "cell_type": "code",
   "execution_count": 3,
   "metadata": {},
   "outputs": [],
   "source": [
    "mtask = MasterTask(tasks)"
   ]
  },
  {
   "cell_type": "code",
   "execution_count": 4,
   "metadata": {},
   "outputs": [
    {
     "name": "stderr",
     "output_type": "stream",
     "text": [
      "31-Aug-21 13:22:10 - ============Training XGBoost model on Banknote classification data============\n",
      "\n",
      "31-Aug-21 13:22:10 - ==========Training fold 0==========\n",
      "31-Aug-21 13:22:11 - ==========Training fold 1==========\n",
      "31-Aug-21 13:22:12 - ==========Training fold 2==========\n",
      "31-Aug-21 13:22:12 - ==========Training fold 3==========\n",
      "31-Aug-21 13:22:12 - ==========Training fold 4==========\n",
      "31-Aug-21 13:22:12 - ==========Training fold 5==========\n",
      "31-Aug-21 13:22:12 - ==========Training fold 6==========\n",
      "31-Aug-21 13:22:12 - ============Training LightGBM model on Banknote classification data============\n",
      "\n",
      "31-Aug-21 13:22:12 - ==========Training fold 0==========\n",
      "31-Aug-21 13:22:13 - ==========Training fold 1==========\n",
      "31-Aug-21 13:22:13 - ==========Training fold 2==========\n",
      "31-Aug-21 13:22:15 - ==========Training fold 3==========\n",
      "31-Aug-21 13:22:15 - ==========Training fold 4==========\n",
      "31-Aug-21 13:22:15 - ==========Training fold 5==========\n",
      "31-Aug-21 13:22:15 - ==========Training fold 6==========\n",
      "31-Aug-21 13:22:16 - ============Training CatBoost model on Banknote classification data============\n",
      "\n",
      "31-Aug-21 13:22:16 - ==========Training fold 0==========\n",
      "31-Aug-21 13:22:22 - ==========Training fold 1==========\n",
      "31-Aug-21 13:22:34 - ==========Training fold 2==========\n",
      "31-Aug-21 13:22:47 - ==========Training fold 3==========\n",
      "31-Aug-21 13:22:51 - ==========Training fold 4==========\n",
      "31-Aug-21 13:22:54 - ==========Training fold 5==========\n",
      "31-Aug-21 13:23:19 - ==========Training fold 6==========\n",
      "31-Aug-21 13:23:25 - ============Training XGBoost model on Wine Quality data============\n",
      "\n",
      "31-Aug-21 13:23:25 - ==========Training fold 0==========\n",
      "31-Aug-21 13:23:26 - ==========Training fold 1==========\n",
      "31-Aug-21 13:23:26 - ==========Training fold 2==========\n",
      "31-Aug-21 13:23:27 - ==========Training fold 3==========\n",
      "31-Aug-21 13:23:28 - ==========Training fold 4==========\n",
      "31-Aug-21 13:23:29 - ==========Training fold 5==========\n",
      "31-Aug-21 13:23:30 - ==========Training fold 6==========\n",
      "31-Aug-21 13:23:31 - ============Training LightGBM model on Wine Quality data============\n",
      "\n",
      "31-Aug-21 13:23:31 - ==========Training fold 0==========\n",
      "31-Aug-21 13:23:33 - ==========Training fold 1==========\n",
      "31-Aug-21 13:23:34 - ==========Training fold 2==========\n",
      "31-Aug-21 13:23:35 - ==========Training fold 3==========\n",
      "31-Aug-21 13:23:36 - ==========Training fold 4==========\n",
      "31-Aug-21 13:23:38 - ==========Training fold 5==========\n",
      "31-Aug-21 13:23:39 - ==========Training fold 6==========\n",
      "31-Aug-21 13:23:40 - ============Training CatBoost model on Wine Quality data============\n",
      "\n",
      "31-Aug-21 13:23:40 - ==========Training fold 0==========\n",
      "31-Aug-21 13:24:02 - ==========Training fold 1==========\n",
      "31-Aug-21 13:24:26 - ==========Training fold 2==========\n",
      "31-Aug-21 13:24:34 - ==========Training fold 3==========\n",
      "31-Aug-21 13:24:54 - ==========Training fold 4==========\n",
      "31-Aug-21 13:25:09 - ==========Training fold 5==========\n",
      "31-Aug-21 13:25:25 - ==========Training fold 6==========\n"
     ]
    }
   ],
   "source": [
    "result = mtask.simple_execute_and_combine()"
   ]
  },
  {
   "cell_type": "code",
   "execution_count": 5,
   "metadata": {},
   "outputs": [
    {
     "data": {
      "text/html": [
       "<div>\n",
       "<style scoped>\n",
       "    .dataframe tbody tr th:only-of-type {\n",
       "        vertical-align: middle;\n",
       "    }\n",
       "\n",
       "    .dataframe tbody tr th {\n",
       "        vertical-align: top;\n",
       "    }\n",
       "\n",
       "    .dataframe thead th {\n",
       "        text-align: right;\n",
       "    }\n",
       "</style>\n",
       "<table border=\"1\" class=\"dataframe\">\n",
       "  <thead>\n",
       "    <tr style=\"text-align: right;\">\n",
       "      <th></th>\n",
       "      <th>Dataset Name</th>\n",
       "      <th>XGBoostScore</th>\n",
       "      <th>XGBoostDuration</th>\n",
       "      <th>LightGBMScore</th>\n",
       "      <th>LightGBMDuration</th>\n",
       "      <th>CatBoostScore</th>\n",
       "      <th>CatBoostDuration</th>\n",
       "    </tr>\n",
       "  </thead>\n",
       "  <tbody>\n",
       "    <tr>\n",
       "      <th>0</th>\n",
       "      <td>Banknote classification</td>\n",
       "      <td>0.012621</td>\n",
       "      <td>0.296976</td>\n",
       "      <td>0.011556</td>\n",
       "      <td>0.461189</td>\n",
       "      <td>0.006892</td>\n",
       "      <td>9.856663</td>\n",
       "    </tr>\n",
       "    <tr>\n",
       "      <th>1</th>\n",
       "      <td>Wine Quality</td>\n",
       "      <td>0.841273</td>\n",
       "      <td>0.921540</td>\n",
       "      <td>0.855615</td>\n",
       "      <td>1.273479</td>\n",
       "      <td>0.831012</td>\n",
       "      <td>17.178311</td>\n",
       "    </tr>\n",
       "  </tbody>\n",
       "</table>\n",
       "</div>"
      ],
      "text/plain": [
       "              Dataset Name  XGBoostScore  XGBoostDuration  LightGBMScore  \\\n",
       "0  Banknote classification      0.012621         0.296976       0.011556   \n",
       "1             Wine Quality      0.841273         0.921540       0.855615   \n",
       "\n",
       "   LightGBMDuration  CatBoostScore  CatBoostDuration  \n",
       "0          0.461189       0.006892          9.856663  \n",
       "1          1.273479       0.831012         17.178311  "
      ]
     },
     "execution_count": 5,
     "metadata": {},
     "output_type": "execute_result"
    }
   ],
   "source": [
    "result"
   ]
  },
  {
   "cell_type": "code",
   "execution_count": 3,
   "metadata": {},
   "outputs": [],
   "source": [
    "task = XGBTask(\n",
    "    \"data/bin5_banknote.csv\",\n",
    "    \"Death Rate\",\n",
    "    \"class\",\n",
    "    \"binary\",\n",
    ")"
   ]
  },
  {
   "cell_type": "code",
   "execution_count": 4,
   "metadata": {},
   "outputs": [
    {
     "name": "stderr",
     "output_type": "stream",
     "text": [
      "30-Aug-21 20:14:00 - ============Training XGBoost model on Death Rate data============\n",
      "\n",
      "30-Aug-21 20:14:00 - ==========Training fold 0==========\n",
      "30-Aug-21 20:14:01 - ==========Training fold 1==========\n",
      "30-Aug-21 20:14:01 - ==========Training fold 2==========\n",
      "30-Aug-21 20:14:02 - ==========Training fold 3==========\n",
      "30-Aug-21 20:14:02 - ==========Training fold 4==========\n",
      "30-Aug-21 20:14:02 - ==========Training fold 5==========\n",
      "30-Aug-21 20:14:02 - ==========Training fold 6==========\n"
     ]
    }
   ],
   "source": [
    "result = task.cross_validate()"
   ]
  },
  {
   "cell_type": "code",
   "execution_count": 5,
   "metadata": {},
   "outputs": [
    {
     "data": {
      "text/html": [
       "<div>\n",
       "<style scoped>\n",
       "    .dataframe tbody tr th:only-of-type {\n",
       "        vertical-align: middle;\n",
       "    }\n",
       "\n",
       "    .dataframe tbody tr th {\n",
       "        vertical-align: top;\n",
       "    }\n",
       "\n",
       "    .dataframe thead th {\n",
       "        text-align: right;\n",
       "    }\n",
       "</style>\n",
       "<table border=\"1\" class=\"dataframe\">\n",
       "  <thead>\n",
       "    <tr style=\"text-align: right;\">\n",
       "      <th></th>\n",
       "      <th>XGB_Score</th>\n",
       "      <th>XGB_duration</th>\n",
       "    </tr>\n",
       "  </thead>\n",
       "  <tbody>\n",
       "    <tr>\n",
       "      <th>0</th>\n",
       "      <td>0.012098</td>\n",
       "      <td>0.685937</td>\n",
       "    </tr>\n",
       "    <tr>\n",
       "      <th>1</th>\n",
       "      <td>0.004975</td>\n",
       "      <td>0.543269</td>\n",
       "    </tr>\n",
       "    <tr>\n",
       "      <th>2</th>\n",
       "      <td>0.002608</td>\n",
       "      <td>0.201022</td>\n",
       "    </tr>\n",
       "    <tr>\n",
       "      <th>3</th>\n",
       "      <td>0.027818</td>\n",
       "      <td>0.121581</td>\n",
       "    </tr>\n",
       "    <tr>\n",
       "      <th>4</th>\n",
       "      <td>0.026448</td>\n",
       "      <td>0.111213</td>\n",
       "    </tr>\n",
       "    <tr>\n",
       "      <th>5</th>\n",
       "      <td>0.004027</td>\n",
       "      <td>0.239977</td>\n",
       "    </tr>\n",
       "    <tr>\n",
       "      <th>6</th>\n",
       "      <td>0.010372</td>\n",
       "      <td>0.179859</td>\n",
       "    </tr>\n",
       "  </tbody>\n",
       "</table>\n",
       "</div>"
      ],
      "text/plain": [
       "   XGB_Score  XGB_duration\n",
       "0   0.012098      0.685937\n",
       "1   0.004975      0.543269\n",
       "2   0.002608      0.201022\n",
       "3   0.027818      0.121581\n",
       "4   0.026448      0.111213\n",
       "5   0.004027      0.239977\n",
       "6   0.010372      0.179859"
      ]
     },
     "execution_count": 5,
     "metadata": {},
     "output_type": "execute_result"
    }
   ],
   "source": [
    "result"
   ]
  }
 ],
 "metadata": {
  "kernelspec": {
   "display_name": "medium_articles",
   "language": "python",
   "name": "medium_articles"
  },
  "language_info": {
   "codemirror_mode": {
    "name": "ipython",
    "version": 3
   },
   "file_extension": ".py",
   "mimetype": "text/x-python",
   "name": "python",
   "nbconvert_exporter": "python",
   "pygments_lexer": "ipython3",
   "version": "3.8.5"
  }
 },
 "nbformat": 4,
 "nbformat_minor": 4
}
