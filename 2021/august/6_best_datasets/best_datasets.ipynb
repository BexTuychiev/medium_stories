{
 "cells": [
  {
   "cell_type": "markdown",
   "metadata": {
    "tags": []
   },
   "source": [
    "# Tired of Cliché Datasets? Here Are 19 Awesome Alternatives From Interesting Domains\n",
    "## Unique datasets ranging from microbiology to sports!\n",
    "![](images/unsplash.jpg)\n",
    "<figcaption style=\"text-align: center;\">\n",
    "    <strong>\n",
    "        Photo by \n",
    "        <a href='https://unsplash.com/@dogukan?utm_source=unsplash&utm_medium=referral&utm_content=creditCopyText'> Doğukan Şahin</a>\n",
    "        on \n",
    "        <a href='https://unsplash.com/s/photos/tired?utm_source=unsplash&utm_medium=referral&utm_content=creditCopyText'>Pexels.</a> All images are by the author unless specified otherwise.\n",
    "    </strong>\n",
    "</figcaption>"
   ]
  },
  {
   "cell_type": "markdown",
   "metadata": {},
   "source": [
    "### Setup"
   ]
  },
  {
   "cell_type": "code",
   "execution_count": 75,
   "metadata": {},
   "outputs": [],
   "source": [
    "import warnings\n",
    "\n",
    "import datapane as dp\n",
    "import gdown\n",
    "import matplotlib.pyplot as plt\n",
    "import numpy as np\n",
    "import pandas as pd\n",
    "import seaborn as sns\n",
    "from matplotlib import rcParams\n",
    "\n",
    "rcParams[\"xtick.labelsize\"] = 15\n",
    "rcParams[\"ytick.labelsize\"] = 15\n",
    "\n",
    "warnings.filterwarnings(\"ignore\")"
   ]
  },
  {
   "cell_type": "code",
   "execution_count": 76,
   "metadata": {},
   "outputs": [],
   "source": [
    "def publish_report(dataset, name):\n",
    "    dp.Report(dp.DataTable(dataset.head(10))).upload(name=name, open=True)"
   ]
  },
  {
   "cell_type": "markdown",
   "metadata": {},
   "source": [
    "\"I'm going to puke over my RGB backlit-keyboard *so hard* if I see one more person using Titanic, Iris, Wine or Boston datasets!\"\n",
    "\n",
    "This is the feeling you might gradually develop after being a data science learner for a while. You just can't help it - everyone wants the easy thing. Beginners use these datasets because they are stupidly straightforwad; most course creaters and bloggers use them because they are just one single Google search away."
   ]
  },
  {
   "cell_type": "markdown",
   "metadata": {},
   "source": [
    "# Regression datasets\n",
    "\n",
    "## 1. Diamond prices and carat regression"
   ]
  },
  {
   "cell_type": "markdown",
   "metadata": {},
   "source": [
    "My favorite from this list is the diamonds dataset. It is ideal in length (+50k samples) and have multiple targets you can predict as a regression or a multi-class classification task:"
   ]
  },
  {
   "cell_type": "markdown",
   "metadata": {},
   "source": [
    "https://datapane.com/u/bextuychiev/reports/diamonds/"
   ]
  },
  {
   "cell_type": "markdown",
   "metadata": {
    "tags": []
   },
   "source": [
    "**🎯 Targets: 'carat' or 'price'**\n",
    "\n",
    "**🔗 Link: [Kaggle](https://www.kaggle.com/shivam2503/diamondshttps://www.kaggle.com/shivam2503/diamonds)**\n",
    "\n",
    "**📦Dimensions: (53940, 10)**\n",
    "\n",
    "**⚙Missing values: No**\n",
    "\n",
    "**[📚Starter notebook](https://www.kaggle.com/fuzzywizard/diamonds-in-depth-analysishttps://www.kaggle.com/fuzzywizard/diamonds-in-depth-analysis)**"
   ]
  },
  {
   "cell_type": "markdown",
   "metadata": {},
   "source": [
    "## 2. Age of Abalone shells"
   ]
  },
  {
   "cell_type": "markdown",
   "metadata": {},
   "source": [
    "This is a rather unique dataset from the field of zoology. The task is to predict the age of Abalone shells (a type of mollusc) using several physical measurements. Traditionally, their age are found by cutting through their cone, staining them and counting the number of rings inside the shell under a microscope. \n",
    "\n",
    "For zooligists, this might be fun but for data scientists, not so much:"
   ]
  },
  {
   "cell_type": "markdown",
   "metadata": {},
   "source": [
    "https://datapane.com/u/bextuychiev/reports/abalone/"
   ]
  },
  {
   "cell_type": "markdown",
   "metadata": {},
   "source": [
    "**🎯 Target: 'Rings'**\n",
    "\n",
    "**🔗 Link: [Kaggle](https://www.kaggle.com/rodolfomendes/abalone-dataset)**\n",
    "\n",
    "**📦Dimensions: (4177, 9)**\n",
    "\n",
    "**⚙Missing values: No**\n",
    "\n",
    "**[📚Starter notebook](https://www.kaggle.com/ragnisah/eda-abalone-age-prediction)**"
   ]
  },
  {
   "cell_type": "markdown",
   "metadata": {},
   "source": [
    "## 3. King county house sales"
   ]
  },
  {
   "cell_type": "markdown",
   "metadata": {},
   "source": [
    "This is the dataset for those who are still interested in real estate and house prices regression:"
   ]
  },
  {
   "cell_type": "markdown",
   "metadata": {},
   "source": [
    "https://datapane.com/u/bextuychiev/reports/king/"
   ]
  },
  {
   "cell_type": "markdown",
   "metadata": {},
   "source": [
    "**🎯 Target: 'price'**\n",
    "\n",
    "**🔗 Link: [Kaggle](https://www.kaggle.com/harlfoxem/housesalesprediction)**\n",
    "\n",
    "**📦Dimensions: (21613, 17)**\n",
    "\n",
    "**⚙Missing values: Yes**\n",
    "\n",
    "**[📚Starter notebook](https://www.kaggle.com/burhanykiyakoglu/predicting-house-prices)**"
   ]
  },
  {
   "cell_type": "markdown",
   "metadata": {},
   "source": [
    "## 4. Cancer death rate"
   ]
  },
  {
   "cell_type": "markdown",
   "metadata": {},
   "source": [
    "This dataset challenges you to find cancer mortality rate per capita (100,000) using a number of demographic variables:"
   ]
  },
  {
   "cell_type": "markdown",
   "metadata": {},
   "source": [
    "https://datapane.com/u/bextuychiev/reports/cancer/"
   ]
  },
  {
   "cell_type": "markdown",
   "metadata": {},
   "source": [
    "**🎯 Target: 'TARGET_deathRate'**\n",
    "\n",
    "**🔗 Link: [Data.world](https://data.world/nrippner/ols-regression-challenge)**\n",
    "\n",
    "**📦Dimensions: (3047, 33)**\n",
    "\n",
    "**⚙Missing values: Yes**"
   ]
  },
  {
   "cell_type": "markdown",
   "metadata": {},
   "source": [
    "## 5. Life expectancy"
   ]
  },
  {
   "cell_type": "markdown",
   "metadata": {},
   "source": [
    "How long a person will live? This is one of the hardest questions unanswered in science because it is hard to predict. Several studies have been undertaken to understand human life and this dataset provided by WHO (World Health Orginazation) is one of them:"
   ]
  },
  {
   "cell_type": "markdown",
   "metadata": {},
   "source": [
    "https://datapane.com/u/bextuychiev/reports/who/"
   ]
  },
  {
   "cell_type": "markdown",
   "metadata": {},
   "source": [
    "**🎯 Target: 'Life expectancy'**\n",
    "\n",
    "**🔗 Link: [Kaggle](https://www.kaggle.com/kumarajarshi/life-expectancy-who/)**\n",
    "\n",
    "**📦Dimensions: (2938, 21)**\n",
    "\n",
    "**⚙Missing values: Yes**\n",
    "\n",
    "**[📚Starter notebook](https://www.kaggle.com/mathchi/life-expectancy-who-with-several-ml-techniques)**"
   ]
  },
  {
   "cell_type": "markdown",
   "metadata": {},
   "source": [
    "## 6. Car prices"
   ]
  },
  {
   "cell_type": "markdown",
   "metadata": {},
   "source": [
    "The title says it all - predict car prices using variables like mileage, fuel type, transmission and several domain-specific features. This is also an excellent dataset for pumping out your feature engineering muscles:"
   ]
  },
  {
   "cell_type": "markdown",
   "metadata": {},
   "source": [
    "https://datapane.com/u/bextuychiev/reports/cars/"
   ]
  },
  {
   "cell_type": "markdown",
   "metadata": {},
   "source": [
    "**🎯 Target: 'selling_price'**\n",
    "\n",
    "**🔗 Link: [Kaggle](https://www.kaggle.com/nehalbirla/vehicle-dataset-from-cardekho?ref=hackernoon.com&select=Car+details+v3.csv)**\n",
    "\n",
    "**📦Dimensions: (8128, 12)**\n",
    "\n",
    "**⚙Missing values: Yes**\n",
    "\n",
    "**[📚Starter notebook](https://www.kaggle.com/mohaiminul101/car-price-prediction)**"
   ]
  },
  {
   "cell_type": "markdown",
   "metadata": {},
   "source": [
    "# Binary classification"
   ]
  },
  {
   "cell_type": "markdown",
   "metadata": {},
   "source": [
    "## 7. NBA rookie stats"
   ]
  },
  {
   "cell_type": "markdown",
   "metadata": {},
   "source": [
    "The first binary classification dataset in the list requires you to predict if a rookie basketball player will last more than 5 years in the league:"
   ]
  },
  {
   "cell_type": "markdown",
   "metadata": {},
   "source": [
    "https://datapane.com/u/bextuychiev/reports/nba/"
   ]
  },
  {
   "cell_type": "markdown",
   "metadata": {},
   "source": [
    "**🎯 Target: 'TARGET_5Yrs'**\n",
    "\n",
    "**🔗 Link: [Data.world](https://data.world/exercises/logistic-regression-exercise-1)**\n",
    "\n",
    "**📦Dimensions: (8128, 12)**\n",
    "\n",
    "**⚙Missing values: Yes**\n",
    "\n",
    "**[📚Starter notebook](https://www.kaggle.com/mohaiminul101/car-price-prediction)**"
   ]
  },
  {
   "cell_type": "markdown",
   "metadata": {},
   "source": [
    "## 8. Stroke prediction"
   ]
  },
  {
   "cell_type": "markdown",
   "metadata": {},
   "source": [
    "Another medical dataset in the list asks you to predict whether a patient will have a stroke or not based on their history. Very interesting dataset:"
   ]
  },
  {
   "cell_type": "markdown",
   "metadata": {},
   "source": [
    "https://datapane.com/u/bextuychiev/reports/stroke/"
   ]
  },
  {
   "cell_type": "markdown",
   "metadata": {},
   "source": [
    "**🎯 Target: 'stroke'**\n",
    "\n",
    "**🔗 Link: [Kaggle](https://www.kaggle.com/fedesoriano/stroke-prediction-dataset)**\n",
    "\n",
    "**📦Dimensions: (5110, 11)**\n",
    "\n",
    "**⚙Missing values: Yes**\n",
    "\n",
    "**[📚Starter notebook](https://www.kaggle.com/joshuaswords/predicting-a-stroke-shap-lime-explainer-eli5)**"
   ]
  },
  {
   "cell_type": "markdown",
   "metadata": {},
   "source": [
    "## 9. Water potability"
   ]
  },
  {
   "cell_type": "markdown",
   "metadata": {},
   "source": [
    "Safe drinking water is the most basic human right and a major influencer on health. Using this dataset, you should classify water boides into potable (drinkable) and not potable using a number of chemical properties:"
   ]
  },
  {
   "cell_type": "markdown",
   "metadata": {},
   "source": [
    "https://datapane.com/u/bextuychiev/reports/water/"
   ]
  },
  {
   "cell_type": "markdown",
   "metadata": {},
   "source": [
    "**🎯 Target: 'Potability'**\n",
    "\n",
    "**🔗 Link: [Kaggle](https://www.kaggle.com/adityakadiwal/water-potability)**\n",
    "\n",
    "**📦Dimensions: (3276, 10)**\n",
    "\n",
    "**⚙Missing values: Yes**\n",
    "\n",
    "**[📚Starter notebook](https://www.kaggle.com/jaykumar1607/water-quality-analysis-plotly-and-modelling)**"
   ]
  },
  {
   "cell_type": "markdown",
   "metadata": {},
   "source": [
    "## 10. Smart grid stability"
   ]
  },
  {
   "cell_type": "markdown",
   "metadata": {},
   "source": [
    "This is an augmented version of \"Electrical Grid Stability Simulated Dataset\" created by Vadim Arzamasov and donated to UCI and made available on Kaggle as well. You will be predicting the stability of 4-node smart grid systems (whatever they mean):"
   ]
  },
  {
   "cell_type": "markdown",
   "metadata": {},
   "source": [
    "https://datapane.com/u/bextuychiev/reports/grid/"
   ]
  },
  {
   "cell_type": "markdown",
   "metadata": {},
   "source": [
    "**🎯 Target: 'stabf'**\n",
    "\n",
    "**🔗 Link: [Kaggle](https://www.kaggle.com/pcbreviglieri/smart-grid-stability)**\n",
    "\n",
    "**📦Dimensions: (60000, 13)**\n",
    "\n",
    "**⚙Missing values: No**\n",
    "\n",
    "**[📚Starter notebook](https://www.kaggle.com/pcbreviglieri/predicting-smart-grid-stability-with-deep-learning)**"
   ]
  },
  {
   "cell_type": "markdown",
   "metadata": {},
   "source": [
    "## 11. IBM HR analytics & employee attrition"
   ]
  },
  {
   "cell_type": "markdown",
   "metadata": {},
   "source": [
    "This fictional dataset created by IBM datasets tasks you to uncover which factors lead to employee attrition (whether they will leave their role):"
   ]
  },
  {
   "cell_type": "markdown",
   "metadata": {},
   "source": [
    "https://datapane.com/u/bextuychiev/reports/hr/"
   ]
  },
  {
   "cell_type": "markdown",
   "metadata": {},
   "source": [
    "**🎯 Target: 'Attrition'**\n",
    "\n",
    "**🔗 Link: [Kaggle](https://www.kaggle.com/pavansubhasht/ibm-hr-analytics-attrition-dataset)**\n",
    "\n",
    "**📦Dimensions: (1470, 35)**\n",
    "\n",
    "**⚙Missing values: No**\n",
    "\n",
    "**[📚Starter notebook](https://www.kaggle.com/janiobachmann/attrition-in-an-organization-why-workers-quit)**\n"
   ]
  },
  {
   "cell_type": "markdown",
   "metadata": {},
   "source": [
    "## 12. Can I eat this mushroom?"
   ]
  },
  {
   "cell_type": "markdown",
   "metadata": {},
   "source": [
    "Another one of a kind dataset is classifying mushrooms into edible and poisonous. It also presents a unique challenge - all features are categorical:"
   ]
  },
  {
   "cell_type": "markdown",
   "metadata": {},
   "source": [
    "https://datapane.com/u/bextuychiev/reports/shroom/"
   ]
  },
  {
   "cell_type": "markdown",
   "metadata": {},
   "source": [
    "**🎯 Target: 'class'**\n",
    "\n",
    "**🔗 Link: [Kaggle](https://www.kaggle.com/uciml/mushroom-classification)**\n",
    "\n",
    "**📦Dimensions: (8124, 23)**\n",
    "\n",
    "**⚙Missing values: Yes**\n",
    "\n",
    "**[📚Starter notebook](https://www.kaggle.com/alincijov/mushroom-classification-using-genetic-algorithm)**"
   ]
  },
  {
   "cell_type": "markdown",
   "metadata": {},
   "source": [
    "## 13. Banknote authentication"
   ]
  },
  {
   "cell_type": "markdown",
   "metadata": {},
   "source": [
    "Even though this dataset has very few features, I wanted to include it because the task is really interesting - using physical attributes of banknotes, you should classify them into forged or original:"
   ]
  },
  {
   "cell_type": "markdown",
   "metadata": {},
   "source": [
    "https://datapane.com/u/bextuychiev/reports/note/"
   ]
  },
  {
   "cell_type": "markdown",
   "metadata": {},
   "source": [
    "**🎯 Target: 'class'**\n",
    "\n",
    "**🔗 Link: [Kaggle](https://www.kaggle.com/ritesaluja/bank-note-authentication-uci-data)**\n",
    "\n",
    "**📦Dimensions: (1372, 5)**\n",
    "\n",
    "**⚙Missing values: No**\n",
    "\n",
    "**[📚Starter notebook](https://www.kaggle.com/vivekgediya/banknote-authentication-analysis)**"
   ]
  },
  {
   "cell_type": "markdown",
   "metadata": {},
   "source": [
    "## 14. Adult income dataset"
   ]
  },
  {
   "cell_type": "markdown",
   "metadata": {},
   "source": [
    "Predict whether a person will end up earning more than 50k or not using factors like their age, education, backgroud, gender, marital status, etc.:"
   ]
  },
  {
   "cell_type": "markdown",
   "metadata": {},
   "source": [
    "https://datapane.com/u/bextuychiev/reports/adult/"
   ]
  },
  {
   "cell_type": "markdown",
   "metadata": {},
   "source": [
    "**🎯 Target: 'inco,e'**\n",
    "\n",
    "**🔗 Link: [Kaggle](https://www.kaggle.com/wenruliu/adult-income-dataset)**\n",
    "\n",
    "**📦Dimensions: (48842, 15)**\n",
    "\n",
    "**⚙Missing values: Yes**\n",
    "\n",
    "**[📚Starter notebook](https://www.kaggle.com/alokevil/simple-eda-for-beginners)**"
   ]
  },
  {
   "cell_type": "markdown",
   "metadata": {},
   "source": [
    "# Mutli-class classification datasets"
   ]
  },
  {
   "cell_type": "markdown",
   "metadata": {},
   "source": [
    "> Here is a [handy tutorial](https://towardsdatascience.com/comprehensive-guide-to-multiclass-classification-with-sklearn-127cc500f362?source=your_stories_page-------------------------------------) on multi-class classification and a comprehensive guide on [mutli-class classification metrics](https://towardsdatascience.com/comprehensive-guide-on-multiclass-classification-metrics-af94cfb83fbd?source=your_stories_page-------------------------------------). "
   ]
  },
  {
   "cell_type": "markdown",
   "metadata": {},
   "source": [
    "## 16. Yeast classification"
   ]
  },
  {
   "cell_type": "markdown",
   "metadata": {},
   "source": [
    "This dataset will give you a small taste from the world of microbiology. You are tasked to classify a fungus called yeast into species:"
   ]
  },
  {
   "cell_type": "markdown",
   "metadata": {},
   "source": [
    "https://datapane.com/u/bextuychiev/reports/yeast/"
   ]
  },
  {
   "cell_type": "markdown",
   "metadata": {},
   "source": [
    "**🎯 Target: 'class_protein_localization'**\n",
    "\n",
    "**🔗 Link: [OpenML](https://www.openml.org/d/181)**\n",
    "\n",
    "**📦Dimensions: (1484, 9)**\n",
    "\n",
    "**⚙Missing values: No**"
   ]
  },
  {
   "cell_type": "markdown",
   "metadata": {},
   "source": [
    "## 17. Kaggle TPS May 2021"
   ]
  },
  {
   "cell_type": "markdown",
   "metadata": {},
   "source": [
    "Kaggle hosts monthly competitions called \"Tabular Playground Series\" with a beginner-to-medium difficult tasks. The most important point is that each month a new, large-sized synthetic dataset is created using CTGAN framework. This one is from the May edition:"
   ]
  },
  {
   "cell_type": "markdown",
   "metadata": {},
   "source": [
    "https://datapane.com/u/bextuychiev/reports/tps-may/"
   ]
  },
  {
   "cell_type": "markdown",
   "metadata": {},
   "source": [
    "**🎯 Target: 'target'**\n",
    "\n",
    "**🔗 Link: [Kaggle](https://www.kaggle.com/nehalbirla/vehicle-dataset-from-cardekho?ref=hackernoon.com&select=Car+details+v3.csv)**\n",
    "\n",
    "**📦Dimensions: (100000, 52)**\n",
    "\n",
    "**⚙Missing values: No**\n",
    "\n",
    "**[📚Starter notebook](https://www.kaggle.com/subinium/tps-may-categorical-eda)**"
   ]
  },
  {
   "cell_type": "markdown",
   "metadata": {},
   "source": [
    "## 18. Kaggle TPS June 2021"
   ]
  },
  {
   "cell_type": "markdown",
   "metadata": {},
   "source": [
    "A similar dataset with more features and samples:"
   ]
  },
  {
   "cell_type": "markdown",
   "metadata": {},
   "source": [
    "https://datapane.com/u/bextuychiev/reports/tps-june/"
   ]
  },
  {
   "cell_type": "markdown",
   "metadata": {},
   "source": [
    "**🎯 Target: 'target'**\n",
    "\n",
    "**🔗 Link: [Kaggle](https://www.kaggle.com/c/tabular-playground-series-jun-2021/data?select=train.csv)**\n",
    "\n",
    "**📦Dimensions: (200000, 77)**\n",
    "\n",
    "**⚙Missing values: No**\n",
    "\n",
    "**[📚Starter notebook](https://www.kaggle.com/dwin183287/tps-june-2021-eda)**"
   ]
  },
  {
   "cell_type": "markdown",
   "metadata": {},
   "source": [
    "## 19. Diamonds, again"
   ]
  },
  {
   "cell_type": "markdown",
   "metadata": {},
   "source": [
    "Just mentioning the diamonds dataset again, because it has three categorical features, which can be targets on their own:"
   ]
  },
  {
   "cell_type": "markdown",
   "metadata": {},
   "source": [
    "https://datapane.com/u/bextuychiev/reports/diamonds2/"
   ]
  },
  {
   "cell_type": "markdown",
   "metadata": {},
   "source": [
    "**🎯 Targets: 'cut', 'color', 'clarity'**\n",
    "\n",
    "**🔗 Link: [Kaggle](https://www.kaggle.com/shivam2503/diamondshttps://www.kaggle.com/shivam2503/diamonds)**\n",
    "\n",
    "**📦Dimensions: (53940, 10)**\n",
    "\n",
    "**⚙Missing values: No**\n",
    "\n",
    "**[📚Starter notebook](https://www.kaggle.com/fuzzywizard/diamonds-in-depth-analysishttps://www.kaggle.com/fuzzywizard/diamonds-in-depth-analysis)**"
   ]
  }
 ],
 "metadata": {
  "kernelspec": {
   "display_name": "medium_articles",
   "language": "python",
   "name": "medium_articles"
  },
  "language_info": {
   "codemirror_mode": {
    "name": "ipython",
    "version": 3
   },
   "file_extension": ".py",
   "mimetype": "text/x-python",
   "name": "python",
   "nbconvert_exporter": "python",
   "pygments_lexer": "ipython3",
   "version": "3.8.5"
  }
 },
 "nbformat": 4,
 "nbformat_minor": 4
}
