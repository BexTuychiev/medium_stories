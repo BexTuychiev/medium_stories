{
 "cells": [
  {
   "cell_type": "markdown",
   "id": "afc06ccc-87c6-484a-87e8-38c55bfa4771",
   "metadata": {},
   "source": [
    "# 10 Dangerous Data Science Libraries You Must Watch Out in 2022\n",
    "## Hottest trending packages, backed by data\n",
    "![](images/pixabay.jpg)"
   ]
  },
  {
   "cell_type": "markdown",
   "id": "4871ce82-6112-4feb-90fd-87a707c4b15a",
   "metadata": {},
   "source": [
    "# Introductions"
   ]
  }
 ],
 "metadata": {
  "kernelspec": {
   "display_name": "medium_articles",
   "language": "python",
   "name": "medium_articles"
  },
  "language_info": {
   "codemirror_mode": {
    "name": "ipython",
    "version": 3
   },
   "file_extension": ".py",
   "mimetype": "text/x-python",
   "name": "python",
   "nbconvert_exporter": "python",
   "pygments_lexer": "ipython3",
   "version": "3.8.11"
  }
 },
 "nbformat": 4,
 "nbformat_minor": 5
}
