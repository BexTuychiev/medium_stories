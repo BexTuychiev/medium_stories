{
 "cells": [
  {
   "cell_type": "markdown",
   "id": "afc06ccc-87c6-484a-87e8-38c55bfa4771",
   "metadata": {},
   "source": [
    "# 10 Dangerous Data Science Libraries You Must Watch Out in 2022\n",
    "## Data backed exploration of the fastest growing libraries\n",
    "![](images/pixabay.jpg)"
   ]
  },
  {
   "cell_type": "markdown",
   "id": "4871ce82-6112-4feb-90fd-87a707c4b15a",
   "metadata": {},
   "source": [
    "# Introduction"
   ]
  },
  {
   "cell_type": "markdown",
   "id": "ab9a4cae-0256-4587-aa8b-4bdefcac8589",
   "metadata": {},
   "source": [
    "# Terality"
   ]
  },
  {
   "cell_type": "markdown",
   "id": "706dacf5-39cf-4c73-92a6-2c93f84663b7",
   "metadata": {},
   "source": [
    "# SHAP"
   ]
  },
  {
   "cell_type": "markdown",
   "id": "2791f491-2ae2-41ef-9690-9ae5839784a6",
   "metadata": {},
   "source": [
    "# LightGBM"
   ]
  },
  {
   "cell_type": "markdown",
   "id": "b3e97c5c-46e9-415b-9622-ffca47120000",
   "metadata": {},
   "source": [
    "# CatBoost"
   ]
  },
  {
   "cell_type": "markdown",
   "id": "fd10305c-334e-443e-848f-503c35dc0dd9",
   "metadata": {},
   "source": [
    "# Plotly"
   ]
  },
  {
   "cell_type": "markdown",
   "id": "62ce3979-6cf1-4fb0-90b8-0c19f3e8e45b",
   "metadata": {},
   "source": [
    "# UMAP"
   ]
  },
  {
   "cell_type": "markdown",
   "id": "774e6328-5f7f-4097-a594-04901e4b1cb4",
   "metadata": {},
   "source": [
    "# PyCaret"
   ]
  },
  {
   "cell_type": "markdown",
   "id": "ac05e38e-57d4-4ecb-9de6-8820a43ae983",
   "metadata": {},
   "source": [
    "# Optuna"
   ]
  },
  {
   "cell_type": "markdown",
   "id": "0940f8c1-0265-498c-a238-e0bd76527400",
   "metadata": {},
   "source": []
  }
 ],
 "metadata": {
  "kernelspec": {
   "display_name": "medium_articles",
   "language": "python",
   "name": "medium_articles"
  },
  "language_info": {
   "codemirror_mode": {
    "name": "ipython",
    "version": 3
   },
   "file_extension": ".py",
   "mimetype": "text/x-python",
   "name": "python",
   "nbconvert_exporter": "python",
   "pygments_lexer": "ipython3",
   "version": "3.8.11"
  }
 },
 "nbformat": 4,
 "nbformat_minor": 5
}
