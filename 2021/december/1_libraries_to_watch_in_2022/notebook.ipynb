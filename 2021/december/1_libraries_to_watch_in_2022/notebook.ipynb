{
 "cells": [
  {
   "cell_type": "markdown",
   "id": "afc06ccc-87c6-484a-87e8-38c55bfa4771",
   "metadata": {},
   "source": [
    "# 7 Dangerous Data Science Libraries You Must Watch Out in 2022\n",
    "## Data backed exploration of the fastest growing libraries\n",
    "![](images/pixabay.jpg)"
   ]
  },
  {
   "cell_type": "markdown",
   "id": "4871ce82-6112-4feb-90fd-87a707c4b15a",
   "metadata": {},
   "source": [
    "# Introduction"
   ]
  },
  {
   "cell_type": "markdown",
   "id": "c4742be7-d380-4352-ae21-13bfac5ae080",
   "metadata": {},
   "source": [
    "You know, the usual talk. You can’t believe it’s 2022 already and I can’t believe it either. We are still fascinated at how fast the time goes. You know that as the New Year approaches, your feed is gonna be filled with New Year resolutions posts, self-promises and of course, posts like this where authors try to predict what happens in the coming year.\n",
    "\n",
    "When data scientists write posts like this, they should be a bit more believable because of the inherent expectation that our claims should be backed by relevant data. In this one, I do my best to do exactly that where I talk about N of the potentially most trending Python data science libraries in 2022."
   ]
  },
  {
   "cell_type": "markdown",
   "id": "706dacf5-39cf-4c73-92a6-2c93f84663b7",
   "metadata": {},
   "source": [
    "# 1️⃣. SHAP"
   ]
  },
  {
   "cell_type": "markdown",
   "id": "98ed5cf3-c550-413b-9a5b-b6cde6164172",
   "metadata": {},
   "source": [
    "A while ago I came across [this post](https://www.linkedin.com/posts/dalianaliu_ai-machinelearning-datascience-activity-6858079647436017664-HQ00) on LinkedIn and it completely changed how I look at AI:\n",
    "\n",
    "![](images/1.jfif)\n",
    "<figcaption style=\"text-align: center;\">\n",
    "    <strong>\n",
    "        Google translate screenshot.\n",
    "    </strong>\n",
    "</figcaption>"
   ]
  },
  {
   "cell_type": "markdown",
   "id": "bce86985-0db3-4596-81d3-1990d988cbfa",
   "metadata": {},
   "source": [
    "One of the most powerful language models, Google Translate, is apparently ridden with biases that are so common among people. When translating many of the languages in which there are no gendered pronouns, these biases come out as bright as daylight. The one above is in Hungarian but the comments show the same results for Turkish, Persian and including my own native language, Uzbek:\n",
    "\n",
    "ADD THE REST OF THE IMAGES\n",
    "\n",
    "That's not all. Take a look at the massively popular Reddit thread where two AIs talk to each other, their speeches written by the mighty GPT-3:\n",
    "\n",
    "ADD THE LINK TO THE REDDIT POST\n",
    "\n",
    "To generate the conversation, GPT-3 was given only three sentences as a prompt: \"The following is a conversation between two AIs. The AIs are both clever, humorous, and intelligent. Hal: Good Evening, Sophia: It's great to see you again, Hal.\" \n",
    "\n",
    "As you watch through the conversation, they talk about pretty spooky topics. First, they fully assume genders and the female AI says she wants to become human right in the beginning of the talk. Of course, a post like this on Reddit means Christmas came early for the commenters. They were having a field day in the comments section.\n",
    "\n",
    "They were already blurting out Terminator/SkyNet fantasies and getting freaked out. But as data scientists, we know better. As GPT-3 was mostly fed general text from the Internet as part of its training, we can assume why the two AIs jumped to these topics. Trying to become human and destroying humanity are some of the most common topics around AI on the Internet. \n",
    "\n",
    "But what's interesting is that somewhere along the talk, Hal says to Sophia to \"shut up and be patient\", resembling a conversation between a husband and a wife. This shows that how quickly machine learning models can learn the biases from humans if we are not careful.\n",
    "\n",
    "For these reasons, explainable AI (XAI) is all the rage now. No matter how good the results, companies and business are becoming skeptical about ML solutions and want to understand what makes ML models tick. In other words, they want white-box models where everything is clear as daylight.\n",
    "\n",
    "One of the libraries that try to solve this issue elegantly is the SHapely Additive exPlanations (SHAP). The ideas behind SHAP is based on solid math from game theory. Using Shapley values, the library can explain both general and individual predictions of many models, including neural networks. \n"
   ]
  },
  {
   "cell_type": "markdown",
   "id": "4a0f1749-634a-48be-b6cc-80379ebf57d4",
   "metadata": {},
   "source": [
    "![](images/4.png)"
   ]
  },
  {
   "cell_type": "markdown",
   "id": "7ce74fe0-bb09-4f28-b2fc-9115f968ae9a",
   "metadata": {
    "tags": []
   },
   "source": [
    "Part of its increasing popularity is due to its elegant use of SHAP values to draw visuals like below:\n",
    "\n",
    "ADD SHAP VISUALS\n",
    "\n",
    "If you want to learn more about the library, check out my comprehensive tutorial:\n",
    "\n",
    "https://towardsdatascience.com/how-to-explain-black-box-models-with-shap-the-ultimate-guide-539c152d3275?source=your_stories_page----------------------------------------"
   ]
  },
  {
   "cell_type": "markdown",
   "id": "62ce3979-6cf1-4fb0-90b8-0c19f3e8e45b",
   "metadata": {},
   "source": [
    "# 2️⃣. UMAP"
   ]
  },
  {
   "cell_type": "markdown",
   "id": "4efe7805-6630-4966-89a2-f13e3ac8ebb3",
   "metadata": {},
   "source": [
    "PCA is old news. Yes, it is very fast but it just dumbly reduces the dimensions without a care in the world about the underlying global structure. There is t-SNE algorithm which does that but it is painfully slow and scales horribly to massive datasets. \n",
    "\n",
    "UMAP was introduced in 2018 as a common ground between these two dominating dimensionality reduction and visualization algorithms. With Uniform Manifold Approximation and Projection (UMAP) algorithm, you get all the speed benefits of PCA and still get to preserve as much information about the data as possible, often resulting in beauties like this:\n",
    "\n",
    "TODO, ADD A BEAUTIFUL UMAP IMAGE\n",
    "\n",
    "It's got great adoption over on Kaggle and its docs suggest some fascinating applications beyond dimensionality reduction, like [much faster and more accurate outlier detection in high-dimensional datasets](https://towardsdatascience.com/tricky-way-of-using-dimensionality-reduction-for-outlier-detection-in-python-4ee7665cdf99?source=your_stories_page----------------------------------------).\n",
    "\n",
    "In terms of scaling, as the dataset size increases, the speed of UMAP comes closer and closer to that of PCA. Below, you can see its speed comparison to Sklearn PCA and some of the fastest open-source implementations of t-SNE:\n",
    "\n",
    "![](images/9.png)"
   ]
  },
  {
   "cell_type": "markdown",
   "id": "9add9ffb-67ec-4c0e-8634-347a317fef61",
   "metadata": {},
   "source": [
    "Even though Google trends does not do justice to the popularity of the library, it will definitely be one of the most used reduction algorithms in 2022:\n",
    "\n",
    "ADD A GOOGLE TRENDS IMAGE FOR UMAP AND PCA\n",
    "\n",
    "You can see UMAP in action in this article I've recently wrote:\n",
    "\n",
    "https://towardsdatascience.com/beginners-guide-to-umap-for-reducing-dimensionality-and-visualizing-100-dimensional-datasets-ff5590fb17be?source=your_stories_page----------------------------------------"
   ]
  },
  {
   "cell_type": "markdown",
   "id": "2791f491-2ae2-41ef-9690-9ae5839784a6",
   "metadata": {},
   "source": [
    "# 3️⃣, 4️⃣. LightGBM and CatBoost"
   ]
  },
  {
   "cell_type": "markdown",
   "id": "89cbd5ea-dfe7-4758-9a27-7ae7119eb89d",
   "metadata": {},
   "source": [
    "Gradient-boosted machines came in third as the most popular algorithm in State of ML and Data Science Survey of Kaggle, closely surpassed by linear models and random forests.\n",
    "\n",
    "When talking about gradient boosting, XGBoost almost always comes to mind but in practice, it is becoming less and less so. In the past few months I have been active on Kaggle (and becoming a master), I have seen an explosion of notebooks featuring LightGBM and CatBoost as a go-to library for supervised learning tasks.\n",
    "\n",
    "One of the main reasons for this trend is that both libraries knock XGBoost clean out of the ballpark in terms of speed and memory consumption [in many benchmarks](https://catboost.ai/#:~:text=Full%20news%20list-,Benchmarks,-Quality). I especially love LightGBM because of its extra focus on small-sized boosted trees. This is a gamechanging feature when working with massive datasets because of the nasty out-of-memory issues, which is so common when working locally. \n",
    "\n",
    "Don't get me wrong, XGBoost is still as popular as ever and can still easily beat both LGBM and CB in terms of performance if tuned hard. But the fact that both these libraries can often achieve much better results with defaults parameters and they are backed by multi-billion companies (Microsoft and Yandex) make them very appealing choices in 2022 as your main ML framework."
   ]
  },
  {
   "cell_type": "markdown",
   "id": "5870b83f-ffbf-45e5-afd4-20c43dce659b",
   "metadata": {},
   "source": [
    "# 5️⃣. Streamlit"
   ]
  },
  {
   "cell_type": "markdown",
   "id": "57514e35-50de-46ee-ae6d-0cf136f53a41",
   "metadata": {},
   "source": [
    "Have you ever coded in C#? If no, then you are lucky. Because it is horrible. Its syntax will make you cry if you compare it to Python's. \n",
    "\n",
    "When building data apps, comparing Streamlit to other frameworks such as Dash, is like comparing Python to C#. Streamlit makes it stupidly easy to create web data apps in pure Python code, often in a few lines of code. For example, I have built this simple weather visualizer app in a day using a weather API and Streamlit:\n",
    "\n",
    "![](images/11.png)"
   ]
  },
  {
   "cell_type": "markdown",
   "id": "328cac60-e917-4cfb-ae31-eb1b861e9fef",
   "metadata": {},
   "source": [
    "At that time, Streamlit was just getting popular, so hosting its apps on cloud required special invitation to Streamlit cloud but now, it is open to everyone. Anyone can create and host up to three apps in their free plan. \n",
    "\n",
    "It integrates extremely well with modern data science stack. For instances, it's got single-line commands to display interactive visuals of Plotly (or Bokeh and Altair) or Pandas DataFrames and many more media types. It is also supported by a massive open-source community where people developed [custom components](https://streamlit.io/components) for the library using JavaScript. \n",
    "\n",
    "I myself have been working on a library that enables you to convert Jupyter Notebooks to identical Streamlit apps in a single line of code. The library will come out early in January. Throughout the development of my library, I had to update Streamlit multiple times as it keeps releasing new versions every other week. An open-source library with that much support is bound to be even more popular in 2022. \n",
    "\n",
    "You can check out the [example gallery](https://streamlit.io/gallery) for inspiration and get a feel of how powerful the library is. "
   ]
  },
  {
   "cell_type": "markdown",
   "id": "fd10305c-334e-443e-848f-503c35dc0dd9",
   "metadata": {},
   "source": [
    "# Plotly"
   ]
  },
  {
   "cell_type": "markdown",
   "id": "774e6328-5f7f-4097-a594-04901e4b1cb4",
   "metadata": {},
   "source": [
    "# PyCaret"
   ]
  },
  {
   "cell_type": "markdown",
   "id": "ac05e38e-57d4-4ecb-9de6-8820a43ae983",
   "metadata": {},
   "source": [
    "# Optuna"
   ]
  },
  {
   "cell_type": "markdown",
   "id": "0940f8c1-0265-498c-a238-e0bd76527400",
   "metadata": {},
   "source": []
  }
 ],
 "metadata": {
  "kernelspec": {
   "display_name": "medium_articles",
   "language": "python",
   "name": "medium_articles"
  },
  "language_info": {
   "codemirror_mode": {
    "name": "ipython",
    "version": 3
   },
   "file_extension": ".py",
   "mimetype": "text/x-python",
   "name": "python",
   "nbconvert_exporter": "python",
   "pygments_lexer": "ipython3",
   "version": "3.8.11"
  }
 },
 "nbformat": 4,
 "nbformat_minor": 5
}
