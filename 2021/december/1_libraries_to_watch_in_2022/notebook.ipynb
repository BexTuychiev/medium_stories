{
 "cells": [
  {
   "cell_type": "markdown",
   "id": "afc06ccc-87c6-484a-87e8-38c55bfa4771",
   "metadata": {},
   "source": [
    "# 10 Dangerous Data Science Libraries You Must Watch Out in 2022\n",
    "## Data backed exploration of the fastest growing libraries\n",
    "![](images/pixabay.jpg)"
   ]
  },
  {
   "cell_type": "markdown",
   "id": "4871ce82-6112-4feb-90fd-87a707c4b15a",
   "metadata": {},
   "source": [
    "# Introduction"
   ]
  },
  {
   "cell_type": "markdown",
   "id": "c4742be7-d380-4352-ae21-13bfac5ae080",
   "metadata": {},
   "source": [
    "You know, the usual talk. You can’t believe it’s 2022 already and I can’t believe it either. We are still fascinated at how fast the time goes. You know that as the New Year approaches, your feed is gonna be filled with New Year resolutions posts, self-promises and of course, posts like this where authors try to predict what happens in the coming year.\n",
    "\n",
    "When data scientists write posts like this, they should be a bit more believable because of the inherent expectation that our claims should be backed by relevant data. In this one, I do my best to do exactly that where I talk about N of the potentially most trending Python data science libraries in 2022."
   ]
  },
  {
   "cell_type": "markdown",
   "id": "ab9a4cae-0256-4587-aa8b-4bdefcac8589",
   "metadata": {},
   "source": [
    "# Terality"
   ]
  },
  {
   "cell_type": "markdown",
   "id": "706dacf5-39cf-4c73-92a6-2c93f84663b7",
   "metadata": {},
   "source": [
    "# SHAP"
   ]
  },
  {
   "cell_type": "markdown",
   "id": "2791f491-2ae2-41ef-9690-9ae5839784a6",
   "metadata": {},
   "source": [
    "# LightGBM"
   ]
  },
  {
   "cell_type": "markdown",
   "id": "b3e97c5c-46e9-415b-9622-ffca47120000",
   "metadata": {},
   "source": [
    "# CatBoost"
   ]
  },
  {
   "cell_type": "markdown",
   "id": "fd10305c-334e-443e-848f-503c35dc0dd9",
   "metadata": {},
   "source": [
    "# Plotly"
   ]
  },
  {
   "cell_type": "markdown",
   "id": "62ce3979-6cf1-4fb0-90b8-0c19f3e8e45b",
   "metadata": {},
   "source": [
    "# UMAP"
   ]
  },
  {
   "cell_type": "markdown",
   "id": "4efe7805-6630-4966-89a2-f13e3ac8ebb3",
   "metadata": {},
   "source": [
    "PCA is old news. Yes, it is damn fast but it just dumbly reduces the dimensions without a care in the world about the underlying global structure. There is t-SNE which does that but it is painfully slow and scales horribly to massive datasets. \n",
    "\n",
    "UMAP was introduced in 2018 as a common ground between these two dominating dimensionality reduction and visualization algorithms. With Uniform Manifold Approximation and Projection algorithm, you get all the speed benefits of PCA and still get to preserve as much information about the data as possible, often resulting in beauties like this:\n",
    "\n",
    "TODO, ADD A BEAUTIFUL UMAP IMAGE\n",
    "\n",
    "It has got great adoption over on Kaggle and its docs suggest some fascinating applications beyond dimensionality reduction for UMAP. Even though Google trends does not do justice to the popularity of the library, it will definitely be one of the most used reduction algorithms in 2022:\n",
    "\n",
    "ADD A GOOGLE TRENDS IMAGE FOR UMAP AND PCA"
   ]
  },
  {
   "cell_type": "markdown",
   "id": "774e6328-5f7f-4097-a594-04901e4b1cb4",
   "metadata": {},
   "source": [
    "# PyCaret"
   ]
  },
  {
   "cell_type": "markdown",
   "id": "ac05e38e-57d4-4ecb-9de6-8820a43ae983",
   "metadata": {},
   "source": [
    "# Optuna"
   ]
  },
  {
   "cell_type": "markdown",
   "id": "0940f8c1-0265-498c-a238-e0bd76527400",
   "metadata": {},
   "source": []
  }
 ],
 "metadata": {
  "kernelspec": {
   "display_name": "medium_articles",
   "language": "python",
   "name": "medium_articles"
  },
  "language_info": {
   "codemirror_mode": {
    "name": "ipython",
    "version": 3
   },
   "file_extension": ".py",
   "mimetype": "text/x-python",
   "name": "python",
   "nbconvert_exporter": "python",
   "pygments_lexer": "ipython3",
   "version": "3.8.11"
  }
 },
 "nbformat": 4,
 "nbformat_minor": 5
}
