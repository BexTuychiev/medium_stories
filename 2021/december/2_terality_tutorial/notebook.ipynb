{
 "cells": [
  {
   "cell_type": "markdown",
   "id": "35795bfc-4202-41fd-a92a-8d92407bf9bc",
   "metadata": {},
   "source": [
    "# Terality - The Exact Same Syntax of Pandas but With the Speed of a Rocket\n",
    "## "
   ]
  }
 ],
 "metadata": {
  "kernelspec": {
   "display_name": "medium_articles",
   "language": "python",
   "name": "medium_articles"
  },
  "language_info": {
   "codemirror_mode": {
    "name": "ipython",
    "version": 3
   },
   "file_extension": ".py",
   "mimetype": "text/x-python",
   "name": "python",
   "nbconvert_exporter": "python",
   "pygments_lexer": "ipython3",
   "version": "3.8.11"
  }
 },
 "nbformat": 4,
 "nbformat_minor": 5
}
