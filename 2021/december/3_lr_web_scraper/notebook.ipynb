{
 "cells": [
  {
   "cell_type": "markdown",
   "id": "72284c6d-a679-4e02-9a57-009fee1a89f6",
   "metadata": {
    "tags": []
   },
   "source": [
    "# Build a Python Web Crawler From Scratch\n",
    "![](images/pexels.jpg)"
   ]
  },
  {
   "cell_type": "markdown",
   "id": "5017116d-be04-4d9c-8657-43733ebafd4e",
   "metadata": {},
   "source": [
    "# Introduction"
   ]
  },
  {
   "cell_type": "markdown",
   "id": "921ee6ff-f5e5-42dd-a826-aa8d187e8161",
   "metadata": {},
   "source": [
    "Why would anyone want to collect more data when there is so much already? "
   ]
  },
  {
   "cell_type": "markdown",
   "id": "4b51360a-8a93-49cd-a66a-37a34a59c769",
   "metadata": {},
   "source": [
    "# HTML anatomy basics"
   ]
  },
  {
   "cell_type": "markdown",
   "id": "6916f50b-e0b5-4350-9489-3f7c495bd0df",
   "metadata": {},
   "source": [
    "We will start by learning the basics of HTML anatomy. Nearly all websites on the Internet are built using the combination of HTML and CSS code (including JavaScript, but we won't talk about it here).\n",
    "\n",
    "Below is a sample HTML code, with some important parts annotated."
   ]
  },
  {
   "cell_type": "markdown",
   "id": "afb7ad53-71ed-4e3d-9b3f-4e7a4394cff8",
   "metadata": {},
   "source": [
    "![](images/1.png)"
   ]
  },
  {
   "cell_type": "markdown",
   "id": "06a64bfd-6e16-4b48-adf3-1d89a54916d6",
   "metadata": {},
   "source": [
    "HTML organizes and positions information on a blank page using nodes called tags. The highest parent tag above is a `bookstore`. A tag inside a tag is called a child and the `book` tag is an example. \n",
    "\n",
    "Many HTML tags have *attributes* that encode additional information about the things displayed on the screen. The first attribute we see is an `id` attribute, which is used to give a unique identifier to a tag, as there can be many `bookstore` tags in the page source.\n",
    "\n",
    "Another, lower-level identifier for tags are called classes, an example of which is the `title` tag with a class of `name`. Best practices of writing HTML code dictate that a single `id` should be used on a single tag, while classes should be used to group tags that work similarly.\n",
    "\n",
    "Other attributes include the `lang` which dictates the language of the page and a very common attribute - `href` of the `a` tag, which links a piece of text to some web page. \n",
    "\n",
    "The whole idea behind web scraping is to use automation to extract information from the massive sea of HTML tags and their attributes. One of the tools, among many, to use in this process is using XPath. "
   ]
  },
  {
   "cell_type": "markdown",
   "id": "61d7233e-1874-452c-9b0e-d2fba3d54eb2",
   "metadata": {},
   "source": [
    "# XPath with `lxml`"
   ]
  },
  {
   "cell_type": "markdown",
   "id": "322b1cb7-5f5f-4fd5-97be-78a5d406136a",
   "metadata": {},
   "source": [
    "XPath stands for XML path language. XPath syntax contains intuitive rules to locate HTML tags and extract information from their attributes and texts. For this section, we will practice XPath on the HTML code you saw in the above picture:"
   ]
  },
  {
   "cell_type": "code",
   "execution_count": 1,
   "id": "0930335b-edf0-42f4-85ac-ae95d48b19c2",
   "metadata": {},
   "outputs": [],
   "source": [
    "sample_html = \"\"\"\n",
    "<bookstore id='main'>\n",
    "\n",
    "    <book>\n",
    "        <img src='https://books.toscrape.com/index.html'>\n",
    "        <title lang=\"en\" class='name'>Harry Potter</title>\n",
    "        <price>29.99</price>\n",
    "    </book>\n",
    "\n",
    "    <book>\n",
    "        <a href='https://www.w3schools.com/xml/xpath_syntax.asp'>\n",
    "            <title lang=\"en\">Learning XML</title>\n",
    "        </a>\n",
    "        <price>39.95</price>\n",
    "    </book>\n",
    "\n",
    "</bookstore>\n",
    "\"\"\""
   ]
  },
  {
   "cell_type": "markdown",
   "id": "4325e7a8-dea3-49e1-95fb-c7b35f725bf4",
   "metadata": {},
   "source": [
    "To start using XPath to query this HTML code, we will be needing a small library:"
   ]
  },
  {
   "cell_type": "markdown",
   "id": "2cfa09da-3458-4571-8d7e-fa5f477bb71e",
   "metadata": {},
   "source": [
    "```python\n",
    "pip install lxml\n",
    "```"
   ]
  },
  {
   "cell_type": "markdown",
   "id": "f014029e-ffe7-4008-b1ee-3ec4b459fbb4",
   "metadata": {},
   "source": [
    "LXML library allows you to both read HTML code as a string and query it using XPath. First, we will convert the above string to an HTML element using the `fromstring` function:"
   ]
  },
  {
   "cell_type": "code",
   "execution_count": 2,
   "id": "266bcd80-6068-4250-b721-cb8087071d61",
   "metadata": {},
   "outputs": [
    {
     "data": {
      "text/plain": [
       "<Element bookstore at 0x1e612a769a0>"
      ]
     },
     "execution_count": 2,
     "metadata": {},
     "output_type": "execute_result"
    }
   ],
   "source": [
    "from lxml import html\n",
    "\n",
    "source = html.fromstring(sample_html)\n",
    "\n",
    "source"
   ]
  },
  {
   "cell_type": "code",
   "execution_count": 3,
   "id": "69c4c7ff-f5fd-4e58-8759-970f97eb8f0d",
   "metadata": {},
   "outputs": [
    {
     "data": {
      "text/plain": [
       "lxml.html.HtmlElement"
      ]
     },
     "execution_count": 3,
     "metadata": {},
     "output_type": "execute_result"
    }
   ],
   "source": [
    "type(source)"
   ]
  },
  {
   "cell_type": "markdown",
   "id": "176f46b7-2bfe-45ce-9561-110c5c4bc320",
   "metadata": {},
   "source": [
    "Now, let's write our first XPath code. We will just select the `bookstore` tag first:"
   ]
  },
  {
   "cell_type": "code",
   "execution_count": 4,
   "id": "2c376163-e4d5-4729-a457-e709969c80cd",
   "metadata": {},
   "outputs": [
    {
     "data": {
      "text/plain": [
       "[<Element bookstore at 0x1e612a769a0>]"
      ]
     },
     "execution_count": 4,
     "metadata": {},
     "output_type": "execute_result"
    }
   ],
   "source": [
    "source.xpath(\"//bookstore\")"
   ]
  },
  {
   "cell_type": "markdown",
   "id": "eb019176-df8a-4331-b729-0b2e6a4013c4",
   "metadata": {},
   "source": [
    "It is as simple as that. Just write a double forward slash followed by a tag name to select the tag from anywhere of the HTML tree. We can do the same for the `book` tag:"
   ]
  },
  {
   "cell_type": "code",
   "execution_count": 5,
   "id": "391df15c-e19d-4caf-93c6-f839d9c3ec59",
   "metadata": {},
   "outputs": [
    {
     "data": {
      "text/plain": [
       "[<Element book at 0x1e612afcb80>, <Element book at 0x1e612afcbd0>]"
      ]
     },
     "execution_count": 5,
     "metadata": {},
     "output_type": "execute_result"
    }
   ],
   "source": [
    "source.xpath(\"//book\")"
   ]
  },
  {
   "cell_type": "markdown",
   "id": "6e4772a9-d45e-4b88-976a-cf0b41f82a48",
   "metadata": {},
   "source": [
    "As you can see, we get a list of two `book` tags. Now, let's see how to choose an immediate child of a tag. For example, let's choose the `title` tag that comes right inside the `book` tag:"
   ]
  },
  {
   "cell_type": "code",
   "execution_count": 6,
   "id": "5e68f09f-831a-4938-b76c-6a7a07e750c6",
   "metadata": {},
   "outputs": [
    {
     "data": {
      "text/plain": [
       "[<Element title at 0x1e6129dfa90>]"
      ]
     },
     "execution_count": 6,
     "metadata": {},
     "output_type": "execute_result"
    }
   ],
   "source": [
    "source.xpath(\"//book/title\")"
   ]
  },
  {
   "cell_type": "markdown",
   "id": "7947c781-b85b-410f-a934-57b5fddce2a7",
   "metadata": {},
   "source": [
    "We've only got a single element, which is the first `title` tag. The reason the second tag wasn't chosen is because it is not an immediate child of the second `book` tag. But we can replace the single forward slash with a double one to choose both `title` tags:"
   ]
  },
  {
   "cell_type": "code",
   "execution_count": 7,
   "id": "562222d5-0141-4037-bd93-9a7db776485f",
   "metadata": {},
   "outputs": [
    {
     "data": {
      "text/plain": [
       "[<Element title at 0x1e6129dfa90>, <Element title at 0x1e612b0edb0>]"
      ]
     },
     "execution_count": 7,
     "metadata": {},
     "output_type": "execute_result"
    }
   ],
   "source": [
    "source.xpath(\"//book//title\")"
   ]
  },
  {
   "cell_type": "markdown",
   "id": "792e0518-63ed-4003-8165-c9934d6251f0",
   "metadata": {},
   "source": [
    "Now, let's see how to choose the text inside a tag:"
   ]
  },
  {
   "cell_type": "code",
   "execution_count": 8,
   "id": "b140e4a6-b8f0-4935-a0ae-dc43551fcefa",
   "metadata": {},
   "outputs": [
    {
     "data": {
      "text/plain": [
       "['Harry Potter']"
      ]
     },
     "execution_count": 8,
     "metadata": {},
     "output_type": "execute_result"
    }
   ],
   "source": [
    "source.xpath(\"//book/title[1]/text()\")"
   ]
  },
  {
   "cell_type": "markdown",
   "id": "1384f2a6-51b5-4a45-85d9-3ae0cf9d4eeb",
   "metadata": {},
   "source": [
    "We are choosing the text inside the first `title` tag. As you can see, we can also specify which of the `title` tags we want using brackets notation. To choose the text inside that tag, just follow it with a forward slash and a `text()` function. \n",
    "\n",
    "Finally, we look at how to locate tags based on their attributes like `id`, `class`, `href` or any other attribute inside `<>`. Below, we will choose the title tag with the `name` class:"
   ]
  },
  {
   "cell_type": "code",
   "execution_count": 9,
   "id": "b8cffdfd-d70d-4bbd-9a20-ab4aff607781",
   "metadata": {},
   "outputs": [
    {
     "data": {
      "text/plain": [
       "[<Element title at 0x1e6129dfa90>]"
      ]
     },
     "execution_count": 9,
     "metadata": {},
     "output_type": "execute_result"
    }
   ],
   "source": [
    "source.xpath(\"//title[@class='name']\")"
   ]
  },
  {
   "cell_type": "markdown",
   "id": "bb18c53d-4e50-424a-a7a4-194385eb2a76",
   "metadata": {},
   "source": [
    "As expected, we get a single element. Here are a few examples of choosing other tags using attributes:"
   ]
  },
  {
   "cell_type": "code",
   "execution_count": 10,
   "id": "b17aaec7-9709-475f-bcaa-56ba23e56980",
   "metadata": {},
   "outputs": [
    {
     "data": {
      "text/plain": [
       "[<Element bookstore at 0x1e612a769a0>]"
      ]
     },
     "execution_count": 10,
     "metadata": {},
     "output_type": "execute_result"
    }
   ],
   "source": [
    "source.xpath(\"//*[@id='main']\")  # choose any element with id 'main'"
   ]
  },
  {
   "cell_type": "code",
   "execution_count": 11,
   "id": "17590288-0a18-46c0-8393-4e83bfddd3c9",
   "metadata": {},
   "outputs": [
    {
     "data": {
      "text/plain": [
       "[<Element title at 0x1e6129dfa90>, <Element title at 0x1e612b0edb0>]"
      ]
     },
     "execution_count": 11,
     "metadata": {},
     "output_type": "execute_result"
    }
   ],
   "source": [
    "source.xpath(\"//title[@lang='en']\")  # choose a title tag with 'lang' attribute of 'en'."
   ]
  },
  {
   "cell_type": "markdown",
   "id": "18315d17-e99f-4cbb-832c-1d09edf4d66d",
   "metadata": {},
   "source": [
    "I suggest you look at [this page](https://www.w3schools.com/xml/xpath_syntax.asp) of W3Schools to learn more about XPath."
   ]
  },
  {
   "cell_type": "markdown",
   "id": "23a5e40c-0064-459e-983f-c0b5772f1726",
   "metadata": {
    "tags": []
   },
   "source": [
    "# Creating a class to store the data"
   ]
  },
  {
   "cell_type": "markdown",
   "id": "eb6acb10-ec9f-4358-8262-1bc3f3b8266c",
   "metadata": {},
   "source": [
    "For this tutorial, we will be scraping this [e-store's computers section](https://slickdeals.net/computer-deals/?page=1):\n",
    "\n",
    "![](images/2.png)"
   ]
  },
  {
   "cell_type": "markdown",
   "id": "2eeb4b4b-5354-4b69-9c1b-e3883d4a4a51",
   "metadata": {},
   "source": [
    "We will be extracting every item's name, manufacturer, price, number of likes, reviews and the image URL. To make things easier, we will create a class with these attributes:"
   ]
  },
  {
   "cell_type": "code",
   "execution_count": 82,
   "id": "edbcffe6-5894-47f4-9bf1-d923f8b5f275",
   "metadata": {},
   "outputs": [],
   "source": [
    "class StoreItem:\n",
    "    \"\"\"\n",
    "    A general class to store item data in a concise manner.\n",
    "    \"\"\"\n",
    "\n",
    "    def __init__(self, name, price, manufacturer):\n",
    "        self.name = name\n",
    "        self.price = price\n",
    "        self.manufacturer = manufacturer"
   ]
  },
  {
   "cell_type": "markdown",
   "id": "0c7e50e1-e493-4902-8c64-94f7ef0d3bff",
   "metadata": {},
   "source": [
    "Let's initialize the first item manually:"
   ]
  },
  {
   "cell_type": "code",
   "execution_count": 83,
   "id": "2481a0ef-61ab-4d2b-8b10-95d7ab3b9da1",
   "metadata": {},
   "outputs": [],
   "source": [
    "item1 = StoreItem(\"Lenovo IdeaPad\", 749, \"Walmart\")"
   ]
  },
  {
   "cell_type": "markdown",
   "id": "87765f44-aba2-490f-88bd-f24cb6b36846",
   "metadata": {},
   "source": [
    "# Getting the page source"
   ]
  },
  {
   "cell_type": "markdown",
   "id": "e925fe75-8a20-41e7-8144-3cce5ee83e1f",
   "metadata": {},
   "source": [
    "Now, let's get to down to the serious business. To scrape the website, we will need its HTML source. Achieving this requires using another library:"
   ]
  },
  {
   "cell_type": "markdown",
   "id": "07d401e4-a38c-4b58-ac32-5ee464afe177",
   "metadata": {},
   "source": [
    "```python\n",
    "pip install requests\n",
    "```"
   ]
  },
  {
   "cell_type": "markdown",
   "id": "185f597b-81ea-43a3-a731-a010c7ef9fc8",
   "metadata": {},
   "source": [
    "`requests` allows you to send HTTPS requests to websites and of course, get back the result with their HTML code. It is easy as calling its `get` method passing the webpage address:"
   ]
  },
  {
   "cell_type": "code",
   "execution_count": 14,
   "id": "3fedd40a-feff-44f7-a817-989dc678697b",
   "metadata": {},
   "outputs": [
    {
     "data": {
      "text/plain": [
       "<Response [200]>"
      ]
     },
     "execution_count": 14,
     "metadata": {},
     "output_type": "execute_result"
    }
   ],
   "source": [
    "import requests\n",
    "\n",
    "HOME_PAGE = \"https://slickdeals.net/computer-deals/?page=1\"\n",
    "requests.get(HOME_PAGE)"
   ]
  },
  {
   "cell_type": "markdown",
   "id": "214a54a1-a511-4902-9067-c0a8f0178319",
   "metadata": {},
   "source": [
    "If the response comes with a 200 status code, it means the request was successful. To get the HTML code, we use the `content` attribute:"
   ]
  },
  {
   "cell_type": "code",
   "execution_count": 15,
   "id": "90cba77d-72b8-4ca0-8a3c-f2654d6de3cd",
   "metadata": {},
   "outputs": [],
   "source": [
    "r = requests.get(HOME_PAGE)\n",
    "\n",
    "source = html.fromstring(r.content)"
   ]
  },
  {
   "cell_type": "code",
   "execution_count": 16,
   "id": "82876e4f-5d37-4e4d-8223-6bea1d619dc0",
   "metadata": {},
   "outputs": [
    {
     "data": {
      "text/plain": [
       "<Element html at 0x1e612ba63b0>"
      ]
     },
     "execution_count": 16,
     "metadata": {},
     "output_type": "execute_result"
    }
   ],
   "source": [
    "source"
   ]
  },
  {
   "cell_type": "markdown",
   "id": "5c86b7c6-ae6b-4ee8-8a95-e31701c5ba86",
   "metadata": {},
   "source": [
    "Above, we are converting the result to an LXML compatible object. As we probably repeat this process a few times, we will convert into a function:"
   ]
  },
  {
   "cell_type": "code",
   "execution_count": 17,
   "id": "5032d510-d0c0-44b9-9957-0f38e297a473",
   "metadata": {},
   "outputs": [],
   "source": [
    "def get_source(page_url):\n",
    "    \"\"\"\n",
    "    A function to download the page source of the given URL.\n",
    "    \"\"\"\n",
    "    r = requests.get(page_url)\n",
    "    source = html.fromstring(r.content)\n",
    "\n",
    "    return source"
   ]
  },
  {
   "cell_type": "code",
   "execution_count": 18,
   "id": "349b07b4-a9b3-4b35-9af1-36dd2a7e8149",
   "metadata": {},
   "outputs": [
    {
     "data": {
      "text/plain": [
       "<Element html at 0x1e612d11770>"
      ]
     },
     "execution_count": 18,
     "metadata": {},
     "output_type": "execute_result"
    }
   ],
   "source": [
    "source = get_source(HOME_PAGE)\n",
    "source"
   ]
  },
  {
   "cell_type": "markdown",
   "id": "7edf4db6-e6a7-4e92-9c98-2402837e3735",
   "metadata": {},
   "source": [
    "But, here is a problem - any website contains tens of thousands of HTML code, which makes visual exploration of the code impossible. For this reason, we will turn to our browser to figure out which tags and attributes contain the information we want. \n",
    "\n",
    "After loading the page, right-click anywhere on the page and click \"Inspect\" to open developer tools:"
   ]
  },
  {
   "cell_type": "markdown",
   "id": "b6acd901-1d44-45ee-8845-3bf3f00133ae",
   "metadata": {},
   "source": [
    "![](images/2.gif)"
   ]
  },
  {
   "cell_type": "markdown",
   "id": "f5ad7ea0-c631-4baf-9409-156107b62a31",
   "metadata": {},
   "source": [
    "Using the \"selector arrow\", you can hover over and click on parts of the page to find out the element below the cursor and find out their associated attributes and info. It will also change the below window to move to the location of the selected element. As we can see, all stores items are within `li` elements, with a class attribute containing the words `fpGridBox grid`. Let's choose them using XPath:"
   ]
  },
  {
   "cell_type": "code",
   "execution_count": 73,
   "id": "707d8548-899f-44ab-ad68-b3a79a14367e",
   "metadata": {},
   "outputs": [
    {
     "data": {
      "text/plain": [
       "28"
      ]
     },
     "execution_count": 73,
     "metadata": {},
     "output_type": "execute_result"
    }
   ],
   "source": [
    "source = get_source(HOME_PAGE)\n",
    "\n",
    "li_list = source.xpath(\"//li[contains(@class, 'fpGridBox grid')]\")\n",
    "len(li_list)"
   ]
  },
  {
   "cell_type": "markdown",
   "id": "d7b849fb-105b-427c-ae10-0890f2c34f4a",
   "metadata": {},
   "source": [
    "Since the class names are changing, we are using a part of the class name that is common in all `li` elements. As a result, we have selected 28 `li` elements, which can be double-checked by counting them on the webpage itself. "
   ]
  },
  {
   "cell_type": "markdown",
   "id": "a125d7de-4e65-4ff7-b1a4-98d93563182f",
   "metadata": {
    "tags": []
   },
   "source": [
    "# Extracting the data"
   ]
  },
  {
   "cell_type": "markdown",
   "id": "d381b5bc-6e16-4ac5-873c-2877bd2396a3",
   "metadata": {},
   "source": [
    "Now, let's start extracting the item details from the `li` elements. Let's first look at how to find the item's name using the \"selector arrow\":"
   ]
  },
  {
   "cell_type": "markdown",
   "id": "b7dcffc7-c7ba-4c31-8a21-f47e8a735de4",
   "metadata": {},
   "source": [
    "![](images/3.gif)"
   ]
  },
  {
   "cell_type": "markdown",
   "id": "244649fe-6d3b-4fea-b034-e499ec8c62cf",
   "metadata": {},
   "source": [
    "As you can see, the item names are located inside `a` tags with class names that contain `itemTitle` keyword. Let's select them with XPath to make sure:"
   ]
  },
  {
   "cell_type": "code",
   "execution_count": 30,
   "id": "f38a424c-0bda-441f-ba0e-621ba6a05f1e",
   "metadata": {
    "tags": []
   },
   "outputs": [
    {
     "data": {
      "text/plain": [
       "28"
      ]
     },
     "execution_count": 30,
     "metadata": {},
     "output_type": "execute_result"
    }
   ],
   "source": [
    "item_names = [\n",
    "    li.xpath(\".//a[@class='itemTitle bp-p-dealLink bp-c-link']\") for li in li_list\n",
    "]\n",
    "\n",
    "len(item_names)"
   ]
  },
  {
   "cell_type": "markdown",
   "id": "ff5abd12-b365-47fa-8ebb-a0140715d6a1",
   "metadata": {},
   "source": [
    "As expected, we got 28 item names. This time, we are using chained XPath on `li` elements, which requires starting the syntax with a `dot`. Below, I will write the XPath for other item details using the browser tools:"
   ]
  },
  {
   "cell_type": "code",
   "execution_count": 84,
   "id": "1c32d086-a72d-47e8-869b-ff0577109a9c",
   "metadata": {},
   "outputs": [],
   "source": [
    "li_xpath = \"//li[contains(@class, 'fpGridBox grid')]\"  # Choose the `li` items\n",
    "\n",
    "names_xpath = \".//a[@class='itemTitle bp-p-dealLink bp-c-link']/text()\"\n",
    "manufacturer_xpath = \".//*[contains(@class, 'itemStore bp-p-storeLink')]/text()\"\n",
    "price_xpath = \".//*[contains(@class, 'itemPrice')]/text()\""
   ]
  },
  {
   "cell_type": "markdown",
   "id": "c82a0660-720a-4ec5-b7f6-c3e18f8f8a54",
   "metadata": {},
   "source": [
    "Now, we have got everything we need to scrape all items on the page. Let's do it in a loop:"
   ]
  },
  {
   "cell_type": "code",
   "execution_count": 87,
   "id": "5d9dacb7-e6ec-441b-ac4d-b7006b9830fc",
   "metadata": {},
   "outputs": [],
   "source": [
    "li_list = source.xpath(li_xpath)\n",
    "\n",
    "items = list()\n",
    "for li in li_list:\n",
    "    name = li.xpath(names_xpath)\n",
    "    manufacturer = li.xpath(manufacturer_xpath)\n",
    "    price = li.xpath(price_xpath)\n",
    "\n",
    "    # Store inside a class\n",
    "    item = StoreItem(name, price, manufacturer)\n",
    "    items.append(item)"
   ]
  },
  {
   "cell_type": "code",
   "execution_count": 89,
   "id": "60a9a7cd-bce7-4358-985f-434627c036bb",
   "metadata": {},
   "outputs": [
    {
     "data": {
      "text/plain": [
       "28"
      ]
     },
     "execution_count": 89,
     "metadata": {},
     "output_type": "execute_result"
    }
   ],
   "source": [
    "len(items)"
   ]
  },
  {
   "cell_type": "markdown",
   "id": "086921b6-aaa4-4f41-b7e7-8e30746c010f",
   "metadata": {},
   "source": [
    "# Handling the pagination"
   ]
  },
  {
   "cell_type": "markdown",
   "id": "5e67bdda-293a-4fbe-962a-3f842dad9da1",
   "metadata": {},
   "source": [
    "We've got all items on this page. However, if you scroll down, you'll see that there is a \"Next\" button, indicating that there are more items to scrape. We don't want to visit all pages manually one-by-one, because there can hundreds of pages. \n",
    "\n",
    "But if you pay attention to the URL when we click on the Next button every time:\n",
    "\n",
    "![](images/4.gif)"
   ]
  },
  {
   "cell_type": "markdown",
   "id": "79dba672-5515-486e-80a8-cd025763a9e2",
   "metadata": {},
   "source": [
    "As you can see, the page number is changing as we click the button. Now, I've checked that there are 22 pages of items on the website. So, we will create "
   ]
  },
  {
   "cell_type": "code",
   "execution_count": null,
   "id": "bc749761-be5a-4e1c-a13d-579083ded4ee",
   "metadata": {},
   "outputs": [],
   "source": []
  },
  {
   "cell_type": "markdown",
   "id": "0c0f0e06-ee5d-451a-af8d-699f79c74ae5",
   "metadata": {},
   "source": [
    "# Conclusion"
   ]
  }
 ],
 "metadata": {
  "kernelspec": {
   "display_name": "medium_articles",
   "language": "python",
   "name": "medium_articles"
  },
  "language_info": {
   "codemirror_mode": {
    "name": "ipython",
    "version": 3
   },
   "file_extension": ".py",
   "mimetype": "text/x-python",
   "name": "python",
   "nbconvert_exporter": "python",
   "pygments_lexer": "ipython3",
   "version": "3.8.11"
  }
 },
 "nbformat": 4,
 "nbformat_minor": 5
}
