{
 "cells": [
  {
   "cell_type": "markdown",
   "id": "72284c6d-a679-4e02-9a57-009fee1a89f6",
   "metadata": {},
   "source": [
    "# Build a Python Web Crawler From Scratch\n",
    "![](images/pexels.jpg)"
   ]
  },
  {
   "cell_type": "markdown",
   "id": "5017116d-be04-4d9c-8657-43733ebafd4e",
   "metadata": {},
   "source": [
    "# Introduction"
   ]
  },
  {
   "cell_type": "markdown",
   "id": "4b51360a-8a93-49cd-a66a-37a34a59c769",
   "metadata": {},
   "source": [
    "# HTML anatomy basics"
   ]
  },
  {
   "cell_type": "markdown",
   "id": "61d7233e-1874-452c-9b0e-d2fba3d54eb2",
   "metadata": {},
   "source": [
    "# XPath with `lxml`"
   ]
  },
  {
   "cell_type": "markdown",
   "id": "23a5e40c-0064-459e-983f-c0b5772f1726",
   "metadata": {},
   "source": [
    "# Creating a class to store the data"
   ]
  },
  {
   "cell_type": "markdown",
   "id": "87765f44-aba2-490f-88bd-f24cb6b36846",
   "metadata": {},
   "source": [
    "# Getting the page source"
   ]
  },
  {
   "cell_type": "markdown",
   "id": "a125d7de-4e65-4ff7-b1a4-98d93563182f",
   "metadata": {},
   "source": [
    "# Extracting the data"
   ]
  },
  {
   "cell_type": "markdown",
   "id": "086921b6-aaa4-4f41-b7e7-8e30746c010f",
   "metadata": {},
   "source": [
    "# Handling the pagination"
   ]
  },
  {
   "cell_type": "markdown",
   "id": "0c0f0e06-ee5d-451a-af8d-699f79c74ae5",
   "metadata": {},
   "source": [
    "# Conclusion"
   ]
  }
 ],
 "metadata": {
  "kernelspec": {
   "display_name": "medium_articles",
   "language": "python",
   "name": "medium_articles"
  },
  "language_info": {
   "codemirror_mode": {
    "name": "ipython",
    "version": 3
   },
   "file_extension": ".py",
   "mimetype": "text/x-python",
   "name": "python",
   "nbconvert_exporter": "python",
   "pygments_lexer": "ipython3",
   "version": "3.8.11"
  }
 },
 "nbformat": 4,
 "nbformat_minor": 5
}
