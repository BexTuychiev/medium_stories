{
 "cells": [
  {
   "cell_type": "markdown",
   "id": "72284c6d-a679-4e02-9a57-009fee1a89f6",
   "metadata": {
    "tags": []
   },
   "source": [
    "# Build a Python Web Crawler From Scratch\n",
    "![](images/pexels.jpg)"
   ]
  },
  {
   "cell_type": "markdown",
   "id": "5017116d-be04-4d9c-8657-43733ebafd4e",
   "metadata": {},
   "source": [
    "# Introduction"
   ]
  },
  {
   "cell_type": "markdown",
   "id": "921ee6ff-f5e5-42dd-a826-aa8d187e8161",
   "metadata": {},
   "source": [
    "Why would anyone want to collect more data when there is so much already? "
   ]
  },
  {
   "cell_type": "markdown",
   "id": "4b51360a-8a93-49cd-a66a-37a34a59c769",
   "metadata": {},
   "source": [
    "# HTML anatomy basics"
   ]
  },
  {
   "cell_type": "markdown",
   "id": "6916f50b-e0b5-4350-9489-3f7c495bd0df",
   "metadata": {},
   "source": [
    "We will start by learning the basics of HTML anatomy. Nearly all websites on the Internet are built using the combination of HTML and CSS code (including JavaScript, but we won't talk about it here).\n",
    "\n",
    "Below is a sample HTML code, with some important parts annotated."
   ]
  },
  {
   "cell_type": "markdown",
   "id": "afb7ad53-71ed-4e3d-9b3f-4e7a4394cff8",
   "metadata": {},
   "source": [
    "![](images/1.png)"
   ]
  },
  {
   "cell_type": "markdown",
   "id": "06a64bfd-6e16-4b48-adf3-1d89a54916d6",
   "metadata": {},
   "source": [
    "HTML organizes and positions information on a blank page using nodes called tags. The highest parent tag above is a `bookstore`. A tag inside a tag is called a child and the `book` tag is an example. \n",
    "\n",
    "Many HTML tags have *attributes* that encode additional information about the things displayed on the screen. The first attribute we see is an `id` attribute, which is used to give a unique identifier to a tag, as there can be many `bookstore` tags in the page source.\n",
    "\n",
    "Another, lower-level identifier for tags are called classes, an example of which is the `title` tag with a class of `name`. Best practices of writing HTML code dictate that a single `id` should be used on a single tag, while classes should be used to group tags that work similarly.\n",
    "\n",
    "Other attributes include the `lang` which dictates the language of the page and a very common attribute - `href` of the `a` tag, which links a piece of text to some web page. \n",
    "\n",
    "The whole idea behind web scraping is to use automation to extract information from the massive sea of HTML tags and their attributes. One of the tools, among many, to use in this process is using XPath. "
   ]
  },
  {
   "cell_type": "markdown",
   "id": "61d7233e-1874-452c-9b0e-d2fba3d54eb2",
   "metadata": {},
   "source": [
    "# XPath with `lxml`"
   ]
  },
  {
   "cell_type": "markdown",
   "id": "2cfa09da-3458-4571-8d7e-fa5f477bb71e",
   "metadata": {},
   "source": [
    "```python\n",
    "pip install lxml\n",
    "```"
   ]
  },
  {
   "cell_type": "markdown",
   "id": "23a5e40c-0064-459e-983f-c0b5772f1726",
   "metadata": {},
   "source": [
    "# Creating a class to store the data"
   ]
  },
  {
   "cell_type": "code",
   "execution_count": 2,
   "id": "edbcffe6-5894-47f4-9bf1-d923f8b5f275",
   "metadata": {},
   "outputs": [],
   "source": [
    "class StoreItem:\n",
    "    \"\"\"\n",
    "    A general class to store item data in a concise manner.\n",
    "    \"\"\"\n",
    "\n",
    "    def __init__(self, name, price, image_url, retailer, num_likes, num_reviews):\n",
    "        self.name = name\n",
    "        self.price = price\n",
    "        self.image_url = image_url\n",
    "        self.retailer = retailer\n",
    "        self.num_likes = num_likes\n",
    "        self.num_reviews = num_reviews"
   ]
  },
  {
   "cell_type": "markdown",
   "id": "87765f44-aba2-490f-88bd-f24cb6b36846",
   "metadata": {},
   "source": [
    "# Getting the page source"
   ]
  },
  {
   "cell_type": "markdown",
   "id": "07d401e4-a38c-4b58-ac32-5ee464afe177",
   "metadata": {},
   "source": [
    "```python\n",
    "pip install requests\n",
    "```"
   ]
  },
  {
   "cell_type": "code",
   "execution_count": 14,
   "id": "3fedd40a-feff-44f7-a817-989dc678697b",
   "metadata": {},
   "outputs": [
    {
     "data": {
      "text/plain": [
       "<Response [200]>"
      ]
     },
     "execution_count": 14,
     "metadata": {},
     "output_type": "execute_result"
    }
   ],
   "source": [
    "import requests\n",
    "\n",
    "HOME_PAGE = \"https://slickdeals.net/computer-deals/?page=1\"\n",
    "requests.get(HOME_PAGE)"
   ]
  },
  {
   "cell_type": "code",
   "execution_count": 19,
   "id": "90cba77d-72b8-4ca0-8a3c-f2654d6de3cd",
   "metadata": {},
   "outputs": [],
   "source": [
    "r = requests.get(HOME_PAGE)\n",
    "source = html.fromstring(r.content)"
   ]
  },
  {
   "cell_type": "code",
   "execution_count": 26,
   "id": "5032d510-d0c0-44b9-9957-0f38e297a473",
   "metadata": {},
   "outputs": [],
   "source": [
    "def get_source(page_url):\n",
    "    \"\"\"\n",
    "    A function to download the page source of the given URL.\n",
    "    \"\"\"\n",
    "    r = requests.get(page_url)\n",
    "    source = html.fromstring(r.content)\n",
    "\n",
    "    return source"
   ]
  },
  {
   "cell_type": "markdown",
   "id": "a125d7de-4e65-4ff7-b1a4-98d93563182f",
   "metadata": {
    "jp-MarkdownHeadingCollapsed": true,
    "tags": []
   },
   "source": [
    "# Extracting the data"
   ]
  },
  {
   "cell_type": "markdown",
   "id": "086921b6-aaa4-4f41-b7e7-8e30746c010f",
   "metadata": {},
   "source": [
    "# Handling the pagination"
   ]
  },
  {
   "cell_type": "markdown",
   "id": "0c0f0e06-ee5d-451a-af8d-699f79c74ae5",
   "metadata": {},
   "source": [
    "# Conclusion"
   ]
  }
 ],
 "metadata": {
  "kernelspec": {
   "display_name": "medium_articles",
   "language": "python",
   "name": "medium_articles"
  },
  "language_info": {
   "codemirror_mode": {
    "name": "ipython",
    "version": 3
   },
   "file_extension": ".py",
   "mimetype": "text/x-python",
   "name": "python",
   "nbconvert_exporter": "python",
   "pygments_lexer": "ipython3",
   "version": "3.8.11"
  }
 },
 "nbformat": 4,
 "nbformat_minor": 5
}
