{
 "cells": [
  {
   "cell_type": "markdown",
   "id": "72284c6d-a679-4e02-9a57-009fee1a89f6",
   "metadata": {},
   "source": [
    "# Build a Python Web Crawler From Scratch\n",
    "![](images/pexels.jpg)"
   ]
  }
 ],
 "metadata": {
  "kernelspec": {
   "display_name": "medium_articles",
   "language": "python",
   "name": "medium_articles"
  },
  "language_info": {
   "codemirror_mode": {
    "name": "ipython",
    "version": 3
   },
   "file_extension": ".py",
   "mimetype": "text/x-python",
   "name": "python",
   "nbconvert_exporter": "python",
   "pygments_lexer": "ipython3",
   "version": "3.8.11"
  }
 },
 "nbformat": 4,
 "nbformat_minor": 5
}
