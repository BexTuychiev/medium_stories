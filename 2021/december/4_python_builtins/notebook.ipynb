{
 "cells": [
  {
   "cell_type": "markdown",
   "id": "8eb99118-93b4-4f73-bb70-77eb008c96c9",
   "metadata": {},
   "source": [
    "# N Builtin Python Libraries That Will Put Haters to Shame\n",
    "![](images/pixabay.jpg)\n",
    "<figcaption style=\"text-align: center;\">\n",
    "    <strong>\n",
    "        Photo by \n",
    "        <a href='https://pixabay.com/users/skorchanov-5650284/?utm_source=link-attribution&utm_medium=referral&utm_campaign=image&utm_content=3602557'>Сергей Корчанов</a>\n",
    "        on \n",
    "        <a href='https://pixabay.com/?utm_source=link-attribution&utm_medium=referral&utm_campaign=image&utm_content=3602557'>Pixabay</a>\n",
    "    </strong>\n",
    "</figcaption>"
   ]
  }
 ],
 "metadata": {
  "kernelspec": {
   "display_name": "medium_articles",
   "language": "python",
   "name": "medium_articles"
  },
  "language_info": {
   "codemirror_mode": {
    "name": "ipython",
    "version": 3
   },
   "file_extension": ".py",
   "mimetype": "text/x-python",
   "name": "python",
   "nbconvert_exporter": "python",
   "pygments_lexer": "ipython3",
   "version": "3.8.11"
  }
 },
 "nbformat": 4,
 "nbformat_minor": 5
}
