{
 "cells": [
  {
   "cell_type": "markdown",
   "metadata": {},
   "source": [
    "# My 6-part Powerful EDA Template That Speaks of Ultimate Skill\n",
    "## EDA - done right...\n",
    "<img src='images/mary.jpg'></img>\n",
    "<figcaption style=\"text-align: center;\">\n",
    "    <strong>\n",
    "        Photo by \n",
    "        <a href='https://www.pexels.com/@mary-taylor?utm_content=attributionCopyText&utm_medium=referral&utm_source=pexels'>Mary Taylor</a>\n",
    "        on \n",
    "        <a href='https://www.pexels.com/photo/energetic-man-standing-on-railing-near-fence-6009207/?utm_content=attributionCopyText&utm_medium=referral&utm_source=pexels'>Pexels</a>\n",
    "    </strong>\n",
    "</figcaption>"
   ]
  },
  {
   "cell_type": "markdown",
   "metadata": {},
   "source": [
    "### Why Are You Stuck?"
   ]
  },
  {
   "cell_type": "markdown",
   "metadata": {},
   "source": [
    "It is hard to get started when that blank void of a Jupyter notebook is staring at you. You have a dataset with hundred features and you have no idea where to begin. Your gut feeling tells you: \"Normal, start with a feature that is normally distributed\". As always... \n",
    "\n",
    "You dive head-first into the data, moving from feature to feature until you find yourself chasing wild geese in a forest without any purpose whatsoever. So, what is the reason?\n",
    "\n",
    "Well, to start, it means you don't have a clear process. Many say Exploratory Data Analysis is the most important part of any project taking up most of your time. And having a structured, process-based approach ensures a successful EDA. Also, it tells that 'you know what you are doing'. \n",
    "\n",
    "Don't have that process yet? Fear not, I got you covered.\n",
    "\n",
    "Today, we will talk about an EDA template that I learned while doing many online courses that fits for any project. "
   ]
  },
  {
   "cell_type": "markdown",
   "metadata": {},
   "source": [
    "### #1. Intro to the Dataset and Clearly State the Aim of the EDA"
   ]
  },
  {
   "cell_type": "markdown",
   "metadata": {},
   "source": [
    "The first section of any EDA should be about giving whatever information needed to build an initial understanding of the dataset and problems it tries to solve. \n",
    "\n",
    "Just like any written content, you should write the beginning in such a way that it keeps the audience reading till the end. \n",
    "\n",
    "> Even though you will be showing code, it doesn't have to be boring.\n",
    "\n",
    "In one of the [notebooks](https://www.kaggle.com/piantic/osic-pulmonary-fibrosis-progression-basic-eda) for OSIC Pulmonary Fibrosis competition on Kaggle, I have seen an excellent strategy of building a good EDA intro. The notebook starts with a background information into the problem and why it is important to solve it. Then, it moves on to giving basic info on the dataset, how it was collected and what the notebook tries to achieve.\n",
    "\n",
    "While writing this section, don't turn it into a wall of text. Use nice formatting and proper visuals to make your EDA memorable. \n",
    "\n",
    "In a separate sub-section, import necessary libraries and modules. I recommend doing this in a single cell. You can go extra mile by importing helpful libraries such as `tqdm, colorama` and tweaking `matplotlib`'s `rcParams` to your like. If you want to know more about a perfect project setup, I recommend reading my other article on it:\n",
    "\n",
    "https://towardsdatascience.com/from-kagglers-best-project-setup-for-ds-and-ml-ffb253485f98?source=your_stories_page-------------------------------------"
   ]
  },
  {
   "cell_type": "markdown",
   "metadata": {},
   "source": []
  }
 ],
 "metadata": {
  "kernelspec": {
   "display_name": "medium_articles",
   "language": "python",
   "name": "medium_articles"
  },
  "language_info": {
   "codemirror_mode": {
    "name": "ipython",
    "version": 3
   },
   "file_extension": ".py",
   "mimetype": "text/x-python",
   "name": "python",
   "nbconvert_exporter": "python",
   "pygments_lexer": "ipython3",
   "version": "3.8.5"
  }
 },
 "nbformat": 4,
 "nbformat_minor": 4
}
