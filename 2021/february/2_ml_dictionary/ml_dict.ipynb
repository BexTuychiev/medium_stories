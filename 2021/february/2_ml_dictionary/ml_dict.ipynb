{
 "cells": [
  {
   "cell_type": "markdown",
   "metadata": {},
   "source": [
    "# Codeless Machine Learning Dictionary For Dummies\n",
    "## Get the terminology right for the most exciting field\n",
    "<img src='images/pexels.jpg'></img>\n",
    "<figcaption style=\"text-align: center;\">\n",
    "    <strong>\n",
    "        Photo by \n",
    "        <a href='https://www.pexels.com/@kun-fotografi-506396?utm_content=attributionCopyText&utm_medium=referral&utm_source=pexels'>Kun Fotografi</a>\n",
    "        on \n",
    "        <a href='https://www.pexels.com/photo/man-in-black-backpack-during-golden-hour-1230302/?utm_content=attributionCopyText&utm_medium=referral&utm_source=pexels'>Pexels</a>\n",
    "    </strong>\n",
    "</figcaption>"
   ]
  },
  {
   "cell_type": "markdown",
   "metadata": {},
   "source": [
    "### The Curse of Knowledge"
   ]
  },
  {
   "cell_type": "markdown",
   "metadata": {},
   "source": [
    "Machine Learning has gained so much popularity that it became one of those topics where people suppose you know everything about it. It is now common to use fancy terms like training/fitting a model, train set, validating a model, a cost function and many others without giving a second thought to whether people understand it or not. Sometimes, it feels like you should have been born knowing these things... \n",
    "\n",
    "Look at me too, rambling about machine learning without explaining what it is in the first place. \n",
    "\n",
    "Today, I am here to break this [knowledge bias](https://en.wikipedia.org/wiki/Curse_of_knowledge#:~:text=The%20curse%20of%20knowledge%20is,refer%20to%20various%20other%20phenomena.) by explaining some of the most common buzz words that surround machine learning and you are somehow expected to have the background to understand."
   ]
  },
  {
   "cell_type": "markdown",
   "metadata": {},
   "source": [
    "### What is Machine Learning?"
   ]
  },
  {
   "cell_type": "markdown",
   "metadata": {},
   "source": [
    "One of the first definitions of machine learning appeared in the late 60s:\n",
    "> Machine Learning is the field of study that gives computers the ability to learn without being explicitly programmed. - Arthur Samuel\n",
    "\n",
    "But how do computers learn without programming? You may have a thousand science e-books on your laptop but does it mean the machine knows something? You can easily check by asking why water is wet and you will get your answer.\n",
    "\n",
    "One of the earliest applications of machine learning was a *spam filter*. By now, spam filters have become so good that you can't even remember the last time you flagged an email as spam, I bet. \n",
    "\n",
    "Before fully explaining machine learning, let's talk about how you would write a program to flag spam emails without machine learning.\n",
    "\n",
    "First, you look at many examples of spams and identify patterns. These can be urgency words like act now, call now, ending soon or any of the [188 words](https://www.activecampaign.com/blog/spam-words) that spammers often use. Then, you write rules that check for these indications to detect spams.\n",
    "\n",
    "In the meantime, spammers don't sit still and realize their emails aren't getting through so they come up with better techniques to escape filters. As the patterns in spams change, your program becomes a longer list of complex rules that keeps extending endlessly.\n",
    "\n",
    "<img src='images/email.jpg'></img>\n",
    "\n",
    "In contrast, a spam filter based on machine learning detects unusually frequent words that come up in spams compared to regular emails (also called 'ham') and starts automatically flagging them. \n",
    "\n",
    "If spammers start to use new patterns and users start to flag them by hand, ML-based program realizes this and starts to filter those type of spams without your intervention. "
   ]
  },
  {
   "cell_type": "markdown",
   "metadata": {},
   "source": [
    "This ability of ML-based programs makes them easier to code and maintain. \n",
    "\n",
    "> Machine learning is all about detecting patterns in the sea of random data (numbers and text). It can be used to extract useful information from even the craziest phenomena like predicting stock prices. "
   ]
  },
  {
   "cell_type": "markdown",
   "metadata": {},
   "source": [
    "### Feature And Target"
   ]
  },
  {
   "cell_type": "markdown",
   "metadata": {},
   "source": [
    "All ML algorithms try to predict future outcomes based on existing data. To create a spam filter, thousands of emails is fed to a machine learning algorithm. Each of these emails have several qualities or attributes like word count, sentence count, subject, body, type of the email and so on.\n",
    "\n",
    "Depending on what you are trying to predict, these attributes are divided into two groups: features and a target. As the name suggests, target attribute (also called target variable by ML engineers) is the value you want to predict. In our case, the type of the email (spam or ham) is the target attribute. \n",
    "\n",
    "In contrast, features are all attributes that help predict the target variable. If you are trying to predict the value of a house, target is the house price and features can be the number of rooms, lot area, number of bathrooms, garage and so on. \n",
    "\n",
    "When you feed existing data to an ML algorithm, you tell which attributes are features and what is the target. The algorithm looks at all features simultaneously and detects patterns. In other words, it learns what kind of combinations of features make up a certain type of the target."
   ]
  },
  {
   "cell_type": "markdown",
   "metadata": {},
   "source": [
    "The type of the target variable determines what kind of ML algorithm to use. Generally, algorithms that try to predict numerical targets are called *Regression* algorithms while algorithms that try to predict some kind of label or group are called *Classification* algorithms.\n",
    "\n",
    "For example, to predict house prices, you use Regression and to predict the type of email, you use Classification."
   ]
  },
  {
   "cell_type": "markdown",
   "metadata": {},
   "source": [
    "### Supervised/Unsupervised Learning Tasks"
   ]
  },
  {
   "cell_type": "markdown",
   "metadata": {},
   "source": [
    "### Model"
   ]
  },
  {
   "cell_type": "markdown",
   "metadata": {},
   "source": [
    "You will see people using the terms machine learning model and machine learning algorithm interchangeably. However, there is a key difference between them. \n",
    "\n",
    "ML algorithm is just complex math and statistics combined together. Without any data and computer power, it can't do anything. You can't use it to predict future outcomes.\n",
    "\n",
    "ML model is an algorithm already trained on some data and ready to predict new values of the same type as the training data. \n",
    "\n",
    "What is training you ask? Well, I already mentioned it a couple of times already: it is the process of feeding data to an algorithm. This is where the actual learning happens. Using its underlying formula or rules, the algorithm detects patterns from the input data and stores the information in its internal memory. \n",
    "\n",
    "Generally, most common algorithms are implemented using a programming language like Python. Python provides standard application programming interfaces (APIs) that make it easy to access and train ML algorithms on any data with a few lines of code. \n",
    "\n",
    "In summary, algorithm is just raw, untrained set of mathematical rules while model is a trained, prediction-ready component in machine learning."
   ]
  },
  {
   "cell_type": "markdown",
   "metadata": {},
   "source": [
    "### Train/Test Set"
   ]
  },
  {
   "cell_type": "code",
   "execution_count": null,
   "metadata": {},
   "outputs": [],
   "source": []
  },
  {
   "cell_type": "markdown",
   "metadata": {},
   "source": [
    "### Cost Function"
   ]
  }
 ],
 "metadata": {
  "kernelspec": {
   "display_name": "medium_articles",
   "language": "python",
   "name": "medium_articles"
  },
  "language_info": {
   "codemirror_mode": {
    "name": "ipython",
    "version": 3
   },
   "file_extension": ".py",
   "mimetype": "text/x-python",
   "name": "python",
   "nbconvert_exporter": "python",
   "pygments_lexer": "ipython3",
   "version": "3.8.5"
  }
 },
 "nbformat": 4,
 "nbformat_minor": 4
}
