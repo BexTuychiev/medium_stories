{
 "cells": [
  {
   "cell_type": "markdown",
   "metadata": {},
   "source": [
    "# Codeless Machine Learning Dictionary For Dummies\n",
    "## Get the terminology right for the most exciting field\n",
    "<img src='images/pexels.jpg'></img>\n",
    "<figcaption style=\"text-align: center;\">\n",
    "    <strong>\n",
    "        Photo by \n",
    "        <a href='https://www.pexels.com/@kun-fotografi-506396?utm_content=attributionCopyText&utm_medium=referral&utm_source=pexels'>Kun Fotografi</a>\n",
    "        on \n",
    "        <a href='https://www.pexels.com/photo/man-in-black-backpack-during-golden-hour-1230302/?utm_content=attributionCopyText&utm_medium=referral&utm_source=pexels'>Pexels</a>\n",
    "    </strong>\n",
    "</figcaption>"
   ]
  },
  {
   "cell_type": "markdown",
   "metadata": {},
   "source": [
    "### Introduction"
   ]
  },
  {
   "cell_type": "markdown",
   "metadata": {},
   "source": [
    "Machine Learning has gained so much popularity that it became one of those topics where people suppose you know everything about it. It is now common to use fancy terms like training/fitting a model, train set, validating a model, a cost function and many others without giving a second thought to whether people understand it or not. Sometimes, it feels like you should have been born knowing these things... \n",
    "\n",
    "Look at me too, rambling about machine learning without explaining what it is in the first place. \n",
    "\n",
    "Today, I am here to break this [knowledge bias](https://en.wikipedia.org/wiki/Curse_of_knowledge#:~:text=The%20curse%20of%20knowledge%20is,refer%20to%20various%20other%20phenomena.) by explaining some of the most common buzz words that surround machine learning and you are somehow expected to have the background to understand."
   ]
  },
  {
   "cell_type": "markdown",
   "metadata": {},
   "source": [
    "### What is Machine Learning?"
   ]
  },
  {
   "cell_type": "markdown",
   "metadata": {},
   "source": [
    "### Supervised/Unsupervised Learning Tasks"
   ]
  },
  {
   "cell_type": "markdown",
   "metadata": {},
   "source": [
    "### Feature And Target"
   ]
  },
  {
   "cell_type": "markdown",
   "metadata": {},
   "source": [
    "### Model"
   ]
  },
  {
   "cell_type": "markdown",
   "metadata": {},
   "source": [
    "### Fit/train a Model"
   ]
  },
  {
   "cell_type": "markdown",
   "metadata": {},
   "source": [
    "### Train/Test Set"
   ]
  },
  {
   "cell_type": "markdown",
   "metadata": {},
   "source": [
    "### Model Validation"
   ]
  },
  {
   "cell_type": "markdown",
   "metadata": {},
   "source": [
    "### Cost Function"
   ]
  }
 ],
 "metadata": {
  "kernelspec": {
   "display_name": "medium_articles",
   "language": "python",
   "name": "medium_articles"
  },
  "language_info": {
   "codemirror_mode": {
    "name": "ipython",
    "version": 3
   },
   "file_extension": ".py",
   "mimetype": "text/x-python",
   "name": "python",
   "nbconvert_exporter": "python",
   "pygments_lexer": "ipython3",
   "version": "3.8.5"
  }
 },
 "nbformat": 4,
 "nbformat_minor": 4
}
