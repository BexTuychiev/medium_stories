{
 "cells": [
  {
   "cell_type": "markdown",
   "metadata": {},
   "source": [
    "# Data Lakes: Definitive Guide\n",
    "## Connecting Dark Analytics With Data Lakes\n",
    "<img src='images/lake.jpg'></img>\n",
    "<figcaption style=\"text-align: center;\">\n",
    "    <strong>\n",
    "        Photo by \n",
    "        <a href='https://www.pexels.com/@simonmigaj?utm_content=attributionCopyText&utm_medium=referral&utm_source=pexels'>Simon Migaj</a>\n",
    "        on \n",
    "        <a href='https://www.pexels.com/photo/person-on-a-bridge-near-a-lake-747964/?utm_content=attributionCopyText&utm_medium=referral&utm_source=pexels'>Pexels</a>\n",
    "    </strong>\n",
    "</figcaption>"
   ]
  },
  {
   "cell_type": "markdown",
   "metadata": {},
   "source": [
    "### What are data lakes?"
   ]
  },
  {
   "cell_type": "markdown",
   "metadata": {},
   "source": [
    "The growth rate of big data is truly mind-boggling: it has been increasing by half every year and already reached 44 trillion gigabytes in 2020. An estimated amount of 90% is completely unstructured causing an organizational havoc on data-based companies that use outdated, structured storage systems.\n",
    "\n",
    "Fortunately in 2010, founder and former CTO of Pentaho came up with a term \"Data Lake\". He describes the concept of data lakes as data storages system that truly resemble lakes: the contents (data) stream into the lake from sources and various users can come to examine, take samples and dive in.\n",
    "\n",
    "Flash-forward to 2021, massive platforms like Amazon and Google are now offering enterprise data lake solutions. This popularity of data lakes came from the dire need of organizations who wanted a storage system that accepts an influx of data types, a central data repository that can be used to dump massive amounts of data that may be useful in the future without thinking hard about schema. \n",
    "\n",
    "So yes, data lakes store any type of data - mostly object blobs (files), ranging from emails to 4K resolution videos. They also don't have a defined structure, everything is stored in its raw format. There are no folders or hierarchy, no logical order.\n",
    "You might already be thinking that this would be an organizational disaster because you wouldn't be able to find anything from this meaningless pile of information. Then, let me prove you wrong in the next section."
   ]
  },
  {
   "cell_type": "markdown",
   "metadata": {},
   "source": [
    "### Data lakes vs. data warehouses"
   ]
  },
  {
   "cell_type": "markdown",
   "metadata": {},
   "source": [
    "Data lakes are easily confused with traditional data warehouses. Apart from their high-level purpose of storing data, they are rather different in many aspects. \n",
    "\n",
    "#### 1. Data lake keeps all\n",
    "With traditional data warehouses, \"if you can't report it, dump it\" approach is used while storing data. Majority of companies want to generate every-day reports on performance metrics, create visuals and dashboards for better-decision making. As a result, a considerable amount of time is spent on choosing the right data by analyzing various sources and business processes. In other words, anything that cannot be reported in a traditional way is dumped. This may include information from web server logs, social media data like videos and images because all these cannot be stored in a spreadsheet cell.\n",
    "\n",
    "In comparison, data lakes store everything, not just data in use currently, but data from all sources just because they may be useful in the future. Everything is kept in raw, native format. "
   ]
  },
  {
   "cell_type": "markdown",
   "metadata": {},
   "source": [
    "#### 2. Data lakes have no structure\n",
    "In data engineering world, the two approaches used by data warehouses and data lakes are called \"Schema-on-write\" vs. \"Schema-on-read\". \n",
    "\n",
    "As the information in data warehouses is mostly used for reporting, everything during the development is aimed at creating fast retrieval of information using querying languages like SQL. All data is preprocessed, cleaned and transformed so that they can be stored in relational tables and be used for easy reporting in the future. \n",
    "\n",
    "In contrast, data lakes assign unique tags and metadata for each piece of information and store them into a fixed, single environment. Since the purpose of information in a data lake is not yet determined, this is ideal for employees in an organization who want to explore business data in novel ways beyond reporting. Data is transformed or a particular schema is applied only when someone needs it. This feature in particular, saves the enormous amount of time that is usually spent on designing a clever database schema for warehouses."
   ]
  },
  {
   "cell_type": "markdown",
   "metadata": {},
   "source": [
    "#### 3. Data lakes accept all users\n",
    "Limited types of data also means a selected set of professionals who can work with it. Warehouse-based companies mostly hire business analysts who can uncover insights from massive tables using tools such as SQL, Tableau, Power BI to generate their precious reports. \n",
    "\n",
    "On the other hand, data lakes offer much more flexibility and promising business opportunities to a wide range of specialists. Apart from business analysts, data lakes open the doors to data scientists and ML engineers to perform new types of analytics like sentiment analysis, fraud detection, churn prediction and so on. "
   ]
  },
  {
   "cell_type": "markdown",
   "metadata": {},
   "source": [
    "Even though we have looked at the 3 main differences between data lakes and warehouses, there are still many to consider. So, at this point, an obvious question arises - which one do you need for your company?"
   ]
  },
  {
   "cell_type": "markdown",
   "metadata": {},
   "source": [
    "### Why use data lakes?"
   ]
  },
  {
   "cell_type": "markdown",
   "metadata": {},
   "source": [
    "The first thing to consider when choosing one data management system over another is the data itself. If your business only records information from line-of-business applications and transactional systems, a well designed data warehouse might be enough. \n",
    "\n",
    "However, if you deal with a considerable amount of unstructured digital data you will be much better-off implementing a data lake. The fact that data lakes can scale easily scale up to petabytes and their ability of being datatype-agnostic makes them a preferred choice. \n",
    "\n",
    "According to a recent [Aberdeen survey](https://s3-ap-southeast-1.amazonaws.com/mktg-apac/Big+Data+Refresh+Q4+Campaign/Aberdeen+Research+-+Angling+for+Insights+in+Today's+Data+Lake.pdf), companies who implemented a data lake outperformed their peers by 9% in organic revenue growth. Data lakes gave the advantage businesses highly need in this competitive world by enabling them to perform complex analytics to retain more customers, understand customer loyalty and boost productivity."
   ]
  },
  {
   "cell_type": "markdown",
   "metadata": {},
   "source": [
    "### Data lake tools and providers"
   ]
  },
  {
   "cell_type": "markdown",
   "metadata": {},
   "source": [
    "The popularity of data lakes can largely be attributed to the advancement of open-source projects like Apache and Hadoop. These \n",
    "tools and frameworks have the tendency to update and advance fairly quickly because of their support from the community. \n",
    "\n",
    "The [Hadoop ecosystem](https://www.geeksforgeeks.org/hadoop-ecosystem/) is perfect for data lakes because they are built specifically to handle large volumes of data and work with any data type. For example, Apache Spark and Presto can be used to run SQL queries at any scale enabling for rapid distributed processing of data across your data lake.\n",
    "\n",
    "To answer the question of where the data is actually stored, you can consider integrating one of the solutions offered by Amazon or Microsoft. [Amazon Lake Formation](https://aws.amazon.com/lake-formation/?whats-new-cards.sort-by=item.additionalFields.postDateTime&whats-new-cards.sort-order=desc) offers enterprise-level solutions at a lower cost while [Microsoft Azure Data Lake Storage](https://docs.microsoft.com/en-us/azure/storage/blobs/data-lake-storage-introduction) focuses more on the computational side offering a wider range of functionalities."
   ]
  },
  {
   "cell_type": "markdown",
   "metadata": {},
   "source": [
    "### How to build data lakes?"
   ]
  },
  {
   "cell_type": "markdown",
   "metadata": {},
   "source": [
    "Building a data lake starts with the question of 'where?'. Storage is usually deployed on-premises or on the cloud. Because data lakes store everything and retain data indefinitely, using on-premises deployment may not be the best option in terms of scalability. Besides, you can spend the resources on more pressing business needs than using them to create a database infrastructure for on-premises deployment. \n",
    "\n"
   ]
  },
  {
   "cell_type": "markdown",
   "metadata": {},
   "source": [
    "In comparison, a cloud-based data lake offers key advantages in terms of scalability, costs and the ability to run complex analytics. There are now so many top-notch data lake providers that you will be much better-off using one instead of having to reinvent the wheel. "
   ]
  },
  {
   "cell_type": "markdown",
   "metadata": {},
   "source": [
    "After choosing the method of deployment, the first step is to actually gather your data from various databases and object storages. During the collection process, it is important to develop supervision or data governance so that all ingested data is clean and reliable. \n",
    "\n",
    "Then, carefully designing data security and access policies is a top priority. Especially, data privacy policies are only getting stricter and you wouldn't want to be legally penalized for breaching one of them."
   ]
  },
  {
   "cell_type": "markdown",
   "metadata": {},
   "source": [
    "Next step would be cleaning and classifying the data using modern techniques such as machine learning. This allows you to offer a centralized data catalog to your users specifying the available datasets and their use-cases. "
   ]
  },
  {
   "cell_type": "markdown",
   "metadata": {},
   "source": [
    "[Amazon Data Lake Formation](https://aws.amazon.com/lake-formation/?whats-new-cards.sort-by=item.additionalFields.postDateTime&whats-new-cards.sort-order=desc) is one of the best options in the market offering fast and efficient data lake solutions which combine all of the above steps. They claim that you can build one in just under 2 days."
   ]
  },
  {
   "cell_type": "markdown",
   "metadata": {},
   "source": [
    "### Use cases of data lakes"
   ]
  },
  {
   "cell_type": "markdown",
   "metadata": {},
   "source": [
    "One concrete example of data lakes in practice is from the oil industry. It is estimated that an average oil and gas company produces at least 1.5 terabytes of IoT data everyday. Collecting data coming from drills and wells on real-time can mean billions if the data is properly analyzed. Using data science and GPS technologies, engineers can use horizontal drilling instead of vertically which could increase productivity up to 20+ times. According to World Economic Forum, this could mean an additional 1.6 trillion in value by 2025. Given the benefits and the wide-range of use cases, it is no surprise to see the oil industry as one the first to harness the power of data lakes.\n",
    "\n",
    "There are countless other examples of how data lakes are used in the industry. What most of them seem to have in common is either of these general use cases:\n",
    "- The ability to store both structured and unstructured data at the same time: Diversity of data means there are endlessly new questions you can ask about it. For example, a supermarket can use the video logs to analyze customer facial expressions to understand their mood at different times of the day. \n",
    "- Data lakes as an experimental zone: The flexibility of structure enables risk and cost-free experimentation of data. Professionals can try out new ways of leveraging their data and if any prove to be useful, a more formal schema to the lake can be applied to enable automation in the future. If the experiment fails, it can just be discarded without affecting underlying storage system or the data itself.\n",
    "- Archival and historical data storage: apart from the business value data lakes provide, they can be used as a storage for archiving historical data."
   ]
  },
  {
   "cell_type": "markdown",
   "metadata": {},
   "source": [
    "### Challenges of data lakes"
   ]
  },
  {
   "cell_type": "markdown",
   "metadata": {},
   "source": [
    "### How to avoid a data swamp?"
   ]
  },
  {
   "cell_type": "markdown",
   "metadata": {},
   "source": [
    "### Conclusion"
   ]
  }
 ],
 "metadata": {
  "kernelspec": {
   "display_name": "medium_articles",
   "language": "python",
   "name": "medium_articles"
  },
  "language_info": {
   "codemirror_mode": {
    "name": "ipython",
    "version": 3
   },
   "file_extension": ".py",
   "mimetype": "text/x-python",
   "name": "python",
   "nbconvert_exporter": "python",
   "pygments_lexer": "ipython3",
   "version": "3.8.5"
  }
 },
 "nbformat": 4,
 "nbformat_minor": 4
}
