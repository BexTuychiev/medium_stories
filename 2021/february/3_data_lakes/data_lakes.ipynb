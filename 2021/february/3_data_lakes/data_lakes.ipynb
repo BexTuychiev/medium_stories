{
 "cells": [
  {
   "cell_type": "markdown",
   "metadata": {},
   "source": [
    "# Data Lakes: Definitive Guide\n",
    "## Connecting Dark Analytics With Data Lakes\n",
    "<img src='images/lake.jpg'></img>\n",
    "<figcaption style=\"text-align: center;\">\n",
    "    <strong>\n",
    "        Photo by \n",
    "        <a href='https://www.pexels.com/@simonmigaj?utm_content=attributionCopyText&utm_medium=referral&utm_source=pexels'>Simon Migaj</a>\n",
    "        on \n",
    "        <a href='https://www.pexels.com/photo/person-on-a-bridge-near-a-lake-747964/?utm_content=attributionCopyText&utm_medium=referral&utm_source=pexels'>Pexels</a>\n",
    "    </strong>\n",
    "</figcaption>"
   ]
  },
  {
   "cell_type": "markdown",
   "metadata": {},
   "source": [
    "### What are data lakes?"
   ]
  },
  {
   "cell_type": "markdown",
   "metadata": {},
   "source": [
    "The growth rate of big data is truly mind-boggling: it has been increasing by half every year and already reached 44 trillion gigabytes in 2020. An estimated amount of 90% is completely unstructured causing an organizational havoc on data-based companies that use outdated, structured storage systems.\n",
    "\n",
    "Fortunately in 2010, founder and former CTO of Pentaho came up with a term \"Data Lake\". He describes the concept of data lakes as data storages system that truly resemble lakes: the contents (data) stream into the lake from sources and various users can come to examine, take samples and dive in.\n",
    "\n",
    "Flash-forward to 2021, massive platforms like Amazon and Google are now offering enterprise data lake solutions. This popularity of data lakes came from the dire need of organizations who wanted a storage system that accepts an influx of data types, a central data repository that can be used to dump massive amounts of data that may be useful in the future without thinking hard about schema. \n",
    "\n",
    "So yes, data lakes store any type of data - mostly object blobs (files), ranging from emails to 4K resolution videos. They also don't have a defined structure, everything is stored in its raw format. There are no folders or hierarchy, no logical order.\n",
    "You might already be thinking that this would be an organizational disaster because you wouldn't be able to find anything from this meaningless pile of information. Then, let me prove you wrong in the next section."
   ]
  },
  {
   "cell_type": "markdown",
   "metadata": {},
   "source": [
    "### Data lakes vs. Data warehouses"
   ]
  },
  {
   "cell_type": "markdown",
   "metadata": {},
   "source": [
    "### Why use data lakes?"
   ]
  },
  {
   "cell_type": "markdown",
   "metadata": {},
   "source": [
    "### Data lake tools and providers"
   ]
  },
  {
   "cell_type": "markdown",
   "metadata": {},
   "source": [
    "### How to build data lakes"
   ]
  },
  {
   "cell_type": "markdown",
   "metadata": {},
   "source": [
    "### Using data lakes for big data"
   ]
  },
  {
   "cell_type": "markdown",
   "metadata": {},
   "source": [
    "### Use cases of data lakes"
   ]
  },
  {
   "cell_type": "markdown",
   "metadata": {},
   "source": [
    "### How to avoid a data swamp?"
   ]
  },
  {
   "cell_type": "markdown",
   "metadata": {},
   "source": [
    "### Challenges of data lakes"
   ]
  },
  {
   "cell_type": "markdown",
   "metadata": {},
   "source": [
    "### Conclusion"
   ]
  }
 ],
 "metadata": {
  "kernelspec": {
   "display_name": "medium_articles",
   "language": "python",
   "name": "medium_articles"
  },
  "language_info": {
   "codemirror_mode": {
    "name": "ipython",
    "version": 3
   },
   "file_extension": ".py",
   "mimetype": "text/x-python",
   "name": "python",
   "nbconvert_exporter": "python",
   "pygments_lexer": "ipython3",
   "version": "3.8.5"
  }
 },
 "nbformat": 4,
 "nbformat_minor": 4
}
