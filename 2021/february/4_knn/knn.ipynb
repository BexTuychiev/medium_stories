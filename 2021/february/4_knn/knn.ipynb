{
 "cells": [
  {
   "cell_type": "markdown",
   "metadata": {},
   "source": [
    "# In-depth look at the easiest algorithm - KNN\n",
    "## Not so easy after all\n",
    "<img src='images/neigh.jpg'></img>\n",
    "<figcaption style=\"text-align: center;\">\n",
    "    <strong>\n",
    "        Photo by \n",
    "        <a href='https://www.pexels.com/@suju?utm_content=attributionCopyText&utm_medium=referral&utm_source=pexels'>Susanne Jutzeler</a>\n",
    "        on \n",
    "        <a href='https://www.pexels.com/photo/closed-doors-3015714/?utm_content=attributionCopyText&utm_medium=referral&utm_source=pexels'>Pexels</a>\n",
    "    </strong>\n",
    "</figcaption>"
   ]
  },
  {
   "cell_type": "markdown",
   "metadata": {},
   "source": [
    "### Setup"
   ]
  },
  {
   "cell_type": "code",
   "execution_count": 6,
   "metadata": {},
   "outputs": [],
   "source": [
    "import pandas as pd\n",
    "import numpy as np\n",
    "\n",
    "import matplotlib.pyplot as plt\n",
    "import seaborn as sns\n",
    "from matplotlib import rcParams\n",
    "\n",
    "from sklearn.model_selection import train_test_split\n",
    "from sklearn.neighbors import KNeighborsClassifier\n",
    "from sklearn.metrics import mean_absolute_error, accuracy_score\n",
    "from sklearn.impute import SimpleImputer\n",
    "# Filter warnings\n",
    "import warnings\n",
    "warnings.filterwarnings('ignore')\n",
    "\n",
    "# Visual display\n",
    "plt.rc('xtick', labelsize=12)\n",
    "plt.rc('ytick', labelsize=12)\n",
    "rcParams['figure.figsize'] = [12, 9]\n",
    "rcParams['font.size'] = 16\n",
    "custom_colors = ['#74a09e','#86c1b2','#98e2c6','#f3c969','#f2a553', '#d96548', '#c14953']\n",
    "sns.set_palette(custom_colors)\n",
    "\n",
    "%config InlineBackend.figure_format = 'retina'"
   ]
  },
  {
   "cell_type": "markdown",
   "metadata": {},
   "source": [
    "### What Is KNN?"
   ]
  },
  {
   "cell_type": "markdown",
   "metadata": {},
   "source": []
  },
  {
   "cell_type": "markdown",
   "metadata": {},
   "source": [
    "### k-Nearest-Neighbors, under the hood"
   ]
  },
  {
   "cell_type": "markdown",
   "metadata": {},
   "source": [
    "The first thing you should know about the internals of kNN is that it is a lazy algorithm. In machine learning lingo, it means the algorithm has no or extremely short training phase compared to others. Don't get your hopes up yet because speedy training comes with a big drawback.\n",
    "\n",
    "Generating predictions will be much slower because of how kNN finds the nearest neighbors. In the short training phase, it memorizes all data points. To make a prediction, the algorithm finds the distance between the new sample and every single data point in the dataset. Then, it takes the *k* smallest distances and classifies the new sample depending on the majority of the vote of its neighbors.\n",
    "<img src='images/1.jpg'></img>\n",
    "<figcaption style=\"text-align: center;\">\n",
    "    <strong>\n",
    "        Image by \n",
    "        <a href='https://en.wikipedia.org/wiki/K-nearest_neighbors_algorithm'>Wikipedia</a>\n",
    "    </strong>\n",
    "</figcaption>"
   ]
  },
  {
   "attachments": {
    "image-6.png": {
     "image/png": "[encoded data removed]"
    },
    "image-7.png": {
     "image/png": "[encoded data removed]"
    },
    "image-8.png": {
     "image/png": "[encoded data removed]"
    }
   },
   "cell_type": "markdown",
   "metadata": {},
   "source": [
    "To the human eye, labeling the green dot is no problem at all. But, there is no way for the algorithm to find the nearest neighbors without calculating the distance between every single point. \n",
    "\n",
    "The distance itself is calculated using one of 3 distance metrics:\n",
    "- Euclidean distance: the square root of sum of differences between the components of x and y:\n",
    "![image-6.png](attachment:image-6.png)\n",
    "- Manhattan distance: the sum of the absolute values of differences between the components of x and y coordinates:\n",
    "![image-7.png](attachment:image-7.png)\n",
    "- Minkowski distance is the generalization of the above two techniques. It has a parameter *p* that takes a value of either 1 or 2. When *p=1*, formula becomes manhattan distance, and *p=2* for euclidean:\n",
    "![image-8.png](attachment:image-8.png)"
   ]
  },
  {
   "cell_type": "markdown",
   "metadata": {},
   "source": [
    "Sorry for the fancy formulas, but you might as well get used to it if you are going to learn machine learning further on."
   ]
  },
  {
   "cell_type": "markdown",
   "metadata": {},
   "source": [
    "> The lack of training phase also means that the algorithm does not *generalize*."
   ]
  },
  {
   "cell_type": "markdown",
   "metadata": {},
   "source": [
    "Next, kNN is also a *non-parametric* algorithm - it does not have strict requirements on the shape and distribution of your data. Unlike linear regression, which assumes your features and target have a linear relationship, kNN makes no such assumptions. That's why it is considered as one of the easiest models out there and works pretty well out-of-the-box if trained on 'appropriate' data. (And I explain what I mean by 'appropriate' in a later section)"
   ]
  },
  {
   "cell_type": "markdown",
   "metadata": {},
   "source": [
    "### How to Choose the Value of *k*"
   ]
  },
  {
   "cell_type": "markdown",
   "metadata": {},
   "source": [
    "I think you have already realized that the results of the algorithm entirely depends on the value of *k*. So, the obvious question is \"How do we choose the optimal number for *k*?\"\n",
    "\n",
    "Unfortunately, there is no clear-cut answer. The optimal value changes for every dataset. Your job is to find out the *k* that maximizes your performance metric, i.e. accuracy. However, there are some general trends you can follow to make smart choices for the possible values of *k*."
   ]
  },
  {
   "cell_type": "markdown",
   "metadata": {},
   "source": [
    "Firstly, choosing a small value of *k* will lead to overfitting. For example, when *k=1* kNN classifier labels the new sample with the same label as the nearest neighbor. Such classifier will perform terribly at testing. In contrast, choosing a large value will lead to underfitting and will be computationally expensive."
   ]
  },
  {
   "cell_type": "markdown",
   "metadata": {},
   "source": [
    "You can think of this in the context of real neighbors. A guy named Jack lives in his hometown all his life and has known his neighbors for a long time. If he moves to a new city, he suddenly becomes a complete stranger and has no way of getting to know his new neighbors quickly. That is, in a sense, overfitting.\n",
    "\n",
    "In contrast, Jack's son - Jon, is only 6 years old and is too you to know much about their neighbors. When their family moves, Jon neither knows his old neighbors well or his new neighbors. This can be thought of underfitting, an algorithm too dumb to understand the trends in both the training and test sets. \n",
    "\n",
    "Now, there is a completely another person - Bruce, who is very friendly, sociable, travels a lot and knows many languages. Wherever he moves he quickly becomes good friends with everyone around him. In this analogy, Bruce's qualities can be thought as the best parameters of an algorithm."
   ]
  },
  {
   "cell_type": "markdown",
   "metadata": {},
   "source": [
    "This example might not make any sense to you whatsoever, but everyone has their own version of interpreting of what is overfitting and underfitting. Important thing is that you understand how the performance of kNN changes as you play around with different values of K. \n",
    "\n",
    "In practice, you would use tools like `GridSearchCV` to choose the number of neighbors but that is a little out the of the scope of this post. Instead, we will choose the optimal number visually with model complexity curves."
   ]
  },
  {
   "cell_type": "markdown",
   "metadata": {},
   "source": [
    "### Classification With KNeighborsClassifier"
   ]
  },
  {
   "cell_type": "markdown",
   "metadata": {},
   "source": [
    "As I said earlier, for classification problems, the label of a new sample is identified by the majority of the votes in the nearest *k* neighbors. Let's see the algorithm in action using `sklearn`'s `KNeighborsClassifier`:\n",
    "```python\n",
    "from sklearn.model_selection import train_test_split\n",
    "from sklearn.neighbors import KNeighborsClassifier\n",
    "from sklearn.metrics import accuracy_score\n",
    "from sklearn.impute import SimpleImputer\n",
    "```\n",
    "We import it from `sklearn.neighbors` along with other helpful functions. All other libraries are imported under standard aliases. \n",
    "\n",
    "For the dataset, we will use the [Palmer Archipelago Penguins](https://www.kaggle.com/parulpandey/palmer-archipelago-antarctica-penguin-data) data from Kaggle. This dataset consists of features of 3 penguins species: Adélie, Gentoo, and Chinstrap. We will build kNN classifier of penguin species by using their body measurements:"
   ]
  },
  {
   "cell_type": "code",
   "execution_count": 3,
   "metadata": {
    "scrolled": true
   },
   "outputs": [
    {
     "data": {
      "text/html": [
       "<div>\n",
       "<style scoped>\n",
       "    .dataframe tbody tr th:only-of-type {\n",
       "        vertical-align: middle;\n",
       "    }\n",
       "\n",
       "    .dataframe tbody tr th {\n",
       "        vertical-align: top;\n",
       "    }\n",
       "\n",
       "    .dataframe thead th {\n",
       "        text-align: right;\n",
       "    }\n",
       "</style>\n",
       "<table border=\"1\" class=\"dataframe\">\n",
       "  <thead>\n",
       "    <tr style=\"text-align: right;\">\n",
       "      <th></th>\n",
       "      <th>species</th>\n",
       "      <th>island</th>\n",
       "      <th>culmen_length_mm</th>\n",
       "      <th>culmen_depth_mm</th>\n",
       "      <th>flipper_length_mm</th>\n",
       "      <th>body_mass_g</th>\n",
       "      <th>sex</th>\n",
       "    </tr>\n",
       "  </thead>\n",
       "  <tbody>\n",
       "    <tr>\n",
       "      <th>0</th>\n",
       "      <td>Adelie</td>\n",
       "      <td>Torgersen</td>\n",
       "      <td>39.1</td>\n",
       "      <td>18.7</td>\n",
       "      <td>181.0</td>\n",
       "      <td>3750.0</td>\n",
       "      <td>MALE</td>\n",
       "    </tr>\n",
       "    <tr>\n",
       "      <th>1</th>\n",
       "      <td>Adelie</td>\n",
       "      <td>Torgersen</td>\n",
       "      <td>39.5</td>\n",
       "      <td>17.4</td>\n",
       "      <td>186.0</td>\n",
       "      <td>3800.0</td>\n",
       "      <td>FEMALE</td>\n",
       "    </tr>\n",
       "    <tr>\n",
       "      <th>2</th>\n",
       "      <td>Adelie</td>\n",
       "      <td>Torgersen</td>\n",
       "      <td>40.3</td>\n",
       "      <td>18.0</td>\n",
       "      <td>195.0</td>\n",
       "      <td>3250.0</td>\n",
       "      <td>FEMALE</td>\n",
       "    </tr>\n",
       "    <tr>\n",
       "      <th>4</th>\n",
       "      <td>Adelie</td>\n",
       "      <td>Torgersen</td>\n",
       "      <td>36.7</td>\n",
       "      <td>19.3</td>\n",
       "      <td>193.0</td>\n",
       "      <td>3450.0</td>\n",
       "      <td>FEMALE</td>\n",
       "    </tr>\n",
       "    <tr>\n",
       "      <th>5</th>\n",
       "      <td>Adelie</td>\n",
       "      <td>Torgersen</td>\n",
       "      <td>39.3</td>\n",
       "      <td>20.6</td>\n",
       "      <td>190.0</td>\n",
       "      <td>3650.0</td>\n",
       "      <td>MALE</td>\n",
       "    </tr>\n",
       "  </tbody>\n",
       "</table>\n",
       "</div>"
      ],
      "text/plain": [
       "  species     island  culmen_length_mm  culmen_depth_mm  flipper_length_mm  \\\n",
       "0  Adelie  Torgersen              39.1             18.7              181.0   \n",
       "1  Adelie  Torgersen              39.5             17.4              186.0   \n",
       "2  Adelie  Torgersen              40.3             18.0              195.0   \n",
       "4  Adelie  Torgersen              36.7             19.3              193.0   \n",
       "5  Adelie  Torgersen              39.3             20.6              190.0   \n",
       "\n",
       "   body_mass_g     sex  \n",
       "0       3750.0    MALE  \n",
       "1       3800.0  FEMALE  \n",
       "2       3250.0  FEMALE  \n",
       "4       3450.0  FEMALE  \n",
       "5       3650.0    MALE  "
      ]
     },
     "execution_count": 3,
     "metadata": {},
     "output_type": "execute_result"
    }
   ],
   "source": [
    "penguins = pd.read_csv('data/penguins_size.csv').dropna()\n",
    "penguins.head()"
   ]
  },
  {
   "cell_type": "markdown",
   "metadata": {},
   "source": [
    "https://twitter.com/allison_horst/status/1270046411002753025?s=20"
   ]
  },
  {
   "cell_type": "markdown",
   "metadata": {},
   "source": [
    "I mentioned that kNN does not make any assumptions about the distribution of data. Let's build our first classifier without any preprocessing. We will only use 3 columns as features: culmen length and depth, flipper length and BMI:"
   ]
  },
  {
   "cell_type": "code",
   "execution_count": 29,
   "metadata": {},
   "outputs": [],
   "source": [
    "# Create features and target\n",
    "X = penguins.select_dtypes(exclude=['object'])\n",
    "y = penguins.species\n",
    "\n",
    "# Create training and test sets\n",
    "X_train, X_test, y_train, y_test = train_test_split(X, y, test_size=.3, random_state=4)\n",
    "\n",
    "# Initialize a model with 5 neighbors\n",
    "knn = KNeighborsClassifier(n_neighbors=3)\n",
    "\n",
    "# Fit and predict\n",
    "knn.fit(X_train, y_train)\n",
    "\n",
    "predictions = knn.predict(X_test)"
   ]
  },
  {
   "cell_type": "markdown",
   "metadata": {},
   "source": [
    "For simplicity, I chose only numerical columns. Created a test prediction with size 0.25 and fit a classifier with 3 neighbors. Let's calculate its accuracy using `accuracy_score`:"
   ]
  },
  {
   "cell_type": "code",
   "execution_count": 30,
   "metadata": {},
   "outputs": [
    {
     "data": {
      "text/plain": [
       "0.7722772277227723"
      ]
     },
     "execution_count": 30,
     "metadata": {},
     "output_type": "execute_result"
    }
   ],
   "source": [
    "accuracy_score(y_test, predictions)"
   ]
  },
  {
   "cell_type": "markdown",
   "metadata": {},
   "source": [
    "We get 77% accuracy which is not ideal but a pretty good score for an out-of-the-box model."
   ]
  },
  {
   "cell_type": "markdown",
   "metadata": {},
   "source": [
    "### Regression With KNeighborsRegressor"
   ]
  },
  {
   "cell_type": "markdown",
   "metadata": {},
   "source": [
    "In a regression task, which predicts continuous values (not labels), kNN takes the mean of the nearest *k* neighbors. The regressor is readily-available from `sklearn.neighbors.KNeighborsRegressor`:"
   ]
  },
  {
   "cell_type": "code",
   "execution_count": 31,
   "metadata": {},
   "outputs": [],
   "source": [
    "from sklearn.neighbors import KNeighborsRegressor\n",
    "from sklearn.metrics import mean_absolute_error"
   ]
  },
  {
   "cell_type": "markdown",
   "metadata": {},
   "source": [
    "We import it with `mean_absolute_error` to score its accuracy. This time, we will try to predict Body Mass Index of the penguins using their 3 body measurements (again, only numeric features without preprocessing):"
   ]
  },
  {
   "cell_type": "code",
   "execution_count": 40,
   "metadata": {},
   "outputs": [
    {
     "data": {
      "text/plain": [
       "282.1782178217822"
      ]
     },
     "execution_count": 40,
     "metadata": {},
     "output_type": "execute_result"
    }
   ],
   "source": [
    "# Create features and target\n",
    "X = penguins.select_dtypes(exclude=['object']).drop('body_mass_g', axis=1)\n",
    "y = penguins.body_mass_g\n",
    "\n",
    "# Train and test sets\n",
    "X_train, X_test, y_train, y_test = train_test_split(X, y, test_size=.3, random_state=4)\n",
    "\n",
    "# Initialize kNN\n",
    "knn = KNeighborsRegressor(n_neighbors=5)\n",
    "\n",
    "# Fit and predict\n",
    "knn.fit(X_train, y_train)\n",
    "\n",
    "predictions = knn.predict(X_test)\n",
    "\n",
    "# Score\n",
    "mean_absolute_error(y_test, predictions)"
   ]
  },
  {
   "cell_type": "markdown",
   "metadata": {},
   "source": [
    "Setting the number of neighbors to 5 yielded an MAE of 282. For now, we don't really have a way of knowing whether this a good score or not. "
   ]
  },
  {
   "cell_type": "code",
   "execution_count": null,
   "metadata": {},
   "outputs": [],
   "source": []
  }
 ],
 "metadata": {
  "kernelspec": {
   "display_name": "medium_articles",
   "language": "python",
   "name": "medium_articles"
  },
  "language_info": {
   "codemirror_mode": {
    "name": "ipython",
    "version": 3
   },
   "file_extension": ".py",
   "mimetype": "text/x-python",
   "name": "python",
   "nbconvert_exporter": "python",
   "pygments_lexer": "ipython3",
   "version": "3.8.5"
  }
 },
 "nbformat": 4,
 "nbformat_minor": 4
}
