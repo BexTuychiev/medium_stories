{
 "cells": [
  {
   "cell_type": "markdown",
   "metadata": {},
   "source": [
    "# How to Think Probabilistically with Discrete Distributions\n",
    "## Master Hacker Statistics With Numpy\n",
    "<img src='images/bruno.jpg'></img>\n",
    "<figcaption style=\"text-align: center;\">\n",
    "    <strong>\n",
    "        Photo by \n",
    "        <a href='https://www.pexels.com/@brunogobofoto?utm_content=attributionCopyText&utm_medium=referral&utm_source=pexels'>Bruno Bueno</a>\n",
    "        on \n",
    "        <a href='https://www.pexels.com/photo/man-in-vr-with-game-riffle-playing-video-game-3854821/?utm_content=attributionCopyText&utm_medium=referral&utm_source=pexels'>Pexels</a>\n",
    "    </strong>\n",
    "</figcaption>"
   ]
  },
  {
   "cell_type": "markdown",
   "metadata": {},
   "source": [
    "### Probabilistic Thinking"
   ]
  },
  {
   "cell_type": "markdown",
   "metadata": {},
   "source": [
    "Say, you are looking at the average weight of 50 Olympic athletes. Based on this data alone, can you make valid assumptions about the mean weight of all Olympic athletes? You would probably say \"I would need more data\". In real life, it is often the case. You can never have enough data that fully represents the group you are interested in. You always work with a sample. \n",
    "\n",
    "However, if you have a small sample it is not the end of the world and does not mean you have to give up. It also doesn't mean you go ahead and collect more data because data collection is expensive and time-consuming.\n",
    "\n",
    "As a solution, there is an entire field of statistics called **inference**. Statistical inference is powered by probability theory and allows data scientists to make predictions for the whole population by just working with a small sample.\n",
    "\n",
    "For example, let's say the mean of weight of our 50 Olympic athletes:"
   ]
  },
  {
   "cell_type": "markdown",
   "metadata": {},
   "source": [
    "### Setup"
   ]
  },
  {
   "cell_type": "code",
   "execution_count": 1,
   "metadata": {},
   "outputs": [],
   "source": [
    "import numpy as np\n",
    "import pandas as pd\n",
    "\n",
    "import matplotlib.pyplot as plt\n",
    "import seaborn as sns\n",
    "\n",
    "sns.set_context('talk')"
   ]
  },
  {
   "cell_type": "markdown",
   "metadata": {},
   "source": [
    "### Basic Probability Refresher"
   ]
  },
  {
   "cell_type": "markdown",
   "metadata": {},
   "source": [
    "### Bernoulli Trials"
   ]
  },
  {
   "cell_type": "markdown",
   "metadata": {},
   "source": [
    "### Binomial Distribution"
   ]
  },
  {
   "cell_type": "markdown",
   "metadata": {},
   "source": [
    "### Poisson Distribution"
   ]
  }
 ],
 "metadata": {
  "kernelspec": {
   "display_name": "medium_articles",
   "language": "python",
   "name": "medium_articles"
  },
  "language_info": {
   "codemirror_mode": {
    "name": "ipython",
    "version": 3
   },
   "file_extension": ".py",
   "mimetype": "text/x-python",
   "name": "python",
   "nbconvert_exporter": "python",
   "pygments_lexer": "ipython3",
   "version": "3.8.5"
  }
 },
 "nbformat": 4,
 "nbformat_minor": 4
}
