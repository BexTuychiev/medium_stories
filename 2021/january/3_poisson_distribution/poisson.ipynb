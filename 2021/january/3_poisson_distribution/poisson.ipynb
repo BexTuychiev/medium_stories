{
 "cells": [
  {
   "cell_type": "markdown",
   "metadata": {},
   "source": [
    "# How to Use Poisson Distribution like You Know What You Are Doing\n",
    "## Thankfully, there is Poisson distribution for these cases\n",
    "<img src='images/jessica.jpg'></img>\n",
    "<figcaption style=\"text-align: center;\">\n",
    "    <strong>\n",
    "        Photo by \n",
    "        <a href='https://www.pexels.com/@thepaintedsquare?utm_content=attributionCopyText&utm_medium=referral&utm_source=pexels'>Bruno Bueno</a>\n",
    "        on \n",
    "        <a href='https://www.pexels.com/photo/little-kid-wearing-virtual-reality-headset-while-playing-at-home-3405458/?utm_content=attributionCopyText&utm_medium=referral&utm_source=pexels'>Pexels</a>\n",
    "    </strong>\n",
    "</figcaption>"
   ]
  },
  {
   "cell_type": "markdown",
   "metadata": {},
   "source": [
    "### Setup"
   ]
  },
  {
   "cell_type": "code",
   "execution_count": null,
   "metadata": {},
   "outputs": [],
   "source": [
    "import numpy as np\n",
    "import pandas as pd\n",
    "\n",
    "import matplotlib.pyplot as plt\n",
    "import seaborn as sns\n",
    "\n",
    "sns.set_context('talk')"
   ]
  },
  {
   "cell_type": "markdown",
   "metadata": {},
   "source": [
    "### The Story"
   ]
  },
  {
   "cell_type": "markdown",
   "metadata": {},
   "source": [
    "You have been freelancing for 10 years now. So far, your average annual income was about 80,000$. This year, you feel like you are stuck in a rut and decide to hit 6 figures. To do that, you want to start by calculating the probability of this exciting achievement happening but you don't know how to do so. \n",
    "\n",
    "Turns out, you are not alone. In the world, there are many scenarios where there is a known rate of some random event and businessmen want to find the chance of the event happening more or less than this rate in the future. For example, retailer owners who already know their average sales would try to guess how much more they would make on special days such as on Black Fridays or Cyber Mondays. This would help them to store more products and manage their staff accordingly. \n",
    "\n",
    "In 1830, French statistician Siméon-Denis Poisson developed the famous **Poisson Probability Distribution**. This distribution and its related function has endless implications in science ranging from finding the probability of a large meteorite hitting the Earth to detecting mutation in biology. \n",
    "\n",
    "In this post, we will talk about the intuition behind the Poission distribution, how to understand and use its formula, and how to simulate it using Python code."
   ]
  },
  {
   "cell_type": "markdown",
   "metadata": {},
   "source": [
    "### Discrete Probability Distributions"
   ]
  },
  {
   "cell_type": "markdown",
   "metadata": {},
   "source": [
    "> This post assumes you have a basic understanding of probability. If not, please check out this [great](https://towardsdatascience.com/probability-concepts-explained-introduction-a7c0316de465) article."
   ]
  },
  {
   "cell_type": "markdown",
   "metadata": {},
   "source": [
    "Before we get to the real meat of the article, we will build some understanding of discrete probability distributions. \n",
    "\n",
    "First, let's define what we mean by discrete. In descriptive statistics, discrete data is any data that is recorded or collected by counting, i. e. integers. Examples are test scores, number of cars in a parking lot, number of childbirths in a hospital, etc. \n",
    "\n",
    "Then, there are random experiments that have discrete outcomes. For example, a coin flip has two outcomes: heads and tails (1 and 0), rolling a die has 6 discrete outcomes and so on. If a random variable *X* is used to store all possible outcomes of a discrete experiment, it will have a discrete probability distribution. "
   ]
  },
  {
   "cell_type": "markdown",
   "metadata": {},
   "source": [
    "> Probability distribution records all possible outcomes of a random experiment."
   ]
  },
  {
   "cell_type": "markdown",
   "metadata": {},
   "source": [
    "As a trivial example, let's build the distribution of a single coin flip:"
   ]
  },
  {
   "attachments": {
    "image-2.png": {
     "image/png": "[encoded data removed]"
    }
   },
   "cell_type": "markdown",
   "metadata": {},
   "source": [
    "![image-2.png](attachment:image-2.png)"
   ]
  },
  {
   "cell_type": "markdown",
   "metadata": {},
   "source": [
    "That was easy. If we want to record the distribution programmatically, it would be in the form of a Python list or Numpy array:"
   ]
  },
  {
   "attachments": {
    "image.png": {
     "image/png": "[encoded data removed]"
    }
   },
   "cell_type": "markdown",
   "metadata": {},
   "source": [
    "![image.png](attachment:image.png)"
   ]
  },
  {
   "cell_type": "markdown",
   "metadata": {},
   "source": [
    "However, you can imagine that for large experiments that have many possible outcomes, building the distribution and finding the probabilities in this way becomes impossible. Thankfully, every probability distribution ever invented comes with their own formula to calculate any outcome's probability of a given experiment. For discrete probability distributions, these functions are called Probability Mass Functions (PMF). For a more detailed explanation, read my [previous post](https://towardsdatascience.com/how-to-think-probabilistically-with-discrete-distributions-ea28e2bcafdc) on discrete distributions."
   ]
  },
  {
   "cell_type": "markdown",
   "metadata": {},
   "source": [
    "We will talk more about PMFs later in the post."
   ]
  },
  {
   "cell_type": "markdown",
   "metadata": {},
   "source": [
    "### Poisson Distribution"
   ]
  },
  {
   "cell_type": "markdown",
   "metadata": {},
   "source": [
    "We will start understanding the Poisson distribution using a case study. Say you are a manager of a large call center. The center receives 200 calls an hour. In the past, the center did note receive any calls during lunchtime but now you decide to offer better customer satisfaction, you want to create lunch shifts among your staff. You know that there are not many calls during that time compared to other times of the day so you are hesitating about the number of employees in each shift. "
   ]
  },
  {
   "cell_type": "code",
   "execution_count": null,
   "metadata": {},
   "outputs": [],
   "source": []
  }
 ],
 "metadata": {
  "kernelspec": {
   "display_name": "medium_articles",
   "language": "python",
   "name": "medium_articles"
  },
  "language_info": {
   "codemirror_mode": {
    "name": "ipython",
    "version": 3
   },
   "file_extension": ".py",
   "mimetype": "text/x-python",
   "name": "python",
   "nbconvert_exporter": "python",
   "pygments_lexer": "ipython3",
   "version": "3.8.5"
  }
 },
 "nbformat": 4,
 "nbformat_minor": 4
}
