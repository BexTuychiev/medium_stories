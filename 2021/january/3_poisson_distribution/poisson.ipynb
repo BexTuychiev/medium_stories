{
 "cells": [
  {
   "cell_type": "markdown",
   "metadata": {},
   "source": [
    "# How to Use Poisson Distribution like You Know What You Are Doing\n",
    "## Thankfully, there is Poisson distribution for these cases\n",
    "<img src='images/jessica.jpg'></img>\n",
    "<figcaption style=\"text-align: center;\">\n",
    "    <strong>\n",
    "        Photo by \n",
    "        <a href='https://www.pexels.com/@thepaintedsquare?utm_content=attributionCopyText&utm_medium=referral&utm_source=pexels'>Bruno Bueno</a>\n",
    "        on \n",
    "        <a href='https://www.pexels.com/photo/little-kid-wearing-virtual-reality-headset-while-playing-at-home-3405458/?utm_content=attributionCopyText&utm_medium=referral&utm_source=pexels'>Pexels</a>\n",
    "    </strong>\n",
    "</figcaption>"
   ]
  },
  {
   "cell_type": "markdown",
   "metadata": {},
   "source": [
    "### The Story"
   ]
  },
  {
   "cell_type": "markdown",
   "metadata": {},
   "source": [
    "You have been freelancing for 10 years now. So far, your average annual income was about 80,000$. This year, you feel like you are stuck in a rut and decide to hit 6 figures. To do that, you decide to calculate the probability of this exciting achievement happening but you don't know how to do so. \n",
    "\n",
    "Turns out, you are not alone. In the world, there are many scenarios where there is a known rate of some random event and businessmen want to find the chance of the event happening more or less than this rate in the future. For example, retailer owners who already knew their average sales would try to guess how much more they would make on special days such as on Black Fridays or Cyber Mondays. This would help them to store more products and manage their staff accordingly. \n",
    "\n",
    "In 1830, French statistician Siméon-Denis Poisson developed the famous **Poisson Probability Distribution**. This distribution and its related function has endless implications in science ranging from finding the probability of a large meteorite hitting the Earth to detecting mutation in biology. \n",
    "\n",
    "In this post, we will talk about the intuition behind the Poission distribution, how to understand and use its formula, and how to simulate it using Python code."
   ]
  }
 ],
 "metadata": {
  "kernelspec": {
   "display_name": "medium_articles",
   "language": "python",
   "name": "medium_articles"
  },
  "language_info": {
   "codemirror_mode": {
    "name": "ipython",
    "version": 3
   },
   "file_extension": ".py",
   "mimetype": "text/x-python",
   "name": "python",
   "nbconvert_exporter": "python",
   "pygments_lexer": "ipython3",
   "version": "3.8.5"
  }
 },
 "nbformat": 4,
 "nbformat_minor": 4
}
