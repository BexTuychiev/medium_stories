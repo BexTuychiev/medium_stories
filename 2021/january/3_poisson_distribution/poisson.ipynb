{
 "cells": [
  {
   "cell_type": "markdown",
   "metadata": {},
   "source": [
    "# How to Use Poisson Distribution like You Know What You Are Doing\n",
    "## Thankfully, there is Poisson distribution for these cases\n",
    "<img src='images/jessica.jpg'></img>\n",
    "<figcaption style=\"text-align: center;\">\n",
    "    <strong>\n",
    "        Photo by \n",
    "        <a href='https://www.pexels.com/@thepaintedsquare?utm_content=attributionCopyText&utm_medium=referral&utm_source=pexels'>Bruno Bueno</a>\n",
    "        on \n",
    "        <a href='https://www.pexels.com/photo/little-kid-wearing-virtual-reality-headset-while-playing-at-home-3405458/?utm_content=attributionCopyText&utm_medium=referral&utm_source=pexels'>Pexels</a>\n",
    "    </strong>\n",
    "</figcaption>"
   ]
  },
  {
   "cell_type": "markdown",
   "metadata": {},
   "source": [
    "### Setup"
   ]
  },
  {
   "cell_type": "code",
   "execution_count": 1,
   "metadata": {},
   "outputs": [],
   "source": [
    "import numpy as np\n",
    "import pandas as pd\n",
    "\n",
    "import matplotlib.pyplot as plt\n",
    "import seaborn as sns\n",
    "\n",
    "sns.set_context('talk')"
   ]
  },
  {
   "cell_type": "markdown",
   "metadata": {},
   "source": [
    "### The Story"
   ]
  },
  {
   "cell_type": "markdown",
   "metadata": {},
   "source": [
    "You have been freelancing for 10 years now. So far, your average annual income was about 80,000$. This year, you feel like you are stuck in a rut and decide to hit 6 figures. To do that, you want to start by calculating the probability of this exciting achievement happening but you don't know how to do so. \n",
    "\n",
    "Turns out, you are not alone. In the world, there are many scenarios where there is a known rate of some random event and businessmen want to find the chance of the event happening more or less than this rate in the future. For example, retailer owners who already know their average sales would try to guess how much more they would make on special days such as on Black Fridays or Cyber Mondays. This would help them to store more products and manage their staff accordingly. \n",
    "\n",
    "In 1830, French statistician Siméon-Denis Poisson developed the famous **Poisson Probability Distribution**. This distribution and its related function has endless implications in science ranging from finding the probability of a large meteorite hitting the Earth to detecting mutation in biology. \n",
    "\n",
    "In this post, we will talk about the intuition behind the Poission distribution, how to understand and use its formula, and how to simulate it using Python code."
   ]
  },
  {
   "cell_type": "markdown",
   "metadata": {},
   "source": [
    "### Discrete Probability Distributions"
   ]
  },
  {
   "cell_type": "markdown",
   "metadata": {},
   "source": [
    "> This post assumes you have a basic understanding of probability. If not, please check out this [great](https://towardsdatascience.com/probability-concepts-explained-introduction-a7c0316de465) article."
   ]
  },
  {
   "cell_type": "markdown",
   "metadata": {},
   "source": [
    "Before we get to the real meat of the article, we will build some understanding of discrete probability distributions. \n",
    "\n",
    "First, let's define what we mean by discrete. In descriptive statistics, discrete data is any data that is recorded or collected by counting, i. e. integers. Examples are test scores, number of cars in a parking lot, number of childbirths in a hospital, etc. \n",
    "\n",
    "Then, there are random experiments that have discrete outcomes. For example, a coin flip has two outcomes: heads and tails (1 and 0), rolling a die has 6 discrete outcomes and so on. If a random variable *X* is used to store all possible outcomes of a discrete experiment, it will have a discrete probability distribution. "
   ]
  },
  {
   "cell_type": "markdown",
   "metadata": {},
   "source": [
    "> Probability distribution records all possible outcomes of a random experiment."
   ]
  },
  {
   "cell_type": "markdown",
   "metadata": {},
   "source": [
    "As a trivial example, let's build the distribution of a single coin flip:"
   ]
  },
  {
   "attachments": {
    "image-2.png": {
     "image/png": "[encoded data removed]"
    }
   },
   "cell_type": "markdown",
   "metadata": {},
   "source": [
    "![image-2.png](attachment:image-2.png)"
   ]
  },
  {
   "cell_type": "markdown",
   "metadata": {},
   "source": [
    "That was easy. If we want to record the distribution programmatically, it would be in the form of a Python list or Numpy array:"
   ]
  },
  {
   "attachments": {
    "image.png": {
     "image/png": "[encoded data removed]"
    }
   },
   "cell_type": "markdown",
   "metadata": {},
   "source": [
    "![image.png](attachment:image.png)"
   ]
  },
  {
   "cell_type": "markdown",
   "metadata": {},
   "source": [
    "However, you can imagine that for large experiments that have many possible outcomes, building the distribution and finding the probabilities in this way becomes impossible. Thankfully, every probability distribution ever invented comes with their own formula to calculate any outcome's probability of a given experiment. For discrete probability distributions, these functions are called Probability Mass Functions (PMF). For a more detailed explanation, read my [previous post](https://towardsdatascience.com/how-to-think-probabilistically-with-discrete-distributions-ea28e2bcafdc) on discrete distributions."
   ]
  },
  {
   "cell_type": "markdown",
   "metadata": {},
   "source": [
    "We will talk more about PMFs later in the post."
   ]
  },
  {
   "cell_type": "markdown",
   "metadata": {},
   "source": [
    "### Poisson Distribution"
   ]
  },
  {
   "cell_type": "markdown",
   "metadata": {},
   "source": [
    "We will start understanding the Poisson distribution using a case study. Say you really love watching new-born babies in a hospital. From your observations and reports, you know the hospital observes 6 new-born babies every hour on average. \n",
    "\n",
    "You find out that you have to go on a business trip tomorrow, so before leaving for airport, you want to visit the hospital for the last time. Since you will be gone for months, you want to see as many new babies as possible so you wonder about the chance of seeing 10 babies or more an hour before you flight.\n",
    "\n",
    "If we consider observing new-born babies as a random experiment, the outcomes would follow a classic Poisson distribution. The reason is that it holds all the conditions required for a Poisson distribution:\n",
    "- There is a known rate of events: 6 new babies every hour on average\n",
    "- Evens occur independently: 1 baby being born does not affect the timing of the next\n",
    "- The known rate is constant over time: average number of babies per hour does not chance through time\n",
    "- Two events does not happen at exactly the same instant\n",
    "- (Reminder: each outcome is discrete)"
   ]
  },
  {
   "cell_type": "markdown",
   "metadata": {},
   "source": [
    "Poisson distribution has many important business implications. Businesses often use it to make forecasts about the number of sales or customers occurring on a particular day given that they know the average daily rate. Making such forecasts helps businesses to make better decisions about production, scheduling or staffing. For example, overstocking means losses for low activity in sales or not having enough goods also means lost business opportunity. \n",
    "\n",
    "In short, Poisson distribution helps find the probability of an event happening more or less than already recorded rate (often notated as *λ (lambda)*) in fixed time interval."
   ]
  },
  {
   "cell_type": "markdown",
   "metadata": {},
   "source": [
    "Its Probability Mass Function is given by this formula:"
   ]
  },
  {
   "attachments": {
    "image.png": {
     "image/png": "[encoded data removed]"
    }
   },
   "cell_type": "markdown",
   "metadata": {},
   "source": [
    "![image.png](attachment:image.png)"
   ]
  },
  {
   "cell_type": "markdown",
   "metadata": {},
   "source": [
    "where \n",
    "- *k* is the number of successes (the number of times of a desired even happening)\n",
    "- λ is the given rate\n",
    "- *e* is Euler's number: e = 2.71828...\n",
    "- *k!* is the factorial of *k*"
   ]
  },
  {
   "cell_type": "markdown",
   "metadata": {},
   "source": [
    "> If you are still uncomfortable with PMFs, read my [previous post](https://towardsdatascience.com/how-to-think-probabilistically-with-discrete-distributions-ea28e2bcafdc)."
   ]
  },
  {
   "cell_type": "markdown",
   "metadata": {},
   "source": [
    "Using this formula, we can find the probability of seeing 10 new-born babies knowing that the average rate is 6:"
   ]
  },
  {
   "attachments": {
    "image.png": {
     "image/png": "[encoded data removed]"
    }
   },
   "cell_type": "markdown",
   "metadata": {},
   "source": [
    "![image.png](attachment:image.png)"
   ]
  },
  {
   "cell_type": "markdown",
   "metadata": {},
   "source": [
    "Unfortunately, there is only ~4% percent chance of seeing 10 babies. \n",
    "> We won't go into the detail of how the formula is derived but if you are curious, watch [this](https://www.khanacademy.org/math/statistics-probability/random-variables-stats-library/poisson-distribution/v/poisson-process-1) video by Khan Academy."
   ]
  },
  {
   "cell_type": "markdown",
   "metadata": {},
   "source": [
    "There are still some points you have to keep in mind. Even though there is a know rate, it is just an average, so the timing of the events can be completely random. For example, you can observe 2 babies born back-to-back or you may end up waiting for half an hour for the next. \n",
    "\n",
    "Also, in practice, the rate λ may not always be constant. This can be true for our new-born babies experiment. Even though this condition fails, we can still consider the distribution as Poisson because Poisson distribution is close enough to model the situation's behavior."
   ]
  },
  {
   "cell_type": "markdown",
   "metadata": {},
   "source": [
    "### Simulating the Poisson Distribution"
   ]
  },
  {
   "cell_type": "markdown",
   "metadata": {},
   "source": [
    "Simulating or drawing samples from Poisson distribution is very easy using `numpy`. We first import it and use its `random` module for simulation:"
   ]
  },
  {
   "cell_type": "code",
   "execution_count": 2,
   "metadata": {},
   "outputs": [],
   "source": [
    "import numpy as np"
   ]
  },
  {
   "cell_type": "markdown",
   "metadata": {},
   "source": [
    "To draw samples from a Poisson distribution, we only need the rate parameter *λ*. We will plug it into `np.random.poisson` function and specify the number of samples:"
   ]
  },
  {
   "cell_type": "code",
   "execution_count": 3,
   "metadata": {},
   "outputs": [],
   "source": [
    "poisson = np.random.poisson(lam=10, size=10000)"
   ]
  },
  {
   "cell_type": "markdown",
   "metadata": {},
   "source": [
    "Here, we are simulating a distribution with rate 10 and has 10k data points. To see this distribution, we will plot the results of its PMF. Though we could do it by hand, there is already a very good library called `empiricaldist`, written by Allen B. Downey - author of well-known books such as *ThinkPython* and *ThinkStats*. We will install and import its `Pmf` function into our environment:"
   ]
  },
  {
   "cell_type": "code",
   "execution_count": 4,
   "metadata": {},
   "outputs": [],
   "source": [
    "from empiricaldist import Pmf  # pip install empiricaldist"
   ]
  },
  {
   "cell_type": "markdown",
   "metadata": {},
   "source": [
    "`Pmf` has a function called `from_seq` which takes any distribution and computes the PMF:"
   ]
  },
  {
   "cell_type": "code",
   "execution_count": 8,
   "metadata": {},
   "outputs": [
    {
     "data": {
      "text/html": [
       "<div>\n",
       "<style scoped>\n",
       "    .dataframe tbody tr th:only-of-type {\n",
       "        vertical-align: middle;\n",
       "    }\n",
       "\n",
       "    .dataframe tbody tr th {\n",
       "        vertical-align: top;\n",
       "    }\n",
       "\n",
       "    .dataframe thead th {\n",
       "        text-align: right;\n",
       "    }\n",
       "</style>\n",
       "<table border=\"1\" class=\"dataframe\">\n",
       "  <thead>\n",
       "    <tr style=\"text-align: right;\">\n",
       "      <th></th>\n",
       "      <th>probs</th>\n",
       "    </tr>\n",
       "  </thead>\n",
       "  <tbody>\n",
       "    <tr>\n",
       "      <th>1</th>\n",
       "      <td>0.0009</td>\n",
       "    </tr>\n",
       "    <tr>\n",
       "      <th>2</th>\n",
       "      <td>0.0027</td>\n",
       "    </tr>\n",
       "    <tr>\n",
       "      <th>3</th>\n",
       "      <td>0.0077</td>\n",
       "    </tr>\n",
       "    <tr>\n",
       "      <th>4</th>\n",
       "      <td>0.0203</td>\n",
       "    </tr>\n",
       "    <tr>\n",
       "      <th>5</th>\n",
       "      <td>0.0424</td>\n",
       "    </tr>\n",
       "    <tr>\n",
       "      <th>6</th>\n",
       "      <td>0.0609</td>\n",
       "    </tr>\n",
       "    <tr>\n",
       "      <th>7</th>\n",
       "      <td>0.0902</td>\n",
       "    </tr>\n",
       "    <tr>\n",
       "      <th>8</th>\n",
       "      <td>0.1086</td>\n",
       "    </tr>\n",
       "    <tr>\n",
       "      <th>9</th>\n",
       "      <td>0.1274</td>\n",
       "    </tr>\n",
       "    <tr>\n",
       "      <th>10</th>\n",
       "      <td>0.1305</td>\n",
       "    </tr>\n",
       "    <tr>\n",
       "      <th>11</th>\n",
       "      <td>0.1092</td>\n",
       "    </tr>\n",
       "    <tr>\n",
       "      <th>12</th>\n",
       "      <td>0.0979</td>\n",
       "    </tr>\n",
       "    <tr>\n",
       "      <th>13</th>\n",
       "      <td>0.0719</td>\n",
       "    </tr>\n",
       "    <tr>\n",
       "      <th>14</th>\n",
       "      <td>0.0457</td>\n",
       "    </tr>\n",
       "    <tr>\n",
       "      <th>15</th>\n",
       "      <td>0.0353</td>\n",
       "    </tr>\n",
       "    <tr>\n",
       "      <th>16</th>\n",
       "      <td>0.0224</td>\n",
       "    </tr>\n",
       "    <tr>\n",
       "      <th>17</th>\n",
       "      <td>0.0124</td>\n",
       "    </tr>\n",
       "    <tr>\n",
       "      <th>18</th>\n",
       "      <td>0.0072</td>\n",
       "    </tr>\n",
       "    <tr>\n",
       "      <th>19</th>\n",
       "      <td>0.0039</td>\n",
       "    </tr>\n",
       "    <tr>\n",
       "      <th>20</th>\n",
       "      <td>0.0015</td>\n",
       "    </tr>\n",
       "    <tr>\n",
       "      <th>21</th>\n",
       "      <td>0.0003</td>\n",
       "    </tr>\n",
       "    <tr>\n",
       "      <th>22</th>\n",
       "      <td>0.0005</td>\n",
       "    </tr>\n",
       "    <tr>\n",
       "      <th>23</th>\n",
       "      <td>0.0002</td>\n",
       "    </tr>\n",
       "  </tbody>\n",
       "</table>\n",
       "</div>"
      ],
      "text/plain": [
       "1     0.0009\n",
       "2     0.0027\n",
       "3     0.0077\n",
       "4     0.0203\n",
       "5     0.0424\n",
       "6     0.0609\n",
       "7     0.0902\n",
       "8     0.1086\n",
       "9     0.1274\n",
       "10    0.1305\n",
       "11    0.1092\n",
       "12    0.0979\n",
       "13    0.0719\n",
       "14    0.0457\n",
       "15    0.0353\n",
       "16    0.0224\n",
       "17    0.0124\n",
       "18    0.0072\n",
       "19    0.0039\n",
       "20    0.0015\n",
       "21    0.0003\n",
       "22    0.0005\n",
       "23    0.0002\n",
       "dtype: float64"
      ]
     },
     "execution_count": 8,
     "metadata": {},
     "output_type": "execute_result"
    }
   ],
   "source": [
    "pmf_poisson = Pmf.from_seq(poisson)\n",
    "pmf_poisson"
   ]
  },
  {
   "cell_type": "markdown",
   "metadata": {},
   "source": [
    "Recall that PMF shows the probabilities of each unique outcome, so in the above result, the outcomes are given as index and probabilities under `probs`. Let's plot it using `matplotlib`:"
   ]
  },
  {
   "cell_type": "code",
   "execution_count": 11,
   "metadata": {},
   "outputs": [
    {
     "data": {
      "image/png": "[encoded data removed]",
      "text/plain": [
       "<Figure size 1440x720 with 1 Axes>"
      ]
     },
     "metadata": {
      "needs_background": "light"
     },
     "output_type": "display_data"
    }
   ],
   "source": [
    "# Create figure and axes objects\n",
    "fig, ax = plt.subplots(figsize=(20, 10))\n",
    "\n",
    "# Plot the PMF\n",
    "ax.plot(pmf_poisson, marker='.')  # label each data point with a dot\n",
    "\n",
    "# Labelling\n",
    "ax.set(title='Probability Mass Function of Poisson Distribution',\n",
    "       ylabel='P (X = x)', xlabel='Number of events')\n",
    "\n",
    "plt.show();"
   ]
  },
  {
   "cell_type": "markdown",
   "metadata": {},
   "source": [
    "As expected, the highest probability is for the mean (rate parameter, λ). "
   ]
  },
  {
   "cell_type": "markdown",
   "metadata": {},
   "source": [
    "Now, let's assume that we forgot the formula for the PMF of Poisson distribution. If we were doing our experiment of observing new-born babies, how would we find the probability of seeing 10 new babies with a rate of 6?"
   ]
  },
  {
   "cell_type": "markdown",
   "metadata": {},
   "source": [
    "Well, to start off, we simulate the perfect Poisson distribution with our given rate as parameter. Also, we make sure to draw a lot of samples for better accuracy:"
   ]
  },
  {
   "cell_type": "code",
   "execution_count": 12,
   "metadata": {},
   "outputs": [],
   "source": [
    "child_births = np.random.poisson(lam=6, size=1000000)"
   ]
  },
  {
   "cell_type": "markdown",
   "metadata": {},
   "source": [
    "We are sampling a distribution with rate 6 and length of 1 million. Next, we find in how many of them we got 10 babies:"
   ]
  },
  {
   "cell_type": "code",
   "execution_count": 14,
   "metadata": {},
   "outputs": [
    {
     "data": {
      "text/plain": [
       "41114"
      ]
     },
     "execution_count": 14,
     "metadata": {},
     "output_type": "execute_result"
    }
   ],
   "source": [
    "births_10 = np.sum(child_births == 10)\n",
    "births_10"
   ]
  },
  {
   "cell_type": "markdown",
   "metadata": {},
   "source": [
    "So, we observed 10 babies in 41114 trials (each hour can be considered to have one trial). Then we divide this number by the total amount of samples:"
   ]
  },
  {
   "cell_type": "code",
   "execution_count": 15,
   "metadata": {},
   "outputs": [
    {
     "data": {
      "text/plain": [
       "0.041114"
      ]
     },
     "execution_count": 15,
     "metadata": {},
     "output_type": "execute_result"
    }
   ],
   "source": [
    "births_10 / 1e6"
   ]
  },
  {
   "cell_type": "markdown",
   "metadata": {},
   "source": [
    "If you recall, using the PMF formula, the result was 0.0413 and we can see that our hand-coded solution is a pretty-close match."
   ]
  }
 ],
 "metadata": {
  "kernelspec": {
   "display_name": "medium_articles",
   "language": "python",
   "name": "medium_articles"
  },
  "language_info": {
   "codemirror_mode": {
    "name": "ipython",
    "version": 3
   },
   "file_extension": ".py",
   "mimetype": "text/x-python",
   "name": "python",
   "nbconvert_exporter": "python",
   "pygments_lexer": "ipython3",
   "version": "3.8.5"
  }
 },
 "nbformat": 4,
 "nbformat_minor": 4
}
