{
 "cells": [
  {
   "cell_type": "markdown",
   "metadata": {},
   "source": [
    "# Why Bootstrap Sampling Is the Badass Tool of Probabilistic Thinking\n",
    "## And how you can use it in practice right now\n",
    "<img src='images/boot.jpg'></img>"
   ]
  },
  {
   "cell_type": "markdown",
   "metadata": {},
   "source": [
    "### Setup"
   ]
  },
  {
   "cell_type": "code",
   "execution_count": 83,
   "metadata": {},
   "outputs": [],
   "source": [
    "import numpy as np\n",
    "import pandas as pd\n",
    "\n",
    "import matplotlib.pyplot as plt\n",
    "import seaborn as sns\n",
    "from matplotlib.ticker import MultipleLocator\n",
    "\n",
    "sns.set_context('talk')\n",
    "plt.style.use('ggplot')"
   ]
  },
  {
   "cell_type": "markdown",
   "metadata": {},
   "source": [
    "### Introduction"
   ]
  },
  {
   "cell_type": "markdown",
   "metadata": {},
   "source": [
    "You did all your best and managed to measure the speed of sound in your room 50 times using an electronic device. Feeling very proud and excited, you look at your results:"
   ]
  },
  {
   "attachments": {
    "image.png": {
     "image/png": "[encoded data removed]"
    }
   },
   "cell_type": "markdown",
   "metadata": {},
   "source": [
    "![image.png](attachment:image.png)"
   ]
  },
  {
   "cell_type": "markdown",
   "metadata": {},
   "source": [
    "What a big slap in the face! After the first 10 measurements, there was a technical failure with the device and did not measure anything at all. What do you do now? Well, you could take the mean of the available data but how confident would you be? If the device worked correctly, the mean you compute could easily be some other number. \n",
    "\n",
    "In fact, the whole reason of measuring the speed 50 times was that you could be *confident* with your findings and make valid assumptions about the speed of sound in any environment, not just in your room. "
   ]
  },
  {
   "cell_type": "markdown",
   "metadata": {},
   "source": [
    "Do you have to go though all that pain and set up a new device to record more measurements? Heck, no! Well, at least if you know Python and a magical method called **Bootstrapping**. Bootstrapping allows you to simulate any distribution of data which basically means you avoid collecting more data and you get to make pretty sound estimates about a much larger group using only a subset. "
   ]
  },
  {
   "cell_type": "markdown",
   "metadata": {},
   "source": [
    "The concept of going from just a small sample to making predictions about the whole group using bootstrapping has vowed people for so many years. If used in practice, it can seem a little bit like cheating but in fact, it is nothing more than a combination of very little math and a whole lot of computing power. "
   ]
  },
  {
   "cell_type": "markdown",
   "metadata": {},
   "source": [
    "Even though it is a very simple method, its applications go much beyond the scope of this article. The technique has been used in leading machine learning algorithms such as [Random Forests](https://en.wikipedia.org/wiki/Random_forest#:~:text=Random%20forests%20or%20random%20decision,average%20prediction%20(regression)%20of%20the) and [Stochastic Gradient Boosting](https://en.wikipedia.org/wiki/Gradient_boosting)."
   ]
  },
  {
   "cell_type": "markdown",
   "metadata": {},
   "source": [
    "In this post, we will look at why the method works and how we can implement it using Python to simulate data distributions which help us make predictions about populations, compute confidence intervals and perform hypothesis tests in the future."
   ]
  },
  {
   "cell_type": "markdown",
   "metadata": {},
   "source": [
    "### Terminology Alert"
   ]
  },
  {
   "cell_type": "markdown",
   "metadata": {},
   "source": [
    "In this post, I will be using the words population, sample, statistic and parameter often. So it is important you understand them before we move on:"
   ]
  },
  {
   "cell_type": "markdown",
   "metadata": {},
   "source": [
    "- **Population and sample**: in statistics, *population* refers to our whole of interest and *sample* is just a small, random subset of the population. For example, all followers of Towards Data Science publication can be the whole population and the ones who read this post is a tiny sample of that population. For our case, 10 speed measurements of sound in our room can be the sample while the speed measurements of sound in any environment is the population. \n",
    "- **Parameter and statistic**: If we calculate a certain metric for the population for example mean or standard deviation, it is called population *parameter*. If we do this for a sample, it will be called sample statistic. \n",
    "\n",
    "As a final example, let's say you have 10k email subscribers. You send out a blast email to all of your subscribers asking about their favorite programming language. Only 2500 people respond and 70% of them like Python. Here:\n",
    "- **Population**: 10k email subscribers\n",
    "- **Sample**: 2500 people who responded\n",
    "- **Statistic**: 70% liking Python\n",
    "- **Parameter**: Unknown, we should calculate the percentage of all subscribers who like Python using only the sample."
   ]
  },
  {
   "cell_type": "markdown",
   "metadata": {},
   "source": [
    "Now that we agreed on terminology, let's move on to bootstrapping."
   ]
  },
  {
   "cell_type": "markdown",
   "metadata": {},
   "source": [
    "### Bootstrapping Theory"
   ]
  },
  {
   "cell_type": "markdown",
   "metadata": {},
   "source": [
    "To show bootstrapping in practice, we will start working with the ten measurements of the speed of sound. First, let's plot the data points:"
   ]
  },
  {
   "cell_type": "code",
   "execution_count": 24,
   "metadata": {},
   "outputs": [],
   "source": [
    "zeros = np.array([1,1,1,1,1,1,1,1,1,1])\n",
    "speed = np.random.uniform(340, 350, size=10).round(2)"
   ]
  },
  {
   "cell_type": "code",
   "execution_count": 42,
   "metadata": {
    "scrolled": false
   },
   "outputs": [
    {
     "data": {
      "image/png": "[encoded data removed]",
      "text/plain": [
       "<Figure size 1080x72 with 1 Axes>"
      ]
     },
     "metadata": {},
     "output_type": "display_data"
    }
   ],
   "source": [
    "# Create fig, ax objects\n",
    "fig, ax = plt.subplots(figsize=(15, 1))\n",
    "# Plot the data points\n",
    "ax.plot(speed, zeros, 'o')\n",
    "# Remove the y ticks\n",
    "ax.set_yticks([])\n",
    "\n",
    "plt.show();"
   ]
  },
  {
   "cell_type": "markdown",
   "metadata": {},
   "source": [
    "Our aim is to correctly estimate the speed of sound in any open environment, not just in a room. Since it is unlikely we see outliers with the speed of sound, mean can be a good metric to represent the speeds. So, let's annotate the mean on the plot:"
   ]
  },
  {
   "cell_type": "code",
   "execution_count": 43,
   "metadata": {},
   "outputs": [
    {
     "data": {
      "image/png": "[encoded data removed]",
      "text/plain": [
       "<Figure size 1080x72 with 1 Axes>"
      ]
     },
     "metadata": {},
     "output_type": "display_data"
    }
   ],
   "source": [
    "# Create fig, ax objects\n",
    "fig, ax = plt.subplots(figsize=(15, 1))\n",
    "# Plot the data points\n",
    "ax.plot(speed, zeros, 'o')\n",
    "# Remove the y ticks\n",
    "ax.set_yticks([])\n",
    "# Plot the mean\n",
    "ax.axvline(np.mean(speed), c='black')\n",
    "\n",
    "plt.show();"
   ]
  },
  {
   "cell_type": "markdown",
   "metadata": {},
   "source": [
    "We get a mean of 344.39 m/s (meters per second). Now, we bootstrap the sample:"
   ]
  },
  {
   "cell_type": "markdown",
   "metadata": {},
   "source": [
    "1) First, we randomly select 10 measurements from the speeds and duplicates are allowed.\n",
    "\n",
    "2) Calculate the mean of this random sample and store it in an array.\n",
    "\n",
    "3) Repeat the steps one and two many, many times, optimally 1000 or 10000 times."
   ]
  },
  {
   "cell_type": "markdown",
   "metadata": {},
   "source": [
    "So, let's choose 10 points from the available data randomly and we can choose any data point as many times as we want:"
   ]
  },
  {
   "cell_type": "code",
   "execution_count": 47,
   "metadata": {},
   "outputs": [
    {
     "name": "stdout",
     "output_type": "stream",
     "text": [
      "344.396\n"
     ]
    },
    {
     "data": {
      "image/png": "[encoded data removed]",
      "text/plain": [
       "<Figure size 1080x72 with 1 Axes>"
      ]
     },
     "metadata": {},
     "output_type": "display_data"
    }
   ],
   "source": [
    "temp = np.random.choice(speed, size=10)\n",
    "print(temp.mean())\n",
    "# Create fig, ax objects\n",
    "fig, ax = plt.subplots(figsize=(15, 1))\n",
    "# Plot the data points\n",
    "ax.plot(temp, zeros, 'o')\n",
    "# Remove the y ticks\n",
    "ax.set_yticks([])\n",
    "# Plot the mean\n",
    "ax.axvline(np.mean(speed), c='black')\n",
    "\n",
    "plt.show();"
   ]
  },
  {
   "cell_type": "markdown",
   "metadata": {},
   "source": [
    "I used Python to randomly choose the points (which I will show how later). As you see, we only have 7 unique points which means there are 3 points which are plotted on top of each other because we ended up with some duplicates. Then, we measured the mean and plotted it and this time it is 344.396. "
   ]
  },
  {
   "cell_type": "markdown",
   "metadata": {},
   "source": [
    "Here are the ten random points sampled from the original 10 measurements:"
   ]
  },
  {
   "cell_type": "code",
   "execution_count": 49,
   "metadata": {},
   "outputs": [
    {
     "data": {
      "text/plain": [
       "[345.59, 345.07, 340.4, 349.47, 340.92, 349.47, 340.26, 349.47, 342.91, 340.4]"
      ]
     },
     "execution_count": 49,
     "metadata": {},
     "output_type": "execute_result"
    }
   ],
   "source": [
    "list(temp)"
   ]
  },
  {
   "cell_type": "markdown",
   "metadata": {},
   "source": [
    "Above is called a single bootstrap sample. Its mean, which is 344.396, is called the bootstrap replicate or metric. Next, we should repeat these first two steps thousands of times. For example, below I will take 1000 bootstrap samples and only plot their means on a single graph:"
   ]
  },
  {
   "cell_type": "code",
   "execution_count": 64,
   "metadata": {},
   "outputs": [
    {
     "data": {
      "image/png": "[encoded data removed]",
      "text/plain": [
       "<Figure size 1080x72 with 1 Axes>"
      ]
     },
     "metadata": {},
     "output_type": "display_data"
    }
   ],
   "source": [
    "fig, ax = plt.subplots(figsize=(15, 1))\n",
    "for _ in range(1000):\n",
    "    # Take a sample\n",
    "    sample = np.random.choice(speed, size=10)\n",
    "    # Plot the mean as a vertical line\n",
    "    ax.axvline(sample.mean(), color='grey', alpha=0.03)\n",
    "\n",
    "# Remove the y ticks\n",
    "ax.set_yticks([])\n",
    "\n",
    "plt.show();"
   ]
  },
  {
   "cell_type": "markdown",
   "metadata": {},
   "source": [
    "Above is a graph of 1000 bootstrap replicates (means) sampled from the original 10 sound measurements. I plotted the lines with lower transparency so that overlapping lines create a denser background around the actual estimated mean. As you see, the sample mean is around 344 m/s which we can confidently use as a general average of the speed of sound in any environment."
   ]
  },
  {
   "cell_type": "markdown",
   "metadata": {},
   "source": [
    "What we just did is called *bootstrap sampling* with *replacement*. *With replacement* means selecting a random data point from the underlying sample and put it back so that all the data points have an equal chance of being chosen once again. Also, it is important that each bootstrap sample has the same length as the underlying sample. In our case, each bootstrap sample has the length of ten because we only had 10 measurements of speed to begin with."
   ]
  },
  {
   "cell_type": "markdown",
   "metadata": {},
   "source": [
    "Now, the question is 'Why do we have to assume the mean we calculated with bootstrap sampling is close to the actual population parameter?'. In the next section, we will answer this question based on some math."
   ]
  },
  {
   "cell_type": "markdown",
   "metadata": {},
   "source": [
    "### Why Bootstrapping Works"
   ]
  },
  {
   "cell_type": "markdown",
   "metadata": {},
   "source": [
    "In probability, there is a theory called Law of Large Numbers. It dictates that if the same experiment is performed a large number of times, the average result of the experiments tends to come closer to the real estimate as the number of experiments increase. \n",
    "\n",
    "For example, rolling a fair die will have one of the six outcomes 1, 2, 3, 4, 5, 6. Your expected score would be the average of these 6 numbers which is 3.5. Of course, in reality you won't have an average score of 3.5 if you rolled the die a few times. However, because of the law of large numbers, as you increase the number of rolls, your average score comes closer and closer to 3.5."
   ]
  },
  {
   "cell_type": "markdown",
   "metadata": {},
   "source": [
    "If you think about this for a moment, it actually makes sense. Taking a more real-world example, if you took an SAT test you might get two very different results. However, taking the exam more and more will get you closer and closer to your actual skill measure on the test. "
   ]
  },
  {
   "cell_type": "markdown",
   "metadata": {},
   "source": [
    "Bootstrapping uses this same idea under the hood. Given a good sample (and I will explain what a good sample is in the next section), taking random bootstrap samples from this sample will actually give results that are pretty close to the actual population parameters."
   ]
  },
  {
   "cell_type": "markdown",
   "metadata": {},
   "source": [
    "To me, using just a tiny amount of data many times to make predictions for a large group without having to collect more data is pretty amazing."
   ]
  },
  {
   "cell_type": "markdown",
   "metadata": {},
   "source": [
    "### How Effective Is Bootstrapping"
   ]
  },
  {
   "cell_type": "markdown",
   "metadata": {},
   "source": [
    "An obvious question is how effective the method is. The answer is that most of the times, you can expect the results of bootstrapping to be correct and usable. However, the accuracy of deriving inferences about population parameters depends on the sample you collected. "
   ]
  },
  {
   "cell_type": "markdown",
   "metadata": {},
   "source": [
    "For bootstrapping to work correctly, the sample you use should accurately represent the population of interest. For example, if you want to collect information about heights of people and calculate the average height of all humans on the planet, you have to choose a correct sample. Since data collection is expensive and time-consuming, the collected data should be really random and include data points from a wide range of groups within the population. To calculate the average height, the sample you collected only from a single group like athletes will not represent the heights of all people well since they tend to be taller."
   ]
  },
  {
   "cell_type": "markdown",
   "metadata": {},
   "source": [
    "If you are sure you are working with a well enough sample, you can almost always be certain that the results obtained from bootstrapping is reliable. If not, you have to take a leap of faith and use bootstrapping anyway since your given data will be secondary (collected by others) most of the time."
   ]
  },
  {
   "cell_type": "markdown",
   "metadata": {},
   "source": [
    "As an added benefit, bootstrapping can be used to measure a whole range of other parameters of the population. Good examples are median, mode, standard deviation, variance, correlations, and many others. "
   ]
  },
  {
   "cell_type": "markdown",
   "metadata": {},
   "source": [
    "### What is a Sampling Distribution"
   ]
  },
  {
   "cell_type": "markdown",
   "metadata": {},
   "source": [
    "The terms 'bootstrapping' and 'sampling distributions' often come together and indeed, sampling distributions are obtained using bootstrapping. Let's clarify this using the earlier speed of sound measurements. \n",
    "\n",
    "Recall that we took 1000 bootstrap samples the original 10 measurements and plotted the mean of each bootstrap sample. This time, instead of plotting, I will store all the means in a Python array:"
   ]
  },
  {
   "cell_type": "code",
   "execution_count": 70,
   "metadata": {},
   "outputs": [],
   "source": [
    "means = list()\n",
    "for _ in range(1000):\n",
    "    means.append(np.random.choice(speed, size=len(speed)).mean().round(2))"
   ]
  },
  {
   "cell_type": "code",
   "execution_count": 74,
   "metadata": {},
   "outputs": [],
   "source": [
    "means = np.array(means)"
   ]
  },
  {
   "cell_type": "code",
   "execution_count": 75,
   "metadata": {},
   "outputs": [
    {
     "data": {
      "text/plain": [
       "array([344.38, 345.02, 345.05, 343.44, 342.81, 345.12, 346.42, 344.56,\n",
       "       344.82, 344.46, 344.76, 344.08, 344.58, 344.65, 343.74, 344.25,\n",
       "       345.05, 344.15, 343.38, 345.32])"
      ]
     },
     "execution_count": 75,
     "metadata": {},
     "output_type": "execute_result"
    }
   ],
   "source": [
    "means[:20]"
   ]
  },
  {
   "cell_type": "markdown",
   "metadata": {},
   "source": [
    "I am displaying the first 20 means out of 1000 which are stored in the variable `means`. In probability, `means` is called a *sampling distribution of the sample mean*. If instead we calculated standard deviation of each bootstrap sample:"
   ]
  },
  {
   "cell_type": "code",
   "execution_count": 76,
   "metadata": {},
   "outputs": [],
   "source": [
    "stds = list()\n",
    "for _ in range(1000):\n",
    "    stds.append(np.random.choice(speed, size=len(speed)).std().round(2))"
   ]
  },
  {
   "cell_type": "code",
   "execution_count": 77,
   "metadata": {},
   "outputs": [],
   "source": [
    "stds = np.array(stds)"
   ]
  },
  {
   "cell_type": "code",
   "execution_count": 78,
   "metadata": {},
   "outputs": [
    {
     "data": {
      "text/plain": [
       "array([3.38, 3.19, 2.14, 3.2 , 2.97, 2.76, 2.9 , 2.75, 3.17, 3.01, 3.48,\n",
       "       3.77, 2.4 , 3.2 , 3.6 , 2.89, 2.64, 1.95, 3.09, 2.48])"
      ]
     },
     "execution_count": 78,
     "metadata": {},
     "output_type": "execute_result"
    }
   ],
   "source": [
    "stds[:20]"
   ]
  },
  {
   "cell_type": "markdown",
   "metadata": {},
   "source": [
    "it would be called 'a sampling distribution of the sample standard deviation'. \n",
    "\n",
    "This distribution is practically useless unless we plot it. A common plot for sampling distributions is a histogram:"
   ]
  },
  {
   "cell_type": "code",
   "execution_count": 85,
   "metadata": {},
   "outputs": [
    {
     "data": {
      "image/png": "[encoded data removed]",
      "text/plain": [
       "<Figure size 1080x576 with 2 Axes>"
      ]
     },
     "metadata": {},
     "output_type": "display_data"
    }
   ],
   "source": [
    "# Create fig, ax objects\n",
    "fig, (ax1, ax2) = plt.subplots(1, 2, figsize=(15, 8))\n",
    "\n",
    "# Plot the means\n",
    "ax1.hist(means, bins=20)\n",
    "ax1.set(title='Sampling Distribution of the Sample Mean',\n",
    "        xlabel='Mean (m/s)',\n",
    "        ylabel='Frequency')\n",
    "# Plot the stds\n",
    "ax2.hist(stds, bins=20)\n",
    "ax2.set(title='Sampling Distribution of the Sample Standard Devation',\n",
    "        xlabel='Standard deviation (m/s)',\n",
    "        ylabel='Frequency')\n",
    "\n",
    "plt.show();"
   ]
  },
  {
   "cell_type": "markdown",
   "metadata": {},
   "source": [
    "We can see that the sampling distributions are approximately normally distributed. In fact, every single sampling distribution obtained under right bootstrapping conditions will follow a nearly perfect normal distribution as the number of bootstrap samples increases."
   ]
  },
  {
   "cell_type": "markdown",
   "metadata": {},
   "source": [
    "Finally, in the next section we will take a peek the code which generated all these bootstraps and sampling distributions."
   ]
  },
  {
   "cell_type": "markdown",
   "metadata": {},
   "source": [
    "### Bootstrapping in Python"
   ]
  },
  {
   "cell_type": "markdown",
   "metadata": {},
   "source": [
    "Bootstrapping in Python usually starts with a data frame. The technique itself uses `numpy` extensively, so we will import it along with `pandas` and the two plotting libraries:"
   ]
  },
  {
   "cell_type": "code",
   "execution_count": 86,
   "metadata": {},
   "outputs": [],
   "source": [
    "import numpy as np\n",
    "import pandas as pd\n",
    "\n",
    "import matplotlib.pyplot as plt\n",
    "import seaborn as sns\n",
    "\n",
    "sns.set_context('talk')\n",
    "plt.style.use('ggplot')"
   ]
  },
  {
   "cell_type": "markdown",
   "metadata": {},
   "source": [
    "I will load the built-in diamonds dataset of Seaborn and we will use bootstrapping to make inferences about the average price for the whole population of diamonds:"
   ]
  },
  {
   "cell_type": "code",
   "execution_count": 87,
   "metadata": {},
   "outputs": [
    {
     "data": {
      "text/html": [
       "<div>\n",
       "<style scoped>\n",
       "    .dataframe tbody tr th:only-of-type {\n",
       "        vertical-align: middle;\n",
       "    }\n",
       "\n",
       "    .dataframe tbody tr th {\n",
       "        vertical-align: top;\n",
       "    }\n",
       "\n",
       "    .dataframe thead th {\n",
       "        text-align: right;\n",
       "    }\n",
       "</style>\n",
       "<table border=\"1\" class=\"dataframe\">\n",
       "  <thead>\n",
       "    <tr style=\"text-align: right;\">\n",
       "      <th></th>\n",
       "      <th>carat</th>\n",
       "      <th>cut</th>\n",
       "      <th>color</th>\n",
       "      <th>clarity</th>\n",
       "      <th>depth</th>\n",
       "      <th>table</th>\n",
       "      <th>price</th>\n",
       "      <th>x</th>\n",
       "      <th>y</th>\n",
       "      <th>z</th>\n",
       "    </tr>\n",
       "  </thead>\n",
       "  <tbody>\n",
       "    <tr>\n",
       "      <th>0</th>\n",
       "      <td>0.23</td>\n",
       "      <td>Ideal</td>\n",
       "      <td>E</td>\n",
       "      <td>SI2</td>\n",
       "      <td>61.5</td>\n",
       "      <td>55.0</td>\n",
       "      <td>326</td>\n",
       "      <td>3.95</td>\n",
       "      <td>3.98</td>\n",
       "      <td>2.43</td>\n",
       "    </tr>\n",
       "    <tr>\n",
       "      <th>1</th>\n",
       "      <td>0.21</td>\n",
       "      <td>Premium</td>\n",
       "      <td>E</td>\n",
       "      <td>SI1</td>\n",
       "      <td>59.8</td>\n",
       "      <td>61.0</td>\n",
       "      <td>326</td>\n",
       "      <td>3.89</td>\n",
       "      <td>3.84</td>\n",
       "      <td>2.31</td>\n",
       "    </tr>\n",
       "    <tr>\n",
       "      <th>2</th>\n",
       "      <td>0.23</td>\n",
       "      <td>Good</td>\n",
       "      <td>E</td>\n",
       "      <td>VS1</td>\n",
       "      <td>56.9</td>\n",
       "      <td>65.0</td>\n",
       "      <td>327</td>\n",
       "      <td>4.05</td>\n",
       "      <td>4.07</td>\n",
       "      <td>2.31</td>\n",
       "    </tr>\n",
       "    <tr>\n",
       "      <th>3</th>\n",
       "      <td>0.29</td>\n",
       "      <td>Premium</td>\n",
       "      <td>I</td>\n",
       "      <td>VS2</td>\n",
       "      <td>62.4</td>\n",
       "      <td>58.0</td>\n",
       "      <td>334</td>\n",
       "      <td>4.20</td>\n",
       "      <td>4.23</td>\n",
       "      <td>2.63</td>\n",
       "    </tr>\n",
       "    <tr>\n",
       "      <th>4</th>\n",
       "      <td>0.31</td>\n",
       "      <td>Good</td>\n",
       "      <td>J</td>\n",
       "      <td>SI2</td>\n",
       "      <td>63.3</td>\n",
       "      <td>58.0</td>\n",
       "      <td>335</td>\n",
       "      <td>4.34</td>\n",
       "      <td>4.35</td>\n",
       "      <td>2.75</td>\n",
       "    </tr>\n",
       "  </tbody>\n",
       "</table>\n",
       "</div>"
      ],
      "text/plain": [
       "   carat      cut color clarity  depth  table  price     x     y     z\n",
       "0   0.23    Ideal     E     SI2   61.5   55.0    326  3.95  3.98  2.43\n",
       "1   0.21  Premium     E     SI1   59.8   61.0    326  3.89  3.84  2.31\n",
       "2   0.23     Good     E     VS1   56.9   65.0    327  4.05  4.07  2.31\n",
       "3   0.29  Premium     I     VS2   62.4   58.0    334  4.20  4.23  2.63\n",
       "4   0.31     Good     J     SI2   63.3   58.0    335  4.34  4.35  2.75"
      ]
     },
     "execution_count": 87,
     "metadata": {},
     "output_type": "execute_result"
    }
   ],
   "source": [
    "diamonds = sns.load_dataset('diamonds')\n",
    "diamonds.head()"
   ]
  },
  {
   "cell_type": "code",
   "execution_count": 89,
   "metadata": {},
   "outputs": [
    {
     "name": "stdout",
     "output_type": "stream",
     "text": [
      "<class 'pandas.core.frame.DataFrame'>\n",
      "RangeIndex: 53940 entries, 0 to 53939\n",
      "Data columns (total 10 columns):\n",
      " #   Column   Non-Null Count  Dtype   \n",
      "---  ------   --------------  -----   \n",
      " 0   carat    53940 non-null  float64 \n",
      " 1   cut      53940 non-null  category\n",
      " 2   color    53940 non-null  category\n",
      " 3   clarity  53940 non-null  category\n",
      " 4   depth    53940 non-null  float64 \n",
      " 5   table    53940 non-null  float64 \n",
      " 6   price    53940 non-null  int64   \n",
      " 7   x        53940 non-null  float64 \n",
      " 8   y        53940 non-null  float64 \n",
      " 9   z        53940 non-null  float64 \n",
      "dtypes: category(3), float64(6), int64(1)\n",
      "memory usage: 3.0 MB\n"
     ]
    }
   ],
   "source": [
    "diamonds.info()"
   ]
  },
  {
   "cell_type": "markdown",
   "metadata": {},
   "source": [
    "Here is a Kernel Density Estimate plot of diamond prices with the mean annotated as a black line:"
   ]
  },
  {
   "cell_type": "code",
   "execution_count": 101,
   "metadata": {},
   "outputs": [
    {
     "data": {
      "image/png": "[encoded data removed]",
      "text/plain": [
       "<Figure size 864x576 with 1 Axes>"
      ]
     },
     "metadata": {},
     "output_type": "display_data"
    }
   ],
   "source": [
    "# Create fig, ax objects\n",
    "fig, ax = plt.subplots(figsize=(12, 8))\n",
    "\n",
    "# Plot the kde\n",
    "sns.kdeplot(diamonds['price'], bw_adjust=1)\n",
    "\n",
    "ax.set(title='KDE plot of 54k Diamond Prices', \n",
    "       xlabel='Price ($)', \n",
    "       ylabel='Density')\n",
    "\n",
    "# Annotate the mean\n",
    "ax.axvline(x=diamonds['price'].mean(), color='black', label='Mean Price')\n",
    "# Show the legend\n",
    "ax.legend()\n",
    "\n",
    "plt.show();"
   ]
  },
  {
   "cell_type": "markdown",
   "metadata": {},
   "source": [
    "> The mean price is 3932.8 dollars. \n",
    "\n",
    "Now, we will bootstrap the diamond prices 10k times so that we will have a whole range of possible means for the population of diamonds."
   ]
  },
  {
   "cell_type": "code",
   "execution_count": 104,
   "metadata": {},
   "outputs": [],
   "source": [
    "# Create an empty numpy array of size 10k\n",
    "means = np.empty(10000)\n",
    "\n",
    "# Initialize the bootstrap\n",
    "for i in range(10000):\n",
    "    # Take random draws from the underlying data\n",
    "    bs_sample = np.random.choice(diamonds['price'], size=len(diamonds['price']))\n",
    "    # Append its mean to means\n",
    "    means[i] = bs_sample.mean()"
   ]
  },
  {
   "cell_type": "markdown",
   "metadata": {},
   "source": [
    "First, we create an empty `numpy` array to store the means. Then, we initialize a `for` loop with 10k iterations. In each iteration:\n",
    "- We take a bootstrap sample using `np.random.choice`\n",
    "- We use the length of the underlying distribution (diamond prices) for the `size` argument\n",
    "- We calculate the mean using each sample and add it to `means`"
   ]
  },
  {
   "cell_type": "markdown",
   "metadata": {},
   "source": [
    "> `np.random.choice` accepts any sequence of values and randomly chooses data points with replacement by default. "
   ]
  },
  {
   "cell_type": "markdown",
   "metadata": {},
   "source": [
    "To plot this sampling distribution of sample means, we can use Seaborn's `kdeplot` or Matplotlib's `hist`. Although the choice is yours, I prefer the KDE plot since it comes with less noise and avoids binning bias:"
   ]
  },
  {
   "cell_type": "code",
   "execution_count": 106,
   "metadata": {},
   "outputs": [
    {
     "data": {
      "image/png": "[encoded data removed]",
      "text/plain": [
       "<Figure size 864x576 with 1 Axes>"
      ]
     },
     "metadata": {},
     "output_type": "display_data"
    }
   ],
   "source": [
    "# Create fig, ax objects\n",
    "fig, ax = plt.subplots(figsize=(12, 8))\n",
    "\n",
    "# Create a kdeplot\n",
    "sns.kdeplot(means, ax=ax, bw_adjust=1.5)\n",
    "# Labeling\n",
    "ax.set(title='KDE Plot of the Sampling Distribution of the Sample Mean',\n",
    "       xlabel='Mean Price ($)')\n",
    "\n",
    "plt.show();"
   ]
  },
  {
   "cell_type": "markdown",
   "metadata": {},
   "source": [
    "As expected, we see a pretty close match to a normal distribution. Now, the question is 'How do we actually make assumptions for the population parameter now?'. This will be answered using a confidence interval."
   ]
  },
  {
   "cell_type": "markdown",
   "metadata": {},
   "source": [
    "### Confidence Intervals"
   ]
  },
  {
   "cell_type": "markdown",
   "metadata": {},
   "source": [
    "In general, we you see someone referring to a *k%* confidence interval of some metric with an interval of \\[m, n\\), it means they are k% percent sure that the metric for the population lies somewhere between *m* and *n*."
   ]
  },
  {
   "cell_type": "markdown",
   "metadata": {},
   "source": [
    "You see, when you are thinking probabilistically you can never say with absolute certainty that population parameter is equal to some number since you calculation your assumptions using only a small sample. So, statisticians compute intervals of the parameter and state that the parameter lies in this interval. "
   ]
  },
  {
   "cell_type": "markdown",
   "metadata": {},
   "source": [
    "A common percentage of confidence intervals is 95% or 99%. The interval itself is basically calculated using percentiles. For example, to calculate 95% confidence interval of a sampling distribution you take the 2.5th percentile as a lower limit and 97.5th percentile as the upper one. Also, remember to take the 'middle' interval not another one like 0th and 95th or 5th and 100th percentiles. The actual parameter always lies in a more centered interval."
   ]
  },
  {
   "cell_type": "markdown",
   "metadata": {},
   "source": [
    "To implement this in Python, we will use `numpy`'s `np.percentile` function which takes a sampling distribution and the percentiles as parameters:"
   ]
  },
  {
   "cell_type": "code",
   "execution_count": 108,
   "metadata": {},
   "outputs": [
    {
     "data": {
      "text/plain": [
       "array([3899.2 , 3967.58])"
      ]
     },
     "execution_count": 108,
     "metadata": {},
     "output_type": "execute_result"
    }
   ],
   "source": [
    "# Calculate the 95% CI of diamond prices\n",
    "np.percentile(means, [2.5, 97.5]).round(2)"
   ]
  },
  {
   "cell_type": "markdown",
   "metadata": {},
   "source": [
    "Looking at the above figures, we can be 95% sure that the average price of all diamonds in the world falls within 3899 and ~3968 dollars."
   ]
  },
  {
   "cell_type": "markdown",
   "metadata": {},
   "source": [
    "We could have easily taken the 99% CI:"
   ]
  },
  {
   "cell_type": "code",
   "execution_count": 110,
   "metadata": {},
   "outputs": [
    {
     "data": {
      "text/plain": [
       "array([3889.45, 3977.59])"
      ]
     },
     "execution_count": 110,
     "metadata": {},
     "output_type": "execute_result"
    }
   ],
   "source": [
    "# Calculate the 99% CI of diamond prices\n",
    "np.percentile(means, [0.5, 99.5]).round(2)"
   ]
  },
  {
   "cell_type": "markdown",
   "metadata": {},
   "source": [
    "This time we get **[3889.45, 3977.59)**."
   ]
  }
 ],
 "metadata": {
  "kernelspec": {
   "display_name": "medium_articles",
   "language": "python",
   "name": "medium_articles"
  },
  "language_info": {
   "codemirror_mode": {
    "name": "ipython",
    "version": 3
   },
   "file_extension": ".py",
   "mimetype": "text/x-python",
   "name": "python",
   "nbconvert_exporter": "python",
   "pygments_lexer": "ipython3",
   "version": "3.8.5"
  }
 },
 "nbformat": 4,
 "nbformat_minor": 4
}
