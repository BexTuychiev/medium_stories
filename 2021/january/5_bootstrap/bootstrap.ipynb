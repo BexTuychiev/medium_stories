{
 "cells": [
  {
   "cell_type": "markdown",
   "metadata": {},
   "source": [
    "# Why Bootstrap Sampling Is the Badass Tool of Probabilistic Thinking\n",
    "## And how you can use it in practice right now\n",
    "<img src='images/boot.jpg'></img>"
   ]
  },
  {
   "cell_type": "markdown",
   "metadata": {},
   "source": [
    "### Setup"
   ]
  },
  {
   "cell_type": "code",
   "execution_count": 57,
   "metadata": {},
   "outputs": [],
   "source": [
    "import numpy as np\n",
    "import pandas as pd\n",
    "\n",
    "import matplotlib.pyplot as plt\n",
    "import seaborn as sns\n",
    "from matplotlib.ticker import MultipleLocator\n",
    "\n",
    "sns.set_context('talk')\n",
    "plt.style.use('fivethirtyeight')"
   ]
  },
  {
   "cell_type": "markdown",
   "metadata": {},
   "source": [
    "### Introduction"
   ]
  },
  {
   "cell_type": "markdown",
   "metadata": {},
   "source": [
    "You did all your best and managed to measure the speed of sound in your room 50 times using an electronic device. Feeling very proud and excited, you look at your results:"
   ]
  },
  {
   "attachments": {
    "image.png": {
     "image/png": "[encoded data removed]"
    }
   },
   "cell_type": "markdown",
   "metadata": {},
   "source": [
    "![image.png](attachment:image.png)"
   ]
  },
  {
   "cell_type": "markdown",
   "metadata": {},
   "source": [
    "What a big slap in the face! After the first 10 measurements, there was a technical failure with the device and did not measure anything at all. What do you do now? Well, you could take the mean of the available data but how confident would you be? If the device worked correctly, the mean you compute could easily be some other number. \n",
    "\n",
    "In fact, the whole reason of measuring the speed 50 times was that you could be *confident* with your findings and make valid assumptions about the speed of sound in any environment, not just in your room. "
   ]
  },
  {
   "cell_type": "markdown",
   "metadata": {},
   "source": [
    "Do you have to go though all that pain and set up a new device to record more measurements? Heck, no! Well, at least if you know Python and a magical method called **Bootstrapping**. Bootstrapping allows you to simulate any distribution of data which basically means you avoid collecting more data and you get to make pretty sound estimates about a much larger group using only a subset. "
   ]
  },
  {
   "cell_type": "markdown",
   "metadata": {},
   "source": [
    "The concept of going from just a small sample to making predictions about the whole group using bootstrapping has vowed people for so many years. If used in practice, it can seem a little bit like cheating but in fact, it is nothing more than a combination of very little math and a whole lot of computing power. "
   ]
  },
  {
   "cell_type": "markdown",
   "metadata": {},
   "source": [
    "Even though it is a very simple method, its applications go much beyond the scope of this article. The technique has been used in leading machine learning algorithms such as [Random Forests](https://en.wikipedia.org/wiki/Random_forest#:~:text=Random%20forests%20or%20random%20decision,average%20prediction%20(regression)%20of%20the) and [Stochastic Gradient Boosting](https://en.wikipedia.org/wiki/Gradient_boosting)."
   ]
  },
  {
   "cell_type": "markdown",
   "metadata": {},
   "source": [
    "In this post, we will look at why the method works and how we can implement it using Python to simulate data distributions which help us make predictions about populations and compute confidence intervals."
   ]
  },
  {
   "cell_type": "markdown",
   "metadata": {},
   "source": [
    "### Terminology Alert"
   ]
  },
  {
   "cell_type": "markdown",
   "metadata": {},
   "source": [
    "In this post, I will be using the words population, sample, statistic and parameter often. So it is important you understand them before we move on:"
   ]
  },
  {
   "cell_type": "markdown",
   "metadata": {},
   "source": [
    "- **Population and sample**: in statistics, *population* refers to our whole of interest and *sample* is just a small, random subset of the population. For example, all followers of Towards Data Science publication can be the whole population and the ones who read this post is a tiny sample of that population. For our case, 10 speed measurements of sound in our room can be the sample while the speed measurements of sound in any environment is the population. \n",
    "- **Parameter and statistic**: If we calculate a certain metric for the population for example mean or standard deviation, it is called population *parameter*. If we do this for a sample, it will be called sample statistic. \n",
    "\n",
    "As a final example, let's say you have 10k email subscribers. You send out a blast email to all of your subscribers asking about their favorite programming language. Only 2500 people respond and 70% of them like Python. Here:\n",
    "- **Population**: 10k email subscribers\n",
    "- **Sample**: 2500 people who responded\n",
    "- **Statistic**: 70% liking Python\n",
    "- **Parameter**: Unknown, we should calculate the percentage of all subscribers who like Python using only the sample."
   ]
  },
  {
   "cell_type": "markdown",
   "metadata": {},
   "source": [
    "Now that we got agreed on terminology, let's move on to bootstrapping."
   ]
  },
  {
   "cell_type": "markdown",
   "metadata": {},
   "source": [
    "### Bootstrapping Theory"
   ]
  },
  {
   "cell_type": "markdown",
   "metadata": {},
   "source": [
    "To show bootstrapping in practice, we will start working with the ten measurements of the speed of sound. First, let's plot the data points:"
   ]
  },
  {
   "cell_type": "code",
   "execution_count": 24,
   "metadata": {},
   "outputs": [],
   "source": [
    "zeros = np.array([1,1,1,1,1,1,1,1,1,1])\n",
    "speed = np.random.uniform(340, 350, size=10).round(2)"
   ]
  },
  {
   "cell_type": "code",
   "execution_count": 42,
   "metadata": {
    "scrolled": false
   },
   "outputs": [
    {
     "data": {
      "image/png": "[encoded data removed]",
      "text/plain": [
       "<Figure size 1080x72 with 1 Axes>"
      ]
     },
     "metadata": {},
     "output_type": "display_data"
    }
   ],
   "source": [
    "# Create fig, ax objects\n",
    "fig, ax = plt.subplots(figsize=(15, 1))\n",
    "# Plot the data points\n",
    "ax.plot(speed, zeros, 'o')\n",
    "# Remove the y ticks\n",
    "ax.set_yticks([])\n",
    "\n",
    "plt.show();"
   ]
  },
  {
   "cell_type": "markdown",
   "metadata": {},
   "source": [
    "Our aim is to correctly estimate the speed of sound in any open environment, not just in a room. Since it is unlikely we see outliers with the speed of sound, mean can be a good metric to represent the speeds. So, let's annotate the mean on the plot:"
   ]
  },
  {
   "cell_type": "code",
   "execution_count": 43,
   "metadata": {},
   "outputs": [
    {
     "data": {
      "image/png": "[encoded data removed]",
      "text/plain": [
       "<Figure size 1080x72 with 1 Axes>"
      ]
     },
     "metadata": {},
     "output_type": "display_data"
    }
   ],
   "source": [
    "# Create fig, ax objects\n",
    "fig, ax = plt.subplots(figsize=(15, 1))\n",
    "# Plot the data points\n",
    "ax.plot(speed, zeros, 'o')\n",
    "# Remove the y ticks\n",
    "ax.set_yticks([])\n",
    "# Plot the mean\n",
    "ax.axvline(np.mean(speed), c='black')\n",
    "\n",
    "plt.show();"
   ]
  },
  {
   "cell_type": "markdown",
   "metadata": {},
   "source": [
    "We get a mean of 344.39 m/s (meters per second). Now, we bootstrap the sample:"
   ]
  },
  {
   "cell_type": "markdown",
   "metadata": {},
   "source": [
    "1) First, we randomly select 10 measurements from the speeds and duplicates are allowed.\n",
    "\n",
    "2) Calculate the mean of this random sample and store it in an array.\n",
    "\n",
    "3) Repeat the steps one and two many, many times, optimally 1000 or 10000 times."
   ]
  },
  {
   "cell_type": "markdown",
   "metadata": {},
   "source": [
    "So, let's choose 10 points from the available data randomly and we can choose any data point as many times as we want:"
   ]
  },
  {
   "cell_type": "code",
   "execution_count": 47,
   "metadata": {},
   "outputs": [
    {
     "name": "stdout",
     "output_type": "stream",
     "text": [
      "344.396\n"
     ]
    },
    {
     "data": {
      "image/png": "[encoded data removed]",
      "text/plain": [
       "<Figure size 1080x72 with 1 Axes>"
      ]
     },
     "metadata": {},
     "output_type": "display_data"
    }
   ],
   "source": [
    "temp = np.random.choice(speed, size=10)\n",
    "print(temp.mean())\n",
    "# Create fig, ax objects\n",
    "fig, ax = plt.subplots(figsize=(15, 1))\n",
    "# Plot the data points\n",
    "ax.plot(temp, zeros, 'o')\n",
    "# Remove the y ticks\n",
    "ax.set_yticks([])\n",
    "# Plot the mean\n",
    "ax.axvline(np.mean(speed), c='black')\n",
    "\n",
    "plt.show();"
   ]
  },
  {
   "cell_type": "markdown",
   "metadata": {},
   "source": [
    "I used Python to randomly choose the points (which I will show how later). As you see, we only have 7 unique points which means there are 3 points which are plotted on top of each other because we ended up with some duplicates. Then, we measured the mean and plotted it and this time it is 344.396. "
   ]
  },
  {
   "cell_type": "markdown",
   "metadata": {},
   "source": [
    "Here are the ten random points sampled from the original 10 measurements:"
   ]
  },
  {
   "cell_type": "code",
   "execution_count": 49,
   "metadata": {},
   "outputs": [
    {
     "data": {
      "text/plain": [
       "[345.59, 345.07, 340.4, 349.47, 340.92, 349.47, 340.26, 349.47, 342.91, 340.4]"
      ]
     },
     "execution_count": 49,
     "metadata": {},
     "output_type": "execute_result"
    }
   ],
   "source": [
    "list(temp)"
   ]
  },
  {
   "cell_type": "markdown",
   "metadata": {},
   "source": [
    "Above is called a single bootstrap sample. Its mean, which is 344.396, is called the bootstrap replicate or metric. Next, we should repeat these first two steps many, many, many times. For example, below I will take 100 bootstrap samples and only plot their means on a single graph:"
   ]
  },
  {
   "cell_type": "code",
   "execution_count": 59,
   "metadata": {},
   "outputs": [
    {
     "data": {
      "image/png": "[encoded data removed]",
      "text/plain": [
       "<Figure size 1080x72 with 1 Axes>"
      ]
     },
     "metadata": {},
     "output_type": "display_data"
    }
   ],
   "source": [
    "fig, ax = plt.subplots(figsize=(15, 1))\n",
    "for _ in range(100):\n",
    "    # Take a sample\n",
    "    sample = np.random.choice(speed, size=10)\n",
    "    # Plot the mean as a vertical line\n",
    "    ax.axvline(sample.mean(), color='grey', alpha=0.2)\n",
    "\n",
    "# Remove the y ticks\n",
    "ax.set_yticks([])\n",
    "\n",
    "plt.show();"
   ]
  },
  {
   "cell_type": "markdown",
   "metadata": {},
   "source": [
    "Above is a graph of 100 bootstrap replicates (means) sampled from the original 10 sound measurements. I plotted the lines with lower transparency so that overlapping lines create a denser background around the actual estimated mean. As you see, the sample mean is around 344 m/s which we can confidently use as a general average of the speed of sound in any environment."
   ]
  },
  {
   "cell_type": "markdown",
   "metadata": {},
   "source": [
    "What we just did is called *bootstrap sampling* with *replacement*. *With replacement* means selecting a random data point from the underlying sample and put it back so that all the data points have an equal chance of being chosen once again. Also, it is important that each bootstrap sample has the same length as the underlying sample. In our case, each bootstrap sample has the length of ten because we only had 10 measurements of speed to begin with."
   ]
  },
  {
   "cell_type": "markdown",
   "metadata": {},
   "source": [
    "Now, the question is why we have to assume the mean we calculated with bootstrap sampling is close to the actual population parameter. In the next, we will answer this question based on some math."
   ]
  }
 ],
 "metadata": {
  "kernelspec": {
   "display_name": "medium_articles",
   "language": "python",
   "name": "medium_articles"
  },
  "language_info": {
   "codemirror_mode": {
    "name": "ipython",
    "version": 3
   },
   "file_extension": ".py",
   "mimetype": "text/x-python",
   "name": "python",
   "nbconvert_exporter": "python",
   "pygments_lexer": "ipython3",
   "version": "3.8.5"
  }
 },
 "nbformat": 4,
 "nbformat_minor": 4
}
