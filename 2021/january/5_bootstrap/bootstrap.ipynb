{
 "cells": [
  {
   "cell_type": "markdown",
   "metadata": {},
   "source": [
    "# Why Bootstrap Sampling Is the Badass Tool of Probabilistic Thinking\n",
    "## And how you can use it in practice right now\n",
    "<img src='images/boot.jpg'></img>"
   ]
  },
  {
   "cell_type": "markdown",
   "metadata": {},
   "source": [
    "### Setup"
   ]
  },
  {
   "cell_type": "code",
   "execution_count": 1,
   "metadata": {},
   "outputs": [],
   "source": [
    "import numpy as np\n",
    "import pandas as pd\n",
    "\n",
    "import matplotlib.pyplot as plt\n",
    "import seaborn as sns\n",
    "\n",
    "sns.set_context('talk')\n",
    "plt.style.use('ggplot')"
   ]
  },
  {
   "cell_type": "markdown",
   "metadata": {},
   "source": [
    "### Introduction"
   ]
  },
  {
   "cell_type": "markdown",
   "metadata": {},
   "source": [
    "You did all your best and managed to measure the speed of sound in your room 50 times using an electronic device. Feeling very proud and excited, you look at your results:"
   ]
  },
  {
   "attachments": {
    "image.png": {
     "image/png": "[encoded data removed]"
    }
   },
   "cell_type": "markdown",
   "metadata": {},
   "source": [
    "![image.png](attachment:image.png)"
   ]
  },
  {
   "cell_type": "markdown",
   "metadata": {},
   "source": [
    "What a big slap in the face! After the first 10 measurements, there was a technical failure with the device and did not measure anything at all. What do you do now? Well, you could take the mean of the available data but how confident would you be? If the device worked correctly, the mean you compute could easily be some other number. \n",
    "\n",
    "In fact, the whole reason of measuring the speed 50 times was that you could be *confident* with your findings and make valid assumptions about the speed of sound in any environment, not just in your room. "
   ]
  },
  {
   "cell_type": "markdown",
   "metadata": {},
   "source": [
    "Do you have to go though all that pain and set up a new device to record more measurements? Heck, no! Well, at least if you know Python and a magical method called **Bootstrapping**. Bootstrapping allows you to simulate any distribution of data which basically means you avoid collecting more data and you get to make pretty sound estimates about a much larger group using only a subset. "
   ]
  },
  {
   "cell_type": "markdown",
   "metadata": {},
   "source": [
    "The concept of going from just a small sample to making predictions about the whole group using bootstrapping has vowed people for so many years. If used in practice, it can seem a little bit like cheating but in fact, it is nothing more than a combination of very little math and a whole lot of computing power. "
   ]
  },
  {
   "cell_type": "markdown",
   "metadata": {},
   "source": [
    "Even though it is a very simple method, its applications go much beyond the scope of this article. The technique has been used in leading machine learning algorithms such as [Random Forests](https://en.wikipedia.org/wiki/Random_forest#:~:text=Random%20forests%20or%20random%20decision,average%20prediction%20(regression)%20of%20the) and [Stochastic Gradient Boosting](https://en.wikipedia.org/wiki/Gradient_boosting)."
   ]
  },
  {
   "cell_type": "markdown",
   "metadata": {},
   "source": [
    "In this post, we will look at why the method works and how we can implement the method using Python to simulate data distributions which help us many predictions about populations and compute confidence intervals."
   ]
  }
 ],
 "metadata": {
  "kernelspec": {
   "display_name": "medium_articles",
   "language": "python",
   "name": "medium_articles"
  },
  "language_info": {
   "codemirror_mode": {
    "name": "ipython",
    "version": 3
   },
   "file_extension": ".py",
   "mimetype": "text/x-python",
   "name": "python",
   "nbconvert_exporter": "python",
   "pygments_lexer": "ipython3",
   "version": "3.8.5"
  }
 },
 "nbformat": 4,
 "nbformat_minor": 4
}
