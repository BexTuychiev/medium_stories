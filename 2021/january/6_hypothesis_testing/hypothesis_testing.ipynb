{
 "cells": [
  {
   "cell_type": "markdown",
   "metadata": {},
   "source": [
    "# Must-read Guide to Hypothesis Tests You Will Never Use\n",
    "## Theory + Code ## TODO\n",
    "<img src='images/cotton.jpg'></img>\n",
    "<figcaption style=\"text-align: center;\">\n",
    "    <strong>\n",
    "        Photo by \n",
    "        <a href='https://www.pexels.com/@cottonbro?utm_content=attributionCopyText&utm_medium=referral&utm_source=pexels'>Cottonbro</a>\n",
    "        on \n",
    "        <a href='https://www.pexels.com/photo/persons-hand-on-black-typewriter-6143834/?utm_content=attributionCopyText&utm_medium=referral&utm_source=pexels'>Pexels</a>\n",
    "    </strong>\n",
    "</figcaption>"
   ]
  },
  {
   "cell_type": "markdown",
   "metadata": {},
   "source": [
    "### Setup"
   ]
  },
  {
   "cell_type": "code",
   "execution_count": 1,
   "metadata": {},
   "outputs": [],
   "source": [
    "import pandas as pd\n",
    "import numpy as np\n",
    "\n",
    "import seaborn as sns\n",
    "import matplotlib.pyplot as plt\n",
    "\n",
    "sns.set_context('talk')"
   ]
  },
  {
   "cell_type": "markdown",
   "metadata": {},
   "source": [
    "### Demotivation"
   ]
  },
  {
   "cell_type": "markdown",
   "metadata": {},
   "source": [
    "Let me get your hopes down right from the beginning. You won't be using the concepts learnt from this article until you get  a  job in data science. You may practice it a few times on public datasets and that's probably it. \n",
    "\n",
    "Then, why learn them? Well, I don't want to you to be like a new-hatched bird thrown from the Everest when you *do* get a real job. So, what are we talking about here? \n",
    "\n",
    "We are talking about the icing on the cake🎂, the thing that concludes any data related projects in business and scientific research - **hypothesis testing**. It tests the results of surveys or experiments to see if they happened by chance or are actually meaningful and significant."
   ]
  },
  {
   "cell_type": "markdown",
   "metadata": {},
   "source": [
    "For example, a medical team might assess the effectiveness of a new drug💊 by giving it to two different test groups and comparing for different metrics like recovery time, side effects, etc. There is an important reason why the results are not accepted \"as is\". \n",
    "\n",
    "Any data collected for a survey or research is only a sample of the group of interest (also called the population). Medical teams can only test a new drug on a few hundred patients. Because it is impossible to test it on the whole population of patients diagnosed with a particular illness. Obviously, doctors have to make sure that a new drug works on everyone not just on the small subset they have in a single hospital. \n",
    "\n",
    "In statistical terms, this is the same as making predictions for population parameters by looking at sample statistics. In other words, making sure that the results are not too specific to the small sample obtained but applies to a wide range of individuals. "
   ]
  },
  {
   "cell_type": "markdown",
   "metadata": {},
   "source": [
    "Generally, hypothesis tests combines many concepts of statistics and probability such as conditional probability, probability distributions, confidence intervals and so on. I am not trying to scare you with fancy terms but it generally takes a while to wrap your head around hypothesis testing. So, in this article  we will only focus on theory with intuitive examples and I will leave a link to a good source to implement the theory in code. "
   ]
  },
  {
   "cell_type": "markdown",
   "metadata": {},
   "source": [
    "### Real-World Example"
   ]
  },
  {
   "cell_type": "markdown",
   "metadata": {},
   "source": [
    "### Setting Up Hypothesis"
   ]
  },
  {
   "cell_type": "markdown",
   "metadata": {},
   "source": [
    "### Types of Errors"
   ]
  },
  {
   "cell_type": "markdown",
   "metadata": {},
   "source": [
    "### p-values, true nightmare"
   ]
  },
  {
   "cell_type": "markdown",
   "metadata": {},
   "source": [
    "### Simualting With Python"
   ]
  }
 ],
 "metadata": {
  "kernelspec": {
   "display_name": "medium_articles",
   "language": "python",
   "name": "medium_articles"
  },
  "language_info": {
   "codemirror_mode": {
    "name": "ipython",
    "version": 3
   },
   "file_extension": ".py",
   "mimetype": "text/x-python",
   "name": "python",
   "nbconvert_exporter": "python",
   "pygments_lexer": "ipython3",
   "version": "3.8.5"
  }
 },
 "nbformat": 4,
 "nbformat_minor": 4
}
