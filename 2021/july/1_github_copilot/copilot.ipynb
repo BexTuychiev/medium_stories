{
 "cells": [
  {
   "cell_type": "markdown",
   "metadata": {},
   "source": [
    "# OpenAI And GitHub Launch Copilot: Your AI Code Generating Assistant\n",
    "## What it does, how it does, its weaknesses and should you be worried as a data scientist?\n",
    "![](images/1.png)\n",
    "<figcaption style=\"text-align: center;\">\n",
    "    <strong>\n",
    "        Screenshot of Copilot's Homepage\n",
    "    </strong>\n",
    "</figcaption>"
   ]
  },
  {
   "cell_type": "markdown",
   "metadata": {},
   "source": [
    "What can I a $1 billion investment buy?\n",
    "\n",
    "On Tuesday this week, OpenAI and GitHub answered this question boldly with the announcement of a new AI tool - GitHub Copilot. It generates code that matches the user's and is much better at this than its predecessor - GPT-3.\n",
    "\n",
    "PASTE THE TWEET HERE\n",
    "\n",
    "Copilot autocompletes code snippets, suggests new lines of code and can even write whole functions based on the description provided. According to the GitHub blog, the tool is not just a language-generating algorithm based on user input - it is a virtual pair programmer. It learns and adapts to the user's coding habits, analyzes the available codebase and generates suggestions backed by billions of lines of public code it has been trained on.\n",
    "\n",
    "It is the first taste of Microsoft's $1 billion investment into OpenAI - research and development company specializing AGI (Artificial General Intelligence)."
   ]
  },
  {
   "cell_type": "code",
   "execution_count": null,
   "metadata": {},
   "outputs": [],
   "source": []
  }
 ],
 "metadata": {
  "kernelspec": {
   "display_name": "medium_articles",
   "language": "python",
   "name": "medium_articles"
  },
  "language_info": {
   "codemirror_mode": {
    "name": "ipython",
    "version": 3
   },
   "file_extension": ".py",
   "mimetype": "text/x-python",
   "name": "python",
   "nbconvert_exporter": "python",
   "pygments_lexer": "ipython3",
   "version": "3.8.5"
  }
 },
 "nbformat": 4,
 "nbformat_minor": 4
}
