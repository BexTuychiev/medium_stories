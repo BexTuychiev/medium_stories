{
 "cells": [
  {
   "cell_type": "markdown",
   "metadata": {},
   "source": [
    "# OpenAI And GitHub Launch Copilot: Your AI Code Generating Assistant\n",
    "## What it does, how it does, its flaws and should you be worried as a data scientist?\n",
    "![](images/1.png)\n",
    "<figcaption style=\"text-align: center;\">\n",
    "    <strong>\n",
    "        Screenshot of Copilot's Homepage\n",
    "    </strong>\n",
    "</figcaption>"
   ]
  },
  {
   "cell_type": "markdown",
   "metadata": {},
   "source": [
    "What can I a $1 billion investment buy?\n",
    "\n",
    "On Tuesday this week, OpenAI and GitHub answered this question boldly with the preview of a new AI tool - GitHub Copilot. It generates code that matches the user's and is much better at this than its predecessor - GPT-3.\n",
    "\n",
    "PASTE THE TWEET HERE\n",
    "\n",
    "Copilot autocompletes code snippets, suggests new lines of code and can even write whole functions based on the description provided. According to the GitHub blog, the tool is not just a language-generating algorithm based on user input - it is a virtual pair programmer. It learns and adapts to the user's coding habits, analyzes the available codebase and generates suggestions backed by billions of lines of public code it has been trained on.\n",
    "\n",
    "It is the first taste of Microsoft's $1 billion investment into OpenAI - research and development company specializing AGI (Artificial General Intelligence)."
   ]
  },
  {
   "cell_type": "markdown",
   "metadata": {},
   "source": [
    "### How does it work?"
   ]
  },
  {
   "cell_type": "markdown",
   "metadata": {},
   "source": [
    "At its core, GitHub Copilot uses a new language-generating algorithm by OpenAI called Codex. OpenAI CEO Greg Brockman describes it as the descendant of GPT-3 but narrowly focused on code generations. \n",
    "\n",
    "Codex algorithm has been trained on terabytes of public code pulled from GitHub and natural language. The fact that its training data contains a much larger proportion of human code, it excels at code generation than GPT-3.\n",
    "\n",
    "PASTE ANOTHER TWEET HERE.\n",
    "\n",
    "Currently, its technical preview lives as a Visual Studio Code extension and the spots for technical preview are limited. The extension sends your code and comments to the GitHub Copilot services which use Codex algorithm to synthesize and create suggestions. It speaks virtually any programming language but is found to work best with Python, JavaScript, TypeScript, Ruby, and Go.\n",
    "\n",
    "According to users who have been testing it, the tool can generate up to 10 suggestion for a single snippet and it records whether you accept or reject the suggestion. This telemetry information is further used to make the future versions of the algorithm even better. "
   ]
  },
  {
   "cell_type": "markdown",
   "metadata": {},
   "source": [
    "### How good is it?"
   ]
  },
  {
   "cell_type": "markdown",
   "metadata": {},
   "source": [
    "The tool's website writes about the benchmark test conducted by GitHub. The tool was tested on a set of Python functions that have good test convergence in open-source repositories. \n",
    "\n",
    "All the function bodies have been deleted and the only context provided was the function names and their docstrings. Copilot was able to fill them in correctly 43% of the time and the accuracy increased to 57% after allowing 10 attempts. \n",
    "\n",
    "This is truly a remarkable phenomenon since the tool generates working code you can use in your projects. Given that it will be used by millions once it goes public, it will have the ability to speed up development significantly.\n",
    "\n",
    "ANOTHER TWEET HERE\n",
    "\n",
    "To get the most out of it, it is suggested to divide the code into small functions, provide meaningful function names, parameters and docstrings. In other words, it truly is your pair programmer - it makes you follow software engineering best practices and in return, it gets to learn from your code to improve its suggestions to others."
   ]
  },
  {
   "cell_type": "markdown",
   "metadata": {},
   "source": [
    "### What is the quality of the generated code?"
   ]
  },
  {
   "cell_type": "markdown",
   "metadata": {
    "tags": []
   },
   "source": [
    "Even though Copilot generates correct suggestions almost half the time, the tool's website says its output should be carefully monitored:\n",
    "\n",
    "> GitHub Copilot tries to understand your intent and tries to generate the best code it can, but the code it suggests may not always work, or even make sense.\n",
    "\n",
    "The quality of the suggestions also depends on the code you have already written. For now, Copilot can only use the current file as a context to make the generated code more compatible. It also does not test its own code meaning it may not even run or compile.\n",
    "\n",
    "Besides, the FAQs say you use the tool at your own risk since it can suggest old or deprecated uses of libraries and frameworks. \n",
    "\n",
    "There are also concerns around the fact that Copilot was trained on millions of people's code. An obvious question is \"Will it ever repeat the code from the training data\", to which the website answers 'yes'. It has been observed that there is 0.1% chance the tool leaks code from the training set. \n",
    "\n",
    "THE ZEN OF PYTHON\n",
    "![](https://docs.github.com/assets/images/help/copilot/resources_recitation_example_zen.gif)\n",
    "\n",
    "Framing this probability as a percentage might not show the bigger picture. One in a 1000 chance is actually more serious considering that for each code snippet, there will be up to 10 suggestions generated. \n",
    "\n",
    "However, an in-depth case study on this problem showed that these instances only happen when there is not sufficient context to learn from. In particular, the algorithm was more likely to make these mistakes when the current file was short or empty. "
   ]
  }
 ],
 "metadata": {
  "kernelspec": {
   "display_name": "medium_articles",
   "language": "python",
   "name": "medium_articles"
  },
  "language_info": {
   "codemirror_mode": {
    "name": "ipython",
    "version": 3
   },
   "file_extension": ".py",
   "mimetype": "text/x-python",
   "name": "python",
   "nbconvert_exporter": "python",
   "pygments_lexer": "ipython3",
   "version": "3.8.5"
  }
 },
 "nbformat": 4,
 "nbformat_minor": 4
}
