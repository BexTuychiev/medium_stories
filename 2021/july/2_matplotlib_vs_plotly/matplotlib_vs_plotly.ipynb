{
 "cells": [
  {
   "cell_type": "markdown",
   "metadata": {},
   "source": [
    "# Matplotlib vs. Plotly: Let's Decide Once and for All\n",
    "## Deep and rapid comparison in terms of 8 aspects\n",
    "![](images/1.png)\n",
    "<figcaption style=\"text-align: center;\">\n",
    "    <strong>\n",
    "        Goofy Image by Author\n",
    "    </strong>\n",
    "</figcaption>"
   ]
  },
  {
   "cell_type": "markdown",
   "metadata": {},
   "source": [
    "### Setup"
   ]
  },
  {
   "cell_type": "code",
   "execution_count": 1,
   "metadata": {},
   "outputs": [],
   "source": [
    "import warnings\n",
    "\n",
    "warnings.filterwarnings('ignore')"
   ]
  },
  {
   "cell_type": "markdown",
   "metadata": {},
   "source": [
    "There is an annoying habit of soccer fans. Whenever a young but admittedly exceptional player emerges they start comparing him to legends like Messi or Ronaldo. They choose to forget that the legends have been dominating the game since before the newbies had regrown teeth. \n",
    "\n",
    "Comparing Plotly to Matplotlib was, in a sense, similar to that in the beginning. Matplotlib had been in heavy use sine 2003 and Plotly had just come out in 2014. Many were bored with Matplotlib by this time, so Plotly was warmly welcomed for its freshness and interactivity. Still, the library couldn't hope to steal the top spot as the king of Python plotting packages from Matplotlib.\n",
    "\n",
    "In 2019, things changed dramatically when Plotly released its Express API in July. This fueled an explosion of interest into the library and people started using it left and right. With another major version (5.0.0) released in June this year, I think the library is more that enough mature to start compraring it Matplotlib seriously.\n",
    "\n",
    "With that said, let's get started:"
   ]
  },
  {
   "cell_type": "code",
   "execution_count": null,
   "metadata": {},
   "outputs": [],
   "source": []
  }
 ],
 "metadata": {
  "kernelspec": {
   "display_name": "medium_articles",
   "language": "python",
   "name": "medium_articles"
  },
  "language_info": {
   "codemirror_mode": {
    "name": "ipython",
    "version": 3
   },
   "file_extension": ".py",
   "mimetype": "text/x-python",
   "name": "python",
   "nbconvert_exporter": "python",
   "pygments_lexer": "ipython3",
   "version": "3.8.5"
  }
 },
 "nbformat": 4,
 "nbformat_minor": 4
}
