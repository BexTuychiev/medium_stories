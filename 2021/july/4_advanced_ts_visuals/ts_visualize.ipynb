{
 "cells": [
  {
   "cell_type": "markdown",
   "metadata": {},
   "source": [
    "# Advanced Time Series Visualization in Python: Decomposition of Seasonality, Trend and Autocorrelation\n",
    "## Analyze seasonality, trend and learn about cool plots like ClusterMaps\n",
    "![](images/pexels.jpg)\n",
    "<figcaption style=\"text-align: center;\">\n",
    "    <strong>\n",
    "        Photo by \n",
    "        <a href='https://www.pexels.com/@bentonphotocinema?utm_content=attributionCopyText&utm_medium=referral&utm_source=pexels'>Jordan Benton</a>\n",
    "        on \n",
    "        <a href='https://www.pexels.com/photo/shallow-focus-photography-of-hourglass-1095602/?utm_content=attributionCopyText&utm_medium=referral&utm_source=pexels'>Pexels</a>\n",
    "    </strong>\n",
    "</figcaption>"
   ]
  },
  {
   "cell_type": "markdown",
   "metadata": {},
   "source": [
    "## Setup"
   ]
  },
  {
   "cell_type": "code",
   "execution_count": 1,
   "metadata": {},
   "outputs": [],
   "source": [
    "import warnings\n",
    "\n",
    "import matplotlib.pyplot as plt\n",
    "import numpy as np\n",
    "import pandas as pd\n",
    "import seaborn as sns\n",
    "from matplotlib import rcParams\n",
    "\n",
    "rcParams[\"figure.figsize\"] = [12, 9]\n",
    "rcParams[\"xtick.labelsize\"] = 15\n",
    "rcParams[\"ytick.labelsize\"] = 15\n",
    "\n",
    "warnings.filterwarnings(\"ignore\")"
   ]
  },
  {
   "cell_type": "markdown",
   "metadata": {},
   "source": [
    "## Introduction"
   ]
  },
  {
   "cell_type": "markdown",
   "metadata": {},
   "source": [
    "Following my [very well-received post](https://towardsdatascience.com/every-pandas-function-you-can-should-use-to-manipulate-time-series-711cb0c5c749?source=your_stories_page-------------------------------------) and [Kaggle notebook](https://www.kaggle.com/bextuychiev/every-pandas-function-to-manipulate-time-series/comments) on every single Pandas function to manipulate time series, it is time to take the trajectory of this TS project to visualization.\n",
    "\n",
    "This post isn't about how you should plot the date on the XAxis and the time series on YAxis. No.\n",
    "\n",
    "It is about the core processes that make up a professional time series analyses. Specifically, we will talk about: \n",
    "- Decomposition of time series - seasonality and trend analysis\n",
    "- Calculating autocorrelation and partial autocorrelation and what they represent\n",
    "- Analyzing and comparing multiple time series simultaneously\n",
    "\n",
    "and if seasonality or trends among multiple series affect each other. Most importantly, we will build some very cool visualizations and the display image should be a preview of what you will be learning.\n",
    "\n",
    "I hope you are as excited as I was when writing this post."
   ]
  },
  {
   "cell_type": "markdown",
   "metadata": {},
   "source": [
    "## Decomposition of Time Series "
   ]
  }
 ],
 "metadata": {
  "kernelspec": {
   "display_name": "medium_articles",
   "language": "python",
   "name": "medium_articles"
  },
  "language_info": {
   "codemirror_mode": {
    "name": "ipython",
    "version": 3
   },
   "file_extension": ".py",
   "mimetype": "text/x-python",
   "name": "python",
   "nbconvert_exporter": "python",
   "pygments_lexer": "ipython3",
   "version": "3.8.5"
  }
 },
 "nbformat": 4,
 "nbformat_minor": 4
}
