{
 "cells": [
  {
   "cell_type": "markdown",
   "metadata": {},
   "source": [
    "# 3 Proven Ways to Make Time Series Data Stationary in Python\n",
    "## Algorithms can't handle non-stationary. They need something static\n",
    "![](images/unsplash.jpg)\n",
    "<figcaption style=\"text-align: center;\">\n",
    "    <strong>\n",
    "        Photo by \n",
    "        <a href='https://unsplash.com/@jonathanpielmayer?utm_source=unsplash&utm_medium=referral&utm_content=creditCopyText'>Jonathan Pielmayer</a>\n",
    "        on \n",
    "        <a href='https://unsplash.com/s/photos/still?utm_source=unsplash&utm_medium=referral&utm_content=creditCopyText'>Unsplash.</a> All images are by author unless specified otherwise.\n",
    "    </strong>\n",
    "</figcaption>"
   ]
  },
  {
   "cell_type": "markdown",
   "metadata": {},
   "source": [
    "## Setup"
   ]
  },
  {
   "cell_type": "code",
   "execution_count": 1,
   "metadata": {},
   "outputs": [],
   "source": [
    "import warnings\n",
    "\n",
    "import matplotlib.pyplot as plt\n",
    "import numpy as np\n",
    "import pandas as pd\n",
    "import seaborn as sns\n",
    "\n",
    "warnings.filterwarnings(\"ignore\")\n",
    "plt.style.use(\"ggplot\")"
   ]
  },
  {
   "cell_type": "markdown",
   "metadata": {},
   "source": [
    "## Introduction"
   ]
  },
  {
   "cell_type": "markdown",
   "metadata": {},
   "source": [
    "Unlike ordinary machine learning problems, time series forecasting requires *extra* preprocessing steps. \n",
    "\n",
    "On top of the normality assumptions, the majority of ML algorithms expect a *static relationship* between the input features and the output. \n",
    "\n",
    "A static relationship requires inputs and outputs that have constant parameters such as mean, median and variance. In other words, algorithms perform best when the inputs and outputs are *stationary*. \n",
    "\n",
    "This is not the case in time series forecasting. Distributions that change over time can have unique properties such as seasonality and trend. These, in turn, cause mean and variance of the series to fluctuate making it hard to model their behavior.\n",
    "\n",
    "So, making a distribution stationary is a strict requirement in time series forecasting. In this article, we will explore several techniques to detect non-stationary distributions and convert them into stationary data."
   ]
  },
  {
   "cell_type": "markdown",
   "metadata": {},
   "source": [
    "## Examples of non-stationary series"
   ]
  },
  {
   "cell_type": "markdown",
   "metadata": {},
   "source": [
    "Take a look at these plots and try to guess which of the lines represent a stationary series:\n",
    "\n",
    "![](https://otexts.com/fpp2/fpp_files/figure-html/stationary-1.png)"
   ]
  },
  {
   "cell_type": "markdown",
   "metadata": {},
   "source": [
    "Remembering that stationary series have a constant variance, we can rule out **a, c, e, f** and **i**. These plots show a clear upward or downward trend or changing levels like in **f**. \n",
    "\n",
    "**d** and **h** show seasonal patterns, we can rule them out too. But how about **g** - the pattern does look it is seasonal. \n",
    "\n",
    "**g** is the plot of the population growth of [lynxes](https://en.wikipedia.org/wiki/Lynx). When food becomes scarce, they stop breeding causing the population numbers to plummet. When the food sources replenish, they start reproducing again making the population grow. \n",
    "\n",
    "This cyclic behavior is not the same as seasonality. When seasonality exists, you know exactly what will happen after a certain period of time. In contrast, the cyclic behavior of lynx population growth is unpredictable. You can't guess the timing of the food cycles making this series stationary.\n",
    "\n",
    "So, the only stationary series are **b** and **g**. \n",
    "\n",
    "Tricky distributions like **d, f** and **h** can make you question whether identifying non-stationary data visually is the best option. As you observed, it is pretty easy to confuse seasonality to random cycles or trends to white noise. \n",
    "\n",
    "For this reason, the next section will be about statistical methods of detecting non-stationary time series."
   ]
  }
 ],
 "metadata": {
  "kernelspec": {
   "display_name": "medium_articles",
   "language": "python",
   "name": "medium_articles"
  },
  "language_info": {
   "codemirror_mode": {
    "name": "ipython",
    "version": 3
   },
   "file_extension": ".py",
   "mimetype": "text/x-python",
   "name": "python",
   "nbconvert_exporter": "python",
   "pygments_lexer": "ipython3",
   "version": "3.8.5"
  }
 },
 "nbformat": 4,
 "nbformat_minor": 4
}
