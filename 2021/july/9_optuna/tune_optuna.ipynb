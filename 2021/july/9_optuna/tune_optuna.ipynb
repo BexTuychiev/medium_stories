{
 "cells": [
  {
   "cell_type": "markdown",
   "metadata": {},
   "source": [
    "# Why Is Everyone at Kaggle Obsessed with Optuna For Hyperparameter Tuning?\n",
    "## Let's find out by trying it out...\n",
    "![](images/pixabay.jpg)\n",
    "<figcaption style=\"text-align: center;\">\n",
    "    <strong>\n",
    "        Photo by \n",
    "        <a href='https://pixabay.com/users/bomei615-2623913/?utm_source=link-attribution&utm_medium=referral&utm_campaign=image&utm_content=1751855'>Bo Mei</a>\n",
    "        on \n",
    "        <a href='https://pixabay.com/?utm_source=link-attribution&utm_medium=referral&utm_campaign=image&utm_content=1751855'>Pixabay.</a> All images are by author unless specified otherwise.\n",
    "    </strong>\n",
    "</figcaption>"
   ]
  },
  {
   "cell_type": "markdown",
   "metadata": {},
   "source": [
    "## Setup"
   ]
  },
  {
   "cell_type": "code",
   "execution_count": 10,
   "metadata": {},
   "outputs": [],
   "source": [
    "import matplotlib.pyplot as plt\n",
    "import numpy as np\n",
    "import optuna\n",
    "import pandas as pd\n",
    "import seaborn as sns\n",
    "\n",
    "optuna.logging.set_verbosity(optuna.logging.WARNING)"
   ]
  },
  {
   "cell_type": "markdown",
   "metadata": {},
   "source": [
    "## Introduction"
   ]
  },
  {
   "cell_type": "markdown",
   "metadata": {},
   "source": [
    "Turns out, I have been living under a rock...\n",
    "\n",
    "Every single MOOC I have taken taught me to use GridSearch for hyperparameter tuning. Naively, I loved it and went the extra mile to learn its cousins - Randomized GridSearch and Halving GridSearch.\n",
    "\n",
    "Even though they were great, I somehow tried to avoid hyperparameter tuning as much as possible. Why?\n",
    "\n",
    "First, they take such a damn long time to train. We are talking in multiples of 24-hour sessions if you are doing an exhaustive GridSearch. If you are not, then there is a pretty high chance randomized search comes up with hyperparameters that are actually worse than the defaults.\n",
    "\n",
    "While I was complaining, Kagglers have been using Optuna almost exclusively for the past 2 years to do hyperparameter tuning. \n",
    "\n",
    "After giving it a try, I am truly amazed at how it takes the whole tuning experience to the next level. So, without further ado, let me show you how to use it in your own workflow."
   ]
  },
  {
   "cell_type": "markdown",
   "metadata": {},
   "source": [
    "## What is Optuna?"
   ]
  },
  {
   "cell_type": "markdown",
   "metadata": {},
   "source": [
    "![](https://raw.githubusercontent.com/optuna/optuna/master/docs/image/optuna-logo.png)\n",
    "<figcaption style=\"text-align: center;\">\n",
    "    <strong>\n",
    "        Optuna logo\n",
    "    </strong>\n",
    "</figcaption>"
   ]
  },
  {
   "cell_type": "markdown",
   "metadata": {},
   "source": [
    "Optuna is a next-generation automatic hyperparameter tuning framework, written completely in Python.\n",
    "\n",
    "Its most prominent features are:\n",
    "- the ability to define Pythonic search spaces using loops and conditionals. \n",
    "- completely platform agnostic API - using Optuna, you can tune estimators of almost any ML, DL package/framework including Sklearn, PyTorch, TensorFlow, Keras, XGBoost, LightGBM, CatBoost, etc.\n",
    "- a large suite of optimization algorithms with early stopping and pruning features baked in.\n",
    "- easy parallelization with little or no changes to the code.\n",
    "- built-in support for visual exploration of search results."
   ]
  },
  {
   "cell_type": "markdown",
   "metadata": {},
   "source": [
    "## Optuna basics"
   ]
  },
  {
   "cell_type": "markdown",
   "metadata": {},
   "source": [
    "Let's familiarize ourselves with Optuna API by tuning a simple function like $(x-1)^2 + (y+3)^2$. We know the function converges to its minimum at x=1 and y=-3. Let's see if Optuna can find these:"
   ]
  },
  {
   "cell_type": "code",
   "execution_count": 8,
   "metadata": {},
   "outputs": [],
   "source": [
    "import optuna  # pip install optuna\n",
    "\n",
    "\n",
    "def objective(trial):\n",
    "    x = trial.suggest_float(\"x\", -7, 7)\n",
    "    y = trial.suggest_float(\"y\", -7, 7)\n",
    "    return (x - 1) ** 2 + (y + 3) ** 2"
   ]
  },
  {
   "cell_type": "markdown",
   "metadata": {},
   "source": [
    "After importing `optuna`, we define an objective that returns the function we want to minimize. \n",
    "\n",
    "In the body of the objective, we define the parameters to be optimized, in this case simple `x` and `y`. The argument `trial` is a special Trial object of optuna which does the optimization for each hyperparameter. \n",
    "\n",
    "Along many others, it has a `suggest_float` method which takes the name of the hyperparameter and the range to look for its optimal value. In other words\n",
    "\n",
    "```\n",
    "x = trial.suggest_float(\"x\", -7, 7)\n",
    "```\n",
    "is almost the same as `{\"x\": np.arange(-7, 7)}` when doing GridSearch.\n",
    "\n",
    "To start the optimization, we create a `study` object from Optuna and pass the `objective` function to its `optimize` method:"
   ]
  },
  {
   "cell_type": "code",
   "execution_count": 11,
   "metadata": {},
   "outputs": [],
   "source": [
    "study = optuna.create_study()\n",
    "study.optimize(objective, n_trials=100)  # number of iterations"
   ]
  },
  {
   "cell_type": "code",
   "execution_count": 13,
   "metadata": {},
   "outputs": [
    {
     "data": {
      "text/plain": [
       "{'x': 0.8806708977164549, 'y': -3.0941841160297767}"
      ]
     },
     "execution_count": 13,
     "metadata": {},
     "output_type": "execute_result"
    }
   ],
   "source": [
    "study.best_params"
   ]
  },
  {
   "cell_type": "markdown",
   "metadata": {},
   "source": [
    "Pretty close but not as close as you would want. Here, we only did 100 trials, as can be seen with:"
   ]
  },
  {
   "cell_type": "code",
   "execution_count": 15,
   "metadata": {},
   "outputs": [
    {
     "data": {
      "text/plain": [
       "100"
      ]
     },
     "execution_count": 15,
     "metadata": {},
     "output_type": "execute_result"
    }
   ],
   "source": [
    "len(study.trials)"
   ]
  },
  {
   "cell_type": "markdown",
   "metadata": {},
   "source": [
    "Here, I will introduce the first magic that comes with Optuna. We can resume the optimization even after it is finished if we are not satisfied with the results! \n",
    "\n",
    "This is a huge advantage over other tools because after the search is done, they completely forget the history of previous trials. Optuna does not!\n",
    "\n",
    "To continue searching, just call `optimize` again with the desired params. Here, we will add 100 more trials:"
   ]
  },
  {
   "cell_type": "code",
   "execution_count": 21,
   "metadata": {},
   "outputs": [],
   "source": [
    "study.optimize(objective, n_trials=100)"
   ]
  },
  {
   "cell_type": "code",
   "execution_count": 22,
   "metadata": {},
   "outputs": [
    {
     "data": {
      "text/plain": [
       "{'x': 1.045706853335669, 'y': -2.9501109059847512}"
      ]
     },
     "execution_count": 22,
     "metadata": {},
     "output_type": "execute_result"
    }
   ],
   "source": [
    "study.best_params"
   ]
  },
  {
   "cell_type": "markdown",
   "metadata": {},
   "source": [
    "As you can see, the results are much closer to the optimal parameters. "
   ]
  },
  {
   "cell_type": "markdown",
   "metadata": {},
   "source": [
    "## A note on Optuna terminology and conventions"
   ]
  },
  {
   "cell_type": "markdown",
   "metadata": {},
   "source": [
    "In Optuna, the whole optimization process is called a *study*. For example, tuning XGBoost parameters with a log loss as a metric is one study:"
   ]
  },
  {
   "cell_type": "code",
   "execution_count": 34,
   "metadata": {},
   "outputs": [
    {
     "data": {
      "text/plain": [
       "optuna.study.Study"
      ]
     },
     "execution_count": 34,
     "metadata": {},
     "output_type": "execute_result"
    }
   ],
   "source": [
    "study = optuna.create_study()\n",
    "type(study)"
   ]
  },
  {
   "cell_type": "markdown",
   "metadata": {},
   "source": [
    "Study needs a function it can optimize. Typically, this function is defined by the user and by convention, it should be named `objective`. \n",
    "\n",
    "The objective function is expected to have this signature:"
   ]
  },
  {
   "cell_type": "code",
   "execution_count": 35,
   "metadata": {},
   "outputs": [],
   "source": [
    "def objective(trial: optuna.Trial):\n",
    "    \"\"\"Conventional optimization function\n",
    "    signature for optuna.\n",
    "    \"\"\"\n",
    "    custom_metric = ...\n",
    "    return custom_metric"
   ]
  },
  {
   "cell_type": "markdown",
   "metadata": {},
   "source": [
    "It should accept `optuna.Trial` object as a parameter and return the metric we want to optimize for. \n",
    "\n",
    "As we saw in the first example, a study is a collection of *trials* where in each trial, we evaluate the objective function using a single set of hyperparameters from the given search space. \n",
    "\n",
    "Each trial in the study is represented as `optuna.Trial` class. This class is key to how Optuna finds optimal values for parameters. \n",
    "\n",
    "To start a study, we create a study object with `direction`:"
   ]
  },
  {
   "cell_type": "code",
   "execution_count": 36,
   "metadata": {},
   "outputs": [],
   "source": [
    "study = optuna.create_study(direction=\"maximize\")"
   ]
  },
  {
   "cell_type": "markdown",
   "metadata": {},
   "source": [
    "If the metric we want to optimize is a point-performance score like ROC AUC or accuracy, we set the direction to `maximize`. Otherwise, we minimize a loss function like RMSE, RMSLE, log loss, etc. by setting direction to `minimize`. \n",
    "\n",
    "Then, we will call the `optimize` method of the study passing the objective function name and the number of \n",
    "trials we want:\n",
    "\n",
    "```python\n",
    "# Optimization with 100 trials\n",
    "study.optimize(objective, n_trials=100)\n",
    "```\n",
    "\n",
    "Next, we will take a closer look into creating the objective functions."
   ]
  },
  {
   "cell_type": "markdown",
   "metadata": {},
   "source": [
    "## Defining the search space"
   ]
  },
  {
   "cell_type": "markdown",
   "metadata": {},
   "source": [
    "Usually, the first thing you do in an objective function is to create the search space using built-in Optuna methods:"
   ]
  },
  {
   "cell_type": "code",
   "execution_count": 39,
   "metadata": {},
   "outputs": [],
   "source": [
    "def objective(trial):\n",
    "    rf_params = {\n",
    "        \"n_estimators\": trial.suggest_integer(name=\"n_estimators\", low=100, high=2000),\n",
    "        \"max_depth\": trial.suggest_float(\"max_depth\", 3, 8),\n",
    "        \"max_features\": trial.suggest_categorical(\n",
    "            \"max_features\", choices=[\"auto\", \"sqrt\", \"log2\"]\n",
    "        ),\n",
    "        \"n_jobs\": -1,\n",
    "        \"random_state\": 1121218,\n",
    "    }\n",
    "\n",
    "    rf = RandomForestRegressor(**rf_params)\n",
    "    ..."
   ]
  },
  {
   "cell_type": "markdown",
   "metadata": {},
   "source": [
    "In the above objective function, we are creating a small search space of Random Forest hyperparameters. \n",
    "\n",
    "The search space is a plain-old dictionary. To create possible values to search over, you must use trial object's `suggest_*` functions. \n",
    "\n",
    "These functions require at least the hyperparameter name, min and max of the range to search over or possible categories for categorical hyperparameters.\n",
    "\n",
    "To make the space smaller, `suggest_float` and `suggest_int` have additional `step` or `log` arguments:"
   ]
  },
  {
   "cell_type": "code",
   "execution_count": 43,
   "metadata": {},
   "outputs": [],
   "source": [
    "from sklearn.ensemble import GradientBoostingRegressor\n",
    "\n",
    "\n",
    "def objective(trial):\n",
    "    params = {\n",
    "        \"n_estimators\": trial.suggest_int(\"n_estimators\", 1000, 10000, step=200),\n",
    "        \"learning_rate\": trial.suggest_float(\"learning_rate\", 1e7, 0.3, log=True),\n",
    "        \"max_depth\": trial.suggest_int(\"max_depth\", 3, 12, step=2),\n",
    "        \"random_state\": 1121218,\n",
    "    }\n",
    "    boost_reg = GradientBoostingRegressor(**params)\n",
    "    rmsle = ...\n",
    "    return rmsle"
   ]
  },
  {
   "cell_type": "markdown",
   "metadata": {},
   "source": [
    "Above we are binning the distribution of `n_estimators` by 200-intervals to make it sparser. Also, `learning_rate` is defined at a logarithmic scale. "
   ]
  },
  {
   "cell_type": "markdown",
   "metadata": {},
   "source": [
    "## How are possible parameters sampled?"
   ]
  },
  {
   "cell_type": "markdown",
   "metadata": {},
   "source": [
    "Under the hood, Optuna has a number of classes responsible for parameter sampling. These are:\n",
    "- `GridSampler`: the same as GridSearch of Sklearn. Never use for large search spaces!\n",
    "- `RandomSampler`: the same as RandomizedGridSearch of Sklearn.\n",
    "- `TPESampler`: Tree-structured Parzen Estimator sampler - bayesian optimization using kernel fitting\n",
    "- `CmaEsSampler`: a sampler based on CMA ES algorithm (does not allow categorical hyperparameters).\n",
    "\n",
    "> I have no idea of how the last two samplers work and I don't expect this to affect any interaction I have with Optuna. \n",
    "\n",
    "Just know that TPE Sampler is used by default - it tries to sample hyperparameter candidates by trying to improve on the last trial's scores. In other words, you can expect an incremental (maybe marginal) iprovements from trial to trial with this sampler.\n",
    "\n",
    "If you ever want to switch samplers, this is how you do it:"
   ]
  },
  {
   "cell_type": "code",
   "execution_count": 44,
   "metadata": {},
   "outputs": [],
   "source": [
    "from optuna.samplers import CmaEsSampler, RandomSampler\n",
    "\n",
    "# Study with a random sampler\n",
    "study = optuna.create_study(sampler=RandomSampler(seed=1121218))\n",
    "\n",
    "# Study with a CMA ES sampler\n",
    "study = optuna.create_study(sampler=CmaEsSampler(seed=1121218))"
   ]
  },
  {
   "cell_type": "markdown",
   "metadata": {},
   "source": [
    "## End-to-end example with GradientBoostingRegressor"
   ]
  },
  {
   "cell_type": "markdown",
   "metadata": {},
   "source": [
    "Let's put everything we have learned into something tangible. We will be predicting penguin body weights using a number of numeric and categorical features. \n",
    "\n",
    "We will establish a base score with Sklearn GradientBoostingRegressor and improve it by tuning with Optuna:"
   ]
  },
  {
   "cell_type": "code",
   "execution_count": 50,
   "metadata": {},
   "outputs": [],
   "source": [
    "import seaborn as sns\n",
    "from sklearn.ensemble import GradientBoostingRegressor\n",
    "from sklearn.model_selection import KFold, cross_validate, train_test_split\n",
    "\n",
    "# Load data\n",
    "penguins = sns.load_dataset(\"penguins\").dropna()\n",
    "X, y = penguins.drop(\"body_mass_g\", axis=1), penguins[[\"body_mass_g\"]]\n",
    "\n",
    "# OH encode categoricals\n",
    "X = pd.get_dummies(X)\n",
    "\n",
    "# Init model with defaults\n",
    "gr_reg = GradientBoostingRegressor(random_state=1121218)\n",
    "\n",
    "kf = KFold(n_splits=5, shuffle=True, random_state=1121218)\n",
    "scores = cross_validate(\n",
    "    gr_reg, X, y, cv=kf, scoring=\"neg_mean_squared_log_error\", n_jobs=-1\n",
    ")"
   ]
  },
  {
   "cell_type": "code",
   "execution_count": 53,
   "metadata": {},
   "outputs": [
    {
     "name": "stdout",
     "output_type": "stream",
     "text": [
      "Base RMSLE: 0.07573\n"
     ]
    }
   ],
   "source": [
    "rmsle = np.sqrt(-scores[\"test_score\"].mean())\n",
    "print(f\"Base RMSLE: {rmsle:.5f}\")"
   ]
  },
  {
   "cell_type": "markdown",
   "metadata": {},
   "source": [
    "Now, we will create the `objective` function and define the search space:"
   ]
  },
  {
   "cell_type": "code",
   "execution_count": 58,
   "metadata": {},
   "outputs": [],
   "source": [
    "def objective(trial, X, y, cv, scoring):\n",
    "    params = {\n",
    "        \"n_estimators\": trial.suggest_int(\"n_estimators\", 100, 5000, step=100),\n",
    "        \"learning_rate\": trial.suggest_float(\"learning_rate\", 1e-4, 0.3, log=True),\n",
    "        \"max_depth\": trial.suggest_int(\"max_depth\", 3, 9),\n",
    "        \"subsample\": trial.suggest_float(\"subsample\", 0.5, 0.9, step=0.1),\n",
    "        \"max_features\": trial.suggest_categorical(\n",
    "            \"max_features\", [\"auto\", \"sqrt\", \"log2\"]\n",
    "        ),\n",
    "        \"random_state\": 1121218,\n",
    "        \"n_iter_no_change\": 50,  # early stopping\n",
    "        \"validation_fraction\": 0.05,\n",
    "    }\n",
    "    # Perform CV\n",
    "    gr_reg = GradientBoostingRegressor(**params)\n",
    "    scores = cross_validate(gr_reg, X, y, cv=cv, scoring=scoring, n_jobs=-1)\n",
    "    # Compute RMSLE\n",
    "    rmsle = np.sqrt(-scores[\"test_score\"].mean())\n",
    "\n",
    "    return rmsle"
   ]
  },
  {
   "cell_type": "markdown",
   "metadata": {},
   "source": [
    "This objective function is slightly different - it accepts additional arguments for the data sets, scoring and `cv`. That's why we have to wrap it inside another function. Generally, you do this with a `lambda` function like below (only if the `objective` accepts more than just `trial` object):"
   ]
  },
  {
   "cell_type": "code",
   "execution_count": 59,
   "metadata": {},
   "outputs": [
    {
     "name": "stdout",
     "output_type": "stream",
     "text": [
      "Wall time: 1min 3s\n"
     ]
    }
   ],
   "source": [
    "%%time\n",
    "\n",
    "# Create study that minimizes\n",
    "study = optuna.create_study(direction=\"minimize\")\n",
    "# Wrap the objective inside a lambda with the relevant arguments\n",
    "kf = KFold(n_splits=5, shuffle=True, random_state=1121218)\n",
    "# Pass additional arguments inside another function\n",
    "func = lambda trial: objective(trial, X, y, cv=kf, scoring=\"neg_mean_squared_log_error\")\n",
    "\n",
    "# Start optimizing with 100 trials\n",
    "study.optimize(func, n_trials=100)"
   ]
  },
  {
   "cell_type": "code",
   "execution_count": 62,
   "metadata": {},
   "outputs": [
    {
     "name": "stdout",
     "output_type": "stream",
     "text": [
      "Base RMSLE    : 0.07573\n",
      "Optimized RMSE: 0.07177\n"
     ]
    }
   ],
   "source": [
    "print(f\"Base RMSLE    : {rmsle:.5f}\")\n",
    "print(f\"Optimized RMSE: {study.best_value:.5f}\")"
   ]
  },
  {
   "cell_type": "markdown",
   "metadata": {},
   "source": [
    "In just over a minute, we achieved a significant score boost (in terms of log errors, 0.004 is pretty huge). We did this with just 100 trials. Let's boldly give another 200 trials and see what happens:"
   ]
  },
  {
   "cell_type": "code",
   "execution_count": 65,
   "metadata": {},
   "outputs": [
    {
     "name": "stdout",
     "output_type": "stream",
     "text": [
      "Wall time: 1min\n"
     ]
    }
   ],
   "source": [
    "%%time\n",
    "\n",
    "study.optimize(func, n_trials=200)"
   ]
  },
  {
   "cell_type": "code",
   "execution_count": 66,
   "metadata": {},
   "outputs": [
    {
     "name": "stdout",
     "output_type": "stream",
     "text": [
      "Base RMSLE    : 0.07573\n",
      "Optimized RMSE: 0.07155\n"
     ]
    }
   ],
   "source": [
    "print(f\"Base RMSLE    : {rmsle:.5f}\")\n",
    "print(f\"Optimized RMSE: {study.best_value:.5f}\")"
   ]
  },
  {
   "cell_type": "markdown",
   "metadata": {},
   "source": [
    "The score *did* improve but marginally. Looks like we hit it close to the max in the first run!\n",
    "\n",
    "Most importantly, we achieved this score in just 2 minutes using a search space which would probably take hours with regular GridSearch. \n",
    "\n",
    "I don't know about you, but I am sold!"
   ]
  },
  {
   "cell_type": "markdown",
   "metadata": {},
   "source": [
    "## Using visuals for more insights and smarter tuning"
   ]
  },
  {
   "cell_type": "markdown",
   "metadata": {},
   "source": [
    "Optuna offers a wide range of plots under its `visualization` subpackage. Here, we will discuss only 2 which I think are the most useful.\n",
    "\n",
    "First, let's plot the optimization history of the last `study` object:"
   ]
  },
  {
   "cell_type": "code",
   "execution_count": 70,
   "metadata": {},
   "outputs": [
    {
     "data": {
      "application/vnd.plotly.v1+json": {
       "config": {
        "plotlyServerURL": "https://plot.ly",
        "staticPlot": true
       },
       "data": [
        {
         "mode": "markers",
         "name": "Objective Value",
         "type": "scatter",
         "x": [
          0,
          1,
          2,
          3,
          4,
          5,
          6,
          7,
          8,
          9,
          10,
          11,
          12,
          13,
          14,
          15,
          16,
          17,
          18,
          19,
          20,
          21,
          22,
          23,
          24,
          25,
          26,
          27,
          28,
          29,
          30,
          31,
          32,
          33,
          34,
          35,
          36,
          37,
          38,
          39,
          40,
          41,
          42,
          43,
          44,
          45,
          46,
          47,
          48,
          49,
          50,
          51,
          52,
          53,
          54,
          55,
          56,
          57,
          58,
          59,
          60,
          61,
          62,
          63,
          64,
          65,
          66,
          67,
          68,
          69,
          70,
          71,
          72,
          73,
          74,
          75,
          76,
          77,
          78,
          79,
          80,
          81,
          82,
          83,
          84,
          85,
          86,
          87,
          88,
          89,
          90,
          91,
          92,
          93,
          94,
          95,
          96,
          97,
          98,
          99,
          100,
          101,
          102,
          103,
          104,
          105,
          106,
          107,
          108,
          109,
          110,
          111,
          112,
          113,
          114,
          115,
          116,
          117,
          118,
          119,
          120,
          121,
          122,
          123,
          124,
          125,
          126,
          127,
          128,
          129,
          130,
          131,
          132,
          133,
          134,
          135,
          136,
          137,
          138,
          139,
          140,
          141,
          142,
          143,
          144,
          145,
          146,
          147,
          148,
          149,
          150,
          151,
          152,
          153,
          154,
          155,
          156,
          157,
          158,
          159,
          160,
          161,
          162,
          163,
          164,
          165,
          166,
          167,
          168,
          169,
          170,
          171,
          172,
          173,
          174,
          175,
          176,
          177,
          178,
          179,
          180,
          181,
          182,
          183,
          184,
          185,
          186,
          187,
          188,
          189,
          190,
          191,
          192,
          193,
          194,
          195,
          196,
          197,
          198,
          199,
          200,
          201,
          202,
          203,
          204,
          205,
          206,
          207,
          208,
          209,
          210,
          211,
          212,
          213,
          214,
          215,
          216,
          217,
          218,
          219,
          220,
          221,
          222,
          223,
          224,
          225,
          226,
          227,
          228,
          229,
          230,
          231,
          232,
          233,
          234,
          235,
          236,
          237,
          238,
          239,
          240,
          241,
          242,
          243,
          244,
          245,
          246,
          247,
          248,
          249,
          250,
          251,
          252,
          253,
          254,
          255,
          256,
          257,
          258,
          259,
          260,
          261,
          262,
          263,
          264,
          265,
          266,
          267,
          268,
          269,
          270,
          271,
          272,
          273,
          274,
          275,
          276,
          277,
          278,
          279,
          280,
          281,
          282,
          283,
          284,
          285,
          286,
          287,
          288,
          289,
          290,
          291,
          292,
          293,
          294,
          295,
          296,
          297,
          298,
          299,
          300,
          301,
          302,
          303,
          304,
          305,
          306,
          307,
          308,
          309,
          310,
          311,
          312,
          313,
          314,
          315,
          316,
          317,
          318,
          319,
          320,
          321,
          322,
          323,
          324,
          325,
          326,
          327,
          328,
          329,
          330,
          331,
          332,
          333,
          334,
          335,
          336,
          337,
          338,
          339,
          340,
          341,
          342,
          343,
          344,
          345,
          346,
          347,
          348,
          349,
          350,
          351,
          352,
          353,
          354,
          355,
          356,
          357,
          358,
          359,
          360,
          361,
          362,
          363,
          364,
          365,
          366,
          367,
          368,
          369,
          370,
          371,
          372,
          373,
          374,
          375,
          376,
          377,
          378,
          379,
          380,
          381,
          382,
          383,
          384,
          385,
          386,
          387,
          388,
          389,
          390,
          391,
          392,
          393,
          394,
          395,
          396,
          397,
          398,
          399,
          400,
          401,
          402,
          403,
          404,
          405,
          406,
          407,
          408,
          409,
          410,
          411,
          412,
          413,
          414,
          415,
          416,
          417,
          418,
          419,
          420,
          421,
          422,
          423,
          424,
          425,
          426,
          427,
          428,
          429,
          430,
          431,
          432,
          433,
          434,
          435,
          436,
          437,
          438,
          439,
          440,
          441,
          442,
          443,
          444,
          445,
          446,
          447,
          448,
          449,
          450,
          451,
          452,
          453,
          454,
          455,
          456,
          457,
          458,
          459,
          460,
          461,
          462,
          463,
          464,
          465,
          466,
          467,
          468,
          469,
          470,
          471,
          472,
          473,
          474,
          475,
          476,
          477,
          478,
          479,
          480,
          481,
          482,
          483,
          484,
          485,
          486,
          487,
          488,
          489,
          490,
          491,
          492,
          493,
          494,
          495,
          496,
          497,
          498,
          499
         ],
         "y": [
          0.07771382938687706,
          0.08721601013480856,
          0.08063221133443797,
          0.07389847107006717,
          0.12498905779293452,
          0.13611351586235818,
          0.08359659005353332,
          0.08426886636707343,
          0.12916357997505115,
          0.07951855447405938,
          0.07373592118877868,
          0.07415372440278495,
          0.07394106451398653,
          0.13230402920112033,
          0.07401714959556477,
          0.09999358083721786,
          0.07226074253790207,
          0.07278027657785137,
          0.0729787396172665,
          0.07234530029907342,
          0.07988608701328885,
          0.07304408336642149,
          0.07224021206463674,
          0.081697792184696,
          0.07441555593510485,
          0.08196126203531617,
          0.07258092571087897,
          0.0732717964354229,
          0.07619150828721166,
          0.07350970982234199,
          0.07496508262882687,
          0.07230169226810892,
          0.07321445912366618,
          0.07632672756921743,
          0.07625110509446072,
          0.07416170481528836,
          0.07465068201290996,
          0.07398066138851603,
          0.07391067675639793,
          0.08153876144598138,
          0.07631945395726956,
          0.07271178280776473,
          0.07242795558591376,
          0.07882406602491822,
          0.07817830616937442,
          0.07402191532455119,
          0.07707119183925645,
          0.07305677396043073,
          0.08796460408419446,
          0.07243131110414819,
          0.07415947767716113,
          0.0728312215590473,
          0.07252638161533895,
          0.07209800476554369,
          0.07246989894514361,
          0.11702245282657801,
          0.07497078553941396,
          0.07244367943179378,
          0.07325090934040308,
          0.07616770910595842,
          0.07223393806325298,
          0.07242548241260201,
          0.07254400765785425,
          0.07199984288814995,
          0.07327285847647011,
          0.07793265867425758,
          0.08081634034877137,
          0.07325751171843292,
          0.07419521639147145,
          0.07494986881330976,
          0.07250687827459022,
          0.07176909874227909,
          0.07254013258243319,
          0.07232080550597095,
          0.07259562172622946,
          0.07218896631906332,
          0.075758972426347,
          0.0732493841900965,
          0.07482498197971021,
          0.07522216604201504,
          0.08113351792703566,
          0.07193943338428535,
          0.0723711361551894,
          0.07391426843977347,
          0.07236349787301245,
          0.07506932436876072,
          0.0737415512691928,
          0.07284496439361728,
          0.0740190585228765,
          0.07551844576161405,
          0.07377483815757581,
          0.07245754453334172,
          0.07271617489131439,
          0.07973745293776069,
          0.07230150903111783,
          0.07231416076921686,
          0.0721682684626305,
          0.072404158266212,
          0.07248688850680116,
          0.07434607817042238,
          0.07288269299610281,
          0.07277583769744549,
          0.07238143202974748,
          0.07261979436885317,
          0.07289119795475332,
          0.072878830078447,
          0.07259264960082383,
          0.07353009334181855,
          0.07288450165435903,
          0.07410961027286975,
          0.07234361220120943,
          0.07320838358547484,
          0.07321140458593282,
          0.08398623345974077,
          0.07266704477901335,
          0.0726068930580816,
          0.07241459410781316,
          0.07359205603460457,
          0.08152382481232412,
          0.07455703341433388,
          0.07220631394155477,
          0.0722538210165668,
          0.07221965422206357,
          0.07233933620578378,
          0.0718121407613902,
          0.0721444853713465,
          0.07201967335770108,
          0.07268730273878635,
          0.07269269558943564,
          0.07249103598924413,
          0.07396241947244937,
          0.07211351977878176,
          0.07207588845712802,
          0.07242078706719296,
          0.07342049613354339,
          0.07199655682110072,
          0.07214714834517794,
          0.07264111844419881,
          0.07192018780754485,
          0.0728245398479101,
          0.07263503479975429,
          0.07284261557969865,
          0.0726436668909759,
          0.07241403583902495,
          0.07250420325252445,
          0.07309270093953518,
          0.07718429036468696,
          0.0728374867204076,
          0.07227275404177134,
          0.07316467072894166,
          0.07231141668876151,
          0.072578273006698,
          0.07246522043288117,
          0.07223851694140454,
          0.07229955726177807,
          0.08323349686944885,
          0.07299672551437955,
          0.07243260333759702,
          0.07202124681339143,
          0.07239308884684671,
          0.1188788143371982,
          0.07217093329160794,
          0.0719207216800069,
          0.07290486512674697,
          0.07209972325575378,
          0.0724672854083532,
          0.07273472162563492,
          0.07731950684472592,
          0.07232545586695674,
          0.07365496951956056,
          0.07216018235840407,
          0.07223361816811896,
          0.07247034316370979,
          0.07240152134025285,
          0.07334205546416428,
          0.07230870510483998,
          0.07207138591402944,
          0.07230578409946195,
          0.07229307015042345,
          0.0724005281925671,
          0.07305377168393869,
          0.07215957988236969,
          0.07309721547739458,
          0.07256682116738292,
          0.0725215047978482,
          0.07265698495402165,
          0.07289462103267819,
          0.0722227767014722,
          0.07186914967093343,
          0.0733354917996834,
          0.07291136195332389,
          0.07240580979721384,
          0.07188603311810718,
          0.07207172269704805,
          0.07206384016833503,
          0.0726311978211566,
          0.07309100386968409,
          0.07252937704669414,
          0.07252781475886057,
          0.07245664580920523,
          0.07296126756213296,
          0.07199616201611539,
          0.07221407837896161,
          0.07271939628195105,
          0.07220124014890553,
          0.07298082022565,
          0.07286526521451121,
          0.07270110848779106,
          0.07282123347666211,
          0.07229335177381849,
          0.07581709253339859,
          0.07174041586312,
          0.0719551754402541,
          0.07245974899347893,
          0.07168616591091408,
          0.071732034458808,
          0.0720087595392151,
          0.07225059366690184,
          0.07189840461111183,
          0.07205239911511427,
          0.07287063979619768,
          0.07217625308249526,
          0.07197832019670614,
          0.07227768601078796,
          0.07216154831206346,
          0.07245370594111042,
          0.07197823401816232,
          0.07192292078345165,
          0.07214336795320599,
          0.07213538696283942,
          0.07170677953228628,
          0.07231145436200727,
          0.07219162734937244,
          0.07336855775704766,
          0.07234032031207942,
          0.0721581067916059,
          0.07252089875819316,
          0.07594424541933184,
          0.07222682541121132,
          0.07238178937130406,
          0.07275407058612843,
          0.07212011135185184,
          0.0722395168819501,
          0.07216108571485425,
          0.07200383112031772,
          0.07252689837827755,
          0.0720473385821268,
          0.0721676928888439,
          0.07295915687516895,
          0.07213491760868405,
          0.07232918360149833,
          0.07228802505498519,
          0.07232710273296274,
          0.07246216760993972,
          0.07265350824832632,
          0.08298129766458764,
          0.07237518571026921,
          0.07241957329546837,
          0.07294252031319576,
          0.07216650047059191,
          0.07319186399341047,
          0.07238407082030121,
          0.0726633850734069,
          0.07681414692382214,
          0.07278502157267308,
          0.07267828814820936,
          0.0724665152067934,
          0.07339701650802875,
          0.07212254889209227,
          0.07213037512118706,
          0.07290149153961291,
          0.07259312940435998,
          0.072379643320008,
          0.0720815267391758,
          0.07236483189726955,
          0.07270034679744362,
          0.07262200554100212,
          0.07231803823467528,
          0.07210480383678819,
          0.07237780310296328,
          0.07320532372318833,
          0.07189065069142644,
          0.07267083688957138,
          0.0721939635872286,
          0.0720981795341201,
          0.07263847530215765,
          0.07237331486735453,
          0.0723711977033202,
          0.07956533404060447,
          0.0728411565480071,
          0.07246503084709364,
          0.07234434256668668,
          0.07518570355365269,
          0.07195806961815804,
          0.07236297168975434,
          0.07238399696355091,
          0.0731922462465898,
          0.07402691876134514,
          0.07198966541422865,
          0.07252321765540007,
          0.07211291365446436,
          0.07276896121410281,
          0.07225816334269113,
          0.07208619056866719,
          0.07304997536473712,
          0.07268453572955118,
          0.09061710913828604,
          0.07267737597768079,
          0.072856762851785,
          0.07242303061973267,
          0.07220453120311601,
          0.07218411846363404,
          0.07283619121608574,
          0.07204862847241224,
          0.07208670758512395,
          0.07275936820876054,
          0.0723393571314824,
          0.07205038093493142,
          0.07252334142535238,
          0.07185801975624637,
          0.0765033805218154,
          0.07235382897700784,
          0.07213789464417539,
          0.07193707543880008,
          0.07980657824853385,
          0.07307687735670687,
          0.08644382108990631,
          0.07382299820230963,
          0.07213208126593693,
          0.07225073352721792,
          0.07229324946847303,
          0.07332993715462209,
          0.07234571927098486,
          0.07226239771574405,
          0.072371488826714,
          0.07748547022287378,
          0.07220969548540195,
          0.07227987015723167,
          0.07294539175855078,
          0.0726080282687534,
          0.07267026710928175,
          0.07212004557242793,
          0.07181366923164521,
          0.0726252348188335,
          0.08331311586108923,
          0.07257375508156819,
          0.07202737090041593,
          0.07482170152157157,
          0.07218872640186937,
          0.07226894732771427,
          0.07607156348571222,
          0.07573598560449733,
          0.07184126578654976,
          0.07297904223005923,
          0.07217243026017235,
          0.0731446573312516,
          0.07222803996538556,
          0.07263556052920402,
          0.07195758855611219,
          0.07313033192350933,
          0.07241094922016057,
          0.08001810286446495,
          0.072917391988689,
          0.07186948956675457,
          0.07281970675528679,
          0.07577927924860382,
          0.07186345588082023,
          0.07212451182266384,
          0.07224101831460954,
          0.07263865519806834,
          0.07258648022304057,
          0.07509045549812111,
          0.07268392899803888,
          0.08051848081153423,
          0.07215562934604824,
          0.07366122505996776,
          0.07204018115940398,
          0.07251805707150813,
          0.07157740296343874,
          0.07389129833513439,
          0.07223365484727517,
          0.07252960436159443,
          0.07671749374511005,
          0.07190960337619025,
          0.07330756853402218,
          0.0726193496668201,
          0.07247639104461302,
          0.07279167628391231,
          0.072602953496953,
          0.07318560114546956,
          0.07318072940938694,
          0.0733548193719355,
          0.07218773979194591,
          0.07204282982529671,
          0.07241166574791608,
          0.07285351697348658,
          0.07228807434122893,
          0.0721421499344367,
          0.07249345635250316,
          0.07270621926428639,
          0.07343944771250771,
          0.0721839058888076,
          0.07303182290095345,
          0.073143661279486,
          0.07382028265990447,
          0.07272055319856477,
          0.07611598416405495,
          0.07235016575545011,
          0.07211284759459771,
          0.07296201013363746,
          0.07247948817599577,
          0.07233388177064921,
          0.07537411668926199,
          0.07166210698616618,
          0.07349402594654164,
          0.07241636275711541,
          0.07272419967511953,
          0.07201407930496148,
          0.07230434368219209,
          0.0722716639565088,
          0.07271181981435657,
          0.07296112880212091,
          0.07281062578745132,
          0.15142735267496232,
          0.07208726811284376,
          0.0718082130067789,
          0.0724503747450647,
          0.07254840360096054,
          0.07208513547382489,
          0.07317071992102055,
          0.0728492209936704,
          0.07205411418558362,
          0.07398223095279198,
          0.08166849813701499,
          0.07215464979206737,
          0.07191602962400252,
          0.07200248748701397,
          0.0725223307375955,
          0.07299883211546371,
          0.07508010069759878,
          0.07194490430608133,
          0.07201600819466485,
          0.0729415665320216,
          0.07220766584421096,
          0.0730888755719947,
          0.07266501982014936,
          0.07224207514073105,
          0.072142971388589,
          0.07279030748643822,
          0.0729301644091371,
          0.08107970399012357,
          0.07200164109615055,
          0.07182885143791966,
          0.07304415172288317,
          0.07370825854031939,
          0.07296529316761605,
          0.0724771354027766,
          0.07242358453841848,
          0.07302446507975305,
          0.07359813261416617,
          0.0718856770320769,
          0.07270521540777683,
          0.07273868749090878,
          0.07243820448312209,
          0.07759143041821641,
          0.07902056579395762,
          0.07248177438235336,
          0.07262605400238896,
          0.0718178251614017,
          0.07276616038221696,
          0.07217095339590862,
          0.07734918557745818,
          0.07255842172870114,
          0.07304511050593242,
          0.0724250769423313,
          0.07184418601247561,
          0.07252991539687902,
          0.07353887598580415,
          0.07205870317841033,
          0.07205566215558584,
          0.07244783722964472,
          0.07221867317409134,
          0.07288582533988074,
          0.07302602905634463,
          0.07225736658329825,
          0.07233265524519338,
          0.07259581040869983,
          0.07232964483326322,
          0.07231500201322703,
          0.07256407431961484,
          0.07254070807296056,
          0.07264112367954104,
          0.07240335041249708,
          0.07222408374601626,
          0.07155034631608542,
          0.07241491385516788,
          0.07381595381405057,
          0.072415845671428,
          0.07271700915618104,
          0.07234998013461331
         ]
        },
        {
         "name": "Best Value",
         "type": "scatter",
         "x": [
          0,
          1,
          2,
          3,
          4,
          5,
          6,
          7,
          8,
          9,
          10,
          11,
          12,
          13,
          14,
          15,
          16,
          17,
          18,
          19,
          20,
          21,
          22,
          23,
          24,
          25,
          26,
          27,
          28,
          29,
          30,
          31,
          32,
          33,
          34,
          35,
          36,
          37,
          38,
          39,
          40,
          41,
          42,
          43,
          44,
          45,
          46,
          47,
          48,
          49,
          50,
          51,
          52,
          53,
          54,
          55,
          56,
          57,
          58,
          59,
          60,
          61,
          62,
          63,
          64,
          65,
          66,
          67,
          68,
          69,
          70,
          71,
          72,
          73,
          74,
          75,
          76,
          77,
          78,
          79,
          80,
          81,
          82,
          83,
          84,
          85,
          86,
          87,
          88,
          89,
          90,
          91,
          92,
          93,
          94,
          95,
          96,
          97,
          98,
          99,
          100,
          101,
          102,
          103,
          104,
          105,
          106,
          107,
          108,
          109,
          110,
          111,
          112,
          113,
          114,
          115,
          116,
          117,
          118,
          119,
          120,
          121,
          122,
          123,
          124,
          125,
          126,
          127,
          128,
          129,
          130,
          131,
          132,
          133,
          134,
          135,
          136,
          137,
          138,
          139,
          140,
          141,
          142,
          143,
          144,
          145,
          146,
          147,
          148,
          149,
          150,
          151,
          152,
          153,
          154,
          155,
          156,
          157,
          158,
          159,
          160,
          161,
          162,
          163,
          164,
          165,
          166,
          167,
          168,
          169,
          170,
          171,
          172,
          173,
          174,
          175,
          176,
          177,
          178,
          179,
          180,
          181,
          182,
          183,
          184,
          185,
          186,
          187,
          188,
          189,
          190,
          191,
          192,
          193,
          194,
          195,
          196,
          197,
          198,
          199,
          200,
          201,
          202,
          203,
          204,
          205,
          206,
          207,
          208,
          209,
          210,
          211,
          212,
          213,
          214,
          215,
          216,
          217,
          218,
          219,
          220,
          221,
          222,
          223,
          224,
          225,
          226,
          227,
          228,
          229,
          230,
          231,
          232,
          233,
          234,
          235,
          236,
          237,
          238,
          239,
          240,
          241,
          242,
          243,
          244,
          245,
          246,
          247,
          248,
          249,
          250,
          251,
          252,
          253,
          254,
          255,
          256,
          257,
          258,
          259,
          260,
          261,
          262,
          263,
          264,
          265,
          266,
          267,
          268,
          269,
          270,
          271,
          272,
          273,
          274,
          275,
          276,
          277,
          278,
          279,
          280,
          281,
          282,
          283,
          284,
          285,
          286,
          287,
          288,
          289,
          290,
          291,
          292,
          293,
          294,
          295,
          296,
          297,
          298,
          299,
          300,
          301,
          302,
          303,
          304,
          305,
          306,
          307,
          308,
          309,
          310,
          311,
          312,
          313,
          314,
          315,
          316,
          317,
          318,
          319,
          320,
          321,
          322,
          323,
          324,
          325,
          326,
          327,
          328,
          329,
          330,
          331,
          332,
          333,
          334,
          335,
          336,
          337,
          338,
          339,
          340,
          341,
          342,
          343,
          344,
          345,
          346,
          347,
          348,
          349,
          350,
          351,
          352,
          353,
          354,
          355,
          356,
          357,
          358,
          359,
          360,
          361,
          362,
          363,
          364,
          365,
          366,
          367,
          368,
          369,
          370,
          371,
          372,
          373,
          374,
          375,
          376,
          377,
          378,
          379,
          380,
          381,
          382,
          383,
          384,
          385,
          386,
          387,
          388,
          389,
          390,
          391,
          392,
          393,
          394,
          395,
          396,
          397,
          398,
          399,
          400,
          401,
          402,
          403,
          404,
          405,
          406,
          407,
          408,
          409,
          410,
          411,
          412,
          413,
          414,
          415,
          416,
          417,
          418,
          419,
          420,
          421,
          422,
          423,
          424,
          425,
          426,
          427,
          428,
          429,
          430,
          431,
          432,
          433,
          434,
          435,
          436,
          437,
          438,
          439,
          440,
          441,
          442,
          443,
          444,
          445,
          446,
          447,
          448,
          449,
          450,
          451,
          452,
          453,
          454,
          455,
          456,
          457,
          458,
          459,
          460,
          461,
          462,
          463,
          464,
          465,
          466,
          467,
          468,
          469,
          470,
          471,
          472,
          473,
          474,
          475,
          476,
          477,
          478,
          479,
          480,
          481,
          482,
          483,
          484,
          485,
          486,
          487,
          488,
          489,
          490,
          491,
          492,
          493,
          494,
          495,
          496,
          497,
          498,
          499
         ],
         "y": [
          0.07771382938687706,
          0.07771382938687706,
          0.07771382938687706,
          0.07389847107006717,
          0.07389847107006717,
          0.07389847107006717,
          0.07389847107006717,
          0.07389847107006717,
          0.07389847107006717,
          0.07389847107006717,
          0.07373592118877868,
          0.07373592118877868,
          0.07373592118877868,
          0.07373592118877868,
          0.07373592118877868,
          0.07373592118877868,
          0.07226074253790207,
          0.07226074253790207,
          0.07226074253790207,
          0.07226074253790207,
          0.07226074253790207,
          0.07226074253790207,
          0.07224021206463674,
          0.07224021206463674,
          0.07224021206463674,
          0.07224021206463674,
          0.07224021206463674,
          0.07224021206463674,
          0.07224021206463674,
          0.07224021206463674,
          0.07224021206463674,
          0.07224021206463674,
          0.07224021206463674,
          0.07224021206463674,
          0.07224021206463674,
          0.07224021206463674,
          0.07224021206463674,
          0.07224021206463674,
          0.07224021206463674,
          0.07224021206463674,
          0.07224021206463674,
          0.07224021206463674,
          0.07224021206463674,
          0.07224021206463674,
          0.07224021206463674,
          0.07224021206463674,
          0.07224021206463674,
          0.07224021206463674,
          0.07224021206463674,
          0.07224021206463674,
          0.07224021206463674,
          0.07224021206463674,
          0.07224021206463674,
          0.07209800476554369,
          0.07209800476554369,
          0.07209800476554369,
          0.07209800476554369,
          0.07209800476554369,
          0.07209800476554369,
          0.07209800476554369,
          0.07209800476554369,
          0.07209800476554369,
          0.07209800476554369,
          0.07199984288814995,
          0.07199984288814995,
          0.07199984288814995,
          0.07199984288814995,
          0.07199984288814995,
          0.07199984288814995,
          0.07199984288814995,
          0.07199984288814995,
          0.07176909874227909,
          0.07176909874227909,
          0.07176909874227909,
          0.07176909874227909,
          0.07176909874227909,
          0.07176909874227909,
          0.07176909874227909,
          0.07176909874227909,
          0.07176909874227909,
          0.07176909874227909,
          0.07176909874227909,
          0.07176909874227909,
          0.07176909874227909,
          0.07176909874227909,
          0.07176909874227909,
          0.07176909874227909,
          0.07176909874227909,
          0.07176909874227909,
          0.07176909874227909,
          0.07176909874227909,
          0.07176909874227909,
          0.07176909874227909,
          0.07176909874227909,
          0.07176909874227909,
          0.07176909874227909,
          0.07176909874227909,
          0.07176909874227909,
          0.07176909874227909,
          0.07176909874227909,
          0.07176909874227909,
          0.07176909874227909,
          0.07176909874227909,
          0.07176909874227909,
          0.07176909874227909,
          0.07176909874227909,
          0.07176909874227909,
          0.07176909874227909,
          0.07176909874227909,
          0.07176909874227909,
          0.07176909874227909,
          0.07176909874227909,
          0.07176909874227909,
          0.07176909874227909,
          0.07176909874227909,
          0.07176909874227909,
          0.07176909874227909,
          0.07176909874227909,
          0.07176909874227909,
          0.07176909874227909,
          0.07176909874227909,
          0.07176909874227909,
          0.07176909874227909,
          0.07176909874227909,
          0.07176909874227909,
          0.07176909874227909,
          0.07176909874227909,
          0.07176909874227909,
          0.07176909874227909,
          0.07176909874227909,
          0.07176909874227909,
          0.07176909874227909,
          0.07176909874227909,
          0.07176909874227909,
          0.07176909874227909,
          0.07176909874227909,
          0.07176909874227909,
          0.07176909874227909,
          0.07176909874227909,
          0.07176909874227909,
          0.07176909874227909,
          0.07176909874227909,
          0.07176909874227909,
          0.07176909874227909,
          0.07176909874227909,
          0.07176909874227909,
          0.07176909874227909,
          0.07176909874227909,
          0.07176909874227909,
          0.07176909874227909,
          0.07176909874227909,
          0.07176909874227909,
          0.07176909874227909,
          0.07176909874227909,
          0.07176909874227909,
          0.07176909874227909,
          0.07176909874227909,
          0.07176909874227909,
          0.07176909874227909,
          0.07176909874227909,
          0.07176909874227909,
          0.07176909874227909,
          0.07176909874227909,
          0.07176909874227909,
          0.07176909874227909,
          0.07176909874227909,
          0.07176909874227909,
          0.07176909874227909,
          0.07176909874227909,
          0.07176909874227909,
          0.07176909874227909,
          0.07176909874227909,
          0.07176909874227909,
          0.07176909874227909,
          0.07176909874227909,
          0.07176909874227909,
          0.07176909874227909,
          0.07176909874227909,
          0.07176909874227909,
          0.07176909874227909,
          0.07176909874227909,
          0.07176909874227909,
          0.07176909874227909,
          0.07176909874227909,
          0.07176909874227909,
          0.07176909874227909,
          0.07176909874227909,
          0.07176909874227909,
          0.07176909874227909,
          0.07176909874227909,
          0.07176909874227909,
          0.07176909874227909,
          0.07176909874227909,
          0.07176909874227909,
          0.07176909874227909,
          0.07176909874227909,
          0.07176909874227909,
          0.07176909874227909,
          0.07176909874227909,
          0.07176909874227909,
          0.07176909874227909,
          0.07176909874227909,
          0.07176909874227909,
          0.07176909874227909,
          0.07176909874227909,
          0.07176909874227909,
          0.07176909874227909,
          0.07176909874227909,
          0.07176909874227909,
          0.07176909874227909,
          0.07176909874227909,
          0.07174041586312,
          0.07174041586312,
          0.07174041586312,
          0.07168616591091408,
          0.07168616591091408,
          0.07168616591091408,
          0.07168616591091408,
          0.07168616591091408,
          0.07168616591091408,
          0.07168616591091408,
          0.07168616591091408,
          0.07168616591091408,
          0.07168616591091408,
          0.07168616591091408,
          0.07168616591091408,
          0.07168616591091408,
          0.07168616591091408,
          0.07168616591091408,
          0.07168616591091408,
          0.07168616591091408,
          0.07168616591091408,
          0.07168616591091408,
          0.07168616591091408,
          0.07168616591091408,
          0.07168616591091408,
          0.07168616591091408,
          0.07168616591091408,
          0.07168616591091408,
          0.07168616591091408,
          0.07168616591091408,
          0.07168616591091408,
          0.07168616591091408,
          0.07168616591091408,
          0.07168616591091408,
          0.07168616591091408,
          0.07168616591091408,
          0.07168616591091408,
          0.07168616591091408,
          0.07168616591091408,
          0.07168616591091408,
          0.07168616591091408,
          0.07168616591091408,
          0.07168616591091408,
          0.07168616591091408,
          0.07168616591091408,
          0.07168616591091408,
          0.07168616591091408,
          0.07168616591091408,
          0.07168616591091408,
          0.07168616591091408,
          0.07168616591091408,
          0.07168616591091408,
          0.07168616591091408,
          0.07168616591091408,
          0.07168616591091408,
          0.07168616591091408,
          0.07168616591091408,
          0.07168616591091408,
          0.07168616591091408,
          0.07168616591091408,
          0.07168616591091408,
          0.07168616591091408,
          0.07168616591091408,
          0.07168616591091408,
          0.07168616591091408,
          0.07168616591091408,
          0.07168616591091408,
          0.07168616591091408,
          0.07168616591091408,
          0.07168616591091408,
          0.07168616591091408,
          0.07168616591091408,
          0.07168616591091408,
          0.07168616591091408,
          0.07168616591091408,
          0.07168616591091408,
          0.07168616591091408,
          0.07168616591091408,
          0.07168616591091408,
          0.07168616591091408,
          0.07168616591091408,
          0.07168616591091408,
          0.07168616591091408,
          0.07168616591091408,
          0.07168616591091408,
          0.07168616591091408,
          0.07168616591091408,
          0.07168616591091408,
          0.07168616591091408,
          0.07168616591091408,
          0.07168616591091408,
          0.07168616591091408,
          0.07168616591091408,
          0.07168616591091408,
          0.07168616591091408,
          0.07168616591091408,
          0.07168616591091408,
          0.07168616591091408,
          0.07168616591091408,
          0.07168616591091408,
          0.07168616591091408,
          0.07168616591091408,
          0.07168616591091408,
          0.07168616591091408,
          0.07168616591091408,
          0.07168616591091408,
          0.07168616591091408,
          0.07168616591091408,
          0.07168616591091408,
          0.07168616591091408,
          0.07168616591091408,
          0.07168616591091408,
          0.07168616591091408,
          0.07168616591091408,
          0.07168616591091408,
          0.07168616591091408,
          0.07168616591091408,
          0.07168616591091408,
          0.07168616591091408,
          0.07168616591091408,
          0.07168616591091408,
          0.07168616591091408,
          0.07168616591091408,
          0.07168616591091408,
          0.07168616591091408,
          0.07168616591091408,
          0.07168616591091408,
          0.07168616591091408,
          0.07168616591091408,
          0.07168616591091408,
          0.07168616591091408,
          0.07168616591091408,
          0.07168616591091408,
          0.07168616591091408,
          0.07168616591091408,
          0.07168616591091408,
          0.07168616591091408,
          0.07168616591091408,
          0.07168616591091408,
          0.07168616591091408,
          0.07168616591091408,
          0.07168616591091408,
          0.07168616591091408,
          0.07168616591091408,
          0.07168616591091408,
          0.07168616591091408,
          0.07168616591091408,
          0.07168616591091408,
          0.07168616591091408,
          0.07168616591091408,
          0.07168616591091408,
          0.07168616591091408,
          0.07168616591091408,
          0.07168616591091408,
          0.07168616591091408,
          0.07168616591091408,
          0.07168616591091408,
          0.07168616591091408,
          0.07168616591091408,
          0.07168616591091408,
          0.07168616591091408,
          0.07168616591091408,
          0.07168616591091408,
          0.07168616591091408,
          0.07168616591091408,
          0.07168616591091408,
          0.07168616591091408,
          0.07157740296343874,
          0.07157740296343874,
          0.07157740296343874,
          0.07157740296343874,
          0.07157740296343874,
          0.07157740296343874,
          0.07157740296343874,
          0.07157740296343874,
          0.07157740296343874,
          0.07157740296343874,
          0.07157740296343874,
          0.07157740296343874,
          0.07157740296343874,
          0.07157740296343874,
          0.07157740296343874,
          0.07157740296343874,
          0.07157740296343874,
          0.07157740296343874,
          0.07157740296343874,
          0.07157740296343874,
          0.07157740296343874,
          0.07157740296343874,
          0.07157740296343874,
          0.07157740296343874,
          0.07157740296343874,
          0.07157740296343874,
          0.07157740296343874,
          0.07157740296343874,
          0.07157740296343874,
          0.07157740296343874,
          0.07157740296343874,
          0.07157740296343874,
          0.07157740296343874,
          0.07157740296343874,
          0.07157740296343874,
          0.07157740296343874,
          0.07157740296343874,
          0.07157740296343874,
          0.07157740296343874,
          0.07157740296343874,
          0.07157740296343874,
          0.07157740296343874,
          0.07157740296343874,
          0.07157740296343874,
          0.07157740296343874,
          0.07157740296343874,
          0.07157740296343874,
          0.07157740296343874,
          0.07157740296343874,
          0.07157740296343874,
          0.07157740296343874,
          0.07157740296343874,
          0.07157740296343874,
          0.07157740296343874,
          0.07157740296343874,
          0.07157740296343874,
          0.07157740296343874,
          0.07157740296343874,
          0.07157740296343874,
          0.07157740296343874,
          0.07157740296343874,
          0.07157740296343874,
          0.07157740296343874,
          0.07157740296343874,
          0.07157740296343874,
          0.07157740296343874,
          0.07157740296343874,
          0.07157740296343874,
          0.07157740296343874,
          0.07157740296343874,
          0.07157740296343874,
          0.07157740296343874,
          0.07157740296343874,
          0.07157740296343874,
          0.07157740296343874,
          0.07157740296343874,
          0.07157740296343874,
          0.07157740296343874,
          0.07157740296343874,
          0.07157740296343874,
          0.07157740296343874,
          0.07157740296343874,
          0.07157740296343874,
          0.07157740296343874,
          0.07157740296343874,
          0.07157740296343874,
          0.07157740296343874,
          0.07157740296343874,
          0.07157740296343874,
          0.07157740296343874,
          0.07157740296343874,
          0.07157740296343874,
          0.07157740296343874,
          0.07157740296343874,
          0.07157740296343874,
          0.07157740296343874,
          0.07157740296343874,
          0.07157740296343874,
          0.07157740296343874,
          0.07157740296343874,
          0.07157740296343874,
          0.07157740296343874,
          0.07157740296343874,
          0.07157740296343874,
          0.07157740296343874,
          0.07157740296343874,
          0.07157740296343874,
          0.07157740296343874,
          0.07157740296343874,
          0.07157740296343874,
          0.07157740296343874,
          0.07157740296343874,
          0.07157740296343874,
          0.07157740296343874,
          0.07157740296343874,
          0.07157740296343874,
          0.07155034631608542,
          0.07155034631608542,
          0.07155034631608542,
          0.07155034631608542,
          0.07155034631608542,
          0.07155034631608542
         ]
        }
       ],
       "layout": {
        "autosize": true,
        "template": {
         "data": {
          "bar": [
           {
            "error_x": {
             "color": "#2a3f5f"
            },
            "error_y": {
             "color": "#2a3f5f"
            },
            "marker": {
             "line": {
              "color": "#E5ECF6",
              "width": 0.5
             }
            },
            "type": "bar"
           }
          ],
          "barpolar": [
           {
            "marker": {
             "line": {
              "color": "#E5ECF6",
              "width": 0.5
             }
            },
            "type": "barpolar"
           }
          ],
          "carpet": [
           {
            "aaxis": {
             "endlinecolor": "#2a3f5f",
             "gridcolor": "white",
             "linecolor": "white",
             "minorgridcolor": "white",
             "startlinecolor": "#2a3f5f"
            },
            "baxis": {
             "endlinecolor": "#2a3f5f",
             "gridcolor": "white",
             "linecolor": "white",
             "minorgridcolor": "white",
             "startlinecolor": "#2a3f5f"
            },
            "type": "carpet"
           }
          ],
          "choropleth": [
           {
            "colorbar": {
             "outlinewidth": 0,
             "ticks": ""
            },
            "type": "choropleth"
           }
          ],
          "contour": [
           {
            "colorbar": {
             "outlinewidth": 0,
             "ticks": ""
            },
            "colorscale": [
             [
              0,
              "#0d0887"
             ],
             [
              0.1111111111111111,
              "#46039f"
             ],
             [
              0.2222222222222222,
              "#7201a8"
             ],
             [
              0.3333333333333333,
              "#9c179e"
             ],
             [
              0.4444444444444444,
              "#bd3786"
             ],
             [
              0.5555555555555556,
              "#d8576b"
             ],
             [
              0.6666666666666666,
              "#ed7953"
             ],
             [
              0.7777777777777778,
              "#fb9f3a"
             ],
             [
              0.8888888888888888,
              "#fdca26"
             ],
             [
              1,
              "#f0f921"
             ]
            ],
            "type": "contour"
           }
          ],
          "contourcarpet": [
           {
            "colorbar": {
             "outlinewidth": 0,
             "ticks": ""
            },
            "type": "contourcarpet"
           }
          ],
          "heatmap": [
           {
            "colorbar": {
             "outlinewidth": 0,
             "ticks": ""
            },
            "colorscale": [
             [
              0,
              "#0d0887"
             ],
             [
              0.1111111111111111,
              "#46039f"
             ],
             [
              0.2222222222222222,
              "#7201a8"
             ],
             [
              0.3333333333333333,
              "#9c179e"
             ],
             [
              0.4444444444444444,
              "#bd3786"
             ],
             [
              0.5555555555555556,
              "#d8576b"
             ],
             [
              0.6666666666666666,
              "#ed7953"
             ],
             [
              0.7777777777777778,
              "#fb9f3a"
             ],
             [
              0.8888888888888888,
              "#fdca26"
             ],
             [
              1,
              "#f0f921"
             ]
            ],
            "type": "heatmap"
           }
          ],
          "heatmapgl": [
           {
            "colorbar": {
             "outlinewidth": 0,
             "ticks": ""
            },
            "colorscale": [
             [
              0,
              "#0d0887"
             ],
             [
              0.1111111111111111,
              "#46039f"
             ],
             [
              0.2222222222222222,
              "#7201a8"
             ],
             [
              0.3333333333333333,
              "#9c179e"
             ],
             [
              0.4444444444444444,
              "#bd3786"
             ],
             [
              0.5555555555555556,
              "#d8576b"
             ],
             [
              0.6666666666666666,
              "#ed7953"
             ],
             [
              0.7777777777777778,
              "#fb9f3a"
             ],
             [
              0.8888888888888888,
              "#fdca26"
             ],
             [
              1,
              "#f0f921"
             ]
            ],
            "type": "heatmapgl"
           }
          ],
          "histogram": [
           {
            "marker": {
             "colorbar": {
              "outlinewidth": 0,
              "ticks": ""
             }
            },
            "type": "histogram"
           }
          ],
          "histogram2d": [
           {
            "colorbar": {
             "outlinewidth": 0,
             "ticks": ""
            },
            "colorscale": [
             [
              0,
              "#0d0887"
             ],
             [
              0.1111111111111111,
              "#46039f"
             ],
             [
              0.2222222222222222,
              "#7201a8"
             ],
             [
              0.3333333333333333,
              "#9c179e"
             ],
             [
              0.4444444444444444,
              "#bd3786"
             ],
             [
              0.5555555555555556,
              "#d8576b"
             ],
             [
              0.6666666666666666,
              "#ed7953"
             ],
             [
              0.7777777777777778,
              "#fb9f3a"
             ],
             [
              0.8888888888888888,
              "#fdca26"
             ],
             [
              1,
              "#f0f921"
             ]
            ],
            "type": "histogram2d"
           }
          ],
          "histogram2dcontour": [
           {
            "colorbar": {
             "outlinewidth": 0,
             "ticks": ""
            },
            "colorscale": [
             [
              0,
              "#0d0887"
             ],
             [
              0.1111111111111111,
              "#46039f"
             ],
             [
              0.2222222222222222,
              "#7201a8"
             ],
             [
              0.3333333333333333,
              "#9c179e"
             ],
             [
              0.4444444444444444,
              "#bd3786"
             ],
             [
              0.5555555555555556,
              "#d8576b"
             ],
             [
              0.6666666666666666,
              "#ed7953"
             ],
             [
              0.7777777777777778,
              "#fb9f3a"
             ],
             [
              0.8888888888888888,
              "#fdca26"
             ],
             [
              1,
              "#f0f921"
             ]
            ],
            "type": "histogram2dcontour"
           }
          ],
          "mesh3d": [
           {
            "colorbar": {
             "outlinewidth": 0,
             "ticks": ""
            },
            "type": "mesh3d"
           }
          ],
          "parcoords": [
           {
            "line": {
             "colorbar": {
              "outlinewidth": 0,
              "ticks": ""
             }
            },
            "type": "parcoords"
           }
          ],
          "pie": [
           {
            "automargin": true,
            "type": "pie"
           }
          ],
          "scatter": [
           {
            "marker": {
             "colorbar": {
              "outlinewidth": 0,
              "ticks": ""
             }
            },
            "type": "scatter"
           }
          ],
          "scatter3d": [
           {
            "line": {
             "colorbar": {
              "outlinewidth": 0,
              "ticks": ""
             }
            },
            "marker": {
             "colorbar": {
              "outlinewidth": 0,
              "ticks": ""
             }
            },
            "type": "scatter3d"
           }
          ],
          "scattercarpet": [
           {
            "marker": {
             "colorbar": {
              "outlinewidth": 0,
              "ticks": ""
             }
            },
            "type": "scattercarpet"
           }
          ],
          "scattergeo": [
           {
            "marker": {
             "colorbar": {
              "outlinewidth": 0,
              "ticks": ""
             }
            },
            "type": "scattergeo"
           }
          ],
          "scattergl": [
           {
            "marker": {
             "colorbar": {
              "outlinewidth": 0,
              "ticks": ""
             }
            },
            "type": "scattergl"
           }
          ],
          "scattermapbox": [
           {
            "marker": {
             "colorbar": {
              "outlinewidth": 0,
              "ticks": ""
             }
            },
            "type": "scattermapbox"
           }
          ],
          "scatterpolar": [
           {
            "marker": {
             "colorbar": {
              "outlinewidth": 0,
              "ticks": ""
             }
            },
            "type": "scatterpolar"
           }
          ],
          "scatterpolargl": [
           {
            "marker": {
             "colorbar": {
              "outlinewidth": 0,
              "ticks": ""
             }
            },
            "type": "scatterpolargl"
           }
          ],
          "scatterternary": [
           {
            "marker": {
             "colorbar": {
              "outlinewidth": 0,
              "ticks": ""
             }
            },
            "type": "scatterternary"
           }
          ],
          "surface": [
           {
            "colorbar": {
             "outlinewidth": 0,
             "ticks": ""
            },
            "colorscale": [
             [
              0,
              "#0d0887"
             ],
             [
              0.1111111111111111,
              "#46039f"
             ],
             [
              0.2222222222222222,
              "#7201a8"
             ],
             [
              0.3333333333333333,
              "#9c179e"
             ],
             [
              0.4444444444444444,
              "#bd3786"
             ],
             [
              0.5555555555555556,
              "#d8576b"
             ],
             [
              0.6666666666666666,
              "#ed7953"
             ],
             [
              0.7777777777777778,
              "#fb9f3a"
             ],
             [
              0.8888888888888888,
              "#fdca26"
             ],
             [
              1,
              "#f0f921"
             ]
            ],
            "type": "surface"
           }
          ],
          "table": [
           {
            "cells": {
             "fill": {
              "color": "#EBF0F8"
             },
             "line": {
              "color": "white"
             }
            },
            "header": {
             "fill": {
              "color": "#C8D4E3"
             },
             "line": {
              "color": "white"
             }
            },
            "type": "table"
           }
          ]
         },
         "layout": {
          "annotationdefaults": {
           "arrowcolor": "#2a3f5f",
           "arrowhead": 0,
           "arrowwidth": 1
          },
          "autotypenumbers": "strict",
          "coloraxis": {
           "colorbar": {
            "outlinewidth": 0,
            "ticks": ""
           }
          },
          "colorscale": {
           "diverging": [
            [
             0,
             "#8e0152"
            ],
            [
             0.1,
             "#c51b7d"
            ],
            [
             0.2,
             "#de77ae"
            ],
            [
             0.3,
             "#f1b6da"
            ],
            [
             0.4,
             "#fde0ef"
            ],
            [
             0.5,
             "#f7f7f7"
            ],
            [
             0.6,
             "#e6f5d0"
            ],
            [
             0.7,
             "#b8e186"
            ],
            [
             0.8,
             "#7fbc41"
            ],
            [
             0.9,
             "#4d9221"
            ],
            [
             1,
             "#276419"
            ]
           ],
           "sequential": [
            [
             0,
             "#0d0887"
            ],
            [
             0.1111111111111111,
             "#46039f"
            ],
            [
             0.2222222222222222,
             "#7201a8"
            ],
            [
             0.3333333333333333,
             "#9c179e"
            ],
            [
             0.4444444444444444,
             "#bd3786"
            ],
            [
             0.5555555555555556,
             "#d8576b"
            ],
            [
             0.6666666666666666,
             "#ed7953"
            ],
            [
             0.7777777777777778,
             "#fb9f3a"
            ],
            [
             0.8888888888888888,
             "#fdca26"
            ],
            [
             1,
             "#f0f921"
            ]
           ],
           "sequentialminus": [
            [
             0,
             "#0d0887"
            ],
            [
             0.1111111111111111,
             "#46039f"
            ],
            [
             0.2222222222222222,
             "#7201a8"
            ],
            [
             0.3333333333333333,
             "#9c179e"
            ],
            [
             0.4444444444444444,
             "#bd3786"
            ],
            [
             0.5555555555555556,
             "#d8576b"
            ],
            [
             0.6666666666666666,
             "#ed7953"
            ],
            [
             0.7777777777777778,
             "#fb9f3a"
            ],
            [
             0.8888888888888888,
             "#fdca26"
            ],
            [
             1,
             "#f0f921"
            ]
           ]
          },
          "colorway": [
           "#636efa",
           "#EF553B",
           "#00cc96",
           "#ab63fa",
           "#FFA15A",
           "#19d3f3",
           "#FF6692",
           "#B6E880",
           "#FF97FF",
           "#FECB52"
          ],
          "font": {
           "color": "#2a3f5f"
          },
          "geo": {
           "bgcolor": "white",
           "lakecolor": "white",
           "landcolor": "#E5ECF6",
           "showlakes": true,
           "showland": true,
           "subunitcolor": "white"
          },
          "hoverlabel": {
           "align": "left"
          },
          "hovermode": "closest",
          "mapbox": {
           "style": "light"
          },
          "paper_bgcolor": "white",
          "plot_bgcolor": "#E5ECF6",
          "polar": {
           "angularaxis": {
            "gridcolor": "white",
            "linecolor": "white",
            "ticks": ""
           },
           "bgcolor": "#E5ECF6",
           "radialaxis": {
            "gridcolor": "white",
            "linecolor": "white",
            "ticks": ""
           }
          },
          "scene": {
           "xaxis": {
            "backgroundcolor": "#E5ECF6",
            "gridcolor": "white",
            "gridwidth": 2,
            "linecolor": "white",
            "showbackground": true,
            "ticks": "",
            "zerolinecolor": "white"
           },
           "yaxis": {
            "backgroundcolor": "#E5ECF6",
            "gridcolor": "white",
            "gridwidth": 2,
            "linecolor": "white",
            "showbackground": true,
            "ticks": "",
            "zerolinecolor": "white"
           },
           "zaxis": {
            "backgroundcolor": "#E5ECF6",
            "gridcolor": "white",
            "gridwidth": 2,
            "linecolor": "white",
            "showbackground": true,
            "ticks": "",
            "zerolinecolor": "white"
           }
          },
          "shapedefaults": {
           "line": {
            "color": "#2a3f5f"
           }
          },
          "ternary": {
           "aaxis": {
            "gridcolor": "white",
            "linecolor": "white",
            "ticks": ""
           },
           "baxis": {
            "gridcolor": "white",
            "linecolor": "white",
            "ticks": ""
           },
           "bgcolor": "#E5ECF6",
           "caxis": {
            "gridcolor": "white",
            "linecolor": "white",
            "ticks": ""
           }
          },
          "title": {
           "x": 0.05
          },
          "xaxis": {
           "automargin": true,
           "gridcolor": "white",
           "linecolor": "white",
           "ticks": "",
           "title": {
            "standoff": 15
           },
           "zerolinecolor": "white",
           "zerolinewidth": 2
          },
          "yaxis": {
           "automargin": true,
           "gridcolor": "white",
           "linecolor": "white",
           "ticks": "",
           "title": {
            "standoff": 15
           },
           "zerolinecolor": "white",
           "zerolinewidth": 2
          }
         }
        },
        "title": {
         "text": "Optimization History Plot"
        },
        "xaxis": {
         "autorange": true,
         "range": [
          -31.963688290493675,
          530.9636882904937
         ],
         "title": {
          "text": "#Trials"
         },
         "type": "linear"
        },
        "yaxis": {
         "autorange": true,
         "range": [
          0.06569948279298297,
          0.15727821619806476
         ],
         "title": {
          "text": "Objective Value"
         },
         "type": "linear"
        }
       }
      },
      "image/png": "[encoded data removed]",
      "text/html": [
       "<div>                            <div id=\"eef50c98-a814-427b-a773-637f2326f67b\" class=\"plotly-graph-div\" style=\"height:525px; width:100%;\"></div>            <script type=\"text/javascript\">                require([\"plotly\"], function(Plotly) {                    window.PLOTLYENV=window.PLOTLYENV || {};                                    if (document.getElementById(\"eef50c98-a814-427b-a773-637f2326f67b\")) {                    Plotly.newPlot(                        \"eef50c98-a814-427b-a773-637f2326f67b\",                        [{\"mode\": \"markers\", \"name\": \"Objective Value\", \"type\": \"scatter\", \"x\": [0, 1, 2, 3, 4, 5, 6, 7, 8, 9, 10, 11, 12, 13, 14, 15, 16, 17, 18, 19, 20, 21, 22, 23, 24, 25, 26, 27, 28, 29, 30, 31, 32, 33, 34, 35, 36, 37, 38, 39, 40, 41, 42, 43, 44, 45, 46, 47, 48, 49, 50, 51, 52, 53, 54, 55, 56, 57, 58, 59, 60, 61, 62, 63, 64, 65, 66, 67, 68, 69, 70, 71, 72, 73, 74, 75, 76, 77, 78, 79, 80, 81, 82, 83, 84, 85, 86, 87, 88, 89, 90, 91, 92, 93, 94, 95, 96, 97, 98, 99, 100, 101, 102, 103, 104, 105, 106, 107, 108, 109, 110, 111, 112, 113, 114, 115, 116, 117, 118, 119, 120, 121, 122, 123, 124, 125, 126, 127, 128, 129, 130, 131, 132, 133, 134, 135, 136, 137, 138, 139, 140, 141, 142, 143, 144, 145, 146, 147, 148, 149, 150, 151, 152, 153, 154, 155, 156, 157, 158, 159, 160, 161, 162, 163, 164, 165, 166, 167, 168, 169, 170, 171, 172, 173, 174, 175, 176, 177, 178, 179, 180, 181, 182, 183, 184, 185, 186, 187, 188, 189, 190, 191, 192, 193, 194, 195, 196, 197, 198, 199, 200, 201, 202, 203, 204, 205, 206, 207, 208, 209, 210, 211, 212, 213, 214, 215, 216, 217, 218, 219, 220, 221, 222, 223, 224, 225, 226, 227, 228, 229, 230, 231, 232, 233, 234, 235, 236, 237, 238, 239, 240, 241, 242, 243, 244, 245, 246, 247, 248, 249, 250, 251, 252, 253, 254, 255, 256, 257, 258, 259, 260, 261, 262, 263, 264, 265, 266, 267, 268, 269, 270, 271, 272, 273, 274, 275, 276, 277, 278, 279, 280, 281, 282, 283, 284, 285, 286, 287, 288, 289, 290, 291, 292, 293, 294, 295, 296, 297, 298, 299, 300, 301, 302, 303, 304, 305, 306, 307, 308, 309, 310, 311, 312, 313, 314, 315, 316, 317, 318, 319, 320, 321, 322, 323, 324, 325, 326, 327, 328, 329, 330, 331, 332, 333, 334, 335, 336, 337, 338, 339, 340, 341, 342, 343, 344, 345, 346, 347, 348, 349, 350, 351, 352, 353, 354, 355, 356, 357, 358, 359, 360, 361, 362, 363, 364, 365, 366, 367, 368, 369, 370, 371, 372, 373, 374, 375, 376, 377, 378, 379, 380, 381, 382, 383, 384, 385, 386, 387, 388, 389, 390, 391, 392, 393, 394, 395, 396, 397, 398, 399, 400, 401, 402, 403, 404, 405, 406, 407, 408, 409, 410, 411, 412, 413, 414, 415, 416, 417, 418, 419, 420, 421, 422, 423, 424, 425, 426, 427, 428, 429, 430, 431, 432, 433, 434, 435, 436, 437, 438, 439, 440, 441, 442, 443, 444, 445, 446, 447, 448, 449, 450, 451, 452, 453, 454, 455, 456, 457, 458, 459, 460, 461, 462, 463, 464, 465, 466, 467, 468, 469, 470, 471, 472, 473, 474, 475, 476, 477, 478, 479, 480, 481, 482, 483, 484, 485, 486, 487, 488, 489, 490, 491, 492, 493, 494, 495, 496, 497, 498, 499], \"y\": [0.07771382938687706, 0.08721601013480856, 0.08063221133443797, 0.07389847107006717, 0.12498905779293452, 0.13611351586235818, 0.08359659005353332, 0.08426886636707343, 0.12916357997505115, 0.07951855447405938, 0.07373592118877868, 0.07415372440278495, 0.07394106451398653, 0.13230402920112033, 0.07401714959556477, 0.09999358083721786, 0.07226074253790207, 0.07278027657785137, 0.0729787396172665, 0.07234530029907342, 0.07988608701328885, 0.07304408336642149, 0.07224021206463674, 0.081697792184696, 0.07441555593510485, 0.08196126203531617, 0.07258092571087897, 0.0732717964354229, 0.07619150828721166, 0.07350970982234199, 0.07496508262882687, 0.07230169226810892, 0.07321445912366618, 0.07632672756921743, 0.07625110509446072, 0.07416170481528836, 0.07465068201290996, 0.07398066138851603, 0.07391067675639793, 0.08153876144598138, 0.07631945395726956, 0.07271178280776473, 0.07242795558591376, 0.07882406602491822, 0.07817830616937442, 0.07402191532455119, 0.07707119183925645, 0.07305677396043073, 0.08796460408419446, 0.07243131110414819, 0.07415947767716113, 0.0728312215590473, 0.07252638161533895, 0.07209800476554369, 0.07246989894514361, 0.11702245282657801, 0.07497078553941396, 0.07244367943179378, 0.07325090934040308, 0.07616770910595842, 0.07223393806325298, 0.07242548241260201, 0.07254400765785425, 0.07199984288814995, 0.07327285847647011, 0.07793265867425758, 0.08081634034877137, 0.07325751171843292, 0.07419521639147145, 0.07494986881330976, 0.07250687827459022, 0.07176909874227909, 0.07254013258243319, 0.07232080550597095, 0.07259562172622946, 0.07218896631906332, 0.075758972426347, 0.0732493841900965, 0.07482498197971021, 0.07522216604201504, 0.08113351792703566, 0.07193943338428535, 0.0723711361551894, 0.07391426843977347, 0.07236349787301245, 0.07506932436876072, 0.0737415512691928, 0.07284496439361728, 0.0740190585228765, 0.07551844576161405, 0.07377483815757581, 0.07245754453334172, 0.07271617489131439, 0.07973745293776069, 0.07230150903111783, 0.07231416076921686, 0.0721682684626305, 0.072404158266212, 0.07248688850680116, 0.07434607817042238, 0.07288269299610281, 0.07277583769744549, 0.07238143202974748, 0.07261979436885317, 0.07289119795475332, 0.072878830078447, 0.07259264960082383, 0.07353009334181855, 0.07288450165435903, 0.07410961027286975, 0.07234361220120943, 0.07320838358547484, 0.07321140458593282, 0.08398623345974077, 0.07266704477901335, 0.0726068930580816, 0.07241459410781316, 0.07359205603460457, 0.08152382481232412, 0.07455703341433388, 0.07220631394155477, 0.0722538210165668, 0.07221965422206357, 0.07233933620578378, 0.0718121407613902, 0.0721444853713465, 0.07201967335770108, 0.07268730273878635, 0.07269269558943564, 0.07249103598924413, 0.07396241947244937, 0.07211351977878176, 0.07207588845712802, 0.07242078706719296, 0.07342049613354339, 0.07199655682110072, 0.07214714834517794, 0.07264111844419881, 0.07192018780754485, 0.0728245398479101, 0.07263503479975429, 0.07284261557969865, 0.0726436668909759, 0.07241403583902495, 0.07250420325252445, 0.07309270093953518, 0.07718429036468696, 0.0728374867204076, 0.07227275404177134, 0.07316467072894166, 0.07231141668876151, 0.072578273006698, 0.07246522043288117, 0.07223851694140454, 0.07229955726177807, 0.08323349686944885, 0.07299672551437955, 0.07243260333759702, 0.07202124681339143, 0.07239308884684671, 0.1188788143371982, 0.07217093329160794, 0.0719207216800069, 0.07290486512674697, 0.07209972325575378, 0.0724672854083532, 0.07273472162563492, 0.07731950684472592, 0.07232545586695674, 0.07365496951956056, 0.07216018235840407, 0.07223361816811896, 0.07247034316370979, 0.07240152134025285, 0.07334205546416428, 0.07230870510483998, 0.07207138591402944, 0.07230578409946195, 0.07229307015042345, 0.0724005281925671, 0.07305377168393869, 0.07215957988236969, 0.07309721547739458, 0.07256682116738292, 0.0725215047978482, 0.07265698495402165, 0.07289462103267819, 0.0722227767014722, 0.07186914967093343, 0.0733354917996834, 0.07291136195332389, 0.07240580979721384, 0.07188603311810718, 0.07207172269704805, 0.07206384016833503, 0.0726311978211566, 0.07309100386968409, 0.07252937704669414, 0.07252781475886057, 0.07245664580920523, 0.07296126756213296, 0.07199616201611539, 0.07221407837896161, 0.07271939628195105, 0.07220124014890553, 0.07298082022565, 0.07286526521451121, 0.07270110848779106, 0.07282123347666211, 0.07229335177381849, 0.07581709253339859, 0.07174041586312, 0.0719551754402541, 0.07245974899347893, 0.07168616591091408, 0.071732034458808, 0.0720087595392151, 0.07225059366690184, 0.07189840461111183, 0.07205239911511427, 0.07287063979619768, 0.07217625308249526, 0.07197832019670614, 0.07227768601078796, 0.07216154831206346, 0.07245370594111042, 0.07197823401816232, 0.07192292078345165, 0.07214336795320599, 0.07213538696283942, 0.07170677953228628, 0.07231145436200727, 0.07219162734937244, 0.07336855775704766, 0.07234032031207942, 0.0721581067916059, 0.07252089875819316, 0.07594424541933184, 0.07222682541121132, 0.07238178937130406, 0.07275407058612843, 0.07212011135185184, 0.0722395168819501, 0.07216108571485425, 0.07200383112031772, 0.07252689837827755, 0.0720473385821268, 0.0721676928888439, 0.07295915687516895, 0.07213491760868405, 0.07232918360149833, 0.07228802505498519, 0.07232710273296274, 0.07246216760993972, 0.07265350824832632, 0.08298129766458764, 0.07237518571026921, 0.07241957329546837, 0.07294252031319576, 0.07216650047059191, 0.07319186399341047, 0.07238407082030121, 0.0726633850734069, 0.07681414692382214, 0.07278502157267308, 0.07267828814820936, 0.0724665152067934, 0.07339701650802875, 0.07212254889209227, 0.07213037512118706, 0.07290149153961291, 0.07259312940435998, 0.072379643320008, 0.0720815267391758, 0.07236483189726955, 0.07270034679744362, 0.07262200554100212, 0.07231803823467528, 0.07210480383678819, 0.07237780310296328, 0.07320532372318833, 0.07189065069142644, 0.07267083688957138, 0.0721939635872286, 0.0720981795341201, 0.07263847530215765, 0.07237331486735453, 0.0723711977033202, 0.07956533404060447, 0.0728411565480071, 0.07246503084709364, 0.07234434256668668, 0.07518570355365269, 0.07195806961815804, 0.07236297168975434, 0.07238399696355091, 0.0731922462465898, 0.07402691876134514, 0.07198966541422865, 0.07252321765540007, 0.07211291365446436, 0.07276896121410281, 0.07225816334269113, 0.07208619056866719, 0.07304997536473712, 0.07268453572955118, 0.09061710913828604, 0.07267737597768079, 0.072856762851785, 0.07242303061973267, 0.07220453120311601, 0.07218411846363404, 0.07283619121608574, 0.07204862847241224, 0.07208670758512395, 0.07275936820876054, 0.0723393571314824, 0.07205038093493142, 0.07252334142535238, 0.07185801975624637, 0.0765033805218154, 0.07235382897700784, 0.07213789464417539, 0.07193707543880008, 0.07980657824853385, 0.07307687735670687, 0.08644382108990631, 0.07382299820230963, 0.07213208126593693, 0.07225073352721792, 0.07229324946847303, 0.07332993715462209, 0.07234571927098486, 0.07226239771574405, 0.072371488826714, 0.07748547022287378, 0.07220969548540195, 0.07227987015723167, 0.07294539175855078, 0.0726080282687534, 0.07267026710928175, 0.07212004557242793, 0.07181366923164521, 0.0726252348188335, 0.08331311586108923, 0.07257375508156819, 0.07202737090041593, 0.07482170152157157, 0.07218872640186937, 0.07226894732771427, 0.07607156348571222, 0.07573598560449733, 0.07184126578654976, 0.07297904223005923, 0.07217243026017235, 0.0731446573312516, 0.07222803996538556, 0.07263556052920402, 0.07195758855611219, 0.07313033192350933, 0.07241094922016057, 0.08001810286446495, 0.072917391988689, 0.07186948956675457, 0.07281970675528679, 0.07577927924860382, 0.07186345588082023, 0.07212451182266384, 0.07224101831460954, 0.07263865519806834, 0.07258648022304057, 0.07509045549812111, 0.07268392899803888, 0.08051848081153423, 0.07215562934604824, 0.07366122505996776, 0.07204018115940398, 0.07251805707150813, 0.07157740296343874, 0.07389129833513439, 0.07223365484727517, 0.07252960436159443, 0.07671749374511005, 0.07190960337619025, 0.07330756853402218, 0.0726193496668201, 0.07247639104461302, 0.07279167628391231, 0.072602953496953, 0.07318560114546956, 0.07318072940938694, 0.0733548193719355, 0.07218773979194591, 0.07204282982529671, 0.07241166574791608, 0.07285351697348658, 0.07228807434122893, 0.0721421499344367, 0.07249345635250316, 0.07270621926428639, 0.07343944771250771, 0.0721839058888076, 0.07303182290095345, 0.073143661279486, 0.07382028265990447, 0.07272055319856477, 0.07611598416405495, 0.07235016575545011, 0.07211284759459771, 0.07296201013363746, 0.07247948817599577, 0.07233388177064921, 0.07537411668926199, 0.07166210698616618, 0.07349402594654164, 0.07241636275711541, 0.07272419967511953, 0.07201407930496148, 0.07230434368219209, 0.0722716639565088, 0.07271181981435657, 0.07296112880212091, 0.07281062578745132, 0.15142735267496232, 0.07208726811284376, 0.0718082130067789, 0.0724503747450647, 0.07254840360096054, 0.07208513547382489, 0.07317071992102055, 0.0728492209936704, 0.07205411418558362, 0.07398223095279198, 0.08166849813701499, 0.07215464979206737, 0.07191602962400252, 0.07200248748701397, 0.0725223307375955, 0.07299883211546371, 0.07508010069759878, 0.07194490430608133, 0.07201600819466485, 0.0729415665320216, 0.07220766584421096, 0.0730888755719947, 0.07266501982014936, 0.07224207514073105, 0.072142971388589, 0.07279030748643822, 0.0729301644091371, 0.08107970399012357, 0.07200164109615055, 0.07182885143791966, 0.07304415172288317, 0.07370825854031939, 0.07296529316761605, 0.0724771354027766, 0.07242358453841848, 0.07302446507975305, 0.07359813261416617, 0.0718856770320769, 0.07270521540777683, 0.07273868749090878, 0.07243820448312209, 0.07759143041821641, 0.07902056579395762, 0.07248177438235336, 0.07262605400238896, 0.0718178251614017, 0.07276616038221696, 0.07217095339590862, 0.07734918557745818, 0.07255842172870114, 0.07304511050593242, 0.0724250769423313, 0.07184418601247561, 0.07252991539687902, 0.07353887598580415, 0.07205870317841033, 0.07205566215558584, 0.07244783722964472, 0.07221867317409134, 0.07288582533988074, 0.07302602905634463, 0.07225736658329825, 0.07233265524519338, 0.07259581040869983, 0.07232964483326322, 0.07231500201322703, 0.07256407431961484, 0.07254070807296056, 0.07264112367954104, 0.07240335041249708, 0.07222408374601626, 0.07155034631608542, 0.07241491385516788, 0.07381595381405057, 0.072415845671428, 0.07271700915618104, 0.07234998013461331]}, {\"name\": \"Best Value\", \"type\": \"scatter\", \"x\": [0, 1, 2, 3, 4, 5, 6, 7, 8, 9, 10, 11, 12, 13, 14, 15, 16, 17, 18, 19, 20, 21, 22, 23, 24, 25, 26, 27, 28, 29, 30, 31, 32, 33, 34, 35, 36, 37, 38, 39, 40, 41, 42, 43, 44, 45, 46, 47, 48, 49, 50, 51, 52, 53, 54, 55, 56, 57, 58, 59, 60, 61, 62, 63, 64, 65, 66, 67, 68, 69, 70, 71, 72, 73, 74, 75, 76, 77, 78, 79, 80, 81, 82, 83, 84, 85, 86, 87, 88, 89, 90, 91, 92, 93, 94, 95, 96, 97, 98, 99, 100, 101, 102, 103, 104, 105, 106, 107, 108, 109, 110, 111, 112, 113, 114, 115, 116, 117, 118, 119, 120, 121, 122, 123, 124, 125, 126, 127, 128, 129, 130, 131, 132, 133, 134, 135, 136, 137, 138, 139, 140, 141, 142, 143, 144, 145, 146, 147, 148, 149, 150, 151, 152, 153, 154, 155, 156, 157, 158, 159, 160, 161, 162, 163, 164, 165, 166, 167, 168, 169, 170, 171, 172, 173, 174, 175, 176, 177, 178, 179, 180, 181, 182, 183, 184, 185, 186, 187, 188, 189, 190, 191, 192, 193, 194, 195, 196, 197, 198, 199, 200, 201, 202, 203, 204, 205, 206, 207, 208, 209, 210, 211, 212, 213, 214, 215, 216, 217, 218, 219, 220, 221, 222, 223, 224, 225, 226, 227, 228, 229, 230, 231, 232, 233, 234, 235, 236, 237, 238, 239, 240, 241, 242, 243, 244, 245, 246, 247, 248, 249, 250, 251, 252, 253, 254, 255, 256, 257, 258, 259, 260, 261, 262, 263, 264, 265, 266, 267, 268, 269, 270, 271, 272, 273, 274, 275, 276, 277, 278, 279, 280, 281, 282, 283, 284, 285, 286, 287, 288, 289, 290, 291, 292, 293, 294, 295, 296, 297, 298, 299, 300, 301, 302, 303, 304, 305, 306, 307, 308, 309, 310, 311, 312, 313, 314, 315, 316, 317, 318, 319, 320, 321, 322, 323, 324, 325, 326, 327, 328, 329, 330, 331, 332, 333, 334, 335, 336, 337, 338, 339, 340, 341, 342, 343, 344, 345, 346, 347, 348, 349, 350, 351, 352, 353, 354, 355, 356, 357, 358, 359, 360, 361, 362, 363, 364, 365, 366, 367, 368, 369, 370, 371, 372, 373, 374, 375, 376, 377, 378, 379, 380, 381, 382, 383, 384, 385, 386, 387, 388, 389, 390, 391, 392, 393, 394, 395, 396, 397, 398, 399, 400, 401, 402, 403, 404, 405, 406, 407, 408, 409, 410, 411, 412, 413, 414, 415, 416, 417, 418, 419, 420, 421, 422, 423, 424, 425, 426, 427, 428, 429, 430, 431, 432, 433, 434, 435, 436, 437, 438, 439, 440, 441, 442, 443, 444, 445, 446, 447, 448, 449, 450, 451, 452, 453, 454, 455, 456, 457, 458, 459, 460, 461, 462, 463, 464, 465, 466, 467, 468, 469, 470, 471, 472, 473, 474, 475, 476, 477, 478, 479, 480, 481, 482, 483, 484, 485, 486, 487, 488, 489, 490, 491, 492, 493, 494, 495, 496, 497, 498, 499], \"y\": [0.07771382938687706, 0.07771382938687706, 0.07771382938687706, 0.07389847107006717, 0.07389847107006717, 0.07389847107006717, 0.07389847107006717, 0.07389847107006717, 0.07389847107006717, 0.07389847107006717, 0.07373592118877868, 0.07373592118877868, 0.07373592118877868, 0.07373592118877868, 0.07373592118877868, 0.07373592118877868, 0.07226074253790207, 0.07226074253790207, 0.07226074253790207, 0.07226074253790207, 0.07226074253790207, 0.07226074253790207, 0.07224021206463674, 0.07224021206463674, 0.07224021206463674, 0.07224021206463674, 0.07224021206463674, 0.07224021206463674, 0.07224021206463674, 0.07224021206463674, 0.07224021206463674, 0.07224021206463674, 0.07224021206463674, 0.07224021206463674, 0.07224021206463674, 0.07224021206463674, 0.07224021206463674, 0.07224021206463674, 0.07224021206463674, 0.07224021206463674, 0.07224021206463674, 0.07224021206463674, 0.07224021206463674, 0.07224021206463674, 0.07224021206463674, 0.07224021206463674, 0.07224021206463674, 0.07224021206463674, 0.07224021206463674, 0.07224021206463674, 0.07224021206463674, 0.07224021206463674, 0.07224021206463674, 0.07209800476554369, 0.07209800476554369, 0.07209800476554369, 0.07209800476554369, 0.07209800476554369, 0.07209800476554369, 0.07209800476554369, 0.07209800476554369, 0.07209800476554369, 0.07209800476554369, 0.07199984288814995, 0.07199984288814995, 0.07199984288814995, 0.07199984288814995, 0.07199984288814995, 0.07199984288814995, 0.07199984288814995, 0.07199984288814995, 0.07176909874227909, 0.07176909874227909, 0.07176909874227909, 0.07176909874227909, 0.07176909874227909, 0.07176909874227909, 0.07176909874227909, 0.07176909874227909, 0.07176909874227909, 0.07176909874227909, 0.07176909874227909, 0.07176909874227909, 0.07176909874227909, 0.07176909874227909, 0.07176909874227909, 0.07176909874227909, 0.07176909874227909, 0.07176909874227909, 0.07176909874227909, 0.07176909874227909, 0.07176909874227909, 0.07176909874227909, 0.07176909874227909, 0.07176909874227909, 0.07176909874227909, 0.07176909874227909, 0.07176909874227909, 0.07176909874227909, 0.07176909874227909, 0.07176909874227909, 0.07176909874227909, 0.07176909874227909, 0.07176909874227909, 0.07176909874227909, 0.07176909874227909, 0.07176909874227909, 0.07176909874227909, 0.07176909874227909, 0.07176909874227909, 0.07176909874227909, 0.07176909874227909, 0.07176909874227909, 0.07176909874227909, 0.07176909874227909, 0.07176909874227909, 0.07176909874227909, 0.07176909874227909, 0.07176909874227909, 0.07176909874227909, 0.07176909874227909, 0.07176909874227909, 0.07176909874227909, 0.07176909874227909, 0.07176909874227909, 0.07176909874227909, 0.07176909874227909, 0.07176909874227909, 0.07176909874227909, 0.07176909874227909, 0.07176909874227909, 0.07176909874227909, 0.07176909874227909, 0.07176909874227909, 0.07176909874227909, 0.07176909874227909, 0.07176909874227909, 0.07176909874227909, 0.07176909874227909, 0.07176909874227909, 0.07176909874227909, 0.07176909874227909, 0.07176909874227909, 0.07176909874227909, 0.07176909874227909, 0.07176909874227909, 0.07176909874227909, 0.07176909874227909, 0.07176909874227909, 0.07176909874227909, 0.07176909874227909, 0.07176909874227909, 0.07176909874227909, 0.07176909874227909, 0.07176909874227909, 0.07176909874227909, 0.07176909874227909, 0.07176909874227909, 0.07176909874227909, 0.07176909874227909, 0.07176909874227909, 0.07176909874227909, 0.07176909874227909, 0.07176909874227909, 0.07176909874227909, 0.07176909874227909, 0.07176909874227909, 0.07176909874227909, 0.07176909874227909, 0.07176909874227909, 0.07176909874227909, 0.07176909874227909, 0.07176909874227909, 0.07176909874227909, 0.07176909874227909, 0.07176909874227909, 0.07176909874227909, 0.07176909874227909, 0.07176909874227909, 0.07176909874227909, 0.07176909874227909, 0.07176909874227909, 0.07176909874227909, 0.07176909874227909, 0.07176909874227909, 0.07176909874227909, 0.07176909874227909, 0.07176909874227909, 0.07176909874227909, 0.07176909874227909, 0.07176909874227909, 0.07176909874227909, 0.07176909874227909, 0.07176909874227909, 0.07176909874227909, 0.07176909874227909, 0.07176909874227909, 0.07176909874227909, 0.07176909874227909, 0.07176909874227909, 0.07176909874227909, 0.07176909874227909, 0.07176909874227909, 0.07176909874227909, 0.07176909874227909, 0.07176909874227909, 0.07176909874227909, 0.07176909874227909, 0.07176909874227909, 0.07176909874227909, 0.07176909874227909, 0.07174041586312, 0.07174041586312, 0.07174041586312, 0.07168616591091408, 0.07168616591091408, 0.07168616591091408, 0.07168616591091408, 0.07168616591091408, 0.07168616591091408, 0.07168616591091408, 0.07168616591091408, 0.07168616591091408, 0.07168616591091408, 0.07168616591091408, 0.07168616591091408, 0.07168616591091408, 0.07168616591091408, 0.07168616591091408, 0.07168616591091408, 0.07168616591091408, 0.07168616591091408, 0.07168616591091408, 0.07168616591091408, 0.07168616591091408, 0.07168616591091408, 0.07168616591091408, 0.07168616591091408, 0.07168616591091408, 0.07168616591091408, 0.07168616591091408, 0.07168616591091408, 0.07168616591091408, 0.07168616591091408, 0.07168616591091408, 0.07168616591091408, 0.07168616591091408, 0.07168616591091408, 0.07168616591091408, 0.07168616591091408, 0.07168616591091408, 0.07168616591091408, 0.07168616591091408, 0.07168616591091408, 0.07168616591091408, 0.07168616591091408, 0.07168616591091408, 0.07168616591091408, 0.07168616591091408, 0.07168616591091408, 0.07168616591091408, 0.07168616591091408, 0.07168616591091408, 0.07168616591091408, 0.07168616591091408, 0.07168616591091408, 0.07168616591091408, 0.07168616591091408, 0.07168616591091408, 0.07168616591091408, 0.07168616591091408, 0.07168616591091408, 0.07168616591091408, 0.07168616591091408, 0.07168616591091408, 0.07168616591091408, 0.07168616591091408, 0.07168616591091408, 0.07168616591091408, 0.07168616591091408, 0.07168616591091408, 0.07168616591091408, 0.07168616591091408, 0.07168616591091408, 0.07168616591091408, 0.07168616591091408, 0.07168616591091408, 0.07168616591091408, 0.07168616591091408, 0.07168616591091408, 0.07168616591091408, 0.07168616591091408, 0.07168616591091408, 0.07168616591091408, 0.07168616591091408, 0.07168616591091408, 0.07168616591091408, 0.07168616591091408, 0.07168616591091408, 0.07168616591091408, 0.07168616591091408, 0.07168616591091408, 0.07168616591091408, 0.07168616591091408, 0.07168616591091408, 0.07168616591091408, 0.07168616591091408, 0.07168616591091408, 0.07168616591091408, 0.07168616591091408, 0.07168616591091408, 0.07168616591091408, 0.07168616591091408, 0.07168616591091408, 0.07168616591091408, 0.07168616591091408, 0.07168616591091408, 0.07168616591091408, 0.07168616591091408, 0.07168616591091408, 0.07168616591091408, 0.07168616591091408, 0.07168616591091408, 0.07168616591091408, 0.07168616591091408, 0.07168616591091408, 0.07168616591091408, 0.07168616591091408, 0.07168616591091408, 0.07168616591091408, 0.07168616591091408, 0.07168616591091408, 0.07168616591091408, 0.07168616591091408, 0.07168616591091408, 0.07168616591091408, 0.07168616591091408, 0.07168616591091408, 0.07168616591091408, 0.07168616591091408, 0.07168616591091408, 0.07168616591091408, 0.07168616591091408, 0.07168616591091408, 0.07168616591091408, 0.07168616591091408, 0.07168616591091408, 0.07168616591091408, 0.07168616591091408, 0.07168616591091408, 0.07168616591091408, 0.07168616591091408, 0.07168616591091408, 0.07168616591091408, 0.07168616591091408, 0.07168616591091408, 0.07168616591091408, 0.07168616591091408, 0.07168616591091408, 0.07168616591091408, 0.07168616591091408, 0.07168616591091408, 0.07168616591091408, 0.07168616591091408, 0.07168616591091408, 0.07168616591091408, 0.07168616591091408, 0.07168616591091408, 0.07168616591091408, 0.07168616591091408, 0.07168616591091408, 0.07168616591091408, 0.07168616591091408, 0.07168616591091408, 0.07168616591091408, 0.07168616591091408, 0.07168616591091408, 0.07168616591091408, 0.07157740296343874, 0.07157740296343874, 0.07157740296343874, 0.07157740296343874, 0.07157740296343874, 0.07157740296343874, 0.07157740296343874, 0.07157740296343874, 0.07157740296343874, 0.07157740296343874, 0.07157740296343874, 0.07157740296343874, 0.07157740296343874, 0.07157740296343874, 0.07157740296343874, 0.07157740296343874, 0.07157740296343874, 0.07157740296343874, 0.07157740296343874, 0.07157740296343874, 0.07157740296343874, 0.07157740296343874, 0.07157740296343874, 0.07157740296343874, 0.07157740296343874, 0.07157740296343874, 0.07157740296343874, 0.07157740296343874, 0.07157740296343874, 0.07157740296343874, 0.07157740296343874, 0.07157740296343874, 0.07157740296343874, 0.07157740296343874, 0.07157740296343874, 0.07157740296343874, 0.07157740296343874, 0.07157740296343874, 0.07157740296343874, 0.07157740296343874, 0.07157740296343874, 0.07157740296343874, 0.07157740296343874, 0.07157740296343874, 0.07157740296343874, 0.07157740296343874, 0.07157740296343874, 0.07157740296343874, 0.07157740296343874, 0.07157740296343874, 0.07157740296343874, 0.07157740296343874, 0.07157740296343874, 0.07157740296343874, 0.07157740296343874, 0.07157740296343874, 0.07157740296343874, 0.07157740296343874, 0.07157740296343874, 0.07157740296343874, 0.07157740296343874, 0.07157740296343874, 0.07157740296343874, 0.07157740296343874, 0.07157740296343874, 0.07157740296343874, 0.07157740296343874, 0.07157740296343874, 0.07157740296343874, 0.07157740296343874, 0.07157740296343874, 0.07157740296343874, 0.07157740296343874, 0.07157740296343874, 0.07157740296343874, 0.07157740296343874, 0.07157740296343874, 0.07157740296343874, 0.07157740296343874, 0.07157740296343874, 0.07157740296343874, 0.07157740296343874, 0.07157740296343874, 0.07157740296343874, 0.07157740296343874, 0.07157740296343874, 0.07157740296343874, 0.07157740296343874, 0.07157740296343874, 0.07157740296343874, 0.07157740296343874, 0.07157740296343874, 0.07157740296343874, 0.07157740296343874, 0.07157740296343874, 0.07157740296343874, 0.07157740296343874, 0.07157740296343874, 0.07157740296343874, 0.07157740296343874, 0.07157740296343874, 0.07157740296343874, 0.07157740296343874, 0.07157740296343874, 0.07157740296343874, 0.07157740296343874, 0.07157740296343874, 0.07157740296343874, 0.07157740296343874, 0.07157740296343874, 0.07157740296343874, 0.07157740296343874, 0.07157740296343874, 0.07157740296343874, 0.07157740296343874, 0.07157740296343874, 0.07155034631608542, 0.07155034631608542, 0.07155034631608542, 0.07155034631608542, 0.07155034631608542, 0.07155034631608542]}],                        {\"template\": {\"data\": {\"bar\": [{\"error_x\": {\"color\": \"#2a3f5f\"}, \"error_y\": {\"color\": \"#2a3f5f\"}, \"marker\": {\"line\": {\"color\": \"#E5ECF6\", \"width\": 0.5}}, \"type\": \"bar\"}], \"barpolar\": [{\"marker\": {\"line\": {\"color\": \"#E5ECF6\", \"width\": 0.5}}, \"type\": \"barpolar\"}], \"carpet\": [{\"aaxis\": {\"endlinecolor\": \"#2a3f5f\", \"gridcolor\": \"white\", \"linecolor\": \"white\", \"minorgridcolor\": \"white\", \"startlinecolor\": \"#2a3f5f\"}, \"baxis\": {\"endlinecolor\": \"#2a3f5f\", \"gridcolor\": \"white\", \"linecolor\": \"white\", \"minorgridcolor\": \"white\", \"startlinecolor\": \"#2a3f5f\"}, \"type\": \"carpet\"}], \"choropleth\": [{\"colorbar\": {\"outlinewidth\": 0, \"ticks\": \"\"}, \"type\": \"choropleth\"}], \"contour\": [{\"colorbar\": {\"outlinewidth\": 0, \"ticks\": \"\"}, \"colorscale\": [[0.0, \"#0d0887\"], [0.1111111111111111, \"#46039f\"], [0.2222222222222222, \"#7201a8\"], [0.3333333333333333, \"#9c179e\"], [0.4444444444444444, \"#bd3786\"], [0.5555555555555556, \"#d8576b\"], [0.6666666666666666, \"#ed7953\"], [0.7777777777777778, \"#fb9f3a\"], [0.8888888888888888, \"#fdca26\"], [1.0, \"#f0f921\"]], \"type\": \"contour\"}], \"contourcarpet\": [{\"colorbar\": {\"outlinewidth\": 0, \"ticks\": \"\"}, \"type\": \"contourcarpet\"}], \"heatmap\": [{\"colorbar\": {\"outlinewidth\": 0, \"ticks\": \"\"}, \"colorscale\": [[0.0, \"#0d0887\"], [0.1111111111111111, \"#46039f\"], [0.2222222222222222, \"#7201a8\"], [0.3333333333333333, \"#9c179e\"], [0.4444444444444444, \"#bd3786\"], [0.5555555555555556, \"#d8576b\"], [0.6666666666666666, \"#ed7953\"], [0.7777777777777778, \"#fb9f3a\"], [0.8888888888888888, \"#fdca26\"], [1.0, \"#f0f921\"]], \"type\": \"heatmap\"}], \"heatmapgl\": [{\"colorbar\": {\"outlinewidth\": 0, \"ticks\": \"\"}, \"colorscale\": [[0.0, \"#0d0887\"], [0.1111111111111111, \"#46039f\"], [0.2222222222222222, \"#7201a8\"], [0.3333333333333333, \"#9c179e\"], [0.4444444444444444, \"#bd3786\"], [0.5555555555555556, \"#d8576b\"], [0.6666666666666666, \"#ed7953\"], [0.7777777777777778, \"#fb9f3a\"], [0.8888888888888888, \"#fdca26\"], [1.0, \"#f0f921\"]], \"type\": \"heatmapgl\"}], \"histogram\": [{\"marker\": {\"colorbar\": {\"outlinewidth\": 0, \"ticks\": \"\"}}, \"type\": \"histogram\"}], \"histogram2d\": [{\"colorbar\": {\"outlinewidth\": 0, \"ticks\": \"\"}, \"colorscale\": [[0.0, \"#0d0887\"], [0.1111111111111111, \"#46039f\"], [0.2222222222222222, \"#7201a8\"], [0.3333333333333333, \"#9c179e\"], [0.4444444444444444, \"#bd3786\"], [0.5555555555555556, \"#d8576b\"], [0.6666666666666666, \"#ed7953\"], [0.7777777777777778, \"#fb9f3a\"], [0.8888888888888888, \"#fdca26\"], [1.0, \"#f0f921\"]], \"type\": \"histogram2d\"}], \"histogram2dcontour\": [{\"colorbar\": {\"outlinewidth\": 0, \"ticks\": \"\"}, \"colorscale\": [[0.0, \"#0d0887\"], [0.1111111111111111, \"#46039f\"], [0.2222222222222222, \"#7201a8\"], [0.3333333333333333, \"#9c179e\"], [0.4444444444444444, \"#bd3786\"], [0.5555555555555556, \"#d8576b\"], [0.6666666666666666, \"#ed7953\"], [0.7777777777777778, \"#fb9f3a\"], [0.8888888888888888, \"#fdca26\"], [1.0, \"#f0f921\"]], \"type\": \"histogram2dcontour\"}], \"mesh3d\": [{\"colorbar\": {\"outlinewidth\": 0, \"ticks\": \"\"}, \"type\": \"mesh3d\"}], \"parcoords\": [{\"line\": {\"colorbar\": {\"outlinewidth\": 0, \"ticks\": \"\"}}, \"type\": \"parcoords\"}], \"pie\": [{\"automargin\": true, \"type\": \"pie\"}], \"scatter\": [{\"marker\": {\"colorbar\": {\"outlinewidth\": 0, \"ticks\": \"\"}}, \"type\": \"scatter\"}], \"scatter3d\": [{\"line\": {\"colorbar\": {\"outlinewidth\": 0, \"ticks\": \"\"}}, \"marker\": {\"colorbar\": {\"outlinewidth\": 0, \"ticks\": \"\"}}, \"type\": \"scatter3d\"}], \"scattercarpet\": [{\"marker\": {\"colorbar\": {\"outlinewidth\": 0, \"ticks\": \"\"}}, \"type\": \"scattercarpet\"}], \"scattergeo\": [{\"marker\": {\"colorbar\": {\"outlinewidth\": 0, \"ticks\": \"\"}}, \"type\": \"scattergeo\"}], \"scattergl\": [{\"marker\": {\"colorbar\": {\"outlinewidth\": 0, \"ticks\": \"\"}}, \"type\": \"scattergl\"}], \"scattermapbox\": [{\"marker\": {\"colorbar\": {\"outlinewidth\": 0, \"ticks\": \"\"}}, \"type\": \"scattermapbox\"}], \"scatterpolar\": [{\"marker\": {\"colorbar\": {\"outlinewidth\": 0, \"ticks\": \"\"}}, \"type\": \"scatterpolar\"}], \"scatterpolargl\": [{\"marker\": {\"colorbar\": {\"outlinewidth\": 0, \"ticks\": \"\"}}, \"type\": \"scatterpolargl\"}], \"scatterternary\": [{\"marker\": {\"colorbar\": {\"outlinewidth\": 0, \"ticks\": \"\"}}, \"type\": \"scatterternary\"}], \"surface\": [{\"colorbar\": {\"outlinewidth\": 0, \"ticks\": \"\"}, \"colorscale\": [[0.0, \"#0d0887\"], [0.1111111111111111, \"#46039f\"], [0.2222222222222222, \"#7201a8\"], [0.3333333333333333, \"#9c179e\"], [0.4444444444444444, \"#bd3786\"], [0.5555555555555556, \"#d8576b\"], [0.6666666666666666, \"#ed7953\"], [0.7777777777777778, \"#fb9f3a\"], [0.8888888888888888, \"#fdca26\"], [1.0, \"#f0f921\"]], \"type\": \"surface\"}], \"table\": [{\"cells\": {\"fill\": {\"color\": \"#EBF0F8\"}, \"line\": {\"color\": \"white\"}}, \"header\": {\"fill\": {\"color\": \"#C8D4E3\"}, \"line\": {\"color\": \"white\"}}, \"type\": \"table\"}]}, \"layout\": {\"annotationdefaults\": {\"arrowcolor\": \"#2a3f5f\", \"arrowhead\": 0, \"arrowwidth\": 1}, \"autotypenumbers\": \"strict\", \"coloraxis\": {\"colorbar\": {\"outlinewidth\": 0, \"ticks\": \"\"}}, \"colorscale\": {\"diverging\": [[0, \"#8e0152\"], [0.1, \"#c51b7d\"], [0.2, \"#de77ae\"], [0.3, \"#f1b6da\"], [0.4, \"#fde0ef\"], [0.5, \"#f7f7f7\"], [0.6, \"#e6f5d0\"], [0.7, \"#b8e186\"], [0.8, \"#7fbc41\"], [0.9, \"#4d9221\"], [1, \"#276419\"]], \"sequential\": [[0.0, \"#0d0887\"], [0.1111111111111111, \"#46039f\"], [0.2222222222222222, \"#7201a8\"], [0.3333333333333333, \"#9c179e\"], [0.4444444444444444, \"#bd3786\"], [0.5555555555555556, \"#d8576b\"], [0.6666666666666666, \"#ed7953\"], [0.7777777777777778, \"#fb9f3a\"], [0.8888888888888888, \"#fdca26\"], [1.0, \"#f0f921\"]], \"sequentialminus\": [[0.0, \"#0d0887\"], [0.1111111111111111, \"#46039f\"], [0.2222222222222222, \"#7201a8\"], [0.3333333333333333, \"#9c179e\"], [0.4444444444444444, \"#bd3786\"], [0.5555555555555556, \"#d8576b\"], [0.6666666666666666, \"#ed7953\"], [0.7777777777777778, \"#fb9f3a\"], [0.8888888888888888, \"#fdca26\"], [1.0, \"#f0f921\"]]}, \"colorway\": [\"#636efa\", \"#EF553B\", \"#00cc96\", \"#ab63fa\", \"#FFA15A\", \"#19d3f3\", \"#FF6692\", \"#B6E880\", \"#FF97FF\", \"#FECB52\"], \"font\": {\"color\": \"#2a3f5f\"}, \"geo\": {\"bgcolor\": \"white\", \"lakecolor\": \"white\", \"landcolor\": \"#E5ECF6\", \"showlakes\": true, \"showland\": true, \"subunitcolor\": \"white\"}, \"hoverlabel\": {\"align\": \"left\"}, \"hovermode\": \"closest\", \"mapbox\": {\"style\": \"light\"}, \"paper_bgcolor\": \"white\", \"plot_bgcolor\": \"#E5ECF6\", \"polar\": {\"angularaxis\": {\"gridcolor\": \"white\", \"linecolor\": \"white\", \"ticks\": \"\"}, \"bgcolor\": \"#E5ECF6\", \"radialaxis\": {\"gridcolor\": \"white\", \"linecolor\": \"white\", \"ticks\": \"\"}}, \"scene\": {\"xaxis\": {\"backgroundcolor\": \"#E5ECF6\", \"gridcolor\": \"white\", \"gridwidth\": 2, \"linecolor\": \"white\", \"showbackground\": true, \"ticks\": \"\", \"zerolinecolor\": \"white\"}, \"yaxis\": {\"backgroundcolor\": \"#E5ECF6\", \"gridcolor\": \"white\", \"gridwidth\": 2, \"linecolor\": \"white\", \"showbackground\": true, \"ticks\": \"\", \"zerolinecolor\": \"white\"}, \"zaxis\": {\"backgroundcolor\": \"#E5ECF6\", \"gridcolor\": \"white\", \"gridwidth\": 2, \"linecolor\": \"white\", \"showbackground\": true, \"ticks\": \"\", \"zerolinecolor\": \"white\"}}, \"shapedefaults\": {\"line\": {\"color\": \"#2a3f5f\"}}, \"ternary\": {\"aaxis\": {\"gridcolor\": \"white\", \"linecolor\": \"white\", \"ticks\": \"\"}, \"baxis\": {\"gridcolor\": \"white\", \"linecolor\": \"white\", \"ticks\": \"\"}, \"bgcolor\": \"#E5ECF6\", \"caxis\": {\"gridcolor\": \"white\", \"linecolor\": \"white\", \"ticks\": \"\"}}, \"title\": {\"x\": 0.05}, \"xaxis\": {\"automargin\": true, \"gridcolor\": \"white\", \"linecolor\": \"white\", \"ticks\": \"\", \"title\": {\"standoff\": 15}, \"zerolinecolor\": \"white\", \"zerolinewidth\": 2}, \"yaxis\": {\"automargin\": true, \"gridcolor\": \"white\", \"linecolor\": \"white\", \"ticks\": \"\", \"title\": {\"standoff\": 15}, \"zerolinecolor\": \"white\", \"zerolinewidth\": 2}}}, \"title\": {\"text\": \"Optimization History Plot\"}, \"xaxis\": {\"title\": {\"text\": \"#Trials\"}}, \"yaxis\": {\"title\": {\"text\": \"Objective Value\"}}},                        {\"staticPlot\": true, \"responsive\": true}                    ).then(function(){\n",
       "                            \n",
       "var gd = document.getElementById('eef50c98-a814-427b-a773-637f2326f67b');\n",
       "var x = new MutationObserver(function (mutations, observer) {{\n",
       "        var display = window.getComputedStyle(gd).display;\n",
       "        if (!display || display === 'none') {{\n",
       "            console.log([gd, 'removed!']);\n",
       "            Plotly.purge(gd);\n",
       "            observer.disconnect();\n",
       "        }}\n",
       "}});\n",
       "\n",
       "// Listen for the removal of the full notebook cells\n",
       "var notebookContainer = gd.closest('#notebook-container');\n",
       "if (notebookContainer) {{\n",
       "    x.observe(notebookContainer, {childList: true});\n",
       "}}\n",
       "\n",
       "// Listen for the clearing of the current output cell\n",
       "var outputEl = gd.closest('.output');\n",
       "if (outputEl) {{\n",
       "    x.observe(outputEl, {childList: true});\n",
       "}}\n",
       "\n",
       "                        })                };                });            </script>        </div>"
      ]
     },
     "metadata": {},
     "output_type": "display_data"
    }
   ],
   "source": [
    "from optuna.visualization import plot_optimization_history\n",
    "\n",
    "plotly_config = {\"staticPlot\": True}\n",
    "\n",
    "fig = plot_optimization_history(study)\n",
    "fig.show(config=plotly_config)"
   ]
  },
  {
   "cell_type": "markdown",
   "metadata": {},
   "source": [
    "This plot tells us that Optuna made the score converge to the minimum after only a few trials.\n",
    "\n",
    "Next, let's plot hyperparameter importances:"
   ]
  },
  {
   "cell_type": "code",
   "execution_count": 71,
   "metadata": {},
   "outputs": [
    {
     "data": {
      "application/vnd.plotly.v1+json": {
       "config": {
        "plotlyServerURL": "https://plot.ly",
        "responsive": true,
        "staticPlot": true
       },
       "data": [
        {
         "cliponaxis": false,
         "hovertemplate": [
          "subsample (DiscreteUniformDistribution): 0.003752990759904885<extra></extra>",
          "max_features (CategoricalDistribution): 0.04973412981021254<extra></extra>",
          "max_depth (IntUniformDistribution): 0.14425070793455644<extra></extra>",
          "learning_rate (LogUniformDistribution): 0.20126450913334573<extra></extra>",
          "n_estimators (IntUniformDistribution): 0.6009976623619805<extra></extra>"
         ],
         "marker": {
          "color": "rgb(66,146,198)"
         },
         "orientation": "h",
         "text": [
          "0.003752990759904885",
          "0.04973412981021254",
          "0.14425070793455644",
          "0.20126450913334573",
          "0.6009976623619805"
         ],
         "textposition": "outside",
         "texttemplate": "%{text:.2f}",
         "type": "bar",
         "x": [
          0.003752990759904885,
          0.04973412981021254,
          0.14425070793455644,
          0.20126450913334573,
          0.6009976623619805
         ],
         "y": [
          "subsample",
          "max_features",
          "max_depth",
          "learning_rate",
          "n_estimators"
         ]
        }
       ],
       "layout": {
        "autosize": true,
        "showlegend": false,
        "template": {
         "data": {
          "bar": [
           {
            "error_x": {
             "color": "#2a3f5f"
            },
            "error_y": {
             "color": "#2a3f5f"
            },
            "marker": {
             "line": {
              "color": "#E5ECF6",
              "width": 0.5
             }
            },
            "type": "bar"
           }
          ],
          "barpolar": [
           {
            "marker": {
             "line": {
              "color": "#E5ECF6",
              "width": 0.5
             }
            },
            "type": "barpolar"
           }
          ],
          "carpet": [
           {
            "aaxis": {
             "endlinecolor": "#2a3f5f",
             "gridcolor": "white",
             "linecolor": "white",
             "minorgridcolor": "white",
             "startlinecolor": "#2a3f5f"
            },
            "baxis": {
             "endlinecolor": "#2a3f5f",
             "gridcolor": "white",
             "linecolor": "white",
             "minorgridcolor": "white",
             "startlinecolor": "#2a3f5f"
            },
            "type": "carpet"
           }
          ],
          "choropleth": [
           {
            "colorbar": {
             "outlinewidth": 0,
             "ticks": ""
            },
            "type": "choropleth"
           }
          ],
          "contour": [
           {
            "colorbar": {
             "outlinewidth": 0,
             "ticks": ""
            },
            "colorscale": [
             [
              0,
              "#0d0887"
             ],
             [
              0.1111111111111111,
              "#46039f"
             ],
             [
              0.2222222222222222,
              "#7201a8"
             ],
             [
              0.3333333333333333,
              "#9c179e"
             ],
             [
              0.4444444444444444,
              "#bd3786"
             ],
             [
              0.5555555555555556,
              "#d8576b"
             ],
             [
              0.6666666666666666,
              "#ed7953"
             ],
             [
              0.7777777777777778,
              "#fb9f3a"
             ],
             [
              0.8888888888888888,
              "#fdca26"
             ],
             [
              1,
              "#f0f921"
             ]
            ],
            "type": "contour"
           }
          ],
          "contourcarpet": [
           {
            "colorbar": {
             "outlinewidth": 0,
             "ticks": ""
            },
            "type": "contourcarpet"
           }
          ],
          "heatmap": [
           {
            "colorbar": {
             "outlinewidth": 0,
             "ticks": ""
            },
            "colorscale": [
             [
              0,
              "#0d0887"
             ],
             [
              0.1111111111111111,
              "#46039f"
             ],
             [
              0.2222222222222222,
              "#7201a8"
             ],
             [
              0.3333333333333333,
              "#9c179e"
             ],
             [
              0.4444444444444444,
              "#bd3786"
             ],
             [
              0.5555555555555556,
              "#d8576b"
             ],
             [
              0.6666666666666666,
              "#ed7953"
             ],
             [
              0.7777777777777778,
              "#fb9f3a"
             ],
             [
              0.8888888888888888,
              "#fdca26"
             ],
             [
              1,
              "#f0f921"
             ]
            ],
            "type": "heatmap"
           }
          ],
          "heatmapgl": [
           {
            "colorbar": {
             "outlinewidth": 0,
             "ticks": ""
            },
            "colorscale": [
             [
              0,
              "#0d0887"
             ],
             [
              0.1111111111111111,
              "#46039f"
             ],
             [
              0.2222222222222222,
              "#7201a8"
             ],
             [
              0.3333333333333333,
              "#9c179e"
             ],
             [
              0.4444444444444444,
              "#bd3786"
             ],
             [
              0.5555555555555556,
              "#d8576b"
             ],
             [
              0.6666666666666666,
              "#ed7953"
             ],
             [
              0.7777777777777778,
              "#fb9f3a"
             ],
             [
              0.8888888888888888,
              "#fdca26"
             ],
             [
              1,
              "#f0f921"
             ]
            ],
            "type": "heatmapgl"
           }
          ],
          "histogram": [
           {
            "marker": {
             "colorbar": {
              "outlinewidth": 0,
              "ticks": ""
             }
            },
            "type": "histogram"
           }
          ],
          "histogram2d": [
           {
            "colorbar": {
             "outlinewidth": 0,
             "ticks": ""
            },
            "colorscale": [
             [
              0,
              "#0d0887"
             ],
             [
              0.1111111111111111,
              "#46039f"
             ],
             [
              0.2222222222222222,
              "#7201a8"
             ],
             [
              0.3333333333333333,
              "#9c179e"
             ],
             [
              0.4444444444444444,
              "#bd3786"
             ],
             [
              0.5555555555555556,
              "#d8576b"
             ],
             [
              0.6666666666666666,
              "#ed7953"
             ],
             [
              0.7777777777777778,
              "#fb9f3a"
             ],
             [
              0.8888888888888888,
              "#fdca26"
             ],
             [
              1,
              "#f0f921"
             ]
            ],
            "type": "histogram2d"
           }
          ],
          "histogram2dcontour": [
           {
            "colorbar": {
             "outlinewidth": 0,
             "ticks": ""
            },
            "colorscale": [
             [
              0,
              "#0d0887"
             ],
             [
              0.1111111111111111,
              "#46039f"
             ],
             [
              0.2222222222222222,
              "#7201a8"
             ],
             [
              0.3333333333333333,
              "#9c179e"
             ],
             [
              0.4444444444444444,
              "#bd3786"
             ],
             [
              0.5555555555555556,
              "#d8576b"
             ],
             [
              0.6666666666666666,
              "#ed7953"
             ],
             [
              0.7777777777777778,
              "#fb9f3a"
             ],
             [
              0.8888888888888888,
              "#fdca26"
             ],
             [
              1,
              "#f0f921"
             ]
            ],
            "type": "histogram2dcontour"
           }
          ],
          "mesh3d": [
           {
            "colorbar": {
             "outlinewidth": 0,
             "ticks": ""
            },
            "type": "mesh3d"
           }
          ],
          "parcoords": [
           {
            "line": {
             "colorbar": {
              "outlinewidth": 0,
              "ticks": ""
             }
            },
            "type": "parcoords"
           }
          ],
          "pie": [
           {
            "automargin": true,
            "type": "pie"
           }
          ],
          "scatter": [
           {
            "marker": {
             "colorbar": {
              "outlinewidth": 0,
              "ticks": ""
             }
            },
            "type": "scatter"
           }
          ],
          "scatter3d": [
           {
            "line": {
             "colorbar": {
              "outlinewidth": 0,
              "ticks": ""
             }
            },
            "marker": {
             "colorbar": {
              "outlinewidth": 0,
              "ticks": ""
             }
            },
            "type": "scatter3d"
           }
          ],
          "scattercarpet": [
           {
            "marker": {
             "colorbar": {
              "outlinewidth": 0,
              "ticks": ""
             }
            },
            "type": "scattercarpet"
           }
          ],
          "scattergeo": [
           {
            "marker": {
             "colorbar": {
              "outlinewidth": 0,
              "ticks": ""
             }
            },
            "type": "scattergeo"
           }
          ],
          "scattergl": [
           {
            "marker": {
             "colorbar": {
              "outlinewidth": 0,
              "ticks": ""
             }
            },
            "type": "scattergl"
           }
          ],
          "scattermapbox": [
           {
            "marker": {
             "colorbar": {
              "outlinewidth": 0,
              "ticks": ""
             }
            },
            "type": "scattermapbox"
           }
          ],
          "scatterpolar": [
           {
            "marker": {
             "colorbar": {
              "outlinewidth": 0,
              "ticks": ""
             }
            },
            "type": "scatterpolar"
           }
          ],
          "scatterpolargl": [
           {
            "marker": {
             "colorbar": {
              "outlinewidth": 0,
              "ticks": ""
             }
            },
            "type": "scatterpolargl"
           }
          ],
          "scatterternary": [
           {
            "marker": {
             "colorbar": {
              "outlinewidth": 0,
              "ticks": ""
             }
            },
            "type": "scatterternary"
           }
          ],
          "surface": [
           {
            "colorbar": {
             "outlinewidth": 0,
             "ticks": ""
            },
            "colorscale": [
             [
              0,
              "#0d0887"
             ],
             [
              0.1111111111111111,
              "#46039f"
             ],
             [
              0.2222222222222222,
              "#7201a8"
             ],
             [
              0.3333333333333333,
              "#9c179e"
             ],
             [
              0.4444444444444444,
              "#bd3786"
             ],
             [
              0.5555555555555556,
              "#d8576b"
             ],
             [
              0.6666666666666666,
              "#ed7953"
             ],
             [
              0.7777777777777778,
              "#fb9f3a"
             ],
             [
              0.8888888888888888,
              "#fdca26"
             ],
             [
              1,
              "#f0f921"
             ]
            ],
            "type": "surface"
           }
          ],
          "table": [
           {
            "cells": {
             "fill": {
              "color": "#EBF0F8"
             },
             "line": {
              "color": "white"
             }
            },
            "header": {
             "fill": {
              "color": "#C8D4E3"
             },
             "line": {
              "color": "white"
             }
            },
            "type": "table"
           }
          ]
         },
         "layout": {
          "annotationdefaults": {
           "arrowcolor": "#2a3f5f",
           "arrowhead": 0,
           "arrowwidth": 1
          },
          "autotypenumbers": "strict",
          "coloraxis": {
           "colorbar": {
            "outlinewidth": 0,
            "ticks": ""
           }
          },
          "colorscale": {
           "diverging": [
            [
             0,
             "#8e0152"
            ],
            [
             0.1,
             "#c51b7d"
            ],
            [
             0.2,
             "#de77ae"
            ],
            [
             0.3,
             "#f1b6da"
            ],
            [
             0.4,
             "#fde0ef"
            ],
            [
             0.5,
             "#f7f7f7"
            ],
            [
             0.6,
             "#e6f5d0"
            ],
            [
             0.7,
             "#b8e186"
            ],
            [
             0.8,
             "#7fbc41"
            ],
            [
             0.9,
             "#4d9221"
            ],
            [
             1,
             "#276419"
            ]
           ],
           "sequential": [
            [
             0,
             "#0d0887"
            ],
            [
             0.1111111111111111,
             "#46039f"
            ],
            [
             0.2222222222222222,
             "#7201a8"
            ],
            [
             0.3333333333333333,
             "#9c179e"
            ],
            [
             0.4444444444444444,
             "#bd3786"
            ],
            [
             0.5555555555555556,
             "#d8576b"
            ],
            [
             0.6666666666666666,
             "#ed7953"
            ],
            [
             0.7777777777777778,
             "#fb9f3a"
            ],
            [
             0.8888888888888888,
             "#fdca26"
            ],
            [
             1,
             "#f0f921"
            ]
           ],
           "sequentialminus": [
            [
             0,
             "#0d0887"
            ],
            [
             0.1111111111111111,
             "#46039f"
            ],
            [
             0.2222222222222222,
             "#7201a8"
            ],
            [
             0.3333333333333333,
             "#9c179e"
            ],
            [
             0.4444444444444444,
             "#bd3786"
            ],
            [
             0.5555555555555556,
             "#d8576b"
            ],
            [
             0.6666666666666666,
             "#ed7953"
            ],
            [
             0.7777777777777778,
             "#fb9f3a"
            ],
            [
             0.8888888888888888,
             "#fdca26"
            ],
            [
             1,
             "#f0f921"
            ]
           ]
          },
          "colorway": [
           "#636efa",
           "#EF553B",
           "#00cc96",
           "#ab63fa",
           "#FFA15A",
           "#19d3f3",
           "#FF6692",
           "#B6E880",
           "#FF97FF",
           "#FECB52"
          ],
          "font": {
           "color": "#2a3f5f"
          },
          "geo": {
           "bgcolor": "white",
           "lakecolor": "white",
           "landcolor": "#E5ECF6",
           "showlakes": true,
           "showland": true,
           "subunitcolor": "white"
          },
          "hoverlabel": {
           "align": "left"
          },
          "hovermode": "closest",
          "mapbox": {
           "style": "light"
          },
          "paper_bgcolor": "white",
          "plot_bgcolor": "#E5ECF6",
          "polar": {
           "angularaxis": {
            "gridcolor": "white",
            "linecolor": "white",
            "ticks": ""
           },
           "bgcolor": "#E5ECF6",
           "radialaxis": {
            "gridcolor": "white",
            "linecolor": "white",
            "ticks": ""
           }
          },
          "scene": {
           "xaxis": {
            "backgroundcolor": "#E5ECF6",
            "gridcolor": "white",
            "gridwidth": 2,
            "linecolor": "white",
            "showbackground": true,
            "ticks": "",
            "zerolinecolor": "white"
           },
           "yaxis": {
            "backgroundcolor": "#E5ECF6",
            "gridcolor": "white",
            "gridwidth": 2,
            "linecolor": "white",
            "showbackground": true,
            "ticks": "",
            "zerolinecolor": "white"
           },
           "zaxis": {
            "backgroundcolor": "#E5ECF6",
            "gridcolor": "white",
            "gridwidth": 2,
            "linecolor": "white",
            "showbackground": true,
            "ticks": "",
            "zerolinecolor": "white"
           }
          },
          "shapedefaults": {
           "line": {
            "color": "#2a3f5f"
           }
          },
          "ternary": {
           "aaxis": {
            "gridcolor": "white",
            "linecolor": "white",
            "ticks": ""
           },
           "baxis": {
            "gridcolor": "white",
            "linecolor": "white",
            "ticks": ""
           },
           "bgcolor": "#E5ECF6",
           "caxis": {
            "gridcolor": "white",
            "linecolor": "white",
            "ticks": ""
           }
          },
          "title": {
           "x": 0.05
          },
          "xaxis": {
           "automargin": true,
           "gridcolor": "white",
           "linecolor": "white",
           "ticks": "",
           "title": {
            "standoff": 15
           },
           "zerolinecolor": "white",
           "zerolinewidth": 2
          },
          "yaxis": {
           "automargin": true,
           "gridcolor": "white",
           "linecolor": "white",
           "ticks": "",
           "title": {
            "standoff": 15
           },
           "zerolinecolor": "white",
           "zerolinewidth": 2
          }
         }
        },
        "title": {
         "text": "Hyperparameter Importances"
        },
        "xaxis": {
         "autorange": true,
         "range": [
          0,
          0.632629118275769
         ],
         "title": {
          "text": "Importance for Objective Value"
         },
         "type": "linear"
        },
        "yaxis": {
         "autorange": true,
         "range": [
          -0.5,
          4.5
         ],
         "title": {
          "text": "Hyperparameter"
         },
         "type": "category"
        }
       }
      },
      "image/png": "[encoded data removed]",
      "text/html": [
       "<div>                            <div id=\"c800cc25-42e7-4f18-97e4-3dda3d809425\" class=\"plotly-graph-div\" style=\"height:525px; width:100%;\"></div>            <script type=\"text/javascript\">                require([\"plotly\"], function(Plotly) {                    window.PLOTLYENV=window.PLOTLYENV || {};                                    if (document.getElementById(\"c800cc25-42e7-4f18-97e4-3dda3d809425\")) {                    Plotly.newPlot(                        \"c800cc25-42e7-4f18-97e4-3dda3d809425\",                        [{\"cliponaxis\": false, \"hovertemplate\": [\"subsample (DiscreteUniformDistribution): 0.003752990759904885<extra></extra>\", \"max_features (CategoricalDistribution): 0.04973412981021254<extra></extra>\", \"max_depth (IntUniformDistribution): 0.14425070793455644<extra></extra>\", \"learning_rate (LogUniformDistribution): 0.20126450913334573<extra></extra>\", \"n_estimators (IntUniformDistribution): 0.6009976623619805<extra></extra>\"], \"marker\": {\"color\": \"rgb(66,146,198)\"}, \"orientation\": \"h\", \"text\": [\"0.003752990759904885\", \"0.04973412981021254\", \"0.14425070793455644\", \"0.20126450913334573\", \"0.6009976623619805\"], \"textposition\": \"outside\", \"texttemplate\": \"%{text:.2f}\", \"type\": \"bar\", \"x\": [0.003752990759904885, 0.04973412981021254, 0.14425070793455644, 0.20126450913334573, 0.6009976623619805], \"y\": [\"subsample\", \"max_features\", \"max_depth\", \"learning_rate\", \"n_estimators\"]}],                        {\"showlegend\": false, \"template\": {\"data\": {\"bar\": [{\"error_x\": {\"color\": \"#2a3f5f\"}, \"error_y\": {\"color\": \"#2a3f5f\"}, \"marker\": {\"line\": {\"color\": \"#E5ECF6\", \"width\": 0.5}}, \"type\": \"bar\"}], \"barpolar\": [{\"marker\": {\"line\": {\"color\": \"#E5ECF6\", \"width\": 0.5}}, \"type\": \"barpolar\"}], \"carpet\": [{\"aaxis\": {\"endlinecolor\": \"#2a3f5f\", \"gridcolor\": \"white\", \"linecolor\": \"white\", \"minorgridcolor\": \"white\", \"startlinecolor\": \"#2a3f5f\"}, \"baxis\": {\"endlinecolor\": \"#2a3f5f\", \"gridcolor\": \"white\", \"linecolor\": \"white\", \"minorgridcolor\": \"white\", \"startlinecolor\": \"#2a3f5f\"}, \"type\": \"carpet\"}], \"choropleth\": [{\"colorbar\": {\"outlinewidth\": 0, \"ticks\": \"\"}, \"type\": \"choropleth\"}], \"contour\": [{\"colorbar\": {\"outlinewidth\": 0, \"ticks\": \"\"}, \"colorscale\": [[0.0, \"#0d0887\"], [0.1111111111111111, \"#46039f\"], [0.2222222222222222, \"#7201a8\"], [0.3333333333333333, \"#9c179e\"], [0.4444444444444444, \"#bd3786\"], [0.5555555555555556, \"#d8576b\"], [0.6666666666666666, \"#ed7953\"], [0.7777777777777778, \"#fb9f3a\"], [0.8888888888888888, \"#fdca26\"], [1.0, \"#f0f921\"]], \"type\": \"contour\"}], \"contourcarpet\": [{\"colorbar\": {\"outlinewidth\": 0, \"ticks\": \"\"}, \"type\": \"contourcarpet\"}], \"heatmap\": [{\"colorbar\": {\"outlinewidth\": 0, \"ticks\": \"\"}, \"colorscale\": [[0.0, \"#0d0887\"], [0.1111111111111111, \"#46039f\"], [0.2222222222222222, \"#7201a8\"], [0.3333333333333333, \"#9c179e\"], [0.4444444444444444, \"#bd3786\"], [0.5555555555555556, \"#d8576b\"], [0.6666666666666666, \"#ed7953\"], [0.7777777777777778, \"#fb9f3a\"], [0.8888888888888888, \"#fdca26\"], [1.0, \"#f0f921\"]], \"type\": \"heatmap\"}], \"heatmapgl\": [{\"colorbar\": {\"outlinewidth\": 0, \"ticks\": \"\"}, \"colorscale\": [[0.0, \"#0d0887\"], [0.1111111111111111, \"#46039f\"], [0.2222222222222222, \"#7201a8\"], [0.3333333333333333, \"#9c179e\"], [0.4444444444444444, \"#bd3786\"], [0.5555555555555556, \"#d8576b\"], [0.6666666666666666, \"#ed7953\"], [0.7777777777777778, \"#fb9f3a\"], [0.8888888888888888, \"#fdca26\"], [1.0, \"#f0f921\"]], \"type\": \"heatmapgl\"}], \"histogram\": [{\"marker\": {\"colorbar\": {\"outlinewidth\": 0, \"ticks\": \"\"}}, \"type\": \"histogram\"}], \"histogram2d\": [{\"colorbar\": {\"outlinewidth\": 0, \"ticks\": \"\"}, \"colorscale\": [[0.0, \"#0d0887\"], [0.1111111111111111, \"#46039f\"], [0.2222222222222222, \"#7201a8\"], [0.3333333333333333, \"#9c179e\"], [0.4444444444444444, \"#bd3786\"], [0.5555555555555556, \"#d8576b\"], [0.6666666666666666, \"#ed7953\"], [0.7777777777777778, \"#fb9f3a\"], [0.8888888888888888, \"#fdca26\"], [1.0, \"#f0f921\"]], \"type\": \"histogram2d\"}], \"histogram2dcontour\": [{\"colorbar\": {\"outlinewidth\": 0, \"ticks\": \"\"}, \"colorscale\": [[0.0, \"#0d0887\"], [0.1111111111111111, \"#46039f\"], [0.2222222222222222, \"#7201a8\"], [0.3333333333333333, \"#9c179e\"], [0.4444444444444444, \"#bd3786\"], [0.5555555555555556, \"#d8576b\"], [0.6666666666666666, \"#ed7953\"], [0.7777777777777778, \"#fb9f3a\"], [0.8888888888888888, \"#fdca26\"], [1.0, \"#f0f921\"]], \"type\": \"histogram2dcontour\"}], \"mesh3d\": [{\"colorbar\": {\"outlinewidth\": 0, \"ticks\": \"\"}, \"type\": \"mesh3d\"}], \"parcoords\": [{\"line\": {\"colorbar\": {\"outlinewidth\": 0, \"ticks\": \"\"}}, \"type\": \"parcoords\"}], \"pie\": [{\"automargin\": true, \"type\": \"pie\"}], \"scatter\": [{\"marker\": {\"colorbar\": {\"outlinewidth\": 0, \"ticks\": \"\"}}, \"type\": \"scatter\"}], \"scatter3d\": [{\"line\": {\"colorbar\": {\"outlinewidth\": 0, \"ticks\": \"\"}}, \"marker\": {\"colorbar\": {\"outlinewidth\": 0, \"ticks\": \"\"}}, \"type\": \"scatter3d\"}], \"scattercarpet\": [{\"marker\": {\"colorbar\": {\"outlinewidth\": 0, \"ticks\": \"\"}}, \"type\": \"scattercarpet\"}], \"scattergeo\": [{\"marker\": {\"colorbar\": {\"outlinewidth\": 0, \"ticks\": \"\"}}, \"type\": \"scattergeo\"}], \"scattergl\": [{\"marker\": {\"colorbar\": {\"outlinewidth\": 0, \"ticks\": \"\"}}, \"type\": \"scattergl\"}], \"scattermapbox\": [{\"marker\": {\"colorbar\": {\"outlinewidth\": 0, \"ticks\": \"\"}}, \"type\": \"scattermapbox\"}], \"scatterpolar\": [{\"marker\": {\"colorbar\": {\"outlinewidth\": 0, \"ticks\": \"\"}}, \"type\": \"scatterpolar\"}], \"scatterpolargl\": [{\"marker\": {\"colorbar\": {\"outlinewidth\": 0, \"ticks\": \"\"}}, \"type\": \"scatterpolargl\"}], \"scatterternary\": [{\"marker\": {\"colorbar\": {\"outlinewidth\": 0, \"ticks\": \"\"}}, \"type\": \"scatterternary\"}], \"surface\": [{\"colorbar\": {\"outlinewidth\": 0, \"ticks\": \"\"}, \"colorscale\": [[0.0, \"#0d0887\"], [0.1111111111111111, \"#46039f\"], [0.2222222222222222, \"#7201a8\"], [0.3333333333333333, \"#9c179e\"], [0.4444444444444444, \"#bd3786\"], [0.5555555555555556, \"#d8576b\"], [0.6666666666666666, \"#ed7953\"], [0.7777777777777778, \"#fb9f3a\"], [0.8888888888888888, \"#fdca26\"], [1.0, \"#f0f921\"]], \"type\": \"surface\"}], \"table\": [{\"cells\": {\"fill\": {\"color\": \"#EBF0F8\"}, \"line\": {\"color\": \"white\"}}, \"header\": {\"fill\": {\"color\": \"#C8D4E3\"}, \"line\": {\"color\": \"white\"}}, \"type\": \"table\"}]}, \"layout\": {\"annotationdefaults\": {\"arrowcolor\": \"#2a3f5f\", \"arrowhead\": 0, \"arrowwidth\": 1}, \"autotypenumbers\": \"strict\", \"coloraxis\": {\"colorbar\": {\"outlinewidth\": 0, \"ticks\": \"\"}}, \"colorscale\": {\"diverging\": [[0, \"#8e0152\"], [0.1, \"#c51b7d\"], [0.2, \"#de77ae\"], [0.3, \"#f1b6da\"], [0.4, \"#fde0ef\"], [0.5, \"#f7f7f7\"], [0.6, \"#e6f5d0\"], [0.7, \"#b8e186\"], [0.8, \"#7fbc41\"], [0.9, \"#4d9221\"], [1, \"#276419\"]], \"sequential\": [[0.0, \"#0d0887\"], [0.1111111111111111, \"#46039f\"], [0.2222222222222222, \"#7201a8\"], [0.3333333333333333, \"#9c179e\"], [0.4444444444444444, \"#bd3786\"], [0.5555555555555556, \"#d8576b\"], [0.6666666666666666, \"#ed7953\"], [0.7777777777777778, \"#fb9f3a\"], [0.8888888888888888, \"#fdca26\"], [1.0, \"#f0f921\"]], \"sequentialminus\": [[0.0, \"#0d0887\"], [0.1111111111111111, \"#46039f\"], [0.2222222222222222, \"#7201a8\"], [0.3333333333333333, \"#9c179e\"], [0.4444444444444444, \"#bd3786\"], [0.5555555555555556, \"#d8576b\"], [0.6666666666666666, \"#ed7953\"], [0.7777777777777778, \"#fb9f3a\"], [0.8888888888888888, \"#fdca26\"], [1.0, \"#f0f921\"]]}, \"colorway\": [\"#636efa\", \"#EF553B\", \"#00cc96\", \"#ab63fa\", \"#FFA15A\", \"#19d3f3\", \"#FF6692\", \"#B6E880\", \"#FF97FF\", \"#FECB52\"], \"font\": {\"color\": \"#2a3f5f\"}, \"geo\": {\"bgcolor\": \"white\", \"lakecolor\": \"white\", \"landcolor\": \"#E5ECF6\", \"showlakes\": true, \"showland\": true, \"subunitcolor\": \"white\"}, \"hoverlabel\": {\"align\": \"left\"}, \"hovermode\": \"closest\", \"mapbox\": {\"style\": \"light\"}, \"paper_bgcolor\": \"white\", \"plot_bgcolor\": \"#E5ECF6\", \"polar\": {\"angularaxis\": {\"gridcolor\": \"white\", \"linecolor\": \"white\", \"ticks\": \"\"}, \"bgcolor\": \"#E5ECF6\", \"radialaxis\": {\"gridcolor\": \"white\", \"linecolor\": \"white\", \"ticks\": \"\"}}, \"scene\": {\"xaxis\": {\"backgroundcolor\": \"#E5ECF6\", \"gridcolor\": \"white\", \"gridwidth\": 2, \"linecolor\": \"white\", \"showbackground\": true, \"ticks\": \"\", \"zerolinecolor\": \"white\"}, \"yaxis\": {\"backgroundcolor\": \"#E5ECF6\", \"gridcolor\": \"white\", \"gridwidth\": 2, \"linecolor\": \"white\", \"showbackground\": true, \"ticks\": \"\", \"zerolinecolor\": \"white\"}, \"zaxis\": {\"backgroundcolor\": \"#E5ECF6\", \"gridcolor\": \"white\", \"gridwidth\": 2, \"linecolor\": \"white\", \"showbackground\": true, \"ticks\": \"\", \"zerolinecolor\": \"white\"}}, \"shapedefaults\": {\"line\": {\"color\": \"#2a3f5f\"}}, \"ternary\": {\"aaxis\": {\"gridcolor\": \"white\", \"linecolor\": \"white\", \"ticks\": \"\"}, \"baxis\": {\"gridcolor\": \"white\", \"linecolor\": \"white\", \"ticks\": \"\"}, \"bgcolor\": \"#E5ECF6\", \"caxis\": {\"gridcolor\": \"white\", \"linecolor\": \"white\", \"ticks\": \"\"}}, \"title\": {\"x\": 0.05}, \"xaxis\": {\"automargin\": true, \"gridcolor\": \"white\", \"linecolor\": \"white\", \"ticks\": \"\", \"title\": {\"standoff\": 15}, \"zerolinecolor\": \"white\", \"zerolinewidth\": 2}, \"yaxis\": {\"automargin\": true, \"gridcolor\": \"white\", \"linecolor\": \"white\", \"ticks\": \"\", \"title\": {\"standoff\": 15}, \"zerolinecolor\": \"white\", \"zerolinewidth\": 2}}}, \"title\": {\"text\": \"Hyperparameter Importances\"}, \"xaxis\": {\"title\": {\"text\": \"Importance for Objective Value\"}}, \"yaxis\": {\"title\": {\"text\": \"Hyperparameter\"}}},                        {\"staticPlot\": true, \"responsive\": true}                    ).then(function(){\n",
       "                            \n",
       "var gd = document.getElementById('c800cc25-42e7-4f18-97e4-3dda3d809425');\n",
       "var x = new MutationObserver(function (mutations, observer) {{\n",
       "        var display = window.getComputedStyle(gd).display;\n",
       "        if (!display || display === 'none') {{\n",
       "            console.log([gd, 'removed!']);\n",
       "            Plotly.purge(gd);\n",
       "            observer.disconnect();\n",
       "        }}\n",
       "}});\n",
       "\n",
       "// Listen for the removal of the full notebook cells\n",
       "var notebookContainer = gd.closest('#notebook-container');\n",
       "if (notebookContainer) {{\n",
       "    x.observe(notebookContainer, {childList: true});\n",
       "}}\n",
       "\n",
       "// Listen for the clearing of the current output cell\n",
       "var outputEl = gd.closest('.output');\n",
       "if (outputEl) {{\n",
       "    x.observe(outputEl, {childList: true});\n",
       "}}\n",
       "\n",
       "                        })                };                });            </script>        </div>"
      ]
     },
     "metadata": {},
     "output_type": "display_data"
    }
   ],
   "source": [
    "from optuna.visualization import plot_param_importances\n",
    "\n",
    "fig = plot_param_importances(study)\n",
    "fig.show(config=plotly_config)"
   ]
  },
  {
   "cell_type": "markdown",
   "metadata": {},
   "source": [
    "This plot is massively useful! It tells us a number of things, including:\n",
    "- `n_estimators` and `learning_rate` are the most important parameters\n",
    "- `subsample` is useless for maximizing the loss in this case\n",
    "\n",
    "A plot like this comes in handy when tuning models with many hyperparameters. For example, you could run 40-50 trials and plot the parameter importances.\n",
    "\n",
    "Depending on the plot, you might make a decision to discard some useless parameters and give a larger search space for the most important ones and start heavy-duty tuning being much prepared.\n",
    "\n",
    "You can check out [this page](https://optuna.readthedocs.io/en/stable/reference/visualization/index.html) of the documentation for more information on Optuna's supported plot types. "
   ]
  }
 ],
 "metadata": {
  "kernelspec": {
   "display_name": "medium_articles",
   "language": "python",
   "name": "medium_articles"
  },
  "language_info": {
   "codemirror_mode": {
    "name": "ipython",
    "version": 3
   },
   "file_extension": ".py",
   "mimetype": "text/x-python",
   "name": "python",
   "nbconvert_exporter": "python",
   "pygments_lexer": "ipython3",
   "version": "3.8.5"
  }
 },
 "nbformat": 4,
 "nbformat_minor": 4
}
