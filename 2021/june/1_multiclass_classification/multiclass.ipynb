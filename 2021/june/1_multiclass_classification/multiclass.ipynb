{
 "cells": [
  {
   "cell_type": "markdown",
   "metadata": {},
   "source": [
    "# Ultimate Guide to Multiclass Classification With Sklearn\n",
    "## Model selection, developing strategy and evaluation metrics\n",
    "![](./images/pexels.jpg)\n",
    "<figcaption style=\"text-align: center;\">\n",
    "    <strong>\n",
    "        Photo by \n",
    "        <a href='https://www.pexels.com/@sergiu-iacob-10475786?utm_content=attributionCopyText&utm_medium=referral&utm_source=pexels'>Sergiu Iacob</a>\n",
    "        on \n",
    "        <a href='https://www.pexels.com/photo/wave-dark-abstract-motion-7868341/?utm_content=attributionCopyText&utm_medium=referral&utm_source=pexels'>Pexels</a>\n",
    "    </strong>\n",
    "</figcaption>"
   ]
  },
  {
   "cell_type": "markdown",
   "metadata": {},
   "source": [
    "### What you will learn"
   ]
  },
  {
   "cell_type": "markdown",
   "metadata": {},
   "source": [
    "Even though multi-class classification is not as common, it certainly poses a much bigger challenge than binary classification problems. Many of the well-known strategies for solving multi-class problems breaks down the task into several or multiple (yes, in this case, there is a difference and I will explain) binary classification problems. \n",
    "\n",
    "After that, there is the issue of choosing an evaluation metric which accurately shows the model's performance across all classes. Since we are dealing with multiple binary classifiers, these metrics tend to get pretty complex. Finally, you must do hyperparameter tuning to optimize for a particular metric. Well, how can you do that if you don't know what you are optimizing for in the first place?\n",
    "\n",
    "For these reasons, this article will be about an end-to-end tutorial on how to solve any multi-class supervised classification problem using Sklearn. You will learn:\n",
    "- the methods Sklearn offers to binarize a multi-class problem\n",
    "- quick overview of the preprocessing steps required\n",
    "- how to evaluate a default model of your choice\n",
    "- details of multi-class classification metrics and finally,\n",
    "- how to maximize model performance for a particular metric"
   ]
  },
  {
   "cell_type": "code",
   "execution_count": null,
   "metadata": {},
   "outputs": [],
   "source": []
  }
 ],
 "metadata": {
  "kernelspec": {
   "display_name": "medium_articles",
   "language": "python",
   "name": "medium_articles"
  },
  "language_info": {
   "codemirror_mode": {
    "name": "ipython",
    "version": 3
   },
   "file_extension": ".py",
   "mimetype": "text/x-python",
   "name": "python",
   "nbconvert_exporter": "python",
   "pygments_lexer": "ipython3",
   "version": "3.8.5"
  }
 },
 "nbformat": 4,
 "nbformat_minor": 4
}
