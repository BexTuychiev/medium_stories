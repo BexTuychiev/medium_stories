{
 "cells": [
  {
   "cell_type": "markdown",
   "metadata": {},
   "source": [
    "# Top 7 Multiclass Metrics Explained Neatly\n",
    "## TODO\n",
    "![](images/pexels.jpg)\n",
    "<figcaption style=\"text-align: center;\">\n",
    "    <strong>\n",
    "        Photo by \n",
    "        <a href='https://www.pexels.com/@deon-black-3867281?utm_content=attributionCopyText&utm_medium=referral&utm_source=pexels'>Deon Black</a>\n",
    "        on \n",
    "        <a href='https://www.pexels.com/photo/long-fitness-health-measure-5915361/?utm_content=attributionCopyText&utm_medium=referral&utm_source=pexels'>Pexels</a>\n",
    "    </strong>\n",
    "</figcaption>"
   ]
  },
  {
   "cell_type": "markdown",
   "metadata": {},
   "source": [
    "### Setup"
   ]
  },
  {
   "cell_type": "code",
   "execution_count": 2,
   "metadata": {},
   "outputs": [],
   "source": [
    "import warnings\n",
    "\n",
    "import matplotlib.pyplot as plt\n",
    "import numpy as np\n",
    "import pandas as pd\n",
    "import seaborn as sns\n",
    "\n",
    "warnings.filterwarnings(\"ignore\")"
   ]
  },
  {
   "cell_type": "code",
   "execution_count": 40,
   "metadata": {},
   "outputs": [],
   "source": [
    "### HIDE\n",
    "\n",
    "from sklearn.datasets import make_classification\n",
    "from sklearn.ensemble import RandomForestClassifier\n",
    "from sklearn.linear_model import LogisticRegression\n",
    "from sklearn.metrics import (\n",
    "    ConfusionMatrixDisplay,\n",
    "    cohen_kappa_score,\n",
    "    confusion_matrix,\n",
    "    f1_score,\n",
    "    log_loss,\n",
    "    matthews_corrcoef,\n",
    "    plot_confusion_matrix,\n",
    "    precision_score,\n",
    "    recall_score,\n",
    "    roc_auc_score,\n",
    ")\n",
    "from sklearn.model_selection import train_test_split\n",
    "\n",
    "labels = [\"Ideal\", \"Premium\", \"Good\", \"Fair\"]\n",
    "\n",
    "# Generate dataset\n",
    "X, y = make_classification(\n",
    "    n_samples=1000,\n",
    "    n_features=10,\n",
    "    n_redundant=3,\n",
    "    n_informative=7,\n",
    "    n_classes=4,\n",
    "    random_state=1121218,\n",
    "    weights=[0.2, 0.2, 0.3, 0.3],\n",
    ")\n",
    "\n",
    "# Train/test sets\n",
    "X_train, X_test, y_train, y_test = train_test_split(\n",
    "    X, y, test_size=0.25, random_state=42\n",
    ")\n",
    "\n",
    "# Init logreg\n",
    "logreg = LogisticRegression()\n",
    "# Fit\n",
    "_ = logreg.fit(X_train, y_train)\n",
    "# Label predict\n",
    "y_pred = logreg.predict(X_test)\n",
    "# Predict proba\n",
    "y_preb_probs = logreg.predict_proba(X_test)\n",
    "\n",
    "cm = confusion_matrix(y_test, y_pred)"
   ]
  },
  {
   "cell_type": "markdown",
   "metadata": {},
   "source": [
    "### Introduction"
   ]
  },
  {
   "cell_type": "markdown",
   "metadata": {},
   "source": [
    "I have recently published [my most challenging article](https://towardsdatascience.com/comprehensive-guide-to-multiclass-classification-with-sklearn-127cc500f362?source=your_stories_page-------------------------------------) which was on the topic of multiclass classification (MC). The difficulties I have faced along the way were largely due to the excessive number of classification metrics that I had to learn and explain. By the time I finished, I realized that these metrics deserved an article of their own. \n",
    "\n",
    "So, this post will be about the 6 most commonly used MC metrics: precision, recall, F1 score, ROC AUC score, Cohen Kappa score, Matthew's Correlation coefficient and log loss. You will learn how they are calculated, their nuances in Sklearn and how to use them in your own workflow."
   ]
  },
  {
   "cell_type": "markdown",
   "metadata": {},
   "source": [
    "### Interpreting an N by N confusion matrix"
   ]
  },
  {
   "cell_type": "markdown",
   "metadata": {},
   "source": [
    "All of the metrics you will be introduced today are associated with confusion matrices in one way or the other. While a 2 by 2 confusion matrix is intuitive and easy to understand, larger confusion matrices can be *truly confusing*. For this reason, it is a good idea to get some exposure to larger, N by N matrices before diving deep into the metrics that are derived from them. \n",
    "\n",
    "Throughout this article, we will use the example of diamond classification. Specifically, the target contains 4 types of diamonds: ideal, premium, good, and fair. Evaluating any type of classifier on this diamonds data will produce a 4 by 4 matrix:"
   ]
  },
  {
   "cell_type": "code",
   "execution_count": 41,
   "metadata": {},
   "outputs": [
    {
     "data": {
      "image/png": "[encoded data removed]",
      "text/plain": [
       "<Figure size 576x360 with 2 Axes>"
      ]
     },
     "metadata": {
      "needs_background": "light"
     },
     "output_type": "display_data"
    }
   ],
   "source": [
    "## HIDE\n",
    "fig, ax = plt.subplots(figsize=(8, 5))\n",
    "\n",
    "cmp = ConfusionMatrixDisplay(cm, display_labels=labels)\n",
    "cmp.plot(ax=ax);"
   ]
  },
  {
   "cell_type": "markdown",
   "metadata": {},
   "source": [
    "Even though it gets more difficult to interpret the matrix as the number of classes increases, there are sure-fire ways to find your way around any matrix of any shape. \n",
    "\n",
    "The first step is always identifying your positive and negative classes. This depends on the problem you are trying to solve. If the classification is balanced, i. e. you care about each class equally (which is rarely the case), there may not be any positive or negative classes. If this is the case, positive and negative classes are defined per-class basis.\n",
    "\n",
    "However, as a jewelry store owner, you may want your classifier to be better at classifying ideal and premium diamonds better because they are more expensive. In that case, ideal and premium labels will be the positive class and the other labels are collectively considered as negative. \n",
    "\n",
    "After identifying the positive and negative classes, define what true positives, true negatives, false positives, false negatives are. In the above diamonds case:\n",
    "\n",
    "- **True positives, type 1**: actual ideal, predicted ideal\n",
    "- **True positives, type 2**: actual premium, predicted premium\n",
    "- **True negatives**: any negative class labels (good, fair) predicted correctly\n",
    "- **False positives**: actual value belongs to good or fair class but predicted as either ideal or premium\n",
    "- **False negative**: actual value belongs to the positive classes but predicted as either good or fair\n",
    "\n",
    "Once you define them, finding each from the matrix should be easy as it is only the matter of simple sums and subtractions."
   ]
  },
  {
   "cell_type": "markdown",
   "metadata": {},
   "source": [
    "### From binary metrics to multiclass"
   ]
  },
  {
   "cell_type": "markdown",
   "metadata": {},
   "source": [
    "The majority of classification metrics are defined for binary cases by default. In extending these binary metrics to multiclass, several averaging techniques are used. \n",
    "\n",
    "First, a multiclass problem is broken down into a series of binary problems using either One-vs-One (OVO) or One-vs-Rest (OVR, also called One-vs-All) approaches. OVO presents computational drawbacks, so, professionals prefer OVR approach. As I discussed the differences between these two approaches at length in [my last article](https://towardsdatascience.com/comprehensive-guide-to-multiclass-classification-with-sklearn-127cc500f362), we will only focus on OVR today. \n",
    "\n",
    "Essentially, One-vs-Rest strategy converts a multiclass problem into a series of binary tasks for each class in the target. For example, classifying 4 types of diamond types can be binarized into 4 tasks with OVR:\n",
    "\n",
    "- Task 1: ideal vs. \\[premium, good, fair\\] - i.e., ideal vs. not ideal\n",
    "- Task 2: premium vs. \\[ideal, good, fair\\] - i.e., premium vs. not premium\n",
    "- Task 3: good vs. \\[ideal, premium, fair\\] - i.e., good vs. not good\n",
    "- Task 4: fair vs. \\[ideal, premium, good\\] - i.e., fair vs. not fair\n",
    "\n",
    "For each task, a single binary classifier will be built and their performance is measured using a binary classification metric like precision (or any of the metrics we will discuss today). The result will be 4 precision scores. To compare one classifier to another, we need 1 precision score not 4, so we need a way to represent precision across all classes. This is where the averaging techniques comes in. \n",
    "\n",
    "Specifically, there are 3 averaging techniques applicable to multiclass classification:\n",
    "\n",
    "- **macro**: this is a simple arithmetic mean of all metrics across classes. This technique gives equal weights to all classes making it a good option for balanced classification tasks. \n",
    "- **weighted**: accounts for class imbalance by computing the average of binary metrics weighted by the number of samples of each class in the target. If 3 (*precision scores*) for 3 classes are: class 1 (0.85), class 2 (0.80) and class 3 (0.89), the weighted average will be calculated by multiplying each score to the number of occurrences of each class and dividing by the total number of samples.\n",
    "- **micro**: this is completely the same as accuracy. Micro-averaging is found by diving the sum of the diagonal cells of the matrix by the sum of the non-diagonal cells - i.e., accuracy. As accuracy is such a misleading metric, this averaging technique is almost never used.\n",
    "\n",
    "Let's finally move on to the metrics now!"
   ]
  },
  {
   "cell_type": "markdown",
   "metadata": {},
   "source": [
    "### Precision and recall for multiclass classification"
   ]
  },
  {
   "attachments": {
    "49da499f-c263-4ff0-b5d9-6940bfe1ebe7.png": {
     "image/png": "[encoded data removed]"
    }
   },
   "cell_type": "markdown",
   "metadata": {},
   "source": [
    "Precision answers the question of \"what proportion of **predicted positives** are truly *positive*?\" Of course, you can only answer this question in binary classification. That's why you ask the question as many times as the number of classes in the target. Each time, you will be asking the question for one class against others. For our diamonds classification, one example is \"what proportion of predicted ideal diamonds are actually ideal?\" \n",
    "\n",
    "The precision is calculated by dividing the true positives by the sum of true positives and false positives (*triple-p rule*):\n",
    "![image.png](attachment:49da499f-c263-4ff0-b5d9-6940bfe1ebe7.png)"
   ]
  },
  {
   "cell_type": "markdown",
   "metadata": {},
   "source": [
    "Let's calculate precision for the ideal class. Here is the confusion matrix for reference:"
   ]
  },
  {
   "cell_type": "code",
   "execution_count": 42,
   "metadata": {},
   "outputs": [
    {
     "data": {
      "image/png": "[encoded data removed]",
      "text/plain": [
       "<Figure size 576x360 with 2 Axes>"
      ]
     },
     "metadata": {
      "needs_background": "light"
     },
     "output_type": "display_data"
    }
   ],
   "source": [
    "## HIDE\n",
    "fig, ax = plt.subplots(figsize=(8, 5))\n",
    "\n",
    "cmp = ConfusionMatrixDisplay(cm, display_labels=labels)\n",
    "cmp.plot(ax=ax);"
   ]
  },
  {
   "attachments": {
    "2151b364-35f2-4a0b-ae05-9f43812bfea8.png": {
     "image/png": "[encoded data removed]"
    }
   },
   "cell_type": "markdown",
   "metadata": {},
   "source": [
    "True positives for the ideal diamonds is the top left cell (22). False positives are all the cells where other types of diamonds are predicted as ideal. These are the cells below the top left cell (5 + 2 + 9 = 19). So, precision will be:\n",
    "\n",
    "**Precision (ideal): 22 / (22 + 19) =  0.536** - a terrible score.\n",
    "\n",
    "You should optimize your model for precision when you want to decrease the number of *false positives*. In our case, it would make sense to optimize for the precision of ideal diamonds. The reason is that ideal diamonds are the most expensive and getting a false positive means classifying a cheaper diamond as ideal. If you accidentally slip such an occurrence, you might get sued for fraud. Now, let's move on to *recall*.\n",
    "\n",
    "Recall answers the question of \"what proportion of **actual positives** are correctly classified?\" It is calculated by dividing the number of true positives by the sum of true positives and false negatives.\n",
    "\n",
    "![image.png](attachment:2151b364-35f2-4a0b-ae05-9f43812bfea8.png)\n",
    "\n",
    "Let's calculate it for the premium class diamonds."
   ]
  },
  {
   "cell_type": "code",
   "execution_count": 43,
   "metadata": {},
   "outputs": [
    {
     "data": {
      "image/png": "[encoded data removed]",
      "text/plain": [
       "<Figure size 576x360 with 2 Axes>"
      ]
     },
     "metadata": {
      "needs_background": "light"
     },
     "output_type": "display_data"
    }
   ],
   "source": [
    "## HIDE\n",
    "fig, ax = plt.subplots(figsize=(8, 5))\n",
    "\n",
    "cmp = ConfusionMatrixDisplay(cm, display_labels=labels)\n",
    "cmp.plot(ax=ax);"
   ]
  },
  {
   "cell_type": "markdown",
   "metadata": {},
   "source": [
    "There are 27 true positives  (2nd row, 2 column). False negatives would be any occurrences where premium diamonds were classified as either ideal, good or fair. These would be the cells to the left and right of the true positives cell (5 + 7 + 6 = 18). So, recall will be:\n",
    "\n",
    "**Recall (premium): 27 / (27 + 18) = 0.6** - not a good score either.\n",
    "\n",
    "You should optimize your model for recall if you want to decrease the number of *false negatives*. If you are trying to detect blue bananas among yellow and red ones, you would want to decrease false negatives because blue bananas are very rare (so rare that you are hearing about them for the first time). "
   ]
  },
  {
   "cell_type": "markdown",
   "metadata": {},
   "source": [
    "If you want to see precision and recall for all classes and their macro and weighted averages, you can use Sklearn's `classification_report` function. Assuming that our labels are in `y_test` and predictions are in `y_pred`, the report for the diamonds classification will be:"
   ]
  },
  {
   "cell_type": "code",
   "execution_count": 48,
   "metadata": {},
   "outputs": [
    {
     "name": "stdout",
     "output_type": "stream",
     "text": [
      "              precision    recall  f1-score   support\n",
      "\n",
      "       Ideal       0.58      0.39      0.46        57\n",
      "     Premium       0.49      0.60      0.54        45\n",
      "        Good       0.68      0.73      0.70        74\n",
      "        Fair       0.61      0.64      0.62        74\n",
      "\n",
      "    accuracy                           0.60       250\n",
      "   macro avg       0.59      0.59      0.58       250\n",
      "weighted avg       0.60      0.60      0.59       250\n",
      "\n"
     ]
    }
   ],
   "source": [
    "from sklearn.metrics import classification_report\n",
    "\n",
    "print(classification_report(y_test, y_pred, target_names=labels))"
   ]
  },
  {
   "cell_type": "markdown",
   "metadata": {},
   "source": [
    "The last two rows show macro and weighted averages of precision and recall and they don't look too good!"
   ]
  },
  {
   "cell_type": "markdown",
   "metadata": {},
   "source": [
    "### F1 score for multiclass classification"
   ]
  },
  {
   "attachments": {
    "01187be1-528b-4128-960f-7a2ce74d4f2b.png": {
     "image/png": "[encoded data removed]"
    }
   },
   "cell_type": "markdown",
   "metadata": {},
   "source": [
    "Due to their nature, precision and recall are in a trade-off relationship. You many have to optimize one at the cost of the other. However, what if you wanted a classifier that is equally good at minimizing both the false positives and false negatives? For example, it would make sense to have a model that is equally good at catching cases where you are accidentally selling cheap diamonds as ideal so that you won't get sued and detecting occurrences where you are accidentally selling ideal diamonds for a cheaper price. \n",
    "\n",
    "This is where the F1 score comes in. It is calculated by taking the harmonic mean of precision and recall and ranges from 0 to 1.\n",
    "\n",
    "![image.png](attachment:01187be1-528b-4128-960f-7a2ce74d4f2b.png)\n",
    "\n",
    "Why take the harmonic mean rather than a simple arithmetic mean? Well, harmonic mean has a nice arithmetic property representing a truly balanced mean. If either precision or recall is low, it suffers significantly. For example, if precision is 0.45 and recall is 0.8, their harmonic mean would be 0.576 while the arithmetic mean would be 0.625. As you can see, simple mean could be misleading in this case.\n",
    "\n",
    "Both of the averaged F1 scores can be seen using the classification report output:"
   ]
  },
  {
   "cell_type": "code",
   "execution_count": 50,
   "metadata": {},
   "outputs": [
    {
     "name": "stdout",
     "output_type": "stream",
     "text": [
      "              precision    recall  f1-score   support\n",
      "\n",
      "       Ideal       0.58      0.39      0.46        57\n",
      "     Premium       0.49      0.60      0.54        45\n",
      "        Good       0.68      0.73      0.70        74\n",
      "        Fair       0.61      0.64      0.62        74\n",
      "\n",
      "    accuracy                           0.60       250\n",
      "   macro avg       0.59      0.59      0.58       250\n",
      "weighted avg       0.60      0.60      0.59       250\n",
      "\n"
     ]
    }
   ],
   "source": [
    "print(classification_report(y_test, y_pred, target_names=labels))"
   ]
  },
  {
   "cell_type": "markdown",
   "metadata": {},
   "source": [
    "F1 score will usually be between precision and recall but taking a weighted average may give a value outside of their range."
   ]
  },
  {
   "cell_type": "markdown",
   "metadata": {},
   "source": [
    "Stick around for to the next couple sections where we will discuss ROC AUC score and compare it F1. You will find out the major drawback of both of the metrics."
   ]
  }
 ],
 "metadata": {
  "kernelspec": {
   "display_name": "medium_articles",
   "language": "python",
   "name": "medium_articles"
  },
  "language_info": {
   "codemirror_mode": {
    "name": "ipython",
    "version": 3
   },
   "file_extension": ".py",
   "mimetype": "text/x-python",
   "name": "python",
   "nbconvert_exporter": "python",
   "pygments_lexer": "ipython3",
   "version": "3.8.5"
  }
 },
 "nbformat": 4,
 "nbformat_minor": 4
}
