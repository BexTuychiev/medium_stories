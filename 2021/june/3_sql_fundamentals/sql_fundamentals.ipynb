{
 "cells": [
  {
   "cell_type": "markdown",
   "metadata": {},
   "source": [
    "# Master SQL Fundamentals Effortlessly as a Pandas User\n",
    "## There was a time it was the other way around\n",
    "![](images/unsplash.jpg)\n",
    "<figcaption style=\"text-align: center;\">\n",
    "    <strong>\n",
    "        Photo by \n",
    "        <a href='https://unsplash.com/@itssammoqadam?utm_source=unsplash&utm_medium=referral&utm_content=creditCopyText'>Sam Moqadam</a>\n",
    "        on \n",
    "        <a href='https://unsplash.com/?utm_source=unsplash&utm_medium=referral&utm_content=creditCopyText'>Unsplash</a>\n",
    "    </strong>\n",
    "</figcaption>"
   ]
  },
  {
   "cell_type": "markdown",
   "metadata": {},
   "source": [
    "### Motivation"
   ]
  },
  {
   "cell_type": "markdown",
   "metadata": {},
   "source": [
    "When Pandas package gained public exposure in 2009, SQL had been dominating the data world since 1974. Pandas came with an attractive set of features such as in-built visualization, flexible data handling and became an ultimate data exploration tool. As it started gaining mass popularity, many courses and resources emerged teaching Pandas and comparing it to SQL.\n",
    "\n",
    "Flash-forward to 2021, people are now getting introduced to the Pandas package *first* rather than the universal data language - SQL. Even though SQL is as popular as ever, the flexibility and multi-functionality of Pandas is making it the first choice for beginner data scientists.\n",
    "\n",
    "Then, why do you need SQL if you know Pandas?\n",
    "\n",
    "Even though Pandas may seem a better choice, SQL still plays a crucial role in day-to-day job of a data scientist. In fact, SQL is the second most in-demand and the third most growing programming language for data science (see [here](https://towardsdatascience.com/the-most-in-demand-skills-for-data-scientists-in-2021-4b2a808f4005)). So, it is a must to add SQL to your CV if you want to get a job in the field. And knowing Pandas, learning SQL should be a breeze, as you will see in this article."
   ]
  },
  {
   "cell_type": "markdown",
   "metadata": {},
   "source": [
    "### Connecting to a Database"
   ]
  },
  {
   "cell_type": "markdown",
   "metadata": {},
   "source": [
    "Setting up an SQL workspace and connecting to a database can be a real pain in the neck. First, you need to install your favorite SQL flavor (PostgreSQL, MySQL, etc.) and download an SQL IDE too. Doing all those here would deviate us from the purpose of the article, so we will use a shortcut. \n",
    "\n",
    "Specifically, we will directly run SQL queries in a Jupyter Notebook without any additional steps. All we need to do is install the `ipython-sql` package using pip:\n",
    "\n",
    "```python\n",
    "pip install ipython-sql\n",
    "```\n",
    "\n",
    "After the installation is done, start a new Jupyter session and run this command in the notebook:\n",
    "\n",
    "```python\n",
    "%load_ext sql\n",
    "```\n",
    "and we are all set!\n",
    "\n",
    "To illustrate how basic SQL statements work, we will be using the Chinook database which can be downloaded [here](https://www.sqlitetutorial.net/sqlite-sample-database/). The database has 11 tables, each of which has its own name. \n",
    "\n",
    "To retrieve the data stored in this database's tables, run this command:"
   ]
  },
  {
   "cell_type": "code",
   "execution_count": 1,
   "metadata": {},
   "outputs": [],
   "source": [
    "%load_ext sql\n",
    "%sql sqlite:///data/chinook.db"
   ]
  },
  {
   "cell_type": "markdown",
   "metadata": {},
   "source": [
    "The statement starts with `%sql` in-line magic command that tells the notebook interpreter we will be running SQL commands. It is followed by the path that our downloaded Chinook database is in. The valid paths should always start with `sqlite:///` prefix for SQLite databases. Above, we are connecting to the database that is stored in the 'data' folder of the current directory. If you want to pass an absolute path, the prefix should be with 4 forward slashes - `sqlite:////`"
   ]
  },
  {
   "cell_type": "markdown",
   "metadata": {},
   "source": [
    "If you wish to connect to a different database flavor, you can refer to this [excellent article](https://towardsdatascience.com/heres-how-to-run-sql-in-jupyter-notebooks-f26eb90f3259)."
   ]
  },
  {
   "cell_type": "markdown",
   "metadata": {},
   "source": [
    "### Taking a First Look at the Tables"
   ]
  },
  {
   "cell_type": "markdown",
   "metadata": {},
   "source": [
    "The first thing we always do in Pandas is use the `.head()` function. Let's learn how to do that in SQL:"
   ]
  },
  {
   "cell_type": "code",
   "execution_count": 2,
   "metadata": {},
   "outputs": [
    {
     "name": "stdout",
     "output_type": "stream",
     "text": [
      " * sqlite:///data/chinook.db\n",
      "Done.\n"
     ]
    },
    {
     "data": {
      "text/html": [
       "<table>\n",
       "    <tr>\n",
       "        <th>CustomerId</th>\n",
       "        <th>FirstName</th>\n",
       "        <th>LastName</th>\n",
       "        <th>Company</th>\n",
       "        <th>Address</th>\n",
       "        <th>City</th>\n",
       "        <th>State</th>\n",
       "        <th>Country</th>\n",
       "        <th>PostalCode</th>\n",
       "        <th>Phone</th>\n",
       "        <th>Fax</th>\n",
       "        <th>Email</th>\n",
       "        <th>SupportRepId</th>\n",
       "    </tr>\n",
       "    <tr>\n",
       "        <td>1</td>\n",
       "        <td>Luís</td>\n",
       "        <td>Gonçalves</td>\n",
       "        <td>Embraer - Empresa Brasileira de Aeronáutica S.A.</td>\n",
       "        <td>Av. Brigadeiro Faria Lima, 2170</td>\n",
       "        <td>São José dos Campos</td>\n",
       "        <td>SP</td>\n",
       "        <td>Brazil</td>\n",
       "        <td>12227-000</td>\n",
       "        <td>+55 (12) 3923-5555</td>\n",
       "        <td>+55 (12) 3923-5566</td>\n",
       "        <td>luisg@embraer.com.br</td>\n",
       "        <td>3</td>\n",
       "    </tr>\n",
       "    <tr>\n",
       "        <td>2</td>\n",
       "        <td>Leonie</td>\n",
       "        <td>Köhler</td>\n",
       "        <td>None</td>\n",
       "        <td>Theodor-Heuss-Straße 34</td>\n",
       "        <td>Stuttgart</td>\n",
       "        <td>None</td>\n",
       "        <td>Germany</td>\n",
       "        <td>70174</td>\n",
       "        <td>+49 0711 2842222</td>\n",
       "        <td>None</td>\n",
       "        <td>leonekohler@surfeu.de</td>\n",
       "        <td>5</td>\n",
       "    </tr>\n",
       "    <tr>\n",
       "        <td>3</td>\n",
       "        <td>François</td>\n",
       "        <td>Tremblay</td>\n",
       "        <td>None</td>\n",
       "        <td>1498 rue Bélanger</td>\n",
       "        <td>Montréal</td>\n",
       "        <td>QC</td>\n",
       "        <td>Canada</td>\n",
       "        <td>H2G 1A7</td>\n",
       "        <td>+1 (514) 721-4711</td>\n",
       "        <td>None</td>\n",
       "        <td>ftremblay@gmail.com</td>\n",
       "        <td>3</td>\n",
       "    </tr>\n",
       "    <tr>\n",
       "        <td>4</td>\n",
       "        <td>Bjørn</td>\n",
       "        <td>Hansen</td>\n",
       "        <td>None</td>\n",
       "        <td>Ullevålsveien 14</td>\n",
       "        <td>Oslo</td>\n",
       "        <td>None</td>\n",
       "        <td>Norway</td>\n",
       "        <td>0171</td>\n",
       "        <td>+47 22 44 22 22</td>\n",
       "        <td>None</td>\n",
       "        <td>bjorn.hansen@yahoo.no</td>\n",
       "        <td>4</td>\n",
       "    </tr>\n",
       "    <tr>\n",
       "        <td>5</td>\n",
       "        <td>František</td>\n",
       "        <td>Wichterlová</td>\n",
       "        <td>JetBrains s.r.o.</td>\n",
       "        <td>Klanova 9/506</td>\n",
       "        <td>Prague</td>\n",
       "        <td>None</td>\n",
       "        <td>Czech Republic</td>\n",
       "        <td>14700</td>\n",
       "        <td>+420 2 4172 5555</td>\n",
       "        <td>+420 2 4172 5555</td>\n",
       "        <td>frantisekw@jetbrains.com</td>\n",
       "        <td>4</td>\n",
       "    </tr>\n",
       "</table>"
      ],
      "text/plain": [
       "[(1, 'Luís', 'Gonçalves', 'Embraer - Empresa Brasileira de Aeronáutica S.A.', 'Av. Brigadeiro Faria Lima, 2170', 'São José dos Campos', 'SP', 'Brazil', '12227-000', '+55 (12) 3923-5555', '+55 (12) 3923-5566', 'luisg@embraer.com.br', 3),\n",
       " (2, 'Leonie', 'Köhler', None, 'Theodor-Heuss-Straße 34', 'Stuttgart', None, 'Germany', '70174', '+49 0711 2842222', None, 'leonekohler@surfeu.de', 5),\n",
       " (3, 'François', 'Tremblay', None, '1498 rue Bélanger', 'Montréal', 'QC', 'Canada', 'H2G 1A7', '+1 (514) 721-4711', None, 'ftremblay@gmail.com', 3),\n",
       " (4, 'Bjørn', 'Hansen', None, 'Ullevålsveien 14', 'Oslo', None, 'Norway', '0171', '+47 22 44 22 22', None, 'bjorn.hansen@yahoo.no', 4),\n",
       " (5, 'František', 'Wichterlová', 'JetBrains s.r.o.', 'Klanova 9/506', 'Prague', None, 'Czech Republic', '14700', '+420 2 4172 5555', '+420 2 4172 5555', 'frantisekw@jetbrains.com', 4)]"
      ]
     },
     "execution_count": 2,
     "metadata": {},
     "output_type": "execute_result"
    }
   ],
   "source": [
    "%%sql\n",
    "\n",
    "SELECT * FROM customers\n",
    "LIMIT 5"
   ]
  },
  {
   "cell_type": "markdown",
   "metadata": {},
   "source": [
    "The first keyword in the above query is `SELECT`. It is equivalent to the brackets operator in Pandas where we select specific columns. But, the SELECT keyword is followed by a * (asterisk). * is an SQL operator that tells to select everything (all rows and columns) from a table specified after the `FROM` keyword. LIMIT is used to minimize the output returned. So, the above query is equivalent to `df.head()` function."
   ]
  },
  {
   "cell_type": "markdown",
   "metadata": {},
   "source": [
    "If you don't want to select all columns, you can specify one or more column names after the SELECT keyword:"
   ]
  },
  {
   "cell_type": "code",
   "execution_count": 3,
   "metadata": {},
   "outputs": [
    {
     "name": "stdout",
     "output_type": "stream",
     "text": [
      " * sqlite:///data/chinook.db\n",
      "Done.\n"
     ]
    },
    {
     "data": {
      "text/html": [
       "<table>\n",
       "    <tr>\n",
       "        <th>Name</th>\n",
       "        <th>Composer</th>\n",
       "        <th>UnitPrice</th>\n",
       "    </tr>\n",
       "    <tr>\n",
       "        <td>For Those About To Rock (We Salute You)</td>\n",
       "        <td>Angus Young, Malcolm Young, Brian Johnson</td>\n",
       "        <td>0.99</td>\n",
       "    </tr>\n",
       "    <tr>\n",
       "        <td>Balls to the Wall</td>\n",
       "        <td>None</td>\n",
       "        <td>0.99</td>\n",
       "    </tr>\n",
       "    <tr>\n",
       "        <td>Fast As a Shark</td>\n",
       "        <td>F. Baltes, S. Kaufman, U. Dirkscneider &amp; W. Hoffman</td>\n",
       "        <td>0.99</td>\n",
       "    </tr>\n",
       "    <tr>\n",
       "        <td>Restless and Wild</td>\n",
       "        <td>F. Baltes, R.A. Smith-Diesel, S. Kaufman, U. Dirkscneider &amp; W. Hoffman</td>\n",
       "        <td>0.99</td>\n",
       "    </tr>\n",
       "    <tr>\n",
       "        <td>Princess of the Dawn</td>\n",
       "        <td>Deaffy &amp; R.A. Smith-Diesel</td>\n",
       "        <td>0.99</td>\n",
       "    </tr>\n",
       "    <tr>\n",
       "        <td>Put The Finger On You</td>\n",
       "        <td>Angus Young, Malcolm Young, Brian Johnson</td>\n",
       "        <td>0.99</td>\n",
       "    </tr>\n",
       "    <tr>\n",
       "        <td>Let&#x27;s Get It Up</td>\n",
       "        <td>Angus Young, Malcolm Young, Brian Johnson</td>\n",
       "        <td>0.99</td>\n",
       "    </tr>\n",
       "    <tr>\n",
       "        <td>Inject The Venom</td>\n",
       "        <td>Angus Young, Malcolm Young, Brian Johnson</td>\n",
       "        <td>0.99</td>\n",
       "    </tr>\n",
       "    <tr>\n",
       "        <td>Snowballed</td>\n",
       "        <td>Angus Young, Malcolm Young, Brian Johnson</td>\n",
       "        <td>0.99</td>\n",
       "    </tr>\n",
       "    <tr>\n",
       "        <td>Evil Walks</td>\n",
       "        <td>Angus Young, Malcolm Young, Brian Johnson</td>\n",
       "        <td>0.99</td>\n",
       "    </tr>\n",
       "</table>"
      ],
      "text/plain": [
       "[('For Those About To Rock (We Salute You)', 'Angus Young, Malcolm Young, Brian Johnson', 0.99),\n",
       " ('Balls to the Wall', None, 0.99),\n",
       " ('Fast As a Shark', 'F. Baltes, S. Kaufman, U. Dirkscneider & W. Hoffman', 0.99),\n",
       " ('Restless and Wild', 'F. Baltes, R.A. Smith-Diesel, S. Kaufman, U. Dirkscneider & W. Hoffman', 0.99),\n",
       " ('Princess of the Dawn', 'Deaffy & R.A. Smith-Diesel', 0.99),\n",
       " ('Put The Finger On You', 'Angus Young, Malcolm Young, Brian Johnson', 0.99),\n",
       " (\"Let's Get It Up\", 'Angus Young, Malcolm Young, Brian Johnson', 0.99),\n",
       " ('Inject The Venom', 'Angus Young, Malcolm Young, Brian Johnson', 0.99),\n",
       " ('Snowballed', 'Angus Young, Malcolm Young, Brian Johnson', 0.99),\n",
       " ('Evil Walks', 'Angus Young, Malcolm Young, Brian Johnson', 0.99)]"
      ]
     },
     "execution_count": 3,
     "metadata": {},
     "output_type": "execute_result"
    }
   ],
   "source": [
    "%%sql\n",
    "\n",
    "SELECT Name, Composer, UnitPrice\n",
    "FROM tracks\n",
    "LIMIT 10"
   ]
  },
  {
   "cell_type": "markdown",
   "metadata": {},
   "source": [
    "The equivalent Pandas operation is \n",
    "```python\n",
    "tracks[['Name', 'Composer', 'UnitPrice']].head(10)\n",
    "```"
   ]
  },
  {
   "cell_type": "markdown",
   "metadata": {},
   "source": [
    "Another useful keyword in SQL is `DISTINCT`. Adding this keyword before any column name returns its unique values:"
   ]
  },
  {
   "cell_type": "code",
   "execution_count": 4,
   "metadata": {},
   "outputs": [
    {
     "name": "stdout",
     "output_type": "stream",
     "text": [
      " * sqlite:///data/chinook.db\n",
      "Done.\n"
     ]
    },
    {
     "data": {
      "text/html": [
       "<table>\n",
       "    <tr>\n",
       "        <th>FirstName</th>\n",
       "    </tr>\n",
       "    <tr>\n",
       "        <td>Andrew</td>\n",
       "    </tr>\n",
       "    <tr>\n",
       "        <td>Nancy</td>\n",
       "    </tr>\n",
       "    <tr>\n",
       "        <td>Jane</td>\n",
       "    </tr>\n",
       "    <tr>\n",
       "        <td>Margaret</td>\n",
       "    </tr>\n",
       "    <tr>\n",
       "        <td>Steve</td>\n",
       "    </tr>\n",
       "    <tr>\n",
       "        <td>Michael</td>\n",
       "    </tr>\n",
       "    <tr>\n",
       "        <td>Robert</td>\n",
       "    </tr>\n",
       "    <tr>\n",
       "        <td>Laura</td>\n",
       "    </tr>\n",
       "</table>"
      ],
      "text/plain": [
       "[('Andrew',),\n",
       " ('Nancy',),\n",
       " ('Jane',),\n",
       " ('Margaret',),\n",
       " ('Steve',),\n",
       " ('Michael',),\n",
       " ('Robert',),\n",
       " ('Laura',)]"
      ]
     },
     "execution_count": 4,
     "metadata": {},
     "output_type": "execute_result"
    }
   ],
   "source": [
    "%%sql\n",
    "\n",
    "SELECT DISTINCT FirstName\n",
    "FROM employees\n",
    "\n",
    "-- equivalent to `.value_counts()`"
   ]
  },
  {
   "cell_type": "markdown",
   "metadata": {},
   "source": [
    "Comments in SQL are written with double dashes"
   ]
  },
  {
   "cell_type": "markdown",
   "metadata": {},
   "source": [
    "### Counting the Number of Rows"
   ]
  },
  {
   "cell_type": "markdown",
   "metadata": {},
   "source": [
    "Just like Pandas has `.shape` attribute on its DataFrames, SQL has a `COUNT` function to display the number of rows in a table:"
   ]
  },
  {
   "cell_type": "code",
   "execution_count": 5,
   "metadata": {},
   "outputs": [
    {
     "name": "stdout",
     "output_type": "stream",
     "text": [
      " * sqlite:///data/chinook.db\n",
      "Done.\n"
     ]
    },
    {
     "data": {
      "text/html": [
       "<table>\n",
       "    <tr>\n",
       "        <th>COUNT(*)</th>\n",
       "    </tr>\n",
       "    <tr>\n",
       "        <td>3503</td>\n",
       "    </tr>\n",
       "</table>"
      ],
      "text/plain": [
       "[(3503,)]"
      ]
     },
     "execution_count": 5,
     "metadata": {},
     "output_type": "execute_result"
    }
   ],
   "source": [
    "%%sql\n",
    "\n",
    "SELECT COUNT(*) FROM tracks"
   ]
  },
  {
   "cell_type": "markdown",
   "metadata": {},
   "source": [
    "It is also possible to pass a column name to COUNT:"
   ]
  },
  {
   "cell_type": "code",
   "execution_count": 6,
   "metadata": {},
   "outputs": [
    {
     "name": "stdout",
     "output_type": "stream",
     "text": [
      " * sqlite:///data/chinook.db\n",
      "Done.\n"
     ]
    },
    {
     "data": {
      "text/html": [
       "<table>\n",
       "    <tr>\n",
       "        <th>COUNT(FirstName)</th>\n",
       "    </tr>\n",
       "    <tr>\n",
       "        <td>59</td>\n",
       "    </tr>\n",
       "</table>"
      ],
      "text/plain": [
       "[(59,)]"
      ]
     },
     "execution_count": 6,
     "metadata": {},
     "output_type": "execute_result"
    }
   ],
   "source": [
    "%sql SELECT COUNT(FirstName) FROM customers"
   ]
  },
  {
   "cell_type": "markdown",
   "metadata": {},
   "source": [
    "But the output would be the same as COUNT(\\*). A more useful info would be counting the number of unique values in a particular column. We can do this by adding the DISTINCT keyword into COUNT:"
   ]
  },
  {
   "cell_type": "code",
   "execution_count": 7,
   "metadata": {},
   "outputs": [
    {
     "name": "stdout",
     "output_type": "stream",
     "text": [
      " * sqlite:///data/chinook.db\n",
      "Done.\n"
     ]
    },
    {
     "data": {
      "text/html": [
       "<table>\n",
       "    <tr>\n",
       "        <th>COUNT(DISTINCT FirstName)</th>\n",
       "    </tr>\n",
       "    <tr>\n",
       "        <td>8</td>\n",
       "    </tr>\n",
       "</table>"
      ],
      "text/plain": [
       "[(8,)]"
      ]
     },
     "execution_count": 7,
     "metadata": {},
     "output_type": "execute_result"
    }
   ],
   "source": [
    "%%sql \n",
    "\n",
    "SELECT COUNT(DISTINCT FirstName) FROM employees\n",
    "\n",
    "-- equivalent to `employees['FirstName'].nunique()`"
   ]
  },
  {
   "cell_type": "markdown",
   "metadata": {},
   "source": [
    "### Filtering Results With WHERE Clauses"
   ]
  },
  {
   "cell_type": "markdown",
   "metadata": {},
   "source": [
    "Just looking and counting rows is pretty lame. Let's see how we can display rows based on conditions.\n",
    "\n",
    "First, let's look at the songs which cost more than a dollar:"
   ]
  },
  {
   "cell_type": "code",
   "execution_count": 8,
   "metadata": {},
   "outputs": [
    {
     "name": "stdout",
     "output_type": "stream",
     "text": [
      " * sqlite:///data/chinook.db\n",
      "Done.\n"
     ]
    },
    {
     "data": {
      "text/html": [
       "<table>\n",
       "    <tr>\n",
       "        <th>TrackId</th>\n",
       "        <th>Name</th>\n",
       "        <th>AlbumId</th>\n",
       "        <th>MediaTypeId</th>\n",
       "        <th>GenreId</th>\n",
       "        <th>Composer</th>\n",
       "        <th>Milliseconds</th>\n",
       "        <th>Bytes</th>\n",
       "        <th>UnitPrice</th>\n",
       "    </tr>\n",
       "    <tr>\n",
       "        <td>2819</td>\n",
       "        <td>Battlestar Galactica: The Story So Far</td>\n",
       "        <td>226</td>\n",
       "        <td>3</td>\n",
       "        <td>18</td>\n",
       "        <td>None</td>\n",
       "        <td>2622250</td>\n",
       "        <td>490750393</td>\n",
       "        <td>1.99</td>\n",
       "    </tr>\n",
       "    <tr>\n",
       "        <td>2820</td>\n",
       "        <td>Occupation / Precipice</td>\n",
       "        <td>227</td>\n",
       "        <td>3</td>\n",
       "        <td>19</td>\n",
       "        <td>None</td>\n",
       "        <td>5286953</td>\n",
       "        <td>1054423946</td>\n",
       "        <td>1.99</td>\n",
       "    </tr>\n",
       "    <tr>\n",
       "        <td>2821</td>\n",
       "        <td>Exodus, Pt. 1</td>\n",
       "        <td>227</td>\n",
       "        <td>3</td>\n",
       "        <td>19</td>\n",
       "        <td>None</td>\n",
       "        <td>2621708</td>\n",
       "        <td>475079441</td>\n",
       "        <td>1.99</td>\n",
       "    </tr>\n",
       "    <tr>\n",
       "        <td>2822</td>\n",
       "        <td>Exodus, Pt. 2</td>\n",
       "        <td>227</td>\n",
       "        <td>3</td>\n",
       "        <td>19</td>\n",
       "        <td>None</td>\n",
       "        <td>2618000</td>\n",
       "        <td>466820021</td>\n",
       "        <td>1.99</td>\n",
       "    </tr>\n",
       "    <tr>\n",
       "        <td>2823</td>\n",
       "        <td>Collaborators</td>\n",
       "        <td>227</td>\n",
       "        <td>3</td>\n",
       "        <td>19</td>\n",
       "        <td>None</td>\n",
       "        <td>2626626</td>\n",
       "        <td>483484911</td>\n",
       "        <td>1.99</td>\n",
       "    </tr>\n",
       "    <tr>\n",
       "        <td>2824</td>\n",
       "        <td>Torn</td>\n",
       "        <td>227</td>\n",
       "        <td>3</td>\n",
       "        <td>19</td>\n",
       "        <td>None</td>\n",
       "        <td>2631291</td>\n",
       "        <td>495262585</td>\n",
       "        <td>1.99</td>\n",
       "    </tr>\n",
       "    <tr>\n",
       "        <td>2825</td>\n",
       "        <td>A Measure of Salvation</td>\n",
       "        <td>227</td>\n",
       "        <td>3</td>\n",
       "        <td>18</td>\n",
       "        <td>None</td>\n",
       "        <td>2563938</td>\n",
       "        <td>489715554</td>\n",
       "        <td>1.99</td>\n",
       "    </tr>\n",
       "    <tr>\n",
       "        <td>2826</td>\n",
       "        <td>Hero</td>\n",
       "        <td>227</td>\n",
       "        <td>3</td>\n",
       "        <td>18</td>\n",
       "        <td>None</td>\n",
       "        <td>2713755</td>\n",
       "        <td>506896959</td>\n",
       "        <td>1.99</td>\n",
       "    </tr>\n",
       "    <tr>\n",
       "        <td>2827</td>\n",
       "        <td>Unfinished Business</td>\n",
       "        <td>227</td>\n",
       "        <td>3</td>\n",
       "        <td>18</td>\n",
       "        <td>None</td>\n",
       "        <td>2622038</td>\n",
       "        <td>528499160</td>\n",
       "        <td>1.99</td>\n",
       "    </tr>\n",
       "    <tr>\n",
       "        <td>2828</td>\n",
       "        <td>The Passage</td>\n",
       "        <td>227</td>\n",
       "        <td>3</td>\n",
       "        <td>18</td>\n",
       "        <td>None</td>\n",
       "        <td>2623875</td>\n",
       "        <td>490375760</td>\n",
       "        <td>1.99</td>\n",
       "    </tr>\n",
       "</table>"
      ],
      "text/plain": [
       "[(2819, 'Battlestar Galactica: The Story So Far', 226, 3, 18, None, 2622250, 490750393, 1.99),\n",
       " (2820, 'Occupation / Precipice', 227, 3, 19, None, 5286953, 1054423946, 1.99),\n",
       " (2821, 'Exodus, Pt. 1', 227, 3, 19, None, 2621708, 475079441, 1.99),\n",
       " (2822, 'Exodus, Pt. 2', 227, 3, 19, None, 2618000, 466820021, 1.99),\n",
       " (2823, 'Collaborators', 227, 3, 19, None, 2626626, 483484911, 1.99),\n",
       " (2824, 'Torn', 227, 3, 19, None, 2631291, 495262585, 1.99),\n",
       " (2825, 'A Measure of Salvation', 227, 3, 18, None, 2563938, 489715554, 1.99),\n",
       " (2826, 'Hero', 227, 3, 18, None, 2713755, 506896959, 1.99),\n",
       " (2827, 'Unfinished Business', 227, 3, 18, None, 2622038, 528499160, 1.99),\n",
       " (2828, 'The Passage', 227, 3, 18, None, 2623875, 490375760, 1.99)]"
      ]
     },
     "execution_count": 8,
     "metadata": {},
     "output_type": "execute_result"
    }
   ],
   "source": [
    "%%sql\n",
    "\n",
    "SELECT * FROM tracks\n",
    "WHERE UnitPrice > 1.0\n",
    "LIMIT 10\n",
    "\n",
    "--tracks[tracks['UnitPrice' > 1.0]]"
   ]
  },
  {
   "cell_type": "markdown",
   "metadata": {},
   "source": [
    "Conditional statements are written after in the WHERE clause which always comes after FROM and before the LIMIT keywords. Using conditionals are pretty similar to how we do it in Pandas. You can also use the COUNT function when using conditionals. For example, let's see the number of songs that are priced between 1 and 10 dollars:"
   ]
  },
  {
   "cell_type": "code",
   "execution_count": 9,
   "metadata": {},
   "outputs": [
    {
     "name": "stdout",
     "output_type": "stream",
     "text": [
      " * sqlite:///data/chinook.db\n",
      "Done.\n"
     ]
    },
    {
     "data": {
      "text/html": [
       "<table>\n",
       "    <tr>\n",
       "        <th>COUNT(*)</th>\n",
       "    </tr>\n",
       "    <tr>\n",
       "        <td>213</td>\n",
       "    </tr>\n",
       "</table>"
      ],
      "text/plain": [
       "[(213,)]"
      ]
     },
     "execution_count": 9,
     "metadata": {},
     "output_type": "execute_result"
    }
   ],
   "source": [
    "%%sql\n",
    "\n",
    "SELECT COUNT(*) FROM tracks\n",
    "WHERE UnitPrice > 1.0 AND UnitPrice < 10\n",
    "\n",
    "-- tracks[(tracks['UnitPrice'] > 1) & (tracks['UnitPrice'] < 10)]"
   ]
  },
  {
   "cell_type": "markdown",
   "metadata": {},
   "source": [
    "Above we chained two conditions with the boolean operator AND. Other boolean operators are the same in SQL. \n",
    "\n",
    "Now, let's see all the invoices that has Paris or Berlin as a billing city:"
   ]
  },
  {
   "cell_type": "code",
   "execution_count": 10,
   "metadata": {},
   "outputs": [
    {
     "name": "stdout",
     "output_type": "stream",
     "text": [
      " * sqlite:///data/chinook.db\n",
      "Done.\n"
     ]
    },
    {
     "data": {
      "text/html": [
       "<table>\n",
       "    <tr>\n",
       "        <th>BillingAddress</th>\n",
       "        <th>BillingCity</th>\n",
       "        <th>Total</th>\n",
       "    </tr>\n",
       "    <tr>\n",
       "        <td>Barbarossastraße 19</td>\n",
       "        <td>Berlin</td>\n",
       "        <td>1.98</td>\n",
       "    </tr>\n",
       "    <tr>\n",
       "        <td>8, Rue Hanovre</td>\n",
       "        <td>Paris</td>\n",
       "        <td>1.98</td>\n",
       "    </tr>\n",
       "    <tr>\n",
       "        <td>8, Rue Hanovre</td>\n",
       "        <td>Paris</td>\n",
       "        <td>13.86</td>\n",
       "    </tr>\n",
       "    <tr>\n",
       "        <td>Tauentzienstraße 8</td>\n",
       "        <td>Berlin</td>\n",
       "        <td>1.98</td>\n",
       "    </tr>\n",
       "    <tr>\n",
       "        <td>Barbarossastraße 19</td>\n",
       "        <td>Berlin</td>\n",
       "        <td>3.96</td>\n",
       "    </tr>\n",
       "</table>"
      ],
      "text/plain": [
       "[('Barbarossastraße 19', 'Berlin', 1.98),\n",
       " ('8, Rue Hanovre', 'Paris', 1.98),\n",
       " ('8, Rue Hanovre', 'Paris', 13.86),\n",
       " ('Tauentzienstraße 8', 'Berlin', 1.98),\n",
       " ('Barbarossastraße 19', 'Berlin', 3.96)]"
      ]
     },
     "execution_count": 10,
     "metadata": {},
     "output_type": "execute_result"
    }
   ],
   "source": [
    "%%sql\n",
    "\n",
    "SELECT BillingAddress, BillingCity, Total\n",
    "FROM invoices\n",
    "WHERE BillingCity = 'Paris' OR BillingCity = 'Berlin'\n",
    "LIMIT 5\n",
    "\n",
    "--invoices[(invoices['BillingCity'] == 'Paris') &\n",
    "--         (invoices['BillingCity'] == 'Berlin')]"
   ]
  },
  {
   "cell_type": "markdown",
   "metadata": {},
   "source": [
    "Equality operator in SQL requires only one '=' (equal) sign. The inequality operator is represented with either '!=' or '<>' operators:"
   ]
  },
  {
   "cell_type": "code",
   "execution_count": 11,
   "metadata": {},
   "outputs": [
    {
     "name": "stdout",
     "output_type": "stream",
     "text": [
      " * sqlite:///data/chinook.db\n",
      "Done.\n"
     ]
    },
    {
     "data": {
      "text/html": [
       "<table>\n",
       "    <tr>\n",
       "        <th>BillingAddress</th>\n",
       "        <th>BillingCity</th>\n",
       "        <th>Total</th>\n",
       "    </tr>\n",
       "    <tr>\n",
       "        <td>Theodor-Heuss-Straße 34</td>\n",
       "        <td>Stuttgart</td>\n",
       "        <td>1.98</td>\n",
       "    </tr>\n",
       "    <tr>\n",
       "        <td>Ullevålsveien 14</td>\n",
       "        <td>Oslo</td>\n",
       "        <td>3.96</td>\n",
       "    </tr>\n",
       "    <tr>\n",
       "        <td>Grétrystraat 63</td>\n",
       "        <td>Brussels</td>\n",
       "        <td>5.94</td>\n",
       "    </tr>\n",
       "    <tr>\n",
       "        <td>8210 111 ST NW</td>\n",
       "        <td>Edmonton</td>\n",
       "        <td>8.91</td>\n",
       "    </tr>\n",
       "    <tr>\n",
       "        <td>69 Salem Street</td>\n",
       "        <td>Boston</td>\n",
       "        <td>13.86</td>\n",
       "    </tr>\n",
       "</table>"
      ],
      "text/plain": [
       "[('Theodor-Heuss-Straße 34', 'Stuttgart', 1.98),\n",
       " ('Ullevålsveien 14', 'Oslo', 3.96),\n",
       " ('Grétrystraat 63', 'Brussels', 5.94),\n",
       " ('8210 111 ST NW', 'Edmonton', 8.91),\n",
       " ('69 Salem Street', 'Boston', 13.86)]"
      ]
     },
     "execution_count": 11,
     "metadata": {},
     "output_type": "execute_result"
    }
   ],
   "source": [
    "%%sql\n",
    "\n",
    "SELECT BillingAddress, BillingCity, Total\n",
    "FROM invoices\n",
    "WHERE BillingCity != 'Paris' AND BillingCity <> 'Berlin'\n",
    "LIMIT 5"
   ]
  },
  {
   "cell_type": "markdown",
   "metadata": {},
   "source": [
    "### Easier Filtering With BETWEEN And IN"
   ]
  },
  {
   "cell_type": "markdown",
   "metadata": {},
   "source": [
    "Some similar conditionals are used very often and writing them out with simple booleans becomes cumbersome. For example, Pandas has `.isin()` function which checks if a value belongs to a list of groups or values. If we wanted to select all invoices for 5 cities, we would have to write 5 chained conditions. Luckily, SQL supports a similar IN operator like `.isin()`:"
   ]
  },
  {
   "cell_type": "code",
   "execution_count": 12,
   "metadata": {},
   "outputs": [
    {
     "name": "stdout",
     "output_type": "stream",
     "text": [
      " * sqlite:///data/chinook.db\n",
      "Done.\n"
     ]
    },
    {
     "data": {
      "text/html": [
       "<table>\n",
       "    <tr>\n",
       "        <th>InvoiceId</th>\n",
       "        <th>CustomerId</th>\n",
       "        <th>InvoiceDate</th>\n",
       "        <th>BillingAddress</th>\n",
       "        <th>BillingCity</th>\n",
       "        <th>BillingState</th>\n",
       "        <th>BillingCountry</th>\n",
       "        <th>BillingPostalCode</th>\n",
       "        <th>Total</th>\n",
       "    </tr>\n",
       "    <tr>\n",
       "        <td>5</td>\n",
       "        <td>23</td>\n",
       "        <td>2009-01-11 00:00:00</td>\n",
       "        <td>69 Salem Street</td>\n",
       "        <td>Boston</td>\n",
       "        <td>MA</td>\n",
       "        <td>USA</td>\n",
       "        <td>2113</td>\n",
       "        <td>13.86</td>\n",
       "    </tr>\n",
       "    <tr>\n",
       "        <td>7</td>\n",
       "        <td>38</td>\n",
       "        <td>2009-02-01 00:00:00</td>\n",
       "        <td>Barbarossastraße 19</td>\n",
       "        <td>Berlin</td>\n",
       "        <td>None</td>\n",
       "        <td>Germany</td>\n",
       "        <td>10779</td>\n",
       "        <td>1.98</td>\n",
       "    </tr>\n",
       "    <tr>\n",
       "        <td>8</td>\n",
       "        <td>40</td>\n",
       "        <td>2009-02-01 00:00:00</td>\n",
       "        <td>8, Rue Hanovre</td>\n",
       "        <td>Paris</td>\n",
       "        <td>None</td>\n",
       "        <td>France</td>\n",
       "        <td>75002</td>\n",
       "        <td>1.98</td>\n",
       "    </tr>\n",
       "    <tr>\n",
       "        <td>11</td>\n",
       "        <td>52</td>\n",
       "        <td>2009-02-06 00:00:00</td>\n",
       "        <td>202 Hoxton Street</td>\n",
       "        <td>London</td>\n",
       "        <td>None</td>\n",
       "        <td>United Kingdom</td>\n",
       "        <td>N1 5LH</td>\n",
       "        <td>8.91</td>\n",
       "    </tr>\n",
       "    <tr>\n",
       "        <td>19</td>\n",
       "        <td>40</td>\n",
       "        <td>2009-03-14 00:00:00</td>\n",
       "        <td>8, Rue Hanovre</td>\n",
       "        <td>Paris</td>\n",
       "        <td>None</td>\n",
       "        <td>France</td>\n",
       "        <td>75002</td>\n",
       "        <td>13.86</td>\n",
       "    </tr>\n",
       "</table>"
      ],
      "text/plain": [
       "[(5, 23, '2009-01-11 00:00:00', '69 Salem Street', 'Boston', 'MA', 'USA', '2113', 13.86),\n",
       " (7, 38, '2009-02-01 00:00:00', 'Barbarossastraße 19', 'Berlin', None, 'Germany', '10779', 1.98),\n",
       " (8, 40, '2009-02-01 00:00:00', '8, Rue Hanovre', 'Paris', None, 'France', '75002', 1.98),\n",
       " (11, 52, '2009-02-06 00:00:00', '202 Hoxton Street', 'London', None, 'United Kingdom', 'N1 5LH', 8.91),\n",
       " (19, 40, '2009-03-14 00:00:00', '8, Rue Hanovre', 'Paris', None, 'France', '75002', 13.86)]"
      ]
     },
     "execution_count": 12,
     "metadata": {},
     "output_type": "execute_result"
    }
   ],
   "source": [
    "%%sql\n",
    "\n",
    "SELECT * \n",
    "  FROM invoices\n",
    " WHERE BillingCity IN ('Berlin', 'Paris', 'New York', 'Boston', 'London')\n",
    " LIMIT 5\n",
    "    \n",
    "--invoices[invoices['BillingCity'].isin(\n",
    "--      ('Berlin', 'Paris', 'New York', 'Boston', 'London')\n",
    "--)]"
   ]
  },
  {
   "cell_type": "markdown",
   "metadata": {},
   "source": [
    "The list of values after IN should be given as a tuple, not as a list. You can also negate the condition with the NOT keyword:"
   ]
  },
  {
   "cell_type": "code",
   "execution_count": 13,
   "metadata": {},
   "outputs": [
    {
     "name": "stdout",
     "output_type": "stream",
     "text": [
      " * sqlite:///data/chinook.db\n",
      "Done.\n"
     ]
    },
    {
     "data": {
      "text/html": [
       "<table>\n",
       "    <tr>\n",
       "        <th>InvoiceId</th>\n",
       "        <th>CustomerId</th>\n",
       "        <th>InvoiceDate</th>\n",
       "        <th>BillingAddress</th>\n",
       "        <th>BillingCity</th>\n",
       "        <th>BillingState</th>\n",
       "        <th>BillingCountry</th>\n",
       "        <th>BillingPostalCode</th>\n",
       "        <th>Total</th>\n",
       "    </tr>\n",
       "    <tr>\n",
       "        <td>1</td>\n",
       "        <td>2</td>\n",
       "        <td>2009-01-01 00:00:00</td>\n",
       "        <td>Theodor-Heuss-Straße 34</td>\n",
       "        <td>Stuttgart</td>\n",
       "        <td>None</td>\n",
       "        <td>Germany</td>\n",
       "        <td>70174</td>\n",
       "        <td>1.98</td>\n",
       "    </tr>\n",
       "    <tr>\n",
       "        <td>2</td>\n",
       "        <td>4</td>\n",
       "        <td>2009-01-02 00:00:00</td>\n",
       "        <td>Ullevålsveien 14</td>\n",
       "        <td>Oslo</td>\n",
       "        <td>None</td>\n",
       "        <td>Norway</td>\n",
       "        <td>0171</td>\n",
       "        <td>3.96</td>\n",
       "    </tr>\n",
       "    <tr>\n",
       "        <td>3</td>\n",
       "        <td>8</td>\n",
       "        <td>2009-01-03 00:00:00</td>\n",
       "        <td>Grétrystraat 63</td>\n",
       "        <td>Brussels</td>\n",
       "        <td>None</td>\n",
       "        <td>Belgium</td>\n",
       "        <td>1000</td>\n",
       "        <td>5.94</td>\n",
       "    </tr>\n",
       "    <tr>\n",
       "        <td>4</td>\n",
       "        <td>14</td>\n",
       "        <td>2009-01-06 00:00:00</td>\n",
       "        <td>8210 111 ST NW</td>\n",
       "        <td>Edmonton</td>\n",
       "        <td>AB</td>\n",
       "        <td>Canada</td>\n",
       "        <td>T6G 2C7</td>\n",
       "        <td>8.91</td>\n",
       "    </tr>\n",
       "    <tr>\n",
       "        <td>6</td>\n",
       "        <td>37</td>\n",
       "        <td>2009-01-19 00:00:00</td>\n",
       "        <td>Berger Straße 10</td>\n",
       "        <td>Frankfurt</td>\n",
       "        <td>None</td>\n",
       "        <td>Germany</td>\n",
       "        <td>60316</td>\n",
       "        <td>0.99</td>\n",
       "    </tr>\n",
       "</table>"
      ],
      "text/plain": [
       "[(1, 2, '2009-01-01 00:00:00', 'Theodor-Heuss-Straße 34', 'Stuttgart', None, 'Germany', '70174', 1.98),\n",
       " (2, 4, '2009-01-02 00:00:00', 'Ullevålsveien 14', 'Oslo', None, 'Norway', '0171', 3.96),\n",
       " (3, 8, '2009-01-03 00:00:00', 'Grétrystraat 63', 'Brussels', None, 'Belgium', '1000', 5.94),\n",
       " (4, 14, '2009-01-06 00:00:00', '8210 111 ST NW', 'Edmonton', 'AB', 'Canada', 'T6G 2C7', 8.91),\n",
       " (6, 37, '2009-01-19 00:00:00', 'Berger Straße 10', 'Frankfurt', None, 'Germany', '60316', 0.99)]"
      ]
     },
     "execution_count": 13,
     "metadata": {},
     "output_type": "execute_result"
    }
   ],
   "source": [
    "%%sql\n",
    "\n",
    "SELECT * \n",
    "  FROM invoices\n",
    " WHERE BillingCity NOT IN ('Berlin', 'Paris', 'New York', 'Boston', 'London')\n",
    " LIMIT 5\n",
    "    \n",
    "--invoices[~invoices['BillingCity'].isin(\n",
    "--    ('Berlin', 'Paris', 'New York', 'Boston', 'London')\n",
    "--)]"
   ]
  },
  {
   "cell_type": "markdown",
   "metadata": {},
   "source": [
    "Another common filtering operation on numeric columns is to select values within a range. For this, BETWEEN keyword can be used, which is equivalent to `pd.Series.between()`:"
   ]
  },
  {
   "cell_type": "code",
   "execution_count": 14,
   "metadata": {},
   "outputs": [
    {
     "name": "stdout",
     "output_type": "stream",
     "text": [
      " * sqlite:///data/chinook.db\n",
      "Done.\n"
     ]
    },
    {
     "data": {
      "text/html": [
       "<table>\n",
       "    <tr>\n",
       "        <th>BillingCity</th>\n",
       "        <th>Total</th>\n",
       "    </tr>\n",
       "    <tr>\n",
       "        <td>Brussels</td>\n",
       "        <td>5.94</td>\n",
       "    </tr>\n",
       "    <tr>\n",
       "        <td>Edmonton</td>\n",
       "        <td>8.91</td>\n",
       "    </tr>\n",
       "    <tr>\n",
       "        <td>Boston</td>\n",
       "        <td>13.86</td>\n",
       "    </tr>\n",
       "    <tr>\n",
       "        <td>Dublin</td>\n",
       "        <td>5.94</td>\n",
       "    </tr>\n",
       "    <tr>\n",
       "        <td>London</td>\n",
       "        <td>8.91</td>\n",
       "    </tr>\n",
       "</table>"
      ],
      "text/plain": [
       "[('Brussels', 5.94),\n",
       " ('Edmonton', 8.91),\n",
       " ('Boston', 13.86),\n",
       " ('Dublin', 5.94),\n",
       " ('London', 8.91)]"
      ]
     },
     "execution_count": 14,
     "metadata": {},
     "output_type": "execute_result"
    }
   ],
   "source": [
    "%%sql\n",
    "\n",
    "SELECT BillingCity, Total\n",
    "FROM invoices\n",
    "WHERE Total BETWEEN 5 AND 15\n",
    "LIMIT 5\n",
    "\n",
    "--invoices[invoices['Total'].between(5, 15)]"
   ]
  },
  {
   "cell_type": "markdown",
   "metadata": {},
   "source": [
    "### Checking For Nulls"
   ]
  },
  {
   "cell_type": "markdown",
   "metadata": {},
   "source": [
    "Every data source has missing values and databases are no exception. Just like there are a number of ways to explore the missing values in Pandas, there are certain keywords that check the existence of null values in SQL. The below query counts the number of rows there are missing values in BillingState:"
   ]
  },
  {
   "cell_type": "code",
   "execution_count": 15,
   "metadata": {},
   "outputs": [
    {
     "name": "stdout",
     "output_type": "stream",
     "text": [
      " * sqlite:///data/chinook.db\n",
      "Done.\n"
     ]
    },
    {
     "data": {
      "text/html": [
       "<table>\n",
       "    <tr>\n",
       "        <th>COUNT(*)</th>\n",
       "    </tr>\n",
       "    <tr>\n",
       "        <td>202</td>\n",
       "    </tr>\n",
       "</table>"
      ],
      "text/plain": [
       "[(202,)]"
      ]
     },
     "execution_count": 15,
     "metadata": {},
     "output_type": "execute_result"
    }
   ],
   "source": [
    "%%sql\n",
    "\n",
    "SELECT COUNT(*) FROM\n",
    "invoices\n",
    "WHERE BillingState IS NULL\n",
    "\n",
    "--invoices['BillingState'].isnull().sum()"
   ]
  },
  {
   "cell_type": "markdown",
   "metadata": {},
   "source": [
    "You can add the NOT keyword between IS and NULL to filter out missing values of a particular column:"
   ]
  },
  {
   "cell_type": "code",
   "execution_count": 16,
   "metadata": {},
   "outputs": [
    {
     "name": "stdout",
     "output_type": "stream",
     "text": [
      " * sqlite:///data/chinook.db\n",
      "Done.\n"
     ]
    },
    {
     "data": {
      "text/html": [
       "<table>\n",
       "    <tr>\n",
       "        <th>InvoiceDate</th>\n",
       "        <th>BillingCountry</th>\n",
       "    </tr>\n",
       "    <tr>\n",
       "        <td>2009-01-01 00:00:00</td>\n",
       "        <td>Germany</td>\n",
       "    </tr>\n",
       "    <tr>\n",
       "        <td>2009-01-02 00:00:00</td>\n",
       "        <td>Norway</td>\n",
       "    </tr>\n",
       "    <tr>\n",
       "        <td>2009-01-03 00:00:00</td>\n",
       "        <td>Belgium</td>\n",
       "    </tr>\n",
       "    <tr>\n",
       "        <td>2009-01-06 00:00:00</td>\n",
       "        <td>Canada</td>\n",
       "    </tr>\n",
       "    <tr>\n",
       "        <td>2009-01-11 00:00:00</td>\n",
       "        <td>USA</td>\n",
       "    </tr>\n",
       "    <tr>\n",
       "        <td>2009-01-19 00:00:00</td>\n",
       "        <td>Germany</td>\n",
       "    </tr>\n",
       "    <tr>\n",
       "        <td>2009-02-01 00:00:00</td>\n",
       "        <td>Germany</td>\n",
       "    </tr>\n",
       "    <tr>\n",
       "        <td>2009-02-01 00:00:00</td>\n",
       "        <td>France</td>\n",
       "    </tr>\n",
       "    <tr>\n",
       "        <td>2009-02-02 00:00:00</td>\n",
       "        <td>France</td>\n",
       "    </tr>\n",
       "    <tr>\n",
       "        <td>2009-02-03 00:00:00</td>\n",
       "        <td>Ireland</td>\n",
       "    </tr>\n",
       "</table>"
      ],
      "text/plain": [
       "[('2009-01-01 00:00:00', 'Germany'),\n",
       " ('2009-01-02 00:00:00', 'Norway'),\n",
       " ('2009-01-03 00:00:00', 'Belgium'),\n",
       " ('2009-01-06 00:00:00', 'Canada'),\n",
       " ('2009-01-11 00:00:00', 'USA'),\n",
       " ('2009-01-19 00:00:00', 'Germany'),\n",
       " ('2009-02-01 00:00:00', 'Germany'),\n",
       " ('2009-02-01 00:00:00', 'France'),\n",
       " ('2009-02-02 00:00:00', 'France'),\n",
       " ('2009-02-03 00:00:00', 'Ireland')]"
      ]
     },
     "execution_count": 16,
     "metadata": {},
     "output_type": "execute_result"
    }
   ],
   "source": [
    "%%sql\n",
    "\n",
    "SELECT InvoiceDate, BillingCountry \n",
    "FROM invoices\n",
    "WHERE Total IS NOT NULL\n",
    "LIMIT 10"
   ]
  },
  {
   "cell_type": "markdown",
   "metadata": {},
   "source": [
    "### Better String Matching With LIKE"
   ]
  },
  {
   "cell_type": "markdown",
   "metadata": {},
   "source": [
    "In the WHERE clause, we were able to filter columns based on exact text values. But often, we may want to filter textual columns based on a pattern. In Pandas and pure Python, we would use regular expressions for pattern matching, which are very powerful but requires time to master. \n",
    "\n",
    "As an alternative, SQL offers '%' wildcard as a placeholder to mach any character 0 or more times. For example, 'gr%' string matches 'great', 'groom', 'greed' and '%ex%' matches any text that has 'ex' in the middle, etc. Let's see how to use it with SQL:"
   ]
  },
  {
   "cell_type": "code",
   "execution_count": 17,
   "metadata": {},
   "outputs": [
    {
     "name": "stdout",
     "output_type": "stream",
     "text": [
      " * sqlite:///data/chinook.db\n",
      "Done.\n"
     ]
    },
    {
     "data": {
      "text/html": [
       "<table>\n",
       "    <tr>\n",
       "        <th>Name</th>\n",
       "        <th>Composer</th>\n",
       "        <th>UnitPrice</th>\n",
       "    </tr>\n",
       "    <tr>\n",
       "        <td>Balls to the Wall</td>\n",
       "        <td>None</td>\n",
       "        <td>0.99</td>\n",
       "    </tr>\n",
       "    <tr>\n",
       "        <td>Breaking The Rules</td>\n",
       "        <td>Angus Young, Malcolm Young, Brian Johnson</td>\n",
       "        <td>0.99</td>\n",
       "    </tr>\n",
       "    <tr>\n",
       "        <td>Bad Boy Boogie</td>\n",
       "        <td>AC/DC</td>\n",
       "        <td>0.99</td>\n",
       "    </tr>\n",
       "    <tr>\n",
       "        <td>Blind Man</td>\n",
       "        <td>Steven Tyler, Joe Perry, Taylor Rhodes</td>\n",
       "        <td>0.99</td>\n",
       "    </tr>\n",
       "    <tr>\n",
       "        <td>Bleed The Freak</td>\n",
       "        <td>Jerry Cantrell</td>\n",
       "        <td>0.99</td>\n",
       "    </tr>\n",
       "</table>"
      ],
      "text/plain": [
       "[('Balls to the Wall', None, 0.99),\n",
       " ('Breaking The Rules', 'Angus Young, Malcolm Young, Brian Johnson', 0.99),\n",
       " ('Bad Boy Boogie', 'AC/DC', 0.99),\n",
       " ('Blind Man', 'Steven Tyler, Joe Perry, Taylor Rhodes', 0.99),\n",
       " ('Bleed The Freak', 'Jerry Cantrell', 0.99)]"
      ]
     },
     "execution_count": 17,
     "metadata": {},
     "output_type": "execute_result"
    }
   ],
   "source": [
    "%%sql\n",
    "\n",
    "SELECT Name, Composer, UnitPrice \n",
    "  FROM tracks\n",
    " WHERE Name LIKE 'B%'\n",
    " LIMIT 5\n",
    "\n",
    "--tracks[tracks['Name'].str.startswith('B')]"
   ]
  },
  {
   "cell_type": "markdown",
   "metadata": {},
   "source": [
    "Above query finds all sons that starts with 'B'. The string that contains the wildcard should come after the LIKE keyword.\n",
    "\n",
    "Now, let's find all songs that contain the word 'beautiful' in their titles:"
   ]
  },
  {
   "cell_type": "code",
   "execution_count": 18,
   "metadata": {},
   "outputs": [
    {
     "name": "stdout",
     "output_type": "stream",
     "text": [
      " * sqlite:///data/chinook.db\n",
      "Done.\n"
     ]
    },
    {
     "data": {
      "text/html": [
       "<table>\n",
       "    <tr>\n",
       "        <th>Name</th>\n",
       "        <th>Composer</th>\n",
       "        <th>UnitPrice</th>\n",
       "    </tr>\n",
       "    <tr>\n",
       "        <td>So Beautiful</td>\n",
       "        <td>Mick Hucknall</td>\n",
       "        <td>0.99</td>\n",
       "    </tr>\n",
       "    <tr>\n",
       "        <td>Beautiful Day</td>\n",
       "        <td>Adam Clayton, Bono, Larry Mullen, The Edge</td>\n",
       "        <td>0.99</td>\n",
       "    </tr>\n",
       "    <tr>\n",
       "        <td>Beautiful Boy</td>\n",
       "        <td>None</td>\n",
       "        <td>0.99</td>\n",
       "    </tr>\n",
       "    <tr>\n",
       "        <td>On the Beautiful Blue Danube</td>\n",
       "        <td>Johann Strauss II</td>\n",
       "        <td>0.99</td>\n",
       "    </tr>\n",
       "</table>"
      ],
      "text/plain": [
       "[('So Beautiful', 'Mick Hucknall', 0.99),\n",
       " ('Beautiful Day', 'Adam Clayton, Bono, Larry Mullen, The Edge', 0.99),\n",
       " ('Beautiful Boy', None, 0.99),\n",
       " ('On the Beautiful Blue Danube', 'Johann Strauss II', 0.99)]"
      ]
     },
     "execution_count": 18,
     "metadata": {},
     "output_type": "execute_result"
    }
   ],
   "source": [
    "%%sql\n",
    "\n",
    "SELECT Name, Composer, UnitPrice\n",
    "  FROM tracks\n",
    " WHERE Name LIKE '%beautiful%'\n",
    "\n",
    "--tracks[tracks['Name'].str.contains('beautiful')]"
   ]
  },
  {
   "cell_type": "markdown",
   "metadata": {},
   "source": [
    "You can also use other boolean operators next to LIKE:"
   ]
  },
  {
   "cell_type": "code",
   "execution_count": 19,
   "metadata": {},
   "outputs": [
    {
     "name": "stdout",
     "output_type": "stream",
     "text": [
      " * sqlite:///data/chinook.db\n",
      "Done.\n"
     ]
    },
    {
     "data": {
      "text/html": [
       "<table>\n",
       "    <tr>\n",
       "        <th>Name</th>\n",
       "        <th>Composer</th>\n",
       "        <th>UnitPrice</th>\n",
       "    </tr>\n",
       "    <tr>\n",
       "        <td>Fallout</td>\n",
       "        <td>None</td>\n",
       "        <td>1.99</td>\n",
       "    </tr>\n",
       "    <tr>\n",
       "        <td>Further Instructions</td>\n",
       "        <td>None</td>\n",
       "        <td>1.99</td>\n",
       "    </tr>\n",
       "    <tr>\n",
       "        <td>Flashes Before Your Eyes</td>\n",
       "        <td>None</td>\n",
       "        <td>1.99</td>\n",
       "    </tr>\n",
       "    <tr>\n",
       "        <td>Fire + Water</td>\n",
       "        <td>None</td>\n",
       "        <td>1.99</td>\n",
       "    </tr>\n",
       "    <tr>\n",
       "        <td>Five Years Gone</td>\n",
       "        <td>None</td>\n",
       "        <td>1.99</td>\n",
       "    </tr>\n",
       "    <tr>\n",
       "        <td>Fire In Space</td>\n",
       "        <td>None</td>\n",
       "        <td>1.99</td>\n",
       "    </tr>\n",
       "</table>"
      ],
      "text/plain": [
       "[('Fallout', None, 1.99),\n",
       " ('Further Instructions', None, 1.99),\n",
       " ('Flashes Before Your Eyes', None, 1.99),\n",
       " ('Fire + Water', None, 1.99),\n",
       " ('Five Years Gone', None, 1.99),\n",
       " ('Fire In Space', None, 1.99)]"
      ]
     },
     "execution_count": 19,
     "metadata": {},
     "output_type": "execute_result"
    }
   ],
   "source": [
    "%%sql\n",
    "\n",
    "SELECT Name, Composer, UnitPrice\n",
    "  FROM tracks\n",
    " WHERE (Name LIKE 'F%') AND (UnitPrice > 1.0)\n",
    "\n",
    "--tracks[(tracks['Name'].str.startswith('F')) & (tracks['UnitPrice'] > 1.0)]"
   ]
  },
  {
   "cell_type": "markdown",
   "metadata": {},
   "source": [
    "There are many other wildcards in SQL that behave similarly. You can see the full list and their usage [here](https://www.w3schools.com/sql/sql_wildcards.asp)."
   ]
  },
  {
   "cell_type": "markdown",
   "metadata": {},
   "source": [
    "### Aggregate Functions in SQL"
   ]
  },
  {
   "cell_type": "markdown",
   "metadata": {},
   "source": [
    "It is also possible to perform basic arithmetic operations on columns. These operations are called aggregate functions in SQL and the most common ones are `AVG, SUM, MIN, MAX`. Their functionality should be from their names:"
   ]
  },
  {
   "cell_type": "code",
   "execution_count": 21,
   "metadata": {},
   "outputs": [
    {
     "name": "stdout",
     "output_type": "stream",
     "text": [
      " * sqlite:///data/chinook.db\n",
      "Done.\n"
     ]
    },
    {
     "data": {
      "text/html": [
       "<table>\n",
       "    <tr>\n",
       "        <th>SUM(Total)</th>\n",
       "        <th>MAX(Total)</th>\n",
       "        <th>MIN(Total)</th>\n",
       "        <th>AVG(Total)</th>\n",
       "    </tr>\n",
       "    <tr>\n",
       "        <td>2328.600000000004</td>\n",
       "        <td>25.86</td>\n",
       "        <td>0.99</td>\n",
       "        <td>5.651941747572825</td>\n",
       "    </tr>\n",
       "</table>"
      ],
      "text/plain": [
       "[(2328.600000000004, 25.86, 0.99, 5.651941747572825)]"
      ]
     },
     "execution_count": 21,
     "metadata": {},
     "output_type": "execute_result"
    }
   ],
   "source": [
    "%%sql \n",
    "\n",
    "SELECT SUM(Total), MAX(Total), MIN(Total), AVG(Total)\n",
    "FROM invoices"
   ]
  },
  {
   "cell_type": "markdown",
   "metadata": {},
   "source": [
    "Aggregate functions give only a single result for the column they were used on. This means you cannot aggregate across one column and select other unaggregated columns:"
   ]
  },
  {
   "cell_type": "code",
   "execution_count": 26,
   "metadata": {},
   "outputs": [
    {
     "name": "stdout",
     "output_type": "stream",
     "text": [
      " * sqlite:///data/chinook.db\n",
      "Done.\n"
     ]
    },
    {
     "data": {
      "text/html": [
       "<table>\n",
       "    <tr>\n",
       "        <th>AVG(Total)</th>\n",
       "        <th>BillingCity</th>\n",
       "        <th>BillingAddress</th>\n",
       "    </tr>\n",
       "    <tr>\n",
       "        <td>5.651941747572825</td>\n",
       "        <td>Stuttgart</td>\n",
       "        <td>Theodor-Heuss-Straße 34</td>\n",
       "    </tr>\n",
       "</table>"
      ],
      "text/plain": [
       "[(5.651941747572825, 'Stuttgart', 'Theodor-Heuss-Straße 34')]"
      ]
     },
     "execution_count": 26,
     "metadata": {},
     "output_type": "execute_result"
    }
   ],
   "source": [
    "%%sql\n",
    "\n",
    "SELECT AVG(Total), BillingCity, BillingAddress\n",
    "FROM invoices;\n",
    "\n",
    "-- the result will be a single row because\n",
    "-- of the presence of aggregate functions"
   ]
  },
  {
   "cell_type": "markdown",
   "metadata": {},
   "source": [
    "You can combine aggregate functions with conditionals using WHERE clauses just as easily:"
   ]
  },
  {
   "cell_type": "code",
   "execution_count": 28,
   "metadata": {},
   "outputs": [
    {
     "name": "stdout",
     "output_type": "stream",
     "text": [
      " * sqlite:///data/chinook.db\n",
      "Done.\n"
     ]
    },
    {
     "data": {
      "text/html": [
       "<table>\n",
       "    <tr>\n",
       "        <th>AVG(Total)</th>\n",
       "        <th>BillingCity</th>\n",
       "    </tr>\n",
       "    <tr>\n",
       "        <td>5.517142857142857</td>\n",
       "        <td>Paris</td>\n",
       "    </tr>\n",
       "</table>"
      ],
      "text/plain": [
       "[(5.517142857142857, 'Paris')]"
      ]
     },
     "execution_count": 28,
     "metadata": {},
     "output_type": "execute_result"
    }
   ],
   "source": [
    "%%sql\n",
    "\n",
    "SELECT AVG(Total), BillingCity\n",
    "FROM invoices\n",
    "WHERE BillingCity = 'Paris'\n",
    "\n",
    "-- invoices[invoices['BillingCity']]['Total'].mean()"
   ]
  },
  {
   "cell_type": "markdown",
   "metadata": {},
   "source": [
    "It is also possible to use arithmetic operators such as +, -, \\*, / on columns and on simple numbers. When used on columns, the operation is performed element-wise:"
   ]
  },
  {
   "cell_type": "code",
   "execution_count": 36,
   "metadata": {},
   "outputs": [
    {
     "name": "stdout",
     "output_type": "stream",
     "text": [
      " * sqlite:///data/chinook.db\n",
      "Done.\n"
     ]
    },
    {
     "data": {
      "text/html": [
       "<table>\n",
       "    <tr>\n",
       "        <th>SUM(Total) / COUNT(Total)</th>\n",
       "    </tr>\n",
       "    <tr>\n",
       "        <td>5.651941747572825</td>\n",
       "    </tr>\n",
       "</table>"
      ],
      "text/plain": [
       "[(5.651941747572825,)]"
      ]
     },
     "execution_count": 36,
     "metadata": {},
     "output_type": "execute_result"
    }
   ],
   "source": [
    "%%sql\n",
    "\n",
    "SELECT SUM(Total) / COUNT(Total)\n",
    "FROM invoices\n",
    "\n",
    "-- finding the mean manually"
   ]
  },
  {
   "cell_type": "markdown",
   "metadata": {},
   "source": [
    "One thing to note about arithmetic operations: if you perform operations on only integers, SQL thinks that you are expecting an integer as the answer:"
   ]
  },
  {
   "cell_type": "code",
   "execution_count": 48,
   "metadata": {},
   "outputs": [
    {
     "name": "stdout",
     "output_type": "stream",
     "text": [
      " * sqlite:///data/chinook.db\n",
      "Done.\n"
     ]
    },
    {
     "data": {
      "text/html": [
       "<table>\n",
       "    <tr>\n",
       "        <th>10 / 3</th>\n",
       "    </tr>\n",
       "    <tr>\n",
       "        <td>3</td>\n",
       "    </tr>\n",
       "</table>"
      ],
      "text/plain": [
       "[(3,)]"
      ]
     },
     "execution_count": 48,
     "metadata": {},
     "output_type": "execute_result"
    }
   ],
   "source": [
    "%%sql \n",
    "\n",
    "SELECT 10 / 3"
   ]
  },
  {
   "cell_type": "markdown",
   "metadata": {},
   "source": [
    "Instead of returning 3.33..., the result is 3. To get a float result, you should use at least one float in the query or use all floats to be safe:"
   ]
  },
  {
   "cell_type": "code",
   "execution_count": 49,
   "metadata": {},
   "outputs": [
    {
     "name": "stdout",
     "output_type": "stream",
     "text": [
      " * sqlite:///data/chinook.db\n",
      "Done.\n"
     ]
    },
    {
     "data": {
      "text/html": [
       "<table>\n",
       "    <tr>\n",
       "        <th>10.0 / 3.0</th>\n",
       "    </tr>\n",
       "    <tr>\n",
       "        <td>3.3333333333333335</td>\n",
       "    </tr>\n",
       "</table>"
      ],
      "text/plain": [
       "[(3.3333333333333335,)]"
      ]
     },
     "execution_count": 49,
     "metadata": {},
     "output_type": "execute_result"
    }
   ],
   "source": [
    "%%sql \n",
    "\n",
    "SELECT 10.0 / 3.0"
   ]
  },
  {
   "cell_type": "markdown",
   "metadata": {},
   "source": [
    "Using this knowledge, let's calculate the average duration of a song in minutes:"
   ]
  },
  {
   "cell_type": "code",
   "execution_count": 50,
   "metadata": {},
   "outputs": [
    {
     "name": "stdout",
     "output_type": "stream",
     "text": [
      " * sqlite:///data/chinook.db\n",
      "Done.\n"
     ]
    },
    {
     "data": {
      "text/html": [
       "<table>\n",
       "    <tr>\n",
       "        <th>Milliseconds / 1000.0 / 60.0</th>\n",
       "    </tr>\n",
       "    <tr>\n",
       "        <td>5.72865</td>\n",
       "    </tr>\n",
       "    <tr>\n",
       "        <td>5.709366666666667</td>\n",
       "    </tr>\n",
       "    <tr>\n",
       "        <td>3.84365</td>\n",
       "    </tr>\n",
       "    <tr>\n",
       "        <td>4.20085</td>\n",
       "    </tr>\n",
       "    <tr>\n",
       "        <td>6.256966666666667</td>\n",
       "    </tr>\n",
       "    <tr>\n",
       "        <td>3.4277</td>\n",
       "    </tr>\n",
       "    <tr>\n",
       "        <td>3.8987666666666665</td>\n",
       "    </tr>\n",
       "    <tr>\n",
       "        <td>3.5139</td>\n",
       "    </tr>\n",
       "    <tr>\n",
       "        <td>3.3850333333333333</td>\n",
       "    </tr>\n",
       "    <tr>\n",
       "        <td>4.391616666666667</td>\n",
       "    </tr>\n",
       "</table>"
      ],
      "text/plain": [
       "[(5.72865,),\n",
       " (5.709366666666667,),\n",
       " (3.84365,),\n",
       " (4.20085,),\n",
       " (6.256966666666667,),\n",
       " (3.4277,),\n",
       " (3.8987666666666665,),\n",
       " (3.5139,),\n",
       " (3.3850333333333333,),\n",
       " (4.391616666666667,)]"
      ]
     },
     "execution_count": 50,
     "metadata": {},
     "output_type": "execute_result"
    }
   ],
   "source": [
    "%%sql\n",
    "\n",
    "SELECT Milliseconds / 1000.0 / 60.0\n",
    "FROM tracks\n",
    "LIMIT 10"
   ]
  },
  {
   "cell_type": "markdown",
   "metadata": {},
   "source": [
    "If you pay attention to the above result, the column name is written as the query that was used to generate that column. When using large calculations, such as finding the standard deviation or variance of a column, this can be an issue because the column name will be as large as the query itself. \n",
    "\n",
    "To avoid this, SQL allows aliasing which is similar to aliasing import statements in Python. For example:"
   ]
  },
  {
   "cell_type": "code",
   "execution_count": 51,
   "metadata": {},
   "outputs": [
    {
     "name": "stdout",
     "output_type": "stream",
     "text": [
      " * sqlite:///data/chinook.db\n",
      "Done.\n"
     ]
    },
    {
     "data": {
      "text/html": [
       "<table>\n",
       "    <tr>\n",
       "        <th>sum_total</th>\n",
       "    </tr>\n",
       "    <tr>\n",
       "        <td>2328.600000000004</td>\n",
       "    </tr>\n",
       "</table>"
      ],
      "text/plain": [
       "[(2328.600000000004,)]"
      ]
     },
     "execution_count": 51,
     "metadata": {},
     "output_type": "execute_result"
    }
   ],
   "source": [
    "%%sql\n",
    "\n",
    "SELECT SUM(Total) as sum_total\n",
    "FROM invoices"
   ]
  },
  {
   "cell_type": "markdown",
   "metadata": {},
   "source": [
    "Using `as` keyword after a single item in a `SELECT` statement tells SQL that we are aliasing. Here are more examples:"
   ]
  },
  {
   "cell_type": "code",
   "execution_count": 52,
   "metadata": {},
   "outputs": [
    {
     "name": "stdout",
     "output_type": "stream",
     "text": [
      " * sqlite:///data/chinook.db\n",
      "Done.\n"
     ]
    },
    {
     "data": {
      "text/html": [
       "<table>\n",
       "    <tr>\n",
       "        <th>sum_total</th>\n",
       "        <th>max_total</th>\n",
       "        <th>min_total</th>\n",
       "        <th>mean_total</th>\n",
       "    </tr>\n",
       "    <tr>\n",
       "        <td>2328.600000000004</td>\n",
       "        <td>25.86</td>\n",
       "        <td>0.99</td>\n",
       "        <td>5.651941747572825</td>\n",
       "    </tr>\n",
       "</table>"
      ],
      "text/plain": [
       "[(2328.600000000004, 25.86, 0.99, 5.651941747572825)]"
      ]
     },
     "execution_count": 52,
     "metadata": {},
     "output_type": "execute_result"
    }
   ],
   "source": [
    "%%sql\n",
    "\n",
    "SELECT SUM(Total) as sum_total,\n",
    "       MAX(Total) as max_total,\n",
    "       MIN(Total) as min_total,\n",
    "       SUM(Total) / COUNT(Total) as mean_total\n",
    "FROM invoices;"
   ]
  },
  {
   "cell_type": "markdown",
   "metadata": {},
   "source": [
    "You can use aliasing just as easily for simple columns with long names. "
   ]
  },
  {
   "cell_type": "markdown",
   "metadata": {},
   "source": [
    "### Ordering Results in SQL"
   ]
  },
  {
   "cell_type": "markdown",
   "metadata": {},
   "source": [
    "Just like Pandas has `sort_values` method, SQL supports ordering columns via `ORDER BY` clause. Passing a column name after it sorts the results in ascending order:"
   ]
  },
  {
   "cell_type": "code",
   "execution_count": 59,
   "metadata": {},
   "outputs": [
    {
     "name": "stdout",
     "output_type": "stream",
     "text": [
      " * sqlite:///data/chinook.db\n",
      "Done.\n"
     ]
    },
    {
     "data": {
      "text/html": [
       "<table>\n",
       "    <tr>\n",
       "        <th>Name</th>\n",
       "        <th>Composer</th>\n",
       "        <th>UnitPrice</th>\n",
       "    </tr>\n",
       "    <tr>\n",
       "        <td>Iron Man</td>\n",
       "        <td>A. F. Iommi, W. Ward, T. Butler, J. Osbourne</td>\n",
       "        <td>0.99</td>\n",
       "    </tr>\n",
       "    <tr>\n",
       "        <td>Children Of The Grave</td>\n",
       "        <td>A. F. Iommi, W. Ward, T. Butler, J. Osbourne</td>\n",
       "        <td>0.99</td>\n",
       "    </tr>\n",
       "    <tr>\n",
       "        <td>Paranoid</td>\n",
       "        <td>A. F. Iommi, W. Ward, T. Butler, J. Osbourne</td>\n",
       "        <td>0.99</td>\n",
       "    </tr>\n",
       "    <tr>\n",
       "        <td>New Rhumba</td>\n",
       "        <td>A. Jamal</td>\n",
       "        <td>0.99</td>\n",
       "    </tr>\n",
       "    <tr>\n",
       "        <td>Astronomy</td>\n",
       "        <td>A.Bouchard/J.Bouchard/S.Pearlman</td>\n",
       "        <td>0.99</td>\n",
       "    </tr>\n",
       "    <tr>\n",
       "        <td>Hard To Handle</td>\n",
       "        <td>A.Isbell/A.Jones/O.Redding</td>\n",
       "        <td>0.99</td>\n",
       "    </tr>\n",
       "    <tr>\n",
       "        <td>Go Down</td>\n",
       "        <td>AC/DC</td>\n",
       "        <td>0.99</td>\n",
       "    </tr>\n",
       "    <tr>\n",
       "        <td>Dog Eat Dog</td>\n",
       "        <td>AC/DC</td>\n",
       "        <td>0.99</td>\n",
       "    </tr>\n",
       "    <tr>\n",
       "        <td>Let There Be Rock</td>\n",
       "        <td>AC/DC</td>\n",
       "        <td>0.99</td>\n",
       "    </tr>\n",
       "    <tr>\n",
       "        <td>Bad Boy Boogie</td>\n",
       "        <td>AC/DC</td>\n",
       "        <td>0.99</td>\n",
       "    </tr>\n",
       "</table>"
      ],
      "text/plain": [
       "[('Iron Man', 'A. F. Iommi, W. Ward, T. Butler, J. Osbourne', 0.99),\n",
       " ('Children Of The Grave', 'A. F. Iommi, W. Ward, T. Butler, J. Osbourne', 0.99),\n",
       " ('Paranoid', 'A. F. Iommi, W. Ward, T. Butler, J. Osbourne', 0.99),\n",
       " ('New Rhumba', 'A. Jamal', 0.99),\n",
       " ('Astronomy', 'A.Bouchard/J.Bouchard/S.Pearlman', 0.99),\n",
       " ('Hard To Handle', 'A.Isbell/A.Jones/O.Redding', 0.99),\n",
       " ('Go Down', 'AC/DC', 0.99),\n",
       " ('Dog Eat Dog', 'AC/DC', 0.99),\n",
       " ('Let There Be Rock', 'AC/DC', 0.99),\n",
       " ('Bad Boy Boogie', 'AC/DC', 0.99)]"
      ]
     },
     "execution_count": 59,
     "metadata": {},
     "output_type": "execute_result"
    }
   ],
   "source": [
    "%%sql\n",
    "\n",
    "SELECT Name, Composer, UnitPrice\n",
    "FROM tracks\n",
    "WHERE Composer <> 'None'\n",
    "ORDER BY Composer\n",
    "LIMIT 10\n",
    "\n",
    "-- tracks.sort_values('Compose')[['Name', 'Compose', 'UnitPrice']]"
   ]
  },
  {
   "cell_type": "markdown",
   "metadata": {},
   "source": [
    "We are ordering the tracks table in ascending order by the composer name. Note that ORDER BY statement should always come after the WHERE clause. It is also possible to pass 2 or more columns to ORDER BY:"
   ]
  },
  {
   "cell_type": "code",
   "execution_count": 61,
   "metadata": {},
   "outputs": [
    {
     "name": "stdout",
     "output_type": "stream",
     "text": [
      " * sqlite:///data/chinook.db\n",
      "Done.\n"
     ]
    },
    {
     "data": {
      "text/html": [
       "<table>\n",
       "    <tr>\n",
       "        <th>Name</th>\n",
       "        <th>Composer</th>\n",
       "        <th>UnitPrice</th>\n",
       "    </tr>\n",
       "    <tr>\n",
       "        <td>Children Of The Grave</td>\n",
       "        <td>A. F. Iommi, W. Ward, T. Butler, J. Osbourne</td>\n",
       "        <td>0.99</td>\n",
       "    </tr>\n",
       "    <tr>\n",
       "        <td>Iron Man</td>\n",
       "        <td>A. F. Iommi, W. Ward, T. Butler, J. Osbourne</td>\n",
       "        <td>0.99</td>\n",
       "    </tr>\n",
       "    <tr>\n",
       "        <td>Paranoid</td>\n",
       "        <td>A. F. Iommi, W. Ward, T. Butler, J. Osbourne</td>\n",
       "        <td>0.99</td>\n",
       "    </tr>\n",
       "    <tr>\n",
       "        <td>New Rhumba</td>\n",
       "        <td>A. Jamal</td>\n",
       "        <td>0.99</td>\n",
       "    </tr>\n",
       "    <tr>\n",
       "        <td>Astronomy</td>\n",
       "        <td>A.Bouchard/J.Bouchard/S.Pearlman</td>\n",
       "        <td>0.99</td>\n",
       "    </tr>\n",
       "    <tr>\n",
       "        <td>Hard To Handle</td>\n",
       "        <td>A.Isbell/A.Jones/O.Redding</td>\n",
       "        <td>0.99</td>\n",
       "    </tr>\n",
       "    <tr>\n",
       "        <td>Bad Boy Boogie</td>\n",
       "        <td>AC/DC</td>\n",
       "        <td>0.99</td>\n",
       "    </tr>\n",
       "    <tr>\n",
       "        <td>Dog Eat Dog</td>\n",
       "        <td>AC/DC</td>\n",
       "        <td>0.99</td>\n",
       "    </tr>\n",
       "    <tr>\n",
       "        <td>Go Down</td>\n",
       "        <td>AC/DC</td>\n",
       "        <td>0.99</td>\n",
       "    </tr>\n",
       "    <tr>\n",
       "        <td>Hell Ain&#x27;t A Bad Place To Be</td>\n",
       "        <td>AC/DC</td>\n",
       "        <td>0.99</td>\n",
       "    </tr>\n",
       "</table>"
      ],
      "text/plain": [
       "[('Children Of The Grave', 'A. F. Iommi, W. Ward, T. Butler, J. Osbourne', 0.99),\n",
       " ('Iron Man', 'A. F. Iommi, W. Ward, T. Butler, J. Osbourne', 0.99),\n",
       " ('Paranoid', 'A. F. Iommi, W. Ward, T. Butler, J. Osbourne', 0.99),\n",
       " ('New Rhumba', 'A. Jamal', 0.99),\n",
       " ('Astronomy', 'A.Bouchard/J.Bouchard/S.Pearlman', 0.99),\n",
       " ('Hard To Handle', 'A.Isbell/A.Jones/O.Redding', 0.99),\n",
       " ('Bad Boy Boogie', 'AC/DC', 0.99),\n",
       " ('Dog Eat Dog', 'AC/DC', 0.99),\n",
       " ('Go Down', 'AC/DC', 0.99),\n",
       " (\"Hell Ain't A Bad Place To Be\", 'AC/DC', 0.99)]"
      ]
     },
     "execution_count": 61,
     "metadata": {},
     "output_type": "execute_result"
    }
   ],
   "source": [
    "%%sql\n",
    "\n",
    "SELECT Name, Composer, UnitPrice\n",
    "FROM tracks\n",
    "WHERE Composer <> 'None'\n",
    "ORDER BY UnitPrice, Composer, Name\n",
    "LIMIT 10\n",
    "\n",
    "-- tracks.sort_values(['UnitPrice', 'Composer', 'Name'])[['Name', 'Compose', 'UnitPrice']]"
   ]
  },
  {
   "cell_type": "markdown",
   "metadata": {},
   "source": [
    "You can also reverse the ordering by passing the `DESC` keyword after each column name:"
   ]
  },
  {
   "cell_type": "code",
   "execution_count": 66,
   "metadata": {},
   "outputs": [
    {
     "name": "stdout",
     "output_type": "stream",
     "text": [
      " * sqlite:///data/chinook.db\n",
      "Done.\n"
     ]
    },
    {
     "data": {
      "text/html": [
       "<table>\n",
       "    <tr>\n",
       "        <th>Name</th>\n",
       "        <th>Composer</th>\n",
       "        <th>UnitPrice</th>\n",
       "    </tr>\n",
       "    <tr>\n",
       "        <td>A Twist In The Tail</td>\n",
       "        <td>roger glover</td>\n",
       "        <td>0.99</td>\n",
       "    </tr>\n",
       "    <tr>\n",
       "        <td>Lick It Up</td>\n",
       "        <td>roger glover</td>\n",
       "        <td>0.99</td>\n",
       "    </tr>\n",
       "    <tr>\n",
       "        <td>One Man&#x27;s Meat</td>\n",
       "        <td>roger glover</td>\n",
       "        <td>0.99</td>\n",
       "    </tr>\n",
       "    <tr>\n",
       "        <td>Ramshackle Man</td>\n",
       "        <td>roger glover</td>\n",
       "        <td>0.99</td>\n",
       "    </tr>\n",
       "    <tr>\n",
       "        <td>Solitaire</td>\n",
       "        <td>roger glover</td>\n",
       "        <td>0.99</td>\n",
       "    </tr>\n",
       "    <tr>\n",
       "        <td>Talk About Love</td>\n",
       "        <td>roger glover</td>\n",
       "        <td>0.99</td>\n",
       "    </tr>\n",
       "    <tr>\n",
       "        <td>Time To Kill</td>\n",
       "        <td>roger glover</td>\n",
       "        <td>0.99</td>\n",
       "    </tr>\n",
       "    <tr>\n",
       "        <td>Loves Been Good To Me</td>\n",
       "        <td>rod mckuen</td>\n",
       "        <td>0.99</td>\n",
       "    </tr>\n",
       "    <tr>\n",
       "        <td>For Once In My Life</td>\n",
       "        <td>orlando murden/ronald miller</td>\n",
       "        <td>0.99</td>\n",
       "    </tr>\n",
       "    <tr>\n",
       "        <td>The Lady Is A Tramp</td>\n",
       "        <td>lorenz hart/richard rodgers</td>\n",
       "        <td>0.99</td>\n",
       "    </tr>\n",
       "</table>"
      ],
      "text/plain": [
       "[('A Twist In The Tail', 'roger glover', 0.99),\n",
       " ('Lick It Up', 'roger glover', 0.99),\n",
       " (\"One Man's Meat\", 'roger glover', 0.99),\n",
       " ('Ramshackle Man', 'roger glover', 0.99),\n",
       " ('Solitaire', 'roger glover', 0.99),\n",
       " ('Talk About Love', 'roger glover', 0.99),\n",
       " ('Time To Kill', 'roger glover', 0.99),\n",
       " ('Loves Been Good To Me', 'rod mckuen', 0.99),\n",
       " ('For Once In My Life', 'orlando murden/ronald miller', 0.99),\n",
       " ('The Lady Is A Tramp', 'lorenz hart/richard rodgers', 0.99)]"
      ]
     },
     "execution_count": 66,
     "metadata": {},
     "output_type": "execute_result"
    }
   ],
   "source": [
    "%%sql\n",
    "\n",
    "SELECT Name, Composer, UnitPrice\n",
    "FROM tracks\n",
    "WHERE Composer != 'None'\n",
    "ORDER BY UnitPrice DESC, Composer DESC, Name ASC\n",
    "LIMIT 10\n",
    "\n",
    "-- tracks.sort_values(['UnitPrice', 'Composer', 'Name'])[['Name', 'Compose', 'UnitPrice']]"
   ]
  },
  {
   "cell_type": "markdown",
   "metadata": {},
   "source": [
    "The above query returns 3 columns after ordering the UnitPrice and Compose in descending order and the name in ascending order (`ASC` is a default keyword)."
   ]
  },
  {
   "cell_type": "markdown",
   "metadata": {},
   "source": [
    "### Grouping in SQL"
   ]
  },
  {
   "cell_type": "markdown",
   "metadata": {},
   "source": [
    "One of the most powerful functions in Pandas is the `groupby`. It can be used to transform a table into virtually any shape you want. Its very close cousin in SQL - `GROUP BY` clause can be used to achieve the same functionality. For example, below query counts the number of songs in each genre:"
   ]
  },
  {
   "cell_type": "code",
   "execution_count": 73,
   "metadata": {
    "tags": []
   },
   "outputs": [
    {
     "name": "stdout",
     "output_type": "stream",
     "text": [
      " * sqlite:///data/chinook.db\n",
      "Done.\n"
     ]
    },
    {
     "data": {
      "text/html": [
       "<table>\n",
       "    <tr>\n",
       "        <th>GenreId</th>\n",
       "        <th>genre_count</th>\n",
       "    </tr>\n",
       "    <tr>\n",
       "        <td>1</td>\n",
       "        <td>1297</td>\n",
       "    </tr>\n",
       "    <tr>\n",
       "        <td>2</td>\n",
       "        <td>130</td>\n",
       "    </tr>\n",
       "    <tr>\n",
       "        <td>3</td>\n",
       "        <td>374</td>\n",
       "    </tr>\n",
       "    <tr>\n",
       "        <td>4</td>\n",
       "        <td>332</td>\n",
       "    </tr>\n",
       "    <tr>\n",
       "        <td>5</td>\n",
       "        <td>12</td>\n",
       "    </tr>\n",
       "    <tr>\n",
       "        <td>6</td>\n",
       "        <td>81</td>\n",
       "    </tr>\n",
       "    <tr>\n",
       "        <td>7</td>\n",
       "        <td>579</td>\n",
       "    </tr>\n",
       "    <tr>\n",
       "        <td>8</td>\n",
       "        <td>58</td>\n",
       "    </tr>\n",
       "    <tr>\n",
       "        <td>9</td>\n",
       "        <td>48</td>\n",
       "    </tr>\n",
       "    <tr>\n",
       "        <td>10</td>\n",
       "        <td>43</td>\n",
       "    </tr>\n",
       "</table>"
      ],
      "text/plain": [
       "[(1, 1297),\n",
       " (2, 130),\n",
       " (3, 374),\n",
       " (4, 332),\n",
       " (5, 12),\n",
       " (6, 81),\n",
       " (7, 579),\n",
       " (8, 58),\n",
       " (9, 48),\n",
       " (10, 43)]"
      ]
     },
     "execution_count": 73,
     "metadata": {},
     "output_type": "execute_result"
    }
   ],
   "source": [
    "%%sql\n",
    "\n",
    "SELECT GenreID, COUNT(*) as genre_count\n",
    "FROM tracks\n",
    "GROUP BY GenreId\n",
    "LIMIT 10\n",
    "\n",
    "-- tracks.groupby('GenreId')['GenreID'].count()"
   ]
  },
  {
   "cell_type": "markdown",
   "metadata": {},
   "source": [
    "The difference between the GROUP BY in SQL and `groupby` in Pandas is that SQL does not allow selecting columns which weren't given in the GROUP BY clause. For example, adding an extra free column in the above query generates an error:"
   ]
  },
  {
   "cell_type": "markdown",
   "metadata": {},
   "source": [
    "```sql\n",
    "%%sql\n",
    "\n",
    "SELECT Name, GenreID, COUNT(*) as genre_count\n",
    "FROM tracks\n",
    "GROUP BY GenreId\n",
    "\n",
    "syntax error at or near \"GROUP\"\n",
    "LINE 1: GROUP BY GenreId;\n",
    "```\n",
    "\n"
   ]
  },
  {
   "cell_type": "markdown",
   "metadata": {},
   "source": [
    "However, you can choose as many columns in the SELECT statement as you like as long as you are using some type of aggregate function on them:"
   ]
  },
  {
   "cell_type": "code",
   "execution_count": 86,
   "metadata": {},
   "outputs": [
    {
     "name": "stdout",
     "output_type": "stream",
     "text": [
      " * sqlite:///data/chinook.db\n",
      "Done.\n"
     ]
    },
    {
     "data": {
      "text/html": [
       "<table>\n",
       "    <tr>\n",
       "        <th>GenreId</th>\n",
       "        <th>AlbumId</th>\n",
       "        <th>genre_count</th>\n",
       "        <th>avg_duration</th>\n",
       "        <th>avg_price</th>\n",
       "    </tr>\n",
       "    <tr>\n",
       "        <td>1</td>\n",
       "        <td>1</td>\n",
       "        <td>10</td>\n",
       "        <td>4.0006916666666665</td>\n",
       "        <td>0.99</td>\n",
       "    </tr>\n",
       "    <tr>\n",
       "        <td>1</td>\n",
       "        <td>2</td>\n",
       "        <td>1</td>\n",
       "        <td>5.709366666666667</td>\n",
       "        <td>0.99</td>\n",
       "    </tr>\n",
       "    <tr>\n",
       "        <td>1</td>\n",
       "        <td>3</td>\n",
       "        <td>3</td>\n",
       "        <td>4.767155555555556</td>\n",
       "        <td>0.9899999999999999</td>\n",
       "    </tr>\n",
       "    <tr>\n",
       "        <td>1</td>\n",
       "        <td>4</td>\n",
       "        <td>8</td>\n",
       "        <td>5.11095625</td>\n",
       "        <td>0.9900000000000001</td>\n",
       "    </tr>\n",
       "    <tr>\n",
       "        <td>1</td>\n",
       "        <td>5</td>\n",
       "        <td>15</td>\n",
       "        <td>4.90189888888889</td>\n",
       "        <td>0.9900000000000001</td>\n",
       "    </tr>\n",
       "    <tr>\n",
       "        <td>1</td>\n",
       "        <td>6</td>\n",
       "        <td>13</td>\n",
       "        <td>4.424262820512821</td>\n",
       "        <td>0.9900000000000001</td>\n",
       "    </tr>\n",
       "    <tr>\n",
       "        <td>1</td>\n",
       "        <td>7</td>\n",
       "        <td>12</td>\n",
       "        <td>4.513006944444444</td>\n",
       "        <td>0.9900000000000001</td>\n",
       "    </tr>\n",
       "    <tr>\n",
       "        <td>1</td>\n",
       "        <td>10</td>\n",
       "        <td>14</td>\n",
       "        <td>4.67584880952381</td>\n",
       "        <td>0.9900000000000001</td>\n",
       "    </tr>\n",
       "    <tr>\n",
       "        <td>1</td>\n",
       "        <td>30</td>\n",
       "        <td>14</td>\n",
       "        <td>5.345142857142857</td>\n",
       "        <td>0.9900000000000001</td>\n",
       "    </tr>\n",
       "    <tr>\n",
       "        <td>1</td>\n",
       "        <td>31</td>\n",
       "        <td>9</td>\n",
       "        <td>4.566535185185185</td>\n",
       "        <td>0.99</td>\n",
       "    </tr>\n",
       "</table>"
      ],
      "text/plain": [
       "[(1, 1, 10, 4.0006916666666665, 0.99),\n",
       " (1, 2, 1, 5.709366666666667, 0.99),\n",
       " (1, 3, 3, 4.767155555555556, 0.9899999999999999),\n",
       " (1, 4, 8, 5.11095625, 0.9900000000000001),\n",
       " (1, 5, 15, 4.90189888888889, 0.9900000000000001),\n",
       " (1, 6, 13, 4.424262820512821, 0.9900000000000001),\n",
       " (1, 7, 12, 4.513006944444444, 0.9900000000000001),\n",
       " (1, 10, 14, 4.67584880952381, 0.9900000000000001),\n",
       " (1, 30, 14, 5.345142857142857, 0.9900000000000001),\n",
       " (1, 31, 9, 4.566535185185185, 0.99)]"
      ]
     },
     "execution_count": 86,
     "metadata": {},
     "output_type": "execute_result"
    }
   ],
   "source": [
    "%%sql\n",
    "\n",
    "SELECT GenreId, AlbumId, \n",
    "       COUNT(*) as genre_count,\n",
    "       AVG(Milliseconds) / 1000.0 / 60.0 as avg_duration,\n",
    "       AVG(UnitPrice) as avg_price\n",
    "  FROM tracks\n",
    " GROUP BY GenreId, AlbumId\n",
    " LIMIT 10"
   ]
  },
  {
   "cell_type": "markdown",
   "metadata": {},
   "source": [
    "The above query includes almost all the topics we have learned up to this point. We are grouping by both album ID and genre ID and for each group, we are calculating average duration and price of a song. We are also making an efficient use of aliasing. "
   ]
  },
  {
   "cell_type": "markdown",
   "metadata": {},
   "source": [
    "We can make the above query even more powerful by ordering by the average duration and genre count:"
   ]
  },
  {
   "cell_type": "code",
   "execution_count": 88,
   "metadata": {},
   "outputs": [
    {
     "name": "stdout",
     "output_type": "stream",
     "text": [
      " * sqlite:///data/chinook.db\n",
      "Done.\n"
     ]
    },
    {
     "data": {
      "text/html": [
       "<table>\n",
       "    <tr>\n",
       "        <th>GenreId</th>\n",
       "        <th>AlbumId</th>\n",
       "        <th>genre_count</th>\n",
       "        <th>avg_duration</th>\n",
       "        <th>avg_price</th>\n",
       "    </tr>\n",
       "    <tr>\n",
       "        <td>19</td>\n",
       "        <td>227</td>\n",
       "        <td>5</td>\n",
       "        <td>52.615260000000006</td>\n",
       "        <td>1.9899999999999998</td>\n",
       "    </tr>\n",
       "    <tr>\n",
       "        <td>20</td>\n",
       "        <td>253</td>\n",
       "        <td>24</td>\n",
       "        <td>48.759572222222225</td>\n",
       "        <td>1.9900000000000002</td>\n",
       "    </tr>\n",
       "    <tr>\n",
       "        <td>20</td>\n",
       "        <td>227</td>\n",
       "        <td>2</td>\n",
       "        <td>45.771458333333335</td>\n",
       "        <td>1.99</td>\n",
       "    </tr>\n",
       "    <tr>\n",
       "        <td>21</td>\n",
       "        <td>229</td>\n",
       "        <td>22</td>\n",
       "        <td>45.60556136363636</td>\n",
       "        <td>1.99</td>\n",
       "    </tr>\n",
       "    <tr>\n",
       "        <td>19</td>\n",
       "        <td>231</td>\n",
       "        <td>16</td>\n",
       "        <td>44.05144166666666</td>\n",
       "        <td>1.9899999999999993</td>\n",
       "    </tr>\n",
       "    <tr>\n",
       "        <td>18</td>\n",
       "        <td>227</td>\n",
       "        <td>12</td>\n",
       "        <td>43.763733333333334</td>\n",
       "        <td>1.9899999999999995</td>\n",
       "    </tr>\n",
       "    <tr>\n",
       "        <td>21</td>\n",
       "        <td>231</td>\n",
       "        <td>8</td>\n",
       "        <td>43.750514583333334</td>\n",
       "        <td>1.99</td>\n",
       "    </tr>\n",
       "    <tr>\n",
       "        <td>18</td>\n",
       "        <td>226</td>\n",
       "        <td>1</td>\n",
       "        <td>43.704166666666666</td>\n",
       "        <td>1.99</td>\n",
       "    </tr>\n",
       "    <tr>\n",
       "        <td>19</td>\n",
       "        <td>229</td>\n",
       "        <td>4</td>\n",
       "        <td>43.6093375</td>\n",
       "        <td>1.99</td>\n",
       "    </tr>\n",
       "    <tr>\n",
       "        <td>19</td>\n",
       "        <td>228</td>\n",
       "        <td>3</td>\n",
       "        <td>43.44713888888889</td>\n",
       "        <td>1.99</td>\n",
       "    </tr>\n",
       "</table>"
      ],
      "text/plain": [
       "[(19, 227, 5, 52.615260000000006, 1.9899999999999998),\n",
       " (20, 253, 24, 48.759572222222225, 1.9900000000000002),\n",
       " (20, 227, 2, 45.771458333333335, 1.99),\n",
       " (21, 229, 22, 45.60556136363636, 1.99),\n",
       " (19, 231, 16, 44.05144166666666, 1.9899999999999993),\n",
       " (18, 227, 12, 43.763733333333334, 1.9899999999999995),\n",
       " (21, 231, 8, 43.750514583333334, 1.99),\n",
       " (18, 226, 1, 43.704166666666666, 1.99),\n",
       " (19, 229, 4, 43.6093375, 1.99),\n",
       " (19, 228, 3, 43.44713888888889, 1.99)]"
      ]
     },
     "execution_count": 88,
     "metadata": {},
     "output_type": "execute_result"
    }
   ],
   "source": [
    "%%sql\n",
    "\n",
    "SELECT GenreId, AlbumId, \n",
    "       COUNT(*) as genre_count,\n",
    "       AVG(Milliseconds) / 1000.0 / 60.0 as avg_duration,\n",
    "       AVG(UnitPrice) as avg_price\n",
    "  FROM tracks\n",
    " GROUP BY GenreId, AlbumId\n",
    " ORDER BY avg_duration DESC, genre_count DESC\n",
    " LIMIT 10"
   ]
  },
  {
   "cell_type": "markdown",
   "metadata": {},
   "source": [
    "If you pay attention, we are using the alias names of the aggregate functions in the ORDER BY clause. Once you alias a column or the result of the aggregate function, you can refer to them only by their alias for the rest of the query."
   ]
  },
  {
   "cell_type": "markdown",
   "metadata": {},
   "source": [
    "### Using conditionals with HAVING"
   ]
  },
  {
   "cell_type": "markdown",
   "metadata": {},
   "source": [
    "By default, SQL does not allow conditional filtering using aggregate functions in the WHERE clause. For example, we want to select only the genres where the number of songs are greater than 100. Let's try this with WHERE clause:"
   ]
  },
  {
   "cell_type": "markdown",
   "metadata": {},
   "source": [
    "```sql\n",
    "%%sql\n",
    "\n",
    "SELECT GenreId\n",
    "FROM tracks\n",
    "GROUP BY GenreId\n",
    "WHERE COUNT(GenreId) > 10\n",
    "\n",
    "syntax error at or near \"WHERE\"\n",
    "LINE 1: where COUNT(GenreId) > 10;\n",
    "```"
   ]
  },
  {
   "cell_type": "markdown",
   "metadata": {},
   "source": [
    "The correct way of filtering rows based on the results of aggregate functions is using the HAVING clause:"
   ]
  },
  {
   "cell_type": "code",
   "execution_count": 94,
   "metadata": {},
   "outputs": [
    {
     "name": "stdout",
     "output_type": "stream",
     "text": [
      " * sqlite:///data/chinook.db\n",
      "Done.\n"
     ]
    },
    {
     "data": {
      "text/html": [
       "<table>\n",
       "    <tr>\n",
       "        <th>GenreId</th>\n",
       "    </tr>\n",
       "    <tr>\n",
       "        <td>1</td>\n",
       "    </tr>\n",
       "    <tr>\n",
       "        <td>2</td>\n",
       "    </tr>\n",
       "    <tr>\n",
       "        <td>3</td>\n",
       "    </tr>\n",
       "    <tr>\n",
       "        <td>4</td>\n",
       "    </tr>\n",
       "    <tr>\n",
       "        <td>7</td>\n",
       "    </tr>\n",
       "</table>"
      ],
      "text/plain": [
       "[(1,), (2,), (3,), (4,), (7,)]"
      ]
     },
     "execution_count": 94,
     "metadata": {},
     "output_type": "execute_result"
    }
   ],
   "source": [
    "%%sql\n",
    "\n",
    "SELECT GenreId\n",
    "FROM tracks\n",
    "GROUP BY GenreId\n",
    "HAVING COUNT(GenreId) > 100"
   ]
  },
  {
   "cell_type": "markdown",
   "metadata": {},
   "source": [
    "HAVING clause is usually used with GROUP BY. So, whenever you want to filter rows based using aggregate functions, HAVING is the way to go!"
   ]
  }
 ],
 "metadata": {
  "kernelspec": {
   "display_name": "medium_articles",
   "language": "python",
   "name": "medium_articles"
  },
  "language_info": {
   "codemirror_mode": {
    "name": "ipython",
    "version": 3
   },
   "file_extension": ".py",
   "mimetype": "text/x-python",
   "name": "python",
   "nbconvert_exporter": "python",
   "pygments_lexer": "ipython3",
   "version": "3.8.5"
  }
 },
 "nbformat": 4,
 "nbformat_minor": 4
}
