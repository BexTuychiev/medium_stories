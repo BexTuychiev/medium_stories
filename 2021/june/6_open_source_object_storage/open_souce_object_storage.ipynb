{
 "cells": [
  {
   "cell_type": "markdown",
   "metadata": {},
   "source": [
    "# Top 4 Open-source Tools For Object Storage\n",
    "## TODO\n",
    "![](images/pexels.jpg)\n",
    "<figcaption style=\"text-align: center;\">\n",
    "    <strong>\n",
    "        Photo by \n",
    "        <a href='https://www.pexels.com/@timmossholder?utm_content=attributionCopyText&utm_medium=referral&utm_source=pexels'>Tim Mossholder</a>\n",
    "        on \n",
    "        <a href='https://www.pexels.com/photo/shallow-focus-photo-of-white-open-sigange-3345876/?utm_content=attributionCopyText&utm_medium=referral&utm_source=pexels'>Pexels</a>\n",
    "    </strong>\n",
    "</figcaption>"
   ]
  },
  {
   "cell_type": "markdown",
   "metadata": {},
   "source": [
    "### Intro, Beginning"
   ]
  },
  {
   "cell_type": "markdown",
   "metadata": {},
   "source": [
    "As noted in Forbes, more than 80% of data in organizations is unstructured. Traditionally, companies ignored this type of data because of the challenges that occur when trying to analyze it and generate meaningful insights. However, the landscape is rapidly changing because of the availability of other types of storage systems such as block, file and object-based storage systems. \n",
    "\n",
    "Among the three, object storage seems most promising, proven by the fact that massive companies like Amazon, Google and IBM already offer enterprise solutions to object-based data repositories. While such commercial options certainly offer many features, it is worth exploring free alternatives that can contribute to a successful object storage implementation within your companies. In this article, we will discuss the top 4 open-source object storage tools and how they compare to each other."
   ]
  },
  {
   "cell_type": "markdown",
   "metadata": {},
   "source": [
    "### 1. JuiceFS"
   ]
  },
  {
   "cell_type": "markdown",
   "metadata": {},
   "source": [
    "### 2. SeaweedFS"
   ]
  },
  {
   "cell_type": "markdown",
   "metadata": {},
   "source": [
    "### 3. LakeFS"
   ]
  },
  {
   "cell_type": "markdown",
   "metadata": {},
   "source": [
    "### 4. MinIO"
   ]
  },
  {
   "cell_type": "markdown",
   "metadata": {},
   "source": [
    "### Summary"
   ]
  }
 ],
 "metadata": {
  "kernelspec": {
   "display_name": "medium_articles",
   "language": "python",
   "name": "medium_articles"
  },
  "language_info": {
   "codemirror_mode": {
    "name": "ipython",
    "version": 3
   },
   "file_extension": ".py",
   "mimetype": "text/x-python",
   "name": "python",
   "nbconvert_exporter": "python",
   "pygments_lexer": "ipython3",
   "version": "3.8.5"
  }
 },
 "nbformat": 4,
 "nbformat_minor": 4
}
