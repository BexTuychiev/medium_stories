{
 "cells": [
  {
   "cell_type": "markdown",
   "metadata": {},
   "source": [
    "# 5 Super Productive Things To Do During Model Training\n",
    "## Excruciatingly long waits turned into productivity sessions\n",
    "![](images/unsplash.jpg)\n",
    "<figcaption style=\"text-align: center;\">\n",
    "    <strong>\n",
    "        Photo by \n",
    "        <a href='https://unsplash.com/@kellysikkema?utm_source=unsplash&utm_medium=referral&utm_content=creditCopyText'>Kelly Sikkema</a>\n",
    "        on \n",
    "        <a href='https://unsplash.com/s/photos/sticky-notes?utm_source=unsplash&utm_medium=referral&utm_content=creditCopyText'>Pexels</a>\n",
    "    </strong>\n",
    "</figcaption>"
   ]
  },
  {
   "cell_type": "markdown",
   "metadata": {},
   "source": [
    "### Foreword"
   ]
  },
  {
   "cell_type": "markdown",
   "metadata": {},
   "source": [
    "Machine learning is an iterative process. Most painfully, each iteration can be excruciatingly long. Whether you are training a neural network, tuning hyperparameters, or performing an experiment for the umpteenth time, it is going to take time. Considering that datasets are not getting any smaller, your machine learning future is going to involve a lot of staring at the little corner of a notebook cell.\n",
    "\n",
    "So, how to best spend this time instead of waiting? In this article I am going to answer exactly that question. Specifically, I will show you 5 activities that are going to boost your technical skills and make you grow professionally as a data scientist. These activities are short and sweet, each one chosen to accommodate the duration of an average model run."
   ]
  },
  {
   "cell_type": "markdown",
   "metadata": {},
   "source": [
    "### Before you start..."
   ]
  },
  {
   "cell_type": "markdown",
   "metadata": {},
   "source": [
    "Before starting any model training, hyperparameter tuning or an experiment, it is important that you are prepared. Before you hit run, you should be sure that each cell and code block you execute will provide a result you expect. Otherwise, you will just waste time.\n",
    "\n",
    "There are many considerations before diving deep and this [blog](https://machinelearningmastery.com/machine-learning-model-running/) on Machine Learning Mastery tells you how to best design each experiment and how to be smart about your decisions.\n",
    "\n",
    "Also, if you are training models in Jupyter Notebooks, it might be a good idea to enable cell notifications. They will come especially handy when you are doing the activities we will discuss in this article. You sure don't want to miss the execution finish by getting caught up in the process. Here is an [excellent article](https://towardsdatascience.com/enabling-notifications-in-your-jupyter-notebooks-for-cell-completion-68d82b02bbc6) that shows how to enable this feature both in classic Jupyter and Jupyter Lab. Now, let's get started!"
   ]
  },
  {
   "cell_type": "markdown",
   "metadata": {},
   "source": [
    "### 1. Professional"
   ]
  },
  {
   "cell_type": "markdown",
   "metadata": {},
   "source": [
    "The most overlooked aspect of data science is networking and developing a strong professional identity. In my opinion, a well-rounded data scientist must have these 4 things as part of their professional image:\n",
    "\n",
    "- Professional LinkedIn page\n",
    "- Regularly updated résumé\n",
    "- GitHub page that stands out\n",
    "- Strong portfolio\n",
    "\n",
    "Each of these are crucial to make you stand out among the masses and efficiently showcase your skills to others. Successfully growing and honing your professional image takes time and honestly, it can be pretty boring. The reason is that writing a LinkedIn profile summary or developing a portfolio website are a little outside of the comfort zone of many data scientists and that's understandable.\n",
    "\n",
    "You can start small and take baby steps every time you are stuck waiting during your ML experiments. Start uploading a professional image to your LinkedIn profile and creating a LinkedIn banner that aligns with your personality. Write your LinkedIn summary sentence by sentence and turn it into the best description of yourself in a week. Update your experiences section in a way that shows quantifiable achievements and progress. If you are uncomfortable with LinkedIn (like me), check out [this great video](https://www.youtube.com/watch?v=BcfGWi8Qywk&t=410s) on how to build an exceptional LinkedIn profile.\n",
    "\n",
    "The next time you are training an XGBoost regressor, take a time and update your résumé. I am sure that you have been working on cool projects and it is time to include them as a nice summary. This is especially important for beginners who does not have much experience. There are many great tips for creating a great résumé but I built mine using [this template](https://medium.com/free-code-camp/writing-a-killer-software-engineering-resume-b11c91ef699d) from Terence Kuo who used it to get interviews from the FAANG companies. \n",
    "\n",
    "During model runs, visit your GitHub account (it is about time, because you haven't visited it in what... months?). Sadly, this is the case for many data scientists, especially beginners. We don't write much production code or do software engineering, so our GitHub profile idly sits there, our contribution graph looking less colorless than the [Dead Sea](https://en.wikipedia.org/wiki/Dead_Sea). However, [this awesome article](https://towardsdatascience.com/build-a-stunning-readme-for-your-github-profile-9b80434fe5d7) by Martin Heinz shows how you can covert your GitHub home page into a full-scale portfolio or a résumé.\n",
    "\n",
    "You can also take it a step further and build and host your own portfolio website. Having a great portfolio that showcases your skills and projects is a universal requirement for anyone who writes code. You can check out [this tutorial](https://towardsdatascience.com/how-to-create-an-elegant-website-for-your-data-science-portfolio-in-10-minutes-577f77d1f693) by Khuyen Tran that teaches you how to build a minimalistic portfolio website. Great thing is, you can work on it in short sessions as your code runs."
   ]
  },
  {
   "cell_type": "markdown",
   "metadata": {},
   "source": [
    "### 2. Codeworm"
   ]
  },
  {
   "cell_type": "markdown",
   "metadata": {},
   "source": [
    "You can't be a great writer without reading. The same applies to coding - to be skilled at coding, you need to expose yourself to the code others have written. \n",
    "\n",
    "With stupidly easy-to-learn libraries left and right, we might develop a false impression that we are 'good' at coding. But we can't really know how 'bad' we actually are without comparing ourselves to others. \n",
    "\n",
    "While keeping an eye on the notebook tab, start reading others' work. There are plenty of platforms and websites to find high-quality code. My favorite is reading Kaggle kernels, especially the ones that are submitted to the monthly tabular playground competitions. Since the competitions last only a month, the notebooks there tend to have the most updated overview of what's working and not working in today's data science. \n",
    "\n",
    "![](images/1.png)\n",
    "\n",
    "Fork the notebooks, play around with them. It is possible you won't find a great breakthrough that often, but it is guaranteed that you will learn some handy trick or a new function that is going to make your life easier.\n",
    "\n"
   ]
  },
  {
   "cell_type": "markdown",
   "metadata": {},
   "source": [
    "There is also the [official gallery](https://streamlit.io/gallery) of Streamlit. The projects posted there are hand-picked, high-quality work in ML and Deep learning related to many industries. You can learn much about production-level ML and deployment best practices.\n",
    "\n",
    "![](images/2.png)"
   ]
  },
  {
   "cell_type": "markdown",
   "metadata": {},
   "source": [
    "We all get to the point where we are not improving at all in terms of hard coding. Reading others' code can show us novel ways of interacting with the standard API of our favorite packages and frameworks. Become a codeworm by making it a habit to read code while working on your projects."
   ]
  },
  {
   "cell_type": "markdown",
   "metadata": {},
   "source": [
    "### 3. Contributor"
   ]
  },
  {
   "cell_type": "markdown",
   "metadata": {
    "tags": []
   },
   "source": [
    "No, this section is not about guilting you into contributing to open-source packages and frameworks. I know that for many data scientist and ML engineers (myself included) submitting pull requests, participating in issue discussions on GitHub is absolutely terrifying. I am not going to preach you about how much data science owes the open-source community for awesome libraries like Scikit-learn, Numpy, Pandas, etc.\n",
    "\n",
    "This activity is about building a reputation and growing your skills by helping others. Instead of shooting high like solving issues of your favorite packages on GitHub, you can start small. Stimulate your brain and learn new things by answering questions on QA sites. \n",
    "\n",
    "Filter the questions on [StackOverflow](https://stackoverflow.com/) for topics you are most comfortable about and start writing your own versions of answers. It does not matter how many times the questions has been answered - the important thing is that you put down your ideas into writing. Writing about things you know solidifies your knowledge or shows how much *you don't know* about that topic. Answering one question only takes a few minutes and you can do several questions a day by just doodling around while you training a CNN. \n",
    "\n",
    "Also, don't limit yourself just to SO. If you have a stack of ML theory and statistics knowledge, you can check out [Cross-Validation](https://stats.stackexchange.com/). If you are an experienced pro and can help others career-wise, go and dominate [Quora](https://www.quora.com/) spaces. \n",
    "\n",
    "Whatever platform you choose, get your name out there. Help and let others know about your own brand and ideas. This ensures that you stand out among the crowd and have significant achievements to boast on your résumé."
   ]
  },
  {
   "cell_type": "markdown",
   "metadata": {},
   "source": [
    "### 4. Kaggler"
   ]
  },
  {
   "cell_type": "markdown",
   "metadata": {},
   "source": [
    "### 5. Take Things Off Ice"
   ]
  },
  {
   "cell_type": "markdown",
   "metadata": {},
   "source": [
    "### Summary"
   ]
  }
 ],
 "metadata": {
  "kernelspec": {
   "display_name": "medium_articles",
   "language": "python",
   "name": "medium_articles"
  },
  "language_info": {
   "codemirror_mode": {
    "name": "ipython",
    "version": 3
   },
   "file_extension": ".py",
   "mimetype": "text/x-python",
   "name": "python",
   "nbconvert_exporter": "python",
   "pygments_lexer": "ipython3",
   "version": "3.8.5"
  }
 },
 "nbformat": 4,
 "nbformat_minor": 4
}
