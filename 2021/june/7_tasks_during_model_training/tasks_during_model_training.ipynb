{
 "cells": [
  {
   "cell_type": "markdown",
   "metadata": {},
   "source": [
    "# 5 Super Productive Things To Do During Model Training\n",
    "## Excruciatingly long waits turned into productivity sessions\n",
    "![](images/unsplash.jpg)\n",
    "<figcaption style=\"text-align: center;\">\n",
    "    <strong>\n",
    "        Photo by \n",
    "        <a href='https://unsplash.com/@kellysikkema?utm_source=unsplash&utm_medium=referral&utm_content=creditCopyText'>Kelly Sikkema</a>\n",
    "        on \n",
    "        <a href='https://unsplash.com/s/photos/sticky-notes?utm_source=unsplash&utm_medium=referral&utm_content=creditCopyText'>Pexels</a>\n",
    "    </strong>\n",
    "</figcaption>"
   ]
  },
  {
   "cell_type": "markdown",
   "metadata": {},
   "source": [
    "### Foreword"
   ]
  },
  {
   "cell_type": "markdown",
   "metadata": {},
   "source": [
    "Machine learning is an iterative process. Most painfully, each iteration can be excruciatingly long. Whether you are training a neural network, tuning hyperparameters, or performing an experiment for the umpteenth time, it is going to take time. Considering that datasets are not getting any smaller, your machine learning future is going to involve a lot of staring at the little corner of a notebook cell.\n",
    "\n",
    "So, how to best spend this time instead of waiting? In this article I am going to answer exactly that question. Specifically, I will show you 5 activities that are going to boost your technical skills and make you grow professionally as a data scientist. These activities are short and sweet, each one chosen to accommodate the duration of an average model run."
   ]
  },
  {
   "cell_type": "markdown",
   "metadata": {},
   "source": [
    "### Before you start..."
   ]
  },
  {
   "cell_type": "markdown",
   "metadata": {},
   "source": [
    "Before starting any model training, hyperparameter tuning or an experiment, it is important that you are prepared. Before you hit run, you should be sure that each cell and code block you execute will provide a result you expect. Otherwise, you will just waste time.\n",
    "\n",
    "There are many considerations before diving deep and this [blog](https://machinelearningmastery.com/machine-learning-model-running/) on Machine Learning Mastery tells you how to best design each experiment and how to be smart about your decisions.\n",
    "\n",
    "Also, if you are training models in Jupyter Notebooks, it might be a good idea to enable cell notifications. They will come especially handy when you are doing the activities we will discuss in this article. You sure don't want to miss the execution finish by getting caught up in the process. Here is an [excellent article](https://towardsdatascience.com/enabling-notifications-in-your-jupyter-notebooks-for-cell-completion-68d82b02bbc6) that shows how to enable this feature both in classic Jupyter and Jupyter Lab. Now, let's get started!"
   ]
  },
  {
   "cell_type": "markdown",
   "metadata": {},
   "source": [
    "### 1. Professional"
   ]
  },
  {
   "cell_type": "markdown",
   "metadata": {},
   "source": [
    "The most overlooked aspect of data science is networking and developing a strong professional identity. In my opinion, a well-rounded data scientist must have these 4 things as part of their professional image:\n",
    "\n",
    "- Professional LinkedIn page\n",
    "- Regularly updated résumé\n",
    "- GitHub page that stands out\n",
    "- Strong portfolio\n",
    "\n",
    "Each of these are crucial to make you stand out among the masses and efficiently showcase your skills to others. Successfully growing and honing your professional image takes time and honestly, it can be pretty boring. The reason is that writing a LinkedIn profile summary or developing a portfolio website are a little outside of the comfort zone of many data scientists and that's understandable.\n",
    "\n",
    "You can start small and take baby steps every time you are stuck waiting during your ML experiments. Start uploading a professional image to your LinkedIn profile and creating a LinkedIn banner that aligns with your personality. Write your LinkedIn summary sentence by sentence and turn it into the best description of yourself in a week. Update your experiences section in a way that shows quantifiable achievements and progress. If you are uncomfortable with LinkedIn (like me), check out [this great video](https://www.youtube.com/watch?v=BcfGWi8Qywk&t=410s) on how to build an exceptional LinkedIn profile.\n",
    "\n",
    "The next time you are training an XGBoost regressor, take a time and update your résumé. I am sure that you have been working on cool projects and it is time to include them as a nice summary. This is especially important for beginners who does not have much experience. There are many great tips for creating a great résumé but I built mine using [this template](https://medium.com/free-code-camp/writing-a-killer-software-engineering-resume-b11c91ef699d) from Terence Kuo who used it to get interviews from the FAANG companies. \n",
    "\n",
    "During model runs, visit your GitHub account (it is about time, because you haven't visited it in what... months?). Sadly, this is the case for many data scientists, especially beginners. We don't write much production code or do software engineering, so our GitHub profile idly sits there, our contribution graph looking less colorless than the [Dead Sea](https://en.wikipedia.org/wiki/Dead_Sea). However, [this awesome article](https://towardsdatascience.com/build-a-stunning-readme-for-your-github-profile-9b80434fe5d7) by Martin Heinz shows how you can covert your GitHub home page into a full-scale portfolio or a résumé.\n",
    "\n",
    "You can also take it a step further and build and host your own portfolio website. Having a great portfolio that showcases your skills and projects is a universal requirement for anyone who writes code. You can check out this tutorial by Khuyen Tran that teaches you how to build a minimalistic portfolio website. Great thing is, you can work on it in short sessions as your code runs."
   ]
  },
  {
   "cell_type": "markdown",
   "metadata": {},
   "source": [
    "### 2. Codeworm"
   ]
  },
  {
   "cell_type": "markdown",
   "metadata": {},
   "source": [
    "### 3. Contributor"
   ]
  },
  {
   "cell_type": "markdown",
   "metadata": {},
   "source": [
    "### 4. Kaggler"
   ]
  },
  {
   "cell_type": "markdown",
   "metadata": {},
   "source": [
    "### 5. Take Things Off Ice"
   ]
  },
  {
   "cell_type": "markdown",
   "metadata": {},
   "source": [
    "### Summary"
   ]
  }
 ],
 "metadata": {
  "kernelspec": {
   "display_name": "medium_articles",
   "language": "python",
   "name": "medium_articles"
  },
  "language_info": {
   "codemirror_mode": {
    "name": "ipython",
    "version": 3
   },
   "file_extension": ".py",
   "mimetype": "text/x-python",
   "name": "python",
   "nbconvert_exporter": "python",
   "pygments_lexer": "ipython3",
   "version": "3.8.5"
  }
 },
 "nbformat": 4,
 "nbformat_minor": 4
}
