{
 "cells": [
  {
   "cell_type": "markdown",
   "metadata": {},
   "source": [
    "# 5 Super Productive Things To Do During Model Training\n",
    "## Excruciatingly long waits turned into productivity sessions\n",
    "![](images/unsplash.jpg)\n",
    "<figcaption style=\"text-align: center;\">\n",
    "    <strong>\n",
    "        Photo by \n",
    "        <a href='https://unsplash.com/@kellysikkema?utm_source=unsplash&utm_medium=referral&utm_content=creditCopyText'>Kelly Sikkema</a>\n",
    "        on \n",
    "        <a href='https://unsplash.com/s/photos/sticky-notes?utm_source=unsplash&utm_medium=referral&utm_content=creditCopyText'>Pexels</a>\n",
    "    </strong>\n",
    "</figcaption>"
   ]
  },
  {
   "cell_type": "markdown",
   "metadata": {},
   "source": [
    "### Foreword"
   ]
  },
  {
   "cell_type": "markdown",
   "metadata": {},
   "source": [
    "Machine learning is an iterative process. Most painfully, each iteration can be excruciatingly long. Whether you are training a neural network, tuning hyperparameters, or performing an experiment for the umpteenth time, it is going to take time. Considering that datasets are not getting any smaller, your machine learning future is going to involve a lot of staring at the little corner of a Jupyter Notebook cell.\n",
    "\n",
    "So, how to best spend this time instead of waiting? In this article I am going to answer exactly that question. Specifically, I will show you 5 activities that are going to boost your technical skills and make you grow professionally as a data scientist. These activities are short and sweet, each one chosen to accommodate the duration of an average model run."
   ]
  },
  {
   "cell_type": "markdown",
   "metadata": {},
   "source": [
    "### Before you start..."
   ]
  },
  {
   "cell_type": "markdown",
   "metadata": {},
   "source": [
    "Before starting any model training, hyperparameter tuning or an experiment, it is important that you are prepared. Before hitting run, you should be sure that each cell and code block you execute will provide a result you expect. Otherwise, you will just waste time.\n",
    "\n",
    "There are many considerations before diving deep and this [blog](https://machinelearningmastery.com/machine-learning-model-running/) on Machine Learning Mastery tells you how to best design each experiment and how to be smart about your decisions.\n",
    "\n",
    "Also, if you are training models in Jupyter Notebooks, it might be a good idea to enable cell notifications. They will come especially handy when you are doing the activities we will discuss in this article. You sure don't want to miss the execution finish by getting caught up in the process. Here is an [excellent article](https://towardsdatascience.com/enabling-notifications-in-your-jupyter-notebooks-for-cell-completion-68d82b02bbc6) that shows how to enable this feature both in classic Jupyter and Jupyter Lab. Now, let's get started!"
   ]
  },
  {
   "cell_type": "markdown",
   "metadata": {},
   "source": [
    "### 1. Professional"
   ]
  },
  {
   "cell_type": "markdown",
   "metadata": {},
   "source": [
    "### 2. Codeworm"
   ]
  },
  {
   "cell_type": "markdown",
   "metadata": {},
   "source": [
    "### 3. Contributor"
   ]
  },
  {
   "cell_type": "markdown",
   "metadata": {},
   "source": [
    "### 4. Kaggler"
   ]
  },
  {
   "cell_type": "markdown",
   "metadata": {},
   "source": [
    "### 5. Take Things Off Ice"
   ]
  },
  {
   "cell_type": "markdown",
   "metadata": {},
   "source": [
    "### Summary"
   ]
  }
 ],
 "metadata": {
  "kernelspec": {
   "display_name": "medium_articles",
   "language": "python",
   "name": "medium_articles"
  },
  "language_info": {
   "codemirror_mode": {
    "name": "ipython",
    "version": 3
   },
   "file_extension": ".py",
   "mimetype": "text/x-python",
   "name": "python",
   "nbconvert_exporter": "python",
   "pygments_lexer": "ipython3",
   "version": "3.8.5"
  }
 },
 "nbformat": 4,
 "nbformat_minor": 4
}
