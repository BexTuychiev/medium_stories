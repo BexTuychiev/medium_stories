{
 "cells": [
  {
   "cell_type": "markdown",
   "metadata": {},
   "source": [
    "# Mastering Data Visualization With Plotly Express\n",
    "## TODO\n",
    "![](images/unsplash.jpg)\n",
    "<figcaption style=\"text-align: center;\">\n",
    "    <strong>\n",
    "        Photo by \n",
    "        <a href='https://unsplash.com/@sushioutlaw?utm_source=unsplash&utm_medium=referral&utm_content=creditCopyText'>Brian McGowan</a>\n",
    "        on \n",
    "        <a href='https://unsplash.com/s/photos/express?utm_source=unsplash&utm_medium=referral&utm_content=creditCopyText'>Pexels</a>\n",
    "    </strong>\n",
    "</figcaption>"
   ]
  },
  {
   "cell_type": "markdown",
   "metadata": {},
   "source": [
    "### Setup"
   ]
  },
  {
   "cell_type": "code",
   "execution_count": 1,
   "metadata": {},
   "outputs": [],
   "source": [
    "import warnings\n",
    "\n",
    "import matplotlib.pyplot as plt\n",
    "import numpy as np\n",
    "import pandas as pd\n",
    "import plotly.express as px\n",
    "import seaborn as sns\n",
    "\n",
    "warnings.filterwarnings(\"ignore\")"
   ]
  },
  {
   "cell_type": "markdown",
   "metadata": {},
   "source": [
    "### Introduction"
   ]
  },
  {
   "cell_type": "markdown",
   "metadata": {},
   "source": [
    "For the past few years, there has been an explosion of interest towards interactive plots. People were bored out of their minds from the old, static plots they have been using since before they were born. This was understandable because unlike other aspects of data science which rapidly change, there had not been much advancements in terms of data visualization. Matplotlib, Seaborn and ggplot have been dominating the game and many people wanted a change.\n",
    "\n",
    "Then, Plotly came.\n",
    "\n",
    "In 2015, a widely-accepted Plotly.js data visualization framework was open-sourced for both Python and R, making Plotly the most downloaded graphing library in the world that year. Like any other baby project, it had its flaws but it still became widely popular.\n",
    "\n",
    "In 2019, version 4.0.0 of Plotly introduced the Plotly Express API that completely fueled the whole interactive plotting hype. Now, Plotly has more than 100 million downloads and has its APIs in Python, R, Julia, .NET and JS.\n",
    "\n",
    "Considering its popularity and its usefulness, I wrote this article to give a solid introduction to Plotly's Express API for beginners. Enjoy!"
   ]
  },
  {
   "cell_type": "markdown",
   "metadata": {},
   "source": [
    "### Plotly Figures"
   ]
  }
 ],
 "metadata": {
  "kernelspec": {
   "display_name": "medium_articles",
   "language": "python",
   "name": "medium_articles"
  },
  "language_info": {
   "codemirror_mode": {
    "name": "ipython",
    "version": 3
   },
   "file_extension": ".py",
   "mimetype": "text/x-python",
   "name": "python",
   "nbconvert_exporter": "python",
   "pygments_lexer": "ipython3",
   "version": "3.8.5"
  }
 },
 "nbformat": 4,
 "nbformat_minor": 4
}
