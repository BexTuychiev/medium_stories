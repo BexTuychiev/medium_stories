{
 "cells": [
  {
   "cell_type": "markdown",
   "metadata": {},
   "source": [
    "# How to Manage Attribute and Data Access in Python Classes\n",
    "## Emposing restrictions to protect your code\n",
    "![](images/pexels.jpg)\n",
    "<figcaption style=\"text-align: center;\">\n",
    "    <strong>\n",
    "        Photo by \n",
    "        <a href='https://www.pexels.com/@pixabay?utm_content=attributionCopyText&utm_medium=referral&utm_source=pexels'>Pixabay</a>\n",
    "        on \n",
    "        <a href='https://www.pexels.com/photo/black-android-smartphone-on-top-of-white-book-39584/?utm_content=attributionCopyText&utm_medium=referral&utm_source=pexels'>Pexels</a>\n",
    "    </strong>\n",
    "</figcaption>"
   ]
  },
  {
   "cell_type": "markdown",
   "metadata": {
    "tags": []
   },
   "source": [
    "In our open-source Python community, all class, OOP data is technically public. If you want, you can change much of the internal logic by tapping into the source code and ruin everything for yourself. If your programming background is from another language such as Java or C, you might be surprised that is the case. \n",
    "You might be even more surprised that these type of *screw-ups* almost never happen among Python developers. So, what is our secret?\n",
    "\n",
    "Turns out, the fundamental principle behind much of Python code design is \"we are all adults here\". If you have never heard this before, now is the time you learned that we, as Python developers should trust and respect each other's code.\n",
    "\n",
    "All OOP code in Python have universal naming conventions and special keywords (a *code* among us, if you will) that indicate the fact that even though the code is public, it is not meant for external use. These would be the parts of the code that work soundless under the hood and never meant for public use."
   ]
  },
  {
   "cell_type": "markdown",
   "metadata": {},
   "source": [
    "In this article, you will learn about these naming conventions and special attributes called properties that help you manage access to the private internals of your Python classes.\n"
   ]
  }
 ],
 "metadata": {
  "kernelspec": {
   "display_name": "medium_articles",
   "language": "python",
   "name": "medium_articles"
  },
  "language_info": {
   "codemirror_mode": {
    "name": "ipython",
    "version": 3
   },
   "file_extension": ".py",
   "mimetype": "text/x-python",
   "name": "python",
   "nbconvert_exporter": "python",
   "pygments_lexer": "ipython3",
   "version": "3.8.5"
  }
 },
 "nbformat": 4,
 "nbformat_minor": 4
}
