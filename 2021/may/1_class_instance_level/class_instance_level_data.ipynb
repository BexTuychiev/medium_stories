{
 "cells": [
  {
   "cell_type": "markdown",
   "metadata": {},
   "source": [
    "# Differentiating Between Class and Instance-level Data in Python Object-oriented-programming (OOP)\n",
    "## Crucial lesson to understand tricky nuances\n",
    "<img src='images/pexels.jpg'></img>\n",
    "<figcaption style=\"text-align: center;\">\n",
    "    <strong>\n",
    "        Photo by \n",
    "        <a href='https://www.pexels.com/@karolina-grabowska?utm_content=attributionCopyText&utm_medium=referral&utm_source=pexels'>Karolina Grabowska</a>\n",
    "        on \n",
    "        <a href='https://www.pexels.com/photo/stylish-various-sand-hourglasses-placed-on-table-4397907/?utm_content=attributionCopyText&utm_medium=referral&utm_source=pexels'>Pexels</a>\n",
    "    </strong>\n",
    "</figcaption>"
   ]
  },
  {
   "cell_type": "markdown",
   "metadata": {},
   "source": [
    "### Setup"
   ]
  },
  {
   "cell_type": "code",
   "execution_count": 22,
   "metadata": {},
   "outputs": [],
   "source": [
    "import datetime\n",
    "import math\n",
    "import warnings\n",
    "\n",
    "import matplotlib.pyplot as plt\n",
    "import numpy as np\n",
    "import pandas as pd\n",
    "import seaborn as sns\n",
    "\n",
    "warnings.filterwarnings(\"ignore\")"
   ]
  },
  {
   "cell_type": "markdown",
   "metadata": {},
   "source": [
    "### Introduction"
   ]
  },
  {
   "cell_type": "markdown",
   "metadata": {},
   "source": [
    "The world of OOP is vast and rich and takes a while to master. After you got down the [basics](https://towardsdev.com/intro-to-object-oriented-programming-for-data-scientists-9308e6b726a2?source=your_stories_page-------------------------------------), it is time to learn the 3 core principles of OOP: Inheritance, Polymorphism and Encapsulation. However, along the way there are so many filler concepts or prerequisites you need to learn. One of them is differentiating between *class-level* and *instance-level* data. This differentiation is crucial to understand **Inheritance**, one of the strong pillars of OOP.\n",
    "\n",
    "In this article, we will discuss how instance attributes differ from global class attributes as well as categorizing methods into class-level and instance-level methods."
   ]
  },
  {
   "cell_type": "markdown",
   "metadata": {
    "tags": []
   },
   "source": [
    "### Instance-level attributes"
   ]
  },
  {
   "cell_type": "markdown",
   "metadata": {},
   "source": [
    "Remember that `self` keyword was a stand-in, a placeholder for future objects of a class. If we have this simple `car` class:"
   ]
  },
  {
   "cell_type": "code",
   "execution_count": 6,
   "metadata": {},
   "outputs": [],
   "source": [
    "class Car:\n",
    "    def __init__(self, model, year):\n",
    "        self.model = model\n",
    "        self.year = year"
   ]
  },
  {
   "cell_type": "markdown",
   "metadata": {},
   "source": [
    "We are using `self` to refer to any future instances of `Car` class:"
   ]
  },
  {
   "cell_type": "code",
   "execution_count": 7,
   "metadata": {},
   "outputs": [
    {
     "name": "stdout",
     "output_type": "stream",
     "text": [
      "Lamborghini 2021\n",
      "BMW 2021\n"
     ]
    }
   ],
   "source": [
    "lambo = Car(\"Lamborghini\", 2021)\n",
    "print(lambo.model, lambo.year)\n",
    "\n",
    "bmw = Car(\"BMW\", 2021)\n",
    "print(bmw.model, bmw.year)"
   ]
  },
  {
   "cell_type": "markdown",
   "metadata": {},
   "source": [
    "`self` keywords helps us bind new data to a single instance of a class. In other words, each `model` and `year` attribute is specific to their own instance. That's why any variable created in a class with the `self` keyword is called an *instance attribute*. These attributes cannot be accessed without first defining them.\n",
    "\n",
    "But what if we need to store data that is shared among all the instances of a class? For example, you may want to include the fact that all of our cars have 4 wheels and they are sports cars. Adding each of these to every new object goes against the *Don't Repeat Yourself* (DRY) principle.\n",
    "\n",
    "To go around this problem, we can define attributes directly in the body of a class which makes them `class-level` attributes."
   ]
  },
  {
   "cell_type": "markdown",
   "metadata": {},
   "source": [
    "### Class-level attributes"
   ]
  },
  {
   "cell_type": "markdown",
   "metadata": {},
   "source": [
    "So, any variable defined in the class body without the `self` keyword, becomes a class attribute:"
   ]
  },
  {
   "cell_type": "code",
   "execution_count": 9,
   "metadata": {},
   "outputs": [],
   "source": [
    "class Car:\n",
    "\n",
    "    wheels = 4\n",
    "    car_type = \"sports car\"\n",
    "\n",
    "    def __init__(self, model, year):\n",
    "        self.model = model\n",
    "        self.year = year"
   ]
  },
  {
   "cell_type": "markdown",
   "metadata": {},
   "source": [
    "When you create objects from the `Car` class they will all share the attributes we defined in the class body - `wheels` and `car_type`:"
   ]
  },
  {
   "cell_type": "code",
   "execution_count": 20,
   "metadata": {},
   "outputs": [
    {
     "name": "stdout",
     "output_type": "stream",
     "text": [
      "4\n",
      "sports car\n"
     ]
    }
   ],
   "source": [
    "lambo = Car(\"Lamborghini\", 2021)\n",
    "bmw = Car(\"BMW\", 2021)\n",
    "\n",
    "print(lambo.wheels)\n",
    "print(bmw.car_type)"
   ]
  },
  {
   "cell_type": "markdown",
   "metadata": {},
   "source": [
    "You can access class attributes using the dot notation. Also, you don't have to create an object to see their values, just use `class_name.MyAttribute` notation:"
   ]
  },
  {
   "cell_type": "code",
   "execution_count": 21,
   "metadata": {},
   "outputs": [
    {
     "name": "stdout",
     "output_type": "stream",
     "text": [
      "4\n",
      "sports car\n"
     ]
    }
   ],
   "source": [
    "print(Car.wheels)\n",
    "print(Car.car_type)"
   ]
  },
  {
   "cell_type": "markdown",
   "metadata": {},
   "source": [
    "There are many use-cases for defining global class attributes. They are commonly used to record constants, minimum and maximums of attributes or any information that is the same across all instances of a class. One example from the Python built-ins is the `math` module:"
   ]
  },
  {
   "cell_type": "code",
   "execution_count": 18,
   "metadata": {},
   "outputs": [
    {
     "name": "stdout",
     "output_type": "stream",
     "text": [
      "3.141592653589793\n",
      "2.718281828459045\n",
      "6.283185307179586\n"
     ]
    }
   ],
   "source": [
    "import math\n",
    "\n",
    "print(math.pi)\n",
    "print(math.e)\n",
    "print(math.tau)"
   ]
  },
  {
   "cell_type": "markdown",
   "metadata": {},
   "source": [
    "As you can see, `math` module stored constant numbers like *pi*, *e* and *tau* as class attributes."
   ]
  },
  {
   "cell_type": "markdown",
   "metadata": {},
   "source": [
    "### Working With Class Attributes"
   ]
  }
 ],
 "metadata": {
  "kernelspec": {
   "display_name": "medium_articles",
   "language": "python",
   "name": "medium_articles"
  },
  "language_info": {
   "codemirror_mode": {
    "name": "ipython",
    "version": 3
   },
   "file_extension": ".py",
   "mimetype": "text/x-python",
   "name": "python",
   "nbconvert_exporter": "python",
   "pygments_lexer": "ipython3",
   "version": "3.8.5"
  }
 },
 "nbformat": 4,
 "nbformat_minor": 4
}
