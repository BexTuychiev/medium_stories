{
 "cells": [
  {
   "cell_type": "markdown",
   "metadata": {},
   "source": [
    "# Differentiating Between Class and Instance-level Data in Python Object-oriented-programming (OOP)\n",
    "## Crucial lesson to understand tricky nuances\n",
    "<img src='images/pexels.jpg'></img>\n",
    "<figcaption style=\"text-align: center;\">\n",
    "    <strong>\n",
    "        Photo by \n",
    "        <a href='https://www.pexels.com/@karolina-grabowska?utm_content=attributionCopyText&utm_medium=referral&utm_source=pexels'>Karolina Grabowska</a>\n",
    "        on \n",
    "        <a href='https://www.pexels.com/photo/stylish-various-sand-hourglasses-placed-on-table-4397907/?utm_content=attributionCopyText&utm_medium=referral&utm_source=pexels'>Pexels</a>\n",
    "    </strong>\n",
    "</figcaption>"
   ]
  },
  {
   "cell_type": "markdown",
   "metadata": {},
   "source": [
    "### Setup"
   ]
  },
  {
   "cell_type": "code",
   "execution_count": 48,
   "metadata": {},
   "outputs": [],
   "source": [
    "import datetime\n",
    "import math\n",
    "import warnings\n",
    "\n",
    "import matplotlib.pyplot as plt\n",
    "import numpy as np\n",
    "import pandas as pd\n",
    "import seaborn as sns\n",
    "\n",
    "warnings.filterwarnings(\"ignore\")"
   ]
  },
  {
   "cell_type": "markdown",
   "metadata": {},
   "source": [
    "### Introduction"
   ]
  },
  {
   "cell_type": "markdown",
   "metadata": {},
   "source": [
    "The world of OOP is vast and rich and takes a while to master. After you got down the [basics](https://towardsdev.com/intro-to-object-oriented-programming-for-data-scientists-9308e6b726a2?source=your_stories_page-------------------------------------), it is time to learn the 3 core principles of OOP: Inheritance, Polymorphism and Encapsulation. However, along the way there are so many filler concepts or prerequisites you need to learn. One of them is differentiating between *class-level* and *instance-level* data. This differentiation is crucial to understand **Inheritance**, one of the strong pillars of OOP.\n",
    "\n",
    "In this article, we will discuss how instance attributes differ from global class attributes as well as categorizing methods into class-level and instance-level methods."
   ]
  },
  {
   "cell_type": "markdown",
   "metadata": {
    "tags": []
   },
   "source": [
    "### Instance-level attributes"
   ]
  },
  {
   "cell_type": "markdown",
   "metadata": {},
   "source": [
    "Remember that `self` keyword was a stand-in, a placeholder for future objects of a class. If we have this simple `car` class:"
   ]
  },
  {
   "cell_type": "code",
   "execution_count": 49,
   "metadata": {},
   "outputs": [],
   "source": [
    "class Car:\n",
    "    def __init__(self, model, year):\n",
    "        self.model = model\n",
    "        self.year = year"
   ]
  },
  {
   "cell_type": "markdown",
   "metadata": {},
   "source": [
    "We are using `self` to refer to any future instances of `Car` class:"
   ]
  },
  {
   "cell_type": "code",
   "execution_count": 50,
   "metadata": {},
   "outputs": [
    {
     "name": "stdout",
     "output_type": "stream",
     "text": [
      "Lamborghini 2021\n",
      "BMW 2021\n"
     ]
    }
   ],
   "source": [
    "lambo = Car(\"Lamborghini\", 2021)\n",
    "print(lambo.model, lambo.year)\n",
    "\n",
    "bmw = Car(\"BMW\", 2021)\n",
    "print(bmw.model, bmw.year)"
   ]
  },
  {
   "cell_type": "markdown",
   "metadata": {},
   "source": [
    "`self` keywords helps us bind new data to a single instance of a class. In other words, each `model` and `year` attribute is specific to their own instance. That's why any variable created in a class with the `self` keyword is called an *instance attribute*. These attributes cannot be accessed without first defining them.\n",
    "\n",
    "But what if we need to store data that is shared among all the instances of a class? For example, you may want to include the fact that all of our cars have 4 wheels and they are sports cars. Adding each of these to every new object goes against the *Don't Repeat Yourself* (DRY) principle.\n",
    "\n",
    "To go around this problem, we can define attributes directly in the body of a class which makes them `class-level` attributes."
   ]
  },
  {
   "cell_type": "markdown",
   "metadata": {},
   "source": [
    "### Class-level attributes"
   ]
  },
  {
   "cell_type": "markdown",
   "metadata": {},
   "source": [
    "So, any variable defined in the class body without the `self` keyword, becomes a class attribute:"
   ]
  },
  {
   "cell_type": "code",
   "execution_count": 51,
   "metadata": {},
   "outputs": [],
   "source": [
    "class Car:\n",
    "\n",
    "    wheels = 4\n",
    "    car_type = \"sports car\"\n",
    "\n",
    "    def __init__(self, model, year):\n",
    "        self.model = model\n",
    "        self.year = year"
   ]
  },
  {
   "cell_type": "markdown",
   "metadata": {},
   "source": [
    "When you create objects from the `Car` class they will all share the attributes we defined in the class body - `wheels` and `car_type`:"
   ]
  },
  {
   "cell_type": "code",
   "execution_count": 52,
   "metadata": {},
   "outputs": [
    {
     "name": "stdout",
     "output_type": "stream",
     "text": [
      "4\n",
      "sports car\n"
     ]
    }
   ],
   "source": [
    "lambo = Car(\"Lamborghini\", 2021)\n",
    "bmw = Car(\"BMW\", 2021)\n",
    "\n",
    "print(lambo.wheels)\n",
    "print(bmw.car_type)"
   ]
  },
  {
   "cell_type": "markdown",
   "metadata": {},
   "source": [
    "You can access class attributes using the dot notation. Also, you don't have to create an object to see their values, just use `class_name.MyAttribute` notation:"
   ]
  },
  {
   "cell_type": "code",
   "execution_count": 53,
   "metadata": {},
   "outputs": [
    {
     "name": "stdout",
     "output_type": "stream",
     "text": [
      "4\n",
      "sports car\n"
     ]
    }
   ],
   "source": [
    "print(Car.wheels)\n",
    "print(Car.car_type)"
   ]
  },
  {
   "cell_type": "markdown",
   "metadata": {},
   "source": [
    "There are many use-cases for defining global class attributes. They are commonly used to record constants, minimum and maximums of attributes or any information that is the same across all instances of a class. One example from the Python built-ins is the `math` module:"
   ]
  },
  {
   "cell_type": "code",
   "execution_count": 54,
   "metadata": {},
   "outputs": [
    {
     "name": "stdout",
     "output_type": "stream",
     "text": [
      "3.141592653589793\n",
      "2.718281828459045\n",
      "6.283185307179586\n"
     ]
    }
   ],
   "source": [
    "import math\n",
    "\n",
    "print(math.pi)\n",
    "print(math.e)\n",
    "print(math.tau)"
   ]
  },
  {
   "cell_type": "markdown",
   "metadata": {},
   "source": [
    "As you can see, `math` module stored constant numbers like *pi*, *e* and *tau* as class attributes."
   ]
  },
  {
   "cell_type": "markdown",
   "metadata": {},
   "source": [
    "### Working With Class Attributes"
   ]
  },
  {
   "cell_type": "markdown",
   "metadata": {},
   "source": [
    "Referring to class attributes within the class itself is done using `class_name.MyAttribute` notation as well:"
   ]
  },
  {
   "cell_type": "code",
   "execution_count": 55,
   "metadata": {},
   "outputs": [],
   "source": [
    "class Employee:\n",
    "    \n",
    "    min_salary = 30000\n",
    "    min_age = 20\n",
    "    \n",
    "    def __init__(self, name, age, salary):\n",
    "        self.name = name\n",
    "        \n",
    "        if age <= Employee.min_age:\n",
    "            self.age = Employee.min_age\n",
    "        else:\n",
    "            self.age = age\n",
    "        \n",
    "        if salary <= Employee.min_salary:\n",
    "            self.salary = Employee.min_salary\n",
    "        else:\n",
    "            self.salary = salary"
   ]
  },
  {
   "cell_type": "markdown",
   "metadata": {},
   "source": [
    "As you can see, we are adding checks to see if passed values for age and salary are above the minimum. If not, we are just putting the minimum values instead. All the while, we are referring to these attributes with `Employee.attribute` notation."
   ]
  },
  {
   "cell_type": "markdown",
   "metadata": {},
   "source": [
    "Next, we will see how to modify class attributes. Let's start from objects:"
   ]
  },
  {
   "cell_type": "code",
   "execution_count": 56,
   "metadata": {},
   "outputs": [
    {
     "name": "stdout",
     "output_type": "stream",
     "text": [
      "luxury car\n"
     ]
    }
   ],
   "source": [
    "class Car:\n",
    "\n",
    "    wheels = 4\n",
    "    car_type = \"sports car\"\n",
    "\n",
    "    def __init__(self, model, year):\n",
    "        self.model = model\n",
    "        self.year = year\n",
    "\n",
    "lambo = Car(\"Lamborghini\", 2021)\n",
    "lambo.car_type = 'luxury car'\n",
    "print(lambo.car_type)"
   ]
  },
  {
   "cell_type": "markdown",
   "metadata": {},
   "source": [
    "As you can see, we could easily change the value of `car_type`, but wait:"
   ]
  },
  {
   "cell_type": "code",
   "execution_count": 57,
   "metadata": {},
   "outputs": [
    {
     "name": "stdout",
     "output_type": "stream",
     "text": [
      "sports car\n"
     ]
    }
   ],
   "source": [
    "print(Car.car_type)"
   ]
  },
  {
   "cell_type": "markdown",
   "metadata": {},
   "source": [
    "Accessing the attribute from the class itself shows us that it *did* not change. So what happened here? \n",
    "\n",
    "When you try to modify a class-level attribute from an instance, instead of changing its value, the `self` keyword just binds a new instance-level attribute to that specific object:"
   ]
  },
  {
   "cell_type": "code",
   "execution_count": 58,
   "metadata": {},
   "outputs": [
    {
     "name": "stdout",
     "output_type": "stream",
     "text": [
      "luxury car\n",
      "sports car\n"
     ]
    }
   ],
   "source": [
    "# Init a new object\n",
    "lambo = Car(\"Lamborghini\", 2021)\n",
    "# Try to change class-level attribute\n",
    "lambo.car_type = 'luxury car'\n",
    "print(lambo.car_type)  ## After change\n",
    "\n",
    "bmw = Car(\"BMW\", 2021)\n",
    "print(bmw.car_type)"
   ]
  },
  {
   "cell_type": "markdown",
   "metadata": {},
   "source": [
    "The fact that `bmw` still has 'spots car' as car type proves the above point. To change the class attribute across all instances, you have to use the `class_name.attribute` syntax again:"
   ]
  },
  {
   "cell_type": "code",
   "execution_count": 59,
   "metadata": {},
   "outputs": [
    {
     "name": "stdout",
     "output_type": "stream",
     "text": [
      "---Attributes before change---\n",
      "sports car\n",
      "sports car\n",
      "---Attributes after change---\n",
      "luxury car\n",
      "luxury car\n"
     ]
    }
   ],
   "source": [
    "lambo = Car(\"Lamborghini\", 2021)\n",
    "bmw = Car(\"BMW\", 2021)\n",
    "print(\"---Attributes before change---\")\n",
    "print(lambo.car_type)\n",
    "print(bmw.car_type)\n",
    "\n",
    "# Modify the class-level attribute\n",
    "Car.car_type = 'luxury car'\n",
    "\n",
    "print(\"---Attributes after change---\")\n",
    "print(lambo.car_type)\n",
    "print(bmw.car_type)\n"
   ]
  },
  {
   "cell_type": "markdown",
   "metadata": {},
   "source": [
    "This time, car type is changed once and for all. "
   ]
  },
  {
   "cell_type": "markdown",
   "metadata": {},
   "source": [
    "### Class Methods"
   ]
  },
  {
   "cell_type": "markdown",
   "metadata": {},
   "source": [
    "Apart from instance methods, there may be class and static methods as well. Regardless of the type of method, all methods are shared across instances but their functionality differ greatly. In this section, we will look at the distinction between instance methods and class-level methods.\n",
    "\n",
    "Instance method is just a regular method defined using the `self` keyword as the first argument:"
   ]
  },
  {
   "cell_type": "code",
   "execution_count": 60,
   "metadata": {
    "tags": []
   },
   "outputs": [],
   "source": [
    "class Employee:\n",
    "    \n",
    "    min_salary = 30000\n",
    "    min_age = 20\n",
    "    \n",
    "    def __init__(self, name, age, salary):\n",
    "        self.name = name\n",
    "        self.age = age\n",
    "        self.salary = salary\n",
    "        \n",
    "    def give_raise(self, raise_amount):\n",
    "        \"\"\"A method to increase employee's salary\"\"\"\n",
    "        self.salary += raise_amount"
   ]
  },
  {
   "cell_type": "code",
   "execution_count": 61,
   "metadata": {},
   "outputs": [
    {
     "name": "stdout",
     "output_type": "stream",
     "text": [
      "Before raise: 60000\n",
      "After raise: 80000\n"
     ]
    }
   ],
   "source": [
    "emp1 = Employee('John Smith', 25, 60000)\n",
    "\n",
    "print(\"Before raise:\", emp1.salary)\n",
    "emp1.give_raise(20000)\n",
    "\n",
    "print(\"After raise:\", emp1.salary)"
   ]
  },
  {
   "cell_type": "markdown",
   "metadata": {},
   "source": [
    "Because instance methods have access to the `self` keyword, they have a lot of power - they can modify instance state and also the state of the class itself using the `self.__class__` attribute. "
   ]
  },
  {
   "cell_type": "markdown",
   "metadata": {},
   "source": [
    "Another type of method is a class method. It is a bit more restrictive type of method because it cannot use any instance level attributes or methods.\n",
    "\n",
    "To define a class-level method, we wrap the function definition with `@classmethod` decorator:"
   ]
  },
  {
   "cell_type": "code",
   "execution_count": 62,
   "metadata": {},
   "outputs": [],
   "source": [
    "class MyClass:\n",
    "    \n",
    "    @classmethod\n",
    "    def my_method(cls, arg1, arg2):\n",
    "        pass"
   ]
  },
  {
   "cell_type": "markdown",
   "metadata": {},
   "source": [
    "`@classmethod` is a special keyword decorator that converts regular functions to class methods. You may also see that it accepts `cls` as the first argument instead of `self`. `cls` is a reference to the class just like `self` was the reference to an instance object. We will get to this keyword in a bit."
   ]
  },
  {
   "cell_type": "markdown",
   "metadata": {
    "tags": []
   },
   "source": [
    "Calling class methods uses `class.method` syntax rather than `object.method` syntax:\n",
    "\n",
    "```python\n",
    "MyClass.my_method(arg1, arg2)\n",
    "```"
   ]
  },
  {
   "cell_type": "markdown",
   "metadata": {},
   "source": [
    "So, why do we need class methods at all? Well, the main use case is alternative constructors. Classes allow a single constructor method - `__init__` but we may need other ways to initialize objects.\n",
    "\n",
    "For example, what if the details of the employees are stored in a spreadsheet? We would need to create a new separate function to parse the file and feed the details to new objects. But then, the code gets complicated, you need to inform other developers that you are shipping a completely separate function to the class which makes it harder to maintain and collaborate on. \n",
    "\n",
    "Also, we can't use a method because that would require an instance but we don't have it yet!\n",
    "\n",
    "Adding a class method solves this elegantly:"
   ]
  },
  {
   "cell_type": "code",
   "execution_count": 63,
   "metadata": {},
   "outputs": [],
   "source": [
    "class Employee:\n",
    "    \n",
    "    min_salary = 30000\n",
    "    min_age = 20\n",
    "    \n",
    "    def __init__(self, name):\n",
    "        self.name = name\n",
    "        \n",
    "    @classmethod\n",
    "    def from_file(cls, file_path):\n",
    "\n",
    "        with open(file_path, 'r') as f:\n",
    "            name = f.readline()\n",
    "        \n",
    "        return cls(name)"
   ]
  },
  {
   "cell_type": "markdown",
   "metadata": {},
   "source": [
    "Using the above class, we can initiate objects in regular way:"
   ]
  },
  {
   "cell_type": "code",
   "execution_count": 64,
   "metadata": {},
   "outputs": [
    {
     "data": {
      "text/plain": [
       "'Alex'"
      ]
     },
     "execution_count": 64,
     "metadata": {},
     "output_type": "execute_result"
    }
   ],
   "source": [
    "emp1 = Employee('Alex')\n",
    "emp1.name"
   ]
  },
  {
   "cell_type": "markdown",
   "metadata": {},
   "source": [
    "Similarly, we can read employee names from a text file which stores one name in a single line:"
   ]
  },
  {
   "cell_type": "markdown",
   "metadata": {},
   "source": [
    "```python\n",
    "emp2 = Employee.from_file('./employees.txt')\n",
    "print(emp2.name)\n",
    "\n",
    "'Alex'\n",
    "```"
   ]
  },
  {
   "cell_type": "markdown",
   "metadata": {
    "tags": []
   },
   "source": [
    "Now, it is time to pay attention to the `cls` keyword. As I said it is a reference to the class itself, so when we call `cls`, it calls the `Employee` class' constructor. This saves us a lot of time and code and aligns with the DRY principle."
   ]
  },
  {
   "cell_type": "markdown",
   "metadata": {},
   "source": [
    "In short, if there are any other steps required before you feed data to the `__init__` method, just create a new class method that performs those tasks and returns a new object by finally calling `cls`. Note that `cls` is just a naming convention, it can be any other name. Also, because of scope, you can't access instance level attributes within class methods:"
   ]
  },
  {
   "cell_type": "code",
   "execution_count": 65,
   "metadata": {},
   "outputs": [],
   "source": [
    "class Employee:\n",
    "    \n",
    "    min_salary = 30000\n",
    "    min_age = 20\n",
    "    \n",
    "    def __init__(self, name):\n",
    "        self.name = name\n",
    "        \n",
    "    @classmethod\n",
    "    def from_file(cls, file_path):\n",
    "        print(self.name)"
   ]
  },
  {
   "cell_type": "code",
   "execution_count": 66,
   "metadata": {},
   "outputs": [
    {
     "ename": "NameError",
     "evalue": "name 'self' is not defined",
     "output_type": "error",
     "traceback": [
      "\u001b[1;31m---------------------------------------------------------------------------\u001b[0m",
      "\u001b[1;31mNameError\u001b[0m                                 Traceback (most recent call last)",
      "\u001b[1;32m<ipython-input-66-016e10e82cba>\u001b[0m in \u001b[0;36m<module>\u001b[1;34m\u001b[0m\n\u001b[1;32m----> 1\u001b[1;33m \u001b[0memp1\u001b[0m \u001b[1;33m=\u001b[0m \u001b[0mEmployee\u001b[0m\u001b[1;33m.\u001b[0m\u001b[0mfrom_file\u001b[0m\u001b[1;33m(\u001b[0m\u001b[1;34m'employees.txt'\u001b[0m\u001b[1;33m)\u001b[0m\u001b[1;33m\u001b[0m\u001b[1;33m\u001b[0m\u001b[0m\n\u001b[0m",
      "\u001b[1;32m<ipython-input-65-a8da1c15fa1c>\u001b[0m in \u001b[0;36mfrom_file\u001b[1;34m(cls, file_path)\u001b[0m\n\u001b[0;32m      9\u001b[0m     \u001b[1;33m@\u001b[0m\u001b[0mclassmethod\u001b[0m\u001b[1;33m\u001b[0m\u001b[1;33m\u001b[0m\u001b[0m\n\u001b[0;32m     10\u001b[0m     \u001b[1;32mdef\u001b[0m \u001b[0mfrom_file\u001b[0m\u001b[1;33m(\u001b[0m\u001b[0mcls\u001b[0m\u001b[1;33m,\u001b[0m \u001b[0mfile_path\u001b[0m\u001b[1;33m)\u001b[0m\u001b[1;33m:\u001b[0m\u001b[1;33m\u001b[0m\u001b[1;33m\u001b[0m\u001b[0m\n\u001b[1;32m---> 11\u001b[1;33m         \u001b[0mprint\u001b[0m\u001b[1;33m(\u001b[0m\u001b[0mself\u001b[0m\u001b[1;33m.\u001b[0m\u001b[0mname\u001b[0m\u001b[1;33m)\u001b[0m\u001b[1;33m\u001b[0m\u001b[1;33m\u001b[0m\u001b[0m\n\u001b[0m",
      "\u001b[1;31mNameError\u001b[0m: name 'self' is not defined"
     ]
    }
   ],
   "source": [
    "emp1 = Employee.from_file('employees.txt')"
   ]
  }
 ],
 "metadata": {
  "kernelspec": {
   "display_name": "medium_articles",
   "language": "python",
   "name": "medium_articles"
  },
  "language_info": {
   "codemirror_mode": {
    "name": "ipython",
    "version": 3
   },
   "file_extension": ".py",
   "mimetype": "text/x-python",
   "name": "python",
   "nbconvert_exporter": "python",
   "pygments_lexer": "ipython3",
   "version": "3.8.5"
  }
 },
 "nbformat": 4,
 "nbformat_minor": 4
}
