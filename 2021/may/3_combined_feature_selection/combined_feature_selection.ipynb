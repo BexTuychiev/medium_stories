{
 "cells": [
  {
   "cell_type": "markdown",
   "metadata": {},
   "source": [
    "# Bad-ass Feature Selection by Combining Multiple Models\n",
    "## Your favorite models choosing features themselves\n",
    "<img src='images/pexels.jpg'></img>\n",
    "<figcaption style=\"text-align: center;\">\n",
    "    <strong>\n",
    "        Photo by \n",
    "        <a href='https://www.pexels.com/@olly?utm_content=attributionCopyText&utm_medium=referral&utm_source=pexels'>Andrea Piacquadio</a>\n",
    "        on \n",
    "        <a href='https://www.pexels.com/photo/crop-multiracial-people-joining-hands-together-during-break-in-modern-workplace-3931562/?utm_content=attributionCopyText&utm_medium=referral&utm_source=pexels'>Pexels</a>\n",
    "    </strong>\n",
    "</figcaption>"
   ]
  },
  {
   "cell_type": "markdown",
   "metadata": {},
   "source": [
    "### Setup"
   ]
  },
  {
   "cell_type": "code",
   "execution_count": 5,
   "metadata": {},
   "outputs": [],
   "source": [
    "import time\n",
    "import warnings\n",
    "\n",
    "import matplotlib.pyplot as plt\n",
    "import numpy as np\n",
    "import pandas as pd\n",
    "import seaborn as sns\n",
    "\n",
    "warnings.filterwarnings(\"ignore\")"
   ]
  },
  {
   "cell_type": "code",
   "execution_count": 15,
   "metadata": {},
   "outputs": [
    {
     "data": {
      "text/html": [
       "<div>\n",
       "<style scoped>\n",
       "    .dataframe tbody tr th:only-of-type {\n",
       "        vertical-align: middle;\n",
       "    }\n",
       "\n",
       "    .dataframe tbody tr th {\n",
       "        vertical-align: top;\n",
       "    }\n",
       "\n",
       "    .dataframe thead th {\n",
       "        text-align: right;\n",
       "    }\n",
       "</style>\n",
       "<table border=\"1\" class=\"dataframe\">\n",
       "  <thead>\n",
       "    <tr style=\"text-align: right;\">\n",
       "      <th></th>\n",
       "      <th>total_bill</th>\n",
       "      <th>tip</th>\n",
       "      <th>sex</th>\n",
       "      <th>smoker</th>\n",
       "      <th>day</th>\n",
       "      <th>time</th>\n",
       "      <th>size</th>\n",
       "    </tr>\n",
       "  </thead>\n",
       "  <tbody>\n",
       "    <tr>\n",
       "      <th>0</th>\n",
       "      <td>16.99</td>\n",
       "      <td>1.01</td>\n",
       "      <td>Female</td>\n",
       "      <td>No</td>\n",
       "      <td>Sun</td>\n",
       "      <td>Dinner</td>\n",
       "      <td>2</td>\n",
       "    </tr>\n",
       "    <tr>\n",
       "      <th>1</th>\n",
       "      <td>10.34</td>\n",
       "      <td>1.66</td>\n",
       "      <td>Male</td>\n",
       "      <td>No</td>\n",
       "      <td>Sun</td>\n",
       "      <td>Dinner</td>\n",
       "      <td>3</td>\n",
       "    </tr>\n",
       "    <tr>\n",
       "      <th>2</th>\n",
       "      <td>21.01</td>\n",
       "      <td>3.50</td>\n",
       "      <td>Male</td>\n",
       "      <td>No</td>\n",
       "      <td>Sun</td>\n",
       "      <td>Dinner</td>\n",
       "      <td>3</td>\n",
       "    </tr>\n",
       "    <tr>\n",
       "      <th>3</th>\n",
       "      <td>23.68</td>\n",
       "      <td>3.31</td>\n",
       "      <td>Male</td>\n",
       "      <td>No</td>\n",
       "      <td>Sun</td>\n",
       "      <td>Dinner</td>\n",
       "      <td>2</td>\n",
       "    </tr>\n",
       "    <tr>\n",
       "      <th>4</th>\n",
       "      <td>24.59</td>\n",
       "      <td>3.61</td>\n",
       "      <td>Female</td>\n",
       "      <td>No</td>\n",
       "      <td>Sun</td>\n",
       "      <td>Dinner</td>\n",
       "      <td>4</td>\n",
       "    </tr>\n",
       "  </tbody>\n",
       "</table>\n",
       "</div>"
      ],
      "text/plain": [
       "   total_bill   tip     sex smoker  day    time  size\n",
       "0       16.99  1.01  Female     No  Sun  Dinner     2\n",
       "1       10.34  1.66    Male     No  Sun  Dinner     3\n",
       "2       21.01  3.50    Male     No  Sun  Dinner     3\n",
       "3       23.68  3.31    Male     No  Sun  Dinner     2\n",
       "4       24.59  3.61  Female     No  Sun  Dinner     4"
      ]
     },
     "execution_count": 15,
     "metadata": {},
     "output_type": "execute_result"
    }
   ],
   "source": [
    "tips = sns.load_dataset(\"tips\")\n",
    "tips.head()"
   ]
  },
  {
   "cell_type": "code",
   "execution_count": 49,
   "metadata": {},
   "outputs": [],
   "source": [
    "from sklearn.preprocessing import LabelEncoder\n",
    "\n",
    "X, y = tips.drop(\"total_bill\", axis=1), tips.total_bill\n",
    "for col in X.columns:\n",
    "    X[col] = LabelEncoder().fit_transform(X[col])\n",
    "\n",
    "X_train, X_test, y_train, y_test = train_test_split(\n",
    "    X, y, random_state=1121218, test_size=0.25\n",
    ")"
   ]
  },
  {
   "cell_type": "markdown",
   "metadata": {},
   "source": [
    "### Introduction"
   ]
  },
  {
   "cell_type": "markdown",
   "metadata": {},
   "source": [
    "There are many feature selection methods in Machine Learning. Each one may give different results depending on how you use them, so it is hard to entirely trust a single method. Wouldn't be cool to have multiple methods cast their own vote on whether we should keep a feature or not? It would be just like Random Forests algorithm, where it combines the predictions of multiple weak learners to form a strong one. Turns out, Sklearn has already given us the tools to make such feature selector on our own. \n",
    "\n",
    "Together, using those tools, we will build a feature selector that accepts an arbitrary number of Sklearn models. All these models will give votes on which features we should keep and we make decision by gather all the votes across models (democracy?)"
   ]
  },
  {
   "cell_type": "markdown",
   "metadata": {},
   "source": [
    "### Prerequisite Knowledge to Build the Selector: Weights and Coefficients"
   ]
  },
  {
   "cell_type": "markdown",
   "metadata": {},
   "source": [
    "Before we move on to building the selector, let's brush up on some of the topics required. Firstly, almost all Sklearn estimators that yield predictions have either `.coef_` and `.feature_importances_` attributes after being fitted to the training data. \n",
    "\n",
    "`.coef_` attribute mostly occurs in models given under `sklearn.linear_model` submodule:"
   ]
  },
  {
   "cell_type": "code",
   "execution_count": 23,
   "metadata": {},
   "outputs": [
    {
     "data": {
      "text/plain": [
       "array([ 0.104,  1.193,  2.085,  0.19 , -2.142,  3.593])"
      ]
     },
     "execution_count": 23,
     "metadata": {},
     "output_type": "execute_result"
    }
   ],
   "source": [
    "import pandas as pd\n",
    "from sklearn.linear_model import LinearRegression\n",
    "from sklearn.model_selection import train_test_split\n",
    "\n",
    "# Init, fit\n",
    "lr = LinearRegression()\n",
    "_ = lr.fit(X_train, y_train)\n",
    "\n",
    "lr.coef_"
   ]
  },
  {
   "cell_type": "markdown",
   "metadata": {},
   "source": [
    "As the name suggests, the above are *coefficients* calculated by fitting the line of best fit for Linear Regression. Other models follow a similar pattern and yield the coefficients of their internal equation:"
   ]
  },
  {
   "cell_type": "code",
   "execution_count": 25,
   "metadata": {},
   "outputs": [
    {
     "data": {
      "text/plain": [
       "array([ 0.132,  0.   ,  0.   , -0.   , -0.   ,  2.137])"
      ]
     },
     "execution_count": 25,
     "metadata": {},
     "output_type": "execute_result"
    }
   ],
   "source": [
    "from sklearn.linear_model import Lasso\n",
    "\n",
    "lasso = Lasso()\n",
    "_ = lasso.fit(X_train, y_train)\n",
    "\n",
    "lasso.coef_"
   ]
  },
  {
   "cell_type": "markdown",
   "metadata": {},
   "source": [
    "Models in `sklearn.tree` and `sklearn.ensemble` work differently and they compute the *importance* or *weight* of each feature under `.feature_importances_` attribute:"
   ]
  },
  {
   "cell_type": "code",
   "execution_count": 26,
   "metadata": {
    "tags": []
   },
   "outputs": [
    {
     "name": "stdout",
     "output_type": "stream",
     "text": [
      "[0.401 0.056 0.064 0.075 0.034 0.371]\n",
      "[0.515 0.018 0.071 0.017 0.012 0.368]\n"
     ]
    }
   ],
   "source": [
    "from sklearn.ensemble import GradientBoostingRegressor\n",
    "from sklearn.tree import DecisionTreeRegressor\n",
    "\n",
    "dt = DecisionTreeRegressor()\n",
    "gb = GradientBoostingRegressor()\n",
    "\n",
    "for model in [dt, gb]:\n",
    "    _ = model.fit(X_train, y_train)\n",
    "    print(model.feature_importances_)"
   ]
  },
  {
   "cell_type": "markdown",
   "metadata": {},
   "source": [
    "Unlike the coefficients of linear models, the weights add up to 1:"
   ]
  },
  {
   "cell_type": "code",
   "execution_count": 27,
   "metadata": {},
   "outputs": [
    {
     "data": {
      "text/plain": [
       "1.0"
      ]
     },
     "execution_count": 27,
     "metadata": {},
     "output_type": "execute_result"
    }
   ],
   "source": [
    "np.sum(dt.feature_importances_)"
   ]
  },
  {
   "cell_type": "markdown",
   "metadata": {},
   "source": [
    "Regardless of the model, the feature contributes less and less to the overall prediction as its weight or coefficient decreases. This means that we can drop features with close to 0 coefficients or weights."
   ]
  },
  {
   "cell_type": "markdown",
   "metadata": {},
   "source": [
    "### Brief Overview of RFECVhttps://towardsdatascience.com/powerful-feature-selection-with-recursive-feature-elimination-rfe-of-sklearn-23efb2cdb54e?source=your_stories_page-------------------------------------"
   ]
  },
  {
   "cell_type": "markdown",
   "metadata": {},
   "source": [
    "Recursive Feature Elimination (RFE) is a popular feature selection algorithm. It automatically finds the best number of features to keep to achieve the best performance for a given model. Below is a simple example:"
   ]
  },
  {
   "cell_type": "code",
   "execution_count": 38,
   "metadata": {},
   "outputs": [],
   "source": [
    "from sklearn.feature_selection import RFECV\n",
    "\n",
    "# Init the estimator\n",
    "rfecv = RFECV(\n",
    "    estimator=Lasso(),\n",
    "    cv=3,\n",
    "    scoring=\"r2\",\n",
    "    n_jobs=-1,\n",
    "    min_features_to_select=2,\n",
    ")\n",
    "\n",
    "# Fit\n",
    "_ = rfecv.fit(X_train, y_train)"
   ]
  },
  {
   "cell_type": "markdown",
   "metadata": {},
   "source": [
    "After fitting to the training data, it has `.support_` attribute which gives a boolean mask, with True values for the features that should be kept:"
   ]
  },
  {
   "cell_type": "code",
   "execution_count": 39,
   "metadata": {},
   "outputs": [
    {
     "data": {
      "text/plain": [
       "array([ True, False, False, False, False,  True])"
      ]
     },
     "execution_count": 39,
     "metadata": {},
     "output_type": "execute_result"
    }
   ],
   "source": [
    "rfecv.support_"
   ]
  },
  {
   "cell_type": "markdown",
   "metadata": {},
   "source": [
    "We can then use this mask to subset the original data:"
   ]
  },
  {
   "cell_type": "markdown",
   "metadata": {},
   "source": [
    "```python\n",
    "X.loc[:, rfecv.support_]\n",
    "```"
   ]
  },
  {
   "cell_type": "markdown",
   "metadata": {},
   "source": [
    "The core of our custom feature selector will be this `RFECV` class. I didn't go into detail of how it works \n",
    "but my previous article solely focused on it. I recommend reading it before continuing:\n",
    "\n",
    "https://towardsdatascience.com/powerful-feature-selection-with-recursive-feature-elimination-rfe-of-sklearn-23efb2cdb54e?source=your_stories_page-------------------------------------"
   ]
  },
  {
   "cell_type": "markdown",
   "metadata": {},
   "source": [
    "### Part I: Choosing the models"
   ]
  },
  {
   "cell_type": "markdown",
   "metadata": {},
   "source": [
    "We will be using the [Ansur Male](https://www.kaggle.com/seshadrikolluri/ansur-ii) dataset mainly because it contains many features (98 numerical) about body measurements of 6000 US Army Personnel:"
   ]
  },
  {
   "cell_type": "code",
   "execution_count": 81,
   "metadata": {},
   "outputs": [
    {
     "data": {
      "text/html": [
       "<div>\n",
       "<style scoped>\n",
       "    .dataframe tbody tr th:only-of-type {\n",
       "        vertical-align: middle;\n",
       "    }\n",
       "\n",
       "    .dataframe tbody tr th {\n",
       "        vertical-align: top;\n",
       "    }\n",
       "\n",
       "    .dataframe thead th {\n",
       "        text-align: right;\n",
       "    }\n",
       "</style>\n",
       "<table border=\"1\" class=\"dataframe\">\n",
       "  <thead>\n",
       "    <tr style=\"text-align: right;\">\n",
       "      <th></th>\n",
       "      <th>wristcircumference</th>\n",
       "      <th>wristheight</th>\n",
       "      <th>SubjectNumericRace</th>\n",
       "      <th>DODRace</th>\n",
       "      <th>Age</th>\n",
       "      <th>Heightin</th>\n",
       "      <th>Weightlbs</th>\n",
       "    </tr>\n",
       "  </thead>\n",
       "  <tbody>\n",
       "    <tr>\n",
       "      <th>0</th>\n",
       "      <td>175</td>\n",
       "      <td>853</td>\n",
       "      <td>1</td>\n",
       "      <td>1</td>\n",
       "      <td>41</td>\n",
       "      <td>71</td>\n",
       "      <td>180</td>\n",
       "    </tr>\n",
       "    <tr>\n",
       "      <th>1</th>\n",
       "      <td>167</td>\n",
       "      <td>815</td>\n",
       "      <td>1</td>\n",
       "      <td>1</td>\n",
       "      <td>35</td>\n",
       "      <td>68</td>\n",
       "      <td>160</td>\n",
       "    </tr>\n",
       "    <tr>\n",
       "      <th>2</th>\n",
       "      <td>180</td>\n",
       "      <td>831</td>\n",
       "      <td>2</td>\n",
       "      <td>2</td>\n",
       "      <td>42</td>\n",
       "      <td>68</td>\n",
       "      <td>205</td>\n",
       "    </tr>\n",
       "    <tr>\n",
       "      <th>3</th>\n",
       "      <td>176</td>\n",
       "      <td>793</td>\n",
       "      <td>1</td>\n",
       "      <td>1</td>\n",
       "      <td>31</td>\n",
       "      <td>66</td>\n",
       "      <td>175</td>\n",
       "    </tr>\n",
       "    <tr>\n",
       "      <th>4</th>\n",
       "      <td>188</td>\n",
       "      <td>954</td>\n",
       "      <td>2</td>\n",
       "      <td>2</td>\n",
       "      <td>21</td>\n",
       "      <td>77</td>\n",
       "      <td>213</td>\n",
       "    </tr>\n",
       "  </tbody>\n",
       "</table>\n",
       "</div>"
      ],
      "text/plain": [
       "   wristcircumference  wristheight  SubjectNumericRace  DODRace  Age  \\\n",
       "0                 175          853                   1        1   41   \n",
       "1                 167          815                   1        1   35   \n",
       "2                 180          831                   2        2   42   \n",
       "3                 176          793                   1        1   31   \n",
       "4                 188          954                   2        2   21   \n",
       "\n",
       "   Heightin  Weightlbs  \n",
       "0        71        180  \n",
       "1        68        160  \n",
       "2        68        205  \n",
       "3        66        175  \n",
       "4        77        213  "
      ]
     },
     "execution_count": 81,
     "metadata": {},
     "output_type": "execute_result"
    }
   ],
   "source": [
    "import pandas as pd\n",
    "\n",
    "ansur = pd.read_csv(\"data/ansur_male.csv\", encoding=\"latin\").select_dtypes(\n",
    "    include=\"number\"\n",
    ")\n",
    "ansur.iloc[:5, -7:].head()"
   ]
  },
  {
   "cell_type": "markdown",
   "metadata": {},
   "source": [
    "We will be trying to predict weight in pounds and to do that we need to reduce model complexity - i. e. create a model with as much predictive power as possible using as few features as possible. Currently, there are 98 and we will be trying to decrease that number."
   ]
  },
  {
   "cell_type": "markdown",
   "metadata": {},
   "source": [
    "Our first model will be Lasso Regressor and we will plug it into `RFECV`:"
   ]
  },
  {
   "cell_type": "code",
   "execution_count": 82,
   "metadata": {},
   "outputs": [
    {
     "data": {
      "text/plain": [
       "array([False, False, False, False, False, False, False, False, False,\n",
       "       False, False,  True, False, False, False, False, False, False,\n",
       "       False, False, False,  True, False, False, False, False, False,\n",
       "       False, False, False, False, False, False, False, False, False,\n",
       "        True, False, False, False, False, False, False, False, False,\n",
       "       False, False, False, False, False, False, False, False, False,\n",
       "       False, False, False, False, False, False, False,  True, False,\n",
       "       False, False, False, False, False,  True, False, False, False,\n",
       "       False, False, False,  True, False, False, False,  True, False,\n",
       "       False, False, False, False, False, False, False, False, False,\n",
       "       False,  True, False, False, False, False, False, False])"
      ]
     },
     "execution_count": 82,
     "metadata": {},
     "output_type": "execute_result"
    }
   ],
   "source": [
    "from sklearn.linear_model import Lasso\n",
    "\n",
    "# Feature/target arrays\n",
    "X, y = ansur.iloc[:, :-1], ansur.iloc[:, -1]\n",
    "\n",
    "# Generate train/test sets\n",
    "X_train, X_test, y_train, y_test = train_test_split(\n",
    "    X, y, random_state=1121218, test_size=0.25\n",
    ")\n",
    "\n",
    "# Init/fit\n",
    "rfecv = RFECV(\n",
    "    estimator=Lasso(), cv=5, scoring=\"r2\", min_features_to_select=1, n_jobs=-1, step=10\n",
    ")\n",
    "\n",
    "_ = rfecv.fit(X_train, y_train)\n",
    "\n",
    "lasso_mask = rfecv.support_\n",
    "lasso_mask"
   ]
  },
  {
   "cell_type": "markdown",
   "metadata": {},
   "source": [
    "We are storing the boolean mask generated from the Lasso in `lasso_mask`, and you are going to see why in a bit."
   ]
  },
  {
   "cell_type": "markdown",
   "metadata": {},
   "source": [
    "Next, we will do the same for two more models: Linear Regression and GradientBoostingRegressor:"
   ]
  },
  {
   "cell_type": "code",
   "execution_count": 83,
   "metadata": {},
   "outputs": [],
   "source": [
    "from sklearn.ensemble import GradientBoostingRegressor\n",
    "from sklearn.linear_model import LinearRegression\n",
    "\n",
    "# Gradient Boosting Regressor\n",
    "rfecv = RFECV(\n",
    "    estimator=GradientBoostingRegressor(),\n",
    "    cv=3,\n",
    "    scoring=\"r2\",\n",
    "    n_jobs=-1,\n",
    "    min_features_to_select=1,\n",
    "    step=10,\n",
    ")\n",
    "_ = rfecv.fit(X_train, y_train)\n",
    "\n",
    "gb_mask = rfecv.support_\n",
    "\n",
    "# Simple Linear Regression\n",
    "rfecv = RFECV(\n",
    "    estimator=LinearRegression(),\n",
    "    cv=3,\n",
    "    scoring=\"r2\",\n",
    "    n_jobs=-1,\n",
    "    min_features_to_select=1,\n",
    "    step=10,\n",
    ")\n",
    "_ = rfecv.fit(X_train, y_train)\n",
    "\n",
    "lr_mask = rfecv.support_"
   ]
  },
  {
   "cell_type": "markdown",
   "metadata": {},
   "source": [
    "### Part II: Combining the votes"
   ]
  },
  {
   "cell_type": "markdown",
   "metadata": {},
   "source": [
    "Now, we have the votes as boolean masks in three arrays: `lasso_mask`, `gb_mask` and `lr_mask`. Since True/False values represent 1 and 0s, we can add the three arrays:"
   ]
  },
  {
   "cell_type": "code",
   "execution_count": 84,
   "metadata": {},
   "outputs": [
    {
     "data": {
      "text/plain": [
       "array([0, 0, 0, 0, 0, 0, 0, 0, 0, 0, 0, 1, 1, 0, 0, 0, 0, 0, 0, 0, 0, 1,\n",
       "       0, 0, 0, 0, 0, 0, 0, 0, 0, 0, 0, 0, 0, 1, 2, 0, 0, 0, 0, 0, 0, 0,\n",
       "       0, 0, 0, 0, 0, 0, 0, 0, 0, 0, 0, 0, 0, 0, 0, 1, 0, 2, 0, 0, 0, 0,\n",
       "       0, 1, 1, 0, 0, 0, 0, 0, 0, 1, 0, 0, 0, 1, 0, 0, 0, 0, 0, 0, 0, 0,\n",
       "       0, 0, 0, 3, 0, 0, 0, 0, 0, 1])"
      ]
     },
     "execution_count": 84,
     "metadata": {},
     "output_type": "execute_result"
    }
   ],
   "source": [
    "votes = np.sum([lasso_mask, gb_mask, lr_mask], axis=0)\n",
    "votes"
   ]
  },
  {
   "cell_type": "markdown",
   "metadata": {},
   "source": [
    "The result will be an array with counts of how many times each feature were chosen by all models. Now, we can set a threshold of votes to finally decide whether we will keep the feature or not. This threshold depends on conservative we want to be. We can set a strict threshold where we want the feature to have been chosen by all 3 or we can choose 1 as a threshold to be safe:"
   ]
  },
  {
   "cell_type": "code",
   "execution_count": 85,
   "metadata": {},
   "outputs": [
    {
     "data": {
      "text/plain": [
       "array([False, False, False, False, False, False, False, False, False,\n",
       "       False, False,  True,  True, False, False, False, False, False,\n",
       "       False, False, False,  True, False, False, False, False, False,\n",
       "       False, False, False, False, False, False, False, False,  True,\n",
       "        True, False, False, False, False, False, False, False, False,\n",
       "       False, False, False, False, False, False, False, False, False,\n",
       "       False, False, False, False, False,  True, False,  True, False,\n",
       "       False, False, False, False,  True,  True, False, False, False,\n",
       "       False, False, False,  True, False, False, False,  True, False,\n",
       "       False, False, False, False, False, False, False, False, False,\n",
       "       False,  True, False, False, False, False, False,  True])"
      ]
     },
     "execution_count": 85,
     "metadata": {},
     "output_type": "execute_result"
    }
   ],
   "source": [
    "final_mask = votes >= 1\n",
    "final_mask"
   ]
  },
  {
   "cell_type": "markdown",
   "metadata": {},
   "source": [
    "Now, the `final_mask` is a boolean array with True values if a feature was chosen at least 1 by the 3 estimators. We can use it to subset the original data:"
   ]
  },
  {
   "cell_type": "code",
   "execution_count": 86,
   "metadata": {},
   "outputs": [
    {
     "data": {
      "text/html": [
       "<div>\n",
       "<style scoped>\n",
       "    .dataframe tbody tr th:only-of-type {\n",
       "        vertical-align: middle;\n",
       "    }\n",
       "\n",
       "    .dataframe tbody tr th {\n",
       "        vertical-align: top;\n",
       "    }\n",
       "\n",
       "    .dataframe thead th {\n",
       "        text-align: right;\n",
       "    }\n",
       "</style>\n",
       "<table border=\"1\" class=\"dataframe\">\n",
       "  <thead>\n",
       "    <tr style=\"text-align: right;\">\n",
       "      <th></th>\n",
       "      <th>bideltoidbreadth</th>\n",
       "      <th>bimalleolarbreadth</th>\n",
       "      <th>calfcircumference</th>\n",
       "      <th>footbreadthhorizontal</th>\n",
       "      <th>footlength</th>\n",
       "      <th>lateralmalleolusheight</th>\n",
       "      <th>mentonsellionlength</th>\n",
       "      <th>radialestylionlength</th>\n",
       "      <th>shouldercircumference</th>\n",
       "      <th>stature</th>\n",
       "      <th>thighclearance</th>\n",
       "      <th>weightkg</th>\n",
       "      <th>Heightin</th>\n",
       "    </tr>\n",
       "  </thead>\n",
       "  <tbody>\n",
       "    <tr>\n",
       "      <th>0</th>\n",
       "      <td>493</td>\n",
       "      <td>71</td>\n",
       "      <td>373</td>\n",
       "      <td>101</td>\n",
       "      <td>273</td>\n",
       "      <td>77</td>\n",
       "      <td>118</td>\n",
       "      <td>273</td>\n",
       "      <td>1151</td>\n",
       "      <td>1776</td>\n",
       "      <td>164</td>\n",
       "      <td>815</td>\n",
       "      <td>71</td>\n",
       "    </tr>\n",
       "    <tr>\n",
       "      <th>1</th>\n",
       "      <td>479</td>\n",
       "      <td>67</td>\n",
       "      <td>357</td>\n",
       "      <td>98</td>\n",
       "      <td>263</td>\n",
       "      <td>73</td>\n",
       "      <td>131</td>\n",
       "      <td>254</td>\n",
       "      <td>1119</td>\n",
       "      <td>1702</td>\n",
       "      <td>169</td>\n",
       "      <td>726</td>\n",
       "      <td>68</td>\n",
       "    </tr>\n",
       "    <tr>\n",
       "      <th>2</th>\n",
       "      <td>544</td>\n",
       "      <td>75</td>\n",
       "      <td>412</td>\n",
       "      <td>103</td>\n",
       "      <td>270</td>\n",
       "      <td>72</td>\n",
       "      <td>123</td>\n",
       "      <td>268</td>\n",
       "      <td>1276</td>\n",
       "      <td>1735</td>\n",
       "      <td>198</td>\n",
       "      <td>929</td>\n",
       "      <td>68</td>\n",
       "    </tr>\n",
       "    <tr>\n",
       "      <th>3</th>\n",
       "      <td>518</td>\n",
       "      <td>73</td>\n",
       "      <td>395</td>\n",
       "      <td>106</td>\n",
       "      <td>267</td>\n",
       "      <td>76</td>\n",
       "      <td>106</td>\n",
       "      <td>249</td>\n",
       "      <td>1155</td>\n",
       "      <td>1655</td>\n",
       "      <td>180</td>\n",
       "      <td>794</td>\n",
       "      <td>66</td>\n",
       "    </tr>\n",
       "    <tr>\n",
       "      <th>4</th>\n",
       "      <td>524</td>\n",
       "      <td>80</td>\n",
       "      <td>425</td>\n",
       "      <td>111</td>\n",
       "      <td>305</td>\n",
       "      <td>85</td>\n",
       "      <td>135</td>\n",
       "      <td>302</td>\n",
       "      <td>1231</td>\n",
       "      <td>1914</td>\n",
       "      <td>194</td>\n",
       "      <td>946</td>\n",
       "      <td>77</td>\n",
       "    </tr>\n",
       "    <tr>\n",
       "      <th>...</th>\n",
       "      <td>...</td>\n",
       "      <td>...</td>\n",
       "      <td>...</td>\n",
       "      <td>...</td>\n",
       "      <td>...</td>\n",
       "      <td>...</td>\n",
       "      <td>...</td>\n",
       "      <td>...</td>\n",
       "      <td>...</td>\n",
       "      <td>...</td>\n",
       "      <td>...</td>\n",
       "      <td>...</td>\n",
       "      <td>...</td>\n",
       "    </tr>\n",
       "    <tr>\n",
       "      <th>4077</th>\n",
       "      <td>457</td>\n",
       "      <td>70</td>\n",
       "      <td>345</td>\n",
       "      <td>95</td>\n",
       "      <td>255</td>\n",
       "      <td>68</td>\n",
       "      <td>123</td>\n",
       "      <td>259</td>\n",
       "      <td>1096</td>\n",
       "      <td>1688</td>\n",
       "      <td>162</td>\n",
       "      <td>675</td>\n",
       "      <td>67</td>\n",
       "    </tr>\n",
       "    <tr>\n",
       "      <th>4078</th>\n",
       "      <td>536</td>\n",
       "      <td>76</td>\n",
       "      <td>399</td>\n",
       "      <td>103</td>\n",
       "      <td>263</td>\n",
       "      <td>67</td>\n",
       "      <td>117</td>\n",
       "      <td>265</td>\n",
       "      <td>1199</td>\n",
       "      <td>1765</td>\n",
       "      <td>171</td>\n",
       "      <td>896</td>\n",
       "      <td>71</td>\n",
       "    </tr>\n",
       "    <tr>\n",
       "      <th>4079</th>\n",
       "      <td>501</td>\n",
       "      <td>74</td>\n",
       "      <td>378</td>\n",
       "      <td>101</td>\n",
       "      <td>263</td>\n",
       "      <td>71</td>\n",
       "      <td>118</td>\n",
       "      <td>257</td>\n",
       "      <td>1181</td>\n",
       "      <td>1690</td>\n",
       "      <td>178</td>\n",
       "      <td>832</td>\n",
       "      <td>67</td>\n",
       "    </tr>\n",
       "    <tr>\n",
       "      <th>4080</th>\n",
       "      <td>493</td>\n",
       "      <td>75</td>\n",
       "      <td>389</td>\n",
       "      <td>98</td>\n",
       "      <td>266</td>\n",
       "      <td>70</td>\n",
       "      <td>123</td>\n",
       "      <td>254</td>\n",
       "      <td>1162</td>\n",
       "      <td>1718</td>\n",
       "      <td>170</td>\n",
       "      <td>731</td>\n",
       "      <td>69</td>\n",
       "    </tr>\n",
       "    <tr>\n",
       "      <th>4081</th>\n",
       "      <td>531</td>\n",
       "      <td>81</td>\n",
       "      <td>396</td>\n",
       "      <td>111</td>\n",
       "      <td>295</td>\n",
       "      <td>70</td>\n",
       "      <td>136</td>\n",
       "      <td>295</td>\n",
       "      <td>1231</td>\n",
       "      <td>1828</td>\n",
       "      <td>196</td>\n",
       "      <td>985</td>\n",
       "      <td>73</td>\n",
       "    </tr>\n",
       "  </tbody>\n",
       "</table>\n",
       "<p>4082 rows × 13 columns</p>\n",
       "</div>"
      ],
      "text/plain": [
       "      bideltoidbreadth  bimalleolarbreadth  calfcircumference  \\\n",
       "0                  493                  71                373   \n",
       "1                  479                  67                357   \n",
       "2                  544                  75                412   \n",
       "3                  518                  73                395   \n",
       "4                  524                  80                425   \n",
       "...                ...                 ...                ...   \n",
       "4077               457                  70                345   \n",
       "4078               536                  76                399   \n",
       "4079               501                  74                378   \n",
       "4080               493                  75                389   \n",
       "4081               531                  81                396   \n",
       "\n",
       "      footbreadthhorizontal  footlength  lateralmalleolusheight  \\\n",
       "0                       101         273                      77   \n",
       "1                        98         263                      73   \n",
       "2                       103         270                      72   \n",
       "3                       106         267                      76   \n",
       "4                       111         305                      85   \n",
       "...                     ...         ...                     ...   \n",
       "4077                     95         255                      68   \n",
       "4078                    103         263                      67   \n",
       "4079                    101         263                      71   \n",
       "4080                     98         266                      70   \n",
       "4081                    111         295                      70   \n",
       "\n",
       "      mentonsellionlength  radialestylionlength  shouldercircumference  \\\n",
       "0                     118                   273                   1151   \n",
       "1                     131                   254                   1119   \n",
       "2                     123                   268                   1276   \n",
       "3                     106                   249                   1155   \n",
       "4                     135                   302                   1231   \n",
       "...                   ...                   ...                    ...   \n",
       "4077                  123                   259                   1096   \n",
       "4078                  117                   265                   1199   \n",
       "4079                  118                   257                   1181   \n",
       "4080                  123                   254                   1162   \n",
       "4081                  136                   295                   1231   \n",
       "\n",
       "      stature  thighclearance  weightkg  Heightin  \n",
       "0        1776             164       815        71  \n",
       "1        1702             169       726        68  \n",
       "2        1735             198       929        68  \n",
       "3        1655             180       794        66  \n",
       "4        1914             194       946        77  \n",
       "...       ...             ...       ...       ...  \n",
       "4077     1688             162       675        67  \n",
       "4078     1765             171       896        71  \n",
       "4079     1690             178       832        67  \n",
       "4080     1718             170       731        69  \n",
       "4081     1828             196       985        73  \n",
       "\n",
       "[4082 rows x 13 columns]"
      ]
     },
     "execution_count": 86,
     "metadata": {},
     "output_type": "execute_result"
    }
   ],
   "source": [
    "X.loc[:, final_mask]"
   ]
  }
 ],
 "metadata": {
  "kernelspec": {
   "display_name": "medium_articles",
   "language": "python",
   "name": "medium_articles"
  },
  "language_info": {
   "codemirror_mode": {
    "name": "ipython",
    "version": 3
   },
   "file_extension": ".py",
   "mimetype": "text/x-python",
   "name": "python",
   "nbconvert_exporter": "python",
   "pygments_lexer": "ipython3",
   "version": "3.8.5"
  }
 },
 "nbformat": 4,
 "nbformat_minor": 4
}
