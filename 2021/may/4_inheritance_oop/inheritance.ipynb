{
 "cells": [
  {
   "cell_type": "markdown",
   "metadata": {},
   "source": [
    "# How to Use Existing Code All Around the World With Python Inheritance\n",
    "## You don't have to write all the code yourself\n",
    "<img src='images/pixabay.jpg'></img>\n",
    "<figcaption style=\"text-align: center;\">\n",
    "    <strong>\n",
    "        Photo by \n",
    "        <a href='https://pixabay.com/users/qimono-1962238/?utm_source=link-attribution&utm_medium=referral&utm_campaign=image&utm_content=2500333'>Arek Socha</a>\n",
    "        on \n",
    "        <a href='https://pixabay.com/?utm_source=link-attribution&utm_medium=referral&utm_campaign=image&utm_content=2500333'>Pixabay</a>\n",
    "    </strong>\n",
    "</figcaption>"
   ]
  },
  {
   "cell_type": "markdown",
   "metadata": {
    "tags": []
   },
   "source": [
    "Whatever you are coding, chances are someone already did something similar. Instead of reinventing the wheel, you can just customize someone else's code to suit your needs. After all, that's the whole point of open-source community. This vast pool of code written by millions of people is available at your fingertips if you know just one programming concept - **inheritance**.\n",
    "\n",
    "Inheritance is a must for any object-oriented programming language and Python is no exception. Inheritance allows you to reuse the code others had written and tweak it to your needs. You are required a knowledge of [OOP fundamentals](https://towardsdev.com/intro-to-object-oriented-programming-for-data-scientists-9308e6b726a2?source=your_stories_page-------------------------------------) and you are all set to learn this crucial pillar of OOP paradigm. "
   ]
  },
  {
   "cell_type": "markdown",
   "metadata": {},
   "source": [
    "In this article, you will learn all about this powerful concept and how to use it in your own programming workflow."
   ]
  },
  {
   "cell_type": "markdown",
   "metadata": {},
   "source": [
    "### Intro to Inheritance"
   ]
  },
  {
   "cell_type": "markdown",
   "metadata": {
    "tags": []
   },
   "source": [
    "The concept of inheritance is super straightforward - when one class inherits from another, it copies all the functionality of that class. It is an \"all or nothing\" deal. Once you inherit from some class, you will be able to use the available methods and attributes and modify any one of them to suit your needs. \n",
    "\n",
    "Creating a class that inherits from another is done as follows:\n",
    "\n",
    "```python\n",
    "class ChildClass(ParentClass):\n",
    "    ## DO STUFF HERE\n",
    "    ...\n",
    "```"
   ]
  },
  {
   "cell_type": "markdown",
   "metadata": {},
   "source": [
    "As simple as that. The class you are inheriting from is often called *parent class*, *super class* or *base class*. There are also a few names for the class that inherits from another - *child class*, *subclass*, etc.\n",
    "\n",
    "Simply add parentheses and write the name of the class you are inheriting from. Here, we will define a base Vehicle class and another that inherits from it:"
   ]
  },
  {
   "cell_type": "code",
   "execution_count": 102,
   "metadata": {},
   "outputs": [],
   "source": [
    "class Vehicle:\n",
    "    def __init__(self, year, mpg, tank, mileage):\n",
    "        self.year = year\n",
    "        self.tank = tank\n",
    "        self.mpg = mpg\n",
    "        self.mileage = mileage\n",
    "\n",
    "    def drive(self, n_miles):\n",
    "        self.tank = self.tank - n_miles / self.mpg\n",
    "        self.mileage += n_miles\n",
    "        \n",
    "        return self.tank, self.mileage\n",
    "\n",
    "class Car(Vehicle):\n",
    "    pass"
   ]
  },
  {
   "cell_type": "markdown",
   "metadata": {},
   "source": [
    "Looking at the Car class, you would think it would be empty. But it is the exact opposite, Car class now contains as much functionality as its base Vehicle class:"
   ]
  },
  {
   "cell_type": "code",
   "execution_count": 81,
   "metadata": {
    "tags": []
   },
   "outputs": [
    {
     "name": "stdout",
     "output_type": "stream",
     "text": [
      "This sedan was built in 2020. It has 10 gallons in tank. Its mileage is at 1000\n",
      "Drove for 50 miles. Mileage is currently at 1050 miles. 9.11 gallons remaining.\n"
     ]
    }
   ],
   "source": [
    "sedan = Car(2020, mpg=56, tank=10, mileage=1000)\n",
    "print(\n",
    "    f\"This sedan was built in {sedan.year}. It has {sedan.tank} gallons in tank. \"\n",
    "    f\"Its mileage is at {sedan.mileage}\"\n",
    ")\n",
    "tank, mileage = sedan.drive(50)\n",
    "print(f\"Drove for 50 miles. Mileage is currently at {mileage} miles. {round(tank, 2)} gallons remaining.\")"
   ]
  },
  {
   "cell_type": "markdown",
   "metadata": {},
   "source": [
    "As you can see, child has as much data as the parent class. Even though we did not define a constructor for the Car class, we can define an instance. We can use the `drive` method as well. "
   ]
  },
  {
   "cell_type": "code",
   "execution_count": 82,
   "metadata": {},
   "outputs": [
    {
     "data": {
      "text/plain": [
       "__main__.Car"
      ]
     },
     "execution_count": 82,
     "metadata": {},
     "output_type": "execute_result"
    }
   ],
   "source": [
    "type(sedan)"
   ]
  },
  {
   "cell_type": "markdown",
   "metadata": {},
   "source": [
    "Even though Car class is seemingly empty, inheritance allowed us to \"copy\" these features. In OOP terms, this relationship between parent and child class is called an \"is-a\" relationship.\n",
    "\n",
    "So, `Car` *is a* `Vehicle`, just with some extra features once we add them. You can even check it using `isinstance()` function:"
   ]
  },
  {
   "cell_type": "code",
   "execution_count": 83,
   "metadata": {},
   "outputs": [
    {
     "data": {
      "text/plain": [
       "True"
      ]
     },
     "execution_count": 83,
     "metadata": {},
     "output_type": "execute_result"
    }
   ],
   "source": [
    "isinstance(sedan, Vehicle)"
   ]
  },
  {
   "cell_type": "code",
   "execution_count": 84,
   "metadata": {},
   "outputs": [
    {
     "data": {
      "text/plain": [
       "True"
      ]
     },
     "execution_count": 84,
     "metadata": {},
     "output_type": "execute_result"
    }
   ],
   "source": [
    "isinstance(sedan, Car)"
   ]
  },
  {
   "cell_type": "markdown",
   "metadata": {},
   "source": [
    "So, sedan object is an instance of both Vehicle and Car classes. However, this \"is-a\" relationship is one-sided - i.e., all cars are vehicles but not all vehicles are cars:"
   ]
  },
  {
   "cell_type": "code",
   "execution_count": 85,
   "metadata": {},
   "outputs": [
    {
     "data": {
      "text/plain": [
       "True"
      ]
     },
     "execution_count": 85,
     "metadata": {},
     "output_type": "execute_result"
    }
   ],
   "source": [
    "simple_vehicle = Vehicle(2020, 60, 15, 1e7)  # Generic Vehicle object\n",
    "isinstance(simple_vehicle, Vehicle)"
   ]
  },
  {
   "cell_type": "code",
   "execution_count": 86,
   "metadata": {},
   "outputs": [
    {
     "data": {
      "text/plain": [
       "False"
      ]
     },
     "execution_count": 86,
     "metadata": {},
     "output_type": "execute_result"
    }
   ],
   "source": [
    "isinstance(simple_vehicle, Car)"
   ]
  },
  {
   "cell_type": "markdown",
   "metadata": {},
   "source": [
    "Pay attention to the above outputs!"
   ]
  },
  {
   "cell_type": "markdown",
   "metadata": {},
   "source": [
    "So, this is the basics of inheritance. Right now, our child class does not have any extra functionality. We will be adding some and customizing existing ones in the next sections."
   ]
  },
  {
   "cell_type": "markdown",
   "metadata": {},
   "source": [
    "### Customizing Constructors"
   ]
  },
  {
   "cell_type": "markdown",
   "metadata": {},
   "source": [
    "Right now, Car class is no different than the parent Vehicle class.\n",
    "\n",
    "When initializing an instance of the Car class, we also want to include new attributes like the model of the car and its color:"
   ]
  },
  {
   "cell_type": "code",
   "execution_count": 87,
   "metadata": {},
   "outputs": [],
   "source": [
    "class Car(Vehicle):\n",
    "    def __init__(self, year, mpg, tank, mileage, model, color):\n",
    "        self.year = year\n",
    "        self.tank = tank\n",
    "        self.mpg = mpg\n",
    "        self.mileage = mileage\n",
    "        # NEW ATTRIBUTES\n",
    "        self.color = color\n",
    "        self.model = model"
   ]
  },
  {
   "cell_type": "markdown",
   "metadata": {},
   "source": [
    "Now, we can initialize Cars with new attributes:"
   ]
  },
  {
   "cell_type": "code",
   "execution_count": 88,
   "metadata": {},
   "outputs": [
    {
     "data": {
      "text/plain": [
       "'black'"
      ]
     },
     "execution_count": 88,
     "metadata": {},
     "output_type": "execute_result"
    }
   ],
   "source": [
    "jaguar = Car(2015, 23, 10, 1000, 'Jaguar', 'black')\n",
    "jaguar.color"
   ]
  },
  {
   "cell_type": "markdown",
   "metadata": {},
   "source": [
    "Notice how we had to rewrite the initialization of year, mpg, tank and mileage attributes. Inheritance should be about writing less code and code reuse. That's why there is a shorthand method to initializing the attributes of the base class:"
   ]
  },
  {
   "cell_type": "code",
   "execution_count": 89,
   "metadata": {
    "tags": []
   },
   "outputs": [],
   "source": [
    "class Car(Vehicle):\n",
    "    def __init__(self, year, mpg, tank, mileage, model, color):\n",
    "        # Iinitialize the attributes of the parent class\n",
    "        Vehicle.__init__(self, year, mpg, tank, mileage)\n",
    "        # New attributes here\n",
    "        self.color = color\n",
    "        self.model = model"
   ]
  },
  {
   "cell_type": "code",
   "execution_count": 90,
   "metadata": {},
   "outputs": [
    {
     "name": "stdout",
     "output_type": "stream",
     "text": [
      "2015\n",
      "23\n",
      "Jaguar\n"
     ]
    }
   ],
   "source": [
    "jaguar = Car(2015, 23, 10, 1000, 'Jaguar', 'black')\n",
    "print(jaguar.year)\n",
    "print(jaguar.mpg)\n",
    "print(jaguar.model)"
   ]
  },
  {
   "cell_type": "markdown",
   "metadata": {},
   "source": [
    "Using the `ParentClass.__init__(self, args)` syntax (pay attention to the `self` keyword), we get to reinitialize the parent attributes in a single line. Note that it does not have to be the first line in the constructor of the inherited class, it can come anywhere in the constructor. "
   ]
  },
  {
   "cell_type": "markdown",
   "metadata": {},
   "source": [
    "### Adding New Functionality"
   ]
  },
  {
   "cell_type": "markdown",
   "metadata": {},
   "source": [
    "We saw how we can add new attributes to the subclass. Adding new methods can be done in the usual way. These new methods will have the advantage of using both the parent's and child's attributes and methods:"
   ]
  },
  {
   "cell_type": "code",
   "execution_count": 91,
   "metadata": {
    "tags": []
   },
   "outputs": [],
   "source": [
    "class Car(Vehicle):\n",
    "    def __init__(self, year, mpg, tank, mileage, model, color):\n",
    "        Vehicle.__init__(self, year, mpg, tank, mileage)\n",
    "        self.color = color\n",
    "        self.model = model\n",
    "    \n",
    "    def is_old(self):\n",
    "        if self.year <= 2010:\n",
    "            return True\n",
    "        else: return False"
   ]
  },
  {
   "cell_type": "markdown",
   "metadata": {},
   "source": [
    "Using the `self` keyword, `is_old` has access to all the methods and attributes of both Car and Vehicle classes:"
   ]
  },
  {
   "cell_type": "code",
   "execution_count": 92,
   "metadata": {
    "tags": []
   },
   "outputs": [
    {
     "data": {
      "text/plain": [
       "True"
      ]
     },
     "execution_count": 92,
     "metadata": {},
     "output_type": "execute_result"
    }
   ],
   "source": [
    "car = Car(2004, 15, 5, 750000, 'Toyota', 'white')\n",
    "car.is_old()"
   ]
  },
  {
   "cell_type": "markdown",
   "metadata": {},
   "source": [
    "### Customizing Functionality via Inheritance"
   ]
  },
  {
   "cell_type": "markdown",
   "metadata": {},
   "source": [
    "Adding new functionality or importing existing ones was easy. The tricky part is customizing existing methods to change their behavior. \n",
    "\n",
    "For example, let's say we want to create a new Airplane class inherited from the vehicle class. Obviously, we have to change the `drive` function to flying. The underlying code is the same, airplanes also have MPG fuel efficiency and a fuel tank. "
   ]
  },
  {
   "cell_type": "code",
   "execution_count": 151,
   "metadata": {
    "tags": []
   },
   "outputs": [],
   "source": [
    "class Airplane(Vehicle):\n",
    "    \n",
    "    def __init__(self, mpg, tank, mileage, n_passengers):\n",
    "        self.mpg = mpg\n",
    "        self.tank = tank\n",
    "        self.mileage = mileage\n",
    "        self.n_passengers = n_passengers\n",
    "    \n",
    "    def fly(self, n_miles):\n",
    "        return Vehicle.drive(self, n_miles * self.n_passengers)"
   ]
  },
  {
   "cell_type": "code",
   "execution_count": 157,
   "metadata": {
    "tags": []
   },
   "outputs": [
    {
     "name": "stdout",
     "output_type": "stream",
     "text": [
      "Flew for 500 miles. 1539.22 gallons remaining in tank.\n"
     ]
    }
   ],
   "source": [
    "boeing = Airplane(51, 3500, 2e7, 200)\n",
    "tank, mileage = boeing.fly(500)\n",
    "print(f\"Flew for 500 miles. \"\n",
    "      f\"{round(tank, 2)} gallons remaining in tank.\")"
   ]
  },
  {
   "cell_type": "markdown",
   "metadata": {},
   "source": [
    "The only difference is that MPG of airplanes are calculated for each passenger on the plane. So, in the `fly` method, we have to calculate `n_piles` by the number of passengers attribute which we added in the new constructor. \n",
    "\n",
    "The important thing is how we are calling the `drive` function from the Vehicle class. Just like we call the `__init__` function in the constructor, the functions of the base class are called using the `ParentClass.method(self, args)` syntax (again, pay attention to the `self` keyword). We basically called the same lines of code in the `fly` method but wrapping it under a new method allowed us to control the argument we are passing. "
   ]
  },
  {
   "cell_type": "markdown",
   "metadata": {},
   "source": [
    "We went from a basic vehicle class that has a `drive` method to a flying airplane. "
   ]
  },
  {
   "cell_type": "markdown",
   "metadata": {},
   "source": [
    "Customizing functions is only a matter of your programming prowess after you are familiar with the syntax. The more skilled you are at pure Python the more you will be able to utilize inheritance with elegance."
   ]
  }
 ],
 "metadata": {
  "kernelspec": {
   "display_name": "medium_articles",
   "language": "python",
   "name": "medium_articles"
  },
  "language_info": {
   "codemirror_mode": {
    "name": "ipython",
    "version": 3
   },
   "file_extension": ".py",
   "mimetype": "text/x-python",
   "name": "python",
   "nbconvert_exporter": "python",
   "pygments_lexer": "ipython3",
   "version": "3.8.5"
  }
 },
 "nbformat": 4,
 "nbformat_minor": 4
}
