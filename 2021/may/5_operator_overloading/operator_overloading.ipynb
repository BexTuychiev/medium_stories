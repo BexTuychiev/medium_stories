{
 "cells": [
  {
   "cell_type": "markdown",
   "metadata": {},
   "source": [
    "# Operator Overloading in Python OOP, Fun Tutorial\n",
    "## Integrate you classes into Standard Python\n",
    "<img src='images/pixabay.jpg'></img>\n",
    "<figcaption style=\"text-align: center;\">\n",
    "    <strong>\n",
    "        Photo by \n",
    "        <a href='https://pixabay.com/users/kiquebg-5133331/?utm_source=link-attribution&utm_medium=referral&utm_campaign=image&utm_content=4256272'>kiquebg</a>\n",
    "        on \n",
    "        <a href='https://pixabay.com/?utm_source=link-attribution&utm_medium=referral&utm_campaign=image&utm_content=4256272'>Pixabay</a>\n",
    "    </strong>\n",
    "</figcaption>"
   ]
  },
  {
   "cell_type": "markdown",
   "metadata": {},
   "source": [
    "You can change the functionality of an operator to suit your custom classes needs. In this tutorial, you will learn about a powerful concept of Object-oriented programming: *Operator Overloading* in Python."
   ]
  },
  {
   "cell_type": "markdown",
   "metadata": {},
   "source": [
    "### Introduction"
   ]
  },
  {
   "cell_type": "markdown",
   "metadata": {},
   "source": [
    "There are close to 40 operators in Python. Each has a unique function and they all work with the built-ins of native Python. However, you might have noticed that there are more flexible ones such as '+' (plus), '\\*' (asterisk), or '\\[\\]' (brackets) operators. Depending on what type of data structure you use them on, they behave differently:"
   ]
  },
  {
   "cell_type": "code",
   "execution_count": 12,
   "metadata": {},
   "outputs": [
    {
     "data": {
      "text/plain": [
       "9"
      ]
     },
     "execution_count": 12,
     "metadata": {},
     "output_type": "execute_result"
    }
   ],
   "source": [
    "4 + 5  # addition"
   ]
  },
  {
   "cell_type": "code",
   "execution_count": 13,
   "metadata": {},
   "outputs": [
    {
     "data": {
      "text/plain": [
       "['list1', 'list2']"
      ]
     },
     "execution_count": 13,
     "metadata": {},
     "output_type": "execute_result"
    }
   ],
   "source": [
    "[\"list1\"] + [\"list2\"]  # Adding two lists"
   ]
  },
  {
   "cell_type": "code",
   "execution_count": 14,
   "metadata": {},
   "outputs": [
    {
     "data": {
      "text/plain": [
       "20"
      ]
     },
     "execution_count": 14,
     "metadata": {},
     "output_type": "execute_result"
    }
   ],
   "source": [
    "4 * 5  # multiplication"
   ]
  },
  {
   "cell_type": "code",
   "execution_count": 15,
   "metadata": {},
   "outputs": [
    {
     "data": {
      "text/plain": [
       "[1, 1, 1, 1, 1]"
      ]
     },
     "execution_count": 15,
     "metadata": {},
     "output_type": "execute_result"
    }
   ],
   "source": [
    "[1] * 5  # mulitplying lists"
   ]
  },
  {
   "cell_type": "code",
   "execution_count": 17,
   "metadata": {},
   "outputs": [
    {
     "data": {
      "text/plain": [
       "3"
      ]
     },
     "execution_count": 17,
     "metadata": {},
     "output_type": "execute_result"
    }
   ],
   "source": [
    "[1, 2, 3, 4, 5][2]  # slicing and creating lists"
   ]
  },
  {
   "cell_type": "markdown",
   "metadata": {},
   "source": [
    "These are examples with the built-in types. But there are also custom packages that use these operators differently:"
   ]
  },
  {
   "cell_type": "code",
   "execution_count": 18,
   "metadata": {},
   "outputs": [
    {
     "data": {
      "text/plain": [
       "array([5, 6, 7, 8, 9])"
      ]
     },
     "execution_count": 18,
     "metadata": {},
     "output_type": "execute_result"
    }
   ],
   "source": [
    "import numpy as np\n",
    "\n",
    "array = np.array([1, 2, 3, 4, 5])\n",
    "\n",
    "array + 4"
   ]
  },
  {
   "cell_type": "code",
   "execution_count": 20,
   "metadata": {},
   "outputs": [
    {
     "data": {
      "text/plain": [
       "array([ 2,  4,  6,  8, 10])"
      ]
     },
     "execution_count": 20,
     "metadata": {},
     "output_type": "execute_result"
    }
   ],
   "source": [
    "array + array"
   ]
  },
  {
   "cell_type": "code",
   "execution_count": 21,
   "metadata": {},
   "outputs": [
    {
     "data": {
      "text/plain": [
       "array([ 5, 10, 15, 20, 25])"
      ]
     },
     "execution_count": 21,
     "metadata": {},
     "output_type": "execute_result"
    }
   ],
   "source": [
    "array * 5"
   ]
  },
  {
   "cell_type": "markdown",
   "metadata": {},
   "source": [
    "Numpy's `ndarray`s seems to work different. Adding two arrays does it element-wise, instead of creating a longer array. \n",
    "\n",
    "This example of operators behaving differently for various classes is called *operator overloading*. So, how do we achieve this for custom classes? Let's say we are creating our own number class:"
   ]
  },
  {
   "cell_type": "code",
   "execution_count": 29,
   "metadata": {},
   "outputs": [
    {
     "ename": "TypeError",
     "evalue": "unsupported operand type(s) for +: 'Number' and 'Number'",
     "output_type": "error",
     "traceback": [
      "\u001b[1;31m---------------------------------------------------------------------------\u001b[0m",
      "\u001b[1;31mTypeError\u001b[0m                                 Traceback (most recent call last)",
      "\u001b[1;32m<ipython-input-29-7b99fec5b849>\u001b[0m in \u001b[0;36m<module>\u001b[1;34m\u001b[0m\n\u001b[0;32m      7\u001b[0m \u001b[0mnum2\u001b[0m \u001b[1;33m=\u001b[0m \u001b[0mNumber\u001b[0m\u001b[1;33m(\u001b[0m\u001b[1;36m6\u001b[0m\u001b[1;33m)\u001b[0m\u001b[1;33m\u001b[0m\u001b[1;33m\u001b[0m\u001b[0m\n\u001b[0;32m      8\u001b[0m \u001b[1;33m\u001b[0m\u001b[0m\n\u001b[1;32m----> 9\u001b[1;33m \u001b[0mnum1\u001b[0m \u001b[1;33m+\u001b[0m \u001b[0mnum2\u001b[0m\u001b[1;33m\u001b[0m\u001b[1;33m\u001b[0m\u001b[0m\n\u001b[0m",
      "\u001b[1;31mTypeError\u001b[0m: unsupported operand type(s) for +: 'Number' and 'Number'"
     ]
    }
   ],
   "source": [
    "class Number:\n",
    "    def __init__(self, num):\n",
    "        self.num = num\n",
    "\n",
    "\n",
    "num1 = Number(5)\n",
    "num2 = Number(6)\n",
    "\n",
    "num1 + num2"
   ]
  },
  {
   "cell_type": "markdown",
   "metadata": {},
   "source": [
    "When we tried to add the two numbers (which is the most basic operation on numbers), we got a TypeError. We cannot even multiply them:"
   ]
  },
  {
   "cell_type": "code",
   "execution_count": 30,
   "metadata": {},
   "outputs": [
    {
     "ename": "TypeError",
     "evalue": "unsupported operand type(s) for *: 'Number' and 'Number'",
     "output_type": "error",
     "traceback": [
      "\u001b[1;31m---------------------------------------------------------------------------\u001b[0m",
      "\u001b[1;31mTypeError\u001b[0m                                 Traceback (most recent call last)",
      "\u001b[1;32m<ipython-input-30-f04ed5e1f566>\u001b[0m in \u001b[0;36m<module>\u001b[1;34m\u001b[0m\n\u001b[1;32m----> 1\u001b[1;33m \u001b[0mnum1\u001b[0m \u001b[1;33m*\u001b[0m \u001b[0mnum2\u001b[0m\u001b[1;33m\u001b[0m\u001b[1;33m\u001b[0m\u001b[0m\n\u001b[0m",
      "\u001b[1;31mTypeError\u001b[0m: unsupported operand type(s) for *: 'Number' and 'Number'"
     ]
    }
   ],
   "source": [
    "num1 * num2"
   ]
  },
  {
   "cell_type": "markdown",
   "metadata": {},
   "source": [
    "Learning Operator Overloading will help us fix these type of errors."
   ]
  },
  {
   "cell_type": "markdown",
   "metadata": {},
   "source": [
    "### What powers operators under the hood: built-in special functions"
   ]
  },
  {
   "cell_type": "markdown",
   "metadata": {},
   "source": [
    "Each operator has a built-in function that is being called every time we use them. These special functions have a naming convention which you have already seen. One example is the `__init__` function of constructions which is called every time we initialize an object. Here are the special functions for the most common operators:"
   ]
  },
  {
   "cell_type": "code",
   "execution_count": 35,
   "metadata": {},
   "outputs": [
    {
     "data": {
      "text/plain": [
       "4"
      ]
     },
     "execution_count": 35,
     "metadata": {},
     "output_type": "execute_result"
    }
   ],
   "source": [
    "ml = [1, 2, 3, 4]\n",
    "ml.__len__()  # len() function"
   ]
  },
  {
   "cell_type": "code",
   "execution_count": 36,
   "metadata": {},
   "outputs": [
    {
     "data": {
      "text/plain": [
       "4"
      ]
     },
     "execution_count": 36,
     "metadata": {},
     "output_type": "execute_result"
    }
   ],
   "source": [
    "ml.__getitem__(3)  # slicing with []"
   ]
  },
  {
   "cell_type": "code",
   "execution_count": 38,
   "metadata": {},
   "outputs": [
    {
     "data": {
      "text/plain": [
       "[1, 2, 3, 4, 5, 6, 7]"
      ]
     },
     "execution_count": 38,
     "metadata": {},
     "output_type": "execute_result"
    }
   ],
   "source": [
    "ml.__add__([5, 6, 7])  # adding lists with + operator"
   ]
  },
  {
   "cell_type": "markdown",
   "metadata": {},
   "source": [
    "You can get all the available special functions of an object using `dir()`:"
   ]
  },
  {
   "cell_type": "code",
   "execution_count": 39,
   "metadata": {},
   "outputs": [
    {
     "data": {
      "text/plain": [
       "['__add__',\n",
       " '__class__',\n",
       " '__contains__',\n",
       " '__delattr__',\n",
       " '__delitem__',\n",
       " '__dir__',\n",
       " '__doc__',\n",
       " '__eq__',\n",
       " '__format__',\n",
       " '__ge__',\n",
       " '__getattribute__',\n",
       " '__getitem__',\n",
       " '__gt__',\n",
       " '__hash__',\n",
       " '__iadd__',\n",
       " '__imul__',\n",
       " '__init__',\n",
       " '__init_subclass__',\n",
       " '__iter__',\n",
       " '__le__',\n",
       " '__len__',\n",
       " '__lt__',\n",
       " '__mul__',\n",
       " '__ne__',\n",
       " '__new__',\n",
       " '__reduce__',\n",
       " '__reduce_ex__',\n",
       " '__repr__',\n",
       " '__reversed__',\n",
       " '__rmul__',\n",
       " '__setattr__',\n",
       " '__setitem__',\n",
       " '__sizeof__',\n",
       " '__str__',\n",
       " '__subclasshook__',\n",
       " 'append',\n",
       " 'clear',\n",
       " 'copy',\n",
       " 'count',\n",
       " 'extend',\n",
       " 'index',\n",
       " 'insert',\n",
       " 'pop',\n",
       " 'remove',\n",
       " 'reverse',\n",
       " 'sort']"
      ]
     },
     "execution_count": 39,
     "metadata": {},
     "output_type": "execute_result"
    }
   ],
   "source": [
    "dir(ml)"
   ]
  },
  {
   "cell_type": "markdown",
   "metadata": {},
   "source": [
    "So, special functions start and end with double-underscore. Every single operator, \\*, /, -, +, >, <, >=, <=, +=, etc has its own special function that gets fired whenever we use them. And the cool thing is we can always change their behavior with Operator Overloading when writing custom classes. You can find the exhaustive list of operators [here](https://docs.python.org/3/library/operator.html)."
   ]
  },
  {
   "cell_type": "markdown",
   "metadata": {},
   "source": [
    "In the coming sections, we will modify some of the operators for a custom class that implements vectors. "
   ]
  },
  {
   "cell_type": "markdown",
   "metadata": {},
   "source": [
    "### Operator Overloading: String Representation"
   ]
  },
  {
   "cell_type": "markdown",
   "metadata": {},
   "source": [
    "We will be learning operator overloading by expanding on this simple Vector class:"
   ]
  },
  {
   "cell_type": "code",
   "execution_count": 40,
   "metadata": {},
   "outputs": [],
   "source": [
    "class Vector:\n",
    "    def __init__(self, components: list):\n",
    "        self.components = components"
   ]
  },
  {
   "cell_type": "markdown",
   "metadata": {},
   "source": [
    "The first two operators we will be modifying is related to string representation:"
   ]
  },
  {
   "cell_type": "code",
   "execution_count": 41,
   "metadata": {},
   "outputs": [
    {
     "name": "stdout",
     "output_type": "stream",
     "text": [
      "<__main__.Vector object at 0x0000021D69F51220>\n"
     ]
    }
   ],
   "source": [
    "v1 = Vector([3, 6])\n",
    "print(v1)"
   ]
  },
  {
   "cell_type": "markdown",
   "metadata": {},
   "source": [
    "Printing the vector object `v1` gives its location in memory (more on that later). This information would be useless for the end user. So, it would be better if the `print` function provided a more informative output. If you notice, there are many classes which give useful printouts:"
   ]
  },
  {
   "cell_type": "code",
   "execution_count": 42,
   "metadata": {},
   "outputs": [
    {
     "name": "stdout",
     "output_type": "stream",
     "text": [
      "[3 5 2 6]\n"
     ]
    }
   ],
   "source": [
    "array = np.array([3, 5, 2, 6])\n",
    "print(array)"
   ]
  },
  {
   "cell_type": "markdown",
   "metadata": {},
   "source": [
    "Calling `print` on a Numpy array shows its data, not its memory representation. Imitating Numpy arrays, we also want our vector objects to print out their contents when called `print`. In other words, we want to change their string representation. \n",
    "\n",
    "There are two ways we can accomplish this using Python: using `__str__` and `__repr__` functions. Let's start with `__str__`. This function gets fired under the hood whenever `print` is called. Defining a new `__str__` function in our Vector class overrides its behavior:"
   ]
  },
  {
   "cell_type": "code",
   "execution_count": 64,
   "metadata": {},
   "outputs": [],
   "source": [
    "class Vector:\n",
    "    def __init__(self, components: list):\n",
    "        self.components = components\n",
    "\n",
    "    def __str__(self):\n",
    "        custom_string = \"I am a vector!\"\n",
    "        return custom_string"
   ]
  },
  {
   "cell_type": "code",
   "execution_count": 65,
   "metadata": {},
   "outputs": [
    {
     "name": "stdout",
     "output_type": "stream",
     "text": [
      "I am a vector!\n"
     ]
    }
   ],
   "source": [
    "v1 = Vector([1, 2, 3])\n",
    "print(v1)"
   ]
  },
  {
   "cell_type": "markdown",
   "metadata": {},
   "source": [
    "Using `__str__`, we can return any custom text. Below, I will make the function print the vector in a vertical, proper representation:"
   ]
  },
  {
   "cell_type": "code",
   "execution_count": 79,
   "metadata": {},
   "outputs": [],
   "source": [
    "class Vector:\n",
    "    def __init__(self, components: list):\n",
    "        self.components = components\n",
    "\n",
    "    def __str__(self):\n",
    "        if len(self.components) == 2:\n",
    "            custom_string = \"[ {}\\n  {} ]\".format(\n",
    "                self.components[0], self.components[1]\n",
    "            )\n",
    "        elif len(self.components) == 3:\n",
    "            custom_string = \"[ {}\\n  {}\\n  {} ]\".format(\n",
    "                self.components[0], self.components[1], self.components[2]\n",
    "            )\n",
    "        elif len(self.components) == 4:\n",
    "            custom_string = \"[ {}\\n  {}\\n  {}\\n  {} ]\".format(\n",
    "                self.components[0],\n",
    "                self.components[1],\n",
    "                self.components[2],\n",
    "                self.components[3],\n",
    "            )\n",
    "        else:\n",
    "            custom_string = \"[  {}\\n   {}\\n  ...\\n   {} ]\".format(\n",
    "                self.components[0], self.components[1], self.components[-1]\n",
    "            )\n",
    "        return custom_string"
   ]
  },
  {
   "cell_type": "code",
   "execution_count": 67,
   "metadata": {},
   "outputs": [
    {
     "name": "stdout",
     "output_type": "stream",
     "text": [
      "[ 1\n",
      "  2\n",
      "  3 ]\n"
     ]
    }
   ],
   "source": [
    "v1 = Vector([1, 2, 3])\n",
    "print(v1)"
   ]
  },
  {
   "cell_type": "code",
   "execution_count": 69,
   "metadata": {},
   "outputs": [
    {
     "name": "stdout",
     "output_type": "stream",
     "text": [
      "[  3\n",
      "   5\n",
      "  ...\n",
      "   5 ]\n"
     ]
    }
   ],
   "source": [
    "v2 = Vector([3, 5, 5, 2, 5])\n",
    "print(v2)"
   ]
  },
  {
   "cell_type": "markdown",
   "metadata": {},
   "source": [
    "You can also change the string representation using `__repr__`. This function gets fired whenever we display objects in interactive session or in a Jupyter Notebook. The output of `__repr__` is usually a bit different from `__str__`. The main difference is that `__str__` should give information about the object while `__repr__` should show exactly how the object was initialized:"
   ]
  },
  {
   "cell_type": "code",
   "execution_count": 82,
   "metadata": {},
   "outputs": [],
   "source": [
    "class Vector:\n",
    "    def __init__(self, components: list):\n",
    "        self.components = components\n",
    "\n",
    "    def __str__(self):\n",
    "        ...\n",
    "\n",
    "    def __repr__(self):\n",
    "        return f\"Vector({str(self.components)})\""
   ]
  },
  {
   "cell_type": "code",
   "execution_count": 76,
   "metadata": {},
   "outputs": [
    {
     "data": {
      "text/plain": [
       "Vector([1, 2, 3, 4])"
      ]
     },
     "execution_count": 76,
     "metadata": {},
     "output_type": "execute_result"
    }
   ],
   "source": [
    "v1 = Vector([1, 2, 3, 4])\n",
    "v1"
   ]
  },
  {
   "cell_type": "markdown",
   "metadata": {},
   "source": [
    "Users should be able to reinitialize your object in this way using `repr`:"
   ]
  },
  {
   "cell_type": "code",
   "execution_count": 83,
   "metadata": {},
   "outputs": [
    {
     "data": {
      "text/plain": [
       "Vector([1, 2, 3, 4])"
      ]
     },
     "execution_count": 83,
     "metadata": {},
     "output_type": "execute_result"
    }
   ],
   "source": [
    "v1_clone = eval(repr(v1))  # repr() is an identical cousin of __repr__\n",
    "v1_clone"
   ]
  },
  {
   "cell_type": "markdown",
   "metadata": {},
   "source": [
    "Adding custom string representations is the first step towards a more user-friendly class design."
   ]
  },
  {
   "cell_type": "markdown",
   "metadata": {},
   "source": [
    "### Operator Overloading: Comparison"
   ]
  },
  {
   "cell_type": "markdown",
   "metadata": {
    "tags": []
   },
   "source": [
    "Say we have a simple Student class:"
   ]
  },
  {
   "cell_type": "code",
   "execution_count": 85,
   "metadata": {},
   "outputs": [
    {
     "data": {
      "text/plain": [
       "False"
      ]
     },
     "execution_count": 85,
     "metadata": {},
     "output_type": "execute_result"
    }
   ],
   "source": [
    "class Student:\n",
    "    def __init__(self, name):\n",
    "        self.name = name\n",
    "\n",
    "\n",
    "s1 = Student(\"Barry Smith\")\n",
    "s2 = Student(\"Barry Smith\")\n",
    "\n",
    "s1 == s2"
   ]
  },
  {
   "cell_type": "markdown",
   "metadata": {},
   "source": [
    "When checking if two students with the same name are the same, we get False. In this case, it might make sense because there can be multiple students with the same name. However, what if each student had a unique ID:"
   ]
  },
  {
   "cell_type": "code",
   "execution_count": 86,
   "metadata": {},
   "outputs": [
    {
     "data": {
      "text/plain": [
       "False"
      ]
     },
     "execution_count": 86,
     "metadata": {},
     "output_type": "execute_result"
    }
   ],
   "source": [
    "class Student:\n",
    "    def __init__(self, name, student_id):\n",
    "        self.name = name\n",
    "        self.student_id = student_id\n",
    "\n",
    "\n",
    "s1 = Student(\"Barry Smith\", 121)\n",
    "s2 = Student(\"Barry Smith\", 121)\n",
    "\n",
    "s1 == s2"
   ]
  },
  {
   "cell_type": "markdown",
   "metadata": {},
   "source": [
    "Obviously, two students with the same name and ID should be the same person but Python still treats them differently. Recall that printing an object returned its memory location"
   ]
  },
  {
   "cell_type": "code",
   "execution_count": 87,
   "metadata": {},
   "outputs": [
    {
     "name": "stdout",
     "output_type": "stream",
     "text": [
      "<__main__.Student object at 0x0000021D6A172B20>\n"
     ]
    }
   ],
   "source": [
    "print(s1)"
   ]
  },
  {
   "cell_type": "code",
   "execution_count": 88,
   "metadata": {},
   "outputs": [
    {
     "name": "stdout",
     "output_type": "stream",
     "text": [
      "<__main__.Student object at 0x0000021D6A172190>\n"
     ]
    }
   ],
   "source": [
    "print(s2)"
   ]
  },
  {
   "cell_type": "markdown",
   "metadata": {},
   "source": [
    "As you can see, even though the data is the same for the two objects, their memory locations are different. And when comparing objects to each other Python compares their locations in memory. But some modules like Numpy compares arrays based on their data:"
   ]
  },
  {
   "cell_type": "code",
   "execution_count": 90,
   "metadata": {},
   "outputs": [
    {
     "name": "stdout",
     "output_type": "stream",
     "text": [
      "[ True  True  True]\n"
     ]
    }
   ],
   "source": [
    "array1 = np.array([3, 6, 8])\n",
    "array2 = np.array([3, 6, 8])\n",
    "\n",
    "print(array1 == array2)"
   ]
  },
  {
   "cell_type": "markdown",
   "metadata": {},
   "source": [
    "So, it would also make sense to compare the objects of our Vector class based on *their* data. To accomplish this, we will use the special function of '==' equality operator called `__eq__()`. It accepts two arguments - `self` and `other`. Just like `self` was the reference to the current object, `other` is a reference to the other object that we are comparing:"
   ]
  },
  {
   "cell_type": "code",
   "execution_count": 127,
   "metadata": {},
   "outputs": [],
   "source": [
    "class Vector:\n",
    "    def __init__(self, components: list):\n",
    "        self.components = components\n",
    "\n",
    "    ...\n",
    "\n",
    "    def __eq__(self, other):\n",
    "        return all([c1 == c2 for c1, c2 in zip(self.components, other.components)])"
   ]
  },
  {
   "cell_type": "code",
   "execution_count": 128,
   "metadata": {},
   "outputs": [
    {
     "data": {
      "text/plain": [
       "True"
      ]
     },
     "execution_count": 128,
     "metadata": {},
     "output_type": "execute_result"
    }
   ],
   "source": [
    "v1 = Vector([2, 3, 4])\n",
    "v2 = Vector([2, 3, 4])\n",
    "\n",
    "v1 == v2"
   ]
  },
  {
   "cell_type": "code",
   "execution_count": 129,
   "metadata": {},
   "outputs": [
    {
     "data": {
      "text/plain": [
       "False"
      ]
     },
     "execution_count": 129,
     "metadata": {},
     "output_type": "execute_result"
    }
   ],
   "source": [
    "v3 = Vector([4, 5, 6, 6])\n",
    "v4 = Vector([1, 4, 5, 8])\n",
    "\n",
    "v3 == v4"
   ]
  },
  {
   "cell_type": "markdown",
   "metadata": {},
   "source": [
    "We modified the `__eq__` method to return True if all components of the Vectors are equal."
   ]
  },
  {
   "cell_type": "markdown",
   "metadata": {},
   "source": [
    "There are also special functions for other comparison operators: `__lt__(a, b)` is equivalent to a < b, `__le(a, b)__` is equivalent to a <= b, etc. Again, refer to this [link](https://docs.python.org/3/library/operator.html) for the full list."
   ]
  },
  {
   "cell_type": "markdown",
   "metadata": {},
   "source": [
    "### Operator Overloading: Arithmetic Operations"
   ]
  },
  {
   "cell_type": "markdown",
   "metadata": {},
   "source": [
    "It is time to define some of the common vector operations such as vector magnitude, multiplication, addition/subtraction. Let's start with vector magnitude. Since vector magnitude is also called the absolute value of a vector, it will be cool to overload `abs()` function to calculate this. Its special function is `__abs__()`:"
   ]
  },
  {
   "cell_type": "code",
   "execution_count": 136,
   "metadata": {},
   "outputs": [],
   "source": [
    "import math\n",
    "\n",
    "\n",
    "class Vector:\n",
    "    def __init__(self, components: list):\n",
    "        self.components = components\n",
    "\n",
    "    ...\n",
    "\n",
    "    def __abs__(self):\n",
    "        return math.sqrt(sum([c ** 2 for c in self.components]))"
   ]
  },
  {
   "cell_type": "code",
   "execution_count": 137,
   "metadata": {},
   "outputs": [
    {
     "data": {
      "text/plain": [
       "5.385164807134504"
      ]
     },
     "execution_count": 137,
     "metadata": {},
     "output_type": "execute_result"
    }
   ],
   "source": [
    "v = Vector([2, 3, 4])\n",
    "abs(v)"
   ]
  },
  {
   "cell_type": "markdown",
   "metadata": {},
   "source": [
    "Next, let's add two vectors together (component-wise) when we use '+' operator. Its special function is `__add__`:"
   ]
  },
  {
   "cell_type": "code",
   "execution_count": 141,
   "metadata": {},
   "outputs": [],
   "source": [
    "class Vector:\n",
    "    def __init__(self, components: list):\n",
    "        self.components = components\n",
    "\n",
    "    ...\n",
    "\n",
    "    def __repr__(self):\n",
    "        return f\"Vector({str(self.components)})\"\n",
    "\n",
    "    def __add__(self, other):\n",
    "        result = [c1 + c2 for c1, c2 in zip(self.components, other.components)]\n",
    "\n",
    "        return self.__class__(result)"
   ]
  },
  {
   "cell_type": "code",
   "execution_count": 142,
   "metadata": {
    "tags": []
   },
   "outputs": [
    {
     "data": {
      "text/plain": [
       "Vector([3, 5, 8, 10])"
      ]
     },
     "execution_count": 142,
     "metadata": {},
     "output_type": "execute_result"
    }
   ],
   "source": [
    "v1 = Vector([1, 2, 3, 4])\n",
    "v2 = Vector([2, 3, 5, 6])\n",
    "\n",
    "v1 + v2"
   ]
  },
  {
   "cell_type": "markdown",
   "metadata": {},
   "source": [
    "Pay attention to the `return` statement. We can access the class with itself using the `__class__` attribute and call its constructor."
   ]
  },
  {
   "cell_type": "markdown",
   "metadata": {},
   "source": [
    "Now, let's extend this addition to adding scalars to vectors:"
   ]
  },
  {
   "cell_type": "code",
   "execution_count": 156,
   "metadata": {},
   "outputs": [],
   "source": [
    "class Vector:\n",
    "    def __init__(self, components: list):\n",
    "        self.components = components\n",
    "\n",
    "    ...\n",
    "\n",
    "    def __repr__(self):\n",
    "        return f\"Vector({str(self.components)})\"\n",
    "\n",
    "    def __add__(self, other):\n",
    "        if isinstance(other, int) or isinstance(other, float):\n",
    "            result = [other + c for c in self.components]\n",
    "        else:\n",
    "            result = [c1 + c2 for c1, c2 in zip(self.components, other.components)]\n",
    "\n",
    "        return self.__class__(result)"
   ]
  },
  {
   "cell_type": "code",
   "execution_count": 159,
   "metadata": {},
   "outputs": [
    {
     "data": {
      "text/plain": [
       "Vector([5, 6, 7, 8])"
      ]
     },
     "execution_count": 159,
     "metadata": {},
     "output_type": "execute_result"
    }
   ],
   "source": [
    "v1 = Vector([1, 2, 3, 4])\n",
    "v2 = Vector([2, 3, 5, 6])\n",
    "\n",
    "v1 + 4"
   ]
  },
  {
   "cell_type": "code",
   "execution_count": 160,
   "metadata": {},
   "outputs": [
    {
     "data": {
      "text/plain": [
       "Vector([3, 5, 8, 10])"
      ]
     },
     "execution_count": 160,
     "metadata": {},
     "output_type": "execute_result"
    }
   ],
   "source": [
    "v1 + v2"
   ]
  },
  {
   "cell_type": "markdown",
   "metadata": {},
   "source": [
    "Next would be multiplying vectors by scalars but that is easy enough to do yourself. \n",
    "\n",
    "Instead, we will finally see how to compute the dot product of two vectors. Python has a special operator '@' for matrix operations which we can overload:"
   ]
  },
  {
   "cell_type": "code",
   "execution_count": 175,
   "metadata": {},
   "outputs": [],
   "source": [
    "class Vector:\n",
    "    def __init__(self, components: list):\n",
    "        self.components = components\n",
    "\n",
    "    ...\n",
    "\n",
    "    def __repr__(self):\n",
    "        return f\"Vector({str(self.components)})\"\n",
    "\n",
    "    def __matmul__(self, other):\n",
    "        result = [c1 * c2 for c1, c2 in zip(self.components, other.components)]\n",
    "        return sum(result)"
   ]
  },
  {
   "cell_type": "code",
   "execution_count": 176,
   "metadata": {},
   "outputs": [
    {
     "data": {
      "text/plain": [
       "23"
      ]
     },
     "execution_count": 176,
     "metadata": {},
     "output_type": "execute_result"
    }
   ],
   "source": [
    "v1 = Vector([1, 2, 3])\n",
    "v2 = Vector([2, 3, 5])\n",
    "\n",
    "v1 @ v2"
   ]
  },
  {
   "cell_type": "markdown",
   "metadata": {},
   "source": [
    "Now, our Vector class is almost as function as real vectors!"
   ]
  },
  {
   "cell_type": "markdown",
   "metadata": {},
   "source": [
    "### Summary"
   ]
  },
  {
   "cell_type": "markdown",
   "metadata": {},
   "source": [
    "If you have been learning and using OOP for a time, you may have noticed a pattern: OOP concepts are super easy to understand, it is the actual programming part that is hard. Anyone could have understood today's topic, but being able to implement them in code speaks a lot about your programming skills. OOP is all about skill!\n",
    "\n",
    "In this tutorial, you have added a powerful technique to your arsenal: Operator Overloading. Using this method you can harness the behavior of Python built-in operators while writing classes. For more information on the topic, I suggest these sources:\n",
    "\n",
    "- [Operator and Function Overloading in Custom Python Classes @ Real Python](https://realpython.com/operator-function-overloading/)\n",
    "- [Python Data Model, Official Documentation](https://docs.python.org/3/reference/datamodel.html#special-method-names)\n",
    "- [Operator Overloading by Programiz](https://www.programiz.com/python-programming/operator-overloading)"
   ]
  },
  {
   "cell_type": "markdown",
   "metadata": {},
   "source": [
    "### Further Reading on OOP\n",
    "- [Differentiating Between Class and Instance-level Data in Python Object-oriented-programming (OOP)](https://codecrunch.org/differentiating-between-class-and-instance-level-data-in-python-object-oriented-programming-oop-e2141a23739e?source=your_stories_page-------------------------------------)\n",
    "- [Python Inheritance: How to Use Existing Code All Around the World](https://towardsdev.com/python-inheritance-how-to-use-existing-code-all-around-the-world-bb43a6d8c71?source=your_stories_page-------------------------------------)"
   ]
  }
 ],
 "metadata": {
  "kernelspec": {
   "display_name": "medium_articles",
   "language": "python",
   "name": "medium_articles"
  },
  "language_info": {
   "codemirror_mode": {
    "name": "ipython",
    "version": 3
   },
   "file_extension": ".py",
   "mimetype": "text/x-python",
   "name": "python",
   "nbconvert_exporter": "python",
   "pygments_lexer": "ipython3",
   "version": "3.8.5"
  }
 },
 "nbformat": 4,
 "nbformat_minor": 4
}
