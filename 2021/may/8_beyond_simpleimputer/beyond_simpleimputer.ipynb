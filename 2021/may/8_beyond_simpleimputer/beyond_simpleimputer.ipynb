{
 "cells": [
  {
   "cell_type": "markdown",
   "metadata": {},
   "source": [
    "# Going Beyond the SimpleImputer() For Missing Data Imputation\n",
    "## Learn to leverage model-based imputation\n",
    "![](./images/unsplash.jpg)\n",
    "<figcaption style=\"text-align: center;\">\n",
    "    <strong>\n",
    "        Photo by \n",
    "        <a href='https://unsplash.com/@alxznder?utm_source=unsplash&utm_medium=referral&utm_content=creditCopyText'>Alexander Lam</a>\n",
    "        on \n",
    "        <a href='https://unsplash.com/s/photos/missing?utm_source=unsplash&utm_medium=referral&utm_content=creditCopyText'>Unsplash</a>\n",
    "    </strong>\n",
    "</figcaption>"
   ]
  },
  {
   "cell_type": "markdown",
   "metadata": {},
   "source": [
    "### Introduction"
   ]
  },
  {
   "cell_type": "markdown",
   "metadata": {},
   "source": [
    "Despite the massive number of MOOCs and other online resources, there are still skill gaps in terms of dealing with certain data problems. One example is properly dealing with missing data in real-world datasets. Beginner learners might take this problem lightly and they are not to blame. Even though it is such a pressing issue, the complexity of data massingness problems has been greatly underestimated because of the availability of small, easy-to-work-with toy datasets. \n",
    "\n",
    "As a result, many beginner data scientists don't go beyond the simple techniques such as mean, median or mode imputation. Though these methods may suffice for simple datasets, they are in no way a competent solution to handling missing data with large datasets.\n",
    "\n",
    "Like any other stage of data science workflow, missing data imputation is an iterative process. You should be able to use multiple methods and compare their results effectively. While the basic methods may end up performing well, it is rarely the case and you have to have a few backup strategies. \n",
    "\n",
    "This tutorial will introduce two more robust model-based imputation algorithms native to Sklearn - KNNImputer and IterativeImputer. Whereas for missing values in time-series data, you will learn about various interpolation techniques. Finally, we will see how to compare the results of different imputation techniques visually."
   ]
  }
 ],
 "metadata": {
  "kernelspec": {
   "display_name": "medium_articles",
   "language": "python",
   "name": "medium_articles"
  },
  "language_info": {
   "codemirror_mode": {
    "name": "ipython",
    "version": 3
   },
   "file_extension": ".py",
   "mimetype": "text/x-python",
   "name": "python",
   "nbconvert_exporter": "python",
   "pygments_lexer": "ipython3",
   "version": "3.8.5"
  }
 },
 "nbformat": 4,
 "nbformat_minor": 4
}
