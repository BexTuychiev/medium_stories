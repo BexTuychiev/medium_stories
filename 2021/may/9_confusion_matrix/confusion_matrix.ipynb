{
 "cells": [
  {
   "cell_type": "markdown",
   "metadata": {},
   "source": [
    "# How to Tune Models like a Puppet-master Based on Confusion Matrix\n",
    "## Learn to control model output based on what's important to the problem using a confusion matrix\n",
    "\n",
    "![](./images/pixabay.jpg)\n",
    "<figcaption style=\"text-align: center;\">\n",
    "    <strong>\n",
    "        Photo by \n",
    "        <a href='https://pixabay.com/users/tskirde-3014515/?utm_source=link-attribution&utm_medium=referral&utm_campaign=image&utm_content=1594638'>Thomas Skirde</a>\n",
    "        on \n",
    "        <a href='https://pixabay.com/?utm_source=link-attribution&utm_medium=referral&utm_campaign=image&utm_content=1594638'>Pixabay</a>\n",
    "    </strong>\n",
    "</figcaption>"
   ]
  },
  {
   "cell_type": "markdown",
   "metadata": {},
   "source": [
    "### Introduction  TODO"
   ]
  },
  {
   "cell_type": "markdown",
   "metadata": {
    "tags": []
   },
   "source": [
    "Classification is a huge part of machine learning. Its benefits and applications are endless - ranging from detecting new asteroids and planets to identifying cancerous cells are all done using classification algorithms. \n",
    "\n",
    "The type of the problems classification solves is divided into two: unsupervised and supervised. Unsupervised models are called neural networks and they can be trained on unstructured data such as video, audio and images. In contrast, supervised models work with labeled, tabular data and is part of classic machine learning. The focus of this article is the latter, particularly, we will be exploring what all supervised classification problems have in common: *confusion matrices*."
   ]
  },
  {
   "cell_type": "code",
   "execution_count": null,
   "metadata": {},
   "outputs": [],
   "source": []
  }
 ],
 "metadata": {
  "kernelspec": {
   "display_name": "medium_articles",
   "language": "python",
   "name": "medium_articles"
  },
  "language_info": {
   "codemirror_mode": {
    "name": "ipython",
    "version": 3
   },
   "file_extension": ".py",
   "mimetype": "text/x-python",
   "name": "python",
   "nbconvert_exporter": "python",
   "pygments_lexer": "ipython3",
   "version": "3.8.5"
  }
 },
 "nbformat": 4,
 "nbformat_minor": 4
}
