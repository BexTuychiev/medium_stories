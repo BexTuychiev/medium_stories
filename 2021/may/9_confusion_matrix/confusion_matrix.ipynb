{
 "cells": [
  {
   "cell_type": "markdown",
   "metadata": {},
   "source": [
    "# How to Tune Models like a Puppet-master Based on Confusion Matrix\n",
    "## Learn to control model output based on what's important to the problem using a confusion matrix\n",
    "\n",
    "![](./images/pixabay.jpg)\n",
    "<figcaption style=\"text-align: center;\">\n",
    "    <strong>\n",
    "        Photo by \n",
    "        <a href='https://pixabay.com/users/tskirde-3014515/?utm_source=link-attribution&utm_medium=referral&utm_campaign=image&utm_content=1594638'>Thomas Skirde</a>\n",
    "        on \n",
    "        <a href='https://pixabay.com/?utm_source=link-attribution&utm_medium=referral&utm_campaign=image&utm_content=1594638'>Pixabay</a>\n",
    "    </strong>\n",
    "</figcaption>"
   ]
  },
  {
   "cell_type": "markdown",
   "metadata": {},
   "source": [
    "### Setup"
   ]
  },
  {
   "cell_type": "code",
   "execution_count": 344,
   "metadata": {},
   "outputs": [],
   "source": [
    "import warnings\n",
    "\n",
    "import matplotlib.pyplot as plt\n",
    "import numpy as np\n",
    "import pandas as pd\n",
    "import seaborn as sns\n",
    "from matplotlib import rcParams\n",
    "\n",
    "rcParams[\"axes.spines.top\"] = False\n",
    "rcParams[\"axes.spines.right\"] = False\n",
    "rcParams[\"figure.figsize\"] = [12, 9]\n",
    "rcParams[\"xtick.labelsize\"] = 15\n",
    "rcParams[\"ytick.labelsize\"] = 15\n",
    "rcParams[\"font.size\"] = 15\n",
    "warnings.filterwarnings(\"ignore\")"
   ]
  },
  {
   "cell_type": "markdown",
   "metadata": {},
   "source": [
    "### Introduction"
   ]
  },
  {
   "cell_type": "markdown",
   "metadata": {
    "tags": []
   },
   "source": [
    "Classification is a huge part of machine learning. Its benefits and applications are endless - ranging from detecting new asteroids and planets to identifying cancerous cells are all done using classification algorithms. \n",
    "\n",
    "The type of the problems classification solves is divided into two: unsupervised and supervised. Unsupervised models are called neural networks and they can be trained on unstructured data such as video, audio and images. In contrast, supervised models work with labeled, tabular data and is part of classic machine learning. The focus of this article is the latter, particularly, we will be exploring what all supervised classification problems have in common: *confusion matrices*."
   ]
  },
  {
   "cell_type": "markdown",
   "metadata": {},
   "source": [
    "### Developing a Classification Preprocessing Pipeline"
   ]
  },
  {
   "cell_type": "markdown",
   "metadata": {},
   "source": [
    "A good model needs good data. So, it is important to process the available information as much as possible to achieve best model performance even before tuning it based on confusion matrices. \n",
    "\n",
    "A typical preprocessing workflow includes dealing with missing values, scaling/normalizing numeric features, encoding categorical variables and do all other feature engineering steps required. We will see an example of this in this section.\n",
    "\n",
    "We will be predicting credit card approvals using the [Credit Card Approval Dataset](http://archive.ics.uci.edu/ml/datasets/credit+approval) from UCI Machine Learning Repository. Before banks can issue credit cards to new customers, there are many factors to consider: income levels, loan balances, individual's credit report, etc. This is often a difficult and mundane task, so nowadays banks use ML algorithms. Let's take a peek at the data:"
   ]
  },
  {
   "cell_type": "code",
   "execution_count": 357,
   "metadata": {},
   "outputs": [
    {
     "data": {
      "text/html": [
       "<div>\n",
       "<style scoped>\n",
       "    .dataframe tbody tr th:only-of-type {\n",
       "        vertical-align: middle;\n",
       "    }\n",
       "\n",
       "    .dataframe tbody tr th {\n",
       "        vertical-align: top;\n",
       "    }\n",
       "\n",
       "    .dataframe thead th {\n",
       "        text-align: right;\n",
       "    }\n",
       "</style>\n",
       "<table border=\"1\" class=\"dataframe\">\n",
       "  <thead>\n",
       "    <tr style=\"text-align: right;\">\n",
       "      <th></th>\n",
       "      <th>0</th>\n",
       "      <th>1</th>\n",
       "      <th>2</th>\n",
       "      <th>3</th>\n",
       "      <th>4</th>\n",
       "      <th>5</th>\n",
       "      <th>6</th>\n",
       "      <th>7</th>\n",
       "      <th>8</th>\n",
       "      <th>9</th>\n",
       "      <th>10</th>\n",
       "      <th>11</th>\n",
       "      <th>12</th>\n",
       "      <th>13</th>\n",
       "      <th>14</th>\n",
       "      <th>15</th>\n",
       "    </tr>\n",
       "  </thead>\n",
       "  <tbody>\n",
       "    <tr>\n",
       "      <th>0</th>\n",
       "      <td>b</td>\n",
       "      <td>30.83</td>\n",
       "      <td>0.000</td>\n",
       "      <td>u</td>\n",
       "      <td>g</td>\n",
       "      <td>w</td>\n",
       "      <td>v</td>\n",
       "      <td>1.25</td>\n",
       "      <td>t</td>\n",
       "      <td>t</td>\n",
       "      <td>1</td>\n",
       "      <td>f</td>\n",
       "      <td>g</td>\n",
       "      <td>00202</td>\n",
       "      <td>0</td>\n",
       "      <td>+</td>\n",
       "    </tr>\n",
       "    <tr>\n",
       "      <th>1</th>\n",
       "      <td>a</td>\n",
       "      <td>58.67</td>\n",
       "      <td>4.460</td>\n",
       "      <td>u</td>\n",
       "      <td>g</td>\n",
       "      <td>q</td>\n",
       "      <td>h</td>\n",
       "      <td>3.04</td>\n",
       "      <td>t</td>\n",
       "      <td>t</td>\n",
       "      <td>6</td>\n",
       "      <td>f</td>\n",
       "      <td>g</td>\n",
       "      <td>00043</td>\n",
       "      <td>560</td>\n",
       "      <td>+</td>\n",
       "    </tr>\n",
       "    <tr>\n",
       "      <th>2</th>\n",
       "      <td>a</td>\n",
       "      <td>24.50</td>\n",
       "      <td>0.500</td>\n",
       "      <td>u</td>\n",
       "      <td>g</td>\n",
       "      <td>q</td>\n",
       "      <td>h</td>\n",
       "      <td>1.50</td>\n",
       "      <td>t</td>\n",
       "      <td>f</td>\n",
       "      <td>0</td>\n",
       "      <td>f</td>\n",
       "      <td>g</td>\n",
       "      <td>00280</td>\n",
       "      <td>824</td>\n",
       "      <td>+</td>\n",
       "    </tr>\n",
       "    <tr>\n",
       "      <th>3</th>\n",
       "      <td>b</td>\n",
       "      <td>27.83</td>\n",
       "      <td>1.540</td>\n",
       "      <td>u</td>\n",
       "      <td>g</td>\n",
       "      <td>w</td>\n",
       "      <td>v</td>\n",
       "      <td>3.75</td>\n",
       "      <td>t</td>\n",
       "      <td>t</td>\n",
       "      <td>5</td>\n",
       "      <td>t</td>\n",
       "      <td>g</td>\n",
       "      <td>00100</td>\n",
       "      <td>3</td>\n",
       "      <td>+</td>\n",
       "    </tr>\n",
       "    <tr>\n",
       "      <th>4</th>\n",
       "      <td>b</td>\n",
       "      <td>20.17</td>\n",
       "      <td>5.625</td>\n",
       "      <td>u</td>\n",
       "      <td>g</td>\n",
       "      <td>w</td>\n",
       "      <td>v</td>\n",
       "      <td>1.71</td>\n",
       "      <td>t</td>\n",
       "      <td>f</td>\n",
       "      <td>0</td>\n",
       "      <td>f</td>\n",
       "      <td>s</td>\n",
       "      <td>00120</td>\n",
       "      <td>0</td>\n",
       "      <td>+</td>\n",
       "    </tr>\n",
       "  </tbody>\n",
       "</table>\n",
       "</div>"
      ],
      "text/plain": [
       "  0      1      2  3  4  5  6     7  8  9   10 11 12     13   14 15\n",
       "0  b  30.83  0.000  u  g  w  v  1.25  t  t   1  f  g  00202    0  +\n",
       "1  a  58.67  4.460  u  g  q  h  3.04  t  t   6  f  g  00043  560  +\n",
       "2  a  24.50  0.500  u  g  q  h  1.50  t  f   0  f  g  00280  824  +\n",
       "3  b  27.83  1.540  u  g  w  v  3.75  t  t   5  t  g  00100    3  +\n",
       "4  b  20.17  5.625  u  g  w  v  1.71  t  f   0  f  s  00120    0  +"
      ]
     },
     "execution_count": 357,
     "metadata": {},
     "output_type": "execute_result"
    }
   ],
   "source": [
    "import pandas as pd\n",
    "\n",
    "df = pd.read_csv(\"data/cc_approvals.data\", header=None)\n",
    "df.head()"
   ]
  },
  {
   "cell_type": "markdown",
   "metadata": {},
   "source": [
    "Since it is private data, the feature names are left blank. Let's fix that first:"
   ]
  },
  {
   "cell_type": "code",
   "execution_count": 358,
   "metadata": {},
   "outputs": [
    {
     "name": "stdout",
     "output_type": "stream",
     "text": [
      "<class 'pandas.core.frame.DataFrame'>\n",
      "RangeIndex: 690 entries, 0 to 689\n",
      "Data columns (total 16 columns):\n",
      " #   Column      Non-Null Count  Dtype  \n",
      "---  ------      --------------  -----  \n",
      " 0   feature_0   690 non-null    object \n",
      " 1   feature_1   690 non-null    object \n",
      " 2   feature_2   690 non-null    float64\n",
      " 3   feature_3   690 non-null    object \n",
      " 4   feature_4   690 non-null    object \n",
      " 5   feature_5   690 non-null    object \n",
      " 6   feature_6   690 non-null    object \n",
      " 7   feature_7   690 non-null    float64\n",
      " 8   feature_8   690 non-null    object \n",
      " 9   feature_9   690 non-null    object \n",
      " 10  feature_10  690 non-null    int64  \n",
      " 11  feature_11  690 non-null    object \n",
      " 12  feature_12  690 non-null    object \n",
      " 13  feature_13  690 non-null    object \n",
      " 14  feature_14  690 non-null    int64  \n",
      " 15  feature_15  690 non-null    object \n",
      "dtypes: float64(2), int64(2), object(12)\n",
      "memory usage: 86.4+ KB\n"
     ]
    }
   ],
   "source": [
    "df.columns = [\"feature_\" + str(col) for col in df.columns]\n",
    "df.info()"
   ]
  },
  {
   "cell_type": "markdown",
   "metadata": {},
   "source": [
    "The dataset contains both numeric and categorical features. The missing values in this dataset are encoded with question marks (?). We will replace them with `NaN`s:"
   ]
  },
  {
   "cell_type": "code",
   "execution_count": 359,
   "metadata": {},
   "outputs": [
    {
     "data": {
      "text/plain": [
       "feature_0     12\n",
       "feature_1     12\n",
       "feature_2      0\n",
       "feature_3      6\n",
       "feature_4      6\n",
       "feature_5      9\n",
       "feature_6      9\n",
       "feature_7      0\n",
       "feature_8      0\n",
       "feature_9      0\n",
       "feature_10     0\n",
       "feature_11     0\n",
       "feature_12     0\n",
       "feature_13    13\n",
       "feature_14     0\n",
       "feature_15     0\n",
       "dtype: int64"
      ]
     },
     "execution_count": 359,
     "metadata": {},
     "output_type": "execute_result"
    }
   ],
   "source": [
    "import numpy as np\n",
    "\n",
    "df = df.replace(\"?\", np.nan).copy()\n",
    "\n",
    "df.isnull().sum()"
   ]
  },
  {
   "cell_type": "markdown",
   "metadata": {},
   "source": [
    "Features 0, 1, 3, 4, 5, 6 and 13 contain missing values. Inspecting the data, we may guess that feature 13 contains zipcodes, so we can drop it. And for others, since they make up less than the 5% of the dataset, we can drop those rows:"
   ]
  },
  {
   "cell_type": "code",
   "execution_count": 360,
   "metadata": {},
   "outputs": [
    {
     "data": {
      "text/plain": [
       "(659, 15)"
      ]
     },
     "execution_count": 360,
     "metadata": {},
     "output_type": "execute_result"
    }
   ],
   "source": [
    "# Drop zipcode col\n",
    "df.drop(\"feature_13\", axis=1, inplace=True)\n",
    "\n",
    "# Drop rows with NaNs\n",
    "df.dropna(how=\"any\", inplace=True)\n",
    "\n",
    "df.shape"
   ]
  },
  {
   "cell_type": "markdown",
   "metadata": {},
   "source": [
    "We did not use any imputation techniques because of the low number of nulls. If you want to know about robust imputation techniques, this article will help:\n",
    "\n",
    "https://towardsdatascience.com/going-beyond-the-simpleimputer-for-missing-data-imputation-dd8ba168d505?source=your_stories_page-------------------------------------"
   ]
  },
  {
   "cell_type": "markdown",
   "metadata": {},
   "source": [
    "Let's focus on numeric values now. Specifically, we will look at their distributions:"
   ]
  },
  {
   "cell_type": "code",
   "execution_count": 361,
   "metadata": {},
   "outputs": [
    {
     "data": {
      "text/html": [
       "<div>\n",
       "<style scoped>\n",
       "    .dataframe tbody tr th:only-of-type {\n",
       "        vertical-align: middle;\n",
       "    }\n",
       "\n",
       "    .dataframe tbody tr th {\n",
       "        vertical-align: top;\n",
       "    }\n",
       "\n",
       "    .dataframe thead th {\n",
       "        text-align: right;\n",
       "    }\n",
       "</style>\n",
       "<table border=\"1\" class=\"dataframe\">\n",
       "  <thead>\n",
       "    <tr style=\"text-align: right;\">\n",
       "      <th></th>\n",
       "      <th>count</th>\n",
       "      <th>mean</th>\n",
       "      <th>std</th>\n",
       "      <th>min</th>\n",
       "      <th>25%</th>\n",
       "      <th>50%</th>\n",
       "      <th>75%</th>\n",
       "      <th>max</th>\n",
       "    </tr>\n",
       "  </thead>\n",
       "  <tbody>\n",
       "    <tr>\n",
       "      <th>feature_2</th>\n",
       "      <td>659.0</td>\n",
       "      <td>4.852</td>\n",
       "      <td>5.020</td>\n",
       "      <td>0.0</td>\n",
       "      <td>1.040</td>\n",
       "      <td>2.875</td>\n",
       "      <td>7.520</td>\n",
       "      <td>28.0</td>\n",
       "    </tr>\n",
       "    <tr>\n",
       "      <th>feature_7</th>\n",
       "      <td>659.0</td>\n",
       "      <td>2.251</td>\n",
       "      <td>3.383</td>\n",
       "      <td>0.0</td>\n",
       "      <td>0.165</td>\n",
       "      <td>1.000</td>\n",
       "      <td>2.625</td>\n",
       "      <td>28.5</td>\n",
       "    </tr>\n",
       "    <tr>\n",
       "      <th>feature_10</th>\n",
       "      <td>659.0</td>\n",
       "      <td>2.499</td>\n",
       "      <td>4.952</td>\n",
       "      <td>0.0</td>\n",
       "      <td>0.000</td>\n",
       "      <td>0.000</td>\n",
       "      <td>3.000</td>\n",
       "      <td>67.0</td>\n",
       "    </tr>\n",
       "    <tr>\n",
       "      <th>feature_14</th>\n",
       "      <td>659.0</td>\n",
       "      <td>1046.024</td>\n",
       "      <td>5324.983</td>\n",
       "      <td>0.0</td>\n",
       "      <td>0.000</td>\n",
       "      <td>5.000</td>\n",
       "      <td>400.000</td>\n",
       "      <td>100000.0</td>\n",
       "    </tr>\n",
       "  </tbody>\n",
       "</table>\n",
       "</div>"
      ],
      "text/plain": [
       "            count      mean       std  min    25%    50%      75%       max\n",
       "feature_2   659.0     4.852     5.020  0.0  1.040  2.875    7.520      28.0\n",
       "feature_7   659.0     2.251     3.383  0.0  0.165  1.000    2.625      28.5\n",
       "feature_10  659.0     2.499     4.952  0.0  0.000  0.000    3.000      67.0\n",
       "feature_14  659.0  1046.024  5324.983  0.0  0.000  5.000  400.000  100000.0"
      ]
     },
     "execution_count": 361,
     "metadata": {},
     "output_type": "execute_result"
    }
   ],
   "source": [
    "df.describe().T.round(3)"
   ]
  },
  {
   "cell_type": "markdown",
   "metadata": {},
   "source": [
    "All features have a minimum of 0 but they are all on different scales. This means we have to use some type of normalization and we will see what kind by exploring these features visually:"
   ]
  },
  {
   "cell_type": "code",
   "execution_count": 362,
   "metadata": {},
   "outputs": [
    {
     "data": {
      "image/png": "[encoded data removed]",
      "text/plain": [
       "<Figure size 864x648 with 4 Axes>"
      ]
     },
     "metadata": {
      "needs_background": "light"
     },
     "output_type": "display_data"
    }
   ],
   "source": [
    "import seaborn as sns\n",
    "\n",
    "df.hist();"
   ]
  },
  {
   "cell_type": "markdown",
   "metadata": {},
   "source": [
    "Features have skewed distributions which means, we will perform non-linear transform such as `PowerTransformer` (uses logarithms under the hood):"
   ]
  },
  {
   "cell_type": "code",
   "execution_count": 363,
   "metadata": {},
   "outputs": [
    {
     "data": {
      "text/plain": [
       "['feature_2', 'feature_7', 'feature_10', 'feature_14']"
      ]
     },
     "execution_count": 363,
     "metadata": {},
     "output_type": "execute_result"
    }
   ],
   "source": [
    "# Store the cols to be log transformed\n",
    "to_log = df.select_dtypes(include=\"number\").columns.to_list()\n",
    "to_log"
   ]
  },
  {
   "cell_type": "markdown",
   "metadata": {},
   "source": [
    "If you want to know more about other numeric feature transformation techniques, I got that covered too:\n",
    "https://towardsdatascience.com/how-to-differentiate-between-scaling-normalization-and-log-transformations-69873d365a94?source=your_stories_page-------------------------------------"
   ]
  },
  {
   "cell_type": "markdown",
   "metadata": {},
   "source": [
    "To encode categorical features, we will use a `OneHotEncoder`. Before isolating the columns to be used in encoding, let's separate the data into feature and target arrays:"
   ]
  },
  {
   "cell_type": "code",
   "execution_count": 364,
   "metadata": {},
   "outputs": [],
   "source": [
    "X, y = df.iloc[:, :-1], df.iloc[:, -1]  # the last column is the target"
   ]
  },
  {
   "cell_type": "markdown",
   "metadata": {},
   "source": [
    "Now, isolate the categorical columns to be OH encoded:"
   ]
  },
  {
   "cell_type": "code",
   "execution_count": 365,
   "metadata": {
    "tags": []
   },
   "outputs": [],
   "source": [
    "categorical_cols = X.select_dtypes(include=\"object\").columns.to_list()"
   ]
  },
  {
   "cell_type": "markdown",
   "metadata": {},
   "source": [
    "Finally, we will build the preprocessing pipeline:"
   ]
  },
  {
   "cell_type": "markdown",
   "metadata": {},
   "source": [
    "> If you are not familiar with Sklearn pipelines and column transformers, I recommend reading this post:\n",
    "https://towardsdatascience.com/how-to-use-sklearn-pipelines-for-ridiculously-neat-code-a61ab66ca90d"
   ]
  },
  {
   "cell_type": "code",
   "execution_count": 366,
   "metadata": {},
   "outputs": [],
   "source": [
    "from sklearn.compose import ColumnTransformer\n",
    "from sklearn.ensemble import RandomForestClassifier\n",
    "from sklearn.pipeline import Pipeline, make_pipeline\n",
    "from sklearn.preprocessing import LabelEncoder, OneHotEncoder, PowerTransformer\n",
    "\n",
    "# Create a col_transformer object\n",
    "col_transformer = ColumnTransformer(\n",
    "    transformers=[\n",
    "        (\"log\", PowerTransformer(), to_log),\n",
    "        (\n",
    "            \"oh_encode\",\n",
    "            OneHotEncoder(sparse=False, handle_unknown=\"ignore\"),\n",
    "            categorical_cols,\n",
    "        ),\n",
    "    ]\n",
    ")\n",
    "\n",
    "# Combine into a final pipeline\n",
    "pipeline = Pipeline(\n",
    "    steps=[(\"preprocess\", col_transformer), (\"base_model\", RandomForestClassifier())]\n",
    ")\n",
    "\n",
    "# Encode the target manually to encode the positive class\n",
    "y = y.map({\"+\": 1, \"-\": 0})"
   ]
  },
  {
   "cell_type": "markdown",
   "metadata": {},
   "source": [
    "### Intro to the Confusion Matrix"
   ]
  },
  {
   "cell_type": "markdown",
   "metadata": {},
   "source": [
    "At the last step, I added a `RandomForestClassifier` to the pipeline as a base model. We want the model to predict approved applications more accurately because that would mean more customers to the bank. This would also make the approved applications a *positive class* in our predictions. Let's finally evaluate the pipeline:"
   ]
  },
  {
   "cell_type": "code",
   "execution_count": 292,
   "metadata": {
    "tags": []
   },
   "outputs": [
    {
     "name": "stdout",
     "output_type": "stream",
     "text": [
      "RandomForest pipeline scored 0.874\n"
     ]
    }
   ],
   "source": [
    "from sklearn.model_selection import train_test_split\n",
    "\n",
    "# Generate train/test sets\n",
    "X_train, X_test, y_train, y_test = train_test_split(\n",
    "    X, y, test_size=0.3, random_state=0, stratify=y\n",
    ")\n",
    "\n",
    "# Fit/score the pipeline\n",
    "pipeline.fit(X_train, y_train)\n",
    "print(f\"RandomForest pipeline scored {pipeline.score(X_test, y_test).round(3)}\")"
   ]
  },
  {
   "cell_type": "markdown",
   "metadata": {},
   "source": [
    "The default scoring of all classifiers is the accuracy score, which our base pipeline impressively achieved ~89%. \n",
    "\n",
    "But, here is the problem with accuracy - what is the model *accurate* at? Can it predict suitable applications better or is it more accurate at detecting undesirable candidates? From a business perspective, your results should be able to answer both questions and accuracy does not do that. \n",
    "\n",
    "As a solution, let's finally get introduced to a confusion matrix:"
   ]
  },
  {
   "cell_type": "code",
   "execution_count": 293,
   "metadata": {},
   "outputs": [
    {
     "data": {
      "text/plain": [
       "array([[95, 13],\n",
       "       [12, 78]], dtype=int64)"
      ]
     },
     "execution_count": 293,
     "metadata": {},
     "output_type": "execute_result"
    }
   ],
   "source": [
    "from sklearn.metrics import confusion_matrix\n",
    "\n",
    "# Generate predictions\n",
    "y_pred = pipeline.predict(X_test)\n",
    "\n",
    "# Create the confusion matrix\n",
    "confusion_matrix(y_test, y_pred)"
   ]
  },
  {
   "cell_type": "markdown",
   "metadata": {},
   "source": [
    "Since, it is a binary classification problem, the matrix is of shape 2 by 2 (there are two classes in the target). The diagonal of the matrix shows the number of correctly classified samples and the off-diagonal cells shows where the model made a mistake. To further understand this, Sklearn provides a visual matrix, which is much better:"
   ]
  },
  {
   "cell_type": "code",
   "execution_count": 294,
   "metadata": {
    "tags": []
   },
   "outputs": [
    {
     "data": {
      "image/png": "[encoded data removed]",
      "text/plain": [
       "<Figure size 576x360 with 2 Axes>"
      ]
     },
     "metadata": {
      "needs_background": "light"
     },
     "output_type": "display_data"
    }
   ],
   "source": [
    "import seaborn as sns\n",
    "from sklearn.metrics import plot_confusion_matrix\n",
    "\n",
    "fig, ax = plt.subplots(figsize=(8, 5))\n",
    "plot_confusion_matrix(\n",
    "    pipeline,  # Fitted estimator (it must have been fit)\n",
    "    X_test,\n",
    "    y_test,  # test sets\n",
    "    ax=ax,\n",
    ");"
   ]
  },
  {
   "cell_type": "markdown",
   "metadata": {
    "tags": []
   },
   "source": [
    "This confusion matrix is much more informative. Here are a few things to notice:\n",
    "- The rows correspond to the actual values \n",
    "- The columns correspond to the predicted values\n",
    "- Each cell is a count of each true/predicted value combination\n",
    "\n",
    "Paying attention to the axes labels, the first row represents the actual negative class (rejected applications) while second row is for the actual positive (approved applications) class. Similarly, the first column is for the positive predicted and the second for negative predicted. "
   ]
  },
  {
   "cell_type": "markdown",
   "metadata": {},
   "source": [
    "Before we go on to interpreting this output, let's fix the format of this matrix. In many other literature, you will see that the actual positive class represented as the first row and the predicted positive class as the first column. I am also used to that format and find it easier to explain.\n",
    "\n",
    "We will flip the matrix so that the first row and column is the positive class. We will also use Sklearn's `ConfusionMatrixDisplay` function that plots custom matrices. Here is a wrapper function:"
   ]
  },
  {
   "cell_type": "code",
   "execution_count": 313,
   "metadata": {
    "tags": []
   },
   "outputs": [
    {
     "data": {
      "image/png": "[encoded data removed]",
      "text/plain": [
       "<Figure size 576x360 with 2 Axes>"
      ]
     },
     "metadata": {
      "needs_background": "light"
     },
     "output_type": "display_data"
    }
   ],
   "source": [
    "import numpy as np\n",
    "from sklearn.metrics import ConfusionMatrixDisplay\n",
    "\n",
    "\n",
    "def custom_confusion_matrix(y_true, y_pred, display_labels=None):\n",
    "    \"\"\"\n",
    "    A function to plot a custom confusion matrix with\n",
    "    positive class as the first row and the first column.\n",
    "    \"\"\"\n",
    "    # Create a flipped matrix\n",
    "    cm = np.flip(confusion_matrix(y_true, y_pred))\n",
    "    # Create the plot\n",
    "    fig, ax = plt.subplots(figsize=(8, 5))\n",
    "    cmp = ConfusionMatrixDisplay(cm, display_labels=display_labels)\n",
    "    cmp.plot(ax=ax)\n",
    "\n",
    "\n",
    "custom_confusion_matrix(y_test, y_pred, display_labels=[\"Approved\", \"Rejected\"])"
   ]
  },
  {
   "cell_type": "markdown",
   "metadata": {},
   "source": [
    "We are flipping the matrix using `np.flip` and plotting it via `ConfusionDisplayFunction` which only takes a matrix and accepts custom class labels through `display_labels` parameter."
   ]
  },
  {
   "cell_type": "markdown",
   "metadata": {},
   "source": [
    "Let's finally interpret this matrix:\n",
    "\n",
    "- **(top left)** - there were 78 applications which were actually *approved* and the model *correctly* classified them *approved* as well\n",
    "- **(bottom right)** - there were 95 applications which were actually *rejected* and the model *correctly* classified them *rejected* as well\n",
    "- **(bottom left)** - there were 13 applications which were actually *rejected* but the model *incorrectly* classified them as *approved*\n",
    "- **(top right)** - there were 12 applications which were actually *approved* but the model *incorrectly* classified them as *rejected*.\n"
   ]
  },
  {
   "cell_type": "markdown",
   "metadata": {},
   "source": [
    "Because of the popularity of confusion matrices, each true/predicted cell combination has their own name in the community:"
   ]
  },
  {
   "cell_type": "markdown",
   "metadata": {},
   "source": [
    "- **True Positives (TP)** - actual positive, predicted positive (top left, 78)\n",
    "- **True Negatives (TN)** - actual negative, predicted negative (bottom right, 95)\n",
    "- **False Positives (FP)** - actual negative, predicted positive (bottom left, 13)\n",
    "- **False Negatives (FN)** - actual positive, predicted negative (top right, 12)"
   ]
  },
  {
   "cell_type": "markdown",
   "metadata": {},
   "source": [
    "Even though you may see a matrix in a different format, the above 4 terms will always be there. That's why before creating a model, it is useful to create a mental note of what the above 4 terms refer to in your unique case.\n",
    "\n",
    "After you fit a model, you can extract each of the above 4 using the `.ravel()` method on a confusion matrix:"
   ]
  },
  {
   "cell_type": "code",
   "execution_count": 315,
   "metadata": {},
   "outputs": [
    {
     "data": {
      "text/plain": [
       "(95, 13, 12, 78)"
      ]
     },
     "execution_count": 315,
     "metadata": {},
     "output_type": "execute_result"
    }
   ],
   "source": [
    "tn, fp, fn, tp = confusion_matrix(y_test, y_pred).ravel()\n",
    "(tn, fp, fn, tp)"
   ]
  },
  {
   "cell_type": "markdown",
   "metadata": {},
   "source": [
    "### Precision, Recall and F scores"
   ]
  },
  {
   "cell_type": "markdown",
   "metadata": {},
   "source": [
    "In this section, we will learn about further metrics that lets us compare one confusion matrix to another. Let's say we have another pipeline with `LogisticRegression` as a classifier:"
   ]
  },
  {
   "cell_type": "code",
   "execution_count": 320,
   "metadata": {
    "tags": []
   },
   "outputs": [
    {
     "data": {
      "image/png": "[encoded data removed]",
      "text/plain": [
       "<Figure size 576x360 with 2 Axes>"
      ]
     },
     "metadata": {
      "needs_background": "light"
     },
     "output_type": "display_data"
    }
   ],
   "source": [
    "from copy import deepcopy\n",
    "\n",
    "from sklearn.linear_model import LogisticRegression\n",
    "\n",
    "# Copy the pipeline to edit the estimator\n",
    "logreg_pipeline = deepcopy(pipeline)\n",
    "logreg_pipeline.steps[1] = (\"base_model\", LogisticRegression())\n",
    "\n",
    "# Fit/predict the logreg pipeline\n",
    "logreg_pipeline.fit(X_train, y_train)\n",
    "y_pred_logistic = logreg_pipeline.predict(X_test)\n",
    "\n",
    "# Plot the confusion matrix\n",
    "custom_confusion_matrix(\n",
    "    y_test, y_pred_logistic, display_labels=[\"Approved\", \"Rejected\"]\n",
    ")\n",
    "\n",
    "### ADD THE FIRST MATIX FOR COMPARISON"
   ]
  },
  {
   "cell_type": "markdown",
   "metadata": {},
   "source": [
    "Looking at the plots above, we might say the results of both Random Forests and Logistic Regression are similar. However, there are 3 common metrics we can derive from the confusion matrix that lets us compare them. These are called *precision*, *recall* and *F1 score*. Let's understand each one in detail:"
   ]
  },
  {
   "cell_type": "markdown",
   "metadata": {},
   "source": [
    "1. **Precision**: it is the ratio of the number of correctly classified positives and the total number of predicted positive classes. In our case, it is the total number of correctly classified, *approved applications* (TP = 77) divided by the total number of predicted approved classifications (all predicted positives, regardless of whether they are correct or not, TP + FP = 94). Using the matrix terms, it is:\n",
    "![](images/precision.png)\n",
    "\n",
    "You can easily remember this with *Triple-P* rule - precision involves all positives and uses the terms in the left side of the matrix."
   ]
  },
  {
   "cell_type": "markdown",
   "metadata": {},
   "source": [
    "Sklearn's official definition of precision is: \"the ability of the classifier not to label a negative sample as positive\". In our case, it is the ability of our model not to label *rejected applications* as approved. So, if we want the model to be more accurate at filtering unsuitable applications, we should optimize for precision. In other words, increase True Positives and decrease False Positives as much as possible. 0 False Positives gives a precision of 1."
   ]
  },
  {
   "cell_type": "markdown",
   "metadata": {},
   "source": [
    "2. **Recall**: also called *sensitivity, hit rate* or *true positive rate (TPR)*. It is the ratio of correctly classified positives divided by the total number of actual positives in the target. In our case, it is the number of correctly classified, *approved applications* (TP = 77) divided by the total number of *actual approved applications* (regardless of whether they were correctly predicted or not, TP + FN = 90). Using the terms of confusion matrix:\n",
    "![](images/recall.png)\n",
    "\n",
    "Recall uses the terms in the first row of the confusion matrix."
   ]
  },
  {
   "cell_type": "markdown",
   "metadata": {},
   "source": [
    "Sklearn's official definition for recall is: \"the ability of the classifier to find all the positive samples\". If we optimize for recall, we will be trying to decrease the number of False Negatives (incorrectly classified, approved applications) and increase the number of True Positives. But this may be at the cost of increasing False Positives - i. e. incorrectly classifying rejected applications as approved."
   ]
  },
  {
   "cell_type": "markdown",
   "metadata": {},
   "source": [
    "Due to their nature, Precision and Recall is in a trade-off relationship. Depending on your business problem, you may have to focus on optimizing one at the cost of the other. However, what if you wanted to have a balanced model - i.e., a model that is equally good at detecting the positives and the negatives.\n",
    "\n",
    "In our case, this would make sense - a bank would benefit the most if it could find as many customers as possible while also avoiding undesirable candidates, thus eliminating potential loss. \n",
    "\n",
    "3. The third metric, called the *F1 score*, tries to measure exactly that: it quantifies the model's ability of predicting both classes correctly. It is calculated by taking the harmonic mean of precision and recall:\n",
    "\n",
    "![](images/f1.png)"
   ]
  },
  {
   "cell_type": "markdown",
   "metadata": {},
   "source": [
    "Why the harmonic mean you ask? Because of how it is calculated, the harmonic mean truly gives a balanced score. If either precision or recall have a low value, the F1 score suffers significantly. This is a useful mathematical property compared to the simple mean."
   ]
  },
  {
   "cell_type": "markdown",
   "metadata": {},
   "source": [
    "All these metrics can be calculated using Sklearn and they are available under the `metrics` submodule:"
   ]
  },
  {
   "cell_type": "code",
   "execution_count": 322,
   "metadata": {},
   "outputs": [
    {
     "name": "stdout",
     "output_type": "stream",
     "text": [
      "Precision of RandomForests: 0.8571428571428571\n",
      "Precision of LogisticRegression: 0.8191489361702128\n"
     ]
    }
   ],
   "source": [
    "from sklearn.metrics import f1_score, precision_score, recall_score\n",
    "\n",
    "# Compute precision for the two pipelines\n",
    "print(\"Precision of RandomForests: {}\".format(precision_score(y_test, y_pred)))\n",
    "print(\n",
    "    \"Precision of LogisticRegression: {}\".format(\n",
    "        precision_score(y_test, y_pred_logistic)\n",
    "    )\n",
    ")"
   ]
  },
  {
   "cell_type": "markdown",
   "metadata": {},
   "source": [
    "RandomForest has a greater precision indicating that it is better at finding approvable applications while lowering false positives, i. e. incorrectly classified undesirable candidates."
   ]
  },
  {
   "cell_type": "code",
   "execution_count": 323,
   "metadata": {},
   "outputs": [
    {
     "name": "stdout",
     "output_type": "stream",
     "text": [
      "Recall of RandomForests: 0.8666666666666667\n",
      "Recall of LogisticRegression: 0.8555555555555555\n"
     ]
    }
   ],
   "source": [
    "# Compute recall for the two pipelines\n",
    "print(\"Recall of RandomForests: {}\".format(recall_score(y_test, y_pred)))\n",
    "print(\"Recall of LogisticRegression: {}\".format(recall_score(y_test, y_pred_logistic)))"
   ]
  },
  {
   "cell_type": "markdown",
   "metadata": {},
   "source": [
    "RandomForests wins in recall too. It is similarly better at filtering out false negatives, i. e., decreasing the number of positive samples classified as negative. Since, RandomForests won in both scores, we can expect it to have higher F1 too:"
   ]
  },
  {
   "cell_type": "code",
   "execution_count": 324,
   "metadata": {},
   "outputs": [
    {
     "name": "stdout",
     "output_type": "stream",
     "text": [
      "F1 of RandomForests: 0.861878453038674\n",
      "F1 of LogisticRegression: 0.8369565217391304\n"
     ]
    }
   ],
   "source": [
    "# Compute recall for the two pipelines\n",
    "print(\"F1 of RandomForests: {}\".format(f1_score(y_test, y_pred)))\n",
    "print(\"F1 of LogisticRegression: {}\".format(f1_score(y_test, y_pred_logistic)))"
   ]
  },
  {
   "cell_type": "markdown",
   "metadata": {},
   "source": [
    "As expected, RF has a higher F1 making it a more robust model for our case."
   ]
  },
  {
   "cell_type": "markdown",
   "metadata": {},
   "source": [
    "You can print out all these scores at once using the `classification_report` function:"
   ]
  },
  {
   "cell_type": "code",
   "execution_count": 377,
   "metadata": {},
   "outputs": [
    {
     "name": "stdout",
     "output_type": "stream",
     "text": [
      "              precision    recall  f1-score   support\n",
      "\n",
      "           0       0.88      0.84      0.86       108\n",
      "           1       0.82      0.86      0.84        90\n",
      "\n",
      "    accuracy                           0.85       198\n",
      "   macro avg       0.85      0.85      0.85       198\n",
      "weighted avg       0.85      0.85      0.85       198\n",
      "\n"
     ]
    }
   ],
   "source": [
    "from sklearn.metrics import classification_report\n",
    "\n",
    "# Classification report for LogReg\n",
    "print(classification_report(y_test, y_pred_logistic))"
   ]
  },
  {
   "cell_type": "markdown",
   "metadata": {},
   "source": [
    "Before we go on to focusing on optimizing for these metrics, let's take a look at other scenarios to deepen our understanding."
   ]
  },
  {
   "cell_type": "markdown",
   "metadata": {},
   "source": [
    "### More practice on interpreting precision, recall and F1"
   ]
  },
  {
   "cell_type": "markdown",
   "metadata": {},
   "source": [
    "Since the differences between these metrics is subtle, you need some practice to develop a strong intuition for them. In this section, we will do just that!"
   ]
  },
  {
   "cell_type": "markdown",
   "metadata": {},
   "source": [
    "Let's say we are trying to detect whether parachutes sold in the sky-diving shop are faulty or not. The assistance examines all available parachutes and records their attributes and classifies them. We want to automate this process and build a model that should be exceptionally good at detecting faulty parachutes. \n",
    "\n",
    "For example purposes, we will create the dataset synthetically:"
   ]
  },
  {
   "cell_type": "code",
   "execution_count": 327,
   "metadata": {},
   "outputs": [],
   "source": [
    "from sklearn.datasets import make_classification\n",
    "\n",
    "X_ex1, y_ex1 = make_classification(\n",
    "    n_samples=500, n_features=5, n_informative=4, n_redundant=1, weights=[0.9, 0.1]\n",
    ")"
   ]
  },
  {
   "cell_type": "markdown",
   "metadata": {},
   "source": [
    "Since there are much more working parachutes, it is an inbalanced classification problem. Let's set up the terminology:"
   ]
  },
  {
   "cell_type": "markdown",
   "metadata": {},
   "source": [
    "- The positive class: faulty parachutes\n",
    "- The negative class: working parachutes\n",
    "- True positives: faulty parachutes predicted correctly\n",
    "- True negatives: working parachutes predicted correctly\n",
    "- False positives: faulty parachutes predicted incorrectly\n",
    "- False negatives: working parachutes predicted incorrectly"
   ]
  },
  {
   "cell_type": "markdown",
   "metadata": {},
   "source": [
    "Let's evaluate a Random Forest model on this data:"
   ]
  },
  {
   "cell_type": "code",
   "execution_count": 333,
   "metadata": {},
   "outputs": [
    {
     "data": {
      "image/png": "[encoded data removed]",
      "text/plain": [
       "<Figure size 576x360 with 2 Axes>"
      ]
     },
     "metadata": {
      "needs_background": "light"
     },
     "output_type": "display_data"
    }
   ],
   "source": [
    "X_train_ex1, X_test_ex1, y_train_ex1, y_test_ex1 = train_test_split(\n",
    "    X_ex1, y_ex1, test_size=0.3, random_state=1121218\n",
    ")\n",
    "\n",
    "forest = RandomForestClassifier()\n",
    "forest.fit(X_train_ex1, y_train_ex1)\n",
    "y_pred_ex1 = forest.predict(X_test_ex1)\n",
    "\n",
    "custom_confusion_matrix(y_test_ex1, y_pred_ex1, display_labels=[\"Faulty\", \"Not Faulty\"])"
   ]
  },
  {
   "cell_type": "markdown",
   "metadata": {},
   "source": [
    "In this problem, we should try to lower the top right (False Negatives) as much as possible because even one faulty parachute means a death of a skydiver. Looking at the scorings, we should be optimizing the recall score:\n",
    "\n",
    "![](images/recall.png)"
   ]
  },
  {
   "cell_type": "markdown",
   "metadata": {},
   "source": [
    "It is perfectly OK if False positives increase, because we will be saving people's lives even though we might lose some money."
   ]
  },
  {
   "cell_type": "markdown",
   "metadata": {},
   "source": [
    "In the second scenario, we will try to predict customer churn (stop or continue using our company's services). Again, let's set up the terminology for the problem:\n",
    "\n",
    "- Positive class: continue using\n",
    "- Negative class: churn\n",
    "- True positives: wants to continue, predicted correctly\n",
    "- True negatives: churn, predicted correctly\n",
    "- False positives: churn, predicted incorrectly\n",
    "- False negatives: wants to continue, predicted incorrectly\n",
    "\n",
    "We will build a synthetic dataset again and evaluate RF on it:"
   ]
  },
  {
   "cell_type": "code",
   "execution_count": 342,
   "metadata": {},
   "outputs": [
    {
     "data": {
      "image/png": "[encoded data removed]",
      "text/plain": [
       "<Figure size 576x360 with 2 Axes>"
      ]
     },
     "metadata": {
      "needs_background": "light"
     },
     "output_type": "display_data"
    }
   ],
   "source": [
    "X_ex2, y_ex2 = make_classification(\n",
    "    n_samples=1000, n_features=7, n_informative=5, n_redundant=2, weights=[0.7, 0.3]\n",
    ")\n",
    "\n",
    "X_train_ex2, X_test_ex2, y_train_ex2, y_test_ex2 = train_test_split(\n",
    "    X_ex2, y_ex2, test_size=0.3, random_state=1121218\n",
    ")\n",
    "\n",
    "forest = RandomForestClassifier()\n",
    "forest.fit(X_train_ex2, y_train_ex2)\n",
    "y_pred_ex2 = forest.predict(X_test_ex2)\n",
    "\n",
    "fig, ax = plt.subplots(figsize=(8, 5))\n",
    "cmp = ConfusionMatrixDisplay(\n",
    "    confusion_matrix(y_test_ex2, y_pred_ex2), display_labels=[\"Continue\", \"Churn\"]\n",
    ")\n",
    "cmp.plot(ax=ax);"
   ]
  },
  {
   "cell_type": "markdown",
   "metadata": {},
   "source": [
    "In this case, we want to retain as much customers as possible. This means we have to lower False Positives indicating that we should optimize precision:\n",
    "\n",
    "![](images/precision.png)"
   ]
  },
  {
   "cell_type": "markdown",
   "metadata": {},
   "source": [
    "In this article, we only focused on 3 metrics. However, there are many other scores you can derive from the confusion matrix such as specificity, NPV, FNR, etc. After reading this article, you should be able to read the [Wikipedia page](https://en.wikipedia.org/wiki/Confusion_matrix) on the topic. If you find yourself confused about the metrics themselves, check out this [awesome article](https://medium.com/swlh/how-to-remember-all-these-classification-concepts-forever-761c065be33) too."
   ]
  },
  {
   "cell_type": "markdown",
   "metadata": {},
   "source": [
    "Finally, let's see how to optimize for each of the metrics we discussed today."
   ]
  },
  {
   "cell_type": "markdown",
   "metadata": {},
   "source": [
    "### Optimizing models for a particular metric using HalvingGridSearchCV"
   ]
  },
  {
   "cell_type": "markdown",
   "metadata": {},
   "source": [
    "In this section, we will see how to boost a model's performance for a metric of our choice. In the above sections, we used models with default parameters. To increase their performance, we have to do hyperparameter tuning, specifically, we should find the set of hyperparameters that gives the highest score for our desired metric. \n",
    "\n",
    "Searching for this magical set is tedious and time-consuming. So we will bring out the `HalvingRandomSearchCV` class which searches over a grid of possible parameters for the model and find the set that gives highest score for the scoring function passed to its `scoring` parameter. \n",
    "\n",
    "> You might be surprised that I am not using GridSearch. In one of my articles I showed how Halving Grid Search is 11 times faster than regular GridSearch. And Halving Grid Search is even faster, allowing us to widen our hyperparameter space to a great extent. You can read the comparison here:\n",
    "\n",
    "https://towardsdatascience.com/11-times-faster-hyperparameter-tuning-with-halvinggridsearch-232ed0160155"
   ]
  },
  {
   "cell_type": "markdown",
   "metadata": {},
   "source": [
    "As a first step, we will build the hyperparameter space:"
   ]
  },
  {
   "cell_type": "code",
   "execution_count": 373,
   "metadata": {},
   "outputs": [],
   "source": [
    "n_estimators = [int(x) for x in np.linspace(start=200, stop=2000, num=10)]\n",
    "max_features = [\"auto\", \"sqrt\"]\n",
    "max_depth = [int(x) for x in np.linspace(10, 110, num=11)] + [None]\n",
    "min_samples_split = [2, 5, 7, 10]\n",
    "min_samples_leaf = [1, 2, 3, 4]\n",
    "bootstrap = [True, False]\n",
    "\n",
    "param_grid = {\n",
    "    \"base_model__n_estimators\": n_estimators,\n",
    "    \"base_model__max_features\": max_features,\n",
    "    \"base_model__max_depth\": max_depth,\n",
    "    \"base_model__min_samples_split\": min_samples_split,\n",
    "    \"base_model__min_samples_leaf\": min_samples_leaf,\n",
    "    \"base_model__bootstrap\": bootstrap,\n",
    "}"
   ]
  },
  {
   "cell_type": "markdown",
   "metadata": {},
   "source": [
    "Now, we will search over this grid 3 times optimizing for each of the metrics we discussed today:"
   ]
  },
  {
   "cell_type": "code",
   "execution_count": 375,
   "metadata": {},
   "outputs": [
    {
     "name": "stdout",
     "output_type": "stream",
     "text": [
      "Best score for precision is 0.883536231884058\n",
      "Saved the best params for this metric...\n",
      "Best score for recall is 0.8446455505279035\n",
      "Saved the best params for this metric...\n",
      "Best score for f1 is 0.835454919599024\n",
      "Saved the best params for this metric...\n",
      "Wall time: 10min 45s\n"
     ]
    }
   ],
   "source": [
    "%%time\n",
    "\n",
    "from sklearn.experimental import enable_halving_search_cv\n",
    "from sklearn.model_selection import HalvingRandomSearchCV\n",
    "\n",
    "metrics = [\"precision\", \"recall\", \"f1\"]\n",
    "best_params = dict()\n",
    "\n",
    "for metric in metrics:\n",
    "    # Init the grid\n",
    "    search = HalvingRandomSearchCV(\n",
    "        estimator=pipeline,\n",
    "        param_distributions=param_grid,\n",
    "        cv=5,\n",
    "        scoring=metric,\n",
    "        random_state=1121218,\n",
    "        n_candidates=\"exhaust\",\n",
    "        factor=3,\n",
    "        n_jobs=-1,\n",
    "    )\n",
    "\n",
    "    # Fit to the full data\n",
    "    _ = search.fit(X, y)\n",
    "    print(f\"Best score for {metric} is {search.best_score_}\")\n",
    "\n",
    "    best_params[metric] = search.best_params_\n",
    "    print(\"Saved the best params for this metric...\")"
   ]
  },
  {
   "cell_type": "markdown",
   "metadata": {},
   "source": [
    "We managed to score higher in terms of precision but got a lower score for recall and F1. It is an iterative process, so you can continue the search until the scores improve. Or if you have time, you can change to HalvingGridSearch which is much slower than HalvingRandomSearch but gives much better results."
   ]
  },
  {
   "cell_type": "markdown",
   "metadata": {},
   "source": [
    "### Summary"
   ]
  },
  {
   "cell_type": "markdown",
   "metadata": {},
   "source": [
    "The hardest part of any classification problem is truly understanding the business problem you are trying to solve and optimize for a metric accordingly. Once you theoretically construct the appropriate confusion matrix and its terms, there is only the coding part left. \n",
    "\n",
    "In terms of coding, having a good preprocessing pipeline ensures that you have the best score possible for a base model of your choice. Make sure to scale/normalize the data based on the underlying distributions. After preprocessing, create copies of your pipeline for multiple classifiers. LogisticRegression, Random Forests, KNN Classifier are good choices.\n",
    "\n",
    "For optimization, choose either Halving Grid or Halving Random Search. They have been proven to be much better than their previous counterparts. Thanks for reading!"
   ]
  },
  {
   "cell_type": "markdown",
   "metadata": {},
   "source": [
    "### Further reading ...\n",
    "- [Confusion matrix Sklearn user guide](https://scikit-learn.org/stable/modules/model_evaluation.html#confusion-matrix)\n",
    "- [StatQuest on Confusion Matrix](https://www.youtube.com/watch?v=Kdsp6soqA7o&t=3s)\n",
    "- [StatQuest on Sensitivity and Specificity](https://www.youtube.com/watch?v=vP06aMoz4v8)\n",
    "- [Optimising a Machine Learning Model with the Confusion Matrix](https://towardsdatascience.com/understanding-the-confusion-matrix-and-its-business-applications-c4e8aaf37f42)"
   ]
  },
  {
   "cell_type": "markdown",
   "metadata": {},
   "source": [
    "### You might also be interested\n",
    "- [Going Beyond the SimpleImputer For Missing Data Imputation](https://towardsdatascience.com/going-beyond-the-simpleimputer-for-missing-data-imputation-dd8ba168d505?source=your_stories_page-------------------------------------)\n",
    "- [How to Perform Operator Overloading in Python OOP](https://codecrunch.org/operator-overloading-in-python-oop-fun-tutorial-1a8a867023ac?source=your_stories_page-------------------------------------)\n",
    "- [Practical Sklearn Feature Selection in 3 stages](https://towardsdatascience.com/4-part-practical-study-guide-to-sklearn-feature-selection-b959a28d9ef7?source=your_stories_page-------------------------------------)"
   ]
  }
 ],
 "metadata": {
  "kernelspec": {
   "display_name": "medium_articles",
   "language": "python",
   "name": "medium_articles"
  },
  "language_info": {
   "codemirror_mode": {
    "name": "ipython",
    "version": 3
   },
   "file_extension": ".py",
   "mimetype": "text/x-python",
   "name": "python",
   "nbconvert_exporter": "python",
   "pygments_lexer": "ipython3",
   "version": "3.8.5"
  }
 },
 "nbformat": 4,
 "nbformat_minor": 4
}
