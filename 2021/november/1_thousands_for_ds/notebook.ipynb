{
 "cells": [
  {
   "cell_type": "markdown",
   "id": "d7737a8a-7e6b-472c-9fd8-b1527f8a13dd",
   "metadata": {},
   "source": [
    "# How I Earn Thousands For Learning Data Science With No Degree and Experience\n",
    "## I play a never-losing game\n",
    "![](images/2.png)"
   ]
  },
  {
   "cell_type": "markdown",
   "id": "e9767f2a-6deb-406a-bff1-36aa09faa806",
   "metadata": {
    "tags": []
   },
   "source": [
    "# Who the heck am I?"
   ]
  },
  {
   "cell_type": "markdown",
   "id": "dbcfd6c2-af9c-48ae-bf6f-457a93e654ee",
   "metadata": {},
   "source": [
    "No, this is not a story of how I worked 100 hours a week to achieve my out-of-this world dreams. This is the story of me being an average Joe and lazy for most of the time and stumble upon a golden opportunity. An opportunity, which started as a spectacular failure, slowly changed my life to the point where I was \"doing it\" without even knowing. \n",
    "\n",
    "In August 2020, I was a fresh high-school graduate and already accepted into the best university in my country. Because the tuition fee was too high, I had no choice but get a full scholarship. This required me to pass a math test conducted among the top 100 candidates. Only 30 of them would get the full prize, so I had a one in a three chance. Pretty doable. Besides, I was good at math, with all the contests and competitions during my school years. \n",
    "\n",
    "I think you already guessed where I am going with this. I failed the test. Beautifully. I came in the top 100 (there were 103 people present). After that, I had two options. One - get a menial job to pay for my tuition and second - try the same thing next year by studying my a** off. Both options would shatter my ambitious dream of learning data science, which already became my passion at that time. \n",
    "\n",
    "So, I went with the option three - learning data science and at the same time, getting paid for it."
   ]
  },
  {
   "cell_type": "markdown",
   "id": "97144667-380c-418d-8270-339018210fbc",
   "metadata": {},
   "source": [
    "# I started playing a never-losing game"
   ]
  },
  {
   "cell_type": "markdown",
   "id": "b969c481-67f3-48a9-b5f6-f77934f2b4ff",
   "metadata": {},
   "source": [
    "Before the scholarship exam, I had started data science blogging. I had read half a million articles on it, so I was pretty sold on the idea. A couple of my articles were already accepted into the Towards Data Science publication on Medium, which was a big deal for me as a newbie Python learner.\n",
    "\n",
    "![](images/1.jpg)\n",
    "\n",
    "I had no immediate plans of becoming a blogging star but failing the exam pretty much tied my hands. I started paying serious attention to writing. As a result, I earned a whopping 27 dollars through Medium's Partner Program, which was a wee bit short of what I had in mind. \n",
    "\n",
    "![](images/3.png)"
   ]
  },
  {
   "cell_type": "markdown",
   "id": "ab4c89ba-414a-4565-99f3-304eb937e1ba",
   "metadata": {},
   "source": [
    "However, I did end up making over 200$ next month as the number of my articles grew. After October, I consistently started making around 250, which when saved, would already pay for my tuition and living. \n",
    "\n",
    "![](images/4.png)\n",
    "\n",
    "Goal accomplished.\n",
    "\n",
    "By this time, I had already designed a foolproof writing framework - I would only write about the things I knew nothing or little about. I started calling this a **never-losing game**. \n",
    "\n",
    "Think about it. Writing articles on topics I wasn't familiar required me to do extensive research and learning. I didn't have to practice what I learned because I would already get that by writing the actual article. So, this was already a great way for me to expand my knowledge.\n",
    "\n",
    "This way - I would *never* waste my time. Writing an article makes me a better data science learner and if it gets read by a bunch of people, I would earn good money as a bonus. "
   ]
  },
  {
   "cell_type": "markdown",
   "id": "577847de-de9e-43fa-856a-21b48a950a4b",
   "metadata": {},
   "source": [
    "While I was very satisfied with myself and my life, the Medium bonuses happened in April. I received this email:\n",
    "\n",
    "![](images/5.png)"
   ]
  },
  {
   "cell_type": "markdown",
   "id": "85d937b7-1062-485f-bf28-9a0b49b76a1e",
   "metadata": {},
   "source": [
    "I was shocked, in every sense of the word. How could I get a bonus that's even higher than my monthly earnings?! So, I thought this was a one-off thing and I was one of the lucky 1000 random writers who received it. *How wrong I was*. \n",
    "\n",
    "The bonus came next month as well but with a different, different message. \n",
    "\n",
    "![](images/6.png)"
   ]
  },
  {
   "cell_type": "markdown",
   "id": "a52c7ecb-c49e-49c4-938e-468cfafddcde",
   "metadata": {},
   "source": [
    "Pay attention! It is saying top 1000! It isn't random 1000 but *the* top 1000. Now, that was something. There are hundreds of thousands of writers across hundreds of topics on Medium and reaching the top 1000 with a few articles was a great accomplishment for me. I was more motivated than ever. \n",
    "\n",
    "In the coming months, which culminated with two more 500\\$ bonuses and my writing skills improving drammatically, I broke the 3000 limit!\n",
    "\n",
    "![](images/7.png)"
   ]
  },
  {
   "cell_type": "markdown",
   "id": "ab8dd673-71ef-4b3a-9513-e69512670db7",
   "metadata": {},
   "source": [
    "As you can see, for the past three months, I have been making thousands (as advertised in the title), even though the bonuses stopped. "
   ]
  },
  {
   "cell_type": "markdown",
   "id": "228e2e51-7e17-42f8-9590-21a58f6f0329",
   "metadata": {},
   "source": [
    "# Non-financial benefits of writing about what you learn"
   ]
  },
  {
   "cell_type": "markdown",
   "id": "887bba2b-1582-4c0f-a00a-e92392c032fc",
   "metadata": {},
   "source": [
    "The money I earn from my articles are only short-term gains. I spend it and it is gone. \n",
    "\n",
    "What matters are the long-term benefits data science writing bring to your career. Let me first elaborate on how writing is the best way to learn something new.\n",
    "\n",
    "For this, I use a loose analogy I came up. When you learn something new, it is still fresh in your mind, different concepts floating around without being strongly connected to your long term memory. It is kind of like carbon atoms in CO2 gases, floating freely in the air. \n",
    "\n",
    "When you give carbon atoms a structure or apply enough pressure, they turn into a diamond. Writing about the things you learn is, in a sense, similar to turning your initial knowledge into a diamond by giving structure to those new concepts and your thoughts. After all, there is nothing more valuable than knowledge.\n",
    "\n",
    "Besides, data science writing is much more beneficial for beginner learners than for other more experienced folks. When you write during the early stages of your career, the learning potential is great. You spend your time efficiently by both learning and practicing through your posts. \n",
    "\n",
    "If you start writing later, say after getting a job, there is a chance you might start seeing it as a chore, as a second job. You won't get as much excitement as a beginner because you would be writing about the things you already knew and used thousands of times. \n",
    "\n",
    "And it is going to put strain on your personal life because you would be spending your free time writing rather than enjoying it after a tough day at work. Of course, the articles you write will be well appreciated because of your experience level but it is something you should consider."
   ]
  },
  {
   "cell_type": "markdown",
   "id": "4889cc61-22a3-448f-94a2-085d8ce9cb06",
   "metadata": {},
   "source": [
    "# Building your own brand and reputation through Medium"
   ]
  },
  {
   "cell_type": "markdown",
   "id": "ad3fdcf6-d5be-4b0f-8b0b-63a7a64f4ba4",
   "metadata": {},
   "source": [
    "In September this year, one of the readers in my audience commented something that I never knew about. He said that he liked my articles and found my profile through one of Medium's tag pages. I naively thought that this was a random occurrence, Medium just recommending different authors to different members every time. \n",
    "\n",
    "But it wasn't. When I visited the [Artificial Intelligence tag page](https://medium.com/tag/artificial-intelligence) of Medium, here I was, in the top 10 writers column among 60 thousand other writers. I quickly checked [the Data Science](https://medium.com/tag/data-science) and [Machine Learning](https://medium.com/tag/machine-learning) pages as well, because I always used these topics to tag my posts. Forget about being in the top 1000, I was in the top 10 across three largest data-related topics on Medium. I was going head-to-head with people who amass thousands of followers and views. \n",
    "\n",
    "I started writing about data science with no social media presence whatsoever (I still have about 40 Twitter followers). Writing is what helped to start the foundations of my own brand and reputation as a data scientist. \n",
    "\n",
    "Because of my writing skills, I create killer notebooks and post them on Kaggle. I am the [only Kaggle Master](https://www.kaggle.com/bextuychiev) from my country and on the fast track to become the first-ever Kaggle Grandmaster in Central Asia. Also, nothing beats the feeling you get when you receive a genuinely nice comment from your audience:\n",
    "\n",
    "![](images/8.png)\n",
    "\n",
    "Moreover, writing keeps opening new doors for me. I am frequently approached [through LinkedIn](https://www.linkedin.com/in/bextuychiev/) to write freelance articles on my favorite topics (including StackOverflow). I am about to publish my first Python package, which I am already proud of (keep an eye out). And I can't believe I am saying this but I am also starting a book on Machine Learning, which I will hopefully publish with O'Reilly Media next year.\n",
    "\n",
    "All of these wouldn't have been possible if not for the failure and what came after it. I genuinely want anyone to start writing about data science and reap its endless benefits as soon as possible. Thank you for reading!\n",
    "\n",
    "TODO ADD CTA"
   ]
  }
 ],
 "metadata": {
  "kernelspec": {
   "display_name": "medium_articles",
   "language": "python",
   "name": "medium_articles"
  },
  "language_info": {
   "codemirror_mode": {
    "name": "ipython",
    "version": 3
   },
   "file_extension": ".py",
   "mimetype": "text/x-python",
   "name": "python",
   "nbconvert_exporter": "python",
   "pygments_lexer": "ipython3",
   "version": "3.8.11"
  }
 },
 "nbformat": 4,
 "nbformat_minor": 5
}
