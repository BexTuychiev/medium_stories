{
 "cells": [
  {
   "cell_type": "markdown",
   "id": "d7737a8a-7e6b-472c-9fd8-b1527f8a13dd",
   "metadata": {},
   "source": [
    "# How I Earn Thousands For Learning Data Science With No Degree and Experience\n",
    "## I play a never-losing game\n",
    "![](images/2.png)"
   ]
  },
  {
   "cell_type": "markdown",
   "id": "e9767f2a-6deb-406a-bff1-36aa09faa806",
   "metadata": {
    "tags": []
   },
   "source": [
    "# Who the heck am I?"
   ]
  },
  {
   "cell_type": "markdown",
   "id": "dbcfd6c2-af9c-48ae-bf6f-457a93e654ee",
   "metadata": {},
   "source": [
    "No, this is not a story of how I worked 100 hours a week to achieve my out-of-this world dreams. This is the story of me being an average Joe and lazy for most of the time and stumble upon a golden opportunity. An opportunity, which started as a spectacular failure, slowly changed my life to the point where I was \"doing it\" without even knowing. \n",
    "\n",
    "In August 2020, I was a fresh high-school graduate and already accepted into the best university in my country. Because the tuition fee was too high, I had no choice but get a full scholarship. This required me to pass a math test conducted among the top 100 candidates. Only 30 of them would get the full prize, so I had a one in a three chance. Pretty doable. Besides, I was good at math, with all the contests and competitions during my school years. \n",
    "\n",
    "I think you already guessed where I am going with this. I failed the test. Beautifully. I came in the top 100 (there were 103 people present). After that, I had two options. One - get a menial job to pay for my tuition and second - try the same thing next year by studying my a** off. Both options would shatter my ambitious dream of learning data science, which already became my passion at that time. \n",
    "\n",
    "So, I went with the option three - learning data science and getting paid for it at the same time. "
   ]
  },
  {
   "cell_type": "markdown",
   "id": "97144667-380c-418d-8270-339018210fbc",
   "metadata": {},
   "source": [
    "# I play a never-losing game"
   ]
  },
  {
   "cell_type": "markdown",
   "id": "228e2e51-7e17-42f8-9590-21a58f6f0329",
   "metadata": {},
   "source": [
    "# Non-financial benefits of writing about what you learn"
   ]
  },
  {
   "cell_type": "markdown",
   "id": "4889cc61-22a3-448f-94a2-085d8ce9cb06",
   "metadata": {},
   "source": [
    "# Building your own brand and reputation through Medium"
   ]
  }
 ],
 "metadata": {
  "kernelspec": {
   "display_name": "medium_articles",
   "language": "python",
   "name": "medium_articles"
  },
  "language_info": {
   "codemirror_mode": {
    "name": "ipython",
    "version": 3
   },
   "file_extension": ".py",
   "mimetype": "text/x-python",
   "name": "python",
   "nbconvert_exporter": "python",
   "pygments_lexer": "ipython3",
   "version": "3.8.11"
  }
 },
 "nbformat": 4,
 "nbformat_minor": 5
}
