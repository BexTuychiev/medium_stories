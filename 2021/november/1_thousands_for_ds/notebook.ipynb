{
 "cells": [
  {
   "cell_type": "markdown",
   "id": "d7737a8a-7e6b-472c-9fd8-b1527f8a13dd",
   "metadata": {},
   "source": [
    "# How I Earn Thousands For Learning Data Science With No Degree and Experience\n",
    "## I play a never-losing game\n",
    "![](images/2.png)"
   ]
  },
  {
   "cell_type": "markdown",
   "id": "e9767f2a-6deb-406a-bff1-36aa09faa806",
   "metadata": {
    "tags": []
   },
   "source": [
    "# Who the heck am I?"
   ]
  },
  {
   "cell_type": "markdown",
   "id": "dbcfd6c2-af9c-48ae-bf6f-457a93e654ee",
   "metadata": {},
   "source": [
    "In August 2020, "
   ]
  },
  {
   "cell_type": "markdown",
   "id": "97144667-380c-418d-8270-339018210fbc",
   "metadata": {},
   "source": [
    "# I play a never-losing game"
   ]
  },
  {
   "cell_type": "markdown",
   "id": "228e2e51-7e17-42f8-9590-21a58f6f0329",
   "metadata": {},
   "source": [
    "# Non-financial benefits of writing about what you learn"
   ]
  },
  {
   "cell_type": "markdown",
   "id": "4889cc61-22a3-448f-94a2-085d8ce9cb06",
   "metadata": {},
   "source": [
    "# Building your own brand and reputation through Medium"
   ]
  }
 ],
 "metadata": {
  "kernelspec": {
   "display_name": "medium_articles",
   "language": "python",
   "name": "medium_articles"
  },
  "language_info": {
   "codemirror_mode": {
    "name": "ipython",
    "version": 3
   },
   "file_extension": ".py",
   "mimetype": "text/x-python",
   "name": "python",
   "nbconvert_exporter": "python",
   "pygments_lexer": "ipython3",
   "version": "3.8.11"
  }
 },
 "nbformat": 4,
 "nbformat_minor": 5
}
