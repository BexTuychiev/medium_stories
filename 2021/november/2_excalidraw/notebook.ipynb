{
 "cells": [
  {
   "cell_type": "markdown",
   "id": "e2d65623-a84e-4290-9ea6-39919276b90c",
   "metadata": {},
   "source": [
    "# Excalidraw: How to Bring Complex Data Science Ideas to Life in Sketches\n",
    "## Explain hard data science topics through fun custom visuals\n",
    "![](images/unsplash.jpg)"
   ]
  }
 ],
 "metadata": {
  "kernelspec": {
   "display_name": "medium_articles",
   "language": "python",
   "name": "medium_articles"
  },
  "language_info": {
   "codemirror_mode": {
    "name": "ipython",
    "version": 3
   },
   "file_extension": ".py",
   "mimetype": "text/x-python",
   "name": "python",
   "nbconvert_exporter": "python",
   "pygments_lexer": "ipython3",
   "version": "3.8.11"
  }
 },
 "nbformat": 4,
 "nbformat_minor": 5
}
