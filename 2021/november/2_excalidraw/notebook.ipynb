{
 "cells": [
  {
   "cell_type": "markdown",
   "id": "e2d65623-a84e-4290-9ea6-39919276b90c",
   "metadata": {},
   "source": [
    "# Excalidraw: How to Bring Complex Data Science Ideas to Life in Sketches\n",
    "## Explain hard data science topics through fun custom visuals\n",
    "![](images/unsplash.jpg)"
   ]
  },
  {
   "cell_type": "markdown",
   "id": "097ef082-6af4-49e3-94b5-6bffd4d51b4d",
   "metadata": {},
   "source": [
    "# Introduction"
   ]
  },
  {
   "cell_type": "markdown",
   "id": "63266420-eb77-492d-a88c-6f5a04ffa11c",
   "metadata": {},
   "source": [
    "# Drawing, figures and text"
   ]
  },
  {
   "cell_type": "markdown",
   "id": "e7834d9e-9929-4b2e-baff-85b296492338",
   "metadata": {},
   "source": [
    "# Navigating through Excalidraw"
   ]
  },
  {
   "cell_type": "markdown",
   "id": "c60db465-caa4-463d-8783-dc80171b95d6",
   "metadata": {},
   "source": [
    "# Keyboard shortcuts"
   ]
  },
  {
   "cell_type": "markdown",
   "id": "7c24cb0e-7d97-4b9a-83c0-9fad33ef14c0",
   "metadata": {},
   "source": [
    "# Best of all, custom icon library"
   ]
  }
 ],
 "metadata": {
  "kernelspec": {
   "display_name": "medium_articles",
   "language": "python",
   "name": "medium_articles"
  },
  "language_info": {
   "codemirror_mode": {
    "name": "ipython",
    "version": 3
   },
   "file_extension": ".py",
   "mimetype": "text/x-python",
   "name": "python",
   "nbconvert_exporter": "python",
   "pygments_lexer": "ipython3",
   "version": "3.8.11"
  }
 },
 "nbformat": 4,
 "nbformat_minor": 5
}
