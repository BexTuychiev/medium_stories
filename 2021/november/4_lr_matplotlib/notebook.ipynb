{
 "cells": [
  {
   "cell_type": "markdown",
   "id": "ed93c157-d793-4d7b-9e49-5296697c4a91",
   "metadata": {},
   "source": [
    "# Data Visualization in Python With Matplotlib: Advanced Concepts\n"
   ]
  },
  {
   "cell_type": "markdown",
   "id": "5807130b-8b24-4953-8b83-33f04f9a5399",
   "metadata": {},
   "source": [
    "# Setup"
   ]
  },
  {
   "cell_type": "code",
   "execution_count": 1,
   "id": "3f87e48f-ecf6-40d0-95cb-e6860d994ec8",
   "metadata": {},
   "outputs": [
    {
     "data": {
      "text/html": [
       "<style type='text/css'>\n",
       ".datatable table.frame { margin-bottom: 0; }\n",
       ".datatable table.frame thead { border-bottom: none; }\n",
       ".datatable table.frame tr.coltypes td {  color: #FFFFFF;  line-height: 6px;  padding: 0 0.5em;}\n",
       ".datatable .bool    { background: #DDDD99; }\n",
       ".datatable .object  { background: #565656; }\n",
       ".datatable .int     { background: #5D9E5D; }\n",
       ".datatable .float   { background: #4040CC; }\n",
       ".datatable .str     { background: #CC4040; }\n",
       ".datatable .time    { background: #40CC40; }\n",
       ".datatable .row_index {  background: var(--jp-border-color3);  border-right: 1px solid var(--jp-border-color0);  color: var(--jp-ui-font-color3);  font-size: 9px;}\n",
       ".datatable .frame tbody td { text-align: left; }\n",
       ".datatable .frame tr.coltypes .row_index {  background: var(--jp-border-color0);}\n",
       ".datatable th:nth-child(2) { padding-left: 12px; }\n",
       ".datatable .hellipsis {  color: var(--jp-cell-editor-border-color);}\n",
       ".datatable .vellipsis {  background: var(--jp-layout-color0);  color: var(--jp-cell-editor-border-color);}\n",
       ".datatable .na {  color: var(--jp-cell-editor-border-color);  font-size: 80%;}\n",
       ".datatable .sp {  opacity: 0.25;}\n",
       ".datatable .footer { font-size: 9px; }\n",
       ".datatable .frame_dimensions {  background: var(--jp-border-color3);  border-top: 1px solid var(--jp-border-color0);  color: var(--jp-ui-font-color3);  display: inline-block;  opacity: 0.6;  padding: 1px 10px 1px 5px;}\n",
       "</style>\n"
      ],
      "text/plain": [
       "<IPython.core.display.HTML object>"
      ]
     },
     "metadata": {},
     "output_type": "display_data"
    }
   ],
   "source": [
    "import logging\n",
    "import time\n",
    "import warnings\n",
    "\n",
    "import catboost as cb\n",
    "import datatable as dt\n",
    "import joblib\n",
    "import lightgbm as lgbm\n",
    "import matplotlib.pyplot as plt\n",
    "import numpy as np\n",
    "import optuna\n",
    "import pandas as pd\n",
    "import seaborn as sns\n",
    "import shap\n",
    "import umap\n",
    "import umap.plot\n",
    "import xgboost as xgb\n",
    "from optuna.samplers import TPESampler\n",
    "from sklearn.compose import *\n",
    "from sklearn.impute import *\n",
    "from sklearn.metrics import *\n",
    "from sklearn.model_selection import *\n",
    "from sklearn.pipeline import Pipeline, make_pipeline\n",
    "from sklearn.preprocessing import *\n",
    "\n",
    "logging.basicConfig(\n",
    "    format=\"%(asctime)s - %(message)s\", datefmt=\"%d-%b-%y %H:%M:%S\", level=logging.INFO\n",
    ")\n",
    "optuna.logging.set_verbosity(optuna.logging.WARNING)\n",
    "warnings.filterwarnings(\"ignore\")\n",
    "pd.set_option(\"float_format\", \"{:.5f}\".format)"
   ]
  },
  {
   "cell_type": "markdown",
   "id": "c7f550fb-264b-49bf-b4e9-de8dfdb64f83",
   "metadata": {},
   "source": [
    "# Introduction"
   ]
  },
  {
   "cell_type": "markdown",
   "id": "fc598efc-d709-4e6e-aff3-feeea742a435",
   "metadata": {},
   "source": [
    "According to the [2020 Kaggle Machine Learning & Data Science survey](https://www.kaggle.com/c/kaggle-survey-2020), Matplotlib is the number one data visualization library among Kagglers, leading by a significant margin.\n",
    "\n",
    "![](https://www.kaggleusercontent.com/kf/49771226/eyJhbGciOiJkaXIiLCJlbmMiOiJBMTI4Q0JDLUhTMjU2In0..pH1R3fbJtdAYOX903yXtZQ.j_PASYffqDiaUm_rgXHjJ0VnLdbJvTlzcS9fP5aPpXQuANe8F7iHjrk0vD-B026nWpn6R9kHZJMO-ysdQqUap4gBdYrFq3wOv6kvl7SSZKwzfRoNGejK5p7zK3hT21XRfT7ZrXfS-5FTxkLhuwJb8eAVki_VBu5R9P3T_YwcLSBnqJxAuMt7ccayvsy-i3KaY4j-5v2SqVdijs6Tqe5tBMh6jUf4ApTpawfPeijmMZ4ggpgB994-spR6NIYLciKxgB0y0GdFWVckL0feR0831HwU3ZD3cc-BLgbq6-x8Jmu8gwFB1u5BwbEdmfVq9kloSsowF8x0qpXGTL4k1bX_2cOBhpLiiD4DH5rBJ7IPXWK3BIm4Zqbuv40YN1mtBRQVZL7klA9pbjOJ_TPuLNhz3ysAiRygcxyBr9zXTnEWAKmCkXpmvUdcqTQQdo3VakCLHbJNDFc61VoEyZ1A9Z5_W3snV8MDtOSa92pk0Mc8bb9jT4hpG8V5iTVHvrmHPiHwl5iO5mKragUxQ8jP8qFekhXum-6WM-s3xIfMgyBGsfM97Hhjo-vtB-6lD5w56KqjJ4g45gMrItVVfWFybIElVcctnRnDO3GUo_igAmhXp5ojuA-jjhMQCw2inmhvCkZcJmKNP4yWqfvOXzdQASFo5gQcWxuJhLcd4eng8yDBTSk.q9zZgM9KxJgyeO6DzBhu2g/__results___files/__results___46_0.png)"
   ]
  },
  {
   "cell_type": "markdown",
   "id": "f482186e-3efa-4360-98c0-7d9d1e6dc050",
   "metadata": {},
   "source": [
    "Recently, many courses and tutorials have been drawing beginner scientists' attention to new, shiny, interactive libraries like Plotly but it does not change the truth. Matplotlib is the king of data visualization libraries and it will continue to be so for the foreseeable future. \n",
    "\n",
    "Therefore, it is highly recommended that you learn it, especially beyond the basics, because the power of Matplolib becomes more evident when you tap into its more advanced features. In this tutorial, we will cover some of them and give a solid introduction to the Object-oriented interface of Matplotlib."
   ]
  },
  {
   "cell_type": "markdown",
   "id": "c61531e5-50dc-4270-aa2e-ab43d781859d",
   "metadata": {},
   "source": [
    "# Matplotlib OOP basics"
   ]
  },
  {
   "cell_type": "markdown",
   "id": "62959bb1-f0f3-47b5-ae72-da211c5f16e6",
   "metadata": {},
   "source": [
    "When you first learn Matplotlib, you probably start using the library through its PyPlot interface. It is specifically designed for beginners because it is more user-friendly, requires less code to create visuals. However, its features fall short when you want to perform advanced customizations on your graphs. That's where the Object-oriented API comes into the play.\n",
    "\n",
    "Under the hood, Matplotlib consists of base classes called **artists**."
   ]
  },
  {
   "cell_type": "markdown",
   "id": "ea8c9382-0bf8-4bc7-8dda-09915fd9a752",
   "metadata": {},
   "source": [
    "![](https://matplotlib.org/stable/_images/sphx_glr_anatomy_001.png)"
   ]
  },
  {
   "cell_type": "markdown",
   "id": "7f57554d-5732-4f3a-bc8c-075c73ef2da4",
   "metadata": {},
   "source": [
    "Each circle-annotated component in the above graph is a separate class that inherits from the base artists. Having unique classes for each component of a visual gives Matplotlib users a ton of flexibility. Basically, this means that you can tweak every little line, dot, text or object visible on the plot. \n",
    "\n",
    "In the next sections, we will learn about the most important of these classes, starting with figure and axes objects."
   ]
  },
  {
   "cell_type": "markdown",
   "id": "c3b916a2-10bd-4bbe-b677-2f9bb466644c",
   "metadata": {},
   "source": [
    "# Figure and axes objects"
   ]
  },
  {
   "cell_type": "markdown",
   "id": "081bf3e4-26d5-441c-9362-7c79ddbd318a",
   "metadata": {},
   "source": [
    "Let's first import Matplotlib and its submodules:"
   ]
  },
  {
   "cell_type": "code",
   "execution_count": 3,
   "id": "2895d571-a512-46c0-b0d7-0410ca52c038",
   "metadata": {},
   "outputs": [],
   "source": [
    "import matplotlib as mpl  # pip install matplotlib\n",
    "import matplotlib.pyplot as plt"
   ]
  },
  {
   "cell_type": "markdown",
   "id": "e7dd4543-cc1e-4854-98ad-2e1b3a6cb820",
   "metadata": {},
   "source": [
    "Next, we create a figure and an axes object using the `subplots` function:"
   ]
  },
  {
   "cell_type": "code",
   "execution_count": 4,
   "id": "e699732d-ac45-45ec-b607-8eb7c7536695",
   "metadata": {},
   "outputs": [
    {
     "data": {
      "image/png": "[encoded data removed]",
      "text/plain": [
       "<Figure size 432x288 with 1 Axes>"
      ]
     },
     "metadata": {
      "needs_background": "light"
     },
     "output_type": "display_data"
    }
   ],
   "source": [
    "fig, ax = plt.subplots()"
   ]
  },
  {
   "cell_type": "markdown",
   "id": "f9264bc7-781e-4f64-99be-5f150fae88c7",
   "metadata": {},
   "source": [
    "Now, let's explain what these objects do. \n",
    "\n",
    "`fig` (figure) is the highest-level artist, an object that contains everything. Think of it as the canvas you can draw on. An axes object (`ax`) represents a single set of XY coordinates systems. All Matplotlib plots require a coordinate system, so you need to create at least one figure and one axes object to draw charts. \n",
    "\n",
    "`plt.subplots` is a shorthand for doing this - it creates a single figure and one or more axes objects in a single line of code. A more verbose version of this would be like this:"
   ]
  },
  {
   "cell_type": "code",
   "execution_count": 6,
   "id": "0a9a1a4c-c97d-4f09-a25d-dfeee9f90a60",
   "metadata": {},
   "outputs": [
    {
     "data": {
      "text/plain": [
       "<Figure size 432x288 with 0 Axes>"
      ]
     },
     "metadata": {},
     "output_type": "display_data"
    }
   ],
   "source": [
    "fig = plt.figure()\n",
    "ax1 = fig.add_axes()"
   ]
  },
  {
   "cell_type": "markdown",
   "id": "e19d3191-4c32-47f8-a79b-3ac69be5627f",
   "metadata": {},
   "source": [
    "Since this version requires more code, people usually stick to `subplots`. Besides, you can pass extra arguments to create multiple axes objects simultaneously:"
   ]
  },
  {
   "cell_type": "code",
   "execution_count": 7,
   "id": "e2f0b1cc-5168-4f44-acea-66f0fa7ec70d",
   "metadata": {},
   "outputs": [
    {
     "data": {
      "image/png": "[encoded data removed]",
      "text/plain": [
       "<Figure size 432x288 with 3 Axes>"
      ]
     },
     "metadata": {
      "needs_background": "light"
     },
     "output_type": "display_data"
    }
   ],
   "source": [
    "fig, axes = plt.subplots(nrows=1, ncols=3)"
   ]
  },
  {
   "cell_type": "markdown",
   "id": "a656dd52-d08a-44c5-856e-10a2b9c38e6b",
   "metadata": {},
   "source": [
    "By changing the `nrows` and `ncols` arguments, you create a set of subplots - multiple axes objects which are stored in `axes`. You can access each one by using a loop or indexing operators. You can learn how to use the `subplots` function in-depth from its [documentation](https://matplotlib.org/stable/api/_as_gen/matplotlib.pyplot.subplots.html)."
   ]
  },
  {
   "cell_type": "markdown",
   "id": "bcfd6b3d-aabf-4ac9-aafd-01b8e8dd8cf6",
   "metadata": {},
   "source": [
    "# Plotting functions"
   ]
  },
  {
   "cell_type": "markdown",
   "id": "e990e591-c630-4df7-9baf-bce230aa51b0",
   "metadata": {},
   "source": [
    "When you switch from PyPlot to OOP API, the function names for plots does not change. You just have to call them using the axes object:"
   ]
  },
  {
   "cell_type": "code",
   "execution_count": 14,
   "id": "fc7bb9b9-ef4d-442e-8db4-a03d9be262b7",
   "metadata": {},
   "outputs": [
    {
     "data": {
      "image/png": "[encoded data removed]",
      "text/plain": [
       "<Figure size 432x288 with 1 Axes>"
      ]
     },
     "metadata": {
      "needs_background": "light"
     },
     "output_type": "display_data"
    }
   ],
   "source": [
    "import seaborn as sns\n",
    "\n",
    "tips = sns.load_dataset(\"tips\")\n",
    "\n",
    "fig, ax = plt.subplots()\n",
    "\n",
    "ax.scatter(tips[\"tip\"], tips[\"total_bill\"])\n",
    "ax.set(\n",
    "    title=\"Tip vs. Total Bill amount in a restaurant\",\n",
    "    xlabel=\"Tip ($)\",\n",
    "    ylabel=\"Totalb bill ($)\",\n",
    ");"
   ]
  },
  {
   "cell_type": "markdown",
   "id": "ce3637d5-257f-473d-92d3-0213bf0ab26e",
   "metadata": {},
   "source": [
    "Here, I am introducing the `set` function, which can be used on any Matplotlib object to tweak its properties.\n",
    "\n",
    "The above plot is a bit bland and in no way compares to default scatterplots created by Seaborn:"
   ]
  },
  {
   "cell_type": "code",
   "execution_count": 15,
   "id": "83c39d90-e4af-4245-936c-22e4d44347df",
   "metadata": {},
   "outputs": [
    {
     "data": {
      "image/png": "[encoded data removed]",
      "text/plain": [
       "<Figure size 432x288 with 1 Axes>"
      ]
     },
     "metadata": {
      "needs_background": "light"
     },
     "output_type": "display_data"
    }
   ],
   "source": [
    "sns.scatterplot(tips[\"tip\"], tips[\"total_bill\"]);"
   ]
  },
  {
   "cell_type": "markdown",
   "id": "a554b19d-5c13-4478-9f1c-4d61d727508d",
   "metadata": {},
   "source": [
    "For this reason, I will introduce two extremely flexible functions you can use to customize your plots in the next section."
   ]
  },
  {
   "cell_type": "markdown",
   "id": "d08e774b-186c-46fa-a50a-101151711080",
   "metadata": {},
   "source": [
    "# `get_*` functions"
   ]
  },
  {
   "cell_type": "markdown",
   "id": "77b89ae4-7f25-4f96-90dd-0e2823426e69",
   "metadata": {},
   "source": [
    "Remember how we talked about Matplotlib having separate classes for each plot component? In the next couple sections, we will greatly take advantage of this feature. \n",
    "\n",
    "While customizing my plots, I generally use this workflow:\n",
    "\n",
    "1. Create the basic plot\n",
    "2. Identify weakness of the plot that need customizations\n",
    "3. Extract those weak objects\n",
    "4. Customize them using the `setp` function"
   ]
  },
  {
   "cell_type": "markdown",
   "id": "f5437d8e-7f1c-41e9-9b7a-464f2e6d3a86",
   "metadata": {},
   "source": [
    "Here, we will discuss the 3rd step - how to extract different components of the plot. \n",
    "\n",
    "First, let's create a simple plot:"
   ]
  },
  {
   "cell_type": "code",
   "execution_count": 16,
   "id": "1f9b600e-6a9c-4341-9bbb-f71a73af7dc0",
   "metadata": {},
   "outputs": [
    {
     "data": {
      "image/png": "[encoded data removed]",
      "text/plain": [
       "<Figure size 432x288 with 1 Axes>"
      ]
     },
     "metadata": {
      "needs_background": "light"
     },
     "output_type": "display_data"
    }
   ],
   "source": [
    "fig, ax = plt.subplots()\n",
    "\n",
    "# Create the data to plot\n",
    "X = np.linspace(0.5, 3.5, 100)\n",
    "Y1 = 3 + np.cos(X)\n",
    "Y2 = 1 + np.cos(1 + X / 0.75) / 2\n",
    "Y3 = np.random.uniform(Y1, Y2, len(X))\n",
    "\n",
    "ax.scatter(X, Y3)\n",
    "ax.plot(X, Y1)\n",
    "ax.plot(X, Y2);"
   ]
  },
  {
   "cell_type": "markdown",
   "id": "64dc1de0-18a1-43dd-aa93-ef4bde46e9e9",
   "metadata": {},
   "source": [
    "We used the `subplots` function to create the figure and axes objects but for a moment, let's assume we don't have the axes object. How do we find it?\n",
    "\n",
    "As you remember, we said that the figure object is the highest-level artist that contains everything in the plot. So, we will call `dir` function on the `fig` object to see what methods it has:"
   ]
  },
  {
   "cell_type": "markdown",
   "id": "f3cefb77-10b8-4e9e-8d11-7b9bb3165277",
   "metadata": {},
   "source": [
    "```python\n",
    ">>> dir(fig)\n",
    "\n",
    "[\n",
    " ...\n",
    " 'gca',\n",
    " 'get_agg_filter',\n",
    " 'get_alpha',\n",
    " 'get_animated',\n",
    " 'get_axes',\n",
    " 'get_dpi',\n",
    " 'get_edgecolor',\n",
    " 'get_facecolor',\n",
    " 'get_figheight',\n",
    " 'get_figure',\n",
    " 'get_figwidth',\n",
    " 'get_frameon',\n",
    " 'get_gid',\n",
    " 'get_in_layout'\n",
    " ...\n",
    "]\n",
    "```"
   ]
  },
  {
   "cell_type": "markdown",
   "id": "aaa158af-3e86-42d2-8cb5-f82f4ebec1a0",
   "metadata": {},
   "source": [
    "In the list, we see the `get_axes` method, which is what we need:"
   ]
  },
  {
   "cell_type": "code",
   "execution_count": 17,
   "id": "f638537a-3160-45ad-ad75-fb139c386ec2",
   "metadata": {},
   "outputs": [
    {
     "data": {
      "text/plain": [
       "list"
      ]
     },
     "execution_count": 17,
     "metadata": {},
     "output_type": "execute_result"
    }
   ],
   "source": [
    "axes = fig.get_axes()\n",
    "\n",
    "type(axes)"
   ]
  },
  {
   "cell_type": "code",
   "execution_count": 18,
   "id": "8e02ca56-3283-4cb3-9e8d-d9059cecfcdf",
   "metadata": {},
   "outputs": [
    {
     "data": {
      "text/plain": [
       "1"
      ]
     },
     "execution_count": 18,
     "metadata": {},
     "output_type": "execute_result"
    }
   ],
   "source": [
    "len(axes)"
   ]
  },
  {
   "cell_type": "markdown",
   "id": "e1d74267-47c7-42b3-bf52-242585c1323f",
   "metadata": {},
   "source": [
    "The result we get from `get_axes` is a list containing a single axes object we created in the above plot. \n",
    "\n",
    "The axes example serves as a proof that everything in Matplotlib is just a class. A single plot contains several components implement as separate classes and each of those components can have one or more sub-classes. All of them have one thing in common - you can extract those classes or sub-classes using the relevant `get_*` functions. You just have to know their names.\n",
    "\n",
    "What do you do once you extract those objects? You tweak them!"
   ]
  },
  {
   "cell_type": "markdown",
   "id": "0e4ad1dc-346c-487b-a9d8-2a41961b4938",
   "metadata": {},
   "source": [
    "# `plt.getp` and `plt.setp` functions"
   ]
  },
  {
   "cell_type": "markdown",
   "id": "6e376d93-c666-46d8-b500-ea98ca67d748",
   "metadata": {},
   "source": [
    "To tweak the properties of any component, you have to know what arguments it has and what values each argument receives. You will be working with many objects, so visiting the documentation every time can become tiresome. \n",
    "\n",
    "Fortunately, Matplotlib creators even thought of this issue. Once you extract the relevant object, you can see what parameters it accepts using the `plt.getp` function. For example, let's see the properties of the axes object:"
   ]
  },
  {
   "cell_type": "markdown",
   "id": "436bd8c8-e6e0-47c5-84a9-c49cdf3f5d10",
   "metadata": {},
   "source": [
    "```python\n",
    "fig, _ = plt.subplots()\n",
    "\n",
    "ax = fig.get_axes()[0]\n",
    "\n",
    ">>> plt.getp(ax)\n",
    "    ...\n",
    "    xlabel = \n",
    "    xlim = (0.0, 1.0)\n",
    "    xmajorticklabels = [Text(0, 0, ''), Text(0, 0, ''), Text(0, 0, ''), T...\n",
    "    xminorticklabels = []\n",
    "    xscale = linear\n",
    "    xticklabels = [Text(0, 0, ''), Text(0, 0, ''), Text(0, 0, ''), T...\n",
    "    xticklines = <a list of 12 Line2D ticklines objects>\n",
    "    xticks = [0.  0.2 0.4 0.6 0.8 1. ]\n",
    "    yaxis = YAxis(54.0,36.0)\n",
    "    yaxis_transform = BlendedGenericTransform(     BboxTransformTo(     ...\n",
    "    ybound = (0.0, 1.0)\n",
    "    ygridlines = <a list of 6 Line2D gridline objects>\n",
    "    ylabel = \n",
    "    ylim = (0.0, 1.0)\n",
    "    ymajorticklabels = [Text(0, 0, ''), Text(0, 0, ''), Text(0, 0, ''), T...\n",
    "    yminorticklabels = []\n",
    "    yscale = linear\n",
    "    ...\n",
    "```"
   ]
  },
  {
   "cell_type": "markdown",
   "id": "fce9384a-373c-423f-90b9-345854f7f918",
   "metadata": {},
   "source": [
    "As you can see, the `getp` functions lists all properties of the object it was called on displaying their current or default values. We can do the same for the `fig` object:"
   ]
  },
  {
   "cell_type": "markdown",
   "id": "a57b0f40-bda9-40d1-869e-160ef456dfeb",
   "metadata": {},
   "source": [
    "```python\n",
    ">>> plt.getp(fig)\n",
    "    ...\n",
    "    constrained_layout_pads = (0.04167, 0.04167, 0.02, 0.02)\n",
    "    contains = None\n",
    "    default_bbox_extra_artists = [<AxesSubplot:>, <matplotlib.spines.Spine object a...\n",
    "    dpi = 72.0\n",
    "    edgecolor = (1.0, 1.0, 1.0, 0.0)\n",
    "    facecolor = (1.0, 1.0, 1.0, 0.0)\n",
    "    figheight = 4.0\n",
    "    figure = Figure(432x288)\n",
    "    figwidth = 6.0\n",
    "    frameon = True\n",
    "    gid = None\n",
    "    in_layout = True\n",
    "    label = \n",
    "    linewidth = 0.0\n",
    "    path_effects = []\n",
    "    ...\n",
    "```"
   ]
  },
  {
   "cell_type": "markdown",
   "id": "defd3bd2-032e-430e-a76f-6905cf7fcfa0",
   "metadata": {},
   "source": [
    "Once you identify which parameters you want to change, you have to know what range of values they receive. For this, you can use the `plt.setp` function. For example, let's say we want to change the `yscale` parameter of the axis object. To see the possible values it accepts, we pass both the axes object and the name of the parameter to `plt.setp`:"
   ]
  },
  {
   "cell_type": "code",
   "execution_count": 21,
   "id": "8fa354af-1eab-40f3-97f8-c7704446fec2",
   "metadata": {},
   "outputs": [
    {
     "name": "stdout",
     "output_type": "stream",
     "text": [
      "  yscale: {\"linear\", \"log\", \"symlog\", \"logit\", ...} or `.ScaleBase`\n"
     ]
    }
   ],
   "source": [
    "plt.setp(ax, \"yscale\")"
   ]
  },
  {
   "cell_type": "markdown",
   "id": "d66f7e53-3dde-4b5b-9ba9-e226694108f1",
   "metadata": {},
   "source": [
    "As we see, `yscale` accepts 5 possible values. That's much faster than digging through the large docs of Matplotlib.\n",
    "\n",
    "The `setp` function is very flexible. Passing just the object without any other parameters will list that object's all parameters displaying their possible values:"
   ]
  },
  {
   "cell_type": "markdown",
   "id": "2145bf58-8e3f-413e-95a1-d064e2c0ec61",
   "metadata": {},
   "source": [
    "```python\n",
    ">>> plt.setp(ax)\n",
    "  ...\n",
    "  xlabel: str\n",
    "  xlim: (bottom: float, top: float)\n",
    "  xmargin: float greater than -0.5\n",
    "  xscale: {\"linear\", \"log\", \"symlog\", \"logit\", ...} or `.ScaleBase`\n",
    "  xticklabels: unknown\n",
    "  xticks: unknown\n",
    "  ybound: unknown\n",
    "  ylabel: str\n",
    "  ylim: (bottom: float, top: float)\n",
    "  ymargin: float greater than -0.5\n",
    "  yscale: {\"linear\", \"log\", \"symlog\", \"logit\", ...} or `.ScaleBase`\n",
    "  yticklabels: unknown\n",
    "  yticks: unknown\n",
    "  zorder: float\n",
    "  ...\n",
    "```"
   ]
  },
  {
   "cell_type": "markdown",
   "id": "8b20387b-90ce-4d9e-9b08-e7650d52177a",
   "metadata": {},
   "source": [
    "Now that we know what parameters we want to change and what values we want to pass to them, we can use the `set` or `plt.setp` functions:"
   ]
  },
  {
   "cell_type": "code",
   "execution_count": 24,
   "id": "dddad9dd-3d13-4cc7-bcef-177d4ed6eec9",
   "metadata": {},
   "outputs": [
    {
     "name": "stdout",
     "output_type": "stream",
     "text": [
      "  agg_filter: a filter function, which takes a (m, n, 3) float array and a dpi value, and returns a (m, n, 3) array\n",
      "  alpha: scalar or None\n",
      "  animated: bool\n",
      "  canvas: FigureCanvas\n",
      "  clip_box: `.Bbox`\n",
      "  clip_on: bool\n",
      "  clip_path: Patch or (Path, Transform) or None\n",
      "  constrained_layout: bool or dict or None\n",
      "  constrained_layout_pads: unknown\n",
      "  contains: unknown\n",
      "  dpi: float\n",
      "  edgecolor: color\n",
      "  facecolor: color\n",
      "  figheight: float\n",
      "  figure: `.Figure`\n",
      "  figwidth: float\n",
      "  frameon: bool\n",
      "  gid: str\n",
      "  in_layout: bool\n",
      "  label: object\n",
      "  linewidth: number\n",
      "  path_effects: `.AbstractPathEffect`\n",
      "  picker: None or bool or float or callable\n",
      "  rasterized: bool\n",
      "  size_inches: (float, float) or float\n",
      "  sketch_params: (scale: float, length: float, randomness: float)\n",
      "  snap: bool or None\n",
      "  tight_layout: bool or dict with keys \"pad\", \"w_pad\", \"h_pad\", \"rect\" or None\n",
      "  transform: `.Transform`\n",
      "  url: str\n",
      "  visible: bool\n",
      "  zorder: float\n"
     ]
    }
   ],
   "source": [
    "plt.setp(fig)"
   ]
  },
  {
   "cell_type": "code",
   "execution_count": 26,
   "id": "1b9e544f-2963-4121-9b61-bbc33b286e68",
   "metadata": {},
   "outputs": [
    {
     "data": {
      "image/png": "[encoded data removed]",
      "text/plain": [
       "<Figure size 720x720 with 1 Axes>"
      ]
     },
     "metadata": {
      "needs_background": "light"
     },
     "output_type": "display_data"
    }
   ],
   "source": [
    "fig, ax = plt.subplots()\n",
    "\n",
    "# Using `set`\n",
    "ax.set(yscale=\"log\", xlabel=\"X Axis\", ylabel=\"Y Axis\", title=\"Large Title\")\n",
    "\n",
    "# Using setp\n",
    "plt.setp(ax, yscale=\"log\", xlabel=\"X Axis\", ylabel=\"Y Axis\", title=\"Large Title\")\n",
    "\n",
    "plt.setp(fig, size_inches=(10, 10));"
   ]
  },
  {
   "cell_type": "markdown",
   "id": "8aebe7f9-0dac-4d2a-a595-2278c8dd7266",
   "metadata": {},
   "source": [
    "# Line2D object"
   ]
  },
  {
   "cell_type": "markdown",
   "id": "c784ecda-56fa-475c-8620-be1c0b76505e",
   "metadata": {},
   "source": [
    "The most common figures in any plot are lines and dots. Almost all plots such as bars, boxplots, histograms, scatterplots, etc. use rectangles, hence lines. \n",
    "\n",
    "For this reason, Matplotlib implements a global base class for drawing lines - the `Line2D` class. In practice, you never use it directly but it gets called every time Matplotlib draws a line - either as a plot or as part of some geometric figure. \n",
    "\n",
    "As many other classes inherit from this one, it is very beneficial to learn its properties:"
   ]
  },
  {
   "cell_type": "code",
   "execution_count": 29,
   "id": "9c877d04-f02a-4ddc-85c4-51188155d0e0",
   "metadata": {},
   "outputs": [],
   "source": [
    "from matplotlib.lines import Line2D\n",
    "\n",
    "xs = [1, 2, 3, 4]\n",
    "ys = [1, 2, 3, 4]"
   ]
  },
  {
   "cell_type": "markdown",
   "id": "228e6afe-2e8f-40fc-bca5-07d6c756e262",
   "metadata": {},
   "source": [
    "```python\n",
    ">>> plt.setp(Line2D(xs, ys))\n",
    "  ...\n",
    "  dash_capstyle: `.CapStyle` or {'butt', 'projecting', 'round'}\n",
    "  dash_joinstyle: `.JoinStyle` or {'miter', 'round', 'bevel'}\n",
    "  dashes: sequence of floats (on/off ink in points) or (None, None)\n",
    "  data: (2, N) array or two 1D arrays\n",
    "  drawstyle or ds: {'default', 'steps', 'steps-pre', 'steps-mid', 'steps-post'}, default: 'default'\n",
    "  figure: `.Figure`\n",
    "  fillstyle: {'full', 'left', 'right', 'bottom', 'top', 'none'}\n",
    "  gid: str\n",
    "  in_layout: bool\n",
    "  label: object\n",
    "  linestyle or ls: {'-', '--', '-.', ':', '', (offset, on-off-seq), ...}\n",
    "  linewidth or lw: float\n",
    "  ...\n",
    "```"
   ]
  },
  {
   "cell_type": "markdown",
   "id": "8ff8da9d-3efe-4e30-be80-f46015bb4bc2",
   "metadata": {},
   "source": [
    "I recommend paying attention to the `linestyle`, `width` and `color` arguments as these are used the most. "
   ]
  },
  {
   "cell_type": "markdown",
   "id": "1c1b50bf-8d01-4c65-87cc-d4980dc2df43",
   "metadata": {
    "tags": []
   },
   "source": [
    "# Customizing axis ticks"
   ]
  },
  {
   "cell_type": "markdown",
   "id": "fea68877-d795-48e7-9dbd-5d50f78fdac2",
   "metadata": {},
   "source": [
    "# Working with legends"
   ]
  },
  {
   "cell_type": "markdown",
   "id": "808c2960-8cf6-461e-a0a5-413ff01b55c6",
   "metadata": {
    "jp-MarkdownHeadingCollapsed": true,
    "tags": []
   },
   "source": [
    "# Summary"
   ]
  }
 ],
 "metadata": {
  "kernelspec": {
   "display_name": "medium_articles",
   "language": "python",
   "name": "medium_articles"
  },
  "language_info": {
   "codemirror_mode": {
    "name": "ipython",
    "version": 3
   },
   "file_extension": ".py",
   "mimetype": "text/x-python",
   "name": "python",
   "nbconvert_exporter": "python",
   "pygments_lexer": "ipython3",
   "version": "3.8.11"
  }
 },
 "nbformat": 4,
 "nbformat_minor": 5
}
