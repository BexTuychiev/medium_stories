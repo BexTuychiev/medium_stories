{
 "cells": [
  {
   "cell_type": "markdown",
   "id": "ed93c157-d793-4d7b-9e49-5296697c4a91",
   "metadata": {},
   "source": [
    "# Visualizing Data in Python With Matplotlib: Advanced Concepts\n"
   ]
  },
  {
   "cell_type": "markdown",
   "id": "5807130b-8b24-4953-8b83-33f04f9a5399",
   "metadata": {},
   "source": [
    "# Setup"
   ]
  },
  {
   "cell_type": "code",
   "execution_count": 1,
   "id": "3f87e48f-ecf6-40d0-95cb-e6860d994ec8",
   "metadata": {},
   "outputs": [
    {
     "data": {
      "text/html": [
       "<style type='text/css'>\n",
       ".datatable table.frame { margin-bottom: 0; }\n",
       ".datatable table.frame thead { border-bottom: none; }\n",
       ".datatable table.frame tr.coltypes td {  color: #FFFFFF;  line-height: 6px;  padding: 0 0.5em;}\n",
       ".datatable .bool    { background: #DDDD99; }\n",
       ".datatable .object  { background: #565656; }\n",
       ".datatable .int     { background: #5D9E5D; }\n",
       ".datatable .float   { background: #4040CC; }\n",
       ".datatable .str     { background: #CC4040; }\n",
       ".datatable .time    { background: #40CC40; }\n",
       ".datatable .row_index {  background: var(--jp-border-color3);  border-right: 1px solid var(--jp-border-color0);  color: var(--jp-ui-font-color3);  font-size: 9px;}\n",
       ".datatable .frame tbody td { text-align: left; }\n",
       ".datatable .frame tr.coltypes .row_index {  background: var(--jp-border-color0);}\n",
       ".datatable th:nth-child(2) { padding-left: 12px; }\n",
       ".datatable .hellipsis {  color: var(--jp-cell-editor-border-color);}\n",
       ".datatable .vellipsis {  background: var(--jp-layout-color0);  color: var(--jp-cell-editor-border-color);}\n",
       ".datatable .na {  color: var(--jp-cell-editor-border-color);  font-size: 80%;}\n",
       ".datatable .sp {  opacity: 0.25;}\n",
       ".datatable .footer { font-size: 9px; }\n",
       ".datatable .frame_dimensions {  background: var(--jp-border-color3);  border-top: 1px solid var(--jp-border-color0);  color: var(--jp-ui-font-color3);  display: inline-block;  opacity: 0.6;  padding: 1px 10px 1px 5px;}\n",
       "</style>\n"
      ],
      "text/plain": [
       "<IPython.core.display.HTML object>"
      ]
     },
     "metadata": {},
     "output_type": "display_data"
    }
   ],
   "source": [
    "import logging\n",
    "import time\n",
    "import warnings\n",
    "\n",
    "import catboost as cb\n",
    "import datatable as dt\n",
    "import joblib\n",
    "import lightgbm as lgbm\n",
    "import matplotlib.pyplot as plt\n",
    "import numpy as np\n",
    "import optuna\n",
    "import pandas as pd\n",
    "import seaborn as sns\n",
    "import shap\n",
    "import umap\n",
    "import umap.plot\n",
    "import xgboost as xgb\n",
    "from optuna.samplers import TPESampler\n",
    "from sklearn.compose import *\n",
    "from sklearn.impute import *\n",
    "from sklearn.metrics import *\n",
    "from sklearn.model_selection import *\n",
    "from sklearn.pipeline import Pipeline, make_pipeline\n",
    "from sklearn.preprocessing import *\n",
    "\n",
    "logging.basicConfig(\n",
    "    format=\"%(asctime)s - %(message)s\", datefmt=\"%d-%b-%y %H:%M:%S\", level=logging.INFO\n",
    ")\n",
    "optuna.logging.set_verbosity(optuna.logging.WARNING)\n",
    "warnings.filterwarnings(\"ignore\")\n",
    "pd.set_option(\"float_format\", \"{:.5f}\".format)"
   ]
  },
  {
   "cell_type": "markdown",
   "id": "c7f550fb-264b-49bf-b4e9-de8dfdb64f83",
   "metadata": {},
   "source": [
    "# Introduction"
   ]
  },
  {
   "cell_type": "markdown",
   "id": "fc598efc-d709-4e6e-aff3-feeea742a435",
   "metadata": {},
   "source": [
    "According to the [2020 Kaggle Machine Learning & Data Science survey](https://www.kaggle.com/c/kaggle-survey-2020), Matplotlib is the number one data visualization library among Kagglers, leading by a significant margin.\n",
    "\n",
    "![](https://www.kaggleusercontent.com/kf/49771226/eyJhbGciOiJkaXIiLCJlbmMiOiJBMTI4Q0JDLUhTMjU2In0..pH1R3fbJtdAYOX903yXtZQ.j_PASYffqDiaUm_rgXHjJ0VnLdbJvTlzcS9fP5aPpXQuANe8F7iHjrk0vD-B026nWpn6R9kHZJMO-ysdQqUap4gBdYrFq3wOv6kvl7SSZKwzfRoNGejK5p7zK3hT21XRfT7ZrXfS-5FTxkLhuwJb8eAVki_VBu5R9P3T_YwcLSBnqJxAuMt7ccayvsy-i3KaY4j-5v2SqVdijs6Tqe5tBMh6jUf4ApTpawfPeijmMZ4ggpgB994-spR6NIYLciKxgB0y0GdFWVckL0feR0831HwU3ZD3cc-BLgbq6-x8Jmu8gwFB1u5BwbEdmfVq9kloSsowF8x0qpXGTL4k1bX_2cOBhpLiiD4DH5rBJ7IPXWK3BIm4Zqbuv40YN1mtBRQVZL7klA9pbjOJ_TPuLNhz3ysAiRygcxyBr9zXTnEWAKmCkXpmvUdcqTQQdo3VakCLHbJNDFc61VoEyZ1A9Z5_W3snV8MDtOSa92pk0Mc8bb9jT4hpG8V5iTVHvrmHPiHwl5iO5mKragUxQ8jP8qFekhXum-6WM-s3xIfMgyBGsfM97Hhjo-vtB-6lD5w56KqjJ4g45gMrItVVfWFybIElVcctnRnDO3GUo_igAmhXp5ojuA-jjhMQCw2inmhvCkZcJmKNP4yWqfvOXzdQASFo5gQcWxuJhLcd4eng8yDBTSk.q9zZgM9KxJgyeO6DzBhu2g/__results___files/__results___46_0.png)"
   ]
  },
  {
   "cell_type": "markdown",
   "id": "f482186e-3efa-4360-98c0-7d9d1e6dc050",
   "metadata": {},
   "source": [
    "Recently, many courses and tutorials have been drawing beginner scientists' attention to new, shiny, interactive libraries like Plotly but it does not change the truth. Matplotlib is the king of data visualization libraries and it will continue to be so for the foreseeable future. \n",
    "\n",
    "Therefore, it is highly recommended that you learn it, especially beyond the basics, because the power of Matplolib becomes more evident when you tap into its more advanced features. In this tutorial, we will cover some of these features and give a solid introduction to the Object-oriented interface of Matplotlib."
   ]
  },
  {
   "cell_type": "markdown",
   "id": "c61531e5-50dc-4270-aa2e-ab43d781859d",
   "metadata": {},
   "source": [
    "# Matplotlib OOP basics"
   ]
  },
  {
   "cell_type": "markdown",
   "id": "62959bb1-f0f3-47b5-ae72-da211c5f16e6",
   "metadata": {},
   "source": [
    "When you first learn Matplotlib, you probably start using the library with through its PyPlot interface. It is specifically designed for beginners because it is more user-friendly, requires less code to create visuals. However, its features fall short when you want to perform advanced customizations on your graphs. That's where the Object-oriented API comes into the play.\n",
    "\n",
    "Under the hood, Matplotlib consists of base classes called artists."
   ]
  },
  {
   "cell_type": "markdown",
   "id": "ea8c9382-0bf8-4bc7-8dda-09915fd9a752",
   "metadata": {},
   "source": [
    "![](https://matplotlib.org/stable/_images/sphx_glr_anatomy_001.png)"
   ]
  },
  {
   "cell_type": "markdown",
   "id": "7f57554d-5732-4f3a-bc8c-075c73ef2da4",
   "metadata": {},
   "source": [
    "Each circle-annotated component in the above graph is a separate class that inherits from the base artists. Having unique classes for each component of a visual gives Matplotlib users a ton of flexibility. Basically, this means that you can tweak every little line, dot, text or object visible on the plot. \n",
    "\n",
    "In the next sections, we will learn about the most important of these classes, starting with figure and axes objects."
   ]
  },
  {
   "cell_type": "markdown",
   "id": "c3b916a2-10bd-4bbe-b677-2f9bb466644c",
   "metadata": {},
   "source": [
    "# Figure and axes objects"
   ]
  },
  {
   "cell_type": "markdown",
   "id": "081bf3e4-26d5-441c-9362-7c79ddbd318a",
   "metadata": {},
   "source": [
    "Let's first import Matplotlib and its submodules:"
   ]
  },
  {
   "cell_type": "code",
   "execution_count": 3,
   "id": "2895d571-a512-46c0-b0d7-0410ca52c038",
   "metadata": {},
   "outputs": [],
   "source": [
    "import matplotlib as mpl  # pip install matplotlib\n",
    "import matplotlib.pyplot as plt"
   ]
  },
  {
   "cell_type": "markdown",
   "id": "e7dd4543-cc1e-4854-98ad-2e1b3a6cb820",
   "metadata": {},
   "source": [
    "Next, we create a figure and an axes object using the `subplots` function:"
   ]
  },
  {
   "cell_type": "code",
   "execution_count": 4,
   "id": "e699732d-ac45-45ec-b607-8eb7c7536695",
   "metadata": {},
   "outputs": [
    {
     "data": {
      "image/png": "[encoded data removed]",
      "text/plain": [
       "<Figure size 432x288 with 1 Axes>"
      ]
     },
     "metadata": {
      "needs_background": "light"
     },
     "output_type": "display_data"
    }
   ],
   "source": [
    "fig, ax = plt.subplots()"
   ]
  },
  {
   "cell_type": "markdown",
   "id": "f9264bc7-781e-4f64-99be-5f150fae88c7",
   "metadata": {},
   "source": [
    "Now, let's explain what these objects do. \n",
    "\n",
    "`fig` (figure) is the highest-level artist, an object that contains everything. Think of it as the canvas you can draw on. An axes object (`ax`) represents a single set of XY coordinates systems. All Matplotlib plots require a coordinate system, so you need to create at least one figure and one axes object to draw charts. \n",
    "\n",
    "`plt.subplots` is a shorthand for doing this - it creates a single figure and one or more axes objects in a single line of code. A more verbose version of this would be like this:"
   ]
  },
  {
   "cell_type": "code",
   "execution_count": 6,
   "id": "0a9a1a4c-c97d-4f09-a25d-dfeee9f90a60",
   "metadata": {},
   "outputs": [
    {
     "data": {
      "text/plain": [
       "<Figure size 432x288 with 0 Axes>"
      ]
     },
     "metadata": {},
     "output_type": "display_data"
    }
   ],
   "source": [
    "fig = plt.figure()\n",
    "ax1 = fig.add_axes()"
   ]
  },
  {
   "cell_type": "markdown",
   "id": "e19d3191-4c32-47f8-a79b-3ac69be5627f",
   "metadata": {},
   "source": [
    "Since this version requires more code, people usually stick to `subplots`. Besides, you can pass extra arguments to create multiple axes objects in a single figure simultaneously:"
   ]
  },
  {
   "cell_type": "code",
   "execution_count": 7,
   "id": "e2f0b1cc-5168-4f44-acea-66f0fa7ec70d",
   "metadata": {},
   "outputs": [
    {
     "data": {
      "image/png": "[encoded data removed]",
      "text/plain": [
       "<Figure size 432x288 with 3 Axes>"
      ]
     },
     "metadata": {
      "needs_background": "light"
     },
     "output_type": "display_data"
    }
   ],
   "source": [
    "fig, axes = plt.subplots(nrows=1, ncols=3)"
   ]
  },
  {
   "cell_type": "markdown",
   "id": "a656dd52-d08a-44c5-856e-10a2b9c38e6b",
   "metadata": {},
   "source": [
    "By changing the `nrows` and `ncols` arguments, you create a set of subplots - multiple axes objects which are stored in `axes`. You can access each one by using a loop or indexing operators. You can learn how to use the `subplots` function in-depth from its [documentation](https://matplotlib.org/stable/api/_as_gen/matplotlib.pyplot.subplots.html)."
   ]
  },
  {
   "cell_type": "markdown",
   "id": "bcfd6b3d-aabf-4ac9-aafd-01b8e8dd8cf6",
   "metadata": {},
   "source": [
    "# Plotting functions"
   ]
  },
  {
   "cell_type": "markdown",
   "id": "d08e774b-186c-46fa-a50a-101151711080",
   "metadata": {},
   "source": [
    "# `plt.setp` and `plt.getp` functions"
   ]
  },
  {
   "cell_type": "markdown",
   "id": "8aebe7f9-0dac-4d2a-a595-2278c8dd7266",
   "metadata": {},
   "source": [
    "# Line2D object"
   ]
  },
  {
   "cell_type": "code",
   "execution_count": 2,
   "id": "9c877d04-f02a-4ddc-85c4-51188155d0e0",
   "metadata": {},
   "outputs": [],
   "source": [
    "from matplotlib.lines import Line2D"
   ]
  },
  {
   "cell_type": "markdown",
   "id": "1c1b50bf-8d01-4c65-87cc-d4980dc2df43",
   "metadata": {},
   "source": [
    "# Customizing axis ticks"
   ]
  },
  {
   "cell_type": "markdown",
   "id": "fea68877-d795-48e7-9dbd-5d50f78fdac2",
   "metadata": {},
   "source": [
    "# Working with legends"
   ]
  },
  {
   "cell_type": "markdown",
   "id": "808c2960-8cf6-461e-a0a5-413ff01b55c6",
   "metadata": {},
   "source": [
    "# Summary"
   ]
  }
 ],
 "metadata": {
  "kernelspec": {
   "display_name": "medium_articles",
   "language": "python",
   "name": "medium_articles"
  },
  "language_info": {
   "codemirror_mode": {
    "name": "ipython",
    "version": 3
   },
   "file_extension": ".py",
   "mimetype": "text/x-python",
   "name": "python",
   "nbconvert_exporter": "python",
   "pygments_lexer": "ipython3",
   "version": "3.8.11"
  }
 },
 "nbformat": 4,
 "nbformat_minor": 5
}
