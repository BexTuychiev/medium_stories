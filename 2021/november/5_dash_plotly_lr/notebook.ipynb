{
 "cells": [
  {
   "cell_type": "markdown",
   "id": "a7d28cbf-0801-4ba6-be37-1f5c4ef9b820",
   "metadata": {},
   "source": [
    "# Data Visualization Interfaces with Python Dash\n",
    "![](images/pexels.jpg)"
   ]
  },
  {
   "cell_type": "markdown",
   "id": "33090a01-2c8d-4140-827e-ed0c20ba07d3",
   "metadata": {},
   "source": [
    "# Setup"
   ]
  },
  {
   "cell_type": "code",
   "execution_count": 1,
   "id": "51489e21-5c41-440b-9187-e57185936393",
   "metadata": {},
   "outputs": [
    {
     "data": {
      "text/html": [
       "<style type='text/css'>\n",
       ".datatable table.frame { margin-bottom: 0; }\n",
       ".datatable table.frame thead { border-bottom: none; }\n",
       ".datatable table.frame tr.coltypes td {  color: #FFFFFF;  line-height: 6px;  padding: 0 0.5em;}\n",
       ".datatable .bool    { background: #DDDD99; }\n",
       ".datatable .object  { background: #565656; }\n",
       ".datatable .int     { background: #5D9E5D; }\n",
       ".datatable .float   { background: #4040CC; }\n",
       ".datatable .str     { background: #CC4040; }\n",
       ".datatable .time    { background: #40CC40; }\n",
       ".datatable .row_index {  background: var(--jp-border-color3);  border-right: 1px solid var(--jp-border-color0);  color: var(--jp-ui-font-color3);  font-size: 9px;}\n",
       ".datatable .frame tbody td { text-align: left; }\n",
       ".datatable .frame tr.coltypes .row_index {  background: var(--jp-border-color0);}\n",
       ".datatable th:nth-child(2) { padding-left: 12px; }\n",
       ".datatable .hellipsis {  color: var(--jp-cell-editor-border-color);}\n",
       ".datatable .vellipsis {  background: var(--jp-layout-color0);  color: var(--jp-cell-editor-border-color);}\n",
       ".datatable .na {  color: var(--jp-cell-editor-border-color);  font-size: 80%;}\n",
       ".datatable .sp {  opacity: 0.25;}\n",
       ".datatable .footer { font-size: 9px; }\n",
       ".datatable .frame_dimensions {  background: var(--jp-border-color3);  border-top: 1px solid var(--jp-border-color0);  color: var(--jp-ui-font-color3);  display: inline-block;  opacity: 0.6;  padding: 1px 10px 1px 5px;}\n",
       "</style>\n"
      ],
      "text/plain": [
       "<IPython.core.display.HTML object>"
      ]
     },
     "metadata": {},
     "output_type": "display_data"
    }
   ],
   "source": [
    "import logging\n",
    "import time\n",
    "import warnings\n",
    "\n",
    "import catboost as cb\n",
    "import datatable as dt\n",
    "import joblib\n",
    "import lightgbm as lgbm\n",
    "import matplotlib.pyplot as plt\n",
    "import numpy as np\n",
    "import optuna\n",
    "import pandas as pd\n",
    "import seaborn as sns\n",
    "import shap\n",
    "import umap\n",
    "import umap.plot\n",
    "import xgboost as xgb\n",
    "from optuna.samplers import TPESampler\n",
    "from sklearn.compose import *\n",
    "from sklearn.impute import *\n",
    "from sklearn.metrics import *\n",
    "from sklearn.model_selection import *\n",
    "from sklearn.pipeline import Pipeline, make_pipeline\n",
    "from sklearn.preprocessing import *\n",
    "\n",
    "logging.basicConfig(\n",
    "    format=\"%(asctime)s - %(message)s\", datefmt=\"%d-%b-%y %H:%M:%S\", level=logging.INFO\n",
    ")\n",
    "optuna.logging.set_verbosity(optuna.logging.WARNING)\n",
    "warnings.filterwarnings(\"ignore\")\n",
    "pd.set_option(\"float_format\", \"{:.5f}\".format)"
   ]
  },
  {
   "cell_type": "markdown",
   "id": "19cac520-4287-4ddd-89c9-097cd626c58c",
   "metadata": {},
   "source": [
    "# Introduction"
   ]
  },
  {
   "cell_type": "markdown",
   "id": "6416a124-63c1-46c6-a690-9840bee53a97",
   "metadata": {},
   "source": [
    "# Installation"
   ]
  },
  {
   "cell_type": "markdown",
   "id": "74a77553-e8fe-460a-a121-74b03df506f2",
   "metadata": {},
   "source": [
    "Dash can be installed with a single `pip` install. Here, we install `pandas` library as well to work with out datasets:\n",
    "\n",
    "```\n",
    "pip install dash pandas\n",
    "```"
   ]
  },
  {
   "cell_type": "markdown",
   "id": "6f2b3b9f-c15b-4985-af8d-bf7f9f540857",
   "metadata": {},
   "source": [
    "The above command also installs `plotly` data visualization library. Currently, it is one of the hottest graphing libraries in Python ecosystem, mainly for its interactive charts. Plotly and Dash are both created by Plotly Software Foundation, so the libraries work pretty well together. "
   ]
  },
  {
   "cell_type": "markdown",
   "id": "dd23a62c-b1b0-4444-91b8-682ff59c5b03",
   "metadata": {},
   "source": [
    "# Intro to Dash apps"
   ]
  },
  {
   "cell_type": "markdown",
   "id": "f93ee276-e7be-4cd6-9936-2abf24bed78a",
   "metadata": {},
   "source": [
    "# HTML components in Dash"
   ]
  },
  {
   "cell_type": "markdown",
   "id": "f8374cf6-2dfc-40f0-8bd3-95713aea7fcd",
   "metadata": {},
   "source": [
    "# Declaring CSS styles in Dash"
   ]
  },
  {
   "cell_type": "markdown",
   "id": "c964d29e-aef5-4c8e-9569-aa9b6f5eb0d4",
   "metadata": {},
   "source": [
    "# Dash core components"
   ]
  },
  {
   "cell_type": "markdown",
   "id": "ae5e5f9c-d7cd-44be-bb5c-a75cdf3d2ad8",
   "metadata": {
    "tags": []
   },
   "source": [
    "# App layout"
   ]
  },
  {
   "cell_type": "markdown",
   "id": "5a27ad4a-60de-45ab-99a3-18c88cb3d114",
   "metadata": {
    "tags": []
   },
   "source": [
    "# Callbacks basics"
   ]
  },
  {
   "cell_type": "markdown",
   "id": "94447cdd-c3e4-42c4-9162-825a749b534d",
   "metadata": {},
   "source": [
    "# Conclusion"
   ]
  }
 ],
 "metadata": {
  "kernelspec": {
   "display_name": "medium_articles",
   "language": "python",
   "name": "medium_articles"
  },
  "language_info": {
   "codemirror_mode": {
    "name": "ipython",
    "version": 3
   },
   "file_extension": ".py",
   "mimetype": "text/x-python",
   "name": "python",
   "nbconvert_exporter": "python",
   "pygments_lexer": "ipython3",
   "version": "3.8.11"
  }
 },
 "nbformat": 4,
 "nbformat_minor": 5
}
