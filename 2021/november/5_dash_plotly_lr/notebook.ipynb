{
 "cells": [
  {
   "cell_type": "markdown",
   "id": "a7d28cbf-0801-4ba6-be37-1f5c4ef9b820",
   "metadata": {},
   "source": [
    "# Data Visualization Interfaces with Python Dash\n",
    "![](images/pexels.jpg)"
   ]
  },
  {
   "cell_type": "markdown",
   "id": "33090a01-2c8d-4140-827e-ed0c20ba07d3",
   "metadata": {},
   "source": [
    "# Setup"
   ]
  },
  {
   "cell_type": "code",
   "execution_count": 1,
   "id": "51489e21-5c41-440b-9187-e57185936393",
   "metadata": {},
   "outputs": [
    {
     "data": {
      "text/html": [
       "<style type='text/css'>\n",
       ".datatable table.frame { margin-bottom: 0; }\n",
       ".datatable table.frame thead { border-bottom: none; }\n",
       ".datatable table.frame tr.coltypes td {  color: #FFFFFF;  line-height: 6px;  padding: 0 0.5em;}\n",
       ".datatable .bool    { background: #DDDD99; }\n",
       ".datatable .object  { background: #565656; }\n",
       ".datatable .int     { background: #5D9E5D; }\n",
       ".datatable .float   { background: #4040CC; }\n",
       ".datatable .str     { background: #CC4040; }\n",
       ".datatable .time    { background: #40CC40; }\n",
       ".datatable .row_index {  background: var(--jp-border-color3);  border-right: 1px solid var(--jp-border-color0);  color: var(--jp-ui-font-color3);  font-size: 9px;}\n",
       ".datatable .frame tbody td { text-align: left; }\n",
       ".datatable .frame tr.coltypes .row_index {  background: var(--jp-border-color0);}\n",
       ".datatable th:nth-child(2) { padding-left: 12px; }\n",
       ".datatable .hellipsis {  color: var(--jp-cell-editor-border-color);}\n",
       ".datatable .vellipsis {  background: var(--jp-layout-color0);  color: var(--jp-cell-editor-border-color);}\n",
       ".datatable .na {  color: var(--jp-cell-editor-border-color);  font-size: 80%;}\n",
       ".datatable .sp {  opacity: 0.25;}\n",
       ".datatable .footer { font-size: 9px; }\n",
       ".datatable .frame_dimensions {  background: var(--jp-border-color3);  border-top: 1px solid var(--jp-border-color0);  color: var(--jp-ui-font-color3);  display: inline-block;  opacity: 0.6;  padding: 1px 10px 1px 5px;}\n",
       "</style>\n"
      ],
      "text/plain": [
       "<IPython.core.display.HTML object>"
      ]
     },
     "metadata": {},
     "output_type": "display_data"
    }
   ],
   "source": [
    "import logging\n",
    "import time\n",
    "import warnings\n",
    "\n",
    "import catboost as cb\n",
    "import datatable as dt\n",
    "import joblib\n",
    "import lightgbm as lgbm\n",
    "import matplotlib.pyplot as plt\n",
    "import numpy as np\n",
    "import optuna\n",
    "import pandas as pd\n",
    "import seaborn as sns\n",
    "import shap\n",
    "import umap\n",
    "import umap.plot\n",
    "import xgboost as xgb\n",
    "from optuna.samplers import TPESampler\n",
    "from sklearn.compose import *\n",
    "from sklearn.impute import *\n",
    "from sklearn.metrics import *\n",
    "from sklearn.model_selection import *\n",
    "from sklearn.pipeline import Pipeline, make_pipeline\n",
    "from sklearn.preprocessing import *\n",
    "\n",
    "logging.basicConfig(\n",
    "    format=\"%(asctime)s - %(message)s\", datefmt=\"%d-%b-%y %H:%M:%S\", level=logging.INFO\n",
    ")\n",
    "optuna.logging.set_verbosity(optuna.logging.WARNING)\n",
    "warnings.filterwarnings(\"ignore\")\n",
    "pd.set_option(\"float_format\", \"{:.5f}\".format)"
   ]
  },
  {
   "cell_type": "markdown",
   "id": "19cac520-4287-4ddd-89c9-097cd626c58c",
   "metadata": {},
   "source": [
    "# Introduction"
   ]
  },
  {
   "cell_type": "markdown",
   "id": "3740dbdb-2ab4-4463-aa99-9f617237164d",
   "metadata": {},
   "source": [
    "Data visualization interfacing, or dashboarding is an important part of data analysts' skillset. Dashboards or data apps are used everywhere now, from reporting your analysis through a series of visuals to showcasing your machine learning apps. When there is data involved, so is Python. Specifically, we are talking about its Dash library, which is built on top one of the hottest graphing libraries - Plotly. \n",
    "\n",
    "Dash makes it a breeze to create and share your data analysis through interactive dashboards using only Python code. There is no need to learn HTML, CSS or complex JavaScript frameworks like React.js. In this tutorial, we will get a glimpse of what Dash can do and how you can integrate it into your own workflow."
   ]
  },
  {
   "cell_type": "markdown",
   "id": "6416a124-63c1-46c6-a690-9840bee53a97",
   "metadata": {},
   "source": [
    "# Installation"
   ]
  },
  {
   "cell_type": "markdown",
   "id": "74a77553-e8fe-460a-a121-74b03df506f2",
   "metadata": {},
   "source": [
    "Dash can be installed with a single `pip` install. Here, we install `pandas` library as well to work with out datasets:\n",
    "\n",
    "```\n",
    "pip install dash pandas\n",
    "```"
   ]
  },
  {
   "cell_type": "markdown",
   "id": "6f2b3b9f-c15b-4985-af8d-bf7f9f540857",
   "metadata": {},
   "source": [
    "The above command also installs `plotly` data visualization library. Currently, it is one of the hottest graphing libraries in Python ecosystem, mainly for its interactive charts. Plotly and Dash are both created by Plotly Software Foundation, so the libraries work pretty well together. "
   ]
  },
  {
   "cell_type": "markdown",
   "id": "f93c6a34-5601-424b-8642-48a8e0be98f2",
   "metadata": {},
   "source": [
    "# Requirements to using Dash"
   ]
  },
  {
   "cell_type": "markdown",
   "id": "dc3a7b0e-4d65-46a5-b34b-96d1cee97190",
   "metadata": {},
   "source": [
    "A powerful framework like Dash has a few requirements from its users to get the most out of its features. First and foremost, you must know Plotly Python as Dash can only display Plotly's interactive charts. \n",
    "\n",
    "Next, a basic understanding of HTML and CSS is also a must. Dash is like React.js but only in Python. It is a template framework where you can build a data website without JavaScript. \n",
    "\n",
    "You must understand that a dashboard contains multiple visuals and it is up to the user how all these visuals are displayed in a single page. In other words, you decide the layout of your visuals as a user. The visuals itself are handled by Plotly but the layout part, it is all up to Dash. \n",
    "\n",
    "We will see examples of these concepts in the coming sections."
   ]
  },
  {
   "cell_type": "markdown",
   "id": "dd23a62c-b1b0-4444-91b8-682ff59c5b03",
   "metadata": {},
   "source": [
    "# Intro to Dash apps"
   ]
  },
  {
   "cell_type": "markdown",
   "id": "52f240ca-73cf-4034-acd2-26d5e3585319",
   "metadata": {},
   "source": [
    "Let's create out very first Dash app. After the installation, we import the following libraries:"
   ]
  },
  {
   "cell_type": "markdown",
   "id": "7ca7fd84-2935-43d3-a8de-d0aa3efc887b",
   "metadata": {},
   "source": [
    "```python\n",
    "import dash\n",
    "import dash_core_components as dcc\n",
    "import dash_html_components as html\n",
    "import plotly.express as px\n",
    "import pandas as pd\n",
    "```"
   ]
  },
  {
   "cell_type": "markdown",
   "id": "43eba93f-59b9-4dba-9aa2-552be71344cb",
   "metadata": {},
   "source": [
    "`dash` is the global library containing all the core features. The `dash_core_components` and `dash_html_components` are libraries that are installed with dash. They contain Dash-specific features and Python representation of HTML components (tags). More on them later.\n",
    "\n",
    "Any Dash app starts with the following command:"
   ]
  },
  {
   "cell_type": "code",
   "execution_count": 9,
   "id": "88aa6b34-70b4-47b0-9eef-f4afa86e8cf1",
   "metadata": {},
   "outputs": [
    {
     "data": {
      "text/plain": [
       "<dash.dash.Dash at 0x1ee6af51af0>"
      ]
     },
     "execution_count": 9,
     "metadata": {},
     "output_type": "execute_result"
    }
   ],
   "source": [
    "app = dash.Dash(name=\"my_first_dash_app\")\n",
    "app"
   ]
  },
  {
   "cell_type": "markdown",
   "id": "6a574400-71ab-444f-b361-a3a3519bcc55",
   "metadata": {},
   "source": [
    "The above code creates all the boilerplate code for a blank website. We don't want a blank page, so let's populate it.\n",
    "\n",
    "First, we load a built-in dataset from Plotly and create a simple scatterplot:"
   ]
  },
  {
   "cell_type": "markdown",
   "id": "5d73f762-bf24-47bc-8560-ee4159427c48",
   "metadata": {},
   "source": [
    "```python\n",
    "# Load dataset using Plotly\n",
    "tips = px.data.tips()\n",
    "\n",
    "fig = px.scatter(tips, x=\"total_bill\", y=\"tip\") # Create a scatterplot\n",
    "```"
   ]
  },
  {
   "cell_type": "markdown",
   "id": "7c7bbbde-dadd-4712-910f-3d7145630437",
   "metadata": {},
   "source": [
    "Then, we add this figure to our app's `layout` attribute inside a `div` tag with a few texts:"
   ]
  },
  {
   "cell_type": "markdown",
   "id": "a3907987-25c9-4753-831e-be6bc1b1a0be",
   "metadata": {},
   "source": [
    "```python\n",
    "app.layout = html.Div(children=[\n",
    "    html.H1(children='Hello Dash'),  # Create a title with H1 tag\n",
    "\n",
    "    html.Div(children='''\n",
    "        Dash: A web application framework for your data.\n",
    "    '''),  # Display some text\n",
    "\n",
    "    dcc.Graph(\n",
    "        id='example-graph',\n",
    "        figure=fig\n",
    "    )  # Display the Plotly figure\n",
    "])\n",
    "\n",
    "if __name__ == '__main__':\n",
    "    app.run_server(debug=True) # Run the Dash app\n",
    "\n",
    "```"
   ]
  },
  {
   "cell_type": "markdown",
   "id": "00b7812e-64b9-443c-9851-312db3cfedd4",
   "metadata": {},
   "source": [
    "If you notice, we are creating the HTML tags using the `dash_html_components (html)` library and the figure using the core components library. \n",
    "\n",
    "The H1 title tag is followed by a div that contains a simple text, then the graph itself using the `Graph` function of `dcc`. All of these are inside a single DIV tag's `children` attribute. At the end, we are also adding the command which runs our app in debug mode, meaning the changes take effect as the script changes. Here is the complete code so far:"
   ]
  },
  {
   "cell_type": "markdown",
   "id": "ff3e0da2-ee1a-4432-bc35-094470cf53ea",
   "metadata": {},
   "source": [
    "```python\n",
    "import dash\n",
    "import dash_core_components as dcc\n",
    "import dash_html_components as html\n",
    "import plotly.express as px\n",
    "import pandas as pd\n",
    "\n",
    "# Create the app\n",
    "app = dash.Dash(__name__)\n",
    "\n",
    "# Load dataset using Plotly\n",
    "tips = px.data.tips()\n",
    "\n",
    "fig = px.scatter(tips, x=\"total_bill\", y=\"tip\") # Create a scatterplot\n",
    "\n",
    "app.layout = html.Div(children=[\n",
    "    html.H1(children='Hello Dash'),  # Create a title with H1 tag\n",
    "\n",
    "    html.Div(children='''\n",
    "        Dash: A web application framework for your data.\n",
    "    '''),  # Display some text\n",
    "\n",
    "    dcc.Graph(\n",
    "        id='example-graph',\n",
    "        figure=fig\n",
    "    )  # Display the Plotly figure\n",
    "])\n",
    "\n",
    "if __name__ == '__main__':\n",
    "    app.run_server(debug=True) # Run the Dash app\n",
    "\n",
    "```"
   ]
  },
  {
   "cell_type": "markdown",
   "id": "01fa019f-26f4-46da-9522-b1f9df48e991",
   "metadata": {},
   "source": [
    "Put it inside a Python script and run it. You will get a message in the terminal telling you to go to this link: http://127.0.0.1:8050/\n",
    "\n",
    "So, let's go:\n",
    "\n",
    "![](images/1.png)"
   ]
  },
  {
   "cell_type": "markdown",
   "id": "c798a6c1-f5de-4ae1-9694-e85d09c868e2",
   "metadata": {},
   "source": [
    "In the next sections, we will get down to the hairy details of what we did here and once the dust settles, you will hopefully get out with a solid knowledge of how Dash works and most importantly, how to use it."
   ]
  },
  {
   "cell_type": "markdown",
   "id": "77ff558b-c7d5-4136-a648-941e15f8ca72",
   "metadata": {},
   "source": [
    "# app.layout"
   ]
  },
  {
   "cell_type": "markdown",
   "id": "cbbe3c0e-2e67-4666-b660-c04ac3687982",
   "metadata": {},
   "source": []
  },
  {
   "cell_type": "markdown",
   "id": "f93ee276-e7be-4cd6-9936-2abf24bed78a",
   "metadata": {},
   "source": [
    "# HTML and CSS components in Dash"
   ]
  },
  {
   "cell_type": "markdown",
   "id": "504cc520-811b-4e7c-9e8a-2702418e009f",
   "metadata": {},
   "source": [
    "```python\n",
    "import dash_html_components as html\n",
    "\n",
    "html.Div([\n",
    "    html.H1('Hello Dash'),\n",
    "    html.Div([\n",
    "        html.P('Dash converts Python classes into HTML'),\n",
    "        html.P(\"This conversion happens behind the scenes by Dash's JavaScript front-end\")\n",
    "    ])\n",
    "])\n",
    "```"
   ]
  },
  {
   "cell_type": "markdown",
   "id": "d062ce59-f047-487e-9b6a-7e661df5a4dc",
   "metadata": {},
   "source": [
    "```html\n",
    "<div>\n",
    "    <h1>Hello Dash</h1>\n",
    "    <div>\n",
    "        <p>Dash converts Python classes into HTML</p>\n",
    "        <p>This conversion happens behind the scenes by Dash's JavaScript front-end</p>\n",
    "    </div>\n",
    "</div>\n",
    "```"
   ]
  },
  {
   "cell_type": "markdown",
   "id": "c964d29e-aef5-4c8e-9569-aa9b6f5eb0d4",
   "metadata": {},
   "source": [
    "# Dash core components"
   ]
  },
  {
   "cell_type": "markdown",
   "id": "3000566b-b541-41d1-9ce1-bf366e9cb86c",
   "metadata": {},
   "source": [
    "```python\n",
    "import dash\n",
    "import dash_core_components as dcc\n",
    "import dash_html_components as html\n",
    "\n",
    "app = dash.Dash(__name__)\n",
    "\n",
    "app.layout = html.Div([\n",
    "    dcc.Dropdown(\n",
    "        options=[\n",
    "            {'label': 'New York City', 'value': 'NYC'},\n",
    "            {'label': 'Montréal', 'value': 'MTL'},\n",
    "            {'label': 'San Francisco', 'value': 'SF'}\n",
    "        ],\n",
    "        value='MTL'\n",
    "    )\n",
    "])\n",
    "\n",
    "if __name__ == '__main__':\n",
    "    app.run_server(debug=True)\n",
    "```"
   ]
  },
  {
   "cell_type": "markdown",
   "id": "2071f812-9022-4f52-b131-8d8c04424b00",
   "metadata": {},
   "source": [
    "```python\n",
    "import dash\n",
    "import dash_core_components as dcc\n",
    "import dash_html_components as html\n",
    "\n",
    "app = dash.Dash(__name__)\n",
    "\n",
    "app.layout = html.Div([\n",
    "    dcc.Dropdown(\n",
    "        options=[\n",
    "            {'label': 'New York City', 'value': 'NYC'},\n",
    "            {'label': 'Montréal', 'value': 'MTL'},\n",
    "            {'label': 'San Francisco', 'value': 'SF'}\n",
    "        ],\n",
    "        multi=True,\n",
    "        value=\"MTL\"\n",
    "    )\n",
    "])\n",
    "\n",
    "if __name__ == '__main__':\n",
    "    app.run_server(debug=True)\n",
    "```"
   ]
  },
  {
   "cell_type": "markdown",
   "id": "d0b12abf-a59d-4579-907e-e471920b16fd",
   "metadata": {},
   "source": [
    "```python\n",
    "import dash\n",
    "import dash_core_components as dcc\n",
    "import dash_html_components as html\n",
    "\n",
    "app = dash.Dash(__name__)\n",
    "\n",
    "app.layout = html.Div([\n",
    "    dcc.Slider(\n",
    "        min=0,\n",
    "        max=9,\n",
    "        marks={i: 'Label{}'.format(i) for i in range(10)},\n",
    "        value=5,\n",
    "    )\n",
    "])\n",
    "\n",
    "if __name__ == '__main__':\n",
    "    app.run_server(debug=True)\n",
    "```"
   ]
  },
  {
   "cell_type": "markdown",
   "id": "5a27ad4a-60de-45ab-99a3-18c88cb3d114",
   "metadata": {
    "tags": []
   },
   "source": [
    "# Callbacks basics"
   ]
  },
  {
   "cell_type": "markdown",
   "id": "94447cdd-c3e4-42c4-9162-825a749b534d",
   "metadata": {},
   "source": [
    "# Conclusion"
   ]
  }
 ],
 "metadata": {
  "kernelspec": {
   "display_name": "medium_articles",
   "language": "python",
   "name": "medium_articles"
  },
  "language_info": {
   "codemirror_mode": {
    "name": "ipython",
    "version": 3
   },
   "file_extension": ".py",
   "mimetype": "text/x-python",
   "name": "python",
   "nbconvert_exporter": "python",
   "pygments_lexer": "ipython3",
   "version": "3.8.11"
  }
 },
 "nbformat": 4,
 "nbformat_minor": 5
}
