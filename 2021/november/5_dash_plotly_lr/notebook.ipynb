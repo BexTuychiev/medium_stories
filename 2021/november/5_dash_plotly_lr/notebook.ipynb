{
 "cells": [
  {
   "cell_type": "markdown",
   "id": "a7d28cbf-0801-4ba6-be37-1f5c4ef9b820",
   "metadata": {},
   "source": [
    "# Data Visualization Interfaces with Python Dash\n",
    "![](images/pexels.jpg)"
   ]
  }
 ],
 "metadata": {
  "kernelspec": {
   "display_name": "medium_articles",
   "language": "python",
   "name": "medium_articles"
  },
  "language_info": {
   "codemirror_mode": {
    "name": "ipython",
    "version": 3
   },
   "file_extension": ".py",
   "mimetype": "text/x-python",
   "name": "python",
   "nbconvert_exporter": "python",
   "pygments_lexer": "ipython3",
   "version": "3.8.11"
  }
 },
 "nbformat": 4,
 "nbformat_minor": 5
}
