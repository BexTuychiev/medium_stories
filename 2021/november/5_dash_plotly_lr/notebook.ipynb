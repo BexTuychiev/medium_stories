{
 "cells": [
  {
   "cell_type": "markdown",
   "id": "a7d28cbf-0801-4ba6-be37-1f5c4ef9b820",
   "metadata": {},
   "source": [
    "# Data Visualization Interfaces with Python Dash\n",
    "![](images/pexels.jpg)"
   ]
  },
  {
   "cell_type": "markdown",
   "id": "33090a01-2c8d-4140-827e-ed0c20ba07d3",
   "metadata": {},
   "source": [
    "# Setup"
   ]
  },
  {
   "cell_type": "code",
   "execution_count": 1,
   "id": "51489e21-5c41-440b-9187-e57185936393",
   "metadata": {},
   "outputs": [
    {
     "data": {
      "text/html": [
       "<style type='text/css'>\n",
       ".datatable table.frame { margin-bottom: 0; }\n",
       ".datatable table.frame thead { border-bottom: none; }\n",
       ".datatable table.frame tr.coltypes td {  color: #FFFFFF;  line-height: 6px;  padding: 0 0.5em;}\n",
       ".datatable .bool    { background: #DDDD99; }\n",
       ".datatable .object  { background: #565656; }\n",
       ".datatable .int     { background: #5D9E5D; }\n",
       ".datatable .float   { background: #4040CC; }\n",
       ".datatable .str     { background: #CC4040; }\n",
       ".datatable .time    { background: #40CC40; }\n",
       ".datatable .row_index {  background: var(--jp-border-color3);  border-right: 1px solid var(--jp-border-color0);  color: var(--jp-ui-font-color3);  font-size: 9px;}\n",
       ".datatable .frame tbody td { text-align: left; }\n",
       ".datatable .frame tr.coltypes .row_index {  background: var(--jp-border-color0);}\n",
       ".datatable th:nth-child(2) { padding-left: 12px; }\n",
       ".datatable .hellipsis {  color: var(--jp-cell-editor-border-color);}\n",
       ".datatable .vellipsis {  background: var(--jp-layout-color0);  color: var(--jp-cell-editor-border-color);}\n",
       ".datatable .na {  color: var(--jp-cell-editor-border-color);  font-size: 80%;}\n",
       ".datatable .sp {  opacity: 0.25;}\n",
       ".datatable .footer { font-size: 9px; }\n",
       ".datatable .frame_dimensions {  background: var(--jp-border-color3);  border-top: 1px solid var(--jp-border-color0);  color: var(--jp-ui-font-color3);  display: inline-block;  opacity: 0.6;  padding: 1px 10px 1px 5px;}\n",
       "</style>\n"
      ],
      "text/plain": [
       "<IPython.core.display.HTML object>"
      ]
     },
     "metadata": {},
     "output_type": "display_data"
    }
   ],
   "source": [
    "import logging\n",
    "import time\n",
    "import warnings\n",
    "\n",
    "import catboost as cb\n",
    "import datatable as dt\n",
    "import joblib\n",
    "import lightgbm as lgbm\n",
    "import matplotlib.pyplot as plt\n",
    "import numpy as np\n",
    "import optuna\n",
    "import pandas as pd\n",
    "import seaborn as sns\n",
    "import shap\n",
    "import umap\n",
    "import umap.plot\n",
    "import xgboost as xgb\n",
    "from optuna.samplers import TPESampler\n",
    "from sklearn.compose import *\n",
    "from sklearn.impute import *\n",
    "from sklearn.metrics import *\n",
    "from sklearn.model_selection import *\n",
    "from sklearn.pipeline import Pipeline, make_pipeline\n",
    "from sklearn.preprocessing import *\n",
    "\n",
    "logging.basicConfig(\n",
    "    format=\"%(asctime)s - %(message)s\", datefmt=\"%d-%b-%y %H:%M:%S\", level=logging.INFO\n",
    ")\n",
    "optuna.logging.set_verbosity(optuna.logging.WARNING)\n",
    "warnings.filterwarnings(\"ignore\")\n",
    "pd.set_option(\"float_format\", \"{:.5f}\".format)"
   ]
  },
  {
   "cell_type": "markdown",
   "id": "19cac520-4287-4ddd-89c9-097cd626c58c",
   "metadata": {},
   "source": [
    "# Introduction"
   ]
  },
  {
   "cell_type": "markdown",
   "id": "3740dbdb-2ab4-4463-aa99-9f617237164d",
   "metadata": {},
   "source": [
    "Data visualization interfacing, or dashboarding is an important part of data analysts' skillset. Dashboards or data apps are used everywhere now, from reporting your analysis through a series of visuals to showcasing your machine learning apps. When there is data involved, so is Python. Specifically, we are talking about its Dash library, which is built on top one of the hottest graphing libraries - Plotly. \n",
    "\n",
    "Dash makes it a breeze to create and share your data analysis through interactive dashboards using only Python code. There is no need to learn HTML, CSS or complex JavaScript frameworks like React.js. In this tutorial, we will get a glimpse of what Dash can do and how you can integrate it into your own workflow."
   ]
  },
  {
   "cell_type": "markdown",
   "id": "6416a124-63c1-46c6-a690-9840bee53a97",
   "metadata": {},
   "source": [
    "# Installation"
   ]
  },
  {
   "cell_type": "markdown",
   "id": "74a77553-e8fe-460a-a121-74b03df506f2",
   "metadata": {},
   "source": [
    "Dash can be installed with a single `pip` install. Here, we install `pandas` library as well to work with out datasets:\n",
    "\n",
    "```\n",
    "pip install dash pandas\n",
    "```"
   ]
  },
  {
   "cell_type": "markdown",
   "id": "6f2b3b9f-c15b-4985-af8d-bf7f9f540857",
   "metadata": {},
   "source": [
    "The above command also installs `plotly` data visualization library. Currently, it is one of the hottest graphing libraries in Python ecosystem, mainly for its interactive charts. Plotly and Dash are both created by Plotly Software Foundation, so the libraries work pretty well together. "
   ]
  },
  {
   "cell_type": "markdown",
   "id": "f93c6a34-5601-424b-8642-48a8e0be98f2",
   "metadata": {},
   "source": [
    "# Requirements to using Dash"
   ]
  },
  {
   "cell_type": "markdown",
   "id": "dc3a7b0e-4d65-46a5-b34b-96d1cee97190",
   "metadata": {},
   "source": [
    "A powerful framework like Dash has a few requirements from its users to get the most out of its features. First and foremost, you must know Plotly Python as Dash can only display Plotly's interactive charts. \n",
    "\n",
    "Next, a basic understanding of HTML and CSS is also a must. Dash is like React.js but only in Python. It is a template framework where you can build a data website without JavaScript. \n",
    "\n",
    "You must understand that a dashboard contains multiple visuals and it is up to the user how all these visuals are displayed in a single page. In other words, you decide the layout of your visuals as a user. The visuals itself are handled by Plotly but the layout part, it is all up to Dash. \n",
    "\n",
    "We will see examples of these concepts in the coming sections."
   ]
  },
  {
   "cell_type": "markdown",
   "id": "dd23a62c-b1b0-4444-91b8-682ff59c5b03",
   "metadata": {},
   "source": [
    "# Intro to Dash apps"
   ]
  },
  {
   "cell_type": "markdown",
   "id": "52f240ca-73cf-4034-acd2-26d5e3585319",
   "metadata": {},
   "source": [
    "Let's create out very first Dash app. After the installation, we import the following libraries:"
   ]
  },
  {
   "cell_type": "markdown",
   "id": "7ca7fd84-2935-43d3-a8de-d0aa3efc887b",
   "metadata": {},
   "source": [
    "```python\n",
    "import dash\n",
    "import dash_core_components as dcc\n",
    "import dash_html_components as html\n",
    "import plotly.express as px\n",
    "import pandas as pd\n",
    "```"
   ]
  },
  {
   "cell_type": "markdown",
   "id": "43eba93f-59b9-4dba-9aa2-552be71344cb",
   "metadata": {},
   "source": [
    "`dash` is the global library containing all the core features. The `dash_core_components` and `dash_html_components` are libraries that are installed with dash. They contain Dash-specific features and Python representation of HTML components (tags). More on them later.\n",
    "\n",
    "Any Dash app starts with the following command:"
   ]
  },
  {
   "cell_type": "code",
   "execution_count": 9,
   "id": "88aa6b34-70b4-47b0-9eef-f4afa86e8cf1",
   "metadata": {},
   "outputs": [
    {
     "data": {
      "text/plain": [
       "<dash.dash.Dash at 0x1ee6af51af0>"
      ]
     },
     "execution_count": 9,
     "metadata": {},
     "output_type": "execute_result"
    }
   ],
   "source": [
    "app = dash.Dash(name=\"my_first_dash_app\")\n",
    "app"
   ]
  },
  {
   "cell_type": "markdown",
   "id": "6a574400-71ab-444f-b361-a3a3519bcc55",
   "metadata": {},
   "source": [
    "The above code creates all the boilerplate code for a blank website. We don't want a blank page, so let's populate it.\n",
    "\n",
    "First, we load a built-in dataset from Plotly and create a simple scatterplot:"
   ]
  },
  {
   "cell_type": "markdown",
   "id": "5d73f762-bf24-47bc-8560-ee4159427c48",
   "metadata": {},
   "source": [
    "```python\n",
    "# Load dataset using Plotly\n",
    "tips = px.data.tips()\n",
    "\n",
    "fig = px.scatter(tips, x=\"total_bill\", y=\"tip\") # Create a scatterplot\n",
    "```"
   ]
  },
  {
   "cell_type": "markdown",
   "id": "7c7bbbde-dadd-4712-910f-3d7145630437",
   "metadata": {},
   "source": [
    "Then, we add this figure to our app's `layout` attribute inside a `div` tag with a few texts:"
   ]
  },
  {
   "cell_type": "markdown",
   "id": "a3907987-25c9-4753-831e-be6bc1b1a0be",
   "metadata": {},
   "source": [
    "```python\n",
    "app.layout = html.Div(children=[\n",
    "    html.H1(children='Hello Dash'),  # Create a title with H1 tag\n",
    "\n",
    "    html.Div(children='''\n",
    "        Dash: A web application framework for your data.\n",
    "    '''),  # Display some text\n",
    "\n",
    "    dcc.Graph(\n",
    "        id='example-graph',\n",
    "        figure=fig\n",
    "    )  # Display the Plotly figure\n",
    "])\n",
    "\n",
    "if __name__ == '__main__':\n",
    "    app.run_server(debug=True) # Run the Dash app\n",
    "\n",
    "```"
   ]
  },
  {
   "cell_type": "markdown",
   "id": "00b7812e-64b9-443c-9851-312db3cfedd4",
   "metadata": {},
   "source": [
    "If you notice, we are creating the HTML tags using the `dash_html_components (html)` library and the figure using the core components library. \n",
    "\n",
    "The H1 title tag is followed by a div that contains a simple text, then the graph itself using the `Graph` function of `dcc`. All of these are inside a single DIV tag's `children` attribute. At the end, we are also adding the command which runs our app in debug mode, meaning the changes take effect as the script changes. Here is the complete code so far:"
   ]
  },
  {
   "cell_type": "markdown",
   "id": "ff3e0da2-ee1a-4432-bc35-094470cf53ea",
   "metadata": {},
   "source": [
    "```python\n",
    "import dash\n",
    "import dash_core_components as dcc\n",
    "import dash_html_components as html\n",
    "import plotly.express as px\n",
    "import pandas as pd\n",
    "\n",
    "# Create the app\n",
    "app = dash.Dash(__name__)\n",
    "\n",
    "# Load dataset using Plotly\n",
    "tips = px.data.tips()\n",
    "\n",
    "fig = px.scatter(tips, x=\"total_bill\", y=\"tip\") # Create a scatterplot\n",
    "\n",
    "app.layout = html.Div(children=[\n",
    "    html.H1(children='Hello Dash'),  # Create a title with H1 tag\n",
    "\n",
    "    html.Div(children='''\n",
    "        Dash: A web application framework for your data.\n",
    "    '''),  # Display some text\n",
    "\n",
    "    dcc.Graph(\n",
    "        id='example-graph',\n",
    "        figure=fig\n",
    "    )  # Display the Plotly figure\n",
    "])\n",
    "\n",
    "if __name__ == '__main__':\n",
    "    app.run_server(debug=True) # Run the Dash app\n",
    "\n",
    "```"
   ]
  },
  {
   "cell_type": "markdown",
   "id": "01fa019f-26f4-46da-9522-b1f9df48e991",
   "metadata": {},
   "source": [
    "Put it inside a Python script and run it. You will get a message in the terminal telling you to go to this link: http://127.0.0.1:8050/\n",
    "\n",
    "So, let's go:\n",
    "\n",
    "![](images/1.png)"
   ]
  },
  {
   "cell_type": "markdown",
   "id": "c798a6c1-f5de-4ae1-9694-e85d09c868e2",
   "metadata": {},
   "source": [
    "In the next sections, we will get down to the hairy details of what we did here and once the dust settles, you will hopefully get out with a solid knowledge of how Dash works and most importantly, how to use it."
   ]
  },
  {
   "cell_type": "markdown",
   "id": "77ff558b-c7d5-4136-a648-941e15f8ca72",
   "metadata": {},
   "source": [
    "# app.layout"
   ]
  },
  {
   "cell_type": "markdown",
   "id": "cbbe3c0e-2e67-4666-b660-c04ac3687982",
   "metadata": {},
   "source": [
    "Let's start with the `layout` attribute. It is the single attribute that contains all your HTML components and figures. All your visuals and HTML tags should be passed to it in a final DIV tag.\n",
    "\n",
    "Depending on the size of your project, this attribute can get pretty humongous, so I recommend creating all your HTML tags and figures in separate variables and then, pass them to `layout`. For example, here is what the above app would look like if you follow this tip:"
   ]
  },
  {
   "cell_type": "code",
   "execution_count": 12,
   "id": "54a7dec4-8fd7-406d-8b4b-d6812927ebd1",
   "metadata": {},
   "outputs": [],
   "source": [
    "app = dash.Dash(name=\"app\")\n",
    "\n",
    "# Load dataset using Plotly\n",
    "tips = px.data.tips()\n",
    "\n",
    "fig = px.scatter(tips, x=\"total_bill\", y=\"tip\")  # Create a scatterplot\n",
    "\n",
    "title = html.H1(\"Hello Dash!\")\n",
    "text_div = html.Div(\"Dash: A web application framework for your data.\")\n",
    "graph_to_display = dcc.Graph(id=\"scatter\", figure=fig)\n",
    "\n",
    "app.layout = html.Div(children=[title, text_div, graph_to_display])"
   ]
  },
  {
   "cell_type": "markdown",
   "id": "c2ded8d5-a7ce-4c85-9f56-43d1f41620f1",
   "metadata": {},
   "source": [
    "Now, this was much neater and more compact, right? This is one of the things that you won't learn from the Dash docs. It is full of nested code instead of doing the above."
   ]
  },
  {
   "cell_type": "markdown",
   "id": "f93ee276-e7be-4cd6-9936-2abf24bed78a",
   "metadata": {},
   "source": [
    "# HTML and CSS components in Dash"
   ]
  },
  {
   "cell_type": "markdown",
   "id": "f8d3077f-3c32-4691-8071-be9b38042967",
   "metadata": {},
   "source": [
    "Now, let's discuss how HTML and CSS works in Dash. As I mentioned, the `dash_html_components` sub-library contains the most common HTML tags such as divs, buttons, text boxes, captions, title tags (h1-6), etc. \n",
    "\n",
    "All these are implemented in Python code under relevant names as a representation of their HTML counterparts. So, a code like below:"
   ]
  },
  {
   "cell_type": "markdown",
   "id": "504cc520-811b-4e7c-9e8a-2702418e009f",
   "metadata": {},
   "source": [
    "```python\n",
    "import dash_html_components as html\n",
    "\n",
    "html.Div([\n",
    "    html.H1('Hello Dash'),\n",
    "    html.Div([\n",
    "        html.P('Dash converts Python classes into HTML'),\n",
    "        html.P(\"This conversion happens behind the scenes by Dash's JavaScript front-end\")\n",
    "    ])\n",
    "])\n",
    "```"
   ]
  },
  {
   "cell_type": "markdown",
   "id": "529f7d04-b06b-4b6b-a54d-e0effbf803b4",
   "metadata": {},
   "source": [
    "will be interpreted like this by your browser:"
   ]
  },
  {
   "cell_type": "markdown",
   "id": "d062ce59-f047-487e-9b6a-7e661df5a4dc",
   "metadata": {},
   "source": [
    "```html\n",
    "<div>\n",
    "    <h1>Hello Dash</h1>\n",
    "    <div>\n",
    "        <p>Dash converts Python classes into HTML</p>\n",
    "        <p>This conversion happens behind the scenes by Dash's JavaScript front-end</p>\n",
    "    </div>\n",
    "</div>\n",
    "```"
   ]
  },
  {
   "cell_type": "markdown",
   "id": "e195dbf7-41bc-48b2-aa05-3f44c1c48c81",
   "metadata": {},
   "source": [
    "All HTML tags under this sub-library contains these general arguments:\n",
    "\n",
    "- `id` - the same as `id` attribute of HTML tags\n",
    "- `className` - the same as `class` attribute of HTML tags\n",
    "- `style` - the same as `style` attribute of HTML tags but only accepts a dictionary of CSS styles\n",
    "- `children` - the first argument of most HTML components"
   ]
  },
  {
   "cell_type": "markdown",
   "id": "6e00a338-a693-4a43-8b31-a2995856fee9",
   "metadata": {},
   "source": [
    "Here is an example `div` with a few customizations:"
   ]
  },
  {
   "cell_type": "markdown",
   "id": "08489089-1118-418b-ae53-cbefe9013e78",
   "metadata": {},
   "source": [
    "```python\n",
    "app = dash.Dash(name=\"app\")\n",
    "\n",
    "app.layout = html.Div(\n",
    "    children=html.H3(\"Simple Div\"),\n",
    "    id=\"sample_div\",\n",
    "    className=\"red_div\",\n",
    "    style={\"backgroundColor\": \"red\"},\n",
    ")\n",
    "\n",
    "if __name__ == \"__main__\":\n",
    "    app.run_server(debug=True)\n",
    "```\n",
    "\n",
    "![](images/2.png)"
   ]
  },
  {
   "cell_type": "markdown",
   "id": "3dd1140e-cb25-467f-8c0e-d488a449c0e3",
   "metadata": {},
   "source": [
    "The `children` argument is special - it can accept accepts and strings but most of the time pass other HTML components inside a list if it is a [container tag](https://www.w3schools.com/w3css/w3css_containers.asp) like a `div`.\n",
    "\n",
    "> A note on CSS styles: most CSS style attributes use hyphens to break words. When you pass them to Dash's `style` argument, they should follow camelCase like backgroundColor.\n",
    "\n",
    "I highly recommend you learn about these HTML tags as these are the only things that keep together the layout of your app. Here is a [complete list](https://dash.plotly.com/dash-html-components) of HTML tags Dash supports."
   ]
  },
  {
   "cell_type": "markdown",
   "id": "c964d29e-aef5-4c8e-9569-aa9b6f5eb0d4",
   "metadata": {},
   "source": [
    "# Dash core components"
   ]
  },
  {
   "cell_type": "markdown",
   "id": "4ea88544-1cfb-41cf-b115-b2aeb4db8700",
   "metadata": {},
   "source": [
    "Another important part of Dash is its core components. The `dash_core_components` library contains a few other HTML tags but already built-in with a few CSS and JavaScript flairs. Some examples include dropdowns, sliders, download and upload functionalities and the one we have already seen, which was a component to display Plotly Graphs.\n",
    "\n",
    "Here are a few examples of these components, starting with a dropdown:"
   ]
  },
  {
   "cell_type": "markdown",
   "id": "3000566b-b541-41d1-9ce1-bf366e9cb86c",
   "metadata": {},
   "source": [
    "```python\n",
    "import dash\n",
    "import dash_core_components as dcc\n",
    "import dash_html_components as html\n",
    "\n",
    "app = dash.Dash(__name__)\n",
    "\n",
    "app.layout = html.Div([\n",
    "    dcc.Dropdown(\n",
    "        options=[\n",
    "            {'label': 'FC Barcelona', 'value': 'FCB'},\n",
    "            {'label': 'Real Madrid', 'value': 'RM'},\n",
    "            {'label': 'Manchester United', 'value': 'MU'}\n",
    "        ],\n",
    "        value='FCB' # The default value to display\n",
    "    )\n",
    "])\n",
    "\n",
    "if __name__ == '__main__':\n",
    "    app.run_server(debug=True)\n",
    "```\n",
    "\n",
    "![](images/1.gif)"
   ]
  },
  {
   "cell_type": "markdown",
   "id": "0e3b8f53-b20f-4eb7-95bb-8f1f05357ace",
   "metadata": {},
   "source": [
    "A multi drowdown:"
   ]
  },
  {
   "cell_type": "markdown",
   "id": "2071f812-9022-4f52-b131-8d8c04424b00",
   "metadata": {},
   "source": [
    "```python\n",
    "app = dash.Dash(__name__)\n",
    "\n",
    "app.layout = html.Div([\n",
    "    dcc.Dropdown(\n",
    "        options=[\n",
    "            {'label': 'FC Barcelona', 'value': 'FCB'},\n",
    "            {'label': 'Real Madrid', 'value': 'RM'},\n",
    "            {'label': 'Manchester United', 'value': 'MU'}\n",
    "        ],\n",
    "        multi=True,\n",
    "        value=\"FCB\"\n",
    "    )\n",
    "], style={\"width\": 200})\n",
    "\n",
    "if __name__ == '__main__':\n",
    "    app.run_server(debug=True)\n",
    "\n",
    "```\n",
    "\n",
    "![](images/2.gif)"
   ]
  },
  {
   "cell_type": "markdown",
   "id": "a3eb12e6-d05b-4351-bbae-896925b328eb",
   "metadata": {},
   "source": [
    "A slider with labeled breakpoints:"
   ]
  },
  {
   "cell_type": "markdown",
   "id": "d0b12abf-a59d-4579-907e-e471920b16fd",
   "metadata": {},
   "source": [
    "```python\n",
    "import dash\n",
    "import dash_core_components as dcc\n",
    "import dash_html_components as html\n",
    "\n",
    "app = dash.Dash(__name__)\n",
    "\n",
    "app.layout = html.Div([\n",
    "    dcc.Slider(\n",
    "        min=0,\n",
    "        max=9,\n",
    "        marks={i: 'Label{}'.format(i) for i in range(10)},\n",
    "        value=5,\n",
    "    )\n",
    "])\n",
    "\n",
    "if __name__ == '__main__':\n",
    "    app.run_server(debug=True)\n",
    "```\n",
    "\n",
    "![](images/3.gif)"
   ]
  },
  {
   "cell_type": "markdown",
   "id": "831925ed-a135-4739-ace9-1ef313a30e6c",
   "metadata": {},
   "source": [
    "If you noticed, there is a universal `value` attribute which represents the default value when a component is rendered for the first time.\n",
    "\n",
    "You can see the full list of core components [here](https://dash.plotly.com/dash-core-components)."
   ]
  },
  {
   "cell_type": "markdown",
   "id": "5a27ad4a-60de-45ab-99a3-18c88cb3d114",
   "metadata": {
    "tags": []
   },
   "source": [
    "# Putting the concepts together"
   ]
  },
  {
   "cell_type": "markdown",
   "id": "9ca8ecc5-885d-4db3-a8ba-57aba5fc40d3",
   "metadata": {},
   "source": [
    "As a final example, take a look at the below app:"
   ]
  },
  {
   "cell_type": "markdown",
   "id": "99a38eae-cd71-4bfb-9664-4517bc2673cc",
   "metadata": {},
   "source": [
    "```python\n",
    "import seaborn as sns\n",
    "\n",
    "app = dash.Dash(__name__)\n",
    "\n",
    "diamonds = sns.load_dataset(\"diamonds\")\n",
    "\n",
    "scatter = px.scatter(\n",
    "    data_frame=diamonds,\n",
    "    x=\"price\",\n",
    "    y=\"carat\",\n",
    "    color=\"cut\",\n",
    "    title=\"Carat vs. Price of Diamonds\",\n",
    "    width=600,\n",
    "    height=400,\n",
    ")\n",
    "histogram = px.histogram(\n",
    "    data_frame=diamonds,\n",
    "    x=\"price\",\n",
    "    title=\"Histogram of Diamond prices\",\n",
    "    width=600,\n",
    "    height=400,\n",
    ")\n",
    "violin = px.violin(\n",
    "    data_frame=diamonds,\n",
    "    x=\"cut\",\n",
    "    y=\"price\",\n",
    "    title=\"Violin Plot of Cut vs. Price\",\n",
    "    width=600,\n",
    "    height=400,\n",
    ")\n",
    "\n",
    "left_fig = html.Div(children=dcc.Graph(figure=scatter))\n",
    "right_fig = html.Div(children=dcc.Graph(figure=histogram))\n",
    "\n",
    "upper_div = html.Div([left_fig, right_fig], style={\"display\": \"flex\"})\n",
    "central_div = html.Div(\n",
    "    children=dcc.Graph(figure=violin),\n",
    "    style={\"display\": \"flex\", \"justify-content\": \"center\"},\n",
    ")\n",
    "app.layout = html.Div([upper_div, central_div])\n",
    "\n",
    "if __name__ == \"__main__\":\n",
    "    app.run_server(debug=True)\n",
    "    \n",
    "```"
   ]
  },
  {
   "cell_type": "markdown",
   "id": "3b70c45c-9b9d-44be-a885-194db4ba5744",
   "metadata": {},
   "source": [
    "We import the Diamonds dataset from Seaborn and create three charts - a scatterplot, a histogram and a violin plot. We want to display the scatterplot and violinplot next to each other and put the violin plot right below in the center. \n",
    "\n",
    "For this, we are creating two divs to contain the scatter plot and violin plot - `left_figure` and `right_figure`. Then, these two divs are put into another div - `upper_div` for simplicity. We are setting a CSS style of flex-box to this div, which puts the figures side-by-side like we wanted. \n",
    "\n",
    "Then, we are creating the central div that contains the violin plot and we are centering it using flex-box and its `justify-content` attribute. \n",
    "\n",
    "Finally, we put everything into the `layout` and run the script. Here is the final output:"
   ]
  },
  {
   "cell_type": "markdown",
   "id": "971410bc-6c4c-4836-acd8-7f3be6e47844",
   "metadata": {},
   "source": [
    "![](images/4.gif)"
   ]
  },
  {
   "cell_type": "markdown",
   "id": "94447cdd-c3e4-42c4-9162-825a749b534d",
   "metadata": {},
   "source": [
    "# Conclusion"
   ]
  },
  {
   "cell_type": "markdown",
   "id": "12d0a19a-0359-4dbf-9780-eac3fccf3520",
   "metadata": {},
   "source": [
    "Here is a summary of the steps to create a basic Dash app:\n",
    "\n",
    "1. Create the app with `dash.Dash` and give it any name.\n",
    "2. Sketch the layout of your plots in the dashboard before writing the actual code.\n",
    "3. Create the plots that go into your dashboard.\n",
    "4. Create the boilerplate layout using HTML Dash components.\n",
    "5. Add your figures to their relevant containers.\n",
    "6. Finally, add all HTML components to the `layout` attribute."
   ]
  },
  {
   "cell_type": "markdown",
   "id": "c3def692-fe4c-40be-9b20-ef9cc75fd628",
   "metadata": {},
   "source": [
    "Even though we have covered a lot of basics like HTML, core components and app layout, we have barely scratched the surface of what Dash can do. \n",
    "\n",
    "For example, even though I showed you many examples of interactive HTML components, I didn't show how you can integrate them into your app. For example, how can you update your graphs based on user input like sliders, text inputs or something similar?\n",
    "\n",
    "That's where callbacks come in - a powerful and central feature of Dash. The basic idea of callbacks is that you can define functions in Dash that gets fired off when a component gets changed by the user and the function modifies another component based on this event. \n",
    "\n",
    "Dash devotes a large section in the docs just to explain callbacks as they are hard to wrap your mind around at first. I suggest you go [there](https://dash.plotly.com/#:~:text=Dash%20App%20Gallery-,Dash%20Tutorial,-Installation) as the next step. I also recommend you check out the [example gallery](https://dash.gallery/Portal/) where you can see and enjoy some very cool projects built with Dash. Best part is that many of them are open-source, meaning you can learn much from their source codes. Thanks for reading!"
   ]
  }
 ],
 "metadata": {
  "kernelspec": {
   "display_name": "medium_articles",
   "language": "python",
   "name": "medium_articles"
  },
  "language_info": {
   "codemirror_mode": {
    "name": "ipython",
    "version": 3
   },
   "file_extension": ".py",
   "mimetype": "text/x-python",
   "name": "python",
   "nbconvert_exporter": "python",
   "pygments_lexer": "ipython3",
   "version": "3.8.11"
  }
 },
 "nbformat": 4,
 "nbformat_minor": 5
}
