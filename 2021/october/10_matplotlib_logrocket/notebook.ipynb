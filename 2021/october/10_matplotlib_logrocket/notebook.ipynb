{
 "cells": [
  {
   "cell_type": "markdown",
   "id": "7ebfdddb-7e41-427b-a985-5411b085274e",
   "metadata": {},
   "source": [
    "# Data Visualization With Python, Matplotlib and Seaborn\n",
    "![](images/pexels.jpg)\n",
    "<figcaption style=\"text-align: center;\">\n",
    "    <strong>\n",
    "        Photo by \n",
    "        <a href='https://www.pexels.com/@darshan394?utm_content=attributionCopyText&utm_medium=referral&utm_source=pexels'>Deva Darshan</a>\n",
    "        on \n",
    "        <a href='https://www.pexels.com/photo/silhouette-of-house-and-trees-by-water-during-golden-hour-1044330/?utm_content=attributionCopyText&utm_medium=referral&utm_source=pexels'>Pexels</a> All images are by the author unless specified otherwise.\n",
    "    </strong>\n",
    "</figcaption>"
   ]
  },
  {
   "cell_type": "markdown",
   "id": "42534597-13b7-4e3f-8544-d6018750f3b6",
   "metadata": {},
   "source": [
    "# Introduction"
   ]
  },
  {
   "cell_type": "code",
   "execution_count": null,
   "id": "e2b55623-3028-436b-9964-eb8dbd2824f8",
   "metadata": {},
   "outputs": [],
   "source": []
  }
 ],
 "metadata": {
  "kernelspec": {
   "display_name": "medium_articles",
   "language": "python",
   "name": "medium_articles"
  },
  "language_info": {
   "codemirror_mode": {
    "name": "ipython",
    "version": 3
   },
   "file_extension": ".py",
   "mimetype": "text/x-python",
   "name": "python",
   "nbconvert_exporter": "python",
   "pygments_lexer": "ipython3",
   "version": "3.8.11"
  }
 },
 "nbformat": 4,
 "nbformat_minor": 5
}
