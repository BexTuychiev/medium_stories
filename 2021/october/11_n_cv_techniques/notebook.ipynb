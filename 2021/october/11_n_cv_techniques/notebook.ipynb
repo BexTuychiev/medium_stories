{
 "cells": [
  {
   "cell_type": "markdown",
   "id": "6fb00405-8bba-4489-ba9e-7023a31f0dba",
   "metadata": {},
   "source": [
    "# 6 Cross-Validation Techniques You Need To Create Models That People Trust\n",
    "## TODO\n",
    "![](images/pexels.jpg)\n",
    "<figcaption style=\"text-align: center;\">\n",
    "    <strong>\n",
    "        Photo by \n",
    "        <a href='https://www.pexels.com/@zen-chung?utm_content=attributionCopyText&utm_medium=referral&utm_source=pexels'>Zen Chung</a>\n",
    "        on \n",
    "        <a href='https://www.pexels.com/photo/crop-man-playing-with-dog-on-street-5749795/?utm_content=attributionCopyText&utm_medium=referral&utm_source=pexels'>Pexels.</a> All images are by the author unless specified otherwise.\n",
    "    </strong>\n",
    "</figcaption>"
   ]
  },
  {
   "cell_type": "markdown",
   "id": "75c166ef-8e26-44ef-9f3e-c31aae6ca1e8",
   "metadata": {},
   "source": [
    "# Setup"
   ]
  },
  {
   "cell_type": "code",
   "execution_count": 4,
   "id": "9a54662a-260b-452d-a4a4-f3ff0a2a4da3",
   "metadata": {},
   "outputs": [],
   "source": [
    "import logging\n",
    "import time\n",
    "import warnings\n",
    "\n",
    "import catboost as cb\n",
    "import datatable as dt\n",
    "import joblib\n",
    "import lightgbm as lgbm\n",
    "import matplotlib.pyplot as plt\n",
    "import numpy as np\n",
    "import optuna\n",
    "import pandas as pd\n",
    "import seaborn as sns\n",
    "import shap\n",
    "import umap\n",
    "import umap.plot\n",
    "import xgboost as xgb\n",
    "from optuna.samplers import TPESampler\n",
    "from sklearn.compose import *\n",
    "from sklearn.datasets import *\n",
    "from sklearn.impute import *\n",
    "from sklearn.metrics import *\n",
    "from sklearn.model_selection import *\n",
    "from sklearn.pipeline import Pipeline, make_pipeline\n",
    "from sklearn.preprocessing import *\n",
    "\n",
    "logging.basicConfig(\n",
    "    format=\"%(asctime)s - %(message)s\", datefmt=\"%d-%b-%y %H:%M:%S\", level=logging.INFO\n",
    ")\n",
    "optuna.logging.set_verbosity(optuna.logging.WARNING)\n",
    "warnings.filterwarnings(\"ignore\")\n",
    "pd.set_option(\"float_format\", \"{:.5f}\".format)"
   ]
  },
  {
   "cell_type": "code",
   "execution_count": 62,
   "id": "33244c6b-393f-4d57-be3b-adee5fdcd852",
   "metadata": {},
   "outputs": [],
   "source": [
    "X, y = make_regression(n_samples=100)"
   ]
  },
  {
   "cell_type": "code",
   "execution_count": 63,
   "id": "066b41af-bf43-4095-a820-5d3ea79aa5c8",
   "metadata": {},
   "outputs": [],
   "source": [
    "def visualize_cv(cv, X, y):\n",
    "    fig, ax = plt.subplots(figsize=(10, 5))\n",
    "\n",
    "    for ii, (tr, tt) in enumerate(cv.split(X, y)):\n",
    "        p1 = ax.scatter(tr, [ii] * len(tr), c=\"#221f1f\", marker=\"_\", lw=8)\n",
    "        p2 = ax.scatter(tt, [ii] * len(tt), c=\"#b20710\", marker=\"_\", lw=8)\n",
    "        ax.set(\n",
    "            title=cv.__class__.__name__,\n",
    "            xlabel=\"Data Index\",\n",
    "            ylabel=\"CV Iteration\",\n",
    "            ylim=[cv.n_splits, -1],\n",
    "        )\n",
    "        ax.legend([p1, p2], [\"Training\", \"Validation\"])\n",
    "\n",
    "    plt.show()"
   ]
  },
  {
   "cell_type": "code",
   "execution_count": 73,
   "id": "c2339666-4cba-4548-a259-cd43c4380545",
   "metadata": {},
   "outputs": [
    {
     "data": {
      "image/png": "[encoded data removed]",
      "text/plain": [
       "<Figure size 720x360 with 1 Axes>"
      ]
     },
     "metadata": {
      "needs_background": "light"
     },
     "output_type": "display_data"
    }
   ],
   "source": [
    "visualize_cv(TimeSeriesSplit(n_splits=5), X, y)"
   ]
  },
  {
   "cell_type": "markdown",
   "id": "148eca2c-3a22-4212-8055-a13e479bb0ba",
   "metadata": {
    "tags": []
   },
   "source": [
    "# Introduction"
   ]
  },
  {
   "cell_type": "markdown",
   "id": "f4812820-a51d-4375-8cad-ebf018165d02",
   "metadata": {},
   "source": [
    "I'll be honest. These days I rarely cross-validate. Maybe it is because of the sheer size of the datasets I've been dealing with. Call me lazy, stupid or even pretentious *blank* for writing an article on something I am not even using. No matter what, one thing is for certain - I won't stop preaching the importance of cross-validation until I am blue in the face. \n",
    "\n",
    "What?! Are you confused? That's great - let's get started!"
   ]
  },
  {
   "cell_type": "markdown",
   "id": "17e1b510-a4b0-44a8-a6b5-c0bf841dfe22",
   "metadata": {
    "tags": []
   },
   "source": [
    "# Why cross-validate?"
   ]
  },
  {
   "cell_type": "markdown",
   "id": "5169f853-6b80-44b8-9828-338088d3ef7e",
   "metadata": {},
   "source": [
    "Until I start selling the related merchandise, I gotta advertise the main idea. Here it goes.\n",
    "\n",
    "Let's imagine a world where you don't know what a CV procedure is. In that crazy world, you obviously split your available data into a single train and test sets. The model learns from the training data and you test its performance by predicting on the so-called unseen data that is your test set. If you are not satisfied with the score, you tune the heck out of your model using the same sets until [GridSearch](https://towardsdatascience.com/11-times-faster-hyperparameter-tuning-with-halvinggridsearch-232ed0160155) (or [Optuna](https://towardsdatascience.com/why-is-everyone-at-kaggle-obsessed-with-optuna-for-hyperparameter-tuning-7608fdca337c)) cries out \"enough!\". \n",
    "\n",
    "Here are two of the many ways this process can go *horribly* wrong:\n",
    "1. The splitted sets you created don't represent the whole population well. As an extreme example, out of rows with three categories (a, b, c), all a and b categories may end up in the training set while all *c*s are hanging out in the test set. Or a numeric variable is splitted in a way that values to the left and right of some threshold is not distributed well among the train and sets. Or a situation close to that where the new distributions of the variables in both sets are so different than the originals that the model learns from incorrect information.\n",
    "\n",
    "2. You leak some knowledge about the test set into the model during hyperparameter tuning. The searching framework keeps track of whether each hyperparameter set yields a high score on the test set. After the search is done, the framework spits out the parameters that work best for that *specific* test set. Since I am using the word *specific*, you should already start thinking about overfitting. Because that's what happens if you keep testing on the same set over and over again - the searching framework just learns what parameters work and don't work and gives you the result that makes you happy for that specific test set.\n",
    "\n",
    "So, if we get back to the world where CV is loved and extensively used by engineers all over the world, all these problems are solved. Here is the magic of CV, as shown in Sklearn user guide:\n",
    "\n",
    "![](images/1.png)"
   ]
  },
  {
   "cell_type": "markdown",
   "id": "742f4f16-22cc-43b8-a153-9729fb53cfe5",
   "metadata": {},
   "source": [
    "The above is an example of 5-fold cross-validation process, which takes 5 iterations to finish. In each iteration, a new model is trained on 4 folds and tested on the last hold-out fold. This way, a model is trained and tested on all of the data without wasting any. \n",
    "\n",
    "Next, the averaged scores are reported with their standard deviations as a confidence interval. Only then can you truly judge the performance of your model and its chosen parameters because the averaged score you got will represent the true potential of the model to effectively learn from the data and predict accurately on unseen samples. "
   ]
  },
  {
   "cell_type": "markdown",
   "id": "58651b7d-53b8-4831-a8ff-1f5f6201834f",
   "metadata": {},
   "source": [
    "# 1. KFold"
   ]
  },
  {
   "cell_type": "markdown",
   "id": "49e25da7-9706-4f11-a363-9a1399a07b6b",
   "metadata": {},
   "source": [
    "Now, let's start discussing the many ways you can perform the CV procedure. The simplest one is `KFold` as seen in the last image. It is implemented with the same name in Sklearn. Here, we will write a quick function that visualizes the splitted indices of the CV splitter:"
   ]
  },
  {
   "cell_type": "code",
   "execution_count": 74,
   "id": "069ab5fa-027b-4914-80de-0d5a4f1b6cb6",
   "metadata": {},
   "outputs": [],
   "source": [
    "def visualize_cv(cv, X, y):\n",
    "    fig, ax = plt.subplots(figsize=(10, 5))\n",
    "\n",
    "    for ii, (tr, tt) in enumerate(cv.split(X, y)):\n",
    "        p1 = ax.scatter(tr, [ii] * len(tr), c=\"#221f1f\", marker=\"_\", lw=8)\n",
    "        p2 = ax.scatter(tt, [ii] * len(tt), c=\"#b20710\", marker=\"_\", lw=8)\n",
    "        ax.set(\n",
    "            title=cv.__class__.__name__,\n",
    "            xlabel=\"Data Index\",\n",
    "            ylabel=\"CV Iteration\",\n",
    "            ylim=[cv.n_splits, -1],\n",
    "        )\n",
    "        ax.legend([p1, p2], [\"Training\", \"Validation\"])\n",
    "\n",
    "    plt.show()"
   ]
  },
  {
   "cell_type": "markdown",
   "id": "e7b352a0-32a9-42d4-a492-a3393cc61bc1",
   "metadata": {},
   "source": [
    "Now, let's pass to this function a KFold splitter with 7 splits:"
   ]
  },
  {
   "cell_type": "code",
   "execution_count": 75,
   "id": "1df84103-8cb0-4adf-a3a6-f17a7ddd51ec",
   "metadata": {},
   "outputs": [
    {
     "data": {
      "image/png": "[encoded data removed]",
      "text/plain": [
       "<Figure size 720x360 with 1 Axes>"
      ]
     },
     "metadata": {
      "needs_background": "light"
     },
     "output_type": "display_data"
    }
   ],
   "source": [
    "from sklearn.datasets import make_regression\n",
    "from sklearn.model_selection import KFold\n",
    "\n",
    "X, y = make_regression(n_samples=100)\n",
    "\n",
    "# Init the splitter\n",
    "cv = KFold(n_splits=7)\n",
    "\n",
    "visualize_cv(cv, X, y)"
   ]
  },
  {
   "cell_type": "markdown",
   "id": "7c6e73f9-c54e-4cfc-8e98-4fc068841871",
   "metadata": {},
   "source": [
    "Great! The chart shows how the hold-out fold (red) is going through the whole data through each iteration. This is a vanilla KFold. \n",
    "\n",
    "Another version of this is shuffling the data before a split is performed. This further minimizes the risk of overfitting:"
   ]
  },
  {
   "cell_type": "code",
   "execution_count": 76,
   "id": "e64481e8-c5fa-40d6-b3b2-55697bec9855",
   "metadata": {},
   "outputs": [
    {
     "data": {
      "image/png": "[encoded data removed]",
      "text/plain": [
       "<Figure size 720x360 with 1 Axes>"
      ]
     },
     "metadata": {
      "needs_background": "light"
     },
     "output_type": "display_data"
    }
   ],
   "source": [
    "cv = KFold(n_splits=7, shuffle=True)\n",
    "\n",
    "visualize_cv(cv, X, y)"
   ]
  },
  {
   "cell_type": "markdown",
   "id": "d90fba0a-bcc5-495c-be3b-057098f29a2b",
   "metadata": {},
   "source": [
    "As you can see, the indices of the validation samples are chosen in a shuffled manner. Even so, the overall number of samples is still one seventh of the whole data because we are doing 7-fold CV.\n",
    "\n",
    "KFold is the most commonly used CV splitter in practice. It is easy to understand and deadly effective. However, depending on the characteristics of your datasets, sometimes you need to be more picky over what CV procedure to use. So, let's discuss the alternatives."
   ]
  },
  {
   "cell_type": "markdown",
   "id": "c9a80c26-f323-44ca-9cfe-93b20bbc7b7f",
   "metadata": {},
   "source": [
    "# 2. LeavePOut"
   ]
  },
  {
   "cell_type": "markdown",
   "id": "c7937bc9-8521-46da-8507-bd215f3c362a",
   "metadata": {},
   "source": [
    "Sometimes, the data you have is so limited that you can't even afford to divide it into train and test sets. In that case, you can perform a CV where you set aside only a few rows of data in each iteration. This is known as LeavePOut CV, where *p* is the parameter you choose to specify the number of rows in each holdout set. \n",
    "\n",
    "The most extreme case is the `LeaveOneOut` splitter where you only use a single row of data as a test set and the number of iterations equals the number of rows in the full data. If building 100 models for a small 100-row dataset seems like it is bordering on crazy, I am right there with ya.\n",
    "\n",
    "Even for other numbers of `p`, the number of iterations grow exponentially as you dataset size increases. Just image how many models will be built when `p` is 5 and your data has just 50 rows (hint - use the permutations formula). \n",
    "\n",
    "So, you rarely see this one in practice but it comes up enough times that there Sklearn implements these procedures:"
   ]
  },
  {
   "cell_type": "code",
   "execution_count": 79,
   "id": "8033aa16-c5e0-40c7-92c1-336c766d37dc",
   "metadata": {},
   "outputs": [],
   "source": [
    "from sklearn.model_selection import LeaveOneOut, LeavePOut"
   ]
  },
  {
   "cell_type": "markdown",
   "id": "5a687589-2cee-49c1-aebb-64569eb3b19a",
   "metadata": {},
   "source": [
    "# 3. ShuffleSPlit"
   ]
  },
  {
   "cell_type": "markdown",
   "id": "0c8f7177-c60d-4a9e-bc34-927a26039b89",
   "metadata": {},
   "source": [
    "# 4. StratifiedKFold"
   ]
  },
  {
   "cell_type": "markdown",
   "id": "53e47757-ce5e-4d23-9a50-0d0081eeb027",
   "metadata": {},
   "source": [
    "# 5. StratifiedShuffleSplit"
   ]
  },
  {
   "cell_type": "markdown",
   "id": "e5ab61ce-ad95-4d1d-8c3e-459f5799910f",
   "metadata": {},
   "source": [
    "# 6. TimeSeriesSplit"
   ]
  },
  {
   "cell_type": "markdown",
   "id": "d68bb88c-389e-4031-b75b-5e50c4a30f23",
   "metadata": {},
   "source": [
    "# Other CVs for non-IID data"
   ]
  },
  {
   "cell_type": "markdown",
   "id": "e66d58b8-bfe7-44a7-8e9b-1a5975455124",
   "metadata": {},
   "source": [
    "# Summary"
   ]
  }
 ],
 "metadata": {
  "kernelspec": {
   "display_name": "medium_articles",
   "language": "python",
   "name": "medium_articles"
  },
  "language_info": {
   "codemirror_mode": {
    "name": "ipython",
    "version": 3
   },
   "file_extension": ".py",
   "mimetype": "text/x-python",
   "name": "python",
   "nbconvert_exporter": "python",
   "pygments_lexer": "ipython3",
   "version": "3.8.11"
  }
 },
 "nbformat": 4,
 "nbformat_minor": 5
}
