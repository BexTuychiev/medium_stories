{
 "cells": [
  {
   "cell_type": "markdown",
   "id": "c2927908-aef4-4148-917e-57b0a4763cd1",
   "metadata": {},
   "source": [
    "# 10 Sklearn Features I Sincerely Hope You Learn After Using It For a Year\n",
    "## TODO\n",
    "![](images/pexels.jpg)\n",
    "<figcaption style=\"text-align: center;\">\n",
    "    <strong>\n",
    "        Photo by \n",
    "        <a href='https://www.pexels.com/@psco?utm_content=attributionCopyText&utm_medium=referral&utm_source=pexels'>Pineapple Supply Co.</a>\n",
    "        on \n",
    "        <a href='https://www.pexels.com/photo/photo-of-three-pineapples-surrounded-by-balloons-1071882/?utm_content=attributionCopyText&utm_medium=referral&utm_source=pexels'>Pexels</a>\n",
    "    </strong>\n",
    "</figcaption>"
   ]
  },
  {
   "cell_type": "markdown",
   "id": "7f2da286-86da-4320-b7fb-b42075263cb8",
   "metadata": {},
   "source": [
    "# Setup"
   ]
  },
  {
   "cell_type": "code",
   "execution_count": 14,
   "id": "d9ec1dc3-0023-4cf6-8a9a-65e1e7ed8cf4",
   "metadata": {},
   "outputs": [],
   "source": [
    "import logging\n",
    "import time\n",
    "import warnings\n",
    "\n",
    "import catboost as cb\n",
    "import datatable as dt\n",
    "import joblib\n",
    "import lightgbm as lgbm\n",
    "import matplotlib.pyplot as plt\n",
    "import numpy as np\n",
    "import optuna\n",
    "import pandas as pd\n",
    "import seaborn as sns\n",
    "import xgboost as xgb\n",
    "from optuna.samplers import TPESampler\n",
    "from sklearn.compose import (\n",
    "    ColumnTransformer,\n",
    "    make_column_selector,\n",
    "    make_column_transformer,\n",
    ")\n",
    "from sklearn.impute import SimpleImputer\n",
    "from sklearn.metrics import log_loss, mean_squared_error\n",
    "from sklearn.model_selection import (\n",
    "    KFold,\n",
    "    StratifiedKFold,\n",
    "    cross_validate,\n",
    "    train_test_split,\n",
    ")\n",
    "from sklearn.pipeline import Pipeline, make_pipeline\n",
    "from sklearn.preprocessing import OneHotEncoder, OrdinalEncoder, PowerTransformer\n",
    "\n",
    "logging.basicConfig(\n",
    "    format=\"%(asctime)s - %(message)s\", datefmt=\"%d-%b-%y %H:%M:%S\", level=logging.INFO\n",
    ")\n",
    "optuna.logging.set_verbosity(optuna.logging.WARNING)\n",
    "warnings.filterwarnings(\"ignore\")\n",
    "pd.set_option(\"float_format\", \"{:.5f}\".format)"
   ]
  },
  {
   "cell_type": "code",
   "execution_count": 18,
   "id": "38a12b95-d54f-46b2-95f1-f91549a5b2c1",
   "metadata": {},
   "outputs": [],
   "source": [
    "from sklearn.datasets import *\n",
    "\n",
    "X, y = make_regression(n_samples=1000000, n_features=10)\n",
    "X_train, X_valid, y_train, y_valid = train_test_split(\n",
    "    X, y, random_state=1121218, test_size=0.2\n",
    ")"
   ]
  },
  {
   "cell_type": "markdown",
   "id": "d5fa2988-4f3a-469b-ba42-3866d0e7e325",
   "metadata": {},
   "source": [
    "# Introduction"
   ]
  },
  {
   "cell_type": "markdown",
   "id": "e3311404-9f05-4819-a770-489fdee71a51",
   "metadata": {},
   "source": [
    "# 1. FunctionTransformer"
   ]
  },
  {
   "cell_type": "markdown",
   "id": "a52d732a-f988-4aae-b477-d4e0660a8ed5",
   "metadata": {},
   "source": [
    "### 💻Demo"
   ]
  },
  {
   "cell_type": "code",
   "execution_count": 8,
   "id": "3a20ca31-9087-479a-a566-fb400289e5ab",
   "metadata": {},
   "outputs": [],
   "source": [
    "from sklearn.preprocessing import FunctionTransformer\n",
    "\n",
    "\n",
    "def reduce_memory(X, y=None):\n",
    "    # Write your logic here...\n",
    "    pass\n",
    "\n",
    "\n",
    "ReduceMemoryTransformer = FunctionTransformer(reduce_memory)"
   ]
  },
  {
   "cell_type": "markdown",
   "id": "7684c161-589f-4f7c-a705-38c04d5fbf46",
   "metadata": {},
   "source": [
    "### 📚Documentation\n",
    "**FunctionTransformer** - [link](https://scikit-learn.org/stable/modules/generated/sklearn.preprocessing.FunctionTransformer.html#sklearn.preprocessing.FunctionTransformer)"
   ]
  },
  {
   "cell_type": "markdown",
   "id": "6d8dea8a-2659-4978-960f-dec41030793f",
   "metadata": {},
   "source": [
    "# 2. BaseEstimator and TransformerMixin"
   ]
  },
  {
   "cell_type": "markdown",
   "id": "a58592e7-18b5-473b-b54d-4d2465c53456",
   "metadata": {},
   "source": [
    "### 💻Demo"
   ]
  },
  {
   "cell_type": "code",
   "execution_count": 15,
   "id": "9645f183-e01e-433b-8263-c34558a0f58f",
   "metadata": {},
   "outputs": [],
   "source": [
    "from sklearn.base import BaseEstimator, TransformerMixin\n",
    "from sklearn.preprocessing import PowerTransformer\n",
    "\n",
    "\n",
    "class CustomLogTransformer(BaseEstimator, TransformerMixin):\n",
    "    def __init__(self):\n",
    "        self._estimator = PowerTransformer()\n",
    "\n",
    "    def fit(self, X, y=None):\n",
    "        X_copy = np.copy(X) + 1\n",
    "        self._estimator.fit(X_copy)\n",
    "\n",
    "        return self\n",
    "\n",
    "    def transform(self, X):\n",
    "        X_copy = np.copy(X) + 1\n",
    "\n",
    "        return self._estimator.transform(X_copy)\n",
    "\n",
    "    def inverse_transform(self, X):\n",
    "        X_reversed = self._estimator.inverse_transform(np.copy(X))\n",
    "\n",
    "        return X_reversed - 1"
   ]
  },
  {
   "cell_type": "markdown",
   "id": "3e45e816-6e95-490b-9490-e1ff4e3b496d",
   "metadata": {},
   "source": [
    "### 📚Documentation\n",
    "**BaseEstimator** - [link](https://scikit-learn.org/stable/modules/generated/sklearn.base.BaseEstimator.html#sklearn.base.BaseEstimator).\n",
    "\n",
    "**TransformerMixin** - [link](https://scikit-learn.org/stable/modules/generated/sklearn.base.TransformerMixin.html)."
   ]
  },
  {
   "cell_type": "markdown",
   "id": "f18d9805-04b2-4185-9f86-7510571d9a33",
   "metadata": {},
   "source": [
    "https://towardsdatascience.com/how-to-write-powerful-code-others-admire-with-custom-sklearn-transformers-34bc9087fdd?source=your_stories_page-------------------------------------"
   ]
  },
  {
   "cell_type": "markdown",
   "id": "57f8d110-8da5-4340-9cd1-4539d00bbcd8",
   "metadata": {},
   "source": [
    "# 3. TransformedTargetRegressor"
   ]
  },
  {
   "cell_type": "markdown",
   "id": "2a3f91e3-650b-4071-8660-f306f96bd692",
   "metadata": {},
   "source": [
    "### 💻Demo"
   ]
  },
  {
   "cell_type": "code",
   "execution_count": 17,
   "id": "66a52e7d-b421-41ab-b3fb-5d0ec0abe20a",
   "metadata": {},
   "outputs": [
    {
     "data": {
      "text/plain": [
       "TransformedTargetRegressor(regressor=LGBMRegressor(),\n",
       "                           transformer=CustomLogTransformer())"
      ]
     },
     "execution_count": 17,
     "metadata": {},
     "output_type": "execute_result"
    }
   ],
   "source": [
    "reg = lgbm.LGBMRegressor()\n",
    "\n",
    "final_estimator = TransformedTargetRegressor(\n",
    "    regressor=reg, transformer=CustomLogTransformer()\n",
    ")\n",
    "\n",
    "final_estimator.fit(X_train, y_train)"
   ]
  },
  {
   "cell_type": "markdown",
   "id": "65990740-3dd4-4754-8016-118d48107c62",
   "metadata": {},
   "source": [
    "### 📚Documentation\n",
    "\n",
    "**TransformedTargetregressor** - [link](https://scikit-learn.org/stable/modules/generated/sklearn.compose.TransformedTargetRegressor.html#sklearn.compose.TransformedTargetRegressor)."
   ]
  },
  {
   "cell_type": "markdown",
   "id": "e29541e1-72bd-46c5-8f3f-5d1db5ff1e47",
   "metadata": {},
   "source": [
    "# 4. QuadraticDiscriminantAnalysis"
   ]
  },
  {
   "cell_type": "markdown",
   "id": "2424a73a-4a52-49a5-bddd-a3e326fcca5e",
   "metadata": {},
   "source": [
    "![](https://miro.medium.com/proxy/1*utS0gTpSfjYPAJHCwuFGcg.png)"
   ]
  },
  {
   "cell_type": "markdown",
   "id": "90ae8538-8303-4333-8681-2b284ecc52a0",
   "metadata": {},
   "source": [
    "### 💻Demo"
   ]
  },
  {
   "cell_type": "code",
   "execution_count": 20,
   "id": "58693f81-d424-4453-9dc9-5a8fa528e6f8",
   "metadata": {},
   "outputs": [
    {
     "name": "stdout",
     "output_type": "stream",
     "text": [
      "Wall time: 14.2 s\n"
     ]
    }
   ],
   "source": [
    "%%time\n",
    "\n",
    "from sklearn.discriminant_analysis import QuadraticDiscriminantAnalysis\n",
    "\n",
    "X, y = make_classification(n_samples=1000000, n_features=100)\n",
    "qda = QuadraticDiscriminantAnalysis().fit(X, y)"
   ]
  },
  {
   "cell_type": "markdown",
   "id": "293909d3-93c8-434b-b21d-18013b061ffd",
   "metadata": {},
   "source": [
    "### 📚Documentation\n",
    "**QuadraticDiscriminantAnalysis** - [link](https://scikit-learn.org/stable/modules/generated/sklearn.discriminant_analysis.QuadraticDiscriminantAnalysis.html#sklearn.discriminant_analysis.QuadraticDiscriminantAnalysis)."
   ]
  },
  {
   "cell_type": "markdown",
   "id": "4e2f6eb8-1a2e-4318-825a-6882cfc586e8",
   "metadata": {},
   "source": [
    "# 5. Voting Classifier/Regresssor"
   ]
  },
  {
   "cell_type": "markdown",
   "id": "6daf8b00-d463-4149-a30b-005e5687e46b",
   "metadata": {},
   "source": [
    "### 💻Demo"
   ]
  },
  {
   "cell_type": "code",
   "execution_count": 27,
   "id": "4c8de0bb-f0e9-421a-a304-6afbeeb26f1e",
   "metadata": {},
   "outputs": [],
   "source": [
    "from sklearn.ensemble import VotingClassifier\n",
    "\n",
    "X, y = make_classification(n_samples=1000)\n",
    "\n",
    "ensemble = VotingClassifier(\n",
    "    estimators=[\n",
    "        (\"xgb\", xgb.XGBClassifier(eval_metric=\"auc\")),\n",
    "        (\"lgbm\", lgbm.LGBMClassifier()),\n",
    "        (\"cb\", cb.CatBoostClassifier(verbose=False)),\n",
    "    ],\n",
    "    voting=\"soft\",\n",
    "    # n_jobs=-1,\n",
    ")\n",
    "\n",
    "_ = ensemble.fit(X, y)"
   ]
  },
  {
   "cell_type": "markdown",
   "id": "3664236f-ddd9-4572-92c1-e5ab2a91d41e",
   "metadata": {},
   "source": [
    "### 📚Documentation\n",
    "**VotingClassifier** - [link](https://scikit-learn.org/stable/modules/generated/sklearn.ensemble.VotingClassifier.html#sklearn.ensemble.VotingClassifier).\n",
    "\n",
    "**VotingRegressor** - [link](https://scikit-learn.org/stable/modules/generated/sklearn.ensemble.VotingRegressor.html)."
   ]
  },
  {
   "cell_type": "markdown",
   "id": "6adba1c9-0a40-4026-a7f1-c8e3518b4ba4",
   "metadata": {
    "tags": []
   },
   "source": [
    "# 6. Stacking Classifier/Regressor"
   ]
  },
  {
   "cell_type": "markdown",
   "id": "bdb30164-3e36-4329-a594-b59351033233",
   "metadata": {},
   "source": [
    "### 💻Demo"
   ]
  },
  {
   "cell_type": "code",
   "execution_count": 30,
   "id": "aff38cc8-968d-4b4d-a094-5ab2f9b27847",
   "metadata": {},
   "outputs": [],
   "source": [
    "from sklearn.ensemble import StackingClassifier\n",
    "from sklearn.linear_model import LogisticRegression\n",
    "\n",
    "X, y = make_classification(n_samples=1000)\n",
    "\n",
    "ensemble = StackingClassifier(\n",
    "    estimators=[\n",
    "        (\"xgb\", xgb.XGBClassifier(eval_metric=\"auc\")),\n",
    "        (\"lgbm\", lgbm.LGBMClassifier()),\n",
    "        (\"cb\", cb.CatBoostClassifier(verbose=False)),\n",
    "    ],\n",
    "    final_estimator=LogisticRegression(),\n",
    "    cv=5,\n",
    "    passthrough=False\n",
    "    # n_jobs=-1,\n",
    ")\n",
    "\n",
    "_ = ensemble.fit(X, y)"
   ]
  },
  {
   "cell_type": "markdown",
   "id": "202fbe9d-fad5-499d-a9e6-f266e2448660",
   "metadata": {},
   "source": [
    "### 📚Documentation\n",
    "**StackingClassifier** - [link](https://scikit-learn.org/stable/modules/generated/sklearn.ensemble.StackingClassifier.html#sklearn.ensemble.StackingClassifier).\n",
    "\n",
    "**StackingRegressor** - [link](https://scikit-learn.org/stable/modules/generated/sklearn.ensemble.StackingRegressor.html)."
   ]
  },
  {
   "cell_type": "markdown",
   "id": "abbbc255-daba-4a34-b6cd-59e0f0e8c762",
   "metadata": {
    "tags": []
   },
   "source": [
    "# 7. LocalOutlierFactor"
   ]
  },
  {
   "cell_type": "markdown",
   "id": "5e19f22c-5b72-4253-85fa-e259b25e379e",
   "metadata": {},
   "source": [
    "### 💻Demo"
   ]
  },
  {
   "cell_type": "code",
   "execution_count": 37,
   "id": "61b08001-d6bd-46d1-a6cf-890b43016317",
   "metadata": {},
   "outputs": [
    {
     "name": "stdout",
     "output_type": "stream",
     "text": [
      "Wall time: 5.1 s\n"
     ]
    },
    {
     "data": {
      "text/plain": [
       "(array([ 287,  539, 1983, 2213, 2498, 2972, 3395, 3927, 4152, 4467, 4478,\n",
       "        4763], dtype=int64),)"
      ]
     },
     "execution_count": 37,
     "metadata": {},
     "output_type": "execute_result"
    }
   ],
   "source": [
    "%%time\n",
    "\n",
    "import umap  # pip install umap\n",
    "from sklearn.neighbors import LocalOutlierFactor\n",
    "\n",
    "X, y = make_classification(n_samples=5000, n_classes=2, n_features=10)\n",
    "X_reduced = umap.UMAP(n_components=2).fit_transform(X, y)\n",
    "\n",
    "lof = LocalOutlierFactor()\n",
    "labels = lof.fit_predict(X_reduced, y)\n",
    "\n",
    "np.where(labels == -1)"
   ]
  },
  {
   "cell_type": "markdown",
   "id": "63e577e7-dc28-4587-9d1d-9bd772abe09b",
   "metadata": {},
   "source": [
    "### 📚Documentation\n",
    "**LocalOutlierFactor** - [link](https://scikit-learn.org/stable/modules/generated/sklearn.neighbors.LocalOutlierFactor.html#sklearn.neighbors.LocalOutlierFactor)."
   ]
  },
  {
   "cell_type": "markdown",
   "id": "a0f8688c-65ad-4020-b323-073831be8879",
   "metadata": {},
   "source": [
    "# 8. QuantileTransformer"
   ]
  },
  {
   "cell_type": "code",
   "execution_count": 41,
   "id": "4575c4b4-45b3-434c-a4ea-116b72105d8e",
   "metadata": {},
   "outputs": [
    {
     "data": {
      "image/png": "[encoded data removed]",
      "text/plain": [
       "<Figure size 1440x432 with 3 Axes>"
      ]
     },
     "metadata": {
      "needs_background": "light"
     },
     "output_type": "display_data"
    }
   ],
   "source": [
    "tps_sep = dt.fread(\"data/train.csv\").to_pandas()\n",
    "\n",
    "fig, axes = plt.subplots(1, 3, figsize=(20, 6))\n",
    "crazy_features = [\"f18\", \"f31\", \"f61\"]\n",
    "\n",
    "for ax, f_name in zip(axes.flatten(), crazy_features):\n",
    "    sns.kdeplot(tps_sep[f_name], ax=ax, color=\"#E50914\")"
   ]
  },
  {
   "cell_type": "markdown",
   "id": "153f4f6a-fa37-43be-98fc-9062b530d63a",
   "metadata": {},
   "source": [
    "### 💻Demo"
   ]
  },
  {
   "cell_type": "code",
   "execution_count": 43,
   "id": "18dd9e8c-564c-491c-9b89-5b05d78d0e04",
   "metadata": {},
   "outputs": [],
   "source": [
    "from sklearn.preprocessing import QuantileTransformer\n",
    "\n",
    "qt = QuantileTransformer().fit(tps_sep[crazy_features])\n",
    "\n",
    "tps_sep.loc[:, crazy_features] = qt.transform(tps_sep[crazy_features])"
   ]
  },
  {
   "cell_type": "code",
   "execution_count": 47,
   "id": "1d4b39ca-01a6-4bdd-814a-947883a42c1c",
   "metadata": {},
   "outputs": [
    {
     "data": {
      "image/png": "[encoded data removed]",
      "text/plain": [
       "<Figure size 1440x432 with 3 Axes>"
      ]
     },
     "metadata": {
      "needs_background": "light"
     },
     "output_type": "display_data"
    }
   ],
   "source": [
    "fig, axes = plt.subplots(1, 3, figsize=(20, 6))\n",
    "crazy_features = [\"f18\", \"f31\", \"f61\"]\n",
    "\n",
    "for ax, f_name in zip(axes.flatten(), crazy_features):\n",
    "    sns.kdeplot(tps_sep[f_name], ax=ax, color=\"#E50914\")"
   ]
  },
  {
   "cell_type": "markdown",
   "id": "f4cf648d-645f-4cc0-b749-02f15cad434c",
   "metadata": {},
   "source": [
    "### 📚Documentation\n",
    "**QuantileTransformer** - [link](https://scikit-learn.org/stable/modules/generated/sklearn.preprocessing.QuantileTransformer.html#sklearn.preprocessing.QuantileTransformer)."
   ]
  },
  {
   "cell_type": "markdown",
   "id": "bf0fbcf8-8a0d-42d3-af24-571eafddc73d",
   "metadata": {
    "tags": []
   },
   "source": [
    "# 9. PCA + tSNE"
   ]
  },
  {
   "cell_type": "markdown",
   "id": "6a32039c-fe9f-4775-9db9-1329438387c0",
   "metadata": {},
   "source": [
    "### 💻Demo"
   ]
  },
  {
   "cell_type": "code",
   "execution_count": 59,
   "id": "74864dc3-65d7-4f06-b8e2-b1362bae22f3",
   "metadata": {},
   "outputs": [
    {
     "data": {
      "text/plain": [
       "(1000000, 287)"
      ]
     },
     "execution_count": 59,
     "metadata": {},
     "output_type": "execute_result"
    }
   ],
   "source": [
    "from sklearn.decomposition import PCA\n",
    "from sklearn.manifold import TSNE\n",
    "\n",
    "tps_october = dt.fread(\"data/train_oct.csv\").to_pandas()\n",
    "tps_october.shape"
   ]
  },
  {
   "cell_type": "code",
   "execution_count": 61,
   "id": "90c99445-c8b7-4a34-880b-72aa32d04eeb",
   "metadata": {},
   "outputs": [],
   "source": [
    "X, y = tps_october.drop(\"target\", axis=1), tps_october[[\"target\"]].values.flatten()"
   ]
  },
  {
   "cell_type": "code",
   "execution_count": null,
   "id": "aebeb8e6-7440-4a2f-bf9c-ed3daec0173d",
   "metadata": {},
   "outputs": [],
   "source": [
    "%%time\n",
    "manifold_pipe = make_pipeline(QuantileTransformer(), PCA(n_components=30), TSNE())\n",
    "\n",
    "reduced_X = manifold_pipe.fit_transform(X, y)"
   ]
  },
  {
   "cell_type": "code",
   "execution_count": null,
   "id": "47a39dc1-25ed-46c4-98b7-85b85314a137",
   "metadata": {},
   "outputs": [],
   "source": [
    "%%time\n",
    "manifold_pipe = make_pipeline(QuantileTransformer(), PCA(n_components=30))\n",
    "\n",
    "X_pca = manifold_pipe.fit_transform(X, y)\n",
    "embedding = umap.UMAP(n_components=2).fit(X_pca, y)"
   ]
  },
  {
   "cell_type": "code",
   "execution_count": null,
   "id": "25a8edf0-3906-4902-a939-de0ad9a77b3a",
   "metadata": {},
   "outputs": [],
   "source": [
    "umap.plot.points(embedding, theme=\"fire\");"
   ]
  },
  {
   "cell_type": "markdown",
   "id": "b1357e0d-e6fd-4a61-9e29-122e73dd1cd7",
   "metadata": {},
   "source": [
    "### 📚Documentation\n",
    "**PCA** - [link](https://scikit-learn.org/stable/modules/generated/sklearn.decomposition.PCA.html).\n",
    "\n",
    "**tSNE** - [link](https://scikit-learn.org/stable/modules/generated/sklearn.manifold.TSNE.html#sklearn.manifold.TSNE).\n",
    "\n",
    "**UMAP** - [link](https://umap-learn.readthedocs.io/)."
   ]
  },
  {
   "cell_type": "markdown",
   "id": "1d26bd09-8008-42de-a348-86185c8139e7",
   "metadata": {
    "tags": []
   },
   "source": [
    "# 10. HTML Estimator Representation"
   ]
  },
  {
   "cell_type": "code",
   "execution_count": 53,
   "id": "043adeb9-9a5f-4de6-b5b0-096518ec540f",
   "metadata": {},
   "outputs": [],
   "source": [
    "cat_pipe = Pipeline(\n",
    "    steps=[(\"impute\", SimpleImputer(strategy=\"most_frequent\")), (\"oh\", OneHotEncoder())]\n",
    ")\n",
    "\n",
    "num_pipe = Pipeline(\n",
    "    steps=[\n",
    "        (\"impute\", SimpleImputer(strategy=\"median\")),\n",
    "        (\"transform\", QuantileTransformer()),\n",
    "    ]\n",
    ")\n",
    "\n",
    "composed = ColumnTransformer(\n",
    "    transformers=[\n",
    "        (\"cat_pipe\", cat_pipe, make_column_selector(dtype_exclude=np.number)),\n",
    "        (\"num_pipe\", num_pipe, make_column_selector(dtype_include=np.number)),\n",
    "    ]\n",
    ")\n",
    "\n",
    "giant_pipeline = make_pipeline(\n",
    "    composed,\n",
    "    lgbm.LGBMRegressor(n_estimators=10000, learning_rate=0.01, device_type=\"gpu\"),\n",
    ")"
   ]
  },
  {
   "cell_type": "code",
   "execution_count": 56,
   "id": "bcdfc99f-1f66-4dbc-a6e8-2e70e6e6c39a",
   "metadata": {},
   "outputs": [
    {
     "data": {
      "text/plain": [
       "Pipeline(steps=[('columntransformer',\n",
       "                 ColumnTransformer(transformers=[('cat_pipe',\n",
       "                                                  Pipeline(steps=[('impute',\n",
       "                                                                   SimpleImputer(strategy='most_frequent')),\n",
       "                                                                  ('oh',\n",
       "                                                                   OneHotEncoder())]),\n",
       "                                                  <sklearn.compose._column_transformer.make_column_selector object at 0x000001CD095DEDF0>),\n",
       "                                                 ('num_pipe',\n",
       "                                                  Pipeline(steps=[('impute',\n",
       "                                                                   SimpleImputer(strategy='median')),\n",
       "                                                                  ('transform',\n",
       "                                                                   QuantileTransformer())]),\n",
       "                                                  <sklearn.compose._column_transformer.make_column_selector object at 0x000001CD095DECD0>)])),\n",
       "                ('lgbmregressor',\n",
       "                 LGBMRegressor(device_type='gpu', learning_rate=0.01,\n",
       "                               n_estimators=10000))])"
      ]
     },
     "execution_count": 56,
     "metadata": {},
     "output_type": "execute_result"
    }
   ],
   "source": [
    "giant_pipeline"
   ]
  },
  {
   "cell_type": "markdown",
   "id": "eb624396-bd74-4895-901f-8aea83bdd844",
   "metadata": {},
   "source": [
    "### 💻Demo\n",
    "\n",
    "```python\n",
    "from sklearn import set_config\n",
    "\n",
    "set_config(display=\"diagram\")\n",
    "```\n",
    "\n",
    "![](images/pipeline.png)"
   ]
  },
  {
   "cell_type": "markdown",
   "id": "fcd69231-1037-4ca3-88e5-59fb51475459",
   "metadata": {},
   "source": [
    "### 📚Documentation\n",
    "**sklearn.set_config** - [link](https://scikit-learn.org/stable/modules/generated/sklearn.set_config.html).\n",
    "\n",
    "**sklearn.utils.estimator_html_repr** - [link](https://scikit-learn.org/stable/modules/generated/sklearn.utils.estimator_html_repr.html)"
   ]
  },
  {
   "cell_type": "markdown",
   "id": "33fcabe5-f2e9-446b-b27c-c247301f0efc",
   "metadata": {},
   "source": [
    "# Summary"
   ]
  }
 ],
 "metadata": {
  "kernelspec": {
   "display_name": "kaggle_comp",
   "language": "python",
   "name": "kaggle_comp"
  },
  "language_info": {
   "codemirror_mode": {
    "name": "ipython",
    "version": 3
   },
   "file_extension": ".py",
   "mimetype": "text/x-python",
   "name": "python",
   "nbconvert_exporter": "python",
   "pygments_lexer": "ipython3",
   "version": "3.9.7"
  }
 },
 "nbformat": 4,
 "nbformat_minor": 5
}
