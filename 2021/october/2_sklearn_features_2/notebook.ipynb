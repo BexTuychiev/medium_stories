{
 "cells": [
  {
   "cell_type": "markdown",
   "id": "c2927908-aef4-4148-917e-57b0a4763cd1",
   "metadata": {},
   "source": [
    "# 11 Sklearn Features I Sincerely Hope You Learn After Using It For a Year\n",
    "## TODO\n",
    "![](images/pexels.jpg)\n",
    "<figcaption style=\"text-align: center;\">\n",
    "    <strong>\n",
    "        Photo by \n",
    "        <a href='https://www.pexels.com/@psco?utm_content=attributionCopyText&utm_medium=referral&utm_source=pexels'>Pineapple Supply Co.</a>\n",
    "        on \n",
    "        <a href='https://www.pexels.com/photo/photo-of-three-pineapples-surrounded-by-balloons-1071882/?utm_content=attributionCopyText&utm_medium=referral&utm_source=pexels'>Pexels</a>\n",
    "    </strong>\n",
    "</figcaption>"
   ]
  },
  {
   "cell_type": "markdown",
   "id": "e3311404-9f05-4819-a770-489fdee71a51",
   "metadata": {},
   "source": [
    "# 1. FunctionTransformer"
   ]
  },
  {
   "cell_type": "markdown",
   "id": "6d8dea8a-2659-4978-960f-dec41030793f",
   "metadata": {},
   "source": [
    "# 2. BaseEstimator and TransformerMixin"
   ]
  },
  {
   "cell_type": "markdown",
   "id": "57f8d110-8da5-4340-9cd1-4539d00bbcd8",
   "metadata": {},
   "source": [
    "# 3. TransformedTargetRegressor"
   ]
  },
  {
   "cell_type": "markdown",
   "id": "e29541e1-72bd-46c5-8f3f-5d1db5ff1e47",
   "metadata": {},
   "source": [
    "# 4. QuadraticDiscriminantAnalysis"
   ]
  },
  {
   "cell_type": "markdown",
   "id": "4e2f6eb8-1a2e-4318-825a-6882cfc586e8",
   "metadata": {},
   "source": [
    "# 5. Voting Classifier/Regresssor"
   ]
  },
  {
   "cell_type": "markdown",
   "id": "6adba1c9-0a40-4026-a7f1-c8e3518b4ba4",
   "metadata": {},
   "source": [
    "# 6. Stacking Classifier/Regressor"
   ]
  },
  {
   "cell_type": "markdown",
   "id": "abbbc255-daba-4a34-b6cd-59e0f0e8c762",
   "metadata": {},
   "source": [
    "# 7. LocalOutlierFactor"
   ]
  },
  {
   "cell_type": "markdown",
   "id": "d9d035e4-840f-416d-a7d0-ae0cd3f5be7d",
   "metadata": {},
   "source": [
    "# 8. IsolatioForest"
   ]
  },
  {
   "cell_type": "markdown",
   "id": "a0f8688c-65ad-4020-b323-073831be8879",
   "metadata": {},
   "source": [
    "# 9. QuantileTransformer"
   ]
  },
  {
   "cell_type": "markdown",
   "id": "bf0fbcf8-8a0d-42d3-af24-571eafddc73d",
   "metadata": {},
   "source": [
    "# 10. PCA + tSNE"
   ]
  },
  {
   "cell_type": "markdown",
   "id": "1d26bd09-8008-42de-a348-86185c8139e7",
   "metadata": {},
   "source": [
    "# 11. HTML Estimator Representation"
   ]
  }
 ],
 "metadata": {
  "kernelspec": {
   "display_name": "kaggle_comp",
   "language": "python",
   "name": "kaggle_comp"
  },
  "language_info": {
   "codemirror_mode": {
    "name": "ipython",
    "version": 3
   },
   "file_extension": ".py",
   "mimetype": "text/x-python",
   "name": "python",
   "nbconvert_exporter": "python",
   "pygments_lexer": "ipython3",
   "version": "3.9.7"
  }
 },
 "nbformat": 4,
 "nbformat_minor": 5
}
