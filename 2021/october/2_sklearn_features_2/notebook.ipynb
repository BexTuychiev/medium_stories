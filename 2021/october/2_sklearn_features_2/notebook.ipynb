{
 "cells": [
  {
   "cell_type": "markdown",
   "id": "c2927908-aef4-4148-917e-57b0a4763cd1",
   "metadata": {},
   "source": [
    "# 11 Sklearn Features I Sincerely Hope You Learn After Using It For a Year\n",
    "## TODO\n",
    "![](images/pexels.jpg)\n",
    "<figcaption style=\"text-align: center;\">\n",
    "    <strong>\n",
    "        Photo by \n",
    "        <a href='https://www.pexels.com/@psco?utm_content=attributionCopyText&utm_medium=referral&utm_source=pexels'>Pineapple Supply Co.</a>\n",
    "        on \n",
    "        <a href='https://www.pexels.com/photo/photo-of-three-pineapples-surrounded-by-balloons-1071882/?utm_content=attributionCopyText&utm_medium=referral&utm_source=pexels'>Pexels</a>\n",
    "    </strong>\n",
    "</figcaption>"
   ]
  },
  {
   "cell_type": "markdown",
   "id": "7f2da286-86da-4320-b7fb-b42075263cb8",
   "metadata": {},
   "source": [
    "# Setup"
   ]
  },
  {
   "cell_type": "code",
   "execution_count": 1,
   "id": "d9ec1dc3-0023-4cf6-8a9a-65e1e7ed8cf4",
   "metadata": {},
   "outputs": [
    {
     "data": {
      "text/html": [
       "<style type='text/css'>\n",
       ".datatable table.frame { margin-bottom: 0; }\n",
       ".datatable table.frame thead { border-bottom: none; }\n",
       ".datatable table.frame tr.coltypes td {  color: #FFFFFF;  line-height: 6px;  padding: 0 0.5em;}\n",
       ".datatable .bool    { background: #DDDD99; }\n",
       ".datatable .object  { background: #565656; }\n",
       ".datatable .int     { background: #5D9E5D; }\n",
       ".datatable .float   { background: #4040CC; }\n",
       ".datatable .str     { background: #CC4040; }\n",
       ".datatable .time    { background: #40CC40; }\n",
       ".datatable .row_index {  background: var(--jp-border-color3);  border-right: 1px solid var(--jp-border-color0);  color: var(--jp-ui-font-color3);  font-size: 9px;}\n",
       ".datatable .frame tbody td { text-align: left; }\n",
       ".datatable .frame tr.coltypes .row_index {  background: var(--jp-border-color0);}\n",
       ".datatable th:nth-child(2) { padding-left: 12px; }\n",
       ".datatable .hellipsis {  color: var(--jp-cell-editor-border-color);}\n",
       ".datatable .vellipsis {  background: var(--jp-layout-color0);  color: var(--jp-cell-editor-border-color);}\n",
       ".datatable .na {  color: var(--jp-cell-editor-border-color);  font-size: 80%;}\n",
       ".datatable .sp {  opacity: 0.25;}\n",
       ".datatable .footer { font-size: 9px; }\n",
       ".datatable .frame_dimensions {  background: var(--jp-border-color3);  border-top: 1px solid var(--jp-border-color0);  color: var(--jp-ui-font-color3);  display: inline-block;  opacity: 0.6;  padding: 1px 10px 1px 5px;}\n",
       "</style>\n"
      ],
      "text/plain": [
       "<IPython.core.display.HTML object>"
      ]
     },
     "metadata": {},
     "output_type": "display_data"
    }
   ],
   "source": [
    "import logging\n",
    "import time\n",
    "import warnings\n",
    "\n",
    "import catboost as cb\n",
    "import datatable as dt\n",
    "import joblib\n",
    "import lightgbm as lgbm\n",
    "import matplotlib.pyplot as plt\n",
    "import numpy as np\n",
    "import optuna\n",
    "import pandas as pd\n",
    "import seaborn as sns\n",
    "import xgboost as xgb\n",
    "from optuna.samplers import TPESampler\n",
    "from sklearn.compose import (\n",
    "    ColumnTransformer,\n",
    "    make_column_selector,\n",
    "    make_column_transformer,\n",
    ")\n",
    "from sklearn.impute import SimpleImputer\n",
    "from sklearn.metrics import log_loss, mean_squared_error\n",
    "from sklearn.model_selection import (\n",
    "    KFold,\n",
    "    StratifiedKFold,\n",
    "    cross_validate,\n",
    "    train_test_split,\n",
    ")\n",
    "from sklearn.pipeline import Pipeline, make_pipeline\n",
    "from sklearn.preprocessing import OneHotEncoder, OrdinalEncoder\n",
    "\n",
    "logging.basicConfig(\n",
    "    format=\"%(asctime)s - %(message)s\", datefmt=\"%d-%b-%y %H:%M:%S\", level=logging.INFO\n",
    ")\n",
    "optuna.logging.set_verbosity(optuna.logging.WARNING)\n",
    "warnings.filterwarnings(\"ignore\")\n",
    "pd.set_option(\"float_format\", \"{:.5f}\".format)"
   ]
  },
  {
   "cell_type": "code",
   "execution_count": 4,
   "id": "38a12b95-d54f-46b2-95f1-f91549a5b2c1",
   "metadata": {},
   "outputs": [],
   "source": [
    "from sklearn.datasets import *\n",
    "\n",
    "X, y = make_regression(n_samples=10000, n_features=10)\n",
    "X_train, X_valid, y_train, y_valid = train_test_split(\n",
    "    X, y, random_state=1121218, test_size=0.2\n",
    ")"
   ]
  },
  {
   "cell_type": "markdown",
   "id": "d5fa2988-4f3a-469b-ba42-3866d0e7e325",
   "metadata": {},
   "source": [
    "# Introduction"
   ]
  },
  {
   "cell_type": "markdown",
   "id": "e3311404-9f05-4819-a770-489fdee71a51",
   "metadata": {},
   "source": [
    "# 1. FunctionTransformer"
   ]
  },
  {
   "cell_type": "markdown",
   "id": "6d8dea8a-2659-4978-960f-dec41030793f",
   "metadata": {},
   "source": [
    "# 2. BaseEstimator and TransformerMixin"
   ]
  },
  {
   "cell_type": "markdown",
   "id": "57f8d110-8da5-4340-9cd1-4539d00bbcd8",
   "metadata": {},
   "source": [
    "# 3. TransformedTargetRegressor"
   ]
  },
  {
   "cell_type": "markdown",
   "id": "e29541e1-72bd-46c5-8f3f-5d1db5ff1e47",
   "metadata": {},
   "source": [
    "# 4. QuadraticDiscriminantAnalysis"
   ]
  },
  {
   "cell_type": "markdown",
   "id": "4e2f6eb8-1a2e-4318-825a-6882cfc586e8",
   "metadata": {},
   "source": [
    "# 5. Voting Classifier/Regresssor"
   ]
  },
  {
   "cell_type": "markdown",
   "id": "6adba1c9-0a40-4026-a7f1-c8e3518b4ba4",
   "metadata": {},
   "source": [
    "# 6. Stacking Classifier/Regressor"
   ]
  },
  {
   "cell_type": "markdown",
   "id": "d9d035e4-840f-416d-a7d0-ae0cd3f5be7d",
   "metadata": {},
   "source": [
    "# 7. IsolatioForest"
   ]
  },
  {
   "cell_type": "markdown",
   "id": "abbbc255-daba-4a34-b6cd-59e0f0e8c762",
   "metadata": {},
   "source": [
    "# 8. LocalOutlierFactor"
   ]
  },
  {
   "cell_type": "markdown",
   "id": "a0f8688c-65ad-4020-b323-073831be8879",
   "metadata": {},
   "source": [
    "# 9. QuantileTransformer"
   ]
  },
  {
   "cell_type": "markdown",
   "id": "bf0fbcf8-8a0d-42d3-af24-571eafddc73d",
   "metadata": {},
   "source": [
    "# 10. PCA + tSNE"
   ]
  },
  {
   "cell_type": "markdown",
   "id": "1d26bd09-8008-42de-a348-86185c8139e7",
   "metadata": {},
   "source": [
    "# 11. HTML Estimator Representation"
   ]
  },
  {
   "cell_type": "markdown",
   "id": "33fcabe5-f2e9-446b-b27c-c247301f0efc",
   "metadata": {},
   "source": [
    "# Summary"
   ]
  }
 ],
 "metadata": {
  "kernelspec": {
   "display_name": "kaggle_comp",
   "language": "python",
   "name": "kaggle_comp"
  },
  "language_info": {
   "codemirror_mode": {
    "name": "ipython",
    "version": 3
   },
   "file_extension": ".py",
   "mimetype": "text/x-python",
   "name": "python",
   "nbconvert_exporter": "python",
   "pygments_lexer": "ipython3",
   "version": "3.9.7"
  }
 },
 "nbformat": 4,
 "nbformat_minor": 5
}
