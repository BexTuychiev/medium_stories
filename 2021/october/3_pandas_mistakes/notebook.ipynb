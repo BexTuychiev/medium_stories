{
 "cells": [
  {
   "cell_type": "markdown",
   "id": "f10f64f1-4000-4926-9f7b-208a6069a049",
   "metadata": {},
   "source": [
    "# 7 Pandas Mistakes That Silently Tell You Are a Rookie\n",
    "## No error messages - that's what makes them subtle\n",
    "![](images/unsplash.jpg)\n",
    "<figcaption style=\"text-align: center;\">\n",
    "    <strong>\n",
    "        Photo by \n",
    "        <a href='https://unsplash.com/@michalmatlon?utm_source=unsplash&utm_medium=referral&utm_content=creditCopyText'>Michal Matlon</a>\n",
    "        on \n",
    "        <a href='https://unsplash.com/s/photos/problem?utm_source=unsplash&utm_medium=referral&utm_content=creditCopyText'>Unsplash.</a> All images are by the author unless specified otherwise.\n",
    "    </strong>\n",
    "</figcaption>"
   ]
  },
  {
   "cell_type": "markdown",
   "id": "7e3aa887-d0d5-4d9e-a991-39ae774f7080",
   "metadata": {},
   "source": [
    "# Introduction"
   ]
  },
  {
   "cell_type": "markdown",
   "id": "3c5cafe4-d746-4d75-a335-076af717d900",
   "metadata": {},
   "source": [
    "# 1. Using Pandas itself"
   ]
  },
  {
   "cell_type": "markdown",
   "id": "40df873a-788a-43bd-a51a-897fcb3afc42",
   "metadata": {},
   "source": [
    "# 2. No vectors?"
   ]
  },
  {
   "cell_type": "markdown",
   "id": "62fb4f44-e610-4af6-b8b7-9ef59dc7e70f",
   "metadata": {},
   "source": [
    "# 3. Data types, dtypes, types!"
   ]
  },
  {
   "cell_type": "markdown",
   "id": "023c581a-580f-4965-b605-fbc4967289fa",
   "metadata": {},
   "source": [
    "# 4. No styling?"
   ]
  },
  {
   "cell_type": "markdown",
   "id": "771842ef-29aa-4c24-a5f5-079ae460995e",
   "metadata": {},
   "source": [
    "# 5. You've got no other option!"
   ]
  },
  {
   "cell_type": "markdown",
   "id": "b7ce6a6d-e69e-4e6c-838a-c43dad50be7b",
   "metadata": {},
   "source": [
    "# 6. Saving to CSVs"
   ]
  },
  {
   "cell_type": "markdown",
   "id": "36e62551-6bad-4748-85c1-d4cf9fd43307",
   "metadata": {},
   "source": [
    "# 7. You should've read the user guide!"
   ]
  },
  {
   "cell_type": "markdown",
   "id": "d22075ec-76a7-4269-8ffc-4e4358de93bf",
   "metadata": {},
   "source": [
    "# Summary"
   ]
  }
 ],
 "metadata": {
  "kernelspec": {
   "display_name": "medium_articles",
   "language": "python",
   "name": "medium_articles"
  },
  "language_info": {
   "codemirror_mode": {
    "name": "ipython",
    "version": 3
   },
   "file_extension": ".py",
   "mimetype": "text/x-python",
   "name": "python",
   "nbconvert_exporter": "python",
   "pygments_lexer": "ipython3",
   "version": "3.8.11"
  }
 },
 "nbformat": 4,
 "nbformat_minor": 5
}
