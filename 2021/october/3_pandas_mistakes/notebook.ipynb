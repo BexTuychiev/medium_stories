{
 "cells": [
  {
   "cell_type": "markdown",
   "id": "f10f64f1-4000-4926-9f7b-208a6069a049",
   "metadata": {},
   "source": [
    "# 7 Pandas Mistakes That Silently Tell You Are a Rookie\n",
    "## No error messages - that's what makes them subtle\n",
    "![](images/unsplash.jpg)\n",
    "<figcaption style=\"text-align: center;\">\n",
    "    <strong>\n",
    "        Photo by \n",
    "        <a href='https://unsplash.com/@michalmatlon?utm_source=unsplash&utm_medium=referral&utm_content=creditCopyText'>Michal Matlon</a>\n",
    "        on \n",
    "        <a href='https://unsplash.com/s/photos/problem?utm_source=unsplash&utm_medium=referral&utm_content=creditCopyText'>Unsplash.</a> All images are by the author unless specified otherwise.\n",
    "    </strong>\n",
    "</figcaption>"
   ]
  },
  {
   "cell_type": "markdown",
   "id": "95e5e778-d124-483e-a4ab-144af9f9a85e",
   "metadata": {},
   "source": [
    "# Setup"
   ]
  },
  {
   "cell_type": "code",
   "execution_count": 5,
   "id": "da6e60c1-e9f5-45a7-a22e-83bb98bea9c6",
   "metadata": {},
   "outputs": [],
   "source": [
    "import logging\n",
    "import time\n",
    "import warnings\n",
    "\n",
    "import catboost as cb\n",
    "import datatable as dt\n",
    "import joblib\n",
    "import lightgbm as lgbm\n",
    "import matplotlib.pyplot as plt\n",
    "import numpy as np\n",
    "import optuna\n",
    "import pandas as pd\n",
    "import seaborn as sns\n",
    "import shap\n",
    "import umap\n",
    "import umap.plot\n",
    "import xgboost as xgb\n",
    "from optuna.samplers import TPESampler\n",
    "from sklearn.compose import *\n",
    "from sklearn.impute import *\n",
    "from sklearn.metrics import *\n",
    "from sklearn.model_selection import *\n",
    "from sklearn.pipeline import Pipeline, make_pipeline\n",
    "from sklearn.preprocessing import *\n",
    "\n",
    "logging.basicConfig(\n",
    "    format=\"%(asctime)s - %(message)s\", datefmt=\"%d-%b-%y %H:%M:%S\", level=logging.INFO\n",
    ")\n",
    "optuna.logging.set_verbosity(optuna.logging.WARNING)\n",
    "warnings.filterwarnings(\"ignore\")\n",
    "pd.set_option(\"float_format\", \"{:.5f}\".format)"
   ]
  },
  {
   "cell_type": "markdown",
   "id": "7e3aa887-d0d5-4d9e-a991-39ae774f7080",
   "metadata": {},
   "source": [
    "# Introduction"
   ]
  },
  {
   "cell_type": "markdown",
   "id": "3c5cafe4-d746-4d75-a335-076af717d900",
   "metadata": {
    "tags": []
   },
   "source": [
    "# 1. Using Pandas itself"
   ]
  },
  {
   "cell_type": "markdown",
   "id": "27a05ec9-cf4a-4442-937d-54b37b9a38d3",
   "metadata": {},
   "source": [
    "It is kind of ironic that the first mistake is related to actually using Pandas for certain tasks. Specifically, today's real-world tabular datasets are just massive. To read them into your environment with Pandas would be a grievous mistake. \n",
    "\n",
    "Why? Because it is so damn slow! Below, we load the TPS October dataset that has 1M rows and ~300 features, taking up a whopping 2.2GB of disk space. "
   ]
  },
  {
   "cell_type": "code",
   "execution_count": 29,
   "id": "b5680652-a7c0-45e7-8e1e-dd28018ff263",
   "metadata": {},
   "outputs": [],
   "source": [
    "import pandas as pd"
   ]
  },
  {
   "cell_type": "code",
   "execution_count": 3,
   "id": "593b0934-4f76-4c26-965d-4bf04ce1ac36",
   "metadata": {},
   "outputs": [
    {
     "name": "stdout",
     "output_type": "stream",
     "text": [
      "Wall time: 21.8 s\n"
     ]
    }
   ],
   "source": [
    "%%time\n",
    "\n",
    "tps_october = pd.read_csv(\"data/train.csv\")"
   ]
  },
  {
   "cell_type": "markdown",
   "id": "69d7f8f9-d0f2-4f73-8006-e4e3a4a8d689",
   "metadata": {},
   "source": [
    "It took ~22 seconds. Now, you might be saying that 22 seconds isn't that much but imagine this. In a single project, you will perform many experiments during different stages. You will probably create separate scripts or notebooks for cleaning, feature engineering, choosing a model and many more for other tasks.\n",
    "\n",
    "Waiting for the data to load for 20 seconds really gets on your nerves. Besides, your dataset will probably be much larger. So, what is a faster solution?\n",
    "\n",
    "The solution is to ditch Pandas at this stage and use other alternatives that are specifically designed for fast IO. My favorite one is `datatable` but you can also go for `Dask`, `Vaex`, `cuDF`, etc. Here is how long it takes to load the same dataset with `datatable`:"
   ]
  },
  {
   "cell_type": "code",
   "execution_count": 30,
   "id": "afb93c33-6ba5-4803-a787-cce23eb51378",
   "metadata": {},
   "outputs": [],
   "source": [
    "import datatable as dt  # pip install datatble"
   ]
  },
  {
   "cell_type": "code",
   "execution_count": 4,
   "id": "b2d8c632-30be-4f35-af37-24382cffcd2d",
   "metadata": {},
   "outputs": [
    {
     "name": "stdout",
     "output_type": "stream",
     "text": [
      "Wall time: 2 s\n"
     ]
    }
   ],
   "source": [
    "%%time\n",
    "\n",
    "tps_dt_october = dt.fread(\"data/train.csv\").to_pandas()"
   ]
  },
  {
   "cell_type": "markdown",
   "id": "8e467060-a99e-4491-9ae1-5cb899fbedb1",
   "metadata": {},
   "source": [
    "Just 2 seconds!"
   ]
  },
  {
   "cell_type": "markdown",
   "id": "40df873a-788a-43bd-a51a-897fcb3afc42",
   "metadata": {},
   "source": [
    "# 2. No vectors?"
   ]
  },
  {
   "cell_type": "markdown",
   "id": "72c5bc7c-9e93-4723-b7c7-40677bc41299",
   "metadata": {},
   "source": [
    "One of the craziest rules in [functional programming](https://en.wikipedia.org/wiki/Functional_programming) is to never use loops (along with the \"no variables\" rule). It seems that sticking to this \"no-loops\" rule while using Pandas is the best you can do to speed up computations. \n",
    "\n",
    "Functional programming replaces loops with recursion. Fortunately, we don't have to so hard on ourselves because we can just use vectorization! \n",
    "\n",
    "Vectorization, which is at the heart of Pandas and NumPy, is the process of performing mathematical operations on whole arrays rather than individual scalars. The best part is that Pandas already has a large suite of vectorized functions, eliminating the need to reinvent the wheel. \n",
    "\n",
    "All arithmetic operators in Python (+, -, \\*, /, \\**) work in vectorized manner when used on Pandas series or dataframes. Also, any other mathematical function you see in Pandas or NumPy is already vectorized. \n",
    "\n",
    "To see the speed increase, we will use the below `big_function` that takes 3 columns as an input and performs some meaningless arithmetic:"
   ]
  },
  {
   "cell_type": "code",
   "execution_count": 16,
   "id": "b9df88fc-1903-4f03-bb15-44cdea66704c",
   "metadata": {},
   "outputs": [],
   "source": [
    "def big_function(col1, col2, col3):\n",
    "    return np.log(col1 ** 10 / col2 ** 9 + np.sqrt(col3 ** 3))"
   ]
  },
  {
   "cell_type": "markdown",
   "id": "5ea5362c-67cd-4f9b-b73c-9a36aec2781d",
   "metadata": {},
   "source": [
    "First, we will use this function with Pandas's faster iterator - `apply`:"
   ]
  },
  {
   "cell_type": "code",
   "execution_count": 19,
   "id": "6d69da9c-3c72-43cb-bd0a-7a5e97eb0204",
   "metadata": {},
   "outputs": [
    {
     "name": "stdout",
     "output_type": "stream",
     "text": [
      "Wall time: 20.1 s\n"
     ]
    }
   ],
   "source": [
    "%time tps_october['f1000'] = tps_october.apply(lambda row: big_function(row['f0'], row['f1'], row['f2']), axis=1)"
   ]
  },
  {
   "cell_type": "markdown",
   "id": "2d58f838-082b-4153-8c09-caf4b25da5cd",
   "metadata": {},
   "source": [
    "The operation took 20 seconds. Let's do the same by using the core NumPy arrays in a vectorized manner:"
   ]
  },
  {
   "cell_type": "code",
   "execution_count": 18,
   "id": "5837338a-8fb0-4461-81ca-eca96f6290b7",
   "metadata": {},
   "outputs": [
    {
     "name": "stdout",
     "output_type": "stream",
     "text": [
      "Wall time: 82 ms\n"
     ]
    }
   ],
   "source": [
    "%time tps_october['f1001'] = big_function(tps_october['f0'].values, tps_october['f1'].values, tps_october['f2'].values)"
   ]
  },
  {
   "cell_type": "markdown",
   "id": "b22261dc-dece-4f62-86a6-87aeb1b1c506",
   "metadata": {},
   "source": [
    "82 milliseconds, which is about 250 times faster. \n",
    "\n",
    "It is true that you can't completely ditch loops. After all, not all data manipulation operations are mathematical. But whenever you find yourself itching to use some type of looping functions like `apply`, `applymap` or `itertuples`, take a moment to see if what you want to do can be vectorized. "
   ]
  },
  {
   "cell_type": "markdown",
   "id": "62fb4f44-e610-4af6-b8b7-9ef59dc7e70f",
   "metadata": {
    "tags": []
   },
   "source": [
    "# 3. Data types, dtypes, types!"
   ]
  },
  {
   "cell_type": "markdown",
   "id": "776249e9-731e-41ee-82b9-50a8db043e6f",
   "metadata": {},
   "source": [
    "![](https://miro.medium.com/max/1050/0*jUWj8UtW_gOYuZh0.png)"
   ]
  },
  {
   "cell_type": "markdown",
   "id": "bd084cbd-97bd-43cd-aa94-24bb31c1a024",
   "metadata": {},
   "source": [
    "![](https://miro.medium.com/max/1050/0*T0KacMFCMtlSrd1l.png)"
   ]
  },
  {
   "cell_type": "code",
   "execution_count": 21,
   "id": "b6287c2a-75b6-4720-bd69-aa87d0195d91",
   "metadata": {},
   "outputs": [],
   "source": [
    "def reduce_memory_usage(df, verbose=True):\n",
    "    numerics = [\"int8\", \"int16\", \"int32\", \"int64\", \"float16\", \"float32\", \"float64\"]\n",
    "    for col in df.columns:\n",
    "        col_type = df[col].dtypes\n",
    "        if col_type in numerics:\n",
    "            c_min = df[col].min()\n",
    "            c_max = df[col].max()\n",
    "            if str(col_type)[:3] == \"int\":\n",
    "                if c_min > np.iinfo(np.int8).min and c_max < np.iinfo(np.int8).max:\n",
    "                    df[col] = df[col].astype(np.int8)\n",
    "                elif c_min > np.iinfo(np.int16).min and c_max < np.iinfo(np.int16).max:\n",
    "                    df[col] = df[col].astype(np.int16)\n",
    "                elif c_min > np.iinfo(np.int32).min and c_max < np.iinfo(np.int32).max:\n",
    "                    df[col] = df[col].astype(np.int32)\n",
    "                elif c_min > np.iinfo(np.int64).min and c_max < np.iinfo(np.int64).max:\n",
    "                    df[col] = df[col].astype(np.int64)\n",
    "            else:\n",
    "                if (\n",
    "                    c_min > np.finfo(np.float16).min\n",
    "                    and c_max < np.finfo(np.float16).max\n",
    "                ):\n",
    "                    df[col] = df[col].astype(np.float16)\n",
    "                elif (\n",
    "                    c_min > np.finfo(np.float32).min\n",
    "                    and c_max < np.finfo(np.float32).max\n",
    "                ):\n",
    "                    df[col] = df[col].astype(np.float32)\n",
    "                else:\n",
    "                    df[col] = df[col].astype(np.float64)\n",
    "    return df"
   ]
  },
  {
   "cell_type": "markdown",
   "id": "023c581a-580f-4965-b605-fbc4967289fa",
   "metadata": {},
   "source": [
    "# 4. No styling?"
   ]
  },
  {
   "cell_type": "code",
   "execution_count": 24,
   "id": "047d71eb-d8e8-40ce-97e5-72b590424be4",
   "metadata": {},
   "outputs": [
    {
     "data": {
      "text/html": [
       "<style type=\"text/css\">\n",
       "#T_c25d8_row0_col1 {\n",
       "  width: 10em;\n",
       "  height: 80%;\n",
       "  background: linear-gradient(90deg,#205ff2 3.7%, transparent 3.7%);\n",
       "}\n",
       "#T_c25d8_row0_col2 {\n",
       "  background-color: #fee1d3;\n",
       "  color: #000000;\n",
       "}\n",
       "#T_c25d8_row0_col5, #T_c25d8_row3_col5 {\n",
       "  background-color: #3d50c3;\n",
       "  color: #f1f1f1;\n",
       "}\n",
       "#T_c25d8_row1_col1 {\n",
       "  width: 10em;\n",
       "  height: 80%;\n",
       "  background: linear-gradient(90deg,#205ff2 74.7%, transparent 74.7%);\n",
       "}\n",
       "#T_c25d8_row1_col2 {\n",
       "  background-color: #fc8e6e;\n",
       "  color: #000000;\n",
       "}\n",
       "#T_c25d8_row1_col5 {\n",
       "  background-color: #edd2c3;\n",
       "  color: #000000;\n",
       "}\n",
       "#T_c25d8_row2_col1 {\n",
       "  width: 10em;\n",
       "  height: 80%;\n",
       "  background: linear-gradient(90deg,#205ff2 14.5%, transparent 14.5%);\n",
       "}\n",
       "#T_c25d8_row2_col2 {\n",
       "  background-color: #fedaca;\n",
       "  color: #000000;\n",
       "}\n",
       "#T_c25d8_row2_col5 {\n",
       "  background-color: #536edd;\n",
       "  color: #f1f1f1;\n",
       "}\n",
       "#T_c25d8_row3_col1 {\n",
       "  width: 10em;\n",
       "  height: 80%;\n",
       "  background: linear-gradient(90deg,#205ff2 1.8%, transparent 1.8%);\n",
       "}\n",
       "#T_c25d8_row3_col2 {\n",
       "  background-color: #fee1d4;\n",
       "  color: #000000;\n",
       "}\n",
       "#T_c25d8_row4_col1 {\n",
       "  width: 10em;\n",
       "  height: 80%;\n",
       "  background: linear-gradient(90deg,#205ff2 97.0%, transparent 97.0%);\n",
       "}\n",
       "#T_c25d8_row4_col2, #T_c25d8_row15_col2 {\n",
       "  background-color: #fcc4ad;\n",
       "  color: #000000;\n",
       "}\n",
       "#T_c25d8_row4_col5 {\n",
       "  background-color: #f4c6af;\n",
       "  color: #000000;\n",
       "}\n",
       "#T_c25d8_row5_col1 {\n",
       "  width: 10em;\n",
       "  height: 80%;\n",
       "  background: linear-gradient(90deg,#205ff2 7.4%, transparent 7.4%);\n",
       "}\n",
       "#T_c25d8_row5_col2, #T_c25d8_row18_col2 {\n",
       "  background-color: #fedccd;\n",
       "  color: #000000;\n",
       "}\n",
       "#T_c25d8_row5_col5 {\n",
       "  background-color: #3f53c6;\n",
       "  color: #f1f1f1;\n",
       "}\n",
       "#T_c25d8_row6_col1 {\n",
       "  width: 10em;\n",
       "  height: 80%;\n",
       "  background: linear-gradient(90deg,#205ff2 26.0%, transparent 26.0%);\n",
       "}\n",
       "#T_c25d8_row6_col2 {\n",
       "  background-color: #fff5f0;\n",
       "  color: #000000;\n",
       "}\n",
       "#T_c25d8_row6_col5, #T_c25d8_row19_col5 {\n",
       "  background-color: #7093f3;\n",
       "  color: #f1f1f1;\n",
       "}\n",
       "#T_c25d8_row7_col1 {\n",
       "  width: 10em;\n",
       "  height: 80%;\n",
       "  background: linear-gradient(90deg,#205ff2 30.2%, transparent 30.2%);\n",
       "}\n",
       "#T_c25d8_row7_col2 {\n",
       "  background-color: #b91419;\n",
       "  color: #f1f1f1;\n",
       "}\n",
       "#T_c25d8_row7_col5 {\n",
       "  background-color: #3b4cc0;\n",
       "  color: #f1f1f1;\n",
       "}\n",
       "#T_c25d8_row8_col1 {\n",
       "  width: 10em;\n",
       "  height: 80%;\n",
       "  background: linear-gradient(90deg,#205ff2 15.5%, transparent 15.5%);\n",
       "}\n",
       "#T_c25d8_row8_col2 {\n",
       "  background-color: #fedfd0;\n",
       "  color: #000000;\n",
       "}\n",
       "#T_c25d8_row8_col5 {\n",
       "  background-color: #4c66d6;\n",
       "  color: #f1f1f1;\n",
       "}\n",
       "#T_c25d8_row9_col1 {\n",
       "  width: 10em;\n",
       "  height: 80%;\n",
       "  background: linear-gradient(90deg,#205ff2 31.9%, transparent 31.9%);\n",
       "}\n",
       "#T_c25d8_row9_col2 {\n",
       "  background-color: #fee8dd;\n",
       "  color: #000000;\n",
       "}\n",
       "#T_c25d8_row9_col5 {\n",
       "  background-color: #7ea1fa;\n",
       "  color: #f1f1f1;\n",
       "}\n",
       "#T_c25d8_row10_col1 {\n",
       "  width: 10em;\n",
       "  height: 80%;\n",
       "  background: linear-gradient(90deg,#205ff2 81.0%, transparent 81.0%);\n",
       "}\n",
       "#T_c25d8_row10_col2 {\n",
       "  background-color: #67000d;\n",
       "  color: #f1f1f1;\n",
       "}\n",
       "#T_c25d8_row10_col5 {\n",
       "  background-color: #b40426;\n",
       "  color: #f1f1f1;\n",
       "}\n",
       "#T_c25d8_row11_col1 {\n",
       "  width: 10em;\n",
       "  height: 80%;\n",
       "}\n",
       "#T_c25d8_row11_col2 {\n",
       "  background-color: #ffece3;\n",
       "  color: #000000;\n",
       "}\n",
       "#T_c25d8_row11_col5 {\n",
       "  background-color: #3c4ec2;\n",
       "  color: #f1f1f1;\n",
       "}\n",
       "#T_c25d8_row12_col1 {\n",
       "  width: 10em;\n",
       "  height: 80%;\n",
       "  background: linear-gradient(90deg,#205ff2 27.0%, transparent 27.0%);\n",
       "}\n",
       "#T_c25d8_row12_col2 {\n",
       "  background-color: #fff2ec;\n",
       "  color: #000000;\n",
       "}\n",
       "#T_c25d8_row12_col5 {\n",
       "  background-color: #7396f5;\n",
       "  color: #f1f1f1;\n",
       "}\n",
       "#T_c25d8_row13_col1 {\n",
       "  width: 10em;\n",
       "  height: 80%;\n",
       "  background: linear-gradient(90deg,#205ff2 36.9%, transparent 36.9%);\n",
       "}\n",
       "#T_c25d8_row13_col2 {\n",
       "  background-color: #fee8de;\n",
       "  color: #000000;\n",
       "}\n",
       "#T_c25d8_row13_col5 {\n",
       "  background-color: #89acfd;\n",
       "  color: #000000;\n",
       "}\n",
       "#T_c25d8_row14_col1 {\n",
       "  width: 10em;\n",
       "  height: 80%;\n",
       "  background: linear-gradient(90deg,#205ff2 17.8%, transparent 17.8%);\n",
       "}\n",
       "#T_c25d8_row14_col2 {\n",
       "  background-color: #fdd0bc;\n",
       "  color: #000000;\n",
       "}\n",
       "#T_c25d8_row14_col5 {\n",
       "  background-color: #7da0f9;\n",
       "  color: #f1f1f1;\n",
       "}\n",
       "#T_c25d8_row15_col1 {\n",
       "  width: 10em;\n",
       "  height: 80%;\n",
       "  background: linear-gradient(90deg,#205ff2 30.0%, transparent 30.0%);\n",
       "}\n",
       "#T_c25d8_row15_col5 {\n",
       "  background-color: #6e90f2;\n",
       "  color: #f1f1f1;\n",
       "}\n",
       "#T_c25d8_row16_col1 {\n",
       "  width: 10em;\n",
       "  height: 80%;\n",
       "  background: linear-gradient(90deg,#205ff2 100.0%, transparent 100.0%);\n",
       "}\n",
       "#T_c25d8_row16_col2 {\n",
       "  background-color: #fa6849;\n",
       "  color: #f1f1f1;\n",
       "}\n",
       "#T_c25d8_row16_col5 {\n",
       "  background-color: #e8765c;\n",
       "  color: #f1f1f1;\n",
       "}\n",
       "#T_c25d8_row17_col1 {\n",
       "  width: 10em;\n",
       "  height: 80%;\n",
       "  background: linear-gradient(90deg,#205ff2 54.4%, transparent 54.4%);\n",
       "}\n",
       "#T_c25d8_row17_col2 {\n",
       "  background-color: #f7593f;\n",
       "  color: #f1f1f1;\n",
       "}\n",
       "#T_c25d8_row17_col5 {\n",
       "  background-color: #e9d5cb;\n",
       "  color: #000000;\n",
       "}\n",
       "#T_c25d8_row18_col1 {\n",
       "  width: 10em;\n",
       "  height: 80%;\n",
       "  background: linear-gradient(90deg,#205ff2 17.7%, transparent 17.7%);\n",
       "}\n",
       "#T_c25d8_row18_col5 {\n",
       "  background-color: #5d7ce6;\n",
       "  color: #f1f1f1;\n",
       "}\n",
       "#T_c25d8_row19_col1 {\n",
       "  width: 10em;\n",
       "  height: 80%;\n",
       "  background: linear-gradient(90deg,#205ff2 26.3%, transparent 26.3%);\n",
       "}\n",
       "#T_c25d8_row19_col2 {\n",
       "  background-color: #ffeee6;\n",
       "  color: #000000;\n",
       "}\n",
       "</style>\n",
       "<table id=\"T_c25d8_\">\n",
       "  <thead>\n",
       "    <tr>\n",
       "      <th class=\"blank level0\" >&nbsp;</th>\n",
       "      <th class=\"col_heading level0 col0\" >count</th>\n",
       "      <th class=\"col_heading level0 col1\" >mean</th>\n",
       "      <th class=\"col_heading level0 col2\" >std</th>\n",
       "      <th class=\"col_heading level0 col3\" >min</th>\n",
       "      <th class=\"col_heading level0 col4\" >25%</th>\n",
       "      <th class=\"col_heading level0 col5\" >50%</th>\n",
       "      <th class=\"col_heading level0 col6\" >75%</th>\n",
       "      <th class=\"col_heading level0 col7\" >max</th>\n",
       "    </tr>\n",
       "  </thead>\n",
       "  <tbody>\n",
       "    <tr>\n",
       "      <th id=\"T_c25d8_level0_row0\" class=\"row_heading level0 row0\" >f227</th>\n",
       "      <td id=\"T_c25d8_row0_col0\" class=\"data row0 col0\" >1000000.000000</td>\n",
       "      <td id=\"T_c25d8_row0_col1\" class=\"data row0 col1\" >0.042318</td>\n",
       "      <td id=\"T_c25d8_row0_col2\" class=\"data row0 col2\" >0.097016</td>\n",
       "      <td id=\"T_c25d8_row0_col3\" class=\"data row0 col3\" >0.000041</td>\n",
       "      <td id=\"T_c25d8_row0_col4\" class=\"data row0 col4\" >0.006148</td>\n",
       "      <td id=\"T_c25d8_row0_col5\" class=\"data row0 col5\" >0.008488</td>\n",
       "      <td id=\"T_c25d8_row0_col6\" class=\"data row0 col6\" >0.011224</td>\n",
       "      <td id=\"T_c25d8_row0_col7\" class=\"data row0 col7\" >0.995261</td>\n",
       "    </tr>\n",
       "    <tr>\n",
       "      <th id=\"T_c25d8_level0_row1\" class=\"row_heading level0 row1\" >f143</th>\n",
       "      <td id=\"T_c25d8_row1_col0\" class=\"data row1 col0\" >1000000.000000</td>\n",
       "      <td id=\"T_c25d8_row1_col1\" class=\"data row1 col1\" >0.499120</td>\n",
       "      <td id=\"T_c25d8_row1_col2\" class=\"data row1 col2\" >0.218694</td>\n",
       "      <td id=\"T_c25d8_row1_col3\" class=\"data row1 col3\" >0.000000</td>\n",
       "      <td id=\"T_c25d8_row1_col4\" class=\"data row1 col4\" >0.506243</td>\n",
       "      <td id=\"T_c25d8_row1_col5\" class=\"data row1 col5\" >0.569084</td>\n",
       "      <td id=\"T_c25d8_row1_col6\" class=\"data row1 col6\" >0.622750</td>\n",
       "      <td id=\"T_c25d8_row1_col7\" class=\"data row1 col7\" >0.999710</td>\n",
       "    </tr>\n",
       "    <tr>\n",
       "      <th id=\"T_c25d8_level0_row2\" class=\"row_heading level0 row2\" >f234</th>\n",
       "      <td id=\"T_c25d8_row2_col0\" class=\"data row2 col0\" >1000000.000000</td>\n",
       "      <td id=\"T_c25d8_row2_col1\" class=\"data row2 col1\" >0.111832</td>\n",
       "      <td id=\"T_c25d8_row2_col2\" class=\"data row2 col2\" >0.106602</td>\n",
       "      <td id=\"T_c25d8_row2_col3\" class=\"data row2 col3\" >0.024656</td>\n",
       "      <td id=\"T_c25d8_row2_col4\" class=\"data row2 col4\" >0.035676</td>\n",
       "      <td id=\"T_c25d8_row2_col5\" class=\"data row2 col5\" >0.081907</td>\n",
       "      <td id=\"T_c25d8_row2_col6\" class=\"data row2 col6\" >0.140333</td>\n",
       "      <td id=\"T_c25d8_row2_col7\" class=\"data row2 col7\" >0.996664</td>\n",
       "    </tr>\n",
       "    <tr>\n",
       "      <th id=\"T_c25d8_level0_row3\" class=\"row_heading level0 row3\" >f166</th>\n",
       "      <td id=\"T_c25d8_row3_col0\" class=\"data row3 col0\" >1000000.000000</td>\n",
       "      <td id=\"T_c25d8_row3_col1\" class=\"data row3 col1\" >0.030398</td>\n",
       "      <td id=\"T_c25d8_row3_col2\" class=\"data row3 col2\" >0.094173</td>\n",
       "      <td id=\"T_c25d8_row3_col3\" class=\"data row3 col3\" >0.000000</td>\n",
       "      <td id=\"T_c25d8_row3_col4\" class=\"data row3 col4\" >0.006335</td>\n",
       "      <td id=\"T_c25d8_row3_col5\" class=\"data row3 col5\" >0.008709</td>\n",
       "      <td id=\"T_c25d8_row3_col6\" class=\"data row3 col6\" >0.011248</td>\n",
       "      <td id=\"T_c25d8_row3_col7\" class=\"data row3 col7\" >1.000000</td>\n",
       "    </tr>\n",
       "    <tr>\n",
       "      <th id=\"T_c25d8_level0_row4\" class=\"row_heading level0 row4\" >f90</th>\n",
       "      <td id=\"T_c25d8_row4_col0\" class=\"data row4 col0\" >1000000.000000</td>\n",
       "      <td id=\"T_c25d8_row4_col1\" class=\"data row4 col1\" >0.642243</td>\n",
       "      <td id=\"T_c25d8_row4_col2\" class=\"data row4 col2\" >0.141101</td>\n",
       "      <td id=\"T_c25d8_row4_col3\" class=\"data row4 col3\" >0.000000</td>\n",
       "      <td id=\"T_c25d8_row4_col4\" class=\"data row4 col4\" >0.539810</td>\n",
       "      <td id=\"T_c25d8_row4_col5\" class=\"data row4 col5\" >0.619562</td>\n",
       "      <td id=\"T_c25d8_row4_col6\" class=\"data row4 col6\" >0.778886</td>\n",
       "      <td id=\"T_c25d8_row4_col7\" class=\"data row4 col7\" >0.981087</td>\n",
       "    </tr>\n",
       "    <tr>\n",
       "      <th id=\"T_c25d8_level0_row5\" class=\"row_heading level0 row5\" >f84</th>\n",
       "      <td id=\"T_c25d8_row5_col0\" class=\"data row5 col0\" >1000000.000000</td>\n",
       "      <td id=\"T_c25d8_row5_col1\" class=\"data row5 col1\" >0.066512</td>\n",
       "      <td id=\"T_c25d8_row5_col2\" class=\"data row5 col2\" >0.104063</td>\n",
       "      <td id=\"T_c25d8_row5_col3\" class=\"data row5 col3\" >0.000000</td>\n",
       "      <td id=\"T_c25d8_row5_col4\" class=\"data row5 col4\" >0.012872</td>\n",
       "      <td id=\"T_c25d8_row5_col5\" class=\"data row5 col5\" >0.018155</td>\n",
       "      <td id=\"T_c25d8_row5_col6\" class=\"data row5 col6\" >0.097201</td>\n",
       "      <td id=\"T_c25d8_row5_col7\" class=\"data row5 col7\" >1.000000</td>\n",
       "    </tr>\n",
       "    <tr>\n",
       "      <th id=\"T_c25d8_level0_row6\" class=\"row_heading level0 row6\" >f121</th>\n",
       "      <td id=\"T_c25d8_row6_col0\" class=\"data row6 col0\" >1000000.000000</td>\n",
       "      <td id=\"T_c25d8_row6_col1\" class=\"data row6 col1\" >0.186078</td>\n",
       "      <td id=\"T_c25d8_row6_col2\" class=\"data row6 col2\" >0.040156</td>\n",
       "      <td id=\"T_c25d8_row6_col3\" class=\"data row6 col3\" >0.010368</td>\n",
       "      <td id=\"T_c25d8_row6_col4\" class=\"data row6 col4\" >0.169747</td>\n",
       "      <td id=\"T_c25d8_row6_col5\" class=\"data row6 col5\" >0.170958</td>\n",
       "      <td id=\"T_c25d8_row6_col6\" class=\"data row6 col6\" >0.191037</td>\n",
       "      <td id=\"T_c25d8_row6_col7\" class=\"data row6 col7\" >0.973322</td>\n",
       "    </tr>\n",
       "    <tr>\n",
       "      <th id=\"T_c25d8_level0_row7\" class=\"row_heading level0 row7\" >f243</th>\n",
       "      <td id=\"T_c25d8_row7_col0\" class=\"data row7 col0\" >1000000.000000</td>\n",
       "      <td id=\"T_c25d8_row7_col1\" class=\"data row7 col1\" >0.213172</td>\n",
       "      <td id=\"T_c25d8_row7_col2\" class=\"data row7 col2\" >0.409548</td>\n",
       "      <td id=\"T_c25d8_row7_col3\" class=\"data row7 col3\" >0.000000</td>\n",
       "      <td id=\"T_c25d8_row7_col4\" class=\"data row7 col4\" >0.000000</td>\n",
       "      <td id=\"T_c25d8_row7_col5\" class=\"data row7 col5\" >0.000000</td>\n",
       "      <td id=\"T_c25d8_row7_col6\" class=\"data row7 col6\" >0.000000</td>\n",
       "      <td id=\"T_c25d8_row7_col7\" class=\"data row7 col7\" >1.000000</td>\n",
       "    </tr>\n",
       "    <tr>\n",
       "      <th id=\"T_c25d8_level0_row8\" class=\"row_heading level0 row8\" >f30</th>\n",
       "      <td id=\"T_c25d8_row8_col0\" class=\"data row8 col0\" >1000000.000000</td>\n",
       "      <td id=\"T_c25d8_row8_col1\" class=\"data row8 col1\" >0.118508</td>\n",
       "      <td id=\"T_c25d8_row8_col2\" class=\"data row8 col2\" >0.099597</td>\n",
       "      <td id=\"T_c25d8_row8_col3\" class=\"data row8 col3\" >0.000000</td>\n",
       "      <td id=\"T_c25d8_row8_col4\" class=\"data row8 col4\" >0.056052</td>\n",
       "      <td id=\"T_c25d8_row8_col5\" class=\"data row8 col5\" >0.059557</td>\n",
       "      <td id=\"T_c25d8_row8_col6\" class=\"data row8 col6\" >0.194628</td>\n",
       "      <td id=\"T_c25d8_row8_col7\" class=\"data row8 col7\" >0.967574</td>\n",
       "    </tr>\n",
       "    <tr>\n",
       "      <th id=\"T_c25d8_level0_row9\" class=\"row_heading level0 row9\" >f67</th>\n",
       "      <td id=\"T_c25d8_row9_col0\" class=\"data row9 col0\" >1000000.000000</td>\n",
       "      <td id=\"T_c25d8_row9_col1\" class=\"data row9 col1\" >0.223665</td>\n",
       "      <td id=\"T_c25d8_row9_col2\" class=\"data row9 col2\" >0.077721</td>\n",
       "      <td id=\"T_c25d8_row9_col3\" class=\"data row9 col3\" >0.053498</td>\n",
       "      <td id=\"T_c25d8_row9_col4\" class=\"data row9 col4\" >0.174431</td>\n",
       "      <td id=\"T_c25d8_row9_col5\" class=\"data row9 col5\" >0.208975</td>\n",
       "      <td id=\"T_c25d8_row9_col6\" class=\"data row9 col6\" >0.247528</td>\n",
       "      <td id=\"T_c25d8_row9_col7\" class=\"data row9 col7\" >0.939481</td>\n",
       "    </tr>\n",
       "    <tr>\n",
       "      <th id=\"T_c25d8_level0_row10\" class=\"row_heading level0 row10\" >f258</th>\n",
       "      <td id=\"T_c25d8_row10_col0\" class=\"data row10 col0\" >1000000.000000</td>\n",
       "      <td id=\"T_c25d8_row10_col1\" class=\"data row10 col1\" >0.539352</td>\n",
       "      <td id=\"T_c25d8_row10_col2\" class=\"data row10 col2\" >0.498449</td>\n",
       "      <td id=\"T_c25d8_row10_col3\" class=\"data row10 col3\" >0.000000</td>\n",
       "      <td id=\"T_c25d8_row10_col4\" class=\"data row10 col4\" >0.000000</td>\n",
       "      <td id=\"T_c25d8_row10_col5\" class=\"data row10 col5\" >1.000000</td>\n",
       "      <td id=\"T_c25d8_row10_col6\" class=\"data row10 col6\" >1.000000</td>\n",
       "      <td id=\"T_c25d8_row10_col7\" class=\"data row10 col7\" >1.000000</td>\n",
       "    </tr>\n",
       "    <tr>\n",
       "      <th id=\"T_c25d8_level0_row11\" class=\"row_heading level0 row11\" >f168</th>\n",
       "      <td id=\"T_c25d8_row11_col0\" class=\"data row11 col0\" >1000000.000000</td>\n",
       "      <td id=\"T_c25d8_row11_col1\" class=\"data row11 col1\" >0.018734</td>\n",
       "      <td id=\"T_c25d8_row11_col2\" class=\"data row11 col2\" >0.066985</td>\n",
       "      <td id=\"T_c25d8_row11_col3\" class=\"data row11 col3\" >0.000000</td>\n",
       "      <td id=\"T_c25d8_row11_col4\" class=\"data row11 col4\" >0.005187</td>\n",
       "      <td id=\"T_c25d8_row11_col5\" class=\"data row11 col5\" >0.006973</td>\n",
       "      <td id=\"T_c25d8_row11_col6\" class=\"data row11 col6\" >0.008854</td>\n",
       "      <td id=\"T_c25d8_row11_col7\" class=\"data row11 col7\" >0.885041</td>\n",
       "    </tr>\n",
       "    <tr>\n",
       "      <th id=\"T_c25d8_level0_row12\" class=\"row_heading level0 row12\" >f51</th>\n",
       "      <td id=\"T_c25d8_row12_col0\" class=\"data row12 col0\" >1000000.000000</td>\n",
       "      <td id=\"T_c25d8_row12_col1\" class=\"data row12 col1\" >0.192615</td>\n",
       "      <td id=\"T_c25d8_row12_col2\" class=\"data row12 col2\" >0.049062</td>\n",
       "      <td id=\"T_c25d8_row12_col3\" class=\"data row12 col3\" >0.137986</td>\n",
       "      <td id=\"T_c25d8_row12_col4\" class=\"data row12 col4\" >0.178439</td>\n",
       "      <td id=\"T_c25d8_row12_col5\" class=\"data row12 col5\" >0.179516</td>\n",
       "      <td id=\"T_c25d8_row12_col6\" class=\"data row12 col6\" >0.180729</td>\n",
       "      <td id=\"T_c25d8_row12_col7\" class=\"data row12 col7\" >0.775959</td>\n",
       "    </tr>\n",
       "    <tr>\n",
       "      <th id=\"T_c25d8_level0_row13\" class=\"row_heading level0 row13\" >f66</th>\n",
       "      <td id=\"T_c25d8_row13_col0\" class=\"data row13 col0\" >1000000.000000</td>\n",
       "      <td id=\"T_c25d8_row13_col1\" class=\"data row13 col1\" >0.256157</td>\n",
       "      <td id=\"T_c25d8_row13_col2\" class=\"data row13 col2\" >0.075838</td>\n",
       "      <td id=\"T_c25d8_row13_col3\" class=\"data row13 col3\" >0.003643</td>\n",
       "      <td id=\"T_c25d8_row13_col4\" class=\"data row13 col4\" >0.189771</td>\n",
       "      <td id=\"T_c25d8_row13_col5\" class=\"data row13 col5\" >0.238813</td>\n",
       "      <td id=\"T_c25d8_row13_col6\" class=\"data row13 col6\" >0.287281</td>\n",
       "      <td id=\"T_c25d8_row13_col7\" class=\"data row13 col7\" >0.977055</td>\n",
       "    </tr>\n",
       "    <tr>\n",
       "      <th id=\"T_c25d8_level0_row14\" class=\"row_heading level0 row14\" >f68</th>\n",
       "      <td id=\"T_c25d8_row14_col0\" class=\"data row14 col0\" >1000000.000000</td>\n",
       "      <td id=\"T_c25d8_row14_col1\" class=\"data row14 col1\" >0.133033</td>\n",
       "      <td id=\"T_c25d8_row14_col2\" class=\"data row14 col2\" >0.123449</td>\n",
       "      <td id=\"T_c25d8_row14_col3\" class=\"data row14 col3\" >0.000137</td>\n",
       "      <td id=\"T_c25d8_row14_col4\" class=\"data row14 col4\" >0.012811</td>\n",
       "      <td id=\"T_c25d8_row14_col5\" class=\"data row14 col5\" >0.205306</td>\n",
       "      <td id=\"T_c25d8_row14_col6\" class=\"data row14 col6\" >0.211725</td>\n",
       "      <td id=\"T_c25d8_row14_col7\" class=\"data row14 col7\" >0.979451</td>\n",
       "    </tr>\n",
       "    <tr>\n",
       "      <th id=\"T_c25d8_level0_row15\" class=\"row_heading level0 row15\" >f96</th>\n",
       "      <td id=\"T_c25d8_row15_col0\" class=\"data row15 col0\" >1000000.000000</td>\n",
       "      <td id=\"T_c25d8_row15_col1\" class=\"data row15 col1\" >0.211714</td>\n",
       "      <td id=\"T_c25d8_row15_col2\" class=\"data row15 col2\" >0.141129</td>\n",
       "      <td id=\"T_c25d8_row15_col3\" class=\"data row15 col3\" >0.051701</td>\n",
       "      <td id=\"T_c25d8_row15_col4\" class=\"data row15 col4\" >0.159743</td>\n",
       "      <td id=\"T_c25d8_row15_col5\" class=\"data row15 col5\" >0.161914</td>\n",
       "      <td id=\"T_c25d8_row15_col6\" class=\"data row15 col6\" >0.164423</td>\n",
       "      <td id=\"T_c25d8_row15_col7\" class=\"data row15 col7\" >1.000000</td>\n",
       "    </tr>\n",
       "    <tr>\n",
       "      <th id=\"T_c25d8_level0_row16\" class=\"row_heading level0 row16\" >f44</th>\n",
       "      <td id=\"T_c25d8_row16_col0\" class=\"data row16 col0\" >1000000.000000</td>\n",
       "      <td id=\"T_c25d8_row16_col1\" class=\"data row16 col1\" >0.661738</td>\n",
       "      <td id=\"T_c25d8_row16_col2\" class=\"data row16 col2\" >0.271317</td>\n",
       "      <td id=\"T_c25d8_row16_col3\" class=\"data row16 col3\" >0.000667</td>\n",
       "      <td id=\"T_c25d8_row16_col4\" class=\"data row16 col4\" >0.432623</td>\n",
       "      <td id=\"T_c25d8_row16_col5\" class=\"data row16 col5\" >0.828384</td>\n",
       "      <td id=\"T_c25d8_row16_col6\" class=\"data row16 col6\" >0.835743</td>\n",
       "      <td id=\"T_c25d8_row16_col7\" class=\"data row16 col7\" >1.000000</td>\n",
       "    </tr>\n",
       "    <tr>\n",
       "      <th id=\"T_c25d8_level0_row17\" class=\"row_heading level0 row17\" >f157</th>\n",
       "      <td id=\"T_c25d8_row17_col0\" class=\"data row17 col0\" >1000000.000000</td>\n",
       "      <td id=\"T_c25d8_row17_col1\" class=\"data row17 col1\" >0.368812</td>\n",
       "      <td id=\"T_c25d8_row17_col2\" class=\"data row17 col2\" >0.290552</td>\n",
       "      <td id=\"T_c25d8_row17_col3\" class=\"data row17 col3\" >0.000505</td>\n",
       "      <td id=\"T_c25d8_row17_col4\" class=\"data row17 col4\" >0.036547</td>\n",
       "      <td id=\"T_c25d8_row17_col5\" class=\"data row17 col5\" >0.548539</td>\n",
       "      <td id=\"T_c25d8_row17_col6\" class=\"data row17 col6\" >0.618072</td>\n",
       "      <td id=\"T_c25d8_row17_col7\" class=\"data row17 col7\" >0.963641</td>\n",
       "    </tr>\n",
       "    <tr>\n",
       "      <th id=\"T_c25d8_level0_row18\" class=\"row_heading level0 row18\" >f123</th>\n",
       "      <td id=\"T_c25d8_row18_col0\" class=\"data row18 col0\" >1000000.000000</td>\n",
       "      <td id=\"T_c25d8_row18_col1\" class=\"data row18 col1\" >0.132864</td>\n",
       "      <td id=\"T_c25d8_row18_col2\" class=\"data row18 col2\" >0.103196</td>\n",
       "      <td id=\"T_c25d8_row18_col3\" class=\"data row18 col3\" >0.000000</td>\n",
       "      <td id=\"T_c25d8_row18_col4\" class=\"data row18 col4\" >0.032964</td>\n",
       "      <td id=\"T_c25d8_row18_col5\" class=\"data row18 col5\" >0.112700</td>\n",
       "      <td id=\"T_c25d8_row18_col6\" class=\"data row18 col6\" >0.196135</td>\n",
       "      <td id=\"T_c25d8_row18_col7\" class=\"data row18 col7\" >1.000000</td>\n",
       "    </tr>\n",
       "    <tr>\n",
       "      <th id=\"T_c25d8_level0_row19\" class=\"row_heading level0 row19\" >f240</th>\n",
       "      <td id=\"T_c25d8_row19_col0\" class=\"data row19 col0\" >1000000.000000</td>\n",
       "      <td id=\"T_c25d8_row19_col1\" class=\"data row19 col1\" >0.187746</td>\n",
       "      <td id=\"T_c25d8_row19_col2\" class=\"data row19 col2\" >0.061176</td>\n",
       "      <td id=\"T_c25d8_row19_col3\" class=\"data row19 col3\" >0.011777</td>\n",
       "      <td id=\"T_c25d8_row19_col4\" class=\"data row19 col4\" >0.142875</td>\n",
       "      <td id=\"T_c25d8_row19_col5\" class=\"data row19 col5\" >0.170167</td>\n",
       "      <td id=\"T_c25d8_row19_col6\" class=\"data row19 col6\" >0.199849</td>\n",
       "      <td id=\"T_c25d8_row19_col7\" class=\"data row19 col7\" >0.937160</td>\n",
       "    </tr>\n",
       "  </tbody>\n",
       "</table>\n"
      ],
      "text/plain": [
       "<pandas.io.formats.style.Styler at 0x26cd1b0b1f0>"
      ]
     },
     "execution_count": 24,
     "metadata": {},
     "output_type": "execute_result"
    }
   ],
   "source": [
    "tps_october.sample(20, axis=1).describe().T.style.bar(\n",
    "    subset=[\"mean\"], color=\"#205ff2\"\n",
    ").background_gradient(subset=[\"std\"], cmap=\"Reds\").background_gradient(\n",
    "    subset=[\"50%\"], cmap=\"coolwarm\"\n",
    ")"
   ]
  },
  {
   "cell_type": "markdown",
   "id": "b7ce6a6d-e69e-4e6c-838a-c43dad50be7b",
   "metadata": {
    "tags": []
   },
   "source": [
    "# 5. Saving to CSVs"
   ]
  },
  {
   "cell_type": "code",
   "execution_count": 26,
   "id": "c5e9824d-7f5b-4aef-94dc-1cfec3f88ddb",
   "metadata": {},
   "outputs": [
    {
     "name": "stdout",
     "output_type": "stream",
     "text": [
      "Wall time: 2min 43s\n"
     ]
    }
   ],
   "source": [
    "%%time\n",
    "\n",
    "tps_october.to_csv(\"data/copy.csv\")"
   ]
  },
  {
   "cell_type": "code",
   "execution_count": 27,
   "id": "94daffbf-c245-4e69-8fad-e8250cc18cd2",
   "metadata": {},
   "outputs": [
    {
     "name": "stdout",
     "output_type": "stream",
     "text": [
      "Wall time: 1.05 s\n"
     ]
    }
   ],
   "source": [
    "%%time\n",
    "\n",
    "tps_october.to_feather(\"data/copy.feather\")"
   ]
  },
  {
   "cell_type": "code",
   "execution_count": 28,
   "id": "1c419a39-c77b-407e-b956-75d203850309",
   "metadata": {},
   "outputs": [
    {
     "name": "stdout",
     "output_type": "stream",
     "text": [
      "Wall time: 7.84 s\n"
     ]
    }
   ],
   "source": [
    "%%time\n",
    "\n",
    "tps_october.to_parquet(\"data/copy.parquet\")"
   ]
  },
  {
   "cell_type": "markdown",
   "id": "36e62551-6bad-4748-85c1-d4cf9fd43307",
   "metadata": {},
   "source": [
    "# 6. You should've read the user guide!"
   ]
  },
  {
   "cell_type": "markdown",
   "id": "d22075ec-76a7-4269-8ffc-4e4358de93bf",
   "metadata": {},
   "source": [
    "# Summary"
   ]
  }
 ],
 "metadata": {
  "kernelspec": {
   "display_name": "medium_articles",
   "language": "python",
   "name": "medium_articles"
  },
  "language_info": {
   "codemirror_mode": {
    "name": "ipython",
    "version": 3
   },
   "file_extension": ".py",
   "mimetype": "text/x-python",
   "name": "python",
   "nbconvert_exporter": "python",
   "pygments_lexer": "ipython3",
   "version": "3.8.11"
  }
 },
 "nbformat": 4,
 "nbformat_minor": 5
}
