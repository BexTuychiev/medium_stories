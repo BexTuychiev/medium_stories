{
 "cells": [
  {
   "cell_type": "markdown",
   "id": "b4737500-0ab5-4279-b550-16201910c1bd",
   "metadata": {},
   "source": [
    "# 20 NumPy Functions You Never Knew Existed | P (Guarantee = 0.85)\n",
    "## Become a NumPy Ninja TODO\n",
    "![](images/pexels.jpg)\n",
    "<figcaption style=\"text-align: center;\">\n",
    "    <strong>\n",
    "        Photo by \n",
    "        <a href='https://www.pexels.com/@ilargian-faus-763704?utm_content=attributionCopyText&utm_medium=referral&utm_source=pexels'>Ilargian Faus</a>\n",
    "        on \n",
    "        <a href='https://www.pexels.com/photo/white-dog-wearing-sunglasses-1629780/?utm_content=attributionCopyText&utm_medium=referral&utm_source=pexels'>Pexels.</a> All images are by the author unless specified otherwise.\n",
    "    </strong>\n",
    "</figcaption>"
   ]
  },
  {
   "cell_type": "markdown",
   "id": "cb9998c7-5af7-4d90-92c0-7ab499ebbf07",
   "metadata": {},
   "source": [
    "# np.full_like"
   ]
  },
  {
   "cell_type": "markdown",
   "id": "1303a55b-7f1f-4ff5-8cc8-6e280a137404",
   "metadata": {},
   "source": [
    "# np.logspace"
   ]
  },
  {
   "cell_type": "markdown",
   "id": "1b2b4ccc-975f-4352-908d-3e1669790184",
   "metadata": {},
   "source": [
    "# np.geomspace"
   ]
  },
  {
   "cell_type": "markdown",
   "id": "d26456b9-1bba-4402-b61e-1df99e7cafc0",
   "metadata": {},
   "source": [
    "# np.meshgrid"
   ]
  },
  {
   "cell_type": "markdown",
   "id": "a833253a-b86c-4745-b215-e3c3d9d2c638",
   "metadata": {},
   "source": [
    "# np.triu / np.tril"
   ]
  },
  {
   "cell_type": "markdown",
   "id": "d31d0e6e-8160-4949-94c9-db32cc885bd6",
   "metadata": {},
   "source": [
    "# np.ravel"
   ]
  },
  {
   "cell_type": "markdown",
   "id": "45115da9-dd8f-4777-9cdb-12653bf403ec",
   "metadata": {},
   "source": [
    "# np.flatten"
   ]
  },
  {
   "cell_type": "markdown",
   "id": "95c0aba1-66a8-4108-8acd-7bb079f236a5",
   "metadata": {},
   "source": [
    "# np.vstack / np.hstack"
   ]
  },
  {
   "cell_type": "markdown",
   "id": "331fd427-f56b-4ec3-bf37-e10e38c3d9ca",
   "metadata": {},
   "source": [
    "# np.info"
   ]
  },
  {
   "cell_type": "markdown",
   "id": "46cedff4-ed90-474f-a753-f82625c5535e",
   "metadata": {},
   "source": [
    "# np.r_ / np.c_"
   ]
  },
  {
   "cell_type": "markdown",
   "id": "ea38e70a-b91c-4030-938d-8feeeca4be10",
   "metadata": {},
   "source": [
    "# np.where"
   ]
  },
  {
   "cell_type": "markdown",
   "id": "453aede9-b44a-4172-925e-bfad513717c8",
   "metadata": {},
   "source": [
    "# np.nditer"
   ]
  },
  {
   "cell_type": "markdown",
   "id": "c18c2479-5a7e-4929-b5ac-2e3f93724b71",
   "metadata": {},
   "source": [
    "# np.all / np.any"
   ]
  },
  {
   "cell_type": "markdown",
   "id": "ecb3c932-b49e-4566-93aa-c1ab1feeca57",
   "metadata": {},
   "source": [
    "# np.allclose"
   ]
  },
  {
   "cell_type": "markdown",
   "id": "6cc8aa86-082b-4fdd-a556-dd9cbb5c5ab7",
   "metadata": {},
   "source": [
    "# np.argsort"
   ]
  },
  {
   "cell_type": "markdown",
   "id": "24eea002-ddd4-4e52-b127-25e79c734db5",
   "metadata": {},
   "source": [
    "# np.deg2rad"
   ]
  },
  {
   "cell_type": "markdown",
   "id": "37092da0-f672-457f-8a3e-06c6113a85d9",
   "metadata": {},
   "source": [
    "# np.isneginf / np.isposinf"
   ]
  },
  {
   "cell_type": "markdown",
   "id": "9622f584-51bc-4770-a01f-04bd18d9f0a1",
   "metadata": {},
   "source": [
    "# np.polyfit"
   ]
  },
  {
   "cell_type": "markdown",
   "id": "e7614844-a07c-45a5-9be6-846f6e6c7592",
   "metadata": {},
   "source": [
    "# np.fit"
   ]
  },
  {
   "cell_type": "markdown",
   "id": "537f9741-a28d-4241-8619-438e0534cf5b",
   "metadata": {},
   "source": [
    "# Probability distributions"
   ]
  }
 ],
 "metadata": {
  "kernelspec": {
   "display_name": "medium_articles",
   "language": "python",
   "name": "medium_articles"
  },
  "language_info": {
   "codemirror_mode": {
    "name": "ipython",
    "version": 3
   },
   "file_extension": ".py",
   "mimetype": "text/x-python",
   "name": "python",
   "nbconvert_exporter": "python",
   "pygments_lexer": "ipython3",
   "version": "3.8.11"
  }
 },
 "nbformat": 4,
 "nbformat_minor": 5
}
