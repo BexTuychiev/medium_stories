{
 "cells": [
  {
   "cell_type": "markdown",
   "id": "b4737500-0ab5-4279-b550-16201910c1bd",
   "metadata": {},
   "source": [
    "# 20 NumPy Functions You Never Knew Existed | P (Guarantee = 0.85)\n",
    "## Become a NumPy Ninja TODO\n",
    "![](images/pexels.jpg)\n",
    "<figcaption style=\"text-align: center;\">\n",
    "    <strong>\n",
    "        Photo by \n",
    "        <a href='https://www.pexels.com/@ilargian-faus-763704?utm_content=attributionCopyText&utm_medium=referral&utm_source=pexels'>Ilargian Faus</a>\n",
    "        on \n",
    "        <a href='https://www.pexels.com/photo/white-dog-wearing-sunglasses-1629780/?utm_content=attributionCopyText&utm_medium=referral&utm_source=pexels'>Pexels.</a> All images are by the author unless specified otherwise.\n",
    "    </strong>\n",
    "</figcaption>"
   ]
  },
  {
   "cell_type": "markdown",
   "id": "363b478b-fa5a-469d-a35d-083425751f68",
   "metadata": {},
   "source": [
    "# Setup"
   ]
  },
  {
   "cell_type": "code",
   "execution_count": 10,
   "id": "672d4dbe-6063-44c6-ba24-e4d601586988",
   "metadata": {},
   "outputs": [
    {
     "data": {
      "text/html": [
       "<style type='text/css'>\n",
       ".datatable table.frame { margin-bottom: 0; }\n",
       ".datatable table.frame thead { border-bottom: none; }\n",
       ".datatable table.frame tr.coltypes td {  color: #FFFFFF;  line-height: 6px;  padding: 0 0.5em;}\n",
       ".datatable .bool    { background: #DDDD99; }\n",
       ".datatable .object  { background: #565656; }\n",
       ".datatable .int     { background: #5D9E5D; }\n",
       ".datatable .float   { background: #4040CC; }\n",
       ".datatable .str     { background: #CC4040; }\n",
       ".datatable .time    { background: #40CC40; }\n",
       ".datatable .row_index {  background: var(--jp-border-color3);  border-right: 1px solid var(--jp-border-color0);  color: var(--jp-ui-font-color3);  font-size: 9px;}\n",
       ".datatable .frame tbody td { text-align: left; }\n",
       ".datatable .frame tr.coltypes .row_index {  background: var(--jp-border-color0);}\n",
       ".datatable th:nth-child(2) { padding-left: 12px; }\n",
       ".datatable .hellipsis {  color: var(--jp-cell-editor-border-color);}\n",
       ".datatable .vellipsis {  background: var(--jp-layout-color0);  color: var(--jp-cell-editor-border-color);}\n",
       ".datatable .na {  color: var(--jp-cell-editor-border-color);  font-size: 80%;}\n",
       ".datatable .sp {  opacity: 0.25;}\n",
       ".datatable .footer { font-size: 9px; }\n",
       ".datatable .frame_dimensions {  background: var(--jp-border-color3);  border-top: 1px solid var(--jp-border-color0);  color: var(--jp-ui-font-color3);  display: inline-block;  opacity: 0.6;  padding: 1px 10px 1px 5px;}\n",
       "</style>\n"
      ],
      "text/plain": [
       "<IPython.core.display.HTML object>"
      ]
     },
     "metadata": {},
     "output_type": "display_data"
    }
   ],
   "source": [
    "import logging\n",
    "import time\n",
    "import warnings\n",
    "\n",
    "import catboost as cb\n",
    "import datatable as dt\n",
    "import joblib\n",
    "import lightgbm as lgbm\n",
    "import matplotlib.pyplot as plt\n",
    "import numpy as np\n",
    "import optuna\n",
    "import pandas as pd\n",
    "import seaborn as sns\n",
    "import shap\n",
    "import umap\n",
    "import umap.plot\n",
    "import xgboost as xgb\n",
    "from optuna.samplers import TPESampler\n",
    "from sklearn.compose import *\n",
    "from sklearn.impute import *\n",
    "from sklearn.metrics import *\n",
    "from sklearn.model_selection import *\n",
    "from sklearn.pipeline import Pipeline, make_pipeline\n",
    "from sklearn.preprocessing import *\n",
    "\n",
    "logging.basicConfig(\n",
    "    format=\"%(asctime)s - %(message)s\", datefmt=\"%d-%b-%y %H:%M:%S\", level=logging.INFO\n",
    ")\n",
    "optuna.logging.set_verbosity(optuna.logging.WARNING)\n",
    "warnings.filterwarnings(\"ignore\")\n",
    "pd.set_option(\"float_format\", \"{:.5f}\".format)"
   ]
  },
  {
   "cell_type": "markdown",
   "id": "cb9998c7-5af7-4d90-92c0-7ab499ebbf07",
   "metadata": {},
   "source": [
    "# 1️⃣. np.full_like"
   ]
  },
  {
   "cell_type": "code",
   "execution_count": 18,
   "id": "e8b5ab8e-ff4c-4732-9e00-af5563bd7fd2",
   "metadata": {},
   "outputs": [
    {
     "data": {
      "text/plain": [
       "array([[3.1415927, 3.1415927, 3.1415927, 3.1415927],\n",
       "       [3.1415927, 3.1415927, 3.1415927, 3.1415927],\n",
       "       [3.1415927, 3.1415927, 3.1415927, 3.1415927]], dtype=float32)"
      ]
     },
     "execution_count": 18,
     "metadata": {},
     "output_type": "execute_result"
    }
   ],
   "source": [
    "array = np.array([[1, 4, 6, 8], [9, 4, 4, 4], [2, 7, 2, 3]])\n",
    "\n",
    "array_w_inf = np.full_like(array, fill_value=np.pi, dtype=np.float32)\n",
    "array_w_inf"
   ]
  },
  {
   "cell_type": "markdown",
   "id": "1303a55b-7f1f-4ff5-8cc8-6e280a137404",
   "metadata": {},
   "source": [
    "# np.logspace"
   ]
  },
  {
   "cell_type": "code",
   "execution_count": 21,
   "id": "1a563246-d22a-4ed5-9031-93545f20f4ce",
   "metadata": {},
   "outputs": [
    {
     "data": {
      "text/plain": [
       "array([2.71828183e+00, 3.20167238e+03, 3.77102401e+06, 4.44162312e+09,\n",
       "       5.23147450e+12, 6.16178472e+15, 7.25753148e+18, 8.54813429e+21,\n",
       "       1.00682443e+25, 1.18586746e+28, 1.39674961e+31, 1.64513282e+34,\n",
       "       1.93768588e+37, 2.28226349e+40, 2.68811714e+43])"
      ]
     },
     "execution_count": 21,
     "metadata": {},
     "output_type": "execute_result"
    }
   ],
   "source": [
    "log_array = np.logspace(start=1, stop=100, num=15, base=np.e)\n",
    "\n",
    "log_array"
   ]
  },
  {
   "cell_type": "markdown",
   "id": "d26456b9-1bba-4402-b61e-1df99e7cafc0",
   "metadata": {},
   "source": [
    "# np.meshgrid"
   ]
  },
  {
   "cell_type": "code",
   "execution_count": 22,
   "id": "f90d0656-95fc-4f81-ad89-2bafcf8a2347",
   "metadata": {},
   "outputs": [
    {
     "data": {
      "image/png": "[encoded data removed]",
      "text/plain": [
       "<Figure size 432x288 with 1 Axes>"
      ]
     },
     "metadata": {
      "needs_background": "light"
     },
     "output_type": "display_data"
    }
   ],
   "source": [
    "def sinus2d(x, y):\n",
    "    return np.sin(x) + np.sin(y)\n",
    "\n",
    "\n",
    "xx, yy = np.meshgrid(np.linspace(0, 2 * np.pi, 100), np.linspace(0, 2 * np.pi, 100))\n",
    "z = sinus2d(xx, yy)  # Create the image on this grid\n",
    "\n",
    "import matplotlib.pyplot as plt\n",
    "\n",
    "plt.imshow(z, origin=\"lower\", interpolation=\"none\")\n",
    "plt.show()"
   ]
  },
  {
   "cell_type": "markdown",
   "id": "a833253a-b86c-4745-b215-e3c3d9d2c638",
   "metadata": {},
   "source": [
    "# np.triu / np.tril"
   ]
  },
  {
   "cell_type": "code",
   "execution_count": 44,
   "id": "57036052-81fb-4aa1-80f7-cbeb9271c797",
   "metadata": {},
   "outputs": [
    {
     "data": {
      "image/png": "[encoded data removed]",
      "text/plain": [
       "<Figure size 432x288 with 2 Axes>"
      ]
     },
     "metadata": {
      "needs_background": "light"
     },
     "output_type": "display_data"
    }
   ],
   "source": [
    "import seaborn as sns\n",
    "\n",
    "diamonds = sns.load_dataset(\"diamonds\")\n",
    "\n",
    "matrix = diamonds.corr()\n",
    "mask = np.triu(np.ones_like(matrix, dtype=bool))\n",
    "\n",
    "sns.heatmap(matrix, square=True, mask=mask, annot=True, fmt=\".2f\", center=0);"
   ]
  },
  {
   "cell_type": "markdown",
   "id": "d31d0e6e-8160-4949-94c9-db32cc885bd6",
   "metadata": {},
   "source": [
    "# np.ravel / np.flatten"
   ]
  },
  {
   "cell_type": "code",
   "execution_count": 47,
   "id": "b4b6fdce-53f1-4043-abff-5f8bb54cf037",
   "metadata": {},
   "outputs": [
    {
     "data": {
      "text/plain": [
       "array([[6, 4, 8, 9, 6],\n",
       "       [5, 0, 4, 8, 5],\n",
       "       [1, 3, 1, 0, 3],\n",
       "       [2, 3, 3, 6, 5]])"
      ]
     },
     "execution_count": 47,
     "metadata": {},
     "output_type": "execute_result"
    }
   ],
   "source": [
    "array = np.random.randint(0, 10, size=(4, 5))\n",
    "array"
   ]
  },
  {
   "cell_type": "code",
   "execution_count": 50,
   "id": "a0cf457e-f454-49e3-82a3-b11d0a600648",
   "metadata": {},
   "outputs": [
    {
     "data": {
      "text/plain": [
       "array([6, 4, 8, 9, 6, 5, 0, 4, 8, 5, 1, 3, 1, 0, 3, 2, 3, 3, 6, 5])"
      ]
     },
     "execution_count": 50,
     "metadata": {},
     "output_type": "execute_result"
    }
   ],
   "source": [
    "array.ravel()"
   ]
  },
  {
   "cell_type": "code",
   "execution_count": 52,
   "id": "4d437b64-37d7-4110-bc44-d1c0680a2e94",
   "metadata": {},
   "outputs": [
    {
     "data": {
      "text/plain": [
       "array([6, 4, 8, 9, 6, 5, 0, 4, 8, 5, 1, 3, 1, 0, 3, 2, 3, 3, 6, 5])"
      ]
     },
     "execution_count": 52,
     "metadata": {},
     "output_type": "execute_result"
    }
   ],
   "source": [
    "array.flatten()"
   ]
  },
  {
   "cell_type": "markdown",
   "id": "95c0aba1-66a8-4108-8acd-7bb079f236a5",
   "metadata": {},
   "source": [
    "# np.vstack / np.hstack"
   ]
  },
  {
   "cell_type": "code",
   "execution_count": 61,
   "id": "36cde6a8-3c3d-4407-9056-eb349d57bd2b",
   "metadata": {},
   "outputs": [
    {
     "data": {
      "text/plain": [
       "array([[ 1,  2],\n",
       "       [ 2,  6],\n",
       "       [ 3,  6],\n",
       "       [ 4,  7],\n",
       "       [ 5,  4],\n",
       "       [ 6,  6],\n",
       "       [ 7,  6],\n",
       "       [ 8,  8],\n",
       "       [ 9,  2],\n",
       "       [10,  8]])"
      ]
     },
     "execution_count": 61,
     "metadata": {},
     "output_type": "execute_result"
    }
   ],
   "source": [
    "array1 = np.arange(1, 11).reshape(-1, 1)\n",
    "array2 = np.random.randint(1, 10, size=10).reshape(-1, 1)\n",
    "\n",
    "hstacked = np.hstack((array1, array2))\n",
    "hstacked"
   ]
  },
  {
   "cell_type": "code",
   "execution_count": 72,
   "id": "6ddd2f4a-1f5f-410d-bb9e-c5a300725519",
   "metadata": {},
   "outputs": [
    {
     "data": {
      "text/plain": [
       "array([[20, 21, 22, 23, 24, 25, 26, 27, 28, 29, 30],\n",
       "       [21, 23, 23, 26, 29, 26, 27, 27, 28, 25, 25]])"
      ]
     },
     "execution_count": 72,
     "metadata": {},
     "output_type": "execute_result"
    }
   ],
   "source": [
    "array1 = np.arange(20, 31).reshape(1, -1)\n",
    "array2 = np.random.randint(20, 31, size=11).reshape(1, -1)\n",
    "\n",
    "vstacked = np.vstack((array1, array2))\n",
    "vstacked"
   ]
  },
  {
   "cell_type": "markdown",
   "id": "46cedff4-ed90-474f-a753-f82625c5535e",
   "metadata": {
    "tags": []
   },
   "source": [
    "# np.r_ / np.c_"
   ]
  },
  {
   "cell_type": "code",
   "execution_count": 94,
   "id": "8cb5d666-3f2b-42bc-a09e-7e404b4717d0",
   "metadata": {},
   "outputs": [],
   "source": [
    "preds1 = np.random.rand(100)\n",
    "preds2 = np.random.rand(100)\n",
    "\n",
    "as_rows = np.r_[preds1, preds2]\n",
    "as_cols = np.c_[preds1, preds2]"
   ]
  },
  {
   "cell_type": "code",
   "execution_count": 95,
   "id": "fbef6b79-06ef-4054-8a50-43e29b75328b",
   "metadata": {},
   "outputs": [
    {
     "data": {
      "text/plain": [
       "(200,)"
      ]
     },
     "execution_count": 95,
     "metadata": {},
     "output_type": "execute_result"
    }
   ],
   "source": [
    "as_rows.shape"
   ]
  },
  {
   "cell_type": "code",
   "execution_count": 96,
   "id": "881ebc52-adf3-4210-8f36-322c70327e59",
   "metadata": {},
   "outputs": [
    {
     "data": {
      "text/plain": [
       "(100, 2)"
      ]
     },
     "execution_count": 96,
     "metadata": {},
     "output_type": "execute_result"
    }
   ],
   "source": [
    "as_cols.shape"
   ]
  },
  {
   "cell_type": "markdown",
   "id": "331fd427-f56b-4ec3-bf37-e10e38c3d9ca",
   "metadata": {},
   "source": [
    "# np.info"
   ]
  },
  {
   "cell_type": "code",
   "execution_count": 73,
   "id": "050bb931-3e18-4b89-b628-b8a7b2a0b017",
   "metadata": {},
   "outputs": [
    {
     "name": "stdout",
     "output_type": "stream",
     "text": [
      " info(object=None, maxwidth=76,\n",
      "      output=<ipykernel.iostream.OutStream object at 0x0000021B875A8820>,\n",
      "      toplevel='numpy')\n",
      "\n",
      "Get help information for a function, class, or module.\n",
      "\n",
      "Parameters\n",
      "----------\n",
      "object : object or str, optional\n",
      "    Input object or name to get information about. If `object` is a\n",
      "    numpy object, its docstring is given. If it is a string, available\n",
      "    modules are searched for matching objects.  If None, information\n",
      "    about `info` itself is returned.\n",
      "maxwidth : int, optional\n",
      "    Printing width.\n",
      "output : file like object, optional\n",
      "    File like object that the output is written to, default is\n",
      "    ``stdout``.  The object has to be opened in 'w' or 'a' mode.\n",
      "toplevel : str, optional\n",
      "    Start search at this level.\n",
      "\n",
      "See Also\n",
      "--------\n",
      "source, lookfor\n",
      "\n",
      "Notes\n",
      "-----\n",
      "When used interactively with an object, ``np.info(obj)`` is equivalent\n",
      "to ``help(obj)`` on the Python prompt or ``obj?`` on the IPython\n",
      "prompt.\n",
      "\n",
      "Examples\n",
      "--------\n",
      ">>> np.info(np.polyval) # doctest: +SKIP\n",
      "   polyval(p, x)\n",
      "     Evaluate the polynomial p at x.\n",
      "     ...\n",
      "\n",
      "When using a string for `object` it is possible to get multiple results.\n",
      "\n",
      ">>> np.info('fft') # doctest: +SKIP\n",
      "     *** Found in numpy ***\n",
      "Core FFT routines\n",
      "...\n",
      "     *** Found in numpy.fft ***\n",
      " fft(a, n=None, axis=-1)\n",
      "...\n",
      "     *** Repeat reference found in numpy.fft.fftpack ***\n",
      "     *** Total of 3 references found. ***\n"
     ]
    }
   ],
   "source": [
    "np.info(np.info)"
   ]
  },
  {
   "cell_type": "markdown",
   "id": "ea38e70a-b91c-4030-938d-8feeeca4be10",
   "metadata": {},
   "source": [
    "# np.where"
   ]
  },
  {
   "cell_type": "code",
   "execution_count": 215,
   "id": "0b70468f-c99e-4d38-b547-4b203b987e14",
   "metadata": {},
   "outputs": [
    {
     "data": {
      "text/plain": [
       "array([0.80444302, 0.80623093, 0.98833642, 0.96856382, 0.89329919,\n",
       "       0.88664223, 0.90515148, 0.96363973, 0.81847588, 0.88250337,\n",
       "       0.98737432, 0.92104315])"
      ]
     },
     "execution_count": 215,
     "metadata": {},
     "output_type": "execute_result"
    }
   ],
   "source": [
    "probs = np.random.rand(100)\n",
    "\n",
    "idx = np.where(probs > 0.8)\n",
    "probs[idx]"
   ]
  },
  {
   "cell_type": "markdown",
   "id": "c18c2479-5a7e-4929-b5ac-2e3f93724b71",
   "metadata": {},
   "source": [
    "# np.all / np.any"
   ]
  },
  {
   "cell_type": "code",
   "execution_count": 216,
   "id": "f6367137-de7f-4122-8982-92745c0e78f4",
   "metadata": {},
   "outputs": [],
   "source": [
    "array1 = np.random.rand(100)\n",
    "array2 = np.random.rand(100)"
   ]
  },
  {
   "cell_type": "code",
   "execution_count": 221,
   "id": "7030a718-c31c-42ac-83c8-a5b34e076a60",
   "metadata": {},
   "outputs": [
    {
     "data": {
      "text/plain": [
       "False"
      ]
     },
     "execution_count": 221,
     "metadata": {},
     "output_type": "execute_result"
    }
   ],
   "source": [
    "np.all(array1 == array2)"
   ]
  },
  {
   "cell_type": "code",
   "execution_count": 224,
   "id": "e9937d4f-edd7-4b75-ab80-f2cd6cd91816",
   "metadata": {},
   "outputs": [
    {
     "data": {
      "text/plain": [
       "True"
      ]
     },
     "execution_count": 224,
     "metadata": {},
     "output_type": "execute_result"
    }
   ],
   "source": [
    "a1 = np.random.randint(1, 100, size=100)\n",
    "a2 = np.random.randint(1, 100, size=100)\n",
    "\n",
    "np.any(a1 == a2)"
   ]
  },
  {
   "cell_type": "markdown",
   "id": "ecb3c932-b49e-4566-93aa-c1ab1feeca57",
   "metadata": {},
   "source": [
    "# np.allclose"
   ]
  },
  {
   "cell_type": "code",
   "execution_count": 228,
   "id": "9115ce02-a346-4120-b539-4470ba360316",
   "metadata": {},
   "outputs": [
    {
     "data": {
      "text/plain": [
       "False"
      ]
     },
     "execution_count": 228,
     "metadata": {},
     "output_type": "execute_result"
    }
   ],
   "source": [
    "a1 = np.arange(1, 10, step=0.5)\n",
    "a2 = np.arange(0.8, 9.8, step=0.5)\n",
    "\n",
    "np.all(a1 == a2)"
   ]
  },
  {
   "cell_type": "code",
   "execution_count": 232,
   "id": "0c53d51b-2b63-4213-a075-0a3c5498b243",
   "metadata": {},
   "outputs": [
    {
     "data": {
      "text/plain": [
       "False"
      ]
     },
     "execution_count": 232,
     "metadata": {},
     "output_type": "execute_result"
    }
   ],
   "source": [
    "np.allclose(a1, a2, 0.2)"
   ]
  },
  {
   "cell_type": "code",
   "execution_count": 231,
   "id": "aafca510-bbb7-4054-894b-1f7948384d83",
   "metadata": {},
   "outputs": [
    {
     "data": {
      "text/plain": [
       "True"
      ]
     },
     "execution_count": 231,
     "metadata": {},
     "output_type": "execute_result"
    }
   ],
   "source": [
    "np.allclose(a1, a2, 0.3)"
   ]
  },
  {
   "cell_type": "markdown",
   "id": "6cc8aa86-082b-4fdd-a556-dd9cbb5c5ab7",
   "metadata": {},
   "source": [
    "# np.argsort"
   ]
  },
  {
   "cell_type": "code",
   "execution_count": 234,
   "id": "02726f3d-0052-4fa2-9507-0f3e831b88a4",
   "metadata": {},
   "outputs": [
    {
     "data": {
      "text/plain": [
       "array([ 6, 19, 22, 23, 35, 36, 37, 45, 46, 57, 61, 62, 64, 66, 66, 68, 72,\n",
       "       74, 87, 89])"
      ]
     },
     "execution_count": 234,
     "metadata": {},
     "output_type": "execute_result"
    }
   ],
   "source": [
    "random_ints = np.random.randint(1, 100, size=20)\n",
    "idx = np.argsort(random_ints)\n",
    "\n",
    "random_ints[idx]"
   ]
  },
  {
   "cell_type": "markdown",
   "id": "37092da0-f672-457f-8a3e-06c6113a85d9",
   "metadata": {},
   "source": [
    "# np.isneginf / np.isposinf"
   ]
  },
  {
   "cell_type": "code",
   "execution_count": 238,
   "id": "53d23415-2655-402b-8ca7-997ac7693b17",
   "metadata": {},
   "outputs": [],
   "source": [
    "a = np.array([-9999, 99999, 97897, -79897, -np.inf])"
   ]
  },
  {
   "cell_type": "code",
   "execution_count": 248,
   "id": "ec362c7b-328f-41d4-9566-2bf1ec21c7fd",
   "metadata": {},
   "outputs": [
    {
     "data": {
      "text/plain": [
       "True"
      ]
     },
     "execution_count": 248,
     "metadata": {},
     "output_type": "execute_result"
    }
   ],
   "source": [
    "np.all(a.dtype == \"float64\")"
   ]
  },
  {
   "cell_type": "code",
   "execution_count": 242,
   "id": "7c5c5e00-9ce0-473a-be9d-2bb495eb5688",
   "metadata": {},
   "outputs": [
    {
     "data": {
      "text/plain": [
       "True"
      ]
     },
     "execution_count": 242,
     "metadata": {},
     "output_type": "execute_result"
    }
   ],
   "source": [
    "np.any(np.isneginf(a))"
   ]
  },
  {
   "cell_type": "code",
   "execution_count": 249,
   "id": "ac6abfab-7ca8-42bf-a40f-9567a9d5fa10",
   "metadata": {},
   "outputs": [
    {
     "data": {
      "text/plain": [
       "float"
      ]
     },
     "execution_count": 249,
     "metadata": {},
     "output_type": "execute_result"
    }
   ],
   "source": [
    "type(np.inf)"
   ]
  },
  {
   "cell_type": "markdown",
   "id": "9622f584-51bc-4770-a01f-04bd18d9f0a1",
   "metadata": {},
   "source": [
    "# np.polyfit"
   ]
  },
  {
   "cell_type": "code",
   "execution_count": 258,
   "id": "222bae14-d724-406d-81d0-071b45e42ad4",
   "metadata": {},
   "outputs": [
    {
     "data": {
      "text/plain": [
       "(7756.425617968436, -2256.3605800454034)"
      ]
     },
     "execution_count": 258,
     "metadata": {},
     "output_type": "execute_result"
    }
   ],
   "source": [
    "X = diamonds[\"carat\"].values.flatten()\n",
    "y = diamonds[\"price\"].values.flatten()\n",
    "\n",
    "slope, intercept = np.polyfit(X, y, deg=1)\n",
    "slope, intercept"
   ]
  },
  {
   "cell_type": "code",
   "execution_count": 259,
   "id": "7a6b36f8-3e69-4bd5-9e1c-dbb0b704cbc5",
   "metadata": {},
   "outputs": [
    {
     "data": {
      "text/plain": [
       "(array([7756.42561797]), -2256.360580045441)"
      ]
     },
     "execution_count": 259,
     "metadata": {},
     "output_type": "execute_result"
    }
   ],
   "source": [
    "from sklearn.linear_model import LinearRegression\n",
    "\n",
    "lr = LinearRegression().fit(X.reshape(-1, 1), y)\n",
    "\n",
    "lr.coef_, lr.intercept_"
   ]
  },
  {
   "cell_type": "markdown",
   "id": "537f9741-a28d-4241-8619-438e0534cf5b",
   "metadata": {},
   "source": [
    "# Probability distributions"
   ]
  },
  {
   "cell_type": "code",
   "execution_count": 261,
   "id": "22bc372e-246f-4fdb-82fe-62180416ec16",
   "metadata": {},
   "outputs": [],
   "source": [
    "norm_dist = np.random.normal(loc=1, scale=0.5, size=10000)\n",
    "poisson_dist = np.random.poisson(lam=10, size=10000)"
   ]
  },
  {
   "cell_type": "code",
   "execution_count": 268,
   "id": "e01e25a2-46d5-4e77-ad7a-ffa5c80b63a7",
   "metadata": {},
   "outputs": [
    {
     "data": {
      "image/png": "[encoded data removed]",
      "text/plain": [
       "<Figure size 432x576 with 1 Axes>"
      ]
     },
     "metadata": {
      "needs_background": "light"
     },
     "output_type": "display_data"
    }
   ],
   "source": [
    "fig, ax = plt.subplots(figsize=(6, 8))\n",
    "\n",
    "price_mean = diamonds[\"price\"].mean()\n",
    "price_std = diamonds[\"price\"].std()\n",
    "\n",
    "perfect_norm = np.random.normal(price_mean, price_std, size=1000000)\n",
    "\n",
    "sns.kdeplot(diamonds[\"price\"], ax=ax)\n",
    "sns.kdeplot(perfect_norm, ax=ax)\n",
    "\n",
    "plt.legend([\"Price\", \"Perfect Normal Distribution\"]);"
   ]
  },
  {
   "cell_type": "markdown",
   "id": "06754c15-cca4-4e6c-9b4a-02205886df75",
   "metadata": {},
   "source": [
    "# np.rint"
   ]
  },
  {
   "cell_type": "code",
   "execution_count": 279,
   "id": "660cd121-5119-46a1-bb1f-83ca6cf1fcbb",
   "metadata": {},
   "outputs": [
    {
     "data": {
      "text/plain": [
       "array([1., 1., 0., 1., 0., 1., 1., 0., 0., 0., 0., 1., 0., 1., 0., 1., 0.,\n",
       "       1., 0., 1., 1., 1., 1., 1., 0., 0., 1., 0., 0., 0., 0., 1., 0., 0.,\n",
       "       0., 0., 0., 0., 0., 0., 1., 0., 1., 0., 1., 1., 0., 0., 1., 0.])"
      ]
     },
     "execution_count": 279,
     "metadata": {},
     "output_type": "execute_result"
    }
   ],
   "source": [
    "preds = np.random.rand(100)\n",
    "\n",
    "np.rint(preds[:50])"
   ]
  },
  {
   "cell_type": "markdown",
   "id": "f61c1be0-f77d-47ff-aeb7-0596e2c15729",
   "metadata": {},
   "source": [
    "# np.nanmean / np.nan*"
   ]
  },
  {
   "cell_type": "code",
   "execution_count": 288,
   "id": "2f4dec49-bbaf-4d2c-831b-12f55675f018",
   "metadata": {},
   "outputs": [
    {
     "data": {
      "text/plain": [
       "nan"
      ]
     },
     "execution_count": 288,
     "metadata": {},
     "output_type": "execute_result"
    }
   ],
   "source": [
    "a = np.array([12, 45, np.nan, 9, np.nan, 22])\n",
    "\n",
    "np.mean(a)"
   ]
  },
  {
   "cell_type": "code",
   "execution_count": 289,
   "id": "f880bc40-8b7e-4d32-8761-c69a2c4e6735",
   "metadata": {},
   "outputs": [
    {
     "data": {
      "text/plain": [
       "22.0"
      ]
     },
     "execution_count": 289,
     "metadata": {},
     "output_type": "execute_result"
    }
   ],
   "source": [
    "np.nanmean(a)"
   ]
  },
  {
   "cell_type": "code",
   "execution_count": 290,
   "id": "21294432-3e6a-4dd0-af89-f5ccc3dc5300",
   "metadata": {},
   "outputs": [
    {
     "data": {
      "text/plain": [
       "22.0"
      ]
     },
     "execution_count": 290,
     "metadata": {},
     "output_type": "execute_result"
    }
   ],
   "source": [
    "pd.Series(a).mean()"
   ]
  },
  {
   "cell_type": "markdown",
   "id": "377e5ed5-ea5f-4244-aa20-74eb10bf88b6",
   "metadata": {},
   "source": [
    "# np.clip"
   ]
  },
  {
   "cell_type": "code",
   "execution_count": 292,
   "id": "d3f90d98-da03-4c80-b8b5-27e5881d316c",
   "metadata": {
    "tags": []
   },
   "outputs": [
    {
     "data": {
      "text/plain": [
       "array([13, 70, 10, 70, 70, 10, 63, 70, 70, 69, 45, 70, 70, 56, 60, 70, 70,\n",
       "       10, 52, 70, 32, 62, 21, 70, 13, 13, 10, 50, 38, 32, 70, 20, 27, 64,\n",
       "       34, 10, 70, 70, 53, 70, 53, 54, 26, 70, 57, 70, 46, 70, 17, 48, 70,\n",
       "       15, 49, 70, 10, 70, 19, 23, 70, 70, 70, 45, 47, 70, 70, 34, 25, 70,\n",
       "       10, 70, 42, 62, 70, 10, 70, 23, 25, 49, 70, 70, 62, 70, 70, 11, 10,\n",
       "       70, 30, 44, 70, 49, 10, 35, 52, 21, 70, 70, 25, 10, 55, 59])"
      ]
     },
     "execution_count": 292,
     "metadata": {},
     "output_type": "execute_result"
    }
   ],
   "source": [
    "ages = np.random.randint(1, 110, size=100)\n",
    "\n",
    "limited_ages = np.clip(ages, 10, 70)\n",
    "limited_ages"
   ]
  },
  {
   "cell_type": "markdown",
   "id": "d5947ee8-cc55-4b35-a528-37d3ff4389c2",
   "metadata": {
    "tags": []
   },
   "source": [
    "# np.count_nonzero"
   ]
  },
  {
   "cell_type": "code",
   "execution_count": 300,
   "id": "60d553f6-f58f-4295-92a6-38e66196e9ad",
   "metadata": {},
   "outputs": [
    {
     "data": {
      "text/plain": [
       "98993"
      ]
     },
     "execution_count": 300,
     "metadata": {},
     "output_type": "execute_result"
    }
   ],
   "source": [
    "a = np.random.randint(-50, 50, size=100000)\n",
    "\n",
    "np.count_nonzero(a)"
   ]
  },
  {
   "cell_type": "markdown",
   "id": "5109e961-0d40-4f2f-a771-fd82f9aadf97",
   "metadata": {},
   "source": [
    "# np.array_split"
   ]
  },
  {
   "cell_type": "code",
   "execution_count": 313,
   "id": "9440ca7d-2abc-42ff-9190-b8973e1687da",
   "metadata": {},
   "outputs": [],
   "source": [
    "import datatable as dt\n",
    "\n",
    "df = dt.fread(\"data/train.csv\").to_pandas()\n",
    "\n",
    "splitted_dfs = np.array_split(df, 100)"
   ]
  },
  {
   "cell_type": "code",
   "execution_count": 314,
   "id": "2aa69a73-040e-462a-9d3d-e8ee6a27a486",
   "metadata": {},
   "outputs": [
    {
     "data": {
      "text/plain": [
       "100"
      ]
     },
     "execution_count": 314,
     "metadata": {},
     "output_type": "execute_result"
    }
   ],
   "source": [
    "len(splitted_dfs)"
   ]
  }
 ],
 "metadata": {
  "kernelspec": {
   "display_name": "medium_articles",
   "language": "python",
   "name": "medium_articles"
  },
  "language_info": {
   "codemirror_mode": {
    "name": "ipython",
    "version": 3
   },
   "file_extension": ".py",
   "mimetype": "text/x-python",
   "name": "python",
   "nbconvert_exporter": "python",
   "pygments_lexer": "ipython3",
   "version": "3.8.11"
  }
 },
 "nbformat": 4,
 "nbformat_minor": 5
}
