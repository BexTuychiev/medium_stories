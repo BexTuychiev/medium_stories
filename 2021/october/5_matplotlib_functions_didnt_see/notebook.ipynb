{
 "cells": [
  {
   "cell_type": "markdown",
   "id": "c4398699-636f-4b93-aeb1-969b7574a1c0",
   "metadata": {},
   "source": [
    "# How to Completely Master Figure And Axes Objects in Matplotlib (Finally)\n",
    "## Use Matplotlib with ease and style\n",
    "![](images/pexels.jpg)\n",
    "<figcaption style=\"text-align: center;\">\n",
    "    <strong>\n",
    "        Photo by \n",
    "        <a href='https://www.pexels.com/@ilargian-faus-763704?utm_content=attributionCopyText&utm_medium=referral&utm_source=pexels'>Ilargian Faus</a>\n",
    "        on \n",
    "        <a href='https://www.pexels.com/photo/close-up-photo-of-dog-wearing-sunglasses-1629781/?utm_content=attributionCopyText&utm_medium=referral&utm_source=pexels'>Pexels.</a> All images are by the author unless specified otherwise.\n",
    "    </strong>\n",
    "</figcaption>"
   ]
  },
  {
   "cell_type": "markdown",
   "id": "a8b0ecfd-94df-4efa-91a9-361f47801179",
   "metadata": {},
   "source": [
    "# Setup"
   ]
  },
  {
   "cell_type": "code",
   "execution_count": 3,
   "id": "7064ace3-592c-43f5-bbbf-54226ae30ab7",
   "metadata": {},
   "outputs": [
    {
     "data": {
      "text/html": [
       "<style type='text/css'>\n",
       ".datatable table.frame { margin-bottom: 0; }\n",
       ".datatable table.frame thead { border-bottom: none; }\n",
       ".datatable table.frame tr.coltypes td {  color: #FFFFFF;  line-height: 6px;  padding: 0 0.5em;}\n",
       ".datatable .bool    { background: #DDDD99; }\n",
       ".datatable .object  { background: #565656; }\n",
       ".datatable .int     { background: #5D9E5D; }\n",
       ".datatable .float   { background: #4040CC; }\n",
       ".datatable .str     { background: #CC4040; }\n",
       ".datatable .time    { background: #40CC40; }\n",
       ".datatable .row_index {  background: var(--jp-border-color3);  border-right: 1px solid var(--jp-border-color0);  color: var(--jp-ui-font-color3);  font-size: 9px;}\n",
       ".datatable .frame tbody td { text-align: left; }\n",
       ".datatable .frame tr.coltypes .row_index {  background: var(--jp-border-color0);}\n",
       ".datatable th:nth-child(2) { padding-left: 12px; }\n",
       ".datatable .hellipsis {  color: var(--jp-cell-editor-border-color);}\n",
       ".datatable .vellipsis {  background: var(--jp-layout-color0);  color: var(--jp-cell-editor-border-color);}\n",
       ".datatable .na {  color: var(--jp-cell-editor-border-color);  font-size: 80%;}\n",
       ".datatable .sp {  opacity: 0.25;}\n",
       ".datatable .footer { font-size: 9px; }\n",
       ".datatable .frame_dimensions {  background: var(--jp-border-color3);  border-top: 1px solid var(--jp-border-color0);  color: var(--jp-ui-font-color3);  display: inline-block;  opacity: 0.6;  padding: 1px 10px 1px 5px;}\n",
       "</style>\n"
      ],
      "text/plain": [
       "<IPython.core.display.HTML object>"
      ]
     },
     "metadata": {},
     "output_type": "display_data"
    }
   ],
   "source": [
    "import logging\n",
    "import time\n",
    "import warnings\n",
    "\n",
    "import catboost as cb\n",
    "import datatable as dt\n",
    "import joblib\n",
    "import lightgbm as lgbm\n",
    "import matplotlib.pyplot as plt\n",
    "import numpy as np\n",
    "import optuna\n",
    "import pandas as pd\n",
    "import seaborn as sns\n",
    "import xgboost as xgb\n",
    "from optuna.samplers import TPESampler\n",
    "from sklearn.compose import *\n",
    "from sklearn.datasets import *\n",
    "from sklearn.impute import *\n",
    "from sklearn.metrics import *\n",
    "from sklearn.model_selection import *\n",
    "from sklearn.pipeline import Pipeline, make_pipeline\n",
    "from sklearn.preprocessing import *\n",
    "\n",
    "logging.basicConfig(\n",
    "    format=\"%(asctime)s - %(message)s\", datefmt=\"%d-%b-%y %H:%M:%S\", level=logging.INFO\n",
    ")\n",
    "optuna.logging.set_verbosity(optuna.logging.WARNING)\n",
    "warnings.filterwarnings(\"ignore\")\n",
    "pd.set_option(\"float_format\", \"{:.5f}\".format)"
   ]
  },
  {
   "cell_type": "code",
   "execution_count": 2,
   "id": "f73152cb-328c-4165-b190-d70b959cadac",
   "metadata": {},
   "outputs": [],
   "source": [
    "X, y = make_classification()"
   ]
  },
  {
   "cell_type": "markdown",
   "id": "8be22bbf-a779-459d-be82-3ac8173049a5",
   "metadata": {},
   "source": [
    "# Motivation"
   ]
  },
  {
   "cell_type": "markdown",
   "id": "1d6a745f-3bb4-432b-8947-334a0966fd20",
   "metadata": {},
   "source": [
    "# Matplotlib was created by artists"
   ]
  },
  {
   "cell_type": "markdown",
   "id": "2e602683-c4f5-4f8b-b386-a4dbfd7b9601",
   "metadata": {},
   "source": [
    "Though it *is* true that Matplotlib was written by exceptional programmers, it is made up of base classes called Artists. Every single thing you see on a plot is a class that *inherits* from the base `Artist` class:"
   ]
  },
  {
   "cell_type": "markdown",
   "id": "7e7caaa2-dd13-45cb-a47e-87847aaa2cca",
   "metadata": {},
   "source": [
    "![](https://matplotlib.org/stable/_images/sphx_glr_anatomy_001.png)\n",
    "<figcaption style=\"text-align: center;\">\n",
    "    <strong>\n",
    "        Matplotlib anatomy from the docs.\n",
    "    </strong>\n",
    "</figcaption>"
   ]
  },
  {
   "cell_type": "markdown",
   "id": "04915445-6ded-4e50-a8d2-cbe91f9d5894",
   "metadata": {},
   "source": [
    "Every circle-annotated component of the plot is implemented as a separate class that inherits from the base artist. But this ability of representing everything as a class has its pros and cons. \n",
    "\n",
    "On the one hand, it gives Matplotlib unprecedented flexibility. Using their respective class, you can tweak virtually any plot component until you are satisfied. Often, you have multiple options to do the same task, enabling you to switch between different interfaces.\n",
    "\n",
    "Perhaps, this is what upsets Pythonistas about MPL the most. According to the [zen of Python](https://www.python.org/dev/peps/pep-0020/), there should be one, and preferably only one obvious way to do something. And Matplotlib API is a violation of this rule in every way imaginable.\n",
    "\n",
    "As a result, beginners are confused. They don't know which class or function to use to do a simple task. They don't understand the documentation because, frankly, it is so damn hard to understand. Even experienced developers don't have a clue what errors like below mean:"
   ]
  },
  {
   "cell_type": "markdown",
   "id": "643f2f41-c628-4ac8-9f35-f303750041a9",
   "metadata": {},
   "source": [
    "```python\n",
    ">>> plt.plot([1, 2, 3], [2, 6, 4], s=4)\n",
    "\n",
    "...\n",
    "AttributeError: 'Line2D' object has no property 's'\n",
    "```"
   ]
  },
  {
   "cell_type": "markdown",
   "id": "8ffe0ab2-eabb-4ca3-9970-c9184511ddcc",
   "metadata": {},
   "source": [
    "Naturally, you are frustrated because you don't know where the heck you used Lined2D object or where it came from.\n",
    "\n",
    "If you are one of these people, I will show you a few tricks that I have learned which will make you a pro Matplotlib user and read the documentation like you would read children's bedtime story."
   ]
  },
  {
   "cell_type": "markdown",
   "id": "e0f97726-d593-402d-a7b5-69b21e3a6e8c",
   "metadata": {},
   "source": [
    "# Creating a unified workflow of your own"
   ]
  },
  {
   "cell_type": "markdown",
   "id": "ce3975ee-3475-44fd-8681-fb7ddea41513",
   "metadata": {
    "tags": []
   },
   "source": [
    "We will start by choosing a unified approach to doing tasks. As I said, there are many ways to do a single one, so it is important to stick to only one style and master it. \n",
    "\n",
    "The workflow I use to create a plot and customize it is as follows:\n",
    "1. Create the plot itself with basic elements and low customization.\n",
    "2. Find out weaknesses of the plot and make note of the components I want to improve.\n",
    "3. Isolate those weak components with relevant Matplotlib functions.\n",
    "4. Tweak them until I am satisfied using the swiss army knife of Matplotlib (more on that later).\n",
    "5. Save or display it.\n",
    "\n",
    "We will learn how to do each step in detail. I guarantee you that this framework works for almost any type of plot you create and customization you want to make. "
   ]
  },
  {
   "cell_type": "markdown",
   "id": "6e0aad83-f082-4142-923c-f514963021b0",
   "metadata": {},
   "source": [
    "# Figuratively speaking..."
   ]
  },
  {
   "cell_type": "markdown",
   "id": "5d0b9d87-c58a-46a9-9c70-172d2677bf92",
   "metadata": {},
   "source": [
    "Let's start by learning how to create plots using figures. A Figure object in MPL is the highest-level artist, which can be thought as the canvas you draw everything on."
   ]
  },
  {
   "cell_type": "code",
   "execution_count": 5,
   "id": "49979dfd-9df5-43dc-8c03-06784df39261",
   "metadata": {},
   "outputs": [
    {
     "data": {
      "text/plain": [
       "<Figure size 432x288 with 0 Axes>"
      ]
     },
     "metadata": {},
     "output_type": "display_data"
    }
   ],
   "source": [
    "fig = plt.figure()"
   ]
  },
  {
   "cell_type": "markdown",
   "id": "537159bf-30fb-41b8-80b4-2c1fcee0a095",
   "metadata": {},
   "source": [
    "A figure with noting drawn on it can be created with the `figure` function. On its own, figure does nothing - just remember that it is the blank white page you draw your plots on.\n",
    "\n",
    "We will come back to figures later."
   ]
  },
  {
   "cell_type": "markdown",
   "id": "84c69dbc-7d8f-4b76-905a-12ebee857c2f",
   "metadata": {},
   "source": [
    "# Let's throw Axes!"
   ]
  },
  {
   "cell_type": "markdown",
   "id": "4a02d83e-b8a2-452a-be16-8508104d4c62",
   "metadata": {},
   "source": [
    "The fun begins when we add axes to the figure. The `Axes` class is an artist that represents a set of x, y coordinate system in a plot:"
   ]
  },
  {
   "cell_type": "code",
   "execution_count": 10,
   "id": "e00ce0e6-3865-415b-b471-0529d2fdf42e",
   "metadata": {},
   "outputs": [
    {
     "data": {
      "text/plain": [
       "<Figure size 432x288 with 0 Axes>"
      ]
     },
     "metadata": {},
     "output_type": "display_data"
    }
   ],
   "source": [
    "fig = plt.figure()\n",
    "\n",
    "ax1 = fig.add_axes()\n",
    "ax1"
   ]
  },
  {
   "cell_type": "markdown",
   "id": "820ab0ce-a3e0-4057-bdd0-e778ec9251df",
   "metadata": {},
   "source": [
    "The function to add a blank axes to a figure is `add_axes` but in practice, you never use it. Instead, you usually create a single figure and an axes simultaneously using the `subplots` function:"
   ]
  },
  {
   "cell_type": "code",
   "execution_count": 11,
   "id": "579cca60-58be-4ed9-95d2-362ad555c241",
   "metadata": {},
   "outputs": [
    {
     "data": {
      "image/png": "[encoded data removed]",
      "text/plain": [
       "<Figure size 432x288 with 1 Axes>"
      ]
     },
     "metadata": {
      "needs_background": "light"
     },
     "output_type": "display_data"
    }
   ],
   "source": [
    "fig, ax = plt.subplots()"
   ]
  },
  {
   "cell_type": "markdown",
   "id": "f5656376-4456-47fd-b199-87cf6fad8e03",
   "metadata": {},
   "source": [
    "This immediately creates a figure and attaches an axes (coordinate system) with a range 0 and 1. Next, we start plotting data on the axes using the plotting methods of axes. \n",
    "\n",
    "These plots have names such as `bar`, `hist`, `scatter`, `boxplot`, etc. Let's create a simple scatterplot:"
   ]
  },
  {
   "cell_type": "code",
   "execution_count": 23,
   "id": "a4991b46-42fd-4fd4-8669-f0ef9f714397",
   "metadata": {},
   "outputs": [
    {
     "data": {
      "image/png": "[encoded data removed]",
      "text/plain": [
       "<Figure size 432x288 with 1 Axes>"
      ]
     },
     "metadata": {
      "needs_background": "light"
     },
     "output_type": "display_data"
    }
   ],
   "source": [
    "fig, ax = plt.subplots()\n",
    "\n",
    "# Create the data to plot\n",
    "X = np.linspace(0.5, 3.5, 100)\n",
    "Y1 = 3 + np.cos(X)\n",
    "Y2 = 1 + np.cos(1 + X / 0.75) / 2\n",
    "Y3 = np.random.uniform(Y1, Y2, len(X))\n",
    "\n",
    "datapoints = ax.scatter(X, Y3)\n",
    "line1 = ax.plot(X, Y1)\n",
    "line2 = ax.plot(X, Y2)"
   ]
  },
  {
   "cell_type": "markdown",
   "id": "53f3f7a5-7f29-4c8a-b6df-c8c08e004bfd",
   "metadata": {},
   "source": [
    "We can already see that the plot needs a few text labels. Besides, we don't like the default colors of the points and the lines. Also, figure itself is a bit small.\n",
    "\n",
    "See what we did here? We first created a base plot and identified the components we want to improve. Now, we need to figure out how to extract those components and tweak them."
   ]
  },
  {
   "cell_type": "markdown",
   "id": "844fe508-7a48-419a-b640-8815f460bc0b",
   "metadata": {},
   "source": []
  },
  {
   "cell_type": "markdown",
   "id": "434a227b-bff8-4ee2-bb24-410e853750aa",
   "metadata": {},
   "source": [
    "# Containers and primitives"
   ]
  },
  {
   "cell_type": "markdown",
   "id": "57c9a88e-e9e7-41d9-bf68-fa3e7ae37107",
   "metadata": {},
   "source": [
    "# Summary"
   ]
  }
 ],
 "metadata": {
  "kernelspec": {
   "display_name": "medium_articles",
   "language": "python",
   "name": "medium_articles"
  },
  "language_info": {
   "codemirror_mode": {
    "name": "ipython",
    "version": 3
   },
   "file_extension": ".py",
   "mimetype": "text/x-python",
   "name": "python",
   "nbconvert_exporter": "python",
   "pygments_lexer": "ipython3",
   "version": "3.8.11"
  }
 },
 "nbformat": 4,
 "nbformat_minor": 5
}
