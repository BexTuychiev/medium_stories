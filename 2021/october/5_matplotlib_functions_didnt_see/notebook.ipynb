{
 "cells": [
  {
   "cell_type": "markdown",
   "id": "c4398699-636f-4b93-aeb1-969b7574a1c0",
   "metadata": {},
   "source": [
    "# 5 Step Workflow To Touch Into the Heart of Matplotlib And Create Awesome Graphs\n",
    "## Use Matplotlib like an absolute boss!\n",
    "![](images/pexels.jpg)\n",
    "<figcaption style=\"text-align: center;\">\n",
    "    <strong>\n",
    "        Photo by \n",
    "        <a href='https://www.pexels.com/@ilargian-faus-763704?utm_content=attributionCopyText&utm_medium=referral&utm_source=pexels'>Ilargian Faus</a>\n",
    "        on \n",
    "        <a href='https://www.pexels.com/photo/close-up-photo-of-dog-wearing-sunglasses-1629781/?utm_content=attributionCopyText&utm_medium=referral&utm_source=pexels'>Pexels.</a> All images are by the author unless specified otherwise.\n",
    "    </strong>\n",
    "</figcaption>"
   ]
  },
  {
   "cell_type": "markdown",
   "id": "7721b033-fbf4-4acd-8f4f-61b98cf53b8d",
   "metadata": {},
   "source": [
    "# I used to have a rule..."
   ]
  },
  {
   "cell_type": "markdown",
   "id": "2007a8ee-8f45-4030-ae95-5f1e3472eca0",
   "metadata": {},
   "source": [
    "When I was a beginner learning data viz, I used to have a rule - never, ever visit the Matplotlib documentation. \n",
    "\n",
    "Nothing good ever came out of there. When I was on its pages, my eyes would process *English words* but, somehow, they were interpreted into my brain like I was deciphering a foreign language. Then I would stumble upon some masterpieces like [these](https://ibexorigin.medium.com/yes-these-unbelievable-masterpieces-are-created-with-matplotlib-2256a4c54b12?source=your_stories_page-------------------------------------) and I would think, do I use the same library?\n",
    "\n",
    "Even if you are a season programmer, I am sure you've faced similar challenges while learning Maplotlib. It is no easy library. There are so many classes and so damn many ways of doing the simplest tasks. Utter confusion. \n",
    "\n",
    "If you are in that position or want to step up your Matplotlib game, I've got the guide you need. I will show you to reach *deep* into the roots of Matplotlib jungle, set a fire on it and fly out on a *jetpack*. Are you ready? Let's start!"
   ]
  },
  {
   "cell_type": "markdown",
   "id": "a8b0ecfd-94df-4efa-91a9-361f47801179",
   "metadata": {},
   "source": [
    "# Setup"
   ]
  },
  {
   "cell_type": "code",
   "execution_count": 3,
   "id": "7064ace3-592c-43f5-bbbf-54226ae30ab7",
   "metadata": {},
   "outputs": [
    {
     "data": {
      "text/html": [
       "<style type='text/css'>\n",
       ".datatable table.frame { margin-bottom: 0; }\n",
       ".datatable table.frame thead { border-bottom: none; }\n",
       ".datatable table.frame tr.coltypes td {  color: #FFFFFF;  line-height: 6px;  padding: 0 0.5em;}\n",
       ".datatable .bool    { background: #DDDD99; }\n",
       ".datatable .object  { background: #565656; }\n",
       ".datatable .int     { background: #5D9E5D; }\n",
       ".datatable .float   { background: #4040CC; }\n",
       ".datatable .str     { background: #CC4040; }\n",
       ".datatable .time    { background: #40CC40; }\n",
       ".datatable .row_index {  background: var(--jp-border-color3);  border-right: 1px solid var(--jp-border-color0);  color: var(--jp-ui-font-color3);  font-size: 9px;}\n",
       ".datatable .frame tbody td { text-align: left; }\n",
       ".datatable .frame tr.coltypes .row_index {  background: var(--jp-border-color0);}\n",
       ".datatable th:nth-child(2) { padding-left: 12px; }\n",
       ".datatable .hellipsis {  color: var(--jp-cell-editor-border-color);}\n",
       ".datatable .vellipsis {  background: var(--jp-layout-color0);  color: var(--jp-cell-editor-border-color);}\n",
       ".datatable .na {  color: var(--jp-cell-editor-border-color);  font-size: 80%;}\n",
       ".datatable .sp {  opacity: 0.25;}\n",
       ".datatable .footer { font-size: 9px; }\n",
       ".datatable .frame_dimensions {  background: var(--jp-border-color3);  border-top: 1px solid var(--jp-border-color0);  color: var(--jp-ui-font-color3);  display: inline-block;  opacity: 0.6;  padding: 1px 10px 1px 5px;}\n",
       "</style>\n"
      ],
      "text/plain": [
       "<IPython.core.display.HTML object>"
      ]
     },
     "metadata": {},
     "output_type": "display_data"
    }
   ],
   "source": [
    "import logging\n",
    "import time\n",
    "import warnings\n",
    "\n",
    "import catboost as cb\n",
    "import datatable as dt\n",
    "import joblib\n",
    "import lightgbm as lgbm\n",
    "import matplotlib.pyplot as plt\n",
    "import numpy as np\n",
    "import optuna\n",
    "import pandas as pd\n",
    "import seaborn as sns\n",
    "import xgboost as xgb\n",
    "from optuna.samplers import TPESampler\n",
    "from sklearn.compose import *\n",
    "from sklearn.datasets import *\n",
    "from sklearn.impute import *\n",
    "from sklearn.metrics import *\n",
    "from sklearn.model_selection import *\n",
    "from sklearn.pipeline import Pipeline, make_pipeline\n",
    "from sklearn.preprocessing import *\n",
    "\n",
    "logging.basicConfig(\n",
    "    format=\"%(asctime)s - %(message)s\", datefmt=\"%d-%b-%y %H:%M:%S\", level=logging.INFO\n",
    ")\n",
    "optuna.logging.set_verbosity(optuna.logging.WARNING)\n",
    "warnings.filterwarnings(\"ignore\")\n",
    "pd.set_option(\"float_format\", \"{:.5f}\".format)"
   ]
  },
  {
   "cell_type": "code",
   "execution_count": 2,
   "id": "f73152cb-328c-4165-b190-d70b959cadac",
   "metadata": {},
   "outputs": [],
   "source": [
    "X, y = make_classification()"
   ]
  },
  {
   "cell_type": "markdown",
   "id": "1d6a745f-3bb4-432b-8947-334a0966fd20",
   "metadata": {},
   "source": [
    "# Matplotlib was created by artists"
   ]
  },
  {
   "cell_type": "markdown",
   "id": "2e602683-c4f5-4f8b-b386-a4dbfd7b9601",
   "metadata": {},
   "source": [
    "Though it *is* true that Matplotlib was written by exceptional programmers, it is made up of base classes called Artists."
   ]
  },
  {
   "cell_type": "markdown",
   "id": "7e7caaa2-dd13-45cb-a47e-87847aaa2cca",
   "metadata": {},
   "source": [
    "![](https://matplotlib.org/stable/_images/sphx_glr_anatomy_001.png)\n",
    "<figcaption style=\"text-align: center;\">\n",
    "    <strong>\n",
    "        Matplotlib anatomy from the docs.\n",
    "    </strong>\n",
    "</figcaption>"
   ]
  },
  {
   "cell_type": "markdown",
   "id": "04915445-6ded-4e50-a8d2-cbe91f9d5894",
   "metadata": {},
   "source": [
    "Every circle-annotated component of the plot is implemented as a separate class that *inherits* from the base artist. But this ability of representing everything as a class has its pros and cons. \n",
    "\n",
    "On the one hand, it gives Matplotlib unprecedented flexibility. Using their respective class, you can tweak virtually any plot component until you are satisfied. Often, you have multiple options to do the same task, enabling you to switch between different interfaces.\n",
    "\n",
    "Perhaps, this is what upsets Pythonistas about MPL the most. According to the [zen of Python](https://www.python.org/dev/peps/pep-0020/), there should be one, and preferably only one obvious way to do something. And Matplotlib API is a violation of this rule in every way imaginable.\n",
    "\n",
    "As a result, beginners are confused. They don't know which class or function to use to do a simple task. They don't understand the documentation because, frankly, it is so damn hard to understand. Even experienced developers may not have a clue what errors like this mean:"
   ]
  },
  {
   "cell_type": "markdown",
   "id": "643f2f41-c628-4ac8-9f35-f303750041a9",
   "metadata": {},
   "source": [
    "```python\n",
    ">>> plt.plot([1, 2, 3], [2, 6, 4], s=4)\n",
    "\n",
    "...\n",
    "AttributeError: 'Line2D' object has no property 's'\n",
    "```"
   ]
  },
  {
   "cell_type": "markdown",
   "id": "8ffe0ab2-eabb-4ca3-9970-c9184511ddcc",
   "metadata": {},
   "source": [
    "Naturally, you are frustrated because you don't know where the heck you used Lined2D object or where it came from.\n",
    "\n",
    "If you are one of these people, I will show you a few tricks that I have learned which will make you a pro Matplotlib user and read the documentation like you would read children's bedtime story."
   ]
  },
  {
   "cell_type": "markdown",
   "id": "e0f97726-d593-402d-a7b5-69b21e3a6e8c",
   "metadata": {},
   "source": [
    "# Creating a unified workflow of your own"
   ]
  },
  {
   "cell_type": "markdown",
   "id": "ce3975ee-3475-44fd-8681-fb7ddea41513",
   "metadata": {
    "tags": []
   },
   "source": [
    "We will start by choosing a unified approach to doing tasks. As I said, there are many ways to do a single one, so it is important to stick to only one style and master it. \n",
    "\n",
    "The workflow I use to create a plot and customize it is as follows:\n",
    "1. Create the plot itself with basic elements and low customization.\n",
    "2. Find out weaknesses of the plot and make note of the components you want to improve.\n",
    "3. Isolate those weak components with relevant Matplotlib functions.\n",
    "4. Tweak them until you are satisfied, using the swiss army knife of Matplotlib (more on that later).\n",
    "5. Save or display the plot.\n",
    "\n",
    "We will learn how to do each step in detail. I guarantee you that this framework works for almost any type of plot you create and customization you want to make. "
   ]
  },
  {
   "cell_type": "markdown",
   "id": "6e0aad83-f082-4142-923c-f514963021b0",
   "metadata": {},
   "source": [
    "# Figuratively speaking..."
   ]
  },
  {
   "cell_type": "markdown",
   "id": "5d0b9d87-c58a-46a9-9c70-172d2677bf92",
   "metadata": {},
   "source": [
    "Let's start by learning how to create plots using figures. A Figure object in MPL is the highest-level artist, which can be thought as the canvas you draw everything on."
   ]
  },
  {
   "cell_type": "code",
   "execution_count": 5,
   "id": "49979dfd-9df5-43dc-8c03-06784df39261",
   "metadata": {},
   "outputs": [
    {
     "data": {
      "text/plain": [
       "<Figure size 432x288 with 0 Axes>"
      ]
     },
     "metadata": {},
     "output_type": "display_data"
    }
   ],
   "source": [
    "fig = plt.figure()"
   ]
  },
  {
   "cell_type": "markdown",
   "id": "537159bf-30fb-41b8-80b4-2c1fcee0a095",
   "metadata": {},
   "source": [
    "A figure with noting drawn on it can be created with the `figure` function. On its own, figure does nothing - just remember that it is the blank white page you draw your plots on.\n",
    "\n",
    "We will come back to figures later."
   ]
  },
  {
   "cell_type": "markdown",
   "id": "84c69dbc-7d8f-4b76-905a-12ebee857c2f",
   "metadata": {},
   "source": [
    "# Let's throw Axes!"
   ]
  },
  {
   "cell_type": "markdown",
   "id": "e7eb7bc7-4246-476f-b345-ecf5db1e77ee",
   "metadata": {},
   "source": [
    "![](images/pexels2.jpg)\n",
    "<figcaption style=\"text-align: center;\">\n",
    "    <strong>\n",
    "        Photo by \n",
    "        <a href='https://www.pexels.com/@matreding?utm_content=attributionCopyText&utm_medium=referral&utm_source=pexels'>Mathias P.R. Reding</a>\n",
    "        on \n",
    "        <a href='https://www.pexels.com/photo/old-axe-with-rusty-blade-in-stump-6835322/?utm_content=attributionCopyText&utm_medium=referral&utm_source=pexels'>Pexels</a></strong>\n",
    "</figcaption>"
   ]
  },
  {
   "cell_type": "markdown",
   "id": "4a02d83e-b8a2-452a-be16-8508104d4c62",
   "metadata": {},
   "source": [
    "The fun begins when we add axes to the figure. The `Axes` class is an artist that represents a set of x, y coordinate system in a plot:"
   ]
  },
  {
   "cell_type": "code",
   "execution_count": 10,
   "id": "e00ce0e6-3865-415b-b471-0529d2fdf42e",
   "metadata": {},
   "outputs": [
    {
     "data": {
      "text/plain": [
       "<Figure size 432x288 with 0 Axes>"
      ]
     },
     "metadata": {},
     "output_type": "display_data"
    }
   ],
   "source": [
    "fig = plt.figure()\n",
    "\n",
    "ax1 = fig.add_axes()\n",
    "ax1"
   ]
  },
  {
   "cell_type": "markdown",
   "id": "820ab0ce-a3e0-4057-bdd0-e778ec9251df",
   "metadata": {},
   "source": [
    "The function to add a blank axes to a figure is `add_axes` but in practice, you never use it. Instead, you usually create a single figure and one or more axes simultaneously using the `subplots` function:"
   ]
  },
  {
   "cell_type": "code",
   "execution_count": 11,
   "id": "579cca60-58be-4ed9-95d2-362ad555c241",
   "metadata": {},
   "outputs": [
    {
     "data": {
      "image/png": "[encoded data removed]",
      "text/plain": [
       "<Figure size 432x288 with 1 Axes>"
      ]
     },
     "metadata": {
      "needs_background": "light"
     },
     "output_type": "display_data"
    }
   ],
   "source": [
    "fig, ax = plt.subplots()"
   ]
  },
  {
   "cell_type": "markdown",
   "id": "f5656376-4456-47fd-b199-87cf6fad8e03",
   "metadata": {},
   "source": [
    "This immediately creates a figure and attaches an axes (coordinate system). Next, we start plotting data on the axes using the plotting methods. \n",
    "\n",
    "These plots have names such as `bar`, `hist`, `scatter`, `boxplot`, etc. Let's create a simple scatterplot and draw a couple of lines:"
   ]
  },
  {
   "cell_type": "code",
   "execution_count": 24,
   "id": "a4991b46-42fd-4fd4-8669-f0ef9f714397",
   "metadata": {},
   "outputs": [
    {
     "data": {
      "image/png": "[encoded data removed]",
      "text/plain": [
       "<Figure size 432x288 with 1 Axes>"
      ]
     },
     "metadata": {
      "needs_background": "light"
     },
     "output_type": "display_data"
    }
   ],
   "source": [
    "fig, ax = plt.subplots()\n",
    "\n",
    "# Create the data to plot\n",
    "X = np.linspace(0.5, 3.5, 100)\n",
    "Y1 = 3 + np.cos(X)\n",
    "Y2 = 1 + np.cos(1 + X / 0.75) / 2\n",
    "Y3 = np.random.uniform(Y1, Y2, len(X))\n",
    "\n",
    "ax.scatter(X, Y3)\n",
    "ax.plot(X, Y1)\n",
    "ax.plot(X, Y2);"
   ]
  },
  {
   "cell_type": "markdown",
   "id": "53f3f7a5-7f29-4c8a-b6df-c8c08e004bfd",
   "metadata": {},
   "source": [
    "We can already see that the plot needs a few text labels. Besides, we don't like the default colors of the points and the lines. Also, figure itself is a bit small.\n",
    "\n",
    "See what we did here? We first created a base plot and identified the components we want to improve. Now, we need to figure out how to extract those components and customize them."
   ]
  },
  {
   "cell_type": "markdown",
   "id": "844fe508-7a48-419a-b640-8815f460bc0b",
   "metadata": {},
   "source": [
    "# Breaking down the plot components and their components and their components"
   ]
  },
  {
   "cell_type": "markdown",
   "id": "a560e934-9dbe-4644-9fd4-50e197949e5f",
   "metadata": {},
   "source": [
    "Since we created the axes and figures at the beginning, they are already isolated as objects (`fig` and `ax`). \n",
    "\n",
    "Now, let's assume for a moment that we have the figure but not the axes. How do we extract it from the figure? \n",
    "\n",
    "Every matplotlib artist has several methods that start with `get_*` prefix. If we call the `dir` function on `fig`, we can see a few examples:"
   ]
  },
  {
   "cell_type": "markdown",
   "id": "ef18b612-47e0-4762-a327-328a17bc7848",
   "metadata": {},
   "source": [
    "```python\n",
    ">>> dir(fig)\n",
    "[\n",
    " ...\n",
    " 'gca',\n",
    " 'get_agg_filter',\n",
    " 'get_alpha',\n",
    " 'get_animated',\n",
    " 'get_axes',\n",
    " 'get_dpi',\n",
    " 'get_edgecolor',\n",
    " 'get_facecolor',\n",
    " 'get_figheight',\n",
    " 'get_figure',\n",
    " 'get_figwidth',\n",
    " 'get_frameon',\n",
    " 'get_gid',\n",
    " 'get_in_layout'\n",
    " ...\n",
    "]\n",
    "```"
   ]
  },
  {
   "cell_type": "markdown",
   "id": "7c8e417f-a3c0-4f04-867a-66d8247d8d7b",
   "metadata": {},
   "source": [
    "In the list we see a little function called `get_axes`, so we'll use it."
   ]
  },
  {
   "cell_type": "code",
   "execution_count": 31,
   "id": "5bb70203-b784-4738-b50f-5dfc43c29885",
   "metadata": {},
   "outputs": [
    {
     "data": {
      "text/plain": [
       "[<AxesSubplot:>]"
      ]
     },
     "execution_count": 31,
     "metadata": {},
     "output_type": "execute_result"
    }
   ],
   "source": [
    "axes_list = fig.get_axes()\n",
    "axes_list"
   ]
  },
  {
   "cell_type": "markdown",
   "id": "c89a0dad-d9e2-4e1c-8462-447da008e27d",
   "metadata": {},
   "source": [
    "The official class name of axes is `AxesSubplot` and as we see, there is only one in the list:"
   ]
  },
  {
   "cell_type": "code",
   "execution_count": 35,
   "id": "d2100d04-2f8b-4932-b5b2-6969851e0f6a",
   "metadata": {},
   "outputs": [],
   "source": [
    "ax = axes_list[0]"
   ]
  },
  {
   "cell_type": "markdown",
   "id": "05a8a6e4-ccdd-4d2a-91b1-5d8d7a1b0ae6",
   "metadata": {},
   "source": [
    "I know these are very basic concepts but the lesson you should take from here is that every class in MPL has such `get_*` functions which allow you to retrieve different parts of that component class."
   ]
  },
  {
   "cell_type": "markdown",
   "id": "8cd5b233-1f65-4a8a-8623-ceafa586faaf",
   "metadata": {},
   "source": [
    "# The swiss army knives of Matplotlib"
   ]
  },
  {
   "cell_type": "markdown",
   "id": "27b7bd3d-ee1e-4ab0-be52-bf0f0a1681d9",
   "metadata": {},
   "source": [
    "![](images/pixabay.jpg)\n",
    "<figcaption style=\"text-align: center;\">\n",
    "    <strong>\n",
    "        Photo by \n",
    "        <a href='https://pixabay.com/users/bujinzhao-10495661/'>bujinzhao</a>\n",
    "        on \n",
    "        <a href=''>Pixabay</a>\n",
    "    </strong>\n",
    "</figcaption>\n",
    "\n",
    "Now that we have a couple objects, it is time we customize them using their parameters. But first, we have to ask - what parameters are there for my object and what values do they take?\n",
    "\n",
    "That's where the swiss army knife of Matplotlib comes into play. It is the function `plt.setp` ( *set parameter*) and it is accessible through the PyPlot API. \n",
    "\n",
    "So, let's see what parameters the figure object accepts:"
   ]
  },
  {
   "cell_type": "code",
   "execution_count": 36,
   "id": "7274a91c-0f6e-4036-8c46-677ff7ec506e",
   "metadata": {},
   "outputs": [
    {
     "name": "stdout",
     "output_type": "stream",
     "text": [
      "  agg_filter: a filter function, which takes a (m, n, 3) float array and a dpi value, and returns a (m, n, 3) array\n",
      "  alpha: scalar or None\n",
      "  animated: bool\n",
      "  canvas: FigureCanvas\n",
      "  clip_box: `.Bbox`\n",
      "  clip_on: bool\n",
      "  clip_path: Patch or (Path, Transform) or None\n",
      "  constrained_layout: bool or dict or None\n",
      "  constrained_layout_pads: unknown\n",
      "  contains: unknown\n",
      "  dpi: float\n",
      "  edgecolor: color\n",
      "  facecolor: color\n",
      "  figheight: float\n",
      "  figure: `.Figure`\n",
      "  figwidth: float\n",
      "  frameon: bool\n",
      "  gid: str\n",
      "  in_layout: bool\n",
      "  label: object\n",
      "  linewidth: number\n",
      "  path_effects: `.AbstractPathEffect`\n",
      "  picker: None or bool or float or callable\n",
      "  rasterized: bool\n",
      "  size_inches: (float, float) or float\n",
      "  sketch_params: (scale: float, length: float, randomness: float)\n",
      "  snap: bool or None\n",
      "  tight_layout: bool or dict with keys \"pad\", \"w_pad\", \"h_pad\", \"rect\" or None\n",
      "  transform: `.Transform`\n",
      "  url: str\n",
      "  visible: bool\n",
      "  zorder: float\n"
     ]
    }
   ],
   "source": [
    "plt.setp(fig)"
   ]
  },
  {
   "cell_type": "markdown",
   "id": "f83df0c6-7386-41c5-98de-f7d586ace232",
   "metadata": {},
   "source": [
    "Calling the function on an object with no parameters prints the documentation of all object arguments. In the list of parameters, we see the one we want to change which is the figure size. It is the one named `size_inches`:"
   ]
  },
  {
   "cell_type": "code",
   "execution_count": 38,
   "id": "905ba2bf-51a6-4af3-bfb8-343e733e9579",
   "metadata": {},
   "outputs": [
    {
     "name": "stdout",
     "output_type": "stream",
     "text": [
      "  size_inches: (float, float) or float\n"
     ]
    }
   ],
   "source": [
    "plt.setp(fig, \"size_inches\")"
   ]
  },
  {
   "cell_type": "markdown",
   "id": "ea04f48f-7fa5-42c6-96e1-76c0a6a68b76",
   "metadata": {},
   "source": [
    "Passing the object and its parameter name as a string is a shorthand for printing out the parameters possible values. Now, let's finally change the figure size:"
   ]
  },
  {
   "cell_type": "code",
   "execution_count": 42,
   "id": "04480863-4d20-428d-bbef-362ba19de026",
   "metadata": {},
   "outputs": [
    {
     "data": {
      "text/plain": [
       "[None]"
      ]
     },
     "execution_count": 42,
     "metadata": {},
     "output_type": "execute_result"
    }
   ],
   "source": [
    "plt.setp(fig, size_inches=(9, 6))"
   ]
  },
  {
   "cell_type": "markdown",
   "id": "3eb82963-7c44-41a7-8c57-db0b6d05619b",
   "metadata": {},
   "source": [
    "The function returns None, meaning the operation was successful. Now, we take a look at the plot once again:"
   ]
  },
  {
   "cell_type": "code",
   "execution_count": 43,
   "id": "4776b931-cc1d-4593-b797-2d28206d689c",
   "metadata": {},
   "outputs": [
    {
     "data": {
      "image/png": "[encoded data removed]",
      "text/plain": [
       "<Figure size 648x432 with 1 Axes>"
      ]
     },
     "execution_count": 43,
     "metadata": {},
     "output_type": "execute_result"
    }
   ],
   "source": [
    "fig.get_figure()"
   ]
  },
  {
   "cell_type": "markdown",
   "id": "a3fb0f03-06fa-4730-975f-bc4b8e61f589",
   "metadata": {},
   "source": [
    "Now, it is time for axes:"
   ]
  },
  {
   "cell_type": "code",
   "execution_count": 46,
   "id": "c0df42fc-9f3e-45ca-a6a0-e46295474a41",
   "metadata": {},
   "outputs": [
    {
     "name": "stdout",
     "output_type": "stream",
     "text": [
      "  adjustable: {'box', 'datalim'}\n",
      "  agg_filter: a filter function, which takes a (m, n, 3) float array and a dpi value, and returns a (m, n, 3) array\n",
      "  alpha: scalar or None\n",
      "  anchor: 2-tuple of floats or {'C', 'SW', 'S', 'SE', ...}\n",
      "  animated: bool\n",
      "  aspect: {'auto', 'equal'} or float\n",
      "  autoscale_on: bool\n",
      "  autoscalex_on: bool\n",
      "  autoscaley_on: bool\n",
      "  axes_locator: Callable[[Axes, Renderer], Bbox]\n",
      "  axisbelow: bool or 'line'\n",
      "  box_aspect: float or None\n",
      "  clip_box: `.Bbox`\n",
      "  clip_on: bool\n",
      "  clip_path: Patch or (Path, Transform) or None\n",
      "  contains: unknown\n",
      "  facecolor or fc: color\n",
      "  figure: `.Figure`\n",
      "  frame_on: bool\n",
      "  gid: str\n",
      "  in_layout: bool\n",
      "  label: object\n",
      "  navigate: bool\n",
      "  navigate_mode: unknown\n",
      "  path_effects: `.AbstractPathEffect`\n",
      "  picker: None or bool or float or callable\n",
      "  position: [left, bottom, width, height] or `~matplotlib.transforms.Bbox`\n",
      "  prop_cycle: unknown\n",
      "  rasterization_zorder: float or None\n",
      "  rasterized: bool\n",
      "  sketch_params: (scale: float, length: float, randomness: float)\n",
      "  snap: bool or None\n",
      "  subplotspec: unknown\n",
      "  title: str\n",
      "  transform: `.Transform`\n",
      "  url: str\n",
      "  visible: bool\n",
      "  xbound: unknown\n",
      "  xlabel: str\n",
      "  xlim: (bottom: float, top: float)\n",
      "  xmargin: float greater than -0.5\n",
      "  xscale: {\"linear\", \"log\", \"symlog\", \"logit\", ...} or `.ScaleBase`\n",
      "  xticklabels: unknown\n",
      "  xticks: unknown\n",
      "  ybound: unknown\n",
      "  ylabel: str\n",
      "  ylim: (bottom: float, top: float)\n",
      "  ymargin: float greater than -0.5\n",
      "  yscale: {\"linear\", \"log\", \"symlog\", \"logit\", ...} or `.ScaleBase`\n",
      "  yticklabels: unknown\n",
      "  yticks: unknown\n",
      "  zorder: float\n"
     ]
    }
   ],
   "source": [
    "plt.setp(ax)"
   ]
  },
  {
   "cell_type": "markdown",
   "id": "bdc3ea35-f3a2-4942-a972-24258c610fa1",
   "metadata": {},
   "source": [
    "We want to change the axis labels, limits, the title and the axis spine color. If we didn't know the current values of these parameters we just call `plt.getp` - a friend of `setp`:"
   ]
  },
  {
   "cell_type": "code",
   "execution_count": 50,
   "id": "b3557e4d-7b61-4a7d-8245-a61a6a7264f9",
   "metadata": {},
   "outputs": [
    {
     "data": {
      "text/plain": [
       "(0.35, 3.65)"
      ]
     },
     "execution_count": 50,
     "metadata": {},
     "output_type": "execute_result"
    }
   ],
   "source": [
    "plt.getp(ax, \"xlim\")"
   ]
  },
  {
   "cell_type": "markdown",
   "id": "309b41ab-0bd8-4de7-ba2d-a5766227f504",
   "metadata": {},
   "source": [
    "Similar to `setp`, `getp` returns the defaults or current values. Calling it without any arguments on an object, returns all default values. Let's change the ones we wanted:"
   ]
  },
  {
   "cell_type": "code",
   "execution_count": 55,
   "id": "62877fc9-d2f8-48fe-8ad3-b0f1f691cb85",
   "metadata": {},
   "outputs": [
    {
     "data": {
      "text/plain": [
       "[Text(0.5, 17.200000000000003, 'Simple x range'),\n",
       " Text(17.200000000000003, 0.5, 'Simply y range'),\n",
       " Text(0.5, 1.0, 'Meaningless jumble of couple of cosines'),\n",
       " 0.0,\n",
       " 4.0,\n",
       " 0.0,\n",
       " 4.5]"
      ]
     },
     "execution_count": 55,
     "metadata": {},
     "output_type": "execute_result"
    }
   ],
   "source": [
    "plt.setp(\n",
    "    ax,\n",
    "    xlabel=\"Simple x range\",\n",
    "    ylabel=\"Simply y range\",\n",
    "    title=\"Meaningless jumble of couple of cosines\",\n",
    "    xlim=(0, 4),\n",
    "    ylim=(0, 4.5),\n",
    ")"
   ]
  },
  {
   "cell_type": "code",
   "execution_count": 54,
   "id": "bb688131-69e9-401c-b351-f6d69a4cba6b",
   "metadata": {},
   "outputs": [
    {
     "data": {
      "image/png": "[encoded data removed]",
      "text/plain": [
       "<Figure size 648x432 with 1 Axes>"
      ]
     },
     "execution_count": 54,
     "metadata": {},
     "output_type": "execute_result"
    }
   ],
   "source": [
    "fig.get_figure()"
   ]
  },
  {
   "cell_type": "markdown",
   "id": "a3aaab08-072d-4c11-afcc-331e678a8794",
   "metadata": {},
   "source": [
    "But how about the line and marker colors? We also said we would be tweaking the axis lines? Well, they are separate classes and we need to extract them from the axes. But before we do that, there is a couple of powerful concepts we need to learn about. This section only served as an introduction to `setp` and `getp` functions."
   ]
  },
  {
   "cell_type": "markdown",
   "id": "434a227b-bff8-4ee2-bb24-410e853750aa",
   "metadata": {},
   "source": [
    "# Containers and primitives"
   ]
  },
  {
   "cell_type": "markdown",
   "id": "57005495-d83e-4856-9eec-b2dd187ce187",
   "metadata": {},
   "source": [
    "Getting from the base artists to colorful plots, the components need to go through a long chain of inheritance of many MPL classes. Along this chain, there are two groups of classes which are crucial to how you use Matplotlib. These groups are called **containers** and **primitives**. \n",
    "\n",
    "We have already seen two instances of **containers** - figure and axes. Figure contains axes and axes contains pretty much everything. \n",
    "\n",
    "**Primitives** are all the graphical or geometrical objects that go into a container. You almost never use these primitives directly. They are created dynamically when you create plots. All of their names can be accessed under the `patches` module of Matplotlib:"
   ]
  },
  {
   "cell_type": "code",
   "execution_count": 60,
   "id": "c50af3db-4ad0-46cb-a2b0-465b189a1158",
   "metadata": {},
   "outputs": [
    {
     "data": {
      "text/plain": [
       "['Arc',\n",
       " 'Arrow',\n",
       " 'ArrowStyle',\n",
       " 'BoxStyle',\n",
       " 'CapStyle',\n",
       " 'Circle',\n",
       " 'CirclePolygon',\n",
       " 'ConnectionPatch',\n",
       " 'ConnectionStyle',\n",
       " 'Ellipse',\n",
       " 'FancyArrow',\n",
       " 'FancyArrowPatch',\n",
       " 'FancyBboxPatch',\n",
       " 'JoinStyle',\n",
       " 'NonIntersectingPathException',\n",
       " 'Number',\n",
       " 'Patch',\n",
       " 'Path',\n",
       " 'PathPatch',\n",
       " 'Polygon',\n",
       " 'Rectangle',\n",
       " 'RegularPolygon',\n",
       " 'Shadow',\n",
       " 'StepPatch',\n",
       " 'Wedge',\n",
       " '_Style',\n",
       " '__builtins__',\n",
       " '__cached__',\n",
       " '__doc__',\n",
       " '__file__',\n",
       " '__loader__',\n",
       " '__name__',\n",
       " '__package__',\n",
       " '__spec__',\n",
       " '_api',\n",
       " '_patch_kwdoc',\n",
       " '_point_along_a_line',\n",
       " '_register_style',\n",
       " '_simpleprint_styles',\n",
       " 'artist',\n",
       " 'bbox_artist',\n",
       " 'cbook',\n",
       " 'colors',\n",
       " 'contextlib',\n",
       " 'docstring',\n",
       " 'draw_bbox',\n",
       " 'functools',\n",
       " 'get_cos_sin',\n",
       " 'get_intersection',\n",
       " 'get_parallels',\n",
       " 'inside_circle',\n",
       " 'inspect',\n",
       " 'k',\n",
       " 'make_wedged_bezier2',\n",
       " 'math',\n",
       " 'mhatch',\n",
       " 'mlines',\n",
       " 'mpl',\n",
       " 'namedtuple',\n",
       " 'np',\n",
       " 'split_bezier_intersecting_with_closedpath',\n",
       " 'split_path_inout',\n",
       " 'textwrap',\n",
       " 'transforms']"
      ]
     },
     "execution_count": 60,
     "metadata": {},
     "output_type": "execute_result"
    }
   ],
   "source": [
    "import matplotlib.patches as patches\n",
    "\n",
    "dir(patches)"
   ]
  },
  {
   "cell_type": "markdown",
   "id": "c8eb1232-112d-4680-8942-c336f9eaea92",
   "metadata": {},
   "source": [
    "As you can see, we have got everything we need to create histograms, scatterplots, boxplots and lineplots. They all can be created using patches like circles, rectangles, polygons and lines. \n",
    "\n",
    "![](images/1.png)\n",
    "<figcaption style=\"text-align: center;\">\n",
    "    <strong>\n",
    "        Full image can be found \n",
    "        <a href='https://matplotlib.org/stable/_images/inheritance-50f63fede88c32059ff6460c4a9c89a5f3850a4a.png'>here from the docs.</a>\n",
    "    </strong>\n",
    "</figcaption>"
   ]
  },
  {
   "cell_type": "markdown",
   "id": "cbd43bb4-d87e-487e-a299-50b17126cb53",
   "metadata": {},
   "source": [
    "From the above map of Matplotlib classes, we see the little Lind2D I mentioned earlier. It is a class that draws the lines and markers when we plot scatterplots and lines using `plot` or `scatter` functions. \n",
    "\n",
    "Now, getting back to our plot - here are the steps we have made so far:"
   ]
  },
  {
   "cell_type": "code",
   "execution_count": 70,
   "id": "9c8d6670-a703-4c71-9941-da3b5143f73a",
   "metadata": {},
   "outputs": [
    {
     "data": {
      "image/png": "[encoded data removed]",
      "text/plain": [
       "<Figure size 648x432 with 1 Axes>"
      ]
     },
     "metadata": {
      "needs_background": "light"
     },
     "output_type": "display_data"
    }
   ],
   "source": [
    "fig, ax = plt.subplots()\n",
    "\n",
    "plt.setp(fig, size_inches=(9, 6))\n",
    "\n",
    "# Create the data to plot\n",
    "...\n",
    "\n",
    "ax.scatter(X, Y3)\n",
    "ax.plot(X, Y1)\n",
    "ax.plot(X, Y2)\n",
    "\n",
    "plt.setp(\n",
    "    ax,\n",
    "    xlabel=\"Simple x range\",\n",
    "    ylabel=\"Simply y range\",\n",
    "    title=\"Meaningless jumble of couple of cosines\",\n",
    "    xlim=(0, 4),\n",
    "    ylim=(0, 4.5),\n",
    ");"
   ]
  },
  {
   "cell_type": "markdown",
   "id": "d15648db-2ef9-4233-a667-91f32bf1b612",
   "metadata": {},
   "source": [
    "Now, we know that the lines and dots are actually patch artists contained within the axes. Let's actually look at all artists within `ax`:"
   ]
  },
  {
   "cell_type": "code",
   "execution_count": 87,
   "id": "da7072c7-9a16-4b1d-8cdf-731befb75c34",
   "metadata": {},
   "outputs": [
    {
     "data": {
      "text/plain": [
       "[<matplotlib.collections.PathCollection at 0x11c57c96a30>,\n",
       " <matplotlib.lines.Line2D at 0x11c5631b2e0>,\n",
       " <matplotlib.lines.Line2D at 0x11c5631bc70>,\n",
       " <matplotlib.spines.Spine at 0x11c579fb040>,\n",
       " <matplotlib.spines.Spine at 0x11c579fb1c0>,\n",
       " <matplotlib.spines.Spine at 0x11c1f062f40>,\n",
       " <matplotlib.spines.Spine at 0x11c1f15b490>,\n",
       " <matplotlib.axis.XAxis at 0x11c579fb5e0>,\n",
       " <matplotlib.axis.YAxis at 0x11c58501640>,\n",
       " Text(0.5, 1.0, 'Meaningless jumble of couple of cosines'),\n",
       " Text(0.0, 1.0, ''),\n",
       " Text(1.0, 1.0, ''),\n",
       " <matplotlib.patches.Rectangle at 0x11c59c8d9d0>]"
      ]
     },
     "execution_count": 87,
     "metadata": {},
     "output_type": "execute_result"
    }
   ],
   "source": [
    "ax.get_children()"
   ]
  },
  {
   "cell_type": "markdown",
   "id": "f061fd6e-dcdc-455f-8fbe-b4635b6e78ae",
   "metadata": {},
   "source": [
    "We see our lines. We also see 4 spines, which are also separate classes. The X and Y axis objects are also visible along with the first element, which we haven't seen before. \n",
    "\n",
    "`PathCollection` represents the groups of dots. So, let's extract it and give the dots a few customizations:"
   ]
  },
  {
   "cell_type": "code",
   "execution_count": 94,
   "id": "6d842824-73af-400d-9bc8-1c7d2d92518a",
   "metadata": {},
   "outputs": [
    {
     "data": {
      "text/plain": [
       "[None, None, None]"
      ]
     },
     "execution_count": 94,
     "metadata": {},
     "output_type": "execute_result"
    }
   ],
   "source": [
    "# Look at what params we want\n",
    "# plt.setp(ax.get_children()[0])\n",
    "\n",
    "plt.setp(ax.get_children()[0], edgecolor=\"red\", facecolor=\"red\", sizes=[40])"
   ]
  },
  {
   "cell_type": "code",
   "execution_count": 93,
   "id": "199a8c9c-9ff9-427d-a9a7-3b69e3b3885f",
   "metadata": {},
   "outputs": [
    {
     "data": {
      "image/png": "[encoded data removed]",
      "text/plain": [
       "<Figure size 648x432 with 1 Axes>"
      ]
     },
     "execution_count": 93,
     "metadata": {},
     "output_type": "execute_result"
    }
   ],
   "source": [
    "fig.get_figure()"
   ]
  },
  {
   "cell_type": "markdown",
   "id": "609d84ba-3f8b-4504-b3f8-dbbce32339aa",
   "metadata": {},
   "source": [
    "We can also tweak the spines:"
   ]
  },
  {
   "cell_type": "code",
   "execution_count": 115,
   "id": "2d923b11-7ee8-4fb5-846a-59072805784d",
   "metadata": {},
   "outputs": [],
   "source": [
    "for spine in ax.get_children()[3:7]:\n",
    "    plt.setp(spine, edgecolor=\"cyan\", lw=3)"
   ]
  },
  {
   "cell_type": "code",
   "execution_count": 116,
   "id": "937c96db-15af-4167-a25a-b52dfbc17f35",
   "metadata": {},
   "outputs": [
    {
     "data": {
      "image/png": "[encoded data removed]",
      "text/plain": [
       "<Figure size 648x432 with 1 Axes>"
      ]
     },
     "execution_count": 116,
     "metadata": {},
     "output_type": "execute_result"
    }
   ],
   "source": [
    "fig.get_figure()"
   ]
  },
  {
   "cell_type": "markdown",
   "id": "f4d73d95-f330-4754-8ec0-6af725fbc303",
   "metadata": {},
   "source": [
    "A final trick I recommend is storing all created plots into a variable so that you can work on them separately without having to access them though axes:"
   ]
  },
  {
   "cell_type": "code",
   "execution_count": 117,
   "id": "b3dec557-ece0-4ae2-8dd5-0725eaec2c3d",
   "metadata": {},
   "outputs": [
    {
     "data": {
      "image/png": "[encoded data removed]",
      "text/plain": [
       "<Figure size 432x288 with 1 Axes>"
      ]
     },
     "metadata": {
      "needs_background": "light"
     },
     "output_type": "display_data"
    }
   ],
   "source": [
    "fig, ax = plt.subplots()\n",
    "\n",
    "# Create the data to plot\n",
    "X = np.linspace(0.5, 3.5, 100)\n",
    "Y1 = 3 + np.cos(X)\n",
    "Y2 = 1 + np.cos(1 + X / 0.75) / 2\n",
    "Y3 = np.random.uniform(Y1, Y2, len(X))\n",
    "\n",
    "# Extract into separate variables\n",
    "dots = ax.scatter(X, Y3)\n",
    "line1 = ax.plot(X, Y1)\n",
    "line2 = ax.plot(X, Y2);"
   ]
  },
  {
   "cell_type": "code",
   "execution_count": 123,
   "id": "3c239f35-db70-431f-ae30-90b7f9dea26a",
   "metadata": {},
   "outputs": [
    {
     "data": {
      "text/plain": [
       "(matplotlib.collections.PathCollection, matplotlib.lines.Line2D)"
      ]
     },
     "execution_count": 123,
     "metadata": {},
     "output_type": "execute_result"
    }
   ],
   "source": [
    "type(dots), type(line1[0])"
   ]
  },
  {
   "cell_type": "markdown",
   "id": "57c9a88e-e9e7-41d9-bf68-fa3e7ae37107",
   "metadata": {},
   "source": [
    "# Putting everything together"
   ]
  },
  {
   "cell_type": "markdown",
   "id": "e4f0283c-c733-433f-a418-184bb39bfe87",
   "metadata": {},
   "source": [
    "Let's structure all the jumbled pieces of information we learned today:\n",
    "\n",
    "1. Create the plot and mark the pieces you want to improve.\n",
    "2. Extract a single component. Call `dir` on the axes or figure object, if you don't know what you are looking for. Also, the `get_*` prefixed functions are helpful in this case.\n",
    "3. After you have a component, see the default values of its parameters by calling `plt.getp`.\n",
    "4. Mark the parameters you need and call `plt.setp` on each of them to see the possible values they accept.\n",
    "5. Set your custom values using the same function. \n",
    "6. Iterate through 2-5 until you have the perfect plot you need.\n",
    "\n",
    "Once you go through this workflow a few times, you will start getting more comfortable with higher-level functions. Instead of extracting every component from the axes and primitives, you will start passing arguments directly to the function calls or when creating the axes. \n",
    "\n",
    "But `setp`, `getp` and `dir` functions are everything you need if you ever encounter an unknown Matplotlib class. \n",
    "\n",
    "Besides, learning the concepts of artists, patches and container/primitives has set you up to read the documentation with understanding. These are the terms that come up the most in the docs. "
   ]
  },
  {
   "cell_type": "markdown",
   "id": "66816b02-78dd-4941-97a0-66a45a683aae",
   "metadata": {},
   "source": [
    "# Summary"
   ]
  },
  {
   "cell_type": "markdown",
   "id": "5a6dd056-2b3a-4d4e-82f6-723ab11ae316",
   "metadata": {},
   "source": [
    "Data visualization isn't about learning a plotting library. It is the combination of creativity, understanding the audience and delivering insights in a way that is professional and informative. \n",
    "\n",
    "I expect all these 3 skills from your end. My part was only to show how you can use one of the strongest plotting libraries in the Python ecosystem to complement those skills. I have taught you a powerful iterative process that enables you to improve Matplotlib plots in a smart and structured manner. \n",
    "\n",
    "TODO add medium cta\n",
    "\n",
    "https://ibexorigin.medium.com/membership"
   ]
  },
  {
   "cell_type": "markdown",
   "id": "53b446b7-7472-4f50-a236-bb0328afbf6d",
   "metadata": {},
   "source": [
    "# You might be interested in these hits...\n",
    "https://towardsdatascience.com/10-underrated-sklearn-features-you-can-use-for-your-advantage-right-now-3a87b10a8d7f\n",
    "\n",
    "https://towardsdatascience.com/matplotlib-vs-plotly-lets-decide-once-and-for-all-ad25a5e43322\n",
    "\n",
    "https://towardsdatascience.com/7-cool-python-packages-kagglers-are-using-without-telling-you-e83298781cf4\n",
    "\n",
    "https://towardsdatascience.com/tricky-way-of-using-dimensionality-reduction-for-outlier-detection-in-python-4ee7665cdf99\n",
    "\n",
    "https://towardsdatascience.com/how-to-explain-black-box-models-with-shap-the-ultimate-guide-539c152d3275"
   ]
  }
 ],
 "metadata": {
  "kernelspec": {
   "display_name": "medium_articles",
   "language": "python",
   "name": "medium_articles"
  },
  "language_info": {
   "codemirror_mode": {
    "name": "ipython",
    "version": 3
   },
   "file_extension": ".py",
   "mimetype": "text/x-python",
   "name": "python",
   "nbconvert_exporter": "python",
   "pygments_lexer": "ipython3",
   "version": "3.8.11"
  }
 },
 "nbformat": 4,
 "nbformat_minor": 5
}
