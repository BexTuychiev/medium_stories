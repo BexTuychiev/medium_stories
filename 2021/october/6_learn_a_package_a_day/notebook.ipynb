{
 "cells": [
  {
   "cell_type": "markdown",
   "id": "6c342810-b9c9-4a29-8bbb-243dd38dc769",
   "metadata": {},
   "source": [
    "# How to Learn a New Package in a Single Day TODO\n",
    "## TODO\n",
    "![](images/unsplash.jpg)\n",
    "<figcaption style=\"text-align: center;\">\n",
    "    <strong>\n",
    "        Photo by \n",
    "        <a href='https://unsplash.com/@freestocks?utm_source=unsplash&utm_medium=referral&utm_content=creditCopyText'>freestocks</a>\n",
    "        on \n",
    "        <a href='https://unsplash.com/s/photos/gift?utm_source=unsplash&utm_medium=referral&utm_content=creditCopyText'>Unsplash.</a> All images are by the author unless specified otherwise.\n",
    "    </strong>\n",
    "</figcaption>"
   ]
  },
  {
   "cell_type": "markdown",
   "id": "455b3dd2-c150-4d81-b01e-8d1ba95a8a30",
   "metadata": {},
   "source": [
    "# Motivation"
   ]
  },
  {
   "cell_type": "markdown",
   "id": "0dd008bd-712a-4d9c-acf8-f75f167a7da3",
   "metadata": {},
   "source": [
    "# Be on Colab"
   ]
  },
  {
   "cell_type": "markdown",
   "id": "1a09c9fc-26a3-475c-9bce-e2c911e67df0",
   "metadata": {},
   "source": []
  },
  {
   "cell_type": "markdown",
   "id": "4f49952c-2c20-48fc-89a5-75e3c1084c9d",
   "metadata": {},
   "source": [
    "# Start with quickstart"
   ]
  },
  {
   "cell_type": "markdown",
   "id": "7771e112-045f-469d-a253-b09302a0eb38",
   "metadata": {},
   "source": [
    "# The N-tab Rule"
   ]
  },
  {
   "cell_type": "markdown",
   "id": "3550d4ab-32a8-47e5-a835-10805f25fe48",
   "metadata": {},
   "source": [
    "# Move on to tutorials"
   ]
  },
  {
   "cell_type": "markdown",
   "id": "db5f5e51-451f-4595-a90c-d145cc917101",
   "metadata": {},
   "source": [
    "# The API reference"
   ]
  },
  {
   "cell_type": "markdown",
   "id": "3843ab95-d250-4db7-a466-8527c2884862",
   "metadata": {},
   "source": [
    "# What if CLI?"
   ]
  },
  {
   "cell_type": "markdown",
   "id": "edf9756f-4540-41c1-9f62-1c3c9fa378c5",
   "metadata": {},
   "source": [
    "# Summary"
   ]
  }
 ],
 "metadata": {
  "kernelspec": {
   "display_name": "medium_articles",
   "language": "python",
   "name": "medium_articles"
  },
  "language_info": {
   "codemirror_mode": {
    "name": "ipython",
    "version": 3
   },
   "file_extension": ".py",
   "mimetype": "text/x-python",
   "name": "python",
   "nbconvert_exporter": "python",
   "pygments_lexer": "ipython3",
   "version": "3.8.11"
  }
 },
 "nbformat": 4,
 "nbformat_minor": 5
}
