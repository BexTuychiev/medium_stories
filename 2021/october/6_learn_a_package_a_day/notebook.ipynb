{
 "cells": [
  {
   "cell_type": "markdown",
   "id": "6c342810-b9c9-4a29-8bbb-243dd38dc769",
   "metadata": {},
   "source": [
    "# How to Learn a New Package in a Single Day TODO\n",
    "## TODO\n",
    "![](images/unsplash.jpg)\n",
    "<figcaption style=\"text-align: center;\">\n",
    "    <strong>\n",
    "        Photo by \n",
    "        <a href='https://unsplash.com/@freestocks?utm_source=unsplash&utm_medium=referral&utm_content=creditCopyText'>freestocks</a>\n",
    "        on \n",
    "        <a href='https://unsplash.com/s/photos/gift?utm_source=unsplash&utm_medium=referral&utm_content=creditCopyText'>Unsplash.</a> All images are by the author unless specified otherwise.\n",
    "    </strong>\n",
    "</figcaption>"
   ]
  },
  {
   "cell_type": "markdown",
   "id": "b66e075e-9870-4795-ab82-3053a5159481",
   "metadata": {},
   "source": [
    "# Why do this?"
   ]
  },
  {
   "cell_type": "markdown",
   "id": "86493132-455e-4c06-98c8-c157feff985b",
   "metadata": {},
   "source": [
    "Among productivity guru's, there is a term called \"flow state\". It happens when you concentrate on what you are doing so hard that you go into some type of a trance. You can't keep your fingers away from the keyboard. They start working on their accord producing you best quality code without thinking for hours at a time. \n",
    "\n",
    "You are doing what's called \"deep work\" - a period of time where you are most productive and creative and in the \"flow\". The more times you go into a flow during a week, the more high quality work you produce. The only requirement - no distractions.\n",
    "\n",
    "Even the smallest stuff such as checking your email, peeking at your notifications or the most important of all for us programmers - googling something. They are all frictions. They *kill* creativity and *disrupt* your thought process. Deep work is like sleep - once you wake up, you can't just continue where you left off. You have to get back to sleep. Once again. \n",
    "\n",
    "So, how do you keep distractions, repeated google searches to the minimum? (You can't eliminate them, unfortunately). \n",
    "\n",
    "It is simple - you must learn the tools, libraries and frameworks you need like the palm of your hand. \n",
    "\n",
    "Today, I rarely go to Sklearn or pandas documentation. I know the structure and API design of these libraries inside out as a user. Even if I forget a class name, or a parameter, I know the relevant shortcuts of Jupyterlab and PyCharm that show me what I need in a second.\n",
    "\n",
    "How did I become *this good* at these libraries (and many others libraries, for that matter)? I invested quality hours into each using a proven learning framework I designed. Using this framework, you can learn any small-to-medium sized libraries in a few hours or a day or two if the library is large. \n",
    "\n",
    "Throughout the article, I will outline each step of the framework in detail. By the end, you will have a robust formula for learning any new package deeply so that you rarely have to go back to the documentation. "
   ]
  },
  {
   "cell_type": "markdown",
   "id": "0dd008bd-712a-4d9c-acf8-f75f167a7da3",
   "metadata": {
    "tags": []
   },
   "source": [
    "# Be on the cloud"
   ]
  },
  {
   "cell_type": "markdown",
   "id": "1a09c9fc-26a3-475c-9bce-e2c911e67df0",
   "metadata": {},
   "source": [
    "Different packages have different requirements in terms of dependencies or computation expenses. As you would repeat this learning process for many packages (I hope), saturating your local environment with new Conda envs is not an option. \n",
    "\n",
    "Besides, most data science packages like SHAP and UMAP want big CPUs and GPUs, so cloud environments should be your first choice. Best options are [Google Colab](https://colab.research.google.com/?utm_source=scs-index) or [Kaggle Kernels](https://www.kaggle.com/code). Both offer generous benefits in terms of coding environment and hardware. \n",
    "\n",
    "Besides, they all run on Linux under the hood and some libraries you will encounter are way easier to install if you have a Linux machine. People who tried to install Tensorflow GPU on Windows know what I am talking about😉."
   ]
  },
  {
   "cell_type": "markdown",
   "id": "4f49952c-2c20-48fc-89a5-75e3c1084c9d",
   "metadata": {},
   "source": [
    "# Start with quickstart"
   ]
  },
  {
   "cell_type": "markdown",
   "id": "b133a081-987c-4137-9407-24204e9dbc5d",
   "metadata": {},
   "source": [
    "The first page you visit from the documentation of your new package is the Quickstart. If there is none, there will probably an \n",
    "installation page or just the home page will do. You just want to form the initial impressions of whether learning the package is worth it and if so, learn how to install it.\n",
    "\n",
    "Unless the package requires third-party software, simple `pip` or `conda` installs will be all you need. From here on, I will be giving examples using the documentation of the SHAP library - a revolutionary framework to [explain black-box models and deep neural nets](https://towardsdatascience.com/how-to-explain-black-box-models-with-shap-the-ultimate-guide-539c152d3275?source=your_stories_page-------------------------------------).\n",
    "\n",
    "![](images/1.png)"
   ]
  },
  {
   "cell_type": "markdown",
   "id": "7771e112-045f-469d-a253-b09302a0eb38",
   "metadata": {},
   "source": [
    "# The N-tab Rule"
   ]
  },
  {
   "cell_type": "markdown",
   "id": "1ebb88f6-66a1-43a1-b27c-34a330bd76da",
   "metadata": {},
   "source": [
    "After the installation, you leave the documentation and search Google for \"*your_package_name* tutorial\". \n",
    "\n",
    "You open a few links to articles in separate tabs and start reading them attentively. You don't want YouTube videos where half the video is spent for watching the guy type the code and waste your time with filler sentences. \n",
    "\n",
    "By reading a few articles on your package, you accumulate some insight into the context of the problem it solves and how it solves it. You will also get some exposure to its basic API. Besides, a good tutorial explains most of the related terms and concepts to your package, so you won't get lost when they are mentioned in the documentation out of the blue. \n",
    "\n",
    "Finally, you choose one or two articles that explains the package the best and leave their tabs open in case you need them during the next steps. "
   ]
  },
  {
   "cell_type": "markdown",
   "id": "3550d4ab-32a8-47e5-a835-10805f25fe48",
   "metadata": {},
   "source": [
    "# Move on to tutorials section or the user guide"
   ]
  },
  {
   "cell_type": "markdown",
   "id": "ec3b5177-c40e-4f0f-9ab6-6a5fd1af833c",
   "metadata": {},
   "source": [
    "Now, it is time to open the tutorials page of the documentation. Your package documentation may not have a separate section for tutorials. In that case, you search for \"Examples\" page or just put in the word \"examples\" in the search bar of the docs. Searching for \"User guide\" works as well.\n",
    "\n",
    "If you are lucky and your package is popular, there is a good chance it will have a comprehensive tutorials page. For example, Matplotlib divides its tutorials into three levels of difficulty. All its code examples are written by package creators and run super fast, allowing you to quickly experiment with the code:\n",
    "\n",
    "![](images/2.png)"
   ]
  },
  {
   "cell_type": "markdown",
   "id": "3cd58481-0760-48da-89f0-9b03dd01f7fc",
   "metadata": {},
   "source": [
    "The core part of your learning happens in this stage. You should open each tutorial one by one, read the explanations carefully and copy each code chunk into your environment.\n",
    "\n",
    "I recommend spending at least 2-5 minutes on each chunk. First run it line by line, commenting and uncommenting them. Then, change the values of different parameters and see what effect they have on the output. For possible ideas, I use \"Shift + Tab\" on Jupyter Lab, which shows the class or function docstring in a pop-up.\n",
    "\n",
    "Even though the first few tutorials will take a couple of hours, you will spend less time as you move to next pages because the functions and classes will start to repeat."
   ]
  },
  {
   "cell_type": "markdown",
   "id": "db5f5e51-451f-4595-a90c-d145cc917101",
   "metadata": {},
   "source": [
    "# The API reference"
   ]
  },
  {
   "cell_type": "markdown",
   "id": "12a4212d-6fd0-45dd-81b2-8de42f54a3d1",
   "metadata": {},
   "source": [
    "Now, we put the finishing touches. The API reference page is usually at the end of the documentation and it shows a list of every single module, class and function inside the package. \n",
    "\n",
    "There will be hundreds of references, so you only need to explore the functionalities that you need. You already know what you want because you have spent quite a while learning about the package, made note of its advantages and weaknesses and have a good idea of how you will use it. \n",
    "\n",
    "![](images/3.png)"
   ]
  },
  {
   "cell_type": "markdown",
   "id": "4e777bcd-eee3-41ae-a840-545790ffba6b",
   "metadata": {},
   "source": [
    "After finding functions you may use in the future, open their documentations and try out the examples a few times. I also suggest reading other function and class names at least once. Quite often, you will face edge-cases which might be solved elegantly by one of the functions that are buried in the corners of the API reference. "
   ]
  },
  {
   "cell_type": "markdown",
   "id": "3843ab95-d250-4db7-a466-8527c2884862",
   "metadata": {},
   "source": [
    "# What about the CLI?"
   ]
  },
  {
   "cell_type": "markdown",
   "id": "f7a37f51-5e30-4001-a2c2-da701fb0c64b",
   "metadata": {},
   "source": [
    "What if you package has a CLI tool as well? \n",
    "\n",
    "Usually, CLI is for people who are experienced on the command-line and already know the core package API. That's why you need to learn it in the last stage. \n",
    "\n",
    "If your package has a CLI tool, it will have a separate CLI reference page as well. You should open it on a separate tab and read it just like you did in the API reference section. \n",
    "\n",
    "I also use the `--help` or `-h` flag extensively. For example, using `-h` after `conda` shows all subcommands of the Anaconda CLI:\n",
    "\n",
    "![](images/5.png)"
   ]
  },
  {
   "cell_type": "markdown",
   "id": "ce8f7c1e-2b33-4a4b-b26c-12943ef9e102",
   "metadata": {},
   "source": [
    "I am mostly interested in the `create`, `install` and `remove` subcommands because that's the only ones I need to manage environments. After combining each one with `conda` keyword, I add the `-h` flag again and  get another set of subcommands. I try out the ones I need and continue adding `-h` flags until I am comfortable with the whole process.\n",
    "\n",
    "That's how you will become a command-line ninja!"
   ]
  },
  {
   "cell_type": "markdown",
   "id": "edf9756f-4540-41c1-9f62-1c3c9fa378c5",
   "metadata": {
    "tags": []
   },
   "source": [
    "# Summary"
   ]
  },
  {
   "cell_type": "markdown",
   "id": "231d9756-8a62-4a07-ad89-9c0aa4af8d0b",
   "metadata": {},
   "source": [
    "Data science stack is overwhelming. There are so many things you need to learn and practice. To make the most out of your time, you need to learn smart and make your every learning session as productive as possible. The main idea is to learn every single package, library and framework comprehensively so that you won't ever have to waste your precious time relearning.\n",
    "\n",
    "TODO ADD CTA"
   ]
  },
  {
   "cell_type": "markdown",
   "id": "751533a6-99bc-4034-bec8-9f03035e1a5d",
   "metadata": {},
   "source": [
    "https://ibexorigin.medium.com/membership\n"
   ]
  },
  {
   "cell_type": "markdown",
   "id": "d884a117-b1b8-48a1-b702-b53969a44eac",
   "metadata": {},
   "source": [
    "# My readers are loving these. Why don't you check them out?\n",
    "\n",
    "https://towardsdatascience.com/5-step-workflow-into-the-heart-of-matplotlib-and-create-amazing-plots-7f9d2164ff2b?source=your_stories_page-------------------------------------\n",
    "\n",
    "https://towardsdatascience.com/how-to-explain-black-box-models-with-shap-the-ultimate-guide-539c152d3275\n",
    "\n",
    "https://towardsdatascience.com/10-underrated-sklearn-features-you-can-use-for-your-advantage-right-now-3a87b10a8d7f?source=your_stories_page-------------------------------------\n",
    "\n",
    "https://towardsdatascience.com/tricky-way-of-using-dimensionality-reduction-for-outlier-detection-in-python-4ee7665cdf99?source=your_stories_page-------------------------------------\n",
    "\n",
    "https://towardsdatascience.com/beginners-guide-to-umap-for-reducing-dimensionality-and-visualizing-100-dimensional-datasets-ff5590fb17be?source=your_stories_page-------------------------------------"
   ]
  }
 ],
 "metadata": {
  "kernelspec": {
   "display_name": "medium_articles",
   "language": "python",
   "name": "medium_articles"
  },
  "language_info": {
   "codemirror_mode": {
    "name": "ipython",
    "version": 3
   },
   "file_extension": ".py",
   "mimetype": "text/x-python",
   "name": "python",
   "nbconvert_exporter": "python",
   "pygments_lexer": "ipython3",
   "version": "3.8.11"
  }
 },
 "nbformat": 4,
 "nbformat_minor": 5
}
