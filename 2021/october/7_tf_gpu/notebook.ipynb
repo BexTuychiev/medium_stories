{
 "cells": [
  {
   "cell_type": "markdown",
   "id": "4c14de53-e621-41fa-9d10-b1b11a3662fa",
   "metadata": {},
   "source": [
    "# How to Install TensorFlow GPU on Windows\n",
    "## Subtitle TODO\n",
    "![](images/unsplash.jpg)\n",
    "<figcaption style=\"text-align: center;\">\n",
    "    <strong>\n",
    "        Photo by \n",
    "        <a href='https://unsplash.com/@lucaskphoto?utm_source=unsplash&utm_medium=referral&utm_content=creditCopyText'>Lucas Kepner</a>\n",
    "        on \n",
    "        <a href='https://unsplash.com/s/photos/gpu?utm_source=unsplash&utm_medium=referral&utm_content=creditCopyText'></a> All images are by the author unless specified otherwise.\n",
    "    </strong>\n",
    "</figcaption>"
   ]
  },
  {
   "cell_type": "markdown",
   "id": "797ab79c-fb4a-4bf1-b94f-89c708d3e815",
   "metadata": {},
   "source": [
    "# Introduction"
   ]
  },
  {
   "cell_type": "markdown",
   "id": "56ee2708-3151-4f91-9aa4-eddfe7129626",
   "metadata": {},
   "source": [
    "# Find out the TF version and its drivers"
   ]
  },
  {
   "cell_type": "markdown",
   "id": "79c9ceac-d478-48bc-8fd9-29f58f2426b8",
   "metadata": {},
   "source": [
    "The first, very important step is to go to this [link](https://www.tensorflow.org/install/source?authuser=1#gpuhttps://www.tensorflow.org/install/source?authuser=1#gpu) and decide which TF version you want to install. Based on this, the CUDA driver versions and other software versions change.\n",
    "\n",
    "As of writing this guide, TF 2.6.0 is the latest and as you can see, it requires CUDA version 11.2:\n",
    "\n",
    "![](images/1.png)"
   ]
  },
  {
   "cell_type": "markdown",
   "id": "5e43d1f0-0320-4ffd-8642-ab636282bbd3",
   "metadata": {},
   "source": [
    "We are only interested in TF version, cuDNN and CUDA versions. We keep this tab open and move on to the next step."
   ]
  },
  {
   "cell_type": "markdown",
   "id": "47ea4795-4395-4d10-a848-a209e52203ef",
   "metadata": {},
   "source": [
    "# Install Microsoft Visual Studio"
   ]
  },
  {
   "cell_type": "markdown",
   "id": "e6d54519-f405-4dbb-b946-7df6aa92e7c7",
   "metadata": {},
   "source": [
    "Next, we install Microsoft Visual Studio. Note that this one is different than Visual Studio *Code*, which is a ligthweight IDE so many people love. \n",
    "\n",
    "Go to [this link](https://visualstudio.microsoft.com/vs/community/) and press download:\n",
    "\n",
    "![](images/2.png)"
   ]
  },
  {
   "cell_type": "markdown",
   "id": "0b7e7ee6-28d0-43f5-8b86-c37e0e813916",
   "metadata": {},
   "source": [
    "Run the downloaded executable and it will take a minute to download the requirements. Then, it will ask you to choose what workloads to install. We don't want any of them, so just click install without workloads and click continue. After the installation is done, it will ask you to sign in but you don't have to.\n",
    "\n"
   ]
  },
  {
   "cell_type": "markdown",
   "id": "35264732-42fc-4ece-9376-897b06175882",
   "metadata": {},
   "source": [
    "# Install the NVIDIA CUDA toolkit"
   ]
  },
  {
   "cell_type": "markdown",
   "id": "5cd82c8e-5a9b-481f-84dd-e1fa7750670f",
   "metadata": {},
   "source": [
    "NVIDIA CUDA toolkit is the drivers for your NVIDIA GPU. Depending on your Windows, they may or may not be already installed. If installed, we should check their version and see if they are compatible with the TensorFlow version we want to install.\n",
    "\n",
    "Go to your Settings on Windows and choose \"Apps & Features\". Then, search for NVIDIA:\n",
    "\n",
    "![](images/3.png)"
   ]
  },
  {
   "cell_type": "markdown",
   "id": "e2f5d247-0187-4bf1-8e9b-3995c07deff4",
   "metadata": {},
   "source": [
    "We want to install TF 2.6.0 which requires NVIDIA CUDA Toolkit version 11.2 (see the first link to double-check). If your drivers are any other version, delete all the ones that have \"NVIDIA CUDA\" in their title (leave the others). Then, go to `Local Disk (C:) > Program Files > NVIDIA GPU Computing Toolkit > CUDA`. There, you will see a folder with the CUDA version as a name. Delete that folder.\n",
    "\n",
    "If you search for NVIDIA and no CUDA toolkit is found, go to [this page](https://www.youtube.com/redirect?event=video_description&redir_token=QUFFLUhqa014Rk11SHFnMGhiOERiVFVORXRrVkppRGhqZ3xBQ3Jtc0tuV2hsdTFfSHItNy1YM2hlbU1pQW9QSkpmTU1neUt3Rm5VWWE4VHYtMEZoRkYzN3dQTTFBeDU2MDZtQjRtY29BSHVpX2RsWmJ1VWpKenYxb1VWdHNkcklGbG5mbUdIZHJhQ2M5RzFwVGZCRnZkd2R2Zw&q=https%3A%2F%2Fdeveloper.nvidia.com%2Fcuda-toolkit-archive). Here is what it looks like:\n",
    "\n",
    "![](images/4.png)"
   ]
  },
  {
   "cell_type": "markdown",
   "id": "e30d9d17-4bb6-41ab-9622-a059c56ff924",
   "metadata": {},
   "source": [
    "Here, we see three 11.2 versions, which are what we need (we got the version from the [first TF version link](https://www.tensorflow.org/install/source?authuser=1#gpu) I provided). Click on any of them and choose Windows 10, and download the network installer:\n",
    "\n",
    "![](images/5.png)"
   ]
  },
  {
   "cell_type": "markdown",
   "id": "6b5dd28c-a2cf-44f5-a4ca-7595f78726ae",
   "metadata": {},
   "source": [
    "Follow the on-screen prompts and install the drivers with default parameters. Then, restart your computer and come back."
   ]
  },
  {
   "cell_type": "markdown",
   "id": "e3856571-0b0c-41d6-8a96-6ea4f4e3435b",
   "metadata": {},
   "source": [
    "# Install cuDNN"
   ]
  },
  {
   "cell_type": "markdown",
   "id": "e3cc0138-ba2f-4c0b-bd1b-4e9c09f368de",
   "metadata": {},
   "source": [
    "For TensorFlow 2.6.0, cuDNN 8.1 is required. Go to [this page](https://developer.nvidia.com/cudnn) and press download:\n",
    "\n",
    "![](images/6.png)"
   ]
  },
  {
   "cell_type": "markdown",
   "id": "dd959225-6112-41e3-8d79-03edb1a80238",
   "metadata": {},
   "source": [
    "It will ask you for a NVIDIA Developer account:\n",
    "\n",
    "![](images/7.png)"
   ]
  },
  {
   "cell_type": "markdown",
   "id": "cbf4d175-c11d-43d9-88de-5bb67c39736c",
   "metadata": {},
   "source": [
    "If you don't have an account already, click \"Join now\" and enter your email. Fill up the form - the standard stuff. Then, go back to the [cuDNN download page](https://developer.nvidia.com/rdp/cudnn-download):\n",
    "\n",
    "![](images/8.png)"
   ]
  },
  {
   "cell_type": "markdown",
   "id": "1f91f84c-1513-4010-8430-bf15528e1d31",
   "metadata": {},
   "source": [
    "At the top, it will ask you to fill out a survey. Fill it out and you will be presented with the above page. We click on the first one since it is the one compatible with CUDA Toolkit v. 11.4. There, you will see a Windows version, which you should download.\n",
    "\n",
    "![](images/9.png)"
   ]
  },
  {
   "cell_type": "markdown",
   "id": "e7d0277c-3c34-4433-a480-313f56fe6515",
   "metadata": {},
   "source": [
    "Extract the downloaded ZIP folder:\n",
    "\n",
    "![](images/10.png)"
   ]
  },
  {
   "cell_type": "markdown",
   "id": "823f6227-2467-46c4-bc32-fcbdf30eb924",
   "metadata": {},
   "source": [
    "Open the `cuda` folder and **copy** the three folders at the top (`bin, include, lib`). Then, go to `C:\\Program Files\\NVIDIA GPU Computing Toolkit\\CUDA\\v11.2` and paste them there. \n",
    "\n",
    "Explorer tells you that these folders already exist, which you should press *Replace the files in the destination*. That's it, we are done with the software requirements!"
   ]
  }
 ],
 "metadata": {
  "kernelspec": {
   "display_name": "medium_articles",
   "language": "python",
   "name": "medium_articles"
  },
  "language_info": {
   "codemirror_mode": {
    "name": "ipython",
    "version": 3
   },
   "file_extension": ".py",
   "mimetype": "text/x-python",
   "name": "python",
   "nbconvert_exporter": "python",
   "pygments_lexer": "ipython3",
   "version": "3.8.11"
  }
 },
 "nbformat": 4,
 "nbformat_minor": 5
}
