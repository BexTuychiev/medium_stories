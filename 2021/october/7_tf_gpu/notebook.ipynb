{
 "cells": [
  {
   "cell_type": "markdown",
   "id": "4c14de53-e621-41fa-9d10-b1b11a3662fa",
   "metadata": {},
   "source": [
    "# How to Install TensorFlow GPU on Windows\n",
    "## Subtitle TODO\n",
    "![](images/unsplash.jpg)\n",
    "<figcaption style=\"text-align: center;\">\n",
    "    <strong>\n",
    "        Photo by \n",
    "        <a href='https://unsplash.com/@lucaskphoto?utm_source=unsplash&utm_medium=referral&utm_content=creditCopyText'>Lucas Kepner</a>\n",
    "        on \n",
    "        <a href='https://unsplash.com/s/photos/gpu?utm_source=unsplash&utm_medium=referral&utm_content=creditCopyText'></a> All images are by the author unless specified otherwise.\n",
    "    </strong>\n",
    "</figcaption>"
   ]
  },
  {
   "cell_type": "markdown",
   "id": "797ab79c-fb4a-4bf1-b94f-89c708d3e815",
   "metadata": {},
   "source": [
    "# Introduction"
   ]
  },
  {
   "cell_type": "markdown",
   "id": "56ee2708-3151-4f91-9aa4-eddfe7129626",
   "metadata": {},
   "source": []
  }
 ],
 "metadata": {
  "kernelspec": {
   "display_name": "medium_articles",
   "language": "python",
   "name": "medium_articles"
  },
  "language_info": {
   "codemirror_mode": {
    "name": "ipython",
    "version": 3
   },
   "file_extension": ".py",
   "mimetype": "text/x-python",
   "name": "python",
   "nbconvert_exporter": "python",
   "pygments_lexer": "ipython3",
   "version": "3.8.11"
  }
 },
 "nbformat": 4,
 "nbformat_minor": 5
}
