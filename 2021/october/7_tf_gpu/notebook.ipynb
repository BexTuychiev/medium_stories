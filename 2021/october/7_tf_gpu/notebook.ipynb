{
 "cells": [
  {
   "cell_type": "markdown",
   "id": "4c14de53-e621-41fa-9d10-b1b11a3662fa",
   "metadata": {},
   "source": [
    "# How to Install TensorFlow GPU on Windows\n",
    "## Subtitle TODO\n",
    "![](images/unsplash.jpg)\n",
    "<figcaption style=\"text-align: center;\">\n",
    "    <strong>\n",
    "        Photo by \n",
    "        <a href='https://unsplash.com/@lucaskphoto?utm_source=unsplash&utm_medium=referral&utm_content=creditCopyText'>Lucas Kepner</a>\n",
    "        on \n",
    "        <a href='https://unsplash.com/s/photos/gpu?utm_source=unsplash&utm_medium=referral&utm_content=creditCopyText'></a> All images are by the author unless specified otherwise.\n",
    "    </strong>\n",
    "</figcaption>"
   ]
  },
  {
   "cell_type": "markdown",
   "id": "797ab79c-fb4a-4bf1-b94f-89c708d3e815",
   "metadata": {},
   "source": [
    "# Introduction"
   ]
  },
  {
   "cell_type": "markdown",
   "id": "56ee2708-3151-4f91-9aa4-eddfe7129626",
   "metadata": {},
   "source": [
    "# Find out the TF version and its drivers"
   ]
  },
  {
   "cell_type": "markdown",
   "id": "79c9ceac-d478-48bc-8fd9-29f58f2426b8",
   "metadata": {},
   "source": [
    "The first, very important step is to go to this [link](https://www.tensorflow.org/install/source?authuser=1#gpuhttps://www.tensorflow.org/install/source?authuser=1#gpu) and decide which TF version you want to install. Based on this, the CUDA driver versions and other software versions change.\n",
    "\n",
    "As of writing this guide, TF 2.6.0 is the latest and as you can see, it requires CUDA version 11.2:\n",
    "\n",
    "![](images/1.png)"
   ]
  },
  {
   "cell_type": "markdown",
   "id": "5e43d1f0-0320-4ffd-8642-ab636282bbd3",
   "metadata": {},
   "source": [
    "We are only interested in TF version, cuDNN and CUDA versions. We keep this tab open and move on to the next step."
   ]
  },
  {
   "cell_type": "markdown",
   "id": "47ea4795-4395-4d10-a848-a209e52203ef",
   "metadata": {},
   "source": [
    "# Install Microsoft Visual Studio"
   ]
  },
  {
   "cell_type": "markdown",
   "id": "e6d54519-f405-4dbb-b946-7df6aa92e7c7",
   "metadata": {},
   "source": [
    "Next, we install Microsoft Visual Studio. Note that this one is different than Visual Studio *Code*, which is a ligthweight IDE so many people love. \n",
    "\n",
    "Go to [this link](https://visualstudio.microsoft.com/vs/community/) and press download:\n",
    "\n",
    "![](images/2.png)"
   ]
  },
  {
   "cell_type": "markdown",
   "id": "0b7e7ee6-28d0-43f5-8b86-c37e0e813916",
   "metadata": {},
   "source": [
    "Run the downloaded executable and it will take a minute to download the requirements. Then, it will ask you to choose what workloads to install. We don't want any of them, so just click install without workloads and click continue. After the installation is done, it will ask you to sign in but you don't have to.\n",
    "\n"
   ]
  },
  {
   "cell_type": "markdown",
   "id": "35264732-42fc-4ece-9376-897b06175882",
   "metadata": {},
   "source": [
    "# Install"
   ]
  }
 ],
 "metadata": {
  "kernelspec": {
   "display_name": "medium_articles",
   "language": "python",
   "name": "medium_articles"
  },
  "language_info": {
   "codemirror_mode": {
    "name": "ipython",
    "version": 3
   },
   "file_extension": ".py",
   "mimetype": "text/x-python",
   "name": "python",
   "nbconvert_exporter": "python",
   "pygments_lexer": "ipython3",
   "version": "3.8.11"
  }
 },
 "nbformat": 4,
 "nbformat_minor": 5
}
