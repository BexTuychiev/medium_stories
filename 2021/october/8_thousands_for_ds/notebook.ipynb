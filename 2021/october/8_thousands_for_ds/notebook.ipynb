{
 "cells": [
  {
   "cell_type": "markdown",
   "id": "d7737a8a-7e6b-472c-9fd8-b1527f8a13dd",
   "metadata": {},
   "source": [
    "# How I Get Paid Thousands To Learn Data Science With No Degree and Experience\n",
    "## I play a never-losing game\n",
    "![](images/2.png)"
   ]
  }
 ],
 "metadata": {
  "kernelspec": {
   "display_name": "medium_articles",
   "language": "python",
   "name": "medium_articles"
  },
  "language_info": {
   "codemirror_mode": {
    "name": "ipython",
    "version": 3
   },
   "file_extension": ".py",
   "mimetype": "text/x-python",
   "name": "python",
   "nbconvert_exporter": "python",
   "pygments_lexer": "ipython3",
   "version": "3.8.11"
  }
 },
 "nbformat": 4,
 "nbformat_minor": 5
}
