{
 "cells": [
  {
   "cell_type": "markdown",
   "id": "fe5ecff5-a95f-4a8f-afab-58da6bfd3883",
   "metadata": {},
   "source": [
    "# N Advanced Matplotlib Functions You Must Know To Create Killer Visuals\n",
    "## Subtitle TODO\n",
    "\n",
    "![](images/unsplash.jpg)\n",
    "<figcaption style=\"text-align: center;\">\n",
    "    <strong>\n",
    "Photo by <a href=\"https://unsplash.com/@joycoast?utm_source=unsplash&utm_medium=referral&utm_content=creditCopyText\">Joycoast Wood Watches & Sunglasses</a> on <a href=\"https://unsplash.com/s/photos/men%20in%20suit?utm_source=unsplash&utm_medium=referral&utm_content=creditCopyText\">Unsplash</a>\n",
    "      </strong>\n",
    "</figcaption>"
   ]
  },
  {
   "cell_type": "markdown",
   "id": "8aabe333-c95e-4ded-befa-54ed1b75f504",
   "metadata": {},
   "source": [
    "# Setup"
   ]
  },
  {
   "cell_type": "code",
   "execution_count": 1,
   "id": "e2083cfd-653d-4336-acfd-c07b9d42eef6",
   "metadata": {},
   "outputs": [
    {
     "data": {
      "text/html": [
       "<style type='text/css'>\n",
       ".datatable table.frame { margin-bottom: 0; }\n",
       ".datatable table.frame thead { border-bottom: none; }\n",
       ".datatable table.frame tr.coltypes td {  color: #FFFFFF;  line-height: 6px;  padding: 0 0.5em;}\n",
       ".datatable .bool    { background: #DDDD99; }\n",
       ".datatable .object  { background: #565656; }\n",
       ".datatable .int     { background: #5D9E5D; }\n",
       ".datatable .float   { background: #4040CC; }\n",
       ".datatable .str     { background: #CC4040; }\n",
       ".datatable .time    { background: #40CC40; }\n",
       ".datatable .row_index {  background: var(--jp-border-color3);  border-right: 1px solid var(--jp-border-color0);  color: var(--jp-ui-font-color3);  font-size: 9px;}\n",
       ".datatable .frame tbody td { text-align: left; }\n",
       ".datatable .frame tr.coltypes .row_index {  background: var(--jp-border-color0);}\n",
       ".datatable th:nth-child(2) { padding-left: 12px; }\n",
       ".datatable .hellipsis {  color: var(--jp-cell-editor-border-color);}\n",
       ".datatable .vellipsis {  background: var(--jp-layout-color0);  color: var(--jp-cell-editor-border-color);}\n",
       ".datatable .na {  color: var(--jp-cell-editor-border-color);  font-size: 80%;}\n",
       ".datatable .sp {  opacity: 0.25;}\n",
       ".datatable .footer { font-size: 9px; }\n",
       ".datatable .frame_dimensions {  background: var(--jp-border-color3);  border-top: 1px solid var(--jp-border-color0);  color: var(--jp-ui-font-color3);  display: inline-block;  opacity: 0.6;  padding: 1px 10px 1px 5px;}\n",
       "</style>\n"
      ],
      "text/plain": [
       "<IPython.core.display.HTML object>"
      ]
     },
     "metadata": {},
     "output_type": "display_data"
    }
   ],
   "source": [
    "import logging\n",
    "import time\n",
    "import warnings\n",
    "\n",
    "import catboost as cb\n",
    "import datatable as dt\n",
    "import joblib\n",
    "import lightgbm as lgbm\n",
    "import matplotlib.pyplot as plt\n",
    "import numpy as np\n",
    "import optuna\n",
    "import pandas as pd\n",
    "import seaborn as sns\n",
    "import shap\n",
    "import umap\n",
    "import umap.plot\n",
    "import xgboost as xgb\n",
    "from optuna.samplers import TPESampler\n",
    "from sklearn.compose import *\n",
    "from sklearn.impute import *\n",
    "from sklearn.metrics import *\n",
    "from sklearn.model_selection import *\n",
    "from sklearn.pipeline import Pipeline, make_pipeline\n",
    "from sklearn.preprocessing import *\n",
    "\n",
    "logging.basicConfig(\n",
    "    format=\"%(asctime)s - %(message)s\", datefmt=\"%d-%b-%y %H:%M:%S\", level=logging.INFO\n",
    ")\n",
    "optuna.logging.set_verbosity(optuna.logging.WARNING)\n",
    "warnings.filterwarnings(\"ignore\")\n",
    "pd.set_option(\"float_format\", \"{:.5f}\".format)"
   ]
  },
  {
   "cell_type": "markdown",
   "id": "d1e5cefa-a6dc-4c6a-a226-006e03b16c2e",
   "metadata": {},
   "source": [
    "# Intro"
   ]
  },
  {
   "cell_type": "markdown",
   "id": "cfadd7aa-b253-4b22-b488-68c2ead185b2",
   "metadata": {},
   "source": [
    "# rcParams"
   ]
  },
  {
   "cell_type": "markdown",
   "id": "93f5d730-5a4d-43cd-8737-20083a0179e4",
   "metadata": {},
   "source": [
    "```python\n",
    "rcParams['figure.figsize'] = 8, 6\n",
    "rcParams['legend.fontsize'] = \"large\"\n",
    "rcParams['xtick.major.size'] = 4\n",
    "rcParams['xtick.minor.size'] = 1\n",
    "```"
   ]
  },
  {
   "cell_type": "code",
   "execution_count": 27,
   "id": "1278bfb2-cf25-4a52-96a3-2a56a9dda519",
   "metadata": {},
   "outputs": [],
   "source": [
    "from matplotlib import rcParamsDefault"
   ]
  },
  {
   "cell_type": "markdown",
   "id": "a0a648b6-db8c-4b71-888b-ad4d7cf59712",
   "metadata": {},
   "source": [
    "# Get_* functions"
   ]
  },
  {
   "cell_type": "code",
   "execution_count": 29,
   "id": "6112ad4b-d5c7-4028-9593-9492fd7a9894",
   "metadata": {},
   "outputs": [
    {
     "data": {
      "text/plain": [
       "['get_adjustable',\n",
       " 'get_agg_filter',\n",
       " 'get_alpha',\n",
       " 'get_anchor',\n",
       " 'get_animated',\n",
       " 'get_aspect',\n",
       " 'get_autoscale_on',\n",
       " 'get_autoscalex_on',\n",
       " 'get_autoscaley_on',\n",
       " 'get_axes_locator',\n",
       " 'get_axisbelow',\n",
       " 'get_box_aspect',\n",
       " 'get_children',\n",
       " 'get_clip_box',\n",
       " 'get_clip_on',\n",
       " 'get_clip_path',\n",
       " 'get_contains',\n",
       " 'get_cursor_data',\n",
       " 'get_data_ratio',\n",
       " 'get_default_bbox_extra_artists',\n",
       " 'get_facecolor',\n",
       " 'get_fc',\n",
       " 'get_figure',\n",
       " 'get_frame_on',\n",
       " 'get_geometry',\n",
       " 'get_gid',\n",
       " 'get_gridspec',\n",
       " 'get_images',\n",
       " 'get_in_layout',\n",
       " 'get_label',\n",
       " 'get_legend',\n",
       " 'get_legend_handles_labels',\n",
       " 'get_lines',\n",
       " 'get_navigate',\n",
       " 'get_navigate_mode',\n",
       " 'get_path_effects',\n",
       " 'get_picker',\n",
       " 'get_position',\n",
       " 'get_rasterization_zorder',\n",
       " 'get_rasterized',\n",
       " 'get_renderer_cache',\n",
       " 'get_shared_x_axes',\n",
       " 'get_shared_y_axes',\n",
       " 'get_sketch_params',\n",
       " 'get_snap',\n",
       " 'get_subplotspec',\n",
       " 'get_tightbbox',\n",
       " 'get_title',\n",
       " 'get_transform',\n",
       " 'get_transformed_clip_path_and_affine',\n",
       " 'get_url',\n",
       " 'get_visible',\n",
       " 'get_window_extent',\n",
       " 'get_xaxis',\n",
       " 'get_xaxis_text1_transform',\n",
       " 'get_xaxis_text2_transform',\n",
       " 'get_xaxis_transform',\n",
       " 'get_xbound',\n",
       " 'get_xgridlines',\n",
       " 'get_xlabel',\n",
       " 'get_xlim',\n",
       " 'get_xmajorticklabels',\n",
       " 'get_xminorticklabels',\n",
       " 'get_xscale',\n",
       " 'get_xticklabels',\n",
       " 'get_xticklines',\n",
       " 'get_xticks',\n",
       " 'get_yaxis',\n",
       " 'get_yaxis_text1_transform',\n",
       " 'get_yaxis_text2_transform',\n",
       " 'get_yaxis_transform',\n",
       " 'get_ybound',\n",
       " 'get_ygridlines',\n",
       " 'get_ylabel',\n",
       " 'get_ylim',\n",
       " 'get_ymajorticklabels',\n",
       " 'get_yminorticklabels',\n",
       " 'get_yscale',\n",
       " 'get_yticklabels',\n",
       " 'get_yticklines',\n",
       " 'get_yticks',\n",
       " 'get_zorder']"
      ]
     },
     "execution_count": 29,
     "metadata": {},
     "output_type": "execute_result"
    },
    {
     "data": {
      "image/png": "[encoded data removed]",
      "text/plain": [
       "<Figure size 432x288 with 1 Axes>"
      ]
     },
     "metadata": {
      "needs_background": "light"
     },
     "output_type": "display_data"
    }
   ],
   "source": [
    "fig, ax = plt.subplots()\n",
    "\n",
    "[func for func in dir(ax) if func.startswith(\"get\")]"
   ]
  },
  {
   "cell_type": "code",
   "execution_count": 41,
   "id": "49e236e5-54aa-4c4a-8be8-eb5f45e3ea61",
   "metadata": {},
   "outputs": [
    {
     "data": {
      "image/png": "[encoded data removed]",
      "text/plain": [
       "<Figure size 432x288 with 1 Axes>"
      ]
     },
     "metadata": {
      "needs_background": "light"
     },
     "output_type": "display_data"
    }
   ],
   "source": [
    "x = np.linspace(0, 2, 100)\n",
    "\n",
    "fig, ax = plt.subplots()  # Create a figure and an axes.\n",
    "\n",
    "l1 = ax.plot(x, x, label=\"linear\")\n",
    "l2 = ax.plot(x, x ** 2, label=\"quadratic\")\n",
    "l3 = ax.plot(x, x ** 3, label=\"cubic\")\n",
    "\n",
    "ax.set_title(\"Simple Plot\")\n",
    "\n",
    "plt.show()"
   ]
  },
  {
   "cell_type": "markdown",
   "id": "eb618109-08b7-48b6-b050-18f03ba70a7b",
   "metadata": {
    "tags": []
   },
   "source": [
    "# getp / setp"
   ]
  },
  {
   "cell_type": "code",
   "execution_count": null,
   "id": "3d51de06-4cd6-43a3-9619-f2dbc695e0a2",
   "metadata": {},
   "outputs": [
    {
     "name": "stdout",
     "output_type": "stream",
     "text": [
      "    agg_filter = None\n",
      "    alpha = None\n",
      "    animated = False\n",
      "    antialiased or aa = True\n",
      "    children = []\n",
      "    clip_box = TransformedBbox(     Bbox(x0=0.0, y0=0.0, x1=1.0, ...\n",
      "    clip_on = True\n",
      "    clip_path = None\n",
      "    color or c = #ff7f0e\n",
      "    contains = None\n",
      "    dash_capstyle = butt\n",
      "    dash_joinstyle = round\n",
      "    data = (array([0.        , 0.02020202, 0.04040404, 0.0606...\n",
      "    drawstyle or ds = default\n",
      "    figure = Figure(432x288)\n",
      "    fillstyle = full\n",
      "    gid = None\n",
      "    in_layout = True\n",
      "    label = quadratic\n",
      "    linestyle or ls = -\n",
      "    linewidth or lw = 1.5\n",
      "    marker = None\n",
      "    markeredgecolor or mec = #ff7f0e\n",
      "    markeredgewidth or mew = 1.0\n",
      "    markerfacecolor or mfc = #ff7f0e\n",
      "    markerfacecoloralt or mfcalt = none\n",
      "    markersize or ms = 6.0\n",
      "    markevery = None\n",
      "    path = Path(array([[0.00000000e+00, 0.00000000e+00],     ...\n",
      "    path_effects = []\n",
      "    picker = None\n",
      "    pickradius = 5\n",
      "    rasterized = False\n",
      "    sketch_params = None\n",
      "    snap = None\n",
      "    solid_capstyle = projecting\n",
      "    solid_joinstyle = round\n",
      "    transform = CompositeGenericTransform(     TransformWrapper(  ...\n",
      "    transformed_clip_path_and_affine = (None, None)\n",
      "    url = None\n",
      "    visible = True\n",
      "    xdata = [0.         0.02020202 0.04040404 0.06060606 0.080...\n",
      "    xydata = [[0.         0.        ]  [0.02020202 0.00040812] ...\n",
      "    ydata = [0.         0.00040812 0.00163249 0.00367309 0.006...\n",
      "    zorder = 2\n"
     ]
    }
   ],
   "source": [
    "plt.getp(l2)"
   ]
  },
  {
   "cell_type": "markdown",
   "id": "331f0f55-79ca-4287-b84b-b312ad0a0304",
   "metadata": {},
   "source": [
    "# Legends"
   ]
  },
  {
   "cell_type": "code",
   "execution_count": 49,
   "id": "1c15684b-d4f6-45f8-895b-c1c3d92f784a",
   "metadata": {},
   "outputs": [
    {
     "data": {
      "image/png": "[encoded data removed]",
      "text/plain": [
       "<Figure size 432x288 with 1 Axes>"
      ]
     },
     "metadata": {
      "needs_background": "light"
     },
     "output_type": "display_data"
    }
   ],
   "source": [
    "x = np.linspace(0, 2, 100)\n",
    "\n",
    "fig, ax = plt.subplots()  # Create a figure and an axes.\n",
    "\n",
    "l1 = ax.plot(x, x, label=\"linear\")\n",
    "l2 = ax.plot(x, x ** 2, label=\"quadratic\")\n",
    "l3 = ax.plot(x, x ** 3, label=\"cubic\")\n",
    "\n",
    "ax.set_title(\"Simple Plot\")\n",
    "\n",
    "ax.legend(title=\"My legend\")\n",
    "\n",
    "plt.show()"
   ]
  },
  {
   "cell_type": "markdown",
   "id": "33238251-9fcb-40f0-b625-82bb9ef511cb",
   "metadata": {},
   "source": [
    "# cycler"
   ]
  },
  {
   "cell_type": "code",
   "execution_count": 59,
   "id": "6e8a1646-e123-4c01-9d72-e52fd5b67b7c",
   "metadata": {},
   "outputs": [
    {
     "data": {
      "text/html": [
       "<table><th>'arg1'</th><tr><td>1</td></tr><tr><td>2</td></tr><tr><td>3</td></tr><tr><td>4</td></tr></table>"
      ],
      "text/plain": [
       "cycler('arg1', [1, 2, 3, 4])"
      ]
     },
     "execution_count": 59,
     "metadata": {},
     "output_type": "execute_result"
    }
   ],
   "source": [
    "from cycler import cycler\n",
    "\n",
    "c1 = cycler(arg1=[1, 2, 3, 4])\n",
    "c1"
   ]
  },
  {
   "cell_type": "code",
   "execution_count": 60,
   "id": "c692ac87-6bde-4a5a-9803-b543ea9ce5d2",
   "metadata": {},
   "outputs": [
    {
     "data": {
      "text/html": [
       "<table><th>'arg2'</th><tr><td>'r'</td></tr><tr><td>'g'</td></tr><tr><td>'b'</td></tr><tr><td>'a'</td></tr></table>"
      ],
      "text/plain": [
       "cycler('arg2', ['r', 'g', 'b', 'a'])"
      ]
     },
     "execution_count": 60,
     "metadata": {},
     "output_type": "execute_result"
    }
   ],
   "source": [
    "c2 = cycler(arg2=list(\"rgba\"))\n",
    "c2"
   ]
  },
  {
   "cell_type": "code",
   "execution_count": 61,
   "id": "c30e79ae-db69-46c6-9dad-73591068123f",
   "metadata": {},
   "outputs": [
    {
     "data": {
      "text/html": [
       "<table><th>'arg1'</th><th>'arg2'</th><tr><td>1</td><td>'r'</td></tr><tr><td>2</td><td>'g'</td></tr><tr><td>3</td><td>'b'</td></tr><tr><td>4</td><td>'a'</td></tr></table>"
      ],
      "text/plain": [
       "(cycler('arg1', [1, 2, 3, 4]) + cycler('arg2', ['r', 'g', 'b', 'a']))"
      ]
     },
     "execution_count": 61,
     "metadata": {},
     "output_type": "execute_result"
    }
   ],
   "source": [
    "c1 + c2"
   ]
  },
  {
   "cell_type": "code",
   "execution_count": 82,
   "id": "5de417cf-e86f-461e-9af5-fd812e4f5704",
   "metadata": {},
   "outputs": [],
   "source": [
    "line_prop_cycler = (\n",
    "    cycler(color=list(\"rgcy\"))\n",
    "    + cycler(ls=[\"-\", \"--\", \"-.\", \":\"])\n",
    "    + cycler(lw=[3, 6, 9, 12])\n",
    ")"
   ]
  },
  {
   "cell_type": "code",
   "execution_count": 83,
   "id": "7c5777c7-abee-4937-b535-d2d5ec8973c1",
   "metadata": {},
   "outputs": [
    {
     "data": {
      "image/png": "[encoded data removed]",
      "text/plain": [
       "<Figure size 576x288 with 1 Axes>"
      ]
     },
     "metadata": {
      "needs_background": "light"
     },
     "output_type": "display_data"
    }
   ],
   "source": [
    "x = np.linspace(0, 2 * np.pi, 50)\n",
    "offsets = np.linspace(0, 2 * np.pi, 4, endpoint=False)\n",
    "yy = np.transpose([np.sin(x + phi) for phi in offsets])\n",
    "\n",
    "fig, ax = plt.subplots(figsize=(8, 4))\n",
    "\n",
    "ax.set_prop_cycle(line_prop_cycler)  # Set propcycle before plotting\n",
    "ax.plot(x, yy)\n",
    "\n",
    "plt.show();"
   ]
  },
  {
   "cell_type": "markdown",
   "id": "e8fb9c7b-5cf6-426f-b2e9-38b40a284c58",
   "metadata": {},
   "source": [
    "# tick_params"
   ]
  },
  {
   "cell_type": "markdown",
   "id": "4eb6de49-f1c5-4e66-ab9e-7a987f9b1211",
   "metadata": {},
   "source": [
    "```python\n",
    ">>> ax.tick_params()\n",
    "\n",
    "Parameters\n",
    "----------\n",
    "axis : {'x', 'y', 'both'}, default: 'both'\n",
    "    The axis to which the parameters are applied.\n",
    "which : {'major', 'minor', 'both'}, default: 'major'\n",
    "    The group of ticks to which the parameters are applied.\n",
    "reset : bool, default: False\n",
    "    Whether to reset the ticks to defaults before updating them.\n",
    "\n",
    "Other Parameters\n",
    "----------------\n",
    "direction : {'in', 'out', 'inout'}\n",
    "    Puts ticks inside the axes, outside the axes, or both.\n",
    "length : float\n",
    "    Tick length in points.\n",
    "width : float\n",
    "    Tick width in points.\n",
    "color : color\n",
    "    Tick color.\n",
    "```"
   ]
  },
  {
   "cell_type": "markdown",
   "id": "75be8a0d-a00a-4e21-9696-a810ff98ceff",
   "metadata": {},
   "source": [
    "# Tickers"
   ]
  },
  {
   "cell_type": "code",
   "execution_count": 84,
   "id": "af3da294-d58a-41c1-ad92-7d71bae009af",
   "metadata": {},
   "outputs": [],
   "source": [
    "from matplotlib import ticker"
   ]
  },
  {
   "cell_type": "code",
   "execution_count": 87,
   "id": "5d84e3ea-8581-4389-81bb-bf37490c882f",
   "metadata": {},
   "outputs": [
    {
     "data": {
      "text/plain": [
       "['AutoLocator',\n",
       " 'AutoMinorLocator',\n",
       " 'EngFormatter',\n",
       " 'FixedFormatter',\n",
       " 'FixedLocator',\n",
       " 'FormatStrFormatter',\n",
       " 'Formatter',\n",
       " 'FuncFormatter',\n",
       " 'IndexFormatter',\n",
       " 'IndexLocator',\n",
       " 'Integral',\n",
       " 'LinearLocator',\n",
       " 'Locator',\n",
       " 'LogFormatter',\n",
       " 'LogFormatterExponent',\n",
       " 'LogFormatterMathtext',\n",
       " 'LogFormatterSciNotation',\n",
       " 'LogLocator',\n",
       " 'LogitFormatter',\n",
       " 'LogitLocator',\n",
       " 'MaxNLocator',\n",
       " 'MultipleLocator',\n",
       " 'NullFormatter',\n",
       " 'NullLocator',\n",
       " 'OldAutoLocator',\n",
       " 'OldScalarFormatter',\n",
       " 'PercentFormatter',\n",
       " 'ScalarFormatter',\n",
       " 'StrMethodFormatter',\n",
       " 'SymmetricalLogLocator',\n",
       " 'TickHelper',\n",
       " '_DummyAxis',\n",
       " '_Edge_integer',\n",
       " '__all__',\n",
       " '__builtins__',\n",
       " '__cached__',\n",
       " '__doc__',\n",
       " '__file__',\n",
       " '__loader__',\n",
       " '__name__',\n",
       " '__package__',\n",
       " '__spec__',\n",
       " '_api',\n",
       " '_decade_greater',\n",
       " '_decade_greater_equal',\n",
       " '_decade_less',\n",
       " '_decade_less_equal',\n",
       " '_if_refresh_overridden_call_and_emit_deprec',\n",
       " '_log',\n",
       " 'cbook',\n",
       " 'is_close_to_int',\n",
       " 'is_decade',\n",
       " 'itertools',\n",
       " 'locale',\n",
       " 'logging',\n",
       " 'math',\n",
       " 'mpl',\n",
       " 'mtransforms',\n",
       " 'np',\n",
       " 'scale_range']"
      ]
     },
     "execution_count": 87,
     "metadata": {},
     "output_type": "execute_result"
    }
   ],
   "source": [
    "dir(ticker)"
   ]
  },
  {
   "cell_type": "markdown",
   "id": "d7a6d400-fbac-466e-b438-c5444a7094c9",
   "metadata": {},
   "source": [
    "# Adding custom grids"
   ]
  },
  {
   "cell_type": "code",
   "execution_count": 91,
   "id": "5330a233-9ff4-4e75-9aa4-68c0dc3cf8fa",
   "metadata": {},
   "outputs": [
    {
     "data": {
      "image/png": "[encoded data removed]",
      "text/plain": [
       "<Figure size 432x288 with 1 Axes>"
      ]
     },
     "metadata": {
      "needs_background": "light"
     },
     "output_type": "display_data"
    }
   ],
   "source": [
    "fig, ax = plt.subplots()\n",
    "\n",
    "ax.grid(axis=\"x\", linestyle=\":\", lw=3, color=\"r\")"
   ]
  },
  {
   "cell_type": "markdown",
   "id": "0b8ecff3-8678-4fec-845b-dbe402986815",
   "metadata": {},
   "source": [
    "# plt.bar_label()"
   ]
  },
  {
   "cell_type": "code",
   "execution_count": 120,
   "id": "316d7cf7-c9a7-4a96-843d-70b6cea4bcbe",
   "metadata": {
    "tags": []
   },
   "outputs": [
    {
     "data": {
      "image/png": "[encoded data removed]",
      "text/plain": [
       "<Figure size 432x288 with 1 Axes>"
      ]
     },
     "metadata": {
      "needs_background": "light"
     },
     "output_type": "display_data"
    }
   ],
   "source": [
    "import seaborn as sns\n",
    "\n",
    "diamonds = sns.load_dataset(\"diamonds\")\n",
    "\n",
    "ax = sns.countplot(diamonds[\"cut\"])"
   ]
  },
  {
   "cell_type": "code",
   "execution_count": 121,
   "id": "a3e66e01-05fc-4ed6-af7e-aef8d756ae38",
   "metadata": {},
   "outputs": [
    {
     "data": {
      "text/plain": [
       "[<BarContainer object of 5 artists>]"
      ]
     },
     "execution_count": 121,
     "metadata": {},
     "output_type": "execute_result"
    }
   ],
   "source": [
    "ax.containers"
   ]
  },
  {
   "cell_type": "code",
   "execution_count": 126,
   "id": "c8d2053c-3bb6-4ec4-b530-0adef2564a72",
   "metadata": {},
   "outputs": [
    {
     "data": {
      "image/png": "[encoded data removed]",
      "text/plain": [
       "<Figure size 432x288 with 1 Axes>"
      ]
     },
     "metadata": {
      "needs_background": "light"
     },
     "output_type": "display_data"
    }
   ],
   "source": [
    "ax = sns.countplot(diamonds[\"cut\"])\n",
    "ax.bar_label(ax.containers[0], padding=1)\n",
    "ax.set_ylim(0, 25000)\n",
    "plt.show();"
   ]
  },
  {
   "cell_type": "markdown",
   "id": "bc9ea60b-b3e0-404c-aa3e-c396f3ecc5f8",
   "metadata": {},
   "source": [
    "# zorder"
   ]
  },
  {
   "cell_type": "code",
   "execution_count": 119,
   "id": "2b1dee3a-b35b-49ef-9c4f-70cec417fc79",
   "metadata": {},
   "outputs": [
    {
     "data": {
      "image/png": "[encoded data removed]",
      "text/plain": [
       "<Figure size 432x288 with 1 Axes>"
      ]
     },
     "metadata": {
      "needs_background": "light"
     },
     "output_type": "display_data"
    }
   ],
   "source": [
    "x = np.linspace(0, 7.5, 100)\n",
    "\n",
    "plt.rcParams[\"lines.linewidth\"] = 5\n",
    "\n",
    "plt.plot(x, np.sin(x), label=\"zorder=2\", zorder=2)  # bottom\n",
    "plt.plot(x, np.sin(x + 0.5), label=\"zorder=3\", zorder=3)\n",
    "plt.axhline(0, label=\"zorder=2.5\", color=\"lightgrey\", zorder=2.5)\n",
    "\n",
    "plt.title(\"Custom order of elements\")\n",
    "\n",
    "l = plt.legend(loc=\"upper right\")\n",
    "l.set_zorder(2.5)  # legend between blue and orange line\n",
    "\n",
    "plt.show()"
   ]
  },
  {
   "cell_type": "markdown",
   "id": "4302737f-486f-479e-ad47-3574f69e5f7a",
   "metadata": {},
   "source": [
    "# Summary"
   ]
  }
 ],
 "metadata": {
  "kernelspec": {
   "display_name": "medium_articles",
   "language": "python",
   "name": "medium_articles"
  },
  "language_info": {
   "codemirror_mode": {
    "name": "ipython",
    "version": 3
   },
   "file_extension": ".py",
   "mimetype": "text/x-python",
   "name": "python",
   "nbconvert_exporter": "python",
   "pygments_lexer": "ipython3",
   "version": "3.8.11"
  }
 },
 "nbformat": 4,
 "nbformat_minor": 5
}
