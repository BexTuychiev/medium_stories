{
 "cells": [
  {
   "cell_type": "markdown",
   "id": "fe5ecff5-a95f-4a8f-afab-58da6bfd3883",
   "metadata": {},
   "source": [
    "# N Advanced Matplotlib Functions You Must Know To Create Killer Visuals\n",
    "## Subtitle TODO\n",
    "\n",
    "![](images/unsplash.jpg)\n",
    "<figcaption style=\"text-align: center;\">\n",
    "    <strong>\n",
    "Photo by <a href=\"https://unsplash.com/@joycoast?utm_source=unsplash&utm_medium=referral&utm_content=creditCopyText\">Joycoast Wood Watches & Sunglasses</a> on <a href=\"https://unsplash.com/s/photos/men%20in%20suit?utm_source=unsplash&utm_medium=referral&utm_content=creditCopyText\">Unsplash</a>\n",
    "      </strong>\n",
    "</figcaption>"
   ]
  },
  {
   "cell_type": "markdown",
   "id": "8aabe333-c95e-4ded-befa-54ed1b75f504",
   "metadata": {},
   "source": [
    "# Setup"
   ]
  },
  {
   "cell_type": "code",
   "execution_count": 1,
   "id": "e2083cfd-653d-4336-acfd-c07b9d42eef6",
   "metadata": {},
   "outputs": [
    {
     "data": {
      "text/html": [
       "<style type='text/css'>\n",
       ".datatable table.frame { margin-bottom: 0; }\n",
       ".datatable table.frame thead { border-bottom: none; }\n",
       ".datatable table.frame tr.coltypes td {  color: #FFFFFF;  line-height: 6px;  padding: 0 0.5em;}\n",
       ".datatable .bool    { background: #DDDD99; }\n",
       ".datatable .object  { background: #565656; }\n",
       ".datatable .int     { background: #5D9E5D; }\n",
       ".datatable .float   { background: #4040CC; }\n",
       ".datatable .str     { background: #CC4040; }\n",
       ".datatable .time    { background: #40CC40; }\n",
       ".datatable .row_index {  background: var(--jp-border-color3);  border-right: 1px solid var(--jp-border-color0);  color: var(--jp-ui-font-color3);  font-size: 9px;}\n",
       ".datatable .frame tbody td { text-align: left; }\n",
       ".datatable .frame tr.coltypes .row_index {  background: var(--jp-border-color0);}\n",
       ".datatable th:nth-child(2) { padding-left: 12px; }\n",
       ".datatable .hellipsis {  color: var(--jp-cell-editor-border-color);}\n",
       ".datatable .vellipsis {  background: var(--jp-layout-color0);  color: var(--jp-cell-editor-border-color);}\n",
       ".datatable .na {  color: var(--jp-cell-editor-border-color);  font-size: 80%;}\n",
       ".datatable .sp {  opacity: 0.25;}\n",
       ".datatable .footer { font-size: 9px; }\n",
       ".datatable .frame_dimensions {  background: var(--jp-border-color3);  border-top: 1px solid var(--jp-border-color0);  color: var(--jp-ui-font-color3);  display: inline-block;  opacity: 0.6;  padding: 1px 10px 1px 5px;}\n",
       "</style>\n"
      ],
      "text/plain": [
       "<IPython.core.display.HTML object>"
      ]
     },
     "metadata": {},
     "output_type": "display_data"
    }
   ],
   "source": [
    "import logging\n",
    "import time\n",
    "import warnings\n",
    "\n",
    "import catboost as cb\n",
    "import datatable as dt\n",
    "import joblib\n",
    "import lightgbm as lgbm\n",
    "import matplotlib.pyplot as plt\n",
    "import numpy as np\n",
    "import optuna\n",
    "import pandas as pd\n",
    "import seaborn as sns\n",
    "import shap\n",
    "import umap\n",
    "import umap.plot\n",
    "import xgboost as xgb\n",
    "from optuna.samplers import TPESampler\n",
    "from sklearn.compose import *\n",
    "from sklearn.impute import *\n",
    "from sklearn.metrics import *\n",
    "from sklearn.model_selection import *\n",
    "from sklearn.pipeline import Pipeline, make_pipeline\n",
    "from sklearn.preprocessing import *\n",
    "\n",
    "logging.basicConfig(\n",
    "    format=\"%(asctime)s - %(message)s\", datefmt=\"%d-%b-%y %H:%M:%S\", level=logging.INFO\n",
    ")\n",
    "optuna.logging.set_verbosity(optuna.logging.WARNING)\n",
    "warnings.filterwarnings(\"ignore\")\n",
    "pd.set_option(\"float_format\", \"{:.5f}\".format)"
   ]
  },
  {
   "cell_type": "markdown",
   "id": "d1e5cefa-a6dc-4c6a-a226-006e03b16c2e",
   "metadata": {},
   "source": [
    "# Intro"
   ]
  },
  {
   "cell_type": "markdown",
   "id": "cfadd7aa-b253-4b22-b488-68c2ead185b2",
   "metadata": {},
   "source": [
    "# rcParams"
   ]
  },
  {
   "cell_type": "markdown",
   "id": "eb618109-08b7-48b6-b050-18f03ba70a7b",
   "metadata": {},
   "source": [
    "# getp / setp"
   ]
  },
  {
   "cell_type": "markdown",
   "id": "a0a648b6-db8c-4b71-888b-ad4d7cf59712",
   "metadata": {},
   "source": [
    "# Other get_* functions"
   ]
  },
  {
   "cell_type": "markdown",
   "id": "e8fb9c7b-5cf6-426f-b2e9-38b40a284c58",
   "metadata": {},
   "source": [
    "# tick_params"
   ]
  },
  {
   "cell_type": "markdown",
   "id": "75be8a0d-a00a-4e21-9696-a810ff98ceff",
   "metadata": {},
   "source": [
    "# Fixed tick locators"
   ]
  },
  {
   "cell_type": "markdown",
   "id": "d7a6d400-fbac-466e-b438-c5444a7094c9",
   "metadata": {},
   "source": [
    "# Adding custom grids"
   ]
  },
  {
   "cell_type": "markdown",
   "id": "0b8ecff3-8678-4fec-845b-dbe402986815",
   "metadata": {},
   "source": [
    "# plt.bar_label(), possibly"
   ]
  },
  {
   "cell_type": "markdown",
   "id": "bc9ea60b-b3e0-404c-aa3e-c396f3ecc5f8",
   "metadata": {},
   "source": [
    "# zorder"
   ]
  },
  {
   "cell_type": "markdown",
   "id": "4302737f-486f-479e-ad47-3574f69e5f7a",
   "metadata": {},
   "source": [
    "# Summary"
   ]
  }
 ],
 "metadata": {
  "kernelspec": {
   "display_name": "medium_articles",
   "language": "python",
   "name": "medium_articles"
  },
  "language_info": {
   "codemirror_mode": {
    "name": "ipython",
    "version": 3
   },
   "file_extension": ".py",
   "mimetype": "text/x-python",
   "name": "python",
   "nbconvert_exporter": "python",
   "pygments_lexer": "ipython3",
   "version": "3.8.11"
  }
 },
 "nbformat": 4,
 "nbformat_minor": 5
}
