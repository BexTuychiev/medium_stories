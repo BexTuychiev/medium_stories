{
 "cells": [
  {
   "cell_type": "markdown",
   "id": "fe5ecff5-a95f-4a8f-afab-58da6bfd3883",
   "metadata": {},
   "source": [
    "# N Advanced Matplotlib Functions You Must Know To Create Killer Visuals\n",
    "## Subtitle TODO\n",
    "\n",
    "![](images/unsplash.jpg)\n",
    "<figcaption style=\"text-align: center;\">\n",
    "    <strong>\n",
    "Photo by <a href=\"https://unsplash.com/@joycoast?utm_source=unsplash&utm_medium=referral&utm_content=creditCopyText\">Joycoast Wood Watches & Sunglasses</a> on <a href=\"https://unsplash.com/s/photos/men%20in%20suit?utm_source=unsplash&utm_medium=referral&utm_content=creditCopyText\">Unsplash</a>\n",
    "      </strong>\n",
    "</figcaption>"
   ]
  },
  {
   "cell_type": "markdown",
   "id": "8aabe333-c95e-4ded-befa-54ed1b75f504",
   "metadata": {},
   "source": [
    "# Setup"
   ]
  },
  {
   "cell_type": "code",
   "execution_count": 1,
   "id": "e2083cfd-653d-4336-acfd-c07b9d42eef6",
   "metadata": {},
   "outputs": [
    {
     "data": {
      "text/html": [
       "<style type='text/css'>\n",
       ".datatable table.frame { margin-bottom: 0; }\n",
       ".datatable table.frame thead { border-bottom: none; }\n",
       ".datatable table.frame tr.coltypes td {  color: #FFFFFF;  line-height: 6px;  padding: 0 0.5em;}\n",
       ".datatable .bool    { background: #DDDD99; }\n",
       ".datatable .object  { background: #565656; }\n",
       ".datatable .int     { background: #5D9E5D; }\n",
       ".datatable .float   { background: #4040CC; }\n",
       ".datatable .str     { background: #CC4040; }\n",
       ".datatable .time    { background: #40CC40; }\n",
       ".datatable .row_index {  background: var(--jp-border-color3);  border-right: 1px solid var(--jp-border-color0);  color: var(--jp-ui-font-color3);  font-size: 9px;}\n",
       ".datatable .frame tbody td { text-align: left; }\n",
       ".datatable .frame tr.coltypes .row_index {  background: var(--jp-border-color0);}\n",
       ".datatable th:nth-child(2) { padding-left: 12px; }\n",
       ".datatable .hellipsis {  color: var(--jp-cell-editor-border-color);}\n",
       ".datatable .vellipsis {  background: var(--jp-layout-color0);  color: var(--jp-cell-editor-border-color);}\n",
       ".datatable .na {  color: var(--jp-cell-editor-border-color);  font-size: 80%;}\n",
       ".datatable .sp {  opacity: 0.25;}\n",
       ".datatable .footer { font-size: 9px; }\n",
       ".datatable .frame_dimensions {  background: var(--jp-border-color3);  border-top: 1px solid var(--jp-border-color0);  color: var(--jp-ui-font-color3);  display: inline-block;  opacity: 0.6;  padding: 1px 10px 1px 5px;}\n",
       "</style>\n"
      ],
      "text/plain": [
       "<IPython.core.display.HTML object>"
      ]
     },
     "metadata": {},
     "output_type": "display_data"
    }
   ],
   "source": [
    "import logging\n",
    "import time\n",
    "import warnings\n",
    "\n",
    "import catboost as cb\n",
    "import datatable as dt\n",
    "import joblib\n",
    "import lightgbm as lgbm\n",
    "import matplotlib.pyplot as plt\n",
    "import numpy as np\n",
    "import optuna\n",
    "import pandas as pd\n",
    "import seaborn as sns\n",
    "import shap\n",
    "import umap\n",
    "import umap.plot\n",
    "import xgboost as xgb\n",
    "from optuna.samplers import TPESampler\n",
    "from sklearn.compose import *\n",
    "from sklearn.impute import *\n",
    "from sklearn.metrics import *\n",
    "from sklearn.model_selection import *\n",
    "from sklearn.pipeline import Pipeline, make_pipeline\n",
    "from sklearn.preprocessing import *\n",
    "\n",
    "logging.basicConfig(\n",
    "    format=\"%(asctime)s - %(message)s\", datefmt=\"%d-%b-%y %H:%M:%S\", level=logging.INFO\n",
    ")\n",
    "optuna.logging.set_verbosity(optuna.logging.WARNING)\n",
    "warnings.filterwarnings(\"ignore\")\n",
    "pd.set_option(\"float_format\", \"{:.5f}\".format)"
   ]
  },
  {
   "cell_type": "markdown",
   "id": "d1e5cefa-a6dc-4c6a-a226-006e03b16c2e",
   "metadata": {},
   "source": [
    "# Intro"
   ]
  },
  {
   "cell_type": "markdown",
   "id": "cfadd7aa-b253-4b22-b488-68c2ead185b2",
   "metadata": {},
   "source": [
    "# rcParams"
   ]
  },
  {
   "cell_type": "markdown",
   "id": "dbd572a6-5b18-4045-82b6-9006a10f6473",
   "metadata": {},
   "source": [
    "Let's start from the highest-level concepts. \n",
    "\n",
    "The first in our list is the `rcParams` dictionary. This dictionary contains all Matplotlib settings that are used to create the default styles of the figures. You import it directly from the `matplotlib` namespace:"
   ]
  },
  {
   "cell_type": "code",
   "execution_count": 127,
   "id": "753c9dd8-33ca-4e09-9515-1db71b016ef3",
   "metadata": {},
   "outputs": [],
   "source": [
    "from matplotlib import rcParams"
   ]
  },
  {
   "cell_type": "markdown",
   "id": "a2b9a120-2f1e-4efd-a703-28518966a391",
   "metadata": {},
   "source": [
    "```python\n",
    ">>> rcParams\n",
    "...\n",
    "'axes.grid': False,\n",
    "'axes.grid.axis': 'both',\n",
    "'axes.grid.which': 'major',\n",
    "'axes.labelcolor': 'black',\n",
    "'axes.labelpad': 4.0,\n",
    "'axes.labelsize': 'medium',\n",
    "'axes.labelweight': 'normal',\n",
    "'axes.linewidth': 0.8,\n",
    "...\n",
    "```"
   ]
  },
  {
   "cell_type": "markdown",
   "id": "93f5d730-5a4d-43cd-8737-20083a0179e4",
   "metadata": {},
   "source": [
    "```python\n",
    "rcParams['figure.figsize'] = 8, 6\n",
    "rcParams['legend.fontsize'] = \"large\"\n",
    "rcParams['xtick.major.size'] = 4\n",
    "rcParams['xtick.minor.size'] = 1\n",
    "```"
   ]
  },
  {
   "cell_type": "markdown",
   "id": "1465cc07-7790-4d92-bde1-2482cfb72f79",
   "metadata": {},
   "source": [
    "When working on different projects, you will have to render your charts on different environments and for different audiences. Based on this, you have to tweak this dictionary beforehand so that all your future visuals have a consistent theme and style. It will also save time because you avoid calling the same parameters every time you create a new plot.\n",
    "\n",
    "If you ever mess something up or want to get back to the defaults, you can call the `rcdefaults` function of PyPlot, which resets everything."
   ]
  },
  {
   "cell_type": "code",
   "execution_count": 137,
   "id": "1278bfb2-cf25-4a52-96a3-2a56a9dda519",
   "metadata": {},
   "outputs": [],
   "source": [
    "plt.rcdefaults()"
   ]
  },
  {
   "cell_type": "markdown",
   "id": "a0a648b6-db8c-4b71-888b-ad4d7cf59712",
   "metadata": {},
   "source": [
    "# Get_* functions"
   ]
  },
  {
   "cell_type": "markdown",
   "id": "4b0ac84e-82f6-499e-92f6-f741ebc35159",
   "metadata": {},
   "source": [
    "Under the hood, Matplotlib is fully-object oriented.\n",
    "\n",
    "![](images/1.png)"
   ]
  },
  {
   "cell_type": "markdown",
   "id": "10759f19-4d1d-49cf-9ac3-dbf2ca21c9d5",
   "metadata": {},
   "source": [
    "Every individual component you see on the above diagram is implemented as a separate class. All these separate classes inherit from the base class called Matplotlib Artist. That's why you will often read the word on MPL documentation. \n",
    "\n",
    "Having a separate class for every single aspect of a plot introduces a certain level of complexity but it also gives you a lot of flexibility. \n",
    "\n",
    "The key to a great plot is customization. Not just simple changes to the plot, but customization at the deepest levels. You should be able to tweak every single component of your visuals so that it aligns with your taste, your theme and professionalism. \n",
    "\n",
    "To achieve this, you should know how to extract the components you want to customize. Fortunately, Matplotlib has many functions that starts with `get_` prefix, which allows you to retrieve different classes from the created figure or axes. Here is an example:"
   ]
  },
  {
   "cell_type": "code",
   "execution_count": 29,
   "id": "6112ad4b-d5c7-4028-9593-9492fd7a9894",
   "metadata": {},
   "outputs": [
    {
     "data": {
      "text/plain": [
       "['get_adjustable',\n",
       " 'get_agg_filter',\n",
       " 'get_alpha',\n",
       " 'get_anchor',\n",
       " 'get_animated',\n",
       " 'get_aspect',\n",
       " 'get_autoscale_on',\n",
       " 'get_autoscalex_on',\n",
       " 'get_autoscaley_on',\n",
       " 'get_axes_locator',\n",
       " 'get_axisbelow',\n",
       " 'get_box_aspect',\n",
       " 'get_children',\n",
       " 'get_clip_box',\n",
       " 'get_clip_on',\n",
       " 'get_clip_path',\n",
       " 'get_contains',\n",
       " 'get_cursor_data',\n",
       " 'get_data_ratio',\n",
       " 'get_default_bbox_extra_artists',\n",
       " 'get_facecolor',\n",
       " 'get_fc',\n",
       " 'get_figure',\n",
       " 'get_frame_on',\n",
       " 'get_geometry',\n",
       " 'get_gid',\n",
       " 'get_gridspec',\n",
       " 'get_images',\n",
       " 'get_in_layout',\n",
       " 'get_label',\n",
       " 'get_legend',\n",
       " 'get_legend_handles_labels',\n",
       " 'get_lines',\n",
       " 'get_navigate',\n",
       " 'get_navigate_mode',\n",
       " 'get_path_effects',\n",
       " 'get_picker',\n",
       " 'get_position',\n",
       " 'get_rasterization_zorder',\n",
       " 'get_rasterized',\n",
       " 'get_renderer_cache',\n",
       " 'get_shared_x_axes',\n",
       " 'get_shared_y_axes',\n",
       " 'get_sketch_params',\n",
       " 'get_snap',\n",
       " 'get_subplotspec',\n",
       " 'get_tightbbox',\n",
       " 'get_title',\n",
       " 'get_transform',\n",
       " 'get_transformed_clip_path_and_affine',\n",
       " 'get_url',\n",
       " 'get_visible',\n",
       " 'get_window_extent',\n",
       " 'get_xaxis',\n",
       " 'get_xaxis_text1_transform',\n",
       " 'get_xaxis_text2_transform',\n",
       " 'get_xaxis_transform',\n",
       " 'get_xbound',\n",
       " 'get_xgridlines',\n",
       " 'get_xlabel',\n",
       " 'get_xlim',\n",
       " 'get_xmajorticklabels',\n",
       " 'get_xminorticklabels',\n",
       " 'get_xscale',\n",
       " 'get_xticklabels',\n",
       " 'get_xticklines',\n",
       " 'get_xticks',\n",
       " 'get_yaxis',\n",
       " 'get_yaxis_text1_transform',\n",
       " 'get_yaxis_text2_transform',\n",
       " 'get_yaxis_transform',\n",
       " 'get_ybound',\n",
       " 'get_ygridlines',\n",
       " 'get_ylabel',\n",
       " 'get_ylim',\n",
       " 'get_ymajorticklabels',\n",
       " 'get_yminorticklabels',\n",
       " 'get_yscale',\n",
       " 'get_yticklabels',\n",
       " 'get_yticklines',\n",
       " 'get_yticks',\n",
       " 'get_zorder']"
      ]
     },
     "execution_count": 29,
     "metadata": {},
     "output_type": "execute_result"
    },
    {
     "data": {
      "image/png": "[encoded data removed]",
      "text/plain": [
       "<Figure size 432x288 with 1 Axes>"
      ]
     },
     "metadata": {
      "needs_background": "light"
     },
     "output_type": "display_data"
    }
   ],
   "source": [
    "fig, ax = plt.subplots()\n",
    "\n",
    "[func for func in dir(ax) if func.startswith(\"get\")]"
   ]
  },
  {
   "cell_type": "markdown",
   "id": "e05ea075-b485-488e-861e-95c4ca9119be",
   "metadata": {},
   "source": [
    "Let's say you want to customize the xticks of this plot:"
   ]
  },
  {
   "cell_type": "code",
   "execution_count": 41,
   "id": "49e236e5-54aa-4c4a-8be8-eb5f45e3ea61",
   "metadata": {},
   "outputs": [
    {
     "data": {
      "image/png": "[encoded data removed]",
      "text/plain": [
       "<Figure size 432x288 with 1 Axes>"
      ]
     },
     "metadata": {
      "needs_background": "light"
     },
     "output_type": "display_data"
    }
   ],
   "source": [
    "x = np.linspace(0, 2, 100)\n",
    "\n",
    "fig, ax = plt.subplots()  # Create a figure and an axes.\n",
    "\n",
    "l1 = ax.plot(x, x, label=\"linear\")\n",
    "l2 = ax.plot(x, x ** 2, label=\"quadratic\")\n",
    "l3 = ax.plot(x, x ** 3, label=\"cubic\")\n",
    "\n",
    "ax.set_title(\"Simple Plot\")\n",
    "\n",
    "plt.show()"
   ]
  },
  {
   "cell_type": "markdown",
   "id": "58e28c10-4508-4f48-b073-785b62f944b0",
   "metadata": {},
   "source": [
    "It is easy, just call `get_xticklabels` on the axes object and you get a list of Matplotlib Text instances:"
   ]
  },
  {
   "cell_type": "code",
   "execution_count": 132,
   "id": "828f2d56-c539-42c9-b33c-dbd5219744ee",
   "metadata": {},
   "outputs": [
    {
     "data": {
      "text/plain": [
       "[Text(0, 0, 'Ideal'),\n",
       " Text(1, 0, 'Premium'),\n",
       " Text(2, 0, 'Very Good'),\n",
       " Text(3, 0, 'Good'),\n",
       " Text(4, 0, 'Fair')]"
      ]
     },
     "execution_count": 132,
     "metadata": {},
     "output_type": "execute_result"
    }
   ],
   "source": [
    "ax.get_xticklabels()"
   ]
  },
  {
   "cell_type": "markdown",
   "id": "2bd22897-d61e-4164-8222-7f304e75dd1f",
   "metadata": {},
   "source": [
    "You can also tweak the tick lines using `get_xticklines` or the location of the ticks with `get_xticks`.\n",
    "\n",
    "You might be wondering, how do we actually tweak these objects? We will answer this question in the next section."
   ]
  },
  {
   "cell_type": "markdown",
   "id": "eb618109-08b7-48b6-b050-18f03ba70a7b",
   "metadata": {
    "tags": []
   },
   "source": [
    "# getp / setp"
   ]
  },
  {
   "cell_type": "markdown",
   "id": "156e3bec-6deb-418b-893e-199753fd37ff",
   "metadata": {},
   "source": [
    "Once you have the component you want to customize, you should know what kind of properties or parameters they accept. This is where you use two Swiss army knives of Matplotlib. \n",
    "\n",
    "First, call `plt.getp` function on your object to see what parameters it currently has. For example, let's say we want to style the second line of the below plot:"
   ]
  },
  {
   "cell_type": "code",
   "execution_count": 138,
   "id": "3b6ebcf6-df5e-44d0-9917-383c04c5e2fb",
   "metadata": {},
   "outputs": [
    {
     "data": {
      "image/png": "[encoded data removed]",
      "text/plain": [
       "<Figure size 640x480 with 1 Axes>"
      ]
     },
     "metadata": {},
     "output_type": "display_data"
    }
   ],
   "source": [
    "x = np.linspace(0, 2, 100)\n",
    "\n",
    "fig, ax = plt.subplots()  # Create a figure and an axes.\n",
    "\n",
    "l1 = ax.plot(x, x, label=\"linear\")\n",
    "l2 = ax.plot(x, x ** 2, label=\"quadratic\")\n",
    "l3 = ax.plot(x, x ** 3, label=\"cubic\")\n",
    "\n",
    "ax.set_title(\"Simple Plot\")\n",
    "\n",
    "plt.show()"
   ]
  },
  {
   "cell_type": "markdown",
   "id": "3d727ef2-e319-458a-b0d6-856117b6f9fa",
   "metadata": {},
   "source": [
    "As you can see, I stored each line plot into a separate variable so that we can use them later. Now, we call `plt.getp` on the second line `l2`:"
   ]
  },
  {
   "cell_type": "code",
   "execution_count": 140,
   "id": "3d51de06-4cd6-43a3-9619-f2dbc695e0a2",
   "metadata": {},
   "outputs": [
    {
     "name": "stdout",
     "output_type": "stream",
     "text": [
      "    agg_filter = None\n",
      "    alpha = None\n",
      "    animated = False\n",
      "    antialiased or aa = True\n",
      "    children = []\n",
      "    clip_box = TransformedBbox(     Bbox(x0=0.0, y0=0.0, x1=1.0, ...\n",
      "    clip_on = True\n",
      "    clip_path = None\n",
      "    color or c = #ff7f0e\n",
      "    contains = None\n",
      "    dash_capstyle = butt\n",
      "    dash_joinstyle = round\n",
      "    data = (array([0.        , 0.02020202, 0.04040404, 0.0606...\n",
      "    drawstyle or ds = default\n",
      "    figure = Figure(640x480)\n",
      "    fillstyle = full\n",
      "    gid = None\n",
      "    in_layout = True\n",
      "    label = quadratic\n",
      "    linestyle or ls = -\n",
      "    linewidth or lw = 1.5\n",
      "    marker = None\n",
      "    markeredgecolor or mec = #ff7f0e\n",
      "    markeredgewidth or mew = 1.0\n",
      "    markerfacecolor or mfc = #ff7f0e\n",
      "    markerfacecoloralt or mfcalt = none\n",
      "    markersize or ms = 6.0\n",
      "    markevery = None\n",
      "    path = Path(array([[0.00000000e+00, 0.00000000e+00],     ...\n",
      "    path_effects = []\n",
      "    picker = None\n",
      "    pickradius = 5\n",
      "    rasterized = False\n",
      "    sketch_params = None\n",
      "    snap = None\n",
      "    solid_capstyle = projecting\n",
      "    solid_joinstyle = round\n",
      "    transform = CompositeGenericTransform(     TransformWrapper(  ...\n",
      "    transformed_clip_path_and_affine = (None, None)\n",
      "    url = None\n",
      "    visible = True\n",
      "    xdata = [0.         0.02020202 0.04040404 0.06060606 0.080...\n",
      "    xydata = [[0.         0.        ]  [0.02020202 0.00040812] ...\n",
      "    ydata = [0.         0.00040812 0.00163249 0.00367309 0.006...\n",
      "    zorder = 2\n"
     ]
    }
   ],
   "source": [
    "plt.getp(l2)"
   ]
  },
  {
   "cell_type": "markdown",
   "id": "23557e48-3d8f-4156-9535-a84bf91b2b7e",
   "metadata": {},
   "source": [
    "As expected, the function printed out the default values of the second line. To change a property, we will use another function - `plt.setp`. Calling this on an object without any parameters prints out what possible values the object accepts for its properties:"
   ]
  },
  {
   "cell_type": "code",
   "execution_count": 141,
   "id": "bacfd655-e721-43a4-baf0-83aa54bdd9c6",
   "metadata": {},
   "outputs": [
    {
     "name": "stdout",
     "output_type": "stream",
     "text": [
      "  agg_filter: a filter function, which takes a (m, n, 3) float array and a dpi value, and returns a (m, n, 3) array\n",
      "  alpha: scalar or None\n",
      "  animated: bool\n",
      "  antialiased or aa: bool\n",
      "  clip_box: `.Bbox`\n",
      "  clip_on: bool\n",
      "  clip_path: Patch or (Path, Transform) or None\n",
      "  color or c: color\n",
      "  contains: unknown\n",
      "  dash_capstyle: `.CapStyle` or {'butt', 'projecting', 'round'}\n",
      "  dash_joinstyle: `.JoinStyle` or {'miter', 'round', 'bevel'}\n",
      "  dashes: sequence of floats (on/off ink in points) or (None, None)\n",
      "  data: (2, N) array or two 1D arrays\n",
      "  drawstyle or ds: {'default', 'steps', 'steps-pre', 'steps-mid', 'steps-post'}, default: 'default'\n",
      "  figure: `.Figure`\n",
      "  fillstyle: {'full', 'left', 'right', 'bottom', 'top', 'none'}\n",
      "  gid: str\n",
      "  in_layout: bool\n",
      "  label: object\n",
      "  linestyle or ls: {'-', '--', '-.', ':', '', (offset, on-off-seq), ...}\n",
      "  linewidth or lw: float\n",
      "  marker: marker style string, `~.path.Path` or `~.markers.MarkerStyle`\n",
      "  markeredgecolor or mec: color\n",
      "  markeredgewidth or mew: float\n",
      "  markerfacecolor or mfc: color\n",
      "  markerfacecoloralt or mfcalt: color\n",
      "  markersize or ms: float\n",
      "  markevery: None or int or (int, int) or slice or list[int] or float or (float, float) or list[bool]\n",
      "  path_effects: `.AbstractPathEffect`\n",
      "  picker: float or callable[[Artist, Event], tuple[bool, dict]]\n",
      "  pickradius: float\n",
      "  rasterized: bool\n",
      "  sketch_params: (scale: float, length: float, randomness: float)\n",
      "  snap: bool or None\n",
      "  solid_capstyle: `.CapStyle` or {'butt', 'projecting', 'round'}\n",
      "  solid_joinstyle: `.JoinStyle` or {'miter', 'round', 'bevel'}\n",
      "  transform: `matplotlib.transforms.Transform`\n",
      "  url: str\n",
      "  visible: bool\n",
      "  xdata: 1D array\n",
      "  ydata: 1D array\n",
      "  zorder: float\n"
     ]
    }
   ],
   "source": [
    "plt.setp(l2)"
   ]
  },
  {
   "cell_type": "markdown",
   "id": "d843ae19-0c67-4074-acdf-e7ecd9066ea2",
   "metadata": {},
   "source": [
    "To print possible values for only a single property, you can give the name of the property as a string to `setp`:"
   ]
  },
  {
   "cell_type": "code",
   "execution_count": 142,
   "id": "a9bdfab9-5bbd-4866-aa53-545ba83ff01e",
   "metadata": {},
   "outputs": [
    {
     "name": "stdout",
     "output_type": "stream",
     "text": [
      "  linestyle: {'-', '--', '-.', ':', '', (offset, on-off-seq), ...}\n"
     ]
    }
   ],
   "source": [
    "plt.setp(l2, \"linestyle\")"
   ]
  },
  {
   "cell_type": "markdown",
   "id": "5f1e6168-d4fe-40c9-ba40-7868f37a36b7",
   "metadata": {},
   "source": [
    "Now, let's finally make a few changes to the second line:"
   ]
  },
  {
   "cell_type": "code",
   "execution_count": 143,
   "id": "396a62ec-1454-48eb-bf3f-365b04c19a91",
   "metadata": {},
   "outputs": [
    {
     "data": {
      "text/plain": [
       "[None, None, None, None]"
      ]
     },
     "execution_count": 143,
     "metadata": {},
     "output_type": "execute_result"
    }
   ],
   "source": [
    "plt.setp(l2, linestyle=\"-.\", lw=5, color=\"red\", alpha=0.5)"
   ]
  },
  {
   "cell_type": "markdown",
   "id": "eb2a092a-60ea-4c3b-ae1a-eca54e274b8e",
   "metadata": {},
   "source": [
    "To see the current figure after the changes, just call `get_figure` on the figure object:"
   ]
  },
  {
   "cell_type": "code",
   "execution_count": 144,
   "id": "2348a879-11ae-47aa-81ad-f012085ea5f8",
   "metadata": {},
   "outputs": [
    {
     "data": {
      "image/png": "[encoded data removed]",
      "text/plain": [
       "<Figure size 640x480 with 1 Axes>"
      ]
     },
     "execution_count": 144,
     "metadata": {},
     "output_type": "execute_result"
    }
   ],
   "source": [
    "fig.get_figure()"
   ]
  },
  {
   "cell_type": "markdown",
   "id": "cfbe1902-411b-40a0-8b47-8be795e9004d",
   "metadata": {},
   "source": [
    "As you can see, the second line is completely different from the rest.\n",
    "\n",
    "In a nutshell, if you want to style a specific component of your plot, here are the steps you should follow:\n",
    "\n",
    "1. Identify the name of the component, either by intuition or the documentation of MPL.\n",
    "2. Extract it using its relevant `get_*` function\n",
    "3. See its current properties with `plt.getp`\n",
    "4. Find out what possible values each property accepts with `plt.setp`\n",
    "5. Change the parameters you want with `plt.setp`."
   ]
  },
  {
   "cell_type": "markdown",
   "id": "331f0f55-79ca-4287-b84b-b312ad0a0304",
   "metadata": {},
   "source": [
    "# Legends"
   ]
  },
  {
   "cell_type": "markdown",
   "id": "67379fce-74de-4f45-95cf-c9159d5a1f7a",
   "metadata": {},
   "source": [
    "A legend is an important part of complex plots with many different components. A great plot doesn't leave its audience guessing and providing accurate and \"easy on the eye\" information inside a legend is crucial to achieve this. \n",
    "\n",
    "Fortunately, you can control the legends of any plot using only the `legend` function with `plt.legend` inside a PyPlot API or `ax.legend` in OOP API. Calling the function with no parameters creates a legend with defaults:"
   ]
  },
  {
   "cell_type": "code",
   "execution_count": 145,
   "id": "1c15684b-d4f6-45f8-895b-c1c3d92f784a",
   "metadata": {},
   "outputs": [
    {
     "data": {
      "image/png": "[encoded data removed]",
      "text/plain": [
       "<Figure size 640x480 with 1 Axes>"
      ]
     },
     "metadata": {},
     "output_type": "display_data"
    }
   ],
   "source": [
    "x = np.linspace(0, 2, 100)\n",
    "\n",
    "fig, ax = plt.subplots()  # Create a figure and an axes.\n",
    "\n",
    "l1 = ax.plot(x, x, label=\"linear\")\n",
    "l2 = ax.plot(x, x ** 2, label=\"quadratic\")\n",
    "l3 = ax.plot(x, x ** 3, label=\"cubic\")\n",
    "\n",
    "ax.set_title(\"Simple Plot\")\n",
    "\n",
    "ax.legend()\n",
    "\n",
    "plt.show()"
   ]
  },
  {
   "cell_type": "markdown",
   "id": "0a0d08ee-6da2-49f0-9b68-03cb21c3a42e",
   "metadata": {},
   "source": [
    "However, as I have said, we want to customize every component to make them as beautiful as possible and we can rarely say so when it comes to Matplotlib defaults. \n",
    "\n",
    "Therefore, I suggest reading the Matplotlib documentation of the `legend` function ([link](https://matplotlib.org/stable/api/_as_gen/matplotlib.pyplot.legend.html)). However, I'd say the most important parameters of a legend are these:\n",
    "\n",
    "- `loc` - location of the legend\n",
    "- `bbox_to_anchor` - another location parameter, specific to the rounding box of the legend (read the docs for details)\n",
    "- Font properties - size, color, style\n",
    "- `ncol` - number of columns inside a legend when there are many elements\n",
    "\n",
    "You can also change these parameters after the legend is created. Simply extract it with `get_legend` and use the `getp`, `setp` functions. "
   ]
  },
  {
   "cell_type": "markdown",
   "id": "33238251-9fcb-40f0-b625-82bb9ef511cb",
   "metadata": {},
   "source": [
    "# cycler"
   ]
  },
  {
   "cell_type": "markdown",
   "id": "b6c638af-1789-479c-991f-8c89a7ce4f77",
   "metadata": {},
   "source": [
    "Do you ever wonder how Matplotlib changes its colors or *cylces* through different styles all by itself? \n",
    "\n",
    "The reason is that, under the hood, Matplotlib uses Python built-in objects called Cyclers:"
   ]
  },
  {
   "cell_type": "code",
   "execution_count": 154,
   "id": "6e8a1646-e123-4c01-9d72-e52fd5b67b7c",
   "metadata": {},
   "outputs": [
    {
     "data": {
      "text/html": [
       "<table><th>'arg1'</th><tr><td>1</td></tr><tr><td>2</td></tr><tr><td>3</td></tr><tr><td>4</td></tr></table>"
      ],
      "text/plain": [
       "cycler('arg1', [1, 2, 3, 4])"
      ]
     },
     "execution_count": 154,
     "metadata": {},
     "output_type": "execute_result"
    }
   ],
   "source": [
    "from cycler import cycler\n",
    "\n",
    "c1 = cycler(arg1=[1, 2, 3, 4])\n",
    "c1"
   ]
  },
  {
   "cell_type": "markdown",
   "id": "15e2b9d6-3f1d-46ce-af2b-bdcec87945e2",
   "metadata": {},
   "source": [
    "The `cycle` function is very versatile. It accepts any key-value parameter and creates a list of dictionaries:"
   ]
  },
  {
   "cell_type": "code",
   "execution_count": 156,
   "id": "c692ac87-6bde-4a5a-9803-b543ea9ce5d2",
   "metadata": {},
   "outputs": [
    {
     "name": "stdout",
     "output_type": "stream",
     "text": [
      "{'arg2': 'r'}\n",
      "{'arg2': 'g'}\n",
      "{'arg2': 'b'}\n",
      "{'arg2': 'a'}\n"
     ]
    }
   ],
   "source": [
    "c2 = cycler(arg2=list(\"rgba\"))\n",
    "\n",
    "for i in c2:\n",
    "    print(i)"
   ]
  },
  {
   "cell_type": "markdown",
   "id": "b277ab5e-2d3f-43c9-a036-b56d37df5f5a",
   "metadata": {},
   "source": [
    "Besides, you can combine multiple cyclers with the \"plus\" and \"multiply\" operators to get the index-to-index or exhaustive combination of parameters:"
   ]
  },
  {
   "cell_type": "code",
   "execution_count": 157,
   "id": "c30e79ae-db69-46c6-9dad-73591068123f",
   "metadata": {},
   "outputs": [
    {
     "name": "stdout",
     "output_type": "stream",
     "text": [
      "{'arg1': 1, 'arg2': 'r'}\n",
      "{'arg1': 2, 'arg2': 'g'}\n",
      "{'arg1': 3, 'arg2': 'b'}\n",
      "{'arg1': 4, 'arg2': 'a'}\n"
     ]
    }
   ],
   "source": [
    "for i in c1 + c2:\n",
    "    print(i)"
   ]
  },
  {
   "cell_type": "markdown",
   "id": "eefe3bdd-a901-4a4f-9471-1549da0f6793",
   "metadata": {},
   "source": [
    "Now that we know what cyclers are, we can create custom ones and pass them to our plots so Matplotlib only uses the parameters we specified. Below, we are creating 4 different line styles that allow Matplotlib to cycle through different line colors, styles and weights:"
   ]
  },
  {
   "cell_type": "code",
   "execution_count": 155,
   "id": "5de417cf-e86f-461e-9af5-fd812e4f5704",
   "metadata": {},
   "outputs": [],
   "source": [
    "line_prop_cycler = (\n",
    "    cycler(color=list(\"rgcy\"))\n",
    "    + cycler(ls=[\"-\", \"--\", \"-.\", \":\"])\n",
    "    + cycler(lw=[3, 6, 9, 12])\n",
    ")"
   ]
  },
  {
   "cell_type": "markdown",
   "id": "bd3aa34a-5713-484a-b94d-334391be729c",
   "metadata": {},
   "source": [
    "You can pass this custom cycler to a plot using the `set_prop_cycle` function of the axes object:"
   ]
  },
  {
   "cell_type": "code",
   "execution_count": 83,
   "id": "7c5777c7-abee-4937-b535-d2d5ec8973c1",
   "metadata": {},
   "outputs": [
    {
     "data": {
      "image/png": "[encoded data removed]",
      "text/plain": [
       "<Figure size 576x288 with 1 Axes>"
      ]
     },
     "metadata": {
      "needs_background": "light"
     },
     "output_type": "display_data"
    }
   ],
   "source": [
    "x = np.linspace(0, 2 * np.pi, 50)\n",
    "offsets = np.linspace(0, 2 * np.pi, 4, endpoint=False)\n",
    "yy = np.transpose([np.sin(x + phi) for phi in offsets])\n",
    "\n",
    "fig, ax = plt.subplots(figsize=(8, 4))\n",
    "\n",
    "ax.set_prop_cycle(line_prop_cycler)  # Set propcycle before plotting\n",
    "ax.plot(x, yy)\n",
    "\n",
    "plt.show();"
   ]
  },
  {
   "cell_type": "markdown",
   "id": "cf54d104-778d-49af-bcaa-7a71d5660d7e",
   "metadata": {},
   "source": [
    "As you can see, the lines of the sine waves are completely different. \n",
    "\n",
    "When creating cyclers, it is important that each of their parameters and values align with Matplotlib. For example, to create a cycler that iterates different colors, you should know what kind of colors Matplotlib allows for its plots. \n",
    "\n",
    "You can also add your custom cyclers to the `rcParams` dictionary. Here are the defaults:"
   ]
  },
  {
   "cell_type": "code",
   "execution_count": 158,
   "id": "936a4ea3-13b2-4c2f-9250-246a488a2f09",
   "metadata": {},
   "outputs": [
    {
     "data": {
      "text/html": [
       "<table><th>'color'</th><tr><td>'#1f77b4'</td></tr><tr><td>'#ff7f0e'</td></tr><tr><td>'#2ca02c'</td></tr><tr><td>'#d62728'</td></tr><tr><td>'#9467bd'</td></tr><tr><td>'#8c564b'</td></tr><tr><td>'#e377c2'</td></tr><tr><td>'#7f7f7f'</td></tr><tr><td>'#bcbd22'</td></tr><tr><td>'#17becf'</td></tr></table>"
      ],
      "text/plain": [
       "cycler('color', ['#1f77b4', '#ff7f0e', '#2ca02c', '#d62728', '#9467bd', '#8c564b', '#e377c2', '#7f7f7f', '#bcbd22', '#17becf'])"
      ]
     },
     "execution_count": 158,
     "metadata": {},
     "output_type": "execute_result"
    }
   ],
   "source": [
    "rcParams[\"axes.prop_cycle\"]"
   ]
  },
  {
   "cell_type": "markdown",
   "id": "e8fb9c7b-5cf6-426f-b2e9-38b40a284c58",
   "metadata": {},
   "source": [
    "# tick_params"
   ]
  },
  {
   "cell_type": "markdown",
   "id": "026ed9c3-299f-4cf5-94df-98b2ee842c1b",
   "metadata": {},
   "source": [
    "All the arguments I presented about legends holds true for axis ticks. The axis ticks should accurately convey the min and max of your data points, what units are they in and display several important check points for easy comparison between different parts of a plot. \n",
    "\n",
    "Just like legend, majority of tick properties can be controlled with `tick_params` ([docs link](https://matplotlib.org/stable/api/_as_gen/matplotlib.axes.Axes.tick_params.html)) function of the axes object. Here are a few of them as an example:"
   ]
  },
  {
   "cell_type": "markdown",
   "id": "4eb6de49-f1c5-4e66-ab9e-7a987f9b1211",
   "metadata": {},
   "source": [
    "```python\n",
    ">>> ax.tick_params()\n",
    "\n",
    "Parameters\n",
    "----------\n",
    "axis : {'x', 'y', 'both'}, default: 'both'\n",
    "    The axis to which the parameters are applied.\n",
    "which : {'major', 'minor', 'both'}, default: 'major'\n",
    "    The group of ticks to which the parameters are applied.\n",
    "reset : bool, default: False\n",
    "    Whether to reset the ticks to defaults before updating them.\n",
    "\n",
    "Other Parameters\n",
    "----------------\n",
    "direction : {'in', 'out', 'inout'}\n",
    "    Puts ticks inside the axes, outside the axes, or both.\n",
    "length : float\n",
    "    Tick length in points.\n",
    "width : float\n",
    "    Tick width in points.\n",
    "color : color\n",
    "    Tick color.\n",
    "```"
   ]
  },
  {
   "cell_type": "markdown",
   "id": "18537a0d-ba9c-4ba9-8d4b-edec049abf65",
   "metadata": {},
   "source": [
    "The first couple of parameters you should always specify is `axis` and `which`. Depending on these, the parameters you specify will apply to the X or Y axis ticks, and either to minor or major ticks. \n",
    "\n",
    "BTW, most of the time, minor ticks will not be visible in Matplotlib. To quickly turn them on, use the `minorticks_on` function on the axes object:"
   ]
  },
  {
   "cell_type": "code",
   "execution_count": 161,
   "id": "a6346021-20a4-4b7c-85b7-a678ebdb9fc0",
   "metadata": {},
   "outputs": [
    {
     "data": {
      "image/png": "[encoded data removed]",
      "text/plain": [
       "<Figure size 300x200 with 1 Axes>"
      ]
     },
     "metadata": {},
     "output_type": "display_data"
    }
   ],
   "source": [
    "fig, ax = plt.subplots(figsize=(3, 2))\n",
    "\n",
    "ax.minorticks_on()"
   ]
  },
  {
   "cell_type": "markdown",
   "id": "a100f004-803f-4f5c-9f2f-08acea9ba6ee",
   "metadata": {},
   "source": [
    "Here is a [great resource](https://e2eml.school/matplotlib_ticks.html) that shows more about the `tick_params` function."
   ]
  },
  {
   "cell_type": "markdown",
   "id": "75be8a0d-a00a-4e21-9696-a810ff98ceff",
   "metadata": {},
   "source": [
    "# Tickers"
   ]
  },
  {
   "cell_type": "markdown",
   "id": "96c198aa-5415-481b-aae0-6a16b7c86c9f",
   "metadata": {},
   "source": [
    "Sometimes, you don't want to go to the trouble of giving custom tick parameters. In that case, you can use many of the built-in Matplotlib's collection of tick parameter \"themes\" called tickers."
   ]
  },
  {
   "cell_type": "code",
   "execution_count": 84,
   "id": "af3da294-d58a-41c1-ad92-7d71bae009af",
   "metadata": {},
   "outputs": [],
   "source": [
    "from matplotlib import ticker"
   ]
  },
  {
   "cell_type": "code",
   "execution_count": 87,
   "id": "5d84e3ea-8581-4389-81bb-bf37490c882f",
   "metadata": {},
   "outputs": [
    {
     "data": {
      "text/plain": [
       "['AutoLocator',\n",
       " 'AutoMinorLocator',\n",
       " 'EngFormatter',\n",
       " 'FixedFormatter',\n",
       " 'FixedLocator',\n",
       " 'FormatStrFormatter',\n",
       " 'Formatter',\n",
       " 'FuncFormatter',\n",
       " 'IndexFormatter',\n",
       " 'IndexLocator',\n",
       " 'Integral',\n",
       " 'LinearLocator',\n",
       " 'Locator',\n",
       " 'LogFormatter',\n",
       " 'LogFormatterExponent',\n",
       " 'LogFormatterMathtext',\n",
       " 'LogFormatterSciNotation',\n",
       " 'LogLocator',\n",
       " 'LogitFormatter',\n",
       " 'LogitLocator',\n",
       " 'MaxNLocator',\n",
       " 'MultipleLocator',\n",
       " 'NullFormatter',\n",
       " 'NullLocator',\n",
       " 'OldAutoLocator',\n",
       " 'OldScalarFormatter',\n",
       " 'PercentFormatter',\n",
       " 'ScalarFormatter',\n",
       " 'StrMethodFormatter',\n",
       " 'SymmetricalLogLocator',\n",
       " 'TickHelper',\n",
       " '_DummyAxis',\n",
       " '_Edge_integer',\n",
       " '__all__',\n",
       " '__builtins__',\n",
       " '__cached__',\n",
       " '__doc__',\n",
       " '__file__',\n",
       " '__loader__',\n",
       " '__name__',\n",
       " '__package__',\n",
       " '__spec__',\n",
       " '_api',\n",
       " '_decade_greater',\n",
       " '_decade_greater_equal',\n",
       " '_decade_less',\n",
       " '_decade_less_equal',\n",
       " '_if_refresh_overridden_call_and_emit_deprec',\n",
       " '_log',\n",
       " 'cbook',\n",
       " 'is_close_to_int',\n",
       " 'is_decade',\n",
       " 'itertools',\n",
       " 'locale',\n",
       " 'logging',\n",
       " 'math',\n",
       " 'mpl',\n",
       " 'mtransforms',\n",
       " 'np',\n",
       " 'scale_range']"
      ]
     },
     "execution_count": 87,
     "metadata": {},
     "output_type": "execute_result"
    }
   ],
   "source": [
    "dir(ticker)"
   ]
  },
  {
   "cell_type": "markdown",
   "id": "1ebd63d0-4920-453f-99a4-b7d44abd8820",
   "metadata": {},
   "source": [
    "As you can see, there are many of them under the `tick` submodule. I suggest going through a few of them using the docs to get an idea of what each of them does. \n",
    "\n",
    "Generally, the ones with `Locator` in their titles control the location of the ticks. `Formatter`s lets you style the tick labels. Mostly, you will use a pair of locator and formatters based on your needs. Once you choose from the above list, you can pass them to your plot with:"
   ]
  },
  {
   "cell_type": "code",
   "execution_count": 162,
   "id": "4a4c0712-4a5b-4706-a386-af69f901c1bd",
   "metadata": {},
   "outputs": [],
   "source": [
    "from matplotlib.ticker import EngFormatter\n",
    "\n",
    "ax.xaxis.set_major_formatter(EngFormatter())"
   ]
  },
  {
   "cell_type": "markdown",
   "id": "6b53c907-1a43-4b9c-b5be-040b2fb18d61",
   "metadata": {},
   "source": [
    "Use either `xaxis` or `yaxis` properties of the axes object and call `set_major(minor)_formatter(locator)` functions, passing in the class name. Above, we are formatting the X Axis ticks using the Engineering notation. "
   ]
  },
  {
   "cell_type": "markdown",
   "id": "d7a6d400-fbac-466e-b438-c5444a7094c9",
   "metadata": {},
   "source": [
    "# Adding custom grids"
   ]
  },
  {
   "cell_type": "markdown",
   "id": "ef9fc6f1-cca6-48c7-87d8-9ea8cf461e7c",
   "metadata": {},
   "source": [
    "One of the subtlest and yet, most impactful elements of some plots are gridlines. \n",
    "\n",
    "A rule of thumb is that you need to create grids when the horizontal and vertical change in your plots would convey additional meaning to the context. For example, horizontal grids are useful when there are many bars in a plot or better differentiate between multiple line plots to make the locations of increases, intersections and differences more distinct. \n",
    "\n",
    "In Matplotlib, you can create and customize the grids using the `grid` function of the axes object. Here is an ugly vertical grid  as an example:"
   ]
  },
  {
   "cell_type": "code",
   "execution_count": 91,
   "id": "5330a233-9ff4-4e75-9aa4-68c0dc3cf8fa",
   "metadata": {},
   "outputs": [
    {
     "data": {
      "image/png": "[encoded data removed]",
      "text/plain": [
       "<Figure size 432x288 with 1 Axes>"
      ]
     },
     "metadata": {
      "needs_background": "light"
     },
     "output_type": "display_data"
    }
   ],
   "source": [
    "fig, ax = plt.subplots()\n",
    "\n",
    "ax.grid(axis=\"x\", linestyle=\":\", lw=3, color=\"r\")"
   ]
  },
  {
   "cell_type": "markdown",
   "id": "76728758-9846-46dc-96e5-32296b3e9020",
   "metadata": {},
   "source": [
    "I suggest you read [the docs](https://matplotlib.org/stable/api/_as_gen/matplotlib.pyplot.grid.html) for details."
   ]
  },
  {
   "cell_type": "markdown",
   "id": "0b8ecff3-8678-4fec-845b-dbe402986815",
   "metadata": {},
   "source": [
    "# plt.bar_label()"
   ]
  },
  {
   "cell_type": "markdown",
   "id": "5a01ab9f-7a98-427d-940a-cd966a937f6c",
   "metadata": {},
   "source": [
    "Bar charts are common during data analysis. Their most important aspect is the height of each bar, so, you need to make it easy for your audience to differentiate between each bar. This is where you need to use bar labels. \n",
    "\n",
    "You can do it manually using some arithmetic calculations to place a text annotation above each bar but there is a better way. The `bar_label` function accepts a BarContainer object as a parameter and automatically annotates each bar with its height. \n",
    "\n",
    "Here is a simple countplot with Seaborn:"
   ]
  },
  {
   "cell_type": "code",
   "execution_count": 120,
   "id": "316d7cf7-c9a7-4a96-843d-70b6cea4bcbe",
   "metadata": {
    "tags": []
   },
   "outputs": [
    {
     "data": {
      "image/png": "[encoded data removed]",
      "text/plain": [
       "<Figure size 432x288 with 1 Axes>"
      ]
     },
     "metadata": {
      "needs_background": "light"
     },
     "output_type": "display_data"
    }
   ],
   "source": [
    "import seaborn as sns\n",
    "\n",
    "diamonds = sns.load_dataset(\"diamonds\")\n",
    "\n",
    "ax = sns.countplot(diamonds[\"cut\"])"
   ]
  },
  {
   "cell_type": "markdown",
   "id": "1b403014-b974-4751-b077-ed74e9261e19",
   "metadata": {},
   "source": [
    "The `BarContainer` object gets added to a plot every time you create a plot using Seaborn or using functions like `ax.bar`. Then, you can retrieve this container object using the `containers` attribute of the axes object:"
   ]
  },
  {
   "cell_type": "code",
   "execution_count": 121,
   "id": "a3e66e01-05fc-4ed6-af7e-aef8d756ae38",
   "metadata": {},
   "outputs": [
    {
     "data": {
      "text/plain": [
       "[<BarContainer object of 5 artists>]"
      ]
     },
     "execution_count": 121,
     "metadata": {},
     "output_type": "execute_result"
    }
   ],
   "source": [
    "ax.containers"
   ]
  },
  {
   "cell_type": "markdown",
   "id": "89dcd658-62d3-43b6-bf03-ac4450c69aec",
   "metadata": {},
   "source": [
    "As you can see, there is a BarContainer object with 5 bars in the above list. Now, we just pass this object to bar label after creating the plot:"
   ]
  },
  {
   "cell_type": "code",
   "execution_count": 163,
   "id": "c8d2053c-3bb6-4ec4-b530-0adef2564a72",
   "metadata": {},
   "outputs": [
    {
     "data": {
      "image/png": "[encoded data removed]",
      "text/plain": [
       "<Figure size 640x480 with 1 Axes>"
      ]
     },
     "metadata": {},
     "output_type": "display_data"
    }
   ],
   "source": [
    "ax = sns.countplot(diamonds[\"cut\"])\n",
    "ax.bar_label(ax.containers[0], padding=1)\n",
    "ax.set_ylim(0, 25000)\n",
    "plt.show();"
   ]
  },
  {
   "cell_type": "markdown",
   "id": "72737327-a310-4fd9-860a-d8f0a08b522f",
   "metadata": {},
   "source": [
    "Note that you need to fix the axis limits when the bar labels get cramped. "
   ]
  },
  {
   "cell_type": "markdown",
   "id": "bc9ea60b-b3e0-404c-aa3e-c396f3ecc5f8",
   "metadata": {},
   "source": [
    "# zorder"
   ]
  },
  {
   "cell_type": "markdown",
   "id": "9ce724c3-48ac-4562-ad6d-98cf06b7bbc3",
   "metadata": {},
   "source": [
    "Finally, we have another subtle aspect of plots - order of display. This is an important concept when you are overlaying different plots. You need to make sure that each plot gets drawn on the canvas in proper order. To achieve this, you need the `zorder` parameter. \n",
    "\n",
    "Below, we are creating 3 lines (taken from the docs) with different zorders:"
   ]
  },
  {
   "cell_type": "code",
   "execution_count": 119,
   "id": "2b1dee3a-b35b-49ef-9c4f-70cec417fc79",
   "metadata": {},
   "outputs": [
    {
     "data": {
      "image/png": "[encoded data removed]",
      "text/plain": [
       "<Figure size 432x288 with 1 Axes>"
      ]
     },
     "metadata": {
      "needs_background": "light"
     },
     "output_type": "display_data"
    }
   ],
   "source": [
    "x = np.linspace(0, 7.5, 100)\n",
    "\n",
    "plt.plot(x, np.sin(x), label=\"zorder=2\", zorder=2)  # bottom\n",
    "plt.plot(x, np.sin(x + 0.5), label=\"zorder=3\", zorder=3)\n",
    "plt.axhline(0, label=\"zorder=2.5\", color=\"lightgrey\", zorder=2.5)\n",
    "\n",
    "plt.title(\"Custom order of elements\")\n",
    "\n",
    "l = plt.legend(loc=\"upper right\")\n",
    "l.set_zorder(2.5)  # legend between blue and orange line\n",
    "\n",
    "plt.show()"
   ]
  },
  {
   "cell_type": "markdown",
   "id": "f00af3bc-bc51-4831-8343-fb6a43e459cf",
   "metadata": {},
   "source": [
    "The effect is clearly visible. If you pay attention, the zorder of the legend is specified using the `set_zorder` function, which is also acceptable. Besides, you can change zorder of any object using the previous `plt.setp` function as well."
   ]
  },
  {
   "cell_type": "markdown",
   "id": "4302737f-486f-479e-ad47-3574f69e5f7a",
   "metadata": {},
   "source": [
    "# Summary"
   ]
  }
 ],
 "metadata": {
  "kernelspec": {
   "display_name": "medium_articles",
   "language": "python",
   "name": "medium_articles"
  },
  "language_info": {
   "codemirror_mode": {
    "name": "ipython",
    "version": 3
   },
   "file_extension": ".py",
   "mimetype": "text/x-python",
   "name": "python",
   "nbconvert_exporter": "python",
   "pygments_lexer": "ipython3",
   "version": "3.8.11"
  }
 },
 "nbformat": 4,
 "nbformat_minor": 5
}
