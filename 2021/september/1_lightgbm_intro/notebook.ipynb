{
 "cells": [
  {
   "cell_type": "markdown",
   "metadata": {},
   "source": [
    "# How to Beat the Heck Out of XGBoost with LightGBM: Comprehensive Tutorial\n",
    "## Not anymore, XGBoost, not anymore\n",
    "![](images/unsplash.jpg)\n",
    "<figcaption style=\"text-align: center;\">\n",
    "    <strong>\n",
    "        Photo by \n",
    "        <a href='https://unsplash.com/@grstocks?utm_source=unsplash&utm_medium=referral&utm_content=creditCopyText'>GR Stocks</a>\n",
    "        on \n",
    "        <a href='https://unsplash.com/s/photos/win?utm_source=unsplash&utm_medium=referral&utm_content=creditCopyText'>Unsplash.</a> All images are by the author unless specified otherwise.\n",
    "    </strong>\n",
    "</figcaption>"
   ]
  },
  {
   "cell_type": "markdown",
   "metadata": {},
   "source": [
    "# Introduction"
   ]
  },
  {
   "cell_type": "markdown",
   "metadata": {},
   "source": [
    "I am confused.\n",
    "\n",
    "So many people are drawn to XGBoost like a moth to a flame. Yes, it has seen some glorious days in prestigious competitions and is still the most widely-used ML library.\n",
    "\n",
    "But, it has been 4 years since XGBoost lost its top spot in terms of performance. Specifically, in 2017, Microsoft open-sourced LightGBM (Light Gradient Boosting Machine) that yields equally high accuracy with 2-10 times less training speed.\n",
    "\n",
    "This is a game-chaning advantage considering the ubiquity of massive, million-row datasets. There are other distinctions that tip the scales towards LightGBM and (fill in...)\n",
    "\n",
    "By the end of this post, you will learn:\n",
    "- how to develop LightGBM models for classification and regression tasks\n",
    "- learn to implement successful cross-validation strategy in LightGBM\n",
    "- the most critical hyperparameters of LightGBM and how to tune them using Optuna"
   ]
  },
  {
   "cell_type": "markdown",
   "metadata": {},
   "source": [
    "# XGBoost vs. LightGBM"
   ]
  },
  {
   "cell_type": "markdown",
   "metadata": {},
   "source": []
  },
  {
   "cell_type": "markdown",
   "metadata": {},
   "source": [
    "# Model initialization, objectives and metrics"
   ]
  },
  {
   "cell_type": "markdown",
   "metadata": {},
   "source": [
    "# Cross-validation with LightGBM"
   ]
  },
  {
   "cell_type": "markdown",
   "metadata": {},
   "source": [
    "# Most important LightGBM hyperparameters"
   ]
  },
  {
   "cell_type": "markdown",
   "metadata": {},
   "source": [
    "# LightGBM hyperparameter tuning with Optuna"
   ]
  }
 ],
 "metadata": {
  "kernelspec": {
   "display_name": "medium_articles",
   "language": "python",
   "name": "medium_articles"
  },
  "language_info": {
   "codemirror_mode": {
    "name": "ipython",
    "version": 3
   },
   "file_extension": ".py",
   "mimetype": "text/x-python",
   "name": "python",
   "nbconvert_exporter": "python",
   "pygments_lexer": "ipython3",
   "version": "3.8.5"
  }
 },
 "nbformat": 4,
 "nbformat_minor": 4
}
