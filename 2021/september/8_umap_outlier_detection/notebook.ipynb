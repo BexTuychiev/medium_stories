{
 "cells": [
  {
   "cell_type": "markdown",
   "id": "64c0a716-81f9-4b71-9bb7-7fe92ffc583e",
   "metadata": {
    "tags": []
   },
   "source": [
    "# How to Perform N Times Faster Outlier Detection in UMAP (Python) on Million-row Datasets\n",
    "## SUBTITLE TODO\n",
    "![](images/pixabay.jpg)\n",
    "<figcaption style=\"text-align: center;\">\n",
    "    <strong>\n",
    "        Photo by \n",
    "        <a href='https://pixabay.com/users/publicdomainpictures-14/?utm_source=link-attribution&utm_medium=referral&utm_campaign=image&utm_content=2205'>PublicDomainPictures</a>\n",
    "        on \n",
    "        <a href='https://pixabay.com/?utm_source=link-attribution&utm_medium=referral&utm_campaign=image&utm_content=2205'></a>\n",
    "    </strong>\n",
    "</figcaption>"
   ]
  },
  {
   "cell_type": "markdown",
   "id": "7e8bbdef-0baf-4843-86b3-5f6f73811e7a",
   "metadata": {},
   "source": [
    "# Setup"
   ]
  },
  {
   "cell_type": "code",
   "execution_count": 1,
   "id": "f9905bd8-b983-4665-889b-09f73f7ebe8f",
   "metadata": {},
   "outputs": [
    {
     "data": {
      "text/html": [
       "<style type='text/css'>\n",
       ".datatable table.frame { margin-bottom: 0; }\n",
       ".datatable table.frame thead { border-bottom: none; }\n",
       ".datatable table.frame tr.coltypes td {  color: #FFFFFF;  line-height: 6px;  padding: 0 0.5em;}\n",
       ".datatable .bool    { background: #DDDD99; }\n",
       ".datatable .object  { background: #565656; }\n",
       ".datatable .int     { background: #5D9E5D; }\n",
       ".datatable .float   { background: #4040CC; }\n",
       ".datatable .str     { background: #CC4040; }\n",
       ".datatable .time    { background: #40CC40; }\n",
       ".datatable .row_index {  background: var(--jp-border-color3);  border-right: 1px solid var(--jp-border-color0);  color: var(--jp-ui-font-color3);  font-size: 9px;}\n",
       ".datatable .frame tbody td { text-align: left; }\n",
       ".datatable .frame tr.coltypes .row_index {  background: var(--jp-border-color0);}\n",
       ".datatable th:nth-child(2) { padding-left: 12px; }\n",
       ".datatable .hellipsis {  color: var(--jp-cell-editor-border-color);}\n",
       ".datatable .vellipsis {  background: var(--jp-layout-color0);  color: var(--jp-cell-editor-border-color);}\n",
       ".datatable .na {  color: var(--jp-cell-editor-border-color);  font-size: 80%;}\n",
       ".datatable .sp {  opacity: 0.25;}\n",
       ".datatable .footer { font-size: 9px; }\n",
       ".datatable .frame_dimensions {  background: var(--jp-border-color3);  border-top: 1px solid var(--jp-border-color0);  color: var(--jp-ui-font-color3);  display: inline-block;  opacity: 0.6;  padding: 1px 10px 1px 5px;}\n",
       "</style>\n"
      ],
      "text/plain": [
       "<IPython.core.display.HTML object>"
      ]
     },
     "metadata": {},
     "output_type": "display_data"
    }
   ],
   "source": [
    "import logging\n",
    "import time\n",
    "import warnings\n",
    "\n",
    "import catboost as cb\n",
    "import datatable as dt\n",
    "import joblib\n",
    "import lightgbm as lgbm\n",
    "import matplotlib.pyplot as plt\n",
    "import numpy as np\n",
    "import optuna\n",
    "import pandas as pd\n",
    "import seaborn as sns\n",
    "import xgboost as xgb\n",
    "from optuna.samplers import TPESampler\n",
    "from sklearn.compose import (\n",
    "    ColumnTransformer,\n",
    "    make_column_selector,\n",
    "    make_column_transformer,\n",
    ")\n",
    "from sklearn.impute import SimpleImputer\n",
    "from sklearn.metrics import log_loss, mean_squared_error\n",
    "from sklearn.model_selection import (\n",
    "    KFold,\n",
    "    StratifiedKFold,\n",
    "    cross_validate,\n",
    "    train_test_split,\n",
    ")\n",
    "from sklearn.pipeline import Pipeline, make_pipeline\n",
    "from sklearn.preprocessing import OneHotEncoder, OrdinalEncoder\n",
    "\n",
    "logging.basicConfig(\n",
    "    format=\"%(asctime)s - %(message)s\", datefmt=\"%d-%b-%y %H:%M:%S\", level=logging.INFO\n",
    ")\n",
    "optuna.logging.set_verbosity(optuna.logging.WARNING)\n",
    "warnings.filterwarnings(\"ignore\")\n",
    "pd.set_option(\"float_format\", \"{:.5f}\".format)"
   ]
  },
  {
   "cell_type": "markdown",
   "id": "6d26cb35-13f8-4002-b727-abfaeb30fd79",
   "metadata": {
    "tags": []
   },
   "source": [
    "# Introduction"
   ]
  },
  {
   "cell_type": "markdown",
   "id": "56a8f3fb-3db8-47c4-9169-d195ab6d3101",
   "metadata": {},
   "source": [
    "We've all used those simple techniques - plot a scatterplot or a KDE, and the data points farthest from the group are outliers. Now, tell me - how would you use these methods if you were to find outliers in say, 100-dimensional datasets? Right off the bat, visual outlier detection methods are out of the question. So, fancy machine learning algorithms like Local Outlier Factor or Isolation Forest come to mind, which are fairly effectively against outliers that lie in high-dimensional data. \n",
    "\n",
    "But there are many caveats to using ML methods to detect outliers. A method called Elliptical Envelope uses a covariance estimation but assumes the data is normally distributed (which is rarely the case). Local Outlier Factor is much faster than Isolation Forest at the risk of lower accuracy. \n",
    "\n",
    "So, how can we excel at both speed and accuracy at outlier detection when dealing with massive, million-row datasets that are so common? That's where UMAP comes in."
   ]
  },
  {
   "cell_type": "markdown",
   "id": "bec6f913-cce9-4bc7-adf2-d05a78bc5ff0",
   "metadata": {},
   "source": [
    "# What is UMAP?"
   ]
  },
  {
   "cell_type": "markdown",
   "id": "ab12c63f-1970-4b7c-89f6-26d6449540d4",
   "metadata": {},
   "source": [
    "UMAP (Uniform Manifold Approximation & Projection) is a dimensionality reduction algorithm, introduced in 2018. It combines the best features of PCA and tSNE - it can scale to large datasets easily and compete with PCA in terms of speed, and project data to low dimensional space much more effectively and beautifully than tSNE:\n",
    "\n",
    "<p float=\"left\">\n",
    "  <img src=\"https://miro.medium.com/max/1250/1*OMXhwgFxgwn5fLEkGrV_Pw.png\" width=\"300\" height=\"300\"/>\n",
    "  <img src=\"https://miro.medium.com/max/3750/1*GEeKKJET7WzzrGcWhL3H-A.png\" width=\"300\" height=\"300\"/> \n",
    "  <img src=\"https://miro.medium.com/max/1250/1*rlfn-CugxKhmZ8G7sLJQJQ.png\" width=\"300\" height=\"300\"/>\n",
    "</p>"
   ]
  },
  {
   "cell_type": "markdown",
   "id": "d9484083-8247-45ae-ae3d-1baa3a0bb5b7",
   "metadata": {},
   "source": [
    "The UMAP python package has a familiar Scikit-learn API. Below is an example projecting the Kaggle TPS September Competition to 2D:"
   ]
  },
  {
   "cell_type": "code",
   "execution_count": 2,
   "id": "e33cbde8-4334-481b-aa55-3e64a77e21b7",
   "metadata": {},
   "outputs": [
    {
     "data": {
      "text/plain": [
       "(957919, 120)"
      ]
     },
     "execution_count": 2,
     "metadata": {},
     "output_type": "execute_result"
    }
   ],
   "source": [
    "import datatable as dt\n",
    "import pandas as pd\n",
    "import umap  # pip install umap-learn\n",
    "\n",
    "tps = dt.fread(\"data/train.csv\").to_pandas()\n",
    "tps.shape"
   ]
  },
  {
   "cell_type": "markdown",
   "id": "fe4d87d3-d6e0-4578-89f1-4aaaef771c6a",
   "metadata": {},
   "source": [
    "```python\n",
    "X, y = tps.drop(\"claim\", axis=1), tps[[\"claim\"]].values.flatten()\n",
    "\n",
    "# Initialize the manifold\n",
    "manifold = umap.UMAP(n_components=2)\n",
    "manifold.fit(X, y)\n",
    "\n",
    "X_2d = manifold.transform(X)\n",
    "```"
   ]
  },
  {
   "cell_type": "markdown",
   "id": "3d8e38c0-04fe-427a-8cf4-1ef09831c55a",
   "metadata": {},
   "source": [
    "UMAP is designed so that whatever dimension you project the data to, it reserves as much variance and topological structure of the data as possible. But what does it have to do with outlier detection?\n",
    "\n",
    "Well, since we know that UMAP preserves all the pecularities and attributes of the dataset even in lower dimensions, we can use it to first project the data to a lower space and then use any other outlier detection algorithm much faster! In the coming sections, we will look at an example of this using the above TPS September data."
   ]
  },
  {
   "cell_type": "markdown",
   "id": "e37a9012-b8bc-4fef-ae3a-98a87eb5b90a",
   "metadata": {},
   "source": [
    "> If you want to learn more about UMAP and its awesome features, I have covered it in-depth in a previous article:\n",
    "\n",
    "https://towardsdatascience.com/beginners-guide-to-umap-for-reducing-dimensionality-and-visualizing-100-dimensional-datasets-ff5590fb17be\n"
   ]
  },
  {
   "cell_type": "markdown",
   "id": "227a924d-d148-45f4-8e14-8cd5062bfc48",
   "metadata": {},
   "source": [
    "# Setting a baseline with pure Isolation Forest"
   ]
  },
  {
   "cell_type": "markdown",
   "id": "2673874f-204b-4500-9202-c75c5ac2f920",
   "metadata": {},
   "source": [
    "Before we move on, let's establish a baseline performance with pure Isolation Forest algorithm on the whole data:"
   ]
  },
  {
   "cell_type": "code",
   "execution_count": 3,
   "id": "aeb13bed-ee2e-48d8-8750-f53ba7246c29",
   "metadata": {},
   "outputs": [],
   "source": [
    "from sklearn.ensemble import IsolationForest\n",
    "\n",
    "tps = dt.fread(\"data/train.csv\").to_pandas()\n",
    "X, y = tps.drop(\"claim\", axis=1), tps[[\"claim\"]].values.flatten()"
   ]
  },
  {
   "cell_type": "markdown",
   "id": "b659e5b2-ab9b-4677-94cd-a6868a450203",
   "metadata": {},
   "source": [
    "Right before we fit Isolation Forest, we will impute missing values with the mean:"
   ]
  },
  {
   "cell_type": "code",
   "execution_count": 4,
   "id": "8fb6d680-3efe-4b82-934a-880667bc7128",
   "metadata": {},
   "outputs": [],
   "source": [
    "from sklearn.impute import SimpleImputer\n",
    "\n",
    "# Impute\n",
    "X_imputed = SimpleImputer().fit_transform(X.copy())"
   ]
  },
  {
   "cell_type": "code",
   "execution_count": 5,
   "id": "8d015fcb-fdd4-4e26-9127-b791c48e686f",
   "metadata": {},
   "outputs": [
    {
     "name": "stdout",
     "output_type": "stream",
     "text": [
      "Wall time: 44min 33s\n"
     ]
    }
   ],
   "source": [
    "%%time\n",
    "\n",
    "# Init Isolation Forest\n",
    "iso = IsolationForest(n_estimators=3000, n_jobs=9)\n",
    "labels = iso.fit_predict(X_imputed)"
   ]
  },
  {
   "cell_type": "code",
   "execution_count": 10,
   "id": "df99fd7f-c035-4c7b-ba01-76317cac3d9f",
   "metadata": {},
   "outputs": [
    {
     "data": {
      "text/plain": [
       "2713"
      ]
     },
     "execution_count": 10,
     "metadata": {},
     "output_type": "execute_result"
    }
   ],
   "source": [
    "np.sum(labels == -1)"
   ]
  },
  {
   "cell_type": "markdown",
   "id": "4b1c2570-3c4e-4a36-92a7-ba669496a4a0",
   "metadata": {
    "tags": []
   },
   "source": [
    "Event though powerful, Isolation Forest has only a few parameters to tune. The most important one is `n_estimators`, which controls the number of trees to be built. We are setting to 3000 considering the dataset size.\n",
    "\n",
    "After waiting for about 45 minutes, we discover that Isolation Forest found 2713 outliers in the data. Now, let's perform the same operation after projecting the data with UMAP."
   ]
  }
 ],
 "metadata": {
  "kernelspec": {
   "display_name": "medium_articles",
   "language": "python",
   "name": "medium_articles"
  },
  "language_info": {
   "codemirror_mode": {
    "name": "ipython",
    "version": 3
   },
   "file_extension": ".py",
   "mimetype": "text/x-python",
   "name": "python",
   "nbconvert_exporter": "python",
   "pygments_lexer": "ipython3",
   "version": "3.8.11"
  }
 },
 "nbformat": 4,
 "nbformat_minor": 5
}
