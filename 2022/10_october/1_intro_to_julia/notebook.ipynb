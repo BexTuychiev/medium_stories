{
 "cells": [
  {
   "cell_type": "markdown",
   "id": "4a8f5eed-1632-4d77-90cb-b4eeb5e9e8ea",
   "metadata": {},
   "source": [
    "# Massive Introduction to Julia Programming For Beginners"
   ]
  },
  {
   "cell_type": "markdown",
   "id": "9fb4bfd2-5b64-41aa-ac39-1492e4cb3e01",
   "metadata": {},
   "source": [
    "## Introduction"
   ]
  },
  {
   "cell_type": "markdown",
   "id": "89d37329-8d98-47c2-a1e3-7d4e86030df7",
   "metadata": {},
   "source": [
    "## Why learn Julia?"
   ]
  },
  {
   "cell_type": "markdown",
   "id": "d59a4238-61a2-4685-a2b2-8e00d08b2dd7",
   "metadata": {},
   "source": [
    "## How to install and run Julia?"
   ]
  },
  {
   "cell_type": "markdown",
   "id": "4c74ece7-6bab-4dd7-931e-a7c9a3b2e11d",
   "metadata": {},
   "source": [
    "Installing Julia is straightforward. Download the installer specific to your operating system on this [page](https://julialang.org/downloads/) of the Julia website and check the box that adds Julia to the system `PATH`. If you type `julia` in the command-line and you get the following output, everything is running OK."
   ]
  },
  {
   "cell_type": "markdown",
   "id": "40044324-9736-4e7c-be98-3f838d413789",
   "metadata": {},
   "source": [
    "![](images/cli_julia.gif)"
   ]
  },
  {
   "cell_type": "markdown",
   "id": "535ecf7a-aced-40b0-b578-01bc7ea48df3",
   "metadata": {},
   "source": [
    "Both PyCharm and VSCode offers Julia plugins that supports code highlighting and debugging. But, we data scientists usually prefer to tinker around in Jupyter Lab, so here is how you can create a Julia kernel in Jupyter lab.\n",
    "\n",
    "Go to the terminal and enter these two lines:\n",
    "\n",
    "```julia\n",
    "using Pkg\n",
    "Pkg.add(\"IJulia\")\n",
    "```"
   ]
  },
  {
   "cell_type": "markdown",
   "id": "b4fb5436-eef5-48fa-94b7-e63a42877ca7",
   "metadata": {},
   "source": [
    "The code adds the IJulia package to the Julia installation on the system. Restart any running Jupyter Lab sessions and you should see the Julia option in the Launcher.\n",
    "\n",
    "![](images/launcher.gif)"
   ]
  },
  {
   "cell_type": "markdown",
   "id": "abe6a281-93d5-437d-a0b2-a4ad677f58f1",
   "metadata": {},
   "source": [
    "## Basic Julia syntax"
   ]
  },
  {
   "cell_type": "markdown",
   "id": "302404fa-b0d7-4ee3-bbfe-106a9fa67a3a",
   "metadata": {},
   "source": [
    "This section will cover the fundamentals of Julia syntax, including variables, data types, operators, vectors and so on."
   ]
  },
  {
   "cell_type": "markdown",
   "id": "b9d30fa6-e347-4945-aa2d-87817cb4edfb",
   "metadata": {
    "jp-MarkdownHeadingCollapsed": true,
    "tags": []
   },
   "source": [
    "### Operators"
   ]
  },
  {
   "cell_type": "markdown",
   "id": "a66da0bd-34d2-47a7-8856-64f9aa53fd1c",
   "metadata": {},
   "source": [
    "In programming, there are special characters called operators that represent specific mathematical or logical process. We will see the most-commonly used Julia operators one-by-one. \n",
    "\n",
    "Here are addition, subtraction, multiplication and division."
   ]
  },
  {
   "cell_type": "code",
   "execution_count": 1,
   "id": "c96b6096-3a3d-4f28-8db1-f974153529f7",
   "metadata": {
    "execution": {
     "iopub.execute_input": "2022-10-25T10:36:58.295000+05:00",
     "iopub.status.busy": "2022-10-25T10:36:57.537000+05:00",
     "iopub.status.idle": "2022-10-25T10:36:59.233000+05:00",
     "shell.execute_reply": "2022-10-25T10:36:59.218000+05:00"
    }
   },
   "outputs": [
    {
     "data": {
      "text/plain": [
       "110"
      ]
     },
     "execution_count": 1,
     "metadata": {},
     "output_type": "execute_result"
    }
   ],
   "source": [
    "37 + 73"
   ]
  },
  {
   "cell_type": "code",
   "execution_count": 2,
   "id": "3708d5d5-2f4c-4950-80e9-44e77be75ac0",
   "metadata": {
    "execution": {
     "iopub.execute_input": "2022-10-25T10:37:12.784000+05:00",
     "iopub.status.busy": "2022-10-25T10:37:12.784000+05:00",
     "iopub.status.idle": "2022-10-25T10:37:12.785000+05:00",
     "shell.execute_reply": "2022-10-25T10:37:12.785000+05:00"
    }
   },
   "outputs": [
    {
     "data": {
      "text/plain": [
       "-2"
      ]
     },
     "execution_count": 2,
     "metadata": {},
     "output_type": "execute_result"
    }
   ],
   "source": [
    "17 - 19"
   ]
  },
  {
   "cell_type": "code",
   "execution_count": 3,
   "id": "b67d21ca-bad5-440c-8cc3-66e46392091c",
   "metadata": {
    "execution": {
     "iopub.execute_input": "2022-10-25T10:37:19.800000+05:00",
     "iopub.status.busy": "2022-10-25T10:37:19.800000+05:00",
     "iopub.status.idle": "2022-10-25T10:37:19.801000+05:00",
     "shell.execute_reply": "2022-10-25T10:37:19.801000+05:00"
    }
   },
   "outputs": [
    {
     "data": {
      "text/plain": [
       "957"
      ]
     },
     "execution_count": 3,
     "metadata": {},
     "output_type": "execute_result"
    }
   ],
   "source": [
    "29 * 33"
   ]
  },
  {
   "cell_type": "code",
   "execution_count": 4,
   "id": "546b54c1-d472-4771-acbc-cbd0cadd49ae",
   "metadata": {
    "execution": {
     "iopub.execute_input": "2022-10-25T10:37:32.312000+05:00",
     "iopub.status.busy": "2022-10-25T10:37:32.312000+05:00",
     "iopub.status.idle": "2022-10-25T10:37:32.473000+05:00",
     "shell.execute_reply": "2022-10-25T10:37:32.473000+05:00"
    }
   },
   "outputs": [
    {
     "data": {
      "text/plain": [
       "3.142857142857143"
      ]
     },
     "execution_count": 4,
     "metadata": {},
     "output_type": "execute_result"
    }
   ],
   "source": [
    "22 / 7"
   ]
  },
  {
   "cell_type": "markdown",
   "id": "edbe230a-8d96-4030-9c19-e91cd94292fb",
   "metadata": {
    "execution": {
     "iopub.execute_input": "2022-10-25T10:38:14.599000+05:00",
     "iopub.status.busy": "2022-10-25T10:38:14.599000+05:00",
     "iopub.status.idle": "2022-10-25T10:38:14.789000+05:00",
     "shell.execute_reply": "2022-10-25T10:38:14.788000+05:00"
    }
   },
   "source": [
    "Raising numbers to arbitrary power with the `^` operator:"
   ]
  },
  {
   "cell_type": "code",
   "execution_count": 7,
   "id": "b3d88819-eafb-4d0d-8c21-fbe5355e93f0",
   "metadata": {
    "execution": {
     "iopub.execute_input": "2022-10-25T10:39:45.993000+05:00",
     "iopub.status.busy": "2022-10-25T10:39:45.993000+05:00",
     "iopub.status.idle": "2022-10-25T10:39:46.032000+05:00",
     "shell.execute_reply": "2022-10-25T10:39:46.032000+05:00"
    },
    "tags": []
   },
   "outputs": [
    {
     "data": {
      "text/plain": [
       "9.877551020408163"
      ]
     },
     "execution_count": 7,
     "metadata": {},
     "output_type": "execute_result"
    }
   ],
   "source": [
    "(22 / 7) ^ 2"
   ]
  },
  {
   "cell_type": "code",
   "execution_count": 9,
   "id": "fd94b0e3-734c-4e30-8fa6-d7ab8c9404c9",
   "metadata": {
    "execution": {
     "iopub.execute_input": "2022-10-25T10:39:59.898000+05:00",
     "iopub.status.busy": "2022-10-25T10:39:59.897000+05:00",
     "iopub.status.idle": "2022-10-25T10:39:59.898000+05:00",
     "shell.execute_reply": "2022-10-25T10:39:59.898000+05:00"
    },
    "tags": []
   },
   "outputs": [
    {
     "data": {
      "text/plain": [
       "-343"
      ]
     },
     "execution_count": 9,
     "metadata": {},
     "output_type": "execute_result"
    }
   ],
   "source": [
    "-7 ^ 3"
   ]
  },
  {
   "cell_type": "code",
   "execution_count": 10,
   "id": "e9a5e008-8110-4bf2-95e2-d530ed596ae0",
   "metadata": {
    "execution": {
     "iopub.execute_input": "2022-10-25T10:40:43.615000+05:00",
     "iopub.status.busy": "2022-10-25T10:40:43.615000+05:00",
     "iopub.status.idle": "2022-10-25T10:40:43.624000+05:00",
     "shell.execute_reply": "2022-10-25T10:40:43.624000+05:00"
    }
   },
   "outputs": [
    {
     "data": {
      "text/plain": [
       "1.633760365638372"
      ]
     },
     "execution_count": 10,
     "metadata": {},
     "output_type": "execute_result"
    }
   ],
   "source": [
    "(355 / 133) ^ 0.5"
   ]
  },
  {
   "cell_type": "markdown",
   "id": "4b0c2bed-6b73-4228-9bb0-20d1b3c83edb",
   "metadata": {},
   "source": [
    "You can also perform backwards division with a backslash:"
   ]
  },
  {
   "cell_type": "code",
   "execution_count": 11,
   "id": "f338dd2e-c4dc-46e0-8454-555286227275",
   "metadata": {
    "execution": {
     "iopub.execute_input": "2022-10-25T10:41:57.063000+05:00",
     "iopub.status.busy": "2022-10-25T10:41:57.062000+05:00",
     "iopub.status.idle": "2022-10-25T10:41:57.066000+05:00",
     "shell.execute_reply": "2022-10-25T10:41:57.066000+05:00"
    }
   },
   "outputs": [
    {
     "data": {
      "text/plain": [
       "0.0"
      ]
     },
     "execution_count": 11,
     "metadata": {},
     "output_type": "execute_result"
    }
   ],
   "source": [
    "5 \\ 0"
   ]
  },
  {
   "cell_type": "markdown",
   "id": "239da810-d6e9-4ad8-8f44-a48027120150",
   "metadata": {},
   "source": [
    "The above is equal to `0 / 5`. "
   ]
  },
  {
   "cell_type": "markdown",
   "id": "5c05eea7-d586-4aa7-9b7a-a07b0345a55d",
   "metadata": {},
   "source": [
    "To get a remainder of a division, use the `%` operator:"
   ]
  },
  {
   "cell_type": "code",
   "execution_count": 12,
   "id": "afb1c605-9a0c-43d2-b49a-93e49ff03c19",
   "metadata": {
    "execution": {
     "iopub.execute_input": "2022-10-25T10:42:48.902000+05:00",
     "iopub.status.busy": "2022-10-25T10:42:48.902000+05:00",
     "iopub.status.idle": "2022-10-25T10:42:48.906000+05:00",
     "shell.execute_reply": "2022-10-25T10:42:48.906000+05:00"
    }
   },
   "outputs": [
    {
     "data": {
      "text/plain": [
       "16"
      ]
     },
     "execution_count": 12,
     "metadata": {},
     "output_type": "execute_result"
    }
   ],
   "source": [
    "98456 % 23"
   ]
  },
  {
   "cell_type": "markdown",
   "id": "c910c454-ee5e-4b3d-a4fc-02d1c4b7ac95",
   "metadata": {},
   "source": [
    "### Variables"
   ]
  },
  {
   "cell_type": "markdown",
   "id": "cb7cbbae-1398-42fd-817b-5c506a36aeda",
   "metadata": {},
   "source": [
    "In programming, we use variables to store information. Variables makes it easy to refer to a piece information via a name. For example, let's store the number 73 into a variable called `a`:"
   ]
  },
  {
   "cell_type": "code",
   "execution_count": 15,
   "id": "72fa9211-0730-4abc-b46f-1e28c870cb0b",
   "metadata": {
    "execution": {
     "iopub.execute_input": "2022-10-25T10:44:23.677000+05:00",
     "iopub.status.busy": "2022-10-25T10:44:23.677000+05:00",
     "iopub.status.idle": "2022-10-25T10:44:23.690000+05:00",
     "shell.execute_reply": "2022-10-25T10:44:23.690000+05:00"
    }
   },
   "outputs": [
    {
     "data": {
      "text/plain": [
       "73"
      ]
     },
     "execution_count": 15,
     "metadata": {},
     "output_type": "execute_result"
    }
   ],
   "source": [
    "a = 73"
   ]
  },
  {
   "cell_type": "markdown",
   "id": "b0b031f6-561a-41f9-a4f6-ec32cb4943b5",
   "metadata": {},
   "source": [
    "All Julia operators and functions work the same on variables."
   ]
  },
  {
   "cell_type": "code",
   "execution_count": 17,
   "id": "3153093a-d3c5-4a25-9f7c-185e77be29d5",
   "metadata": {
    "execution": {
     "iopub.execute_input": "2022-10-25T10:45:01.808000+05:00",
     "iopub.status.busy": "2022-10-25T10:45:01.808000+05:00",
     "iopub.status.idle": "2022-10-25T10:45:01.809000+05:00",
     "shell.execute_reply": "2022-10-25T10:45:01.809000+05:00"
    },
    "tags": []
   },
   "outputs": [
    {
     "data": {
      "text/plain": [
       "2701"
      ]
     },
     "execution_count": 17,
     "metadata": {},
     "output_type": "execute_result"
    }
   ],
   "source": [
    "a = 73\n",
    "b = 37\n",
    "\n",
    "a * b"
   ]
  },
  {
   "cell_type": "markdown",
   "id": "345d2b0d-a116-4932-a9d9-bf8e278b1e96",
   "metadata": {},
   "source": [
    "You can use any ASCII character or number in variable names including underscores. However, there are certain conventions in naming them:\n",
    "- Variable names are in lower case.\n",
    "- Word separation is indicated with an underscore, i.e. snake_case.\n",
    "- Names cannot start with a number."
   ]
  },
  {
   "cell_type": "markdown",
   "id": "cf00232f-848b-49f1-81ae-0be27e09b704",
   "metadata": {},
   "source": [
    "### Data types"
   ]
  },
  {
   "cell_type": "markdown",
   "id": "84713b1b-9fdf-4786-99d9-a441c9ad195e",
   "metadata": {},
   "source": [
    "### Vectors"
   ]
  },
  {
   "cell_type": "markdown",
   "id": "02f9cb35-cd25-430f-bc9a-c51cfda04f45",
   "metadata": {},
   "source": [
    "### Math functions"
   ]
  },
  {
   "cell_type": "markdown",
   "id": "1657ee72-60b6-4ace-9da5-3fd03bef1d10",
   "metadata": {},
   "source": [
    "### Working with characters and strings"
   ]
  },
  {
   "cell_type": "markdown",
   "id": "7df50df1-ad8e-4f08-a5c3-8f01c9b1f4b5",
   "metadata": {},
   "source": [
    "## Conditional statements"
   ]
  },
  {
   "cell_type": "markdown",
   "id": "c56bc34e-77ad-4161-8535-87976115b0ef",
   "metadata": {},
   "source": [
    "## How to use loops"
   ]
  },
  {
   "cell_type": "markdown",
   "id": "52ef46da-a6d6-405e-9f1a-d2034f8b7f93",
   "metadata": {},
   "source": [
    "## Installing packages on Julia"
   ]
  },
  {
   "cell_type": "markdown",
   "id": "89833b84-f924-4212-a901-1606959ad2a6",
   "metadata": {},
   "source": [
    "## Getting started with DataFrames"
   ]
  },
  {
   "cell_type": "markdown",
   "id": "6818bdad-e72f-48f3-9fdf-68799b22b8a1",
   "metadata": {},
   "source": [
    "### Importing CSV files"
   ]
  },
  {
   "cell_type": "markdown",
   "id": "79cce355-cf27-4010-a3d0-6243f66495eb",
   "metadata": {},
   "source": [
    "### Simple data manipulation and visualization"
   ]
  },
  {
   "cell_type": "markdown",
   "id": "54a9c7cb-a3f6-4198-9f22-2c5ba08aa6d8",
   "metadata": {},
   "source": [
    "## Learn more about Julia"
   ]
  }
 ],
 "metadata": {
  "kernelspec": {
   "display_name": "Julia 1.4.1",
   "language": "julia",
   "name": "julia-1.4"
  },
  "language_info": {
   "file_extension": ".jl",
   "mimetype": "application/julia",
   "name": "julia",
   "version": "1.4.1"
  }
 },
 "nbformat": 4,
 "nbformat_minor": 5
}
