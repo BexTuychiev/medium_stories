{
 "cells": [
  {
   "cell_type": "markdown",
   "id": "4a8f5eed-1632-4d77-90cb-b4eeb5e9e8ea",
   "metadata": {},
   "source": [
    "# Massive Introduction to Julia Programming For Beginners"
   ]
  },
  {
   "cell_type": "markdown",
   "id": "9fb4bfd2-5b64-41aa-ac39-1492e4cb3e01",
   "metadata": {},
   "source": [
    "## Introduction"
   ]
  },
  {
   "cell_type": "markdown",
   "id": "89d37329-8d98-47c2-a1e3-7d4e86030df7",
   "metadata": {},
   "source": [
    "## Why learn Julia?"
   ]
  },
  {
   "cell_type": "markdown",
   "id": "d59a4238-61a2-4685-a2b2-8e00d08b2dd7",
   "metadata": {},
   "source": [
    "## How to install and run Julia?"
   ]
  },
  {
   "cell_type": "markdown",
   "id": "4c74ece7-6bab-4dd7-931e-a7c9a3b2e11d",
   "metadata": {},
   "source": [
    "Installing Julia is straightforward. Download the installer specific to your operating system on this [page](https://julialang.org/downloads/) of the Julia website and check the box that adds Julia to the system `PATH`. If you type `julia` in the command-line and you get the following output, everything is running OK."
   ]
  },
  {
   "cell_type": "markdown",
   "id": "40044324-9736-4e7c-be98-3f838d413789",
   "metadata": {},
   "source": [
    "![](images/cli_julia.gif)"
   ]
  },
  {
   "cell_type": "markdown",
   "id": "535ecf7a-aced-40b0-b578-01bc7ea48df3",
   "metadata": {},
   "source": [
    "Both PyCharm and VSCode offers Julia plugins that supports code highlighting and debugging. But, we data scientists usually prefer to tinker around in Jupyter Lab, so here is how you can create a Julia kernel in Jupyter lab.\n",
    "\n",
    "Go to the terminal and enter these two lines:\n",
    "\n",
    "```julia\n",
    "using Pkg\n",
    "Pkg.add(\"IJulia\")\n",
    "```"
   ]
  },
  {
   "cell_type": "markdown",
   "id": "b4fb5436-eef5-48fa-94b7-e63a42877ca7",
   "metadata": {},
   "source": [
    "The code adds the IJulia package to the Julia installation on the system. Restart any running Jupyter Lab sessions and you should see the Julia option in the Launcher.\n",
    "\n",
    "![](images/launcher.gif)"
   ]
  },
  {
   "cell_type": "markdown",
   "id": "abe6a281-93d5-437d-a0b2-a4ad677f58f1",
   "metadata": {},
   "source": [
    "## Basic Julia syntax"
   ]
  },
  {
   "cell_type": "markdown",
   "id": "302404fa-b0d7-4ee3-bbfe-106a9fa67a3a",
   "metadata": {},
   "source": [
    "This section will cover the fundamentals of Julia syntax, including variables, data types, operators, vectors and so on."
   ]
  },
  {
   "cell_type": "markdown",
   "id": "b9d30fa6-e347-4945-aa2d-87817cb4edfb",
   "metadata": {
    "jp-MarkdownHeadingCollapsed": true,
    "tags": []
   },
   "source": [
    "### Operators"
   ]
  },
  {
   "cell_type": "markdown",
   "id": "a66da0bd-34d2-47a7-8856-64f9aa53fd1c",
   "metadata": {},
   "source": [
    "In programming, there are special characters called operators that represent specific mathematical or logical process. We will see the most-commonly used Julia operators one-by-one. \n",
    "\n",
    "Here are addition, subtraction, multiplication and division."
   ]
  },
  {
   "cell_type": "code",
   "execution_count": 1,
   "id": "c96b6096-3a3d-4f28-8db1-f974153529f7",
   "metadata": {
    "execution": {
     "iopub.execute_input": "2022-10-25T10:36:58.295000+05:00",
     "iopub.status.busy": "2022-10-25T10:36:57.537000+05:00",
     "iopub.status.idle": "2022-10-25T10:36:59.233000+05:00",
     "shell.execute_reply": "2022-10-25T10:36:59.218000+05:00"
    }
   },
   "outputs": [
    {
     "data": {
      "text/plain": [
       "110"
      ]
     },
     "execution_count": 1,
     "metadata": {},
     "output_type": "execute_result"
    }
   ],
   "source": [
    "37 + 73"
   ]
  },
  {
   "cell_type": "code",
   "execution_count": 2,
   "id": "3708d5d5-2f4c-4950-80e9-44e77be75ac0",
   "metadata": {
    "execution": {
     "iopub.execute_input": "2022-10-25T10:37:12.784000+05:00",
     "iopub.status.busy": "2022-10-25T10:37:12.784000+05:00",
     "iopub.status.idle": "2022-10-25T10:37:12.785000+05:00",
     "shell.execute_reply": "2022-10-25T10:37:12.785000+05:00"
    }
   },
   "outputs": [
    {
     "data": {
      "text/plain": [
       "-2"
      ]
     },
     "execution_count": 2,
     "metadata": {},
     "output_type": "execute_result"
    }
   ],
   "source": [
    "17 - 19"
   ]
  },
  {
   "cell_type": "code",
   "execution_count": 3,
   "id": "b67d21ca-bad5-440c-8cc3-66e46392091c",
   "metadata": {
    "execution": {
     "iopub.execute_input": "2022-10-25T10:37:19.800000+05:00",
     "iopub.status.busy": "2022-10-25T10:37:19.800000+05:00",
     "iopub.status.idle": "2022-10-25T10:37:19.801000+05:00",
     "shell.execute_reply": "2022-10-25T10:37:19.801000+05:00"
    }
   },
   "outputs": [
    {
     "data": {
      "text/plain": [
       "957"
      ]
     },
     "execution_count": 3,
     "metadata": {},
     "output_type": "execute_result"
    }
   ],
   "source": [
    "29 * 33"
   ]
  },
  {
   "cell_type": "code",
   "execution_count": 4,
   "id": "546b54c1-d472-4771-acbc-cbd0cadd49ae",
   "metadata": {
    "execution": {
     "iopub.execute_input": "2022-10-25T10:37:32.312000+05:00",
     "iopub.status.busy": "2022-10-25T10:37:32.312000+05:00",
     "iopub.status.idle": "2022-10-25T10:37:32.473000+05:00",
     "shell.execute_reply": "2022-10-25T10:37:32.473000+05:00"
    }
   },
   "outputs": [
    {
     "data": {
      "text/plain": [
       "3.142857142857143"
      ]
     },
     "execution_count": 4,
     "metadata": {},
     "output_type": "execute_result"
    }
   ],
   "source": [
    "22 / 7"
   ]
  },
  {
   "cell_type": "markdown",
   "id": "edbe230a-8d96-4030-9c19-e91cd94292fb",
   "metadata": {
    "execution": {
     "iopub.execute_input": "2022-10-25T10:38:14.599000+05:00",
     "iopub.status.busy": "2022-10-25T10:38:14.599000+05:00",
     "iopub.status.idle": "2022-10-25T10:38:14.789000+05:00",
     "shell.execute_reply": "2022-10-25T10:38:14.788000+05:00"
    }
   },
   "source": [
    "Raising numbers to arbitrary power with the `^` operator:"
   ]
  },
  {
   "cell_type": "code",
   "execution_count": 7,
   "id": "b3d88819-eafb-4d0d-8c21-fbe5355e93f0",
   "metadata": {
    "execution": {
     "iopub.execute_input": "2022-10-25T10:39:45.993000+05:00",
     "iopub.status.busy": "2022-10-25T10:39:45.993000+05:00",
     "iopub.status.idle": "2022-10-25T10:39:46.032000+05:00",
     "shell.execute_reply": "2022-10-25T10:39:46.032000+05:00"
    },
    "tags": []
   },
   "outputs": [
    {
     "data": {
      "text/plain": [
       "9.877551020408163"
      ]
     },
     "execution_count": 7,
     "metadata": {},
     "output_type": "execute_result"
    }
   ],
   "source": [
    "(22 / 7) ^ 2"
   ]
  },
  {
   "cell_type": "code",
   "execution_count": 9,
   "id": "fd94b0e3-734c-4e30-8fa6-d7ab8c9404c9",
   "metadata": {
    "execution": {
     "iopub.execute_input": "2022-10-25T10:39:59.898000+05:00",
     "iopub.status.busy": "2022-10-25T10:39:59.897000+05:00",
     "iopub.status.idle": "2022-10-25T10:39:59.898000+05:00",
     "shell.execute_reply": "2022-10-25T10:39:59.898000+05:00"
    },
    "tags": []
   },
   "outputs": [
    {
     "data": {
      "text/plain": [
       "-343"
      ]
     },
     "execution_count": 9,
     "metadata": {},
     "output_type": "execute_result"
    }
   ],
   "source": [
    "-7 ^ 3"
   ]
  },
  {
   "cell_type": "code",
   "execution_count": 10,
   "id": "e9a5e008-8110-4bf2-95e2-d530ed596ae0",
   "metadata": {
    "execution": {
     "iopub.execute_input": "2022-10-25T10:40:43.615000+05:00",
     "iopub.status.busy": "2022-10-25T10:40:43.615000+05:00",
     "iopub.status.idle": "2022-10-25T10:40:43.624000+05:00",
     "shell.execute_reply": "2022-10-25T10:40:43.624000+05:00"
    }
   },
   "outputs": [
    {
     "data": {
      "text/plain": [
       "1.633760365638372"
      ]
     },
     "execution_count": 10,
     "metadata": {},
     "output_type": "execute_result"
    }
   ],
   "source": [
    "(355 / 133) ^ 0.5"
   ]
  },
  {
   "cell_type": "markdown",
   "id": "4b0c2bed-6b73-4228-9bb0-20d1b3c83edb",
   "metadata": {},
   "source": [
    "You can also perform backwards division with a backslash:"
   ]
  },
  {
   "cell_type": "code",
   "execution_count": 11,
   "id": "f338dd2e-c4dc-46e0-8454-555286227275",
   "metadata": {
    "execution": {
     "iopub.execute_input": "2022-10-25T10:41:57.063000+05:00",
     "iopub.status.busy": "2022-10-25T10:41:57.062000+05:00",
     "iopub.status.idle": "2022-10-25T10:41:57.066000+05:00",
     "shell.execute_reply": "2022-10-25T10:41:57.066000+05:00"
    }
   },
   "outputs": [
    {
     "data": {
      "text/plain": [
       "0.0"
      ]
     },
     "execution_count": 11,
     "metadata": {},
     "output_type": "execute_result"
    }
   ],
   "source": [
    "5 \\ 0"
   ]
  },
  {
   "cell_type": "markdown",
   "id": "239da810-d6e9-4ad8-8f44-a48027120150",
   "metadata": {},
   "source": [
    "The above is equal to `0 / 5`. "
   ]
  },
  {
   "cell_type": "markdown",
   "id": "5c05eea7-d586-4aa7-9b7a-a07b0345a55d",
   "metadata": {},
   "source": [
    "To get a remainder of a division, use the `%` operator:"
   ]
  },
  {
   "cell_type": "code",
   "execution_count": 12,
   "id": "afb1c605-9a0c-43d2-b49a-93e49ff03c19",
   "metadata": {
    "execution": {
     "iopub.execute_input": "2022-10-25T10:42:48.902000+05:00",
     "iopub.status.busy": "2022-10-25T10:42:48.902000+05:00",
     "iopub.status.idle": "2022-10-25T10:42:48.906000+05:00",
     "shell.execute_reply": "2022-10-25T10:42:48.906000+05:00"
    }
   },
   "outputs": [
    {
     "data": {
      "text/plain": [
       "16"
      ]
     },
     "execution_count": 12,
     "metadata": {},
     "output_type": "execute_result"
    }
   ],
   "source": [
    "98456 % 23"
   ]
  },
  {
   "cell_type": "markdown",
   "id": "c910c454-ee5e-4b3d-a4fc-02d1c4b7ac95",
   "metadata": {},
   "source": [
    "### Variables"
   ]
  },
  {
   "cell_type": "markdown",
   "id": "cb7cbbae-1398-42fd-817b-5c506a36aeda",
   "metadata": {},
   "source": [
    "In programming, we use variables to store information. Variables makes it easy to refer to a piece information via a name. For example, let's store the number 73 into a variable called `a`:"
   ]
  },
  {
   "cell_type": "code",
   "execution_count": 15,
   "id": "72fa9211-0730-4abc-b46f-1e28c870cb0b",
   "metadata": {
    "execution": {
     "iopub.execute_input": "2022-10-25T10:44:23.677000+05:00",
     "iopub.status.busy": "2022-10-25T10:44:23.677000+05:00",
     "iopub.status.idle": "2022-10-25T10:44:23.690000+05:00",
     "shell.execute_reply": "2022-10-25T10:44:23.690000+05:00"
    }
   },
   "outputs": [
    {
     "data": {
      "text/plain": [
       "73"
      ]
     },
     "execution_count": 15,
     "metadata": {},
     "output_type": "execute_result"
    }
   ],
   "source": [
    "a = 73"
   ]
  },
  {
   "cell_type": "markdown",
   "id": "b0b031f6-561a-41f9-a4f6-ec32cb4943b5",
   "metadata": {},
   "source": [
    "All Julia operators and functions work the same on variables."
   ]
  },
  {
   "cell_type": "code",
   "execution_count": 17,
   "id": "3153093a-d3c5-4a25-9f7c-185e77be29d5",
   "metadata": {
    "execution": {
     "iopub.execute_input": "2022-10-25T10:45:01.808000+05:00",
     "iopub.status.busy": "2022-10-25T10:45:01.808000+05:00",
     "iopub.status.idle": "2022-10-25T10:45:01.809000+05:00",
     "shell.execute_reply": "2022-10-25T10:45:01.809000+05:00"
    },
    "tags": []
   },
   "outputs": [
    {
     "data": {
      "text/plain": [
       "2701"
      ]
     },
     "execution_count": 17,
     "metadata": {},
     "output_type": "execute_result"
    }
   ],
   "source": [
    "a = 73\n",
    "b = 37\n",
    "\n",
    "a * b"
   ]
  },
  {
   "cell_type": "markdown",
   "id": "345d2b0d-a116-4932-a9d9-bf8e278b1e96",
   "metadata": {},
   "source": [
    "You can use any alphanumeric character in variable names including underscores. However, there are certain conventions in naming them in Julia:\n",
    "- Variable names are in lower case.\n",
    "- Word separation is indicated with an underscore, i.e. snake_case.\n",
    "- Names cannot start with a number."
   ]
  },
  {
   "cell_type": "markdown",
   "id": "cf00232f-848b-49f1-81ae-0be27e09b704",
   "metadata": {},
   "source": [
    "### Data types"
   ]
  },
  {
   "cell_type": "markdown",
   "id": "2500a403-83d5-463c-84b9-631a2efbbef3",
   "metadata": {},
   "source": [
    "Computer programs use special categories called data types. Data types tell the program what values a variable takes and what kind of mathematical or logical operators can be used on them without causing an error.\n",
    "\n",
    "The data type of a variable can be printed using the `typeof` function:"
   ]
  },
  {
   "cell_type": "code",
   "execution_count": 23,
   "id": "11a688d4-842e-43ff-9ada-f6dfca65d99e",
   "metadata": {
    "execution": {
     "iopub.execute_input": "2022-10-25T10:51:29.263000+05:00",
     "iopub.status.busy": "2022-10-25T10:51:29.263000+05:00",
     "iopub.status.idle": "2022-10-25T10:51:29.264000+05:00",
     "shell.execute_reply": "2022-10-25T10:51:29.264000+05:00"
    },
    "tags": []
   },
   "outputs": [
    {
     "data": {
      "text/plain": [
       "Float64"
      ]
     },
     "execution_count": 23,
     "metadata": {},
     "output_type": "execute_result"
    }
   ],
   "source": [
    "var = 3.14\n",
    "\n",
    "typeof(var)"
   ]
  },
  {
   "cell_type": "markdown",
   "id": "31851e2a-86c2-4491-81c6-55e8ec5cb56e",
   "metadata": {},
   "source": [
    "The data type of `var` is Float64, which represents 64-bit floating point numbers. There is also Int64:"
   ]
  },
  {
   "cell_type": "code",
   "execution_count": 24,
   "id": "6bcdfe51-dbb8-47dd-aa70-0dc69ffc287d",
   "metadata": {
    "execution": {
     "iopub.execute_input": "2022-10-25T10:52:52.859000+05:00",
     "iopub.status.busy": "2022-10-25T10:52:52.859000+05:00",
     "iopub.status.idle": "2022-10-25T10:52:52.862000+05:00",
     "shell.execute_reply": "2022-10-25T10:52:52.862000+05:00"
    }
   },
   "outputs": [
    {
     "data": {
      "text/plain": [
       "Int64"
      ]
     },
     "execution_count": 24,
     "metadata": {},
     "output_type": "execute_result"
    }
   ],
   "source": [
    "typeof(73)"
   ]
  },
  {
   "cell_type": "markdown",
   "id": "94fb6f43-50fb-4f7a-a030-beb52668ee7c",
   "metadata": {},
   "source": [
    "### Working with characters and strings"
   ]
  },
  {
   "cell_type": "markdown",
   "id": "b6f25b5e-cb60-4d0d-b068-3c5651bd5062",
   "metadata": {},
   "source": [
    "Another common data type is a `String`:"
   ]
  },
  {
   "cell_type": "code",
   "execution_count": 32,
   "id": "00a67c27-e8b3-493b-a057-17e7535b52d3",
   "metadata": {
    "execution": {
     "iopub.execute_input": "2022-10-25T10:57:39.522000+05:00",
     "iopub.status.busy": "2022-10-25T10:57:39.522000+05:00",
     "iopub.status.idle": "2022-10-25T10:57:39.523000+05:00",
     "shell.execute_reply": "2022-10-25T10:57:39.523000+05:00"
    },
    "tags": []
   },
   "outputs": [
    {
     "data": {
      "text/plain": [
       "String"
      ]
     },
     "execution_count": 32,
     "metadata": {},
     "output_type": "execute_result"
    }
   ],
   "source": [
    "text = \"Hello, Julia!\"\n",
    "\n",
    "typeof(text)"
   ]
  },
  {
   "cell_type": "markdown",
   "id": "05d46b3d-1847-403f-b472-ba9fe2732a68",
   "metadata": {},
   "source": [
    "A `String` is an ordered series of characters or plain-old text inside quotes (or double quotes). To write a multi-line string, you can use triple quotes:"
   ]
  },
  {
   "cell_type": "code",
   "execution_count": 34,
   "id": "04e31ef5-07ab-48ea-a366-b060af58db6e",
   "metadata": {
    "execution": {
     "iopub.execute_input": "2022-10-25T10:59:02.435000+05:00",
     "iopub.status.busy": "2022-10-25T10:59:02.435000+05:00",
     "iopub.status.idle": "2022-10-25T10:59:02.450000+05:00",
     "shell.execute_reply": "2022-10-25T10:59:02.450000+05:00"
    },
    "tags": []
   },
   "outputs": [
    {
     "name": "stdout",
     "output_type": "stream",
     "text": [
      "    This is a\n",
      "    multi-line string.\n"
     ]
    }
   ],
   "source": [
    "multi_line = \"\"\"\n",
    "    This is a\n",
    "    multi-line string.\n",
    "\"\"\"\n",
    "\n",
    "print(multi_line)"
   ]
  },
  {
   "cell_type": "markdown",
   "id": "2cacd074-3aae-40eb-a36c-ae92a12997bf",
   "metadata": {},
   "source": [
    "You can extract information and attributes from string in a variety of ways. For example, you can use brackets indexing to extract individual characters or a range based on their position."
   ]
  },
  {
   "cell_type": "code",
   "execution_count": 40,
   "id": "e24ab61c-8702-4555-ab98-bc6be9911e3c",
   "metadata": {
    "execution": {
     "iopub.execute_input": "2022-10-27T13:59:10.777000+05:00",
     "iopub.status.busy": "2022-10-27T13:59:10.777000+05:00",
     "iopub.status.idle": "2022-10-27T13:59:10.778000+05:00",
     "shell.execute_reply": "2022-10-27T13:59:10.778000+05:00"
    },
    "tags": []
   },
   "outputs": [
    {
     "data": {
      "text/plain": [
       "'J': ASCII/Unicode U+004A (category Lu: Letter, uppercase)"
      ]
     },
     "execution_count": 40,
     "metadata": {},
     "output_type": "execute_result"
    }
   ],
   "source": [
    "text = \"Julia is a high-level, dynamic programming language.\"\n",
    "\n",
    "text[1]"
   ]
  },
  {
   "cell_type": "markdown",
   "id": "a8d90231-48d2-4547-bea6-f339a60e2b6c",
   "metadata": {},
   "source": [
    "Put one inside the brackets and it will return the first character. You can also use the special `begin` operator:"
   ]
  },
  {
   "cell_type": "code",
   "execution_count": 41,
   "id": "6a9a501a-3539-4d83-a53f-9e75973483da",
   "metadata": {
    "execution": {
     "iopub.execute_input": "2022-10-27T13:59:55.407000+05:00",
     "iopub.status.busy": "2022-10-27T13:59:55.407000+05:00",
     "iopub.status.idle": "2022-10-27T13:59:55.408000+05:00",
     "shell.execute_reply": "2022-10-27T13:59:55.408000+05:00"
    }
   },
   "outputs": [
    {
     "data": {
      "text/plain": [
       "'J': ASCII/Unicode U+004A (category Lu: Letter, uppercase)"
      ]
     },
     "execution_count": 41,
     "metadata": {},
     "output_type": "execute_result"
    }
   ],
   "source": [
    "text[begin]"
   ]
  },
  {
   "cell_type": "markdown",
   "id": "9ca58ca2-f0d1-4548-b288-4d661af3efa1",
   "metadata": {},
   "source": [
    "When you extract a single character from a `String`, they will have a `Char` datatype:"
   ]
  },
  {
   "cell_type": "code",
   "execution_count": 44,
   "id": "47f28279-61bd-4fed-b437-1d3e9820b451",
   "metadata": {
    "execution": {
     "iopub.execute_input": "2022-10-27T14:01:32.273000+05:00",
     "iopub.status.busy": "2022-10-27T14:01:32.273000+05:00",
     "iopub.status.idle": "2022-10-27T14:01:32.274000+05:00",
     "shell.execute_reply": "2022-10-27T14:01:32.274000+05:00"
    },
    "tags": []
   },
   "outputs": [
    {
     "data": {
      "text/plain": [
       "Char"
      ]
     },
     "execution_count": 44,
     "metadata": {},
     "output_type": "execute_result"
    }
   ],
   "source": [
    "typeof(text[4])"
   ]
  },
  {
   "cell_type": "code",
   "execution_count": 45,
   "id": "ae546d71-ce3b-454f-b24e-a0dc94005f3f",
   "metadata": {
    "execution": {
     "iopub.execute_input": "2022-10-27T14:01:45.174000+05:00",
     "iopub.status.busy": "2022-10-27T14:01:45.174000+05:00",
     "iopub.status.idle": "2022-10-27T14:01:45.175000+05:00",
     "shell.execute_reply": "2022-10-27T14:01:45.175000+05:00"
    }
   },
   "outputs": [
    {
     "data": {
      "text/plain": [
       "Char"
      ]
     },
     "execution_count": 45,
     "metadata": {},
     "output_type": "execute_result"
    }
   ],
   "source": [
    "# Extract the last character\n",
    "typeof(text[end])"
   ]
  },
  {
   "cell_type": "markdown",
   "id": "02501c31-7d7c-4bcf-8efc-723e9694f853",
   "metadata": {},
   "source": [
    "So, a `String` is made up of a series of `Char` data types. However, when you slice a string, which means you extract more than a single character, the output is a `String`:"
   ]
  },
  {
   "cell_type": "code",
   "execution_count": 49,
   "id": "aea77188-fdbd-4231-882f-171eb4218d8e",
   "metadata": {
    "execution": {
     "iopub.execute_input": "2022-10-27T14:03:22.742000+05:00",
     "iopub.status.busy": "2022-10-27T14:03:22.742000+05:00",
     "iopub.status.idle": "2022-10-27T14:03:22.743000+05:00",
     "shell.execute_reply": "2022-10-27T14:03:22.743000+05:00"
    },
    "tags": []
   },
   "outputs": [
    {
     "data": {
      "text/plain": [
       "\"Julia\""
      ]
     },
     "execution_count": 49,
     "metadata": {},
     "output_type": "execute_result"
    }
   ],
   "source": [
    "text[begin:5]"
   ]
  },
  {
   "cell_type": "code",
   "execution_count": 50,
   "id": "b8565317-ba67-4896-973f-7a0c03980844",
   "metadata": {
    "execution": {
     "iopub.execute_input": "2022-10-27T14:03:29.100000+05:00",
     "iopub.status.busy": "2022-10-27T14:03:29.100000+05:00",
     "iopub.status.idle": "2022-10-27T14:03:29.101000+05:00",
     "shell.execute_reply": "2022-10-27T14:03:29.101000+05:00"
    }
   },
   "outputs": [
    {
     "data": {
      "text/plain": [
       "String"
      ]
     },
     "execution_count": 50,
     "metadata": {},
     "output_type": "execute_result"
    }
   ],
   "source": [
    "typeof(text[begin:5])"
   ]
  },
  {
   "cell_type": "markdown",
   "id": "cbc8871d-ecfc-45bf-aabf-1ddc88e62c15",
   "metadata": {},
   "source": [
    "Above, we are slicing the first five characters of `text`. Keep in mind that both indices on either side of the colon are inclusive. Unlike Python, negative indices are not supported. Instead, you will use the `end` operator with a negative number. For example, to get the third character from the end of the string, you can write the following:"
   ]
  },
  {
   "cell_type": "code",
   "execution_count": 54,
   "id": "f76c3608-31e3-40e4-ad91-76a3cec57a0f",
   "metadata": {
    "execution": {
     "iopub.execute_input": "2022-10-27T14:07:46.304000+05:00",
     "iopub.status.busy": "2022-10-27T14:07:46.304000+05:00",
     "iopub.status.idle": "2022-10-27T14:07:46.305000+05:00",
     "shell.execute_reply": "2022-10-27T14:07:46.305000+05:00"
    },
    "tags": []
   },
   "outputs": [
    {
     "data": {
      "text/plain": [
       "52"
      ]
     },
     "execution_count": 54,
     "metadata": {},
     "output_type": "execute_result"
    }
   ],
   "source": [
    "length(text)"
   ]
  },
  {
   "cell_type": "code",
   "execution_count": 61,
   "id": "88398212-e1f8-461b-94ff-1782a05eb4b5",
   "metadata": {
    "execution": {
     "iopub.execute_input": "2022-10-27T14:08:43.661000+05:00",
     "iopub.status.busy": "2022-10-27T14:08:43.661000+05:00",
     "iopub.status.idle": "2022-10-27T14:08:43.662000+05:00",
     "shell.execute_reply": "2022-10-27T14:08:43.662000+05:00"
    },
    "tags": []
   },
   "outputs": [
    {
     "data": {
      "text/plain": [
       "'g': ASCII/Unicode U+0067 (category Ll: Letter, lowercase)"
      ]
     },
     "execution_count": 61,
     "metadata": {},
     "output_type": "execute_result"
    }
   ],
   "source": [
    "# Third from the end of the string\n",
    "text[end-2]"
   ]
  },
  {
   "cell_type": "markdown",
   "id": "28bb7f50-830b-4c2c-b155-62dd23bd9ec2",
   "metadata": {},
   "source": [
    "### Common string operations"
   ]
  },
  {
   "cell_type": "markdown",
   "id": "f81af4e3-4e5b-4b6b-9899-8c81c30b337f",
   "metadata": {},
   "source": [
    "You can use the `length` function to count the number of characters in a `String`:"
   ]
  },
  {
   "cell_type": "code",
   "execution_count": 62,
   "id": "8b56377a-f667-4f05-8b4e-65780d72dd32",
   "metadata": {
    "execution": {
     "iopub.execute_input": "2022-10-27T14:10:06.866000+05:00",
     "iopub.status.busy": "2022-10-27T14:10:06.865000+05:00",
     "iopub.status.idle": "2022-10-27T14:10:06.867000+05:00",
     "shell.execute_reply": "2022-10-27T14:10:06.867000+05:00"
    }
   },
   "outputs": [
    {
     "data": {
      "text/plain": [
       "52"
      ]
     },
     "execution_count": 62,
     "metadata": {},
     "output_type": "execute_result"
    }
   ],
   "source": [
    "text = \"Julia is a high-level, dynamic programming language.\"\n",
    "\n",
    "length(text)"
   ]
  },
  {
   "cell_type": "markdown",
   "id": "cf34dca5-c2e4-41ba-945f-16ede0e2fb86",
   "metadata": {},
   "source": [
    "While writing scripts, you frequently add two or more strings together. There are many ways to do it in Julia. Here is one using the `string` function:"
   ]
  },
  {
   "cell_type": "code",
   "execution_count": 64,
   "id": "c0aaf728-5137-43ef-ba2a-c47a3c6c38f8",
   "metadata": {
    "execution": {
     "iopub.execute_input": "2022-10-27T14:15:05.305000+05:00",
     "iopub.status.busy": "2022-10-27T14:15:05.305000+05:00",
     "iopub.status.idle": "2022-10-27T14:15:05.306000+05:00",
     "shell.execute_reply": "2022-10-27T14:15:05.306000+05:00"
    },
    "tags": []
   },
   "outputs": [
    {
     "data": {
      "text/plain": [
       "\"Julia is awesome!\""
      ]
     },
     "execution_count": 64,
     "metadata": {},
     "output_type": "execute_result"
    }
   ],
   "source": [
    "string(\"Julia \", \"is \", \"awesome!\")"
   ]
  },
  {
   "cell_type": "markdown",
   "id": "a724a49c-4a7b-4641-a18d-fa02c9665792",
   "metadata": {},
   "source": [
    "Pass the strings or strings in variables separated with commas into the function and it will return a single concatenated string.\n",
    "\n",
    "You can also use the `*` (multiplication) operator to add strings together:"
   ]
  },
  {
   "cell_type": "code",
   "execution_count": 66,
   "id": "81672317-7d79-4fb1-bb84-7b924291a419",
   "metadata": {
    "execution": {
     "iopub.execute_input": "2022-10-27T14:17:35.529000+05:00",
     "iopub.status.busy": "2022-10-27T14:17:35.529000+05:00",
     "iopub.status.idle": "2022-10-27T14:17:35.530000+05:00",
     "shell.execute_reply": "2022-10-27T14:17:35.530000+05:00"
    },
    "tags": []
   },
   "outputs": [
    {
     "data": {
      "text/plain": [
       "\"73 is the best prime.\""
      ]
     },
     "execution_count": 66,
     "metadata": {},
     "output_type": "execute_result"
    }
   ],
   "source": [
    "\"73 \" * \"is \" * \"the \" * \"best \" * \"prime.\""
   ]
  },
  {
   "cell_type": "markdown",
   "id": "055bd67f-8479-4f6b-8036-2c5f23ba0391",
   "metadata": {},
   "source": [
    "In both ways, remember to leave a space between the words. Another way of joining strings is by repeating a string multiple times. Here is how it is done with the `repeat` function:"
   ]
  },
  {
   "cell_type": "code",
   "execution_count": 67,
   "id": "61c20a48-844f-4b8f-b3f5-1b9885e074a8",
   "metadata": {
    "execution": {
     "iopub.execute_input": "2022-10-27T14:20:46.623000+05:00",
     "iopub.status.busy": "2022-10-27T14:20:46.623000+05:00",
     "iopub.status.idle": "2022-10-27T14:20:46.624000+05:00",
     "shell.execute_reply": "2022-10-27T14:20:46.624000+05:00"
    }
   },
   "outputs": [
    {
     "data": {
      "text/plain": [
       "\"That is awesome!That is awesome!That is awesome!\""
      ]
     },
     "execution_count": 67,
     "metadata": {},
     "output_type": "execute_result"
    }
   ],
   "source": [
    "text = \"That is awesome!\"\n",
    "\n",
    "repeat(text, 3)"
   ]
  },
  {
   "cell_type": "markdown",
   "id": "540eb416-2b0d-4387-b021-bf7e7768118f",
   "metadata": {},
   "source": [
    "Keep in mind that numbers can be represented as strings as well."
   ]
  },
  {
   "cell_type": "code",
   "execution_count": 68,
   "id": "cc5de1ee-ba73-4729-a819-e6cf4240dc95",
   "metadata": {
    "execution": {
     "iopub.execute_input": "2022-10-27T14:21:51.022000+05:00",
     "iopub.status.busy": "2022-10-27T14:21:51.022000+05:00",
     "iopub.status.idle": "2022-10-27T14:21:51.024000+05:00",
     "shell.execute_reply": "2022-10-27T14:21:51.024000+05:00"
    }
   },
   "outputs": [
    {
     "data": {
      "text/plain": [
       "Int64"
      ]
     },
     "execution_count": 68,
     "metadata": {},
     "output_type": "execute_result"
    }
   ],
   "source": [
    "integer_73 = 73\n",
    "string_73 = \"73\"\n",
    "\n",
    "typeof(integer_73)"
   ]
  },
  {
   "cell_type": "code",
   "execution_count": 70,
   "id": "4b26b7cf-ad33-43d0-a9d7-85a72149e6f4",
   "metadata": {
    "execution": {
     "iopub.execute_input": "2022-10-27T14:22:03.943000+05:00",
     "iopub.status.busy": "2022-10-27T14:22:03.943000+05:00",
     "iopub.status.idle": "2022-10-27T14:22:03.944000+05:00",
     "shell.execute_reply": "2022-10-27T14:22:03.944000+05:00"
    },
    "tags": []
   },
   "outputs": [
    {
     "data": {
      "text/plain": [
       "String"
      ]
     },
     "execution_count": 70,
     "metadata": {},
     "output_type": "execute_result"
    }
   ],
   "source": [
    "typeof(string_73)"
   ]
  },
  {
   "cell_type": "markdown",
   "id": "a690fd57-6063-4aee-b9ea-010fbfd5aacb",
   "metadata": {},
   "source": [
    "Since they don't have the same data type, you can perform math on them:"
   ]
  },
  {
   "cell_type": "markdown",
   "id": "bacbc26b-14c6-4878-a55f-962bfc681fa7",
   "metadata": {
    "execution": {
     "iopub.execute_input": "2022-10-27T14:22:22.973000+05:00",
     "iopub.status.busy": "2022-10-27T14:22:22.973000+05:00",
     "iopub.status.idle": "2022-10-27T14:22:23.109000+05:00",
     "shell.execute_reply": "2022-10-27T14:22:23.109000+05:00"
    }
   },
   "source": [
    "```julia\n",
    "integer_73 + string_73\n",
    "\n",
    "[OUT]: MethodError: no method matching +(::Int64, ::String)\n",
    "```"
   ]
  },
  {
   "cell_type": "markdown",
   "id": "4e4ecae0-2e0a-4436-b8ee-f23b33adab7e",
   "metadata": {},
   "source": [
    "As you can see, the operation returned a `Method` error saying addition is not supported between integers and strings. But, there is a way to fix this by converting the string to an integer using the `parse` function:"
   ]
  },
  {
   "cell_type": "code",
   "execution_count": 75,
   "id": "295b2658-442e-44f0-9f4f-8a07e5853651",
   "metadata": {
    "execution": {
     "iopub.execute_input": "2022-10-27T14:25:45.334000+05:00",
     "iopub.status.busy": "2022-10-27T14:25:45.334000+05:00",
     "iopub.status.idle": "2022-10-27T14:25:45.335000+05:00",
     "shell.execute_reply": "2022-10-27T14:25:45.335000+05:00"
    },
    "tags": []
   },
   "outputs": [
    {
     "data": {
      "text/plain": [
       "Int64"
      ]
     },
     "execution_count": 75,
     "metadata": {},
     "output_type": "execute_result"
    }
   ],
   "source": [
    "new_73 = parse(Int64, string_73)\n",
    "\n",
    "typeof(new_73)"
   ]
  },
  {
   "cell_type": "markdown",
   "id": "45f8ae87-e5eb-4440-aee0-6c988d75a7f1",
   "metadata": {},
   "source": [
    "Pass `Int64` as the first argument and the string as the second and you will have an integer. It is also possible to use other data types such as `Int32`, `Float64`, etc."
   ]
  },
  {
   "cell_type": "code",
   "execution_count": 77,
   "id": "7bb0aa5c-beb9-4cd1-811a-a5e066b6393e",
   "metadata": {
    "execution": {
     "iopub.execute_input": "2022-10-27T14:27:01.927000+05:00",
     "iopub.status.busy": "2022-10-27T14:27:01.927000+05:00",
     "iopub.status.idle": "2022-10-27T14:27:01.943000+05:00",
     "shell.execute_reply": "2022-10-27T14:27:01.942000+05:00"
    },
    "tags": []
   },
   "outputs": [
    {
     "data": {
      "text/plain": [
       "Float32"
      ]
     },
     "execution_count": 77,
     "metadata": {},
     "output_type": "execute_result"
    }
   ],
   "source": [
    "typeof(parse(Float32, string_73))"
   ]
  },
  {
   "cell_type": "markdown",
   "id": "84713b1b-9fdf-4786-99d9-a441c9ad195e",
   "metadata": {},
   "source": [
    "### Vectors"
   ]
  },
  {
   "cell_type": "markdown",
   "id": "79a5da6d-6bb7-4237-9fab-8d295c4594af",
   "metadata": {},
   "source": [
    "Another common data type in Julia and other languages are lists or vectors, as they are called in Julia. Vectors can be created by passing items into a pair of brackets:"
   ]
  },
  {
   "cell_type": "code",
   "execution_count": 83,
   "id": "81c72d60-5fbd-4432-92a3-1d2fc165fc1f",
   "metadata": {
    "execution": {
     "iopub.execute_input": "2022-10-27T14:31:59.966000+05:00",
     "iopub.status.busy": "2022-10-27T14:31:59.966000+05:00",
     "iopub.status.idle": "2022-10-27T14:31:59.967000+05:00",
     "shell.execute_reply": "2022-10-27T14:31:59.967000+05:00"
    },
    "tags": []
   },
   "outputs": [
    {
     "data": {
      "text/plain": [
       "3-element Array{Int64,1}:\n",
       " 1\n",
       " 2\n",
       " 3"
      ]
     },
     "execution_count": 83,
     "metadata": {},
     "output_type": "execute_result"
    }
   ],
   "source": [
    "X = [1, 2, 3]"
   ]
  },
  {
   "cell_type": "code",
   "execution_count": 84,
   "id": "f20a31aa-3fa5-4447-9caa-0aafdebd4366",
   "metadata": {
    "execution": {
     "iopub.execute_input": "2022-10-27T14:32:06.875000+05:00",
     "iopub.status.busy": "2022-10-27T14:32:06.875000+05:00",
     "iopub.status.idle": "2022-10-27T14:32:06.878000+05:00",
     "shell.execute_reply": "2022-10-27T14:32:06.878000+05:00"
    },
    "tags": []
   },
   "outputs": [
    {
     "data": {
      "text/plain": [
       "Array{Int64,1}"
      ]
     },
     "execution_count": 84,
     "metadata": {},
     "output_type": "execute_result"
    }
   ],
   "source": [
    "typeof(X)"
   ]
  },
  {
   "cell_type": "markdown",
   "id": "5a4b8e6e-4d1a-4f03-a7b8-2a43c583fb84",
   "metadata": {},
   "source": [
    "The vector has the `Array` type and all its elements have `Int64` data type. But that does not always mean all elements must have the same type."
   ]
  },
  {
   "cell_type": "code",
   "execution_count": 85,
   "id": "8583bd82-de3d-4115-9e65-09d78e36a6aa",
   "metadata": {
    "execution": {
     "iopub.execute_input": "2022-10-27T14:34:31.035000+05:00",
     "iopub.status.busy": "2022-10-27T14:34:31.034000+05:00",
     "iopub.status.idle": "2022-10-27T14:34:31.972000+05:00",
     "shell.execute_reply": "2022-10-27T14:34:31.972000+05:00"
    }
   },
   "outputs": [
    {
     "data": {
      "text/plain": [
       "3-element Array{Any,1}:\n",
       " 1\n",
       "  \"Hello\"\n",
       " 3.142857142857143"
      ]
     },
     "execution_count": 85,
     "metadata": {},
     "output_type": "execute_result"
    }
   ],
   "source": [
    "array = [1, \"Hello\", 22/7]"
   ]
  },
  {
   "cell_type": "markdown",
   "id": "aeb10a47-1499-427d-8196-97b742995acd",
   "metadata": {},
   "source": [
    "As you can see, this time the vector elements has the `Any` data type inside the curly braces. You can even pass vectors into vectors:"
   ]
  },
  {
   "cell_type": "code",
   "execution_count": 86,
   "id": "7b01a39e-11e7-4664-816d-b52601ebe1cc",
   "metadata": {
    "execution": {
     "iopub.execute_input": "2022-10-27T14:36:39.945000+05:00",
     "iopub.status.busy": "2022-10-27T14:36:39.945000+05:00",
     "iopub.status.idle": "2022-10-27T14:36:40.080000+05:00",
     "shell.execute_reply": "2022-10-27T14:36:40.080000+05:00"
    }
   },
   "outputs": [
    {
     "data": {
      "text/plain": [
       "4-element Array{Any,1}:\n",
       " 1\n",
       " 2\n",
       " 3\n",
       "  Any[\"Hello\", 73]"
      ]
     },
     "execution_count": 86,
     "metadata": {},
     "output_type": "execute_result"
    }
   ],
   "source": [
    "[1, 2, 3, [\"Hello\", 73]]"
   ]
  },
  {
   "cell_type": "markdown",
   "id": "f6bfed21-6501-4c85-8c1d-9b53e0301f32",
   "metadata": {},
   "source": [
    "A vector inside a vector is only counted as a single element.\n",
    "\n",
    "The `length` function works the same on vectors as strings:"
   ]
  },
  {
   "cell_type": "code",
   "execution_count": 87,
   "id": "8be70fa2-11f1-4b44-9334-3294d4500578",
   "metadata": {
    "execution": {
     "iopub.execute_input": "2022-10-27T14:37:18.409000+05:00",
     "iopub.status.busy": "2022-10-27T14:37:18.409000+05:00",
     "iopub.status.idle": "2022-10-27T14:37:18.410000+05:00",
     "shell.execute_reply": "2022-10-27T14:37:18.410000+05:00"
    }
   },
   "outputs": [
    {
     "data": {
      "text/plain": [
       "3"
      ]
     },
     "execution_count": 87,
     "metadata": {},
     "output_type": "execute_result"
    }
   ],
   "source": [
    "length(array)"
   ]
  },
  {
   "cell_type": "markdown",
   "id": "c8ceccb4-0428-42e1-9aaf-2f740a82307c",
   "metadata": {},
   "source": [
    "Indexing rules are similar as well:"
   ]
  },
  {
   "cell_type": "code",
   "execution_count": 90,
   "id": "9bb8d291-59ab-4703-b5d0-678c6f59f964",
   "metadata": {
    "execution": {
     "iopub.execute_input": "2022-10-27T14:37:52.275000+05:00",
     "iopub.status.busy": "2022-10-27T14:37:52.275000+05:00",
     "iopub.status.idle": "2022-10-27T14:37:52.277000+05:00",
     "shell.execute_reply": "2022-10-27T14:37:52.277000+05:00"
    },
    "tags": []
   },
   "outputs": [
    {
     "data": {
      "text/plain": [
       "1"
      ]
     },
     "execution_count": 90,
     "metadata": {},
     "output_type": "execute_result"
    }
   ],
   "source": [
    "array = [1, \"Hello\", 22/7]\n",
    "\n",
    "array[begin]"
   ]
  },
  {
   "cell_type": "code",
   "execution_count": 91,
   "id": "1945ca77-aa0c-4315-b417-cfb0ea9a748f",
   "metadata": {
    "execution": {
     "iopub.execute_input": "2022-10-27T14:37:54.034000+05:00",
     "iopub.status.busy": "2022-10-27T14:37:54.034000+05:00",
     "iopub.status.idle": "2022-10-27T14:37:54.035000+05:00",
     "shell.execute_reply": "2022-10-27T14:37:54.035000+05:00"
    },
    "tags": []
   },
   "outputs": [
    {
     "data": {
      "text/plain": [
       "\"Hello\""
      ]
     },
     "execution_count": 91,
     "metadata": {},
     "output_type": "execute_result"
    }
   ],
   "source": [
    "array[end-1]"
   ]
  },
  {
   "cell_type": "markdown",
   "id": "7df50df1-ad8e-4f08-a5c3-8f01c9b1f4b5",
   "metadata": {},
   "source": [
    "## Boolean operators and functions"
   ]
  },
  {
   "cell_type": "markdown",
   "id": "b43d62f2-eb14-4bbc-93bf-8e171e55b567",
   "metadata": {},
   "source": [
    "Programming languages use boolean values to implement logic. A boolean can only have two values: true or false. To create boolean values, we use boolean operators. Here are examples with the equality operator - `==`:"
   ]
  },
  {
   "cell_type": "code",
   "execution_count": 107,
   "id": "35a968f5-6827-4b2f-a152-858726d3fe1d",
   "metadata": {
    "execution": {
     "iopub.execute_input": "2022-10-27T14:51:53.485000+05:00",
     "iopub.status.busy": "2022-10-27T14:51:53.484000+05:00",
     "iopub.status.idle": "2022-10-27T14:51:53.712000+05:00",
     "shell.execute_reply": "2022-10-27T14:51:53.712000+05:00"
    },
    "tags": []
   },
   "outputs": [
    {
     "data": {
      "text/plain": [
       "false"
      ]
     },
     "execution_count": 107,
     "metadata": {},
     "output_type": "execute_result"
    }
   ],
   "source": [
    "a = 73\n",
    "b = 37\n",
    "\n",
    "a == b"
   ]
  },
  {
   "cell_type": "code",
   "execution_count": 108,
   "id": "0311b778-1304-47bd-88e6-791bcc50fcd5",
   "metadata": {
    "execution": {
     "iopub.execute_input": "2022-10-27T14:52:06.459000+05:00",
     "iopub.status.busy": "2022-10-27T14:52:06.459000+05:00",
     "iopub.status.idle": "2022-10-27T14:52:06.460000+05:00",
     "shell.execute_reply": "2022-10-27T14:52:06.460000+05:00"
    }
   },
   "outputs": [
    {
     "data": {
      "text/plain": [
       "true"
      ]
     },
     "execution_count": 108,
     "metadata": {},
     "output_type": "execute_result"
    }
   ],
   "source": [
    "typeof(a) == typeof(b)"
   ]
  },
  {
   "cell_type": "code",
   "execution_count": 109,
   "id": "d66f223f-6a29-429a-a9e2-5ec8b92ecbdf",
   "metadata": {
    "execution": {
     "iopub.execute_input": "2022-10-27T14:52:21.465000+05:00",
     "iopub.status.busy": "2022-10-27T14:52:21.465000+05:00",
     "iopub.status.idle": "2022-10-27T14:52:21.466000+05:00",
     "shell.execute_reply": "2022-10-27T14:52:21.466000+05:00"
    }
   },
   "outputs": [
    {
     "data": {
      "text/plain": [
       "true"
      ]
     },
     "execution_count": 109,
     "metadata": {},
     "output_type": "execute_result"
    }
   ],
   "source": [
    "typeof(22/7) == Float64"
   ]
  },
  {
   "cell_type": "code",
   "execution_count": 110,
   "id": "047f9a02-33fb-48fb-b0f4-b6df9698f16d",
   "metadata": {
    "execution": {
     "iopub.execute_input": "2022-10-27T14:53:09.033000+05:00",
     "iopub.status.busy": "2022-10-27T14:53:09.033000+05:00",
     "iopub.status.idle": "2022-10-27T14:53:09.034000+05:00",
     "shell.execute_reply": "2022-10-27T14:53:09.034000+05:00"
    }
   },
   "outputs": [
    {
     "data": {
      "text/plain": [
       "false"
      ]
     },
     "execution_count": 110,
     "metadata": {},
     "output_type": "execute_result"
    }
   ],
   "source": [
    "length(\"Hello\") == 4"
   ]
  },
  {
   "cell_type": "code",
   "execution_count": 120,
   "id": "9774925b-7c87-4bb0-8315-ddac4db6a4e6",
   "metadata": {
    "execution": {
     "iopub.execute_input": "2022-10-27T14:55:55.920000+05:00",
     "iopub.status.busy": "2022-10-27T14:55:55.920000+05:00",
     "iopub.status.idle": "2022-10-27T14:55:55.921000+05:00",
     "shell.execute_reply": "2022-10-27T14:55:55.921000+05:00"
    }
   },
   "outputs": [
    {
     "data": {
      "text/plain": [
       "false"
      ]
     },
     "execution_count": 120,
     "metadata": {},
     "output_type": "execute_result"
    }
   ],
   "source": [
    "\"Hello\" == \"hello\""
   ]
  },
  {
   "cell_type": "markdown",
   "id": "b5d38cd2-07f3-44d1-b1e2-d5110c0ece20",
   "metadata": {},
   "source": [
    "There is also the ineuqality operator - `!=`:"
   ]
  },
  {
   "cell_type": "code",
   "execution_count": 111,
   "id": "eb54cdab-e9df-4fe7-8077-28a2caf3f4c8",
   "metadata": {
    "execution": {
     "iopub.execute_input": "2022-10-27T14:53:39.690000+05:00",
     "iopub.status.busy": "2022-10-27T14:53:39.690000+05:00",
     "iopub.status.idle": "2022-10-27T14:53:39.691000+05:00",
     "shell.execute_reply": "2022-10-27T14:53:39.691000+05:00"
    }
   },
   "outputs": [
    {
     "data": {
      "text/plain": [
       "true"
      ]
     },
     "execution_count": 111,
     "metadata": {},
     "output_type": "execute_result"
    }
   ],
   "source": [
    "typeof(\"Bam!\") != Char"
   ]
  },
  {
   "cell_type": "code",
   "execution_count": 113,
   "id": "810c0557-5c7f-4458-bbb5-3a08c9c3916a",
   "metadata": {
    "execution": {
     "iopub.execute_input": "2022-10-27T14:53:57.635000+05:00",
     "iopub.status.busy": "2022-10-27T14:53:57.635000+05:00",
     "iopub.status.idle": "2022-10-27T14:53:57.636000+05:00",
     "shell.execute_reply": "2022-10-27T14:53:57.636000+05:00"
    },
    "tags": []
   },
   "outputs": [
    {
     "data": {
      "text/plain": [
       "false"
      ]
     },
     "execution_count": 113,
     "metadata": {},
     "output_type": "execute_result"
    }
   ],
   "source": [
    "a != 73"
   ]
  },
  {
   "cell_type": "code",
   "execution_count": 121,
   "id": "bf7bbaeb-0675-4ba7-9225-1a7357848dc8",
   "metadata": {
    "execution": {
     "iopub.execute_input": "2022-10-27T14:56:21.968000+05:00",
     "iopub.status.busy": "2022-10-27T14:56:21.968000+05:00",
     "iopub.status.idle": "2022-10-27T14:56:21.969000+05:00",
     "shell.execute_reply": "2022-10-27T14:56:21.969000+05:00"
    }
   },
   "outputs": [
    {
     "data": {
      "text/plain": [
       "true"
      ]
     },
     "execution_count": 121,
     "metadata": {},
     "output_type": "execute_result"
    }
   ],
   "source": [
    "\"Yew\" != \"Yew \""
   ]
  },
  {
   "cell_type": "markdown",
   "id": "bd5705c8-4b88-4518-a716-a3ae6a94d424",
   "metadata": {},
   "source": [
    "Boolean values can also be compared to each other:"
   ]
  },
  {
   "cell_type": "code",
   "execution_count": 114,
   "id": "40719b3a-b94a-44e4-bbf1-71e6c3cf6388",
   "metadata": {
    "execution": {
     "iopub.execute_input": "2022-10-27T14:54:29.528000+05:00",
     "iopub.status.busy": "2022-10-27T14:54:29.528000+05:00",
     "iopub.status.idle": "2022-10-27T14:54:29.567000+05:00",
     "shell.execute_reply": "2022-10-27T14:54:29.567000+05:00"
    }
   },
   "outputs": [
    {
     "data": {
      "text/plain": [
       "true"
      ]
     },
     "execution_count": 114,
     "metadata": {},
     "output_type": "execute_result"
    }
   ],
   "source": [
    "true == true"
   ]
  },
  {
   "cell_type": "code",
   "execution_count": 115,
   "id": "e1b43222-fd74-4993-9a5d-7d8d87a8e688",
   "metadata": {
    "execution": {
     "iopub.execute_input": "2022-10-27T14:54:32.641000+05:00",
     "iopub.status.busy": "2022-10-27T14:54:32.641000+05:00",
     "iopub.status.idle": "2022-10-27T14:54:32.641000+05:00",
     "shell.execute_reply": "2022-10-27T14:54:32.641000+05:00"
    }
   },
   "outputs": [
    {
     "data": {
      "text/plain": [
       "false"
      ]
     },
     "execution_count": 115,
     "metadata": {},
     "output_type": "execute_result"
    }
   ],
   "source": [
    "true == false"
   ]
  },
  {
   "cell_type": "markdown",
   "id": "2855953e-fc44-47bc-84b0-107e4d1c125b",
   "metadata": {},
   "source": [
    "There are other boolean operators from math such as `>`, `<`, `>=`, `<=`:"
   ]
  },
  {
   "cell_type": "code",
   "execution_count": 116,
   "id": "4db68818-ccc0-47f0-b82e-8a705b5ee930",
   "metadata": {
    "execution": {
     "iopub.execute_input": "2022-10-27T14:55:18.455000+05:00",
     "iopub.status.busy": "2022-10-27T14:55:18.455000+05:00",
     "iopub.status.idle": "2022-10-27T14:55:18.456000+05:00",
     "shell.execute_reply": "2022-10-27T14:55:18.456000+05:00"
    }
   },
   "outputs": [
    {
     "data": {
      "text/plain": [
       "true"
      ]
     },
     "execution_count": 116,
     "metadata": {},
     "output_type": "execute_result"
    }
   ],
   "source": [
    "a > b"
   ]
  },
  {
   "cell_type": "code",
   "execution_count": 117,
   "id": "543ba006-ac54-4c52-8e3c-95536828a94a",
   "metadata": {
    "execution": {
     "iopub.execute_input": "2022-10-27T14:55:21.776000+05:00",
     "iopub.status.busy": "2022-10-27T14:55:21.776000+05:00",
     "iopub.status.idle": "2022-10-27T14:55:21.777000+05:00",
     "shell.execute_reply": "2022-10-27T14:55:21.777000+05:00"
    }
   },
   "outputs": [
    {
     "data": {
      "text/plain": [
       "false"
      ]
     },
     "execution_count": 117,
     "metadata": {},
     "output_type": "execute_result"
    }
   ],
   "source": [
    "a < b"
   ]
  },
  {
   "cell_type": "code",
   "execution_count": 118,
   "id": "a5dcdf6b-bfb5-431e-822b-ddf65891add0",
   "metadata": {
    "execution": {
     "iopub.execute_input": "2022-10-27T14:55:26.920000+05:00",
     "iopub.status.busy": "2022-10-27T14:55:26.919000+05:00",
     "iopub.status.idle": "2022-10-27T14:55:26.920000+05:00",
     "shell.execute_reply": "2022-10-27T14:55:26.920000+05:00"
    }
   },
   "outputs": [
    {
     "data": {
      "text/plain": [
       "true"
      ]
     },
     "execution_count": 118,
     "metadata": {},
     "output_type": "execute_result"
    }
   ],
   "source": [
    "a >= 73"
   ]
  },
  {
   "cell_type": "code",
   "execution_count": 119,
   "id": "da91ef92-bc6b-490a-a159-bec940db2780",
   "metadata": {
    "execution": {
     "iopub.execute_input": "2022-10-27T14:55:31.008000+05:00",
     "iopub.status.busy": "2022-10-27T14:55:31.008000+05:00",
     "iopub.status.idle": "2022-10-27T14:55:31.009000+05:00",
     "shell.execute_reply": "2022-10-27T14:55:31.009000+05:00"
    }
   },
   "outputs": [
    {
     "data": {
      "text/plain": [
       "true"
      ]
     },
     "execution_count": 119,
     "metadata": {},
     "output_type": "execute_result"
    }
   ],
   "source": [
    "b <= 37"
   ]
  },
  {
   "cell_type": "markdown",
   "id": "f0d05f7b-0e1e-4f5a-9315-8444ca807245",
   "metadata": {},
   "source": [
    "After these mathematical boolean operators, there are logical operators - `and`/`or`. They can be used to combine two or more boolean expressions into one.\n",
    "\n",
    "The `and` operator, written with double ampersand - `&&`, returns `true` when expressions in both sides return `true`. Here is an example that always returns `true`:"
   ]
  },
  {
   "cell_type": "code",
   "execution_count": 139,
   "id": "41fe69aa-7370-4cd8-a04d-62006728cf46",
   "metadata": {
    "execution": {
     "iopub.execute_input": "2022-10-27T15:21:03.041000+05:00",
     "iopub.status.busy": "2022-10-27T15:21:03.041000+05:00",
     "iopub.status.idle": "2022-10-27T15:21:03.065000+05:00",
     "shell.execute_reply": "2022-10-27T15:21:03.065000+05:00"
    },
    "tags": []
   },
   "outputs": [
    {
     "data": {
      "text/plain": [
       "true"
      ]
     },
     "execution_count": 139,
     "metadata": {},
     "output_type": "execute_result"
    }
   ],
   "source": [
    "true && true"
   ]
  },
  {
   "cell_type": "markdown",
   "id": "e91b5529-d46e-4cc8-8dcc-22178e894155",
   "metadata": {},
   "source": [
    "Change either side to `false` and the final result will be false."
   ]
  },
  {
   "cell_type": "code",
   "execution_count": 140,
   "id": "c52555ee-2a27-4411-b16d-402a325d6ea7",
   "metadata": {
    "execution": {
     "iopub.execute_input": "2022-10-27T15:22:01.941000+05:00",
     "iopub.status.busy": "2022-10-27T15:22:01.941000+05:00",
     "iopub.status.idle": "2022-10-27T15:22:01.942000+05:00",
     "shell.execute_reply": "2022-10-27T15:22:01.942000+05:00"
    }
   },
   "outputs": [
    {
     "data": {
      "text/plain": [
       "false"
      ]
     },
     "execution_count": 140,
     "metadata": {},
     "output_type": "execute_result"
    }
   ],
   "source": [
    "true && false"
   ]
  },
  {
   "cell_type": "markdown",
   "id": "2718e309-72da-4504-9ed5-dd87cb2c28c3",
   "metadata": {},
   "source": [
    "You can chain any number of boolean expressions together with `&&`. "
   ]
  },
  {
   "cell_type": "code",
   "execution_count": 143,
   "id": "343d3102-ad4b-4912-a9f2-c4f626bb12cd",
   "metadata": {
    "execution": {
     "iopub.execute_input": "2022-10-27T15:25:21.296000+05:00",
     "iopub.status.busy": "2022-10-27T15:25:21.296000+05:00",
     "iopub.status.idle": "2022-10-27T15:25:21.297000+05:00",
     "shell.execute_reply": "2022-10-27T15:25:21.297000+05:00"
    },
    "tags": []
   },
   "outputs": [
    {
     "data": {
      "text/plain": [
       "true"
      ]
     },
     "execution_count": 143,
     "metadata": {},
     "output_type": "execute_result"
    }
   ],
   "source": [
    "5 > 4 && 3^3 == 27"
   ]
  },
  {
   "cell_type": "code",
   "execution_count": 144,
   "id": "d322aa46-2d96-46fc-9e18-c638bd64283a",
   "metadata": {
    "execution": {
     "iopub.execute_input": "2022-10-27T15:26:03.084000+05:00",
     "iopub.status.busy": "2022-10-27T15:26:03.084000+05:00",
     "iopub.status.idle": "2022-10-27T15:26:03.085000+05:00",
     "shell.execute_reply": "2022-10-27T15:26:03.085000+05:00"
    }
   },
   "outputs": [
    {
     "data": {
      "text/plain": [
       "true"
      ]
     },
     "execution_count": 144,
     "metadata": {},
     "output_type": "execute_result"
    }
   ],
   "source": [
    "typeof(3) == Int64 && 3 % 2 == 1 && 3 < 7"
   ]
  },
  {
   "cell_type": "markdown",
   "id": "f647c8c6-a70b-43bb-b395-3ee0a5cb8f2f",
   "metadata": {},
   "source": [
    "The `or` statement, written with double pipes - `||`, returns true when both its sides or either of its sides return true. This means that to get a `true` value from `or` statements, only one expression has to be `true`."
   ]
  },
  {
   "cell_type": "code",
   "execution_count": 146,
   "id": "fafeb254-e0ab-4c12-ab20-eb8671730996",
   "metadata": {
    "execution": {
     "iopub.execute_input": "2022-10-27T15:28:23.688000+05:00",
     "iopub.status.busy": "2022-10-27T15:28:23.688000+05:00",
     "iopub.status.idle": "2022-10-27T15:28:23.689000+05:00",
     "shell.execute_reply": "2022-10-27T15:28:23.689000+05:00"
    },
    "tags": []
   },
   "outputs": [
    {
     "data": {
      "text/plain": [
       "true"
      ]
     },
     "execution_count": 146,
     "metadata": {},
     "output_type": "execute_result"
    }
   ],
   "source": [
    "73 > 45 || 73 % 2 == 0"
   ]
  },
  {
   "cell_type": "markdown",
   "id": "6bd31e31-07cf-4294-83bf-27c4fd9dcfeb",
   "metadata": {},
   "source": [
    "As in the `&&` operator, you can chain any number of `||` statements."
   ]
  },
  {
   "cell_type": "markdown",
   "id": "fe023ae0-e031-4f46-a463-2bd7ec4fc543",
   "metadata": {},
   "source": [
    "## Conditional statements"
   ]
  },
  {
   "cell_type": "markdown",
   "id": "4ecd323d-e80c-472a-bbde-24ea67f4e262",
   "metadata": {},
   "source": [
    "Using boolean values and operators, you can write conditional statements. For example, if something evaluates to true - perform an operation. If false, perform another. \n",
    "\n",
    "Conditional statements are also called if/else statements. Here is how they are written:"
   ]
  },
  {
   "cell_type": "code",
   "execution_count": 127,
   "id": "197bff5f-9dc2-49fa-bf1c-f7c6ba49cdbd",
   "metadata": {
    "execution": {
     "iopub.execute_input": "2022-10-27T15:01:59.041000+05:00",
     "iopub.status.busy": "2022-10-27T15:01:59.041000+05:00",
     "iopub.status.idle": "2022-10-27T15:01:59.091000+05:00",
     "shell.execute_reply": "2022-10-27T15:01:59.091000+05:00"
    },
    "tags": []
   },
   "outputs": [
    {
     "name": "stdout",
     "output_type": "stream",
     "text": [
      "Do something"
     ]
    }
   ],
   "source": [
    "if true\n",
    "    print(\"Do something\")\n",
    "else\n",
    "    print(\"Do something else\")\n",
    "end"
   ]
  },
  {
   "cell_type": "markdown",
   "id": "4f4b723e-c11f-4059-8c1d-b769fcc126d3",
   "metadata": {},
   "source": [
    "Whenever a condition after the `if` keyword evaluates to `true`, the `if` block is executed. In our case, the condition after `if` is always true, so the program will always print \"Do something\". \n",
    "\n",
    "If we change the `true` to `false`, the `else` statement is executed:"
   ]
  },
  {
   "cell_type": "code",
   "execution_count": 129,
   "id": "583a8d0c-b64f-4599-91aa-f535e8390752",
   "metadata": {
    "execution": {
     "iopub.execute_input": "2022-10-27T15:04:01.626000+05:00",
     "iopub.status.busy": "2022-10-27T15:04:01.625000+05:00",
     "iopub.status.idle": "2022-10-27T15:04:01.626000+05:00",
     "shell.execute_reply": "2022-10-27T15:04:01.626000+05:00"
    },
    "tags": []
   },
   "outputs": [
    {
     "name": "stdout",
     "output_type": "stream",
     "text": [
      "Do something else"
     ]
    }
   ],
   "source": [
    "if false\n",
    "    print(\"Do something\")\n",
    "else\n",
    "    print(\"Do something else\")\n",
    "end"
   ]
  },
  {
   "cell_type": "markdown",
   "id": "9dbb4482-cf08-43c6-b3c4-9a8293d77d30",
   "metadata": {},
   "source": [
    "Here is a real example of a conditional that checks if 5 is odd or even:"
   ]
  },
  {
   "cell_type": "code",
   "execution_count": 130,
   "id": "b13b4bf9-a03b-44dd-9342-f8927dd0ebe4",
   "metadata": {
    "execution": {
     "iopub.execute_input": "2022-10-27T15:05:20.380000+05:00",
     "iopub.status.busy": "2022-10-27T15:05:20.380000+05:00",
     "iopub.status.idle": "2022-10-27T15:05:20.393000+05:00",
     "shell.execute_reply": "2022-10-27T15:05:20.393000+05:00"
    }
   },
   "outputs": [
    {
     "name": "stdout",
     "output_type": "stream",
     "text": [
      "The number is odd"
     ]
    }
   ],
   "source": [
    "number = 5\n",
    "\n",
    "if number % 2 == 0\n",
    "    print(\"The number is even\")\n",
    "else\n",
    "    print(\"The number is odd\")\n",
    "end"
   ]
  },
  {
   "cell_type": "markdown",
   "id": "d2aae8a3-2081-482a-994e-d474b17c5b27",
   "metadata": {},
   "source": [
    "In the expression after `if`, we are using the modulus operator, `%`, to check if `number` returns 0 as a remainder when divided by 2. It evaluates to `false` because the remainder of dividing 5 by 2 is 1. Therefore, the `else` clause is executed.\n",
    "\n",
    "You can omit the `else` clause but you always have to end the conditional with `end`."
   ]
  },
  {
   "cell_type": "code",
   "execution_count": 131,
   "id": "0f948e2f-096a-44e1-a0bf-13b043274fb1",
   "metadata": {
    "execution": {
     "iopub.execute_input": "2022-10-27T15:07:55.067000+05:00",
     "iopub.status.busy": "2022-10-27T15:07:55.067000+05:00",
     "iopub.status.idle": "2022-10-27T15:07:55.068000+05:00",
     "shell.execute_reply": "2022-10-27T15:07:55.068000+05:00"
    }
   },
   "outputs": [
    {
     "name": "stdout",
     "output_type": "stream",
     "text": [
      "The number is odd"
     ]
    }
   ],
   "source": [
    "if number % 2 == 1\n",
    "    print(\"The number is odd\")\n",
    "end"
   ]
  },
  {
   "cell_type": "code",
   "execution_count": 134,
   "id": "e7636e5b-ba8f-4892-8a65-bfcd7576f961",
   "metadata": {
    "execution": {
     "iopub.execute_input": "2022-10-27T15:14:21.533000+05:00",
     "iopub.status.busy": "2022-10-27T15:14:21.533000+05:00",
     "iopub.status.idle": "2022-10-27T15:14:21.534000+05:00",
     "shell.execute_reply": "2022-10-27T15:14:21.534000+05:00"
    },
    "tags": []
   },
   "outputs": [
    {
     "name": "stdout",
     "output_type": "stream",
     "text": [
      "The number is odd"
     ]
    }
   ],
   "source": [
    "if number % 2 == 1\n",
    "    print(\"The number is odd\")\n",
    "end"
   ]
  },
  {
   "cell_type": "markdown",
   "id": "ce5ddc84-ed8a-432b-a664-0c2ec325c3f9",
   "metadata": {},
   "source": [
    "Now, let's use our knowledge of boolean operators and conditional statements to write a program that checks if 5 is a prime number.\n",
    "\n",
    "First, we check if it is divisible by 2:"
   ]
  },
  {
   "cell_type": "code",
   "execution_count": 151,
   "id": "a59dfdda-93c0-438c-aa10-e46538902a6a",
   "metadata": {
    "execution": {
     "iopub.execute_input": "2022-10-27T15:41:53.377000+05:00",
     "iopub.status.busy": "2022-10-27T15:41:53.376000+05:00",
     "iopub.status.idle": "2022-10-27T15:41:53.378000+05:00",
     "shell.execute_reply": "2022-10-27T15:41:53.378000+05:00"
    },
    "tags": []
   },
   "outputs": [
    {
     "name": "stdout",
     "output_type": "stream",
     "text": [
      "Prime!"
     ]
    }
   ],
   "source": [
    "number = 5\n",
    "\n",
    "if number % 2 == 0\n",
    "    print(\"Not a prime.\")\n",
    "else\n",
    "    print(\"Prime!\")\n",
    "end"
   ]
  },
  {
   "cell_type": "markdown",
   "id": "75b43fa5-e650-493f-9cf5-d7d98cc69f45",
   "metadata": {},
   "source": [
    "Now, we check if it is divisible by 3:"
   ]
  },
  {
   "cell_type": "code",
   "execution_count": 152,
   "id": "6855a0eb-7e45-46a1-aca9-39e485cfb593",
   "metadata": {
    "execution": {
     "iopub.execute_input": "2022-10-27T15:57:29.038000+05:00",
     "iopub.status.busy": "2022-10-27T15:57:29.037000+05:00",
     "iopub.status.idle": "2022-10-27T15:57:29.039000+05:00",
     "shell.execute_reply": "2022-10-27T15:57:29.039000+05:00"
    }
   },
   "outputs": [
    {
     "name": "stdout",
     "output_type": "stream",
     "text": [
      "Prime!"
     ]
    }
   ],
   "source": [
    "if number % 2 == 0\n",
    "    print(\"Not a prime.\")\n",
    "elseif number % 3 == 0\n",
    "    print(\"Not a prime.\")\n",
    "else\n",
    "    print(\"Prime!\")\n",
    "end"
   ]
  },
  {
   "cell_type": "markdown",
   "id": "14205238-f25c-4323-805d-7da2416727b3",
   "metadata": {},
   "source": [
    "We are adding the new condition use the `elseif` clause. We use `elseif` clauses when we have to check for two or more conditions in exact order. Here, we have to check if 5 is divisible by 2, 3 and 4. So, we add another `elseif` clause to check for 4:"
   ]
  },
  {
   "cell_type": "code",
   "execution_count": 153,
   "id": "0df40c41-e69f-4df9-837b-cf60db33418a",
   "metadata": {
    "execution": {
     "iopub.execute_input": "2022-10-27T15:59:44.328000+05:00",
     "iopub.status.busy": "2022-10-27T15:59:44.328000+05:00",
     "iopub.status.idle": "2022-10-27T15:59:44.330000+05:00",
     "shell.execute_reply": "2022-10-27T15:59:44.330000+05:00"
    }
   },
   "outputs": [
    {
     "name": "stdout",
     "output_type": "stream",
     "text": [
      "Prime!"
     ]
    }
   ],
   "source": [
    "if number % 2 == 0\n",
    "    print(\"Not a prime.\")\n",
    "elseif number % 3 == 0\n",
    "    print(\"Not a prime.\")\n",
    "elseif number % 4 == 0\n",
    "    print(\"Not a prime.\")\n",
    "else\n",
    "    print(\"Prime!\")\n",
    "end"
   ]
  },
  {
   "cell_type": "markdown",
   "id": "c56bc34e-77ad-4161-8535-87976115b0ef",
   "metadata": {},
   "source": [
    "## How to use loops"
   ]
  },
  {
   "cell_type": "markdown",
   "id": "52ef46da-a6d6-405e-9f1a-d2034f8b7f93",
   "metadata": {},
   "source": [
    "## Installing packages on Julia"
   ]
  },
  {
   "cell_type": "markdown",
   "id": "89833b84-f924-4212-a901-1606959ad2a6",
   "metadata": {},
   "source": [
    "## Getting started with DataFrames"
   ]
  },
  {
   "cell_type": "markdown",
   "id": "6818bdad-e72f-48f3-9fdf-68799b22b8a1",
   "metadata": {},
   "source": [
    "### Importing CSV files"
   ]
  },
  {
   "cell_type": "markdown",
   "id": "79cce355-cf27-4010-a3d0-6243f66495eb",
   "metadata": {},
   "source": [
    "### Simple data manipulation and visualization"
   ]
  },
  {
   "cell_type": "markdown",
   "id": "54a9c7cb-a3f6-4198-9f22-2c5ba08aa6d8",
   "metadata": {},
   "source": [
    "## Learn more about Julia"
   ]
  }
 ],
 "metadata": {
  "kernelspec": {
   "display_name": "Julia 1.4.1",
   "language": "julia",
   "name": "julia-1.4"
  },
  "language_info": {
   "file_extension": ".jl",
   "mimetype": "application/julia",
   "name": "julia",
   "version": "1.4.1"
  }
 },
 "nbformat": 4,
 "nbformat_minor": 5
}
