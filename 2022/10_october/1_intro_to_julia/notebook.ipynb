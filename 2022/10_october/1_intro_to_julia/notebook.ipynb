{
 "cells": [
  {
   "cell_type": "markdown",
   "id": "4a8f5eed-1632-4d77-90cb-b4eeb5e9e8ea",
   "metadata": {},
   "source": [
    "# Massive Introduction to Julia Programming For Beginners"
   ]
  },
  {
   "cell_type": "markdown",
   "id": "9fb4bfd2-5b64-41aa-ac39-1492e4cb3e01",
   "metadata": {},
   "source": [
    "## Introduction"
   ]
  },
  {
   "cell_type": "markdown",
   "id": "89d37329-8d98-47c2-a1e3-7d4e86030df7",
   "metadata": {},
   "source": [
    "## Why learn Julia?"
   ]
  },
  {
   "cell_type": "markdown",
   "id": "d59a4238-61a2-4685-a2b2-8e00d08b2dd7",
   "metadata": {},
   "source": [
    "## How to install and run Julia?"
   ]
  },
  {
   "cell_type": "markdown",
   "id": "abe6a281-93d5-437d-a0b2-a4ad677f58f1",
   "metadata": {},
   "source": [
    "## Basic Julia syntax"
   ]
  },
  {
   "cell_type": "markdown",
   "id": "c910c454-ee5e-4b3d-a4fc-02d1c4b7ac95",
   "metadata": {},
   "source": [
    "### Variables and data types in Julia"
   ]
  },
  {
   "cell_type": "markdown",
   "id": "e8c86307-50ae-4858-a4d0-e0940b66fb0a",
   "metadata": {},
   "source": [
    "### Operators"
   ]
  },
  {
   "cell_type": "markdown",
   "id": "84713b1b-9fdf-4786-99d9-a441c9ad195e",
   "metadata": {},
   "source": [
    "### Vectors"
   ]
  },
  {
   "cell_type": "markdown",
   "id": "02f9cb35-cd25-430f-bc9a-c51cfda04f45",
   "metadata": {},
   "source": [
    "### Math functions"
   ]
  },
  {
   "cell_type": "markdown",
   "id": "1657ee72-60b6-4ace-9da5-3fd03bef1d10",
   "metadata": {},
   "source": [
    "### Working with characters and strings"
   ]
  },
  {
   "cell_type": "markdown",
   "id": "7df50df1-ad8e-4f08-a5c3-8f01c9b1f4b5",
   "metadata": {},
   "source": [
    "## Conditional statements"
   ]
  },
  {
   "cell_type": "markdown",
   "id": "c56bc34e-77ad-4161-8535-87976115b0ef",
   "metadata": {},
   "source": [
    "## How to use loops"
   ]
  },
  {
   "cell_type": "markdown",
   "id": "52ef46da-a6d6-405e-9f1a-d2034f8b7f93",
   "metadata": {},
   "source": [
    "## Installing packages on Julia"
   ]
  },
  {
   "cell_type": "markdown",
   "id": "89833b84-f924-4212-a901-1606959ad2a6",
   "metadata": {},
   "source": [
    "## Getting started with DataFrames"
   ]
  },
  {
   "cell_type": "markdown",
   "id": "6818bdad-e72f-48f3-9fdf-68799b22b8a1",
   "metadata": {},
   "source": [
    "### Importing CSV files"
   ]
  },
  {
   "cell_type": "markdown",
   "id": "79cce355-cf27-4010-a3d0-6243f66495eb",
   "metadata": {},
   "source": [
    "### Simple data manipulation and visualization"
   ]
  },
  {
   "cell_type": "markdown",
   "id": "54a9c7cb-a3f6-4198-9f22-2c5ba08aa6d8",
   "metadata": {},
   "source": [
    "## Learn more about Julia"
   ]
  }
 ],
 "metadata": {
  "kernelspec": {
   "display_name": "Julia 1.4.1",
   "language": "julia",
   "name": "julia-1.4"
  },
  "language_info": {
   "file_extension": ".jl",
   "mimetype": "application/julia",
   "name": "julia",
   "version": "1.4.1"
  }
 },
 "nbformat": 4,
 "nbformat_minor": 5
}
