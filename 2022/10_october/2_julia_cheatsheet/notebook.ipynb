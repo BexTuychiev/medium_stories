{
 "cells": [
  {
   "cell_type": "markdown",
   "id": "fed3873c-a1f3-45fe-aa4f-e1ae5912db00",
   "metadata": {},
   "source": [
    "# Cheat sheet - Julia basics"
   ]
  },
  {
   "cell_type": "markdown",
   "id": "0d48d3bc-effb-4d9a-8cba-559bbfe4d6ca",
   "metadata": {
    "tags": []
   },
   "source": [
    "## Content"
   ]
  },
  {
   "cell_type": "markdown",
   "id": "39e99e01-d0a6-42a9-a311-f7fc1433e9a3",
   "metadata": {},
   "source": [
    "### Accessing help\n",
    "#### Accessing help files and documentation\n",
    "- Entering help mode with ? at an empty prompt\n",
    "\n",
    "```julia\n",
    "julia> ?\n",
    "help?>\n",
    "```"
   ]
  },
  {
   "cell_type": "markdown",
   "id": "f02fb1ff-2b37-49bb-878f-c3800c98d2c4",
   "metadata": {},
   "source": [
    "- Get help on a function with ?functionname\n",
    "\n",
    "```julia\n",
    "julia> ?\n",
    "help?> first\n",
    "\n",
    "first(coll)\n",
    "\n",
    "  Get the first element of an iterable collection. Return the start point of an AbstractRange even if it is empty.\n",
    "```\n",
    "\n",
    "- Search for help on a topic with ?\"topic\" or apropos(\"topic\")\n",
    "\n",
    "```julia\n",
    "julia> ?\n",
    "help?> function\n",
    "Functions are defined with the function keyword:\n",
    "\n",
    "  function add(a, b)\n",
    "      return a + b\n",
    "  end\n",
    "```\n"
   ]
  },
  {
   "cell_type": "markdown",
   "id": "baec7f59-6d19-486c-9e9e-10a3d18d634d",
   "metadata": {},
   "source": [
    "#### Comments\n",
    "- Single line comments with #\n",
    "```julia\n",
    "# This is a single-line comment\n",
    "```\n",
    "- Multi-line comments with #= and =#\n",
    "```julia\n",
    "#= This is a\n",
    "multi-line comment =#\n",
    "```"
   ]
  },
  {
   "cell_type": "markdown",
   "id": "ba6f0b82-4b7f-47f9-a8de-81f6ceaf8a6d",
   "metadata": {},
   "source": [
    "#### Information about objects\n",
    "- Get the structure of an object with describe()\n",
    "\n",
    "- Get the type of an object with typeof()\n",
    "```julia\n",
    "julia> typeof(22/7)\n",
    "Float64\n",
    "```"
   ]
  },
  {
   "cell_type": "markdown",
   "id": "75ab51ff-5d96-483a-a82a-b3e912c65919",
   "metadata": {},
   "source": [
    "### Using packages\n",
    "- Define or describe what a package is\n",
    "A package is similar to a folder in a computer and combines multiple interconnected scripts that contain functions and classes\n",
    "- Entering package mode with ] at an empty prompt\n",
    "\n",
    "```julia\n",
    "julia> ]\n",
    "(@v1.4) pkg>\n",
    "```\n",
    "- Install a new package with add\n",
    "```julia\n",
    "julia> ]\n",
    "(@v1.4) pkg> add CSV\n",
    "```\n",
    "- Load a package with using\n",
    "```julia\n",
    "julia> using CSV\n",
    "```\n",
    "- Load a package with import without an alias\n",
    "```julia\n",
    "julia> import CSV\n",
    "```\n",
    "- Load a package with import with an alias\n",
    "```julia\n",
    "import DataFrames as df\n",
    "```"
   ]
  },
  {
   "cell_type": "markdown",
   "id": "c72a688c-2fcd-4015-976b-645121b7b206",
   "metadata": {},
   "source": [
    "### The working directory\n",
    "- Define or describe the working directory\n",
    "In a hierarchical system, the working directory is the root directory where you can access all scripts and functions/classes within. \n",
    "- Get the current directory with pwd()\n",
    "```julia\n",
    "julia> pwd()\n",
    "\"/home/bexgboost/articles\"\n",
    "```\n",
    "- Set the current directory with cd()\n",
    "```julia\n",
    "julia> cd()\n",
    "\"/home/bexgboost/cheatsheets\"\n",
    "```"
   ]
  },
  {
   "cell_type": "markdown",
   "id": "aacc10ee-f110-4b4a-8ba6-171e84797461",
   "metadata": {},
   "source": [
    "### Operators\n",
    "#### Arithmetic operators\n",
    "- Add two numbers with a + b\n",
    "```julia\n",
    "julia> a = 73; b = 37\n",
    "julia> a + b\n",
    "110\n",
    "```\n",
    "- Subtract one number from another with a - b\n",
    "```julia\n",
    "julia> a - b\n",
    "36\n",
    "```\n",
    "- Multiply two numbers with a * b\n",
    "```julia\n",
    "julia> a * b\n",
    "2701\n",
    "```\n",
    "\n",
    "- Divide one number by another with a / b\n",
    "\n",
    "```julia\n",
    "julia> 22 / 7\n",
    "3.14285714\n",
    "```\n",
    "\n",
    "- Integer divide one number by another with a ÷ b; keyboard shortcut of \\div TAB\n",
    "\n",
    "```julia\n",
    "julia> 22 ÷ 7\n",
    "3\n",
    "```\n",
    "\n",
    "- Inverse divide one number by another with a \\ b\n",
    "```julia\n",
    "julia> 5 \\ 0\n",
    "0\n",
    "```\n",
    "\n",
    "- Raise one number to the power of another with a ^ b\n",
    "```julia\n",
    "julia> 3 ^ 3\n",
    "27\n",
    "```\n",
    "\n",
    "- Get the remainder after division with a % b\n",
    "```julia\n",
    "julia> 22 % 7\n",
    "1\n",
    "```"
   ]
  },
  {
   "cell_type": "markdown",
   "id": "3ce6580e-627e-44a5-81eb-8024396a083b",
   "metadata": {},
   "source": [
    "#### Assignment operators\n",
    "- Assigning to objects with a = value\n",
    "- Mutating field of objects with a.f = value\n",
    "- Mutating elements of objects with a[i] = value"
   ]
  },
  {
   "cell_type": "markdown",
   "id": "76127d21-2c77-4464-a05d-78974d828ec2",
   "metadata": {},
   "source": [
    "#### Numeric comparison operators\n",
    "- Equal objects with ==\n",
    "- Not equal objects with != \n",
    "- Greater than >\n",
    "- Greater than or equal to >=\n",
    "- Less than <\n",
    "- Less than or equal to with <=\n",
    "- Logical operators\n",
    "- Logical not with ~a\n",
    "- Shortcut and with a && b\n",
    "- Elementwise and with a & b\n",
    "- Shortcut or with a || b\n",
    "- Elementwise or with a | b\n",
    "- Elementwise xor (exclusive or) with a ⊻ b; keyboard shortcut of \\xor TAB\n",
    "- Elementwise nor (not or) with a ⊽ b; keyboard shortcut of \\nor TAB\n",
    "- Elementwise nand (not and) with a ⊼ b; keyboard shortcut of \\nand TAB"
   ]
  },
  {
   "cell_type": "markdown",
   "id": "30fac2af-690f-4f16-ae02-be27a298b880",
   "metadata": {},
   "source": [
    "#### Other operators\n",
    "- Determine if a value is in an array with x in arr\n",
    "- Access field in an object with a.f\n",
    "- Pipe values to a function with value |> fn"
   ]
  },
  {
   "cell_type": "markdown",
   "id": "4a9b2b76-2971-4052-8f10-33d0b4a7c946",
   "metadata": {},
   "source": [
    "Assignment operators\n",
    "Assigning to objects with a = value\n",
    "Mutating field of objects with a.f = value\n",
    "Mutating elements of objects with a[i] = value\n",
    "Numeric comparison operators\n",
    "Equal objects with ==\n",
    "Not equal objects with != \n",
    "Greater than >\n",
    "Greater than or equal to >=\n",
    "Less than <\n",
    "Less than or equal to with <=\n",
    "Logical operators\n",
    "Logical not with ~a\n",
    "Shortcut and with a && b\n",
    "Elementwise and with a & b\n",
    "Shortcut or with a || b\n",
    "Elementwise or with a | b\n",
    "Elementwise xor (exclusive or) with a ⊻ b; keyboard shortcut of \\xor TAB\n",
    "Elementwise nor (not or) with a ⊽ b; keyboard shortcut of \\nor TAB\n",
    "Elementwise nand (not and) with a ⊼ b; keyboard shortcut of \\nand TAB\n",
    "Other operators\n",
    "Determine if a value is in an array with x in arr\n",
    "Access field in an object with a.f\n",
    "Pipe values to a function with value |> fn"
   ]
  },
  {
   "cell_type": "markdown",
   "id": "45537431-86f9-403a-8859-aed9d4acb408",
   "metadata": {
    "tags": []
   },
   "source": [
    "### Getting started with vectors\n",
    "- Define or describe what vectors are\n",
    "A collection of items such as floats, integers, strings or a mix that allows duplicate values. Synonyms from other languages are lists, arrays, etc.\n",
    "\n",
    "#### Creating vectors\n",
    "- Creating vectors with square brackets, [x1, x2, x3]\n",
    "```julia\n",
    "julia> x = [1, 2, 3]\n",
    "3-element Array{Int64,1}:\n",
    " 1\n",
    " 2\n",
    " 3\n",
    "```\n",
    "- Creating vectors with specific element types using Vector{type}([x1, x2, x3])\n",
    "\n",
    "```julia\n",
    "julia> Vector{Float16}([1, 2, 3])\n",
    "3-element Array{Float16,1}:\n",
    " 1.0\n",
    " 2.0\n",
    " 3.0\n",
    "```\n",
    "\n",
    "- Creating a sequence of numbers from a to b with a:b\n",
    "\n",
    "```julia\n",
    "julia> 37:100\n",
    "37:100\n",
    "```\n",
    "\n",
    "- Creating a sequence of numbers from a to b in steps of stp with a:stp:b\n",
    "```julia\n",
    "julia> 1:2:101\n",
    "1:2:101\n",
    "```\n",
    "\n",
    "- A couple of examples of repeating values with repeat(a, inner, outer)\n",
    "\n",
    "```julia\n",
    "julia> repeat(1:2, inner=2)\n",
    "4-element Array{Int64,1}:\n",
    " 1\n",
    " 1\n",
    " 2\n",
    " 2\n",
    "\n",
    "julia> repeat(1:2, outer=2)\n",
    "4-element Array{Int64,1}:\n",
    " 1\n",
    " 2\n",
    " 1\n",
    " 2\n",
    "\n",
    "julia> repeat(1:2, inner=2, outer=2)\n",
    "8-element Array{Int64,1}:\n",
    " 1\n",
    " 1\n",
    " 2\n",
    " 2\n",
    " 1\n",
    " 1\n",
    " 2\n",
    " 2\n",
    "```"
   ]
  },
  {
   "cell_type": "markdown",
   "id": "ecddf0bd-17e4-4a0f-bb19-1eb7b7822b46",
   "metadata": {},
   "source": [
    "#### Vector functions\n",
    "- Sorting vectors with sort(x)\n",
    "```julia\n",
    "julia> x = [9, 1, 4]; sort(x)\n",
    "3-element Array{Int64,1}:\n",
    " 1\n",
    " 4\n",
    " 9\n",
    "```\n",
    "- Reversing vectors with reverse(x)\n",
    "```julia\n",
    "julia> x = [9, 1, 4]; reverse(x)\n",
    "3-element Array{Int64,1}:\n",
    " 4\n",
    " 1\n",
    " 9\n",
    "```\n",
    "- Reversing in-place with reverse!(x)\n",
    "```julia\n",
    "julia> x = [9, 1, 4]; reverse!(x)\n",
    "julia> x\n",
    "3-element Array{Int64,1}:\n",
    " 4\n",
    " 1\n",
    " 9\n",
    "```\n",
    "- Get a frequency table of counts with freqtable(x)\n",
    "> See my earlier comment\n",
    "- Get unique elements of a vector with unique(x)\n",
    "\n",
    "- Appending ! to the function name to modify in-place"
   ]
  },
  {
   "cell_type": "code",
   "execution_count": 20,
   "id": "e0ca56b0-8ed3-4978-b516-ff92f6736c74",
   "metadata": {
    "execution": {
     "iopub.execute_input": "2022-10-28T07:46:16.329000+05:00",
     "iopub.status.busy": "2022-10-28T07:46:16.329000+05:00",
     "iopub.status.idle": "2022-10-28T07:46:16.985000+05:00",
     "shell.execute_reply": "2022-10-28T07:46:16.985000+05:00"
    },
    "tags": []
   },
   "outputs": [
    {
     "data": {
      "text/plain": [
       "1×3 Array{Int64,2}:\n",
       " 1  2  3"
      ]
     },
     "execution_count": 20,
     "metadata": {},
     "output_type": "execute_result"
    }
   ],
   "source": [
    "[1 2 3]"
   ]
  },
  {
   "cell_type": "code",
   "execution_count": 19,
   "id": "42b65ed0-a2ba-431c-bfdd-6d44a0e20120",
   "metadata": {
    "execution": {
     "iopub.execute_input": "2022-10-28T07:44:57.827000+05:00",
     "iopub.status.busy": "2022-10-28T07:44:57.827000+05:00",
     "iopub.status.idle": "2022-10-28T07:44:58.083000+05:00",
     "shell.execute_reply": "2022-10-28T07:44:58.083000+05:00"
    },
    "tags": []
   },
   "outputs": [
    {
     "ename": "UndefVarError",
     "evalue": "\u001b[91mUndefVarError: freqtable not defined\u001b[39m",
     "output_type": "error",
     "traceback": [
      "\u001b[91mUndefVarError: freqtable not defined\u001b[39m",
      "",
      "Stacktrace:",
      " [1] top-level scope at In[19]:1"
     ]
    }
   ],
   "source": [
    "x = [6, 7, 1, 7]; freqtable(x)\n",
    "x"
   ]
  },
  {
   "cell_type": "markdown",
   "id": "134327d5-6bd2-4c84-a617-fb03ad0ee7f4",
   "metadata": {
    "jp-MarkdownHeadingCollapsed": true,
    "tags": []
   },
   "source": [
    "#### Selecting vector elements\n",
    "- Selecting the 6th element of a vector with x[6]\n",
    "- Selecting the last element of a vector with x[end]\n",
    "- Slicing elements two to six from a vector with x[2:6]\n",
    "- Selecting the 2nd and 6th element of a vector with x[[2, 6]]\n",
    "- Selecting elements equal to 5 with x[x .== 5]\n",
    "- Selecting elements less than 5 with x[x .< 5]\n",
    "- Selecting elements in the vector 2, 5, 8 with x[in([2, 5, 8]).(x)]"
   ]
  },
  {
   "cell_type": "markdown",
   "id": "2f15538a-fc83-4671-990b-02708085447a",
   "metadata": {},
   "source": [
    "### Math functions\n",
    "- Get the logarithm of a vector with log.(x)\n",
    "- Get the exponential of a vector with exp.(x)\n",
    "- Get the maximum of a vector with maximum(x)\n",
    "- Get the minimum of a vector with minimum(x)\n",
    "- Get the sum of a vector with sum(x)\n",
    "- Loading the Statistics package with using Statistics; explain that this is needed for the following summary stats.\n",
    "- Get the mean of a vector with mean(x)\n",
    "- Get the median of a vector with median(x)\n",
    "- Get quantiles of a vector with quantile(x, p)\n",
    "- Round values of a vector with round.(x, digits = n)\n",
    "- Get significant figures of values of a vector with round.(x, sigdigits = n)\n",
    "- Get the ranking of vector elements with using StatsBase; ordinalrank(x)\n",
    "- Get the variance of a vector with var(x)\n",
    "- Get the standard deviation of a vector with std(x)\n",
    "- Get the correlation between two vectors with cor(x, y)"
   ]
  },
  {
   "cell_type": "markdown",
   "id": "bc72e240-0ed9-46cb-8062-2dbaa3c55809",
   "metadata": {
    "tags": []
   },
   "source": [
    "### Getting started with characters and strings\n",
    "- Describe or define the difference between characters and strings\n",
    "- Creating a character variable with single quotes\n",
    "- Creating a string variable with double quotes and triple-double quotes\n",
    "- Getting a single character substring with \\[ and positional indexing (possible show and example with begin or end)\n",
    "- Getting a multiple character substring with \\[ and positional indexing"
   ]
  },
  {
   "cell_type": "markdown",
   "id": "e96005f3-c631-4d6a-b945-8f4907083ff4",
   "metadata": {},
   "source": [
    "#### Combining and splitting strings\n",
    "- Combining several strings, including string variables, into a longer string with string()\n",
    "- Interpolating strings with \"$value\" syntax\n",
    "- Repeating strings with ^\n",
    "- Splitting strings on a delimiter with split()"
   ]
  },
  {
   "cell_type": "markdown",
   "id": "733a7528-3c78-4e40-ae11-2249cbca52e2",
   "metadata": {},
   "source": [
    "#### Finding and extracting matches\n",
    "- Detecting the presence of a pattern in a string with occursin()\n",
    "- Find the position of the first match in a string with findfirst()\n",
    "- Creating a match object with match()\n",
    "- Extracting complete matches from a match object with m.match"
   ]
  },
  {
   "cell_type": "markdown",
   "id": "33449f9d-8328-4838-99e0-8b693e8226c9",
   "metadata": {},
   "source": [
    "#### Mutate\n",
    "- Convert a string to upper case with uppercase()\n",
    "- Convert a string to lower case with lowercase()\n",
    "- Convert a string to title case with titlecase()\n",
    "- Replace matches of a pattern with a new string with replace()"
   ]
  },
  {
   "cell_type": "markdown",
   "id": "e70b7e3f-b30e-48a2-8a07-48d82fc1f098",
   "metadata": {},
   "source": [
    "### Getting started with data frames\n",
    "- Setting up the environment: adding and using the DataFrames package\n",
    "- Create a data frame with various column types (show numeric & text columns, how a single value can be broadcast to fill the whole column, how to define non-standard column names with spaces in the name)\n",
    "- Select the third row from a data frame using \\[ and row number\n",
    "- Select a column from a data frame using \\. and column name\n",
    "- Select the second column from a data frame using \\[ and column number\n",
    "- Select an element from a data frame using \\[ and row and column numbers"
   ]
  },
  {
   "cell_type": "markdown",
   "id": "973b2bc3-446e-4f5d-9123-4ec9ca91b78d",
   "metadata": {},
   "source": [
    "### Manipulating data frames\n",
    "- Concatenate two data frames horizontally with hcat()\n",
    "- Concatenate two data frames vertically with vcat()\n",
    "- Filter for rows of a data frame with filter() (maybe use an anonymous function here)\n",
    "- Filter for rows of a data frame with subset() \n",
    "- Select columns of a data frame with select()\n",
    "- Select all columns of a data frame except those specified with select(Not())\n",
    "- Rename columns of a data frame with rename(old => new)\n",
    "- Add new columns to a data frame with transform()\n",
    "- Calculate column summary statistics on data frame with combine()\n",
    "- Calculate groupwise column summary statistics on data frame with groupby() and combine()\n",
    "- Get rows of a data frame with distinct values in a column with unique(df, :col) \n",
    "- Order the rows of a data frame with sort()\n",
    "- Get the rows of a data frame with the largest values of a column with df[partialsortperm(), :"
   ]
  }
 ],
 "metadata": {
  "kernelspec": {
   "display_name": "Julia 1.4.1",
   "language": "julia",
   "name": "julia-1.4"
  },
  "language_info": {
   "file_extension": ".jl",
   "mimetype": "application/julia",
   "name": "julia",
   "version": "1.4.1"
  }
 },
 "nbformat": 4,
 "nbformat_minor": 5
}
