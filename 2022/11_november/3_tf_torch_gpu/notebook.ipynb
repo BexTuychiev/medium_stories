{
 "cells": [
  {
   "cell_type": "markdown",
   "id": "361c68db-125f-4428-9106-a5bde34da192",
   "metadata": {},
   "source": [
    "# How to (Finally) Install TensorFlow GPU on WSL2\n",
    "## Works 100%"
   ]
  },
  {
   "cell_type": "markdown",
   "id": "6948b60b-3800-4f92-ba68-9b7fec730a44",
   "metadata": {},
   "source": [
    "After my article on installing TensorFlow GPU on Windows took off and became a featured snippet on Google, I decided to write the same tutorial for Windows Subsystem Linux (WSL2). By finishing the article, you will be able to train TensorFlow models with GPU support from your WSL2 installation."
   ]
  },
  {
   "cell_type": "markdown",
   "id": "ab4a937d-9227-481e-88cb-26eb589dc6c7",
   "metadata": {},
   "source": [
    "### 1. Make sure you have TensorFlow GPU installed on Windows side"
   ]
  },
  {
   "cell_type": "markdown",
   "id": "249bcdff-a7c9-4c93-96b3-42f184e2d195",
   "metadata": {},
   "source": [
    "First, make sure that you follow the steps written in my first article:\n",
    "\n",
    "https://towardsdatascience.com/how-to-finally-install-tensorflow-gpu-on-windows-10-63527910f255\n",
    "\n",
    "Installing GPU support for TensorFlow on WSL2 is built on top of the NVIDIA CUDA drivers from the Windows side. So, it is important that you complete the steps from the first article. If you are able to run the following commands from the Windows Command Line and have the same output, you are good to go:"
   ]
  },
  {
   "cell_type": "markdown",
   "id": "530b6997-d927-4b31-8896-d6f0d7a3b295",
   "metadata": {},
   "source": [
    "```bash\n",
    "# Create an env for TensorFlow or use an existing one\n",
    "$ conda create -n tf python=3.9 -y\n",
    "$ conda activate tf\n",
    "$ pip install tensorflow==2.10\n",
    "$ python\n",
    ">>> import tensorflow as tf\n",
    ">>> len(tf.config.list_physical_devices('GPU'))\n",
    "1\n",
    "```"
   ]
  },
  {
   "cell_type": "markdown",
   "id": "3ed9818f-f4bf-4707-a2a9-757e2c895c97",
   "metadata": {},
   "source": [
    "### 2. Check your WSL2 installation"
   ]
  },
  {
   "cell_type": "markdown",
   "id": "2ce6f3c4-7a6b-4043-a26d-b89f55eb78c0",
   "metadata": {},
   "source": [
    "Don't have a WSL2 installation yet? Don't worry, I got you covered in this regard as well. Go through my comprehensive article on installing it from here ADD THE ARTICLE LINK."
   ]
  }
 ],
 "metadata": {
  "kernelspec": {
   "display_name": "articles",
   "language": "python",
   "name": "articles"
  },
  "language_info": {
   "codemirror_mode": {
    "name": "ipython",
    "version": 3
   },
   "file_extension": ".py",
   "mimetype": "text/x-python",
   "name": "python",
   "nbconvert_exporter": "python",
   "pygments_lexer": "ipython3",
   "version": "3.9.13"
  }
 },
 "nbformat": 4,
 "nbformat_minor": 5
}
