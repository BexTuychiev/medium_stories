{
 "cells": [
  {
   "cell_type": "markdown",
   "id": "1e0cdb15-68f0-4266-a232-be91d96e88e9",
   "metadata": {},
   "source": [
    "# How to Easily Create Machine Learning Pipelines With DVC\n",
    "## Create robust, reproducible pipelines with DVC"
   ]
  },
  {
   "cell_type": "markdown",
   "id": "855ffef2-c716-42dd-bb7e-a0fe771408c5",
   "metadata": {},
   "source": [
    "### What is a machine learning pipeline?"
   ]
  },
  {
   "cell_type": "markdown",
   "id": "d2641d72-d59c-46cc-82ba-87cb37b05ea8",
   "metadata": {},
   "source": [
    "Imagine a machine learning pipeline as an unbreakable tunnel that stretches from one end of a mountain to the other. At the entrance of the tunnel is a massive avalanche of raw data, tumbling and cascading from all directions.\n",
    "\n",
    "As the data enters the tunnel, it is cleaned, preprocessed, transformed and feature-selected into a form that is usable by machine learning models. Along the way, it passes through a series of checkpoints, where different models and algorithms are trained and tested, selecting only the strongest and most accurate ones to move on.\n",
    "\n",
    "Finally, at the other end of the tunnel, the data emerges as a fully trained and operational machine learning model, ready to be deployed to the real world.\n",
    "\n",
    "In a typical ML project, any checkpoint or stage in a pipeline may take dozens or even hundreds of iterations to get right. For this reason, it is imperative to use a reliable tool to track the pipeline building process and make it as straightforward and reproducible as possible.\n",
    "\n",
    "One of those popular tools in the Python ecosystem is DVC - Data Version Control."
   ]
  },
  {
   "cell_type": "markdown",
   "id": "da0ce065-1d7a-4e45-a35f-d00b1d2af547",
   "metadata": {},
   "source": [
    "### How to create a pipeline in DVC?"
   ]
  },
  {
   "cell_type": "markdown",
   "id": "75eda21f-9daf-4401-b2cd-08b4fb2606fd",
   "metadata": {},
   "source": [
    "### How to track metrics and plots in DVC?"
   ]
  },
  {
   "cell_type": "markdown",
   "id": "f1686649-3577-4a2f-86ab-33df242d1027",
   "metadata": {},
   "source": [
    "### How to run experiments in DVC?"
   ]
  },
  {
   "cell_type": "markdown",
   "id": "599cbd8b-4f93-483c-8c7c-ca8167dbc00f",
   "metadata": {},
   "source": [
    "### Experimentation workflow in machine learning and DVC"
   ]
  },
  {
   "cell_type": "markdown",
   "id": "bd9fadd3-7933-4bfa-91da-25d4e6bf91e2",
   "metadata": {},
   "source": [
    "### Next steps"
   ]
  },
  {
   "cell_type": "markdown",
   "id": "544e9d5e-e45a-496f-8e47-7d0f66a6b6fc",
   "metadata": {},
   "source": [
    "Even though we have covered a lot of ground in the tutorial, there is still so much you can improve. I recommend reading the [DVC docs](https://dvc.org/doc) from top to bottom (like I did), focusing especially on the [User Guide section](https://dvc.org/doc/user-guide/overview).\n",
    "\n",
    "From there, you can see more sophisticated ways you can run experiments, capture better metrics and plots (for example, plot templates) with `DVCLive` library, etc. If you want to learn about deploying DVC-tracked projects, don't neglect the [Use Cases section](https://dvc.org/doc/use-cases) as well."
   ]
  },
  {
   "cell_type": "markdown",
   "id": "72ec2bd0-fadb-4833-a868-bcf6f4b78708",
   "metadata": {},
   "source": [
    "### Conclusion"
   ]
  },
  {
   "cell_type": "markdown",
   "id": "22a27f8c-af00-4134-8462-1b614d989814",
   "metadata": {},
   "source": [
    "Massive congratulations to taking the first steps to clean, organized, reproducible machine learning projects! Here is an outline of the steps you should take to set up an experiment management system with DVC when starting a new project:\n",
    "\n",
    "1. Track and store large files with `dvc add` and `dvc push`.\n",
    "2. Create the scripts for stages of a pipeline. A typical pipeline consists of preprocessing, training and evaluation stages.\n",
    "3. Add each stage with `dvc stage add` commands, specifying dependencies with `-d`, outputs to track with DVC with `-o`, metrics with `-M`, plots with `--plots` and so on.\n",
    "4. Create a `params.yaml` file that lists hyperparameters of each pipeline stage. Use the `dvc.api.params_show` function inside your stage scripts to read the parameters as key-value pairs.\n",
    "5. Run your entire pipeline as an experiment with `dvc exp run -n exp_name` or queue multiple experiments with `dvc exp run --queue`.\n",
    "6. Manage and compare experiments using the DVC extension's view pane inside VSCode. \n",
    "7. Persist only chosen experiments to Git history with `dvc exp apply exp_ID` and `git add/git commit`. \n",
    "8. Iterate.\n",
    "\n",
    "Thank you very much for reading!"
   ]
  }
 ],
 "metadata": {
  "kernelspec": {
   "display_name": "articles",
   "language": "python",
   "name": "articles"
  },
  "language_info": {
   "codemirror_mode": {
    "name": "ipython",
    "version": 3
   },
   "file_extension": ".py",
   "mimetype": "text/x-python",
   "name": "python",
   "nbconvert_exporter": "python",
   "pygments_lexer": "ipython3",
   "version": "3.9.13"
  }
 },
 "nbformat": 4,
 "nbformat_minor": 5
}
