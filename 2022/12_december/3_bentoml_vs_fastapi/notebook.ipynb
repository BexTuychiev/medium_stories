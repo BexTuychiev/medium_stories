{
 "cells": [
  {
   "cell_type": "markdown",
   "id": "acabc113-bc62-454d-94ae-89a1c2606c3e",
   "metadata": {},
   "source": [
    "# BentoML vs FastAPI: Good-bye FastAPI For Machine Learning!\n",
    "## Objective comparison between BentoML and FastAPI"
   ]
  },
  {
   "cell_type": "markdown",
   "id": "14a0449d-e711-4fbb-811e-bce279a908a6",
   "metadata": {},
   "source": [
    "### Notes"
   ]
  },
  {
   "cell_type": "markdown",
   "id": "738689dc-85db-4c16-a926-0b68090a409b",
   "metadata": {},
   "source": [
    "FastAPI vs BentoML\n",
    "\n",
    "Similar Features\n",
    "- Pydantic validation\n",
    "- Swagger UI\n",
    "- async\n",
    "- Starlette\n",
    "\n",
    "ML Differentiators\n",
    "- Running models in separate processes\n",
    "    - https://modelserving.com/blog/breaking-up-with-flask-amp-fastapi-why-ml-model-serving-requires-a-specialized-framework"
   ]
  },
  {
   "cell_type": "markdown",
   "id": "fdf3d39b-f524-476a-bf82-8c9578b54a6e",
   "metadata": {},
   "source": [
    "### Motivation"
   ]
  },
  {
   "cell_type": "markdown",
   "id": "242ae199-1cdb-48da-bab6-b23d51a80834",
   "metadata": {},
   "source": [
    "### But what is an API?"
   ]
  },
  {
   "cell_type": "markdown",
   "id": "f5b83281-28a8-4d82-9540-df754c686d6a",
   "metadata": {},
   "source": [
    "### Saving/loading models\n",
    "https://docs.bentoml.org/en/latest/concepts/model.html"
   ]
  },
  {
   "cell_type": "markdown",
   "id": "cf7bb109-8011-41d0-9108-65c9436a37aa",
   "metadata": {},
   "source": [
    "### Integration with other ML frameworks"
   ]
  },
  {
   "cell_type": "markdown",
   "id": "18374a57-d238-4d75-a7af-45e4c233b239",
   "metadata": {},
   "source": [
    "https://docs.bentoml.org/en/latest/frameworks/index.html"
   ]
  },
  {
   "cell_type": "markdown",
   "id": "7e437278-bf1d-484e-9792-4e454a70e6c9",
   "metadata": {},
   "source": [
    "### Input/Output\n",
    "https://docs.bentoml.org/en/latest/reference/api_io_descriptors.html"
   ]
  },
  {
   "cell_type": "markdown",
   "id": "7c20423e-8fc5-428d-ac5f-f1b4217d1c88",
   "metadata": {},
   "source": [
    "### Dependency management"
   ]
  },
  {
   "cell_type": "markdown",
   "id": "03f7f07c-b00e-4e52-9c2a-db5e65e9efba",
   "metadata": {},
   "source": [
    "### Model registry"
   ]
  },
  {
   "cell_type": "markdown",
   "id": "3c7aad45-23de-4c20-87d5-fe607c44e6b9",
   "metadata": {},
   "source": [
    "### Deploying the service\n",
    "https://docs.bentoml.org/en/latest/concepts/deploy.html"
   ]
  },
  {
   "cell_type": "markdown",
   "id": "9924d40a-036a-4d13-a824-d2bd2c29aaf0",
   "metadata": {},
   "source": [
    "### GPU serving\n",
    "https://docs.bentoml.org/en/latest/guides/gpu.html"
   ]
  },
  {
   "cell_type": "markdown",
   "id": "e084c863-3c9f-4785-a6d4-d9d850b251b6",
   "metadata": {},
   "source": [
    "### Batching inputs\n",
    "https://docs.bentoml.org/en/latest/guides/batching.html"
   ]
  }
 ],
 "metadata": {
  "kernelspec": {
   "display_name": "articles",
   "language": "python",
   "name": "articles"
  },
  "language_info": {
   "codemirror_mode": {
    "name": "ipython",
    "version": 3
   },
   "file_extension": ".py",
   "mimetype": "text/x-python",
   "name": "python",
   "nbconvert_exporter": "python",
   "pygments_lexer": "ipython3",
   "version": "3.9.13"
  }
 },
 "nbformat": 4,
 "nbformat_minor": 5
}
