{
 "cells": [
  {
   "cell_type": "markdown",
   "id": "acabc113-bc62-454d-94ae-89a1c2606c3e",
   "metadata": {},
   "source": [
    "# BentoML vs FastAPI: Good-bye FastAPI For Machine Learning!\n",
    "## Objective comparison between BentoML and FastAPI"
   ]
  },
  {
   "cell_type": "markdown",
   "id": "14a0449d-e711-4fbb-811e-bce279a908a6",
   "metadata": {},
   "source": [
    "### Notes"
   ]
  },
  {
   "cell_type": "markdown",
   "id": "738689dc-85db-4c16-a926-0b68090a409b",
   "metadata": {},
   "source": [
    "FastAPI vs BentoML\n",
    "\n",
    "Similar Features\n",
    "- Pedantic validation\n",
    "- Swagger UI\n",
    "- async\n",
    "- Starlette\n",
    "\n",
    "ML Differentiators\n",
    "- Saving models\n",
    "- Loading models\n",
    "- Integrations with ML frameworks\n",
    "- Batching inputs\n",
    "    - https://docs.bentoml.org/en/latest/guides/batching.html\n",
    "- Running models in separate processes\n",
    "    - https://modelserving.com/blog/breaking-up-with-flask-amp-fastapi-why-ml-model-serving-requires-a-specialized-framework\n",
    "- Automatic Containerizing\n",
    "- Dependency management\n",
    "- Monitoring out of the box\n",
    "    - https://docs.bentoml.org/en/latest/guides/metrics.html\n",
    "    - http://default-grafana.cloud-infra.bentoml.com/d/TJ3FhiG4z/bentodeployment?orgId=1&var-namespace=yatai&var-bento_deployment=credit-application&from=now-5m&to=now\n",
    "- Open telemetry\n",
    "- Automatic packaging\n",
    "- Can combine fastapi and bentoml: https://docs.bentoml.org/en/latest/guides/server.html#bundle-asgi-app-e-g-fastapi\n",
    "- GPU Serving\n",
    "    - https://docs.bentoml.org/en/latest/guides/gpu.html#docker-images-options\n",
    "- IODescriptors (ndarrays vs pydantic)\n",
    "    - https://docs.bentoml.org/en/latest/reference/api_io_descriptors.html\n"
   ]
  },
  {
   "cell_type": "markdown",
   "id": "fdf3d39b-f524-476a-bf82-8c9578b54a6e",
   "metadata": {},
   "source": [
    "### Motivation"
   ]
  },
  {
   "cell_type": "markdown",
   "id": "242ae199-1cdb-48da-bab6-b23d51a80834",
   "metadata": {},
   "source": [
    "### But what is an API?"
   ]
  }
 ],
 "metadata": {
  "kernelspec": {
   "display_name": "articles",
   "language": "python",
   "name": "articles"
  },
  "language_info": {
   "codemirror_mode": {
    "name": "ipython",
    "version": 3
   },
   "file_extension": ".py",
   "mimetype": "text/x-python",
   "name": "python",
   "nbconvert_exporter": "python",
   "pygments_lexer": "ipython3",
   "version": "3.9.13"
  }
 },
 "nbformat": 4,
 "nbformat_minor": 5
}
