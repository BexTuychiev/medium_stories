{
 "cells": [
  {
   "cell_type": "markdown",
   "id": "acabc113-bc62-454d-94ae-89a1c2606c3e",
   "metadata": {},
   "source": [
    "# BentoML vs FastAPI: Good-bye FastAPI For Machine Learning!\n",
    "## Objective comparison between BentoML and FastAPI"
   ]
  },
  {
   "cell_type": "markdown",
   "id": "14a0449d-e711-4fbb-811e-bce279a908a6",
   "metadata": {},
   "source": [
    "### Notes"
   ]
  },
  {
   "cell_type": "markdown",
   "id": "738689dc-85db-4c16-a926-0b68090a409b",
   "metadata": {},
   "source": [
    "FastAPI vs BentoML\n",
    "\n",
    "Similar Features\n",
    "- Pydantic validation\n",
    "- Swagger UI\n",
    "- async\n",
    "- Starlette\n",
    "\n",
    "ML Differentiators\n",
    "- Running models in separate processes\n",
    "    - https://modelserving.com/blog/breaking-up-with-flask-amp-fastapi-why-ml-model-serving-requires-a-specialized-framework"
   ]
  },
  {
   "cell_type": "markdown",
   "id": "fdf3d39b-f524-476a-bf82-8c9578b54a6e",
   "metadata": {},
   "source": [
    "### Motivation"
   ]
  },
  {
   "cell_type": "markdown",
   "id": "242ae199-1cdb-48da-bab6-b23d51a80834",
   "metadata": {},
   "source": [
    "### But what is an API?"
   ]
  },
  {
   "cell_type": "markdown",
   "id": "378bbf3b-dfc3-4fe6-bbbc-e12caea96323",
   "metadata": {},
   "source": [
    "The world is full of APIs. Yet, strangely, most do a poor job of explaining what they are. When you google \"what is an API?\", you'll get stuff like \"API stands for Application Programming Interface\" (like we would care), or as Wikipedia puts it:\n",
    "\n",
    "> An API is a way for two or more computer programs to communicate with each other.\n",
    "\n",
    "For me, at a high level, an API is just a plain-old URL. An example? \n",
    "\n",
    "How about ChatGPT3? The link chat.openai.com/chat is a URL that lets you interact with OpenAI's ChatGPT3 AI model. You send requests to the API via the website's UI using prompts. \n",
    "\n",
    "But APIs doesn't have to have fancy UIs. They can simply be URLs that programmers send requests to perform a variety of tasks like generating an image given a prompt. For example, I've built an API that returns a cuteness score given a pet's image. Here is its URL:\n",
    "\n",
    "PASTE THE URL HERE\n",
    "\n",
    "It has a PREDICT endpoint but APIs can have as many endpoints as possible that perform different functions.\n",
    "\n",
    "An API is just a way to hide complex programming logic like ML models with billions of parameters behind simple interfaces so that users can interact without any prior knowledge of how the thing behind was built or used. "
   ]
  },
  {
   "cell_type": "markdown",
   "id": "d2a5eacb-a22d-41b7-b034-f5e352f6533b",
   "metadata": {},
   "source": [
    "So, in this article, we are comparing the king of API frameworks, FastAPI, which is generally used for web applications, to BentoML, a relatively young library specialized to deploy machine learning models as API."
   ]
  },
  {
   "cell_type": "markdown",
   "id": "a464ee21-fcfa-4552-b4cc-74cf02897836",
   "metadata": {},
   "source": [
    "### Similar features"
   ]
  },
  {
   "cell_type": "markdown",
   "id": "b48f702a-9149-4c72-9a2b-8ea30c6446bd",
   "metadata": {},
   "source": [
    "Before we go into the differences in terms of machine learning use cases, let's quickly discuss FastAPI and BentoML's similar features:\n",
    "\n",
    "- Starlette: built upon the same powerful ASGI web application building framework, making them fast and easy to use\n",
    "- Automatic documentation with Swagger UI: both generate automatic documentation for APIs using the standard API docs format called OpenAPI.\n",
    "- Asynchronous requests: both allow asynchronous requests for heavy Input/Output-bound APIs. This means they can handle multiple requests simultaneously without executing them linearly.\n",
    "\n",
    "\n",
    "These are the basic features required by modern API frameworks. The real differentiators between BentoML and FastAPI are in machine learning use cases."
   ]
  },
  {
   "cell_type": "markdown",
   "id": "f5b83281-28a8-4d82-9540-df754c686d6a",
   "metadata": {},
   "source": [
    "### Saving/loading models\n",
    "https://docs.bentoml.org/en/latest/concepts/model.html"
   ]
  },
  {
   "cell_type": "markdown",
   "id": "cf7bb109-8011-41d0-9108-65c9436a37aa",
   "metadata": {},
   "source": [
    "### Integration with other ML frameworks"
   ]
  },
  {
   "cell_type": "markdown",
   "id": "18374a57-d238-4d75-a7af-45e4c233b239",
   "metadata": {},
   "source": [
    "https://docs.bentoml.org/en/latest/frameworks/index.html"
   ]
  },
  {
   "cell_type": "markdown",
   "id": "7e437278-bf1d-484e-9792-4e454a70e6c9",
   "metadata": {},
   "source": [
    "### Input/Output\n",
    "https://docs.bentoml.org/en/latest/reference/api_io_descriptors.html"
   ]
  },
  {
   "cell_type": "markdown",
   "id": "7c20423e-8fc5-428d-ac5f-f1b4217d1c88",
   "metadata": {},
   "source": [
    "### Dependency management"
   ]
  },
  {
   "cell_type": "markdown",
   "id": "03f7f07c-b00e-4e52-9c2a-db5e65e9efba",
   "metadata": {},
   "source": [
    "### Model registry"
   ]
  },
  {
   "cell_type": "markdown",
   "id": "3c7aad45-23de-4c20-87d5-fe607c44e6b9",
   "metadata": {},
   "source": [
    "### Deploying the service\n",
    "https://docs.bentoml.org/en/latest/concepts/deploy.html"
   ]
  },
  {
   "cell_type": "markdown",
   "id": "9924d40a-036a-4d13-a824-d2bd2c29aaf0",
   "metadata": {},
   "source": [
    "### GPU serving\n",
    "https://docs.bentoml.org/en/latest/guides/gpu.html"
   ]
  },
  {
   "cell_type": "markdown",
   "id": "e084c863-3c9f-4785-a6d4-d9d850b251b6",
   "metadata": {},
   "source": [
    "### Batching inputs\n",
    "https://docs.bentoml.org/en/latest/guides/batching.html"
   ]
  }
 ],
 "metadata": {
  "kernelspec": {
   "display_name": "articles",
   "language": "python",
   "name": "articles"
  },
  "language_info": {
   "codemirror_mode": {
    "name": "ipython",
    "version": 3
   },
   "file_extension": ".py",
   "mimetype": "text/x-python",
   "name": "python",
   "nbconvert_exporter": "python",
   "pygments_lexer": "ipython3",
   "version": "3.9.13"
  }
 },
 "nbformat": 4,
 "nbformat_minor": 5
}
