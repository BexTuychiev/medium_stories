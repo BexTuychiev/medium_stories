{
 "cells": [
  {
   "cell_type": "markdown",
   "metadata": {},
   "source": [
    "# How to Get Started on Kaggle in 2022 (Even If You Are Terrified)\n",
    "## Your road to GrandMaster\n",
    "![](images/pixabay.jpg)\n",
    "<figcaption style=\"text-align: center;\">\n",
    "    <strong>\n",
    "        Photo by \n",
    "        <a href='https://pixabay.com/?utm_source=link-attribution&utm_medium=referral&utm_campaign=image&utm_content=3849936'>Peter Fischer</a>\n",
    "        on \n",
    "        <a href='https://pixabay.com/?utm_source=link-attribution&utm_medium=referral&utm_campaign=image&utm_content=3849936'>Pixabay</a></strong>\n",
    "</figcaption>"
   ]
  },
  {
   "cell_type": "markdown",
   "metadata": {},
   "source": [
    "## Introduction"
   ]
  },
  {
   "cell_type": "markdown",
   "metadata": {},
   "source": [
    "Wow, this place is fantastic. Look at all these Kagglers. So much to learn. The competitions sound like immense fun, and even Google seems to host them here. I swear I am gonna crush it.\n",
    "\n",
    "Let me check out some of these gold notebooks. Whoa, it is written by a grandmaster. THAT sounds luxurious. The guy seems to know so damn much. I've never seen a data scientist so cool. Let's see his profile - yep, he is a rocket scientist.\n",
    "\n",
    "What am I thinking? I can't compete with that. I should probably go before I embarrass myself. Yeah, that's right. I will study up for a couple more years on Coursera and come back and show 'em.\n",
    "\n",
    "...\n",
    "\n",
    "That pretty much sums up how I felt when I first set my keyboard on Kaggle, and I am sure that's the case for so many others. Feeling that dreadful sinking sensation in your stomach when you realize you are not just good enough to play with the big guys-wondering if you will ever be like them.\n",
    "\n",
    "I certainly wouldn't have achieved a Master's rank if I kept sitting on my back, wondering miserably. I just had to take the first step and figure out the rest down the road.\n",
    "\n",
    "This first step is the most important one for starters. Get it wrong, and you are back to that impostor syndrome that tells you there is no way in hell you will be able to compete with these pros.\n",
    "\n",
    "Today, I will show you exactly how you should take this initial step in stages that will set you up for success in no time on Kaggle."
   ]
  },
  {
   "cell_type": "markdown",
   "metadata": {},
   "source": [
    "## Step 1: The boring setup I must mention"
   ]
  },
  {
   "cell_type": "markdown",
   "metadata": {},
   "source": [
    "Once you [create your account](https://www.kaggle.com/account/login) and become a novice (the lowest rank on Kaggle), you are mere inches away from becoming an official Kaggler.\n",
    "\n",
    "All you have to do is submit to a competition and earn your contributor badge. Almost 40% of all Kaggle users are contributors, and even a larger proportion is novices.\n",
    "\n",
    "Sure, if you are a beginner, there is no shame in taking a few of [Kaggle's official courses](https://www.kaggle.com/learn) to get your skills up to scratch. I recommend taking the free [Intro to ML course](https://www.kaggle.com/learn/intro-to-machine-learning) first as it will explain the basics of ML and hold your hands while you submit to a competition for the first time."
   ]
  },
  {
   "cell_type": "markdown",
   "metadata": {},
   "source": [
    "## Step 2: Be part of the community first"
   ]
  },
  {
   "cell_type": "markdown",
   "metadata": {},
   "source": [
    "Many people go about joining Kaggle the wrong way. As everyone brands Kaggle as a competitions platform, most feel a mounting pressure to join them straight away to become a 'Kaggler.' Nothing could be further from the truth.\n",
    "\n",
    "Feeling that you have to join a competition right away is a massive trap, and you will just end up miserable if you haven't developed the right skills yet because Kaggle is brutally competitive. Even the smallest challenges attract many skilled specialists.\n",
    "\n",
    "So what is the solution?\n",
    "\n",
    "Be part of the community first. Feel that you are a member of this group so that you eliminate your impostor syndrome and can say to yourself, \"I am a Kaggler.\"\n",
    "\n",
    "Well, how do you do that?\n",
    "\n",
    "You start reading notebooks. A lot. By everyone. I suggest picking a competition you are interested in (see the following sections for suggestions) and ordering the list of notebooks by the number of upvotes.\n",
    "\n",
    "![](images/1.gif)\n",
    "\n",
    "You scroll down and open the notebooks with the lowest # of upvotes. Often, these are written by beginners and need just as much support and feedback as you.\n",
    "\n",
    "Once you start communicating with the authors in the comments section (there is a very high chance they respond to every comment), you build a connection with them. They will probably follow you back once you comment on a few of their notebooks.\n",
    "\n",
    "Now, in every notebook, there are a few to-dos.\n",
    "\n",
    "First, leave at least one comment. It can be about anything - the way the code is written (clean, follows best practices), how the author explains his thought process, the quality of the data visualizations, or any imaginable aspect of the notebook.\n",
    "\n",
    "You can also suggest improvements here and there. If the author knows more than you, say that too and tell them you learned something new."
   ]
  },
  {
   "cell_type": "markdown",
   "metadata": {},
   "source": [
    "![](images/4.png)\n",
    "\n",
    "If you don't know much about what the author is talking about, fork the notebook and start tinkering with every code cell. Read the docs and tutorials on the unknown functions until you understand what each line is doing.\n",
    "\n",
    "Once you repeat this process for 10–20 notebooks, you will realize you learn much more than you ever will in a course in the same span of time. \n",
    "\n",
    "And the best part is that now, you aren't just nobody - you know and follow many authors, and they probably remember you as well if you had left good enough feedback and appreciation for their work."
   ]
  },
  {
   "cell_type": "markdown",
   "metadata": {},
   "source": [
    "## Step 3: Understand how Kaggle hotness system works and its progression system."
   ]
  },
  {
   "cell_type": "markdown",
   "metadata": {},
   "source": [
    "You have to look at [this page](https://www.kaggle.com/progression) on the Kaggle docs to understand how to reach each rank:\n",
    "\n",
    "![](images/2.gif)\n",
    "\n",
    "There are four categories, and each one requires different levels of effort and skill to achieve the grandmaster title. GMs in competitions and datasets are the hardest. \n",
    "\n",
    "You might not be in Kaggle for ranks, which is perfectly fine. But if you want to build good connections and expand your network, earning a title is a surefire way to gain credibility. \n",
    "\n",
    "The most respectable titles are masters and GMs in either competitions or notebooks (in my opinion, at least). Still, any GM title is always enough to earn respect and admiration from many.\n",
    "\n",
    "Kaggle's hotness system is similar to LinkedIn's (but without the complications of second and third-degree connections).\n",
    "\n",
    "If you produce content, it will often show up on your followers' feed if it matches their preferences. If they interact with your work, this will similarly display on their followers' feeds. So, more followers mean wider reach.\n",
    "\n",
    "The rank of notebooks in a comp also changes, not based on # of upvotes but how many people comment on it."
   ]
  },
  {
   "cell_type": "markdown",
   "metadata": {},
   "source": [
    "## Step 4: Choose a competition"
   ]
  },
  {
   "cell_type": "markdown",
   "metadata": {},
   "source": [
    "Now, you are ready. Everything has been leading up to this - choosing and entering a competition.\n",
    "\n",
    "Even if you are a beginner, I DON'T recommend these *Getting-started* competitions:\n",
    "\n",
    "- [The Titanic - classification](https://www.kaggle.com/c/titanic)\n",
    "- [The House Prices regression](https://www.kaggle.com/c/house-prices-advanced-regression-techniques)\n",
    "\n",
    "Almost any beginner starts on Kaggle with these, so they are very saturated. Besides, there is a lot of plagiarism because people will just copy from top solutions from previous winners to move up the leaderboard.\n",
    "\n",
    "Don't be surprised if you find notebooks with thousands of upvotes - these competitions have been there since the dawn of Kaggle, and people have had time to explore their datasets in every way imaginable.\n",
    "\n",
    "Instead, start with the monthly Tabular Playground Series (TPS) competitions, as I did. They are a teensy bit harder than getting-started comps but are much more fun and have a larger capacity to teach you something new.\n",
    "\n",
    "Because of their beginner-level nature, they attract very few grandmasters but are still hard to win (I have yet to do it)."
   ]
  },
  {
   "cell_type": "markdown",
   "metadata": {},
   "source": [
    "## The ultimate 4-week workflow to succeed in a competition"
   ]
  },
  {
   "cell_type": "markdown",
   "metadata": {},
   "source": [
    "First, let's define \"success in a competition.\"\n",
    "\n",
    "For me, I am pretty happy if my score is within 1% of the first-place submission. For example, in September TPS, which I was very active in, I scored 0.81708 ROC AUC while the first place scored 0.81775. I took 332nd place even with a difference of 0.0067.\n",
    "\n",
    "Most of the time, you can land in the reach of the top score even with simple models and a bit of [hyperparameter tuning](https://towardsdatascience.com/why-is-everyone-at-kaggle-obsessed-with-optuna-for-hyperparameter-tuning-7608fdca337c). But to reach the top, you have to do a lot of tedious work and experimentation. That is what's required to win, at least in TPS competitions. \n",
    "\n",
    "The featured and code competitions (with prize money) are different. They have runtime and resource limits. For example, some don't accept solutions that train for more than 8 hours to keep them practical in case the host wants to productionalize some of them in the future.\n",
    "\n",
    "No matter the type of the comp, there are a few steps you can take to guarantee success. I'll outline them in the case of TPS competitions, but you can always extend the ideas depending on the duration of the competition.\n",
    "\n",
    "So, to get good results in TPS or any Kaggle competition, here is how you should allocate your time:"
   ]
  },
  {
   "cell_type": "markdown",
   "metadata": {},
   "source": [
    "That is what's required to win a competition on Kaggle, at least on TPS competitions. The featured and code competitions (the ones with prize money) are different. They have runtime and resource limits. For example, some competitions don't accept solutions that train for more than 8 hours to keep the solutions practical in case the host wants to productionalize some of them in the future. \n",
    "\n",
    "(But don't get the idea I am a sore loser and winning a Kaggle comp isn't worth it. It absolutely is and it is a privilege to win one. You will develop crucial skills like problem solving that have much upside later in your career.)\n",
    "\n",
    "No matter the type of the comp, there are a few steps you can take to guarantee success. I'll outline them in the case of TPS competitions but you can always extend the ideas depending on the duration of the competition. \n",
    "\n",
    "So, to get good results in TPS or in any Kaggle competition, here is how you should allocate your time:\n",
    "\n",
    "**Week 1: Exploratory Data Analysis (EDA)**. Its importance is undeniable and it will be integral to how you come up with solutions later. You should pay special attention to the features in the data and how you can normalize them ([different distributions need different algorithms](https://towardsdatascience.com/how-to-differentiate-between-scaling-normalization-and-log-transformations-69873d365a94?source=your_stories_page----------------------------------------) to do so). EDA also gives you ideas for possible feature engineering ideas, another important part of your success. \n",
    "\n",
    "In week 1, you should also develop a validation strategy. You should set up a baseline score with a model ([XGBoost is popular](https://towardsdatascience.com/20-burning-xgboost-faqs-answered-to-use-the-library-like-a-pro-f8013b8df3e4)) and see if you can improve on it by using other methods. \n",
    "\n",
    "**Week 2: Model selection**. Now, you try out different models with default hyperparameters to see which one has the highest score over your baseline. It can be tree-based like XGBoost or linear models such as logistic or linear regression. \n",
    "\n",
    "I also recommend going through some rarer models in Sklearn based on your intuition and knowledge you got from EDA. You may find a surprise or two that could give you even higher scores than tree-based models. "
   ]
  },
  {
   "cell_type": "markdown",
   "metadata": {},
   "source": [
    "Here, it is important that you judge these models based on [both their training and test scores](https://towardsdatascience.com/6-sklearn-mistakes-that-silently-tell-you-are-a-rookie-84fa55f2b9dd) through [cross-validation](https://towardsdatascience.com/5-cross-validation-techniques-you-need-to-create-models-that-people-trust-62c4629a678b?source=your_stories_page----------------------------------------) (the keywords are linked to relevant tutorials).\n",
    "\n",
    "**Week 3: Feature engineering**. Now, we are onto the secret sauce all the GMs use in their path to the top. Feature engineering is not something you learn in a course. There is a lot that can be said about it but in brief: \n",
    "\n",
    "> Feature engineering is about shaping and transforming datasets so that the models can learn as much information from them as possible. \n",
    "\n",
    "FE is especially important in tabular and [time series competitions](https://towardsdatascience.com/top-4-time-series-feature-engineering-lessons-from-kaggle-ca2d4c9cbbe7). \n",
    "\n",
    "Every time you make a change to the data (add a new column, change an existing one, etc.), you should run your best model(s) you found in week 2 to see if this change improves your score. \n",
    "\n",
    "**Week 4: Hyperparameter tuning**: Now that you've added new, juicy features, it is time to squeeze every bit of performance from your potential models."
   ]
  },
  {
   "cell_type": "markdown",
   "metadata": {},
   "source": [
    "You will need a good tuning framework. I am especially fond of [Optuna](https://towardsdatascience.com/why-is-everyone-at-kaggle-obsessed-with-optuna-for-hyperparameter-tuning-7608fdca337c) and so are many other Kagglers.\n",
    "\n",
    "Once you have your best model(s) tuned, you can generate predictions and pack them up for a submission. Or you can combine multiple models as an ensemble to boost your score even more. Ensemble solutions are mostly useless in the real world as they are very costly but you will see that Kaggle is full of them. Upwards the 50th percentile of the leaderboard, people often use ensembles. You can learn more about them [here](https://www.kaggle.com/arthurtok/introduction-to-ensembling-stacking-in-python).\n",
    "\n",
    "And finally, all these steps are iterative and can change based on your needs. You might go back to any one of them anytime and stretch or shorten the time you need to complete each step."
   ]
  },
  {
   "cell_type": "markdown",
   "metadata": {},
   "source": [
    "## Step 5: Start publishing notebooks - backbone of your success (optional)"
   ]
  },
  {
   "cell_type": "markdown",
   "metadata": {},
   "source": [
    "If there is one thing that is guaranteed to get your name out is publishing high-quality tutorial notebooks.\n",
    "\n",
    "Even though there are many highly-skilled scientists who crush in competitions, you will find that there aren't many who can explain their work to others in crystal-clear way. \n",
    "\n",
    "That's why I had such an easy time getting my Master title in notebooks:\n",
    "\n",
    "![](images/1.png)\n",
    "\n",
    "I only had to create 22 notebooks to get 11 gold medals (4 short of GrandMaster), a much higher gold/notebook ratio than most. I have been writing data science tutorials for quite a while before I published them, so I had much practice to write technical content. \n",
    "\n",
    "In fact, there is nothing but laziness and other commitments that is stopping me from getting my first-ever GM title:\n",
    "\n",
    "![](images/2.png)\n",
    "\n",
    "I have been inactive these past few months. "
   ]
  },
  {
   "cell_type": "markdown",
   "metadata": {},
   "source": [
    "You will also find that the best and most popular GMs are the ones that win competitions and outline their solutions in a professional and yet understandable manner to the masses. \n",
    "\n",
    "Writing notebooks forces you to write clean code and make research on the topics you want to explain to others:\n",
    "\n",
    "![](images/3.png)"
   ]
  },
  {
   "cell_type": "markdown",
   "metadata": {},
   "source": [
    "The community gobbles down good notebooks - for any of my typical gold notebook, I receive 20-40 \"thank you\" and feedback comments as opposed to barely a few on my articles on Medium even though they are usually read by thousands. "
   ]
  },
  {
   "cell_type": "markdown",
   "metadata": {},
   "source": [
    "## Conclusion"
   ]
  },
  {
   "cell_type": "markdown",
   "metadata": {},
   "source": [
    "Kaggle Grandmaster titles are definitely a prestige. They do look flashy on your LinkedIn title and spice your resume right up. \n",
    "\n",
    "But what is best about Kaggle is always its community. Not only is it the largest online data platform but programmers from other industries have yet to form such an amazing community with so many skilled specialists. Regardless of your rank, being part of it expands your knowledge and network much more than courses and books will ever do. \n",
    "\n",
    "https://ibexorigin.medium.com/membership\n",
    "\n",
    "Reach out to me on [LinkedIn](https://www.linkedin.com/in/bextuychiev/) or [Twitter](https://twitter.com/BexTuychiev) for a friendly chat about all things data. Or you can just read another story from me. How about these:\n",
    "\n",
    "https://towardsdatascience.com/22-2-built-in-python-libraries-you-didnt-know-existed-p-guarantee-8-275685dbdb99\n",
    "\n",
    "https://towardsdatascience.com/8-booming-data-science-libraries-you-must-watch-out-in-2022-cec2dbb42437\n",
    "\n",
    "https://towardsdatascience.com/6-pandas-mistakes-that-silently-tell-you-are-a-rookie-b566a252e60d\n",
    "\n",
    "https://towardsdatascience.com/7-cool-python-packages-kagglers-are-using-without-telling-you-e83298781cf4\n",
    "\n",
    "https://towardsdatascience.com/25-pandas-functions-you-didnt-know-existed-p-guarantee-0-8-1a05dcaad5d0\n"
   ]
  }
 ],
 "metadata": {
  "kernelspec": {
   "display_name": "medium_articles",
   "language": "python",
   "name": "medium_articles"
  },
  "language_info": {
   "codemirror_mode": {
    "name": "ipython",
    "version": 3
   },
   "file_extension": ".py",
   "mimetype": "text/x-python",
   "name": "python",
   "nbconvert_exporter": "python",
   "pygments_lexer": "ipython3",
   "version": "3.8.11"
  }
 },
 "nbformat": 4,
 "nbformat_minor": 4
}
