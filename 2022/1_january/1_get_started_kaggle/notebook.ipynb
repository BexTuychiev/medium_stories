{
 "cells": [
  {
   "cell_type": "markdown",
   "metadata": {},
   "source": [
    "# How to Get Started on Kaggle in 2022 (Even If You Are Terrified)\n",
    "## Your road to GrandMaster\n",
    "![](images/pixabay.jpg)\n",
    "<figcaption style=\"text-align: center;\">\n",
    "    <strong>\n",
    "        Photo by \n",
    "        <a href='https://pixabay.com/?utm_source=link-attribution&utm_medium=referral&utm_campaign=image&utm_content=3849936'>Peter Fischer</a>\n",
    "        on \n",
    "        <a href='https://pixabay.com/?utm_source=link-attribution&utm_medium=referral&utm_campaign=image&utm_content=3849936'>Pixabay</a></strong>\n",
    "</figcaption>"
   ]
  },
  {
   "cell_type": "markdown",
   "metadata": {},
   "source": [
    "## Introduction"
   ]
  },
  {
   "cell_type": "markdown",
   "metadata": {},
   "source": [
    "Wow, this place is awesome. Look at all these Kagglers. So much to learn. The competitions sound immense fun. Even Google seems to host them here. I swear, I am gonna crush here. \n",
    "\n",
    "Let me check out some of these gold notebooks. Whoa, it is written by a grandmaster. THAT sounds luxurious. The guy seems to know so damn much. I've never seen a data scientist so cool. Let's see his profile - yep, he is a rocket scientist.\n",
    "\n",
    "What am I thinking? I can't compete with that. I should probably go before I embarrass myself. Yeah, that's right. I will study up for a couple more years on Coursera and come back and show 'em. \n",
    "\n",
    "...\n",
    "\n",
    "That pretty much sums up how I felt when I first set my keyboard on Kaggle. I am sure that's the case for so many others. Feeling that dreadful sinking sensation in your stomach when you realize you are not *just good enough* to play with the big guys. \n",
    "\n"
   ]
  },
  {
   "cell_type": "markdown",
   "metadata": {},
   "source": [
    "## Step 1: The boring setup I must mention"
   ]
  },
  {
   "cell_type": "markdown",
   "metadata": {},
   "source": [
    "Once you [create your account](https://www.kaggle.com/account/login) and become a novice (the lowest rank on Kaggle), you are just inches away from becoming an official Kaggler. \n",
    "\n",
    "All you have to do is to make a single submission to a competition and earn your contributor badge. Almost 40% of all Kaggle users are contributors and even larger proportion are novices.\n",
    "\n",
    "Sure, if you are a complete beginner there is no shame in taking a few of [Kaggle's official courses](https://www.kaggle.com/learn) to get your skills up to scratch. Yes, you will have to work harder than others but it will be absolutely worth it. At this stage, it is important not to compare yourself to others so that you won't lose motivation. \n",
    "\n",
    "After setting up your account, there is a trap you have to avoid so that you won't kill your motivation before you even have it. This brings us to step 2."
   ]
  },
  {
   "cell_type": "markdown",
   "metadata": {},
   "source": [
    "## Step 2: Be part of the community first"
   ]
  },
  {
   "cell_type": "markdown",
   "metadata": {},
   "source": [
    "Many people go about joining Kaggle the wrong way. As everyone brands Kaggle as a competitions platform, most feel a mounting pressure to join a competition straight away to become a 'Kaggler'. Nothing could be further from the truth. \n",
    "\n",
    "Feeling that you have to join a competition right away is a massive trap. You will just end up miserable if you haven't developed the right skills yet because Kaggle is brutally competitive. Even the smallest challenges attract many skilled specialists. \n",
    "\n",
    "So what is the solution?\n",
    "\n",
    "Be part of the community first. Feel that you are a member of this group of cool people so that you eliminate your impostor syndrome and can honestly say yourself, \"I am a Kaggler\". \n",
    "\n",
    "Well, how do you do that?\n",
    "\n",
    "You start reading notebooks. A lot. By everyone. I suggest picking a competition you are interested in (see the next section for which competitions are suitable for you) and ordering the list of notebooks by number of notebooks. \n",
    "\n",
    "SHOW GIF OF ORDERING THE NOTEBOOKS\n",
    "\n",
    "You scroll down right to the bottom and open the notebooks with lowest upvotes. Often, these notebooks are written by beginners and they need just as much support and feedback as you. By reading their work and giving feedback, you grow together with these people. Once you start communicating with the author in the comments section (there is a very high chance they respond to every comment), you build a connection with them. They will probably follow you once comment on a few of their notebooks (followers are important on Kaggle. More on this later.)\n",
    "\n",
    "Now, in every notebook, there a few to-dos to be as productive as possible.\n",
    "\n",
    "First, leave at least one comment. It can be about anything - the way the code is written (clean, follows best practices), how the author explains his though process, the quality of the visuals or any imaginable aspect of the notebook. \n",
    "\n",
    "Based on your own experience, you can suggest improvements on parts of the notebook that need change. If the author knows more than you on the topic of the notebook, say that too and tell them you learned something new. \n",
    "\n",
    "MAYBE ADD AN IMAGE\n",
    "\n",
    "If you don't know much of the content of the notebook, fork it and start tinkering with every code cell. Read the docs and tutorials on the unknown functions until you completely understand what the code is doing in every line. "
   ]
  },
  {
   "cell_type": "markdown",
   "metadata": {},
   "source": [
    "Once you repeat this process for 10-20 notebooks, you will realize you learn much more than you ever will in a course in a similar span of time. And the best part is that now, you aren't just nobody - you know and follow the authors of these notebooks and they probably remember you as well if you left good enough feedback and appreciation for their work."
   ]
  }
 ],
 "metadata": {
  "kernelspec": {
   "display_name": "medium_articles",
   "language": "python",
   "name": "medium_articles"
  },
  "language_info": {
   "codemirror_mode": {
    "name": "ipython",
    "version": 3
   },
   "file_extension": ".py",
   "mimetype": "text/x-python",
   "name": "python",
   "nbconvert_exporter": "python",
   "pygments_lexer": "ipython3",
   "version": "3.8.11"
  }
 },
 "nbformat": 4,
 "nbformat_minor": 4
}
