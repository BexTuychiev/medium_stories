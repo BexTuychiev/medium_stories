{
 "cells": [
  {
   "cell_type": "markdown",
   "metadata": {},
   "source": [
    "# How to Get Started on Kaggle in 2022 (Even If You Are Terrified)\n",
    "## and pick up a master title in 3 months\n",
    "![](images/pixabay.jpg)\n",
    "<figcaption style=\"text-align: center;\">\n",
    "    <strong>\n",
    "        Photo by \n",
    "        <a href='https://pixabay.com/?utm_source=link-attribution&utm_medium=referral&utm_campaign=image&utm_content=3849936'>Peter Fischer</a>\n",
    "        on \n",
    "        <a href='https://pixabay.com/?utm_source=link-attribution&utm_medium=referral&utm_campaign=image&utm_content=3849936'>Pixabay</a></strong>\n",
    "</figcaption>"
   ]
  },
  {
   "cell_type": "markdown",
   "metadata": {},
   "source": [
    "## Introduction"
   ]
  },
  {
   "cell_type": "markdown",
   "metadata": {},
   "source": [
    "Wow, this place is awesome. Look at all these Kagglers. So much to learn. The competitions sound immense fun. Even companies like Google seem to host them. I swear, I am gonna crush here. \n",
    "\n",
    "Let me check out some of these gold notebooks. Whoa, it is written by a grandmaster. THAT sounds luxurious. The guy seems to know so damn much. I've never seen a data scientist so cool. Let's see his profile - yep, he is a rocket scientist.\n",
    "\n",
    "What was I thinking? I can't compete with that. I should probably go before I embarrass myself. Yeah, that's right. I will study up for a couple more years on Coursera and come back and show 'em. \n",
    "\n",
    "...\n",
    "\n",
    "That pretty much sums up how I felt when I first set my keyboard on Kaggle. I am sure that's the case for so many others. "
   ]
  }
 ],
 "metadata": {
  "kernelspec": {
   "display_name": "medium_articles",
   "language": "python",
   "name": "medium_articles"
  },
  "language_info": {
   "codemirror_mode": {
    "name": "ipython",
    "version": 3
   },
   "file_extension": ".py",
   "mimetype": "text/x-python",
   "name": "python",
   "nbconvert_exporter": "python",
   "pygments_lexer": "ipython3",
   "version": "3.8.5"
  }
 },
 "nbformat": 4,
 "nbformat_minor": 4
}
