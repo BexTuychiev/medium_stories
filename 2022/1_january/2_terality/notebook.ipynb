{
 "cells": [
  {
   "cell_type": "markdown",
   "id": "937c9b3f-716c-40c9-9c70-a3d006f3e70a",
   "metadata": {},
   "source": [
    "# Good-bye Pandas! Meet Terality - Its Evil Twin With Identical Syntax\n",
    "## ... but +30 times faster\n",
    "![](images/unsplash.jpg)"
   ]
  },
  {
   "cell_type": "markdown",
   "id": "f184c3e3-e8d5-4013-a3b6-f023452df582",
   "metadata": {},
   "source": [
    "# Introduction"
   ]
  },
  {
   "cell_type": "markdown",
   "id": "3c3a741f-cfa2-4a0b-8e2e-b193239bf7b3",
   "metadata": {},
   "source": [
    "# Preparing a dataset"
   ]
  },
  {
   "cell_type": "markdown",
   "id": "fa0d1f9d-12f9-46d2-9f8c-8e3a9ff4a3fb",
   "metadata": {},
   "source": [
    "```python\n",
    "import pandas as pd\n",
    "\n",
    "df = pd.read_csv(\"data/train.csv\")\n",
    "large_df = df.sample(6 * 10 ** 7, replace=True)  # 60 million rows\n",
    "\n",
    "large_df.to_parquet(\n",
    "    \"data/tps_may_large.parquet\", row_group_size=len(df) // 15, engine=\"pyarrow\"\n",
    ")  # Save to parquet format\n",
    "```"
   ]
  },
  {
   "cell_type": "code",
   "execution_count": 18,
   "id": "2dca52ed-3bcd-4909-99a2-19a4fa65fd43",
   "metadata": {},
   "outputs": [
    {
     "data": {
      "text/plain": [
       "7.1"
      ]
     },
     "execution_count": 18,
     "metadata": {},
     "output_type": "execute_result"
    }
   ],
   "source": [
    "from pathlib import Path\n",
    "\n",
    "size = Path(\"data/tps_may_large.parquet\").stat().st_size\n",
    "size_in_gb = size / 1024 ** 3\n",
    "\n",
    "round(size_in_gb, 2)  # size in gb"
   ]
  },
  {
   "cell_type": "markdown",
   "id": "dfd9121b-eff2-4327-9357-d81cadfc69ed",
   "metadata": {},
   "source": []
  },
  {
   "cell_type": "code",
   "execution_count": null,
   "id": "2cfc17fa-2da2-4274-8c9a-e73e9e825601",
   "metadata": {},
   "outputs": [],
   "source": []
  },
  {
   "cell_type": "code",
   "execution_count": null,
   "id": "ca3966b5-2fd9-41dd-a044-c4e2946b89d5",
   "metadata": {},
   "outputs": [],
   "source": []
  },
  {
   "cell_type": "code",
   "execution_count": null,
   "id": "4638156a-c3d6-430d-8c08-b2969c9f98a0",
   "metadata": {},
   "outputs": [],
   "source": []
  },
  {
   "cell_type": "code",
   "execution_count": null,
   "id": "0759d252-cceb-4f83-9fc6-10e3bcba70d8",
   "metadata": {},
   "outputs": [],
   "source": []
  },
  {
   "cell_type": "code",
   "execution_count": 2,
   "id": "152a2549-3a3b-454c-92bf-b7e0a243a134",
   "metadata": {},
   "outputs": [],
   "source": [
    "import pandas as pd"
   ]
  },
  {
   "cell_type": "code",
   "execution_count": 3,
   "id": "4a731e3a-949d-41be-8b47-bca0146ac41d",
   "metadata": {},
   "outputs": [
    {
     "name": "stdout",
     "output_type": "stream",
     "text": [
      "Wall time: 53.7 s\n"
     ]
    },
    {
     "data": {
      "text/html": [
       "<div>\n",
       "<style scoped>\n",
       "    .dataframe tbody tr th:only-of-type {\n",
       "        vertical-align: middle;\n",
       "    }\n",
       "\n",
       "    .dataframe tbody tr th {\n",
       "        vertical-align: top;\n",
       "    }\n",
       "\n",
       "    .dataframe thead th {\n",
       "        text-align: right;\n",
       "    }\n",
       "</style>\n",
       "<table border=\"1\" class=\"dataframe\">\n",
       "  <thead>\n",
       "    <tr style=\"text-align: right;\">\n",
       "      <th></th>\n",
       "      <th>id</th>\n",
       "      <th>cat0</th>\n",
       "      <th>cat1</th>\n",
       "      <th>cat2</th>\n",
       "      <th>cat3</th>\n",
       "      <th>cat4</th>\n",
       "      <th>cat5</th>\n",
       "      <th>cat6</th>\n",
       "      <th>cat7</th>\n",
       "      <th>cat8</th>\n",
       "      <th>...</th>\n",
       "      <th>cont2</th>\n",
       "      <th>cont3</th>\n",
       "      <th>cont4</th>\n",
       "      <th>cont5</th>\n",
       "      <th>cont6</th>\n",
       "      <th>cont7</th>\n",
       "      <th>cont8</th>\n",
       "      <th>cont9</th>\n",
       "      <th>cont10</th>\n",
       "      <th>target</th>\n",
       "    </tr>\n",
       "  </thead>\n",
       "  <tbody>\n",
       "    <tr>\n",
       "      <th>182422</th>\n",
       "      <td>304374</td>\n",
       "      <td>B</td>\n",
       "      <td>I</td>\n",
       "      <td>C</td>\n",
       "      <td>A</td>\n",
       "      <td>E</td>\n",
       "      <td>BI</td>\n",
       "      <td>A</td>\n",
       "      <td>E</td>\n",
       "      <td>AE</td>\n",
       "      <td>...</td>\n",
       "      <td>0.314827</td>\n",
       "      <td>0.337578</td>\n",
       "      <td>0.588459</td>\n",
       "      <td>0.812049</td>\n",
       "      <td>0.399413</td>\n",
       "      <td>0.347415</td>\n",
       "      <td>0.362455</td>\n",
       "      <td>0.479648</td>\n",
       "      <td>0.388591</td>\n",
       "      <td>0</td>\n",
       "    </tr>\n",
       "    <tr>\n",
       "      <th>293498</th>\n",
       "      <td>489146</td>\n",
       "      <td>A</td>\n",
       "      <td>I</td>\n",
       "      <td>F</td>\n",
       "      <td>A</td>\n",
       "      <td>H</td>\n",
       "      <td>BI</td>\n",
       "      <td>A</td>\n",
       "      <td>AD</td>\n",
       "      <td>AT</td>\n",
       "      <td>...</td>\n",
       "      <td>0.785501</td>\n",
       "      <td>0.262564</td>\n",
       "      <td>0.797093</td>\n",
       "      <td>0.618762</td>\n",
       "      <td>0.685029</td>\n",
       "      <td>0.516098</td>\n",
       "      <td>0.698928</td>\n",
       "      <td>0.647654</td>\n",
       "      <td>0.393393</td>\n",
       "      <td>0</td>\n",
       "    </tr>\n",
       "    <tr>\n",
       "      <th>220335</th>\n",
       "      <td>367472</td>\n",
       "      <td>B</td>\n",
       "      <td>I</td>\n",
       "      <td>A</td>\n",
       "      <td>C</td>\n",
       "      <td>F</td>\n",
       "      <td>AB</td>\n",
       "      <td>A</td>\n",
       "      <td>AH</td>\n",
       "      <td>AY</td>\n",
       "      <td>...</td>\n",
       "      <td>0.472732</td>\n",
       "      <td>0.274317</td>\n",
       "      <td>0.239821</td>\n",
       "      <td>0.734716</td>\n",
       "      <td>0.477748</td>\n",
       "      <td>0.458747</td>\n",
       "      <td>0.339953</td>\n",
       "      <td>0.565235</td>\n",
       "      <td>0.417390</td>\n",
       "      <td>0</td>\n",
       "    </tr>\n",
       "    <tr>\n",
       "      <th>215241</th>\n",
       "      <td>358783</td>\n",
       "      <td>A</td>\n",
       "      <td>I</td>\n",
       "      <td>A</td>\n",
       "      <td>A</td>\n",
       "      <td>H</td>\n",
       "      <td>BI</td>\n",
       "      <td>A</td>\n",
       "      <td>AN</td>\n",
       "      <td>AD</td>\n",
       "      <td>...</td>\n",
       "      <td>0.866463</td>\n",
       "      <td>0.745388</td>\n",
       "      <td>0.668823</td>\n",
       "      <td>0.619450</td>\n",
       "      <td>0.547709</td>\n",
       "      <td>0.828951</td>\n",
       "      <td>0.815386</td>\n",
       "      <td>0.363989</td>\n",
       "      <td>0.638822</td>\n",
       "      <td>0</td>\n",
       "    </tr>\n",
       "    <tr>\n",
       "      <th>265936</th>\n",
       "      <td>443252</td>\n",
       "      <td>A</td>\n",
       "      <td>J</td>\n",
       "      <td>C</td>\n",
       "      <td>A</td>\n",
       "      <td>E</td>\n",
       "      <td>T</td>\n",
       "      <td>A</td>\n",
       "      <td>A</td>\n",
       "      <td>AX</td>\n",
       "      <td>...</td>\n",
       "      <td>0.308595</td>\n",
       "      <td>0.309102</td>\n",
       "      <td>0.803394</td>\n",
       "      <td>0.299911</td>\n",
       "      <td>0.554340</td>\n",
       "      <td>0.332101</td>\n",
       "      <td>0.243223</td>\n",
       "      <td>0.257364</td>\n",
       "      <td>0.314352</td>\n",
       "      <td>0</td>\n",
       "    </tr>\n",
       "  </tbody>\n",
       "</table>\n",
       "<p>5 rows × 32 columns</p>\n",
       "</div>"
      ],
      "text/plain": [
       "            id cat0 cat1 cat2 cat3 cat4 cat5 cat6 cat7 cat8  ...     cont2  \\\n",
       "182422  304374    B    I    C    A    E   BI    A    E   AE  ...  0.314827   \n",
       "293498  489146    A    I    F    A    H   BI    A   AD   AT  ...  0.785501   \n",
       "220335  367472    B    I    A    C    F   AB    A   AH   AY  ...  0.472732   \n",
       "215241  358783    A    I    A    A    H   BI    A   AN   AD  ...  0.866463   \n",
       "265936  443252    A    J    C    A    E    T    A    A   AX  ...  0.308595   \n",
       "\n",
       "           cont3     cont4     cont5     cont6     cont7     cont8     cont9  \\\n",
       "182422  0.337578  0.588459  0.812049  0.399413  0.347415  0.362455  0.479648   \n",
       "293498  0.262564  0.797093  0.618762  0.685029  0.516098  0.698928  0.647654   \n",
       "220335  0.274317  0.239821  0.734716  0.477748  0.458747  0.339953  0.565235   \n",
       "215241  0.745388  0.668823  0.619450  0.547709  0.828951  0.815386  0.363989   \n",
       "265936  0.309102  0.803394  0.299911  0.554340  0.332101  0.243223  0.257364   \n",
       "\n",
       "          cont10 target  \n",
       "182422  0.388591      0  \n",
       "293498  0.393393      0  \n",
       "220335  0.417390      0  \n",
       "215241  0.638822      0  \n",
       "265936  0.314352      0  \n",
       "\n",
       "[5 rows x 32 columns]"
      ]
     },
     "execution_count": 3,
     "metadata": {},
     "output_type": "execute_result"
    }
   ],
   "source": [
    "%%time\n",
    "\n",
    "df = pd.read_parquet(\"data/tps_may_large.parquet\")\n",
    "df.head()"
   ]
  },
  {
   "cell_type": "code",
   "execution_count": 5,
   "id": "56edc5a9-2b00-4dcb-bf73-fc11dc9fe436",
   "metadata": {},
   "outputs": [
    {
     "name": "stdout",
     "output_type": "stream",
     "text": [
      "<class 'pandas.core.frame.DataFrame'>\n",
      "Int64Index: 60000000 entries, 182422 to 262725\n",
      "Data columns (total 32 columns):\n",
      " #   Column  Dtype  \n",
      "---  ------  -----  \n",
      " 0   id      int64  \n",
      " 1   cat0    object \n",
      " 2   cat1    object \n",
      " 3   cat2    object \n",
      " 4   cat3    object \n",
      " 5   cat4    object \n",
      " 6   cat5    object \n",
      " 7   cat6    object \n",
      " 8   cat7    object \n",
      " 9   cat8    object \n",
      " 10  cat9    object \n",
      " 11  cat10   object \n",
      " 12  cat11   object \n",
      " 13  cat12   object \n",
      " 14  cat13   object \n",
      " 15  cat14   object \n",
      " 16  cat15   object \n",
      " 17  cat16   object \n",
      " 18  cat17   object \n",
      " 19  cat18   object \n",
      " 20  cont0   float64\n",
      " 21  cont1   float64\n",
      " 22  cont2   float64\n",
      " 23  cont3   float64\n",
      " 24  cont4   float64\n",
      " 25  cont5   float64\n",
      " 26  cont6   float64\n",
      " 27  cont7   float64\n",
      " 28  cont8   float64\n",
      " 29  cont9   float64\n",
      " 30  cont10  float64\n",
      " 31  target  int64  \n",
      "dtypes: float64(11), int64(2), object(19)\n",
      "memory usage: 68.0 GB\n"
     ]
    }
   ],
   "source": [
    "df.info(memory_usage=\"deep\")"
   ]
  }
 ],
 "metadata": {
  "kernelspec": {
   "display_name": "medium_articles",
   "language": "python",
   "name": "medium_articles"
  },
  "language_info": {
   "codemirror_mode": {
    "name": "ipython",
    "version": 3
   },
   "file_extension": ".py",
   "mimetype": "text/x-python",
   "name": "python",
   "nbconvert_exporter": "python",
   "pygments_lexer": "ipython3",
   "version": "3.8.11"
  }
 },
 "nbformat": 4,
 "nbformat_minor": 5
}
