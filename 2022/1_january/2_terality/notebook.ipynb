{
 "cells": [
  {
   "cell_type": "markdown",
   "id": "937c9b3f-716c-40c9-9c70-a3d006f3e70a",
   "metadata": {},
   "source": [
    "# Good-bye Pandas! Meet Terality - Its Evil Twin With Identical Syntax\n",
    "## ... but up to 30 times faster\n",
    "![](images/unsplash.jpg)"
   ]
  },
  {
   "cell_type": "markdown",
   "id": "b75cd940-c283-43bd-9ee9-da197247da59",
   "metadata": {},
   "source": [
    "## Setup"
   ]
  },
  {
   "cell_type": "code",
   "execution_count": 8,
   "id": "b231641f-bef5-4f33-adf1-184fbc40f7f0",
   "metadata": {},
   "outputs": [
    {
     "data": {
      "text/html": [
       "<style type='text/css'>\n",
       ".datatable table.frame { margin-bottom: 0; }\n",
       ".datatable table.frame thead { border-bottom: none; }\n",
       ".datatable table.frame tr.coltypes td {  color: #FFFFFF;  line-height: 6px;  padding: 0 0.5em;}\n",
       ".datatable .bool    { background: #DDDD99; }\n",
       ".datatable .object  { background: #565656; }\n",
       ".datatable .int     { background: #5D9E5D; }\n",
       ".datatable .float   { background: #4040CC; }\n",
       ".datatable .str     { background: #CC4040; }\n",
       ".datatable .time    { background: #40CC40; }\n",
       ".datatable .row_index {  background: var(--jp-border-color3);  border-right: 1px solid var(--jp-border-color0);  color: var(--jp-ui-font-color3);  font-size: 9px;}\n",
       ".datatable .frame tbody td { text-align: left; }\n",
       ".datatable .frame tr.coltypes .row_index {  background: var(--jp-border-color0);}\n",
       ".datatable th:nth-child(2) { padding-left: 12px; }\n",
       ".datatable .hellipsis {  color: var(--jp-cell-editor-border-color);}\n",
       ".datatable .vellipsis {  background: var(--jp-layout-color0);  color: var(--jp-cell-editor-border-color);}\n",
       ".datatable .na {  color: var(--jp-cell-editor-border-color);  font-size: 80%;}\n",
       ".datatable .sp {  opacity: 0.25;}\n",
       ".datatable .footer { font-size: 9px; }\n",
       ".datatable .frame_dimensions {  background: var(--jp-border-color3);  border-top: 1px solid var(--jp-border-color0);  color: var(--jp-ui-font-color3);  display: inline-block;  opacity: 0.6;  padding: 1px 10px 1px 5px;}\n",
       "</style>\n"
      ],
      "text/plain": [
       "<IPython.core.display.HTML object>"
      ]
     },
     "metadata": {},
     "output_type": "display_data"
    }
   ],
   "source": [
    "import logging\n",
    "import time\n",
    "import warnings\n",
    "\n",
    "import catboost as cb\n",
    "import datatable as dt\n",
    "import joblib\n",
    "import lightgbm as lgbm\n",
    "import matplotlib.pyplot as plt\n",
    "import numpy as np\n",
    "import optuna\n",
    "import pandas as pd\n",
    "import seaborn as sns\n",
    "import shap\n",
    "import umap\n",
    "import umap.plot\n",
    "import xgboost as xgb\n",
    "from optuna.samplers import TPESampler\n",
    "from sklearn.compose import *\n",
    "from sklearn.impute import *\n",
    "from sklearn.metrics import *\n",
    "from sklearn.model_selection import *\n",
    "from sklearn.pipeline import Pipeline, make_pipeline\n",
    "from sklearn.preprocessing import *\n",
    "\n",
    "logging.basicConfig(\n",
    "    format=\"%(asctime)s - %(message)s\", datefmt=\"%d-%b-%y %H:%M:%S\", level=logging.INFO\n",
    ")\n",
    "optuna.logging.set_verbosity(optuna.logging.WARNING)\n",
    "warnings.filterwarnings(\"ignore\")\n",
    "pd.set_option(\"float_format\", \"{:.5f}\".format)"
   ]
  },
  {
   "cell_type": "code",
   "execution_count": 9,
   "id": "417ea1e1-f080-4260-bd92-d9486fa1d41e",
   "metadata": {
    "tags": []
   },
   "outputs": [],
   "source": [
    "def plot_comparison(te_scre, pd_score, title):\n",
    "    fig, ax = plt.subplots(figsize=(10, 4))\n",
    "\n",
    "    bars = ax.barh(\n",
    "        [\"Terality\", \"Pandas\"], [te_scre, pd_score], color=\"black\", height=0.4\n",
    "    )\n",
    "    ax.bar_label(bars, fontsize=12, fmt=\"%gs\")\n",
    "\n",
    "    [plt.setp(ax.spines[spine], visible=False) for spine in ax.spines]\n",
    "    ax.tick_params(\n",
    "        axis=\"both\",\n",
    "        which=\"both\",\n",
    "        left=False,\n",
    "        bottom=False,\n",
    "        labelbottom=False,\n",
    "        labelsize=12,\n",
    "    )\n",
    "\n",
    "    ax.set_title(title, size=15, color=\"#E50914\")\n",
    "\n",
    "    plt.show()\n",
    "\n",
    "    return fig"
   ]
  },
  {
   "cell_type": "markdown",
   "id": "f184c3e3-e8d5-4013-a3b6-f023452df582",
   "metadata": {
    "tags": []
   },
   "source": [
    "# Introduction"
   ]
  },
  {
   "cell_type": "markdown",
   "id": "04782058-2a35-460c-84c0-9066e37570dd",
   "metadata": {},
   "source": [
    "As in everything, we are spoilt for choice when working with big data. The number one tool being Pandas, then the likes of Dask, Vaex, Datatable, cuDF, you name it. As if these weren't enough, we now add **Terality** to the list.\n",
    "\n",
    "Is Terality one of those packages that tries to replace the turtle speed of Pandas at the cost of its so beloved simplicity and flexibility? \n",
    "\n",
    "No, Terality is Pandas' evil twin born with superpowers. It has identical syntax with Pandas but works at lightening speed and doesn't depend on your machine to work its magic. \n",
    "\n",
    "Sounds too good to be true? Read on. "
   ]
  },
  {
   "cell_type": "markdown",
   "id": "c1d5a55d-ff66-4f71-bb28-159ccc2f5fa3",
   "metadata": {},
   "source": [
    "## What is Terality and how does it work?"
   ]
  },
  {
   "cell_type": "markdown",
   "id": "56448335-4dd7-4b16-9aef-f7ea49c502b1",
   "metadata": {},
   "source": [
    "Terality is a serverless data processing engine running on giant clusters. You can work with datasets of any humongous size blazing fast without worrying about scaling resources on the clusters or any infrastructure. \n",
    "\n",
    "This means two things:\n",
    "\n",
    "1. There is virtually no limit on memory, thus on the dataset size.\n",
    "2. You only need a good Internet connection to process hundreds of GBs even on a 4GB RAM machine.\n",
    "\n",
    "And the selling point of Terality - its Python package has the exact same syntax as Pandas. You only need to change a single line of code to switch from Pandas to Terality.\n",
    "\n",
    "![](images/5.png)"
   ]
  },
  {
   "cell_type": "markdown",
   "id": "43d05427-a184-4e0a-ad13-1758ce3eb25f",
   "metadata": {},
   "source": [
    "The Python package sends HTTPS requests to the Terality engine when you call Pandas functions. The engine processes the data and the command and sends back the result. \n",
    "\n",
    "The setup also takes about a minute. You install the library with `pip` and enter your API to hook up your machine to the engine. It is all here in this [link](https://app.terality.com/)."
   ]
  },
  {
   "cell_type": "markdown",
   "id": "3c3a741f-cfa2-4a0b-8e2e-b193239bf7b3",
   "metadata": {},
   "source": [
    "# Preparing a dataset"
   ]
  },
  {
   "cell_type": "markdown",
   "id": "131236c7-2217-4b9d-81e2-e4a8097f1f87",
   "metadata": {},
   "source": [
    "Pandas was introduced in the January of 2008, when the baby datasets of today was the only thing data scientists had to worry about.\n",
    "\n",
    "Now, people have to deal with monstrous datasets and they find Pandas lacking the spine to do what it takes to tame such beasts. Terality is here to solve this mounting problem.\n",
    "\n",
    "To illustrate, we will take a simple dataset ([Kaggle TPS May 2021 dataset](https://www.kaggle.com/c/tabular-playground-series-may-2021/data)) and sample it so that it has 60 million rows and 18 columns."
   ]
  },
  {
   "cell_type": "markdown",
   "id": "fa0d1f9d-12f9-46d2-9f8c-8e3a9ff4a3fb",
   "metadata": {},
   "source": [
    "```python\n",
    "import pandas as pd\n",
    "\n",
    "df = pd.read_csv(\"data/train.csv\")\n",
    "\n",
    "large_df = df.sample(6 * 10 ** 7, replace=True)  # 60 million rows\n",
    "\n",
    "large_df.to_parquet(\n",
    "    \"data/tps_may_large.parquet\", row_group_size=len(df) // 15, engine=\"pyarrow\"\n",
    ")\n",
    "```"
   ]
  },
  {
   "cell_type": "markdown",
   "id": "cb4e5139-0427-4557-903a-530890b619ea",
   "metadata": {},
   "source": [
    "We save the data as a Parquet format because writing it to a CSV would be too optimistic to the point of foolishness. The file will be about 7 GBs, still pretty small by today's standards:"
   ]
  },
  {
   "cell_type": "code",
   "execution_count": 2,
   "id": "2dca52ed-3bcd-4909-99a2-19a4fa65fd43",
   "metadata": {},
   "outputs": [
    {
     "data": {
      "text/plain": [
       "7.1"
      ]
     },
     "execution_count": 2,
     "metadata": {},
     "output_type": "execute_result"
    }
   ],
   "source": [
    "from pathlib import Path\n",
    "\n",
    "size = Path(\"data/tps_may_large.parquet\").stat().st_size\n",
    "size_in_gb = size / 1024 ** 3\n",
    "\n",
    "round(size_in_gb, 2)"
   ]
  },
  {
   "cell_type": "markdown",
   "id": "dfd9121b-eff2-4327-9357-d81cadfc69ed",
   "metadata": {},
   "source": [
    "## Pandas vs. Terality - loading data"
   ]
  },
  {
   "cell_type": "markdown",
   "id": "98de6faa-7d4b-464f-8537-fa379a574cae",
   "metadata": {},
   "source": [
    "We will start the speed comparison with loading the Parquet file into our workspace. \n",
    "\n",
    "The performance of Pandas will heavily depend on the CPU of your machine. Mine is AMD Ryzen 9 3900X with 12 cores -  a pretty high-end processor, faster than Google Colab's or Kaggle servers' free CPUs. So, you can expect my machine to put up a good fight against Terality's virtual servers. \n",
    "\n",
    "As Terality has the same syntax as Pandas, I will ditch the code examples when unnecessary."
   ]
  },
  {
   "cell_type": "markdown",
   "id": "6c1110b0-df85-414c-9f3a-badea3ec1537",
   "metadata": {},
   "source": [
    "```python\n",
    "\n",
    "import pandas as pd\n",
    "\n",
    "%%time\n",
    "\n",
    "df = pd.read_parquet(\"data/tps_may_large.parquet\")\n",
    "```"
   ]
  },
  {
   "cell_type": "markdown",
   "id": "94f6e450-5bfa-459e-9ea0-9dd081ca3a5e",
   "metadata": {},
   "source": [
    "I read the data from local memory with Pandas. \n",
    "\n",
    "As for Terality, I read the data from Amazon S3 bucket:\n",
    "\n",
    "```python\n",
    "import terality as te\n",
    "\n",
    "%%time\n",
    "\n",
    "df_te = te.read_parquet(\"s3://sample-bucket-for-medium/tps_may_large.parquet\")\n",
    "```"
   ]
  },
  {
   "cell_type": "markdown",
   "id": "98bde913-c452-4a68-b811-4e8ab2e3ab9a",
   "metadata": {},
   "source": [
    "Even though you can work with local files, Terality pairs best with files on Amazon S3 or Google Cloud. \n",
    "\n",
    "I've already mentioned the reason for this - the speed of Terality depends on not the CPU but your Internet speed. Reading the Parquet file from memory would mean sending 7GB of data to the engine, which is not ideal. \n",
    "\n",
    "The Internet speed is lousy in my country, so S3 bucket it is. Here are the results:"
   ]
  },
  {
   "cell_type": "markdown",
   "id": "17f448e8-6498-43f7-b5eb-4c1ab7e070cc",
   "metadata": {},
   "source": [
    "![](images/loading.png)"
   ]
  },
  {
   "cell_type": "markdown",
   "id": "51b46332-92a2-4a63-b94d-3e09fa684d92",
   "metadata": {},
   "source": [
    "For now, Terality is slightly behind mainly because of my Internet speed and the power of my CPU. Let's perform other common computation-heavy operations to make further comparison."
   ]
  },
  {
   "cell_type": "code",
   "execution_count": 3,
   "id": "152a2549-3a3b-454c-92bf-b7e0a243a134",
   "metadata": {},
   "outputs": [],
   "source": [
    "import pandas as pd"
   ]
  },
  {
   "cell_type": "code",
   "execution_count": 4,
   "id": "4a731e3a-949d-41be-8b47-bca0146ac41d",
   "metadata": {},
   "outputs": [
    {
     "name": "stdout",
     "output_type": "stream",
     "text": [
      "Wall time: 1min 19s\n"
     ]
    },
    {
     "data": {
      "text/html": [
       "<div>\n",
       "<style scoped>\n",
       "    .dataframe tbody tr th:only-of-type {\n",
       "        vertical-align: middle;\n",
       "    }\n",
       "\n",
       "    .dataframe tbody tr th {\n",
       "        vertical-align: top;\n",
       "    }\n",
       "\n",
       "    .dataframe thead th {\n",
       "        text-align: right;\n",
       "    }\n",
       "</style>\n",
       "<table border=\"1\" class=\"dataframe\">\n",
       "  <thead>\n",
       "    <tr style=\"text-align: right;\">\n",
       "      <th></th>\n",
       "      <th>id</th>\n",
       "      <th>cat0</th>\n",
       "      <th>cat1</th>\n",
       "      <th>cat2</th>\n",
       "      <th>cat3</th>\n",
       "      <th>cat4</th>\n",
       "      <th>cat5</th>\n",
       "      <th>cat6</th>\n",
       "      <th>cat7</th>\n",
       "      <th>cat8</th>\n",
       "      <th>...</th>\n",
       "      <th>cont2</th>\n",
       "      <th>cont3</th>\n",
       "      <th>cont4</th>\n",
       "      <th>cont5</th>\n",
       "      <th>cont6</th>\n",
       "      <th>cont7</th>\n",
       "      <th>cont8</th>\n",
       "      <th>cont9</th>\n",
       "      <th>cont10</th>\n",
       "      <th>target</th>\n",
       "    </tr>\n",
       "  </thead>\n",
       "  <tbody>\n",
       "    <tr>\n",
       "      <th>182422</th>\n",
       "      <td>304374</td>\n",
       "      <td>B</td>\n",
       "      <td>I</td>\n",
       "      <td>C</td>\n",
       "      <td>A</td>\n",
       "      <td>E</td>\n",
       "      <td>BI</td>\n",
       "      <td>A</td>\n",
       "      <td>E</td>\n",
       "      <td>AE</td>\n",
       "      <td>...</td>\n",
       "      <td>0.314827</td>\n",
       "      <td>0.337578</td>\n",
       "      <td>0.588459</td>\n",
       "      <td>0.812049</td>\n",
       "      <td>0.399413</td>\n",
       "      <td>0.347415</td>\n",
       "      <td>0.362455</td>\n",
       "      <td>0.479648</td>\n",
       "      <td>0.388591</td>\n",
       "      <td>0</td>\n",
       "    </tr>\n",
       "    <tr>\n",
       "      <th>293498</th>\n",
       "      <td>489146</td>\n",
       "      <td>A</td>\n",
       "      <td>I</td>\n",
       "      <td>F</td>\n",
       "      <td>A</td>\n",
       "      <td>H</td>\n",
       "      <td>BI</td>\n",
       "      <td>A</td>\n",
       "      <td>AD</td>\n",
       "      <td>AT</td>\n",
       "      <td>...</td>\n",
       "      <td>0.785501</td>\n",
       "      <td>0.262564</td>\n",
       "      <td>0.797093</td>\n",
       "      <td>0.618762</td>\n",
       "      <td>0.685029</td>\n",
       "      <td>0.516098</td>\n",
       "      <td>0.698928</td>\n",
       "      <td>0.647654</td>\n",
       "      <td>0.393393</td>\n",
       "      <td>0</td>\n",
       "    </tr>\n",
       "    <tr>\n",
       "      <th>220335</th>\n",
       "      <td>367472</td>\n",
       "      <td>B</td>\n",
       "      <td>I</td>\n",
       "      <td>A</td>\n",
       "      <td>C</td>\n",
       "      <td>F</td>\n",
       "      <td>AB</td>\n",
       "      <td>A</td>\n",
       "      <td>AH</td>\n",
       "      <td>AY</td>\n",
       "      <td>...</td>\n",
       "      <td>0.472732</td>\n",
       "      <td>0.274317</td>\n",
       "      <td>0.239821</td>\n",
       "      <td>0.734716</td>\n",
       "      <td>0.477748</td>\n",
       "      <td>0.458747</td>\n",
       "      <td>0.339953</td>\n",
       "      <td>0.565235</td>\n",
       "      <td>0.417390</td>\n",
       "      <td>0</td>\n",
       "    </tr>\n",
       "    <tr>\n",
       "      <th>215241</th>\n",
       "      <td>358783</td>\n",
       "      <td>A</td>\n",
       "      <td>I</td>\n",
       "      <td>A</td>\n",
       "      <td>A</td>\n",
       "      <td>H</td>\n",
       "      <td>BI</td>\n",
       "      <td>A</td>\n",
       "      <td>AN</td>\n",
       "      <td>AD</td>\n",
       "      <td>...</td>\n",
       "      <td>0.866463</td>\n",
       "      <td>0.745388</td>\n",
       "      <td>0.668823</td>\n",
       "      <td>0.619450</td>\n",
       "      <td>0.547709</td>\n",
       "      <td>0.828951</td>\n",
       "      <td>0.815386</td>\n",
       "      <td>0.363989</td>\n",
       "      <td>0.638822</td>\n",
       "      <td>0</td>\n",
       "    </tr>\n",
       "    <tr>\n",
       "      <th>265936</th>\n",
       "      <td>443252</td>\n",
       "      <td>A</td>\n",
       "      <td>J</td>\n",
       "      <td>C</td>\n",
       "      <td>A</td>\n",
       "      <td>E</td>\n",
       "      <td>T</td>\n",
       "      <td>A</td>\n",
       "      <td>A</td>\n",
       "      <td>AX</td>\n",
       "      <td>...</td>\n",
       "      <td>0.308595</td>\n",
       "      <td>0.309102</td>\n",
       "      <td>0.803394</td>\n",
       "      <td>0.299911</td>\n",
       "      <td>0.554340</td>\n",
       "      <td>0.332101</td>\n",
       "      <td>0.243223</td>\n",
       "      <td>0.257364</td>\n",
       "      <td>0.314352</td>\n",
       "      <td>0</td>\n",
       "    </tr>\n",
       "  </tbody>\n",
       "</table>\n",
       "<p>5 rows × 32 columns</p>\n",
       "</div>"
      ],
      "text/plain": [
       "            id cat0 cat1 cat2 cat3 cat4 cat5 cat6 cat7 cat8  ...     cont2  \\\n",
       "182422  304374    B    I    C    A    E   BI    A    E   AE  ...  0.314827   \n",
       "293498  489146    A    I    F    A    H   BI    A   AD   AT  ...  0.785501   \n",
       "220335  367472    B    I    A    C    F   AB    A   AH   AY  ...  0.472732   \n",
       "215241  358783    A    I    A    A    H   BI    A   AN   AD  ...  0.866463   \n",
       "265936  443252    A    J    C    A    E    T    A    A   AX  ...  0.308595   \n",
       "\n",
       "           cont3     cont4     cont5     cont6     cont7     cont8     cont9  \\\n",
       "182422  0.337578  0.588459  0.812049  0.399413  0.347415  0.362455  0.479648   \n",
       "293498  0.262564  0.797093  0.618762  0.685029  0.516098  0.698928  0.647654   \n",
       "220335  0.274317  0.239821  0.734716  0.477748  0.458747  0.339953  0.565235   \n",
       "215241  0.745388  0.668823  0.619450  0.547709  0.828951  0.815386  0.363989   \n",
       "265936  0.309102  0.803394  0.299911  0.554340  0.332101  0.243223  0.257364   \n",
       "\n",
       "          cont10 target  \n",
       "182422  0.388591      0  \n",
       "293498  0.393393      0  \n",
       "220335  0.417390      0  \n",
       "215241  0.638822      0  \n",
       "265936  0.314352      0  \n",
       "\n",
       "[5 rows x 32 columns]"
      ]
     },
     "execution_count": 4,
     "metadata": {},
     "output_type": "execute_result"
    }
   ],
   "source": [
    "%%time\n",
    "\n",
    "df = pd.read_parquet(\"data/tps_may_large.parquet\")\n",
    "df.head()"
   ]
  },
  {
   "cell_type": "code",
   "execution_count": 5,
   "id": "c7ecd226-bc5f-4b1b-8858-6ae07445ee98",
   "metadata": {},
   "outputs": [],
   "source": [
    "import terality as te"
   ]
  },
  {
   "cell_type": "code",
   "execution_count": 6,
   "id": "b1399e51-9bf3-4a8e-b7f4-b38243203c17",
   "metadata": {},
   "outputs": [
    {
     "name": "stderr",
     "output_type": "stream",
     "text": [
      "INFO:terality:The result of te.read_parquet was retrieved from cache [docs: https://docs.terality.com/getting-terality/user-guide/caching].\n",
      "INFO:terality:The result of te.dataframe.head was retrieved from cache [docs: https://docs.terality.com/getting-terality/user-guide/caching].\n"
     ]
    },
    {
     "name": "stdout",
     "output_type": "stream",
     "text": [
      "Wall time: 20.7 s\n"
     ]
    },
    {
     "name": "stderr",
     "output_type": "stream",
     "text": [
      "INFO:terality:The result of te.dataframe._repr_html_ was retrieved from cache [docs: https://docs.terality.com/getting-terality/user-guide/caching].\n"
     ]
    },
    {
     "data": {
      "text/html": [
       "<div>\n",
       "<style scoped>\n",
       "    .dataframe tbody tr th:only-of-type {\n",
       "        vertical-align: middle;\n",
       "    }\n",
       "\n",
       "    .dataframe tbody tr th {\n",
       "        vertical-align: top;\n",
       "    }\n",
       "\n",
       "    .dataframe thead th {\n",
       "        text-align: right;\n",
       "    }\n",
       "</style>\n",
       "<table border=\"1\" class=\"dataframe\">\n",
       "  <thead>\n",
       "    <tr style=\"text-align: right;\">\n",
       "      <th></th>\n",
       "      <th>id</th>\n",
       "      <th>cat0</th>\n",
       "      <th>cat1</th>\n",
       "      <th>cat2</th>\n",
       "      <th>cat3</th>\n",
       "      <th>cat4</th>\n",
       "      <th>cat5</th>\n",
       "      <th>cat6</th>\n",
       "      <th>cat7</th>\n",
       "      <th>cat8</th>\n",
       "      <th>cat9</th>\n",
       "      <th>cat10</th>\n",
       "      <th>cat11</th>\n",
       "      <th>cat12</th>\n",
       "      <th>cat13</th>\n",
       "      <th>cat14</th>\n",
       "      <th>cat15</th>\n",
       "      <th>cat16</th>\n",
       "      <th>cat17</th>\n",
       "      <th>cat18</th>\n",
       "      <th>cont0</th>\n",
       "      <th>cont1</th>\n",
       "      <th>cont2</th>\n",
       "      <th>cont3</th>\n",
       "      <th>cont4</th>\n",
       "      <th>cont5</th>\n",
       "      <th>cont6</th>\n",
       "      <th>cont7</th>\n",
       "      <th>cont8</th>\n",
       "      <th>cont9</th>\n",
       "      <th>cont10</th>\n",
       "      <th>target</th>\n",
       "    </tr>\n",
       "  </thead>\n",
       "  <tbody>\n",
       "    <tr>\n",
       "      <th>182422</th>\n",
       "      <td>304374</td>\n",
       "      <td>B</td>\n",
       "      <td>I</td>\n",
       "      <td>C</td>\n",
       "      <td>A</td>\n",
       "      <td>E</td>\n",
       "      <td>BI</td>\n",
       "      <td>A</td>\n",
       "      <td>E</td>\n",
       "      <td>AE</td>\n",
       "      <td>A</td>\n",
       "      <td>DP</td>\n",
       "      <td>A</td>\n",
       "      <td>A</td>\n",
       "      <td>A</td>\n",
       "      <td>A</td>\n",
       "      <td>B</td>\n",
       "      <td>D</td>\n",
       "      <td>D</td>\n",
       "      <td>B</td>\n",
       "      <td>0.282072</td>\n",
       "      <td>0.290521</td>\n",
       "      <td>0.314827</td>\n",
       "      <td>0.337578</td>\n",
       "      <td>0.588459</td>\n",
       "      <td>0.812049</td>\n",
       "      <td>0.399413</td>\n",
       "      <td>0.347415</td>\n",
       "      <td>0.362455</td>\n",
       "      <td>0.479648</td>\n",
       "      <td>0.388591</td>\n",
       "      <td>0</td>\n",
       "    </tr>\n",
       "    <tr>\n",
       "      <th>293498</th>\n",
       "      <td>489146</td>\n",
       "      <td>A</td>\n",
       "      <td>I</td>\n",
       "      <td>F</td>\n",
       "      <td>A</td>\n",
       "      <td>H</td>\n",
       "      <td>BI</td>\n",
       "      <td>A</td>\n",
       "      <td>AD</td>\n",
       "      <td>AT</td>\n",
       "      <td>A</td>\n",
       "      <td>HK</td>\n",
       "      <td>A</td>\n",
       "      <td>A</td>\n",
       "      <td>A</td>\n",
       "      <td>A</td>\n",
       "      <td>B</td>\n",
       "      <td>B</td>\n",
       "      <td>D</td>\n",
       "      <td>B</td>\n",
       "      <td>0.389077</td>\n",
       "      <td>0.927745</td>\n",
       "      <td>0.785501</td>\n",
       "      <td>0.262564</td>\n",
       "      <td>0.797093</td>\n",
       "      <td>0.618762</td>\n",
       "      <td>0.685029</td>\n",
       "      <td>0.516098</td>\n",
       "      <td>0.698928</td>\n",
       "      <td>0.647654</td>\n",
       "      <td>0.393393</td>\n",
       "      <td>0</td>\n",
       "    </tr>\n",
       "    <tr>\n",
       "      <th>220335</th>\n",
       "      <td>367472</td>\n",
       "      <td>B</td>\n",
       "      <td>I</td>\n",
       "      <td>A</td>\n",
       "      <td>C</td>\n",
       "      <td>F</td>\n",
       "      <td>AB</td>\n",
       "      <td>A</td>\n",
       "      <td>AH</td>\n",
       "      <td>AY</td>\n",
       "      <td>A</td>\n",
       "      <td>MS</td>\n",
       "      <td>A</td>\n",
       "      <td>A</td>\n",
       "      <td>A</td>\n",
       "      <td>A</td>\n",
       "      <td>D</td>\n",
       "      <td>D</td>\n",
       "      <td>D</td>\n",
       "      <td>B</td>\n",
       "      <td>0.487649</td>\n",
       "      <td>0.453483</td>\n",
       "      <td>0.472732</td>\n",
       "      <td>0.274317</td>\n",
       "      <td>0.239821</td>\n",
       "      <td>0.734716</td>\n",
       "      <td>0.477748</td>\n",
       "      <td>0.458747</td>\n",
       "      <td>0.339953</td>\n",
       "      <td>0.565235</td>\n",
       "      <td>0.417390</td>\n",
       "      <td>0</td>\n",
       "    </tr>\n",
       "    <tr>\n",
       "      <th>215241</th>\n",
       "      <td>358783</td>\n",
       "      <td>A</td>\n",
       "      <td>I</td>\n",
       "      <td>A</td>\n",
       "      <td>A</td>\n",
       "      <td>H</td>\n",
       "      <td>BI</td>\n",
       "      <td>A</td>\n",
       "      <td>AN</td>\n",
       "      <td>AD</td>\n",
       "      <td>E</td>\n",
       "      <td>HQ</td>\n",
       "      <td>A</td>\n",
       "      <td>A</td>\n",
       "      <td>A</td>\n",
       "      <td>B</td>\n",
       "      <td>A</td>\n",
       "      <td>D</td>\n",
       "      <td>D</td>\n",
       "      <td>B</td>\n",
       "      <td>0.642140</td>\n",
       "      <td>0.786709</td>\n",
       "      <td>0.866463</td>\n",
       "      <td>0.745388</td>\n",
       "      <td>0.668823</td>\n",
       "      <td>0.619450</td>\n",
       "      <td>0.547709</td>\n",
       "      <td>0.828951</td>\n",
       "      <td>0.815386</td>\n",
       "      <td>0.363989</td>\n",
       "      <td>0.638822</td>\n",
       "      <td>0</td>\n",
       "    </tr>\n",
       "    <tr>\n",
       "      <th>265936</th>\n",
       "      <td>443252</td>\n",
       "      <td>A</td>\n",
       "      <td>J</td>\n",
       "      <td>C</td>\n",
       "      <td>A</td>\n",
       "      <td>E</td>\n",
       "      <td>T</td>\n",
       "      <td>A</td>\n",
       "      <td>A</td>\n",
       "      <td>AX</td>\n",
       "      <td>A</td>\n",
       "      <td>DP</td>\n",
       "      <td>A</td>\n",
       "      <td>A</td>\n",
       "      <td>A</td>\n",
       "      <td>A</td>\n",
       "      <td>A</td>\n",
       "      <td>D</td>\n",
       "      <td>D</td>\n",
       "      <td>B</td>\n",
       "      <td>0.271567</td>\n",
       "      <td>0.194787</td>\n",
       "      <td>0.308595</td>\n",
       "      <td>0.309102</td>\n",
       "      <td>0.803394</td>\n",
       "      <td>0.299911</td>\n",
       "      <td>0.554340</td>\n",
       "      <td>0.332101</td>\n",
       "      <td>0.243223</td>\n",
       "      <td>0.257364</td>\n",
       "      <td>0.314352</td>\n",
       "      <td>0</td>\n",
       "    </tr>\n",
       "  </tbody>\n",
       "</table>\n",
       "</div>"
      ],
      "text/plain": [
       "            id cat0 cat1 cat2  ...     cont8     cont9    cont10 target\n",
       "182422  304374    B    I    C  ...  0.362455  0.479648  0.388591      0\n",
       "293498  489146    A    I    F  ...  0.698928  0.647654  0.393393      0\n",
       "220335  367472    B    I    A  ...  0.339953  0.565235  0.417390      0\n",
       "215241  358783    A    I    A  ...  0.815386  0.363989  0.638822      0\n",
       "265936  443252    A    J    C  ...  0.243223  0.257364  0.314352      0\n",
       "\n",
       "[5 rows x 32 columns]"
      ]
     },
     "execution_count": 6,
     "metadata": {},
     "output_type": "execute_result"
    }
   ],
   "source": [
    "%%time\n",
    "\n",
    "df_te = te.read_parquet(\"s3://sample-bucket-for-medium/tps_may_large.parquet\")\n",
    "df_te.head()"
   ]
  },
  {
   "cell_type": "code",
   "execution_count": 21,
   "id": "0d43d4fd-df91-4b0c-af3a-c28826c1c47f",
   "metadata": {},
   "outputs": [
    {
     "data": {
      "image/png": "[encoded data removed]",
      "text/plain": [
       "<Figure size 720x288 with 1 Axes>"
      ]
     },
     "metadata": {
      "needs_background": "light"
     },
     "output_type": "display_data"
    }
   ],
   "source": [
    "fig = plot_comparison(84, 73, \"Terality vs. Pandas - data loading comparison\")\n",
    "fig.savefig(\"images/loading.png\")"
   ]
  },
  {
   "cell_type": "markdown",
   "id": "5cc4ffbc-5f12-4035-93ad-2dc97c3925af",
   "metadata": {
    "tags": []
   },
   "source": [
    "## Common pandas operations"
   ]
  },
  {
   "cell_type": "markdown",
   "id": "5f3000bf-d8f5-4176-9d1b-8bec05f6daf5",
   "metadata": {},
   "source": [
    "Before I show my local results, let's take a look at how Terality performed against Pandas and its powerful alternatives on the well-known [h2o benchmark](https://h2oai.github.io/db-benchmark/) using a 50GB dataset. \n",
    "\n",
    "Here is the result for an advanced groupby operation:\n",
    "\n",
    "![](images/1.png)\n",
    "<figcaption style=\"text-align: center;\">\n",
    "    <strong>\n",
    "        Image taken with permission from \n",
    "        <a href='https://www.terality.com/post/terality-beats-spark-and-dask-h2o-benchmark'>the benchmark test post on Terality website.</a>\n",
    "    </strong>\n",
    "</figcaption>"
   ]
  },
  {
   "cell_type": "markdown",
   "id": "4fff72c9-f1de-4268-bcea-be3e7815af1b",
   "metadata": {},
   "source": [
    "As you can see, only Terality manages to keep its wits together while others spurt out nasty memory errors. The same is true for a join operation:\n",
    "\n",
    "![](images/2.png)\n",
    "<figcaption style=\"text-align: center;\">\n",
    "    <strong>\n",
    "        Image taken with permission from \n",
    "        <a href='https://www.terality.com/post/terality-beats-spark-and-dask-h2o-benchmark'>the benchmark test post on Terality website.</a>\n",
    "    </strong>\n",
    "</figcaption>"
   ]
  },
  {
   "cell_type": "markdown",
   "id": "c6a4d5a4-697c-4690-bdb0-2f3c8ab718d3",
   "metadata": {},
   "source": [
    "Of course, not all have the luxury of 128GB machines, so I will just show the experiments on my humble 32 GB one:"
   ]
  },
  {
   "cell_type": "markdown",
   "id": "77f38ebd-0fec-46dd-810a-dbb87bdb124a",
   "metadata": {
    "tags": []
   },
   "source": [
    "#### Grouping"
   ]
  },
  {
   "cell_type": "code",
   "execution_count": 22,
   "id": "e5fe409f-6004-43cc-9db2-35fce33dcddf",
   "metadata": {},
   "outputs": [
    {
     "data": {
      "image/png": "[encoded data removed]",
      "text/plain": [
       "<Figure size 720x288 with 1 Axes>"
      ]
     },
     "metadata": {
      "needs_background": "light"
     },
     "output_type": "display_data"
    }
   ],
   "source": [
    "fig = plot_comparison(26.4, 66, \"Pandas vs. Terality - Groupby operation\")\n",
    "fig.savefig(\"images/groupby.png\")"
   ]
  },
  {
   "cell_type": "markdown",
   "id": "b72c37a7-45c2-46f4-a5f7-f7512ac06b2f",
   "metadata": {
    "tags": []
   },
   "source": [
    "#### Sorting"
   ]
  },
  {
   "cell_type": "markdown",
   "id": "e8f996b1-0fa2-4fdc-b2ce-529f1b8c68b1",
   "metadata": {},
   "source": [
    "![](images/sorting.png)"
   ]
  },
  {
   "cell_type": "code",
   "execution_count": 24,
   "id": "c36f9a9b-6ef5-4d17-8973-33e1269f3edb",
   "metadata": {
    "tags": []
   },
   "outputs": [
    {
     "name": "stdout",
     "output_type": "stream",
     "text": [
      "Wall time: 3min 20s\n"
     ]
    },
    {
     "data": {
      "text/html": [
       "<div>\n",
       "<style scoped>\n",
       "    .dataframe tbody tr th:only-of-type {\n",
       "        vertical-align: middle;\n",
       "    }\n",
       "\n",
       "    .dataframe tbody tr th {\n",
       "        vertical-align: top;\n",
       "    }\n",
       "\n",
       "    .dataframe thead th {\n",
       "        text-align: right;\n",
       "    }\n",
       "</style>\n",
       "<table border=\"1\" class=\"dataframe\">\n",
       "  <thead>\n",
       "    <tr style=\"text-align: right;\">\n",
       "      <th></th>\n",
       "      <th>id</th>\n",
       "      <th>cat0</th>\n",
       "      <th>cat1</th>\n",
       "      <th>cat2</th>\n",
       "      <th>cat3</th>\n",
       "      <th>cat4</th>\n",
       "      <th>cat5</th>\n",
       "      <th>cat6</th>\n",
       "      <th>cat7</th>\n",
       "      <th>cat8</th>\n",
       "      <th>...</th>\n",
       "      <th>cont2</th>\n",
       "      <th>cont3</th>\n",
       "      <th>cont4</th>\n",
       "      <th>cont5</th>\n",
       "      <th>cont6</th>\n",
       "      <th>cont7</th>\n",
       "      <th>cont8</th>\n",
       "      <th>cont9</th>\n",
       "      <th>cont10</th>\n",
       "      <th>target</th>\n",
       "    </tr>\n",
       "  </thead>\n",
       "  <tbody>\n",
       "    <tr>\n",
       "      <th>179851</th>\n",
       "      <td>300051</td>\n",
       "      <td>B</td>\n",
       "      <td>F</td>\n",
       "      <td>A</td>\n",
       "      <td>B</td>\n",
       "      <td>G</td>\n",
       "      <td>BI</td>\n",
       "      <td>C</td>\n",
       "      <td>AS</td>\n",
       "      <td>A</td>\n",
       "      <td>...</td>\n",
       "      <td>0.43100</td>\n",
       "      <td>0.26179</td>\n",
       "      <td>0.71291</td>\n",
       "      <td>0.85302</td>\n",
       "      <td>0.76067</td>\n",
       "      <td>0.41565</td>\n",
       "      <td>0.60751</td>\n",
       "      <td>0.26465</td>\n",
       "      <td>0.42208</td>\n",
       "      <td>0</td>\n",
       "    </tr>\n",
       "    <tr>\n",
       "      <th>179851</th>\n",
       "      <td>300051</td>\n",
       "      <td>B</td>\n",
       "      <td>F</td>\n",
       "      <td>A</td>\n",
       "      <td>B</td>\n",
       "      <td>G</td>\n",
       "      <td>BI</td>\n",
       "      <td>C</td>\n",
       "      <td>AS</td>\n",
       "      <td>A</td>\n",
       "      <td>...</td>\n",
       "      <td>0.43100</td>\n",
       "      <td>0.26179</td>\n",
       "      <td>0.71291</td>\n",
       "      <td>0.85302</td>\n",
       "      <td>0.76067</td>\n",
       "      <td>0.41565</td>\n",
       "      <td>0.60751</td>\n",
       "      <td>0.26465</td>\n",
       "      <td>0.42208</td>\n",
       "      <td>0</td>\n",
       "    </tr>\n",
       "    <tr>\n",
       "      <th>179851</th>\n",
       "      <td>300051</td>\n",
       "      <td>B</td>\n",
       "      <td>F</td>\n",
       "      <td>A</td>\n",
       "      <td>B</td>\n",
       "      <td>G</td>\n",
       "      <td>BI</td>\n",
       "      <td>C</td>\n",
       "      <td>AS</td>\n",
       "      <td>A</td>\n",
       "      <td>...</td>\n",
       "      <td>0.43100</td>\n",
       "      <td>0.26179</td>\n",
       "      <td>0.71291</td>\n",
       "      <td>0.85302</td>\n",
       "      <td>0.76067</td>\n",
       "      <td>0.41565</td>\n",
       "      <td>0.60751</td>\n",
       "      <td>0.26465</td>\n",
       "      <td>0.42208</td>\n",
       "      <td>0</td>\n",
       "    </tr>\n",
       "    <tr>\n",
       "      <th>179851</th>\n",
       "      <td>300051</td>\n",
       "      <td>B</td>\n",
       "      <td>F</td>\n",
       "      <td>A</td>\n",
       "      <td>B</td>\n",
       "      <td>G</td>\n",
       "      <td>BI</td>\n",
       "      <td>C</td>\n",
       "      <td>AS</td>\n",
       "      <td>A</td>\n",
       "      <td>...</td>\n",
       "      <td>0.43100</td>\n",
       "      <td>0.26179</td>\n",
       "      <td>0.71291</td>\n",
       "      <td>0.85302</td>\n",
       "      <td>0.76067</td>\n",
       "      <td>0.41565</td>\n",
       "      <td>0.60751</td>\n",
       "      <td>0.26465</td>\n",
       "      <td>0.42208</td>\n",
       "      <td>0</td>\n",
       "    </tr>\n",
       "    <tr>\n",
       "      <th>179851</th>\n",
       "      <td>300051</td>\n",
       "      <td>B</td>\n",
       "      <td>F</td>\n",
       "      <td>A</td>\n",
       "      <td>B</td>\n",
       "      <td>G</td>\n",
       "      <td>BI</td>\n",
       "      <td>C</td>\n",
       "      <td>AS</td>\n",
       "      <td>A</td>\n",
       "      <td>...</td>\n",
       "      <td>0.43100</td>\n",
       "      <td>0.26179</td>\n",
       "      <td>0.71291</td>\n",
       "      <td>0.85302</td>\n",
       "      <td>0.76067</td>\n",
       "      <td>0.41565</td>\n",
       "      <td>0.60751</td>\n",
       "      <td>0.26465</td>\n",
       "      <td>0.42208</td>\n",
       "      <td>0</td>\n",
       "    </tr>\n",
       "  </tbody>\n",
       "</table>\n",
       "<p>5 rows × 32 columns</p>\n",
       "</div>"
      ],
      "text/plain": [
       "            id cat0 cat1 cat2 cat3 cat4 cat5 cat6 cat7 cat8  ...   cont2  \\\n",
       "179851  300051    B    F    A    B    G   BI    C   AS    A  ... 0.43100   \n",
       "179851  300051    B    F    A    B    G   BI    C   AS    A  ... 0.43100   \n",
       "179851  300051    B    F    A    B    G   BI    C   AS    A  ... 0.43100   \n",
       "179851  300051    B    F    A    B    G   BI    C   AS    A  ... 0.43100   \n",
       "179851  300051    B    F    A    B    G   BI    C   AS    A  ... 0.43100   \n",
       "\n",
       "         cont3   cont4   cont5   cont6   cont7   cont8   cont9  cont10 target  \n",
       "179851 0.26179 0.71291 0.85302 0.76067 0.41565 0.60751 0.26465 0.42208      0  \n",
       "179851 0.26179 0.71291 0.85302 0.76067 0.41565 0.60751 0.26465 0.42208      0  \n",
       "179851 0.26179 0.71291 0.85302 0.76067 0.41565 0.60751 0.26465 0.42208      0  \n",
       "179851 0.26179 0.71291 0.85302 0.76067 0.41565 0.60751 0.26465 0.42208      0  \n",
       "179851 0.26179 0.71291 0.85302 0.76067 0.41565 0.60751 0.26465 0.42208      0  \n",
       "\n",
       "[5 rows x 32 columns]"
      ]
     },
     "execution_count": 24,
     "metadata": {},
     "output_type": "execute_result"
    }
   ],
   "source": [
    "%%time\n",
    "\n",
    "result = df.sort_values(by=\"cont5\", ascending=False)\n",
    "result.head()"
   ]
  },
  {
   "cell_type": "code",
   "execution_count": 25,
   "id": "71747c30-e1c8-44f8-a867-2c6d1a0c40e7",
   "metadata": {},
   "outputs": [
    {
     "name": "stdout",
     "output_type": "stream",
     "text": [
      "Wall time: 58.3 s\n"
     ]
    },
    {
     "data": {
      "text/html": [
       "<div>\n",
       "<style scoped>\n",
       "    .dataframe tbody tr th:only-of-type {\n",
       "        vertical-align: middle;\n",
       "    }\n",
       "\n",
       "    .dataframe tbody tr th {\n",
       "        vertical-align: top;\n",
       "    }\n",
       "\n",
       "    .dataframe thead th {\n",
       "        text-align: right;\n",
       "    }\n",
       "</style>\n",
       "<table border=\"1\" class=\"dataframe\">\n",
       "  <thead>\n",
       "    <tr style=\"text-align: right;\">\n",
       "      <th></th>\n",
       "      <th>id</th>\n",
       "      <th>cat0</th>\n",
       "      <th>cat1</th>\n",
       "      <th>cat2</th>\n",
       "      <th>cat3</th>\n",
       "      <th>cat4</th>\n",
       "      <th>cat5</th>\n",
       "      <th>cat6</th>\n",
       "      <th>cat7</th>\n",
       "      <th>cat8</th>\n",
       "      <th>cat9</th>\n",
       "      <th>cat10</th>\n",
       "      <th>cat11</th>\n",
       "      <th>cat12</th>\n",
       "      <th>cat13</th>\n",
       "      <th>cat14</th>\n",
       "      <th>cat15</th>\n",
       "      <th>cat16</th>\n",
       "      <th>cat17</th>\n",
       "      <th>cat18</th>\n",
       "      <th>cont0</th>\n",
       "      <th>cont1</th>\n",
       "      <th>cont2</th>\n",
       "      <th>cont3</th>\n",
       "      <th>cont4</th>\n",
       "      <th>cont5</th>\n",
       "      <th>cont6</th>\n",
       "      <th>cont7</th>\n",
       "      <th>cont8</th>\n",
       "      <th>cont9</th>\n",
       "      <th>cont10</th>\n",
       "      <th>target</th>\n",
       "    </tr>\n",
       "  </thead>\n",
       "  <tbody>\n",
       "    <tr>\n",
       "      <th>179851</th>\n",
       "      <td>300051</td>\n",
       "      <td>B</td>\n",
       "      <td>F</td>\n",
       "      <td>A</td>\n",
       "      <td>B</td>\n",
       "      <td>G</td>\n",
       "      <td>BI</td>\n",
       "      <td>C</td>\n",
       "      <td>AS</td>\n",
       "      <td>A</td>\n",
       "      <td>A</td>\n",
       "      <td>GS</td>\n",
       "      <td>A</td>\n",
       "      <td>A</td>\n",
       "      <td>A</td>\n",
       "      <td>A</td>\n",
       "      <td>C</td>\n",
       "      <td>C</td>\n",
       "      <td>D</td>\n",
       "      <td>C</td>\n",
       "      <td>0.340314</td>\n",
       "      <td>0.707281</td>\n",
       "      <td>0.431003</td>\n",
       "      <td>0.261791</td>\n",
       "      <td>0.712914</td>\n",
       "      <td>0.853022</td>\n",
       "      <td>0.76067</td>\n",
       "      <td>0.415646</td>\n",
       "      <td>0.607509</td>\n",
       "      <td>0.264648</td>\n",
       "      <td>0.422077</td>\n",
       "      <td>0</td>\n",
       "    </tr>\n",
       "    <tr>\n",
       "      <th>179851</th>\n",
       "      <td>300051</td>\n",
       "      <td>B</td>\n",
       "      <td>F</td>\n",
       "      <td>A</td>\n",
       "      <td>B</td>\n",
       "      <td>G</td>\n",
       "      <td>BI</td>\n",
       "      <td>C</td>\n",
       "      <td>AS</td>\n",
       "      <td>A</td>\n",
       "      <td>A</td>\n",
       "      <td>GS</td>\n",
       "      <td>A</td>\n",
       "      <td>A</td>\n",
       "      <td>A</td>\n",
       "      <td>A</td>\n",
       "      <td>C</td>\n",
       "      <td>C</td>\n",
       "      <td>D</td>\n",
       "      <td>C</td>\n",
       "      <td>0.340314</td>\n",
       "      <td>0.707281</td>\n",
       "      <td>0.431003</td>\n",
       "      <td>0.261791</td>\n",
       "      <td>0.712914</td>\n",
       "      <td>0.853022</td>\n",
       "      <td>0.76067</td>\n",
       "      <td>0.415646</td>\n",
       "      <td>0.607509</td>\n",
       "      <td>0.264648</td>\n",
       "      <td>0.422077</td>\n",
       "      <td>0</td>\n",
       "    </tr>\n",
       "    <tr>\n",
       "      <th>179851</th>\n",
       "      <td>300051</td>\n",
       "      <td>B</td>\n",
       "      <td>F</td>\n",
       "      <td>A</td>\n",
       "      <td>B</td>\n",
       "      <td>G</td>\n",
       "      <td>BI</td>\n",
       "      <td>C</td>\n",
       "      <td>AS</td>\n",
       "      <td>A</td>\n",
       "      <td>A</td>\n",
       "      <td>GS</td>\n",
       "      <td>A</td>\n",
       "      <td>A</td>\n",
       "      <td>A</td>\n",
       "      <td>A</td>\n",
       "      <td>C</td>\n",
       "      <td>C</td>\n",
       "      <td>D</td>\n",
       "      <td>C</td>\n",
       "      <td>0.340314</td>\n",
       "      <td>0.707281</td>\n",
       "      <td>0.431003</td>\n",
       "      <td>0.261791</td>\n",
       "      <td>0.712914</td>\n",
       "      <td>0.853022</td>\n",
       "      <td>0.76067</td>\n",
       "      <td>0.415646</td>\n",
       "      <td>0.607509</td>\n",
       "      <td>0.264648</td>\n",
       "      <td>0.422077</td>\n",
       "      <td>0</td>\n",
       "    </tr>\n",
       "    <tr>\n",
       "      <th>179851</th>\n",
       "      <td>300051</td>\n",
       "      <td>B</td>\n",
       "      <td>F</td>\n",
       "      <td>A</td>\n",
       "      <td>B</td>\n",
       "      <td>G</td>\n",
       "      <td>BI</td>\n",
       "      <td>C</td>\n",
       "      <td>AS</td>\n",
       "      <td>A</td>\n",
       "      <td>A</td>\n",
       "      <td>GS</td>\n",
       "      <td>A</td>\n",
       "      <td>A</td>\n",
       "      <td>A</td>\n",
       "      <td>A</td>\n",
       "      <td>C</td>\n",
       "      <td>C</td>\n",
       "      <td>D</td>\n",
       "      <td>C</td>\n",
       "      <td>0.340314</td>\n",
       "      <td>0.707281</td>\n",
       "      <td>0.431003</td>\n",
       "      <td>0.261791</td>\n",
       "      <td>0.712914</td>\n",
       "      <td>0.853022</td>\n",
       "      <td>0.76067</td>\n",
       "      <td>0.415646</td>\n",
       "      <td>0.607509</td>\n",
       "      <td>0.264648</td>\n",
       "      <td>0.422077</td>\n",
       "      <td>0</td>\n",
       "    </tr>\n",
       "    <tr>\n",
       "      <th>179851</th>\n",
       "      <td>300051</td>\n",
       "      <td>B</td>\n",
       "      <td>F</td>\n",
       "      <td>A</td>\n",
       "      <td>B</td>\n",
       "      <td>G</td>\n",
       "      <td>BI</td>\n",
       "      <td>C</td>\n",
       "      <td>AS</td>\n",
       "      <td>A</td>\n",
       "      <td>A</td>\n",
       "      <td>GS</td>\n",
       "      <td>A</td>\n",
       "      <td>A</td>\n",
       "      <td>A</td>\n",
       "      <td>A</td>\n",
       "      <td>C</td>\n",
       "      <td>C</td>\n",
       "      <td>D</td>\n",
       "      <td>C</td>\n",
       "      <td>0.340314</td>\n",
       "      <td>0.707281</td>\n",
       "      <td>0.431003</td>\n",
       "      <td>0.261791</td>\n",
       "      <td>0.712914</td>\n",
       "      <td>0.853022</td>\n",
       "      <td>0.76067</td>\n",
       "      <td>0.415646</td>\n",
       "      <td>0.607509</td>\n",
       "      <td>0.264648</td>\n",
       "      <td>0.422077</td>\n",
       "      <td>0</td>\n",
       "    </tr>\n",
       "  </tbody>\n",
       "</table>\n",
       "</div>"
      ],
      "text/plain": [
       "            id cat0 cat1 cat2  ...     cont8     cont9    cont10 target\n",
       "179851  300051    B    F    A  ...  0.607509  0.264648  0.422077      0\n",
       "179851  300051    B    F    A  ...  0.607509  0.264648  0.422077      0\n",
       "179851  300051    B    F    A  ...  0.607509  0.264648  0.422077      0\n",
       "179851  300051    B    F    A  ...  0.607509  0.264648  0.422077      0\n",
       "179851  300051    B    F    A  ...  0.607509  0.264648  0.422077      0\n",
       "\n",
       "[5 rows x 32 columns]"
      ]
     },
     "execution_count": 25,
     "metadata": {},
     "output_type": "execute_result"
    }
   ],
   "source": [
    "%%time\n",
    "\n",
    "result = df_te.sort_values(by=\"cont5\", ascending=False)\n",
    "result.head()"
   ]
  },
  {
   "cell_type": "code",
   "execution_count": 23,
   "id": "cf61e2a8-6bb8-4cca-bb73-f5e38dfc1f6a",
   "metadata": {},
   "outputs": [
    {
     "data": {
      "image/png": "[encoded data removed]",
      "text/plain": [
       "<Figure size 720x288 with 1 Axes>"
      ]
     },
     "metadata": {
      "needs_background": "light"
     },
     "output_type": "display_data"
    }
   ],
   "source": [
    "fig = plot_comparison(58.3, 200, \"Pandas vs. Terality - Sorting Operation\")\n",
    "\n",
    "fig.savefig(\"images/sorting.png\")"
   ]
  },
  {
   "cell_type": "markdown",
   "id": "be78bd27-bd87-476a-8ae7-6ddef6459a39",
   "metadata": {
    "tags": []
   },
   "source": [
    "#### Creating a new column"
   ]
  },
  {
   "cell_type": "markdown",
   "id": "90f4647d-ef7e-4885-a720-5426631eb503",
   "metadata": {},
   "source": [
    "![](images/new_col.png)"
   ]
  },
  {
   "cell_type": "code",
   "execution_count": 34,
   "id": "14b0b0e5-5f87-4bb1-8ea5-7c19243a0c56",
   "metadata": {},
   "outputs": [
    {
     "name": "stdout",
     "output_type": "stream",
     "text": [
      "Wall time: 2min 25s\n"
     ]
    },
    {
     "data": {
      "text/plain": [
       "145053   1.40283\n",
       "286303   1.27540\n",
       "103920   1.16384\n",
       "85100    1.29126\n",
       "216857   1.17710\n",
       "Name: new, dtype: float64"
      ]
     },
     "execution_count": 34,
     "metadata": {},
     "output_type": "execute_result"
    }
   ],
   "source": [
    "%%time\n",
    "\n",
    "df[\"new\"] = df[\"cont0\"].apply(lambda x: np.sqrt(np.exp(x)))\n",
    "df[\"new\"].sample(5)"
   ]
  },
  {
   "cell_type": "code",
   "execution_count": 35,
   "id": "f33905d9-6add-4149-8b03-5f69b8ef1080",
   "metadata": {},
   "outputs": [
    {
     "name": "stderr",
     "output_type": "stream",
     "text": [
      "WARNING:terality:Slow operation: Series.sample was executed on our non-parallelized engine [https://www.terality.com/post/inside-terality-the-non-parallelized-engine]. Please reach out to support@terality.com if you’d like us to prioritise the implementation of the function.\n"
     ]
    },
    {
     "name": "stdout",
     "output_type": "stream",
     "text": [
      "Wall time: 1min 11s\n"
     ]
    },
    {
     "data": {
      "text/plain": [
       "64783     1.263485\n",
       "260467    1.046370\n",
       "245600    1.321468\n",
       "269796    1.312624\n",
       "192964    1.072801\n",
       "Name: new, dtype: float64"
      ]
     },
     "execution_count": 35,
     "metadata": {},
     "output_type": "execute_result"
    }
   ],
   "source": [
    "%%time\n",
    "\n",
    "df_te[\"new\"] = df_te[\"cont0\"].apply(lambda x: np.sqrt(np.exp(x)))\n",
    "df_te[\"new\"].sample(5)"
   ]
  },
  {
   "cell_type": "code",
   "execution_count": 24,
   "id": "bb37c3ca-e19f-4b0e-9dd1-a85baee1f1e6",
   "metadata": {},
   "outputs": [
    {
     "data": {
      "image/png": "[encoded data removed]",
      "text/plain": [
       "<Figure size 720x288 with 1 Axes>"
      ]
     },
     "metadata": {
      "needs_background": "light"
     },
     "output_type": "display_data"
    }
   ],
   "source": [
    "fig = plot_comparison(71, 145, \"Pandas vs. Terality - Creating a New Column\")\n",
    "fig.savefig(\"images/new_col.png\")"
   ]
  },
  {
   "cell_type": "markdown",
   "id": "169cb44e-853d-43b1-a214-54ebb0e02db4",
   "metadata": {},
   "source": [
    "#### Replacing"
   ]
  },
  {
   "cell_type": "markdown",
   "id": "98f0a64c-37b6-4a83-b559-007c5af747c3",
   "metadata": {},
   "source": [
    "![](images/replacing.png)"
   ]
  },
  {
   "cell_type": "code",
   "execution_count": 15,
   "id": "f7abb8f1-f0e8-4e41-843d-5f3045a38e41",
   "metadata": {},
   "outputs": [
    {
     "name": "stdout",
     "output_type": "stream",
     "text": [
      "Wall time: 2min 5s\n"
     ]
    }
   ],
   "source": [
    "%%time\n",
    "\n",
    "df.replace([\"A\", \"B\", \"C\"], [\"AA\", \"BB\", \"CC\"], inplace=True)"
   ]
  },
  {
   "cell_type": "code",
   "execution_count": 16,
   "id": "8dd269f8-6f42-4d20-b180-3dc552fc11c2",
   "metadata": {},
   "outputs": [
    {
     "name": "stdout",
     "output_type": "stream",
     "text": [
      "Wall time: 40.3 s\n"
     ]
    }
   ],
   "source": [
    "%%time\n",
    "\n",
    "df_te.replace([\"A\", \"B\", \"C\"], [\"AA\", \"BB\", \"CC\"], inplace=True)"
   ]
  },
  {
   "cell_type": "code",
   "execution_count": 25,
   "id": "ae658a56-0202-42e1-91b6-23be1104d5a3",
   "metadata": {},
   "outputs": [
    {
     "data": {
      "image/png": "[encoded data removed]",
      "text/plain": [
       "<Figure size 720x288 with 1 Axes>"
      ]
     },
     "metadata": {
      "needs_background": "light"
     },
     "output_type": "display_data"
    }
   ],
   "source": [
    "fig = plot_comparison(40.3, 125, \"Pandas vs. Terality - Replacing Operation\")\n",
    "fig.savefig(\"images/replacing.png\")"
   ]
  },
  {
   "cell_type": "markdown",
   "id": "805052b2-8208-462d-9ef7-5339136c7b95",
   "metadata": {},
   "source": [
    "As I've said, my machine fought well but still lost in all operations."
   ]
  },
  {
   "cell_type": "markdown",
   "id": "6aae3f8f-cd4a-4b2c-bcf2-3388d3abbbcb",
   "metadata": {},
   "source": [
    "## Notes on syntax"
   ]
  },
  {
   "cell_type": "markdown",
   "id": "8d5736c7-86de-428b-bf9b-726ad6c2b8b9",
   "metadata": {},
   "source": [
    "Even though Terality has identical syntax, some of Pandas' functions aren't yet implemented. \n",
    "\n",
    "You can expect about 80-90% of all the methods of DataFrames and Series to work on Terality DataFrames as well. Most of the functions in the global Pandas namespace (the ones called with `pd.some_function`) also work. Considering that Terality is still in beta, this is no small feat."
   ]
  }
 ],
 "metadata": {
  "kernelspec": {
   "display_name": "medium_articles",
   "language": "python",
   "name": "medium_articles"
  },
  "language_info": {
   "codemirror_mode": {
    "name": "ipython",
    "version": 3
   },
   "file_extension": ".py",
   "mimetype": "text/x-python",
   "name": "python",
   "nbconvert_exporter": "python",
   "pygments_lexer": "ipython3",
   "version": "3.8.11"
  }
 },
 "nbformat": 4,
 "nbformat_minor": 5
}
