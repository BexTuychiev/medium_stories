{
 "cells": [
  {
   "cell_type": "markdown",
   "id": "937c9b3f-716c-40c9-9c70-a3d006f3e70a",
   "metadata": {},
   "source": [
    "# Good-bye Pandas! Meet Terality - Its Evil Twin With Identical Syntax\n",
    "## ... but +30 times faster\n",
    "![](images/unsplash.jpg)"
   ]
  },
  {
   "cell_type": "markdown",
   "id": "f184c3e3-e8d5-4013-a3b6-f023452df582",
   "metadata": {},
   "source": [
    "# Introduction"
   ]
  },
  {
   "cell_type": "markdown",
   "id": "3c3a741f-cfa2-4a0b-8e2e-b193239bf7b3",
   "metadata": {},
   "source": [
    "# Preparing a dataset"
   ]
  },
  {
   "cell_type": "code",
   "execution_count": 6,
   "id": "abbf8974-005e-4334-ba47-b9d8b94c110e",
   "metadata": {},
   "outputs": [],
   "source": [
    "import pandas as pd"
   ]
  },
  {
   "cell_type": "code",
   "execution_count": 7,
   "id": "eaabe385-18ee-4f06-90a7-208970ee3ca2",
   "metadata": {},
   "outputs": [],
   "source": [
    "df = pd.read_csv(\"data/train.csv\")"
   ]
  },
  {
   "cell_type": "code",
   "execution_count": 14,
   "id": "3292084d-53e4-46d8-bff2-a12268020779",
   "metadata": {},
   "outputs": [],
   "source": [
    "large_df = df.sample(6 * 10 ** 7, replace=True)"
   ]
  },
  {
   "cell_type": "code",
   "execution_count": 15,
   "id": "a0537675-47cf-4121-a35e-8965e72cd12a",
   "metadata": {},
   "outputs": [
    {
     "data": {
      "text/plain": [
       "(60000000, 32)"
      ]
     },
     "execution_count": 15,
     "metadata": {},
     "output_type": "execute_result"
    }
   ],
   "source": [
    "large_df.shape"
   ]
  },
  {
   "cell_type": "code",
   "execution_count": 17,
   "id": "0c8b87cc-06a0-4bc7-b9fa-e42701c5c521",
   "metadata": {},
   "outputs": [],
   "source": [
    "large_df.to_parquet(\n",
    "    \"data/tps_may_large.parquet\", row_group_size=len(df) // 15, engine=\"pyarrow\"\n",
    ")"
   ]
  },
  {
   "cell_type": "code",
   "execution_count": 18,
   "id": "a508d31e-42af-4604-8fad-0adaaf467641",
   "metadata": {},
   "outputs": [],
   "source": [
    "del large_df"
   ]
  }
 ],
 "metadata": {
  "kernelspec": {
   "display_name": "medium_articles",
   "language": "python",
   "name": "medium_articles"
  },
  "language_info": {
   "codemirror_mode": {
    "name": "ipython",
    "version": 3
   },
   "file_extension": ".py",
   "mimetype": "text/x-python",
   "name": "python",
   "nbconvert_exporter": "python",
   "pygments_lexer": "ipython3",
   "version": "3.8.11"
  }
 },
 "nbformat": 4,
 "nbformat_minor": 5
}
