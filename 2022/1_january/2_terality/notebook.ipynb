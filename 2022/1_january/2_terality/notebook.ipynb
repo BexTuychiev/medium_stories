{
 "cells": [
  {
   "cell_type": "markdown",
   "id": "937c9b3f-716c-40c9-9c70-a3d006f3e70a",
   "metadata": {},
   "source": [
    "# Good-bye Pandas! Meet Terality - Its Evil Twin With Identical Syntax\n",
    "## ... but with superpowers\n",
    "![](images/unsplash.jpg)"
   ]
  }
 ],
 "metadata": {
  "kernelspec": {
   "display_name": "medium_articles",
   "language": "python",
   "name": "medium_articles"
  },
  "language_info": {
   "codemirror_mode": {
    "name": "ipython",
    "version": 3
   },
   "file_extension": ".py",
   "mimetype": "text/x-python",
   "name": "python",
   "nbconvert_exporter": "python",
   "pygments_lexer": "ipython3",
   "version": "3.8.11"
  }
 },
 "nbformat": 4,
 "nbformat_minor": 5
}
