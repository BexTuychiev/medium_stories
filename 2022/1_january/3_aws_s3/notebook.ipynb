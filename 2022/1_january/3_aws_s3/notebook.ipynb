{
 "cells": [
  {
   "cell_type": "markdown",
   "id": "a9430e6e-83e5-4dad-94fc-ea0c671ffc93",
   "metadata": {},
   "source": [
    "# Amazon S3 Fundamentals With Python Boto3 For Complete Beginners\n",
    "## Learn how to use cloud resources in your Python scripts\n",
    "![](images/pexels.jpg)"
   ]
  },
  {
   "cell_type": "markdown",
   "id": "796bff24-0a65-411e-8600-5d87fff02855",
   "metadata": {},
   "source": [
    "### Setup"
   ]
  },
  {
   "cell_type": "code",
   "execution_count": 4,
   "id": "a5af4847-b3ac-4340-9ee4-225c2caba3a6",
   "metadata": {},
   "outputs": [
    {
     "data": {
      "text/html": [
       "<style type='text/css'>\n",
       ".datatable table.frame { margin-bottom: 0; }\n",
       ".datatable table.frame thead { border-bottom: none; }\n",
       ".datatable table.frame tr.coltypes td {  color: #FFFFFF;  line-height: 6px;  padding: 0 0.5em;}\n",
       ".datatable .bool    { background: #DDDD99; }\n",
       ".datatable .object  { background: #565656; }\n",
       ".datatable .int     { background: #5D9E5D; }\n",
       ".datatable .float   { background: #4040CC; }\n",
       ".datatable .str     { background: #CC4040; }\n",
       ".datatable .time    { background: #40CC40; }\n",
       ".datatable .row_index {  background: var(--jp-border-color3);  border-right: 1px solid var(--jp-border-color0);  color: var(--jp-ui-font-color3);  font-size: 9px;}\n",
       ".datatable .frame tbody td { text-align: left; }\n",
       ".datatable .frame tr.coltypes .row_index {  background: var(--jp-border-color0);}\n",
       ".datatable th:nth-child(2) { padding-left: 12px; }\n",
       ".datatable .hellipsis {  color: var(--jp-cell-editor-border-color);}\n",
       ".datatable .vellipsis {  background: var(--jp-layout-color0);  color: var(--jp-cell-editor-border-color);}\n",
       ".datatable .na {  color: var(--jp-cell-editor-border-color);  font-size: 80%;}\n",
       ".datatable .sp {  opacity: 0.25;}\n",
       ".datatable .footer { font-size: 9px; }\n",
       ".datatable .frame_dimensions {  background: var(--jp-border-color3);  border-top: 1px solid var(--jp-border-color0);  color: var(--jp-ui-font-color3);  display: inline-block;  opacity: 0.6;  padding: 1px 10px 1px 5px;}\n",
       "</style>\n"
      ],
      "text/plain": [
       "<IPython.core.display.HTML object>"
      ]
     },
     "metadata": {},
     "output_type": "display_data"
    }
   ],
   "source": [
    "import logging\n",
    "import time\n",
    "import warnings\n",
    "\n",
    "import catboost as cb\n",
    "import datatable as dt\n",
    "import joblib\n",
    "import lightgbm as lgbm\n",
    "import matplotlib.pyplot as plt\n",
    "import numpy as np\n",
    "import optuna\n",
    "import pandas as pd\n",
    "import seaborn as sns\n",
    "import shap\n",
    "import umap\n",
    "import umap.plot\n",
    "import xgboost as xgb\n",
    "from optuna.samplers import TPESampler\n",
    "from sklearn.compose import *\n",
    "from sklearn.impute import *\n",
    "from sklearn.metrics import *\n",
    "from sklearn.model_selection import *\n",
    "from sklearn.pipeline import Pipeline, make_pipeline\n",
    "from sklearn.preprocessing import *\n",
    "\n",
    "logging.basicConfig(\n",
    "    format=\"%(asctime)s - %(message)s\", datefmt=\"%d-%b-%y %H:%M:%S\", level=logging.INFO\n",
    ")\n",
    "optuna.logging.set_verbosity(optuna.logging.WARNING)\n",
    "warnings.filterwarnings(\"ignore\")\n",
    "pd.set_option(\"float_format\", \"{:.5f}\".format)"
   ]
  },
  {
   "cell_type": "markdown",
   "id": "7ca66a8a-47d3-4648-8ea2-8b6b95aa0b94",
   "metadata": {},
   "source": [
    "### Introduction"
   ]
  },
  {
   "cell_type": "markdown",
   "id": "fcc13671-ce6f-4faa-8b0b-e0ec929007fd",
   "metadata": {
    "tags": []
   },
   "source": [
    "### Setup an account"
   ]
  },
  {
   "cell_type": "markdown",
   "id": "805c003f-8198-475e-a088-88cabbf747d1",
   "metadata": {},
   "source": [
    "Right, let's start with creating your AWS account, if you haven't already. Nothing unusual, just follow the steps from this [link](https://aws.amazon.com/free/?trk=ps_a131L0000085EJvQAM&trkCampaign=acq_paid_search_brand&sc_channel=ps&sc_campaign=acquisition_US&sc_publisher=google&sc_category=core-main&sc_country=US&sc_geo=NAMER&sc_outcome=acq&sc_detail=aws&sc_content=Brand_Core_aws_e&sc_segment=432339156150&sc_medium=ACQ-P|PS-GO|Brand|Desktop|SU|Core-Main|Core|US|EN|Text&s_kwcid=AL!4422!3!432339156150!e!!g!!aws&ef_id=EAIaIQobChMIxa2ogpvA9QIVxP7jBx2iAwgNEAAYASAAEgJGR_D_BwE:G:s&s_kwcid=AL!4422!3!432339156150!e!!g!!aws&all-free-tier.sort-by=item.additionalFields.SortRank&all-free-tier.sort-order=asc&awsf.Free%20Tier%20Types=*all&awsf.Free%20Tier%20Categories=*all):"
   ]
  },
  {
   "cell_type": "markdown",
   "id": "8d2b029e-3872-4939-b09a-6df9f5a124b7",
   "metadata": {},
   "source": [
    "![](images/sign_up.gif)"
   ]
  },
  {
   "cell_type": "markdown",
   "id": "d0760c79-c97c-442d-a1fb-ef389c13c79a",
   "metadata": {},
   "source": [
    "Then, we will go to the [AWS IAM (Identity and Access Management) console](https://console.aws.amazon.com/), which is the place we will be doing most of the work."
   ]
  },
  {
   "cell_type": "markdown",
   "id": "f3bed68d-819d-40f9-a24c-9fd65fa02677",
   "metadata": {},
   "source": [
    "![](images/aws_console.gif)"
   ]
  },
  {
   "cell_type": "markdown",
   "id": "0821e50e-d8f6-4a9a-839c-0068830a3fdb",
   "metadata": {},
   "source": [
    "From the console, you can easily switch between different AWS servers, create users, add policies and allow access to your user account. We will do each one by one."
   ]
  },
  {
   "cell_type": "markdown",
   "id": "51513a2e-d8eb-472e-9ad2-038c217e8bb5",
   "metadata": {},
   "source": [
    "### Create a user"
   ]
  },
  {
   "cell_type": "markdown",
   "id": "0578edac-3e91-4085-8e92-fe74a5a3fd85",
   "metadata": {},
   "source": [
    "For one AWS account, you can create multiple users and each user can have various levels of access to your account's resources. Let's create a sample user for this tutorial:"
   ]
  },
  {
   "cell_type": "markdown",
   "id": "261fd615-82a9-450c-b7f0-0ce964fd5b2c",
   "metadata": {},
   "source": [
    "![](images/create_user.gif)"
   ]
  },
  {
   "cell_type": "markdown",
   "id": "cf553937-6980-4504-8b9a-197e226c4fc2",
   "metadata": {},
   "source": [
    "In the IAM console:\n",
    "\n",
    "1. Go to the users tab.\n",
    "2. Click on Add users.\n",
    "3. Enter a username in the field.\n",
    "4. Tick the \"Access key - Programmatic access field\" (essential).\n",
    "5. Click \"Next\" and \"Attach existing policies directly\".\n",
    "6. Tick the \"AdministratorAccess\" policy.\n",
    "7. Click \"Next\" until you see the \"Create user\" button\n",
    "8. Finally, download the given CSV file of your user's credentials.\n",
    "\n",
    "It should look like this:"
   ]
  },
  {
   "cell_type": "markdown",
   "id": "ef99ed3e-928d-4193-b1f9-1e240e18ec79",
   "metadata": {},
   "source": [
    "![](images/credentials.png)"
   ]
  },
  {
   "cell_type": "markdown",
   "id": "7345afbd-a1ba-49de-ba16-7e71f831dc1c",
   "metadata": {},
   "source": [
    "Store it somewhere safe, because we will be using the credentials later. "
   ]
  },
  {
   "cell_type": "markdown",
   "id": "cd8c10fa-bd90-4c57-b263-b4a92be5e470",
   "metadata": {},
   "source": [
    "### Create a bucket"
   ]
  },
  {
   "cell_type": "markdown",
   "id": "018e81c7-7d43-4251-9f5b-da678c8f6770",
   "metadata": {},
   "source": [
    "Now, let's create an S3 bucket where we can store data."
   ]
  },
  {
   "cell_type": "markdown",
   "id": "3f733b29-d033-4da0-a6e0-15480822da41",
   "metadata": {},
   "source": [
    "![](images/create_bucket.gif)"
   ]
  },
  {
   "cell_type": "markdown",
   "id": "18b9f8b9-1b91-4201-9f9f-23477eec6076",
   "metadata": {},
   "source": [
    "In the [IAM console](https://console.aws.amazon.com/):\n",
    "\n",
    "1. Click services in the top left corner.\n",
    "2. Scroll down to storage and select S3 from the right-hand list.\n",
    "3. Click \"Create bucket\" and give it a name. \n",
    "\n",
    "You can choose any region you want. Leave the rest of the settings as is and click \"Create bucket\" once more. "
   ]
  },
  {
   "cell_type": "markdown",
   "id": "00b675cf-cb43-480c-9a2f-273be37e1e5f",
   "metadata": {},
   "source": [
    "### Create a policy and add it to your user"
   ]
  },
  {
   "cell_type": "markdown",
   "id": "0b6e9290-9e91-4f71-99a9-c7bcb53d18c2",
   "metadata": {},
   "source": [
    "In AWS, access is management through policies. A policy can be a set of settings or a JSON file attached to an AWS object (user, resource, group, roles) and it controls what aspects of the object you can use. \n",
    "\n",
    "Below, we will create a policy that enables us to interact with our bucket programmatically - i.e., through the CLI or in a script. "
   ]
  },
  {
   "cell_type": "markdown",
   "id": "d0787e59-9d4f-427f-bed8-44933cd28d8d",
   "metadata": {},
   "source": [
    "![](images/create_policy.gif)"
   ]
  },
  {
   "cell_type": "markdown",
   "id": "65798103-9bfb-49eb-8625-a6b6babc091b",
   "metadata": {},
   "source": [
    "In the [IAM console](https://console.aws.amazon.com/):\n",
    "\n",
    "1. Go to the Policies tab and click \"Create a policy\".\n",
    "2. Click the \"JSON\" tab and insert the code below:\n",
    "\n",
    "```json\n",
    "{\n",
    "    \"Version\": \"2012-10-17\",\n",
    "    \"Statement\": [\n",
    "        {\n",
    "            \"Sid\": \"ConsoleAccess\",\n",
    "            \"Effect\": \"Allow\",\n",
    "            \"Action\": [\n",
    "                \"s3:*\"\n",
    "            ],\n",
    "            \"Resource\": [\n",
    "                \"arn:aws:s3:::your-bucket-name\",\n",
    "                \"arn:aws:s3:::your-bucket-name/*\"\n",
    "            ]\n",
    "        }\n",
    "    ]\n",
    "}\n",
    "```\n",
    "replacing *your-bucket-name* with your own. If you pay attention, in the Action field of the JSON, we are putting `s3:*` to allow any type of interaction to our bucket. This is very broad, so you may allow only certain actions. In that case, check out [this page](https://docs.aws.amazon.com/IAM/latest/UserGuide/reference_policies_examples_s3_rw-bucket-console.html) of the AWS docs to learn how limit access.\n",
    "\n",
    "Now, this policy is only attached to the bucket. We should attach it to the user as well so that your API credentials work properly. Here are the instructions:"
   ]
  },
  {
   "cell_type": "markdown",
   "id": "bb6b5277-7e25-4d39-999a-11a550c3d5db",
   "metadata": {},
   "source": [
    "![](images/add_permission.gif)"
   ]
  },
  {
   "cell_type": "markdown",
   "id": "dbd57a57-d9ee-4af8-b48c-9dda20063396",
   "metadata": {},
   "source": [
    "In the [IAM console](https://console.aws.amazon.com/):\n",
    "\n",
    "1. Go the Users tab and click on the user we created in the last section.\n",
    "2. Click the \"Add permissions\" button.\n",
    "3. Click \"Attach existing policies\" tab.\n",
    "4. Filter them by the policy we just created.\n",
    "5. Tick the policy, review it and click \"Add\" the final time."
   ]
  },
  {
   "cell_type": "markdown",
   "id": "6f7329c6-f4d4-424d-b70c-f9ecb7989a02",
   "metadata": {},
   "source": [
    "### Download AWS CLI and configure your user"
   ]
  },
  {
   "cell_type": "markdown",
   "id": "9c0160d1-58ef-4694-a619-c4f8e88ead32",
   "metadata": {},
   "source": [
    "Now, we download the AWS command-line tool, because it makes authentication so much easier. Kindly go to [this page](https://aws.amazon.com/cli/) and download the executable for your platform:"
   ]
  },
  {
   "cell_type": "markdown",
   "id": "7b2f6744-045e-4902-a4a2-c5c14d96b732",
   "metadata": {},
   "source": [
    "![](images/download_cli.gif)"
   ]
  },
  {
   "cell_type": "markdown",
   "id": "8e85e671-b7ec-420a-a414-9a50b4060a24",
   "metadata": {},
   "source": [
    "Run the executable and reopen any active terminal sessions to let the changes take effect. Then, type `aws configure`:"
   ]
  },
  {
   "cell_type": "markdown",
   "id": "2db55db4-8469-4db7-b79e-d024dd08dc4f",
   "metadata": {},
   "source": [
    "![](images/configure_aws.gif)"
   ]
  },
  {
   "cell_type": "markdown",
   "id": "ddcbeec1-d1d5-4a1f-af78-2c2dd10e1a7d",
   "metadata": {},
   "source": [
    "Insert your AWS Key ID and Secret Access Key, along with the region your created your bucket in (use the CSV file). You can find the region name of your bucket in the S3 page of the console:\n",
    "\n",
    "![](images/region.png)"
   ]
  },
  {
   "cell_type": "markdown",
   "id": "1c3128ae-5be4-4e1c-9f72-24513ec98b63",
   "metadata": {},
   "source": [
    "Just click \"Enter\" when you reach the Default Output Format field in the configuration. There won't be any output."
   ]
  },
  {
   "cell_type": "markdown",
   "id": "4bbd1c8e-6ff4-4af2-b123-06606dfa4f19",
   "metadata": {},
   "source": [
    "### Upload your files and copy URI"
   ]
  },
  {
   "cell_type": "markdown",
   "id": "f3713f30-55fe-425a-86b3-af82471b5818",
   "metadata": {},
   "source": [
    "![](images/upload_file.gif)"
   ]
  },
  {
   "cell_type": "markdown",
   "id": "e7a8d434-9315-4134-93f6-7f17538f4640",
   "metadata": {},
   "source": [
    "![](images/copy_uri.gif)"
   ]
  },
  {
   "cell_type": "markdown",
   "id": "55e38c28-c763-4703-9d3d-9c76d9bd14b1",
   "metadata": {},
   "source": [
    "### Using Python Boto3 to download files from S3 bucket"
   ]
  },
  {
   "cell_type": "markdown",
   "id": "d7b3caee-a04f-446b-9c8a-bb48a0430717",
   "metadata": {},
   "source": [
    "### Other operations with Boto3"
   ]
  }
 ],
 "metadata": {
  "kernelspec": {
   "display_name": "medium_articles",
   "language": "python",
   "name": "medium_articles"
  },
  "language_info": {
   "codemirror_mode": {
    "name": "ipython",
    "version": 3
   },
   "file_extension": ".py",
   "mimetype": "text/x-python",
   "name": "python",
   "nbconvert_exporter": "python",
   "pygments_lexer": "ipython3",
   "version": "3.8.11"
  }
 },
 "nbformat": 4,
 "nbformat_minor": 5
}
