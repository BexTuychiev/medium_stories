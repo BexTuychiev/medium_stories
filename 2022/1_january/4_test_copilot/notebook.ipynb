{
 "cells": [
  {
   "cell_type": "markdown",
   "id": "84b3133b-ca89-4f54-aa94-f15745f4de03",
   "metadata": {},
   "source": [
    "# GitHub Copilot Crushes Data Science And ML Tasks: Ultimate Review\n",
    "## Watch Copilot perform more than 20 common data science tasks with just a comment\n",
    "![](images/pexels.jpg)\n",
    "<figcaption style=\"text-align: center;\">\n",
    "    <strong>\n",
    "        Photo by \n",
    "        <a href='https://www.pexels.com/@harveyvillarino?utm_content=attributionCopyText&utm_medium=referral&utm_source=pexels'>Harvey Tan Villarino</a>\n",
    "        on \n",
    "        <a href='https://www.pexels.com/photo/vintage-technology-sport-bike-6503106/?utm_content=attributionCopyText&utm_medium=referral&utm_source=pexels'>Pexels</a>\n",
    "    </strong>\n",
    "</figcaption>"
   ]
  }
 ],
 "metadata": {
  "kernelspec": {
   "display_name": "medium_articles",
   "language": "python",
   "name": "medium_articles"
  },
  "language_info": {
   "codemirror_mode": {
    "name": "ipython",
    "version": 3
   },
   "file_extension": ".py",
   "mimetype": "text/x-python",
   "name": "python",
   "nbconvert_exporter": "python",
   "pygments_lexer": "ipython3",
   "version": "3.8.11"
  }
 },
 "nbformat": 4,
 "nbformat_minor": 5
}
