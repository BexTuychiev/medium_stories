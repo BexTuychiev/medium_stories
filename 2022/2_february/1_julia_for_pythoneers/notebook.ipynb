{
 "cells": [
  {
   "cell_type": "markdown",
   "id": "aec0efd8-5ecc-4b88-8b8c-dd916c96962f",
   "metadata": {},
   "source": [
    "# 10-Minute Guide to Julia For Die-Hard Python Lovers\n",
    "## You can't ignore her anymore, you just can't\n",
    "![](images/pexels.jpg)\n",
    "<figcaption style=\"text-align: center;\">\n",
    "    <strong>\n",
    "        Photo by \n",
    "        <a href='https://www.pexels.com/@emma-bauso-1183828?utm_content=attributionCopyText&utm_medium=referral&utm_source=pexels'>Emma Bauso</a>\n",
    "        on \n",
    "        <a href='https://www.pexels.com/photo/girl-wearing-white-dress-2253896/?utm_content=attributionCopyText&utm_medium=referral&utm_source=pexels'>Pexels\n",
    "        </a>\n",
    "    </strong>\n",
    "</figcaption>"
   ]
  },
  {
   "cell_type": "markdown",
   "id": "bbd6953b-4766-412c-9a3e-78b003ca086e",
   "metadata": {},
   "source": [
    "### Introduction"
   ]
  },
  {
   "cell_type": "markdown",
   "id": "c919a131-bb99-479a-949e-a6af16b5c6fc",
   "metadata": {},
   "source": [
    "### Installation and setup"
   ]
  },
  {
   "cell_type": "markdown",
   "id": "6b1f07e4-269b-4df7-bc14-0f4c65b5a9fc",
   "metadata": {},
   "source": [
    "### Variables"
   ]
  },
  {
   "cell_type": "markdown",
   "id": "db8b6c16-0cc1-4725-b2ec-028417f2941a",
   "metadata": {},
   "source": [
    "### Numbers and math"
   ]
  },
  {
   "cell_type": "markdown",
   "id": "a0155613-9576-4e9a-895e-a870d40de2a8",
   "metadata": {},
   "source": [
    "### Conditionals, control flow"
   ]
  },
  {
   "cell_type": "markdown",
   "id": "932d61c8-2ec9-4dee-8ea4-a20b4fb0202c",
   "metadata": {},
   "source": [
    "### Strings"
   ]
  },
  {
   "cell_type": "markdown",
   "id": "167aebae-958b-423e-92dc-9499d6c4a015",
   "metadata": {},
   "source": [
    "### Loops"
   ]
  },
  {
   "cell_type": "markdown",
   "id": "9e07f5cf-ce25-4b44-8e84-6bfa6325b426",
   "metadata": {},
   "source": [
    "### Functions"
   ]
  }
 ],
 "metadata": {
  "kernelspec": {
   "display_name": "medium_articles",
   "language": "python",
   "name": "medium_articles"
  },
  "language_info": {
   "codemirror_mode": {
    "name": "ipython",
    "version": 3
   },
   "file_extension": ".py",
   "mimetype": "text/x-python",
   "name": "python",
   "nbconvert_exporter": "python",
   "pygments_lexer": "ipython3",
   "version": "3.8.11"
  }
 },
 "nbformat": 4,
 "nbformat_minor": 5
}
