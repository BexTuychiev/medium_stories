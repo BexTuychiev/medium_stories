{
 "cells": [
  {
   "cell_type": "markdown",
   "id": "aec0efd8-5ecc-4b88-8b8c-dd916c96962f",
   "metadata": {},
   "source": [
    "# 10-Minute Guide to Julia For Die-Hard Python Lovers\n",
    "## You can't ignore her anymore, you just can't\n",
    "![](images/pexels.jpg)\n",
    "<figcaption style=\"text-align: center;\">\n",
    "    <strong>\n",
    "        Photo by \n",
    "        <a href='https://www.pexels.com/@emma-bauso-1183828?utm_content=attributionCopyText&utm_medium=referral&utm_source=pexels'>Emma Bauso</a>\n",
    "        on \n",
    "        <a href='https://www.pexels.com/photo/girl-wearing-white-dress-2253896/?utm_content=attributionCopyText&utm_medium=referral&utm_source=pexels'>Pexels\n",
    "        </a>\n",
    "    </strong>\n",
    "</figcaption>"
   ]
  },
  {
   "cell_type": "markdown",
   "id": "bbd6953b-4766-412c-9a3e-78b003ca086e",
   "metadata": {},
   "source": [
    "### Introduction"
   ]
  },
  {
   "cell_type": "markdown",
   "id": "16b5d985-4649-45c6-a21c-616b26c20843",
   "metadata": {},
   "source": [
    "Don't get me wrong. I am not a Python hater. I love it. My eyebrows will probably turn blue before that fact changes. But, Julia seems inevitable. \n",
    "\n",
    "As a language, it is almost perfect. TODO."
   ]
  },
  {
   "cell_type": "markdown",
   "id": "c919a131-bb99-479a-949e-a6af16b5c6fc",
   "metadata": {},
   "source": [
    "### Installation and setup"
   ]
  },
  {
   "cell_type": "markdown",
   "id": "48acf9f7-b2dd-422d-bb94-f8939c5f1728",
   "metadata": {},
   "source": [
    "Installing Julia and adding it to JupyterLab will take only a few minutes. Download the installer from [here](https://julialang.org/downloads/) and installing it, ticking the option that adds Julia to `PATH`. You won't even have to restart your machine. If you type `julia` on CLI of your choice and get this output, Julia is fully functional:\n",
    "\n",
    "![](images/1.gif)"
   ]
  },
  {
   "cell_type": "markdown",
   "id": "697fe1bd-1c3a-4b2e-976b-2709679481e4",
   "metadata": {},
   "source": [
    "You can install [the Julia plugin](https://plugins.jetbrains.com/plugin/10413-julia) for PyCharm. For VSCode, the extensions marketplace should got you covered. \n",
    "\n",
    "If you want to try Julia inside JupyterLab, these two lines should be enough after entering the REPL mode:\n",
    "\n",
    "```julia\n",
    "using Pkg\n",
    "Pkg.add(\"IJulia\")\n",
    "```\n",
    "\n",
    "Just remember to restart any running JupyterLab sessions to let changes take effect. Then, you can open a notebook with Julia kernel from the start menu:\n",
    "\n",
    "![](images/2.gif)"
   ]
  },
  {
   "cell_type": "markdown",
   "id": "6b1f07e4-269b-4df7-bc14-0f4c65b5a9fc",
   "metadata": {},
   "source": [
    "### Variables"
   ]
  },
  {
   "cell_type": "markdown",
   "id": "e259a212-23e5-4d20-b099-d66ee1c89393",
   "metadata": {},
   "source": [
    "There are many similarities between Python and Julia in terms of syntax. Both reads almost like natural English. Assuming you are already comfortable with Python, I will only mention differences in syntax between two languages and leave the parts that are the same, starting with variables.\n",
    "\n",
    "Julia is a dynamically typed language, which means there isn't much difference between variables in Julia and in Python. In both, variables are case-sensitive, have no semantic meaning and allows using majority of the Unicode symbols upon creation. \n",
    "\n",
    "There are minor differences in the [style guide](https://docs.julialang.org/en/v1/manual/variables/#Stylistic-Conventions):\n",
    "\n",
    "![](images/style_guide_vars.png)"
   ]
  },
  {
   "cell_type": "markdown",
   "id": "937cf807-50b4-4cae-a8b4-c6fde32f24f9",
   "metadata": {},
   "source": [
    "Apart from that, a variable in Julia could be a drop-in replacement for their Pythonic counterparts."
   ]
  },
  {
   "cell_type": "code",
   "execution_count": 1,
   "id": "5d352496-ffc5-41f8-ac70-9de6719841f6",
   "metadata": {},
   "outputs": [
    {
     "name": "stdout",
     "output_type": "stream",
     "text": [
      "Hello World!\n"
     ]
    }
   ],
   "source": [
    "first_var = \"Hello World!\"\n",
    "\n",
    "println(first_var)"
   ]
  },
  {
   "cell_type": "code",
   "execution_count": 2,
   "id": "e54f1692-0ab2-43d8-b128-804bcd1af2e5",
   "metadata": {},
   "outputs": [
    {
     "ename": "LoadError",
     "evalue": "syntax: unexpected \"else\"",
     "output_type": "error",
     "traceback": [
      "syntax: unexpected \"else\"",
      "",
      "Stacktrace:",
      " [1] top-level scope",
      "   @ In[2]:3",
      " [2] eval",
      "   @ .\\boot.jl:373 [inlined]",
      " [3] include_string(mapexpr::typeof(REPL.softscope), mod::Module, code::String, filename::String)",
      "   @ Base .\\loading.jl:1196"
     ]
    }
   ],
   "source": [
    "# You get an error if you use reserved keywords as names\n",
    "\n",
    "else = \"Error!\""
   ]
  },
  {
   "cell_type": "markdown",
   "id": "db8b6c16-0cc1-4725-b2ec-028417f2941a",
   "metadata": {
    "tags": []
   },
   "source": [
    "### Numbers and math"
   ]
  },
  {
   "cell_type": "markdown",
   "id": "072af9e2-5fd0-4c85-a691-c5b36f132315",
   "metadata": {},
   "source": [
    "Julia is a scientific language and more so than Python. It has an excellent, blazing fast support for mathematical computations. \n",
    "\n",
    "All mathematical operators are the same, except for the power operator, which is denoted with `^` in Julia and the floor divisor, denoted with `÷` (I've no idea how you produce this on the keyboard with a single stroke). There is also an extra operator that performs inverse division with *backslash* (`\\`):"
   ]
  },
  {
   "cell_type": "code",
   "execution_count": 8,
   "id": "0704aea8-991a-4dac-8fcc-dc420bd08b20",
   "metadata": {},
   "outputs": [
    {
     "data": {
      "text/plain": [
       "28398241"
      ]
     },
     "execution_count": 8,
     "metadata": {},
     "output_type": "execute_result"
    }
   ],
   "source": [
    "x = 73\n",
    "\n",
    "x ^ 4"
   ]
  },
  {
   "cell_type": "code",
   "execution_count": 9,
   "id": "56264796-f8d5-431e-8f26-e8906e55461c",
   "metadata": {},
   "outputs": [
    {
     "data": {
      "text/plain": [
       "0.17260273972602738"
      ]
     },
     "execution_count": 9,
     "metadata": {},
     "output_type": "execute_result"
    }
   ],
   "source": [
    "x \\ 12.6"
   ]
  },
  {
   "cell_type": "code",
   "execution_count": 10,
   "id": "ae70f1f1-71e1-4e11-8257-4be59f3112df",
   "metadata": {},
   "outputs": [
    {
     "data": {
      "text/plain": [
       "14"
      ]
     },
     "execution_count": 10,
     "metadata": {},
     "output_type": "execute_result"
    }
   ],
   "source": [
    "x ÷ 5"
   ]
  },
  {
   "cell_type": "markdown",
   "id": "4012b179-01a6-4bb0-b66f-45715c00702d",
   "metadata": {},
   "source": [
    "Integers and floats are represented with Int64 and Float64 datatypes. Julia puts great emphasis on correct type usage as they have high impact on memory:"
   ]
  },
  {
   "cell_type": "code",
   "execution_count": 16,
   "id": "2109f5c9-e5db-4aa5-9fee-e1bdf759811a",
   "metadata": {},
   "outputs": [
    {
     "data": {
      "text/plain": [
       "Int64"
      ]
     },
     "execution_count": 16,
     "metadata": {},
     "output_type": "execute_result"
    }
   ],
   "source": [
    "typeof(x)"
   ]
  },
  {
   "cell_type": "code",
   "execution_count": 17,
   "id": "0ecbf093-c456-4e73-91dc-94e0eb694379",
   "metadata": {},
   "outputs": [
    {
     "data": {
      "text/plain": [
       "Float64"
      ]
     },
     "execution_count": 17,
     "metadata": {},
     "output_type": "execute_result"
    }
   ],
   "source": [
    "typeof(4.0)"
   ]
  },
  {
   "cell_type": "markdown",
   "id": "96efb2dc-3c17-4649-9464-f30a35151fec",
   "metadata": {},
   "source": [
    "Unfortunately, type declarations on global variables are not yet supported in Julia:"
   ]
  },
  {
   "cell_type": "code",
   "execution_count": 23,
   "id": "8b1866d0-694d-4fdd-8f8e-e5f700ec5316",
   "metadata": {},
   "outputs": [
    {
     "ename": "LoadError",
     "evalue": "syntax: type declarations on global variables are not yet supported",
     "output_type": "error",
     "traceback": [
      "syntax: type declarations on global variables are not yet supported",
      "",
      "Stacktrace:",
      " [1] top-level scope",
      "   @ In[23]:1",
      " [2] eval",
      "   @ .\\boot.jl:373 [inlined]",
      " [3] include_string(mapexpr::typeof(REPL.softscope), mod::Module, code::String, filename::String)",
      "   @ Base .\\loading.jl:1196"
     ]
    }
   ],
   "source": [
    "x :: Int16 = 73"
   ]
  },
  {
   "cell_type": "markdown",
   "id": "f877b7f1-ab7b-460e-9add-7606ef8cb1ac",
   "metadata": {},
   "source": [
    "Infinity and null values are represented as `Inf` and `NaN`:"
   ]
  },
  {
   "cell_type": "code",
   "execution_count": 26,
   "id": "ad24103e-9147-484d-a7c4-5d5623878440",
   "metadata": {},
   "outputs": [
    {
     "data": {
      "text/plain": [
       "Float64"
      ]
     },
     "execution_count": 26,
     "metadata": {},
     "output_type": "execute_result"
    }
   ],
   "source": [
    "typeof(Inf)"
   ]
  },
  {
   "cell_type": "code",
   "execution_count": 27,
   "id": "f414e3b2-580b-46d5-abb1-fa72a86b866a",
   "metadata": {},
   "outputs": [
    {
     "data": {
      "text/plain": [
       "Float64"
      ]
     },
     "execution_count": 27,
     "metadata": {},
     "output_type": "execute_result"
    }
   ],
   "source": [
    "typeof(NaN)"
   ]
  },
  {
   "cell_type": "code",
   "execution_count": 28,
   "id": "28502a67-205e-45bc-8a50-48068a9f096c",
   "metadata": {},
   "outputs": [
    {
     "data": {
      "text/plain": [
       "Inf"
      ]
     },
     "execution_count": 28,
     "metadata": {},
     "output_type": "execute_result"
    }
   ],
   "source": [
    "Inf / 5"
   ]
  },
  {
   "cell_type": "code",
   "execution_count": 31,
   "id": "6e7247ca-9501-491b-8a0d-a85d921fbd28",
   "metadata": {},
   "outputs": [
    {
     "data": {
      "text/plain": [
       "NaN"
      ]
     },
     "execution_count": 31,
     "metadata": {},
     "output_type": "execute_result"
    }
   ],
   "source": [
    "10 / NaN"
   ]
  },
  {
   "cell_type": "markdown",
   "id": "524eb9bd-384b-4b69-951f-b089f4520f75",
   "metadata": {},
   "source": [
    "But, here is the weird part - there is no zero division error in Julia:"
   ]
  },
  {
   "cell_type": "code",
   "execution_count": 33,
   "id": "ce6245f0-471f-4676-ba14-c2006ef66f83",
   "metadata": {},
   "outputs": [
    {
     "data": {
      "text/plain": [
       "Inf"
      ]
     },
     "execution_count": 33,
     "metadata": {},
     "output_type": "execute_result"
    }
   ],
   "source": [
    "x / 0"
   ]
  },
  {
   "cell_type": "code",
   "execution_count": 34,
   "id": "940cdaf5-23d5-4737-9ecc-5d15782c5059",
   "metadata": {},
   "outputs": [
    {
     "data": {
      "text/plain": [
       "Inf"
      ]
     },
     "execution_count": 34,
     "metadata": {},
     "output_type": "execute_result"
    }
   ],
   "source": [
    "Inf / 0"
   ]
  },
  {
   "cell_type": "markdown",
   "id": "7c8f2824-2304-4f1e-b156-a534898fe926",
   "metadata": {},
   "source": [
    "Now, we arrive at the part where Julia starts feeling like a real scientific, math-purposed language. You can use variables in polynomials just like you would while writing your Algebra homework:"
   ]
  },
  {
   "cell_type": "code",
   "execution_count": 36,
   "id": "cfc282c8-483b-4283-b12a-0aa07235a341",
   "metadata": {},
   "outputs": [
    {
     "data": {
      "text/plain": [
       "2983"
      ]
     },
     "execution_count": 36,
     "metadata": {},
     "output_type": "execute_result"
    }
   ],
   "source": [
    "x = 73\n",
    "y = 23\n",
    "\n",
    "5y ^ 2 + 4x + 2y"
   ]
  },
  {
   "cell_type": "code",
   "execution_count": 37,
   "id": "1bb07abd-cfa7-4d78-bdb9-809fa5868a18",
   "metadata": {},
   "outputs": [
    {
     "data": {
      "text/plain": [
       "57288192"
      ]
     },
     "execution_count": 37,
     "metadata": {},
     "output_type": "execute_result"
    }
   ],
   "source": [
    "4(x + y) + 2(x^2 + y) ^ 2"
   ]
  },
  {
   "cell_type": "code",
   "execution_count": 39,
   "id": "02c4504f-2c5e-4981-a892-ace37d68f680",
   "metadata": {},
   "outputs": [
    {
     "data": {
      "text/plain": [
       "3650"
      ]
     },
     "execution_count": 39,
     "metadata": {},
     "output_type": "execute_result"
    }
   ],
   "source": [
    "(x - y)x"
   ]
  },
  {
   "cell_type": "markdown",
   "id": "ee135a88-df46-4929-8276-43270459ef2f",
   "metadata": {},
   "source": [
    "However, there are exceptions - stuff like these won't work:"
   ]
  },
  {
   "cell_type": "code",
   "execution_count": 40,
   "id": "786a6ae0-bc75-4361-a737-a294c76dc330",
   "metadata": {},
   "outputs": [
    {
     "ename": "LoadError",
     "evalue": "MethodError: objects of type Int64 are not callable\nMaybe you forgot to use an operator such as \u001b[36m*, ^, %, / etc. \u001b[39m?",
     "output_type": "error",
     "traceback": [
      "MethodError: objects of type Int64 are not callable\nMaybe you forgot to use an operator such as \u001b[36m*, ^, %, / etc. \u001b[39m?",
      "",
      "Stacktrace:",
      " [1] top-level scope",
      "   @ In[40]:1",
      " [2] eval",
      "   @ .\\boot.jl:373 [inlined]",
      " [3] include_string(mapexpr::typeof(REPL.softscope), mod::Module, code::String, filename::String)",
      "   @ Base .\\loading.jl:1196"
     ]
    }
   ],
   "source": [
    "x(x + y)"
   ]
  },
  {
   "cell_type": "code",
   "execution_count": 41,
   "id": "8f051cf1-1013-4feb-a8c1-59e4ec2df33a",
   "metadata": {},
   "outputs": [
    {
     "ename": "LoadError",
     "evalue": "UndefVarError: xy not defined",
     "output_type": "error",
     "traceback": [
      "UndefVarError: xy not defined",
      "",
      "Stacktrace:",
      " [1] top-level scope",
      "   @ :0",
      " [2] eval",
      "   @ .\\boot.jl:373 [inlined]",
      " [3] include_string(mapexpr::typeof(REPL.softscope), mod::Module, code::String, filename::String)",
      "   @ Base .\\loading.jl:1196"
     ]
    }
   ],
   "source": [
    "xy"
   ]
  },
  {
   "cell_type": "code",
   "execution_count": 42,
   "id": "1d6739a5-e2db-4820-9d98-2794c43b4abd",
   "metadata": {},
   "outputs": [
    {
     "ename": "LoadError",
     "evalue": "MethodError: objects of type Int64 are not callable\nMaybe you forgot to use an operator such as \u001b[36m*, ^, %, / etc. \u001b[39m?",
     "output_type": "error",
     "traceback": [
      "MethodError: objects of type Int64 are not callable\nMaybe you forgot to use an operator such as \u001b[36m*, ^, %, / etc. \u001b[39m?",
      "",
      "Stacktrace:",
      " [1] top-level scope",
      "   @ In[42]:1",
      " [2] eval",
      "   @ .\\boot.jl:373 [inlined]",
      " [3] include_string(mapexpr::typeof(REPL.softscope), mod::Module, code::String, filename::String)",
      "   @ Base .\\loading.jl:1196"
     ]
    }
   ],
   "source": [
    "(x + 1)(y - 2)"
   ]
  },
  {
   "cell_type": "markdown",
   "id": "e28ed1d0-1e52-4fd8-bf91-47969b896c6d",
   "metadata": {},
   "source": [
    "Still, allowing numbers immediately precede variables makes writing formulae and expressions much neater and compact.\n",
    "\n",
    "Julia also offers a wide range of common functions in the global scope, without having to import additional modules, like the `factorial`:"
   ]
  },
  {
   "cell_type": "code",
   "execution_count": 43,
   "id": "cfd34710-7ee6-4277-9f91-8314e6b765fb",
   "metadata": {},
   "outputs": [
    {
     "data": {
      "text/plain": [
       "3628800"
      ]
     },
     "execution_count": 43,
     "metadata": {},
     "output_type": "execute_result"
    }
   ],
   "source": [
    "factorial(10)"
   ]
  },
  {
   "cell_type": "markdown",
   "id": "64493286-c757-4db5-91b7-f0636aa9bbf3",
   "metadata": {},
   "source": [
    "Here is a list of division functions:\n",
    "\n",
    "![](images/division_functions.png)"
   ]
  },
  {
   "cell_type": "markdown",
   "id": "08d3cf5f-b4ae-4c08-87f0-89529d407c58",
   "metadata": {},
   "source": [
    "The list of power, log and root functions is even more impressive:\n",
    "\n",
    "![](images/power_functions.png)"
   ]
  },
  {
   "cell_type": "markdown",
   "id": "bf4c7702-9b69-45ec-a21c-a0b82c97ba95",
   "metadata": {},
   "source": [
    "The trig functions aren't left out either:\n",
    "\n",
    "![](images/trig_funcs.png)"
   ]
  },
  {
   "cell_type": "markdown",
   "id": "a0155613-9576-4e9a-895e-a870d40de2a8",
   "metadata": {
    "tags": []
   },
   "source": [
    "### Conditionals"
   ]
  },
  {
   "cell_type": "markdown",
   "id": "7c16bc56-1ad3-4b30-91b3-114bf333b714",
   "metadata": {},
   "source": [
    "Indentation has no semantic meaning in Julia (but please use it for everyone's sake, just like you are writing Python). For this reason, common code blocks such as conditionals, loops and functions should finish with the `end` keyword."
   ]
  },
  {
   "cell_type": "code",
   "execution_count": 50,
   "id": "9aea0c1d-46eb-4fda-b3f8-1ab2e75fe95c",
   "metadata": {},
   "outputs": [
    {
     "name": "stdout",
     "output_type": "stream",
     "text": [
      "There are 5 characters in the word 'Julia'\n"
     ]
    }
   ],
   "source": [
    "str = \"Julia\"\n",
    "\n",
    "if length(str) == 3\n",
    "    println(\"There are 3 characters in the word '$str'\")\n",
    "elseif length(str) == 4\n",
    "    println(\"There are 4 characters in the word '$str'\")\n",
    "else\n",
    "    println(\"There are 5 characters in the word '$str'\")\n",
    "end"
   ]
  },
  {
   "cell_type": "markdown",
   "id": "54945584-8ae8-412d-b281-50c2dbfb605c",
   "metadata": {},
   "source": [
    "The logic of the conditional keywords (if, elseif (elif in Python), else) is the same. So are the numeric comparison operators:\n",
    "\n",
    "![](images/numeric_comparisons.png)"
   ]
  },
  {
   "cell_type": "markdown",
   "id": "1b3a0c75-9d33-498d-98e3-2d0541303369",
   "metadata": {},
   "source": [
    "The compound conditional operators are a bit different:"
   ]
  },
  {
   "cell_type": "code",
   "execution_count": 51,
   "id": "b7e36cfd-c570-4796-b294-0b308f1a8ca5",
   "metadata": {},
   "outputs": [
    {
     "name": "stdout",
     "output_type": "stream",
     "text": [
      "1000\n"
     ]
    }
   ],
   "source": [
    "x = 1000\n",
    "\n",
    "# Logical `and`\n",
    "if x % 10 == 0 && cbrt(1000) == 10\n",
    "    println(x)\n",
    "end"
   ]
  },
  {
   "cell_type": "code",
   "execution_count": 52,
   "id": "21e27c00-b0c3-4965-959d-a1c1c1d9a483",
   "metadata": {},
   "outputs": [],
   "source": [
    "# Logical `or`, negation included\n",
    "if !(rem(x, 10) == 0) || sqrt(1000) == 10\n",
    "    println(x)\n",
    "end"
   ]
  },
  {
   "cell_type": "markdown",
   "id": "f7c57569-0eb1-4e73-ab21-d22c3e37291a",
   "metadata": {},
   "source": [
    "The `&&` and `||` operators are actually called short-circuit **and** and **or** operators. We only explore their standard functionality, the awesome [short-circuiting feature](https://docs.julialang.org/en/v1/manual/control-flow/#Short-Circuit-Evaluation) of Julia is a topic for another article.\n",
    "\n",
    "There is also the strict equality operator in Julia - `===`. This checks both for equality both in value and data type:"
   ]
  },
  {
   "cell_type": "code",
   "execution_count": 53,
   "id": "1c09b413-0ec4-4159-b1a5-b4a0ce57e6c3",
   "metadata": {},
   "outputs": [
    {
     "data": {
      "text/plain": [
       "false"
      ]
     },
     "execution_count": 53,
     "metadata": {},
     "output_type": "execute_result"
    }
   ],
   "source": [
    "Int16(73) === Float32(73.0)"
   ]
  },
  {
   "cell_type": "markdown",
   "id": "28376537-afc7-4723-a8cb-fc648a4086c2",
   "metadata": {},
   "source": [
    "Like any modern language, Julia supports ternary operators:"
   ]
  },
  {
   "cell_type": "code",
   "execution_count": 56,
   "id": "3582f997-818f-4034-b713-76f93d0ea9dc",
   "metadata": {},
   "outputs": [
    {
     "name": "stdout",
     "output_type": "stream",
     "text": [
      "73 is greater\n"
     ]
    }
   ],
   "source": [
    "x = 73; y = 37\n",
    "\n",
    "# Space around the semicolon is compulsory\n",
    "println(x > y ? \"$x is greater\" : \"$y is greater\")"
   ]
  },
  {
   "cell_type": "markdown",
   "id": "2f27201f-cefa-4815-a056-111ac8b00167",
   "metadata": {},
   "source": [
    "Unfortunately, this is *horribly unreadable* compared to the Python version:"
   ]
  },
  {
   "cell_type": "code",
   "execution_count": 1,
   "id": "b61a86bb-6bbe-4baa-865f-fa3d8e650bb5",
   "metadata": {},
   "outputs": [
    {
     "name": "stdout",
     "output_type": "stream",
     "text": [
      "73 is greater\n"
     ]
    }
   ],
   "source": [
    "x = 73; y = 37\n",
    "\n",
    "print(f\"{x} is greater\" if x > y else f\"{y} is greater\")"
   ]
  },
  {
   "cell_type": "markdown",
   "id": "932d61c8-2ec9-4dee-8ea4-a20b4fb0202c",
   "metadata": {
    "tags": []
   },
   "source": [
    "### Strings"
   ]
  },
  {
   "cell_type": "markdown",
   "id": "167aebae-958b-423e-92dc-9499d6c4a015",
   "metadata": {},
   "source": [
    "### Loops"
   ]
  },
  {
   "cell_type": "markdown",
   "id": "9e07f5cf-ce25-4b44-8e84-6bfa6325b426",
   "metadata": {},
   "source": [
    "### Functions"
   ]
  }
 ],
 "metadata": {
  "kernelspec": {
   "display_name": "Julia 1.7.1",
   "language": "julia",
   "name": "julia-1.7"
  },
  "language_info": {
   "file_extension": ".jl",
   "mimetype": "application/julia",
   "name": "julia",
   "version": "1.7.1"
  }
 },
 "nbformat": 4,
 "nbformat_minor": 5
}
