{
 "cells": [
  {
   "cell_type": "markdown",
   "id": "c8ca6200-476f-4dac-b76c-52d3b8532eb0",
   "metadata": {},
   "source": [
    "# Massive Post on Image Processing And Preparation For Deep Learning in Python\n",
    "## Manipulate and transform images at will\n",
    "![](images/unsplash.jpg)\n",
    "<figcaption style=\"text-align: center;\">\n",
    "    <strong>\n",
    "        Photo by \n",
    "        <a href='https://unsplash.com/@pkprasad1996?utm_source=unsplash&utm_medium=referral&utm_content=creditCopyText'>Prasad Panchakshari</a>\n",
    "        on \n",
    "        <a href='https://unsplash.com/s/photos/kitten?utm_source=unsplash&utm_medium=referral&utm_content=creditCopyText'>Unsplash</a>\n",
    "    </strong>\n",
    "</figcaption>"
   ]
  },
  {
   "cell_type": "markdown",
   "id": "3608e7eb-2531-46cd-98f0-612446ad3be2",
   "metadata": {},
   "source": [
    "## Introduction"
   ]
  },
  {
   "cell_type": "markdown",
   "id": "fe00d06b-9fc1-4944-a0ba-16cb08ba2689",
   "metadata": {},
   "source": [
    "## Basics"
   ]
  },
  {
   "cell_type": "markdown",
   "id": "dc33bfa2-9692-4b8b-a3eb-6a1234468a0c",
   "metadata": {},
   "source": [
    "### 1. NumPy and Skimage basics for working with images"
   ]
  },
  {
   "cell_type": "markdown",
   "id": "b96dda28-4ed2-459e-9a80-17e27ab3a79b",
   "metadata": {},
   "source": [
    "### 2. Converting images to grayscale"
   ]
  },
  {
   "cell_type": "markdown",
   "id": "f21195a9-1466-491d-9b8e-4c04290cb091",
   "metadata": {},
   "source": [
    "### 3. Histogram of color channels"
   ]
  },
  {
   "cell_type": "markdown",
   "id": "7bdec1c6-6931-46d7-ac2a-8059344e75e8",
   "metadata": {},
   "source": [
    "### 4. Thresholding - global"
   ]
  },
  {
   "cell_type": "markdown",
   "id": "6a972442-1bd5-41c2-8514-d83a6a5079f2",
   "metadata": {},
   "source": [
    "### 5. Thresholding - local"
   ]
  },
  {
   "cell_type": "markdown",
   "id": "574ff230-9901-4d65-b581-52018e01a74f",
   "metadata": {},
   "source": [
    "## Filters"
   ]
  },
  {
   "cell_type": "markdown",
   "id": "fe44b81b-a898-4c07-a7c1-38e9a4bfa683",
   "metadata": {},
   "source": [
    "### 1. Edge detection"
   ]
  },
  {
   "cell_type": "markdown",
   "id": "5f3e6e9f-b9d1-4f0d-94c0-daa75568e09f",
   "metadata": {},
   "source": [
    "### 2. Smoothing"
   ]
  },
  {
   "cell_type": "markdown",
   "id": "fe4896f4-e280-41fa-9ec5-314c7919c932",
   "metadata": {},
   "source": [
    "### 3. Contrast enhancement"
   ]
  },
  {
   "cell_type": "markdown",
   "id": "583498f0-d4e0-4dd3-a39d-e1e50bfdc5a0",
   "metadata": {},
   "source": [
    "### 4. Transformations"
   ]
  },
  {
   "cell_type": "markdown",
   "id": "e1ffe377-1fe8-476e-9ff7-0beb10055592",
   "metadata": {},
   "source": [
    "## Image restoration and enhancement"
   ]
  },
  {
   "cell_type": "markdown",
   "id": "78a036bc-69e2-4c0a-be06-9a1a2a631205",
   "metadata": {},
   "source": [
    "### 1. Inpainting"
   ]
  },
  {
   "cell_type": "markdown",
   "id": "a9c060b1-8dc0-4cc1-8310-6436974004c0",
   "metadata": {},
   "source": [
    "### 2. Noise"
   ]
  },
  {
   "cell_type": "markdown",
   "id": "f6a26276-0cec-4433-aaf5-5ad2751307f9",
   "metadata": {},
   "source": [
    "### 3. Superpixels"
   ]
  },
  {
   "cell_type": "markdown",
   "id": "db5f9b36-3cbf-4ed5-bcbd-e8eea54ba5da",
   "metadata": {},
   "source": [
    "### 4. Segmentation"
   ]
  },
  {
   "cell_type": "markdown",
   "id": "b56eac6e-6ec5-42ee-a456-6e5720672eea",
   "metadata": {},
   "source": [
    "### 5. Contours"
   ]
  },
  {
   "cell_type": "markdown",
   "id": "78518a14-6cfe-4a71-8f4a-2543953a4450",
   "metadata": {},
   "source": [
    "## Advanced operations"
   ]
  },
  {
   "cell_type": "markdown",
   "id": "6bbc0470-749e-4dcf-9157-622db0d18f82",
   "metadata": {},
   "source": [
    "### 1. Edge detection"
   ]
  },
  {
   "cell_type": "markdown",
   "id": "191a8520-2ca4-4eaa-af68-c9d1c51dce02",
   "metadata": {},
   "source": [
    "### 2. Corner detection"
   ]
  }
 ],
 "metadata": {
  "kernelspec": {
   "display_name": "medium_articles",
   "language": "python",
   "name": "medium_articles"
  },
  "language_info": {
   "codemirror_mode": {
    "name": "ipython",
    "version": 3
   },
   "file_extension": ".py",
   "mimetype": "text/x-python",
   "name": "python",
   "nbconvert_exporter": "python",
   "pygments_lexer": "ipython3",
   "version": "3.8.11"
  }
 },
 "nbformat": 4,
 "nbformat_minor": 5
}
