{
 "cells": [
  {
   "cell_type": "markdown",
   "id": "2e7b7437-8012-4459-9b38-e49a45ffa039",
   "metadata": {},
   "source": [
    "# Complete Guide to Tracking Your Machine Learning Experiments With MLFlow and DagsHub\n",
    "## Create reproducible and flexible ML projects\n",
    "![](images/pexels.jpg)\n",
    "<figcaption style=\"text-align: center;\">\n",
    "    <strong>\n",
    "        Photo by \n",
    "        <a href='https://images.pexels.com/photos/2280571/pexels-photo-2280571.jpeg?auto=compress&cs=tinysrgb&dpr=2&h=650&w=940'>Chokniti Khongchum\n",
    "        </a>\n",
    "        on \n",
    "        <a href='https://images.pexels.com/photos/2280571/pexels-photo-2280571.jpeg?auto=compress&cs=tinysrgb&dpr=2&h=650&w=940'>Pexels.</a>\n",
    "    </strong>\n",
    "</figcaption>"
   ]
  },
  {
   "cell_type": "markdown",
   "id": "029cfffc-3279-43a5-b063-febc85c5d775",
   "metadata": {},
   "source": [
    "### Introduction"
   ]
  },
  {
   "cell_type": "markdown",
   "id": "b9c047b7-59dd-4a80-98f4-7856c1962016",
   "metadata": {},
   "source": [
    "Do you ever get sick of it when people keep saying data scientists spend 80% of their time cleaning data? While it is true, another part of the machine learning workflow deserves as much attention. That's machine learning experimentation. "
   ]
  },
  {
   "cell_type": "markdown",
   "id": "aec8d3c2-d647-4b2d-bec1-be7d6f032210",
   "metadata": {},
   "source": [
    "### What does it mean to track machine learning experiments?"
   ]
  },
  {
   "cell_type": "markdown",
   "id": "aa1ef9d2-fe08-49c7-81bf-ad6e3405dd90",
   "metadata": {},
   "source": [
    "In any machine learning project, it takes a long time and effort to build a model that meets your expectations. "
   ]
  },
  {
   "cell_type": "markdown",
   "id": "d8d3bf93-fc46-4cb5-8215-302d3e4b5927",
   "metadata": {},
   "source": [
    "### Setup"
   ]
  },
  {
   "cell_type": "markdown",
   "id": "30cdf914-265d-44ae-895c-1175c0528513",
   "metadata": {},
   "source": [
    "Even though this article can be read on its own, it is part two of the project I've been doing using the Pet Pawpularity competition data from Kaggle. The aim of the project is to predict a pet's cuteness score given its image and metadata.\n",
    "\n",
    "In [part one](https://towardsdatascience.com/open-source-ml-project-with-dagshub-improve-pet-adoption-with-machine-learning-1-e9403f8f7711?source=your_stories_page----------------------------------------), I explained my approach to solving the problem, the tools I've used and took a first look into the images and their metadata. I suggest you read the EDA section to familiarize yourself. \n",
    "\n",
    "You can also run the following commands to download the repo into your environment and set up the dependencies. "
   ]
  },
  {
   "cell_type": "markdown",
   "id": "c8de341d-44eb-4c19-9c1d-4b8017907c7a",
   "metadata": {},
   "source": [
    "```bash\n",
    "git clone https://github.com/BexTuychiev/pet_pawpularity.git\n",
    "cd pet_pawpularity\n",
    "pip install -r requirements.txt\n",
    "\n",
    "dvc pull\n",
    "```"
   ]
  },
  {
   "cell_type": "markdown",
   "id": "1537f7ff-cc0b-4565-bf2e-97080ee720c4",
   "metadata": {},
   "source": [
    "Note that the data files are more than 1GB, so the last `dvc pull` command takes a while to complete. Also, there are many dependencies to install so you may want to avoid that.\n",
    "\n",
    "In that case, I recommend you to install only these libraries and download the metadata CSV of the images:"
   ]
  },
  {
   "cell_type": "markdown",
   "id": "c2d88bc2-daf2-46e1-a3bc-11ad4b59f175",
   "metadata": {},
   "source": [
    "```bash\n",
    "pip install mlflow dagshub pandas scikit-learn xgboost\n",
    "wget https://dagshub.com/BexTuychiev/pet_pawpularity/raw/8c799cd3c985087f31da10bf3207cf701a0790fa/data/raw/train.csv\n",
    "```"
   ]
  },
  {
   "cell_type": "markdown",
   "id": "61ec4c28-fc51-4766-8817-9df719965ccd",
   "metadata": {},
   "source": [
    "### Logging experiments with Git and DagsHub"
   ]
  },
  {
   "cell_type": "code",
   "execution_count": 2,
   "id": "bd6403a3-49c2-4185-81e5-095bf62d0b0e",
   "metadata": {},
   "outputs": [],
   "source": [
    "import dagshub\n",
    "\n",
    "\n",
    "def log_to_git(params, metrics, metrics_path=\"metrics.csv\", hparams_path=\"params.yaml\"):\n",
    "    \"\"\"\n",
    "    A function to log experiments to git using dagshub logger.\n",
    "    \"\"\"\n",
    "    # Create a logger\n",
    "    logger = dagshub.dagshub_logger(\n",
    "        metrics_path=metrics_path, hparams_path=hparams_path\n",
    "    )\n",
    "\n",
    "    # Log\n",
    "    with logger as logger:\n",
    "        logger.log_hyperparams(params)\n",
    "        logger.log_metrics(metrics)"
   ]
  },
  {
   "cell_type": "markdown",
   "id": "94220197-3d3e-4892-a1e0-bf6ef48601af",
   "metadata": {},
   "source": [
    "### Basics of logging experiments with MLFlow"
   ]
  },
  {
   "cell_type": "code",
   "execution_count": 3,
   "id": "035a788d-eee8-4120-b59d-cac763cf797b",
   "metadata": {},
   "outputs": [],
   "source": [
    "import os\n",
    "\n",
    "os.environ[\"MLFLOW_TRACKING_USERNAME\"] = \"MLFLOW_TRACKING_USERNAME\"\n",
    "os.environ[\"MLFLOW_TRACKING_PASSWORD\"] = \"MLFLOW_TRACKING_PASSWORD\""
   ]
  },
  {
   "cell_type": "markdown",
   "id": "2ba51eaf-4532-4482-bb6d-7751476caf1b",
   "metadata": {},
   "source": [
    "```bash\n",
    "setx MLFLOW_TRACKING_USERNAME \"your_dagshub_username\"\n",
    "setx MLFLOW_TRACKING_PASSWORD \"your_dagshub_password\"\n",
    "```"
   ]
  },
  {
   "cell_type": "code",
   "execution_count": 4,
   "id": "62d5e5a3-c7bf-456b-8ea6-f7d71f635d29",
   "metadata": {},
   "outputs": [],
   "source": [
    "import mlflow\n",
    "\n",
    "mlflow.set_tracking_uri(\"https://dagshub.com/BexTuychiev/pet_pawpularity.mlflow\")"
   ]
  },
  {
   "cell_type": "markdown",
   "id": "ec4ec4f4-2de0-4ba2-85b6-d2450db7b0fa",
   "metadata": {},
   "source": [
    "```python\n",
    "with mlflow.start_run():\n",
    "    mlflow.log_params({...})\n",
    "    mlflow.log_metrics({...})\n",
    "```"
   ]
  },
  {
   "cell_type": "markdown",
   "id": "fc009948-8c5d-430c-94f2-dd465ffd9b51",
   "metadata": {},
   "source": [
    "### Deep dive into MLFlow workflow"
   ]
  },
  {
   "cell_type": "code",
   "execution_count": null,
   "id": "4abf761c-1e83-429f-9fb9-fa7c82dedb44",
   "metadata": {},
   "outputs": [],
   "source": []
  },
  {
   "cell_type": "markdown",
   "id": "9c9a2499-fc1b-46da-8f6f-2812ef2fd080",
   "metadata": {},
   "source": [
    "### Analyzing experiment results with DagsHub"
   ]
  },
  {
   "cell_type": "markdown",
   "id": "fcd26f0d-0f45-4335-a616-2d4362039750",
   "metadata": {},
   "source": [
    "### Conclusion"
   ]
  }
 ],
 "metadata": {
  "kernelspec": {
   "display_name": "medium_articles",
   "language": "python",
   "name": "medium_articles"
  },
  "language_info": {
   "codemirror_mode": {
    "name": "ipython",
    "version": 3
   },
   "file_extension": ".py",
   "mimetype": "text/x-python",
   "name": "python",
   "nbconvert_exporter": "python",
   "pygments_lexer": "ipython3",
   "version": "3.8.5"
  }
 },
 "nbformat": 4,
 "nbformat_minor": 5
}
