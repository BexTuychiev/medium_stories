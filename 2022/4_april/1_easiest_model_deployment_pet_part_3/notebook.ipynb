{
 "cells": [
  {
   "cell_type": "markdown",
   "id": "320cabe2-d8ad-4eea-a746-746d2b884132",
   "metadata": {
    "tags": []
   },
   "source": [
    "# The Easiest Way to Deploy Your ML/DL Models in 2022: Streamlit + BentoML + DagsHub\n",
    "## Deploy models as lightweight APIs with a user-friendly interface\n",
    "![](images/pexels.jpg)\n",
    "<figcaption style=\"text-align: center;\">\n",
    "    <strong>\n",
    "        Photo by \n",
    "        <a href='https://www.pexels.com/photo/blue-red-and-black-abstract-painting-2130475/'>Steve Johnson</a>\n",
    "    </strong>\n",
    "</figcaption>\n"
   ]
  },
  {
   "cell_type": "markdown",
   "id": "016ac65d-fd0d-452f-97ca-aa1950e925b0",
   "metadata": {},
   "source": [
    "### Introduction"
   ]
  },
  {
   "cell_type": "markdown",
   "id": "d24cd4b1-edac-42bc-928d-dddb01eb7c37",
   "metadata": {},
   "source": [
    "You have a ready machine learning model. Now what? What do you do with it? Do you keep it inside your Jupyter like a prized possession for no one to see? No, you make it as stupidly easy as possible for others to share and play around with your work. In other words, you *deploy* the model.\n",
    "\n",
    "But how? Should you just share the model as a file? No, that would be the worst.\n",
    "\n",
    "How about a Docker container? Yeah, that is better - the user will have it all to run your model locally. But... they would still need to do it inside a coding environment. Not very convenient. \n",
    "\n",
    "Then, what about an API? Well, good luck explaining what an API is to a non-programmer person. \n",
    "\n",
    "Hey, what if you built a web app with a minimal interface? Yes, this seems to be the best option. But how do build the app? Don't you need to learn a web framework for that? That's too much work!"
   ]
  },
  {
   "cell_type": "markdown",
   "id": "e3a6a531-f4b5-4500-ad5e-ad1c1fe3de24",
   "metadata": {
    "jp-MarkdownHeadingCollapsed": true,
    "tags": []
   },
   "source": [
    "### What problem are we solving?"
   ]
  },
  {
   "cell_type": "markdown",
   "id": "ea74c9ec-7b1a-4da3-929f-14b659fd6ea5",
   "metadata": {},
   "source": [
    "### What tools will we be using to deploy?"
   ]
  },
  {
   "cell_type": "markdown",
   "id": "f4c0751c-e99e-438a-bc7f-2d9bb1465afd",
   "metadata": {},
   "source": [
    "### Step 1: Save the best model to BentoML local store"
   ]
  },
  {
   "cell_type": "markdown",
   "id": "5dd4963d-78ff-46b7-86e6-9ca63f500847",
   "metadata": {},
   "source": [
    "Let's start by importing the necessary libraries:"
   ]
  },
  {
   "cell_type": "markdown",
   "id": "9f0b5781-21b6-4e9e-ae8d-1b1fc313739c",
   "metadata": {},
   "source": [
    "```python\n",
    "import logging\n",
    "\n",
    "import bentoml  # pip install bentoml --pre\n",
    "import joblib\n",
    "import tensorflow as tf\n",
    "```"
   ]
  },
  {
   "cell_type": "markdown",
   "id": "d8377bc0-72bd-474e-a740-91f99eae16d4",
   "metadata": {},
   "source": [
    "Make sure you install `bentoml` with the `--pre` tag since it is still in preview. \n",
    "\n",
    "Below, we will create a couple helper functions to create and train a Keras convolution model:"
   ]
  },
  {
   "cell_type": "markdown",
   "id": "8a7c61ad-6ab2-47d1-9e3a-1bfb868aa710",
   "metadata": {},
   "source": [
    "```python\n",
    "def get_keras_conv2d():\n",
    "    \"\"\"A function to build an instance of a Keras conv2d model.\"\"\"\n",
    "    \n",
    "    model = ...\n",
    "    \n",
    "    return model\n",
    "\n",
    "\n",
    "def fit_keras_conv2d():\n",
    "    \"\"\"\n",
    "    A function to train a Keras conv2d model.\n",
    "    \"\"\"\n",
    "    model = get_keras_conv2d()\n",
    "    \n",
    "    #-- Fit model with early stopping and 30 epochs on the images --#\n",
    "    \n",
    "    return model\n",
    "```"
   ]
  },
  {
   "cell_type": "markdown",
   "id": "ad649451-768a-48a4-a836-832d67daa5ad",
   "metadata": {},
   "source": [
    "I've left the body of the first function but all it does is it creates a Conv2D instance with three hidden layers, with dropout and MaxPool layers in-between. We don't have to focus on model architecture too much. \n",
    "\n",
    "`fit_keras_conv2d` uses the first function and trains the obtained model with early stopping and 30 epochs.\n",
    "\n",
    "Next, we create a function to save the model to BentoML local store:"
   ]
  },
  {
   "cell_type": "markdown",
   "id": "aa503660-c773-4447-aa67-9b70c944d1bc",
   "metadata": {},
   "source": [
    "```python\n",
    "def save(model, bentoml_name, path):\n",
    "    \"\"\"\n",
    "    A function to save a given model to BentoML local store and with joblib.\n",
    "    \"\"\"\n",
    "    bentoml.keras.save(bentoml_name, model, store_as_json_and_weights=True)\n",
    "    \n",
    "    joblib.dump(model, path)\n",
    "```"
   ]
  },
  {
   "cell_type": "markdown",
   "id": "222453e2-e290-4f0a-aa6f-2c56870868c1",
   "metadata": {},
   "source": [
    "The `keras.save` function specifically saves Keras models in a format suitable for other BentoML operations. \n",
    "\n",
    "So, let's run these functions to get a ready model:"
   ]
  },
  {
   "cell_type": "markdown",
   "id": "b68f6fe0-6e4e-49a4-a604-1cf5ae0dfef1",
   "metadata": {},
   "source": [
    "```python\n",
    "def main():\n",
    "    \n",
    "    model = fit_keras_conv2d()\n",
    "    \n",
    "    logging.log(logging.INFO, \"Saving...\")\n",
    "    \n",
    "    save(model, \n",
    "         \"keras_conv2d_smaller\", \n",
    "         \"models/keras_conv2d_smaller.joblib\")\n",
    "    \n",
    "    logging.log(logging.INFO, \"Done!\")\n",
    "    \n",
    "if __name__ == \"__main__\":\n",
    "    main()\n",
    "```"
   ]
  },
  {
   "cell_type": "markdown",
   "id": "82bfa1a6-38dc-4700-8230-5cf83a7a5626",
   "metadata": {},
   "source": [
    "After the training and saving is done, you can run the below command to get a list of models in the BentoML store:"
   ]
  },
  {
   "cell_type": "markdown",
   "id": "5e416fbe-e283-48f2-8ca1-1091397b9f8a",
   "metadata": {},
   "source": [
    "```bash\n",
    "$ bentoml models list\n",
    "```\n",
    "![](images/models_list.gif)\n"
   ]
  },
  {
   "cell_type": "markdown",
   "id": "acf5c556-71b1-4069-b466-6f3a3ac944fc",
   "metadata": {},
   "source": [
    "The saved models are officially called *tags* in the BentoML docs. By default, all models will be saved under your home directory and the `bentoml/models` folder with a random tag name, in case there are multiple models with the same name.\n",
    "\n",
    "If you go into the given path, you will find files like these:\n",
    "\n",
    "```\n",
    "checkpoint\n",
    "model.yaml\n",
    "saved_model_json.json\n",
    "saved_model_weights.data-00000-of-00001\n",
    "saved_model_weights.index\n",
    "```"
   ]
  },
  {
   "cell_type": "markdown",
   "id": "314fd336-77a9-40b7-8ea1-ba8c42e8b4ee",
   "metadata": {},
   "source": [
    "You can always load the model back using the `load_runner` function preceded by the relevant framework name:"
   ]
  },
  {
   "cell_type": "markdown",
   "id": "c93da058-291e-4bdb-8893-762fc16ab8ca",
   "metadata": {},
   "source": [
    "```python\n",
    "model = bentoml.keras.load_runner(\"keras_conv2d_smaller:latest\")\n",
    "\n",
    "# Load a sample image from memory\n",
    "img = ...\n",
    "\n",
    "print(model.run(img))\n",
    "```"
   ]
  },
  {
   "cell_type": "markdown",
   "id": "ae3ebf4f-38f5-4cf6-a3f0-c7c9ea6d6eac",
   "metadata": {},
   "source": [
    "After loading, the model can be used for prediction using its `run` method, which calls the `predict` method of Keras `Model` object under the hood."
   ]
  },
  {
   "cell_type": "markdown",
   "id": "3b98e81c-4abc-4869-ba77-8ca0125f8d38",
   "metadata": {},
   "source": [
    "### Step 2: Create the service"
   ]
  },
  {
   "cell_type": "markdown",
   "id": "172d8b0e-eaad-4cf7-ae54-1d4f989eb0f2",
   "metadata": {},
   "source": [
    "Now, we only need to write a few lines of code to convert the saved model into a functioning API we can send requests to. \n",
    "\n",
    "First, we write a function to create a Service object of BentoML that takes care of all API logic without any effort on our part. \n",
    "\n",
    "After loading the model back with the `load_runner` function, we pass it to the `Service` method with an arbitrary name. "
   ]
  },
  {
   "cell_type": "markdown",
   "id": "a4cd6b9d-02ba-4aa6-a545-c317a2ff06ab",
   "metadata": {},
   "source": [
    "```python\n",
    "def create_bento_service_keras(bento_name):\n",
    "    \"\"\"\n",
    "    Create a Bento service for a Keras model.\n",
    "    \"\"\"\n",
    "    # Load the model\n",
    "    keras_model = bentoml.keras.load_runner(bento_name)\n",
    "\n",
    "    # Create the service\n",
    "    service = bentoml.Service(bento_name + \"_service\", runners=[keras_model])\n",
    "\n",
    "    return keras_model, service\n",
    "\n",
    "model, service = create_bento_service_keras(\"conv2d_larger_dropout\")\n",
    "\n",
    "```"
   ]
  },
  {
   "cell_type": "markdown",
   "id": "f6c5bd4a-5158-4077-857e-6686ec67a59a",
   "metadata": {},
   "source": [
    "After that, we create an API endpoint that handles our POST requests. You create endpoints in BentoML by defining a function decorated with the `api` method of the service object we just created:"
   ]
  },
  {
   "cell_type": "markdown",
   "id": "2713b480-74e0-4e60-ba03-b26f873e11b2",
   "metadata": {},
   "source": [
    "```python\n",
    "import numpy as np\n",
    "import bentoml\n",
    "from bentoml.io import Text, NumpyNdarray\n",
    "from skimage.transform import resize\n",
    "```"
   ]
  },
  {
   "cell_type": "markdown",
   "id": "fbd9745b-4740-476b-a84f-02952b0e0c34",
   "metadata": {},
   "source": [
    "```python\n",
    "# Create an API function\n",
    "@service.api(input=Text(), output=NumpyNdarray())\n",
    "def predict(image_str) -> np.ndarray:\n",
    "    \"\"\"\n",
    "    Predict pet pawpularity from an image using the given Bento.\n",
    "    \"\"\"\n",
    "    # Convert the image back to numpy array\n",
    "    image = np.fromstring(image_str, np.uint8)\n",
    "    image = resize(image, (224, 224, 3))\n",
    "    image = image / 255.0\n",
    "\n",
    "    result = model.run(image)\n",
    "\n",
    "    return result\n",
    "```"
   ]
  },
  {
   "cell_type": "markdown",
   "id": "d4d51c68-daf2-4c02-8d3b-8a19cce2dd35",
   "metadata": {},
   "source": [
    "Before discussing body, let's talk about the `service.api` decorator. It has two required parameters - `input` and `output`. \n",
    "\n",
    "These parameters should be defined based on what type of data we will be sending and getting back from the API endpoint. \n",
    "\n",
    "The purpose of the above `predict` endpoint is that it returns a cuteness score when we send a request with an image. So, I've defined the input as `Text()` because we will be sending the NumPy image array as a string. The output should be `NumpyNdarray()` because when we call `model.run(image)`, the return data type will be a Numpy array.\n",
    "\n",
    "Getting the right data type for the endpoint is important. You can read [this page](https://docs.bentoml.org/en/latest/api/api_io_descriptors.html?highlight=Image#api-io-descriptors) of the BentoML docs on other types of data you can process through endpoints.\n",
    "\n",
    "As for the body, you should write all preprocessing logic to the image before you call `model.run`. While writing the training logic, I've resized the images to (224, 224, 3) and normalized them by dividing their pixel values by 255. So, I've performed those steps inside the endpoint function as well."
   ]
  },
  {
   "cell_type": "markdown",
   "id": "a01a28af-efcd-476e-a07a-62540c10c7d1",
   "metadata": {},
   "source": [
    "> Important: If you are using other frameworks like Sklearn for tabular data, make sure you run all your preprocessing steps inside the API endpoint as well. We can achieve this by pickling all your processing functions and calling them inside the `predict` function, so there won't be any data leakage or you won't pass incorrectly formatted data."
   ]
  },
  {
   "cell_type": "markdown",
   "id": "17e7c049-daa8-4671-8925-fdd997c3f076",
   "metadata": {},
   "source": [
    "Now, to start a debug server for our API, you only need to put all above into a single Python file, conventionally named `service.py`, in the root directory and call the below command:"
   ]
  },
  {
   "cell_type": "markdown",
   "id": "d6230755-fa80-4ceb-ba78-8f3e80d3937f",
   "metadata": {},
   "source": [
    "```bash\n",
    "$ bentoml serve service.py:service --reload\n",
    "```\n",
    "\n",
    "![](images/bentoml_serve.gif)"
   ]
  },
  {
   "cell_type": "markdown",
   "id": "5945c503-fa6c-454c-9136-73f0109d8b16",
   "metadata": {},
   "source": [
    "The `--reload` tag makes sure that the local server detects changes to the `service.py` and updates the logic automatically. \n",
    "\n",
    "From the GIF, you can see that the server is live at http://127.0.0.1:3000/ with a simple UI:\n",
    "![](images/local_server.gif)"
   ]
  },
  {
   "cell_type": "markdown",
   "id": "91a1519c-41fb-42ce-a63a-c5dfb83e9130",
   "metadata": {},
   "source": [
    "We can already send requests to the local server and get predictions for the images:"
   ]
  },
  {
   "cell_type": "markdown",
   "id": "89250dbf-ef0d-449d-8cd3-d2275046845e",
   "metadata": {},
   "source": [
    "```python\n",
    "\n",
    "import requests\n",
    "from skimage.io import imread\n",
    "\n",
    "endpoint = \"http://127.0.0.1:3000/predict\"\n",
    "\n",
    "# Load a sample image\n",
    "img = imread(\"data/raw/train/0a0da090aa9f0342444a7df4dc250c66.jpg\")\n",
    "\n",
    "response = requests.post(endpoint, headers={\"content-type\": \"text/plain\"},\n",
    "                    data=str(img))\n",
    "```"
   ]
  },
  {
   "cell_type": "markdown",
   "id": "b6ea9d7a-7c43-409e-ba8a-df9de8f73a9f",
   "metadata": {},
   "source": [
    "Make sure to set the right headers for your data type and send the image wrapped under the `str` function. Once again, you can find the examples of requests with the right content headers for each data type from [this page](https://docs.bentoml.org/en/latest/concepts/api_io_descriptors.html#) of the docs.\n",
    "\n",
    "Let's look at the response text:"
   ]
  },
  {
   "cell_type": "markdown",
   "id": "06bea34e-c345-4a54-87bd-6052fe6b9a89",
   "metadata": {},
   "source": [
    "```python\n",
    ">>> print(response.text)\n",
    "[35.49753189086914]\n",
    "```"
   ]
  },
  {
   "attachments": {
    "44297cfd-604b-4195-b579-4f216844690d.jpg": {
     "image/jpeg": "[encoded data removed]"
    }
   },
   "cell_type": "markdown",
   "id": "506131d2-5f0a-478a-83a7-2c86062fe430",
   "metadata": {},
   "source": [
    "And the image we sent was this:\n",
    "\n",
    "![0a0da090aa9f0342444a7df4dc250c66.jpg](attachment:44297cfd-604b-4195-b579-4f216844690d.jpg)\n",
    "<figcaption style=\"text-align: center;\">\n",
    "    <strong>\n",
    "        Image from the <a href='https://www.kaggle.com/competitions/petfinder-pawpularity-score/data'>Pet Pawpularity dataset</a>.\n",
    "    </strong>\n",
    "</figcaption>"
   ]
  },
  {
   "cell_type": "markdown",
   "id": "873b1c47-0920-482c-a1fd-a1aa3ee12c19",
   "metadata": {},
   "source": [
    "### Step 3: Build the Bento"
   ]
  },
  {
   "cell_type": "markdown",
   "id": "0cccc740-7e12-4c95-aa89-724af260cf7d",
   "metadata": {},
   "source": [
    "Now, we are ready to create our very first Bento. \n",
    "\n",
    "The term Bento means an archive that contains everything to run our services or API online, including all the code, model, dependency info, and configurations for setup. Building it starts with creating a `bentofile.yaml` file in the directory that is the same level as the `service.py` file (preferably, both should be in the project root):"
   ]
  },
  {
   "cell_type": "markdown",
   "id": "e08638ae-0597-4380-ba27-73cc5efdc233",
   "metadata": {},
   "source": [
    "```YAML\n",
    "service: \"service.py:service\"\n",
    "include:\n",
    " - \"service.py\"\n",
    "python:\n",
    "  packages:\n",
    "   - scikit_learn==1.0.2\n",
    "   - numpy==1.22.3\n",
    "   - tensorflow==2.8.0\n",
    "   - scikit_image==0.18.3\n",
    "```"
   ]
  },
  {
   "cell_type": "markdown",
   "id": "b2a6b4cc-9ace-4191-8cb2-1561a0bdd220",
   "metadata": {},
   "source": [
    "The first line of the YAML file should contain the service file's name followed by \":service\" suffix. Next, you add all the files needed for the `service.py` file work without errors (data, helper scripts, etc.). Here, I only included the service file itself as we didn't use any additional scripts inside it.\n",
    "\n",
    "Then, under Python and packages, you specify the dependencies and their versions. If you are not sure about the versions, there is a helpful little package I always use called `pipreqs`:"
   ]
  },
  {
   "cell_type": "markdown",
   "id": "97940ffb-12e9-4d87-a581-580803e45113",
   "metadata": {},
   "source": [
    "```bash\n",
    "$ pip install pipreqs\n",
    "\n",
    "$ pipreqs .\n",
    "```"
   ]
  },
  {
   "cell_type": "markdown",
   "id": "648cb6e8-56de-4a6c-9852-642ae559e662",
   "metadata": {},
   "source": [
    "Calling `pipreqs [path]` creates a `requirements.txt` file with all the used packages inside your Python files and their versions in the given path like below: "
   ]
  },
  {
   "cell_type": "markdown",
   "id": "a7c7b830-615d-43a6-9386-64f4763d89b5",
   "metadata": {},
   "source": [
    "```\n",
    "bentoml==1.0.0a7\n",
    "catboost==0.26.1\n",
    "dagshub==0.1.8\n",
    "joblib==0.17.0\n",
    "keras==2.8.0\n",
    "lightgbm==2.3.1\n",
    "matplotlib==3.3.1\n",
    "mlflow==1.24.0\n",
    "numpy==1.22.3\n",
    "pandas==1.3.2\n",
    "scikit_image==0.18.3\n",
    "scikit_learn==1.0.2\n",
    "seaborn==0.11.0\n",
    "skimage==0.0\n",
    "tensorflow==2.8.0\n",
    "tqdm==4.50.0\n",
    "xgboost==1.4.2\n",
    "\n",
    "```"
   ]
  },
  {
   "cell_type": "markdown",
   "id": "71f93ee3-6117-4f85-9396-f64fa9f90774",
   "metadata": {},
   "source": [
    "After listing the dependencies, you only need to call `bentoml build`:"
   ]
  },
  {
   "cell_type": "markdown",
   "id": "3f9c794f-158b-4573-8afa-46b9a43cc6f2",
   "metadata": {},
   "source": [
    "```bash\n",
    "$ bentoml build\n",
    "```\n",
    "\n",
    "![](images/bento_build.png)"
   ]
  },
  {
   "cell_type": "markdown",
   "id": "54901fa3-3af6-4613-9e1c-e955abebcdd5",
   "metadata": {},
   "source": [
    "To see a list of all your bentos, call `bentoml list`"
   ]
  },
  {
   "cell_type": "markdown",
   "id": "384f9e46-f539-4d47-ba4e-87e128e47546",
   "metadata": {},
   "source": [
    "```bash\n",
    "$ bentoml list\n",
    "```\n",
    "![](images/bento_list.png)"
   ]
  },
  {
   "cell_type": "markdown",
   "id": "182cea5f-df69-4e3d-aa01-255721dd9c35",
   "metadata": {},
   "source": [
    "### Step 4: Deploy to Heroku"
   ]
  },
  {
   "cell_type": "markdown",
   "id": "57d7f2e9-0556-452f-a92b-1b1d0808cafb",
   "metadata": {},
   "source": [
    "```bash\n",
    "    ├───apis\n",
    "    │       openapi.yaml\n",
    "    ├───env\n",
    "    │   ├───conda\n",
    "    │   ├───docker\n",
    "    │   │       Dockerfile\n",
    "    │   │       entrypoint.sh\n",
    "    │   │       init.sh\n",
    "    │   └───python\n",
    "    │           requirements.lock.txt\n",
    "    │           requirements.txt\n",
    "    ├───models\n",
    "    │   └───keras_conv2d\n",
    "    │       │   latest\n",
    "    │       │\n",
    "    │       └───b52h7x5xpk2bejcl\n",
    "    │               checkpoint\n",
    "    │               model.yaml\n",
    "    │               saved_model_json.json\n",
    "    │               saved_model_weights.data-00000-of-00001\n",
    "    │               saved_model_weights.index\n",
    "    └───src\n",
    "    │       service.py\n",
    "    │   bento.yaml\n",
    "    │   README.md\n",
    "```"
   ]
  },
  {
   "cell_type": "markdown",
   "id": "237ca052-f3b4-4ce6-a7b2-a5f11ba73d3b",
   "metadata": {},
   "source": [
    "```bash\n",
    "$ heroku login\n",
    "```"
   ]
  },
  {
   "cell_type": "markdown",
   "id": "c2e2a71e-88ac-4d4a-9745-d90466473f4c",
   "metadata": {},
   "source": [
    "```bash\n",
    "$ heroku container:login\n",
    "```"
   ]
  },
  {
   "cell_type": "markdown",
   "id": "15e6c86f-e6f1-4221-bf24-04cd3bb032c6",
   "metadata": {},
   "source": [
    "```bash\n",
    "$ heroku create pet-pawpularity\n",
    "```"
   ]
  },
  {
   "cell_type": "markdown",
   "id": "cac78ccd-0545-4747-8435-bf5516f6c1ba",
   "metadata": {},
   "source": [
    "```bash\n",
    "$ cd ~/bentoml/bentos/keras_conv2d_smaller_service/uaaub3v3cku3ejcl\n",
    "$ cd env/docker\n",
    "\n",
    "$ heroku container:push web --app pet-pawpularity --context-path=../..\n",
    "```"
   ]
  },
  {
   "cell_type": "markdown",
   "id": "709eb232-afd6-4290-a4ee-36a68aa79164",
   "metadata": {},
   "source": [
    "```bash\n",
    "$ heroku container:release web --app pet-pawpularity\n",
    "```"
   ]
  },
  {
   "cell_type": "markdown",
   "id": "4714c568-226f-4875-8dc9-f09994ec4503",
   "metadata": {},
   "source": [
    "### Step 5: Build the UI with Streamlit"
   ]
  },
  {
   "cell_type": "markdown",
   "id": "1febf68c-2935-40cf-844e-a6af6fb4e5e8",
   "metadata": {},
   "source": [
    "### Conclusion"
   ]
  }
 ],
 "metadata": {
  "kernelspec": {
   "display_name": "medium_articles",
   "language": "python",
   "name": "medium_articles"
  },
  "language_info": {
   "codemirror_mode": {
    "name": "ipython",
    "version": 3
   },
   "file_extension": ".py",
   "mimetype": "text/x-python",
   "name": "python",
   "nbconvert_exporter": "python",
   "pygments_lexer": "ipython3",
   "version": "3.8.11"
  }
 },
 "nbformat": 4,
 "nbformat_minor": 5
}
