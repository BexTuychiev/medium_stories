{
 "cells": [
  {
   "cell_type": "markdown",
   "id": "320cabe2-d8ad-4eea-a746-746d2b884132",
   "metadata": {
    "tags": []
   },
   "source": [
    "# The Easiest Way to Deploy Your ML/DL Models in 2022: Streamlit + BentoML + DagsHub\n",
    "## Deploy models as lightweight APIs with a user-friendly interface\n",
    "![](images/pexels.jpg)\n",
    "<figcaption style=\"text-align: center;\">\n",
    "    <strong>\n",
    "        Photo by \n",
    "        <a href='https://www.pexels.com/photo/blue-red-and-black-abstract-painting-2130475/'>Steve Johnson</a>\n",
    "    </strong>\n",
    "</figcaption>\n"
   ]
  },
  {
   "cell_type": "markdown",
   "id": "016ac65d-fd0d-452f-97ca-aa1950e925b0",
   "metadata": {},
   "source": [
    "### Introduction"
   ]
  }
 ],
 "metadata": {
  "kernelspec": {
   "display_name": "medium_articles",
   "language": "python",
   "name": "medium_articles"
  },
  "language_info": {
   "codemirror_mode": {
    "name": "ipython",
    "version": 3
   },
   "file_extension": ".py",
   "mimetype": "text/x-python",
   "name": "python",
   "nbconvert_exporter": "python",
   "pygments_lexer": "ipython3",
   "version": "3.8.11"
  }
 },
 "nbformat": 4,
 "nbformat_minor": 5
}
