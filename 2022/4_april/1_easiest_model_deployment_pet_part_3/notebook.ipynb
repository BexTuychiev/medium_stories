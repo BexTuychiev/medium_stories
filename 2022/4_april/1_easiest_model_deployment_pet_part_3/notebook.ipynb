{
 "cells": [
  {
   "cell_type": "markdown",
   "id": "320cabe2-d8ad-4eea-a746-746d2b884132",
   "metadata": {
    "tags": []
   },
   "source": [
    "# The Easiest Way to Deploy Your ML/DL Models in 2022: Streamlit + BentoML + DagsHub\n",
    "## Deploy models as lightweight APIs with a user-friendly interface\n",
    "![](images/pexels.jpg)\n",
    "<figcaption style=\"text-align: center;\">\n",
    "    <strong>\n",
    "        Photo by \n",
    "        <a href='https://www.pexels.com/photo/blue-red-and-black-abstract-painting-2130475/'>Steve Johnson</a>\n",
    "    </strong>\n",
    "</figcaption>\n"
   ]
  },
  {
   "cell_type": "markdown",
   "id": "016ac65d-fd0d-452f-97ca-aa1950e925b0",
   "metadata": {},
   "source": [
    "### Introduction"
   ]
  },
  {
   "cell_type": "markdown",
   "id": "d24cd4b1-edac-42bc-928d-dddb01eb7c37",
   "metadata": {},
   "source": []
  },
  {
   "cell_type": "markdown",
   "id": "e3a6a531-f4b5-4500-ad5e-ad1c1fe3de24",
   "metadata": {},
   "source": [
    "### What problem are we solving?"
   ]
  },
  {
   "cell_type": "markdown",
   "id": "ea74c9ec-7b1a-4da3-929f-14b659fd6ea5",
   "metadata": {},
   "source": [
    "### What tools will we be using?"
   ]
  },
  {
   "cell_type": "markdown",
   "id": "f4c0751c-e99e-438a-bc7f-2d9bb1465afd",
   "metadata": {},
   "source": [
    "### Step 1: Save the best model as a bento"
   ]
  },
  {
   "cell_type": "markdown",
   "id": "3b98e81c-4abc-4869-ba77-8ca0125f8d38",
   "metadata": {},
   "source": [
    "### Step 2: Build the service"
   ]
  },
  {
   "cell_type": "markdown",
   "id": "64182913-4974-4d13-818f-9355b0022eac",
   "metadata": {},
   "source": [
    "### Step 3: Containerize and deploy to Heroku"
   ]
  },
  {
   "cell_type": "markdown",
   "id": "4714c568-226f-4875-8dc9-f09994ec4503",
   "metadata": {},
   "source": [
    "### Step 4: Build the UI with Streamlit"
   ]
  },
  {
   "cell_type": "markdown",
   "id": "1febf68c-2935-40cf-844e-a6af6fb4e5e8",
   "metadata": {},
   "source": [
    "### Conclusion"
   ]
  }
 ],
 "metadata": {
  "kernelspec": {
   "display_name": "medium_articles",
   "language": "python",
   "name": "medium_articles"
  },
  "language_info": {
   "codemirror_mode": {
    "name": "ipython",
    "version": 3
   },
   "file_extension": ".py",
   "mimetype": "text/x-python",
   "name": "python",
   "nbconvert_exporter": "python",
   "pygments_lexer": "ipython3",
   "version": "3.8.11"
  }
 },
 "nbformat": 4,
 "nbformat_minor": 5
}
