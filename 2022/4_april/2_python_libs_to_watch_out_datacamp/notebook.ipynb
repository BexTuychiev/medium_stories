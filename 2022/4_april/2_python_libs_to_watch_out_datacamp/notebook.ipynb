{
 "cells": [
  {
   "cell_type": "markdown",
   "id": "2c77a062-eb40-4620-a049-a288e0bcf08f",
   "metadata": {},
   "source": [
    "# Python Packages to watch out for in 2022\n",
    "![](https://images.pexels.com/photos/691640/pexels-photo-691640.jpeg?auto=compress&cs=tinysrgb&w=1260&h=750&dpr=1)\n",
    "<figcaption style=\"text-align: center;\">\n",
    "    <strong>\n",
    "        Photo by \n",
    "        <a href='https://www.pexels.com/photo/round-silver-colored-analog-watch-beside-compass-691640/'>Valentin Antonucci</a> from Pexels\n",
    "    </strong>\n",
    "</figcaption>"
   ]
  },
  {
   "cell_type": "markdown",
   "id": "32b7a7e7-1807-4a5c-9bbf-41f1b241cfcb",
   "metadata": {},
   "source": [
    "### Introduction"
   ]
  },
  {
   "cell_type": "markdown",
   "id": "ecb5008d-76ff-4987-89db-ec1f6a7d783e",
   "metadata": {},
   "source": [
    "### 1. SHAP"
   ]
  },
  {
   "cell_type": "markdown",
   "id": "66a2f59c-0986-4911-b339-c277f1b3bd77",
   "metadata": {},
   "source": [
    "### 2. UMAP"
   ]
  },
  {
   "cell_type": "markdown",
   "id": "10bae46a-76c6-4d20-891d-bc99769dd0d1",
   "metadata": {},
   "source": [
    "### 3 and 4. LightGBM and CatBoost"
   ]
  },
  {
   "cell_type": "markdown",
   "id": "76948e9a-0b32-49ff-b1d5-1756f6dafdc1",
   "metadata": {},
   "source": [
    "### 5. Streamlit"
   ]
  },
  {
   "cell_type": "markdown",
   "id": "5df4ca65-eeee-48f7-93cd-6847b1a1f4d3",
   "metadata": {},
   "source": [
    "### 6. PyCaret"
   ]
  },
  {
   "cell_type": "markdown",
   "id": "344ac21c-003e-427e-8064-b105d2f85ed3",
   "metadata": {},
   "source": [
    "### 7. BentoML"
   ]
  },
  {
   "cell_type": "markdown",
   "id": "109c7b96-8a25-44b1-9489-3570d22892c9",
   "metadata": {},
   "source": [
    "### Conclusion"
   ]
  }
 ],
 "metadata": {
  "kernelspec": {
   "display_name": "medium_articles",
   "language": "python",
   "name": "medium_articles"
  },
  "language_info": {
   "codemirror_mode": {
    "name": "ipython",
    "version": 3
   },
   "file_extension": ".py",
   "mimetype": "text/x-python",
   "name": "python",
   "nbconvert_exporter": "python",
   "pygments_lexer": "ipython3",
   "version": "3.8.11"
  }
 },
 "nbformat": 4,
 "nbformat_minor": 5
}
