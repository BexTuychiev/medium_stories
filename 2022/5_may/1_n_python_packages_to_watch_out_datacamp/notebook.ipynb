{
 "cells": [
  {
   "cell_type": "markdown",
   "id": "e607d4ba-87cd-458e-a901-da198eaec1d0",
   "metadata": {},
   "source": [
    "# 8 Python Packages to Watch Out For in 2022\n",
    "![](images/image.jpg)"
   ]
  },
  {
   "cell_type": "markdown",
   "id": "afe8bad3-c874-481e-b287-b87ea08d382e",
   "metadata": {},
   "source": [
    "### Introduction"
   ]
  },
  {
   "cell_type": "markdown",
   "id": "3575d099-456b-4030-a468-d48919868dff",
   "metadata": {},
   "source": []
  }
 ],
 "metadata": {
  "kernelspec": {
   "display_name": "medium_articles",
   "language": "python",
   "name": "medium_articles"
  },
  "language_info": {
   "codemirror_mode": {
    "name": "ipython",
    "version": 3
   },
   "file_extension": ".py",
   "mimetype": "text/x-python",
   "name": "python",
   "nbconvert_exporter": "python",
   "pygments_lexer": "ipython3",
   "version": "3.8.5"
  }
 },
 "nbformat": 4,
 "nbformat_minor": 5
}
