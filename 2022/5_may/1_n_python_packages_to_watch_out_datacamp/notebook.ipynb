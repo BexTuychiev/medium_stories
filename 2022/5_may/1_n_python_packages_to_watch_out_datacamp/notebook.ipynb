{
 "cells": [
  {
   "cell_type": "markdown",
   "id": "e607d4ba-87cd-458e-a901-da198eaec1d0",
   "metadata": {},
   "source": [
    "# 8 Python Packages to Watch Out For in 2022\n",
    "![](images/image.jpg)"
   ]
  },
  {
   "cell_type": "markdown",
   "id": "afe8bad3-c874-481e-b287-b87ea08d382e",
   "metadata": {},
   "source": [
    "### Introduction"
   ]
  },
  {
   "cell_type": "markdown",
   "id": "cad48751-4f40-4d5e-9a02-8f199a141df3",
   "metadata": {},
   "source": [
    "Gone are the days when your machine learning stack consisted only a few libraries like Scikit-learn, pandas, NumPy and Matplotlib. If you want to make yourself an asset as an engineer, you have to arm yourself with more recent additions to the ecosystem. \n",
    "\n",
    "For this reason, this article will cover nine rising stars in the Python machine learning community that emerged to solve fresh challenges of todays ML problems."
   ]
  },
  {
   "cell_type": "markdown",
   "id": "3575d099-456b-4030-a468-d48919868dff",
   "metadata": {},
   "source": [
    "### 1. SHAP"
   ]
  },
  {
   "cell_type": "markdown",
   "id": "eebbf454-51b4-4d85-bc48-1d1f19cd8f78",
   "metadata": {},
   "source": [
    "### 2. UMAP"
   ]
  },
  {
   "cell_type": "markdown",
   "id": "9c7f4eed-20cc-4893-b12d-c87c77f74c2b",
   "metadata": {},
   "source": [
    "### 3 and 4. LightGBM and CatBoost"
   ]
  },
  {
   "cell_type": "markdown",
   "id": "faf2c962-8bb9-4241-910c-945b3522c5bf",
   "metadata": {},
   "source": [
    "### 5 and 6.  Streamlit and Gradio"
   ]
  },
  {
   "cell_type": "markdown",
   "id": "e808de03-f531-42c6-89f9-3722a6a71bae",
   "metadata": {},
   "source": [
    "### 7. BentoML"
   ]
  },
  {
   "cell_type": "markdown",
   "id": "cce211e7-e83e-4319-9cbf-cd39586243ec",
   "metadata": {},
   "source": [
    "### 8. PyCaret"
   ]
  },
  {
   "cell_type": "markdown",
   "id": "8c5060f3-378a-4038-8875-2b00aae988a7",
   "metadata": {},
   "source": [
    "### 9. Optuna"
   ]
  },
  {
   "cell_type": "markdown",
   "id": "7277781b-6c24-405a-b8f8-60f257d19e74",
   "metadata": {},
   "source": [
    "For the cherry on top, we have Optuna."
   ]
  },
  {
   "cell_type": "markdown",
   "id": "5ff7e360-f9cf-483c-a3bc-ff7927ddb1aa",
   "metadata": {},
   "source": [
    "### Conclusion"
   ]
  }
 ],
 "metadata": {
  "kernelspec": {
   "display_name": "medium_articles",
   "language": "python",
   "name": "medium_articles"
  },
  "language_info": {
   "codemirror_mode": {
    "name": "ipython",
    "version": 3
   },
   "file_extension": ".py",
   "mimetype": "text/x-python",
   "name": "python",
   "nbconvert_exporter": "python",
   "pygments_lexer": "ipython3",
   "version": "3.8.5"
  }
 },
 "nbformat": 4,
 "nbformat_minor": 5
}
