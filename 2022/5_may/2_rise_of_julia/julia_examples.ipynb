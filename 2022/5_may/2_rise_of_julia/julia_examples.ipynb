{
 "cells": [
  {
   "cell_type": "code",
   "execution_count": 5,
   "id": "47109235-0ac8-445f-9b44-aad88b24079c",
   "metadata": {},
   "outputs": [
    {
     "data": {
      "text/plain": [
       "add (generic function with 2 methods)"
      ]
     },
     "execution_count": 5,
     "metadata": {},
     "output_type": "execute_result"
    }
   ],
   "source": [
    "function _add_str(str1, str2)\n",
    "    str1 * str2\n",
    "end\n",
    "\n",
    "function _add_int(int1, int2)\n",
    "    int1 + int2\n",
    "end\n",
    "\n",
    "add(item1::String, item2::String) = _add_str(item1, item2)\n",
    "add(item1::Int64, item2::Int64) = _add_int(item1, item2)"
   ]
  },
  {
   "cell_type": "code",
   "execution_count": 6,
   "id": "620604da-589d-4330-b1fe-6f1b22ecd3d9",
   "metadata": {},
   "outputs": [
    {
     "data": {
      "text/plain": [
       "9"
      ]
     },
     "execution_count": 6,
     "metadata": {},
     "output_type": "execute_result"
    }
   ],
   "source": [
    "add(4, 5)"
   ]
  },
  {
   "cell_type": "code",
   "execution_count": 7,
   "id": "8b177f08-55cd-42ed-af89-b33072576038",
   "metadata": {},
   "outputs": [
    {
     "data": {
      "text/plain": [
       "\"Julia is awesome!\""
      ]
     },
     "execution_count": 7,
     "metadata": {},
     "output_type": "execute_result"
    }
   ],
   "source": [
    "add(\"Julia \", \"is awesome!\")"
   ]
  }
 ],
 "metadata": {
  "kernelspec": {
   "display_name": "Julia 1.7.1",
   "language": "julia",
   "name": "julia-1.7"
  },
  "language_info": {
   "file_extension": ".jl",
   "mimetype": "application/julia",
   "name": "julia",
   "version": "1.7.1"
  }
 },
 "nbformat": 4,
 "nbformat_minor": 5
}
