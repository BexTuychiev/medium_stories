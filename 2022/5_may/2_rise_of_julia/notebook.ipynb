{
 "cells": [
  {
   "cell_type": "markdown",
   "id": "bdb883a9-23ed-4426-ab68-6689fb8674ca",
   "metadata": {},
   "source": [
    "# The Rise of Julia - Is It Worth Learning in 2022\n",
    "![](https://images.unsplash.com/photo-1631646098471-4502fcd20f7e?ixlib=rb-1.2.1&ixid=MnwxMjA3fDB8MHxwaG90by1wYWdlfHx8fGVufDB8fHx8&auto=format&fit=crop&w=870&q=80)"
   ]
  },
  {
   "cell_type": "markdown",
   "id": "3271da32-d2de-4daf-a6e7-5810db65f3ef",
   "metadata": {},
   "source": [
    "### Introduction"
   ]
  },
  {
   "cell_type": "markdown",
   "id": "bb935e0a-890a-4abc-accf-dc0f75d9653f",
   "metadata": {},
   "source": [
    "### What is Julia?"
   ]
  },
  {
   "cell_type": "markdown",
   "id": "298b086a-887d-4c75-8d4a-6f7e09088478",
   "metadata": {},
   "source": [
    "### What makes Julia Unique?"
   ]
  },
  {
   "cell_type": "markdown",
   "id": "f7f787a4-ca88-4168-b7b2-e85ed0ddd9eb",
   "metadata": {},
   "source": [
    "### Julia vs Python & R, a Detailed Comparison"
   ]
  },
  {
   "cell_type": "markdown",
   "id": "2c9225a2-3286-421b-a4ea-62b7ba8e2e2e",
   "metadata": {},
   "source": [
    "### Is Julia Worth learning?"
   ]
  }
 ],
 "metadata": {
  "kernelspec": {
   "display_name": "medium_articles",
   "language": "python",
   "name": "medium_articles"
  },
  "language_info": {
   "codemirror_mode": {
    "name": "ipython",
    "version": 3
   },
   "file_extension": ".py",
   "mimetype": "text/x-python",
   "name": "python",
   "nbconvert_exporter": "python",
   "pygments_lexer": "ipython3",
   "version": "3.8.11"
  }
 },
 "nbformat": 4,
 "nbformat_minor": 5
}
