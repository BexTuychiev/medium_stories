{
 "cells": [
  {
   "cell_type": "markdown",
   "id": "6bf50647-ddb8-4b76-8e44-65dd7879285a",
   "metadata": {},
   "source": [
    "# In-Depth Tutorial to spaCy For Beginners\n",
    "![](images/pexels.jpg)"
   ]
  },
  {
   "cell_type": "code",
   "execution_count": null,
   "id": "5e03df98-5d24-4012-9dbc-50a93c2ea8a5",
   "metadata": {},
   "outputs": [],
   "source": []
  }
 ],
 "metadata": {
  "kernelspec": {
   "display_name": "medium_articles",
   "language": "python",
   "name": "medium_articles"
  },
  "language_info": {
   "codemirror_mode": {
    "name": "ipython",
    "version": 3
   },
   "file_extension": ".py",
   "mimetype": "text/x-python",
   "name": "python",
   "nbconvert_exporter": "python",
   "pygments_lexer": "ipython3",
   "version": "3.8.5"
  }
 },
 "nbformat": 4,
 "nbformat_minor": 5
}
