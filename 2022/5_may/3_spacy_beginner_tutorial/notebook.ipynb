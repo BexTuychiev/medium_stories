{
 "cells": [
  {
   "cell_type": "markdown",
   "id": "6bf50647-ddb8-4b76-8e44-65dd7879285a",
   "metadata": {},
   "source": [
    "# In-Depth Tutorial to spaCy For Beginners\n",
    "![](images/pexels.jpg)"
   ]
  },
  {
   "cell_type": "markdown",
   "id": "e9eff864-bf82-4be6-92d4-59f30b59df57",
   "metadata": {},
   "source": [
    "### Introduction"
   ]
  },
  {
   "cell_type": "markdown",
   "id": "40261a53-f1e3-4ab5-b2dc-750f4509e698",
   "metadata": {},
   "source": [
    "### What is spaCy?"
   ]
  },
  {
   "cell_type": "markdown",
   "id": "72708cd6-868b-4e56-b7c8-39a91740d4c3",
   "metadata": {
    "tags": []
   },
   "source": [
    "### Basics of spaCy"
   ]
  },
  {
   "cell_type": "markdown",
   "id": "9ac70492-40d8-4162-bb8e-b685a15411ab",
   "metadata": {},
   "source": [
    "### Core data structures"
   ]
  },
  {
   "cell_type": "markdown",
   "id": "e0e1e89b-441e-4d1f-bd5d-3b75be6f86f3",
   "metadata": {},
   "source": [
    "### Predicting part-of-speech (POS) tags and syntactic dependencies"
   ]
  },
  {
   "cell_type": "markdown",
   "id": "0d3f04a3-564c-4da4-8c9a-a27bcb490a33",
   "metadata": {},
   "source": [
    "### Predicting named entities (NER)"
   ]
  },
  {
   "cell_type": "markdown",
   "id": "4b3660fd-db09-42dc-8cca-7c7ac010e796",
   "metadata": {},
   "source": [
    "### Custom rule-based tokenization"
   ]
  },
  {
   "cell_type": "markdown",
   "id": "e78e40eb-c7ca-4a7e-808e-91df89cea159",
   "metadata": {},
   "source": [
    "### Word vectors and semantic similarity"
   ]
  },
  {
   "cell_type": "markdown",
   "id": "d344ac50-91ba-4793-b18e-4571a4b02098",
   "metadata": {},
   "source": [
    "### All about pipelines"
   ]
  },
  {
   "cell_type": "markdown",
   "id": "f9ad7af0-d160-4d79-88ce-a19e318dbec5",
   "metadata": {},
   "source": [
    "### Setting custom extensions (metadata)"
   ]
  },
  {
   "cell_type": "markdown",
   "id": "60f54cae-97de-4c36-b1c5-60de887691de",
   "metadata": {},
   "source": [
    "### Scaling for performance"
   ]
  },
  {
   "cell_type": "markdown",
   "id": "17b36ae2-37cc-4d3e-b733-19a1c3104868",
   "metadata": {},
   "source": [
    "### Conclusion"
   ]
  }
 ],
 "metadata": {
  "kernelspec": {
   "display_name": "medium_articles",
   "language": "python",
   "name": "medium_articles"
  },
  "language_info": {
   "codemirror_mode": {
    "name": "ipython",
    "version": 3
   },
   "file_extension": ".py",
   "mimetype": "text/x-python",
   "name": "python",
   "nbconvert_exporter": "python",
   "pygments_lexer": "ipython3",
   "version": "3.8.5"
  }
 },
 "nbformat": 4,
 "nbformat_minor": 5
}
