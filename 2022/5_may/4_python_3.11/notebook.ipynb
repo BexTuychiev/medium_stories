{
 "cells": [
  {
   "cell_type": "markdown",
   "id": "b273b22e-ca94-4a52-8644-b82cfd618db3",
   "metadata": {},
   "source": [
    "# What's New in Python 3.11 And Should You Even Bother With It?\n",
    "![](images/pexels.jpg)\n",
    "<figcaption style=\"text-align: center;\">\n",
    "    <strong>\n",
    "        Photo by \n",
    "        <a href='https://unsplash.com/@markuswinkler?utm_source=unsplash&utm_medium=referral&utm_content=creditCopyText'>Markus Winkler</a>\n",
    "    </strong>\n",
    "</figcaption>"
   ]
  },
  {
   "cell_type": "markdown",
   "id": "5b5998b3-4f55-4c0d-b8ab-144f74755ec1",
   "metadata": {},
   "source": [
    "## Introduction"
   ]
  },
  {
   "cell_type": "markdown",
   "id": "3e5f7428-177d-410b-869d-bfc19c4aa5fc",
   "metadata": {},
   "source": [
    "## What are Python 3.11 features?"
   ]
  },
  {
   "cell_type": "markdown",
   "id": "c88ffb11-e883-44c3-9181-c4721a951e3b",
   "metadata": {},
   "source": [
    "### 1. Speed improvement"
   ]
  },
  {
   "cell_type": "markdown",
   "id": "ac5e3f92-c08b-4032-9490-14b9daa393ec",
   "metadata": {},
   "source": [
    "### 2. Exception notes"
   ]
  },
  {
   "cell_type": "markdown",
   "id": "1ac5a521-eaaa-483c-bf80-39629c7f2566",
   "metadata": {},
   "source": [
    "### 3. Better exception handling"
   ]
  },
  {
   "cell_type": "markdown",
   "id": "d24da55a-e102-4115-954a-f543fff0cbfe",
   "metadata": {},
   "source": [
    "### 4. Better error messages"
   ]
  },
  {
   "cell_type": "markdown",
   "id": "24eaf0be-1144-4593-bff3-a854fc94e224",
   "metadata": {},
   "source": [
    "### 5. New typing feature: Self"
   ]
  },
  {
   "cell_type": "markdown",
   "id": "e0401cfd-716a-4676-9713-c4e50fac07ef",
   "metadata": {},
   "source": [
    "## When will Python 3.11 be released? "
   ]
  }
 ],
 "metadata": {
  "kernelspec": {
   "display_name": "medium_articles",
   "language": "python",
   "name": "medium_articles"
  },
  "language_info": {
   "codemirror_mode": {
    "name": "ipython",
    "version": 3
   },
   "file_extension": ".py",
   "mimetype": "text/x-python",
   "name": "python",
   "nbconvert_exporter": "python",
   "pygments_lexer": "ipython3",
   "version": "3.8.11"
  }
 },
 "nbformat": 4,
 "nbformat_minor": 5
}
