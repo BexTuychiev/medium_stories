{
 "cells": [
  {
   "cell_type": "markdown",
   "id": "452e7374-5064-49ca-91e4-492314b07a56",
   "metadata": {
    "tags": []
   },
   "source": [
    "# Top Python Packages For R Users\n",
    "![](https://images.pexels.com/photos/404153/pexels-photo-404153.jpeg?auto=compress&cs=tinysrgb&w=1260&h=750&dpr=1)"
   ]
  },
  {
   "cell_type": "markdown",
   "id": "7cb5c3bd-c784-4578-8aa3-e05f0753aab9",
   "metadata": {
    "tags": []
   },
   "source": [
    "## Introduction "
   ]
  },
  {
   "cell_type": "markdown",
   "id": "ef301747-2370-4b23-8eca-e4df33a7fa85",
   "metadata": {
    "tags": []
   },
   "source": [
    "## Top Python packages for R Users"
   ]
  },
  {
   "cell_type": "markdown",
   "id": "484685f0-91d4-4260-b966-fde75c628bf8",
   "metadata": {},
   "source": [
    "### Data manipulation libraries"
   ]
  },
  {
   "cell_type": "markdown",
   "id": "380bcdd4-ca49-4cf8-a047-79b81039d470",
   "metadata": {},
   "source": [
    "R has a rich ecosystem of data manipulation libraries. Be it dplyr, tidyr, or data.table, R users don't have much to complain about in this regard. However, they might consider switching to some Python alternatives for more flexibility, speed and more features. \n",
    "\n",
    "R users will find out that we, Python data scientists, totally revere the Pandas library. It is the king of data manipulation in the Python data science stack and is used by millions around the world. It has [over 20 million weekly downloads](https://pypistats.org/packages/pandas), making it one of the most popular Python packages. \n",
    "\n",
    "It offers such an extensive suite of functions and classes to work with data that you can barely scratch the surface even after using it for a couple of years. Pandas is also a keystone library in the ecosystem as many other dominant Python libraries are written so that their functionality aligns with Pandas' classes. \n",
    "\n",
    "Even though it is such a large library, it is dead simple to learn and master. By knowing a few classes and functions, you can perform complex analyses on any dataset. "
   ]
  },
  {
   "cell_type": "markdown",
   "id": "e90db01c-7fe6-40ff-87a9-a8a983573bcb",
   "metadata": {},
   "source": [
    "If Pandas sounds too intimidating to R lovers, they might feel right at home by using the Python datatable package. It was inspired by its R namesake and written solely to deal with the massive datasets of today. It has the ability to read and manipulate gigabyte-sized datasets in mere seconds. \n",
    "\n",
    "A common use-case is to read a large dataset with datatable and convert it to Pandas DataFrame format which is much faster than reading it purely with Pandas (Pandas is only fast for small-to-medium sized datasets). But, as an R user, you don't even have to do that as datatable has almost the same syntax as the data.table package of R. "
   ]
  },
  {
   "cell_type": "markdown",
   "id": "b2cd8269-0db3-419d-a7c2-195c9101580a",
   "metadata": {},
   "source": [
    "As far as I know, GPU support isn't fantastic in R, so R users might finally want to try out some GPU power by using Python libraries. RapidsAI offers just that opportunity via the cuDF library. cuDF is a dataframe library to manipulate datasets with billions of rows by tapping into the computing power of NVIDIA GPUs. Another advantage of cuDF is that it has very similar syntax as Pandas. "
   ]
  },
  {
   "cell_type": "markdown",
   "id": "3ce221a1-0a30-4234-80b2-ab3722f00d57",
   "metadata": {
    "tags": []
   },
   "source": [
    "### Data visualization libraries"
   ]
  },
  {
   "cell_type": "markdown",
   "id": "aa3e2f51-e9aa-49b0-baf3-bfa2ff401687",
   "metadata": {
    "tags": []
   },
   "source": [
    "I know ggplot2 is a dataviz legend. It is probably the most loved and used library that ever graced data science. However, and I know R lovers are going to heartily disagree with me on this, the same can probably be said about Matplotlib. \n",
    "\n",
    "Matplotlib is one of the first libraries people are introduced to when they start learning data science in Python. It is one of the rare libraries that manage to keep complexity and flexibility in the perfect balance. In other words, it is easy enough to learn and create great charts for beginners while also having all the tools to create [truly amazing custom plots](https://ibexorigin.medium.com/yes-these-unbelievable-masterpieces-are-created-with-matplotlib-b62e0ff2d1a8) for experienced folks. \n",
    "\n",
    "Just looking at its download stats tells a lot about its widespread adoption in the community:\n",
    "![](images/1.png)"
   ]
  },
  {
   "cell_type": "markdown",
   "id": "c035c3f8-af04-4bf4-8dc7-ff1503ecd597",
   "metadata": {},
   "source": [
    "If Matplotlib sounds a bit much or you don't like its default styles (no matter, Pythonistas aren't fan of them either), you can check out Seaborn. It is a wrapper API around Matplotlib that makes it considerably easier to use for beginners. More importantly, it places great emphasis on making the plots as pretty as possible without tweaking them much. Seaborn also introduces new plot types and subplotting tools that aren't easily available in Matplotlib. "
   ]
  },
  {
   "cell_type": "markdown",
   "id": "bb25c3a1-683f-4483-869e-0c707403b34e",
   "metadata": {
    "tags": []
   },
   "source": [
    "If you are sick of old-fashioned static plots, then you can try a family of interactive data visualization libraries of Python. The head of this family is, of course, Plotly, which has deep roots in R as well. It is great to produce high-quality charts out of the box and provides interfaces to customize and create complex charts. If you are unsure to choose between Matplotlib and Plotly, here is a [detailed comparison article](https://towardsdatascience.com/matplotlib-vs-plotly-lets-decide-once-and-for-all-dc3eca9aa011?gi=a7131eddc342). Altair and Bokeh both deserve a mention here as they have their own fanbase because of their unique look and syntax. "
   ]
  },
  {
   "cell_type": "markdown",
   "id": "4edfa269-af48-472b-9c23-2daa58e8b3d1",
   "metadata": {},
   "source": [
    "### Math and statistical libraries"
   ]
  },
  {
   "cell_type": "markdown",
   "id": "03068aa2-f336-4239-ac1d-e52db340e715",
   "metadata": {},
   "source": [
    "It is true that native Python does not come loaded with a host of statistical functions like R does. But its libraries more than make up for this shortcoming. \n",
    "\n",
    "The first one is the mighty NumPy, which literally carries many other key Python packages on its shoulders. It is a superb array manipulation library with a rich selection of vectorized math functions that you won't easily find in R packages. Its speed in matrix manipulation is perhaps only rivaled by Julia, which is one of the fastest languages in programming history. \n",
    "\n",
    "NumPy's n-dimensional arrays are the backbone of other computational libraries like TensorFlow or PyTorch. For this reason, NumPy's download stats are much higher than even Pandas and Matplotlib's put together:\n",
    "\n",
    "![](images/2.png)"
   ]
  },
  {
   "cell_type": "markdown",
   "id": "a27e03a9-df1a-4f92-ade4-0498bd867422",
   "metadata": {},
   "source": [
    "If you can't find a function in NumPy, then SciPy is the answer. It has got separate sub-modules for a range of computational problems in math, physics and statistics. \n",
    "\n",
    "Its `special` functions module contains key mathematical physics functions for researches that are all written for speed. You can solve optimization problems using its `optimization` module while `integrate` and `fft` modules take care of calculus and Fourier transforms. \n",
    "\n",
    "Its `linalg` modules contains everything in NumPy's `linalg` module plus more advanced and niche linear algebra functions. This module has great support from BLAS/LAPACK (standard base software libraries for linear algebra) making it even faster than NumPy. \n",
    "\n",
    "Oh and did I mention multi-dimensional image processing? While NumPy is great for 2-D/3-D images, it can't easily handle higher order images from medicine and biology. This is where you can use SciPy's `ndimage` module.\n",
    "\n",
    "Up until now, we have focused more on math than statistics. For this reason, let me introduce you to statsmodels. It is a vast library with functions and classes to estimate many statistical models, to conduct hypothesis tests and to explore data. \n",
    "\n",
    "There are entire sets of functions for regression analysis as well as mature APIs for generalized linear models. I especially love its Time Series analysis module as it contains specialized functions to perform and visualize time series. \n",
    "\n",
    "Its other models can be used for survival/duration analysis, nonparametric methods and multivariate statistics. And to R users' delight, most of these mentioned modules use R-like syntax in both writing functions and printing their output. All in all, statsmodels is the perfect combination of NumPy, SciPy and Matplotlib for statistical analysis."
   ]
  },
  {
   "cell_type": "markdown",
   "id": "025c39f0-171a-42ec-aa27-9d259ce234a0",
   "metadata": {},
   "source": [
    "Another wonderful math library is SymPy (Symbolic Python), which is perhaps unique in all of programming as it provides an API for symbolic mathematics. "
   ]
  },
  {
   "cell_type": "markdown",
   "id": "7567b5bc-aa2c-4972-a7d8-b6d69486f04b",
   "metadata": {},
   "source": [
    "### Machine learning libraries"
   ]
  },
  {
   "cell_type": "markdown",
   "id": "d620d04a-bd1c-4002-b629-f97bb9bc8d9f",
   "metadata": {},
   "source": [
    "### Deep learning libraries"
   ]
  },
  {
   "cell_type": "markdown",
   "id": "d80c053c-d045-434e-8748-3089e0ee7f9e",
   "metadata": {},
   "source": [
    "## Beyond the language wars: R and Python for the Modern Data Scientist"
   ]
  }
 ],
 "metadata": {
  "kernelspec": {
   "display_name": "kaggle_comp",
   "language": "python",
   "name": "kaggle_comp"
  },
  "language_info": {
   "codemirror_mode": {
    "name": "ipython",
    "version": 3
   },
   "file_extension": ".py",
   "mimetype": "text/x-python",
   "name": "python",
   "nbconvert_exporter": "python",
   "pygments_lexer": "ipython3",
   "version": "3.9.7"
  }
 },
 "nbformat": 4,
 "nbformat_minor": 5
}
