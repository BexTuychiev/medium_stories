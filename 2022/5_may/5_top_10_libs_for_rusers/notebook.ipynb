{
 "cells": [
  {
   "cell_type": "markdown",
   "id": "452e7374-5064-49ca-91e4-492314b07a56",
   "metadata": {
    "tags": []
   },
   "source": [
    "# Top Python Packages For R Users\n",
    "![](https://images.pexels.com/photos/404153/pexels-photo-404153.jpeg?auto=compress&cs=tinysrgb&w=1260&h=750&dpr=1)"
   ]
  },
  {
   "cell_type": "markdown",
   "id": "7cb5c3bd-c784-4578-8aa3-e05f0753aab9",
   "metadata": {
    "tags": []
   },
   "source": [
    "## Introduction "
   ]
  },
  {
   "cell_type": "markdown",
   "id": "ef301747-2370-4b23-8eca-e4df33a7fa85",
   "metadata": {
    "tags": []
   },
   "source": [
    "## Top Python packages for R Users"
   ]
  },
  {
   "cell_type": "markdown",
   "id": "484685f0-91d4-4260-b966-fde75c628bf8",
   "metadata": {},
   "source": [
    "### Data manipulation libraries"
   ]
  },
  {
   "cell_type": "markdown",
   "id": "3ce221a1-0a30-4234-80b2-ab3722f00d57",
   "metadata": {},
   "source": [
    "### Data visualization libraries"
   ]
  },
  {
   "cell_type": "markdown",
   "id": "4edfa269-af48-472b-9c23-2daa58e8b3d1",
   "metadata": {},
   "source": [
    "### Statistical libraries"
   ]
  },
  {
   "cell_type": "markdown",
   "id": "7567b5bc-aa2c-4972-a7d8-b6d69486f04b",
   "metadata": {},
   "source": [
    "### Machine learning libraries"
   ]
  },
  {
   "cell_type": "markdown",
   "id": "d80c053c-d045-434e-8748-3089e0ee7f9e",
   "metadata": {},
   "source": [
    "## Beyond the language wars: R and Python for the Modern Data Scientist"
   ]
  }
 ],
 "metadata": {
  "kernelspec": {
   "display_name": "kaggle_comp",
   "language": "python",
   "name": "kaggle_comp"
  },
  "language_info": {
   "codemirror_mode": {
    "name": "ipython",
    "version": 3
   },
   "file_extension": ".py",
   "mimetype": "text/x-python",
   "name": "python",
   "nbconvert_exporter": "python",
   "pygments_lexer": "ipython3",
   "version": "3.9.7"
  }
 },
 "nbformat": 4,
 "nbformat_minor": 5
}
