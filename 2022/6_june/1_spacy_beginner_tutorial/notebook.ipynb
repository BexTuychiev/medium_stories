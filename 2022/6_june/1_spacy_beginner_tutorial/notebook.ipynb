{
 "cells": [
  {
   "cell_type": "markdown",
   "id": "6bf50647-ddb8-4b76-8e44-65dd7879285a",
   "metadata": {},
   "source": [
    "# In-Depth Tutorial to spaCy For Beginners\n",
    "![](images/pexels.jpg)\n",
    "<figcaption style=\"text-align: center;\">\n",
    "    <strong>\n",
    "        Photo by \n",
    "        <a href='https://www.pexels.com/photo/red-blue-and-white-fluid-abstract-painting-2317710/'>Anni Roenkae</a>\n",
    "    </strong>\n",
    "</figcaption>\n"
   ]
  },
  {
   "cell_type": "markdown",
   "id": "e9eff864-bf82-4be6-92d4-59f30b59df57",
   "metadata": {},
   "source": [
    "### Introduction"
   ]
  },
  {
   "cell_type": "markdown",
   "id": "40261a53-f1e3-4ab5-b2dc-750f4509e698",
   "metadata": {
    "jp-MarkdownHeadingCollapsed": true,
    "tags": []
   },
   "source": [
    "### What is spaCy?"
   ]
  },
  {
   "cell_type": "markdown",
   "id": "72708cd6-868b-4e56-b7c8-39a91740d4c3",
   "metadata": {
    "tags": []
   },
   "source": [
    "### Basics of spaCy"
   ]
  },
  {
   "cell_type": "markdown",
   "id": "a891693f-d092-4dd3-9734-2ceedcb90797",
   "metadata": {},
   "source": [
    "```bash\n",
    "pip install -U pip setuptools wheel\n",
    "pip install -U spacy\n",
    "```"
   ]
  },
  {
   "cell_type": "markdown",
   "id": "afc5dfb7-294e-4093-abdb-dd235e97690b",
   "metadata": {},
   "source": [
    "After installing the core library with the above functions..."
   ]
  },
  {
   "cell_type": "markdown",
   "id": "c9fd8c89-554a-4891-9dec-03f163680528",
   "metadata": {},
   "source": [
    "```bash\n",
    "python -m spacy download en_core_web_sm  # 12 MB\n",
    "python -m spacy download en_core_web_md  # 31 MB\n",
    "python -m spacy download en_core_web_lg  # 382 MB\n",
    "```"
   ]
  },
  {
   "cell_type": "code",
   "execution_count": 1,
   "id": "2ed96a65-992c-4b1a-af31-cd96a528fe82",
   "metadata": {},
   "outputs": [
    {
     "name": "stdout",
     "output_type": "stream",
     "text": [
      "The\n",
      "tallest\n",
      "living\n",
      "man\n",
      "is\n"
     ]
    }
   ],
   "source": [
    "import spacy\n",
    "\n",
    "txt = \"The tallest living man is 37-year-old Sultan Kosen, from Turkey, who is 8 feet, 2.8 inches, who set the record in 2009.\"\n",
    "\n",
    "# Create the Language object\n",
    "nlp = spacy.load(\"en_core_web_sm\")\n",
    "\n",
    "# Create the Doc object\n",
    "doc = nlp(txt)\n",
    "\n",
    "\n",
    "for token in doc[:5]:\n",
    "    print(token)"
   ]
  },
  {
   "cell_type": "code",
   "execution_count": 2,
   "id": "cd567c97-2b76-4baa-8f9c-3253b02dd73c",
   "metadata": {},
   "outputs": [
    {
     "data": {
      "text/plain": [
       "spacy.tokens.token.Token"
      ]
     },
     "execution_count": 2,
     "metadata": {},
     "output_type": "execute_result"
    }
   ],
   "source": [
    "type(token)"
   ]
  },
  {
   "cell_type": "code",
   "execution_count": 3,
   "id": "e3e04912-f42d-4207-ab97-8ce2e98b6708",
   "metadata": {},
   "outputs": [
    {
     "data": {
      "text/plain": [
       "31"
      ]
     },
     "execution_count": 3,
     "metadata": {},
     "output_type": "execute_result"
    }
   ],
   "source": [
    "len(doc)"
   ]
  },
  {
   "cell_type": "code",
   "execution_count": 4,
   "id": "84fca2dc-0d2d-46f4-adcb-1c7e503c68c7",
   "metadata": {},
   "outputs": [
    {
     "name": "stdout",
     "output_type": "stream",
     "text": [
      "Index:  [3, 4, 5, 6, 7, 8, 9]\n",
      "Text:  ['man', 'is', '37', '-', 'year', '-', 'old']\n",
      "is_alpha: [True, True, False, False, True, False, True]\n",
      "is_punct: [False, False, False, True, False, True, False]\n",
      "like_num: [False, False, True, False, False, False, False]\n",
      "Base word: ['man', 'be', '37', '-', 'year', '-', 'old']\n"
     ]
    }
   ],
   "source": [
    "print(\"Index: \", [token.i for token in doc[3:10]])\n",
    "print(\"Text: \", [token.text for token in doc[3:10]])\n",
    "print(\"is_alpha:\", [token.is_alpha for token in doc[3:10]])\n",
    "print(\"is_punct:\", [token.is_punct for token in doc[3:10]])\n",
    "print(\"like_num:\", [token.like_num for token in doc[3:10]])\n",
    "print(\"Base word:\", [token.lemma_ for token in doc[3:10]])"
   ]
  },
  {
   "cell_type": "code",
   "execution_count": 5,
   "id": "e7dcca9d-9587-46d4-9d4a-c95716da8c99",
   "metadata": {},
   "outputs": [
    {
     "name": "stdout",
     "output_type": "stream",
     "text": [
      "37-year-old --> DATE\n",
      "Sultan Kosen --> PERSON\n",
      "Turkey --> GPE\n",
      "8 feet --> QUANTITY\n",
      "2.8 inches --> QUANTITY\n",
      "2009 --> DATE\n"
     ]
    }
   ],
   "source": [
    "for ent in doc.ents:\n",
    "    print(ent.text, \"-->\", ent.label_)"
   ]
  },
  {
   "cell_type": "markdown",
   "id": "9ac70492-40d8-4162-bb8e-b685a15411ab",
   "metadata": {},
   "source": [
    "### Architecture and core data structures"
   ]
  },
  {
   "cell_type": "code",
   "execution_count": 6,
   "id": "a4dad8a6-b9e7-4ad5-97d0-755e32926171",
   "metadata": {},
   "outputs": [
    {
     "data": {
      "text/plain": [
       "spacy.lang.en.English"
      ]
     },
     "execution_count": 6,
     "metadata": {},
     "output_type": "execute_result"
    }
   ],
   "source": [
    "import spacy\n",
    "\n",
    "nlp = spacy.load(\"en_core_web_md\")\n",
    "\n",
    "type(nlp)"
   ]
  },
  {
   "cell_type": "markdown",
   "id": "4ad505ee-57d5-4a5c-8749-226ae32cc789",
   "metadata": {},
   "source": [
    "```python\n",
    "nlp = spacy.load(\"es_core_news_sm\")  # Spanish\n",
    "nlp = spacy.load(\"ru_core_news_sm\")  # Russian\n",
    "nlp = spacy.load(\"zh_core_web_sm\")  # Chinese\n",
    "nlp = spacy.load(\"de_core_news_sm\")  # German\n",
    "```"
   ]
  },
  {
   "cell_type": "code",
   "execution_count": 7,
   "id": "cc517c7c-54a3-4659-b50e-3990baf26cb8",
   "metadata": {},
   "outputs": [
    {
     "data": {
      "text/plain": [
       "spacy.lang.en.English"
      ]
     },
     "execution_count": 7,
     "metadata": {},
     "output_type": "execute_result"
    }
   ],
   "source": [
    "from spacy.lang.en import English\n",
    "from spacy.lang.es import Spanish\n",
    "\n",
    "nlp = English()\n",
    "\n",
    "type(nlp)"
   ]
  },
  {
   "cell_type": "code",
   "execution_count": 8,
   "id": "41849360-3825-43de-9697-9e4c28e41514",
   "metadata": {},
   "outputs": [
    {
     "data": {
      "text/plain": [
       "spacy.vocab.Vocab"
      ]
     },
     "execution_count": 8,
     "metadata": {},
     "output_type": "execute_result"
    }
   ],
   "source": [
    "type(nlp.vocab)"
   ]
  },
  {
   "cell_type": "code",
   "execution_count": 9,
   "id": "97c22423-f3c8-4ad0-b131-94c76fcef376",
   "metadata": {},
   "outputs": [],
   "source": [
    "txt = \"\"\"The original name for the search engine Google was Backrub. \n",
    "         It was renamed Google after the googol, \n",
    "         which is the number one followed by 100 zeros.\"\"\"\n",
    "\n",
    "doc = nlp(txt)"
   ]
  },
  {
   "cell_type": "code",
   "execution_count": 10,
   "id": "8f368459-3ec4-461a-8651-f886a67e3d14",
   "metadata": {},
   "outputs": [
    {
     "data": {
      "text/plain": [
       "spacy.vocab.Vocab"
      ]
     },
     "execution_count": 10,
     "metadata": {},
     "output_type": "execute_result"
    }
   ],
   "source": [
    "type(doc.vocab)"
   ]
  },
  {
   "cell_type": "code",
   "execution_count": 11,
   "id": "3a514df7-6dee-42c7-9cea-539b0c0e934a",
   "metadata": {},
   "outputs": [
    {
     "data": {
      "text/plain": [
       "1988622737398120358"
      ]
     },
     "execution_count": 11,
     "metadata": {},
     "output_type": "execute_result"
    }
   ],
   "source": [
    "nlp.vocab.strings[\"google\"]"
   ]
  },
  {
   "cell_type": "code",
   "execution_count": 12,
   "id": "bd1084a2-f17a-481a-95ec-d866445a0a78",
   "metadata": {},
   "outputs": [
    {
     "data": {
      "text/plain": [
       "'google'"
      ]
     },
     "execution_count": 12,
     "metadata": {},
     "output_type": "execute_result"
    }
   ],
   "source": [
    "nlp.vocab.strings[1988622737398120358]"
   ]
  },
  {
   "cell_type": "code",
   "execution_count": 13,
   "id": "989a1aeb-5786-42fc-8f40-ed381cf2f563",
   "metadata": {},
   "outputs": [
    {
     "data": {
      "text/plain": [
       "spacy.lexeme.Lexeme"
      ]
     },
     "execution_count": 13,
     "metadata": {},
     "output_type": "execute_result"
    }
   ],
   "source": [
    "lexeme = nlp.vocab[\"google\"]\n",
    "\n",
    "type(lexeme)"
   ]
  },
  {
   "cell_type": "code",
   "execution_count": 14,
   "id": "1fb78840-2ae3-4726-8d61-1eff0f7f1743",
   "metadata": {},
   "outputs": [
    {
     "name": "stdout",
     "output_type": "stream",
     "text": [
      "google 1988622737398120358 False\n"
     ]
    }
   ],
   "source": [
    "print(lexeme.text, lexeme.orth, lexeme.is_digit)"
   ]
  },
  {
   "cell_type": "code",
   "execution_count": 15,
   "id": "c636be76-3aa8-4a57-8b61-e24d1bcb8dda",
   "metadata": {},
   "outputs": [
    {
     "data": {
      "text/plain": [
       "spacy.tokens.doc.Doc"
      ]
     },
     "execution_count": 15,
     "metadata": {},
     "output_type": "execute_result"
    }
   ],
   "source": [
    "txt = \"\"\"Mosquitoes are the deadliest animal in the world: \n",
    "         They kill more people than any other creature, \n",
    "         due to the diseases they carry.\"\"\"\n",
    "\n",
    "doc = nlp(txt)\n",
    "\n",
    "type(doc)"
   ]
  },
  {
   "cell_type": "code",
   "execution_count": 16,
   "id": "3438bbe3-3a11-4b7f-a2be-d5257f5cfa84",
   "metadata": {},
   "outputs": [
    {
     "data": {
      "text/plain": [
       "'Mosquitoes are the deadliest animal in the world: \\n         They kill more people than any other creature, \\n         due to the diseases they carry.'"
      ]
     },
     "execution_count": 16,
     "metadata": {},
     "output_type": "execute_result"
    }
   ],
   "source": [
    "doc.text"
   ]
  },
  {
   "cell_type": "code",
   "execution_count": 17,
   "id": "f98c27b3-bd61-4980-96df-95d6c9751695",
   "metadata": {},
   "outputs": [
    {
     "data": {
      "text/plain": [
       "27"
      ]
     },
     "execution_count": 17,
     "metadata": {},
     "output_type": "execute_result"
    }
   ],
   "source": [
    "len(doc)"
   ]
  },
  {
   "cell_type": "code",
   "execution_count": 18,
   "id": "965e7e8e-48be-4550-8d95-2cece6be9371",
   "metadata": {},
   "outputs": [],
   "source": [
    "from spacy.lang.en import English\n",
    "from spacy.tokens import Doc\n",
    "\n",
    "nlp = English()\n",
    "\n",
    "words = [\"I\", \"love\", \"Barcelona\", \"!\"]\n",
    "spaces = [True, True, False, False]\n",
    "\n",
    "# Create the doc object manually\n",
    "doc = Doc(nlp.vocab, words=words, spaces=spaces)"
   ]
  },
  {
   "cell_type": "code",
   "execution_count": 19,
   "id": "b8c64d42-1fc2-4609-bc64-acadc8e8879d",
   "metadata": {},
   "outputs": [
    {
     "data": {
      "text/plain": [
       "4"
      ]
     },
     "execution_count": 19,
     "metadata": {},
     "output_type": "execute_result"
    }
   ],
   "source": [
    "len(doc)"
   ]
  },
  {
   "cell_type": "code",
   "execution_count": 20,
   "id": "0ebb16ba-97e3-46ba-8b30-654b8a9eef4d",
   "metadata": {},
   "outputs": [
    {
     "data": {
      "text/plain": [
       "'I love Barcelona!'"
      ]
     },
     "execution_count": 20,
     "metadata": {},
     "output_type": "execute_result"
    }
   ],
   "source": [
    "doc.text"
   ]
  },
  {
   "cell_type": "code",
   "execution_count": 21,
   "id": "ecc86597-b3b1-40c4-8041-b004ed758aa3",
   "metadata": {},
   "outputs": [
    {
     "data": {
      "text/plain": [
       "spacy.tokens.span.Span"
      ]
     },
     "execution_count": 21,
     "metadata": {},
     "output_type": "execute_result"
    }
   ],
   "source": [
    "txt = \"\"\"The hardest working muscle in your body is your heart: \n",
    "         It pumps more than 2,000 gallons of blood a day\n",
    "         and beats more than 2.5 billion times in a 70-year life span.\"\"\"\n",
    "\n",
    "doc = nlp(txt)\n",
    "\n",
    "span = doc[:10]\n",
    "\n",
    "type(span)"
   ]
  },
  {
   "cell_type": "code",
   "execution_count": 22,
   "id": "5436290e-d65d-493c-95f2-6572bcbf8898",
   "metadata": {},
   "outputs": [
    {
     "name": "stdout",
     "output_type": "stream",
     "text": [
      "The hardest working muscle in your body is your heart\n",
      "0 10\n"
     ]
    }
   ],
   "source": [
    "print(span.text)\n",
    "print(span.start, span.end)"
   ]
  },
  {
   "cell_type": "code",
   "execution_count": 23,
   "id": "073b9866-f005-476d-ae8c-415ef93ac442",
   "metadata": {},
   "outputs": [
    {
     "data": {
      "text/plain": [
       "'The hardest working muscle in your body is your heart'"
      ]
     },
     "execution_count": 23,
     "metadata": {},
     "output_type": "execute_result"
    }
   ],
   "source": [
    "from spacy.tokens import Span\n",
    "\n",
    "span = Span(doc, 0, 10)\n",
    "span.text"
   ]
  },
  {
   "cell_type": "markdown",
   "id": "0d3f04a3-564c-4da4-8c9a-a27bcb490a33",
   "metadata": {},
   "source": [
    "### Predicting named entities (NER)"
   ]
  },
  {
   "cell_type": "code",
   "execution_count": 24,
   "id": "15cba094-7ea8-4df2-9e19-2c1eee57f312",
   "metadata": {},
   "outputs": [],
   "source": [
    "txt = \"\"\"Cleopatra wasn’t actually Egyptian! \n",
    "         As far as historians can tell, Egypt’s \n",
    "         famous femme fatal was actually Greek!. \n",
    "         She was a descendant of Alexander the Great’s\n",
    "         Macedonian general Ptolemy\"\"\"\n",
    "\n",
    "nlp = spacy.load(\"en_core_web_md\")\n",
    "\n",
    "doc = nlp(txt)"
   ]
  },
  {
   "cell_type": "code",
   "execution_count": 25,
   "id": "c9a5c1d1-5c05-484d-aca6-54236742d7ad",
   "metadata": {},
   "outputs": [
    {
     "name": "stdout",
     "output_type": "stream",
     "text": [
      "Cleopatra           PERSON              \n",
      "Egyptian            NORP                \n",
      "Egypt               GPE                 \n",
      "Greek               NORP                \n",
      "Macedonian          NORP                \n",
      "Ptolemy             PERSON              \n"
     ]
    }
   ],
   "source": [
    "for ent in doc.ents:\n",
    "    print(f\"{ent.text:<20}{ent.label_:<20}\")"
   ]
  },
  {
   "cell_type": "code",
   "execution_count": 26,
   "id": "310ddc90-e068-4842-8064-7f5cb4ec688c",
   "metadata": {},
   "outputs": [
    {
     "data": {
      "text/html": [
       "<span class=\"tex2jax_ignore\"><div class=\"entities\" style=\"line-height: 2.5; direction: ltr\">\n",
       "<mark class=\"entity\" style=\"background: #aa9cfc; padding: 0.45em 0.6em; margin: 0 0.25em; line-height: 1; border-radius: 0.35em;\">\n",
       "    Cleopatra\n",
       "    <span style=\"font-size: 0.8em; font-weight: bold; line-height: 1; border-radius: 0.35em; vertical-align: middle; margin-left: 0.5rem\">PERSON</span>\n",
       "</mark>\n",
       " wasn’t actually \n",
       "<mark class=\"entity\" style=\"background: #c887fb; padding: 0.45em 0.6em; margin: 0 0.25em; line-height: 1; border-radius: 0.35em;\">\n",
       "    Egyptian\n",
       "    <span style=\"font-size: 0.8em; font-weight: bold; line-height: 1; border-radius: 0.35em; vertical-align: middle; margin-left: 0.5rem\">NORP</span>\n",
       "</mark>\n",
       "! </br>         As far as historians can tell, \n",
       "<mark class=\"entity\" style=\"background: #feca74; padding: 0.45em 0.6em; margin: 0 0.25em; line-height: 1; border-radius: 0.35em;\">\n",
       "    Egypt\n",
       "    <span style=\"font-size: 0.8em; font-weight: bold; line-height: 1; border-radius: 0.35em; vertical-align: middle; margin-left: 0.5rem\">GPE</span>\n",
       "</mark>\n",
       "’s </br>         famous femme fatal was actually \n",
       "<mark class=\"entity\" style=\"background: #c887fb; padding: 0.45em 0.6em; margin: 0 0.25em; line-height: 1; border-radius: 0.35em;\">\n",
       "    Greek\n",
       "    <span style=\"font-size: 0.8em; font-weight: bold; line-height: 1; border-radius: 0.35em; vertical-align: middle; margin-left: 0.5rem\">NORP</span>\n",
       "</mark>\n",
       "!. </br>         She was a descendant of Alexander the Great’s</br>         \n",
       "<mark class=\"entity\" style=\"background: #c887fb; padding: 0.45em 0.6em; margin: 0 0.25em; line-height: 1; border-radius: 0.35em;\">\n",
       "    Macedonian\n",
       "    <span style=\"font-size: 0.8em; font-weight: bold; line-height: 1; border-radius: 0.35em; vertical-align: middle; margin-left: 0.5rem\">NORP</span>\n",
       "</mark>\n",
       " general \n",
       "<mark class=\"entity\" style=\"background: #aa9cfc; padding: 0.45em 0.6em; margin: 0 0.25em; line-height: 1; border-radius: 0.35em;\">\n",
       "    Ptolemy\n",
       "    <span style=\"font-size: 0.8em; font-weight: bold; line-height: 1; border-radius: 0.35em; vertical-align: middle; margin-left: 0.5rem\">PERSON</span>\n",
       "</mark>\n",
       "</div></span>"
      ],
      "text/plain": [
       "<IPython.core.display.HTML object>"
      ]
     },
     "metadata": {},
     "output_type": "display_data"
    }
   ],
   "source": [
    "from spacy import displacy\n",
    "\n",
    "displacy.render(doc, style=\"ent\")"
   ]
  },
  {
   "cell_type": "code",
   "execution_count": 27,
   "id": "6ec21d17-776b-4a8a-8533-c9d3d3e45e1e",
   "metadata": {},
   "outputs": [
    {
     "data": {
      "text/plain": [
       "'Countries, cities, states'"
      ]
     },
     "execution_count": 27,
     "metadata": {},
     "output_type": "execute_result"
    }
   ],
   "source": [
    "spacy.explain(\"GPE\")"
   ]
  },
  {
   "cell_type": "code",
   "execution_count": 28,
   "id": "a972ee31-ba22-4161-b6b5-689970933068",
   "metadata": {},
   "outputs": [
    {
     "data": {
      "text/plain": [
       "'Nationalities or religious or political groups'"
      ]
     },
     "execution_count": 28,
     "metadata": {},
     "output_type": "execute_result"
    }
   ],
   "source": [
    "spacy.explain(\"NORP\")"
   ]
  },
  {
   "cell_type": "code",
   "execution_count": 29,
   "id": "e40e8d3a-53d4-4d4d-a1d4-56ddbce71b08",
   "metadata": {},
   "outputs": [],
   "source": [
    "from spacy.tokens import Span\n",
    "\n",
    "alexander = Span(doc, 31, 34, label=\"PERSON\")\n",
    "\n",
    "doc.ents = list(doc.ents) + [alexander]"
   ]
  },
  {
   "cell_type": "code",
   "execution_count": 30,
   "id": "2b76b9c2-bed3-499b-b649-13837767e22f",
   "metadata": {},
   "outputs": [
    {
     "data": {
      "text/html": [
       "<span class=\"tex2jax_ignore\"><div class=\"entities\" style=\"line-height: 2.5; direction: ltr\">\n",
       "<mark class=\"entity\" style=\"background: #aa9cfc; padding: 0.45em 0.6em; margin: 0 0.25em; line-height: 1; border-radius: 0.35em;\">\n",
       "    Cleopatra\n",
       "    <span style=\"font-size: 0.8em; font-weight: bold; line-height: 1; border-radius: 0.35em; vertical-align: middle; margin-left: 0.5rem\">PERSON</span>\n",
       "</mark>\n",
       " wasn’t actually \n",
       "<mark class=\"entity\" style=\"background: #c887fb; padding: 0.45em 0.6em; margin: 0 0.25em; line-height: 1; border-radius: 0.35em;\">\n",
       "    Egyptian\n",
       "    <span style=\"font-size: 0.8em; font-weight: bold; line-height: 1; border-radius: 0.35em; vertical-align: middle; margin-left: 0.5rem\">NORP</span>\n",
       "</mark>\n",
       "! </br>         As far as historians can tell, \n",
       "<mark class=\"entity\" style=\"background: #feca74; padding: 0.45em 0.6em; margin: 0 0.25em; line-height: 1; border-radius: 0.35em;\">\n",
       "    Egypt\n",
       "    <span style=\"font-size: 0.8em; font-weight: bold; line-height: 1; border-radius: 0.35em; vertical-align: middle; margin-left: 0.5rem\">GPE</span>\n",
       "</mark>\n",
       "’s </br>         famous femme fatal was actually \n",
       "<mark class=\"entity\" style=\"background: #c887fb; padding: 0.45em 0.6em; margin: 0 0.25em; line-height: 1; border-radius: 0.35em;\">\n",
       "    Greek\n",
       "    <span style=\"font-size: 0.8em; font-weight: bold; line-height: 1; border-radius: 0.35em; vertical-align: middle; margin-left: 0.5rem\">NORP</span>\n",
       "</mark>\n",
       "!. </br>         She was a descendant of \n",
       "<mark class=\"entity\" style=\"background: #aa9cfc; padding: 0.45em 0.6em; margin: 0 0.25em; line-height: 1; border-radius: 0.35em;\">\n",
       "    Alexander the Great\n",
       "    <span style=\"font-size: 0.8em; font-weight: bold; line-height: 1; border-radius: 0.35em; vertical-align: middle; margin-left: 0.5rem\">PERSON</span>\n",
       "</mark>\n",
       "’s</br>         \n",
       "<mark class=\"entity\" style=\"background: #c887fb; padding: 0.45em 0.6em; margin: 0 0.25em; line-height: 1; border-radius: 0.35em;\">\n",
       "    Macedonian\n",
       "    <span style=\"font-size: 0.8em; font-weight: bold; line-height: 1; border-radius: 0.35em; vertical-align: middle; margin-left: 0.5rem\">NORP</span>\n",
       "</mark>\n",
       " general \n",
       "<mark class=\"entity\" style=\"background: #aa9cfc; padding: 0.45em 0.6em; margin: 0 0.25em; line-height: 1; border-radius: 0.35em;\">\n",
       "    Ptolemy\n",
       "    <span style=\"font-size: 0.8em; font-weight: bold; line-height: 1; border-radius: 0.35em; vertical-align: middle; margin-left: 0.5rem\">PERSON</span>\n",
       "</mark>\n",
       "</div></span>"
      ],
      "text/plain": [
       "<IPython.core.display.HTML object>"
      ]
     },
     "metadata": {},
     "output_type": "display_data"
    }
   ],
   "source": [
    "displacy.render(doc, style=\"ent\")"
   ]
  },
  {
   "cell_type": "markdown",
   "id": "e0e1e89b-441e-4d1f-bd5d-3b75be6f86f3",
   "metadata": {},
   "source": [
    "### Predicting part-of-speech (POS) tags and syntactic dependencies"
   ]
  },
  {
   "cell_type": "code",
   "execution_count": 31,
   "id": "4feb023c-2dec-49b3-a838-c7f6a48cc305",
   "metadata": {},
   "outputs": [
    {
     "name": "stdout",
     "output_type": "stream",
     "text": [
      "The                  DET                  det                 \n",
      "first                ADJ                  amod                \n",
      "footprints           NOUN                 nsubj               \n",
      "on                   ADP                  prep                \n",
      "the                  DET                  det                 \n",
      "moon                 NOUN                 pobj                \n",
      "will                 AUX                  aux                 \n",
      "remain               VERB                 ROOT                \n",
      "there                ADV                  advmod              \n",
      "for                  ADP                  prep                \n",
      "a                    DET                  quantmod            \n",
      "million              NUM                  nummod              \n",
      "years                NOUN                 pobj                \n"
     ]
    }
   ],
   "source": [
    "txt = \"The first footprints on the moon will remain there for a million years\"\n",
    "\n",
    "doc = nlp(txt)\n",
    "\n",
    "for token in doc:\n",
    "    print(f\"{token.text:<20} {token.pos_:<20} {token.dep_:<20}\")"
   ]
  },
  {
   "cell_type": "code",
   "execution_count": 32,
   "id": "7892fafe-0746-4d78-8edd-4ea169374ca5",
   "metadata": {},
   "outputs": [
    {
     "name": "stdout",
     "output_type": "stream",
     "text": [
      "DET --> determiner\n",
      "AUX --> auxiliary\n",
      "ADP --> adposition\n",
      "amod --> adjectival modifier\n",
      "nsubj --> nominal subject\n",
      "nummod --> numeric modifier\n"
     ]
    }
   ],
   "source": [
    "pos_tags = [\"DET\", \"AUX\", \"ADP\"]\n",
    "dep_tags = [\"amod\", \"nsubj\", \"nummod\"]\n",
    "\n",
    "for pos in pos_tags:\n",
    "    print(pos, \"-->\", spacy.explain(pos))\n",
    "\n",
    "for dep in dep_tags:\n",
    "    print(dep, \"-->\", spacy.explain(dep))"
   ]
  },
  {
   "cell_type": "code",
   "execution_count": 33,
   "id": "2c4404db-e9d1-4551-a37d-bc194ae558f0",
   "metadata": {},
   "outputs": [
    {
     "data": {
      "text/html": [
       "<span class=\"tex2jax_ignore\"><svg xmlns=\"http://www.w3.org/2000/svg\" xmlns:xlink=\"http://www.w3.org/1999/xlink\" xml:lang=\"en\" id=\"5b46d1582c3a41f0940c5d332ce2955c-0\" class=\"displacy\" width=\"2325\" height=\"399.5\" direction=\"ltr\" style=\"max-width: none; height: 399.5px; color: #000000; background: #ffffff; font-family: Arial; direction: ltr\">\n",
       "<text class=\"displacy-token\" fill=\"currentColor\" text-anchor=\"middle\" y=\"309.5\">\n",
       "    <tspan class=\"displacy-word\" fill=\"currentColor\" x=\"50\">The</tspan>\n",
       "    <tspan class=\"displacy-tag\" dy=\"2em\" fill=\"currentColor\" x=\"50\">DET</tspan>\n",
       "</text>\n",
       "\n",
       "<text class=\"displacy-token\" fill=\"currentColor\" text-anchor=\"middle\" y=\"309.5\">\n",
       "    <tspan class=\"displacy-word\" fill=\"currentColor\" x=\"225\">first</tspan>\n",
       "    <tspan class=\"displacy-tag\" dy=\"2em\" fill=\"currentColor\" x=\"225\">ADJ</tspan>\n",
       "</text>\n",
       "\n",
       "<text class=\"displacy-token\" fill=\"currentColor\" text-anchor=\"middle\" y=\"309.5\">\n",
       "    <tspan class=\"displacy-word\" fill=\"currentColor\" x=\"400\">footprints</tspan>\n",
       "    <tspan class=\"displacy-tag\" dy=\"2em\" fill=\"currentColor\" x=\"400\">NOUN</tspan>\n",
       "</text>\n",
       "\n",
       "<text class=\"displacy-token\" fill=\"currentColor\" text-anchor=\"middle\" y=\"309.5\">\n",
       "    <tspan class=\"displacy-word\" fill=\"currentColor\" x=\"575\">on</tspan>\n",
       "    <tspan class=\"displacy-tag\" dy=\"2em\" fill=\"currentColor\" x=\"575\">ADP</tspan>\n",
       "</text>\n",
       "\n",
       "<text class=\"displacy-token\" fill=\"currentColor\" text-anchor=\"middle\" y=\"309.5\">\n",
       "    <tspan class=\"displacy-word\" fill=\"currentColor\" x=\"750\">the</tspan>\n",
       "    <tspan class=\"displacy-tag\" dy=\"2em\" fill=\"currentColor\" x=\"750\">DET</tspan>\n",
       "</text>\n",
       "\n",
       "<text class=\"displacy-token\" fill=\"currentColor\" text-anchor=\"middle\" y=\"309.5\">\n",
       "    <tspan class=\"displacy-word\" fill=\"currentColor\" x=\"925\">moon</tspan>\n",
       "    <tspan class=\"displacy-tag\" dy=\"2em\" fill=\"currentColor\" x=\"925\">NOUN</tspan>\n",
       "</text>\n",
       "\n",
       "<text class=\"displacy-token\" fill=\"currentColor\" text-anchor=\"middle\" y=\"309.5\">\n",
       "    <tspan class=\"displacy-word\" fill=\"currentColor\" x=\"1100\">will</tspan>\n",
       "    <tspan class=\"displacy-tag\" dy=\"2em\" fill=\"currentColor\" x=\"1100\">AUX</tspan>\n",
       "</text>\n",
       "\n",
       "<text class=\"displacy-token\" fill=\"currentColor\" text-anchor=\"middle\" y=\"309.5\">\n",
       "    <tspan class=\"displacy-word\" fill=\"currentColor\" x=\"1275\">remain</tspan>\n",
       "    <tspan class=\"displacy-tag\" dy=\"2em\" fill=\"currentColor\" x=\"1275\">VERB</tspan>\n",
       "</text>\n",
       "\n",
       "<text class=\"displacy-token\" fill=\"currentColor\" text-anchor=\"middle\" y=\"309.5\">\n",
       "    <tspan class=\"displacy-word\" fill=\"currentColor\" x=\"1450\">there</tspan>\n",
       "    <tspan class=\"displacy-tag\" dy=\"2em\" fill=\"currentColor\" x=\"1450\">ADV</tspan>\n",
       "</text>\n",
       "\n",
       "<text class=\"displacy-token\" fill=\"currentColor\" text-anchor=\"middle\" y=\"309.5\">\n",
       "    <tspan class=\"displacy-word\" fill=\"currentColor\" x=\"1625\">for</tspan>\n",
       "    <tspan class=\"displacy-tag\" dy=\"2em\" fill=\"currentColor\" x=\"1625\">ADP</tspan>\n",
       "</text>\n",
       "\n",
       "<text class=\"displacy-token\" fill=\"currentColor\" text-anchor=\"middle\" y=\"309.5\">\n",
       "    <tspan class=\"displacy-word\" fill=\"currentColor\" x=\"1800\">a</tspan>\n",
       "    <tspan class=\"displacy-tag\" dy=\"2em\" fill=\"currentColor\" x=\"1800\">DET</tspan>\n",
       "</text>\n",
       "\n",
       "<text class=\"displacy-token\" fill=\"currentColor\" text-anchor=\"middle\" y=\"309.5\">\n",
       "    <tspan class=\"displacy-word\" fill=\"currentColor\" x=\"1975\">million</tspan>\n",
       "    <tspan class=\"displacy-tag\" dy=\"2em\" fill=\"currentColor\" x=\"1975\">NUM</tspan>\n",
       "</text>\n",
       "\n",
       "<text class=\"displacy-token\" fill=\"currentColor\" text-anchor=\"middle\" y=\"309.5\">\n",
       "    <tspan class=\"displacy-word\" fill=\"currentColor\" x=\"2150\">years</tspan>\n",
       "    <tspan class=\"displacy-tag\" dy=\"2em\" fill=\"currentColor\" x=\"2150\">NOUN</tspan>\n",
       "</text>\n",
       "\n",
       "<g class=\"displacy-arrow\">\n",
       "    <path class=\"displacy-arc\" id=\"arrow-5b46d1582c3a41f0940c5d332ce2955c-0-0\" stroke-width=\"2px\" d=\"M70,264.5 C70,89.5 395.0,89.5 395.0,264.5\" fill=\"none\" stroke=\"currentColor\"/>\n",
       "    <text dy=\"1.25em\" style=\"font-size: 0.8em; letter-spacing: 1px\">\n",
       "        <textPath xlink:href=\"#arrow-5b46d1582c3a41f0940c5d332ce2955c-0-0\" class=\"displacy-label\" startOffset=\"50%\" side=\"left\" fill=\"currentColor\" text-anchor=\"middle\">det</textPath>\n",
       "    </text>\n",
       "    <path class=\"displacy-arrowhead\" d=\"M70,266.5 L62,254.5 78,254.5\" fill=\"currentColor\"/>\n",
       "</g>\n",
       "\n",
       "<g class=\"displacy-arrow\">\n",
       "    <path class=\"displacy-arc\" id=\"arrow-5b46d1582c3a41f0940c5d332ce2955c-0-1\" stroke-width=\"2px\" d=\"M245,264.5 C245,177.0 390.0,177.0 390.0,264.5\" fill=\"none\" stroke=\"currentColor\"/>\n",
       "    <text dy=\"1.25em\" style=\"font-size: 0.8em; letter-spacing: 1px\">\n",
       "        <textPath xlink:href=\"#arrow-5b46d1582c3a41f0940c5d332ce2955c-0-1\" class=\"displacy-label\" startOffset=\"50%\" side=\"left\" fill=\"currentColor\" text-anchor=\"middle\">amod</textPath>\n",
       "    </text>\n",
       "    <path class=\"displacy-arrowhead\" d=\"M245,266.5 L237,254.5 253,254.5\" fill=\"currentColor\"/>\n",
       "</g>\n",
       "\n",
       "<g class=\"displacy-arrow\">\n",
       "    <path class=\"displacy-arc\" id=\"arrow-5b46d1582c3a41f0940c5d332ce2955c-0-2\" stroke-width=\"2px\" d=\"M420,264.5 C420,2.0 1275.0,2.0 1275.0,264.5\" fill=\"none\" stroke=\"currentColor\"/>\n",
       "    <text dy=\"1.25em\" style=\"font-size: 0.8em; letter-spacing: 1px\">\n",
       "        <textPath xlink:href=\"#arrow-5b46d1582c3a41f0940c5d332ce2955c-0-2\" class=\"displacy-label\" startOffset=\"50%\" side=\"left\" fill=\"currentColor\" text-anchor=\"middle\">nsubj</textPath>\n",
       "    </text>\n",
       "    <path class=\"displacy-arrowhead\" d=\"M420,266.5 L412,254.5 428,254.5\" fill=\"currentColor\"/>\n",
       "</g>\n",
       "\n",
       "<g class=\"displacy-arrow\">\n",
       "    <path class=\"displacy-arc\" id=\"arrow-5b46d1582c3a41f0940c5d332ce2955c-0-3\" stroke-width=\"2px\" d=\"M420,264.5 C420,177.0 565.0,177.0 565.0,264.5\" fill=\"none\" stroke=\"currentColor\"/>\n",
       "    <text dy=\"1.25em\" style=\"font-size: 0.8em; letter-spacing: 1px\">\n",
       "        <textPath xlink:href=\"#arrow-5b46d1582c3a41f0940c5d332ce2955c-0-3\" class=\"displacy-label\" startOffset=\"50%\" side=\"left\" fill=\"currentColor\" text-anchor=\"middle\">prep</textPath>\n",
       "    </text>\n",
       "    <path class=\"displacy-arrowhead\" d=\"M565.0,266.5 L573.0,254.5 557.0,254.5\" fill=\"currentColor\"/>\n",
       "</g>\n",
       "\n",
       "<g class=\"displacy-arrow\">\n",
       "    <path class=\"displacy-arc\" id=\"arrow-5b46d1582c3a41f0940c5d332ce2955c-0-4\" stroke-width=\"2px\" d=\"M770,264.5 C770,177.0 915.0,177.0 915.0,264.5\" fill=\"none\" stroke=\"currentColor\"/>\n",
       "    <text dy=\"1.25em\" style=\"font-size: 0.8em; letter-spacing: 1px\">\n",
       "        <textPath xlink:href=\"#arrow-5b46d1582c3a41f0940c5d332ce2955c-0-4\" class=\"displacy-label\" startOffset=\"50%\" side=\"left\" fill=\"currentColor\" text-anchor=\"middle\">det</textPath>\n",
       "    </text>\n",
       "    <path class=\"displacy-arrowhead\" d=\"M770,266.5 L762,254.5 778,254.5\" fill=\"currentColor\"/>\n",
       "</g>\n",
       "\n",
       "<g class=\"displacy-arrow\">\n",
       "    <path class=\"displacy-arc\" id=\"arrow-5b46d1582c3a41f0940c5d332ce2955c-0-5\" stroke-width=\"2px\" d=\"M595,264.5 C595,89.5 920.0,89.5 920.0,264.5\" fill=\"none\" stroke=\"currentColor\"/>\n",
       "    <text dy=\"1.25em\" style=\"font-size: 0.8em; letter-spacing: 1px\">\n",
       "        <textPath xlink:href=\"#arrow-5b46d1582c3a41f0940c5d332ce2955c-0-5\" class=\"displacy-label\" startOffset=\"50%\" side=\"left\" fill=\"currentColor\" text-anchor=\"middle\">pobj</textPath>\n",
       "    </text>\n",
       "    <path class=\"displacy-arrowhead\" d=\"M920.0,266.5 L928.0,254.5 912.0,254.5\" fill=\"currentColor\"/>\n",
       "</g>\n",
       "\n",
       "<g class=\"displacy-arrow\">\n",
       "    <path class=\"displacy-arc\" id=\"arrow-5b46d1582c3a41f0940c5d332ce2955c-0-6\" stroke-width=\"2px\" d=\"M1120,264.5 C1120,177.0 1265.0,177.0 1265.0,264.5\" fill=\"none\" stroke=\"currentColor\"/>\n",
       "    <text dy=\"1.25em\" style=\"font-size: 0.8em; letter-spacing: 1px\">\n",
       "        <textPath xlink:href=\"#arrow-5b46d1582c3a41f0940c5d332ce2955c-0-6\" class=\"displacy-label\" startOffset=\"50%\" side=\"left\" fill=\"currentColor\" text-anchor=\"middle\">aux</textPath>\n",
       "    </text>\n",
       "    <path class=\"displacy-arrowhead\" d=\"M1120,266.5 L1112,254.5 1128,254.5\" fill=\"currentColor\"/>\n",
       "</g>\n",
       "\n",
       "<g class=\"displacy-arrow\">\n",
       "    <path class=\"displacy-arc\" id=\"arrow-5b46d1582c3a41f0940c5d332ce2955c-0-7\" stroke-width=\"2px\" d=\"M1295,264.5 C1295,177.0 1440.0,177.0 1440.0,264.5\" fill=\"none\" stroke=\"currentColor\"/>\n",
       "    <text dy=\"1.25em\" style=\"font-size: 0.8em; letter-spacing: 1px\">\n",
       "        <textPath xlink:href=\"#arrow-5b46d1582c3a41f0940c5d332ce2955c-0-7\" class=\"displacy-label\" startOffset=\"50%\" side=\"left\" fill=\"currentColor\" text-anchor=\"middle\">advmod</textPath>\n",
       "    </text>\n",
       "    <path class=\"displacy-arrowhead\" d=\"M1440.0,266.5 L1448.0,254.5 1432.0,254.5\" fill=\"currentColor\"/>\n",
       "</g>\n",
       "\n",
       "<g class=\"displacy-arrow\">\n",
       "    <path class=\"displacy-arc\" id=\"arrow-5b46d1582c3a41f0940c5d332ce2955c-0-8\" stroke-width=\"2px\" d=\"M1295,264.5 C1295,89.5 1620.0,89.5 1620.0,264.5\" fill=\"none\" stroke=\"currentColor\"/>\n",
       "    <text dy=\"1.25em\" style=\"font-size: 0.8em; letter-spacing: 1px\">\n",
       "        <textPath xlink:href=\"#arrow-5b46d1582c3a41f0940c5d332ce2955c-0-8\" class=\"displacy-label\" startOffset=\"50%\" side=\"left\" fill=\"currentColor\" text-anchor=\"middle\">prep</textPath>\n",
       "    </text>\n",
       "    <path class=\"displacy-arrowhead\" d=\"M1620.0,266.5 L1628.0,254.5 1612.0,254.5\" fill=\"currentColor\"/>\n",
       "</g>\n",
       "\n",
       "<g class=\"displacy-arrow\">\n",
       "    <path class=\"displacy-arc\" id=\"arrow-5b46d1582c3a41f0940c5d332ce2955c-0-9\" stroke-width=\"2px\" d=\"M1820,264.5 C1820,177.0 1965.0,177.0 1965.0,264.5\" fill=\"none\" stroke=\"currentColor\"/>\n",
       "    <text dy=\"1.25em\" style=\"font-size: 0.8em; letter-spacing: 1px\">\n",
       "        <textPath xlink:href=\"#arrow-5b46d1582c3a41f0940c5d332ce2955c-0-9\" class=\"displacy-label\" startOffset=\"50%\" side=\"left\" fill=\"currentColor\" text-anchor=\"middle\">quantmod</textPath>\n",
       "    </text>\n",
       "    <path class=\"displacy-arrowhead\" d=\"M1820,266.5 L1812,254.5 1828,254.5\" fill=\"currentColor\"/>\n",
       "</g>\n",
       "\n",
       "<g class=\"displacy-arrow\">\n",
       "    <path class=\"displacy-arc\" id=\"arrow-5b46d1582c3a41f0940c5d332ce2955c-0-10\" stroke-width=\"2px\" d=\"M1995,264.5 C1995,177.0 2140.0,177.0 2140.0,264.5\" fill=\"none\" stroke=\"currentColor\"/>\n",
       "    <text dy=\"1.25em\" style=\"font-size: 0.8em; letter-spacing: 1px\">\n",
       "        <textPath xlink:href=\"#arrow-5b46d1582c3a41f0940c5d332ce2955c-0-10\" class=\"displacy-label\" startOffset=\"50%\" side=\"left\" fill=\"currentColor\" text-anchor=\"middle\">nummod</textPath>\n",
       "    </text>\n",
       "    <path class=\"displacy-arrowhead\" d=\"M1995,266.5 L1987,254.5 2003,254.5\" fill=\"currentColor\"/>\n",
       "</g>\n",
       "\n",
       "<g class=\"displacy-arrow\">\n",
       "    <path class=\"displacy-arc\" id=\"arrow-5b46d1582c3a41f0940c5d332ce2955c-0-11\" stroke-width=\"2px\" d=\"M1645,264.5 C1645,89.5 2145.0,89.5 2145.0,264.5\" fill=\"none\" stroke=\"currentColor\"/>\n",
       "    <text dy=\"1.25em\" style=\"font-size: 0.8em; letter-spacing: 1px\">\n",
       "        <textPath xlink:href=\"#arrow-5b46d1582c3a41f0940c5d332ce2955c-0-11\" class=\"displacy-label\" startOffset=\"50%\" side=\"left\" fill=\"currentColor\" text-anchor=\"middle\">pobj</textPath>\n",
       "    </text>\n",
       "    <path class=\"displacy-arrowhead\" d=\"M2145.0,266.5 L2153.0,254.5 2137.0,254.5\" fill=\"currentColor\"/>\n",
       "</g>\n",
       "</svg></span>"
      ],
      "text/plain": [
       "<IPython.core.display.HTML object>"
      ]
     },
     "metadata": {},
     "output_type": "display_data"
    }
   ],
   "source": [
    "displacy.render(doc, style=\"dep\")"
   ]
  },
  {
   "cell_type": "code",
   "execution_count": 34,
   "id": "24ed4c8c-cf21-4f38-8b41-f444886f7c18",
   "metadata": {},
   "outputs": [
    {
     "name": "stdout",
     "output_type": "stream",
     "text": [
      "The teddy bear\n",
      "President Theodore Roosevelt\n",
      "he\n",
      "a captured black bear\n",
      "a hunt\n",
      "a stuffed-animal maker\n",
      "a bear\n",
      "it\n",
      "the president\n"
     ]
    }
   ],
   "source": [
    "txt = \"\"\"The teddy bear is named after President Theodore Roosevelt. \n",
    "         After he refused to shoot a captured black bear on a hunt, \n",
    "         a stuffed-animal maker decided to create\n",
    "         a bear and name it after the president.\"\"\"\n",
    "\n",
    "doc = nlp(txt)\n",
    "\n",
    "for chunk in doc.noun_chunks:\n",
    "    print(chunk.text)"
   ]
  },
  {
   "cell_type": "markdown",
   "id": "4b3660fd-db09-42dc-8cca-7c7ac010e796",
   "metadata": {},
   "source": [
    "### Custom rule-based tokenization"
   ]
  },
  {
   "cell_type": "code",
   "execution_count": 35,
   "id": "9e35e74b-bda0-46c0-9863-cd68a2d0eadb",
   "metadata": {},
   "outputs": [],
   "source": [
    "txt = \"\"\"Cleopatra wasn’t actually Egyptian! \n",
    "         As far as historians can tell, Egypt’s \n",
    "         famous femme fatal was actually Greek!. \n",
    "         She was a descendant of Alexander the Great’s\n",
    "         Macedonian general Ptolemy\"\"\"\n",
    "\n",
    "# Create a pattern\n",
    "pattern = [\n",
    "    {\"IS_ALPHA\": True, \"IS_TITLE\": True},\n",
    "    {\"IS_STOP\": True},\n",
    "    {\"IS_ALPHA\": True, \"IS_TITLE\": True},\n",
    "]"
   ]
  },
  {
   "cell_type": "code",
   "execution_count": 36,
   "id": "349a7f21-ac29-462c-907c-18d99b9d7011",
   "metadata": {},
   "outputs": [
    {
     "name": "stdout",
     "output_type": "stream",
     "text": [
      "Alexander the Great\n"
     ]
    }
   ],
   "source": [
    "from spacy.matcher import Matcher\n",
    "\n",
    "# Init the matcher with the shared vocab\n",
    "matcher = Matcher(nlp.vocab)\n",
    "\n",
    "# Add the pattern to the matcher\n",
    "matcher.add(\"TITLED_PERSON\", [pattern])\n",
    "\n",
    "# Process the text\n",
    "doc = nlp(txt)\n",
    "\n",
    "# Find all matches\n",
    "matches = matcher(doc)\n",
    "\n",
    "# Iterate over matches\n",
    "for match_id, start, end in matches:\n",
    "    # Get the span\n",
    "    span = doc[start:end]\n",
    "    print(span.text)"
   ]
  },
  {
   "cell_type": "code",
   "execution_count": 37,
   "id": "b43d18f8-ca90-4d79-b55e-a6972518d020",
   "metadata": {},
   "outputs": [],
   "source": [
    "pattern = [\n",
    "    {\"TEXT\": {\"REGEX\": \"[a-zA-Z]+\"}},\n",
    "    {\"IS_DIGIT\": True, \"OP\": \"?\"},  # Match one or more times\n",
    "    {\"DEP\": \"quantmod\"},  # Match based on dependency\n",
    "    # etc.\n",
    "]"
   ]
  },
  {
   "cell_type": "markdown",
   "id": "933681ed-92a9-4f04-b31d-3a978a4ed50f",
   "metadata": {},
   "source": [
    "### Word vectors and semantic similarity"
   ]
  },
  {
   "cell_type": "code",
   "execution_count": 38,
   "id": "495187d1-fa1b-4dc5-a2a0-c9a52b6bc517",
   "metadata": {},
   "outputs": [
    {
     "data": {
      "text/plain": [
       "0.9200780919749721"
      ]
     },
     "execution_count": 38,
     "metadata": {},
     "output_type": "execute_result"
    }
   ],
   "source": [
    "nlp = spacy.load(\"en_core_web_md\")\n",
    "\n",
    "doc1 = nlp(\"What a lukeworm sentiment.\")\n",
    "doc2 = nlp(\"What a short sentence.\")\n",
    "\n",
    "doc1.similarity(doc2)"
   ]
  },
  {
   "cell_type": "code",
   "execution_count": 39,
   "id": "b6268bf7-c075-418e-ac1a-002694d0b930",
   "metadata": {},
   "outputs": [
    {
     "data": {
      "text/plain": [
       "0.5222234129905701"
      ]
     },
     "execution_count": 39,
     "metadata": {},
     "output_type": "execute_result"
    }
   ],
   "source": [
    "doc1[-1].similarity(doc2[2])"
   ]
  },
  {
   "cell_type": "code",
   "execution_count": 40,
   "id": "0a672406-40d3-496f-ba5a-ec0c78b6629e",
   "metadata": {},
   "outputs": [
    {
     "data": {
      "text/plain": [
       "0.8700238466262817"
      ]
     },
     "execution_count": 40,
     "metadata": {},
     "output_type": "execute_result"
    }
   ],
   "source": [
    "doc1[0:2].similarity(doc[3])"
   ]
  },
  {
   "cell_type": "code",
   "execution_count": 41,
   "id": "891d6819-2dbf-4a60-be33-0e9e94e4d7ec",
   "metadata": {},
   "outputs": [
    {
     "data": {
      "text/plain": [
       "(300,)"
      ]
     },
     "execution_count": 41,
     "metadata": {},
     "output_type": "execute_result"
    }
   ],
   "source": [
    "array = doc1[0].vector\n",
    "\n",
    "array.shape"
   ]
  },
  {
   "cell_type": "markdown",
   "id": "d344ac50-91ba-4793-b18e-4571a4b02098",
   "metadata": {},
   "source": [
    "### All about pipelines"
   ]
  },
  {
   "cell_type": "code",
   "execution_count": 42,
   "id": "4412df16-f832-4965-8a72-ff92199f81c6",
   "metadata": {},
   "outputs": [
    {
     "data": {
      "text/plain": [
       "['tok2vec', 'tagger', 'parser', 'attribute_ruler', 'lemmatizer', 'ner']"
      ]
     },
     "execution_count": 42,
     "metadata": {},
     "output_type": "execute_result"
    }
   ],
   "source": [
    "nlp = spacy.load(\"en_core_web_sm\")\n",
    "\n",
    "nlp.pipe_names"
   ]
  },
  {
   "cell_type": "code",
   "execution_count": 43,
   "id": "c4ce638c-a114-451b-be1b-42acea92d048",
   "metadata": {},
   "outputs": [],
   "source": [
    "from spacy.language import Language\n",
    "\n",
    "\n",
    "@Language.component(\"your_component\")\n",
    "def your_component(doc):\n",
    "    # Do something on the doc\n",
    "    print(f\"There are {len(doc)} tokens in this text.\")\n",
    "\n",
    "    return doc"
   ]
  },
  {
   "cell_type": "code",
   "execution_count": 44,
   "id": "a4112c0c-8e1b-46d3-be82-f5c1c5339f68",
   "metadata": {},
   "outputs": [
    {
     "data": {
      "text/plain": [
       "<function __main__.your_component(doc)>"
      ]
     },
     "execution_count": 44,
     "metadata": {},
     "output_type": "execute_result"
    }
   ],
   "source": [
    "nlp.add_pipe(\"your_component\")"
   ]
  },
  {
   "cell_type": "code",
   "execution_count": 45,
   "id": "f93fa836-5ea2-42cd-be18-10118fc8dd1f",
   "metadata": {},
   "outputs": [
    {
     "data": {
      "text/plain": [
       "['tok2vec',\n",
       " 'tagger',\n",
       " 'parser',\n",
       " 'attribute_ruler',\n",
       " 'lemmatizer',\n",
       " 'ner',\n",
       " 'your_component']"
      ]
     },
     "execution_count": 45,
     "metadata": {},
     "output_type": "execute_result"
    }
   ],
   "source": [
    "nlp.pipe_names"
   ]
  },
  {
   "cell_type": "code",
   "execution_count": 46,
   "id": "58833f13-180a-4062-b0b2-21fc93bba1cc",
   "metadata": {},
   "outputs": [
    {
     "name": "stdout",
     "output_type": "stream",
     "text": [
      "There are 9 tokens in this text.\n"
     ]
    }
   ],
   "source": [
    "doc = nlp(\"Bird dies, but you remember the flight.\")"
   ]
  },
  {
   "cell_type": "code",
   "execution_count": 47,
   "id": "0079309a-ed34-4877-b7ff-ce77735ad84c",
   "metadata": {},
   "outputs": [
    {
     "data": {
      "text/plain": [
       "<function __main__.titled_person(doc)>"
      ]
     },
     "execution_count": 47,
     "metadata": {},
     "output_type": "execute_result"
    }
   ],
   "source": [
    "from spacy.language import Language\n",
    "from spacy.matcher import Matcher\n",
    "\n",
    "nlp = spacy.load(\"en_core_web_sm\")\n",
    "\n",
    "\n",
    "@Language.component(\"titled_person\")\n",
    "def titled_person(doc):\n",
    "    pattern = [\n",
    "        {\"IS_ALPHA\": True, \"IS_TITLE\": True},\n",
    "        {\"IS_STOP\": True},\n",
    "        {\"IS_ALPHA\": True, \"IS_TITLE\": True},\n",
    "    ]\n",
    "    # Create the matcher\n",
    "    matcher = Matcher(doc.vocab)\n",
    "    # Add the pattern\n",
    "    matcher.add(\"TITLED_PERSON\", [pattern])\n",
    "\n",
    "    matches = matcher(doc)\n",
    "    matched_spans = [Span(doc, start, end) for _, start, end in matches]\n",
    "\n",
    "    # Add the matched spans to doc's entities\n",
    "    doc.ents = list(doc.ents) + matched_spans\n",
    "\n",
    "    return doc\n",
    "\n",
    "\n",
    "nlp.add_pipe(\"titled_person\")"
   ]
  },
  {
   "cell_type": "code",
   "execution_count": 48,
   "id": "d934a148-24b9-45ad-b139-13fedd8c0cf3",
   "metadata": {},
   "outputs": [
    {
     "data": {
      "text/plain": [
       "['tok2vec',\n",
       " 'tagger',\n",
       " 'parser',\n",
       " 'attribute_ruler',\n",
       " 'lemmatizer',\n",
       " 'ner',\n",
       " 'titled_person']"
      ]
     },
     "execution_count": 48,
     "metadata": {},
     "output_type": "execute_result"
    }
   ],
   "source": [
    "txt = \"\"\"Cleopatra wasn’t actually Egyptian! \n",
    "         As far as historians can tell, Egypt’s \n",
    "         famous femme fatal was actually Greek!. \n",
    "         She was a descendant of Alexander the Great’s\n",
    "         Macedonian general Ptolemy\"\"\"\n",
    "\n",
    "doc = nlp(txt)\n",
    "\n",
    "nlp.pipe_names"
   ]
  },
  {
   "cell_type": "markdown",
   "id": "f9ad7af0-d160-4d79-88ce-a19e318dbec5",
   "metadata": {
    "jp-MarkdownHeadingCollapsed": true,
    "tags": []
   },
   "source": [
    "### Setting custom extensions (metadata)"
   ]
  },
  {
   "cell_type": "markdown",
   "id": "17b36ae2-37cc-4d3e-b733-19a1c3104868",
   "metadata": {},
   "source": [
    "### Conclusion"
   ]
  }
 ],
 "metadata": {
  "kernelspec": {
   "display_name": "kaggle_comp",
   "language": "python",
   "name": "kaggle_comp"
  },
  "language_info": {
   "codemirror_mode": {
    "name": "ipython",
    "version": 3
   },
   "file_extension": ".py",
   "mimetype": "text/x-python",
   "name": "python",
   "nbconvert_exporter": "python",
   "pygments_lexer": "ipython3",
   "version": "3.9.7"
  }
 },
 "nbformat": 4,
 "nbformat_minor": 5
}
