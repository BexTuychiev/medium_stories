{
 "cells": [
  {
   "cell_type": "markdown",
   "id": "6bf50647-ddb8-4b76-8e44-65dd7879285a",
   "metadata": {},
   "source": [
    "# In-Depth Tutorial to spaCy For Beginners\n",
    "![](images/pexels.jpg)\n",
    "<figcaption style=\"text-align: center;\">\n",
    "    <strong>\n",
    "        Photo by \n",
    "        <a href='https://www.pexels.com/photo/red-blue-and-white-fluid-abstract-painting-2317710/'>Anni Roenkae</a>\n",
    "    </strong>\n",
    "</figcaption>\n"
   ]
  },
  {
   "cell_type": "markdown",
   "id": "e9eff864-bf82-4be6-92d4-59f30b59df57",
   "metadata": {},
   "source": [
    "### Introduction"
   ]
  },
  {
   "cell_type": "markdown",
   "id": "9cdeb6df-aced-457c-b32d-ed3d2a88273b",
   "metadata": {},
   "source": [
    "No, we won't be building language models with billions of parameters today. We will start smaller and learn about the basics of NLP with spaCy. We will take a close look at how the library works and how you can use it to solve beginner/medium NLP problems with ease.\n",
    "\n",
    "The post is already long, so I'll cut it here and jump to the meat of the article."
   ]
  },
  {
   "cell_type": "markdown",
   "id": "40261a53-f1e3-4ab5-b2dc-750f4509e698",
   "metadata": {
    "tags": []
   },
   "source": [
    "### What is spaCy?"
   ]
  },
  {
   "cell_type": "markdown",
   "id": "b29d3f62-6618-45ad-8970-5560e36afb93",
   "metadata": {},
   "source": []
  },
  {
   "cell_type": "markdown",
   "id": "72708cd6-868b-4e56-b7c8-39a91740d4c3",
   "metadata": {
    "tags": []
   },
   "source": [
    "### Basics of spaCy"
   ]
  },
  {
   "cell_type": "markdown",
   "id": "23ac1f64-1a3a-45bf-b001-e0d32b69b2f8",
   "metadata": {},
   "source": [
    "Before seeing how spaCy works, let's install it with its contents for the English language:"
   ]
  },
  {
   "cell_type": "markdown",
   "id": "a891693f-d092-4dd3-9734-2ceedcb90797",
   "metadata": {},
   "source": [
    "```bash\n",
    "pip install -U spacy\n",
    "```"
   ]
  },
  {
   "cell_type": "markdown",
   "id": "afc5dfb7-294e-4093-abdb-dd235e97690b",
   "metadata": {},
   "source": [
    "spaCy has three pipelines for English, with varying sizes and functionality for complex tasks. In this tutorial, we will only need to install the small and medium pipelines but I am including the large one as well for completeness:"
   ]
  },
  {
   "cell_type": "markdown",
   "id": "c9fd8c89-554a-4891-9dec-03f163680528",
   "metadata": {},
   "source": [
    "```bash\n",
    "python -m spacy download en_core_web_sm  # 12 MB\n",
    "python -m spacy download en_core_web_md  # 31 MB\n",
    "python -m spacy download en_core_web_lg  # 382 MB\n",
    "```"
   ]
  },
  {
   "cell_type": "markdown",
   "id": "3c90f33d-b17d-46f7-a617-039a8d6b6d2e",
   "metadata": {},
   "source": [
    "After importing spaCy, we need to load one of the pipelines we just installed. For now, we will load the small one and store it to `nlp`:"
   ]
  },
  {
   "cell_type": "code",
   "execution_count": 1,
   "id": "2ed96a65-992c-4b1a-af31-cd96a528fe82",
   "metadata": {},
   "outputs": [
    {
     "data": {
      "text/plain": [
       "<spacy.lang.en.English at 0x1f37faf1580>"
      ]
     },
     "execution_count": 1,
     "metadata": {},
     "output_type": "execute_result"
    }
   ],
   "source": [
    "import spacy\n",
    "\n",
    "txt = \"The tallest living man is 37-year-old Sultan Kosen, from Turkey, who is 8 feet, 2.8 inches, who set the record in 2009.\"\n",
    "\n",
    "# Create the Language object\n",
    "nlp = spacy.load(\"en_core_web_sm\")\n",
    "nlp"
   ]
  },
  {
   "cell_type": "markdown",
   "id": "28dc4297-7472-4b91-a331-9787bffc5261",
   "metadata": {},
   "source": [
    "It is a convention to name any loaded language models `nlp` in the spaCy ecosystem. This object can now be called on any text to start information extraction:"
   ]
  },
  {
   "cell_type": "code",
   "execution_count": 2,
   "id": "a45fa904-62cb-4663-98f2-7e651f311e73",
   "metadata": {},
   "outputs": [],
   "source": [
    "# Create the Doc object\n",
    "doc = nlp(txt)"
   ]
  },
  {
   "cell_type": "markdown",
   "id": "1bf48d40-fc53-4092-ac4e-ee03ef439798",
   "metadata": {},
   "source": [
    "The `doc` object is also a convention and now it is already filled with extra information about the sentences and their words. \n",
    "\n",
    "In general, the `doc` object is just an iterator:"
   ]
  },
  {
   "cell_type": "code",
   "execution_count": 3,
   "id": "5b6aeea1-8517-4efc-ba59-79097e826b94",
   "metadata": {},
   "outputs": [
    {
     "name": "stdout",
     "output_type": "stream",
     "text": [
      "The\n",
      "tallest\n",
      "living\n",
      "man\n",
      "is\n"
     ]
    }
   ],
   "source": [
    "for token in doc[:5]:\n",
    "    print(token)"
   ]
  },
  {
   "cell_type": "markdown",
   "id": "eb3a53ce-b178-4658-b7e9-310f8f18028c",
   "metadata": {},
   "source": [
    "You can use slicing or indexing notations to extract individual tokens: "
   ]
  },
  {
   "cell_type": "code",
   "execution_count": 4,
   "id": "cd567c97-2b76-4baa-8f9c-3253b02dd73c",
   "metadata": {},
   "outputs": [
    {
     "data": {
      "text/plain": [
       "spacy.tokens.token.Token"
      ]
     },
     "execution_count": 4,
     "metadata": {},
     "output_type": "execute_result"
    }
   ],
   "source": [
    "type(token)"
   ]
  },
  {
   "cell_type": "code",
   "execution_count": 5,
   "id": "e3e04912-f42d-4207-ab97-8ce2e98b6708",
   "metadata": {},
   "outputs": [
    {
     "data": {
      "text/plain": [
       "31"
      ]
     },
     "execution_count": 5,
     "metadata": {},
     "output_type": "execute_result"
    }
   ],
   "source": [
    "len(doc)"
   ]
  },
  {
   "cell_type": "markdown",
   "id": "92550943-f94b-4f80-a1f4-8ead89fc4549",
   "metadata": {},
   "source": [
    "If you extract more than one token, then you have a span object:"
   ]
  },
  {
   "cell_type": "code",
   "execution_count": 6,
   "id": "45af5fab-3749-45aa-9509-3f36826fb38e",
   "metadata": {},
   "outputs": [
    {
     "data": {
      "text/plain": [
       "spacy.tokens.span.Span"
      ]
     },
     "execution_count": 6,
     "metadata": {},
     "output_type": "execute_result"
    }
   ],
   "source": [
    "span = doc[:5]\n",
    "type(span)"
   ]
  },
  {
   "cell_type": "code",
   "execution_count": 7,
   "id": "02cdf70c-5c06-4286-9136-33d590a4ea94",
   "metadata": {},
   "outputs": [
    {
     "data": {
      "text/plain": [
       "'The tallest living man is'"
      ]
     },
     "execution_count": 7,
     "metadata": {},
     "output_type": "execute_result"
    }
   ],
   "source": [
    "span.text"
   ]
  },
  {
   "cell_type": "markdown",
   "id": "0978e057-6714-458e-b47c-753cf2c160a8",
   "metadata": {},
   "source": [
    "spaCy is also built for memory efficiency. That's why both `token` and `span` objects are just views of the `doc` object. There is no duplication. \n",
    "\n",
    "The pre-trained English pipeline and many other pipelines come with language-specific rules for tokenization and extracting their lexical attributes. Here are 6 of such attributes:\n",
    "\n",
    "> Tokenization simply means splitting sentences into words and punctuation.\n",
    "\n"
   ]
  },
  {
   "cell_type": "code",
   "execution_count": 8,
   "id": "84fca2dc-0d2d-46f4-adcb-1c7e503c68c7",
   "metadata": {},
   "outputs": [
    {
     "name": "stdout",
     "output_type": "stream",
     "text": [
      "Index:     [3, 4, 5, 6, 7, 8, 9]\n",
      "Text:      ['man', 'is', '37', '-', 'year', '-', 'old']\n",
      "is_alpha:  [True, True, False, False, True, False, True]\n",
      "is_punct:  [False, False, False, True, False, True, False]\n",
      "like_num:  [False, False, True, False, False, False, False]\n",
      "Base word: ['man', 'be', '37', '-', 'year', '-', 'old']\n"
     ]
    }
   ],
   "source": [
    "print(\"Index:    \", [token.i for token in doc[3:10]])\n",
    "print(\"Text:     \", [token.text for token in doc[3:10]])\n",
    "print(\"is_alpha: \", [token.is_alpha for token in doc[3:10]])\n",
    "print(\"is_punct: \", [token.is_punct for token in doc[3:10]])\n",
    "print(\"like_num: \", [token.like_num for token in doc[3:10]])\n",
    "print(\"Base word:\", [token.lemma_ for token in doc[3:10]])"
   ]
  },
  {
   "cell_type": "markdown",
   "id": "cf337a55-8afc-4e81-bdbb-e4d5879f9d60",
   "metadata": {},
   "source": [
    "Some interesting attributes are `lemma_`, which returns the base word stripped from any suffixes, prefixes, tense or any other grammatical attributes, and the `like_num` which recognizes both literal and lettered numbers. "
   ]
  },
  {
   "cell_type": "markdown",
   "id": "6e507764-f2fe-48ca-b6f9-a6ab2b5c6f00",
   "metadata": {},
   "source": [
    "You will be spending most of your time on these four objects - `nlp`, `doc`, `token` and `span`. Let's take a closer look at how they are related."
   ]
  },
  {
   "cell_type": "markdown",
   "id": "9ac70492-40d8-4162-bb8e-b685a15411ab",
   "metadata": {},
   "source": [
    "### Architecture and core data structures"
   ]
  },
  {
   "cell_type": "markdown",
   "id": "eaa0f18e-b84f-4a39-bdc1-168d38636da1",
   "metadata": {},
   "source": [
    "Let's start again with the `nlp`, which is a Language object under the hood:"
   ]
  },
  {
   "cell_type": "code",
   "execution_count": 9,
   "id": "a4dad8a6-b9e7-4ad5-97d0-755e32926171",
   "metadata": {},
   "outputs": [
    {
     "data": {
      "text/plain": [
       "spacy.lang.en.English"
      ]
     },
     "execution_count": 9,
     "metadata": {},
     "output_type": "execute_result"
    }
   ],
   "source": [
    "import spacy\n",
    "\n",
    "nlp = spacy.load(\"en_core_web_md\")\n",
    "\n",
    "type(nlp)"
   ]
  },
  {
   "cell_type": "markdown",
   "id": "8ad86f9a-285f-457a-899e-e642e4c0adab",
   "metadata": {},
   "source": [
    "Language objects are pre-trained on millions of text instances and labels and loaded into spaCy with their binary weights. These weights allows you to perform a rich variety of tasks on new datasets without worrying about the hairy details. \n",
    "\n",
    "As I mention earlier, spaCy has fully-trained pipelines for 22 languages, some of which you can see below:"
   ]
  },
  {
   "cell_type": "markdown",
   "id": "4ad505ee-57d5-4a5c-8749-226ae32cc789",
   "metadata": {},
   "source": [
    "```python\n",
    "nlp = spacy.load(\"es_core_news_sm\")  # Spanish\n",
    "nlp = spacy.load(\"ru_core_news_sm\")  # Russian\n",
    "nlp = spacy.load(\"zh_core_web_sm\")  # Chinese\n",
    "nlp = spacy.load(\"de_core_news_sm\")  # German\n",
    "```"
   ]
  },
  {
   "cell_type": "markdown",
   "id": "1606a68b-de8c-436c-bfcc-2f3a843ef2b2",
   "metadata": {},
   "source": [
    "For other +40 languages, spaCy only offers basic tokenization rules and other functionality is being slowly integrated with community effort.\n",
    "\n",
    "It is also possible to load the language models directly from the `lang` sub-module:"
   ]
  },
  {
   "cell_type": "code",
   "execution_count": 10,
   "id": "cc517c7c-54a3-4659-b50e-3990baf26cb8",
   "metadata": {},
   "outputs": [
    {
     "data": {
      "text/plain": [
       "spacy.lang.en.English"
      ]
     },
     "execution_count": 10,
     "metadata": {},
     "output_type": "execute_result"
    }
   ],
   "source": [
    "from spacy.lang.en import English\n",
    "from spacy.lang.es import Spanish\n",
    "\n",
    "nlp = English()\n",
    "\n",
    "type(nlp)"
   ]
  },
  {
   "cell_type": "code",
   "execution_count": 11,
   "id": "97c22423-f3c8-4ad0-b131-94c76fcef376",
   "metadata": {},
   "outputs": [],
   "source": [
    "txt = \"\"\"The original name for the search engine Google was Backrub. \n",
    "         It was renamed Google after the googol, \n",
    "         which is the number one followed by 100 zeros.\"\"\"\n",
    "\n",
    "doc = nlp(txt)"
   ]
  },
  {
   "cell_type": "markdown",
   "id": "20b11b31-3b27-43c0-9785-55d87b5e44a1",
   "metadata": {},
   "source": [
    "After processing a text, words and punctuation are stored into the vocabulary object of `nlp`:"
   ]
  },
  {
   "cell_type": "code",
   "execution_count": 12,
   "id": "41849360-3825-43de-9697-9e4c28e41514",
   "metadata": {},
   "outputs": [
    {
     "data": {
      "text/plain": [
       "spacy.vocab.Vocab"
      ]
     },
     "execution_count": 12,
     "metadata": {},
     "output_type": "execute_result"
    }
   ],
   "source": [
    "type(nlp.vocab)"
   ]
  },
  {
   "cell_type": "markdown",
   "id": "8dc758a6-6e7c-44ce-af32-767f93bf1743",
   "metadata": {},
   "source": [
    "This `Vocab` is shared between documents, meaning it stores all new words from all docs. In contrast, the `doc` object's vocabular only contains the words from the `txt`:"
   ]
  },
  {
   "cell_type": "code",
   "execution_count": 13,
   "id": "8f368459-3ec4-461a-8651-f886a67e3d14",
   "metadata": {},
   "outputs": [
    {
     "data": {
      "text/plain": [
       "spacy.vocab.Vocab"
      ]
     },
     "execution_count": 13,
     "metadata": {},
     "output_type": "execute_result"
    }
   ],
   "source": [
    "type(doc.vocab)"
   ]
  },
  {
   "cell_type": "markdown",
   "id": "4a886e6b-02bc-4843-95e5-4005322adc85",
   "metadata": {},
   "source": [
    "Internally, spaCy communicates in hashes to save memory and has a two-way look-up table called `StringStore`. You can get the hash of a string or get the string if you have the hash:"
   ]
  },
  {
   "cell_type": "code",
   "execution_count": 14,
   "id": "84c90f06-a852-43fe-a528-8437d00851ff",
   "metadata": {},
   "outputs": [
    {
     "data": {
      "text/plain": [
       "spacy.strings.StringStore"
      ]
     },
     "execution_count": 14,
     "metadata": {},
     "output_type": "execute_result"
    }
   ],
   "source": [
    "type(nlp.vocab.strings)"
   ]
  },
  {
   "cell_type": "code",
   "execution_count": 15,
   "id": "3a514df7-6dee-42c7-9cea-539b0c0e934a",
   "metadata": {},
   "outputs": [
    {
     "data": {
      "text/plain": [
       "1988622737398120358"
      ]
     },
     "execution_count": 15,
     "metadata": {},
     "output_type": "execute_result"
    }
   ],
   "source": [
    "nlp.vocab.strings[\"google\"]"
   ]
  },
  {
   "cell_type": "code",
   "execution_count": 16,
   "id": "bd1084a2-f17a-481a-95ec-d866445a0a78",
   "metadata": {},
   "outputs": [
    {
     "data": {
      "text/plain": [
       "'google'"
      ]
     },
     "execution_count": 16,
     "metadata": {},
     "output_type": "execute_result"
    }
   ],
   "source": [
    "nlp.vocab.strings[1988622737398120358]"
   ]
  },
  {
   "cell_type": "markdown",
   "id": "d987cd53-fbfe-403c-9c49-ad1e586f34b1",
   "metadata": {},
   "source": [
    "When tokens go into the `Vocab`, they loose all their context-specific information. So, when you look up words from the vocab, you are looking up `lexeme`s:"
   ]
  },
  {
   "cell_type": "code",
   "execution_count": 17,
   "id": "989a1aeb-5786-42fc-8f40-ed381cf2f563",
   "metadata": {},
   "outputs": [
    {
     "data": {
      "text/plain": [
       "spacy.lexeme.Lexeme"
      ]
     },
     "execution_count": 17,
     "metadata": {},
     "output_type": "execute_result"
    }
   ],
   "source": [
    "lexeme = nlp.vocab[\"google\"]\n",
    "\n",
    "type(lexeme)"
   ]
  },
  {
   "cell_type": "markdown",
   "id": "dd2454d8-236c-4141-a803-fa0f9b1c470b",
   "metadata": {},
   "source": [
    "Lexemes don't contain context specific information like part-of-speech tags, morphological dependencies, etc. But they still offer many lexical attributes of the word:"
   ]
  },
  {
   "cell_type": "code",
   "execution_count": 18,
   "id": "1fb78840-2ae3-4726-8d61-1eff0f7f1743",
   "metadata": {},
   "outputs": [
    {
     "name": "stdout",
     "output_type": "stream",
     "text": [
      "google 1988622737398120358 False\n"
     ]
    }
   ],
   "source": [
    "print(lexeme.text, lexeme.orth, lexeme.is_digit)"
   ]
  },
  {
   "cell_type": "markdown",
   "id": "76616e5d-0d69-4dc7-9796-037ac59839de",
   "metadata": {},
   "source": [
    "> `orth` attribute is for the hash of the lexeme."
   ]
  },
  {
   "cell_type": "markdown",
   "id": "b65fc677-38ae-42fb-b6be-a179fd277d7d",
   "metadata": {},
   "source": [
    "So, in short, if you are looking at a word through the `doc` object, it is a token. If it is from a `Vocab`, it is a lexeme.\n",
    "\n",
    "Now, let's talk more about the `doc` object."
   ]
  },
  {
   "cell_type": "code",
   "execution_count": 19,
   "id": "c636be76-3aa8-4a57-8b61-e24d1bcb8dda",
   "metadata": {},
   "outputs": [
    {
     "data": {
      "text/plain": [
       "spacy.tokens.doc.Doc"
      ]
     },
     "execution_count": 19,
     "metadata": {},
     "output_type": "execute_result"
    }
   ],
   "source": [
    "txt = \"\"\"Mosquitoes are the deadliest animal in the world: \n",
    "         They kill more people than any other creature, \n",
    "         due to the diseases they carry.\"\"\"\n",
    "\n",
    "doc = nlp(txt)\n",
    "\n",
    "type(doc)"
   ]
  },
  {
   "cell_type": "markdown",
   "id": "94a28a5a-a67e-478b-8c8e-65e796bf85e4",
   "metadata": {},
   "source": [
    "It is automatically generated when you call `nlp` on text and has its own attributes:"
   ]
  },
  {
   "cell_type": "code",
   "execution_count": 20,
   "id": "3438bbe3-3a11-4b7f-a2be-d5257f5cfa84",
   "metadata": {},
   "outputs": [
    {
     "data": {
      "text/plain": [
       "'Mosquitoes are the deadliest animal in the world: \\n         They kill more people than any other creature, \\n         due to the diseases they carry.'"
      ]
     },
     "execution_count": 20,
     "metadata": {},
     "output_type": "execute_result"
    }
   ],
   "source": [
    "doc.text"
   ]
  },
  {
   "cell_type": "code",
   "execution_count": 21,
   "id": "f98c27b3-bd61-4980-96df-95d6c9751695",
   "metadata": {},
   "outputs": [
    {
     "data": {
      "text/plain": [
       "27"
      ]
     },
     "execution_count": 21,
     "metadata": {},
     "output_type": "execute_result"
    }
   ],
   "source": [
    "len(doc)"
   ]
  },
  {
   "cell_type": "markdown",
   "id": "817fd818-1078-4ea6-88c2-2570fef14a01",
   "metadata": {},
   "source": [
    "You can create them manually as well, by importing the `Doc` class from `tokens` module:"
   ]
  },
  {
   "cell_type": "code",
   "execution_count": 22,
   "id": "965e7e8e-48be-4550-8d95-2cece6be9371",
   "metadata": {},
   "outputs": [],
   "source": [
    "from spacy.lang.en import English\n",
    "from spacy.tokens import Doc\n",
    "\n",
    "nlp = English()\n",
    "\n",
    "words = [\"I\", \"love\", \"Barcelona\", \"!\"]\n",
    "spaces = [True, True, False, False]\n",
    "\n",
    "# Create the doc object manually\n",
    "doc = Doc(nlp.vocab, words=words, spaces=spaces)"
   ]
  },
  {
   "cell_type": "markdown",
   "id": "4530a32d-8551-4987-bcbd-a39012e915da",
   "metadata": {},
   "source": [
    "`Doc` requires three arguments - the vocabulary from `nlp`, a list of words and another list specifying if the words are folled by a space (including the last one). All tokes in `doc` have this information."
   ]
  },
  {
   "cell_type": "code",
   "execution_count": 23,
   "id": "b8c64d42-1fc2-4609-bc64-acadc8e8879d",
   "metadata": {},
   "outputs": [
    {
     "data": {
      "text/plain": [
       "4"
      ]
     },
     "execution_count": 23,
     "metadata": {},
     "output_type": "execute_result"
    }
   ],
   "source": [
    "len(doc)"
   ]
  },
  {
   "cell_type": "code",
   "execution_count": 24,
   "id": "0ebb16ba-97e3-46ba-8b30-654b8a9eef4d",
   "metadata": {},
   "outputs": [
    {
     "data": {
      "text/plain": [
       "'I love Barcelona!'"
      ]
     },
     "execution_count": 24,
     "metadata": {},
     "output_type": "execute_result"
    }
   ],
   "source": [
    "doc.text"
   ]
  },
  {
   "cell_type": "markdown",
   "id": "c47abea1-b3dc-464e-9f25-b7ab623848d7",
   "metadata": {},
   "source": [
    "Spans are also a class of their own and expose a range of attributes, even though they are just a view of the `doc` object:"
   ]
  },
  {
   "cell_type": "code",
   "execution_count": 25,
   "id": "ecc86597-b3b1-40c4-8041-b004ed758aa3",
   "metadata": {},
   "outputs": [
    {
     "data": {
      "text/plain": [
       "spacy.tokens.span.Span"
      ]
     },
     "execution_count": 25,
     "metadata": {},
     "output_type": "execute_result"
    }
   ],
   "source": [
    "txt = \"\"\"The hardest working muscle in your body is your heart: \n",
    "         It pumps more than 2,000 gallons of blood a day\n",
    "         and beats more than 2.5 billion times in a 70-year life span.\"\"\"\n",
    "\n",
    "doc = nlp(txt)\n",
    "\n",
    "span = doc[:10]\n",
    "\n",
    "type(span)"
   ]
  },
  {
   "cell_type": "code",
   "execution_count": 26,
   "id": "5436290e-d65d-493c-95f2-6572bcbf8898",
   "metadata": {},
   "outputs": [
    {
     "name": "stdout",
     "output_type": "stream",
     "text": [
      "The hardest working muscle in your body is your heart\n",
      "0 10\n"
     ]
    }
   ],
   "source": [
    "print(span.text)\n",
    "print(span.start, span.end)"
   ]
  },
  {
   "cell_type": "markdown",
   "id": "39764215-59e2-47e2-90c6-00e01dbc60f8",
   "metadata": {},
   "source": [
    "To create the Span objects manually, pass the doc object and start/end indices of the tokens to the `Span` class:"
   ]
  },
  {
   "cell_type": "code",
   "execution_count": 27,
   "id": "073b9866-f005-476d-ae8c-415ef93ac442",
   "metadata": {},
   "outputs": [
    {
     "data": {
      "text/plain": [
       "'The hardest working muscle in your body is your heart'"
      ]
     },
     "execution_count": 27,
     "metadata": {},
     "output_type": "execute_result"
    }
   ],
   "source": [
    "from spacy.tokens import Span\n",
    "\n",
    "span = Span(doc, 0, 10)\n",
    "span.text"
   ]
  },
  {
   "cell_type": "markdown",
   "id": "0d3f04a3-564c-4da4-8c9a-a27bcb490a33",
   "metadata": {},
   "source": [
    "### Named Entity Recognition (NER)"
   ]
  },
  {
   "cell_type": "markdown",
   "id": "c85460fc-f62d-47cf-8bde-25a6cfeca523",
   "metadata": {},
   "source": [
    "One of the most common tasks in NLP is predicting named entities, like people, locations, countries, brands, etc. \n",
    "\n",
    "Performed NER is ridiculously easy in spaCy. After processing a text, just extract the `ents` attribute of the `doc` object:"
   ]
  },
  {
   "cell_type": "code",
   "execution_count": 56,
   "id": "15cba094-7ea8-4df2-9e19-2c1eee57f312",
   "metadata": {},
   "outputs": [],
   "source": [
    "txt = \"\"\"Cleopatra wasn’t actually Egyptian! \n",
    "         As far as historians can tell, Egypt’s \n",
    "         famous femme fatal was actually Greek!. \n",
    "         She was a descendant of Alexander the Great’s\n",
    "         Macedonian general Ptolemy\"\"\"\n",
    "\n",
    "nlp = spacy.load(\"en_core_web_md\")\n",
    "\n",
    "doc = nlp(txt)"
   ]
  },
  {
   "cell_type": "code",
   "execution_count": 57,
   "id": "c9a5c1d1-5c05-484d-aca6-54236742d7ad",
   "metadata": {},
   "outputs": [
    {
     "name": "stdout",
     "output_type": "stream",
     "text": [
      "Cleopatra           PERSON              \n",
      "Egyptian            NORP                \n",
      "Egypt               GPE                 \n",
      "Greek               NORP                \n",
      "Macedonian          NORP                \n",
      "Ptolemy             PERSON              \n"
     ]
    }
   ],
   "source": [
    "for ent in doc.ents:\n",
    "    print(f\"{ent.text:<20}{ent.label_:<20}\")"
   ]
  },
  {
   "cell_type": "markdown",
   "id": "75cef4cd-b78f-4cb2-9035-2997b7d15e0c",
   "metadata": {},
   "source": [
    "Cleopatra is recognized as PERSON, while Egypt is a Geo-political entity (GPE). To know the meaning for other labels, you can use the `explain` function:"
   ]
  },
  {
   "cell_type": "code",
   "execution_count": 58,
   "id": "6ec21d17-776b-4a8a-8533-c9d3d3e45e1e",
   "metadata": {},
   "outputs": [
    {
     "data": {
      "text/plain": [
       "'Countries, cities, states'"
      ]
     },
     "execution_count": 58,
     "metadata": {},
     "output_type": "execute_result"
    }
   ],
   "source": [
    "spacy.explain(\"GPE\")"
   ]
  },
  {
   "cell_type": "code",
   "execution_count": 59,
   "id": "a972ee31-ba22-4161-b6b5-689970933068",
   "metadata": {},
   "outputs": [
    {
     "data": {
      "text/plain": [
       "'Nationalities or religious or political groups'"
      ]
     },
     "execution_count": 59,
     "metadata": {},
     "output_type": "execute_result"
    }
   ],
   "source": [
    "spacy.explain(\"NORP\")"
   ]
  },
  {
   "cell_type": "markdown",
   "id": "a90c5e97-15f7-49a8-a3c3-2f0db6605634",
   "metadata": {},
   "source": [
    "Instead of printing text, you can use spaCy's visual entity tagger, available via `displacy`:"
   ]
  },
  {
   "attachments": {
    "14ab1205-be8c-448a-8b9a-b980e200712b.png": {
     "image/png": "[encoded data removed]"
    }
   },
   "cell_type": "markdown",
   "id": "32f46021-f13a-4fb5-8024-049c56b3d36e",
   "metadata": {},
   "source": [
    "![image.png](attachment:14ab1205-be8c-448a-8b9a-b980e200712b.png)"
   ]
  },
  {
   "cell_type": "markdown",
   "id": "23b994e8-d7cb-478d-bdcf-80b12cf7e378",
   "metadata": {},
   "source": [
    "From the image, we can see that Alexander the Great isn't recognized as PERSON because it is not a common name. But no matter, we can label Alexander as PERSON manually.\n",
    "\n",
    "First, extract the full name as a span, by giving it a label (PERSON):"
   ]
  },
  {
   "cell_type": "code",
   "execution_count": 60,
   "id": "e40e8d3a-53d4-4d4d-a1d4-56ddbce71b08",
   "metadata": {},
   "outputs": [
    {
     "data": {
      "text/plain": [
       "Alexander the Great"
      ]
     },
     "execution_count": 60,
     "metadata": {},
     "output_type": "execute_result"
    }
   ],
   "source": [
    "from spacy.tokens import Span\n",
    "\n",
    "alexander = Span(doc, 31, 34, label=\"PERSON\")\n",
    "alexander"
   ]
  },
  {
   "cell_type": "markdown",
   "id": "f919c6a9-52a0-4c17-9b50-e2f0ab6e378e",
   "metadata": {},
   "source": [
    "Then, updated the `ents` list with the span:"
   ]
  },
  {
   "cell_type": "code",
   "execution_count": 61,
   "id": "2098c2c8-d858-4d14-95a6-b597cb1091e3",
   "metadata": {},
   "outputs": [],
   "source": [
    "doc.ents = list(doc.ents) + [alexander]"
   ]
  },
  {
   "cell_type": "markdown",
   "id": "f7b5c8d3-0d57-4e46-82a6-531900f70d2a",
   "metadata": {},
   "source": [
    "Now, `displacy` tags it as well:"
   ]
  },
  {
   "attachments": {
    "8156eff2-518b-473f-a6ac-d065327773ff.png": {
     "image/png": "[encoded data removed]"
    }
   },
   "cell_type": "markdown",
   "id": "4948abe4-65fc-4320-af20-559f2ff32d87",
   "metadata": {},
   "source": [
    "![image.png](attachment:8156eff2-518b-473f-a6ac-d065327773ff.png)"
   ]
  },
  {
   "cell_type": "markdown",
   "id": "14cfcf30-bfe4-4f9b-8c03-87aa06964145",
   "metadata": {},
   "source": [
    "You could've set the new entity with `set_ents` function as well:"
   ]
  },
  {
   "cell_type": "markdown",
   "id": "4f03143a-d7ab-43ce-9d58-33c7f6536b71",
   "metadata": {},
   "source": [
    "```python\n",
    "# Leaves the rest of ents untouched\n",
    "doc.set_ents([alexander], default=\"unmodified\")\n",
    "```"
   ]
  },
  {
   "cell_type": "markdown",
   "id": "e0e1e89b-441e-4d1f-bd5d-3b75be6f86f3",
   "metadata": {},
   "source": [
    "### Predicting part-of-speech (POS) tags and syntactic dependencies"
   ]
  },
  {
   "cell_type": "code",
   "execution_count": 35,
   "id": "4feb023c-2dec-49b3-a838-c7f6a48cc305",
   "metadata": {},
   "outputs": [
    {
     "name": "stdout",
     "output_type": "stream",
     "text": [
      "The                  DET                  det                 \n",
      "first                ADJ                  amod                \n",
      "footprints           NOUN                 nsubj               \n",
      "on                   ADP                  prep                \n",
      "the                  DET                  det                 \n",
      "moon                 NOUN                 pobj                \n",
      "will                 AUX                  aux                 \n",
      "remain               VERB                 ROOT                \n",
      "there                ADV                  advmod              \n",
      "for                  ADP                  prep                \n",
      "a                    DET                  quantmod            \n",
      "million              NUM                  nummod              \n",
      "years                NOUN                 pobj                \n"
     ]
    }
   ],
   "source": [
    "txt = \"The first footprints on the moon will remain there for a million years\"\n",
    "\n",
    "doc = nlp(txt)\n",
    "\n",
    "for token in doc:\n",
    "    print(f\"{token.text:<20} {token.pos_:<20} {token.dep_:<20}\")"
   ]
  },
  {
   "cell_type": "code",
   "execution_count": 36,
   "id": "7892fafe-0746-4d78-8edd-4ea169374ca5",
   "metadata": {},
   "outputs": [
    {
     "name": "stdout",
     "output_type": "stream",
     "text": [
      "DET --> determiner\n",
      "AUX --> auxiliary\n",
      "ADP --> adposition\n",
      "amod --> adjectival modifier\n",
      "nsubj --> nominal subject\n",
      "nummod --> numeric modifier\n"
     ]
    }
   ],
   "source": [
    "pos_tags = [\"DET\", \"AUX\", \"ADP\"]\n",
    "dep_tags = [\"amod\", \"nsubj\", \"nummod\"]\n",
    "\n",
    "for pos in pos_tags:\n",
    "    print(pos, \"-->\", spacy.explain(pos))\n",
    "\n",
    "for dep in dep_tags:\n",
    "    print(dep, \"-->\", spacy.explain(dep))"
   ]
  },
  {
   "cell_type": "code",
   "execution_count": 37,
   "id": "2c4404db-e9d1-4551-a37d-bc194ae558f0",
   "metadata": {},
   "outputs": [
    {
     "data": {
      "text/html": [
       "<span class=\"tex2jax_ignore\"><svg xmlns=\"http://www.w3.org/2000/svg\" xmlns:xlink=\"http://www.w3.org/1999/xlink\" xml:lang=\"en\" id=\"9db0c89626c3423bafbd95c6ae170c3c-0\" class=\"displacy\" width=\"2325\" height=\"399.5\" direction=\"ltr\" style=\"max-width: none; height: 399.5px; color: #000000; background: #ffffff; font-family: Arial; direction: ltr\">\n",
       "<text class=\"displacy-token\" fill=\"currentColor\" text-anchor=\"middle\" y=\"309.5\">\n",
       "    <tspan class=\"displacy-word\" fill=\"currentColor\" x=\"50\">The</tspan>\n",
       "    <tspan class=\"displacy-tag\" dy=\"2em\" fill=\"currentColor\" x=\"50\">DET</tspan>\n",
       "</text>\n",
       "\n",
       "<text class=\"displacy-token\" fill=\"currentColor\" text-anchor=\"middle\" y=\"309.5\">\n",
       "    <tspan class=\"displacy-word\" fill=\"currentColor\" x=\"225\">first</tspan>\n",
       "    <tspan class=\"displacy-tag\" dy=\"2em\" fill=\"currentColor\" x=\"225\">ADJ</tspan>\n",
       "</text>\n",
       "\n",
       "<text class=\"displacy-token\" fill=\"currentColor\" text-anchor=\"middle\" y=\"309.5\">\n",
       "    <tspan class=\"displacy-word\" fill=\"currentColor\" x=\"400\">footprints</tspan>\n",
       "    <tspan class=\"displacy-tag\" dy=\"2em\" fill=\"currentColor\" x=\"400\">NOUN</tspan>\n",
       "</text>\n",
       "\n",
       "<text class=\"displacy-token\" fill=\"currentColor\" text-anchor=\"middle\" y=\"309.5\">\n",
       "    <tspan class=\"displacy-word\" fill=\"currentColor\" x=\"575\">on</tspan>\n",
       "    <tspan class=\"displacy-tag\" dy=\"2em\" fill=\"currentColor\" x=\"575\">ADP</tspan>\n",
       "</text>\n",
       "\n",
       "<text class=\"displacy-token\" fill=\"currentColor\" text-anchor=\"middle\" y=\"309.5\">\n",
       "    <tspan class=\"displacy-word\" fill=\"currentColor\" x=\"750\">the</tspan>\n",
       "    <tspan class=\"displacy-tag\" dy=\"2em\" fill=\"currentColor\" x=\"750\">DET</tspan>\n",
       "</text>\n",
       "\n",
       "<text class=\"displacy-token\" fill=\"currentColor\" text-anchor=\"middle\" y=\"309.5\">\n",
       "    <tspan class=\"displacy-word\" fill=\"currentColor\" x=\"925\">moon</tspan>\n",
       "    <tspan class=\"displacy-tag\" dy=\"2em\" fill=\"currentColor\" x=\"925\">NOUN</tspan>\n",
       "</text>\n",
       "\n",
       "<text class=\"displacy-token\" fill=\"currentColor\" text-anchor=\"middle\" y=\"309.5\">\n",
       "    <tspan class=\"displacy-word\" fill=\"currentColor\" x=\"1100\">will</tspan>\n",
       "    <tspan class=\"displacy-tag\" dy=\"2em\" fill=\"currentColor\" x=\"1100\">AUX</tspan>\n",
       "</text>\n",
       "\n",
       "<text class=\"displacy-token\" fill=\"currentColor\" text-anchor=\"middle\" y=\"309.5\">\n",
       "    <tspan class=\"displacy-word\" fill=\"currentColor\" x=\"1275\">remain</tspan>\n",
       "    <tspan class=\"displacy-tag\" dy=\"2em\" fill=\"currentColor\" x=\"1275\">VERB</tspan>\n",
       "</text>\n",
       "\n",
       "<text class=\"displacy-token\" fill=\"currentColor\" text-anchor=\"middle\" y=\"309.5\">\n",
       "    <tspan class=\"displacy-word\" fill=\"currentColor\" x=\"1450\">there</tspan>\n",
       "    <tspan class=\"displacy-tag\" dy=\"2em\" fill=\"currentColor\" x=\"1450\">ADV</tspan>\n",
       "</text>\n",
       "\n",
       "<text class=\"displacy-token\" fill=\"currentColor\" text-anchor=\"middle\" y=\"309.5\">\n",
       "    <tspan class=\"displacy-word\" fill=\"currentColor\" x=\"1625\">for</tspan>\n",
       "    <tspan class=\"displacy-tag\" dy=\"2em\" fill=\"currentColor\" x=\"1625\">ADP</tspan>\n",
       "</text>\n",
       "\n",
       "<text class=\"displacy-token\" fill=\"currentColor\" text-anchor=\"middle\" y=\"309.5\">\n",
       "    <tspan class=\"displacy-word\" fill=\"currentColor\" x=\"1800\">a</tspan>\n",
       "    <tspan class=\"displacy-tag\" dy=\"2em\" fill=\"currentColor\" x=\"1800\">DET</tspan>\n",
       "</text>\n",
       "\n",
       "<text class=\"displacy-token\" fill=\"currentColor\" text-anchor=\"middle\" y=\"309.5\">\n",
       "    <tspan class=\"displacy-word\" fill=\"currentColor\" x=\"1975\">million</tspan>\n",
       "    <tspan class=\"displacy-tag\" dy=\"2em\" fill=\"currentColor\" x=\"1975\">NUM</tspan>\n",
       "</text>\n",
       "\n",
       "<text class=\"displacy-token\" fill=\"currentColor\" text-anchor=\"middle\" y=\"309.5\">\n",
       "    <tspan class=\"displacy-word\" fill=\"currentColor\" x=\"2150\">years</tspan>\n",
       "    <tspan class=\"displacy-tag\" dy=\"2em\" fill=\"currentColor\" x=\"2150\">NOUN</tspan>\n",
       "</text>\n",
       "\n",
       "<g class=\"displacy-arrow\">\n",
       "    <path class=\"displacy-arc\" id=\"arrow-9db0c89626c3423bafbd95c6ae170c3c-0-0\" stroke-width=\"2px\" d=\"M70,264.5 C70,89.5 395.0,89.5 395.0,264.5\" fill=\"none\" stroke=\"currentColor\"/>\n",
       "    <text dy=\"1.25em\" style=\"font-size: 0.8em; letter-spacing: 1px\">\n",
       "        <textPath xlink:href=\"#arrow-9db0c89626c3423bafbd95c6ae170c3c-0-0\" class=\"displacy-label\" startOffset=\"50%\" side=\"left\" fill=\"currentColor\" text-anchor=\"middle\">det</textPath>\n",
       "    </text>\n",
       "    <path class=\"displacy-arrowhead\" d=\"M70,266.5 L62,254.5 78,254.5\" fill=\"currentColor\"/>\n",
       "</g>\n",
       "\n",
       "<g class=\"displacy-arrow\">\n",
       "    <path class=\"displacy-arc\" id=\"arrow-9db0c89626c3423bafbd95c6ae170c3c-0-1\" stroke-width=\"2px\" d=\"M245,264.5 C245,177.0 390.0,177.0 390.0,264.5\" fill=\"none\" stroke=\"currentColor\"/>\n",
       "    <text dy=\"1.25em\" style=\"font-size: 0.8em; letter-spacing: 1px\">\n",
       "        <textPath xlink:href=\"#arrow-9db0c89626c3423bafbd95c6ae170c3c-0-1\" class=\"displacy-label\" startOffset=\"50%\" side=\"left\" fill=\"currentColor\" text-anchor=\"middle\">amod</textPath>\n",
       "    </text>\n",
       "    <path class=\"displacy-arrowhead\" d=\"M245,266.5 L237,254.5 253,254.5\" fill=\"currentColor\"/>\n",
       "</g>\n",
       "\n",
       "<g class=\"displacy-arrow\">\n",
       "    <path class=\"displacy-arc\" id=\"arrow-9db0c89626c3423bafbd95c6ae170c3c-0-2\" stroke-width=\"2px\" d=\"M420,264.5 C420,2.0 1275.0,2.0 1275.0,264.5\" fill=\"none\" stroke=\"currentColor\"/>\n",
       "    <text dy=\"1.25em\" style=\"font-size: 0.8em; letter-spacing: 1px\">\n",
       "        <textPath xlink:href=\"#arrow-9db0c89626c3423bafbd95c6ae170c3c-0-2\" class=\"displacy-label\" startOffset=\"50%\" side=\"left\" fill=\"currentColor\" text-anchor=\"middle\">nsubj</textPath>\n",
       "    </text>\n",
       "    <path class=\"displacy-arrowhead\" d=\"M420,266.5 L412,254.5 428,254.5\" fill=\"currentColor\"/>\n",
       "</g>\n",
       "\n",
       "<g class=\"displacy-arrow\">\n",
       "    <path class=\"displacy-arc\" id=\"arrow-9db0c89626c3423bafbd95c6ae170c3c-0-3\" stroke-width=\"2px\" d=\"M420,264.5 C420,177.0 565.0,177.0 565.0,264.5\" fill=\"none\" stroke=\"currentColor\"/>\n",
       "    <text dy=\"1.25em\" style=\"font-size: 0.8em; letter-spacing: 1px\">\n",
       "        <textPath xlink:href=\"#arrow-9db0c89626c3423bafbd95c6ae170c3c-0-3\" class=\"displacy-label\" startOffset=\"50%\" side=\"left\" fill=\"currentColor\" text-anchor=\"middle\">prep</textPath>\n",
       "    </text>\n",
       "    <path class=\"displacy-arrowhead\" d=\"M565.0,266.5 L573.0,254.5 557.0,254.5\" fill=\"currentColor\"/>\n",
       "</g>\n",
       "\n",
       "<g class=\"displacy-arrow\">\n",
       "    <path class=\"displacy-arc\" id=\"arrow-9db0c89626c3423bafbd95c6ae170c3c-0-4\" stroke-width=\"2px\" d=\"M770,264.5 C770,177.0 915.0,177.0 915.0,264.5\" fill=\"none\" stroke=\"currentColor\"/>\n",
       "    <text dy=\"1.25em\" style=\"font-size: 0.8em; letter-spacing: 1px\">\n",
       "        <textPath xlink:href=\"#arrow-9db0c89626c3423bafbd95c6ae170c3c-0-4\" class=\"displacy-label\" startOffset=\"50%\" side=\"left\" fill=\"currentColor\" text-anchor=\"middle\">det</textPath>\n",
       "    </text>\n",
       "    <path class=\"displacy-arrowhead\" d=\"M770,266.5 L762,254.5 778,254.5\" fill=\"currentColor\"/>\n",
       "</g>\n",
       "\n",
       "<g class=\"displacy-arrow\">\n",
       "    <path class=\"displacy-arc\" id=\"arrow-9db0c89626c3423bafbd95c6ae170c3c-0-5\" stroke-width=\"2px\" d=\"M595,264.5 C595,89.5 920.0,89.5 920.0,264.5\" fill=\"none\" stroke=\"currentColor\"/>\n",
       "    <text dy=\"1.25em\" style=\"font-size: 0.8em; letter-spacing: 1px\">\n",
       "        <textPath xlink:href=\"#arrow-9db0c89626c3423bafbd95c6ae170c3c-0-5\" class=\"displacy-label\" startOffset=\"50%\" side=\"left\" fill=\"currentColor\" text-anchor=\"middle\">pobj</textPath>\n",
       "    </text>\n",
       "    <path class=\"displacy-arrowhead\" d=\"M920.0,266.5 L928.0,254.5 912.0,254.5\" fill=\"currentColor\"/>\n",
       "</g>\n",
       "\n",
       "<g class=\"displacy-arrow\">\n",
       "    <path class=\"displacy-arc\" id=\"arrow-9db0c89626c3423bafbd95c6ae170c3c-0-6\" stroke-width=\"2px\" d=\"M1120,264.5 C1120,177.0 1265.0,177.0 1265.0,264.5\" fill=\"none\" stroke=\"currentColor\"/>\n",
       "    <text dy=\"1.25em\" style=\"font-size: 0.8em; letter-spacing: 1px\">\n",
       "        <textPath xlink:href=\"#arrow-9db0c89626c3423bafbd95c6ae170c3c-0-6\" class=\"displacy-label\" startOffset=\"50%\" side=\"left\" fill=\"currentColor\" text-anchor=\"middle\">aux</textPath>\n",
       "    </text>\n",
       "    <path class=\"displacy-arrowhead\" d=\"M1120,266.5 L1112,254.5 1128,254.5\" fill=\"currentColor\"/>\n",
       "</g>\n",
       "\n",
       "<g class=\"displacy-arrow\">\n",
       "    <path class=\"displacy-arc\" id=\"arrow-9db0c89626c3423bafbd95c6ae170c3c-0-7\" stroke-width=\"2px\" d=\"M1295,264.5 C1295,177.0 1440.0,177.0 1440.0,264.5\" fill=\"none\" stroke=\"currentColor\"/>\n",
       "    <text dy=\"1.25em\" style=\"font-size: 0.8em; letter-spacing: 1px\">\n",
       "        <textPath xlink:href=\"#arrow-9db0c89626c3423bafbd95c6ae170c3c-0-7\" class=\"displacy-label\" startOffset=\"50%\" side=\"left\" fill=\"currentColor\" text-anchor=\"middle\">advmod</textPath>\n",
       "    </text>\n",
       "    <path class=\"displacy-arrowhead\" d=\"M1440.0,266.5 L1448.0,254.5 1432.0,254.5\" fill=\"currentColor\"/>\n",
       "</g>\n",
       "\n",
       "<g class=\"displacy-arrow\">\n",
       "    <path class=\"displacy-arc\" id=\"arrow-9db0c89626c3423bafbd95c6ae170c3c-0-8\" stroke-width=\"2px\" d=\"M1295,264.5 C1295,89.5 1620.0,89.5 1620.0,264.5\" fill=\"none\" stroke=\"currentColor\"/>\n",
       "    <text dy=\"1.25em\" style=\"font-size: 0.8em; letter-spacing: 1px\">\n",
       "        <textPath xlink:href=\"#arrow-9db0c89626c3423bafbd95c6ae170c3c-0-8\" class=\"displacy-label\" startOffset=\"50%\" side=\"left\" fill=\"currentColor\" text-anchor=\"middle\">prep</textPath>\n",
       "    </text>\n",
       "    <path class=\"displacy-arrowhead\" d=\"M1620.0,266.5 L1628.0,254.5 1612.0,254.5\" fill=\"currentColor\"/>\n",
       "</g>\n",
       "\n",
       "<g class=\"displacy-arrow\">\n",
       "    <path class=\"displacy-arc\" id=\"arrow-9db0c89626c3423bafbd95c6ae170c3c-0-9\" stroke-width=\"2px\" d=\"M1820,264.5 C1820,177.0 1965.0,177.0 1965.0,264.5\" fill=\"none\" stroke=\"currentColor\"/>\n",
       "    <text dy=\"1.25em\" style=\"font-size: 0.8em; letter-spacing: 1px\">\n",
       "        <textPath xlink:href=\"#arrow-9db0c89626c3423bafbd95c6ae170c3c-0-9\" class=\"displacy-label\" startOffset=\"50%\" side=\"left\" fill=\"currentColor\" text-anchor=\"middle\">quantmod</textPath>\n",
       "    </text>\n",
       "    <path class=\"displacy-arrowhead\" d=\"M1820,266.5 L1812,254.5 1828,254.5\" fill=\"currentColor\"/>\n",
       "</g>\n",
       "\n",
       "<g class=\"displacy-arrow\">\n",
       "    <path class=\"displacy-arc\" id=\"arrow-9db0c89626c3423bafbd95c6ae170c3c-0-10\" stroke-width=\"2px\" d=\"M1995,264.5 C1995,177.0 2140.0,177.0 2140.0,264.5\" fill=\"none\" stroke=\"currentColor\"/>\n",
       "    <text dy=\"1.25em\" style=\"font-size: 0.8em; letter-spacing: 1px\">\n",
       "        <textPath xlink:href=\"#arrow-9db0c89626c3423bafbd95c6ae170c3c-0-10\" class=\"displacy-label\" startOffset=\"50%\" side=\"left\" fill=\"currentColor\" text-anchor=\"middle\">nummod</textPath>\n",
       "    </text>\n",
       "    <path class=\"displacy-arrowhead\" d=\"M1995,266.5 L1987,254.5 2003,254.5\" fill=\"currentColor\"/>\n",
       "</g>\n",
       "\n",
       "<g class=\"displacy-arrow\">\n",
       "    <path class=\"displacy-arc\" id=\"arrow-9db0c89626c3423bafbd95c6ae170c3c-0-11\" stroke-width=\"2px\" d=\"M1645,264.5 C1645,89.5 2145.0,89.5 2145.0,264.5\" fill=\"none\" stroke=\"currentColor\"/>\n",
       "    <text dy=\"1.25em\" style=\"font-size: 0.8em; letter-spacing: 1px\">\n",
       "        <textPath xlink:href=\"#arrow-9db0c89626c3423bafbd95c6ae170c3c-0-11\" class=\"displacy-label\" startOffset=\"50%\" side=\"left\" fill=\"currentColor\" text-anchor=\"middle\">pobj</textPath>\n",
       "    </text>\n",
       "    <path class=\"displacy-arrowhead\" d=\"M2145.0,266.5 L2153.0,254.5 2137.0,254.5\" fill=\"currentColor\"/>\n",
       "</g>\n",
       "</svg></span>"
      ],
      "text/plain": [
       "<IPython.core.display.HTML object>"
      ]
     },
     "metadata": {},
     "output_type": "display_data"
    }
   ],
   "source": [
    "displacy.render(doc, style=\"dep\")"
   ]
  },
  {
   "cell_type": "code",
   "execution_count": 38,
   "id": "24ed4c8c-cf21-4f38-8b41-f444886f7c18",
   "metadata": {},
   "outputs": [
    {
     "name": "stdout",
     "output_type": "stream",
     "text": [
      "The teddy bear\n",
      "President Theodore Roosevelt\n",
      "he\n",
      "a captured black bear\n",
      "a hunt\n",
      "a stuffed-animal maker\n",
      "a bear\n",
      "it\n",
      "the president\n"
     ]
    }
   ],
   "source": [
    "txt = \"\"\"The teddy bear is named after President Theodore Roosevelt. \n",
    "         After he refused to shoot a captured black bear on a hunt, \n",
    "         a stuffed-animal maker decided to create\n",
    "         a bear and name it after the president.\"\"\"\n",
    "\n",
    "doc = nlp(txt)\n",
    "\n",
    "for chunk in doc.noun_chunks:\n",
    "    print(chunk.text)"
   ]
  },
  {
   "cell_type": "markdown",
   "id": "4b3660fd-db09-42dc-8cca-7c7ac010e796",
   "metadata": {},
   "source": [
    "### Custom rule-based tokenization"
   ]
  },
  {
   "cell_type": "code",
   "execution_count": 39,
   "id": "9e35e74b-bda0-46c0-9863-cd68a2d0eadb",
   "metadata": {},
   "outputs": [],
   "source": [
    "txt = \"\"\"Cleopatra wasn’t actually Egyptian! \n",
    "         As far as historians can tell, Egypt’s \n",
    "         famous femme fatal was actually Greek!. \n",
    "         She was a descendant of Alexander the Great’s\n",
    "         Macedonian general Ptolemy\"\"\"\n",
    "\n",
    "# Create a pattern\n",
    "pattern = [\n",
    "    {\"IS_ALPHA\": True, \"IS_TITLE\": True},\n",
    "    {\"IS_STOP\": True},\n",
    "    {\"IS_ALPHA\": True, \"IS_TITLE\": True},\n",
    "]"
   ]
  },
  {
   "cell_type": "code",
   "execution_count": 40,
   "id": "349a7f21-ac29-462c-907c-18d99b9d7011",
   "metadata": {},
   "outputs": [
    {
     "name": "stdout",
     "output_type": "stream",
     "text": [
      "Alexander the Great\n"
     ]
    }
   ],
   "source": [
    "from spacy.matcher import Matcher\n",
    "\n",
    "# Init the matcher with the shared vocab\n",
    "matcher = Matcher(nlp.vocab)\n",
    "\n",
    "# Add the pattern to the matcher\n",
    "matcher.add(\"TITLED_PERSON\", [pattern])\n",
    "\n",
    "# Process the text\n",
    "doc = nlp(txt)\n",
    "\n",
    "# Find all matches\n",
    "matches = matcher(doc)\n",
    "\n",
    "# Iterate over matches\n",
    "for match_id, start, end in matches:\n",
    "    # Get the span\n",
    "    span = doc[start:end]\n",
    "    print(span.text)"
   ]
  },
  {
   "cell_type": "code",
   "execution_count": 41,
   "id": "b43d18f8-ca90-4d79-b55e-a6972518d020",
   "metadata": {},
   "outputs": [],
   "source": [
    "pattern = [\n",
    "    {\"TEXT\": {\"REGEX\": \"[a-zA-Z]+\"}},\n",
    "    {\"IS_DIGIT\": True, \"OP\": \"?\"},  # Match one or more times\n",
    "    {\"DEP\": \"quantmod\"},  # Match based on dependency\n",
    "    # etc.\n",
    "]"
   ]
  },
  {
   "cell_type": "markdown",
   "id": "933681ed-92a9-4f04-b31d-3a978a4ed50f",
   "metadata": {},
   "source": [
    "### Word vectors and semantic similarity"
   ]
  },
  {
   "cell_type": "code",
   "execution_count": 42,
   "id": "495187d1-fa1b-4dc5-a2a0-c9a52b6bc517",
   "metadata": {},
   "outputs": [
    {
     "data": {
      "text/plain": [
       "0.9200780919749721"
      ]
     },
     "execution_count": 42,
     "metadata": {},
     "output_type": "execute_result"
    }
   ],
   "source": [
    "nlp = spacy.load(\"en_core_web_md\")\n",
    "\n",
    "doc1 = nlp(\"What a lukeworm sentiment.\")\n",
    "doc2 = nlp(\"What a short sentence.\")\n",
    "\n",
    "doc1.similarity(doc2)"
   ]
  },
  {
   "cell_type": "code",
   "execution_count": 43,
   "id": "b6268bf7-c075-418e-ac1a-002694d0b930",
   "metadata": {},
   "outputs": [
    {
     "data": {
      "text/plain": [
       "0.5222234129905701"
      ]
     },
     "execution_count": 43,
     "metadata": {},
     "output_type": "execute_result"
    }
   ],
   "source": [
    "doc1[-1].similarity(doc2[2])"
   ]
  },
  {
   "cell_type": "code",
   "execution_count": 44,
   "id": "0a672406-40d3-496f-ba5a-ec0c78b6629e",
   "metadata": {},
   "outputs": [
    {
     "data": {
      "text/plain": [
       "0.8700238466262817"
      ]
     },
     "execution_count": 44,
     "metadata": {},
     "output_type": "execute_result"
    }
   ],
   "source": [
    "doc1[0:2].similarity(doc[3])"
   ]
  },
  {
   "cell_type": "code",
   "execution_count": 45,
   "id": "891d6819-2dbf-4a60-be33-0e9e94e4d7ec",
   "metadata": {},
   "outputs": [
    {
     "data": {
      "text/plain": [
       "(300,)"
      ]
     },
     "execution_count": 45,
     "metadata": {},
     "output_type": "execute_result"
    }
   ],
   "source": [
    "array = doc1[0].vector\n",
    "\n",
    "array.shape"
   ]
  },
  {
   "cell_type": "markdown",
   "id": "d344ac50-91ba-4793-b18e-4571a4b02098",
   "metadata": {},
   "source": [
    "### All about pipelines"
   ]
  },
  {
   "cell_type": "code",
   "execution_count": 46,
   "id": "4412df16-f832-4965-8a72-ff92199f81c6",
   "metadata": {},
   "outputs": [
    {
     "data": {
      "text/plain": [
       "['tok2vec', 'tagger', 'parser', 'attribute_ruler', 'lemmatizer', 'ner']"
      ]
     },
     "execution_count": 46,
     "metadata": {},
     "output_type": "execute_result"
    }
   ],
   "source": [
    "nlp = spacy.load(\"en_core_web_sm\")\n",
    "\n",
    "nlp.pipe_names"
   ]
  },
  {
   "cell_type": "code",
   "execution_count": 47,
   "id": "c4ce638c-a114-451b-be1b-42acea92d048",
   "metadata": {},
   "outputs": [],
   "source": [
    "from spacy.language import Language\n",
    "\n",
    "\n",
    "@Language.component(\"your_component\")\n",
    "def your_component(doc):\n",
    "    # Do something on the doc\n",
    "    print(f\"There are {len(doc)} tokens in this text.\")\n",
    "\n",
    "    return doc"
   ]
  },
  {
   "cell_type": "code",
   "execution_count": 48,
   "id": "a4112c0c-8e1b-46d3-be82-f5c1c5339f68",
   "metadata": {},
   "outputs": [
    {
     "data": {
      "text/plain": [
       "<function __main__.your_component(doc)>"
      ]
     },
     "execution_count": 48,
     "metadata": {},
     "output_type": "execute_result"
    }
   ],
   "source": [
    "nlp.add_pipe(\"your_component\")"
   ]
  },
  {
   "cell_type": "code",
   "execution_count": 49,
   "id": "f93fa836-5ea2-42cd-be18-10118fc8dd1f",
   "metadata": {},
   "outputs": [
    {
     "data": {
      "text/plain": [
       "['tok2vec',\n",
       " 'tagger',\n",
       " 'parser',\n",
       " 'attribute_ruler',\n",
       " 'lemmatizer',\n",
       " 'ner',\n",
       " 'your_component']"
      ]
     },
     "execution_count": 49,
     "metadata": {},
     "output_type": "execute_result"
    }
   ],
   "source": [
    "nlp.pipe_names"
   ]
  },
  {
   "cell_type": "code",
   "execution_count": 50,
   "id": "58833f13-180a-4062-b0b2-21fc93bba1cc",
   "metadata": {},
   "outputs": [
    {
     "name": "stdout",
     "output_type": "stream",
     "text": [
      "There are 9 tokens in this text.\n"
     ]
    }
   ],
   "source": [
    "doc = nlp(\"Bird dies, but you remember the flight.\")"
   ]
  },
  {
   "cell_type": "code",
   "execution_count": 51,
   "id": "0079309a-ed34-4877-b7ff-ce77735ad84c",
   "metadata": {},
   "outputs": [
    {
     "data": {
      "text/plain": [
       "<function __main__.titled_person(doc)>"
      ]
     },
     "execution_count": 51,
     "metadata": {},
     "output_type": "execute_result"
    }
   ],
   "source": [
    "from spacy.language import Language\n",
    "from spacy.matcher import Matcher\n",
    "\n",
    "nlp = spacy.load(\"en_core_web_sm\")\n",
    "\n",
    "\n",
    "@Language.component(\"titled_person\")\n",
    "def titled_person(doc):\n",
    "    pattern = [\n",
    "        {\"IS_ALPHA\": True, \"IS_TITLE\": True},\n",
    "        {\"IS_STOP\": True},\n",
    "        {\"IS_ALPHA\": True, \"IS_TITLE\": True},\n",
    "    ]\n",
    "    # Create the matcher\n",
    "    matcher = Matcher(doc.vocab)\n",
    "    # Add the pattern\n",
    "    matcher.add(\"TITLED_PERSON\", [pattern])\n",
    "\n",
    "    matches = matcher(doc)\n",
    "    matched_spans = [Span(doc, start, end) for _, start, end in matches]\n",
    "\n",
    "    # Add the matched spans to doc's entities\n",
    "    doc.ents = list(doc.ents) + matched_spans\n",
    "\n",
    "    return doc\n",
    "\n",
    "\n",
    "nlp.add_pipe(\"titled_person\")"
   ]
  },
  {
   "cell_type": "code",
   "execution_count": 52,
   "id": "d934a148-24b9-45ad-b139-13fedd8c0cf3",
   "metadata": {},
   "outputs": [
    {
     "data": {
      "text/plain": [
       "['tok2vec',\n",
       " 'tagger',\n",
       " 'parser',\n",
       " 'attribute_ruler',\n",
       " 'lemmatizer',\n",
       " 'ner',\n",
       " 'titled_person']"
      ]
     },
     "execution_count": 52,
     "metadata": {},
     "output_type": "execute_result"
    }
   ],
   "source": [
    "txt = \"\"\"Cleopatra wasn’t actually Egyptian! \n",
    "         As far as historians can tell, Egypt’s \n",
    "         famous femme fatal was actually Greek!. \n",
    "         She was a descendant of Alexander the Great’s\n",
    "         Macedonian general Ptolemy\"\"\"\n",
    "\n",
    "doc = nlp(txt)\n",
    "\n",
    "nlp.pipe_names"
   ]
  },
  {
   "cell_type": "markdown",
   "id": "f9ad7af0-d160-4d79-88ce-a19e318dbec5",
   "metadata": {
    "jp-MarkdownHeadingCollapsed": true,
    "tags": []
   },
   "source": [
    "### Setting custom extensions (metadata)"
   ]
  },
  {
   "cell_type": "markdown",
   "id": "17b36ae2-37cc-4d3e-b733-19a1c3104868",
   "metadata": {},
   "source": [
    "### Conclusion"
   ]
  }
 ],
 "metadata": {
  "kernelspec": {
   "display_name": "kaggle_comp",
   "language": "python",
   "name": "kaggle_comp"
  },
  "language_info": {
   "codemirror_mode": {
    "name": "ipython",
    "version": 3
   },
   "file_extension": ".py",
   "mimetype": "text/x-python",
   "name": "python",
   "nbconvert_exporter": "python",
   "pygments_lexer": "ipython3",
   "version": "3.9.7"
  }
 },
 "nbformat": 4,
 "nbformat_minor": 5
}
