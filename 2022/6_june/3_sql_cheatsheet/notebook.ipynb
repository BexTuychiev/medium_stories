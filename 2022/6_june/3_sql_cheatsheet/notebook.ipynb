{
 "cells": [
  {
   "cell_type": "markdown",
   "id": "b41e7a7b-a1ee-4730-9f11-e905b32ac422",
   "metadata": {},
   "source": [
    "# SETUP"
   ]
  },
  {
   "cell_type": "code",
   "execution_count": 7,
   "id": "ed2479c3-3309-4594-b786-1e7629338647",
   "metadata": {},
   "outputs": [],
   "source": [
    "%sql sqlite:///data/sample.db"
   ]
  },
  {
   "cell_type": "code",
   "execution_count": 10,
   "id": "cc81fe41-4bb4-4b1c-8626-407ef60b398d",
   "metadata": {},
   "outputs": [
    {
     "name": "stdout",
     "output_type": "stream",
     "text": [
      " * sqlite:///data/sample.db\n",
      "Done.\n",
      "Done.\n"
     ]
    },
    {
     "data": {
      "text/plain": [
       "[]"
      ]
     },
     "execution_count": 10,
     "metadata": {},
     "output_type": "execute_result"
    }
   ],
   "source": [
    "%%sql\n",
    "\n",
    "CREATE TABLE artist (artist_id, name);\n",
    "CREATE TABLE album (album_id, title, artist_id);"
   ]
  },
  {
   "cell_type": "code",
   "execution_count": 13,
   "id": "52b37d8e-6851-438e-b86e-68bea0d0ed55",
   "metadata": {},
   "outputs": [
    {
     "name": "stdout",
     "output_type": "stream",
     "text": [
      " * sqlite:///data/sample.db\n",
      "1 rows affected.\n",
      "1 rows affected.\n",
      "1 rows affected.\n"
     ]
    },
    {
     "data": {
      "text/plain": [
       "[]"
      ]
     },
     "execution_count": 13,
     "metadata": {},
     "output_type": "execute_result"
    }
   ],
   "source": [
    "%%sql \n",
    "\n",
    "INSERT INTO artist VALUES (1, \"AC/DC\");\n",
    "INSERT INTO artist VALUES (2, \"Aerosmith\");\n",
    "INSERT INTO artist VALUES (3, \"Alanis Morissette\");"
   ]
  },
  {
   "cell_type": "code",
   "execution_count": 16,
   "id": "f3ee5fb8-9d4b-47ca-92e4-58f788c8f02a",
   "metadata": {},
   "outputs": [
    {
     "name": "stdout",
     "output_type": "stream",
     "text": [
      " * sqlite:///data/sample.db\n",
      "1 rows affected.\n",
      "1 rows affected.\n",
      "1 rows affected.\n",
      "1 rows affected.\n",
      "1 rows affected.\n"
     ]
    },
    {
     "data": {
      "text/plain": [
       "[]"
      ]
     },
     "execution_count": 16,
     "metadata": {},
     "output_type": "execute_result"
    }
   ],
   "source": [
    "%%sql \n",
    "\n",
    "INSERT INTO album VALUES (1, \"For those who rock\", 1);\n",
    "INSERT INTO album VALUES (2, \"Balls to the wall\", 2);\n",
    "INSERT INTO album VALUES (3, \"Restless and wild\", 2);\n",
    "INSERT INTO album VALUES (4, \"Let there be rock\", 1);\n",
    "INSERT INTO album VALUES (5, \"Rumours\", 6);"
   ]
  },
  {
   "cell_type": "code",
   "execution_count": 22,
   "id": "2484cc9b-1deb-49b2-a29a-05f3a332404f",
   "metadata": {},
   "outputs": [
    {
     "name": "stdout",
     "output_type": "stream",
     "text": [
      " * sqlite:///data/sample.db\n",
      "Done.\n"
     ]
    },
    {
     "data": {
      "text/html": [
       "<table>\n",
       "    <tr>\n",
       "        <th>artist_id</th>\n",
       "        <th>name</th>\n",
       "    </tr>\n",
       "    <tr>\n",
       "        <td>1</td>\n",
       "        <td>AC/DC</td>\n",
       "    </tr>\n",
       "    <tr>\n",
       "        <td>2</td>\n",
       "        <td>Aerosmith</td>\n",
       "    </tr>\n",
       "    <tr>\n",
       "        <td>3</td>\n",
       "        <td>Alanis Morissette</td>\n",
       "    </tr>\n",
       "</table>"
      ],
      "text/plain": [
       "[(1, 'AC/DC'), (2, 'Aerosmith'), (3, 'Alanis Morissette')]"
      ]
     },
     "execution_count": 22,
     "metadata": {},
     "output_type": "execute_result"
    }
   ],
   "source": [
    "%sql select * from artist"
   ]
  },
  {
   "cell_type": "code",
   "execution_count": 23,
   "id": "497d53f1-3932-419d-8c1b-7358371cc342",
   "metadata": {},
   "outputs": [
    {
     "name": "stdout",
     "output_type": "stream",
     "text": [
      " * sqlite:///data/sample.db\n",
      "Done.\n"
     ]
    },
    {
     "data": {
      "text/html": [
       "<table>\n",
       "    <tr>\n",
       "        <th>album_id</th>\n",
       "        <th>title</th>\n",
       "        <th>artist_id</th>\n",
       "    </tr>\n",
       "    <tr>\n",
       "        <td>1</td>\n",
       "        <td>For those who rock</td>\n",
       "        <td>1</td>\n",
       "    </tr>\n",
       "    <tr>\n",
       "        <td>2</td>\n",
       "        <td>Balls to the wall</td>\n",
       "        <td>2</td>\n",
       "    </tr>\n",
       "    <tr>\n",
       "        <td>3</td>\n",
       "        <td>Restless and wild</td>\n",
       "        <td>2</td>\n",
       "    </tr>\n",
       "    <tr>\n",
       "        <td>4</td>\n",
       "        <td>Let there be rock</td>\n",
       "        <td>1</td>\n",
       "    </tr>\n",
       "    <tr>\n",
       "        <td>5</td>\n",
       "        <td>Rumours</td>\n",
       "        <td>6</td>\n",
       "    </tr>\n",
       "</table>"
      ],
      "text/plain": [
       "[(1, 'For those who rock', 1),\n",
       " (2, 'Balls to the wall', 2),\n",
       " (3, 'Restless and wild', 2),\n",
       " (4, 'Let there be rock', 1),\n",
       " (5, 'Rumours', 6)]"
      ]
     },
     "execution_count": 23,
     "metadata": {},
     "output_type": "execute_result"
    }
   ],
   "source": [
    "%sql select * from album"
   ]
  },
  {
   "cell_type": "markdown",
   "id": "375e3c96-4bb6-47f5-b46a-34535eb7b230",
   "metadata": {},
   "source": [
    "# INNER JOIN"
   ]
  },
  {
   "cell_type": "code",
   "execution_count": 41,
   "id": "e9996ac9-0d8c-486b-b9b9-21222d5ec1ef",
   "metadata": {},
   "outputs": [
    {
     "name": "stdout",
     "output_type": "stream",
     "text": [
      " * sqlite:///data/sample.db\n",
      "Done.\n"
     ]
    },
    {
     "data": {
      "text/html": [
       "<table>\n",
       "    <tr>\n",
       "        <th>artist_id</th>\n",
       "        <th>name</th>\n",
       "        <th>album_id</th>\n",
       "        <th>title</th>\n",
       "        <th>artist_id_1</th>\n",
       "    </tr>\n",
       "    <tr>\n",
       "        <td>1</td>\n",
       "        <td>AC/DC</td>\n",
       "        <td>1</td>\n",
       "        <td>For those who rock</td>\n",
       "        <td>1</td>\n",
       "    </tr>\n",
       "    <tr>\n",
       "        <td>1</td>\n",
       "        <td>AC/DC</td>\n",
       "        <td>4</td>\n",
       "        <td>Let there be rock</td>\n",
       "        <td>1</td>\n",
       "    </tr>\n",
       "    <tr>\n",
       "        <td>2</td>\n",
       "        <td>Aerosmith</td>\n",
       "        <td>2</td>\n",
       "        <td>Balls to the wall</td>\n",
       "        <td>2</td>\n",
       "    </tr>\n",
       "    <tr>\n",
       "        <td>2</td>\n",
       "        <td>Aerosmith</td>\n",
       "        <td>3</td>\n",
       "        <td>Restless and wild</td>\n",
       "        <td>2</td>\n",
       "    </tr>\n",
       "</table>"
      ],
      "text/plain": [
       "[(1, 'AC/DC', 1, 'For those who rock', 1),\n",
       " (1, 'AC/DC', 4, 'Let there be rock', 1),\n",
       " (2, 'Aerosmith', 2, 'Balls to the wall', 2),\n",
       " (2, 'Aerosmith', 3, 'Restless and wild', 2)]"
      ]
     },
     "execution_count": 41,
     "metadata": {},
     "output_type": "execute_result"
    }
   ],
   "source": [
    "%%sql SELECT * FROM artist as at\n",
    "INNER JOIN album as al\n",
    "ON at.artist_id = al.artist_id;"
   ]
  },
  {
   "cell_type": "code",
   "execution_count": 39,
   "id": "13b1d5ae-1d8c-4995-8b06-46ff72ed20f3",
   "metadata": {},
   "outputs": [],
   "source": [
    "table.DataFrame().to_csv(\"data/inner_join.csv\", index=False)"
   ]
  },
  {
   "cell_type": "code",
   "execution_count": 31,
   "id": "7860a1af-c63f-477c-be0e-b283a6ed79fd",
   "metadata": {},
   "outputs": [
    {
     "name": "stdout",
     "output_type": "stream",
     "text": [
      " * sqlite:///data/sample.db\n",
      "Done.\n"
     ]
    },
    {
     "data": {
      "text/html": [
       "<table>\n",
       "    <tr>\n",
       "        <th>artist_id</th>\n",
       "        <th>name</th>\n",
       "        <th>album_id</th>\n",
       "        <th>title</th>\n",
       "    </tr>\n",
       "    <tr>\n",
       "        <td>1</td>\n",
       "        <td>AC/DC</td>\n",
       "        <td>1</td>\n",
       "        <td>For those who rock</td>\n",
       "    </tr>\n",
       "    <tr>\n",
       "        <td>1</td>\n",
       "        <td>AC/DC</td>\n",
       "        <td>4</td>\n",
       "        <td>Let there be rock</td>\n",
       "    </tr>\n",
       "    <tr>\n",
       "        <td>2</td>\n",
       "        <td>Aerosmith</td>\n",
       "        <td>2</td>\n",
       "        <td>Balls to the wall</td>\n",
       "    </tr>\n",
       "    <tr>\n",
       "        <td>2</td>\n",
       "        <td>Aerosmith</td>\n",
       "        <td>3</td>\n",
       "        <td>Restless and wild</td>\n",
       "    </tr>\n",
       "</table>"
      ],
      "text/plain": [
       "[(1, 'AC/DC', 1, 'For those who rock'),\n",
       " (1, 'AC/DC', 4, 'Let there be rock'),\n",
       " (2, 'Aerosmith', 2, 'Balls to the wall'),\n",
       " (2, 'Aerosmith', 3, 'Restless and wild')]"
      ]
     },
     "execution_count": 31,
     "metadata": {},
     "output_type": "execute_result"
    }
   ],
   "source": [
    "%%sql\n",
    "\n",
    "SELECT * FROM artist as at\n",
    "INNER JOIN album as al\n",
    "USING (artist_id)"
   ]
  },
  {
   "cell_type": "markdown",
   "id": "f6a31c17-46eb-4905-b4c7-2d207f30a1f7",
   "metadata": {},
   "source": [
    "# SELF JOIN"
   ]
  },
  {
   "cell_type": "code",
   "execution_count": 57,
   "id": "9b1c1ae0-6514-4a9f-b383-16fa91372613",
   "metadata": {},
   "outputs": [
    {
     "name": "stdout",
     "output_type": "stream",
     "text": [
      " * sqlite:///data/sample.db\n",
      "Done.\n"
     ]
    },
    {
     "data": {
      "text/html": [
       "<table>\n",
       "    <tr>\n",
       "        <th>title</th>\n",
       "        <th>artist_id</th>\n",
       "        <th>album_id</th>\n",
       "    </tr>\n",
       "    <tr>\n",
       "        <td>For those who rock</td>\n",
       "        <td>1</td>\n",
       "        <td>1</td>\n",
       "    </tr>\n",
       "    <tr>\n",
       "        <td>For those who rock</td>\n",
       "        <td>1</td>\n",
       "        <td>1</td>\n",
       "    </tr>\n",
       "    <tr>\n",
       "        <td>Balls to the wall</td>\n",
       "        <td>2</td>\n",
       "        <td>2</td>\n",
       "    </tr>\n",
       "    <tr>\n",
       "        <td>Balls to the wall</td>\n",
       "        <td>2</td>\n",
       "        <td>2</td>\n",
       "    </tr>\n",
       "    <tr>\n",
       "        <td>Restless and wild</td>\n",
       "        <td>2</td>\n",
       "        <td>3</td>\n",
       "    </tr>\n",
       "    <tr>\n",
       "        <td>Restless and wild</td>\n",
       "        <td>2</td>\n",
       "        <td>3</td>\n",
       "    </tr>\n",
       "    <tr>\n",
       "        <td>Let there be rock</td>\n",
       "        <td>1</td>\n",
       "        <td>4</td>\n",
       "    </tr>\n",
       "    <tr>\n",
       "        <td>Let there be rock</td>\n",
       "        <td>1</td>\n",
       "        <td>4</td>\n",
       "    </tr>\n",
       "    <tr>\n",
       "        <td>Rumours</td>\n",
       "        <td>6</td>\n",
       "        <td>5</td>\n",
       "    </tr>\n",
       "</table>"
      ],
      "text/plain": [
       "[('For those who rock', 1, 1),\n",
       " ('For those who rock', 1, 1),\n",
       " ('Balls to the wall', 2, 2),\n",
       " ('Balls to the wall', 2, 2),\n",
       " ('Restless and wild', 2, 3),\n",
       " ('Restless and wild', 2, 3),\n",
       " ('Let there be rock', 1, 4),\n",
       " ('Let there be rock', 1, 4),\n",
       " ('Rumours', 6, 5)]"
      ]
     },
     "execution_count": 57,
     "metadata": {},
     "output_type": "execute_result"
    }
   ],
   "source": [
    "%%sql\n",
    "\n",
    "SELECT a1.title, a2.artist_id, a1.album_id\n",
    "FROM album a1\n",
    "JOIN album a2 \n",
    "ON a1.artist_id = a2.artist_id;"
   ]
  },
  {
   "cell_type": "markdown",
   "id": "cfede933-e997-42cc-9db3-8f5d1dd58355",
   "metadata": {},
   "source": [
    "# LEFT JOIN"
   ]
  },
  {
   "cell_type": "code",
   "execution_count": 60,
   "id": "bd503b3d-5b9a-49e7-b639-8742b6165ca7",
   "metadata": {},
   "outputs": [
    {
     "name": "stdout",
     "output_type": "stream",
     "text": [
      " * sqlite:///data/sample.db\n",
      "Done.\n"
     ]
    },
    {
     "data": {
      "text/html": [
       "<table>\n",
       "    <tr>\n",
       "        <th>artist_id</th>\n",
       "        <th>name</th>\n",
       "        <th>album_id</th>\n",
       "        <th>title</th>\n",
       "        <th>artist_id_1</th>\n",
       "    </tr>\n",
       "    <tr>\n",
       "        <td>1</td>\n",
       "        <td>AC/DC</td>\n",
       "        <td>1</td>\n",
       "        <td>For those who rock</td>\n",
       "        <td>1</td>\n",
       "    </tr>\n",
       "    <tr>\n",
       "        <td>1</td>\n",
       "        <td>AC/DC</td>\n",
       "        <td>4</td>\n",
       "        <td>Let there be rock</td>\n",
       "        <td>1</td>\n",
       "    </tr>\n",
       "    <tr>\n",
       "        <td>2</td>\n",
       "        <td>Aerosmith</td>\n",
       "        <td>2</td>\n",
       "        <td>Balls to the wall</td>\n",
       "        <td>2</td>\n",
       "    </tr>\n",
       "    <tr>\n",
       "        <td>2</td>\n",
       "        <td>Aerosmith</td>\n",
       "        <td>3</td>\n",
       "        <td>Restless and wild</td>\n",
       "        <td>2</td>\n",
       "    </tr>\n",
       "    <tr>\n",
       "        <td>3</td>\n",
       "        <td>Alanis Morissette</td>\n",
       "        <td>None</td>\n",
       "        <td>None</td>\n",
       "        <td>None</td>\n",
       "    </tr>\n",
       "</table>"
      ],
      "text/plain": [
       "[(1, 'AC/DC', 1, 'For those who rock', 1),\n",
       " (1, 'AC/DC', 4, 'Let there be rock', 1),\n",
       " (2, 'Aerosmith', 2, 'Balls to the wall', 2),\n",
       " (2, 'Aerosmith', 3, 'Restless and wild', 2),\n",
       " (3, 'Alanis Morissette', None, None, None)]"
      ]
     },
     "execution_count": 60,
     "metadata": {},
     "output_type": "execute_result"
    }
   ],
   "source": [
    "%%sql\n",
    "\n",
    "SELECT *\n",
    "FROM artist at\n",
    "LEFT JOIN album al\n",
    "ON at.artist_id = al.artist_id;"
   ]
  },
  {
   "cell_type": "code",
   "execution_count": 61,
   "id": "081a3dc9-8fa5-4166-9bc7-6ef2599a2693",
   "metadata": {},
   "outputs": [],
   "source": [
    "table = _"
   ]
  },
  {
   "cell_type": "code",
   "execution_count": 64,
   "id": "8bd743c2-e3ef-40de-bc45-2e18f87e1bcf",
   "metadata": {},
   "outputs": [],
   "source": [
    "table.DataFrame().to_csv(\"data/left_join.csv\", index=False)"
   ]
  },
  {
   "cell_type": "markdown",
   "id": "e796235f-f386-4b7b-a108-4b69df6da576",
   "metadata": {},
   "source": [
    "# RIGHT JOIN"
   ]
  },
  {
   "cell_type": "code",
   "execution_count": 66,
   "id": "d8a38c74-c34a-433c-8912-1ba81006d97b",
   "metadata": {},
   "outputs": [
    {
     "name": "stdout",
     "output_type": "stream",
     "text": [
      " * sqlite:///data/sample.db\n",
      "Done.\n"
     ]
    },
    {
     "data": {
      "text/html": [
       "<table>\n",
       "    <tr>\n",
       "        <th>album_id</th>\n",
       "        <th>title</th>\n",
       "        <th>artist_id</th>\n",
       "        <th>artist_id_1</th>\n",
       "        <th>name</th>\n",
       "    </tr>\n",
       "    <tr>\n",
       "        <td>1</td>\n",
       "        <td>For those who rock</td>\n",
       "        <td>1</td>\n",
       "        <td>1</td>\n",
       "        <td>AC/DC</td>\n",
       "    </tr>\n",
       "    <tr>\n",
       "        <td>2</td>\n",
       "        <td>Balls to the wall</td>\n",
       "        <td>2</td>\n",
       "        <td>2</td>\n",
       "        <td>Aerosmith</td>\n",
       "    </tr>\n",
       "    <tr>\n",
       "        <td>3</td>\n",
       "        <td>Restless and wild</td>\n",
       "        <td>2</td>\n",
       "        <td>2</td>\n",
       "        <td>Aerosmith</td>\n",
       "    </tr>\n",
       "    <tr>\n",
       "        <td>4</td>\n",
       "        <td>Let there be rock</td>\n",
       "        <td>1</td>\n",
       "        <td>1</td>\n",
       "        <td>AC/DC</td>\n",
       "    </tr>\n",
       "    <tr>\n",
       "        <td>5</td>\n",
       "        <td>Rumours</td>\n",
       "        <td>6</td>\n",
       "        <td>None</td>\n",
       "        <td>None</td>\n",
       "    </tr>\n",
       "</table>"
      ],
      "text/plain": [
       "[(1, 'For those who rock', 1, 1, 'AC/DC'),\n",
       " (2, 'Balls to the wall', 2, 2, 'Aerosmith'),\n",
       " (3, 'Restless and wild', 2, 2, 'Aerosmith'),\n",
       " (4, 'Let there be rock', 1, 1, 'AC/DC'),\n",
       " (5, 'Rumours', 6, None, None)]"
      ]
     },
     "execution_count": 66,
     "metadata": {},
     "output_type": "execute_result"
    }
   ],
   "source": [
    "%%sql\n",
    "\n",
    "SELECT *\n",
    "FROM album al\n",
    "LEFT JOIN artist at\n",
    "ON al.artist_id = at.artist_id;"
   ]
  },
  {
   "cell_type": "code",
   "execution_count": 67,
   "id": "f237f556-30e9-4ef4-b785-5862ab6b86bd",
   "metadata": {},
   "outputs": [],
   "source": [
    "table = _\n",
    "table.DataFrame().to_csv(\"data/right_join.csv\", index=False)"
   ]
  },
  {
   "cell_type": "markdown",
   "id": "22577c34-2339-45ca-b7d8-dd8ffe9efadf",
   "metadata": {},
   "source": [
    "## FULL JOIN"
   ]
  },
  {
   "cell_type": "code",
   "execution_count": 68,
   "id": "08a98591-435c-4c0a-a59b-700049793fdc",
   "metadata": {},
   "outputs": [
    {
     "name": "stdout",
     "output_type": "stream",
     "text": [
      " * sqlite:///data/sample.db\n",
      "Done.\n"
     ]
    },
    {
     "data": {
      "text/html": [
       "<table>\n",
       "    <tr>\n",
       "        <th>artist_id</th>\n",
       "        <th>name</th>\n",
       "        <th>album_id</th>\n",
       "        <th>title</th>\n",
       "        <th>artist_id_1</th>\n",
       "    </tr>\n",
       "    <tr>\n",
       "        <td>1</td>\n",
       "        <td>AC/DC</td>\n",
       "        <td>1</td>\n",
       "        <td>For those who rock</td>\n",
       "        <td>1</td>\n",
       "    </tr>\n",
       "    <tr>\n",
       "        <td>1</td>\n",
       "        <td>AC/DC</td>\n",
       "        <td>4</td>\n",
       "        <td>Let there be rock</td>\n",
       "        <td>1</td>\n",
       "    </tr>\n",
       "    <tr>\n",
       "        <td>2</td>\n",
       "        <td>Aerosmith</td>\n",
       "        <td>2</td>\n",
       "        <td>Balls to the wall</td>\n",
       "        <td>2</td>\n",
       "    </tr>\n",
       "    <tr>\n",
       "        <td>2</td>\n",
       "        <td>Aerosmith</td>\n",
       "        <td>3</td>\n",
       "        <td>Restless and wild</td>\n",
       "        <td>2</td>\n",
       "    </tr>\n",
       "    <tr>\n",
       "        <td>3</td>\n",
       "        <td>Alanis Morissette</td>\n",
       "        <td>None</td>\n",
       "        <td>None</td>\n",
       "        <td>None</td>\n",
       "    </tr>\n",
       "    <tr>\n",
       "        <td>5</td>\n",
       "        <td>Rumours</td>\n",
       "        <td>6</td>\n",
       "        <td>None</td>\n",
       "        <td>None</td>\n",
       "    </tr>\n",
       "</table>"
      ],
      "text/plain": [
       "[(1, 'AC/DC', 1, 'For those who rock', 1),\n",
       " (1, 'AC/DC', 4, 'Let there be rock', 1),\n",
       " (2, 'Aerosmith', 2, 'Balls to the wall', 2),\n",
       " (2, 'Aerosmith', 3, 'Restless and wild', 2),\n",
       " (3, 'Alanis Morissette', None, None, None),\n",
       " (5, 'Rumours', 6, None, None)]"
      ]
     },
     "execution_count": 68,
     "metadata": {},
     "output_type": "execute_result"
    }
   ],
   "source": [
    "%%sql\n",
    "\n",
    "SELECT *\n",
    "FROM artist at\n",
    "LEFT JOIN album al\n",
    "ON at.artist_id = al.artist_id\n",
    "UNION ALL\n",
    "SELECT *\n",
    "FROM album al\n",
    "LEFT JOIN artist at\n",
    "ON al.artist_id = at.artist_id\n",
    "WHERE at.name IS NULL"
   ]
  },
  {
   "cell_type": "markdown",
   "id": "b2f45d5d-b3e8-4f95-8130-55db347d4a2c",
   "metadata": {},
   "source": [
    "```sql\n",
    "SELECT *\n",
    "FROM artist at\n",
    "FULL OUTER JOIN album al\n",
    "ON at.artist_id = al.artists_id\n",
    "```"
   ]
  },
  {
   "cell_type": "code",
   "execution_count": 69,
   "id": "a62a104d-b9f5-4b4d-93f7-0366dcf358c5",
   "metadata": {},
   "outputs": [],
   "source": [
    "table = _\n",
    "table.DataFrame().to_csv(\"data/full_join.csv\", index=False)"
   ]
  },
  {
   "cell_type": "markdown",
   "id": "5a9fdca0-2800-42ff-b3b3-d56812331df3",
   "metadata": {},
   "source": [
    "## CROSS JOIN"
   ]
  },
  {
   "cell_type": "code",
   "execution_count": 70,
   "id": "a71c0209-d1e2-465a-bbfd-5dc7644a9719",
   "metadata": {},
   "outputs": [
    {
     "name": "stdout",
     "output_type": "stream",
     "text": [
      " * sqlite:///data/sample.db\n",
      "Done.\n"
     ]
    },
    {
     "data": {
      "text/html": [
       "<table>\n",
       "    <tr>\n",
       "        <th>artist_id</th>\n",
       "        <th>name</th>\n",
       "        <th>album_id</th>\n",
       "        <th>title</th>\n",
       "        <th>artist_id_1</th>\n",
       "    </tr>\n",
       "    <tr>\n",
       "        <td>1</td>\n",
       "        <td>AC/DC</td>\n",
       "        <td>1</td>\n",
       "        <td>For those who rock</td>\n",
       "        <td>1</td>\n",
       "    </tr>\n",
       "    <tr>\n",
       "        <td>1</td>\n",
       "        <td>AC/DC</td>\n",
       "        <td>2</td>\n",
       "        <td>Balls to the wall</td>\n",
       "        <td>2</td>\n",
       "    </tr>\n",
       "    <tr>\n",
       "        <td>1</td>\n",
       "        <td>AC/DC</td>\n",
       "        <td>3</td>\n",
       "        <td>Restless and wild</td>\n",
       "        <td>2</td>\n",
       "    </tr>\n",
       "    <tr>\n",
       "        <td>1</td>\n",
       "        <td>AC/DC</td>\n",
       "        <td>4</td>\n",
       "        <td>Let there be rock</td>\n",
       "        <td>1</td>\n",
       "    </tr>\n",
       "    <tr>\n",
       "        <td>1</td>\n",
       "        <td>AC/DC</td>\n",
       "        <td>5</td>\n",
       "        <td>Rumours</td>\n",
       "        <td>6</td>\n",
       "    </tr>\n",
       "    <tr>\n",
       "        <td>2</td>\n",
       "        <td>Aerosmith</td>\n",
       "        <td>1</td>\n",
       "        <td>For those who rock</td>\n",
       "        <td>1</td>\n",
       "    </tr>\n",
       "    <tr>\n",
       "        <td>2</td>\n",
       "        <td>Aerosmith</td>\n",
       "        <td>2</td>\n",
       "        <td>Balls to the wall</td>\n",
       "        <td>2</td>\n",
       "    </tr>\n",
       "    <tr>\n",
       "        <td>2</td>\n",
       "        <td>Aerosmith</td>\n",
       "        <td>3</td>\n",
       "        <td>Restless and wild</td>\n",
       "        <td>2</td>\n",
       "    </tr>\n",
       "    <tr>\n",
       "        <td>2</td>\n",
       "        <td>Aerosmith</td>\n",
       "        <td>4</td>\n",
       "        <td>Let there be rock</td>\n",
       "        <td>1</td>\n",
       "    </tr>\n",
       "    <tr>\n",
       "        <td>2</td>\n",
       "        <td>Aerosmith</td>\n",
       "        <td>5</td>\n",
       "        <td>Rumours</td>\n",
       "        <td>6</td>\n",
       "    </tr>\n",
       "    <tr>\n",
       "        <td>3</td>\n",
       "        <td>Alanis Morissette</td>\n",
       "        <td>1</td>\n",
       "        <td>For those who rock</td>\n",
       "        <td>1</td>\n",
       "    </tr>\n",
       "    <tr>\n",
       "        <td>3</td>\n",
       "        <td>Alanis Morissette</td>\n",
       "        <td>2</td>\n",
       "        <td>Balls to the wall</td>\n",
       "        <td>2</td>\n",
       "    </tr>\n",
       "    <tr>\n",
       "        <td>3</td>\n",
       "        <td>Alanis Morissette</td>\n",
       "        <td>3</td>\n",
       "        <td>Restless and wild</td>\n",
       "        <td>2</td>\n",
       "    </tr>\n",
       "    <tr>\n",
       "        <td>3</td>\n",
       "        <td>Alanis Morissette</td>\n",
       "        <td>4</td>\n",
       "        <td>Let there be rock</td>\n",
       "        <td>1</td>\n",
       "    </tr>\n",
       "    <tr>\n",
       "        <td>3</td>\n",
       "        <td>Alanis Morissette</td>\n",
       "        <td>5</td>\n",
       "        <td>Rumours</td>\n",
       "        <td>6</td>\n",
       "    </tr>\n",
       "</table>"
      ],
      "text/plain": [
       "[(1, 'AC/DC', 1, 'For those who rock', 1),\n",
       " (1, 'AC/DC', 2, 'Balls to the wall', 2),\n",
       " (1, 'AC/DC', 3, 'Restless and wild', 2),\n",
       " (1, 'AC/DC', 4, 'Let there be rock', 1),\n",
       " (1, 'AC/DC', 5, 'Rumours', 6),\n",
       " (2, 'Aerosmith', 1, 'For those who rock', 1),\n",
       " (2, 'Aerosmith', 2, 'Balls to the wall', 2),\n",
       " (2, 'Aerosmith', 3, 'Restless and wild', 2),\n",
       " (2, 'Aerosmith', 4, 'Let there be rock', 1),\n",
       " (2, 'Aerosmith', 5, 'Rumours', 6),\n",
       " (3, 'Alanis Morissette', 1, 'For those who rock', 1),\n",
       " (3, 'Alanis Morissette', 2, 'Balls to the wall', 2),\n",
       " (3, 'Alanis Morissette', 3, 'Restless and wild', 2),\n",
       " (3, 'Alanis Morissette', 4, 'Let there be rock', 1),\n",
       " (3, 'Alanis Morissette', 5, 'Rumours', 6)]"
      ]
     },
     "execution_count": 70,
     "metadata": {},
     "output_type": "execute_result"
    }
   ],
   "source": [
    "%%sql\n",
    "\n",
    "SELECT *\n",
    "FROM artist\n",
    "CROSS JOIN album"
   ]
  },
  {
   "cell_type": "code",
   "execution_count": 71,
   "id": "1f46a8a5-5605-4559-8a0d-d60894e2ba12",
   "metadata": {},
   "outputs": [],
   "source": [
    "table = _\n",
    "table.DataFrame().to_csv(\"data/cross_join.csv\", index=False)"
   ]
  },
  {
   "cell_type": "markdown",
   "id": "2f86b459-0127-47ab-a311-242aaa6bdbc1",
   "metadata": {},
   "source": [
    "## UNION"
   ]
  },
  {
   "cell_type": "code",
   "execution_count": 72,
   "id": "8c9d7d2b-703b-4c41-aaa6-c2b1f105ce6b",
   "metadata": {},
   "outputs": [
    {
     "name": "stdout",
     "output_type": "stream",
     "text": [
      " * sqlite:///data/sample.db\n",
      "Done.\n"
     ]
    },
    {
     "data": {
      "text/html": [
       "<table>\n",
       "    <tr>\n",
       "        <th>artist_id</th>\n",
       "        <th>name</th>\n",
       "    </tr>\n",
       "    <tr>\n",
       "        <td>1</td>\n",
       "        <td>AC/DC</td>\n",
       "    </tr>\n",
       "    <tr>\n",
       "        <td>2</td>\n",
       "        <td>Aerosmith</td>\n",
       "    </tr>\n",
       "    <tr>\n",
       "        <td>3</td>\n",
       "        <td>Alanis Morissette</td>\n",
       "    </tr>\n",
       "</table>"
      ],
      "text/plain": [
       "[(1, 'AC/DC'), (2, 'Aerosmith'), (3, 'Alanis Morissette')]"
      ]
     },
     "execution_count": 72,
     "metadata": {},
     "output_type": "execute_result"
    }
   ],
   "source": [
    "%sql select * from artist"
   ]
  },
  {
   "cell_type": "code",
   "execution_count": 74,
   "id": "f4163ef3-0619-4407-aa86-e81934e177f7",
   "metadata": {},
   "outputs": [
    {
     "name": "stdout",
     "output_type": "stream",
     "text": [
      " * sqlite:///data/sample.db\n",
      "Done.\n"
     ]
    },
    {
     "data": {
      "text/html": [
       "<table>\n",
       "    <tr>\n",
       "        <th>album_id</th>\n",
       "        <th>title</th>\n",
       "        <th>artist_id</th>\n",
       "    </tr>\n",
       "    <tr>\n",
       "        <td>1</td>\n",
       "        <td>For those who rock</td>\n",
       "        <td>1</td>\n",
       "    </tr>\n",
       "    <tr>\n",
       "        <td>2</td>\n",
       "        <td>Balls to the wall</td>\n",
       "        <td>2</td>\n",
       "    </tr>\n",
       "    <tr>\n",
       "        <td>3</td>\n",
       "        <td>Restless and wild</td>\n",
       "        <td>2</td>\n",
       "    </tr>\n",
       "    <tr>\n",
       "        <td>4</td>\n",
       "        <td>Let there be rock</td>\n",
       "        <td>1</td>\n",
       "    </tr>\n",
       "    <tr>\n",
       "        <td>5</td>\n",
       "        <td>Rumours</td>\n",
       "        <td>6</td>\n",
       "    </tr>\n",
       "</table>"
      ],
      "text/plain": [
       "[(1, 'For those who rock', 1),\n",
       " (2, 'Balls to the wall', 2),\n",
       " (3, 'Restless and wild', 2),\n",
       " (4, 'Let there be rock', 1),\n",
       " (5, 'Rumours', 6)]"
      ]
     },
     "execution_count": 74,
     "metadata": {},
     "output_type": "execute_result"
    }
   ],
   "source": [
    "%sql select * from album"
   ]
  },
  {
   "cell_type": "code",
   "execution_count": 77,
   "id": "ab75ccfd-aaa4-4d6d-86c6-476d917349ea",
   "metadata": {},
   "outputs": [
    {
     "name": "stdout",
     "output_type": "stream",
     "text": [
      " * sqlite:///data/sample.db\n",
      "Done.\n"
     ]
    },
    {
     "data": {
      "text/html": [
       "<table>\n",
       "    <tr>\n",
       "        <th>artist_id</th>\n",
       "        <th>name</th>\n",
       "        <th>album_id</th>\n",
       "        <th>title</th>\n",
       "        <th>artist_id_1</th>\n",
       "    </tr>\n",
       "    <tr>\n",
       "        <td>1</td>\n",
       "        <td>AC/DC</td>\n",
       "        <td>1</td>\n",
       "        <td>For those who rock</td>\n",
       "        <td>1</td>\n",
       "    </tr>\n",
       "    <tr>\n",
       "        <td>1</td>\n",
       "        <td>AC/DC</td>\n",
       "        <td>4</td>\n",
       "        <td>Let there be rock</td>\n",
       "        <td>1</td>\n",
       "    </tr>\n",
       "    <tr>\n",
       "        <td>1</td>\n",
       "        <td>For those who rock</td>\n",
       "        <td>1</td>\n",
       "        <td>1</td>\n",
       "        <td>AC/DC</td>\n",
       "    </tr>\n",
       "    <tr>\n",
       "        <td>2</td>\n",
       "        <td>Aerosmith</td>\n",
       "        <td>2</td>\n",
       "        <td>Balls to the wall</td>\n",
       "        <td>2</td>\n",
       "    </tr>\n",
       "    <tr>\n",
       "        <td>2</td>\n",
       "        <td>Aerosmith</td>\n",
       "        <td>3</td>\n",
       "        <td>Restless and wild</td>\n",
       "        <td>2</td>\n",
       "    </tr>\n",
       "    <tr>\n",
       "        <td>2</td>\n",
       "        <td>Balls to the wall</td>\n",
       "        <td>2</td>\n",
       "        <td>2</td>\n",
       "        <td>Aerosmith</td>\n",
       "    </tr>\n",
       "    <tr>\n",
       "        <td>3</td>\n",
       "        <td>Alanis Morissette</td>\n",
       "        <td>None</td>\n",
       "        <td>None</td>\n",
       "        <td>None</td>\n",
       "    </tr>\n",
       "    <tr>\n",
       "        <td>3</td>\n",
       "        <td>Restless and wild</td>\n",
       "        <td>2</td>\n",
       "        <td>2</td>\n",
       "        <td>Aerosmith</td>\n",
       "    </tr>\n",
       "    <tr>\n",
       "        <td>4</td>\n",
       "        <td>Let there be rock</td>\n",
       "        <td>1</td>\n",
       "        <td>1</td>\n",
       "        <td>AC/DC</td>\n",
       "    </tr>\n",
       "    <tr>\n",
       "        <td>5</td>\n",
       "        <td>Rumours</td>\n",
       "        <td>6</td>\n",
       "        <td>None</td>\n",
       "        <td>None</td>\n",
       "    </tr>\n",
       "</table>"
      ],
      "text/plain": [
       "[(1, 'AC/DC', 1, 'For those who rock', 1),\n",
       " (1, 'AC/DC', 4, 'Let there be rock', 1),\n",
       " (1, 'For those who rock', 1, 1, 'AC/DC'),\n",
       " (2, 'Aerosmith', 2, 'Balls to the wall', 2),\n",
       " (2, 'Aerosmith', 3, 'Restless and wild', 2),\n",
       " (2, 'Balls to the wall', 2, 2, 'Aerosmith'),\n",
       " (3, 'Alanis Morissette', None, None, None),\n",
       " (3, 'Restless and wild', 2, 2, 'Aerosmith'),\n",
       " (4, 'Let there be rock', 1, 1, 'AC/DC'),\n",
       " (5, 'Rumours', 6, None, None)]"
      ]
     },
     "execution_count": 77,
     "metadata": {},
     "output_type": "execute_result"
    }
   ],
   "source": [
    "%%sql\n",
    "\n",
    "SELECT *\n",
    "FROM artist at\n",
    "LEFT JOIN album al\n",
    "ON at.artist_id = al.artist_id\n",
    "\n",
    "UNION\n",
    "\n",
    "SELECT *\n",
    "FROM album al\n",
    "LEFT JOIN artist at\n",
    "ON al.artist_id = at.artist_id"
   ]
  },
  {
   "cell_type": "code",
   "execution_count": 78,
   "id": "cc58b70d-6442-49e1-8b5a-56dc846cfe8f",
   "metadata": {},
   "outputs": [],
   "source": [
    "table = _\n",
    "table.DataFrame().to_csv(\"data/union.csv\", index=False)"
   ]
  },
  {
   "cell_type": "markdown",
   "id": "856cf324-39ee-4f6b-86f7-ccd139f6ef41",
   "metadata": {},
   "source": [
    "## UNION ALL"
   ]
  },
  {
   "cell_type": "code",
   "execution_count": 81,
   "id": "7f3b28f4-8f0f-4f3b-8267-4929a02bc6e1",
   "metadata": {},
   "outputs": [
    {
     "name": "stdout",
     "output_type": "stream",
     "text": [
      " * sqlite:///data/sample.db\n",
      "Done.\n"
     ]
    },
    {
     "data": {
      "text/html": [
       "<table>\n",
       "    <tr>\n",
       "        <th>artist_id</th>\n",
       "        <th>name</th>\n",
       "        <th>album_id</th>\n",
       "        <th>title</th>\n",
       "        <th>artist_id_1</th>\n",
       "    </tr>\n",
       "    <tr>\n",
       "        <td>3</td>\n",
       "        <td>Alanis Morissette</td>\n",
       "        <td>None</td>\n",
       "        <td>None</td>\n",
       "        <td>None</td>\n",
       "    </tr>\n",
       "    <tr>\n",
       "        <td>5</td>\n",
       "        <td>Rumours</td>\n",
       "        <td>6</td>\n",
       "        <td>None</td>\n",
       "        <td>None</td>\n",
       "    </tr>\n",
       "</table>"
      ],
      "text/plain": [
       "[(3, 'Alanis Morissette', None, None, None), (5, 'Rumours', 6, None, None)]"
      ]
     },
     "execution_count": 81,
     "metadata": {},
     "output_type": "execute_result"
    }
   ],
   "source": [
    "%%sql\n",
    "\n",
    "SELECT *\n",
    "FROM artist at\n",
    "LEFT JOIN album al\n",
    "ON at.artist_id = al.artist_id\n",
    "WHERE al.album_id IS NULL\n",
    "\n",
    "UNION ALL\n",
    "\n",
    "SELECT *\n",
    "FROM album al\n",
    "LEFT JOIN artist at\n",
    "ON al.artist_id = at.artist_id\n",
    "WHERE at.name IS NULL"
   ]
  },
  {
   "cell_type": "code",
   "execution_count": 82,
   "id": "3c2d9cef-130e-4632-a207-00e988e308b8",
   "metadata": {},
   "outputs": [],
   "source": [
    "table = _\n",
    "table.DataFrame().to_csv(\"data/union_all.csv\", index=False)"
   ]
  },
  {
   "cell_type": "markdown",
   "id": "e476f02f-93dc-4547-9d1d-aabbdaa90c3d",
   "metadata": {},
   "source": [
    "## INTERSECT"
   ]
  },
  {
   "cell_type": "code",
   "execution_count": 92,
   "id": "07ce1b20-60f0-42da-9f4e-d6a793eccf5f",
   "metadata": {},
   "outputs": [
    {
     "name": "stdout",
     "output_type": "stream",
     "text": [
      " * sqlite:///data/sample.db\n",
      "Done.\n"
     ]
    },
    {
     "data": {
      "text/html": [
       "<table>\n",
       "    <tr>\n",
       "        <th>name</th>\n",
       "        <th>title</th>\n",
       "    </tr>\n",
       "    <tr>\n",
       "        <td>AC/DC</td>\n",
       "        <td>For those who rock</td>\n",
       "    </tr>\n",
       "    <tr>\n",
       "        <td>AC/DC</td>\n",
       "        <td>Let there be rock</td>\n",
       "    </tr>\n",
       "    <tr>\n",
       "        <td>Aerosmith</td>\n",
       "        <td>Balls to the wall</td>\n",
       "    </tr>\n",
       "    <tr>\n",
       "        <td>Aerosmith</td>\n",
       "        <td>Restless and wild</td>\n",
       "    </tr>\n",
       "</table>"
      ],
      "text/plain": [
       "[('AC/DC', 'For those who rock'),\n",
       " ('AC/DC', 'Let there be rock'),\n",
       " ('Aerosmith', 'Balls to the wall'),\n",
       " ('Aerosmith', 'Restless and wild')]"
      ]
     },
     "execution_count": 92,
     "metadata": {},
     "output_type": "execute_result"
    }
   ],
   "source": [
    "%%sql\n",
    "\n",
    "SELECT at.name, al.title\n",
    "FROM artist at\n",
    "JOIN album al\n",
    "ON at.artist_id = al.artist_id\n",
    "\n",
    "INTERSECT\n",
    "\n",
    "SELECT at.name, al.title\n",
    "FROM artist at\n",
    "LEFT JOIN album al\n",
    "ON at.artist_id = al.artist_id"
   ]
  },
  {
   "cell_type": "code",
   "execution_count": 93,
   "id": "2aac8cc9-9dda-4d18-b4e0-f60f1d49330a",
   "metadata": {},
   "outputs": [],
   "source": [
    "table = _\n",
    "table.DataFrame().to_csv(\"intersect.csv\", index=False)"
   ]
  },
  {
   "cell_type": "markdown",
   "id": "78db5dff-0667-408f-8a8e-a1cbb1f11af9",
   "metadata": {},
   "source": [
    "## EXCEPT"
   ]
  },
  {
   "cell_type": "code",
   "execution_count": 96,
   "id": "3cbbc7d1-0d57-4ab6-a855-e96a1040f2cb",
   "metadata": {},
   "outputs": [
    {
     "name": "stdout",
     "output_type": "stream",
     "text": [
      " * sqlite:///data/sample.db\n",
      "Done.\n"
     ]
    },
    {
     "data": {
      "text/html": [
       "<table>\n",
       "    <tr>\n",
       "        <th>name</th>\n",
       "        <th>title</th>\n",
       "    </tr>\n",
       "    <tr>\n",
       "        <td>Alanis Morissette</td>\n",
       "        <td>None</td>\n",
       "    </tr>\n",
       "</table>"
      ],
      "text/plain": [
       "[('Alanis Morissette', None)]"
      ]
     },
     "execution_count": 96,
     "metadata": {},
     "output_type": "execute_result"
    }
   ],
   "source": [
    "%%sql \n",
    "\n",
    "SELECT at.name, al.title\n",
    "FROM artist at\n",
    "LEFT JOIN album al\n",
    "ON at.artist_id = al.artist_id\n",
    "\n",
    "EXCEPT\n",
    "\n",
    "SELECT at.name, al.title\n",
    "FROM artist at\n",
    "JOIN album al\n",
    "ON at.artist_id = al.artist_id"
   ]
  },
  {
   "cell_type": "code",
   "execution_count": 97,
   "id": "2a11b14b-84f7-4bfc-8dad-808123c0baea",
   "metadata": {},
   "outputs": [],
   "source": [
    "table = _\n",
    "table.DataFrame().to_csv(\"except.csv\", index=False)"
   ]
  }
 ],
 "metadata": {
  "kernelspec": {
   "display_name": "articles",
   "language": "python",
   "name": "articles"
  },
  "language_info": {
   "codemirror_mode": {
    "name": "ipython",
    "version": 3
   },
   "file_extension": ".py",
   "mimetype": "text/x-python",
   "name": "python",
   "nbconvert_exporter": "python",
   "pygments_lexer": "ipython3",
   "version": "3.9.12"
  }
 },
 "nbformat": 4,
 "nbformat_minor": 5
}
