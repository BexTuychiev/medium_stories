{
 "cells": [
  {
   "cell_type": "markdown",
   "id": "4e7d8428-f302-4f1a-aebe-9479f19559c4",
   "metadata": {},
   "source": [
    "# Setup"
   ]
  },
  {
   "cell_type": "code",
   "execution_count": 1,
   "id": "8a42319e-9b56-42bb-9e69-da5d838903be",
   "metadata": {},
   "outputs": [
    {
     "name": "stdout",
     "output_type": "stream",
     "text": [
      "package 'dplyr' successfully unpacked and MD5 sums checked\n"
     ]
    },
    {
     "name": "stderr",
     "output_type": "stream",
     "text": [
      "Warning message:\n",
      "\"cannot remove prior installation of package 'dplyr'\"\n",
      "Warning message in file.copy(savedcopy, lib, recursive = TRUE):\n",
      "\"problem copying C:\\Users\\bex\\anaconda3\\envs\\articles\\Lib\\R\\library\\00LOCK\\dplyr\\libs\\x64\\dplyr.dll to C:\\Users\\bex\\anaconda3\\envs\\articles\\Lib\\R\\library\\dplyr\\libs\\x64\\dplyr.dll: Permission denied\"\n",
      "Warning message:\n",
      "\"restored 'dplyr'\"\n"
     ]
    },
    {
     "name": "stdout",
     "output_type": "stream",
     "text": [
      "\n",
      "The downloaded binary packages are in\n",
      "\tC:\\Users\\bex\\AppData\\Local\\Temp\\RtmpuC2pNV\\downloaded_packages\n"
     ]
    }
   ],
   "source": [
    "install.packages(\"dplyr\")"
   ]
  },
  {
   "cell_type": "code",
   "execution_count": 2,
   "id": "49f33421-b5bd-40a6-b96d-30f49d944258",
   "metadata": {},
   "outputs": [
    {
     "name": "stderr",
     "output_type": "stream",
     "text": [
      "\n",
      "Attaching package: 'dplyr'\n",
      "\n",
      "\n",
      "The following objects are masked from 'package:stats':\n",
      "\n",
      "    filter, lag\n",
      "\n",
      "\n",
      "The following objects are masked from 'package:base':\n",
      "\n",
      "    intersect, setdiff, setequal, union\n",
      "\n",
      "\n"
     ]
    }
   ],
   "source": [
    "library(dplyr)"
   ]
  },
  {
   "cell_type": "code",
   "execution_count": 3,
   "id": "c114219f-ea2e-44c7-bf8e-6fad5d8ae880",
   "metadata": {},
   "outputs": [
    {
     "name": "stderr",
     "output_type": "stream",
     "text": [
      "-- \u001b[1mAttaching packages\u001b[22m --------------------------------------- tidyverse 1.3.1 --\n",
      "\n",
      "\u001b[32mv\u001b[39m \u001b[34mggplot2\u001b[39m 3.3.6     \u001b[32mv\u001b[39m \u001b[34mpurrr  \u001b[39m 0.3.4\n",
      "\u001b[32mv\u001b[39m \u001b[34mtibble \u001b[39m 3.1.7     \u001b[32mv\u001b[39m \u001b[34mstringr\u001b[39m 1.4.0\n",
      "\u001b[32mv\u001b[39m \u001b[34mtidyr  \u001b[39m 1.2.0     \u001b[32mv\u001b[39m \u001b[34mforcats\u001b[39m 0.5.1\n",
      "\u001b[32mv\u001b[39m \u001b[34mreadr  \u001b[39m 2.1.2     \n",
      "\n",
      "-- \u001b[1mConflicts\u001b[22m ------------------------------------------ tidyverse_conflicts() --\n",
      "\u001b[31mx\u001b[39m \u001b[34mdplyr\u001b[39m::\u001b[32mfilter()\u001b[39m masks \u001b[34mstats\u001b[39m::filter()\n",
      "\u001b[31mx\u001b[39m \u001b[34mdplyr\u001b[39m::\u001b[32mlag()\u001b[39m    masks \u001b[34mstats\u001b[39m::lag()\n",
      "\n"
     ]
    }
   ],
   "source": [
    "library(tidyverse)"
   ]
  },
  {
   "cell_type": "code",
   "execution_count": 4,
   "id": "1d29b062-ebbd-4976-9ca5-b1010f4e0ab6",
   "metadata": {},
   "outputs": [
    {
     "name": "stderr",
     "output_type": "stream",
     "text": [
      "\u001b[1mRows: \u001b[22m\u001b[34m3\u001b[39m \u001b[1mColumns: \u001b[22m\u001b[34m5\u001b[39m\n",
      "\u001b[36m--\u001b[39m \u001b[1mColumn specification\u001b[22m \u001b[36m--------------------------------------------------------\u001b[39m\n",
      "\u001b[1mDelimiter:\u001b[22m \",\"\n",
      "\u001b[31mchr\u001b[39m (2): city, country\n",
      "\u001b[32mdbl\u001b[39m (3): listing_id, number_of_rooms, year_listed\n",
      "\n",
      "\u001b[36mi\u001b[39m Use `spec()` to retrieve the full column specification for this data.\n",
      "\u001b[36mi\u001b[39m Specify the column types or set `show_col_types = FALSE` to quiet this message.\n"
     ]
    }
   ],
   "source": [
    "airbnb_listings <- read_csv(\"data/listings.csv\")"
   ]
  },
  {
   "cell_type": "code",
   "execution_count": 5,
   "id": "4fcf5b90-2296-4d71-86b5-377d2bf64175",
   "metadata": {},
   "outputs": [
    {
     "name": "stderr",
     "output_type": "stream",
     "text": [
      "\u001b[1mRows: \u001b[22m\u001b[34m3\u001b[39m \u001b[1mColumns: \u001b[22m\u001b[34m4\u001b[39m\n",
      "\u001b[36m--\u001b[39m \u001b[1mColumn specification\u001b[22m \u001b[36m--------------------------------------------------------\u001b[39m\n",
      "\u001b[1mDelimiter:\u001b[22m \",\"\n",
      "\u001b[31mchr\u001b[39m (1): name\n",
      "\u001b[32mdbl\u001b[39m (3): host_id, listing_id, number_of_reviews\n",
      "\n",
      "\u001b[36mi\u001b[39m Use `spec()` to retrieve the full column specification for this data.\n",
      "\u001b[36mi\u001b[39m Specify the column types or set `show_col_types = FALSE` to quiet this message.\n"
     ]
    }
   ],
   "source": [
    "host_listings = read_csv(\"data/host.csv\")"
   ]
  },
  {
   "cell_type": "markdown",
   "id": "b7e574ba-7d5f-4a1b-9405-c9f4cc0b45e9",
   "metadata": {},
   "source": [
    "# Transforming data with dplyr"
   ]
  },
  {
   "cell_type": "markdown",
   "id": "a2e9a0be-3a38-4f12-822c-2f4a5e898b36",
   "metadata": {},
   "source": [
    "## Working with columns"
   ]
  },
  {
   "cell_type": "markdown",
   "id": "a23d548e-d1ce-49b4-a1d6-fd292f902039",
   "metadata": {},
   "source": [
    "#### Instructions: Please provide at least 5 functions covering working with columns\n",
    "\n",
    "- select() \n",
    "- rename() \n"
   ]
  },
  {
   "cell_type": "markdown",
   "id": "1484c95f-5444-43a6-98db-ef4b67ed3fa1",
   "metadata": {},
   "source": [
    "##### 1. select column(s)"
   ]
  },
  {
   "cell_type": "code",
   "execution_count": 6,
   "id": "1fcd81b7-5261-4183-a67d-db0afd1d8f48",
   "metadata": {},
   "outputs": [
    {
     "data": {
      "text/html": [
       "<table class=\"dataframe\">\n",
       "<caption>A tibble: 3 × 2</caption>\n",
       "<thead>\n",
       "\t<tr><th scope=col>listing_id</th><th scope=col>city</th></tr>\n",
       "\t<tr><th scope=col>&lt;dbl&gt;</th><th scope=col>&lt;chr&gt;</th></tr>\n",
       "</thead>\n",
       "<tbody>\n",
       "\t<tr><td>1</td><td>Paris   </td></tr>\n",
       "\t<tr><td>2</td><td>Tokyo   </td></tr>\n",
       "\t<tr><td>3</td><td>New York</td></tr>\n",
       "</tbody>\n",
       "</table>\n"
      ],
      "text/latex": [
       "A tibble: 3 × 2\n",
       "\\begin{tabular}{ll}\n",
       " listing\\_id & city\\\\\n",
       " <dbl> & <chr>\\\\\n",
       "\\hline\n",
       "\t 1 & Paris   \\\\\n",
       "\t 2 & Tokyo   \\\\\n",
       "\t 3 & New York\\\\\n",
       "\\end{tabular}\n"
      ],
      "text/markdown": [
       "\n",
       "A tibble: 3 × 2\n",
       "\n",
       "| listing_id &lt;dbl&gt; | city &lt;chr&gt; |\n",
       "|---|---|\n",
       "| 1 | Paris    |\n",
       "| 2 | Tokyo    |\n",
       "| 3 | New York |\n",
       "\n"
      ],
      "text/plain": [
       "  listing_id city    \n",
       "1 1          Paris   \n",
       "2 2          Tokyo   \n",
       "3 3          New York"
      ]
     },
     "metadata": {},
     "output_type": "display_data"
    }
   ],
   "source": [
    "airbnb_listings %>%\n",
    "    select(listing_id, city)"
   ]
  },
  {
   "cell_type": "markdown",
   "id": "4028e825-8018-41b5-ab0b-78d3ac6f0d6a",
   "metadata": {},
   "source": [
    "##### 2. Reorder columns"
   ]
  },
  {
   "cell_type": "code",
   "execution_count": 7,
   "id": "a25c5619-bad4-4f2b-bd20-fc914aa96545",
   "metadata": {},
   "outputs": [
    {
     "data": {
      "text/html": [
       "<table class=\"dataframe\">\n",
       "<caption>A tibble: 3 × 5</caption>\n",
       "<thead>\n",
       "\t<tr><th scope=col>city</th><th scope=col>country</th><th scope=col>listing_id</th><th scope=col>number_of_rooms</th><th scope=col>year_listed</th></tr>\n",
       "\t<tr><th scope=col>&lt;chr&gt;</th><th scope=col>&lt;chr&gt;</th><th scope=col>&lt;dbl&gt;</th><th scope=col>&lt;dbl&gt;</th><th scope=col>&lt;dbl&gt;</th></tr>\n",
       "</thead>\n",
       "<tbody>\n",
       "\t<tr><td>Paris   </td><td>France</td><td>1</td><td>5</td><td>2018</td></tr>\n",
       "\t<tr><td>Tokyo   </td><td>Japan </td><td>2</td><td>2</td><td>2017</td></tr>\n",
       "\t<tr><td>New York</td><td>USA   </td><td>3</td><td>2</td><td>2022</td></tr>\n",
       "</tbody>\n",
       "</table>\n"
      ],
      "text/latex": [
       "A tibble: 3 × 5\n",
       "\\begin{tabular}{lllll}\n",
       " city & country & listing\\_id & number\\_of\\_rooms & year\\_listed\\\\\n",
       " <chr> & <chr> & <dbl> & <dbl> & <dbl>\\\\\n",
       "\\hline\n",
       "\t Paris    & France & 1 & 5 & 2018\\\\\n",
       "\t Tokyo    & Japan  & 2 & 2 & 2017\\\\\n",
       "\t New York & USA    & 3 & 2 & 2022\\\\\n",
       "\\end{tabular}\n"
      ],
      "text/markdown": [
       "\n",
       "A tibble: 3 × 5\n",
       "\n",
       "| city &lt;chr&gt; | country &lt;chr&gt; | listing_id &lt;dbl&gt; | number_of_rooms &lt;dbl&gt; | year_listed &lt;dbl&gt; |\n",
       "|---|---|---|---|---|\n",
       "| Paris    | France | 1 | 5 | 2018 |\n",
       "| Tokyo    | Japan  | 2 | 2 | 2017 |\n",
       "| New York | USA    | 3 | 2 | 2022 |\n",
       "\n"
      ],
      "text/plain": [
       "  city     country listing_id number_of_rooms year_listed\n",
       "1 Paris    France  1          5               2018       \n",
       "2 Tokyo    Japan   2          2               2017       \n",
       "3 New York USA     3          2               2022       "
      ]
     },
     "metadata": {},
     "output_type": "display_data"
    }
   ],
   "source": [
    "airbnb_listings %>%\n",
    "    select(city, country, everything())"
   ]
  },
  {
   "cell_type": "code",
   "execution_count": 11,
   "id": "decfa50c-8387-4c4d-8811-5055361ac912",
   "metadata": {},
   "outputs": [
    {
     "data": {
      "text/html": [
       "<table class=\"dataframe\">\n",
       "<caption>A spec_tbl_df: 3 × 5</caption>\n",
       "<thead>\n",
       "\t<tr><th scope=col>listing_id</th><th scope=col>city</th><th scope=col>country</th><th scope=col>number_of_rooms</th><th scope=col>year</th></tr>\n",
       "\t<tr><th scope=col>&lt;dbl&gt;</th><th scope=col>&lt;chr&gt;</th><th scope=col>&lt;chr&gt;</th><th scope=col>&lt;dbl&gt;</th><th scope=col>&lt;dbl&gt;</th></tr>\n",
       "</thead>\n",
       "<tbody>\n",
       "\t<tr><td>1</td><td>Paris   </td><td>France</td><td>5</td><td>2018</td></tr>\n",
       "\t<tr><td>2</td><td>Tokyo   </td><td>Japan </td><td>2</td><td>2017</td></tr>\n",
       "\t<tr><td>3</td><td>New York</td><td>USA   </td><td>2</td><td>2022</td></tr>\n",
       "</tbody>\n",
       "</table>\n"
      ],
      "text/latex": [
       "A spec\\_tbl\\_df: 3 × 5\n",
       "\\begin{tabular}{lllll}\n",
       " listing\\_id & city & country & number\\_of\\_rooms & year\\\\\n",
       " <dbl> & <chr> & <chr> & <dbl> & <dbl>\\\\\n",
       "\\hline\n",
       "\t 1 & Paris    & France & 5 & 2018\\\\\n",
       "\t 2 & Tokyo    & Japan  & 2 & 2017\\\\\n",
       "\t 3 & New York & USA    & 2 & 2022\\\\\n",
       "\\end{tabular}\n"
      ],
      "text/markdown": [
       "\n",
       "A spec_tbl_df: 3 × 5\n",
       "\n",
       "| listing_id &lt;dbl&gt; | city &lt;chr&gt; | country &lt;chr&gt; | number_of_rooms &lt;dbl&gt; | year &lt;dbl&gt; |\n",
       "|---|---|---|---|---|\n",
       "| 1 | Paris    | France | 5 | 2018 |\n",
       "| 2 | Tokyo    | Japan  | 2 | 2017 |\n",
       "| 3 | New York | USA    | 2 | 2022 |\n",
       "\n"
      ],
      "text/plain": [
       "  listing_id city     country number_of_rooms year\n",
       "1 1          Paris    France  5               2018\n",
       "2 2          Tokyo    Japan   2               2017\n",
       "3 3          New York USA     2               2022"
      ]
     },
     "metadata": {},
     "output_type": "display_data"
    }
   ],
   "source": [
    "airbnb_listings %>%\n",
    "    rename(year=year_listed)"
   ]
  },
  {
   "cell_type": "markdown",
   "id": "1f6e8352-04d6-48a0-af7a-58587fff0b3e",
   "metadata": {},
   "source": [
    "##### 3. Select based on start/end characters:"
   ]
  },
  {
   "cell_type": "code",
   "execution_count": 12,
   "id": "e249b3dc-72da-4e03-9ab7-fefb478a2849",
   "metadata": {},
   "outputs": [
    {
     "data": {
      "text/html": [
       "<table class=\"dataframe\">\n",
       "<caption>A tibble: 3 × 2</caption>\n",
       "<thead>\n",
       "\t<tr><th scope=col>city</th><th scope=col>country</th></tr>\n",
       "\t<tr><th scope=col>&lt;chr&gt;</th><th scope=col>&lt;chr&gt;</th></tr>\n",
       "</thead>\n",
       "<tbody>\n",
       "\t<tr><td>Paris   </td><td>France</td></tr>\n",
       "\t<tr><td>Tokyo   </td><td>Japan </td></tr>\n",
       "\t<tr><td>New York</td><td>USA   </td></tr>\n",
       "</tbody>\n",
       "</table>\n"
      ],
      "text/latex": [
       "A tibble: 3 × 2\n",
       "\\begin{tabular}{ll}\n",
       " city & country\\\\\n",
       " <chr> & <chr>\\\\\n",
       "\\hline\n",
       "\t Paris    & France\\\\\n",
       "\t Tokyo    & Japan \\\\\n",
       "\t New York & USA   \\\\\n",
       "\\end{tabular}\n"
      ],
      "text/markdown": [
       "\n",
       "A tibble: 3 × 2\n",
       "\n",
       "| city &lt;chr&gt; | country &lt;chr&gt; |\n",
       "|---|---|\n",
       "| Paris    | France |\n",
       "| Tokyo    | Japan  |\n",
       "| New York | USA    |\n",
       "\n"
      ],
      "text/plain": [
       "  city     country\n",
       "1 Paris    France \n",
       "2 Tokyo    Japan  \n",
       "3 New York USA    "
      ]
     },
     "metadata": {},
     "output_type": "display_data"
    }
   ],
   "source": [
    "select(airbnb_listings, starts_with(\"c\"))"
   ]
  },
  {
   "cell_type": "code",
   "execution_count": 13,
   "id": "592eddaf-14f7-46da-86a4-6908ea9809f7",
   "metadata": {},
   "outputs": [
    {
     "data": {
      "text/html": [
       "<table class=\"dataframe\">\n",
       "<caption>A tibble: 3 × 1</caption>\n",
       "<thead>\n",
       "\t<tr><th scope=col>number_of_rooms</th></tr>\n",
       "\t<tr><th scope=col>&lt;dbl&gt;</th></tr>\n",
       "</thead>\n",
       "<tbody>\n",
       "\t<tr><td>5</td></tr>\n",
       "\t<tr><td>2</td></tr>\n",
       "\t<tr><td>2</td></tr>\n",
       "</tbody>\n",
       "</table>\n"
      ],
      "text/latex": [
       "A tibble: 3 × 1\n",
       "\\begin{tabular}{l}\n",
       " number\\_of\\_rooms\\\\\n",
       " <dbl>\\\\\n",
       "\\hline\n",
       "\t 5\\\\\n",
       "\t 2\\\\\n",
       "\t 2\\\\\n",
       "\\end{tabular}\n"
      ],
      "text/markdown": [
       "\n",
       "A tibble: 3 × 1\n",
       "\n",
       "| number_of_rooms &lt;dbl&gt; |\n",
       "|---|\n",
       "| 5 |\n",
       "| 2 |\n",
       "| 2 |\n",
       "\n"
      ],
      "text/plain": [
       "  number_of_rooms\n",
       "1 5              \n",
       "2 2              \n",
       "3 2              "
      ]
     },
     "metadata": {},
     "output_type": "display_data"
    }
   ],
   "source": [
    "select(airbnb_listings, ends_with(\"s\"))"
   ]
  },
  {
   "cell_type": "markdown",
   "id": "63d0664b-b527-4f03-ba8b-6e3ad4bb4241",
   "metadata": {},
   "source": [
    "##### 4. Select based on a regular expression"
   ]
  },
  {
   "cell_type": "code",
   "execution_count": 17,
   "id": "2d44602b-2252-4d0c-8700-f540dc3ac019",
   "metadata": {},
   "outputs": [
    {
     "data": {
      "text/html": [
       "<table class=\"dataframe\">\n",
       "<caption>A tibble: 3 × 3</caption>\n",
       "<thead>\n",
       "\t<tr><th scope=col>listing_id</th><th scope=col>country</th><th scope=col>number_of_rooms</th></tr>\n",
       "\t<tr><th scope=col>&lt;dbl&gt;</th><th scope=col>&lt;chr&gt;</th><th scope=col>&lt;dbl&gt;</th></tr>\n",
       "</thead>\n",
       "<tbody>\n",
       "\t<tr><td>1</td><td>France</td><td>5</td></tr>\n",
       "\t<tr><td>2</td><td>Japan </td><td>2</td></tr>\n",
       "\t<tr><td>3</td><td>USA   </td><td>2</td></tr>\n",
       "</tbody>\n",
       "</table>\n"
      ],
      "text/latex": [
       "A tibble: 3 × 3\n",
       "\\begin{tabular}{lll}\n",
       " listing\\_id & country & number\\_of\\_rooms\\\\\n",
       " <dbl> & <chr> & <dbl>\\\\\n",
       "\\hline\n",
       "\t 1 & France & 5\\\\\n",
       "\t 2 & Japan  & 2\\\\\n",
       "\t 3 & USA    & 2\\\\\n",
       "\\end{tabular}\n"
      ],
      "text/markdown": [
       "\n",
       "A tibble: 3 × 3\n",
       "\n",
       "| listing_id &lt;dbl&gt; | country &lt;chr&gt; | number_of_rooms &lt;dbl&gt; |\n",
       "|---|---|---|\n",
       "| 1 | France | 5 |\n",
       "| 2 | Japan  | 2 |\n",
       "| 3 | USA    | 2 |\n",
       "\n"
      ],
      "text/plain": [
       "  listing_id country number_of_rooms\n",
       "1 1          France  5              \n",
       "2 2          Japan   2              \n",
       "3 3          USA     2              "
      ]
     },
     "metadata": {},
     "output_type": "display_data"
    }
   ],
   "source": [
    "select(airbnb_listings, matches(\"(.n.)|(n.)\"))"
   ]
  },
  {
   "cell_type": "markdown",
   "id": "cbd8e50f-d5e0-4a80-8562-a5b35d6fbd0a",
   "metadata": {},
   "source": [
    "##### 5. Include/Exclude certain columns"
   ]
  },
  {
   "cell_type": "code",
   "execution_count": 21,
   "id": "3bda651b-0377-4692-a3df-b3674dbd7aaf",
   "metadata": {},
   "outputs": [
    {
     "data": {
      "text/html": [
       "<table class=\"dataframe\">\n",
       "<caption>A tibble: 3 × 4</caption>\n",
       "<thead>\n",
       "\t<tr><th scope=col>city</th><th scope=col>country</th><th scope=col>number_of_rooms</th><th scope=col>year_listed</th></tr>\n",
       "\t<tr><th scope=col>&lt;chr&gt;</th><th scope=col>&lt;chr&gt;</th><th scope=col>&lt;dbl&gt;</th><th scope=col>&lt;dbl&gt;</th></tr>\n",
       "</thead>\n",
       "<tbody>\n",
       "\t<tr><td>Paris   </td><td>France</td><td>5</td><td>2018</td></tr>\n",
       "\t<tr><td>Tokyo   </td><td>Japan </td><td>2</td><td>2017</td></tr>\n",
       "\t<tr><td>New York</td><td>USA   </td><td>2</td><td>2022</td></tr>\n",
       "</tbody>\n",
       "</table>\n"
      ],
      "text/latex": [
       "A tibble: 3 × 4\n",
       "\\begin{tabular}{llll}\n",
       " city & country & number\\_of\\_rooms & year\\_listed\\\\\n",
       " <chr> & <chr> & <dbl> & <dbl>\\\\\n",
       "\\hline\n",
       "\t Paris    & France & 5 & 2018\\\\\n",
       "\t Tokyo    & Japan  & 2 & 2017\\\\\n",
       "\t New York & USA    & 2 & 2022\\\\\n",
       "\\end{tabular}\n"
      ],
      "text/markdown": [
       "\n",
       "A tibble: 3 × 4\n",
       "\n",
       "| city &lt;chr&gt; | country &lt;chr&gt; | number_of_rooms &lt;dbl&gt; | year_listed &lt;dbl&gt; |\n",
       "|---|---|---|---|\n",
       "| Paris    | France | 5 | 2018 |\n",
       "| Tokyo    | Japan  | 2 | 2017 |\n",
       "| New York | USA    | 2 | 2022 |\n",
       "\n"
      ],
      "text/plain": [
       "  city     country number_of_rooms year_listed\n",
       "1 Paris    France  5               2018       \n",
       "2 Tokyo    Japan   2               2017       \n",
       "3 New York USA     2               2022       "
      ]
     },
     "metadata": {},
     "output_type": "display_data"
    }
   ],
   "source": [
    "# Everything but listing_id\n",
    "select(airbnb_listings, -listing_id)"
   ]
  },
  {
   "cell_type": "code",
   "execution_count": 20,
   "id": "cc13cca0-0350-4e52-9c38-8070b5e7be29",
   "metadata": {},
   "outputs": [
    {
     "data": {
      "text/html": [
       "<table class=\"dataframe\">\n",
       "<caption>A tibble: 3 × 3</caption>\n",
       "<thead>\n",
       "\t<tr><th scope=col>country</th><th scope=col>number_of_rooms</th><th scope=col>year_listed</th></tr>\n",
       "\t<tr><th scope=col>&lt;chr&gt;</th><th scope=col>&lt;dbl&gt;</th><th scope=col>&lt;dbl&gt;</th></tr>\n",
       "</thead>\n",
       "<tbody>\n",
       "\t<tr><td>France</td><td>5</td><td>2018</td></tr>\n",
       "\t<tr><td>Japan </td><td>2</td><td>2017</td></tr>\n",
       "\t<tr><td>USA   </td><td>2</td><td>2022</td></tr>\n",
       "</tbody>\n",
       "</table>\n"
      ],
      "text/latex": [
       "A tibble: 3 × 3\n",
       "\\begin{tabular}{lll}\n",
       " country & number\\_of\\_rooms & year\\_listed\\\\\n",
       " <chr> & <dbl> & <dbl>\\\\\n",
       "\\hline\n",
       "\t France & 5 & 2018\\\\\n",
       "\t Japan  & 2 & 2017\\\\\n",
       "\t USA    & 2 & 2022\\\\\n",
       "\\end{tabular}\n"
      ],
      "text/markdown": [
       "\n",
       "A tibble: 3 × 3\n",
       "\n",
       "| country &lt;chr&gt; | number_of_rooms &lt;dbl&gt; | year_listed &lt;dbl&gt; |\n",
       "|---|---|---|\n",
       "| France | 5 | 2018 |\n",
       "| Japan  | 2 | 2017 |\n",
       "| USA    | 2 | 2022 |\n",
       "\n"
      ],
      "text/plain": [
       "  country number_of_rooms year_listed\n",
       "1 France  5               2018       \n",
       "2 Japan   2               2017       \n",
       "3 USA     2               2022       "
      ]
     },
     "metadata": {},
     "output_type": "display_data"
    }
   ],
   "source": [
    "# A column range\n",
    "select(airbnb_listings, country:year_listed)"
   ]
  },
  {
   "cell_type": "markdown",
   "id": "8527907d-a828-4dfd-9c98-86bb6fa2ae63",
   "metadata": {},
   "source": [
    "## Working with rows"
   ]
  },
  {
   "cell_type": "markdown",
   "id": "0cd22d1f-878c-421f-891c-eb58bed95982",
   "metadata": {},
   "source": [
    "#### Instructions: Please provide at least 5-7 functions covering working with rows\n",
    "\n",
    "- filter() on one condition\n",
    "- filter() on two conditions\n",
    "- arrange() descending\n",
    "- arrange() ascending \n",
    "- distinct()\n",
    "- slice()"
   ]
  },
  {
   "cell_type": "markdown",
   "id": "f2d9c2da-7ebb-4bf0-badf-3b2ddbf2ca6a",
   "metadata": {},
   "source": [
    "##### 1. Filter on one condition"
   ]
  },
  {
   "cell_type": "code",
   "execution_count": 23,
   "id": "0ed65670-cca0-4b13-9f68-ff0a817f77b7",
   "metadata": {},
   "outputs": [
    {
     "data": {
      "text/html": [
       "<table class=\"dataframe\">\n",
       "<caption>A spec_tbl_df: 1 × 5</caption>\n",
       "<thead>\n",
       "\t<tr><th scope=col>listing_id</th><th scope=col>city</th><th scope=col>country</th><th scope=col>number_of_rooms</th><th scope=col>year_listed</th></tr>\n",
       "\t<tr><th scope=col>&lt;dbl&gt;</th><th scope=col>&lt;chr&gt;</th><th scope=col>&lt;chr&gt;</th><th scope=col>&lt;dbl&gt;</th><th scope=col>&lt;dbl&gt;</th></tr>\n",
       "</thead>\n",
       "<tbody>\n",
       "\t<tr><td>1</td><td>Paris</td><td>France</td><td>5</td><td>2018</td></tr>\n",
       "</tbody>\n",
       "</table>\n"
      ],
      "text/latex": [
       "A spec\\_tbl\\_df: 1 × 5\n",
       "\\begin{tabular}{lllll}\n",
       " listing\\_id & city & country & number\\_of\\_rooms & year\\_listed\\\\\n",
       " <dbl> & <chr> & <chr> & <dbl> & <dbl>\\\\\n",
       "\\hline\n",
       "\t 1 & Paris & France & 5 & 2018\\\\\n",
       "\\end{tabular}\n"
      ],
      "text/markdown": [
       "\n",
       "A spec_tbl_df: 1 × 5\n",
       "\n",
       "| listing_id &lt;dbl&gt; | city &lt;chr&gt; | country &lt;chr&gt; | number_of_rooms &lt;dbl&gt; | year_listed &lt;dbl&gt; |\n",
       "|---|---|---|---|---|\n",
       "| 1 | Paris | France | 5 | 2018 |\n",
       "\n"
      ],
      "text/plain": [
       "  listing_id city  country number_of_rooms year_listed\n",
       "1 1          Paris France  5               2018       "
      ]
     },
     "metadata": {},
     "output_type": "display_data"
    }
   ],
   "source": [
    "airbnb_listings %>%\n",
    "    filter(country==\"France\")"
   ]
  },
  {
   "cell_type": "markdown",
   "id": "90716a6a-f614-429e-abc9-4beee0f3ab8e",
   "metadata": {
    "tags": []
   },
   "source": [
    "##### 2. Filter on two condition"
   ]
  },
  {
   "cell_type": "code",
   "execution_count": 28,
   "id": "bd241555-464b-46ac-99de-591e75602300",
   "metadata": {},
   "outputs": [
    {
     "data": {
      "text/html": [
       "<table class=\"dataframe\">\n",
       "<caption>A spec_tbl_df: 1 × 5</caption>\n",
       "<thead>\n",
       "\t<tr><th scope=col>listing_id</th><th scope=col>city</th><th scope=col>country</th><th scope=col>number_of_rooms</th><th scope=col>year_listed</th></tr>\n",
       "\t<tr><th scope=col>&lt;dbl&gt;</th><th scope=col>&lt;chr&gt;</th><th scope=col>&lt;chr&gt;</th><th scope=col>&lt;dbl&gt;</th><th scope=col>&lt;dbl&gt;</th></tr>\n",
       "</thead>\n",
       "<tbody>\n",
       "\t<tr><td>1</td><td>Paris</td><td>France</td><td>5</td><td>2018</td></tr>\n",
       "</tbody>\n",
       "</table>\n"
      ],
      "text/latex": [
       "A spec\\_tbl\\_df: 1 × 5\n",
       "\\begin{tabular}{lllll}\n",
       " listing\\_id & city & country & number\\_of\\_rooms & year\\_listed\\\\\n",
       " <dbl> & <chr> & <chr> & <dbl> & <dbl>\\\\\n",
       "\\hline\n",
       "\t 1 & Paris & France & 5 & 2018\\\\\n",
       "\\end{tabular}\n"
      ],
      "text/markdown": [
       "\n",
       "A spec_tbl_df: 1 × 5\n",
       "\n",
       "| listing_id &lt;dbl&gt; | city &lt;chr&gt; | country &lt;chr&gt; | number_of_rooms &lt;dbl&gt; | year_listed &lt;dbl&gt; |\n",
       "|---|---|---|---|---|\n",
       "| 1 | Paris | France | 5 | 2018 |\n",
       "\n"
      ],
      "text/plain": [
       "  listing_id city  country number_of_rooms year_listed\n",
       "1 1          Paris France  5               2018       "
      ]
     },
     "metadata": {},
     "output_type": "display_data"
    }
   ],
   "source": [
    "airbnb_listings %>%\n",
    "    filter(country==\"France\" | is.na(year_listed))"
   ]
  },
  {
   "cell_type": "markdown",
   "id": "5063fbf0-1128-4c77-aece-85d074ee70b8",
   "metadata": {},
   "source": [
    "##### 5. Sort the table with `arrange()`"
   ]
  },
  {
   "cell_type": "code",
   "execution_count": 31,
   "id": "716cac89-844f-4978-a33e-90bbc24c6b1f",
   "metadata": {},
   "outputs": [
    {
     "data": {
      "text/html": [
       "<table class=\"dataframe\">\n",
       "<caption>A spec_tbl_df: 3 × 5</caption>\n",
       "<thead>\n",
       "\t<tr><th scope=col>listing_id</th><th scope=col>city</th><th scope=col>country</th><th scope=col>number_of_rooms</th><th scope=col>year_listed</th></tr>\n",
       "\t<tr><th scope=col>&lt;dbl&gt;</th><th scope=col>&lt;chr&gt;</th><th scope=col>&lt;chr&gt;</th><th scope=col>&lt;dbl&gt;</th><th scope=col>&lt;dbl&gt;</th></tr>\n",
       "</thead>\n",
       "<tbody>\n",
       "\t<tr><td>2</td><td>Tokyo   </td><td>Japan </td><td>2</td><td>2017</td></tr>\n",
       "\t<tr><td>3</td><td>New York</td><td>USA   </td><td>2</td><td>2022</td></tr>\n",
       "\t<tr><td>1</td><td>Paris   </td><td>France</td><td>5</td><td>2018</td></tr>\n",
       "</tbody>\n",
       "</table>\n"
      ],
      "text/latex": [
       "A spec\\_tbl\\_df: 3 × 5\n",
       "\\begin{tabular}{lllll}\n",
       " listing\\_id & city & country & number\\_of\\_rooms & year\\_listed\\\\\n",
       " <dbl> & <chr> & <chr> & <dbl> & <dbl>\\\\\n",
       "\\hline\n",
       "\t 2 & Tokyo    & Japan  & 2 & 2017\\\\\n",
       "\t 3 & New York & USA    & 2 & 2022\\\\\n",
       "\t 1 & Paris    & France & 5 & 2018\\\\\n",
       "\\end{tabular}\n"
      ],
      "text/markdown": [
       "\n",
       "A spec_tbl_df: 3 × 5\n",
       "\n",
       "| listing_id &lt;dbl&gt; | city &lt;chr&gt; | country &lt;chr&gt; | number_of_rooms &lt;dbl&gt; | year_listed &lt;dbl&gt; |\n",
       "|---|---|---|---|---|\n",
       "| 2 | Tokyo    | Japan  | 2 | 2017 |\n",
       "| 3 | New York | USA    | 2 | 2022 |\n",
       "| 1 | Paris    | France | 5 | 2018 |\n",
       "\n"
      ],
      "text/plain": [
       "  listing_id city     country number_of_rooms year_listed\n",
       "1 2          Tokyo    Japan   2               2017       \n",
       "2 3          New York USA     2               2022       \n",
       "3 1          Paris    France  5               2018       "
      ]
     },
     "metadata": {},
     "output_type": "display_data"
    }
   ],
   "source": [
    "# Ascending order\n",
    "airbnb_listings %>%\n",
    "    arrange(number_of_rooms)"
   ]
  },
  {
   "cell_type": "code",
   "execution_count": 33,
   "id": "1a6892ca-296c-4406-a47f-c7ae5ab85c4c",
   "metadata": {},
   "outputs": [
    {
     "data": {
      "text/html": [
       "<table class=\"dataframe\">\n",
       "<caption>A spec_tbl_df: 3 × 5</caption>\n",
       "<thead>\n",
       "\t<tr><th scope=col>listing_id</th><th scope=col>city</th><th scope=col>country</th><th scope=col>number_of_rooms</th><th scope=col>year_listed</th></tr>\n",
       "\t<tr><th scope=col>&lt;dbl&gt;</th><th scope=col>&lt;chr&gt;</th><th scope=col>&lt;chr&gt;</th><th scope=col>&lt;dbl&gt;</th><th scope=col>&lt;dbl&gt;</th></tr>\n",
       "</thead>\n",
       "<tbody>\n",
       "\t<tr><td>2</td><td>Tokyo   </td><td>Japan </td><td>2</td><td>2017</td></tr>\n",
       "\t<tr><td>1</td><td>Paris   </td><td>France</td><td>5</td><td>2018</td></tr>\n",
       "\t<tr><td>3</td><td>New York</td><td>USA   </td><td>2</td><td>2022</td></tr>\n",
       "</tbody>\n",
       "</table>\n"
      ],
      "text/latex": [
       "A spec\\_tbl\\_df: 3 × 5\n",
       "\\begin{tabular}{lllll}\n",
       " listing\\_id & city & country & number\\_of\\_rooms & year\\_listed\\\\\n",
       " <dbl> & <chr> & <chr> & <dbl> & <dbl>\\\\\n",
       "\\hline\n",
       "\t 2 & Tokyo    & Japan  & 2 & 2017\\\\\n",
       "\t 1 & Paris    & France & 5 & 2018\\\\\n",
       "\t 3 & New York & USA    & 2 & 2022\\\\\n",
       "\\end{tabular}\n"
      ],
      "text/markdown": [
       "\n",
       "A spec_tbl_df: 3 × 5\n",
       "\n",
       "| listing_id &lt;dbl&gt; | city &lt;chr&gt; | country &lt;chr&gt; | number_of_rooms &lt;dbl&gt; | year_listed &lt;dbl&gt; |\n",
       "|---|---|---|---|---|\n",
       "| 2 | Tokyo    | Japan  | 2 | 2017 |\n",
       "| 1 | Paris    | France | 5 | 2018 |\n",
       "| 3 | New York | USA    | 2 | 2022 |\n",
       "\n"
      ],
      "text/plain": [
       "  listing_id city     country number_of_rooms year_listed\n",
       "1 2          Tokyo    Japan   2               2017       \n",
       "2 1          Paris    France  5               2018       \n",
       "3 3          New York USA     2               2022       "
      ]
     },
     "metadata": {},
     "output_type": "display_data"
    }
   ],
   "source": [
    "# Descending order (alphabetical)\n",
    "airbnb_listings %>%\n",
    "    arrange(desc(city))"
   ]
  },
  {
   "cell_type": "markdown",
   "id": "ea286f05-c310-474d-a305-86f018ec29f9",
   "metadata": {},
   "source": [
    "##### 6. %in% operator with `filter`"
   ]
  },
  {
   "cell_type": "code",
   "execution_count": 38,
   "id": "24fb8509-c3e1-43d8-8e79-ba610988724d",
   "metadata": {},
   "outputs": [
    {
     "data": {
      "text/html": [
       "<table class=\"dataframe\">\n",
       "<caption>A spec_tbl_df: 2 × 5</caption>\n",
       "<thead>\n",
       "\t<tr><th scope=col>listing_id</th><th scope=col>city</th><th scope=col>country</th><th scope=col>number_of_rooms</th><th scope=col>year_listed</th></tr>\n",
       "\t<tr><th scope=col>&lt;dbl&gt;</th><th scope=col>&lt;chr&gt;</th><th scope=col>&lt;chr&gt;</th><th scope=col>&lt;dbl&gt;</th><th scope=col>&lt;dbl&gt;</th></tr>\n",
       "</thead>\n",
       "<tbody>\n",
       "\t<tr><td>1</td><td>Paris</td><td>France</td><td>5</td><td>2018</td></tr>\n",
       "\t<tr><td>2</td><td>Tokyo</td><td>Japan </td><td>2</td><td>2017</td></tr>\n",
       "</tbody>\n",
       "</table>\n"
      ],
      "text/latex": [
       "A spec\\_tbl\\_df: 2 × 5\n",
       "\\begin{tabular}{lllll}\n",
       " listing\\_id & city & country & number\\_of\\_rooms & year\\_listed\\\\\n",
       " <dbl> & <chr> & <chr> & <dbl> & <dbl>\\\\\n",
       "\\hline\n",
       "\t 1 & Paris & France & 5 & 2018\\\\\n",
       "\t 2 & Tokyo & Japan  & 2 & 2017\\\\\n",
       "\\end{tabular}\n"
      ],
      "text/markdown": [
       "\n",
       "A spec_tbl_df: 2 × 5\n",
       "\n",
       "| listing_id &lt;dbl&gt; | city &lt;chr&gt; | country &lt;chr&gt; | number_of_rooms &lt;dbl&gt; | year_listed &lt;dbl&gt; |\n",
       "|---|---|---|---|---|\n",
       "| 1 | Paris | France | 5 | 2018 |\n",
       "| 2 | Tokyo | Japan  | 2 | 2017 |\n",
       "\n"
      ],
      "text/plain": [
       "  listing_id city  country number_of_rooms year_listed\n",
       "1 1          Paris France  5               2018       \n",
       "2 2          Tokyo Japan   2               2017       "
      ]
     },
     "metadata": {},
     "output_type": "display_data"
    }
   ],
   "source": [
    "airbnb_listings %>%\n",
    "    filter(country %in% c(\"Japan\", \"France\"))"
   ]
  },
  {
   "cell_type": "markdown",
   "id": "461a2467-cb89-4e18-889f-d7459ae577cb",
   "metadata": {},
   "source": [
    "##### 7. Remove duplicate rows with `distinct`"
   ]
  },
  {
   "cell_type": "code",
   "execution_count": 39,
   "id": "16d9025e-a26e-46bd-aece-34b14dd24fcd",
   "metadata": {},
   "outputs": [
    {
     "data": {
      "text/html": [
       "<table class=\"dataframe\">\n",
       "<caption>A tibble: 3 × 5</caption>\n",
       "<thead>\n",
       "\t<tr><th scope=col>listing_id</th><th scope=col>city</th><th scope=col>country</th><th scope=col>number_of_rooms</th><th scope=col>year_listed</th></tr>\n",
       "\t<tr><th scope=col>&lt;dbl&gt;</th><th scope=col>&lt;chr&gt;</th><th scope=col>&lt;chr&gt;</th><th scope=col>&lt;dbl&gt;</th><th scope=col>&lt;dbl&gt;</th></tr>\n",
       "</thead>\n",
       "<tbody>\n",
       "\t<tr><td>1</td><td>Paris   </td><td>France</td><td>5</td><td>2018</td></tr>\n",
       "\t<tr><td>2</td><td>Tokyo   </td><td>Japan </td><td>2</td><td>2017</td></tr>\n",
       "\t<tr><td>3</td><td>New York</td><td>USA   </td><td>2</td><td>2022</td></tr>\n",
       "</tbody>\n",
       "</table>\n"
      ],
      "text/latex": [
       "A tibble: 3 × 5\n",
       "\\begin{tabular}{lllll}\n",
       " listing\\_id & city & country & number\\_of\\_rooms & year\\_listed\\\\\n",
       " <dbl> & <chr> & <chr> & <dbl> & <dbl>\\\\\n",
       "\\hline\n",
       "\t 1 & Paris    & France & 5 & 2018\\\\\n",
       "\t 2 & Tokyo    & Japan  & 2 & 2017\\\\\n",
       "\t 3 & New York & USA    & 2 & 2022\\\\\n",
       "\\end{tabular}\n"
      ],
      "text/markdown": [
       "\n",
       "A tibble: 3 × 5\n",
       "\n",
       "| listing_id &lt;dbl&gt; | city &lt;chr&gt; | country &lt;chr&gt; | number_of_rooms &lt;dbl&gt; | year_listed &lt;dbl&gt; |\n",
       "|---|---|---|---|---|\n",
       "| 1 | Paris    | France | 5 | 2018 |\n",
       "| 2 | Tokyo    | Japan  | 2 | 2017 |\n",
       "| 3 | New York | USA    | 2 | 2022 |\n",
       "\n"
      ],
      "text/plain": [
       "  listing_id city     country number_of_rooms year_listed\n",
       "1 1          Paris    France  5               2018       \n",
       "2 2          Tokyo    Japan   2               2017       \n",
       "3 3          New York USA     2               2022       "
      ]
     },
     "metadata": {},
     "output_type": "display_data"
    }
   ],
   "source": [
    "distinct(airbnb_listings)"
   ]
  },
  {
   "cell_type": "markdown",
   "id": "1c939526-d9c5-4545-a847-4039b7765fc1",
   "metadata": {},
   "source": [
    "##### 8. Filter rows based on location"
   ]
  },
  {
   "cell_type": "code",
   "execution_count": 40,
   "id": "63fd763e-04b4-4267-9bb7-5c9b0a31b26a",
   "metadata": {},
   "outputs": [
    {
     "data": {
      "text/html": [
       "<table class=\"dataframe\">\n",
       "<caption>A spec_tbl_df: 3 × 5</caption>\n",
       "<thead>\n",
       "\t<tr><th scope=col>listing_id</th><th scope=col>city</th><th scope=col>country</th><th scope=col>number_of_rooms</th><th scope=col>year_listed</th></tr>\n",
       "\t<tr><th scope=col>&lt;dbl&gt;</th><th scope=col>&lt;chr&gt;</th><th scope=col>&lt;chr&gt;</th><th scope=col>&lt;dbl&gt;</th><th scope=col>&lt;dbl&gt;</th></tr>\n",
       "</thead>\n",
       "<tbody>\n",
       "\t<tr><td>1</td><td>Paris   </td><td>France</td><td>5</td><td>2018</td></tr>\n",
       "\t<tr><td>2</td><td>Tokyo   </td><td>Japan </td><td>2</td><td>2017</td></tr>\n",
       "\t<tr><td>3</td><td>New York</td><td>USA   </td><td>2</td><td>2022</td></tr>\n",
       "</tbody>\n",
       "</table>\n"
      ],
      "text/latex": [
       "A spec\\_tbl\\_df: 3 × 5\n",
       "\\begin{tabular}{lllll}\n",
       " listing\\_id & city & country & number\\_of\\_rooms & year\\_listed\\\\\n",
       " <dbl> & <chr> & <chr> & <dbl> & <dbl>\\\\\n",
       "\\hline\n",
       "\t 1 & Paris    & France & 5 & 2018\\\\\n",
       "\t 2 & Tokyo    & Japan  & 2 & 2017\\\\\n",
       "\t 3 & New York & USA    & 2 & 2022\\\\\n",
       "\\end{tabular}\n"
      ],
      "text/markdown": [
       "\n",
       "A spec_tbl_df: 3 × 5\n",
       "\n",
       "| listing_id &lt;dbl&gt; | city &lt;chr&gt; | country &lt;chr&gt; | number_of_rooms &lt;dbl&gt; | year_listed &lt;dbl&gt; |\n",
       "|---|---|---|---|---|\n",
       "| 1 | Paris    | France | 5 | 2018 |\n",
       "| 2 | Tokyo    | Japan  | 2 | 2017 |\n",
       "| 3 | New York | USA    | 2 | 2022 |\n",
       "\n"
      ],
      "text/plain": [
       "  listing_id city     country number_of_rooms year_listed\n",
       "1 1          Paris    France  5               2018       \n",
       "2 2          Tokyo    Japan   2               2017       \n",
       "3 3          New York USA     2               2022       "
      ]
     },
     "metadata": {},
     "output_type": "display_data"
    }
   ],
   "source": [
    "slice(airbnb_listings, 1:3)"
   ]
  },
  {
   "cell_type": "markdown",
   "id": "1b8bc8dd-39bf-478f-80a8-3e842e240a50",
   "metadata": {},
   "source": [
    "##### 9. Randomly select rows"
   ]
  },
  {
   "cell_type": "code",
   "execution_count": 41,
   "id": "7528e94b-3f84-4bd7-948b-8593c6076e59",
   "metadata": {},
   "outputs": [
    {
     "data": {
      "text/html": [
       "<table class=\"dataframe\">\n",
       "<caption>A spec_tbl_df: 2 × 5</caption>\n",
       "<thead>\n",
       "\t<tr><th scope=col>listing_id</th><th scope=col>city</th><th scope=col>country</th><th scope=col>number_of_rooms</th><th scope=col>year_listed</th></tr>\n",
       "\t<tr><th scope=col>&lt;dbl&gt;</th><th scope=col>&lt;chr&gt;</th><th scope=col>&lt;chr&gt;</th><th scope=col>&lt;dbl&gt;</th><th scope=col>&lt;dbl&gt;</th></tr>\n",
       "</thead>\n",
       "<tbody>\n",
       "\t<tr><td>3</td><td>New York</td><td>USA   </td><td>2</td><td>2022</td></tr>\n",
       "\t<tr><td>1</td><td>Paris   </td><td>France</td><td>5</td><td>2018</td></tr>\n",
       "</tbody>\n",
       "</table>\n"
      ],
      "text/latex": [
       "A spec\\_tbl\\_df: 2 × 5\n",
       "\\begin{tabular}{lllll}\n",
       " listing\\_id & city & country & number\\_of\\_rooms & year\\_listed\\\\\n",
       " <dbl> & <chr> & <chr> & <dbl> & <dbl>\\\\\n",
       "\\hline\n",
       "\t 3 & New York & USA    & 2 & 2022\\\\\n",
       "\t 1 & Paris    & France & 5 & 2018\\\\\n",
       "\\end{tabular}\n"
      ],
      "text/markdown": [
       "\n",
       "A spec_tbl_df: 2 × 5\n",
       "\n",
       "| listing_id &lt;dbl&gt; | city &lt;chr&gt; | country &lt;chr&gt; | number_of_rooms &lt;dbl&gt; | year_listed &lt;dbl&gt; |\n",
       "|---|---|---|---|---|\n",
       "| 3 | New York | USA    | 2 | 2022 |\n",
       "| 1 | Paris    | France | 5 | 2018 |\n",
       "\n"
      ],
      "text/plain": [
       "  listing_id city     country number_of_rooms year_listed\n",
       "1 3          New York USA     2               2022       \n",
       "2 1          Paris    France  5               2018       "
      ]
     },
     "metadata": {},
     "output_type": "display_data"
    }
   ],
   "source": [
    "sample_n(airbnb_listings, 2)"
   ]
  },
  {
   "cell_type": "code",
   "execution_count": 42,
   "id": "8c6857fa-e4a9-4bc0-9249-33f3e9e24c03",
   "metadata": {},
   "outputs": [
    {
     "data": {
      "text/html": [
       "<table class=\"dataframe\">\n",
       "<caption>A spec_tbl_df: 1 × 5</caption>\n",
       "<thead>\n",
       "\t<tr><th scope=col>listing_id</th><th scope=col>city</th><th scope=col>country</th><th scope=col>number_of_rooms</th><th scope=col>year_listed</th></tr>\n",
       "\t<tr><th scope=col>&lt;dbl&gt;</th><th scope=col>&lt;chr&gt;</th><th scope=col>&lt;chr&gt;</th><th scope=col>&lt;dbl&gt;</th><th scope=col>&lt;dbl&gt;</th></tr>\n",
       "</thead>\n",
       "<tbody>\n",
       "\t<tr><td>1</td><td>Paris</td><td>France</td><td>5</td><td>2018</td></tr>\n",
       "</tbody>\n",
       "</table>\n"
      ],
      "text/latex": [
       "A spec\\_tbl\\_df: 1 × 5\n",
       "\\begin{tabular}{lllll}\n",
       " listing\\_id & city & country & number\\_of\\_rooms & year\\_listed\\\\\n",
       " <dbl> & <chr> & <chr> & <dbl> & <dbl>\\\\\n",
       "\\hline\n",
       "\t 1 & Paris & France & 5 & 2018\\\\\n",
       "\\end{tabular}\n"
      ],
      "text/markdown": [
       "\n",
       "A spec_tbl_df: 1 × 5\n",
       "\n",
       "| listing_id &lt;dbl&gt; | city &lt;chr&gt; | country &lt;chr&gt; | number_of_rooms &lt;dbl&gt; | year_listed &lt;dbl&gt; |\n",
       "|---|---|---|---|---|\n",
       "| 1 | Paris | France | 5 | 2018 |\n",
       "\n"
      ],
      "text/plain": [
       "  listing_id city  country number_of_rooms year_listed\n",
       "1 1          Paris France  5               2018       "
      ]
     },
     "metadata": {},
     "output_type": "display_data"
    }
   ],
   "source": [
    "sample_frac(airbnb_listings, 0.33)"
   ]
  },
  {
   "cell_type": "markdown",
   "id": "52d01409-7956-413b-a4f9-866daa01e7b6",
   "metadata": {},
   "source": [
    "##### 10. Select rows based on top-n values of a column:"
   ]
  },
  {
   "cell_type": "code",
   "execution_count": 44,
   "id": "bff0071f-cf77-402d-8134-db535c93ad42",
   "metadata": {},
   "outputs": [
    {
     "data": {
      "text/html": [
       "<table class=\"dataframe\">\n",
       "<caption>A spec_tbl_df: 1 × 5</caption>\n",
       "<thead>\n",
       "\t<tr><th scope=col>listing_id</th><th scope=col>city</th><th scope=col>country</th><th scope=col>number_of_rooms</th><th scope=col>year_listed</th></tr>\n",
       "\t<tr><th scope=col>&lt;dbl&gt;</th><th scope=col>&lt;chr&gt;</th><th scope=col>&lt;chr&gt;</th><th scope=col>&lt;dbl&gt;</th><th scope=col>&lt;dbl&gt;</th></tr>\n",
       "</thead>\n",
       "<tbody>\n",
       "\t<tr><td>1</td><td>Paris</td><td>France</td><td>5</td><td>2018</td></tr>\n",
       "</tbody>\n",
       "</table>\n"
      ],
      "text/latex": [
       "A spec\\_tbl\\_df: 1 × 5\n",
       "\\begin{tabular}{lllll}\n",
       " listing\\_id & city & country & number\\_of\\_rooms & year\\_listed\\\\\n",
       " <dbl> & <chr> & <chr> & <dbl> & <dbl>\\\\\n",
       "\\hline\n",
       "\t 1 & Paris & France & 5 & 2018\\\\\n",
       "\\end{tabular}\n"
      ],
      "text/markdown": [
       "\n",
       "A spec_tbl_df: 1 × 5\n",
       "\n",
       "| listing_id &lt;dbl&gt; | city &lt;chr&gt; | country &lt;chr&gt; | number_of_rooms &lt;dbl&gt; | year_listed &lt;dbl&gt; |\n",
       "|---|---|---|---|---|\n",
       "| 1 | Paris | France | 5 | 2018 |\n",
       "\n"
      ],
      "text/plain": [
       "  listing_id city  country number_of_rooms year_listed\n",
       "1 1          Paris France  5               2018       "
      ]
     },
     "metadata": {},
     "output_type": "display_data"
    }
   ],
   "source": [
    "top_n(airbnb_listings, 1, number_of_rooms)"
   ]
  },
  {
   "cell_type": "markdown",
   "id": "dcebaf2a-db73-46b2-b3e6-cdf1d7861b38",
   "metadata": {},
   "source": [
    "## Adding new columns"
   ]
  },
  {
   "cell_type": "markdown",
   "id": "d909023a-a5d4-4b15-9037-d2e65c5b3076",
   "metadata": {},
   "source": [
    "#### Instructions: Please provide at least 5 functions on creating new columns \n",
    "\n",
    "- mutate() \n",
    "- transmute()\n",
    "- add_count()"
   ]
  },
  {
   "cell_type": "markdown",
   "id": "982476d3-f0e7-4131-b98a-8b828402267c",
   "metadata": {},
   "source": [
    "##### 1. Create new cols with mutate"
   ]
  },
  {
   "cell_type": "code",
   "execution_count": 52,
   "id": "f4578d1c-3ba4-4c08-b4c8-83f7db14984a",
   "metadata": {},
   "outputs": [
    {
     "data": {
      "text/html": [
       "<table class=\"dataframe\">\n",
       "<caption>A tibble: 3 × 6</caption>\n",
       "<thead>\n",
       "\t<tr><th scope=col>listing_id</th><th scope=col>city</th><th scope=col>country</th><th scope=col>number_of_rooms</th><th scope=col>year_listed</th><th scope=col>age</th></tr>\n",
       "\t<tr><th scope=col>&lt;dbl&gt;</th><th scope=col>&lt;chr&gt;</th><th scope=col>&lt;chr&gt;</th><th scope=col>&lt;dbl&gt;</th><th scope=col>&lt;dbl&gt;</th><th scope=col>&lt;dbl&gt;</th></tr>\n",
       "</thead>\n",
       "<tbody>\n",
       "\t<tr><td>1</td><td>Paris   </td><td>France</td><td>5</td><td>2018</td><td>4</td></tr>\n",
       "\t<tr><td>2</td><td>Tokyo   </td><td>Japan </td><td>2</td><td>2017</td><td>5</td></tr>\n",
       "\t<tr><td>3</td><td>New York</td><td>USA   </td><td>2</td><td>2022</td><td>0</td></tr>\n",
       "</tbody>\n",
       "</table>\n"
      ],
      "text/latex": [
       "A tibble: 3 × 6\n",
       "\\begin{tabular}{llllll}\n",
       " listing\\_id & city & country & number\\_of\\_rooms & year\\_listed & age\\\\\n",
       " <dbl> & <chr> & <chr> & <dbl> & <dbl> & <dbl>\\\\\n",
       "\\hline\n",
       "\t 1 & Paris    & France & 5 & 2018 & 4\\\\\n",
       "\t 2 & Tokyo    & Japan  & 2 & 2017 & 5\\\\\n",
       "\t 3 & New York & USA    & 2 & 2022 & 0\\\\\n",
       "\\end{tabular}\n"
      ],
      "text/markdown": [
       "\n",
       "A tibble: 3 × 6\n",
       "\n",
       "| listing_id &lt;dbl&gt; | city &lt;chr&gt; | country &lt;chr&gt; | number_of_rooms &lt;dbl&gt; | year_listed &lt;dbl&gt; | age &lt;dbl&gt; |\n",
       "|---|---|---|---|---|---|\n",
       "| 1 | Paris    | France | 5 | 2018 | 4 |\n",
       "| 2 | Tokyo    | Japan  | 2 | 2017 | 5 |\n",
       "| 3 | New York | USA    | 2 | 2022 | 0 |\n",
       "\n"
      ],
      "text/plain": [
       "  listing_id city     country number_of_rooms year_listed age\n",
       "1 1          Paris    France  5               2018        4  \n",
       "2 2          Tokyo    Japan   2               2017        5  \n",
       "3 3          New York USA     2               2022        0  "
      ]
     },
     "metadata": {},
     "output_type": "display_data"
    }
   ],
   "source": [
    "# Returns all columns\n",
    "airbnb_listings %>%\n",
    "    mutate(age = 2022 - year_listed)"
   ]
  },
  {
   "cell_type": "markdown",
   "id": "45cfdc4a-46fa-4477-97fd-217182c13415",
   "metadata": {},
   "source": [
    "##### 2. Create a new column using more than one existing column"
   ]
  },
  {
   "cell_type": "code",
   "execution_count": 51,
   "id": "686af3bd-2874-428c-9d7f-09cee3612156",
   "metadata": {},
   "outputs": [
    {
     "data": {
      "text/html": [
       "<table class=\"dataframe\">\n",
       "<caption>A tibble: 3 × 1</caption>\n",
       "<thead>\n",
       "\t<tr><th scope=col>city_country</th></tr>\n",
       "\t<tr><th scope=col>&lt;chr&gt;</th></tr>\n",
       "</thead>\n",
       "<tbody>\n",
       "\t<tr><td>Paris France</td></tr>\n",
       "\t<tr><td>Tokyo Japan </td></tr>\n",
       "\t<tr><td>New York USA</td></tr>\n",
       "</tbody>\n",
       "</table>\n"
      ],
      "text/latex": [
       "A tibble: 3 × 1\n",
       "\\begin{tabular}{l}\n",
       " city\\_country\\\\\n",
       " <chr>\\\\\n",
       "\\hline\n",
       "\t Paris France\\\\\n",
       "\t Tokyo Japan \\\\\n",
       "\t New York USA\\\\\n",
       "\\end{tabular}\n"
      ],
      "text/markdown": [
       "\n",
       "A tibble: 3 × 1\n",
       "\n",
       "| city_country &lt;chr&gt; |\n",
       "|---|\n",
       "| Paris France |\n",
       "| Tokyo Japan  |\n",
       "| New York USA |\n",
       "\n"
      ],
      "text/plain": [
       "  city_country\n",
       "1 Paris France\n",
       "2 Tokyo Japan \n",
       "3 New York USA"
      ]
     },
     "metadata": {},
     "output_type": "display_data"
    }
   ],
   "source": [
    "# Returns only the created column\n",
    "airbnb_listings %>%\n",
    "    transmute(city_country = paste(city, country))"
   ]
  },
  {
   "cell_type": "markdown",
   "id": "e60f6dd2-bdc5-4b52-9513-c3919ba98b47",
   "metadata": {},
   "source": [
    "##### 3. Count the number of values in groups and only return the count:"
   ]
  },
  {
   "cell_type": "code",
   "execution_count": 63,
   "id": "dc2dc03d-b376-422e-a495-723eef5bf764",
   "metadata": {},
   "outputs": [
    {
     "data": {
      "text/html": [
       "<table class=\"dataframe\">\n",
       "<caption>A spec_tbl_df: 3 × 2</caption>\n",
       "<thead>\n",
       "\t<tr><th scope=col>city</th><th scope=col>n</th></tr>\n",
       "\t<tr><th scope=col>&lt;chr&gt;</th><th scope=col>&lt;int&gt;</th></tr>\n",
       "</thead>\n",
       "<tbody>\n",
       "\t<tr><td>New York</td><td>1</td></tr>\n",
       "\t<tr><td>Paris   </td><td>1</td></tr>\n",
       "\t<tr><td>Tokyo   </td><td>1</td></tr>\n",
       "</tbody>\n",
       "</table>\n"
      ],
      "text/latex": [
       "A spec\\_tbl\\_df: 3 × 2\n",
       "\\begin{tabular}{ll}\n",
       " city & n\\\\\n",
       " <chr> & <int>\\\\\n",
       "\\hline\n",
       "\t New York & 1\\\\\n",
       "\t Paris    & 1\\\\\n",
       "\t Tokyo    & 1\\\\\n",
       "\\end{tabular}\n"
      ],
      "text/markdown": [
       "\n",
       "A spec_tbl_df: 3 × 2\n",
       "\n",
       "| city &lt;chr&gt; | n &lt;int&gt; |\n",
       "|---|---|\n",
       "| New York | 1 |\n",
       "| Paris    | 1 |\n",
       "| Tokyo    | 1 |\n",
       "\n"
      ],
      "text/plain": [
       "  city     n\n",
       "1 New York 1\n",
       "2 Paris    1\n",
       "3 Tokyo    1"
      ]
     },
     "metadata": {},
     "output_type": "display_data"
    }
   ],
   "source": [
    "airbnb_listings %>% count(city)"
   ]
  },
  {
   "cell_type": "code",
   "execution_count": 64,
   "id": "13eeb253-f58c-4622-8b16-d90cf87307a4",
   "metadata": {},
   "outputs": [
    {
     "data": {
      "text/html": [
       "<table class=\"dataframe\">\n",
       "<caption>A spec_tbl_df: 3 × 3</caption>\n",
       "<thead>\n",
       "\t<tr><th scope=col>city</th><th scope=col>country</th><th scope=col>n</th></tr>\n",
       "\t<tr><th scope=col>&lt;chr&gt;</th><th scope=col>&lt;chr&gt;</th><th scope=col>&lt;int&gt;</th></tr>\n",
       "</thead>\n",
       "<tbody>\n",
       "\t<tr><td>New York</td><td>USA   </td><td>1</td></tr>\n",
       "\t<tr><td>Paris   </td><td>France</td><td>1</td></tr>\n",
       "\t<tr><td>Tokyo   </td><td>Japan </td><td>1</td></tr>\n",
       "</tbody>\n",
       "</table>\n"
      ],
      "text/latex": [
       "A spec\\_tbl\\_df: 3 × 3\n",
       "\\begin{tabular}{lll}\n",
       " city & country & n\\\\\n",
       " <chr> & <chr> & <int>\\\\\n",
       "\\hline\n",
       "\t New York & USA    & 1\\\\\n",
       "\t Paris    & France & 1\\\\\n",
       "\t Tokyo    & Japan  & 1\\\\\n",
       "\\end{tabular}\n"
      ],
      "text/markdown": [
       "\n",
       "A spec_tbl_df: 3 × 3\n",
       "\n",
       "| city &lt;chr&gt; | country &lt;chr&gt; | n &lt;int&gt; |\n",
       "|---|---|---|\n",
       "| New York | USA    | 1 |\n",
       "| Paris    | France | 1 |\n",
       "| Tokyo    | Japan  | 1 |\n",
       "\n"
      ],
      "text/plain": [
       "  city     country n\n",
       "1 New York USA     1\n",
       "2 Paris    France  1\n",
       "3 Tokyo    Japan   1"
      ]
     },
     "metadata": {},
     "output_type": "display_data"
    }
   ],
   "source": [
    "airbnb_listings %>% count(city, country)"
   ]
  },
  {
   "cell_type": "markdown",
   "id": "42559f38-8d70-489e-8234-9d31e49cd8dd",
   "metadata": {},
   "source": [
    "##### 4. `add_count` group by some column and add the number of rows in each group back to the table"
   ]
  },
  {
   "cell_type": "code",
   "execution_count": 53,
   "id": "4dd6d60b-73b7-42fb-bc5e-163ad27c83ce",
   "metadata": {},
   "outputs": [
    {
     "data": {
      "text/html": [
       "<table class=\"dataframe\">\n",
       "<caption>A spec_tbl_df: 3 × 6</caption>\n",
       "<thead>\n",
       "\t<tr><th scope=col>listing_id</th><th scope=col>city</th><th scope=col>country</th><th scope=col>number_of_rooms</th><th scope=col>year_listed</th><th scope=col>n</th></tr>\n",
       "\t<tr><th scope=col>&lt;dbl&gt;</th><th scope=col>&lt;chr&gt;</th><th scope=col>&lt;chr&gt;</th><th scope=col>&lt;dbl&gt;</th><th scope=col>&lt;dbl&gt;</th><th scope=col>&lt;int&gt;</th></tr>\n",
       "</thead>\n",
       "<tbody>\n",
       "\t<tr><td>1</td><td>Paris   </td><td>France</td><td>5</td><td>2018</td><td>1</td></tr>\n",
       "\t<tr><td>2</td><td>Tokyo   </td><td>Japan </td><td>2</td><td>2017</td><td>1</td></tr>\n",
       "\t<tr><td>3</td><td>New York</td><td>USA   </td><td>2</td><td>2022</td><td>1</td></tr>\n",
       "</tbody>\n",
       "</table>\n"
      ],
      "text/latex": [
       "A spec\\_tbl\\_df: 3 × 6\n",
       "\\begin{tabular}{llllll}\n",
       " listing\\_id & city & country & number\\_of\\_rooms & year\\_listed & n\\\\\n",
       " <dbl> & <chr> & <chr> & <dbl> & <dbl> & <int>\\\\\n",
       "\\hline\n",
       "\t 1 & Paris    & France & 5 & 2018 & 1\\\\\n",
       "\t 2 & Tokyo    & Japan  & 2 & 2017 & 1\\\\\n",
       "\t 3 & New York & USA    & 2 & 2022 & 1\\\\\n",
       "\\end{tabular}\n"
      ],
      "text/markdown": [
       "\n",
       "A spec_tbl_df: 3 × 6\n",
       "\n",
       "| listing_id &lt;dbl&gt; | city &lt;chr&gt; | country &lt;chr&gt; | number_of_rooms &lt;dbl&gt; | year_listed &lt;dbl&gt; | n &lt;int&gt; |\n",
       "|---|---|---|---|---|---|\n",
       "| 1 | Paris    | France | 5 | 2018 | 1 |\n",
       "| 2 | Tokyo    | Japan  | 2 | 2017 | 1 |\n",
       "| 3 | New York | USA    | 2 | 2022 | 1 |\n",
       "\n"
      ],
      "text/plain": [
       "  listing_id city     country number_of_rooms year_listed n\n",
       "1 1          Paris    France  5               2018        1\n",
       "2 2          Tokyo    Japan   2               2017        1\n",
       "3 3          New York USA     2               2022        1"
      ]
     },
     "metadata": {},
     "output_type": "display_data"
    }
   ],
   "source": [
    "add_count(airbnb_listings, listing_id)"
   ]
  },
  {
   "cell_type": "markdown",
   "id": "3fa37cb3-a3c1-41ba-82de-81a3c07b9120",
   "metadata": {},
   "source": [
    "# Aggregating data with dplyr"
   ]
  },
  {
   "cell_type": "markdown",
   "id": "6acab125-c305-4687-b051-07c1dcdb42a3",
   "metadata": {},
   "source": [
    "#### Instructions: Please provide examples of use-cases that leverage these functions. Try to be simplistic and provide one-use-case per function:\n",
    "\n",
    "- count(, sort=)\n",
    "- summarize() using sum\n",
    "- summarize() using mean\n",
    "- summarize() using sum and mean\n",
    "- group_by()\n",
    "- group_by() and summarize() together\n",
    "- group_by() and summarize() and ungroup() together\n",
    "- group_by() and top_n()"
   ]
  },
  {
   "cell_type": "markdown",
   "id": "20607d8e-b60e-4945-9498-99ef27790d5d",
   "metadata": {},
   "source": [
    "##### 1. Count groups in a variable and return sorted:"
   ]
  },
  {
   "cell_type": "code",
   "execution_count": 66,
   "id": "caefec53-2c8b-44e7-b90b-b15615eb8074",
   "metadata": {},
   "outputs": [
    {
     "data": {
      "text/html": [
       "<table class=\"dataframe\">\n",
       "<caption>A spec_tbl_df: 3 × 2</caption>\n",
       "<thead>\n",
       "\t<tr><th scope=col>listing_id</th><th scope=col>n</th></tr>\n",
       "\t<tr><th scope=col>&lt;dbl&gt;</th><th scope=col>&lt;int&gt;</th></tr>\n",
       "</thead>\n",
       "<tbody>\n",
       "\t<tr><td>1</td><td>1</td></tr>\n",
       "\t<tr><td>2</td><td>1</td></tr>\n",
       "\t<tr><td>3</td><td>1</td></tr>\n",
       "</tbody>\n",
       "</table>\n"
      ],
      "text/latex": [
       "A spec\\_tbl\\_df: 3 × 2\n",
       "\\begin{tabular}{ll}\n",
       " listing\\_id & n\\\\\n",
       " <dbl> & <int>\\\\\n",
       "\\hline\n",
       "\t 1 & 1\\\\\n",
       "\t 2 & 1\\\\\n",
       "\t 3 & 1\\\\\n",
       "\\end{tabular}\n"
      ],
      "text/markdown": [
       "\n",
       "A spec_tbl_df: 3 × 2\n",
       "\n",
       "| listing_id &lt;dbl&gt; | n &lt;int&gt; |\n",
       "|---|---|\n",
       "| 1 | 1 |\n",
       "| 2 | 1 |\n",
       "| 3 | 1 |\n",
       "\n"
      ],
      "text/plain": [
       "  listing_id n\n",
       "1 1          1\n",
       "2 2          1\n",
       "3 3          1"
      ]
     },
     "metadata": {},
     "output_type": "display_data"
    }
   ],
   "source": [
    "airbnb_listings %>% count(listing_id, sort=TRUE)"
   ]
  },
  {
   "cell_type": "markdown",
   "id": "786506ee-0b9a-4a10-aab4-254c49caf4c0",
   "metadata": {},
   "source": [
    "##### 2. Find total number of rooms of all houses:"
   ]
  },
  {
   "cell_type": "code",
   "execution_count": 67,
   "id": "94979922-ac74-4441-ad22-4d28614ecb48",
   "metadata": {},
   "outputs": [
    {
     "data": {
      "text/html": [
       "<table class=\"dataframe\">\n",
       "<caption>A tibble: 1 × 1</caption>\n",
       "<thead>\n",
       "\t<tr><th scope=col>total_rooms</th></tr>\n",
       "\t<tr><th scope=col>&lt;dbl&gt;</th></tr>\n",
       "</thead>\n",
       "<tbody>\n",
       "\t<tr><td>9</td></tr>\n",
       "</tbody>\n",
       "</table>\n"
      ],
      "text/latex": [
       "A tibble: 1 × 1\n",
       "\\begin{tabular}{l}\n",
       " total\\_rooms\\\\\n",
       " <dbl>\\\\\n",
       "\\hline\n",
       "\t 9\\\\\n",
       "\\end{tabular}\n"
      ],
      "text/markdown": [
       "\n",
       "A tibble: 1 × 1\n",
       "\n",
       "| total_rooms &lt;dbl&gt; |\n",
       "|---|\n",
       "| 9 |\n",
       "\n"
      ],
      "text/plain": [
       "  total_rooms\n",
       "1 9          "
      ]
     },
     "metadata": {},
     "output_type": "display_data"
    }
   ],
   "source": [
    "airbnb_listings %>% summarise(total_rooms=sum(number_of_rooms))"
   ]
  },
  {
   "cell_type": "markdown",
   "id": "7e40068d-0292-4745-8521-025795ba77ad",
   "metadata": {},
   "source": [
    "##### 3. Find the average number of rooms of houses:"
   ]
  },
  {
   "cell_type": "code",
   "execution_count": 68,
   "id": "01f9d9b5-0314-4e32-9667-3f9d2048d9de",
   "metadata": {},
   "outputs": [
    {
     "data": {
      "text/html": [
       "<table class=\"dataframe\">\n",
       "<caption>A tibble: 1 × 1</caption>\n",
       "<thead>\n",
       "\t<tr><th scope=col>avg_room</th></tr>\n",
       "\t<tr><th scope=col>&lt;dbl&gt;</th></tr>\n",
       "</thead>\n",
       "<tbody>\n",
       "\t<tr><td>3</td></tr>\n",
       "</tbody>\n",
       "</table>\n"
      ],
      "text/latex": [
       "A tibble: 1 × 1\n",
       "\\begin{tabular}{l}\n",
       " avg\\_room\\\\\n",
       " <dbl>\\\\\n",
       "\\hline\n",
       "\t 3\\\\\n",
       "\\end{tabular}\n"
      ],
      "text/markdown": [
       "\n",
       "A tibble: 1 × 1\n",
       "\n",
       "| avg_room &lt;dbl&gt; |\n",
       "|---|\n",
       "| 3 |\n",
       "\n"
      ],
      "text/plain": [
       "  avg_room\n",
       "1 3       "
      ]
     },
     "metadata": {},
     "output_type": "display_data"
    }
   ],
   "source": [
    "airbnb_listings %>% summarise(avg_room=mean(number_of_rooms))"
   ]
  },
  {
   "cell_type": "markdown",
   "id": "b902a368-831c-409a-b371-add1980fe70a",
   "metadata": {},
   "source": [
    "##### 5. Find the average age of houses:"
   ]
  },
  {
   "cell_type": "code",
   "execution_count": 79,
   "id": "0e1b7b32-c896-4a70-9705-d8fa3fe9898a",
   "metadata": {},
   "outputs": [
    {
     "data": {
      "text/html": [
       "<table class=\"dataframe\">\n",
       "<caption>A tibble: 1 × 1</caption>\n",
       "<thead>\n",
       "\t<tr><th scope=col>avg</th></tr>\n",
       "\t<tr><th scope=col>&lt;dbl&gt;</th></tr>\n",
       "</thead>\n",
       "<tbody>\n",
       "\t<tr><td>6057</td></tr>\n",
       "</tbody>\n",
       "</table>\n"
      ],
      "text/latex": [
       "A tibble: 1 × 1\n",
       "\\begin{tabular}{l}\n",
       " avg\\\\\n",
       " <dbl>\\\\\n",
       "\\hline\n",
       "\t 6057\\\\\n",
       "\\end{tabular}\n"
      ],
      "text/markdown": [
       "\n",
       "A tibble: 1 × 1\n",
       "\n",
       "| avg &lt;dbl&gt; |\n",
       "|---|\n",
       "| 6057 |\n",
       "\n"
      ],
      "text/plain": [
       "  avg \n",
       "1 6057"
      ]
     },
     "metadata": {},
     "output_type": "display_data"
    }
   ],
   "source": [
    "airbnb_listings %>%\n",
    "    summarise(total_years=sum(year_listed)) %>%\n",
    "    summarise(avg=mean(total_years))"
   ]
  },
  {
   "cell_type": "markdown",
   "id": "c13638ea-db5c-4861-b0c7-2bda069ffa84",
   "metadata": {},
   "source": [
    "# Joining tables with dplyr"
   ]
  },
  {
   "cell_type": "markdown",
   "id": "dfac6ec0-347d-4808-ba35-e8a96d1f92ee",
   "metadata": {},
   "source": [
    "## Working with tables"
   ]
  },
  {
   "cell_type": "markdown",
   "id": "052888bb-cb83-4586-89cd-08e738d21da2",
   "metadata": {},
   "source": [
    "#### Instructions: Please provide at least 5  functions covering joining different tables at once\n",
    "\n",
    "- bind_cols()\n",
    "- bind_rows()"
   ]
  },
  {
   "cell_type": "markdown",
   "id": "3481e753-4198-4b19-8034-035f3b517f12",
   "metadata": {},
   "source": [
    "## Joins in dplyr"
   ]
  },
  {
   "cell_type": "markdown",
   "id": "b1207929-f803-4e3e-9260-3a9006ff1077",
   "metadata": {},
   "source": [
    "#### Instructions: Provide examples for these functions:\n",
    "\n",
    "- inner_join()\n",
    "- semi_join()\n",
    "- nest_join()\n",
    "- left_join()\n",
    "- right_join()\n",
    "- full_join()\n",
    "- anti_join()\n"
   ]
  },
  {
   "cell_type": "code",
   "execution_count": 84,
   "id": "3d25b5f1-72e2-4460-a12d-b6f23700ff2d",
   "metadata": {},
   "outputs": [
    {
     "data": {
      "text/html": [
       "<table class=\"dataframe\">\n",
       "<caption>A spec_tbl_df: 3 × 8</caption>\n",
       "<thead>\n",
       "\t<tr><th scope=col>listing_id</th><th scope=col>city</th><th scope=col>country</th><th scope=col>number_of_rooms</th><th scope=col>year_listed</th><th scope=col>host_id</th><th scope=col>name</th><th scope=col>number_of_reviews</th></tr>\n",
       "\t<tr><th scope=col>&lt;dbl&gt;</th><th scope=col>&lt;chr&gt;</th><th scope=col>&lt;chr&gt;</th><th scope=col>&lt;dbl&gt;</th><th scope=col>&lt;dbl&gt;</th><th scope=col>&lt;dbl&gt;</th><th scope=col>&lt;chr&gt;</th><th scope=col>&lt;dbl&gt;</th></tr>\n",
       "</thead>\n",
       "<tbody>\n",
       "\t<tr><td>1</td><td>Paris   </td><td>France</td><td>5</td><td>2018</td><td>1</td><td>Jen Bricker       </td><td>34</td></tr>\n",
       "\t<tr><td>2</td><td>Tokyo   </td><td>Japan </td><td>2</td><td>2017</td><td>2</td><td>Richie Cotton     </td><td>12</td></tr>\n",
       "\t<tr><td>3</td><td>New York</td><td>USA   </td><td>2</td><td>2022</td><td>3</td><td>Raven Todd Dasliva</td><td>55</td></tr>\n",
       "</tbody>\n",
       "</table>\n"
      ],
      "text/latex": [
       "A spec\\_tbl\\_df: 3 × 8\n",
       "\\begin{tabular}{llllllll}\n",
       " listing\\_id & city & country & number\\_of\\_rooms & year\\_listed & host\\_id & name & number\\_of\\_reviews\\\\\n",
       " <dbl> & <chr> & <chr> & <dbl> & <dbl> & <dbl> & <chr> & <dbl>\\\\\n",
       "\\hline\n",
       "\t 1 & Paris    & France & 5 & 2018 & 1 & Jen Bricker        & 34\\\\\n",
       "\t 2 & Tokyo    & Japan  & 2 & 2017 & 2 & Richie Cotton      & 12\\\\\n",
       "\t 3 & New York & USA    & 2 & 2022 & 3 & Raven Todd Dasliva & 55\\\\\n",
       "\\end{tabular}\n"
      ],
      "text/markdown": [
       "\n",
       "A spec_tbl_df: 3 × 8\n",
       "\n",
       "| listing_id &lt;dbl&gt; | city &lt;chr&gt; | country &lt;chr&gt; | number_of_rooms &lt;dbl&gt; | year_listed &lt;dbl&gt; | host_id &lt;dbl&gt; | name &lt;chr&gt; | number_of_reviews &lt;dbl&gt; |\n",
       "|---|---|---|---|---|---|---|---|\n",
       "| 1 | Paris    | France | 5 | 2018 | 1 | Jen Bricker        | 34 |\n",
       "| 2 | Tokyo    | Japan  | 2 | 2017 | 2 | Richie Cotton      | 12 |\n",
       "| 3 | New York | USA    | 2 | 2022 | 3 | Raven Todd Dasliva | 55 |\n",
       "\n"
      ],
      "text/plain": [
       "  listing_id city     country number_of_rooms year_listed host_id\n",
       "1 1          Paris    France  5               2018        1      \n",
       "2 2          Tokyo    Japan   2               2017        2      \n",
       "3 3          New York USA     2               2022        3      \n",
       "  name               number_of_reviews\n",
       "1 Jen Bricker        34               \n",
       "2 Richie Cotton      12               \n",
       "3 Raven Todd Dasliva 55               "
      ]
     },
     "metadata": {},
     "output_type": "display_data"
    }
   ],
   "source": [
    "airbnb_listings %>% \n",
    "    inner_join(host_listings, by='listing_id')"
   ]
  },
  {
   "cell_type": "code",
   "execution_count": 86,
   "id": "16985887-a76a-406c-8b7c-6c54c0f9fac6",
   "metadata": {},
   "outputs": [
    {
     "data": {
      "text/html": [
       "<table class=\"dataframe\">\n",
       "<caption>A spec_tbl_df: 3 × 4</caption>\n",
       "<thead>\n",
       "\t<tr><th scope=col>host_id</th><th scope=col>name</th><th scope=col>listing_id</th><th scope=col>number_of_reviews</th></tr>\n",
       "\t<tr><th scope=col>&lt;dbl&gt;</th><th scope=col>&lt;chr&gt;</th><th scope=col>&lt;dbl&gt;</th><th scope=col>&lt;dbl&gt;</th></tr>\n",
       "</thead>\n",
       "<tbody>\n",
       "\t<tr><td>1</td><td>Jen Bricker       </td><td>1</td><td>34</td></tr>\n",
       "\t<tr><td>2</td><td>Richie Cotton     </td><td>2</td><td>12</td></tr>\n",
       "\t<tr><td>3</td><td>Raven Todd Dasliva</td><td>3</td><td>55</td></tr>\n",
       "</tbody>\n",
       "</table>\n"
      ],
      "text/latex": [
       "A spec\\_tbl\\_df: 3 × 4\n",
       "\\begin{tabular}{llll}\n",
       " host\\_id & name & listing\\_id & number\\_of\\_reviews\\\\\n",
       " <dbl> & <chr> & <dbl> & <dbl>\\\\\n",
       "\\hline\n",
       "\t 1 & Jen Bricker        & 1 & 34\\\\\n",
       "\t 2 & Richie Cotton      & 2 & 12\\\\\n",
       "\t 3 & Raven Todd Dasliva & 3 & 55\\\\\n",
       "\\end{tabular}\n"
      ],
      "text/markdown": [
       "\n",
       "A spec_tbl_df: 3 × 4\n",
       "\n",
       "| host_id &lt;dbl&gt; | name &lt;chr&gt; | listing_id &lt;dbl&gt; | number_of_reviews &lt;dbl&gt; |\n",
       "|---|---|---|---|\n",
       "| 1 | Jen Bricker        | 1 | 34 |\n",
       "| 2 | Richie Cotton      | 2 | 12 |\n",
       "| 3 | Raven Todd Dasliva | 3 | 55 |\n",
       "\n"
      ],
      "text/plain": [
       "  host_id name               listing_id number_of_reviews\n",
       "1 1       Jen Bricker        1          34               \n",
       "2 2       Richie Cotton      2          12               \n",
       "3 3       Raven Todd Dasliva 3          55               "
      ]
     },
     "metadata": {},
     "output_type": "display_data"
    }
   ],
   "source": [
    "host_listings %>%\n",
    "    semi_join(airbnb_listings, by=\"listing_id\")"
   ]
  },
  {
   "cell_type": "code",
   "execution_count": 87,
   "id": "67caee06-2211-4769-9746-93f517fedd02",
   "metadata": {},
   "outputs": [
    {
     "data": {
      "text/html": [
       "<table class=\"dataframe\">\n",
       "<caption>A spec_tbl_df: 3 × 6</caption>\n",
       "<thead>\n",
       "\t<tr><th scope=col>listing_id</th><th scope=col>city</th><th scope=col>country</th><th scope=col>number_of_rooms</th><th scope=col>year_listed</th><th scope=col>host_listings</th></tr>\n",
       "\t<tr><th scope=col>&lt;dbl&gt;</th><th scope=col>&lt;chr&gt;</th><th scope=col>&lt;chr&gt;</th><th scope=col>&lt;dbl&gt;</th><th scope=col>&lt;dbl&gt;</th><th scope=col>&lt;list&gt;</th></tr>\n",
       "</thead>\n",
       "<tbody>\n",
       "\t<tr><td>1</td><td>Paris   </td><td>France</td><td>5</td><td>2018</td><td>1          , Jen Bricker, 34         </td></tr>\n",
       "\t<tr><td>2</td><td>Tokyo   </td><td>Japan </td><td>2</td><td>2017</td><td>2            , Richie Cotton, 12           </td></tr>\n",
       "\t<tr><td>3</td><td>New York</td><td>USA   </td><td>2</td><td>2022</td><td>3                 , Raven Todd Dasliva, 55                </td></tr>\n",
       "</tbody>\n",
       "</table>\n"
      ],
      "text/latex": [
       "A spec\\_tbl\\_df: 3 × 6\n",
       "\\begin{tabular}{llllll}\n",
       " listing\\_id & city & country & number\\_of\\_rooms & year\\_listed & host\\_listings\\\\\n",
       " <dbl> & <chr> & <chr> & <dbl> & <dbl> & <list>\\\\\n",
       "\\hline\n",
       "\t 1 & Paris    & France & 5 & 2018 & 1          , Jen Bricker, 34         \\\\\n",
       "\t 2 & Tokyo    & Japan  & 2 & 2017 & 2            , Richie Cotton, 12           \\\\\n",
       "\t 3 & New York & USA    & 2 & 2022 & 3                 , Raven Todd Dasliva, 55                \\\\\n",
       "\\end{tabular}\n"
      ],
      "text/markdown": [
       "\n",
       "A spec_tbl_df: 3 × 6\n",
       "\n",
       "| listing_id &lt;dbl&gt; | city &lt;chr&gt; | country &lt;chr&gt; | number_of_rooms &lt;dbl&gt; | year_listed &lt;dbl&gt; | host_listings &lt;list&gt; |\n",
       "|---|---|---|---|---|---|\n",
       "| 1 | Paris    | France | 5 | 2018 | 1          , Jen Bricker, 34          |\n",
       "| 2 | Tokyo    | Japan  | 2 | 2017 | 2            , Richie Cotton, 12            |\n",
       "| 3 | New York | USA    | 2 | 2022 | 3                 , Raven Todd Dasliva, 55                 |\n",
       "\n"
      ],
      "text/plain": [
       "  listing_id city     country number_of_rooms year_listed\n",
       "1 1          Paris    France  5               2018       \n",
       "2 2          Tokyo    Japan   2               2017       \n",
       "3 3          New York USA     2               2022       \n",
       "  host_listings                                             \n",
       "1 1          , Jen Bricker, 34                              \n",
       "2 2            , Richie Cotton, 12                          \n",
       "3 3                 , Raven Todd Dasliva, 55                "
      ]
     },
     "metadata": {},
     "output_type": "display_data"
    }
   ],
   "source": [
    "airbnb_listings %>%\n",
    "    nest_join(host_listings, by=\"listing_id\")"
   ]
  },
  {
   "cell_type": "code",
   "execution_count": 88,
   "id": "4a1f704f-ff83-4334-a93a-6b5a9539889a",
   "metadata": {},
   "outputs": [
    {
     "data": {
      "text/html": [
       "<table class=\"dataframe\">\n",
       "<caption>A spec_tbl_df: 3 × 8</caption>\n",
       "<thead>\n",
       "\t<tr><th scope=col>host_id</th><th scope=col>name</th><th scope=col>listing_id</th><th scope=col>number_of_reviews</th><th scope=col>city</th><th scope=col>country</th><th scope=col>number_of_rooms</th><th scope=col>year_listed</th></tr>\n",
       "\t<tr><th scope=col>&lt;dbl&gt;</th><th scope=col>&lt;chr&gt;</th><th scope=col>&lt;dbl&gt;</th><th scope=col>&lt;dbl&gt;</th><th scope=col>&lt;chr&gt;</th><th scope=col>&lt;chr&gt;</th><th scope=col>&lt;dbl&gt;</th><th scope=col>&lt;dbl&gt;</th></tr>\n",
       "</thead>\n",
       "<tbody>\n",
       "\t<tr><td>1</td><td>Jen Bricker       </td><td>1</td><td>34</td><td>Paris   </td><td>France</td><td>5</td><td>2018</td></tr>\n",
       "\t<tr><td>2</td><td>Richie Cotton     </td><td>2</td><td>12</td><td>Tokyo   </td><td>Japan </td><td>2</td><td>2017</td></tr>\n",
       "\t<tr><td>3</td><td>Raven Todd Dasliva</td><td>3</td><td>55</td><td>New York</td><td>USA   </td><td>2</td><td>2022</td></tr>\n",
       "</tbody>\n",
       "</table>\n"
      ],
      "text/latex": [
       "A spec\\_tbl\\_df: 3 × 8\n",
       "\\begin{tabular}{llllllll}\n",
       " host\\_id & name & listing\\_id & number\\_of\\_reviews & city & country & number\\_of\\_rooms & year\\_listed\\\\\n",
       " <dbl> & <chr> & <dbl> & <dbl> & <chr> & <chr> & <dbl> & <dbl>\\\\\n",
       "\\hline\n",
       "\t 1 & Jen Bricker        & 1 & 34 & Paris    & France & 5 & 2018\\\\\n",
       "\t 2 & Richie Cotton      & 2 & 12 & Tokyo    & Japan  & 2 & 2017\\\\\n",
       "\t 3 & Raven Todd Dasliva & 3 & 55 & New York & USA    & 2 & 2022\\\\\n",
       "\\end{tabular}\n"
      ],
      "text/markdown": [
       "\n",
       "A spec_tbl_df: 3 × 8\n",
       "\n",
       "| host_id &lt;dbl&gt; | name &lt;chr&gt; | listing_id &lt;dbl&gt; | number_of_reviews &lt;dbl&gt; | city &lt;chr&gt; | country &lt;chr&gt; | number_of_rooms &lt;dbl&gt; | year_listed &lt;dbl&gt; |\n",
       "|---|---|---|---|---|---|---|---|\n",
       "| 1 | Jen Bricker        | 1 | 34 | Paris    | France | 5 | 2018 |\n",
       "| 2 | Richie Cotton      | 2 | 12 | Tokyo    | Japan  | 2 | 2017 |\n",
       "| 3 | Raven Todd Dasliva | 3 | 55 | New York | USA    | 2 | 2022 |\n",
       "\n"
      ],
      "text/plain": [
       "  host_id name               listing_id number_of_reviews city     country\n",
       "1 1       Jen Bricker        1          34                Paris    France \n",
       "2 2       Richie Cotton      2          12                Tokyo    Japan  \n",
       "3 3       Raven Todd Dasliva 3          55                New York USA    \n",
       "  number_of_rooms year_listed\n",
       "1 5               2018       \n",
       "2 2               2017       \n",
       "3 2               2022       "
      ]
     },
     "metadata": {},
     "output_type": "display_data"
    }
   ],
   "source": [
    "host_listings %>% left_join(airbnb_listings, by=\"listing_id\")"
   ]
  },
  {
   "cell_type": "code",
   "execution_count": 90,
   "id": "2cd3b82e-78ba-4e21-853b-993e1deed684",
   "metadata": {},
   "outputs": [
    {
     "data": {
      "text/html": [
       "<table class=\"dataframe\">\n",
       "<caption>A spec_tbl_df: 3 × 8</caption>\n",
       "<thead>\n",
       "\t<tr><th scope=col>host_id</th><th scope=col>name</th><th scope=col>listing_id</th><th scope=col>number_of_reviews</th><th scope=col>city</th><th scope=col>country</th><th scope=col>number_of_rooms</th><th scope=col>year_listed</th></tr>\n",
       "\t<tr><th scope=col>&lt;dbl&gt;</th><th scope=col>&lt;chr&gt;</th><th scope=col>&lt;dbl&gt;</th><th scope=col>&lt;dbl&gt;</th><th scope=col>&lt;chr&gt;</th><th scope=col>&lt;chr&gt;</th><th scope=col>&lt;dbl&gt;</th><th scope=col>&lt;dbl&gt;</th></tr>\n",
       "</thead>\n",
       "<tbody>\n",
       "\t<tr><td>1</td><td>Jen Bricker       </td><td>1</td><td>34</td><td>Paris   </td><td>France</td><td>5</td><td>2018</td></tr>\n",
       "\t<tr><td>2</td><td>Richie Cotton     </td><td>2</td><td>12</td><td>Tokyo   </td><td>Japan </td><td>2</td><td>2017</td></tr>\n",
       "\t<tr><td>3</td><td>Raven Todd Dasliva</td><td>3</td><td>55</td><td>New York</td><td>USA   </td><td>2</td><td>2022</td></tr>\n",
       "</tbody>\n",
       "</table>\n"
      ],
      "text/latex": [
       "A spec\\_tbl\\_df: 3 × 8\n",
       "\\begin{tabular}{llllllll}\n",
       " host\\_id & name & listing\\_id & number\\_of\\_reviews & city & country & number\\_of\\_rooms & year\\_listed\\\\\n",
       " <dbl> & <chr> & <dbl> & <dbl> & <chr> & <chr> & <dbl> & <dbl>\\\\\n",
       "\\hline\n",
       "\t 1 & Jen Bricker        & 1 & 34 & Paris    & France & 5 & 2018\\\\\n",
       "\t 2 & Richie Cotton      & 2 & 12 & Tokyo    & Japan  & 2 & 2017\\\\\n",
       "\t 3 & Raven Todd Dasliva & 3 & 55 & New York & USA    & 2 & 2022\\\\\n",
       "\\end{tabular}\n"
      ],
      "text/markdown": [
       "\n",
       "A spec_tbl_df: 3 × 8\n",
       "\n",
       "| host_id &lt;dbl&gt; | name &lt;chr&gt; | listing_id &lt;dbl&gt; | number_of_reviews &lt;dbl&gt; | city &lt;chr&gt; | country &lt;chr&gt; | number_of_rooms &lt;dbl&gt; | year_listed &lt;dbl&gt; |\n",
       "|---|---|---|---|---|---|---|---|\n",
       "| 1 | Jen Bricker        | 1 | 34 | Paris    | France | 5 | 2018 |\n",
       "| 2 | Richie Cotton      | 2 | 12 | Tokyo    | Japan  | 2 | 2017 |\n",
       "| 3 | Raven Todd Dasliva | 3 | 55 | New York | USA    | 2 | 2022 |\n",
       "\n"
      ],
      "text/plain": [
       "  host_id name               listing_id number_of_reviews city     country\n",
       "1 1       Jen Bricker        1          34                Paris    France \n",
       "2 2       Richie Cotton      2          12                Tokyo    Japan  \n",
       "3 3       Raven Todd Dasliva 3          55                New York USA    \n",
       "  number_of_rooms year_listed\n",
       "1 5               2018       \n",
       "2 2               2017       \n",
       "3 2               2022       "
      ]
     },
     "metadata": {},
     "output_type": "display_data"
    }
   ],
   "source": [
    "host_listings %>% right_join(airbnb_listings, by=\"listing_id\")"
   ]
  },
  {
   "cell_type": "code",
   "execution_count": 91,
   "id": "2aaebd64-da63-43f1-bf7a-23521aa09783",
   "metadata": {},
   "outputs": [
    {
     "data": {
      "text/html": [
       "<table class=\"dataframe\">\n",
       "<caption>A spec_tbl_df: 3 × 8</caption>\n",
       "<thead>\n",
       "\t<tr><th scope=col>host_id</th><th scope=col>name</th><th scope=col>listing_id</th><th scope=col>number_of_reviews</th><th scope=col>city</th><th scope=col>country</th><th scope=col>number_of_rooms</th><th scope=col>year_listed</th></tr>\n",
       "\t<tr><th scope=col>&lt;dbl&gt;</th><th scope=col>&lt;chr&gt;</th><th scope=col>&lt;dbl&gt;</th><th scope=col>&lt;dbl&gt;</th><th scope=col>&lt;chr&gt;</th><th scope=col>&lt;chr&gt;</th><th scope=col>&lt;dbl&gt;</th><th scope=col>&lt;dbl&gt;</th></tr>\n",
       "</thead>\n",
       "<tbody>\n",
       "\t<tr><td>1</td><td>Jen Bricker       </td><td>1</td><td>34</td><td>Paris   </td><td>France</td><td>5</td><td>2018</td></tr>\n",
       "\t<tr><td>2</td><td>Richie Cotton     </td><td>2</td><td>12</td><td>Tokyo   </td><td>Japan </td><td>2</td><td>2017</td></tr>\n",
       "\t<tr><td>3</td><td>Raven Todd Dasliva</td><td>3</td><td>55</td><td>New York</td><td>USA   </td><td>2</td><td>2022</td></tr>\n",
       "</tbody>\n",
       "</table>\n"
      ],
      "text/latex": [
       "A spec\\_tbl\\_df: 3 × 8\n",
       "\\begin{tabular}{llllllll}\n",
       " host\\_id & name & listing\\_id & number\\_of\\_reviews & city & country & number\\_of\\_rooms & year\\_listed\\\\\n",
       " <dbl> & <chr> & <dbl> & <dbl> & <chr> & <chr> & <dbl> & <dbl>\\\\\n",
       "\\hline\n",
       "\t 1 & Jen Bricker        & 1 & 34 & Paris    & France & 5 & 2018\\\\\n",
       "\t 2 & Richie Cotton      & 2 & 12 & Tokyo    & Japan  & 2 & 2017\\\\\n",
       "\t 3 & Raven Todd Dasliva & 3 & 55 & New York & USA    & 2 & 2022\\\\\n",
       "\\end{tabular}\n"
      ],
      "text/markdown": [
       "\n",
       "A spec_tbl_df: 3 × 8\n",
       "\n",
       "| host_id &lt;dbl&gt; | name &lt;chr&gt; | listing_id &lt;dbl&gt; | number_of_reviews &lt;dbl&gt; | city &lt;chr&gt; | country &lt;chr&gt; | number_of_rooms &lt;dbl&gt; | year_listed &lt;dbl&gt; |\n",
       "|---|---|---|---|---|---|---|---|\n",
       "| 1 | Jen Bricker        | 1 | 34 | Paris    | France | 5 | 2018 |\n",
       "| 2 | Richie Cotton      | 2 | 12 | Tokyo    | Japan  | 2 | 2017 |\n",
       "| 3 | Raven Todd Dasliva | 3 | 55 | New York | USA    | 2 | 2022 |\n",
       "\n"
      ],
      "text/plain": [
       "  host_id name               listing_id number_of_reviews city     country\n",
       "1 1       Jen Bricker        1          34                Paris    France \n",
       "2 2       Richie Cotton      2          12                Tokyo    Japan  \n",
       "3 3       Raven Todd Dasliva 3          55                New York USA    \n",
       "  number_of_rooms year_listed\n",
       "1 5               2018       \n",
       "2 2               2017       \n",
       "3 2               2022       "
      ]
     },
     "metadata": {},
     "output_type": "display_data"
    }
   ],
   "source": [
    "host_listings %>% full_join(airbnb_listings, by=\"listing_id\")"
   ]
  },
  {
   "cell_type": "code",
   "execution_count": 92,
   "id": "fb43172d-20c5-429b-8fba-3ba4687a9757",
   "metadata": {},
   "outputs": [
    {
     "data": {
      "text/html": [
       "<table class=\"dataframe\">\n",
       "<caption>A spec_tbl_df: 0 × 5</caption>\n",
       "<thead>\n",
       "\t<tr><th scope=col>listing_id</th><th scope=col>city</th><th scope=col>country</th><th scope=col>number_of_rooms</th><th scope=col>year_listed</th></tr>\n",
       "\t<tr><th scope=col>&lt;dbl&gt;</th><th scope=col>&lt;chr&gt;</th><th scope=col>&lt;chr&gt;</th><th scope=col>&lt;dbl&gt;</th><th scope=col>&lt;dbl&gt;</th></tr>\n",
       "</thead>\n",
       "<tbody>\n",
       "</tbody>\n",
       "</table>\n"
      ],
      "text/latex": [
       "A spec\\_tbl\\_df: 0 × 5\n",
       "\\begin{tabular}{lllll}\n",
       " listing\\_id & city & country & number\\_of\\_rooms & year\\_listed\\\\\n",
       " <dbl> & <chr> & <chr> & <dbl> & <dbl>\\\\\n",
       "\\hline\n",
       "\\end{tabular}\n"
      ],
      "text/markdown": [
       "\n",
       "A spec_tbl_df: 0 × 5\n",
       "\n",
       "| listing_id &lt;dbl&gt; | city &lt;chr&gt; | country &lt;chr&gt; | number_of_rooms &lt;dbl&gt; | year_listed &lt;dbl&gt; |\n",
       "|---|---|---|---|---|\n",
       "\n"
      ],
      "text/plain": [
       "     listing_id city country number_of_rooms year_listed"
      ]
     },
     "metadata": {},
     "output_type": "display_data"
    }
   ],
   "source": [
    "airbnb_listings %>% anti_join(host_listings, by=\"listing_id\")"
   ]
  }
 ],
 "metadata": {
  "kernelspec": {
   "display_name": "R",
   "language": "R",
   "name": "ir"
  },
  "language_info": {
   "codemirror_mode": "r",
   "file_extension": ".r",
   "mimetype": "text/x-r-source",
   "name": "R",
   "pygments_lexer": "r",
   "version": "4.1.3"
  }
 },
 "nbformat": 4,
 "nbformat_minor": 5
}
