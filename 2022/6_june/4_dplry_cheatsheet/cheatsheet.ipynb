{
 "cells": [
  {
   "cell_type": "markdown",
   "id": "4e7d8428-f302-4f1a-aebe-9479f19559c4",
   "metadata": {},
   "source": [
    "# Setup"
   ]
  },
  {
   "cell_type": "code",
   "execution_count": 1,
   "id": "8a42319e-9b56-42bb-9e69-da5d838903be",
   "metadata": {},
   "outputs": [
    {
     "name": "stdout",
     "output_type": "stream",
     "text": [
      "package 'dplyr' successfully unpacked and MD5 sums checked\n"
     ]
    },
    {
     "name": "stderr",
     "output_type": "stream",
     "text": [
      "Warning message:\n",
      "\"cannot remove prior installation of package 'dplyr'\"\n",
      "Warning message in file.copy(savedcopy, lib, recursive = TRUE):\n",
      "\"problem copying C:\\Users\\bex\\anaconda3\\envs\\articles\\Lib\\R\\library\\00LOCK\\dplyr\\libs\\x64\\dplyr.dll to C:\\Users\\bex\\anaconda3\\envs\\articles\\Lib\\R\\library\\dplyr\\libs\\x64\\dplyr.dll: Permission denied\"\n",
      "Warning message:\n",
      "\"restored 'dplyr'\"\n"
     ]
    },
    {
     "name": "stdout",
     "output_type": "stream",
     "text": [
      "\n",
      "The downloaded binary packages are in\n",
      "\tC:\\Users\\bex\\AppData\\Local\\Temp\\RtmpAhfhLU\\downloaded_packages\n"
     ]
    }
   ],
   "source": [
    "install.packages(\"dplyr\")"
   ]
  },
  {
   "cell_type": "code",
   "execution_count": 2,
   "id": "49f33421-b5bd-40a6-b96d-30f49d944258",
   "metadata": {},
   "outputs": [
    {
     "name": "stderr",
     "output_type": "stream",
     "text": [
      "\n",
      "Attaching package: 'dplyr'\n",
      "\n",
      "\n",
      "The following objects are masked from 'package:stats':\n",
      "\n",
      "    filter, lag\n",
      "\n",
      "\n",
      "The following objects are masked from 'package:base':\n",
      "\n",
      "    intersect, setdiff, setequal, union\n",
      "\n",
      "\n"
     ]
    }
   ],
   "source": [
    "library(dplyr)"
   ]
  },
  {
   "cell_type": "code",
   "execution_count": 4,
   "id": "c114219f-ea2e-44c7-bf8e-6fad5d8ae880",
   "metadata": {},
   "outputs": [
    {
     "name": "stderr",
     "output_type": "stream",
     "text": [
      "-- \u001b[1mAttaching packages\u001b[22m --------------------------------------- tidyverse 1.3.1 --\n",
      "\n",
      "\u001b[32mv\u001b[39m \u001b[34mggplot2\u001b[39m 3.3.6     \u001b[32mv\u001b[39m \u001b[34mpurrr  \u001b[39m 0.3.4\n",
      "\u001b[32mv\u001b[39m \u001b[34mtibble \u001b[39m 3.1.7     \u001b[32mv\u001b[39m \u001b[34mstringr\u001b[39m 1.4.0\n",
      "\u001b[32mv\u001b[39m \u001b[34mtidyr  \u001b[39m 1.2.0     \u001b[32mv\u001b[39m \u001b[34mforcats\u001b[39m 0.5.1\n",
      "\u001b[32mv\u001b[39m \u001b[34mreadr  \u001b[39m 2.1.2     \n",
      "\n",
      "-- \u001b[1mConflicts\u001b[22m ------------------------------------------ tidyverse_conflicts() --\n",
      "\u001b[31mx\u001b[39m \u001b[34mdplyr\u001b[39m::\u001b[32mfilter()\u001b[39m masks \u001b[34mstats\u001b[39m::filter()\n",
      "\u001b[31mx\u001b[39m \u001b[34mdplyr\u001b[39m::\u001b[32mlag()\u001b[39m    masks \u001b[34mstats\u001b[39m::lag()\n",
      "\n"
     ]
    }
   ],
   "source": [
    "library(tidyverse)"
   ]
  },
  {
   "cell_type": "code",
   "execution_count": 5,
   "id": "1d29b062-ebbd-4976-9ca5-b1010f4e0ab6",
   "metadata": {},
   "outputs": [
    {
     "name": "stderr",
     "output_type": "stream",
     "text": [
      "\u001b[1mRows: \u001b[22m\u001b[34m3\u001b[39m \u001b[1mColumns: \u001b[22m\u001b[34m5\u001b[39m\n",
      "\u001b[36m--\u001b[39m \u001b[1mColumn specification\u001b[22m \u001b[36m--------------------------------------------------------\u001b[39m\n",
      "\u001b[1mDelimiter:\u001b[22m \",\"\n",
      "\u001b[31mchr\u001b[39m (2): city, country\n",
      "\u001b[32mdbl\u001b[39m (3): listing_id, number_of_rooms, year_listed\n",
      "\n",
      "\u001b[36mi\u001b[39m Use `spec()` to retrieve the full column specification for this data.\n",
      "\u001b[36mi\u001b[39m Specify the column types or set `show_col_types = FALSE` to quiet this message.\n"
     ]
    }
   ],
   "source": [
    "airbnb_listings <- read_csv(\"data/listings.csv\")"
   ]
  },
  {
   "cell_type": "code",
   "execution_count": 6,
   "id": "4fcf5b90-2296-4d71-86b5-377d2bf64175",
   "metadata": {},
   "outputs": [
    {
     "name": "stderr",
     "output_type": "stream",
     "text": [
      "\u001b[1mRows: \u001b[22m\u001b[34m3\u001b[39m \u001b[1mColumns: \u001b[22m\u001b[34m4\u001b[39m\n",
      "\u001b[36m--\u001b[39m \u001b[1mColumn specification\u001b[22m \u001b[36m--------------------------------------------------------\u001b[39m\n",
      "\u001b[1mDelimiter:\u001b[22m \",\"\n",
      "\u001b[31mchr\u001b[39m (1): name\n",
      "\u001b[32mdbl\u001b[39m (3): host_id, listing_id, number_of_reviews\n",
      "\n",
      "\u001b[36mi\u001b[39m Use `spec()` to retrieve the full column specification for this data.\n",
      "\u001b[36mi\u001b[39m Specify the column types or set `show_col_types = FALSE` to quiet this message.\n"
     ]
    }
   ],
   "source": [
    "host_listings = read_csv(\"data/host.csv\")"
   ]
  },
  {
   "cell_type": "markdown",
   "id": "b7e574ba-7d5f-4a1b-9405-c9f4cc0b45e9",
   "metadata": {},
   "source": [
    "# Transforming data with dplyr"
   ]
  },
  {
   "cell_type": "markdown",
   "id": "a2e9a0be-3a38-4f12-822c-2f4a5e898b36",
   "metadata": {},
   "source": [
    "## Working with columns"
   ]
  },
  {
   "cell_type": "markdown",
   "id": "a23d548e-d1ce-49b4-a1d6-fd292f902039",
   "metadata": {},
   "source": [
    "#### Instructions: Please provide at least 5 functions covering working with columns"
   ]
  },
  {
   "cell_type": "markdown",
   "id": "8527907d-a828-4dfd-9c98-86bb6fa2ae63",
   "metadata": {},
   "source": [
    "## Working with rows"
   ]
  },
  {
   "cell_type": "markdown",
   "id": "0cd22d1f-878c-421f-891c-eb58bed95982",
   "metadata": {},
   "source": [
    "#### Instructions: Please provide at least 5-7 functions covering working with rows"
   ]
  },
  {
   "cell_type": "markdown",
   "id": "dcebaf2a-db73-46b2-b3e6-cdf1d7861b38",
   "metadata": {},
   "source": [
    "## Adding new columns"
   ]
  },
  {
   "cell_type": "markdown",
   "id": "d909023a-a5d4-4b15-9037-d2e65c5b3076",
   "metadata": {},
   "source": [
    "#### Instructions: Please provide at least 5 functions on creating new columns "
   ]
  },
  {
   "cell_type": "markdown",
   "id": "3fa37cb3-a3c1-41ba-82de-81a3c07b9120",
   "metadata": {},
   "source": [
    "# Aggregating data with dplyr"
   ]
  },
  {
   "cell_type": "markdown",
   "id": "6acab125-c305-4687-b051-07c1dcdb42a3",
   "metadata": {},
   "source": [
    "#### Instructions: Please provide examples of use-cases that leverage these functions. Try to be simplistic and provide one-use-case per function:\n",
    "\n",
    "- count(, sort=)\n",
    "- summarize() using sum\n",
    "- summarize() using mean\n",
    "- summarize() using sum and mean\n",
    "- group_by()\n",
    "- group_by() and summarize() together\n",
    "- group_by() and summarize() and ungroup() together\n",
    "- group_by() and top_n()"
   ]
  },
  {
   "cell_type": "markdown",
   "id": "c13638ea-db5c-4861-b0c7-2bda069ffa84",
   "metadata": {},
   "source": [
    "# Joining tables with dplyr"
   ]
  },
  {
   "cell_type": "markdown",
   "id": "dfac6ec0-347d-4808-ba35-e8a96d1f92ee",
   "metadata": {},
   "source": [
    "## Working with tables"
   ]
  },
  {
   "cell_type": "markdown",
   "id": "052888bb-cb83-4586-89cd-08e738d21da2",
   "metadata": {},
   "source": [
    "#### Instructions: Please provide at least 5  functions covering joining different tables at once"
   ]
  },
  {
   "cell_type": "markdown",
   "id": "3481e753-4198-4b19-8034-035f3b517f12",
   "metadata": {},
   "source": [
    "## Joins in dplyr"
   ]
  },
  {
   "cell_type": "markdown",
   "id": "b1207929-f803-4e3e-9260-3a9006ff1077",
   "metadata": {},
   "source": [
    "#### Instructions: Provide examples for these functions:\n",
    "\n",
    "- inner_join()\n",
    "- semi_join()\n",
    "- nest_join()\n",
    "- left_join()\n",
    "- right_join()\n",
    "- full_join()\n",
    "- anti_join()\n"
   ]
  }
 ],
 "metadata": {
  "kernelspec": {
   "display_name": "R",
   "language": "R",
   "name": "ir"
  },
  "language_info": {
   "codemirror_mode": "r",
   "file_extension": ".r",
   "mimetype": "text/x-r-source",
   "name": "R",
   "pygments_lexer": "r",
   "version": "4.1.3"
  }
 },
 "nbformat": 4,
 "nbformat_minor": 5
}
