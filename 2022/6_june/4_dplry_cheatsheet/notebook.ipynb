{
 "cells": [
  {
   "cell_type": "code",
   "execution_count": 10,
   "id": "f4b01a80-d14c-4a57-8eae-382a64d34d7c",
   "metadata": {},
   "outputs": [
    {
     "name": "stderr",
     "output_type": "stream",
     "text": [
      "\n",
      "Attaching package: 'dplyr'\n",
      "\n",
      "\n",
      "The following objects are masked from 'package:stats':\n",
      "\n",
      "    filter, lag\n",
      "\n",
      "\n",
      "The following objects are masked from 'package:base':\n",
      "\n",
      "    intersect, setdiff, setequal, union\n",
      "\n",
      "\n"
     ]
    }
   ],
   "source": [
    "library(dplyr)"
   ]
  },
  {
   "cell_type": "code",
   "execution_count": 11,
   "id": "7847e0be-20ee-4e01-bb63-2208971e7c14",
   "metadata": {},
   "outputs": [
    {
     "name": "stderr",
     "output_type": "stream",
     "text": [
      "-- \u001b[1mAttaching packages\u001b[22m --------------------------------------- tidyverse 1.3.1 --\n",
      "\n",
      "\u001b[32mv\u001b[39m \u001b[34mggplot2\u001b[39m 3.3.6     \u001b[32mv\u001b[39m \u001b[34mpurrr  \u001b[39m 0.3.4\n",
      "\u001b[32mv\u001b[39m \u001b[34mtibble \u001b[39m 3.1.7     \u001b[32mv\u001b[39m \u001b[34mstringr\u001b[39m 1.4.0\n",
      "\u001b[32mv\u001b[39m \u001b[34mtidyr  \u001b[39m 1.2.0     \u001b[32mv\u001b[39m \u001b[34mforcats\u001b[39m 0.5.1\n",
      "\u001b[32mv\u001b[39m \u001b[34mreadr  \u001b[39m 2.1.2     \n",
      "\n",
      "-- \u001b[1mConflicts\u001b[22m ------------------------------------------ tidyverse_conflicts() --\n",
      "\u001b[31mx\u001b[39m \u001b[34mdplyr\u001b[39m::\u001b[32mfilter()\u001b[39m masks \u001b[34mstats\u001b[39m::filter()\n",
      "\u001b[31mx\u001b[39m \u001b[34mdplyr\u001b[39m::\u001b[32mlag()\u001b[39m    masks \u001b[34mstats\u001b[39m::lag()\n",
      "\n"
     ]
    }
   ],
   "source": [
    "library(tidyverse)"
   ]
  },
  {
   "cell_type": "code",
   "execution_count": 70,
   "id": "d945e210-5eec-44ae-835f-7ac3bc1acd9f",
   "metadata": {},
   "outputs": [
    {
     "name": "stderr",
     "output_type": "stream",
     "text": [
      "\u001b[1mRows: \u001b[22m\u001b[34m344\u001b[39m \u001b[1mColumns: \u001b[22m\u001b[34m7\u001b[39m\n",
      "\u001b[36m--\u001b[39m \u001b[1mColumn specification\u001b[22m \u001b[36m--------------------------------------------------------\u001b[39m\n",
      "\u001b[1mDelimiter:\u001b[22m \",\"\n",
      "\u001b[31mchr\u001b[39m (3): species, island, sex\n",
      "\u001b[32mdbl\u001b[39m (4): bill_length_mm, bill_depth_mm, flipper_length_mm, body_mass_g\n",
      "\n",
      "\u001b[36mi\u001b[39m Use `spec()` to retrieve the full column specification for this data.\n",
      "\u001b[36mi\u001b[39m Specify the column types or set `show_col_types = FALSE` to quiet this message.\n"
     ]
    }
   ],
   "source": [
    "penguins = read_csv(\"data/penguins.csv\")"
   ]
  },
  {
   "cell_type": "code",
   "execution_count": 27,
   "id": "38c53d48-7afb-4c93-8617-3f6a5984d47a",
   "metadata": {},
   "outputs": [
    {
     "data": {
      "text/plain": [
       "cols(\n",
       "  species = \u001b[31mcol_character()\u001b[39m,\n",
       "  island = \u001b[31mcol_character()\u001b[39m,\n",
       "  bill_length_mm = \u001b[32mcol_double()\u001b[39m,\n",
       "  bill_depth_mm = \u001b[32mcol_double()\u001b[39m,\n",
       "  flipper_length_mm = \u001b[32mcol_double()\u001b[39m,\n",
       "  body_mass_g = \u001b[32mcol_double()\u001b[39m,\n",
       "  sex = \u001b[31mcol_character()\u001b[39m\n",
       ")"
      ]
     },
     "metadata": {},
     "output_type": "display_data"
    }
   ],
   "source": [
    "spec(penguins)"
   ]
  },
  {
   "cell_type": "code",
   "execution_count": 28,
   "id": "1cf9eb17-f746-4b7b-9791-ee327a011538",
   "metadata": {},
   "outputs": [
    {
     "name": "stdout",
     "output_type": "stream",
     "text": [
      "Rows: 344\n",
      "Columns: 7\n",
      "$ species           \u001b[3m\u001b[90m<chr>\u001b[39m\u001b[23m \"Adelie\", \"Adelie\", \"Adelie\", \"Adelie\", \"Adelie\", \"A~\n",
      "$ island            \u001b[3m\u001b[90m<chr>\u001b[39m\u001b[23m \"Torgersen\", \"Torgersen\", \"Torgersen\", \"Torgersen\", ~\n",
      "$ bill_length_mm    \u001b[3m\u001b[90m<dbl>\u001b[39m\u001b[23m 39.1, 39.5, 40.3, NA, 36.7, 39.3, 38.9, 39.2, 34.1, ~\n",
      "$ bill_depth_mm     \u001b[3m\u001b[90m<dbl>\u001b[39m\u001b[23m 18.7, 17.4, 18.0, NA, 19.3, 20.6, 17.8, 19.6, 18.1, ~\n",
      "$ flipper_length_mm \u001b[3m\u001b[90m<dbl>\u001b[39m\u001b[23m 181, 186, 195, NA, 193, 190, 181, 195, 193, 190, 186~\n",
      "$ body_mass_g       \u001b[3m\u001b[90m<dbl>\u001b[39m\u001b[23m 3750, 3800, 3250, NA, 3450, 3650, 3625, 4675, 3475, ~\n",
      "$ sex               \u001b[3m\u001b[90m<chr>\u001b[39m\u001b[23m \"Male\", \"Female\", \"Female\", NA, \"Female\", \"Male\", \"F~\n"
     ]
    }
   ],
   "source": [
    "glimpse(penguins)"
   ]
  },
  {
   "cell_type": "code",
   "execution_count": 29,
   "id": "05984ecb-0d57-4fb0-b4c7-d181a86e5ce9",
   "metadata": {},
   "outputs": [
    {
     "data": {
      "text/html": [
       "<table class=\"dataframe\">\n",
       "<caption>A tibble: 6 × 7</caption>\n",
       "<thead>\n",
       "\t<tr><th scope=col>species</th><th scope=col>island</th><th scope=col>bill_length_mm</th><th scope=col>bill_depth_mm</th><th scope=col>flipper_length_mm</th><th scope=col>body_mass_g</th><th scope=col>sex</th></tr>\n",
       "\t<tr><th scope=col>&lt;chr&gt;</th><th scope=col>&lt;chr&gt;</th><th scope=col>&lt;dbl&gt;</th><th scope=col>&lt;dbl&gt;</th><th scope=col>&lt;dbl&gt;</th><th scope=col>&lt;dbl&gt;</th><th scope=col>&lt;chr&gt;</th></tr>\n",
       "</thead>\n",
       "<tbody>\n",
       "\t<tr><td>Adelie</td><td>Torgersen</td><td>39.1</td><td>18.7</td><td>181</td><td>3750</td><td>Male  </td></tr>\n",
       "\t<tr><td>Adelie</td><td>Torgersen</td><td>39.5</td><td>17.4</td><td>186</td><td>3800</td><td>Female</td></tr>\n",
       "\t<tr><td>Adelie</td><td>Torgersen</td><td>40.3</td><td>18.0</td><td>195</td><td>3250</td><td>Female</td></tr>\n",
       "\t<tr><td>Adelie</td><td>Torgersen</td><td>  NA</td><td>  NA</td><td> NA</td><td>  NA</td><td>NA    </td></tr>\n",
       "\t<tr><td>Adelie</td><td>Torgersen</td><td>36.7</td><td>19.3</td><td>193</td><td>3450</td><td>Female</td></tr>\n",
       "\t<tr><td>Adelie</td><td>Torgersen</td><td>39.3</td><td>20.6</td><td>190</td><td>3650</td><td>Male  </td></tr>\n",
       "</tbody>\n",
       "</table>\n"
      ],
      "text/latex": [
       "A tibble: 6 × 7\n",
       "\\begin{tabular}{lllllll}\n",
       " species & island & bill\\_length\\_mm & bill\\_depth\\_mm & flipper\\_length\\_mm & body\\_mass\\_g & sex\\\\\n",
       " <chr> & <chr> & <dbl> & <dbl> & <dbl> & <dbl> & <chr>\\\\\n",
       "\\hline\n",
       "\t Adelie & Torgersen & 39.1 & 18.7 & 181 & 3750 & Male  \\\\\n",
       "\t Adelie & Torgersen & 39.5 & 17.4 & 186 & 3800 & Female\\\\\n",
       "\t Adelie & Torgersen & 40.3 & 18.0 & 195 & 3250 & Female\\\\\n",
       "\t Adelie & Torgersen &   NA &   NA &  NA &   NA & NA    \\\\\n",
       "\t Adelie & Torgersen & 36.7 & 19.3 & 193 & 3450 & Female\\\\\n",
       "\t Adelie & Torgersen & 39.3 & 20.6 & 190 & 3650 & Male  \\\\\n",
       "\\end{tabular}\n"
      ],
      "text/markdown": [
       "\n",
       "A tibble: 6 × 7\n",
       "\n",
       "| species &lt;chr&gt; | island &lt;chr&gt; | bill_length_mm &lt;dbl&gt; | bill_depth_mm &lt;dbl&gt; | flipper_length_mm &lt;dbl&gt; | body_mass_g &lt;dbl&gt; | sex &lt;chr&gt; |\n",
       "|---|---|---|---|---|---|---|\n",
       "| Adelie | Torgersen | 39.1 | 18.7 | 181 | 3750 | Male   |\n",
       "| Adelie | Torgersen | 39.5 | 17.4 | 186 | 3800 | Female |\n",
       "| Adelie | Torgersen | 40.3 | 18.0 | 195 | 3250 | Female |\n",
       "| Adelie | Torgersen |   NA |   NA |  NA |   NA | NA     |\n",
       "| Adelie | Torgersen | 36.7 | 19.3 | 193 | 3450 | Female |\n",
       "| Adelie | Torgersen | 39.3 | 20.6 | 190 | 3650 | Male   |\n",
       "\n"
      ],
      "text/plain": [
       "  species island    bill_length_mm bill_depth_mm flipper_length_mm body_mass_g\n",
       "1 Adelie  Torgersen 39.1           18.7          181               3750       \n",
       "2 Adelie  Torgersen 39.5           17.4          186               3800       \n",
       "3 Adelie  Torgersen 40.3           18.0          195               3250       \n",
       "4 Adelie  Torgersen   NA             NA           NA                 NA       \n",
       "5 Adelie  Torgersen 36.7           19.3          193               3450       \n",
       "6 Adelie  Torgersen 39.3           20.6          190               3650       \n",
       "  sex   \n",
       "1 Male  \n",
       "2 Female\n",
       "3 Female\n",
       "4 NA    \n",
       "5 Female\n",
       "6 Male  "
      ]
     },
     "metadata": {},
     "output_type": "display_data"
    }
   ],
   "source": [
    "head(penguins)"
   ]
  },
  {
   "cell_type": "code",
   "execution_count": 30,
   "id": "bec8b533-591a-44da-a291-86149a4a175a",
   "metadata": {},
   "outputs": [
    {
     "data": {
      "text/plain": [
       "   species             island          bill_length_mm  bill_depth_mm  \n",
       " Length:344         Length:344         Min.   :32.10   Min.   :13.10  \n",
       " Class :character   Class :character   1st Qu.:39.23   1st Qu.:15.60  \n",
       " Mode  :character   Mode  :character   Median :44.45   Median :17.30  \n",
       "                                       Mean   :43.92   Mean   :17.15  \n",
       "                                       3rd Qu.:48.50   3rd Qu.:18.70  \n",
       "                                       Max.   :59.60   Max.   :21.50  \n",
       "                                       NA's   :2       NA's   :2      \n",
       " flipper_length_mm  body_mass_g       sex           \n",
       " Min.   :172.0     Min.   :2700   Length:344        \n",
       " 1st Qu.:190.0     1st Qu.:3550   Class :character  \n",
       " Median :197.0     Median :4050   Mode  :character  \n",
       " Mean   :200.9     Mean   :4202                     \n",
       " 3rd Qu.:213.0     3rd Qu.:4750                     \n",
       " Max.   :231.0     Max.   :6300                     \n",
       " NA's   :2         NA's   :2                        "
      ]
     },
     "metadata": {},
     "output_type": "display_data"
    }
   ],
   "source": [
    "summary(penguins)"
   ]
  },
  {
   "cell_type": "code",
   "execution_count": 32,
   "id": "b703c961-f82f-4834-92d0-7289822fe15e",
   "metadata": {},
   "outputs": [
    {
     "data": {
      "text/html": [
       "<style>\n",
       ".list-inline {list-style: none; margin:0; padding: 0}\n",
       ".list-inline>li {display: inline-block}\n",
       ".list-inline>li:not(:last-child)::after {content: \"\\00b7\"; padding: 0 .5ex}\n",
       "</style>\n",
       "<ol class=list-inline><li>'species'</li><li>'island'</li><li>'bill_length_mm'</li><li>'bill_depth_mm'</li><li>'flipper_length_mm'</li><li>'body_mass_g'</li><li>'sex'</li></ol>\n"
      ],
      "text/latex": [
       "\\begin{enumerate*}\n",
       "\\item 'species'\n",
       "\\item 'island'\n",
       "\\item 'bill\\_length\\_mm'\n",
       "\\item 'bill\\_depth\\_mm'\n",
       "\\item 'flipper\\_length\\_mm'\n",
       "\\item 'body\\_mass\\_g'\n",
       "\\item 'sex'\n",
       "\\end{enumerate*}\n"
      ],
      "text/markdown": [
       "1. 'species'\n",
       "2. 'island'\n",
       "3. 'bill_length_mm'\n",
       "4. 'bill_depth_mm'\n",
       "5. 'flipper_length_mm'\n",
       "6. 'body_mass_g'\n",
       "7. 'sex'\n",
       "\n",
       "\n"
      ],
      "text/plain": [
       "[1] \"species\"           \"island\"            \"bill_length_mm\"   \n",
       "[4] \"bill_depth_mm\"     \"flipper_length_mm\" \"body_mass_g\"      \n",
       "[7] \"sex\"              "
      ]
     },
     "metadata": {},
     "output_type": "display_data"
    }
   ],
   "source": [
    "names(penguins)"
   ]
  },
  {
   "cell_type": "code",
   "execution_count": 33,
   "id": "ce1736bb-cab7-4c59-b738-d9f7edb8d749",
   "metadata": {},
   "outputs": [
    {
     "data": {
      "text/html": [
       "<table class=\"dataframe\">\n",
       "<caption>A tibble: 6 × 7</caption>\n",
       "<thead>\n",
       "\t<tr><th scope=col>species</th><th scope=col>island</th><th scope=col>bill_length_mm</th><th scope=col>bill_depth_mm</th><th scope=col>flipper_length_mm</th><th scope=col>body_mass_g</th><th scope=col>sex</th></tr>\n",
       "\t<tr><th scope=col>&lt;chr&gt;</th><th scope=col>&lt;chr&gt;</th><th scope=col>&lt;dbl&gt;</th><th scope=col>&lt;dbl&gt;</th><th scope=col>&lt;dbl&gt;</th><th scope=col>&lt;dbl&gt;</th><th scope=col>&lt;chr&gt;</th></tr>\n",
       "</thead>\n",
       "<tbody>\n",
       "\t<tr><td>Adelie</td><td>Torgersen</td><td>39.1</td><td>18.7</td><td>181</td><td>3750</td><td>Male  </td></tr>\n",
       "\t<tr><td>Adelie</td><td>Torgersen</td><td>39.5</td><td>17.4</td><td>186</td><td>3800</td><td>Female</td></tr>\n",
       "\t<tr><td>Adelie</td><td>Torgersen</td><td>40.3</td><td>18.0</td><td>195</td><td>3250</td><td>Female</td></tr>\n",
       "\t<tr><td>Adelie</td><td>Torgersen</td><td>  NA</td><td>  NA</td><td> NA</td><td>  NA</td><td>NA    </td></tr>\n",
       "\t<tr><td>Adelie</td><td>Torgersen</td><td>36.7</td><td>19.3</td><td>193</td><td>3450</td><td>Female</td></tr>\n",
       "\t<tr><td>Adelie</td><td>Torgersen</td><td>39.3</td><td>20.6</td><td>190</td><td>3650</td><td>Male  </td></tr>\n",
       "</tbody>\n",
       "</table>\n"
      ],
      "text/latex": [
       "A tibble: 6 × 7\n",
       "\\begin{tabular}{lllllll}\n",
       " species & island & bill\\_length\\_mm & bill\\_depth\\_mm & flipper\\_length\\_mm & body\\_mass\\_g & sex\\\\\n",
       " <chr> & <chr> & <dbl> & <dbl> & <dbl> & <dbl> & <chr>\\\\\n",
       "\\hline\n",
       "\t Adelie & Torgersen & 39.1 & 18.7 & 181 & 3750 & Male  \\\\\n",
       "\t Adelie & Torgersen & 39.5 & 17.4 & 186 & 3800 & Female\\\\\n",
       "\t Adelie & Torgersen & 40.3 & 18.0 & 195 & 3250 & Female\\\\\n",
       "\t Adelie & Torgersen &   NA &   NA &  NA &   NA & NA    \\\\\n",
       "\t Adelie & Torgersen & 36.7 & 19.3 & 193 & 3450 & Female\\\\\n",
       "\t Adelie & Torgersen & 39.3 & 20.6 & 190 & 3650 & Male  \\\\\n",
       "\\end{tabular}\n"
      ],
      "text/markdown": [
       "\n",
       "A tibble: 6 × 7\n",
       "\n",
       "| species &lt;chr&gt; | island &lt;chr&gt; | bill_length_mm &lt;dbl&gt; | bill_depth_mm &lt;dbl&gt; | flipper_length_mm &lt;dbl&gt; | body_mass_g &lt;dbl&gt; | sex &lt;chr&gt; |\n",
       "|---|---|---|---|---|---|---|\n",
       "| Adelie | Torgersen | 39.1 | 18.7 | 181 | 3750 | Male   |\n",
       "| Adelie | Torgersen | 39.5 | 17.4 | 186 | 3800 | Female |\n",
       "| Adelie | Torgersen | 40.3 | 18.0 | 195 | 3250 | Female |\n",
       "| Adelie | Torgersen |   NA |   NA |  NA |   NA | NA     |\n",
       "| Adelie | Torgersen | 36.7 | 19.3 | 193 | 3450 | Female |\n",
       "| Adelie | Torgersen | 39.3 | 20.6 | 190 | 3650 | Male   |\n",
       "\n"
      ],
      "text/plain": [
       "  species island    bill_length_mm bill_depth_mm flipper_length_mm body_mass_g\n",
       "1 Adelie  Torgersen 39.1           18.7          181               3750       \n",
       "2 Adelie  Torgersen 39.5           17.4          186               3800       \n",
       "3 Adelie  Torgersen 40.3           18.0          195               3250       \n",
       "4 Adelie  Torgersen   NA             NA           NA                 NA       \n",
       "5 Adelie  Torgersen 36.7           19.3          193               3450       \n",
       "6 Adelie  Torgersen 39.3           20.6          190               3650       \n",
       "  sex   \n",
       "1 Male  \n",
       "2 Female\n",
       "3 Female\n",
       "4 NA    \n",
       "5 Female\n",
       "6 Male  "
      ]
     },
     "metadata": {},
     "output_type": "display_data"
    }
   ],
   "source": [
    "penguins %>%\n",
    "  filter(island == \"Torgersen\") %>%\n",
    "  head()"
   ]
  },
  {
   "cell_type": "code",
   "execution_count": 35,
   "id": "e4dcc01e-f9f5-495f-964c-4b7e0d936c3f",
   "metadata": {},
   "outputs": [
    {
     "data": {
      "text/html": [
       "<table class=\"dataframe\">\n",
       "<caption>A tibble: 6 × 7</caption>\n",
       "<thead>\n",
       "\t<tr><th scope=col>species</th><th scope=col>island</th><th scope=col>bill_length_mm</th><th scope=col>bill_depth_mm</th><th scope=col>flipper_length_mm</th><th scope=col>body_mass_g</th><th scope=col>sex</th></tr>\n",
       "\t<tr><th scope=col>&lt;chr&gt;</th><th scope=col>&lt;chr&gt;</th><th scope=col>&lt;dbl&gt;</th><th scope=col>&lt;dbl&gt;</th><th scope=col>&lt;dbl&gt;</th><th scope=col>&lt;dbl&gt;</th><th scope=col>&lt;chr&gt;</th></tr>\n",
       "</thead>\n",
       "<tbody>\n",
       "\t<tr><td>Adelie</td><td>Biscoe   </td><td>37.9</td><td>18.6</td><td>172</td><td>3150</td><td>Female</td></tr>\n",
       "\t<tr><td>Adelie</td><td>Biscoe   </td><td>37.8</td><td>18.3</td><td>174</td><td>3400</td><td>Female</td></tr>\n",
       "\t<tr><td>Adelie</td><td>Torgersen</td><td>40.2</td><td>17.0</td><td>176</td><td>3450</td><td>Female</td></tr>\n",
       "\t<tr><td>Adelie</td><td>Dream    </td><td>39.5</td><td>16.7</td><td>178</td><td>3250</td><td>Female</td></tr>\n",
       "\t<tr><td>Adelie</td><td>Dream    </td><td>37.2</td><td>18.1</td><td>178</td><td>3900</td><td>Male  </td></tr>\n",
       "\t<tr><td>Adelie</td><td>Dream    </td><td>33.1</td><td>16.1</td><td>178</td><td>2900</td><td>Female</td></tr>\n",
       "</tbody>\n",
       "</table>\n"
      ],
      "text/latex": [
       "A tibble: 6 × 7\n",
       "\\begin{tabular}{lllllll}\n",
       " species & island & bill\\_length\\_mm & bill\\_depth\\_mm & flipper\\_length\\_mm & body\\_mass\\_g & sex\\\\\n",
       " <chr> & <chr> & <dbl> & <dbl> & <dbl> & <dbl> & <chr>\\\\\n",
       "\\hline\n",
       "\t Adelie & Biscoe    & 37.9 & 18.6 & 172 & 3150 & Female\\\\\n",
       "\t Adelie & Biscoe    & 37.8 & 18.3 & 174 & 3400 & Female\\\\\n",
       "\t Adelie & Torgersen & 40.2 & 17.0 & 176 & 3450 & Female\\\\\n",
       "\t Adelie & Dream     & 39.5 & 16.7 & 178 & 3250 & Female\\\\\n",
       "\t Adelie & Dream     & 37.2 & 18.1 & 178 & 3900 & Male  \\\\\n",
       "\t Adelie & Dream     & 33.1 & 16.1 & 178 & 2900 & Female\\\\\n",
       "\\end{tabular}\n"
      ],
      "text/markdown": [
       "\n",
       "A tibble: 6 × 7\n",
       "\n",
       "| species &lt;chr&gt; | island &lt;chr&gt; | bill_length_mm &lt;dbl&gt; | bill_depth_mm &lt;dbl&gt; | flipper_length_mm &lt;dbl&gt; | body_mass_g &lt;dbl&gt; | sex &lt;chr&gt; |\n",
       "|---|---|---|---|---|---|---|\n",
       "| Adelie | Biscoe    | 37.9 | 18.6 | 172 | 3150 | Female |\n",
       "| Adelie | Biscoe    | 37.8 | 18.3 | 174 | 3400 | Female |\n",
       "| Adelie | Torgersen | 40.2 | 17.0 | 176 | 3450 | Female |\n",
       "| Adelie | Dream     | 39.5 | 16.7 | 178 | 3250 | Female |\n",
       "| Adelie | Dream     | 37.2 | 18.1 | 178 | 3900 | Male   |\n",
       "| Adelie | Dream     | 33.1 | 16.1 | 178 | 2900 | Female |\n",
       "\n"
      ],
      "text/plain": [
       "  species island    bill_length_mm bill_depth_mm flipper_length_mm body_mass_g\n",
       "1 Adelie  Biscoe    37.9           18.6          172               3150       \n",
       "2 Adelie  Biscoe    37.8           18.3          174               3400       \n",
       "3 Adelie  Torgersen 40.2           17.0          176               3450       \n",
       "4 Adelie  Dream     39.5           16.7          178               3250       \n",
       "5 Adelie  Dream     37.2           18.1          178               3900       \n",
       "6 Adelie  Dream     33.1           16.1          178               2900       \n",
       "  sex   \n",
       "1 Female\n",
       "2 Female\n",
       "3 Female\n",
       "4 Female\n",
       "5 Male  \n",
       "6 Female"
      ]
     },
     "metadata": {},
     "output_type": "display_data"
    }
   ],
   "source": [
    "penguins %>%\n",
    "  arrange(flipper_length_mm) %>%\n",
    "  head()"
   ]
  },
  {
   "cell_type": "code",
   "execution_count": 36,
   "id": "45eb2b7c-cdf0-41ab-8d5b-3f3b353ad7ae",
   "metadata": {},
   "outputs": [
    {
     "data": {
      "text/html": [
       "<table class=\"dataframe\">\n",
       "<caption>A tibble: 6 × 7</caption>\n",
       "<thead>\n",
       "\t<tr><th scope=col>species</th><th scope=col>island</th><th scope=col>bill_length_mm</th><th scope=col>bill_depth_mm</th><th scope=col>flipper_length_mm</th><th scope=col>body_mass_g</th><th scope=col>sex</th></tr>\n",
       "\t<tr><th scope=col>&lt;chr&gt;</th><th scope=col>&lt;chr&gt;</th><th scope=col>&lt;dbl&gt;</th><th scope=col>&lt;dbl&gt;</th><th scope=col>&lt;dbl&gt;</th><th scope=col>&lt;dbl&gt;</th><th scope=col>&lt;chr&gt;</th></tr>\n",
       "</thead>\n",
       "<tbody>\n",
       "\t<tr><td>Adelie</td><td>Torgersen</td><td>39.1</td><td>18.7</td><td>181</td><td>3750</td><td>Male  </td></tr>\n",
       "\t<tr><td>Adelie</td><td>Torgersen</td><td>39.5</td><td>17.4</td><td>186</td><td>3800</td><td>Female</td></tr>\n",
       "\t<tr><td>Adelie</td><td>Torgersen</td><td>40.3</td><td>18.0</td><td>195</td><td>3250</td><td>Female</td></tr>\n",
       "\t<tr><td>Adelie</td><td>Torgersen</td><td>  NA</td><td>  NA</td><td> NA</td><td>  NA</td><td>NA    </td></tr>\n",
       "\t<tr><td>Adelie</td><td>Torgersen</td><td>36.7</td><td>19.3</td><td>193</td><td>3450</td><td>Female</td></tr>\n",
       "\t<tr><td>Adelie</td><td>Torgersen</td><td>39.3</td><td>20.6</td><td>190</td><td>3650</td><td>Male  </td></tr>\n",
       "</tbody>\n",
       "</table>\n"
      ],
      "text/latex": [
       "A tibble: 6 × 7\n",
       "\\begin{tabular}{lllllll}\n",
       " species & island & bill\\_length\\_mm & bill\\_depth\\_mm & flipper\\_length\\_mm & body\\_mass\\_g & sex\\\\\n",
       " <chr> & <chr> & <dbl> & <dbl> & <dbl> & <dbl> & <chr>\\\\\n",
       "\\hline\n",
       "\t Adelie & Torgersen & 39.1 & 18.7 & 181 & 3750 & Male  \\\\\n",
       "\t Adelie & Torgersen & 39.5 & 17.4 & 186 & 3800 & Female\\\\\n",
       "\t Adelie & Torgersen & 40.3 & 18.0 & 195 & 3250 & Female\\\\\n",
       "\t Adelie & Torgersen &   NA &   NA &  NA &   NA & NA    \\\\\n",
       "\t Adelie & Torgersen & 36.7 & 19.3 & 193 & 3450 & Female\\\\\n",
       "\t Adelie & Torgersen & 39.3 & 20.6 & 190 & 3650 & Male  \\\\\n",
       "\\end{tabular}\n"
      ],
      "text/markdown": [
       "\n",
       "A tibble: 6 × 7\n",
       "\n",
       "| species &lt;chr&gt; | island &lt;chr&gt; | bill_length_mm &lt;dbl&gt; | bill_depth_mm &lt;dbl&gt; | flipper_length_mm &lt;dbl&gt; | body_mass_g &lt;dbl&gt; | sex &lt;chr&gt; |\n",
       "|---|---|---|---|---|---|---|\n",
       "| Adelie | Torgersen | 39.1 | 18.7 | 181 | 3750 | Male   |\n",
       "| Adelie | Torgersen | 39.5 | 17.4 | 186 | 3800 | Female |\n",
       "| Adelie | Torgersen | 40.3 | 18.0 | 195 | 3250 | Female |\n",
       "| Adelie | Torgersen |   NA |   NA |  NA |   NA | NA     |\n",
       "| Adelie | Torgersen | 36.7 | 19.3 | 193 | 3450 | Female |\n",
       "| Adelie | Torgersen | 39.3 | 20.6 | 190 | 3650 | Male   |\n",
       "\n"
      ],
      "text/plain": [
       "  species island    bill_length_mm bill_depth_mm flipper_length_mm body_mass_g\n",
       "1 Adelie  Torgersen 39.1           18.7          181               3750       \n",
       "2 Adelie  Torgersen 39.5           17.4          186               3800       \n",
       "3 Adelie  Torgersen 40.3           18.0          195               3250       \n",
       "4 Adelie  Torgersen   NA             NA           NA                 NA       \n",
       "5 Adelie  Torgersen 36.7           19.3          193               3450       \n",
       "6 Adelie  Torgersen 39.3           20.6          190               3650       \n",
       "  sex   \n",
       "1 Male  \n",
       "2 Female\n",
       "3 Female\n",
       "4 NA    \n",
       "5 Female\n",
       "6 Male  "
      ]
     },
     "metadata": {},
     "output_type": "display_data"
    }
   ],
   "source": [
    "penguins %>%\n",
    "  arrange(species) %>%\n",
    "  head()"
   ]
  },
  {
   "cell_type": "markdown",
   "id": "4e2d62e8-7085-45ac-969b-443899d86af7",
   "metadata": {},
   "source": [
    "### Set a random seed and sample the data"
   ]
  },
  {
   "cell_type": "code",
   "execution_count": 37,
   "id": "e043f369-6cae-4d22-9963-d18b764ef19f",
   "metadata": {},
   "outputs": [
    {
     "data": {
      "text/html": [
       "<table class=\"dataframe\">\n",
       "<caption>A spec_tbl_df: 12 × 7</caption>\n",
       "<thead>\n",
       "\t<tr><th scope=col>species</th><th scope=col>island</th><th scope=col>bill_length_mm</th><th scope=col>bill_depth_mm</th><th scope=col>flipper_length_mm</th><th scope=col>body_mass_g</th><th scope=col>sex</th></tr>\n",
       "\t<tr><th scope=col>&lt;chr&gt;</th><th scope=col>&lt;chr&gt;</th><th scope=col>&lt;dbl&gt;</th><th scope=col>&lt;dbl&gt;</th><th scope=col>&lt;dbl&gt;</th><th scope=col>&lt;dbl&gt;</th><th scope=col>&lt;chr&gt;</th></tr>\n",
       "</thead>\n",
       "<tbody>\n",
       "\t<tr><td>Adelie   </td><td>Torgersen</td><td>41.4</td><td>18.5</td><td>202</td><td>3875</td><td>Male  </td></tr>\n",
       "\t<tr><td>Chinstrap</td><td>Dream    </td><td>50.1</td><td>17.9</td><td>190</td><td>3400</td><td>Female</td></tr>\n",
       "\t<tr><td>Gentoo   </td><td>Biscoe   </td><td>50.5</td><td>15.9</td><td>222</td><td>5550</td><td>Male  </td></tr>\n",
       "\t<tr><td>Chinstrap</td><td>Dream    </td><td>49.0</td><td>19.6</td><td>212</td><td>4300</td><td>Male  </td></tr>\n",
       "\t<tr><td>Chinstrap</td><td>Dream    </td><td>43.5</td><td>18.1</td><td>202</td><td>3400</td><td>Female</td></tr>\n",
       "\t<tr><td>Gentoo   </td><td>Biscoe   </td><td>51.5</td><td>16.3</td><td>230</td><td>5500</td><td>Male  </td></tr>\n",
       "\t<tr><td>Adelie   </td><td>Biscoe   </td><td>40.5</td><td>17.9</td><td>187</td><td>3200</td><td>Female</td></tr>\n",
       "\t<tr><td>Gentoo   </td><td>Biscoe   </td><td>43.5</td><td>15.2</td><td>213</td><td>4650</td><td>Female</td></tr>\n",
       "\t<tr><td>Adelie   </td><td>Dream    </td><td>36.3</td><td>19.5</td><td>190</td><td>3800</td><td>Male  </td></tr>\n",
       "\t<tr><td>Adelie   </td><td>Torgersen</td><td>39.0</td><td>17.1</td><td>191</td><td>3050</td><td>Female</td></tr>\n",
       "\t<tr><td>Adelie   </td><td>Biscoe   </td><td>41.6</td><td>18.0</td><td>192</td><td>3950</td><td>Male  </td></tr>\n",
       "\t<tr><td>Gentoo   </td><td>Biscoe   </td><td>47.6</td><td>14.5</td><td>215</td><td>5400</td><td>Male  </td></tr>\n",
       "</tbody>\n",
       "</table>\n"
      ],
      "text/latex": [
       "A spec\\_tbl\\_df: 12 × 7\n",
       "\\begin{tabular}{lllllll}\n",
       " species & island & bill\\_length\\_mm & bill\\_depth\\_mm & flipper\\_length\\_mm & body\\_mass\\_g & sex\\\\\n",
       " <chr> & <chr> & <dbl> & <dbl> & <dbl> & <dbl> & <chr>\\\\\n",
       "\\hline\n",
       "\t Adelie    & Torgersen & 41.4 & 18.5 & 202 & 3875 & Male  \\\\\n",
       "\t Chinstrap & Dream     & 50.1 & 17.9 & 190 & 3400 & Female\\\\\n",
       "\t Gentoo    & Biscoe    & 50.5 & 15.9 & 222 & 5550 & Male  \\\\\n",
       "\t Chinstrap & Dream     & 49.0 & 19.6 & 212 & 4300 & Male  \\\\\n",
       "\t Chinstrap & Dream     & 43.5 & 18.1 & 202 & 3400 & Female\\\\\n",
       "\t Gentoo    & Biscoe    & 51.5 & 16.3 & 230 & 5500 & Male  \\\\\n",
       "\t Adelie    & Biscoe    & 40.5 & 17.9 & 187 & 3200 & Female\\\\\n",
       "\t Gentoo    & Biscoe    & 43.5 & 15.2 & 213 & 4650 & Female\\\\\n",
       "\t Adelie    & Dream     & 36.3 & 19.5 & 190 & 3800 & Male  \\\\\n",
       "\t Adelie    & Torgersen & 39.0 & 17.1 & 191 & 3050 & Female\\\\\n",
       "\t Adelie    & Biscoe    & 41.6 & 18.0 & 192 & 3950 & Male  \\\\\n",
       "\t Gentoo    & Biscoe    & 47.6 & 14.5 & 215 & 5400 & Male  \\\\\n",
       "\\end{tabular}\n"
      ],
      "text/markdown": [
       "\n",
       "A spec_tbl_df: 12 × 7\n",
       "\n",
       "| species &lt;chr&gt; | island &lt;chr&gt; | bill_length_mm &lt;dbl&gt; | bill_depth_mm &lt;dbl&gt; | flipper_length_mm &lt;dbl&gt; | body_mass_g &lt;dbl&gt; | sex &lt;chr&gt; |\n",
       "|---|---|---|---|---|---|---|\n",
       "| Adelie    | Torgersen | 41.4 | 18.5 | 202 | 3875 | Male   |\n",
       "| Chinstrap | Dream     | 50.1 | 17.9 | 190 | 3400 | Female |\n",
       "| Gentoo    | Biscoe    | 50.5 | 15.9 | 222 | 5550 | Male   |\n",
       "| Chinstrap | Dream     | 49.0 | 19.6 | 212 | 4300 | Male   |\n",
       "| Chinstrap | Dream     | 43.5 | 18.1 | 202 | 3400 | Female |\n",
       "| Gentoo    | Biscoe    | 51.5 | 16.3 | 230 | 5500 | Male   |\n",
       "| Adelie    | Biscoe    | 40.5 | 17.9 | 187 | 3200 | Female |\n",
       "| Gentoo    | Biscoe    | 43.5 | 15.2 | 213 | 4650 | Female |\n",
       "| Adelie    | Dream     | 36.3 | 19.5 | 190 | 3800 | Male   |\n",
       "| Adelie    | Torgersen | 39.0 | 17.1 | 191 | 3050 | Female |\n",
       "| Adelie    | Biscoe    | 41.6 | 18.0 | 192 | 3950 | Male   |\n",
       "| Gentoo    | Biscoe    | 47.6 | 14.5 | 215 | 5400 | Male   |\n",
       "\n"
      ],
      "text/plain": [
       "   species   island    bill_length_mm bill_depth_mm flipper_length_mm\n",
       "1  Adelie    Torgersen 41.4           18.5          202              \n",
       "2  Chinstrap Dream     50.1           17.9          190              \n",
       "3  Gentoo    Biscoe    50.5           15.9          222              \n",
       "4  Chinstrap Dream     49.0           19.6          212              \n",
       "5  Chinstrap Dream     43.5           18.1          202              \n",
       "6  Gentoo    Biscoe    51.5           16.3          230              \n",
       "7  Adelie    Biscoe    40.5           17.9          187              \n",
       "8  Gentoo    Biscoe    43.5           15.2          213              \n",
       "9  Adelie    Dream     36.3           19.5          190              \n",
       "10 Adelie    Torgersen 39.0           17.1          191              \n",
       "11 Adelie    Biscoe    41.6           18.0          192              \n",
       "12 Gentoo    Biscoe    47.6           14.5          215              \n",
       "   body_mass_g sex   \n",
       "1  3875        Male  \n",
       "2  3400        Female\n",
       "3  5550        Male  \n",
       "4  4300        Male  \n",
       "5  3400        Female\n",
       "6  5500        Male  \n",
       "7  3200        Female\n",
       "8  4650        Female\n",
       "9  3800        Male  \n",
       "10 3050        Female\n",
       "11 3950        Male  \n",
       "12 5400        Male  "
      ]
     },
     "metadata": {},
     "output_type": "display_data"
    }
   ],
   "source": [
    "set.seed(406)\n",
    "\n",
    "penguins_subset <- penguins %>%\n",
    "  sample_n(12)  # another dplyr function!\n",
    "\n",
    "penguins_subset"
   ]
  },
  {
   "cell_type": "markdown",
   "id": "1574c931-e52b-4e83-8448-aa7b11631f60",
   "metadata": {},
   "source": [
    "### Sort with `arrange`"
   ]
  },
  {
   "cell_type": "code",
   "execution_count": 38,
   "id": "839cdf26-faf0-46bb-90aa-ec30b5058c21",
   "metadata": {},
   "outputs": [
    {
     "data": {
      "text/html": [
       "<table class=\"dataframe\">\n",
       "<caption>A spec_tbl_df: 12 × 7</caption>\n",
       "<thead>\n",
       "\t<tr><th scope=col>species</th><th scope=col>island</th><th scope=col>bill_length_mm</th><th scope=col>bill_depth_mm</th><th scope=col>flipper_length_mm</th><th scope=col>body_mass_g</th><th scope=col>sex</th></tr>\n",
       "\t<tr><th scope=col>&lt;chr&gt;</th><th scope=col>&lt;chr&gt;</th><th scope=col>&lt;dbl&gt;</th><th scope=col>&lt;dbl&gt;</th><th scope=col>&lt;dbl&gt;</th><th scope=col>&lt;dbl&gt;</th><th scope=col>&lt;chr&gt;</th></tr>\n",
       "</thead>\n",
       "<tbody>\n",
       "\t<tr><td>Adelie   </td><td>Torgersen</td><td>41.4</td><td>18.5</td><td>202</td><td>3875</td><td>Male  </td></tr>\n",
       "\t<tr><td>Adelie   </td><td>Biscoe   </td><td>40.5</td><td>17.9</td><td>187</td><td>3200</td><td>Female</td></tr>\n",
       "\t<tr><td>Adelie   </td><td>Dream    </td><td>36.3</td><td>19.5</td><td>190</td><td>3800</td><td>Male  </td></tr>\n",
       "\t<tr><td>Adelie   </td><td>Torgersen</td><td>39.0</td><td>17.1</td><td>191</td><td>3050</td><td>Female</td></tr>\n",
       "\t<tr><td>Adelie   </td><td>Biscoe   </td><td>41.6</td><td>18.0</td><td>192</td><td>3950</td><td>Male  </td></tr>\n",
       "\t<tr><td>Chinstrap</td><td>Dream    </td><td>50.1</td><td>17.9</td><td>190</td><td>3400</td><td>Female</td></tr>\n",
       "\t<tr><td>Chinstrap</td><td>Dream    </td><td>49.0</td><td>19.6</td><td>212</td><td>4300</td><td>Male  </td></tr>\n",
       "\t<tr><td>Chinstrap</td><td>Dream    </td><td>43.5</td><td>18.1</td><td>202</td><td>3400</td><td>Female</td></tr>\n",
       "\t<tr><td>Gentoo   </td><td>Biscoe   </td><td>50.5</td><td>15.9</td><td>222</td><td>5550</td><td>Male  </td></tr>\n",
       "\t<tr><td>Gentoo   </td><td>Biscoe   </td><td>51.5</td><td>16.3</td><td>230</td><td>5500</td><td>Male  </td></tr>\n",
       "\t<tr><td>Gentoo   </td><td>Biscoe   </td><td>43.5</td><td>15.2</td><td>213</td><td>4650</td><td>Female</td></tr>\n",
       "\t<tr><td>Gentoo   </td><td>Biscoe   </td><td>47.6</td><td>14.5</td><td>215</td><td>5400</td><td>Male  </td></tr>\n",
       "</tbody>\n",
       "</table>\n"
      ],
      "text/latex": [
       "A spec\\_tbl\\_df: 12 × 7\n",
       "\\begin{tabular}{lllllll}\n",
       " species & island & bill\\_length\\_mm & bill\\_depth\\_mm & flipper\\_length\\_mm & body\\_mass\\_g & sex\\\\\n",
       " <chr> & <chr> & <dbl> & <dbl> & <dbl> & <dbl> & <chr>\\\\\n",
       "\\hline\n",
       "\t Adelie    & Torgersen & 41.4 & 18.5 & 202 & 3875 & Male  \\\\\n",
       "\t Adelie    & Biscoe    & 40.5 & 17.9 & 187 & 3200 & Female\\\\\n",
       "\t Adelie    & Dream     & 36.3 & 19.5 & 190 & 3800 & Male  \\\\\n",
       "\t Adelie    & Torgersen & 39.0 & 17.1 & 191 & 3050 & Female\\\\\n",
       "\t Adelie    & Biscoe    & 41.6 & 18.0 & 192 & 3950 & Male  \\\\\n",
       "\t Chinstrap & Dream     & 50.1 & 17.9 & 190 & 3400 & Female\\\\\n",
       "\t Chinstrap & Dream     & 49.0 & 19.6 & 212 & 4300 & Male  \\\\\n",
       "\t Chinstrap & Dream     & 43.5 & 18.1 & 202 & 3400 & Female\\\\\n",
       "\t Gentoo    & Biscoe    & 50.5 & 15.9 & 222 & 5550 & Male  \\\\\n",
       "\t Gentoo    & Biscoe    & 51.5 & 16.3 & 230 & 5500 & Male  \\\\\n",
       "\t Gentoo    & Biscoe    & 43.5 & 15.2 & 213 & 4650 & Female\\\\\n",
       "\t Gentoo    & Biscoe    & 47.6 & 14.5 & 215 & 5400 & Male  \\\\\n",
       "\\end{tabular}\n"
      ],
      "text/markdown": [
       "\n",
       "A spec_tbl_df: 12 × 7\n",
       "\n",
       "| species &lt;chr&gt; | island &lt;chr&gt; | bill_length_mm &lt;dbl&gt; | bill_depth_mm &lt;dbl&gt; | flipper_length_mm &lt;dbl&gt; | body_mass_g &lt;dbl&gt; | sex &lt;chr&gt; |\n",
       "|---|---|---|---|---|---|---|\n",
       "| Adelie    | Torgersen | 41.4 | 18.5 | 202 | 3875 | Male   |\n",
       "| Adelie    | Biscoe    | 40.5 | 17.9 | 187 | 3200 | Female |\n",
       "| Adelie    | Dream     | 36.3 | 19.5 | 190 | 3800 | Male   |\n",
       "| Adelie    | Torgersen | 39.0 | 17.1 | 191 | 3050 | Female |\n",
       "| Adelie    | Biscoe    | 41.6 | 18.0 | 192 | 3950 | Male   |\n",
       "| Chinstrap | Dream     | 50.1 | 17.9 | 190 | 3400 | Female |\n",
       "| Chinstrap | Dream     | 49.0 | 19.6 | 212 | 4300 | Male   |\n",
       "| Chinstrap | Dream     | 43.5 | 18.1 | 202 | 3400 | Female |\n",
       "| Gentoo    | Biscoe    | 50.5 | 15.9 | 222 | 5550 | Male   |\n",
       "| Gentoo    | Biscoe    | 51.5 | 16.3 | 230 | 5500 | Male   |\n",
       "| Gentoo    | Biscoe    | 43.5 | 15.2 | 213 | 4650 | Female |\n",
       "| Gentoo    | Biscoe    | 47.6 | 14.5 | 215 | 5400 | Male   |\n",
       "\n"
      ],
      "text/plain": [
       "   species   island    bill_length_mm bill_depth_mm flipper_length_mm\n",
       "1  Adelie    Torgersen 41.4           18.5          202              \n",
       "2  Adelie    Biscoe    40.5           17.9          187              \n",
       "3  Adelie    Dream     36.3           19.5          190              \n",
       "4  Adelie    Torgersen 39.0           17.1          191              \n",
       "5  Adelie    Biscoe    41.6           18.0          192              \n",
       "6  Chinstrap Dream     50.1           17.9          190              \n",
       "7  Chinstrap Dream     49.0           19.6          212              \n",
       "8  Chinstrap Dream     43.5           18.1          202              \n",
       "9  Gentoo    Biscoe    50.5           15.9          222              \n",
       "10 Gentoo    Biscoe    51.5           16.3          230              \n",
       "11 Gentoo    Biscoe    43.5           15.2          213              \n",
       "12 Gentoo    Biscoe    47.6           14.5          215              \n",
       "   body_mass_g sex   \n",
       "1  3875        Male  \n",
       "2  3200        Female\n",
       "3  3800        Male  \n",
       "4  3050        Female\n",
       "5  3950        Male  \n",
       "6  3400        Female\n",
       "7  4300        Male  \n",
       "8  3400        Female\n",
       "9  5550        Male  \n",
       "10 5500        Male  \n",
       "11 4650        Female\n",
       "12 5400        Male  "
      ]
     },
     "metadata": {},
     "output_type": "display_data"
    }
   ],
   "source": [
    "penguins_subset %>%\n",
    "  arrange(species)"
   ]
  },
  {
   "cell_type": "code",
   "execution_count": 40,
   "id": "d4a28c27-c6a0-44d0-b214-59e57171794b",
   "metadata": {},
   "outputs": [
    {
     "data": {
      "text/html": [
       "<table class=\"dataframe\">\n",
       "<caption>A spec_tbl_df: 12 × 7</caption>\n",
       "<thead>\n",
       "\t<tr><th scope=col>species</th><th scope=col>island</th><th scope=col>bill_length_mm</th><th scope=col>bill_depth_mm</th><th scope=col>flipper_length_mm</th><th scope=col>body_mass_g</th><th scope=col>sex</th></tr>\n",
       "\t<tr><th scope=col>&lt;chr&gt;</th><th scope=col>&lt;chr&gt;</th><th scope=col>&lt;dbl&gt;</th><th scope=col>&lt;dbl&gt;</th><th scope=col>&lt;dbl&gt;</th><th scope=col>&lt;dbl&gt;</th><th scope=col>&lt;chr&gt;</th></tr>\n",
       "</thead>\n",
       "<tbody>\n",
       "\t<tr><td>Gentoo   </td><td>Biscoe   </td><td>51.5</td><td>16.3</td><td>230</td><td>5500</td><td>Male  </td></tr>\n",
       "\t<tr><td>Gentoo   </td><td>Biscoe   </td><td>50.5</td><td>15.9</td><td>222</td><td>5550</td><td>Male  </td></tr>\n",
       "\t<tr><td>Chinstrap</td><td>Dream    </td><td>50.1</td><td>17.9</td><td>190</td><td>3400</td><td>Female</td></tr>\n",
       "\t<tr><td>Chinstrap</td><td>Dream    </td><td>49.0</td><td>19.6</td><td>212</td><td>4300</td><td>Male  </td></tr>\n",
       "\t<tr><td>Gentoo   </td><td>Biscoe   </td><td>47.6</td><td>14.5</td><td>215</td><td>5400</td><td>Male  </td></tr>\n",
       "\t<tr><td>Chinstrap</td><td>Dream    </td><td>43.5</td><td>18.1</td><td>202</td><td>3400</td><td>Female</td></tr>\n",
       "\t<tr><td>Gentoo   </td><td>Biscoe   </td><td>43.5</td><td>15.2</td><td>213</td><td>4650</td><td>Female</td></tr>\n",
       "\t<tr><td>Adelie   </td><td>Biscoe   </td><td>41.6</td><td>18.0</td><td>192</td><td>3950</td><td>Male  </td></tr>\n",
       "\t<tr><td>Adelie   </td><td>Torgersen</td><td>41.4</td><td>18.5</td><td>202</td><td>3875</td><td>Male  </td></tr>\n",
       "\t<tr><td>Adelie   </td><td>Biscoe   </td><td>40.5</td><td>17.9</td><td>187</td><td>3200</td><td>Female</td></tr>\n",
       "\t<tr><td>Adelie   </td><td>Torgersen</td><td>39.0</td><td>17.1</td><td>191</td><td>3050</td><td>Female</td></tr>\n",
       "\t<tr><td>Adelie   </td><td>Dream    </td><td>36.3</td><td>19.5</td><td>190</td><td>3800</td><td>Male  </td></tr>\n",
       "</tbody>\n",
       "</table>\n"
      ],
      "text/latex": [
       "A spec\\_tbl\\_df: 12 × 7\n",
       "\\begin{tabular}{lllllll}\n",
       " species & island & bill\\_length\\_mm & bill\\_depth\\_mm & flipper\\_length\\_mm & body\\_mass\\_g & sex\\\\\n",
       " <chr> & <chr> & <dbl> & <dbl> & <dbl> & <dbl> & <chr>\\\\\n",
       "\\hline\n",
       "\t Gentoo    & Biscoe    & 51.5 & 16.3 & 230 & 5500 & Male  \\\\\n",
       "\t Gentoo    & Biscoe    & 50.5 & 15.9 & 222 & 5550 & Male  \\\\\n",
       "\t Chinstrap & Dream     & 50.1 & 17.9 & 190 & 3400 & Female\\\\\n",
       "\t Chinstrap & Dream     & 49.0 & 19.6 & 212 & 4300 & Male  \\\\\n",
       "\t Gentoo    & Biscoe    & 47.6 & 14.5 & 215 & 5400 & Male  \\\\\n",
       "\t Chinstrap & Dream     & 43.5 & 18.1 & 202 & 3400 & Female\\\\\n",
       "\t Gentoo    & Biscoe    & 43.5 & 15.2 & 213 & 4650 & Female\\\\\n",
       "\t Adelie    & Biscoe    & 41.6 & 18.0 & 192 & 3950 & Male  \\\\\n",
       "\t Adelie    & Torgersen & 41.4 & 18.5 & 202 & 3875 & Male  \\\\\n",
       "\t Adelie    & Biscoe    & 40.5 & 17.9 & 187 & 3200 & Female\\\\\n",
       "\t Adelie    & Torgersen & 39.0 & 17.1 & 191 & 3050 & Female\\\\\n",
       "\t Adelie    & Dream     & 36.3 & 19.5 & 190 & 3800 & Male  \\\\\n",
       "\\end{tabular}\n"
      ],
      "text/markdown": [
       "\n",
       "A spec_tbl_df: 12 × 7\n",
       "\n",
       "| species &lt;chr&gt; | island &lt;chr&gt; | bill_length_mm &lt;dbl&gt; | bill_depth_mm &lt;dbl&gt; | flipper_length_mm &lt;dbl&gt; | body_mass_g &lt;dbl&gt; | sex &lt;chr&gt; |\n",
       "|---|---|---|---|---|---|---|\n",
       "| Gentoo    | Biscoe    | 51.5 | 16.3 | 230 | 5500 | Male   |\n",
       "| Gentoo    | Biscoe    | 50.5 | 15.9 | 222 | 5550 | Male   |\n",
       "| Chinstrap | Dream     | 50.1 | 17.9 | 190 | 3400 | Female |\n",
       "| Chinstrap | Dream     | 49.0 | 19.6 | 212 | 4300 | Male   |\n",
       "| Gentoo    | Biscoe    | 47.6 | 14.5 | 215 | 5400 | Male   |\n",
       "| Chinstrap | Dream     | 43.5 | 18.1 | 202 | 3400 | Female |\n",
       "| Gentoo    | Biscoe    | 43.5 | 15.2 | 213 | 4650 | Female |\n",
       "| Adelie    | Biscoe    | 41.6 | 18.0 | 192 | 3950 | Male   |\n",
       "| Adelie    | Torgersen | 41.4 | 18.5 | 202 | 3875 | Male   |\n",
       "| Adelie    | Biscoe    | 40.5 | 17.9 | 187 | 3200 | Female |\n",
       "| Adelie    | Torgersen | 39.0 | 17.1 | 191 | 3050 | Female |\n",
       "| Adelie    | Dream     | 36.3 | 19.5 | 190 | 3800 | Male   |\n",
       "\n"
      ],
      "text/plain": [
       "   species   island    bill_length_mm bill_depth_mm flipper_length_mm\n",
       "1  Gentoo    Biscoe    51.5           16.3          230              \n",
       "2  Gentoo    Biscoe    50.5           15.9          222              \n",
       "3  Chinstrap Dream     50.1           17.9          190              \n",
       "4  Chinstrap Dream     49.0           19.6          212              \n",
       "5  Gentoo    Biscoe    47.6           14.5          215              \n",
       "6  Chinstrap Dream     43.5           18.1          202              \n",
       "7  Gentoo    Biscoe    43.5           15.2          213              \n",
       "8  Adelie    Biscoe    41.6           18.0          192              \n",
       "9  Adelie    Torgersen 41.4           18.5          202              \n",
       "10 Adelie    Biscoe    40.5           17.9          187              \n",
       "11 Adelie    Torgersen 39.0           17.1          191              \n",
       "12 Adelie    Dream     36.3           19.5          190              \n",
       "   body_mass_g sex   \n",
       "1  5500        Male  \n",
       "2  5550        Male  \n",
       "3  3400        Female\n",
       "4  4300        Male  \n",
       "5  5400        Male  \n",
       "6  3400        Female\n",
       "7  4650        Female\n",
       "8  3950        Male  \n",
       "9  3875        Male  \n",
       "10 3200        Female\n",
       "11 3050        Female\n",
       "12 3800        Male  "
      ]
     },
     "metadata": {},
     "output_type": "display_data"
    }
   ],
   "source": [
    "penguins_subset %>%\n",
    "  arrange(desc(bill_length_mm))"
   ]
  },
  {
   "cell_type": "code",
   "execution_count": 41,
   "id": "96ef98de-5295-42b3-b272-d2f9a0f78386",
   "metadata": {},
   "outputs": [
    {
     "data": {
      "text/html": [
       "<table class=\"dataframe\">\n",
       "<caption>A spec_tbl_df: 12 × 7</caption>\n",
       "<thead>\n",
       "\t<tr><th scope=col>species</th><th scope=col>island</th><th scope=col>bill_length_mm</th><th scope=col>bill_depth_mm</th><th scope=col>flipper_length_mm</th><th scope=col>body_mass_g</th><th scope=col>sex</th></tr>\n",
       "\t<tr><th scope=col>&lt;chr&gt;</th><th scope=col>&lt;chr&gt;</th><th scope=col>&lt;dbl&gt;</th><th scope=col>&lt;dbl&gt;</th><th scope=col>&lt;dbl&gt;</th><th scope=col>&lt;dbl&gt;</th><th scope=col>&lt;chr&gt;</th></tr>\n",
       "</thead>\n",
       "<tbody>\n",
       "\t<tr><td>Gentoo   </td><td>Biscoe   </td><td>50.5</td><td>15.9</td><td>222</td><td>5550</td><td>Male  </td></tr>\n",
       "\t<tr><td>Gentoo   </td><td>Biscoe   </td><td>51.5</td><td>16.3</td><td>230</td><td>5500</td><td>Male  </td></tr>\n",
       "\t<tr><td>Gentoo   </td><td>Biscoe   </td><td>43.5</td><td>15.2</td><td>213</td><td>4650</td><td>Female</td></tr>\n",
       "\t<tr><td>Gentoo   </td><td>Biscoe   </td><td>47.6</td><td>14.5</td><td>215</td><td>5400</td><td>Male  </td></tr>\n",
       "\t<tr><td>Chinstrap</td><td>Dream    </td><td>50.1</td><td>17.9</td><td>190</td><td>3400</td><td>Female</td></tr>\n",
       "\t<tr><td>Chinstrap</td><td>Dream    </td><td>49.0</td><td>19.6</td><td>212</td><td>4300</td><td>Male  </td></tr>\n",
       "\t<tr><td>Chinstrap</td><td>Dream    </td><td>43.5</td><td>18.1</td><td>202</td><td>3400</td><td>Female</td></tr>\n",
       "\t<tr><td>Adelie   </td><td>Torgersen</td><td>41.4</td><td>18.5</td><td>202</td><td>3875</td><td>Male  </td></tr>\n",
       "\t<tr><td>Adelie   </td><td>Biscoe   </td><td>40.5</td><td>17.9</td><td>187</td><td>3200</td><td>Female</td></tr>\n",
       "\t<tr><td>Adelie   </td><td>Dream    </td><td>36.3</td><td>19.5</td><td>190</td><td>3800</td><td>Male  </td></tr>\n",
       "\t<tr><td>Adelie   </td><td>Torgersen</td><td>39.0</td><td>17.1</td><td>191</td><td>3050</td><td>Female</td></tr>\n",
       "\t<tr><td>Adelie   </td><td>Biscoe   </td><td>41.6</td><td>18.0</td><td>192</td><td>3950</td><td>Male  </td></tr>\n",
       "</tbody>\n",
       "</table>\n"
      ],
      "text/latex": [
       "A spec\\_tbl\\_df: 12 × 7\n",
       "\\begin{tabular}{lllllll}\n",
       " species & island & bill\\_length\\_mm & bill\\_depth\\_mm & flipper\\_length\\_mm & body\\_mass\\_g & sex\\\\\n",
       " <chr> & <chr> & <dbl> & <dbl> & <dbl> & <dbl> & <chr>\\\\\n",
       "\\hline\n",
       "\t Gentoo    & Biscoe    & 50.5 & 15.9 & 222 & 5550 & Male  \\\\\n",
       "\t Gentoo    & Biscoe    & 51.5 & 16.3 & 230 & 5500 & Male  \\\\\n",
       "\t Gentoo    & Biscoe    & 43.5 & 15.2 & 213 & 4650 & Female\\\\\n",
       "\t Gentoo    & Biscoe    & 47.6 & 14.5 & 215 & 5400 & Male  \\\\\n",
       "\t Chinstrap & Dream     & 50.1 & 17.9 & 190 & 3400 & Female\\\\\n",
       "\t Chinstrap & Dream     & 49.0 & 19.6 & 212 & 4300 & Male  \\\\\n",
       "\t Chinstrap & Dream     & 43.5 & 18.1 & 202 & 3400 & Female\\\\\n",
       "\t Adelie    & Torgersen & 41.4 & 18.5 & 202 & 3875 & Male  \\\\\n",
       "\t Adelie    & Biscoe    & 40.5 & 17.9 & 187 & 3200 & Female\\\\\n",
       "\t Adelie    & Dream     & 36.3 & 19.5 & 190 & 3800 & Male  \\\\\n",
       "\t Adelie    & Torgersen & 39.0 & 17.1 & 191 & 3050 & Female\\\\\n",
       "\t Adelie    & Biscoe    & 41.6 & 18.0 & 192 & 3950 & Male  \\\\\n",
       "\\end{tabular}\n"
      ],
      "text/markdown": [
       "\n",
       "A spec_tbl_df: 12 × 7\n",
       "\n",
       "| species &lt;chr&gt; | island &lt;chr&gt; | bill_length_mm &lt;dbl&gt; | bill_depth_mm &lt;dbl&gt; | flipper_length_mm &lt;dbl&gt; | body_mass_g &lt;dbl&gt; | sex &lt;chr&gt; |\n",
       "|---|---|---|---|---|---|---|\n",
       "| Gentoo    | Biscoe    | 50.5 | 15.9 | 222 | 5550 | Male   |\n",
       "| Gentoo    | Biscoe    | 51.5 | 16.3 | 230 | 5500 | Male   |\n",
       "| Gentoo    | Biscoe    | 43.5 | 15.2 | 213 | 4650 | Female |\n",
       "| Gentoo    | Biscoe    | 47.6 | 14.5 | 215 | 5400 | Male   |\n",
       "| Chinstrap | Dream     | 50.1 | 17.9 | 190 | 3400 | Female |\n",
       "| Chinstrap | Dream     | 49.0 | 19.6 | 212 | 4300 | Male   |\n",
       "| Chinstrap | Dream     | 43.5 | 18.1 | 202 | 3400 | Female |\n",
       "| Adelie    | Torgersen | 41.4 | 18.5 | 202 | 3875 | Male   |\n",
       "| Adelie    | Biscoe    | 40.5 | 17.9 | 187 | 3200 | Female |\n",
       "| Adelie    | Dream     | 36.3 | 19.5 | 190 | 3800 | Male   |\n",
       "| Adelie    | Torgersen | 39.0 | 17.1 | 191 | 3050 | Female |\n",
       "| Adelie    | Biscoe    | 41.6 | 18.0 | 192 | 3950 | Male   |\n",
       "\n"
      ],
      "text/plain": [
       "   species   island    bill_length_mm bill_depth_mm flipper_length_mm\n",
       "1  Gentoo    Biscoe    50.5           15.9          222              \n",
       "2  Gentoo    Biscoe    51.5           16.3          230              \n",
       "3  Gentoo    Biscoe    43.5           15.2          213              \n",
       "4  Gentoo    Biscoe    47.6           14.5          215              \n",
       "5  Chinstrap Dream     50.1           17.9          190              \n",
       "6  Chinstrap Dream     49.0           19.6          212              \n",
       "7  Chinstrap Dream     43.5           18.1          202              \n",
       "8  Adelie    Torgersen 41.4           18.5          202              \n",
       "9  Adelie    Biscoe    40.5           17.9          187              \n",
       "10 Adelie    Dream     36.3           19.5          190              \n",
       "11 Adelie    Torgersen 39.0           17.1          191              \n",
       "12 Adelie    Biscoe    41.6           18.0          192              \n",
       "   body_mass_g sex   \n",
       "1  5550        Male  \n",
       "2  5500        Male  \n",
       "3  4650        Female\n",
       "4  5400        Male  \n",
       "5  3400        Female\n",
       "6  4300        Male  \n",
       "7  3400        Female\n",
       "8  3875        Male  \n",
       "9  3200        Female\n",
       "10 3800        Male  \n",
       "11 3050        Female\n",
       "12 3950        Male  "
      ]
     },
     "metadata": {},
     "output_type": "display_data"
    }
   ],
   "source": [
    "penguins_subset %>%\n",
    "  arrange(desc(species))"
   ]
  },
  {
   "cell_type": "markdown",
   "id": "a45da3a3-e878-4c19-9a07-75e2c72ddd80",
   "metadata": {},
   "source": [
    "### Filter based on a condition"
   ]
  },
  {
   "cell_type": "code",
   "execution_count": 43,
   "id": "258e3725-85d0-49a1-8ff7-abaa79ac703c",
   "metadata": {},
   "outputs": [
    {
     "data": {
      "text/html": [
       "<table class=\"dataframe\">\n",
       "<caption>A spec_tbl_df: 8 × 7</caption>\n",
       "<thead>\n",
       "\t<tr><th scope=col>species</th><th scope=col>island</th><th scope=col>bill_length_mm</th><th scope=col>bill_depth_mm</th><th scope=col>flipper_length_mm</th><th scope=col>body_mass_g</th><th scope=col>sex</th></tr>\n",
       "\t<tr><th scope=col>&lt;chr&gt;</th><th scope=col>&lt;chr&gt;</th><th scope=col>&lt;dbl&gt;</th><th scope=col>&lt;dbl&gt;</th><th scope=col>&lt;dbl&gt;</th><th scope=col>&lt;dbl&gt;</th><th scope=col>&lt;chr&gt;</th></tr>\n",
       "</thead>\n",
       "<tbody>\n",
       "\t<tr><td>Adelie   </td><td>Torgersen</td><td>41.4</td><td>18.5</td><td>202</td><td>3875</td><td>Male  </td></tr>\n",
       "\t<tr><td>Chinstrap</td><td>Dream    </td><td>50.1</td><td>17.9</td><td>190</td><td>3400</td><td>Female</td></tr>\n",
       "\t<tr><td>Chinstrap</td><td>Dream    </td><td>49.0</td><td>19.6</td><td>212</td><td>4300</td><td>Male  </td></tr>\n",
       "\t<tr><td>Chinstrap</td><td>Dream    </td><td>43.5</td><td>18.1</td><td>202</td><td>3400</td><td>Female</td></tr>\n",
       "\t<tr><td>Adelie   </td><td>Biscoe   </td><td>40.5</td><td>17.9</td><td>187</td><td>3200</td><td>Female</td></tr>\n",
       "\t<tr><td>Adelie   </td><td>Dream    </td><td>36.3</td><td>19.5</td><td>190</td><td>3800</td><td>Male  </td></tr>\n",
       "\t<tr><td>Adelie   </td><td>Torgersen</td><td>39.0</td><td>17.1</td><td>191</td><td>3050</td><td>Female</td></tr>\n",
       "\t<tr><td>Adelie   </td><td>Biscoe   </td><td>41.6</td><td>18.0</td><td>192</td><td>3950</td><td>Male  </td></tr>\n",
       "</tbody>\n",
       "</table>\n"
      ],
      "text/latex": [
       "A spec\\_tbl\\_df: 8 × 7\n",
       "\\begin{tabular}{lllllll}\n",
       " species & island & bill\\_length\\_mm & bill\\_depth\\_mm & flipper\\_length\\_mm & body\\_mass\\_g & sex\\\\\n",
       " <chr> & <chr> & <dbl> & <dbl> & <dbl> & <dbl> & <chr>\\\\\n",
       "\\hline\n",
       "\t Adelie    & Torgersen & 41.4 & 18.5 & 202 & 3875 & Male  \\\\\n",
       "\t Chinstrap & Dream     & 50.1 & 17.9 & 190 & 3400 & Female\\\\\n",
       "\t Chinstrap & Dream     & 49.0 & 19.6 & 212 & 4300 & Male  \\\\\n",
       "\t Chinstrap & Dream     & 43.5 & 18.1 & 202 & 3400 & Female\\\\\n",
       "\t Adelie    & Biscoe    & 40.5 & 17.9 & 187 & 3200 & Female\\\\\n",
       "\t Adelie    & Dream     & 36.3 & 19.5 & 190 & 3800 & Male  \\\\\n",
       "\t Adelie    & Torgersen & 39.0 & 17.1 & 191 & 3050 & Female\\\\\n",
       "\t Adelie    & Biscoe    & 41.6 & 18.0 & 192 & 3950 & Male  \\\\\n",
       "\\end{tabular}\n"
      ],
      "text/markdown": [
       "\n",
       "A spec_tbl_df: 8 × 7\n",
       "\n",
       "| species &lt;chr&gt; | island &lt;chr&gt; | bill_length_mm &lt;dbl&gt; | bill_depth_mm &lt;dbl&gt; | flipper_length_mm &lt;dbl&gt; | body_mass_g &lt;dbl&gt; | sex &lt;chr&gt; |\n",
       "|---|---|---|---|---|---|---|\n",
       "| Adelie    | Torgersen | 41.4 | 18.5 | 202 | 3875 | Male   |\n",
       "| Chinstrap | Dream     | 50.1 | 17.9 | 190 | 3400 | Female |\n",
       "| Chinstrap | Dream     | 49.0 | 19.6 | 212 | 4300 | Male   |\n",
       "| Chinstrap | Dream     | 43.5 | 18.1 | 202 | 3400 | Female |\n",
       "| Adelie    | Biscoe    | 40.5 | 17.9 | 187 | 3200 | Female |\n",
       "| Adelie    | Dream     | 36.3 | 19.5 | 190 | 3800 | Male   |\n",
       "| Adelie    | Torgersen | 39.0 | 17.1 | 191 | 3050 | Female |\n",
       "| Adelie    | Biscoe    | 41.6 | 18.0 | 192 | 3950 | Male   |\n",
       "\n"
      ],
      "text/plain": [
       "  species   island    bill_length_mm bill_depth_mm flipper_length_mm\n",
       "1 Adelie    Torgersen 41.4           18.5          202              \n",
       "2 Chinstrap Dream     50.1           17.9          190              \n",
       "3 Chinstrap Dream     49.0           19.6          212              \n",
       "4 Chinstrap Dream     43.5           18.1          202              \n",
       "5 Adelie    Biscoe    40.5           17.9          187              \n",
       "6 Adelie    Dream     36.3           19.5          190              \n",
       "7 Adelie    Torgersen 39.0           17.1          191              \n",
       "8 Adelie    Biscoe    41.6           18.0          192              \n",
       "  body_mass_g sex   \n",
       "1 3875        Male  \n",
       "2 3400        Female\n",
       "3 4300        Male  \n",
       "4 3400        Female\n",
       "5 3200        Female\n",
       "6 3800        Male  \n",
       "7 3050        Female\n",
       "8 3950        Male  "
      ]
     },
     "metadata": {},
     "output_type": "display_data"
    }
   ],
   "source": [
    "penguins_subset %>%\n",
    "  filter(bill_depth_mm > 17)"
   ]
  },
  {
   "cell_type": "code",
   "execution_count": 44,
   "id": "1a54e542-a080-4e0e-91ae-8484d808f65e",
   "metadata": {},
   "outputs": [
    {
     "data": {
      "text/html": [
       "<table class=\"dataframe\">\n",
       "<caption>A spec_tbl_df: 4 × 7</caption>\n",
       "<thead>\n",
       "\t<tr><th scope=col>species</th><th scope=col>island</th><th scope=col>bill_length_mm</th><th scope=col>bill_depth_mm</th><th scope=col>flipper_length_mm</th><th scope=col>body_mass_g</th><th scope=col>sex</th></tr>\n",
       "\t<tr><th scope=col>&lt;chr&gt;</th><th scope=col>&lt;chr&gt;</th><th scope=col>&lt;dbl&gt;</th><th scope=col>&lt;dbl&gt;</th><th scope=col>&lt;dbl&gt;</th><th scope=col>&lt;dbl&gt;</th><th scope=col>&lt;chr&gt;</th></tr>\n",
       "</thead>\n",
       "<tbody>\n",
       "\t<tr><td>Chinstrap</td><td>Dream</td><td>50.1</td><td>17.9</td><td>190</td><td>3400</td><td>Female</td></tr>\n",
       "\t<tr><td>Chinstrap</td><td>Dream</td><td>49.0</td><td>19.6</td><td>212</td><td>4300</td><td>Male  </td></tr>\n",
       "\t<tr><td>Chinstrap</td><td>Dream</td><td>43.5</td><td>18.1</td><td>202</td><td>3400</td><td>Female</td></tr>\n",
       "\t<tr><td>Adelie   </td><td>Dream</td><td>36.3</td><td>19.5</td><td>190</td><td>3800</td><td>Male  </td></tr>\n",
       "</tbody>\n",
       "</table>\n"
      ],
      "text/latex": [
       "A spec\\_tbl\\_df: 4 × 7\n",
       "\\begin{tabular}{lllllll}\n",
       " species & island & bill\\_length\\_mm & bill\\_depth\\_mm & flipper\\_length\\_mm & body\\_mass\\_g & sex\\\\\n",
       " <chr> & <chr> & <dbl> & <dbl> & <dbl> & <dbl> & <chr>\\\\\n",
       "\\hline\n",
       "\t Chinstrap & Dream & 50.1 & 17.9 & 190 & 3400 & Female\\\\\n",
       "\t Chinstrap & Dream & 49.0 & 19.6 & 212 & 4300 & Male  \\\\\n",
       "\t Chinstrap & Dream & 43.5 & 18.1 & 202 & 3400 & Female\\\\\n",
       "\t Adelie    & Dream & 36.3 & 19.5 & 190 & 3800 & Male  \\\\\n",
       "\\end{tabular}\n"
      ],
      "text/markdown": [
       "\n",
       "A spec_tbl_df: 4 × 7\n",
       "\n",
       "| species &lt;chr&gt; | island &lt;chr&gt; | bill_length_mm &lt;dbl&gt; | bill_depth_mm &lt;dbl&gt; | flipper_length_mm &lt;dbl&gt; | body_mass_g &lt;dbl&gt; | sex &lt;chr&gt; |\n",
       "|---|---|---|---|---|---|---|\n",
       "| Chinstrap | Dream | 50.1 | 17.9 | 190 | 3400 | Female |\n",
       "| Chinstrap | Dream | 49.0 | 19.6 | 212 | 4300 | Male   |\n",
       "| Chinstrap | Dream | 43.5 | 18.1 | 202 | 3400 | Female |\n",
       "| Adelie    | Dream | 36.3 | 19.5 | 190 | 3800 | Male   |\n",
       "\n"
      ],
      "text/plain": [
       "  species   island bill_length_mm bill_depth_mm flipper_length_mm body_mass_g\n",
       "1 Chinstrap Dream  50.1           17.9          190               3400       \n",
       "2 Chinstrap Dream  49.0           19.6          212               4300       \n",
       "3 Chinstrap Dream  43.5           18.1          202               3400       \n",
       "4 Adelie    Dream  36.3           19.5          190               3800       \n",
       "  sex   \n",
       "1 Female\n",
       "2 Male  \n",
       "3 Female\n",
       "4 Male  "
      ]
     },
     "metadata": {},
     "output_type": "display_data"
    }
   ],
   "source": [
    "penguins_subset %>%\n",
    "  filter(island == \"Dream\")"
   ]
  },
  {
   "cell_type": "code",
   "execution_count": 47,
   "id": "c6032d2d-f2fc-4882-8f2b-d19461302792",
   "metadata": {},
   "outputs": [
    {
     "data": {
      "text/html": [
       "<table class=\"dataframe\">\n",
       "<caption>A spec_tbl_df: 5 × 7</caption>\n",
       "<thead>\n",
       "\t<tr><th scope=col>species</th><th scope=col>island</th><th scope=col>bill_length_mm</th><th scope=col>bill_depth_mm</th><th scope=col>flipper_length_mm</th><th scope=col>body_mass_g</th><th scope=col>sex</th></tr>\n",
       "\t<tr><th scope=col>&lt;chr&gt;</th><th scope=col>&lt;chr&gt;</th><th scope=col>&lt;dbl&gt;</th><th scope=col>&lt;dbl&gt;</th><th scope=col>&lt;dbl&gt;</th><th scope=col>&lt;dbl&gt;</th><th scope=col>&lt;chr&gt;</th></tr>\n",
       "</thead>\n",
       "<tbody>\n",
       "\t<tr><td>Adelie   </td><td>Torgersen</td><td>41.4</td><td>18.5</td><td>202</td><td>3875</td><td>Male  </td></tr>\n",
       "\t<tr><td>Chinstrap</td><td>Dream    </td><td>43.5</td><td>18.1</td><td>202</td><td>3400</td><td>Female</td></tr>\n",
       "\t<tr><td>Adelie   </td><td>Biscoe   </td><td>40.5</td><td>17.9</td><td>187</td><td>3200</td><td>Female</td></tr>\n",
       "\t<tr><td>Gentoo   </td><td>Biscoe   </td><td>43.5</td><td>15.2</td><td>213</td><td>4650</td><td>Female</td></tr>\n",
       "\t<tr><td>Adelie   </td><td>Biscoe   </td><td>41.6</td><td>18.0</td><td>192</td><td>3950</td><td>Male  </td></tr>\n",
       "</tbody>\n",
       "</table>\n"
      ],
      "text/latex": [
       "A spec\\_tbl\\_df: 5 × 7\n",
       "\\begin{tabular}{lllllll}\n",
       " species & island & bill\\_length\\_mm & bill\\_depth\\_mm & flipper\\_length\\_mm & body\\_mass\\_g & sex\\\\\n",
       " <chr> & <chr> & <dbl> & <dbl> & <dbl> & <dbl> & <chr>\\\\\n",
       "\\hline\n",
       "\t Adelie    & Torgersen & 41.4 & 18.5 & 202 & 3875 & Male  \\\\\n",
       "\t Chinstrap & Dream     & 43.5 & 18.1 & 202 & 3400 & Female\\\\\n",
       "\t Adelie    & Biscoe    & 40.5 & 17.9 & 187 & 3200 & Female\\\\\n",
       "\t Gentoo    & Biscoe    & 43.5 & 15.2 & 213 & 4650 & Female\\\\\n",
       "\t Adelie    & Biscoe    & 41.6 & 18.0 & 192 & 3950 & Male  \\\\\n",
       "\\end{tabular}\n"
      ],
      "text/markdown": [
       "\n",
       "A spec_tbl_df: 5 × 7\n",
       "\n",
       "| species &lt;chr&gt; | island &lt;chr&gt; | bill_length_mm &lt;dbl&gt; | bill_depth_mm &lt;dbl&gt; | flipper_length_mm &lt;dbl&gt; | body_mass_g &lt;dbl&gt; | sex &lt;chr&gt; |\n",
       "|---|---|---|---|---|---|---|\n",
       "| Adelie    | Torgersen | 41.4 | 18.5 | 202 | 3875 | Male   |\n",
       "| Chinstrap | Dream     | 43.5 | 18.1 | 202 | 3400 | Female |\n",
       "| Adelie    | Biscoe    | 40.5 | 17.9 | 187 | 3200 | Female |\n",
       "| Gentoo    | Biscoe    | 43.5 | 15.2 | 213 | 4650 | Female |\n",
       "| Adelie    | Biscoe    | 41.6 | 18.0 | 192 | 3950 | Male   |\n",
       "\n"
      ],
      "text/plain": [
       "  species   island    bill_length_mm bill_depth_mm flipper_length_mm\n",
       "1 Adelie    Torgersen 41.4           18.5          202              \n",
       "2 Chinstrap Dream     43.5           18.1          202              \n",
       "3 Adelie    Biscoe    40.5           17.9          187              \n",
       "4 Gentoo    Biscoe    43.5           15.2          213              \n",
       "5 Adelie    Biscoe    41.6           18.0          192              \n",
       "  body_mass_g sex   \n",
       "1 3875        Male  \n",
       "2 3400        Female\n",
       "3 3200        Female\n",
       "4 4650        Female\n",
       "5 3950        Male  "
      ]
     },
     "metadata": {},
     "output_type": "display_data"
    }
   ],
   "source": [
    "penguins_subset %>%\n",
    "  filter(between(bill_length_mm, 40, 45 ))"
   ]
  },
  {
   "cell_type": "markdown",
   "id": "b83a3b42-9290-4da0-bc97-213d0567cfc2",
   "metadata": {},
   "source": [
    "### Select"
   ]
  },
  {
   "cell_type": "code",
   "execution_count": 48,
   "id": "92cf6d93-c03d-429e-8a53-69357527b892",
   "metadata": {},
   "outputs": [
    {
     "data": {
      "text/html": [
       "<table class=\"dataframe\">\n",
       "<caption>A tibble: 12 × 3</caption>\n",
       "<thead>\n",
       "\t<tr><th scope=col>species</th><th scope=col>flipper_length_mm</th><th scope=col>sex</th></tr>\n",
       "\t<tr><th scope=col>&lt;chr&gt;</th><th scope=col>&lt;dbl&gt;</th><th scope=col>&lt;chr&gt;</th></tr>\n",
       "</thead>\n",
       "<tbody>\n",
       "\t<tr><td>Adelie   </td><td>202</td><td>Male  </td></tr>\n",
       "\t<tr><td>Chinstrap</td><td>190</td><td>Female</td></tr>\n",
       "\t<tr><td>Gentoo   </td><td>222</td><td>Male  </td></tr>\n",
       "\t<tr><td>Chinstrap</td><td>212</td><td>Male  </td></tr>\n",
       "\t<tr><td>Chinstrap</td><td>202</td><td>Female</td></tr>\n",
       "\t<tr><td>Gentoo   </td><td>230</td><td>Male  </td></tr>\n",
       "\t<tr><td>Adelie   </td><td>187</td><td>Female</td></tr>\n",
       "\t<tr><td>Gentoo   </td><td>213</td><td>Female</td></tr>\n",
       "\t<tr><td>Adelie   </td><td>190</td><td>Male  </td></tr>\n",
       "\t<tr><td>Adelie   </td><td>191</td><td>Female</td></tr>\n",
       "\t<tr><td>Adelie   </td><td>192</td><td>Male  </td></tr>\n",
       "\t<tr><td>Gentoo   </td><td>215</td><td>Male  </td></tr>\n",
       "</tbody>\n",
       "</table>\n"
      ],
      "text/latex": [
       "A tibble: 12 × 3\n",
       "\\begin{tabular}{lll}\n",
       " species & flipper\\_length\\_mm & sex\\\\\n",
       " <chr> & <dbl> & <chr>\\\\\n",
       "\\hline\n",
       "\t Adelie    & 202 & Male  \\\\\n",
       "\t Chinstrap & 190 & Female\\\\\n",
       "\t Gentoo    & 222 & Male  \\\\\n",
       "\t Chinstrap & 212 & Male  \\\\\n",
       "\t Chinstrap & 202 & Female\\\\\n",
       "\t Gentoo    & 230 & Male  \\\\\n",
       "\t Adelie    & 187 & Female\\\\\n",
       "\t Gentoo    & 213 & Female\\\\\n",
       "\t Adelie    & 190 & Male  \\\\\n",
       "\t Adelie    & 191 & Female\\\\\n",
       "\t Adelie    & 192 & Male  \\\\\n",
       "\t Gentoo    & 215 & Male  \\\\\n",
       "\\end{tabular}\n"
      ],
      "text/markdown": [
       "\n",
       "A tibble: 12 × 3\n",
       "\n",
       "| species &lt;chr&gt; | flipper_length_mm &lt;dbl&gt; | sex &lt;chr&gt; |\n",
       "|---|---|---|\n",
       "| Adelie    | 202 | Male   |\n",
       "| Chinstrap | 190 | Female |\n",
       "| Gentoo    | 222 | Male   |\n",
       "| Chinstrap | 212 | Male   |\n",
       "| Chinstrap | 202 | Female |\n",
       "| Gentoo    | 230 | Male   |\n",
       "| Adelie    | 187 | Female |\n",
       "| Gentoo    | 213 | Female |\n",
       "| Adelie    | 190 | Male   |\n",
       "| Adelie    | 191 | Female |\n",
       "| Adelie    | 192 | Male   |\n",
       "| Gentoo    | 215 | Male   |\n",
       "\n"
      ],
      "text/plain": [
       "   species   flipper_length_mm sex   \n",
       "1  Adelie    202               Male  \n",
       "2  Chinstrap 190               Female\n",
       "3  Gentoo    222               Male  \n",
       "4  Chinstrap 212               Male  \n",
       "5  Chinstrap 202               Female\n",
       "6  Gentoo    230               Male  \n",
       "7  Adelie    187               Female\n",
       "8  Gentoo    213               Female\n",
       "9  Adelie    190               Male  \n",
       "10 Adelie    191               Female\n",
       "11 Adelie    192               Male  \n",
       "12 Gentoo    215               Male  "
      ]
     },
     "metadata": {},
     "output_type": "display_data"
    }
   ],
   "source": [
    "penguins_subset %>%\n",
    "  select(species, flipper_length_mm, sex)"
   ]
  },
  {
   "cell_type": "code",
   "execution_count": 49,
   "id": "71110b7f-5e60-47d1-9d17-cb98f7d9a323",
   "metadata": {},
   "outputs": [
    {
     "data": {
      "text/html": [
       "<table class=\"dataframe\">\n",
       "<caption>A tibble: 12 × 3</caption>\n",
       "<thead>\n",
       "\t<tr><th scope=col>species</th><th scope=col>island</th><th scope=col>sex</th></tr>\n",
       "\t<tr><th scope=col>&lt;chr&gt;</th><th scope=col>&lt;chr&gt;</th><th scope=col>&lt;chr&gt;</th></tr>\n",
       "</thead>\n",
       "<tbody>\n",
       "\t<tr><td>Adelie   </td><td>Torgersen</td><td>Male  </td></tr>\n",
       "\t<tr><td>Chinstrap</td><td>Dream    </td><td>Female</td></tr>\n",
       "\t<tr><td>Gentoo   </td><td>Biscoe   </td><td>Male  </td></tr>\n",
       "\t<tr><td>Chinstrap</td><td>Dream    </td><td>Male  </td></tr>\n",
       "\t<tr><td>Chinstrap</td><td>Dream    </td><td>Female</td></tr>\n",
       "\t<tr><td>Gentoo   </td><td>Biscoe   </td><td>Male  </td></tr>\n",
       "\t<tr><td>Adelie   </td><td>Biscoe   </td><td>Female</td></tr>\n",
       "\t<tr><td>Gentoo   </td><td>Biscoe   </td><td>Female</td></tr>\n",
       "\t<tr><td>Adelie   </td><td>Dream    </td><td>Male  </td></tr>\n",
       "\t<tr><td>Adelie   </td><td>Torgersen</td><td>Female</td></tr>\n",
       "\t<tr><td>Adelie   </td><td>Biscoe   </td><td>Male  </td></tr>\n",
       "\t<tr><td>Gentoo   </td><td>Biscoe   </td><td>Male  </td></tr>\n",
       "</tbody>\n",
       "</table>\n"
      ],
      "text/latex": [
       "A tibble: 12 × 3\n",
       "\\begin{tabular}{lll}\n",
       " species & island & sex\\\\\n",
       " <chr> & <chr> & <chr>\\\\\n",
       "\\hline\n",
       "\t Adelie    & Torgersen & Male  \\\\\n",
       "\t Chinstrap & Dream     & Female\\\\\n",
       "\t Gentoo    & Biscoe    & Male  \\\\\n",
       "\t Chinstrap & Dream     & Male  \\\\\n",
       "\t Chinstrap & Dream     & Female\\\\\n",
       "\t Gentoo    & Biscoe    & Male  \\\\\n",
       "\t Adelie    & Biscoe    & Female\\\\\n",
       "\t Gentoo    & Biscoe    & Female\\\\\n",
       "\t Adelie    & Dream     & Male  \\\\\n",
       "\t Adelie    & Torgersen & Female\\\\\n",
       "\t Adelie    & Biscoe    & Male  \\\\\n",
       "\t Gentoo    & Biscoe    & Male  \\\\\n",
       "\\end{tabular}\n"
      ],
      "text/markdown": [
       "\n",
       "A tibble: 12 × 3\n",
       "\n",
       "| species &lt;chr&gt; | island &lt;chr&gt; | sex &lt;chr&gt; |\n",
       "|---|---|---|\n",
       "| Adelie    | Torgersen | Male   |\n",
       "| Chinstrap | Dream     | Female |\n",
       "| Gentoo    | Biscoe    | Male   |\n",
       "| Chinstrap | Dream     | Male   |\n",
       "| Chinstrap | Dream     | Female |\n",
       "| Gentoo    | Biscoe    | Male   |\n",
       "| Adelie    | Biscoe    | Female |\n",
       "| Gentoo    | Biscoe    | Female |\n",
       "| Adelie    | Dream     | Male   |\n",
       "| Adelie    | Torgersen | Female |\n",
       "| Adelie    | Biscoe    | Male   |\n",
       "| Gentoo    | Biscoe    | Male   |\n",
       "\n"
      ],
      "text/plain": [
       "   species   island    sex   \n",
       "1  Adelie    Torgersen Male  \n",
       "2  Chinstrap Dream     Female\n",
       "3  Gentoo    Biscoe    Male  \n",
       "4  Chinstrap Dream     Male  \n",
       "5  Chinstrap Dream     Female\n",
       "6  Gentoo    Biscoe    Male  \n",
       "7  Adelie    Biscoe    Female\n",
       "8  Gentoo    Biscoe    Female\n",
       "9  Adelie    Dream     Male  \n",
       "10 Adelie    Torgersen Female\n",
       "11 Adelie    Biscoe    Male  \n",
       "12 Gentoo    Biscoe    Male  "
      ]
     },
     "metadata": {},
     "output_type": "display_data"
    }
   ],
   "source": [
    "penguins_subset %>%\n",
    "  select(where(is.character))"
   ]
  },
  {
   "cell_type": "code",
   "execution_count": 51,
   "id": "11224219-2bd8-4825-b8b6-e98f9b5e59ce",
   "metadata": {},
   "outputs": [
    {
     "data": {
      "text/html": [
       "<table class=\"dataframe\">\n",
       "<caption>A tibble: 12 × 4</caption>\n",
       "<thead>\n",
       "\t<tr><th scope=col>bill_length_mm</th><th scope=col>bill_depth_mm</th><th scope=col>flipper_length_mm</th><th scope=col>body_mass_g</th></tr>\n",
       "\t<tr><th scope=col>&lt;dbl&gt;</th><th scope=col>&lt;dbl&gt;</th><th scope=col>&lt;dbl&gt;</th><th scope=col>&lt;dbl&gt;</th></tr>\n",
       "</thead>\n",
       "<tbody>\n",
       "\t<tr><td>41.4</td><td>18.5</td><td>202</td><td>3875</td></tr>\n",
       "\t<tr><td>50.1</td><td>17.9</td><td>190</td><td>3400</td></tr>\n",
       "\t<tr><td>50.5</td><td>15.9</td><td>222</td><td>5550</td></tr>\n",
       "\t<tr><td>49.0</td><td>19.6</td><td>212</td><td>4300</td></tr>\n",
       "\t<tr><td>43.5</td><td>18.1</td><td>202</td><td>3400</td></tr>\n",
       "\t<tr><td>51.5</td><td>16.3</td><td>230</td><td>5500</td></tr>\n",
       "\t<tr><td>40.5</td><td>17.9</td><td>187</td><td>3200</td></tr>\n",
       "\t<tr><td>43.5</td><td>15.2</td><td>213</td><td>4650</td></tr>\n",
       "\t<tr><td>36.3</td><td>19.5</td><td>190</td><td>3800</td></tr>\n",
       "\t<tr><td>39.0</td><td>17.1</td><td>191</td><td>3050</td></tr>\n",
       "\t<tr><td>41.6</td><td>18.0</td><td>192</td><td>3950</td></tr>\n",
       "\t<tr><td>47.6</td><td>14.5</td><td>215</td><td>5400</td></tr>\n",
       "</tbody>\n",
       "</table>\n"
      ],
      "text/latex": [
       "A tibble: 12 × 4\n",
       "\\begin{tabular}{llll}\n",
       " bill\\_length\\_mm & bill\\_depth\\_mm & flipper\\_length\\_mm & body\\_mass\\_g\\\\\n",
       " <dbl> & <dbl> & <dbl> & <dbl>\\\\\n",
       "\\hline\n",
       "\t 41.4 & 18.5 & 202 & 3875\\\\\n",
       "\t 50.1 & 17.9 & 190 & 3400\\\\\n",
       "\t 50.5 & 15.9 & 222 & 5550\\\\\n",
       "\t 49.0 & 19.6 & 212 & 4300\\\\\n",
       "\t 43.5 & 18.1 & 202 & 3400\\\\\n",
       "\t 51.5 & 16.3 & 230 & 5500\\\\\n",
       "\t 40.5 & 17.9 & 187 & 3200\\\\\n",
       "\t 43.5 & 15.2 & 213 & 4650\\\\\n",
       "\t 36.3 & 19.5 & 190 & 3800\\\\\n",
       "\t 39.0 & 17.1 & 191 & 3050\\\\\n",
       "\t 41.6 & 18.0 & 192 & 3950\\\\\n",
       "\t 47.6 & 14.5 & 215 & 5400\\\\\n",
       "\\end{tabular}\n"
      ],
      "text/markdown": [
       "\n",
       "A tibble: 12 × 4\n",
       "\n",
       "| bill_length_mm &lt;dbl&gt; | bill_depth_mm &lt;dbl&gt; | flipper_length_mm &lt;dbl&gt; | body_mass_g &lt;dbl&gt; |\n",
       "|---|---|---|---|\n",
       "| 41.4 | 18.5 | 202 | 3875 |\n",
       "| 50.1 | 17.9 | 190 | 3400 |\n",
       "| 50.5 | 15.9 | 222 | 5550 |\n",
       "| 49.0 | 19.6 | 212 | 4300 |\n",
       "| 43.5 | 18.1 | 202 | 3400 |\n",
       "| 51.5 | 16.3 | 230 | 5500 |\n",
       "| 40.5 | 17.9 | 187 | 3200 |\n",
       "| 43.5 | 15.2 | 213 | 4650 |\n",
       "| 36.3 | 19.5 | 190 | 3800 |\n",
       "| 39.0 | 17.1 | 191 | 3050 |\n",
       "| 41.6 | 18.0 | 192 | 3950 |\n",
       "| 47.6 | 14.5 | 215 | 5400 |\n",
       "\n"
      ],
      "text/plain": [
       "   bill_length_mm bill_depth_mm flipper_length_mm body_mass_g\n",
       "1  41.4           18.5          202               3875       \n",
       "2  50.1           17.9          190               3400       \n",
       "3  50.5           15.9          222               5550       \n",
       "4  49.0           19.6          212               4300       \n",
       "5  43.5           18.1          202               3400       \n",
       "6  51.5           16.3          230               5500       \n",
       "7  40.5           17.9          187               3200       \n",
       "8  43.5           15.2          213               4650       \n",
       "9  36.3           19.5          190               3800       \n",
       "10 39.0           17.1          191               3050       \n",
       "11 41.6           18.0          192               3950       \n",
       "12 47.6           14.5          215               5400       "
      ]
     },
     "metadata": {},
     "output_type": "display_data"
    }
   ],
   "source": [
    "penguins_subset %>%\n",
    "  select(where(is.numeric))"
   ]
  },
  {
   "cell_type": "code",
   "execution_count": 53,
   "id": "9401fcce-6940-4d43-8e4b-51ecabc7773e",
   "metadata": {},
   "outputs": [
    {
     "data": {
      "text/html": [
       "<table class=\"dataframe\">\n",
       "<caption>A tibble: 12 × 3</caption>\n",
       "<thead>\n",
       "\t<tr><th scope=col>species</th><th scope=col>island</th><th scope=col>sex</th></tr>\n",
       "\t<tr><th scope=col>&lt;chr&gt;</th><th scope=col>&lt;chr&gt;</th><th scope=col>&lt;chr&gt;</th></tr>\n",
       "</thead>\n",
       "<tbody>\n",
       "\t<tr><td>Adelie   </td><td>Torgersen</td><td>Male  </td></tr>\n",
       "\t<tr><td>Chinstrap</td><td>Dream    </td><td>Female</td></tr>\n",
       "\t<tr><td>Gentoo   </td><td>Biscoe   </td><td>Male  </td></tr>\n",
       "\t<tr><td>Chinstrap</td><td>Dream    </td><td>Male  </td></tr>\n",
       "\t<tr><td>Chinstrap</td><td>Dream    </td><td>Female</td></tr>\n",
       "\t<tr><td>Gentoo   </td><td>Biscoe   </td><td>Male  </td></tr>\n",
       "\t<tr><td>Adelie   </td><td>Biscoe   </td><td>Female</td></tr>\n",
       "\t<tr><td>Gentoo   </td><td>Biscoe   </td><td>Female</td></tr>\n",
       "\t<tr><td>Adelie   </td><td>Dream    </td><td>Male  </td></tr>\n",
       "\t<tr><td>Adelie   </td><td>Torgersen</td><td>Female</td></tr>\n",
       "\t<tr><td>Adelie   </td><td>Biscoe   </td><td>Male  </td></tr>\n",
       "\t<tr><td>Gentoo   </td><td>Biscoe   </td><td>Male  </td></tr>\n",
       "</tbody>\n",
       "</table>\n"
      ],
      "text/latex": [
       "A tibble: 12 × 3\n",
       "\\begin{tabular}{lll}\n",
       " species & island & sex\\\\\n",
       " <chr> & <chr> & <chr>\\\\\n",
       "\\hline\n",
       "\t Adelie    & Torgersen & Male  \\\\\n",
       "\t Chinstrap & Dream     & Female\\\\\n",
       "\t Gentoo    & Biscoe    & Male  \\\\\n",
       "\t Chinstrap & Dream     & Male  \\\\\n",
       "\t Chinstrap & Dream     & Female\\\\\n",
       "\t Gentoo    & Biscoe    & Male  \\\\\n",
       "\t Adelie    & Biscoe    & Female\\\\\n",
       "\t Gentoo    & Biscoe    & Female\\\\\n",
       "\t Adelie    & Dream     & Male  \\\\\n",
       "\t Adelie    & Torgersen & Female\\\\\n",
       "\t Adelie    & Biscoe    & Male  \\\\\n",
       "\t Gentoo    & Biscoe    & Male  \\\\\n",
       "\\end{tabular}\n"
      ],
      "text/markdown": [
       "\n",
       "A tibble: 12 × 3\n",
       "\n",
       "| species &lt;chr&gt; | island &lt;chr&gt; | sex &lt;chr&gt; |\n",
       "|---|---|---|\n",
       "| Adelie    | Torgersen | Male   |\n",
       "| Chinstrap | Dream     | Female |\n",
       "| Gentoo    | Biscoe    | Male   |\n",
       "| Chinstrap | Dream     | Male   |\n",
       "| Chinstrap | Dream     | Female |\n",
       "| Gentoo    | Biscoe    | Male   |\n",
       "| Adelie    | Biscoe    | Female |\n",
       "| Gentoo    | Biscoe    | Female |\n",
       "| Adelie    | Dream     | Male   |\n",
       "| Adelie    | Torgersen | Female |\n",
       "| Adelie    | Biscoe    | Male   |\n",
       "| Gentoo    | Biscoe    | Male   |\n",
       "\n"
      ],
      "text/plain": [
       "   species   island    sex   \n",
       "1  Adelie    Torgersen Male  \n",
       "2  Chinstrap Dream     Female\n",
       "3  Gentoo    Biscoe    Male  \n",
       "4  Chinstrap Dream     Male  \n",
       "5  Chinstrap Dream     Female\n",
       "6  Gentoo    Biscoe    Male  \n",
       "7  Adelie    Biscoe    Female\n",
       "8  Gentoo    Biscoe    Female\n",
       "9  Adelie    Dream     Male  \n",
       "10 Adelie    Torgersen Female\n",
       "11 Adelie    Biscoe    Male  \n",
       "12 Gentoo    Biscoe    Male  "
      ]
     },
     "metadata": {},
     "output_type": "display_data"
    }
   ],
   "source": [
    "penguins_subset %>%\n",
    "  select(!where(is.numeric))"
   ]
  },
  {
   "cell_type": "markdown",
   "id": "77f56f89-2ae4-4773-8327-77d4856ed8e7",
   "metadata": {},
   "source": [
    "### Math with mutate()"
   ]
  },
  {
   "cell_type": "code",
   "execution_count": 54,
   "id": "946e106c-2d72-463c-822e-94d2fbc01990",
   "metadata": {},
   "outputs": [
    {
     "data": {
      "text/html": [
       "<table class=\"dataframe\">\n",
       "<caption>A tibble: 12 × 8</caption>\n",
       "<thead>\n",
       "\t<tr><th scope=col>species</th><th scope=col>island</th><th scope=col>bill_length_mm</th><th scope=col>bill_depth_mm</th><th scope=col>flipper_length_mm</th><th scope=col>body_mass_g</th><th scope=col>sex</th><th scope=col>body_weight_pounds</th></tr>\n",
       "\t<tr><th scope=col>&lt;chr&gt;</th><th scope=col>&lt;chr&gt;</th><th scope=col>&lt;dbl&gt;</th><th scope=col>&lt;dbl&gt;</th><th scope=col>&lt;dbl&gt;</th><th scope=col>&lt;dbl&gt;</th><th scope=col>&lt;chr&gt;</th><th scope=col>&lt;dbl&gt;</th></tr>\n",
       "</thead>\n",
       "<tbody>\n",
       "\t<tr><td>Adelie   </td><td>Torgersen</td><td>41.4</td><td>18.5</td><td>202</td><td>3875</td><td>Male  </td><td> 8.542913</td></tr>\n",
       "\t<tr><td>Chinstrap</td><td>Dream    </td><td>50.1</td><td>17.9</td><td>190</td><td>3400</td><td>Female</td><td> 7.495717</td></tr>\n",
       "\t<tr><td>Gentoo   </td><td>Biscoe   </td><td>50.5</td><td>15.9</td><td>222</td><td>5550</td><td>Male  </td><td>12.235656</td></tr>\n",
       "\t<tr><td>Chinstrap</td><td>Dream    </td><td>49.0</td><td>19.6</td><td>212</td><td>4300</td><td>Male  </td><td> 9.479877</td></tr>\n",
       "\t<tr><td>Chinstrap</td><td>Dream    </td><td>43.5</td><td>18.1</td><td>202</td><td>3400</td><td>Female</td><td> 7.495717</td></tr>\n",
       "\t<tr><td>Gentoo   </td><td>Biscoe   </td><td>51.5</td><td>16.3</td><td>230</td><td>5500</td><td>Male  </td><td>12.125424</td></tr>\n",
       "\t<tr><td>Adelie   </td><td>Biscoe   </td><td>40.5</td><td>17.9</td><td>187</td><td>3200</td><td>Female</td><td> 7.054792</td></tr>\n",
       "\t<tr><td>Gentoo   </td><td>Biscoe   </td><td>43.5</td><td>15.2</td><td>213</td><td>4650</td><td>Female</td><td>10.251495</td></tr>\n",
       "\t<tr><td>Adelie   </td><td>Dream    </td><td>36.3</td><td>19.5</td><td>190</td><td>3800</td><td>Male  </td><td> 8.377566</td></tr>\n",
       "\t<tr><td>Adelie   </td><td>Torgersen</td><td>39.0</td><td>17.1</td><td>191</td><td>3050</td><td>Female</td><td> 6.724099</td></tr>\n",
       "\t<tr><td>Adelie   </td><td>Biscoe   </td><td>41.6</td><td>18.0</td><td>192</td><td>3950</td><td>Male  </td><td> 8.708259</td></tr>\n",
       "\t<tr><td>Gentoo   </td><td>Biscoe   </td><td>47.6</td><td>14.5</td><td>215</td><td>5400</td><td>Male  </td><td>11.904962</td></tr>\n",
       "</tbody>\n",
       "</table>\n"
      ],
      "text/latex": [
       "A tibble: 12 × 8\n",
       "\\begin{tabular}{llllllll}\n",
       " species & island & bill\\_length\\_mm & bill\\_depth\\_mm & flipper\\_length\\_mm & body\\_mass\\_g & sex & body\\_weight\\_pounds\\\\\n",
       " <chr> & <chr> & <dbl> & <dbl> & <dbl> & <dbl> & <chr> & <dbl>\\\\\n",
       "\\hline\n",
       "\t Adelie    & Torgersen & 41.4 & 18.5 & 202 & 3875 & Male   &  8.542913\\\\\n",
       "\t Chinstrap & Dream     & 50.1 & 17.9 & 190 & 3400 & Female &  7.495717\\\\\n",
       "\t Gentoo    & Biscoe    & 50.5 & 15.9 & 222 & 5550 & Male   & 12.235656\\\\\n",
       "\t Chinstrap & Dream     & 49.0 & 19.6 & 212 & 4300 & Male   &  9.479877\\\\\n",
       "\t Chinstrap & Dream     & 43.5 & 18.1 & 202 & 3400 & Female &  7.495717\\\\\n",
       "\t Gentoo    & Biscoe    & 51.5 & 16.3 & 230 & 5500 & Male   & 12.125424\\\\\n",
       "\t Adelie    & Biscoe    & 40.5 & 17.9 & 187 & 3200 & Female &  7.054792\\\\\n",
       "\t Gentoo    & Biscoe    & 43.5 & 15.2 & 213 & 4650 & Female & 10.251495\\\\\n",
       "\t Adelie    & Dream     & 36.3 & 19.5 & 190 & 3800 & Male   &  8.377566\\\\\n",
       "\t Adelie    & Torgersen & 39.0 & 17.1 & 191 & 3050 & Female &  6.724099\\\\\n",
       "\t Adelie    & Biscoe    & 41.6 & 18.0 & 192 & 3950 & Male   &  8.708259\\\\\n",
       "\t Gentoo    & Biscoe    & 47.6 & 14.5 & 215 & 5400 & Male   & 11.904962\\\\\n",
       "\\end{tabular}\n"
      ],
      "text/markdown": [
       "\n",
       "A tibble: 12 × 8\n",
       "\n",
       "| species &lt;chr&gt; | island &lt;chr&gt; | bill_length_mm &lt;dbl&gt; | bill_depth_mm &lt;dbl&gt; | flipper_length_mm &lt;dbl&gt; | body_mass_g &lt;dbl&gt; | sex &lt;chr&gt; | body_weight_pounds &lt;dbl&gt; |\n",
       "|---|---|---|---|---|---|---|---|\n",
       "| Adelie    | Torgersen | 41.4 | 18.5 | 202 | 3875 | Male   |  8.542913 |\n",
       "| Chinstrap | Dream     | 50.1 | 17.9 | 190 | 3400 | Female |  7.495717 |\n",
       "| Gentoo    | Biscoe    | 50.5 | 15.9 | 222 | 5550 | Male   | 12.235656 |\n",
       "| Chinstrap | Dream     | 49.0 | 19.6 | 212 | 4300 | Male   |  9.479877 |\n",
       "| Chinstrap | Dream     | 43.5 | 18.1 | 202 | 3400 | Female |  7.495717 |\n",
       "| Gentoo    | Biscoe    | 51.5 | 16.3 | 230 | 5500 | Male   | 12.125424 |\n",
       "| Adelie    | Biscoe    | 40.5 | 17.9 | 187 | 3200 | Female |  7.054792 |\n",
       "| Gentoo    | Biscoe    | 43.5 | 15.2 | 213 | 4650 | Female | 10.251495 |\n",
       "| Adelie    | Dream     | 36.3 | 19.5 | 190 | 3800 | Male   |  8.377566 |\n",
       "| Adelie    | Torgersen | 39.0 | 17.1 | 191 | 3050 | Female |  6.724099 |\n",
       "| Adelie    | Biscoe    | 41.6 | 18.0 | 192 | 3950 | Male   |  8.708259 |\n",
       "| Gentoo    | Biscoe    | 47.6 | 14.5 | 215 | 5400 | Male   | 11.904962 |\n",
       "\n"
      ],
      "text/plain": [
       "   species   island    bill_length_mm bill_depth_mm flipper_length_mm\n",
       "1  Adelie    Torgersen 41.4           18.5          202              \n",
       "2  Chinstrap Dream     50.1           17.9          190              \n",
       "3  Gentoo    Biscoe    50.5           15.9          222              \n",
       "4  Chinstrap Dream     49.0           19.6          212              \n",
       "5  Chinstrap Dream     43.5           18.1          202              \n",
       "6  Gentoo    Biscoe    51.5           16.3          230              \n",
       "7  Adelie    Biscoe    40.5           17.9          187              \n",
       "8  Gentoo    Biscoe    43.5           15.2          213              \n",
       "9  Adelie    Dream     36.3           19.5          190              \n",
       "10 Adelie    Torgersen 39.0           17.1          191              \n",
       "11 Adelie    Biscoe    41.6           18.0          192              \n",
       "12 Gentoo    Biscoe    47.6           14.5          215              \n",
       "   body_mass_g sex    body_weight_pounds\n",
       "1  3875        Male    8.542913         \n",
       "2  3400        Female  7.495717         \n",
       "3  5550        Male   12.235656         \n",
       "4  4300        Male    9.479877         \n",
       "5  3400        Female  7.495717         \n",
       "6  5500        Male   12.125424         \n",
       "7  3200        Female  7.054792         \n",
       "8  4650        Female 10.251495         \n",
       "9  3800        Male    8.377566         \n",
       "10 3050        Female  6.724099         \n",
       "11 3950        Male    8.708259         \n",
       "12 5400        Male   11.904962         "
      ]
     },
     "metadata": {},
     "output_type": "display_data"
    }
   ],
   "source": [
    "penguins_subset %>%\n",
    "  mutate(body_weight_pounds = body_mass_g / 453.59237)"
   ]
  },
  {
   "cell_type": "code",
   "execution_count": 56,
   "id": "4ff6cfea-6f55-44c5-beed-76fc20456e16",
   "metadata": {},
   "outputs": [
    {
     "data": {
      "text/html": [
       "<table class=\"dataframe\">\n",
       "<caption>A tibble: 12 × 8</caption>\n",
       "<thead>\n",
       "\t<tr><th scope=col>species</th><th scope=col>body_mass_g</th><th scope=col>body_weight_pounds</th><th scope=col>island</th><th scope=col>bill_length_mm</th><th scope=col>bill_depth_mm</th><th scope=col>flipper_length_mm</th><th scope=col>sex</th></tr>\n",
       "\t<tr><th scope=col>&lt;chr&gt;</th><th scope=col>&lt;dbl&gt;</th><th scope=col>&lt;dbl&gt;</th><th scope=col>&lt;chr&gt;</th><th scope=col>&lt;dbl&gt;</th><th scope=col>&lt;dbl&gt;</th><th scope=col>&lt;dbl&gt;</th><th scope=col>&lt;chr&gt;</th></tr>\n",
       "</thead>\n",
       "<tbody>\n",
       "\t<tr><td>Adelie   </td><td>3875</td><td> 8.542913</td><td>Torgersen</td><td>41.4</td><td>18.5</td><td>202</td><td>Male  </td></tr>\n",
       "\t<tr><td>Chinstrap</td><td>3400</td><td> 7.495717</td><td>Dream    </td><td>50.1</td><td>17.9</td><td>190</td><td>Female</td></tr>\n",
       "\t<tr><td>Gentoo   </td><td>5550</td><td>12.235656</td><td>Biscoe   </td><td>50.5</td><td>15.9</td><td>222</td><td>Male  </td></tr>\n",
       "\t<tr><td>Chinstrap</td><td>4300</td><td> 9.479877</td><td>Dream    </td><td>49.0</td><td>19.6</td><td>212</td><td>Male  </td></tr>\n",
       "\t<tr><td>Chinstrap</td><td>3400</td><td> 7.495717</td><td>Dream    </td><td>43.5</td><td>18.1</td><td>202</td><td>Female</td></tr>\n",
       "\t<tr><td>Gentoo   </td><td>5500</td><td>12.125424</td><td>Biscoe   </td><td>51.5</td><td>16.3</td><td>230</td><td>Male  </td></tr>\n",
       "\t<tr><td>Adelie   </td><td>3200</td><td> 7.054792</td><td>Biscoe   </td><td>40.5</td><td>17.9</td><td>187</td><td>Female</td></tr>\n",
       "\t<tr><td>Gentoo   </td><td>4650</td><td>10.251495</td><td>Biscoe   </td><td>43.5</td><td>15.2</td><td>213</td><td>Female</td></tr>\n",
       "\t<tr><td>Adelie   </td><td>3800</td><td> 8.377566</td><td>Dream    </td><td>36.3</td><td>19.5</td><td>190</td><td>Male  </td></tr>\n",
       "\t<tr><td>Adelie   </td><td>3050</td><td> 6.724099</td><td>Torgersen</td><td>39.0</td><td>17.1</td><td>191</td><td>Female</td></tr>\n",
       "\t<tr><td>Adelie   </td><td>3950</td><td> 8.708259</td><td>Biscoe   </td><td>41.6</td><td>18.0</td><td>192</td><td>Male  </td></tr>\n",
       "\t<tr><td>Gentoo   </td><td>5400</td><td>11.904962</td><td>Biscoe   </td><td>47.6</td><td>14.5</td><td>215</td><td>Male  </td></tr>\n",
       "</tbody>\n",
       "</table>\n"
      ],
      "text/latex": [
       "A tibble: 12 × 8\n",
       "\\begin{tabular}{llllllll}\n",
       " species & body\\_mass\\_g & body\\_weight\\_pounds & island & bill\\_length\\_mm & bill\\_depth\\_mm & flipper\\_length\\_mm & sex\\\\\n",
       " <chr> & <dbl> & <dbl> & <chr> & <dbl> & <dbl> & <dbl> & <chr>\\\\\n",
       "\\hline\n",
       "\t Adelie    & 3875 &  8.542913 & Torgersen & 41.4 & 18.5 & 202 & Male  \\\\\n",
       "\t Chinstrap & 3400 &  7.495717 & Dream     & 50.1 & 17.9 & 190 & Female\\\\\n",
       "\t Gentoo    & 5550 & 12.235656 & Biscoe    & 50.5 & 15.9 & 222 & Male  \\\\\n",
       "\t Chinstrap & 4300 &  9.479877 & Dream     & 49.0 & 19.6 & 212 & Male  \\\\\n",
       "\t Chinstrap & 3400 &  7.495717 & Dream     & 43.5 & 18.1 & 202 & Female\\\\\n",
       "\t Gentoo    & 5500 & 12.125424 & Biscoe    & 51.5 & 16.3 & 230 & Male  \\\\\n",
       "\t Adelie    & 3200 &  7.054792 & Biscoe    & 40.5 & 17.9 & 187 & Female\\\\\n",
       "\t Gentoo    & 4650 & 10.251495 & Biscoe    & 43.5 & 15.2 & 213 & Female\\\\\n",
       "\t Adelie    & 3800 &  8.377566 & Dream     & 36.3 & 19.5 & 190 & Male  \\\\\n",
       "\t Adelie    & 3050 &  6.724099 & Torgersen & 39.0 & 17.1 & 191 & Female\\\\\n",
       "\t Adelie    & 3950 &  8.708259 & Biscoe    & 41.6 & 18.0 & 192 & Male  \\\\\n",
       "\t Gentoo    & 5400 & 11.904962 & Biscoe    & 47.6 & 14.5 & 215 & Male  \\\\\n",
       "\\end{tabular}\n"
      ],
      "text/markdown": [
       "\n",
       "A tibble: 12 × 8\n",
       "\n",
       "| species &lt;chr&gt; | body_mass_g &lt;dbl&gt; | body_weight_pounds &lt;dbl&gt; | island &lt;chr&gt; | bill_length_mm &lt;dbl&gt; | bill_depth_mm &lt;dbl&gt; | flipper_length_mm &lt;dbl&gt; | sex &lt;chr&gt; |\n",
       "|---|---|---|---|---|---|---|---|\n",
       "| Adelie    | 3875 |  8.542913 | Torgersen | 41.4 | 18.5 | 202 | Male   |\n",
       "| Chinstrap | 3400 |  7.495717 | Dream     | 50.1 | 17.9 | 190 | Female |\n",
       "| Gentoo    | 5550 | 12.235656 | Biscoe    | 50.5 | 15.9 | 222 | Male   |\n",
       "| Chinstrap | 4300 |  9.479877 | Dream     | 49.0 | 19.6 | 212 | Male   |\n",
       "| Chinstrap | 3400 |  7.495717 | Dream     | 43.5 | 18.1 | 202 | Female |\n",
       "| Gentoo    | 5500 | 12.125424 | Biscoe    | 51.5 | 16.3 | 230 | Male   |\n",
       "| Adelie    | 3200 |  7.054792 | Biscoe    | 40.5 | 17.9 | 187 | Female |\n",
       "| Gentoo    | 4650 | 10.251495 | Biscoe    | 43.5 | 15.2 | 213 | Female |\n",
       "| Adelie    | 3800 |  8.377566 | Dream     | 36.3 | 19.5 | 190 | Male   |\n",
       "| Adelie    | 3050 |  6.724099 | Torgersen | 39.0 | 17.1 | 191 | Female |\n",
       "| Adelie    | 3950 |  8.708259 | Biscoe    | 41.6 | 18.0 | 192 | Male   |\n",
       "| Gentoo    | 5400 | 11.904962 | Biscoe    | 47.6 | 14.5 | 215 | Male   |\n",
       "\n"
      ],
      "text/plain": [
       "   species   body_mass_g body_weight_pounds island    bill_length_mm\n",
       "1  Adelie    3875         8.542913          Torgersen 41.4          \n",
       "2  Chinstrap 3400         7.495717          Dream     50.1          \n",
       "3  Gentoo    5550        12.235656          Biscoe    50.5          \n",
       "4  Chinstrap 4300         9.479877          Dream     49.0          \n",
       "5  Chinstrap 3400         7.495717          Dream     43.5          \n",
       "6  Gentoo    5500        12.125424          Biscoe    51.5          \n",
       "7  Adelie    3200         7.054792          Biscoe    40.5          \n",
       "8  Gentoo    4650        10.251495          Biscoe    43.5          \n",
       "9  Adelie    3800         8.377566          Dream     36.3          \n",
       "10 Adelie    3050         6.724099          Torgersen 39.0          \n",
       "11 Adelie    3950         8.708259          Biscoe    41.6          \n",
       "12 Gentoo    5400        11.904962          Biscoe    47.6          \n",
       "   bill_depth_mm flipper_length_mm sex   \n",
       "1  18.5          202               Male  \n",
       "2  17.9          190               Female\n",
       "3  15.9          222               Male  \n",
       "4  19.6          212               Male  \n",
       "5  18.1          202               Female\n",
       "6  16.3          230               Male  \n",
       "7  17.9          187               Female\n",
       "8  15.2          213               Female\n",
       "9  19.5          190               Male  \n",
       "10 17.1          191               Female\n",
       "11 18.0          192               Male  \n",
       "12 14.5          215               Male  "
      ]
     },
     "metadata": {},
     "output_type": "display_data"
    }
   ],
   "source": [
    "penguins_subset %>%\n",
    "  mutate(body_weight_pounds = body_mass_g / 453.59237) %>%\n",
    "  select(species, body_mass_g, body_weight_pounds, everything())"
   ]
  },
  {
   "cell_type": "code",
   "execution_count": 61,
   "id": "10d0aeac-ea21-4584-b1ca-3077b09db6f2",
   "metadata": {},
   "outputs": [
    {
     "data": {
      "text/html": [
       "<table class=\"dataframe\">\n",
       "<caption>A tibble: 1 × 1</caption>\n",
       "<thead>\n",
       "\t<tr><th scope=col>avg</th></tr>\n",
       "\t<tr><th scope=col>&lt;dbl&gt;</th></tr>\n",
       "</thead>\n",
       "<tbody>\n",
       "\t<tr><td>4172.917</td></tr>\n",
       "</tbody>\n",
       "</table>\n"
      ],
      "text/latex": [
       "A tibble: 1 × 1\n",
       "\\begin{tabular}{l}\n",
       " avg\\\\\n",
       " <dbl>\\\\\n",
       "\\hline\n",
       "\t 4172.917\\\\\n",
       "\\end{tabular}\n"
      ],
      "text/markdown": [
       "\n",
       "A tibble: 1 × 1\n",
       "\n",
       "| avg &lt;dbl&gt; |\n",
       "|---|\n",
       "| 4172.917 |\n",
       "\n"
      ],
      "text/plain": [
       "  avg     \n",
       "1 4172.917"
      ]
     },
     "metadata": {},
     "output_type": "display_data"
    }
   ],
   "source": [
    "penguins_subset %>%\n",
    "    summarise(avg=mean(body_mass_g))"
   ]
  },
  {
   "cell_type": "code",
   "execution_count": 62,
   "id": "acbe4683-7e02-466c-96c4-1cb5b63cb3ab",
   "metadata": {},
   "outputs": [
    {
     "data": {
      "text/html": [
       "<table class=\"dataframe\">\n",
       "<caption>A tibble: 1 × 1</caption>\n",
       "<thead>\n",
       "\t<tr><th scope=col>avg_body_mass</th></tr>\n",
       "\t<tr><th scope=col>&lt;dbl&gt;</th></tr>\n",
       "</thead>\n",
       "<tbody>\n",
       "\t<tr><td>NA</td></tr>\n",
       "</tbody>\n",
       "</table>\n"
      ],
      "text/latex": [
       "A tibble: 1 × 1\n",
       "\\begin{tabular}{l}\n",
       " avg\\_body\\_mass\\\\\n",
       " <dbl>\\\\\n",
       "\\hline\n",
       "\t NA\\\\\n",
       "\\end{tabular}\n"
      ],
      "text/markdown": [
       "\n",
       "A tibble: 1 × 1\n",
       "\n",
       "| avg_body_mass &lt;dbl&gt; |\n",
       "|---|\n",
       "| NA |\n",
       "\n"
      ],
      "text/plain": [
       "  avg_body_mass\n",
       "1 NA           "
      ]
     },
     "metadata": {},
     "output_type": "display_data"
    }
   ],
   "source": [
    "penguins %>%\n",
    "  summarise(avg_body_mass = mean(body_mass_g))"
   ]
  },
  {
   "cell_type": "code",
   "execution_count": 64,
   "id": "9e976436-cf2c-4de0-a9bb-2fa267ae2208",
   "metadata": {},
   "outputs": [
    {
     "data": {
      "text/html": [
       "<table class=\"dataframe\">\n",
       "<caption>A tibble: 1 × 1</caption>\n",
       "<thead>\n",
       "\t<tr><th scope=col>avg_body_mass</th></tr>\n",
       "\t<tr><th scope=col>&lt;dbl&gt;</th></tr>\n",
       "</thead>\n",
       "<tbody>\n",
       "\t<tr><td>4201.754</td></tr>\n",
       "</tbody>\n",
       "</table>\n"
      ],
      "text/latex": [
       "A tibble: 1 × 1\n",
       "\\begin{tabular}{l}\n",
       " avg\\_body\\_mass\\\\\n",
       " <dbl>\\\\\n",
       "\\hline\n",
       "\t 4201.754\\\\\n",
       "\\end{tabular}\n"
      ],
      "text/markdown": [
       "\n",
       "A tibble: 1 × 1\n",
       "\n",
       "| avg_body_mass &lt;dbl&gt; |\n",
       "|---|\n",
       "| 4201.754 |\n",
       "\n"
      ],
      "text/plain": [
       "  avg_body_mass\n",
       "1 4201.754     "
      ]
     },
     "metadata": {},
     "output_type": "display_data"
    }
   ],
   "source": [
    "penguins %>%\n",
    "  summarise(avg_body_mass = mean(body_mass_g, na.rm = TRUE))"
   ]
  },
  {
   "cell_type": "code",
   "execution_count": 68,
   "id": "dd0205a1-78b5-4bbe-89fc-5f0c656bc6be",
   "metadata": {},
   "outputs": [
    {
     "data": {
      "text/html": [
       "<table class=\"dataframe\">\n",
       "<caption>A tibble: 3 × 2</caption>\n",
       "<thead>\n",
       "\t<tr><th scope=col>species</th><th scope=col>avg_species_body_mass</th></tr>\n",
       "\t<tr><th scope=col>&lt;chr&gt;</th><th scope=col>&lt;dbl&gt;</th></tr>\n",
       "</thead>\n",
       "<tbody>\n",
       "\t<tr><td>Adelie   </td><td>3575</td></tr>\n",
       "\t<tr><td>Chinstrap</td><td>3700</td></tr>\n",
       "\t<tr><td>Gentoo   </td><td>5275</td></tr>\n",
       "</tbody>\n",
       "</table>\n"
      ],
      "text/latex": [
       "A tibble: 3 × 2\n",
       "\\begin{tabular}{ll}\n",
       " species & avg\\_species\\_body\\_mass\\\\\n",
       " <chr> & <dbl>\\\\\n",
       "\\hline\n",
       "\t Adelie    & 3575\\\\\n",
       "\t Chinstrap & 3700\\\\\n",
       "\t Gentoo    & 5275\\\\\n",
       "\\end{tabular}\n"
      ],
      "text/markdown": [
       "\n",
       "A tibble: 3 × 2\n",
       "\n",
       "| species &lt;chr&gt; | avg_species_body_mass &lt;dbl&gt; |\n",
       "|---|---|\n",
       "| Adelie    | 3575 |\n",
       "| Chinstrap | 3700 |\n",
       "| Gentoo    | 5275 |\n",
       "\n"
      ],
      "text/plain": [
       "  species   avg_species_body_mass\n",
       "1 Adelie    3575                 \n",
       "2 Chinstrap 3700                 \n",
       "3 Gentoo    5275                 "
      ]
     },
     "metadata": {},
     "output_type": "display_data"
    }
   ],
   "source": [
    "penguins_subset %>%\n",
    "    group_by(species) %>%\n",
    "    summarise(avg_species_body_mass = mean(body_mass_g, na.rm=TRUE))"
   ]
  },
  {
   "cell_type": "code",
   "execution_count": 69,
   "id": "daec7a53-c439-4ce5-81b7-e7f61a1f5cc7",
   "metadata": {},
   "outputs": [
    {
     "name": "stderr",
     "output_type": "stream",
     "text": [
      "\u001b[1m\u001b[22m`summarise()` has grouped output by 'species'. You can override using the\n",
      "`.groups` argument.\n"
     ]
    },
    {
     "data": {
      "text/html": [
       "<table class=\"dataframe\">\n",
       "<caption>A grouped_df: 5 × 3</caption>\n",
       "<thead>\n",
       "\t<tr><th scope=col>species</th><th scope=col>island</th><th scope=col>avg_species_body_mass</th></tr>\n",
       "\t<tr><th scope=col>&lt;chr&gt;</th><th scope=col>&lt;chr&gt;</th><th scope=col>&lt;dbl&gt;</th></tr>\n",
       "</thead>\n",
       "<tbody>\n",
       "\t<tr><td>Adelie   </td><td>Biscoe   </td><td>3709.659</td></tr>\n",
       "\t<tr><td>Adelie   </td><td>Dream    </td><td>3688.393</td></tr>\n",
       "\t<tr><td>Adelie   </td><td>Torgersen</td><td>3706.373</td></tr>\n",
       "\t<tr><td>Chinstrap</td><td>Dream    </td><td>3733.088</td></tr>\n",
       "\t<tr><td>Gentoo   </td><td>Biscoe   </td><td>5076.016</td></tr>\n",
       "</tbody>\n",
       "</table>\n"
      ],
      "text/latex": [
       "A grouped\\_df: 5 × 3\n",
       "\\begin{tabular}{lll}\n",
       " species & island & avg\\_species\\_body\\_mass\\\\\n",
       " <chr> & <chr> & <dbl>\\\\\n",
       "\\hline\n",
       "\t Adelie    & Biscoe    & 3709.659\\\\\n",
       "\t Adelie    & Dream     & 3688.393\\\\\n",
       "\t Adelie    & Torgersen & 3706.373\\\\\n",
       "\t Chinstrap & Dream     & 3733.088\\\\\n",
       "\t Gentoo    & Biscoe    & 5076.016\\\\\n",
       "\\end{tabular}\n"
      ],
      "text/markdown": [
       "\n",
       "A grouped_df: 5 × 3\n",
       "\n",
       "| species &lt;chr&gt; | island &lt;chr&gt; | avg_species_body_mass &lt;dbl&gt; |\n",
       "|---|---|---|\n",
       "| Adelie    | Biscoe    | 3709.659 |\n",
       "| Adelie    | Dream     | 3688.393 |\n",
       "| Adelie    | Torgersen | 3706.373 |\n",
       "| Chinstrap | Dream     | 3733.088 |\n",
       "| Gentoo    | Biscoe    | 5076.016 |\n",
       "\n"
      ],
      "text/plain": [
       "  species   island    avg_species_body_mass\n",
       "1 Adelie    Biscoe    3709.659             \n",
       "2 Adelie    Dream     3688.393             \n",
       "3 Adelie    Torgersen 3706.373             \n",
       "4 Chinstrap Dream     3733.088             \n",
       "5 Gentoo    Biscoe    5076.016             "
      ]
     },
     "metadata": {},
     "output_type": "display_data"
    }
   ],
   "source": [
    "penguins %>%\n",
    "  group_by(species, island) %>%\n",
    "  summarise(avg_species_body_mass = mean(body_mass_g, na.rm = TRUE))"
   ]
  }
 ],
 "metadata": {
  "kernelspec": {
   "display_name": "R",
   "language": "R",
   "name": "ir"
  },
  "language_info": {
   "codemirror_mode": "r",
   "file_extension": ".r",
   "mimetype": "text/x-r-source",
   "name": "R",
   "pygments_lexer": "r",
   "version": "4.1.3"
  }
 },
 "nbformat": 4,
 "nbformat_minor": 5
}
