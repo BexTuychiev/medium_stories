{
 "cells": [
  {
   "cell_type": "code",
   "execution_count": 1,
   "id": "33ba7bef-7b37-49cc-9deb-d83a8b8fa0ee",
   "metadata": {},
   "outputs": [],
   "source": [
    "import pandas as pd"
   ]
  },
  {
   "cell_type": "code",
   "execution_count": 4,
   "id": "639050ab-0574-4b90-bc08-f4a5938e89ef",
   "metadata": {},
   "outputs": [],
   "source": [
    "df = pd.DataFrame({\n",
    "    \"listing_id\": [1, 2, 3],\n",
    "    \"city\": [\"Paris\", \"Tokyo\", \"New York\"],\n",
    "    \"country\": [\"France\", \"Japan\", \"USA\"],\n",
    "    \"number_of_rooms\": [5, 2, 2],\n",
    "    \"year_listed\": [2018, 2017, 2022]\n",
    "})\n",
    "\n",
    "df.to_csv(\"data/listings.csv\", index=False)"
   ]
  },
  {
   "cell_type": "code",
   "execution_count": 7,
   "id": "507b3073-6cbb-4451-870e-07e9a3e47d6c",
   "metadata": {},
   "outputs": [],
   "source": [
    "host = pd.DataFrame({\n",
    "    \"host_id\": [1, 2, 3],\n",
    "    \"name\": [\"Jen Bricker\", \"Richie Cotton\", \"Raven Todd Dasliva\"],\n",
    "    \"listing_id\": [1, 2, 3],\n",
    "    \"number_of_reviews\": [34, 12, 55]\n",
    "})\n",
    "\n",
    "host.to_csv(\"data/host.csv\", index=False)"
   ]
  },
  {
   "cell_type": "code",
   "execution_count": 5,
   "id": "28142b76-d453-4e46-b41c-093bddd072c1",
   "metadata": {},
   "outputs": [],
   "source": [
    "import seaborn as sns\n",
    "\n",
    "sns.load_dataset(\"penguins\").to_csv(\"data/penguins.csv\", index=False)"
   ]
  }
 ],
 "metadata": {
  "kernelspec": {
   "display_name": "articles",
   "language": "python",
   "name": "articles"
  },
  "language_info": {
   "codemirror_mode": {
    "name": "ipython",
    "version": 3
   },
   "file_extension": ".py",
   "mimetype": "text/x-python",
   "name": "python",
   "nbconvert_exporter": "python",
   "pygments_lexer": "ipython3",
   "version": "3.9.12"
  }
 },
 "nbformat": 4,
 "nbformat_minor": 5
}
