{
 "cells": [
  {
   "cell_type": "code",
   "execution_count": 1,
   "id": "33ba7bef-7b37-49cc-9deb-d83a8b8fa0ee",
   "metadata": {},
   "outputs": [],
   "source": [
    "import pandas as pd"
   ]
  },
  {
   "cell_type": "code",
   "execution_count": 4,
   "id": "639050ab-0574-4b90-bc08-f4a5938e89ef",
   "metadata": {},
   "outputs": [],
   "source": [
    "df = pd.DataFrame({\n",
    "    \"listing_id\": [1, 2, 3],\n",
    "    \"city\": [\"Paris\", \"Tokyo\", \"New York\"],\n",
    "    \"country\": [\"France\", \"Japan\", \"USA\"],\n",
    "    \"number_of_rooms\": [5, 2, 2],\n",
    "    \"year_listed\": [2018, 2017, 2022]\n",
    "})\n",
    "\n",
    "df.to_csv(\"data/listings.csv\", index=False)"
   ]
  }
 ],
 "metadata": {
  "kernelspec": {
   "display_name": "articles",
   "language": "python",
   "name": "articles"
  },
  "language_info": {
   "codemirror_mode": {
    "name": "ipython",
    "version": 3
   },
   "file_extension": ".py",
   "mimetype": "text/x-python",
   "name": "python",
   "nbconvert_exporter": "python",
   "pygments_lexer": "ipython3",
   "version": "3.9.12"
  }
 },
 "nbformat": 4,
 "nbformat_minor": 5
}
