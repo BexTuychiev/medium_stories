{
 "cells": [
  {
   "cell_type": "code",
   "execution_count": 3,
   "id": "b7f974df-51ee-42cb-af56-e4fae36432c3",
   "metadata": {},
   "outputs": [],
   "source": [
    "import seaborn as sns\n",
    "\n",
    "diamonds = sns.load_dataset(\"diamonds\").sample(10000)"
   ]
  },
  {
   "cell_type": "code",
   "execution_count": 4,
   "id": "e1f35fb5-5e59-4002-9c46-fc55d543d743",
   "metadata": {},
   "outputs": [],
   "source": [
    "diamonds.to_csv(\"data/diamonds.csv\", index=False)"
   ]
  }
 ],
 "metadata": {
  "kernelspec": {
   "display_name": "articles",
   "language": "python",
   "name": "articles"
  },
  "language_info": {
   "codemirror_mode": {
    "name": "ipython",
    "version": 3
   },
   "file_extension": ".py",
   "mimetype": "text/x-python",
   "name": "python",
   "nbconvert_exporter": "python",
   "pygments_lexer": "ipython3",
   "version": "3.9.12"
  }
 },
 "nbformat": 4,
 "nbformat_minor": 5
}
