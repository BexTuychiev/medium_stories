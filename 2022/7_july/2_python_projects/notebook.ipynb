{
 "cells": [
  {
   "cell_type": "markdown",
   "id": "7f09a321-127b-4d8d-b91a-f68eea075cb1",
   "metadata": {},
   "source": [
    "# A Giant List of Python Data Science Projects (60+) For All Levels of Expertise"
   ]
  },
  {
   "cell_type": "markdown",
   "id": "83cba409-2415-4097-8fe0-c6e158f04b7f",
   "metadata": {},
   "source": [
    "## Introduction"
   ]
  },
  {
   "cell_type": "markdown",
   "id": "3e4abf23-46c7-4dac-b2f2-7521c2b7a4e4",
   "metadata": {},
   "source": [
    "## Before You Start on Python Projects\n"
   ]
  },
  {
   "cell_type": "markdown",
   "id": "b9852020-57a7-48dc-8070-571e4432a55b",
   "metadata": {},
   "source": [
    "## Beginner Python Projects"
   ]
  },
  {
   "cell_type": "markdown",
   "id": "80ab2f39-63f4-4b61-9ba2-2c392f41df1a",
   "metadata": {},
   "source": [
    "#### 1. Diamond prices EDA\n",
    "Diamonds are divided into five impurity types based on the structure of their carbon atoms. The Diamonds dataset from Kaggle gives you even more info - cut, clarity, color and price. Develop your dataviz skills on it!\n",
    "\n",
    "Links: [dataset](https://www.kaggle.com/shivam2503/diamonds), [starter notebook](https://www.kaggle.com/fuzzywizard/diamonds-in-depth-analysishttps://www.kaggle.com/fuzzywizard/diamonds-in-depth-analysis)"
   ]
  },
  {
   "cell_type": "markdown",
   "id": "3eaff1f0-aa9e-4650-b5b4-62345e0af626",
   "metadata": {},
   "source": [
    "#### 2. Age of Abalone shells EDA\n",
    "\n",
    "This is a unique dataset from zoology. Abalone shells are miracles of the nature and you can determine their age by counting the circles inside their shells or you can use this dataset.\n",
    "\n",
    "Links: [dataset](https://www.kaggle.com/rodolfomendes/abalone-dataset), [starter notebook](https://www.kaggle.com/ragnisah/eda-abalone-age-prediction)"
   ]
  },
  {
   "cell_type": "markdown",
   "id": "6266462c-12ba-4c21-b99e-33b372ade0fd",
   "metadata": {},
   "source": [
    "#### 3. Smart Grid stability prediction\n",
    "A unique dataset where you can predict the stability of power grid networks.\n",
    "\n",
    "Links: [dataset](https://www.kaggle.com/pcbreviglieri/smart-grid-stability), [starter notebook](https://www.kaggle.com/pcbreviglieri/predicting-smart-grid-stability-with-deep-learning)"
   ]
  },
  {
   "cell_type": "markdown",
   "id": "9b779ccc-ce47-44f0-8754-2144e4d2fe2b",
   "metadata": {},
   "source": [
    "#### 4. Adult income prediction\n",
    "Analyze a dataset of high-dimensionality and of considerable size to predict whether an adult will earn more than 50000\\$ or not in the future.\n",
    "\n",
    "Links: [dataset](https://www.kaggle.com/wenruliu/adult-income-dataset), [starter notebook](https://www.kaggle.com/alokevil/simple-eda-for-beginners)"
   ]
  },
  {
   "cell_type": "markdown",
   "id": "8a7d05b1-afc3-433b-875e-a38900255b55",
   "metadata": {},
   "source": [
    "#### 5. Stock prices prediction\n",
    "Do you want to find out the reason behind 100% spike of Tesla's stocks two years ago? If yes, the 2010-2020 Tesla stocks dataset will be the first place to start.\n",
    "\n",
    "Links: [dataset](https://www.kaggle.com/datasets/timoboz/tesla-stock-data-from-2010-to-2020), [starter notebook](https://www.kaggle.com/code/yclaudel/could-we-ve-predicted-the-spike-of-tesla-s-stock)"
   ]
  },
  {
   "cell_type": "markdown",
   "id": "8002fd86-62f9-4880-b471-13dc2cc6097c",
   "metadata": {},
   "source": [
    "#### 6. Medical insurance costs regression\n",
    "Governments spend billions on healthcare insurance costs every year. The task here is to estimate individual costs based on patient data.\n",
    "\n",
    "\n",
    "Links: [dataset](https://www.kaggle.com/datasets/mirichoi0218/insurance), [starter notebook](https://www.kaggle.com/code/hely333/eda-regression)"
   ]
  },
  {
   "cell_type": "markdown",
   "id": "2f71066f-1740-4997-8459-5ce1d0a86256",
   "metadata": {},
   "source": [
    "#### 7. Retail sales forecasting\n",
    "Using the Superstore sales dataset, predict the next 7 days' sales in this time series challenge.\n",
    "\n",
    "Links: [dataset](https://www.kaggle.com/datasets/rohitsahoo/sales-forecasting), [starter notebook](https://www.kaggle.com/code/samruddhim/part-1-exploratory-data-analysis)"
   ]
  },
  {
   "cell_type": "markdown",
   "id": "5abf0dcb-e6d1-4175-8a41-a8573ceb5170",
   "metadata": {},
   "source": [
    "#### 8. King county house sales prediction\n",
    "If you are into real estate, this is a good dataset to play around with house prices and predict them using house specs in King county.\n",
    "\n",
    "Links: [dataset](https://www.kaggle.com/harlfoxem/housesalesprediction), [starter notebook](https://www.kaggle.com/burhanykiyakoglu/predicting-house-prices)\n",
    "\n",
    "#### 9. Multi-class classification challenge Kaggle\n",
    "Kaggle's TPS May 2021 playground competition offers a 100k row dataset with almost 100 features. Your task is to predict the target, which is multi-class.\n",
    "\n",
    "Links: [dataset](https://www.kaggle.com/competitions/tabular-playground-series-may-2021/data), [starter notebook](https://www.kaggle.com/subinium/tps-may-categorical-eda)\n",
    "\n",
    "#### 10. Diamonds color classification\n",
    "The diamond's dataset. Again. But this time, try out your multi-class classification skills to predict the color of diamonds based on other physical measurements.\n",
    "\n",
    "Links: [dataset](https://www.kaggle.com/shivam2503/diamonds), [starter notebook](https://www.kaggle.com/fuzzywizard/diamonds-in-depth-analysishttps://www.kaggle.com/fuzzywizard/diamonds-in-depth-analysis)"
   ]
  },
  {
   "cell_type": "markdown",
   "id": "593c9318-c5af-46e0-a748-3facd5ed7b55",
   "metadata": {},
   "source": [
    "## Intermediate Python Projects\n",
    "\n",
    "\n",
    "#### 1. Music genre classification\n",
    "Are you a genuine music lover? Then, you will greatly enjoy predicting music genres using the GTZAN dataset. \n",
    "\n",
    "Links: [dataset](https://www.kaggle.com/datasets/andradaolteanu/gtzan-dataset-music-genre-classification), [starter notebook](https://www.kaggle.com/code/andradaolteanu/work-w-audio-data-visualise-classify-recommend)\n",
    "\n",
    "#### 2. Uber pickups in New York - EDA\n",
    "Datasets with geolocations are always fun to analyze. This dataset of more than 20 million fares in the New York city is no exception.\n",
    "\n",
    "Links: [dataset](https://www.kaggle.com/datasets/fivethirtyeight/uber-pickups-in-new-york-city), [starter notebook](https://www.kaggle.com/code/dotman/data-exploration-and-visualization)\n",
    "\n",
    "#### 3. Handwritten character recognition\n",
    "MNIST digits recognition is a deep learning cliché. However, this challenge is different where you predict English handwritten letters. \n",
    "\n",
    "Links: [dataset](https://www.kaggle.com/datasets/sachinpatel21/az-handwritten-alphabets-in-csv-format)\n",
    "\n",
    "#### 4. Credit card fraud detection\n",
    "Credit card fraud is always a challenge - mainly because there will be severe class imbalance in the data. See if you can get around that.\n",
    "\n",
    "Links: [dataset](https://www.kaggle.com/datasets/mlg-ulb/creditcardfraud?select=creditcard.csv), [starter notebook](https://www.kaggle.com/code/janiobachmann/credit-fraud-dealing-with-imbalanced-datasets)\n",
    "\n",
    "#### 5. Sign language recognition \n",
    "Another version of MNIST but of American Sign Language letters. This should be more of a challenge since you have to predict for more than 25 classes.\n",
    "\n",
    "Links: [dataset](https://www.kaggle.com/datasets/datamunge/sign-language-mnist), [starter notebook](https://www.kaggle.com/code/madz2000/cnn-using-keras-100-accuracy)\n",
    "\n",
    "#### 6. Customer segmentation or market basket analysis\n",
    "One of the main purposes of sales or e-commerce data is to perform customer segmentation to find unknown customer groups. Get ready for your first unsupervised learning challenge.\n",
    "\n",
    "Links: [dataset](https://www.kaggle.com/datasets/carrie1/ecommerce-data), [starter notebook](https://www.kaggle.com/code/fabiendaniel/customer-segmentation)\n",
    "\n",
    "#### 7. Face detection in images\n",
    "Ever wonder how your iPhone puts little boxes around your face? That's because it performs face detection under the hood. You can create a similar functionality using this small dataset of annotated images with faces.\n",
    "\n",
    "Links: [dataset](https://www.kaggle.com/datasets/dataturks/face-detection-in-images)\n",
    "\n",
    "#### 8. Blur faces in images\n",
    "This project would be continuation of the last. See if you can blur the found faces to preserve their anonimity.\n",
    "\n",
    "#### 9. Image segmentation\n",
    "Create contours and masks to isolate individual objects in images!\n",
    "\n",
    "Links: [dataset](https://www.kaggle.com/competitions/open-images-2019-instance-segmentation/data)\n",
    "\n",
    "#### 10. Gender and age detection\n",
    "Using the UTKFace dataset, see if you can predict gender and age of a person by just looking at a person's image.\n",
    "\n",
    "Links: [dataset](https://www.kaggle.com/datasets/jangedoo/utkface-new)"
   ]
  },
  {
   "cell_type": "markdown",
   "id": "ef62dc4a-3a07-487e-87e4-a80bea798b87",
   "metadata": {
    "jp-MarkdownHeadingCollapsed": true,
    "tags": []
   },
   "source": [
    "## Advanced Python Project Ideas\n",
    "#### 1. Movie recommendation\n",
    "In this project, you can take a peek at how movie recommendation systems of platforms like Netflix and Disney and try to replicate that. \n",
    "\n",
    "Links: [dataset](https://www.kaggle.com/datasets/rounakbanik/the-movies-dataset), [starter notebook](https://www.kaggle.com/code/ibtesama/getting-started-with-a-movie-recommendation-system)\n",
    "\n",
    "#### 2. Image captions generation\n",
    "People caption their images on social media all the time. See if you can let your computer do the job using the Flickr 8k dataset.\n",
    "\n",
    "Links: [dataset](https://www.kaggle.com/datasets/adityajn105/flickr8k), [starter notebook](https://www.kaggle.com/code/mdteach/image-captioning-with-attention-pytorch)\n",
    "\n",
    "#### 3. Traffic signs recognition\n",
    "Build a computer vision model that can identify road signs. Maybe you can use it for fun the next time you are in a traffic jam.\n",
    "\n",
    "Links: [dataset](https://www.kaggle.com/datasets/meowmeowmeowmeowmeow/gtsrb-german-traffic-sign), [starter notebook](https://www.kaggle.com/code/shivank856/gtsrb-cnn-98-test-accuracy)\n",
    "\n",
    "#### 4. Automatic license number plate recognition\n",
    "Another fun traffic project - this time, create a model to read license plates.\n",
    "\n",
    "Links: [GitHub project](https://github.com/winter2897/Real-time-Auto-License-Plate-Recognition-with-Jetson-Nano)\n",
    "\n",
    "#### 5. Harry Potter's invisibility cloak with OpenCV\n",
    "I am not ashamed to admit that Harry Potter books are one of my favorites. The defining component of their plot is Harry's invisibility cloak. See if you can create your own cloak, at least in code.\n",
    "\n",
    "Links: [GitHub project](https://github.com/Gaurav-chatterjee/Harry-potter-Invisible-Cloak)\n",
    "\n",
    "#### 6. Human counting in images\n",
    "Counting people is supposedly easier than counting starts. But I don't know, maybe you try it with the Shanghai Tech dataset. \n",
    "\n",
    "Links: [dataset](https://paperswithcode.com/dataset/shanghaitech)\n",
    "\n",
    "#### 7. Face recognition\n",
    "In this project, you are given a massive dataset of 32k images of more than 350k people in them. Your task is to build face detection and recognition model.\n",
    "\n",
    "Links: [dataset](https://paperswithcode.com/dataset/wider-face-1)\n",
    "\n",
    "#### 8. Vehicle counting and recognition\n",
    "Another counting challenge for you - but this time you count moving vehicles.\n",
    "\n",
    "#### 9. Movie genre classification with multi-label output\n",
    "Using the movie recommendation dataset given earlier, see if you can predict movie genres. The catch here is that you have to predict multiple genres for a single movie, making this a multi-label classification.\n",
    "\n",
    "#### 10. Facial keypoint detection\n",
    "What makes a face a face? Or what are the key features of a face? Answer these questions using computer vision!\n",
    "Links: [project instructions on GitHub](https://github.com/udacity/P1_Facial_Keypoints)"
   ]
  },
  {
   "cell_type": "markdown",
   "id": "90a0344c-cf32-418d-8b2a-7c98a8774e2a",
   "metadata": {
    "jp-MarkdownHeadingCollapsed": true,
    "tags": []
   },
   "source": [
    "## Fun Python Projects to Build Your Python Skills\n",
    "\n",
    "#### 1. Spooky author identification\n",
    "Classify the works of mystery writers. Find out if an excerpt belongs to either Edgar Allen Poe, HP Lovecraft or Mary Shelley. \n",
    "\n",
    "Links: [dataset](https://www.kaggle.com/competitions/spooky-author-identification/data), [starter notebook](https://www.kaggle.com/code/rtatman/beginner-s-tutorial-python)\n",
    "\n",
    "#### 2. Mushroom classification\n",
    "I have never eaten a mushroom in my life (I think). But I would be able to classify them into edible and poisonous using this dataset.\n",
    "\n",
    "Links: [dataset](https://www.kaggle.com/datasets/uciml/mushroom-classification), [starter notebook](https://www.kaggle.com/code/nirajvermafcb/comparing-various-ml-models-roc-curve-comparison)\n",
    "\n",
    "#### 3. Movie rating and revenue prediction\n",
    "Are you excited for an upcoming movie? Try to build a supervised model to predict its rating and revenue using past 5000 movies.\n",
    "\n",
    "Links: [dataset](https://www.kaggle.com/datasets/tmdb/tmdb-movie-metadata)\n",
    "\n",
    "#### 4. Song popularity prediction\n",
    "In this great dataset of songs since the 50s, you can predict a song's popularity score based on a number of attributes.\n",
    "\n",
    "Links: [dataset](https://www.kaggle.com/datasets/cnic92/spotify-past-decades-songs-50s10s)\n",
    "\n",
    "#### 5. Facial expressions classification\n",
    "Is your friend happy, sad, angry or disgusted? Use deep learning models to find that out using a dataset of more than 30k faces. Sheldon Cooper would have killed for this type of model.\n",
    "\n",
    "Links: [dataset](https://www.kaggle.com/datasets/msambare/fer2013)\n",
    "\n",
    "#### 6. Video game sales prediction\n",
    "Are you waiting for an upcoming game from Activision or EA? Try predicting how much it would sell using the data from 16k past video games.\n",
    "\n",
    "Links: [dataset](https://www.kaggle.com/datasets/gregorut/videogamesales), [starter notebook](https://www.kaggle.com/code/upadorprofzs/eda-video-game-sales)\n",
    "\n",
    "#### 7. Myers-Briggs (MBTI) personality type prediction\n",
    "There are 16 personality types according to MBTI indicator. Instead of Googling it, try to find out your personality using the dataset below.\n",
    "\n",
    "Links: [dataset](https://www.kaggle.com/datasets/datasnaek/mbti-type), [starter notebook](https://www.kaggle.com/code/laowingkin/mbti-study-personality)\n",
    "\n",
    "#### 8. Speech emotion recognition dataset\n",
    "Another project that would benefit Sheldon Cooper greatly - a model that detects human emotion based on their speech.\n",
    "\n",
    "Links: [dataset](https://drive.google.com/file/d/1wWsrN2Ep7x6lWqOXfr4rpKGYrJhWc8z7/view), [project workthrough](https://data-flair.training/blogs/python-mini-project-speech-emotion-recognition/)\n",
    "\n",
    "#### 9. Global fishing watch - detecting illegal fishing\n",
    "If you want to preserve the environment join the movement by helping spot illegal fishing using the dataset from Global Fishing Watch platform.\n",
    "\n",
    "Links: [datasets and code](https://globalfishingwatch.org/datasets-and-code/)\n",
    "\n",
    "#### 10. Eye detection\n",
    "It is fairly easy to poke someone in the eye. Not so much for a computer. First, you have to tell it where the eye is. \n",
    "\n",
    "Links: [Sample project](https://github.com/moadmmh/Awesome-OpenCV/tree/master/Face_Eye_Detection)"
   ]
  },
  {
   "cell_type": "markdown",
   "id": "04d8c235-2856-48d1-af0a-61aee66a5e36",
   "metadata": {},
   "source": [
    "## Guided & Unguided Python Projects For Practice\n",
    "\n",
    "### Guided\n",
    "#### 1. Predicting credit card approvals\n",
    "Learn how to predict a credit card application gets accepted or rejected by banks.\n",
    "\n",
    "Links: [project](https://app.datacamp.com/learn/projects/558)\n",
    "\n",
    "#### 2. Trending topics in machine learning research\n",
    "Discover the latest trends in machine learning research by analyzing the NIPS papers from the past decade.\n",
    "\n",
    "Links: [project](https://app.datacamp.com/learn/projects/158)\n",
    "\n",
    "#### 3. Cleaning and analyzing image data\n",
    "Learn how to load, transform and preprocess image data using samples of honey bees and bumble bees.\n",
    "\n",
    "Links: [project](https://app.datacamp.com/learn/projects/374)\n",
    "\n",
    "#### 4. Classify bee species from images\n",
    "Building on top of the previous project, try to predict the species of a bee using its image.\n",
    "\n",
    "Links: [project](https://app.datacamp.com/learn/projects/412)\n",
    "\n",
    "#### 5. Song genre classification from audio\n",
    "Classify songs into hip-hop or rock by listening to song excerpts.\n",
    "\n",
    "Links: [project](https://app.datacamp.com/learn/projects/449)\n",
    "\n",
    "#### 6. America Sign Language recognition\n",
    "In this guided project, A Kaggle educator walks you through building a CNN to recognize ASL letters.\n",
    "\n",
    "Links: [project](https://app.datacamp.com/learn/projects/509)\n",
    "\n",
    "#### 7. Blood donor classification\n",
    "Analyze the patterns in blood donations and predict if a person will donate again in the future.\n",
    "\n",
    "Links: [project](https://app.datacamp.com/learn/projects/646)\n",
    "\n",
    "#### 8. Movie similarity from plot summaries\n",
    "Sometimes, you love a movie so much that you want to watch another like it. Instead of using ready platforms like Netflix, try the task yourself by building a model that quantifies movie similarity based on plot summaries.\n",
    "\n",
    "Links: [project](https://app.datacamp.com/learn/projects/648)\n",
    "\n",
    "#### 9. Comparing cosmetics by ingredients\n",
    "It is hard to choose a cosmetic product that won't jeopardize your skin health. In this guided project, you learn to process ingredients of cosmetics to make a more informed decision of whether a new cosmetic is good for you.\n",
    "\n",
    "Links: [project](https://app.datacamp.com/learn/projects/695)\n",
    "\n",
    "#### 10. Reducing traffic mortality in the USA\n",
    "Traffic fatalities has reached a ten-year high. Discover patterns in mortality demographics of traffic accidents in each US state to come up with better strategies for traffic control.\n",
    "\n",
    "Links: [project](https://app.datacamp.com/learn/projects/traffic-mortality)\n",
    "\n",
    "#### 11. A visual history of Nobel Prize winners\n",
    "Almost everyone dreamed of getting a Nobel once in their lives (at least I did). But does your age, race and gender affect your chances? Find out by analyzing the data on the winners since 1901.\n",
    "\n",
    "Links: [project](https://app.datacamp.com/learn/projects/nobel-winners)\n",
    "\n",
    "#### 12. The GitHub history of the Scala language\n",
    "Scala ranks as the 34th most popular programming language according to [the TIOBE index](https://www.tiobe.com/tiobe-index/). Learn how it came to be so by analyzing the history of its GitHub repository.\n",
    "\n",
    "Links: [projects](https://app.datacamp.com/learn/projects/163)"
   ]
  },
  {
   "cell_type": "markdown",
   "id": "bc53cc5b-7612-47b1-96b7-ef9f81ea7039",
   "metadata": {
    "jp-MarkdownHeadingCollapsed": true,
    "tags": []
   },
   "source": [
    "### Unguided\n",
    "\n",
    "#### 1. Investigating Netflix Movie and Guest stars in the Office\n",
    "Manipulate and visualize the performance of Netflix movies and the guest starts in the cultural phenomenon series the Office.\n",
    "\n",
    "Links: [project](https://app.datacamp.com/learn/projects/entertainment-data)\n",
    "\n",
    "#### 2. Exploring the history of Lego\n",
    "About 1140 pieces of Lego is produced every second. Find out how the most popular toy brand in the world became so dominant.\n",
    "\n",
    "Links: [project](https://app.datacamp.com/learn/projects/history-of-lego)\n",
    "\n",
    "#### 3. The discovery of handwashing\n",
    "Washing hands is second nature to all of us. But it has not always been so in the past. Handwashing is actually one of the most important breakthroughs in medicine. \n",
    "\n",
    "Links: [project](https://app.datacamp.com/learn/projects/discovery-of-handwashing)\n",
    "\n",
    "#### 4. The Android App market in Google Play\n",
    "Android app market is vast and competitive. Analyze and visualize this dataset scraped from Google Play Store to find out what makes a great app.\n",
    "\n",
    "Links: [project](https://app.datacamp.com/learn/projects/android-app-market)\n",
    "\n",
    "#### 5. Word frequency in classic novels\n",
    "Create a word frequency counter using NLP techniques on a classic children's novel \"Peter Pan\".\n",
    "\n",
    "Links: [project](https://app.datacamp.com/learn/projects/word-frequency-classic-novels)\n",
    "\n",
    "#### 6. Bad passwords and the NIST guidelines\n",
    "If you use your birthday as your password, you deserve to be hacked. If you aren't, check if your password conforms to National Institute of Standards and Technology.\n",
    "\n",
    "Links: [project](https://app.datacamp.com/learn/projects/analyzing_password_strength)\n",
    "\n",
    "#### 7. Comparing search interest with Google Trends\n",
    "Google exposes its Trends API in Python so that users can find out the trendiness of any keyword based on Google Search. It is an excellent source of time series data with records dating back to 2004. \n",
    "\n",
    "Links: [project](https://app.datacamp.com/learn/projects/google_trends)\n",
    "\n",
    "#### 8. Exploring the NYC Airbnb market\n",
    "Leverage data cleaning and manipulation to uncover insights into the Airbnb market of New York city. \n",
    "\n",
    "Links: [project](https://app.datacamp.com/learn/projects/exploring-the-nyc-airbnb-market)"
   ]
  },
  {
   "cell_type": "markdown",
   "id": "f35ef75a-eb85-44d0-89bd-a9c621ea1011",
   "metadata": {},
   "source": [
    "## How to choose projects to add to your resume\n"
   ]
  }
 ],
 "metadata": {
  "kernelspec": {
   "display_name": "articles",
   "language": "python",
   "name": "articles"
  },
  "language_info": {
   "codemirror_mode": {
    "name": "ipython",
    "version": 3
   },
   "file_extension": ".py",
   "mimetype": "text/x-python",
   "name": "python",
   "nbconvert_exporter": "python",
   "pygments_lexer": "ipython3",
   "version": "3.9.12"
  }
 },
 "nbformat": 4,
 "nbformat_minor": 5
}
