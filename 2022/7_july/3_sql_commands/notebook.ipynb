{
 "cells": [
  {
   "cell_type": "markdown",
   "id": "b144536f-ea65-4ea8-b748-d26e473f7a56",
   "metadata": {},
   "source": [
    "# SQL Commands Glossary - An Overview of 25 Most Popular SQL Commands"
   ]
  },
  {
   "cell_type": "markdown",
   "id": "867271c8-66fd-4a6c-b74a-5594548f9c24",
   "metadata": {},
   "source": [
    "## What is SQL?"
   ]
  },
  {
   "cell_type": "markdown",
   "id": "ca997885-b39a-4a19-9026-79bf4ae92616",
   "metadata": {},
   "source": [
    "#### Instructions\n",
    "> Provide a short sentence that explains how to use SELECT statements. And provide a simple example of SELECT in action. For example"
   ]
  },
  {
   "cell_type": "markdown",
   "id": "ba25dc5d-6881-4f60-a615-337ccc6e5470",
   "metadata": {},
   "source": [
    "## SQL Commands with examples"
   ]
  },
  {
   "cell_type": "markdown",
   "id": "465e86cb-093b-42f6-93b7-f3da2a53b43e",
   "metadata": {
    "tags": []
   },
   "source": [
    "### 1. SELECT\n",
    "SELECT statement is used to select data from a database table. In the below example, we are choosing all the columns from table **films** printing out the rows."
   ]
  },
  {
   "cell_type": "markdown",
   "id": "477ed8f3-f460-418e-8b0f-ecefddf78e38",
   "metadata": {
    "jp-MarkdownHeadingCollapsed": true,
    "tags": []
   },
   "source": [
    "```SQL\n",
    "SELECT * FROM films;\n",
    "```"
   ]
  },
  {
   "cell_type": "markdown",
   "id": "e7fa0949-a20b-4b4a-83c9-39c7acf8c0ed",
   "metadata": {},
   "source": [
    "In this second example, we are choosing only certain columns instead of choosing all:"
   ]
  },
  {
   "cell_type": "markdown",
   "id": "7c581301-8a7d-4b9f-8a91-0a8c746081ab",
   "metadata": {
    "jp-MarkdownHeadingCollapsed": true,
    "tags": []
   },
   "source": [
    "```SQL\n",
    "SELECT movie_name, director \n",
    "FROM films;\n",
    "```"
   ]
  },
  {
   "cell_type": "markdown",
   "id": "c1b55f5a-6f02-4993-9b88-c2d616031d1a",
   "metadata": {},
   "source": [
    "### 2. LIMIT"
   ]
  },
  {
   "cell_type": "markdown",
   "id": "fa2703b2-ef01-4b48-8169-0792dd14745d",
   "metadata": {},
   "source": [
    "The LIMIT command is used to crop the output of a SELECT statement. In the last SELECT statements, the outputs was all the rows in the table. Below, we limit the number to only 10 rows:"
   ]
  },
  {
   "cell_type": "markdown",
   "id": "bef3cf30-a50f-42fc-bbd9-875c7a0e0537",
   "metadata": {
    "jp-MarkdownHeadingCollapsed": true,
    "tags": []
   },
   "source": [
    "```SQL\n",
    "SELECT *\n",
    "FROM films\n",
    "LIMIT 10;\n",
    "```"
   ]
  },
  {
   "cell_type": "markdown",
   "id": "6ca474a1-5e59-4e66-9dae-c5902cf4fce2",
   "metadata": {},
   "source": [
    "### 3. AS"
   ]
  },
  {
   "cell_type": "markdown",
   "id": "be651b3e-8373-4391-a0b6-2cd9af5e7db2",
   "metadata": {},
   "source": [
    "Sometimes, columns names can be too long and in a typical SQL statement, you might refer to the single column multiple times. To avoid typing the full name of the column every time, you can give it another shorter name called an alias using the AS keyword:"
   ]
  },
  {
   "cell_type": "markdown",
   "id": "2a576fd8-2b29-4d8c-9538-ef84c1b55617",
   "metadata": {
    "jp-MarkdownHeadingCollapsed": true,
    "tags": []
   },
   "source": [
    "```SQL\n",
    "SELECT movie_name AS name, release_date AS date\n",
    "FROM films\n",
    "LIMIT 5;\n",
    "```"
   ]
  },
  {
   "cell_type": "markdown",
   "id": "acbc7de9-ba7c-4fce-b7bc-c920c84a589c",
   "metadata": {},
   "source": [
    "### 4. DISTINCT"
   ]
  },
  {
   "cell_type": "markdown",
   "id": "25f7d051-54c1-4a29-988c-0ad0936f8226",
   "metadata": {},
   "source": [
    "Real world datasets often contain duplicate rows or values in a column. Vanilla SELECT statement ignores this but adding the DISTINCT keyword after it drops them:"
   ]
  },
  {
   "cell_type": "markdown",
   "id": "83d03f78-0136-47ee-a29a-42b813695a4f",
   "metadata": {
    "jp-MarkdownHeadingCollapsed": true,
    "tags": []
   },
   "source": [
    "```SQL\n",
    "SELECT DISTINCT director\n",
    "FROM films;\n",
    "```"
   ]
  },
  {
   "cell_type": "markdown",
   "id": "fe6776ff-81d1-43fd-bac3-6816dfa731f6",
   "metadata": {},
   "source": [
    "Above, we are selecting unique director names."
   ]
  },
  {
   "cell_type": "markdown",
   "id": "288fad5d-d7b2-4f7b-8ff8-a2008e852402",
   "metadata": {},
   "source": [
    "### 5. COUNT\n",
    "As the name suggests, the COUNT keyword is used to count the output of the SELECT statement. For example, the below query counts the number of rows in the **films** table:"
   ]
  },
  {
   "cell_type": "markdown",
   "id": "ac323ac1-23e5-46b8-9d57-a7e6e673f30b",
   "metadata": {
    "jp-MarkdownHeadingCollapsed": true,
    "tags": []
   },
   "source": [
    "```SQL\n",
    "SELECT COUNT(*)\n",
    "FROM films;\n",
    "```"
   ]
  },
  {
   "cell_type": "markdown",
   "id": "779a5a2b-023b-4b02-8335-6287543b2823",
   "metadata": {},
   "source": [
    "Note that COUNT(col_name) is equivalent to COUNT(\\*)."
   ]
  },
  {
   "cell_type": "markdown",
   "id": "7d0162ad-53b9-4128-a03b-9a02f3eefa6e",
   "metadata": {},
   "source": [
    "### 6. MAX"
   ]
  },
  {
   "cell_type": "markdown",
   "id": "dcdb624f-3da0-42a4-9564-530e1538b481",
   "metadata": {
    "jp-MarkdownHeadingCollapsed": true,
    "tags": []
   },
   "source": [
    "```SQL\n",
    "\n",
    "```"
   ]
  },
  {
   "cell_type": "markdown",
   "id": "8196919c-2164-4eea-9d85-8b4a357e6474",
   "metadata": {},
   "source": [
    "### 7. MIN"
   ]
  },
  {
   "cell_type": "markdown",
   "id": "cf2feeb2-66ab-4922-ba62-d698477b94d8",
   "metadata": {
    "jp-MarkdownHeadingCollapsed": true,
    "tags": []
   },
   "source": [
    "```SQL\n",
    "\n",
    "```"
   ]
  },
  {
   "cell_type": "markdown",
   "id": "add278a7-4818-452e-89b1-f2c66406b4fd",
   "metadata": {},
   "source": [
    "### 8. SUM"
   ]
  },
  {
   "cell_type": "markdown",
   "id": "eb007742-239f-4e66-84ba-7343e537c568",
   "metadata": {
    "jp-MarkdownHeadingCollapsed": true,
    "tags": []
   },
   "source": [
    "```SQL\n",
    "\n",
    "```"
   ]
  },
  {
   "cell_type": "markdown",
   "id": "c03932e6-33b6-40b1-ae5f-60ab423b8063",
   "metadata": {},
   "source": [
    "### 9. AVERAGE"
   ]
  },
  {
   "cell_type": "markdown",
   "id": "2c3a9f22-caca-488f-8bbf-ad4d092716fa",
   "metadata": {
    "jp-MarkdownHeadingCollapsed": true,
    "tags": []
   },
   "source": [
    "```SQL\n",
    "\n",
    "```"
   ]
  },
  {
   "cell_type": "markdown",
   "id": "90dd4c68-540c-4107-929b-ea93050dde81",
   "metadata": {},
   "source": [
    "### 10. WHERE"
   ]
  },
  {
   "cell_type": "markdown",
   "id": "417ead5b-5c80-4ebb-9532-afa0dad28907",
   "metadata": {
    "jp-MarkdownHeadingCollapsed": true,
    "tags": []
   },
   "source": [
    "```SQL\n",
    "\n",
    "```"
   ]
  },
  {
   "cell_type": "markdown",
   "id": "3e7049c1-a26f-4898-9567-dcbc2c52c7a3",
   "metadata": {},
   "source": [
    "### 11. AND"
   ]
  },
  {
   "cell_type": "markdown",
   "id": "ed0220db-6aea-45e2-9923-b5eccad840f2",
   "metadata": {
    "jp-MarkdownHeadingCollapsed": true,
    "tags": []
   },
   "source": [
    "```SQL\n",
    "\n",
    "```"
   ]
  },
  {
   "cell_type": "markdown",
   "id": "ab858b27-63a5-4ac7-819d-4043f0822345",
   "metadata": {},
   "source": [
    "### 12. OR"
   ]
  },
  {
   "cell_type": "markdown",
   "id": "a070f05d-347e-4593-b255-61ce7627738c",
   "metadata": {
    "jp-MarkdownHeadingCollapsed": true,
    "tags": []
   },
   "source": [
    "```SQL\n",
    "\n",
    "```"
   ]
  },
  {
   "cell_type": "markdown",
   "id": "68e60864-087f-493a-9195-5a3363a80213",
   "metadata": {},
   "source": [
    "### 13. BETWEEN"
   ]
  },
  {
   "cell_type": "markdown",
   "id": "fbf0fe44-1417-455e-a808-f88d6ed92baf",
   "metadata": {
    "jp-MarkdownHeadingCollapsed": true,
    "tags": []
   },
   "source": [
    "```SQL\n",
    "\n",
    "```"
   ]
  },
  {
   "cell_type": "markdown",
   "id": "2c5eb7e5-6b0f-4232-9443-6e198b4ee47b",
   "metadata": {},
   "source": [
    "### 14. IN"
   ]
  },
  {
   "cell_type": "markdown",
   "id": "e53f524a-06b4-4ac2-9803-57fd437cf78e",
   "metadata": {
    "jp-MarkdownHeadingCollapsed": true,
    "tags": []
   },
   "source": [
    "```SQL\n",
    "\n",
    "```"
   ]
  },
  {
   "cell_type": "markdown",
   "id": "a0b4b66b-8215-40dc-aff2-6da0ed8aaddf",
   "metadata": {},
   "source": [
    "### 15. LIKE"
   ]
  },
  {
   "cell_type": "markdown",
   "id": "82b3262f-2180-47bf-8ed2-606a7132774f",
   "metadata": {
    "jp-MarkdownHeadingCollapsed": true,
    "tags": []
   },
   "source": [
    "```SQL\n",
    "\n",
    "```"
   ]
  },
  {
   "cell_type": "markdown",
   "id": "c575dace-1403-4c5c-a7be-cb0f882fa569",
   "metadata": {},
   "source": [
    "### 16. GROUP BY"
   ]
  },
  {
   "cell_type": "markdown",
   "id": "5731df91-f8db-492a-8f6f-c882b69a5a6d",
   "metadata": {
    "jp-MarkdownHeadingCollapsed": true,
    "tags": []
   },
   "source": [
    "```SQL\n",
    "\n",
    "```"
   ]
  },
  {
   "cell_type": "markdown",
   "id": "6ab64950-2985-4759-aabe-f4e2a47d0a72",
   "metadata": {},
   "source": [
    "### 17. ORDER BY"
   ]
  },
  {
   "cell_type": "markdown",
   "id": "c26c008c-8557-497c-8b03-dcb9132987de",
   "metadata": {
    "jp-MarkdownHeadingCollapsed": true,
    "tags": []
   },
   "source": [
    "```SQL\n",
    "\n",
    "```"
   ]
  },
  {
   "cell_type": "markdown",
   "id": "df8590ef-96f5-4c7b-b7fa-2211cd8f61b2",
   "metadata": {},
   "source": [
    "### 18. UPDATE"
   ]
  },
  {
   "cell_type": "markdown",
   "id": "81c2fbc2-cdd3-4483-aa79-c0f395946f1a",
   "metadata": {
    "jp-MarkdownHeadingCollapsed": true,
    "tags": []
   },
   "source": [
    "```SQL\n",
    "\n",
    "```"
   ]
  },
  {
   "cell_type": "markdown",
   "id": "90d2b942-5f99-49b6-83f9-ed94a4389cc1",
   "metadata": {},
   "source": [
    "### 19. ALTER"
   ]
  },
  {
   "cell_type": "markdown",
   "id": "80cf53f7-e16a-409c-b586-e0e94eaaa8b4",
   "metadata": {
    "jp-MarkdownHeadingCollapsed": true,
    "tags": []
   },
   "source": [
    "```SQL\n",
    "\n",
    "```"
   ]
  },
  {
   "cell_type": "markdown",
   "id": "33080322-0fe5-4540-b03b-413727a30417",
   "metadata": {},
   "source": [
    "### 20. CREATE TABLE"
   ]
  },
  {
   "cell_type": "markdown",
   "id": "97bd114a-74f9-4bf8-9b51-93b4ceb937c6",
   "metadata": {
    "jp-MarkdownHeadingCollapsed": true,
    "tags": []
   },
   "source": [
    "```SQL\n",
    "\n",
    "```"
   ]
  },
  {
   "cell_type": "markdown",
   "id": "74e9b59d-4dc5-499e-af1b-2203abd12ef6",
   "metadata": {},
   "source": [
    "### 21. INNER JOIN"
   ]
  },
  {
   "cell_type": "markdown",
   "id": "e21d7fed-7a16-41c2-97f3-ab212d83aa4b",
   "metadata": {
    "jp-MarkdownHeadingCollapsed": true,
    "tags": []
   },
   "source": [
    "```SQL\n",
    "\n",
    "```"
   ]
  },
  {
   "cell_type": "markdown",
   "id": "0ce327f5-01df-4d46-bc49-adc6d0f6c9a5",
   "metadata": {},
   "source": [
    "### 22. LEFT JOIN"
   ]
  },
  {
   "cell_type": "markdown",
   "id": "d4fe7635-c3d1-4e39-adfb-cfc4d3559d4e",
   "metadata": {
    "jp-MarkdownHeadingCollapsed": true,
    "tags": []
   },
   "source": [
    "```SQL\n",
    "\n",
    "```"
   ]
  },
  {
   "cell_type": "markdown",
   "id": "63283e9e-755b-48bc-badf-f6176c356612",
   "metadata": {},
   "source": [
    "### 23. RIGHT JOIN"
   ]
  },
  {
   "cell_type": "markdown",
   "id": "7627eb68-32eb-4a33-8b7d-37ee33a30a05",
   "metadata": {
    "jp-MarkdownHeadingCollapsed": true,
    "tags": []
   },
   "source": [
    "```SQL\n",
    "\n",
    "```"
   ]
  },
  {
   "cell_type": "markdown",
   "id": "e5bedb77-a961-4468-8473-8b35cd0fd71e",
   "metadata": {},
   "source": [
    "### 24. HAVING"
   ]
  },
  {
   "cell_type": "markdown",
   "id": "463d619f-0992-406b-8608-780882f42a64",
   "metadata": {
    "jp-MarkdownHeadingCollapsed": true,
    "tags": []
   },
   "source": [
    "```SQL\n",
    "\n",
    "```"
   ]
  },
  {
   "cell_type": "markdown",
   "id": "e7e71321-31aa-440c-af56-9d9f63636d05",
   "metadata": {},
   "source": [
    "### 24. UNION"
   ]
  },
  {
   "cell_type": "markdown",
   "id": "86521f4b-49f6-4f88-aba9-101add77e47d",
   "metadata": {
    "jp-MarkdownHeadingCollapsed": true,
    "tags": []
   },
   "source": [
    "```SQL\n",
    "\n",
    "```"
   ]
  },
  {
   "cell_type": "code",
   "execution_count": null,
   "id": "8a43fafa-753b-49c4-8077-f4e4e5849284",
   "metadata": {},
   "outputs": [],
   "source": []
  },
  {
   "cell_type": "markdown",
   "id": "4ff4e42c-0db0-457a-a997-628b00a0640f",
   "metadata": {
    "tags": []
   },
   "source": [
    "## SQL Commands Cheat Sheet"
   ]
  }
 ],
 "metadata": {
  "kernelspec": {
   "display_name": "articles",
   "language": "python",
   "name": "articles"
  },
  "language_info": {
   "codemirror_mode": {
    "name": "ipython",
    "version": 3
   },
   "file_extension": ".py",
   "mimetype": "text/x-python",
   "name": "python",
   "nbconvert_exporter": "python",
   "pygments_lexer": "ipython3",
   "version": "3.9.12"
  }
 },
 "nbformat": 4,
 "nbformat_minor": 5
}
