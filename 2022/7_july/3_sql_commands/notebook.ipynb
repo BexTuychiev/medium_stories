{
 "cells": [
  {
   "cell_type": "markdown",
   "id": "b144536f-ea65-4ea8-b748-d26e473f7a56",
   "metadata": {},
   "source": [
    "# SQL Commands Glossary - An Overview of 25 Most Popular SQL Commands"
   ]
  },
  {
   "cell_type": "markdown",
   "id": "867271c8-66fd-4a6c-b74a-5594548f9c24",
   "metadata": {},
   "source": [
    "## What is SQL?"
   ]
  },
  {
   "cell_type": "markdown",
   "id": "ba25dc5d-6881-4f60-a615-337ccc6e5470",
   "metadata": {},
   "source": [
    "## SQL Commands with examples"
   ]
  },
  {
   "cell_type": "markdown",
   "id": "465e86cb-093b-42f6-93b7-f3da2a53b43e",
   "metadata": {},
   "source": [
    "### 1. SELECT"
   ]
  },
  {
   "cell_type": "markdown",
   "id": "c1b55f5a-6f02-4993-9b88-c2d616031d1a",
   "metadata": {},
   "source": [
    "### 2. LIMIT"
   ]
  },
  {
   "cell_type": "markdown",
   "id": "6ca474a1-5e59-4e66-9dae-c5902cf4fce2",
   "metadata": {},
   "source": [
    "### 3. AS"
   ]
  },
  {
   "cell_type": "markdown",
   "id": "acbc7de9-ba7c-4fce-b7bc-c920c84a589c",
   "metadata": {},
   "source": [
    "### 4. DISTINCT"
   ]
  },
  {
   "cell_type": "markdown",
   "id": "288fad5d-d7b2-4f7b-8ff8-a2008e852402",
   "metadata": {},
   "source": [
    "### 5. COUNT"
   ]
  },
  {
   "cell_type": "markdown",
   "id": "7d0162ad-53b9-4128-a03b-9a02f3eefa6e",
   "metadata": {},
   "source": [
    "### 6. MAX"
   ]
  },
  {
   "cell_type": "markdown",
   "id": "8196919c-2164-4eea-9d85-8b4a357e6474",
   "metadata": {},
   "source": [
    "### 7. MIN"
   ]
  },
  {
   "cell_type": "markdown",
   "id": "add278a7-4818-452e-89b1-f2c66406b4fd",
   "metadata": {},
   "source": [
    "### 8. SUM"
   ]
  },
  {
   "cell_type": "markdown",
   "id": "c03932e6-33b6-40b1-ae5f-60ab423b8063",
   "metadata": {},
   "source": [
    "### 9. AVERAGE"
   ]
  },
  {
   "cell_type": "markdown",
   "id": "90dd4c68-540c-4107-929b-ea93050dde81",
   "metadata": {},
   "source": [
    "### 10. WHERE"
   ]
  },
  {
   "cell_type": "markdown",
   "id": "3e7049c1-a26f-4898-9567-dcbc2c52c7a3",
   "metadata": {},
   "source": [
    "### 11. AND"
   ]
  },
  {
   "cell_type": "markdown",
   "id": "ab858b27-63a5-4ac7-819d-4043f0822345",
   "metadata": {},
   "source": [
    "### 12. OR"
   ]
  },
  {
   "cell_type": "markdown",
   "id": "68e60864-087f-493a-9195-5a3363a80213",
   "metadata": {},
   "source": [
    "### 13. BETWEEN"
   ]
  },
  {
   "cell_type": "markdown",
   "id": "2c5eb7e5-6b0f-4232-9443-6e198b4ee47b",
   "metadata": {},
   "source": [
    "### 14. IN"
   ]
  },
  {
   "cell_type": "markdown",
   "id": "a0b4b66b-8215-40dc-aff2-6da0ed8aaddf",
   "metadata": {},
   "source": [
    "### 15. LIKE"
   ]
  },
  {
   "cell_type": "markdown",
   "id": "c575dace-1403-4c5c-a7be-cb0f882fa569",
   "metadata": {},
   "source": [
    "### 16. GROUP BY"
   ]
  },
  {
   "cell_type": "markdown",
   "id": "6ab64950-2985-4759-aabe-f4e2a47d0a72",
   "metadata": {},
   "source": [
    "### 17. ORDER BY"
   ]
  },
  {
   "cell_type": "markdown",
   "id": "df8590ef-96f5-4c7b-b7fa-2211cd8f61b2",
   "metadata": {},
   "source": [
    "### 18. UPDATE"
   ]
  },
  {
   "cell_type": "markdown",
   "id": "90d2b942-5f99-49b6-83f9-ed94a4389cc1",
   "metadata": {},
   "source": [
    "### 19. ALTER"
   ]
  },
  {
   "cell_type": "markdown",
   "id": "33080322-0fe5-4540-b03b-413727a30417",
   "metadata": {},
   "source": [
    "### 20. CREATE TABLE"
   ]
  },
  {
   "cell_type": "markdown",
   "id": "74e9b59d-4dc5-499e-af1b-2203abd12ef6",
   "metadata": {},
   "source": [
    "### 21. INNER JOIN"
   ]
  },
  {
   "cell_type": "markdown",
   "id": "0ce327f5-01df-4d46-bc49-adc6d0f6c9a5",
   "metadata": {},
   "source": [
    "### 22. LEFT JOIN"
   ]
  },
  {
   "cell_type": "markdown",
   "id": "63283e9e-755b-48bc-badf-f6176c356612",
   "metadata": {},
   "source": [
    "### 23. RIGHT JOIN"
   ]
  },
  {
   "cell_type": "markdown",
   "id": "e5bedb77-a961-4468-8473-8b35cd0fd71e",
   "metadata": {},
   "source": [
    "### 24. HAVING"
   ]
  },
  {
   "cell_type": "markdown",
   "id": "e7e71321-31aa-440c-af56-9d9f63636d05",
   "metadata": {},
   "source": [
    "### 24. UNION"
   ]
  },
  {
   "cell_type": "code",
   "execution_count": null,
   "id": "8a43fafa-753b-49c4-8077-f4e4e5849284",
   "metadata": {},
   "outputs": [],
   "source": []
  },
  {
   "cell_type": "markdown",
   "id": "4ff4e42c-0db0-457a-a997-628b00a0640f",
   "metadata": {
    "tags": []
   },
   "source": [
    "## SQL Commands Cheat Sheet"
   ]
  }
 ],
 "metadata": {
  "kernelspec": {
   "display_name": "articles",
   "language": "python",
   "name": "articles"
  },
  "language_info": {
   "codemirror_mode": {
    "name": "ipython",
    "version": 3
   },
   "file_extension": ".py",
   "mimetype": "text/x-python",
   "name": "python",
   "nbconvert_exporter": "python",
   "pygments_lexer": "ipython3",
   "version": "3.9.12"
  }
 },
 "nbformat": 4,
 "nbformat_minor": 5
}
