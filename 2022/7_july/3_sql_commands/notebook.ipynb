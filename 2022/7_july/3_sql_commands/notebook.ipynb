{
 "cells": [
  {
   "cell_type": "markdown",
   "id": "b144536f-ea65-4ea8-b748-d26e473f7a56",
   "metadata": {},
   "source": [
    "# SQL Commands Glossary - An Overview of 24 Most Popular SQL Commands"
   ]
  },
  {
   "cell_type": "markdown",
   "id": "867271c8-66fd-4a6c-b74a-5594548f9c24",
   "metadata": {},
   "source": [
    "## What is SQL?"
   ]
  },
  {
   "cell_type": "markdown",
   "id": "ca997885-b39a-4a19-9026-79bf4ae92616",
   "metadata": {},
   "source": [
    "#### Instructions\n",
    "> Provide a short sentence that explains how to use SELECT statements. And provide a simple example of SELECT in action. For example"
   ]
  },
  {
   "cell_type": "markdown",
   "id": "ba25dc5d-6881-4f60-a615-337ccc6e5470",
   "metadata": {},
   "source": [
    "## SQL Commands with examples"
   ]
  },
  {
   "cell_type": "markdown",
   "id": "465e86cb-093b-42f6-93b7-f3da2a53b43e",
   "metadata": {
    "tags": []
   },
   "source": [
    "### 1. SELECT\n",
    "SELECT statement is used to select data from a database table. In the below example, we are choosing all the columns from table **films** printing out the rows."
   ]
  },
  {
   "cell_type": "markdown",
   "id": "477ed8f3-f460-418e-8b0f-ecefddf78e38",
   "metadata": {
    "jp-MarkdownHeadingCollapsed": true,
    "tags": []
   },
   "source": [
    "```SQL\n",
    "SELECT * FROM films;\n",
    "```"
   ]
  },
  {
   "cell_type": "markdown",
   "id": "e7fa0949-a20b-4b4a-83c9-39c7acf8c0ed",
   "metadata": {},
   "source": [
    "In this second example, we are choosing only certain columns instead of choosing all:"
   ]
  },
  {
   "cell_type": "markdown",
   "id": "7c581301-8a7d-4b9f-8a91-0a8c746081ab",
   "metadata": {
    "jp-MarkdownHeadingCollapsed": true,
    "tags": []
   },
   "source": [
    "```SQL\n",
    "SELECT movie_name, director \n",
    "FROM films;\n",
    "```"
   ]
  },
  {
   "cell_type": "markdown",
   "id": "c1b55f5a-6f02-4993-9b88-c2d616031d1a",
   "metadata": {},
   "source": [
    "### 2. LIMIT"
   ]
  },
  {
   "cell_type": "markdown",
   "id": "fa2703b2-ef01-4b48-8169-0792dd14745d",
   "metadata": {},
   "source": [
    "The LIMIT command is used to crop the output of a SELECT statement. In the last SELECT statements, the outputs was all the rows in the table. Below, we limit the number to only 10 rows:"
   ]
  },
  {
   "cell_type": "markdown",
   "id": "bef3cf30-a50f-42fc-bbd9-875c7a0e0537",
   "metadata": {
    "jp-MarkdownHeadingCollapsed": true,
    "tags": []
   },
   "source": [
    "```SQL\n",
    "SELECT *\n",
    "FROM films\n",
    "LIMIT 10;\n",
    "```"
   ]
  },
  {
   "cell_type": "markdown",
   "id": "6ca474a1-5e59-4e66-9dae-c5902cf4fce2",
   "metadata": {},
   "source": [
    "### 3. AS"
   ]
  },
  {
   "cell_type": "markdown",
   "id": "be651b3e-8373-4391-a0b6-2cd9af5e7db2",
   "metadata": {},
   "source": [
    "Sometimes, columns names can be too long and in a typical SQL statement, you might refer to the single column multiple times. To avoid typing the full name of the column every time, you can give it another shorter name called an alias using the AS keyword:"
   ]
  },
  {
   "cell_type": "markdown",
   "id": "2a576fd8-2b29-4d8c-9538-ef84c1b55617",
   "metadata": {
    "jp-MarkdownHeadingCollapsed": true,
    "tags": []
   },
   "source": [
    "```SQL\n",
    "SELECT movie_name AS name, release_date AS date\n",
    "FROM films\n",
    "LIMIT 5;\n",
    "```"
   ]
  },
  {
   "cell_type": "markdown",
   "id": "acbc7de9-ba7c-4fce-b7bc-c920c84a589c",
   "metadata": {},
   "source": [
    "### 4. DISTINCT"
   ]
  },
  {
   "cell_type": "markdown",
   "id": "25f7d051-54c1-4a29-988c-0ad0936f8226",
   "metadata": {},
   "source": [
    "Real world datasets often contain duplicate rows or values in a column. Vanilla SELECT statement ignores this but adding the DISTINCT keyword after it drops them:"
   ]
  },
  {
   "cell_type": "markdown",
   "id": "83d03f78-0136-47ee-a29a-42b813695a4f",
   "metadata": {
    "jp-MarkdownHeadingCollapsed": true,
    "tags": []
   },
   "source": [
    "```SQL\n",
    "SELECT DISTINCT director\n",
    "FROM films;\n",
    "```"
   ]
  },
  {
   "cell_type": "markdown",
   "id": "fe6776ff-81d1-43fd-bac3-6816dfa731f6",
   "metadata": {},
   "source": [
    "Above, we are selecting unique director names."
   ]
  },
  {
   "cell_type": "markdown",
   "id": "288fad5d-d7b2-4f7b-8ff8-a2008e852402",
   "metadata": {},
   "source": [
    "### 5. COUNT\n",
    "As the name suggests, the COUNT keyword is used to count the output of the SELECT statement. For example, the below query counts the number of rows in the **films** table:"
   ]
  },
  {
   "cell_type": "markdown",
   "id": "ac323ac1-23e5-46b8-9d57-a7e6e673f30b",
   "metadata": {
    "jp-MarkdownHeadingCollapsed": true,
    "tags": []
   },
   "source": [
    "```SQL\n",
    "SELECT COUNT(*)\n",
    "FROM films;\n",
    "```"
   ]
  },
  {
   "cell_type": "markdown",
   "id": "779a5a2b-023b-4b02-8335-6287543b2823",
   "metadata": {},
   "source": [
    "Note that COUNT(col_name) is equivalent to COUNT(\\*)."
   ]
  },
  {
   "cell_type": "markdown",
   "id": "7d0162ad-53b9-4128-a03b-9a02f3eefa6e",
   "metadata": {},
   "source": [
    "### 6-7. MIN and MAX"
   ]
  },
  {
   "cell_type": "markdown",
   "id": "45e02f66-b08f-4233-98b0-502a91588269",
   "metadata": {},
   "source": [
    "MIN and MAX functions return the smallest and largest values in a column. If a column is text, then it is sorted alphabetically:"
   ]
  },
  {
   "cell_type": "markdown",
   "id": "dcdb624f-3da0-42a4-9564-530e1538b481",
   "metadata": {
    "jp-MarkdownHeadingCollapsed": true,
    "tags": []
   },
   "source": [
    "```SQL\n",
    "SELECT MIN(revenue) AS minimum_revenue,\n",
    "       MAX(revenue) AS maximum_revenue\n",
    "FROM films;\n",
    "```"
   ]
  },
  {
   "cell_type": "markdown",
   "id": "add278a7-4818-452e-89b1-f2c66406b4fd",
   "metadata": {},
   "source": [
    "### 8. SUM"
   ]
  },
  {
   "cell_type": "markdown",
   "id": "9e28dac1-78f5-4c50-99f6-510db61a7519",
   "metadata": {},
   "source": [
    "SUM returns the total value of a numeric column:"
   ]
  },
  {
   "cell_type": "markdown",
   "id": "eb007742-239f-4e66-84ba-7343e537c568",
   "metadata": {
    "jp-MarkdownHeadingCollapsed": true,
    "tags": []
   },
   "source": [
    "```SQL\n",
    "SELECT SUM(revenue) AS total_revenue\n",
    "FROM films;\n",
    "```"
   ]
  },
  {
   "cell_type": "markdown",
   "id": "c03932e6-33b6-40b1-ae5f-60ab423b8063",
   "metadata": {},
   "source": [
    "### 9. AVERAGE\n",
    "AVERAGE calculates the arithmetic mean of a column:"
   ]
  },
  {
   "cell_type": "markdown",
   "id": "2c3a9f22-caca-488f-8bbf-ad4d092716fa",
   "metadata": {
    "jp-MarkdownHeadingCollapsed": true,
    "tags": []
   },
   "source": [
    "```SQL\n",
    "SELECT AVERAGE(revenue) AS average_earned\n",
    "FROM films;\n",
    "```"
   ]
  },
  {
   "cell_type": "markdown",
   "id": "90dd4c68-540c-4107-929b-ea93050dde81",
   "metadata": {},
   "source": [
    "### 10. WHERE\n",
    "The WHERE clause is used to filter rows that match a certain condition. For example, below, we are filtering films that earned more than 500 million dollars:"
   ]
  },
  {
   "cell_type": "markdown",
   "id": "417ead5b-5c80-4ebb-9532-afa0dad28907",
   "metadata": {
    "jp-MarkdownHeadingCollapsed": true,
    "tags": []
   },
   "source": [
    "```SQL\n",
    "SELECT revenue AS r\n",
    "FROM films\n",
    "WHERE r > 500000000\n",
    "```"
   ]
  },
  {
   "cell_type": "markdown",
   "id": "e42af683-f1ac-463e-aa9d-5801b304ff66",
   "metadata": {},
   "source": [
    "Other conditional operators can be used such as <, >, =>, <=, == (equals), != (not equals) for filtering."
   ]
  },
  {
   "cell_type": "markdown",
   "id": "3e7049c1-a26f-4898-9567-dcbc2c52c7a3",
   "metadata": {},
   "source": [
    "### 11. AND\n",
    "\n",
    "AND operator is used to filter rows that match more than one condition at the same time. In the below example, we will filter for *English* films that grossed more than 500 million dollars:"
   ]
  },
  {
   "cell_type": "markdown",
   "id": "ed0220db-6aea-45e2-9923-b5eccad840f2",
   "metadata": {
    "jp-MarkdownHeadingCollapsed": true,
    "tags": []
   },
   "source": [
    "```SQL\n",
    "SELECT *\n",
    "FROM films\n",
    "WHERE revenue > 500000000 AND \n",
    "      language == \"English\"\n",
    "```"
   ]
  },
  {
   "cell_type": "markdown",
   "id": "ab858b27-63a5-4ac7-819d-4043f0822345",
   "metadata": {},
   "source": [
    "### 12. OR"
   ]
  },
  {
   "cell_type": "markdown",
   "id": "9df4c53b-8c8c-40c4-99f5-fbb89f461ed1",
   "metadata": {},
   "source": [
    "OR is another conditional operator that allows you to subset rows if any of the conditions separated by OR is true. For example, let's choose old English films that earned less than 100 million dollars or new ones that earned more than 500 million:"
   ]
  },
  {
   "cell_type": "markdown",
   "id": "a070f05d-347e-4593-b255-61ce7627738c",
   "metadata": {
    "jp-MarkdownHeadingCollapsed": true,
    "tags": []
   },
   "source": [
    "```SQL\n",
    "SELECT * \n",
    "FROM films\n",
    "WHERE (revenue < 100000000 AND language == \"ENGLISH\") OR\n",
    "      (revenue > 500000000 AND release_date > 2020)\n",
    "```"
   ]
  },
  {
   "cell_type": "markdown",
   "id": "68e60864-087f-493a-9195-5a3363a80213",
   "metadata": {},
   "source": [
    "### 13. BETWEEN"
   ]
  },
  {
   "cell_type": "markdown",
   "id": "8d797fa0-7c95-45d3-ba54-08a2d2437819",
   "metadata": {},
   "source": [
    "BETWEEN is a handy keyword that allows you to subset rows that are within a certain range, which makes your WHERE clauses simpler and easier to read:"
   ]
  },
  {
   "cell_type": "markdown",
   "id": "fbf0fe44-1417-455e-a808-f88d6ed92baf",
   "metadata": {
    "jp-MarkdownHeadingCollapsed": true,
    "tags": []
   },
   "source": [
    "```SQL\n",
    "SELECT *\n",
    "FROM films\n",
    "WHERE release_date BETWEEN 2010 AND 2022\n",
    "```"
   ]
  },
  {
   "cell_type": "markdown",
   "id": "170d9cce-024b-4831-bce3-b27a3c313dfa",
   "metadata": {},
   "source": [
    "In the example above, we are choosing all the films that were released between 2020 and 2022."
   ]
  },
  {
   "cell_type": "markdown",
   "id": "2c5eb7e5-6b0f-4232-9443-6e198b4ee47b",
   "metadata": {},
   "source": [
    "### 14. IN"
   ]
  },
  {
   "cell_type": "markdown",
   "id": "5d38c5f9-e3d7-4533-a73f-5fc5e1a692d3",
   "metadata": {},
   "source": [
    "Another great conditional operator is IN. The IN operator is a shorthand fur multiple OR statements. In the below example, we will choose all films that were released in either of these years - 1998, 1966, 2001, 2012:"
   ]
  },
  {
   "cell_type": "markdown",
   "id": "e53f524a-06b4-4ac2-9803-57fd437cf78e",
   "metadata": {
    "jp-MarkdownHeadingCollapsed": true,
    "tags": []
   },
   "source": [
    "```SQL\n",
    "SELECT movie_name, release_date, revenue\n",
    "FROM films\n",
    "WHERE release_date IN (1998, 1966, 2001, 2012)\n",
    "```"
   ]
  },
  {
   "cell_type": "markdown",
   "id": "c4699dc9-59ce-42f6-b43d-6c7de477fa97",
   "metadata": {},
   "source": [
    "The IN operator works with text values as well."
   ]
  },
  {
   "cell_type": "markdown",
   "id": "a0b4b66b-8215-40dc-aff2-6da0ed8aaddf",
   "metadata": {},
   "source": [
    "### 15. LIKE"
   ]
  },
  {
   "cell_type": "markdown",
   "id": "d4bda488-4bde-4298-bcf0-6a21ab33f5c1",
   "metadata": {},
   "source": [
    "The LIKE operator makes it extremely easy to work with text columns. It is used to search for patterns in a text column using special strings called wildcards. For example, using \"A% W%\" wildcard on directors column will find all directors with first name starting with A and the last name starting with W:"
   ]
  },
  {
   "cell_type": "markdown",
   "id": "82b3262f-2180-47bf-8ed2-606a7132774f",
   "metadata": {
    "jp-MarkdownHeadingCollapsed": true,
    "tags": []
   },
   "source": [
    "```SQL\n",
    "SELECT *\n",
    "FROM films\n",
    "WHERE director LIKE \"A% W%\";\n",
    "```"
   ]
  },
  {
   "cell_type": "markdown",
   "id": "447ddc12-2e4e-4807-b491-81063fab710f",
   "metadata": {},
   "source": [
    "The wildcard character \"%\" can be placed anywhere to match 0 or more characters. More examples are \"n%t\" (matches three letter words that start and end with n and t), \"%k\" (words that end in k), etc.\n",
    "\n",
    "There are other wildcard characters in SQL. For a full list, visit this [link](https://www.w3schools.com/sql/sql_wildcards.asp)."
   ]
  },
  {
   "cell_type": "markdown",
   "id": "c575dace-1403-4c5c-a7be-cb0f882fa569",
   "metadata": {},
   "source": [
    "### 16. GROUP BY\n",
    "GROUP BY statement in SQL groups rows with the same values into summary rows. GROUP BY is usually used with aggregate functions like COUNT, MIN/MAX, AVERAGE. In the example below, we find the average revenue of each movie genre:"
   ]
  },
  {
   "cell_type": "markdown",
   "id": "5731df91-f8db-492a-8f6f-c882b69a5a6d",
   "metadata": {
    "jp-MarkdownHeadingCollapsed": true,
    "tags": []
   },
   "source": [
    "```SQL\n",
    "SELECT AVERAGE(revenue), movie_name, director, release_date\n",
    "FROM films\n",
    "GROUP BY genre\n",
    "```"
   ]
  },
  {
   "cell_type": "markdown",
   "id": "4df3f0be-b501-47ec-9e22-0deaa4e29f41",
   "metadata": {},
   "source": [
    "We could have used MIN, MAX or COUNT(revenue) to find lowest, highest earning or the number of movies in each genre. Note that GROUP BY statement practically has no effect on the query if it isn't used with an aggregate function. "
   ]
  },
  {
   "cell_type": "markdown",
   "id": "6ab64950-2985-4759-aabe-f4e2a47d0a72",
   "metadata": {},
   "source": [
    "### 17. ORDER BY"
   ]
  },
  {
   "cell_type": "markdown",
   "id": "46beb511-5d9e-4c69-a394-3d8e16681334",
   "metadata": {},
   "source": [
    "As the name suggests, ORDER BY clause orders rows based on their value:"
   ]
  },
  {
   "cell_type": "markdown",
   "id": "c26c008c-8557-497c-8b03-dcb9132987de",
   "metadata": {
    "jp-MarkdownHeadingCollapsed": true,
    "tags": []
   },
   "source": [
    "```SQL\n",
    "SELECT *\n",
    "FROM films\n",
    "ORDER BY revenue;\n",
    "```"
   ]
  },
  {
   "cell_type": "markdown",
   "id": "ce3bcf06-3ead-4446-a51a-c1217d94bd37",
   "metadata": {},
   "source": [
    "You can order by multiple columns as well:"
   ]
  },
  {
   "cell_type": "markdown",
   "id": "1d44814c-a83c-4bc7-93e4-4831cd63c9dc",
   "metadata": {},
   "source": [
    "```SQL\n",
    "SELECT *\n",
    "FROM films\n",
    "ORDER BY revenue, release_date;\n",
    "```"
   ]
  },
  {
   "cell_type": "markdown",
   "id": "86816a50-90cd-4fcb-9acc-3d61545ee408",
   "metadata": {},
   "source": [
    "You can order by ascending (default) or descending order by adding the ASC or DESC keywords after the column name."
   ]
  },
  {
   "cell_type": "markdown",
   "id": "df8590ef-96f5-4c7b-b7fa-2211cd8f61b2",
   "metadata": {},
   "source": [
    "### 18. UPDATE"
   ]
  },
  {
   "cell_type": "markdown",
   "id": "11af69c8-9702-4f77-98ee-5e2abc02eb38",
   "metadata": {},
   "source": [
    "UPDATE is used to change the values of individual cells in an existing table. It is used with the SET keyword in the following way:"
   ]
  },
  {
   "cell_type": "markdown",
   "id": "81c2fbc2-cdd3-4483-aa79-c0f395946f1a",
   "metadata": {
    "jp-MarkdownHeadingCollapsed": true,
    "tags": []
   },
   "source": [
    "```SQL\n",
    "UPDATE films\n",
    "SET director = \"Joss Whedon\"\n",
    "WHERE director = \"J. Whedon\"\n",
    "```"
   ]
  },
  {
   "cell_type": "markdown",
   "id": "5db39bc4-83cd-47be-8b27-1b7ac7ddb4c5",
   "metadata": {},
   "source": [
    "The WHERE clause is extremely important when writing UPDATE statements. Without it, the above query would have made all films directed by Joss Whedon."
   ]
  },
  {
   "cell_type": "markdown",
   "id": "90d2b942-5f99-49b6-83f9-ed94a4389cc1",
   "metadata": {},
   "source": [
    "### 19. ALTER TABLE"
   ]
  },
  {
   "cell_type": "markdown",
   "id": "d1701bd3-46af-455e-932a-d1109b34f582",
   "metadata": {},
   "source": [
    "The ALTER TABLE statement can be used to modify properties of the table and its columns (not actual cell values). For example, changing column names, adding new columns, dropping them or changing their data type. "
   ]
  },
  {
   "cell_type": "markdown",
   "id": "80cf53f7-e16a-409c-b586-e0e94eaaa8b4",
   "metadata": {
    "jp-MarkdownHeadingCollapsed": true,
    "tags": []
   },
   "source": [
    "```SQL\n",
    "ALTER TABLE films\n",
    "DROP COLUMN release_date;\n",
    "```"
   ]
  },
  {
   "cell_type": "markdown",
   "id": "e162e3f7-3262-4cd0-86d0-c406ac81e171",
   "metadata": {
    "jp-MarkdownHeadingCollapsed": true,
    "tags": []
   },
   "source": [
    "```SQL\n",
    "ALTER TABLE films\n",
    "ADD COLUMN age_rating;\n",
    "```"
   ]
  },
  {
   "cell_type": "markdown",
   "id": "33080322-0fe5-4540-b03b-413727a30417",
   "metadata": {},
   "source": [
    "### 20. CREATE TABLE"
   ]
  },
  {
   "cell_type": "markdown",
   "id": "d76f455c-583b-414c-9a9c-ed266500b94d",
   "metadata": {},
   "source": [
    "CREATE TABLE creates a new table in a database. Below, we are creating a \"libraries\" table with 4 columns - id, name, version, num_downloads:"
   ]
  },
  {
   "cell_type": "markdown",
   "id": "97bd114a-74f9-4bf8-9b51-93b4ceb937c6",
   "metadata": {
    "jp-MarkdownHeadingCollapsed": true,
    "tags": []
   },
   "source": [
    "```SQL\n",
    "CREATE TABLE libraries (\n",
    "    lib_id int,\n",
    "    name varchar(100),\n",
    "    version varchar(100),\n",
    "    num_downloads int\n",
    ")\n",
    "```"
   ]
  },
  {
   "cell_type": "markdown",
   "id": "a847392d-0fed-4da0-9b52-d827f764a15b",
   "metadata": {},
   "source": [
    "After the CREATE TABLE statement, you specify the column names and their data type. `int` and `varchar(100)` are special SQL data type that represent integers and strings (with length specified)."
   ]
  },
  {
   "cell_type": "markdown",
   "id": "74e9b59d-4dc5-499e-af1b-2203abd12ef6",
   "metadata": {},
   "source": [
    "### 21. INNER JOIN"
   ]
  },
  {
   "cell_type": "markdown",
   "id": "86231d46-be98-4f5f-be30-36b81c6d2c6e",
   "metadata": {},
   "source": [
    "The INNER JOIN command selects rows that have matching values in both tables. For example, in the query below, we are joining two tables on a common release_date column which returns films and soundtracks that were released in the same years:"
   ]
  },
  {
   "cell_type": "markdown",
   "id": "e21d7fed-7a16-41c2-97f3-ab212d83aa4b",
   "metadata": {
    "jp-MarkdownHeadingCollapsed": true,
    "tags": []
   },
   "source": [
    "```SQL\n",
    "SELECT *\n",
    "FROM films\n",
    "INNER JOIN soundtracks\n",
    "ON films.release_date = soundtracks.release_date\n",
    "LIMIT 10;\n",
    "```"
   ]
  },
  {
   "cell_type": "markdown",
   "id": "0ce327f5-01df-4d46-bc49-adc6d0f6c9a5",
   "metadata": {},
   "source": [
    "### 22. LEFT JOIN"
   ]
  },
  {
   "cell_type": "markdown",
   "id": "50bb5245-741c-43e4-8cb6-faa2c8999fee",
   "metadata": {},
   "source": [
    "LEFT JOIN is an extension of an INNER JOIN that selects matching rows in both tables and the unmatching rows in the LEFT table:"
   ]
  },
  {
   "cell_type": "markdown",
   "id": "d4fe7635-c3d1-4e39-adfb-cfc4d3559d4e",
   "metadata": {
    "jp-MarkdownHeadingCollapsed": true,
    "tags": []
   },
   "source": [
    "```SQL\n",
    "SELECT *\n",
    "FROM films\n",
    "LEFT JOIN soundtracks\n",
    "ON films.release_date = soundtracks.release_date\n",
    "LIMIT 10;\n",
    "```"
   ]
  },
  {
   "cell_type": "markdown",
   "id": "63283e9e-755b-48bc-badf-f6176c356612",
   "metadata": {},
   "source": [
    "### 23. RIGHT JOIN"
   ]
  },
  {
   "cell_type": "markdown",
   "id": "276c8014-13d9-4a85-b538-54f29853b693",
   "metadata": {},
   "source": [
    "RIGHT JOIN is an extension of an INNER JOIN that selects matching rows in both tables and the unmatching rows in the RIGHT table:"
   ]
  },
  {
   "cell_type": "markdown",
   "id": "7627eb68-32eb-4a33-8b7d-37ee33a30a05",
   "metadata": {
    "jp-MarkdownHeadingCollapsed": true,
    "tags": []
   },
   "source": [
    "```SQL\n",
    "SELECT *\n",
    "FROM films\n",
    "LEFT JOIN soundtracks\n",
    "ON films.release_date = soundtracks.release_date\n",
    "LIMIT 10;\n",
    "```"
   ]
  },
  {
   "cell_type": "markdown",
   "id": "c32d1c30-6de2-41fb-9847-76f6a5d440e1",
   "metadata": {},
   "source": [
    "### 24. HAVING"
   ]
  },
  {
   "cell_type": "markdown",
   "id": "a09ee949-e90e-4266-a830-96fc91f63552",
   "metadata": {},
   "source": [
    "HAVING clause is similar to WHERE clause but it can only be used with aggregate functions while WHERE can't. For example, in the below query, we are choosing all the movie genres that have at least 50 movies in their category:"
   ]
  },
  {
   "cell_type": "markdown",
   "id": "463d619f-0992-406b-8608-780882f42a64",
   "metadata": {},
   "source": [
    "```SQL\n",
    "SELECT movie_name, director, release_date, COUNT(genre)\n",
    "FROM films\n",
    "GROUP BY genre\n",
    "HAVING COUNT(genre) >= 50;\n",
    "```"
   ]
  },
  {
   "cell_type": "markdown",
   "id": "3e8983f9-5253-44a4-a96a-2300656ff4fd",
   "metadata": {},
   "source": [
    "Here is another example that groups films by age rating and only chooses the ratings with average revenue over 100 million:"
   ]
  },
  {
   "cell_type": "markdown",
   "id": "064c3998-7457-4559-8b8c-0c9ba2d39eb5",
   "metadata": {},
   "source": [
    "```SQL\n",
    "SELECT movie_name, director, release_date, revenue\n",
    "FROM films\n",
    "GROUP BY age_rating\n",
    "HAVING AVERAGE(genre) >= 100;\n",
    "```"
   ]
  },
  {
   "cell_type": "markdown",
   "id": "e7e71321-31aa-440c-af56-9d9f63636d05",
   "metadata": {},
   "source": [
    "### 24. INSERT INTO"
   ]
  },
  {
   "cell_type": "markdown",
   "id": "f80ab57b-3eb6-4fca-946e-426af6d11ce4",
   "metadata": {},
   "source": [
    "INSERT INTO statement can be used to add new rows to a table. Here is how to add a new movie to the films dataset:"
   ]
  },
  {
   "cell_type": "markdown",
   "id": "86521f4b-49f6-4f88-aba9-101add77e47d",
   "metadata": {
    "jp-MarkdownHeadingCollapsed": true,
    "tags": []
   },
   "source": [
    "```SQL\n",
    "INSERT INTO films (movie_name, release_date, rating)\n",
    "VALUES (\"Doctor Strange 2\", 2022, 7)\n",
    "```"
   ]
  },
  {
   "cell_type": "markdown",
   "id": "27d9a94a-7d2d-4883-89d0-d29447fee65f",
   "metadata": {},
   "source": [
    "The above query only adds values to movie_name, release_date and rating columns. The rest of the columns for that row will be NULL. If you want to add values to all columns, you don't have to specify each column name. But, don't mix the order of the columns while providing values."
   ]
  },
  {
   "cell_type": "markdown",
   "id": "4ff4e42c-0db0-457a-a997-628b00a0640f",
   "metadata": {
    "tags": []
   },
   "source": [
    "## SQL Commands Cheat Sheet"
   ]
  },
  {
   "cell_type": "markdown",
   "id": "7bac9cd4-4a57-45e4-ab42-066df8207307",
   "metadata": {},
   "source": [
    "If you want an even shorter version of this article, use the [following excellent cheat sheet](https://www.datacamp.com/cheat-sheet/sql-basics-cheat-sheet)."
   ]
  }
 ],
 "metadata": {
  "kernelspec": {
   "display_name": "articles",
   "language": "python",
   "name": "articles"
  },
  "language_info": {
   "codemirror_mode": {
    "name": "ipython",
    "version": 3
   },
   "file_extension": ".py",
   "mimetype": "text/x-python",
   "name": "python",
   "nbconvert_exporter": "python",
   "pygments_lexer": "ipython3",
   "version": "3.9.12"
  }
 },
 "nbformat": 4,
 "nbformat_minor": 5
}
