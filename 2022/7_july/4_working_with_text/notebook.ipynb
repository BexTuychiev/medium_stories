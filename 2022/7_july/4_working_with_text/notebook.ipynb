{
 "cells": [
  {
   "cell_type": "markdown",
   "id": "a97adbc4-6fcc-4ab8-9787-a6885ff5b873",
   "metadata": {},
   "source": [
    "# Cheat Sheet: Working with text data in Python"
   ]
  },
  {
   "cell_type": "markdown",
   "id": "cb988877-1368-4ab5-99da-6fef4aacf704",
   "metadata": {},
   "source": [
    "## Example data"
   ]
  },
  {
   "cell_type": "code",
   "execution_count": 26,
   "id": "47650628-83f6-4162-b71e-4dab9d58484a",
   "metadata": {},
   "outputs": [],
   "source": [
    "import pandas as pd\n",
    "\n",
    "suits = pd.Series([\"clubs\", \"Diamonds\", \"hearts\", \"Spades\"])\n",
    "dirty = pd.Series([\"rock \", \"  paper\", \"scissors\"])"
   ]
  },
  {
   "cell_type": "markdown",
   "id": "9351485e-164a-44cb-b520-178a77f40ba3",
   "metadata": {},
   "source": [
    "## String lengths and substrings"
   ]
  },
  {
   "cell_type": "markdown",
   "id": "8d2d3318-07b6-47ae-91e4-1a9c3c5e749a",
   "metadata": {},
   "source": [
    "#### Get the number of characters (code points) in a string with .str.len() "
   ]
  },
  {
   "cell_type": "code",
   "execution_count": 27,
   "id": "f606085b-023e-40b0-8edf-77b93adca592",
   "metadata": {},
   "outputs": [
    {
     "data": {
      "text/plain": [
       "0    5\n",
       "1    8\n",
       "2    6\n",
       "3    6\n",
       "dtype: int64"
      ]
     },
     "execution_count": 27,
     "metadata": {},
     "output_type": "execute_result"
    }
   ],
   "source": [
    "suits.str.len()"
   ]
  },
  {
   "cell_type": "markdown",
   "id": "64fb8f97-0692-4dfb-be60-922f112f6ad8",
   "metadata": {},
   "source": [
    "#### Take a substring by position with .str[]"
   ]
  },
  {
   "cell_type": "code",
   "execution_count": 28,
   "id": "23d150fa-fc3a-4959-a789-a55a4743bc6d",
   "metadata": {},
   "outputs": [
    {
     "data": {
      "text/plain": [
       "0    ubs\n",
       "1    amo\n",
       "2    art\n",
       "3    ade\n",
       "dtype: object"
      ]
     },
     "execution_count": 28,
     "metadata": {},
     "output_type": "execute_result"
    }
   ],
   "source": [
    "suits.str[2:5]"
   ]
  },
  {
   "cell_type": "markdown",
   "id": "4459214c-76e5-47d1-a98e-a8d25e665f71",
   "metadata": {},
   "source": [
    "#### Take a substring by negative position with .str[]"
   ]
  },
  {
   "cell_type": "code",
   "execution_count": 29,
   "id": "b93c57d4-6ecc-4f9b-bf45-2465f7b7ab39",
   "metadata": {},
   "outputs": [
    {
     "data": {
      "text/plain": [
       "0       cl\n",
       "1    Diamo\n",
       "2      hea\n",
       "3      Spa\n",
       "dtype: object"
      ]
     },
     "execution_count": 29,
     "metadata": {},
     "output_type": "execute_result"
    }
   ],
   "source": [
    "suits.str[:-3]"
   ]
  },
  {
   "cell_type": "markdown",
   "id": "60a5da0b-de0e-413f-8e4b-4261714ae529",
   "metadata": {},
   "source": [
    "#### Trim whitespace from the start and end of a string with .str.strip()"
   ]
  },
  {
   "cell_type": "code",
   "execution_count": 30,
   "id": "91a4668e-7789-4734-89ee-b95ad69b83d6",
   "metadata": {},
   "outputs": [
    {
     "data": {
      "text/plain": [
       "0        rock\n",
       "1       paper\n",
       "2    scissors\n",
       "dtype: object"
      ]
     },
     "execution_count": 30,
     "metadata": {},
     "output_type": "execute_result"
    }
   ],
   "source": [
    "dirty.str.strip()"
   ]
  },
  {
   "cell_type": "markdown",
   "id": "d2d2c7cc-508c-4245-b5f6-39f1bff86628",
   "metadata": {},
   "source": [
    "#### Pad strings to a given length with .:str.pad()"
   ]
  },
  {
   "cell_type": "code",
   "execution_count": 31,
   "id": "1146508e-681c-43d0-a459-79882e4db3ed",
   "metadata": {},
   "outputs": [
    {
     "data": {
      "text/plain": [
       "0    clubs_____\n",
       "1    Diamonds__\n",
       "2    hearts____\n",
       "3    Spades____\n",
       "dtype: object"
      ]
     },
     "execution_count": 31,
     "metadata": {},
     "output_type": "execute_result"
    }
   ],
   "source": [
    "suits.str.pad(10, fillchar=\"_\", side=\"right\")"
   ]
  },
  {
   "cell_type": "markdown",
   "id": "bc46d867-2980-40e1-a7ca-a9fed540f48d",
   "metadata": {},
   "source": [
    "## Changing case"
   ]
  },
  {
   "cell_type": "markdown",
   "id": "3bb08599-79b4-45eb-9de8-d2438c0eac3c",
   "metadata": {},
   "source": [
    "#### Converting to lower case with .str.lower()"
   ]
  },
  {
   "cell_type": "code",
   "execution_count": 32,
   "id": "5ed1efa7-f0e6-464d-ac18-69ff287a28c8",
   "metadata": {},
   "outputs": [
    {
     "data": {
      "text/plain": [
       "0       clubs\n",
       "1    diamonds\n",
       "2      hearts\n",
       "3      spades\n",
       "dtype: object"
      ]
     },
     "execution_count": 32,
     "metadata": {},
     "output_type": "execute_result"
    }
   ],
   "source": [
    "suits.str.lower()"
   ]
  },
  {
   "cell_type": "markdown",
   "id": "dc3495d2-eea5-4a5a-a914-736d45d3e611",
   "metadata": {},
   "source": [
    "#### Converting to upper case with .str.upper()"
   ]
  },
  {
   "cell_type": "code",
   "execution_count": 33,
   "id": "97cddc1a-adb9-4745-ac2c-a0c586aaaf46",
   "metadata": {},
   "outputs": [
    {
     "data": {
      "text/plain": [
       "0       CLUBS\n",
       "1    DIAMONDS\n",
       "2      HEARTS\n",
       "3      SPADES\n",
       "dtype: object"
      ]
     },
     "execution_count": 33,
     "metadata": {},
     "output_type": "execute_result"
    }
   ],
   "source": [
    "suits.str.upper()"
   ]
  },
  {
   "cell_type": "markdown",
   "id": "ebeb9bda-b4c2-4caf-9ced-f9400f4a8d62",
   "metadata": {},
   "source": [
    "#### Converting to title case with.str.title()"
   ]
  },
  {
   "cell_type": "code",
   "execution_count": 34,
   "id": "75f27dde-525f-4aad-aed5-a0f2b4a25f5e",
   "metadata": {},
   "outputs": [
    {
     "data": {
      "text/plain": [
       "0       Clubs\n",
       "1    Diamonds\n",
       "2      Hearts\n",
       "3      Spades\n",
       "dtype: object"
      ]
     },
     "execution_count": 34,
     "metadata": {},
     "output_type": "execute_result"
    }
   ],
   "source": [
    "suits.str.title()"
   ]
  },
  {
   "cell_type": "markdown",
   "id": "12672a96-c9b3-4b23-b7ab-47e7d6db459f",
   "metadata": {},
   "source": [
    "#### Converting to sentence case with .str.captialize()"
   ]
  },
  {
   "cell_type": "code",
   "execution_count": 35,
   "id": "4dd5c755-6384-415c-a8c6-907e75a8d48f",
   "metadata": {},
   "outputs": [
    {
     "data": {
      "text/plain": [
       "0       Clubs\n",
       "1    Diamonds\n",
       "2      Hearts\n",
       "3      Spades\n",
       "dtype: object"
      ]
     },
     "execution_count": 35,
     "metadata": {},
     "output_type": "execute_result"
    }
   ],
   "source": [
    "suits.str.capitalize()"
   ]
  },
  {
   "cell_type": "markdown",
   "id": "6dcd1b9f-893f-4da6-b48f-0d1ba478086f",
   "metadata": {},
   "source": [
    "## Formatting strings"
   ]
  },
  {
   "cell_type": "markdown",
   "id": "c4c70b12-839a-44fa-a3d9-99569903949a",
   "metadata": {},
   "source": [
    "#### Formatting numbers with .style.format()"
   ]
  },
  {
   "cell_type": "code",
   "execution_count": 8,
   "id": "ee4fa148-c59c-4d80-bee4-003f22c48135",
   "metadata": {},
   "outputs": [
    {
     "name": "stdout",
     "output_type": "stream",
     "text": [
      "         f1        f2        f3\n",
      "0  0.299888  0.375619  0.185181\n",
      "1  0.543743  0.272028  0.635070\n",
      "2  0.465982  0.414964  0.727664\n"
     ]
    }
   ],
   "source": [
    "import numpy as np\n",
    "import pandas as pd\n",
    "\n",
    "nums = np.random.rand(3, 3)\n",
    "df = pd.DataFrame(nums, columns=[\"f1\", \"f2\", \"f3\"])\n",
    "print(df)"
   ]
  },
  {
   "cell_type": "code",
   "execution_count": 11,
   "id": "45c0a9b6-38a5-4672-a43c-7e9d9a53d205",
   "metadata": {},
   "outputs": [
    {
     "data": {
      "text/html": [
       "<style type=\"text/css\">\n",
       "</style>\n",
       "<table id=\"T_1c29f\">\n",
       "  <thead>\n",
       "    <tr>\n",
       "      <th class=\"blank level0\" >&nbsp;</th>\n",
       "      <th id=\"T_1c29f_level0_col0\" class=\"col_heading level0 col0\" >f1</th>\n",
       "      <th id=\"T_1c29f_level0_col1\" class=\"col_heading level0 col1\" >f2</th>\n",
       "      <th id=\"T_1c29f_level0_col2\" class=\"col_heading level0 col2\" >f3</th>\n",
       "    </tr>\n",
       "  </thead>\n",
       "  <tbody>\n",
       "    <tr>\n",
       "      <th id=\"T_1c29f_level0_row0\" class=\"row_heading level0 row0\" >0</th>\n",
       "      <td id=\"T_1c29f_row0_col0\" class=\"data row0 col0\" >0.3</td>\n",
       "      <td id=\"T_1c29f_row0_col1\" class=\"data row0 col1\" >0.4</td>\n",
       "      <td id=\"T_1c29f_row0_col2\" class=\"data row0 col2\" >0.2</td>\n",
       "    </tr>\n",
       "    <tr>\n",
       "      <th id=\"T_1c29f_level0_row1\" class=\"row_heading level0 row1\" >1</th>\n",
       "      <td id=\"T_1c29f_row1_col0\" class=\"data row1 col0\" >0.5</td>\n",
       "      <td id=\"T_1c29f_row1_col1\" class=\"data row1 col1\" >0.3</td>\n",
       "      <td id=\"T_1c29f_row1_col2\" class=\"data row1 col2\" >0.6</td>\n",
       "    </tr>\n",
       "    <tr>\n",
       "      <th id=\"T_1c29f_level0_row2\" class=\"row_heading level0 row2\" >2</th>\n",
       "      <td id=\"T_1c29f_row2_col0\" class=\"data row2 col0\" >0.5</td>\n",
       "      <td id=\"T_1c29f_row2_col1\" class=\"data row2 col1\" >0.4</td>\n",
       "      <td id=\"T_1c29f_row2_col2\" class=\"data row2 col2\" >0.7</td>\n",
       "    </tr>\n",
       "  </tbody>\n",
       "</table>\n"
      ],
      "text/plain": [
       "<pandas.io.formats.style.Styler at 0x147d8338460>"
      ]
     },
     "execution_count": 11,
     "metadata": {},
     "output_type": "execute_result"
    }
   ],
   "source": [
    "df.style.format(precision=1)"
   ]
  },
  {
   "cell_type": "markdown",
   "id": "b877f90b-1cf4-400d-a460-c7d12d2f8c13",
   "metadata": {},
   "source": [
    "## Splitting strings"
   ]
  },
  {
   "cell_type": "markdown",
   "id": "81afa173-d916-4edd-9f00-fa76c262b269",
   "metadata": {},
   "source": [
    "#### Splitting strings by a separator with .str.split()"
   ]
  },
  {
   "cell_type": "code",
   "execution_count": 16,
   "id": "f563c232-5992-4267-8afd-256b1ed07bba",
   "metadata": {},
   "outputs": [],
   "source": [
    "answers = [\"cat, rat, dog\", \"bunny, fly, tiger\", \"mice, shield, teach\"]\n",
    "answers = pd.Series(answers)"
   ]
  },
  {
   "cell_type": "code",
   "execution_count": 17,
   "id": "3a989ed0-45cc-4872-abb2-c6912d7a411e",
   "metadata": {},
   "outputs": [
    {
     "data": {
      "text/plain": [
       "0          [cat, rat, dog]\n",
       "1      [bunny, fly, tiger]\n",
       "2    [mice, shield, teach]\n",
       "dtype: object"
      ]
     },
     "execution_count": 17,
     "metadata": {},
     "output_type": "execute_result"
    }
   ],
   "source": [
    "answers.str.split(\", \")"
   ]
  },
  {
   "cell_type": "markdown",
   "id": "f62ef758-d54b-469c-8d76-428461a7a882",
   "metadata": {},
   "source": [
    "## Joining/concatenating strings"
   ]
  },
  {
   "cell_type": "markdown",
   "id": "4ac9ee0f-78f7-4491-8d55-83384bf4d818",
   "metadata": {},
   "source": [
    "#### Combining strings with +"
   ]
  },
  {
   "cell_type": "code",
   "execution_count": 21,
   "id": "266f1e20-0246-4a18-98bc-16be1e0c8a7d",
   "metadata": {},
   "outputs": [
    {
     "data": {
      "text/plain": [
       "\"Let's join\""
      ]
     },
     "execution_count": 21,
     "metadata": {},
     "output_type": "execute_result"
    }
   ],
   "source": [
    "\"Let\" + \"'s \" + \"join\""
   ]
  },
  {
   "cell_type": "markdown",
   "id": "0896154d-ade5-4bcb-86f5-b982bc5dad7d",
   "metadata": {},
   "source": [
    "#### Combining strings with a separator"
   ]
  },
  {
   "cell_type": "code",
   "execution_count": 23,
   "id": "10f0d5b2-5491-419c-92d8-e723ef0054ad",
   "metadata": {},
   "outputs": [
    {
     "data": {
      "text/plain": [
       "0    tomato, potato, onion\n",
       "1     chips, bread, butter\n",
       "dtype: object"
      ]
     },
     "execution_count": 23,
     "metadata": {},
     "output_type": "execute_result"
    }
   ],
   "source": [
    "groceries = [[\"tomato\", \"potato\", \"onion\"], [\"chips\", \"bread\", \"butter\"]]\n",
    "groceries = pd.Series(groceries)\n",
    "\n",
    "groceries.str.join(\", \")"
   ]
  },
  {
   "cell_type": "markdown",
   "id": "dbae1263-bd0b-408d-bc7c-203781fc304b",
   "metadata": {},
   "source": [
    "#### Collapsing strings with .str.cat()"
   ]
  },
  {
   "cell_type": "code",
   "execution_count": 25,
   "id": "dc86a41e-0a0a-4ac3-97eb-acde1f0788df",
   "metadata": {},
   "outputs": [
    {
     "data": {
      "text/plain": [
       "'fair good premium'"
      ]
     },
     "execution_count": 25,
     "metadata": {},
     "output_type": "execute_result"
    }
   ],
   "source": [
    "quality = pd.Series([\"fair\", \"good\", \"premium\"])\n",
    "\n",
    "quality.str.cat(sep=\" \")"
   ]
  },
  {
   "cell_type": "markdown",
   "id": "d0061346-6625-453d-93d7-78a7c42db938",
   "metadata": {},
   "source": [
    "#### Repeating strings with .str.repeat()"
   ]
  },
  {
   "cell_type": "code",
   "execution_count": 26,
   "id": "3ce644f8-e45e-464b-8b9b-65c34b8d3552",
   "metadata": {},
   "outputs": [
    {
     "data": {
      "text/plain": [
       "0    xx\n",
       "1    yy\n",
       "2    zz\n",
       "dtype: object"
      ]
     },
     "execution_count": 26,
     "metadata": {},
     "output_type": "execute_result"
    }
   ],
   "source": [
    "s = pd.Series([\"x\", \"y\", \"z\"])\n",
    "\n",
    "s.str.repeat(repeats=2)"
   ]
  },
  {
   "cell_type": "code",
   "execution_count": 27,
   "id": "d952027d-cb39-4095-bbd1-4dd0daa10bcf",
   "metadata": {},
   "outputs": [
    {
     "data": {
      "text/plain": [
       "0    xxx\n",
       "1     yy\n",
       "2      z\n",
       "dtype: object"
      ]
     },
     "execution_count": 27,
     "metadata": {},
     "output_type": "execute_result"
    }
   ],
   "source": [
    "s.str.repeat(repeats=[3, 2, 1])"
   ]
  },
  {
   "cell_type": "markdown",
   "id": "c4c53d00-cba0-4c98-a312-585cc2661752",
   "metadata": {},
   "source": [
    "## Detecting matches"
   ]
  },
  {
   "cell_type": "code",
   "execution_count": 37,
   "id": "829acbf6-2bc8-49ac-a85a-a53360f7abd7",
   "metadata": {},
   "outputs": [],
   "source": [
    "actions = pd.Series([\"hanging1\", \"bringing\", \"2claning\"])"
   ]
  },
  {
   "cell_type": "markdown",
   "id": "3b619cd1-0c1b-45ae-88ed-a448c8648ec2",
   "metadata": {},
   "source": [
    "#### Detecting if a string contains a match of a regular expression with .str.contains()"
   ]
  },
  {
   "cell_type": "code",
   "execution_count": 38,
   "id": "df08dcdf-668e-406d-82bc-487bdd670504",
   "metadata": {},
   "outputs": [
    {
     "data": {
      "text/plain": [
       "0     True\n",
       "1    False\n",
       "2     True\n",
       "dtype: bool"
      ]
     },
     "execution_count": 38,
     "metadata": {},
     "output_type": "execute_result"
    }
   ],
   "source": [
    "actions.str.contains(pat=\"\\\\d\", regex=True)"
   ]
  },
  {
   "cell_type": "markdown",
   "id": "9e0109c6-ff91-433e-adf8-1531c41491cd",
   "metadata": {},
   "source": [
    "#### Finding first index of strings that match a regular expression with .str.find()"
   ]
  },
  {
   "cell_type": "code",
   "execution_count": 39,
   "id": "533f69cd-1343-4bd3-87b9-9753167459a6",
   "metadata": {},
   "outputs": [
    {
     "data": {
      "text/plain": [
       "0    2\n",
       "1    3\n",
       "2    6\n",
       "dtype: int64"
      ]
     },
     "execution_count": 39,
     "metadata": {},
     "output_type": "execute_result"
    }
   ],
   "source": [
    "actions.str.find(\"ng\")"
   ]
  },
  {
   "cell_type": "markdown",
   "id": "82955173-3c03-4fed-b4ff-34bda0a3c6e5",
   "metadata": {},
   "source": [
    "#### Finding last index of strings that match a regular expression with .str.rfind()"
   ]
  },
  {
   "cell_type": "code",
   "execution_count": 40,
   "id": "fd4b7c5c-f390-42a0-a0b6-2c2903252c79",
   "metadata": {},
   "outputs": [
    {
     "data": {
      "text/plain": [
       "0    5\n",
       "1    6\n",
       "2    6\n",
       "dtype: int64"
      ]
     },
     "execution_count": 40,
     "metadata": {},
     "output_type": "execute_result"
    }
   ],
   "source": [
    "actions.str.rfind(\"ng\")"
   ]
  },
  {
   "cell_type": "markdown",
   "id": "a86dae17-74b1-44ca-bcee-1f6ddeba2300",
   "metadata": {},
   "source": [
    "#### Counting the number of matches to a regex with .str.count()"
   ]
  },
  {
   "cell_type": "code",
   "execution_count": 41,
   "id": "bf0da66d-9845-40ea-ac52-a8352253fa5b",
   "metadata": {},
   "outputs": [
    {
     "data": {
      "text/plain": [
       "0    2\n",
       "1    2\n",
       "2    1\n",
       "dtype: int64"
      ]
     },
     "execution_count": 41,
     "metadata": {},
     "output_type": "execute_result"
    }
   ],
   "source": [
    "actions.str.count(pat=\"ng\")"
   ]
  },
  {
   "cell_type": "markdown",
   "id": "8a9a3e1e-e391-4c25-a543-bc95ec0f7d0a",
   "metadata": {},
   "source": [
    "## Extracting matches"
   ]
  },
  {
   "cell_type": "code",
   "execution_count": null,
   "id": "b9d34e90-5ad9-4d58-af98-df156a125b28",
   "metadata": {},
   "outputs": [],
   "source": []
  },
  {
   "cell_type": "markdown",
   "id": "cc41dd9a-8b80-4cef-97a2-b4cc398394dd",
   "metadata": {},
   "source": [
    "## Replacing matches"
   ]
  }
 ],
 "metadata": {
  "kernelspec": {
   "display_name": "articles",
   "language": "python",
   "name": "articles"
  },
  "language_info": {
   "codemirror_mode": {
    "name": "ipython",
    "version": 3
   },
   "file_extension": ".py",
   "mimetype": "text/x-python",
   "name": "python",
   "nbconvert_exporter": "python",
   "pygments_lexer": "ipython3",
   "version": "3.9.12"
  }
 },
 "nbformat": 4,
 "nbformat_minor": 5
}
