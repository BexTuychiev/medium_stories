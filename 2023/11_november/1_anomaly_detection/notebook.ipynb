{
 "cells": [
  {
   "cell_type": "markdown",
   "id": "a6dda2ef-5de5-4215-83c6-095eda4eb11d",
   "metadata": {},
   "source": [
    "# What is Anomaly Detection? Methods, Examples, and Applications"
   ]
  },
  {
   "cell_type": "markdown",
   "id": "06dc61d5-01c4-4b34-905a-5db061b68bd6",
   "metadata": {},
   "source": [
    "## Outline"
   ]
  },
  {
   "cell_type": "markdown",
   "id": "0dffbd3c-605d-4124-b996-a4ccd0088faf",
   "metadata": {},
   "source": [
    "1. Introduction\n",
    "2. What is Anomaly Detection?\n",
    "    1. Definition and context\n",
    "    2. Importance in data science\n",
    "3. Real-world Applications of Anomaly Detection\n",
    "4. Types of Anomalies\n",
    "5. Anomaly detection methods and when to use each one\n",
    "6. Building an anomaly detection model\n",
    "7. Challenges and Limitations in Anomaly Detection\n",
    "8. Conclusion"
   ]
  },
  {
   "cell_type": "markdown",
   "id": "0277f8ca-c0d8-49d7-98dc-73ef76063f9f",
   "metadata": {},
   "source": [
    "### Introduction"
   ]
  },
  {
   "cell_type": "markdown",
   "id": "f011b0c9-a68a-4d3e-a86f-590008a58fd1",
   "metadata": {},
   "source": [
    "Everyone loves to stand out, to be different. But, that's not the quality you want in your data points if you are a data scientists. Divergent data points or _anomalies_ in a dataset, are one of the most dangerous data quality issues that plague almost all data science projects. \n",
    "\n",
    "This last sentence may surprise you if you have only been working on polished open-source datasets that often come without outliers. But real-world datasets always feature some amount of samples different from the norm. It is your job to detect and deal with them appropriately. \n",
    "\n",
    "In this article, you will learn the fundamental ideas of this process, often called anomaly detection:\n",
    "\n",
    "1. The detrimental effect anomalies have on your project.\n",
    "2. The importance of detecting anomalies.\n",
    "3. Real-world applications of anomaly detection.\n",
    "4. The difference between anomalies, outliers and novelties.\n",
    "5. Types of anomalies and anomaly detection methods.\n",
    "6. How to build anomaly detection algorithms in Python.\n",
    "7. How to deal with the challenges of anomaly detection. \n",
    "\n",
    "By the end, you will have all it takes to go deep into the world of anomalies and FILL IN LATER."
   ]
  },
  {
   "cell_type": "markdown",
   "id": "e084ecbd-85e5-4a8e-ac3b-edb423b02d5c",
   "metadata": {},
   "source": [
    "### What is Anomaly Detection?"
   ]
  },
  {
   "cell_type": "markdown",
   "id": "52faac7f-ef95-465e-be63-645ab29e87eb",
   "metadata": {},
   "source": [
    "Anomaly detection, often referred to as outlier detection, is a process of finding patterns or instances in a dataset that deviate significantly from the expected or \"normal behavior\".\n",
    "\n",
    "\"Normal behavior\" and thus, the divergent instances (outliers) significantly vary depending on the context. Below are a few example.\n",
    "\n",
    "Anomaly detection, often referred to as outlier detection, is a process of finding patterns or instances in a dataset that deviate significantly from the expected or \"normal behavior\". \n",
    "\n",
    "\"Normal behavior\" and thus, the divergent instances (outliers) vary depending on the context. Here are a few examples:\n",
    "\n",
    "##### 1. Financial transactions\n",
    "__Normal__: Routine purchases and consistent spending by an individual in London.\n",
    "\n",
    "__Outlier__: A massive withdrawal from Ireland from the same account, hinting at potential fraud.\n",
    "\n",
    "##### 2. Network traffic in cybersecurity\n",
    "__Normal__: Regular communication, steady data transfer, and adherence to protocol.\n",
    "\n",
    "__Outlier__: Abrupt increase in data transfer or use of unknown protocols signaling a potential breach or malware.\n",
    "\n",
    "##### 3. Patient vital signs monitoring\n",
    "__Normal__: Stable heart rate and consistent blood pressure\n",
    "\n",
    "__Outlier__: Sudden increase in heart rate and decrease in blood pressure, indicating a potential emergency or equipment failure. \n",
    "\n",
    "Anomaly detection includes many types of unsupervised methods to identify divergent samples. Data specialists choose them based on anomaly type, the context, structure and characteristics of the dataset at hand. We'll cover them in the coming sections."
   ]
  },
  {
   "cell_type": "markdown",
   "id": "ec0c46f5-a942-4ae4-8a24-1cb24fa034e8",
   "metadata": {},
   "source": [
    "### Real-world applications of Anomaly Detection"
   ]
  },
  {
   "cell_type": "markdown",
   "id": "fc4e35e2-1675-4e0d-bbc2-c94cf8eb1ad0",
   "metadata": {},
   "source": [
    "Even though we saw some examples above, let's look at a real-life story how anomaly detection works in finance.\n",
    "\n",
    "Shaq O'Neal, four times NBA winner, gets traded from the Miami Heat to the Phoenix Suns. When Shaq arrives at the apartment provided by the Phoenix Suns, he finds that it is empty. Without waiting for his belongings to arrive from Miami, he goes to Walmart and makes the biggest purchase in Walmart history for 70.000$ to furnish his apartment. Or at least, he tries, because his card gets declined twice.\n",
    "\n",
    "As he wonders what possibly could be the problem (he _can't_ be broke!) at 2 am in the morning, American Express security calls him, all out of breath, and tells him that his card was stolen because somebody was trying to make a 70.000$ purchase at Walmart in Phoenix (watch [here](https://www.youtube.com/watch?v=1W3A2hQhdg4&ab_channel=TheLateLateShowwithJamesCorden)). \n",
    "\n",
    "There are so many other real-world applications of anomaly detection beyond finance and fraud detection:\n",
    "\n",
    "- Cybersecurity\n",
    "- Healthcare\n",
    "- Industrial equipment monitoring\n",
    "- Network intrusion detection\n",
    "- Energy grid monitoring\n",
    "- E-commerce and user behavior analysis\n",
    "- Quality control in manufacturing\n",
    "\n",
    "and so on. "
   ]
  },
  {
   "cell_type": "markdown",
   "id": "121c427e-7e01-498a-9ddd-77ebb79788fc",
   "metadata": {
    "tags": []
   },
   "source": [
    "### Types of Anomalies"
   ]
  },
  {
   "cell_type": "markdown",
   "id": "5388264b-a77b-4857-986d-4f6e7a336ccb",
   "metadata": {},
   "source": [
    "Anomaly detection encompasses two broad practices: outlier detection and novelty detection. \n",
    "\n",
    "Outliers are abnormal or extreme data points that exist only in training data. In contrast, novelties refer to new or previously unseen instances in the original (training) data.\n",
    "\n",
    "For example, consider a dataset of daily temperatures in a city. Most days, the temperatures range between 20°C and 30°C. However, one day, there's a spike of 40°C. This extreme temperature is an outlier as it significantly deviates from the usual daily temperature range.\n",
    "\n",
    "Now, imagine that the city installs a new, more accurate weather monitoring station. As a result, the dataset starts consistently recording slightly higher temperatures, ranging from 25°C to 35°C. This sustained increase in temperatures is a __novelty__, representing a new pattern introduced by the improved monitoring system.\n",
    "\n",
    "Anomalies, on the other hand, is a broad term that refers to both outliers and novelties. It can be used to define any abnormal instance in any context."
   ]
  },
  {
   "cell_type": "markdown",
   "id": "8d25f330-f2dc-442b-9585-95a356ae7d07",
   "metadata": {
    "tags": []
   },
   "source": [
    "### Anomaly Detection Methods And When to Use Each One"
   ]
  },
  {
   "cell_type": "markdown",
   "id": "c0f4e960-4b7d-447c-85b9-ad97f00a2dd9",
   "metadata": {
    "tags": []
   },
   "source": [
    "### Building an anomaly detection model in Python\n"
   ]
  },
  {
   "cell_type": "markdown",
   "id": "82115b2d-c7de-4acb-bd31-8c8d8a59cc1a",
   "metadata": {},
   "source": [
    "### Challenges in Anomaly Detection"
   ]
  },
  {
   "cell_type": "markdown",
   "id": "19604f03-2d25-47b2-8225-df226cacc328",
   "metadata": {},
   "source": [
    "### Conclusion"
   ]
  }
 ],
 "metadata": {
  "kernelspec": {
   "display_name": "articles",
   "language": "python",
   "name": "articles"
  },
  "language_info": {
   "codemirror_mode": {
    "name": "ipython",
    "version": 3
   },
   "file_extension": ".py",
   "mimetype": "text/x-python",
   "name": "python",
   "nbconvert_exporter": "python",
   "pygments_lexer": "ipython3",
   "version": "3.9.13"
  }
 },
 "nbformat": 4,
 "nbformat_minor": 5
}
