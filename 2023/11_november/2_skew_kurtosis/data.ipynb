{
 "cells": [
  {
   "cell_type": "markdown",
   "id": "41714f11-898f-46e5-9443-a1af880be7b5",
   "metadata": {},
   "source": [
    "### Left-skewed distribution"
   ]
  },
  {
   "cell_type": "markdown",
   "id": "deebeba0-00a9-4d72-9294-b46998f4ee6d",
   "metadata": {},
   "source": [
    "### Right-skewed distribution"
   ]
  },
  {
   "cell_type": "markdown",
   "id": "d4925d03-77bb-42de-8db0-ed338f2cb471",
   "metadata": {},
   "source": [
    "### "
   ]
  }
 ],
 "metadata": {
  "kernelspec": {
   "display_name": "articles",
   "language": "python",
   "name": "articles"
  },
  "language_info": {
   "codemirror_mode": {
    "name": "ipython",
    "version": 3
   },
   "file_extension": ".py",
   "mimetype": "text/x-python",
   "name": "python",
   "nbconvert_exporter": "python",
   "pygments_lexer": "ipython3",
   "version": "3.9.13"
  }
 },
 "nbformat": 4,
 "nbformat_minor": 5
}
