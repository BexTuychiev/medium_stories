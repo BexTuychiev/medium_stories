{
 "cells": [
  {
   "cell_type": "markdown",
   "id": "4b599ae5-c453-4807-b4d1-89a683cd663c",
   "metadata": {},
   "source": [
    "# Skewness and kurtosis tutorial"
   ]
  },
  {
   "cell_type": "markdown",
   "id": "1ee90cda-298f-4e5e-917c-3ca777997304",
   "metadata": {
    "jp-MarkdownHeadingCollapsed": true,
    "jupyter": {
     "source_hidden": true
    },
    "tags": []
   },
   "source": [
    "## Outline\n",
    "- Introduction\n",
    "    - Provide a brief introduction to the importance of understanding data distributions in data science.\n",
    "    - Explain how skewness and kurtosis are key statistical measures to evaluate the shape of data.\n",
    "    - Introduce the goal of the tutorial: to help beginners grasp the concepts of skewness and kurtosis.\n",
    "- What is Skewness?\n",
    "    - Define skewness and explain its significance in data analysis.\n",
    "    - Discuss how skewness measures the asymmetry in the data distribution.\n",
    "- Types of Skewness\n",
    "    - Explain the three types of skewness: positive skew, negative skew, and zero skew (symmetrical).\n",
    "    - Provide examples and real-world scenarios for each type.\n",
    "- Calculating Skewness\n",
    "    - Offer step-by-step instructions on how to calculate skewness manually. \n",
    "    - Introduce the skewness formula and provide examples for practice.\n",
    "- What is Kurtosis?\n",
    "    - Define kurtosis and its importance in characterizing data distributions.\n",
    "    - Discuss how kurtosis measures the tail behavior of data.\n",
    "- Types of Kurtosis\n",
    "    - Explain the three types of kurtosis: leptokurtic, mesokurtic, and platykurtic.\n",
    "    - Provide examples and real-world data representations for each type.\n",
    "- Calculating Kurtosis\n",
    "    - Describe the methods to calculate kurtosis manually.\n",
    "    - Introduce the kurtosis formula and walk through practical examples.\n",
    "- Interpreting Skewness and Kurtosis\n",
    "    - Guide readers on how to interpret skewness and kurtosis values.\n",
    "    - Explain how the results can be used to make data-driven decisions.\n",
    "- Real-World Applications\n",
    "    - Provide examples of real-world scenarios where understanding skewness and kurtosis is crucial.\n",
    "    - Discuss how these statistics are used in fields like finance, healthcare, and social sciences.\n",
    "- Skewness and Kurtosis in Python\n",
    "    - Introduction to Python Libraries\n",
    "        - Introduce popular Python libraries (e.g., NumPy, SciPy, and pandas) for calculating skewness and kurtosis.\n",
    "        - Explain how to import these libraries and their key functions.\n",
    "    - Practical Implementation\n",
    "        - Walk readers through Python code snippets for calculating skewness and kurtosis.\n",
    "        - Provide sample datasets and show how to apply these calculations.\n",
    "- Visualization of Skewness and Kurtosis\n",
    "    - Explain the importance of data visualization in data analysis.\n",
    "    - Introduce data visualization libraries such as Matplotlib and Seaborn.\n",
    "    - Creating Visualizations\n",
    "        - Provide guidance on creating histograms, box plots, and probability plots.\n",
    "        - Interpret the visualizations in the context of skewness and kurtosis.\n",
    "- Conclusion\n"
   ]
  },
  {
   "cell_type": "markdown",
   "id": "4cb2d17b-0ec3-4427-8a92-f624b6b90981",
   "metadata": {},
   "source": [
    "## Introduction"
   ]
  },
  {
   "cell_type": "markdown",
   "id": "7892eecd-349e-40bb-8fa5-2461bbdba66f",
   "metadata": {},
   "source": [
    "After collecting data and spending hours on cleaning it, you can finally start exploring it! This stage, often called Exploratory Data Analysis (EDA), is perhaps the most important step in a data project. The insights gained from EDA affects everything down the way.\n",
    "\n",
    "Fill in later, damn it!"
   ]
  },
  {
   "cell_type": "markdown",
   "id": "d736a89b-002f-4962-8310-c49ff1d88e53",
   "metadata": {},
   "source": [
    "## What is skewness?"
   ]
  },
  {
   "cell_type": "markdown",
   "id": "4724fb66-5e50-4b50-92d7-270b0416959b",
   "metadata": {},
   "source": [
    "We see normal distribution everywhere: human body measurements, weights of objects, IQ scores, test results or even at the gym:\n",
    "\n",
    "![](images/gym.jpeg)\n",
    "\n",
    "[Source](https://twitter.com/alvinfoo/status/1588664741211570176).\n",
    "\n",
    "Besides being nature's most favorite distribution, it is universally loved by almost all machine learning algorithms. While some want it to improve and stabilize their performance, some outright refuse to work well with anything other than normal distribution (I am talking to you, linear models). \n",
    "\n",
    "So, to satisfy the algorithms' need for normalcy, we need a way to measure how similar or (dissimilar) our own distributions are compared to the perfect bell-shaped curve."
   ]
  },
  {
   "cell_type": "markdown",
   "id": "66ae2851-12e9-452f-891d-609ac8f06066",
   "metadata": {},
   "source": [
    "CREATE AN IMAGE THAT SHOWS NORMAL, SKEWED AND KURTOSIS DISTRIBUTIONS"
   ]
  },
  {
   "cell_type": "markdown",
   "id": "7f76bb43-8505-410b-be5f-2fb461dbb159",
   "metadata": {},
   "source": [
    "When there is asymmetry between the tails of the normal distribution, giving it a leaned, squished-to-one-side look, we say it is skewed. And you guessed it, we measure the extent of this asymmetry with __skewness__. \n",
    "\n",
    "Correctly categorizing and measuring skewness provides insights how values are spread around the mean and influences the choices of statistical techniques and data transformations. For example, highly skewed distributions might benefit from normalization or scaling techniques to make them resemble normal distribution. This would aid in model performance. "
   ]
  },
  {
   "cell_type": "markdown",
   "id": "241ef9da-085b-4441-9a19-62b66a7894d2",
   "metadata": {
    "tags": []
   },
   "source": [
    "## Types of skewness"
   ]
  },
  {
   "cell_type": "markdown",
   "id": "25000fde-dde1-42d0-b10a-e6a1d14003c3",
   "metadata": {},
   "source": [
    "There are three types of skewness: positive skewness, negative skewness, and zero skewness.\n",
    "\n",
    "Let's start with the last one - a distribution with zero skewness:\n",
    "\n",
    "- Symmetric distribution with values evenly centered around the mean.\n",
    "- No skew, lean or tail to either side. \n",
    "- The mean, median and mode are all at the center point.\n",
    "\n",
    "In practice, mean, median and mode may not form a perfect overlapping straight line. They may be slightly away from each but the difference would be too small to matter.\n",
    "\n",
    "In a distribution with positive skewness (right skewed):\n",
    "- The right tail of the distribution is longer or fatter than the left.\n",
    "- The mean is greater than the median, and the mode is less than both mean and median.\n",
    "- Lower values are clustered in the \"hill\" of the distribution while extreme values are in the long right tail. \n",
    "- It is also known as right-skewed distribution.\n",
    "\n",
    "In a distribution with negative skewness (left skewed):\n",
    "- The left tail of the distribution is longer or fatter than the right.\n",
    "- The mean is less than the median, and the mode is greater than both mean and median. \n",
    "- Higher values are clustered in the \"hill\" of the distribution while extreme values are in the long left tail.\n",
    "- It is also known as left-skewed distribution.\n",
    "\n",
    "To remember the differences between positive and negative skewness, think of it this way: if you want to increase the mean of a distribution, you should add much higher values than the mean to the distribution. To lower the mean, you should do the opposite - introduce much lower values than the mean to the distribution. So, if the majority of the extreme values is higher than the mean, it is positive skewness because they increase the mean. If the majority of extreme values is smaller than the mean, it is negative skewness because they decrease the mean. \n",
    "\n",
    "Here is a summary table on the types of skewness:\n",
    "\n",
    "DRAW A TABLE IN EXCALIDRAW ON THE TYPES OF SKEWNESS. BE QUICK."
   ]
  },
  {
   "cell_type": "markdown",
   "id": "afd4c5a4-c253-428c-ae44-27b6fdb43874",
   "metadata": {},
   "source": [
    "## Calculating skewness in python"
   ]
  },
  {
   "cell_type": "markdown",
   "id": "06fc30b8-e1d7-4d68-9970-2a207b479e02",
   "metadata": {},
   "source": [
    "There are many ways to [calculate skewness](https://en.wikipedia.org/wiki/Skewness#Other_measures_of_skewness)  but the simplest one is Pearson's second skewness coefficient, also known as median skewness. \n",
    "\n",
    "THE FORMULA FOR MEAN/MEDIAN SKEWNESS HERE WITH WORD\n",
    "\n",
    "Let's do it manually in Python:"
   ]
  },
  {
   "cell_type": "code",
   "execution_count": 22,
   "id": "2c27a3d9-abe9-4681-9a29-b04f5f4feb09",
   "metadata": {},
   "outputs": [
    {
     "name": "stdout",
     "output_type": "stream",
     "text": [
      "The Pierson's second skewness score of diamond prices distribution is 0.00015\n"
     ]
    }
   ],
   "source": [
    "import numpy as np\n",
    "import pandas as pd\n",
    "import seaborn as sns\n",
    "\n",
    "# Example dataset\n",
    "diamonds = sns.load_dataset(\"diamonds\")\n",
    "diamond_prices = diamonds[\"price\"]\n",
    "\n",
    "mean_price = diamond_prices.mean()\n",
    "median_price = diamond_prices.median()\n",
    "std = diamond_prices.std()\n",
    "\n",
    "skewness = (3 * (mean - median)) / std\n",
    "\n",
    "print(\n",
    "    f\"The Pierson's second skewness score of diamond prices distribution is {skewness:.5f}\"\n",
    ")"
   ]
  },
  {
   "cell_type": "markdown",
   "id": "e0ef4b5d-f73d-49ca-85a5-67c40137a632",
   "metadata": {},
   "source": [
    "Another formula highly influenced by the works of Karl Pearson is the moment-based formula to approximate skewness. It is more reliable and given as follows:\n",
    "\n",
    "THE FORMULA WRITTEN IN WORD \n",
    "\n",
    "Here:\n",
    "- _n_ represents the number of values in a distribution\n",
    "- x_i denotes each data point\n",
    "\n",
    "Let's implement it in Python:"
   ]
  },
  {
   "cell_type": "code",
   "execution_count": 17,
   "id": "157aa048-3b9b-4701-a510-b45bc6f06f8f",
   "metadata": {},
   "outputs": [],
   "source": [
    "def moment_based_skew(distribution):\n",
    "    n = len(distribution)\n",
    "    mean = np.mean(distribution)\n",
    "    std = np.std(distribution)\n",
    "\n",
    "    # Divide the formula into two parts\n",
    "    first_part = n / ((n - 1) * (n - 2))\n",
    "    second_part = np.sum(((distribution - mean) / std) ** 3)\n",
    "\n",
    "    skewness = first_part * second_part\n",
    "\n",
    "    return skewness"
   ]
  },
  {
   "cell_type": "code",
   "execution_count": 21,
   "id": "2fa830d7-512b-45f9-b952-b0dc9e7d3750",
   "metadata": {},
   "outputs": [
    {
     "data": {
      "text/plain": [
       "1.618440289857168"
      ]
     },
     "execution_count": 21,
     "metadata": {},
     "output_type": "execute_result"
    }
   ],
   "source": [
    "moment_based_skew(diamond_prices)"
   ]
  },
  {
   "cell_type": "markdown",
   "id": "93fea286-2bc9-4f7a-9332-dcf8baaa1a8f",
   "metadata": {},
   "source": [
    "If you don't want to calculate skewness manually (like me), you can use built-in methods from pandas or scipy:"
   ]
  },
  {
   "cell_type": "code",
   "execution_count": 23,
   "id": "b6241b30-9210-4db4-957a-847e537de9ba",
   "metadata": {},
   "outputs": [
    {
     "data": {
      "text/plain": [
       "1.618395283383529"
      ]
     },
     "execution_count": 23,
     "metadata": {},
     "output_type": "execute_result"
    }
   ],
   "source": [
    "# Pandas version\n",
    "diamond_prices.skew()"
   ]
  },
  {
   "cell_type": "code",
   "execution_count": 24,
   "id": "588c42d0-3147-4b90-8115-ea754572e9f7",
   "metadata": {},
   "outputs": [
    {
     "data": {
      "text/plain": [
       "1.6183502776053016"
      ]
     },
     "execution_count": 24,
     "metadata": {},
     "output_type": "execute_result"
    }
   ],
   "source": [
    "# SciPy version\n",
    "from scipy.stats import skew\n",
    "\n",
    "skew(diamond_prices)"
   ]
  },
  {
   "cell_type": "markdown",
   "id": "fe1e0151-3483-472c-9118-6e35b2789ad8",
   "metadata": {},
   "source": [
    "While all formulas to approximate skewness return different scores, their differences are too small to be significant or change the categorization of the skew (excluding Pearson's second skewness coefficient). For example, the three different methods we've used leverage three different formulas under the hood but their results only vary after the third decimal place.\n",
    "\n",
    "Once you calculate skewness, you can categorize the extent of the skew:\n",
    "- (-0.5, 0.5) - low or approximately symmetric.\n",
    "- (-1, -0.5) U (0.5, 1) - moderately skewed.\n",
    "- Beyond -1 and 1 - Highly skewed."
   ]
  },
  {
   "cell_type": "markdown",
   "id": "4fdb7f6c-8d1d-4205-a076-4d0cc0871142",
   "metadata": {},
   "source": [
    "## What is kurtosis?"
   ]
  },
  {
   "cell_type": "markdown",
   "id": "c2021c91-2172-44db-90a8-0d36ec1f49d3",
   "metadata": {},
   "source": [
    "## Types of kurtosis?"
   ]
  },
  {
   "cell_type": "markdown",
   "id": "da26cb81-4647-4443-b9fb-59dc050a9b77",
   "metadata": {},
   "source": [
    "## Calculating kurtosis"
   ]
  },
  {
   "cell_type": "markdown",
   "id": "41ea3e03-66c4-44d2-a5ba-4d6b3a753d11",
   "metadata": {},
   "source": [
    "## Kurtosis in Python"
   ]
  },
  {
   "cell_type": "markdown",
   "id": "9e8e66e8-3783-445b-8c8d-d653918d829c",
   "metadata": {},
   "source": [
    "## Conclusion"
   ]
  }
 ],
 "metadata": {
  "kernelspec": {
   "display_name": "articles",
   "language": "python",
   "name": "articles"
  },
  "language_info": {
   "codemirror_mode": {
    "name": "ipython",
    "version": 3
   },
   "file_extension": ".py",
   "mimetype": "text/x-python",
   "name": "python",
   "nbconvert_exporter": "python",
   "pygments_lexer": "ipython3",
   "version": "3.9.13"
  }
 },
 "nbformat": 4,
 "nbformat_minor": 5
}
