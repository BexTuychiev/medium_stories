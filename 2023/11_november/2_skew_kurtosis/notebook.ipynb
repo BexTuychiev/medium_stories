{
 "cells": [
  {
   "cell_type": "markdown",
   "id": "4b599ae5-c453-4807-b4d1-89a683cd663c",
   "metadata": {},
   "source": [
    "# Skewness and kurtosis tutorial"
   ]
  },
  {
   "cell_type": "markdown",
   "id": "1ee90cda-298f-4e5e-917c-3ca777997304",
   "metadata": {},
   "source": [
    "## Outline\n",
    "- Introduction\n",
    "    - Provide a brief introduction to the importance of understanding data distributions in data science.\n",
    "    - Explain how skewness and kurtosis are key statistical measures to evaluate the shape of data.\n",
    "    - Introduce the goal of the tutorial: to help beginners grasp the concepts of skewness and kurtosis.\n",
    "- What is Skewness?\n",
    "    - Define skewness and explain its significance in data analysis.\n",
    "    - Discuss how skewness measures the asymmetry in the data distribution.\n",
    "- Types of Skewness\n",
    "    - Explain the three types of skewness: positive skew, negative skew, and zero skew (symmetrical).\n",
    "    - Provide examples and real-world scenarios for each type.\n",
    "- Calculating Skewness\n",
    "    - Offer step-by-step instructions on how to calculate skewness manually. \n",
    "    - Introduce the skewness formula and provide examples for practice.\n",
    "- What is Kurtosis?\n",
    "    - Define kurtosis and its importance in characterizing data distributions.\n",
    "    - Discuss how kurtosis measures the tail behavior of data.\n",
    "- Types of Kurtosis\n",
    "    - Explain the three types of kurtosis: leptokurtic, mesokurtic, and platykurtic.\n",
    "    - Provide examples and real-world data representations for each type.\n",
    "- Calculating Kurtosis\n",
    "    - Describe the methods to calculate kurtosis manually.\n",
    "    - Introduce the kurtosis formula and walk through practical examples.\n",
    "- Interpreting Skewness and Kurtosis\n",
    "    - Guide readers on how to interpret skewness and kurtosis values.\n",
    "    - Explain how the results can be used to make data-driven decisions.\n",
    "- Real-World Applications\n",
    "    - Provide examples of real-world scenarios where understanding skewness and kurtosis is crucial.\n",
    "    - Discuss how these statistics are used in fields like finance, healthcare, and social sciences.\n",
    "- Skewness and Kurtosis in Python\n",
    "    - Introduction to Python Libraries\n",
    "        - Introduce popular Python libraries (e.g., NumPy, SciPy, and pandas) for calculating skewness and kurtosis.\n",
    "        - Explain how to import these libraries and their key functions.\n",
    "    - Practical Implementation\n",
    "        - Walk readers through Python code snippets for calculating skewness and kurtosis.\n",
    "        - Provide sample datasets and show how to apply these calculations.\n",
    "- Visualization of Skewness and Kurtosis\n",
    "    - Explain the importance of data visualization in data analysis.\n",
    "    - Introduce data visualization libraries such as Matplotlib and Seaborn.\n",
    "    - Creating Visualizations\n",
    "        - Provide guidance on creating histograms, box plots, and probability plots.\n",
    "        - Interpret the visualizations in the context of skewness and kurtosis.\n",
    "- Conclusion\n"
   ]
  },
  {
   "cell_type": "markdown",
   "id": "4cb2d17b-0ec3-4427-8a92-f624b6b90981",
   "metadata": {},
   "source": [
    "## Introduction"
   ]
  },
  {
   "cell_type": "markdown",
   "id": "d736a89b-002f-4962-8310-c49ff1d88e53",
   "metadata": {},
   "source": [
    "## What is skewness?"
   ]
  },
  {
   "cell_type": "markdown",
   "id": "241ef9da-085b-4441-9a19-62b66a7894d2",
   "metadata": {},
   "source": [
    "## Types of skewness"
   ]
  },
  {
   "cell_type": "markdown",
   "id": "e3139c83-72a0-482d-8e22-270de187a98b",
   "metadata": {},
   "source": [
    "## Calculating skewness"
   ]
  },
  {
   "cell_type": "markdown",
   "id": "afd4c5a4-c253-428c-ae44-27b6fdb43874",
   "metadata": {},
   "source": [
    "## Skewness in Python"
   ]
  },
  {
   "cell_type": "markdown",
   "id": "4fdb7f6c-8d1d-4205-a076-4d0cc0871142",
   "metadata": {},
   "source": [
    "## What is kurtosis?"
   ]
  },
  {
   "cell_type": "markdown",
   "id": "c2021c91-2172-44db-90a8-0d36ec1f49d3",
   "metadata": {},
   "source": [
    "## Types of kurtosis?"
   ]
  },
  {
   "cell_type": "markdown",
   "id": "da26cb81-4647-4443-b9fb-59dc050a9b77",
   "metadata": {},
   "source": [
    "## Calculating kurtosis"
   ]
  },
  {
   "cell_type": "markdown",
   "id": "41ea3e03-66c4-44d2-a5ba-4d6b3a753d11",
   "metadata": {},
   "source": [
    "## Kurtosis in Python"
   ]
  },
  {
   "cell_type": "markdown",
   "id": "9e8e66e8-3783-445b-8c8d-d653918d829c",
   "metadata": {},
   "source": [
    "## Conclusion"
   ]
  }
 ],
 "metadata": {
  "kernelspec": {
   "display_name": "articles",
   "language": "python",
   "name": "articles"
  },
  "language_info": {
   "codemirror_mode": {
    "name": "ipython",
    "version": 3
   },
   "file_extension": ".py",
   "mimetype": "text/x-python",
   "name": "python",
   "nbconvert_exporter": "python",
   "pygments_lexer": "ipython3",
   "version": "3.9.13"
  }
 },
 "nbformat": 4,
 "nbformat_minor": 5
}
