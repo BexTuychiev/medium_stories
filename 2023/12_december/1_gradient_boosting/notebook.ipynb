{
 "cells": [
  {
   "cell_type": "markdown",
   "id": "bb29f3f8-a749-449c-8d2d-98056e98f134",
   "metadata": {},
   "source": [
    "# A Guide to The Gradient Boosting Algorithm"
   ]
  },
  {
   "cell_type": "markdown",
   "id": "179bfe09-d471-4371-8536-b9b0ef12361a",
   "metadata": {},
   "source": [
    "#### Introduction\n",
    "- Overview of Gradient Boosting\n",
    "- Importance in predictive modeling\n",
    "- Real-world applications and performance\n",
    "\n",
    "#### H2: What is Boosting?\n",
    "- Definition and basic concept\n",
    "- Role in ensemble learning\n",
    "#### From AdaBoost to Gradient Boosting\n",
    "- Transition from AdaBoost to Gradient Boosting\n",
    "- Distinctions between the two methods​​.\n",
    "#### The Mechanics of Gradient Boosting\n",
    "- Core Components of Gradient Boosting\n",
    "- Loss Function: Role and types\n",
    "- Weak Learners: Decision trees as a foundation\n",
    "- Additive Model: Combining weak learners​​.\n",
    "#### Gradient Boosting Algorithm in Action\n",
    "- Sequential model building\n",
    "- Minimizing errors through residuals\n",
    "- Regression vs. Classification: Different approaches based on data type​​.\n",
    "#### Practical Implementation with Examples\n",
    "- Building a Gradient Boosting Model\n",
    "- Step-by-Step Example: Using a continuous target column\n",
    "- Calculating pseudo residuals\n",
    "- Generating new predictions.\n",
    "#### Tuning and Optimization\n",
    "- Understanding and setting the learning rate\n",
    "- The role of n_estimators in model accuracy\n",
    "- Adjusting max_depth for tree complexity​​​​.\n",
    "#### H2: Advanced Concepts in Gradient Boosting\n",
    "##### Regularization Techniques\n",
    "- Tree constraints\n",
    "- Shrinkage: Controlling the learning rate\n",
    "- Stochastic Gradient Boosting\n",
    "- Penalized Gradient Boosting​​.\n",
    "#### H2: Case Studies and Applications\n",
    "##### Real-World Applications of Gradient Boosting\n",
    "- Success stories in Kaggle competitions\n",
    "- Use cases in business and industry​​.\n",
    "#### H2: Conclusion and Further Learning\n"
   ]
  },
  {
   "cell_type": "markdown",
   "id": "b85f46f8-601d-4e30-be14-6fa699c9445f",
   "metadata": {},
   "source": [
    "## Introduction"
   ]
  },
  {
   "cell_type": "markdown",
   "id": "e2ba7445-5d4d-4f1a-aa2a-960bf6754095",
   "metadata": {},
   "source": [
    "The body of this article is long (but highly-educational) so, we will make the intro as short as possible, directly starting with the question \"Why bother with gradient boosting?\".\n",
    "\n",
    "There are a number of excellent reasons:\n",
    "\n",
    "1. **Gradient boosting is the best**: its accuracy and performance is unmatched for tabular supervised-learning tasks. \n",
    "2. **Gradient boosting is highly versatile**: it can be used in many important tasks such as regression, classification, ranking and survival analysis.\n",
    "3. **Gradient boosting is interpretable**: unlike many black-box algorithms like neural networks, gradient boosting does not sacrifice interpretability for performance. It works like a Swiss watch and yet, with patience, you can teach how it works to a school kid. \n",
    "4. **Gradient boosting is well-implemented**: it is not one of those algorithms that have little practical value. Various libraries like XGBoost and LightGBM in Python are used by hundreds of thousands of people.\n",
    "5. **Gradient boosting wins**: since 2015, professionals use it to consistently win tabular competitions on platforms like Kaggle. \n",
    "\n",
    "If any of these points are even remotely appealing, it would be worth to continue reading this article.\n",
    "\n",
    "So, let's get started!"
   ]
  },
  {
   "cell_type": "markdown",
   "id": "a5880ece-6bc9-49e1-a44e-5c038939b6d5",
   "metadata": {},
   "source": [
    "## What you will learn in this tutorial?"
   ]
  },
  {
   "cell_type": "markdown",
   "id": "e2e1a483-13af-4dbc-93a7-b524c85eebba",
   "metadata": {},
   "source": [
    "The most important takeaway of this article is that you leave with a very firm grasp of the inner workings of gradient boosting without much mathematical headache. After all, gradient boosting is for usage in practice not for analyzing mathematically.\n",
    "\n",
    "Here is the table of contents: TODO later."
   ]
  },
  {
   "cell_type": "markdown",
   "id": "69eb3424-df12-4735-a9a0-c4e497a1c105",
   "metadata": {},
   "source": [
    "## What is gradient boosting in general?"
   ]
  },
  {
   "cell_type": "markdown",
   "id": "6b2bc84c-99c8-4459-a1da-9bb113518a22",
   "metadata": {},
   "source": [
    "Boosting is a powerful **ensemble learning** technique in machine learning. Unlike traditional models that learn from the data independently, boosting combines the predictions of multiple **weak learners** to create a single, more accurate **strong learner**.\n",
    "\n",
    "I just wrote a bunch of new terms, so let me explain each, starting with weak learners.\n",
    "\n",
    "A weak learner is a machine learning model that is slightly better than a random guessing model. For example, let's say we are classifying mushrooms into edible and inedible. Our random guessing model performs with an accuracy of 40%. In this context, a weak learner would be a model that performs a bit better, maybe 50-60% accuracy. \n",
    "\n",
    "What boosting does is that it combines dozens or hundreds of these weak learners to build a final strong learner that is easily capable of reaching over 95% accuracy on the same problem. This indicates that all implementations of gradient boosting are ensemble learning techniques. \n",
    "\n",
    "The most popular choice for a weak learner is a decision tree. Decision trees are weak enough to be used in gradient boosting but flexible enough to find patterns in all kinds of datasets. If you are not familiar with decision trees, I recommend [this YouTube video](https://www.youtube.com/watch?v=_L39rN6gz7Y&ab_channel=StatQuestwithJoshStarmer) by StatQuest and [this DataCamp tutorial](https://www.datacamp.com/tutorial/decision-tree-classification-python)."
   ]
  },
  {
   "cell_type": "markdown",
   "id": "fe7f3347-14d5-4e89-8e09-80d56421a3df",
   "metadata": {},
   "source": [
    "## Real-world applications of gradient boosting"
   ]
  },
  {
   "cell_type": "markdown",
   "id": "3800b4ba-6378-43b7-89c1-96a9401da500",
   "metadata": {},
   "source": [
    "Gradient boosting has become such a dominant force in machine learning that its applications now span various industries, from predicting customer churn to detecting asteroids. Here's a glimpse into its success stories in Kaggle and real-world use cases:\n",
    "\n",
    "Dominating Kaggle competitions:\n",
    "- **Otto Group Product Classification Challenge**: all top 10 positions used XGBoost implementation of gradient boosting.\n",
    "- **Santander Customer Transaction Prediction**: XGBoost-based solutions again secured the top spots for predicting customer behavior and financial transactions.\n",
    "- **Netflix Movie Recommendation Challenge**: Gradient boosting played a crucial role in building recommendation systems for multi-billion companies like Netflix.\n",
    "\n",
    "Transforming business and industry:\n",
    "- **Retail and e-commerce**: personalized recommendations, inventory management, fraud detection\n",
    "- **Finance and insurance**: credit risk assessment, churn prediction, algorithmic trading\n",
    "- **Healthcare and medicine**: disease diagnosis, drug discovery, personalized medicine\n",
    "- **Search and Online Advertising**: search ranking, ad targeting, click-through rate prediction\n",
    "\n",
    "So, let's finally peek under the hood of this legendary algorithm!"
   ]
  },
  {
   "cell_type": "markdown",
   "id": "026ce321-ae4b-408a-ad7d-67f959de05cb",
   "metadata": {},
   "source": [
    "## Gradient boosting algorithm, step-by-step"
   ]
  },
  {
   "cell_type": "markdown",
   "id": "7961436f-ac82-4895-a804-7762423b055e",
   "metadata": {},
   "source": [
    "### Input"
   ]
  },
  {
   "attachments": {
    "16d3150c-5d31-496e-80af-76a1b570fa0e.png": {
     "image/png": "[encoded data removed]"
    }
   },
   "cell_type": "markdown",
   "id": "5006c688-4ac5-4e9b-86bc-dc7d50d35dd6",
   "metadata": {},
   "source": [
    "Gradient boosting algorithm works for tabular data, specifically, data with a set of features (`X`) and a target (`y`). Like other machine learning algorithms, the aim is to learn enough from the training data to generalize well to unseen data points. \n",
    "\n",
    "To understand the underlying process of gradient boosting, we will use a simple sales dataset with four rows. Using three features - the age of the customer, the category of the purchase and the purchase weight, we want to predict the purchase amount:\n",
    "\n",
    "![image.png](attachment:16d3150c-5d31-496e-80af-76a1b570fa0e.png)"
   ]
  },
  {
   "cell_type": "markdown",
   "id": "f5aae981-9fba-4e89-adfc-6611de819cb0",
   "metadata": {},
   "source": [
    "### The loss function"
   ]
  },
  {
   "attachments": {
    "6bd9a670-3195-48a6-87b0-8bae545f6c36.png": {
     "image/png": "[encoded data removed]"
    }
   },
   "cell_type": "markdown",
   "id": "bfe45ab1-2c6d-4940-8304-0c7cde198dfe",
   "metadata": {},
   "source": [
    "In machine learning, a loss function is a critical component that lets us quantify the difference between a model's predictions and the actual values. In essence, it measures how a model is performing.\n",
    "\n",
    "Here is a breakdown of its role:\n",
    "\n",
    "- Calculates the error: Takes the predicted output of the model and compares it to the ground truth (actual observed values). How it _compares_, i.e. calculates the difference varies from function to function.\n",
    "- Guides model training: a model's objective is to minimize the loss function. Throughout training, model continually updates its internal architecture and configuration to make the loss as little as possible.\n",
    "- Evaluation metric: By comparing the loss on training, validation and test datasets, you can assess your model's ability to generalize and avoid overfitting. \n",
    "\n",
    "The two most common loss functions are:\n",
    "\n",
    "- **Mean Squared Error (MSE)**: This popular loss function for regression measures the sum of the squared differences between predicted and actual values. Gradient boosting often uses this variation of it:\n",
    "\n",
    "![image.png](attachment:6bd9a670-3195-48a6-87b0-8bae545f6c36.png)\n",
    "\n",
    "The reason the squared value is multiplied by one half (0.5) has got to do with differentiation. When we take the derivative of this function, one half cancels out with the square because of [the power rule](https://www.khanacademy.org/math/old-ap-calculus-ab/ab-derivative-rules/ab-diff-negative-fraction-powers/a/power-rule-review). So, the final result would just be `(Observed - Predicted)`, making math much easier and less computationally expensive. \n",
    "\n",
    "- **Cross-entropy**: This function measures the difference between two probability distribution. So, it is commonly used for classification tasks where the target are discrete categories. \n",
    "\n",
    "Since we are doing regression, we will use MSE."
   ]
  },
  {
   "cell_type": "markdown",
   "id": "205911ae-afb9-4c61-8a4b-6c3695ced90f",
   "metadata": {},
   "source": [
    "### Step 0:"
   ]
  },
  {
   "cell_type": "markdown",
   "id": "e837b60d-1462-4f1e-a95d-df1aca059184",
   "metadata": {},
   "source": []
  },
  {
   "cell_type": "markdown",
   "id": "9210cb5c-79e9-4a21-bd42-626a0628f935",
   "metadata": {},
   "source": [
    "### Loss functions"
   ]
  },
  {
   "cell_type": "markdown",
   "id": "ab98e4e9-5706-44f5-b793-5ac131e93548",
   "metadata": {},
   "source": [
    "### Residuals"
   ]
  },
  {
   "cell_type": "markdown",
   "id": "d0ce5236-7518-48eb-8b32-90a0d87ed922",
   "metadata": {},
   "source": [
    "### Additive model"
   ]
  },
  {
   "cell_type": "markdown",
   "id": "fa8aa094-927b-473a-b614-db176e53e8e5",
   "metadata": {},
   "source": [
    "## Gradient boosting implemented in Python"
   ]
  },
  {
   "cell_type": "markdown",
   "id": "bd5c9ebd-50a8-4c7e-ab17-fa98f8f03995",
   "metadata": {},
   "source": [
    "## Hyperparameter tuning in gradient boosting models"
   ]
  },
  {
   "cell_type": "markdown",
   "id": "28a1d992-756a-4a8f-a679-f0573eecbe91",
   "metadata": {},
   "source": [
    "## Conclusion and further learning"
   ]
  },
  {
   "cell_type": "markdown",
   "id": "818b2343-2fdf-4418-b05f-0e536aeae75e",
   "metadata": {},
   "source": []
  }
 ],
 "metadata": {
  "kernelspec": {
   "display_name": "articles",
   "language": "python",
   "name": "articles"
  },
  "language_info": {
   "codemirror_mode": {
    "name": "ipython",
    "version": 3
   },
   "file_extension": ".py",
   "mimetype": "text/x-python",
   "name": "python",
   "nbconvert_exporter": "python",
   "pygments_lexer": "ipython3",
   "version": "3.9.13"
  }
 },
 "nbformat": 4,
 "nbformat_minor": 5
}
