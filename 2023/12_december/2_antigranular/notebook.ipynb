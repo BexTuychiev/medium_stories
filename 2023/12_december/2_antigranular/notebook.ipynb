{
 "cells": [
  {
   "cell_type": "markdown",
   "id": "1fc005d4-4906-4d3e-9f98-5c43599c2860",
   "metadata": {},
   "source": [
    "# AntiGranular: How to Access Sensitive Datasets Without Looking At Them"
   ]
  },
  {
   "cell_type": "markdown",
   "id": "5a61c8ec-bd6c-42e4-8fce-8cc530fe9a61",
   "metadata": {},
   "source": [
    "## Introduction"
   ]
  },
  {
   "cell_type": "markdown",
   "id": "5fde67dc-ddf6-499d-b675-8fc0c33168fa",
   "metadata": {},
   "source": [
    "## "
   ]
  }
 ],
 "metadata": {
  "kernelspec": {
   "display_name": "articles",
   "language": "python",
   "name": "articles"
  },
  "language_info": {
   "codemirror_mode": {
    "name": "ipython",
    "version": 3
   },
   "file_extension": ".py",
   "mimetype": "text/x-python",
   "name": "python",
   "nbconvert_exporter": "python",
   "pygments_lexer": "ipython3",
   "version": "3.9.13"
  }
 },
 "nbformat": 4,
 "nbformat_minor": 5
}
