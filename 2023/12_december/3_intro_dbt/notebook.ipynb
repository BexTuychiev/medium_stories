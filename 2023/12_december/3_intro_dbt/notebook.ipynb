{
 "cells": [
  {
   "cell_type": "markdown",
   "id": "ee7e0c49-f8d3-4702-a2fc-06c08dc0c2ea",
   "metadata": {},
   "source": [
    "# Introduction to dbt: 10 Must-Know Concepts For Data Engineers"
   ]
  },
  {
   "cell_type": "markdown",
   "id": "b8349aba-a808-4785-ae6f-0861c5e08a53",
   "metadata": {},
   "source": [
    "## What is dbt and why should you care?"
   ]
  },
  {
   "cell_type": "markdown",
   "id": "ae2ddaf4-482d-4ac5-997c-cc8a5dfe8877",
   "metadata": {},
   "source": [
    "I have recently read somewhere on the Internet that the first data scientist a company hires becomes a data engineer. "
   ]
  },
  {
   "cell_type": "markdown",
   "id": "1514880b-9fc2-4e46-9de7-a439c45cd8ef",
   "metadata": {},
   "source": [
    "## Prerequisites"
   ]
  },
  {
   "cell_type": "markdown",
   "id": "b45b7fdf-c85c-4549-96aa-fea119a555e0",
   "metadata": {},
   "source": [
    "Only a few:\n",
    "- __Basic to intermediate SQL__: if you know how to use the WHERE and GROUP BY clauses, you are good to go.\n",
    "- __Familiarity in the terminal__: you should feel comfortable in the terminal, virtual environments and installing software with package managers like `pip` or `homebrew`. \n",
    "- __Basics of data warehouses__: fundamental knowledge of data engineering is a giant plus. It shouldn't be necessarily deep like you know [Kimball's four step process](https://campus.datacamp.com/courses/introduction-to-data-warehousing/data-warehouse-data-modeling?ex=5) but enough to infer some of the keywords.\n",
    "\n",
    "If you can't meet these criteria and yet, your boss (or yourself) still requires you to learn dbt, you can use the following resources:\n",
    "\n",
    "PASTE THE RESOURCES HERE"
   ]
  },
  {
   "cell_type": "markdown",
   "id": "c578da7a-ead7-4884-8afd-e8caf413a71b",
   "metadata": {},
   "source": [
    "## What will this guide cover?"
   ]
  },
  {
   "cell_type": "markdown",
   "id": "0fc264d6-79ba-4a1d-9716-239f08c2df6f",
   "metadata": {},
   "source": [
    "## 0. Data warehouse"
   ]
  },
  {
   "cell_type": "markdown",
   "id": "03e54893-5bad-4744-9e7b-6ec3d3fde459",
   "metadata": {},
   "source": [
    "## 1. dbt Core vs. dbt Cloud"
   ]
  },
  {
   "cell_type": "markdown",
   "id": "07505ecd-5ae4-483e-bd8f-f2a758d524ee",
   "metadata": {},
   "source": [
    "## 2. dbt Projects"
   ]
  },
  {
   "cell_type": "markdown",
   "id": "cea4e440-a386-49b5-885d-3172272e48f6",
   "metadata": {},
   "source": [
    "## 3. dbt Project profiles"
   ]
  },
  {
   "cell_type": "markdown",
   "id": "3f49734d-45d3-4c81-b581-052b89412864",
   "metadata": {},
   "source": [
    "## 4. dbt Models"
   ]
  },
  {
   "cell_type": "markdown",
   "id": "78046a7e-16a5-4b31-9a95-fe8eac05ed1d",
   "metadata": {},
   "source": [
    "## 5. dbt Commands"
   ]
  },
  {
   "cell_type": "markdown",
   "id": "d13d6c0d-f706-415b-9a07-1b19797d6db9",
   "metadata": {},
   "source": [
    "## 6. dbt Important YAML files"
   ]
  },
  {
   "cell_type": "markdown",
   "id": "16f9f64b-2879-4d04-bfaf-66c670dab6f7",
   "metadata": {},
   "source": [
    "## 7. Hierarchy in dbt Models"
   ]
  },
  {
   "cell_type": "markdown",
   "id": "517d47ab-dd2a-47a5-8a8f-ce83b4018587",
   "metadata": {},
   "source": [
    "## 8. Jinja Templating in dbt"
   ]
  },
  {
   "cell_type": "markdown",
   "id": "c8524619-4318-4040-b8cf-76d5197bdc8a",
   "metadata": {},
   "source": [
    "## 9. dbt Tests"
   ]
  },
  {
   "cell_type": "markdown",
   "id": "f67789e9-407d-4fb0-80aa-f4f4a69fd6cc",
   "metadata": {},
   "source": [
    "## 10. dbt Documentations"
   ]
  },
  {
   "cell_type": "markdown",
   "id": "7a38565a-b401-4538-9b1d-616be3a347a2",
   "metadata": {},
   "source": [
    "## A typical dbt workflow you can follow"
   ]
  },
  {
   "cell_type": "markdown",
   "id": "3518c155-1e72-46a6-bbd2-81097db3412e",
   "metadata": {},
   "source": [
    "## Conclusion and further resources"
   ]
  }
 ],
 "metadata": {
  "kernelspec": {
   "display_name": "articles",
   "language": "python",
   "name": "articles"
  },
  "language_info": {
   "codemirror_mode": {
    "name": "ipython",
    "version": 3
   },
   "file_extension": ".py",
   "mimetype": "text/x-python",
   "name": "python",
   "nbconvert_exporter": "python",
   "pygments_lexer": "ipython3",
   "version": "3.9.13"
  }
 },
 "nbformat": 4,
 "nbformat_minor": 5
}
