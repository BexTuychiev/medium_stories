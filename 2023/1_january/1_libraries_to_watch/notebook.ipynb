{
 "cells": [
  {
   "cell_type": "markdown",
   "id": "3270562e-6cfb-43b8-aa0d-8d5cd8d8a2b6",
   "metadata": {},
   "source": [
    "# N Libraries to Watch Out For in 2023\n",
    "## Get ahead in 2023"
   ]
  },
  {
   "cell_type": "markdown",
   "id": "02be231c-1209-4c31-b9d7-a1b97e2f56c1",
   "metadata": {},
   "source": [
    "### Motivation"
   ]
  },
  {
   "cell_type": "markdown",
   "id": "f6bd55b5-b73a-414a-bff6-69852ee2dae3",
   "metadata": {},
   "source": [
    "### 1. BentoML"
   ]
  },
  {
   "cell_type": "markdown",
   "id": "07705228-2b71-446f-9a1f-2b61a29b5b17",
   "metadata": {},
   "source": [
    "What:\n",
    "- Deploy models as prediction services, APIs\n",
    "- Framework\n",
    "\n",
    "Why:\n",
    "- Framework-agnostic\n",
    "- Cloud-agnostic\n",
    "- Model versioning, model registry\n",
    "- Automatic packaging\n",
    "\n",
    "Stats and links:\n",
    "- [GitHub (4.4k ⭐)](https://github.com/bentoml/BentoML)\n",
    "- [Docs 📚](https://docs.bentoml.org/en/latest/#)\n",
    "- In action, tutorial:\n",
    "\n",
    "https://towardsdatascience.com/comprehensive-guide-to-deploying-any-ml-model-as-apis-with-python-and-aws-lambda-b441d257f1ec\n"
   ]
  },
  {
   "cell_type": "markdown",
   "id": "30fd8e5c-824a-4a7c-9708-99ead0cd4ed4",
   "metadata": {},
   "source": [
    "### 2. MLFlow"
   ]
  },
  {
   "cell_type": "markdown",
   "id": "da18ea38-a9f5-489a-a984-410de5bfc860",
   "metadata": {},
   "source": [
    "What:\n",
    "- Machine learning experiment tracking framework\n",
    "\n",
    "Why:\n",
    "- Automatic metric, hyperparameter capturing\n",
    "- Capturing model artifacts\n",
    "- Model registry\n",
    "- Excellent integration with all frameworks\n",
    "- Intuitive tracking UI\n",
    "- Beautiful plots, etc.\n",
    "\n",
    "Stats and links:\n",
    "- [GitHub (13.3k ⭐)](https://github.com/mlflow/mlflow)\n",
    "- [Docs 📚](https://mlflow.org/docs/latest/index.html)\n",
    "- In action, tutorial:\n",
    "\n",
    "https://towardsdatascience.com/complete-guide-to-experiment-tracking-with-mlflow-and-dagshub-a0439479e0b9\n"
   ]
  },
  {
   "cell_type": "markdown",
   "id": "2c3dfc13-ff8e-4399-9a99-4d89ed42aefa",
   "metadata": {},
   "source": [
    "### 3. DVC\n",
    "\n",
    "What:\n",
    "- Git for data\n",
    "- Dataset and model versioning, experiment tracking\n",
    "\n",
    "Why:\n",
    "- Go-to library, no better alternative currently\n",
    "- Support for branching, commits, checkouts\n",
    "- Data pipelines and run them with a single command\n",
    "- Experiment tracking with a single line\n",
    "- VSCode extension to plot experiments and compare them\n",
    "\n",
    "Stats and links:\n",
    "- [GitHub (10.8k ⭐)](https://github.com/iterative/dvc)\n",
    "- [Docs 📚](https://dvc.org/)\n",
    "- In action, tutorial:\n",
    "\n",
    "https://medium.com/towards-data-science/how-to-version-gigabyte-sized-datasets-just-like-code-with-dvc-in-python-5197662e85bd"
   ]
  },
  {
   "cell_type": "markdown",
   "id": "f14c7f39-aa99-4130-b86f-7efee5bfe96e",
   "metadata": {},
   "source": [
    "### 4. NannyML\n",
    "\n",
    "What:\n",
    "- Model monitoring framework\n",
    "- Detect silent failure\n",
    "\n",
    "Why:\n",
    "- Models need to be monitored once deployed\n",
    "- Performance estimation\n",
    "- Data drift\n",
    "- Failure smart alerting\n",
    "\n",
    "Stats and links:\n",
    "- [GitHub (1.3k ⭐)](https://github.com/NannyML/nannyml)\n",
    "- [Docs 📚](https://nannyml.readthedocs.io/en/stable/index.html)\n",
    "- In action, tutorial:\n",
    "\n",
    "https://towardsdatascience.com/data-drift-explainability-interpretable-shift-detection-with-nannyml-83421319d05f"
   ]
  },
  {
   "cell_type": "markdown",
   "id": "3bfdad96-cb1f-43d1-aee1-49978a47bc7d",
   "metadata": {},
   "source": [
    "### 5. Weights & Biases\n",
    "\n",
    "What:\n",
    "- All-in-one MLOps platform\n",
    "\n",
    "Why:\n",
    "- Excellent integration with any framework\n",
    "- Visualize experiments\n",
    "- Real-time collaboration, model explaining\n",
    "- Model, dataset, artifacts version\n",
    "- UI (dashboards)\n",
    "\n",
    "Stats and links:\n",
    "- [GitHub (5.2k ⭐)](https://github.com/wandb/wandb)\n",
    "- [Docs 📚](https://docs.wandb.ai/)\n"
   ]
  },
  {
   "cell_type": "markdown",
   "id": "2d42e1b1-8c34-430f-ad42-430f55f7ce74",
   "metadata": {},
   "source": [
    "### 6. Poetry\n",
    "\n",
    "What:\n",
    "- Python packaging and dependency management framework\n",
    "\n",
    "Why:\n",
    "- Dependency resolver\n",
    "- Isolation\n",
    "- Easy CLI\n",
    "\n",
    "Stats and links:\n",
    "- [GitHub (23.1k ⭐)](https://github.com/python-poetry/poetry)\n",
    "- [Docs 📚](https://python-poetry.org/)\n",
    "- In action, tutorial:\n",
    "\n",
    "https://realpython.com/dependency-management-python-poetry/"
   ]
  },
  {
   "cell_type": "markdown",
   "id": "ae2146fd-5717-45ce-af25-e82a89875500",
   "metadata": {},
   "source": [
    "### 7. Prefect\n",
    "\n",
    "What:\n",
    "- Data science and ML orchestration tool\n",
    "\n",
    "Why:\n",
    "- Build ETL, data science and ML workflows\n",
    "- Job scheduling\n",
    "- Integrated with anything that moves\n",
    "\n",
    "Stats and links:\n",
    "- [GitHub (10.9k ⭐)](https://github.com/PrefectHQ/prefect)\n",
    "- [Docs 📚](https://docs-v1.prefect.io/)\n",
    "- In action, tutorial:\n",
    "\n",
    "https://towardsdatascience.com/orchestrate-a-data-science-project-in-python-with-prefect-e69c61a49074"
   ]
  },
  {
   "cell_type": "markdown",
   "id": "3a09759f-56aa-4ae1-aba9-7d80d14ea303",
   "metadata": {},
   "source": [
    "### Conclusion"
   ]
  }
 ],
 "metadata": {
  "kernelspec": {
   "display_name": "articles",
   "language": "python",
   "name": "articles"
  },
  "language_info": {
   "codemirror_mode": {
    "name": "ipython",
    "version": 3
   },
   "file_extension": ".py",
   "mimetype": "text/x-python",
   "name": "python",
   "nbconvert_exporter": "python",
   "pygments_lexer": "ipython3",
   "version": "3.9.13"
  }
 },
 "nbformat": 4,
 "nbformat_minor": 5
}
