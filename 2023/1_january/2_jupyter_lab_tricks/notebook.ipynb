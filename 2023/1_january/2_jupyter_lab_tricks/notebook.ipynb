{
 "cells": [
  {
   "cell_type": "markdown",
   "id": "1bf1e1ba-ba59-4236-b6f6-ff1d62d5fe07",
   "metadata": {},
   "source": [
    "# N Secret or Insane Jupyter Lab Tricks I Wish I Was Given on My Birthday\n",
    "## Subtitle to be discussed"
   ]
  },
  {
   "cell_type": "markdown",
   "id": "8484cf82-e289-448b-8193-add52d53247e",
   "metadata": {},
   "source": [
    "### Intro"
   ]
  },
  {
   "cell_type": "markdown",
   "id": "1a2f3ba6-53a8-414b-bd7e-548a3c37fe93",
   "metadata": {},
   "source": [
    "### 1. Spellchecker"
   ]
  },
  {
   "cell_type": "markdown",
   "id": "ef8243e4-eaff-403d-8107-81e707b1e821",
   "metadata": {},
   "source": []
  },
  {
   "cell_type": "markdown",
   "id": "7e68ae28-6602-4191-9fd6-c10e47ae1cbe",
   "metadata": {
    "tags": []
   },
   "source": [
    "### 2. Code formatter"
   ]
  },
  {
   "cell_type": "markdown",
   "id": "2d6ab8f2-881e-4085-b3a2-f5713ad2603e",
   "metadata": {},
   "source": [
    "### 3. Multi-select"
   ]
  },
  {
   "cell_type": "markdown",
   "id": "03b2fe1f-b32d-4635-b3ef-143385c1c845",
   "metadata": {},
   "source": [
    "### 4. Adding a Conda environment as a kernel"
   ]
  },
  {
   "cell_type": "markdown",
   "id": "1ee00a19-51be-4551-a192-6bd3baa0939e",
   "metadata": {},
   "source": [
    "### 5. Run notebooks as like scripts"
   ]
  },
  {
   "cell_type": "markdown",
   "id": "3ef3ce13-1104-46d5-aed2-6ef8d8bc3483",
   "metadata": {},
   "source": [
    "### 6. Splitting editor window"
   ]
  },
  {
   "cell_type": "markdown",
   "id": "9d1110ad-37b5-49ed-aa7e-11fd7c826950",
   "metadata": {},
   "source": [
    "### 7. See the docs of anything\n",
    "\n",
    "Context and inline and ?"
   ]
  },
  {
   "cell_type": "markdown",
   "id": "f78c2773-452c-42c0-904e-89f23501cfb7",
   "metadata": {},
   "source": [
    "### 8. Mixing the terminal output and code"
   ]
  },
  {
   "cell_type": "markdown",
   "id": "17d08c5e-61db-462a-ac41-006f28bfead1",
   "metadata": {},
   "source": [
    "### 9. Notify execution"
   ]
  },
  {
   "cell_type": "markdown",
   "id": "e4870585-bacd-4b72-9dac-8051965c64ca",
   "metadata": {},
   "source": [
    "### 10. Working with Python scripts\n",
    "\n",
    "auto reload \n",
    "pycat\n"
   ]
  },
  {
   "cell_type": "markdown",
   "id": "91035ca8-aedb-475a-93a3-36362bd30166",
   "metadata": {},
   "source": [
    "### Conclusion"
   ]
  },
  {
   "cell_type": "markdown",
   "id": "02c558c7-bf5a-4393-ac10-7256e521296b",
   "metadata": {},
   "source": []
  }
 ],
 "metadata": {
  "kernelspec": {
   "display_name": "articles",
   "language": "python",
   "name": "articles"
  },
  "language_info": {
   "codemirror_mode": {
    "name": "ipython",
    "version": 3
   },
   "file_extension": ".py",
   "mimetype": "text/x-python",
   "name": "python",
   "nbconvert_exporter": "python",
   "pygments_lexer": "ipython3",
   "version": "3.9.13"
  },
  "toc-autonumbering": false,
  "toc-showcode": false,
  "toc-showmarkdowntxt": false,
  "toc-showtags": false
 },
 "nbformat": 4,
 "nbformat_minor": 5
}
