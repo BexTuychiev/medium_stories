{
 "cells": [
  {
   "cell_type": "markdown",
   "id": "1bf1e1ba-ba59-4236-b6f6-ff1d62d5fe07",
   "metadata": {},
   "source": [
    "# 10 Secret Jupyter Lab Tricks I Wish I Was Given on My Birthday\n",
    "## That I now use everyday"
   ]
  },
  {
   "cell_type": "markdown",
   "id": "2bc52e63-3d2e-4a3a-865f-f30d56b06fdf",
   "metadata": {},
   "source": [
    "### Introduction"
   ]
  },
  {
   "cell_type": "markdown",
   "id": "1a2f3ba6-53a8-414b-bd7e-548a3c37fe93",
   "metadata": {},
   "source": [
    "### 1. Spellchecker"
   ]
  },
  {
   "cell_type": "markdown",
   "id": "613536ac-c51a-4af7-9e53-5ddffbeaf811",
   "metadata": {},
   "source": [
    "I love my Grammarly Premium but I like to keep my notebooks clean and looked after. For that, I use the spellchecker extension:"
   ]
  },
  {
   "cell_type": "markdown",
   "id": "64496462-0b08-4e2e-ac36-353963267f40",
   "metadata": {},
   "source": [
    "![](images/spellchecker.gif)"
   ]
  },
  {
   "cell_type": "markdown",
   "id": "c8722c0f-deba-4f16-8c23-10d9598ff825",
   "metadata": {},
   "source": [
    "By default, misspelled words will be highlighted with a red background but I changed its settings to underline them instead."
   ]
  },
  {
   "cell_type": "markdown",
   "id": "29a7bddc-47f0-46a6-a678-c7cadd2631d4",
   "metadata": {},
   "source": [
    "Here is how to install the extension:"
   ]
  },
  {
   "cell_type": "markdown",
   "id": "7a2ead1a-af97-46f7-b536-b9b8ffaf8b12",
   "metadata": {},
   "source": [
    "```\n",
    "pip install jupyterlab-spellchecker\n",
    "```"
   ]
  },
  {
   "cell_type": "markdown",
   "id": "0adb5d0d-bc9f-4a76-9dae-e51e214a5c6f",
   "metadata": {},
   "source": [
    "You can check out the docs as well."
   ]
  },
  {
   "cell_type": "markdown",
   "id": "ef8243e4-eaff-403d-8107-81e707b1e821",
   "metadata": {},
   "source": [
    "Link: https://github.com/jupyterlab-contrib/spellchecker"
   ]
  },
  {
   "cell_type": "markdown",
   "id": "7e68ae28-6602-4191-9fd6-c10e47ae1cbe",
   "metadata": {
    "tags": []
   },
   "source": [
    "### 2. Code formatter"
   ]
  },
  {
   "cell_type": "markdown",
   "id": "c78ecc39-8dcb-41e8-a2f6-606df164542e",
   "metadata": {},
   "source": [
    "```\n",
    "# Install the formatters\n",
    "$ pip install black isort\n",
    "# Install the extension\n",
    "$ pip install jupyterlab-code-formatter\n",
    "```"
   ]
  },
  {
   "cell_type": "markdown",
   "id": "66902f72-bf89-4b86-98fc-642c19ab6e9b",
   "metadata": {},
   "source": [
    "I cringe when I see unformatted code. I want spaces between values of lists, proper indentation and a whole lot more formatting features offered by the Jupyter Lab Code Formatter extension. "
   ]
  },
  {
   "cell_type": "markdown",
   "id": "46e299d5-a34e-48f2-a36c-8a58beda3327",
   "metadata": {},
   "source": [
    "![](images/code_formatter.gif)"
   ]
  },
  {
   "cell_type": "markdown",
   "id": "1d24a0d4-ab4c-4ee5-b849-248c94590ef5",
   "metadata": {},
   "source": [
    "After the installation, a weird but cool-looking icon appears at the top. If you don't want to use that button, you can configure the extension to automatically format on save (use the Advanced Settings Editor). "
   ]
  },
  {
   "cell_type": "markdown",
   "id": "bb5d24dc-6a2f-497d-8da5-da5a1d711c22",
   "metadata": {},
   "source": [
    "Link: https://github.com/ryantam626/jupyterlab_code_formatter"
   ]
  },
  {
   "cell_type": "markdown",
   "id": "2d6ab8f2-881e-4085-b3a2-f5713ad2603e",
   "metadata": {},
   "source": [
    "### 3. Multiple cursors"
   ]
  },
  {
   "cell_type": "markdown",
   "id": "0a0698cf-1b5e-4a6e-a874-95346c7b8466",
   "metadata": {},
   "source": [
    "Do you hate it when you have a variable at the top of a cell and only realize it was misspelled after you used it a dozen times?\n",
    "\n",
    "Using multiple cursors, you can fix the problem quickly and without 'find/replace'. Just hold the `Ctrl` button as you click."
   ]
  },
  {
   "cell_type": "markdown",
   "id": "38e59907-a978-48f3-aec1-1ee04444c92e",
   "metadata": {},
   "source": [
    "![](images/multiple_cursors.gif)"
   ]
  },
  {
   "cell_type": "markdown",
   "id": "037fae5a-c291-49f4-bdeb-c021b1e3c293",
   "metadata": {},
   "source": [
    "Note that you can't multi-select across two or more cells."
   ]
  },
  {
   "cell_type": "markdown",
   "id": "03b2fe1f-b32d-4635-b3ef-143385c1c845",
   "metadata": {},
   "source": [
    "### 4. Adding virtual environments as kernels"
   ]
  },
  {
   "cell_type": "markdown",
   "id": "387de33a-46a3-4e0c-a197-175fded32272",
   "metadata": {},
   "source": [
    "We are always told to use separate virtual environments for different projects. Unfortunately, JupyterLab can't hear that unless you explicitly tell it. \n",
    "\n",
    "Here is how to add a virtual environment to Jupyter Lab as a kernel so that it appears as an option in the Launcher or in the kernels list in the top right:"
   ]
  },
  {
   "cell_type": "markdown",
   "id": "ae3553f2-9546-460a-a175-44f5f31b85b3",
   "metadata": {},
   "source": [
    "```\n",
    "$ pip install ipykernel\n",
    "\n",
    "$ ipython kernel install --user --name=new_or_existing_env_name\n",
    "```"
   ]
  },
  {
   "cell_type": "markdown",
   "id": "1ee00a19-51be-4551-a192-6bd3baa0939e",
   "metadata": {},
   "source": [
    "### 5. Run notebooks like scripts"
   ]
  },
  {
   "cell_type": "markdown",
   "id": "0accf1d2-e59a-40be-b09c-f46c3346c15a",
   "metadata": {},
   "source": [
    "Jupyter notebooks are for exploration and interactive outputs. While working on serious projects, it is best practice to switch to scripts for pure Python code like training and tuning models. \n",
    "\n",
    "But best practices are made to be broken :)\n",
    "\n",
    "> Actually they aren't. You *should* get comfortable with scripts.\n",
    "\n",
    "Using the `jupyter run` command, you can execute every cell of a notebook just like a Python script. "
   ]
  },
  {
   "cell_type": "markdown",
   "id": "4d5bf6e1-e97c-4430-a125-ae76f572d263",
   "metadata": {},
   "source": [
    "```\n",
    "jupyter run path_to_notebook.ipynb\n",
    "```"
   ]
  },
  {
   "cell_type": "markdown",
   "id": "d16942fb-e4f7-4127-b2ac-65680c273534",
   "metadata": {},
   "source": [
    "This can be useful if you have a model training notebook and you want to execute it after modifying model hyperparameters so that you get a fresh model saved to your workspace."
   ]
  },
  {
   "cell_type": "markdown",
   "id": "3ef3ce13-1104-46d5-aed2-6ef8d8bc3483",
   "metadata": {},
   "source": [
    "### 6. Splitting editor window"
   ]
  },
  {
   "cell_type": "markdown",
   "id": "e15e807d-aa85-48c7-a308-2a9ced135230",
   "metadata": {},
   "source": [
    "One of the few things I like about Windows OS is the drag-and-snap applications feature. To my delight, the same feature exists for the Jupyter Lab editor window.\n",
    "\n",
    "You can drag notebooks to split the editor window among 2, 3 and 4 notebooks."
   ]
  },
  {
   "cell_type": "markdown",
   "id": "15d91a2f-09f0-41f4-98b0-26bb2701a144",
   "metadata": {},
   "source": [
    "![](images/split_editor.gif)"
   ]
  },
  {
   "cell_type": "markdown",
   "id": "9d1110ad-37b5-49ed-aa7e-11fd7c826950",
   "metadata": {
    "tags": []
   },
   "source": [
    "### 7. See the docs of anything"
   ]
  },
  {
   "cell_type": "markdown",
   "id": "0c31fea8-6ab3-4a8f-9908-479949813851",
   "metadata": {},
   "source": [
    "You can look up the documentation of virtually any function or magic command straight from the editor. There are three ways to do it. \n",
    "\n",
    "The first one is using the `Shift + Tab` keyboard shortcut, which displays a pop-up window containing the docs of the function or class the cursor is at:"
   ]
  },
  {
   "cell_type": "markdown",
   "id": "701b66b0-db23-42b2-a3c7-9c7fa561a706",
   "metadata": {},
   "source": [
    "![](images/shift_tab.gif)"
   ]
  },
  {
   "cell_type": "markdown",
   "id": "0fdb639c-1b61-4df8-bc50-a6fc3f30c282",
   "metadata": {},
   "source": [
    "If you don't want the pop-up to disappear, you can use Contextual Help, which can be accessed either through the Help menu or with the `Ctrl + I` keyboard shortcut. The contextual help changes to display the docs of a function or class the cursor is pointing."
   ]
  },
  {
   "cell_type": "markdown",
   "id": "ee9f7825-650d-4f06-a2ea-c3c61963b364",
   "metadata": {},
   "source": [
    "![](images/context_menu.gif)"
   ]
  },
  {
   "cell_type": "markdown",
   "id": "ececdf7f-5d4a-4ecf-a541-a7f1c921c8f6",
   "metadata": {},
   "source": [
    "Finally, you can simply add a question mark at the end of a function or class name (without the parentheses):"
   ]
  },
  {
   "cell_type": "markdown",
   "id": "33075004-a6c4-45be-a7f0-d6fd9934e565",
   "metadata": {},
   "source": [
    "![](images/question_mark.png)"
   ]
  },
  {
   "cell_type": "markdown",
   "id": "f78c2773-452c-42c0-904e-89f23501cfb7",
   "metadata": {},
   "source": [
    "### 8. Mixing terminal commands and Python code"
   ]
  },
  {
   "cell_type": "markdown",
   "id": "626a2950-c563-486f-8ac9-924bcbc81164",
   "metadata": {},
   "source": [
    "This feature seems like a freak show but dead useful. Using the exclamation mark (!), you can run any terminal command inside a code cell.\n",
    "\n",
    "Even more, you can store the output of those commands inside Python variables. For example, below, I am storing the current working directory inside `path` using the output of `!pwd`:"
   ]
  },
  {
   "cell_type": "markdown",
   "id": "539ca0c0-0f33-40b1-ad40-8557ed7b30fd",
   "metadata": {},
   "source": [
    "```\n",
    "path = !pwd\n",
    "\n",
    ">>> print(path)\n",
    "['/home/bexgboost/articles/2023/1_january/2_jupyter_lab_tricks']\n",
    "```"
   ]
  },
  {
   "cell_type": "markdown",
   "id": "c662f0ab-2cd9-4794-a71f-9921b5cf209c",
   "metadata": {},
   "source": [
    "Here is a more useful example. Let's say you have a `data` folder that contains images for model training. All images are sorted into directories based on their class. \n",
    "\n",
    "The problem is that there are too many image class to count manually. So, you use a quick terminal magic to count the number of directories inside `data/raw/train` and store its output inside `number_of_classes`:"
   ]
  },
  {
   "cell_type": "markdown",
   "id": "d8b4666c-0d0f-4d02-b363-96765fead1e6",
   "metadata": {},
   "source": [
    "```\n",
    "number_of_classes = !ls -1 data/raw/train | wc -l\n",
    "\n",
    ">>> print(number_of_classes)\n",
    "43\n",
    "```\n",
    "\n"
   ]
  },
  {
   "cell_type": "markdown",
   "id": "8f423e1d-9cd1-4eaa-a754-05f518c425ea",
   "metadata": {},
   "source": [
    "How crazy is that?!"
   ]
  },
  {
   "cell_type": "markdown",
   "id": "17d08c5e-61db-462a-ac41-006f28bfead1",
   "metadata": {},
   "source": [
    "### 9. Notify execution"
   ]
  },
  {
   "cell_type": "markdown",
   "id": "23b038cc-f7f5-40a0-868b-36fdbff6e0a1",
   "metadata": {},
   "source": [
    "```python\n",
    "import winsound\n",
    "\n",
    "# Create a beep that lasts three seconds\n",
    "duration = 3000\n",
    "freq = 440\n",
    "\n",
    "winsound.Beep(freq, duration)\n",
    "```"
   ]
  },
  {
   "cell_type": "markdown",
   "id": "e4870585-bacd-4b72-9dac-8051965c64ca",
   "metadata": {},
   "source": [
    "### 10. Working with Python scripts"
   ]
  },
  {
   "cell_type": "markdown",
   "id": "6bf50824-a875-4aab-bb59-1b381a4066b5",
   "metadata": {},
   "source": [
    "![](images/pycat.png)"
   ]
  },
  {
   "cell_type": "markdown",
   "id": "91035ca8-aedb-475a-93a3-36362bd30166",
   "metadata": {},
   "source": [
    "### Conclusion"
   ]
  }
 ],
 "metadata": {
  "kernelspec": {
   "display_name": "articles",
   "language": "python",
   "name": "articles"
  },
  "language_info": {
   "codemirror_mode": {
    "name": "ipython",
    "version": 3
   },
   "file_extension": ".py",
   "mimetype": "text/x-python",
   "name": "python",
   "nbconvert_exporter": "python",
   "pygments_lexer": "ipython3",
   "version": "3.9.13"
  },
  "toc-autonumbering": false,
  "toc-showcode": false,
  "toc-showmarkdowntxt": false,
  "toc-showtags": false
 },
 "nbformat": 4,
 "nbformat_minor": 5
}
