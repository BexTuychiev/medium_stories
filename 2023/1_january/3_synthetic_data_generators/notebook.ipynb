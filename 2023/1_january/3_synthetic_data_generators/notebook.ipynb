{
 "cells": [
  {
   "cell_type": "markdown",
   "id": "cea27207-1922-434f-be33-ac3b1ba5e8bd",
   "metadata": {},
   "source": [
    "# N of the Easiest Python Synthetic Data Generators\n",
    "## Let's get even more data"
   ]
  },
  {
   "cell_type": "markdown",
   "id": "81bd8a42-6fcf-41d2-bfe4-0e3c8403e358",
   "metadata": {},
   "source": [
    "### Faker\n",
    "\n",
    "https://faker.readthedocs.io/en/master/"
   ]
  },
  {
   "cell_type": "markdown",
   "id": "ac2ecfb6-264e-4293-bc5d-c9ab947d5314",
   "metadata": {},
   "source": [
    "### Scikit-learn\n",
    "\n",
    "https://scikit-learn.org/stable/datasets/sample_generators.html"
   ]
  },
  {
   "cell_type": "markdown",
   "id": "9b994c54-6675-4f3f-83e4-93bcff726e1e",
   "metadata": {},
   "source": [
    "### PyOD\n",
    "\n",
    "https://github.com/yzhao062/pyod"
   ]
  },
  {
   "cell_type": "markdown",
   "id": "4ed7739b-e13b-4aaa-9d89-6787c6777aa2",
   "metadata": {},
   "source": [
    "### CTGAN\n",
    "\n",
    "https://github.com/sdv-dev/CTGAN"
   ]
  },
  {
   "cell_type": "markdown",
   "id": "a0f0bca1-674e-4180-9165-49eba7e50cd7",
   "metadata": {},
   "source": [
    "### Mimesis\n",
    "\n",
    "https://mimesis.name/en/master/"
   ]
  },
  {
   "cell_type": "markdown",
   "id": "5e5aba2b-07a7-434c-8b0c-1f9b1f4e1693",
   "metadata": {},
   "source": [
    "### Data augmentation with TensorFlow\n",
    "\n",
    "https://www.tensorflow.org/tutorials/images/data_augmentation\n",
    "\n",
    "https://www.tensorflow.org/api_docs/python/tf/keras/preprocessing/image/ImageDataGenerator"
   ]
  },
  {
   "cell_type": "markdown",
   "id": "08ce0fce-5ced-49af-909c-d0174b479dab",
   "metadata": {},
   "source": [
    "### "
   ]
  },
  {
   "cell_type": "markdown",
   "id": "773abee3-6e4f-44f4-b760-648eed8c6948",
   "metadata": {},
   "source": [
    "### "
   ]
  },
  {
   "cell_type": "markdown",
   "id": "2a3a152b-57fc-4272-9abc-8279f4bf45ab",
   "metadata": {},
   "source": [
    "### "
   ]
  },
  {
   "cell_type": "markdown",
   "id": "6a372ce8-a766-4d5c-9b22-6f5ca6e45dfe",
   "metadata": {},
   "source": [
    "### "
   ]
  },
  {
   "cell_type": "markdown",
   "id": "ee60c984-a3b1-498b-bfe0-80bdbb6545ec",
   "metadata": {},
   "source": [
    "### "
   ]
  },
  {
   "cell_type": "markdown",
   "id": "4eae52f2-2493-4cd9-b5dc-4769b9026cfc",
   "metadata": {},
   "source": [
    "### "
   ]
  },
  {
   "cell_type": "markdown",
   "id": "058f222f-4752-454f-9fcc-2d9b973fdb76",
   "metadata": {},
   "source": [
    "### "
   ]
  }
 ],
 "metadata": {
  "kernelspec": {
   "display_name": "articles",
   "language": "python",
   "name": "articles"
  },
  "language_info": {
   "codemirror_mode": {
    "name": "ipython",
    "version": 3
   },
   "file_extension": ".py",
   "mimetype": "text/x-python",
   "name": "python",
   "nbconvert_exporter": "python",
   "pygments_lexer": "ipython3",
   "version": "3.9.13"
  }
 },
 "nbformat": 4,
 "nbformat_minor": 5
}
