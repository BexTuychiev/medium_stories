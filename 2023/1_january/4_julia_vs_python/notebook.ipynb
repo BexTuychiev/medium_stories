{
 "cells": [
  {
   "cell_type": "markdown",
   "id": "98bfa177-20a4-47f4-ac26-f430b93e39b1",
   "metadata": {},
   "source": [
    "# Julia vs. Python: 5 Excellent Julia Features That Will Put Python To Shame\n",
    "## Top 5 reasons to check out Julia\n",
    "![](images/unsplash.jpg)\n",
    "<figcaption style=\"text-align: center;\">\n",
    "    <strong>\n",
    "        Photo by \n",
    "        <a href='https://unsplash.com/@harrson?utm_source=unsplash&utm_medium=referral&utm_content=creditCopyText'>Den Harsson</a>\n",
    "    </strong>\n",
    "</figcaption>"
   ]
  },
  {
   "cell_type": "markdown",
   "id": "7d074a71-ed0c-4e29-b6a2-23111641ac9e",
   "metadata": {},
   "source": [
    "### Introduction"
   ]
  },
  {
   "cell_type": "markdown",
   "id": "14669ea7-9df4-4516-8e9b-d53cbcc08da5",
   "metadata": {},
   "source": [
    "### 1. Speed"
   ]
  },
  {
   "cell_type": "markdown",
   "id": "e18499c5-d18e-479e-86c3-2c9f6939c64c",
   "metadata": {},
   "source": [
    "### 2. Interoperability"
   ]
  },
  {
   "cell_type": "markdown",
   "id": "e2ffc349-8b91-4a7b-834c-f73734a45989",
   "metadata": {},
   "source": [
    "### 3. Native math support"
   ]
  },
  {
   "cell_type": "markdown",
   "id": "d2ea5df0-6c5d-4d9d-b92a-c00cab6eb420",
   "metadata": {},
   "source": [
    "### 4. Multiple dispatch"
   ]
  },
  {
   "cell_type": "markdown",
   "id": "8587d2af-f657-4c13-8000-323601682ad5",
   "metadata": {},
   "source": [
    "### 5. Command-line and shell support"
   ]
  },
  {
   "cell_type": "markdown",
   "id": "fb7d2413-f119-4c11-9602-56e72ac56bb6",
   "metadata": {},
   "source": [
    "### Conclusion"
   ]
  }
 ],
 "metadata": {
  "kernelspec": {
   "display_name": "articles",
   "language": "python",
   "name": "articles"
  },
  "language_info": {
   "codemirror_mode": {
    "name": "ipython",
    "version": 3
   },
   "file_extension": ".py",
   "mimetype": "text/x-python",
   "name": "python",
   "nbconvert_exporter": "python",
   "pygments_lexer": "ipython3",
   "version": "3.9.13"
  }
 },
 "nbformat": 4,
 "nbformat_minor": 5
}
