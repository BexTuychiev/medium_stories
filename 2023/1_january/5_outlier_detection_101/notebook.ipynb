{
 "cells": [
  {
   "cell_type": "markdown",
   "id": "40ce7a0c-3ccd-48f0-870d-2142e098c1b7",
   "metadata": {},
   "source": [
    "# How to Perform Outlier Detection In Python In Easy Steps For Machine Learning\n",
    "## Let's get those outliers - part 1"
   ]
  },
  {
   "cell_type": "markdown",
   "id": "f6b289e7-fee9-42f9-866e-316e3865a8d4",
   "metadata": {},
   "source": [
    "### What are outliers?"
   ]
  },
  {
   "cell_type": "markdown",
   "id": "28b3bdae-fd09-4aed-a5ee-effd4dbdecc8",
   "metadata": {},
   "source": [
    "### Why bother with outlier detection?"
   ]
  },
  {
   "cell_type": "markdown",
   "id": "bcd05750-8a8c-40b5-8ddd-c35460a3b991",
   "metadata": {},
   "source": [
    "### What you will learn in this tutorial"
   ]
  },
  {
   "cell_type": "markdown",
   "id": "82a7b916-787b-4522-92e9-9e50373c76dd",
   "metadata": {},
   "source": [
    "### Outlier detection is an unsupervised problem"
   ]
  },
  {
   "cell_type": "markdown",
   "id": "277ddace-0a67-43b8-9a0a-2fe67344ac9b",
   "metadata": {},
   "source": [
    "### Anomalies vs. outliers vs. novelties"
   ]
  },
  {
   "cell_type": "markdown",
   "id": "02aaa489-8fc0-463a-9010-25b4b5a75623",
   "metadata": {},
   "source": [
    "### Contamination"
   ]
  },
  {
   "cell_type": "markdown",
   "id": "124e909d-ea47-4c8c-8ce9-d4dedf1a9fe3",
   "metadata": {},
   "source": [
    "### Univariate vs. multivariate outliers"
   ]
  },
  {
   "cell_type": "markdown",
   "id": "618b829c-75cb-43f3-8e4a-496e211df1ac",
   "metadata": {},
   "source": [
    "### Conclusion"
   ]
  }
 ],
 "metadata": {
  "kernelspec": {
   "display_name": "articles",
   "language": "python",
   "name": "articles"
  },
  "language_info": {
   "codemirror_mode": {
    "name": "ipython",
    "version": 3
   },
   "file_extension": ".py",
   "mimetype": "text/x-python",
   "name": "python",
   "nbconvert_exporter": "python",
   "pygments_lexer": "ipython3",
   "version": "3.9.13"
  }
 },
 "nbformat": 4,
 "nbformat_minor": 5
}
