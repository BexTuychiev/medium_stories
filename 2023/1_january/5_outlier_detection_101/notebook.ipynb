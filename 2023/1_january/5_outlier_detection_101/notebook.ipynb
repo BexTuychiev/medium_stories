{
 "cells": [
  {
   "cell_type": "markdown",
   "id": "40ce7a0c-3ccd-48f0-870d-2142e098c1b7",
   "metadata": {},
   "source": [
    "# How to Perform Outlier Detection In Python In Easy Steps For Machine Learning\n",
    "## The theory - Earth is an outlier"
   ]
  },
  {
   "cell_type": "markdown",
   "id": "2acfcc7f-3341-4b46-883f-0cf6330405e0",
   "metadata": {},
   "source": [
    "![](images/pixabay.jpg)"
   ]
  },
  {
   "cell_type": "markdown",
   "id": "f6b289e7-fee9-42f9-866e-316e3865a8d4",
   "metadata": {},
   "source": [
    "### What are outliers?"
   ]
  },
  {
   "cell_type": "markdown",
   "id": "e33ce933-d8c3-4f74-bcc5-c1759f0d5a4c",
   "metadata": {},
   "source": [
    "We live on an outlier. Earth is the only hump of rock that has life in the Milky Way galaxy. Other planets in our galaxy are inliers or normal datapoints in a so-called database of stars and planets. \n",
    "\n",
    "There are many definitions of outliers. In simple terms, we define outliers as datapoints that are significantly different than the majority in a dataset. Outliers are the rare, extreme samples that don't conform or align with the inliers in a dataset.\n",
    "\n",
    "Statistically speaking, outliers come from a different distribution than the rest of the samples in a feature. They present statistically significant abnormalities.\n",
    "\n",
    "These definitions depend on what we consider \"normal\". For example, it is perfectly normal for CEOs to make millions of dollars but if we add their salary information to a dataset of household incomes, they become abnormal. \n",
    "\n",
    "Outlier detection is the field of statistics and machine learning that uses a variety of techniques and algorithms to detect such extreme samples. "
   ]
  },
  {
   "cell_type": "markdown",
   "id": "28b3bdae-fd09-4aed-a5ee-effd4dbdecc8",
   "metadata": {},
   "source": [
    "### Why bother with outlier detection?"
   ]
  },
  {
   "cell_type": "markdown",
   "id": "68c665a9-1c8a-41e7-95a7-115383fa6f53",
   "metadata": {},
   "source": [
    "But why though? Why do we need to find them? What's the harm in them? Well, consider this distribution of 12 numbers ranged from 50 to 100. One of the datapoints is 2534 which is clearly an outlier."
   ]
  },
  {
   "cell_type": "code",
   "execution_count": 4,
   "id": "edc58ca7-0d85-4160-95d0-d6296a684f42",
   "metadata": {},
   "outputs": [
    {
     "data": {
      "text/plain": [
       "[97, 87, 95, 62, 53, 66, 2534, 60, 68, 90, 52, 63, 65]"
      ]
     },
     "execution_count": 4,
     "metadata": {},
     "output_type": "execute_result"
    }
   ],
   "source": [
    "import numpy as np\n",
    "\n",
    "array = [97, 87, 95, 62, 53, 66, 2534, 60, 68, 90, 52, 63, 65]\n",
    "array"
   ]
  },
  {
   "cell_type": "markdown",
   "id": "39cdb1b0-c146-44e5-b5de-b208e88ad8e6",
   "metadata": {},
   "source": [
    "Mean and standard deviation are two of the most heavily-used and critical attributes of a distribution, so it is essential that we feed realistic values of these two metrics when fitting machine learning models. \n",
    "\n",
    "Let's calculate them for our sample distribution. "
   ]
  },
  {
   "cell_type": "markdown",
   "id": "79be1740-9710-4a55-95d5-87bd366db859",
   "metadata": {},
   "source": [
    "The mean:"
   ]
  },
  {
   "cell_type": "code",
   "execution_count": 5,
   "id": "69d6a7da-083c-4428-a01a-8eb77bc61d17",
   "metadata": {},
   "outputs": [
    {
     "data": {
      "text/plain": [
       "260.9230769230769"
      ]
     },
     "execution_count": 5,
     "metadata": {},
     "output_type": "execute_result"
    }
   ],
   "source": [
    "np.mean(array)"
   ]
  },
  {
   "cell_type": "markdown",
   "id": "be6a38c8-8c13-45e9-8c05-1ad499f9062a",
   "metadata": {},
   "source": [
    "The standard deviation:"
   ]
  },
  {
   "cell_type": "code",
   "execution_count": 6,
   "id": "26b5729d-575e-4ea1-8da0-94cf8f45fec1",
   "metadata": {},
   "outputs": [
    {
     "data": {
      "text/plain": [
       "656.349984212042"
      ]
     },
     "execution_count": 6,
     "metadata": {},
     "output_type": "execute_result"
    }
   ],
   "source": [
    "np.std(array)"
   ]
  },
  {
   "cell_type": "markdown",
   "id": "9438d6dd-92a1-4bcf-ad3a-7d488ebb8dc8",
   "metadata": {},
   "source": [
    "Now, let's do the same but removing the outlier:"
   ]
  },
  {
   "cell_type": "code",
   "execution_count": 7,
   "id": "c04723c1-3ae2-4099-94ec-3c7cab1d26a2",
   "metadata": {},
   "outputs": [
    {
     "data": {
      "text/plain": [
       "71.5"
      ]
     },
     "execution_count": 7,
     "metadata": {},
     "output_type": "execute_result"
    }
   ],
   "source": [
    "# Array without the outlier\n",
    "array_wo = [97, 87, 95, 62, 53, 66, 60, 68, 90, 52, 63, 65]\n",
    "\n",
    "np.mean(array_wo)"
   ]
  },
  {
   "cell_type": "code",
   "execution_count": 8,
   "id": "9b73a30d-70df-4b0d-bcc6-84c80300def6",
   "metadata": {},
   "outputs": [
    {
     "data": {
      "text/plain": [
       "15.510748961069977"
      ]
     },
     "execution_count": 8,
     "metadata": {},
     "output_type": "execute_result"
    }
   ],
   "source": [
    "np.std(array_wo)"
   ]
  },
  {
   "cell_type": "markdown",
   "id": "85218bb1-9bca-44f0-b8bc-8c2040b2973c",
   "metadata": {},
   "source": [
    "As you can see, the outlier-free distribution has 3.6 times smaller mean and almost 45 times smaller standard deviation. \n",
    "\n",
    "Apart from skewing the true values of mean and STD, outliers also create noise in training data. They create trends and attributes in distributions that distract machine learning models from real patterns in the data, resulting in performance losses.\n",
    "\n",
    "Therefore, it is paramount to find outliers, explore the reasons for their presence and if appropriate, remove them."
   ]
  },
  {
   "cell_type": "markdown",
   "id": "bcd05750-8a8c-40b5-8ddd-c35460a3b991",
   "metadata": {},
   "source": [
    "### What you will learn in this tutorial"
   ]
  },
  {
   "cell_type": "markdown",
   "id": "e7b6d279-19d7-4245-90a5-df5b47f71c03",
   "metadata": {},
   "source": [
    "Outlier detection is very easy to perform in code with libraries like PyOD or Sklearn once you understand the important theory behind the process. For example, here is how to do outlier detection using a popular Isolation Forest algorithm. "
   ]
  },
  {
   "cell_type": "code",
   "execution_count": 16,
   "id": "81eb50ad-3c87-4b7a-a106-13244615605e",
   "metadata": {},
   "outputs": [
    {
     "data": {
      "text/plain": [
       "136"
      ]
     },
     "execution_count": 16,
     "metadata": {},
     "output_type": "execute_result"
    }
   ],
   "source": [
    "from pyod.models.iforest import IForest\n",
    "\n",
    "iforest = IForest().fit(training_features)\n",
    "\n",
    "# 0 for inliers, 1 for outliers\n",
    "labels = iforest.labels_\n",
    "\n",
    "outliers = training_features[labels == 1]\n",
    "len(outliers)"
   ]
  },
  {
   "cell_type": "markdown",
   "id": "bc8228cd-d746-4b10-99b7-b0637aefab15",
   "metadata": {},
   "source": [
    "It only takes  a few lines of code.\n",
    "\n",
    "Therefore, this tutorial will focus more on theory. Specifically, we will look at outlier detection in the context of unsupervised learning, the concept of contamination in datasets, the difference between anomalies, outliers and novelties and univariate/multivariate outliers.\n",
    "\n",
    "Let's get started."
   ]
  },
  {
   "cell_type": "markdown",
   "id": "82a7b916-787b-4522-92e9-9e50373c76dd",
   "metadata": {},
   "source": [
    "### Outlier detection is an unsupervised problem"
   ]
  },
  {
   "cell_type": "markdown",
   "id": "74faa8c1-1140-436c-af4e-785d21948d6b",
   "metadata": {},
   "source": [
    "Unlike many other ML tasks, outlier detection is an unsupervised learning problem. What do we mean by that?\n",
    "\n",
    "For example, in classification, we have a set of features that map to specific outputs. We have labels that tell us which sample is a dog and which one is a cat.\n",
    "\n",
    "In outlier detection, that's not the case. We have no prior knowledge of outliers when we are presented with a new dataset. This causes a number of challenges (but nothing we can't handle).\n",
    "\n",
    "First of all, we won't have an easy way of measuring the effectiveness of outlier detection methods. In classification, we used metrics such as accuracy or precision to measure how well the algorithm fits to our training dataset. In outlier detection, we can't use these metrics because we won't have any labels that allow us to compare predictions to ground truth.\n",
    "\n",
    "And since we can't use traditional metrics to measure performance, we can't easily perform hyperparameter tuning. This makes it even hard to find the best outlier classifier (an algorithm that returns inlier/outlier labels for each row of a dataset) for the task at hand. \n",
    "\n",
    "However, don't despair. We will see two excellent workarounds in the next tutorial."
   ]
  },
  {
   "cell_type": "markdown",
   "id": "b25e40fc-d9ba-4e34-9634-35671a54f024",
   "metadata": {},
   "source": [
    "### Anomalies vs. outliers vs. novelties"
   ]
  },
  {
   "cell_type": "markdown",
   "id": "5c7d0807-0375-487a-ad14-b68be1a64aed",
   "metadata": {},
   "source": [
    "In many sources, you'll see the terms \"anomalies\" and \"novelties\" often cited together. Even though they are close in meaning, there are important distinctions.\n",
    "\n",
    "An anomaly is a general term that encompasses anything out of the ordinary and abnormal. Anomalies can refer to irregularities in either training or test sets.\n",
    "\n",
    "As for outliers, they only exist in training data. Outlier detection refers to the process of finding abnormal datapoints from the training set. Outlier classifiers only perform a `fit` to the training data and return inlier/outlier labels.\n",
    "\n",
    "On the other hand, novelties exist only in the test set. In novelty detection, you have a clean, outlier-free dataset and you are trying to see if new, unseen observations have different attributes than the training samples. Hence, irregular instances in a test set become novelties.\n",
    "\n",
    "In short, anomaly detection is the parent field of both outlier and novelty detection. While outliers only refer to abnormal samples in the training data, novelties exist in the test set.\n",
    "\n",
    "This distinction is important for when we start using outlier classifiers in the next tutorial."
   ]
  },
  {
   "cell_type": "markdown",
   "id": "124e909d-ea47-4c8c-8ce9-d4dedf1a9fe3",
   "metadata": {},
   "source": [
    "### Univariate vs. multivariate outliers"
   ]
  },
  {
   "cell_type": "markdown",
   "id": "4cde541a-1368-497f-826f-88af0e84e391",
   "metadata": {},
   "source": [
    "Univariate and multivariate outliers refer to outliers in different types of data. \n",
    "\n",
    "As the name suggests, univariate outliers only exist in single distributions. An example is an extremely tall person in a dataset of height measurements.\n",
    "\n",
    "Multivariate outliers are a bit tricky. They refer to outliers with two or more attributes, which when looked at individually, don't appear anomalous but only become outliers when all attributes are considered in unison.\n",
    "\n",
    "An example multivariate outlier can be an old car with very low mileage. The attributes of this car may not be abnormal when looked at individually but when combined, you'll realize that old cars usually have high mileage proportional to their age. (There are many old cars and also many cars with low mileage but there aren't many cars that are both old and have low mileage)."
   ]
  },
  {
   "cell_type": "markdown",
   "id": "a525e922-2058-4f16-aa7e-abdd3fb90f1d",
   "metadata": {},
   "source": [
    "The distinction between types of outliers becomes important when choosing an algorithm to detect them. \n",
    "\n",
    "As univariate outliers exist in datasets with only one column, you can use simple and lightweight methods such as [z-scores](https://en.wikipedia.org/wiki/Standard_score) or [modified z-scores](https://en.wikipedia.org/wiki/Median_absolute_deviation).\n",
    "\n",
    "Multivaraite outliers pose a bigger challenge since they may only surface across many columns of a dataset. For that reason, you have to take out big guns such as Isolation Forest, KNN, Local Outlier Factor and so on.\n",
    "\n",
    "In the coming tutorials, we'll see how to use some of the above methods. "
   ]
  },
  {
   "cell_type": "markdown",
   "id": "618b829c-75cb-43f3-8e4a-496e211df1ac",
   "metadata": {},
   "source": [
    "### Conclusion"
   ]
  },
  {
   "cell_type": "markdown",
   "id": "9c1303fe-2113-4e62-b39e-89e95424cad0",
   "metadata": {},
   "source": [
    "There you go! You now know all the importnat terminology and theory behind outlier detection. The only thing left is applying them in practice using outlier classifiers.\n",
    "\n",
    "We will cover some of the most popular and robust outlier classifiers using the PyOD library in the next parts of the article. Stay tuned!"
   ]
  }
 ],
 "metadata": {
  "kernelspec": {
   "display_name": "articles",
   "language": "python",
   "name": "articles"
  },
  "language_info": {
   "codemirror_mode": {
    "name": "ipython",
    "version": 3
   },
   "file_extension": ".py",
   "mimetype": "text/x-python",
   "name": "python",
   "nbconvert_exporter": "python",
   "pygments_lexer": "ipython3",
   "version": "3.9.13"
  }
 },
 "nbformat": 4,
 "nbformat_minor": 5
}
