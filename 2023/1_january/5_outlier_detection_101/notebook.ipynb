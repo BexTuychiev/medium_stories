{
 "cells": [
  {
   "cell_type": "markdown",
   "id": "40ce7a0c-3ccd-48f0-870d-2142e098c1b7",
   "metadata": {},
   "source": [
    "# How to Perform Outlier Detection In Python In Easy Steps For Machine Learning\n",
    "## Let's get those outliers - part 1"
   ]
  },
  {
   "cell_type": "markdown",
   "id": "f6b289e7-fee9-42f9-866e-316e3865a8d4",
   "metadata": {},
   "source": [
    "### What are outliers?"
   ]
  },
  {
   "cell_type": "markdown",
   "id": "e33ce933-d8c3-4f74-bcc5-c1759f0d5a4c",
   "metadata": {},
   "source": [
    "We live on an outlier. Earth is the only hump of rock that has life on it in the Milky Way galaxy. Other planets in our galaxy are inliers or normal datapoints in a so-called database of stars and planets. \n",
    "\n",
    "There are many definitions for outliers. In simple terms, we define outliers as datapoints that are significantly different than the majority in a dataset. Outliers are the rare, extreme samples that don't conform or align with the outliers in a dataset.\n",
    "\n",
    "Statistically speaking, outliers come from a different distribution than the rest of the samples in a feature. They present statistically significant abnormalities.\n",
    "\n",
    "It all depends on what we consider \"normal\". For example, it is perfectly normal for CEOs to make millions of dollars but if we add their salary information to a dataset of household incomes, they become abnormal. \n",
    "\n",
    "Outlier detection is the field of statistics and machine learning that uses a variety of techniques and algorithms to detect such extreme samples. "
   ]
  },
  {
   "cell_type": "markdown",
   "id": "28b3bdae-fd09-4aed-a5ee-effd4dbdecc8",
   "metadata": {},
   "source": [
    "### Why bother with outlier detection?"
   ]
  },
  {
   "cell_type": "markdown",
   "id": "68c665a9-1c8a-41e7-95a7-115383fa6f53",
   "metadata": {},
   "source": [
    "But why though? Why do we need to find them? What's the harm in them? Well, consider this distribution of 10 numbers ranged from 50 to 100 where one of the datapoints is 2534. It is clearly an outlier."
   ]
  },
  {
   "cell_type": "markdown",
   "id": "39cdb1b0-c146-44e5-b5de-b208e88ad8e6",
   "metadata": {},
   "source": [
    "Let's calculate the mean and standard deviation of this distribution. "
   ]
  },
  {
   "cell_type": "markdown",
   "id": "9438d6dd-92a1-4bcf-ad3a-7d488ebb8dc8",
   "metadata": {},
   "source": [
    "Now, let's do the same but after removing the outlier."
   ]
  },
  {
   "cell_type": "markdown",
   "id": "85218bb1-9bca-44f0-b8bc-8c2040b2973c",
   "metadata": {},
   "source": [
    "As you can see, the outlier-free distribution has n times smaller mean  and n times smaller standard deviation. \n",
    "\n",
    "Mean and standard deviation are two of the most heavily used metrics in statistics and machine learning. As outliers skew the true value of these metrics, it is highly important to find them and explore the reasons for their presence.\n",
    "\n",
    "When left unchecked, they will disrupt all statistical qualities of distributions and in turn, hurt the performance of machine learning models."
   ]
  },
  {
   "cell_type": "markdown",
   "id": "bcd05750-8a8c-40b5-8ddd-c35460a3b991",
   "metadata": {},
   "source": [
    "### What you will learn in this tutorial"
   ]
  },
  {
   "cell_type": "markdown",
   "id": "e7b6d279-19d7-4245-90a5-df5b47f71c03",
   "metadata": {},
   "source": [
    "Outlier detection is very easy to perform in code with libraries like PyOD or Sklearn once you understand the important theory behind the process. Therefore, this tutorial will focus more on that part before we move on to code in the next part. "
   ]
  },
  {
   "cell_type": "markdown",
   "id": "82a7b916-787b-4522-92e9-9e50373c76dd",
   "metadata": {},
   "source": [
    "### Outlier detection is an unsupervised problem"
   ]
  },
  {
   "cell_type": "markdown",
   "id": "26c80a68-238b-4a54-b204-c7fe09fabe44",
   "metadata": {},
   "source": [
    "- We don't know which datapoints are outliers beforehand\n",
    "- So, this makes things unsupervised\n",
    "- As this is unsupervised, we have no way of measuring\n",
    "- We can't just take accuracy it is impossible"
   ]
  },
  {
   "cell_type": "markdown",
   "id": "02aaa489-8fc0-463a-9010-25b4b5a75623",
   "metadata": {},
   "source": [
    "### Contamination"
   ]
  },
  {
   "cell_type": "markdown",
   "id": "46632719-08d3-42ff-ab60-3fe823c86d43",
   "metadata": {},
   "source": [
    "- Contamination is a hyperparameter of outlier classifiers\n",
    "- Denotes the percentage of outliers in the dataset\n",
    "- No determined way of knowing which contamination is better\n",
    "- Should be combined with supervised learning models to measure accuracy"
   ]
  },
  {
   "cell_type": "markdown",
   "id": "b25e40fc-d9ba-4e34-9634-35671a54f024",
   "metadata": {},
   "source": [
    "### Anomalies vs. outliers vs. novelties"
   ]
  },
  {
   "cell_type": "markdown",
   "id": "1cb7e6ef-39f5-4fd6-a890-c06047d379bf",
   "metadata": {},
   "source": [
    "- Anomaly is a general term\n",
    "- Outliers exist in training\n",
    "- Novelties exist in test"
   ]
  },
  {
   "cell_type": "markdown",
   "id": "124e909d-ea47-4c8c-8ce9-d4dedf1a9fe3",
   "metadata": {},
   "source": [
    "### Univariate vs. multivariate outliers"
   ]
  },
  {
   "cell_type": "markdown",
   "id": "6ecfbf1f-063c-488d-a670-4f3dde1c7e72",
   "metadata": {},
   "source": [
    "- Exist in single variable distributions\n",
    "- Multiple attributes, not necessarily anomalous"
   ]
  },
  {
   "cell_type": "markdown",
   "id": "618b829c-75cb-43f3-8e4a-496e211df1ac",
   "metadata": {},
   "source": [
    "### Conclusion"
   ]
  }
 ],
 "metadata": {
  "kernelspec": {
   "display_name": "articles",
   "language": "python",
   "name": "articles"
  },
  "language_info": {
   "codemirror_mode": {
    "name": "ipython",
    "version": 3
   },
   "file_extension": ".py",
   "mimetype": "text/x-python",
   "name": "python",
   "nbconvert_exporter": "python",
   "pygments_lexer": "ipython3",
   "version": "3.9.13"
  }
 },
 "nbformat": 4,
 "nbformat_minor": 5
}
