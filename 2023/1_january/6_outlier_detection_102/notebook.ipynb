{
 "cells": [
  {
   "cell_type": "markdown",
   "id": "57cd15b3-f6c0-4dd4-80cf-4346bbf23955",
   "metadata": {},
   "source": [
    "# How to Easily Perform Outlier Detection In Python For Machine Learning, #2\n",
    "## Earth is an outlier - the code, part 2\n",
    "![](images/pixabay.jpg)"
   ]
  },
  {
   "cell_type": "markdown",
   "id": "6284a62d-b1bc-453b-9f27-e62c70230b71",
   "metadata": {},
   "source": []
  }
 ],
 "metadata": {
  "kernelspec": {
   "display_name": "articles",
   "language": "python",
   "name": "articles"
  },
  "language_info": {
   "codemirror_mode": {
    "name": "ipython",
    "version": 3
   },
   "file_extension": ".py",
   "mimetype": "text/x-python",
   "name": "python",
   "nbconvert_exporter": "python",
   "pygments_lexer": "ipython3",
   "version": "3.9.13"
  }
 },
 "nbformat": 4,
 "nbformat_minor": 5
}
