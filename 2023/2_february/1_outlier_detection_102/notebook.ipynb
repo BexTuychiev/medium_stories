{
 "cells": [
  {
   "cell_type": "markdown",
   "id": "57cd15b3-f6c0-4dd4-80cf-4346bbf23955",
   "metadata": {},
   "source": [
    "# How to Easily Perform Outlier Detection In Python For Machine Learning, #2\n",
    "## Earth is an outlier - the code, part 2\n",
    "![](images/pixabay.jpg)\n",
    "<figcaption style=\"text-align: center;\">\n",
    "    Image by <a href=\"https://pixabay.com/users/alexas_fotos-686414/?utm_source=link-attribution&amp;utm_medium=referral&amp;utm_campaign=image&amp;utm_content=1744091\">Alexa</a> from <a href=\"https://pixabay.com//?utm_source=link-attribution&amp;utm_medium=referral&amp;utm_campaign=image&amp;utm_content=1744091\">Pixabay</a>\n",
    "</figcaption>"
   ]
  },
  {
   "cell_type": "markdown",
   "id": "6284a62d-b1bc-453b-9f27-e62c70230b71",
   "metadata": {},
   "source": [
    "### Introduction"
   ]
  },
  {
   "cell_type": "markdown",
   "id": "fb3d9428-d6e8-4db6-91b0-e48508faec9b",
   "metadata": {},
   "source": [
    "The first question to ask before starting outlier detection is \"Does my dataset even have outliers?\". While the usual answer is \"Yes\", it is always recommended to sniff the hint of outliers in the air before making big efforts (like using machine learning models).\n",
    "\n",
    "So, we will start off this second part of our outlier detection tutorial series by looking at general methods of detecting the presence of outliers like data visualization. Then, we will continue the post by talking about methods to detect both univariate and multivaraite outliers.\n",
    " \n",
    "Let's get started!"
   ]
  },
  {
   "cell_type": "markdown",
   "id": "797f7f82-7c2c-4b28-9500-1855d310d2d3",
   "metadata": {},
   "source": [
    "### Do outliers even exist?"
   ]
  },
  {
   "cell_type": "markdown",
   "id": "ff83ab87-3a6e-46e2-a0ea-c2a7b9071583",
   "metadata": {},
   "source": [
    "### Univariate outlier detection"
   ]
  },
  {
   "cell_type": "markdown",
   "id": "8d5f4c6e-f352-4092-b5fc-baaaeb657b8b",
   "metadata": {},
   "source": [
    "### Modified z-scores"
   ]
  },
  {
   "cell_type": "markdown",
   "id": "cace5c81-a2bd-4416-9402-658d08898f5b",
   "metadata": {},
   "source": [
    "### Multivariate outlier detection with PyOD"
   ]
  },
  {
   "cell_type": "markdown",
   "id": "34219853-c71d-4404-b133-a73483cc7c5b",
   "metadata": {},
   "source": [
    "### Contamination"
   ]
  },
  {
   "cell_type": "markdown",
   "id": "e30ce851-97bb-4655-9a6d-9bb3822db269",
   "metadata": {},
   "source": [
    "### Conclusion"
   ]
  }
 ],
 "metadata": {
  "kernelspec": {
   "display_name": "articles",
   "language": "python",
   "name": "articles"
  },
  "language_info": {
   "codemirror_mode": {
    "name": "ipython",
    "version": 3
   },
   "file_extension": ".py",
   "mimetype": "text/x-python",
   "name": "python",
   "nbconvert_exporter": "python",
   "pygments_lexer": "ipython3",
   "version": "3.9.13"
  }
 },
 "nbformat": 4,
 "nbformat_minor": 5
}
