{
 "cells": [
  {
   "cell_type": "markdown",
   "id": "57cd15b3-f6c0-4dd4-80cf-4346bbf23955",
   "metadata": {},
   "source": [
    "# How to Easily Perform Outlier Detection In Python For Machine Learning, #2\n",
    "## Earth is an outlier - the code, part 2\n",
    "![](images/pixabay.jpg)\n",
    "<figcaption style=\"text-align: center;\">\n",
    "    Image by <a href=\"https://pixabay.com/users/alexas_fotos-686414/?utm_source=link-attribution&amp;utm_medium=referral&amp;utm_campaign=image&amp;utm_content=1744091\">Alexa</a> from <a href=\"https://pixabay.com//?utm_source=link-attribution&amp;utm_medium=referral&amp;utm_campaign=image&amp;utm_content=1744091\">Pixabay</a>\n",
    "</figcaption>"
   ]
  },
  {
   "cell_type": "markdown",
   "id": "6284a62d-b1bc-453b-9f27-e62c70230b71",
   "metadata": {},
   "source": [
    "### Introduction"
   ]
  },
  {
   "cell_type": "markdown",
   "id": "fb3d9428-d6e8-4db6-91b0-e48508faec9b",
   "metadata": {},
   "source": [
    "The first question to ask before starting outlier detection is \"Does my dataset even have outliers?\". While the usual answer is \"Yes\", it is always recommended to sniff the hint of outlier presence in the air before making big efforts (like using machine learning models) to isolate them.\n",
    "\n",
    "So, we will start off this second part of our outlier detection tutorial series by looking at general methods of detecting the presence of outliers like data visualization. Then, we will continue the post by talking about methods to detect both univariate and multivaraite outliers.\n",
    " \n",
    "Let's get started!"
   ]
  },
  {
   "cell_type": "markdown",
   "id": "56a26fe3-ed5a-4499-8595-cadea295e22d",
   "metadata": {},
   "source": [
    "### The dataset to be used"
   ]
  },
  {
   "cell_type": "markdown",
   "id": "62aec310-1fbd-42f7-aa67-c7cb09ede4d9",
   "metadata": {},
   "source": [
    "We'll be using the Diamonds dataset throughout the tutorial. It is large enough for it to not be a toy dataset and it has got a nice combination of numeric and categorical features. "
   ]
  },
  {
   "cell_type": "code",
   "execution_count": 2,
   "id": "3b330d0c-082e-4f5c-8ae3-01eec3fd187a",
   "metadata": {},
   "outputs": [
    {
     "data": {
      "text/html": [
       "<div>\n",
       "<style scoped>\n",
       "    .dataframe tbody tr th:only-of-type {\n",
       "        vertical-align: middle;\n",
       "    }\n",
       "\n",
       "    .dataframe tbody tr th {\n",
       "        vertical-align: top;\n",
       "    }\n",
       "\n",
       "    .dataframe thead th {\n",
       "        text-align: right;\n",
       "    }\n",
       "</style>\n",
       "<table border=\"1\" class=\"dataframe\">\n",
       "  <thead>\n",
       "    <tr style=\"text-align: right;\">\n",
       "      <th></th>\n",
       "      <th>carat</th>\n",
       "      <th>cut</th>\n",
       "      <th>color</th>\n",
       "      <th>clarity</th>\n",
       "      <th>depth</th>\n",
       "      <th>table</th>\n",
       "      <th>price</th>\n",
       "      <th>x</th>\n",
       "      <th>y</th>\n",
       "      <th>z</th>\n",
       "    </tr>\n",
       "  </thead>\n",
       "  <tbody>\n",
       "    <tr>\n",
       "      <th>0</th>\n",
       "      <td>0.23</td>\n",
       "      <td>Ideal</td>\n",
       "      <td>E</td>\n",
       "      <td>SI2</td>\n",
       "      <td>61.5</td>\n",
       "      <td>55.0</td>\n",
       "      <td>326</td>\n",
       "      <td>3.95</td>\n",
       "      <td>3.98</td>\n",
       "      <td>2.43</td>\n",
       "    </tr>\n",
       "    <tr>\n",
       "      <th>1</th>\n",
       "      <td>0.21</td>\n",
       "      <td>Premium</td>\n",
       "      <td>E</td>\n",
       "      <td>SI1</td>\n",
       "      <td>59.8</td>\n",
       "      <td>61.0</td>\n",
       "      <td>326</td>\n",
       "      <td>3.89</td>\n",
       "      <td>3.84</td>\n",
       "      <td>2.31</td>\n",
       "    </tr>\n",
       "    <tr>\n",
       "      <th>2</th>\n",
       "      <td>0.23</td>\n",
       "      <td>Good</td>\n",
       "      <td>E</td>\n",
       "      <td>VS1</td>\n",
       "      <td>56.9</td>\n",
       "      <td>65.0</td>\n",
       "      <td>327</td>\n",
       "      <td>4.05</td>\n",
       "      <td>4.07</td>\n",
       "      <td>2.31</td>\n",
       "    </tr>\n",
       "    <tr>\n",
       "      <th>3</th>\n",
       "      <td>0.29</td>\n",
       "      <td>Premium</td>\n",
       "      <td>I</td>\n",
       "      <td>VS2</td>\n",
       "      <td>62.4</td>\n",
       "      <td>58.0</td>\n",
       "      <td>334</td>\n",
       "      <td>4.20</td>\n",
       "      <td>4.23</td>\n",
       "      <td>2.63</td>\n",
       "    </tr>\n",
       "    <tr>\n",
       "      <th>4</th>\n",
       "      <td>0.31</td>\n",
       "      <td>Good</td>\n",
       "      <td>J</td>\n",
       "      <td>SI2</td>\n",
       "      <td>63.3</td>\n",
       "      <td>58.0</td>\n",
       "      <td>335</td>\n",
       "      <td>4.34</td>\n",
       "      <td>4.35</td>\n",
       "      <td>2.75</td>\n",
       "    </tr>\n",
       "  </tbody>\n",
       "</table>\n",
       "</div>"
      ],
      "text/plain": [
       "   carat      cut color clarity  depth  table  price     x     y     z\n",
       "0   0.23    Ideal     E     SI2   61.5   55.0    326  3.95  3.98  2.43\n",
       "1   0.21  Premium     E     SI1   59.8   61.0    326  3.89  3.84  2.31\n",
       "2   0.23     Good     E     VS1   56.9   65.0    327  4.05  4.07  2.31\n",
       "3   0.29  Premium     I     VS2   62.4   58.0    334  4.20  4.23  2.63\n",
       "4   0.31     Good     J     SI2   63.3   58.0    335  4.34  4.35  2.75"
      ]
     },
     "execution_count": 2,
     "metadata": {},
     "output_type": "execute_result"
    }
   ],
   "source": [
    "import seaborn as sns\n",
    "\n",
    "diamonds = sns.load_dataset(\"diamonds\")\n",
    "diamonds.head()"
   ]
  },
  {
   "cell_type": "markdown",
   "id": "06e58395-7f0b-456b-8c75-068d23bcaa00",
   "metadata": {},
   "source": [
    "Our eventual task after outlier detection is predicting the carat of diamonds given its physical characteristics and price:"
   ]
  },
  {
   "cell_type": "code",
   "execution_count": 3,
   "id": "bda89ce6-d708-4193-b4c1-00d653128641",
   "metadata": {},
   "outputs": [
    {
     "data": {
      "text/plain": [
       "Index(['carat', 'cut', 'color', 'clarity', 'depth', 'table', 'price', 'x', 'y',\n",
       "       'z'],\n",
       "      dtype='object')"
      ]
     },
     "execution_count": 3,
     "metadata": {},
     "output_type": "execute_result"
    }
   ],
   "source": [
    "diamonds.columns"
   ]
  },
  {
   "cell_type": "markdown",
   "id": "bdfc72de-bcc6-42c7-b038-35d5e5cf7dfc",
   "metadata": {},
   "source": [
    "Before we get to that part, we want to detect and isolate the outliers to make our dataset as clean as possible (it is relatively clean now)."
   ]
  },
  {
   "cell_type": "markdown",
   "id": "00953666-84d3-4213-8764-c4c396f84351",
   "metadata": {},
   "source": [
    "So, let's extract the feature and target arrays and encode the categorical columns using OrdinalEncoder class from Sklearn:"
   ]
  },
  {
   "cell_type": "code",
   "execution_count": 5,
   "id": "9868f216-5e5b-49ee-b9ac-dae2bc7111cf",
   "metadata": {},
   "outputs": [],
   "source": [
    "import numpy as np\n",
    "from sklearn.preprocessing import OrdinalEncoder\n",
    "\n",
    "# Extract feature and target arrays\n",
    "X, y = diamonds.drop(\"carat\", axis=1), diamonds[\"carat\"]\n",
    "# Select categorical column names\n",
    "cats = X.select_dtypes(exclude=np.number).columns.tolist()\n",
    "\n",
    "# Encode categoricals\n",
    "X.loc[:, cats] = OrdinalEncoder().fit_transform(X[cats])"
   ]
  },
  {
   "cell_type": "markdown",
   "id": "f673dd30-6050-4e81-9f7c-e07d68e5184b",
   "metadata": {},
   "source": [
    "Now, we are ready..."
   ]
  },
  {
   "cell_type": "markdown",
   "id": "797f7f82-7c2c-4b28-9500-1855d310d2d3",
   "metadata": {},
   "source": [
    "### Do outliers even exist?"
   ]
  },
  {
   "cell_type": "markdown",
   "id": "de7a4478-b585-4849-bf29-7eec49713dd5",
   "metadata": {},
   "source": [
    "...to answer the question \"Do outliers even exist\"? The first step is to look at the summary statistics of the target variable - carat. We are looking if there are suspicious enough gaps between the minimum, mean and maximum of the target."
   ]
  },
  {
   "cell_type": "code",
   "execution_count": 6,
   "id": "9f90631f-bb1e-4fa0-bdcf-84b9fbbcd9ab",
   "metadata": {},
   "outputs": [
    {
     "data": {
      "text/plain": [
       "count    53940.000000\n",
       "mean         0.797940\n",
       "std          0.474011\n",
       "min          0.200000\n",
       "25%          0.400000\n",
       "50%          0.700000\n",
       "75%          1.040000\n",
       "max          5.010000\n",
       "Name: carat, dtype: float64"
      ]
     },
     "execution_count": 6,
     "metadata": {},
     "output_type": "execute_result"
    }
   ],
   "source": [
    "y.describe()"
   ]
  },
  {
   "cell_type": "markdown",
   "id": "c5999b74-65b8-4275-a355-3772d71cc9db",
   "metadata": {},
   "source": [
    "The values are 0.2, 0.8 and 5.01 for minimum, mean and maximum respectively. The large gaps between the minimum and maximum and between mean and the maximum already suggest there might be outliers (remember, outliers are often the extreme datapoints in distributions).\n",
    "\n",
    "Let's confirm this suspicion by plotting the histogram of the target:"
   ]
  },
  {
   "cell_type": "code",
   "execution_count": 8,
   "id": "1887c184-a600-4207-b45e-4b8b5bc555bc",
   "metadata": {},
   "outputs": [
    {
     "data": {
      "image/png": "[encoded data removed]",
      "text/plain": [
       "<Figure size 640x480 with 1 Axes>"
      ]
     },
     "metadata": {},
     "output_type": "display_data"
    }
   ],
   "source": [
    "import matplotlib.pyplot as plt\n",
    "sns.histplot(y)\n",
    "\n",
    "plt.xlabel(\"Carat\");"
   ]
  },
  {
   "cell_type": "markdown",
   "id": "88e89102-bed9-4fb3-83b8-f4c491b1ab24",
   "metadata": {},
   "source": [
    "As we can see, the bulk of the histogram is between 0.2 and 3 carats. But the right tail of histogram goes up to 5, but we can't see any bins there. If you see a histogram with long left or right tail but no bins in the tails, this means there is a small quantity of extreme values (outliers) in the distribution."
   ]
  },
  {
   "cell_type": "markdown",
   "id": "8b450c49-1964-4678-9a8f-e0551d3a67ec",
   "metadata": {},
   "source": [
    "Now, let's look at the features array:"
   ]
  },
  {
   "cell_type": "code",
   "execution_count": 9,
   "id": "393dab50-d2b6-4f0b-b752-aa6de775b504",
   "metadata": {},
   "outputs": [
    {
     "data": {
      "text/html": [
       "<div>\n",
       "<style scoped>\n",
       "    .dataframe tbody tr th:only-of-type {\n",
       "        vertical-align: middle;\n",
       "    }\n",
       "\n",
       "    .dataframe tbody tr th {\n",
       "        vertical-align: top;\n",
       "    }\n",
       "\n",
       "    .dataframe thead th {\n",
       "        text-align: right;\n",
       "    }\n",
       "</style>\n",
       "<table border=\"1\" class=\"dataframe\">\n",
       "  <thead>\n",
       "    <tr style=\"text-align: right;\">\n",
       "      <th></th>\n",
       "      <th>depth</th>\n",
       "      <th>table</th>\n",
       "      <th>price</th>\n",
       "      <th>x</th>\n",
       "      <th>y</th>\n",
       "      <th>z</th>\n",
       "    </tr>\n",
       "  </thead>\n",
       "  <tbody>\n",
       "    <tr>\n",
       "      <th>count</th>\n",
       "      <td>53940.000000</td>\n",
       "      <td>53940.000000</td>\n",
       "      <td>53940.000000</td>\n",
       "      <td>53940.000000</td>\n",
       "      <td>53940.000000</td>\n",
       "      <td>53940.000000</td>\n",
       "    </tr>\n",
       "    <tr>\n",
       "      <th>mean</th>\n",
       "      <td>61.749405</td>\n",
       "      <td>57.457184</td>\n",
       "      <td>3932.799722</td>\n",
       "      <td>5.731157</td>\n",
       "      <td>5.734526</td>\n",
       "      <td>3.538734</td>\n",
       "    </tr>\n",
       "    <tr>\n",
       "      <th>std</th>\n",
       "      <td>1.432621</td>\n",
       "      <td>2.234491</td>\n",
       "      <td>3989.439738</td>\n",
       "      <td>1.121761</td>\n",
       "      <td>1.142135</td>\n",
       "      <td>0.705699</td>\n",
       "    </tr>\n",
       "    <tr>\n",
       "      <th>min</th>\n",
       "      <td>43.000000</td>\n",
       "      <td>43.000000</td>\n",
       "      <td>326.000000</td>\n",
       "      <td>0.000000</td>\n",
       "      <td>0.000000</td>\n",
       "      <td>0.000000</td>\n",
       "    </tr>\n",
       "    <tr>\n",
       "      <th>25%</th>\n",
       "      <td>61.000000</td>\n",
       "      <td>56.000000</td>\n",
       "      <td>950.000000</td>\n",
       "      <td>4.710000</td>\n",
       "      <td>4.720000</td>\n",
       "      <td>2.910000</td>\n",
       "    </tr>\n",
       "    <tr>\n",
       "      <th>50%</th>\n",
       "      <td>61.800000</td>\n",
       "      <td>57.000000</td>\n",
       "      <td>2401.000000</td>\n",
       "      <td>5.700000</td>\n",
       "      <td>5.710000</td>\n",
       "      <td>3.530000</td>\n",
       "    </tr>\n",
       "    <tr>\n",
       "      <th>75%</th>\n",
       "      <td>62.500000</td>\n",
       "      <td>59.000000</td>\n",
       "      <td>5324.250000</td>\n",
       "      <td>6.540000</td>\n",
       "      <td>6.540000</td>\n",
       "      <td>4.040000</td>\n",
       "    </tr>\n",
       "    <tr>\n",
       "      <th>max</th>\n",
       "      <td>79.000000</td>\n",
       "      <td>95.000000</td>\n",
       "      <td>18823.000000</td>\n",
       "      <td>10.740000</td>\n",
       "      <td>58.900000</td>\n",
       "      <td>31.800000</td>\n",
       "    </tr>\n",
       "  </tbody>\n",
       "</table>\n",
       "</div>"
      ],
      "text/plain": [
       "              depth         table         price             x             y  \\\n",
       "count  53940.000000  53940.000000  53940.000000  53940.000000  53940.000000   \n",
       "mean      61.749405     57.457184   3932.799722      5.731157      5.734526   \n",
       "std        1.432621      2.234491   3989.439738      1.121761      1.142135   \n",
       "min       43.000000     43.000000    326.000000      0.000000      0.000000   \n",
       "25%       61.000000     56.000000    950.000000      4.710000      4.720000   \n",
       "50%       61.800000     57.000000   2401.000000      5.700000      5.710000   \n",
       "75%       62.500000     59.000000   5324.250000      6.540000      6.540000   \n",
       "max       79.000000     95.000000  18823.000000     10.740000     58.900000   \n",
       "\n",
       "                  z  \n",
       "count  53940.000000  \n",
       "mean       3.538734  \n",
       "std        0.705699  \n",
       "min        0.000000  \n",
       "25%        2.910000  \n",
       "50%        3.530000  \n",
       "75%        4.040000  \n",
       "max       31.800000  "
      ]
     },
     "execution_count": 9,
     "metadata": {},
     "output_type": "execute_result"
    }
   ],
   "source": [
    "X.drop(cats, axis=1).describe()"
   ]
  },
  {
   "cell_type": "markdown",
   "id": "1a01cda5-ab7d-41f6-98c9-131bcc1152f2",
   "metadata": {},
   "source": [
    "After excluding the categorical features, we can probably guess that price is the most important feature. And like carat, we can see big differences between the mean price and the cheapest and most expensive diamonds. Let's plot a histogram again:"
   ]
  },
  {
   "cell_type": "code",
   "execution_count": 10,
   "id": "310d9241-2be0-4473-a147-123578528dcd",
   "metadata": {},
   "outputs": [
    {
     "data": {
      "image/png": "[encoded data removed]",
      "text/plain": [
       "<Figure size 640x480 with 1 Axes>"
      ]
     },
     "metadata": {},
     "output_type": "display_data"
    }
   ],
   "source": [
    "sns.histplot(X[\"price\"])\n",
    "\n",
    "plt.title(\"Histogram of Diamond Carats\")\n",
    "plt.xlabel(\"Carat\");"
   ]
  },
  {
   "cell_type": "markdown",
   "id": "12232347-5eac-469f-97c3-2932de27def1",
   "metadata": {},
   "source": [
    "We can see that the majority of datapoints lie below 5000$; the rest of the bins have very low height. This is getting tricky - do we consider all the points above 5000 as outliers, now? That would be a large proportion of the dataset. \n",
    "\n",
    "Let's look more closely by plotting a boxplot of diamond cut quality versus price. The cut quality is given in descending order from left to right. "
   ]
  },
  {
   "cell_type": "code",
   "execution_count": 11,
   "id": "385a1c70-baa6-4d35-83db-faf4def6b87a",
   "metadata": {},
   "outputs": [
    {
     "data": {
      "image/png": "[encoded data removed]",
      "text/plain": [
       "<Figure size 640x480 with 1 Axes>"
      ]
     },
     "metadata": {},
     "output_type": "display_data"
    }
   ],
   "source": [
    "sns.boxplot(x=\"cut\", y=\"price\", data=diamonds, whis=2)\n",
    "\n",
    "plt.xlabel(\"\")\n",
    "plt.ylabel(\"Price\");"
   ]
  },
  {
   "cell_type": "markdown",
   "id": "2385b0c7-5f3a-49c9-bfbe-cf78f91ce6ec",
   "metadata": {},
   "source": [
    "Even though we see many outliers in the plot marked with circles above the whiskers of the boxes, we can't safely conclude they are outliers.\n",
    "\n",
    "If you pay attention, the highest quality, ideal diamonds have prices around 2000\\$ (look at the median) and yet, the lowest quality, fair diamonds cost much more, around 3000\\\\$ . This suggests that there exists some hidden multivariate relationships between the features of the dataset, and that we can't draw conclusions from just single and two-variable plots.\n",
    "\n",
    "Actually, this is the case for almost all datasets. Plain descriptive statistics and simple plots can only hint the presence of outliers. And since we can't really see the big picture relationships among all features using these methods, we have to turn to more sophisticated techniques."
   ]
  },
  {
   "cell_type": "markdown",
   "id": "ff83ab87-3a6e-46e2-a0ea-c2a7b9071583",
   "metadata": {},
   "source": [
    "### Univariate outlier detection"
   ]
  },
  {
   "cell_type": "markdown",
   "id": "bccf4cc2-a633-449b-a235-66e4b079246b",
   "metadata": {},
   "source": [
    "First, let's look at techniques that allow us to detect outliers in single distributions, like our target array of diamond carats.\n",
    "\n",
    "One of the most popular methods to perform outlier detection on such univariate datasets is using plain-old z-scores. Recall that a z-score of a datapoint tells us how many standard deviations it is away from the mean. \n",
    "\n",
    "For example, if distribution A have a mean of 5 and standard deviation of 3.2, the sample 17.2 would have a z-score of (17.2 - 5) / 3.2 = 3.8125.\n",
    "\n",
    "We can calculate the z-score of all elements in an array using the `zscore` function from `scipy`:"
   ]
  },
  {
   "cell_type": "code",
   "execution_count": 13,
   "id": "5bdf411d-0267-4b1a-9848-2e2e67e7725b",
   "metadata": {},
   "outputs": [
    {
     "data": {
      "text/plain": [
       "0    1.198168\n",
       "1    1.240361\n",
       "2    1.198168\n",
       "3    1.071587\n",
       "4    1.029394\n",
       "Name: carat, dtype: float64"
      ]
     },
     "execution_count": 13,
     "metadata": {},
     "output_type": "execute_result"
    }
   ],
   "source": [
    "from scipy.stats import zscore\n",
    "\n",
    "zscore(y).abs()[:5]"
   ]
  },
  {
   "cell_type": "markdown",
   "id": "13a8efa7-17d6-4311-8ea4-60e37374c405",
   "metadata": {},
   "source": [
    "In statistics, a z-score of 3 is commonly used as a threshold between inliers and outliers. So, using array filtering we can mark any samples as outliers if the absolute value of their z-score is higher than 3:"
   ]
  },
  {
   "cell_type": "code",
   "execution_count": 14,
   "id": "c6dcf802-759f-49d3-9642-8055d84584fe",
   "metadata": {},
   "outputs": [
    {
     "name": "stdout",
     "output_type": "stream",
     "text": [
      "The number of outliers: 439\n",
      "Percentage of outliers: 0.008\n"
     ]
    }
   ],
   "source": [
    "from scipy.stats import zscore\n",
    "\n",
    "is_outlier = zscore(y).abs() > 3\n",
    "outliers_y = y[is_outlier]\n",
    "\n",
    "num_outliers = len(outliers_y)\n",
    "print(f\"The number of outliers: {num_outliers}\")\n",
    "print(f\"Percentage of outliers: {num_outliers / len(y):.3f}\")"
   ]
  },
  {
   "attachments": {
    "20558d1b-b5eb-4fd1-8f24-7380a071af8f.png": {
     "image/png": "[encoded data removed]"
    }
   },
   "cell_type": "markdown",
   "id": "82281e06-6f6f-4ab1-94c2-c3b04a8b7d34",
   "metadata": {},
   "source": [
    "The method marks 0.8% of samples as outliers and that's not a coincidence. The idea of using a z-score of three as a threshold for outliers comes from the Empirical Rule.\n",
    "\n",
    "![image.png](attachment:20558d1b-b5eb-4fd1-8f24-7380a071af8f.png)\n",
    "\n",
    "CC BY-SA"
   ]
  },
  {
   "cell_type": "markdown",
   "id": "ea9b5a8e-4782-487a-a0bb-1825d4021e68",
   "metadata": {},
   "source": [
    "The [Empirical Rule](https://en.wikipedia.org/wiki/68%E2%80%9395%E2%80%9399.7_rule) states that data within one, two, three standard deviations or z-scores roughly represent 68%, 95% and 99.7% of the  distribution, respectively."
   ]
  },
  {
   "cell_type": "markdown",
   "id": "ed523881-fdd9-4d19-9fda-a5e2f797aa4f",
   "metadata": {},
   "source": [
    "So, if a sample have a z-score higher than 3, we can safely conclude that is an extreme value since it doesn't belong to roughly 99.7% of the dataset."
   ]
  },
  {
   "cell_type": "markdown",
   "id": "8ce68c44-d641-47ab-8ae7-884d8449c829",
   "metadata": {},
   "source": [
    "We found 439 outliers using the z-scores method but can we really trust this output? Actually, we can't. \n",
    "\n",
    "The Empirical Rule, and in turn, z-scores are only appropriate to normally distributed data. And from the histogram of diamond carats we saw earlier, we know for a fact that our target, y, is not normally distributed:"
   ]
  },
  {
   "attachments": {
    "964416ca-3d44-48e2-b9e9-ba184b596611.png": {
     "image/png": "[encoded data removed]"
    }
   },
   "cell_type": "markdown",
   "id": "ede02ad8-2e88-40bf-a9f0-1166e198af4a",
   "metadata": {},
   "source": [
    "![image.png](attachment:964416ca-3d44-48e2-b9e9-ba184b596611.png)"
   ]
  },
  {
   "cell_type": "markdown",
   "id": "69149f6e-10ba-4bf4-8b91-dfde677b7bd9",
   "metadata": {},
   "source": [
    "So, we must take another approach now."
   ]
  },
  {
   "cell_type": "markdown",
   "id": "8d5f4c6e-f352-4092-b5fc-baaaeb657b8b",
   "metadata": {},
   "source": [
    "### Modified z-scores"
   ]
  },
  {
   "cell_type": "markdown",
   "id": "c08e9b3a-bd57-4e32-be8d-cfb253221089",
   "metadata": {},
   "source": [
    "When your distribution isn't normal, z-scores won't cut it to detect outliers. Instead, you can use the brother of z-scores - Median Absolute Deviation (MAD), also called modified z-scores.\n",
    "\n",
    "The idea is simple - since outliers most affect the mean and standard deviation of distributions, we will stop using those metrics and replace them with the median.\n",
    "\n",
    "> Why replace mean with the median? Median denotes the 50th percentile, which represents the middle value of a distribution when it is sorted. This means no matter how big or small outliers are, they won't affect the median's value in the slightest."
   ]
  },
  {
   "cell_type": "markdown",
   "id": "f06497b3-038a-4b82-81f4-19efb5e20827",
   "metadata": {},
   "source": [
    "When we replace the mean with the median in the standard deviation formula, we get median absolute deviation. It is calculated by subtracting the median from each sample in the distribution, taking the absolute value and then, the median of differences. Here is how to do that operation in NumPy for our target, y:"
   ]
  },
  {
   "cell_type": "code",
   "execution_count": 16,
   "id": "6ad4a670-de6f-4796-8848-e5f7b55fd81c",
   "metadata": {},
   "outputs": [
    {
     "data": {
      "text/plain": [
       "0.32000000000000006"
      ]
     },
     "execution_count": 16,
     "metadata": {},
     "output_type": "execute_result"
    }
   ],
   "source": [
    "median_y = y.median()\n",
    "\n",
    "abs_diffs = (y - median_y).abs()\n",
    "mad = abs_diffs.median()\n",
    "\n",
    "mad"
   ]
  },
  {
   "cell_type": "markdown",
   "id": "ee71fa77-7f51-454f-a1f7-63a02c6b4dfc",
   "metadata": {},
   "source": [
    "We can confirm our calculations are correct using the `median_abs_deviation` function from `scipy`:"
   ]
  },
  {
   "cell_type": "code",
   "execution_count": 85,
   "id": "8ca1ea5a-1ea0-4d67-bb17-321928731f58",
   "metadata": {},
   "outputs": [
    {
     "data": {
      "text/plain": [
       "0.32000000000000006"
      ]
     },
     "execution_count": 85,
     "metadata": {},
     "output_type": "execute_result"
    }
   ],
   "source": [
    "from scipy.stats import median_abs_deviation\n",
    "\n",
    "median_abs_deviation(y)"
   ]
  },
  {
   "cell_type": "markdown",
   "id": "64230e96-0e3d-4be0-824e-04aaf6d50ffc",
   "metadata": {},
   "source": [
    "We get the same result. Now, if we insert the MAD value into the following formula, we get modified z-scores:"
   ]
  },
  {
   "attachments": {
    "03007cab-f867-46cf-9ef4-19590da2fd64.png": {
     "image/png": "[encoded data removed]"
    }
   },
   "cell_type": "markdown",
   "id": "4fd42918-1f67-4433-98fd-8186617394a7",
   "metadata": {},
   "source": [
    "![image.png](attachment:03007cab-f867-46cf-9ef4-19590da2fd64.png)"
   ]
  },
  {
   "cell_type": "markdown",
   "id": "30d13a9f-d696-4421-9da3-690ffa7227a0",
   "metadata": {},
   "source": [
    "where M is the median and x_i is the ith sample of the distribution.\n",
    "\n",
    "In modified z-scores, a MAD score of 3.5 is used as a threshold for outliers. The formula is already implemented as `MAD` estimator in PyOD library. Let's see how to use it:"
   ]
  },
  {
   "cell_type": "code",
   "execution_count": 18,
   "id": "b65653f1-8f39-461f-89ca-97ca9dc852e7",
   "metadata": {},
   "outputs": [
    {
     "data": {
      "text/plain": [
       "array([0, 0, 0, ..., 0, 0, 0])"
      ]
     },
     "execution_count": 18,
     "metadata": {},
     "output_type": "execute_result"
    }
   ],
   "source": [
    "from pyod.models.mad import MAD\n",
    "\n",
    "mad = MAD().fit(y.values.reshape(-1, 1))\n",
    "\n",
    "labels = mad.labels_\n",
    "labels"
   ]
  },
  {
   "cell_type": "markdown",
   "id": "f7f043b6-9a38-4369-a66a-057f5d415d8d",
   "metadata": {},
   "source": [
    "Once you import the estimator from `models.mad`, you can fit to the target array `y`. By default, all PyOD estimators require 2D arrays, so we are feeding y after we've reshaped it.\n",
    "\n",
    "After MAD is fit, we can access inlier/outlier labels for each sample using the `labels_` attribute. It returns 0 for inliers and 1 for outliers. \n",
    "\n",
    "Let's count the ones:"
   ]
  },
  {
   "cell_type": "code",
   "execution_count": 19,
   "id": "736d46ca-7fc1-4877-8f85-305c4fcfc87f",
   "metadata": {},
   "outputs": [
    {
     "name": "stdout",
     "output_type": "stream",
     "text": [
      "The number of outliers: 222\n",
      "Percentage of outliers: 0.004\n"
     ]
    }
   ],
   "source": [
    "outliers_y_mad = y[labels == 1]\n",
    "\n",
    "num_outliers = len(outliers_y_mad)\n",
    "print(f\"The number of outliers: {num_outliers}\")\n",
    "print(f\"Percentage of outliers: {num_outliers / len(y):.3f}\")"
   ]
  },
  {
   "cell_type": "markdown",
   "id": "c52fa6f5-67ec-4c95-a590-58a1f9c270f6",
   "metadata": {},
   "source": [
    "As you can see, `MAD` estimator found 222 outliers, as compared to the 439 we found with z-scores. Since `MAD` uses robust metrics like median, we can trust this output more. \n",
    "\n",
    "Let's plot the histogram of diamond carats once more after we remove the outliers:"
   ]
  },
  {
   "cell_type": "code",
   "execution_count": 20,
   "id": "81bf6c26-f5c8-4861-bfa4-b4b0ceedc449",
   "metadata": {},
   "outputs": [
    {
     "data": {
      "image/png": "[encoded data removed]",
      "text/plain": [
       "<Figure size 640x480 with 1 Axes>"
      ]
     },
     "metadata": {},
     "output_type": "display_data"
    }
   ],
   "source": [
    "inliers = y[labels == 0]\n",
    "\n",
    "sns.histplot(inliers)\n",
    "\n",
    "plt.title(\"Histogram of Diamond Carats After Outliers\")\n",
    "plt.xlabel(\"Carat\");"
   ]
  },
  {
   "cell_type": "markdown",
   "id": "855cb62f-8646-4df7-b45e-2d5b35a7bbc7",
   "metadata": {},
   "source": [
    "As we can see, the tail of the histogram is gone."
   ]
  },
  {
   "cell_type": "markdown",
   "id": "e30ce851-97bb-4655-9a6d-9bb3822db269",
   "metadata": {
    "tags": []
   },
   "source": [
    "### Conclusion"
   ]
  },
  {
   "cell_type": "markdown",
   "id": "38bd7e31-0873-41df-8ff1-88d2ff638b21",
   "metadata": {},
   "source": [
    "Here is a summary of the steps you can take to perform outlier detection when given a new dataset:\n",
    "\n",
    "1. Check if there are even outliers to begin with using basic methods like summary statistics, histograms and boxplots.\n",
    "2. Once you have a reasonable assumption for the presence of outliers, you can start univariate outlier detection on the target array.\n",
    "3. If the array is normally distributed, you can go with z-scores.\n",
    "4. If you don't know distribution type or confirmed that it isn't normal, you can use modified z-scores with a threshold of 3.5.\n",
    "\n",
    "Thank you for reading!"
   ]
  }
 ],
 "metadata": {
  "kernelspec": {
   "display_name": "articles",
   "language": "python",
   "name": "articles"
  },
  "language_info": {
   "codemirror_mode": {
    "name": "ipython",
    "version": 3
   },
   "file_extension": ".py",
   "mimetype": "text/x-python",
   "name": "python",
   "nbconvert_exporter": "python",
   "pygments_lexer": "ipython3",
   "version": "3.9.13"
  }
 },
 "nbformat": 4,
 "nbformat_minor": 5
}
