{
 "cells": [
  {
   "cell_type": "markdown",
   "id": "57cd15b3-f6c0-4dd4-80cf-4346bbf23955",
   "metadata": {},
   "source": [
    "# How to Easily Perform Outlier Detection In Python For Machine Learning, #2\n",
    "## Earth is an outlier - the code, part 2\n",
    "![](images/pixabay.jpg)\n",
    "<figcaption style=\"text-align: center;\">\n",
    "    Image by <a href=\"https://pixabay.com/users/alexas_fotos-686414/?utm_source=link-attribution&amp;utm_medium=referral&amp;utm_campaign=image&amp;utm_content=1744091\">Alexa</a> from <a href=\"https://pixabay.com//?utm_source=link-attribution&amp;utm_medium=referral&amp;utm_campaign=image&amp;utm_content=1744091\">Pixabay</a>\n",
    "</figcaption>"
   ]
  },
  {
   "cell_type": "markdown",
   "id": "6284a62d-b1bc-453b-9f27-e62c70230b71",
   "metadata": {},
   "source": [
    "### Introduction"
   ]
  },
  {
   "cell_type": "markdown",
   "id": "fb3d9428-d6e8-4db6-91b0-e48508faec9b",
   "metadata": {},
   "source": [
    "The first question to ask before starting outlier detection is \"Does my dataset even have outliers?\". While the usual answer is \"Yes\", it is always recommended to sniff the hint of outlier presence in the air before making big efforts (like using machine learning models) to isolate them.\n",
    "\n",
    "So, we will start off this second part of our outlier detection tutorial series by looking at general methods of detecting the presence of outliers like data visualization. Then, we will continue the post by talking about methods to detect both univariate and multivaraite outliers.\n",
    " \n",
    "Let's get started!"
   ]
  },
  {
   "cell_type": "markdown",
   "id": "56a26fe3-ed5a-4499-8595-cadea295e22d",
   "metadata": {},
   "source": [
    "### The dataset to be used"
   ]
  },
  {
   "cell_type": "markdown",
   "id": "62aec310-1fbd-42f7-aa67-c7cb09ede4d9",
   "metadata": {},
   "source": [
    "We'll be using the Diamonds dataset throughout the tutorial. It is large enough for it to not be a toy dataset and it has got a nice combination of numeric and categorical features. "
   ]
  },
  {
   "cell_type": "code",
   "execution_count": 235,
   "id": "3b330d0c-082e-4f5c-8ae3-01eec3fd187a",
   "metadata": {},
   "outputs": [],
   "source": [
    "import seaborn as sns\n",
    "\n",
    "diamonds = sns.load_dataset(\"diamonds\")"
   ]
  },
  {
   "cell_type": "markdown",
   "id": "06e58395-7f0b-456b-8c75-068d23bcaa00",
   "metadata": {},
   "source": [
    "Our eventual task after outlier detection is predicting the carat of diamonds given its physical characteristics and price:"
   ]
  },
  {
   "cell_type": "code",
   "execution_count": 236,
   "id": "bda89ce6-d708-4193-b4c1-00d653128641",
   "metadata": {},
   "outputs": [
    {
     "data": {
      "text/plain": [
       "Index(['carat', 'cut', 'color', 'clarity', 'depth', 'table', 'price', 'x', 'y',\n",
       "       'z'],\n",
       "      dtype='object')"
      ]
     },
     "execution_count": 236,
     "metadata": {},
     "output_type": "execute_result"
    }
   ],
   "source": [
    "diamonds.columns"
   ]
  },
  {
   "cell_type": "markdown",
   "id": "00953666-84d3-4213-8764-c4c396f84351",
   "metadata": {},
   "source": [
    "So, let's extract the feature and target arrays and encode the categorical columns using OrdinalEncoder class from Sklearn:"
   ]
  },
  {
   "cell_type": "code",
   "execution_count": 237,
   "id": "9868f216-5e5b-49ee-b9ac-dae2bc7111cf",
   "metadata": {},
   "outputs": [],
   "source": [
    "from sklearn.preprocessing import OrdinalEncoder\n",
    "\n",
    "# Extract feature and target arrays\n",
    "X, y = diamonds.drop(\"carat\", axis=1), diamonds[\"carat\"]\n",
    "# Select categorical column names\n",
    "cats = X.select_dtypes(exclude=np.number).columns.tolist()\n",
    "\n",
    "# Encode categoricals\n",
    "X.loc[:, cats] = OrdinalEncoder().fit_transform(X[cats])"
   ]
  },
  {
   "cell_type": "markdown",
   "id": "f673dd30-6050-4e81-9f7c-e07d68e5184b",
   "metadata": {},
   "source": [
    "Now, we are ready."
   ]
  },
  {
   "cell_type": "markdown",
   "id": "797f7f82-7c2c-4b28-9500-1855d310d2d3",
   "metadata": {},
   "source": [
    "### Do outliers even exist?"
   ]
  },
  {
   "cell_type": "code",
   "execution_count": 74,
   "id": "ec85bee2-13f3-4494-a6f1-4e53674fa644",
   "metadata": {},
   "outputs": [
    {
     "data": {
      "text/html": [
       "<div>\n",
       "<style scoped>\n",
       "    .dataframe tbody tr th:only-of-type {\n",
       "        vertical-align: middle;\n",
       "    }\n",
       "\n",
       "    .dataframe tbody tr th {\n",
       "        vertical-align: top;\n",
       "    }\n",
       "\n",
       "    .dataframe thead th {\n",
       "        text-align: right;\n",
       "    }\n",
       "</style>\n",
       "<table border=\"1\" class=\"dataframe\">\n",
       "  <thead>\n",
       "    <tr style=\"text-align: right;\">\n",
       "      <th></th>\n",
       "      <th>carat</th>\n",
       "      <th>cut</th>\n",
       "      <th>color</th>\n",
       "      <th>clarity</th>\n",
       "      <th>depth</th>\n",
       "      <th>table</th>\n",
       "      <th>price</th>\n",
       "      <th>x</th>\n",
       "      <th>y</th>\n",
       "      <th>z</th>\n",
       "    </tr>\n",
       "  </thead>\n",
       "  <tbody>\n",
       "    <tr>\n",
       "      <th>0</th>\n",
       "      <td>0.23</td>\n",
       "      <td>Ideal</td>\n",
       "      <td>E</td>\n",
       "      <td>SI2</td>\n",
       "      <td>61.5</td>\n",
       "      <td>55.0</td>\n",
       "      <td>326</td>\n",
       "      <td>3.95</td>\n",
       "      <td>3.98</td>\n",
       "      <td>2.43</td>\n",
       "    </tr>\n",
       "    <tr>\n",
       "      <th>1</th>\n",
       "      <td>0.21</td>\n",
       "      <td>Premium</td>\n",
       "      <td>E</td>\n",
       "      <td>SI1</td>\n",
       "      <td>59.8</td>\n",
       "      <td>61.0</td>\n",
       "      <td>326</td>\n",
       "      <td>3.89</td>\n",
       "      <td>3.84</td>\n",
       "      <td>2.31</td>\n",
       "    </tr>\n",
       "    <tr>\n",
       "      <th>2</th>\n",
       "      <td>0.23</td>\n",
       "      <td>Good</td>\n",
       "      <td>E</td>\n",
       "      <td>VS1</td>\n",
       "      <td>56.9</td>\n",
       "      <td>65.0</td>\n",
       "      <td>327</td>\n",
       "      <td>4.05</td>\n",
       "      <td>4.07</td>\n",
       "      <td>2.31</td>\n",
       "    </tr>\n",
       "    <tr>\n",
       "      <th>3</th>\n",
       "      <td>0.29</td>\n",
       "      <td>Premium</td>\n",
       "      <td>I</td>\n",
       "      <td>VS2</td>\n",
       "      <td>62.4</td>\n",
       "      <td>58.0</td>\n",
       "      <td>334</td>\n",
       "      <td>4.20</td>\n",
       "      <td>4.23</td>\n",
       "      <td>2.63</td>\n",
       "    </tr>\n",
       "    <tr>\n",
       "      <th>4</th>\n",
       "      <td>0.31</td>\n",
       "      <td>Good</td>\n",
       "      <td>J</td>\n",
       "      <td>SI2</td>\n",
       "      <td>63.3</td>\n",
       "      <td>58.0</td>\n",
       "      <td>335</td>\n",
       "      <td>4.34</td>\n",
       "      <td>4.35</td>\n",
       "      <td>2.75</td>\n",
       "    </tr>\n",
       "  </tbody>\n",
       "</table>\n",
       "</div>"
      ],
      "text/plain": [
       "   carat      cut color clarity  depth  table  price     x     y     z\n",
       "0   0.23    Ideal     E     SI2   61.5   55.0    326  3.95  3.98  2.43\n",
       "1   0.21  Premium     E     SI1   59.8   61.0    326  3.89  3.84  2.31\n",
       "2   0.23     Good     E     VS1   56.9   65.0    327  4.05  4.07  2.31\n",
       "3   0.29  Premium     I     VS2   62.4   58.0    334  4.20  4.23  2.63\n",
       "4   0.31     Good     J     SI2   63.3   58.0    335  4.34  4.35  2.75"
      ]
     },
     "execution_count": 74,
     "metadata": {},
     "output_type": "execute_result"
    }
   ],
   "source": [
    "diamonds.head()"
   ]
  },
  {
   "cell_type": "code",
   "execution_count": 75,
   "id": "9f90631f-bb1e-4fa0-bdcf-84b9fbbcd9ab",
   "metadata": {},
   "outputs": [
    {
     "data": {
      "text/plain": [
       "count    53940.000000\n",
       "mean         0.797940\n",
       "std          0.474011\n",
       "min          0.200000\n",
       "25%          0.400000\n",
       "50%          0.700000\n",
       "75%          1.040000\n",
       "max          5.010000\n",
       "Name: carat, dtype: float64"
      ]
     },
     "execution_count": 75,
     "metadata": {},
     "output_type": "execute_result"
    }
   ],
   "source": [
    "y.describe()"
   ]
  },
  {
   "cell_type": "code",
   "execution_count": 76,
   "id": "1887c184-a600-4207-b45e-4b8b5bc555bc",
   "metadata": {},
   "outputs": [
    {
     "data": {
      "image/png": "[encoded data removed]",
      "text/plain": [
       "<Figure size 640x480 with 1 Axes>"
      ]
     },
     "metadata": {},
     "output_type": "display_data"
    }
   ],
   "source": [
    "sns.histplot(y)\n",
    "\n",
    "plt.xlabel(\"Carat\");"
   ]
  },
  {
   "cell_type": "code",
   "execution_count": 77,
   "id": "393dab50-d2b6-4f0b-b752-aa6de775b504",
   "metadata": {},
   "outputs": [
    {
     "data": {
      "text/html": [
       "<div>\n",
       "<style scoped>\n",
       "    .dataframe tbody tr th:only-of-type {\n",
       "        vertical-align: middle;\n",
       "    }\n",
       "\n",
       "    .dataframe tbody tr th {\n",
       "        vertical-align: top;\n",
       "    }\n",
       "\n",
       "    .dataframe thead th {\n",
       "        text-align: right;\n",
       "    }\n",
       "</style>\n",
       "<table border=\"1\" class=\"dataframe\">\n",
       "  <thead>\n",
       "    <tr style=\"text-align: right;\">\n",
       "      <th></th>\n",
       "      <th>depth</th>\n",
       "      <th>table</th>\n",
       "      <th>price</th>\n",
       "      <th>x</th>\n",
       "      <th>y</th>\n",
       "      <th>z</th>\n",
       "    </tr>\n",
       "  </thead>\n",
       "  <tbody>\n",
       "    <tr>\n",
       "      <th>count</th>\n",
       "      <td>53940.000000</td>\n",
       "      <td>53940.000000</td>\n",
       "      <td>53940.000000</td>\n",
       "      <td>53940.000000</td>\n",
       "      <td>53940.000000</td>\n",
       "      <td>53940.000000</td>\n",
       "    </tr>\n",
       "    <tr>\n",
       "      <th>mean</th>\n",
       "      <td>61.749405</td>\n",
       "      <td>57.457184</td>\n",
       "      <td>3932.799722</td>\n",
       "      <td>5.731157</td>\n",
       "      <td>5.734526</td>\n",
       "      <td>3.538734</td>\n",
       "    </tr>\n",
       "    <tr>\n",
       "      <th>std</th>\n",
       "      <td>1.432621</td>\n",
       "      <td>2.234491</td>\n",
       "      <td>3989.439738</td>\n",
       "      <td>1.121761</td>\n",
       "      <td>1.142135</td>\n",
       "      <td>0.705699</td>\n",
       "    </tr>\n",
       "    <tr>\n",
       "      <th>min</th>\n",
       "      <td>43.000000</td>\n",
       "      <td>43.000000</td>\n",
       "      <td>326.000000</td>\n",
       "      <td>0.000000</td>\n",
       "      <td>0.000000</td>\n",
       "      <td>0.000000</td>\n",
       "    </tr>\n",
       "    <tr>\n",
       "      <th>25%</th>\n",
       "      <td>61.000000</td>\n",
       "      <td>56.000000</td>\n",
       "      <td>950.000000</td>\n",
       "      <td>4.710000</td>\n",
       "      <td>4.720000</td>\n",
       "      <td>2.910000</td>\n",
       "    </tr>\n",
       "    <tr>\n",
       "      <th>50%</th>\n",
       "      <td>61.800000</td>\n",
       "      <td>57.000000</td>\n",
       "      <td>2401.000000</td>\n",
       "      <td>5.700000</td>\n",
       "      <td>5.710000</td>\n",
       "      <td>3.530000</td>\n",
       "    </tr>\n",
       "    <tr>\n",
       "      <th>75%</th>\n",
       "      <td>62.500000</td>\n",
       "      <td>59.000000</td>\n",
       "      <td>5324.250000</td>\n",
       "      <td>6.540000</td>\n",
       "      <td>6.540000</td>\n",
       "      <td>4.040000</td>\n",
       "    </tr>\n",
       "    <tr>\n",
       "      <th>max</th>\n",
       "      <td>79.000000</td>\n",
       "      <td>95.000000</td>\n",
       "      <td>18823.000000</td>\n",
       "      <td>10.740000</td>\n",
       "      <td>58.900000</td>\n",
       "      <td>31.800000</td>\n",
       "    </tr>\n",
       "  </tbody>\n",
       "</table>\n",
       "</div>"
      ],
      "text/plain": [
       "              depth         table         price             x             y  \\\n",
       "count  53940.000000  53940.000000  53940.000000  53940.000000  53940.000000   \n",
       "mean      61.749405     57.457184   3932.799722      5.731157      5.734526   \n",
       "std        1.432621      2.234491   3989.439738      1.121761      1.142135   \n",
       "min       43.000000     43.000000    326.000000      0.000000      0.000000   \n",
       "25%       61.000000     56.000000    950.000000      4.710000      4.720000   \n",
       "50%       61.800000     57.000000   2401.000000      5.700000      5.710000   \n",
       "75%       62.500000     59.000000   5324.250000      6.540000      6.540000   \n",
       "max       79.000000     95.000000  18823.000000     10.740000     58.900000   \n",
       "\n",
       "                  z  \n",
       "count  53940.000000  \n",
       "mean       3.538734  \n",
       "std        0.705699  \n",
       "min        0.000000  \n",
       "25%        2.910000  \n",
       "50%        3.530000  \n",
       "75%        4.040000  \n",
       "max       31.800000  "
      ]
     },
     "execution_count": 77,
     "metadata": {},
     "output_type": "execute_result"
    }
   ],
   "source": [
    "X.drop(cats, axis=1).describe()"
   ]
  },
  {
   "cell_type": "code",
   "execution_count": 78,
   "id": "310d9241-2be0-4473-a147-123578528dcd",
   "metadata": {},
   "outputs": [
    {
     "data": {
      "image/png": "[encoded data removed]",
      "text/plain": [
       "<Figure size 640x480 with 1 Axes>"
      ]
     },
     "metadata": {},
     "output_type": "display_data"
    }
   ],
   "source": [
    "sns.histplot(X[\"price\"])\n",
    "\n",
    "plt.title(\"Histogram of Diamond Carats\")\n",
    "plt.xlabel(\"Carat\");"
   ]
  },
  {
   "cell_type": "code",
   "execution_count": 79,
   "id": "385a1c70-baa6-4d35-83db-faf4def6b87a",
   "metadata": {},
   "outputs": [
    {
     "data": {
      "image/png": "[encoded data removed]",
      "text/plain": [
       "<Figure size 640x480 with 1 Axes>"
      ]
     },
     "metadata": {},
     "output_type": "display_data"
    }
   ],
   "source": [
    "sns.boxplot(x=\"cut\", y=\"price\", data=diamonds, whis=1.5)\n",
    "\n",
    "plt.xlabel(\"\")\n",
    "plt.ylabel(\"Price\");"
   ]
  },
  {
   "cell_type": "markdown",
   "id": "ff83ab87-3a6e-46e2-a0ea-c2a7b9071583",
   "metadata": {},
   "source": [
    "### Univariate outlier detection"
   ]
  },
  {
   "cell_type": "code",
   "execution_count": 84,
   "id": "c6dcf802-759f-49d3-9642-8055d84584fe",
   "metadata": {},
   "outputs": [
    {
     "name": "stdout",
     "output_type": "stream",
     "text": [
      "The number of outliers: 439\n",
      "Percentage of outliers: 0.01\n"
     ]
    }
   ],
   "source": [
    "from scipy.stats import zscore\n",
    "\n",
    "is_outlier = zscore(y).abs() > 3\n",
    "outliers_y = y[is_outlier]\n",
    "\n",
    "num_outliers = len(outliers_y)\n",
    "print(f\"The number of outliers: {num_outliers}\")\n",
    "print(f\"Percentage of outliers: {num_outliers / len(y):.2f}\")"
   ]
  },
  {
   "cell_type": "markdown",
   "id": "315d3971-23db-4cab-8c1b-7ca42c9943e5",
   "metadata": {},
   "source": [
    "It is the standard deviation but with the median at the core."
   ]
  },
  {
   "cell_type": "code",
   "execution_count": 85,
   "id": "8ca1ea5a-1ea0-4d67-bb17-321928731f58",
   "metadata": {},
   "outputs": [
    {
     "data": {
      "text/plain": [
       "0.32000000000000006"
      ]
     },
     "execution_count": 85,
     "metadata": {},
     "output_type": "execute_result"
    }
   ],
   "source": [
    "from scipy.stats import median_abs_deviation\n",
    "\n",
    "median_abs_deviation(y)"
   ]
  },
  {
   "cell_type": "markdown",
   "id": "8d5f4c6e-f352-4092-b5fc-baaaeb657b8b",
   "metadata": {},
   "source": [
    "### Modified z-scores"
   ]
  },
  {
   "cell_type": "markdown",
   "id": "9e18b332-c71c-47c7-857a-e03d3182e18a",
   "metadata": {},
   "source": [
    "Now, if we use the MAD score in z-scores formula, it becomes modified z-scores:"
   ]
  },
  {
   "cell_type": "code",
   "execution_count": 206,
   "id": "b65653f1-8f39-461f-89ca-97ca9dc852e7",
   "metadata": {},
   "outputs": [
    {
     "data": {
      "text/plain": [
       "40985    0\n",
       "32491    0\n",
       "51989    0\n",
       "49503    0\n",
       "6988     0\n",
       "dtype: int64"
      ]
     },
     "execution_count": 206,
     "metadata": {},
     "output_type": "execute_result"
    }
   ],
   "source": [
    "from pyod.models.mad import MAD\n",
    "\n",
    "mad = MAD().fit(y.values.reshape(-1, 1))\n",
    "\n",
    "labels = pd.Series(mad.labels_)\n",
    "labels.sample(5)"
   ]
  },
  {
   "cell_type": "code",
   "execution_count": 209,
   "id": "736d46ca-7fc1-4877-8f85-305c4fcfc87f",
   "metadata": {},
   "outputs": [
    {
     "name": "stdout",
     "output_type": "stream",
     "text": [
      "The number of outliers: 222\n",
      "Percentage of outliers: 0.004\n"
     ]
    }
   ],
   "source": [
    "outliers_y_mad = y[labels == 1]\n",
    "\n",
    "num_outliers = len(outliers_y_mad)\n",
    "print(f\"The number of outliers: {num_outliers}\")\n",
    "print(f\"Percentage of outliers: {num_outliers / len(y):.3f}\")"
   ]
  },
  {
   "cell_type": "markdown",
   "id": "cace5c81-a2bd-4416-9402-658d08898f5b",
   "metadata": {},
   "source": [
    "### Multivariate outlier detection with PyOD"
   ]
  },
  {
   "cell_type": "code",
   "execution_count": 211,
   "id": "67630c9d-ce84-4828-9273-30360b85000a",
   "metadata": {},
   "outputs": [
    {
     "name": "stdout",
     "output_type": "stream",
     "text": [
      "The number of outliers: 5394\n",
      "Percentage of outliers: 0.100\n"
     ]
    }
   ],
   "source": [
    "from pyod.models.lof import LOF\n",
    "\n",
    "lof = LOF(n_neighbors=30).fit(X)\n",
    "\n",
    "labels = pd.Series(lof.labels_)\n",
    "outliers_X_lof = X[labels == 1]\n",
    "\n",
    "num_outliers = len(outliers_X_lof)\n",
    "print(f\"The number of outliers: {num_outliers}\")\n",
    "print(f\"Percentage of outliers: {num_outliers / len(X):.3f}\")"
   ]
  },
  {
   "cell_type": "code",
   "execution_count": 214,
   "id": "3fe78851-1a2a-41a2-ac49-f1db163819cf",
   "metadata": {},
   "outputs": [
    {
     "name": "stdout",
     "output_type": "stream",
     "text": [
      "The number of outliers: 5394\n",
      "Percentage of outliers: 0.100\n"
     ]
    }
   ],
   "source": [
    "from pyod.models.iforest import IForest\n",
    "\n",
    "iforest = IForest(n_estimators=500).fit(X)\n",
    "\n",
    "labels = pd.Series(iforest.labels_)\n",
    "outliers_X_iforest = X[labels == 1]\n",
    "\n",
    "num_outliers = len(outliers_X_iforest)\n",
    "print(f\"The number of outliers: {num_outliers}\")\n",
    "print(f\"Percentage of outliers: {num_outliers / len(X):.3f}\")"
   ]
  },
  {
   "cell_type": "markdown",
   "id": "34219853-c71d-4404-b133-a73483cc7c5b",
   "metadata": {},
   "source": [
    "### Contamination"
   ]
  },
  {
   "attachments": {
    "b4362481-a90b-448e-9c5b-11c581163b8a.png": {
     "image/png": "[encoded data removed]"
    }
   },
   "cell_type": "markdown",
   "id": "7800887f-8ba7-4a24-8ff5-460d5616c207",
   "metadata": {},
   "source": [
    "![image.png](attachment:b4362481-a90b-448e-9c5b-11c581163b8a.png)"
   ]
  },
  {
   "cell_type": "code",
   "execution_count": 217,
   "id": "eda09b7e-048d-4203-b738-1e8452bb887b",
   "metadata": {},
   "outputs": [
    {
     "data": {
      "text/plain": [
       "array([-0.01789882,  0.03646687,  0.09759012, -0.06977119, -0.02610138,\n",
       "        0.01991868,  0.00180873, -0.00440727,  0.08668909,  0.04439745])"
      ]
     },
     "execution_count": 217,
     "metadata": {},
     "output_type": "execute_result"
    }
   ],
   "source": [
    "iforest = IForest().fit(X)\n",
    "\n",
    "iforest.decision_scores_[:10]"
   ]
  },
  {
   "cell_type": "code",
   "execution_count": 218,
   "id": "1600251c-cf9a-412c-8cb8-3f6fa7ce05c6",
   "metadata": {},
   "outputs": [
    {
     "data": {
      "text/plain": [
       "array([11.56034602, 12.46189392, 13.42818305,  6.09343909,  5.39804594,\n",
       "        5.90354978,  5.12414871,  5.41214375,  8.1313775 ,  6.87590721])"
      ]
     },
     "execution_count": 218,
     "metadata": {},
     "output_type": "execute_result"
    }
   ],
   "source": [
    "from pyod.models.knn import KNN\n",
    "\n",
    "knn = KNN().fit(X)\n",
    "\n",
    "knn.decision_scores_[:10]"
   ]
  },
  {
   "cell_type": "markdown",
   "id": "17067802-1d47-4175-925d-96feb87ce9ac",
   "metadata": {},
   "source": [
    "### Probability scores"
   ]
  },
  {
   "cell_type": "code",
   "execution_count": 227,
   "id": "c3e76e03-2b54-4538-ab3d-00f97ba9c16f",
   "metadata": {},
   "outputs": [
    {
     "data": {
      "text/plain": [
       "array([[0.6595839 , 0.3404161 ],\n",
       "       [0.49970223, 0.50029777],\n",
       "       [0.30612256, 0.69387744],\n",
       "       [0.73151238, 0.26848762],\n",
       "       [0.58695384, 0.41304616],\n",
       "       [0.42048955, 0.57951045],\n",
       "       [0.53045075, 0.46954925],\n",
       "       [0.6171362 , 0.3828638 ],\n",
       "       [0.33290998, 0.66709002],\n",
       "       [0.46752207, 0.53247793]])"
      ]
     },
     "execution_count": 227,
     "metadata": {},
     "output_type": "execute_result"
    }
   ],
   "source": [
    "from pyod.models.iforest import IForest\n",
    "\n",
    "iforest = IForest(n_estimators=1000).fit(X)\n",
    "\n",
    "probs = iforest.predict_proba(X)\n",
    "probs[:10]"
   ]
  },
  {
   "cell_type": "code",
   "execution_count": 230,
   "id": "32b2acd5-9fda-4c6e-b45a-1b405e5fd210",
   "metadata": {},
   "outputs": [
    {
     "name": "stdout",
     "output_type": "stream",
     "text": [
      "The number of outliers: 10\n",
      "Percentage of outliers: 0.0002\n"
     ]
    }
   ],
   "source": [
    "threshold = 0.9\n",
    "\n",
    "is_outlier = probs[:, 1] > threshold\n",
    "outliers_X_probs = X[is_outlier]\n",
    "\n",
    "num_outliers = len(outliers_X_probs)\n",
    "print(f\"The number of outliers: {num_outliers}\")\n",
    "print(f\"Percentage of outliers: {num_outliers / len(X):.4f}\")"
   ]
  },
  {
   "cell_type": "markdown",
   "id": "e30ce851-97bb-4655-9a6d-9bb3822db269",
   "metadata": {
    "jp-MarkdownHeadingCollapsed": true,
    "tags": []
   },
   "source": [
    "### Conclusion"
   ]
  }
 ],
 "metadata": {
  "kernelspec": {
   "display_name": "articles",
   "language": "python",
   "name": "articles"
  },
  "language_info": {
   "codemirror_mode": {
    "name": "ipython",
    "version": 3
   },
   "file_extension": ".py",
   "mimetype": "text/x-python",
   "name": "python",
   "nbconvert_exporter": "python",
   "pygments_lexer": "ipython3",
   "version": "3.9.13"
  }
 },
 "nbformat": 4,
 "nbformat_minor": 5
}
