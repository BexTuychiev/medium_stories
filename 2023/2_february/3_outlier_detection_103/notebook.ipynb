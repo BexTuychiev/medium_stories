{
 "cells": [
  {
   "cell_type": "markdown",
   "id": "a146a9b7-829b-42e0-85d9-6ce501e03e14",
   "metadata": {},
   "source": [
    "# How to Perform Multivariate Outlier Detection in Python PyOD For Machine Learning\n",
    "## Outlier detection series, part 3\n",
    "![](images/unsplash.jpg)\n",
    "\n",
    "<figcaption style=\"text-align: center;\"><figcaption/>\n",
    "Photo by <a href=\"https://unsplash.com/@miyatankun?utm_source=unsplash&utm_medium=referral&utm_content=creditCopyText\">Takashi Miyazaki</a> on <a href=\"https://unsplash.com/backgrounds/art/abstract?utm_source=unsplash&utm_medium=referral&utm_content=creditCopyText\">Unsplash</a>"
   ]
  },
  {
   "cell_type": "markdown",
   "id": "c37866f4-de37-4d06-bb23-91026aeb12b1",
   "metadata": {},
   "source": [
    "### Motivation"
   ]
  },
  {
   "cell_type": "markdown",
   "id": "c9e62868-2530-4eb0-bd5e-4c67a6b0c722",
   "metadata": {},
   "source": [
    "Below is a *very* suspicious boxplot:"
   ]
  },
  {
   "attachments": {
    "59c6f81e-856c-4541-b822-bca1d0129ad5.png": {
     "image/png": "[encoded data removed]"
    }
   },
   "cell_type": "markdown",
   "id": "03cdcf32-9fb4-4b36-ad73-323cf8456315",
   "metadata": {},
   "source": [
    "![image.png](attachment:59c6f81e-856c-4541-b822-bca1d0129ad5.png)"
   ]
  },
  {
   "cell_type": "markdown",
   "id": "7d863ea7-d4e6-4c20-ab0c-8abc68c650eb",
   "metadata": {},
   "source": [
    "It depicts the relationship between diamonds' quality and their price. The six quality categories are given in the descending order, so the best diamonds are in the *Ideal* and the lowest quality diamonds are in the *Fair* category. \n",
    "\n",
    "Now, here are the strange parts. First, all categories have many outliers, marked with dark spots above the whiskers. \n",
    "\n",
    "Second, even though Ideal diamonds are supposed to be the best, their median price is lower than any other category (the median is given as the line inside the boxes).\n",
    "\n",
    "This strange relationship between diamond qualities and their prices begs us the question: are those outliers *actually* outliers?\n",
    "\n",
    "Today, we will answer that exact question or in other words, we will learn how to differentiate multivariate outliers and how we can detect them.\n",
    "\n",
    "This is the third part of our outlier detection series. Check out the first two below:"
   ]
  },
  {
   "cell_type": "markdown",
   "id": "3b91a66a-f40a-4b86-a189-677ca0523ddc",
   "metadata": {},
   "source": [
    "### More on multivariate outliers"
   ]
  },
  {
   "cell_type": "markdown",
   "id": "3cff6ec6-903a-407d-9836-fc81e3e67439",
   "metadata": {},
   "source": [
    "In the first part of our series, we made the following points.\n",
    "\n",
    "Univariate outliers, as the name suggests, only exist in single distributions or individual columns of datasets. They are much easier to detect with methods like z-scores or Median Absolute Deviation. An example is an extremely tall person in a dataset that records only people's heights (single column).\n",
    "\n",
    "Multivariate outliers are harder to find as they usually emerge when you look at many columns of the dataset simultaneously. \n",
    "\n",
    "For example, let's say we have a dataset of hospital records. Its columns are the physical characteristics of patients and the type of disease they have. Now, we are looking at Henry's records:\n",
    "\n",
    "Age: 18\n",
    "Height: 178 cm\n",
    "Weight: 65 kg\n",
    "Non-smoker: Yes\n",
    "Disease: Lung cancer\n",
    "\n",
    "If we consider Henry's attributes individually, they seem totally ordinary within the context of our dataset. There are many 18 year-olds, there are many people that are 178 cm tall or weigh 65 kgs in our dataset. \n",
    "\n",
    "Also, there are many non-smoking 18-year-olds or people with lung cancer in the hospital. BUT, we do NOT have any non-smoking 18-year-olds with lung cancer that weigh 65 kg and are 178 cm tall.\n",
    "\n",
    "The fact that Henry was a mutlivaraite outlier came into light only when we considered all his physical attributes simultaneously. \n",
    "\n",
    "Now, similar cases of Henry's might emerge across dozens or even hundreds of attributes in a dataset. Therefore, it is imperative we learn more sophisticated methods to detect multivariate outliers.\n",
    "\n",
    "This is where machine learning methods, more specifically, outlier classifiers come into play."
   ]
  },
  {
   "cell_type": "markdown",
   "id": "10e6fc78-c6ab-4283-8ab1-05fe69c02df9",
   "metadata": {},
   "source": [
    "### Loading the dataset"
   ]
  },
  {
   "cell_type": "markdown",
   "id": "80aa47ab-bd17-4619-8513-00787d80784d",
   "metadata": {},
   "source": [
    "Let's first load the dataset we will be working with. It is the same Diamonds dataset from the last tutorial:"
   ]
  },
  {
   "cell_type": "code",
   "execution_count": 1,
   "id": "89cd0f70-eed0-4fa9-8714-c370214d2cac",
   "metadata": {},
   "outputs": [
    {
     "data": {
      "text/html": [
       "<div>\n",
       "<style scoped>\n",
       "    .dataframe tbody tr th:only-of-type {\n",
       "        vertical-align: middle;\n",
       "    }\n",
       "\n",
       "    .dataframe tbody tr th {\n",
       "        vertical-align: top;\n",
       "    }\n",
       "\n",
       "    .dataframe thead th {\n",
       "        text-align: right;\n",
       "    }\n",
       "</style>\n",
       "<table border=\"1\" class=\"dataframe\">\n",
       "  <thead>\n",
       "    <tr style=\"text-align: right;\">\n",
       "      <th></th>\n",
       "      <th>carat</th>\n",
       "      <th>cut</th>\n",
       "      <th>color</th>\n",
       "      <th>clarity</th>\n",
       "      <th>depth</th>\n",
       "      <th>table</th>\n",
       "      <th>price</th>\n",
       "      <th>x</th>\n",
       "      <th>y</th>\n",
       "      <th>z</th>\n",
       "    </tr>\n",
       "  </thead>\n",
       "  <tbody>\n",
       "    <tr>\n",
       "      <th>0</th>\n",
       "      <td>0.23</td>\n",
       "      <td>Ideal</td>\n",
       "      <td>E</td>\n",
       "      <td>SI2</td>\n",
       "      <td>61.5</td>\n",
       "      <td>55.0</td>\n",
       "      <td>326</td>\n",
       "      <td>3.95</td>\n",
       "      <td>3.98</td>\n",
       "      <td>2.43</td>\n",
       "    </tr>\n",
       "    <tr>\n",
       "      <th>1</th>\n",
       "      <td>0.21</td>\n",
       "      <td>Premium</td>\n",
       "      <td>E</td>\n",
       "      <td>SI1</td>\n",
       "      <td>59.8</td>\n",
       "      <td>61.0</td>\n",
       "      <td>326</td>\n",
       "      <td>3.89</td>\n",
       "      <td>3.84</td>\n",
       "      <td>2.31</td>\n",
       "    </tr>\n",
       "    <tr>\n",
       "      <th>2</th>\n",
       "      <td>0.23</td>\n",
       "      <td>Good</td>\n",
       "      <td>E</td>\n",
       "      <td>VS1</td>\n",
       "      <td>56.9</td>\n",
       "      <td>65.0</td>\n",
       "      <td>327</td>\n",
       "      <td>4.05</td>\n",
       "      <td>4.07</td>\n",
       "      <td>2.31</td>\n",
       "    </tr>\n",
       "    <tr>\n",
       "      <th>3</th>\n",
       "      <td>0.29</td>\n",
       "      <td>Premium</td>\n",
       "      <td>I</td>\n",
       "      <td>VS2</td>\n",
       "      <td>62.4</td>\n",
       "      <td>58.0</td>\n",
       "      <td>334</td>\n",
       "      <td>4.20</td>\n",
       "      <td>4.23</td>\n",
       "      <td>2.63</td>\n",
       "    </tr>\n",
       "    <tr>\n",
       "      <th>4</th>\n",
       "      <td>0.31</td>\n",
       "      <td>Good</td>\n",
       "      <td>J</td>\n",
       "      <td>SI2</td>\n",
       "      <td>63.3</td>\n",
       "      <td>58.0</td>\n",
       "      <td>335</td>\n",
       "      <td>4.34</td>\n",
       "      <td>4.35</td>\n",
       "      <td>2.75</td>\n",
       "    </tr>\n",
       "  </tbody>\n",
       "</table>\n",
       "</div>"
      ],
      "text/plain": [
       "   carat      cut color clarity  depth  table  price     x     y     z\n",
       "0   0.23    Ideal     E     SI2   61.5   55.0    326  3.95  3.98  2.43\n",
       "1   0.21  Premium     E     SI1   59.8   61.0    326  3.89  3.84  2.31\n",
       "2   0.23     Good     E     VS1   56.9   65.0    327  4.05  4.07  2.31\n",
       "3   0.29  Premium     I     VS2   62.4   58.0    334  4.20  4.23  2.63\n",
       "4   0.31     Good     J     SI2   63.3   58.0    335  4.34  4.35  2.75"
      ]
     },
     "execution_count": 1,
     "metadata": {},
     "output_type": "execute_result"
    }
   ],
   "source": [
    "import seaborn as sns \n",
    "\n",
    "diamonds = sns.load_dataset(\"diamonds\")\n",
    "diamonds.head()"
   ]
  },
  {
   "cell_type": "markdown",
   "id": "0cc27b3c-44fc-4bce-9d83-82f1be9f5f57",
   "metadata": {},
   "source": [
    "We perform a small preprocessing step where encode the categoricals with the OrdinalEncoder class of Sklearn:"
   ]
  },
  {
   "cell_type": "code",
   "execution_count": 2,
   "id": "b41cd68b-b8d1-4097-8173-c0166f71050c",
   "metadata": {},
   "outputs": [],
   "source": [
    "import numpy as np\n",
    "from sklearn.preprocessing import OrdinalEncoder\n",
    "\n",
    "# Extract feature and target arrays\n",
    "X, y = diamonds.drop(\"carat\", axis=1), diamonds[\"carat\"]\n",
    "# Select categorical column names\n",
    "cats = X.select_dtypes(exclude=np.number).columns.tolist()\n",
    "\n",
    "# Encode categoricals\n",
    "X.loc[:, cats] = OrdinalEncoder().fit_transform(X[cats])"
   ]
  },
  {
   "cell_type": "markdown",
   "id": "6c99e9e9-bf34-47a3-838e-93b5af0ad4d9",
   "metadata": {},
   "source": [
    "Now, let's begin! (rubs hands together)"
   ]
  },
  {
   "cell_type": "markdown",
   "id": "19e27ee6-9b9a-4769-81a9-71b326af4631",
   "metadata": {
    "tags": []
   },
   "source": [
    "### Multivariate outlier detection with PyOD"
   ]
  },
  {
   "cell_type": "markdown",
   "id": "10e9a10f-e18d-479e-b36d-af859ad40954",
   "metadata": {},
   "source": [
    "Even though the theory may be a bit hard, performing multivariate outlier detection in code is very easy thanks to the Python Outlier Detection (PyOD) library. Let's see an example using the Local Outlier Factor algorithm:"
   ]
  },
  {
   "cell_type": "code",
   "execution_count": 5,
   "id": "ec870ee3-d304-4b95-99e3-838c395af263",
   "metadata": {},
   "outputs": [],
   "source": [
    "# Import LOF\n",
    "from pyod.models.lof import LOF\n",
    "\n",
    "# Initialize\n",
    "lof = LOF(n_neighbors=30).fit(X)\n",
    "\n",
    "# Extract inlier/outlier labels\n",
    "labels = lof.labels_\n",
    "outliers_X_lof = X[labels == 1]"
   ]
  },
  {
   "cell_type": "markdown",
   "id": "179bc8f3-f572-45a5-832b-e1b98cde4c4a",
   "metadata": {},
   "source": [
    "After importing the `LOF` estimator from `pyod`, we initialize it with 30 neighbors and fit to `X` (don't worry about the details of `LOF`, we'll talk about that later).\n",
    "\n",
    "Then, we access its `labels_` attribute, which returns 0 (inliers) or 1 (outliers) for each row of `X`. Let's count the outliers:"
   ]
  },
  {
   "cell_type": "code",
   "execution_count": 6,
   "id": "27b21efb-5c0c-4ead-b4fb-dc5eea36cad0",
   "metadata": {},
   "outputs": [
    {
     "name": "stdout",
     "output_type": "stream",
     "text": [
      "The number of outliers: 5394\n",
      "Percentage of outliers: 0.100\n"
     ]
    }
   ],
   "source": [
    "num_outliers = len(outliers_X_lof)\n",
    "print(f\"The number of outliers: {num_outliers}\")\n",
    "print(f\"Percentage of outliers: {num_outliers / len(X):.3f}\")"
   ]
  },
  {
   "cell_type": "markdown",
   "id": "8673d78b-9ed7-4166-bb93-e4ba36a08a5b",
   "metadata": {},
   "source": [
    "Hmm, we have got 5394 outliers or exactly 10% of the dataset. Is this a coincidence? Let's try the same operation with another outlier classifier, Isolation Forest:"
   ]
  },
  {
   "cell_type": "code",
   "execution_count": 8,
   "id": "ab1296f5-1b0b-49ec-b6d2-496eb8a2ef9c",
   "metadata": {},
   "outputs": [
    {
     "name": "stdout",
     "output_type": "stream",
     "text": [
      "The number of outliers: 5394\n",
      "Percentage of outliers: 0.100\n"
     ]
    }
   ],
   "source": [
    "from pyod.models.iforest import IForest\n",
    "\n",
    "iforest = IForest(n_estimators=500).fit(X)\n",
    "\n",
    "labels = iforest.labels_\n",
    "outliers_X_iforest = X[labels == 1]\n",
    "\n",
    "num_outliers = len(outliers_X_iforest)\n",
    "print(f\"The number of outliers: {num_outliers}\")\n",
    "print(f\"Percentage of outliers: {num_outliers / len(X):.3f}\")"
   ]
  },
  {
   "cell_type": "markdown",
   "id": "83285a48-ad51-477e-b977-a09af945edcc",
   "metadata": {},
   "source": [
    "We get the same suspicious 10%. This can't be a coincidence (actually, nothing is - Oogway)."
   ]
  },
  {
   "cell_type": "markdown",
   "id": "5a871656-b893-4e01-82da-6758f1083978",
   "metadata": {
    "tags": []
   },
   "source": [
    "### What is contamination in outlier detection?"
   ]
  },
  {
   "cell_type": "markdown",
   "id": "8281089e-78d3-4949-925f-5854f7d74223",
   "metadata": {
    "tags": []
   },
   "source": [
    "Outlier classifier algorithms like Isolation Forest or Local Outlier Factor aren't actually classifiers. When they are fit to a dataset, their internal algorithms calculate anomaly scores for each row in the dataset. Here is an example with IForest:"
   ]
  },
  {
   "cell_type": "code",
   "execution_count": 9,
   "id": "5ff71f98-4214-418c-82ff-a8a48d6ad144",
   "metadata": {},
   "outputs": [
    {
     "data": {
      "text/plain": [
       "array([-0.03364944,  0.0287027 ,  0.07729889, -0.06363647, -0.03095093,\n",
       "        0.05240712,  0.0230652 , -0.02713253,  0.06674287,  0.03475134])"
      ]
     },
     "execution_count": 9,
     "metadata": {},
     "output_type": "execute_result"
    }
   ],
   "source": [
    "iforest = IForest().fit(X)\n",
    "\n",
    "iforest.decision_scores_[:10]"
   ]
  },
  {
   "cell_type": "markdown",
   "id": "6a06f386-f66a-4738-b9b4-d96beb286f8c",
   "metadata": {},
   "source": [
    "Using the `decision_scores_` attribute, you can access the anomaly scores of any algorithm once they are fit. \n",
    "\n",
    "Now, these scores tell us how anomalous each sample in the dataset is. By default, all algorithms in PyOD mark the samples with the top 10% highest anomaly scores as outliers. This is given as the *contamination* parameter:"
   ]
  },
  {
   "attachments": {
    "b4362481-a90b-448e-9c5b-11c581163b8a.png": {
     "image/png": "[encoded data removed]"
    }
   },
   "cell_type": "markdown",
   "id": "e86fb722-b07d-4caf-abc3-f2e14f660507",
   "metadata": {},
   "source": [
    "![image.png](attachment:b4362481-a90b-448e-9c5b-11c581163b8a.png)"
   ]
  },
  {
   "cell_type": "markdown",
   "id": "b9816d69-154c-492e-a602-0371bdb68176",
   "metadata": {},
   "source": [
    "Basically, outlier classifiers are saying to us, \"Here is how anomalous I think each sample is. For now, I will select the 10% of most anomalous samples as outliers but you can always change that with my contamination parameter\".\n",
    "\n",
    "Basically, `contamination` is a hyperparameter of all classifiers that controls the number of produced outliers.\n",
    "\n",
    "Now, this may seem paradoxical - we want to detect outliers using classifiers but classifiers are letting us decide how we choose those outliers. That right there is the biggest challenge of outlier detection.\n",
    "\n",
    "You, the machine learning engineer, is behind the wheel - you make all the decisions. YOU have to decide what percentage to set for contamination using your experience, domain knowledge, intuition and trial and error. "
   ]
  },
  {
   "cell_type": "markdown",
   "id": "b6c74bf5-93fe-4151-9f27-46fb057d3b97",
   "metadata": {
    "tags": []
   },
   "source": [
    "### Probability confidence"
   ]
  },
  {
   "cell_type": "markdown",
   "id": "db0c62a2-8e59-4942-9f65-918b292516df",
   "metadata": {},
   "source": [
    "If finding the right value for contamination sounds hard, there is a workaround that enables us to ditch contamination. And the workaround is outlier probability scores.\n",
    "\n",
    "Once a PyOD estimator is fit to a dataset, it will have `predict_proba` method available. It returns two columns for each sample, the first column is the probability of the sample being an inlier and the second is the probability of the sample being an outlier. Let's call those inlier probability and outlier probability for short."
   ]
  },
  {
   "cell_type": "code",
   "execution_count": 14,
   "id": "2f7b34ab-032d-4cc1-8305-24c01fe40c9a",
   "metadata": {},
   "outputs": [
    {
     "data": {
      "text/plain": [
       "array([[0.6309838 , 0.3690162 ],\n",
       "       [0.48315014, 0.51684986],\n",
       "       [0.3044389 , 0.6955611 ],\n",
       "       [0.73513599, 0.26486401],\n",
       "       [0.59298752, 0.40701248]])"
      ]
     },
     "execution_count": 14,
     "metadata": {},
     "output_type": "execute_result"
    }
   ],
   "source": [
    "from pyod.models.iforest import IForest\n",
    "\n",
    "iforest = IForest(n_estimators=1000).fit(X)\n",
    "\n",
    "probs = iforest.predict_proba(X)\n",
    "probs[:5]"
   ]
  },
  {
   "cell_type": "markdown",
   "id": "a00ed679-5b75-4987-bcd7-b9f1bb4e1194",
   "metadata": {},
   "source": [
    "These probabilities are generated by normalizing the `decision_scores_` array using MinMax scaling, also called normalization.\n",
    "\n",
    "Normalizing an array will force it to be within the range of 0 and 1, which means we can interpret anomaly scores as probabilities of samples being an outlier. So, here is how `predict_proba` is written under the hood:"
   ]
  },
  {
   "cell_type": "code",
   "execution_count": 18,
   "id": "f89fd9b3-6562-4b9b-a1c2-89d667d29a4b",
   "metadata": {},
   "outputs": [
    {
     "data": {
      "text/plain": [
       "array([[ True,  True],\n",
       "       [ True,  True],\n",
       "       [ True,  True],\n",
       "       [ True,  True],\n",
       "       [ True,  True]])"
      ]
     },
     "execution_count": 18,
     "metadata": {},
     "output_type": "execute_result"
    }
   ],
   "source": [
    "from sklearn.preprocessing import minmax_scale\n",
    "\n",
    "# Create an empty array with two columns\n",
    "probs = np.empty((len(X), 2))\n",
    "\n",
    "# The second column is outlier probabilities\n",
    "probs[:, 1] = minmax_scale(iforest.decision_scores_)\n",
    "\n",
    "# The first column is inlier probabilities\n",
    "probs[:, 0] = 1 - probs[:, 1]\n",
    "\n",
    "# Check if the probs match\n",
    "probs[:5] == iforest.predict_proba(X)[:5]"
   ]
  },
  {
   "cell_type": "markdown",
   "id": "47b1da7f-a31a-4fda-90cf-568025c4052b",
   "metadata": {},
   "source": [
    "Now, instead of selecting outliers on the basis of contamination, we can select them on the basis of probability confidence. Instead of choosing 10% of most anomalous samples, we can choose samples that have at least 80%, 90% or n% outlier probability. Here is how it would look like:"
   ]
  },
  {
   "cell_type": "code",
   "execution_count": 19,
   "id": "db0b387a-ae47-4ca2-b5e1-8817e8483058",
   "metadata": {},
   "outputs": [
    {
     "name": "stdout",
     "output_type": "stream",
     "text": [
      "The number of outliers: 12\n",
      "Percentage of outliers: 0.0002\n"
     ]
    }
   ],
   "source": [
    "# Set a confidence threshold\n",
    "threshold = 0.9\n",
    "\n",
    "# Create a mask that returns True if probs over threshold\n",
    "is_outlier = probs[:, 1] > threshold\n",
    "outliers_X_probs = X[is_outlier]\n",
    "\n",
    "# Count up the outliers\n",
    "num_outliers = len(outliers_X_probs)\n",
    "print(f\"The number of outliers: {num_outliers}\")\n",
    "print(f\"Percentage of outliers: {num_outliers / len(X):.4f}\")"
   ]
  },
  {
   "cell_type": "markdown",
   "id": "f31eff95-fe6a-43c9-b527-7fe6798ca137",
   "metadata": {},
   "source": [
    "Using the probability confidence method, we only find 12 outliers, instead of over 5000. And the best part is that we are 90% sure those 12 outliers are actually outliers!"
   ]
  },
  {
   "cell_type": "markdown",
   "id": "81904cf4-5db2-4a1b-9e93-138229386825",
   "metadata": {},
   "source": [
    "### How to choose the right probability threshold?"
   ]
  },
  {
   "cell_type": "markdown",
   "id": "86e3cd13-1a0b-4eb3-a10f-5eb773c62af5",
   "metadata": {},
   "source": [
    "Choosing a probability threshold depends on several factors like dataset size, the task you are trying to solve and the business domain.\n",
    "\n",
    "If you have a small dataset, you want to make absolutely sure the outliers you are isolating are actually outliers. By dropping them, you don't want to lose important information and patterns in your small dataset which will inevitably affect machine learning models. For such cases, you should set a high threshold like 80-90%.\n",
    "\n",
    "If you are dealing with sensitive data like medical records where it is critical to avoid false positives, you should aim for over 90%. 95% and 99% are pretty common as well.\n",
    "\n",
    "It all depends on how confident about outliers you want or must be while solving the business problem with the data at hand."
   ]
  },
  {
   "cell_type": "markdown",
   "id": "19fd40f5-d7d5-48ab-be2b-a540c86bf229",
   "metadata": {},
   "source": [
    "### How to choose the right outlier classifier"
   ]
  },
  {
   "cell_type": "markdown",
   "id": "277cc240-79d8-4291-bd82-f44cc1640178",
   "metadata": {},
   "source": [
    "In a supervised-learning task, your job would be easy. You would evaluate a bunch of algorithms using metrics like RMSE or accuracy and choose the one that looks most promising.\n",
    "\n",
    "However, since outlier detection is an unsupervised-learning problem, you won't really be able to compare one algorithm to another because you can't measure their performance with metrics. \n",
    "\n",
    "However, there are some algorithms that consistently perform well if used correctly.\n",
    "\n",
    "1. [Isolation Forest](https://pyod.readthedocs.io/en/latest/pyod.models.html#module-pyod.models.iforest): works on almost any type of dataset but specifically designed for high-dimensional, complex ones. Even though it is a collection of different variety of decision trees, called ITrees, it is fast and has a high performance. It can also handle data with irregular, non-normal distributions.\n",
    "\n",
    "2. [Local Outlier Factor](https://pyod.readthedocs.io/en/latest/pyod.models.html#module-pyod.models.lof): particularly good for datasets with datapoints that are clustered together as it calculates anomaly scores using local density. It works well with high-dimensional data and can be faster than IForest.\n",
    "\n",
    "If you want to learn more about how to choose the right classifier, check out [my Anomaly Detection course on DataCamp](https://app.datacamp.com/learn/courses/anomaly-detection-in-python) where I teach close to 10 outlier classifiers, how and when to use them and how to tune their hyperparameters.\n",
    "\n",
    "Also, [this page](https://pyod.readthedocs.io/en/latest/pyod.models.html#) of PyOD documentation lists over 40 algorithms. You can see how they perform by looking at this [table](https://pyod.readthedocs.io/en/latest/benchmark.html) where they list the performance of 10 best outlier classifiers on more than 15 datasets. \n",
    "\n"
   ]
  },
  {
   "cell_type": "markdown",
   "id": "ddb77e02-7822-45e8-8593-d9bfc0bef370",
   "metadata": {},
   "source": [
    "### Conclusion"
   ]
  },
  {
   "cell_type": "markdown",
   "id": "bac7ae63-ee93-442b-be64-1f218df99498",
   "metadata": {},
   "source": [
    "This article covered the topic of multivariate outlier detection in machine learning and demonstrated how it can be done using PyOD in Python. By transforming anomaly scores into probability confidence, selecting the best outlier classifier, and determining the right probability threshold, you can enhance your machine learning models by removing outliers from the data. With this knowledge, you are now ready to perform efficient outlier detection in your own projects."
   ]
  }
 ],
 "metadata": {
  "kernelspec": {
   "display_name": "articles",
   "language": "python",
   "name": "articles"
  },
  "language_info": {
   "codemirror_mode": {
    "name": "ipython",
    "version": 3
   },
   "file_extension": ".py",
   "mimetype": "text/x-python",
   "name": "python",
   "nbconvert_exporter": "python",
   "pygments_lexer": "ipython3",
   "version": "3.9.13"
  }
 },
 "nbformat": 4,
 "nbformat_minor": 5
}
