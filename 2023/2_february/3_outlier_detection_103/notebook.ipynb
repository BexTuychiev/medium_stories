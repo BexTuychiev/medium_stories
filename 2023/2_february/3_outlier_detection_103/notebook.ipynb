{
 "cells": [
  {
   "cell_type": "markdown",
   "id": "a146a9b7-829b-42e0-85d9-6ce501e03e14",
   "metadata": {},
   "source": [
    "# How to Perform Multivariate Outlier Detection in Python PyOD For Machine Learning\n",
    "## Outlier detection series, part 3\n",
    "![](images/unsplash.jpg)\n",
    "\n",
    "<figcaption style=\"text-align: center;\"><figcaption/>\n",
    "Photo by <a href=\"https://unsplash.com/@miyatankun?utm_source=unsplash&utm_medium=referral&utm_content=creditCopyText\">Takashi Miyazaki</a> on <a href=\"https://unsplash.com/backgrounds/art/abstract?utm_source=unsplash&utm_medium=referral&utm_content=creditCopyText\">Unsplash</a>"
   ]
  },
  {
   "cell_type": "markdown",
   "id": "c37866f4-de37-4d06-bb23-91026aeb12b1",
   "metadata": {},
   "source": [
    "### Motivation"
   ]
  },
  {
   "cell_type": "markdown",
   "id": "19e27ee6-9b9a-4769-81a9-71b326af4631",
   "metadata": {},
   "source": [
    "### Multivariate outlier detection with PyOD"
   ]
  },
  {
   "cell_type": "code",
   "execution_count": 211,
   "id": "ec870ee3-d304-4b95-99e3-838c395af263",
   "metadata": {},
   "outputs": [
    {
     "name": "stdout",
     "output_type": "stream",
     "text": [
      "The number of outliers: 5394\n",
      "Percentage of outliers: 0.100\n"
     ]
    }
   ],
   "source": [
    "from pyod.models.lof import LOF\n",
    "\n",
    "lof = LOF(n_neighbors=30).fit(X)\n",
    "\n",
    "labels = pd.Series(lof.labels_)\n",
    "outliers_X_lof = X[labels == 1]\n",
    "\n",
    "num_outliers = len(outliers_X_lof)\n",
    "print(f\"The number of outliers: {num_outliers}\")\n",
    "print(f\"Percentage of outliers: {num_outliers / len(X):.3f}\")"
   ]
  },
  {
   "cell_type": "code",
   "execution_count": 214,
   "id": "ab1296f5-1b0b-49ec-b6d2-496eb8a2ef9c",
   "metadata": {},
   "outputs": [
    {
     "name": "stdout",
     "output_type": "stream",
     "text": [
      "The number of outliers: 5394\n",
      "Percentage of outliers: 0.100\n"
     ]
    }
   ],
   "source": [
    "from pyod.models.iforest import IForest\n",
    "\n",
    "iforest = IForest(n_estimators=500).fit(X)\n",
    "\n",
    "labels = pd.Series(iforest.labels_)\n",
    "outliers_X_iforest = X[labels == 1]\n",
    "\n",
    "num_outliers = len(outliers_X_iforest)\n",
    "print(f\"The number of outliers: {num_outliers}\")\n",
    "print(f\"Percentage of outliers: {num_outliers / len(X):.3f}\")"
   ]
  },
  {
   "cell_type": "markdown",
   "id": "5a871656-b893-4e01-82da-6758f1083978",
   "metadata": {},
   "source": [
    "### Contamination"
   ]
  },
  {
   "attachments": {
    "b4362481-a90b-448e-9c5b-11c581163b8a.png": {
     "image/png": "[encoded data removed]"
    }
   },
   "cell_type": "markdown",
   "id": "e86fb722-b07d-4caf-abc3-f2e14f660507",
   "metadata": {},
   "source": [
    "![image.png](attachment:b4362481-a90b-448e-9c5b-11c581163b8a.png)"
   ]
  },
  {
   "cell_type": "code",
   "execution_count": 217,
   "id": "5ff71f98-4214-418c-82ff-a8a48d6ad144",
   "metadata": {},
   "outputs": [
    {
     "data": {
      "text/plain": [
       "array([-0.01789882,  0.03646687,  0.09759012, -0.06977119, -0.02610138,\n",
       "        0.01991868,  0.00180873, -0.00440727,  0.08668909,  0.04439745])"
      ]
     },
     "execution_count": 217,
     "metadata": {},
     "output_type": "execute_result"
    }
   ],
   "source": [
    "iforest = IForest().fit(X)\n",
    "\n",
    "iforest.decision_scores_[:10]"
   ]
  },
  {
   "cell_type": "code",
   "execution_count": 218,
   "id": "f4650aff-556a-4be7-8e1a-4d0359485a9b",
   "metadata": {},
   "outputs": [
    {
     "data": {
      "text/plain": [
       "array([11.56034602, 12.46189392, 13.42818305,  6.09343909,  5.39804594,\n",
       "        5.90354978,  5.12414871,  5.41214375,  8.1313775 ,  6.87590721])"
      ]
     },
     "execution_count": 218,
     "metadata": {},
     "output_type": "execute_result"
    }
   ],
   "source": [
    "from pyod.models.knn import KNN\n",
    "\n",
    "knn = KNN().fit(X)\n",
    "\n",
    "knn.decision_scores_[:10]"
   ]
  },
  {
   "cell_type": "markdown",
   "id": "b6c74bf5-93fe-4151-9f27-46fb057d3b97",
   "metadata": {},
   "source": [
    "### Probability scores"
   ]
  },
  {
   "cell_type": "code",
   "execution_count": 227,
   "id": "2f7b34ab-032d-4cc1-8305-24c01fe40c9a",
   "metadata": {},
   "outputs": [
    {
     "data": {
      "text/plain": [
       "array([[0.6595839 , 0.3404161 ],\n",
       "       [0.49970223, 0.50029777],\n",
       "       [0.30612256, 0.69387744],\n",
       "       [0.73151238, 0.26848762],\n",
       "       [0.58695384, 0.41304616],\n",
       "       [0.42048955, 0.57951045],\n",
       "       [0.53045075, 0.46954925],\n",
       "       [0.6171362 , 0.3828638 ],\n",
       "       [0.33290998, 0.66709002],\n",
       "       [0.46752207, 0.53247793]])"
      ]
     },
     "execution_count": 227,
     "metadata": {},
     "output_type": "execute_result"
    }
   ],
   "source": [
    "from pyod.models.iforest import IForest\n",
    "\n",
    "iforest = IForest(n_estimators=1000).fit(X)\n",
    "\n",
    "probs = iforest.predict_proba(X)\n",
    "probs[:10]"
   ]
  },
  {
   "cell_type": "code",
   "execution_count": 230,
   "id": "db0b387a-ae47-4ca2-b5e1-8817e8483058",
   "metadata": {},
   "outputs": [
    {
     "name": "stdout",
     "output_type": "stream",
     "text": [
      "The number of outliers: 10\n",
      "Percentage of outliers: 0.0002\n"
     ]
    }
   ],
   "source": [
    "threshold = 0.9\n",
    "\n",
    "is_outlier = probs[:, 1] > threshold\n",
    "outliers_X_probs = X[is_outlier]\n",
    "\n",
    "num_outliers = len(outliers_X_probs)\n",
    "print(f\"The number of outliers: {num_outliers}\")\n",
    "print(f\"Percentage of outliers: {num_outliers / len(X):.4f}\")"
   ]
  }
 ],
 "metadata": {
  "kernelspec": {
   "display_name": "articles",
   "language": "python",
   "name": "articles"
  },
  "language_info": {
   "codemirror_mode": {
    "name": "ipython",
    "version": 3
   },
   "file_extension": ".py",
   "mimetype": "text/x-python",
   "name": "python",
   "nbconvert_exporter": "python",
   "pygments_lexer": "ipython3",
   "version": "3.9.13"
  }
 },
 "nbformat": 4,
 "nbformat_minor": 5
}
