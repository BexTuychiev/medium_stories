{
 "cells": [
  {
   "cell_type": "markdown",
   "id": "0f45a5e4-302e-4bb1-9ae3-dc90cc8ce2b1",
   "metadata": {},
   "source": [
    "# 4 Signs You've Become an Advanced Pythonista Without Even Realizing It\n",
    "## Time to take credit\n",
    "![](images/pixabay.jpg)\n",
    "\n",
    "<figcaption style='text-align: center;'>\n",
    "Image by <a href=\"https://pixabay.com/users/summerglow-20203311/?utm_source=link-attribution&amp;utm_medium=referral&amp;utm_campaign=image&amp;utm_content=7120431\">Charles Thonney</a> from <a href=\"https://pixabay.com//?utm_source=link-attribution&amp;utm_medium=referral&amp;utm_campaign=image&amp;utm_content=7120431\">Pixabay</a>\n",
    "</figcaption>"
   ]
  },
  {
   "cell_type": "markdown",
   "id": "98650134-a4e1-4bcb-b557-bded6b21900d",
   "metadata": {},
   "source": [
    "### Introduction"
   ]
  },
  {
   "cell_type": "markdown",
   "id": "d84ec6f0-1eaf-483a-95d6-ad7db20e2541",
   "metadata": {},
   "source": [
    "You've been programming in Python for a while now, whipping up scripts and solving problems left and right. You think you're pretty good, don't you? Well, hold on to your hats folks, because you might just be an advanced Pythonista without even realizing it!\n",
    "\n",
    "From closure to context managers, I've got a list of advanced Python features that are sure to make you say \"I've been using that all along!\". \n",
    "\n",
    "Even if these things are new to you, you'll have an excellent checklist to complete to take your game to the next level."
   ]
  },
  {
   "cell_type": "markdown",
   "id": "125d0f5e-f8ff-4a58-806b-b374c49e4eae",
   "metadata": {},
   "source": [
    "### 1. Function closure"
   ]
  },
  {
   "cell_type": "code",
   "execution_count": 1,
   "id": "a2b48b40-66d7-451b-8c5c-68b1cf355342",
   "metadata": {},
   "outputs": [
    {
     "name": "stdout",
     "output_type": "stream",
     "text": [
      "1\n",
      "2\n",
      "3\n"
     ]
    }
   ],
   "source": [
    "def counter():\n",
    "    count = 0\n",
    "    def inner():\n",
    "        nonlocal count\n",
    "        count += 1\n",
    "        return count\n",
    "    return inner\n",
    "\n",
    "counter = counter()\n",
    "print(counter()) # 1\n",
    "print(counter()) # 2\n",
    "print(counter()) # 3"
   ]
  },
  {
   "cell_type": "code",
   "execution_count": 2,
   "id": "a237f9ee-53a5-48da-914f-eb80ee62ac90",
   "metadata": {},
   "outputs": [],
   "source": [
    "def stateful_function(func):\n",
    "    cache = {}\n",
    "    def inner(*args, **kwargs):\n",
    "        key = str(args) + str(kwargs)\n",
    "        if key not in cache:\n",
    "            cache[key] = func(*args, **kwargs)\n",
    "        return cache[key]\n",
    "    return inner"
   ]
  },
  {
   "cell_type": "code",
   "execution_count": 3,
   "id": "1b20638b-9c8d-4d59-8476-5b676a384c61",
   "metadata": {},
   "outputs": [],
   "source": [
    "@stateful_function\n",
    "def fibonacci(n):\n",
    "    if n <= 0:\n",
    "        return 0\n",
    "    elif n == 1:\n",
    "        return 1\n",
    "    else:\n",
    "        return fibonacci(n-1) + fibonacci(n-2)"
   ]
  },
  {
   "cell_type": "code",
   "execution_count": 4,
   "id": "8e1fd74f-f47a-4ccf-89e3-bd87af41187f",
   "metadata": {},
   "outputs": [
    {
     "name": "stdout",
     "output_type": "stream",
     "text": [
      "1.3589859008789062e-05\n",
      "1.0012729167938232\n"
     ]
    }
   ],
   "source": [
    "import time\n",
    "\n",
    "def timer():\n",
    "    start = time.time()\n",
    "    def inner():\n",
    "        elapsed = time.time() - start\n",
    "        return elapsed\n",
    "    return inner\n",
    "\n",
    "timer = timer()\n",
    "print(timer()) # elapsed time since the timer was created\n",
    "time.sleep(1)\n",
    "print(timer()) # elapsed time since the timer was created, including the 1 second sleep"
   ]
  },
  {
   "cell_type": "markdown",
   "id": "ad516770-57e1-439c-b6da-1962e2c65a89",
   "metadata": {},
   "source": [
    "### 2. Decorators"
   ]
  },
  {
   "cell_type": "code",
   "execution_count": 5,
   "id": "25485fd1-7a30-43a9-990a-c0e4d98fa207",
   "metadata": {},
   "outputs": [
    {
     "name": "stdout",
     "output_type": "stream",
     "text": [
      "add was called with arguments (1, 2) and keyword arguments {} and returned 3. It took 0.00 seconds to execute.\n",
      "3\n"
     ]
    }
   ],
   "source": [
    "import time\n",
    "\n",
    "def log_decorator(func):\n",
    "    def inner(*args, **kwargs):\n",
    "        start = time.time()\n",
    "        result = func(*args, **kwargs)\n",
    "        end = time.time()\n",
    "        print(f\"{func.__name__} was called with arguments {args} and keyword arguments {kwargs} and returned {result}. It took {end - start:.2f} seconds to execute.\")\n",
    "        return result\n",
    "    return inner\n",
    "\n",
    "@log_decorator\n",
    "def add(a, b):\n",
    "    return a + b\n",
    "\n",
    "print(add(1, 2))"
   ]
  },
  {
   "cell_type": "markdown",
   "id": "ac4f815d-312e-4122-9067-36e119fc4bd8",
   "metadata": {},
   "source": [
    "### 3. Generators"
   ]
  },
  {
   "cell_type": "code",
   "execution_count": 6,
   "id": "ee79d7d2-b970-45c3-bcd2-ca7453eaf6d6",
   "metadata": {},
   "outputs": [
    {
     "name": "stdout",
     "output_type": "stream",
     "text": [
      "0\n",
      "1\n",
      "1\n",
      "2\n",
      "3\n"
     ]
    }
   ],
   "source": [
    "def fibonacci():\n",
    "    a, b = 0, 1\n",
    "    while True:\n",
    "        yield a\n",
    "        a, b = b, a + b\n",
    "\n",
    "fib = fibonacci()\n",
    "print(next(fib)) # 0\n",
    "print(next(fib)) # 1\n",
    "print(next(fib)) # 1\n",
    "print(next(fib)) # 2\n",
    "print(next(fib)) # 3"
   ]
  },
  {
   "cell_type": "markdown",
   "id": "f048a47a-ead0-457a-9f56-bc7043bab0f9",
   "metadata": {},
   "source": [
    "```python\n",
    "def read_large_file(filename):\n",
    "    with open(filename) as f:\n",
    "        while True:\n",
    "            chunk = f.read(1024)\n",
    "            if not chunk:\n",
    "                break\n",
    "            yield chunk\n",
    "\n",
    "for chunk in read_large_file(\"large_file.txt\"):\n",
    "    process(chunk)    \n",
    "```"
   ]
  },
  {
   "cell_type": "markdown",
   "id": "0d039a32-b87c-4e5d-b013-9c32c5da7d24",
   "metadata": {},
   "source": [
    "### 4. Context managers"
   ]
  },
  {
   "cell_type": "code",
   "execution_count": 8,
   "id": "76183564-2c71-4fca-9091-2f589bd4ed8d",
   "metadata": {},
   "outputs": [
    {
     "name": "stdout",
     "output_type": "stream",
     "text": [
      "The code took 1.00 seconds to execute.\n"
     ]
    }
   ],
   "source": [
    "import time\n",
    "\n",
    "class TimerContextManager:\n",
    "    def __enter__(self):\n",
    "        self.start = time.time()\n",
    "\n",
    "    def __exit__(self, type, value, traceback):\n",
    "        end = time.time()\n",
    "        print(f\"The code took {end - self.start:.2f} seconds to execute.\")\n",
    "\n",
    "with TimerContextManager():\n",
    "    # This code is timed\n",
    "    time.sleep(1)"
   ]
  },
  {
   "cell_type": "markdown",
   "id": "f856e2d8-4fd9-4b0d-af15-5b7c263ec0ca",
   "metadata": {},
   "source": [
    "### Conclusion"
   ]
  }
 ],
 "metadata": {
  "kernelspec": {
   "display_name": "articles",
   "language": "python",
   "name": "articles"
  },
  "language_info": {
   "codemirror_mode": {
    "name": "ipython",
    "version": 3
   },
   "file_extension": ".py",
   "mimetype": "text/x-python",
   "name": "python",
   "nbconvert_exporter": "python",
   "pygments_lexer": "ipython3",
   "version": "3.9.13"
  }
 },
 "nbformat": 4,
 "nbformat_minor": 5
}
