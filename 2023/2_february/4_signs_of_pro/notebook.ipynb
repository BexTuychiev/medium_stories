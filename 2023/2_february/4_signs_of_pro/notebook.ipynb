{
 "cells": [
  {
   "cell_type": "markdown",
   "id": "0f45a5e4-302e-4bb1-9ae3-dc90cc8ce2b1",
   "metadata": {},
   "source": [
    "# 5 Signs You've Become an Advanced Pythonista Without Even Realizing It\n",
    "## Time to take credit\n",
    "![](images/pixabay.jpg)\n",
    "\n",
    "<figcaption style='text-align: center;'>\n",
    "Image by <a href=\"https://pixabay.com/users/summerglow-20203311/?utm_source=link-attribution&amp;utm_medium=referral&amp;utm_campaign=image&amp;utm_content=7120431\">Charles Thonney</a> from <a href=\"https://pixabay.com//?utm_source=link-attribution&amp;utm_medium=referral&amp;utm_campaign=image&amp;utm_content=7120431\">Pixabay</a>\n",
    "</figcaption>"
   ]
  },
  {
   "cell_type": "markdown",
   "id": "98650134-a4e1-4bcb-b557-bded6b21900d",
   "metadata": {},
   "source": [
    "### Introduction"
   ]
  },
  {
   "cell_type": "markdown",
   "id": "d84ec6f0-1eaf-483a-95d6-ad7db20e2541",
   "metadata": {},
   "source": [
    "You've been programming in Python for a while now, whipping up scripts and solving problems left and right. You think you're pretty good, don't you? Well, hold on to your hats folks, because you might just be an advanced Pythonista without even realizing it!\n",
    "\n",
    "From closure to context managers, I've got a list of advanced Python features that are sure to make you say \"I've been using that all along!\". \n",
    "\n",
    "Even if these things are new to you, you'll have an excellent checklist to complete to take your game to the next level."
   ]
  },
  {
   "cell_type": "markdown",
   "id": "4a74d22b-044c-432c-bf8c-c1dcb44c9050",
   "metadata": {},
   "source": [
    "### 1. Scope"
   ]
  },
  {
   "cell_type": "markdown",
   "id": "b620322b-2b91-4bfa-8389-b17611c15038",
   "metadata": {},
   "source": [
    "A critical aspect of advanced Python programming is deep familiarity with the concept of scope. \n",
    "\n",
    "Scope defines the order in which the Python interpreter looks up names in a program. Python scope follows the __LEGB__ rule (local, enclosing, global and built-in scopes). According to the rule, when you access a name (it can be anything, a variable, a function  or a class), the interpreter looks for it in _local_, _enclosing_, _global_ and _built-in_ scopes, in order. \n",
    "\n",
    "Let's see examples to understand each level better.\n",
    "\n",
    "__Example 1 - Local Scope__"
   ]
  },
  {
   "cell_type": "markdown",
   "id": "3e5d5598-d8f4-463b-98cb-4ea313ca848d",
   "metadata": {},
   "source": [
    "```python\n",
    "def func():\n",
    "    x = 10\n",
    "    print(x)\n",
    "\n",
    "func() # 10\n",
    "print(x) # Raises NameError, x is only defined within the scope of func()\n",
    "```"
   ]
  },
  {
   "cell_type": "markdown",
   "id": "8a40adab-6d3e-47c3-a7c0-d3c8e0e1385c",
   "metadata": {},
   "source": [
    "Here, `x` is only defined in the scope that is *local* to `func`. That's why it isn't accessible anywhere else in the script."
   ]
  },
  {
   "cell_type": "markdown",
   "id": "13351f67-8187-4092-bc0f-4a557e774387",
   "metadata": {},
   "source": [
    "__Example 2 - Enclosing Scope__"
   ]
  },
  {
   "cell_type": "markdown",
   "id": "af2528eb-9670-4c97-9781-80321dca4b15",
   "metadata": {},
   "source": [
    "```python\n",
    "def outer_func():\n",
    "    x = 20\n",
    "    def inner_func():\n",
    "        print(x)\n",
    "    inner_func()\n",
    "\n",
    "outer_func() # 20\n",
    "```\n",
    "\n",
    "Enclosing scope is the intermediary scope between local and global scopes. In the example above, `x` is in the local scope of `outer_func`. On the other hand, `x` is in the *enclosing scope* relative to the nested `inner_func` function. Local scope always has read-only access to the enclosing scope."
   ]
  },
  {
   "cell_type": "markdown",
   "id": "713e9fdd-cf47-4e4e-ba58-b091adab4983",
   "metadata": {},
   "source": [
    "__Example 3 - Global Scope__"
   ]
  },
  {
   "cell_type": "markdown",
   "id": "122feae9-8887-49e7-9147-ebeb25e6ca03",
   "metadata": {},
   "source": [
    "```python\n",
    "x = 30\n",
    "\n",
    "def func():\n",
    "    print(x)\n",
    "\n",
    "func() # 30\n",
    "```"
   ]
  },
  {
   "cell_type": "markdown",
   "id": "b328e4b6-b270-4da5-9604-08740d7720ad",
   "metadata": {},
   "source": [
    "Here, `x` and `func` are defined in the global scope, which means they can be read from anywhere in the current script. \n",
    "\n",
    "To modify them in smaller levels of scope (local and enclosing), they should be accessed with the `global` keyword:"
   ]
  },
  {
   "cell_type": "markdown",
   "id": "68131c9e-5706-46ae-a1e2-2195d0ad0d40",
   "metadata": {},
   "source": [
    "```python\n",
    "def func2():\n",
    "    global x\n",
    "    x = 40\n",
    "    print(x)\n",
    "\n",
    "func2() # 40\n",
    "print(x) # 40\n",
    "```"
   ]
  },
  {
   "cell_type": "markdown",
   "id": "d0e97780-b4e6-4f82-9a0a-a934c1e9527b",
   "metadata": {},
   "source": [
    "__Example 4 - Built-in scope__"
   ]
  },
  {
   "cell_type": "markdown",
   "id": "569d3521-7daa-4bb2-84d9-b70013d34cdb",
   "metadata": {},
   "source": [
    "Built-in scope includes every already-defined library, class, function, and variable that __doesn't require__ explicit import statements. Some examples of built-in functions and variables in Python include `print`, `len`, `range`, `str`, `int`, `float`, etc."
   ]
  },
  {
   "cell_type": "markdown",
   "id": "125d0f5e-f8ff-4a58-806b-b374c49e4eae",
   "metadata": {},
   "source": [
    "### 2. Function closure"
   ]
  },
  {
   "cell_type": "markdown",
   "id": "6213face-ec3f-4644-bb9e-594e1ae7d688",
   "metadata": {},
   "source": [
    "A firm grasp of scope opens the doors to another important concept - function closure.\n",
    "\n",
    "By default, after the function finishes execution, it returns to a blank state. This simply means its memory is wiped of all of its past arguments. "
   ]
  },
  {
   "cell_type": "code",
   "execution_count": 5,
   "id": "9f58c9c3-5d87-49d7-bc43-9f1ea07afdf9",
   "metadata": {},
   "outputs": [
    {
     "data": {
      "text/plain": [
       "9"
      ]
     },
     "execution_count": 5,
     "metadata": {},
     "output_type": "execute_result"
    }
   ],
   "source": [
    "def func(x):\n",
    "    return x ** 2\n",
    "\n",
    "func(3)"
   ]
  },
  {
   "cell_type": "markdown",
   "id": "93fd8f69-b68c-429c-9c20-5d77b784bd5d",
   "metadata": {},
   "source": [
    "```python\n",
    "print(x) # NameError \n",
    "```"
   ]
  },
  {
   "cell_type": "markdown",
   "id": "dc206749-c042-491b-a63f-0b26303f14b5",
   "metadata": {},
   "source": [
    "Above, we assigned the value of 3 to `x` but the function forgot it after the execution. What if we don't want it to forget that value of `x`?\n",
    "\n",
    "This is where function closure comes into play. By defining a variable in the enclosing scope of some inner function, you can store it in memory even after function returns. \n",
    "\n",
    "Here is a simple example function that counts the number of times it was executed:"
   ]
  },
  {
   "cell_type": "code",
   "execution_count": 7,
   "id": "a2b48b40-66d7-451b-8c5c-68b1cf355342",
   "metadata": {},
   "outputs": [
    {
     "name": "stdout",
     "output_type": "stream",
     "text": [
      "1\n",
      "2\n",
      "3\n"
     ]
    }
   ],
   "source": [
    "def counter():\n",
    "    count = 0\n",
    "    def inner():\n",
    "        nonlocal count\n",
    "        count += 1\n",
    "        return count\n",
    "    return inner\n",
    "\n",
    "# Return the inner function\n",
    "counter = counter()\n",
    "print(counter()) # 1\n",
    "print(counter()) # 2\n",
    "print(counter()) # 3"
   ]
  },
  {
   "cell_type": "markdown",
   "id": "c4346147-2faa-4b14-971f-f37b98fee618",
   "metadata": {},
   "source": [
    "By all rules of Python, we should have lost the `counter` variable after the first execution. But since it is in the function's closure, it will stay there till you close the session:"
   ]
  },
  {
   "cell_type": "code",
   "execution_count": 12,
   "id": "d69d8a05-81ca-4886-93dd-d4bac04f4ee9",
   "metadata": {},
   "outputs": [
    {
     "data": {
      "text/plain": [
       "3"
      ]
     },
     "execution_count": 12,
     "metadata": {},
     "output_type": "execute_result"
    }
   ],
   "source": [
    "counter.__closure__[0].cell_contents"
   ]
  },
  {
   "cell_type": "markdown",
   "id": "ad516770-57e1-439c-b6da-1962e2c65a89",
   "metadata": {},
   "source": [
    "### 3. Decorators"
   ]
  },
  {
   "cell_type": "markdown",
   "id": "1cc52f01-d7e7-4261-9873-d5a18ab7e4ed",
   "metadata": {},
   "source": [
    "Function closures have much more important applications than simple counters. One of them is creating decorators. A decorator is a nested function you can add to other functions to enhance or even modify their behavior.\n",
    "\n",
    "For example, below we are creating a *caching* decorator that remembers the state of every single positional and keyword argument of a function."
   ]
  },
  {
   "cell_type": "code",
   "execution_count": 14,
   "id": "a237f9ee-53a5-48da-914f-eb80ee62ac90",
   "metadata": {},
   "outputs": [],
   "source": [
    "def stateful_function(func):\n",
    "    cache = {}\n",
    "    def inner(*args, **kwargs):\n",
    "        key = str(args) + str(kwargs)\n",
    "        if key not in cache:\n",
    "            cache[key] = func(*args, **kwargs)\n",
    "        return cache[key]\n",
    "    return inner"
   ]
  },
  {
   "cell_type": "markdown",
   "id": "218be36b-6b7a-4049-8c40-d387ba8210ab",
   "metadata": {},
   "source": [
    "The `stateful_function` decorator can now be added to computation-heavy functions that might be reused on the same arguments. The example is the following recursive Fibonacci function that returns the *n*th number in the sequence:"
   ]
  },
  {
   "cell_type": "code",
   "execution_count": 17,
   "id": "1b20638b-9c8d-4d59-8476-5b676a384c61",
   "metadata": {},
   "outputs": [
    {
     "name": "stdout",
     "output_type": "stream",
     "text": [
      "CPU times: user 1.53 ms, sys: 88 µs, total: 1.62 ms\n",
      "Wall time: 1.62 ms\n"
     ]
    },
    {
     "data": {
      "text/plain": [
       "43466557686937456435688527675040625802564660517371780402481729089536555417949051890403879840079255169295922593080322634775209689623239873322471161642996440906533187938298969649928516003704476137795166849228875"
      ]
     },
     "execution_count": 17,
     "metadata": {},
     "output_type": "execute_result"
    }
   ],
   "source": [
    "%%time\n",
    "\n",
    "@stateful_function\n",
    "def fibonacci(n):\n",
    "    if n <= 0:\n",
    "        return 0\n",
    "    elif n == 1:\n",
    "        return 1\n",
    "    else:\n",
    "        return fibonacci(n-1) + fibonacci(n-2)\n",
    "    \n",
    "    \n",
    "fibonacci(1000)"
   ]
  },
  {
   "cell_type": "markdown",
   "id": "8a5e1735-5928-4f98-b8b4-f0c8c7a7aab6",
   "metadata": {},
   "source": [
    "We found the humongous 1000th number in the Fibonacci sequence in a fraction of a second. Here is how much the same process would take without the caching decorator:"
   ]
  },
  {
   "cell_type": "code",
   "execution_count": 18,
   "id": "2153db59-2357-410c-9889-4e3e87d7f168",
   "metadata": {},
   "outputs": [
    {
     "name": "stdout",
     "output_type": "stream",
     "text": [
      "CPU times: user 21 s, sys: 0 ns, total: 21 s\n",
      "Wall time: 21 s\n"
     ]
    },
    {
     "data": {
      "text/plain": [
       "102334155"
      ]
     },
     "execution_count": 18,
     "metadata": {},
     "output_type": "execute_result"
    }
   ],
   "source": [
    "%%time\n",
    "\n",
    "def fibonacci(n):\n",
    "    if n <= 0:\n",
    "        return 0\n",
    "    elif n == 1:\n",
    "        return 1\n",
    "    else:\n",
    "        return fibonacci(n-1) + fibonacci(n-2)\n",
    "    \n",
    "fibonacci(40)"
   ]
  },
  {
   "cell_type": "markdown",
   "id": "46165fe0-9fcc-4928-b6c5-11290fc09ac5",
   "metadata": {},
   "source": [
    "It took 21 seconds just to calculate the 40th number. It would take days to calculate the 1000th without caching. "
   ]
  },
  {
   "cell_type": "markdown",
   "id": "d858d583-d051-40b1-92ef-71af655215aa",
   "metadata": {},
   "source": [
    "You can learn the hairy details of how to create your own decorators in my separate post:\n",
    "\n",
    "https://towardsdatascience.com/an-in-depth-tutorial-to-python-decorators-that-you-can-actually-use-1e34d3d2d305"
   ]
  },
  {
   "cell_type": "markdown",
   "id": "ac4f815d-312e-4122-9067-36e119fc4bd8",
   "metadata": {},
   "source": [
    "### 4. Generators"
   ]
  },
  {
   "cell_type": "markdown",
   "id": "2c21ec7b-4920-419e-8f0d-45e096214ac1",
   "metadata": {},
   "source": [
    "Generators are powerful constructs in Python that allows processing large amounts of data efficiently.\n",
    "\n",
    "Let's say you have a 10GB log file after the crash of some software. To find out what went wrong, you have to efficiently sift through it in Python.\n",
    "\n",
    "The worst way to do this is to read the whole file like below:"
   ]
  },
  {
   "cell_type": "markdown",
   "id": "4650478e-e040-45d0-a21e-7a9a71d13bad",
   "metadata": {},
   "source": [
    "```python\n",
    "with open(\"logs.txt\", \"r\") as f:\n",
    "    contents = f.read()\n",
    "    \n",
    "    print(contents)\n",
    "```"
   ]
  },
  {
   "cell_type": "markdown",
   "id": "7567df80-cb34-41f6-92f6-0be03334c578",
   "metadata": {},
   "source": [
    "Since you go through the logs line by line, you don't need to read all 10GBs, just chunks of it at a time. This is where you can use generators:"
   ]
  },
  {
   "cell_type": "markdown",
   "id": "75e6b112-ee5c-4e79-95df-45d13adcf6c5",
   "metadata": {},
   "source": [
    "```python\n",
    "def read_large_file(filename):\n",
    "    with open(filename) as f:\n",
    "        while True:\n",
    "            chunk = f.read(1024)\n",
    "            if not chunk:\n",
    "                break\n",
    "            yield chunk # Generators are defined with `yield` instead of `return`\n",
    "\n",
    "for chunk in read_large_file(\"logs.txt\"):\n",
    "    process(chunk)    # Process the chunk\n",
    "```"
   ]
  },
  {
   "cell_type": "markdown",
   "id": "77dbfd9b-4214-482d-8968-282e41cb975f",
   "metadata": {},
   "source": [
    "Above, we defined a generator that iterates the lines of the log file only 1024 at a time. As a result, the for loop at the end is highly efficient. In every iteration of the loop, only 1024 lines of the file are in memory. The previous chunks are discarded while the rest are only loaded as needed. "
   ]
  },
  {
   "cell_type": "markdown",
   "id": "a825810c-d306-49a7-a0d2-54946156badf",
   "metadata": {},
   "source": [
    "Another feature of generators is the ability to yield an element at a time even outside loops with the `next` function. Below, we are defining a blazing fast function that generates Fibonacci numbers in order. "
   ]
  },
  {
   "cell_type": "markdown",
   "id": "c39ec772-5df6-4aa5-be9d-fd06f5c242c3",
   "metadata": {},
   "source": [
    "To create the generator, you just call the function once and call `next` on the resulting object:"
   ]
  },
  {
   "cell_type": "markdown",
   "id": "89af2bca-d2d3-4e3f-9fd2-f18a22e387de",
   "metadata": {},
   "source": [
    "```python\n",
    "def fibonacci():\n",
    "    a, b = 0, 1\n",
    "    while True:\n",
    "        yield a\n",
    "        a, b = b, a + b\n",
    "\n",
    "fib = fibonacci()\n",
    "\n",
    "type(fib)\n",
    "```\n",
    "\n",
    "```\n",
    "generator\n",
    "```"
   ]
  },
  {
   "cell_type": "markdown",
   "id": "cf761514-615a-457c-9400-7ea2770999ce",
   "metadata": {},
   "source": [
    "```python\n",
    "print(next(fib)) # 0\n",
    "print(next(fib)) # 1\n",
    "print(next(fib)) # 1\n",
    "print(next(fib)) # 2\n",
    "print(next(fib)) # 3\n",
    "```"
   ]
  },
  {
   "cell_type": "markdown",
   "id": "9d634069-9a3e-4b52-9150-32d156b2aca1",
   "metadata": {},
   "source": [
    "You can read the following post on generators to learn more. \n",
    "\n",
    "https://realpython.com/introduction-to-python-generators/"
   ]
  },
  {
   "cell_type": "markdown",
   "id": "0d039a32-b87c-4e5d-b013-9c32c5da7d24",
   "metadata": {},
   "source": [
    "### 5. Context managers"
   ]
  },
  {
   "cell_type": "markdown",
   "id": "b8a034d3-e1b2-45fc-b161-ce497dc6b6b3",
   "metadata": {},
   "source": [
    "You must have been using context managers for a long time now. They allow developers to manage resources efficiently like files, databases and network connections. They automatically open and close resources, leading to clean and error-free code.\n",
    "\n",
    "But, there is a big difference between using context managers and writing your own. When done right, they allow you to abstract a lot of boilerplate code on top of their original functionality. \n",
    "\n",
    "One popular example of a custom context manager is a timer:"
   ]
  },
  {
   "cell_type": "code",
   "execution_count": 26,
   "id": "76183564-2c71-4fca-9091-2f589bd4ed8d",
   "metadata": {
    "tags": []
   },
   "outputs": [],
   "source": [
    "import time\n",
    "\n",
    "\n",
    "class TimerContextManager:\n",
    "    def __enter__(self):\n",
    "        self.start = time.time()\n",
    "\n",
    "    def __exit__(self, type, value, traceback):\n",
    "        end = time.time()\n",
    "        print(f\"The code took {end - self.start:.2f} seconds to execute.\")"
   ]
  },
  {
   "cell_type": "markdown",
   "id": "75d37e93-1165-4e80-801c-9a220c9376a2",
   "metadata": {},
   "source": [
    "Above, we are defining a `TimerContextManager` class that will serve as our future context manager. Its `__enter__` method defines what happens when we enter the context with the `with` keyword. In this case, we start the timer.\n",
    "\n",
    "In `__exit__`, we go out of the context, stop the timer and report elapsed time. "
   ]
  },
  {
   "cell_type": "code",
   "execution_count": 27,
   "id": "a89f2c39-9640-419f-a233-8ea717d0dc50",
   "metadata": {},
   "outputs": [
    {
     "name": "stdout",
     "output_type": "stream",
     "text": [
      "The code took 1.00 seconds to execute.\n"
     ]
    }
   ],
   "source": [
    "with TimerContextManager():\n",
    "    # This code is timed\n",
    "    time.sleep(1)"
   ]
  },
  {
   "cell_type": "markdown",
   "id": "9424cbe9-697a-4803-8a52-33fde33c086a",
   "metadata": {},
   "source": [
    "Here is a more complex example that enables locking resources so that they can be used by one process at a time.\n",
    "\n",
    "```python\n",
    "import threading\n",
    "\n",
    "lock = threading.Lock()\n",
    "\n",
    "class LockContextManager:\n",
    "    def __enter__(self):\n",
    "        lock.acquire()\n",
    "\n",
    "    def __exit__(self, type, value, traceback):\n",
    "        lock.release()\n",
    "\n",
    "with LockContextManager():\n",
    "    # This code is executed with the lock acquired\n",
    "    # Only one process can be inside this block at a time\n",
    "\n",
    "# The lock is automatically released when the with block ends, even if an error occurs\n",
    "```"
   ]
  },
  {
   "cell_type": "markdown",
   "id": "0310f404-709b-4c82-b159-bbe96810a542",
   "metadata": {},
   "source": [
    "If you want a more gentle introduction to context managers, check out my article on the topic.\n",
    "\n",
    "https://towardsdatascience.com/how-to-build-custom-context-managers-in-python-31727ffe96e1\n",
    "\n",
    "If you want to go down the rabbit hole and learn everything about them, here is another excellent RealPython article. \n",
    "\n",
    "https://realpython.com/python-with-statement/"
   ]
  },
  {
   "cell_type": "markdown",
   "id": "f856e2d8-4fd9-4b0d-af15-5b7c263ec0ca",
   "metadata": {},
   "source": [
    "### Conclusion"
   ]
  },
  {
   "cell_type": "markdown",
   "id": "cfebcea3-fa35-4b05-a2ab-e3b6adeb8857",
   "metadata": {},
   "source": [
    "There you have it folks! How many times did you say \"I knew that!\"? Even if it wasn't that many times, you now know the things to learn to become advanced. \n",
    "\n",
    "Don't be afraid of the discomfort that comes with learning new things. Just remember, with great power comes (I won't say it!) more challenging bugs to fix. But hey, you are a pro now, what's a little debugging to you?\n",
    "\n",
    "Thank you for reading!"
   ]
  }
 ],
 "metadata": {
  "kernelspec": {
   "display_name": "articles",
   "language": "python",
   "name": "articles"
  },
  "language_info": {
   "codemirror_mode": {
    "name": "ipython",
    "version": 3
   },
   "file_extension": ".py",
   "mimetype": "text/x-python",
   "name": "python",
   "nbconvert_exporter": "python",
   "pygments_lexer": "ipython3",
   "version": "3.9.13"
  }
 },
 "nbformat": 4,
 "nbformat_minor": 5
}
