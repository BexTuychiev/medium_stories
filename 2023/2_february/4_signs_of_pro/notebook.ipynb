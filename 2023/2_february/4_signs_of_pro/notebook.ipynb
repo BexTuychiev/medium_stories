{
 "cells": [
  {
   "cell_type": "markdown",
   "id": "0f45a5e4-302e-4bb1-9ae3-dc90cc8ce2b1",
   "metadata": {},
   "source": [
    "# 5 Signs You've Become an Advanced Pythonista Without Even Realizing It\n",
    "## Time to take credit\n",
    "![](images/pixabay.jpg)\n",
    "\n",
    "<figcaption style='text-align: center;'>\n",
    "Image by <a href=\"https://pixabay.com/users/summerglow-20203311/?utm_source=link-attribution&amp;utm_medium=referral&amp;utm_campaign=image&amp;utm_content=7120431\">Charles Thonney</a> from <a href=\"https://pixabay.com//?utm_source=link-attribution&amp;utm_medium=referral&amp;utm_campaign=image&amp;utm_content=7120431\">Pixabay</a>\n",
    "</figcaption>"
   ]
  }
 ],
 "metadata": {
  "kernelspec": {
   "display_name": "articles",
   "language": "python",
   "name": "articles"
  },
  "language_info": {
   "codemirror_mode": {
    "name": "ipython",
    "version": 3
   },
   "file_extension": ".py",
   "mimetype": "text/x-python",
   "name": "python",
   "nbconvert_exporter": "python",
   "pygments_lexer": "ipython3",
   "version": "3.9.13"
  }
 },
 "nbformat": 4,
 "nbformat_minor": 5
}
