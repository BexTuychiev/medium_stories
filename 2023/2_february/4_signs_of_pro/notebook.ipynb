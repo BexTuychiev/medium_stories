{
 "cells": [
  {
   "cell_type": "markdown",
   "id": "0f45a5e4-302e-4bb1-9ae3-dc90cc8ce2b1",
   "metadata": {},
   "source": [
    "# 5 Signs You've Become an Advanced Pythonista Without Even Realizing It\n",
    "## Time to take credit\n",
    "![](images/pixabay.jpg)\n",
    "\n",
    "<figcaption style='text-align: center;'>\n",
    "Image by <a href=\"https://pixabay.com/users/summerglow-20203311/?utm_source=link-attribution&amp;utm_medium=referral&amp;utm_campaign=image&amp;utm_content=7120431\">Charles Thonney</a> from <a href=\"https://pixabay.com//?utm_source=link-attribution&amp;utm_medium=referral&amp;utm_campaign=image&amp;utm_content=7120431\">Pixabay</a>\n",
    "</figcaption>"
   ]
  },
  {
   "cell_type": "markdown",
   "id": "98650134-a4e1-4bcb-b557-bded6b21900d",
   "metadata": {},
   "source": [
    "### Introduction"
   ]
  },
  {
   "cell_type": "markdown",
   "id": "d84ec6f0-1eaf-483a-95d6-ad7db20e2541",
   "metadata": {},
   "source": [
    "You've been programming in Python for a while now, whipping up scripts and solving problems left and right. You think you're pretty good, don't you? Well, hold on to your hats folks, because you might just be an advanced Pythonista without even realizing it!\n",
    "\n",
    "From closure to context managers, I've got a list of advanced Python features that are sure to make you say \"I've been using that all along!\". \n",
    "\n",
    "Even if these things are new to you, you'll have an excellent checklist to complete to take your game to the next level."
   ]
  },
  {
   "cell_type": "markdown",
   "id": "4a74d22b-044c-432c-bf8c-c1dcb44c9050",
   "metadata": {},
   "source": [
    "### 1. Scope"
   ]
  },
  {
   "cell_type": "markdown",
   "id": "b620322b-2b91-4bfa-8389-b17611c15038",
   "metadata": {},
   "source": [
    "A critical aspect of advanced Python programming is deep familiarity with the concept of scope. \n",
    "\n",
    "Scope defines the order in which the Python interpreter looks up names in a program. Python scope follows the __LEGB__ rule (local, enclosing, global and built-in scopes). According to the rule, when you access a name (it can be anything, a variable, a function  or a class), the interpreter looks for it in _local_, _enclosing_, _global_ and _built-in_ scopes, in order. \n",
    "\n",
    "Let's see examples to understand each level better.\n",
    "\n",
    "__Example 1 - Local Scope__"
   ]
  },
  {
   "cell_type": "markdown",
   "id": "3e5d5598-d8f4-463b-98cb-4ea313ca848d",
   "metadata": {},
   "source": [
    "```python\n",
    "def func():\n",
    "    x = 10\n",
    "    print(x)\n",
    "\n",
    "func() # 10\n",
    "print(x) # Raises NameError, x is only defined within the scope of func()\n",
    "```"
   ]
  },
  {
   "cell_type": "markdown",
   "id": "8a40adab-6d3e-47c3-a7c0-d3c8e0e1385c",
   "metadata": {},
   "source": [
    "Here, `x` is only defined in the scope that is *local* to `func`. That's why it isn't accessible anywhere else in the script."
   ]
  },
  {
   "cell_type": "markdown",
   "id": "13351f67-8187-4092-bc0f-4a557e774387",
   "metadata": {},
   "source": [
    "__Example 2 - Enclosing Scope__"
   ]
  },
  {
   "cell_type": "markdown",
   "id": "af2528eb-9670-4c97-9781-80321dca4b15",
   "metadata": {},
   "source": [
    "```python\n",
    "def outer_func():\n",
    "    x = 20\n",
    "    def inner_func():\n",
    "        print(x)\n",
    "    inner_func()\n",
    "\n",
    "outer_func() # 20\n",
    "```\n",
    "\n",
    "Enclosing scope is the intermediary scope between local and global scopes. In the example above, `x` is in the local scope of `outer_func`. On the other hand, `x` is in the *enclosing scope* relative to the nested `inner_func` function. Local scope always has read-only access to the enclosing scope."
   ]
  },
  {
   "cell_type": "markdown",
   "id": "713e9fdd-cf47-4e4e-ba58-b091adab4983",
   "metadata": {},
   "source": [
    "__Example 3 - Global Scope__"
   ]
  },
  {
   "cell_type": "markdown",
   "id": "122feae9-8887-49e7-9147-ebeb25e6ca03",
   "metadata": {},
   "source": [
    "```python\n",
    "x = 30\n",
    "\n",
    "def func():\n",
    "    print(x)\n",
    "\n",
    "func() # 30\n",
    "```"
   ]
  },
  {
   "cell_type": "markdown",
   "id": "b328e4b6-b270-4da5-9604-08740d7720ad",
   "metadata": {},
   "source": [
    "Here, `x` and `func` are defined in the global scope, which means they can be read from anywhere in the current script. \n",
    "\n",
    "To modify them in smaller levels of scope (local and enclosing), they should be accessed with the `global` keyword:"
   ]
  },
  {
   "cell_type": "markdown",
   "id": "68131c9e-5706-46ae-a1e2-2195d0ad0d40",
   "metadata": {},
   "source": [
    "```python\n",
    "def func2():\n",
    "    global x\n",
    "    x = 40\n",
    "    print(x)\n",
    "\n",
    "func2() # 40\n",
    "print(x) # 40\n",
    "```"
   ]
  },
  {
   "cell_type": "markdown",
   "id": "d0e97780-b4e6-4f82-9a0a-a934c1e9527b",
   "metadata": {},
   "source": [
    "__Example 4 - Built-in scope__"
   ]
  },
  {
   "cell_type": "markdown",
   "id": "569d3521-7daa-4bb2-84d9-b70013d34cdb",
   "metadata": {},
   "source": [
    "Built-in scope includes every already-defined library, class, function, and variable that __doesn't require__ explicit import statements. Some examples of built-in functions and variables in Python include `print`, `len`, `range`, `str`, `int`, `float`, etc."
   ]
  },
  {
   "cell_type": "markdown",
   "id": "125d0f5e-f8ff-4a58-806b-b374c49e4eae",
   "metadata": {},
   "source": [
    "### 2. Function closure"
   ]
  },
  {
   "cell_type": "markdown",
   "id": "6213face-ec3f-4644-bb9e-594e1ae7d688",
   "metadata": {},
   "source": [
    "A firm grasp of scope opens the doors to another important concept - function closure.\n",
    "\n",
    "By default, after the function finishes execution, it returns to a blank state. This simply means its memory is wiped of all of its past arguments. "
   ]
  },
  {
   "cell_type": "code",
   "execution_count": 5,
   "id": "9f58c9c3-5d87-49d7-bc43-9f1ea07afdf9",
   "metadata": {},
   "outputs": [
    {
     "data": {
      "text/plain": [
       "9"
      ]
     },
     "execution_count": 5,
     "metadata": {},
     "output_type": "execute_result"
    }
   ],
   "source": [
    "def func(x):\n",
    "    return x ** 2\n",
    "\n",
    "func(3)"
   ]
  },
  {
   "cell_type": "markdown",
   "id": "93fd8f69-b68c-429c-9c20-5d77b784bd5d",
   "metadata": {},
   "source": [
    "```python\n",
    "print(x) # NameError \n",
    "```"
   ]
  },
  {
   "cell_type": "markdown",
   "id": "dc206749-c042-491b-a63f-0b26303f14b5",
   "metadata": {},
   "source": [
    "Above, we assigned the value of 3 to `x` but the function forgot it after the execution. What if we don't want it to forget that value of `x`?\n",
    "\n",
    "This is where function closure comes into play. By defining a variable in the enclosing scope of some inner function, you can store it in memory even after function returns. \n",
    "\n",
    "Here is a simple example function that counts the number of times it was executed:"
   ]
  },
  {
   "cell_type": "code",
   "execution_count": 7,
   "id": "a2b48b40-66d7-451b-8c5c-68b1cf355342",
   "metadata": {},
   "outputs": [
    {
     "name": "stdout",
     "output_type": "stream",
     "text": [
      "1\n",
      "2\n",
      "3\n"
     ]
    }
   ],
   "source": [
    "def counter():\n",
    "    count = 0\n",
    "    def inner():\n",
    "        nonlocal count\n",
    "        count += 1\n",
    "        return count\n",
    "    return inner\n",
    "\n",
    "# Return the inner function\n",
    "counter = counter()\n",
    "print(counter()) # 1\n",
    "print(counter()) # 2\n",
    "print(counter()) # 3"
   ]
  },
  {
   "cell_type": "markdown",
   "id": "c4346147-2faa-4b14-971f-f37b98fee618",
   "metadata": {},
   "source": [
    "By all rules of Python, we should have lost the `counter` variable after the first execution. But since it is in the function's closure, it will stay there till you close the session:"
   ]
  },
  {
   "cell_type": "code",
   "execution_count": 12,
   "id": "d69d8a05-81ca-4886-93dd-d4bac04f4ee9",
   "metadata": {},
   "outputs": [
    {
     "data": {
      "text/plain": [
       "3"
      ]
     },
     "execution_count": 12,
     "metadata": {},
     "output_type": "execute_result"
    }
   ],
   "source": [
    "counter.__closure__[0].cell_contents"
   ]
  },
  {
   "cell_type": "markdown",
   "id": "ad516770-57e1-439c-b6da-1962e2c65a89",
   "metadata": {},
   "source": [
    "### 3. Decorators"
   ]
  },
  {
   "cell_type": "code",
   "execution_count": 2,
   "id": "a237f9ee-53a5-48da-914f-eb80ee62ac90",
   "metadata": {},
   "outputs": [],
   "source": [
    "def stateful_function(func):\n",
    "    cache = {}\n",
    "    def inner(*args, **kwargs):\n",
    "        key = str(args) + str(kwargs)\n",
    "        if key not in cache:\n",
    "            cache[key] = func(*args, **kwargs)\n",
    "        return cache[key]\n",
    "    return inner"
   ]
  },
  {
   "cell_type": "code",
   "execution_count": 3,
   "id": "1b20638b-9c8d-4d59-8476-5b676a384c61",
   "metadata": {},
   "outputs": [],
   "source": [
    "@stateful_function\n",
    "def fibonacci(n):\n",
    "    if n <= 0:\n",
    "        return 0\n",
    "    elif n == 1:\n",
    "        return 1\n",
    "    else:\n",
    "        return fibonacci(n-1) + fibonacci(n-2)"
   ]
  },
  {
   "cell_type": "code",
   "execution_count": 4,
   "id": "8e1fd74f-f47a-4ccf-89e3-bd87af41187f",
   "metadata": {},
   "outputs": [
    {
     "name": "stdout",
     "output_type": "stream",
     "text": [
      "1.3589859008789062e-05\n",
      "1.0012729167938232\n"
     ]
    }
   ],
   "source": [
    "import time\n",
    "\n",
    "def timer():\n",
    "    start = time.time()\n",
    "    def inner():\n",
    "        elapsed = time.time() - start\n",
    "        return elapsed\n",
    "    return inner\n",
    "\n",
    "timer = timer()\n",
    "print(timer()) # elapsed time since the timer was created\n",
    "time.sleep(1)\n",
    "print(timer()) # elapsed time since the timer was created, including the 1 second sleep"
   ]
  },
  {
   "cell_type": "code",
   "execution_count": 5,
   "id": "25485fd1-7a30-43a9-990a-c0e4d98fa207",
   "metadata": {},
   "outputs": [
    {
     "name": "stdout",
     "output_type": "stream",
     "text": [
      "add was called with arguments (1, 2) and keyword arguments {} and returned 3. It took 0.00 seconds to execute.\n",
      "3\n"
     ]
    }
   ],
   "source": [
    "import time\n",
    "\n",
    "def log_decorator(func):\n",
    "    def inner(*args, **kwargs):\n",
    "        start = time.time()\n",
    "        result = func(*args, **kwargs)\n",
    "        end = time.time()\n",
    "        print(f\"{func.__name__} was called with arguments {args} and keyword arguments {kwargs} and returned {result}. It took {end - start:.2f} seconds to execute.\")\n",
    "        return result\n",
    "    return inner\n",
    "\n",
    "@log_decorator\n",
    "def add(a, b):\n",
    "    return a + b\n",
    "\n",
    "print(add(1, 2))"
   ]
  },
  {
   "cell_type": "markdown",
   "id": "ac4f815d-312e-4122-9067-36e119fc4bd8",
   "metadata": {},
   "source": [
    "### 4. Generators"
   ]
  },
  {
   "cell_type": "code",
   "execution_count": 6,
   "id": "ee79d7d2-b970-45c3-bcd2-ca7453eaf6d6",
   "metadata": {},
   "outputs": [
    {
     "name": "stdout",
     "output_type": "stream",
     "text": [
      "0\n",
      "1\n",
      "1\n",
      "2\n",
      "3\n"
     ]
    }
   ],
   "source": [
    "def fibonacci():\n",
    "    a, b = 0, 1\n",
    "    while True:\n",
    "        yield a\n",
    "        a, b = b, a + b\n",
    "\n",
    "fib = fibonacci()\n",
    "print(next(fib)) # 0\n",
    "print(next(fib)) # 1\n",
    "print(next(fib)) # 1\n",
    "print(next(fib)) # 2\n",
    "print(next(fib)) # 3"
   ]
  },
  {
   "cell_type": "markdown",
   "id": "f048a47a-ead0-457a-9f56-bc7043bab0f9",
   "metadata": {},
   "source": [
    "```python\n",
    "def read_large_file(filename):\n",
    "    with open(filename) as f:\n",
    "        while True:\n",
    "            chunk = f.read(1024)\n",
    "            if not chunk:\n",
    "                break\n",
    "            yield chunk\n",
    "\n",
    "for chunk in read_large_file(\"large_file.txt\"):\n",
    "    process(chunk)    \n",
    "```"
   ]
  },
  {
   "cell_type": "markdown",
   "id": "0d039a32-b87c-4e5d-b013-9c32c5da7d24",
   "metadata": {},
   "source": [
    "### 5. Context managers"
   ]
  },
  {
   "cell_type": "code",
   "execution_count": 8,
   "id": "76183564-2c71-4fca-9091-2f589bd4ed8d",
   "metadata": {},
   "outputs": [
    {
     "name": "stdout",
     "output_type": "stream",
     "text": [
      "The code took 1.00 seconds to execute.\n"
     ]
    }
   ],
   "source": [
    "import time\n",
    "\n",
    "class TimerContextManager:\n",
    "    def __enter__(self):\n",
    "        self.start = time.time()\n",
    "\n",
    "    def __exit__(self, type, value, traceback):\n",
    "        end = time.time()\n",
    "        print(f\"The code took {end - self.start:.2f} seconds to execute.\")\n",
    "\n",
    "with TimerContextManager():\n",
    "    # This code is timed\n",
    "    time.sleep(1)"
   ]
  },
  {
   "cell_type": "code",
   "execution_count": 8,
   "id": "dddec374-bfb8-4e14-bc3f-4b0f145d62bd",
   "metadata": {},
   "outputs": [
    {
     "data": {
      "image/jpeg": "[encoded data removed]",
      "text/html": [
       "\n",
       "        <iframe\n",
       "            width=\"400\"\n",
       "            height=\"300\"\n",
       "            src=\"https://www.youtube.com/embed/NGMRB4O922I\"\n",
       "            frameborder=\"0\"\n",
       "            allowfullscreen\n",
       "            \n",
       "        ></iframe>\n",
       "        "
      ],
      "text/plain": [
       "<IPython.lib.display.YouTubeVideo at 0x7f5731d22190>"
      ]
     },
     "execution_count": 8,
     "metadata": {},
     "output_type": "execute_result"
    }
   ],
   "source": [
    "from IPython.display import YouTubeVideo\n",
    "\n",
    "YouTubeVideo(\"NGMRB4O922I\")"
   ]
  },
  {
   "cell_type": "markdown",
   "id": "f856e2d8-4fd9-4b0d-af15-5b7c263ec0ca",
   "metadata": {},
   "source": [
    "### Conclusion"
   ]
  }
 ],
 "metadata": {
  "kernelspec": {
   "display_name": "articles",
   "language": "python",
   "name": "articles"
  },
  "language_info": {
   "codemirror_mode": {
    "name": "ipython",
    "version": 3
   },
   "file_extension": ".py",
   "mimetype": "text/x-python",
   "name": "python",
   "nbconvert_exporter": "python",
   "pygments_lexer": "ipython3",
   "version": "3.9.13"
  }
 },
 "nbformat": 4,
 "nbformat_minor": 5
}
