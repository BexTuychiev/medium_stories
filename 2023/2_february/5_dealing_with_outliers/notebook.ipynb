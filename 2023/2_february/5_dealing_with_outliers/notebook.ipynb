{
 "cells": [
  {
   "cell_type": "markdown",
   "id": "c3fd793f-831d-4ab1-b179-dde2f323a781",
   "metadata": {},
   "source": [
    "# What to Do With Outliers Once You Find Them? (Hint: You Can't Drop Them)\n",
    "![](images/fractal.jpg)\n",
    "<figcaption style=\"text-align: center;\">\n",
    "Image by <a href=\"https://pixabay.com/users/realworkhard-23566/?utm_source=link-attribution&amp;utm_medium=referral&amp;utm_campaign=image&amp;utm_content=199054\">Ralf Kunze</a> from <a href=\"https://pixabay.com//?utm_source=link-attribution&amp;utm_medium=referral&amp;utm_campaign=image&amp;utm_content=199054\">Pixabay</a>\n",
    "</figcaption>"
   ]
  },
  {
   "cell_type": "markdown",
   "id": "65ceb29b-1769-475a-bb1a-5306d3a57374",
   "metadata": {},
   "source": [
    "### Motivation"
   ]
  },
  {
   "cell_type": "markdown",
   "id": "a5322dab-89a9-4b68-b372-3c199a251259",
   "metadata": {},
   "source": [
    "Outlier detection is only part of the problem. The real challenge comes in figuring out what to do with these anomalies. It's all too easy to just brush them aside, but there are a lot of nuances and factors to consider before dropping them.\n",
    "\n",
    "Today, we'll break down the issue from two perspectives. First, we'll look at appropriate courses of action based on the reasons of outlier presence and then we'll discuss what to do depending on the number of outliers in the dataset. Let's get started!"
   ]
  },
  {
   "cell_type": "markdown",
   "id": "0bfe0453-5c3f-40d3-83de-bb8baf3b5b1c",
   "metadata": {},
   "source": [
    "### 1. Cause of presence: error "
   ]
  },
  {
   "cell_type": "markdown",
   "id": "f56c85de-1045-4739-99a9-47d8fae55219",
   "metadata": {},
   "source": [
    "One of the most frequent causes of outliers is human and equipment errors. Someone screws up the number of zeros, presses the wrong key, forgets to measure something (or measures it twice), or a faulty instrument produces inconsistent readings, a software glitch records incorrect data and so on. \n",
    "\n",
    "As a data scientist, these things are out of your control as they usually happen during data collection. The first appropriate course of action is try to correct these faulty anomalies. Try to fix that typo or change numeric values to common sense alternatives (like when someone is 200 years old in a survey, you change it to 20).\n",
    "\n",
    "When correction is not possible or too expensive, there is nothing left but to filter them out because you know those are incorrect values."
   ]
  },
  {
   "cell_type": "markdown",
   "id": "ae24b9f1-f621-410a-97e8-1e89c46b6b22",
   "metadata": {},
   "source": [
    "### 2. Cause of presence: Sampling errors"
   ]
  },
  {
   "cell_type": "markdown",
   "id": "29866332-8eab-4410-aa3c-565a8b9a3557",
   "metadata": {},
   "source": [
    "Statisticians and machine learning engineers use small samples to draw conclusions about a specific target population. However, during data collection, datapoints that aren't from the population may leak into the collected sample. \n",
    "\n",
    "For example, imagine you are conducting a study on the growth of apples from your friend's orchard. The defined population of this study is all the apple trees in this orchard and the sample is 1000 randomly selected apple trees. But, as the fences between them aren't clearly visible, a few dozen trees from a neighbor's orchard makes it into your sample. \n",
    "\n",
    "While the neighbor's apples aren't necessarily abnormal, they come from a different population and can possibly distort your entire study.\n",
    "\n",
    "When such sampling errors happen, the only course of action is removing the outliers. "
   ]
  },
  {
   "cell_type": "markdown",
   "id": "1f31005f-7e6b-4c3d-a8a0-ab84f516a8bf",
   "metadata": {},
   "source": [
    "### 3. Cause of presence: Natural variability"
   ]
  },
  {
   "cell_type": "markdown",
   "id": "9c78f41c-6449-416b-9f23-24ea522fac0a",
   "metadata": {},
   "source": [
    "The world is full of surprises and uncertainty. Some outliers might just occur out of nowhere and still be part of the natural variability inherent in the target population. \n",
    "\n",
    "Examples are people blessed with certain genes that make them extremely tall, very short, savants, etc. or animals that can jump unusually high or live too long relative to their peers... The examples are endless.\n",
    "\n",
    "If you take a large enough sample, you are bound to get oddballs that are naturally part of their distributions. They aren't necessarily problems but introduce variability in data. \n",
    "\n",
    "While it is tempting to remove them (since they decrease statistical significance of data), you can't simply do so for the sake of better metrics. "
   ]
  },
  {
   "cell_type": "markdown",
   "id": "931e0b28-aa83-45b1-9ab7-38b3a7b7d88a",
   "metadata": {},
   "source": [
    "### 4. Number of outliers"
   ]
  },
  {
   "cell_type": "markdown",
   "id": "a9eeb745-1f25-4b58-8668-ef123b082afe",
   "metadata": {},
   "source": [
    "Dealing with outliers will also heavily depend on their numbers relative to the dataset size. \n",
    "\n",
    "If they are only a few (below 1%) and you have abundant data, it is safe to exclude them for transparency. Of course, you have to talk it out with the people who collected the data or domain experiments to make sure they are not part of natural variability. \n",
    "\n",
    "If there are too many outliers that they raise suspicion, then, there is probably some unknown reason for their presence. Maybe they only appear as outliers relative to the majority but actually are key characteristics of the target population. In that case, the drawn sample would be considered non-representative. \n",
    "\n",
    "The final case is that there are so many outliers in the data that they form a new cluster or a sub-group. Here, the same approach is recommended - analyze how the initial machine learning or data science problem was framed, how the target population and sample were chosen and how so many outliers made into the dataset."
   ]
  },
  {
   "cell_type": "markdown",
   "id": "8361349c-2275-4be9-9996-bd967caa2f06",
   "metadata": {},
   "source": [
    "### What to do with outliers if you don't drop them?"
   ]
  },
  {
   "cell_type": "markdown",
   "id": "d88fac93-8ec4-46de-bfe9-f3c87ef04211",
   "metadata": {},
   "source": [
    "Even though outliers are often dropped so that they don't skew mean and standard deviation of features and ultimately lead to degraded model performance, in some contexts, outliers themselves are of interest.\n",
    "\n",
    "Some applications of anomaly detection include intrusion detection (cyber security), fraud detection, fault detection, system health monitoring, event detection in sensor networks, detecting ecosystem disturbances, defect detection in images using machine vision and medical diagnosis. In these scenarios, the nature and presence of outliers are heavily studied to drive business, privacy and medical decisions. \n",
    "\n",
    "If you do decide to drop outliers to increase model performance, improve visuals or statistical tests, you should be transparent in your approach. The stakeholders (people who directly benefit or lose from the project) should be informed of the decision. Preferably, you should present two results: one with outliers present and one without. \n",
    "\n",
    "There are also some non-aggressive and lightweight alternatives. A popular method is *percentile trimming* where extreme values that are beyond the first and 99th percentiles are capped. You can easily perform the operation in Pandas or NumPy:"
   ]
  },
  {
   "cell_type": "markdown",
   "id": "efc02068-3f29-4efc-88c7-6ffdde460a1f",
   "metadata": {},
   "source": [
    "```python\n",
    "import pandas as pd\n",
    "\n",
    "low = distribution.quantile(0.01)\n",
    "high = distribution.quantile(0.99)\n",
    "\n",
    "outlier_free = distribution.clip(low, high)\n",
    "```"
   ]
  },
  {
   "cell_type": "markdown",
   "id": "b5597961-c2a5-422a-9907-15292854ee00",
   "metadata": {},
   "source": [
    "You can also replace outliers with the median or mode. This can be done in Pandas with the `replace` function or `where` function in NumPy."
   ]
  }
 ],
 "metadata": {
  "kernelspec": {
   "display_name": "articles",
   "language": "python",
   "name": "articles"
  },
  "language_info": {
   "codemirror_mode": {
    "name": "ipython",
    "version": 3
   },
   "file_extension": ".py",
   "mimetype": "text/x-python",
   "name": "python",
   "nbconvert_exporter": "python",
   "pygments_lexer": "ipython3",
   "version": "3.9.13"
  }
 },
 "nbformat": 4,
 "nbformat_minor": 5
}
