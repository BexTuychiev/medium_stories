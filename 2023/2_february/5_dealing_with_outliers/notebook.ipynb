{
 "cells": [
  {
   "cell_type": "markdown",
   "id": "c3fd793f-831d-4ab1-b179-dde2f323a781",
   "metadata": {},
   "source": [
    "# What to Do With Outliers Once You Find Them? N Proven Methods\n",
    "![](images/fractal.jpg)\n",
    "<figcaption style=\"text-align: center;\">\n",
    "Image by <a href=\"https://pixabay.com/users/realworkhard-23566/?utm_source=link-attribution&amp;utm_medium=referral&amp;utm_campaign=image&amp;utm_content=199054\">Ralf Kunze</a> from <a href=\"https://pixabay.com//?utm_source=link-attribution&amp;utm_medium=referral&amp;utm_campaign=image&amp;utm_content=199054\">Pixabay</a>\n",
    "</figcaption>"
   ]
  },
  {
   "cell_type": "markdown",
   "id": "65ceb29b-1769-475a-bb1a-5306d3a57374",
   "metadata": {},
   "source": [
    "### Motivation"
   ]
  },
  {
   "cell_type": "markdown",
   "id": "a5322dab-89a9-4b68-b372-3c199a251259",
   "metadata": {},
   "source": [
    "Outlier detection is only part of the problem. The real challenge comes in figuring out what to do with these anomalies. It's all too easy to just brush them aside, but there are a lot of nuances and factors to consider first.\n",
    "\n",
    "Today, we'll break down the issue from two perspectives. First, we'll look at appropriate courses of action based on the reasons of outlier presence and then we'll discuss what to do depending on the number of outliers in the dataset. Let's get started!"
   ]
  },
  {
   "cell_type": "markdown",
   "id": "0bfe0453-5c3f-40d3-83de-bb8baf3b5b1c",
   "metadata": {},
   "source": [
    "### 1. Cause of presence: error "
   ]
  },
  {
   "cell_type": "markdown",
   "id": "f56c85de-1045-4739-99a9-47d8fae55219",
   "metadata": {},
   "source": [
    "One of the most frequent causes of outliers is human and equipment errors. Someone screws up the number of zeros, press the wrong key, forget to measure something (or measure it twice), or a faulty instrument produces inconsistent readings, a software glitch records incorrect data and so on. \n",
    "\n",
    "As a data scientist, these are the things that are out of your control as they usually happen during data collection. The first appropriate course of action is try to correct these faulty anomalies. Try to fix that typo or change numeric values to common sense alternatives (like when someone is 200 years old in a survey, you change it to 20).\n",
    "\n",
    "When correction is not possible or too expensive, there is nothing left but to filter them out because you know those are incorrect values."
   ]
  },
  {
   "cell_type": "markdown",
   "id": "ae24b9f1-f621-410a-97e8-1e89c46b6b22",
   "metadata": {},
   "source": []
  }
 ],
 "metadata": {
  "kernelspec": {
   "display_name": "articles",
   "language": "python",
   "name": "articles"
  },
  "language_info": {
   "codemirror_mode": {
    "name": "ipython",
    "version": 3
   },
   "file_extension": ".py",
   "mimetype": "text/x-python",
   "name": "python",
   "nbconvert_exporter": "python",
   "pygments_lexer": "ipython3",
   "version": "3.9.13"
  }
 },
 "nbformat": 4,
 "nbformat_minor": 5
}
