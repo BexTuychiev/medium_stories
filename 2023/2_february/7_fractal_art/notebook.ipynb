{
 "cells": [
  {
   "cell_type": "markdown",
   "id": "e05d4921-7de7-4767-851b-c24831cb65b5",
   "metadata": {},
   "source": [
    "# Create Stunning Fractal Art with Python: A Tutorial For Beginners And Hardcore Math Lovers\n",
    "## With a single line of code or even less\n"
   ]
  },
  {
   "cell_type": "markdown",
   "id": "bef16926-33ee-4d87-9275-077008026041",
   "metadata": {},
   "source": [
    "### Introduction"
   ]
  },
  {
   "cell_type": "markdown",
   "id": "634535af-2f41-405e-9c93-dc7fb69d7d3c",
   "metadata": {},
   "source": [
    "The phrase \"I've never seen anything more beautiful\" should only be used for fractals. Sure, there is the Mona Lisa, Van Gokh's paintings (which all have been ruined by AI-generated art, by the way), but I don't think any artist or human, could create anything as royally amazing as fractals. \n",
    "\n",
    "On the left, we have the iconic fractal, the Mandelbrot's set, discovered in NNNN when Python or no graphing software was available. \n",
    "\n",
    "![](images/opening.gif)"
   ]
  },
  {
   "cell_type": "markdown",
   "id": "ed2eafaf-31d9-4cdc-bb5d-59d905253cec",
   "metadata": {},
   "source": [
    "The Mandelbrot's set is a set of complex numbers that when plotted with a few tricks, forms the self-repeating shape we see. Every number in the set can also be a seed to __Julia sets__ and you can see the beauties appearing as I move around the mouse inside boundary of the Mandelbrot's set. "
   ]
  },
  {
   "cell_type": "markdown",
   "id": "c8b1ed75-bab4-440e-a236-573e6f4b9fc3",
   "metadata": {},
   "source": [
    "But before we can plot the Mandelbrot or Julia sets (but, believe me, we will), we have got a quite ground to cover. If you were here just to see the cool pictures, I highly recommend the Fractal Art gallery or download the open-source Fraqtive software, which I used to generate the above GIF and the one below:\n",
    "\n",
    "![](images/zoom.gif)"
   ]
  },
  {
   "cell_type": "markdown",
   "id": "00e9b510-824f-4172-8570-7eaf42d5f2eb",
   "metadata": {},
   "source": [
    "If you just want to plot the Mandelbrot set in Python with a single line of code, here it is (no, the subtitle was not clickbait):\n",
    "\n",
    "Paste the code block here."
   ]
  },
  {
   "cell_type": "markdown",
   "id": "151fd482-e385-4992-b75c-8e7e7b5a5fa1",
   "metadata": {},
   "source": [
    "But if you want to go down the beautiful rabbit hole of fractals and learn how to plot them and most importantly, color them appropriately, then read on, possibly for a couple more articles. In this post, we will only learn how to plot a black-white vanilla Mandelbrot using Matplotlib and NumPy. Then, we will take things to a whole new level with Pillow in the future articles.\n",
    "\n",
    "Let's get started. "
   ]
  }
 ],
 "metadata": {
  "kernelspec": {
   "display_name": "articles",
   "language": "python",
   "name": "articles"
  },
  "language_info": {
   "codemirror_mode": {
    "name": "ipython",
    "version": 3
   },
   "file_extension": ".py",
   "mimetype": "text/x-python",
   "name": "python",
   "nbconvert_exporter": "python",
   "pygments_lexer": "ipython3",
   "version": "3.9.13"
  }
 },
 "nbformat": 4,
 "nbformat_minor": 5
}
