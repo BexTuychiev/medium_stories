{
 "cells": [
  {
   "cell_type": "markdown",
   "id": "e05d4921-7de7-4767-851b-c24831cb65b5",
   "metadata": {},
   "source": [
    "# Create Stunning Fractal Art with Python: A Tutorial For Beginners And Hardcore Math Lovers\n",
    "## With a single line of code or even less\n"
   ]
  },
  {
   "cell_type": "markdown",
   "id": "bef16926-33ee-4d87-9275-077008026041",
   "metadata": {},
   "source": [
    "### Introduction"
   ]
  },
  {
   "cell_type": "markdown",
   "id": "634535af-2f41-405e-9c93-dc7fb69d7d3c",
   "metadata": {},
   "source": [
    "The phrase \"I've never seen anything more beautiful\" should only be used for fractals. Sure, there is the Mona Lisa, Van Gokh's paintings (which all have been ruined by AI-generated art, by the way), but I don't think any artist or human, could create anything as royally amazing as fractals. \n",
    "\n",
    "On the left, we have the iconic fractal, the Mandelbrot's set, discovered in NNNN when Python or no graphing software was available. \n",
    "\n",
    "![](images/opening.gif)"
   ]
  },
  {
   "cell_type": "markdown",
   "id": "ed2eafaf-31d9-4cdc-bb5d-59d905253cec",
   "metadata": {},
   "source": [
    "The Mandelbrot's set is a set of complex numbers that when plotted on the complex plane, forms the self-repeating shape we see. Every number in the set can also be a seed to __Julia sets__ and you can see the beauties appearing as I move around the mouse inside the boundary of the Mandelbrot's set. "
   ]
  },
  {
   "cell_type": "markdown",
   "id": "c8b1ed75-bab4-440e-a236-573e6f4b9fc3",
   "metadata": {},
   "source": [
    "But before we can plot the Mandelbrot or Julia sets (but, believe me, we will), we have got a quite ground to cover. If you are here just to see the cool pictures, I highly recommend downloading the [open-source Fraqtive software](https://fraqtive.mimec.org/), which I used to generate the above GIF and the one below:\n",
    "\n",
    "![](images/zoom.gif)"
   ]
  },
  {
   "cell_type": "markdown",
   "id": "00e9b510-824f-4172-8570-7eaf42d5f2eb",
   "metadata": {},
   "source": [
    "If you just want to plot the Mandelbrot set in Python with a single line of code, here it is (no, the subtitle was not clickbait):"
   ]
  },
  {
   "cell_type": "code",
   "execution_count": 217,
   "id": "780d452e-9ce3-425c-8ac8-bec22ba7d022",
   "metadata": {},
   "outputs": [
    {
     "name": "stderr",
     "output_type": "stream",
     "text": [
      "display-im6.q16: unable to open X server `' @ error/display.c/DisplayImageCommand/432.\n"
     ]
    }
   ],
   "source": [
    "from PIL import Image\n",
    "\n",
    "Image.effect_mandelbrot((512, 512), (-3, -2.5, 2, 2.5), 100).show()"
   ]
  },
  {
   "cell_type": "markdown",
   "id": "151fd482-e385-4992-b75c-8e7e7b5a5fa1",
   "metadata": {},
   "source": [
    "But if you want to go down the beautiful rabbit hole of fractals and learn how to plot them and most importantly, color them appropriately, then read on, possibly for a couple more articles. In this post, we will only learn how to plot a black-white vanilla Mandelbrot using Matplotlib and NumPy. Then, we will take things to a whole new level with Pillow in the future articles.\n",
    "\n",
    "Let's get started. "
   ]
  },
  {
   "cell_type": "markdown",
   "id": "83f69f6e-a7a2-4ec0-bfd6-72388e36852a",
   "metadata": {},
   "source": [
    "### Complex numbers in Python"
   ]
  },
  {
   "cell_type": "markdown",
   "id": "4e2884db-77ac-4556-b184-185a48597394",
   "metadata": {},
   "source": [
    "Python programmers don't deal with complex numbers on a daily-basis. As we will be working with them a lot in this tutorial, this section will serve as a primer. \n",
    "\n",
    "You can create an imaginary part of a complex number by appending the literal _j_ to integers or floats."
   ]
  },
  {
   "cell_type": "code",
   "execution_count": 5,
   "id": "7e934e80-b671-4c0b-aae2-5388b31c448c",
   "metadata": {},
   "outputs": [
    {
     "data": {
      "text/plain": [
       "complex"
      ]
     },
     "execution_count": 5,
     "metadata": {},
     "output_type": "execute_result"
    }
   ],
   "source": [
    "num1 = 2 + 1j\n",
    "num2 = 12.3 + 23.1j\n",
    "\n",
    "type(num1)"
   ]
  },
  {
   "cell_type": "markdown",
   "id": "553af77c-2842-43a4-b061-a432c75cce66",
   "metadata": {},
   "source": [
    "If seeing imaginary numbers represented with _j_ instead of _i_ confuses you (hello, mathematicians), you can use the `complex` built-in function:"
   ]
  },
  {
   "cell_type": "code",
   "execution_count": 10,
   "id": "aee0d2e3-5ba7-4326-a348-bf97069122b4",
   "metadata": {},
   "outputs": [
    {
     "data": {
      "text/plain": [
       "True"
      ]
     },
     "execution_count": 10,
     "metadata": {},
     "output_type": "execute_result"
    }
   ],
   "source": [
    "2 + 3j == complex(2, 3)"
   ]
  },
  {
   "cell_type": "markdown",
   "id": "f2996a00-7b6a-465b-81e7-4f220d7de928",
   "metadata": {},
   "source": [
    "Once created, you can access the real and imaginary components of complex numbers with `real` and `imag` attributes:"
   ]
  },
  {
   "cell_type": "code",
   "execution_count": 7,
   "id": "9e38bad3-e841-4f69-aba8-db808984bfc4",
   "metadata": {},
   "outputs": [
    {
     "data": {
      "text/plain": [
       "2.0"
      ]
     },
     "execution_count": 7,
     "metadata": {},
     "output_type": "execute_result"
    }
   ],
   "source": [
    "num1.real"
   ]
  },
  {
   "cell_type": "code",
   "execution_count": 8,
   "id": "038d31a9-4a4b-445f-9afb-f531f79653bd",
   "metadata": {},
   "outputs": [
    {
     "data": {
      "text/plain": [
       "23.1"
      ]
     },
     "execution_count": 8,
     "metadata": {},
     "output_type": "execute_result"
    }
   ],
   "source": [
    "num2.imag"
   ]
  },
  {
   "cell_type": "markdown",
   "id": "d08478dd-4304-4bd0-a3f0-113f28220a10",
   "metadata": {},
   "source": [
    "Another important property of complex numbers for the purposes of this article is their absolute value. An absolute value or modulus of a complex number is a measure of its distance from the origin (0, 0) in the complex plane. It is defined as the square root of the sum of its real and imaginary parts (thank you, Pythagoras)."
   ]
  },
  {
   "cell_type": "code",
   "execution_count": 215,
   "id": "cce30e9a-caf9-4992-9db5-cf252c67da31",
   "metadata": {},
   "outputs": [
    {
     "data": {
      "text/plain": [
       "3.295390720385065"
      ]
     },
     "execution_count": 215,
     "metadata": {},
     "output_type": "execute_result"
    }
   ],
   "source": [
    "abs(1 + 3.14j)"
   ]
  },
  {
   "cell_type": "markdown",
   "id": "d09761f1-9fa6-4b01-831c-9d301781359b",
   "metadata": {},
   "source": [
    "These will be enough for us to create some awesome things. Let's get started!"
   ]
  },
  {
   "cell_type": "markdown",
   "id": "33d94d22-6eda-47a9-b3cb-ad8975bcd39a",
   "metadata": {},
   "source": [
    "### Simple formula, grand set"
   ]
  },
  {
   "cell_type": "markdown",
   "id": "0f691165-7d18-4844-aa62-d6436b9dfc62",
   "metadata": {},
   "source": [
    "Our journey starts by finding out if some complex number _c_ belongs to the Mandelbrot's Set, which is surprisingly easy. All we have to do is to put it through the below formula and create a sequence of _z_ values:"
   ]
  },
  {
   "attachments": {
    "f4b31237-142d-4e3e-8282-f109320e6581.png": {
     "image/png": "[encoded data removed]"
    }
   },
   "cell_type": "markdown",
   "id": "77bdecb2-8daf-4da9-a2cb-ef5706a1de5b",
   "metadata": {},
   "source": [
    "![image.png](attachment:f4b31237-142d-4e3e-8282-f109320e6581.png)"
   ]
  },
  {
   "cell_type": "markdown",
   "id": "2191fb5f-0dc9-4402-b2cb-1ed06dc9f142",
   "metadata": {},
   "source": [
    "The first _z_ is always 0, as defined above. Subsequent elements are found by squaring the previous _z_ and adding _c_ to the result.\n",
    "\n",
    "Let's implement the process in Python. We will define a `sequence` function that returns the first `n` elements for a given `c`:"
   ]
  },
  {
   "cell_type": "code",
   "execution_count": 220,
   "id": "00e74c9e-5be1-4e9b-863a-f6e77d7a44ef",
   "metadata": {},
   "outputs": [],
   "source": [
    "def sequence(c, n=7) -> list:\n",
    "    z_list = list()\n",
    "    \n",
    "    z = 0\n",
    "    for _ in range(n):\n",
    "        z = z ** 2 + c\n",
    "        z_list.append(z)\n",
    "    \n",
    "    return z_list"
   ]
  },
  {
   "cell_type": "markdown",
   "id": "a558f781-7959-4401-8ad0-0cd6d03ed641",
   "metadata": {},
   "source": [
    "Let's try this function on a bunch of random numbers and print the results nicely:"
   ]
  },
  {
   "cell_type": "code",
   "execution_count": 221,
   "id": "fa0771c1-9280-44c9-b49a-bc4f2e6bdfbf",
   "metadata": {},
   "outputs": [
    {
     "data": {
      "text/html": [
       "<div>\n",
       "<style scoped>\n",
       "    .dataframe tbody tr th:only-of-type {\n",
       "        vertical-align: middle;\n",
       "    }\n",
       "\n",
       "    .dataframe tbody tr th {\n",
       "        vertical-align: top;\n",
       "    }\n",
       "\n",
       "    .dataframe thead th {\n",
       "        text-align: right;\n",
       "    }\n",
       "</style>\n",
       "<table border=\"1\" class=\"dataframe\">\n",
       "  <thead>\n",
       "    <tr style=\"text-align: right;\">\n",
       "      <th></th>\n",
       "      <th>element</th>\n",
       "      <th>c=0</th>\n",
       "      <th>c=1</th>\n",
       "      <th>c=-1</th>\n",
       "      <th>c=2</th>\n",
       "      <th>c=0.25</th>\n",
       "      <th>c=-0.1</th>\n",
       "    </tr>\n",
       "  </thead>\n",
       "  <tbody>\n",
       "    <tr>\n",
       "      <th>0</th>\n",
       "      <td>z_0</td>\n",
       "      <td>0</td>\n",
       "      <td>1</td>\n",
       "      <td>-1</td>\n",
       "      <td>2</td>\n",
       "      <td>0.250000</td>\n",
       "      <td>-0.100000</td>\n",
       "    </tr>\n",
       "    <tr>\n",
       "      <th>1</th>\n",
       "      <td>z_1</td>\n",
       "      <td>0</td>\n",
       "      <td>2</td>\n",
       "      <td>0</td>\n",
       "      <td>6</td>\n",
       "      <td>0.312500</td>\n",
       "      <td>-0.090000</td>\n",
       "    </tr>\n",
       "    <tr>\n",
       "      <th>2</th>\n",
       "      <td>z_2</td>\n",
       "      <td>0</td>\n",
       "      <td>5</td>\n",
       "      <td>-1</td>\n",
       "      <td>38</td>\n",
       "      <td>0.347656</td>\n",
       "      <td>-0.091900</td>\n",
       "    </tr>\n",
       "    <tr>\n",
       "      <th>3</th>\n",
       "      <td>z_3</td>\n",
       "      <td>0</td>\n",
       "      <td>26</td>\n",
       "      <td>0</td>\n",
       "      <td>1446</td>\n",
       "      <td>0.370865</td>\n",
       "      <td>-0.091554</td>\n",
       "    </tr>\n",
       "    <tr>\n",
       "      <th>4</th>\n",
       "      <td>z_4</td>\n",
       "      <td>0</td>\n",
       "      <td>677</td>\n",
       "      <td>-1</td>\n",
       "      <td>2090918</td>\n",
       "      <td>0.387541</td>\n",
       "      <td>-0.091618</td>\n",
       "    </tr>\n",
       "    <tr>\n",
       "      <th>5</th>\n",
       "      <td>z_5</td>\n",
       "      <td>0</td>\n",
       "      <td>458330</td>\n",
       "      <td>0</td>\n",
       "      <td>4371938082726</td>\n",
       "      <td>0.400188</td>\n",
       "      <td>-0.091606</td>\n",
       "    </tr>\n",
       "    <tr>\n",
       "      <th>6</th>\n",
       "      <td>z_6</td>\n",
       "      <td>0</td>\n",
       "      <td>210066388901</td>\n",
       "      <td>-1</td>\n",
       "      <td>19113842599189892819591078</td>\n",
       "      <td>0.410150</td>\n",
       "      <td>-0.091608</td>\n",
       "    </tr>\n",
       "  </tbody>\n",
       "</table>\n",
       "</div>"
      ],
      "text/plain": [
       "  element  c=0           c=1  c=-1                         c=2    c=0.25  \\\n",
       "0     z_0    0             1    -1                           2  0.250000   \n",
       "1     z_1    0             2     0                           6  0.312500   \n",
       "2     z_2    0             5    -1                          38  0.347656   \n",
       "3     z_3    0            26     0                        1446  0.370865   \n",
       "4     z_4    0           677    -1                     2090918  0.387541   \n",
       "5     z_5    0        458330     0               4371938082726  0.400188   \n",
       "6     z_6    0  210066388901    -1  19113842599189892819591078  0.410150   \n",
       "\n",
       "     c=-0.1  \n",
       "0 -0.100000  \n",
       "1 -0.090000  \n",
       "2 -0.091900  \n",
       "3 -0.091554  \n",
       "4 -0.091618  \n",
       "5 -0.091606  \n",
       "6 -0.091608  "
      ]
     },
     "execution_count": 221,
     "metadata": {},
     "output_type": "execute_result"
    }
   ],
   "source": [
    "import pandas as pd\n",
    "\n",
    "df = pd.DataFrame()\n",
    "df['element'] = [f\"z_{i}\" for i in range(7)]\n",
    "\n",
    "# Random numbers\n",
    "cs = [0, 1, -1, 2, 0.25, -.1]\n",
    "\n",
    "for c in cs:\n",
    "    df[f\"c={c}\"] = sequence(c)\n",
    "    \n",
    "df"
   ]
  },
  {
   "cell_type": "markdown",
   "id": "1dae5d65-160f-40ae-b67e-dff6002c2ac0",
   "metadata": {},
   "source": [
    "We see three types of results: when _c_ is either 1 or 2, the sequence is unbounded (diverges to infinity) as the sequence grows. When it is -1, the sequence goes back and forth between 0 and -1. As for 0.25 and -0.1, they stay pretty small or bounded. \n",
    "\n",
    "So, which of these five numbers belong to the Mandelbrot's set?"
   ]
  },
  {
   "cell_type": "markdown",
   "id": "921d67c0-86e9-4b58-80fb-2f4378083803",
   "metadata": {},
   "source": [
    "### Are you stable?"
   ]
  },
  {
   "cell_type": "markdown",
   "id": "14c377a8-588f-4b5a-9c0e-2110bd5c4c24",
   "metadata": {},
   "source": [
    "The rule is simple - if _c_ makes the sequence diverge to infinity, it is not in the Mandelbrot's set. In fractals jargon, that _c_ is called unstable. Or, let's ditch the negativity, the given complex number _c_ is stable if its corresponding _Z_ sequence remains bounded. \n",
    "\n",
    "Now, we have to figure out how many members of _Z_ to look at before classifying _c_ as stable or unstable. This _iteration count_ is not obvious to find as the formula is sensitive to even the smallest changes to _c_. \n",
    "\n",
    "But fortunately, people have been studying the set for a long enough time to know that all Mandelbrots stay bounded within a radius of two. This means we can perform a few dozen iteration and the numbers that stay relatively small or below two are probably in the Mandelbrot's set. "
   ]
  },
  {
   "cell_type": "markdown",
   "id": "c0c17872-6734-401c-aa87-a605d64a90b3",
   "metadata": {},
   "source": [
    "So, let's create a new function `is_stable` using this logic:"
   ]
  },
  {
   "cell_type": "code",
   "execution_count": 225,
   "id": "ba24d154-21d3-4b75-80eb-c158a606313c",
   "metadata": {},
   "outputs": [],
   "source": [
    "def is_stable(c, n_iterations=20):\n",
    "    z = 0\n",
    "    \n",
    "    for _ in range(n_iterations):\n",
    "        z = z ** 2 + c\n",
    "        \n",
    "        if abs(z) > 2:\n",
    "            return False\n",
    "    return True"
   ]
  },
  {
   "cell_type": "markdown",
   "id": "5e98ebbb-d2df-4fa8-b46f-57ad8f7b7c4c",
   "metadata": {},
   "source": [
    "In the body of this boolean function, we set `z` to 0 and run it through the algorithm in a loop, controlled by `n_iterations`. In each iteration, we are checking the magnitude of `z` so that we can terminate the loop if it exceeds 2 early on. \n",
    "\n",
    "The last `return` statement is only executed if `z` is below 2 after all the iterations. Let's check a few numbers:"
   ]
  },
  {
   "cell_type": "code",
   "execution_count": 227,
   "id": "bbe48d93-6d13-46ae-aec6-9b71401c613d",
   "metadata": {},
   "outputs": [
    {
     "data": {
      "text/plain": [
       "False"
      ]
     },
     "execution_count": 227,
     "metadata": {},
     "output_type": "execute_result"
    }
   ],
   "source": [
    "is_stable(1)"
   ]
  },
  {
   "cell_type": "code",
   "execution_count": 228,
   "id": "96becdab-b46f-40e2-affb-d86a68300b2a",
   "metadata": {},
   "outputs": [
    {
     "data": {
      "text/plain": [
       "True"
      ]
     },
     "execution_count": 228,
     "metadata": {},
     "output_type": "execute_result"
    }
   ],
   "source": [
    "is_stable(0.2)"
   ]
  },
  {
   "cell_type": "code",
   "execution_count": 230,
   "id": "3f915c2f-77ca-4eff-ba15-c2a474eef4c3",
   "metadata": {},
   "outputs": [
    {
     "data": {
      "text/plain": [
       "True"
      ]
     },
     "execution_count": 230,
     "metadata": {},
     "output_type": "execute_result"
    }
   ],
   "source": [
    "is_stable(0.26)"
   ]
  },
  {
   "cell_type": "code",
   "execution_count": 232,
   "id": "a0996cc6-8176-4911-99f2-c4dad8b404c7",
   "metadata": {},
   "outputs": [
    {
     "data": {
      "text/plain": [
       "False"
      ]
     },
     "execution_count": 232,
     "metadata": {},
     "output_type": "execute_result"
    }
   ],
   "source": [
    "is_stable(0.26, n_iterations=30)"
   ]
  },
  {
   "cell_type": "markdown",
   "id": "5cc719e7-8636-4fd8-9ab8-d7b2dd2a9192",
   "metadata": {},
   "source": [
    "Note how increasing `n_iterations` to 30 changes the stability of 0.26. Generally, values close to the fractals edge require more iterations to make a more accurate classification and create more detailed visuals. "
   ]
  },
  {
   "cell_type": "markdown",
   "id": "aaa08691-74d8-4030-b750-5e9ca0b8619e",
   "metadata": {},
   "source": [
    "### Code"
   ]
  },
  {
   "cell_type": "code",
   "execution_count": 76,
   "id": "c83742cc-ea8c-49da-8664-e592e9b1ffc7",
   "metadata": {},
   "outputs": [],
   "source": [
    "def candidate_values(xmin, xmax, ymin, ymax, pixel_density):\n",
    "    # Generate a 2D grid of real and imaginary values\n",
    "    real = np.linspace(xmin, xmax, num=int((xmax-xmin) * pixel_density))\n",
    "    imag = np.linspace(ymin, ymax, num=int((ymax-ymin) * pixel_density))\n",
    "    \n",
    "    xx, yy = np.meshgrid(real, imag)\n",
    "    \n",
    "    # Combine the real and imaginary parts into complex numbers\n",
    "    matrix = xx + 1j * yy\n",
    "    return matrix"
   ]
  },
  {
   "cell_type": "code",
   "execution_count": 77,
   "id": "d004b139-3904-4a6f-8d3d-c71e7fb34e8e",
   "metadata": {},
   "outputs": [
    {
     "data": {
      "text/plain": [
       "(60, 80)"
      ]
     },
     "execution_count": 77,
     "metadata": {},
     "output_type": "execute_result"
    }
   ],
   "source": [
    "c = candidate_values(-2, 2, -1.5, 1.5, 20)\n",
    "\n",
    "c.shape"
   ]
  },
  {
   "cell_type": "code",
   "execution_count": 134,
   "id": "f4cdc5dc-d35a-402b-befa-9d60a321cd88",
   "metadata": {},
   "outputs": [],
   "source": [
    "def in_mandelbrot(c: complex, max_iterations=100):\n",
    "    z = 0\n",
    "    \n",
    "    for _ in range(max_iterations):\n",
    "        z = z ** 2 + c\n",
    "        if abs(z) > 2:\n",
    "            return False\n",
    "    \n",
    "    return True"
   ]
  },
  {
   "cell_type": "code",
   "execution_count": 135,
   "id": "352bd6e4-e3d2-45ce-9f56-c5f77a8f0ca3",
   "metadata": {},
   "outputs": [
    {
     "data": {
      "text/plain": [
       "True"
      ]
     },
     "execution_count": 135,
     "metadata": {},
     "output_type": "execute_result"
    }
   ],
   "source": [
    "in_mandelbrot(0j)"
   ]
  },
  {
   "cell_type": "code",
   "execution_count": 136,
   "id": "c679f052-3104-4986-9a04-033e6b3590d3",
   "metadata": {},
   "outputs": [
    {
     "data": {
      "text/plain": [
       "True"
      ]
     },
     "execution_count": 136,
     "metadata": {},
     "output_type": "execute_result"
    }
   ],
   "source": [
    "in_mandelbrot(-1 + 0j)"
   ]
  },
  {
   "cell_type": "code",
   "execution_count": 137,
   "id": "c512c51f-58f1-4481-922d-e3d151021363",
   "metadata": {},
   "outputs": [
    {
     "data": {
      "text/plain": [
       "False"
      ]
     },
     "execution_count": 137,
     "metadata": {},
     "output_type": "execute_result"
    }
   ],
   "source": [
    "in_mandelbrot(2 + 0.1j)"
   ]
  },
  {
   "cell_type": "code",
   "execution_count": 138,
   "id": "fedec65b-b36b-49ee-bec7-a6afa5d64628",
   "metadata": {},
   "outputs": [
    {
     "data": {
      "text/plain": [
       "False"
      ]
     },
     "execution_count": 138,
     "metadata": {},
     "output_type": "execute_result"
    }
   ],
   "source": [
    "in_mandelbrot(1 + 1.2j)"
   ]
  },
  {
   "cell_type": "code",
   "execution_count": 161,
   "id": "f8591b16-d5d8-4f53-a4fd-a1ca3030d4a3",
   "metadata": {},
   "outputs": [
    {
     "data": {
      "text/plain": [
       "(48, 50)"
      ]
     },
     "execution_count": 161,
     "metadata": {},
     "output_type": "execute_result"
    }
   ],
   "source": [
    "c = candidate_values(-2, 0.5, -1.2, 1.2, pixel_density=20)\n",
    "\n",
    "mandelbrot_mask = np.vectorize(in_mandelbrot)(c, max_iterations=20)\n",
    "mandelbrot_mask.shape"
   ]
  },
  {
   "cell_type": "code",
   "execution_count": 164,
   "id": "c218c587-b20c-4875-bd47-9b7cdc7352c2",
   "metadata": {},
   "outputs": [
    {
     "data": {
      "image/png": "[encoded data removed]",
      "text/plain": [
       "<Figure size 640x480 with 1 Axes>"
      ]
     },
     "metadata": {},
     "output_type": "display_data"
    }
   ],
   "source": [
    "plt.imshow(mandelbrot_mask, cmap=\"binary\")\n",
    "plt.gca().set_aspect(\"equal\")\n",
    "plt.axis(\"off\")\n",
    "plt.tight_layout()\n",
    "plt.savefig(\"mandelbrot.png\", dpi=300)"
   ]
  },
  {
   "cell_type": "code",
   "execution_count": 165,
   "id": "837c2f4c-2025-4dfc-870f-3d3c1c9a9ce4",
   "metadata": {},
   "outputs": [
    {
     "data": {
      "text/plain": [
       "(1440, 1920, 4)"
      ]
     },
     "execution_count": 165,
     "metadata": {},
     "output_type": "execute_result"
    }
   ],
   "source": [
    "im = plt.imread(\"mandelbrot.png\")\n",
    "\n",
    "im.shape"
   ]
  },
  {
   "cell_type": "code",
   "execution_count": 224,
   "id": "83c774a6-a086-40e8-823e-3942c73af636",
   "metadata": {},
   "outputs": [
    {
     "data": {
      "image/png": "[encoded data removed]",
      "text/plain": [
       "<Figure size 640x480 with 1 Axes>"
      ]
     },
     "metadata": {},
     "output_type": "display_data"
    }
   ],
   "source": [
    "c = candidate_values(-2, 0.5, -1.2, 1.2, pixel_density=1024)\n",
    "\n",
    "mandelbrot_mask = np.vectorize(in_mandelbrot)(c, max_iterations=20)\n",
    "\n",
    "plt.imshow(mandelbrot_mask, cmap=\"binary\")\n",
    "plt.gca().set_aspect(\"equal\")\n",
    "# plt.axis(\"off\")\n",
    "plt.tight_layout()"
   ]
  },
  {
   "cell_type": "code",
   "execution_count": 180,
   "id": "33d02542-6726-41c9-bca3-cccfba397595",
   "metadata": {},
   "outputs": [],
   "source": [
    "from dataclasses import dataclass\n",
    "\n",
    "@dataclass\n",
    "class Mandelbrot:\n",
    "    max_iterations: int\n",
    "    \n",
    "    def is_stable(self, c: complex) -> bool:\n",
    "        z = 0\n",
    "    \n",
    "        for _ in range(self.max_iterations):\n",
    "            z = z ** 2 + c\n",
    "            if abs(z) > 2:\n",
    "                return False\n",
    "\n",
    "        return True"
   ]
  },
  {
   "cell_type": "code",
   "execution_count": 182,
   "id": "2ac95385-09f3-4bb1-83d8-73292549d9ff",
   "metadata": {},
   "outputs": [
    {
     "data": {
      "text/plain": [
       "True"
      ]
     },
     "execution_count": 182,
     "metadata": {},
     "output_type": "execute_result"
    }
   ],
   "source": [
    "mandelbrot = Mandelbrot(max_iterations=20)\n",
    "\n",
    "mandelbrot.is_stable(0.1)"
   ]
  },
  {
   "cell_type": "code",
   "execution_count": 192,
   "id": "aaeab7d9-06fd-48d0-a882-fcb3ed2be88f",
   "metadata": {},
   "outputs": [
    {
     "data": {
      "text/plain": [
       "False"
      ]
     },
     "execution_count": 192,
     "metadata": {},
     "output_type": "execute_result"
    }
   ],
   "source": [
    "mandelbrot.is_stable(1 + 4.4j)"
   ]
  },
  {
   "cell_type": "code",
   "execution_count": 197,
   "id": "0a0a18d9-c29d-43ea-8d0b-88089907e988",
   "metadata": {},
   "outputs": [],
   "source": [
    "@dataclass\n",
    "class Mandelbrot:\n",
    "    max_iterations: int\n",
    "    \n",
    "    def escape_count(self, c: complex) -> int:\n",
    "        z = 0\n",
    "        for i in range(self.max_iterations):\n",
    "            z = z ** 2 + c\n",
    "            if abs(z) > 2:\n",
    "                return i\n",
    "        return self.max_iterations\n",
    "\n",
    "    def stability(self, c: complex) -> float:\n",
    "        return self.escape_count(c) / self.max_iterations\n",
    "    \n",
    "    def is_stable(self, c: complex) -> bool:\n",
    "        return self.stability(c) == 1"
   ]
  },
  {
   "cell_type": "code",
   "execution_count": 200,
   "id": "0dd78e91-78cf-4f48-a5ba-132a93bc7a69",
   "metadata": {},
   "outputs": [
    {
     "data": {
      "text/plain": [
       "50"
      ]
     },
     "execution_count": 200,
     "metadata": {},
     "output_type": "execute_result"
    }
   ],
   "source": [
    "mandelbrot = Mandelbrot(max_iterations=50)\n",
    "\n",
    "mandelbrot.escape_count(-.1)"
   ]
  },
  {
   "cell_type": "code",
   "execution_count": 201,
   "id": "d5d60215-4b15-4e84-a9b3-367b62e795b0",
   "metadata": {},
   "outputs": [
    {
     "data": {
      "text/plain": [
       "1.0"
      ]
     },
     "execution_count": 201,
     "metadata": {},
     "output_type": "execute_result"
    }
   ],
   "source": [
    "mandelbrot.stability(-.1)"
   ]
  },
  {
   "cell_type": "code",
   "execution_count": 203,
   "id": "d986e401-e29a-49fa-911f-0ec8e8fef320",
   "metadata": {},
   "outputs": [
    {
     "data": {
      "text/plain": [
       "True"
      ]
     },
     "execution_count": 203,
     "metadata": {},
     "output_type": "execute_result"
    }
   ],
   "source": [
    "mandelbrot.is_stable(-.1)"
   ]
  },
  {
   "cell_type": "code",
   "execution_count": 205,
   "id": "d54f3241-f66e-48fe-a8e9-052845f32709",
   "metadata": {},
   "outputs": [
    {
     "data": {
      "text/plain": [
       "0.02"
      ]
     },
     "execution_count": 205,
     "metadata": {},
     "output_type": "execute_result"
    }
   ],
   "source": [
    "mandelbrot.stability(2)"
   ]
  },
  {
   "cell_type": "code",
   "execution_count": 214,
   "id": "9022ab51-4508-4817-8c45-e5383a49bbe7",
   "metadata": {},
   "outputs": [
    {
     "data": {
      "image/png": "[encoded data removed]",
      "text/plain": [
       "<Figure size 640x480 with 1 Axes>"
      ]
     },
     "metadata": {},
     "output_type": "display_data"
    }
   ],
   "source": [
    "c = candidate_values(-2, 0.5, -1.5, 1.5, pixel_density=2048)\n",
    "\n",
    "mandelbrot = Mandelbrot(max_iterations=30)\n",
    "image_mandelbrot = np.vectorize(mandelbrot.stability)(c)\n",
    "\n",
    "plt.imshow(image_mandelbrot, cmap=\"gray_r\")\n",
    "plt.gca().set_aspect(\"equal\")\n",
    "plt.axis(\"off\")\n",
    "plt.tight_layout()"
   ]
  }
 ],
 "metadata": {
  "kernelspec": {
   "display_name": "articles",
   "language": "python",
   "name": "articles"
  },
  "language_info": {
   "codemirror_mode": {
    "name": "ipython",
    "version": 3
   },
   "file_extension": ".py",
   "mimetype": "text/x-python",
   "name": "python",
   "nbconvert_exporter": "python",
   "pygments_lexer": "ipython3",
   "version": "3.9.13"
  }
 },
 "nbformat": 4,
 "nbformat_minor": 5
}
