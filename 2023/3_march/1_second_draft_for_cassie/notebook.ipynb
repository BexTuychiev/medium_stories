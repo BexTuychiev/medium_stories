{
 "cells": [
  {
   "cell_type": "markdown",
   "id": "433efcfb-731f-4025-a846-41549c97bff2",
   "metadata": {},
   "source": [
    "### The attitude of an ML algorithm\n",
    "- Main points discussed:\n",
    "    - ML is not about perfectionism, it is about trying and failing until you get it right (sample sentence, heavens open up and the solution stops being embarrassing)\n",
    "    - More information improves your \"guesses\" or the model's\n",
    "    - Make a plot to see the relationship between feature(s) and the target\n",
    "    - Regression is about putting lines through stuff\n",
    "    - Line is an intercept plus slope times the weight\n",
    "    - To find the best line, put it as close as possible to all the points simultaneously\n",
    "    - An error is the point minus the line\n",
    "    - The lower the error, the better\n",
    "    - RMSE for root mean squared error, the calories we are off on average\n",
    "    - Use the optimization algorithm to tinker around the values for the line automatically\n",
    "    - Optimization is at the heart of every machine learning algorithm"
   ]
  },
  {
   "cell_type": "markdown",
   "id": "941f2671-78e9-419f-a672-a581243fcfcd",
   "metadata": {},
   "source": [
    "- The spirit of the spoken piece:\n",
    "    - Make the guessing of the secret ingredient like an auction, 100 - going once, twice, 300, 500?\n",
    "    - Drum roll, the secret ingredient was sardines, 58 grams. I see you don't want to drink it. Make a different one.\n",
    "    - The reaction to reading the numbers, \"Your first reaction to this should be not trying to read it, but instead stamping your foot and saying I am human, I don't calculate things. That's what machines are for.\"\n",
    "    - Tough crowd - finding the perfect line\n",
    "    - Idea: How about this horizontal line. You are probably calling me stupid aren't you? That line is so off the mark. But that line is the guess we've made for the last smoothie. Did you think I was stupid then? So we have a revelation, bringing more inputs or (features as ml engineers say it in jargon), improves our guesses\n",
    "    - Calling out the offended. Mentioning they shouldn't be as people were happy with that same guess before\n",
    "    - RMSE is very creatively named, which is sarcasm for how the metric measures exactly what it says in the name.\n",
    "    - Joking that 85 RMSE is good enough for government work.\n",
    "    - Putting down calculus as old school and suggesting an alternative - optimization algorithm"
   ]
  },
  {
   "cell_type": "markdown",
   "id": "b8a6f4c0-03e9-4dcf-944b-a338b3949355",
   "metadata": {},
   "source": [
    "Cassie-like terms or phrases I can use:\n",
    "- Good manners dictate that I present these new weights in an eye-friendly visual like below\n",
    "- How about a flat line? You don't like that don't you? But you were fine with my guess of 238. That line is that guess! C'mon, that is not even trying.\n",
    "- Rotating the line in small increments is certifiably lame, there are much better alternatives\n"
   ]
  },
  {
   "cell_type": "markdown",
   "id": "a49dac2f-15a2-405c-a47b-e121b201cfe1",
   "metadata": {},
   "source": [
    "Continuation I can use, possibly a conclusion:\n",
    "- Once the line is in place, the job is finished. Pat yourself on the back for a job well done (even though people did this in the 1900s)\n",
    "-  The model is now just a fancy recipe. It is instructions for the computer to convert data into decision the next time we show it another smoothie.\n",
    "- How do we know the recipe even works? The same way we know if a bunch of monkeys write a novel with a typewriter\n",
    "- Test the recipe by running it on a bunch of new smoothies and make sure you won't be projectile-sick."
   ]
  },
  {
   "cell_type": "markdown",
   "id": "5d7d4f84-5563-4e5d-953f-9935cf233aaa",
   "metadata": {},
   "source": []
  }
 ],
 "metadata": {
  "kernelspec": {
   "display_name": "articles",
   "language": "python",
   "name": "articles"
  },
  "language_info": {
   "codemirror_mode": {
    "name": "ipython",
    "version": 3
   },
   "file_extension": ".py",
   "mimetype": "text/x-python",
   "name": "python",
   "nbconvert_exporter": "python",
   "pygments_lexer": "ipython3",
   "version": "3.9.13"
  }
 },
 "nbformat": 4,
 "nbformat_minor": 5
}
