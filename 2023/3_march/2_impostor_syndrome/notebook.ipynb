{
 "cells": [
  {
   "cell_type": "markdown",
   "id": "c5253545-d8f0-4a63-bb81-135d5851ee7c",
   "metadata": {},
   "source": [
    "# How to Crush the Impostor Syndrome as an (Aspiring) Data Scientist Forever\n",
    "## Lessons from a random guy who did at 18\n",
    "![](images/pixabay.jpg)\n",
    "\n",
    "<figcaption style=\"text-align: center;\">\n",
    "Photo by <a href=\"https://unsplash.com/@zacdurant?utm_source=unsplash&utm_medium=referral&utm_content=creditCopyText\">Zac Durant</a> on <a href=\"https://unsplash.com/photos/_6HzPU9Hyfg?utm_source=unsplash&utm_medium=referral&utm_content=creditCopyText\">Unsplash</a>    \n",
    "</figcaption>\n"
   ]
  },
  {
   "cell_type": "markdown",
   "id": "d2ef2457-2531-4a4d-a5ee-24efac2859e4",
   "metadata": {},
   "source": [
    "You are riding the train. The irritation you've felt when the loud clickety-clack of the rails bothered your scroll time on your phone is long forgotten. You are looking around and the faces of your fellow commuters blur past your eyes like the many thousand frames of a terrible 480p YouTube video. \n",
    "\n",
    "You don't even pause to consider the colorless, uninteresting, workaday lives of these people. They are unimportant. Just boring drops from an ocean of 8 billion. \n",
    "\n",
    "And guess what? \n",
    "\n",
    "They are doing the same. "
   ]
  },
  {
   "cell_type": "markdown",
   "id": "d4079c90-c9b0-41e0-8e52-19008faa93e2",
   "metadata": {},
   "source": [
    "### 8 billion specs of dust"
   ]
  },
  {
   "cell_type": "markdown",
   "id": "830bcba4-0388-426b-a019-23b3127328e8",
   "metadata": {},
   "source": [
    "Even if you are an incredibly selfish person, the number one concern for your brain is yourself. Awake, asleep, eating, running, helping the neighbor, or even when saving lives in a hospital, your brain is constantly working on thoughts of self on the back burner. You don't even realize it. \n",
    "\n",
    "Take it to the next level and you are under [the Spotlight Effect](https://en.wikipedia.org/wiki/Spotlight_effect), which is a psychological quirk of homo sapiens to believe that they are being noticed more than they actually are. Since you are the center of your own world, your brain thinks it is being orbited by 8 billion cosmic specs of dust, commonly passed off as \"other people\". \n",
    "\n",
    "You walk into a room or get on a public transport and suddenly, you are at the center of attention. You become painfully self-conscious about your misaligned tie, that incredibly long nose hair or the fact that a cuckoo clock is sticking out of your left ear when in fact, strangers couldn't care less about your appearance (or you as a human, actually) because their own brains are saying, \"Great, another human. What's new?\""
   ]
  },
  {
   "cell_type": "markdown",
   "id": "fa5e096d-9bf7-40db-9c12-573fc29c70a0",
   "metadata": {},
   "source": [
    "A related but a more severe psychological phenomenon is the Impostor Syndrome. It is a sneaky little monster that creeps up on you and attacks your self-esteem, making you feel like a blundering fraud even though you've got a track record of strengths and accomplishments to back up your awesomeness. \n",
    "\n",
    "You are constantly sitting on a needle worrying about people ripping the mask off your face and reveal you as the impostor you think you are. \n",
    "\n",
    "The phenomenon can affect even the best of the accomplished - there are accounts of people with PhDs from Ivy League schools experiencing it. "
   ]
  },
  {
   "cell_type": "markdown",
   "id": "316dbda4-faaa-47cd-ad59-0acb06f2d211",
   "metadata": {},
   "source": [
    "When you are a data science greenbean with only a few worthless Python certificates under your belt and companies are coming up with increasingly intimidating (but still certifiably dumb) AIs in the data sphere, the Impostor Syndrome becomes unavoidable."
   ]
  },
  {
   "cell_type": "markdown",
   "id": "3147a2b7-a85d-4a45-b2dc-7a8cbba668ae",
   "metadata": {
    "tags": []
   },
   "source": [
    "### Couldn't care less"
   ]
  },
  {
   "cell_type": "markdown",
   "id": "ad309a28-fc40-48d2-a576-9cd5f7b51ddc",
   "metadata": {},
   "source": [
    "After I learned Python as a fresh high school graduate for a few months, I wanted to monetize my skills. Of course, there was the tiny little problem of me finding someone that would pay for my laughably embarrassing Python skills (or lack thereof). \n",
    "\n",
    "And only two options came to me: getting paid 3$ an hour as a freelancer or writing on Medium about data science. Thankfully, I chose the latter.\n",
    "\n",
    "But, I was already reading many articles on Medium written by some very impressive people. Guys with PhDs and more experience than my entire existence were already there. Next to them, sitting in my cheap studio apartment, I felt like a toothless okie. \n",
    "\n",
    "But I said to myself, \"Who would even care about some random guy from Uzbekistan who doesn't even have a Bachelor's degree? (I thought they were a big deal at that time)\" If  I failed, invisible strangers (about whom I wouldn't give a darn) would laugh at me for literally three seconds and move on with their own life. The lousy article they just read would die out in the sea of other countless failures on the Internet.\n",
    "\n",
    "But, if I succeeded, I would be helping both my inexperienced self and a few others on the way. It was a win-win strategy. "
   ]
  },
  {
   "cell_type": "markdown",
   "id": "22372b8b-e6d6-4fe5-b9a9-c1ec15030bf9",
   "metadata": {},
   "source": [
    "So, I wrote a 3-minute baby article on Python type checking and submitted it to the Towards Data Science publication with tremendous (but actually, very little) hope. To my delight, they kindly accepted and the rest as they, is ...well, not history but two very best years of my life and continuing."
   ]
  },
  {
   "cell_type": "markdown",
   "id": "d1ac4919-99d6-4e25-a1db-e24f5ea7c4ab",
   "metadata": {},
   "source": [
    "My life transformation solely depended on me accepting the fact that strangers don't care about me as a person but only about what I can do for them.\n",
    "\n",
    "> Strangers don't care about you. They only care about what you can do for them."
   ]
  },
  {
   "cell_type": "markdown",
   "id": "e9310370-9bd3-4ec8-85de-d203a0c691a1",
   "metadata": {},
   "source": [
    "### Be free already!"
   ]
  },
  {
   "cell_type": "markdown",
   "id": "1f894314-5e1d-4b1f-a31a-f81272251609",
   "metadata": {},
   "source": [
    "Stopping to care about what strangers would think of me if I failed at something or did something stupid was such a freeing experience. It was suddenly like two mountains lifted off of my shoulders: the spotlight effect and the impostor syndrome.\n",
    " \n",
    "Got coffee spilled down my white shirt? - Doesn't matter, I am seen for a second then I am gone. \n",
    "\n",
    "Gotta carry a giant pink teddy bear as a birthday present? - Done. At least I am doing something good. Oh, they are FILMING? Don't care - the Internet is full of idiots like that. I will be a browser history in 10 seconds. \n",
    "\n",
    "Gotta write an article on a Python framework I've never even heard of for a serious client? Say, \"Hell, yes!\" and figure out later. \n",
    "\n",
    "Give a speech on building a professional portfolio for an AI conference even though I have no professional experience? - I am your guy, what took you so long?\n",
    "\n",
    "(Some of these actually happened! Guess which.)\n",
    "\n",
    "Embracing this mindset will open up a world of possibilities. You will find it much easier to take risks, try new things, fail spectacularly all without that crippling fear or judgment of others.\n",
    "\n",
    "Of course, it takes time to develop a thick skin and adjust. But through time, you will be able to fully lift the self-imposed limitations and live you life on your terms.\n",
    "\n",
    "Whenever you find yourself holding back from pursuing your dreams and passions out of fear and judgment of others, try to remind yourself that others are too busy worrying about their own problems to give much thought to you. Besides, their opinions will never define your skills and self-worth.\n",
    "\n",
    "Go crush it!"
   ]
  }
 ],
 "metadata": {
  "kernelspec": {
   "display_name": "articles",
   "language": "python",
   "name": "articles"
  },
  "language_info": {
   "codemirror_mode": {
    "name": "ipython",
    "version": 3
   },
   "file_extension": ".py",
   "mimetype": "text/x-python",
   "name": "python",
   "nbconvert_exporter": "python",
   "pygments_lexer": "ipython3",
   "version": "3.9.13"
  }
 },
 "nbformat": 4,
 "nbformat_minor": 5
}
