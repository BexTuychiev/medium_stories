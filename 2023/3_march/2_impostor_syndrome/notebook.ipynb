{
 "cells": [
  {
   "cell_type": "markdown",
   "id": "c5253545-d8f0-4a63-bb81-135d5851ee7c",
   "metadata": {},
   "source": [
    "# How to Crush the Impostor Syndrome as an (Aspiring) Data Scientist Forever\n",
    "## Lessons from a random guy who did at 18\n",
    "![](images/pixabay.jpg)\n",
    "\n",
    "<figcaption style=\"text-align: center;\">\n",
    "Photo by <a href=\"https://unsplash.com/@zacdurant?utm_source=unsplash&utm_medium=referral&utm_content=creditCopyText\">Zac Durant</a> on <a href=\"https://unsplash.com/photos/_6HzPU9Hyfg?utm_source=unsplash&utm_medium=referral&utm_content=creditCopyText\">Unsplash</a>    \n",
    "</figcaption>\n"
   ]
  },
  {
   "cell_type": "markdown",
   "id": "d2ef2457-2531-4a4d-a5ee-24efac2859e4",
   "metadata": {},
   "source": [
    "Dear, Grandpa \n",
    "\n",
    "You are riding the train. The irritation you've felt when the loud clickety-clack of the rails bothered your scroll time on your phone is long forgotten. You are looking around and the faces of your fellow commuters blur past your eyes like the many thousand frames of a terrible 480p YouTube video. \n",
    "\n",
    "You don't even pause to consider the colorless, uninteresting, workaday lives of these people. They are unimportant. Just boring drops from an ocean of 8 billion. \n",
    "\n",
    "And guess what? \n",
    "\n",
    "They are doing the same. "
   ]
  },
  {
   "cell_type": "markdown",
   "id": "d4079c90-c9b0-41e0-8e52-19008faa93e2",
   "metadata": {},
   "source": [
    "### 8 billion specs of dust"
   ]
  },
  {
   "cell_type": "markdown",
   "id": "830bcba4-0388-426b-a019-23b3127328e8",
   "metadata": {},
   "source": [
    "Even if you are an incredibly selfish person, the number one concern for your brain is yourself. Awake, asleep, eating, running, helping the neighbor, or even when saving lives in a hospital, your brain is constantly working on thoughts of self on the back burner. You don't even realize it. \n",
    "\n",
    "Take it to the next level and you are under [the Spotlight Effect](https://en.wikipedia.org/wiki/Spotlight_effect), which is a psychological quirk of homo sapiens to believe that they are being noticed more than they actually are. Since you are the center of your own world, your brain thinks it is being orbited by 8 billion cosmic specs of dust, commonly passed off as \"other people\". \n",
    "\n",
    "You walk into a room or get on a public transport and suddenly, you are at the center of attention. You become painfully self-conscious about your misaligned tie, that incredibly long nose hair or the fact that a cuckoo clock is sticking out of your left ear when in fact, strangers couldn't care less about your appearance (or you, as a human actually) because their own brains are saying, \"Great, another human. What's new?\""
   ]
  },
  {
   "cell_type": "markdown",
   "id": "fa5e096d-9bf7-40db-9c12-573fc29c70a0",
   "metadata": {},
   "source": [
    "A related but a more severe psychological phenomenon is the Impostor Syndrome. It is a sneaky little monster that creeps up on you and attacks your self-esteem, making you feel like a blundering fraud even though you've got a track record of strengths and accomplishments to back up your awesomeness. \n",
    "\n",
    "You are constantly sitting on a needle worrying about people ripping the mask off your face and reveal you as the impostor you think you are. \n",
    "\n",
    "The impostor syndrome can affect even the best of the accomplished - there are even accounts of people with PhDs from Ivy League schools experiencing it. "
   ]
  },
  {
   "cell_type": "markdown",
   "id": "316dbda4-faaa-47cd-ad59-0acb06f2d211",
   "metadata": {},
   "source": [
    "And when you are data science greenbean with only a few worthless Python certificates under your belt and while companies are coming up with increasingly intimidating (but still certifiably dumb) AIs in the data sphere, the Impostor Syndrome becomes unavoidable."
   ]
  }
 ],
 "metadata": {
  "kernelspec": {
   "display_name": "articles",
   "language": "python",
   "name": "articles"
  },
  "language_info": {
   "codemirror_mode": {
    "name": "ipython",
    "version": 3
   },
   "file_extension": ".py",
   "mimetype": "text/x-python",
   "name": "python",
   "nbconvert_exporter": "python",
   "pygments_lexer": "ipython3",
   "version": "3.9.13"
  }
 },
 "nbformat": 4,
 "nbformat_minor": 5
}
