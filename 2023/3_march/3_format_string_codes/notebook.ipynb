{
 "cells": [
  {
   "cell_type": "markdown",
   "id": "f31508c0-854e-4960-bb82-efbd219c4978",
   "metadata": {},
   "source": [
    "# Have Mercy on Yourself And Learn These 10 Everyday Python f-string Codes\n",
    "![](images/pexels.jpg)\n",
    "<figcaption style=\"text-align: center;\">Photo by \n",
    "<a href=\"https://www.pexels.com/photo/close-up-photography-of-blue-rope-47983/\">drmakete lab</a>\n",
    "</figcaption>\n"
   ]
  },
  {
   "cell_type": "markdown",
   "id": "ed564561-c1eb-4885-a8e4-c31b922b0759",
   "metadata": {},
   "source": [
    "The 'eff' in f-strings may as well stand for ...(not that! What a twisted mind you have) for 'freaking awesome'!\n",
    "\n",
    "If you clicked on this article, you've probably already used f-strings in Python. You know that you can throw almost any expression between braces to sprinkle dynamic values into strings.\n",
    "\n",
    "But, from time to time, you see a guy using something like `print(f\"{f'${number:.3f}':>10s}\")` (probably to show off) and you undoubtedly say what the f...-string is that?!\n",
    "\n",
    "By the end of this post, you will find the answer to that question and acquire the skills to write even more messed up but very useful f-string codes that take your string manipulation skills to a whole new level (and make others wonder if _you_ are just showing off, too)."
   ]
  },
  {
   "cell_type": "markdown",
   "id": "c40b5e9a-d439-4e10-8ce6-3b05c58d51fe",
   "metadata": {},
   "source": [
    "### Basics of format codes"
   ]
  },
  {
   "cell_type": "markdown",
   "id": "ec1b941f-634f-4621-849e-2b86364f2192",
   "metadata": {},
   "source": [
    "Format codes in f-strings start with an expression inside braces:"
   ]
  },
  {
   "cell_type": "code",
   "execution_count": 207,
   "id": "680e06cd-8055-46da-8a51-a49ebb7d65b6",
   "metadata": {},
   "outputs": [
    {
     "name": "stdout",
     "output_type": "stream",
     "text": [
      "Today is 2023-03-13\n",
      "This is result from a lambda: 9\n"
     ]
    }
   ],
   "source": [
    "from datetime import date\n",
    "\n",
    "print(f\"Today is {date.today()}\")\n",
    "print(f\"This is result from a lambda: {(lambda x: x ** 2)(3)}\")"
   ]
  },
  {
   "cell_type": "markdown",
   "id": "589731e2-ece1-4ee0-bb90-1daa2deb4661",
   "metadata": {},
   "source": [
    "There are so darn many ways you can embed dynamic values into strings but not all of them want to go in in their vanilla form. Some may require special formatting, preprocessing (a make-up, if you will) to look nice when they are printed. \n",
    "\n",
    "Instead of giving the make-up with crude Python functions outside the f-string, you can use certain crap....."
   ]
  },
  {
   "cell_type": "markdown",
   "id": "b57026ba-3b83-4cf7-a794-5dd30c494760",
   "metadata": {},
   "source": [
    "### Format codes for numbers"
   ]
  },
  {
   "cell_type": "markdown",
   "id": "df15becf-14ee-4bb6-9000-56ae41b5060d",
   "metadata": {},
   "source": [
    "__0. Float precision - `{:.nf}`__"
   ]
  },
  {
   "cell_type": "markdown",
   "id": "fa077b63-9da9-43b2-a537-c9fc3d4580de",
   "metadata": {},
   "source": [
    "Let's start with the most used one - float precision. From now one, don't let anyone catch you using the `round` function to round them long floats. Use the `.nf` code replacing the `n` with the precision you want:"
   ]
  },
  {
   "cell_type": "code",
   "execution_count": 208,
   "id": "ed4dc54f-11f7-4295-a55e-0d58152f0ac5",
   "metadata": {},
   "outputs": [
    {
     "name": "stdout",
     "output_type": "stream",
     "text": [
      "The value of pi is approximately 3.1416\n"
     ]
    }
   ],
   "source": [
    "cheese_puffs = 3.14159265359\n",
    "\n",
    "print(f\"The value of pi is approximately {cheese_puffs:.4f}\")"
   ]
  },
  {
   "cell_type": "markdown",
   "id": "ccd8de34-9172-4161-9e3f-946475484b9c",
   "metadata": {},
   "source": [
    "__1. Left/right/center align - `{:(<>^)n}`__"
   ]
  },
  {
   "cell_type": "markdown",
   "id": "4860fc61-78cb-4393-9f56-67e49ec6472a",
   "metadata": {},
   "source": [
    "Many libraries or functions use special formatting to make walls of text easier on the eye. This requires careful control on the length of each line of text but it can get tricky when dynamic values in f-strings get involved. \n",
    "\n",
    "Fortunately, you can use any one of these three characters to align any text inside the leftover space of the maximum string length:"
   ]
  },
  {
   "cell_type": "code",
   "execution_count": 94,
   "id": "c1a81ad9-e671-42f4-a2d4-fbd25189f1f9",
   "metadata": {},
   "outputs": [
    {
     "name": "stdout",
     "output_type": "stream",
     "text": [
      "The answer is 42        !\n"
     ]
    }
   ],
   "source": [
    "banana = 42\n",
    "\n",
    "print(f\"The answer is {banana:<10}!\")"
   ]
  },
  {
   "cell_type": "markdown",
   "id": "c365be0b-2e30-48ee-85f3-b7cb2212468b",
   "metadata": {},
   "source": [
    "For example, `:<10` assigns the space between braces a length of 10 characters and after left-aligning `banana`'s value, fills the rest of the length with space. \n",
    "\n",
    "You can use > and ^ to right and center-align numbers respectively (works on strings as well):"
   ]
  },
  {
   "cell_type": "code",
   "execution_count": 96,
   "id": "baf42901-d24b-4aa9-a983-01e85548d782",
   "metadata": {},
   "outputs": [
    {
     "name": "stdout",
     "output_type": "stream",
     "text": [
      "The answer is         42!\n"
     ]
    }
   ],
   "source": [
    "hammock = 42\n",
    "\n",
    "print(f\"The answer is {hammock:>10}!\")"
   ]
  },
  {
   "cell_type": "code",
   "execution_count": 97,
   "id": "fad64edc-ce1b-4642-a22e-3c88a90e3c11",
   "metadata": {},
   "outputs": [
    {
     "name": "stdout",
     "output_type": "stream",
     "text": [
      "The answer is     42    !\n"
     ]
    }
   ],
   "source": [
    "bubble_wrap = 42\n",
    "\n",
    "print(f\"The answer is {bubble_wrap:^10}!\")"
   ]
  },
  {
   "cell_type": "markdown",
   "id": "f17281f0-93d1-4291-a939-0d47a4084f70",
   "metadata": {},
   "source": [
    "To fill the leftover space with another character like an underscore, put it before the alignment symbol:"
   ]
  },
  {
   "cell_type": "code",
   "execution_count": 211,
   "id": "41366f79-8330-4bc0-8477-67c8cc3ee228",
   "metadata": {},
   "outputs": [
    {
     "name": "stdout",
     "output_type": "stream",
     "text": [
      "The answer is ____42____!\n"
     ]
    }
   ],
   "source": [
    "bubble_wrap = 42\n",
    "\n",
    "print(f\"The answer is {bubble_wrap:_^10}!\")"
   ]
  },
  {
   "cell_type": "markdown",
   "id": "fc277276-46ec-487d-aed7-e151a018db77",
   "metadata": {},
   "source": [
    "__2. Sign indicator: `{:+}`__"
   ]
  },
  {
   "cell_type": "markdown",
   "id": "e62aaf0b-a969-44d5-a607-83aa56b27ab9",
   "metadata": {},
   "source": [
    "There are many cases where you work with values that have different meanings based on their sign like financial data or temperature readings. In these situations, you can use the `{:+}` format code to display the sign of the number regardless of its value:"
   ]
  },
  {
   "cell_type": "code",
   "execution_count": 212,
   "id": "e32d004a-8bc3-4034-9270-47f5d37851a9",
   "metadata": {},
   "outputs": [
    {
     "name": "stdout",
     "output_type": "stream",
     "text": [
      "Positive number: +10, Negative number: -12\n"
     ]
    }
   ],
   "source": [
    "disco = 10\n",
    "fever = -12\n",
    "\n",
    "print(f\"Positive number: {disco:+}, Negative number: {fever:+}\")"
   ]
  },
  {
   "cell_type": "markdown",
   "id": "e787f440-d759-4264-a070-e2589d08ddab",
   "metadata": {},
   "source": [
    "__3. Thousands separator: `{:,}`__"
   ]
  },
  {
   "cell_type": "markdown",
   "id": "7b6b98c4-3609-4817-9108-4326f5f9851a",
   "metadata": {},
   "source": [
    "A person can count up to a million out loud but they will have trouble counting the six 0s in a million without a thousands separator. When you are dealing with large numbers, always put a comma every third digit for everybody's sake using the `{: ,}` format code."
   ]
  },
  {
   "cell_type": "code",
   "execution_count": 100,
   "id": "e4104412-443c-44e1-9607-da702d0ce491",
   "metadata": {},
   "outputs": [
    {
     "name": "stdout",
     "output_type": "stream",
     "text": [
      "A million: 1,000,000\n",
      "A trillion: 1,000,000,000,000\n"
     ]
    }
   ],
   "source": [
    "fuzzy_logic = 1000000\n",
    "\n",
    "print(f\"A million: {fuzzy_logic:,}\")\n",
    "print(f\"A trillion: {fuzzy_logic ** 2:,}\")"
   ]
  },
  {
   "cell_type": "markdown",
   "id": "396eea53-8064-4458-aae9-774546de1f16",
   "metadata": {},
   "source": [
    "__4. Percentage formatting: `{:.n%}`__"
   ]
  },
  {
   "cell_type": "markdown",
   "id": "c282c7c1-ee2d-4187-890f-b090cdc00572",
   "metadata": {},
   "source": [
    "I prefer decimals to represent a proportion. But for some strange reason, I heard that there are some people who likes to put this weird sign, %, and multiply the proportion by 100. \n",
    "\n",
    "To save them the trouble of multiplying, I suggest them using the `.n%` format specifier:"
   ]
  },
  {
   "cell_type": "code",
   "execution_count": 215,
   "id": "02fc0741-6cec-4dd8-908f-6db4ffbc6c78",
   "metadata": {},
   "outputs": [
    {
     "name": "stdout",
     "output_type": "stream",
     "text": [
      "42% of something: 42%\n",
      "Percentage of something: 42.4%\n",
      "Percentage of another thing: 42.45%\n"
     ]
    }
   ],
   "source": [
    "jumbo_shrimp = 0.4245\n",
    "\n",
    "print(f\"42% of something: {jumbo_shrimp:.0%}\")\n",
    "print(f\"Percentage of something: {jumbo_shrimp:.1%}\")\n",
    "print(f\"Percentage of another thing: {jumbo_shrimp:.2%}\")"
   ]
  },
  {
   "cell_type": "markdown",
   "id": "1c5301d4-a659-4869-a6e5-a0803dc76736",
   "metadata": {},
   "source": [
    "__5. Scientific notation: `{:.ne}`__"
   ]
  },
  {
   "cell_type": "markdown",
   "id": "df03ee60-72e8-4ec1-bad3-5704ea6b1c7e",
   "metadata": {},
   "source": [
    "Now, this one always confuses me. \n",
    "\n",
    "Why truncate beautifully large and small numbers with all their 100-digit glory with scientific notation? They should be left as-is and should be read the way they were intended: from the beginning to the end, horizontally scrolling the mouse, forgetting which digit you are at and starting from the beginning a dozen times.\n",
    "\n",
    "But engineers, physicist and chemists don't do that, which is probably why the `{:.ne}` format code exists in Python."
   ]
  },
  {
   "cell_type": "code",
   "execution_count": 102,
   "id": "15becb64-6807-4c5e-b2ca-bae6f93e4945",
   "metadata": {},
   "outputs": [
    {
     "name": "stdout",
     "output_type": "stream",
     "text": [
      "Scientific notation: 1.2e+08\n",
      "Scientific notation: 1.23e+08\n"
     ]
    }
   ],
   "source": [
    "ninja_turtles = 123456789\n",
    "\n",
    "print(f\"Scientific notation: {ninja_turtles:.1e}\")\n",
    "print(f\"Scientific notation: {ninja_turtles:.2e}\")"
   ]
  },
  {
   "cell_type": "markdown",
   "id": "9345fbcf-7f20-4622-b6a6-aaea14ca938e",
   "metadata": {},
   "source": [
    "__6. Printing the value of a variable: `{=}`__"
   ]
  },
  {
   "cell_type": "markdown",
   "id": "52389123-0870-491c-9546-a43e1adc2063",
   "metadata": {},
   "source": [
    "Sometimes, I want to print both the variable name and its value. Instead of doing it the classic way like my ancestors with `f\"variable = {variable}\"`, I choose the shorter version with `{variable=}`:"
   ]
  },
  {
   "cell_type": "code",
   "execution_count": 107,
   "id": "e77b0a3e-f992-472c-9f04-ca3cd5a4cb52",
   "metadata": {},
   "outputs": [
    {
     "name": "stdout",
     "output_type": "stream",
     "text": [
      "sassy=1\n",
      "pants = 0\n"
     ]
    }
   ],
   "source": [
    "sassy = 1\n",
    "pants = 0\n",
    "\n",
    "print(f\"{sassy=}\")\n",
    "print(f\"{pants = }\")"
   ]
  },
  {
   "cell_type": "markdown",
   "id": "e95635f5-f2ef-4745-b27f-025c8cfed401",
   "metadata": {},
   "source": [
    "I am weird like that."
   ]
  },
  {
   "cell_type": "markdown",
   "id": "89b0015e-5bc0-4fd0-a957-6f4a6280fcad",
   "metadata": {},
   "source": [
    "__7. Pad zeros for integers : `{:nd}`__"
   ]
  },
  {
   "cell_type": "code",
   "execution_count": 190,
   "id": "a1f6deb2-200d-4ae4-bc7e-4ea1e840d3bb",
   "metadata": {},
   "outputs": [
    {
     "name": "stdout",
     "output_type": "stream",
     "text": [
      "42\n",
      "42\n",
      "042\n",
      "0042\n"
     ]
    }
   ],
   "source": [
    "kangaroo_pouch = 42\n",
    "\n",
    "print(f\"{kangaroo_pouch:01d}\")\n",
    "print(f\"{kangaroo_pouch:02d}\") # Reached the string length of two\n",
    "print(f\"{kangaroo_pouch:03d}\") # Now the 0s will show\n",
    "print(f\"{kangaroo_pouch:04d}\")"
   ]
  },
  {
   "cell_type": "markdown",
   "id": "51e49033-885b-460f-9ebf-849737c65ccb",
   "metadata": {},
   "source": [
    "__8. Mixing__"
   ]
  },
  {
   "cell_type": "code",
   "execution_count": 143,
   "id": "b47994cf-a5cb-406c-901a-7252d1bef6a4",
   "metadata": {},
   "outputs": [
    {
     "name": "stdout",
     "output_type": "stream",
     "text": [
      "taco_tuesday = +1,240,000.123\n"
     ]
    }
   ],
   "source": [
    "taco_tuesday = 1240000.1235\n",
    "\n",
    "print(f\"{taco_tuesday = :+,.3f}\")"
   ]
  },
  {
   "cell_type": "code",
   "execution_count": 167,
   "id": "d51b922b-c9c5-4f9e-ab73-fc18a3484e39",
   "metadata": {},
   "outputs": [
    {
     "name": "stdout",
     "output_type": "stream",
     "text": [
      "taco_tuesday = +1,240,000.123500             !\n"
     ]
    }
   ],
   "source": [
    "print(f\"{taco_tuesday = : <+30,.6f}!\")"
   ]
  },
  {
   "cell_type": "markdown",
   "id": "c423dcad-a25f-41b4-9314-33c79392acb0",
   "metadata": {},
   "source": [
    "### Format codes for other data types"
   ]
  },
  {
   "cell_type": "markdown",
   "id": "7b0ce4c3-7e81-4928-81ed-3404a27f6df1",
   "metadata": {},
   "source": [
    "__9. String representation of objects: `{!r}`__"
   ]
  },
  {
   "cell_type": "code",
   "execution_count": 198,
   "id": "61fd062d-f567-4842-bf80-da57d760a955",
   "metadata": {},
   "outputs": [],
   "source": [
    "from sklearn.ensemble import RandomForestClassifier\n",
    "\n",
    "rf = RandomForestClassifier(n_estimators=123)\n",
    "numbers = range(100000)"
   ]
  },
  {
   "cell_type": "code",
   "execution_count": 194,
   "id": "e639629c-7b22-4af3-9982-fdfe49631a7d",
   "metadata": {},
   "outputs": [
    {
     "data": {
      "text/plain": [
       "'RandomForestClassifier(n_estimators=123)'"
      ]
     },
     "execution_count": 194,
     "metadata": {},
     "output_type": "execute_result"
    }
   ],
   "source": [
    "rf.__repr__()"
   ]
  },
  {
   "cell_type": "code",
   "execution_count": 196,
   "id": "1374652b-fb7c-4f41-9789-6ebea5fc12c5",
   "metadata": {},
   "outputs": [
    {
     "name": "stdout",
     "output_type": "stream",
     "text": [
      "And our classifier is: RandomForestClassifier(n_estimators=123)!\n",
      "And the range is: range(0, 100000)!\n"
     ]
    }
   ],
   "source": [
    "print(f\"And our classifier is: {rf!r}!\")\n",
    "print(f\"And the range is: {numbers!r}!\")"
   ]
  },
  {
   "cell_type": "markdown",
   "id": "c63787ec-dd63-4553-b2c4-7f7401cce451",
   "metadata": {},
   "source": [
    "__10. Pretty printing dates__"
   ]
  },
  {
   "cell_type": "code",
   "execution_count": 205,
   "id": "e772f35f-3ff3-47e9-be1a-ccd71797057e",
   "metadata": {},
   "outputs": [
    {
     "name": "stdout",
     "output_type": "stream",
     "text": [
      "Today is Monday, March 13, 2023. The time is 09:17 AM.\n"
     ]
    }
   ],
   "source": [
    "import datetime\n",
    "\n",
    "now = datetime.datetime.now()\n",
    "\n",
    "print(f\"Today is {now:%A, %B %d, %Y}. The time is {now:%I:%M %p}.\")"
   ]
  },
  {
   "cell_type": "markdown",
   "id": "b472f06f-dbbb-47dd-a91f-bd7cae5996af",
   "metadata": {},
   "source": [
    "0. `%Y` - 4 digit year\n",
    "1. `%y` - 2 digit year\n",
    "2. `%m` - 2 digit month (01-12)\n",
    "3. `%b` - Month abbreviation (Jan-Dec)\n",
    "4. `%B` - Full month name (January-December)\n",
    "5. `%d` - Day of the month (01-31)\n",
    "6. `%a` - Weekday abbreviation (Mon-Sun)\n",
    "7. `%A` - Full weekday name (Monday-Sunday)\n",
    "8. `%w` - Weekday as a decimal number (0-6, where 0 is Sunday)\n",
    "9. `%H` - Hour in 24-hour format (00-23)\n",
    "10. `%I` - Hour in 12-hour format (01-12)\n",
    "11. `%p` - AM/PM designation\n",
    "12. `%M` - Minute (00-59)\n",
    "13. `%S` - Second (00-59)\n",
    "14. `%f` - Microsecond (000000-999999)"
   ]
  }
 ],
 "metadata": {
  "kernelspec": {
   "display_name": "articles",
   "language": "python",
   "name": "articles"
  },
  "language_info": {
   "codemirror_mode": {
    "name": "ipython",
    "version": 3
   },
   "file_extension": ".py",
   "mimetype": "text/x-python",
   "name": "python",
   "nbconvert_exporter": "python",
   "pygments_lexer": "ipython3",
   "version": "3.9.13"
  }
 },
 "nbformat": 4,
 "nbformat_minor": 5
}
