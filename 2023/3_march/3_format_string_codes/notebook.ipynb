{
 "cells": [
  {
   "cell_type": "markdown",
   "id": "f31508c0-854e-4960-bb82-efbd219c4978",
   "metadata": {},
   "source": [
    "# Have Mercy on Yourself And Learn These 20 Python f-string Codes"
   ]
  },
  {
   "cell_type": "markdown",
   "id": "cfd35543-585a-4fc5-88c2-6f1a6b11129b",
   "metadata": {},
   "source": [
    "Methods and expressions are things you can stumble upon yourself. The codes are the ones you can't find if you guessed for a million years."
   ]
  }
 ],
 "metadata": {
  "kernelspec": {
   "display_name": "articles",
   "language": "python",
   "name": "articles"
  },
  "language_info": {
   "codemirror_mode": {
    "name": "ipython",
    "version": 3
   },
   "file_extension": ".py",
   "mimetype": "text/x-python",
   "name": "python",
   "nbconvert_exporter": "python",
   "pygments_lexer": "ipython3",
   "version": "3.9.13"
  }
 },
 "nbformat": 4,
 "nbformat_minor": 5
}
