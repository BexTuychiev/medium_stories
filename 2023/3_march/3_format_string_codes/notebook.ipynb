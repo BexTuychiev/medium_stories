{
 "cells": [
  {
   "cell_type": "markdown",
   "id": "f31508c0-854e-4960-bb82-efbd219c4978",
   "metadata": {},
   "source": [
    "# Have Mercy on Yourself And Learn These 20 Python f-string Codes\n",
    "![](images/pexels.jpg)\n",
    "<figcaption style=\"text-align: center;\">Photo by \n",
    "<a href=\"https://www.pexels.com/photo/close-up-photography-of-blue-rope-47983/\">drmakete lab</a>\n",
    "</figcaption>\n"
   ]
  },
  {
   "cell_type": "markdown",
   "id": "31572aa1-a334-477a-aac9-ecc1e6e607c2",
   "metadata": {},
   "source": [
    "### Introduction"
   ]
  },
  {
   "cell_type": "markdown",
   "id": "ed564561-c1eb-4885-a8e4-c31b922b0759",
   "metadata": {},
   "source": [
    "The 'eff' in f-strings may as well stand for ...(not that! What a twisted mind you have) for 'freaking awesome'!\n",
    "\n",
    "If you clicked on this article, you've probably already used f-strings in Python. You know that you can throw almost any expression between braces to sprinkle dynamic values into strings.\n",
    "\n",
    "But, from time to time, you see a guy using something like `print(f\"{f'${number:.3f}':>10s}\")` (probably to show off) and you undoubtedly say what the f...-string is that?!\n",
    "\n",
    "By the end of this post, you will find the answer to that question and acquire the skills to write even more messed up but very useful f-string codes that make others wonder if you are just showing off. "
   ]
  }
 ],
 "metadata": {
  "kernelspec": {
   "display_name": "articles",
   "language": "python",
   "name": "articles"
  },
  "language_info": {
   "codemirror_mode": {
    "name": "ipython",
    "version": 3
   },
   "file_extension": ".py",
   "mimetype": "text/x-python",
   "name": "python",
   "nbconvert_exporter": "python",
   "pygments_lexer": "ipython3",
   "version": "3.9.13"
  }
 },
 "nbformat": 4,
 "nbformat_minor": 5
}
