{
 "cells": [
  {
   "cell_type": "markdown",
   "id": "bfbfcf75-0354-4b76-8a76-0c81d154c6e3",
   "metadata": {},
   "source": [
    "# Python Plotly Express Tutorial"
   ]
  },
  {
   "cell_type": "markdown",
   "id": "8d2d6e58-1d26-4ecb-bce2-733af996a01c",
   "metadata": {},
   "source": [
    "## Introduction to Plotly"
   ]
  },
  {
   "cell_type": "markdown",
   "id": "6ab80329-b508-4568-af1b-6a5cde20d1b2",
   "metadata": {},
   "source": [
    "## Basics of Plotly Express"
   ]
  },
  {
   "cell_type": "markdown",
   "id": "b7b1d39d-42f2-4c61-b634-73df45997e94",
   "metadata": {},
   "source": [
    "## Analyzing distributions in Express"
   ]
  },
  {
   "cell_type": "markdown",
   "id": "df6ba8a0-0411-4b87-b739-b386e9cb5dff",
   "metadata": {},
   "source": [
    "### Histograms in Plotly Express"
   ]
  },
  {
   "cell_type": "markdown",
   "id": "a0d5d5cd-e40e-4581-8f7a-a724ee190ce3",
   "metadata": {},
   "source": [
    "### Bar charts"
   ]
  },
  {
   "cell_type": "markdown",
   "id": "deb2a7df-d8e5-46f5-a6eb-3723d4f56894",
   "metadata": {},
   "source": [
    "### Box plots"
   ]
  },
  {
   "cell_type": "markdown",
   "id": "deb0e07a-0d82-48ed-a36a-eb1c82958130",
   "metadata": {},
   "source": [
    "## Visualizing relationships between features"
   ]
  },
  {
   "cell_type": "markdown",
   "id": "20d438e0-c5b6-42a1-8188-2b4683498b1f",
   "metadata": {},
   "source": [
    "### Scatterplots in Plotly Express"
   ]
  },
  {
   "cell_type": "markdown",
   "id": "ea461251-69fd-4aa9-b8c8-4691feb9c257",
   "metadata": {},
   "source": [
    "### Heatmaps"
   ]
  },
  {
   "cell_type": "markdown",
   "id": "831efbb7-76d6-4aa3-89d0-8f241c18cf25",
   "metadata": {},
   "source": [
    "### Bubble charts"
   ]
  },
  {
   "cell_type": "markdown",
   "id": "982b7b38-182d-43f4-a888-368665a56a08",
   "metadata": {},
   "source": [
    "## Customizing plots in Plotly Express"
   ]
  },
  {
   "cell_type": "markdown",
   "id": "d366334e-c7bf-4b7d-8e8f-3682d81f265d",
   "metadata": {},
   "source": [
    "### Colors"
   ]
  },
  {
   "cell_type": "markdown",
   "id": "00ae18d3-3160-42d3-9581-2dcb37a2bc46",
   "metadata": {},
   "source": [
    "### Markers"
   ]
  },
  {
   "cell_type": "markdown",
   "id": "a863cd04-f158-4336-ae52-386822d0fc63",
   "metadata": {},
   "source": [
    "## Conclusion"
   ]
  }
 ],
 "metadata": {
  "kernelspec": {
   "display_name": "articles",
   "language": "python",
   "name": "articles"
  },
  "language_info": {
   "codemirror_mode": {
    "name": "ipython",
    "version": 3
   },
   "file_extension": ".py",
   "mimetype": "text/x-python",
   "name": "python",
   "nbconvert_exporter": "python",
   "pygments_lexer": "ipython3",
   "version": "3.9.13"
  }
 },
 "nbformat": 4,
 "nbformat_minor": 5
}
