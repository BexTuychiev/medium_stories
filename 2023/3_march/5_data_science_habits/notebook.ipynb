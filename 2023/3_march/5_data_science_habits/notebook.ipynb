{
 "cells": [
  {
   "cell_type": "markdown",
   "id": "8cdfbd47-47cd-4e3d-b3f0-9ea5d56bf0cd",
   "metadata": {},
   "source": [
    "# How to Build Indestructible Data Science Learning Habits Only 5 Minutes a Day\n",
    "## ...with a technique I used to build 10 new habits this year alone and I didn't even read Atomic Habits\n",
    "![](images/pexels.jpg)\n",
    "\n",
    "<figcaption style=\"text-align: center;\">\n",
    "    <strong>\n",
    "        Photo by \n",
    "        <a href='https://www.pexels.com/photo/a-man-surfing-on-waves-12282166/'>Jimmy  Boos</a>\n",
    "</figcaption>"
   ]
  },
  {
   "cell_type": "markdown",
   "id": "bd1dae87-bdbc-4a8c-8c9d-9c1349e5eb7a",
   "metadata": {},
   "source": [
    "### Motivation is the biggest enemy to habits"
   ]
  },
  {
   "cell_type": "markdown",
   "id": "0331c514-2d0d-42b5-b17d-aef78dff08de",
   "metadata": {},
   "source": [
    "Motivation is your biggest enemy when building new habits. Not because you have none of it, but because you have too much of it in the start of a new habit.\n",
    "\n",
    "Most of the time, you try a new behavior because something or someone inspired you to take action. With a mountain of motivation, you start to learn advanced Python concepts or take on complex projects and spend hours of your time each day. But a few days pass, and the motivation drains, which means the biggest reason that was keeping you committed to the new behavior is gone.\n",
    "\n",
    "All that's left is your self-discipline to keep the habit alive. Of course, your self-discipline has no plans to keep you coding for hours every day. So, it lines up a gazillion great reasons to get your butt back on the couch and watch Netflix together.\n",
    "\n",
    "> Habits that start off on fleeting motivation is doomed to fail."
   ]
  },
  {
   "cell_type": "markdown",
   "id": "21123848-b805-48f0-892e-8006ddb3a8b7",
   "metadata": {},
   "source": [
    "Motivation is a feeling, and our feelings always change. Using temporary, fleeting inspiration to guide your decisions in life is a recipe for failure. For a habit to become an unbreakable, non-optional part of your life and self-discipline, you need an indestructible reason to make it so. "
   ]
  },
  {
   "cell_type": "markdown",
   "id": "4f58a72b-07c8-4589-80b5-95fdf40595a9",
   "metadata": {
    "tags": []
   },
   "source": [
    "### The wrong idea of \"progress\""
   ]
  },
  {
   "cell_type": "markdown",
   "id": "898275b4-9ebf-4a6f-823b-08e5f6b572b4",
   "metadata": {},
   "source": [
    "Most of us have the wrong idea of \"progress\". \n",
    "\n",
    "We think that for a new behavior to have a positive impact on our life, we need to start big. But, in the age of Internet, so many things - social media, entertainment sites, whatever you name, battle for our increasingly shorter attention spans. This means starting a new behavior cold turkey for even an hour a day is simply not feasible. \n",
    "\n",
    "Ask this - can you honestly see yourself starting three new habits from tomorrow and do each one an hour a day for months? I bet two pinkie toes and my longest finger that you won't even make it past a 5-day streak. \n",
    "\n",
    "That's why you have to redefine your idea of progress before you take on a new habit. \n",
    "\n",
    "> Progress is not how many hours you put in, it is how many days you can commit without breaking the streak. "
   ]
  },
  {
   "cell_type": "markdown",
   "id": "a97e99db-3600-4e3b-b446-6064e80de788",
   "metadata": {},
   "source": [
    "### 5 minutes, incredible results"
   ]
  },
  {
   "cell_type": "markdown",
   "id": "58d388ef-9beb-4ac7-9913-6cb7eb0ff3c2",
   "metadata": {},
   "source": [
    "After failing to realize any of my New Year's resolutions since I was 16, I found that the best way to build a streak and a momentum for a new habit is starting small and slow. \n",
    "\n",
    "When you get the traditional \"start small\" advice, you almost always mistake how small. Since your idea of progress was a few hours, your \"small\" becomes half an hour or an hour,  which as we agreed (I hope), is too intensive for the fragile self-discipline of the 21st century. \n",
    "\n",
    "Even if you start less than half an hour, you increase your commitment too fast, which again leads to early quits. \n",
    "\n",
    "For this reason, I made a list of resolutions this year, and I started doing them all for 5 minutes a day. The hardest part in the beginning was telling motivation to \"shut up\", because it kept egging me on \"doing it more\". I certainly could do it more, but I knew that I wouldn't be able to keep up with the tasks I've set after a few days. \n",
    "\n",
    "Sure enough, after the New-Year-Resolutions vibe passed, my motivation went with it. But this time, I stuck to all ten of my resolutions and have been doing them without missing a day (almost 90-day streak!). \n",
    "\n",
    "My approach was to start 5 minutes a day from January 1 (or even 2.5 for very tedious habits, like learning R) and increment by 2.5 minutes every Monday. \n",
    "\n",
    "This worked wonders! As you do the math, in 12 weeks, you reach a 30-minute daily goal, which was the case for most of my habits. \n",
    "\n",
    "After 4-6 weeks, I noticed that my chosen habits became such a routine part of my life that I could confidently increment my daily goal by 5 or even 10 minutes every week (one of my habits take 85 minutes each day now). And I don't see myself quitting them any time soon. "
   ]
  },
  {
   "cell_type": "markdown",
   "id": "779cb3f3-22a7-4e9a-a00d-30afff435053",
   "metadata": {},
   "source": [
    "### An escape hatch for your self-discipline"
   ]
  },
  {
   "cell_type": "markdown",
   "id": "2fa1fa98-67ab-4816-9e11-6e5aadea8c36",
   "metadata": {},
   "source": [
    "When you decide to do a tedious task (which most habits are, after some time) for a long duration every day, your self-discipline starts to think it is being asked to dance with a lion in its cage every day. \n",
    "\n",
    "So, it finds whatever reason possible to prevent you from doing that or suggests less painful but slightly useful activities like dry cleaning, doing the dishes or watching tutorials on YouTube. Self-help guys commonly refer to this as _productive procrastination_.\n",
    "\n",
    "But when you start a habit with a 5-minute timer on your phone, you create an escape hatch for yourself. Since the task takes only five minutes, you want to just \"get on with it\". Little does your self-discipline know that you are cheating it to spend entire hours down the road without complaining a single bit.\n",
    "\n",
    "It is like taming a non-vegetarian beast with sugary snacks.\n",
    "\n",
    "Besides, you will find it much easier to continue once five minutes runs out, because starting small beats the biggest obstacle on your way - getting started. \n",
    "\n",
    "So, don't stop yourself if you get in the groove. But always remember that you finished your daily homework the moment five minutes ended. You can cheat your self-discipline but you have to be smart about it and not let your self-discipline get suspicious. It must always know its option of stopping at just five minutes the next day."
   ]
  },
  {
   "cell_type": "markdown",
   "id": "b9b60e3d-78f9-40f1-8d5f-0af4e2dedb0c",
   "metadata": {},
   "source": [
    "### Oh, Momentum"
   ]
  },
  {
   "cell_type": "markdown",
   "id": "67a65902-a7dc-4dca-9f9e-afdcb4bfd269",
   "metadata": {},
   "source": [
    "Once you reach a week-long streak, possibly for multiple habits, you start to gain momentum. And it is the best kind - the kind that brings motivation with itself instead of draining it. \n",
    "\n",
    "When building habits this way, a habit tracker is a must. You could keep track of multiple habits in a notebook like a caveman, but you need something that is visible to you multiple times throughout the day.\n",
    "\n",
    "Personally, I use this great Habits app which offers widgets for my iPhone. I have no apps on my homescreen but the 7-day progress of all my habits with huge, satisfying ticks. They are the first things I see when I unlock my phone (usually every 30 seconds, give or take). \n",
    "\n",
    "If you want to increase the likelihood of committing to new habits even more, build fake momentum. Tick the last 6 days on your habit-tracker and put it on your screen. This creates extra pressure to finish the five minutes because you don't want to break the streak. \n",
    "\n",
    "But isn't that cheating? - Who freaking cares? It is your life and you'll probably even forget you cheated after a couple of weeks. "
   ]
  },
  {
   "cell_type": "markdown",
   "id": "66118d69-391a-4019-9370-a26287120537",
   "metadata": {},
   "source": [
    "### The rules"
   ]
  },
  {
   "cell_type": "markdown",
   "id": "0e9c0d96-e6b8-48d0-8929-6ac06cf8185d",
   "metadata": {},
   "source": [
    "Here are a few rules you must follow to the letter. \n",
    "\n",
    "Number one is that you CAN miss a day, but you can NEVER, EVER miss two days in a row. It ruins all the progress you've made so far, especially in the beginning. \n",
    "\n",
    "If you are having a bad day, try to do at least one fifth (20%) of your daily duration to earn the completion tick for the day. After all, it is the act of deliberately sitting down to perform the habit that counts. \n",
    "\n",
    "If you can't even do that, try to do double time next day. In fact, the motivation you've built off on momentum will urge you to do it because it won't want to break the shiny perfect streak. "
   ]
  },
  {
   "cell_type": "markdown",
   "id": "9c691a95-cd03-45ab-979e-c51ffd2095a7",
   "metadata": {
    "tags": []
   },
   "source": [
    "### Momentum\n",
    "- Visualize your streak\n",
    "- Use a habits app from the app store or play market and make it the first thing you see when you grab your phone every day\n",
    "- Build a fake streak instead of starting from square 0, you will forget that the first 6 days you didn't do anything\n",
    "- Isn't that cheating? Who freaking cares? It is your life and brain, you can manipulate it any way you want\n",
    "- You can miss a day, but don't ever miss two days in a row\n",
    "- If you are having a bad day, try to do at least a third of your daily to-do\n",
    "- Build momentum\n",
    "- Motivation based on momentum is constant and ever increasing\n",
    "\n",
    "### New identity\n",
    "- The moment you draw a line you are an artist\n",
    "- Have a new identity based on your habit, regardless of your streak\n",
    "- Form a new identity. Right the hell now!\n",
    "- you don't have to be doing it for years to take the identity of your habit\n",
    "- Don't beat yourself up for taking it slow\n",
    "- Tell self-criticism to shut up. Instead, say I am awesome because I learned 5 minutes today\n",
    "- Say it with me now, \"I am awesome\"\n",
    "- Motivation shouldn't control your decisions\n",
    "- The reason that brings up the motivation can always disappear\n",
    "- Then, you won't know what to do\n",
    "- You want habits that last forever, that you can't break even if you want to like sleeping or eating\n",
    "- But if a habit is part of your identity, your self-worth, you don't have to search for an inspiration or motivation to do it even on a bad day"
   ]
  }
 ],
 "metadata": {
  "kernelspec": {
   "display_name": "articles",
   "language": "python",
   "name": "articles"
  },
  "language_info": {
   "codemirror_mode": {
    "name": "ipython",
    "version": 3
   },
   "file_extension": ".py",
   "mimetype": "text/x-python",
   "name": "python",
   "nbconvert_exporter": "python",
   "pygments_lexer": "ipython3",
   "version": "3.9.13"
  }
 },
 "nbformat": 4,
 "nbformat_minor": 5
}
