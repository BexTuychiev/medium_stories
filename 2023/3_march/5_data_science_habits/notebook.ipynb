{
 "cells": [
  {
   "cell_type": "markdown",
   "id": "8cdfbd47-47cd-4e3d-b3f0-9ea5d56bf0cd",
   "metadata": {},
   "source": [
    "# How to Build Indestructible Data Science Learning Habits Only 5 Minutes a Day\n",
    "## ...with a technique I used to build 10 new habits this year alone\n",
    "![](images/pexels.jpg)\n",
    "\n",
    "<figcaption style=\"text-align: center;\">\n",
    "    <strong>\n",
    "        Photo by \n",
    "        <a href='https://www.pexels.com/photo/a-man-surfing-on-waves-12282166/'>Jimmy  Boos</a>\n",
    "</figcaption>"
   ]
  },
  {
   "cell_type": "markdown",
   "id": "bd1dae87-bdbc-4a8c-8c9d-9c1349e5eb7a",
   "metadata": {},
   "source": []
  }
 ],
 "metadata": {
  "kernelspec": {
   "display_name": "articles",
   "language": "python",
   "name": "articles"
  },
  "language_info": {
   "codemirror_mode": {
    "name": "ipython",
    "version": 3
   },
   "file_extension": ".py",
   "mimetype": "text/x-python",
   "name": "python",
   "nbconvert_exporter": "python",
   "pygments_lexer": "ipython3",
   "version": "3.9.13"
  }
 },
 "nbformat": 4,
 "nbformat_minor": 5
}
