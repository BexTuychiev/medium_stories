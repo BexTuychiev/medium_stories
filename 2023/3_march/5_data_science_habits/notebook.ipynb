{
 "cells": [
  {
   "cell_type": "markdown",
   "id": "8cdfbd47-47cd-4e3d-b3f0-9ea5d56bf0cd",
   "metadata": {},
   "source": [
    "# How to Build Indestructible Data Science Learning Habits Only 5 Minutes a Day\n",
    "## ...with a technique I used to build 10 new habits this year alone and I didn't even read Atomic Habits\n",
    "![](images/pexels.jpg)\n",
    "\n",
    "<figcaption style=\"text-align: center;\">\n",
    "    <strong>\n",
    "        Photo by \n",
    "        <a href='https://www.pexels.com/photo/a-man-surfing-on-waves-12282166/'>Jimmy  Boos</a>\n",
    "</figcaption>"
   ]
  },
  {
   "cell_type": "markdown",
   "id": "bd1dae87-bdbc-4a8c-8c9d-9c1349e5eb7a",
   "metadata": {},
   "source": [
    "### Motivation is the biggest enemy to habits"
   ]
  },
  {
   "cell_type": "markdown",
   "id": "0331c514-2d0d-42b5-b17d-aef78dff08de",
   "metadata": {},
   "source": [
    "Motivation is your biggest enemy when building new habits. Not because you have none of it, but because you have too much of it in the start of a new habit.\n",
    "\n",
    "Most of the time, you try a new behavior because something or someone inspired you to take action. With a mountain of motivation, you start to learn advanced Python concepts or take on complex projects and spend hours of your time each day. But a few days pass, and the motivation drains, which means the biggest reason that was keeping you committed to the new behavior is gone.\n",
    "\n",
    "All that's left is your own-self discipline to keep the habit alive. Of course, your self-discipline has no plans to keep you coding for hours. So, it lines up a gazillion great reasons to stop doing the habit and bring you back to watch Netflix on the couch. \n",
    "\n",
    "> Habits that start off on fleeting motivation is doomed to fail."
   ]
  },
  {
   "cell_type": "markdown",
   "id": "21123848-b805-48f0-892e-8006ddb3a8b7",
   "metadata": {},
   "source": [
    "Motivation is a feeling, and our feelings always change. Using temporary, fleeting inspiration to guide your decisions in life is a recipe for failure. Because, for something to become an unbreakable, non-optional part of your life and self-discipline, you need an indestructible reason to make it so. "
   ]
  },
  {
   "cell_type": "markdown",
   "id": "4f58a72b-07c8-4589-80b5-95fdf40595a9",
   "metadata": {},
   "source": [
    "### Tiny changes, incredible results"
   ]
  },
  {
   "cell_type": "markdown",
   "id": "9c691a95-cd03-45ab-979e-c51ffd2095a7",
   "metadata": {},
   "source": [
    "### Motivation\n",
    "- Habits that start based on fleeting motivation always fails\n",
    "- That's why your resolutions fail\n",
    "- That's why you are sitting on your couch watching Netflix during the time you swore you would use to do something else\n",
    "- Motivation isn't constant\n",
    "- In the beginning, you have too much of it\n",
    "- You start a new habit, and reach a few day streak\n",
    "- Motivation runs out before the habit isn't part of your life, routine, not stuck to your self-discipline\n",
    "- Motivation is the biggest enemy to habits\n",
    "- Not because too little of it, but because you have too much of it in the wrong time\n",
    "\n",
    "### Only 5 minutes, damn it!\n",
    "- Start by 2.5/5 minutes a day\n",
    "- 5 minutes is gonna reproduce and have a family of 60 minutes in 6 months\n",
    "- Ask yourself - can you honestly start three habits from tomorrow and do them an hour a day for months?\n",
    "- I can bet two pinkie toes and one (unextended) finger that you won't even get past 5 days\n",
    "- After 6 weeks, you can increment by 5 minutes every week. \n",
    "- If you get into groove, you can always do more than 5 minutes\n",
    "- But don't ever forget that your daily must-do homework was done after 5 minutes\n",
    "- If you start this small, you will be able to\n",
    "- Increment by 2.5 minutes every week\n",
    "- In 52 weeks or a year, you would be doing more than 2 hours of that habit\n",
    "- And it won't feel like work at all\n",
    "- Habits that are deeply woven into your life\n",
    "\n",
    "### Momentum\n",
    "- Have a new identity based on your habit, regardless of your streak\n",
    "- Form a new identity. Right the hell now!\n",
    "- you don't have to be doing it for years to take the identity of your habit\n",
    "- The moment you draw a line you are an artist\n",
    "- Visualize your streak\n",
    "- Use a habits app from the app store or play market and make it the first thing you see when you grab your phone every day\n",
    "- Build a fake streak instead of starting from square 0, you will forget that the first 6 days you didn't do anything\n",
    "- Isn't that cheating? Who freaking cares? It is your life and brain, you can manipulate it any way you want\n",
    "- You can miss a day, but don't ever miss two days in a row\n",
    "- If you are having a bad day, try to do at least a third of your daily to-do\n",
    "- Build momentum\n",
    "- Motivation based on momentum is constant and ever increasing\n",
    "\n",
    "### New identity\n",
    "- Don't beat yourself up for taking it slow\n",
    "- Tell self-criticism to shut up. Instead, say I am awesome because I learned 5 minutes today\n",
    "- Say it with me now, \"I am awesome\"\n",
    "- Motivation shouldn't control your decisions\n",
    "- The reason that brings up the motivation can always disappear\n",
    "- Then, you won't know what to do\n",
    "- You want habits that last forever, that you can't break even if you want to like sleeping or eating\n",
    "- But if a habit is part of your identity, your self-worth, you don't have to search for an inspiration or motivation to do it even on a bad day"
   ]
  }
 ],
 "metadata": {
  "kernelspec": {
   "display_name": "articles",
   "language": "python",
   "name": "articles"
  },
  "language_info": {
   "codemirror_mode": {
    "name": "ipython",
    "version": 3
   },
   "file_extension": ".py",
   "mimetype": "text/x-python",
   "name": "python",
   "nbconvert_exporter": "python",
   "pygments_lexer": "ipython3",
   "version": "3.9.13"
  }
 },
 "nbformat": 4,
 "nbformat_minor": 5
}
