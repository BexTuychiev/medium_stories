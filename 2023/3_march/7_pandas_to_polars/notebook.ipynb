{
 "cells": [
  {
   "cell_type": "markdown",
   "id": "624fbe81-7581-4e09-90c1-59fbfe3536f6",
   "metadata": {},
   "source": [
    "# 8 Easy Steps To Switch From Slow Pandas to Lightning Fast Polars\n",
    "## A cheat sheet of the most common Pandas operations translated into Polars\n",
    "![](images/midjourney.png)"
   ]
  },
  {
   "cell_type": "markdown",
   "id": "083dddc7-b17b-4a8d-8f86-85f0c82da867",
   "metadata": {},
   "source": [
    "### Time for goodbyes!"
   ]
  },
  {
   "cell_type": "markdown",
   "id": "70220f38-8894-4a7e-9c6e-ca2e962a8446",
   "metadata": {},
   "source": []
  },
  {
   "cell_type": "markdown",
   "id": "e46e317b-d8b0-4b14-8817-47872425c3b4",
   "metadata": {
    "tags": []
   },
   "source": [
    "### 0. Reading/writing data"
   ]
  },
  {
   "cell_type": "markdown",
   "id": "edac1613-9808-4594-af47-95acf83b1f13",
   "metadata": {},
   "source": [
    "Even though it is painfully slow, CSV is still one of the most popular file formats to store data. So, let's start with the `read_csv` function of Polars.\n",
    "\n",
    "Apart from the obvious speed benefits, it only differs from its Pandas namesake in terms of the number of parameters (Pandas `read_csv` has 49. Yep, I counted) and their syntax."
   ]
  },
  {
   "cell_type": "markdown",
   "id": "b54108c8-6341-4375-bd3c-510efccfdd8c",
   "metadata": {},
   "source": [
    "![](images/csv_io.png)"
   ]
  },
  {
   "cell_type": "markdown",
   "id": "13d8daf0-0c5d-4e72-9f86-613204c12170",
   "metadata": {},
   "source": [
    "The confusing parameter names shouldn't be a problem as most modern IDEs have tab-completion or pop-up documentation features (__Shift + Tab__ on JupyterLab, thank you 🙏). \n",
    "\n",
    "If you were unaware, the `dtype` parameter prevents Pandas to set automatic datatypes and allows the user set custom ones like `string` type for `cut` or `datetime` for date-type columns.\n",
    "\n",
    "You can use the same behavior in Polars with `dtypes` (mind the 's') thought it doesn't allow the types to be set via strings. You have to provide either Python built-in types or through Polars like `pl.Boolean`, `pl.Categorical`, `pl.DateTime`, `pl.Int64` or `pl.Null` for missing values. You can see the full list by calling `dir(pl)`."
   ]
  },
  {
   "cell_type": "markdown",
   "id": "cc8f8bab-05f5-4bda-9b2e-cadc4d8cfa7a",
   "metadata": {},
   "source": [
    "Reading and writing Parquet files, which are much faster and more memory-efficient that CSVs, are also supported in Polars through `read_parquet` and `write_parquet` functions."
   ]
  },
  {
   "cell_type": "markdown",
   "id": "8cf2bd36-1899-4f5c-a450-28dc8ed40668",
   "metadata": {},
   "source": [
    "![](images/parquet_io.png)"
   ]
  },
  {
   "cell_type": "markdown",
   "id": "1abb36f1-97db-4163-bcd4-d087da367b3b",
   "metadata": {},
   "source": [
    "### 1. Creating Series and DataFrames"
   ]
  },
  {
   "cell_type": "markdown",
   "id": "b64e273a-fabf-4c44-bf65-112e7b45e8e8",
   "metadata": {},
   "source": [
    "![](images/create_series.png)"
   ]
  },
  {
   "cell_type": "markdown",
   "id": "57f8f4d2-ad75-4f09-8e3c-d5e58fa72d96",
   "metadata": {},
   "source": [
    "![](images/create_df.png)"
   ]
  },
  {
   "cell_type": "markdown",
   "id": "040b5460-8a23-49cc-8536-1d6429ab7dee",
   "metadata": {
    "tags": []
   },
   "source": [
    "### 2. Viewing data"
   ]
  },
  {
   "cell_type": "markdown",
   "id": "9aaf0a56-5411-4a85-905c-dc1c6ed508b3",
   "metadata": {},
   "source": [
    "- `head`, `tail` and `sample` are the same"
   ]
  },
  {
   "cell_type": "markdown",
   "id": "4b907ca9-9837-413a-9b07-cc2cac786bb4",
   "metadata": {},
   "source": [
    "![](images/describe.png)"
   ]
  },
  {
   "cell_type": "markdown",
   "id": "769e899a-c4fd-42ef-b80f-fe509af5ad46",
   "metadata": {
    "tags": []
   },
   "source": [
    "### 3. What are expressions in Polars?"
   ]
  },
  {
   "cell_type": "markdown",
   "id": "b8c4ccc6-a907-445a-b8d9-4855a826cd7f",
   "metadata": {
    "tags": []
   },
   "source": [
    "### 4. Selecting data"
   ]
  },
  {
   "cell_type": "markdown",
   "id": "83c5a6cd-dc1f-42c1-9fe9-ac813c31010c",
   "metadata": {},
   "source": [
    "![](images/select.png)"
   ]
  },
  {
   "attachments": {
    "08db8e40-8699-48b3-b75e-4f0a18cd733e.png": {
     "image/png": "[encoded data removed]"
    }
   },
   "cell_type": "markdown",
   "id": "86450675-df19-476a-859c-56c2e6c5183b",
   "metadata": {},
   "source": [
    "```python\n",
    "df.select(pl.exclude(\"price\")).head()\n",
    "```\n",
    "\n",
    "![image.png](attachment:08db8e40-8699-48b3-b75e-4f0a18cd733e.png)"
   ]
  },
  {
   "attachments": {
    "73572b60-0b54-4389-a8c6-2b350af6a26a.png": {
     "image/png": "[encoded data removed]"
    }
   },
   "cell_type": "markdown",
   "id": "6fc1dafb-1a7f-4504-a031-aa054f744fe6",
   "metadata": {},
   "source": [
    "```python\n",
    "df.select(pl.col(\"^c.+$\")).head()\n",
    "```\n",
    "\n",
    "![image.png](attachment:73572b60-0b54-4389-a8c6-2b350af6a26a.png)"
   ]
  },
  {
   "cell_type": "markdown",
   "id": "64541d1c-778d-487a-82f7-490a592d3399",
   "metadata": {},
   "source": [
    "![](images/include_number.png)"
   ]
  },
  {
   "cell_type": "markdown",
   "id": "69bc9037-e766-4e2e-af4f-15df73daac29",
   "metadata": {
    "tags": []
   },
   "source": [
    "### 5. Filtering data"
   ]
  },
  {
   "cell_type": "markdown",
   "id": "1407f9c9-7dfa-4417-a514-210ee5733a91",
   "metadata": {},
   "source": [
    "![](images/is_between.png)"
   ]
  },
  {
   "cell_type": "markdown",
   "id": "42bf84a9-3e3f-442f-8ba2-641e40415e3e",
   "metadata": {},
   "source": [
    "![](images/filter_ideal.png)"
   ]
  },
  {
   "cell_type": "markdown",
   "id": "2d03ad2b-4f69-4c20-81b9-830939f28017",
   "metadata": {},
   "source": [
    "![](images/isin.png)"
   ]
  },
  {
   "cell_type": "markdown",
   "id": "9ff7565c-6589-4be1-9ab7-0be603b127f8",
   "metadata": {
    "tags": []
   },
   "source": [
    "### 6. Creating new columns"
   ]
  },
  {
   "cell_type": "markdown",
   "id": "8a2c3d04-2ece-4986-bcc7-fb808592ae30",
   "metadata": {},
   "source": [
    "![](images/new_col.png)"
   ]
  },
  {
   "cell_type": "markdown",
   "id": "38955ee8-9ca6-483d-9a21-46d36aed65da",
   "metadata": {},
   "source": [
    "### 7. Groupby"
   ]
  },
  {
   "cell_type": "markdown",
   "id": "1d249548-aca1-4355-87fa-9c45cd6a24da",
   "metadata": {},
   "source": [
    "![](images/groupby.png)"
   ]
  },
  {
   "cell_type": "markdown",
   "id": "2562dfe2-adf3-449f-9724-64a5323acb06",
   "metadata": {},
   "source": [
    "```python\n",
    "df.groupby(\n",
    "    \"cut\", maintain_order=True\n",
    ").agg(pl.col(\"*\").count())\n",
    "```"
   ]
  },
  {
   "cell_type": "markdown",
   "id": "6967327f-193d-46f6-8028-04f6bd154e44",
   "metadata": {},
   "source": [
    "![](images/agg.png)"
   ]
  },
  {
   "cell_type": "markdown",
   "id": "bfbb8c9a-58f2-4c3a-a7df-ab680899b5a6",
   "metadata": {},
   "source": [
    "### 8. The lazy API in Polars"
   ]
  },
  {
   "cell_type": "markdown",
   "id": "de7d3b1c-efb7-463a-b7c7-582ff6015aa0",
   "metadata": {},
   "source": [
    "### Conclusion"
   ]
  }
 ],
 "metadata": {
  "kernelspec": {
   "display_name": "articles",
   "language": "python",
   "name": "articles"
  },
  "language_info": {
   "codemirror_mode": {
    "name": "ipython",
    "version": 3
   },
   "file_extension": ".py",
   "mimetype": "text/x-python",
   "name": "python",
   "nbconvert_exporter": "python",
   "pygments_lexer": "ipython3",
   "version": "3.9.13"
  }
 },
 "nbformat": 4,
 "nbformat_minor": 5
}
