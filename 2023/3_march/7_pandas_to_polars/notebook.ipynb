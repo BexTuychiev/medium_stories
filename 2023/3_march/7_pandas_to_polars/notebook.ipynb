{
 "cells": [
  {
   "cell_type": "markdown",
   "id": "624fbe81-7581-4e09-90c1-59fbfe3536f6",
   "metadata": {},
   "source": [
    "# 8 Easy Steps To Switch From Pandas to Lightning Fast Polars And Never Return\n",
    "## A cheat sheet of the most common Pandas operations translated into Polars\n",
    "![](images/midjourney.png)"
   ]
  },
  {
   "cell_type": "markdown",
   "id": "083dddc7-b17b-4a8d-8f86-85f0c82da867",
   "metadata": {},
   "source": [
    "### Time for goodbyes!"
   ]
  },
  {
   "cell_type": "markdown",
   "id": "70220f38-8894-4a7e-9c6e-ca2e962a8446",
   "metadata": {},
   "source": [
    "Pandas can do anything. Virtually anything. But (and this is a I-wish-a-million-times-it-was-any-other-way _but_) it lacks speed. Pandas just can't keep up with the pace at which the size and complexity of today's datasets are growing.\n",
    "\n",
    "Pandas author, Wes McKinney, states that when he wrote Pandas, he had this rule of thumb in mind for his library:\n",
    "\n",
    "> Have 5 to 10 times as much RAM as the size of your dataset.\n",
    "\n",
    "Maybe you could've snoozed past this rule when the Iris dataset was first introduced, but today, it is totally different. You simply can't load a 100GB dataset (already common in modern times) when your RAM is _resolutely_ stuck at 64GB. \n",
    "\n",
    "Sure, there are great alternatives like Dask. But Dask doesn't implement new functionality. It spreads existing Pandas syntax over multiple processes (threads) and ignores the underlying performance and memory issues. It treats Pandas as __black box__. Forgive me for saying this, but it is almost like putting a lipstick on a pig.\n",
    "\n",
    "Polars, the focus of our article, was written in Rust from the ground-up to fix all the shortcomings of Pandas. We've already seen in [my last article](https://towardsdatascience.com/measuring-the-speed-of-new-pandas-2-0-against-polars-and-datatable-still-not-good-enough-e44dc78f6585) how it is already faster than the upcoming Pandas 2.0 with PyArrow backend. \n",
    "\n",
    "While that article focused on speed advantages, this one focuses more on the syntax and functionality and shows you how to switch from Pandas to Polars in seven easy steps and maybe, never switch back."
   ]
  },
  {
   "cell_type": "markdown",
   "id": "e46e317b-d8b0-4b14-8817-47872425c3b4",
   "metadata": {
    "tags": []
   },
   "source": [
    "### 0. Reading/writing data"
   ]
  },
  {
   "cell_type": "markdown",
   "id": "edac1613-9808-4594-af47-95acf83b1f13",
   "metadata": {},
   "source": [
    "Even though it is painfully slow, CSV is still one of the most popular file formats to store data. So, let's start with the `read_csv` function of Polars.\n",
    "\n",
    "Apart from the obvious speed benefits, it only differs from its Pandas namesake in terms of the number of parameters (Pandas `read_csv` has 49. Yep, I counted) and syntax."
   ]
  },
  {
   "cell_type": "markdown",
   "id": "b54108c8-6341-4375-bd3c-510efccfdd8c",
   "metadata": {},
   "source": [
    "![](images/csv_io.png)"
   ]
  },
  {
   "cell_type": "markdown",
   "id": "13d8daf0-0c5d-4e72-9f86-613204c12170",
   "metadata": {},
   "source": [
    "The confusing parameter names shouldn't be a problem as most modern IDEs have tab-completion or pop-up documentation features (__Shift + Tab__ on JupyterLab, thank you 🙏). \n",
    "\n",
    "If you were unaware, the `dtype` parameter prevents Pandas to set automatic datatypes and allows the user set custom ones like `string` type for `cut` or `datetime` for date-type columns.\n",
    "\n",
    "You can use the same behavior in Polars with `dtypes` (mind the 's') though it doesn't allow the types to be set via strings. You have to provide either Python built-in types or through Polars like `pl.Boolean`, `pl.Categorical`, `pl.DateTime`, `pl.Int64` or `pl.Null` for missing values. You can see the full list by calling `dir(pl)`."
   ]
  },
  {
   "cell_type": "markdown",
   "id": "cc8f8bab-05f5-4bda-9b2e-cadc4d8cfa7a",
   "metadata": {},
   "source": [
    "Reading and writing Parquet files, which are much faster and more memory-efficient that CSVs, are also supported in Polars through `read_parquet` and `write_parquet` functions."
   ]
  },
  {
   "cell_type": "markdown",
   "id": "8cf2bd36-1899-4f5c-a450-28dc8ed40668",
   "metadata": {},
   "source": [
    "![](images/parquet_io.png)"
   ]
  },
  {
   "cell_type": "markdown",
   "id": "1abb36f1-97db-4163-bcd4-d087da367b3b",
   "metadata": {},
   "source": [
    "### 1. Creating Series and DataFrames"
   ]
  },
  {
   "cell_type": "markdown",
   "id": "4b9afbc7-956a-4fde-be58-f84ab34c9495",
   "metadata": {},
   "source": [
    "You don't always read data from files. Like in Pandas, you can create DataFrames and Series from scratch and the syntaxes are almost identical:"
   ]
  },
  {
   "cell_type": "markdown",
   "id": "b64e273a-fabf-4c44-bf65-112e7b45e8e8",
   "metadata": {},
   "source": [
    "![](images/create_series.png)"
   ]
  },
  {
   "cell_type": "markdown",
   "id": "57f8f4d2-ad75-4f09-8e3c-d5e58fa72d96",
   "metadata": {},
   "source": [
    "![](images/create_df.png)"
   ]
  },
  {
   "cell_type": "markdown",
   "id": "5ad30b7d-52b1-4aaf-9c2a-d9d49a418f4a",
   "metadata": {},
   "source": [
    "There are also many name and behavior-(almost)-identical methods of Polars DataFrames to Pandas. Say hello to:\n",
    "\n",
    "- [`apply`](https://pola-rs.github.io/polars/py-polars/html/reference/dataframe/api/polars.DataFrame.apply.html#polars.DataFrame.apply) - Apply custom user-defined functions on each row of the DataFrame\n",
    "- [`corr`](https://pola-rs.github.io/polars/py-polars/html/reference/dataframe/api/polars.DataFrame.corr.html#polars.DataFrame.corr) - correlation matrix\n",
    "- [`describe`](https://pola-rs.github.io/polars/py-polars/html/reference/dataframe/api/polars.DataFrame.describe.html#polars.DataFrame.describe) - Summary statistics, 5-number summary\n",
    "- [`drop`](https://pola-rs.github.io/polars/py-polars/html/reference/dataframe/api/polars.DataFrame.drop.html#polars.DataFrame.drop) - Remove columns from a DataFrame\n",
    "- [`explode`](https://pola-rs.github.io/polars/py-polars/html/reference/dataframe/api/polars.DataFrame.explode.html#polars.DataFrame.explode) - Unpacking the given column to long format (when cells contain multiple values like `[1, 2, 3]`)\n",
    "- [`head`](https://pola-rs.github.io/polars/py-polars/html/reference/dataframe/api/polars.DataFrame.head.html#polars.DataFrame.head), [`tail`](https://pola-rs.github.io/polars/py-polars/html/reference/dataframe/api/polars.DataFrame.tail.html#polars.DataFrame.tail) and [`sample(n)`](https://pola-rs.github.io/polars/py-polars/html/reference/dataframe/api/polars.DataFrame.sample.html#polars.DataFrame.sample) - get different views of the DataFrame (top, bottom, random)\n",
    "- [`iter_rows`](https://pola-rs.github.io/polars/py-polars/html/reference/dataframe/api/polars.DataFrame.iter_rows.html#polars.DataFrame.iter_rows) - returns an iterator of DataFrame rows of Python-native values\n",
    "- `max`, `mean`, `median`, `sum`, `std` and the usual gang of common math and statistical functions.\n",
    "\n",
    "and so on. Check out [this page](https://pola-rs.github.io/polars/py-polars/html/reference/dataframe/index.html) of the docs for the full list of DataFrame methods in Polars."
   ]
  },
  {
   "cell_type": "markdown",
   "id": "769e899a-c4fd-42ef-b80f-fe509af5ad46",
   "metadata": {
    "tags": []
   },
   "source": [
    "### 2. Understanding expressions in Polars"
   ]
  },
  {
   "cell_type": "markdown",
   "id": "4bf8c6eb-45e4-4684-8c33-1de27ee8356e",
   "metadata": {},
   "source": [
    "At the core of Polars is its __query engine__, which runs user-defined __expressions__. The query engine and expressions are two critical components for Polars' blazing fast and as Polars user guide puts it, \"embarrassingly parallel\" performance. \n",
    "\n",
    "You may be shocked at how closely Polars expressions resemble SQL while still keeping firm ties to the familiar Pandas syntax.\n",
    "\n",
    "Like SQL queries, you can write expressions for:\n",
    "\n",
    "- Creating new columns from existing ones\n",
    "- Getting views of the data after some transformation\n",
    "- Summary statistics\n",
    "- Processing and cleaning data\n",
    "- Groupby statements\n",
    "\n",
    "and so on. "
   ]
  },
  {
   "cell_type": "markdown",
   "id": "24ccea33-913a-4514-bfef-3013caad01f1",
   "metadata": {},
   "source": [
    "```python\n",
    "df.filter(pl.col('column') == 'some_value')\n",
    "```"
   ]
  },
  {
   "cell_type": "markdown",
   "id": "e595b8aa-cd36-48cd-93e6-ca27d041c994",
   "metadata": {},
   "source": [
    "In the above query, the expression is `pl.col('column)' == 'some_value'`, which as you guess, _filters_ the DataFrame for rows where `column` is equal to `some_value`.\n",
    "\n",
    "When you run the expression on its own, you won't get a boolean Series like you would in Pandas:"
   ]
  },
  {
   "cell_type": "code",
   "execution_count": 41,
   "id": "369d2f17-ec1a-4943-aea5-f94fa352d02a",
   "metadata": {},
   "outputs": [
    {
     "data": {
      "text/plain": [
       "polars.expr.expr.Expr"
      ]
     },
     "execution_count": 41,
     "metadata": {},
     "output_type": "execute_result"
    }
   ],
   "source": [
    "type(pl.col(\"column\") == \"some_value\")"
   ]
  },
  {
   "cell_type": "markdown",
   "id": "92d80ab8-7d2a-46ba-8b91-e3942d1d612d",
   "metadata": {},
   "source": [
    "That's because expressions are only evaluated under _contexts_. There are three broad contexts in Polars: \n",
    "\n",
    "1. Selecting data - in the `select` context, expressions are applied over columns and must produce columns of the same length in the result. This behavior must be familiar from SQL. The `filter` function is also tied into this context.\n",
    "2. Grouping data - in the `groupby` context, expressions work on groups and the results may have any length as a group can have many members.\n",
    "3. Adding new columns - in this context, expressions are used to create new columns from scratch or off of existing ones."
   ]
  },
  {
   "cell_type": "markdown",
   "id": "5782bf80-f4ec-451e-b3bc-a8c2519a40f5",
   "metadata": {},
   "source": [
    "Let's see each context in detail."
   ]
  },
  {
   "cell_type": "markdown",
   "id": "b8c4ccc6-a907-445a-b8d9-4855a826cd7f",
   "metadata": {
    "tags": []
   },
   "source": [
    "### 3. Selecting data"
   ]
  },
  {
   "cell_type": "markdown",
   "id": "3aa0d874-719d-4b32-aa42-26b0d1ff0b32",
   "metadata": {},
   "source": [
    "The Pandas' brackets notation gives way to expressions in Polars for selecting columns. \n",
    "\n",
    "To select a single column, you can use their literal names inside `select` or use the recommended `pl.col` function to reference columns. \n",
    "\n",
    "To select multiple, you can list the column names with commas inside `pl.col` or as a list of `pl.col` references inside `select`. We will see the differences between these syntaxes in a bit."
   ]
  },
  {
   "cell_type": "markdown",
   "id": "83c5a6cd-dc1f-42c1-9fe9-ac813c31010c",
   "metadata": {},
   "source": [
    "![](images/select.png)"
   ]
  },
  {
   "cell_type": "markdown",
   "id": "b4242eaf-1892-4249-b703-803f3d9dd668",
   "metadata": {},
   "source": [
    "Polars includes certain functionality not fully available in Pandas for selecting data. For example, you can exclude columns in your selection with `exclude`:"
   ]
  },
  {
   "attachments": {
    "08db8e40-8699-48b3-b75e-4f0a18cd733e.png": {
     "image/png": "[encoded data removed]"
    }
   },
   "cell_type": "markdown",
   "id": "86450675-df19-476a-859c-56c2e6c5183b",
   "metadata": {},
   "source": [
    "```python\n",
    "df.select(pl.exclude(\"price\")).head()\n",
    "```\n",
    "\n",
    "![image.png](attachment:08db8e40-8699-48b3-b75e-4f0a18cd733e.png)"
   ]
  },
  {
   "cell_type": "markdown",
   "id": "83a503f3-dd7b-45af-a6e1-3f0b36c19fb9",
   "metadata": {},
   "source": [
    "Or use regular expressions between `^` and `$` characters. Below, we are choosing all columns that start with the letter _c_:"
   ]
  },
  {
   "attachments": {
    "73572b60-0b54-4389-a8c6-2b350af6a26a.png": {
     "image/png": "[encoded data removed]"
    }
   },
   "cell_type": "markdown",
   "id": "6fc1dafb-1a7f-4504-a031-aa054f744fe6",
   "metadata": {},
   "source": [
    "```python\n",
    "df.select(pl.col(\"^c.+$\")).head()\n",
    "```\n",
    "\n",
    "![image.png](attachment:73572b60-0b54-4389-a8c6-2b350af6a26a.png)"
   ]
  },
  {
   "cell_type": "markdown",
   "id": "fa308b8a-2f0f-4e6d-90fe-34e4f5434ddd",
   "metadata": {},
   "source": [
    "You can also subset the DataFrame based on data type, which might remind you of `select_dtypes` of Pandas (on the left):"
   ]
  },
  {
   "cell_type": "markdown",
   "id": "64541d1c-778d-487a-82f7-490a592d3399",
   "metadata": {},
   "source": [
    "![](images/include_number.png)"
   ]
  },
  {
   "cell_type": "markdown",
   "id": "c5ce105a-8b3f-421e-af1e-648a37909481",
   "metadata": {},
   "source": [
    "To select all numeric columns, we are using both `Int64` and `Float64` types inside `pl.col`."
   ]
  },
  {
   "cell_type": "markdown",
   "id": "69bc9037-e766-4e2e-af4f-15df73daac29",
   "metadata": {
    "tags": []
   },
   "source": [
    "### 4. Filtering data"
   ]
  },
  {
   "cell_type": "markdown",
   "id": "53c534fb-599f-4e5a-9754-3669eb3a1499",
   "metadata": {},
   "source": [
    "You can use the `filter` function to subset DataFrames with boolean indexing. For example, when you use `is_between` function on a column, it creates an expression to filter numeric columns within a range. "
   ]
  },
  {
   "cell_type": "markdown",
   "id": "1407f9c9-7dfa-4417-a514-210ee5733a91",
   "metadata": {},
   "source": [
    "![](images/is_between.png)"
   ]
  },
  {
   "cell_type": "markdown",
   "id": "855338ea-3463-460f-acab-2981ab8102d2",
   "metadata": {},
   "source": [
    "You can combine multiple _conditional expressions_ with the familiar boolean operators `&` (AND), `|` (OR). In the example below, we are choosing rows where the `color` column is either 'E' or 'J' AND the `price` of diamonds are below 500:"
   ]
  },
  {
   "cell_type": "markdown",
   "id": "2d03ad2b-4f69-4c20-81b9-830939f28017",
   "metadata": {},
   "source": [
    "![](images/isin.png)"
   ]
  },
  {
   "cell_type": "markdown",
   "id": "fbc33b39-bad2-4b03-a46e-42643de454d5",
   "metadata": {},
   "source": [
    "Also notice how we are using `is_in` in Polars on the right."
   ]
  },
  {
   "cell_type": "markdown",
   "id": "9ff7565c-6589-4be1-9ab7-0be603b127f8",
   "metadata": {
    "tags": []
   },
   "source": [
    "### 5. Creating new columns"
   ]
  },
  {
   "cell_type": "markdown",
   "id": "506f140e-83b8-49a3-ad97-ae054eaa19c3",
   "metadata": {},
   "source": [
    "You can create new columns under the `with_columns` context. In the example below, `new_col` is defined using `pl.col('price') ** 2` and aliased to give the new column a name, just like `as` keyword in SQL."
   ]
  },
  {
   "cell_type": "markdown",
   "id": "8a2c3d04-2ece-4986-bcc7-fb808592ae30",
   "metadata": {},
   "source": [
    "![](images/new_col.png)"
   ]
  },
  {
   "cell_type": "markdown",
   "id": "ddf6ed6c-a050-40dc-881a-c831fbfa1f10",
   "metadata": {},
   "source": [
    "In the second example, we are combining two columns (even though it doesn't make sense), which demonstrates how integer and string columns can be combined with Polars. You can use any native Python or third-party function and operator on columns referenced with `pl.col`. \n",
    "\n",
    "If you want the new column be inserted into the DataFrame, you have to override the original `df` variable.\n",
    "\n",
    "> While we are at it, string columns in Polars have the familiar `.str` interface for special text manipulation functions like `contains` or `lengths`. See the full list [here](https://pola-rs.github.io/polars/py-polars/html/reference/series/string.html). There are also [`.cat`](https://pola-rs.github.io/polars/py-polars/html/reference/series/categories.html), [`.dt`](https://pola-rs.github.io/polars/py-polars/html/reference/series/temporal.html) and [`.arr`](https://pola-rs.github.io/polars/py-polars/html/reference/series/list.html) interfaces for specialized categorical, temporal and array functions.\n"
   ]
  },
  {
   "cell_type": "markdown",
   "id": "38955ee8-9ca6-483d-9a21-46d36aed65da",
   "metadata": {},
   "source": [
    "### 6. Groupby"
   ]
  },
  {
   "cell_type": "markdown",
   "id": "8d8c52cb-0762-4879-9131-08dbab5b7ebe",
   "metadata": {},
   "source": [
    "I don't think we can leave without mentioning `Groupby` operations:"
   ]
  },
  {
   "cell_type": "markdown",
   "id": "1d249548-aca1-4355-87fa-9c45cd6a24da",
   "metadata": {},
   "source": [
    "![](images/groupby.png)"
   ]
  },
  {
   "cell_type": "markdown",
   "id": "19cce334-a7f2-4706-8e56-2321dde831c6",
   "metadata": {},
   "source": [
    "When using the `groupby` function in Polars, be sure to include `maintain_order=True` so that groups are not displayed randomly. Also, unlike Pandas, `groupby(col_name)` expression only works on the given column. To group all columns based on `col_name`, you have to use an aggregation context. Here is its syntax:"
   ]
  },
  {
   "cell_type": "markdown",
   "id": "2562dfe2-adf3-449f-9724-64a5323acb06",
   "metadata": {},
   "source": [
    "```python\n",
    "df.groupby(\n",
    "    \"cut\", maintain_order=True\n",
    ").agg(pl.col(\"*\").count())\n",
    "```"
   ]
  },
  {
   "cell_type": "markdown",
   "id": "82c03ef2-79ba-46cd-aa97-ac26a50e1a3f",
   "metadata": {},
   "source": [
    "After the `groupby` context, you chain the aggregation context and specify which columns the context affects. And, chain any function on the result like `count`. \n",
    "\n",
    "Here is another example that groups by the diamond cut quality and returns the average numeric value for each group:"
   ]
  },
  {
   "cell_type": "markdown",
   "id": "6967327f-193d-46f6-8028-04f6bd154e44",
   "metadata": {},
   "source": [
    "![](images/agg.png)"
   ]
  },
  {
   "cell_type": "markdown",
   "id": "8440c8b5-2491-4a61-b771-afc0095171df",
   "metadata": {},
   "source": [
    "To learn more advanced groupby expressions in Polars, read [here](https://pola-rs.github.io/polars-book/user-guide/dsl/groupby.html)."
   ]
  },
  {
   "cell_type": "markdown",
   "id": "bfbb8c9a-58f2-4c3a-a7df-ab680899b5a6",
   "metadata": {},
   "source": [
    "### 7. The lazy API in Polars"
   ]
  },
  {
   "cell_type": "markdown",
   "id": "aa8567a1-2ee4-4b29-a3a7-79617d2031c1",
   "metadata": {},
   "source": [
    "One of the best features of Polars is its lazy API. In it, queries are run line-by-line but processed end-to-end by the query engine. \n",
    "\n",
    "This is where query optimization and the _embarrassingly parallel_ magic happens. You can turn any expression written in __eager mode__ into lazy mode with only two keywords:"
   ]
  },
  {
   "cell_type": "code",
   "execution_count": 51,
   "id": "f94ae56e-4181-4c18-b397-4666a6d0f311",
   "metadata": {},
   "outputs": [
    {
     "data": {
      "text/plain": [
       "polars.lazyframe.frame.LazyFrame"
      ]
     },
     "execution_count": 51,
     "metadata": {},
     "output_type": "execute_result"
    }
   ],
   "source": [
    "import polars as pl\n",
    "\n",
    "df = pl.read_csv(\"data/diamonds.csv\")\n",
    "\n",
    "query = df.lazy().filter(\n",
    "    pl.col(\"cut\") == \"Ideal\"\n",
    ")\n",
    "\n",
    "type(query)"
   ]
  },
  {
   "cell_type": "markdown",
   "id": "636dbc4a-8f25-4131-a158-de8c96c36078",
   "metadata": {},
   "source": [
    "When you add the `lazy()` function before an expression is chained, the DataFrame becomes a `LazyFrame`. At this point, the query isn't executed and you can chain more expressions. Once ready, you call `collect()` to get the result:"
   ]
  },
  {
   "attachments": {
    "59a36da2-30a0-434d-bbd3-d44cfeeae529.png": {
     "image/png": "[encoded data removed]"
    }
   },
   "cell_type": "markdown",
   "id": "bf20a65b-e3b9-4fd9-bcf0-eb8da565f9be",
   "metadata": {},
   "source": [
    "```python\n",
    "query.collect().head()\n",
    "```\n",
    "\n",
    "![image.png](attachment:59a36da2-30a0-434d-bbd3-d44cfeeae529.png)"
   ]
  },
  {
   "cell_type": "markdown",
   "id": "1e88f5e4-7cdf-47c5-b926-4a0b17b69ff4",
   "metadata": {},
   "source": [
    "While it is already fast in eager mode, the lazy mode adds exxxtra (yes, triple x) fuel to the query engine. \n",
    "\n",
    "If you want to make the lazy API your default rather than eager mode, you can use `scan_*` functions when reading data instead of `read_*`:"
   ]
  },
  {
   "cell_type": "markdown",
   "id": "5f07f0cc-d7d4-49d2-a666-4a03b9ab09da",
   "metadata": {},
   "source": [
    "```python\n",
    "df = pl.scan_csv(\"data/diamonds.csv\")\n",
    "\n",
    "q1 = df.filter(\n",
    "    pl.col(\"cut\") == \"Ideal\"\n",
    ")\n",
    "\n",
    "q1.collect().head()\n",
    "```"
   ]
  },
  {
   "cell_type": "markdown",
   "id": "028e7050-a840-4e58-a8ff-0620a1a787d9",
   "metadata": {},
   "source": [
    "This way, you avoid writing the `lazy()` function every time. \n",
    "\n",
    "If you are dealing with datasets that are bigger than your RAM, you can use streaming so that Polars processes your data in batches. This feature is enabled in the lazy API by setting `streaming=True` inside `collect`. Find out more about this awesome feature from [this page](https://pola-rs.github.io/polars-book/user-guide/lazy-api/streaming.html)."
   ]
  },
  {
   "cell_type": "markdown",
   "id": "2f03231c-e326-44aa-a7bd-6c09bdae8b59",
   "metadata": {},
   "source": [
    "### Conclusion"
   ]
  },
  {
   "cell_type": "markdown",
   "id": "cf4d12fc-d466-4f09-ab42-effb13ca0cdc",
   "metadata": {},
   "source": [
    "Polars might be new (I mean, it is fresh out of its crib) but it is already very popular. In the ope-source standards, it is a rock-star. Just look at its competitors:\n",
    "\n",
    "1. Pandas, released 2011, 37.5k GitHub stars.\n",
    "2. Apache Spark, released 2014, 26.8k stars.\n",
    "3. Vaex, released 2017, 7.9k GitHub stars.\n",
    "4. Dask, released 2015, 10.9k stars.\n",
    "5. Apache Arrow, released 2016, 11.4k stars.\n",
    "\n",
    "In comparison, Polars was released in 2020 and already amassed 15.9k stars, already half of its long-standing top competitors. \n",
    "\n",
    "This should give you a rough picture of where the wind is blowing. Things might change when Pandas 2.0 is released but I think Polars is already giving Pandas a run for its money."
   ]
  }
 ],
 "metadata": {
  "kernelspec": {
   "display_name": "articles",
   "language": "python",
   "name": "articles"
  },
  "language_info": {
   "codemirror_mode": {
    "name": "ipython",
    "version": 3
   },
   "file_extension": ".py",
   "mimetype": "text/x-python",
   "name": "python",
   "nbconvert_exporter": "python",
   "pygments_lexer": "ipython3",
   "version": "3.9.13"
  }
 },
 "nbformat": 4,
 "nbformat_minor": 5
}
