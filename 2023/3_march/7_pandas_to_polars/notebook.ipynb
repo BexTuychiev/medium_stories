{
 "cells": [
  {
   "cell_type": "markdown",
   "id": "fca33917-39ae-4ce0-bda2-c779ac51ad1e",
   "metadata": {},
   "source": [
    "# A Must-Read Cheatsheet to Switch From Pandas to Lightning-Fast Polars\n",
    "## N most-used Pandas commands shown in Polars"
   ]
  },
  {
   "cell_type": "markdown",
   "id": "083dddc7-b17b-4a8d-8f86-85f0c82da867",
   "metadata": {},
   "source": [
    "### Introduction"
   ]
  },
  {
   "cell_type": "markdown",
   "id": "e46e317b-d8b0-4b14-8817-47872425c3b4",
   "metadata": {},
   "source": []
  }
 ],
 "metadata": {
  "kernelspec": {
   "display_name": "articles",
   "language": "python",
   "name": "articles"
  },
  "language_info": {
   "codemirror_mode": {
    "name": "ipython",
    "version": 3
   },
   "file_extension": ".py",
   "mimetype": "text/x-python",
   "name": "python",
   "nbconvert_exporter": "python",
   "pygments_lexer": "ipython3",
   "version": "3.9.13"
  }
 },
 "nbformat": 4,
 "nbformat_minor": 5
}
