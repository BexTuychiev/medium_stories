{
 "cells": [
  {
   "cell_type": "markdown",
   "id": "624fbe81-7581-4e09-90c1-59fbfe3536f6",
   "metadata": {},
   "source": [
    "# A Must-Read Cheatsheet to Switch From Pandas to Lightning-Fast Polars\n",
    "## N most-used Pandas operations/techniques shown in Polars\n",
    "![](images/midjourney.png)"
   ]
  },
  {
   "cell_type": "markdown",
   "id": "083dddc7-b17b-4a8d-8f86-85f0c82da867",
   "metadata": {},
   "source": [
    "### Introduction"
   ]
  },
  {
   "cell_type": "markdown",
   "id": "e46e317b-d8b0-4b14-8817-47872425c3b4",
   "metadata": {
    "tags": []
   },
   "source": [
    "### 0. Reading/writing data"
   ]
  },
  {
   "cell_type": "code",
   "execution_count": 12,
   "id": "1fcd6ac9-93cc-4ae1-a76a-ffd2c20d2c20",
   "metadata": {},
   "outputs": [],
   "source": [
    "import pandas as pd\n",
    "\n",
    "df = pd.read_csv(\n",
    "    filepath_or_buffer=\"data/diamonds.csv\",\n",
    "    header=0,  # Default\n",
    "    usecols=[\"price\", \"cut\", \"color\"],\n",
    "    delimiter=\",\",\n",
    "    nrows=10000,\n",
    "    dtype={\n",
    "        \"cut\": \"string\"\n",
    "    },  # Override datatype mappings\n",
    "    na_values=\"N/A\",  # Consider as NaN\n",
    ")"
   ]
  },
  {
   "cell_type": "code",
   "execution_count": null,
   "id": "619903ea-0921-4303-8f6f-7a5d5b8a8272",
   "metadata": {},
   "outputs": [],
   "source": [
    "df.to_csv(\"data/new_file.csv\")"
   ]
  },
  {
   "cell_type": "code",
   "execution_count": null,
   "id": "dbed3df4-a879-4e15-bac2-2f8d59a29615",
   "metadata": {},
   "outputs": [],
   "source": [
    "df = pd.read_parquet(\n",
    "    path=\"data.parquet\",\n",
    "    columns=[\"list\", \"of\", \"columns\"],\n",
    ")"
   ]
  },
  {
   "cell_type": "code",
   "execution_count": null,
   "id": "daff78e8-3e08-4ac3-98cd-511224674a68",
   "metadata": {},
   "outputs": [],
   "source": [
    "df.to_parquet(\n",
    "    path=\"new_data.parquet\",\n",
    "    compression=\"snappy\",  # Default\n",
    ")"
   ]
  },
  {
   "cell_type": "markdown",
   "id": "1abb36f1-97db-4163-bcd4-d087da367b3b",
   "metadata": {
    "tags": []
   },
   "source": [
    "### 1. Creating Series and DataFrames"
   ]
  },
  {
   "cell_type": "code",
   "execution_count": 9,
   "id": "2a0a1443-d39b-40db-9b45-20f3025aafc4",
   "metadata": {},
   "outputs": [],
   "source": [
    "series = pd.Series(\n",
    "    data=[1, 2, 3, 4],\n",
    "    name=\"new_series\",\n",
    ")\n",
    "\n",
    "df1 = pd.DataFrame(\n",
    "    {\n",
    "        \"col1\": [\"a\", \"b\", \"c\"],\n",
    "        \"col2\": [1, 2, 3],\n",
    "    }\n",
    ")\n",
    "\n",
    "df2 = pd.DataFrame(\n",
    "    [\n",
    "        {\"col1\": \"a\", \"col2\": 1},\n",
    "        {\"col1\": \"b\", \"col2\": 2},\n",
    "        {\"col1\": \"c\", \"col2\": 3},\n",
    "    ]\n",
    ")"
   ]
  },
  {
   "cell_type": "markdown",
   "id": "040b5460-8a23-49cc-8536-1d6429ab7dee",
   "metadata": {
    "tags": []
   },
   "source": [
    "### 2. Viewing data"
   ]
  },
  {
   "cell_type": "code",
   "execution_count": 13,
   "id": "b73f52db-f4ab-4b73-9641-d2769f9dfc19",
   "metadata": {},
   "outputs": [
    {
     "data": {
      "text/html": [
       "<div>\n",
       "<style scoped>\n",
       "    .dataframe tbody tr th:only-of-type {\n",
       "        vertical-align: middle;\n",
       "    }\n",
       "\n",
       "    .dataframe tbody tr th {\n",
       "        vertical-align: top;\n",
       "    }\n",
       "\n",
       "    .dataframe thead th {\n",
       "        text-align: right;\n",
       "    }\n",
       "</style>\n",
       "<table border=\"1\" class=\"dataframe\">\n",
       "  <thead>\n",
       "    <tr style=\"text-align: right;\">\n",
       "      <th></th>\n",
       "      <th>cut</th>\n",
       "      <th>color</th>\n",
       "      <th>price</th>\n",
       "    </tr>\n",
       "  </thead>\n",
       "  <tbody>\n",
       "    <tr>\n",
       "      <th>0</th>\n",
       "      <td>Ideal</td>\n",
       "      <td>E</td>\n",
       "      <td>326</td>\n",
       "    </tr>\n",
       "    <tr>\n",
       "      <th>1</th>\n",
       "      <td>Premium</td>\n",
       "      <td>E</td>\n",
       "      <td>326</td>\n",
       "    </tr>\n",
       "    <tr>\n",
       "      <th>2</th>\n",
       "      <td>Good</td>\n",
       "      <td>E</td>\n",
       "      <td>327</td>\n",
       "    </tr>\n",
       "    <tr>\n",
       "      <th>3</th>\n",
       "      <td>Premium</td>\n",
       "      <td>I</td>\n",
       "      <td>334</td>\n",
       "    </tr>\n",
       "    <tr>\n",
       "      <th>4</th>\n",
       "      <td>Good</td>\n",
       "      <td>J</td>\n",
       "      <td>335</td>\n",
       "    </tr>\n",
       "  </tbody>\n",
       "</table>\n",
       "</div>"
      ],
      "text/plain": [
       "       cut color  price\n",
       "0    Ideal     E    326\n",
       "1  Premium     E    326\n",
       "2     Good     E    327\n",
       "3  Premium     I    334\n",
       "4     Good     J    335"
      ]
     },
     "execution_count": 13,
     "metadata": {},
     "output_type": "execute_result"
    }
   ],
   "source": [
    "df.head()"
   ]
  },
  {
   "cell_type": "code",
   "execution_count": 14,
   "id": "e2da1470-b25e-4518-9a67-3e48f452332f",
   "metadata": {},
   "outputs": [
    {
     "data": {
      "text/html": [
       "<div>\n",
       "<style scoped>\n",
       "    .dataframe tbody tr th:only-of-type {\n",
       "        vertical-align: middle;\n",
       "    }\n",
       "\n",
       "    .dataframe tbody tr th {\n",
       "        vertical-align: top;\n",
       "    }\n",
       "\n",
       "    .dataframe thead th {\n",
       "        text-align: right;\n",
       "    }\n",
       "</style>\n",
       "<table border=\"1\" class=\"dataframe\">\n",
       "  <thead>\n",
       "    <tr style=\"text-align: right;\">\n",
       "      <th></th>\n",
       "      <th>cut</th>\n",
       "      <th>color</th>\n",
       "      <th>price</th>\n",
       "    </tr>\n",
       "  </thead>\n",
       "  <tbody>\n",
       "    <tr>\n",
       "      <th>9995</th>\n",
       "      <td>Very Good</td>\n",
       "      <td>E</td>\n",
       "      <td>4704</td>\n",
       "    </tr>\n",
       "    <tr>\n",
       "      <th>9996</th>\n",
       "      <td>Premium</td>\n",
       "      <td>E</td>\n",
       "      <td>4704</td>\n",
       "    </tr>\n",
       "    <tr>\n",
       "      <th>9997</th>\n",
       "      <td>Premium</td>\n",
       "      <td>E</td>\n",
       "      <td>4704</td>\n",
       "    </tr>\n",
       "    <tr>\n",
       "      <th>9998</th>\n",
       "      <td>Premium</td>\n",
       "      <td>D</td>\n",
       "      <td>4704</td>\n",
       "    </tr>\n",
       "    <tr>\n",
       "      <th>9999</th>\n",
       "      <td>Fair</td>\n",
       "      <td>D</td>\n",
       "      <td>4704</td>\n",
       "    </tr>\n",
       "  </tbody>\n",
       "</table>\n",
       "</div>"
      ],
      "text/plain": [
       "            cut color  price\n",
       "9995  Very Good     E   4704\n",
       "9996    Premium     E   4704\n",
       "9997    Premium     E   4704\n",
       "9998    Premium     D   4704\n",
       "9999       Fair     D   4704"
      ]
     },
     "execution_count": 14,
     "metadata": {},
     "output_type": "execute_result"
    }
   ],
   "source": [
    "df.tail()"
   ]
  },
  {
   "cell_type": "code",
   "execution_count": 15,
   "id": "f8da9233-de34-4a0a-8e27-47fb3b926cb6",
   "metadata": {},
   "outputs": [
    {
     "data": {
      "text/html": [
       "<div>\n",
       "<style scoped>\n",
       "    .dataframe tbody tr th:only-of-type {\n",
       "        vertical-align: middle;\n",
       "    }\n",
       "\n",
       "    .dataframe tbody tr th {\n",
       "        vertical-align: top;\n",
       "    }\n",
       "\n",
       "    .dataframe thead th {\n",
       "        text-align: right;\n",
       "    }\n",
       "</style>\n",
       "<table border=\"1\" class=\"dataframe\">\n",
       "  <thead>\n",
       "    <tr style=\"text-align: right;\">\n",
       "      <th></th>\n",
       "      <th>cut</th>\n",
       "      <th>color</th>\n",
       "      <th>price</th>\n",
       "    </tr>\n",
       "  </thead>\n",
       "  <tbody>\n",
       "    <tr>\n",
       "      <th>5764</th>\n",
       "      <td>Good</td>\n",
       "      <td>F</td>\n",
       "      <td>3897</td>\n",
       "    </tr>\n",
       "    <tr>\n",
       "      <th>9178</th>\n",
       "      <td>Ideal</td>\n",
       "      <td>I</td>\n",
       "      <td>4543</td>\n",
       "    </tr>\n",
       "    <tr>\n",
       "      <th>9326</th>\n",
       "      <td>Premium</td>\n",
       "      <td>E</td>\n",
       "      <td>4579</td>\n",
       "    </tr>\n",
       "    <tr>\n",
       "      <th>8011</th>\n",
       "      <td>Premium</td>\n",
       "      <td>E</td>\n",
       "      <td>4328</td>\n",
       "    </tr>\n",
       "    <tr>\n",
       "      <th>7042</th>\n",
       "      <td>Very Good</td>\n",
       "      <td>G</td>\n",
       "      <td>4162</td>\n",
       "    </tr>\n",
       "  </tbody>\n",
       "</table>\n",
       "</div>"
      ],
      "text/plain": [
       "            cut color  price\n",
       "5764       Good     F   3897\n",
       "9178      Ideal     I   4543\n",
       "9326    Premium     E   4579\n",
       "8011    Premium     E   4328\n",
       "7042  Very Good     G   4162"
      ]
     },
     "execution_count": 15,
     "metadata": {},
     "output_type": "execute_result"
    }
   ],
   "source": [
    "df.sample(5)"
   ]
  },
  {
   "cell_type": "code",
   "execution_count": 16,
   "id": "8eae1a1e-c41a-435b-b0d7-7535cb1331df",
   "metadata": {},
   "outputs": [
    {
     "data": {
      "text/html": [
       "<div>\n",
       "<style scoped>\n",
       "    .dataframe tbody tr th:only-of-type {\n",
       "        vertical-align: middle;\n",
       "    }\n",
       "\n",
       "    .dataframe tbody tr th {\n",
       "        vertical-align: top;\n",
       "    }\n",
       "\n",
       "    .dataframe thead th {\n",
       "        text-align: right;\n",
       "    }\n",
       "</style>\n",
       "<table border=\"1\" class=\"dataframe\">\n",
       "  <thead>\n",
       "    <tr style=\"text-align: right;\">\n",
       "      <th></th>\n",
       "      <th>price</th>\n",
       "    </tr>\n",
       "  </thead>\n",
       "  <tbody>\n",
       "    <tr>\n",
       "      <th>count</th>\n",
       "      <td>10000.00000</td>\n",
       "    </tr>\n",
       "    <tr>\n",
       "      <th>mean</th>\n",
       "      <td>3406.60430</td>\n",
       "    </tr>\n",
       "    <tr>\n",
       "      <th>std</th>\n",
       "      <td>1110.12915</td>\n",
       "    </tr>\n",
       "    <tr>\n",
       "      <th>min</th>\n",
       "      <td>326.00000</td>\n",
       "    </tr>\n",
       "    <tr>\n",
       "      <th>25%</th>\n",
       "      <td>3033.00000</td>\n",
       "    </tr>\n",
       "    <tr>\n",
       "      <th>50%</th>\n",
       "      <td>3626.50000</td>\n",
       "    </tr>\n",
       "    <tr>\n",
       "      <th>75%</th>\n",
       "      <td>4198.00000</td>\n",
       "    </tr>\n",
       "    <tr>\n",
       "      <th>max</th>\n",
       "      <td>4704.00000</td>\n",
       "    </tr>\n",
       "  </tbody>\n",
       "</table>\n",
       "</div>"
      ],
      "text/plain": [
       "             price\n",
       "count  10000.00000\n",
       "mean    3406.60430\n",
       "std     1110.12915\n",
       "min      326.00000\n",
       "25%     3033.00000\n",
       "50%     3626.50000\n",
       "75%     4198.00000\n",
       "max     4704.00000"
      ]
     },
     "execution_count": 16,
     "metadata": {},
     "output_type": "execute_result"
    }
   ],
   "source": [
    "df.describe()"
   ]
  },
  {
   "cell_type": "markdown",
   "id": "769e899a-c4fd-42ef-b80f-fe509af5ad46",
   "metadata": {},
   "source": [
    "### 3. What are expressions in Polars?"
   ]
  },
  {
   "cell_type": "code",
   "execution_count": null,
   "id": "108b5f02-e70b-487b-8154-080b9d0883e8",
   "metadata": {},
   "outputs": [],
   "source": []
  },
  {
   "cell_type": "markdown",
   "id": "b8c4ccc6-a907-445a-b8d9-4855a826cd7f",
   "metadata": {
    "tags": []
   },
   "source": [
    "### 4. Selecting data"
   ]
  },
  {
   "cell_type": "markdown",
   "id": "8564cda9-f0b0-4a90-842c-080f808c9f26",
   "metadata": {},
   "source": []
  },
  {
   "cell_type": "markdown",
   "id": "8db564a2-fa5d-4a9c-9b38-9b7bf0cb6615",
   "metadata": {},
   "source": []
  },
  {
   "cell_type": "markdown",
   "id": "6ee4de1b-c94b-4b0f-8f4c-8dffe34a343e",
   "metadata": {},
   "source": []
  },
  {
   "cell_type": "markdown",
   "id": "b0a76521-cc7e-44fc-837a-591a83eb7804",
   "metadata": {},
   "source": []
  },
  {
   "cell_type": "code",
   "execution_count": 19,
   "id": "9279ecb9-f998-41f8-ac79-aee63693c701",
   "metadata": {},
   "outputs": [],
   "source": [
    "price = df[\"price\"]\n",
    "\n",
    "two_cols = df[[\"price\", \"cut\"]]"
   ]
  },
  {
   "cell_type": "markdown",
   "id": "a18b0999-5bbf-4cb6-b6fa-99ad48f6bb67",
   "metadata": {},
   "source": []
  },
  {
   "cell_type": "markdown",
   "id": "9a4d9c1c-b3d3-400e-a888-e59db4815b41",
   "metadata": {},
   "source": []
  },
  {
   "cell_type": "markdown",
   "id": "9e7c5c1f-9f0e-414e-9b30-ff7fa15a53ad",
   "metadata": {},
   "source": []
  },
  {
   "cell_type": "code",
   "execution_count": 32,
   "id": "bbc17f9c-6a1d-442b-b8d4-c23b88c6e1f5",
   "metadata": {},
   "outputs": [
    {
     "data": {
      "text/html": [
       "<div>\n",
       "<style scoped>\n",
       "    .dataframe tbody tr th:only-of-type {\n",
       "        vertical-align: middle;\n",
       "    }\n",
       "\n",
       "    .dataframe tbody tr th {\n",
       "        vertical-align: top;\n",
       "    }\n",
       "\n",
       "    .dataframe thead th {\n",
       "        text-align: right;\n",
       "    }\n",
       "</style>\n",
       "<table border=\"1\" class=\"dataframe\">\n",
       "  <thead>\n",
       "    <tr style=\"text-align: right;\">\n",
       "      <th></th>\n",
       "      <th>carat</th>\n",
       "      <th>depth</th>\n",
       "      <th>table</th>\n",
       "      <th>price</th>\n",
       "      <th>x</th>\n",
       "      <th>y</th>\n",
       "      <th>z</th>\n",
       "    </tr>\n",
       "  </thead>\n",
       "  <tbody>\n",
       "    <tr>\n",
       "      <th>0</th>\n",
       "      <td>0.23</td>\n",
       "      <td>61.5</td>\n",
       "      <td>55.0</td>\n",
       "      <td>326</td>\n",
       "      <td>3.95</td>\n",
       "      <td>3.98</td>\n",
       "      <td>2.43</td>\n",
       "    </tr>\n",
       "    <tr>\n",
       "      <th>1</th>\n",
       "      <td>0.21</td>\n",
       "      <td>59.8</td>\n",
       "      <td>61.0</td>\n",
       "      <td>326</td>\n",
       "      <td>3.89</td>\n",
       "      <td>3.84</td>\n",
       "      <td>2.31</td>\n",
       "    </tr>\n",
       "    <tr>\n",
       "      <th>2</th>\n",
       "      <td>0.23</td>\n",
       "      <td>56.9</td>\n",
       "      <td>65.0</td>\n",
       "      <td>327</td>\n",
       "      <td>4.05</td>\n",
       "      <td>4.07</td>\n",
       "      <td>2.31</td>\n",
       "    </tr>\n",
       "    <tr>\n",
       "      <th>3</th>\n",
       "      <td>0.29</td>\n",
       "      <td>62.4</td>\n",
       "      <td>58.0</td>\n",
       "      <td>334</td>\n",
       "      <td>4.20</td>\n",
       "      <td>4.23</td>\n",
       "      <td>2.63</td>\n",
       "    </tr>\n",
       "    <tr>\n",
       "      <th>4</th>\n",
       "      <td>0.31</td>\n",
       "      <td>63.3</td>\n",
       "      <td>58.0</td>\n",
       "      <td>335</td>\n",
       "      <td>4.34</td>\n",
       "      <td>4.35</td>\n",
       "      <td>2.75</td>\n",
       "    </tr>\n",
       "  </tbody>\n",
       "</table>\n",
       "</div>"
      ],
      "text/plain": [
       "   carat  depth  table  price     x     y     z\n",
       "0   0.23   61.5   55.0    326  3.95  3.98  2.43\n",
       "1   0.21   59.8   61.0    326  3.89  3.84  2.31\n",
       "2   0.23   56.9   65.0    327  4.05  4.07  2.31\n",
       "3   0.29   62.4   58.0    334  4.20  4.23  2.63\n",
       "4   0.31   63.3   58.0    335  4.34  4.35  2.75"
      ]
     },
     "execution_count": 32,
     "metadata": {},
     "output_type": "execute_result"
    }
   ],
   "source": [
    "df.select_dtypes(\n",
    "    include=\"number\"\n",
    ").head()"
   ]
  },
  {
   "cell_type": "markdown",
   "id": "039b9a71-09fe-422c-9c32-0a066e9d29c8",
   "metadata": {},
   "source": []
  },
  {
   "cell_type": "markdown",
   "id": "1063c1c6-eec8-4c90-a636-be64e12b0db5",
   "metadata": {},
   "source": []
  },
  {
   "cell_type": "markdown",
   "id": "69bc9037-e766-4e2e-af4f-15df73daac29",
   "metadata": {},
   "source": [
    "### 5. Filtering data"
   ]
  },
  {
   "cell_type": "markdown",
   "id": "5903177b-e3f9-4330-a01f-c37911044ad1",
   "metadata": {},
   "source": []
  },
  {
   "cell_type": "code",
   "execution_count": 23,
   "id": "dc7f1500-c0ab-4b9b-8751-1667e98cf31d",
   "metadata": {},
   "outputs": [
    {
     "data": {
      "text/html": [
       "<div>\n",
       "<style scoped>\n",
       "    .dataframe tbody tr th:only-of-type {\n",
       "        vertical-align: middle;\n",
       "    }\n",
       "\n",
       "    .dataframe tbody tr th {\n",
       "        vertical-align: top;\n",
       "    }\n",
       "\n",
       "    .dataframe thead th {\n",
       "        text-align: right;\n",
       "    }\n",
       "</style>\n",
       "<table border=\"1\" class=\"dataframe\">\n",
       "  <thead>\n",
       "    <tr style=\"text-align: right;\">\n",
       "      <th></th>\n",
       "      <th>cut</th>\n",
       "      <th>color</th>\n",
       "      <th>price</th>\n",
       "    </tr>\n",
       "  </thead>\n",
       "  <tbody>\n",
       "    <tr>\n",
       "      <th>60</th>\n",
       "      <td>Ideal</td>\n",
       "      <td>I</td>\n",
       "      <td>552</td>\n",
       "    </tr>\n",
       "    <tr>\n",
       "      <th>61</th>\n",
       "      <td>Premium</td>\n",
       "      <td>D</td>\n",
       "      <td>552</td>\n",
       "    </tr>\n",
       "    <tr>\n",
       "      <th>62</th>\n",
       "      <td>Ideal</td>\n",
       "      <td>D</td>\n",
       "      <td>552</td>\n",
       "    </tr>\n",
       "    <tr>\n",
       "      <th>63</th>\n",
       "      <td>Ideal</td>\n",
       "      <td>D</td>\n",
       "      <td>552</td>\n",
       "    </tr>\n",
       "    <tr>\n",
       "      <th>64</th>\n",
       "      <td>Premium</td>\n",
       "      <td>I</td>\n",
       "      <td>552</td>\n",
       "    </tr>\n",
       "  </tbody>\n",
       "</table>\n",
       "</div>"
      ],
      "text/plain": [
       "        cut color  price\n",
       "60    Ideal     I    552\n",
       "61  Premium     D    552\n",
       "62    Ideal     D    552\n",
       "63    Ideal     D    552\n",
       "64  Premium     I    552"
      ]
     },
     "execution_count": 23,
     "metadata": {},
     "output_type": "execute_result"
    }
   ],
   "source": [
    "df[\n",
    "    df[\"price\"].between(500, 1000)\n",
    "].head()"
   ]
  },
  {
   "cell_type": "markdown",
   "id": "bdbed215-43cb-470a-beae-e89d43120c0d",
   "metadata": {},
   "source": []
  },
  {
   "cell_type": "markdown",
   "id": "463d7a7c-207f-46de-87b4-9676280f867f",
   "metadata": {},
   "source": []
  },
  {
   "cell_type": "code",
   "execution_count": 24,
   "id": "90e41adf-b394-4bf9-bab4-a669eba12758",
   "metadata": {},
   "outputs": [
    {
     "data": {
      "text/html": [
       "<div>\n",
       "<style scoped>\n",
       "    .dataframe tbody tr th:only-of-type {\n",
       "        vertical-align: middle;\n",
       "    }\n",
       "\n",
       "    .dataframe tbody tr th {\n",
       "        vertical-align: top;\n",
       "    }\n",
       "\n",
       "    .dataframe thead th {\n",
       "        text-align: right;\n",
       "    }\n",
       "</style>\n",
       "<table border=\"1\" class=\"dataframe\">\n",
       "  <thead>\n",
       "    <tr style=\"text-align: right;\">\n",
       "      <th></th>\n",
       "      <th>cut</th>\n",
       "      <th>color</th>\n",
       "      <th>price</th>\n",
       "    </tr>\n",
       "  </thead>\n",
       "  <tbody>\n",
       "    <tr>\n",
       "      <th>0</th>\n",
       "      <td>Ideal</td>\n",
       "      <td>E</td>\n",
       "      <td>326</td>\n",
       "    </tr>\n",
       "    <tr>\n",
       "      <th>11</th>\n",
       "      <td>Ideal</td>\n",
       "      <td>J</td>\n",
       "      <td>340</td>\n",
       "    </tr>\n",
       "    <tr>\n",
       "      <th>13</th>\n",
       "      <td>Ideal</td>\n",
       "      <td>J</td>\n",
       "      <td>344</td>\n",
       "    </tr>\n",
       "    <tr>\n",
       "      <th>16</th>\n",
       "      <td>Ideal</td>\n",
       "      <td>I</td>\n",
       "      <td>348</td>\n",
       "    </tr>\n",
       "    <tr>\n",
       "      <th>39</th>\n",
       "      <td>Ideal</td>\n",
       "      <td>I</td>\n",
       "      <td>403</td>\n",
       "    </tr>\n",
       "  </tbody>\n",
       "</table>\n",
       "</div>"
      ],
      "text/plain": [
       "      cut color  price\n",
       "0   Ideal     E    326\n",
       "11  Ideal     J    340\n",
       "13  Ideal     J    344\n",
       "16  Ideal     I    348\n",
       "39  Ideal     I    403"
      ]
     },
     "execution_count": 24,
     "metadata": {},
     "output_type": "execute_result"
    }
   ],
   "source": [
    "df[df[\"cut\"] == \"Ideal\"].head()"
   ]
  },
  {
   "cell_type": "markdown",
   "id": "018cbb63-df9f-4fed-be2b-c6039c99b2ee",
   "metadata": {},
   "source": []
  },
  {
   "cell_type": "markdown",
   "id": "ccc3f739-db27-4c97-9e0c-0bb07f6cff8c",
   "metadata": {},
   "source": []
  },
  {
   "cell_type": "code",
   "execution_count": 25,
   "id": "343aa29f-42d1-48e3-885d-e12e7d54fa91",
   "metadata": {},
   "outputs": [
    {
     "data": {
      "text/html": [
       "<div>\n",
       "<style scoped>\n",
       "    .dataframe tbody tr th:only-of-type {\n",
       "        vertical-align: middle;\n",
       "    }\n",
       "\n",
       "    .dataframe tbody tr th {\n",
       "        vertical-align: top;\n",
       "    }\n",
       "\n",
       "    .dataframe thead th {\n",
       "        text-align: right;\n",
       "    }\n",
       "</style>\n",
       "<table border=\"1\" class=\"dataframe\">\n",
       "  <thead>\n",
       "    <tr style=\"text-align: right;\">\n",
       "      <th></th>\n",
       "      <th>cut</th>\n",
       "      <th>color</th>\n",
       "      <th>price</th>\n",
       "    </tr>\n",
       "  </thead>\n",
       "  <tbody>\n",
       "    <tr>\n",
       "      <th>0</th>\n",
       "      <td>Ideal</td>\n",
       "      <td>E</td>\n",
       "      <td>326</td>\n",
       "    </tr>\n",
       "    <tr>\n",
       "      <th>1</th>\n",
       "      <td>Premium</td>\n",
       "      <td>E</td>\n",
       "      <td>326</td>\n",
       "    </tr>\n",
       "    <tr>\n",
       "      <th>2</th>\n",
       "      <td>Good</td>\n",
       "      <td>E</td>\n",
       "      <td>327</td>\n",
       "    </tr>\n",
       "    <tr>\n",
       "      <th>3</th>\n",
       "      <td>Premium</td>\n",
       "      <td>I</td>\n",
       "      <td>334</td>\n",
       "    </tr>\n",
       "    <tr>\n",
       "      <th>4</th>\n",
       "      <td>Good</td>\n",
       "      <td>J</td>\n",
       "      <td>335</td>\n",
       "    </tr>\n",
       "  </tbody>\n",
       "</table>\n",
       "</div>"
      ],
      "text/plain": [
       "       cut color  price\n",
       "0    Ideal     E    326\n",
       "1  Premium     E    326\n",
       "2     Good     E    327\n",
       "3  Premium     I    334\n",
       "4     Good     J    335"
      ]
     },
     "execution_count": 25,
     "metadata": {},
     "output_type": "execute_result"
    }
   ],
   "source": [
    "df[\n",
    "    df[\"color\"].isin([\"E\", \"J\"])\n",
    "    & df[\"price\"]\n",
    "    < 500\n",
    "].head()"
   ]
  },
  {
   "cell_type": "markdown",
   "id": "a708f55a-5985-437b-8052-282ba5ff51e2",
   "metadata": {},
   "source": []
  },
  {
   "cell_type": "markdown",
   "id": "409f1652-ef61-4abf-ab19-17752bd29bf9",
   "metadata": {},
   "source": []
  },
  {
   "cell_type": "markdown",
   "id": "eee031bd-84a9-435b-825b-c2ff9125b462",
   "metadata": {},
   "source": []
  },
  {
   "cell_type": "markdown",
   "id": "9ff7565c-6589-4be1-9ab7-0be603b127f8",
   "metadata": {
    "tags": []
   },
   "source": [
    "### 6. Creating new columns"
   ]
  },
  {
   "cell_type": "markdown",
   "id": "b6549d3a-3f0f-4ccf-a0a1-b3494afb3765",
   "metadata": {},
   "source": []
  },
  {
   "cell_type": "markdown",
   "id": "50ec75a9-f200-4a00-85ed-092fd278bb97",
   "metadata": {},
   "source": []
  },
  {
   "cell_type": "code",
   "execution_count": 27,
   "id": "21d65917-6fa8-4e56-8f4b-566bc62db5e7",
   "metadata": {},
   "outputs": [],
   "source": [
    "df[\"new_col\"] = df[\"price\"] ** 2\n",
    "df[\"new_col2\"] = (\n",
    "    str(df[\"price\"]) + df[\"cut\"]\n",
    ")"
   ]
  },
  {
   "cell_type": "markdown",
   "id": "e8790e20-bcca-4064-a326-37afe06376b9",
   "metadata": {},
   "source": []
  },
  {
   "cell_type": "markdown",
   "id": "d1be8139-0c43-4aeb-8c5f-1bc6a4e5607a",
   "metadata": {},
   "source": []
  },
  {
   "cell_type": "markdown",
   "id": "9c85da02-141c-4979-b872-e8f304fb2e28",
   "metadata": {},
   "source": []
  },
  {
   "cell_type": "markdown",
   "id": "38955ee8-9ca6-483d-9a21-46d36aed65da",
   "metadata": {},
   "source": [
    "### 7. Groupby"
   ]
  },
  {
   "cell_type": "markdown",
   "id": "53cbb1f7-05f0-4274-8bb8-3fc928782105",
   "metadata": {},
   "source": []
  },
  {
   "cell_type": "code",
   "execution_count": 29,
   "id": "9d7399f9-f40f-4e1d-bddd-3fe8217622b6",
   "metadata": {},
   "outputs": [
    {
     "data": {
      "text/html": [
       "<div>\n",
       "<style scoped>\n",
       "    .dataframe tbody tr th:only-of-type {\n",
       "        vertical-align: middle;\n",
       "    }\n",
       "\n",
       "    .dataframe tbody tr th {\n",
       "        vertical-align: top;\n",
       "    }\n",
       "\n",
       "    .dataframe thead th {\n",
       "        text-align: right;\n",
       "    }\n",
       "</style>\n",
       "<table border=\"1\" class=\"dataframe\">\n",
       "  <thead>\n",
       "    <tr style=\"text-align: right;\">\n",
       "      <th></th>\n",
       "      <th>carat</th>\n",
       "      <th>color</th>\n",
       "      <th>clarity</th>\n",
       "      <th>depth</th>\n",
       "      <th>table</th>\n",
       "      <th>price</th>\n",
       "      <th>x</th>\n",
       "      <th>y</th>\n",
       "      <th>z</th>\n",
       "    </tr>\n",
       "    <tr>\n",
       "      <th>cut</th>\n",
       "      <th></th>\n",
       "      <th></th>\n",
       "      <th></th>\n",
       "      <th></th>\n",
       "      <th></th>\n",
       "      <th></th>\n",
       "      <th></th>\n",
       "      <th></th>\n",
       "      <th></th>\n",
       "    </tr>\n",
       "  </thead>\n",
       "  <tbody>\n",
       "    <tr>\n",
       "      <th>Fair</th>\n",
       "      <td>1610</td>\n",
       "      <td>1610</td>\n",
       "      <td>1610</td>\n",
       "      <td>1610</td>\n",
       "      <td>1610</td>\n",
       "      <td>1610</td>\n",
       "      <td>1610</td>\n",
       "      <td>1610</td>\n",
       "      <td>1610</td>\n",
       "    </tr>\n",
       "    <tr>\n",
       "      <th>Good</th>\n",
       "      <td>4906</td>\n",
       "      <td>4906</td>\n",
       "      <td>4906</td>\n",
       "      <td>4906</td>\n",
       "      <td>4906</td>\n",
       "      <td>4906</td>\n",
       "      <td>4906</td>\n",
       "      <td>4906</td>\n",
       "      <td>4906</td>\n",
       "    </tr>\n",
       "    <tr>\n",
       "      <th>Ideal</th>\n",
       "      <td>21551</td>\n",
       "      <td>21551</td>\n",
       "      <td>21551</td>\n",
       "      <td>21551</td>\n",
       "      <td>21551</td>\n",
       "      <td>21551</td>\n",
       "      <td>21551</td>\n",
       "      <td>21551</td>\n",
       "      <td>21551</td>\n",
       "    </tr>\n",
       "    <tr>\n",
       "      <th>Premium</th>\n",
       "      <td>13791</td>\n",
       "      <td>13791</td>\n",
       "      <td>13791</td>\n",
       "      <td>13791</td>\n",
       "      <td>13791</td>\n",
       "      <td>13791</td>\n",
       "      <td>13791</td>\n",
       "      <td>13791</td>\n",
       "      <td>13791</td>\n",
       "    </tr>\n",
       "    <tr>\n",
       "      <th>Very Good</th>\n",
       "      <td>12082</td>\n",
       "      <td>12082</td>\n",
       "      <td>12082</td>\n",
       "      <td>12082</td>\n",
       "      <td>12082</td>\n",
       "      <td>12082</td>\n",
       "      <td>12082</td>\n",
       "      <td>12082</td>\n",
       "      <td>12082</td>\n",
       "    </tr>\n",
       "  </tbody>\n",
       "</table>\n",
       "</div>"
      ],
      "text/plain": [
       "           carat  color  clarity  depth  table  price      x      y      z\n",
       "cut                                                                       \n",
       "Fair        1610   1610     1610   1610   1610   1610   1610   1610   1610\n",
       "Good        4906   4906     4906   4906   4906   4906   4906   4906   4906\n",
       "Ideal      21551  21551    21551  21551  21551  21551  21551  21551  21551\n",
       "Premium    13791  13791    13791  13791  13791  13791  13791  13791  13791\n",
       "Very Good  12082  12082    12082  12082  12082  12082  12082  12082  12082"
      ]
     },
     "execution_count": 29,
     "metadata": {},
     "output_type": "execute_result"
    }
   ],
   "source": [
    "df = pd.read_csv(\"data/diamonds.csv\")\n",
    "\n",
    "df.groupby(\"cut\").count()"
   ]
  },
  {
   "cell_type": "code",
   "execution_count": 31,
   "id": "b838ba2e-d83d-4d2e-b0dd-2cf1c7cb5ee6",
   "metadata": {},
   "outputs": [
    {
     "data": {
      "text/html": [
       "<div>\n",
       "<style scoped>\n",
       "    .dataframe tbody tr th:only-of-type {\n",
       "        vertical-align: middle;\n",
       "    }\n",
       "\n",
       "    .dataframe tbody tr th {\n",
       "        vertical-align: top;\n",
       "    }\n",
       "\n",
       "    .dataframe thead th {\n",
       "        text-align: right;\n",
       "    }\n",
       "</style>\n",
       "<table border=\"1\" class=\"dataframe\">\n",
       "  <thead>\n",
       "    <tr style=\"text-align: right;\">\n",
       "      <th></th>\n",
       "      <th>price</th>\n",
       "      <th>table</th>\n",
       "      <th>depth</th>\n",
       "    </tr>\n",
       "    <tr>\n",
       "      <th>cut</th>\n",
       "      <th></th>\n",
       "      <th></th>\n",
       "      <th></th>\n",
       "    </tr>\n",
       "  </thead>\n",
       "  <tbody>\n",
       "    <tr>\n",
       "      <th>Fair</th>\n",
       "      <td>4358.757764</td>\n",
       "      <td>59.053789</td>\n",
       "      <td>64.041677</td>\n",
       "    </tr>\n",
       "    <tr>\n",
       "      <th>Good</th>\n",
       "      <td>3928.864452</td>\n",
       "      <td>58.694639</td>\n",
       "      <td>62.365879</td>\n",
       "    </tr>\n",
       "    <tr>\n",
       "      <th>Ideal</th>\n",
       "      <td>3457.541970</td>\n",
       "      <td>55.951668</td>\n",
       "      <td>61.709401</td>\n",
       "    </tr>\n",
       "    <tr>\n",
       "      <th>Premium</th>\n",
       "      <td>4584.257704</td>\n",
       "      <td>58.746095</td>\n",
       "      <td>61.264673</td>\n",
       "    </tr>\n",
       "    <tr>\n",
       "      <th>Very Good</th>\n",
       "      <td>3981.759891</td>\n",
       "      <td>57.956150</td>\n",
       "      <td>61.818275</td>\n",
       "    </tr>\n",
       "  </tbody>\n",
       "</table>\n",
       "</div>"
      ],
      "text/plain": [
       "                 price      table      depth\n",
       "cut                                         \n",
       "Fair       4358.757764  59.053789  64.041677\n",
       "Good       3928.864452  58.694639  62.365879\n",
       "Ideal      3457.541970  55.951668  61.709401\n",
       "Premium    4584.257704  58.746095  61.264673\n",
       "Very Good  3981.759891  57.956150  61.818275"
      ]
     },
     "execution_count": 31,
     "metadata": {},
     "output_type": "execute_result"
    }
   ],
   "source": [
    "cols = [\"price\", \"table\", \"depth\"]\n",
    "\n",
    "df.groupby(\"cut\")[cols].mean()"
   ]
  },
  {
   "cell_type": "markdown",
   "id": "b9d09277-4b9c-499e-a89f-4fb2026818ec",
   "metadata": {},
   "source": [
    "### 8. Joining and concatenation"
   ]
  },
  {
   "cell_type": "code",
   "execution_count": null,
   "id": "39d6277d-c5b4-4471-a5f6-8b5d8e8f7cd3",
   "metadata": {},
   "outputs": [],
   "source": []
  },
  {
   "cell_type": "markdown",
   "id": "bfbb8c9a-58f2-4c3a-a7df-ab680899b5a6",
   "metadata": {},
   "source": [
    "### 9. The lazy API in Polars"
   ]
  },
  {
   "cell_type": "code",
   "execution_count": null,
   "id": "95b71392-13a8-425a-9aa1-944f5367a384",
   "metadata": {},
   "outputs": [],
   "source": []
  },
  {
   "cell_type": "markdown",
   "id": "de7d3b1c-efb7-463a-b7c7-582ff6015aa0",
   "metadata": {},
   "source": [
    "### Conclusion"
   ]
  }
 ],
 "metadata": {
  "kernelspec": {
   "display_name": "articles",
   "language": "python",
   "name": "articles"
  },
  "language_info": {
   "codemirror_mode": {
    "name": "ipython",
    "version": 3
   },
   "file_extension": ".py",
   "mimetype": "text/x-python",
   "name": "python",
   "nbconvert_exporter": "python",
   "pygments_lexer": "ipython3",
   "version": "3.9.13"
  }
 },
 "nbformat": 4,
 "nbformat_minor": 5
}
