{
 "cells": [
  {
   "cell_type": "markdown",
   "id": "624fbe81-7581-4e09-90c1-59fbfe3536f6",
   "metadata": {},
   "source": [
    "# A Must-Read Cheatsheet to Switch From Pandas to Lightning-Fast Polars\n",
    "## N most-used Pandas operations/techniques shown in Polars\n",
    "![](images/midjourney.png)"
   ]
  },
  {
   "cell_type": "markdown",
   "id": "083dddc7-b17b-4a8d-8f86-85f0c82da867",
   "metadata": {},
   "source": [
    "### Introduction"
   ]
  },
  {
   "cell_type": "markdown",
   "id": "e46e317b-d8b0-4b14-8817-47872425c3b4",
   "metadata": {
    "tags": []
   },
   "source": [
    "### 0. Reading/writing data"
   ]
  },
  {
   "cell_type": "code",
   "execution_count": 13,
   "id": "868f448e-f7a0-45c5-b353-6263d5641e4e",
   "metadata": {},
   "outputs": [],
   "source": [
    "import polars as pl\n",
    "\n",
    "df = pl.read_csv(\n",
    "    source=\"diamonds.csv\",\n",
    "    has_header=True,  # Default\n",
    "    columns=[\"price\", \"cut\", \"color\"],\n",
    "    separator=\",\",\n",
    "    n_rows=10000,\n",
    "    dtypes={\n",
    "        \"cut\": str\n",
    "    },  # Override datatype mappings\n",
    "    null_values=\"N/A\",  # Consider as NaN\n",
    ")"
   ]
  },
  {
   "cell_type": "code",
   "execution_count": null,
   "id": "116000d0-0b1d-417a-8b7d-4f7189fd2880",
   "metadata": {},
   "outputs": [],
   "source": [
    "df.write_csv(\"data/new_file.csv\")"
   ]
  },
  {
   "cell_type": "code",
   "execution_count": null,
   "id": "2614b8be-bcd6-42f6-95cd-8f4d0e8dd775",
   "metadata": {},
   "outputs": [],
   "source": [
    "df = pl.read_parquet(\n",
    "    source=\"data.parquet\",\n",
    "    columns=[\"list\", \"of\", \"columns\"],\n",
    ")"
   ]
  },
  {
   "cell_type": "code",
   "execution_count": null,
   "id": "672f5c88-ed6a-4bc9-bb9f-597800560e63",
   "metadata": {},
   "outputs": [],
   "source": [
    "df.write_parquet(\n",
    "    file=\"new_data.parquet\",\n",
    "    compression=\"zstd\",  # Default\n",
    ")"
   ]
  },
  {
   "cell_type": "markdown",
   "id": "1abb36f1-97db-4163-bcd4-d087da367b3b",
   "metadata": {},
   "source": [
    "### 1. Creating Series and DataFrames"
   ]
  },
  {
   "cell_type": "code",
   "execution_count": 6,
   "id": "1fcd6ac9-93cc-4ae1-a76a-ffd2c20d2c20",
   "metadata": {},
   "outputs": [],
   "source": [
    "series = pl.Series(\n",
    "    values=[1, 2, 3, 4],\n",
    "    name=\"new_series\",\n",
    ")\n",
    "\n",
    "df1 = pl.DataFrame(\n",
    "    {\n",
    "        \"col1\": [\"a\", \"b\", \"c\"],\n",
    "        \"col2\": [1, 2, 3],\n",
    "    }\n",
    ")\n",
    "\n",
    "df2 = pl.DataFrame(\n",
    "    [\n",
    "        {\"col1\": \"a\", \"col2\": 1},\n",
    "        {\"col1\": \"b\", \"col2\": 2},\n",
    "        {\"col1\": \"c\", \"col2\": 3},\n",
    "    ]\n",
    ")"
   ]
  },
  {
   "cell_type": "markdown",
   "id": "040b5460-8a23-49cc-8536-1d6429ab7dee",
   "metadata": {
    "tags": []
   },
   "source": [
    "### 2. Viewing data"
   ]
  },
  {
   "cell_type": "code",
   "execution_count": 14,
   "id": "800b0e2d-3148-406f-a89c-d05ceb9f76ed",
   "metadata": {},
   "outputs": [
    {
     "data": {
      "text/html": [
       "<div><style>\n",
       ".dataframe > thead > tr > th,\n",
       ".dataframe > tbody > tr > td {\n",
       "  text-align: right;\n",
       "}\n",
       "</style>\n",
       "<small>shape: (5, 3)</small><table border=\"1\" class=\"dataframe\"><thead><tr><th>cut</th><th>color</th><th>price</th></tr><tr><td>str</td><td>str</td><td>i64</td></tr></thead><tbody><tr><td>&quot;Ideal&quot;</td><td>&quot;E&quot;</td><td>326</td></tr><tr><td>&quot;Premium&quot;</td><td>&quot;E&quot;</td><td>326</td></tr><tr><td>&quot;Good&quot;</td><td>&quot;E&quot;</td><td>327</td></tr><tr><td>&quot;Premium&quot;</td><td>&quot;I&quot;</td><td>334</td></tr><tr><td>&quot;Good&quot;</td><td>&quot;J&quot;</td><td>335</td></tr></tbody></table></div>"
      ],
      "text/plain": [
       "shape: (5, 3)\n",
       "┌─────────┬───────┬───────┐\n",
       "│ cut     ┆ color ┆ price │\n",
       "│ ---     ┆ ---   ┆ ---   │\n",
       "│ str     ┆ str   ┆ i64   │\n",
       "╞═════════╪═══════╪═══════╡\n",
       "│ Ideal   ┆ E     ┆ 326   │\n",
       "│ Premium ┆ E     ┆ 326   │\n",
       "│ Good    ┆ E     ┆ 327   │\n",
       "│ Premium ┆ I     ┆ 334   │\n",
       "│ Good    ┆ J     ┆ 335   │\n",
       "└─────────┴───────┴───────┘"
      ]
     },
     "execution_count": 14,
     "metadata": {},
     "output_type": "execute_result"
    }
   ],
   "source": [
    "df.head()"
   ]
  },
  {
   "cell_type": "code",
   "execution_count": 15,
   "id": "6ba2b2d2-7251-4e13-ab0c-3201a9188c2a",
   "metadata": {},
   "outputs": [
    {
     "data": {
      "text/html": [
       "<div><style>\n",
       ".dataframe > thead > tr > th,\n",
       ".dataframe > tbody > tr > td {\n",
       "  text-align: right;\n",
       "}\n",
       "</style>\n",
       "<small>shape: (5, 3)</small><table border=\"1\" class=\"dataframe\"><thead><tr><th>cut</th><th>color</th><th>price</th></tr><tr><td>str</td><td>str</td><td>i64</td></tr></thead><tbody><tr><td>&quot;Very Good&quot;</td><td>&quot;E&quot;</td><td>4704</td></tr><tr><td>&quot;Premium&quot;</td><td>&quot;E&quot;</td><td>4704</td></tr><tr><td>&quot;Premium&quot;</td><td>&quot;E&quot;</td><td>4704</td></tr><tr><td>&quot;Premium&quot;</td><td>&quot;D&quot;</td><td>4704</td></tr><tr><td>&quot;Fair&quot;</td><td>&quot;D&quot;</td><td>4704</td></tr></tbody></table></div>"
      ],
      "text/plain": [
       "shape: (5, 3)\n",
       "┌───────────┬───────┬───────┐\n",
       "│ cut       ┆ color ┆ price │\n",
       "│ ---       ┆ ---   ┆ ---   │\n",
       "│ str       ┆ str   ┆ i64   │\n",
       "╞═══════════╪═══════╪═══════╡\n",
       "│ Very Good ┆ E     ┆ 4704  │\n",
       "│ Premium   ┆ E     ┆ 4704  │\n",
       "│ Premium   ┆ E     ┆ 4704  │\n",
       "│ Premium   ┆ D     ┆ 4704  │\n",
       "│ Fair      ┆ D     ┆ 4704  │\n",
       "└───────────┴───────┴───────┘"
      ]
     },
     "execution_count": 15,
     "metadata": {},
     "output_type": "execute_result"
    }
   ],
   "source": [
    "df.tail()"
   ]
  },
  {
   "cell_type": "code",
   "execution_count": 16,
   "id": "3bbd94cd-3886-47f6-84db-c20af48bef73",
   "metadata": {},
   "outputs": [
    {
     "data": {
      "text/html": [
       "<div><style>\n",
       ".dataframe > thead > tr > th,\n",
       ".dataframe > tbody > tr > td {\n",
       "  text-align: right;\n",
       "}\n",
       "</style>\n",
       "<small>shape: (5, 3)</small><table border=\"1\" class=\"dataframe\"><thead><tr><th>cut</th><th>color</th><th>price</th></tr><tr><td>str</td><td>str</td><td>i64</td></tr></thead><tbody><tr><td>&quot;Ideal&quot;</td><td>&quot;H&quot;</td><td>3985</td></tr><tr><td>&quot;Premium&quot;</td><td>&quot;J&quot;</td><td>3119</td></tr><tr><td>&quot;Good&quot;</td><td>&quot;H&quot;</td><td>3584</td></tr><tr><td>&quot;Very Good&quot;</td><td>&quot;I&quot;</td><td>4641</td></tr><tr><td>&quot;Ideal&quot;</td><td>&quot;G&quot;</td><td>3267</td></tr></tbody></table></div>"
      ],
      "text/plain": [
       "shape: (5, 3)\n",
       "┌───────────┬───────┬───────┐\n",
       "│ cut       ┆ color ┆ price │\n",
       "│ ---       ┆ ---   ┆ ---   │\n",
       "│ str       ┆ str   ┆ i64   │\n",
       "╞═══════════╪═══════╪═══════╡\n",
       "│ Ideal     ┆ H     ┆ 3985  │\n",
       "│ Premium   ┆ J     ┆ 3119  │\n",
       "│ Good      ┆ H     ┆ 3584  │\n",
       "│ Very Good ┆ I     ┆ 4641  │\n",
       "│ Ideal     ┆ G     ┆ 3267  │\n",
       "└───────────┴───────┴───────┘"
      ]
     },
     "execution_count": 16,
     "metadata": {},
     "output_type": "execute_result"
    }
   ],
   "source": [
    "df.sample(5)"
   ]
  },
  {
   "cell_type": "code",
   "execution_count": 17,
   "id": "c88e5e55-0f5c-411b-889e-9c6b4ee4c7bd",
   "metadata": {},
   "outputs": [
    {
     "data": {
      "text/html": [
       "<div><style>\n",
       ".dataframe > thead > tr > th,\n",
       ".dataframe > tbody > tr > td {\n",
       "  text-align: right;\n",
       "}\n",
       "</style>\n",
       "<small>shape: (7, 4)</small><table border=\"1\" class=\"dataframe\"><thead><tr><th>describe</th><th>cut</th><th>color</th><th>price</th></tr><tr><td>str</td><td>str</td><td>str</td><td>f64</td></tr></thead><tbody><tr><td>&quot;count&quot;</td><td>&quot;10000&quot;</td><td>&quot;10000&quot;</td><td>10000.0</td></tr><tr><td>&quot;null_count&quot;</td><td>&quot;0&quot;</td><td>&quot;0&quot;</td><td>0.0</td></tr><tr><td>&quot;mean&quot;</td><td>null</td><td>null</td><td>3406.6043</td></tr><tr><td>&quot;std&quot;</td><td>null</td><td>null</td><td>1110.12915</td></tr><tr><td>&quot;min&quot;</td><td>&quot;Fair&quot;</td><td>&quot;D&quot;</td><td>326.0</td></tr><tr><td>&quot;max&quot;</td><td>&quot;Very Good&quot;</td><td>&quot;J&quot;</td><td>4704.0</td></tr><tr><td>&quot;median&quot;</td><td>null</td><td>null</td><td>3626.5</td></tr></tbody></table></div>"
      ],
      "text/plain": [
       "shape: (7, 4)\n",
       "┌────────────┬───────────┬───────┬────────────┐\n",
       "│ describe   ┆ cut       ┆ color ┆ price      │\n",
       "│ ---        ┆ ---       ┆ ---   ┆ ---        │\n",
       "│ str        ┆ str       ┆ str   ┆ f64        │\n",
       "╞════════════╪═══════════╪═══════╪════════════╡\n",
       "│ count      ┆ 10000     ┆ 10000 ┆ 10000.0    │\n",
       "│ null_count ┆ 0         ┆ 0     ┆ 0.0        │\n",
       "│ mean       ┆ null      ┆ null  ┆ 3406.6043  │\n",
       "│ std        ┆ null      ┆ null  ┆ 1110.12915 │\n",
       "│ min        ┆ Fair      ┆ D     ┆ 326.0      │\n",
       "│ max        ┆ Very Good ┆ J     ┆ 4704.0     │\n",
       "│ median     ┆ null      ┆ null  ┆ 3626.5     │\n",
       "└────────────┴───────────┴───────┴────────────┘"
      ]
     },
     "execution_count": 17,
     "metadata": {},
     "output_type": "execute_result"
    }
   ],
   "source": [
    "df.describe()"
   ]
  },
  {
   "cell_type": "markdown",
   "id": "769e899a-c4fd-42ef-b80f-fe509af5ad46",
   "metadata": {
    "tags": []
   },
   "source": [
    "### 3. What are expressions in Polars?"
   ]
  },
  {
   "cell_type": "code",
   "execution_count": null,
   "id": "73dc13e5-9754-4ebd-a5ef-2c4fcc762270",
   "metadata": {},
   "outputs": [],
   "source": []
  },
  {
   "cell_type": "markdown",
   "id": "b8c4ccc6-a907-445a-b8d9-4855a826cd7f",
   "metadata": {
    "tags": []
   },
   "source": [
    "### 4. Selecting data"
   ]
  },
  {
   "cell_type": "code",
   "execution_count": 26,
   "id": "29cf30f0-1fd0-4b72-a189-e9763470c624",
   "metadata": {},
   "outputs": [],
   "source": [
    "price = df.select(\"price\")\n",
    "price = df.select(pl.col(\"price\"))\n",
    "\n",
    "two_cols = df.select(\n",
    "    pl.col(\"price\", \"cut\")\n",
    ")\n",
    "two_cols = df.select(\n",
    "    [\n",
    "        pl.col(\"price\"),\n",
    "        pl.col(\"cut\"),\n",
    "    ]\n",
    ")"
   ]
  },
  {
   "cell_type": "code",
   "execution_count": 27,
   "id": "e1b13ec6-99f9-4e4c-bdfc-3f851ded95ba",
   "metadata": {},
   "outputs": [
    {
     "data": {
      "text/html": [
       "<div><style>\n",
       ".dataframe > thead > tr > th,\n",
       ".dataframe > tbody > tr > td {\n",
       "  text-align: right;\n",
       "}\n",
       "</style>\n",
       "<small>shape: (5, 2)</small><table border=\"1\" class=\"dataframe\"><thead><tr><th>cut</th><th>color</th></tr><tr><td>str</td><td>str</td></tr></thead><tbody><tr><td>&quot;Ideal&quot;</td><td>&quot;E&quot;</td></tr><tr><td>&quot;Premium&quot;</td><td>&quot;E&quot;</td></tr><tr><td>&quot;Good&quot;</td><td>&quot;E&quot;</td></tr><tr><td>&quot;Premium&quot;</td><td>&quot;I&quot;</td></tr><tr><td>&quot;Good&quot;</td><td>&quot;J&quot;</td></tr></tbody></table></div>"
      ],
      "text/plain": [
       "shape: (5, 2)\n",
       "┌─────────┬───────┐\n",
       "│ cut     ┆ color │\n",
       "│ ---     ┆ ---   │\n",
       "│ str     ┆ str   │\n",
       "╞═════════╪═══════╡\n",
       "│ Ideal   ┆ E     │\n",
       "│ Premium ┆ E     │\n",
       "│ Good    ┆ E     │\n",
       "│ Premium ┆ I     │\n",
       "│ Good    ┆ J     │\n",
       "└─────────┴───────┘"
      ]
     },
     "execution_count": 27,
     "metadata": {},
     "output_type": "execute_result"
    }
   ],
   "source": [
    "df.select(pl.exclude(\"price\")).head()"
   ]
  },
  {
   "cell_type": "code",
   "execution_count": 29,
   "id": "5a58c705-258a-4207-87b4-71cf8bf8037f",
   "metadata": {},
   "outputs": [
    {
     "data": {
      "text/html": [
       "<div><style>\n",
       ".dataframe > thead > tr > th,\n",
       ".dataframe > tbody > tr > td {\n",
       "  text-align: right;\n",
       "}\n",
       "</style>\n",
       "<small>shape: (5, 2)</small><table border=\"1\" class=\"dataframe\"><thead><tr><th>cut</th><th>color</th></tr><tr><td>str</td><td>str</td></tr></thead><tbody><tr><td>&quot;Ideal&quot;</td><td>&quot;E&quot;</td></tr><tr><td>&quot;Premium&quot;</td><td>&quot;E&quot;</td></tr><tr><td>&quot;Good&quot;</td><td>&quot;E&quot;</td></tr><tr><td>&quot;Premium&quot;</td><td>&quot;I&quot;</td></tr><tr><td>&quot;Good&quot;</td><td>&quot;J&quot;</td></tr></tbody></table></div>"
      ],
      "text/plain": [
       "shape: (5, 2)\n",
       "┌─────────┬───────┐\n",
       "│ cut     ┆ color │\n",
       "│ ---     ┆ ---   │\n",
       "│ str     ┆ str   │\n",
       "╞═════════╪═══════╡\n",
       "│ Ideal   ┆ E     │\n",
       "│ Premium ┆ E     │\n",
       "│ Good    ┆ E     │\n",
       "│ Premium ┆ I     │\n",
       "│ Good    ┆ J     │\n",
       "└─────────┴───────┘"
      ]
     },
     "execution_count": 29,
     "metadata": {},
     "output_type": "execute_result"
    }
   ],
   "source": [
    "df.select(pl.col(\"^c.+$\")).head()"
   ]
  },
  {
   "cell_type": "code",
   "execution_count": 50,
   "id": "5a13d795-bc16-4c80-9f0e-8f432f880971",
   "metadata": {},
   "outputs": [
    {
     "data": {
      "text/html": [
       "<div><style>\n",
       ".dataframe > thead > tr > th,\n",
       ".dataframe > tbody > tr > td {\n",
       "  text-align: right;\n",
       "}\n",
       "</style>\n",
       "<small>shape: (5, 7)</small><table border=\"1\" class=\"dataframe\"><thead><tr><th>carat</th><th>depth</th><th>table</th><th>price</th><th>x</th><th>y</th><th>z</th></tr><tr><td>f64</td><td>f64</td><td>f64</td><td>i64</td><td>f64</td><td>f64</td><td>f64</td></tr></thead><tbody><tr><td>0.23</td><td>61.5</td><td>55.0</td><td>326</td><td>3.95</td><td>3.98</td><td>2.43</td></tr><tr><td>0.21</td><td>59.8</td><td>61.0</td><td>326</td><td>3.89</td><td>3.84</td><td>2.31</td></tr><tr><td>0.23</td><td>56.9</td><td>65.0</td><td>327</td><td>4.05</td><td>4.07</td><td>2.31</td></tr><tr><td>0.29</td><td>62.4</td><td>58.0</td><td>334</td><td>4.2</td><td>4.23</td><td>2.63</td></tr><tr><td>0.31</td><td>63.3</td><td>58.0</td><td>335</td><td>4.34</td><td>4.35</td><td>2.75</td></tr></tbody></table></div>"
      ],
      "text/plain": [
       "shape: (5, 7)\n",
       "┌───────┬───────┬───────┬───────┬──────┬──────┬──────┐\n",
       "│ carat ┆ depth ┆ table ┆ price ┆ x    ┆ y    ┆ z    │\n",
       "│ ---   ┆ ---   ┆ ---   ┆ ---   ┆ ---  ┆ ---  ┆ ---  │\n",
       "│ f64   ┆ f64   ┆ f64   ┆ i64   ┆ f64  ┆ f64  ┆ f64  │\n",
       "╞═══════╪═══════╪═══════╪═══════╪══════╪══════╪══════╡\n",
       "│ 0.23  ┆ 61.5  ┆ 55.0  ┆ 326   ┆ 3.95 ┆ 3.98 ┆ 2.43 │\n",
       "│ 0.21  ┆ 59.8  ┆ 61.0  ┆ 326   ┆ 3.89 ┆ 3.84 ┆ 2.31 │\n",
       "│ 0.23  ┆ 56.9  ┆ 65.0  ┆ 327   ┆ 4.05 ┆ 4.07 ┆ 2.31 │\n",
       "│ 0.29  ┆ 62.4  ┆ 58.0  ┆ 334   ┆ 4.2  ┆ 4.23 ┆ 2.63 │\n",
       "│ 0.31  ┆ 63.3  ┆ 58.0  ┆ 335   ┆ 4.34 ┆ 4.35 ┆ 2.75 │\n",
       "└───────┴───────┴───────┴───────┴──────┴──────┴──────┘"
      ]
     },
     "execution_count": 50,
     "metadata": {},
     "output_type": "execute_result"
    }
   ],
   "source": [
    "df.select(\n",
    "    pl.col(pl.Int64, pl.Float64)\n",
    ").head()"
   ]
  },
  {
   "cell_type": "markdown",
   "id": "d52272c8-60ea-41aa-896b-c0024e463d52",
   "metadata": {},
   "source": []
  },
  {
   "cell_type": "markdown",
   "id": "69bc9037-e766-4e2e-af4f-15df73daac29",
   "metadata": {
    "tags": []
   },
   "source": [
    "### 5. Filtering data"
   ]
  },
  {
   "cell_type": "markdown",
   "id": "c829b8ac-68d3-44d2-a562-8a0065a54678",
   "metadata": {},
   "source": []
  },
  {
   "cell_type": "code",
   "execution_count": 33,
   "id": "ec60e2c0-a6d1-4a75-8eda-ff0a7fc62cd9",
   "metadata": {},
   "outputs": [
    {
     "data": {
      "text/html": [
       "<div><style>\n",
       ".dataframe > thead > tr > th,\n",
       ".dataframe > tbody > tr > td {\n",
       "  text-align: right;\n",
       "}\n",
       "</style>\n",
       "<small>shape: (5, 3)</small><table border=\"1\" class=\"dataframe\"><thead><tr><th>cut</th><th>color</th><th>price</th></tr><tr><td>str</td><td>str</td><td>i64</td></tr></thead><tbody><tr><td>&quot;Ideal&quot;</td><td>&quot;I&quot;</td><td>552</td></tr><tr><td>&quot;Premium&quot;</td><td>&quot;D&quot;</td><td>552</td></tr><tr><td>&quot;Ideal&quot;</td><td>&quot;D&quot;</td><td>552</td></tr><tr><td>&quot;Ideal&quot;</td><td>&quot;D&quot;</td><td>552</td></tr><tr><td>&quot;Premium&quot;</td><td>&quot;I&quot;</td><td>552</td></tr></tbody></table></div>"
      ],
      "text/plain": [
       "shape: (5, 3)\n",
       "┌─────────┬───────┬───────┐\n",
       "│ cut     ┆ color ┆ price │\n",
       "│ ---     ┆ ---   ┆ ---   │\n",
       "│ str     ┆ str   ┆ i64   │\n",
       "╞═════════╪═══════╪═══════╡\n",
       "│ Ideal   ┆ I     ┆ 552   │\n",
       "│ Premium ┆ D     ┆ 552   │\n",
       "│ Ideal   ┆ D     ┆ 552   │\n",
       "│ Ideal   ┆ D     ┆ 552   │\n",
       "│ Premium ┆ I     ┆ 552   │\n",
       "└─────────┴───────┴───────┘"
      ]
     },
     "execution_count": 33,
     "metadata": {},
     "output_type": "execute_result"
    }
   ],
   "source": [
    "df.filter(\n",
    "    pl.col(\"price\").is_between(\n",
    "        500, 1000\n",
    "    )\n",
    ")"
   ]
  },
  {
   "cell_type": "markdown",
   "id": "d452bad3-88da-4132-a3fa-cb33c61dec88",
   "metadata": {},
   "source": []
  },
  {
   "cell_type": "markdown",
   "id": "a659a069-f459-4a37-8fee-869efeb91352",
   "metadata": {},
   "source": []
  },
  {
   "cell_type": "code",
   "execution_count": 34,
   "id": "196080ca-1821-4cc8-b011-6c7eac956050",
   "metadata": {},
   "outputs": [
    {
     "data": {
      "text/html": [
       "<div><style>\n",
       ".dataframe > thead > tr > th,\n",
       ".dataframe > tbody > tr > td {\n",
       "  text-align: right;\n",
       "}\n",
       "</style>\n",
       "<small>shape: (5, 3)</small><table border=\"1\" class=\"dataframe\"><thead><tr><th>cut</th><th>color</th><th>price</th></tr><tr><td>str</td><td>str</td><td>i64</td></tr></thead><tbody><tr><td>&quot;Ideal&quot;</td><td>&quot;E&quot;</td><td>326</td></tr><tr><td>&quot;Ideal&quot;</td><td>&quot;J&quot;</td><td>340</td></tr><tr><td>&quot;Ideal&quot;</td><td>&quot;J&quot;</td><td>344</td></tr><tr><td>&quot;Ideal&quot;</td><td>&quot;I&quot;</td><td>348</td></tr><tr><td>&quot;Ideal&quot;</td><td>&quot;I&quot;</td><td>403</td></tr></tbody></table></div>"
      ],
      "text/plain": [
       "shape: (5, 3)\n",
       "┌───────┬───────┬───────┐\n",
       "│ cut   ┆ color ┆ price │\n",
       "│ ---   ┆ ---   ┆ ---   │\n",
       "│ str   ┆ str   ┆ i64   │\n",
       "╞═══════╪═══════╪═══════╡\n",
       "│ Ideal ┆ E     ┆ 326   │\n",
       "│ Ideal ┆ J     ┆ 340   │\n",
       "│ Ideal ┆ J     ┆ 344   │\n",
       "│ Ideal ┆ I     ┆ 348   │\n",
       "│ Ideal ┆ I     ┆ 403   │\n",
       "└───────┴───────┴───────┘"
      ]
     },
     "execution_count": 34,
     "metadata": {},
     "output_type": "execute_result"
    }
   ],
   "source": [
    "df.filter(\n",
    "    pl.col(\"cut\") == \"Ideal\"\n",
    ").head()"
   ]
  },
  {
   "cell_type": "markdown",
   "id": "48ee77c8-2685-4f8b-a12d-5b363ad2a9d1",
   "metadata": {},
   "source": []
  },
  {
   "cell_type": "markdown",
   "id": "50c93280-58c0-4bea-a38c-d5919c763c16",
   "metadata": {},
   "source": []
  },
  {
   "cell_type": "code",
   "execution_count": 36,
   "id": "0e5e7c78-3356-4f6b-ba2d-aacb7931c7a8",
   "metadata": {},
   "outputs": [
    {
     "data": {
      "text/html": [
       "<div><style>\n",
       ".dataframe > thead > tr > th,\n",
       ".dataframe > tbody > tr > td {\n",
       "  text-align: right;\n",
       "}\n",
       "</style>\n",
       "<small>shape: (5, 3)</small><table border=\"1\" class=\"dataframe\"><thead><tr><th>cut</th><th>color</th><th>price</th></tr><tr><td>str</td><td>str</td><td>i64</td></tr></thead><tbody><tr><td>&quot;Ideal&quot;</td><td>&quot;E&quot;</td><td>326</td></tr><tr><td>&quot;Premium&quot;</td><td>&quot;E&quot;</td><td>326</td></tr><tr><td>&quot;Good&quot;</td><td>&quot;E&quot;</td><td>327</td></tr><tr><td>&quot;Premium&quot;</td><td>&quot;I&quot;</td><td>334</td></tr><tr><td>&quot;Good&quot;</td><td>&quot;J&quot;</td><td>335</td></tr></tbody></table></div>"
      ],
      "text/plain": [
       "shape: (5, 3)\n",
       "┌─────────┬───────┬───────┐\n",
       "│ cut     ┆ color ┆ price │\n",
       "│ ---     ┆ ---   ┆ ---   │\n",
       "│ str     ┆ str   ┆ i64   │\n",
       "╞═════════╪═══════╪═══════╡\n",
       "│ Ideal   ┆ E     ┆ 326   │\n",
       "│ Premium ┆ E     ┆ 326   │\n",
       "│ Good    ┆ E     ┆ 327   │\n",
       "│ Premium ┆ I     ┆ 334   │\n",
       "│ Good    ┆ J     ┆ 335   │\n",
       "└─────────┴───────┴───────┘"
      ]
     },
     "execution_count": 36,
     "metadata": {},
     "output_type": "execute_result"
    }
   ],
   "source": [
    "df.filter(\n",
    "    pl.col(\"color\").is_in([\"E\", \"J\"])\n",
    "    & pl.col(\"price\")\n",
    "    < 500\n",
    ").head()"
   ]
  },
  {
   "cell_type": "markdown",
   "id": "9ff7565c-6589-4be1-9ab7-0be603b127f8",
   "metadata": {
    "tags": []
   },
   "source": [
    "### 6. Creating new columns"
   ]
  },
  {
   "cell_type": "markdown",
   "id": "12961698-4626-4edd-ba8f-0cc8bc3774f0",
   "metadata": {},
   "source": []
  },
  {
   "cell_type": "markdown",
   "id": "3209e9fe-2b67-4caf-a7dc-b98cc4d91492",
   "metadata": {},
   "source": []
  },
  {
   "cell_type": "code",
   "execution_count": 39,
   "id": "7719b501-97aa-4959-ab6a-97bbc94f79a6",
   "metadata": {},
   "outputs": [],
   "source": [
    "df = df.with_columns(\n",
    "    (pl.col(\"price\") ** 2).alias(\n",
    "        \"new_col\"\n",
    "    )\n",
    ")\n",
    "df = df.with_columns(\n",
    "    (\n",
    "        str(pl.col(\"price\"))\n",
    "        + pl.col(\"cut\")\n",
    "    ).alias(\"new_col2\")\n",
    ")"
   ]
  },
  {
   "cell_type": "markdown",
   "id": "7d9c843f-0110-442c-939d-d1c159f46267",
   "metadata": {},
   "source": []
  },
  {
   "cell_type": "markdown",
   "id": "462ceb64-b9c2-46c8-914a-2b378b41b5c1",
   "metadata": {},
   "source": []
  },
  {
   "cell_type": "markdown",
   "id": "38955ee8-9ca6-483d-9a21-46d36aed65da",
   "metadata": {},
   "source": [
    "### 7. Groupby"
   ]
  },
  {
   "cell_type": "code",
   "execution_count": 41,
   "id": "0a69bf90-6ca0-4ec2-bc3c-9c7055dc4a5c",
   "metadata": {},
   "outputs": [
    {
     "data": {
      "text/html": [
       "<div><style>\n",
       ".dataframe > thead > tr > th,\n",
       ".dataframe > tbody > tr > td {\n",
       "  text-align: right;\n",
       "}\n",
       "</style>\n",
       "<small>shape: (5, 2)</small><table border=\"1\" class=\"dataframe\"><thead><tr><th>cut</th><th>count</th></tr><tr><td>str</td><td>u32</td></tr></thead><tbody><tr><td>&quot;Ideal&quot;</td><td>21551</td></tr><tr><td>&quot;Premium&quot;</td><td>13791</td></tr><tr><td>&quot;Good&quot;</td><td>4906</td></tr><tr><td>&quot;Very Good&quot;</td><td>12082</td></tr><tr><td>&quot;Fair&quot;</td><td>1610</td></tr></tbody></table></div>"
      ],
      "text/plain": [
       "shape: (5, 2)\n",
       "┌───────────┬───────┐\n",
       "│ cut       ┆ count │\n",
       "│ ---       ┆ ---   │\n",
       "│ str       ┆ u32   │\n",
       "╞═══════════╪═══════╡\n",
       "│ Ideal     ┆ 21551 │\n",
       "│ Premium   ┆ 13791 │\n",
       "│ Good      ┆ 4906  │\n",
       "│ Very Good ┆ 12082 │\n",
       "│ Fair      ┆ 1610  │\n",
       "└───────────┴───────┘"
      ]
     },
     "execution_count": 41,
     "metadata": {},
     "output_type": "execute_result"
    }
   ],
   "source": [
    "df = pl.read_csv(\"data/diamonds.csv\")\n",
    "\n",
    "df.groupby(\n",
    "    \"cut\", maintain_order=True\n",
    ").count()"
   ]
  },
  {
   "cell_type": "code",
   "execution_count": 44,
   "id": "5c4eac5f-16de-47d4-8793-b34e756b84cd",
   "metadata": {},
   "outputs": [
    {
     "data": {
      "text/html": [
       "<div><style>\n",
       ".dataframe > thead > tr > th,\n",
       ".dataframe > tbody > tr > td {\n",
       "  text-align: right;\n",
       "}\n",
       "</style>\n",
       "<small>shape: (5, 10)</small><table border=\"1\" class=\"dataframe\"><thead><tr><th>cut</th><th>carat</th><th>color</th><th>clarity</th><th>depth</th><th>table</th><th>price</th><th>x</th><th>y</th><th>z</th></tr><tr><td>str</td><td>u32</td><td>u32</td><td>u32</td><td>u32</td><td>u32</td><td>u32</td><td>u32</td><td>u32</td><td>u32</td></tr></thead><tbody><tr><td>&quot;Ideal&quot;</td><td>21551</td><td>21551</td><td>21551</td><td>21551</td><td>21551</td><td>21551</td><td>21551</td><td>21551</td><td>21551</td></tr><tr><td>&quot;Premium&quot;</td><td>13791</td><td>13791</td><td>13791</td><td>13791</td><td>13791</td><td>13791</td><td>13791</td><td>13791</td><td>13791</td></tr><tr><td>&quot;Good&quot;</td><td>4906</td><td>4906</td><td>4906</td><td>4906</td><td>4906</td><td>4906</td><td>4906</td><td>4906</td><td>4906</td></tr><tr><td>&quot;Very Good&quot;</td><td>12082</td><td>12082</td><td>12082</td><td>12082</td><td>12082</td><td>12082</td><td>12082</td><td>12082</td><td>12082</td></tr><tr><td>&quot;Fair&quot;</td><td>1610</td><td>1610</td><td>1610</td><td>1610</td><td>1610</td><td>1610</td><td>1610</td><td>1610</td><td>1610</td></tr></tbody></table></div>"
      ],
      "text/plain": [
       "shape: (5, 10)\n",
       "┌───────────┬───────┬───────┬─────────┬───┬───────┬───────┬───────┬───────┐\n",
       "│ cut       ┆ carat ┆ color ┆ clarity ┆ … ┆ price ┆ x     ┆ y     ┆ z     │\n",
       "│ ---       ┆ ---   ┆ ---   ┆ ---     ┆   ┆ ---   ┆ ---   ┆ ---   ┆ ---   │\n",
       "│ str       ┆ u32   ┆ u32   ┆ u32     ┆   ┆ u32   ┆ u32   ┆ u32   ┆ u32   │\n",
       "╞═══════════╪═══════╪═══════╪═════════╪═══╪═══════╪═══════╪═══════╪═══════╡\n",
       "│ Ideal     ┆ 21551 ┆ 21551 ┆ 21551   ┆ … ┆ 21551 ┆ 21551 ┆ 21551 ┆ 21551 │\n",
       "│ Premium   ┆ 13791 ┆ 13791 ┆ 13791   ┆ … ┆ 13791 ┆ 13791 ┆ 13791 ┆ 13791 │\n",
       "│ Good      ┆ 4906  ┆ 4906  ┆ 4906    ┆ … ┆ 4906  ┆ 4906  ┆ 4906  ┆ 4906  │\n",
       "│ Very Good ┆ 12082 ┆ 12082 ┆ 12082   ┆ … ┆ 12082 ┆ 12082 ┆ 12082 ┆ 12082 │\n",
       "│ Fair      ┆ 1610  ┆ 1610  ┆ 1610    ┆ … ┆ 1610  ┆ 1610  ┆ 1610  ┆ 1610  │\n",
       "└───────────┴───────┴───────┴─────────┴───┴───────┴───────┴───────┴───────┘"
      ]
     },
     "execution_count": 44,
     "metadata": {},
     "output_type": "execute_result"
    }
   ],
   "source": [
    "df.groupby(\n",
    "    \"cut\", maintain_order=True\n",
    ").agg(pl.col(\"*\").count())"
   ]
  },
  {
   "cell_type": "code",
   "execution_count": 49,
   "id": "70530c46-7904-441c-abaa-1ac631c2d872",
   "metadata": {},
   "outputs": [
    {
     "data": {
      "text/html": [
       "<div><style>\n",
       ".dataframe > thead > tr > th,\n",
       ".dataframe > tbody > tr > td {\n",
       "  text-align: right;\n",
       "}\n",
       "</style>\n",
       "<small>shape: (5, 4)</small><table border=\"1\" class=\"dataframe\"><thead><tr><th>cut</th><th>price</th><th>table</th><th>depth</th></tr><tr><td>str</td><td>f64</td><td>f64</td><td>f64</td></tr></thead><tbody><tr><td>&quot;Ideal&quot;</td><td>3457.54197</td><td>55.951668</td><td>61.709401</td></tr><tr><td>&quot;Premium&quot;</td><td>4584.257704</td><td>58.746095</td><td>61.264673</td></tr><tr><td>&quot;Good&quot;</td><td>3928.864452</td><td>58.694639</td><td>62.365879</td></tr><tr><td>&quot;Very Good&quot;</td><td>3981.759891</td><td>57.95615</td><td>61.818275</td></tr><tr><td>&quot;Fair&quot;</td><td>4358.757764</td><td>59.053789</td><td>64.041677</td></tr></tbody></table></div>"
      ],
      "text/plain": [
       "shape: (5, 4)\n",
       "┌───────────┬─────────────┬───────────┬───────────┐\n",
       "│ cut       ┆ price       ┆ table     ┆ depth     │\n",
       "│ ---       ┆ ---         ┆ ---       ┆ ---       │\n",
       "│ str       ┆ f64         ┆ f64       ┆ f64       │\n",
       "╞═══════════╪═════════════╪═══════════╪═══════════╡\n",
       "│ Ideal     ┆ 3457.54197  ┆ 55.951668 ┆ 61.709401 │\n",
       "│ Premium   ┆ 4584.257704 ┆ 58.746095 ┆ 61.264673 │\n",
       "│ Good      ┆ 3928.864452 ┆ 58.694639 ┆ 62.365879 │\n",
       "│ Very Good ┆ 3981.759891 ┆ 57.95615  ┆ 61.818275 │\n",
       "│ Fair      ┆ 4358.757764 ┆ 59.053789 ┆ 64.041677 │\n",
       "└───────────┴─────────────┴───────────┴───────────┘"
      ]
     },
     "execution_count": 49,
     "metadata": {},
     "output_type": "execute_result"
    }
   ],
   "source": [
    "cols = [\"price\", \"table\", \"depth\"]\n",
    "\n",
    "df.groupby(\n",
    "    \"cut\", maintain_order=True\n",
    ").agg(pl.col(cols).mean())"
   ]
  },
  {
   "cell_type": "markdown",
   "id": "b9d09277-4b9c-499e-a89f-4fb2026818ec",
   "metadata": {},
   "source": [
    "### 8. Joining and concatenation"
   ]
  },
  {
   "cell_type": "markdown",
   "id": "bfbb8c9a-58f2-4c3a-a7df-ab680899b5a6",
   "metadata": {},
   "source": [
    "### 9. The lazy API in Polars"
   ]
  },
  {
   "cell_type": "markdown",
   "id": "de7d3b1c-efb7-463a-b7c7-582ff6015aa0",
   "metadata": {},
   "source": [
    "### Conclusion"
   ]
  }
 ],
 "metadata": {
  "kernelspec": {
   "display_name": "articles",
   "language": "python",
   "name": "articles"
  },
  "language_info": {
   "codemirror_mode": {
    "name": "ipython",
    "version": 3
   },
   "file_extension": ".py",
   "mimetype": "text/x-python",
   "name": "python",
   "nbconvert_exporter": "python",
   "pygments_lexer": "ipython3",
   "version": "3.9.13"
  }
 },
 "nbformat": 4,
 "nbformat_minor": 5
}
