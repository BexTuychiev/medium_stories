{
 "cells": [
  {
   "cell_type": "markdown",
   "id": "577f66a4-fa1e-4258-a49b-f941aa930b97",
   "metadata": {
    "tags": []
   },
   "source": [
    "# Goodbye os.path: 15 Pathlib Tricks to Quickly Master The File System in Python\n",
    "## No headaches and unreadable code from `os.path`\n",
    "![](images/midjourney.png)"
   ]
  },
  {
   "cell_type": "markdown",
   "id": "af842e94-8eb3-43f2-8246-414a9027cc8b",
   "metadata": {},
   "source": [
    "### Introduction"
   ]
  },
  {
   "cell_type": "markdown",
   "id": "4517e6c0-f6f8-461f-a41c-63ba5ebcb576",
   "metadata": {},
   "source": [
    "`os` might be the only library I've despised in Python. And given that there are over 130 thousands libraries, that's saying something. I mean, just look at this:"
   ]
  },
  {
   "cell_type": "markdown",
   "id": "ede4a428-1097-4e09-b21d-8ac391582beb",
   "metadata": {},
   "source": [
    "```python\n",
    "import os\n",
    "\n",
    "dir_path = \"/home/user/documents\"\n",
    "\n",
    "files = [os.path.join(dir_path, f) for f in os.listdir(dir_path) if os.path.isfile(os.path.join(dir_path, f)) and f.endswith(\".txt\")]\n",
    "```"
   ]
  },
  {
   "cell_type": "markdown",
   "id": "76e1fe04-5a51-46ef-82e8-b5c40f445132",
   "metadata": {},
   "source": [
    "It performs the simple task of finding all text files in a directory but the code is an unreadable mess. I pity the person who had to write it (ChatGPT, actually) when they could have written this in `pathlib`:"
   ]
  },
  {
   "cell_type": "markdown",
   "id": "abd6a9b5-464f-4d93-8264-8ca5872fd53f",
   "metadata": {},
   "source": [
    "```python\n",
    "from pathlib import Path\n",
    "\n",
    "files = list(dir_path.glob(\"*.txt\"))\n",
    "```"
   ]
  },
  {
   "cell_type": "markdown",
   "id": "d31d8034-0fad-4843-aa72-d4a1d9d8aeb7",
   "metadata": {},
   "source": [
    "It is almost like people at Python Software Foundation forgot that they could represent file and system paths as objects. This is ironic when virtually everything is an object in Python, even [nothing](https://docs.python.org/3/c-api/none.html). \n",
    "\n",
    "Thankfully they came to their senses in Python 3.4 and added `pathlib` into the standard library. Apart from introducing object-oriented file system paths, `pathlib` came with many benefits, such as highly readably code, consistency in path operations and more Pythonic API.\n",
    "\n",
    "And this long-overdue article of mine will outline some of the best functions/features and tricks of `pathlib` to perform tasks that would have been truly horrible experiences in `os.path`."
   ]
  },
  {
   "cell_type": "markdown",
   "id": "a956ff9b-674a-456f-a151-e09decdf13a4",
   "metadata": {},
   "source": [
    "### Working with paths"
   ]
  },
  {
   "cell_type": "markdown",
   "id": "b8e88ec6-5948-4b78-a339-1c6809b4926e",
   "metadata": {},
   "source": [
    "__1. Creating paths__"
   ]
  },
  {
   "cell_type": "code",
   "execution_count": 1,
   "id": "244092a4-b83f-4952-9875-69fac4313d03",
   "metadata": {},
   "outputs": [
    {
     "data": {
      "text/plain": [
       "PosixPath('/home/bexgboost/articles/2023/4_april/1_pathlib')"
      ]
     },
     "execution_count": 1,
     "metadata": {},
     "output_type": "execute_result"
    }
   ],
   "source": [
    "from pathlib import Path\n",
    "\n",
    "Path.cwd()"
   ]
  },
  {
   "cell_type": "code",
   "execution_count": 2,
   "id": "ed5da822-7fdf-4b2f-9b24-e8d39a972a78",
   "metadata": {},
   "outputs": [
    {
     "data": {
      "text/plain": [
       "PosixPath('/home/bexgboost')"
      ]
     },
     "execution_count": 2,
     "metadata": {},
     "output_type": "execute_result"
    }
   ],
   "source": [
    "Path.home()"
   ]
  },
  {
   "cell_type": "code",
   "execution_count": 3,
   "id": "d72874a3-56f7-4d6d-8d30-42a6b92a0b01",
   "metadata": {},
   "outputs": [
    {
     "name": "stdout",
     "output_type": "stream",
     "text": [
      "data\n",
      "data/census.csv\n"
     ]
    }
   ],
   "source": [
    "data_dir = Path(\".\") / \"data\"\n",
    "data = data_dir / \"census.csv\"\n",
    "\n",
    "print(data_dir)\n",
    "print(data)"
   ]
  },
  {
   "cell_type": "code",
   "execution_count": 4,
   "id": "c5ebbed2-17f0-40f4-a4a9-9f05d3d7b25c",
   "metadata": {},
   "outputs": [
    {
     "data": {
      "text/plain": [
       "True"
      ]
     },
     "execution_count": 4,
     "metadata": {},
     "output_type": "execute_result"
    }
   ],
   "source": [
    "data_dir.exists()"
   ]
  },
  {
   "cell_type": "code",
   "execution_count": 5,
   "id": "74b8c61d-b502-4a26-bd63-5f2e60a4001e",
   "metadata": {},
   "outputs": [
    {
     "data": {
      "text/plain": [
       "False"
      ]
     },
     "execution_count": 5,
     "metadata": {},
     "output_type": "execute_result"
    }
   ],
   "source": [
    "data.exists()"
   ]
  },
  {
   "cell_type": "code",
   "execution_count": 6,
   "id": "b36b2012-da70-4933-85f4-d0d473b0429d",
   "metadata": {},
   "outputs": [
    {
     "data": {
      "text/plain": [
       "True"
      ]
     },
     "execution_count": 6,
     "metadata": {},
     "output_type": "execute_result"
    }
   ],
   "source": [
    "data_dir.is_dir()"
   ]
  },
  {
   "cell_type": "code",
   "execution_count": 7,
   "id": "05d1b58b-b465-4bb4-a622-c010ceb7e70e",
   "metadata": {},
   "outputs": [
    {
     "data": {
      "text/plain": [
       "False"
      ]
     },
     "execution_count": 7,
     "metadata": {},
     "output_type": "execute_result"
    }
   ],
   "source": [
    "data.is_file()"
   ]
  },
  {
   "cell_type": "code",
   "execution_count": 8,
   "id": "44a4dcb5-5045-46a6-a595-5072e1ef1696",
   "metadata": {},
   "outputs": [
    {
     "data": {
      "text/plain": [
       "PosixPath('/home/bexgboost/articles/2023/4_april/1_pathlib/data/census.csv')"
      ]
     },
     "execution_count": 8,
     "metadata": {},
     "output_type": "execute_result"
    }
   ],
   "source": [
    "data.resolve()"
   ]
  },
  {
   "cell_type": "code",
   "execution_count": 9,
   "id": "29543db4-637e-4648-bc3b-47c5c16829fc",
   "metadata": {},
   "outputs": [
    {
     "data": {
      "text/plain": [
       "'data/census.csv'"
      ]
     },
     "execution_count": 9,
     "metadata": {},
     "output_type": "execute_result"
    }
   ],
   "source": [
    "str(data)"
   ]
  },
  {
   "cell_type": "markdown",
   "id": "b6ac1344-04c1-45d4-a662-07c4b17e918f",
   "metadata": {},
   "source": [
    "__2. Path attributes__"
   ]
  },
  {
   "cell_type": "code",
   "execution_count": 10,
   "id": "b4829029-4877-4125-bc68-f63e27ae91e3",
   "metadata": {},
   "outputs": [
    {
     "data": {
      "text/plain": [
       "PosixPath('/home/bexgboost/articles/2023/4_april/1_pathlib/images/midjourney.png')"
      ]
     },
     "execution_count": 10,
     "metadata": {},
     "output_type": "execute_result"
    }
   ],
   "source": [
    "image_file = Path(\n",
    "    \"images/midjourney.png\"\n",
    ").resolve()\n",
    "\n",
    "image_file"
   ]
  },
  {
   "cell_type": "code",
   "execution_count": 11,
   "id": "051c9ffe-2c95-4e27-93ed-ae8405c0457a",
   "metadata": {},
   "outputs": [
    {
     "data": {
      "text/plain": [
       "PosixPath('/home/bexgboost/articles/2023/4_april/1_pathlib/images')"
      ]
     },
     "execution_count": 11,
     "metadata": {},
     "output_type": "execute_result"
    }
   ],
   "source": [
    "image_file.parent"
   ]
  },
  {
   "cell_type": "code",
   "execution_count": 12,
   "id": "8b37e706-447c-4ca5-a5d6-de08629106ee",
   "metadata": {},
   "outputs": [
    {
     "data": {
      "text/plain": [
       "'midjourney.png'"
      ]
     },
     "execution_count": 12,
     "metadata": {},
     "output_type": "execute_result"
    }
   ],
   "source": [
    "image_file.name"
   ]
  },
  {
   "cell_type": "code",
   "execution_count": 13,
   "id": "5a70c308-0862-45d2-8a62-92cb4e5dc3d5",
   "metadata": {},
   "outputs": [
    {
     "data": {
      "text/plain": [
       "'midjourney'"
      ]
     },
     "execution_count": 13,
     "metadata": {},
     "output_type": "execute_result"
    }
   ],
   "source": [
    "image_file.stem"
   ]
  },
  {
   "cell_type": "code",
   "execution_count": 14,
   "id": "e56baa30-c8fe-4bda-a58f-535fdb1ff783",
   "metadata": {},
   "outputs": [
    {
     "data": {
      "text/plain": [
       "'.png'"
      ]
     },
     "execution_count": 14,
     "metadata": {},
     "output_type": "execute_result"
    }
   ],
   "source": [
    "image_file.suffix"
   ]
  },
  {
   "cell_type": "code",
   "execution_count": 15,
   "id": "560ffead-3f87-4ec5-b864-f7853c356a8b",
   "metadata": {},
   "outputs": [
    {
     "data": {
      "text/plain": [
       "'/'"
      ]
     },
     "execution_count": 15,
     "metadata": {},
     "output_type": "execute_result"
    }
   ],
   "source": [
    "image_file.anchor"
   ]
  },
  {
   "cell_type": "code",
   "execution_count": 16,
   "id": "4688abcc-8352-431e-9e8d-a4cd54cc23a0",
   "metadata": {},
   "outputs": [
    {
     "data": {
      "text/plain": [
       "('/',\n",
       " 'home',\n",
       " 'bexgboost',\n",
       " 'articles',\n",
       " '2023',\n",
       " '4_april',\n",
       " '1_pathlib',\n",
       " 'images',\n",
       " 'midjourney.png')"
      ]
     },
     "execution_count": 16,
     "metadata": {},
     "output_type": "execute_result"
    }
   ],
   "source": [
    "image_file.parts"
   ]
  },
  {
   "cell_type": "code",
   "execution_count": 17,
   "id": "1f0520b8-5078-45f0-9bd6-1d10f9a175fa",
   "metadata": {},
   "outputs": [
    {
     "name": "stdout",
     "output_type": "stream",
     "text": [
      "/home/bexgboost/articles/2023/4_april/1_pathlib/images\n",
      "/home/bexgboost/articles/2023/4_april/1_pathlib\n",
      "/home/bexgboost/articles/2023/4_april\n",
      "/home/bexgboost/articles/2023\n",
      "/home/bexgboost/articles\n",
      "/home/bexgboost\n",
      "/home\n",
      "/\n"
     ]
    }
   ],
   "source": [
    "for i in image_file.parents:\n",
    "    print(i)"
   ]
  },
  {
   "cell_type": "markdown",
   "id": "c9de0fb0-86fc-4a09-bceb-800e62485fab",
   "metadata": {},
   "source": [
    "### Working with files"
   ]
  },
  {
   "cell_type": "code",
   "execution_count": 18,
   "id": "1d8a348f-f5e9-4543-89db-8acb1ba3bfd1",
   "metadata": {},
   "outputs": [
    {
     "data": {
      "text/plain": [
       "25"
      ]
     },
     "execution_count": 18,
     "metadata": {},
     "output_type": "execute_result"
    }
   ],
   "source": [
    "markdown = data_dir / \"file.md\"\n",
    "\n",
    "# Create (override) and write text\n",
    "markdown.write_text(\"# This is a test markdown\")"
   ]
  },
  {
   "cell_type": "code",
   "execution_count": 19,
   "id": "dbeb04f1-a3ac-4dc6-a0a2-f1357313b1d2",
   "metadata": {},
   "outputs": [
    {
     "data": {
      "text/plain": [
       "'# This is a test markdown'"
      ]
     },
     "execution_count": 19,
     "metadata": {},
     "output_type": "execute_result"
    }
   ],
   "source": [
    "markdown.read_text()"
   ]
  },
  {
   "cell_type": "code",
   "execution_count": 20,
   "id": "02c314e6-5c79-4e44-8fa6-62fbeb7ad52b",
   "metadata": {},
   "outputs": [
    {
     "data": {
      "text/plain": [
       "1962148"
      ]
     },
     "execution_count": 20,
     "metadata": {},
     "output_type": "execute_result"
    }
   ],
   "source": [
    "len(image_file.read_bytes())"
   ]
  },
  {
   "cell_type": "code",
   "execution_count": 21,
   "id": "946ea08c-aabb-47ee-8a48-9cb01cf75558",
   "metadata": {},
   "outputs": [
    {
     "data": {
      "text/plain": [
       "21"
      ]
     },
     "execution_count": 21,
     "metadata": {},
     "output_type": "execute_result"
    }
   ],
   "source": [
    "markdown.write_text(\"## This is a new line\")"
   ]
  },
  {
   "cell_type": "code",
   "execution_count": 23,
   "id": "4f33d9b9-f3f6-4711-963c-a9d2242c16ba",
   "metadata": {},
   "outputs": [
    {
     "data": {
      "text/plain": [
       "'## This is a new line'"
      ]
     },
     "execution_count": 23,
     "metadata": {},
     "output_type": "execute_result"
    }
   ],
   "source": [
    "markdown.read_text()"
   ]
  },
  {
   "cell_type": "code",
   "execution_count": 24,
   "id": "9033de44-4369-40dd-80b8-797da82d714a",
   "metadata": {
    "tags": []
   },
   "outputs": [
    {
     "data": {
      "text/plain": [
       "'## This is a new line\\n### This is the second line'"
      ]
     },
     "execution_count": 24,
     "metadata": {},
     "output_type": "execute_result"
    }
   ],
   "source": [
    "with markdown.open(mode=\"a\") as file:\n",
    "    file.write(\"\\n### This is the second line\")\n",
    "\n",
    "markdown.read_text()"
   ]
  },
  {
   "cell_type": "code",
   "execution_count": 25,
   "id": "80aa0190-4903-43d3-a6e5-2028c885b7cc",
   "metadata": {},
   "outputs": [
    {
     "data": {
      "text/plain": [
       "PosixPath('data/new_markdown.md')"
      ]
     },
     "execution_count": 25,
     "metadata": {},
     "output_type": "execute_result"
    }
   ],
   "source": [
    "renamed_md = markdown.with_stem(\"new_markdown\")\n",
    "\n",
    "markdown.rename(renamed_md)"
   ]
  },
  {
   "cell_type": "code",
   "execution_count": 28,
   "id": "6af78ee7-60fc-4846-84d8-adc95cc72eaf",
   "metadata": {},
   "outputs": [
    {
     "data": {
      "text/plain": [
       "49"
      ]
     },
     "execution_count": 28,
     "metadata": {},
     "output_type": "execute_result"
    }
   ],
   "source": [
    "renamed_md.stat().st_size"
   ]
  },
  {
   "cell_type": "code",
   "execution_count": 33,
   "id": "f441d5a4-8877-420b-8aea-93c383c37ad0",
   "metadata": {},
   "outputs": [
    {
     "data": {
      "text/plain": [
       "datetime.datetime(2023, 4, 3, 13, 32, 45, 542693)"
      ]
     },
     "execution_count": 33,
     "metadata": {},
     "output_type": "execute_result"
    }
   ],
   "source": [
    "from datetime import datetime\n",
    "\n",
    "modified_timestamp = renamed_md.stat().st_mtime\n",
    "\n",
    "datetime.fromtimestamp(modified_timestamp)"
   ]
  },
  {
   "cell_type": "code",
   "execution_count": 35,
   "id": "687bff1e-d1b9-44d0-9534-1b532e6c5b4f",
   "metadata": {},
   "outputs": [],
   "source": [
    "renamed_md.unlink(missing_ok=True)"
   ]
  },
  {
   "cell_type": "markdown",
   "id": "df1c8dd8-69ed-4da8-b072-6e0e6c2b728c",
   "metadata": {},
   "source": [
    "### Working with directories"
   ]
  },
  {
   "cell_type": "code",
   "execution_count": 37,
   "id": "c7cb6770-d1d5-4175-bdbf-ca51c1886bef",
   "metadata": {},
   "outputs": [
    {
     "data": {
      "text/plain": [
       "False"
      ]
     },
     "execution_count": 37,
     "metadata": {},
     "output_type": "execute_result"
    }
   ],
   "source": [
    "new_dir = (\n",
    "    Path.cwd()\n",
    "    / \"new_dir\"\n",
    "    / \"child_dir\"\n",
    "    / \"grandchild_dir\"\n",
    ")\n",
    "\n",
    "new_dir.exists()"
   ]
  },
  {
   "cell_type": "code",
   "execution_count": 39,
   "id": "0c4ca383-6893-43cf-8252-d4d7476f3bb8",
   "metadata": {},
   "outputs": [],
   "source": [
    "new_dir.mkdir(parents=True, exist_ok=True)"
   ]
  },
  {
   "cell_type": "code",
   "execution_count": null,
   "id": "330c60fe-f77c-4ab1-b3c9-ea1d74f7c62f",
   "metadata": {},
   "outputs": [],
   "source": [
    "# Removes the last child directory\n",
    "new_dir.rmdir()"
   ]
  },
  {
   "cell_type": "markdown",
   "id": "15ab329d-d638-4152-9e57-0238978f90af",
   "metadata": {},
   "source": [
    "```python\n",
    "for p in Path.home().iterdir():\n",
    "    print(p) \n",
    "```\n",
    "\n",
    "```\n",
    "/home/bexgboost/.python_history\n",
    "/home/bexgboost/word_counter.py\n",
    "/home/bexgboost/.azure\n",
    "/home/bexgboost/.npm\n",
    "/home/bexgboost/.nv\n",
    "/home/bexgboost/.julia\n",
    "```"
   ]
  },
  {
   "cell_type": "markdown",
   "id": "185a933a-81b6-41e7-9309-07349d406514",
   "metadata": {},
   "source": [
    "```python\n",
    "home = Path.home()\n",
    "text_files = list(home.glob(\"*.txt\"))\n",
    "\n",
    "len(text_files)\n",
    "```\n",
    "\n",
    "```\n",
    "3\n",
    "```"
   ]
  },
  {
   "cell_type": "code",
   "execution_count": 48,
   "id": "2ea4e49c-4847-493c-bd60-f2565dfa9d2f",
   "metadata": {},
   "outputs": [
    {
     "data": {
      "text/plain": [
       "5116"
      ]
     },
     "execution_count": 48,
     "metadata": {},
     "output_type": "execute_result"
    }
   ],
   "source": [
    "all_text_files = [p for p in home.rglob(\"*.txt\")]\n",
    "\n",
    "len(all_text_files)"
   ]
  },
  {
   "cell_type": "markdown",
   "id": "3ac542b8-e90d-402a-9e77-512b4cf47d30",
   "metadata": {},
   "source": [
    "```python\n",
    "from collections import Counter\n",
    "\n",
    "file_counts = Counter(\n",
    "    path.suffix for path in (home / \"articles\").rglob(\"*\")\n",
    ")\n",
    "\n",
    "file_counts\n",
    "```\n",
    "\n",
    "```\n",
    "Counter({'.py': 12,\n",
    "         '': 1293,\n",
    "         '.md': 1,\n",
    "         '.txt': 7,\n",
    "         '.ipynb': 222,\n",
    "         '.png': 90,\n",
    "         '.mp4': 39})\n",
    "```"
   ]
  },
  {
   "cell_type": "markdown",
   "id": "cdb1edd7-4b5b-4351-8a08-4b3c4c6a9d91",
   "metadata": {},
   "source": [
    "### Conclusion"
   ]
  }
 ],
 "metadata": {
  "kernelspec": {
   "display_name": "articles",
   "language": "python",
   "name": "articles"
  },
  "language_info": {
   "codemirror_mode": {
    "name": "ipython",
    "version": 3
   },
   "file_extension": ".py",
   "mimetype": "text/x-python",
   "name": "python",
   "nbconvert_exporter": "python",
   "pygments_lexer": "ipython3",
   "version": "3.9.13"
  }
 },
 "nbformat": 4,
 "nbformat_minor": 5
}
