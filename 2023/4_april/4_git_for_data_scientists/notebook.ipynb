{
 "cells": [
  {
   "cell_type": "markdown",
   "id": "459fa567-e21d-444d-9ef9-7c939027cc39",
   "metadata": {},
   "source": [
    "# Git For the Modern Data Scientist: 9 Git Concepts You Can't Ignore\n",
    "![](images/galaxy.png)"
   ]
  },
  {
   "cell_type": "markdown",
   "id": "3a8b468f-e2f1-4204-9bb1-923079cb7ae4",
   "metadata": {},
   "source": [
    "### Introduction"
   ]
  },
  {
   "cell_type": "markdown",
   "id": "e8cd77a5-ea05-4caa-a2e1-716b2e3e0d5d",
   "metadata": {},
   "source": [
    "Most data scientists feel like a fish out of water when it comes to Git. There are software engineers who talk about nothing but Git-things and there are data scientists that say \"Huh?\" (I wish I could add a sound to this) every time. \n",
    "\n",
    "That stops today! Since Git is an unignorable tool essential to collaboration, I will break down _nine_ of the most critical Git concepts data scientists must know like the back of their hand. \n",
    "\n",
    "I can promise that you won't be nodding your head in fake understanding next time someone talks about Git or version control.\n",
    "\n",
    "Let's get started!"
   ]
  },
  {
   "cell_type": "markdown",
   "id": "3e5df610-99cf-41ff-9619-d59fa1a9693f",
   "metadata": {},
   "source": [
    "### For the 1000th time..."
   ]
  },
  {
   "attachments": {
    "18cc846f-1dd6-42dc-b2c8-c5fee8c6d3a1.png": {
     "image/png": "[encoded data removed]"
    }
   },
   "cell_type": "markdown",
   "id": "6fb71a78-d796-4ac2-8207-282baa2787b9",
   "metadata": {},
   "source": [
    "- You may have heard it a few hundred times already\n",
    "- But I will err on the side of caution and reiterate\n",
    "- Git is a critical tool to developing machine learning and AI systems\n",
    "- If your idea of machine learning or data science project is a model you produced after tinkering around in a notebook, then Git is not necessary\n",
    "\n",
    "- But if you want to deploy models that others can actually use, Git is a must-know tool\n",
    "\n",
    "![image.png](attachment:18cc846f-1dd6-42dc-b2c8-c5fee8c6d3a1.png)"
   ]
  },
  {
   "cell_type": "markdown",
   "id": "1b7e2fa3-9071-4c0f-8069-9e8db9dc5e26",
   "metadata": {},
   "source": [
    "- You will have lots of code changes, data changes, and so on.\n",
    "- You don't want notebook1, notebook2, notebook_final, notebook_final_finals littering your environment\n",
    "- Git is a very small price to pay to alleviate all these problems and save you hours of headache and manual work\n",
    "- There are two things: machine learning models and machine learning systems\n",
    "- A model is a single file with weights or hyperparameters saved for later\n",
    "- A machine learning system can involve dozens of tiny moving components, all of which produce a single product like ChatGPT"
   ]
  },
  {
   "cell_type": "markdown",
   "id": "24a89e6f-ec47-4741-b2ab-6602106fcc5c",
   "metadata": {},
   "source": [
    "### 0. Repository"
   ]
  },
  {
   "cell_type": "markdown",
   "id": "7cec6598-9088-4aef-b23d-5a6587caff32",
   "metadata": {},
   "source": [
    "- A repository is this: paste the image from Excalidraw\n",
    "- It is just a folder on your machine, regardless of whether it is empty, containing three files or a hundred\n",
    "- A typical machine learning repository usually contains directories to store data/models, code for loading/cleaning/transforming data, selecting/training/saving models and deployment.\n",
    "- There will be other miscellany files like the `.git` folder itself for Git internals, metadata files, etc.\n",
    "- All these combined make up a single repository. \n",
    "- For the purposes of this article, our sample repository will have two files and a single directory"
   ]
  },
  {
   "cell_type": "markdown",
   "id": "a0b72fae-3d50-4f39-a659-de8a54305c7e",
   "metadata": {},
   "source": [
    "### 1. Tracked, untracked"
   ]
  },
  {
   "cell_type": "markdown",
   "id": "6a73b402-ecfc-4f56-9e7f-2ee79aea5fb4",
   "metadata": {},
   "source": [
    "- When you initialize Git inside a directory, by default any existing or new files/directories you create will be untracked by Git\n",
    "- This means any future changes you make to them will be untracked as well\n",
    "- So, you have to put those files under git supervision by calling `git add path/to/file.py`\n",
    "- If you wish to add everything inside the repo to git, call `git add .`\n",
    "- In cases where you want to hide files from Git tracking, you have to create a file called `.gitignore`\n",
    "- Like the name suggests, files added to `.gitignore` won't be indexed or tracked by git for as long as they are in there\n",
    "- You can create the file with `touch .gitignore`\n",
    "- And add files to it in new lines with `file.py >> .gitignore`\n",
    "- Or you can use your IDE if you want to look less cool"
   ]
  },
  {
   "cell_type": "markdown",
   "id": "76f963fc-11e8-4e5f-a42d-36cf6a495740",
   "metadata": {},
   "source": [
    "### 2. Commit"
   ]
  },
  {
   "cell_type": "markdown",
   "id": "1d1b5672-9e60-4755-99e2-c6da06c08282",
   "metadata": {},
   "source": [
    "- A git commit is a precious precious thing\n",
    "- When you call `git commit` on the terminal, you are taking a snapshot of your code base\n",
    "- It will be saved as a time capsule of your code base frozen at a specific point in time\n",
    "- All the commits you have saved will form your Git history or Git tree.\n",
    "- And they also require you to add a message to say what the capsule contains, what are the new changes\n",
    "- Git commit is also a way to organize the linear progression of your repository\n",
    "- By breaking your code changes into discrete, well-defined commits with proper messages, you can map out the progress of your project almost like a book\n",
    "- Then, you can browse through the pages of this git book based on commit hashes\n",
    "- Just like a writer puts real effort into writing each page of a book, you should treat your commits with care\n",
    "- You shouldn't be making them for the sake of committing\n",
    "- Consider them as little pieces of history, and know that future versions of your self and other developers should look at it with delight, rather than disgust\n",
    "- Some common scenarios to commit in a typical ml project:\n",
    "    - Implementing a new feature: writing code that adds a new functionality, like a new function (tested), method or class, training a new model, new data cleaning operation, etc.\n",
    "    - Fixing a bug: documenting bug fixes to existing functions, methods and classes\n",
    "    - Improving performance: writing code that enhances an existing feature like optimizing blocks of code\n",
    "    - Updating docs and dependencies\n",
    "    - Machine learning experiments: in a project, you will run dozens of experiments to choose and tune the best model. Each model run should be tracked as a commit"
   ]
  },
  {
   "cell_type": "markdown",
   "id": "a5617ec3-20fa-4186-ab07-adb828b9dbd5",
   "metadata": {},
   "source": [
    "### 3. Staging area"
   ]
  },
  {
   "cell_type": "markdown",
   "id": "8ff9f4d8-8fcb-4c90-b0e8-82c99a4a0214",
   "metadata": {},
   "source": [
    "- By talking about commits, we have got ahead of ourselves\n",
    "- Before closing the cap of the commit capsule, you should take deliberate action when filling its contents\n",
    "- This involves telling git exactly which changes from which files you want to commit\n",
    "- A single commit might include changes across several files but you may want to commit changes from some of them\n",
    "- This is where we lift the curtains and reveal the staging area\n",
    "- A staging area in Git is used to hold the changes you want to include in the next commit.\n",
    "- To record file changes into the area, you first need to track the files you want with git\n",
    "- This is as easy as calling `git add path/to/file.py path/to/another_file.py`\n",
    "- Then, if you modify any of these files, you can record the changes in it by calling `git add path/to/another_file.py` so that the change will be included in the next commit\n",
    "- So, the commit workflow is this:\n",
    "    1. Track new files with git (only done once)\n",
    "    2. Add changes in tracked files to the staging area with `git add changed_file.txt`\n",
    "    3. Commit the changes in the staging area to history with `git commit -m \"Commit message\"`"
   ]
  },
  {
   "cell_type": "markdown",
   "id": "5a640eb7-d347-4e12-80b2-eac4e1bf64ef",
   "metadata": {},
   "source": [
    "### 4. Hashes and tags"
   ]
  },
  {
   "cell_type": "markdown",
   "id": "600039fe-b741-4a12-9270-fd92d75f8bbc",
   "metadata": {},
   "source": [
    "- All commits in git have hashes so you can point to them more easily\n",
    "- A hash is a string with 40 hexadecimal characters that give each commit unique IDs, like `1a3b5c7d9e2f4g6h8i0j1k2l3m4n5o6p7q8r9s0t`\n",
    "- They make it easier to switch between commits (different versions of your codebase) with `git checkout HASH`. \n",
    "- Note that you only have to provide the first few characters of the hash like the first 5-10, not the all 40 characters\n",
    "- You can list all your commits with their hashes with `git log` (this shows the commit author and the commit message)\n",
    "- Or list only their message with the first 7 characters with `git log --oneline`\n",
    "- If hashes intimidate you, there are also git tags\n",
    "- A git tag is a friendly nickname you can give to some important commits to remember and refer to them more easily\n",
    "- You can give out tags to commits where you wrote an important feature, release a new version of your code base like v1.0.0 or fine-tuned your best model like `random_forest_best`\n",
    "- Think of tags as little milestones that stand out among all your commit IDs.\n"
   ]
  },
  {
   "cell_type": "markdown",
   "id": "5a8d2a62-db68-4730-95f5-5185c40a7fd4",
   "metadata": {},
   "source": [
    "### 5. Branch"
   ]
  },
  {
   "cell_type": "markdown",
   "id": "0b4f81c6-0be5-4877-926d-65b30794a99a",
   "metadata": {},
   "source": [
    "- Branches are the bread and butter of git, after commits \n",
    "- 99% of the time, you will be working in a git branch\n",
    "- Mostly, it will be the `main` or `master` branch\n",
    "- You can think of them as alternate realities for your code base\n",
    "- By creating a git branch, you can test and experiment with new features, ideas and fixes without the fear that you will mess up your code base\n",
    "- For example, you can test a new segmentation algorithm for a computer vision task in a new branch without disrupting the main code base\n",
    "- Branches are also very cheap\n",
    "- When you call `git branch new_branch_name`, git creates a pseudo-copy of all the files in the repo without actually duplicating them\n",
    "- Then, after you tinker around with your new ideas in a branch, you can either delete the branch if the idea doesn't look promising or merge it to the main development branch"
   ]
  },
  {
   "cell_type": "markdown",
   "id": "7351b3fb-b853-4fe6-885f-a22522465c58",
   "metadata": {},
   "source": [
    "### 6. Merge"
   ]
  },
  {
   "cell_type": "markdown",
   "id": "5e3da6d8-c719-4cc0-b806-5aa88b7ea874",
   "metadata": {},
   "source": [
    "- Like I mentioned, a git merge is a fancy party where two or even more branches come together to create a single thicker branch\n",
    "- When you merge branches, git takes the code from each branch and combines them into a single cohesive codebase.\n",
    "- If there are overlapping changes in the branches, like both branches include changes made to lines 5-10 in `train.py`, git raises a merge conflict\n",
    "- Basically, git asks you to decide which changes from the two versions of the file you want to keep\n",
    "- Solving merge conflicts without swearing, and boiling from the ears is a rare skill developed over time. So, I won't talk much about them refer you to this excellent article.\n",
    "\n",
    "https://www.atlassian.com/git/tutorials/using-branches/merge-conflicts"
   ]
  },
  {
   "cell_type": "markdown",
   "id": "dc613aa8-46e0-4453-8deb-8eefe7f7f434",
   "metadata": {},
   "source": [
    "### 7. HEAD"
   ]
  },
  {
   "cell_type": "markdown",
   "id": "efa1e239-9af4-44dc-99c3-6e8e91b7b414",
   "metadata": {},
   "source": [
    "- How does git know which branch or commit you are at?\n",
    "- It uses a special pointer called HEAD\n",
    "- HEAD is basically you\n",
    "- Wherever you are, HEAD follows you in git\n",
    "- 99% of the time, HEAD will be pointing to the latest commit in the current branch\n",
    "- If you make a new commit, HEAD will move on to that\n",
    "- If you switch to a new branch or an old branch, HEAD will switch to the last commit in that branch\n",
    "- HEAD is useful when comparing the changes in different commits to each other\n",
    "- For example, calling `git diff HEAD~1` will compare the latest commit to the commit immediately before it\n",
    "- This means `HEAD~n` refers to nth commit _before_ wherever the HEAD is\n",
    "- There is also the detached HEAD state\n",
    "- This happens when, instead of switching to a branch with `git checkout branch_name`, you switch to a commit with `git checkout commit_hash`\n",
    "- Any changes or commits you make in detached HEAD state will be isolated or orphaned and won't be part of your Git history\n",
    "- The reason is that HEAD is well, the head of branches, it attaches itself to branch tips or heads, not its stomach or legs.\n",
    "- So, if you want to make changes in detached HEAD, you should call `git checkout -b new_branch` to create a new branch at the current commit. This gets you out of the state and moves the HEAD. \n"
   ]
  },
  {
   "cell_type": "markdown",
   "id": "6f5637e4-cc78-4d3a-a679-1d4f678e0e32",
   "metadata": {},
   "source": [
    "### 8. Stash"
   ]
  },
  {
   "cell_type": "markdown",
   "id": "7b83a803-2882-4016-ad85-ac7d3cd2ff86",
   "metadata": {},
   "source": [
    "- One of my favorite features of Git is stashes\n",
    "- You can think of git stashes as hiding places for your dirty laundry\n",
    "- When you call `git stash`, it automatically stashes or hides both staged and unstaged changes in your current working directory\n",
    "- and everything reverts to the last commit's version\n",
    "- Note that git stash doesn't hide untracked files. For that, you would have to include the `-u` tag. \n",
    "- Then, in any branch or anywhere down the git tree, you can call `git stash apply` or `git stash pop` to apply the stashed changes to the working directory"
   ]
  },
  {
   "cell_type": "markdown",
   "id": "713ee78d-7ac9-4cf6-b9a8-b0a8b40cf804",
   "metadata": {},
   "source": [
    "### 9. GitHub"
   ]
  },
  {
   "cell_type": "markdown",
   "id": "b2b63a95-fee2-416a-93a4-8f88f2483c4d",
   "metadata": {},
   "source": [
    "- So the age-old question, what is the difference between Git and GitHub?\n",
    "- This is like asking the difference between a burger and a cheeseburger\n",
    "- Git is a version control system that holds a repository together\n",
    "- GitHub on the other hand is a web-based platform used to store repositories controlled by Git\n",
    "- By storing your git repos on such platforms, you make them open to collaboration with others\n",
    "- While Git is still immensely useful even when you work on repos on your own, it really shines when the repo is open for collaboration\n",
    "- If your repo is only on your local machine, people can't collaborate on it\n",
    "- So, think of GitHub as a remote mirror of your local repo that people can clone, fork, and suggest pull requests \n",
    "- And if these terms sound alien to you, stick around for my next article where I explain 9 GitHub concepts that will clear the confusion right away"
   ]
  },
  {
   "cell_type": "markdown",
   "id": "5a120f3e-3fad-4daf-82ff-99a3aec05146",
   "metadata": {},
   "source": [
    "### Wrap"
   ]
  }
 ],
 "metadata": {
  "kernelspec": {
   "display_name": "articles",
   "language": "python",
   "name": "articles"
  },
  "language_info": {
   "codemirror_mode": {
    "name": "ipython",
    "version": 3
   },
   "file_extension": ".py",
   "mimetype": "text/x-python",
   "name": "python",
   "nbconvert_exporter": "python",
   "pygments_lexer": "ipython3",
   "version": "3.9.13"
  }
 },
 "nbformat": 4,
 "nbformat_minor": 5
}
