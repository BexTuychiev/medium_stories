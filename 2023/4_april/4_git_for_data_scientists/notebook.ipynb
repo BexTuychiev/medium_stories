{
 "cells": [
  {
   "cell_type": "markdown",
   "id": "459fa567-e21d-444d-9ef9-7c939027cc39",
   "metadata": {},
   "source": [
    "# Git For the Modern Data Scientist: 9 Concepts You Can't Ignore\n",
    "![](images/galaxy.png)"
   ]
  },
  {
   "cell_type": "markdown",
   "id": "3a8b468f-e2f1-4204-9bb1-923079cb7ae4",
   "metadata": {},
   "source": [
    "### Introduction"
   ]
  },
  {
   "cell_type": "markdown",
   "id": "e8cd77a5-ea05-4caa-a2e1-716b2e3e0d5d",
   "metadata": {},
   "source": [
    "Most data scientists feel like a fish out of water when it comes to Git. There are software engineers who talk about nothing but Git-things and there are data scientists that say \"Huh?\" - I wish I could add a sound here - every time. \n",
    "\n",
    "That stops today! Since Git is an unignorable tool essential to collaboration, I will break down nine of the most critical Git concepts data scientists must know like the back of their hand. \n",
    "\n",
    "I can promise that you won't be nodding your head in fake understanding next time someone talks about Git or version control.\n",
    "\n",
    "Let's get started!"
   ]
  },
  {
   "cell_type": "markdown",
   "id": "24a89e6f-ec47-4741-b2ab-6602106fcc5c",
   "metadata": {},
   "source": [
    "### 0. "
   ]
  },
  {
   "cell_type": "markdown",
   "id": "641e4469-2997-4701-8990-dba49071c5f6",
   "metadata": {},
   "source": [
    "### "
   ]
  },
  {
   "cell_type": "markdown",
   "id": "a5617ec3-20fa-4186-ab07-adb828b9dbd5",
   "metadata": {},
   "source": [
    "### "
   ]
  },
  {
   "cell_type": "markdown",
   "id": "5a640eb7-d347-4e12-80b2-eac4e1bf64ef",
   "metadata": {},
   "source": [
    "### "
   ]
  },
  {
   "cell_type": "markdown",
   "id": "5a8d2a62-db68-4730-95f5-5185c40a7fd4",
   "metadata": {},
   "source": [
    "### "
   ]
  },
  {
   "cell_type": "markdown",
   "id": "7351b3fb-b853-4fe6-885f-a22522465c58",
   "metadata": {},
   "source": [
    "### "
   ]
  },
  {
   "cell_type": "markdown",
   "id": "dc613aa8-46e0-4453-8deb-8eefe7f7f434",
   "metadata": {},
   "source": [
    "### "
   ]
  },
  {
   "cell_type": "markdown",
   "id": "be5eab3b-0434-4386-a3cf-e204b864a8ab",
   "metadata": {},
   "source": [
    "### "
   ]
  },
  {
   "cell_type": "markdown",
   "id": "5a120f3e-3fad-4daf-82ff-99a3aec05146",
   "metadata": {},
   "source": [
    "### Wrap"
   ]
  }
 ],
 "metadata": {
  "kernelspec": {
   "display_name": "articles",
   "language": "python",
   "name": "articles"
  },
  "language_info": {
   "codemirror_mode": {
    "name": "ipython",
    "version": 3
   },
   "file_extension": ".py",
   "mimetype": "text/x-python",
   "name": "python",
   "nbconvert_exporter": "python",
   "pygments_lexer": "ipython3",
   "version": "3.9.13"
  }
 },
 "nbformat": 4,
 "nbformat_minor": 5
}
