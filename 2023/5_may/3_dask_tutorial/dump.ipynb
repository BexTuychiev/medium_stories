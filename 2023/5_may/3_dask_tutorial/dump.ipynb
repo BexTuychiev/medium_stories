{
 "cells": [
  {
   "cell_type": "markdown",
   "id": "3235b6c5-7d61-4b6b-adc0-5567c154d57f",
   "metadata": {},
   "source": [
    "# Boosting Your Data Science Workflow with Dask: A Comprehensive Guide"
   ]
  },
  {
   "cell_type": "markdown",
   "id": "463a1161-7150-4508-96f1-bb2e45c1edd1",
   "metadata": {},
   "source": [
    "### Introduction"
   ]
  },
  {
   "cell_type": "markdown",
   "id": "4b47a3ec-c47a-4a30-af49-4ea0c8d5ec39",
   "metadata": {},
   "source": [
    "When Wes McKinney started writing Pandas, he had a rule of thumb: for Pandas to work optimally, the machine's RAM size must be 5-10 times larger than the dataset in question. This rule was easy to follow around 2010 but it is 2023. \n",
    "\n",
    "In 2020 already, most real-world datasets could easily crash common everyday laptops and machines with their massive sizes. Predicting this problem long before it became such a burning issue, a solution was released in 2015.\n",
    "\n",
    "Dask is an open-source library released by the developers of Anaconda to address the need for scalable and efficient computing on large datasets that exceed the memory capacity of a single machine.\n",
    "\n",
    "This tutorial will give a thorough introduction to this library and its most important features like Data DataFrames, Arrays and Bags (yes, you read it right) interfaces."
   ]
  },
  {
   "cell_type": "markdown",
   "id": "cc7eb045-d436-464b-b9cb-d30cb53bae0a",
   "metadata": {},
   "source": [
    "### Setting Up Dask"
   ]
  },
  {
   "cell_type": "markdown",
   "id": "c2cb8487-fbf8-46ab-86d4-33d85aad00ce",
   "metadata": {},
   "source": [
    "Like any other library, Dask can be installed in three ways: conda, pip and from source.\n",
    "\n",
    "Since this is an introductory article on Dask, we won't cover the last installation method, as it is for maintainers.\n",
    "\n",
    "If you use Anaconda, Dask is included in your default installation (which is a mark of how popular the library is). If you wish to reinstall or upgrade it, you can use the `install` command:\n",
    "\n",
    "```python\n",
    "conda install dask\n",
    "```\n",
    "\n",
    "The PIP alternative of the above is the following:\n",
    "\n",
    "```python\n",
    "pip install \"dask[complete]\"\n",
    "```\n",
    "\n",
    "Adding the `[complete]` extension also installs the required dependencies of Dask, eliminating the need to install NumPy, Pandas and Tornado manually.\n",
    "\n",
    "You can check if the installation was successful by looking at the library version:"
   ]
  },
  {
   "cell_type": "markdown",
   "id": "ff868a2d-169b-4f0d-bacd-0dafdad71dc4",
   "metadata": {},
   "source": [
    "```python\n",
    "import dask\n",
    "\n",
    "dask.__version__\n",
    "```\n",
    "\n",
    "```\n",
    "'2023.5.0'\n",
    "```"
   ]
  },
  {
   "cell_type": "markdown",
   "id": "88110e92-a981-440b-95be-5f62dedade4d",
   "metadata": {},
   "source": [
    "Most of your time spent working with Dask will be focused on three interfaces: Dask DataFrames, Arrays and Bag. Let's import them to use for the rest of the articlea along with `numpy` and `pandas`:"
   ]
  },
  {
   "cell_type": "code",
   "execution_count": 1,
   "id": "6f6b9a98-58fd-45a6-ad8c-ae9c6f8e9a1f",
   "metadata": {},
   "outputs": [],
   "source": [
    "import dask.array as da\n",
    "import dask.bag as db\n",
    "import dask.dataframe as dd\n",
    "import numpy as np\n",
    "import pandas as pd"
   ]
  },
  {
   "cell_type": "markdown",
   "id": "4057bab6-e5e3-422b-9bbf-2792b3a65b2a",
   "metadata": {},
   "source": [
    "### Basic Concepts of Dask"
   ]
  },
  {
   "cell_type": "markdown",
   "id": "1aa307f5-264f-4162-ab88-55a742f594f9",
   "metadata": {},
   "source": [
    "On a high-level, you can think of Dask as a wrapper that extends the capabilities of traditional tools like Pandas, NumPy and Spark to handle larger-than-memory datasets.\n",
    "\n",
    "When faced with large objects like larger-than-memory arrays (vectors) or matrices (dataframes), Dask breaks them up into chunks, also called partitions. \n",
    "\n",
    "For example, consider the array of 12 random numbers in both NumPy and Dask:"
   ]
  },
  {
   "cell_type": "code",
   "execution_count": 2,
   "id": "23e28d16-5e91-41ed-aaac-4c6c03c757b8",
   "metadata": {},
   "outputs": [
    {
     "data": {
      "text/plain": [
       "array([0.9261154 , 0.87774082, 0.87078873, 0.22309476, 0.24575174,\n",
       "       0.04182393, 0.31476305, 0.04599283, 0.62354124, 0.97597454,\n",
       "       0.23923457, 0.81201211])"
      ]
     },
     "execution_count": 2,
     "metadata": {},
     "output_type": "execute_result"
    }
   ],
   "source": [
    "narr = np.random.rand(12)\n",
    "\n",
    "narr"
   ]
  },
  {
   "cell_type": "code",
   "execution_count": 3,
   "id": "325b719e-8935-42b1-9f91-a04211f26e9c",
   "metadata": {},
   "outputs": [
    {
     "data": {
      "text/html": [
       "<table>\n",
       "    <tr>\n",
       "        <td>\n",
       "            <table style=\"border-collapse: collapse;\">\n",
       "                <thead>\n",
       "                    <tr>\n",
       "                        <td> </td>\n",
       "                        <th> Array </th>\n",
       "                        <th> Chunk </th>\n",
       "                    </tr>\n",
       "                </thead>\n",
       "                <tbody>\n",
       "                    \n",
       "                    <tr>\n",
       "                        <th> Bytes </th>\n",
       "                        <td> 96 B </td>\n",
       "                        <td> 24 B </td>\n",
       "                    </tr>\n",
       "                    \n",
       "                    <tr>\n",
       "                        <th> Shape </th>\n",
       "                        <td> (12,) </td>\n",
       "                        <td> (3,) </td>\n",
       "                    </tr>\n",
       "                    <tr>\n",
       "                        <th> Dask graph </th>\n",
       "                        <td colspan=\"2\"> 4 chunks in 1 graph layer </td>\n",
       "                    </tr>\n",
       "                    <tr>\n",
       "                        <th> Data type </th>\n",
       "                        <td colspan=\"2\"> float64 numpy.ndarray </td>\n",
       "                    </tr>\n",
       "                </tbody>\n",
       "            </table>\n",
       "        </td>\n",
       "        <td>\n",
       "        <svg width=\"170\" height=\"87\" style=\"stroke:rgb(0,0,0);stroke-width:1\" >\n",
       "\n",
       "  <!-- Horizontal lines -->\n",
       "  <line x1=\"0\" y1=\"0\" x2=\"120\" y2=\"0\" style=\"stroke-width:2\" />\n",
       "  <line x1=\"0\" y1=\"37\" x2=\"120\" y2=\"37\" style=\"stroke-width:2\" />\n",
       "\n",
       "  <!-- Vertical lines -->\n",
       "  <line x1=\"0\" y1=\"0\" x2=\"0\" y2=\"37\" style=\"stroke-width:2\" />\n",
       "  <line x1=\"30\" y1=\"0\" x2=\"30\" y2=\"37\" />\n",
       "  <line x1=\"60\" y1=\"0\" x2=\"60\" y2=\"37\" />\n",
       "  <line x1=\"90\" y1=\"0\" x2=\"90\" y2=\"37\" />\n",
       "  <line x1=\"120\" y1=\"0\" x2=\"120\" y2=\"37\" style=\"stroke-width:2\" />\n",
       "\n",
       "  <!-- Colored Rectangle -->\n",
       "  <polygon points=\"0.0,0.0 120.0,0.0 120.0,37.56358655585696 0.0,37.56358655585696\" style=\"fill:#ECB172A0;stroke-width:0\"/>\n",
       "\n",
       "  <!-- Text -->\n",
       "  <text x=\"60.000000\" y=\"57.563587\" font-size=\"1.0rem\" font-weight=\"100\" text-anchor=\"middle\" >12</text>\n",
       "  <text x=\"140.000000\" y=\"18.781793\" font-size=\"1.0rem\" font-weight=\"100\" text-anchor=\"middle\" transform=\"rotate(0,140.000000,18.781793)\">1</text>\n",
       "</svg>\n",
       "        </td>\n",
       "    </tr>\n",
       "</table>"
      ],
      "text/plain": [
       "dask.array<array, shape=(12,), dtype=float64, chunksize=(3,), chunktype=numpy.ndarray>"
      ]
     },
     "execution_count": 3,
     "metadata": {},
     "output_type": "execute_result"
    }
   ],
   "source": [
    "darr = da.from_array(narr, chunks=3)\n",
    "\n",
    "darr"
   ]
  },
  {
   "cell_type": "markdown",
   "id": "1f9a8d41-3db3-4f65-967d-a7de8a33e51d",
   "metadata": {},
   "source": [
    "The image above shows that the Dask array contains 4 chunks as we set `chunks` to 3. Under the hood, each chunk is a NumPy array in itself.\n",
    "\n",
    "Now, let's consider a much large example. We will create two 10k by 100k array (1 billion elements) and perform element-wise multiplication in both libraries and measure the performance:"
   ]
  },
  {
   "cell_type": "code",
   "execution_count": 8,
   "id": "521050aa-48c9-4a64-91d8-4b7531f34588",
   "metadata": {},
   "outputs": [],
   "source": [
    "# Create the NumPy arrays\n",
    "arr1 = np.random.rand(10_000, 100_000)\n",
    "arr2 = np.random.rand(10_000, 100_000)\n",
    "\n",
    "# Create the Dask arrays\n",
    "darr1 = da.from_array(arr1, chunks=(1_000, 10_000))\n",
    "darr2 = da.from_array(arr2, chunks=(1_000, 10_000))"
   ]
  },
  {
   "cell_type": "code",
   "execution_count": 9,
   "id": "2ef44123-4d25-4c02-8cff-3dea6ad0ac9b",
   "metadata": {},
   "outputs": [
    {
     "name": "stdout",
     "output_type": "stream",
     "text": [
      "CPU times: user 966 ms, sys: 2.2 s, total: 3.17 s\n",
      "Wall time: 3.19 s\n"
     ]
    }
   ],
   "source": [
    "%%time\n",
    "\n",
    "result_np = np.multiply(arr1, arr2)"
   ]
  },
  {
   "cell_type": "code",
   "execution_count": 10,
   "id": "83f3b7f3-f635-4684-a032-88a70eb280f0",
   "metadata": {},
   "outputs": [
    {
     "name": "stdout",
     "output_type": "stream",
     "text": [
      "CPU times: user 5.94 ms, sys: 22 ms, total: 27.9 ms\n",
      "Wall time: 94.8 ms\n"
     ]
    }
   ],
   "source": [
    "%%time\n",
    "\n",
    "result_dask = da.multiply(darr1, darr2)"
   ]
  },
  {
   "cell_type": "markdown",
   "id": "ee718633-a555-4455-bd1d-af4c02875f03",
   "metadata": {},
   "source": [
    "As you can see, Dask is about 34 times faster than NumPy. The performance gains will only be bigger as the computation and array size increases."
   ]
  },
  {
   "cell_type": "markdown",
   "id": "bcaf8cb7-6d6a-4e02-9929-59fbf62dab39",
   "metadata": {},
   "source": [
    "Dask uses similar approach of chunking and distributing these chunks across all available cores on your machine for other objects as well."
   ]
  },
  {
   "cell_type": "markdown",
   "id": "361b9695-259e-4e2f-b52f-de4a99f316f9",
   "metadata": {},
   "source": [
    "### Dask DataFrames"
   ]
  },
  {
   "cell_type": "markdown",
   "id": "5061d6da-cc12-45d0-b5db-0691a8f05d53",
   "metadata": {},
   "source": [
    "To fully appreciate the benefits Dask, we need a large dataset, one that is preferably over 1 GB in size. Downloading such a dataset to follow along in the tutorial isn't optimal for you, the reader. So, you can use [this script](https://gist.github.com/BexTuychiev/af8076016de7eb9d65d2038a1dd701ef) I put together that generates a synthetic 10 million-row data with 10 numeric and 10 categorical features.\n",
    "\n",
    "The requirement is that you have a machine with at least 12 GB of RAM to run [the script](https://gist.github.com/BexTuychiev/af8076016de7eb9d65d2038a1dd701ef)."
   ]
  },
  {
   "cell_type": "markdown",
   "id": "f0b8023a-3f14-4078-9d06-4a807c093f7d",
   "metadata": {},
   "source": [
    "After you have the `large_dataset.csv` file in your workspace, you can load it with the `read_csv` function of Dask DataFrames interface, `dd`:"
   ]
  },
  {
   "cell_type": "code",
   "execution_count": 5,
   "id": "3ee7b0d8-f7d8-4c7c-98a3-bdb5bfe3c1a8",
   "metadata": {},
   "outputs": [
    {
     "data": {
      "text/html": [
       "<div>\n",
       "<style scoped>\n",
       "    .dataframe tbody tr th:only-of-type {\n",
       "        vertical-align: middle;\n",
       "    }\n",
       "\n",
       "    .dataframe tbody tr th {\n",
       "        vertical-align: top;\n",
       "    }\n",
       "\n",
       "    .dataframe thead th {\n",
       "        text-align: right;\n",
       "    }\n",
       "</style>\n",
       "<table border=\"1\" class=\"dataframe\">\n",
       "  <thead>\n",
       "    <tr style=\"text-align: right;\">\n",
       "      <th></th>\n",
       "      <th>Numeric_0</th>\n",
       "      <th>Numeric_1</th>\n",
       "      <th>Numeric_2</th>\n",
       "      <th>Numeric_3</th>\n",
       "      <th>Numeric_4</th>\n",
       "      <th>Numeric_5</th>\n",
       "      <th>Numeric_6</th>\n",
       "      <th>Numeric_7</th>\n",
       "      <th>Numeric_8</th>\n",
       "      <th>Numeric_9</th>\n",
       "      <th>Categorical_0</th>\n",
       "      <th>Categorical_1</th>\n",
       "      <th>Categorical_2</th>\n",
       "      <th>Categorical_3</th>\n",
       "      <th>Categorical_4</th>\n",
       "      <th>Categorical_5</th>\n",
       "      <th>Categorical_6</th>\n",
       "      <th>Categorical_7</th>\n",
       "      <th>Categorical_8</th>\n",
       "      <th>Categorical_9</th>\n",
       "    </tr>\n",
       "  </thead>\n",
       "  <tbody>\n",
       "    <tr>\n",
       "      <th>0</th>\n",
       "      <td>0.954029</td>\n",
       "      <td>0.196295</td>\n",
       "      <td>0.481501</td>\n",
       "      <td>0.497420</td>\n",
       "      <td>0.307428</td>\n",
       "      <td>0.927494</td>\n",
       "      <td>0.720794</td>\n",
       "      <td>0.424402</td>\n",
       "      <td>0.349461</td>\n",
       "      <td>0.699471</td>\n",
       "      <td>A</td>\n",
       "      <td>K</td>\n",
       "      <td>B</td>\n",
       "      <td>D</td>\n",
       "      <td>N</td>\n",
       "      <td>K</td>\n",
       "      <td>F</td>\n",
       "      <td>R</td>\n",
       "      <td>C</td>\n",
       "      <td>P</td>\n",
       "    </tr>\n",
       "    <tr>\n",
       "      <th>1</th>\n",
       "      <td>0.814167</td>\n",
       "      <td>0.379423</td>\n",
       "      <td>0.196857</td>\n",
       "      <td>0.619969</td>\n",
       "      <td>0.595017</td>\n",
       "      <td>0.478217</td>\n",
       "      <td>0.150928</td>\n",
       "      <td>0.580445</td>\n",
       "      <td>0.292682</td>\n",
       "      <td>0.607309</td>\n",
       "      <td>I</td>\n",
       "      <td>B</td>\n",
       "      <td>J</td>\n",
       "      <td>Y</td>\n",
       "      <td>J</td>\n",
       "      <td>A</td>\n",
       "      <td>R</td>\n",
       "      <td>C</td>\n",
       "      <td>I</td>\n",
       "      <td>P</td>\n",
       "    </tr>\n",
       "    <tr>\n",
       "      <th>2</th>\n",
       "      <td>0.929750</td>\n",
       "      <td>0.470328</td>\n",
       "      <td>0.359956</td>\n",
       "      <td>0.225859</td>\n",
       "      <td>0.659483</td>\n",
       "      <td>0.973900</td>\n",
       "      <td>0.992307</td>\n",
       "      <td>0.782623</td>\n",
       "      <td>0.545566</td>\n",
       "      <td>0.758020</td>\n",
       "      <td>L</td>\n",
       "      <td>C</td>\n",
       "      <td>N</td>\n",
       "      <td>K</td>\n",
       "      <td>C</td>\n",
       "      <td>R</td>\n",
       "      <td>N</td>\n",
       "      <td>R</td>\n",
       "      <td>A</td>\n",
       "      <td>L</td>\n",
       "    </tr>\n",
       "    <tr>\n",
       "      <th>3</th>\n",
       "      <td>0.318181</td>\n",
       "      <td>0.208561</td>\n",
       "      <td>0.515705</td>\n",
       "      <td>0.731841</td>\n",
       "      <td>0.668760</td>\n",
       "      <td>0.753527</td>\n",
       "      <td>0.617363</td>\n",
       "      <td>0.970797</td>\n",
       "      <td>0.775214</td>\n",
       "      <td>0.601348</td>\n",
       "      <td>S</td>\n",
       "      <td>J</td>\n",
       "      <td>E</td>\n",
       "      <td>J</td>\n",
       "      <td>G</td>\n",
       "      <td>G</td>\n",
       "      <td>E</td>\n",
       "      <td>Z</td>\n",
       "      <td>G</td>\n",
       "      <td>D</td>\n",
       "    </tr>\n",
       "    <tr>\n",
       "      <th>4</th>\n",
       "      <td>0.457664</td>\n",
       "      <td>0.496309</td>\n",
       "      <td>0.865614</td>\n",
       "      <td>0.732108</td>\n",
       "      <td>0.051825</td>\n",
       "      <td>0.934005</td>\n",
       "      <td>0.829954</td>\n",
       "      <td>0.583504</td>\n",
       "      <td>0.119855</td>\n",
       "      <td>0.640705</td>\n",
       "      <td>J</td>\n",
       "      <td>M</td>\n",
       "      <td>O</td>\n",
       "      <td>P</td>\n",
       "      <td>Y</td>\n",
       "      <td>Z</td>\n",
       "      <td>X</td>\n",
       "      <td>B</td>\n",
       "      <td>J</td>\n",
       "      <td>H</td>\n",
       "    </tr>\n",
       "  </tbody>\n",
       "</table>\n",
       "</div>"
      ],
      "text/plain": [
       "   Numeric_0  Numeric_1  Numeric_2  Numeric_3  Numeric_4  Numeric_5   \n",
       "0   0.954029   0.196295   0.481501   0.497420   0.307428   0.927494  \\\n",
       "1   0.814167   0.379423   0.196857   0.619969   0.595017   0.478217   \n",
       "2   0.929750   0.470328   0.359956   0.225859   0.659483   0.973900   \n",
       "3   0.318181   0.208561   0.515705   0.731841   0.668760   0.753527   \n",
       "4   0.457664   0.496309   0.865614   0.732108   0.051825   0.934005   \n",
       "\n",
       "   Numeric_6  Numeric_7  Numeric_8  Numeric_9 Categorical_0 Categorical_1   \n",
       "0   0.720794   0.424402   0.349461   0.699471             A             K  \\\n",
       "1   0.150928   0.580445   0.292682   0.607309             I             B   \n",
       "2   0.992307   0.782623   0.545566   0.758020             L             C   \n",
       "3   0.617363   0.970797   0.775214   0.601348             S             J   \n",
       "4   0.829954   0.583504   0.119855   0.640705             J             M   \n",
       "\n",
       "  Categorical_2 Categorical_3 Categorical_4 Categorical_5 Categorical_6   \n",
       "0             B             D             N             K             F  \\\n",
       "1             J             Y             J             A             R   \n",
       "2             N             K             C             R             N   \n",
       "3             E             J             G             G             E   \n",
       "4             O             P             Y             Z             X   \n",
       "\n",
       "  Categorical_7 Categorical_8 Categorical_9  \n",
       "0             R             C             P  \n",
       "1             C             I             P  \n",
       "2             R             A             L  \n",
       "3             Z             G             D  \n",
       "4             B             J             H  "
      ]
     },
     "execution_count": 5,
     "metadata": {},
     "output_type": "execute_result"
    }
   ],
   "source": [
    "import dask.dataframe as dd\n",
    "\n",
    "dask_df = dd.read_csv(\"data/large_dataset.csv\")\n",
    "\n",
    "dask_df.head()"
   ]
  },
  {
   "attachments": {
    "8eba8b1d-e730-4815-8676-ef2d6d9ff66b.png": {
     "image/png": "[encoded data removed]"
    }
   },
   "cell_type": "markdown",
   "id": "82c9c015-f856-42fa-8544-6c76f99c43b1",
   "metadata": {},
   "source": [
    "Even though the file is large, you will notice that the result is fetched almost instantaneously. For even larger files, you can specify the `blocksize` parameter which takes the number of bytes you want to break up the file into.\n",
    "\n",
    "Like Dask Arrays contain chunks of small NumPy arrays, Dask is designed to arrange multiple small Pandas DataFrames along the row-index. \n",
    "\n",
    "![image.png](attachment:8eba8b1d-e730-4815-8676-ef2d6d9ff66b.png)"
   ]
  },
  {
   "cell_type": "markdown",
   "id": "716976f0-58f5-4f4c-85ef-748512a9231a",
   "metadata": {},
   "source": [
    "As you might guess from the `read_csv` function, most of the commonly used syntax and functionality of Pandas API are preserved in Dask. The following are some code blocks that should be familiar from your Pandas days (they are gone now, because you will be switching to Dask in no time)."
   ]
  },
  {
   "cell_type": "markdown",
   "id": "5373fe90-0aae-41a4-bc7c-fee8046b497a",
   "metadata": {},
   "source": [
    "__Selecting columns and element-wise operations__"
   ]
  },
  {
   "cell_type": "code",
   "execution_count": 8,
   "id": "4a7defd8-f507-4830-894d-74374b136f6d",
   "metadata": {},
   "outputs": [
    {
     "data": {
      "text/plain": [
       "0    1.301960\n",
       "1    1.190679\n",
       "2    1.100955\n",
       "3    0.758272\n",
       "4    0.926729\n",
       "dtype: float64"
      ]
     },
     "execution_count": 8,
     "metadata": {},
     "output_type": "execute_result"
    }
   ],
   "source": [
    "result = (\n",
    "    dask_df[\"Numeric_0\"] + dask_df[\"Numeric_9\"] * dask_df[\"Numeric_3\"]\n",
    ")\n",
    "result.compute().head()"
   ]
  },
  {
   "cell_type": "markdown",
   "id": "e2fd53e4-f650-4794-9536-64993a892baa",
   "metadata": {},
   "source": [
    "__Conditional filtering__"
   ]
  },
  {
   "cell_type": "code",
   "execution_count": 9,
   "id": "a2c1b78c-57e9-4e73-9707-d36eb8d78339",
   "metadata": {},
   "outputs": [
    {
     "data": {
      "text/html": [
       "<div>\n",
       "<style scoped>\n",
       "    .dataframe tbody tr th:only-of-type {\n",
       "        vertical-align: middle;\n",
       "    }\n",
       "\n",
       "    .dataframe tbody tr th {\n",
       "        vertical-align: top;\n",
       "    }\n",
       "\n",
       "    .dataframe thead th {\n",
       "        text-align: right;\n",
       "    }\n",
       "</style>\n",
       "<table border=\"1\" class=\"dataframe\">\n",
       "  <thead>\n",
       "    <tr style=\"text-align: right;\">\n",
       "      <th></th>\n",
       "      <th>Numeric_0</th>\n",
       "      <th>Numeric_1</th>\n",
       "      <th>Numeric_2</th>\n",
       "      <th>Numeric_3</th>\n",
       "      <th>Numeric_4</th>\n",
       "      <th>Numeric_5</th>\n",
       "      <th>Numeric_6</th>\n",
       "      <th>Numeric_7</th>\n",
       "      <th>Numeric_8</th>\n",
       "      <th>Numeric_9</th>\n",
       "      <th>Categorical_0</th>\n",
       "      <th>Categorical_1</th>\n",
       "      <th>Categorical_2</th>\n",
       "      <th>Categorical_3</th>\n",
       "      <th>Categorical_4</th>\n",
       "      <th>Categorical_5</th>\n",
       "      <th>Categorical_6</th>\n",
       "      <th>Categorical_7</th>\n",
       "      <th>Categorical_8</th>\n",
       "      <th>Categorical_9</th>\n",
       "    </tr>\n",
       "  </thead>\n",
       "  <tbody>\n",
       "    <tr>\n",
       "      <th>1</th>\n",
       "      <td>0.814167</td>\n",
       "      <td>0.379423</td>\n",
       "      <td>0.196857</td>\n",
       "      <td>0.619969</td>\n",
       "      <td>0.595017</td>\n",
       "      <td>0.478217</td>\n",
       "      <td>0.150928</td>\n",
       "      <td>0.580445</td>\n",
       "      <td>0.292682</td>\n",
       "      <td>0.607309</td>\n",
       "      <td>I</td>\n",
       "      <td>B</td>\n",
       "      <td>J</td>\n",
       "      <td>Y</td>\n",
       "      <td>J</td>\n",
       "      <td>A</td>\n",
       "      <td>R</td>\n",
       "      <td>C</td>\n",
       "      <td>I</td>\n",
       "      <td>P</td>\n",
       "    </tr>\n",
       "    <tr>\n",
       "      <th>9</th>\n",
       "      <td>0.421256</td>\n",
       "      <td>0.700283</td>\n",
       "      <td>0.252628</td>\n",
       "      <td>0.676640</td>\n",
       "      <td>0.814156</td>\n",
       "      <td>0.416240</td>\n",
       "      <td>0.413232</td>\n",
       "      <td>0.460071</td>\n",
       "      <td>0.866812</td>\n",
       "      <td>0.730768</td>\n",
       "      <td>S</td>\n",
       "      <td>N</td>\n",
       "      <td>L</td>\n",
       "      <td>K</td>\n",
       "      <td>Q</td>\n",
       "      <td>A</td>\n",
       "      <td>B</td>\n",
       "      <td>W</td>\n",
       "      <td>O</td>\n",
       "      <td>D</td>\n",
       "    </tr>\n",
       "    <tr>\n",
       "      <th>16</th>\n",
       "      <td>0.282811</td>\n",
       "      <td>0.719339</td>\n",
       "      <td>0.207320</td>\n",
       "      <td>0.976588</td>\n",
       "      <td>0.949429</td>\n",
       "      <td>0.080404</td>\n",
       "      <td>0.990779</td>\n",
       "      <td>0.072801</td>\n",
       "      <td>0.482127</td>\n",
       "      <td>0.163088</td>\n",
       "      <td>I</td>\n",
       "      <td>O</td>\n",
       "      <td>Z</td>\n",
       "      <td>X</td>\n",
       "      <td>A</td>\n",
       "      <td>A</td>\n",
       "      <td>T</td>\n",
       "      <td>M</td>\n",
       "      <td>J</td>\n",
       "      <td>V</td>\n",
       "    </tr>\n",
       "    <tr>\n",
       "      <th>18</th>\n",
       "      <td>0.483087</td>\n",
       "      <td>0.841133</td>\n",
       "      <td>0.025510</td>\n",
       "      <td>0.009140</td>\n",
       "      <td>0.183722</td>\n",
       "      <td>0.325491</td>\n",
       "      <td>0.290477</td>\n",
       "      <td>0.706761</td>\n",
       "      <td>0.589473</td>\n",
       "      <td>0.117201</td>\n",
       "      <td>J</td>\n",
       "      <td>K</td>\n",
       "      <td>W</td>\n",
       "      <td>J</td>\n",
       "      <td>M</td>\n",
       "      <td>A</td>\n",
       "      <td>N</td>\n",
       "      <td>F</td>\n",
       "      <td>V</td>\n",
       "      <td>P</td>\n",
       "    </tr>\n",
       "    <tr>\n",
       "      <th>35</th>\n",
       "      <td>0.192446</td>\n",
       "      <td>0.274116</td>\n",
       "      <td>0.708766</td>\n",
       "      <td>0.960327</td>\n",
       "      <td>0.227727</td>\n",
       "      <td>0.432471</td>\n",
       "      <td>0.227079</td>\n",
       "      <td>0.811245</td>\n",
       "      <td>0.092382</td>\n",
       "      <td>0.857535</td>\n",
       "      <td>M</td>\n",
       "      <td>D</td>\n",
       "      <td>Z</td>\n",
       "      <td>M</td>\n",
       "      <td>C</td>\n",
       "      <td>A</td>\n",
       "      <td>Y</td>\n",
       "      <td>D</td>\n",
       "      <td>C</td>\n",
       "      <td>O</td>\n",
       "    </tr>\n",
       "  </tbody>\n",
       "</table>\n",
       "</div>"
      ],
      "text/plain": [
       "    Numeric_0  Numeric_1  Numeric_2  Numeric_3  Numeric_4  Numeric_5   \n",
       "1    0.814167   0.379423   0.196857   0.619969   0.595017   0.478217  \\\n",
       "9    0.421256   0.700283   0.252628   0.676640   0.814156   0.416240   \n",
       "16   0.282811   0.719339   0.207320   0.976588   0.949429   0.080404   \n",
       "18   0.483087   0.841133   0.025510   0.009140   0.183722   0.325491   \n",
       "35   0.192446   0.274116   0.708766   0.960327   0.227727   0.432471   \n",
       "\n",
       "    Numeric_6  Numeric_7  Numeric_8  Numeric_9 Categorical_0 Categorical_1   \n",
       "1    0.150928   0.580445   0.292682   0.607309             I             B  \\\n",
       "9    0.413232   0.460071   0.866812   0.730768             S             N   \n",
       "16   0.990779   0.072801   0.482127   0.163088             I             O   \n",
       "18   0.290477   0.706761   0.589473   0.117201             J             K   \n",
       "35   0.227079   0.811245   0.092382   0.857535             M             D   \n",
       "\n",
       "   Categorical_2 Categorical_3 Categorical_4 Categorical_5 Categorical_6   \n",
       "1              J             Y             J             A             R  \\\n",
       "9              L             K             Q             A             B   \n",
       "16             Z             X             A             A             T   \n",
       "18             W             J             M             A             N   \n",
       "35             Z             M             C             A             Y   \n",
       "\n",
       "   Categorical_7 Categorical_8 Categorical_9  \n",
       "1              C             I             P  \n",
       "9              W             O             D  \n",
       "16             M             J             V  \n",
       "18             F             V             P  \n",
       "35             D             C             O  "
      ]
     },
     "execution_count": 9,
     "metadata": {},
     "output_type": "execute_result"
    }
   ],
   "source": [
    "dask_df[dask_df[\"Categorical_5\"] == \"A\"].compute().head()"
   ]
  },
  {
   "cell_type": "markdown",
   "id": "78b051d6-2b9e-4232-9673-f82d1017e9d1",
   "metadata": {},
   "source": [
    "__Common summary statistics__"
   ]
  },
  {
   "cell_type": "code",
   "execution_count": 11,
   "id": "3c72184f-6cc2-41cb-aac2-35a31085986c",
   "metadata": {},
   "outputs": [
    {
     "data": {
      "text/html": [
       "<div>\n",
       "<style scoped>\n",
       "    .dataframe tbody tr th:only-of-type {\n",
       "        vertical-align: middle;\n",
       "    }\n",
       "\n",
       "    .dataframe tbody tr th {\n",
       "        vertical-align: top;\n",
       "    }\n",
       "\n",
       "    .dataframe thead th {\n",
       "        text-align: right;\n",
       "    }\n",
       "</style>\n",
       "<table border=\"1\" class=\"dataframe\">\n",
       "  <thead>\n",
       "    <tr style=\"text-align: right;\">\n",
       "      <th></th>\n",
       "      <th>Numeric_0</th>\n",
       "      <th>Numeric_1</th>\n",
       "      <th>Numeric_2</th>\n",
       "      <th>Numeric_3</th>\n",
       "      <th>Numeric_4</th>\n",
       "      <th>Numeric_5</th>\n",
       "      <th>Numeric_6</th>\n",
       "      <th>Numeric_7</th>\n",
       "      <th>Numeric_8</th>\n",
       "      <th>Numeric_9</th>\n",
       "    </tr>\n",
       "  </thead>\n",
       "  <tbody>\n",
       "    <tr>\n",
       "      <th>count</th>\n",
       "      <td>1.000000e+07</td>\n",
       "      <td>1.000000e+07</td>\n",
       "      <td>1.000000e+07</td>\n",
       "      <td>1.000000e+07</td>\n",
       "      <td>1.000000e+07</td>\n",
       "      <td>1.000000e+07</td>\n",
       "      <td>1.000000e+07</td>\n",
       "      <td>1.000000e+07</td>\n",
       "      <td>1.000000e+07</td>\n",
       "      <td>1.000000e+07</td>\n",
       "    </tr>\n",
       "    <tr>\n",
       "      <th>mean</th>\n",
       "      <td>5.000694e-01</td>\n",
       "      <td>4.999880e-01</td>\n",
       "      <td>4.999234e-01</td>\n",
       "      <td>5.001617e-01</td>\n",
       "      <td>4.999199e-01</td>\n",
       "      <td>5.000784e-01</td>\n",
       "      <td>4.999988e-01</td>\n",
       "      <td>4.998237e-01</td>\n",
       "      <td>4.999092e-01</td>\n",
       "      <td>5.000875e-01</td>\n",
       "    </tr>\n",
       "    <tr>\n",
       "      <th>std</th>\n",
       "      <td>2.886411e-01</td>\n",
       "      <td>2.885834e-01</td>\n",
       "      <td>2.886858e-01</td>\n",
       "      <td>2.887104e-01</td>\n",
       "      <td>2.886306e-01</td>\n",
       "      <td>2.886403e-01</td>\n",
       "      <td>2.886713e-01</td>\n",
       "      <td>2.887814e-01</td>\n",
       "      <td>2.886391e-01</td>\n",
       "      <td>2.887165e-01</td>\n",
       "    </tr>\n",
       "    <tr>\n",
       "      <th>min</th>\n",
       "      <td>1.564002e-07</td>\n",
       "      <td>9.838086e-10</td>\n",
       "      <td>1.560742e-07</td>\n",
       "      <td>2.491680e-07</td>\n",
       "      <td>8.348743e-08</td>\n",
       "      <td>6.555190e-08</td>\n",
       "      <td>4.902090e-08</td>\n",
       "      <td>6.893530e-08</td>\n",
       "      <td>7.024191e-09</td>\n",
       "      <td>2.179944e-07</td>\n",
       "    </tr>\n",
       "    <tr>\n",
       "      <th>25%</th>\n",
       "      <td>2.511082e-01</td>\n",
       "      <td>2.520286e-01</td>\n",
       "      <td>2.511258e-01</td>\n",
       "      <td>2.520083e-01</td>\n",
       "      <td>2.510887e-01</td>\n",
       "      <td>2.519130e-01</td>\n",
       "      <td>2.513019e-01</td>\n",
       "      <td>2.512131e-01</td>\n",
       "      <td>2.518856e-01</td>\n",
       "      <td>2.517978e-01</td>\n",
       "    </tr>\n",
       "    <tr>\n",
       "      <th>50%</th>\n",
       "      <td>5.017100e-01</td>\n",
       "      <td>5.021449e-01</td>\n",
       "      <td>5.024578e-01</td>\n",
       "      <td>5.020417e-01</td>\n",
       "      <td>5.012735e-01</td>\n",
       "      <td>5.023080e-01</td>\n",
       "      <td>5.013113e-01</td>\n",
       "      <td>5.017622e-01</td>\n",
       "      <td>5.019776e-01</td>\n",
       "      <td>5.023563e-01</td>\n",
       "    </tr>\n",
       "    <tr>\n",
       "      <th>75%</th>\n",
       "      <td>7.514503e-01</td>\n",
       "      <td>7.510077e-01</td>\n",
       "      <td>7.518552e-01</td>\n",
       "      <td>7.517292e-01</td>\n",
       "      <td>7.512685e-01</td>\n",
       "      <td>7.516721e-01</td>\n",
       "      <td>7.516851e-01</td>\n",
       "      <td>7.516377e-01</td>\n",
       "      <td>7.518002e-01</td>\n",
       "      <td>7.522887e-01</td>\n",
       "    </tr>\n",
       "    <tr>\n",
       "      <th>max</th>\n",
       "      <td>1.000000e+00</td>\n",
       "      <td>1.000000e+00</td>\n",
       "      <td>1.000000e+00</td>\n",
       "      <td>1.000000e+00</td>\n",
       "      <td>1.000000e+00</td>\n",
       "      <td>9.999998e-01</td>\n",
       "      <td>9.999998e-01</td>\n",
       "      <td>1.000000e+00</td>\n",
       "      <td>9.999999e-01</td>\n",
       "      <td>1.000000e+00</td>\n",
       "    </tr>\n",
       "  </tbody>\n",
       "</table>\n",
       "</div>"
      ],
      "text/plain": [
       "          Numeric_0     Numeric_1     Numeric_2     Numeric_3     Numeric_4   \n",
       "count  1.000000e+07  1.000000e+07  1.000000e+07  1.000000e+07  1.000000e+07  \\\n",
       "mean   5.000694e-01  4.999880e-01  4.999234e-01  5.001617e-01  4.999199e-01   \n",
       "std    2.886411e-01  2.885834e-01  2.886858e-01  2.887104e-01  2.886306e-01   \n",
       "min    1.564002e-07  9.838086e-10  1.560742e-07  2.491680e-07  8.348743e-08   \n",
       "25%    2.511082e-01  2.520286e-01  2.511258e-01  2.520083e-01  2.510887e-01   \n",
       "50%    5.017100e-01  5.021449e-01  5.024578e-01  5.020417e-01  5.012735e-01   \n",
       "75%    7.514503e-01  7.510077e-01  7.518552e-01  7.517292e-01  7.512685e-01   \n",
       "max    1.000000e+00  1.000000e+00  1.000000e+00  1.000000e+00  1.000000e+00   \n",
       "\n",
       "          Numeric_5     Numeric_6     Numeric_7     Numeric_8     Numeric_9  \n",
       "count  1.000000e+07  1.000000e+07  1.000000e+07  1.000000e+07  1.000000e+07  \n",
       "mean   5.000784e-01  4.999988e-01  4.998237e-01  4.999092e-01  5.000875e-01  \n",
       "std    2.886403e-01  2.886713e-01  2.887814e-01  2.886391e-01  2.887165e-01  \n",
       "min    6.555190e-08  4.902090e-08  6.893530e-08  7.024191e-09  2.179944e-07  \n",
       "25%    2.519130e-01  2.513019e-01  2.512131e-01  2.518856e-01  2.517978e-01  \n",
       "50%    5.023080e-01  5.013113e-01  5.017622e-01  5.019776e-01  5.023563e-01  \n",
       "75%    7.516721e-01  7.516851e-01  7.516377e-01  7.518002e-01  7.522887e-01  \n",
       "max    9.999998e-01  9.999998e-01  1.000000e+00  9.999999e-01  1.000000e+00  "
      ]
     },
     "execution_count": 11,
     "metadata": {},
     "output_type": "execute_result"
    }
   ],
   "source": [
    "dask_df.describe().compute()"
   ]
  },
  {
   "cell_type": "code",
   "execution_count": 14,
   "id": "63c19645-833a-4d82-a5f4-8fced09717f3",
   "metadata": {},
   "outputs": [
    {
     "data": {
      "text/plain": [
       "Categorical_3\n",
       "O    386038\n",
       "C    385804\n",
       "A    385493\n",
       "P    385490\n",
       "K    385116\n",
       "Name: count, dtype: int64"
      ]
     },
     "execution_count": 14,
     "metadata": {},
     "output_type": "execute_result"
    }
   ],
   "source": [
    "dask_df[\"Categorical_3\"].value_counts().compute().head()"
   ]
  },
  {
   "cell_type": "markdown",
   "id": "1674a969-6ef9-4c3d-b749-397dc567d350",
   "metadata": {},
   "source": [
    "__Groupby__"
   ]
  },
  {
   "cell_type": "code",
   "execution_count": 18,
   "id": "cea0ce9d-0425-40c4-a8ad-988a0c465590",
   "metadata": {},
   "outputs": [
    {
     "data": {
      "text/plain": [
       "Categorical_8\n",
       "A    0.498497\n",
       "B    0.499767\n",
       "C    0.500622\n",
       "D    0.500307\n",
       "E    0.499530\n",
       "Name: Numeric_7, dtype: float64"
      ]
     },
     "execution_count": 18,
     "metadata": {},
     "output_type": "execute_result"
    }
   ],
   "source": [
    "dask_df.groupby(\"Categorical_8\")[\"Numeric_7\"].mean().compute().head()"
   ]
  },
  {
   "cell_type": "markdown",
   "id": "4820702e-10e5-4275-af71-b5cf3c04a484",
   "metadata": {},
   "source": [
    "Check out [this section of Dask user guide](https://docs.dask.org/en/stable/dataframe.html#scope) on the rest of the familiarities between Pandas and Dask."
   ]
  },
  {
   "cell_type": "markdown",
   "id": "94c36db8-fc0d-46bf-82d6-a799ef841005",
   "metadata": {},
   "source": [
    "### Lazy evaluation"
   ]
  },
  {
   "cell_type": "markdown",
   "id": "8da699d7-6927-4b52-8aef-7805d29cc06d",
   "metadata": {},
   "source": [
    "Now, I want to draw your attention to how I am ending each and every one of the above code blocks with `compute` function"
   ]
  },
  {
   "cell_type": "markdown",
   "id": "90de0c6f-7582-43de-8dd1-f6d7e9a7b1de",
   "metadata": {},
   "source": [
    "### Dask Bags and Dask Delayed for Unstructured Data"
   ]
  },
  {
   "cell_type": "markdown",
   "id": "d2e6d5c9-5eb6-4f1c-afb4-a6ad4a6e6367",
   "metadata": {},
   "source": [
    "### Dask Distributed: Parallel and Distributed Computing"
   ]
  },
  {
   "cell_type": "markdown",
   "id": "ae7d8b84-b25a-48fe-bdab-61759db1f4c8",
   "metadata": {},
   "source": [
    "### Best Practices for Using Dask"
   ]
  },
  {
   "cell_type": "markdown",
   "id": "ab6457a7-4b5b-4bf2-9083-0a483993c8f4",
   "metadata": {},
   "source": [
    "### Conclusion and Further Resources"
   ]
  },
  {
   "cell_type": "markdown",
   "id": "fd3e78ca-55e4-4170-8877-d995ee22804f",
   "metadata": {},
   "source": []
  }
 ],
 "metadata": {
  "kernelspec": {
   "display_name": "articles",
   "language": "python",
   "name": "articles"
  },
  "language_info": {
   "codemirror_mode": {
    "name": "ipython",
    "version": 3
   },
   "file_extension": ".py",
   "mimetype": "text/x-python",
   "name": "python",
   "nbconvert_exporter": "python",
   "pygments_lexer": "ipython3",
   "version": "3.9.13"
  }
 },
 "nbformat": 4,
 "nbformat_minor": 5
}
