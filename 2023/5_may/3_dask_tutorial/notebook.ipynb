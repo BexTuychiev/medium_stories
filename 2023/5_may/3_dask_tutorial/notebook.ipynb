{
 "cells": [
  {
   "cell_type": "markdown",
   "id": "1106fe43-0ea1-4660-9a15-71e4474eb040",
   "metadata": {},
   "source": [
    "# Boosting Your Data Science Workflow with Dask: A Comprehensive Guide"
   ]
  },
  {
   "cell_type": "markdown",
   "id": "774d5ccc-d426-429d-8966-c509a8137263",
   "metadata": {},
   "source": [
    "### Introduction"
   ]
  },
  {
   "cell_type": "markdown",
   "id": "e75660d9-e6a7-4814-ac83-dc63a24cf1e2",
   "metadata": {},
   "source": [
    "When Wes McKinney started writing Pandas, he had a rule of thumb: for Pandas to work optimally, the machine's RAM size must be 5-10 times larger than the dataset in question. This rule was easy to follow around 2010, but now it is 2023.\n",
    "\n",
    "In 2020, real-world datasets had already grown to sizes that could easily crash common everyday laptops and machines. Anticipating this problem well in advance, a solution was released in 2015.\n",
    "\n",
    "Dask is an open-source library developed by the creators of Anaconda to tackle the challenges of scalable and efficient computing on large datasets that exceed the memory capacity of a single machine.\n",
    "\n",
    "This tutorial provides a comprehensive introduction to Dask and its crucial features, including interfaces for DataFrames, Arrays, and Bags (yes, you read it right)."
   ]
  },
  {
   "cell_type": "markdown",
   "id": "6aa92d87-676e-429a-8ae5-05ff8958552c",
   "metadata": {},
   "source": [
    "### Setting Up Dask"
   ]
  },
  {
   "cell_type": "markdown",
   "id": "43d1be66-4f5e-4ade-a02c-b47497ccd776",
   "metadata": {},
   "source": [
    "Like any other library, Dask can be installed in three ways: conda, pip, and from source.\n",
    "\n",
    "Since this is an introductory article on Dask, we won't cover the last installation method, as it is for maintainers.\n",
    "\n",
    "If you use Anaconda, Dask is included in your default installation (which is a mark of how popular the library is). If you wish to reinstall or upgrade it, you can use the `install` command:\n",
    "\n",
    "```python\n",
    "conda install dask\n",
    "```\n",
    "\n",
    "The PIP alternative of the above is the following:\n",
    "\n",
    "```\n",
    "pip install \"dask[complete]\"\n",
    "```\n",
    "\n",
    "Adding the `[complete]` extension also installs the required dependencies of Dask, eliminating the need to install NumPy, Pandas, and Tornado manually.\n",
    "\n",
    "You can check if the installation was successful by looking at the library version:\n",
    "\n",
    "```python\n",
    "import dask\n",
    "\n",
    "dask.__version__\n",
    "```\n",
    "Output:\n",
    "\n",
    "```\n",
    "'2023.5.0'\n",
    "```\n",
    "\n",
    "Most of your time spent working with Dask will be focused on three interfaces: Dask DataFrames, Arrays, and Bags. Let's import them along with numpy and pandas to use for the rest of the article:"
   ]
  },
  {
   "cell_type": "code",
   "execution_count": 1,
   "id": "9766c8a5-8b86-40e8-b4cb-080d470f256b",
   "metadata": {},
   "outputs": [],
   "source": [
    "import dask.array as da\n",
    "import dask.bag as db\n",
    "import dask.dataframe as dd\n",
    "import numpy as np\n",
    "import pandas as pd"
   ]
  },
  {
   "cell_type": "markdown",
   "id": "28cee14d-c48a-4df6-80ea-c150d572f5eb",
   "metadata": {},
   "source": [
    "### Basic Concepts of Dask"
   ]
  },
  {
   "cell_type": "markdown",
   "id": "9023d1b5-d067-4e2f-8be5-3a44bfefc214",
   "metadata": {},
   "source": [
    "On a high-level, you can think of Dask as a wrapper that extends the capabilities of traditional tools like Pandas, NumPy, and Spark to handle larger-than-memory datasets.\n",
    "\n",
    "When faced with large objects like larger-than-memory arrays (vectors) or matrices (dataframes), Dask breaks them up into chunks, also called partitions.\n",
    "\n",
    "For example, consider the array of 12 random numbers in both NumPy and Dask:"
   ]
  },
  {
   "cell_type": "code",
   "execution_count": 2,
   "id": "24cd2ecb-d003-46fc-a051-a7aee43e9c15",
   "metadata": {},
   "outputs": [
    {
     "data": {
      "text/plain": [
       "array([0.9261154 , 0.87774082, 0.87078873, 0.22309476, 0.24575174,\n",
       "       0.04182393, 0.31476305, 0.04599283, 0.62354124, 0.97597454,\n",
       "       0.23923457, 0.81201211])"
      ]
     },
     "execution_count": 2,
     "metadata": {},
     "output_type": "execute_result"
    }
   ],
   "source": [
    "narr = np.random.rand(12)\n",
    "\n",
    "narr"
   ]
  },
  {
   "cell_type": "code",
   "execution_count": 3,
   "id": "26ff7b15-9761-47e4-bcdb-bad4095ba2d8",
   "metadata": {},
   "outputs": [
    {
     "data": {
      "text/html": [
       "<table>\n",
       "    <tr>\n",
       "        <td>\n",
       "            <table style=\"border-collapse: collapse;\">\n",
       "                <thead>\n",
       "                    <tr>\n",
       "                        <td> </td>\n",
       "                        <th> Array </th>\n",
       "                        <th> Chunk </th>\n",
       "                    </tr>\n",
       "                </thead>\n",
       "                <tbody>\n",
       "                    \n",
       "                    <tr>\n",
       "                        <th> Bytes </th>\n",
       "                        <td> 96 B </td>\n",
       "                        <td> 24 B </td>\n",
       "                    </tr>\n",
       "                    \n",
       "                    <tr>\n",
       "                        <th> Shape </th>\n",
       "                        <td> (12,) </td>\n",
       "                        <td> (3,) </td>\n",
       "                    </tr>\n",
       "                    <tr>\n",
       "                        <th> Dask graph </th>\n",
       "                        <td colspan=\"2\"> 4 chunks in 1 graph layer </td>\n",
       "                    </tr>\n",
       "                    <tr>\n",
       "                        <th> Data type </th>\n",
       "                        <td colspan=\"2\"> float64 numpy.ndarray </td>\n",
       "                    </tr>\n",
       "                </tbody>\n",
       "            </table>\n",
       "        </td>\n",
       "        <td>\n",
       "        <svg width=\"170\" height=\"87\" style=\"stroke:rgb(0,0,0);stroke-width:1\" >\n",
       "\n",
       "  <!-- Horizontal lines -->\n",
       "  <line x1=\"0\" y1=\"0\" x2=\"120\" y2=\"0\" style=\"stroke-width:2\" />\n",
       "  <line x1=\"0\" y1=\"37\" x2=\"120\" y2=\"37\" style=\"stroke-width:2\" />\n",
       "\n",
       "  <!-- Vertical lines -->\n",
       "  <line x1=\"0\" y1=\"0\" x2=\"0\" y2=\"37\" style=\"stroke-width:2\" />\n",
       "  <line x1=\"30\" y1=\"0\" x2=\"30\" y2=\"37\" />\n",
       "  <line x1=\"60\" y1=\"0\" x2=\"60\" y2=\"37\" />\n",
       "  <line x1=\"90\" y1=\"0\" x2=\"90\" y2=\"37\" />\n",
       "  <line x1=\"120\" y1=\"0\" x2=\"120\" y2=\"37\" style=\"stroke-width:2\" />\n",
       "\n",
       "  <!-- Colored Rectangle -->\n",
       "  <polygon points=\"0.0,0.0 120.0,0.0 120.0,37.56358655585696 0.0,37.56358655585696\" style=\"fill:#ECB172A0;stroke-width:0\"/>\n",
       "\n",
       "  <!-- Text -->\n",
       "  <text x=\"60.000000\" y=\"57.563587\" font-size=\"1.0rem\" font-weight=\"100\" text-anchor=\"middle\" >12</text>\n",
       "  <text x=\"140.000000\" y=\"18.781793\" font-size=\"1.0rem\" font-weight=\"100\" text-anchor=\"middle\" transform=\"rotate(0,140.000000,18.781793)\">1</text>\n",
       "</svg>\n",
       "        </td>\n",
       "    </tr>\n",
       "</table>"
      ],
      "text/plain": [
       "dask.array<array, shape=(12,), dtype=float64, chunksize=(3,), chunktype=numpy.ndarray>"
      ]
     },
     "execution_count": 3,
     "metadata": {},
     "output_type": "execute_result"
    }
   ],
   "source": [
    "darr = da.from_array(narr, chunks=3)\n",
    "\n",
    "darr"
   ]
  },
  {
   "cell_type": "markdown",
   "id": "f85551f6-1b00-47ce-b283-0264d1fcf742",
   "metadata": {},
   "source": [
    "The image above shows that the Dask array contains 4 chunks as we set `chunks` to 3. Under the hood, each chunk is a NumPy array itself.\n",
    "\n",
    "Now, let's consider a much larger example. We will create two 10k by 100k arrays (1 billion elements) and perform element-wise multiplication in both libraries while measuring the performance:"
   ]
  },
  {
   "cell_type": "code",
   "execution_count": 8,
   "id": "85425a75-4001-4c78-9357-8b243ffdbf95",
   "metadata": {},
   "outputs": [],
   "source": [
    "# Create the NumPy arrays\n",
    "arr1 = np.random.rand(10_000, 100_000)\n",
    "arr2 = np.random.rand(10_000, 100_000)\n",
    "\n",
    "# Create the Dask arrays\n",
    "darr1 = da.from_array(arr1, chunks=(1_000, 10_000))\n",
    "darr2 = da.from_array(arr2, chunks=(1_000, 10_000))"
   ]
  },
  {
   "cell_type": "code",
   "execution_count": 9,
   "id": "6800f1e4-7fe9-48ac-b3ff-3c639a856ada",
   "metadata": {},
   "outputs": [
    {
     "name": "stdout",
     "output_type": "stream",
     "text": [
      "CPU times: user 966 ms, sys: 2.2 s, total: 3.17 s\n",
      "Wall time: 3.19 s\n"
     ]
    }
   ],
   "source": [
    "%%time\n",
    "\n",
    "result_np = np.multiply(arr1, arr2)"
   ]
  },
  {
   "cell_type": "code",
   "execution_count": 10,
   "id": "ef4e89c3-f61a-40f4-ba06-01368de6ba74",
   "metadata": {},
   "outputs": [
    {
     "name": "stdout",
     "output_type": "stream",
     "text": [
      "CPU times: user 5.94 ms, sys: 22 ms, total: 27.9 ms\n",
      "Wall time: 94.8 ms\n"
     ]
    }
   ],
   "source": [
    "%%time\n",
    "\n",
    "result_dask = da.multiply(darr1, darr2)"
   ]
  },
  {
   "cell_type": "markdown",
   "id": "9752d645-7137-404c-8883-f0ecb47ad053",
   "metadata": {},
   "source": [
    "The above code demonstrates the element-wise multiplication of two large arrays using both NumPy and Dask. As shown in the output, Dask is approximately 34 times faster than NumPy for this computation. The performance gains become even more significant as the computation and array size increase.\n",
    "\n",
    "Dask uses a similar approach of chunking and distributing these chunks across all available cores on your machine for other objects as well."
   ]
  },
  {
   "cell_type": "markdown",
   "id": "a378ce7f-83e7-4dc9-be51-d155f503522b",
   "metadata": {},
   "source": [
    "### Dask DataFrames"
   ]
  },
  {
   "cell_type": "markdown",
   "id": "8ee54e0f-349b-4370-9027-e9973edc3d53",
   "metadata": {},
   "source": [
    "To fully appreciate the benefits of Dask, we need a large dataset, preferably over 1 GB in size. However, downloading such a dataset to follow along in the tutorial may not be optimal. Instead, you can use [this script](https://gist.github.com/BexTuychiev/af8076016de7eb9d65d2038a1dd701ef) I have prepared, which generates a synthetic dataset with 10 million rows, 10 numeric features, and 10 categorical features.\n",
    "\n",
    "Please ensure that your machine has at least 12 GB of RAM to run [the script](https://gist.github.com/BexTuychiev/af8076016de7eb9d65d2038a1dd701ef)."
   ]
  },
  {
   "cell_type": "markdown",
   "id": "f1429eec-7fc9-4e9b-8b16-e81758e719f1",
   "metadata": {},
   "source": [
    "\n",
    "Once you have the `large_dataset.csv` file in your workspace, you can load it using the `read_csv` function from the Dask DataFrames interface (`dd`):"
   ]
  },
  {
   "cell_type": "code",
   "execution_count": 5,
   "id": "db0019ce-c51f-45ba-a398-41115d898840",
   "metadata": {},
   "outputs": [
    {
     "data": {
      "text/html": [
       "<div>\n",
       "<style scoped>\n",
       "    .dataframe tbody tr th:only-of-type {\n",
       "        vertical-align: middle;\n",
       "    }\n",
       "\n",
       "    .dataframe tbody tr th {\n",
       "        vertical-align: top;\n",
       "    }\n",
       "\n",
       "    .dataframe thead th {\n",
       "        text-align: right;\n",
       "    }\n",
       "</style>\n",
       "<table border=\"1\" class=\"dataframe\">\n",
       "  <thead>\n",
       "    <tr style=\"text-align: right;\">\n",
       "      <th></th>\n",
       "      <th>Numeric_0</th>\n",
       "      <th>Numeric_1</th>\n",
       "      <th>Numeric_2</th>\n",
       "      <th>Numeric_3</th>\n",
       "      <th>Numeric_4</th>\n",
       "      <th>Numeric_5</th>\n",
       "      <th>Numeric_6</th>\n",
       "      <th>Numeric_7</th>\n",
       "      <th>Numeric_8</th>\n",
       "      <th>Numeric_9</th>\n",
       "      <th>Categorical_0</th>\n",
       "      <th>Categorical_1</th>\n",
       "      <th>Categorical_2</th>\n",
       "      <th>Categorical_3</th>\n",
       "      <th>Categorical_4</th>\n",
       "      <th>Categorical_5</th>\n",
       "      <th>Categorical_6</th>\n",
       "      <th>Categorical_7</th>\n",
       "      <th>Categorical_8</th>\n",
       "      <th>Categorical_9</th>\n",
       "    </tr>\n",
       "  </thead>\n",
       "  <tbody>\n",
       "    <tr>\n",
       "      <th>0</th>\n",
       "      <td>0.954029</td>\n",
       "      <td>0.196295</td>\n",
       "      <td>0.481501</td>\n",
       "      <td>0.497420</td>\n",
       "      <td>0.307428</td>\n",
       "      <td>0.927494</td>\n",
       "      <td>0.720794</td>\n",
       "      <td>0.424402</td>\n",
       "      <td>0.349461</td>\n",
       "      <td>0.699471</td>\n",
       "      <td>A</td>\n",
       "      <td>K</td>\n",
       "      <td>B</td>\n",
       "      <td>D</td>\n",
       "      <td>N</td>\n",
       "      <td>K</td>\n",
       "      <td>F</td>\n",
       "      <td>R</td>\n",
       "      <td>C</td>\n",
       "      <td>P</td>\n",
       "    </tr>\n",
       "    <tr>\n",
       "      <th>1</th>\n",
       "      <td>0.814167</td>\n",
       "      <td>0.379423</td>\n",
       "      <td>0.196857</td>\n",
       "      <td>0.619969</td>\n",
       "      <td>0.595017</td>\n",
       "      <td>0.478217</td>\n",
       "      <td>0.150928</td>\n",
       "      <td>0.580445</td>\n",
       "      <td>0.292682</td>\n",
       "      <td>0.607309</td>\n",
       "      <td>I</td>\n",
       "      <td>B</td>\n",
       "      <td>J</td>\n",
       "      <td>Y</td>\n",
       "      <td>J</td>\n",
       "      <td>A</td>\n",
       "      <td>R</td>\n",
       "      <td>C</td>\n",
       "      <td>I</td>\n",
       "      <td>P</td>\n",
       "    </tr>\n",
       "    <tr>\n",
       "      <th>2</th>\n",
       "      <td>0.929750</td>\n",
       "      <td>0.470328</td>\n",
       "      <td>0.359956</td>\n",
       "      <td>0.225859</td>\n",
       "      <td>0.659483</td>\n",
       "      <td>0.973900</td>\n",
       "      <td>0.992307</td>\n",
       "      <td>0.782623</td>\n",
       "      <td>0.545566</td>\n",
       "      <td>0.758020</td>\n",
       "      <td>L</td>\n",
       "      <td>C</td>\n",
       "      <td>N</td>\n",
       "      <td>K</td>\n",
       "      <td>C</td>\n",
       "      <td>R</td>\n",
       "      <td>N</td>\n",
       "      <td>R</td>\n",
       "      <td>A</td>\n",
       "      <td>L</td>\n",
       "    </tr>\n",
       "    <tr>\n",
       "      <th>3</th>\n",
       "      <td>0.318181</td>\n",
       "      <td>0.208561</td>\n",
       "      <td>0.515705</td>\n",
       "      <td>0.731841</td>\n",
       "      <td>0.668760</td>\n",
       "      <td>0.753527</td>\n",
       "      <td>0.617363</td>\n",
       "      <td>0.970797</td>\n",
       "      <td>0.775214</td>\n",
       "      <td>0.601348</td>\n",
       "      <td>S</td>\n",
       "      <td>J</td>\n",
       "      <td>E</td>\n",
       "      <td>J</td>\n",
       "      <td>G</td>\n",
       "      <td>G</td>\n",
       "      <td>E</td>\n",
       "      <td>Z</td>\n",
       "      <td>G</td>\n",
       "      <td>D</td>\n",
       "    </tr>\n",
       "    <tr>\n",
       "      <th>4</th>\n",
       "      <td>0.457664</td>\n",
       "      <td>0.496309</td>\n",
       "      <td>0.865614</td>\n",
       "      <td>0.732108</td>\n",
       "      <td>0.051825</td>\n",
       "      <td>0.934005</td>\n",
       "      <td>0.829954</td>\n",
       "      <td>0.583504</td>\n",
       "      <td>0.119855</td>\n",
       "      <td>0.640705</td>\n",
       "      <td>J</td>\n",
       "      <td>M</td>\n",
       "      <td>O</td>\n",
       "      <td>P</td>\n",
       "      <td>Y</td>\n",
       "      <td>Z</td>\n",
       "      <td>X</td>\n",
       "      <td>B</td>\n",
       "      <td>J</td>\n",
       "      <td>H</td>\n",
       "    </tr>\n",
       "  </tbody>\n",
       "</table>\n",
       "</div>"
      ],
      "text/plain": [
       "   Numeric_0  Numeric_1  Numeric_2  Numeric_3  Numeric_4  Numeric_5   \n",
       "0   0.954029   0.196295   0.481501   0.497420   0.307428   0.927494  \\\n",
       "1   0.814167   0.379423   0.196857   0.619969   0.595017   0.478217   \n",
       "2   0.929750   0.470328   0.359956   0.225859   0.659483   0.973900   \n",
       "3   0.318181   0.208561   0.515705   0.731841   0.668760   0.753527   \n",
       "4   0.457664   0.496309   0.865614   0.732108   0.051825   0.934005   \n",
       "\n",
       "   Numeric_6  Numeric_7  Numeric_8  Numeric_9 Categorical_0 Categorical_1   \n",
       "0   0.720794   0.424402   0.349461   0.699471             A             K  \\\n",
       "1   0.150928   0.580445   0.292682   0.607309             I             B   \n",
       "2   0.992307   0.782623   0.545566   0.758020             L             C   \n",
       "3   0.617363   0.970797   0.775214   0.601348             S             J   \n",
       "4   0.829954   0.583504   0.119855   0.640705             J             M   \n",
       "\n",
       "  Categorical_2 Categorical_3 Categorical_4 Categorical_5 Categorical_6   \n",
       "0             B             D             N             K             F  \\\n",
       "1             J             Y             J             A             R   \n",
       "2             N             K             C             R             N   \n",
       "3             E             J             G             G             E   \n",
       "4             O             P             Y             Z             X   \n",
       "\n",
       "  Categorical_7 Categorical_8 Categorical_9  \n",
       "0             R             C             P  \n",
       "1             C             I             P  \n",
       "2             R             A             L  \n",
       "3             Z             G             D  \n",
       "4             B             J             H  "
      ]
     },
     "execution_count": 5,
     "metadata": {},
     "output_type": "execute_result"
    }
   ],
   "source": [
    "import dask.dataframe as dd\n",
    "\n",
    "dask_df = dd.read_csv(\"data/large_dataset.csv\")\n",
    "\n",
    "dask_df.head()"
   ]
  },
  {
   "attachments": {
    "4e3b80c6-d6ad-44aa-a212-605d0c4a8134.png": {
     "image/png": "[encoded data removed]"
    }
   },
   "cell_type": "markdown",
   "id": "43862c9d-0772-4190-afe7-a2f391ce1ebb",
   "metadata": {},
   "source": [
    "Even though the file is large, you will notice that the result is fetched almost instantaneously. For even larger files, you can specify the blocksize parameter, which determines the number of bytes to break up the file into.\n",
    "\n",
    "Similar to how Dask Arrays contain chunks of small NumPy arrays, Dask is designed to handle multiple small Pandas DataFrames arranged along the row index.\n",
    "\n",
    "![image.png](attachment:4e3b80c6-d6ad-44aa-a212-605d0c4a8134.png)"
   ]
  },
  {
   "cell_type": "markdown",
   "id": "ba9d387d-7f07-49aa-94ac-b179ed8df9e6",
   "metadata": {},
   "source": [
    "As you might guess from the `read_csv` function, most of the commonly used syntax and functionality of the Pandas API are preserved in Dask. The following code blocks should be familiar to you from your Pandas days (although they are gone now, because you will be switching to Dask in no time)."
   ]
  },
  {
   "cell_type": "markdown",
   "id": "6f40d219-6a9a-4a79-a44a-7afbda9fc5b2",
   "metadata": {},
   "source": [
    "__Selecting columns and element-wise operations__"
   ]
  },
  {
   "cell_type": "code",
   "execution_count": 8,
   "id": "47c3692e-7138-4eee-abda-81d1dd9a68d4",
   "metadata": {},
   "outputs": [
    {
     "data": {
      "text/plain": [
       "0    1.301960\n",
       "1    1.190679\n",
       "2    1.100955\n",
       "3    0.758272\n",
       "4    0.926729\n",
       "dtype: float64"
      ]
     },
     "execution_count": 8,
     "metadata": {},
     "output_type": "execute_result"
    }
   ],
   "source": [
    "result = (\n",
    "    dask_df[\"Numeric_0\"] + dask_df[\"Numeric_9\"] * dask_df[\"Numeric_3\"]\n",
    ")\n",
    "result.compute().head()"
   ]
  },
  {
   "cell_type": "markdown",
   "id": "cf72ae30-b131-4f95-86c9-468960a53791",
   "metadata": {},
   "source": [
    "__Conditional filtering__"
   ]
  },
  {
   "cell_type": "code",
   "execution_count": 9,
   "id": "5d3e93b8-f99f-4376-99de-bbec08d86d1d",
   "metadata": {},
   "outputs": [
    {
     "data": {
      "text/html": [
       "<div>\n",
       "<style scoped>\n",
       "    .dataframe tbody tr th:only-of-type {\n",
       "        vertical-align: middle;\n",
       "    }\n",
       "\n",
       "    .dataframe tbody tr th {\n",
       "        vertical-align: top;\n",
       "    }\n",
       "\n",
       "    .dataframe thead th {\n",
       "        text-align: right;\n",
       "    }\n",
       "</style>\n",
       "<table border=\"1\" class=\"dataframe\">\n",
       "  <thead>\n",
       "    <tr style=\"text-align: right;\">\n",
       "      <th></th>\n",
       "      <th>Numeric_0</th>\n",
       "      <th>Numeric_1</th>\n",
       "      <th>Numeric_2</th>\n",
       "      <th>Numeric_3</th>\n",
       "      <th>Numeric_4</th>\n",
       "      <th>Numeric_5</th>\n",
       "      <th>Numeric_6</th>\n",
       "      <th>Numeric_7</th>\n",
       "      <th>Numeric_8</th>\n",
       "      <th>Numeric_9</th>\n",
       "      <th>Categorical_0</th>\n",
       "      <th>Categorical_1</th>\n",
       "      <th>Categorical_2</th>\n",
       "      <th>Categorical_3</th>\n",
       "      <th>Categorical_4</th>\n",
       "      <th>Categorical_5</th>\n",
       "      <th>Categorical_6</th>\n",
       "      <th>Categorical_7</th>\n",
       "      <th>Categorical_8</th>\n",
       "      <th>Categorical_9</th>\n",
       "    </tr>\n",
       "  </thead>\n",
       "  <tbody>\n",
       "    <tr>\n",
       "      <th>1</th>\n",
       "      <td>0.814167</td>\n",
       "      <td>0.379423</td>\n",
       "      <td>0.196857</td>\n",
       "      <td>0.619969</td>\n",
       "      <td>0.595017</td>\n",
       "      <td>0.478217</td>\n",
       "      <td>0.150928</td>\n",
       "      <td>0.580445</td>\n",
       "      <td>0.292682</td>\n",
       "      <td>0.607309</td>\n",
       "      <td>I</td>\n",
       "      <td>B</td>\n",
       "      <td>J</td>\n",
       "      <td>Y</td>\n",
       "      <td>J</td>\n",
       "      <td>A</td>\n",
       "      <td>R</td>\n",
       "      <td>C</td>\n",
       "      <td>I</td>\n",
       "      <td>P</td>\n",
       "    </tr>\n",
       "    <tr>\n",
       "      <th>9</th>\n",
       "      <td>0.421256</td>\n",
       "      <td>0.700283</td>\n",
       "      <td>0.252628</td>\n",
       "      <td>0.676640</td>\n",
       "      <td>0.814156</td>\n",
       "      <td>0.416240</td>\n",
       "      <td>0.413232</td>\n",
       "      <td>0.460071</td>\n",
       "      <td>0.866812</td>\n",
       "      <td>0.730768</td>\n",
       "      <td>S</td>\n",
       "      <td>N</td>\n",
       "      <td>L</td>\n",
       "      <td>K</td>\n",
       "      <td>Q</td>\n",
       "      <td>A</td>\n",
       "      <td>B</td>\n",
       "      <td>W</td>\n",
       "      <td>O</td>\n",
       "      <td>D</td>\n",
       "    </tr>\n",
       "    <tr>\n",
       "      <th>16</th>\n",
       "      <td>0.282811</td>\n",
       "      <td>0.719339</td>\n",
       "      <td>0.207320</td>\n",
       "      <td>0.976588</td>\n",
       "      <td>0.949429</td>\n",
       "      <td>0.080404</td>\n",
       "      <td>0.990779</td>\n",
       "      <td>0.072801</td>\n",
       "      <td>0.482127</td>\n",
       "      <td>0.163088</td>\n",
       "      <td>I</td>\n",
       "      <td>O</td>\n",
       "      <td>Z</td>\n",
       "      <td>X</td>\n",
       "      <td>A</td>\n",
       "      <td>A</td>\n",
       "      <td>T</td>\n",
       "      <td>M</td>\n",
       "      <td>J</td>\n",
       "      <td>V</td>\n",
       "    </tr>\n",
       "    <tr>\n",
       "      <th>18</th>\n",
       "      <td>0.483087</td>\n",
       "      <td>0.841133</td>\n",
       "      <td>0.025510</td>\n",
       "      <td>0.009140</td>\n",
       "      <td>0.183722</td>\n",
       "      <td>0.325491</td>\n",
       "      <td>0.290477</td>\n",
       "      <td>0.706761</td>\n",
       "      <td>0.589473</td>\n",
       "      <td>0.117201</td>\n",
       "      <td>J</td>\n",
       "      <td>K</td>\n",
       "      <td>W</td>\n",
       "      <td>J</td>\n",
       "      <td>M</td>\n",
       "      <td>A</td>\n",
       "      <td>N</td>\n",
       "      <td>F</td>\n",
       "      <td>V</td>\n",
       "      <td>P</td>\n",
       "    </tr>\n",
       "    <tr>\n",
       "      <th>35</th>\n",
       "      <td>0.192446</td>\n",
       "      <td>0.274116</td>\n",
       "      <td>0.708766</td>\n",
       "      <td>0.960327</td>\n",
       "      <td>0.227727</td>\n",
       "      <td>0.432471</td>\n",
       "      <td>0.227079</td>\n",
       "      <td>0.811245</td>\n",
       "      <td>0.092382</td>\n",
       "      <td>0.857535</td>\n",
       "      <td>M</td>\n",
       "      <td>D</td>\n",
       "      <td>Z</td>\n",
       "      <td>M</td>\n",
       "      <td>C</td>\n",
       "      <td>A</td>\n",
       "      <td>Y</td>\n",
       "      <td>D</td>\n",
       "      <td>C</td>\n",
       "      <td>O</td>\n",
       "    </tr>\n",
       "  </tbody>\n",
       "</table>\n",
       "</div>"
      ],
      "text/plain": [
       "    Numeric_0  Numeric_1  Numeric_2  Numeric_3  Numeric_4  Numeric_5   \n",
       "1    0.814167   0.379423   0.196857   0.619969   0.595017   0.478217  \\\n",
       "9    0.421256   0.700283   0.252628   0.676640   0.814156   0.416240   \n",
       "16   0.282811   0.719339   0.207320   0.976588   0.949429   0.080404   \n",
       "18   0.483087   0.841133   0.025510   0.009140   0.183722   0.325491   \n",
       "35   0.192446   0.274116   0.708766   0.960327   0.227727   0.432471   \n",
       "\n",
       "    Numeric_6  Numeric_7  Numeric_8  Numeric_9 Categorical_0 Categorical_1   \n",
       "1    0.150928   0.580445   0.292682   0.607309             I             B  \\\n",
       "9    0.413232   0.460071   0.866812   0.730768             S             N   \n",
       "16   0.990779   0.072801   0.482127   0.163088             I             O   \n",
       "18   0.290477   0.706761   0.589473   0.117201             J             K   \n",
       "35   0.227079   0.811245   0.092382   0.857535             M             D   \n",
       "\n",
       "   Categorical_2 Categorical_3 Categorical_4 Categorical_5 Categorical_6   \n",
       "1              J             Y             J             A             R  \\\n",
       "9              L             K             Q             A             B   \n",
       "16             Z             X             A             A             T   \n",
       "18             W             J             M             A             N   \n",
       "35             Z             M             C             A             Y   \n",
       "\n",
       "   Categorical_7 Categorical_8 Categorical_9  \n",
       "1              C             I             P  \n",
       "9              W             O             D  \n",
       "16             M             J             V  \n",
       "18             F             V             P  \n",
       "35             D             C             O  "
      ]
     },
     "execution_count": 9,
     "metadata": {},
     "output_type": "execute_result"
    }
   ],
   "source": [
    "dask_df[dask_df[\"Categorical_5\"] == \"A\"].compute().head()"
   ]
  },
  {
   "cell_type": "markdown",
   "id": "ce992434-abcb-4c14-9405-2fe0bd52cc9b",
   "metadata": {},
   "source": [
    "__Common summary statistics__"
   ]
  },
  {
   "cell_type": "code",
   "execution_count": 11,
   "id": "6ec1c58c-8ea9-495f-89fd-cde1f67020a6",
   "metadata": {},
   "outputs": [
    {
     "data": {
      "text/html": [
       "<div>\n",
       "<style scoped>\n",
       "    .dataframe tbody tr th:only-of-type {\n",
       "        vertical-align: middle;\n",
       "    }\n",
       "\n",
       "    .dataframe tbody tr th {\n",
       "        vertical-align: top;\n",
       "    }\n",
       "\n",
       "    .dataframe thead th {\n",
       "        text-align: right;\n",
       "    }\n",
       "</style>\n",
       "<table border=\"1\" class=\"dataframe\">\n",
       "  <thead>\n",
       "    <tr style=\"text-align: right;\">\n",
       "      <th></th>\n",
       "      <th>Numeric_0</th>\n",
       "      <th>Numeric_1</th>\n",
       "      <th>Numeric_2</th>\n",
       "      <th>Numeric_3</th>\n",
       "      <th>Numeric_4</th>\n",
       "      <th>Numeric_5</th>\n",
       "      <th>Numeric_6</th>\n",
       "      <th>Numeric_7</th>\n",
       "      <th>Numeric_8</th>\n",
       "      <th>Numeric_9</th>\n",
       "    </tr>\n",
       "  </thead>\n",
       "  <tbody>\n",
       "    <tr>\n",
       "      <th>count</th>\n",
       "      <td>1.000000e+07</td>\n",
       "      <td>1.000000e+07</td>\n",
       "      <td>1.000000e+07</td>\n",
       "      <td>1.000000e+07</td>\n",
       "      <td>1.000000e+07</td>\n",
       "      <td>1.000000e+07</td>\n",
       "      <td>1.000000e+07</td>\n",
       "      <td>1.000000e+07</td>\n",
       "      <td>1.000000e+07</td>\n",
       "      <td>1.000000e+07</td>\n",
       "    </tr>\n",
       "    <tr>\n",
       "      <th>mean</th>\n",
       "      <td>5.000694e-01</td>\n",
       "      <td>4.999880e-01</td>\n",
       "      <td>4.999234e-01</td>\n",
       "      <td>5.001617e-01</td>\n",
       "      <td>4.999199e-01</td>\n",
       "      <td>5.000784e-01</td>\n",
       "      <td>4.999988e-01</td>\n",
       "      <td>4.998237e-01</td>\n",
       "      <td>4.999092e-01</td>\n",
       "      <td>5.000875e-01</td>\n",
       "    </tr>\n",
       "    <tr>\n",
       "      <th>std</th>\n",
       "      <td>2.886411e-01</td>\n",
       "      <td>2.885834e-01</td>\n",
       "      <td>2.886858e-01</td>\n",
       "      <td>2.887104e-01</td>\n",
       "      <td>2.886306e-01</td>\n",
       "      <td>2.886403e-01</td>\n",
       "      <td>2.886713e-01</td>\n",
       "      <td>2.887814e-01</td>\n",
       "      <td>2.886391e-01</td>\n",
       "      <td>2.887165e-01</td>\n",
       "    </tr>\n",
       "    <tr>\n",
       "      <th>min</th>\n",
       "      <td>1.564002e-07</td>\n",
       "      <td>9.838086e-10</td>\n",
       "      <td>1.560742e-07</td>\n",
       "      <td>2.491680e-07</td>\n",
       "      <td>8.348743e-08</td>\n",
       "      <td>6.555190e-08</td>\n",
       "      <td>4.902090e-08</td>\n",
       "      <td>6.893530e-08</td>\n",
       "      <td>7.024191e-09</td>\n",
       "      <td>2.179944e-07</td>\n",
       "    </tr>\n",
       "    <tr>\n",
       "      <th>25%</th>\n",
       "      <td>2.511082e-01</td>\n",
       "      <td>2.520286e-01</td>\n",
       "      <td>2.511258e-01</td>\n",
       "      <td>2.520083e-01</td>\n",
       "      <td>2.510887e-01</td>\n",
       "      <td>2.519130e-01</td>\n",
       "      <td>2.513019e-01</td>\n",
       "      <td>2.512131e-01</td>\n",
       "      <td>2.518856e-01</td>\n",
       "      <td>2.517978e-01</td>\n",
       "    </tr>\n",
       "    <tr>\n",
       "      <th>50%</th>\n",
       "      <td>5.017100e-01</td>\n",
       "      <td>5.021449e-01</td>\n",
       "      <td>5.024578e-01</td>\n",
       "      <td>5.020417e-01</td>\n",
       "      <td>5.012735e-01</td>\n",
       "      <td>5.023080e-01</td>\n",
       "      <td>5.013113e-01</td>\n",
       "      <td>5.017622e-01</td>\n",
       "      <td>5.019776e-01</td>\n",
       "      <td>5.023563e-01</td>\n",
       "    </tr>\n",
       "    <tr>\n",
       "      <th>75%</th>\n",
       "      <td>7.514503e-01</td>\n",
       "      <td>7.510077e-01</td>\n",
       "      <td>7.518552e-01</td>\n",
       "      <td>7.517292e-01</td>\n",
       "      <td>7.512685e-01</td>\n",
       "      <td>7.516721e-01</td>\n",
       "      <td>7.516851e-01</td>\n",
       "      <td>7.516377e-01</td>\n",
       "      <td>7.518002e-01</td>\n",
       "      <td>7.522887e-01</td>\n",
       "    </tr>\n",
       "    <tr>\n",
       "      <th>max</th>\n",
       "      <td>1.000000e+00</td>\n",
       "      <td>1.000000e+00</td>\n",
       "      <td>1.000000e+00</td>\n",
       "      <td>1.000000e+00</td>\n",
       "      <td>1.000000e+00</td>\n",
       "      <td>9.999998e-01</td>\n",
       "      <td>9.999998e-01</td>\n",
       "      <td>1.000000e+00</td>\n",
       "      <td>9.999999e-01</td>\n",
       "      <td>1.000000e+00</td>\n",
       "    </tr>\n",
       "  </tbody>\n",
       "</table>\n",
       "</div>"
      ],
      "text/plain": [
       "          Numeric_0     Numeric_1     Numeric_2     Numeric_3     Numeric_4   \n",
       "count  1.000000e+07  1.000000e+07  1.000000e+07  1.000000e+07  1.000000e+07  \\\n",
       "mean   5.000694e-01  4.999880e-01  4.999234e-01  5.001617e-01  4.999199e-01   \n",
       "std    2.886411e-01  2.885834e-01  2.886858e-01  2.887104e-01  2.886306e-01   \n",
       "min    1.564002e-07  9.838086e-10  1.560742e-07  2.491680e-07  8.348743e-08   \n",
       "25%    2.511082e-01  2.520286e-01  2.511258e-01  2.520083e-01  2.510887e-01   \n",
       "50%    5.017100e-01  5.021449e-01  5.024578e-01  5.020417e-01  5.012735e-01   \n",
       "75%    7.514503e-01  7.510077e-01  7.518552e-01  7.517292e-01  7.512685e-01   \n",
       "max    1.000000e+00  1.000000e+00  1.000000e+00  1.000000e+00  1.000000e+00   \n",
       "\n",
       "          Numeric_5     Numeric_6     Numeric_7     Numeric_8     Numeric_9  \n",
       "count  1.000000e+07  1.000000e+07  1.000000e+07  1.000000e+07  1.000000e+07  \n",
       "mean   5.000784e-01  4.999988e-01  4.998237e-01  4.999092e-01  5.000875e-01  \n",
       "std    2.886403e-01  2.886713e-01  2.887814e-01  2.886391e-01  2.887165e-01  \n",
       "min    6.555190e-08  4.902090e-08  6.893530e-08  7.024191e-09  2.179944e-07  \n",
       "25%    2.519130e-01  2.513019e-01  2.512131e-01  2.518856e-01  2.517978e-01  \n",
       "50%    5.023080e-01  5.013113e-01  5.017622e-01  5.019776e-01  5.023563e-01  \n",
       "75%    7.516721e-01  7.516851e-01  7.516377e-01  7.518002e-01  7.522887e-01  \n",
       "max    9.999998e-01  9.999998e-01  1.000000e+00  9.999999e-01  1.000000e+00  "
      ]
     },
     "execution_count": 11,
     "metadata": {},
     "output_type": "execute_result"
    }
   ],
   "source": [
    "dask_df.describe().compute()"
   ]
  },
  {
   "cell_type": "code",
   "execution_count": 14,
   "id": "cfcb34ee-c7f4-4600-91ec-bb6bfe345fac",
   "metadata": {},
   "outputs": [
    {
     "data": {
      "text/plain": [
       "Categorical_3\n",
       "O    386038\n",
       "C    385804\n",
       "A    385493\n",
       "P    385490\n",
       "K    385116\n",
       "Name: count, dtype: int64"
      ]
     },
     "execution_count": 14,
     "metadata": {},
     "output_type": "execute_result"
    }
   ],
   "source": [
    "dask_df[\"Categorical_3\"].value_counts().compute().head()"
   ]
  },
  {
   "cell_type": "markdown",
   "id": "35727315-7694-44a6-8c40-c2bd1dfc9423",
   "metadata": {},
   "source": [
    "__Groupby__"
   ]
  },
  {
   "cell_type": "code",
   "execution_count": 18,
   "id": "5beca6a6-dcb0-4ee0-899e-1ec39863b03e",
   "metadata": {},
   "outputs": [
    {
     "data": {
      "text/plain": [
       "Categorical_8\n",
       "A    0.498497\n",
       "B    0.499767\n",
       "C    0.500622\n",
       "D    0.500307\n",
       "E    0.499530\n",
       "Name: Numeric_7, dtype: float64"
      ]
     },
     "execution_count": 18,
     "metadata": {},
     "output_type": "execute_result"
    }
   ],
   "source": [
    "dask_df.groupby(\"Categorical_8\")[\"Numeric_7\"].mean().compute().head()"
   ]
  },
  {
   "cell_type": "markdown",
   "id": "b05ff169-2789-48ae-a9f9-b97799488816",
   "metadata": {},
   "source": [
    "Check out [this section of Dask user guide](https://docs.dask.org/en/stable/dataframe.html#scope) on the rest of the familiarities between Pandas and Dask."
   ]
  },
  {
   "cell_type": "markdown",
   "id": "e7ba06a7-881c-4ced-b9ca-521d65d9d365",
   "metadata": {},
   "source": [
    "### Lazy evaluation"
   ]
  },
  {
   "cell_type": "markdown",
   "id": "de458a73-2844-4e41-ad44-044dd29c8702",
   "metadata": {},
   "source": [
    "Now, I want to draw your attention to the use of the `compute` function at the end of each code block.\n",
    "\n",
    "Dask evaluates code blocks in lazy mode compared to Pandas' eager mode, which returns results immediately.\n",
    "\n",
    "To draw a parallel in cooking, lazy evaluation is like preparing ingredients and chopping vegetables in advance, but only combining them to cook when needed. The `compute` function serves that purpose.\n",
    "\n",
    "In contrast, eager evaluation is like throwing ingredients into the fire to cook as soon as they are ready. This approach ensures everything is ready to serve at once.\n",
    "\n",
    "Lazy evaluation is key to Dask's excellent performance as it provides:\n",
    "\n",
    "1. Reduced computation: Expressions are evaluated only when needed (when `compute` is called), avoiding unnecessary intermediate results that may not be used in the final result.\n",
    "\n",
    "2. Optimal resource allocation: Lazy evaluation avoids allocating memory or processing power to intermediate results that may not be required.\n",
    "\n",
    "3. Support for infinite or large datasets: Lazy evaluation processes data elements on-the-fly or in smaller chunks, enabling efficient utilization of memory resources.\n",
    "\n",
    "and so on.\n",
    "\n",
    "When the results of `compute` are returned, they are given as Pandas Series/DataFrames or NumPy arrays instead of native Dask DataFrames."
   ]
  },
  {
   "cell_type": "code",
   "execution_count": 19,
   "id": "6a1f6037-7747-4a89-b046-04e50caee13e",
   "metadata": {},
   "outputs": [
    {
     "data": {
      "text/plain": [
       "dask.dataframe.core.DataFrame"
      ]
     },
     "execution_count": 19,
     "metadata": {},
     "output_type": "execute_result"
    }
   ],
   "source": [
    "type(dask_df)"
   ]
  },
  {
   "cell_type": "code",
   "execution_count": 22,
   "id": "ea009d68-b61f-4398-b217-3db83e2248dd",
   "metadata": {},
   "outputs": [
    {
     "data": {
      "text/plain": [
       "pandas.core.series.Series"
      ]
     },
     "execution_count": 22,
     "metadata": {},
     "output_type": "execute_result"
    }
   ],
   "source": [
    "type(\n",
    "    dask_df[[\"Numeric_5\", \"Numeric_6\", \"Numeric_7\"]].mean().compute()\n",
    ")"
   ]
  },
  {
   "cell_type": "markdown",
   "id": "099facbe-1f34-43b9-be7c-4011281fe762",
   "metadata": {},
   "source": [
    "The reason for this is that most data manipulation operations return only a subset of the original dataframe, taking up much smaller space. So, there won't be any need to use parallelism of Dask and continue the rest of your workflow either in Pandas or NumPy."
   ]
  },
  {
   "cell_type": "markdown",
   "id": "749f6836-bd62-4661-afd2-e4a0fc2c5db9",
   "metadata": {},
   "source": [
    "### Dask Bags and Dask Delayed for Unstructured Data"
   ]
  },
  {
   "cell_type": "markdown",
   "id": "05259a16-89d4-49de-aa2d-c0e66335cd1a",
   "metadata": {},
   "source": [
    "Dask Bags and Dask Delayed are two components of the Dask library that provide powerful tools for working with unstructured or semi-structured data and enabling lazy evaluation.\n",
    "\n",
    "While in the past, tabular data was the most common, today's datasets often involve unstructured files such as images, text files, videos, and audio. Dask Bags provides the functionality and API to handle such unstructured files in a parallel and scalable manner.\n",
    "\n",
    "For example, let's consider a simple illustration:\n"
   ]
  },
  {
   "cell_type": "code",
   "execution_count": 23,
   "id": "a1941381-665a-49a4-855c-749be0eb83cf",
   "metadata": {},
   "outputs": [
    {
     "name": "stdout",
     "output_type": "stream",
     "text": [
      "['APPLE']\n"
     ]
    }
   ],
   "source": [
    "import dask.bag as db\n",
    "\n",
    "# Create a Dask Bag from a list of strings\n",
    "b = db.from_sequence([\"apple\", \"banana\", \"orange\", \"grape\", \"kiwi\"])\n",
    "\n",
    "# Filter the strings that start with the letter 'a'\n",
    "filtered_strings = b.filter(lambda x: x.startswith(\"a\"))\n",
    "\n",
    "# Map a function to convert each string to uppercase\n",
    "uppercase_strings = filtered_strings.map(lambda x: x.upper())\n",
    "\n",
    "# Compute the result as a list\n",
    "result = uppercase_strings.compute()\n",
    "\n",
    "print(result)"
   ]
  },
  {
   "cell_type": "markdown",
   "id": "c7e15d0b-ee13-4641-8a6e-b913b651ef78",
   "metadata": {},
   "source": [
    "In this example, we create a Dask Bag `b` from a list of strings. We then apply operations on the Bag to filter the strings that start with the letter 'a' and convert them to uppercase using the `filter()` and `map()` functions, respectively. Finally, we compute the result as a list using the `compute()` method and print the output.\n",
    "\n",
    "Now imagine that you can perform the same operations on billions of strings stored in a text file. Without the lazy evaluation and parallelism offered by Dask Bags, you would face significant challenges. Read more about Bags [here](https://docs.dask.org/en/stable/bag.html).\n",
    "\n",
    "As for Dask Delayed, it provides even more flexibility and introduces lazy evaluation and parallelism to various scenarios. With Dask Delayed, you can convert any native Python function into a lazy object using the @dask.delayed decorator.\n",
    "\n",
    "Here is a simple example:"
   ]
  },
  {
   "cell_type": "code",
   "execution_count": 25,
   "id": "933d026e-1a91-4821-adfa-0fc4afc9720d",
   "metadata": {},
   "outputs": [
    {
     "name": "stdout",
     "output_type": "stream",
     "text": [
      "CPU times: user 234 ms, sys: 110 ms, total: 344 ms\n",
      "Wall time: 42.1 s\n"
     ]
    }
   ],
   "source": [
    "%%time\n",
    "\n",
    "import time\n",
    "\n",
    "import dask\n",
    "\n",
    "\n",
    "@dask.delayed\n",
    "def process_data(x):\n",
    "    # Simulate some computation\n",
    "    time.sleep(1)\n",
    "    return x**2\n",
    "\n",
    "\n",
    "# Generate a list of inputs\n",
    "inputs = range(1000)\n",
    "\n",
    "# Apply the delayed function to each input\n",
    "results = [process_data(x) for x in inputs]\n",
    "\n",
    "# Compute the results in parallel\n",
    "computed_results = dask.compute(*results)"
   ]
  },
  {
   "cell_type": "markdown",
   "id": "2bdfe976-c597-4b78-a9e5-0a84c0e1f445",
   "metadata": {},
   "source": [
    "In this example, we define a function `process_data` decorated with `@dask.delayed`. The function simulates some computational work by sleeping for 1 second and then returning the square of the input value.\n",
    "\n",
    "Without parallelism, performing this computation on 1000 inputs would have taken more than 1000 seconds. However, with Dask Delayed and parallel execution, the computation only took about 42.1 seconds.\n",
    "\n",
    "This example demonstrates the power of parallelism in reducing computation time by efficiently distributing the workload across multiple cores or workers. \n",
    "\n",
    "That's what parallelism is all about."
   ]
  },
  {
   "cell_type": "markdown",
   "id": "cd98ef31-b99d-45ea-9803-ac4eb6e512b4",
   "metadata": {},
   "source": [
    "### Conclusion and Further Resources"
   ]
  },
  {
   "cell_type": "markdown",
   "id": "829a7690-9cb3-428c-8c31-3096233579b6",
   "metadata": {},
   "source": [
    "Dask is one of the cornerstone libraries in the data ecosystem. It extends the functionality of most of the beloved libraries like NumPy, Pandas, and Spark, allowing seamless handling of larger-than-memory datasets. \n",
    "\n",
    "With Dask Bags and Dask delayed, it brings parallelism and lazy evaluation to untraditional scenarios like working with unstructured data or with native Python objects. \n",
    "\n",
    "If you are looking for a comprehensive resource on mastering Dask, check out the course offered by DataCamp - [Parallel Programming With Dask in Python](https://app.datacamp.com/learn/courses/parallel-programming-with-dask-in-python).\n",
    "\n",
    "For more nitty-gritty details, be sure to give [the Dask docs](https://docs.dask.org/en/stable/) a thorough read. The official [Dask-recommended sources](https://docs.dask.org/en/stable/presentations.html#) are great as well.\n",
    "\n",
    "Thank you for reading!"
   ]
  },
  {
   "cell_type": "markdown",
   "id": "c798ac13-fa88-42f3-a438-ba22c517848b",
   "metadata": {},
   "source": []
  }
 ],
 "metadata": {
  "kernelspec": {
   "display_name": "articles",
   "language": "python",
   "name": "articles"
  },
  "language_info": {
   "codemirror_mode": {
    "name": "ipython",
    "version": 3
   },
   "file_extension": ".py",
   "mimetype": "text/x-python",
   "name": "python",
   "nbconvert_exporter": "python",
   "pygments_lexer": "ipython3",
   "version": "3.9.13"
  }
 },
 "nbformat": 4,
 "nbformat_minor": 5
}
