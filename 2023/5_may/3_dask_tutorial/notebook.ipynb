{
 "cells": [
  {
   "cell_type": "markdown",
   "id": "1106fe43-0ea1-4660-9a15-71e4474eb040",
   "metadata": {},
   "source": [
    "# Boosting Your Data Science Workflow with Dask: A Comprehensive Guide"
   ]
  },
  {
   "cell_type": "markdown",
   "id": "774d5ccc-d426-429d-8966-c509a8137263",
   "metadata": {},
   "source": [
    "### Introduction"
   ]
  },
  {
   "cell_type": "markdown",
   "id": "e75660d9-e6a7-4814-ac83-dc63a24cf1e2",
   "metadata": {},
   "source": [
    "When Wes McKinney started writing Pandas, he had a rule of thumb: for Pandas to work optimally, the machine's RAM size must be 5-10 times larger than the dataset in question. This rule was easy to follow around 2010, but now it is 2023.\n",
    "\n",
    "In 2020, real-world datasets had already grown to sizes that could easily crash common everyday laptops and machines. Anticipating this problem well in advance, a solution was released in 2015.\n",
    "\n",
    "Dask is an open-source library developed by the creators of Anaconda to tackle the challenges of scalable and efficient computing on large datasets that exceed the memory capacity of a single machine.\n",
    "\n",
    "This tutorial provides a comprehensive introduction to Dask and its crucial features, including interfaces for DataFrames, Arrays, and Bags (yes, you read it right)."
   ]
  },
  {
   "cell_type": "markdown",
   "id": "6aa92d87-676e-429a-8ae5-05ff8958552c",
   "metadata": {},
   "source": [
    "### Setting Up Dask"
   ]
  },
  {
   "cell_type": "markdown",
   "id": "43d1be66-4f5e-4ade-a02c-b47497ccd776",
   "metadata": {},
   "source": [
    "Like any other library, Dask can be installed in three ways: conda, pip, and from source.\n",
    "\n",
    "Since this is an introductory article on Dask, we won't cover the last installation method, as it is for maintainers.\n",
    "\n",
    "If you use Anaconda, Dask is included in your default installation (which is a mark of how popular the library is). If you wish to reinstall or upgrade it, you can use the `install` command:\n",
    "\n",
    "```python\n",
    "conda install dask\n",
    "```\n",
    "\n",
    "The PIP alternative of the above is the following:\n",
    "\n",
    "```\n",
    "pip install \"dask[complete]\"\n",
    "```\n",
    "\n",
    "Adding the `[complete]` extension also installs the required dependencies of Dask, eliminating the need to install NumPy, Pandas, and Tornado manually.\n",
    "\n",
    "You can check if the installation was successful by looking at the library version:\n",
    "\n",
    "```python\n",
    "import dask\n",
    "\n",
    "dask.__version__\n",
    "```\n",
    "Output:\n",
    "\n",
    "```\n",
    "'2023.5.0'\n",
    "```\n",
    "\n",
    "Most of your time spent working with Dask will be focused on three interfaces: Dask DataFrames, Arrays, and Bags. Let's import them along with numpy and pandas to use for the rest of the article:"
   ]
  },
  {
   "cell_type": "code",
   "execution_count": 1,
   "id": "9766c8a5-8b86-40e8-b4cb-080d470f256b",
   "metadata": {},
   "outputs": [],
   "source": [
    "import dask.array as da\n",
    "import dask.bag as db\n",
    "import dask.dataframe as dd\n",
    "import numpy as np\n",
    "import pandas as pd"
   ]
  },
  {
   "cell_type": "markdown",
   "id": "9023d1b5-d067-4e2f-8be5-3a44bfefc214",
   "metadata": {},
   "source": []
  }
 ],
 "metadata": {
  "kernelspec": {
   "display_name": "articles",
   "language": "python",
   "name": "articles"
  },
  "language_info": {
   "codemirror_mode": {
    "name": "ipython",
    "version": 3
   },
   "file_extension": ".py",
   "mimetype": "text/x-python",
   "name": "python",
   "nbconvert_exporter": "python",
   "pygments_lexer": "ipython3",
   "version": "3.9.13"
  }
 },
 "nbformat": 4,
 "nbformat_minor": 5
}
