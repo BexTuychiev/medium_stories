{
 "cells": [
  {
   "cell_type": "markdown",
   "id": "75fbe244-8a9b-4153-add8-4e8e7562b540",
   "metadata": {},
   "source": [
    "# Clearing the Confusion Once And For All: args, kwargs, * and ** in Python\n",
    "## and live happily ever after"
   ]
  },
  {
   "cell_type": "markdown",
   "id": "66298bc7-3bd7-4bda-9f07-d6f3c947c05d",
   "metadata": {},
   "source": [
    "### Motivation"
   ]
  },
  {
   "cell_type": "markdown",
   "id": "bfb33b75-b512-4976-9e1d-84c812a9f707",
   "metadata": {},
   "source": [
    "### "
   ]
  },
  {
   "cell_type": "markdown",
   "id": "fbaf369e-6096-48c3-9dba-6de078306e4b",
   "metadata": {},
   "source": [
    "### "
   ]
  },
  {
   "cell_type": "markdown",
   "id": "06dd9fb3-be23-4ce2-b493-9658d074e2ef",
   "metadata": {},
   "source": [
    "### "
   ]
  },
  {
   "cell_type": "markdown",
   "id": "922c34dc-5d5b-4dff-ac5a-34cb1ff57edc",
   "metadata": {},
   "source": [
    "### Confusion"
   ]
  }
 ],
 "metadata": {
  "kernelspec": {
   "display_name": "articles",
   "language": "python",
   "name": "articles"
  },
  "language_info": {
   "codemirror_mode": {
    "name": "ipython",
    "version": 3
   },
   "file_extension": ".py",
   "mimetype": "text/x-python",
   "name": "python",
   "nbconvert_exporter": "python",
   "pygments_lexer": "ipython3",
   "version": "3.9.13"
  }
 },
 "nbformat": 4,
 "nbformat_minor": 5
}
