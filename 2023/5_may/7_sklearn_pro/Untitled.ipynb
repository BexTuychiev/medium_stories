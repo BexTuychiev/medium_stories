{
 "cells": [
  {
   "cell_type": "code",
   "execution_count": 7,
   "id": "4310fe0a-447b-4478-b7e8-32e550922f37",
   "metadata": {},
   "outputs": [
    {
     "data": {
      "text/plain": [
       "'/home/bexgboost/articles/2023/5_may/7_sklearn_pro/./Çukur 1 Sezon 22 Bölüm (Full HD).mp4'"
      ]
     },
     "execution_count": 7,
     "metadata": {},
     "output_type": "execute_result"
    }
   ],
   "source": [
    "from pytube import YouTube\n",
    "\n",
    "# Provide the YouTube video URL\n",
    "video_url = \"https://www.youtube.com/watch?v=vovrnMZxgGE\"\n",
    "\n",
    "# Create a YouTube object\n",
    "yt = YouTube(video_url, use_oauth=True)\n",
    "\n",
    "# Select the highest resolution video (optional)\n",
    "video = yt.streams.get_highest_resolution()\n",
    "\n",
    "# Set the output file path\n",
    "output_path = \".\"\n",
    "\n",
    "# Download the video\n",
    "video.download(output_path)"
   ]
  },
  {
   "cell_type": "code",
   "execution_count": 8,
   "id": "79445343-aa15-4cea-8a0a-fe901b43b9c7",
   "metadata": {},
   "outputs": [
    {
     "data": {
      "text/plain": [
       "'/home/bexgboost/articles/2023/5_may/7_sklearn_pro/./Çukur 1 Sezon 23 Bölüm (Full HD).mp4'"
      ]
     },
     "execution_count": 8,
     "metadata": {},
     "output_type": "execute_result"
    }
   ],
   "source": [
    "# Provide the YouTube video URL\n",
    "video_url = \"https://www.youtube.com/watch?v=8poDQPJcX1A\"\n",
    "\n",
    "# Create a YouTube object\n",
    "yt = YouTube(video_url, use_oauth=True)\n",
    "\n",
    "# Select the highest resolution video (optional)\n",
    "video = yt.streams.get_highest_resolution()\n",
    "\n",
    "# Set the output file path\n",
    "output_path = \".\"\n",
    "\n",
    "# Download the video\n",
    "video.download(output_path)"
   ]
  },
  {
   "cell_type": "code",
   "execution_count": 9,
   "id": "bb0f7fc7-e452-4dcc-8368-40d45fb3cfef",
   "metadata": {},
   "outputs": [
    {
     "data": {
      "text/html": [
       "<video src=\"Çukur 1 Sezon 22 Bölüm (Full HD).mp4\" controls  >\n",
       "      Your browser does not support the <code>video</code> element.\n",
       "    </video>"
      ],
      "text/plain": [
       "<IPython.core.display.Video object>"
      ]
     },
     "execution_count": 9,
     "metadata": {},
     "output_type": "execute_result"
    }
   ],
   "source": [
    "from IPython.display import Video\n",
    "\n",
    "Video(\"Çukur 1 Sezon 22 Bölüm (Full HD).mp4\")"
   ]
  },
  {
   "cell_type": "markdown",
   "id": "35c81283-6767-4a00-a7ba-1102cb794e6a",
   "metadata": {},
   "source": []
  },
  {
   "cell_type": "markdown",
   "id": "69c37dfa-03ea-4626-babc-cf5523e2309f",
   "metadata": {},
   "source": []
  }
 ],
 "metadata": {
  "kernelspec": {
   "display_name": "articles",
   "language": "python",
   "name": "articles"
  },
  "language_info": {
   "codemirror_mode": {
    "name": "ipython",
    "version": 3
   },
   "file_extension": ".py",
   "mimetype": "text/x-python",
   "name": "python",
   "nbconvert_exporter": "python",
   "pygments_lexer": "ipython3",
   "version": "3.9.13"
  }
 },
 "nbformat": 4,
 "nbformat_minor": 5
}
