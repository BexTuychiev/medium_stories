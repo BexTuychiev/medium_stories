{
 "cells": [
  {
   "cell_type": "markdown",
   "id": "33907505-4a9a-4535-b66c-303d62d5387a",
   "metadata": {},
   "source": [
    "# DagsHub: Host Your Code, Data, Models, and ML Experiments in One Place\n",
    "## Data science collaboration reimagined\n"
   ]
  },
  {
   "cell_type": "markdown",
   "id": "894bac4c-f0a6-418d-ba76-4eb8cc745f9c",
   "metadata": {},
   "source": [
    "### Motivation"
   ]
  },
  {
   "cell_type": "markdown",
   "id": "0fe81023-6ef7-4566-85af-604fa892e787",
   "metadata": {},
   "source": []
  },
  {
   "cell_type": "markdown",
   "id": "e9aecf7a-876a-4f48-b825-5a56e47610de",
   "metadata": {},
   "source": [
    "### Conclusion"
   ]
  }
 ],
 "metadata": {
  "kernelspec": {
   "display_name": "articles",
   "language": "python",
   "name": "articles"
  },
  "language_info": {
   "codemirror_mode": {
    "name": "ipython",
    "version": 3
   },
   "file_extension": ".py",
   "mimetype": "text/x-python",
   "name": "python",
   "nbconvert_exporter": "python",
   "pygments_lexer": "ipython3",
   "version": "3.9.13"
  }
 },
 "nbformat": 4,
 "nbformat_minor": 5
}
