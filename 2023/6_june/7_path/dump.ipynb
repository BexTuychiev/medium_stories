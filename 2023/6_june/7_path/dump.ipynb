{
 "cells": [
  {
   "cell_type": "markdown",
   "id": "45684d17-b656-49c7-b1c9-0f537b64179f",
   "metadata": {},
   "source": [
    "# The PATH Variable For the Confused Data Scientist: What Is It Really?\n",
    "## and where to find and edit it?\n",
    "![](images/image.png)"
   ]
  },
  {
   "cell_type": "markdown",
   "id": "e21aa14b-9678-422a-b571-e6fcabae1b98",
   "metadata": {},
   "source": [
    "### Introduction"
   ]
  },
  {
   "cell_type": "markdown",
   "id": "5d530a39-e5c4-4c91-b503-b90530fda729",
   "metadata": {},
   "source": [
    "Sometimes I feel like people on StackOverflow have compasses stuck to the roof of their heads. They always seem to find it.\n",
    "\n",
    "I think it isn't in your PATH. You might've messed up your PATH. Did you add it to your PATH? Check if the executable is in your PATH. \n",
    "\n",
    "\"I mean, what the fudge _is_ PATH?\" I would always say whenever I read such sentences, red in the face, trying to fix a bug. Now, I have put three trips around the sun in my journey and I almost fully know what it is. \n",
    "\n",
    "And in this article, I intend to teach that and hopefully clear any confusion you have about the PATH variable.\n",
    "\n",
    "Let's get started!"
   ]
  },
  {
   "cell_type": "markdown",
   "id": "c50d87a3-853d-4c88-b7ec-810896533abf",
   "metadata": {},
   "source": [
    "### Absolute vs. relative paths"
   ]
  },
  {
   "cell_type": "markdown",
   "id": "e639eb26-8621-495e-b676-74a908d4fad6",
   "metadata": {},
   "source": [
    "You might already be able to draw a distinction between absolute and relative paths but I wanted to reiterate as it is crucial to understand the PATH variable. \n",
    "\n",
    "An absolute path provides the complete and precise location of a file or a directory within a file system. It starts from the root directory of the file system and includes all the necessary directories to reach the target.\n",
    "\n",
    "In Unix-like systems (Linux, macOS), an absolute path begins with a forward slash (\"/\"), such as `\"/home/user/source/script.py\"`. In Windows, an absolute path typically starts with a drive letter and a colon followed by backslashes, such as \"C:\\Users\\User\\source\\script.py\" (don't you hate that they are different).\n",
    "\n",
    "Absolute paths are fixed and unambiguous, specifying the precise location of a file or directory regardless of the current working directory. They are commonly used when referring to files or directories in a consistent and independent manner.\n",
    "\n",
    "A relative path specifies the location of a file or directory relative to the current working directory or another reference point. It does not start from the root directory but provides a path starting from a certain point.\n",
    "\n",
    "Relative paths are shorter and more flexible. They are typically used within a specific context or when referring to files or directories relative to the current working directory. In Unix-like systems, a relative path may look like \"source/script.py\", assuming the current working directory is \"/home/user/\".\n",
    "\n",
    "In Windows systems, a relative path might be \"source\\script.py\" from the current working directory. The reference point for a relative path can vary, such as the current directory, a parent directory (\"..\"), or any other directory within the file system hierarchy.\n",
    "\n",
    "Using an analogy, absolute path is like receiving step-by-step directions to a store starting from the mall's entrance, specifying each turn and landmark along the way. A relative path, on the other hand, is like getting directions to a store based on your current location inside the mall, using nearby references and a shorter set of instructions. "
   ]
  },
  {
   "cell_type": "markdown",
   "id": "1e2e242b-aed0-46bf-aae5-857de0c83c3e",
   "metadata": {},
   "source": [
    "### Commands have paths, too"
   ]
  },
  {
   "cell_type": "markdown",
   "id": "67c096ec-8ce2-4d9f-abe1-1834364d8bc8",
   "metadata": {},
   "source": [
    "What is the one terminal command you use the most? Without a doubt, mine is `git` as I frequently make commits while writing articles.\n",
    "\n",
    "The reason I am asking is because most terminal commands have their own paths in the operating system as well. To find that path, you only have to write `which valid_command_name`. For example, here is the path to my `git` instance:\n",
    "\n",
    "```\n",
    "$ which git\n",
    "\n",
    "/usr/bin/git\n",
    "```"
   ]
  },
  {
   "cell_type": "markdown",
   "id": "67caf6fc-b6f8-4812-a118-313002d15c25",
   "metadata": {},
   "source": [
    "You might recognize that the above is an absolute path. But it is a path to what, exactly? An executable binary file!\n",
    "\n",
    "It contains instructions on what to do when `git` commands are run. All terminal commands are shell scripts or executables in some form that perform certain tasks. \n",
    "\n",
    "For example, you can try the `which` command on built-in terminal commands like `clear`, `cat` or `touch` and you would get absolute paths (for even the `which` command itself).\n",
    "\n",
    "Once you get the path to the executable, you can try running it like this:\n",
    "\n",
    "```\n",
    "$ /usr/bin/git status -s  # the same as `git status -s`\n",
    "\n",
    "M 2023/6_june/7_path/dump.ipynb\n",
    "```"
   ]
  },
  {
   "cell_type": "markdown",
   "id": "7e55d309-2eca-4891-91e2-51a4464b2303",
   "metadata": {},
   "source": [
    "And it works! But here is what's interesting - how can the word `git` is equivalent to the absolute path `/usr/bin/git`? I mean, `git` is not even a relative path to the Git executable. \n",
    "\n",
    "How does your computer know the full executable paths of so many commands and can run them with only a single keyword?\n",
    "\n",
    "(This is the eureka moment!)\n",
    "\n",
    "Using the PATH variable!"
   ]
  },
  {
   "cell_type": "markdown",
   "id": "6b657b1e-5a86-4250-a974-ae15eee0a72c",
   "metadata": {},
   "source": [
    "### Behold - the PATH!"
   ]
  },
  {
   "cell_type": "markdown",
   "id": "f3079be2-2757-41c6-af46-108e3e1cb423",
   "metadata": {},
   "source": [
    "The PATH is a variable that holds the absolute paths to executable files that run all terminal commands, whether built-in or user-installed. \n",
    "\n",
    "When you type any command such as `conda env create`, the operating system looks for an executable called `conda` within your PATH variable. If it can't find the executable, it returns a `command not found` error:\n",
    "\n",
    "```\n",
    "$ unknown_command\n",
    "unknown_command: command not found\n",
    "```"
   ]
  },
  {
   "cell_type": "markdown",
   "id": "4c400721-a7ac-41cf-89db-67da1bec00f0",
   "metadata": {},
   "source": [
    "You can look at all the paths in your PATH variable with a single command.\n",
    "\n",
    "On Unix-like systems:\n",
    "\n",
    "```\n",
    "$ echo $PATH\n",
    "/home/bexgboost/.local/bin:/home/bexgboost/anaconda3/bin:...\n",
    "```\n",
    "\n",
    "On Windows:\n",
    "\n",
    "```\n",
    "$ ECHO %PATH%\n",
    "C:\\Python39\\Scripts\\;C:\\Python39\\;C:\\WINDOWS\\system32;\n",
    "```"
   ]
  },
  {
   "cell_type": "markdown",
   "id": "c6d57f13-1fd1-4607-aae0-eeec18ce2a77",
   "metadata": {},
   "source": [
    "The paths are separated by colons and semi-colons in Unix and Windows, respectively. It is because of these paths that you don't have to remember dozens of absolute paths to executables installed in your system."
   ]
  },
  {
   "cell_type": "markdown",
   "id": "9ef9f732-f474-4cf0-a0f8-2043de628a70",
   "metadata": {},
   "source": [
    "### Conclusion"
   ]
  }
 ],
 "metadata": {
  "kernelspec": {
   "display_name": "articles",
   "language": "python",
   "name": "articles"
  },
  "language_info": {
   "codemirror_mode": {
    "name": "ipython",
    "version": 3
   },
   "file_extension": ".py",
   "mimetype": "text/x-python",
   "name": "python",
   "nbconvert_exporter": "python",
   "pygments_lexer": "ipython3",
   "version": "3.9.13"
  }
 },
 "nbformat": 4,
 "nbformat_minor": 5
}
