{
 "cells": [
  {
   "cell_type": "markdown",
   "id": "45684d17-b656-49c7-b1c9-0f537b64179f",
   "metadata": {},
   "source": [
    "# The PATH Variable For the Confused Data Scientist: What Is It Really?\n",
    "## and where to find and edit it?\n",
    "![](images/image.png)"
   ]
  }
 ],
 "metadata": {
  "kernelspec": {
   "display_name": "articles",
   "language": "python",
   "name": "articles"
  },
  "language_info": {
   "codemirror_mode": {
    "name": "ipython",
    "version": 3
   },
   "file_extension": ".py",
   "mimetype": "text/x-python",
   "name": "python",
   "nbconvert_exporter": "python",
   "pygments_lexer": "ipython3",
   "version": "3.9.13"
  }
 },
 "nbformat": 4,
 "nbformat_minor": 5
}
