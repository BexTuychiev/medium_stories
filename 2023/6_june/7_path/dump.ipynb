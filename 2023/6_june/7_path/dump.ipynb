{
 "cells": [
  {
   "cell_type": "markdown",
   "id": "45684d17-b656-49c7-b1c9-0f537b64179f",
   "metadata": {},
   "source": [
    "# The PATH Variable For the Confused Data Scientist: What Is It Really?\n",
    "## and where to find and edit it?\n",
    "![](images/image.png)"
   ]
  },
  {
   "cell_type": "markdown",
   "id": "e21aa14b-9678-422a-b571-e6fcabae1b98",
   "metadata": {},
   "source": [
    "### Introduction"
   ]
  },
  {
   "cell_type": "markdown",
   "id": "5d530a39-e5c4-4c91-b503-b90530fda729",
   "metadata": {},
   "source": [
    "Sometimes I feel like people on StackOverflow have compasses stuck to the roof of their heads. They always seem to find it.\n",
    "\n",
    "I think it isn't in your PATH. You might've messed up your PATH. Did you add it to your PATH? Check if the executable is in your PATH. \n",
    "\n",
    "\"I mean, what the fudge _is_ PATH?\" I would always say whenever I read such sentences, red in the face, trying to fix a bug. Now, I have put three trips around the sun in my journey and I almost fully know what it is. \n",
    "\n",
    "And in this article, I intend to teach that and hopefully clear any confusion you have about the PATH variable.\n",
    "\n",
    "Let's get started!"
   ]
  },
  {
   "cell_type": "markdown",
   "id": "fa5cb0b0-d5f6-4330-87f2-3bc78efab96c",
   "metadata": {},
   "source": []
  },
  {
   "cell_type": "markdown",
   "id": "c61bf8ba-20bf-4beb-ad13-95d48c37ea20",
   "metadata": {},
   "source": []
  },
  {
   "cell_type": "markdown",
   "id": "f3bc4e03-03ce-4cd7-8cc7-1898a6d14cdc",
   "metadata": {},
   "source": []
  },
  {
   "cell_type": "markdown",
   "id": "9ef9f732-f474-4cf0-a0f8-2043de628a70",
   "metadata": {},
   "source": [
    "### Conclusion"
   ]
  }
 ],
 "metadata": {
  "kernelspec": {
   "display_name": "articles",
   "language": "python",
   "name": "articles"
  },
  "language_info": {
   "codemirror_mode": {
    "name": "ipython",
    "version": 3
   },
   "file_extension": ".py",
   "mimetype": "text/x-python",
   "name": "python",
   "nbconvert_exporter": "python",
   "pygments_lexer": "ipython3",
   "version": "3.9.13"
  }
 },
 "nbformat": 4,
 "nbformat_minor": 5
}
