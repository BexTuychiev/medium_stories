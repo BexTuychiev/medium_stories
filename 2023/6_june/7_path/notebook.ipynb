{
 "cells": [
  {
   "cell_type": "markdown",
   "id": "45684d17-b656-49c7-b1c9-0f537b64179f",
   "metadata": {},
   "source": [
    "# The PATH Variable For the Confused Data Scientist: How to Manage It?\n",
    "![](images/image.png)"
   ]
  },
  {
   "cell_type": "markdown",
   "id": "e21aa14b-9678-422a-b571-e6fcabae1b98",
   "metadata": {},
   "source": [
    "### Introduction"
   ]
  },
  {
   "cell_type": "markdown",
   "id": "5d530a39-e5c4-4c91-b503-b90530fda729",
   "metadata": {},
   "source": [
    "Sometimes I feel like people on StackOverflow have compasses stuck to the roof of their heads. They always seem to find the PATH.\n",
    "\n",
    "I think it isn't in your PATH. You might've messed up your PATH. Did you add it to your PATH? Check if the executable is in your PATH. \n",
    "\n",
    "\"I mean, what the fudge _is_ PATH?\" I would always say whenever I read such sentences, red in the face, trying to fix a bug. Now, it is over three years in my data science journey and I fully know what it is. Almost. \n",
    "\n",
    "And in this article, I intend to teach how to manage this confusing environment variable in both Windows and Unix-like systems.\n",
    "\n",
    "Let's get started!"
   ]
  },
  {
   "cell_type": "markdown",
   "id": "c50d87a3-853d-4c88-b7ec-810896533abf",
   "metadata": {},
   "source": [
    "### Absolute vs. relative paths"
   ]
  },
  {
   "cell_type": "markdown",
   "id": "e639eb26-8621-495e-b676-74a908d4fad6",
   "metadata": {},
   "source": [
    "You might already be able to draw a distinction between absolute and relative paths but I wanted to reiterate as it is crucial to understand the PATH variable. \n",
    "\n",
    "An absolute path provides the complete and precise location of a file or a directory within a file system. It starts from the root directory of the file system and includes all the necessary directories to reach the target.\n",
    "\n",
    "In Unix-like systems (Linux, macOS), an absolute path begins with a forward slash (\"/\"), such as `\"/home/user/source/script.py\"`. In Windows, an absolute path typically starts with a drive letter and a colon followed by backslashes, such as `\"C:\\Users\\User\\source\\script.py\"` (don't you hate that they are different?).\n",
    "\n",
    "A relative path specifies the location of a file or directory relative to the current working directory or another reference point. It does not start from the root directory but provides a path starting from a certain point.\n",
    "\n",
    "Relative paths are shorter and more flexible. They are typically used within a specific context or when referring to files or directories relative to the current working directory. In Unix-like systems, a relative path may look like `\"source/script.py\"`, assuming the current working directory is \"`/home/user/\"`.\n",
    "\n",
    "In Windows systems, a relative path might be `\"source\\script.py\"` from the current working directory. The reference point for a relative path can vary, such as the current directory, a parent directory (\"..\"), or any other directory within the file system hierarchy.\n",
    "\n",
    "Using an analogy, absolute path is like receiving step-by-step directions to a store starting from the mall's entrance, specifying each turn and landmark along the way. A relative path, on the other hand, is like getting directions to a store based on your current location inside the mall, using nearby references and a shorter set of instructions. "
   ]
  },
  {
   "cell_type": "markdown",
   "id": "1e2e242b-aed0-46bf-aae5-857de0c83c3e",
   "metadata": {},
   "source": [
    "### Commands have paths, too"
   ]
  },
  {
   "cell_type": "markdown",
   "id": "67c096ec-8ce2-4d9f-abe1-1834364d8bc8",
   "metadata": {},
   "source": [
    "What is the one terminal command you use the most? Without a doubt, mine is `git` as I frequently make commits while writing articles.\n",
    "\n",
    "The reason I am asking is because most terminal commands have their own paths in the operating system as well. To find that path, you only have to write `which valid_command_name`. For example, here is the path to my `git` instance:\n",
    "\n",
    "```\n",
    "$ which git  # In windows, use `where`\n",
    "\n",
    "/usr/bin/git\n",
    "```"
   ]
  },
  {
   "cell_type": "markdown",
   "id": "67caf6fc-b6f8-4812-a118-313002d15c25",
   "metadata": {},
   "source": [
    "You might recognize that the above is an absolute path. But it is a path to what, exactly? \n",
    "\n",
    "An executable binary file! (If you are in Windows, you will get a `.exe` file path)\n",
    "\n",
    "It contains instructions on what to do when `git` commands are run. All terminal commands are shell scripts or executables in some form that perform certain tasks. \n",
    "\n",
    "For example, you can try the `which` command on built-in terminal commands like `clear`, `cat` or `touch` and you would get absolute paths (for even the `which` command itself).\n",
    "\n",
    "Once you get the path to the executable, you can try running it like this:\n",
    "\n",
    "```\n",
    "$ /usr/bin/git status -s  # the same as `git status -s`\n",
    "\n",
    "M 2023/6_june/7_path/dump.ipynb\n",
    "```"
   ]
  },
  {
   "cell_type": "markdown",
   "id": "7e55d309-2eca-4891-91e2-51a4464b2303",
   "metadata": {},
   "source": [
    "And it works! But here is what's interesting - how can the word `git` is equivalent to the absolute path `/usr/bin/git`? I mean, the word `git` is not even a relative path to the Git executable. \n",
    "\n",
    "How does your computer know the full executable paths of so many commands and can run them with only a single keyword?\n",
    "\n",
    "(This is the eureka moment!)\n",
    "\n",
    "Using the PATH variable!"
   ]
  },
  {
   "cell_type": "markdown",
   "id": "6b657b1e-5a86-4250-a974-ae15eee0a72c",
   "metadata": {},
   "source": [
    "### Behold - the PATH!"
   ]
  },
  {
   "cell_type": "markdown",
   "id": "f3079be2-2757-41c6-af46-108e3e1cb423",
   "metadata": {},
   "source": [
    "The PATH is a variable that holds the absolute paths to executable files that run all terminal commands, whether built-in or user-installed. \n",
    "\n",
    "When you type any command such as `conda env create`, the operating system looks for an executable called `conda` within your PATH variable. If it can't find the executable, it returns a `command not found` error:\n",
    "\n",
    "```\n",
    "$ unknown_command\n",
    "unknown_command: command not found\n",
    "```"
   ]
  },
  {
   "cell_type": "markdown",
   "id": "4c400721-a7ac-41cf-89db-67da1bec00f0",
   "metadata": {},
   "source": [
    "You can look at all the paths in your PATH variable with a single command.\n",
    "\n",
    "On Unix-like systems:\n",
    "\n",
    "```\n",
    "$ echo $PATH\n",
    "/home/bexgboost/.local/bin:/home/bexgboost/anaconda3/bin:...\n",
    "```\n",
    "\n",
    "On Windows:\n",
    "\n",
    "```\n",
    "$ ECHO %PATH%\n",
    "C:\\Python39\\Scripts\\;C:\\Python39\\;C:\\WINDOWS\\system32;\n",
    "```"
   ]
  },
  {
   "cell_type": "markdown",
   "id": "c6d57f13-1fd1-4607-aae0-eeec18ce2a77",
   "metadata": {},
   "source": [
    "Each path in PATH is separated by a colon in Unix and a semicolon in Windows. \n",
    "\n",
    "It is thanks to these paths that you don't have to remember dozens of absolute paths to executables installed in your system."
   ]
  },
  {
   "cell_type": "markdown",
   "id": "e34a1a06-63a7-4e68-8db5-196d5aa8f390",
   "metadata": {},
   "source": [
    "### Working with PATH in Windows"
   ]
  },
  {
   "cell_type": "markdown",
   "id": "3d6b6787-51ee-4a07-83c1-15d0b226454d",
   "metadata": {},
   "source": [
    "Interacting and editing the PATH variable is different in Unix-like systems and stubborn Windows. This section is about managing your PATH variable in Windows. \n",
    "\n",
    "The most common operation you will do with PATH is adding new paths to it. \n",
    "\n",
    "For example, to add the `C:\\Users\\user\\Desktop\\articles` directory, you should open the Command Prompt or Powershell with administrator privileges. Then, run the following command:\n",
    "\n",
    "```powershell\n",
    "$ setx PATH \"%PATH%;C:\\Users\\user\\Desktop\\articles\"\n",
    "```\n",
    "\n",
    "But, don't rush - if you aren't careful `setx` command may end up very badly for your PATH. So, the safe thing to do in Windows is to add paths via the System Properties Window. \n",
    "\n",
    "Here is a step-by-step instructions and a GIF to add a new path to PATH:\n",
    "\n",
    "1. Click the Start button and search for \"Edit the system environment variables\" and click on the first result.\n",
    "2. Click on \"Environment Variables\" from the pop-up window.\n",
    "3. Decided whether the new path should be added for the current user or the entire system. \n",
    "4. Under \"User variables for username\" or \"System variables\", scroll down till you find the \"Path\" variable.\n",
    "5. Select it and click Edit. \n",
    "6. In the new pop-up Window, click \"New\" and paste the new path like `C:\\Users\\user\\Desktop\\articles`\n",
    "7. Click OK three times. \n",
    "\n",
    "![](images/windows.gif)"
   ]
  },
  {
   "cell_type": "markdown",
   "id": "e75b2f2c-c44b-47e5-8349-2cb430616e4c",
   "metadata": {},
   "source": [
    "From the final pop-up window, you can also delete or change the order of paths (see the final section on the importance of order)."
   ]
  },
  {
   "cell_type": "markdown",
   "id": "9ea2ceb3-2b66-4a34-b649-56dfbd600800",
   "metadata": {},
   "source": [
    "### Working with PATH in Unix"
   ]
  },
  {
   "cell_type": "markdown",
   "id": "2be8effc-d97f-4e0b-842b-e436ddb6580c",
   "metadata": {},
   "source": [
    "In Unix-like systems, adding a new path to PATH is much easier. \n",
    "\n",
    "For instance, to add the `/home/bexgboost/articles` path, you have to run the following command:\n",
    "\n",
    "```bash\n",
    "$ export PATH=\"/home/bexgboost/articles:$PATH\"\n",
    "```\n",
    "\n",
    "The new path will be added to the very beginning of PATH. To add it to the end, you have to change the place of `$PATH`:\n",
    "\n",
    "```bash\n",
    "$ export PATH=\"$PATH:/home/bexgboost/articles\"\n",
    "```\n",
    "\n",
    "But the new path will be added only for the duration of the current terminal session. To add it your PATH environment variable permanently, you have to append the `export` command to your shell configuration file. \n",
    "\n",
    "The specific file depends on the shell you're using:\n",
    "\n",
    "- For Bash: Add the export command to `~/.bashrc` or `~/.bash_profile`.\n",
    "- For Zsh: Add the export command to `~/.zshrc`.\n",
    "- For Fish: Add the export command to `~/.config/fish/config.fish`.\n",
    "\n",
    "Once you choose your own from the list (I will choose `.bash_profile`), use the following `echo` command:\n",
    "\n",
    "```bash\n",
    "$ echo 'export PATH=\"$PATH:/home/bexgboost/articles\"' >> ~/.bash_profile\n",
    "```\n",
    "\n",
    "Then, reload the configuration file with `source ~/.bash_profile`."
   ]
  },
  {
   "cell_type": "markdown",
   "id": "dc9c0cb5-baef-4511-b726-cfc9e49991e7",
   "metadata": {},
   "source": [
    "### The order of paths"
   ]
  },
  {
   "cell_type": "markdown",
   "id": "afe530e9-114a-4c4d-b1a5-120b21b1d144",
   "metadata": {},
   "source": [
    "The order of paths in the PATH variable determines the priority in which directories are searched when executing commands or programs.\n",
    "\n",
    "When you enter a command in the terminal, the operating system looks for its executable by sequentially checking each path in PATH from left to right. If multiple directories contain executables with the same name, the first one will be used. \n",
    "\n",
    "For example, if you have multiple Python versions on your system, the leftmost Python executable in your PATH will be used when you run `python`. "
   ]
  },
  {
   "cell_type": "markdown",
   "id": "2a8af319-6a02-4314-a1e2-7eb724bbd5dd",
   "metadata": {},
   "source": [
    "### Conclusion"
   ]
  },
  {
   "cell_type": "markdown",
   "id": "fe9d6e9c-a15e-43f9-afd4-9b788d348cd6",
   "metadata": {},
   "source": [
    "In the world of data science and ML, the terminal is often overlooked. Instead, online courses and bootcamps draw the attention of beginners to shinier IDEs like VSCode or JupyterLab. \n",
    "\n",
    "But someday, the inevitable happens and they have to open up the rusty shell on their own machines. That's when they hit a giant roadblock in their PATH.\n",
    "\n",
    "I hope this article will let you crush that roadblock to pieces. \n",
    "\n",
    "Thank you for reading!\n",
    "\n",
    "-----------\n",
    "\n",
    "Loved this article and, let's face it, its bizarre writing style? Imagine having access to dozens more just like it, all written by a brilliant, charming, witty author (that's me, by the way :).\n",
    "\n",
    "For only 4.99$ membership, you will get access to not just my stories, but a treasure trove of knowledge from the best and brightest minds on Medium. And if you use [my referral link](https://ibexorigin.medium.com/membership), you will earn my supernova of gratitude and a virtual high-five for supporting my work.\n",
    "\n",
    "https://ibexorigin.medium.com/membership"
   ]
  }
 ],
 "metadata": {
  "kernelspec": {
   "display_name": "articles",
   "language": "python",
   "name": "articles"
  },
  "language_info": {
   "codemirror_mode": {
    "name": "ipython",
    "version": 3
   },
   "file_extension": ".py",
   "mimetype": "text/x-python",
   "name": "python",
   "nbconvert_exporter": "python",
   "pygments_lexer": "ipython3",
   "version": "3.9.13"
  }
 },
 "nbformat": 4,
 "nbformat_minor": 5
}
