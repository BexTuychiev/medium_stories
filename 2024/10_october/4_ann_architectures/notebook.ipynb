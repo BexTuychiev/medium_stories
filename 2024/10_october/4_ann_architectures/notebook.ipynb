{
 "cells": [
  {
   "cell_type": "markdown",
   "metadata": {},
   "source": [
    "# 11 Types of Artificial Neural Network Architectures You Must Know: From Perceptron to Diffusers"
   ]
  },
  {
   "cell_type": "markdown",
   "metadata": {},
   "source": [
    "## Why Learn About ANN Architectures?\n",
    "\n"
   ]
  },
  {
   "cell_type": "markdown",
   "metadata": {},
   "source": [
    "In a world dominated by transformers and diffusion models, you might ask \"Why learn about other neural network architectures?\". Well, there are three key reasons. \n",
    "\n",
    "First, you gain a deep intuition into the evolution and current state of AI technology. You have a better grasp on the capabilities and limitations of different AI approaches, and if you are a non-technical reader, be able to interpret AI news (of which there is a ton every week), breakthroughs, and their implications. \n",
    "\n",
    "Second, different architectures solve different problems, so you develop a bases for further learning in AI and machine learning tailored to specific domains. Also, you get to appreciate the interdisciplinary nature of AI (neuroscience, math, computer science). \n",
    "\n",
    "Third, you improve your career relevance in an increasingly AI-driven world by understanding the ethical and societal impacts of various AI technologies. In all cases, it is a win-win situation for you, so let's get started."
   ]
  },
  {
   "cell_type": "markdown",
   "metadata": {},
   "source": [
    "## 1. Perceptron (1958)\n",
    "\n"
   ]
  },
  {
   "cell_type": "markdown",
   "metadata": {},
   "source": [
    "## 2. Multilayer Perceptron (MLP) / Feedforward Neural Network (1960s-1980s)\n",
    "\n"
   ]
  },
  {
   "cell_type": "markdown",
   "metadata": {},
   "source": [
    "## 3. Convolutional Neural Network (CNN) (1980s, popularized in 2012)\n",
    "\n"
   ]
  },
  {
   "cell_type": "markdown",
   "metadata": {},
   "source": [
    "## 4. Recurrent Neural Network (RNN) (1980s-1990s)\n",
    "\n"
   ]
  },
  {
   "cell_type": "markdown",
   "metadata": {},
   "source": [
    "## 5. Long Short-Term Memory (LSTM) (1997)\n",
    "\n"
   ]
  },
  {
   "cell_type": "markdown",
   "metadata": {},
   "source": [
    "## 6. Autoencoders (2000s)\n",
    "\n"
   ]
  },
  {
   "cell_type": "markdown",
   "metadata": {},
   "source": [
    "## 7. Deep Belief Networks (DBN) (2006)\n",
    "\n"
   ]
  },
  {
   "cell_type": "markdown",
   "metadata": {},
   "source": [
    "## 8. Generative Adversarial Networks (GANs) (2014)\n",
    "\n"
   ]
  },
  {
   "cell_type": "markdown",
   "metadata": {},
   "source": [
    "## 9. Transformer (2017)\n",
    "\n"
   ]
  },
  {
   "cell_type": "markdown",
   "metadata": {},
   "source": [
    "## 10. Vision Transformer (ViT) (2020)\n",
    "\n"
   ]
  },
  {
   "cell_type": "markdown",
   "metadata": {},
   "source": [
    "## 11. Diffusion Models (2020-2022)\n",
    "\n"
   ]
  },
  {
   "cell_type": "markdown",
   "metadata": {},
   "source": [
    "## Conclusion"
   ]
  }
 ],
 "metadata": {
  "language_info": {
   "name": "python"
  }
 },
 "nbformat": 4,
 "nbformat_minor": 2
}
