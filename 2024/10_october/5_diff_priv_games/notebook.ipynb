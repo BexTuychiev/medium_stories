{
 "cells": [
  {
   "cell_type": "markdown",
   "metadata": {},
   "source": [
    "# Differentially Private Data Science - What, Why And How?"
   ]
  },
  {
   "cell_type": "markdown",
   "metadata": {},
   "source": [
    "Differential privacy has become a standard framework for applying strict individual privacy protection. It provides a controlled way to ingest calibrated noise into sensitive datasets so that any statistical analyses conducted on them are in line with current legal demands like GDPR or CCPA. The core idea behind DP is that the addition or removal of any individual from a sensitive dataset should not significantly affect the result of an analysis. This feature provides a strong privacy guarantee, allowing analysts and scientists to prevent linkage attacks, which is crucial in many domains such as research, medicine, census and financial fields. In this tutorial, we will explore how this mathematical framework works, how to implement it and some critical ideas around it. "
   ]
  },
  {
   "cell_type": "markdown",
   "metadata": {},
   "source": [
    "## What Is Differential Privacy?"
   ]
  },
  {
   "cell_type": "markdown",
   "metadata": {},
   "source": [
    "- Used to prevent linkage attacks\n",
    "- According to their definition, the presence or absence of any individual record in the dataset should not significantly affect the mechanism's outcome.\n",
    "- We call \"mechanism\" any computation that can be performed on the data. Differential privacy deals with randomized mechanisms, which are analyses whose output changes probabilistically for a given input.\n",
    "- Thus, a mechanism is considered differentially private if the probability of any outcome occurring is nearly identical for any two datasets that differ in only one record.\n",
    "\n",
    "![](https://www.anonos.com/hs-fs/hubfs/differential/Diff.1.webp?width=834&height=429&name=Diff.1.webp)"
   ]
  },
  {
   "cell_type": "markdown",
   "metadata": {},
   "source": [
    "Let's define differential privacy by solving a seemingly simple problem: how to find the total number of data points in a sensitive dataset? Put another way, how do we find a value close enough to the true count but still not give away the real answer?\n",
    "\n",
    "First, let's answer why would we even feel the need to hide this information. In some cases, knowing the exact number of records in a dataset can reveal sensitive information. For instance, in a medical study about a rare disease, if an attacker knows the total count and can find out that it increased by one after a specific person joined the study, they could infer that person's medical condition. \n",
    "\n",
    "Similarly, other statistics like the mean can also pose risks. In a salary database, if an attacker knows the mean salary before and after a new employee joins, they could potentially calculate that individual's exact salary. Another example is in voting data: if the mean age of voters in a small district is known, and then changes slightly after one person votes, their age and voting status could be deduced. These scenarios illustrate why protecting even basic aggregate statistics is crucial in maintaining individual privacy and preventing unintended disclosure of sensitive information.\n",
    "\n",
    "So, going back to hiding the true count, adding random noise to the result would provide the most irreversible mask. This approach forms the foundation of differential privacy."
   ]
  },
  {
   "cell_type": "markdown",
   "metadata": {},
   "source": [
    "\n",
    "By introducing carefully calibrated random noise to our count, we can obscure the true value while still providing a useful approximation. The amount of noise added is typically drawn from a probability distribution, such as the Laplace distribution, which is commonly used in differential privacy implementations.\n",
    "\n",
    "The key idea is that the noise should be large enough to mask the presence or absence of any single individual in the dataset, but small enough to maintain the utility of the data for analysis purposes. This is where the epsilon parameter comes into play, controlling the trade-off between privacy and accuracy."
   ]
  },
  {
   "cell_type": "markdown",
   "metadata": {},
   "source": [
    "## What Is Sensitivity And Epsilon in Differential Privacy?"
   ]
  },
  {
   "cell_type": "code",
   "execution_count": null,
   "metadata": {},
   "outputs": [
    {
     "name": "stdout",
     "output_type": "stream",
     "text": [
      "True population: 1000\n",
      "Private population: 1018.3669040577329\n"
     ]
    }
   ],
   "source": [
    "import numpy as np\n",
    "\n",
    "# Example: Applying ε-DP to census data\n",
    "def add_laplace_noise(true_count, epsilon):\n",
    "    sensitivity = 1.0\n",
    "    scale = sensitivity / epsilon\n",
    "    noise = np.random.laplace(0, scale)\n",
    "    return true_count + noise\n",
    "\n",
    "# Usage\n",
    "true_population = 1000\n",
    "epsilon = 0.05\n",
    "private_population = add_laplace_noise(true_population, epsilon)\n",
    "\n",
    "print(f\"True population: {true_population}\")\n",
    "print(f\"Private population: {private_population}\")"
   ]
  },
  {
   "cell_type": "code",
   "execution_count": 10,
   "metadata": {},
   "outputs": [
    {
     "name": "stdout",
     "output_type": "stream",
     "text": [
      "True average age: 42.5\n",
      "Differentially private average age: 39.48729397508328\n"
     ]
    }
   ],
   "source": [
    "# Example: Differentially private mean calculation\n",
    "def private_mean(data, epsilon):\n",
    "    n = len(data)\n",
    "    sensitivity = (max(data) - min(data)) / n\n",
    "    noise = np.random.laplace(0, sensitivity / epsilon)\n",
    "    return np.mean(data) + noise\n",
    "\n",
    "# Usage\n",
    "patient_ages = [25, 30, 35, 40, 45, 50, 55, 60]\n",
    "epsilon = 0.5\n",
    "private_avg_age = private_mean(patient_ages, epsilon)\n",
    "\n",
    "print(f\"True average age: {np.mean(patient_ages)}\")\n",
    "print(f\"Differentially private average age: {private_avg_age}\")\n"
   ]
  },
  {
   "cell_type": "markdown",
   "metadata": {},
   "source": [
    "## The Importance of Epsilon Shown Visually"
   ]
  },
  {
   "cell_type": "markdown",
   "metadata": {},
   "source": [
    "## Online Games Illustrating Epsilon's Importance"
   ]
  },
  {
   "cell_type": "markdown",
   "metadata": {},
   "source": [
    "## Conclusion"
   ]
  }
 ],
 "metadata": {
  "kernelspec": {
   "display_name": "base",
   "language": "python",
   "name": "python3"
  },
  "language_info": {
   "codemirror_mode": {
    "name": "ipython",
    "version": 3
   },
   "file_extension": ".py",
   "mimetype": "text/x-python",
   "name": "python",
   "nbconvert_exporter": "python",
   "pygments_lexer": "ipython3",
   "version": "3.12.5"
  }
 },
 "nbformat": 4,
 "nbformat_minor": 2
}
