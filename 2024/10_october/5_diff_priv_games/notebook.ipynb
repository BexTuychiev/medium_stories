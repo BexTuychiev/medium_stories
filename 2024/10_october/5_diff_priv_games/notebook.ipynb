{
 "cells": [
  {
   "cell_type": "markdown",
   "metadata": {},
   "source": [
    "# Differentially Private Data Science - What, Why And How?"
   ]
  },
  {
   "cell_type": "markdown",
   "metadata": {},
   "source": [
    "Differential privacy has become a standard framework for applying strict individual privacy protection. It provides a controlled way to ingest calibrated noise into sensitive datasets so that any statistical analyses conducted on them are in line with current legal demands like GDPR or CCPA. The core idea behind DP is that the addition or removal of any individual from a sensitive dataset should not significantly affect the result of an analysis. This feature provides a strong privacy guarantee, allowing analysts and scientists to prevent linkage attacks, which is crucial in many domains such as research, medicine, census and finance. In this tutorial, we will explore how this mathematical framework works, how to implement it and important related ideas. "
   ]
  },
  {
   "cell_type": "markdown",
   "metadata": {},
   "source": [
    "## Why Do We Need Differential Privacy?"
   ]
  },
  {
   "cell_type": "markdown",
   "metadata": {},
   "source": [
    "Differential privacy uses randomized computations to preserve individual privacy. This means that every time you print a differentially private mean (or other statistic) of a dataset, you get a different result each time that is close to the _true mean_. \n",
    "\n",
    "To make each result truly irreversible, DP introduces a calibrated noise drawn from a probability distribution, typically the Laplace distribution. The drawn noise is large enough to mask the presence or absence of any single individual in the dataset, but small enough to maintain the utility of the data for analysis purposes.\n",
    "\n",
    "But why would we even feel the need to hide such basic information? \n",
    "\n",
    "For example, in a medical study about a rare disease, if an attacker knows the total count and can find out that it increased by one after a specific person joined the study, they could infer that person's medical condition. Or in a salary database, if an attacker knows the mean salary before and after a new employee joins, they could potentially calculate that individual's exact salary. Another example is in voting data: if the mean age of voters in a small district is known, and then changes slightly after one person votes, their age and voting status could be deduced.\n",
    "\n",
    "The goal of DP is to apply a randomized mechanism to all computations performed on a sensitive dataset so that the probability of any result occurring is nearly identical for any two datasets that differ in only one record."
   ]
  },
  {
   "cell_type": "markdown",
   "metadata": {},
   "source": [
    "![](https://www.anonos.com/hs-fs/hubfs/differential/Diff.1.webp?width=834&height=429&name=Diff.1.webp)\n",
    "\n",
    "[Source: Anonos](https://www.anonos.com/blog/what-is-differential-privacy-definition-mechanisms-examples#toc-1)"
   ]
  },
  {
   "cell_type": "markdown",
   "metadata": {},
   "source": [
    "So, by making computations differentially private, we prevent {continue this sentence. remove hashtags}."
   ]
  },
  {
   "cell_type": "markdown",
   "metadata": {},
   "source": [
    "## Sensitivity And Epsilon in Differential Privacy"
   ]
  },
  {
   "cell_type": "markdown",
   "metadata": {},
   "source": [
    "In the last section, we mentioned that DP injects noise drawn from probability distributions into datasets. The amount of noise should be carefully calibrated to maintain the usability of data. For example, if a _true count_ of samples in a dataset is 1000, the private count cannot be too far, like 1500, because it would make the statistic useless. So, to control the amount of this noise, DP uses two components: __sensitivity of a function and __epsilon hyperparameter__. \n",
    "\n",
    "Function sensitivity is the maximum amount the function output can change if a single unit is added or removed from the input dataset. For example, the sensitivity of a counter function is 1 because removing a single row from a dataset changes the counter's output by only 1. This concept is critical in DP because sensitivity determines how much noise should be added to a dataset. The larger the sensitivity, the more noise must be added.\n",
    "\n",
    "But sensitivity alone isn't enough because we need _epsilon_ to control the privacy-utility tradeoff. If we only use sensitivity to add noise, we would always add the same fixed amount of noise regardless of privacy needs.\n",
    "\n",
    "However, different scenarios require different privacy needs. For a low-stakes nation-wide public survey, we might be okay with less privacy, adding minimal noise. For sensitive medical data, we need stronger privacy, requiring more noise. \n",
    "\n",
    "DP combines sensitivity and epsilon in such a way that lower epsilon increases the noise while higher epsilon lowers it. For example, with epsilon=1, a counter function might add noise ±2-3 to the true count. But with epsilon=0.1 (stronger privacy), it might add noise ±20-30. Epsilon gives us this crucial flexibility to tune privacy protection based on context."
   ]
  },
  {
   "cell_type": "markdown",
   "metadata": {},
   "source": [
    "## Implementing Epsilon Differential Privacy"
   ]
  },
  {
   "cell_type": "markdown",
   "metadata": {},
   "source": [
    "Now, let's make the theory concrete by implementing DP versions of a counter and average functions:"
   ]
  },
  {
   "cell_type": "code",
   "execution_count": 2,
   "metadata": {},
   "outputs": [],
   "source": [
    "import numpy as np\n",
    "\n",
    "\n",
    "def true_counter(data):\n",
    "    return len(data)\n",
    "\n",
    "def true_mean(data):\n",
    "    return np.mean(data)"
   ]
  },
  {
   "cell_type": "markdown",
   "metadata": {},
   "source": [
    "First, we define two functions to find the true length and mean of a dataset. Now, let's implement `private_counter` that uses the Laplace mechanism (injects noise drawn from the Laplace distribution):"
   ]
  },
  {
   "cell_type": "code",
   "execution_count": 3,
   "metadata": {},
   "outputs": [],
   "source": [
    "def private_counter(data, epsilon):\n",
    "    sensitivity = 1\n",
    "    scale = sensitivity / epsilon\n",
    "    \n",
    "    noise = np.random.laplace(0, scale)\n",
    "    private_count = int(true_counter(data) + noise)\n",
    "    return private_count"
   ]
  },
  {
   "cell_type": "markdown",
   "metadata": {},
   "source": [
    "The `laplace` function of the `np.random` module requires a `scale` parameter which sets an anchor in the distribution around which the noise is drawn. We calculate the correct scale based on our needs by dividing sensitivity by epsilon. After the noise is drawn, we add the noise to the true count. Let's test it with different values of epsilon on a synthetic dataset with 1000 points:"
   ]
  },
  {
   "cell_type": "code",
   "execution_count": 4,
   "metadata": {},
   "outputs": [
    {
     "name": "stdout",
     "output_type": "stream",
     "text": [
      "Epsilon: 0.1\n",
      "True count: 1000\n",
      "Private count: 1010\n",
      "\n",
      "Epsilon: 1.0\n",
      "True count: 1000\n",
      "Private count: 1000\n",
      "\n",
      "Epsilon: 10.0\n",
      "True count: 1000\n",
      "Private count: 1000\n",
      "\n"
     ]
    }
   ],
   "source": [
    "# Test private_counter on a synthetic dataset with 1000 points\n",
    "# Create synthetic dataset\n",
    "data = np.ones(1000)  # Array of 1000 ones\n",
    "\n",
    "# Test with different epsilon values\n",
    "epsilons = [0.1, 1.0, 10.0]\n",
    "for epsilon in epsilons:\n",
    "    private_count = private_counter(data, epsilon)\n",
    "    print(f\"Epsilon: {epsilon}\")\n",
    "    print(f\"True count: {true_counter(data)}\")\n",
    "    print(f\"Private count: {private_count}\\n\")"
   ]
  },
  {
   "cell_type": "markdown",
   "metadata": {},
   "source": [
    "As we can see from the output, with a smaller epsilon value (0.1), we get more noise added to the true count, resulting in a larger difference between the true and private counts. As epsilon increases (1.0 and 10.0), the noise decreases and the private count gets closer to the true count of 1000. "
   ]
  },
  {
   "cell_type": "markdown",
   "metadata": {},
   "source": [
    "Now, let's implement `private_mean` function:"
   ]
  },
  {
   "cell_type": "code",
   "execution_count": 5,
   "metadata": {},
   "outputs": [
    {
     "name": "stdout",
     "output_type": "stream",
     "text": [
      "Epsilon: 0.1\n",
      "True mean: 42.5\n",
      "Private mean: 26.262520136642536\n",
      "\n",
      "Epsilon: 1.0\n",
      "True mean: 42.5\n",
      "Private mean: 43.08927795570684\n",
      "\n",
      "Epsilon: 10.0\n",
      "True mean: 42.5\n",
      "Private mean: 42.52975025323045\n",
      "\n"
     ]
    }
   ],
   "source": [
    "def private_mean(data, epsilon):\n",
    "    sensitivity = 1  # Similar to private_counter\n",
    "    scale = sensitivity / epsilon\n",
    "    \n",
    "    noise = np.random.laplace(0, scale)\n",
    "    result = true_mean(data) + noise\n",
    "    return result\n",
    "\n",
    "patient_ages = [25, 30, 35, 40, 45, 50, 55, 60]\n",
    "\n",
    "# Test with different epsilon values\n",
    "epsilons = [0.1, 1.0, 10.0]\n",
    "for epsilon in epsilons:\n",
    "    priv_mean = private_mean(patient_ages, epsilon)\n",
    "    print(f\"Epsilon: {epsilon}\")\n",
    "    print(f\"True mean: {true_mean(patient_ages)}\")\n",
    "    print(f\"Private mean: {priv_mean}\\n\")"
   ]
  },
  {
   "cell_type": "markdown",
   "metadata": {},
   "source": [
    "Similar to the counter example, we can observe that with a smaller epsilon value (0.1), more noise is added to the true mean, resulting in a larger difference between the true and private means. As epsilon increases (1.0 and 10.0), the noise decreases and the private mean gets closer to the true mean of the patient ages. This demonstrates the privacy-utility tradeoff in differential privacy - lower epsilon provides stronger privacy but less accurate results, while higher epsilon provides more accurate results but weaker privacy guarantees."
   ]
  },
  {
   "cell_type": "markdown",
   "metadata": {},
   "source": [
    "## The Importance of Epsilon Shown Visually"
   ]
  },
  {
   "cell_type": "code",
   "execution_count": 6,
   "metadata": {},
   "outputs": [
    {
     "name": "stdout",
     "output_type": "stream",
     "text": [
      "Normal Distribution reconstructed with different privacy levels:\n"
     ]
    },
    {
     "data": {
      "image/png": "[encoded data removed]",
      "text/plain": [
       "<Figure size 2000x500 with 3 Axes>"
      ]
     },
     "metadata": {},
     "output_type": "display_data"
    }
   ],
   "source": [
    "import numpy as np\n",
    "import matplotlib.pyplot as plt\n",
    "\n",
    "\n",
    "def create_private_histogram(data, num_bins, epsilon, range_bounds=None):\n",
    "    \"\"\"Creates a differentially private histogram from input data.\"\"\"\n",
    "    # Calculate histogram bins and counts\n",
    "    counts, bin_edges = np.histogram(data, bins=num_bins, range=range_bounds)\n",
    "\n",
    "    # For histograms, sensitivity is 1 (one person can only affect one bin)\n",
    "    sensitivity = 1\n",
    "\n",
    "    # Add Laplace noise to each bin count\n",
    "    scale = sensitivity / epsilon\n",
    "    noise = np.random.laplace(0, scale, size=len(counts))\n",
    "    private_counts = counts + noise\n",
    "\n",
    "    # Ensure counts are non-negative\n",
    "    private_counts = np.maximum(private_counts, 0)\n",
    "\n",
    "    return bin_edges, private_counts\n",
    "\n",
    "\n",
    "def private_reconstruct_distribution(bin_edges, counts, num_samples):\n",
    "    \"\"\"Reconstructs a differentially private distribution.\"\"\"\n",
    "    # Convert counts to probabilities\n",
    "    probabilities = counts / np.sum(counts)\n",
    "\n",
    "    # Sample bin indices based on probabilities\n",
    "    bin_indices = np.random.choice(len(counts), size=num_samples, p=probabilities)\n",
    "\n",
    "    # Sample within bins\n",
    "    samples = np.array(\n",
    "        [np.random.uniform(bin_edges[i], bin_edges[i + 1]) for i in bin_indices]\n",
    "    )\n",
    "\n",
    "    return samples\n",
    "\n",
    "\n",
    "def compare_distributions(data_list, epsilons, num_bins=30, num_samples=None, filename=\"image.png\"):\n",
    "    \"\"\"Creates and visualizes original vs private distributions using subplots\"\"\"\n",
    "    n_plots = len(data_list)\n",
    "\n",
    "    # Create wide figure with subplots\n",
    "    fig, axes = plt.subplots(1, n_plots, figsize=(20, 5))\n",
    "\n",
    "    for idx, (data, eps) in enumerate(zip(data_list, epsilons)):\n",
    "        if num_samples is None:\n",
    "            num_samples = len(data)\n",
    "\n",
    "        # Create private histogram\n",
    "        bin_edges, private_counts = create_private_histogram(\n",
    "            data, num_bins=num_bins, epsilon=eps\n",
    "        )\n",
    "\n",
    "        # Reconstruct private distribution\n",
    "        private_data = private_reconstruct_distribution(\n",
    "            bin_edges, private_counts, num_samples=num_samples\n",
    "        )\n",
    "\n",
    "        # Plot on corresponding subplot\n",
    "        ax = axes[idx]\n",
    "\n",
    "        # Plot original distribution\n",
    "        ax.hist(\n",
    "            data, bins=num_bins, alpha=0.5, label=\"Original\", density=True, color=\"blue\"\n",
    "        )\n",
    "\n",
    "        # Plot private distribution\n",
    "        ax.hist(\n",
    "            private_data,\n",
    "            bins=num_bins,\n",
    "            alpha=0.5,\n",
    "            label=f\"Private (ε={eps})\",\n",
    "            density=True,\n",
    "            color=\"red\",\n",
    "        )\n",
    "\n",
    "        ax.set_title(f\"ε = {eps}\")\n",
    "        ax.set_xlabel(\"Value\")\n",
    "        ax.set_ylabel(\"Density\")\n",
    "        ax.legend()\n",
    "        ax.grid(True, alpha=0.3)\n",
    "\n",
    "    plt.tight_layout()\n",
    "    plt.savefig(filename)\n",
    "    plt.show()\n",
    "\n",
    "\n",
    "\n",
    "# Generate example data\n",
    "n_points = 10000\n",
    "np.random.seed(42)  # for reproducibility\n",
    "\n",
    "# Generate normal distribution\n",
    "normal_data = np.random.normal(loc=0, scale=1, size=n_points)\n",
    "\n",
    "# Test with different epsilon values\n",
    "epsilons = [1.0, 0.1, 0.01]\n",
    "data_list = [normal_data] * 3  # Same data with different epsilons\n",
    "\n",
    "print(\"Normal Distribution reconstructed with different privacy levels:\")\n",
    "compare_distributions(data_list, epsilons)"
   ]
  },
  {
   "cell_type": "markdown",
   "metadata": {},
   "source": [
    "## Online Games Illustrating Epsilon's Importance"
   ]
  },
  {
   "cell_type": "markdown",
   "metadata": {},
   "source": [
    "## Conclusion"
   ]
  }
 ],
 "metadata": {
  "kernelspec": {
   "display_name": "base",
   "language": "python",
   "name": "python3"
  },
  "language_info": {
   "codemirror_mode": {
    "name": "ipython",
    "version": 3
   },
   "file_extension": ".py",
   "mimetype": "text/x-python",
   "name": "python",
   "nbconvert_exporter": "python",
   "pygments_lexer": "ipython3",
   "version": "3.12.5"
  }
 },
 "nbformat": 4,
 "nbformat_minor": 2
}
