{
 "cells": [
  {
   "cell_type": "markdown",
   "metadata": {},
   "source": [
    "# 10x Environment And Dependency Management With Python Poetry"
   ]
  },
  {
   "cell_type": "code",
   "execution_count": null,
   "metadata": {
    "vscode": {
     "languageId": "plaintext"
    }
   },
   "outputs": [],
   "source": []
  },
  {
   "cell_type": "markdown",
   "metadata": {},
   "source": [
    "## H2: Introduction\n",
    "Brief overview of dependency management in Python and the challenges with traditional tools (pip, virtualenv).\n",
    "\n",
    "Introduction to Poetry as a modern tool for managing dependencies and Python project environments.\n",
    "\n",
    "Key benefits of using Poetry: simplicity, dependency resolution, and ease of configuration.\n"
   ]
  },
  {
   "cell_type": "markdown",
   "metadata": {},
   "source": [
    "## H2: Setting Up Python Poetry\n",
    "\n",
    "H3: Installing Poetry\n",
    "\n",
    "Step-by-step guide to installing Poetry on different operating systems (Windows, macOS, Linux).\n",
    "\n",
    "Checking Poetry installation and verifying the version.\n",
    "\n",
    "H3: Configuring Poetry for your environment\n",
    "\n",
    "Setting default Python version for projects.\n",
    "\n",
    "Adjusting Poetry’s config options to align with project needs.\n"
   ]
  },
  {
   "cell_type": "markdown",
   "metadata": {},
   "source": [
    "You will mostly interact with Poetry as a command-line (CLI) tool so it makes sense to install it system-wide on your machine. This section covers this crucial first step and how to set some default configurations for Poetry based on your needs."
   ]
  },
  {
   "cell_type": "markdown",
   "metadata": {},
   "source": [
    "### Installing Poetry"
   ]
  },
  {
   "cell_type": "markdown",
   "metadata": {},
   "source": [
    "You can install poetry using an official installer script which can be downloaded and run with a single command.\n",
    "\n",
    "For macOS, Linux and WSL2:\n",
    "\n",
    "```bash\n",
    "$ curl -sSL https://install.python-poetry.org | sudo python3 -\n",
    "```\n",
    "\n",
    "For Windows Powershell (run with admin privileges):\n",
    "\n",
    "```bash\n",
    "$ (Invoke-WebRequest -Uri https://install.python-poetry.org -UseBasicParsing).Content | py -\n",
    "```\n",
    "\n",
    "If you are Windows and have installed Python from the Microsoft Store (for some weird reason), then replace `py` with `python` in the command above. \n",
    "\n",
    "After the installation script finishes, it prints a message asking you to add Poetry to your PATH so that the `poetry` command is available from everywhere.\n",
    "\n",
    "For macOS, Linux and WSL2, add the following line to your shell script like `.bashrc` or `.zshrc`:\n",
    "\n",
    "```bash\n",
    "$ export PATH=\"/Users/bexgboost/.local/bin:$PATH\"\n",
    "```\n",
    "\n",
    "For Windows, you can follow the output instructions.\n",
    "\n",
    "Afterwards, verify your installation by running `poetry --version`. "
   ]
  },
  {
   "cell_type": "markdown",
   "metadata": {},
   "source": [
    "### Configuring Poetry"
   ]
  },
  {
   "cell_type": "markdown",
   "metadata": {},
   "source": [
    "Most of Poetry's configuration is about how virtual environments are created and how packages are installed. You can print a (nearly) full list of Poetry configurations with:\n",
    "\n",
    "```bash\n",
    "$ poetry config --list\n",
    "```\n",
    "\n",
    "The output will look something like below:\n",
    "\n",
    "```yaml\n",
    "cache-dir = \"/Users/bexgboost/Library/Caches/pypoetry\"\n",
    "experimental.system-git-client = false\n",
    "installer.max-workers = null\n",
    "installer.modern-installation = true\n",
    "installer.no-binary = null\n",
    "installer.parallel = true\n",
    "keyring.enabled = true\n",
    "solver.lazy-wheel = true\n",
    "virtualenvs.create = true\n",
    "virtualenvs.in-project = null\n",
    "virtualenvs.options.always-copy = false\n",
    "virtualenvs.options.no-pip = false\n",
    "virtualenvs.options.no-setuptools = false\n",
    "virtualenvs.options.system-site-packages = false\n",
    "virtualenvs.path = \"{cache-dir}/virtualenvs\"  # /Users/bexgboost/Library/Caches/pypoetry/virtualenvs\n",
    "virtualenvs.prefer-active-python = false\n",
    "virtualenvs.prompt = \"{project_name}-py{python_version}\"\n",
    "warnings.export = true\n",
    "```\n",
    "\n",
    "In the first line, we see a path to the Poetry cache. It is mainly used to store downloaded package distributions and virtual environments. Any virtual environments you create are stored here, by default. If you wish to change that, you can run the following command:\n",
    "\n",
    "```bash\n",
    "$ poetry config virtualenvs.path path/to/new/virtualenv/dir\n",
    "```\n",
    "\n",
    "Another important configuration is the number of cores used during installations. By default, it is set to four but we can make it faster by utilizing all CPU cores. First, find out your machine's number of cores by running `os.cpu_count()` in the Python Interpreter. Then, set the output:\n",
    "\n",
    "```bash\n",
    "$ poetry config installer.max-workers = 10 \n",
    "```"
   ]
  },
  {
   "cell_type": "markdown",
   "metadata": {},
   "source": [
    "One optional configuration is whether to create virtual environments in your working directory or in the cache. This is controlled via `virtualenvs.in-project` option. If you set it to True, `.venv` directory will always be created in your working directory:\n",
    "\n",
    "```bash\n",
    "$ poetry config virtualenvs.in-project true\n",
    "```"
   ]
  },
  {
   "cell_type": "markdown",
   "metadata": {},
   "source": [
    "## H2: Creating a New Project with Poetry\n",
    "\n",
    "H3: Initializing a new Poetry project\n",
    "\n",
    "Using poetry new command to create a new Python project structure.\n",
    "\n",
    "Overview of files generated by Poetry (e.g., pyproject.toml).\n",
    "\n",
    "H3: Understanding pyproject.toml\n",
    "\n",
    "Explanation of pyproject.toml and its role in storing project and dependency information.\n",
    "\n",
    "Configuring project metadata (name, version, description) within pyproject.toml.\n"
   ]
  },
  {
   "cell_type": "markdown",
   "metadata": {},
   "source": [
    "## H2: Managing Dependencies with Poetry\n",
    "\n",
    "H3: Adding dependencies\n",
    "\n",
    "Using poetry add to install specific packages, including specifying version constraints.\n",
    "\n",
    "Overview of optional dependencies and their use cases.\n",
    "\n",
    "H3: Handling dev dependencies\n",
    "\n",
    "Explanation of dev dependencies and how to add them with poetry add --dev.\n",
    "\n",
    "Typical dev dependencies for Python projects (e.g., linters, test libraries).\n",
    "\n",
    "H3: Removing dependencies\n",
    "\n",
    "Using poetry remove to cleanly uninstall packages.\n",
    "\n",
    "Best practices for updating pyproject.toml after removing dependencies.\n"
   ]
  },
  {
   "cell_type": "markdown",
   "metadata": {},
   "source": [
    "## H2: Working with Virtual Environments in Poetry\n",
    "\n",
    "H3: Creating and activating a virtual environment\n",
    "\n",
    "How Poetry automatically manages virtual environments for projects.\n",
    "\n",
    "Command for activating and deactivating Poetry’s virtual environment.\n",
    "\n",
    "H3: Configuring the Python version\n",
    "\n",
    "Setting or changing the Python version for a project (aligning with poetry set python version keyword).\n",
    "\n",
    "Troubleshooting version conflicts and Poetry’s dependency resolution process.\n"
   ]
  },
  {
   "cell_type": "markdown",
   "metadata": {},
   "source": [
    "## H2: Running and Managing Scripts\n",
    "\n",
    "H3: Defining custom scripts in pyproject.toml\n",
    "\n",
    "Adding scripts to pyproject.toml for easy command execution.\n",
    "\n",
    "Examples: run commands for tests, formatting, or other common tasks.\n",
    "\n",
    "H3: Running scripts with Poetry\n",
    "\n",
    "Executing custom scripts and commands through Poetry.\n",
    "\n",
    "Tips for managing and organizing project-specific commands.\n"
   ]
  },
  {
   "cell_type": "markdown",
   "metadata": {},
   "source": [
    "## H2: Comparing Python Poetry vs Pip\n",
    "\n",
    "H3: Key differences between Poetry and pip\n",
    "\n",
    "Explanation of pip's focus vs. Poetry’s holistic approach to project and dependency management.\n",
    "\n",
    "Comparison of dependency resolution, virtual environment management, and ease of configuration.\n",
    "\n",
    "H3: When to use Poetry over pip\n",
    "\n",
    "Practical guidance on choosing between pip and Poetry for different project types and scenarios.\n"
   ]
  },
  {
   "cell_type": "markdown",
   "metadata": {},
   "source": [
    "## H2: Publishing a Project with Poetry\n",
    "\n",
    "H3: Preparing a project for publication\n",
    "\n",
    "Setting versioning and metadata in pyproject.toml for a polished release.\n",
    "\n",
    "H3: Publishing to PyPI\n",
    "\n",
    "Steps to package a project and publish it to PyPI with poetry publish.\n",
    "\n",
    "Additional options for private repositories.\n"
   ]
  },
  {
   "cell_type": "markdown",
   "metadata": {},
   "source": [
    "## H2: Troubleshooting Common Issues in Poetry\n",
    "\n",
    "Common installation or configuration issues and how to resolve them.\n",
    "\n",
    "Dependency conflicts and strategies for resolution using Poetry’s built-in tools.\n"
   ]
  },
  {
   "cell_type": "markdown",
   "metadata": {},
   "source": [
    "## H2: Conclusion and Next Steps\n"
   ]
  }
 ],
 "metadata": {
  "language_info": {
   "name": "python"
  }
 },
 "nbformat": 4,
 "nbformat_minor": 2
}
