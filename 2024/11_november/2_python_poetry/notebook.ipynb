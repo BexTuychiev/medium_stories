{
 "cells": [
  {
   "cell_type": "markdown",
   "metadata": {},
   "source": [
    "# 10x Environment And Dependency Management With Python Poetry"
   ]
  },
  {
   "cell_type": "markdown",
   "metadata": {},
   "source": [
    "## H2: Introduction\n",
    "Brief overview of dependency management in Python and the challenges with traditional tools (pip, virtualenv).\n",
    "\n",
    "Introduction to Poetry as a modern tool for managing dependencies and Python project environments.\n",
    "\n",
    "Key benefits of using Poetry: simplicity, dependency resolution, and ease of configuration.\n"
   ]
  },
  {
   "cell_type": "markdown",
   "metadata": {},
   "source": [
    "## Setting Up Python Poetry"
   ]
  },
  {
   "cell_type": "markdown",
   "metadata": {},
   "source": [
    "You will mostly interact with Poetry as a command-line (CLI) tool so it makes sense to install it system-wide on your machine. This section covers this crucial first step and how to set some default configurations for Poetry based on your needs."
   ]
  },
  {
   "cell_type": "markdown",
   "metadata": {},
   "source": [
    "### Installing Poetry"
   ]
  },
  {
   "cell_type": "markdown",
   "metadata": {},
   "source": [
    "You can install poetry using an official installer script which can be downloaded and run with a single command.\n",
    "\n",
    "For macOS, Linux and WSL2:\n",
    "\n",
    "```bash\n",
    "$ curl -sSL https://install.python-poetry.org | sudo python3 -\n",
    "```\n",
    "\n",
    "For Windows Powershell (run with admin privileges):\n",
    "\n",
    "```bash\n",
    "$ (Invoke-WebRequest -Uri https://install.python-poetry.org -UseBasicParsing).Content | py -\n",
    "```\n",
    "\n",
    "If you are Windows and have installed Python from the Microsoft Store (for some weird reason), then replace `py` with `python` in the command above. \n",
    "\n",
    "After the installation script finishes, it prints a message asking you to add Poetry to your PATH so that the `poetry` command is available from everywhere.\n",
    "\n",
    "For macOS, Linux and WSL2, add the following line to your shell script like `.bashrc` or `.zshrc`:\n",
    "\n",
    "```bash\n",
    "$ export PATH=\"/Users/bexgboost/.local/bin:$PATH\"\n",
    "```\n",
    "\n",
    "For Windows, you can follow the output instructions.\n",
    "\n",
    "Afterwards, verify your installation by running `poetry --version`. "
   ]
  },
  {
   "cell_type": "markdown",
   "metadata": {},
   "source": [
    "### Configuring Poetry"
   ]
  },
  {
   "cell_type": "markdown",
   "metadata": {},
   "source": [
    "Most of Poetry's configuration is about how virtual environments are created and how packages are installed. You can print a (nearly) full list of Poetry configurations with:\n",
    "\n",
    "```bash\n",
    "$ poetry config --list\n",
    "```\n",
    "\n",
    "The output will look something like below:\n",
    "\n",
    "```yaml\n",
    "cache-dir = \"/Users/bexgboost/Library/Caches/pypoetry\"\n",
    "experimental.system-git-client = false\n",
    "installer.max-workers = null\n",
    "installer.modern-installation = true\n",
    "installer.no-binary = null\n",
    "installer.parallel = true\n",
    "keyring.enabled = true\n",
    "solver.lazy-wheel = true\n",
    "virtualenvs.create = true\n",
    "virtualenvs.in-project = null\n",
    "virtualenvs.options.always-copy = false\n",
    "virtualenvs.options.no-pip = false\n",
    "virtualenvs.options.no-setuptools = false\n",
    "virtualenvs.options.system-site-packages = false\n",
    "virtualenvs.path = \"{cache-dir}/virtualenvs\"  # /Users/bexgboost/Library/Caches/pypoetry/virtualenvs\n",
    "virtualenvs.prefer-active-python = false\n",
    "virtualenvs.prompt = \"{project_name}-py{python_version}\"\n",
    "warnings.export = true\n",
    "```\n",
    "\n",
    "In the first line, we see a path to the Poetry cache. It is mainly used to store downloaded package distributions and virtual environments. Any virtual environments you create are stored here, by default. If you wish to change that, you can run the following command:\n",
    "\n",
    "```bash\n",
    "$ poetry config virtualenvs.path path/to/new/virtualenv/dir\n",
    "```\n",
    "\n",
    "Another important configuration is the number of cores used during installations. By default, it is set to four but we can make it faster by utilizing all CPU cores. First, find out your machine's number of cores by running `os.cpu_count()` in the Python Interpreter. Then, set the output:\n",
    "\n",
    "```bash\n",
    "$ poetry config installer.max-workers = 10 \n",
    "```"
   ]
  },
  {
   "cell_type": "markdown",
   "metadata": {},
   "source": [
    "One optional configuration is whether to create virtual environments in your working directory or in the cache. This is controlled via `virtualenvs.in-project` option. If you set it to True, `.venv` directory will always be created in your working directory:\n",
    "\n",
    "```bash\n",
    "$ poetry config virtualenvs.in-project true\n",
    "```"
   ]
  },
  {
   "cell_type": "markdown",
   "metadata": {},
   "source": [
    "## Creating a New Project with Poetry"
   ]
  },
  {
   "cell_type": "markdown",
   "metadata": {},
   "source": [
    "Let's dive into the key steps of creating a new Poetry project and understanding its core configuration file."
   ]
  },
  {
   "cell_type": "markdown",
   "metadata": {},
   "source": [
    "### Initializing a new Poetry project\n",
    " \n"
   ]
  },
  {
   "cell_type": "markdown",
   "metadata": {},
   "source": [
    "Poetry uage usually starts with creating a new project with the `poetry new` command:"
   ]
  },
  {
   "cell_type": "markdown",
   "metadata": {
    "vscode": {
     "languageId": "plaintext"
    }
   },
   "source": [
    "```bash\n",
    "$ poetry new explore-poetry\n",
    "$ cd explore-poetry \n",
    "```\n",
    "\n",
    "The command creates an `explore-poetry` directory pre-populated with the following files and directories:\n",
    "\n",
    "```bash\n",
    "explore-poetry\n",
    "├── pyproject.toml\n",
    "├── README.md\n",
    "├── explore-poetry\n",
    "│   └── __init__.py\n",
    "└── tests\n",
    "    └── __init__.py\n",
    "```\n",
    "\n",
    "This directory structure follows Python best practices:\n",
    "- `pyproject.toml`: The main configuration file that defines project metadata and dependencies\n",
    "- README.md: Documentation file explaining the project\n",
    "- `explore-poetry/`: Source code directory containing the main package code, with `__init__.py` to make it a package\n",
    "- `tests/`: Directory for test files, with `__init__.py` to make it a package (importable)"
   ]
  },
  {
   "cell_type": "markdown",
   "metadata": {},
   "source": [
    "### Understanding `pyproject.toml`"
   ]
  },
  {
   "cell_type": "markdown",
   "metadata": {},
   "source": [
    "\n",
    "Here, the `pyproject.toml` file demands a careful attention as it is the only non-empty file generated by Poetry:\n"
   ]
  },
  {
   "cell_type": "markdown",
   "metadata": {},
   "source": [
    "```bash\n",
    "[tool.poetry]\n",
    "name = \"explore-poetry\"\n",
    "version = \"0.1.0\"\n",
    "description = \"\"\n",
    "authors = [\"BexTuychiev <bex@ibexprogramming.com>\"]\n",
    "readme = \"README.md\"\n",
    "\n",
    "[tool.poetry.dependencies]\n",
    "python = \"^3.8\"\n",
    "\n",
    "\n",
    "[build-system]\n",
    "requires = [\"poetry-core\"]\n",
    "build-backend = \"poetry.core.masonry.api\"\n",
    "```"
   ]
  },
  {
   "cell_type": "markdown",
   "metadata": {},
   "source": [
    "This file orchestrates your project and its dependencies. It uses [Tom's Obvious, Minimal Language](https://en.wikipedia.org/wiki/TOML), which was agreed as the standard configuration language for Python packages in [PEP 518](https://peps.python.org/pep-0518/). \n",
    "\n",
    "All `pyproject.toml` files are divided up into sections called _tables_ using brackets like `tool.poetry` or `build-system`. Poetry uses these tables to manage dependencies, project build requirements or performing other tasks. \n",
    "\n",
    "As you run Poetry commands outlined in the coming sections, the `pyproject.toml` file will be automatically updated."
   ]
  },
  {
   "cell_type": "markdown",
   "metadata": {},
   "source": [
    "## Working with Virtual Environments in Poetry"
   ]
  },
  {
   "cell_type": "markdown",
   "metadata": {
    "vscode": {
     "languageId": "plaintext"
    }
   },
   "source": [
    "In this section, you will find out the ins and outs of managing virtual environments in Poetry once you set it up. You will learn why virtual environments matter, how Poetry handles them automatically and basic commands to manipulate them like creation, activation and switching. You will also learn how to manage Python versions with Poetry."
   ]
  },
  {
   "cell_type": "markdown",
   "metadata": {},
   "source": [
    "### Creating and activating a virtual environment"
   ]
  },
  {
   "cell_type": "markdown",
   "metadata": {},
   "source": [
    "When you first install Poetry, it comes with no built-in environments, as evidenced by a blank output when you run `poetry env list`:"
   ]
  },
  {
   "cell_type": "markdown",
   "metadata": {},
   "source": [
    "```bash\n",
    "$ poetry env list  # no output\n",
    "```"
   ]
  },
  {
   "cell_type": "markdown",
   "metadata": {},
   "source": [
    "But as soon as you start adding dependencies (more on that later) with `poetry add package-name`, it automatically creates an environment in the cache directory for the project. For example, let's try adding `requests` as a dependency:"
   ]
  },
  {
   "cell_type": "markdown",
   "metadata": {},
   "source": [
    "```bash\n",
    "$ poetry add requests\n",
    "```\n",
    "\n",
    "You should receive an output similar to the following:\n",
    "\n",
    "```python\n",
    "Creating virtualenv explore-poetry--I9GJYUn-py3.8 in /Users/bexgboost/Library/Caches/pypoetry/virtualenvs\n",
    "Using version ^2.32.3 for requests\n",
    "\n",
    "Updating dependencies\n",
    "Resolving dependencies... (2.5s)\n",
    "\n",
    "Package operations: 5 installs, 0 updates, 0 removals\n",
    "\n",
    "  - Installing certifi (2024.8.30)\n",
    "  - Installing charset-normalizer (3.4.0)\n",
    "  - Installing idna (3.10)\n",
    "  - Installing urllib3 (2.2.3)\n",
    "  - Installing requests (2.32.3)\n",
    "\n",
    "Writing lock file\n",
    "```"
   ]
  },
  {
   "cell_type": "markdown",
   "metadata": {},
   "source": [
    "The first line indicates that Poetry created the environment in the cache. The next lines inform that the dependencies for `requests` are successfully resolved and a lock file is generated (more on that later too). \n",
    "\n",
    "Pay attention to the environment name: `explore-poetry--I9GJYUn-py3.8`. The name includes the project directory name, followed by a unique ID and then the Python version the environment is using. \n",
    "\n",
    "Next time you add a dependency, Poetry automatically uses this environment to install packages:"
   ]
  },
  {
   "cell_type": "markdown",
   "metadata": {},
   "source": [
    "```bash\n",
    "$ poetry add beautifulsoup4\n",
    "Using version ^4.12.3 for beautifulsoup4\n",
    "\n",
    "Updating dependencies\n",
    "Resolving dependencies... (1.1s)\n",
    "\n",
    "Package operations: 2 installs, 0 updates, 0 removals\n",
    "\n",
    "  - Installing soupsieve (2.6)\n",
    "  - Installing beautifulsoup4 (4.12.3)\n",
    "\n",
    "Writing lock file\n",
    "```"
   ]
  },
  {
   "cell_type": "markdown",
   "metadata": {},
   "source": [
    "When you are using Poetry, your terminal won't show which Poetry virtual environment is active. To see this information, you need to run `poetry env list`:\n",
    "\n",
    "```bash\n",
    "$ poetry env list\n",
    "explore-poetry--I9GJYUn-py3.8 (Activated)\n",
    "```\n",
    "\n",
    "To interact with the active Poetry environment, you can run `poetry shell`:"
   ]
  },
  {
   "cell_type": "markdown",
   "metadata": {
    "vscode": {
     "languageId": "plaintext"
    }
   },
   "source": [
    "```bash\n",
    "$ poetry shell\n",
    "```\n",
    "\n",
    "The command opens a new shell session within the current one and you can execute commands like `python` or `pytest`. You can exit the shell by typing `exit`. "
   ]
  },
  {
   "cell_type": "markdown",
   "metadata": {},
   "source": [
    "### Configuring the Python version\n",
    "\n",
    "When you run `poetry add` or `poetry install`, Poetry automatically uses the Python version specified in your `pyproject.toml` file. To specify a different Python version, you can run `env use` command:\n",
    "\n",
    "```bash\n",
    "$ poetry env use python3.11\n",
    "```\n",
    "\n",
    "> Note that Python 3.11 must be installed system-wide on your machine for the command to work.\n",
    "\n",
    "Check that Poetry is using the environment with the new Python version:\n",
    "\n",
    "```bash\n",
    "$ poetry env list\n",
    "explore-poetry--I9GJYUn-py3.11 (Activated)\n",
    "explore-poetry--I9GJYUn-py3.8\n",
    "```"
   ]
  },
  {
   "cell_type": "markdown",
   "metadata": {},
   "source": [
    "Notice how the new environment is automatically attached to our project (the IDs are the same). Once you configure your Python version, you can remove environments with other versions to free up disk space:\n",
    "\n",
    "```bash\n",
    "$ poetry env remove python3.8\n",
    "```\n",
    "\n",
    "When deleting an environment, you only have to specify the Python version. You can also delete all environments and start from scratch:\n",
    "\n",
    "```bash\n",
    "$ poetry env remove --all\n",
    "```\n",
    "\n",
    "Do note that `--all` tag removes all environments associated with the current project, not environments of other projects."
   ]
  },
  {
   "cell_type": "markdown",
   "metadata": {},
   "source": [
    "If you are working on team projects, it is often better to keep the virtual environment in the project directory:\n",
    "\n",
    "```bash\n",
    "$ poetry config virtualenvs.in-project true\n",
    "```\n",
    "\n",
    "> This command won't have any effect if you already have an environment for the project in the cache. To create a local environment, remove all existing ones from the cache first.\n",
    "\n",
    "This creates a `.venv` folder in your working directory, which you should add to your `.gitignore` file."
   ]
  },
  {
   "cell_type": "markdown",
   "metadata": {},
   "source": [
    "## Managing Dependencies with Poetry"
   ]
  },
  {
   "cell_type": "markdown",
   "metadata": {},
   "source": [
    "Dependency management is where Poetry shines. It provides comprehensive features to specify, install and manage dependencies so that you never run into hellish dependency conflicts. \n",
    "\n",
    "We will explore these features one-by-one in this section."
   ]
  },
  {
   "cell_type": "markdown",
   "metadata": {},
   "source": [
    "H3: Adding dependencies\n",
    "\n",
    "Using poetry add to install specific packages, including specifying version constraints.\n",
    "\n",
    "Overview of optional dependencies and their use cases."
   ]
  },
  {
   "cell_type": "markdown",
   "metadata": {},
   "source": []
  },
  {
   "cell_type": "markdown",
   "metadata": {},
   "source": [
    "### The syntax for specifying dependencies"
   ]
  },
  {
   "cell_type": "markdown",
   "metadata": {},
   "source": [
    "H3: Handling dev dependencies\n",
    "\n",
    "Explanation of dev dependencies and how to add them with poetry add --dev.\n",
    "\n",
    "Typical dev dependencies for Python projects (e.g., linters, test libraries).\n",
    "\n"
   ]
  },
  {
   "cell_type": "markdown",
   "metadata": {},
   "source": [
    "H3: Removing dependencies\n",
    "\n",
    "Using poetry remove to cleanly uninstall packages.\n",
    "\n",
    "Best practices for updating pyproject.toml after removing dependencies.\n"
   ]
  },
  {
   "cell_type": "markdown",
   "metadata": {},
   "source": [
    "## H2: Running and Managing Scripts\n",
    "\n",
    "H3: Defining custom scripts in pyproject.toml\n",
    "\n",
    "Adding scripts to pyproject.toml for easy command execution.\n",
    "\n",
    "Examples: run commands for tests, formatting, or other common tasks.\n",
    "\n",
    "H3: Running scripts with Poetry\n",
    "\n",
    "Executing custom scripts and commands through Poetry.\n",
    "\n",
    "Tips for managing and organizing project-specific commands.\n"
   ]
  },
  {
   "cell_type": "markdown",
   "metadata": {},
   "source": [
    "## H2: Comparing Python Poetry vs Pip\n",
    "\n",
    "H3: Key differences between Poetry and pip\n",
    "\n",
    "Explanation of pip's focus vs. Poetry’s holistic approach to project and dependency management.\n",
    "\n",
    "Comparison of dependency resolution, virtual environment management, and ease of configuration.\n",
    "\n",
    "H3: When to use Poetry over pip\n",
    "\n",
    "Practical guidance on choosing between pip and Poetry for different project types and scenarios.\n"
   ]
  },
  {
   "cell_type": "markdown",
   "metadata": {},
   "source": [
    "## H2: Publishing a Project with Poetry\n",
    "\n",
    "H3: Preparing a project for publication\n",
    "\n",
    "Setting versioning and metadata in pyproject.toml for a polished release.\n",
    "\n",
    "H3: Publishing to PyPI\n",
    "\n",
    "Steps to package a project and publish it to PyPI with poetry publish.\n",
    "\n",
    "Additional options for private repositories.\n"
   ]
  },
  {
   "cell_type": "markdown",
   "metadata": {},
   "source": [
    "## H2: Troubleshooting Common Issues in Poetry\n",
    "\n",
    "Common installation or configuration issues and how to resolve them.\n",
    "\n",
    "Dependency conflicts and strategies for resolution using Poetry’s built-in tools.\n"
   ]
  },
  {
   "cell_type": "markdown",
   "metadata": {},
   "source": [
    "## H2: Conclusion and Next Steps\n"
   ]
  }
 ],
 "metadata": {
  "language_info": {
   "name": "python"
  }
 },
 "nbformat": 4,
 "nbformat_minor": 2
}
