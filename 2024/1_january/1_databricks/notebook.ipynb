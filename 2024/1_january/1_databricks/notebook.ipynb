{
 "cells": [
  {
   "cell_type": "markdown",
   "id": "6f92f369-1ced-4ff9-b612-a7e313c097b9",
   "metadata": {},
   "source": [
    "# Introduction to Databricks"
   ]
  },
  {
   "cell_type": "markdown",
   "id": "3b79cf1f-8bbb-4297-bb89-5e26f7bd607a",
   "metadata": {},
   "source": [
    "## Introduction"
   ]
  },
  {
   "cell_type": "markdown",
   "id": "1514ead0-baa6-468a-9b5f-feb60b782941",
   "metadata": {},
   "source": [
    "First, there were data warehouses. They stored data in rows and columns because all the Internet and computers of the time were capable of distributing was simple text information. Much later came data lakes - they could store nearly any type of data you could collect. They were great for the social media and YouTube age. \n",
    "\n",
    "But they both had disadvantages - data warehouses were expensive and unsuitable for modern data science while data lakes were messy and often turned into data swamps. So, companies started having two separate tech stacks - warehouses for BI and analytics, lakes for machine learning. \n",
    "\n",
    "But managing two different data architectures was such a pain that companies often had poor results. This issue gave rise to the __lakehouse architecture__, which is precisely what Databricks is famous for. \n",
    "\n",
    "Databricks is a cloud-based platform that allows users to derive value from both warehouses and lakes in a unified environment. This article will give overview of the platform, showing its most important features and how to use them."
   ]
  },
  {
   "cell_type": "markdown",
   "id": "8bb25811-981b-4d17-922e-fef9bdd48efb",
   "metadata": {},
   "source": [
    "## What we will cover in this tutorial?"
   ]
  },
  {
   "cell_type": "markdown",
   "id": "f370d8da-4e87-425e-bd2e-86726cdf6be8",
   "metadata": {},
   "source": [
    "Databricks is such a massive platform that its documentation itself could be turned into a book. So, the article's goal is to provide you with a concepts hierarchy - linearly ordered explanations of Databricks features that will take you from a clueless beginner to a decent Databricks practitioner. \n",
    "\n",
    "So, here is the table of contents:\n",
    "\n",
    "PASTE THE TABLE OF CONTENTS HERE."
   ]
  },
  {
   "cell_type": "markdown",
   "id": "b15d2a2d-e61d-4a40-aeee-0b35e413ce2d",
   "metadata": {},
   "source": [
    "## 0. Databricks as a platform"
   ]
  },
  {
   "cell_type": "markdown",
   "id": "d1574fd9-cd84-46f2-b1d5-6c72b9c42653",
   "metadata": {},
   "source": [
    "When you read the word Databricks, you should immediately think of it as a platform, not as some framework or Python library. Typically, platforms offer a wide range of features and Databricks isn't an exception. It is one of the very few platforms that can be used by any data professional, from data engineers to the modern machine learning engineers (or what the press calls AI programmers). \n",
    "\n",
    "Databricks has the following core components:\n",
    "\n",
    "1. Workspace: Databricks provides a centralized environment where teams can collaborate without any hassles. The environment is accessible through a user-friendly web interface.\n",
    "2. Notebooks: Databricks has a version of Jupyter notebooks specifically designed for collaboration and flexibility.\n",
    "3. Apache Spark: Databricks loves Apache Spark. It is the engine that powers all parallel processing of humongous datasets, making it suitable for big data analytics.\n",
    "4. Delta Lake: an enhancement on data lakes by providing ACID transactions. Delta Lakes ensure data reliability and consistency, addressing traditional challenges associated with data lakes.\n",
    "5. Scalability: the platform scales horizontally, rather than vertically, which is ideally suited for organizations dealing with ever-increasing data demands. \n",
    "\n",
    "These components in combination unlock a wide range of benefits:\n",
    "\n",
    "- Cross-team collaboration: engineers, analysts, scientists and ML engineers can work seamlessly in the same platform.\n",
    "- Consistency: with notebooks, users can transition between tasks and programming languages without the need for context-switching. \n",
    "- Efficient workflows: Users can perform tasks such as data cleaning, transformation and machine learning in a cohesive manner\n",
    "- Integrated data management: users can ingest data into the platform multiple sources (a lakehouse), create tables and run SQL\n",
    "- Real-time collaboration: shared notebooks and collaborative editing features enable real-time collaboration. Multiple team members can work on the same notebook simultaneously. \n",
    "\n",
    "If I've got you convinced of Databricks' importance in the data world, let's get you up and running with the platform. "
   ]
  },
  {
   "cell_type": "markdown",
   "id": "5721e206-7d2e-430b-b723-c4cec4906212",
   "metadata": {},
   "source": [
    "## 1. Account Setup"
   ]
  },
  {
   "cell_type": "markdown",
   "id": "00566058-829e-429e-86ef-e8aa7e8cecc8",
   "metadata": {},
   "source": [
    "## 2. Databricks Workspace"
   ]
  },
  {
   "cell_type": "markdown",
   "id": "477eb07d-7bcd-4367-b145-7961214d8f16",
   "metadata": {},
   "source": [
    "## 3. Clusters"
   ]
  },
  {
   "cell_type": "markdown",
   "id": "52b5ac82-4bd1-4643-a9d3-6a4a29640b0f",
   "metadata": {},
   "source": [
    "## 4. Data Ingestion"
   ]
  },
  {
   "cell_type": "markdown",
   "id": "ccdcea37-986f-4331-a744-65c69e1f2826",
   "metadata": {},
   "source": [
    "## 5. Notebooks"
   ]
  },
  {
   "cell_type": "markdown",
   "id": "6acc3345-4c6e-4ca2-b1a7-6ef5327df02a",
   "metadata": {},
   "source": [
    "## 6. Jobs"
   ]
  },
  {
   "cell_type": "markdown",
   "id": "bccbb1ff-2c95-45f3-92b6-d765bba8d36e",
   "metadata": {},
   "source": [
    "## 7. Tables"
   ]
  },
  {
   "cell_type": "markdown",
   "id": "9a70918b-03a4-425f-b38f-8b80647a919e",
   "metadata": {},
   "source": [
    "## 8. SQL Queries"
   ]
  },
  {
   "cell_type": "markdown",
   "id": "63fc27ad-ac72-4e09-a341-c1d392674110",
   "metadata": {},
   "source": [
    "## 9. Delta Lake"
   ]
  },
  {
   "cell_type": "markdown",
   "id": "3fc015d8-1c7e-473c-9214-5592e8e4200c",
   "metadata": {},
   "source": [
    "## 10. Data Visualization"
   ]
  },
  {
   "cell_type": "markdown",
   "id": "e2067c51-6521-4e46-9b37-cf02826f8707",
   "metadata": {},
   "source": [
    "## Conclusion"
   ]
  }
 ],
 "metadata": {
  "kernelspec": {
   "display_name": "articles",
   "language": "python",
   "name": "articles"
  },
  "language_info": {
   "codemirror_mode": {
    "name": "ipython",
    "version": 3
   },
   "file_extension": ".py",
   "mimetype": "text/x-python",
   "name": "python",
   "nbconvert_exporter": "python",
   "pygments_lexer": "ipython3",
   "version": "3.9.13"
  }
 },
 "nbformat": 4,
 "nbformat_minor": 5
}
