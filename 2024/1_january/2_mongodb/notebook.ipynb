{
 "cells": [
  {
   "cell_type": "markdown",
   "id": "291d8dbd-7560-4c14-b673-25ebb2dc857a",
   "metadata": {},
   "source": [
    "# MongoDB Tutorial: N MongoDB Query Patterns Everybody Must Know"
   ]
  },
  {
   "cell_type": "markdown",
   "id": "4ef1bf2f-27f3-44cd-acbe-1e156f7c3e7c",
   "metadata": {},
   "source": [
    "## Table of contents\n",
    "\n",
    "1. What is MongoDB and why should you care?\n",
    "2. Core concepts around MongoDB\n",
    "3. MongoDB setup and connecting to data sources\n",
    "4. Elementary queries - selecting\n",
    "    - Selecting all documents in MongoDB\n",
    "    - Selecting based on a condition in MongoDB (Equality, unequality, ``$gt, $gte, $lt, $lte` operators)\n",
    "    - Selecting with logical conditional operators in MongoDB (``$and, $or, $in, $nin` operators)\n",
    "    - Counting documents in MongoDB\n",
    "    \n",
    "5. Querying for null or missing fields in MongoDB\n",
    "6. Querying arrays in MongoDB\n",
    "7. Projections, aka restricting fields\n",
    "8. Conclusion"
   ]
  },
  {
   "cell_type": "markdown",
   "id": "5d4721f8-1f2a-431f-b95c-6d10ec296355",
   "metadata": {},
   "source": [
    "## H2: What is MongoDB and why should you care?"
   ]
  },
  {
   "cell_type": "markdown",
   "id": "daf3bfec-d7f2-459f-a2a3-f17c281701cc",
   "metadata": {},
   "source": [
    "You've probably heard or even worked with relational databases. The row-table format is the most popular and intuitive structures to store information. But unfortunately, you can't store all data that comes you way in rows and tables. In fact, there are so many problems in the real-world that require non-relational databases. So, are there alternatives? \n",
    "\n",
    "The answer is YES! There are four types of databases that don't have any rows or tables. They are called NoSQL databases as you can't use SQL to query them. They are:\n",
    "\n",
    "- Key-value databases\n",
    "- Document databases\n",
    "- Column family databases\n",
    "- Graph databases\n",
    "\n",
    "This article focuses on document databases and how to work with them using a server called MongoDB. But before we jump in the technical details, let's look at the use-cases of document databases. "
   ]
  },
  {
   "cell_type": "markdown",
   "id": "d1103994-df01-417e-9e31-b46e8b31f442",
   "metadata": {},
   "source": [
    "## H2: When to document databases?"
   ]
  },
  {
   "cell_type": "markdown",
   "id": "99596002-4066-43ff-a5f9-9123c18b4355",
   "metadata": {},
   "source": [
    "One of the main use-cases for choosing document databases is when you have data that doesn't neatly fit into a pre-defined schema like a table. There are many processes or applications in industries that store these types of data. Here are some examples:\n",
    "\n",
    "- Web and mobile apps: User profiles, preferences, content and interactions\n",
    "- Content management systems: Storing a wider range of media such as text, images, video, GIFs, etc.\n",
    "- E-commerce platforms: Product catalogs, customer information, order history, inventory, etc.\n",
    "- Gaming: storing player profiles, leaderboard rankings\n",
    "- Logging and data collection: large volumes of logs, events and metrics for analysis and so on.\n",
    "\n",
    "Take a moment to think about how data collected from these industries would fit into tables. For example, e-commerce platforms would have a hard time storing product catalogs into a pre-defined schema. Different products have different attributes or worse, different number of attributes. Do you need 10 columns to store 10 physical attributes of drones of 100 different brands or just 5-6 to store book information? \n",
    "\n",
    "Table-based databases can't help you in such scenarios. By using document databases such as MongoDB, you gain the following benefits:\n",
    "\n",
    "- No upfront development cost to design a schema\n",
    "- Documents (data) can vary over time (including the data types, the number of attributes, etc.)\n",
    "- Document databases avoid joins which results in much faster querying\n",
    "- Intuitive for developers as document databases are mostly large JSON files, which are basically, humongous dictionaries for Pythonistas.\n",
    "- Document DBs scale horizontally, which means they don't need increasingly more compute resources as database grows. \n",
    "\n",
    "Now, let's take a look at the core concepts around document databases and MongoDB."
   ]
  },
  {
   "cell_type": "markdown",
   "id": "3804497c-2359-49ba-87e2-59b4c4bfbbf7",
   "metadata": {},
   "source": [
    "## H2: Core concepts around MongoDB"
   ]
  },
  {
   "cell_type": "markdown",
   "id": "eba3a30b-09f8-46d5-bdad-dc5732907d4e",
   "metadata": {},
   "source": [
    "## H2: MongoDB setup: connecting to data sources"
   ]
  },
  {
   "cell_type": "markdown",
   "id": "e2493ba8-643b-4fe4-83ef-ce3c32309246",
   "metadata": {},
   "source": [
    "For Windows, follow this [link](https://www.mongodb.com/docs/manual/tutorial/install-mongodb-on-windows/).\n",
    "\n",
    "For Unix-like systems:\n",
    "\n",
    "```shell\n",
    "$ sudo apt-get install -y mongodb\n",
    "```"
   ]
  },
  {
   "cell_type": "markdown",
   "id": "b9d0dbb8-6d34-47b7-8462-90f9af934c0a",
   "metadata": {},
   "source": [
    "```shell\n",
    "$ pip install pymongo\n",
    "$ pip install requests\n",
    "```"
   ]
  },
  {
   "cell_type": "code",
   "execution_count": 1,
   "id": "0c370417-ebfe-4ac6-a801-b7b1af0562e2",
   "metadata": {},
   "outputs": [],
   "source": [
    "import json\n",
    "\n",
    "from pymongo import MongoClient\n",
    "\n",
    "# Establish connection to MongoDB\n",
    "client = MongoClient(\"localhost\", 27017)\n",
    "# Create a database named \"drones\"\n",
    "drones = client[\"drones\"]\n",
    "# Create a collection named \"races\"\n",
    "races = drones[\"races\"]\n",
    "\n",
    "# Load dataset into MongoDB\n",
    "with open(\"data/drone_races.json\", \"r\") as file:\n",
    "    data = json.load(file)\n",
    "    races.insert_many(data)"
   ]
  },
  {
   "cell_type": "markdown",
   "id": "0884864a-9f9c-4e3d-a83a-4d7daddc315e",
   "metadata": {},
   "source": [
    "## H2: Elementary queries"
   ]
  },
  {
   "cell_type": "markdown",
   "id": "0169c518-5425-4685-83c8-78b3cb08cefe",
   "metadata": {},
   "source": [
    "### H3: Counting documents in MongoDB"
   ]
  },
  {
   "cell_type": "code",
   "execution_count": 3,
   "id": "3a62b6a6-814c-427d-a3e5-761759a92090",
   "metadata": {},
   "outputs": [
    {
     "data": {
      "text/plain": [
       "3000"
      ]
     },
     "execution_count": 3,
     "metadata": {},
     "output_type": "execute_result"
    }
   ],
   "source": [
    "races.count_documents({})"
   ]
  },
  {
   "cell_type": "markdown",
   "id": "ba9ea109-f5f2-4f5b-b5e5-0ff6fc6ed429",
   "metadata": {},
   "source": [
    "You can use any of the conditions mentioned below"
   ]
  },
  {
   "cell_type": "markdown",
   "id": "b09d341e-025f-4c12-89f0-bd00c329be2f",
   "metadata": {},
   "source": [
    "### H3: Extracting one document in MongoDB"
   ]
  },
  {
   "cell_type": "code",
   "execution_count": 6,
   "id": "aa0657ec-7574-4695-8ac2-2f41fa249eaf",
   "metadata": {},
   "outputs": [
    {
     "name": "stdout",
     "output_type": "stream",
     "text": [
      "{'_id': ObjectId('659d31e9255ec0cf4bab529d'),\n",
      " 'laps': 3,\n",
      " 'league': 'F1 Drones',\n",
      " 'location': {'city': 'Ford',\n",
      "              'country': 'United Kingdom',\n",
      "              'date': 'error: invalid date \"2024-10-25\"',\n",
      "              'venue': 'Manhattan Seas'},\n",
      " 'name': 'Honorable',\n",
      " 'pilots': {'drone': 'DJI3-old',\n",
      "            'finishing_position': 66,\n",
      "            'name': 'Kariotta Cow',\n",
      "            'qualification_time': 27.39,\n",
      "            'team': 'Sky Crusaders',\n",
      "            'telemetry': {'altitude': 34.3,\n",
      "                          'battery_voltage': 12.1,\n",
      "                          'speed': 68.3,\n",
      "                          'timestamp': 'error: invalid date '\n",
      "                                       '\"2024-10-25T14:09:26Z\"'}},\n",
      " 'sponsors': ['Fat Shark', 'DJI', 'Etisalat'],\n",
      " 'weather_conditions': 'snowy'}\n"
     ]
    }
   ],
   "source": [
    "from pprint import pprint\n",
    "\n",
    "pprint(races.find_one())"
   ]
  },
  {
   "cell_type": "markdown",
   "id": "11166fa1-c752-4180-8c17-edffe6a5d6d8",
   "metadata": {},
   "source": [
    "### H3: Selecting all documents in MongoDB"
   ]
  },
  {
   "cell_type": "code",
   "execution_count": 7,
   "id": "808df46d-02c4-4ec7-a802-bbdfb94200c5",
   "metadata": {},
   "outputs": [
    {
     "name": "stdout",
     "output_type": "stream",
     "text": [
      "{'_id': ObjectId('659d31e9255ec0cf4bab529d'),\n",
      " 'laps': 3,\n",
      " 'league': 'F1 Drones',\n",
      " 'location': {'city': 'Ford',\n",
      "              'country': 'United Kingdom',\n",
      "              'date': 'error: invalid date \"2024-10-25\"',\n",
      "              'venue': 'Manhattan Seas'},\n",
      " 'name': 'Honorable',\n",
      " 'pilots': {'drone': 'DJI3-old',\n",
      "            'finishing_position': 66,\n",
      "            'name': 'Kariotta Cow',\n",
      "            'qualification_time': 27.39,\n",
      "            'team': 'Sky Crusaders',\n",
      "            'telemetry': {'altitude': 34.3,\n",
      "                          'battery_voltage': 12.1,\n",
      "                          'speed': 68.3,\n",
      "                          'timestamp': 'error: invalid date '\n",
      "                                       '\"2024-10-25T14:09:26Z\"'}},\n",
      " 'sponsors': ['Fat Shark', 'DJI', 'Etisalat'],\n",
      " 'weather_conditions': 'snowy'}\n"
     ]
    }
   ],
   "source": [
    "from pprint import pprint\n",
    "\n",
    "for race in races.find():\n",
    "    pprint(race)\n",
    "    break"
   ]
  },
  {
   "cell_type": "markdown",
   "id": "969394ea-1bd0-438d-b4df-2e3c59a00f9d",
   "metadata": {},
   "source": [
    "### H3: Selecting based on a condition in MongoDB (Equality, unequality, `$gt, $gte, $lt, $lte` operators)"
   ]
  },
  {
   "cell_type": "markdown",
   "id": "e43c05a3-7445-48ee-8ac9-2c397c9dce59",
   "metadata": {},
   "source": [
    "Equality, WHERE field = value"
   ]
  },
  {
   "cell_type": "code",
   "execution_count": 8,
   "id": "56567039-ca8c-42df-a2ff-ac98c7f9ca96",
   "metadata": {},
   "outputs": [
    {
     "data": {
      "text/plain": [
       "2056"
      ]
     },
     "execution_count": 8,
     "metadata": {},
     "output_type": "execute_result"
    }
   ],
   "source": [
    "criteria = {\"sponsors\": \"Fat Shark\"}\n",
    "\n",
    "fat_shark_races = races.count_documents(criteria)\n",
    "fat_shark_races"
   ]
  },
  {
   "cell_type": "markdown",
   "id": "c8ed4209-b7ef-46ba-90e9-3dc155db9e1c",
   "metadata": {},
   "source": [
    "Greater than and less than operators"
   ]
  },
  {
   "cell_type": "code",
   "execution_count": 9,
   "id": "5655644b-2761-4817-92fc-9edf0bf572a0",
   "metadata": {},
   "outputs": [
    {
     "data": {
      "text/plain": [
       "1016"
      ]
     },
     "execution_count": 9,
     "metadata": {},
     "output_type": "execute_result"
    }
   ],
   "source": [
    "criteria = {\"pilots.qualification_time\": {\"$lt\": 10}}\n",
    "\n",
    "quick_races = races.count_documents(criteria)\n",
    "quick_races"
   ]
  },
  {
   "cell_type": "markdown",
   "id": "2e10716b-5deb-45aa-8cc6-c3c875530004",
   "metadata": {},
   "source": [
    "Check out: `$gt, $gte, $lte` operators as well"
   ]
  },
  {
   "cell_type": "markdown",
   "id": "69594040-f2ec-4462-88ec-bd802b9a0620",
   "metadata": {},
   "source": [
    "### H3: Selecting with logical conditional operators in MongoDB (`$and, $or, $in, $nin` operators)"
   ]
  },
  {
   "cell_type": "markdown",
   "id": "33e51bea-710b-4917-aa39-3ef731dadcba",
   "metadata": {},
   "source": [
    "Retrieve races with either \"rainy\" or \"snowy\" weather conditions:"
   ]
  },
  {
   "cell_type": "code",
   "execution_count": 29,
   "id": "1413abe8-0f04-40ba-b996-bd691a4f4d39",
   "metadata": {},
   "outputs": [
    {
     "data": {
      "text/plain": [
       "1213"
      ]
     },
     "execution_count": 29,
     "metadata": {},
     "output_type": "execute_result"
    }
   ],
   "source": [
    "criteria = {\"weather_conditions\": {\"$in\": [\"rainy\", \"snowy\"]}}\n",
    "\n",
    "races.count_documents(criteria)"
   ]
  },
  {
   "cell_type": "code",
   "execution_count": 27,
   "id": "2dfa14c2-5b77-43fd-a0da-728ca64ff229",
   "metadata": {},
   "outputs": [
    {
     "data": {
      "text/plain": [
       "2065"
      ]
     },
     "execution_count": 27,
     "metadata": {},
     "output_type": "execute_result"
    }
   ],
   "source": [
    "criteria = {\n",
    "    \"$or\": [\n",
    "        {\"location.country\": \"United Kingdom\"},\n",
    "        {\"sponsors\": \"Etisalat\"},\n",
    "    ]\n",
    "}\n",
    "races.count_documents(criteria)"
   ]
  },
  {
   "cell_type": "markdown",
   "id": "6d9b71dd-3308-46a2-865a-623b9ba13bec",
   "metadata": {},
   "source": [
    "$and operator"
   ]
  },
  {
   "cell_type": "code",
   "execution_count": 26,
   "id": "4e8019bb-c5fb-46a7-a3e0-64b881bd771c",
   "metadata": {},
   "outputs": [
    {
     "data": {
      "text/plain": [
       "159"
      ]
     },
     "execution_count": 26,
     "metadata": {},
     "output_type": "execute_result"
    }
   ],
   "source": [
    "criteria = {\n",
    "    \"$and\": [\n",
    "        {\"location.country\": \"United Kingdom\"},\n",
    "        {\"sponsors\": \"Etisalat\"},\n",
    "    ]\n",
    "}\n",
    "races.count_documents(criteria)"
   ]
  },
  {
   "cell_type": "markdown",
   "id": "bbcd0d80-0a52-467a-ac3e-c2e21e8825b7",
   "metadata": {},
   "source": [
    "Easier and operator"
   ]
  },
  {
   "cell_type": "code",
   "execution_count": 25,
   "id": "9c58765b-3974-4d8d-94fc-760f42a1a99b",
   "metadata": {},
   "outputs": [
    {
     "data": {
      "text/plain": [
       "159"
      ]
     },
     "execution_count": 25,
     "metadata": {},
     "output_type": "execute_result"
    }
   ],
   "source": [
    "criteria = {\n",
    "    \"location.country\": \"United Kingdom\",\n",
    "    \"sponsors\": \"Etisalat\",\n",
    "}\n",
    "\n",
    "races.count_documents(criteria)"
   ]
  },
  {
   "cell_type": "markdown",
   "id": "5de727a1-6c70-47aa-94a5-04c624edff1a",
   "metadata": {},
   "source": [
    "Find races not held in the UK or United states"
   ]
  },
  {
   "cell_type": "code",
   "execution_count": 24,
   "id": "20db4711-fa34-4153-8d5d-6b61030377aa",
   "metadata": {},
   "outputs": [
    {
     "data": {
      "text/plain": [
       "142"
      ]
     },
     "execution_count": 24,
     "metadata": {},
     "output_type": "execute_result"
    }
   ],
   "source": [
    "criteria = {\n",
    "    \"location.country\": {\"$nin\": [\"United States\", \"United Kingdom\"]}\n",
    "}\n",
    "\n",
    "races.count_documents(criteria)"
   ]
  },
  {
   "cell_type": "markdown",
   "id": "6746835c-74bf-4799-a65f-6bd1ba503bf6",
   "metadata": {},
   "source": [
    "## H2: Querying for null or missing values in MongoDB"
   ]
  },
  {
   "cell_type": "markdown",
   "id": "8fbeca78-1396-4e95-89ba-59b382400eb0",
   "metadata": {},
   "source": [
    "Check if field or value exists:"
   ]
  },
  {
   "cell_type": "code",
   "execution_count": 23,
   "id": "1cfd4020-abbb-480b-943d-b704d91cba68",
   "metadata": {},
   "outputs": [
    {
     "data": {
      "text/plain": [
       "0"
      ]
     },
     "execution_count": 23,
     "metadata": {},
     "output_type": "execute_result"
    }
   ],
   "source": [
    "criteria = {\"location.district\": {\"$exists\": True}}\n",
    "\n",
    "races.count_documents(criteria)"
   ]
  },
  {
   "cell_type": "code",
   "execution_count": 30,
   "id": "d2573c96-a3a4-49cb-b021-0b7dc7aeefb4",
   "metadata": {},
   "outputs": [
    {
     "data": {
      "text/plain": [
       "3000"
      ]
     },
     "execution_count": 30,
     "metadata": {},
     "output_type": "execute_result"
    }
   ],
   "source": [
    "criteria = {\"laps\": {\"$exists\": True}}\n",
    "\n",
    "races.count_documents(criteria)"
   ]
  },
  {
   "cell_type": "code",
   "execution_count": 31,
   "id": "5f9876c1-6fd0-4527-8dd2-5ebd6fb50429",
   "metadata": {},
   "outputs": [
    {
     "data": {
      "text/plain": [
       "0"
      ]
     },
     "execution_count": 31,
     "metadata": {},
     "output_type": "execute_result"
    }
   ],
   "source": [
    "criteria = {\"pilots.finishing_position\": None}\n",
    "\n",
    "races.count_documents(criteria)"
   ]
  },
  {
   "cell_type": "markdown",
   "id": "2154ad77-6ffc-4028-a5de-27d2bbb46de5",
   "metadata": {},
   "source": [
    "Examine the races with only a single sponsor, which means only one element in the `sponsors` field:"
   ]
  },
  {
   "cell_type": "code",
   "execution_count": null,
   "id": "7bcd28b6-347d-4c56-b227-648c58339207",
   "metadata": {},
   "outputs": [],
   "source": [
    "criteria = {\"sponsors.1\": {\"$exists\": False}}\n",
    "\n",
    "races.count_documents(criteria)"
   ]
  },
  {
   "cell_type": "markdown",
   "id": "bfa6c7fd-4ad8-4476-845b-074558f2cf18",
   "metadata": {},
   "source": [
    "## H2: Projections, aka restricting fields"
   ]
  },
  {
   "cell_type": "code",
   "execution_count": 39,
   "id": "facf97da-03c7-4611-8603-47b36376612f",
   "metadata": {},
   "outputs": [
    {
     "name": "stdout",
     "output_type": "stream",
     "text": [
      "{'_id': ObjectId('659d31e9255ec0cf4bab529d'),\n",
      " 'location': {'country': 'United Kingdom'},\n",
      " 'pilots': {'name': 'Kariotta Cow', 'telemetry': {'speed': 68.3}},\n",
      " 'sponsors': ['Fat Shark', 'DJI', 'Etisalat']}\n"
     ]
    }
   ],
   "source": [
    "criteria = {\"pilots.telemetry.speed\": {\"$gte\": 20}}\n",
    "projection = {\n",
    "    \"sponsors\": 1,\n",
    "    \"location.country\": 1,\n",
    "    \"pilots.telemetry.speed\": 1,\n",
    "    \"pilots.name\": 1,\n",
    "}\n",
    "\n",
    "fast_pilots = races.find(criteria, projection)\n",
    "\n",
    "for pilot in fast_pilots:\n",
    "    pprint(pilot)\n",
    "    break"
   ]
  },
  {
   "cell_type": "code",
   "execution_count": 40,
   "id": "aaf4ed76-7f9d-492d-a5a8-9295b736d17b",
   "metadata": {},
   "outputs": [
    {
     "name": "stdout",
     "output_type": "stream",
     "text": [
      "{'location': {'country': 'United Kingdom'},\n",
      " 'pilots': {'name': 'Kariotta Cow', 'telemetry': {'speed': 68.3}},\n",
      " 'sponsors': ['Fat Shark', 'DJI', 'Etisalat']}\n"
     ]
    }
   ],
   "source": [
    "criteria = {\"pilots.telemetry.speed\": {\"$gte\": 20}}\n",
    "projection = {\n",
    "    \"sponsors\": 1,\n",
    "    \"location.country\": 1,\n",
    "    \"pilots.telemetry.speed\": 1,\n",
    "    \"pilots.name\": 1,\n",
    "    \"_id\": 0,\n",
    "}\n",
    "\n",
    "fast_pilots = races.find(criteria, projection)\n",
    "\n",
    "for pilot in fast_pilots:\n",
    "    pprint(pilot)\n",
    "    break"
   ]
  },
  {
   "cell_type": "code",
   "execution_count": 44,
   "id": "5d83f8bb-33e3-4065-bb19-f8812ec5f9dc",
   "metadata": {},
   "outputs": [
    {
     "data": {
      "text/plain": [
       "{'name': 'Honorable',\n",
       " 'location': {'venue': 'Manhattan Seas',\n",
       "  'city': 'Ford',\n",
       "  'country': 'United Kingdom',\n",
       "  'date': 'error: invalid date \"2024-10-25\"'},\n",
       " 'sponsors': ['Fat Shark', 'DJI', 'Etisalat'],\n",
       " 'laps': 3,\n",
       " 'weather_conditions': 'snowy'}"
      ]
     },
     "execution_count": 44,
     "metadata": {},
     "output_type": "execute_result"
    }
   ],
   "source": [
    "projection = {\"_id\": 0, \"league\": 0, \"pilots\": 0}\n",
    "\n",
    "# Empty criteria for this one\n",
    "races.find_one({}, projection)"
   ]
  },
  {
   "cell_type": "markdown",
   "id": "8583e8a8-f323-4075-b8af-a3adf361f31f",
   "metadata": {},
   "source": [
    "## Conclusion"
   ]
  }
 ],
 "metadata": {
  "kernelspec": {
   "display_name": "articles",
   "language": "python",
   "name": "articles"
  },
  "language_info": {
   "codemirror_mode": {
    "name": "ipython",
    "version": 3
   },
   "file_extension": ".py",
   "mimetype": "text/x-python",
   "name": "python",
   "nbconvert_exporter": "python",
   "pygments_lexer": "ipython3",
   "version": "3.9.13"
  }
 },
 "nbformat": 4,
 "nbformat_minor": 5
}
