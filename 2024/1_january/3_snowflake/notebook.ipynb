{
 "cells": [
  {
   "cell_type": "markdown",
   "id": "d8c7041c-d97f-4ede-8a1a-eafbc620fbd2",
   "metadata": {},
   "source": [
    "# Introduction to Snowflake tutorial"
   ]
  },
  {
   "cell_type": "markdown",
   "id": "a2de0a8e-a2a1-4b82-a094-b711f121978f",
   "metadata": {},
   "source": [
    "## What is Snowflake?"
   ]
  },
  {
   "cell_type": "markdown",
   "id": "a261bcac-e167-4afe-ad3d-0b9cba420919",
   "metadata": {},
   "source": [
    "If someone asked me to describe Snowflake in as few words as possible, I would choose these:\n",
    "- Data warehouses\n",
    "- Large-scale data\n",
    "- Multi-cloud\n",
    "- Separation\n",
    "- Scalable\n",
    "- Flexible\n",
    "- Simple\n",
    "\n",
    "If they asked me to elaborate, I would put together the words like this:\n",
    "\n",
    "Snowflake is a massively popular _cloud-based_ _data warehouse_ management platform. It distinguishes itself from competitors through its ability to handle _large-scale data_ and workloads faster and more efficiently. Its enhanced performance comes from its underlying architecture which uses _separate_ storage and compute layers, allowing it to be very _flexible_ and _scalable_. As a bonus, it natively integrates with _multiple cloud_ providers. Despite all these features, it manages to stay _simple_ to learn and implement. \n",
    "\n",
    "If they asked me to give even more details, well, then I would write this tutorial."
   ]
  },
  {
   "cell_type": "markdown",
   "id": "f3893e87-dfad-4c64-b046-0d6ceb7885c9",
   "metadata": {},
   "source": [
    "## 1. Why use Snowflake?"
   ]
  },
  {
   "cell_type": "markdown",
   "id": "ab3bb615-7511-4879-86a0-d0a8c45dd0d4",
   "metadata": {
    "tags": []
   },
   "source": [
    "Snowflake serves more than 8900 customers worldwide and processes 3.9 billion queries every day. That kind of usage statistics isn't a coincidence by any means. \n",
    "\n",
    "Below are the best benefits of Snowflake that have so much appeal:\n",
    "\n",
    "#### 1. h4 Cloud-based architecture\n",
    "Snowflake operates in the clouds, allowing companies to scale up and down resources based on demand without worrying about physical infrastructure (hardware). The platform also handles routine maintenance tasks such as software updates, hardware management, and performance tuning. This relieves the burden of maintenance overhead, allowing organizations to focus on matters: deriving value from data.\n",
    "\n",
    "#### 2. h4 Elasticity and scalability\n",
    "Snowflake separates storage and compute layers, allowing users to scale their computing resources independently of their storage needs. This elasticity enables efficient handling of diverse workloads with optimal performance and without unnecessary costs."
   ]
  },
  {
   "cell_type": "markdown",
   "id": "68cc9290-cb89-4a7e-bfa1-79e101052c63",
   "metadata": {},
   "source": [
    "#### 3. h4 Concurrency and performance\n",
    "Snowflake easily handles high concurrency: multiple users can access and query the data without performance loss. \n",
    "\n",
    "#### 4. h4 Data sharing\n",
    "Snowflake's security safeguards allow sharing data across other organizations, internal departments, external partners, customers, or other stakeholders. No need for complex data transfers. \n",
    "\n",
    "#### 5. h4 Time travel\n",
    "Snowflake uses a fancy term \"Time travel\" for data versioning. Whenever a change is made to the database, Snowflake takes a snapshot. This allows users to access historical data at various points in time. \n",
    "\n",
    "#### 6. h4 Cost efficiency\n",
    "Snowflake offers a pay-as-you-go model due to its ability to scale resources dynamically. You will only pay for what you use. \n"
   ]
  },
  {
   "cell_type": "markdown",
   "id": "c4db271e-896e-45ec-a010-3467824675b6",
   "metadata": {},
   "source": [
    "All these benefits combined make Snowflake a highly desirable data warehouse management tool. \n",
    "\n",
    "Now, let's take a look at the underlying architecture of Snowflake that unlocks these features. "
   ]
  },
  {
   "cell_type": "markdown",
   "id": "3a9b8909-00d6-4a0d-91bb-894418f5499c",
   "metadata": {},
   "source": [
    "## 2. What is a data warehouse?"
   ]
  },
  {
   "cell_type": "markdown",
   "id": "0c9a51ac-bdbd-41ad-979c-1824dfd50a3b",
   "metadata": {},
   "source": [
    "Before we dive into Snowflake architecture, let's review data warehouses to ensure we are all on the same page.\n",
    "\n",
    "A data warehouse is a centralized repository that stores large amounts of structured and organized data from various sources for a company. Different personas (employees) in organizations use the data within to derive different insights.\n",
    "\n",
    "For example, data analysts in collaboration with the marketing team may run an A/B test for a new marketing campaign using the sales table. HR specialists may query the employee information to track performance. \n",
    "\n",
    "These are some of the examples of how companies globally use data warehouses to drive growth. But without proper implementation and management, data warehouses only stay as elaborate concepts."
   ]
  },
  {
   "cell_type": "markdown",
   "id": "a727b6c8-7a77-4181-b401-711a9730c936",
   "metadata": {},
   "source": [
    "## 3. Snowflake architecture"
   ]
  },
  {
   "cell_type": "markdown",
   "id": "1c64d471-4812-4e4e-8c6c-f9be03578c4e",
   "metadata": {},
   "source": [
    "### h3: Storage layer"
   ]
  },
  {
   "cell_type": "markdown",
   "id": "4b681cd8-830c-4405-bb2a-3081432fa4f2",
   "metadata": {},
   "source": [
    "### h3: Compute layer"
   ]
  },
  {
   "cell_type": "markdown",
   "id": "d64a77e4-cd8d-4ab8-ae26-6fbf4e227faf",
   "metadata": {},
   "source": [
    "### h3: Cloud services layer"
   ]
  },
  {
   "cell_type": "markdown",
   "id": "3ade102d-11a1-4962-996e-cbb2fa84814b",
   "metadata": {},
   "source": [
    "## 4. SnowflakeSQL"
   ]
  },
  {
   "cell_type": "markdown",
   "id": "dd382196-d245-4e46-b123-29bd6266315f",
   "metadata": {},
   "source": [
    "### Snowsight: Web interface"
   ]
  },
  {
   "cell_type": "markdown",
   "id": "c02e3386-39aa-4343-a888-6cc249c1fc22",
   "metadata": {},
   "source": [
    "### SnowSQL: CLI"
   ]
  },
  {
   "cell_type": "markdown",
   "id": "bdc39149-6e8a-4bb8-8fa7-98ffac6f3a19",
   "metadata": {},
   "source": [
    "## Conclusion"
   ]
  }
 ],
 "metadata": {
  "kernelspec": {
   "display_name": "articles",
   "language": "python",
   "name": "articles"
  },
  "language_info": {
   "codemirror_mode": {
    "name": "ipython",
    "version": 3
   },
   "file_extension": ".py",
   "mimetype": "text/x-python",
   "name": "python",
   "nbconvert_exporter": "python",
   "pygments_lexer": "ipython3",
   "version": "3.10.8"
  },
  "widgets": {
   "application/vnd.jupyter.widget-state+json": {
    "state": {},
    "version_major": 2,
    "version_minor": 0
   }
  }
 },
 "nbformat": 4,
 "nbformat_minor": 5
}
