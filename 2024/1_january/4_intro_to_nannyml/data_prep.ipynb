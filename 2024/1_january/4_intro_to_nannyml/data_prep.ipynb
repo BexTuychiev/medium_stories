{
 "cells": [
  {
   "cell_type": "markdown",
   "id": "e39c52c6-6af9-4810-9fe6-ee7f673d69cb",
   "metadata": {},
   "source": [
    "### Importing the modules"
   ]
  },
  {
   "cell_type": "code",
   "execution_count": 1,
   "id": "a763ee98-bdff-4a4b-837b-276c568055c0",
   "metadata": {},
   "outputs": [],
   "source": [
    "import warnings\n",
    "\n",
    "import matplotlib.pyplot as plt\n",
    "import numpy as np\n",
    "import pandas as pd\n",
    "import seaborn as sns\n",
    "import xgboost as xgb\n",
    "from sklearn.model_selection import train_test_split\n",
    "from sklearn.preprocessing import OneHotEncoder\n",
    "\n",
    "warnings.filterwarnings(\"ignore\")"
   ]
  },
  {
   "cell_type": "markdown",
   "id": "8b3b9e9f-23b8-45c3-a323-f296eb15b446",
   "metadata": {},
   "source": [
    "### Preparing the data"
   ]
  },
  {
   "cell_type": "code",
   "execution_count": 92,
   "id": "98d8eb32-6c01-40f2-8b31-df1b7c8d1da7",
   "metadata": {},
   "outputs": [],
   "source": [
    "diamonds = sns.load_dataset(\"diamonds\")\n",
    "diamonds_preprocessed = diamonds.copy(deep=True)\n",
    "\n",
    "# Extract the columns and cast into category\n",
    "cats = diamonds.select_dtypes(exclude=np.number).columns\n",
    "for col in cats:\n",
    "    diamonds_preprocessed[col] = diamonds_preprocessed[col].astype(\"category\")"
   ]
  },
  {
   "cell_type": "code",
   "execution_count": 93,
   "id": "fde45d88-6279-45a9-98a4-6602367cd659",
   "metadata": {},
   "outputs": [],
   "source": [
    "diamonds_preprocessed.to_csv(\"data/diamonds_processed.csv\", index=False)"
   ]
  },
  {
   "cell_type": "markdown",
   "id": "4d9470c1-73bc-4e7a-abb0-45ec8355fedb",
   "metadata": {},
   "source": [
    "### Splitting the data into four sets"
   ]
  },
  {
   "cell_type": "code",
   "execution_count": 238,
   "id": "a31ba804-a2c9-4d05-9679-61821085eaa0",
   "metadata": {},
   "outputs": [],
   "source": [
    "def split_into_four(df, train_size=0.7, random_state=1):\n",
    "    \"\"\"\n",
    "    A function to split a dataset into four sets:\n",
    "    - Training\n",
    "    - Validation\n",
    "    - Testing\n",
    "    - Production\n",
    "    train_size is set by the user.\n",
    "    The remaining data will be equally divided between the three sets.\n",
    "    \"\"\"\n",
    "\n",
    "    training, the_rest = train_test_split(df, train_size=train_size, random_state=1)\n",
    "    validation, the_rest = train_test_split(the_rest, train_size=1 / 3, random_state=1)\n",
    "    testing, production = train_test_split(the_rest, train_size=0.5, random_state=1)\n",
    "\n",
    "    # Reset indices\n",
    "    sets = (training, validation, testing, production)\n",
    "    for set in sets:\n",
    "        set.reset_index(inplace=True, drop=True)\n",
    "\n",
    "    return sets\n",
    "\n",
    "\n",
    "tr, val, test, prod = split_into_four(diamonds_preprocessed)"
   ]
  },
  {
   "cell_type": "markdown",
   "id": "3310fc28-6097-4992-944b-95d877dcebd8",
   "metadata": {},
   "source": [
    "### Introduce artificial drifts"
   ]
  },
  {
   "cell_type": "code",
   "execution_count": 239,
   "id": "b1cbc48b-1b0e-4639-9b35-1f779d21b4f2",
   "metadata": {},
   "outputs": [
    {
     "ename": "AttributeError",
     "evalue": "'DataFrame' object has no attribute 'shuffle'",
     "output_type": "error",
     "traceback": [
      "\u001b[0;31m---------------------------------------------------------------------------\u001b[0m",
      "\u001b[0;31mAttributeError\u001b[0m                            Traceback (most recent call last)",
      "\u001b[0;32m/tmp/ipykernel_5185/1140473470.py\u001b[0m in \u001b[0;36m?\u001b[0;34m()\u001b[0m\n\u001b[1;32m     14\u001b[0m     \u001b[0mnp\u001b[0m\u001b[0;34m.\u001b[0m\u001b[0mrandom\u001b[0m\u001b[0;34m.\u001b[0m\u001b[0mchoice\u001b[0m\u001b[0;34m(\u001b[0m\u001b[0;34m[\u001b[0m\u001b[0;34m\"Fair\"\u001b[0m\u001b[0;34m,\u001b[0m \u001b[0;34m\"Good\"\u001b[0m\u001b[0;34m]\u001b[0m\u001b[0;34m,\u001b[0m \u001b[0msize\u001b[0m\u001b[0;34m=\u001b[0m\u001b[0mlen\u001b[0m\u001b[0;34m(\u001b[0m\u001b[0mprod\u001b[0m\u001b[0;34m)\u001b[0m \u001b[0;34m-\u001b[0m \u001b[0mhalf_index\u001b[0m\u001b[0;34m)\u001b[0m\u001b[0;34m,\u001b[0m\u001b[0;34m\u001b[0m\u001b[0;34m\u001b[0m\u001b[0m\n\u001b[1;32m     15\u001b[0m     \u001b[0mprod\u001b[0m\u001b[0;34m.\u001b[0m\u001b[0mloc\u001b[0m\u001b[0;34m[\u001b[0m\u001b[0mhalf_index\u001b[0m\u001b[0;34m:\u001b[0m\u001b[0;34m,\u001b[0m \u001b[0;34m\"cut\"\u001b[0m\u001b[0;34m]\u001b[0m\u001b[0;34m,\u001b[0m\u001b[0;34m\u001b[0m\u001b[0;34m\u001b[0m\u001b[0m\n\u001b[1;32m     16\u001b[0m )\n\u001b[1;32m     17\u001b[0m \u001b[0;34m\u001b[0m\u001b[0m\n\u001b[0;32m---> 18\u001b[0;31m \u001b[0mprod\u001b[0m \u001b[0;34m=\u001b[0m \u001b[0mprod\u001b[0m\u001b[0;34m.\u001b[0m\u001b[0mshuffle\u001b[0m\u001b[0;34m(\u001b[0m\u001b[0mfrac\u001b[0m\u001b[0;34m=\u001b[0m\u001b[0;36m1\u001b[0m\u001b[0;34m)\u001b[0m\u001b[0;34m.\u001b[0m\u001b[0mreset_index\u001b[0m\u001b[0;34m(\u001b[0m\u001b[0mdrop\u001b[0m\u001b[0;34m=\u001b[0m\u001b[0;32mTrue\u001b[0m\u001b[0;34m)\u001b[0m\u001b[0;34m\u001b[0m\u001b[0;34m\u001b[0m\u001b[0m\n\u001b[0m",
      "\u001b[0;32m~/anaconda3/envs/nannyml/lib/python3.11/site-packages/pandas/core/generic.py\u001b[0m in \u001b[0;36m?\u001b[0;34m(self, name)\u001b[0m\n\u001b[1;32m   5898\u001b[0m             \u001b[0;32mand\u001b[0m \u001b[0mname\u001b[0m \u001b[0;32mnot\u001b[0m \u001b[0;32min\u001b[0m \u001b[0mself\u001b[0m\u001b[0;34m.\u001b[0m\u001b[0m_accessors\u001b[0m\u001b[0;34m\u001b[0m\u001b[0;34m\u001b[0m\u001b[0m\n\u001b[1;32m   5899\u001b[0m             \u001b[0;32mand\u001b[0m \u001b[0mself\u001b[0m\u001b[0;34m.\u001b[0m\u001b[0m_info_axis\u001b[0m\u001b[0;34m.\u001b[0m\u001b[0m_can_hold_identifiers_and_holds_name\u001b[0m\u001b[0;34m(\u001b[0m\u001b[0mname\u001b[0m\u001b[0;34m)\u001b[0m\u001b[0;34m\u001b[0m\u001b[0;34m\u001b[0m\u001b[0m\n\u001b[1;32m   5900\u001b[0m         ):\n\u001b[1;32m   5901\u001b[0m             \u001b[0;32mreturn\u001b[0m \u001b[0mself\u001b[0m\u001b[0;34m[\u001b[0m\u001b[0mname\u001b[0m\u001b[0;34m]\u001b[0m\u001b[0;34m\u001b[0m\u001b[0;34m\u001b[0m\u001b[0m\n\u001b[0;32m-> 5902\u001b[0;31m         \u001b[0;32mreturn\u001b[0m \u001b[0mobject\u001b[0m\u001b[0;34m.\u001b[0m\u001b[0m__getattribute__\u001b[0m\u001b[0;34m(\u001b[0m\u001b[0mself\u001b[0m\u001b[0;34m,\u001b[0m \u001b[0mname\u001b[0m\u001b[0;34m)\u001b[0m\u001b[0;34m\u001b[0m\u001b[0;34m\u001b[0m\u001b[0m\n\u001b[0m",
      "\u001b[0;31mAttributeError\u001b[0m: 'DataFrame' object has no attribute 'shuffle'"
     ]
    }
   ],
   "source": [
    "# Calculate the index to split the dataset in half or another fraction\n",
    "half_index = len(prod) // 20\n",
    "\n",
    "# Introduce drift in numerical features\n",
    "# For example, increasing the 'carat' values and decreasing the 'depth'\n",
    "prod.iloc[half_index:, prod.columns.get_loc(\"carat\")] *= 1.3\n",
    "prod.iloc[half_index:, prod.columns.get_loc(\"depth\")] *= 0.9\n",
    "\n",
    "# Introduce drift in categorical features\n",
    "# We will increase the proportion of 'Fair' and 'Good' in the second half\n",
    "cut_categories = prod[\"cut\"].unique()\n",
    "prod.loc[half_index:, \"cut\"] = np.where(\n",
    "    np.random.rand(len(prod) - half_index) > 0.3,\n",
    "    np.random.choice([\"Fair\", \"Good\"], size=len(prod) - half_index),\n",
    "    prod.loc[half_index:, \"cut\"],\n",
    ")\n",
    "\n",
    "prod = prod.shuffle(frac=1).reset_index(drop=True)"
   ]
  },
  {
   "cell_type": "markdown",
   "id": "c3d21ee6-c8ea-4d2a-933e-c6c89d9a3820",
   "metadata": {},
   "source": [
    "### Defining features and target"
   ]
  },
  {
   "cell_type": "code",
   "execution_count": 240,
   "id": "4bdd47f7-8f5a-45d0-8137-0c65f253cd23",
   "metadata": {},
   "outputs": [],
   "source": [
    "all_feature_names = diamonds_preprocessed.drop(\"price\", axis=1).columns.tolist()\n",
    "numeric_feature_names = diamonds_preprocessed.select_dtypes(include=np.number).columns\n",
    "numeric_feature_names = numeric_feature_names.tolist()\n",
    "\n",
    "target = \"price\""
   ]
  },
  {
   "cell_type": "markdown",
   "id": "20f0ef20-2121-4688-bcac-bdb69a186db7",
   "metadata": {},
   "source": [
    "### Building a model"
   ]
  },
  {
   "cell_type": "code",
   "execution_count": 241,
   "id": "71748d9c-af29-4b82-84d7-7abb83a017fb",
   "metadata": {},
   "outputs": [],
   "source": [
    "# Define the DMatrix for training and validation\n",
    "dtrain = xgb.DMatrix(tr[all_feature_names], label=tr[target], enable_categorical=True)\n",
    "dval = xgb.DMatrix(val[all_feature_names], label=val[target], enable_categorical=True)"
   ]
  },
  {
   "cell_type": "code",
   "execution_count": 242,
   "id": "08d3af2d-de0e-4df6-85a0-fac9b3c7446e",
   "metadata": {},
   "outputs": [
    {
     "name": "stdout",
     "output_type": "stream",
     "text": [
      "[0]\ttrain-rmse:3638.77217\teval-rmse:3581.88180\n",
      "[178]\ttrain-rmse:398.70234\teval-rmse:526.31089\n"
     ]
    }
   ],
   "source": [
    "# Define optimized parameters\n",
    "params = {\n",
    "    \"n_estimators\": 10000,\n",
    "    \"learning_rate\": 0.1,\n",
    "    \"tree_method\": \"gpu_hist\",\n",
    "    \"max_depth\": 6,\n",
    "    \"min_child_weight\": 1,\n",
    "    \"gamma\": 0,\n",
    "    \"subsample\": 0.8,\n",
    "    \"colsample_bytree\": 0.8,\n",
    "    \"objective\": \"reg:squarederror\",\n",
    "    \"reg_alpha\": 0.01,\n",
    "    \"reg_lambda\": 1,\n",
    "}\n",
    "\n",
    "# Training with early stopping\n",
    "regressor = xgb.train(\n",
    "    params,\n",
    "    dtrain,\n",
    "    num_boost_round=10000,\n",
    "    evals=[(dtrain, \"train\"), (dval, \"eval\")],\n",
    "    early_stopping_rounds=50,\n",
    "    verbose_eval=500,\n",
    ")"
   ]
  },
  {
   "cell_type": "code",
   "execution_count": 243,
   "id": "35975e19-1cee-4d6c-978f-98847501f304",
   "metadata": {},
   "outputs": [],
   "source": [
    "# Define the DMatrix for testing and production\n",
    "dtest = xgb.DMatrix(\n",
    "    test[all_feature_names], label=test[target], enable_categorical=True\n",
    ")\n",
    "dprod = xgb.DMatrix(\n",
    "    prod[all_feature_names], label=prod[target], enable_categorical=True\n",
    ")"
   ]
  },
  {
   "cell_type": "code",
   "execution_count": 244,
   "id": "de04a341-b004-4f37-bf6d-f33e451b52c9",
   "metadata": {},
   "outputs": [
    {
     "data": {
      "text/plain": [
       "526.5131946801148"
      ]
     },
     "execution_count": 244,
     "metadata": {},
     "output_type": "execute_result"
    }
   ],
   "source": [
    "from sklearn.metrics import mean_squared_error\n",
    "\n",
    "# Predict on the test set\n",
    "y_test_pred = regressor.predict(dtest)\n",
    "\n",
    "# Evaluate\n",
    "mean_squared_error(test[target], y_test_pred, squared=False)"
   ]
  },
  {
   "cell_type": "markdown",
   "id": "b44effeb-60da-45c0-ad1c-4cdff5f8359e",
   "metadata": {},
   "source": [
    "### Creating a reference set"
   ]
  },
  {
   "cell_type": "code",
   "execution_count": 245,
   "id": "0c219f36-e9ce-4118-afdf-b2814a4838e8",
   "metadata": {},
   "outputs": [
    {
     "data": {
      "text/html": [
       "<div>\n",
       "<style scoped>\n",
       "    .dataframe tbody tr th:only-of-type {\n",
       "        vertical-align: middle;\n",
       "    }\n",
       "\n",
       "    .dataframe tbody tr th {\n",
       "        vertical-align: top;\n",
       "    }\n",
       "\n",
       "    .dataframe thead th {\n",
       "        text-align: right;\n",
       "    }\n",
       "</style>\n",
       "<table border=\"1\" class=\"dataframe\">\n",
       "  <thead>\n",
       "    <tr style=\"text-align: right;\">\n",
       "      <th></th>\n",
       "      <th>price</th>\n",
       "      <th>y_pred</th>\n",
       "    </tr>\n",
       "  </thead>\n",
       "  <tbody>\n",
       "    <tr>\n",
       "      <th>0</th>\n",
       "      <td>1388</td>\n",
       "      <td>1481.901367</td>\n",
       "    </tr>\n",
       "    <tr>\n",
       "      <th>1</th>\n",
       "      <td>1832</td>\n",
       "      <td>2088.636719</td>\n",
       "    </tr>\n",
       "    <tr>\n",
       "      <th>2</th>\n",
       "      <td>8060</td>\n",
       "      <td>7833.992676</td>\n",
       "    </tr>\n",
       "    <tr>\n",
       "      <th>3</th>\n",
       "      <td>1808</td>\n",
       "      <td>1824.474609</td>\n",
       "    </tr>\n",
       "    <tr>\n",
       "      <th>4</th>\n",
       "      <td>2111</td>\n",
       "      <td>2018.656372</td>\n",
       "    </tr>\n",
       "  </tbody>\n",
       "</table>\n",
       "</div>"
      ],
      "text/plain": [
       "   price       y_pred\n",
       "0   1388  1481.901367\n",
       "1   1832  2088.636719\n",
       "2   8060  7833.992676\n",
       "3   1808  1824.474609\n",
       "4   2111  2018.656372"
      ]
     },
     "execution_count": 245,
     "metadata": {},
     "output_type": "execute_result"
    }
   ],
   "source": [
    "reference = test.copy()\n",
    "reference[\"y_pred\"] = y_test_pred\n",
    "\n",
    "reference[[\"price\", \"y_pred\"]].head()"
   ]
  },
  {
   "cell_type": "markdown",
   "id": "2968e3cf-8ef9-4d60-8fd6-12114ee7257e",
   "metadata": {},
   "source": [
    "### Creating an analysis set"
   ]
  },
  {
   "cell_type": "code",
   "execution_count": 246,
   "id": "a34d7c67-2958-472a-ad39-a4b18b62f7c2",
   "metadata": {},
   "outputs": [
    {
     "data": {
      "text/html": [
       "<div>\n",
       "<style scoped>\n",
       "    .dataframe tbody tr th:only-of-type {\n",
       "        vertical-align: middle;\n",
       "    }\n",
       "\n",
       "    .dataframe tbody tr th {\n",
       "        vertical-align: top;\n",
       "    }\n",
       "\n",
       "    .dataframe thead th {\n",
       "        text-align: right;\n",
       "    }\n",
       "</style>\n",
       "<table border=\"1\" class=\"dataframe\">\n",
       "  <thead>\n",
       "    <tr style=\"text-align: right;\">\n",
       "      <th></th>\n",
       "      <th>price</th>\n",
       "      <th>y_pred</th>\n",
       "    </tr>\n",
       "  </thead>\n",
       "  <tbody>\n",
       "    <tr>\n",
       "      <th>0</th>\n",
       "      <td>687</td>\n",
       "      <td>753.692139</td>\n",
       "    </tr>\n",
       "    <tr>\n",
       "      <th>1</th>\n",
       "      <td>3823</td>\n",
       "      <td>3745.957031</td>\n",
       "    </tr>\n",
       "    <tr>\n",
       "      <th>2</th>\n",
       "      <td>544</td>\n",
       "      <td>583.499023</td>\n",
       "    </tr>\n",
       "    <tr>\n",
       "      <th>3</th>\n",
       "      <td>544</td>\n",
       "      <td>556.340576</td>\n",
       "    </tr>\n",
       "    <tr>\n",
       "      <th>4</th>\n",
       "      <td>1948</td>\n",
       "      <td>1981.163696</td>\n",
       "    </tr>\n",
       "  </tbody>\n",
       "</table>\n",
       "</div>"
      ],
      "text/plain": [
       "   price       y_pred\n",
       "0    687   753.692139\n",
       "1   3823  3745.957031\n",
       "2    544   583.499023\n",
       "3    544   556.340576\n",
       "4   1948  1981.163696"
      ]
     },
     "execution_count": 246,
     "metadata": {},
     "output_type": "execute_result"
    }
   ],
   "source": [
    "# Deploy the model\n",
    "y_prod_pred = regressor.predict(dprod)\n",
    "\n",
    "analysis = prod.copy()\n",
    "analysis[\"y_pred\"] = y_prod_pred\n",
    "\n",
    "analysis[[\"price\", \"y_pred\"]].head()"
   ]
  },
  {
   "cell_type": "markdown",
   "id": "9da108ae-08c8-42f9-b080-c7fc39201885",
   "metadata": {},
   "source": [
    "### Estimating performance with DLE"
   ]
  },
  {
   "cell_type": "code",
   "execution_count": 247,
   "id": "15c34a85-ec7c-4f21-b2fc-af329a89a9e8",
   "metadata": {},
   "outputs": [],
   "source": [
    "import nannyml\n",
    "\n",
    "estimator = nannyml.DLE(\n",
    "    feature_column_names=all_feature_names,\n",
    "    y_true=target,\n",
    "    y_pred=\"y_pred\",\n",
    "    metrics=[\"rmse\"],\n",
    "    chunk_size=250,\n",
    ")"
   ]
  },
  {
   "cell_type": "code",
   "execution_count": 248,
   "id": "7e36272d-4911-4f92-9cd6-1e3259bb2a9a",
   "metadata": {},
   "outputs": [],
   "source": [
    "# Fit to the reference set\n",
    "estimator.fit(reference)\n",
    "\n",
    "# Estimate on the analysis set\n",
    "estimated_results = estimator.estimate(analysis)"
   ]
  },
  {
   "cell_type": "code",
   "execution_count": 249,
   "id": "d42adf25-f76b-4187-9134-1023b908f17b",
   "metadata": {},
   "outputs": [
    {
     "data": {
      "application/vnd.plotly.v1+json": {
       "config": {
        "plotlyServerURL": "https://plot.ly"
       },
       "data": [
        {
         "hoverinfo": "skip",
         "legendgroup": "metric_reference",
         "line": {
          "color": "#3b0280",
          "dash": "dash",
          "shape": "hv",
          "width": 2
         },
         "mode": "lines",
         "name": "Metric",
         "showlegend": true,
         "type": "scatter",
         "x": [
          0,
          1,
          2,
          3,
          4,
          5,
          6,
          7,
          8,
          9,
          10,
          11,
          12,
          13,
          14,
          15,
          16,
          17,
          18,
          19,
          20,
          21
         ],
         "xaxis": "x",
         "y": [
          567.595667298751,
          648.8944858473601,
          564.6811939878063,
          591.481303895541,
          428.16680632342224,
          485.67593674274764,
          496.849452288195,
          487.8186980891766,
          562.3019021714772,
          514.3396979592592,
          507.206860180168,
          521.999760693339,
          522.9920312083227,
          498.0095455791483,
          464.9452828852687,
          521.8626019502906,
          646.1655729717955,
          501.76268332016815,
          543.0416670453261,
          604.9343558633868,
          446.0060233992042,
          446.0060233992042
         ],
         "yaxis": "y"
        },
        {
         "customdata": [
          [
           "Estimated <b>RMSE</b>",
           "<b style=\"color:Colors.INDIGO_PERSIAN;line-height:60px\">Reference</b>",
           "",
           "[0:249]",
           "Chunk index: <b>0</b>",
           567.5957,
           298.073
          ],
          [
           "Estimated <b>RMSE</b>",
           "<b style=\"color:Colors.INDIGO_PERSIAN;line-height:60px\">Reference</b>",
           "",
           "[250:499]",
           "Chunk index: <b>1</b>",
           648.8945,
           298.073
          ],
          [
           "Estimated <b>RMSE</b>",
           "<b style=\"color:Colors.INDIGO_PERSIAN;line-height:60px\">Reference</b>",
           "",
           "[500:749]",
           "Chunk index: <b>2</b>",
           564.6812,
           298.073
          ],
          [
           "Estimated <b>RMSE</b>",
           "<b style=\"color:Colors.INDIGO_PERSIAN;line-height:60px\">Reference</b>",
           "",
           "[750:999]",
           "Chunk index: <b>3</b>",
           591.4813,
           298.073
          ],
          [
           "Estimated <b>RMSE</b>",
           "<b style=\"color:Colors.INDIGO_PERSIAN;line-height:60px\">Reference</b>",
           "",
           "[1000:1249]",
           "Chunk index: <b>4</b>",
           428.1668,
           298.073
          ],
          [
           "Estimated <b>RMSE</b>",
           "<b style=\"color:Colors.INDIGO_PERSIAN;line-height:60px\">Reference</b>",
           "",
           "[1250:1499]",
           "Chunk index: <b>5</b>",
           485.6759,
           298.073
          ],
          [
           "Estimated <b>RMSE</b>",
           "<b style=\"color:Colors.INDIGO_PERSIAN;line-height:60px\">Reference</b>",
           "",
           "[1500:1749]",
           "Chunk index: <b>6</b>",
           496.8495,
           298.073
          ],
          [
           "Estimated <b>RMSE</b>",
           "<b style=\"color:Colors.INDIGO_PERSIAN;line-height:60px\">Reference</b>",
           "",
           "[1750:1999]",
           "Chunk index: <b>7</b>",
           487.8187,
           298.073
          ],
          [
           "Estimated <b>RMSE</b>",
           "<b style=\"color:Colors.INDIGO_PERSIAN;line-height:60px\">Reference</b>",
           "",
           "[2000:2249]",
           "Chunk index: <b>8</b>",
           562.3019,
           298.073
          ],
          [
           "Estimated <b>RMSE</b>",
           "<b style=\"color:Colors.INDIGO_PERSIAN;line-height:60px\">Reference</b>",
           "",
           "[2250:2499]",
           "Chunk index: <b>9</b>",
           514.3397,
           298.073
          ],
          [
           "Estimated <b>RMSE</b>",
           "<b style=\"color:Colors.INDIGO_PERSIAN;line-height:60px\">Reference</b>",
           "",
           "[2500:2749]",
           "Chunk index: <b>10</b>",
           507.2069,
           298.073
          ],
          [
           "Estimated <b>RMSE</b>",
           "<b style=\"color:Colors.INDIGO_PERSIAN;line-height:60px\">Reference</b>",
           "",
           "[2750:2999]",
           "Chunk index: <b>11</b>",
           521.9998,
           298.073
          ],
          [
           "Estimated <b>RMSE</b>",
           "<b style=\"color:Colors.INDIGO_PERSIAN;line-height:60px\">Reference</b>",
           "",
           "[3000:3249]",
           "Chunk index: <b>12</b>",
           522.992,
           298.073
          ],
          [
           "Estimated <b>RMSE</b>",
           "<b style=\"color:Colors.INDIGO_PERSIAN;line-height:60px\">Reference</b>",
           "",
           "[3250:3499]",
           "Chunk index: <b>13</b>",
           498.0095,
           298.073
          ],
          [
           "Estimated <b>RMSE</b>",
           "<b style=\"color:Colors.INDIGO_PERSIAN;line-height:60px\">Reference</b>",
           "",
           "[3500:3749]",
           "Chunk index: <b>14</b>",
           464.9453,
           298.073
          ],
          [
           "Estimated <b>RMSE</b>",
           "<b style=\"color:Colors.INDIGO_PERSIAN;line-height:60px\">Reference</b>",
           "",
           "[3750:3999]",
           "Chunk index: <b>15</b>",
           521.8626,
           298.073
          ],
          [
           "Estimated <b>RMSE</b>",
           "<b style=\"color:Colors.INDIGO_PERSIAN;line-height:60px\">Reference</b>",
           "",
           "[4000:4249]",
           "Chunk index: <b>16</b>",
           646.1656,
           298.073
          ],
          [
           "Estimated <b>RMSE</b>",
           "<b style=\"color:Colors.INDIGO_PERSIAN;line-height:60px\">Reference</b>",
           "",
           "[4250:4499]",
           "Chunk index: <b>17</b>",
           501.7627,
           298.073
          ],
          [
           "Estimated <b>RMSE</b>",
           "<b style=\"color:Colors.INDIGO_PERSIAN;line-height:60px\">Reference</b>",
           "",
           "[4500:4749]",
           "Chunk index: <b>18</b>",
           543.0417,
           298.073
          ],
          [
           "Estimated <b>RMSE</b>",
           "<b style=\"color:Colors.INDIGO_PERSIAN;line-height:60px\">Reference</b>",
           "",
           "[4750:4999]",
           "Chunk index: <b>19</b>",
           604.9344,
           298.073
          ],
          [
           "Estimated <b>RMSE</b>",
           "<b style=\"color:Colors.INDIGO_PERSIAN;line-height:60px\">Reference</b>",
           "",
           "[5000:5393]",
           "Chunk index: <b>20</b>",
           446.006,
           237.4349
          ]
         ],
         "hovertemplate": "%{customdata[1]} &nbsp; &nbsp; %{customdata[2]} <br />Chunk: <b>%{customdata[3]}</b> &nbsp; &nbsp; %{customdata[4]} <br />%{customdata[0]}: <b>%{customdata[5]}</b><br />Confidence band: +/- <b>%{customdata[6]}</b><br /><extra></extra>",
         "legendgroup": "metric_reference",
         "line": {
          "dash": "dash"
         },
         "marker": {
          "color": "#3b0280",
          "size": 5,
          "symbol": "circle"
         },
         "mode": "markers",
         "name": "Metric",
         "showlegend": false,
         "type": "scatter",
         "x": [
          0.5,
          1.5,
          2.5,
          3.5,
          4.5,
          5.5,
          6.5,
          7.5,
          8.5,
          9.5,
          10.5,
          11.5,
          12.5,
          13.5,
          14.5,
          15.5,
          16.5,
          17.5,
          18.5,
          19.5,
          20.5
         ],
         "xaxis": "x",
         "y": [
          567.595667298751,
          648.8944858473601,
          564.6811939878063,
          591.481303895541,
          428.16680632342224,
          485.67593674274764,
          496.849452288195,
          487.8186980891766,
          562.3019021714772,
          514.3396979592592,
          507.206860180168,
          521.999760693339,
          522.9920312083227,
          498.0095455791483,
          464.9452828852687,
          521.8626019502906,
          646.1655729717955,
          501.76268332016815,
          543.0416670453261,
          604.9343558633868,
          446.0060233992042,
          446.0060233992042
         ],
         "yaxis": "y"
        },
        {
         "hoverinfo": "skip",
         "legendgroup": "metric_analysis",
         "line": {
          "color": "#3b0280",
          "dash": "dash",
          "shape": "hv",
          "width": 2
         },
         "mode": "lines",
         "name": "Metric",
         "showlegend": false,
         "type": "scatter",
         "x": [
          21,
          22,
          23,
          24,
          25,
          26,
          27,
          28,
          29,
          30,
          31,
          32,
          33,
          34,
          35,
          36,
          37,
          38,
          39,
          40,
          41,
          42
         ],
         "xaxis": "x",
         "y": [
          572.7086344479326,
          763.731007909281,
          805.7391914814646,
          869.2528337640263,
          913.5696329168621,
          945.3547054627229,
          757.5926716191208,
          779.6765545284145,
          825.5500088697412,
          817.8335938986694,
          848.38920848469,
          789.8646134580192,
          730.2493117909478,
          775.7361175388653,
          838.81244902568,
          863.1283747118853,
          869.2827741400278,
          837.8419541559476,
          828.8830627961594,
          793.6866928842664,
          819.5254301118733,
          819.5254301118733
         ],
         "yaxis": "y"
        },
        {
         "customdata": [
          [
           "Estimated <b>RMSE</b>",
           "<b style=\"color:Colors.INDIGO_PERSIAN;line-height:60px\">Analysis</b>",
           "",
           "[0:249]",
           "Chunk index: <b>0</b>",
           572.7086,
           298.073
          ],
          [
           "Estimated <b>RMSE</b>",
           "<b style=\"color:Colors.INDIGO_PERSIAN;line-height:60px\">Analysis</b>",
           "",
           "[250:499]",
           "Chunk index: <b>1</b>",
           763.731,
           298.073
          ],
          [
           "Estimated <b>RMSE</b>",
           "<b style=\"color:Colors.INDIGO_PERSIAN;line-height:60px\">Analysis</b>",
           "",
           "[500:749]",
           "Chunk index: <b>2</b>",
           805.7392,
           298.073
          ],
          [
           "Estimated <b>RMSE</b>",
           "<b style=\"color:Colors.INDIGO_PERSIAN;line-height:60px\">Analysis</b>",
           "<span style=\"color:#AD0000\">⚠ <b>Drift detected</b></span>",
           "[750:999]",
           "Chunk index: <b>3</b>",
           869.2528,
           298.073
          ],
          [
           "Estimated <b>RMSE</b>",
           "<b style=\"color:Colors.INDIGO_PERSIAN;line-height:60px\">Analysis</b>",
           "<span style=\"color:#AD0000\">⚠ <b>Drift detected</b></span>",
           "[1000:1249]",
           "Chunk index: <b>4</b>",
           913.5696,
           298.073
          ],
          [
           "Estimated <b>RMSE</b>",
           "<b style=\"color:Colors.INDIGO_PERSIAN;line-height:60px\">Analysis</b>",
           "<span style=\"color:#AD0000\">⚠ <b>Drift detected</b></span>",
           "[1250:1499]",
           "Chunk index: <b>5</b>",
           945.3547,
           298.073
          ],
          [
           "Estimated <b>RMSE</b>",
           "<b style=\"color:Colors.INDIGO_PERSIAN;line-height:60px\">Analysis</b>",
           "",
           "[1500:1749]",
           "Chunk index: <b>6</b>",
           757.5927,
           298.073
          ],
          [
           "Estimated <b>RMSE</b>",
           "<b style=\"color:Colors.INDIGO_PERSIAN;line-height:60px\">Analysis</b>",
           "",
           "[1750:1999]",
           "Chunk index: <b>7</b>",
           779.6766,
           298.073
          ],
          [
           "Estimated <b>RMSE</b>",
           "<b style=\"color:Colors.INDIGO_PERSIAN;line-height:60px\">Analysis</b>",
           "<span style=\"color:#AD0000\">⚠ <b>Drift detected</b></span>",
           "[2000:2249]",
           "Chunk index: <b>8</b>",
           825.55,
           298.073
          ],
          [
           "Estimated <b>RMSE</b>",
           "<b style=\"color:Colors.INDIGO_PERSIAN;line-height:60px\">Analysis</b>",
           "<span style=\"color:#AD0000\">⚠ <b>Drift detected</b></span>",
           "[2250:2499]",
           "Chunk index: <b>9</b>",
           817.8336,
           298.073
          ],
          [
           "Estimated <b>RMSE</b>",
           "<b style=\"color:Colors.INDIGO_PERSIAN;line-height:60px\">Analysis</b>",
           "<span style=\"color:#AD0000\">⚠ <b>Drift detected</b></span>",
           "[2500:2749]",
           "Chunk index: <b>10</b>",
           848.3892,
           298.073
          ],
          [
           "Estimated <b>RMSE</b>",
           "<b style=\"color:Colors.INDIGO_PERSIAN;line-height:60px\">Analysis</b>",
           "",
           "[2750:2999]",
           "Chunk index: <b>11</b>",
           789.8646,
           298.073
          ],
          [
           "Estimated <b>RMSE</b>",
           "<b style=\"color:Colors.INDIGO_PERSIAN;line-height:60px\">Analysis</b>",
           "",
           "[3000:3249]",
           "Chunk index: <b>12</b>",
           730.2493,
           298.073
          ],
          [
           "Estimated <b>RMSE</b>",
           "<b style=\"color:Colors.INDIGO_PERSIAN;line-height:60px\">Analysis</b>",
           "",
           "[3250:3499]",
           "Chunk index: <b>13</b>",
           775.7361,
           298.073
          ],
          [
           "Estimated <b>RMSE</b>",
           "<b style=\"color:Colors.INDIGO_PERSIAN;line-height:60px\">Analysis</b>",
           "<span style=\"color:#AD0000\">⚠ <b>Drift detected</b></span>",
           "[3500:3749]",
           "Chunk index: <b>14</b>",
           838.8124,
           298.073
          ],
          [
           "Estimated <b>RMSE</b>",
           "<b style=\"color:Colors.INDIGO_PERSIAN;line-height:60px\">Analysis</b>",
           "<span style=\"color:#AD0000\">⚠ <b>Drift detected</b></span>",
           "[3750:3999]",
           "Chunk index: <b>15</b>",
           863.1284,
           298.073
          ],
          [
           "Estimated <b>RMSE</b>",
           "<b style=\"color:Colors.INDIGO_PERSIAN;line-height:60px\">Analysis</b>",
           "<span style=\"color:#AD0000\">⚠ <b>Drift detected</b></span>",
           "[4000:4249]",
           "Chunk index: <b>16</b>",
           869.2828,
           298.073
          ],
          [
           "Estimated <b>RMSE</b>",
           "<b style=\"color:Colors.INDIGO_PERSIAN;line-height:60px\">Analysis</b>",
           "<span style=\"color:#AD0000\">⚠ <b>Drift detected</b></span>",
           "[4250:4499]",
           "Chunk index: <b>17</b>",
           837.842,
           298.073
          ],
          [
           "Estimated <b>RMSE</b>",
           "<b style=\"color:Colors.INDIGO_PERSIAN;line-height:60px\">Analysis</b>",
           "<span style=\"color:#AD0000\">⚠ <b>Drift detected</b></span>",
           "[4500:4749]",
           "Chunk index: <b>18</b>",
           828.8831,
           298.073
          ],
          [
           "Estimated <b>RMSE</b>",
           "<b style=\"color:Colors.INDIGO_PERSIAN;line-height:60px\">Analysis</b>",
           "",
           "[4750:4999]",
           "Chunk index: <b>19</b>",
           793.6867,
           298.073
          ],
          [
           "Estimated <b>RMSE</b>",
           "<b style=\"color:Colors.INDIGO_PERSIAN;line-height:60px\">Analysis</b>",
           "<span style=\"color:#AD0000\">⚠ <b>Drift detected</b></span>",
           "[5000:5393]",
           "Chunk index: <b>20</b>",
           819.5254,
           237.4349
          ]
         ],
         "hovertemplate": "%{customdata[1]} &nbsp; &nbsp; %{customdata[2]} <br />Chunk: <b>%{customdata[3]}</b> &nbsp; &nbsp; %{customdata[4]} <br />%{customdata[0]}: <b>%{customdata[5]}</b><br />Confidence band: +/- <b>%{customdata[6]}</b><br /><extra></extra>",
         "legendgroup": "metric_analysis",
         "line": {
          "dash": "dash"
         },
         "marker": {
          "color": "#3b0280",
          "size": 5,
          "symbol": "circle"
         },
         "mode": "markers",
         "name": "Metric",
         "showlegend": false,
         "type": "scatter",
         "x": [
          21.5,
          22.5,
          23.5,
          24.5,
          25.5,
          26.5,
          27.5,
          28.5,
          29.5,
          30.5,
          31.5,
          32.5,
          33.5,
          34.5,
          35.5,
          36.5,
          37.5,
          38.5,
          39.5,
          40.5,
          41.5
         ],
         "xaxis": "x",
         "y": [
          572.7086344479326,
          763.731007909281,
          805.7391914814646,
          869.2528337640263,
          913.5696329168621,
          945.3547054627229,
          757.5926716191208,
          779.6765545284145,
          825.5500088697412,
          817.8335938986694,
          848.38920848469,
          789.8646134580192,
          730.2493117909478,
          775.7361175388653,
          838.81244902568,
          863.1283747118853,
          869.2827741400278,
          837.8419541559476,
          828.8830627961594,
          793.6866928842664,
          819.5254301118733,
          819.5254301118733
         ],
         "yaxis": "y"
        },
        {
         "hoverinfo": "skip",
         "legendgroup": "alert",
         "marker": {
          "color": "#DD4040",
          "size": 8,
          "symbol": "diamond"
         },
         "mode": "markers",
         "name": "Alert",
         "showlegend": true,
         "type": "scatter",
         "x": [
          24.5,
          25.5,
          26.5,
          29.5,
          30.5,
          31.5,
          35.5,
          36.5,
          37.5,
          38.5,
          39.5,
          41.5
         ],
         "xaxis": "x",
         "y": [
          869.2528337640263,
          913.5696329168621,
          945.3547054627229,
          825.5500088697412,
          817.8335938986694,
          848.38920848469,
          838.81244902568,
          863.1283747118853,
          869.2827741400278,
          837.8419541559476,
          828.8830627961594,
          819.5254301118733
         ],
         "yaxis": "y"
        },
        {
         "hoverinfo": "skip",
         "legendgroup": "thresh",
         "line": {
          "color": "#DD4040",
          "dash": "dash",
          "width": 2
         },
         "mode": "lines",
         "name": "Threshold",
         "showlegend": true,
         "type": "scatter",
         "x": [
          0,
          1,
          2,
          3,
          4,
          5,
          6,
          7,
          8,
          9,
          10,
          11,
          12,
          13,
          14,
          15,
          16,
          17,
          18,
          19,
          20,
          21
         ],
         "xaxis": "x",
         "y": [
          806.9235661941054,
          806.9235661941054,
          806.9235661941054,
          806.9235661941054,
          806.9235661941054,
          806.9235661941054,
          806.9235661941054,
          806.9235661941054,
          806.9235661941054,
          806.9235661941054,
          806.9235661941054,
          806.9235661941054,
          806.9235661941054,
          806.9235661941054,
          806.9235661941054,
          806.9235661941054,
          806.9235661941054,
          806.9235661941054,
          806.9235661941054,
          806.9235661941054,
          806.9235661941054,
          806.9235661941054
         ],
         "yaxis": "y"
        },
        {
         "hoverinfo": "skip",
         "legendgroup": "thresh",
         "line": {
          "color": "#DD4040",
          "dash": "dash",
          "width": 2
         },
         "mode": "lines",
         "name": "Threshold",
         "showlegend": false,
         "type": "scatter",
         "x": [
          0,
          1,
          2,
          3,
          4,
          5,
          6,
          7,
          8,
          9,
          10,
          11,
          12,
          13,
          14,
          15,
          16,
          17,
          18,
          19,
          20,
          21
         ],
         "xaxis": "x",
         "y": [
          234.31883291999424,
          234.31883291999424,
          234.31883291999424,
          234.31883291999424,
          234.31883291999424,
          234.31883291999424,
          234.31883291999424,
          234.31883291999424,
          234.31883291999424,
          234.31883291999424,
          234.31883291999424,
          234.31883291999424,
          234.31883291999424,
          234.31883291999424,
          234.31883291999424,
          234.31883291999424,
          234.31883291999424,
          234.31883291999424,
          234.31883291999424,
          234.31883291999424,
          234.31883291999424,
          234.31883291999424
         ],
         "yaxis": "y"
        },
        {
         "hoverinfo": "skip",
         "legendgroup": "thresh",
         "line": {
          "color": "#DD4040",
          "dash": "dash",
          "width": 2
         },
         "mode": "lines",
         "name": "Threshold",
         "showlegend": false,
         "type": "scatter",
         "x": [
          21,
          22,
          23,
          24,
          25,
          26,
          27,
          28,
          29,
          30,
          31,
          32,
          33,
          34,
          35,
          36,
          37,
          38,
          39,
          40,
          41,
          42
         ],
         "xaxis": "x",
         "y": [
          806.9235661941054,
          806.9235661941054,
          806.9235661941054,
          806.9235661941054,
          806.9235661941054,
          806.9235661941054,
          806.9235661941054,
          806.9235661941054,
          806.9235661941054,
          806.9235661941054,
          806.9235661941054,
          806.9235661941054,
          806.9235661941054,
          806.9235661941054,
          806.9235661941054,
          806.9235661941054,
          806.9235661941054,
          806.9235661941054,
          806.9235661941054,
          806.9235661941054,
          806.9235661941054,
          806.9235661941054
         ],
         "yaxis": "y"
        },
        {
         "hoverinfo": "skip",
         "legendgroup": "thresh",
         "line": {
          "color": "#DD4040",
          "dash": "dash",
          "width": 2
         },
         "mode": "lines",
         "name": "Threshold",
         "showlegend": false,
         "type": "scatter",
         "x": [
          21,
          22,
          23,
          24,
          25,
          26,
          27,
          28,
          29,
          30,
          31,
          32,
          33,
          34,
          35,
          36,
          37,
          38,
          39,
          40,
          41,
          42
         ],
         "xaxis": "x",
         "y": [
          234.31883291999424,
          234.31883291999424,
          234.31883291999424,
          234.31883291999424,
          234.31883291999424,
          234.31883291999424,
          234.31883291999424,
          234.31883291999424,
          234.31883291999424,
          234.31883291999424,
          234.31883291999424,
          234.31883291999424,
          234.31883291999424,
          234.31883291999424,
          234.31883291999424,
          234.31883291999424,
          234.31883291999424,
          234.31883291999424,
          234.31883291999424,
          234.31883291999424,
          234.31883291999424,
          234.31883291999424
         ],
         "yaxis": "y"
        },
        {
         "hoverinfo": "skip",
         "line": {
          "color": "rgba(0, 0, 0, 0)",
          "shape": "hv"
         },
         "mode": "lines",
         "name": "Confidence band",
         "showlegend": false,
         "type": "scatter",
         "x": [
          0,
          1,
          2,
          3,
          4,
          5,
          6,
          7,
          8,
          9,
          10,
          11,
          12,
          13,
          14,
          15,
          16,
          17,
          18,
          19,
          20,
          21
         ],
         "xaxis": "x",
         "y": [
          865.6686720737869,
          946.967490622396,
          862.7541987628422,
          889.5543086705769,
          726.2398110984582,
          783.7489415177836,
          794.9224570632309,
          785.8917028642124,
          860.3749069465131,
          812.4127027342951,
          805.279864955204,
          820.0727654683749,
          821.0650359833586,
          796.0825503541841,
          763.0182876603046,
          819.9356067253265,
          944.2385777468314,
          799.835688095204,
          841.114671820362,
          903.0073606384227,
          683.4409145222247,
          683.4409145222247
         ],
         "yaxis": "y"
        },
        {
         "fill": "tonexty",
         "fillcolor": "rgba(59, 2, 128, 0.2)",
         "hoverinfo": "skip",
         "line": {
          "color": "rgba(0, 0, 0, 0)",
          "shape": "hv"
         },
         "mode": "lines",
         "name": "Confidence band",
         "showlegend": true,
         "type": "scatter",
         "x": [
          0,
          1,
          2,
          3,
          4,
          5,
          6,
          7,
          8,
          9,
          10,
          11,
          12,
          13,
          14,
          15,
          16,
          17,
          18,
          19,
          20,
          21
         ],
         "xaxis": "x",
         "y": [
          269.5226625237151,
          350.8214810723242,
          266.6081892127704,
          293.40829912050515,
          130.09380154838635,
          187.60293196771175,
          198.7764475131591,
          189.74569331414074,
          264.2288973964413,
          216.2666931842233,
          209.13385540513212,
          223.92675591830312,
          224.91902643328683,
          199.93654080411244,
          166.8722781102328,
          223.7895971752547,
          348.09256819675966,
          203.68967854513227,
          244.96866227029022,
          306.86135108835094,
          208.5711322761837,
          208.5711322761837
         ],
         "yaxis": "y"
        },
        {
         "hoverinfo": "skip",
         "line": {
          "color": "rgba(0, 0, 0, 0)",
          "shape": "hv"
         },
         "mode": "lines",
         "name": "Confidence band",
         "showlegend": false,
         "type": "scatter",
         "x": [
          21,
          22,
          23,
          24,
          25,
          26,
          27,
          28,
          29,
          30,
          31,
          32,
          33,
          34,
          35,
          36,
          37,
          38,
          39,
          40,
          41,
          42
         ],
         "xaxis": "x",
         "y": [
          870.7816392229685,
          1061.8040126843168,
          1103.8121962565006,
          1167.3258385390623,
          1211.642637691898,
          1243.4277102377587,
          1055.6656763941567,
          1077.7495593034505,
          1123.623013644777,
          1115.9065986737053,
          1146.462213259726,
          1087.9376182330552,
          1028.3223165659838,
          1073.8091223139013,
          1136.8854538007158,
          1161.2013794869213,
          1167.3557789150636,
          1135.9149589309836,
          1126.9560675711953,
          1091.7596976593022,
          1056.9603212348939,
          1056.9603212348939
         ],
         "yaxis": "y"
        },
        {
         "fill": "tonexty",
         "fillcolor": "rgba(59, 2, 128, 0.2)",
         "hoverinfo": "skip",
         "line": {
          "color": "rgba(0, 0, 0, 0)",
          "shape": "hv"
         },
         "mode": "lines",
         "name": "Confidence band",
         "showlegend": false,
         "type": "scatter",
         "x": [
          21,
          22,
          23,
          24,
          25,
          26,
          27,
          28,
          29,
          30,
          31,
          32,
          33,
          34,
          35,
          36,
          37,
          38,
          39,
          40,
          41,
          42
         ],
         "xaxis": "x",
         "y": [
          274.6356296728967,
          465.65800313424506,
          507.6661867064287,
          571.1798289889904,
          615.4966281418262,
          647.281700687687,
          459.5196668440849,
          481.6035497533786,
          527.4770040947053,
          519.7605891236335,
          550.3162037096541,
          491.79160868298334,
          432.1763070159119,
          477.6631127638294,
          540.7394442506442,
          565.0553699368494,
          571.2097693649919,
          539.7689493809117,
          530.8100580211235,
          495.61368810923057,
          582.0905389888528,
          582.0905389888528
         ],
         "yaxis": "y"
        }
       ],
       "layout": {
        "annotations": [
         {
          "font": {
           "size": 16
          },
          "showarrow": false,
          "text": "Estimated <b>RMSE</b>",
          "x": 0.5,
          "xanchor": "center",
          "xref": "paper",
          "y": 1,
          "yanchor": "bottom",
          "yref": "paper"
         },
         {
          "showarrow": false,
          "text": "Reference",
          "x": 10,
          "xref": "x",
          "xshift": 10,
          "y": 1.01,
          "yref": "y domain"
         },
         {
          "showarrow": false,
          "text": "Analysis",
          "x": 31,
          "xref": "x",
          "xshift": 15,
          "y": 1.01,
          "yref": "y domain"
         }
        ],
        "autosize": true,
        "hoverlabel": {
         "bgcolor": "white",
         "font": {
          "size": 14
         }
        },
        "legend": {
         "itemclick": false,
         "itemdoubleclick": false,
         "traceorder": "grouped"
        },
        "paper_bgcolor": "rgba(255,255,255,1)",
        "plot_bgcolor": "rgba(255,255,255,1)",
        "shapes": [
         {
          "layer": "below",
          "line": {
           "color": "#666666",
           "width": 1
          },
          "type": "line",
          "x0": 21,
          "x1": 21,
          "xref": "x",
          "y0": 0,
          "y1": 1,
          "yref": "y domain"
         }
        ],
        "template": {
         "data": {
          "bar": [
           {
            "error_x": {
             "color": "#2a3f5f"
            },
            "error_y": {
             "color": "#2a3f5f"
            },
            "marker": {
             "line": {
              "color": "#E5ECF6",
              "width": 0.5
             },
             "pattern": {
              "fillmode": "overlay",
              "size": 10,
              "solidity": 0.2
             }
            },
            "type": "bar"
           }
          ],
          "barpolar": [
           {
            "marker": {
             "line": {
              "color": "#E5ECF6",
              "width": 0.5
             },
             "pattern": {
              "fillmode": "overlay",
              "size": 10,
              "solidity": 0.2
             }
            },
            "type": "barpolar"
           }
          ],
          "carpet": [
           {
            "aaxis": {
             "endlinecolor": "#2a3f5f",
             "gridcolor": "white",
             "linecolor": "white",
             "minorgridcolor": "white",
             "startlinecolor": "#2a3f5f"
            },
            "baxis": {
             "endlinecolor": "#2a3f5f",
             "gridcolor": "white",
             "linecolor": "white",
             "minorgridcolor": "white",
             "startlinecolor": "#2a3f5f"
            },
            "type": "carpet"
           }
          ],
          "choropleth": [
           {
            "colorbar": {
             "outlinewidth": 0,
             "ticks": ""
            },
            "type": "choropleth"
           }
          ],
          "contour": [
           {
            "colorbar": {
             "outlinewidth": 0,
             "ticks": ""
            },
            "colorscale": [
             [
              0,
              "#0d0887"
             ],
             [
              0.1111111111111111,
              "#46039f"
             ],
             [
              0.2222222222222222,
              "#7201a8"
             ],
             [
              0.3333333333333333,
              "#9c179e"
             ],
             [
              0.4444444444444444,
              "#bd3786"
             ],
             [
              0.5555555555555556,
              "#d8576b"
             ],
             [
              0.6666666666666666,
              "#ed7953"
             ],
             [
              0.7777777777777778,
              "#fb9f3a"
             ],
             [
              0.8888888888888888,
              "#fdca26"
             ],
             [
              1,
              "#f0f921"
             ]
            ],
            "type": "contour"
           }
          ],
          "contourcarpet": [
           {
            "colorbar": {
             "outlinewidth": 0,
             "ticks": ""
            },
            "type": "contourcarpet"
           }
          ],
          "heatmap": [
           {
            "colorbar": {
             "outlinewidth": 0,
             "ticks": ""
            },
            "colorscale": [
             [
              0,
              "#0d0887"
             ],
             [
              0.1111111111111111,
              "#46039f"
             ],
             [
              0.2222222222222222,
              "#7201a8"
             ],
             [
              0.3333333333333333,
              "#9c179e"
             ],
             [
              0.4444444444444444,
              "#bd3786"
             ],
             [
              0.5555555555555556,
              "#d8576b"
             ],
             [
              0.6666666666666666,
              "#ed7953"
             ],
             [
              0.7777777777777778,
              "#fb9f3a"
             ],
             [
              0.8888888888888888,
              "#fdca26"
             ],
             [
              1,
              "#f0f921"
             ]
            ],
            "type": "heatmap"
           }
          ],
          "heatmapgl": [
           {
            "colorbar": {
             "outlinewidth": 0,
             "ticks": ""
            },
            "colorscale": [
             [
              0,
              "#0d0887"
             ],
             [
              0.1111111111111111,
              "#46039f"
             ],
             [
              0.2222222222222222,
              "#7201a8"
             ],
             [
              0.3333333333333333,
              "#9c179e"
             ],
             [
              0.4444444444444444,
              "#bd3786"
             ],
             [
              0.5555555555555556,
              "#d8576b"
             ],
             [
              0.6666666666666666,
              "#ed7953"
             ],
             [
              0.7777777777777778,
              "#fb9f3a"
             ],
             [
              0.8888888888888888,
              "#fdca26"
             ],
             [
              1,
              "#f0f921"
             ]
            ],
            "type": "heatmapgl"
           }
          ],
          "histogram": [
           {
            "marker": {
             "pattern": {
              "fillmode": "overlay",
              "size": 10,
              "solidity": 0.2
             }
            },
            "type": "histogram"
           }
          ],
          "histogram2d": [
           {
            "colorbar": {
             "outlinewidth": 0,
             "ticks": ""
            },
            "colorscale": [
             [
              0,
              "#0d0887"
             ],
             [
              0.1111111111111111,
              "#46039f"
             ],
             [
              0.2222222222222222,
              "#7201a8"
             ],
             [
              0.3333333333333333,
              "#9c179e"
             ],
             [
              0.4444444444444444,
              "#bd3786"
             ],
             [
              0.5555555555555556,
              "#d8576b"
             ],
             [
              0.6666666666666666,
              "#ed7953"
             ],
             [
              0.7777777777777778,
              "#fb9f3a"
             ],
             [
              0.8888888888888888,
              "#fdca26"
             ],
             [
              1,
              "#f0f921"
             ]
            ],
            "type": "histogram2d"
           }
          ],
          "histogram2dcontour": [
           {
            "colorbar": {
             "outlinewidth": 0,
             "ticks": ""
            },
            "colorscale": [
             [
              0,
              "#0d0887"
             ],
             [
              0.1111111111111111,
              "#46039f"
             ],
             [
              0.2222222222222222,
              "#7201a8"
             ],
             [
              0.3333333333333333,
              "#9c179e"
             ],
             [
              0.4444444444444444,
              "#bd3786"
             ],
             [
              0.5555555555555556,
              "#d8576b"
             ],
             [
              0.6666666666666666,
              "#ed7953"
             ],
             [
              0.7777777777777778,
              "#fb9f3a"
             ],
             [
              0.8888888888888888,
              "#fdca26"
             ],
             [
              1,
              "#f0f921"
             ]
            ],
            "type": "histogram2dcontour"
           }
          ],
          "mesh3d": [
           {
            "colorbar": {
             "outlinewidth": 0,
             "ticks": ""
            },
            "type": "mesh3d"
           }
          ],
          "parcoords": [
           {
            "line": {
             "colorbar": {
              "outlinewidth": 0,
              "ticks": ""
             }
            },
            "type": "parcoords"
           }
          ],
          "pie": [
           {
            "automargin": true,
            "type": "pie"
           }
          ],
          "scatter": [
           {
            "fillpattern": {
             "fillmode": "overlay",
             "size": 10,
             "solidity": 0.2
            },
            "type": "scatter"
           }
          ],
          "scatter3d": [
           {
            "line": {
             "colorbar": {
              "outlinewidth": 0,
              "ticks": ""
             }
            },
            "marker": {
             "colorbar": {
              "outlinewidth": 0,
              "ticks": ""
             }
            },
            "type": "scatter3d"
           }
          ],
          "scattercarpet": [
           {
            "marker": {
             "colorbar": {
              "outlinewidth": 0,
              "ticks": ""
             }
            },
            "type": "scattercarpet"
           }
          ],
          "scattergeo": [
           {
            "marker": {
             "colorbar": {
              "outlinewidth": 0,
              "ticks": ""
             }
            },
            "type": "scattergeo"
           }
          ],
          "scattergl": [
           {
            "marker": {
             "colorbar": {
              "outlinewidth": 0,
              "ticks": ""
             }
            },
            "type": "scattergl"
           }
          ],
          "scattermapbox": [
           {
            "marker": {
             "colorbar": {
              "outlinewidth": 0,
              "ticks": ""
             }
            },
            "type": "scattermapbox"
           }
          ],
          "scatterpolar": [
           {
            "marker": {
             "colorbar": {
              "outlinewidth": 0,
              "ticks": ""
             }
            },
            "type": "scatterpolar"
           }
          ],
          "scatterpolargl": [
           {
            "marker": {
             "colorbar": {
              "outlinewidth": 0,
              "ticks": ""
             }
            },
            "type": "scatterpolargl"
           }
          ],
          "scatterternary": [
           {
            "marker": {
             "colorbar": {
              "outlinewidth": 0,
              "ticks": ""
             }
            },
            "type": "scatterternary"
           }
          ],
          "surface": [
           {
            "colorbar": {
             "outlinewidth": 0,
             "ticks": ""
            },
            "colorscale": [
             [
              0,
              "#0d0887"
             ],
             [
              0.1111111111111111,
              "#46039f"
             ],
             [
              0.2222222222222222,
              "#7201a8"
             ],
             [
              0.3333333333333333,
              "#9c179e"
             ],
             [
              0.4444444444444444,
              "#bd3786"
             ],
             [
              0.5555555555555556,
              "#d8576b"
             ],
             [
              0.6666666666666666,
              "#ed7953"
             ],
             [
              0.7777777777777778,
              "#fb9f3a"
             ],
             [
              0.8888888888888888,
              "#fdca26"
             ],
             [
              1,
              "#f0f921"
             ]
            ],
            "type": "surface"
           }
          ],
          "table": [
           {
            "cells": {
             "fill": {
              "color": "#EBF0F8"
             },
             "line": {
              "color": "white"
             }
            },
            "header": {
             "fill": {
              "color": "#C8D4E3"
             },
             "line": {
              "color": "white"
             }
            },
            "type": "table"
           }
          ]
         },
         "layout": {
          "annotationdefaults": {
           "arrowcolor": "#2a3f5f",
           "arrowhead": 0,
           "arrowwidth": 1
          },
          "autotypenumbers": "strict",
          "coloraxis": {
           "colorbar": {
            "outlinewidth": 0,
            "ticks": ""
           }
          },
          "colorscale": {
           "diverging": [
            [
             0,
             "#8e0152"
            ],
            [
             0.1,
             "#c51b7d"
            ],
            [
             0.2,
             "#de77ae"
            ],
            [
             0.3,
             "#f1b6da"
            ],
            [
             0.4,
             "#fde0ef"
            ],
            [
             0.5,
             "#f7f7f7"
            ],
            [
             0.6,
             "#e6f5d0"
            ],
            [
             0.7,
             "#b8e186"
            ],
            [
             0.8,
             "#7fbc41"
            ],
            [
             0.9,
             "#4d9221"
            ],
            [
             1,
             "#276419"
            ]
           ],
           "sequential": [
            [
             0,
             "#0d0887"
            ],
            [
             0.1111111111111111,
             "#46039f"
            ],
            [
             0.2222222222222222,
             "#7201a8"
            ],
            [
             0.3333333333333333,
             "#9c179e"
            ],
            [
             0.4444444444444444,
             "#bd3786"
            ],
            [
             0.5555555555555556,
             "#d8576b"
            ],
            [
             0.6666666666666666,
             "#ed7953"
            ],
            [
             0.7777777777777778,
             "#fb9f3a"
            ],
            [
             0.8888888888888888,
             "#fdca26"
            ],
            [
             1,
             "#f0f921"
            ]
           ],
           "sequentialminus": [
            [
             0,
             "#0d0887"
            ],
            [
             0.1111111111111111,
             "#46039f"
            ],
            [
             0.2222222222222222,
             "#7201a8"
            ],
            [
             0.3333333333333333,
             "#9c179e"
            ],
            [
             0.4444444444444444,
             "#bd3786"
            ],
            [
             0.5555555555555556,
             "#d8576b"
            ],
            [
             0.6666666666666666,
             "#ed7953"
            ],
            [
             0.7777777777777778,
             "#fb9f3a"
            ],
            [
             0.8888888888888888,
             "#fdca26"
            ],
            [
             1,
             "#f0f921"
            ]
           ]
          },
          "colorway": [
           "#636efa",
           "#EF553B",
           "#00cc96",
           "#ab63fa",
           "#FFA15A",
           "#19d3f3",
           "#FF6692",
           "#B6E880",
           "#FF97FF",
           "#FECB52"
          ],
          "font": {
           "color": "#2a3f5f"
          },
          "geo": {
           "bgcolor": "white",
           "lakecolor": "white",
           "landcolor": "#E5ECF6",
           "showlakes": true,
           "showland": true,
           "subunitcolor": "white"
          },
          "hoverlabel": {
           "align": "left"
          },
          "hovermode": "closest",
          "mapbox": {
           "style": "light"
          },
          "paper_bgcolor": "white",
          "plot_bgcolor": "#E5ECF6",
          "polar": {
           "angularaxis": {
            "gridcolor": "white",
            "linecolor": "white",
            "ticks": ""
           },
           "bgcolor": "#E5ECF6",
           "radialaxis": {
            "gridcolor": "white",
            "linecolor": "white",
            "ticks": ""
           }
          },
          "scene": {
           "xaxis": {
            "backgroundcolor": "#E5ECF6",
            "gridcolor": "white",
            "gridwidth": 2,
            "linecolor": "white",
            "showbackground": true,
            "ticks": "",
            "zerolinecolor": "white"
           },
           "yaxis": {
            "backgroundcolor": "#E5ECF6",
            "gridcolor": "white",
            "gridwidth": 2,
            "linecolor": "white",
            "showbackground": true,
            "ticks": "",
            "zerolinecolor": "white"
           },
           "zaxis": {
            "backgroundcolor": "#E5ECF6",
            "gridcolor": "white",
            "gridwidth": 2,
            "linecolor": "white",
            "showbackground": true,
            "ticks": "",
            "zerolinecolor": "white"
           }
          },
          "shapedefaults": {
           "line": {
            "color": "#2a3f5f"
           }
          },
          "ternary": {
           "aaxis": {
            "gridcolor": "white",
            "linecolor": "white",
            "ticks": ""
           },
           "baxis": {
            "gridcolor": "white",
            "linecolor": "white",
            "ticks": ""
           },
           "bgcolor": "#E5ECF6",
           "caxis": {
            "gridcolor": "white",
            "linecolor": "white",
            "ticks": ""
           }
          },
          "title": {
           "x": 0.05
          },
          "xaxis": {
           "automargin": true,
           "gridcolor": "white",
           "linecolor": "white",
           "ticks": "",
           "title": {
            "standoff": 15
           },
           "zerolinecolor": "white",
           "zerolinewidth": 2
          },
          "yaxis": {
           "automargin": true,
           "gridcolor": "white",
           "linecolor": "white",
           "ticks": "",
           "title": {
            "standoff": 15
           },
           "zerolinecolor": "white",
           "zerolinewidth": 2
          }
         }
        },
        "title": {
         "text": "Estimated performance <b>(DLE)</b>"
        },
        "xaxis": {
         "anchor": "y",
         "autorange": true,
         "domain": [
          0,
          1
         ],
         "linecolor": "#3b0280",
         "matches": "x",
         "mirror": true,
         "range": [
          -2.4218183814648078,
          44.75947073679587
         ],
         "showgrid": false,
         "title": {
          "text": "Chunk"
         },
         "type": "linear",
         "zeroline": false
        },
        "yaxis": {
         "anchor": "x",
         "autorange": true,
         "domain": [
          0,
          1
         ],
         "linecolor": "#3b0280",
         "mirror": true,
         "range": [
          68.24191773231011,
          1305.279594053835
         ],
         "showgrid": false,
         "title": {
          "text": "RMSE"
         },
         "type": "linear",
         "zeroline": false
        }
       }
      },
      "image/png": "[encoded data removed]",
      "text/html": [
       "<div>                            <div id=\"37e70d7d-ca7d-4a28-af40-e33667c4c865\" class=\"plotly-graph-div\" style=\"height:500.0px; width:100%;\"></div>            <script type=\"text/javascript\">                require([\"plotly\"], function(Plotly) {                    window.PLOTLYENV=window.PLOTLYENV || {};                                    if (document.getElementById(\"37e70d7d-ca7d-4a28-af40-e33667c4c865\")) {                    Plotly.newPlot(                        \"37e70d7d-ca7d-4a28-af40-e33667c4c865\",                        [{\"hoverinfo\":\"skip\",\"legendgroup\":\"metric_reference\",\"line\":{\"color\":\"#3b0280\",\"dash\":\"dash\",\"shape\":\"hv\",\"width\":2},\"mode\":\"lines\",\"name\":\"Metric\",\"showlegend\":true,\"x\":[0,1,2,3,4,5,6,7,8,9,10,11,12,13,14,15,16,17,18,19,20,21],\"y\":[567.595667298751,648.8944858473601,564.6811939878063,591.481303895541,428.16680632342224,485.67593674274764,496.849452288195,487.8186980891766,562.3019021714772,514.3396979592592,507.206860180168,521.999760693339,522.9920312083227,498.0095455791483,464.9452828852687,521.8626019502906,646.1655729717955,501.76268332016815,543.0416670453261,604.9343558633868,446.0060233992042,446.0060233992042],\"type\":\"scatter\",\"xaxis\":\"x\",\"yaxis\":\"y\"},{\"customdata\":[[\"Estimated \\u003cb\\u003eRMSE\\u003c\\u002fb\\u003e\",\"\\u003cb style=\\\"color:Colors.INDIGO_PERSIAN;line-height:60px\\\"\\u003eReference\\u003c\\u002fb\\u003e\",\"\",\"[0:249]\",\"Chunk index: \\u003cb\\u003e0\\u003c\\u002fb\\u003e\",567.5957,298.073],[\"Estimated \\u003cb\\u003eRMSE\\u003c\\u002fb\\u003e\",\"\\u003cb style=\\\"color:Colors.INDIGO_PERSIAN;line-height:60px\\\"\\u003eReference\\u003c\\u002fb\\u003e\",\"\",\"[250:499]\",\"Chunk index: \\u003cb\\u003e1\\u003c\\u002fb\\u003e\",648.8945,298.073],[\"Estimated \\u003cb\\u003eRMSE\\u003c\\u002fb\\u003e\",\"\\u003cb style=\\\"color:Colors.INDIGO_PERSIAN;line-height:60px\\\"\\u003eReference\\u003c\\u002fb\\u003e\",\"\",\"[500:749]\",\"Chunk index: \\u003cb\\u003e2\\u003c\\u002fb\\u003e\",564.6812,298.073],[\"Estimated \\u003cb\\u003eRMSE\\u003c\\u002fb\\u003e\",\"\\u003cb style=\\\"color:Colors.INDIGO_PERSIAN;line-height:60px\\\"\\u003eReference\\u003c\\u002fb\\u003e\",\"\",\"[750:999]\",\"Chunk index: \\u003cb\\u003e3\\u003c\\u002fb\\u003e\",591.4813,298.073],[\"Estimated \\u003cb\\u003eRMSE\\u003c\\u002fb\\u003e\",\"\\u003cb style=\\\"color:Colors.INDIGO_PERSIAN;line-height:60px\\\"\\u003eReference\\u003c\\u002fb\\u003e\",\"\",\"[1000:1249]\",\"Chunk index: \\u003cb\\u003e4\\u003c\\u002fb\\u003e\",428.1668,298.073],[\"Estimated \\u003cb\\u003eRMSE\\u003c\\u002fb\\u003e\",\"\\u003cb style=\\\"color:Colors.INDIGO_PERSIAN;line-height:60px\\\"\\u003eReference\\u003c\\u002fb\\u003e\",\"\",\"[1250:1499]\",\"Chunk index: \\u003cb\\u003e5\\u003c\\u002fb\\u003e\",485.6759,298.073],[\"Estimated \\u003cb\\u003eRMSE\\u003c\\u002fb\\u003e\",\"\\u003cb style=\\\"color:Colors.INDIGO_PERSIAN;line-height:60px\\\"\\u003eReference\\u003c\\u002fb\\u003e\",\"\",\"[1500:1749]\",\"Chunk index: \\u003cb\\u003e6\\u003c\\u002fb\\u003e\",496.8495,298.073],[\"Estimated \\u003cb\\u003eRMSE\\u003c\\u002fb\\u003e\",\"\\u003cb style=\\\"color:Colors.INDIGO_PERSIAN;line-height:60px\\\"\\u003eReference\\u003c\\u002fb\\u003e\",\"\",\"[1750:1999]\",\"Chunk index: \\u003cb\\u003e7\\u003c\\u002fb\\u003e\",487.8187,298.073],[\"Estimated \\u003cb\\u003eRMSE\\u003c\\u002fb\\u003e\",\"\\u003cb style=\\\"color:Colors.INDIGO_PERSIAN;line-height:60px\\\"\\u003eReference\\u003c\\u002fb\\u003e\",\"\",\"[2000:2249]\",\"Chunk index: \\u003cb\\u003e8\\u003c\\u002fb\\u003e\",562.3019,298.073],[\"Estimated \\u003cb\\u003eRMSE\\u003c\\u002fb\\u003e\",\"\\u003cb style=\\\"color:Colors.INDIGO_PERSIAN;line-height:60px\\\"\\u003eReference\\u003c\\u002fb\\u003e\",\"\",\"[2250:2499]\",\"Chunk index: \\u003cb\\u003e9\\u003c\\u002fb\\u003e\",514.3397,298.073],[\"Estimated \\u003cb\\u003eRMSE\\u003c\\u002fb\\u003e\",\"\\u003cb style=\\\"color:Colors.INDIGO_PERSIAN;line-height:60px\\\"\\u003eReference\\u003c\\u002fb\\u003e\",\"\",\"[2500:2749]\",\"Chunk index: \\u003cb\\u003e10\\u003c\\u002fb\\u003e\",507.2069,298.073],[\"Estimated \\u003cb\\u003eRMSE\\u003c\\u002fb\\u003e\",\"\\u003cb style=\\\"color:Colors.INDIGO_PERSIAN;line-height:60px\\\"\\u003eReference\\u003c\\u002fb\\u003e\",\"\",\"[2750:2999]\",\"Chunk index: \\u003cb\\u003e11\\u003c\\u002fb\\u003e\",521.9998,298.073],[\"Estimated \\u003cb\\u003eRMSE\\u003c\\u002fb\\u003e\",\"\\u003cb style=\\\"color:Colors.INDIGO_PERSIAN;line-height:60px\\\"\\u003eReference\\u003c\\u002fb\\u003e\",\"\",\"[3000:3249]\",\"Chunk index: \\u003cb\\u003e12\\u003c\\u002fb\\u003e\",522.992,298.073],[\"Estimated \\u003cb\\u003eRMSE\\u003c\\u002fb\\u003e\",\"\\u003cb style=\\\"color:Colors.INDIGO_PERSIAN;line-height:60px\\\"\\u003eReference\\u003c\\u002fb\\u003e\",\"\",\"[3250:3499]\",\"Chunk index: \\u003cb\\u003e13\\u003c\\u002fb\\u003e\",498.0095,298.073],[\"Estimated \\u003cb\\u003eRMSE\\u003c\\u002fb\\u003e\",\"\\u003cb style=\\\"color:Colors.INDIGO_PERSIAN;line-height:60px\\\"\\u003eReference\\u003c\\u002fb\\u003e\",\"\",\"[3500:3749]\",\"Chunk index: \\u003cb\\u003e14\\u003c\\u002fb\\u003e\",464.9453,298.073],[\"Estimated \\u003cb\\u003eRMSE\\u003c\\u002fb\\u003e\",\"\\u003cb style=\\\"color:Colors.INDIGO_PERSIAN;line-height:60px\\\"\\u003eReference\\u003c\\u002fb\\u003e\",\"\",\"[3750:3999]\",\"Chunk index: \\u003cb\\u003e15\\u003c\\u002fb\\u003e\",521.8626,298.073],[\"Estimated \\u003cb\\u003eRMSE\\u003c\\u002fb\\u003e\",\"\\u003cb style=\\\"color:Colors.INDIGO_PERSIAN;line-height:60px\\\"\\u003eReference\\u003c\\u002fb\\u003e\",\"\",\"[4000:4249]\",\"Chunk index: \\u003cb\\u003e16\\u003c\\u002fb\\u003e\",646.1656,298.073],[\"Estimated \\u003cb\\u003eRMSE\\u003c\\u002fb\\u003e\",\"\\u003cb style=\\\"color:Colors.INDIGO_PERSIAN;line-height:60px\\\"\\u003eReference\\u003c\\u002fb\\u003e\",\"\",\"[4250:4499]\",\"Chunk index: \\u003cb\\u003e17\\u003c\\u002fb\\u003e\",501.7627,298.073],[\"Estimated \\u003cb\\u003eRMSE\\u003c\\u002fb\\u003e\",\"\\u003cb style=\\\"color:Colors.INDIGO_PERSIAN;line-height:60px\\\"\\u003eReference\\u003c\\u002fb\\u003e\",\"\",\"[4500:4749]\",\"Chunk index: \\u003cb\\u003e18\\u003c\\u002fb\\u003e\",543.0417,298.073],[\"Estimated \\u003cb\\u003eRMSE\\u003c\\u002fb\\u003e\",\"\\u003cb style=\\\"color:Colors.INDIGO_PERSIAN;line-height:60px\\\"\\u003eReference\\u003c\\u002fb\\u003e\",\"\",\"[4750:4999]\",\"Chunk index: \\u003cb\\u003e19\\u003c\\u002fb\\u003e\",604.9344,298.073],[\"Estimated \\u003cb\\u003eRMSE\\u003c\\u002fb\\u003e\",\"\\u003cb style=\\\"color:Colors.INDIGO_PERSIAN;line-height:60px\\\"\\u003eReference\\u003c\\u002fb\\u003e\",\"\",\"[5000:5393]\",\"Chunk index: \\u003cb\\u003e20\\u003c\\u002fb\\u003e\",446.006,237.4349]],\"hovertemplate\":\"%{customdata[1]} &nbsp; &nbsp; %{customdata[2]} \\u003cbr \\u002f\\u003eChunk: \\u003cb\\u003e%{customdata[3]}\\u003c\\u002fb\\u003e &nbsp; &nbsp; %{customdata[4]} \\u003cbr \\u002f\\u003e%{customdata[0]}: \\u003cb\\u003e%{customdata[5]}\\u003c\\u002fb\\u003e\\u003cbr \\u002f\\u003eConfidence band: +\\u002f- \\u003cb\\u003e%{customdata[6]}\\u003c\\u002fb\\u003e\\u003cbr \\u002f\\u003e\\u003cextra\\u003e\\u003c\\u002fextra\\u003e\",\"legendgroup\":\"metric_reference\",\"line\":{\"dash\":\"dash\"},\"marker\":{\"color\":\"#3b0280\",\"size\":5,\"symbol\":\"circle\"},\"mode\":\"markers\",\"name\":\"Metric\",\"showlegend\":false,\"x\":[0.5,1.5,2.5,3.5,4.5,5.5,6.5,7.5,8.5,9.5,10.5,11.5,12.5,13.5,14.5,15.5,16.5,17.5,18.5,19.5,20.5],\"y\":[567.595667298751,648.8944858473601,564.6811939878063,591.481303895541,428.16680632342224,485.67593674274764,496.849452288195,487.8186980891766,562.3019021714772,514.3396979592592,507.206860180168,521.999760693339,522.9920312083227,498.0095455791483,464.9452828852687,521.8626019502906,646.1655729717955,501.76268332016815,543.0416670453261,604.9343558633868,446.0060233992042,446.0060233992042],\"type\":\"scatter\",\"xaxis\":\"x\",\"yaxis\":\"y\"},{\"hoverinfo\":\"skip\",\"legendgroup\":\"metric_analysis\",\"line\":{\"color\":\"#3b0280\",\"dash\":\"dash\",\"shape\":\"hv\",\"width\":2},\"mode\":\"lines\",\"name\":\"Metric\",\"showlegend\":false,\"x\":[21,22,23,24,25,26,27,28,29,30,31,32,33,34,35,36,37,38,39,40,41,42],\"y\":[572.7086344479326,763.731007909281,805.7391914814646,869.2528337640263,913.5696329168621,945.3547054627229,757.5926716191208,779.6765545284145,825.5500088697412,817.8335938986694,848.38920848469,789.8646134580192,730.2493117909478,775.7361175388653,838.81244902568,863.1283747118853,869.2827741400278,837.8419541559476,828.8830627961594,793.6866928842664,819.5254301118733,819.5254301118733],\"type\":\"scatter\",\"xaxis\":\"x\",\"yaxis\":\"y\"},{\"customdata\":[[\"Estimated \\u003cb\\u003eRMSE\\u003c\\u002fb\\u003e\",\"\\u003cb style=\\\"color:Colors.INDIGO_PERSIAN;line-height:60px\\\"\\u003eAnalysis\\u003c\\u002fb\\u003e\",\"\",\"[0:249]\",\"Chunk index: \\u003cb\\u003e0\\u003c\\u002fb\\u003e\",572.7086,298.073],[\"Estimated \\u003cb\\u003eRMSE\\u003c\\u002fb\\u003e\",\"\\u003cb style=\\\"color:Colors.INDIGO_PERSIAN;line-height:60px\\\"\\u003eAnalysis\\u003c\\u002fb\\u003e\",\"\",\"[250:499]\",\"Chunk index: \\u003cb\\u003e1\\u003c\\u002fb\\u003e\",763.731,298.073],[\"Estimated \\u003cb\\u003eRMSE\\u003c\\u002fb\\u003e\",\"\\u003cb style=\\\"color:Colors.INDIGO_PERSIAN;line-height:60px\\\"\\u003eAnalysis\\u003c\\u002fb\\u003e\",\"\",\"[500:749]\",\"Chunk index: \\u003cb\\u003e2\\u003c\\u002fb\\u003e\",805.7392,298.073],[\"Estimated \\u003cb\\u003eRMSE\\u003c\\u002fb\\u003e\",\"\\u003cb style=\\\"color:Colors.INDIGO_PERSIAN;line-height:60px\\\"\\u003eAnalysis\\u003c\\u002fb\\u003e\",\"\\u003cspan style=\\\"color:#AD0000\\\"\\u003e\\u26a0 \\u003cb\\u003eDrift detected\\u003c\\u002fb\\u003e\\u003c\\u002fspan\\u003e\",\"[750:999]\",\"Chunk index: \\u003cb\\u003e3\\u003c\\u002fb\\u003e\",869.2528,298.073],[\"Estimated \\u003cb\\u003eRMSE\\u003c\\u002fb\\u003e\",\"\\u003cb style=\\\"color:Colors.INDIGO_PERSIAN;line-height:60px\\\"\\u003eAnalysis\\u003c\\u002fb\\u003e\",\"\\u003cspan style=\\\"color:#AD0000\\\"\\u003e\\u26a0 \\u003cb\\u003eDrift detected\\u003c\\u002fb\\u003e\\u003c\\u002fspan\\u003e\",\"[1000:1249]\",\"Chunk index: \\u003cb\\u003e4\\u003c\\u002fb\\u003e\",913.5696,298.073],[\"Estimated \\u003cb\\u003eRMSE\\u003c\\u002fb\\u003e\",\"\\u003cb style=\\\"color:Colors.INDIGO_PERSIAN;line-height:60px\\\"\\u003eAnalysis\\u003c\\u002fb\\u003e\",\"\\u003cspan style=\\\"color:#AD0000\\\"\\u003e\\u26a0 \\u003cb\\u003eDrift detected\\u003c\\u002fb\\u003e\\u003c\\u002fspan\\u003e\",\"[1250:1499]\",\"Chunk index: \\u003cb\\u003e5\\u003c\\u002fb\\u003e\",945.3547,298.073],[\"Estimated \\u003cb\\u003eRMSE\\u003c\\u002fb\\u003e\",\"\\u003cb style=\\\"color:Colors.INDIGO_PERSIAN;line-height:60px\\\"\\u003eAnalysis\\u003c\\u002fb\\u003e\",\"\",\"[1500:1749]\",\"Chunk index: \\u003cb\\u003e6\\u003c\\u002fb\\u003e\",757.5927,298.073],[\"Estimated \\u003cb\\u003eRMSE\\u003c\\u002fb\\u003e\",\"\\u003cb style=\\\"color:Colors.INDIGO_PERSIAN;line-height:60px\\\"\\u003eAnalysis\\u003c\\u002fb\\u003e\",\"\",\"[1750:1999]\",\"Chunk index: \\u003cb\\u003e7\\u003c\\u002fb\\u003e\",779.6766,298.073],[\"Estimated \\u003cb\\u003eRMSE\\u003c\\u002fb\\u003e\",\"\\u003cb style=\\\"color:Colors.INDIGO_PERSIAN;line-height:60px\\\"\\u003eAnalysis\\u003c\\u002fb\\u003e\",\"\\u003cspan style=\\\"color:#AD0000\\\"\\u003e\\u26a0 \\u003cb\\u003eDrift detected\\u003c\\u002fb\\u003e\\u003c\\u002fspan\\u003e\",\"[2000:2249]\",\"Chunk index: \\u003cb\\u003e8\\u003c\\u002fb\\u003e\",825.55,298.073],[\"Estimated \\u003cb\\u003eRMSE\\u003c\\u002fb\\u003e\",\"\\u003cb style=\\\"color:Colors.INDIGO_PERSIAN;line-height:60px\\\"\\u003eAnalysis\\u003c\\u002fb\\u003e\",\"\\u003cspan style=\\\"color:#AD0000\\\"\\u003e\\u26a0 \\u003cb\\u003eDrift detected\\u003c\\u002fb\\u003e\\u003c\\u002fspan\\u003e\",\"[2250:2499]\",\"Chunk index: \\u003cb\\u003e9\\u003c\\u002fb\\u003e\",817.8336,298.073],[\"Estimated \\u003cb\\u003eRMSE\\u003c\\u002fb\\u003e\",\"\\u003cb style=\\\"color:Colors.INDIGO_PERSIAN;line-height:60px\\\"\\u003eAnalysis\\u003c\\u002fb\\u003e\",\"\\u003cspan style=\\\"color:#AD0000\\\"\\u003e\\u26a0 \\u003cb\\u003eDrift detected\\u003c\\u002fb\\u003e\\u003c\\u002fspan\\u003e\",\"[2500:2749]\",\"Chunk index: \\u003cb\\u003e10\\u003c\\u002fb\\u003e\",848.3892,298.073],[\"Estimated \\u003cb\\u003eRMSE\\u003c\\u002fb\\u003e\",\"\\u003cb style=\\\"color:Colors.INDIGO_PERSIAN;line-height:60px\\\"\\u003eAnalysis\\u003c\\u002fb\\u003e\",\"\",\"[2750:2999]\",\"Chunk index: \\u003cb\\u003e11\\u003c\\u002fb\\u003e\",789.8646,298.073],[\"Estimated \\u003cb\\u003eRMSE\\u003c\\u002fb\\u003e\",\"\\u003cb style=\\\"color:Colors.INDIGO_PERSIAN;line-height:60px\\\"\\u003eAnalysis\\u003c\\u002fb\\u003e\",\"\",\"[3000:3249]\",\"Chunk index: \\u003cb\\u003e12\\u003c\\u002fb\\u003e\",730.2493,298.073],[\"Estimated \\u003cb\\u003eRMSE\\u003c\\u002fb\\u003e\",\"\\u003cb style=\\\"color:Colors.INDIGO_PERSIAN;line-height:60px\\\"\\u003eAnalysis\\u003c\\u002fb\\u003e\",\"\",\"[3250:3499]\",\"Chunk index: \\u003cb\\u003e13\\u003c\\u002fb\\u003e\",775.7361,298.073],[\"Estimated \\u003cb\\u003eRMSE\\u003c\\u002fb\\u003e\",\"\\u003cb style=\\\"color:Colors.INDIGO_PERSIAN;line-height:60px\\\"\\u003eAnalysis\\u003c\\u002fb\\u003e\",\"\\u003cspan style=\\\"color:#AD0000\\\"\\u003e\\u26a0 \\u003cb\\u003eDrift detected\\u003c\\u002fb\\u003e\\u003c\\u002fspan\\u003e\",\"[3500:3749]\",\"Chunk index: \\u003cb\\u003e14\\u003c\\u002fb\\u003e\",838.8124,298.073],[\"Estimated \\u003cb\\u003eRMSE\\u003c\\u002fb\\u003e\",\"\\u003cb style=\\\"color:Colors.INDIGO_PERSIAN;line-height:60px\\\"\\u003eAnalysis\\u003c\\u002fb\\u003e\",\"\\u003cspan style=\\\"color:#AD0000\\\"\\u003e\\u26a0 \\u003cb\\u003eDrift detected\\u003c\\u002fb\\u003e\\u003c\\u002fspan\\u003e\",\"[3750:3999]\",\"Chunk index: \\u003cb\\u003e15\\u003c\\u002fb\\u003e\",863.1284,298.073],[\"Estimated \\u003cb\\u003eRMSE\\u003c\\u002fb\\u003e\",\"\\u003cb style=\\\"color:Colors.INDIGO_PERSIAN;line-height:60px\\\"\\u003eAnalysis\\u003c\\u002fb\\u003e\",\"\\u003cspan style=\\\"color:#AD0000\\\"\\u003e\\u26a0 \\u003cb\\u003eDrift detected\\u003c\\u002fb\\u003e\\u003c\\u002fspan\\u003e\",\"[4000:4249]\",\"Chunk index: \\u003cb\\u003e16\\u003c\\u002fb\\u003e\",869.2828,298.073],[\"Estimated \\u003cb\\u003eRMSE\\u003c\\u002fb\\u003e\",\"\\u003cb style=\\\"color:Colors.INDIGO_PERSIAN;line-height:60px\\\"\\u003eAnalysis\\u003c\\u002fb\\u003e\",\"\\u003cspan style=\\\"color:#AD0000\\\"\\u003e\\u26a0 \\u003cb\\u003eDrift detected\\u003c\\u002fb\\u003e\\u003c\\u002fspan\\u003e\",\"[4250:4499]\",\"Chunk index: \\u003cb\\u003e17\\u003c\\u002fb\\u003e\",837.842,298.073],[\"Estimated \\u003cb\\u003eRMSE\\u003c\\u002fb\\u003e\",\"\\u003cb style=\\\"color:Colors.INDIGO_PERSIAN;line-height:60px\\\"\\u003eAnalysis\\u003c\\u002fb\\u003e\",\"\\u003cspan style=\\\"color:#AD0000\\\"\\u003e\\u26a0 \\u003cb\\u003eDrift detected\\u003c\\u002fb\\u003e\\u003c\\u002fspan\\u003e\",\"[4500:4749]\",\"Chunk index: \\u003cb\\u003e18\\u003c\\u002fb\\u003e\",828.8831,298.073],[\"Estimated \\u003cb\\u003eRMSE\\u003c\\u002fb\\u003e\",\"\\u003cb style=\\\"color:Colors.INDIGO_PERSIAN;line-height:60px\\\"\\u003eAnalysis\\u003c\\u002fb\\u003e\",\"\",\"[4750:4999]\",\"Chunk index: \\u003cb\\u003e19\\u003c\\u002fb\\u003e\",793.6867,298.073],[\"Estimated \\u003cb\\u003eRMSE\\u003c\\u002fb\\u003e\",\"\\u003cb style=\\\"color:Colors.INDIGO_PERSIAN;line-height:60px\\\"\\u003eAnalysis\\u003c\\u002fb\\u003e\",\"\\u003cspan style=\\\"color:#AD0000\\\"\\u003e\\u26a0 \\u003cb\\u003eDrift detected\\u003c\\u002fb\\u003e\\u003c\\u002fspan\\u003e\",\"[5000:5393]\",\"Chunk index: \\u003cb\\u003e20\\u003c\\u002fb\\u003e\",819.5254,237.4349]],\"hovertemplate\":\"%{customdata[1]} &nbsp; &nbsp; %{customdata[2]} \\u003cbr \\u002f\\u003eChunk: \\u003cb\\u003e%{customdata[3]}\\u003c\\u002fb\\u003e &nbsp; &nbsp; %{customdata[4]} \\u003cbr \\u002f\\u003e%{customdata[0]}: \\u003cb\\u003e%{customdata[5]}\\u003c\\u002fb\\u003e\\u003cbr \\u002f\\u003eConfidence band: +\\u002f- \\u003cb\\u003e%{customdata[6]}\\u003c\\u002fb\\u003e\\u003cbr \\u002f\\u003e\\u003cextra\\u003e\\u003c\\u002fextra\\u003e\",\"legendgroup\":\"metric_analysis\",\"line\":{\"dash\":\"dash\"},\"marker\":{\"color\":\"#3b0280\",\"size\":5,\"symbol\":\"circle\"},\"mode\":\"markers\",\"name\":\"Metric\",\"showlegend\":false,\"x\":[21.5,22.5,23.5,24.5,25.5,26.5,27.5,28.5,29.5,30.5,31.5,32.5,33.5,34.5,35.5,36.5,37.5,38.5,39.5,40.5,41.5],\"y\":[572.7086344479326,763.731007909281,805.7391914814646,869.2528337640263,913.5696329168621,945.3547054627229,757.5926716191208,779.6765545284145,825.5500088697412,817.8335938986694,848.38920848469,789.8646134580192,730.2493117909478,775.7361175388653,838.81244902568,863.1283747118853,869.2827741400278,837.8419541559476,828.8830627961594,793.6866928842664,819.5254301118733,819.5254301118733],\"type\":\"scatter\",\"xaxis\":\"x\",\"yaxis\":\"y\"},{\"hoverinfo\":\"skip\",\"legendgroup\":\"alert\",\"marker\":{\"color\":\"#DD4040\",\"size\":8,\"symbol\":\"diamond\"},\"mode\":\"markers\",\"name\":\"Alert\",\"showlegend\":true,\"x\":[24.5,25.5,26.5,29.5,30.5,31.5,35.5,36.5,37.5,38.5,39.5,41.5],\"y\":[869.2528337640263,913.5696329168621,945.3547054627229,825.5500088697412,817.8335938986694,848.38920848469,838.81244902568,863.1283747118853,869.2827741400278,837.8419541559476,828.8830627961594,819.5254301118733],\"type\":\"scatter\",\"xaxis\":\"x\",\"yaxis\":\"y\"},{\"hoverinfo\":\"skip\",\"legendgroup\":\"thresh\",\"line\":{\"color\":\"#DD4040\",\"dash\":\"dash\",\"width\":2},\"mode\":\"lines\",\"name\":\"Threshold\",\"showlegend\":true,\"x\":[0,1,2,3,4,5,6,7,8,9,10,11,12,13,14,15,16,17,18,19,20,21],\"y\":[806.9235661941054,806.9235661941054,806.9235661941054,806.9235661941054,806.9235661941054,806.9235661941054,806.9235661941054,806.9235661941054,806.9235661941054,806.9235661941054,806.9235661941054,806.9235661941054,806.9235661941054,806.9235661941054,806.9235661941054,806.9235661941054,806.9235661941054,806.9235661941054,806.9235661941054,806.9235661941054,806.9235661941054,806.9235661941054],\"type\":\"scatter\",\"xaxis\":\"x\",\"yaxis\":\"y\"},{\"hoverinfo\":\"skip\",\"legendgroup\":\"thresh\",\"line\":{\"color\":\"#DD4040\",\"dash\":\"dash\",\"width\":2},\"mode\":\"lines\",\"name\":\"Threshold\",\"showlegend\":false,\"x\":[0,1,2,3,4,5,6,7,8,9,10,11,12,13,14,15,16,17,18,19,20,21],\"y\":[234.31883291999424,234.31883291999424,234.31883291999424,234.31883291999424,234.31883291999424,234.31883291999424,234.31883291999424,234.31883291999424,234.31883291999424,234.31883291999424,234.31883291999424,234.31883291999424,234.31883291999424,234.31883291999424,234.31883291999424,234.31883291999424,234.31883291999424,234.31883291999424,234.31883291999424,234.31883291999424,234.31883291999424,234.31883291999424],\"type\":\"scatter\",\"xaxis\":\"x\",\"yaxis\":\"y\"},{\"hoverinfo\":\"skip\",\"legendgroup\":\"thresh\",\"line\":{\"color\":\"#DD4040\",\"dash\":\"dash\",\"width\":2},\"mode\":\"lines\",\"name\":\"Threshold\",\"showlegend\":false,\"x\":[21,22,23,24,25,26,27,28,29,30,31,32,33,34,35,36,37,38,39,40,41,42],\"y\":[806.9235661941054,806.9235661941054,806.9235661941054,806.9235661941054,806.9235661941054,806.9235661941054,806.9235661941054,806.9235661941054,806.9235661941054,806.9235661941054,806.9235661941054,806.9235661941054,806.9235661941054,806.9235661941054,806.9235661941054,806.9235661941054,806.9235661941054,806.9235661941054,806.9235661941054,806.9235661941054,806.9235661941054,806.9235661941054],\"type\":\"scatter\",\"xaxis\":\"x\",\"yaxis\":\"y\"},{\"hoverinfo\":\"skip\",\"legendgroup\":\"thresh\",\"line\":{\"color\":\"#DD4040\",\"dash\":\"dash\",\"width\":2},\"mode\":\"lines\",\"name\":\"Threshold\",\"showlegend\":false,\"x\":[21,22,23,24,25,26,27,28,29,30,31,32,33,34,35,36,37,38,39,40,41,42],\"y\":[234.31883291999424,234.31883291999424,234.31883291999424,234.31883291999424,234.31883291999424,234.31883291999424,234.31883291999424,234.31883291999424,234.31883291999424,234.31883291999424,234.31883291999424,234.31883291999424,234.31883291999424,234.31883291999424,234.31883291999424,234.31883291999424,234.31883291999424,234.31883291999424,234.31883291999424,234.31883291999424,234.31883291999424,234.31883291999424],\"type\":\"scatter\",\"xaxis\":\"x\",\"yaxis\":\"y\"},{\"hoverinfo\":\"skip\",\"line\":{\"color\":\"rgba(0,0,0,0)\",\"shape\":\"hv\"},\"mode\":\"lines\",\"name\":\"Confidence band\",\"showlegend\":false,\"x\":[0,1,2,3,4,5,6,7,8,9,10,11,12,13,14,15,16,17,18,19,20,21],\"y\":[865.6686720737869,946.967490622396,862.7541987628422,889.5543086705769,726.2398110984582,783.7489415177836,794.9224570632309,785.8917028642124,860.3749069465131,812.4127027342951,805.279864955204,820.0727654683749,821.0650359833586,796.0825503541841,763.0182876603046,819.9356067253265,944.2385777468314,799.835688095204,841.114671820362,903.0073606384227,683.4409145222247,683.4409145222247],\"type\":\"scatter\",\"xaxis\":\"x\",\"yaxis\":\"y\"},{\"fill\":\"tonexty\",\"fillcolor\":\"rgba(0.23137254901960785, 0.00784313725490196, 0.5019607843137255, 0.2)\",\"hoverinfo\":\"skip\",\"line\":{\"color\":\"rgba(0,0,0,0)\",\"shape\":\"hv\"},\"mode\":\"lines\",\"name\":\"Confidence band\",\"showlegend\":true,\"x\":[0,1,2,3,4,5,6,7,8,9,10,11,12,13,14,15,16,17,18,19,20,21],\"y\":[269.5226625237151,350.8214810723242,266.6081892127704,293.40829912050515,130.09380154838635,187.60293196771175,198.7764475131591,189.74569331414074,264.2288973964413,216.2666931842233,209.13385540513212,223.92675591830312,224.91902643328683,199.93654080411244,166.8722781102328,223.7895971752547,348.09256819675966,203.68967854513227,244.96866227029022,306.86135108835094,208.5711322761837,208.5711322761837],\"type\":\"scatter\",\"xaxis\":\"x\",\"yaxis\":\"y\"},{\"hoverinfo\":\"skip\",\"line\":{\"color\":\"rgba(0,0,0,0)\",\"shape\":\"hv\"},\"mode\":\"lines\",\"name\":\"Confidence band\",\"showlegend\":false,\"x\":[21,22,23,24,25,26,27,28,29,30,31,32,33,34,35,36,37,38,39,40,41,42],\"y\":[870.7816392229685,1061.8040126843168,1103.8121962565006,1167.3258385390623,1211.642637691898,1243.4277102377587,1055.6656763941567,1077.7495593034505,1123.623013644777,1115.9065986737053,1146.462213259726,1087.9376182330552,1028.3223165659838,1073.8091223139013,1136.8854538007158,1161.2013794869213,1167.3557789150636,1135.9149589309836,1126.9560675711953,1091.7596976593022,1056.9603212348939,1056.9603212348939],\"type\":\"scatter\",\"xaxis\":\"x\",\"yaxis\":\"y\"},{\"fill\":\"tonexty\",\"fillcolor\":\"rgba(0.23137254901960785, 0.00784313725490196, 0.5019607843137255, 0.2)\",\"hoverinfo\":\"skip\",\"line\":{\"color\":\"rgba(0,0,0,0)\",\"shape\":\"hv\"},\"mode\":\"lines\",\"name\":\"Confidence band\",\"showlegend\":false,\"x\":[21,22,23,24,25,26,27,28,29,30,31,32,33,34,35,36,37,38,39,40,41,42],\"y\":[274.6356296728967,465.65800313424506,507.6661867064287,571.1798289889904,615.4966281418262,647.281700687687,459.5196668440849,481.6035497533786,527.4770040947053,519.7605891236335,550.3162037096541,491.79160868298334,432.1763070159119,477.6631127638294,540.7394442506442,565.0553699368494,571.2097693649919,539.7689493809117,530.8100580211235,495.61368810923057,582.0905389888528,582.0905389888528],\"type\":\"scatter\",\"xaxis\":\"x\",\"yaxis\":\"y\"}],                        {\"height\":500.0,\"hoverlabel\":{\"bgcolor\":\"white\",\"font\":{\"size\":14}},\"legend\":{\"itemclick\":false,\"itemdoubleclick\":false,\"traceorder\":\"grouped\"},\"paper_bgcolor\":\"rgba(255,255,255,1)\",\"plot_bgcolor\":\"rgba(255,255,255,1)\",\"title\":{\"text\":\"Estimated performance \\u003cb\\u003e(DLE)\\u003c\\u002fb\\u003e\"},\"xaxis\":{\"linecolor\":\"#3b0280\",\"mirror\":true,\"showgrid\":false,\"title\":{\"text\":\"Chunk\"},\"zeroline\":false,\"anchor\":\"y\",\"domain\":[0.0,1.0],\"matches\":\"x\"},\"yaxis\":{\"linecolor\":\"#3b0280\",\"mirror\":true,\"showgrid\":false,\"title\":{\"text\":\"RMSE\"},\"zeroline\":false,\"anchor\":\"x\",\"domain\":[0.0,1.0]},\"template\":{\"data\":{\"histogram2dcontour\":[{\"type\":\"histogram2dcontour\",\"colorbar\":{\"outlinewidth\":0,\"ticks\":\"\"},\"colorscale\":[[0.0,\"#0d0887\"],[0.1111111111111111,\"#46039f\"],[0.2222222222222222,\"#7201a8\"],[0.3333333333333333,\"#9c179e\"],[0.4444444444444444,\"#bd3786\"],[0.5555555555555556,\"#d8576b\"],[0.6666666666666666,\"#ed7953\"],[0.7777777777777778,\"#fb9f3a\"],[0.8888888888888888,\"#fdca26\"],[1.0,\"#f0f921\"]]}],\"choropleth\":[{\"type\":\"choropleth\",\"colorbar\":{\"outlinewidth\":0,\"ticks\":\"\"}}],\"histogram2d\":[{\"type\":\"histogram2d\",\"colorbar\":{\"outlinewidth\":0,\"ticks\":\"\"},\"colorscale\":[[0.0,\"#0d0887\"],[0.1111111111111111,\"#46039f\"],[0.2222222222222222,\"#7201a8\"],[0.3333333333333333,\"#9c179e\"],[0.4444444444444444,\"#bd3786\"],[0.5555555555555556,\"#d8576b\"],[0.6666666666666666,\"#ed7953\"],[0.7777777777777778,\"#fb9f3a\"],[0.8888888888888888,\"#fdca26\"],[1.0,\"#f0f921\"]]}],\"heatmap\":[{\"type\":\"heatmap\",\"colorbar\":{\"outlinewidth\":0,\"ticks\":\"\"},\"colorscale\":[[0.0,\"#0d0887\"],[0.1111111111111111,\"#46039f\"],[0.2222222222222222,\"#7201a8\"],[0.3333333333333333,\"#9c179e\"],[0.4444444444444444,\"#bd3786\"],[0.5555555555555556,\"#d8576b\"],[0.6666666666666666,\"#ed7953\"],[0.7777777777777778,\"#fb9f3a\"],[0.8888888888888888,\"#fdca26\"],[1.0,\"#f0f921\"]]}],\"heatmapgl\":[{\"type\":\"heatmapgl\",\"colorbar\":{\"outlinewidth\":0,\"ticks\":\"\"},\"colorscale\":[[0.0,\"#0d0887\"],[0.1111111111111111,\"#46039f\"],[0.2222222222222222,\"#7201a8\"],[0.3333333333333333,\"#9c179e\"],[0.4444444444444444,\"#bd3786\"],[0.5555555555555556,\"#d8576b\"],[0.6666666666666666,\"#ed7953\"],[0.7777777777777778,\"#fb9f3a\"],[0.8888888888888888,\"#fdca26\"],[1.0,\"#f0f921\"]]}],\"contourcarpet\":[{\"type\":\"contourcarpet\",\"colorbar\":{\"outlinewidth\":0,\"ticks\":\"\"}}],\"contour\":[{\"type\":\"contour\",\"colorbar\":{\"outlinewidth\":0,\"ticks\":\"\"},\"colorscale\":[[0.0,\"#0d0887\"],[0.1111111111111111,\"#46039f\"],[0.2222222222222222,\"#7201a8\"],[0.3333333333333333,\"#9c179e\"],[0.4444444444444444,\"#bd3786\"],[0.5555555555555556,\"#d8576b\"],[0.6666666666666666,\"#ed7953\"],[0.7777777777777778,\"#fb9f3a\"],[0.8888888888888888,\"#fdca26\"],[1.0,\"#f0f921\"]]}],\"surface\":[{\"type\":\"surface\",\"colorbar\":{\"outlinewidth\":0,\"ticks\":\"\"},\"colorscale\":[[0.0,\"#0d0887\"],[0.1111111111111111,\"#46039f\"],[0.2222222222222222,\"#7201a8\"],[0.3333333333333333,\"#9c179e\"],[0.4444444444444444,\"#bd3786\"],[0.5555555555555556,\"#d8576b\"],[0.6666666666666666,\"#ed7953\"],[0.7777777777777778,\"#fb9f3a\"],[0.8888888888888888,\"#fdca26\"],[1.0,\"#f0f921\"]]}],\"mesh3d\":[{\"type\":\"mesh3d\",\"colorbar\":{\"outlinewidth\":0,\"ticks\":\"\"}}],\"scatter\":[{\"fillpattern\":{\"fillmode\":\"overlay\",\"size\":10,\"solidity\":0.2},\"type\":\"scatter\"}],\"parcoords\":[{\"type\":\"parcoords\",\"line\":{\"colorbar\":{\"outlinewidth\":0,\"ticks\":\"\"}}}],\"scatterpolargl\":[{\"type\":\"scatterpolargl\",\"marker\":{\"colorbar\":{\"outlinewidth\":0,\"ticks\":\"\"}}}],\"bar\":[{\"error_x\":{\"color\":\"#2a3f5f\"},\"error_y\":{\"color\":\"#2a3f5f\"},\"marker\":{\"line\":{\"color\":\"#E5ECF6\",\"width\":0.5},\"pattern\":{\"fillmode\":\"overlay\",\"size\":10,\"solidity\":0.2}},\"type\":\"bar\"}],\"scattergeo\":[{\"type\":\"scattergeo\",\"marker\":{\"colorbar\":{\"outlinewidth\":0,\"ticks\":\"\"}}}],\"scatterpolar\":[{\"type\":\"scatterpolar\",\"marker\":{\"colorbar\":{\"outlinewidth\":0,\"ticks\":\"\"}}}],\"histogram\":[{\"marker\":{\"pattern\":{\"fillmode\":\"overlay\",\"size\":10,\"solidity\":0.2}},\"type\":\"histogram\"}],\"scattergl\":[{\"type\":\"scattergl\",\"marker\":{\"colorbar\":{\"outlinewidth\":0,\"ticks\":\"\"}}}],\"scatter3d\":[{\"type\":\"scatter3d\",\"line\":{\"colorbar\":{\"outlinewidth\":0,\"ticks\":\"\"}},\"marker\":{\"colorbar\":{\"outlinewidth\":0,\"ticks\":\"\"}}}],\"scattermapbox\":[{\"type\":\"scattermapbox\",\"marker\":{\"colorbar\":{\"outlinewidth\":0,\"ticks\":\"\"}}}],\"scatterternary\":[{\"type\":\"scatterternary\",\"marker\":{\"colorbar\":{\"outlinewidth\":0,\"ticks\":\"\"}}}],\"scattercarpet\":[{\"type\":\"scattercarpet\",\"marker\":{\"colorbar\":{\"outlinewidth\":0,\"ticks\":\"\"}}}],\"carpet\":[{\"aaxis\":{\"endlinecolor\":\"#2a3f5f\",\"gridcolor\":\"white\",\"linecolor\":\"white\",\"minorgridcolor\":\"white\",\"startlinecolor\":\"#2a3f5f\"},\"baxis\":{\"endlinecolor\":\"#2a3f5f\",\"gridcolor\":\"white\",\"linecolor\":\"white\",\"minorgridcolor\":\"white\",\"startlinecolor\":\"#2a3f5f\"},\"type\":\"carpet\"}],\"table\":[{\"cells\":{\"fill\":{\"color\":\"#EBF0F8\"},\"line\":{\"color\":\"white\"}},\"header\":{\"fill\":{\"color\":\"#C8D4E3\"},\"line\":{\"color\":\"white\"}},\"type\":\"table\"}],\"barpolar\":[{\"marker\":{\"line\":{\"color\":\"#E5ECF6\",\"width\":0.5},\"pattern\":{\"fillmode\":\"overlay\",\"size\":10,\"solidity\":0.2}},\"type\":\"barpolar\"}],\"pie\":[{\"automargin\":true,\"type\":\"pie\"}]},\"layout\":{\"autotypenumbers\":\"strict\",\"colorway\":[\"#636efa\",\"#EF553B\",\"#00cc96\",\"#ab63fa\",\"#FFA15A\",\"#19d3f3\",\"#FF6692\",\"#B6E880\",\"#FF97FF\",\"#FECB52\"],\"font\":{\"color\":\"#2a3f5f\"},\"hovermode\":\"closest\",\"hoverlabel\":{\"align\":\"left\"},\"paper_bgcolor\":\"white\",\"plot_bgcolor\":\"#E5ECF6\",\"polar\":{\"bgcolor\":\"#E5ECF6\",\"angularaxis\":{\"gridcolor\":\"white\",\"linecolor\":\"white\",\"ticks\":\"\"},\"radialaxis\":{\"gridcolor\":\"white\",\"linecolor\":\"white\",\"ticks\":\"\"}},\"ternary\":{\"bgcolor\":\"#E5ECF6\",\"aaxis\":{\"gridcolor\":\"white\",\"linecolor\":\"white\",\"ticks\":\"\"},\"baxis\":{\"gridcolor\":\"white\",\"linecolor\":\"white\",\"ticks\":\"\"},\"caxis\":{\"gridcolor\":\"white\",\"linecolor\":\"white\",\"ticks\":\"\"}},\"coloraxis\":{\"colorbar\":{\"outlinewidth\":0,\"ticks\":\"\"}},\"colorscale\":{\"sequential\":[[0.0,\"#0d0887\"],[0.1111111111111111,\"#46039f\"],[0.2222222222222222,\"#7201a8\"],[0.3333333333333333,\"#9c179e\"],[0.4444444444444444,\"#bd3786\"],[0.5555555555555556,\"#d8576b\"],[0.6666666666666666,\"#ed7953\"],[0.7777777777777778,\"#fb9f3a\"],[0.8888888888888888,\"#fdca26\"],[1.0,\"#f0f921\"]],\"sequentialminus\":[[0.0,\"#0d0887\"],[0.1111111111111111,\"#46039f\"],[0.2222222222222222,\"#7201a8\"],[0.3333333333333333,\"#9c179e\"],[0.4444444444444444,\"#bd3786\"],[0.5555555555555556,\"#d8576b\"],[0.6666666666666666,\"#ed7953\"],[0.7777777777777778,\"#fb9f3a\"],[0.8888888888888888,\"#fdca26\"],[1.0,\"#f0f921\"]],\"diverging\":[[0,\"#8e0152\"],[0.1,\"#c51b7d\"],[0.2,\"#de77ae\"],[0.3,\"#f1b6da\"],[0.4,\"#fde0ef\"],[0.5,\"#f7f7f7\"],[0.6,\"#e6f5d0\"],[0.7,\"#b8e186\"],[0.8,\"#7fbc41\"],[0.9,\"#4d9221\"],[1,\"#276419\"]]},\"xaxis\":{\"gridcolor\":\"white\",\"linecolor\":\"white\",\"ticks\":\"\",\"title\":{\"standoff\":15},\"zerolinecolor\":\"white\",\"automargin\":true,\"zerolinewidth\":2},\"yaxis\":{\"gridcolor\":\"white\",\"linecolor\":\"white\",\"ticks\":\"\",\"title\":{\"standoff\":15},\"zerolinecolor\":\"white\",\"automargin\":true,\"zerolinewidth\":2},\"scene\":{\"xaxis\":{\"backgroundcolor\":\"#E5ECF6\",\"gridcolor\":\"white\",\"linecolor\":\"white\",\"showbackground\":true,\"ticks\":\"\",\"zerolinecolor\":\"white\",\"gridwidth\":2},\"yaxis\":{\"backgroundcolor\":\"#E5ECF6\",\"gridcolor\":\"white\",\"linecolor\":\"white\",\"showbackground\":true,\"ticks\":\"\",\"zerolinecolor\":\"white\",\"gridwidth\":2},\"zaxis\":{\"backgroundcolor\":\"#E5ECF6\",\"gridcolor\":\"white\",\"linecolor\":\"white\",\"showbackground\":true,\"ticks\":\"\",\"zerolinecolor\":\"white\",\"gridwidth\":2}},\"shapedefaults\":{\"line\":{\"color\":\"#2a3f5f\"}},\"annotationdefaults\":{\"arrowcolor\":\"#2a3f5f\",\"arrowhead\":0,\"arrowwidth\":1},\"geo\":{\"bgcolor\":\"white\",\"landcolor\":\"#E5ECF6\",\"subunitcolor\":\"white\",\"showland\":true,\"showlakes\":true,\"lakecolor\":\"white\"},\"title\":{\"x\":0.05},\"mapbox\":{\"style\":\"light\"}}},\"annotations\":[{\"font\":{\"size\":16},\"showarrow\":false,\"text\":\"Estimated \\u003cb\\u003eRMSE\\u003c\\u002fb\\u003e\",\"x\":0.5,\"xanchor\":\"center\",\"xref\":\"paper\",\"y\":1.0,\"yanchor\":\"bottom\",\"yref\":\"paper\"},{\"showarrow\":false,\"text\":\"Reference\",\"x\":10.0,\"xref\":\"x\",\"xshift\":10,\"y\":1.01,\"yref\":\"y domain\"},{\"showarrow\":false,\"text\":\"Analysis\",\"x\":31.0,\"xref\":\"x\",\"xshift\":15,\"y\":1.01,\"yref\":\"y domain\"}],\"shapes\":[{\"layer\":\"below\",\"line\":{\"color\":\"#666666\",\"width\":1},\"type\":\"line\",\"x0\":21,\"x1\":21,\"xref\":\"x\",\"y0\":0,\"y1\":1,\"yref\":\"y domain\"}]},                        {\"responsive\": true}                    ).then(function(){\n",
       "                            \n",
       "var gd = document.getElementById('37e70d7d-ca7d-4a28-af40-e33667c4c865');\n",
       "var x = new MutationObserver(function (mutations, observer) {{\n",
       "        var display = window.getComputedStyle(gd).display;\n",
       "        if (!display || display === 'none') {{\n",
       "            console.log([gd, 'removed!']);\n",
       "            Plotly.purge(gd);\n",
       "            observer.disconnect();\n",
       "        }}\n",
       "}});\n",
       "\n",
       "// Listen for the removal of the full notebook cells\n",
       "var notebookContainer = gd.closest('#notebook-container');\n",
       "if (notebookContainer) {{\n",
       "    x.observe(notebookContainer, {childList: true});\n",
       "}}\n",
       "\n",
       "// Listen for the clearing of the current output cell\n",
       "var outputEl = gd.closest('.output');\n",
       "if (outputEl) {{\n",
       "    x.observe(outputEl, {childList: true});\n",
       "}}\n",
       "\n",
       "                        })                };                });            </script>        </div>"
      ]
     },
     "metadata": {},
     "output_type": "display_data"
    }
   ],
   "source": [
    "estimated_results.plot().show()"
   ]
  },
  {
   "cell_type": "code",
   "execution_count": 250,
   "id": "26202ee1-a822-4e55-a780-598a429fada1",
   "metadata": {},
   "outputs": [
    {
     "data": {
      "text/html": [
       "<div>\n",
       "<style scoped>\n",
       "    .dataframe tbody tr th:only-of-type {\n",
       "        vertical-align: middle;\n",
       "    }\n",
       "\n",
       "    .dataframe tbody tr th {\n",
       "        vertical-align: top;\n",
       "    }\n",
       "\n",
       "    .dataframe thead tr th {\n",
       "        text-align: left;\n",
       "    }\n",
       "</style>\n",
       "<table border=\"1\" class=\"dataframe\">\n",
       "  <thead>\n",
       "    <tr>\n",
       "      <th></th>\n",
       "      <th colspan=\"7\" halign=\"left\">chunk</th>\n",
       "      <th colspan=\"8\" halign=\"left\">rmse</th>\n",
       "    </tr>\n",
       "    <tr>\n",
       "      <th></th>\n",
       "      <th>key</th>\n",
       "      <th>chunk_index</th>\n",
       "      <th>start_index</th>\n",
       "      <th>end_index</th>\n",
       "      <th>start_date</th>\n",
       "      <th>end_date</th>\n",
       "      <th>period</th>\n",
       "      <th>sampling_error</th>\n",
       "      <th>realized</th>\n",
       "      <th>value</th>\n",
       "      <th>upper_confidence_boundary</th>\n",
       "      <th>lower_confidence_boundary</th>\n",
       "      <th>upper_threshold</th>\n",
       "      <th>lower_threshold</th>\n",
       "      <th>alert</th>\n",
       "    </tr>\n",
       "  </thead>\n",
       "  <tbody>\n",
       "    <tr>\n",
       "      <th>0</th>\n",
       "      <td>[0:249]</td>\n",
       "      <td>0</td>\n",
       "      <td>0</td>\n",
       "      <td>249</td>\n",
       "      <td>None</td>\n",
       "      <td>None</td>\n",
       "      <td>reference</td>\n",
       "      <td>99.357668</td>\n",
       "      <td>616.653209</td>\n",
       "      <td>567.595667</td>\n",
       "      <td>865.668672</td>\n",
       "      <td>269.522663</td>\n",
       "      <td>806.923566</td>\n",
       "      <td>234.318833</td>\n",
       "      <td>False</td>\n",
       "    </tr>\n",
       "    <tr>\n",
       "      <th>1</th>\n",
       "      <td>[250:499]</td>\n",
       "      <td>1</td>\n",
       "      <td>250</td>\n",
       "      <td>499</td>\n",
       "      <td>None</td>\n",
       "      <td>None</td>\n",
       "      <td>reference</td>\n",
       "      <td>99.357668</td>\n",
       "      <td>666.111476</td>\n",
       "      <td>648.894486</td>\n",
       "      <td>946.967491</td>\n",
       "      <td>350.821481</td>\n",
       "      <td>806.923566</td>\n",
       "      <td>234.318833</td>\n",
       "      <td>False</td>\n",
       "    </tr>\n",
       "    <tr>\n",
       "      <th>2</th>\n",
       "      <td>[500:749]</td>\n",
       "      <td>2</td>\n",
       "      <td>500</td>\n",
       "      <td>749</td>\n",
       "      <td>None</td>\n",
       "      <td>None</td>\n",
       "      <td>reference</td>\n",
       "      <td>99.357668</td>\n",
       "      <td>569.264836</td>\n",
       "      <td>564.681194</td>\n",
       "      <td>862.754199</td>\n",
       "      <td>266.608189</td>\n",
       "      <td>806.923566</td>\n",
       "      <td>234.318833</td>\n",
       "      <td>False</td>\n",
       "    </tr>\n",
       "    <tr>\n",
       "      <th>3</th>\n",
       "      <td>[750:999]</td>\n",
       "      <td>3</td>\n",
       "      <td>750</td>\n",
       "      <td>999</td>\n",
       "      <td>None</td>\n",
       "      <td>None</td>\n",
       "      <td>reference</td>\n",
       "      <td>99.357668</td>\n",
       "      <td>590.023921</td>\n",
       "      <td>591.481304</td>\n",
       "      <td>889.554309</td>\n",
       "      <td>293.408299</td>\n",
       "      <td>806.923566</td>\n",
       "      <td>234.318833</td>\n",
       "      <td>False</td>\n",
       "    </tr>\n",
       "    <tr>\n",
       "      <th>4</th>\n",
       "      <td>[1000:1249]</td>\n",
       "      <td>4</td>\n",
       "      <td>1000</td>\n",
       "      <td>1249</td>\n",
       "      <td>None</td>\n",
       "      <td>None</td>\n",
       "      <td>reference</td>\n",
       "      <td>99.357668</td>\n",
       "      <td>372.993464</td>\n",
       "      <td>428.166806</td>\n",
       "      <td>726.239811</td>\n",
       "      <td>130.093802</td>\n",
       "      <td>806.923566</td>\n",
       "      <td>234.318833</td>\n",
       "      <td>False</td>\n",
       "    </tr>\n",
       "  </tbody>\n",
       "</table>\n",
       "</div>"
      ],
      "text/plain": [
       "         chunk                                                        \\\n",
       "           key chunk_index start_index end_index start_date end_date   \n",
       "0      [0:249]           0           0       249       None     None   \n",
       "1    [250:499]           1         250       499       None     None   \n",
       "2    [500:749]           2         500       749       None     None   \n",
       "3    [750:999]           3         750       999       None     None   \n",
       "4  [1000:1249]           4        1000      1249       None     None   \n",
       "\n",
       "                       rmse                                                    \\\n",
       "      period sampling_error    realized       value upper_confidence_boundary   \n",
       "0  reference      99.357668  616.653209  567.595667                865.668672   \n",
       "1  reference      99.357668  666.111476  648.894486                946.967491   \n",
       "2  reference      99.357668  569.264836  564.681194                862.754199   \n",
       "3  reference      99.357668  590.023921  591.481304                889.554309   \n",
       "4  reference      99.357668  372.993464  428.166806                726.239811   \n",
       "\n",
       "                                                                    \n",
       "  lower_confidence_boundary upper_threshold lower_threshold  alert  \n",
       "0                269.522663      806.923566      234.318833  False  \n",
       "1                350.821481      806.923566      234.318833  False  \n",
       "2                266.608189      806.923566      234.318833  False  \n",
       "3                293.408299      806.923566      234.318833  False  \n",
       "4                130.093802      806.923566      234.318833  False  "
      ]
     },
     "execution_count": 250,
     "metadata": {},
     "output_type": "execute_result"
    }
   ],
   "source": [
    "estimated_results.to_df().head()"
   ]
  },
  {
   "cell_type": "markdown",
   "id": "441a42d7-81b0-4aa1-bacc-f6af24fd689a",
   "metadata": {},
   "source": [
    "Important columsn: chunk index, period, alert"
   ]
  },
  {
   "cell_type": "code",
   "execution_count": 251,
   "id": "117faf1a-e699-4099-a8fe-4c87608d6bbe",
   "metadata": {},
   "outputs": [
    {
     "data": {
      "text/html": [
       "<div>\n",
       "<style scoped>\n",
       "    .dataframe tbody tr th:only-of-type {\n",
       "        vertical-align: middle;\n",
       "    }\n",
       "\n",
       "    .dataframe tbody tr th {\n",
       "        vertical-align: top;\n",
       "    }\n",
       "\n",
       "    .dataframe thead tr th {\n",
       "        text-align: left;\n",
       "    }\n",
       "</style>\n",
       "<table border=\"1\" class=\"dataframe\">\n",
       "  <thead>\n",
       "    <tr>\n",
       "      <th></th>\n",
       "      <th colspan=\"7\" halign=\"left\">chunk</th>\n",
       "      <th colspan=\"8\" halign=\"left\">rmse</th>\n",
       "    </tr>\n",
       "    <tr>\n",
       "      <th></th>\n",
       "      <th>key</th>\n",
       "      <th>chunk_index</th>\n",
       "      <th>start_index</th>\n",
       "      <th>end_index</th>\n",
       "      <th>start_date</th>\n",
       "      <th>end_date</th>\n",
       "      <th>period</th>\n",
       "      <th>sampling_error</th>\n",
       "      <th>realized</th>\n",
       "      <th>value</th>\n",
       "      <th>upper_confidence_boundary</th>\n",
       "      <th>lower_confidence_boundary</th>\n",
       "      <th>upper_threshold</th>\n",
       "      <th>lower_threshold</th>\n",
       "      <th>alert</th>\n",
       "    </tr>\n",
       "  </thead>\n",
       "  <tbody>\n",
       "    <tr>\n",
       "      <th>0</th>\n",
       "      <td>[0:249]</td>\n",
       "      <td>0</td>\n",
       "      <td>0</td>\n",
       "      <td>249</td>\n",
       "      <td>None</td>\n",
       "      <td>None</td>\n",
       "      <td>analysis</td>\n",
       "      <td>99.357668</td>\n",
       "      <td>497.278867</td>\n",
       "      <td>572.708634</td>\n",
       "      <td>870.781639</td>\n",
       "      <td>274.635630</td>\n",
       "      <td>806.923566</td>\n",
       "      <td>234.318833</td>\n",
       "      <td>False</td>\n",
       "    </tr>\n",
       "    <tr>\n",
       "      <th>1</th>\n",
       "      <td>[250:499]</td>\n",
       "      <td>1</td>\n",
       "      <td>250</td>\n",
       "      <td>499</td>\n",
       "      <td>None</td>\n",
       "      <td>None</td>\n",
       "      <td>analysis</td>\n",
       "      <td>99.357668</td>\n",
       "      <td>826.034890</td>\n",
       "      <td>763.731008</td>\n",
       "      <td>1061.804013</td>\n",
       "      <td>465.658003</td>\n",
       "      <td>806.923566</td>\n",
       "      <td>234.318833</td>\n",
       "      <td>False</td>\n",
       "    </tr>\n",
       "    <tr>\n",
       "      <th>2</th>\n",
       "      <td>[500:749]</td>\n",
       "      <td>2</td>\n",
       "      <td>500</td>\n",
       "      <td>749</td>\n",
       "      <td>None</td>\n",
       "      <td>None</td>\n",
       "      <td>analysis</td>\n",
       "      <td>99.357668</td>\n",
       "      <td>990.474395</td>\n",
       "      <td>805.739191</td>\n",
       "      <td>1103.812196</td>\n",
       "      <td>507.666187</td>\n",
       "      <td>806.923566</td>\n",
       "      <td>234.318833</td>\n",
       "      <td>False</td>\n",
       "    </tr>\n",
       "    <tr>\n",
       "      <th>3</th>\n",
       "      <td>[750:999]</td>\n",
       "      <td>3</td>\n",
       "      <td>750</td>\n",
       "      <td>999</td>\n",
       "      <td>None</td>\n",
       "      <td>None</td>\n",
       "      <td>analysis</td>\n",
       "      <td>99.357668</td>\n",
       "      <td>936.208882</td>\n",
       "      <td>869.252834</td>\n",
       "      <td>1167.325839</td>\n",
       "      <td>571.179829</td>\n",
       "      <td>806.923566</td>\n",
       "      <td>234.318833</td>\n",
       "      <td>True</td>\n",
       "    </tr>\n",
       "    <tr>\n",
       "      <th>4</th>\n",
       "      <td>[1000:1249]</td>\n",
       "      <td>4</td>\n",
       "      <td>1000</td>\n",
       "      <td>1249</td>\n",
       "      <td>None</td>\n",
       "      <td>None</td>\n",
       "      <td>analysis</td>\n",
       "      <td>99.357668</td>\n",
       "      <td>959.245799</td>\n",
       "      <td>913.569633</td>\n",
       "      <td>1211.642638</td>\n",
       "      <td>615.496628</td>\n",
       "      <td>806.923566</td>\n",
       "      <td>234.318833</td>\n",
       "      <td>True</td>\n",
       "    </tr>\n",
       "  </tbody>\n",
       "</table>\n",
       "</div>"
      ],
      "text/plain": [
       "         chunk                                                        \\\n",
       "           key chunk_index start_index end_index start_date end_date   \n",
       "0      [0:249]           0           0       249       None     None   \n",
       "1    [250:499]           1         250       499       None     None   \n",
       "2    [500:749]           2         500       749       None     None   \n",
       "3    [750:999]           3         750       999       None     None   \n",
       "4  [1000:1249]           4        1000      1249       None     None   \n",
       "\n",
       "                      rmse                                                    \\\n",
       "     period sampling_error    realized       value upper_confidence_boundary   \n",
       "0  analysis      99.357668  497.278867  572.708634                870.781639   \n",
       "1  analysis      99.357668  826.034890  763.731008               1061.804013   \n",
       "2  analysis      99.357668  990.474395  805.739191               1103.812196   \n",
       "3  analysis      99.357668  936.208882  869.252834               1167.325839   \n",
       "4  analysis      99.357668  959.245799  913.569633               1211.642638   \n",
       "\n",
       "                                                                    \n",
       "  lower_confidence_boundary upper_threshold lower_threshold  alert  \n",
       "0                274.635630      806.923566      234.318833  False  \n",
       "1                465.658003      806.923566      234.318833  False  \n",
       "2                507.666187      806.923566      234.318833  False  \n",
       "3                571.179829      806.923566      234.318833   True  \n",
       "4                615.496628      806.923566      234.318833   True  "
      ]
     },
     "execution_count": 251,
     "metadata": {},
     "output_type": "execute_result"
    }
   ],
   "source": [
    "estimated_results.filter(period=\"analysis\").to_df().head()"
   ]
  },
  {
   "cell_type": "code",
   "execution_count": 252,
   "id": "cb3a0aa8-1590-4c41-8e75-40fe86b6f3ce",
   "metadata": {},
   "outputs": [
    {
     "data": {
      "text/html": [
       "<div>\n",
       "<style scoped>\n",
       "    .dataframe tbody tr th:only-of-type {\n",
       "        vertical-align: middle;\n",
       "    }\n",
       "\n",
       "    .dataframe tbody tr th {\n",
       "        vertical-align: top;\n",
       "    }\n",
       "\n",
       "    .dataframe thead tr th {\n",
       "        text-align: left;\n",
       "    }\n",
       "</style>\n",
       "<table border=\"1\" class=\"dataframe\">\n",
       "  <thead>\n",
       "    <tr>\n",
       "      <th></th>\n",
       "      <th colspan=\"7\" halign=\"left\">chunk</th>\n",
       "      <th colspan=\"8\" halign=\"left\">rmse</th>\n",
       "    </tr>\n",
       "    <tr>\n",
       "      <th></th>\n",
       "      <th>key</th>\n",
       "      <th>chunk_index</th>\n",
       "      <th>start_index</th>\n",
       "      <th>end_index</th>\n",
       "      <th>start_date</th>\n",
       "      <th>end_date</th>\n",
       "      <th>period</th>\n",
       "      <th>sampling_error</th>\n",
       "      <th>realized</th>\n",
       "      <th>value</th>\n",
       "      <th>upper_confidence_boundary</th>\n",
       "      <th>lower_confidence_boundary</th>\n",
       "      <th>upper_threshold</th>\n",
       "      <th>lower_threshold</th>\n",
       "      <th>alert</th>\n",
       "    </tr>\n",
       "  </thead>\n",
       "  <tbody>\n",
       "    <tr>\n",
       "      <th>0</th>\n",
       "      <td>[0:249]</td>\n",
       "      <td>0</td>\n",
       "      <td>0</td>\n",
       "      <td>249</td>\n",
       "      <td>None</td>\n",
       "      <td>None</td>\n",
       "      <td>reference</td>\n",
       "      <td>99.357668</td>\n",
       "      <td>616.653209</td>\n",
       "      <td>567.595667</td>\n",
       "      <td>865.668672</td>\n",
       "      <td>269.522663</td>\n",
       "      <td>806.923566</td>\n",
       "      <td>234.318833</td>\n",
       "      <td>False</td>\n",
       "    </tr>\n",
       "    <tr>\n",
       "      <th>1</th>\n",
       "      <td>[250:499]</td>\n",
       "      <td>1</td>\n",
       "      <td>250</td>\n",
       "      <td>499</td>\n",
       "      <td>None</td>\n",
       "      <td>None</td>\n",
       "      <td>reference</td>\n",
       "      <td>99.357668</td>\n",
       "      <td>666.111476</td>\n",
       "      <td>648.894486</td>\n",
       "      <td>946.967491</td>\n",
       "      <td>350.821481</td>\n",
       "      <td>806.923566</td>\n",
       "      <td>234.318833</td>\n",
       "      <td>False</td>\n",
       "    </tr>\n",
       "    <tr>\n",
       "      <th>2</th>\n",
       "      <td>[500:749]</td>\n",
       "      <td>2</td>\n",
       "      <td>500</td>\n",
       "      <td>749</td>\n",
       "      <td>None</td>\n",
       "      <td>None</td>\n",
       "      <td>reference</td>\n",
       "      <td>99.357668</td>\n",
       "      <td>569.264836</td>\n",
       "      <td>564.681194</td>\n",
       "      <td>862.754199</td>\n",
       "      <td>266.608189</td>\n",
       "      <td>806.923566</td>\n",
       "      <td>234.318833</td>\n",
       "      <td>False</td>\n",
       "    </tr>\n",
       "    <tr>\n",
       "      <th>3</th>\n",
       "      <td>[750:999]</td>\n",
       "      <td>3</td>\n",
       "      <td>750</td>\n",
       "      <td>999</td>\n",
       "      <td>None</td>\n",
       "      <td>None</td>\n",
       "      <td>reference</td>\n",
       "      <td>99.357668</td>\n",
       "      <td>590.023921</td>\n",
       "      <td>591.481304</td>\n",
       "      <td>889.554309</td>\n",
       "      <td>293.408299</td>\n",
       "      <td>806.923566</td>\n",
       "      <td>234.318833</td>\n",
       "      <td>False</td>\n",
       "    </tr>\n",
       "    <tr>\n",
       "      <th>4</th>\n",
       "      <td>[1000:1249]</td>\n",
       "      <td>4</td>\n",
       "      <td>1000</td>\n",
       "      <td>1249</td>\n",
       "      <td>None</td>\n",
       "      <td>None</td>\n",
       "      <td>reference</td>\n",
       "      <td>99.357668</td>\n",
       "      <td>372.993464</td>\n",
       "      <td>428.166806</td>\n",
       "      <td>726.239811</td>\n",
       "      <td>130.093802</td>\n",
       "      <td>806.923566</td>\n",
       "      <td>234.318833</td>\n",
       "      <td>False</td>\n",
       "    </tr>\n",
       "  </tbody>\n",
       "</table>\n",
       "</div>"
      ],
      "text/plain": [
       "         chunk                                                        \\\n",
       "           key chunk_index start_index end_index start_date end_date   \n",
       "0      [0:249]           0           0       249       None     None   \n",
       "1    [250:499]           1         250       499       None     None   \n",
       "2    [500:749]           2         500       749       None     None   \n",
       "3    [750:999]           3         750       999       None     None   \n",
       "4  [1000:1249]           4        1000      1249       None     None   \n",
       "\n",
       "                       rmse                                                    \\\n",
       "      period sampling_error    realized       value upper_confidence_boundary   \n",
       "0  reference      99.357668  616.653209  567.595667                865.668672   \n",
       "1  reference      99.357668  666.111476  648.894486                946.967491   \n",
       "2  reference      99.357668  569.264836  564.681194                862.754199   \n",
       "3  reference      99.357668  590.023921  591.481304                889.554309   \n",
       "4  reference      99.357668  372.993464  428.166806                726.239811   \n",
       "\n",
       "                                                                    \n",
       "  lower_confidence_boundary upper_threshold lower_threshold  alert  \n",
       "0                269.522663      806.923566      234.318833  False  \n",
       "1                350.821481      806.923566      234.318833  False  \n",
       "2                266.608189      806.923566      234.318833  False  \n",
       "3                293.408299      806.923566      234.318833  False  \n",
       "4                130.093802      806.923566      234.318833  False  "
      ]
     },
     "execution_count": 252,
     "metadata": {},
     "output_type": "execute_result"
    }
   ],
   "source": [
    "estimated_results.filter(metrics=[\"rmse\"]).to_df().head()"
   ]
  },
  {
   "cell_type": "markdown",
   "id": "02843340-66d9-40ed-a67b-7998929e87ae",
   "metadata": {},
   "source": [
    "### Calculating realized performance"
   ]
  },
  {
   "cell_type": "code",
   "execution_count": 253,
   "id": "8d17ebd6-0a1d-4d07-a02a-b1b2438b88ad",
   "metadata": {},
   "outputs": [],
   "source": [
    "calculator = nannyml.PerformanceCalculator(\n",
    "    problem_type=\"regression\",\n",
    "    y_true=target,\n",
    "    y_pred=\"y_pred\",\n",
    "    metrics=[\"rmse\"],\n",
    "    chunk_size=250,\n",
    ")\n",
    "\n",
    "calculator.fit(reference)\n",
    "realized_results = calculator.calculate(analysis)"
   ]
  },
  {
   "cell_type": "code",
   "execution_count": 254,
   "id": "8bf83936-8454-409f-a7c2-81499394b5c7",
   "metadata": {
    "scrolled": true
   },
   "outputs": [
    {
     "data": {
      "application/vnd.plotly.v1+json": {
       "config": {
        "plotlyServerURL": "https://plot.ly"
       },
       "data": [
        {
         "hoverinfo": "skip",
         "line": {
          "color": "#3b0280",
          "dash": "dash",
          "shape": "hv",
          "width": 2
         },
         "mode": "lines",
         "name": "<b>RMSE</b> (estimated RMSE)",
         "showlegend": true,
         "type": "scatter",
         "x": [
          0,
          1,
          2,
          3,
          4,
          5,
          6,
          7,
          8,
          9,
          10,
          11,
          12,
          13,
          14,
          15,
          16,
          17,
          18,
          19,
          20,
          21
         ],
         "xaxis": "x",
         "y": [
          567.595667298751,
          648.8944858473601,
          564.6811939878063,
          591.481303895541,
          428.16680632342224,
          485.67593674274764,
          496.849452288195,
          487.8186980891766,
          562.3019021714772,
          514.3396979592592,
          507.206860180168,
          521.999760693339,
          522.9920312083227,
          498.0095455791483,
          464.9452828852687,
          521.8626019502906,
          646.1655729717955,
          501.76268332016815,
          543.0416670453261,
          604.9343558633868,
          446.0060233992042,
          446.0060233992042
         ],
         "yaxis": "y"
        },
        {
         "customdata": [
          [
           "<b>RMSE</b> (estimated RMSE)",
           "<b style=\"color:Colors.INDIGO_PERSIAN;line-height:60px\">Reference</b>",
           "[0:249]",
           "Chunk index: <b>0</b>",
           567.5957
          ],
          [
           "<b>RMSE</b> (estimated RMSE)",
           "<b style=\"color:Colors.INDIGO_PERSIAN;line-height:60px\">Reference</b>",
           "[250:499]",
           "Chunk index: <b>1</b>",
           648.8945
          ],
          [
           "<b>RMSE</b> (estimated RMSE)",
           "<b style=\"color:Colors.INDIGO_PERSIAN;line-height:60px\">Reference</b>",
           "[500:749]",
           "Chunk index: <b>2</b>",
           564.6812
          ],
          [
           "<b>RMSE</b> (estimated RMSE)",
           "<b style=\"color:Colors.INDIGO_PERSIAN;line-height:60px\">Reference</b>",
           "[750:999]",
           "Chunk index: <b>3</b>",
           591.4813
          ],
          [
           "<b>RMSE</b> (estimated RMSE)",
           "<b style=\"color:Colors.INDIGO_PERSIAN;line-height:60px\">Reference</b>",
           "[1000:1249]",
           "Chunk index: <b>4</b>",
           428.1668
          ],
          [
           "<b>RMSE</b> (estimated RMSE)",
           "<b style=\"color:Colors.INDIGO_PERSIAN;line-height:60px\">Reference</b>",
           "[1250:1499]",
           "Chunk index: <b>5</b>",
           485.6759
          ],
          [
           "<b>RMSE</b> (estimated RMSE)",
           "<b style=\"color:Colors.INDIGO_PERSIAN;line-height:60px\">Reference</b>",
           "[1500:1749]",
           "Chunk index: <b>6</b>",
           496.8495
          ],
          [
           "<b>RMSE</b> (estimated RMSE)",
           "<b style=\"color:Colors.INDIGO_PERSIAN;line-height:60px\">Reference</b>",
           "[1750:1999]",
           "Chunk index: <b>7</b>",
           487.8187
          ],
          [
           "<b>RMSE</b> (estimated RMSE)",
           "<b style=\"color:Colors.INDIGO_PERSIAN;line-height:60px\">Reference</b>",
           "[2000:2249]",
           "Chunk index: <b>8</b>",
           562.3019
          ],
          [
           "<b>RMSE</b> (estimated RMSE)",
           "<b style=\"color:Colors.INDIGO_PERSIAN;line-height:60px\">Reference</b>",
           "[2250:2499]",
           "Chunk index: <b>9</b>",
           514.3397
          ],
          [
           "<b>RMSE</b> (estimated RMSE)",
           "<b style=\"color:Colors.INDIGO_PERSIAN;line-height:60px\">Reference</b>",
           "[2500:2749]",
           "Chunk index: <b>10</b>",
           507.2069
          ],
          [
           "<b>RMSE</b> (estimated RMSE)",
           "<b style=\"color:Colors.INDIGO_PERSIAN;line-height:60px\">Reference</b>",
           "[2750:2999]",
           "Chunk index: <b>11</b>",
           521.9998
          ],
          [
           "<b>RMSE</b> (estimated RMSE)",
           "<b style=\"color:Colors.INDIGO_PERSIAN;line-height:60px\">Reference</b>",
           "[3000:3249]",
           "Chunk index: <b>12</b>",
           522.992
          ],
          [
           "<b>RMSE</b> (estimated RMSE)",
           "<b style=\"color:Colors.INDIGO_PERSIAN;line-height:60px\">Reference</b>",
           "[3250:3499]",
           "Chunk index: <b>13</b>",
           498.0095
          ],
          [
           "<b>RMSE</b> (estimated RMSE)",
           "<b style=\"color:Colors.INDIGO_PERSIAN;line-height:60px\">Reference</b>",
           "[3500:3749]",
           "Chunk index: <b>14</b>",
           464.9453
          ],
          [
           "<b>RMSE</b> (estimated RMSE)",
           "<b style=\"color:Colors.INDIGO_PERSIAN;line-height:60px\">Reference</b>",
           "[3750:3999]",
           "Chunk index: <b>15</b>",
           521.8626
          ],
          [
           "<b>RMSE</b> (estimated RMSE)",
           "<b style=\"color:Colors.INDIGO_PERSIAN;line-height:60px\">Reference</b>",
           "[4000:4249]",
           "Chunk index: <b>16</b>",
           646.1656
          ],
          [
           "<b>RMSE</b> (estimated RMSE)",
           "<b style=\"color:Colors.INDIGO_PERSIAN;line-height:60px\">Reference</b>",
           "[4250:4499]",
           "Chunk index: <b>17</b>",
           501.7627
          ],
          [
           "<b>RMSE</b> (estimated RMSE)",
           "<b style=\"color:Colors.INDIGO_PERSIAN;line-height:60px\">Reference</b>",
           "[4500:4749]",
           "Chunk index: <b>18</b>",
           543.0417
          ],
          [
           "<b>RMSE</b> (estimated RMSE)",
           "<b style=\"color:Colors.INDIGO_PERSIAN;line-height:60px\">Reference</b>",
           "[4750:4999]",
           "Chunk index: <b>19</b>",
           604.9344
          ],
          [
           "<b>RMSE</b> (estimated RMSE)",
           "<b style=\"color:Colors.INDIGO_PERSIAN;line-height:60px\">Reference</b>",
           "[5000:5393]",
           "Chunk index: <b>20</b>",
           446.006
          ]
         ],
         "hovertemplate": "%{customdata[1]}<br />Chunk: <b>%{customdata[2]}</b> &nbsp; &nbsp; %{customdata[3]} <br />%{customdata[0]}: <b>%{customdata[4]}</b><br /><extra></extra>",
         "line": {
          "dash": "dash"
         },
         "marker": {
          "color": "#3b0280",
          "size": 5,
          "symbol": "circle"
         },
         "mode": "markers",
         "name": "<b>RMSE</b> (estimated RMSE)",
         "showlegend": false,
         "type": "scatter",
         "x": [
          0.5,
          1.5,
          2.5,
          3.5,
          4.5,
          5.5,
          6.5,
          7.5,
          8.5,
          9.5,
          10.5,
          11.5,
          12.5,
          13.5,
          14.5,
          15.5,
          16.5,
          17.5,
          18.5,
          19.5,
          20.5
         ],
         "xaxis": "x",
         "y": [
          567.595667298751,
          648.8944858473601,
          564.6811939878063,
          591.481303895541,
          428.16680632342224,
          485.67593674274764,
          496.849452288195,
          487.8186980891766,
          562.3019021714772,
          514.3396979592592,
          507.206860180168,
          521.999760693339,
          522.9920312083227,
          498.0095455791483,
          464.9452828852687,
          521.8626019502906,
          646.1655729717955,
          501.76268332016815,
          543.0416670453261,
          604.9343558633868,
          446.0060233992042,
          446.0060233992042
         ],
         "yaxis": "y"
        },
        {
         "hoverinfo": "skip",
         "line": {
          "color": "rgba(0, 0, 0, 0)",
          "dash": "dash",
          "shape": "hv"
         },
         "mode": "lines",
         "name": "Confidence band",
         "showlegend": false,
         "type": "scatter",
         "x": [
          0,
          1,
          2,
          3,
          4,
          5,
          6,
          7,
          8,
          9,
          10,
          11,
          12,
          13,
          14,
          15,
          16,
          17,
          18,
          19,
          20,
          21
         ],
         "xaxis": "x",
         "y": [
          865.6686720737869,
          946.967490622396,
          862.7541987628422,
          889.5543086705769,
          726.2398110984582,
          783.7489415177836,
          794.9224570632309,
          785.8917028642124,
          860.3749069465131,
          812.4127027342951,
          805.279864955204,
          820.0727654683749,
          821.0650359833586,
          796.0825503541841,
          763.0182876603046,
          819.9356067253265,
          944.2385777468314,
          799.835688095204,
          841.114671820362,
          903.0073606384227,
          683.4409145222247,
          683.4409145222247
         ],
         "yaxis": "y"
        },
        {
         "fill": "tonexty",
         "fillcolor": "rgba(59, 2, 128, 0.2)",
         "hoverinfo": "skip",
         "line": {
          "color": "rgba(0, 0, 0, 0)",
          "dash": "dash",
          "shape": "hv"
         },
         "mode": "lines",
         "name": "Confidence band",
         "showlegend": true,
         "type": "scatter",
         "x": [
          0,
          1,
          2,
          3,
          4,
          5,
          6,
          7,
          8,
          9,
          10,
          11,
          12,
          13,
          14,
          15,
          16,
          17,
          18,
          19,
          20,
          21
         ],
         "xaxis": "x",
         "y": [
          269.5226625237151,
          350.8214810723242,
          266.6081892127704,
          293.40829912050515,
          130.09380154838635,
          187.60293196771175,
          198.7764475131591,
          189.74569331414074,
          264.2288973964413,
          216.2666931842233,
          209.13385540513212,
          223.92675591830312,
          224.91902643328683,
          199.93654080411244,
          166.8722781102328,
          223.7895971752547,
          348.09256819675966,
          203.68967854513227,
          244.96866227029022,
          306.86135108835094,
          208.5711322761837,
          208.5711322761837
         ],
         "yaxis": "y"
        },
        {
         "hoverinfo": "skip",
         "line": {
          "color": "#00c8e5",
          "shape": "hv",
          "width": 2
         },
         "mode": "lines",
         "name": "<b>RMSE</b> (realized RMSE)",
         "showlegend": true,
         "type": "scatter",
         "x": [
          0,
          1,
          2,
          3,
          4,
          5,
          6,
          7,
          8,
          9,
          10,
          11,
          12,
          13,
          14,
          15,
          16,
          17,
          18,
          19,
          20,
          21
         ],
         "xaxis": "x",
         "y": [
          616.6532091011874,
          666.1114762012899,
          569.2648360907617,
          590.0239205256347,
          372.99346386997354,
          431.4322760129166,
          447.8504166610995,
          440.83897856346607,
          534.8503772616326,
          502.57266271536383,
          531.5404151753644,
          557.380781347486,
          560.7555713272176,
          436.6457075799727,
          453.2526238798875,
          480.59858565770753,
          794.5359112074308,
          512.4959795977219,
          445.33188032223575,
          575.4806863384634,
          412.43543126123456,
          412.43543126123456
         ],
         "yaxis": "y"
        },
        {
         "customdata": [
          [
           "<b>RMSE</b>",
           "<b style=\"color:Colors.BLUE_SKY_CRAYOLA;line-height:60px\">Reference</b>",
           "[0:249]",
           "Chunk index: <b>0</b>",
           616.6532
          ],
          [
           "<b>RMSE</b>",
           "<b style=\"color:Colors.BLUE_SKY_CRAYOLA;line-height:60px\">Reference</b>",
           "[250:499]",
           "Chunk index: <b>1</b>",
           666.1115
          ],
          [
           "<b>RMSE</b>",
           "<b style=\"color:Colors.BLUE_SKY_CRAYOLA;line-height:60px\">Reference</b>",
           "[500:749]",
           "Chunk index: <b>2</b>",
           569.2648
          ],
          [
           "<b>RMSE</b>",
           "<b style=\"color:Colors.BLUE_SKY_CRAYOLA;line-height:60px\">Reference</b>",
           "[750:999]",
           "Chunk index: <b>3</b>",
           590.0239
          ],
          [
           "<b>RMSE</b>",
           "<b style=\"color:Colors.BLUE_SKY_CRAYOLA;line-height:60px\">Reference</b>",
           "[1000:1249]",
           "Chunk index: <b>4</b>",
           372.9935
          ],
          [
           "<b>RMSE</b>",
           "<b style=\"color:Colors.BLUE_SKY_CRAYOLA;line-height:60px\">Reference</b>",
           "[1250:1499]",
           "Chunk index: <b>5</b>",
           431.4323
          ],
          [
           "<b>RMSE</b>",
           "<b style=\"color:Colors.BLUE_SKY_CRAYOLA;line-height:60px\">Reference</b>",
           "[1500:1749]",
           "Chunk index: <b>6</b>",
           447.8504
          ],
          [
           "<b>RMSE</b>",
           "<b style=\"color:Colors.BLUE_SKY_CRAYOLA;line-height:60px\">Reference</b>",
           "[1750:1999]",
           "Chunk index: <b>7</b>",
           440.839
          ],
          [
           "<b>RMSE</b>",
           "<b style=\"color:Colors.BLUE_SKY_CRAYOLA;line-height:60px\">Reference</b>",
           "[2000:2249]",
           "Chunk index: <b>8</b>",
           534.8504
          ],
          [
           "<b>RMSE</b>",
           "<b style=\"color:Colors.BLUE_SKY_CRAYOLA;line-height:60px\">Reference</b>",
           "[2250:2499]",
           "Chunk index: <b>9</b>",
           502.5727
          ],
          [
           "<b>RMSE</b>",
           "<b style=\"color:Colors.BLUE_SKY_CRAYOLA;line-height:60px\">Reference</b>",
           "[2500:2749]",
           "Chunk index: <b>10</b>",
           531.5404
          ],
          [
           "<b>RMSE</b>",
           "<b style=\"color:Colors.BLUE_SKY_CRAYOLA;line-height:60px\">Reference</b>",
           "[2750:2999]",
           "Chunk index: <b>11</b>",
           557.3808
          ],
          [
           "<b>RMSE</b>",
           "<b style=\"color:Colors.BLUE_SKY_CRAYOLA;line-height:60px\">Reference</b>",
           "[3000:3249]",
           "Chunk index: <b>12</b>",
           560.7556
          ],
          [
           "<b>RMSE</b>",
           "<b style=\"color:Colors.BLUE_SKY_CRAYOLA;line-height:60px\">Reference</b>",
           "[3250:3499]",
           "Chunk index: <b>13</b>",
           436.6457
          ],
          [
           "<b>RMSE</b>",
           "<b style=\"color:Colors.BLUE_SKY_CRAYOLA;line-height:60px\">Reference</b>",
           "[3500:3749]",
           "Chunk index: <b>14</b>",
           453.2526
          ],
          [
           "<b>RMSE</b>",
           "<b style=\"color:Colors.BLUE_SKY_CRAYOLA;line-height:60px\">Reference</b>",
           "[3750:3999]",
           "Chunk index: <b>15</b>",
           480.5986
          ],
          [
           "<b>RMSE</b>",
           "<b style=\"color:Colors.BLUE_SKY_CRAYOLA;line-height:60px\">Reference</b>",
           "[4000:4249]",
           "Chunk index: <b>16</b>",
           794.5359
          ],
          [
           "<b>RMSE</b>",
           "<b style=\"color:Colors.BLUE_SKY_CRAYOLA;line-height:60px\">Reference</b>",
           "[4250:4499]",
           "Chunk index: <b>17</b>",
           512.496
          ],
          [
           "<b>RMSE</b>",
           "<b style=\"color:Colors.BLUE_SKY_CRAYOLA;line-height:60px\">Reference</b>",
           "[4500:4749]",
           "Chunk index: <b>18</b>",
           445.3319
          ],
          [
           "<b>RMSE</b>",
           "<b style=\"color:Colors.BLUE_SKY_CRAYOLA;line-height:60px\">Reference</b>",
           "[4750:4999]",
           "Chunk index: <b>19</b>",
           575.4807
          ],
          [
           "<b>RMSE</b>",
           "<b style=\"color:Colors.BLUE_SKY_CRAYOLA;line-height:60px\">Reference</b>",
           "[5000:5393]",
           "Chunk index: <b>20</b>",
           412.4354
          ]
         ],
         "hovertemplate": "%{customdata[1]}<br />Chunk: <b>%{customdata[2]}</b> &nbsp; &nbsp; %{customdata[3]} <br />%{customdata[0]}: <b>%{customdata[4]}</b><br /><extra></extra>",
         "marker": {
          "color": "#00c8e5",
          "size": 5,
          "symbol": "circle"
         },
         "mode": "markers",
         "name": "<b>RMSE</b> (realized RMSE)",
         "showlegend": false,
         "type": "scatter",
         "x": [
          0.5,
          1.5,
          2.5,
          3.5,
          4.5,
          5.5,
          6.5,
          7.5,
          8.5,
          9.5,
          10.5,
          11.5,
          12.5,
          13.5,
          14.5,
          15.5,
          16.5,
          17.5,
          18.5,
          19.5,
          20.5
         ],
         "xaxis": "x",
         "y": [
          616.6532091011874,
          666.1114762012899,
          569.2648360907617,
          590.0239205256347,
          372.99346386997354,
          431.4322760129166,
          447.8504166610995,
          440.83897856346607,
          534.8503772616326,
          502.57266271536383,
          531.5404151753644,
          557.380781347486,
          560.7555713272176,
          436.6457075799727,
          453.2526238798875,
          480.59858565770753,
          794.5359112074308,
          512.4959795977219,
          445.33188032223575,
          575.4806863384634,
          412.43543126123456,
          412.43543126123456
         ],
         "yaxis": "y"
        },
        {
         "hoverinfo": "skip",
         "line": {
          "color": "#3b0280",
          "dash": "dash",
          "shape": "hv",
          "width": 2
         },
         "mode": "lines",
         "name": "<b>RMSE</b> (estimated RMSE)",
         "showlegend": false,
         "type": "scatter",
         "x": [
          21,
          22,
          23,
          24,
          25,
          26,
          27,
          28,
          29,
          30,
          31,
          32,
          33,
          34,
          35,
          36,
          37,
          38,
          39,
          40,
          41,
          42
         ],
         "xaxis": "x",
         "y": [
          572.7086344479326,
          763.731007909281,
          805.7391914814646,
          869.2528337640263,
          913.5696329168621,
          945.3547054627229,
          757.5926716191208,
          779.6765545284145,
          825.5500088697412,
          817.8335938986694,
          848.38920848469,
          789.8646134580192,
          730.2493117909478,
          775.7361175388653,
          838.81244902568,
          863.1283747118853,
          869.2827741400278,
          837.8419541559476,
          828.8830627961594,
          793.6866928842664,
          819.5254301118733,
          819.5254301118733
         ],
         "yaxis": "y"
        },
        {
         "customdata": [
          [
           "<b>RMSE</b> (estimated RMSE)",
           "<b style=\"color:Colors.INDIGO_PERSIAN;line-height:60px\">Analysis</b>",
           "",
           "[0:249]",
           "Chunk index: <b>21</b>",
           572.7086
          ],
          [
           "<b>RMSE</b> (estimated RMSE)",
           "<b style=\"color:Colors.INDIGO_PERSIAN;line-height:60px\">Analysis</b>",
           "",
           "[250:499]",
           "Chunk index: <b>22</b>",
           763.731
          ],
          [
           "<b>RMSE</b> (estimated RMSE)",
           "<b style=\"color:Colors.INDIGO_PERSIAN;line-height:60px\">Analysis</b>",
           "",
           "[500:749]",
           "Chunk index: <b>23</b>",
           805.7392
          ],
          [
           "<b>RMSE</b> (estimated RMSE)",
           "<b style=\"color:Colors.INDIGO_PERSIAN;line-height:60px\">Analysis</b>",
           "<span style=\"color:#AD0000\">⚠ <b>Drift detected</b></span>",
           "[750:999]",
           "Chunk index: <b>24</b>",
           869.2528
          ],
          [
           "<b>RMSE</b> (estimated RMSE)",
           "<b style=\"color:Colors.INDIGO_PERSIAN;line-height:60px\">Analysis</b>",
           "<span style=\"color:#AD0000\">⚠ <b>Drift detected</b></span>",
           "[1000:1249]",
           "Chunk index: <b>25</b>",
           913.5696
          ],
          [
           "<b>RMSE</b> (estimated RMSE)",
           "<b style=\"color:Colors.INDIGO_PERSIAN;line-height:60px\">Analysis</b>",
           "<span style=\"color:#AD0000\">⚠ <b>Drift detected</b></span>",
           "[1250:1499]",
           "Chunk index: <b>26</b>",
           945.3547
          ],
          [
           "<b>RMSE</b> (estimated RMSE)",
           "<b style=\"color:Colors.INDIGO_PERSIAN;line-height:60px\">Analysis</b>",
           "",
           "[1500:1749]",
           "Chunk index: <b>27</b>",
           757.5927
          ],
          [
           "<b>RMSE</b> (estimated RMSE)",
           "<b style=\"color:Colors.INDIGO_PERSIAN;line-height:60px\">Analysis</b>",
           "",
           "[1750:1999]",
           "Chunk index: <b>28</b>",
           779.6766
          ],
          [
           "<b>RMSE</b> (estimated RMSE)",
           "<b style=\"color:Colors.INDIGO_PERSIAN;line-height:60px\">Analysis</b>",
           "<span style=\"color:#AD0000\">⚠ <b>Drift detected</b></span>",
           "[2000:2249]",
           "Chunk index: <b>29</b>",
           825.55
          ],
          [
           "<b>RMSE</b> (estimated RMSE)",
           "<b style=\"color:Colors.INDIGO_PERSIAN;line-height:60px\">Analysis</b>",
           "<span style=\"color:#AD0000\">⚠ <b>Drift detected</b></span>",
           "[2250:2499]",
           "Chunk index: <b>30</b>",
           817.8336
          ],
          [
           "<b>RMSE</b> (estimated RMSE)",
           "<b style=\"color:Colors.INDIGO_PERSIAN;line-height:60px\">Analysis</b>",
           "<span style=\"color:#AD0000\">⚠ <b>Drift detected</b></span>",
           "[2500:2749]",
           "Chunk index: <b>31</b>",
           848.3892
          ],
          [
           "<b>RMSE</b> (estimated RMSE)",
           "<b style=\"color:Colors.INDIGO_PERSIAN;line-height:60px\">Analysis</b>",
           "",
           "[2750:2999]",
           "Chunk index: <b>32</b>",
           789.8646
          ],
          [
           "<b>RMSE</b> (estimated RMSE)",
           "<b style=\"color:Colors.INDIGO_PERSIAN;line-height:60px\">Analysis</b>",
           "",
           "[3000:3249]",
           "Chunk index: <b>33</b>",
           730.2493
          ],
          [
           "<b>RMSE</b> (estimated RMSE)",
           "<b style=\"color:Colors.INDIGO_PERSIAN;line-height:60px\">Analysis</b>",
           "",
           "[3250:3499]",
           "Chunk index: <b>34</b>",
           775.7361
          ],
          [
           "<b>RMSE</b> (estimated RMSE)",
           "<b style=\"color:Colors.INDIGO_PERSIAN;line-height:60px\">Analysis</b>",
           "<span style=\"color:#AD0000\">⚠ <b>Drift detected</b></span>",
           "[3500:3749]",
           "Chunk index: <b>35</b>",
           838.8124
          ],
          [
           "<b>RMSE</b> (estimated RMSE)",
           "<b style=\"color:Colors.INDIGO_PERSIAN;line-height:60px\">Analysis</b>",
           "<span style=\"color:#AD0000\">⚠ <b>Drift detected</b></span>",
           "[3750:3999]",
           "Chunk index: <b>36</b>",
           863.1284
          ],
          [
           "<b>RMSE</b> (estimated RMSE)",
           "<b style=\"color:Colors.INDIGO_PERSIAN;line-height:60px\">Analysis</b>",
           "<span style=\"color:#AD0000\">⚠ <b>Drift detected</b></span>",
           "[4000:4249]",
           "Chunk index: <b>37</b>",
           869.2828
          ],
          [
           "<b>RMSE</b> (estimated RMSE)",
           "<b style=\"color:Colors.INDIGO_PERSIAN;line-height:60px\">Analysis</b>",
           "<span style=\"color:#AD0000\">⚠ <b>Drift detected</b></span>",
           "[4250:4499]",
           "Chunk index: <b>38</b>",
           837.842
          ],
          [
           "<b>RMSE</b> (estimated RMSE)",
           "<b style=\"color:Colors.INDIGO_PERSIAN;line-height:60px\">Analysis</b>",
           "<span style=\"color:#AD0000\">⚠ <b>Drift detected</b></span>",
           "[4500:4749]",
           "Chunk index: <b>39</b>",
           828.8831
          ],
          [
           "<b>RMSE</b> (estimated RMSE)",
           "<b style=\"color:Colors.INDIGO_PERSIAN;line-height:60px\">Analysis</b>",
           "",
           "[4750:4999]",
           "Chunk index: <b>40</b>",
           793.6867
          ],
          [
           "<b>RMSE</b> (estimated RMSE)",
           "<b style=\"color:Colors.INDIGO_PERSIAN;line-height:60px\">Analysis</b>",
           "<span style=\"color:#AD0000\">⚠ <b>Drift detected</b></span>",
           "[5000:5393]",
           "Chunk index: <b>41</b>",
           819.5254
          ]
         ],
         "hovertemplate": "%{customdata[1]} &nbsp; &nbsp; %{customdata[2]} <br />Chunk: <b>%{customdata[3]}</b> &nbsp; &nbsp; %{customdata[4]} <br />%{customdata[0]}: <b>%{customdata[5]}</b><br /><extra></extra>",
         "line": {
          "dash": "dash"
         },
         "marker": {
          "color": "#3b0280",
          "size": 5,
          "symbol": "circle"
         },
         "mode": "markers",
         "name": "<b>RMSE</b> (estimated RMSE)",
         "showlegend": false,
         "type": "scatter",
         "x": [
          21.5,
          22.5,
          23.5,
          24.5,
          25.5,
          26.5,
          27.5,
          28.5,
          29.5,
          30.5,
          31.5,
          32.5,
          33.5,
          34.5,
          35.5,
          36.5,
          37.5,
          38.5,
          39.5,
          40.5,
          41.5
         ],
         "xaxis": "x",
         "y": [
          572.7086344479326,
          763.731007909281,
          805.7391914814646,
          869.2528337640263,
          913.5696329168621,
          945.3547054627229,
          757.5926716191208,
          779.6765545284145,
          825.5500088697412,
          817.8335938986694,
          848.38920848469,
          789.8646134580192,
          730.2493117909478,
          775.7361175388653,
          838.81244902568,
          863.1283747118853,
          869.2827741400278,
          837.8419541559476,
          828.8830627961594,
          793.6866928842664,
          819.5254301118733,
          819.5254301118733
         ],
         "yaxis": "y"
        },
        {
         "hoverinfo": "skip",
         "line": {
          "color": "rgba(0, 0, 0, 0)",
          "shape": "hv"
         },
         "mode": "lines",
         "name": "Confidence band",
         "showlegend": false,
         "type": "scatter",
         "x": [
          21,
          22,
          23,
          24,
          25,
          26,
          27,
          28,
          29,
          30,
          31,
          32,
          33,
          34,
          35,
          36,
          37,
          38,
          39,
          40,
          41,
          42
         ],
         "xaxis": "x",
         "y": [
          870.7816392229685,
          1061.8040126843168,
          1103.8121962565006,
          1167.3258385390623,
          1211.642637691898,
          1243.4277102377587,
          1055.6656763941567,
          1077.7495593034505,
          1123.623013644777,
          1115.9065986737053,
          1146.462213259726,
          1087.9376182330552,
          1028.3223165659838,
          1073.8091223139013,
          1136.8854538007158,
          1161.2013794869213,
          1167.3557789150636,
          1135.9149589309836,
          1126.9560675711953,
          1091.7596976593022,
          1056.9603212348939,
          1056.9603212348939
         ],
         "yaxis": "y"
        },
        {
         "fill": "tonexty",
         "fillcolor": "rgba(59, 2, 128, 0.2)",
         "hoverinfo": "skip",
         "line": {
          "color": "rgba(0, 0, 0, 0)",
          "shape": "hv"
         },
         "mode": "lines",
         "name": "Confidence band",
         "showlegend": false,
         "type": "scatter",
         "x": [
          21,
          22,
          23,
          24,
          25,
          26,
          27,
          28,
          29,
          30,
          31,
          32,
          33,
          34,
          35,
          36,
          37,
          38,
          39,
          40,
          41,
          42
         ],
         "xaxis": "x",
         "y": [
          274.6356296728967,
          465.65800313424506,
          507.6661867064287,
          571.1798289889904,
          615.4966281418262,
          647.281700687687,
          459.5196668440849,
          481.6035497533786,
          527.4770040947053,
          519.7605891236335,
          550.3162037096541,
          491.79160868298334,
          432.1763070159119,
          477.6631127638294,
          540.7394442506442,
          565.0553699368494,
          571.2097693649919,
          539.7689493809117,
          530.8100580211235,
          495.61368810923057,
          582.0905389888528,
          582.0905389888528
         ],
         "yaxis": "y"
        },
        {
         "hoverinfo": "skip",
         "line": {
          "color": "#00c8e5",
          "shape": "hv",
          "width": 2
         },
         "mode": "lines",
         "name": "<b>RMSE</b> (realized RMSE)",
         "showlegend": false,
         "type": "scatter",
         "x": [
          21,
          22,
          23,
          24,
          25,
          26,
          27,
          28,
          29,
          30,
          31,
          32,
          33,
          34,
          35,
          36,
          37,
          38,
          39,
          40,
          41,
          42
         ],
         "xaxis": "x",
         "y": [
          497.278867413763,
          826.0348895952544,
          990.4743950345095,
          936.2088824999535,
          959.2457985077156,
          950.0532540710599,
          911.7018071988292,
          908.8738241660241,
          1115.3217576094125,
          855.0471599871684,
          864.8727269050208,
          849.9761974606421,
          894.3497975959795,
          872.5870374133101,
          827.320827296538,
          1043.386474036436,
          982.988744694712,
          873.7325388269521,
          1032.812121910391,
          824.8615169644063,
          802.3973821875121,
          802.3973821875121
         ],
         "yaxis": "y"
        },
        {
         "customdata": [
          [
           "<b>RMSE</b>",
           "<b style=\"color:Colors.BLUE_SKY_CRAYOLA;line-height:60px\">Analysis</b>",
           "",
           "[0:249]",
           "Chunk index: <b>21</b>",
           497.2789
          ],
          [
           "<b>RMSE</b>",
           "<b style=\"color:Colors.BLUE_SKY_CRAYOLA;line-height:60px\">Analysis</b>",
           "<span style=\"color:#AD0000\">⚠ <b>Drift detected</b></span>",
           "[250:499]",
           "Chunk index: <b>22</b>",
           826.0349
          ],
          [
           "<b>RMSE</b>",
           "<b style=\"color:Colors.BLUE_SKY_CRAYOLA;line-height:60px\">Analysis</b>",
           "<span style=\"color:#AD0000\">⚠ <b>Drift detected</b></span>",
           "[500:749]",
           "Chunk index: <b>23</b>",
           990.4744
          ],
          [
           "<b>RMSE</b>",
           "<b style=\"color:Colors.BLUE_SKY_CRAYOLA;line-height:60px\">Analysis</b>",
           "<span style=\"color:#AD0000\">⚠ <b>Drift detected</b></span>",
           "[750:999]",
           "Chunk index: <b>24</b>",
           936.2089
          ],
          [
           "<b>RMSE</b>",
           "<b style=\"color:Colors.BLUE_SKY_CRAYOLA;line-height:60px\">Analysis</b>",
           "<span style=\"color:#AD0000\">⚠ <b>Drift detected</b></span>",
           "[1000:1249]",
           "Chunk index: <b>25</b>",
           959.2458
          ],
          [
           "<b>RMSE</b>",
           "<b style=\"color:Colors.BLUE_SKY_CRAYOLA;line-height:60px\">Analysis</b>",
           "<span style=\"color:#AD0000\">⚠ <b>Drift detected</b></span>",
           "[1250:1499]",
           "Chunk index: <b>26</b>",
           950.0533
          ],
          [
           "<b>RMSE</b>",
           "<b style=\"color:Colors.BLUE_SKY_CRAYOLA;line-height:60px\">Analysis</b>",
           "<span style=\"color:#AD0000\">⚠ <b>Drift detected</b></span>",
           "[1500:1749]",
           "Chunk index: <b>27</b>",
           911.7018
          ],
          [
           "<b>RMSE</b>",
           "<b style=\"color:Colors.BLUE_SKY_CRAYOLA;line-height:60px\">Analysis</b>",
           "<span style=\"color:#AD0000\">⚠ <b>Drift detected</b></span>",
           "[1750:1999]",
           "Chunk index: <b>28</b>",
           908.8738
          ],
          [
           "<b>RMSE</b>",
           "<b style=\"color:Colors.BLUE_SKY_CRAYOLA;line-height:60px\">Analysis</b>",
           "<span style=\"color:#AD0000\">⚠ <b>Drift detected</b></span>",
           "[2000:2249]",
           "Chunk index: <b>29</b>",
           1115.3218
          ],
          [
           "<b>RMSE</b>",
           "<b style=\"color:Colors.BLUE_SKY_CRAYOLA;line-height:60px\">Analysis</b>",
           "<span style=\"color:#AD0000\">⚠ <b>Drift detected</b></span>",
           "[2250:2499]",
           "Chunk index: <b>30</b>",
           855.0472
          ],
          [
           "<b>RMSE</b>",
           "<b style=\"color:Colors.BLUE_SKY_CRAYOLA;line-height:60px\">Analysis</b>",
           "<span style=\"color:#AD0000\">⚠ <b>Drift detected</b></span>",
           "[2500:2749]",
           "Chunk index: <b>31</b>",
           864.8727
          ],
          [
           "<b>RMSE</b>",
           "<b style=\"color:Colors.BLUE_SKY_CRAYOLA;line-height:60px\">Analysis</b>",
           "<span style=\"color:#AD0000\">⚠ <b>Drift detected</b></span>",
           "[2750:2999]",
           "Chunk index: <b>32</b>",
           849.9762
          ],
          [
           "<b>RMSE</b>",
           "<b style=\"color:Colors.BLUE_SKY_CRAYOLA;line-height:60px\">Analysis</b>",
           "<span style=\"color:#AD0000\">⚠ <b>Drift detected</b></span>",
           "[3000:3249]",
           "Chunk index: <b>33</b>",
           894.3498
          ],
          [
           "<b>RMSE</b>",
           "<b style=\"color:Colors.BLUE_SKY_CRAYOLA;line-height:60px\">Analysis</b>",
           "<span style=\"color:#AD0000\">⚠ <b>Drift detected</b></span>",
           "[3250:3499]",
           "Chunk index: <b>34</b>",
           872.587
          ],
          [
           "<b>RMSE</b>",
           "<b style=\"color:Colors.BLUE_SKY_CRAYOLA;line-height:60px\">Analysis</b>",
           "<span style=\"color:#AD0000\">⚠ <b>Drift detected</b></span>",
           "[3500:3749]",
           "Chunk index: <b>35</b>",
           827.3208
          ],
          [
           "<b>RMSE</b>",
           "<b style=\"color:Colors.BLUE_SKY_CRAYOLA;line-height:60px\">Analysis</b>",
           "<span style=\"color:#AD0000\">⚠ <b>Drift detected</b></span>",
           "[3750:3999]",
           "Chunk index: <b>36</b>",
           1043.3865
          ],
          [
           "<b>RMSE</b>",
           "<b style=\"color:Colors.BLUE_SKY_CRAYOLA;line-height:60px\">Analysis</b>",
           "<span style=\"color:#AD0000\">⚠ <b>Drift detected</b></span>",
           "[4000:4249]",
           "Chunk index: <b>37</b>",
           982.9887
          ],
          [
           "<b>RMSE</b>",
           "<b style=\"color:Colors.BLUE_SKY_CRAYOLA;line-height:60px\">Analysis</b>",
           "<span style=\"color:#AD0000\">⚠ <b>Drift detected</b></span>",
           "[4250:4499]",
           "Chunk index: <b>38</b>",
           873.7325
          ],
          [
           "<b>RMSE</b>",
           "<b style=\"color:Colors.BLUE_SKY_CRAYOLA;line-height:60px\">Analysis</b>",
           "<span style=\"color:#AD0000\">⚠ <b>Drift detected</b></span>",
           "[4500:4749]",
           "Chunk index: <b>39</b>",
           1032.8121
          ],
          [
           "<b>RMSE</b>",
           "<b style=\"color:Colors.BLUE_SKY_CRAYOLA;line-height:60px\">Analysis</b>",
           "<span style=\"color:#AD0000\">⚠ <b>Drift detected</b></span>",
           "[4750:4999]",
           "Chunk index: <b>40</b>",
           824.8615
          ],
          [
           "<b>RMSE</b>",
           "<b style=\"color:Colors.BLUE_SKY_CRAYOLA;line-height:60px\">Analysis</b>",
           "",
           "[5000:5393]",
           "Chunk index: <b>41</b>",
           802.3974
          ]
         ],
         "hovertemplate": "%{customdata[1]} &nbsp; &nbsp; %{customdata[2]} <br />Chunk: <b>%{customdata[3]}</b> &nbsp; &nbsp; %{customdata[4]} <br />%{customdata[0]}: <b>%{customdata[5]}</b><br /><extra></extra>",
         "marker": {
          "color": "#00c8e5",
          "size": 5,
          "symbol": "circle"
         },
         "mode": "markers",
         "name": "<b>RMSE</b> (realized RMSE)",
         "showlegend": false,
         "type": "scatter",
         "x": [
          21.5,
          22.5,
          23.5,
          24.5,
          25.5,
          26.5,
          27.5,
          28.5,
          29.5,
          30.5,
          31.5,
          32.5,
          33.5,
          34.5,
          35.5,
          36.5,
          37.5,
          38.5,
          39.5,
          40.5,
          41.5
         ],
         "xaxis": "x",
         "y": [
          497.278867413763,
          826.0348895952544,
          990.4743950345095,
          936.2088824999535,
          959.2457985077156,
          950.0532540710599,
          911.7018071988292,
          908.8738241660241,
          1115.3217576094125,
          855.0471599871684,
          864.8727269050208,
          849.9761974606421,
          894.3497975959795,
          872.5870374133101,
          827.320827296538,
          1043.386474036436,
          982.988744694712,
          873.7325388269521,
          1032.812121910391,
          824.8615169644063,
          802.3973821875121,
          802.3973821875121
         ],
         "yaxis": "y"
        },
        {
         "hoverinfo": "skip",
         "legendgroup": "alert",
         "marker": {
          "color": "#DD4040",
          "size": 8,
          "symbol": "diamond"
         },
         "mode": "markers",
         "name": "Alert",
         "showlegend": true,
         "type": "scatter",
         "x": [
          24.5,
          25.5,
          26.5,
          29.5,
          30.5,
          31.5,
          35.5,
          36.5,
          37.5,
          38.5,
          39.5,
          41.5
         ],
         "xaxis": "x",
         "y": [
          869.2528337640263,
          913.5696329168621,
          945.3547054627229,
          825.5500088697412,
          817.8335938986694,
          848.38920848469,
          838.81244902568,
          863.1283747118853,
          869.2827741400278,
          837.8419541559476,
          828.8830627961594,
          819.5254301118733
         ],
         "yaxis": "y"
        },
        {
         "hoverinfo": "skip",
         "legendgroup": "alert",
         "marker": {
          "color": "#DD4040",
          "size": 8,
          "symbol": "diamond"
         },
         "mode": "markers",
         "name": "Alert",
         "showlegend": false,
         "type": "scatter",
         "x": [
          22.5,
          23.5,
          24.5,
          25.5,
          26.5,
          27.5,
          28.5,
          29.5,
          30.5,
          31.5,
          32.5,
          33.5,
          34.5,
          35.5,
          36.5,
          37.5,
          38.5,
          39.5,
          40.5
         ],
         "xaxis": "x",
         "y": [
          826.0348895952544,
          990.4743950345095,
          936.2088824999535,
          959.2457985077156,
          950.0532540710599,
          911.7018071988292,
          908.8738241660241,
          1115.3217576094125,
          855.0471599871684,
          864.8727269050208,
          849.9761974606421,
          894.3497975959795,
          872.5870374133101,
          827.320827296538,
          1043.386474036436,
          982.988744694712,
          873.7325388269521,
          1032.812121910391,
          824.8615169644063
         ],
         "yaxis": "y"
        }
       ],
       "layout": {
        "annotations": [
         {
          "font": {
           "size": 16
          },
          "showarrow": false,
          "text": "<b>RMSE</b> (estimated RMSE) vs. <b>RMSE</b> (realized RMSE)",
          "x": 0.47,
          "xanchor": "center",
          "xref": "paper",
          "y": 1,
          "yanchor": "bottom",
          "yref": "paper"
         },
         {
          "showarrow": false,
          "text": "Reference",
          "x": 10,
          "xshift": 10,
          "y": 1,
          "yref": "paper"
         },
         {
          "showarrow": false,
          "text": "Analysis",
          "x": 31,
          "xshift": 15,
          "y": 1,
          "yref": "paper"
         }
        ],
        "autosize": true,
        "hoverlabel": {
         "bgcolor": "white",
         "font": {
          "size": 14
         }
        },
        "legend": {
         "itemclick": false,
         "itemdoubleclick": false,
         "traceorder": "grouped"
        },
        "paper_bgcolor": "rgba(255,255,255,1)",
        "plot_bgcolor": "rgba(255,255,255,1)",
        "shapes": [
         {
          "layer": "below",
          "line": {
           "color": "#666666",
           "width": 1
          },
          "type": "line",
          "x0": 21,
          "x1": 21,
          "xref": "x",
          "y0": 0,
          "y1": 1,
          "yref": "y domain"
         }
        ],
        "template": {
         "data": {
          "bar": [
           {
            "error_x": {
             "color": "#2a3f5f"
            },
            "error_y": {
             "color": "#2a3f5f"
            },
            "marker": {
             "line": {
              "color": "#E5ECF6",
              "width": 0.5
             },
             "pattern": {
              "fillmode": "overlay",
              "size": 10,
              "solidity": 0.2
             }
            },
            "type": "bar"
           }
          ],
          "barpolar": [
           {
            "marker": {
             "line": {
              "color": "#E5ECF6",
              "width": 0.5
             },
             "pattern": {
              "fillmode": "overlay",
              "size": 10,
              "solidity": 0.2
             }
            },
            "type": "barpolar"
           }
          ],
          "carpet": [
           {
            "aaxis": {
             "endlinecolor": "#2a3f5f",
             "gridcolor": "white",
             "linecolor": "white",
             "minorgridcolor": "white",
             "startlinecolor": "#2a3f5f"
            },
            "baxis": {
             "endlinecolor": "#2a3f5f",
             "gridcolor": "white",
             "linecolor": "white",
             "minorgridcolor": "white",
             "startlinecolor": "#2a3f5f"
            },
            "type": "carpet"
           }
          ],
          "choropleth": [
           {
            "colorbar": {
             "outlinewidth": 0,
             "ticks": ""
            },
            "type": "choropleth"
           }
          ],
          "contour": [
           {
            "colorbar": {
             "outlinewidth": 0,
             "ticks": ""
            },
            "colorscale": [
             [
              0,
              "#0d0887"
             ],
             [
              0.1111111111111111,
              "#46039f"
             ],
             [
              0.2222222222222222,
              "#7201a8"
             ],
             [
              0.3333333333333333,
              "#9c179e"
             ],
             [
              0.4444444444444444,
              "#bd3786"
             ],
             [
              0.5555555555555556,
              "#d8576b"
             ],
             [
              0.6666666666666666,
              "#ed7953"
             ],
             [
              0.7777777777777778,
              "#fb9f3a"
             ],
             [
              0.8888888888888888,
              "#fdca26"
             ],
             [
              1,
              "#f0f921"
             ]
            ],
            "type": "contour"
           }
          ],
          "contourcarpet": [
           {
            "colorbar": {
             "outlinewidth": 0,
             "ticks": ""
            },
            "type": "contourcarpet"
           }
          ],
          "heatmap": [
           {
            "colorbar": {
             "outlinewidth": 0,
             "ticks": ""
            },
            "colorscale": [
             [
              0,
              "#0d0887"
             ],
             [
              0.1111111111111111,
              "#46039f"
             ],
             [
              0.2222222222222222,
              "#7201a8"
             ],
             [
              0.3333333333333333,
              "#9c179e"
             ],
             [
              0.4444444444444444,
              "#bd3786"
             ],
             [
              0.5555555555555556,
              "#d8576b"
             ],
             [
              0.6666666666666666,
              "#ed7953"
             ],
             [
              0.7777777777777778,
              "#fb9f3a"
             ],
             [
              0.8888888888888888,
              "#fdca26"
             ],
             [
              1,
              "#f0f921"
             ]
            ],
            "type": "heatmap"
           }
          ],
          "heatmapgl": [
           {
            "colorbar": {
             "outlinewidth": 0,
             "ticks": ""
            },
            "colorscale": [
             [
              0,
              "#0d0887"
             ],
             [
              0.1111111111111111,
              "#46039f"
             ],
             [
              0.2222222222222222,
              "#7201a8"
             ],
             [
              0.3333333333333333,
              "#9c179e"
             ],
             [
              0.4444444444444444,
              "#bd3786"
             ],
             [
              0.5555555555555556,
              "#d8576b"
             ],
             [
              0.6666666666666666,
              "#ed7953"
             ],
             [
              0.7777777777777778,
              "#fb9f3a"
             ],
             [
              0.8888888888888888,
              "#fdca26"
             ],
             [
              1,
              "#f0f921"
             ]
            ],
            "type": "heatmapgl"
           }
          ],
          "histogram": [
           {
            "marker": {
             "pattern": {
              "fillmode": "overlay",
              "size": 10,
              "solidity": 0.2
             }
            },
            "type": "histogram"
           }
          ],
          "histogram2d": [
           {
            "colorbar": {
             "outlinewidth": 0,
             "ticks": ""
            },
            "colorscale": [
             [
              0,
              "#0d0887"
             ],
             [
              0.1111111111111111,
              "#46039f"
             ],
             [
              0.2222222222222222,
              "#7201a8"
             ],
             [
              0.3333333333333333,
              "#9c179e"
             ],
             [
              0.4444444444444444,
              "#bd3786"
             ],
             [
              0.5555555555555556,
              "#d8576b"
             ],
             [
              0.6666666666666666,
              "#ed7953"
             ],
             [
              0.7777777777777778,
              "#fb9f3a"
             ],
             [
              0.8888888888888888,
              "#fdca26"
             ],
             [
              1,
              "#f0f921"
             ]
            ],
            "type": "histogram2d"
           }
          ],
          "histogram2dcontour": [
           {
            "colorbar": {
             "outlinewidth": 0,
             "ticks": ""
            },
            "colorscale": [
             [
              0,
              "#0d0887"
             ],
             [
              0.1111111111111111,
              "#46039f"
             ],
             [
              0.2222222222222222,
              "#7201a8"
             ],
             [
              0.3333333333333333,
              "#9c179e"
             ],
             [
              0.4444444444444444,
              "#bd3786"
             ],
             [
              0.5555555555555556,
              "#d8576b"
             ],
             [
              0.6666666666666666,
              "#ed7953"
             ],
             [
              0.7777777777777778,
              "#fb9f3a"
             ],
             [
              0.8888888888888888,
              "#fdca26"
             ],
             [
              1,
              "#f0f921"
             ]
            ],
            "type": "histogram2dcontour"
           }
          ],
          "mesh3d": [
           {
            "colorbar": {
             "outlinewidth": 0,
             "ticks": ""
            },
            "type": "mesh3d"
           }
          ],
          "parcoords": [
           {
            "line": {
             "colorbar": {
              "outlinewidth": 0,
              "ticks": ""
             }
            },
            "type": "parcoords"
           }
          ],
          "pie": [
           {
            "automargin": true,
            "type": "pie"
           }
          ],
          "scatter": [
           {
            "fillpattern": {
             "fillmode": "overlay",
             "size": 10,
             "solidity": 0.2
            },
            "type": "scatter"
           }
          ],
          "scatter3d": [
           {
            "line": {
             "colorbar": {
              "outlinewidth": 0,
              "ticks": ""
             }
            },
            "marker": {
             "colorbar": {
              "outlinewidth": 0,
              "ticks": ""
             }
            },
            "type": "scatter3d"
           }
          ],
          "scattercarpet": [
           {
            "marker": {
             "colorbar": {
              "outlinewidth": 0,
              "ticks": ""
             }
            },
            "type": "scattercarpet"
           }
          ],
          "scattergeo": [
           {
            "marker": {
             "colorbar": {
              "outlinewidth": 0,
              "ticks": ""
             }
            },
            "type": "scattergeo"
           }
          ],
          "scattergl": [
           {
            "marker": {
             "colorbar": {
              "outlinewidth": 0,
              "ticks": ""
             }
            },
            "type": "scattergl"
           }
          ],
          "scattermapbox": [
           {
            "marker": {
             "colorbar": {
              "outlinewidth": 0,
              "ticks": ""
             }
            },
            "type": "scattermapbox"
           }
          ],
          "scatterpolar": [
           {
            "marker": {
             "colorbar": {
              "outlinewidth": 0,
              "ticks": ""
             }
            },
            "type": "scatterpolar"
           }
          ],
          "scatterpolargl": [
           {
            "marker": {
             "colorbar": {
              "outlinewidth": 0,
              "ticks": ""
             }
            },
            "type": "scatterpolargl"
           }
          ],
          "scatterternary": [
           {
            "marker": {
             "colorbar": {
              "outlinewidth": 0,
              "ticks": ""
             }
            },
            "type": "scatterternary"
           }
          ],
          "surface": [
           {
            "colorbar": {
             "outlinewidth": 0,
             "ticks": ""
            },
            "colorscale": [
             [
              0,
              "#0d0887"
             ],
             [
              0.1111111111111111,
              "#46039f"
             ],
             [
              0.2222222222222222,
              "#7201a8"
             ],
             [
              0.3333333333333333,
              "#9c179e"
             ],
             [
              0.4444444444444444,
              "#bd3786"
             ],
             [
              0.5555555555555556,
              "#d8576b"
             ],
             [
              0.6666666666666666,
              "#ed7953"
             ],
             [
              0.7777777777777778,
              "#fb9f3a"
             ],
             [
              0.8888888888888888,
              "#fdca26"
             ],
             [
              1,
              "#f0f921"
             ]
            ],
            "type": "surface"
           }
          ],
          "table": [
           {
            "cells": {
             "fill": {
              "color": "#EBF0F8"
             },
             "line": {
              "color": "white"
             }
            },
            "header": {
             "fill": {
              "color": "#C8D4E3"
             },
             "line": {
              "color": "white"
             }
            },
            "type": "table"
           }
          ]
         },
         "layout": {
          "annotationdefaults": {
           "arrowcolor": "#2a3f5f",
           "arrowhead": 0,
           "arrowwidth": 1
          },
          "autotypenumbers": "strict",
          "coloraxis": {
           "colorbar": {
            "outlinewidth": 0,
            "ticks": ""
           }
          },
          "colorscale": {
           "diverging": [
            [
             0,
             "#8e0152"
            ],
            [
             0.1,
             "#c51b7d"
            ],
            [
             0.2,
             "#de77ae"
            ],
            [
             0.3,
             "#f1b6da"
            ],
            [
             0.4,
             "#fde0ef"
            ],
            [
             0.5,
             "#f7f7f7"
            ],
            [
             0.6,
             "#e6f5d0"
            ],
            [
             0.7,
             "#b8e186"
            ],
            [
             0.8,
             "#7fbc41"
            ],
            [
             0.9,
             "#4d9221"
            ],
            [
             1,
             "#276419"
            ]
           ],
           "sequential": [
            [
             0,
             "#0d0887"
            ],
            [
             0.1111111111111111,
             "#46039f"
            ],
            [
             0.2222222222222222,
             "#7201a8"
            ],
            [
             0.3333333333333333,
             "#9c179e"
            ],
            [
             0.4444444444444444,
             "#bd3786"
            ],
            [
             0.5555555555555556,
             "#d8576b"
            ],
            [
             0.6666666666666666,
             "#ed7953"
            ],
            [
             0.7777777777777778,
             "#fb9f3a"
            ],
            [
             0.8888888888888888,
             "#fdca26"
            ],
            [
             1,
             "#f0f921"
            ]
           ],
           "sequentialminus": [
            [
             0,
             "#0d0887"
            ],
            [
             0.1111111111111111,
             "#46039f"
            ],
            [
             0.2222222222222222,
             "#7201a8"
            ],
            [
             0.3333333333333333,
             "#9c179e"
            ],
            [
             0.4444444444444444,
             "#bd3786"
            ],
            [
             0.5555555555555556,
             "#d8576b"
            ],
            [
             0.6666666666666666,
             "#ed7953"
            ],
            [
             0.7777777777777778,
             "#fb9f3a"
            ],
            [
             0.8888888888888888,
             "#fdca26"
            ],
            [
             1,
             "#f0f921"
            ]
           ]
          },
          "colorway": [
           "#636efa",
           "#EF553B",
           "#00cc96",
           "#ab63fa",
           "#FFA15A",
           "#19d3f3",
           "#FF6692",
           "#B6E880",
           "#FF97FF",
           "#FECB52"
          ],
          "font": {
           "color": "#2a3f5f"
          },
          "geo": {
           "bgcolor": "white",
           "lakecolor": "white",
           "landcolor": "#E5ECF6",
           "showlakes": true,
           "showland": true,
           "subunitcolor": "white"
          },
          "hoverlabel": {
           "align": "left"
          },
          "hovermode": "closest",
          "mapbox": {
           "style": "light"
          },
          "paper_bgcolor": "white",
          "plot_bgcolor": "#E5ECF6",
          "polar": {
           "angularaxis": {
            "gridcolor": "white",
            "linecolor": "white",
            "ticks": ""
           },
           "bgcolor": "#E5ECF6",
           "radialaxis": {
            "gridcolor": "white",
            "linecolor": "white",
            "ticks": ""
           }
          },
          "scene": {
           "xaxis": {
            "backgroundcolor": "#E5ECF6",
            "gridcolor": "white",
            "gridwidth": 2,
            "linecolor": "white",
            "showbackground": true,
            "ticks": "",
            "zerolinecolor": "white"
           },
           "yaxis": {
            "backgroundcolor": "#E5ECF6",
            "gridcolor": "white",
            "gridwidth": 2,
            "linecolor": "white",
            "showbackground": true,
            "ticks": "",
            "zerolinecolor": "white"
           },
           "zaxis": {
            "backgroundcolor": "#E5ECF6",
            "gridcolor": "white",
            "gridwidth": 2,
            "linecolor": "white",
            "showbackground": true,
            "ticks": "",
            "zerolinecolor": "white"
           }
          },
          "shapedefaults": {
           "line": {
            "color": "#2a3f5f"
           }
          },
          "ternary": {
           "aaxis": {
            "gridcolor": "white",
            "linecolor": "white",
            "ticks": ""
           },
           "baxis": {
            "gridcolor": "white",
            "linecolor": "white",
            "ticks": ""
           },
           "bgcolor": "#E5ECF6",
           "caxis": {
            "gridcolor": "white",
            "linecolor": "white",
            "ticks": ""
           }
          },
          "title": {
           "x": 0.05
          },
          "xaxis": {
           "automargin": true,
           "gridcolor": "white",
           "linecolor": "white",
           "ticks": "",
           "title": {
            "standoff": 15
           },
           "zerolinecolor": "white",
           "zerolinewidth": 2
          },
          "yaxis": {
           "automargin": true,
           "gridcolor": "white",
           "linecolor": "white",
           "ticks": "",
           "title": {
            "standoff": 15
           },
           "zerolinecolor": "white",
           "zerolinewidth": 2
          }
         }
        },
        "title": {
         "text": "<b>Estimated performance (DLE)</b> vs. <b>Realized performance</b>"
        },
        "xaxis": {
         "anchor": "y",
         "autorange": true,
         "domain": [
          0,
          0.94
         ],
         "linecolor": "#3b0280",
         "matches": "x",
         "mirror": true,
         "range": [
          -2.6977751705012465,
          45.18010390066695
         ],
         "showgrid": false,
         "title": {
          "text": "Chunk"
         },
         "type": "linear",
         "zeroline": false
        },
        "yaxis": {
         "anchor": "x",
         "autorange": true,
         "domain": [
          0,
          1
         ],
         "linecolor": "#3b0280",
         "mirror": true,
         "range": [
          68.24191773231011,
          1305.279594053835
         ],
         "showgrid": false,
         "title": {
          "text": "<b>RMSE</b>"
         },
         "type": "linear",
         "zeroline": false
        },
        "yaxis2": {
         "anchor": "x",
         "linecolor": "#3b0280",
         "mirror": true,
         "overlaying": "y",
         "showgrid": false,
         "side": "right",
         "title": {
          "text": "Comparison"
         },
         "zeroline": false
        }
       }
      },
      "image/png": "[encoded data removed]",
      "text/html": [
       "<div>                            <div id=\"cac18b91-3b4e-46c1-ade5-253f85f54c10\" class=\"plotly-graph-div\" style=\"height:500.0px; width:100%;\"></div>            <script type=\"text/javascript\">                require([\"plotly\"], function(Plotly) {                    window.PLOTLYENV=window.PLOTLYENV || {};                                    if (document.getElementById(\"cac18b91-3b4e-46c1-ade5-253f85f54c10\")) {                    Plotly.newPlot(                        \"cac18b91-3b4e-46c1-ade5-253f85f54c10\",                        [{\"hoverinfo\":\"skip\",\"line\":{\"color\":\"#3b0280\",\"dash\":\"dash\",\"shape\":\"hv\",\"width\":2},\"mode\":\"lines\",\"name\":\"\\u003cb\\u003eRMSE\\u003c\\u002fb\\u003e (estimated RMSE)\",\"showlegend\":true,\"x\":[0,1,2,3,4,5,6,7,8,9,10,11,12,13,14,15,16,17,18,19,20,21],\"xaxis\":\"x\",\"y\":[567.595667298751,648.8944858473601,564.6811939878063,591.481303895541,428.16680632342224,485.67593674274764,496.849452288195,487.8186980891766,562.3019021714772,514.3396979592592,507.206860180168,521.999760693339,522.9920312083227,498.0095455791483,464.9452828852687,521.8626019502906,646.1655729717955,501.76268332016815,543.0416670453261,604.9343558633868,446.0060233992042,446.0060233992042],\"yaxis\":\"y\",\"type\":\"scatter\"},{\"customdata\":[[\"\\u003cb\\u003eRMSE\\u003c\\u002fb\\u003e (estimated RMSE)\",\"\\u003cb style=\\\"color:Colors.INDIGO_PERSIAN;line-height:60px\\\"\\u003eReference\\u003c\\u002fb\\u003e\",\"[0:249]\",\"Chunk index: \\u003cb\\u003e0\\u003c\\u002fb\\u003e\",567.5957],[\"\\u003cb\\u003eRMSE\\u003c\\u002fb\\u003e (estimated RMSE)\",\"\\u003cb style=\\\"color:Colors.INDIGO_PERSIAN;line-height:60px\\\"\\u003eReference\\u003c\\u002fb\\u003e\",\"[250:499]\",\"Chunk index: \\u003cb\\u003e1\\u003c\\u002fb\\u003e\",648.8945],[\"\\u003cb\\u003eRMSE\\u003c\\u002fb\\u003e (estimated RMSE)\",\"\\u003cb style=\\\"color:Colors.INDIGO_PERSIAN;line-height:60px\\\"\\u003eReference\\u003c\\u002fb\\u003e\",\"[500:749]\",\"Chunk index: \\u003cb\\u003e2\\u003c\\u002fb\\u003e\",564.6812],[\"\\u003cb\\u003eRMSE\\u003c\\u002fb\\u003e (estimated RMSE)\",\"\\u003cb style=\\\"color:Colors.INDIGO_PERSIAN;line-height:60px\\\"\\u003eReference\\u003c\\u002fb\\u003e\",\"[750:999]\",\"Chunk index: \\u003cb\\u003e3\\u003c\\u002fb\\u003e\",591.4813],[\"\\u003cb\\u003eRMSE\\u003c\\u002fb\\u003e (estimated RMSE)\",\"\\u003cb style=\\\"color:Colors.INDIGO_PERSIAN;line-height:60px\\\"\\u003eReference\\u003c\\u002fb\\u003e\",\"[1000:1249]\",\"Chunk index: \\u003cb\\u003e4\\u003c\\u002fb\\u003e\",428.1668],[\"\\u003cb\\u003eRMSE\\u003c\\u002fb\\u003e (estimated RMSE)\",\"\\u003cb style=\\\"color:Colors.INDIGO_PERSIAN;line-height:60px\\\"\\u003eReference\\u003c\\u002fb\\u003e\",\"[1250:1499]\",\"Chunk index: \\u003cb\\u003e5\\u003c\\u002fb\\u003e\",485.6759],[\"\\u003cb\\u003eRMSE\\u003c\\u002fb\\u003e (estimated RMSE)\",\"\\u003cb style=\\\"color:Colors.INDIGO_PERSIAN;line-height:60px\\\"\\u003eReference\\u003c\\u002fb\\u003e\",\"[1500:1749]\",\"Chunk index: \\u003cb\\u003e6\\u003c\\u002fb\\u003e\",496.8495],[\"\\u003cb\\u003eRMSE\\u003c\\u002fb\\u003e (estimated RMSE)\",\"\\u003cb style=\\\"color:Colors.INDIGO_PERSIAN;line-height:60px\\\"\\u003eReference\\u003c\\u002fb\\u003e\",\"[1750:1999]\",\"Chunk index: \\u003cb\\u003e7\\u003c\\u002fb\\u003e\",487.8187],[\"\\u003cb\\u003eRMSE\\u003c\\u002fb\\u003e (estimated RMSE)\",\"\\u003cb style=\\\"color:Colors.INDIGO_PERSIAN;line-height:60px\\\"\\u003eReference\\u003c\\u002fb\\u003e\",\"[2000:2249]\",\"Chunk index: \\u003cb\\u003e8\\u003c\\u002fb\\u003e\",562.3019],[\"\\u003cb\\u003eRMSE\\u003c\\u002fb\\u003e (estimated RMSE)\",\"\\u003cb style=\\\"color:Colors.INDIGO_PERSIAN;line-height:60px\\\"\\u003eReference\\u003c\\u002fb\\u003e\",\"[2250:2499]\",\"Chunk index: \\u003cb\\u003e9\\u003c\\u002fb\\u003e\",514.3397],[\"\\u003cb\\u003eRMSE\\u003c\\u002fb\\u003e (estimated RMSE)\",\"\\u003cb style=\\\"color:Colors.INDIGO_PERSIAN;line-height:60px\\\"\\u003eReference\\u003c\\u002fb\\u003e\",\"[2500:2749]\",\"Chunk index: \\u003cb\\u003e10\\u003c\\u002fb\\u003e\",507.2069],[\"\\u003cb\\u003eRMSE\\u003c\\u002fb\\u003e (estimated RMSE)\",\"\\u003cb style=\\\"color:Colors.INDIGO_PERSIAN;line-height:60px\\\"\\u003eReference\\u003c\\u002fb\\u003e\",\"[2750:2999]\",\"Chunk index: \\u003cb\\u003e11\\u003c\\u002fb\\u003e\",521.9998],[\"\\u003cb\\u003eRMSE\\u003c\\u002fb\\u003e (estimated RMSE)\",\"\\u003cb style=\\\"color:Colors.INDIGO_PERSIAN;line-height:60px\\\"\\u003eReference\\u003c\\u002fb\\u003e\",\"[3000:3249]\",\"Chunk index: \\u003cb\\u003e12\\u003c\\u002fb\\u003e\",522.992],[\"\\u003cb\\u003eRMSE\\u003c\\u002fb\\u003e (estimated RMSE)\",\"\\u003cb style=\\\"color:Colors.INDIGO_PERSIAN;line-height:60px\\\"\\u003eReference\\u003c\\u002fb\\u003e\",\"[3250:3499]\",\"Chunk index: \\u003cb\\u003e13\\u003c\\u002fb\\u003e\",498.0095],[\"\\u003cb\\u003eRMSE\\u003c\\u002fb\\u003e (estimated RMSE)\",\"\\u003cb style=\\\"color:Colors.INDIGO_PERSIAN;line-height:60px\\\"\\u003eReference\\u003c\\u002fb\\u003e\",\"[3500:3749]\",\"Chunk index: \\u003cb\\u003e14\\u003c\\u002fb\\u003e\",464.9453],[\"\\u003cb\\u003eRMSE\\u003c\\u002fb\\u003e (estimated RMSE)\",\"\\u003cb style=\\\"color:Colors.INDIGO_PERSIAN;line-height:60px\\\"\\u003eReference\\u003c\\u002fb\\u003e\",\"[3750:3999]\",\"Chunk index: \\u003cb\\u003e15\\u003c\\u002fb\\u003e\",521.8626],[\"\\u003cb\\u003eRMSE\\u003c\\u002fb\\u003e (estimated RMSE)\",\"\\u003cb style=\\\"color:Colors.INDIGO_PERSIAN;line-height:60px\\\"\\u003eReference\\u003c\\u002fb\\u003e\",\"[4000:4249]\",\"Chunk index: \\u003cb\\u003e16\\u003c\\u002fb\\u003e\",646.1656],[\"\\u003cb\\u003eRMSE\\u003c\\u002fb\\u003e (estimated RMSE)\",\"\\u003cb style=\\\"color:Colors.INDIGO_PERSIAN;line-height:60px\\\"\\u003eReference\\u003c\\u002fb\\u003e\",\"[4250:4499]\",\"Chunk index: \\u003cb\\u003e17\\u003c\\u002fb\\u003e\",501.7627],[\"\\u003cb\\u003eRMSE\\u003c\\u002fb\\u003e (estimated RMSE)\",\"\\u003cb style=\\\"color:Colors.INDIGO_PERSIAN;line-height:60px\\\"\\u003eReference\\u003c\\u002fb\\u003e\",\"[4500:4749]\",\"Chunk index: \\u003cb\\u003e18\\u003c\\u002fb\\u003e\",543.0417],[\"\\u003cb\\u003eRMSE\\u003c\\u002fb\\u003e (estimated RMSE)\",\"\\u003cb style=\\\"color:Colors.INDIGO_PERSIAN;line-height:60px\\\"\\u003eReference\\u003c\\u002fb\\u003e\",\"[4750:4999]\",\"Chunk index: \\u003cb\\u003e19\\u003c\\u002fb\\u003e\",604.9344],[\"\\u003cb\\u003eRMSE\\u003c\\u002fb\\u003e (estimated RMSE)\",\"\\u003cb style=\\\"color:Colors.INDIGO_PERSIAN;line-height:60px\\\"\\u003eReference\\u003c\\u002fb\\u003e\",\"[5000:5393]\",\"Chunk index: \\u003cb\\u003e20\\u003c\\u002fb\\u003e\",446.006]],\"hovertemplate\":\"%{customdata[1]}\\u003cbr \\u002f\\u003eChunk: \\u003cb\\u003e%{customdata[2]}\\u003c\\u002fb\\u003e &nbsp; &nbsp; %{customdata[3]} \\u003cbr \\u002f\\u003e%{customdata[0]}: \\u003cb\\u003e%{customdata[4]}\\u003c\\u002fb\\u003e\\u003cbr \\u002f\\u003e\\u003cextra\\u003e\\u003c\\u002fextra\\u003e\",\"line\":{\"dash\":\"dash\"},\"marker\":{\"color\":\"#3b0280\",\"size\":5,\"symbol\":\"circle\"},\"mode\":\"markers\",\"name\":\"\\u003cb\\u003eRMSE\\u003c\\u002fb\\u003e (estimated RMSE)\",\"showlegend\":false,\"x\":[0.5,1.5,2.5,3.5,4.5,5.5,6.5,7.5,8.5,9.5,10.5,11.5,12.5,13.5,14.5,15.5,16.5,17.5,18.5,19.5,20.5],\"xaxis\":\"x\",\"y\":[567.595667298751,648.8944858473601,564.6811939878063,591.481303895541,428.16680632342224,485.67593674274764,496.849452288195,487.8186980891766,562.3019021714772,514.3396979592592,507.206860180168,521.999760693339,522.9920312083227,498.0095455791483,464.9452828852687,521.8626019502906,646.1655729717955,501.76268332016815,543.0416670453261,604.9343558633868,446.0060233992042,446.0060233992042],\"yaxis\":\"y\",\"type\":\"scatter\"},{\"hoverinfo\":\"skip\",\"line\":{\"color\":\"rgba(0,0,0,0)\",\"dash\":\"dash\",\"shape\":\"hv\"},\"mode\":\"lines\",\"name\":\"Confidence band\",\"showlegend\":false,\"x\":[0,1,2,3,4,5,6,7,8,9,10,11,12,13,14,15,16,17,18,19,20,21],\"xaxis\":\"x\",\"y\":[865.6686720737869,946.967490622396,862.7541987628422,889.5543086705769,726.2398110984582,783.7489415177836,794.9224570632309,785.8917028642124,860.3749069465131,812.4127027342951,805.279864955204,820.0727654683749,821.0650359833586,796.0825503541841,763.0182876603046,819.9356067253265,944.2385777468314,799.835688095204,841.114671820362,903.0073606384227,683.4409145222247,683.4409145222247],\"yaxis\":\"y\",\"type\":\"scatter\"},{\"fill\":\"tonexty\",\"fillcolor\":\"rgba(0.23137254901960785, 0.00784313725490196, 0.5019607843137255, 0.2)\",\"hoverinfo\":\"skip\",\"line\":{\"color\":\"rgba(0,0,0,0)\",\"dash\":\"dash\",\"shape\":\"hv\"},\"mode\":\"lines\",\"name\":\"Confidence band\",\"showlegend\":true,\"x\":[0,1,2,3,4,5,6,7,8,9,10,11,12,13,14,15,16,17,18,19,20,21],\"xaxis\":\"x\",\"y\":[269.5226625237151,350.8214810723242,266.6081892127704,293.40829912050515,130.09380154838635,187.60293196771175,198.7764475131591,189.74569331414074,264.2288973964413,216.2666931842233,209.13385540513212,223.92675591830312,224.91902643328683,199.93654080411244,166.8722781102328,223.7895971752547,348.09256819675966,203.68967854513227,244.96866227029022,306.86135108835094,208.5711322761837,208.5711322761837],\"yaxis\":\"y\",\"type\":\"scatter\"},{\"hoverinfo\":\"skip\",\"line\":{\"color\":\"#00c8e5\",\"shape\":\"hv\",\"width\":2},\"mode\":\"lines\",\"name\":\"\\u003cb\\u003eRMSE\\u003c\\u002fb\\u003e (realized RMSE)\",\"showlegend\":true,\"x\":[0,1,2,3,4,5,6,7,8,9,10,11,12,13,14,15,16,17,18,19,20,21],\"xaxis\":\"x\",\"y\":[616.6532091011874,666.1114762012899,569.2648360907617,590.0239205256347,372.99346386997354,431.4322760129166,447.8504166610995,440.83897856346607,534.8503772616326,502.57266271536383,531.5404151753644,557.380781347486,560.7555713272176,436.6457075799727,453.2526238798875,480.59858565770753,794.5359112074308,512.4959795977219,445.33188032223575,575.4806863384634,412.43543126123456,412.43543126123456],\"yaxis\":\"y\",\"type\":\"scatter\"},{\"customdata\":[[\"\\u003cb\\u003eRMSE\\u003c\\u002fb\\u003e\",\"\\u003cb style=\\\"color:Colors.BLUE_SKY_CRAYOLA;line-height:60px\\\"\\u003eReference\\u003c\\u002fb\\u003e\",\"[0:249]\",\"Chunk index: \\u003cb\\u003e0\\u003c\\u002fb\\u003e\",616.6532],[\"\\u003cb\\u003eRMSE\\u003c\\u002fb\\u003e\",\"\\u003cb style=\\\"color:Colors.BLUE_SKY_CRAYOLA;line-height:60px\\\"\\u003eReference\\u003c\\u002fb\\u003e\",\"[250:499]\",\"Chunk index: \\u003cb\\u003e1\\u003c\\u002fb\\u003e\",666.1115],[\"\\u003cb\\u003eRMSE\\u003c\\u002fb\\u003e\",\"\\u003cb style=\\\"color:Colors.BLUE_SKY_CRAYOLA;line-height:60px\\\"\\u003eReference\\u003c\\u002fb\\u003e\",\"[500:749]\",\"Chunk index: \\u003cb\\u003e2\\u003c\\u002fb\\u003e\",569.2648],[\"\\u003cb\\u003eRMSE\\u003c\\u002fb\\u003e\",\"\\u003cb style=\\\"color:Colors.BLUE_SKY_CRAYOLA;line-height:60px\\\"\\u003eReference\\u003c\\u002fb\\u003e\",\"[750:999]\",\"Chunk index: \\u003cb\\u003e3\\u003c\\u002fb\\u003e\",590.0239],[\"\\u003cb\\u003eRMSE\\u003c\\u002fb\\u003e\",\"\\u003cb style=\\\"color:Colors.BLUE_SKY_CRAYOLA;line-height:60px\\\"\\u003eReference\\u003c\\u002fb\\u003e\",\"[1000:1249]\",\"Chunk index: \\u003cb\\u003e4\\u003c\\u002fb\\u003e\",372.9935],[\"\\u003cb\\u003eRMSE\\u003c\\u002fb\\u003e\",\"\\u003cb style=\\\"color:Colors.BLUE_SKY_CRAYOLA;line-height:60px\\\"\\u003eReference\\u003c\\u002fb\\u003e\",\"[1250:1499]\",\"Chunk index: \\u003cb\\u003e5\\u003c\\u002fb\\u003e\",431.4323],[\"\\u003cb\\u003eRMSE\\u003c\\u002fb\\u003e\",\"\\u003cb style=\\\"color:Colors.BLUE_SKY_CRAYOLA;line-height:60px\\\"\\u003eReference\\u003c\\u002fb\\u003e\",\"[1500:1749]\",\"Chunk index: \\u003cb\\u003e6\\u003c\\u002fb\\u003e\",447.8504],[\"\\u003cb\\u003eRMSE\\u003c\\u002fb\\u003e\",\"\\u003cb style=\\\"color:Colors.BLUE_SKY_CRAYOLA;line-height:60px\\\"\\u003eReference\\u003c\\u002fb\\u003e\",\"[1750:1999]\",\"Chunk index: \\u003cb\\u003e7\\u003c\\u002fb\\u003e\",440.839],[\"\\u003cb\\u003eRMSE\\u003c\\u002fb\\u003e\",\"\\u003cb style=\\\"color:Colors.BLUE_SKY_CRAYOLA;line-height:60px\\\"\\u003eReference\\u003c\\u002fb\\u003e\",\"[2000:2249]\",\"Chunk index: \\u003cb\\u003e8\\u003c\\u002fb\\u003e\",534.8504],[\"\\u003cb\\u003eRMSE\\u003c\\u002fb\\u003e\",\"\\u003cb style=\\\"color:Colors.BLUE_SKY_CRAYOLA;line-height:60px\\\"\\u003eReference\\u003c\\u002fb\\u003e\",\"[2250:2499]\",\"Chunk index: \\u003cb\\u003e9\\u003c\\u002fb\\u003e\",502.5727],[\"\\u003cb\\u003eRMSE\\u003c\\u002fb\\u003e\",\"\\u003cb style=\\\"color:Colors.BLUE_SKY_CRAYOLA;line-height:60px\\\"\\u003eReference\\u003c\\u002fb\\u003e\",\"[2500:2749]\",\"Chunk index: \\u003cb\\u003e10\\u003c\\u002fb\\u003e\",531.5404],[\"\\u003cb\\u003eRMSE\\u003c\\u002fb\\u003e\",\"\\u003cb style=\\\"color:Colors.BLUE_SKY_CRAYOLA;line-height:60px\\\"\\u003eReference\\u003c\\u002fb\\u003e\",\"[2750:2999]\",\"Chunk index: \\u003cb\\u003e11\\u003c\\u002fb\\u003e\",557.3808],[\"\\u003cb\\u003eRMSE\\u003c\\u002fb\\u003e\",\"\\u003cb style=\\\"color:Colors.BLUE_SKY_CRAYOLA;line-height:60px\\\"\\u003eReference\\u003c\\u002fb\\u003e\",\"[3000:3249]\",\"Chunk index: \\u003cb\\u003e12\\u003c\\u002fb\\u003e\",560.7556],[\"\\u003cb\\u003eRMSE\\u003c\\u002fb\\u003e\",\"\\u003cb style=\\\"color:Colors.BLUE_SKY_CRAYOLA;line-height:60px\\\"\\u003eReference\\u003c\\u002fb\\u003e\",\"[3250:3499]\",\"Chunk index: \\u003cb\\u003e13\\u003c\\u002fb\\u003e\",436.6457],[\"\\u003cb\\u003eRMSE\\u003c\\u002fb\\u003e\",\"\\u003cb style=\\\"color:Colors.BLUE_SKY_CRAYOLA;line-height:60px\\\"\\u003eReference\\u003c\\u002fb\\u003e\",\"[3500:3749]\",\"Chunk index: \\u003cb\\u003e14\\u003c\\u002fb\\u003e\",453.2526],[\"\\u003cb\\u003eRMSE\\u003c\\u002fb\\u003e\",\"\\u003cb style=\\\"color:Colors.BLUE_SKY_CRAYOLA;line-height:60px\\\"\\u003eReference\\u003c\\u002fb\\u003e\",\"[3750:3999]\",\"Chunk index: \\u003cb\\u003e15\\u003c\\u002fb\\u003e\",480.5986],[\"\\u003cb\\u003eRMSE\\u003c\\u002fb\\u003e\",\"\\u003cb style=\\\"color:Colors.BLUE_SKY_CRAYOLA;line-height:60px\\\"\\u003eReference\\u003c\\u002fb\\u003e\",\"[4000:4249]\",\"Chunk index: \\u003cb\\u003e16\\u003c\\u002fb\\u003e\",794.5359],[\"\\u003cb\\u003eRMSE\\u003c\\u002fb\\u003e\",\"\\u003cb style=\\\"color:Colors.BLUE_SKY_CRAYOLA;line-height:60px\\\"\\u003eReference\\u003c\\u002fb\\u003e\",\"[4250:4499]\",\"Chunk index: \\u003cb\\u003e17\\u003c\\u002fb\\u003e\",512.496],[\"\\u003cb\\u003eRMSE\\u003c\\u002fb\\u003e\",\"\\u003cb style=\\\"color:Colors.BLUE_SKY_CRAYOLA;line-height:60px\\\"\\u003eReference\\u003c\\u002fb\\u003e\",\"[4500:4749]\",\"Chunk index: \\u003cb\\u003e18\\u003c\\u002fb\\u003e\",445.3319],[\"\\u003cb\\u003eRMSE\\u003c\\u002fb\\u003e\",\"\\u003cb style=\\\"color:Colors.BLUE_SKY_CRAYOLA;line-height:60px\\\"\\u003eReference\\u003c\\u002fb\\u003e\",\"[4750:4999]\",\"Chunk index: \\u003cb\\u003e19\\u003c\\u002fb\\u003e\",575.4807],[\"\\u003cb\\u003eRMSE\\u003c\\u002fb\\u003e\",\"\\u003cb style=\\\"color:Colors.BLUE_SKY_CRAYOLA;line-height:60px\\\"\\u003eReference\\u003c\\u002fb\\u003e\",\"[5000:5393]\",\"Chunk index: \\u003cb\\u003e20\\u003c\\u002fb\\u003e\",412.4354]],\"hovertemplate\":\"%{customdata[1]}\\u003cbr \\u002f\\u003eChunk: \\u003cb\\u003e%{customdata[2]}\\u003c\\u002fb\\u003e &nbsp; &nbsp; %{customdata[3]} \\u003cbr \\u002f\\u003e%{customdata[0]}: \\u003cb\\u003e%{customdata[4]}\\u003c\\u002fb\\u003e\\u003cbr \\u002f\\u003e\\u003cextra\\u003e\\u003c\\u002fextra\\u003e\",\"marker\":{\"color\":\"#00c8e5\",\"size\":5,\"symbol\":\"circle\"},\"mode\":\"markers\",\"name\":\"\\u003cb\\u003eRMSE\\u003c\\u002fb\\u003e (realized RMSE)\",\"showlegend\":false,\"x\":[0.5,1.5,2.5,3.5,4.5,5.5,6.5,7.5,8.5,9.5,10.5,11.5,12.5,13.5,14.5,15.5,16.5,17.5,18.5,19.5,20.5],\"xaxis\":\"x\",\"y\":[616.6532091011874,666.1114762012899,569.2648360907617,590.0239205256347,372.99346386997354,431.4322760129166,447.8504166610995,440.83897856346607,534.8503772616326,502.57266271536383,531.5404151753644,557.380781347486,560.7555713272176,436.6457075799727,453.2526238798875,480.59858565770753,794.5359112074308,512.4959795977219,445.33188032223575,575.4806863384634,412.43543126123456,412.43543126123456],\"yaxis\":\"y\",\"type\":\"scatter\"},{\"hoverinfo\":\"skip\",\"line\":{\"color\":\"#3b0280\",\"dash\":\"dash\",\"shape\":\"hv\",\"width\":2},\"mode\":\"lines\",\"name\":\"\\u003cb\\u003eRMSE\\u003c\\u002fb\\u003e (estimated RMSE)\",\"showlegend\":false,\"x\":[21,22,23,24,25,26,27,28,29,30,31,32,33,34,35,36,37,38,39,40,41,42],\"xaxis\":\"x\",\"y\":[572.7086344479326,763.731007909281,805.7391914814646,869.2528337640263,913.5696329168621,945.3547054627229,757.5926716191208,779.6765545284145,825.5500088697412,817.8335938986694,848.38920848469,789.8646134580192,730.2493117909478,775.7361175388653,838.81244902568,863.1283747118853,869.2827741400278,837.8419541559476,828.8830627961594,793.6866928842664,819.5254301118733,819.5254301118733],\"yaxis\":\"y\",\"type\":\"scatter\"},{\"customdata\":[[\"\\u003cb\\u003eRMSE\\u003c\\u002fb\\u003e (estimated RMSE)\",\"\\u003cb style=\\\"color:Colors.INDIGO_PERSIAN;line-height:60px\\\"\\u003eAnalysis\\u003c\\u002fb\\u003e\",\"\",\"[0:249]\",\"Chunk index: \\u003cb\\u003e21\\u003c\\u002fb\\u003e\",572.7086],[\"\\u003cb\\u003eRMSE\\u003c\\u002fb\\u003e (estimated RMSE)\",\"\\u003cb style=\\\"color:Colors.INDIGO_PERSIAN;line-height:60px\\\"\\u003eAnalysis\\u003c\\u002fb\\u003e\",\"\",\"[250:499]\",\"Chunk index: \\u003cb\\u003e22\\u003c\\u002fb\\u003e\",763.731],[\"\\u003cb\\u003eRMSE\\u003c\\u002fb\\u003e (estimated RMSE)\",\"\\u003cb style=\\\"color:Colors.INDIGO_PERSIAN;line-height:60px\\\"\\u003eAnalysis\\u003c\\u002fb\\u003e\",\"\",\"[500:749]\",\"Chunk index: \\u003cb\\u003e23\\u003c\\u002fb\\u003e\",805.7392],[\"\\u003cb\\u003eRMSE\\u003c\\u002fb\\u003e (estimated RMSE)\",\"\\u003cb style=\\\"color:Colors.INDIGO_PERSIAN;line-height:60px\\\"\\u003eAnalysis\\u003c\\u002fb\\u003e\",\"\\u003cspan style=\\\"color:#AD0000\\\"\\u003e\\u26a0 \\u003cb\\u003eDrift detected\\u003c\\u002fb\\u003e\\u003c\\u002fspan\\u003e\",\"[750:999]\",\"Chunk index: \\u003cb\\u003e24\\u003c\\u002fb\\u003e\",869.2528],[\"\\u003cb\\u003eRMSE\\u003c\\u002fb\\u003e (estimated RMSE)\",\"\\u003cb style=\\\"color:Colors.INDIGO_PERSIAN;line-height:60px\\\"\\u003eAnalysis\\u003c\\u002fb\\u003e\",\"\\u003cspan style=\\\"color:#AD0000\\\"\\u003e\\u26a0 \\u003cb\\u003eDrift detected\\u003c\\u002fb\\u003e\\u003c\\u002fspan\\u003e\",\"[1000:1249]\",\"Chunk index: \\u003cb\\u003e25\\u003c\\u002fb\\u003e\",913.5696],[\"\\u003cb\\u003eRMSE\\u003c\\u002fb\\u003e (estimated RMSE)\",\"\\u003cb style=\\\"color:Colors.INDIGO_PERSIAN;line-height:60px\\\"\\u003eAnalysis\\u003c\\u002fb\\u003e\",\"\\u003cspan style=\\\"color:#AD0000\\\"\\u003e\\u26a0 \\u003cb\\u003eDrift detected\\u003c\\u002fb\\u003e\\u003c\\u002fspan\\u003e\",\"[1250:1499]\",\"Chunk index: \\u003cb\\u003e26\\u003c\\u002fb\\u003e\",945.3547],[\"\\u003cb\\u003eRMSE\\u003c\\u002fb\\u003e (estimated RMSE)\",\"\\u003cb style=\\\"color:Colors.INDIGO_PERSIAN;line-height:60px\\\"\\u003eAnalysis\\u003c\\u002fb\\u003e\",\"\",\"[1500:1749]\",\"Chunk index: \\u003cb\\u003e27\\u003c\\u002fb\\u003e\",757.5927],[\"\\u003cb\\u003eRMSE\\u003c\\u002fb\\u003e (estimated RMSE)\",\"\\u003cb style=\\\"color:Colors.INDIGO_PERSIAN;line-height:60px\\\"\\u003eAnalysis\\u003c\\u002fb\\u003e\",\"\",\"[1750:1999]\",\"Chunk index: \\u003cb\\u003e28\\u003c\\u002fb\\u003e\",779.6766],[\"\\u003cb\\u003eRMSE\\u003c\\u002fb\\u003e (estimated RMSE)\",\"\\u003cb style=\\\"color:Colors.INDIGO_PERSIAN;line-height:60px\\\"\\u003eAnalysis\\u003c\\u002fb\\u003e\",\"\\u003cspan style=\\\"color:#AD0000\\\"\\u003e\\u26a0 \\u003cb\\u003eDrift detected\\u003c\\u002fb\\u003e\\u003c\\u002fspan\\u003e\",\"[2000:2249]\",\"Chunk index: \\u003cb\\u003e29\\u003c\\u002fb\\u003e\",825.55],[\"\\u003cb\\u003eRMSE\\u003c\\u002fb\\u003e (estimated RMSE)\",\"\\u003cb style=\\\"color:Colors.INDIGO_PERSIAN;line-height:60px\\\"\\u003eAnalysis\\u003c\\u002fb\\u003e\",\"\\u003cspan style=\\\"color:#AD0000\\\"\\u003e\\u26a0 \\u003cb\\u003eDrift detected\\u003c\\u002fb\\u003e\\u003c\\u002fspan\\u003e\",\"[2250:2499]\",\"Chunk index: \\u003cb\\u003e30\\u003c\\u002fb\\u003e\",817.8336],[\"\\u003cb\\u003eRMSE\\u003c\\u002fb\\u003e (estimated RMSE)\",\"\\u003cb style=\\\"color:Colors.INDIGO_PERSIAN;line-height:60px\\\"\\u003eAnalysis\\u003c\\u002fb\\u003e\",\"\\u003cspan style=\\\"color:#AD0000\\\"\\u003e\\u26a0 \\u003cb\\u003eDrift detected\\u003c\\u002fb\\u003e\\u003c\\u002fspan\\u003e\",\"[2500:2749]\",\"Chunk index: \\u003cb\\u003e31\\u003c\\u002fb\\u003e\",848.3892],[\"\\u003cb\\u003eRMSE\\u003c\\u002fb\\u003e (estimated RMSE)\",\"\\u003cb style=\\\"color:Colors.INDIGO_PERSIAN;line-height:60px\\\"\\u003eAnalysis\\u003c\\u002fb\\u003e\",\"\",\"[2750:2999]\",\"Chunk index: \\u003cb\\u003e32\\u003c\\u002fb\\u003e\",789.8646],[\"\\u003cb\\u003eRMSE\\u003c\\u002fb\\u003e (estimated RMSE)\",\"\\u003cb style=\\\"color:Colors.INDIGO_PERSIAN;line-height:60px\\\"\\u003eAnalysis\\u003c\\u002fb\\u003e\",\"\",\"[3000:3249]\",\"Chunk index: \\u003cb\\u003e33\\u003c\\u002fb\\u003e\",730.2493],[\"\\u003cb\\u003eRMSE\\u003c\\u002fb\\u003e (estimated RMSE)\",\"\\u003cb style=\\\"color:Colors.INDIGO_PERSIAN;line-height:60px\\\"\\u003eAnalysis\\u003c\\u002fb\\u003e\",\"\",\"[3250:3499]\",\"Chunk index: \\u003cb\\u003e34\\u003c\\u002fb\\u003e\",775.7361],[\"\\u003cb\\u003eRMSE\\u003c\\u002fb\\u003e (estimated RMSE)\",\"\\u003cb style=\\\"color:Colors.INDIGO_PERSIAN;line-height:60px\\\"\\u003eAnalysis\\u003c\\u002fb\\u003e\",\"\\u003cspan style=\\\"color:#AD0000\\\"\\u003e\\u26a0 \\u003cb\\u003eDrift detected\\u003c\\u002fb\\u003e\\u003c\\u002fspan\\u003e\",\"[3500:3749]\",\"Chunk index: \\u003cb\\u003e35\\u003c\\u002fb\\u003e\",838.8124],[\"\\u003cb\\u003eRMSE\\u003c\\u002fb\\u003e (estimated RMSE)\",\"\\u003cb style=\\\"color:Colors.INDIGO_PERSIAN;line-height:60px\\\"\\u003eAnalysis\\u003c\\u002fb\\u003e\",\"\\u003cspan style=\\\"color:#AD0000\\\"\\u003e\\u26a0 \\u003cb\\u003eDrift detected\\u003c\\u002fb\\u003e\\u003c\\u002fspan\\u003e\",\"[3750:3999]\",\"Chunk index: \\u003cb\\u003e36\\u003c\\u002fb\\u003e\",863.1284],[\"\\u003cb\\u003eRMSE\\u003c\\u002fb\\u003e (estimated RMSE)\",\"\\u003cb style=\\\"color:Colors.INDIGO_PERSIAN;line-height:60px\\\"\\u003eAnalysis\\u003c\\u002fb\\u003e\",\"\\u003cspan style=\\\"color:#AD0000\\\"\\u003e\\u26a0 \\u003cb\\u003eDrift detected\\u003c\\u002fb\\u003e\\u003c\\u002fspan\\u003e\",\"[4000:4249]\",\"Chunk index: \\u003cb\\u003e37\\u003c\\u002fb\\u003e\",869.2828],[\"\\u003cb\\u003eRMSE\\u003c\\u002fb\\u003e (estimated RMSE)\",\"\\u003cb style=\\\"color:Colors.INDIGO_PERSIAN;line-height:60px\\\"\\u003eAnalysis\\u003c\\u002fb\\u003e\",\"\\u003cspan style=\\\"color:#AD0000\\\"\\u003e\\u26a0 \\u003cb\\u003eDrift detected\\u003c\\u002fb\\u003e\\u003c\\u002fspan\\u003e\",\"[4250:4499]\",\"Chunk index: \\u003cb\\u003e38\\u003c\\u002fb\\u003e\",837.842],[\"\\u003cb\\u003eRMSE\\u003c\\u002fb\\u003e (estimated RMSE)\",\"\\u003cb style=\\\"color:Colors.INDIGO_PERSIAN;line-height:60px\\\"\\u003eAnalysis\\u003c\\u002fb\\u003e\",\"\\u003cspan style=\\\"color:#AD0000\\\"\\u003e\\u26a0 \\u003cb\\u003eDrift detected\\u003c\\u002fb\\u003e\\u003c\\u002fspan\\u003e\",\"[4500:4749]\",\"Chunk index: \\u003cb\\u003e39\\u003c\\u002fb\\u003e\",828.8831],[\"\\u003cb\\u003eRMSE\\u003c\\u002fb\\u003e (estimated RMSE)\",\"\\u003cb style=\\\"color:Colors.INDIGO_PERSIAN;line-height:60px\\\"\\u003eAnalysis\\u003c\\u002fb\\u003e\",\"\",\"[4750:4999]\",\"Chunk index: \\u003cb\\u003e40\\u003c\\u002fb\\u003e\",793.6867],[\"\\u003cb\\u003eRMSE\\u003c\\u002fb\\u003e (estimated RMSE)\",\"\\u003cb style=\\\"color:Colors.INDIGO_PERSIAN;line-height:60px\\\"\\u003eAnalysis\\u003c\\u002fb\\u003e\",\"\\u003cspan style=\\\"color:#AD0000\\\"\\u003e\\u26a0 \\u003cb\\u003eDrift detected\\u003c\\u002fb\\u003e\\u003c\\u002fspan\\u003e\",\"[5000:5393]\",\"Chunk index: \\u003cb\\u003e41\\u003c\\u002fb\\u003e\",819.5254]],\"hovertemplate\":\"%{customdata[1]} &nbsp; &nbsp; %{customdata[2]} \\u003cbr \\u002f\\u003eChunk: \\u003cb\\u003e%{customdata[3]}\\u003c\\u002fb\\u003e &nbsp; &nbsp; %{customdata[4]} \\u003cbr \\u002f\\u003e%{customdata[0]}: \\u003cb\\u003e%{customdata[5]}\\u003c\\u002fb\\u003e\\u003cbr \\u002f\\u003e\\u003cextra\\u003e\\u003c\\u002fextra\\u003e\",\"line\":{\"dash\":\"dash\"},\"marker\":{\"color\":\"#3b0280\",\"size\":5,\"symbol\":\"circle\"},\"mode\":\"markers\",\"name\":\"\\u003cb\\u003eRMSE\\u003c\\u002fb\\u003e (estimated RMSE)\",\"showlegend\":false,\"x\":[21.5,22.5,23.5,24.5,25.5,26.5,27.5,28.5,29.5,30.5,31.5,32.5,33.5,34.5,35.5,36.5,37.5,38.5,39.5,40.5,41.5],\"xaxis\":\"x\",\"y\":[572.7086344479326,763.731007909281,805.7391914814646,869.2528337640263,913.5696329168621,945.3547054627229,757.5926716191208,779.6765545284145,825.5500088697412,817.8335938986694,848.38920848469,789.8646134580192,730.2493117909478,775.7361175388653,838.81244902568,863.1283747118853,869.2827741400278,837.8419541559476,828.8830627961594,793.6866928842664,819.5254301118733,819.5254301118733],\"yaxis\":\"y\",\"type\":\"scatter\"},{\"hoverinfo\":\"skip\",\"line\":{\"color\":\"rgba(0,0,0,0)\",\"shape\":\"hv\"},\"mode\":\"lines\",\"name\":\"Confidence band\",\"showlegend\":false,\"x\":[21,22,23,24,25,26,27,28,29,30,31,32,33,34,35,36,37,38,39,40,41,42],\"xaxis\":\"x\",\"y\":[870.7816392229685,1061.8040126843168,1103.8121962565006,1167.3258385390623,1211.642637691898,1243.4277102377587,1055.6656763941567,1077.7495593034505,1123.623013644777,1115.9065986737053,1146.462213259726,1087.9376182330552,1028.3223165659838,1073.8091223139013,1136.8854538007158,1161.2013794869213,1167.3557789150636,1135.9149589309836,1126.9560675711953,1091.7596976593022,1056.9603212348939,1056.9603212348939],\"yaxis\":\"y\",\"type\":\"scatter\"},{\"fill\":\"tonexty\",\"fillcolor\":\"rgba(0.23137254901960785, 0.00784313725490196, 0.5019607843137255, 0.2)\",\"hoverinfo\":\"skip\",\"line\":{\"color\":\"rgba(0,0,0,0)\",\"shape\":\"hv\"},\"mode\":\"lines\",\"name\":\"Confidence band\",\"showlegend\":false,\"x\":[21,22,23,24,25,26,27,28,29,30,31,32,33,34,35,36,37,38,39,40,41,42],\"xaxis\":\"x\",\"y\":[274.6356296728967,465.65800313424506,507.6661867064287,571.1798289889904,615.4966281418262,647.281700687687,459.5196668440849,481.6035497533786,527.4770040947053,519.7605891236335,550.3162037096541,491.79160868298334,432.1763070159119,477.6631127638294,540.7394442506442,565.0553699368494,571.2097693649919,539.7689493809117,530.8100580211235,495.61368810923057,582.0905389888528,582.0905389888528],\"yaxis\":\"y\",\"type\":\"scatter\"},{\"hoverinfo\":\"skip\",\"line\":{\"color\":\"#00c8e5\",\"shape\":\"hv\",\"width\":2},\"mode\":\"lines\",\"name\":\"\\u003cb\\u003eRMSE\\u003c\\u002fb\\u003e (realized RMSE)\",\"showlegend\":false,\"x\":[21,22,23,24,25,26,27,28,29,30,31,32,33,34,35,36,37,38,39,40,41,42],\"xaxis\":\"x\",\"y\":[497.278867413763,826.0348895952544,990.4743950345095,936.2088824999535,959.2457985077156,950.0532540710599,911.7018071988292,908.8738241660241,1115.3217576094125,855.0471599871684,864.8727269050208,849.9761974606421,894.3497975959795,872.5870374133101,827.320827296538,1043.386474036436,982.988744694712,873.7325388269521,1032.812121910391,824.8615169644063,802.3973821875121,802.3973821875121],\"yaxis\":\"y\",\"type\":\"scatter\"},{\"customdata\":[[\"\\u003cb\\u003eRMSE\\u003c\\u002fb\\u003e\",\"\\u003cb style=\\\"color:Colors.BLUE_SKY_CRAYOLA;line-height:60px\\\"\\u003eAnalysis\\u003c\\u002fb\\u003e\",\"\",\"[0:249]\",\"Chunk index: \\u003cb\\u003e21\\u003c\\u002fb\\u003e\",497.2789],[\"\\u003cb\\u003eRMSE\\u003c\\u002fb\\u003e\",\"\\u003cb style=\\\"color:Colors.BLUE_SKY_CRAYOLA;line-height:60px\\\"\\u003eAnalysis\\u003c\\u002fb\\u003e\",\"\\u003cspan style=\\\"color:#AD0000\\\"\\u003e\\u26a0 \\u003cb\\u003eDrift detected\\u003c\\u002fb\\u003e\\u003c\\u002fspan\\u003e\",\"[250:499]\",\"Chunk index: \\u003cb\\u003e22\\u003c\\u002fb\\u003e\",826.0349],[\"\\u003cb\\u003eRMSE\\u003c\\u002fb\\u003e\",\"\\u003cb style=\\\"color:Colors.BLUE_SKY_CRAYOLA;line-height:60px\\\"\\u003eAnalysis\\u003c\\u002fb\\u003e\",\"\\u003cspan style=\\\"color:#AD0000\\\"\\u003e\\u26a0 \\u003cb\\u003eDrift detected\\u003c\\u002fb\\u003e\\u003c\\u002fspan\\u003e\",\"[500:749]\",\"Chunk index: \\u003cb\\u003e23\\u003c\\u002fb\\u003e\",990.4744],[\"\\u003cb\\u003eRMSE\\u003c\\u002fb\\u003e\",\"\\u003cb style=\\\"color:Colors.BLUE_SKY_CRAYOLA;line-height:60px\\\"\\u003eAnalysis\\u003c\\u002fb\\u003e\",\"\\u003cspan style=\\\"color:#AD0000\\\"\\u003e\\u26a0 \\u003cb\\u003eDrift detected\\u003c\\u002fb\\u003e\\u003c\\u002fspan\\u003e\",\"[750:999]\",\"Chunk index: \\u003cb\\u003e24\\u003c\\u002fb\\u003e\",936.2089],[\"\\u003cb\\u003eRMSE\\u003c\\u002fb\\u003e\",\"\\u003cb style=\\\"color:Colors.BLUE_SKY_CRAYOLA;line-height:60px\\\"\\u003eAnalysis\\u003c\\u002fb\\u003e\",\"\\u003cspan style=\\\"color:#AD0000\\\"\\u003e\\u26a0 \\u003cb\\u003eDrift detected\\u003c\\u002fb\\u003e\\u003c\\u002fspan\\u003e\",\"[1000:1249]\",\"Chunk index: \\u003cb\\u003e25\\u003c\\u002fb\\u003e\",959.2458],[\"\\u003cb\\u003eRMSE\\u003c\\u002fb\\u003e\",\"\\u003cb style=\\\"color:Colors.BLUE_SKY_CRAYOLA;line-height:60px\\\"\\u003eAnalysis\\u003c\\u002fb\\u003e\",\"\\u003cspan style=\\\"color:#AD0000\\\"\\u003e\\u26a0 \\u003cb\\u003eDrift detected\\u003c\\u002fb\\u003e\\u003c\\u002fspan\\u003e\",\"[1250:1499]\",\"Chunk index: \\u003cb\\u003e26\\u003c\\u002fb\\u003e\",950.0533],[\"\\u003cb\\u003eRMSE\\u003c\\u002fb\\u003e\",\"\\u003cb style=\\\"color:Colors.BLUE_SKY_CRAYOLA;line-height:60px\\\"\\u003eAnalysis\\u003c\\u002fb\\u003e\",\"\\u003cspan style=\\\"color:#AD0000\\\"\\u003e\\u26a0 \\u003cb\\u003eDrift detected\\u003c\\u002fb\\u003e\\u003c\\u002fspan\\u003e\",\"[1500:1749]\",\"Chunk index: \\u003cb\\u003e27\\u003c\\u002fb\\u003e\",911.7018],[\"\\u003cb\\u003eRMSE\\u003c\\u002fb\\u003e\",\"\\u003cb style=\\\"color:Colors.BLUE_SKY_CRAYOLA;line-height:60px\\\"\\u003eAnalysis\\u003c\\u002fb\\u003e\",\"\\u003cspan style=\\\"color:#AD0000\\\"\\u003e\\u26a0 \\u003cb\\u003eDrift detected\\u003c\\u002fb\\u003e\\u003c\\u002fspan\\u003e\",\"[1750:1999]\",\"Chunk index: \\u003cb\\u003e28\\u003c\\u002fb\\u003e\",908.8738],[\"\\u003cb\\u003eRMSE\\u003c\\u002fb\\u003e\",\"\\u003cb style=\\\"color:Colors.BLUE_SKY_CRAYOLA;line-height:60px\\\"\\u003eAnalysis\\u003c\\u002fb\\u003e\",\"\\u003cspan style=\\\"color:#AD0000\\\"\\u003e\\u26a0 \\u003cb\\u003eDrift detected\\u003c\\u002fb\\u003e\\u003c\\u002fspan\\u003e\",\"[2000:2249]\",\"Chunk index: \\u003cb\\u003e29\\u003c\\u002fb\\u003e\",1115.3218],[\"\\u003cb\\u003eRMSE\\u003c\\u002fb\\u003e\",\"\\u003cb style=\\\"color:Colors.BLUE_SKY_CRAYOLA;line-height:60px\\\"\\u003eAnalysis\\u003c\\u002fb\\u003e\",\"\\u003cspan style=\\\"color:#AD0000\\\"\\u003e\\u26a0 \\u003cb\\u003eDrift detected\\u003c\\u002fb\\u003e\\u003c\\u002fspan\\u003e\",\"[2250:2499]\",\"Chunk index: \\u003cb\\u003e30\\u003c\\u002fb\\u003e\",855.0472],[\"\\u003cb\\u003eRMSE\\u003c\\u002fb\\u003e\",\"\\u003cb style=\\\"color:Colors.BLUE_SKY_CRAYOLA;line-height:60px\\\"\\u003eAnalysis\\u003c\\u002fb\\u003e\",\"\\u003cspan style=\\\"color:#AD0000\\\"\\u003e\\u26a0 \\u003cb\\u003eDrift detected\\u003c\\u002fb\\u003e\\u003c\\u002fspan\\u003e\",\"[2500:2749]\",\"Chunk index: \\u003cb\\u003e31\\u003c\\u002fb\\u003e\",864.8727],[\"\\u003cb\\u003eRMSE\\u003c\\u002fb\\u003e\",\"\\u003cb style=\\\"color:Colors.BLUE_SKY_CRAYOLA;line-height:60px\\\"\\u003eAnalysis\\u003c\\u002fb\\u003e\",\"\\u003cspan style=\\\"color:#AD0000\\\"\\u003e\\u26a0 \\u003cb\\u003eDrift detected\\u003c\\u002fb\\u003e\\u003c\\u002fspan\\u003e\",\"[2750:2999]\",\"Chunk index: \\u003cb\\u003e32\\u003c\\u002fb\\u003e\",849.9762],[\"\\u003cb\\u003eRMSE\\u003c\\u002fb\\u003e\",\"\\u003cb style=\\\"color:Colors.BLUE_SKY_CRAYOLA;line-height:60px\\\"\\u003eAnalysis\\u003c\\u002fb\\u003e\",\"\\u003cspan style=\\\"color:#AD0000\\\"\\u003e\\u26a0 \\u003cb\\u003eDrift detected\\u003c\\u002fb\\u003e\\u003c\\u002fspan\\u003e\",\"[3000:3249]\",\"Chunk index: \\u003cb\\u003e33\\u003c\\u002fb\\u003e\",894.3498],[\"\\u003cb\\u003eRMSE\\u003c\\u002fb\\u003e\",\"\\u003cb style=\\\"color:Colors.BLUE_SKY_CRAYOLA;line-height:60px\\\"\\u003eAnalysis\\u003c\\u002fb\\u003e\",\"\\u003cspan style=\\\"color:#AD0000\\\"\\u003e\\u26a0 \\u003cb\\u003eDrift detected\\u003c\\u002fb\\u003e\\u003c\\u002fspan\\u003e\",\"[3250:3499]\",\"Chunk index: \\u003cb\\u003e34\\u003c\\u002fb\\u003e\",872.587],[\"\\u003cb\\u003eRMSE\\u003c\\u002fb\\u003e\",\"\\u003cb style=\\\"color:Colors.BLUE_SKY_CRAYOLA;line-height:60px\\\"\\u003eAnalysis\\u003c\\u002fb\\u003e\",\"\\u003cspan style=\\\"color:#AD0000\\\"\\u003e\\u26a0 \\u003cb\\u003eDrift detected\\u003c\\u002fb\\u003e\\u003c\\u002fspan\\u003e\",\"[3500:3749]\",\"Chunk index: \\u003cb\\u003e35\\u003c\\u002fb\\u003e\",827.3208],[\"\\u003cb\\u003eRMSE\\u003c\\u002fb\\u003e\",\"\\u003cb style=\\\"color:Colors.BLUE_SKY_CRAYOLA;line-height:60px\\\"\\u003eAnalysis\\u003c\\u002fb\\u003e\",\"\\u003cspan style=\\\"color:#AD0000\\\"\\u003e\\u26a0 \\u003cb\\u003eDrift detected\\u003c\\u002fb\\u003e\\u003c\\u002fspan\\u003e\",\"[3750:3999]\",\"Chunk index: \\u003cb\\u003e36\\u003c\\u002fb\\u003e\",1043.3865],[\"\\u003cb\\u003eRMSE\\u003c\\u002fb\\u003e\",\"\\u003cb style=\\\"color:Colors.BLUE_SKY_CRAYOLA;line-height:60px\\\"\\u003eAnalysis\\u003c\\u002fb\\u003e\",\"\\u003cspan style=\\\"color:#AD0000\\\"\\u003e\\u26a0 \\u003cb\\u003eDrift detected\\u003c\\u002fb\\u003e\\u003c\\u002fspan\\u003e\",\"[4000:4249]\",\"Chunk index: \\u003cb\\u003e37\\u003c\\u002fb\\u003e\",982.9887],[\"\\u003cb\\u003eRMSE\\u003c\\u002fb\\u003e\",\"\\u003cb style=\\\"color:Colors.BLUE_SKY_CRAYOLA;line-height:60px\\\"\\u003eAnalysis\\u003c\\u002fb\\u003e\",\"\\u003cspan style=\\\"color:#AD0000\\\"\\u003e\\u26a0 \\u003cb\\u003eDrift detected\\u003c\\u002fb\\u003e\\u003c\\u002fspan\\u003e\",\"[4250:4499]\",\"Chunk index: \\u003cb\\u003e38\\u003c\\u002fb\\u003e\",873.7325],[\"\\u003cb\\u003eRMSE\\u003c\\u002fb\\u003e\",\"\\u003cb style=\\\"color:Colors.BLUE_SKY_CRAYOLA;line-height:60px\\\"\\u003eAnalysis\\u003c\\u002fb\\u003e\",\"\\u003cspan style=\\\"color:#AD0000\\\"\\u003e\\u26a0 \\u003cb\\u003eDrift detected\\u003c\\u002fb\\u003e\\u003c\\u002fspan\\u003e\",\"[4500:4749]\",\"Chunk index: \\u003cb\\u003e39\\u003c\\u002fb\\u003e\",1032.8121],[\"\\u003cb\\u003eRMSE\\u003c\\u002fb\\u003e\",\"\\u003cb style=\\\"color:Colors.BLUE_SKY_CRAYOLA;line-height:60px\\\"\\u003eAnalysis\\u003c\\u002fb\\u003e\",\"\\u003cspan style=\\\"color:#AD0000\\\"\\u003e\\u26a0 \\u003cb\\u003eDrift detected\\u003c\\u002fb\\u003e\\u003c\\u002fspan\\u003e\",\"[4750:4999]\",\"Chunk index: \\u003cb\\u003e40\\u003c\\u002fb\\u003e\",824.8615],[\"\\u003cb\\u003eRMSE\\u003c\\u002fb\\u003e\",\"\\u003cb style=\\\"color:Colors.BLUE_SKY_CRAYOLA;line-height:60px\\\"\\u003eAnalysis\\u003c\\u002fb\\u003e\",\"\",\"[5000:5393]\",\"Chunk index: \\u003cb\\u003e41\\u003c\\u002fb\\u003e\",802.3974]],\"hovertemplate\":\"%{customdata[1]} &nbsp; &nbsp; %{customdata[2]} \\u003cbr \\u002f\\u003eChunk: \\u003cb\\u003e%{customdata[3]}\\u003c\\u002fb\\u003e &nbsp; &nbsp; %{customdata[4]} \\u003cbr \\u002f\\u003e%{customdata[0]}: \\u003cb\\u003e%{customdata[5]}\\u003c\\u002fb\\u003e\\u003cbr \\u002f\\u003e\\u003cextra\\u003e\\u003c\\u002fextra\\u003e\",\"marker\":{\"color\":\"#00c8e5\",\"size\":5,\"symbol\":\"circle\"},\"mode\":\"markers\",\"name\":\"\\u003cb\\u003eRMSE\\u003c\\u002fb\\u003e (realized RMSE)\",\"showlegend\":false,\"x\":[21.5,22.5,23.5,24.5,25.5,26.5,27.5,28.5,29.5,30.5,31.5,32.5,33.5,34.5,35.5,36.5,37.5,38.5,39.5,40.5,41.5],\"xaxis\":\"x\",\"y\":[497.278867413763,826.0348895952544,990.4743950345095,936.2088824999535,959.2457985077156,950.0532540710599,911.7018071988292,908.8738241660241,1115.3217576094125,855.0471599871684,864.8727269050208,849.9761974606421,894.3497975959795,872.5870374133101,827.320827296538,1043.386474036436,982.988744694712,873.7325388269521,1032.812121910391,824.8615169644063,802.3973821875121,802.3973821875121],\"yaxis\":\"y\",\"type\":\"scatter\"},{\"hoverinfo\":\"skip\",\"legendgroup\":\"alert\",\"marker\":{\"color\":\"#DD4040\",\"size\":8,\"symbol\":\"diamond\"},\"mode\":\"markers\",\"name\":\"Alert\",\"showlegend\":true,\"x\":[24.5,25.5,26.5,29.5,30.5,31.5,35.5,36.5,37.5,38.5,39.5,41.5],\"xaxis\":\"x\",\"y\":[869.2528337640263,913.5696329168621,945.3547054627229,825.5500088697412,817.8335938986694,848.38920848469,838.81244902568,863.1283747118853,869.2827741400278,837.8419541559476,828.8830627961594,819.5254301118733],\"yaxis\":\"y\",\"type\":\"scatter\"},{\"hoverinfo\":\"skip\",\"legendgroup\":\"alert\",\"marker\":{\"color\":\"#DD4040\",\"size\":8,\"symbol\":\"diamond\"},\"mode\":\"markers\",\"name\":\"Alert\",\"showlegend\":false,\"x\":[22.5,23.5,24.5,25.5,26.5,27.5,28.5,29.5,30.5,31.5,32.5,33.5,34.5,35.5,36.5,37.5,38.5,39.5,40.5],\"xaxis\":\"x\",\"y\":[826.0348895952544,990.4743950345095,936.2088824999535,959.2457985077156,950.0532540710599,911.7018071988292,908.8738241660241,1115.3217576094125,855.0471599871684,864.8727269050208,849.9761974606421,894.3497975959795,872.5870374133101,827.320827296538,1043.386474036436,982.988744694712,873.7325388269521,1032.812121910391,824.8615169644063],\"yaxis\":\"y\",\"type\":\"scatter\"}],                        {\"height\":500.0,\"hoverlabel\":{\"bgcolor\":\"white\",\"font\":{\"size\":14}},\"legend\":{\"itemclick\":false,\"itemdoubleclick\":false,\"traceorder\":\"grouped\"},\"paper_bgcolor\":\"rgba(255,255,255,1)\",\"plot_bgcolor\":\"rgba(255,255,255,1)\",\"title\":{\"text\":\"\\u003cb\\u003eEstimated performance (DLE)\\u003c\\u002fb\\u003e vs. \\u003cb\\u003eRealized performance\\u003c\\u002fb\\u003e\"},\"xaxis\":{\"linecolor\":\"#3b0280\",\"mirror\":true,\"showgrid\":false,\"title\":{\"text\":\"Chunk\"},\"zeroline\":false,\"anchor\":\"y\",\"domain\":[0.0,0.94],\"matches\":\"x\"},\"yaxis\":{\"linecolor\":\"#3b0280\",\"mirror\":true,\"showgrid\":false,\"title\":{\"text\":\"\\u003cb\\u003eRMSE\\u003c\\u002fb\\u003e\"},\"zeroline\":false,\"anchor\":\"x\",\"domain\":[0.0,1.0]},\"template\":{\"data\":{\"histogram2dcontour\":[{\"type\":\"histogram2dcontour\",\"colorbar\":{\"outlinewidth\":0,\"ticks\":\"\"},\"colorscale\":[[0.0,\"#0d0887\"],[0.1111111111111111,\"#46039f\"],[0.2222222222222222,\"#7201a8\"],[0.3333333333333333,\"#9c179e\"],[0.4444444444444444,\"#bd3786\"],[0.5555555555555556,\"#d8576b\"],[0.6666666666666666,\"#ed7953\"],[0.7777777777777778,\"#fb9f3a\"],[0.8888888888888888,\"#fdca26\"],[1.0,\"#f0f921\"]]}],\"choropleth\":[{\"type\":\"choropleth\",\"colorbar\":{\"outlinewidth\":0,\"ticks\":\"\"}}],\"histogram2d\":[{\"type\":\"histogram2d\",\"colorbar\":{\"outlinewidth\":0,\"ticks\":\"\"},\"colorscale\":[[0.0,\"#0d0887\"],[0.1111111111111111,\"#46039f\"],[0.2222222222222222,\"#7201a8\"],[0.3333333333333333,\"#9c179e\"],[0.4444444444444444,\"#bd3786\"],[0.5555555555555556,\"#d8576b\"],[0.6666666666666666,\"#ed7953\"],[0.7777777777777778,\"#fb9f3a\"],[0.8888888888888888,\"#fdca26\"],[1.0,\"#f0f921\"]]}],\"heatmap\":[{\"type\":\"heatmap\",\"colorbar\":{\"outlinewidth\":0,\"ticks\":\"\"},\"colorscale\":[[0.0,\"#0d0887\"],[0.1111111111111111,\"#46039f\"],[0.2222222222222222,\"#7201a8\"],[0.3333333333333333,\"#9c179e\"],[0.4444444444444444,\"#bd3786\"],[0.5555555555555556,\"#d8576b\"],[0.6666666666666666,\"#ed7953\"],[0.7777777777777778,\"#fb9f3a\"],[0.8888888888888888,\"#fdca26\"],[1.0,\"#f0f921\"]]}],\"heatmapgl\":[{\"type\":\"heatmapgl\",\"colorbar\":{\"outlinewidth\":0,\"ticks\":\"\"},\"colorscale\":[[0.0,\"#0d0887\"],[0.1111111111111111,\"#46039f\"],[0.2222222222222222,\"#7201a8\"],[0.3333333333333333,\"#9c179e\"],[0.4444444444444444,\"#bd3786\"],[0.5555555555555556,\"#d8576b\"],[0.6666666666666666,\"#ed7953\"],[0.7777777777777778,\"#fb9f3a\"],[0.8888888888888888,\"#fdca26\"],[1.0,\"#f0f921\"]]}],\"contourcarpet\":[{\"type\":\"contourcarpet\",\"colorbar\":{\"outlinewidth\":0,\"ticks\":\"\"}}],\"contour\":[{\"type\":\"contour\",\"colorbar\":{\"outlinewidth\":0,\"ticks\":\"\"},\"colorscale\":[[0.0,\"#0d0887\"],[0.1111111111111111,\"#46039f\"],[0.2222222222222222,\"#7201a8\"],[0.3333333333333333,\"#9c179e\"],[0.4444444444444444,\"#bd3786\"],[0.5555555555555556,\"#d8576b\"],[0.6666666666666666,\"#ed7953\"],[0.7777777777777778,\"#fb9f3a\"],[0.8888888888888888,\"#fdca26\"],[1.0,\"#f0f921\"]]}],\"surface\":[{\"type\":\"surface\",\"colorbar\":{\"outlinewidth\":0,\"ticks\":\"\"},\"colorscale\":[[0.0,\"#0d0887\"],[0.1111111111111111,\"#46039f\"],[0.2222222222222222,\"#7201a8\"],[0.3333333333333333,\"#9c179e\"],[0.4444444444444444,\"#bd3786\"],[0.5555555555555556,\"#d8576b\"],[0.6666666666666666,\"#ed7953\"],[0.7777777777777778,\"#fb9f3a\"],[0.8888888888888888,\"#fdca26\"],[1.0,\"#f0f921\"]]}],\"mesh3d\":[{\"type\":\"mesh3d\",\"colorbar\":{\"outlinewidth\":0,\"ticks\":\"\"}}],\"scatter\":[{\"fillpattern\":{\"fillmode\":\"overlay\",\"size\":10,\"solidity\":0.2},\"type\":\"scatter\"}],\"parcoords\":[{\"type\":\"parcoords\",\"line\":{\"colorbar\":{\"outlinewidth\":0,\"ticks\":\"\"}}}],\"scatterpolargl\":[{\"type\":\"scatterpolargl\",\"marker\":{\"colorbar\":{\"outlinewidth\":0,\"ticks\":\"\"}}}],\"bar\":[{\"error_x\":{\"color\":\"#2a3f5f\"},\"error_y\":{\"color\":\"#2a3f5f\"},\"marker\":{\"line\":{\"color\":\"#E5ECF6\",\"width\":0.5},\"pattern\":{\"fillmode\":\"overlay\",\"size\":10,\"solidity\":0.2}},\"type\":\"bar\"}],\"scattergeo\":[{\"type\":\"scattergeo\",\"marker\":{\"colorbar\":{\"outlinewidth\":0,\"ticks\":\"\"}}}],\"scatterpolar\":[{\"type\":\"scatterpolar\",\"marker\":{\"colorbar\":{\"outlinewidth\":0,\"ticks\":\"\"}}}],\"histogram\":[{\"marker\":{\"pattern\":{\"fillmode\":\"overlay\",\"size\":10,\"solidity\":0.2}},\"type\":\"histogram\"}],\"scattergl\":[{\"type\":\"scattergl\",\"marker\":{\"colorbar\":{\"outlinewidth\":0,\"ticks\":\"\"}}}],\"scatter3d\":[{\"type\":\"scatter3d\",\"line\":{\"colorbar\":{\"outlinewidth\":0,\"ticks\":\"\"}},\"marker\":{\"colorbar\":{\"outlinewidth\":0,\"ticks\":\"\"}}}],\"scattermapbox\":[{\"type\":\"scattermapbox\",\"marker\":{\"colorbar\":{\"outlinewidth\":0,\"ticks\":\"\"}}}],\"scatterternary\":[{\"type\":\"scatterternary\",\"marker\":{\"colorbar\":{\"outlinewidth\":0,\"ticks\":\"\"}}}],\"scattercarpet\":[{\"type\":\"scattercarpet\",\"marker\":{\"colorbar\":{\"outlinewidth\":0,\"ticks\":\"\"}}}],\"carpet\":[{\"aaxis\":{\"endlinecolor\":\"#2a3f5f\",\"gridcolor\":\"white\",\"linecolor\":\"white\",\"minorgridcolor\":\"white\",\"startlinecolor\":\"#2a3f5f\"},\"baxis\":{\"endlinecolor\":\"#2a3f5f\",\"gridcolor\":\"white\",\"linecolor\":\"white\",\"minorgridcolor\":\"white\",\"startlinecolor\":\"#2a3f5f\"},\"type\":\"carpet\"}],\"table\":[{\"cells\":{\"fill\":{\"color\":\"#EBF0F8\"},\"line\":{\"color\":\"white\"}},\"header\":{\"fill\":{\"color\":\"#C8D4E3\"},\"line\":{\"color\":\"white\"}},\"type\":\"table\"}],\"barpolar\":[{\"marker\":{\"line\":{\"color\":\"#E5ECF6\",\"width\":0.5},\"pattern\":{\"fillmode\":\"overlay\",\"size\":10,\"solidity\":0.2}},\"type\":\"barpolar\"}],\"pie\":[{\"automargin\":true,\"type\":\"pie\"}]},\"layout\":{\"autotypenumbers\":\"strict\",\"colorway\":[\"#636efa\",\"#EF553B\",\"#00cc96\",\"#ab63fa\",\"#FFA15A\",\"#19d3f3\",\"#FF6692\",\"#B6E880\",\"#FF97FF\",\"#FECB52\"],\"font\":{\"color\":\"#2a3f5f\"},\"hovermode\":\"closest\",\"hoverlabel\":{\"align\":\"left\"},\"paper_bgcolor\":\"white\",\"plot_bgcolor\":\"#E5ECF6\",\"polar\":{\"bgcolor\":\"#E5ECF6\",\"angularaxis\":{\"gridcolor\":\"white\",\"linecolor\":\"white\",\"ticks\":\"\"},\"radialaxis\":{\"gridcolor\":\"white\",\"linecolor\":\"white\",\"ticks\":\"\"}},\"ternary\":{\"bgcolor\":\"#E5ECF6\",\"aaxis\":{\"gridcolor\":\"white\",\"linecolor\":\"white\",\"ticks\":\"\"},\"baxis\":{\"gridcolor\":\"white\",\"linecolor\":\"white\",\"ticks\":\"\"},\"caxis\":{\"gridcolor\":\"white\",\"linecolor\":\"white\",\"ticks\":\"\"}},\"coloraxis\":{\"colorbar\":{\"outlinewidth\":0,\"ticks\":\"\"}},\"colorscale\":{\"sequential\":[[0.0,\"#0d0887\"],[0.1111111111111111,\"#46039f\"],[0.2222222222222222,\"#7201a8\"],[0.3333333333333333,\"#9c179e\"],[0.4444444444444444,\"#bd3786\"],[0.5555555555555556,\"#d8576b\"],[0.6666666666666666,\"#ed7953\"],[0.7777777777777778,\"#fb9f3a\"],[0.8888888888888888,\"#fdca26\"],[1.0,\"#f0f921\"]],\"sequentialminus\":[[0.0,\"#0d0887\"],[0.1111111111111111,\"#46039f\"],[0.2222222222222222,\"#7201a8\"],[0.3333333333333333,\"#9c179e\"],[0.4444444444444444,\"#bd3786\"],[0.5555555555555556,\"#d8576b\"],[0.6666666666666666,\"#ed7953\"],[0.7777777777777778,\"#fb9f3a\"],[0.8888888888888888,\"#fdca26\"],[1.0,\"#f0f921\"]],\"diverging\":[[0,\"#8e0152\"],[0.1,\"#c51b7d\"],[0.2,\"#de77ae\"],[0.3,\"#f1b6da\"],[0.4,\"#fde0ef\"],[0.5,\"#f7f7f7\"],[0.6,\"#e6f5d0\"],[0.7,\"#b8e186\"],[0.8,\"#7fbc41\"],[0.9,\"#4d9221\"],[1,\"#276419\"]]},\"xaxis\":{\"gridcolor\":\"white\",\"linecolor\":\"white\",\"ticks\":\"\",\"title\":{\"standoff\":15},\"zerolinecolor\":\"white\",\"automargin\":true,\"zerolinewidth\":2},\"yaxis\":{\"gridcolor\":\"white\",\"linecolor\":\"white\",\"ticks\":\"\",\"title\":{\"standoff\":15},\"zerolinecolor\":\"white\",\"automargin\":true,\"zerolinewidth\":2},\"scene\":{\"xaxis\":{\"backgroundcolor\":\"#E5ECF6\",\"gridcolor\":\"white\",\"linecolor\":\"white\",\"showbackground\":true,\"ticks\":\"\",\"zerolinecolor\":\"white\",\"gridwidth\":2},\"yaxis\":{\"backgroundcolor\":\"#E5ECF6\",\"gridcolor\":\"white\",\"linecolor\":\"white\",\"showbackground\":true,\"ticks\":\"\",\"zerolinecolor\":\"white\",\"gridwidth\":2},\"zaxis\":{\"backgroundcolor\":\"#E5ECF6\",\"gridcolor\":\"white\",\"linecolor\":\"white\",\"showbackground\":true,\"ticks\":\"\",\"zerolinecolor\":\"white\",\"gridwidth\":2}},\"shapedefaults\":{\"line\":{\"color\":\"#2a3f5f\"}},\"annotationdefaults\":{\"arrowcolor\":\"#2a3f5f\",\"arrowhead\":0,\"arrowwidth\":1},\"geo\":{\"bgcolor\":\"white\",\"landcolor\":\"#E5ECF6\",\"subunitcolor\":\"white\",\"showland\":true,\"showlakes\":true,\"lakecolor\":\"white\"},\"title\":{\"x\":0.05},\"mapbox\":{\"style\":\"light\"}}},\"yaxis2\":{\"anchor\":\"x\",\"overlaying\":\"y\",\"side\":\"right\",\"title\":{\"text\":\"Comparison\"},\"linecolor\":\"#3b0280\",\"showgrid\":false,\"mirror\":true,\"zeroline\":false},\"annotations\":[{\"font\":{\"size\":16},\"showarrow\":false,\"text\":\"\\u003cb\\u003eRMSE\\u003c\\u002fb\\u003e (estimated RMSE) vs. \\u003cb\\u003eRMSE\\u003c\\u002fb\\u003e (realized RMSE)\",\"x\":0.47,\"xanchor\":\"center\",\"xref\":\"paper\",\"y\":1.0,\"yanchor\":\"bottom\",\"yref\":\"paper\"},{\"showarrow\":false,\"text\":\"Reference\",\"x\":10.0,\"xshift\":10,\"y\":1,\"yref\":\"paper\"},{\"showarrow\":false,\"text\":\"Analysis\",\"x\":31.0,\"xshift\":15,\"y\":1,\"yref\":\"paper\"}],\"shapes\":[{\"layer\":\"below\",\"line\":{\"color\":\"#666666\",\"width\":1},\"type\":\"line\",\"x0\":21,\"x1\":21,\"xref\":\"x\",\"y0\":0,\"y1\":1,\"yref\":\"y domain\"}]},                        {\"responsive\": true}                    ).then(function(){\n",
       "                            \n",
       "var gd = document.getElementById('cac18b91-3b4e-46c1-ade5-253f85f54c10');\n",
       "var x = new MutationObserver(function (mutations, observer) {{\n",
       "        var display = window.getComputedStyle(gd).display;\n",
       "        if (!display || display === 'none') {{\n",
       "            console.log([gd, 'removed!']);\n",
       "            Plotly.purge(gd);\n",
       "            observer.disconnect();\n",
       "        }}\n",
       "}});\n",
       "\n",
       "// Listen for the removal of the full notebook cells\n",
       "var notebookContainer = gd.closest('#notebook-container');\n",
       "if (notebookContainer) {{\n",
       "    x.observe(notebookContainer, {childList: true});\n",
       "}}\n",
       "\n",
       "// Listen for the clearing of the current output cell\n",
       "var outputEl = gd.closest('.output');\n",
       "if (outputEl) {{\n",
       "    x.observe(outputEl, {childList: true});\n",
       "}}\n",
       "\n",
       "                        })                };                });            </script>        </div>"
      ]
     },
     "metadata": {},
     "output_type": "display_data"
    }
   ],
   "source": [
    "estimated_results.compare(realized_results).plot().show()"
   ]
  },
  {
   "cell_type": "markdown",
   "id": "0d88e0a1-a1b6-489c-9b47-f6ab9f48ec97",
   "metadata": {},
   "source": [
    "### Drift detection methods"
   ]
  },
  {
   "cell_type": "markdown",
   "id": "b4139f95-3823-4fc9-91f1-a8f23f1b19b8",
   "metadata": {},
   "source": [
    "### Multivariate drift detection"
   ]
  },
  {
   "cell_type": "code",
   "execution_count": 261,
   "id": "8bceaedc-0a06-47da-92ff-81e227a16ce9",
   "metadata": {},
   "outputs": [],
   "source": [
    "multivariate_calc = nannyml.DataReconstructionDriftCalculator(\n",
    "    column_names=all_feature_names,\n",
    "    chunk_size=250,\n",
    ")\n",
    "\n",
    "multivariate_calc.fit(reference)\n",
    "multivariate_results = multivariate_calc.calculate(analysis)"
   ]
  },
  {
   "cell_type": "code",
   "execution_count": 262,
   "id": "ecd1c358-d902-43e2-9043-aca8a66db3ce",
   "metadata": {},
   "outputs": [
    {
     "data": {
      "application/vnd.plotly.v1+json": {
       "config": {
        "plotlyServerURL": "https://plot.ly"
       },
       "data": [
        {
         "hoverinfo": "skip",
         "legendgroup": "metric_analysis",
         "line": {
          "color": "#00c8e5",
          "shape": "hv",
          "width": 2
         },
         "mode": "lines",
         "name": "Metric",
         "showlegend": true,
         "type": "scatter",
         "x": [
          0,
          1,
          2,
          3,
          4,
          5,
          6,
          7,
          8,
          9,
          10,
          11,
          12,
          13,
          14,
          15,
          16,
          17,
          18,
          19,
          20,
          21
         ],
         "y": [
          1.3749626468552019,
          3.1845243001423733,
          3.3103309894599655,
          3.2658095600481203,
          3.354325949238515,
          3.262215450748463,
          3.300797922957918,
          3.2706355148018487,
          3.3704361990710074,
          3.3324299811295277,
          3.3696952155521602,
          3.3408910984187448,
          3.3044501222272458,
          3.245840248089644,
          3.3466959172945927,
          3.4283363439298826,
          3.3371328239342684,
          3.3467423400146963,
          3.288465709030432,
          3.322509582222744,
          3.308938095437892,
          3.308938095437892
         ]
        },
        {
         "customdata": [
          [
           "Reconstruction Error",
           "<b style=\"color:Colors.INDIGO_PERSIAN;line-height:60px\">Analysis</b>",
           "",
           "[0:249]",
           "Chunk index: <b>0</b>",
           1.375,
           0.1098
          ],
          [
           "Reconstruction Error",
           "<b style=\"color:Colors.INDIGO_PERSIAN;line-height:60px\">Analysis</b>",
           "<span style=\"color:#AD0000\">⚠ <b>Drift detected</b></span>",
           "[250:499]",
           "Chunk index: <b>1</b>",
           3.1845,
           0.1098
          ],
          [
           "Reconstruction Error",
           "<b style=\"color:Colors.INDIGO_PERSIAN;line-height:60px\">Analysis</b>",
           "<span style=\"color:#AD0000\">⚠ <b>Drift detected</b></span>",
           "[500:749]",
           "Chunk index: <b>2</b>",
           3.3103,
           0.1098
          ],
          [
           "Reconstruction Error",
           "<b style=\"color:Colors.INDIGO_PERSIAN;line-height:60px\">Analysis</b>",
           "<span style=\"color:#AD0000\">⚠ <b>Drift detected</b></span>",
           "[750:999]",
           "Chunk index: <b>3</b>",
           3.2658,
           0.1098
          ],
          [
           "Reconstruction Error",
           "<b style=\"color:Colors.INDIGO_PERSIAN;line-height:60px\">Analysis</b>",
           "<span style=\"color:#AD0000\">⚠ <b>Drift detected</b></span>",
           "[1000:1249]",
           "Chunk index: <b>4</b>",
           3.3543,
           0.1098
          ],
          [
           "Reconstruction Error",
           "<b style=\"color:Colors.INDIGO_PERSIAN;line-height:60px\">Analysis</b>",
           "<span style=\"color:#AD0000\">⚠ <b>Drift detected</b></span>",
           "[1250:1499]",
           "Chunk index: <b>5</b>",
           3.2622,
           0.1098
          ],
          [
           "Reconstruction Error",
           "<b style=\"color:Colors.INDIGO_PERSIAN;line-height:60px\">Analysis</b>",
           "<span style=\"color:#AD0000\">⚠ <b>Drift detected</b></span>",
           "[1500:1749]",
           "Chunk index: <b>6</b>",
           3.3008,
           0.1098
          ],
          [
           "Reconstruction Error",
           "<b style=\"color:Colors.INDIGO_PERSIAN;line-height:60px\">Analysis</b>",
           "<span style=\"color:#AD0000\">⚠ <b>Drift detected</b></span>",
           "[1750:1999]",
           "Chunk index: <b>7</b>",
           3.2706,
           0.1098
          ],
          [
           "Reconstruction Error",
           "<b style=\"color:Colors.INDIGO_PERSIAN;line-height:60px\">Analysis</b>",
           "<span style=\"color:#AD0000\">⚠ <b>Drift detected</b></span>",
           "[2000:2249]",
           "Chunk index: <b>8</b>",
           3.3704,
           0.1098
          ],
          [
           "Reconstruction Error",
           "<b style=\"color:Colors.INDIGO_PERSIAN;line-height:60px\">Analysis</b>",
           "<span style=\"color:#AD0000\">⚠ <b>Drift detected</b></span>",
           "[2250:2499]",
           "Chunk index: <b>9</b>",
           3.3324,
           0.1098
          ],
          [
           "Reconstruction Error",
           "<b style=\"color:Colors.INDIGO_PERSIAN;line-height:60px\">Analysis</b>",
           "<span style=\"color:#AD0000\">⚠ <b>Drift detected</b></span>",
           "[2500:2749]",
           "Chunk index: <b>10</b>",
           3.3697,
           0.1098
          ],
          [
           "Reconstruction Error",
           "<b style=\"color:Colors.INDIGO_PERSIAN;line-height:60px\">Analysis</b>",
           "<span style=\"color:#AD0000\">⚠ <b>Drift detected</b></span>",
           "[2750:2999]",
           "Chunk index: <b>11</b>",
           3.3409,
           0.1098
          ],
          [
           "Reconstruction Error",
           "<b style=\"color:Colors.INDIGO_PERSIAN;line-height:60px\">Analysis</b>",
           "<span style=\"color:#AD0000\">⚠ <b>Drift detected</b></span>",
           "[3000:3249]",
           "Chunk index: <b>12</b>",
           3.3045,
           0.1098
          ],
          [
           "Reconstruction Error",
           "<b style=\"color:Colors.INDIGO_PERSIAN;line-height:60px\">Analysis</b>",
           "<span style=\"color:#AD0000\">⚠ <b>Drift detected</b></span>",
           "[3250:3499]",
           "Chunk index: <b>13</b>",
           3.2458,
           0.1098
          ],
          [
           "Reconstruction Error",
           "<b style=\"color:Colors.INDIGO_PERSIAN;line-height:60px\">Analysis</b>",
           "<span style=\"color:#AD0000\">⚠ <b>Drift detected</b></span>",
           "[3500:3749]",
           "Chunk index: <b>14</b>",
           3.3467,
           0.1098
          ],
          [
           "Reconstruction Error",
           "<b style=\"color:Colors.INDIGO_PERSIAN;line-height:60px\">Analysis</b>",
           "<span style=\"color:#AD0000\">⚠ <b>Drift detected</b></span>",
           "[3750:3999]",
           "Chunk index: <b>15</b>",
           3.4283,
           0.1098
          ],
          [
           "Reconstruction Error",
           "<b style=\"color:Colors.INDIGO_PERSIAN;line-height:60px\">Analysis</b>",
           "<span style=\"color:#AD0000\">⚠ <b>Drift detected</b></span>",
           "[4000:4249]",
           "Chunk index: <b>16</b>",
           3.3371,
           0.1098
          ],
          [
           "Reconstruction Error",
           "<b style=\"color:Colors.INDIGO_PERSIAN;line-height:60px\">Analysis</b>",
           "<span style=\"color:#AD0000\">⚠ <b>Drift detected</b></span>",
           "[4250:4499]",
           "Chunk index: <b>17</b>",
           3.3467,
           0.1098
          ],
          [
           "Reconstruction Error",
           "<b style=\"color:Colors.INDIGO_PERSIAN;line-height:60px\">Analysis</b>",
           "<span style=\"color:#AD0000\">⚠ <b>Drift detected</b></span>",
           "[4500:4749]",
           "Chunk index: <b>18</b>",
           3.2885,
           0.1098
          ],
          [
           "Reconstruction Error",
           "<b style=\"color:Colors.INDIGO_PERSIAN;line-height:60px\">Analysis</b>",
           "<span style=\"color:#AD0000\">⚠ <b>Drift detected</b></span>",
           "[4750:4999]",
           "Chunk index: <b>19</b>",
           3.3225,
           0.1098
          ],
          [
           "Reconstruction Error",
           "<b style=\"color:Colors.INDIGO_PERSIAN;line-height:60px\">Analysis</b>",
           "<span style=\"color:#AD0000\">⚠ <b>Drift detected</b></span>",
           "[5000:5393]",
           "Chunk index: <b>20</b>",
           3.3089,
           0.0874
          ]
         ],
         "hovertemplate": "%{customdata[1]} &nbsp; &nbsp; %{customdata[2]} <br />Chunk: <b>%{customdata[3]}</b> &nbsp; &nbsp; %{customdata[4]} <br />%{customdata[0]}: <b>%{customdata[5]}</b><br />Confidence band: +/- <b>%{customdata[6]}</b><br /><extra></extra>",
         "legendgroup": "metric_analysis",
         "marker": {
          "color": "#00c8e5",
          "size": 5,
          "symbol": "circle"
         },
         "mode": "markers",
         "name": "Metric",
         "showlegend": false,
         "type": "scatter",
         "x": [
          0.5,
          1.5,
          2.5,
          3.5,
          4.5,
          5.5,
          6.5,
          7.5,
          8.5,
          9.5,
          10.5,
          11.5,
          12.5,
          13.5,
          14.5,
          15.5,
          16.5,
          17.5,
          18.5,
          19.5,
          20.5
         ],
         "y": [
          1.3749626468552019,
          3.1845243001423733,
          3.3103309894599655,
          3.2658095600481203,
          3.354325949238515,
          3.262215450748463,
          3.300797922957918,
          3.2706355148018487,
          3.3704361990710074,
          3.3324299811295277,
          3.3696952155521602,
          3.3408910984187448,
          3.3044501222272458,
          3.245840248089644,
          3.3466959172945927,
          3.4283363439298826,
          3.3371328239342684,
          3.3467423400146963,
          3.288465709030432,
          3.322509582222744,
          3.308938095437892,
          3.308938095437892
         ]
        },
        {
         "hoverinfo": "skip",
         "legendgroup": "alert",
         "marker": {
          "color": "#DD4040",
          "size": 8,
          "symbol": "diamond"
         },
         "mode": "markers",
         "name": "Alert",
         "showlegend": true,
         "type": "scatter",
         "x": [
          1.5,
          2.5,
          3.5,
          4.5,
          5.5,
          6.5,
          7.5,
          8.5,
          9.5,
          10.5,
          11.5,
          12.5,
          13.5,
          14.5,
          15.5,
          16.5,
          17.5,
          18.5,
          19.5,
          20.5
         ],
         "y": [
          3.1845243001423733,
          3.3103309894599655,
          3.2658095600481203,
          3.354325949238515,
          3.262215450748463,
          3.300797922957918,
          3.2706355148018487,
          3.3704361990710074,
          3.3324299811295277,
          3.3696952155521602,
          3.3408910984187448,
          3.3044501222272458,
          3.245840248089644,
          3.3466959172945927,
          3.4283363439298826,
          3.3371328239342684,
          3.3467423400146963,
          3.288465709030432,
          3.322509582222744,
          3.308938095437892
         ]
        },
        {
         "hoverinfo": "skip",
         "legendgroup": "thresh",
         "line": {
          "color": "#DD4040",
          "dash": "dash",
          "width": 2
         },
         "mode": "lines",
         "name": "Threshold",
         "showlegend": false,
         "type": "scatter",
         "x": [
          0,
          1,
          2,
          3,
          4,
          5,
          6,
          7,
          8,
          9,
          10,
          11,
          12,
          13,
          14,
          15,
          16,
          17,
          18,
          19,
          20,
          21
         ],
         "y": [
          1.4976455277369987,
          1.4976455277369987,
          1.4976455277369987,
          1.4976455277369987,
          1.4976455277369987,
          1.4976455277369987,
          1.4976455277369987,
          1.4976455277369987,
          1.4976455277369987,
          1.4976455277369987,
          1.4976455277369987,
          1.4976455277369987,
          1.4976455277369987,
          1.4976455277369987,
          1.4976455277369987,
          1.4976455277369987,
          1.4976455277369987,
          1.4976455277369987,
          1.4976455277369987,
          1.4976455277369987,
          1.4976455277369987,
          1.4976455277369987
         ]
        },
        {
         "hoverinfo": "skip",
         "legendgroup": "thresh",
         "line": {
          "color": "#DD4040",
          "dash": "dash",
          "width": 2
         },
         "mode": "lines",
         "name": "Threshold",
         "showlegend": false,
         "type": "scatter",
         "x": [
          0,
          1,
          2,
          3,
          4,
          5,
          6,
          7,
          8,
          9,
          10,
          11,
          12,
          13,
          14,
          15,
          16,
          17,
          18,
          19,
          20,
          21
         ],
         "y": [
          1.2660845281054465,
          1.2660845281054465,
          1.2660845281054465,
          1.2660845281054465,
          1.2660845281054465,
          1.2660845281054465,
          1.2660845281054465,
          1.2660845281054465,
          1.2660845281054465,
          1.2660845281054465,
          1.2660845281054465,
          1.2660845281054465,
          1.2660845281054465,
          1.2660845281054465,
          1.2660845281054465,
          1.2660845281054465,
          1.2660845281054465,
          1.2660845281054465,
          1.2660845281054465,
          1.2660845281054465,
          1.2660845281054465,
          1.2660845281054465
         ]
        },
        {
         "hoverinfo": "skip",
         "line": {
          "color": "rgba(0, 0, 0, 0)",
          "shape": "hv"
         },
         "mode": "lines",
         "name": "Confidence band",
         "showlegend": false,
         "type": "scatter",
         "x": [
          0,
          1,
          2,
          3,
          4,
          5,
          6,
          7,
          8,
          9,
          10,
          11,
          12,
          13,
          14,
          15,
          16,
          17,
          18,
          19,
          20,
          21
         ],
         "y": [
          1.4847443448865207,
          3.294305998173692,
          3.4201126874912844,
          3.375591258079439,
          3.464107647269834,
          3.3719971487797817,
          3.4105796209892367,
          3.3804172128331675,
          3.4802178971023263,
          3.4422116791608466,
          3.479476913583479,
          3.4506727964500636,
          3.4142318202585646,
          3.355621946120963,
          3.4564776153259116,
          3.5381180419612015,
          3.4469145219655872,
          3.456524038046015,
          3.398247407061751,
          3.432291280254063,
          3.3963864892937505,
          3.3963864892937505
         ]
        },
        {
         "fill": "tonexty",
         "fillcolor": "rgba(0, 200, 229, 0.2)",
         "hoverinfo": "skip",
         "line": {
          "color": "rgba(0, 0, 0, 0)",
          "shape": "hv"
         },
         "mode": "lines",
         "name": "Confidence band",
         "showlegend": true,
         "type": "scatter",
         "x": [
          0,
          1,
          2,
          3,
          4,
          5,
          6,
          7,
          8,
          9,
          10,
          11,
          12,
          13,
          14,
          15,
          16,
          17,
          18,
          19,
          20,
          21
         ],
         "y": [
          1.265180948823883,
          3.0747426021110544,
          3.2005492914286466,
          3.1560278620168014,
          3.2445442512071963,
          3.152433752717144,
          3.191016224926599,
          3.16085381677053,
          3.2606545010396886,
          3.222648283098209,
          3.2599135175208414,
          3.231109400387426,
          3.194668424195927,
          3.1360585500583253,
          3.236914219263274,
          3.3185546458985637,
          3.2273511259029495,
          3.2369606419833774,
          3.1786840109991132,
          3.212727884191425,
          3.221489701582034,
          3.221489701582034
         ]
        }
       ],
       "layout": {
        "autosize": true,
        "hoverlabel": {
         "bgcolor": "white",
         "font": {
          "size": 14
         }
        },
        "legend": {
         "itemclick": false,
         "itemdoubleclick": false,
         "traceorder": "grouped"
        },
        "paper_bgcolor": "rgba(255,255,255,1)",
        "plot_bgcolor": "rgba(255,255,255,1)",
        "template": {
         "data": {
          "bar": [
           {
            "error_x": {
             "color": "#2a3f5f"
            },
            "error_y": {
             "color": "#2a3f5f"
            },
            "marker": {
             "line": {
              "color": "#E5ECF6",
              "width": 0.5
             },
             "pattern": {
              "fillmode": "overlay",
              "size": 10,
              "solidity": 0.2
             }
            },
            "type": "bar"
           }
          ],
          "barpolar": [
           {
            "marker": {
             "line": {
              "color": "#E5ECF6",
              "width": 0.5
             },
             "pattern": {
              "fillmode": "overlay",
              "size": 10,
              "solidity": 0.2
             }
            },
            "type": "barpolar"
           }
          ],
          "carpet": [
           {
            "aaxis": {
             "endlinecolor": "#2a3f5f",
             "gridcolor": "white",
             "linecolor": "white",
             "minorgridcolor": "white",
             "startlinecolor": "#2a3f5f"
            },
            "baxis": {
             "endlinecolor": "#2a3f5f",
             "gridcolor": "white",
             "linecolor": "white",
             "minorgridcolor": "white",
             "startlinecolor": "#2a3f5f"
            },
            "type": "carpet"
           }
          ],
          "choropleth": [
           {
            "colorbar": {
             "outlinewidth": 0,
             "ticks": ""
            },
            "type": "choropleth"
           }
          ],
          "contour": [
           {
            "colorbar": {
             "outlinewidth": 0,
             "ticks": ""
            },
            "colorscale": [
             [
              0,
              "#0d0887"
             ],
             [
              0.1111111111111111,
              "#46039f"
             ],
             [
              0.2222222222222222,
              "#7201a8"
             ],
             [
              0.3333333333333333,
              "#9c179e"
             ],
             [
              0.4444444444444444,
              "#bd3786"
             ],
             [
              0.5555555555555556,
              "#d8576b"
             ],
             [
              0.6666666666666666,
              "#ed7953"
             ],
             [
              0.7777777777777778,
              "#fb9f3a"
             ],
             [
              0.8888888888888888,
              "#fdca26"
             ],
             [
              1,
              "#f0f921"
             ]
            ],
            "type": "contour"
           }
          ],
          "contourcarpet": [
           {
            "colorbar": {
             "outlinewidth": 0,
             "ticks": ""
            },
            "type": "contourcarpet"
           }
          ],
          "heatmap": [
           {
            "colorbar": {
             "outlinewidth": 0,
             "ticks": ""
            },
            "colorscale": [
             [
              0,
              "#0d0887"
             ],
             [
              0.1111111111111111,
              "#46039f"
             ],
             [
              0.2222222222222222,
              "#7201a8"
             ],
             [
              0.3333333333333333,
              "#9c179e"
             ],
             [
              0.4444444444444444,
              "#bd3786"
             ],
             [
              0.5555555555555556,
              "#d8576b"
             ],
             [
              0.6666666666666666,
              "#ed7953"
             ],
             [
              0.7777777777777778,
              "#fb9f3a"
             ],
             [
              0.8888888888888888,
              "#fdca26"
             ],
             [
              1,
              "#f0f921"
             ]
            ],
            "type": "heatmap"
           }
          ],
          "heatmapgl": [
           {
            "colorbar": {
             "outlinewidth": 0,
             "ticks": ""
            },
            "colorscale": [
             [
              0,
              "#0d0887"
             ],
             [
              0.1111111111111111,
              "#46039f"
             ],
             [
              0.2222222222222222,
              "#7201a8"
             ],
             [
              0.3333333333333333,
              "#9c179e"
             ],
             [
              0.4444444444444444,
              "#bd3786"
             ],
             [
              0.5555555555555556,
              "#d8576b"
             ],
             [
              0.6666666666666666,
              "#ed7953"
             ],
             [
              0.7777777777777778,
              "#fb9f3a"
             ],
             [
              0.8888888888888888,
              "#fdca26"
             ],
             [
              1,
              "#f0f921"
             ]
            ],
            "type": "heatmapgl"
           }
          ],
          "histogram": [
           {
            "marker": {
             "pattern": {
              "fillmode": "overlay",
              "size": 10,
              "solidity": 0.2
             }
            },
            "type": "histogram"
           }
          ],
          "histogram2d": [
           {
            "colorbar": {
             "outlinewidth": 0,
             "ticks": ""
            },
            "colorscale": [
             [
              0,
              "#0d0887"
             ],
             [
              0.1111111111111111,
              "#46039f"
             ],
             [
              0.2222222222222222,
              "#7201a8"
             ],
             [
              0.3333333333333333,
              "#9c179e"
             ],
             [
              0.4444444444444444,
              "#bd3786"
             ],
             [
              0.5555555555555556,
              "#d8576b"
             ],
             [
              0.6666666666666666,
              "#ed7953"
             ],
             [
              0.7777777777777778,
              "#fb9f3a"
             ],
             [
              0.8888888888888888,
              "#fdca26"
             ],
             [
              1,
              "#f0f921"
             ]
            ],
            "type": "histogram2d"
           }
          ],
          "histogram2dcontour": [
           {
            "colorbar": {
             "outlinewidth": 0,
             "ticks": ""
            },
            "colorscale": [
             [
              0,
              "#0d0887"
             ],
             [
              0.1111111111111111,
              "#46039f"
             ],
             [
              0.2222222222222222,
              "#7201a8"
             ],
             [
              0.3333333333333333,
              "#9c179e"
             ],
             [
              0.4444444444444444,
              "#bd3786"
             ],
             [
              0.5555555555555556,
              "#d8576b"
             ],
             [
              0.6666666666666666,
              "#ed7953"
             ],
             [
              0.7777777777777778,
              "#fb9f3a"
             ],
             [
              0.8888888888888888,
              "#fdca26"
             ],
             [
              1,
              "#f0f921"
             ]
            ],
            "type": "histogram2dcontour"
           }
          ],
          "mesh3d": [
           {
            "colorbar": {
             "outlinewidth": 0,
             "ticks": ""
            },
            "type": "mesh3d"
           }
          ],
          "parcoords": [
           {
            "line": {
             "colorbar": {
              "outlinewidth": 0,
              "ticks": ""
             }
            },
            "type": "parcoords"
           }
          ],
          "pie": [
           {
            "automargin": true,
            "type": "pie"
           }
          ],
          "scatter": [
           {
            "fillpattern": {
             "fillmode": "overlay",
             "size": 10,
             "solidity": 0.2
            },
            "type": "scatter"
           }
          ],
          "scatter3d": [
           {
            "line": {
             "colorbar": {
              "outlinewidth": 0,
              "ticks": ""
             }
            },
            "marker": {
             "colorbar": {
              "outlinewidth": 0,
              "ticks": ""
             }
            },
            "type": "scatter3d"
           }
          ],
          "scattercarpet": [
           {
            "marker": {
             "colorbar": {
              "outlinewidth": 0,
              "ticks": ""
             }
            },
            "type": "scattercarpet"
           }
          ],
          "scattergeo": [
           {
            "marker": {
             "colorbar": {
              "outlinewidth": 0,
              "ticks": ""
             }
            },
            "type": "scattergeo"
           }
          ],
          "scattergl": [
           {
            "marker": {
             "colorbar": {
              "outlinewidth": 0,
              "ticks": ""
             }
            },
            "type": "scattergl"
           }
          ],
          "scattermapbox": [
           {
            "marker": {
             "colorbar": {
              "outlinewidth": 0,
              "ticks": ""
             }
            },
            "type": "scattermapbox"
           }
          ],
          "scatterpolar": [
           {
            "marker": {
             "colorbar": {
              "outlinewidth": 0,
              "ticks": ""
             }
            },
            "type": "scatterpolar"
           }
          ],
          "scatterpolargl": [
           {
            "marker": {
             "colorbar": {
              "outlinewidth": 0,
              "ticks": ""
             }
            },
            "type": "scatterpolargl"
           }
          ],
          "scatterternary": [
           {
            "marker": {
             "colorbar": {
              "outlinewidth": 0,
              "ticks": ""
             }
            },
            "type": "scatterternary"
           }
          ],
          "surface": [
           {
            "colorbar": {
             "outlinewidth": 0,
             "ticks": ""
            },
            "colorscale": [
             [
              0,
              "#0d0887"
             ],
             [
              0.1111111111111111,
              "#46039f"
             ],
             [
              0.2222222222222222,
              "#7201a8"
             ],
             [
              0.3333333333333333,
              "#9c179e"
             ],
             [
              0.4444444444444444,
              "#bd3786"
             ],
             [
              0.5555555555555556,
              "#d8576b"
             ],
             [
              0.6666666666666666,
              "#ed7953"
             ],
             [
              0.7777777777777778,
              "#fb9f3a"
             ],
             [
              0.8888888888888888,
              "#fdca26"
             ],
             [
              1,
              "#f0f921"
             ]
            ],
            "type": "surface"
           }
          ],
          "table": [
           {
            "cells": {
             "fill": {
              "color": "#EBF0F8"
             },
             "line": {
              "color": "white"
             }
            },
            "header": {
             "fill": {
              "color": "#C8D4E3"
             },
             "line": {
              "color": "white"
             }
            },
            "type": "table"
           }
          ]
         },
         "layout": {
          "annotationdefaults": {
           "arrowcolor": "#2a3f5f",
           "arrowhead": 0,
           "arrowwidth": 1
          },
          "autotypenumbers": "strict",
          "coloraxis": {
           "colorbar": {
            "outlinewidth": 0,
            "ticks": ""
           }
          },
          "colorscale": {
           "diverging": [
            [
             0,
             "#8e0152"
            ],
            [
             0.1,
             "#c51b7d"
            ],
            [
             0.2,
             "#de77ae"
            ],
            [
             0.3,
             "#f1b6da"
            ],
            [
             0.4,
             "#fde0ef"
            ],
            [
             0.5,
             "#f7f7f7"
            ],
            [
             0.6,
             "#e6f5d0"
            ],
            [
             0.7,
             "#b8e186"
            ],
            [
             0.8,
             "#7fbc41"
            ],
            [
             0.9,
             "#4d9221"
            ],
            [
             1,
             "#276419"
            ]
           ],
           "sequential": [
            [
             0,
             "#0d0887"
            ],
            [
             0.1111111111111111,
             "#46039f"
            ],
            [
             0.2222222222222222,
             "#7201a8"
            ],
            [
             0.3333333333333333,
             "#9c179e"
            ],
            [
             0.4444444444444444,
             "#bd3786"
            ],
            [
             0.5555555555555556,
             "#d8576b"
            ],
            [
             0.6666666666666666,
             "#ed7953"
            ],
            [
             0.7777777777777778,
             "#fb9f3a"
            ],
            [
             0.8888888888888888,
             "#fdca26"
            ],
            [
             1,
             "#f0f921"
            ]
           ],
           "sequentialminus": [
            [
             0,
             "#0d0887"
            ],
            [
             0.1111111111111111,
             "#46039f"
            ],
            [
             0.2222222222222222,
             "#7201a8"
            ],
            [
             0.3333333333333333,
             "#9c179e"
            ],
            [
             0.4444444444444444,
             "#bd3786"
            ],
            [
             0.5555555555555556,
             "#d8576b"
            ],
            [
             0.6666666666666666,
             "#ed7953"
            ],
            [
             0.7777777777777778,
             "#fb9f3a"
            ],
            [
             0.8888888888888888,
             "#fdca26"
            ],
            [
             1,
             "#f0f921"
            ]
           ]
          },
          "colorway": [
           "#636efa",
           "#EF553B",
           "#00cc96",
           "#ab63fa",
           "#FFA15A",
           "#19d3f3",
           "#FF6692",
           "#B6E880",
           "#FF97FF",
           "#FECB52"
          ],
          "font": {
           "color": "#2a3f5f"
          },
          "geo": {
           "bgcolor": "white",
           "lakecolor": "white",
           "landcolor": "#E5ECF6",
           "showlakes": true,
           "showland": true,
           "subunitcolor": "white"
          },
          "hoverlabel": {
           "align": "left"
          },
          "hovermode": "closest",
          "mapbox": {
           "style": "light"
          },
          "paper_bgcolor": "white",
          "plot_bgcolor": "#E5ECF6",
          "polar": {
           "angularaxis": {
            "gridcolor": "white",
            "linecolor": "white",
            "ticks": ""
           },
           "bgcolor": "#E5ECF6",
           "radialaxis": {
            "gridcolor": "white",
            "linecolor": "white",
            "ticks": ""
           }
          },
          "scene": {
           "xaxis": {
            "backgroundcolor": "#E5ECF6",
            "gridcolor": "white",
            "gridwidth": 2,
            "linecolor": "white",
            "showbackground": true,
            "ticks": "",
            "zerolinecolor": "white"
           },
           "yaxis": {
            "backgroundcolor": "#E5ECF6",
            "gridcolor": "white",
            "gridwidth": 2,
            "linecolor": "white",
            "showbackground": true,
            "ticks": "",
            "zerolinecolor": "white"
           },
           "zaxis": {
            "backgroundcolor": "#E5ECF6",
            "gridcolor": "white",
            "gridwidth": 2,
            "linecolor": "white",
            "showbackground": true,
            "ticks": "",
            "zerolinecolor": "white"
           }
          },
          "shapedefaults": {
           "line": {
            "color": "#2a3f5f"
           }
          },
          "ternary": {
           "aaxis": {
            "gridcolor": "white",
            "linecolor": "white",
            "ticks": ""
           },
           "baxis": {
            "gridcolor": "white",
            "linecolor": "white",
            "ticks": ""
           },
           "bgcolor": "#E5ECF6",
           "caxis": {
            "gridcolor": "white",
            "linecolor": "white",
            "ticks": ""
           }
          },
          "title": {
           "x": 0.05
          },
          "xaxis": {
           "automargin": true,
           "gridcolor": "white",
           "linecolor": "white",
           "ticks": "",
           "title": {
            "standoff": 15
           },
           "zerolinecolor": "white",
           "zerolinewidth": 2
          },
          "yaxis": {
           "automargin": true,
           "gridcolor": "white",
           "linecolor": "white",
           "ticks": "",
           "title": {
            "standoff": 15
           },
           "zerolinecolor": "white",
           "zerolinewidth": 2
          }
         }
        },
        "title": {
         "text": "Multivariate Drift (PCA Reconstruction Error)"
        },
        "xaxis": {
         "autorange": true,
         "linecolor": "#3b0280",
         "matches": "x",
         "mirror": true,
         "range": [
          -0.9252772592511256,
          22.089985725266278
         ],
         "showgrid": false,
         "title": {
          "text": "Chunk"
         },
         "type": "linear",
         "zeroline": false
        },
        "yaxis": {
         "autorange": true,
         "linecolor": "#3b0280",
         "mirror": true,
         "range": [
          1.1389066658718097,
          3.664392324913275
         ],
         "showgrid": false,
         "title": {
          "text": "Reconstruction Error"
         },
         "type": "linear",
         "zeroline": false
        }
       }
      },
      "image/png": "[encoded data removed]",
      "text/html": [
       "<div>                            <div id=\"2a971e2b-b742-4566-9467-a13f6c93d04e\" class=\"plotly-graph-div\" style=\"height:525px; width:100%;\"></div>            <script type=\"text/javascript\">                require([\"plotly\"], function(Plotly) {                    window.PLOTLYENV=window.PLOTLYENV || {};                                    if (document.getElementById(\"2a971e2b-b742-4566-9467-a13f6c93d04e\")) {                    Plotly.newPlot(                        \"2a971e2b-b742-4566-9467-a13f6c93d04e\",                        [{\"hoverinfo\":\"skip\",\"legendgroup\":\"metric_analysis\",\"line\":{\"color\":\"#00c8e5\",\"shape\":\"hv\",\"width\":2},\"mode\":\"lines\",\"name\":\"Metric\",\"showlegend\":true,\"x\":[0,1,2,3,4,5,6,7,8,9,10,11,12,13,14,15,16,17,18,19,20,21],\"y\":[1.3749626468552019,3.1845243001423733,3.3103309894599655,3.2658095600481203,3.354325949238515,3.262215450748463,3.300797922957918,3.2706355148018487,3.3704361990710074,3.3324299811295277,3.3696952155521602,3.3408910984187448,3.3044501222272458,3.245840248089644,3.3466959172945927,3.4283363439298826,3.3371328239342684,3.3467423400146963,3.288465709030432,3.322509582222744,3.308938095437892,3.308938095437892],\"type\":\"scatter\"},{\"customdata\":[[\"Reconstruction Error\",\"\\u003cb style=\\\"color:Colors.INDIGO_PERSIAN;line-height:60px\\\"\\u003eAnalysis\\u003c\\u002fb\\u003e\",\"\",\"[0:249]\",\"Chunk index: \\u003cb\\u003e0\\u003c\\u002fb\\u003e\",1.375,0.1098],[\"Reconstruction Error\",\"\\u003cb style=\\\"color:Colors.INDIGO_PERSIAN;line-height:60px\\\"\\u003eAnalysis\\u003c\\u002fb\\u003e\",\"\\u003cspan style=\\\"color:#AD0000\\\"\\u003e\\u26a0 \\u003cb\\u003eDrift detected\\u003c\\u002fb\\u003e\\u003c\\u002fspan\\u003e\",\"[250:499]\",\"Chunk index: \\u003cb\\u003e1\\u003c\\u002fb\\u003e\",3.1845,0.1098],[\"Reconstruction Error\",\"\\u003cb style=\\\"color:Colors.INDIGO_PERSIAN;line-height:60px\\\"\\u003eAnalysis\\u003c\\u002fb\\u003e\",\"\\u003cspan style=\\\"color:#AD0000\\\"\\u003e\\u26a0 \\u003cb\\u003eDrift detected\\u003c\\u002fb\\u003e\\u003c\\u002fspan\\u003e\",\"[500:749]\",\"Chunk index: \\u003cb\\u003e2\\u003c\\u002fb\\u003e\",3.3103,0.1098],[\"Reconstruction Error\",\"\\u003cb style=\\\"color:Colors.INDIGO_PERSIAN;line-height:60px\\\"\\u003eAnalysis\\u003c\\u002fb\\u003e\",\"\\u003cspan style=\\\"color:#AD0000\\\"\\u003e\\u26a0 \\u003cb\\u003eDrift detected\\u003c\\u002fb\\u003e\\u003c\\u002fspan\\u003e\",\"[750:999]\",\"Chunk index: \\u003cb\\u003e3\\u003c\\u002fb\\u003e\",3.2658,0.1098],[\"Reconstruction Error\",\"\\u003cb style=\\\"color:Colors.INDIGO_PERSIAN;line-height:60px\\\"\\u003eAnalysis\\u003c\\u002fb\\u003e\",\"\\u003cspan style=\\\"color:#AD0000\\\"\\u003e\\u26a0 \\u003cb\\u003eDrift detected\\u003c\\u002fb\\u003e\\u003c\\u002fspan\\u003e\",\"[1000:1249]\",\"Chunk index: \\u003cb\\u003e4\\u003c\\u002fb\\u003e\",3.3543,0.1098],[\"Reconstruction Error\",\"\\u003cb style=\\\"color:Colors.INDIGO_PERSIAN;line-height:60px\\\"\\u003eAnalysis\\u003c\\u002fb\\u003e\",\"\\u003cspan style=\\\"color:#AD0000\\\"\\u003e\\u26a0 \\u003cb\\u003eDrift detected\\u003c\\u002fb\\u003e\\u003c\\u002fspan\\u003e\",\"[1250:1499]\",\"Chunk index: \\u003cb\\u003e5\\u003c\\u002fb\\u003e\",3.2622,0.1098],[\"Reconstruction Error\",\"\\u003cb style=\\\"color:Colors.INDIGO_PERSIAN;line-height:60px\\\"\\u003eAnalysis\\u003c\\u002fb\\u003e\",\"\\u003cspan style=\\\"color:#AD0000\\\"\\u003e\\u26a0 \\u003cb\\u003eDrift detected\\u003c\\u002fb\\u003e\\u003c\\u002fspan\\u003e\",\"[1500:1749]\",\"Chunk index: \\u003cb\\u003e6\\u003c\\u002fb\\u003e\",3.3008,0.1098],[\"Reconstruction Error\",\"\\u003cb style=\\\"color:Colors.INDIGO_PERSIAN;line-height:60px\\\"\\u003eAnalysis\\u003c\\u002fb\\u003e\",\"\\u003cspan style=\\\"color:#AD0000\\\"\\u003e\\u26a0 \\u003cb\\u003eDrift detected\\u003c\\u002fb\\u003e\\u003c\\u002fspan\\u003e\",\"[1750:1999]\",\"Chunk index: \\u003cb\\u003e7\\u003c\\u002fb\\u003e\",3.2706,0.1098],[\"Reconstruction Error\",\"\\u003cb style=\\\"color:Colors.INDIGO_PERSIAN;line-height:60px\\\"\\u003eAnalysis\\u003c\\u002fb\\u003e\",\"\\u003cspan style=\\\"color:#AD0000\\\"\\u003e\\u26a0 \\u003cb\\u003eDrift detected\\u003c\\u002fb\\u003e\\u003c\\u002fspan\\u003e\",\"[2000:2249]\",\"Chunk index: \\u003cb\\u003e8\\u003c\\u002fb\\u003e\",3.3704,0.1098],[\"Reconstruction Error\",\"\\u003cb style=\\\"color:Colors.INDIGO_PERSIAN;line-height:60px\\\"\\u003eAnalysis\\u003c\\u002fb\\u003e\",\"\\u003cspan style=\\\"color:#AD0000\\\"\\u003e\\u26a0 \\u003cb\\u003eDrift detected\\u003c\\u002fb\\u003e\\u003c\\u002fspan\\u003e\",\"[2250:2499]\",\"Chunk index: \\u003cb\\u003e9\\u003c\\u002fb\\u003e\",3.3324,0.1098],[\"Reconstruction Error\",\"\\u003cb style=\\\"color:Colors.INDIGO_PERSIAN;line-height:60px\\\"\\u003eAnalysis\\u003c\\u002fb\\u003e\",\"\\u003cspan style=\\\"color:#AD0000\\\"\\u003e\\u26a0 \\u003cb\\u003eDrift detected\\u003c\\u002fb\\u003e\\u003c\\u002fspan\\u003e\",\"[2500:2749]\",\"Chunk index: \\u003cb\\u003e10\\u003c\\u002fb\\u003e\",3.3697,0.1098],[\"Reconstruction Error\",\"\\u003cb style=\\\"color:Colors.INDIGO_PERSIAN;line-height:60px\\\"\\u003eAnalysis\\u003c\\u002fb\\u003e\",\"\\u003cspan style=\\\"color:#AD0000\\\"\\u003e\\u26a0 \\u003cb\\u003eDrift detected\\u003c\\u002fb\\u003e\\u003c\\u002fspan\\u003e\",\"[2750:2999]\",\"Chunk index: \\u003cb\\u003e11\\u003c\\u002fb\\u003e\",3.3409,0.1098],[\"Reconstruction Error\",\"\\u003cb style=\\\"color:Colors.INDIGO_PERSIAN;line-height:60px\\\"\\u003eAnalysis\\u003c\\u002fb\\u003e\",\"\\u003cspan style=\\\"color:#AD0000\\\"\\u003e\\u26a0 \\u003cb\\u003eDrift detected\\u003c\\u002fb\\u003e\\u003c\\u002fspan\\u003e\",\"[3000:3249]\",\"Chunk index: \\u003cb\\u003e12\\u003c\\u002fb\\u003e\",3.3045,0.1098],[\"Reconstruction Error\",\"\\u003cb style=\\\"color:Colors.INDIGO_PERSIAN;line-height:60px\\\"\\u003eAnalysis\\u003c\\u002fb\\u003e\",\"\\u003cspan style=\\\"color:#AD0000\\\"\\u003e\\u26a0 \\u003cb\\u003eDrift detected\\u003c\\u002fb\\u003e\\u003c\\u002fspan\\u003e\",\"[3250:3499]\",\"Chunk index: \\u003cb\\u003e13\\u003c\\u002fb\\u003e\",3.2458,0.1098],[\"Reconstruction Error\",\"\\u003cb style=\\\"color:Colors.INDIGO_PERSIAN;line-height:60px\\\"\\u003eAnalysis\\u003c\\u002fb\\u003e\",\"\\u003cspan style=\\\"color:#AD0000\\\"\\u003e\\u26a0 \\u003cb\\u003eDrift detected\\u003c\\u002fb\\u003e\\u003c\\u002fspan\\u003e\",\"[3500:3749]\",\"Chunk index: \\u003cb\\u003e14\\u003c\\u002fb\\u003e\",3.3467,0.1098],[\"Reconstruction Error\",\"\\u003cb style=\\\"color:Colors.INDIGO_PERSIAN;line-height:60px\\\"\\u003eAnalysis\\u003c\\u002fb\\u003e\",\"\\u003cspan style=\\\"color:#AD0000\\\"\\u003e\\u26a0 \\u003cb\\u003eDrift detected\\u003c\\u002fb\\u003e\\u003c\\u002fspan\\u003e\",\"[3750:3999]\",\"Chunk index: \\u003cb\\u003e15\\u003c\\u002fb\\u003e\",3.4283,0.1098],[\"Reconstruction Error\",\"\\u003cb style=\\\"color:Colors.INDIGO_PERSIAN;line-height:60px\\\"\\u003eAnalysis\\u003c\\u002fb\\u003e\",\"\\u003cspan style=\\\"color:#AD0000\\\"\\u003e\\u26a0 \\u003cb\\u003eDrift detected\\u003c\\u002fb\\u003e\\u003c\\u002fspan\\u003e\",\"[4000:4249]\",\"Chunk index: \\u003cb\\u003e16\\u003c\\u002fb\\u003e\",3.3371,0.1098],[\"Reconstruction Error\",\"\\u003cb style=\\\"color:Colors.INDIGO_PERSIAN;line-height:60px\\\"\\u003eAnalysis\\u003c\\u002fb\\u003e\",\"\\u003cspan style=\\\"color:#AD0000\\\"\\u003e\\u26a0 \\u003cb\\u003eDrift detected\\u003c\\u002fb\\u003e\\u003c\\u002fspan\\u003e\",\"[4250:4499]\",\"Chunk index: \\u003cb\\u003e17\\u003c\\u002fb\\u003e\",3.3467,0.1098],[\"Reconstruction Error\",\"\\u003cb style=\\\"color:Colors.INDIGO_PERSIAN;line-height:60px\\\"\\u003eAnalysis\\u003c\\u002fb\\u003e\",\"\\u003cspan style=\\\"color:#AD0000\\\"\\u003e\\u26a0 \\u003cb\\u003eDrift detected\\u003c\\u002fb\\u003e\\u003c\\u002fspan\\u003e\",\"[4500:4749]\",\"Chunk index: \\u003cb\\u003e18\\u003c\\u002fb\\u003e\",3.2885,0.1098],[\"Reconstruction Error\",\"\\u003cb style=\\\"color:Colors.INDIGO_PERSIAN;line-height:60px\\\"\\u003eAnalysis\\u003c\\u002fb\\u003e\",\"\\u003cspan style=\\\"color:#AD0000\\\"\\u003e\\u26a0 \\u003cb\\u003eDrift detected\\u003c\\u002fb\\u003e\\u003c\\u002fspan\\u003e\",\"[4750:4999]\",\"Chunk index: \\u003cb\\u003e19\\u003c\\u002fb\\u003e\",3.3225,0.1098],[\"Reconstruction Error\",\"\\u003cb style=\\\"color:Colors.INDIGO_PERSIAN;line-height:60px\\\"\\u003eAnalysis\\u003c\\u002fb\\u003e\",\"\\u003cspan style=\\\"color:#AD0000\\\"\\u003e\\u26a0 \\u003cb\\u003eDrift detected\\u003c\\u002fb\\u003e\\u003c\\u002fspan\\u003e\",\"[5000:5393]\",\"Chunk index: \\u003cb\\u003e20\\u003c\\u002fb\\u003e\",3.3089,0.0874]],\"hovertemplate\":\"%{customdata[1]} &nbsp; &nbsp; %{customdata[2]} \\u003cbr \\u002f\\u003eChunk: \\u003cb\\u003e%{customdata[3]}\\u003c\\u002fb\\u003e &nbsp; &nbsp; %{customdata[4]} \\u003cbr \\u002f\\u003e%{customdata[0]}: \\u003cb\\u003e%{customdata[5]}\\u003c\\u002fb\\u003e\\u003cbr \\u002f\\u003eConfidence band: +\\u002f- \\u003cb\\u003e%{customdata[6]}\\u003c\\u002fb\\u003e\\u003cbr \\u002f\\u003e\\u003cextra\\u003e\\u003c\\u002fextra\\u003e\",\"legendgroup\":\"metric_analysis\",\"marker\":{\"color\":\"#00c8e5\",\"size\":5,\"symbol\":\"circle\"},\"mode\":\"markers\",\"name\":\"Metric\",\"showlegend\":false,\"x\":[0.5,1.5,2.5,3.5,4.5,5.5,6.5,7.5,8.5,9.5,10.5,11.5,12.5,13.5,14.5,15.5,16.5,17.5,18.5,19.5,20.5],\"y\":[1.3749626468552019,3.1845243001423733,3.3103309894599655,3.2658095600481203,3.354325949238515,3.262215450748463,3.300797922957918,3.2706355148018487,3.3704361990710074,3.3324299811295277,3.3696952155521602,3.3408910984187448,3.3044501222272458,3.245840248089644,3.3466959172945927,3.4283363439298826,3.3371328239342684,3.3467423400146963,3.288465709030432,3.322509582222744,3.308938095437892,3.308938095437892],\"type\":\"scatter\"},{\"hoverinfo\":\"skip\",\"legendgroup\":\"alert\",\"marker\":{\"color\":\"#DD4040\",\"size\":8,\"symbol\":\"diamond\"},\"mode\":\"markers\",\"name\":\"Alert\",\"showlegend\":true,\"x\":[1.5,2.5,3.5,4.5,5.5,6.5,7.5,8.5,9.5,10.5,11.5,12.5,13.5,14.5,15.5,16.5,17.5,18.5,19.5,20.5],\"y\":[3.1845243001423733,3.3103309894599655,3.2658095600481203,3.354325949238515,3.262215450748463,3.300797922957918,3.2706355148018487,3.3704361990710074,3.3324299811295277,3.3696952155521602,3.3408910984187448,3.3044501222272458,3.245840248089644,3.3466959172945927,3.4283363439298826,3.3371328239342684,3.3467423400146963,3.288465709030432,3.322509582222744,3.308938095437892],\"type\":\"scatter\"},{\"hoverinfo\":\"skip\",\"legendgroup\":\"thresh\",\"line\":{\"color\":\"#DD4040\",\"dash\":\"dash\",\"width\":2},\"mode\":\"lines\",\"name\":\"Threshold\",\"showlegend\":false,\"x\":[0,1,2,3,4,5,6,7,8,9,10,11,12,13,14,15,16,17,18,19,20,21],\"y\":[1.4976455277369987,1.4976455277369987,1.4976455277369987,1.4976455277369987,1.4976455277369987,1.4976455277369987,1.4976455277369987,1.4976455277369987,1.4976455277369987,1.4976455277369987,1.4976455277369987,1.4976455277369987,1.4976455277369987,1.4976455277369987,1.4976455277369987,1.4976455277369987,1.4976455277369987,1.4976455277369987,1.4976455277369987,1.4976455277369987,1.4976455277369987,1.4976455277369987],\"type\":\"scatter\"},{\"hoverinfo\":\"skip\",\"legendgroup\":\"thresh\",\"line\":{\"color\":\"#DD4040\",\"dash\":\"dash\",\"width\":2},\"mode\":\"lines\",\"name\":\"Threshold\",\"showlegend\":false,\"x\":[0,1,2,3,4,5,6,7,8,9,10,11,12,13,14,15,16,17,18,19,20,21],\"y\":[1.2660845281054465,1.2660845281054465,1.2660845281054465,1.2660845281054465,1.2660845281054465,1.2660845281054465,1.2660845281054465,1.2660845281054465,1.2660845281054465,1.2660845281054465,1.2660845281054465,1.2660845281054465,1.2660845281054465,1.2660845281054465,1.2660845281054465,1.2660845281054465,1.2660845281054465,1.2660845281054465,1.2660845281054465,1.2660845281054465,1.2660845281054465,1.2660845281054465],\"type\":\"scatter\"},{\"hoverinfo\":\"skip\",\"line\":{\"color\":\"rgba(0,0,0,0)\",\"shape\":\"hv\"},\"mode\":\"lines\",\"name\":\"Confidence band\",\"showlegend\":false,\"x\":[0,1,2,3,4,5,6,7,8,9,10,11,12,13,14,15,16,17,18,19,20,21],\"y\":[1.4847443448865207,3.294305998173692,3.4201126874912844,3.375591258079439,3.464107647269834,3.3719971487797817,3.4105796209892367,3.3804172128331675,3.4802178971023263,3.4422116791608466,3.479476913583479,3.4506727964500636,3.4142318202585646,3.355621946120963,3.4564776153259116,3.5381180419612015,3.4469145219655872,3.456524038046015,3.398247407061751,3.432291280254063,3.3963864892937505,3.3963864892937505],\"type\":\"scatter\"},{\"fill\":\"tonexty\",\"fillcolor\":\"rgba(0.0, 0.7843137254901961, 0.8980392156862745, 0.2)\",\"hoverinfo\":\"skip\",\"line\":{\"color\":\"rgba(0,0,0,0)\",\"shape\":\"hv\"},\"mode\":\"lines\",\"name\":\"Confidence band\",\"showlegend\":true,\"x\":[0,1,2,3,4,5,6,7,8,9,10,11,12,13,14,15,16,17,18,19,20,21],\"y\":[1.265180948823883,3.0747426021110544,3.2005492914286466,3.1560278620168014,3.2445442512071963,3.152433752717144,3.191016224926599,3.16085381677053,3.2606545010396886,3.222648283098209,3.2599135175208414,3.231109400387426,3.194668424195927,3.1360585500583253,3.236914219263274,3.3185546458985637,3.2273511259029495,3.2369606419833774,3.1786840109991132,3.212727884191425,3.221489701582034,3.221489701582034],\"type\":\"scatter\"}],                        {\"hoverlabel\":{\"bgcolor\":\"white\",\"font\":{\"size\":14}},\"legend\":{\"itemclick\":false,\"itemdoubleclick\":false,\"traceorder\":\"grouped\"},\"paper_bgcolor\":\"rgba(255,255,255,1)\",\"plot_bgcolor\":\"rgba(255,255,255,1)\",\"title\":{\"text\":\"Multivariate Drift (PCA Reconstruction Error)\"},\"xaxis\":{\"linecolor\":\"#3b0280\",\"mirror\":true,\"showgrid\":false,\"title\":{\"text\":\"Chunk\"},\"zeroline\":false,\"matches\":\"x\"},\"yaxis\":{\"linecolor\":\"#3b0280\",\"mirror\":true,\"showgrid\":false,\"title\":{\"text\":\"Reconstruction Error\"},\"zeroline\":false},\"template\":{\"data\":{\"histogram2dcontour\":[{\"type\":\"histogram2dcontour\",\"colorbar\":{\"outlinewidth\":0,\"ticks\":\"\"},\"colorscale\":[[0.0,\"#0d0887\"],[0.1111111111111111,\"#46039f\"],[0.2222222222222222,\"#7201a8\"],[0.3333333333333333,\"#9c179e\"],[0.4444444444444444,\"#bd3786\"],[0.5555555555555556,\"#d8576b\"],[0.6666666666666666,\"#ed7953\"],[0.7777777777777778,\"#fb9f3a\"],[0.8888888888888888,\"#fdca26\"],[1.0,\"#f0f921\"]]}],\"choropleth\":[{\"type\":\"choropleth\",\"colorbar\":{\"outlinewidth\":0,\"ticks\":\"\"}}],\"histogram2d\":[{\"type\":\"histogram2d\",\"colorbar\":{\"outlinewidth\":0,\"ticks\":\"\"},\"colorscale\":[[0.0,\"#0d0887\"],[0.1111111111111111,\"#46039f\"],[0.2222222222222222,\"#7201a8\"],[0.3333333333333333,\"#9c179e\"],[0.4444444444444444,\"#bd3786\"],[0.5555555555555556,\"#d8576b\"],[0.6666666666666666,\"#ed7953\"],[0.7777777777777778,\"#fb9f3a\"],[0.8888888888888888,\"#fdca26\"],[1.0,\"#f0f921\"]]}],\"heatmap\":[{\"type\":\"heatmap\",\"colorbar\":{\"outlinewidth\":0,\"ticks\":\"\"},\"colorscale\":[[0.0,\"#0d0887\"],[0.1111111111111111,\"#46039f\"],[0.2222222222222222,\"#7201a8\"],[0.3333333333333333,\"#9c179e\"],[0.4444444444444444,\"#bd3786\"],[0.5555555555555556,\"#d8576b\"],[0.6666666666666666,\"#ed7953\"],[0.7777777777777778,\"#fb9f3a\"],[0.8888888888888888,\"#fdca26\"],[1.0,\"#f0f921\"]]}],\"heatmapgl\":[{\"type\":\"heatmapgl\",\"colorbar\":{\"outlinewidth\":0,\"ticks\":\"\"},\"colorscale\":[[0.0,\"#0d0887\"],[0.1111111111111111,\"#46039f\"],[0.2222222222222222,\"#7201a8\"],[0.3333333333333333,\"#9c179e\"],[0.4444444444444444,\"#bd3786\"],[0.5555555555555556,\"#d8576b\"],[0.6666666666666666,\"#ed7953\"],[0.7777777777777778,\"#fb9f3a\"],[0.8888888888888888,\"#fdca26\"],[1.0,\"#f0f921\"]]}],\"contourcarpet\":[{\"type\":\"contourcarpet\",\"colorbar\":{\"outlinewidth\":0,\"ticks\":\"\"}}],\"contour\":[{\"type\":\"contour\",\"colorbar\":{\"outlinewidth\":0,\"ticks\":\"\"},\"colorscale\":[[0.0,\"#0d0887\"],[0.1111111111111111,\"#46039f\"],[0.2222222222222222,\"#7201a8\"],[0.3333333333333333,\"#9c179e\"],[0.4444444444444444,\"#bd3786\"],[0.5555555555555556,\"#d8576b\"],[0.6666666666666666,\"#ed7953\"],[0.7777777777777778,\"#fb9f3a\"],[0.8888888888888888,\"#fdca26\"],[1.0,\"#f0f921\"]]}],\"surface\":[{\"type\":\"surface\",\"colorbar\":{\"outlinewidth\":0,\"ticks\":\"\"},\"colorscale\":[[0.0,\"#0d0887\"],[0.1111111111111111,\"#46039f\"],[0.2222222222222222,\"#7201a8\"],[0.3333333333333333,\"#9c179e\"],[0.4444444444444444,\"#bd3786\"],[0.5555555555555556,\"#d8576b\"],[0.6666666666666666,\"#ed7953\"],[0.7777777777777778,\"#fb9f3a\"],[0.8888888888888888,\"#fdca26\"],[1.0,\"#f0f921\"]]}],\"mesh3d\":[{\"type\":\"mesh3d\",\"colorbar\":{\"outlinewidth\":0,\"ticks\":\"\"}}],\"scatter\":[{\"fillpattern\":{\"fillmode\":\"overlay\",\"size\":10,\"solidity\":0.2},\"type\":\"scatter\"}],\"parcoords\":[{\"type\":\"parcoords\",\"line\":{\"colorbar\":{\"outlinewidth\":0,\"ticks\":\"\"}}}],\"scatterpolargl\":[{\"type\":\"scatterpolargl\",\"marker\":{\"colorbar\":{\"outlinewidth\":0,\"ticks\":\"\"}}}],\"bar\":[{\"error_x\":{\"color\":\"#2a3f5f\"},\"error_y\":{\"color\":\"#2a3f5f\"},\"marker\":{\"line\":{\"color\":\"#E5ECF6\",\"width\":0.5},\"pattern\":{\"fillmode\":\"overlay\",\"size\":10,\"solidity\":0.2}},\"type\":\"bar\"}],\"scattergeo\":[{\"type\":\"scattergeo\",\"marker\":{\"colorbar\":{\"outlinewidth\":0,\"ticks\":\"\"}}}],\"scatterpolar\":[{\"type\":\"scatterpolar\",\"marker\":{\"colorbar\":{\"outlinewidth\":0,\"ticks\":\"\"}}}],\"histogram\":[{\"marker\":{\"pattern\":{\"fillmode\":\"overlay\",\"size\":10,\"solidity\":0.2}},\"type\":\"histogram\"}],\"scattergl\":[{\"type\":\"scattergl\",\"marker\":{\"colorbar\":{\"outlinewidth\":0,\"ticks\":\"\"}}}],\"scatter3d\":[{\"type\":\"scatter3d\",\"line\":{\"colorbar\":{\"outlinewidth\":0,\"ticks\":\"\"}},\"marker\":{\"colorbar\":{\"outlinewidth\":0,\"ticks\":\"\"}}}],\"scattermapbox\":[{\"type\":\"scattermapbox\",\"marker\":{\"colorbar\":{\"outlinewidth\":0,\"ticks\":\"\"}}}],\"scatterternary\":[{\"type\":\"scatterternary\",\"marker\":{\"colorbar\":{\"outlinewidth\":0,\"ticks\":\"\"}}}],\"scattercarpet\":[{\"type\":\"scattercarpet\",\"marker\":{\"colorbar\":{\"outlinewidth\":0,\"ticks\":\"\"}}}],\"carpet\":[{\"aaxis\":{\"endlinecolor\":\"#2a3f5f\",\"gridcolor\":\"white\",\"linecolor\":\"white\",\"minorgridcolor\":\"white\",\"startlinecolor\":\"#2a3f5f\"},\"baxis\":{\"endlinecolor\":\"#2a3f5f\",\"gridcolor\":\"white\",\"linecolor\":\"white\",\"minorgridcolor\":\"white\",\"startlinecolor\":\"#2a3f5f\"},\"type\":\"carpet\"}],\"table\":[{\"cells\":{\"fill\":{\"color\":\"#EBF0F8\"},\"line\":{\"color\":\"white\"}},\"header\":{\"fill\":{\"color\":\"#C8D4E3\"},\"line\":{\"color\":\"white\"}},\"type\":\"table\"}],\"barpolar\":[{\"marker\":{\"line\":{\"color\":\"#E5ECF6\",\"width\":0.5},\"pattern\":{\"fillmode\":\"overlay\",\"size\":10,\"solidity\":0.2}},\"type\":\"barpolar\"}],\"pie\":[{\"automargin\":true,\"type\":\"pie\"}]},\"layout\":{\"autotypenumbers\":\"strict\",\"colorway\":[\"#636efa\",\"#EF553B\",\"#00cc96\",\"#ab63fa\",\"#FFA15A\",\"#19d3f3\",\"#FF6692\",\"#B6E880\",\"#FF97FF\",\"#FECB52\"],\"font\":{\"color\":\"#2a3f5f\"},\"hovermode\":\"closest\",\"hoverlabel\":{\"align\":\"left\"},\"paper_bgcolor\":\"white\",\"plot_bgcolor\":\"#E5ECF6\",\"polar\":{\"bgcolor\":\"#E5ECF6\",\"angularaxis\":{\"gridcolor\":\"white\",\"linecolor\":\"white\",\"ticks\":\"\"},\"radialaxis\":{\"gridcolor\":\"white\",\"linecolor\":\"white\",\"ticks\":\"\"}},\"ternary\":{\"bgcolor\":\"#E5ECF6\",\"aaxis\":{\"gridcolor\":\"white\",\"linecolor\":\"white\",\"ticks\":\"\"},\"baxis\":{\"gridcolor\":\"white\",\"linecolor\":\"white\",\"ticks\":\"\"},\"caxis\":{\"gridcolor\":\"white\",\"linecolor\":\"white\",\"ticks\":\"\"}},\"coloraxis\":{\"colorbar\":{\"outlinewidth\":0,\"ticks\":\"\"}},\"colorscale\":{\"sequential\":[[0.0,\"#0d0887\"],[0.1111111111111111,\"#46039f\"],[0.2222222222222222,\"#7201a8\"],[0.3333333333333333,\"#9c179e\"],[0.4444444444444444,\"#bd3786\"],[0.5555555555555556,\"#d8576b\"],[0.6666666666666666,\"#ed7953\"],[0.7777777777777778,\"#fb9f3a\"],[0.8888888888888888,\"#fdca26\"],[1.0,\"#f0f921\"]],\"sequentialminus\":[[0.0,\"#0d0887\"],[0.1111111111111111,\"#46039f\"],[0.2222222222222222,\"#7201a8\"],[0.3333333333333333,\"#9c179e\"],[0.4444444444444444,\"#bd3786\"],[0.5555555555555556,\"#d8576b\"],[0.6666666666666666,\"#ed7953\"],[0.7777777777777778,\"#fb9f3a\"],[0.8888888888888888,\"#fdca26\"],[1.0,\"#f0f921\"]],\"diverging\":[[0,\"#8e0152\"],[0.1,\"#c51b7d\"],[0.2,\"#de77ae\"],[0.3,\"#f1b6da\"],[0.4,\"#fde0ef\"],[0.5,\"#f7f7f7\"],[0.6,\"#e6f5d0\"],[0.7,\"#b8e186\"],[0.8,\"#7fbc41\"],[0.9,\"#4d9221\"],[1,\"#276419\"]]},\"xaxis\":{\"gridcolor\":\"white\",\"linecolor\":\"white\",\"ticks\":\"\",\"title\":{\"standoff\":15},\"zerolinecolor\":\"white\",\"automargin\":true,\"zerolinewidth\":2},\"yaxis\":{\"gridcolor\":\"white\",\"linecolor\":\"white\",\"ticks\":\"\",\"title\":{\"standoff\":15},\"zerolinecolor\":\"white\",\"automargin\":true,\"zerolinewidth\":2},\"scene\":{\"xaxis\":{\"backgroundcolor\":\"#E5ECF6\",\"gridcolor\":\"white\",\"linecolor\":\"white\",\"showbackground\":true,\"ticks\":\"\",\"zerolinecolor\":\"white\",\"gridwidth\":2},\"yaxis\":{\"backgroundcolor\":\"#E5ECF6\",\"gridcolor\":\"white\",\"linecolor\":\"white\",\"showbackground\":true,\"ticks\":\"\",\"zerolinecolor\":\"white\",\"gridwidth\":2},\"zaxis\":{\"backgroundcolor\":\"#E5ECF6\",\"gridcolor\":\"white\",\"linecolor\":\"white\",\"showbackground\":true,\"ticks\":\"\",\"zerolinecolor\":\"white\",\"gridwidth\":2}},\"shapedefaults\":{\"line\":{\"color\":\"#2a3f5f\"}},\"annotationdefaults\":{\"arrowcolor\":\"#2a3f5f\",\"arrowhead\":0,\"arrowwidth\":1},\"geo\":{\"bgcolor\":\"white\",\"landcolor\":\"#E5ECF6\",\"subunitcolor\":\"white\",\"showland\":true,\"showlakes\":true,\"lakecolor\":\"white\"},\"title\":{\"x\":0.05},\"mapbox\":{\"style\":\"light\"}}}},                        {\"responsive\": true}                    ).then(function(){\n",
       "                            \n",
       "var gd = document.getElementById('2a971e2b-b742-4566-9467-a13f6c93d04e');\n",
       "var x = new MutationObserver(function (mutations, observer) {{\n",
       "        var display = window.getComputedStyle(gd).display;\n",
       "        if (!display || display === 'none') {{\n",
       "            console.log([gd, 'removed!']);\n",
       "            Plotly.purge(gd);\n",
       "            observer.disconnect();\n",
       "        }}\n",
       "}});\n",
       "\n",
       "// Listen for the removal of the full notebook cells\n",
       "var notebookContainer = gd.closest('#notebook-container');\n",
       "if (notebookContainer) {{\n",
       "    x.observe(notebookContainer, {childList: true});\n",
       "}}\n",
       "\n",
       "// Listen for the clearing of the current output cell\n",
       "var outputEl = gd.closest('.output');\n",
       "if (outputEl) {{\n",
       "    x.observe(outputEl, {childList: true});\n",
       "}}\n",
       "\n",
       "                        })                };                });            </script>        </div>"
      ]
     },
     "metadata": {},
     "output_type": "display_data"
    }
   ],
   "source": [
    "multivariate_results.filter(period=\"analysis\").plot().show()"
   ]
  },
  {
   "cell_type": "markdown",
   "id": "db290325-704d-4c64-99d8-234542b79ee0",
   "metadata": {},
   "source": [
    "### Multivariate rec + realized performace"
   ]
  },
  {
   "cell_type": "code",
   "execution_count": 263,
   "id": "5225edd9-225e-4fee-95cc-a4457831e23b",
   "metadata": {},
   "outputs": [
    {
     "data": {
      "application/vnd.plotly.v1+json": {
       "config": {
        "plotlyServerURL": "https://plot.ly"
       },
       "data": [
        {
         "hoverinfo": "skip",
         "line": {
          "color": "#00c8e5",
          "shape": "hv",
          "width": 2
         },
         "mode": "lines",
         "name": "<b>Reconstruction error</b>",
         "showlegend": true,
         "type": "scatter",
         "x": [
          0,
          1,
          2,
          3,
          4,
          5,
          6,
          7,
          8,
          9,
          10,
          11,
          12,
          13,
          14,
          15,
          16,
          17,
          18,
          19,
          20,
          21
         ],
         "xaxis": "x",
         "y": [
          1.3347278693683016,
          1.3716403312940368,
          1.3666329189712725,
          1.3666138204869187,
          1.384856815210756,
          1.3287762911533267,
          1.3616419859716127,
          1.377590366873436,
          1.3660999746544038,
          1.4367927735116057,
          1.371259314430767,
          1.3462659480252477,
          1.388366379558232,
          1.4144983982041976,
          1.39501976784976,
          1.3860353908810676,
          1.4870077602374299,
          1.4315747379472405,
          1.4170542076544321,
          1.3154303948879278,
          1.3712801391736995,
          1.3712801391736995
         ],
         "yaxis": "y"
        },
        {
         "customdata": [
          [
           "<b>Reconstruction error</b>",
           "<b style=\"color:Colors.BLUE_SKY_CRAYOLA;line-height:60px\">Reference</b>",
           "[0:249]",
           "Chunk index: <b>0</b>",
           1.3347
          ],
          [
           "<b>Reconstruction error</b>",
           "<b style=\"color:Colors.BLUE_SKY_CRAYOLA;line-height:60px\">Reference</b>",
           "[250:499]",
           "Chunk index: <b>1</b>",
           1.3716
          ],
          [
           "<b>Reconstruction error</b>",
           "<b style=\"color:Colors.BLUE_SKY_CRAYOLA;line-height:60px\">Reference</b>",
           "[500:749]",
           "Chunk index: <b>2</b>",
           1.3666
          ],
          [
           "<b>Reconstruction error</b>",
           "<b style=\"color:Colors.BLUE_SKY_CRAYOLA;line-height:60px\">Reference</b>",
           "[750:999]",
           "Chunk index: <b>3</b>",
           1.3666
          ],
          [
           "<b>Reconstruction error</b>",
           "<b style=\"color:Colors.BLUE_SKY_CRAYOLA;line-height:60px\">Reference</b>",
           "[1000:1249]",
           "Chunk index: <b>4</b>",
           1.3849
          ],
          [
           "<b>Reconstruction error</b>",
           "<b style=\"color:Colors.BLUE_SKY_CRAYOLA;line-height:60px\">Reference</b>",
           "[1250:1499]",
           "Chunk index: <b>5</b>",
           1.3288
          ],
          [
           "<b>Reconstruction error</b>",
           "<b style=\"color:Colors.BLUE_SKY_CRAYOLA;line-height:60px\">Reference</b>",
           "[1500:1749]",
           "Chunk index: <b>6</b>",
           1.3616
          ],
          [
           "<b>Reconstruction error</b>",
           "<b style=\"color:Colors.BLUE_SKY_CRAYOLA;line-height:60px\">Reference</b>",
           "[1750:1999]",
           "Chunk index: <b>7</b>",
           1.3776
          ],
          [
           "<b>Reconstruction error</b>",
           "<b style=\"color:Colors.BLUE_SKY_CRAYOLA;line-height:60px\">Reference</b>",
           "[2000:2249]",
           "Chunk index: <b>8</b>",
           1.3661
          ],
          [
           "<b>Reconstruction error</b>",
           "<b style=\"color:Colors.BLUE_SKY_CRAYOLA;line-height:60px\">Reference</b>",
           "[2250:2499]",
           "Chunk index: <b>9</b>",
           1.4368
          ],
          [
           "<b>Reconstruction error</b>",
           "<b style=\"color:Colors.BLUE_SKY_CRAYOLA;line-height:60px\">Reference</b>",
           "[2500:2749]",
           "Chunk index: <b>10</b>",
           1.3713
          ],
          [
           "<b>Reconstruction error</b>",
           "<b style=\"color:Colors.BLUE_SKY_CRAYOLA;line-height:60px\">Reference</b>",
           "[2750:2999]",
           "Chunk index: <b>11</b>",
           1.3463
          ],
          [
           "<b>Reconstruction error</b>",
           "<b style=\"color:Colors.BLUE_SKY_CRAYOLA;line-height:60px\">Reference</b>",
           "[3000:3249]",
           "Chunk index: <b>12</b>",
           1.3884
          ],
          [
           "<b>Reconstruction error</b>",
           "<b style=\"color:Colors.BLUE_SKY_CRAYOLA;line-height:60px\">Reference</b>",
           "[3250:3499]",
           "Chunk index: <b>13</b>",
           1.4145
          ],
          [
           "<b>Reconstruction error</b>",
           "<b style=\"color:Colors.BLUE_SKY_CRAYOLA;line-height:60px\">Reference</b>",
           "[3500:3749]",
           "Chunk index: <b>14</b>",
           1.395
          ],
          [
           "<b>Reconstruction error</b>",
           "<b style=\"color:Colors.BLUE_SKY_CRAYOLA;line-height:60px\">Reference</b>",
           "[3750:3999]",
           "Chunk index: <b>15</b>",
           1.386
          ],
          [
           "<b>Reconstruction error</b>",
           "<b style=\"color:Colors.BLUE_SKY_CRAYOLA;line-height:60px\">Reference</b>",
           "[4000:4249]",
           "Chunk index: <b>16</b>",
           1.487
          ],
          [
           "<b>Reconstruction error</b>",
           "<b style=\"color:Colors.BLUE_SKY_CRAYOLA;line-height:60px\">Reference</b>",
           "[4250:4499]",
           "Chunk index: <b>17</b>",
           1.4316
          ],
          [
           "<b>Reconstruction error</b>",
           "<b style=\"color:Colors.BLUE_SKY_CRAYOLA;line-height:60px\">Reference</b>",
           "[4500:4749]",
           "Chunk index: <b>18</b>",
           1.4171
          ],
          [
           "<b>Reconstruction error</b>",
           "<b style=\"color:Colors.BLUE_SKY_CRAYOLA;line-height:60px\">Reference</b>",
           "[4750:4999]",
           "Chunk index: <b>19</b>",
           1.3154
          ],
          [
           "<b>Reconstruction error</b>",
           "<b style=\"color:Colors.BLUE_SKY_CRAYOLA;line-height:60px\">Reference</b>",
           "[5000:5393]",
           "Chunk index: <b>20</b>",
           1.3713
          ]
         ],
         "hovertemplate": "%{customdata[1]}<br />Chunk: <b>%{customdata[2]}</b> &nbsp; &nbsp; %{customdata[3]} <br />%{customdata[0]}: <b>%{customdata[4]}</b><br /><extra></extra>",
         "marker": {
          "color": "#00c8e5",
          "size": 5,
          "symbol": "circle"
         },
         "mode": "markers",
         "name": "<b>Reconstruction error</b>",
         "showlegend": false,
         "type": "scatter",
         "x": [
          0.5,
          1.5,
          2.5,
          3.5,
          4.5,
          5.5,
          6.5,
          7.5,
          8.5,
          9.5,
          10.5,
          11.5,
          12.5,
          13.5,
          14.5,
          15.5,
          16.5,
          17.5,
          18.5,
          19.5,
          20.5
         ],
         "xaxis": "x",
         "y": [
          1.3347278693683016,
          1.3716403312940368,
          1.3666329189712725,
          1.3666138204869187,
          1.384856815210756,
          1.3287762911533267,
          1.3616419859716127,
          1.377590366873436,
          1.3660999746544038,
          1.4367927735116057,
          1.371259314430767,
          1.3462659480252477,
          1.388366379558232,
          1.4144983982041976,
          1.39501976784976,
          1.3860353908810676,
          1.4870077602374299,
          1.4315747379472405,
          1.4170542076544321,
          1.3154303948879278,
          1.3712801391736995,
          1.3712801391736995
         ],
         "yaxis": "y"
        },
        {
         "hoverinfo": "skip",
         "line": {
          "color": "rgba(0, 0, 0, 0)",
          "shape": "hv"
         },
         "mode": "lines",
         "name": "Confidence band",
         "showlegend": false,
         "type": "scatter",
         "x": [
          0,
          1,
          2,
          3,
          4,
          5,
          6,
          7,
          8,
          9,
          10,
          11,
          12,
          13,
          14,
          15,
          16,
          17,
          18,
          19,
          20,
          21
         ],
         "xaxis": "x",
         "y": [
          1.4445095673996204,
          1.4814220293253557,
          1.4764146170025914,
          1.4763955185182376,
          1.494638513242075,
          1.4385579891846456,
          1.4714236840029316,
          1.4873720649047548,
          1.4758816726857227,
          1.5465744715429246,
          1.4810410124620859,
          1.4560476460565666,
          1.4981480775895508,
          1.5242800962355165,
          1.5048014658810789,
          1.4958170889123865,
          1.5967894582687487,
          1.5413564359785594,
          1.526835905685751,
          1.4252120929192467,
          1.4587285330295579,
          1.4587285330295579
         ],
         "yaxis": "y"
        },
        {
         "fill": "tonexty",
         "fillcolor": "rgba(0, 200, 229, 0.2)",
         "hoverinfo": "skip",
         "line": {
          "color": "rgba(0, 0, 0, 0)",
          "shape": "hv"
         },
         "mode": "lines",
         "name": "Confidence band",
         "showlegend": true,
         "type": "scatter",
         "x": [
          0,
          1,
          2,
          3,
          4,
          5,
          6,
          7,
          8,
          9,
          10,
          11,
          12,
          13,
          14,
          15,
          16,
          17,
          18,
          19,
          20,
          21
         ],
         "xaxis": "x",
         "y": [
          1.2249461713369827,
          1.261858633262718,
          1.2568512209399536,
          1.2568321224555998,
          1.2750751171794372,
          1.2189945931220079,
          1.2518602879402938,
          1.267808668842117,
          1.256318276623085,
          1.3270110754802869,
          1.261477616399448,
          1.2364842499939288,
          1.278584681526913,
          1.3047167001728788,
          1.2852380698184411,
          1.2762536928497488,
          1.377226062206111,
          1.3217930399159217,
          1.3072725096231133,
          1.205648696856609,
          1.2838317453178412,
          1.2838317453178412
         ],
         "yaxis": "y"
        },
        {
         "hoverinfo": "skip",
         "line": {
          "color": "#3b0280",
          "shape": "hv",
          "width": 2
         },
         "mode": "lines",
         "name": "<b>RMSE</b> (realized RMSE)",
         "showlegend": true,
         "type": "scatter",
         "x": [
          0,
          1,
          2,
          3,
          4,
          5,
          6,
          7,
          8,
          9,
          10,
          11,
          12,
          13,
          14,
          15,
          16,
          17,
          18,
          19,
          20,
          21
         ],
         "xaxis": "x",
         "y": [
          616.6532091011874,
          666.1114762012899,
          569.2648360907617,
          590.0239205256347,
          372.99346386997354,
          431.4322760129166,
          447.8504166610995,
          440.83897856346607,
          534.8503772616326,
          502.57266271536383,
          531.5404151753644,
          557.380781347486,
          560.7555713272176,
          436.6457075799727,
          453.2526238798875,
          480.59858565770753,
          794.5359112074308,
          512.4959795977219,
          445.33188032223575,
          575.4806863384634,
          412.43543126123456,
          412.43543126123456
         ],
         "yaxis": "y2"
        },
        {
         "customdata": [
          [
           "<b>RMSE</b>",
           "<b style=\"color:Colors.INDIGO_PERSIAN;line-height:60px\">Reference</b>",
           "[0:249]",
           "Chunk index: <b>0</b>",
           616.6532
          ],
          [
           "<b>RMSE</b>",
           "<b style=\"color:Colors.INDIGO_PERSIAN;line-height:60px\">Reference</b>",
           "[250:499]",
           "Chunk index: <b>1</b>",
           666.1115
          ],
          [
           "<b>RMSE</b>",
           "<b style=\"color:Colors.INDIGO_PERSIAN;line-height:60px\">Reference</b>",
           "[500:749]",
           "Chunk index: <b>2</b>",
           569.2648
          ],
          [
           "<b>RMSE</b>",
           "<b style=\"color:Colors.INDIGO_PERSIAN;line-height:60px\">Reference</b>",
           "[750:999]",
           "Chunk index: <b>3</b>",
           590.0239
          ],
          [
           "<b>RMSE</b>",
           "<b style=\"color:Colors.INDIGO_PERSIAN;line-height:60px\">Reference</b>",
           "[1000:1249]",
           "Chunk index: <b>4</b>",
           372.9935
          ],
          [
           "<b>RMSE</b>",
           "<b style=\"color:Colors.INDIGO_PERSIAN;line-height:60px\">Reference</b>",
           "[1250:1499]",
           "Chunk index: <b>5</b>",
           431.4323
          ],
          [
           "<b>RMSE</b>",
           "<b style=\"color:Colors.INDIGO_PERSIAN;line-height:60px\">Reference</b>",
           "[1500:1749]",
           "Chunk index: <b>6</b>",
           447.8504
          ],
          [
           "<b>RMSE</b>",
           "<b style=\"color:Colors.INDIGO_PERSIAN;line-height:60px\">Reference</b>",
           "[1750:1999]",
           "Chunk index: <b>7</b>",
           440.839
          ],
          [
           "<b>RMSE</b>",
           "<b style=\"color:Colors.INDIGO_PERSIAN;line-height:60px\">Reference</b>",
           "[2000:2249]",
           "Chunk index: <b>8</b>",
           534.8504
          ],
          [
           "<b>RMSE</b>",
           "<b style=\"color:Colors.INDIGO_PERSIAN;line-height:60px\">Reference</b>",
           "[2250:2499]",
           "Chunk index: <b>9</b>",
           502.5727
          ],
          [
           "<b>RMSE</b>",
           "<b style=\"color:Colors.INDIGO_PERSIAN;line-height:60px\">Reference</b>",
           "[2500:2749]",
           "Chunk index: <b>10</b>",
           531.5404
          ],
          [
           "<b>RMSE</b>",
           "<b style=\"color:Colors.INDIGO_PERSIAN;line-height:60px\">Reference</b>",
           "[2750:2999]",
           "Chunk index: <b>11</b>",
           557.3808
          ],
          [
           "<b>RMSE</b>",
           "<b style=\"color:Colors.INDIGO_PERSIAN;line-height:60px\">Reference</b>",
           "[3000:3249]",
           "Chunk index: <b>12</b>",
           560.7556
          ],
          [
           "<b>RMSE</b>",
           "<b style=\"color:Colors.INDIGO_PERSIAN;line-height:60px\">Reference</b>",
           "[3250:3499]",
           "Chunk index: <b>13</b>",
           436.6457
          ],
          [
           "<b>RMSE</b>",
           "<b style=\"color:Colors.INDIGO_PERSIAN;line-height:60px\">Reference</b>",
           "[3500:3749]",
           "Chunk index: <b>14</b>",
           453.2526
          ],
          [
           "<b>RMSE</b>",
           "<b style=\"color:Colors.INDIGO_PERSIAN;line-height:60px\">Reference</b>",
           "[3750:3999]",
           "Chunk index: <b>15</b>",
           480.5986
          ],
          [
           "<b>RMSE</b>",
           "<b style=\"color:Colors.INDIGO_PERSIAN;line-height:60px\">Reference</b>",
           "[4000:4249]",
           "Chunk index: <b>16</b>",
           794.5359
          ],
          [
           "<b>RMSE</b>",
           "<b style=\"color:Colors.INDIGO_PERSIAN;line-height:60px\">Reference</b>",
           "[4250:4499]",
           "Chunk index: <b>17</b>",
           512.496
          ],
          [
           "<b>RMSE</b>",
           "<b style=\"color:Colors.INDIGO_PERSIAN;line-height:60px\">Reference</b>",
           "[4500:4749]",
           "Chunk index: <b>18</b>",
           445.3319
          ],
          [
           "<b>RMSE</b>",
           "<b style=\"color:Colors.INDIGO_PERSIAN;line-height:60px\">Reference</b>",
           "[4750:4999]",
           "Chunk index: <b>19</b>",
           575.4807
          ],
          [
           "<b>RMSE</b>",
           "<b style=\"color:Colors.INDIGO_PERSIAN;line-height:60px\">Reference</b>",
           "[5000:5393]",
           "Chunk index: <b>20</b>",
           412.4354
          ]
         ],
         "hovertemplate": "%{customdata[1]}<br />Chunk: <b>%{customdata[2]}</b> &nbsp; &nbsp; %{customdata[3]} <br />%{customdata[0]}: <b>%{customdata[4]}</b><br /><extra></extra>",
         "marker": {
          "color": "#3b0280",
          "size": 5,
          "symbol": "circle"
         },
         "mode": "markers",
         "name": "<b>RMSE</b> (realized RMSE)",
         "showlegend": false,
         "type": "scatter",
         "x": [
          0.5,
          1.5,
          2.5,
          3.5,
          4.5,
          5.5,
          6.5,
          7.5,
          8.5,
          9.5,
          10.5,
          11.5,
          12.5,
          13.5,
          14.5,
          15.5,
          16.5,
          17.5,
          18.5,
          19.5,
          20.5
         ],
         "xaxis": "x",
         "y": [
          616.6532091011874,
          666.1114762012899,
          569.2648360907617,
          590.0239205256347,
          372.99346386997354,
          431.4322760129166,
          447.8504166610995,
          440.83897856346607,
          534.8503772616326,
          502.57266271536383,
          531.5404151753644,
          557.380781347486,
          560.7555713272176,
          436.6457075799727,
          453.2526238798875,
          480.59858565770753,
          794.5359112074308,
          512.4959795977219,
          445.33188032223575,
          575.4806863384634,
          412.43543126123456,
          412.43543126123456
         ],
         "yaxis": "y2"
        },
        {
         "hoverinfo": "skip",
         "line": {
          "color": "#00c8e5",
          "shape": "hv",
          "width": 2
         },
         "mode": "lines",
         "name": "<b>Reconstruction error</b>",
         "showlegend": false,
         "type": "scatter",
         "x": [
          21,
          22,
          23,
          24,
          25,
          26,
          27,
          28,
          29,
          30,
          31,
          32,
          33,
          34,
          35,
          36,
          37,
          38,
          39,
          40,
          41,
          42
         ],
         "xaxis": "x",
         "y": [
          1.3749626468552019,
          3.1845243001423733,
          3.3103309894599655,
          3.2658095600481203,
          3.354325949238515,
          3.262215450748463,
          3.300797922957918,
          3.2706355148018487,
          3.3704361990710074,
          3.3324299811295277,
          3.3696952155521602,
          3.3408910984187448,
          3.3044501222272458,
          3.245840248089644,
          3.3466959172945927,
          3.4283363439298826,
          3.3371328239342684,
          3.3467423400146963,
          3.288465709030432,
          3.322509582222744,
          3.308938095437892,
          3.308938095437892
         ],
         "yaxis": "y"
        },
        {
         "customdata": [
          [
           "<b>Reconstruction error</b>",
           "<b style=\"color:Colors.BLUE_SKY_CRAYOLA;line-height:60px\">Analysis</b>",
           "",
           "[0:249]",
           "Chunk index: <b>21</b>",
           1.375
          ],
          [
           "<b>Reconstruction error</b>",
           "<b style=\"color:Colors.BLUE_SKY_CRAYOLA;line-height:60px\">Analysis</b>",
           "<span style=\"color:#AD0000\">⚠ <b>Drift detected</b></span>",
           "[250:499]",
           "Chunk index: <b>22</b>",
           3.1845
          ],
          [
           "<b>Reconstruction error</b>",
           "<b style=\"color:Colors.BLUE_SKY_CRAYOLA;line-height:60px\">Analysis</b>",
           "<span style=\"color:#AD0000\">⚠ <b>Drift detected</b></span>",
           "[500:749]",
           "Chunk index: <b>23</b>",
           3.3103
          ],
          [
           "<b>Reconstruction error</b>",
           "<b style=\"color:Colors.BLUE_SKY_CRAYOLA;line-height:60px\">Analysis</b>",
           "<span style=\"color:#AD0000\">⚠ <b>Drift detected</b></span>",
           "[750:999]",
           "Chunk index: <b>24</b>",
           3.2658
          ],
          [
           "<b>Reconstruction error</b>",
           "<b style=\"color:Colors.BLUE_SKY_CRAYOLA;line-height:60px\">Analysis</b>",
           "<span style=\"color:#AD0000\">⚠ <b>Drift detected</b></span>",
           "[1000:1249]",
           "Chunk index: <b>25</b>",
           3.3543
          ],
          [
           "<b>Reconstruction error</b>",
           "<b style=\"color:Colors.BLUE_SKY_CRAYOLA;line-height:60px\">Analysis</b>",
           "<span style=\"color:#AD0000\">⚠ <b>Drift detected</b></span>",
           "[1250:1499]",
           "Chunk index: <b>26</b>",
           3.2622
          ],
          [
           "<b>Reconstruction error</b>",
           "<b style=\"color:Colors.BLUE_SKY_CRAYOLA;line-height:60px\">Analysis</b>",
           "<span style=\"color:#AD0000\">⚠ <b>Drift detected</b></span>",
           "[1500:1749]",
           "Chunk index: <b>27</b>",
           3.3008
          ],
          [
           "<b>Reconstruction error</b>",
           "<b style=\"color:Colors.BLUE_SKY_CRAYOLA;line-height:60px\">Analysis</b>",
           "<span style=\"color:#AD0000\">⚠ <b>Drift detected</b></span>",
           "[1750:1999]",
           "Chunk index: <b>28</b>",
           3.2706
          ],
          [
           "<b>Reconstruction error</b>",
           "<b style=\"color:Colors.BLUE_SKY_CRAYOLA;line-height:60px\">Analysis</b>",
           "<span style=\"color:#AD0000\">⚠ <b>Drift detected</b></span>",
           "[2000:2249]",
           "Chunk index: <b>29</b>",
           3.3704
          ],
          [
           "<b>Reconstruction error</b>",
           "<b style=\"color:Colors.BLUE_SKY_CRAYOLA;line-height:60px\">Analysis</b>",
           "<span style=\"color:#AD0000\">⚠ <b>Drift detected</b></span>",
           "[2250:2499]",
           "Chunk index: <b>30</b>",
           3.3324
          ],
          [
           "<b>Reconstruction error</b>",
           "<b style=\"color:Colors.BLUE_SKY_CRAYOLA;line-height:60px\">Analysis</b>",
           "<span style=\"color:#AD0000\">⚠ <b>Drift detected</b></span>",
           "[2500:2749]",
           "Chunk index: <b>31</b>",
           3.3697
          ],
          [
           "<b>Reconstruction error</b>",
           "<b style=\"color:Colors.BLUE_SKY_CRAYOLA;line-height:60px\">Analysis</b>",
           "<span style=\"color:#AD0000\">⚠ <b>Drift detected</b></span>",
           "[2750:2999]",
           "Chunk index: <b>32</b>",
           3.3409
          ],
          [
           "<b>Reconstruction error</b>",
           "<b style=\"color:Colors.BLUE_SKY_CRAYOLA;line-height:60px\">Analysis</b>",
           "<span style=\"color:#AD0000\">⚠ <b>Drift detected</b></span>",
           "[3000:3249]",
           "Chunk index: <b>33</b>",
           3.3045
          ],
          [
           "<b>Reconstruction error</b>",
           "<b style=\"color:Colors.BLUE_SKY_CRAYOLA;line-height:60px\">Analysis</b>",
           "<span style=\"color:#AD0000\">⚠ <b>Drift detected</b></span>",
           "[3250:3499]",
           "Chunk index: <b>34</b>",
           3.2458
          ],
          [
           "<b>Reconstruction error</b>",
           "<b style=\"color:Colors.BLUE_SKY_CRAYOLA;line-height:60px\">Analysis</b>",
           "<span style=\"color:#AD0000\">⚠ <b>Drift detected</b></span>",
           "[3500:3749]",
           "Chunk index: <b>35</b>",
           3.3467
          ],
          [
           "<b>Reconstruction error</b>",
           "<b style=\"color:Colors.BLUE_SKY_CRAYOLA;line-height:60px\">Analysis</b>",
           "<span style=\"color:#AD0000\">⚠ <b>Drift detected</b></span>",
           "[3750:3999]",
           "Chunk index: <b>36</b>",
           3.4283
          ],
          [
           "<b>Reconstruction error</b>",
           "<b style=\"color:Colors.BLUE_SKY_CRAYOLA;line-height:60px\">Analysis</b>",
           "<span style=\"color:#AD0000\">⚠ <b>Drift detected</b></span>",
           "[4000:4249]",
           "Chunk index: <b>37</b>",
           3.3371
          ],
          [
           "<b>Reconstruction error</b>",
           "<b style=\"color:Colors.BLUE_SKY_CRAYOLA;line-height:60px\">Analysis</b>",
           "<span style=\"color:#AD0000\">⚠ <b>Drift detected</b></span>",
           "[4250:4499]",
           "Chunk index: <b>38</b>",
           3.3467
          ],
          [
           "<b>Reconstruction error</b>",
           "<b style=\"color:Colors.BLUE_SKY_CRAYOLA;line-height:60px\">Analysis</b>",
           "<span style=\"color:#AD0000\">⚠ <b>Drift detected</b></span>",
           "[4500:4749]",
           "Chunk index: <b>39</b>",
           3.2885
          ],
          [
           "<b>Reconstruction error</b>",
           "<b style=\"color:Colors.BLUE_SKY_CRAYOLA;line-height:60px\">Analysis</b>",
           "<span style=\"color:#AD0000\">⚠ <b>Drift detected</b></span>",
           "[4750:4999]",
           "Chunk index: <b>40</b>",
           3.3225
          ],
          [
           "<b>Reconstruction error</b>",
           "<b style=\"color:Colors.BLUE_SKY_CRAYOLA;line-height:60px\">Analysis</b>",
           "<span style=\"color:#AD0000\">⚠ <b>Drift detected</b></span>",
           "[5000:5393]",
           "Chunk index: <b>41</b>",
           3.3089
          ]
         ],
         "hovertemplate": "%{customdata[1]} &nbsp; &nbsp; %{customdata[2]} <br />Chunk: <b>%{customdata[3]}</b> &nbsp; &nbsp; %{customdata[4]} <br />%{customdata[0]}: <b>%{customdata[5]}</b><br /><extra></extra>",
         "marker": {
          "color": "#00c8e5",
          "size": 5,
          "symbol": "circle"
         },
         "mode": "markers",
         "name": "<b>Reconstruction error</b>",
         "showlegend": false,
         "type": "scatter",
         "x": [
          21.5,
          22.5,
          23.5,
          24.5,
          25.5,
          26.5,
          27.5,
          28.5,
          29.5,
          30.5,
          31.5,
          32.5,
          33.5,
          34.5,
          35.5,
          36.5,
          37.5,
          38.5,
          39.5,
          40.5,
          41.5
         ],
         "xaxis": "x",
         "y": [
          1.3749626468552019,
          3.1845243001423733,
          3.3103309894599655,
          3.2658095600481203,
          3.354325949238515,
          3.262215450748463,
          3.300797922957918,
          3.2706355148018487,
          3.3704361990710074,
          3.3324299811295277,
          3.3696952155521602,
          3.3408910984187448,
          3.3044501222272458,
          3.245840248089644,
          3.3466959172945927,
          3.4283363439298826,
          3.3371328239342684,
          3.3467423400146963,
          3.288465709030432,
          3.322509582222744,
          3.308938095437892,
          3.308938095437892
         ],
         "yaxis": "y"
        },
        {
         "hoverinfo": "skip",
         "line": {
          "color": "rgba(0, 0, 0, 0)",
          "shape": "hv"
         },
         "mode": "lines",
         "name": "Confidence band",
         "showlegend": false,
         "type": "scatter",
         "x": [
          21,
          22,
          23,
          24,
          25,
          26,
          27,
          28,
          29,
          30,
          31,
          32,
          33,
          34,
          35,
          36,
          37,
          38,
          39,
          40,
          41,
          42
         ],
         "xaxis": "x",
         "y": [
          1.4847443448865207,
          3.294305998173692,
          3.4201126874912844,
          3.375591258079439,
          3.464107647269834,
          3.3719971487797817,
          3.4105796209892367,
          3.3804172128331675,
          3.4802178971023263,
          3.4422116791608466,
          3.479476913583479,
          3.4506727964500636,
          3.4142318202585646,
          3.355621946120963,
          3.4564776153259116,
          3.5381180419612015,
          3.4469145219655872,
          3.456524038046015,
          3.398247407061751,
          3.432291280254063,
          3.3963864892937505,
          3.3963864892937505
         ],
         "yaxis": "y"
        },
        {
         "fill": "tonexty",
         "fillcolor": "rgba(0, 200, 229, 0.2)",
         "hoverinfo": "skip",
         "line": {
          "color": "rgba(0, 0, 0, 0)",
          "shape": "hv"
         },
         "mode": "lines",
         "name": "Confidence band",
         "showlegend": false,
         "type": "scatter",
         "x": [
          21,
          22,
          23,
          24,
          25,
          26,
          27,
          28,
          29,
          30,
          31,
          32,
          33,
          34,
          35,
          36,
          37,
          38,
          39,
          40,
          41,
          42
         ],
         "xaxis": "x",
         "y": [
          1.265180948823883,
          3.0747426021110544,
          3.2005492914286466,
          3.1560278620168014,
          3.2445442512071963,
          3.152433752717144,
          3.191016224926599,
          3.16085381677053,
          3.2606545010396886,
          3.222648283098209,
          3.2599135175208414,
          3.231109400387426,
          3.194668424195927,
          3.1360585500583253,
          3.236914219263274,
          3.3185546458985637,
          3.2273511259029495,
          3.2369606419833774,
          3.1786840109991132,
          3.212727884191425,
          3.221489701582034,
          3.221489701582034
         ],
         "yaxis": "y"
        },
        {
         "hoverinfo": "skip",
         "line": {
          "color": "#3b0280",
          "shape": "hv",
          "width": 2
         },
         "mode": "lines",
         "name": "<b>RMSE</b> (realized RMSE)",
         "showlegend": false,
         "type": "scatter",
         "x": [
          21,
          22,
          23,
          24,
          25,
          26,
          27,
          28,
          29,
          30,
          31,
          32,
          33,
          34,
          35,
          36,
          37,
          38,
          39,
          40,
          41,
          42
         ],
         "xaxis": "x",
         "y": [
          497.278867413763,
          826.0348895952544,
          990.4743950345095,
          936.2088824999535,
          959.2457985077156,
          950.0532540710599,
          911.7018071988292,
          908.8738241660241,
          1115.3217576094125,
          855.0471599871684,
          864.8727269050208,
          849.9761974606421,
          894.3497975959795,
          872.5870374133101,
          827.320827296538,
          1043.386474036436,
          982.988744694712,
          873.7325388269521,
          1032.812121910391,
          824.8615169644063,
          802.3973821875121,
          802.3973821875121
         ],
         "yaxis": "y2"
        },
        {
         "customdata": [
          [
           "<b>RMSE</b>",
           "<b style=\"color:Colors.INDIGO_PERSIAN;line-height:60px\">Analysis</b>",
           "",
           "[0:249]",
           "Chunk index: <b>21</b>",
           497.2789
          ],
          [
           "<b>RMSE</b>",
           "<b style=\"color:Colors.INDIGO_PERSIAN;line-height:60px\">Analysis</b>",
           "<span style=\"color:#AD0000\">⚠ <b>Drift detected</b></span>",
           "[250:499]",
           "Chunk index: <b>22</b>",
           826.0349
          ],
          [
           "<b>RMSE</b>",
           "<b style=\"color:Colors.INDIGO_PERSIAN;line-height:60px\">Analysis</b>",
           "<span style=\"color:#AD0000\">⚠ <b>Drift detected</b></span>",
           "[500:749]",
           "Chunk index: <b>23</b>",
           990.4744
          ],
          [
           "<b>RMSE</b>",
           "<b style=\"color:Colors.INDIGO_PERSIAN;line-height:60px\">Analysis</b>",
           "<span style=\"color:#AD0000\">⚠ <b>Drift detected</b></span>",
           "[750:999]",
           "Chunk index: <b>24</b>",
           936.2089
          ],
          [
           "<b>RMSE</b>",
           "<b style=\"color:Colors.INDIGO_PERSIAN;line-height:60px\">Analysis</b>",
           "<span style=\"color:#AD0000\">⚠ <b>Drift detected</b></span>",
           "[1000:1249]",
           "Chunk index: <b>25</b>",
           959.2458
          ],
          [
           "<b>RMSE</b>",
           "<b style=\"color:Colors.INDIGO_PERSIAN;line-height:60px\">Analysis</b>",
           "<span style=\"color:#AD0000\">⚠ <b>Drift detected</b></span>",
           "[1250:1499]",
           "Chunk index: <b>26</b>",
           950.0533
          ],
          [
           "<b>RMSE</b>",
           "<b style=\"color:Colors.INDIGO_PERSIAN;line-height:60px\">Analysis</b>",
           "<span style=\"color:#AD0000\">⚠ <b>Drift detected</b></span>",
           "[1500:1749]",
           "Chunk index: <b>27</b>",
           911.7018
          ],
          [
           "<b>RMSE</b>",
           "<b style=\"color:Colors.INDIGO_PERSIAN;line-height:60px\">Analysis</b>",
           "<span style=\"color:#AD0000\">⚠ <b>Drift detected</b></span>",
           "[1750:1999]",
           "Chunk index: <b>28</b>",
           908.8738
          ],
          [
           "<b>RMSE</b>",
           "<b style=\"color:Colors.INDIGO_PERSIAN;line-height:60px\">Analysis</b>",
           "<span style=\"color:#AD0000\">⚠ <b>Drift detected</b></span>",
           "[2000:2249]",
           "Chunk index: <b>29</b>",
           1115.3218
          ],
          [
           "<b>RMSE</b>",
           "<b style=\"color:Colors.INDIGO_PERSIAN;line-height:60px\">Analysis</b>",
           "<span style=\"color:#AD0000\">⚠ <b>Drift detected</b></span>",
           "[2250:2499]",
           "Chunk index: <b>30</b>",
           855.0472
          ],
          [
           "<b>RMSE</b>",
           "<b style=\"color:Colors.INDIGO_PERSIAN;line-height:60px\">Analysis</b>",
           "<span style=\"color:#AD0000\">⚠ <b>Drift detected</b></span>",
           "[2500:2749]",
           "Chunk index: <b>31</b>",
           864.8727
          ],
          [
           "<b>RMSE</b>",
           "<b style=\"color:Colors.INDIGO_PERSIAN;line-height:60px\">Analysis</b>",
           "<span style=\"color:#AD0000\">⚠ <b>Drift detected</b></span>",
           "[2750:2999]",
           "Chunk index: <b>32</b>",
           849.9762
          ],
          [
           "<b>RMSE</b>",
           "<b style=\"color:Colors.INDIGO_PERSIAN;line-height:60px\">Analysis</b>",
           "<span style=\"color:#AD0000\">⚠ <b>Drift detected</b></span>",
           "[3000:3249]",
           "Chunk index: <b>33</b>",
           894.3498
          ],
          [
           "<b>RMSE</b>",
           "<b style=\"color:Colors.INDIGO_PERSIAN;line-height:60px\">Analysis</b>",
           "<span style=\"color:#AD0000\">⚠ <b>Drift detected</b></span>",
           "[3250:3499]",
           "Chunk index: <b>34</b>",
           872.587
          ],
          [
           "<b>RMSE</b>",
           "<b style=\"color:Colors.INDIGO_PERSIAN;line-height:60px\">Analysis</b>",
           "<span style=\"color:#AD0000\">⚠ <b>Drift detected</b></span>",
           "[3500:3749]",
           "Chunk index: <b>35</b>",
           827.3208
          ],
          [
           "<b>RMSE</b>",
           "<b style=\"color:Colors.INDIGO_PERSIAN;line-height:60px\">Analysis</b>",
           "<span style=\"color:#AD0000\">⚠ <b>Drift detected</b></span>",
           "[3750:3999]",
           "Chunk index: <b>36</b>",
           1043.3865
          ],
          [
           "<b>RMSE</b>",
           "<b style=\"color:Colors.INDIGO_PERSIAN;line-height:60px\">Analysis</b>",
           "<span style=\"color:#AD0000\">⚠ <b>Drift detected</b></span>",
           "[4000:4249]",
           "Chunk index: <b>37</b>",
           982.9887
          ],
          [
           "<b>RMSE</b>",
           "<b style=\"color:Colors.INDIGO_PERSIAN;line-height:60px\">Analysis</b>",
           "<span style=\"color:#AD0000\">⚠ <b>Drift detected</b></span>",
           "[4250:4499]",
           "Chunk index: <b>38</b>",
           873.7325
          ],
          [
           "<b>RMSE</b>",
           "<b style=\"color:Colors.INDIGO_PERSIAN;line-height:60px\">Analysis</b>",
           "<span style=\"color:#AD0000\">⚠ <b>Drift detected</b></span>",
           "[4500:4749]",
           "Chunk index: <b>39</b>",
           1032.8121
          ],
          [
           "<b>RMSE</b>",
           "<b style=\"color:Colors.INDIGO_PERSIAN;line-height:60px\">Analysis</b>",
           "<span style=\"color:#AD0000\">⚠ <b>Drift detected</b></span>",
           "[4750:4999]",
           "Chunk index: <b>40</b>",
           824.8615
          ],
          [
           "<b>RMSE</b>",
           "<b style=\"color:Colors.INDIGO_PERSIAN;line-height:60px\">Analysis</b>",
           "",
           "[5000:5393]",
           "Chunk index: <b>41</b>",
           802.3974
          ]
         ],
         "hovertemplate": "%{customdata[1]} &nbsp; &nbsp; %{customdata[2]} <br />Chunk: <b>%{customdata[3]}</b> &nbsp; &nbsp; %{customdata[4]} <br />%{customdata[0]}: <b>%{customdata[5]}</b><br /><extra></extra>",
         "marker": {
          "color": "#3b0280",
          "size": 5,
          "symbol": "circle"
         },
         "mode": "markers",
         "name": "<b>RMSE</b> (realized RMSE)",
         "showlegend": false,
         "type": "scatter",
         "x": [
          21.5,
          22.5,
          23.5,
          24.5,
          25.5,
          26.5,
          27.5,
          28.5,
          29.5,
          30.5,
          31.5,
          32.5,
          33.5,
          34.5,
          35.5,
          36.5,
          37.5,
          38.5,
          39.5,
          40.5,
          41.5
         ],
         "xaxis": "x",
         "y": [
          497.278867413763,
          826.0348895952544,
          990.4743950345095,
          936.2088824999535,
          959.2457985077156,
          950.0532540710599,
          911.7018071988292,
          908.8738241660241,
          1115.3217576094125,
          855.0471599871684,
          864.8727269050208,
          849.9761974606421,
          894.3497975959795,
          872.5870374133101,
          827.320827296538,
          1043.386474036436,
          982.988744694712,
          873.7325388269521,
          1032.812121910391,
          824.8615169644063,
          802.3973821875121,
          802.3973821875121
         ],
         "yaxis": "y2"
        },
        {
         "hoverinfo": "skip",
         "legendgroup": "alert",
         "marker": {
          "color": "#DD4040",
          "size": 8,
          "symbol": "diamond"
         },
         "mode": "markers",
         "name": "Alert",
         "showlegend": true,
         "type": "scatter",
         "x": [
          22.5,
          23.5,
          24.5,
          25.5,
          26.5,
          27.5,
          28.5,
          29.5,
          30.5,
          31.5,
          32.5,
          33.5,
          34.5,
          35.5,
          36.5,
          37.5,
          38.5,
          39.5,
          40.5,
          41.5
         ],
         "xaxis": "x",
         "y": [
          3.1845243001423733,
          3.3103309894599655,
          3.2658095600481203,
          3.354325949238515,
          3.262215450748463,
          3.300797922957918,
          3.2706355148018487,
          3.3704361990710074,
          3.3324299811295277,
          3.3696952155521602,
          3.3408910984187448,
          3.3044501222272458,
          3.245840248089644,
          3.3466959172945927,
          3.4283363439298826,
          3.3371328239342684,
          3.3467423400146963,
          3.288465709030432,
          3.322509582222744,
          3.308938095437892
         ],
         "yaxis": "y"
        },
        {
         "hoverinfo": "skip",
         "legendgroup": "alert",
         "marker": {
          "color": "#DD4040",
          "size": 8,
          "symbol": "diamond"
         },
         "mode": "markers",
         "name": "Alert",
         "showlegend": false,
         "type": "scatter",
         "x": [
          22.5,
          23.5,
          24.5,
          25.5,
          26.5,
          27.5,
          28.5,
          29.5,
          30.5,
          31.5,
          32.5,
          33.5,
          34.5,
          35.5,
          36.5,
          37.5,
          38.5,
          39.5,
          40.5
         ],
         "xaxis": "x",
         "y": [
          826.0348895952544,
          990.4743950345095,
          936.2088824999535,
          959.2457985077156,
          950.0532540710599,
          911.7018071988292,
          908.8738241660241,
          1115.3217576094125,
          855.0471599871684,
          864.8727269050208,
          849.9761974606421,
          894.3497975959795,
          872.5870374133101,
          827.320827296538,
          1043.386474036436,
          982.988744694712,
          873.7325388269521,
          1032.812121910391,
          824.8615169644063
         ],
         "yaxis": "y2"
        }
       ],
       "layout": {
        "annotations": [
         {
          "font": {
           "size": 16
          },
          "showarrow": false,
          "text": "<b>Reconstruction error</b> vs. <b>RMSE</b> (realized RMSE)",
          "x": 0.47,
          "xanchor": "center",
          "xref": "paper",
          "y": 1,
          "yanchor": "bottom",
          "yref": "paper"
         },
         {
          "showarrow": false,
          "text": "Reference",
          "x": 10,
          "xshift": 10,
          "y": 1,
          "yref": "paper"
         },
         {
          "showarrow": false,
          "text": "Analysis",
          "x": 31,
          "xshift": 15,
          "y": 1,
          "yref": "paper"
         }
        ],
        "autosize": true,
        "hoverlabel": {
         "bgcolor": "white",
         "font": {
          "size": 14
         }
        },
        "legend": {
         "itemclick": false,
         "itemdoubleclick": false,
         "traceorder": "grouped"
        },
        "paper_bgcolor": "rgba(255,255,255,1)",
        "plot_bgcolor": "rgba(255,255,255,1)",
        "shapes": [
         {
          "layer": "below",
          "line": {
           "color": "#666666",
           "width": 1
          },
          "type": "line",
          "x0": 21,
          "x1": 21,
          "xref": "x",
          "y0": 0,
          "y1": 1,
          "yref": "y domain"
         }
        ],
        "template": {
         "data": {
          "bar": [
           {
            "error_x": {
             "color": "#2a3f5f"
            },
            "error_y": {
             "color": "#2a3f5f"
            },
            "marker": {
             "line": {
              "color": "#E5ECF6",
              "width": 0.5
             },
             "pattern": {
              "fillmode": "overlay",
              "size": 10,
              "solidity": 0.2
             }
            },
            "type": "bar"
           }
          ],
          "barpolar": [
           {
            "marker": {
             "line": {
              "color": "#E5ECF6",
              "width": 0.5
             },
             "pattern": {
              "fillmode": "overlay",
              "size": 10,
              "solidity": 0.2
             }
            },
            "type": "barpolar"
           }
          ],
          "carpet": [
           {
            "aaxis": {
             "endlinecolor": "#2a3f5f",
             "gridcolor": "white",
             "linecolor": "white",
             "minorgridcolor": "white",
             "startlinecolor": "#2a3f5f"
            },
            "baxis": {
             "endlinecolor": "#2a3f5f",
             "gridcolor": "white",
             "linecolor": "white",
             "minorgridcolor": "white",
             "startlinecolor": "#2a3f5f"
            },
            "type": "carpet"
           }
          ],
          "choropleth": [
           {
            "colorbar": {
             "outlinewidth": 0,
             "ticks": ""
            },
            "type": "choropleth"
           }
          ],
          "contour": [
           {
            "colorbar": {
             "outlinewidth": 0,
             "ticks": ""
            },
            "colorscale": [
             [
              0,
              "#0d0887"
             ],
             [
              0.1111111111111111,
              "#46039f"
             ],
             [
              0.2222222222222222,
              "#7201a8"
             ],
             [
              0.3333333333333333,
              "#9c179e"
             ],
             [
              0.4444444444444444,
              "#bd3786"
             ],
             [
              0.5555555555555556,
              "#d8576b"
             ],
             [
              0.6666666666666666,
              "#ed7953"
             ],
             [
              0.7777777777777778,
              "#fb9f3a"
             ],
             [
              0.8888888888888888,
              "#fdca26"
             ],
             [
              1,
              "#f0f921"
             ]
            ],
            "type": "contour"
           }
          ],
          "contourcarpet": [
           {
            "colorbar": {
             "outlinewidth": 0,
             "ticks": ""
            },
            "type": "contourcarpet"
           }
          ],
          "heatmap": [
           {
            "colorbar": {
             "outlinewidth": 0,
             "ticks": ""
            },
            "colorscale": [
             [
              0,
              "#0d0887"
             ],
             [
              0.1111111111111111,
              "#46039f"
             ],
             [
              0.2222222222222222,
              "#7201a8"
             ],
             [
              0.3333333333333333,
              "#9c179e"
             ],
             [
              0.4444444444444444,
              "#bd3786"
             ],
             [
              0.5555555555555556,
              "#d8576b"
             ],
             [
              0.6666666666666666,
              "#ed7953"
             ],
             [
              0.7777777777777778,
              "#fb9f3a"
             ],
             [
              0.8888888888888888,
              "#fdca26"
             ],
             [
              1,
              "#f0f921"
             ]
            ],
            "type": "heatmap"
           }
          ],
          "heatmapgl": [
           {
            "colorbar": {
             "outlinewidth": 0,
             "ticks": ""
            },
            "colorscale": [
             [
              0,
              "#0d0887"
             ],
             [
              0.1111111111111111,
              "#46039f"
             ],
             [
              0.2222222222222222,
              "#7201a8"
             ],
             [
              0.3333333333333333,
              "#9c179e"
             ],
             [
              0.4444444444444444,
              "#bd3786"
             ],
             [
              0.5555555555555556,
              "#d8576b"
             ],
             [
              0.6666666666666666,
              "#ed7953"
             ],
             [
              0.7777777777777778,
              "#fb9f3a"
             ],
             [
              0.8888888888888888,
              "#fdca26"
             ],
             [
              1,
              "#f0f921"
             ]
            ],
            "type": "heatmapgl"
           }
          ],
          "histogram": [
           {
            "marker": {
             "pattern": {
              "fillmode": "overlay",
              "size": 10,
              "solidity": 0.2
             }
            },
            "type": "histogram"
           }
          ],
          "histogram2d": [
           {
            "colorbar": {
             "outlinewidth": 0,
             "ticks": ""
            },
            "colorscale": [
             [
              0,
              "#0d0887"
             ],
             [
              0.1111111111111111,
              "#46039f"
             ],
             [
              0.2222222222222222,
              "#7201a8"
             ],
             [
              0.3333333333333333,
              "#9c179e"
             ],
             [
              0.4444444444444444,
              "#bd3786"
             ],
             [
              0.5555555555555556,
              "#d8576b"
             ],
             [
              0.6666666666666666,
              "#ed7953"
             ],
             [
              0.7777777777777778,
              "#fb9f3a"
             ],
             [
              0.8888888888888888,
              "#fdca26"
             ],
             [
              1,
              "#f0f921"
             ]
            ],
            "type": "histogram2d"
           }
          ],
          "histogram2dcontour": [
           {
            "colorbar": {
             "outlinewidth": 0,
             "ticks": ""
            },
            "colorscale": [
             [
              0,
              "#0d0887"
             ],
             [
              0.1111111111111111,
              "#46039f"
             ],
             [
              0.2222222222222222,
              "#7201a8"
             ],
             [
              0.3333333333333333,
              "#9c179e"
             ],
             [
              0.4444444444444444,
              "#bd3786"
             ],
             [
              0.5555555555555556,
              "#d8576b"
             ],
             [
              0.6666666666666666,
              "#ed7953"
             ],
             [
              0.7777777777777778,
              "#fb9f3a"
             ],
             [
              0.8888888888888888,
              "#fdca26"
             ],
             [
              1,
              "#f0f921"
             ]
            ],
            "type": "histogram2dcontour"
           }
          ],
          "mesh3d": [
           {
            "colorbar": {
             "outlinewidth": 0,
             "ticks": ""
            },
            "type": "mesh3d"
           }
          ],
          "parcoords": [
           {
            "line": {
             "colorbar": {
              "outlinewidth": 0,
              "ticks": ""
             }
            },
            "type": "parcoords"
           }
          ],
          "pie": [
           {
            "automargin": true,
            "type": "pie"
           }
          ],
          "scatter": [
           {
            "fillpattern": {
             "fillmode": "overlay",
             "size": 10,
             "solidity": 0.2
            },
            "type": "scatter"
           }
          ],
          "scatter3d": [
           {
            "line": {
             "colorbar": {
              "outlinewidth": 0,
              "ticks": ""
             }
            },
            "marker": {
             "colorbar": {
              "outlinewidth": 0,
              "ticks": ""
             }
            },
            "type": "scatter3d"
           }
          ],
          "scattercarpet": [
           {
            "marker": {
             "colorbar": {
              "outlinewidth": 0,
              "ticks": ""
             }
            },
            "type": "scattercarpet"
           }
          ],
          "scattergeo": [
           {
            "marker": {
             "colorbar": {
              "outlinewidth": 0,
              "ticks": ""
             }
            },
            "type": "scattergeo"
           }
          ],
          "scattergl": [
           {
            "marker": {
             "colorbar": {
              "outlinewidth": 0,
              "ticks": ""
             }
            },
            "type": "scattergl"
           }
          ],
          "scattermapbox": [
           {
            "marker": {
             "colorbar": {
              "outlinewidth": 0,
              "ticks": ""
             }
            },
            "type": "scattermapbox"
           }
          ],
          "scatterpolar": [
           {
            "marker": {
             "colorbar": {
              "outlinewidth": 0,
              "ticks": ""
             }
            },
            "type": "scatterpolar"
           }
          ],
          "scatterpolargl": [
           {
            "marker": {
             "colorbar": {
              "outlinewidth": 0,
              "ticks": ""
             }
            },
            "type": "scatterpolargl"
           }
          ],
          "scatterternary": [
           {
            "marker": {
             "colorbar": {
              "outlinewidth": 0,
              "ticks": ""
             }
            },
            "type": "scatterternary"
           }
          ],
          "surface": [
           {
            "colorbar": {
             "outlinewidth": 0,
             "ticks": ""
            },
            "colorscale": [
             [
              0,
              "#0d0887"
             ],
             [
              0.1111111111111111,
              "#46039f"
             ],
             [
              0.2222222222222222,
              "#7201a8"
             ],
             [
              0.3333333333333333,
              "#9c179e"
             ],
             [
              0.4444444444444444,
              "#bd3786"
             ],
             [
              0.5555555555555556,
              "#d8576b"
             ],
             [
              0.6666666666666666,
              "#ed7953"
             ],
             [
              0.7777777777777778,
              "#fb9f3a"
             ],
             [
              0.8888888888888888,
              "#fdca26"
             ],
             [
              1,
              "#f0f921"
             ]
            ],
            "type": "surface"
           }
          ],
          "table": [
           {
            "cells": {
             "fill": {
              "color": "#EBF0F8"
             },
             "line": {
              "color": "white"
             }
            },
            "header": {
             "fill": {
              "color": "#C8D4E3"
             },
             "line": {
              "color": "white"
             }
            },
            "type": "table"
           }
          ]
         },
         "layout": {
          "annotationdefaults": {
           "arrowcolor": "#2a3f5f",
           "arrowhead": 0,
           "arrowwidth": 1
          },
          "autotypenumbers": "strict",
          "coloraxis": {
           "colorbar": {
            "outlinewidth": 0,
            "ticks": ""
           }
          },
          "colorscale": {
           "diverging": [
            [
             0,
             "#8e0152"
            ],
            [
             0.1,
             "#c51b7d"
            ],
            [
             0.2,
             "#de77ae"
            ],
            [
             0.3,
             "#f1b6da"
            ],
            [
             0.4,
             "#fde0ef"
            ],
            [
             0.5,
             "#f7f7f7"
            ],
            [
             0.6,
             "#e6f5d0"
            ],
            [
             0.7,
             "#b8e186"
            ],
            [
             0.8,
             "#7fbc41"
            ],
            [
             0.9,
             "#4d9221"
            ],
            [
             1,
             "#276419"
            ]
           ],
           "sequential": [
            [
             0,
             "#0d0887"
            ],
            [
             0.1111111111111111,
             "#46039f"
            ],
            [
             0.2222222222222222,
             "#7201a8"
            ],
            [
             0.3333333333333333,
             "#9c179e"
            ],
            [
             0.4444444444444444,
             "#bd3786"
            ],
            [
             0.5555555555555556,
             "#d8576b"
            ],
            [
             0.6666666666666666,
             "#ed7953"
            ],
            [
             0.7777777777777778,
             "#fb9f3a"
            ],
            [
             0.8888888888888888,
             "#fdca26"
            ],
            [
             1,
             "#f0f921"
            ]
           ],
           "sequentialminus": [
            [
             0,
             "#0d0887"
            ],
            [
             0.1111111111111111,
             "#46039f"
            ],
            [
             0.2222222222222222,
             "#7201a8"
            ],
            [
             0.3333333333333333,
             "#9c179e"
            ],
            [
             0.4444444444444444,
             "#bd3786"
            ],
            [
             0.5555555555555556,
             "#d8576b"
            ],
            [
             0.6666666666666666,
             "#ed7953"
            ],
            [
             0.7777777777777778,
             "#fb9f3a"
            ],
            [
             0.8888888888888888,
             "#fdca26"
            ],
            [
             1,
             "#f0f921"
            ]
           ]
          },
          "colorway": [
           "#636efa",
           "#EF553B",
           "#00cc96",
           "#ab63fa",
           "#FFA15A",
           "#19d3f3",
           "#FF6692",
           "#B6E880",
           "#FF97FF",
           "#FECB52"
          ],
          "font": {
           "color": "#2a3f5f"
          },
          "geo": {
           "bgcolor": "white",
           "lakecolor": "white",
           "landcolor": "#E5ECF6",
           "showlakes": true,
           "showland": true,
           "subunitcolor": "white"
          },
          "hoverlabel": {
           "align": "left"
          },
          "hovermode": "closest",
          "mapbox": {
           "style": "light"
          },
          "paper_bgcolor": "white",
          "plot_bgcolor": "#E5ECF6",
          "polar": {
           "angularaxis": {
            "gridcolor": "white",
            "linecolor": "white",
            "ticks": ""
           },
           "bgcolor": "#E5ECF6",
           "radialaxis": {
            "gridcolor": "white",
            "linecolor": "white",
            "ticks": ""
           }
          },
          "scene": {
           "xaxis": {
            "backgroundcolor": "#E5ECF6",
            "gridcolor": "white",
            "gridwidth": 2,
            "linecolor": "white",
            "showbackground": true,
            "ticks": "",
            "zerolinecolor": "white"
           },
           "yaxis": {
            "backgroundcolor": "#E5ECF6",
            "gridcolor": "white",
            "gridwidth": 2,
            "linecolor": "white",
            "showbackground": true,
            "ticks": "",
            "zerolinecolor": "white"
           },
           "zaxis": {
            "backgroundcolor": "#E5ECF6",
            "gridcolor": "white",
            "gridwidth": 2,
            "linecolor": "white",
            "showbackground": true,
            "ticks": "",
            "zerolinecolor": "white"
           }
          },
          "shapedefaults": {
           "line": {
            "color": "#2a3f5f"
           }
          },
          "ternary": {
           "aaxis": {
            "gridcolor": "white",
            "linecolor": "white",
            "ticks": ""
           },
           "baxis": {
            "gridcolor": "white",
            "linecolor": "white",
            "ticks": ""
           },
           "bgcolor": "#E5ECF6",
           "caxis": {
            "gridcolor": "white",
            "linecolor": "white",
            "ticks": ""
           }
          },
          "title": {
           "x": 0.05
          },
          "xaxis": {
           "automargin": true,
           "gridcolor": "white",
           "linecolor": "white",
           "ticks": "",
           "title": {
            "standoff": 15
           },
           "zerolinecolor": "white",
           "zerolinewidth": 2
          },
          "yaxis": {
           "automargin": true,
           "gridcolor": "white",
           "linecolor": "white",
           "ticks": "",
           "title": {
            "standoff": 15
           },
           "zerolinecolor": "white",
           "zerolinewidth": 2
          }
         }
        },
        "title": {
         "text": "<b>Multivariate drift</b> vs. <b>Realized performance</b>"
        },
        "xaxis": {
         "anchor": "y",
         "autorange": true,
         "domain": [
          0,
          0.94
         ],
         "linecolor": "#3b0280",
         "matches": "x",
         "mirror": true,
         "range": [
          -2.589994627021099,
          45.01581705283799
         ],
         "showgrid": false,
         "title": {
          "text": "Chunk"
         },
         "type": "linear",
         "zeroline": false
        },
        "yaxis": {
         "anchor": "x",
         "autorange": true,
         "domain": [
          0,
          1
         ],
         "linecolor": "#3b0280",
         "mirror": true,
         "range": [
          1.0760670665730205,
          3.66769967224479
         ],
         "showgrid": false,
         "title": {
          "text": "<b>Reconstruction error</b>"
         },
         "type": "linear",
         "zeroline": false
        },
        "yaxis2": {
         "anchor": "x",
         "autorange": true,
         "linecolor": "#3b0280",
         "mirror": true,
         "overlaying": "y",
         "range": [
          322.2671445568274,
          1171.021245482671
         ],
         "showgrid": false,
         "side": "right",
         "title": {
          "text": "<b>RMSE</b>"
         },
         "type": "linear",
         "zeroline": false
        }
       }
      },
      "image/png": "[encoded data removed]",
      "text/html": [
       "<div>                            <div id=\"c3233023-e790-4cca-adb6-2d5a83f8f9cc\" class=\"plotly-graph-div\" style=\"height:500.0px; width:100%;\"></div>            <script type=\"text/javascript\">                require([\"plotly\"], function(Plotly) {                    window.PLOTLYENV=window.PLOTLYENV || {};                                    if (document.getElementById(\"c3233023-e790-4cca-adb6-2d5a83f8f9cc\")) {                    Plotly.newPlot(                        \"c3233023-e790-4cca-adb6-2d5a83f8f9cc\",                        [{\"hoverinfo\":\"skip\",\"line\":{\"color\":\"#00c8e5\",\"shape\":\"hv\",\"width\":2},\"mode\":\"lines\",\"name\":\"\\u003cb\\u003eReconstruction error\\u003c\\u002fb\\u003e\",\"showlegend\":true,\"x\":[0,1,2,3,4,5,6,7,8,9,10,11,12,13,14,15,16,17,18,19,20,21],\"xaxis\":\"x\",\"y\":[1.3347278693683016,1.3716403312940368,1.3666329189712725,1.3666138204869187,1.384856815210756,1.3287762911533267,1.3616419859716127,1.377590366873436,1.3660999746544038,1.4367927735116057,1.371259314430767,1.3462659480252477,1.388366379558232,1.4144983982041976,1.39501976784976,1.3860353908810676,1.4870077602374299,1.4315747379472405,1.4170542076544321,1.3154303948879278,1.3712801391736995,1.3712801391736995],\"yaxis\":\"y\",\"type\":\"scatter\"},{\"customdata\":[[\"\\u003cb\\u003eReconstruction error\\u003c\\u002fb\\u003e\",\"\\u003cb style=\\\"color:Colors.BLUE_SKY_CRAYOLA;line-height:60px\\\"\\u003eReference\\u003c\\u002fb\\u003e\",\"[0:249]\",\"Chunk index: \\u003cb\\u003e0\\u003c\\u002fb\\u003e\",1.3347],[\"\\u003cb\\u003eReconstruction error\\u003c\\u002fb\\u003e\",\"\\u003cb style=\\\"color:Colors.BLUE_SKY_CRAYOLA;line-height:60px\\\"\\u003eReference\\u003c\\u002fb\\u003e\",\"[250:499]\",\"Chunk index: \\u003cb\\u003e1\\u003c\\u002fb\\u003e\",1.3716],[\"\\u003cb\\u003eReconstruction error\\u003c\\u002fb\\u003e\",\"\\u003cb style=\\\"color:Colors.BLUE_SKY_CRAYOLA;line-height:60px\\\"\\u003eReference\\u003c\\u002fb\\u003e\",\"[500:749]\",\"Chunk index: \\u003cb\\u003e2\\u003c\\u002fb\\u003e\",1.3666],[\"\\u003cb\\u003eReconstruction error\\u003c\\u002fb\\u003e\",\"\\u003cb style=\\\"color:Colors.BLUE_SKY_CRAYOLA;line-height:60px\\\"\\u003eReference\\u003c\\u002fb\\u003e\",\"[750:999]\",\"Chunk index: \\u003cb\\u003e3\\u003c\\u002fb\\u003e\",1.3666],[\"\\u003cb\\u003eReconstruction error\\u003c\\u002fb\\u003e\",\"\\u003cb style=\\\"color:Colors.BLUE_SKY_CRAYOLA;line-height:60px\\\"\\u003eReference\\u003c\\u002fb\\u003e\",\"[1000:1249]\",\"Chunk index: \\u003cb\\u003e4\\u003c\\u002fb\\u003e\",1.3849],[\"\\u003cb\\u003eReconstruction error\\u003c\\u002fb\\u003e\",\"\\u003cb style=\\\"color:Colors.BLUE_SKY_CRAYOLA;line-height:60px\\\"\\u003eReference\\u003c\\u002fb\\u003e\",\"[1250:1499]\",\"Chunk index: \\u003cb\\u003e5\\u003c\\u002fb\\u003e\",1.3288],[\"\\u003cb\\u003eReconstruction error\\u003c\\u002fb\\u003e\",\"\\u003cb style=\\\"color:Colors.BLUE_SKY_CRAYOLA;line-height:60px\\\"\\u003eReference\\u003c\\u002fb\\u003e\",\"[1500:1749]\",\"Chunk index: \\u003cb\\u003e6\\u003c\\u002fb\\u003e\",1.3616],[\"\\u003cb\\u003eReconstruction error\\u003c\\u002fb\\u003e\",\"\\u003cb style=\\\"color:Colors.BLUE_SKY_CRAYOLA;line-height:60px\\\"\\u003eReference\\u003c\\u002fb\\u003e\",\"[1750:1999]\",\"Chunk index: \\u003cb\\u003e7\\u003c\\u002fb\\u003e\",1.3776],[\"\\u003cb\\u003eReconstruction error\\u003c\\u002fb\\u003e\",\"\\u003cb style=\\\"color:Colors.BLUE_SKY_CRAYOLA;line-height:60px\\\"\\u003eReference\\u003c\\u002fb\\u003e\",\"[2000:2249]\",\"Chunk index: \\u003cb\\u003e8\\u003c\\u002fb\\u003e\",1.3661],[\"\\u003cb\\u003eReconstruction error\\u003c\\u002fb\\u003e\",\"\\u003cb style=\\\"color:Colors.BLUE_SKY_CRAYOLA;line-height:60px\\\"\\u003eReference\\u003c\\u002fb\\u003e\",\"[2250:2499]\",\"Chunk index: \\u003cb\\u003e9\\u003c\\u002fb\\u003e\",1.4368],[\"\\u003cb\\u003eReconstruction error\\u003c\\u002fb\\u003e\",\"\\u003cb style=\\\"color:Colors.BLUE_SKY_CRAYOLA;line-height:60px\\\"\\u003eReference\\u003c\\u002fb\\u003e\",\"[2500:2749]\",\"Chunk index: \\u003cb\\u003e10\\u003c\\u002fb\\u003e\",1.3713],[\"\\u003cb\\u003eReconstruction error\\u003c\\u002fb\\u003e\",\"\\u003cb style=\\\"color:Colors.BLUE_SKY_CRAYOLA;line-height:60px\\\"\\u003eReference\\u003c\\u002fb\\u003e\",\"[2750:2999]\",\"Chunk index: \\u003cb\\u003e11\\u003c\\u002fb\\u003e\",1.3463],[\"\\u003cb\\u003eReconstruction error\\u003c\\u002fb\\u003e\",\"\\u003cb style=\\\"color:Colors.BLUE_SKY_CRAYOLA;line-height:60px\\\"\\u003eReference\\u003c\\u002fb\\u003e\",\"[3000:3249]\",\"Chunk index: \\u003cb\\u003e12\\u003c\\u002fb\\u003e\",1.3884],[\"\\u003cb\\u003eReconstruction error\\u003c\\u002fb\\u003e\",\"\\u003cb style=\\\"color:Colors.BLUE_SKY_CRAYOLA;line-height:60px\\\"\\u003eReference\\u003c\\u002fb\\u003e\",\"[3250:3499]\",\"Chunk index: \\u003cb\\u003e13\\u003c\\u002fb\\u003e\",1.4145],[\"\\u003cb\\u003eReconstruction error\\u003c\\u002fb\\u003e\",\"\\u003cb style=\\\"color:Colors.BLUE_SKY_CRAYOLA;line-height:60px\\\"\\u003eReference\\u003c\\u002fb\\u003e\",\"[3500:3749]\",\"Chunk index: \\u003cb\\u003e14\\u003c\\u002fb\\u003e\",1.395],[\"\\u003cb\\u003eReconstruction error\\u003c\\u002fb\\u003e\",\"\\u003cb style=\\\"color:Colors.BLUE_SKY_CRAYOLA;line-height:60px\\\"\\u003eReference\\u003c\\u002fb\\u003e\",\"[3750:3999]\",\"Chunk index: \\u003cb\\u003e15\\u003c\\u002fb\\u003e\",1.386],[\"\\u003cb\\u003eReconstruction error\\u003c\\u002fb\\u003e\",\"\\u003cb style=\\\"color:Colors.BLUE_SKY_CRAYOLA;line-height:60px\\\"\\u003eReference\\u003c\\u002fb\\u003e\",\"[4000:4249]\",\"Chunk index: \\u003cb\\u003e16\\u003c\\u002fb\\u003e\",1.487],[\"\\u003cb\\u003eReconstruction error\\u003c\\u002fb\\u003e\",\"\\u003cb style=\\\"color:Colors.BLUE_SKY_CRAYOLA;line-height:60px\\\"\\u003eReference\\u003c\\u002fb\\u003e\",\"[4250:4499]\",\"Chunk index: \\u003cb\\u003e17\\u003c\\u002fb\\u003e\",1.4316],[\"\\u003cb\\u003eReconstruction error\\u003c\\u002fb\\u003e\",\"\\u003cb style=\\\"color:Colors.BLUE_SKY_CRAYOLA;line-height:60px\\\"\\u003eReference\\u003c\\u002fb\\u003e\",\"[4500:4749]\",\"Chunk index: \\u003cb\\u003e18\\u003c\\u002fb\\u003e\",1.4171],[\"\\u003cb\\u003eReconstruction error\\u003c\\u002fb\\u003e\",\"\\u003cb style=\\\"color:Colors.BLUE_SKY_CRAYOLA;line-height:60px\\\"\\u003eReference\\u003c\\u002fb\\u003e\",\"[4750:4999]\",\"Chunk index: \\u003cb\\u003e19\\u003c\\u002fb\\u003e\",1.3154],[\"\\u003cb\\u003eReconstruction error\\u003c\\u002fb\\u003e\",\"\\u003cb style=\\\"color:Colors.BLUE_SKY_CRAYOLA;line-height:60px\\\"\\u003eReference\\u003c\\u002fb\\u003e\",\"[5000:5393]\",\"Chunk index: \\u003cb\\u003e20\\u003c\\u002fb\\u003e\",1.3713]],\"hovertemplate\":\"%{customdata[1]}\\u003cbr \\u002f\\u003eChunk: \\u003cb\\u003e%{customdata[2]}\\u003c\\u002fb\\u003e &nbsp; &nbsp; %{customdata[3]} \\u003cbr \\u002f\\u003e%{customdata[0]}: \\u003cb\\u003e%{customdata[4]}\\u003c\\u002fb\\u003e\\u003cbr \\u002f\\u003e\\u003cextra\\u003e\\u003c\\u002fextra\\u003e\",\"marker\":{\"color\":\"#00c8e5\",\"size\":5,\"symbol\":\"circle\"},\"mode\":\"markers\",\"name\":\"\\u003cb\\u003eReconstruction error\\u003c\\u002fb\\u003e\",\"showlegend\":false,\"x\":[0.5,1.5,2.5,3.5,4.5,5.5,6.5,7.5,8.5,9.5,10.5,11.5,12.5,13.5,14.5,15.5,16.5,17.5,18.5,19.5,20.5],\"xaxis\":\"x\",\"y\":[1.3347278693683016,1.3716403312940368,1.3666329189712725,1.3666138204869187,1.384856815210756,1.3287762911533267,1.3616419859716127,1.377590366873436,1.3660999746544038,1.4367927735116057,1.371259314430767,1.3462659480252477,1.388366379558232,1.4144983982041976,1.39501976784976,1.3860353908810676,1.4870077602374299,1.4315747379472405,1.4170542076544321,1.3154303948879278,1.3712801391736995,1.3712801391736995],\"yaxis\":\"y\",\"type\":\"scatter\"},{\"hoverinfo\":\"skip\",\"line\":{\"color\":\"rgba(0,0,0,0)\",\"shape\":\"hv\"},\"mode\":\"lines\",\"name\":\"Confidence band\",\"showlegend\":false,\"x\":[0,1,2,3,4,5,6,7,8,9,10,11,12,13,14,15,16,17,18,19,20,21],\"xaxis\":\"x\",\"y\":[1.4445095673996204,1.4814220293253557,1.4764146170025914,1.4763955185182376,1.494638513242075,1.4385579891846456,1.4714236840029316,1.4873720649047548,1.4758816726857227,1.5465744715429246,1.4810410124620859,1.4560476460565666,1.4981480775895508,1.5242800962355165,1.5048014658810789,1.4958170889123865,1.5967894582687487,1.5413564359785594,1.526835905685751,1.4252120929192467,1.4587285330295579,1.4587285330295579],\"yaxis\":\"y\",\"type\":\"scatter\"},{\"fill\":\"tonexty\",\"fillcolor\":\"rgba(0.0, 0.7843137254901961, 0.8980392156862745, 0.2)\",\"hoverinfo\":\"skip\",\"line\":{\"color\":\"rgba(0,0,0,0)\",\"shape\":\"hv\"},\"mode\":\"lines\",\"name\":\"Confidence band\",\"showlegend\":true,\"x\":[0,1,2,3,4,5,6,7,8,9,10,11,12,13,14,15,16,17,18,19,20,21],\"xaxis\":\"x\",\"y\":[1.2249461713369827,1.261858633262718,1.2568512209399536,1.2568321224555998,1.2750751171794372,1.2189945931220079,1.2518602879402938,1.267808668842117,1.256318276623085,1.3270110754802869,1.261477616399448,1.2364842499939288,1.278584681526913,1.3047167001728788,1.2852380698184411,1.2762536928497488,1.377226062206111,1.3217930399159217,1.3072725096231133,1.205648696856609,1.2838317453178412,1.2838317453178412],\"yaxis\":\"y\",\"type\":\"scatter\"},{\"hoverinfo\":\"skip\",\"line\":{\"color\":\"#3b0280\",\"shape\":\"hv\",\"width\":2},\"mode\":\"lines\",\"name\":\"\\u003cb\\u003eRMSE\\u003c\\u002fb\\u003e (realized RMSE)\",\"showlegend\":true,\"x\":[0,1,2,3,4,5,6,7,8,9,10,11,12,13,14,15,16,17,18,19,20,21],\"xaxis\":\"x\",\"y\":[616.6532091011874,666.1114762012899,569.2648360907617,590.0239205256347,372.99346386997354,431.4322760129166,447.8504166610995,440.83897856346607,534.8503772616326,502.57266271536383,531.5404151753644,557.380781347486,560.7555713272176,436.6457075799727,453.2526238798875,480.59858565770753,794.5359112074308,512.4959795977219,445.33188032223575,575.4806863384634,412.43543126123456,412.43543126123456],\"yaxis\":\"y2\",\"type\":\"scatter\"},{\"customdata\":[[\"\\u003cb\\u003eRMSE\\u003c\\u002fb\\u003e\",\"\\u003cb style=\\\"color:Colors.INDIGO_PERSIAN;line-height:60px\\\"\\u003eReference\\u003c\\u002fb\\u003e\",\"[0:249]\",\"Chunk index: \\u003cb\\u003e0\\u003c\\u002fb\\u003e\",616.6532],[\"\\u003cb\\u003eRMSE\\u003c\\u002fb\\u003e\",\"\\u003cb style=\\\"color:Colors.INDIGO_PERSIAN;line-height:60px\\\"\\u003eReference\\u003c\\u002fb\\u003e\",\"[250:499]\",\"Chunk index: \\u003cb\\u003e1\\u003c\\u002fb\\u003e\",666.1115],[\"\\u003cb\\u003eRMSE\\u003c\\u002fb\\u003e\",\"\\u003cb style=\\\"color:Colors.INDIGO_PERSIAN;line-height:60px\\\"\\u003eReference\\u003c\\u002fb\\u003e\",\"[500:749]\",\"Chunk index: \\u003cb\\u003e2\\u003c\\u002fb\\u003e\",569.2648],[\"\\u003cb\\u003eRMSE\\u003c\\u002fb\\u003e\",\"\\u003cb style=\\\"color:Colors.INDIGO_PERSIAN;line-height:60px\\\"\\u003eReference\\u003c\\u002fb\\u003e\",\"[750:999]\",\"Chunk index: \\u003cb\\u003e3\\u003c\\u002fb\\u003e\",590.0239],[\"\\u003cb\\u003eRMSE\\u003c\\u002fb\\u003e\",\"\\u003cb style=\\\"color:Colors.INDIGO_PERSIAN;line-height:60px\\\"\\u003eReference\\u003c\\u002fb\\u003e\",\"[1000:1249]\",\"Chunk index: \\u003cb\\u003e4\\u003c\\u002fb\\u003e\",372.9935],[\"\\u003cb\\u003eRMSE\\u003c\\u002fb\\u003e\",\"\\u003cb style=\\\"color:Colors.INDIGO_PERSIAN;line-height:60px\\\"\\u003eReference\\u003c\\u002fb\\u003e\",\"[1250:1499]\",\"Chunk index: \\u003cb\\u003e5\\u003c\\u002fb\\u003e\",431.4323],[\"\\u003cb\\u003eRMSE\\u003c\\u002fb\\u003e\",\"\\u003cb style=\\\"color:Colors.INDIGO_PERSIAN;line-height:60px\\\"\\u003eReference\\u003c\\u002fb\\u003e\",\"[1500:1749]\",\"Chunk index: \\u003cb\\u003e6\\u003c\\u002fb\\u003e\",447.8504],[\"\\u003cb\\u003eRMSE\\u003c\\u002fb\\u003e\",\"\\u003cb style=\\\"color:Colors.INDIGO_PERSIAN;line-height:60px\\\"\\u003eReference\\u003c\\u002fb\\u003e\",\"[1750:1999]\",\"Chunk index: \\u003cb\\u003e7\\u003c\\u002fb\\u003e\",440.839],[\"\\u003cb\\u003eRMSE\\u003c\\u002fb\\u003e\",\"\\u003cb style=\\\"color:Colors.INDIGO_PERSIAN;line-height:60px\\\"\\u003eReference\\u003c\\u002fb\\u003e\",\"[2000:2249]\",\"Chunk index: \\u003cb\\u003e8\\u003c\\u002fb\\u003e\",534.8504],[\"\\u003cb\\u003eRMSE\\u003c\\u002fb\\u003e\",\"\\u003cb style=\\\"color:Colors.INDIGO_PERSIAN;line-height:60px\\\"\\u003eReference\\u003c\\u002fb\\u003e\",\"[2250:2499]\",\"Chunk index: \\u003cb\\u003e9\\u003c\\u002fb\\u003e\",502.5727],[\"\\u003cb\\u003eRMSE\\u003c\\u002fb\\u003e\",\"\\u003cb style=\\\"color:Colors.INDIGO_PERSIAN;line-height:60px\\\"\\u003eReference\\u003c\\u002fb\\u003e\",\"[2500:2749]\",\"Chunk index: \\u003cb\\u003e10\\u003c\\u002fb\\u003e\",531.5404],[\"\\u003cb\\u003eRMSE\\u003c\\u002fb\\u003e\",\"\\u003cb style=\\\"color:Colors.INDIGO_PERSIAN;line-height:60px\\\"\\u003eReference\\u003c\\u002fb\\u003e\",\"[2750:2999]\",\"Chunk index: \\u003cb\\u003e11\\u003c\\u002fb\\u003e\",557.3808],[\"\\u003cb\\u003eRMSE\\u003c\\u002fb\\u003e\",\"\\u003cb style=\\\"color:Colors.INDIGO_PERSIAN;line-height:60px\\\"\\u003eReference\\u003c\\u002fb\\u003e\",\"[3000:3249]\",\"Chunk index: \\u003cb\\u003e12\\u003c\\u002fb\\u003e\",560.7556],[\"\\u003cb\\u003eRMSE\\u003c\\u002fb\\u003e\",\"\\u003cb style=\\\"color:Colors.INDIGO_PERSIAN;line-height:60px\\\"\\u003eReference\\u003c\\u002fb\\u003e\",\"[3250:3499]\",\"Chunk index: \\u003cb\\u003e13\\u003c\\u002fb\\u003e\",436.6457],[\"\\u003cb\\u003eRMSE\\u003c\\u002fb\\u003e\",\"\\u003cb style=\\\"color:Colors.INDIGO_PERSIAN;line-height:60px\\\"\\u003eReference\\u003c\\u002fb\\u003e\",\"[3500:3749]\",\"Chunk index: \\u003cb\\u003e14\\u003c\\u002fb\\u003e\",453.2526],[\"\\u003cb\\u003eRMSE\\u003c\\u002fb\\u003e\",\"\\u003cb style=\\\"color:Colors.INDIGO_PERSIAN;line-height:60px\\\"\\u003eReference\\u003c\\u002fb\\u003e\",\"[3750:3999]\",\"Chunk index: \\u003cb\\u003e15\\u003c\\u002fb\\u003e\",480.5986],[\"\\u003cb\\u003eRMSE\\u003c\\u002fb\\u003e\",\"\\u003cb style=\\\"color:Colors.INDIGO_PERSIAN;line-height:60px\\\"\\u003eReference\\u003c\\u002fb\\u003e\",\"[4000:4249]\",\"Chunk index: \\u003cb\\u003e16\\u003c\\u002fb\\u003e\",794.5359],[\"\\u003cb\\u003eRMSE\\u003c\\u002fb\\u003e\",\"\\u003cb style=\\\"color:Colors.INDIGO_PERSIAN;line-height:60px\\\"\\u003eReference\\u003c\\u002fb\\u003e\",\"[4250:4499]\",\"Chunk index: \\u003cb\\u003e17\\u003c\\u002fb\\u003e\",512.496],[\"\\u003cb\\u003eRMSE\\u003c\\u002fb\\u003e\",\"\\u003cb style=\\\"color:Colors.INDIGO_PERSIAN;line-height:60px\\\"\\u003eReference\\u003c\\u002fb\\u003e\",\"[4500:4749]\",\"Chunk index: \\u003cb\\u003e18\\u003c\\u002fb\\u003e\",445.3319],[\"\\u003cb\\u003eRMSE\\u003c\\u002fb\\u003e\",\"\\u003cb style=\\\"color:Colors.INDIGO_PERSIAN;line-height:60px\\\"\\u003eReference\\u003c\\u002fb\\u003e\",\"[4750:4999]\",\"Chunk index: \\u003cb\\u003e19\\u003c\\u002fb\\u003e\",575.4807],[\"\\u003cb\\u003eRMSE\\u003c\\u002fb\\u003e\",\"\\u003cb style=\\\"color:Colors.INDIGO_PERSIAN;line-height:60px\\\"\\u003eReference\\u003c\\u002fb\\u003e\",\"[5000:5393]\",\"Chunk index: \\u003cb\\u003e20\\u003c\\u002fb\\u003e\",412.4354]],\"hovertemplate\":\"%{customdata[1]}\\u003cbr \\u002f\\u003eChunk: \\u003cb\\u003e%{customdata[2]}\\u003c\\u002fb\\u003e &nbsp; &nbsp; %{customdata[3]} \\u003cbr \\u002f\\u003e%{customdata[0]}: \\u003cb\\u003e%{customdata[4]}\\u003c\\u002fb\\u003e\\u003cbr \\u002f\\u003e\\u003cextra\\u003e\\u003c\\u002fextra\\u003e\",\"marker\":{\"color\":\"#3b0280\",\"size\":5,\"symbol\":\"circle\"},\"mode\":\"markers\",\"name\":\"\\u003cb\\u003eRMSE\\u003c\\u002fb\\u003e (realized RMSE)\",\"showlegend\":false,\"x\":[0.5,1.5,2.5,3.5,4.5,5.5,6.5,7.5,8.5,9.5,10.5,11.5,12.5,13.5,14.5,15.5,16.5,17.5,18.5,19.5,20.5],\"xaxis\":\"x\",\"y\":[616.6532091011874,666.1114762012899,569.2648360907617,590.0239205256347,372.99346386997354,431.4322760129166,447.8504166610995,440.83897856346607,534.8503772616326,502.57266271536383,531.5404151753644,557.380781347486,560.7555713272176,436.6457075799727,453.2526238798875,480.59858565770753,794.5359112074308,512.4959795977219,445.33188032223575,575.4806863384634,412.43543126123456,412.43543126123456],\"yaxis\":\"y2\",\"type\":\"scatter\"},{\"hoverinfo\":\"skip\",\"line\":{\"color\":\"#00c8e5\",\"shape\":\"hv\",\"width\":2},\"mode\":\"lines\",\"name\":\"\\u003cb\\u003eReconstruction error\\u003c\\u002fb\\u003e\",\"showlegend\":false,\"x\":[21,22,23,24,25,26,27,28,29,30,31,32,33,34,35,36,37,38,39,40,41,42],\"xaxis\":\"x\",\"y\":[1.3749626468552019,3.1845243001423733,3.3103309894599655,3.2658095600481203,3.354325949238515,3.262215450748463,3.300797922957918,3.2706355148018487,3.3704361990710074,3.3324299811295277,3.3696952155521602,3.3408910984187448,3.3044501222272458,3.245840248089644,3.3466959172945927,3.4283363439298826,3.3371328239342684,3.3467423400146963,3.288465709030432,3.322509582222744,3.308938095437892,3.308938095437892],\"yaxis\":\"y\",\"type\":\"scatter\"},{\"customdata\":[[\"\\u003cb\\u003eReconstruction error\\u003c\\u002fb\\u003e\",\"\\u003cb style=\\\"color:Colors.BLUE_SKY_CRAYOLA;line-height:60px\\\"\\u003eAnalysis\\u003c\\u002fb\\u003e\",\"\",\"[0:249]\",\"Chunk index: \\u003cb\\u003e21\\u003c\\u002fb\\u003e\",1.375],[\"\\u003cb\\u003eReconstruction error\\u003c\\u002fb\\u003e\",\"\\u003cb style=\\\"color:Colors.BLUE_SKY_CRAYOLA;line-height:60px\\\"\\u003eAnalysis\\u003c\\u002fb\\u003e\",\"\\u003cspan style=\\\"color:#AD0000\\\"\\u003e\\u26a0 \\u003cb\\u003eDrift detected\\u003c\\u002fb\\u003e\\u003c\\u002fspan\\u003e\",\"[250:499]\",\"Chunk index: \\u003cb\\u003e22\\u003c\\u002fb\\u003e\",3.1845],[\"\\u003cb\\u003eReconstruction error\\u003c\\u002fb\\u003e\",\"\\u003cb style=\\\"color:Colors.BLUE_SKY_CRAYOLA;line-height:60px\\\"\\u003eAnalysis\\u003c\\u002fb\\u003e\",\"\\u003cspan style=\\\"color:#AD0000\\\"\\u003e\\u26a0 \\u003cb\\u003eDrift detected\\u003c\\u002fb\\u003e\\u003c\\u002fspan\\u003e\",\"[500:749]\",\"Chunk index: \\u003cb\\u003e23\\u003c\\u002fb\\u003e\",3.3103],[\"\\u003cb\\u003eReconstruction error\\u003c\\u002fb\\u003e\",\"\\u003cb style=\\\"color:Colors.BLUE_SKY_CRAYOLA;line-height:60px\\\"\\u003eAnalysis\\u003c\\u002fb\\u003e\",\"\\u003cspan style=\\\"color:#AD0000\\\"\\u003e\\u26a0 \\u003cb\\u003eDrift detected\\u003c\\u002fb\\u003e\\u003c\\u002fspan\\u003e\",\"[750:999]\",\"Chunk index: \\u003cb\\u003e24\\u003c\\u002fb\\u003e\",3.2658],[\"\\u003cb\\u003eReconstruction error\\u003c\\u002fb\\u003e\",\"\\u003cb style=\\\"color:Colors.BLUE_SKY_CRAYOLA;line-height:60px\\\"\\u003eAnalysis\\u003c\\u002fb\\u003e\",\"\\u003cspan style=\\\"color:#AD0000\\\"\\u003e\\u26a0 \\u003cb\\u003eDrift detected\\u003c\\u002fb\\u003e\\u003c\\u002fspan\\u003e\",\"[1000:1249]\",\"Chunk index: \\u003cb\\u003e25\\u003c\\u002fb\\u003e\",3.3543],[\"\\u003cb\\u003eReconstruction error\\u003c\\u002fb\\u003e\",\"\\u003cb style=\\\"color:Colors.BLUE_SKY_CRAYOLA;line-height:60px\\\"\\u003eAnalysis\\u003c\\u002fb\\u003e\",\"\\u003cspan style=\\\"color:#AD0000\\\"\\u003e\\u26a0 \\u003cb\\u003eDrift detected\\u003c\\u002fb\\u003e\\u003c\\u002fspan\\u003e\",\"[1250:1499]\",\"Chunk index: \\u003cb\\u003e26\\u003c\\u002fb\\u003e\",3.2622],[\"\\u003cb\\u003eReconstruction error\\u003c\\u002fb\\u003e\",\"\\u003cb style=\\\"color:Colors.BLUE_SKY_CRAYOLA;line-height:60px\\\"\\u003eAnalysis\\u003c\\u002fb\\u003e\",\"\\u003cspan style=\\\"color:#AD0000\\\"\\u003e\\u26a0 \\u003cb\\u003eDrift detected\\u003c\\u002fb\\u003e\\u003c\\u002fspan\\u003e\",\"[1500:1749]\",\"Chunk index: \\u003cb\\u003e27\\u003c\\u002fb\\u003e\",3.3008],[\"\\u003cb\\u003eReconstruction error\\u003c\\u002fb\\u003e\",\"\\u003cb style=\\\"color:Colors.BLUE_SKY_CRAYOLA;line-height:60px\\\"\\u003eAnalysis\\u003c\\u002fb\\u003e\",\"\\u003cspan style=\\\"color:#AD0000\\\"\\u003e\\u26a0 \\u003cb\\u003eDrift detected\\u003c\\u002fb\\u003e\\u003c\\u002fspan\\u003e\",\"[1750:1999]\",\"Chunk index: \\u003cb\\u003e28\\u003c\\u002fb\\u003e\",3.2706],[\"\\u003cb\\u003eReconstruction error\\u003c\\u002fb\\u003e\",\"\\u003cb style=\\\"color:Colors.BLUE_SKY_CRAYOLA;line-height:60px\\\"\\u003eAnalysis\\u003c\\u002fb\\u003e\",\"\\u003cspan style=\\\"color:#AD0000\\\"\\u003e\\u26a0 \\u003cb\\u003eDrift detected\\u003c\\u002fb\\u003e\\u003c\\u002fspan\\u003e\",\"[2000:2249]\",\"Chunk index: \\u003cb\\u003e29\\u003c\\u002fb\\u003e\",3.3704],[\"\\u003cb\\u003eReconstruction error\\u003c\\u002fb\\u003e\",\"\\u003cb style=\\\"color:Colors.BLUE_SKY_CRAYOLA;line-height:60px\\\"\\u003eAnalysis\\u003c\\u002fb\\u003e\",\"\\u003cspan style=\\\"color:#AD0000\\\"\\u003e\\u26a0 \\u003cb\\u003eDrift detected\\u003c\\u002fb\\u003e\\u003c\\u002fspan\\u003e\",\"[2250:2499]\",\"Chunk index: \\u003cb\\u003e30\\u003c\\u002fb\\u003e\",3.3324],[\"\\u003cb\\u003eReconstruction error\\u003c\\u002fb\\u003e\",\"\\u003cb style=\\\"color:Colors.BLUE_SKY_CRAYOLA;line-height:60px\\\"\\u003eAnalysis\\u003c\\u002fb\\u003e\",\"\\u003cspan style=\\\"color:#AD0000\\\"\\u003e\\u26a0 \\u003cb\\u003eDrift detected\\u003c\\u002fb\\u003e\\u003c\\u002fspan\\u003e\",\"[2500:2749]\",\"Chunk index: \\u003cb\\u003e31\\u003c\\u002fb\\u003e\",3.3697],[\"\\u003cb\\u003eReconstruction error\\u003c\\u002fb\\u003e\",\"\\u003cb style=\\\"color:Colors.BLUE_SKY_CRAYOLA;line-height:60px\\\"\\u003eAnalysis\\u003c\\u002fb\\u003e\",\"\\u003cspan style=\\\"color:#AD0000\\\"\\u003e\\u26a0 \\u003cb\\u003eDrift detected\\u003c\\u002fb\\u003e\\u003c\\u002fspan\\u003e\",\"[2750:2999]\",\"Chunk index: \\u003cb\\u003e32\\u003c\\u002fb\\u003e\",3.3409],[\"\\u003cb\\u003eReconstruction error\\u003c\\u002fb\\u003e\",\"\\u003cb style=\\\"color:Colors.BLUE_SKY_CRAYOLA;line-height:60px\\\"\\u003eAnalysis\\u003c\\u002fb\\u003e\",\"\\u003cspan style=\\\"color:#AD0000\\\"\\u003e\\u26a0 \\u003cb\\u003eDrift detected\\u003c\\u002fb\\u003e\\u003c\\u002fspan\\u003e\",\"[3000:3249]\",\"Chunk index: \\u003cb\\u003e33\\u003c\\u002fb\\u003e\",3.3045],[\"\\u003cb\\u003eReconstruction error\\u003c\\u002fb\\u003e\",\"\\u003cb style=\\\"color:Colors.BLUE_SKY_CRAYOLA;line-height:60px\\\"\\u003eAnalysis\\u003c\\u002fb\\u003e\",\"\\u003cspan style=\\\"color:#AD0000\\\"\\u003e\\u26a0 \\u003cb\\u003eDrift detected\\u003c\\u002fb\\u003e\\u003c\\u002fspan\\u003e\",\"[3250:3499]\",\"Chunk index: \\u003cb\\u003e34\\u003c\\u002fb\\u003e\",3.2458],[\"\\u003cb\\u003eReconstruction error\\u003c\\u002fb\\u003e\",\"\\u003cb style=\\\"color:Colors.BLUE_SKY_CRAYOLA;line-height:60px\\\"\\u003eAnalysis\\u003c\\u002fb\\u003e\",\"\\u003cspan style=\\\"color:#AD0000\\\"\\u003e\\u26a0 \\u003cb\\u003eDrift detected\\u003c\\u002fb\\u003e\\u003c\\u002fspan\\u003e\",\"[3500:3749]\",\"Chunk index: \\u003cb\\u003e35\\u003c\\u002fb\\u003e\",3.3467],[\"\\u003cb\\u003eReconstruction error\\u003c\\u002fb\\u003e\",\"\\u003cb style=\\\"color:Colors.BLUE_SKY_CRAYOLA;line-height:60px\\\"\\u003eAnalysis\\u003c\\u002fb\\u003e\",\"\\u003cspan style=\\\"color:#AD0000\\\"\\u003e\\u26a0 \\u003cb\\u003eDrift detected\\u003c\\u002fb\\u003e\\u003c\\u002fspan\\u003e\",\"[3750:3999]\",\"Chunk index: \\u003cb\\u003e36\\u003c\\u002fb\\u003e\",3.4283],[\"\\u003cb\\u003eReconstruction error\\u003c\\u002fb\\u003e\",\"\\u003cb style=\\\"color:Colors.BLUE_SKY_CRAYOLA;line-height:60px\\\"\\u003eAnalysis\\u003c\\u002fb\\u003e\",\"\\u003cspan style=\\\"color:#AD0000\\\"\\u003e\\u26a0 \\u003cb\\u003eDrift detected\\u003c\\u002fb\\u003e\\u003c\\u002fspan\\u003e\",\"[4000:4249]\",\"Chunk index: \\u003cb\\u003e37\\u003c\\u002fb\\u003e\",3.3371],[\"\\u003cb\\u003eReconstruction error\\u003c\\u002fb\\u003e\",\"\\u003cb style=\\\"color:Colors.BLUE_SKY_CRAYOLA;line-height:60px\\\"\\u003eAnalysis\\u003c\\u002fb\\u003e\",\"\\u003cspan style=\\\"color:#AD0000\\\"\\u003e\\u26a0 \\u003cb\\u003eDrift detected\\u003c\\u002fb\\u003e\\u003c\\u002fspan\\u003e\",\"[4250:4499]\",\"Chunk index: \\u003cb\\u003e38\\u003c\\u002fb\\u003e\",3.3467],[\"\\u003cb\\u003eReconstruction error\\u003c\\u002fb\\u003e\",\"\\u003cb style=\\\"color:Colors.BLUE_SKY_CRAYOLA;line-height:60px\\\"\\u003eAnalysis\\u003c\\u002fb\\u003e\",\"\\u003cspan style=\\\"color:#AD0000\\\"\\u003e\\u26a0 \\u003cb\\u003eDrift detected\\u003c\\u002fb\\u003e\\u003c\\u002fspan\\u003e\",\"[4500:4749]\",\"Chunk index: \\u003cb\\u003e39\\u003c\\u002fb\\u003e\",3.2885],[\"\\u003cb\\u003eReconstruction error\\u003c\\u002fb\\u003e\",\"\\u003cb style=\\\"color:Colors.BLUE_SKY_CRAYOLA;line-height:60px\\\"\\u003eAnalysis\\u003c\\u002fb\\u003e\",\"\\u003cspan style=\\\"color:#AD0000\\\"\\u003e\\u26a0 \\u003cb\\u003eDrift detected\\u003c\\u002fb\\u003e\\u003c\\u002fspan\\u003e\",\"[4750:4999]\",\"Chunk index: \\u003cb\\u003e40\\u003c\\u002fb\\u003e\",3.3225],[\"\\u003cb\\u003eReconstruction error\\u003c\\u002fb\\u003e\",\"\\u003cb style=\\\"color:Colors.BLUE_SKY_CRAYOLA;line-height:60px\\\"\\u003eAnalysis\\u003c\\u002fb\\u003e\",\"\\u003cspan style=\\\"color:#AD0000\\\"\\u003e\\u26a0 \\u003cb\\u003eDrift detected\\u003c\\u002fb\\u003e\\u003c\\u002fspan\\u003e\",\"[5000:5393]\",\"Chunk index: \\u003cb\\u003e41\\u003c\\u002fb\\u003e\",3.3089]],\"hovertemplate\":\"%{customdata[1]} &nbsp; &nbsp; %{customdata[2]} \\u003cbr \\u002f\\u003eChunk: \\u003cb\\u003e%{customdata[3]}\\u003c\\u002fb\\u003e &nbsp; &nbsp; %{customdata[4]} \\u003cbr \\u002f\\u003e%{customdata[0]}: \\u003cb\\u003e%{customdata[5]}\\u003c\\u002fb\\u003e\\u003cbr \\u002f\\u003e\\u003cextra\\u003e\\u003c\\u002fextra\\u003e\",\"marker\":{\"color\":\"#00c8e5\",\"size\":5,\"symbol\":\"circle\"},\"mode\":\"markers\",\"name\":\"\\u003cb\\u003eReconstruction error\\u003c\\u002fb\\u003e\",\"showlegend\":false,\"x\":[21.5,22.5,23.5,24.5,25.5,26.5,27.5,28.5,29.5,30.5,31.5,32.5,33.5,34.5,35.5,36.5,37.5,38.5,39.5,40.5,41.5],\"xaxis\":\"x\",\"y\":[1.3749626468552019,3.1845243001423733,3.3103309894599655,3.2658095600481203,3.354325949238515,3.262215450748463,3.300797922957918,3.2706355148018487,3.3704361990710074,3.3324299811295277,3.3696952155521602,3.3408910984187448,3.3044501222272458,3.245840248089644,3.3466959172945927,3.4283363439298826,3.3371328239342684,3.3467423400146963,3.288465709030432,3.322509582222744,3.308938095437892,3.308938095437892],\"yaxis\":\"y\",\"type\":\"scatter\"},{\"hoverinfo\":\"skip\",\"line\":{\"color\":\"rgba(0,0,0,0)\",\"shape\":\"hv\"},\"mode\":\"lines\",\"name\":\"Confidence band\",\"showlegend\":false,\"x\":[21,22,23,24,25,26,27,28,29,30,31,32,33,34,35,36,37,38,39,40,41,42],\"xaxis\":\"x\",\"y\":[1.4847443448865207,3.294305998173692,3.4201126874912844,3.375591258079439,3.464107647269834,3.3719971487797817,3.4105796209892367,3.3804172128331675,3.4802178971023263,3.4422116791608466,3.479476913583479,3.4506727964500636,3.4142318202585646,3.355621946120963,3.4564776153259116,3.5381180419612015,3.4469145219655872,3.456524038046015,3.398247407061751,3.432291280254063,3.3963864892937505,3.3963864892937505],\"yaxis\":\"y\",\"type\":\"scatter\"},{\"fill\":\"tonexty\",\"fillcolor\":\"rgba(0.0, 0.7843137254901961, 0.8980392156862745, 0.2)\",\"hoverinfo\":\"skip\",\"line\":{\"color\":\"rgba(0,0,0,0)\",\"shape\":\"hv\"},\"mode\":\"lines\",\"name\":\"Confidence band\",\"showlegend\":false,\"x\":[21,22,23,24,25,26,27,28,29,30,31,32,33,34,35,36,37,38,39,40,41,42],\"xaxis\":\"x\",\"y\":[1.265180948823883,3.0747426021110544,3.2005492914286466,3.1560278620168014,3.2445442512071963,3.152433752717144,3.191016224926599,3.16085381677053,3.2606545010396886,3.222648283098209,3.2599135175208414,3.231109400387426,3.194668424195927,3.1360585500583253,3.236914219263274,3.3185546458985637,3.2273511259029495,3.2369606419833774,3.1786840109991132,3.212727884191425,3.221489701582034,3.221489701582034],\"yaxis\":\"y\",\"type\":\"scatter\"},{\"hoverinfo\":\"skip\",\"line\":{\"color\":\"#3b0280\",\"shape\":\"hv\",\"width\":2},\"mode\":\"lines\",\"name\":\"\\u003cb\\u003eRMSE\\u003c\\u002fb\\u003e (realized RMSE)\",\"showlegend\":false,\"x\":[21,22,23,24,25,26,27,28,29,30,31,32,33,34,35,36,37,38,39,40,41,42],\"xaxis\":\"x\",\"y\":[497.278867413763,826.0348895952544,990.4743950345095,936.2088824999535,959.2457985077156,950.0532540710599,911.7018071988292,908.8738241660241,1115.3217576094125,855.0471599871684,864.8727269050208,849.9761974606421,894.3497975959795,872.5870374133101,827.320827296538,1043.386474036436,982.988744694712,873.7325388269521,1032.812121910391,824.8615169644063,802.3973821875121,802.3973821875121],\"yaxis\":\"y2\",\"type\":\"scatter\"},{\"customdata\":[[\"\\u003cb\\u003eRMSE\\u003c\\u002fb\\u003e\",\"\\u003cb style=\\\"color:Colors.INDIGO_PERSIAN;line-height:60px\\\"\\u003eAnalysis\\u003c\\u002fb\\u003e\",\"\",\"[0:249]\",\"Chunk index: \\u003cb\\u003e21\\u003c\\u002fb\\u003e\",497.2789],[\"\\u003cb\\u003eRMSE\\u003c\\u002fb\\u003e\",\"\\u003cb style=\\\"color:Colors.INDIGO_PERSIAN;line-height:60px\\\"\\u003eAnalysis\\u003c\\u002fb\\u003e\",\"\\u003cspan style=\\\"color:#AD0000\\\"\\u003e\\u26a0 \\u003cb\\u003eDrift detected\\u003c\\u002fb\\u003e\\u003c\\u002fspan\\u003e\",\"[250:499]\",\"Chunk index: \\u003cb\\u003e22\\u003c\\u002fb\\u003e\",826.0349],[\"\\u003cb\\u003eRMSE\\u003c\\u002fb\\u003e\",\"\\u003cb style=\\\"color:Colors.INDIGO_PERSIAN;line-height:60px\\\"\\u003eAnalysis\\u003c\\u002fb\\u003e\",\"\\u003cspan style=\\\"color:#AD0000\\\"\\u003e\\u26a0 \\u003cb\\u003eDrift detected\\u003c\\u002fb\\u003e\\u003c\\u002fspan\\u003e\",\"[500:749]\",\"Chunk index: \\u003cb\\u003e23\\u003c\\u002fb\\u003e\",990.4744],[\"\\u003cb\\u003eRMSE\\u003c\\u002fb\\u003e\",\"\\u003cb style=\\\"color:Colors.INDIGO_PERSIAN;line-height:60px\\\"\\u003eAnalysis\\u003c\\u002fb\\u003e\",\"\\u003cspan style=\\\"color:#AD0000\\\"\\u003e\\u26a0 \\u003cb\\u003eDrift detected\\u003c\\u002fb\\u003e\\u003c\\u002fspan\\u003e\",\"[750:999]\",\"Chunk index: \\u003cb\\u003e24\\u003c\\u002fb\\u003e\",936.2089],[\"\\u003cb\\u003eRMSE\\u003c\\u002fb\\u003e\",\"\\u003cb style=\\\"color:Colors.INDIGO_PERSIAN;line-height:60px\\\"\\u003eAnalysis\\u003c\\u002fb\\u003e\",\"\\u003cspan style=\\\"color:#AD0000\\\"\\u003e\\u26a0 \\u003cb\\u003eDrift detected\\u003c\\u002fb\\u003e\\u003c\\u002fspan\\u003e\",\"[1000:1249]\",\"Chunk index: \\u003cb\\u003e25\\u003c\\u002fb\\u003e\",959.2458],[\"\\u003cb\\u003eRMSE\\u003c\\u002fb\\u003e\",\"\\u003cb style=\\\"color:Colors.INDIGO_PERSIAN;line-height:60px\\\"\\u003eAnalysis\\u003c\\u002fb\\u003e\",\"\\u003cspan style=\\\"color:#AD0000\\\"\\u003e\\u26a0 \\u003cb\\u003eDrift detected\\u003c\\u002fb\\u003e\\u003c\\u002fspan\\u003e\",\"[1250:1499]\",\"Chunk index: \\u003cb\\u003e26\\u003c\\u002fb\\u003e\",950.0533],[\"\\u003cb\\u003eRMSE\\u003c\\u002fb\\u003e\",\"\\u003cb style=\\\"color:Colors.INDIGO_PERSIAN;line-height:60px\\\"\\u003eAnalysis\\u003c\\u002fb\\u003e\",\"\\u003cspan style=\\\"color:#AD0000\\\"\\u003e\\u26a0 \\u003cb\\u003eDrift detected\\u003c\\u002fb\\u003e\\u003c\\u002fspan\\u003e\",\"[1500:1749]\",\"Chunk index: \\u003cb\\u003e27\\u003c\\u002fb\\u003e\",911.7018],[\"\\u003cb\\u003eRMSE\\u003c\\u002fb\\u003e\",\"\\u003cb style=\\\"color:Colors.INDIGO_PERSIAN;line-height:60px\\\"\\u003eAnalysis\\u003c\\u002fb\\u003e\",\"\\u003cspan style=\\\"color:#AD0000\\\"\\u003e\\u26a0 \\u003cb\\u003eDrift detected\\u003c\\u002fb\\u003e\\u003c\\u002fspan\\u003e\",\"[1750:1999]\",\"Chunk index: \\u003cb\\u003e28\\u003c\\u002fb\\u003e\",908.8738],[\"\\u003cb\\u003eRMSE\\u003c\\u002fb\\u003e\",\"\\u003cb style=\\\"color:Colors.INDIGO_PERSIAN;line-height:60px\\\"\\u003eAnalysis\\u003c\\u002fb\\u003e\",\"\\u003cspan style=\\\"color:#AD0000\\\"\\u003e\\u26a0 \\u003cb\\u003eDrift detected\\u003c\\u002fb\\u003e\\u003c\\u002fspan\\u003e\",\"[2000:2249]\",\"Chunk index: \\u003cb\\u003e29\\u003c\\u002fb\\u003e\",1115.3218],[\"\\u003cb\\u003eRMSE\\u003c\\u002fb\\u003e\",\"\\u003cb style=\\\"color:Colors.INDIGO_PERSIAN;line-height:60px\\\"\\u003eAnalysis\\u003c\\u002fb\\u003e\",\"\\u003cspan style=\\\"color:#AD0000\\\"\\u003e\\u26a0 \\u003cb\\u003eDrift detected\\u003c\\u002fb\\u003e\\u003c\\u002fspan\\u003e\",\"[2250:2499]\",\"Chunk index: \\u003cb\\u003e30\\u003c\\u002fb\\u003e\",855.0472],[\"\\u003cb\\u003eRMSE\\u003c\\u002fb\\u003e\",\"\\u003cb style=\\\"color:Colors.INDIGO_PERSIAN;line-height:60px\\\"\\u003eAnalysis\\u003c\\u002fb\\u003e\",\"\\u003cspan style=\\\"color:#AD0000\\\"\\u003e\\u26a0 \\u003cb\\u003eDrift detected\\u003c\\u002fb\\u003e\\u003c\\u002fspan\\u003e\",\"[2500:2749]\",\"Chunk index: \\u003cb\\u003e31\\u003c\\u002fb\\u003e\",864.8727],[\"\\u003cb\\u003eRMSE\\u003c\\u002fb\\u003e\",\"\\u003cb style=\\\"color:Colors.INDIGO_PERSIAN;line-height:60px\\\"\\u003eAnalysis\\u003c\\u002fb\\u003e\",\"\\u003cspan style=\\\"color:#AD0000\\\"\\u003e\\u26a0 \\u003cb\\u003eDrift detected\\u003c\\u002fb\\u003e\\u003c\\u002fspan\\u003e\",\"[2750:2999]\",\"Chunk index: \\u003cb\\u003e32\\u003c\\u002fb\\u003e\",849.9762],[\"\\u003cb\\u003eRMSE\\u003c\\u002fb\\u003e\",\"\\u003cb style=\\\"color:Colors.INDIGO_PERSIAN;line-height:60px\\\"\\u003eAnalysis\\u003c\\u002fb\\u003e\",\"\\u003cspan style=\\\"color:#AD0000\\\"\\u003e\\u26a0 \\u003cb\\u003eDrift detected\\u003c\\u002fb\\u003e\\u003c\\u002fspan\\u003e\",\"[3000:3249]\",\"Chunk index: \\u003cb\\u003e33\\u003c\\u002fb\\u003e\",894.3498],[\"\\u003cb\\u003eRMSE\\u003c\\u002fb\\u003e\",\"\\u003cb style=\\\"color:Colors.INDIGO_PERSIAN;line-height:60px\\\"\\u003eAnalysis\\u003c\\u002fb\\u003e\",\"\\u003cspan style=\\\"color:#AD0000\\\"\\u003e\\u26a0 \\u003cb\\u003eDrift detected\\u003c\\u002fb\\u003e\\u003c\\u002fspan\\u003e\",\"[3250:3499]\",\"Chunk index: \\u003cb\\u003e34\\u003c\\u002fb\\u003e\",872.587],[\"\\u003cb\\u003eRMSE\\u003c\\u002fb\\u003e\",\"\\u003cb style=\\\"color:Colors.INDIGO_PERSIAN;line-height:60px\\\"\\u003eAnalysis\\u003c\\u002fb\\u003e\",\"\\u003cspan style=\\\"color:#AD0000\\\"\\u003e\\u26a0 \\u003cb\\u003eDrift detected\\u003c\\u002fb\\u003e\\u003c\\u002fspan\\u003e\",\"[3500:3749]\",\"Chunk index: \\u003cb\\u003e35\\u003c\\u002fb\\u003e\",827.3208],[\"\\u003cb\\u003eRMSE\\u003c\\u002fb\\u003e\",\"\\u003cb style=\\\"color:Colors.INDIGO_PERSIAN;line-height:60px\\\"\\u003eAnalysis\\u003c\\u002fb\\u003e\",\"\\u003cspan style=\\\"color:#AD0000\\\"\\u003e\\u26a0 \\u003cb\\u003eDrift detected\\u003c\\u002fb\\u003e\\u003c\\u002fspan\\u003e\",\"[3750:3999]\",\"Chunk index: \\u003cb\\u003e36\\u003c\\u002fb\\u003e\",1043.3865],[\"\\u003cb\\u003eRMSE\\u003c\\u002fb\\u003e\",\"\\u003cb style=\\\"color:Colors.INDIGO_PERSIAN;line-height:60px\\\"\\u003eAnalysis\\u003c\\u002fb\\u003e\",\"\\u003cspan style=\\\"color:#AD0000\\\"\\u003e\\u26a0 \\u003cb\\u003eDrift detected\\u003c\\u002fb\\u003e\\u003c\\u002fspan\\u003e\",\"[4000:4249]\",\"Chunk index: \\u003cb\\u003e37\\u003c\\u002fb\\u003e\",982.9887],[\"\\u003cb\\u003eRMSE\\u003c\\u002fb\\u003e\",\"\\u003cb style=\\\"color:Colors.INDIGO_PERSIAN;line-height:60px\\\"\\u003eAnalysis\\u003c\\u002fb\\u003e\",\"\\u003cspan style=\\\"color:#AD0000\\\"\\u003e\\u26a0 \\u003cb\\u003eDrift detected\\u003c\\u002fb\\u003e\\u003c\\u002fspan\\u003e\",\"[4250:4499]\",\"Chunk index: \\u003cb\\u003e38\\u003c\\u002fb\\u003e\",873.7325],[\"\\u003cb\\u003eRMSE\\u003c\\u002fb\\u003e\",\"\\u003cb style=\\\"color:Colors.INDIGO_PERSIAN;line-height:60px\\\"\\u003eAnalysis\\u003c\\u002fb\\u003e\",\"\\u003cspan style=\\\"color:#AD0000\\\"\\u003e\\u26a0 \\u003cb\\u003eDrift detected\\u003c\\u002fb\\u003e\\u003c\\u002fspan\\u003e\",\"[4500:4749]\",\"Chunk index: \\u003cb\\u003e39\\u003c\\u002fb\\u003e\",1032.8121],[\"\\u003cb\\u003eRMSE\\u003c\\u002fb\\u003e\",\"\\u003cb style=\\\"color:Colors.INDIGO_PERSIAN;line-height:60px\\\"\\u003eAnalysis\\u003c\\u002fb\\u003e\",\"\\u003cspan style=\\\"color:#AD0000\\\"\\u003e\\u26a0 \\u003cb\\u003eDrift detected\\u003c\\u002fb\\u003e\\u003c\\u002fspan\\u003e\",\"[4750:4999]\",\"Chunk index: \\u003cb\\u003e40\\u003c\\u002fb\\u003e\",824.8615],[\"\\u003cb\\u003eRMSE\\u003c\\u002fb\\u003e\",\"\\u003cb style=\\\"color:Colors.INDIGO_PERSIAN;line-height:60px\\\"\\u003eAnalysis\\u003c\\u002fb\\u003e\",\"\",\"[5000:5393]\",\"Chunk index: \\u003cb\\u003e41\\u003c\\u002fb\\u003e\",802.3974]],\"hovertemplate\":\"%{customdata[1]} &nbsp; &nbsp; %{customdata[2]} \\u003cbr \\u002f\\u003eChunk: \\u003cb\\u003e%{customdata[3]}\\u003c\\u002fb\\u003e &nbsp; &nbsp; %{customdata[4]} \\u003cbr \\u002f\\u003e%{customdata[0]}: \\u003cb\\u003e%{customdata[5]}\\u003c\\u002fb\\u003e\\u003cbr \\u002f\\u003e\\u003cextra\\u003e\\u003c\\u002fextra\\u003e\",\"marker\":{\"color\":\"#3b0280\",\"size\":5,\"symbol\":\"circle\"},\"mode\":\"markers\",\"name\":\"\\u003cb\\u003eRMSE\\u003c\\u002fb\\u003e (realized RMSE)\",\"showlegend\":false,\"x\":[21.5,22.5,23.5,24.5,25.5,26.5,27.5,28.5,29.5,30.5,31.5,32.5,33.5,34.5,35.5,36.5,37.5,38.5,39.5,40.5,41.5],\"xaxis\":\"x\",\"y\":[497.278867413763,826.0348895952544,990.4743950345095,936.2088824999535,959.2457985077156,950.0532540710599,911.7018071988292,908.8738241660241,1115.3217576094125,855.0471599871684,864.8727269050208,849.9761974606421,894.3497975959795,872.5870374133101,827.320827296538,1043.386474036436,982.988744694712,873.7325388269521,1032.812121910391,824.8615169644063,802.3973821875121,802.3973821875121],\"yaxis\":\"y2\",\"type\":\"scatter\"},{\"hoverinfo\":\"skip\",\"legendgroup\":\"alert\",\"marker\":{\"color\":\"#DD4040\",\"size\":8,\"symbol\":\"diamond\"},\"mode\":\"markers\",\"name\":\"Alert\",\"showlegend\":true,\"x\":[22.5,23.5,24.5,25.5,26.5,27.5,28.5,29.5,30.5,31.5,32.5,33.5,34.5,35.5,36.5,37.5,38.5,39.5,40.5,41.5],\"xaxis\":\"x\",\"y\":[3.1845243001423733,3.3103309894599655,3.2658095600481203,3.354325949238515,3.262215450748463,3.300797922957918,3.2706355148018487,3.3704361990710074,3.3324299811295277,3.3696952155521602,3.3408910984187448,3.3044501222272458,3.245840248089644,3.3466959172945927,3.4283363439298826,3.3371328239342684,3.3467423400146963,3.288465709030432,3.322509582222744,3.308938095437892],\"yaxis\":\"y\",\"type\":\"scatter\"},{\"hoverinfo\":\"skip\",\"legendgroup\":\"alert\",\"marker\":{\"color\":\"#DD4040\",\"size\":8,\"symbol\":\"diamond\"},\"mode\":\"markers\",\"name\":\"Alert\",\"showlegend\":false,\"x\":[22.5,23.5,24.5,25.5,26.5,27.5,28.5,29.5,30.5,31.5,32.5,33.5,34.5,35.5,36.5,37.5,38.5,39.5,40.5],\"xaxis\":\"x\",\"y\":[826.0348895952544,990.4743950345095,936.2088824999535,959.2457985077156,950.0532540710599,911.7018071988292,908.8738241660241,1115.3217576094125,855.0471599871684,864.8727269050208,849.9761974606421,894.3497975959795,872.5870374133101,827.320827296538,1043.386474036436,982.988744694712,873.7325388269521,1032.812121910391,824.8615169644063],\"yaxis\":\"y2\",\"type\":\"scatter\"}],                        {\"height\":500.0,\"hoverlabel\":{\"bgcolor\":\"white\",\"font\":{\"size\":14}},\"legend\":{\"itemclick\":false,\"itemdoubleclick\":false,\"traceorder\":\"grouped\"},\"paper_bgcolor\":\"rgba(255,255,255,1)\",\"plot_bgcolor\":\"rgba(255,255,255,1)\",\"title\":{\"text\":\"\\u003cb\\u003eMultivariate drift\\u003c\\u002fb\\u003e vs. \\u003cb\\u003eRealized performance\\u003c\\u002fb\\u003e\"},\"xaxis\":{\"linecolor\":\"#3b0280\",\"mirror\":true,\"showgrid\":false,\"title\":{\"text\":\"Chunk\"},\"zeroline\":false,\"anchor\":\"y\",\"domain\":[0.0,0.94],\"matches\":\"x\"},\"yaxis\":{\"linecolor\":\"#3b0280\",\"mirror\":true,\"showgrid\":false,\"title\":{\"text\":\"\\u003cb\\u003eReconstruction error\\u003c\\u002fb\\u003e\"},\"zeroline\":false,\"anchor\":\"x\",\"domain\":[0.0,1.0]},\"template\":{\"data\":{\"histogram2dcontour\":[{\"type\":\"histogram2dcontour\",\"colorbar\":{\"outlinewidth\":0,\"ticks\":\"\"},\"colorscale\":[[0.0,\"#0d0887\"],[0.1111111111111111,\"#46039f\"],[0.2222222222222222,\"#7201a8\"],[0.3333333333333333,\"#9c179e\"],[0.4444444444444444,\"#bd3786\"],[0.5555555555555556,\"#d8576b\"],[0.6666666666666666,\"#ed7953\"],[0.7777777777777778,\"#fb9f3a\"],[0.8888888888888888,\"#fdca26\"],[1.0,\"#f0f921\"]]}],\"choropleth\":[{\"type\":\"choropleth\",\"colorbar\":{\"outlinewidth\":0,\"ticks\":\"\"}}],\"histogram2d\":[{\"type\":\"histogram2d\",\"colorbar\":{\"outlinewidth\":0,\"ticks\":\"\"},\"colorscale\":[[0.0,\"#0d0887\"],[0.1111111111111111,\"#46039f\"],[0.2222222222222222,\"#7201a8\"],[0.3333333333333333,\"#9c179e\"],[0.4444444444444444,\"#bd3786\"],[0.5555555555555556,\"#d8576b\"],[0.6666666666666666,\"#ed7953\"],[0.7777777777777778,\"#fb9f3a\"],[0.8888888888888888,\"#fdca26\"],[1.0,\"#f0f921\"]]}],\"heatmap\":[{\"type\":\"heatmap\",\"colorbar\":{\"outlinewidth\":0,\"ticks\":\"\"},\"colorscale\":[[0.0,\"#0d0887\"],[0.1111111111111111,\"#46039f\"],[0.2222222222222222,\"#7201a8\"],[0.3333333333333333,\"#9c179e\"],[0.4444444444444444,\"#bd3786\"],[0.5555555555555556,\"#d8576b\"],[0.6666666666666666,\"#ed7953\"],[0.7777777777777778,\"#fb9f3a\"],[0.8888888888888888,\"#fdca26\"],[1.0,\"#f0f921\"]]}],\"heatmapgl\":[{\"type\":\"heatmapgl\",\"colorbar\":{\"outlinewidth\":0,\"ticks\":\"\"},\"colorscale\":[[0.0,\"#0d0887\"],[0.1111111111111111,\"#46039f\"],[0.2222222222222222,\"#7201a8\"],[0.3333333333333333,\"#9c179e\"],[0.4444444444444444,\"#bd3786\"],[0.5555555555555556,\"#d8576b\"],[0.6666666666666666,\"#ed7953\"],[0.7777777777777778,\"#fb9f3a\"],[0.8888888888888888,\"#fdca26\"],[1.0,\"#f0f921\"]]}],\"contourcarpet\":[{\"type\":\"contourcarpet\",\"colorbar\":{\"outlinewidth\":0,\"ticks\":\"\"}}],\"contour\":[{\"type\":\"contour\",\"colorbar\":{\"outlinewidth\":0,\"ticks\":\"\"},\"colorscale\":[[0.0,\"#0d0887\"],[0.1111111111111111,\"#46039f\"],[0.2222222222222222,\"#7201a8\"],[0.3333333333333333,\"#9c179e\"],[0.4444444444444444,\"#bd3786\"],[0.5555555555555556,\"#d8576b\"],[0.6666666666666666,\"#ed7953\"],[0.7777777777777778,\"#fb9f3a\"],[0.8888888888888888,\"#fdca26\"],[1.0,\"#f0f921\"]]}],\"surface\":[{\"type\":\"surface\",\"colorbar\":{\"outlinewidth\":0,\"ticks\":\"\"},\"colorscale\":[[0.0,\"#0d0887\"],[0.1111111111111111,\"#46039f\"],[0.2222222222222222,\"#7201a8\"],[0.3333333333333333,\"#9c179e\"],[0.4444444444444444,\"#bd3786\"],[0.5555555555555556,\"#d8576b\"],[0.6666666666666666,\"#ed7953\"],[0.7777777777777778,\"#fb9f3a\"],[0.8888888888888888,\"#fdca26\"],[1.0,\"#f0f921\"]]}],\"mesh3d\":[{\"type\":\"mesh3d\",\"colorbar\":{\"outlinewidth\":0,\"ticks\":\"\"}}],\"scatter\":[{\"fillpattern\":{\"fillmode\":\"overlay\",\"size\":10,\"solidity\":0.2},\"type\":\"scatter\"}],\"parcoords\":[{\"type\":\"parcoords\",\"line\":{\"colorbar\":{\"outlinewidth\":0,\"ticks\":\"\"}}}],\"scatterpolargl\":[{\"type\":\"scatterpolargl\",\"marker\":{\"colorbar\":{\"outlinewidth\":0,\"ticks\":\"\"}}}],\"bar\":[{\"error_x\":{\"color\":\"#2a3f5f\"},\"error_y\":{\"color\":\"#2a3f5f\"},\"marker\":{\"line\":{\"color\":\"#E5ECF6\",\"width\":0.5},\"pattern\":{\"fillmode\":\"overlay\",\"size\":10,\"solidity\":0.2}},\"type\":\"bar\"}],\"scattergeo\":[{\"type\":\"scattergeo\",\"marker\":{\"colorbar\":{\"outlinewidth\":0,\"ticks\":\"\"}}}],\"scatterpolar\":[{\"type\":\"scatterpolar\",\"marker\":{\"colorbar\":{\"outlinewidth\":0,\"ticks\":\"\"}}}],\"histogram\":[{\"marker\":{\"pattern\":{\"fillmode\":\"overlay\",\"size\":10,\"solidity\":0.2}},\"type\":\"histogram\"}],\"scattergl\":[{\"type\":\"scattergl\",\"marker\":{\"colorbar\":{\"outlinewidth\":0,\"ticks\":\"\"}}}],\"scatter3d\":[{\"type\":\"scatter3d\",\"line\":{\"colorbar\":{\"outlinewidth\":0,\"ticks\":\"\"}},\"marker\":{\"colorbar\":{\"outlinewidth\":0,\"ticks\":\"\"}}}],\"scattermapbox\":[{\"type\":\"scattermapbox\",\"marker\":{\"colorbar\":{\"outlinewidth\":0,\"ticks\":\"\"}}}],\"scatterternary\":[{\"type\":\"scatterternary\",\"marker\":{\"colorbar\":{\"outlinewidth\":0,\"ticks\":\"\"}}}],\"scattercarpet\":[{\"type\":\"scattercarpet\",\"marker\":{\"colorbar\":{\"outlinewidth\":0,\"ticks\":\"\"}}}],\"carpet\":[{\"aaxis\":{\"endlinecolor\":\"#2a3f5f\",\"gridcolor\":\"white\",\"linecolor\":\"white\",\"minorgridcolor\":\"white\",\"startlinecolor\":\"#2a3f5f\"},\"baxis\":{\"endlinecolor\":\"#2a3f5f\",\"gridcolor\":\"white\",\"linecolor\":\"white\",\"minorgridcolor\":\"white\",\"startlinecolor\":\"#2a3f5f\"},\"type\":\"carpet\"}],\"table\":[{\"cells\":{\"fill\":{\"color\":\"#EBF0F8\"},\"line\":{\"color\":\"white\"}},\"header\":{\"fill\":{\"color\":\"#C8D4E3\"},\"line\":{\"color\":\"white\"}},\"type\":\"table\"}],\"barpolar\":[{\"marker\":{\"line\":{\"color\":\"#E5ECF6\",\"width\":0.5},\"pattern\":{\"fillmode\":\"overlay\",\"size\":10,\"solidity\":0.2}},\"type\":\"barpolar\"}],\"pie\":[{\"automargin\":true,\"type\":\"pie\"}]},\"layout\":{\"autotypenumbers\":\"strict\",\"colorway\":[\"#636efa\",\"#EF553B\",\"#00cc96\",\"#ab63fa\",\"#FFA15A\",\"#19d3f3\",\"#FF6692\",\"#B6E880\",\"#FF97FF\",\"#FECB52\"],\"font\":{\"color\":\"#2a3f5f\"},\"hovermode\":\"closest\",\"hoverlabel\":{\"align\":\"left\"},\"paper_bgcolor\":\"white\",\"plot_bgcolor\":\"#E5ECF6\",\"polar\":{\"bgcolor\":\"#E5ECF6\",\"angularaxis\":{\"gridcolor\":\"white\",\"linecolor\":\"white\",\"ticks\":\"\"},\"radialaxis\":{\"gridcolor\":\"white\",\"linecolor\":\"white\",\"ticks\":\"\"}},\"ternary\":{\"bgcolor\":\"#E5ECF6\",\"aaxis\":{\"gridcolor\":\"white\",\"linecolor\":\"white\",\"ticks\":\"\"},\"baxis\":{\"gridcolor\":\"white\",\"linecolor\":\"white\",\"ticks\":\"\"},\"caxis\":{\"gridcolor\":\"white\",\"linecolor\":\"white\",\"ticks\":\"\"}},\"coloraxis\":{\"colorbar\":{\"outlinewidth\":0,\"ticks\":\"\"}},\"colorscale\":{\"sequential\":[[0.0,\"#0d0887\"],[0.1111111111111111,\"#46039f\"],[0.2222222222222222,\"#7201a8\"],[0.3333333333333333,\"#9c179e\"],[0.4444444444444444,\"#bd3786\"],[0.5555555555555556,\"#d8576b\"],[0.6666666666666666,\"#ed7953\"],[0.7777777777777778,\"#fb9f3a\"],[0.8888888888888888,\"#fdca26\"],[1.0,\"#f0f921\"]],\"sequentialminus\":[[0.0,\"#0d0887\"],[0.1111111111111111,\"#46039f\"],[0.2222222222222222,\"#7201a8\"],[0.3333333333333333,\"#9c179e\"],[0.4444444444444444,\"#bd3786\"],[0.5555555555555556,\"#d8576b\"],[0.6666666666666666,\"#ed7953\"],[0.7777777777777778,\"#fb9f3a\"],[0.8888888888888888,\"#fdca26\"],[1.0,\"#f0f921\"]],\"diverging\":[[0,\"#8e0152\"],[0.1,\"#c51b7d\"],[0.2,\"#de77ae\"],[0.3,\"#f1b6da\"],[0.4,\"#fde0ef\"],[0.5,\"#f7f7f7\"],[0.6,\"#e6f5d0\"],[0.7,\"#b8e186\"],[0.8,\"#7fbc41\"],[0.9,\"#4d9221\"],[1,\"#276419\"]]},\"xaxis\":{\"gridcolor\":\"white\",\"linecolor\":\"white\",\"ticks\":\"\",\"title\":{\"standoff\":15},\"zerolinecolor\":\"white\",\"automargin\":true,\"zerolinewidth\":2},\"yaxis\":{\"gridcolor\":\"white\",\"linecolor\":\"white\",\"ticks\":\"\",\"title\":{\"standoff\":15},\"zerolinecolor\":\"white\",\"automargin\":true,\"zerolinewidth\":2},\"scene\":{\"xaxis\":{\"backgroundcolor\":\"#E5ECF6\",\"gridcolor\":\"white\",\"linecolor\":\"white\",\"showbackground\":true,\"ticks\":\"\",\"zerolinecolor\":\"white\",\"gridwidth\":2},\"yaxis\":{\"backgroundcolor\":\"#E5ECF6\",\"gridcolor\":\"white\",\"linecolor\":\"white\",\"showbackground\":true,\"ticks\":\"\",\"zerolinecolor\":\"white\",\"gridwidth\":2},\"zaxis\":{\"backgroundcolor\":\"#E5ECF6\",\"gridcolor\":\"white\",\"linecolor\":\"white\",\"showbackground\":true,\"ticks\":\"\",\"zerolinecolor\":\"white\",\"gridwidth\":2}},\"shapedefaults\":{\"line\":{\"color\":\"#2a3f5f\"}},\"annotationdefaults\":{\"arrowcolor\":\"#2a3f5f\",\"arrowhead\":0,\"arrowwidth\":1},\"geo\":{\"bgcolor\":\"white\",\"landcolor\":\"#E5ECF6\",\"subunitcolor\":\"white\",\"showland\":true,\"showlakes\":true,\"lakecolor\":\"white\"},\"title\":{\"x\":0.05},\"mapbox\":{\"style\":\"light\"}}},\"yaxis2\":{\"anchor\":\"x\",\"overlaying\":\"y\",\"side\":\"right\",\"title\":{\"text\":\"\\u003cb\\u003eRMSE\\u003c\\u002fb\\u003e\"},\"linecolor\":\"#3b0280\",\"showgrid\":false,\"mirror\":true,\"zeroline\":false},\"annotations\":[{\"font\":{\"size\":16},\"showarrow\":false,\"text\":\"\\u003cb\\u003eReconstruction error\\u003c\\u002fb\\u003e vs. \\u003cb\\u003eRMSE\\u003c\\u002fb\\u003e (realized RMSE)\",\"x\":0.47,\"xanchor\":\"center\",\"xref\":\"paper\",\"y\":1.0,\"yanchor\":\"bottom\",\"yref\":\"paper\"},{\"showarrow\":false,\"text\":\"Reference\",\"x\":10.0,\"xshift\":10,\"y\":1,\"yref\":\"paper\"},{\"showarrow\":false,\"text\":\"Analysis\",\"x\":31.0,\"xshift\":15,\"y\":1,\"yref\":\"paper\"}],\"shapes\":[{\"layer\":\"below\",\"line\":{\"color\":\"#666666\",\"width\":1},\"type\":\"line\",\"x0\":21,\"x1\":21,\"xref\":\"x\",\"y0\":0,\"y1\":1,\"yref\":\"y domain\"}]},                        {\"responsive\": true}                    ).then(function(){\n",
       "                            \n",
       "var gd = document.getElementById('c3233023-e790-4cca-adb6-2d5a83f8f9cc');\n",
       "var x = new MutationObserver(function (mutations, observer) {{\n",
       "        var display = window.getComputedStyle(gd).display;\n",
       "        if (!display || display === 'none') {{\n",
       "            console.log([gd, 'removed!']);\n",
       "            Plotly.purge(gd);\n",
       "            observer.disconnect();\n",
       "        }}\n",
       "}});\n",
       "\n",
       "// Listen for the removal of the full notebook cells\n",
       "var notebookContainer = gd.closest('#notebook-container');\n",
       "if (notebookContainer) {{\n",
       "    x.observe(notebookContainer, {childList: true});\n",
       "}}\n",
       "\n",
       "// Listen for the clearing of the current output cell\n",
       "var outputEl = gd.closest('.output');\n",
       "if (outputEl) {{\n",
       "    x.observe(outputEl, {childList: true});\n",
       "}}\n",
       "\n",
       "                        })                };                });            </script>        </div>"
      ]
     },
     "metadata": {},
     "output_type": "display_data"
    }
   ],
   "source": [
    "multivariate_results.compare(realized_results).plot().show()"
   ]
  },
  {
   "cell_type": "markdown",
   "id": "c56d0364-806e-48c2-a108-cb33acfdcd7c",
   "metadata": {},
   "source": [
    "### Univariate drift detection"
   ]
  },
  {
   "cell_type": "code",
   "execution_count": 283,
   "id": "d29b7aee-f67a-4107-bcc6-14b06a20d79d",
   "metadata": {},
   "outputs": [],
   "source": [
    "univariate_calc = nannyml.UnivariateDriftCalculator(\n",
    "    column_names=all_feature_names,\n",
    "    continuous_methods=[\"wasserstein\"],\n",
    "    categorical_methods=[\"jensen_shannon\"],\n",
    "    chunk_size=250,\n",
    ")\n",
    "\n",
    "univariate_calc.fit(reference)\n",
    "univariate_results = univariate_calc.calculate(analysis)"
   ]
  },
  {
   "cell_type": "code",
   "execution_count": 284,
   "id": "6a80abc3-d9fc-43ba-92aa-e810fef79fd7",
   "metadata": {},
   "outputs": [
    {
     "data": {
      "text/plain": [
       "['carat', 'cut', 'color', 'clarity', 'depth', 'table', 'x', 'y', 'z']"
      ]
     },
     "execution_count": 284,
     "metadata": {},
     "output_type": "execute_result"
    }
   ],
   "source": [
    "all_feature_names"
   ]
  },
  {
   "cell_type": "code",
   "execution_count": 285,
   "id": "448e247a-7a12-4179-be94-a1333369e2fc",
   "metadata": {},
   "outputs": [
    {
     "data": {
      "application/vnd.plotly.v1+json": {
       "config": {
        "plotlyServerURL": "https://plot.ly"
       },
       "data": [
        {
         "hoverinfo": "skip",
         "legendgroup": "metric_reference",
         "line": {
          "color": "#00c8e5",
          "shape": "hv",
          "width": 2
         },
         "mode": "lines",
         "name": "Method",
         "showlegend": true,
         "type": "scatter",
         "x": [
          0,
          1,
          2,
          3,
          4,
          5,
          6,
          7,
          8,
          9,
          10,
          11,
          12,
          13,
          14,
          15,
          16,
          17,
          18,
          19,
          20,
          21
         ],
         "xaxis": "x",
         "y": [
          0.02672842417500929,
          0.033344797923618844,
          0.04655881349647758,
          0.03780676307007787,
          0.02937149425287356,
          0.018717063403782014,
          0.059792703003337055,
          0.04436063774564332,
          0.04438088246199484,
          0.02230067482387841,
          0.025108668891360802,
          0.036562091212458334,
          0.030951116054875827,
          0.020786770485724887,
          0.028464901742677053,
          0.020446184649610673,
          0.04265233963663331,
          0.044254846125324473,
          0.030699443826473875,
          0.03936185391175382,
          0.01935261777986072,
          0.01935261777986072
         ],
         "yaxis": "y"
        },
        {
         "customdata": [
          [
           "Wasserstein distance for <b>carat</b>",
           "<b style=\"color:Colors.BLUE_SKY_CRAYOLA;line-height:60px\">Reference</b>",
           "",
           "[0:249]",
           "Chunk index: <b>0</b>",
           0.0267
          ],
          [
           "Wasserstein distance for <b>carat</b>",
           "<b style=\"color:Colors.BLUE_SKY_CRAYOLA;line-height:60px\">Reference</b>",
           "",
           "[250:499]",
           "Chunk index: <b>1</b>",
           0.0333
          ],
          [
           "Wasserstein distance for <b>carat</b>",
           "<b style=\"color:Colors.BLUE_SKY_CRAYOLA;line-height:60px\">Reference</b>",
           "",
           "[500:749]",
           "Chunk index: <b>2</b>",
           0.0466
          ],
          [
           "Wasserstein distance for <b>carat</b>",
           "<b style=\"color:Colors.BLUE_SKY_CRAYOLA;line-height:60px\">Reference</b>",
           "",
           "[750:999]",
           "Chunk index: <b>3</b>",
           0.0378
          ],
          [
           "Wasserstein distance for <b>carat</b>",
           "<b style=\"color:Colors.BLUE_SKY_CRAYOLA;line-height:60px\">Reference</b>",
           "",
           "[1000:1249]",
           "Chunk index: <b>4</b>",
           0.0294
          ],
          [
           "Wasserstein distance for <b>carat</b>",
           "<b style=\"color:Colors.BLUE_SKY_CRAYOLA;line-height:60px\">Reference</b>",
           "",
           "[1250:1499]",
           "Chunk index: <b>5</b>",
           0.0187
          ],
          [
           "Wasserstein distance for <b>carat</b>",
           "<b style=\"color:Colors.BLUE_SKY_CRAYOLA;line-height:60px\">Reference</b>",
           "",
           "[1500:1749]",
           "Chunk index: <b>6</b>",
           0.0598
          ],
          [
           "Wasserstein distance for <b>carat</b>",
           "<b style=\"color:Colors.BLUE_SKY_CRAYOLA;line-height:60px\">Reference</b>",
           "",
           "[1750:1999]",
           "Chunk index: <b>7</b>",
           0.0444
          ],
          [
           "Wasserstein distance for <b>carat</b>",
           "<b style=\"color:Colors.BLUE_SKY_CRAYOLA;line-height:60px\">Reference</b>",
           "",
           "[2000:2249]",
           "Chunk index: <b>8</b>",
           0.0444
          ],
          [
           "Wasserstein distance for <b>carat</b>",
           "<b style=\"color:Colors.BLUE_SKY_CRAYOLA;line-height:60px\">Reference</b>",
           "",
           "[2250:2499]",
           "Chunk index: <b>9</b>",
           0.0223
          ],
          [
           "Wasserstein distance for <b>carat</b>",
           "<b style=\"color:Colors.BLUE_SKY_CRAYOLA;line-height:60px\">Reference</b>",
           "",
           "[2500:2749]",
           "Chunk index: <b>10</b>",
           0.0251
          ],
          [
           "Wasserstein distance for <b>carat</b>",
           "<b style=\"color:Colors.BLUE_SKY_CRAYOLA;line-height:60px\">Reference</b>",
           "",
           "[2750:2999]",
           "Chunk index: <b>11</b>",
           0.0366
          ],
          [
           "Wasserstein distance for <b>carat</b>",
           "<b style=\"color:Colors.BLUE_SKY_CRAYOLA;line-height:60px\">Reference</b>",
           "",
           "[3000:3249]",
           "Chunk index: <b>12</b>",
           0.031
          ],
          [
           "Wasserstein distance for <b>carat</b>",
           "<b style=\"color:Colors.BLUE_SKY_CRAYOLA;line-height:60px\">Reference</b>",
           "",
           "[3250:3499]",
           "Chunk index: <b>13</b>",
           0.0208
          ],
          [
           "Wasserstein distance for <b>carat</b>",
           "<b style=\"color:Colors.BLUE_SKY_CRAYOLA;line-height:60px\">Reference</b>",
           "",
           "[3500:3749]",
           "Chunk index: <b>14</b>",
           0.0285
          ],
          [
           "Wasserstein distance for <b>carat</b>",
           "<b style=\"color:Colors.BLUE_SKY_CRAYOLA;line-height:60px\">Reference</b>",
           "",
           "[3750:3999]",
           "Chunk index: <b>15</b>",
           0.0204
          ],
          [
           "Wasserstein distance for <b>carat</b>",
           "<b style=\"color:Colors.BLUE_SKY_CRAYOLA;line-height:60px\">Reference</b>",
           "",
           "[4000:4249]",
           "Chunk index: <b>16</b>",
           0.0427
          ],
          [
           "Wasserstein distance for <b>carat</b>",
           "<b style=\"color:Colors.BLUE_SKY_CRAYOLA;line-height:60px\">Reference</b>",
           "",
           "[4250:4499]",
           "Chunk index: <b>17</b>",
           0.0443
          ],
          [
           "Wasserstein distance for <b>carat</b>",
           "<b style=\"color:Colors.BLUE_SKY_CRAYOLA;line-height:60px\">Reference</b>",
           "",
           "[4500:4749]",
           "Chunk index: <b>18</b>",
           0.0307
          ],
          [
           "Wasserstein distance for <b>carat</b>",
           "<b style=\"color:Colors.BLUE_SKY_CRAYOLA;line-height:60px\">Reference</b>",
           "",
           "[4750:4999]",
           "Chunk index: <b>19</b>",
           0.0394
          ],
          [
           "Wasserstein distance for <b>carat</b>",
           "<b style=\"color:Colors.BLUE_SKY_CRAYOLA;line-height:60px\">Reference</b>",
           "",
           "[5000:5393]",
           "Chunk index: <b>20</b>",
           0.0194
          ]
         ],
         "hovertemplate": "%{customdata[1]} &nbsp; &nbsp; %{customdata[2]} <br />Chunk: <b>%{customdata[3]}</b> &nbsp; &nbsp; %{customdata[4]} <br />%{customdata[0]}: <b>%{customdata[5]}</b><b r /><extra></extra>",
         "legendgroup": "metric_reference",
         "marker": {
          "color": "#00c8e5",
          "size": 5,
          "symbol": "circle"
         },
         "mode": "markers",
         "name": "Method",
         "showlegend": false,
         "type": "scatter",
         "x": [
          0.5,
          1.5,
          2.5,
          3.5,
          4.5,
          5.5,
          6.5,
          7.5,
          8.5,
          9.5,
          10.5,
          11.5,
          12.5,
          13.5,
          14.5,
          15.5,
          16.5,
          17.5,
          18.5,
          19.5,
          20.5
         ],
         "xaxis": "x",
         "y": [
          0.02672842417500929,
          0.033344797923618844,
          0.04655881349647758,
          0.03780676307007787,
          0.02937149425287356,
          0.018717063403782014,
          0.059792703003337055,
          0.04436063774564332,
          0.04438088246199484,
          0.02230067482387841,
          0.025108668891360802,
          0.036562091212458334,
          0.030951116054875827,
          0.020786770485724887,
          0.028464901742677053,
          0.020446184649610673,
          0.04265233963663331,
          0.044254846125324473,
          0.030699443826473875,
          0.03936185391175382,
          0.01935261777986072,
          0.01935261777986072
         ],
         "yaxis": "y"
        },
        {
         "hoverinfo": "skip",
         "legendgroup": "metric_analysis",
         "line": {
          "color": "#00c8e5",
          "shape": "hv",
          "width": 2
         },
         "mode": "lines",
         "name": "Method",
         "showlegend": false,
         "type": "scatter",
         "x": [
          21,
          22,
          23,
          24,
          25,
          26,
          27,
          28,
          29,
          30,
          31,
          32,
          33,
          34,
          35,
          36,
          37,
          38,
          39,
          40,
          41,
          42
         ],
         "xaxis": "x",
         "y": [
          0.03047417130144606,
          0.2141147126436782,
          0.21681779013718952,
          0.26323450945494997,
          0.27700866740823143,
          0.29034671264367823,
          0.21702199184278836,
          0.1886347126436782,
          0.2589907126436782,
          0.2066295884315907,
          0.20857286911383022,
          0.18634671264367822,
          0.1976307126436782,
          0.19957511457174645,
          0.3031387126436782,
          0.2816107126436782,
          0.3120307126436782,
          0.24359871264367822,
          0.2678914304783093,
          0.22003594809047095,
          0.25812502423260286,
          0.25812502423260286
         ],
         "yaxis": "y"
        },
        {
         "customdata": [
          [
           "Wasserstein distance for <b>carat</b>",
           "<b style=\"color:Colors.BLUE_SKY_CRAYOLA;line-height:60px\">Analysis</b>",
           "",
           "[0:249]",
           "Chunk index: <b>0</b>",
           0.0305
          ],
          [
           "Wasserstein distance for <b>carat</b>",
           "<b style=\"color:Colors.BLUE_SKY_CRAYOLA;line-height:60px\">Analysis</b>",
           "<span style=\"color:#AD0000\">⚠ <b>Drift detected</b></span>",
           "[250:499]",
           "Chunk index: <b>1</b>",
           0.2141
          ],
          [
           "Wasserstein distance for <b>carat</b>",
           "<b style=\"color:Colors.BLUE_SKY_CRAYOLA;line-height:60px\">Analysis</b>",
           "<span style=\"color:#AD0000\">⚠ <b>Drift detected</b></span>",
           "[500:749]",
           "Chunk index: <b>2</b>",
           0.2168
          ],
          [
           "Wasserstein distance for <b>carat</b>",
           "<b style=\"color:Colors.BLUE_SKY_CRAYOLA;line-height:60px\">Analysis</b>",
           "<span style=\"color:#AD0000\">⚠ <b>Drift detected</b></span>",
           "[750:999]",
           "Chunk index: <b>3</b>",
           0.2632
          ],
          [
           "Wasserstein distance for <b>carat</b>",
           "<b style=\"color:Colors.BLUE_SKY_CRAYOLA;line-height:60px\">Analysis</b>",
           "<span style=\"color:#AD0000\">⚠ <b>Drift detected</b></span>",
           "[1000:1249]",
           "Chunk index: <b>4</b>",
           0.277
          ],
          [
           "Wasserstein distance for <b>carat</b>",
           "<b style=\"color:Colors.BLUE_SKY_CRAYOLA;line-height:60px\">Analysis</b>",
           "<span style=\"color:#AD0000\">⚠ <b>Drift detected</b></span>",
           "[1250:1499]",
           "Chunk index: <b>5</b>",
           0.2903
          ],
          [
           "Wasserstein distance for <b>carat</b>",
           "<b style=\"color:Colors.BLUE_SKY_CRAYOLA;line-height:60px\">Analysis</b>",
           "<span style=\"color:#AD0000\">⚠ <b>Drift detected</b></span>",
           "[1500:1749]",
           "Chunk index: <b>6</b>",
           0.217
          ],
          [
           "Wasserstein distance for <b>carat</b>",
           "<b style=\"color:Colors.BLUE_SKY_CRAYOLA;line-height:60px\">Analysis</b>",
           "<span style=\"color:#AD0000\">⚠ <b>Drift detected</b></span>",
           "[1750:1999]",
           "Chunk index: <b>7</b>",
           0.1886
          ],
          [
           "Wasserstein distance for <b>carat</b>",
           "<b style=\"color:Colors.BLUE_SKY_CRAYOLA;line-height:60px\">Analysis</b>",
           "<span style=\"color:#AD0000\">⚠ <b>Drift detected</b></span>",
           "[2000:2249]",
           "Chunk index: <b>8</b>",
           0.259
          ],
          [
           "Wasserstein distance for <b>carat</b>",
           "<b style=\"color:Colors.BLUE_SKY_CRAYOLA;line-height:60px\">Analysis</b>",
           "<span style=\"color:#AD0000\">⚠ <b>Drift detected</b></span>",
           "[2250:2499]",
           "Chunk index: <b>9</b>",
           0.2066
          ],
          [
           "Wasserstein distance for <b>carat</b>",
           "<b style=\"color:Colors.BLUE_SKY_CRAYOLA;line-height:60px\">Analysis</b>",
           "<span style=\"color:#AD0000\">⚠ <b>Drift detected</b></span>",
           "[2500:2749]",
           "Chunk index: <b>10</b>",
           0.2086
          ],
          [
           "Wasserstein distance for <b>carat</b>",
           "<b style=\"color:Colors.BLUE_SKY_CRAYOLA;line-height:60px\">Analysis</b>",
           "<span style=\"color:#AD0000\">⚠ <b>Drift detected</b></span>",
           "[2750:2999]",
           "Chunk index: <b>11</b>",
           0.1863
          ],
          [
           "Wasserstein distance for <b>carat</b>",
           "<b style=\"color:Colors.BLUE_SKY_CRAYOLA;line-height:60px\">Analysis</b>",
           "<span style=\"color:#AD0000\">⚠ <b>Drift detected</b></span>",
           "[3000:3249]",
           "Chunk index: <b>12</b>",
           0.1976
          ],
          [
           "Wasserstein distance for <b>carat</b>",
           "<b style=\"color:Colors.BLUE_SKY_CRAYOLA;line-height:60px\">Analysis</b>",
           "<span style=\"color:#AD0000\">⚠ <b>Drift detected</b></span>",
           "[3250:3499]",
           "Chunk index: <b>13</b>",
           0.1996
          ],
          [
           "Wasserstein distance for <b>carat</b>",
           "<b style=\"color:Colors.BLUE_SKY_CRAYOLA;line-height:60px\">Analysis</b>",
           "<span style=\"color:#AD0000\">⚠ <b>Drift detected</b></span>",
           "[3500:3749]",
           "Chunk index: <b>14</b>",
           0.3031
          ],
          [
           "Wasserstein distance for <b>carat</b>",
           "<b style=\"color:Colors.BLUE_SKY_CRAYOLA;line-height:60px\">Analysis</b>",
           "<span style=\"color:#AD0000\">⚠ <b>Drift detected</b></span>",
           "[3750:3999]",
           "Chunk index: <b>15</b>",
           0.2816
          ],
          [
           "Wasserstein distance for <b>carat</b>",
           "<b style=\"color:Colors.BLUE_SKY_CRAYOLA;line-height:60px\">Analysis</b>",
           "<span style=\"color:#AD0000\">⚠ <b>Drift detected</b></span>",
           "[4000:4249]",
           "Chunk index: <b>16</b>",
           0.312
          ],
          [
           "Wasserstein distance for <b>carat</b>",
           "<b style=\"color:Colors.BLUE_SKY_CRAYOLA;line-height:60px\">Analysis</b>",
           "<span style=\"color:#AD0000\">⚠ <b>Drift detected</b></span>",
           "[4250:4499]",
           "Chunk index: <b>17</b>",
           0.2436
          ],
          [
           "Wasserstein distance for <b>carat</b>",
           "<b style=\"color:Colors.BLUE_SKY_CRAYOLA;line-height:60px\">Analysis</b>",
           "<span style=\"color:#AD0000\">⚠ <b>Drift detected</b></span>",
           "[4500:4749]",
           "Chunk index: <b>18</b>",
           0.2679
          ],
          [
           "Wasserstein distance for <b>carat</b>",
           "<b style=\"color:Colors.BLUE_SKY_CRAYOLA;line-height:60px\">Analysis</b>",
           "<span style=\"color:#AD0000\">⚠ <b>Drift detected</b></span>",
           "[4750:4999]",
           "Chunk index: <b>19</b>",
           0.22
          ],
          [
           "Wasserstein distance for <b>carat</b>",
           "<b style=\"color:Colors.BLUE_SKY_CRAYOLA;line-height:60px\">Analysis</b>",
           "<span style=\"color:#AD0000\">⚠ <b>Drift detected</b></span>",
           "[5000:5393]",
           "Chunk index: <b>20</b>",
           0.2581
          ]
         ],
         "hovertemplate": "%{customdata[1]} &nbsp; &nbsp; %{customdata[2]} <br />Chunk: <b>%{customdata[3]}</b> &nbsp; &nbsp; %{customdata[4]} <br />%{customdata[0]}: <b>%{customdata[5]}</b><b r /><extra></extra>",
         "legendgroup": "metric_analysis",
         "marker": {
          "color": "#00c8e5",
          "size": 5,
          "symbol": "circle"
         },
         "mode": "markers",
         "name": "Method",
         "showlegend": false,
         "type": "scatter",
         "x": [
          21.5,
          22.5,
          23.5,
          24.5,
          25.5,
          26.5,
          27.5,
          28.5,
          29.5,
          30.5,
          31.5,
          32.5,
          33.5,
          34.5,
          35.5,
          36.5,
          37.5,
          38.5,
          39.5,
          40.5,
          41.5
         ],
         "xaxis": "x",
         "y": [
          0.03047417130144606,
          0.2141147126436782,
          0.21681779013718952,
          0.26323450945494997,
          0.27700866740823143,
          0.29034671264367823,
          0.21702199184278836,
          0.1886347126436782,
          0.2589907126436782,
          0.2066295884315907,
          0.20857286911383022,
          0.18634671264367822,
          0.1976307126436782,
          0.19957511457174645,
          0.3031387126436782,
          0.2816107126436782,
          0.3120307126436782,
          0.24359871264367822,
          0.2678914304783093,
          0.22003594809047095,
          0.25812502423260286,
          0.25812502423260286
         ],
         "yaxis": "y"
        },
        {
         "hoverinfo": "skip",
         "legendgroup": "alert",
         "marker": {
          "color": "#DD4040",
          "size": 8,
          "symbol": "diamond"
         },
         "mode": "markers",
         "name": "Alert",
         "showlegend": true,
         "type": "scatter",
         "x": [
          22.5,
          23.5,
          24.5,
          25.5,
          26.5,
          27.5,
          28.5,
          29.5,
          30.5,
          31.5,
          32.5,
          33.5,
          34.5,
          35.5,
          36.5,
          37.5,
          38.5,
          39.5,
          40.5,
          41.5
         ],
         "xaxis": "x",
         "y": [
          0.2141147126436782,
          0.21681779013718952,
          0.26323450945494997,
          0.27700866740823143,
          0.29034671264367823,
          0.21702199184278836,
          0.1886347126436782,
          0.2589907126436782,
          0.2066295884315907,
          0.20857286911383022,
          0.18634671264367822,
          0.1976307126436782,
          0.19957511457174645,
          0.3031387126436782,
          0.2816107126436782,
          0.3120307126436782,
          0.24359871264367822,
          0.2678914304783093,
          0.22003594809047095,
          0.25812502423260286
         ],
         "yaxis": "y"
        },
        {
         "hoverinfo": "skip",
         "legendgroup": "thresh",
         "line": {
          "color": "#DD4040",
          "dash": "dash",
          "width": 2
         },
         "mode": "lines",
         "name": "Threshold",
         "showlegend": true,
         "type": "scatter",
         "x": [
          0,
          1,
          2,
          3,
          4,
          5,
          6,
          7,
          8,
          9,
          10,
          11,
          12,
          13,
          14,
          15,
          16,
          17,
          18,
          19,
          20,
          21
         ],
         "xaxis": "x",
         "y": [
          0.06555990134563702,
          0.06555990134563702,
          0.06555990134563702,
          0.06555990134563702,
          0.06555990134563702,
          0.06555990134563702,
          0.06555990134563702,
          0.06555990134563702,
          0.06555990134563702,
          0.06555990134563702,
          0.06555990134563702,
          0.06555990134563702,
          0.06555990134563702,
          0.06555990134563702,
          0.06555990134563702,
          0.06555990134563702,
          0.06555990134563702,
          0.06555990134563702,
          0.06555990134563702,
          0.06555990134563702,
          0.06555990134563702,
          0.06555990134563702
         ],
         "yaxis": "y"
        },
        {
         "hoverinfo": "skip",
         "legendgroup": "thresh",
         "line": {
          "color": "#DD4040",
          "dash": "dash",
          "width": 2
         },
         "mode": "lines",
         "name": "Threshold",
         "showlegend": false,
         "type": "scatter",
         "x": [
          21,
          22,
          23,
          24,
          25,
          26,
          27,
          28,
          29,
          30,
          31,
          32,
          33,
          34,
          35,
          36,
          37,
          38,
          39,
          40,
          41,
          42
         ],
         "xaxis": "x",
         "y": [
          0.06555990134563702,
          0.06555990134563702,
          0.06555990134563702,
          0.06555990134563702,
          0.06555990134563702,
          0.06555990134563702,
          0.06555990134563702,
          0.06555990134563702,
          0.06555990134563702,
          0.06555990134563702,
          0.06555990134563702,
          0.06555990134563702,
          0.06555990134563702,
          0.06555990134563702,
          0.06555990134563702,
          0.06555990134563702,
          0.06555990134563702,
          0.06555990134563702,
          0.06555990134563702,
          0.06555990134563702,
          0.06555990134563702,
          0.06555990134563702
         ],
         "yaxis": "y"
        }
       ],
       "layout": {
        "annotations": [
         {
          "font": {
           "size": 16
          },
          "showarrow": false,
          "text": "Wasserstein distance for <b>carat</b>",
          "x": 0.5,
          "xanchor": "center",
          "xref": "paper",
          "y": 1,
          "yanchor": "bottom",
          "yref": "paper"
         },
         {
          "showarrow": false,
          "text": "Reference",
          "x": 10,
          "xref": "x",
          "xshift": 10,
          "y": 1.01,
          "yref": "y domain"
         },
         {
          "showarrow": false,
          "text": "Analysis",
          "x": 31,
          "xref": "x",
          "xshift": 15,
          "y": 1.01,
          "yref": "y domain"
         }
        ],
        "autosize": true,
        "hoverlabel": {
         "bgcolor": "white",
         "font": {
          "size": 14
         }
        },
        "legend": {
         "itemclick": false,
         "itemdoubleclick": false,
         "traceorder": "grouped"
        },
        "paper_bgcolor": "rgba(255,255,255,1)",
        "plot_bgcolor": "rgba(255,255,255,1)",
        "shapes": [
         {
          "layer": "below",
          "line": {
           "color": "#666666",
           "width": 1
          },
          "type": "line",
          "x0": 21,
          "x1": 21,
          "xref": "x",
          "y0": 0,
          "y1": 1,
          "yref": "y domain"
         }
        ],
        "template": {
         "data": {
          "bar": [
           {
            "error_x": {
             "color": "#2a3f5f"
            },
            "error_y": {
             "color": "#2a3f5f"
            },
            "marker": {
             "line": {
              "color": "#E5ECF6",
              "width": 0.5
             },
             "pattern": {
              "fillmode": "overlay",
              "size": 10,
              "solidity": 0.2
             }
            },
            "type": "bar"
           }
          ],
          "barpolar": [
           {
            "marker": {
             "line": {
              "color": "#E5ECF6",
              "width": 0.5
             },
             "pattern": {
              "fillmode": "overlay",
              "size": 10,
              "solidity": 0.2
             }
            },
            "type": "barpolar"
           }
          ],
          "carpet": [
           {
            "aaxis": {
             "endlinecolor": "#2a3f5f",
             "gridcolor": "white",
             "linecolor": "white",
             "minorgridcolor": "white",
             "startlinecolor": "#2a3f5f"
            },
            "baxis": {
             "endlinecolor": "#2a3f5f",
             "gridcolor": "white",
             "linecolor": "white",
             "minorgridcolor": "white",
             "startlinecolor": "#2a3f5f"
            },
            "type": "carpet"
           }
          ],
          "choropleth": [
           {
            "colorbar": {
             "outlinewidth": 0,
             "ticks": ""
            },
            "type": "choropleth"
           }
          ],
          "contour": [
           {
            "colorbar": {
             "outlinewidth": 0,
             "ticks": ""
            },
            "colorscale": [
             [
              0,
              "#0d0887"
             ],
             [
              0.1111111111111111,
              "#46039f"
             ],
             [
              0.2222222222222222,
              "#7201a8"
             ],
             [
              0.3333333333333333,
              "#9c179e"
             ],
             [
              0.4444444444444444,
              "#bd3786"
             ],
             [
              0.5555555555555556,
              "#d8576b"
             ],
             [
              0.6666666666666666,
              "#ed7953"
             ],
             [
              0.7777777777777778,
              "#fb9f3a"
             ],
             [
              0.8888888888888888,
              "#fdca26"
             ],
             [
              1,
              "#f0f921"
             ]
            ],
            "type": "contour"
           }
          ],
          "contourcarpet": [
           {
            "colorbar": {
             "outlinewidth": 0,
             "ticks": ""
            },
            "type": "contourcarpet"
           }
          ],
          "heatmap": [
           {
            "colorbar": {
             "outlinewidth": 0,
             "ticks": ""
            },
            "colorscale": [
             [
              0,
              "#0d0887"
             ],
             [
              0.1111111111111111,
              "#46039f"
             ],
             [
              0.2222222222222222,
              "#7201a8"
             ],
             [
              0.3333333333333333,
              "#9c179e"
             ],
             [
              0.4444444444444444,
              "#bd3786"
             ],
             [
              0.5555555555555556,
              "#d8576b"
             ],
             [
              0.6666666666666666,
              "#ed7953"
             ],
             [
              0.7777777777777778,
              "#fb9f3a"
             ],
             [
              0.8888888888888888,
              "#fdca26"
             ],
             [
              1,
              "#f0f921"
             ]
            ],
            "type": "heatmap"
           }
          ],
          "heatmapgl": [
           {
            "colorbar": {
             "outlinewidth": 0,
             "ticks": ""
            },
            "colorscale": [
             [
              0,
              "#0d0887"
             ],
             [
              0.1111111111111111,
              "#46039f"
             ],
             [
              0.2222222222222222,
              "#7201a8"
             ],
             [
              0.3333333333333333,
              "#9c179e"
             ],
             [
              0.4444444444444444,
              "#bd3786"
             ],
             [
              0.5555555555555556,
              "#d8576b"
             ],
             [
              0.6666666666666666,
              "#ed7953"
             ],
             [
              0.7777777777777778,
              "#fb9f3a"
             ],
             [
              0.8888888888888888,
              "#fdca26"
             ],
             [
              1,
              "#f0f921"
             ]
            ],
            "type": "heatmapgl"
           }
          ],
          "histogram": [
           {
            "marker": {
             "pattern": {
              "fillmode": "overlay",
              "size": 10,
              "solidity": 0.2
             }
            },
            "type": "histogram"
           }
          ],
          "histogram2d": [
           {
            "colorbar": {
             "outlinewidth": 0,
             "ticks": ""
            },
            "colorscale": [
             [
              0,
              "#0d0887"
             ],
             [
              0.1111111111111111,
              "#46039f"
             ],
             [
              0.2222222222222222,
              "#7201a8"
             ],
             [
              0.3333333333333333,
              "#9c179e"
             ],
             [
              0.4444444444444444,
              "#bd3786"
             ],
             [
              0.5555555555555556,
              "#d8576b"
             ],
             [
              0.6666666666666666,
              "#ed7953"
             ],
             [
              0.7777777777777778,
              "#fb9f3a"
             ],
             [
              0.8888888888888888,
              "#fdca26"
             ],
             [
              1,
              "#f0f921"
             ]
            ],
            "type": "histogram2d"
           }
          ],
          "histogram2dcontour": [
           {
            "colorbar": {
             "outlinewidth": 0,
             "ticks": ""
            },
            "colorscale": [
             [
              0,
              "#0d0887"
             ],
             [
              0.1111111111111111,
              "#46039f"
             ],
             [
              0.2222222222222222,
              "#7201a8"
             ],
             [
              0.3333333333333333,
              "#9c179e"
             ],
             [
              0.4444444444444444,
              "#bd3786"
             ],
             [
              0.5555555555555556,
              "#d8576b"
             ],
             [
              0.6666666666666666,
              "#ed7953"
             ],
             [
              0.7777777777777778,
              "#fb9f3a"
             ],
             [
              0.8888888888888888,
              "#fdca26"
             ],
             [
              1,
              "#f0f921"
             ]
            ],
            "type": "histogram2dcontour"
           }
          ],
          "mesh3d": [
           {
            "colorbar": {
             "outlinewidth": 0,
             "ticks": ""
            },
            "type": "mesh3d"
           }
          ],
          "parcoords": [
           {
            "line": {
             "colorbar": {
              "outlinewidth": 0,
              "ticks": ""
             }
            },
            "type": "parcoords"
           }
          ],
          "pie": [
           {
            "automargin": true,
            "type": "pie"
           }
          ],
          "scatter": [
           {
            "fillpattern": {
             "fillmode": "overlay",
             "size": 10,
             "solidity": 0.2
            },
            "type": "scatter"
           }
          ],
          "scatter3d": [
           {
            "line": {
             "colorbar": {
              "outlinewidth": 0,
              "ticks": ""
             }
            },
            "marker": {
             "colorbar": {
              "outlinewidth": 0,
              "ticks": ""
             }
            },
            "type": "scatter3d"
           }
          ],
          "scattercarpet": [
           {
            "marker": {
             "colorbar": {
              "outlinewidth": 0,
              "ticks": ""
             }
            },
            "type": "scattercarpet"
           }
          ],
          "scattergeo": [
           {
            "marker": {
             "colorbar": {
              "outlinewidth": 0,
              "ticks": ""
             }
            },
            "type": "scattergeo"
           }
          ],
          "scattergl": [
           {
            "marker": {
             "colorbar": {
              "outlinewidth": 0,
              "ticks": ""
             }
            },
            "type": "scattergl"
           }
          ],
          "scattermapbox": [
           {
            "marker": {
             "colorbar": {
              "outlinewidth": 0,
              "ticks": ""
             }
            },
            "type": "scattermapbox"
           }
          ],
          "scatterpolar": [
           {
            "marker": {
             "colorbar": {
              "outlinewidth": 0,
              "ticks": ""
             }
            },
            "type": "scatterpolar"
           }
          ],
          "scatterpolargl": [
           {
            "marker": {
             "colorbar": {
              "outlinewidth": 0,
              "ticks": ""
             }
            },
            "type": "scatterpolargl"
           }
          ],
          "scatterternary": [
           {
            "marker": {
             "colorbar": {
              "outlinewidth": 0,
              "ticks": ""
             }
            },
            "type": "scatterternary"
           }
          ],
          "surface": [
           {
            "colorbar": {
             "outlinewidth": 0,
             "ticks": ""
            },
            "colorscale": [
             [
              0,
              "#0d0887"
             ],
             [
              0.1111111111111111,
              "#46039f"
             ],
             [
              0.2222222222222222,
              "#7201a8"
             ],
             [
              0.3333333333333333,
              "#9c179e"
             ],
             [
              0.4444444444444444,
              "#bd3786"
             ],
             [
              0.5555555555555556,
              "#d8576b"
             ],
             [
              0.6666666666666666,
              "#ed7953"
             ],
             [
              0.7777777777777778,
              "#fb9f3a"
             ],
             [
              0.8888888888888888,
              "#fdca26"
             ],
             [
              1,
              "#f0f921"
             ]
            ],
            "type": "surface"
           }
          ],
          "table": [
           {
            "cells": {
             "fill": {
              "color": "#EBF0F8"
             },
             "line": {
              "color": "white"
             }
            },
            "header": {
             "fill": {
              "color": "#C8D4E3"
             },
             "line": {
              "color": "white"
             }
            },
            "type": "table"
           }
          ]
         },
         "layout": {
          "annotationdefaults": {
           "arrowcolor": "#2a3f5f",
           "arrowhead": 0,
           "arrowwidth": 1
          },
          "autotypenumbers": "strict",
          "coloraxis": {
           "colorbar": {
            "outlinewidth": 0,
            "ticks": ""
           }
          },
          "colorscale": {
           "diverging": [
            [
             0,
             "#8e0152"
            ],
            [
             0.1,
             "#c51b7d"
            ],
            [
             0.2,
             "#de77ae"
            ],
            [
             0.3,
             "#f1b6da"
            ],
            [
             0.4,
             "#fde0ef"
            ],
            [
             0.5,
             "#f7f7f7"
            ],
            [
             0.6,
             "#e6f5d0"
            ],
            [
             0.7,
             "#b8e186"
            ],
            [
             0.8,
             "#7fbc41"
            ],
            [
             0.9,
             "#4d9221"
            ],
            [
             1,
             "#276419"
            ]
           ],
           "sequential": [
            [
             0,
             "#0d0887"
            ],
            [
             0.1111111111111111,
             "#46039f"
            ],
            [
             0.2222222222222222,
             "#7201a8"
            ],
            [
             0.3333333333333333,
             "#9c179e"
            ],
            [
             0.4444444444444444,
             "#bd3786"
            ],
            [
             0.5555555555555556,
             "#d8576b"
            ],
            [
             0.6666666666666666,
             "#ed7953"
            ],
            [
             0.7777777777777778,
             "#fb9f3a"
            ],
            [
             0.8888888888888888,
             "#fdca26"
            ],
            [
             1,
             "#f0f921"
            ]
           ],
           "sequentialminus": [
            [
             0,
             "#0d0887"
            ],
            [
             0.1111111111111111,
             "#46039f"
            ],
            [
             0.2222222222222222,
             "#7201a8"
            ],
            [
             0.3333333333333333,
             "#9c179e"
            ],
            [
             0.4444444444444444,
             "#bd3786"
            ],
            [
             0.5555555555555556,
             "#d8576b"
            ],
            [
             0.6666666666666666,
             "#ed7953"
            ],
            [
             0.7777777777777778,
             "#fb9f3a"
            ],
            [
             0.8888888888888888,
             "#fdca26"
            ],
            [
             1,
             "#f0f921"
            ]
           ]
          },
          "colorway": [
           "#636efa",
           "#EF553B",
           "#00cc96",
           "#ab63fa",
           "#FFA15A",
           "#19d3f3",
           "#FF6692",
           "#B6E880",
           "#FF97FF",
           "#FECB52"
          ],
          "font": {
           "color": "#2a3f5f"
          },
          "geo": {
           "bgcolor": "white",
           "lakecolor": "white",
           "landcolor": "#E5ECF6",
           "showlakes": true,
           "showland": true,
           "subunitcolor": "white"
          },
          "hoverlabel": {
           "align": "left"
          },
          "hovermode": "closest",
          "mapbox": {
           "style": "light"
          },
          "paper_bgcolor": "white",
          "plot_bgcolor": "#E5ECF6",
          "polar": {
           "angularaxis": {
            "gridcolor": "white",
            "linecolor": "white",
            "ticks": ""
           },
           "bgcolor": "#E5ECF6",
           "radialaxis": {
            "gridcolor": "white",
            "linecolor": "white",
            "ticks": ""
           }
          },
          "scene": {
           "xaxis": {
            "backgroundcolor": "#E5ECF6",
            "gridcolor": "white",
            "gridwidth": 2,
            "linecolor": "white",
            "showbackground": true,
            "ticks": "",
            "zerolinecolor": "white"
           },
           "yaxis": {
            "backgroundcolor": "#E5ECF6",
            "gridcolor": "white",
            "gridwidth": 2,
            "linecolor": "white",
            "showbackground": true,
            "ticks": "",
            "zerolinecolor": "white"
           },
           "zaxis": {
            "backgroundcolor": "#E5ECF6",
            "gridcolor": "white",
            "gridwidth": 2,
            "linecolor": "white",
            "showbackground": true,
            "ticks": "",
            "zerolinecolor": "white"
           }
          },
          "shapedefaults": {
           "line": {
            "color": "#2a3f5f"
           }
          },
          "ternary": {
           "aaxis": {
            "gridcolor": "white",
            "linecolor": "white",
            "ticks": ""
           },
           "baxis": {
            "gridcolor": "white",
            "linecolor": "white",
            "ticks": ""
           },
           "bgcolor": "#E5ECF6",
           "caxis": {
            "gridcolor": "white",
            "linecolor": "white",
            "ticks": ""
           }
          },
          "title": {
           "x": 0.05
          },
          "xaxis": {
           "automargin": true,
           "gridcolor": "white",
           "linecolor": "white",
           "ticks": "",
           "title": {
            "standoff": 15
           },
           "zerolinecolor": "white",
           "zerolinewidth": 2
          },
          "yaxis": {
           "automargin": true,
           "gridcolor": "white",
           "linecolor": "white",
           "ticks": "",
           "title": {
            "standoff": 15
           },
           "zerolinecolor": "white",
           "zerolinewidth": 2
          }
         }
        },
        "title": {
         "text": "Univariate drift metrics"
        },
        "xaxis": {
         "anchor": "y",
         "autorange": true,
         "domain": [
          0,
          1
         ],
         "linecolor": "#3b0280",
         "matches": "x",
         "mirror": true,
         "range": [
          -2.3357910760156027,
          44.628341737227665
         ],
         "showgrid": false,
         "title": {
          "text": "Chunk"
         },
         "type": "linear",
         "zeroline": false
        },
        "yaxis": {
         "anchor": "x",
         "autorange": true,
         "domain": [
          0,
          1
         ],
         "linecolor": "#3b0280",
         "mirror": true,
         "range": [
          -0.0013262542977383607,
          0.3340390614924065
         ],
         "showgrid": false,
         "title": {
          "text": "Wasserstein distance"
         },
         "type": "linear",
         "zeroline": false
        }
       }
      },
      "image/png": "[encoded data removed]",
      "text/html": [
       "<div>                            <div id=\"ada16a1b-411e-4eab-adad-b6d9a023d8f8\" class=\"plotly-graph-div\" style=\"height:500.0px; width:100%;\"></div>            <script type=\"text/javascript\">                require([\"plotly\"], function(Plotly) {                    window.PLOTLYENV=window.PLOTLYENV || {};                                    if (document.getElementById(\"ada16a1b-411e-4eab-adad-b6d9a023d8f8\")) {                    Plotly.newPlot(                        \"ada16a1b-411e-4eab-adad-b6d9a023d8f8\",                        [{\"hoverinfo\":\"skip\",\"legendgroup\":\"metric_reference\",\"line\":{\"color\":\"#00c8e5\",\"shape\":\"hv\",\"width\":2},\"mode\":\"lines\",\"name\":\"Method\",\"showlegend\":true,\"x\":[0,1,2,3,4,5,6,7,8,9,10,11,12,13,14,15,16,17,18,19,20,21],\"y\":[0.02672842417500929,0.033344797923618844,0.04655881349647758,0.03780676307007787,0.02937149425287356,0.018717063403782014,0.059792703003337055,0.04436063774564332,0.04438088246199484,0.02230067482387841,0.025108668891360802,0.036562091212458334,0.030951116054875827,0.020786770485724887,0.028464901742677053,0.020446184649610673,0.04265233963663331,0.044254846125324473,0.030699443826473875,0.03936185391175382,0.01935261777986072,0.01935261777986072],\"type\":\"scatter\",\"xaxis\":\"x\",\"yaxis\":\"y\"},{\"customdata\":[[\"Wasserstein distance for \\u003cb\\u003ecarat\\u003c\\u002fb\\u003e\",\"\\u003cb style=\\\"color:Colors.BLUE_SKY_CRAYOLA;line-height:60px\\\"\\u003eReference\\u003c\\u002fb\\u003e\",\"\",\"[0:249]\",\"Chunk index: \\u003cb\\u003e0\\u003c\\u002fb\\u003e\",0.0267],[\"Wasserstein distance for \\u003cb\\u003ecarat\\u003c\\u002fb\\u003e\",\"\\u003cb style=\\\"color:Colors.BLUE_SKY_CRAYOLA;line-height:60px\\\"\\u003eReference\\u003c\\u002fb\\u003e\",\"\",\"[250:499]\",\"Chunk index: \\u003cb\\u003e1\\u003c\\u002fb\\u003e\",0.0333],[\"Wasserstein distance for \\u003cb\\u003ecarat\\u003c\\u002fb\\u003e\",\"\\u003cb style=\\\"color:Colors.BLUE_SKY_CRAYOLA;line-height:60px\\\"\\u003eReference\\u003c\\u002fb\\u003e\",\"\",\"[500:749]\",\"Chunk index: \\u003cb\\u003e2\\u003c\\u002fb\\u003e\",0.0466],[\"Wasserstein distance for \\u003cb\\u003ecarat\\u003c\\u002fb\\u003e\",\"\\u003cb style=\\\"color:Colors.BLUE_SKY_CRAYOLA;line-height:60px\\\"\\u003eReference\\u003c\\u002fb\\u003e\",\"\",\"[750:999]\",\"Chunk index: \\u003cb\\u003e3\\u003c\\u002fb\\u003e\",0.0378],[\"Wasserstein distance for \\u003cb\\u003ecarat\\u003c\\u002fb\\u003e\",\"\\u003cb style=\\\"color:Colors.BLUE_SKY_CRAYOLA;line-height:60px\\\"\\u003eReference\\u003c\\u002fb\\u003e\",\"\",\"[1000:1249]\",\"Chunk index: \\u003cb\\u003e4\\u003c\\u002fb\\u003e\",0.0294],[\"Wasserstein distance for \\u003cb\\u003ecarat\\u003c\\u002fb\\u003e\",\"\\u003cb style=\\\"color:Colors.BLUE_SKY_CRAYOLA;line-height:60px\\\"\\u003eReference\\u003c\\u002fb\\u003e\",\"\",\"[1250:1499]\",\"Chunk index: \\u003cb\\u003e5\\u003c\\u002fb\\u003e\",0.0187],[\"Wasserstein distance for \\u003cb\\u003ecarat\\u003c\\u002fb\\u003e\",\"\\u003cb style=\\\"color:Colors.BLUE_SKY_CRAYOLA;line-height:60px\\\"\\u003eReference\\u003c\\u002fb\\u003e\",\"\",\"[1500:1749]\",\"Chunk index: \\u003cb\\u003e6\\u003c\\u002fb\\u003e\",0.0598],[\"Wasserstein distance for \\u003cb\\u003ecarat\\u003c\\u002fb\\u003e\",\"\\u003cb style=\\\"color:Colors.BLUE_SKY_CRAYOLA;line-height:60px\\\"\\u003eReference\\u003c\\u002fb\\u003e\",\"\",\"[1750:1999]\",\"Chunk index: \\u003cb\\u003e7\\u003c\\u002fb\\u003e\",0.0444],[\"Wasserstein distance for \\u003cb\\u003ecarat\\u003c\\u002fb\\u003e\",\"\\u003cb style=\\\"color:Colors.BLUE_SKY_CRAYOLA;line-height:60px\\\"\\u003eReference\\u003c\\u002fb\\u003e\",\"\",\"[2000:2249]\",\"Chunk index: \\u003cb\\u003e8\\u003c\\u002fb\\u003e\",0.0444],[\"Wasserstein distance for \\u003cb\\u003ecarat\\u003c\\u002fb\\u003e\",\"\\u003cb style=\\\"color:Colors.BLUE_SKY_CRAYOLA;line-height:60px\\\"\\u003eReference\\u003c\\u002fb\\u003e\",\"\",\"[2250:2499]\",\"Chunk index: \\u003cb\\u003e9\\u003c\\u002fb\\u003e\",0.0223],[\"Wasserstein distance for \\u003cb\\u003ecarat\\u003c\\u002fb\\u003e\",\"\\u003cb style=\\\"color:Colors.BLUE_SKY_CRAYOLA;line-height:60px\\\"\\u003eReference\\u003c\\u002fb\\u003e\",\"\",\"[2500:2749]\",\"Chunk index: \\u003cb\\u003e10\\u003c\\u002fb\\u003e\",0.0251],[\"Wasserstein distance for \\u003cb\\u003ecarat\\u003c\\u002fb\\u003e\",\"\\u003cb style=\\\"color:Colors.BLUE_SKY_CRAYOLA;line-height:60px\\\"\\u003eReference\\u003c\\u002fb\\u003e\",\"\",\"[2750:2999]\",\"Chunk index: \\u003cb\\u003e11\\u003c\\u002fb\\u003e\",0.0366],[\"Wasserstein distance for \\u003cb\\u003ecarat\\u003c\\u002fb\\u003e\",\"\\u003cb style=\\\"color:Colors.BLUE_SKY_CRAYOLA;line-height:60px\\\"\\u003eReference\\u003c\\u002fb\\u003e\",\"\",\"[3000:3249]\",\"Chunk index: \\u003cb\\u003e12\\u003c\\u002fb\\u003e\",0.031],[\"Wasserstein distance for \\u003cb\\u003ecarat\\u003c\\u002fb\\u003e\",\"\\u003cb style=\\\"color:Colors.BLUE_SKY_CRAYOLA;line-height:60px\\\"\\u003eReference\\u003c\\u002fb\\u003e\",\"\",\"[3250:3499]\",\"Chunk index: \\u003cb\\u003e13\\u003c\\u002fb\\u003e\",0.0208],[\"Wasserstein distance for \\u003cb\\u003ecarat\\u003c\\u002fb\\u003e\",\"\\u003cb style=\\\"color:Colors.BLUE_SKY_CRAYOLA;line-height:60px\\\"\\u003eReference\\u003c\\u002fb\\u003e\",\"\",\"[3500:3749]\",\"Chunk index: \\u003cb\\u003e14\\u003c\\u002fb\\u003e\",0.0285],[\"Wasserstein distance for \\u003cb\\u003ecarat\\u003c\\u002fb\\u003e\",\"\\u003cb style=\\\"color:Colors.BLUE_SKY_CRAYOLA;line-height:60px\\\"\\u003eReference\\u003c\\u002fb\\u003e\",\"\",\"[3750:3999]\",\"Chunk index: \\u003cb\\u003e15\\u003c\\u002fb\\u003e\",0.0204],[\"Wasserstein distance for \\u003cb\\u003ecarat\\u003c\\u002fb\\u003e\",\"\\u003cb style=\\\"color:Colors.BLUE_SKY_CRAYOLA;line-height:60px\\\"\\u003eReference\\u003c\\u002fb\\u003e\",\"\",\"[4000:4249]\",\"Chunk index: \\u003cb\\u003e16\\u003c\\u002fb\\u003e\",0.0427],[\"Wasserstein distance for \\u003cb\\u003ecarat\\u003c\\u002fb\\u003e\",\"\\u003cb style=\\\"color:Colors.BLUE_SKY_CRAYOLA;line-height:60px\\\"\\u003eReference\\u003c\\u002fb\\u003e\",\"\",\"[4250:4499]\",\"Chunk index: \\u003cb\\u003e17\\u003c\\u002fb\\u003e\",0.0443],[\"Wasserstein distance for \\u003cb\\u003ecarat\\u003c\\u002fb\\u003e\",\"\\u003cb style=\\\"color:Colors.BLUE_SKY_CRAYOLA;line-height:60px\\\"\\u003eReference\\u003c\\u002fb\\u003e\",\"\",\"[4500:4749]\",\"Chunk index: \\u003cb\\u003e18\\u003c\\u002fb\\u003e\",0.0307],[\"Wasserstein distance for \\u003cb\\u003ecarat\\u003c\\u002fb\\u003e\",\"\\u003cb style=\\\"color:Colors.BLUE_SKY_CRAYOLA;line-height:60px\\\"\\u003eReference\\u003c\\u002fb\\u003e\",\"\",\"[4750:4999]\",\"Chunk index: \\u003cb\\u003e19\\u003c\\u002fb\\u003e\",0.0394],[\"Wasserstein distance for \\u003cb\\u003ecarat\\u003c\\u002fb\\u003e\",\"\\u003cb style=\\\"color:Colors.BLUE_SKY_CRAYOLA;line-height:60px\\\"\\u003eReference\\u003c\\u002fb\\u003e\",\"\",\"[5000:5393]\",\"Chunk index: \\u003cb\\u003e20\\u003c\\u002fb\\u003e\",0.0194]],\"hovertemplate\":\"%{customdata[1]} &nbsp; &nbsp; %{customdata[2]} \\u003cbr \\u002f\\u003eChunk: \\u003cb\\u003e%{customdata[3]}\\u003c\\u002fb\\u003e &nbsp; &nbsp; %{customdata[4]} \\u003cbr \\u002f\\u003e%{customdata[0]}: \\u003cb\\u003e%{customdata[5]}\\u003c\\u002fb\\u003e\\u003cb r \\u002f\\u003e\\u003cextra\\u003e\\u003c\\u002fextra\\u003e\",\"legendgroup\":\"metric_reference\",\"marker\":{\"color\":\"#00c8e5\",\"size\":5,\"symbol\":\"circle\"},\"mode\":\"markers\",\"name\":\"Method\",\"showlegend\":false,\"x\":[0.5,1.5,2.5,3.5,4.5,5.5,6.5,7.5,8.5,9.5,10.5,11.5,12.5,13.5,14.5,15.5,16.5,17.5,18.5,19.5,20.5],\"y\":[0.02672842417500929,0.033344797923618844,0.04655881349647758,0.03780676307007787,0.02937149425287356,0.018717063403782014,0.059792703003337055,0.04436063774564332,0.04438088246199484,0.02230067482387841,0.025108668891360802,0.036562091212458334,0.030951116054875827,0.020786770485724887,0.028464901742677053,0.020446184649610673,0.04265233963663331,0.044254846125324473,0.030699443826473875,0.03936185391175382,0.01935261777986072,0.01935261777986072],\"type\":\"scatter\",\"xaxis\":\"x\",\"yaxis\":\"y\"},{\"hoverinfo\":\"skip\",\"legendgroup\":\"metric_analysis\",\"line\":{\"color\":\"#00c8e5\",\"shape\":\"hv\",\"width\":2},\"mode\":\"lines\",\"name\":\"Method\",\"showlegend\":false,\"x\":[21,22,23,24,25,26,27,28,29,30,31,32,33,34,35,36,37,38,39,40,41,42],\"y\":[0.03047417130144606,0.2141147126436782,0.21681779013718952,0.26323450945494997,0.27700866740823143,0.29034671264367823,0.21702199184278836,0.1886347126436782,0.2589907126436782,0.2066295884315907,0.20857286911383022,0.18634671264367822,0.1976307126436782,0.19957511457174645,0.3031387126436782,0.2816107126436782,0.3120307126436782,0.24359871264367822,0.2678914304783093,0.22003594809047095,0.25812502423260286,0.25812502423260286],\"type\":\"scatter\",\"xaxis\":\"x\",\"yaxis\":\"y\"},{\"customdata\":[[\"Wasserstein distance for \\u003cb\\u003ecarat\\u003c\\u002fb\\u003e\",\"\\u003cb style=\\\"color:Colors.BLUE_SKY_CRAYOLA;line-height:60px\\\"\\u003eAnalysis\\u003c\\u002fb\\u003e\",\"\",\"[0:249]\",\"Chunk index: \\u003cb\\u003e0\\u003c\\u002fb\\u003e\",0.0305],[\"Wasserstein distance for \\u003cb\\u003ecarat\\u003c\\u002fb\\u003e\",\"\\u003cb style=\\\"color:Colors.BLUE_SKY_CRAYOLA;line-height:60px\\\"\\u003eAnalysis\\u003c\\u002fb\\u003e\",\"\\u003cspan style=\\\"color:#AD0000\\\"\\u003e\\u26a0 \\u003cb\\u003eDrift detected\\u003c\\u002fb\\u003e\\u003c\\u002fspan\\u003e\",\"[250:499]\",\"Chunk index: \\u003cb\\u003e1\\u003c\\u002fb\\u003e\",0.2141],[\"Wasserstein distance for \\u003cb\\u003ecarat\\u003c\\u002fb\\u003e\",\"\\u003cb style=\\\"color:Colors.BLUE_SKY_CRAYOLA;line-height:60px\\\"\\u003eAnalysis\\u003c\\u002fb\\u003e\",\"\\u003cspan style=\\\"color:#AD0000\\\"\\u003e\\u26a0 \\u003cb\\u003eDrift detected\\u003c\\u002fb\\u003e\\u003c\\u002fspan\\u003e\",\"[500:749]\",\"Chunk index: \\u003cb\\u003e2\\u003c\\u002fb\\u003e\",0.2168],[\"Wasserstein distance for \\u003cb\\u003ecarat\\u003c\\u002fb\\u003e\",\"\\u003cb style=\\\"color:Colors.BLUE_SKY_CRAYOLA;line-height:60px\\\"\\u003eAnalysis\\u003c\\u002fb\\u003e\",\"\\u003cspan style=\\\"color:#AD0000\\\"\\u003e\\u26a0 \\u003cb\\u003eDrift detected\\u003c\\u002fb\\u003e\\u003c\\u002fspan\\u003e\",\"[750:999]\",\"Chunk index: \\u003cb\\u003e3\\u003c\\u002fb\\u003e\",0.2632],[\"Wasserstein distance for \\u003cb\\u003ecarat\\u003c\\u002fb\\u003e\",\"\\u003cb style=\\\"color:Colors.BLUE_SKY_CRAYOLA;line-height:60px\\\"\\u003eAnalysis\\u003c\\u002fb\\u003e\",\"\\u003cspan style=\\\"color:#AD0000\\\"\\u003e\\u26a0 \\u003cb\\u003eDrift detected\\u003c\\u002fb\\u003e\\u003c\\u002fspan\\u003e\",\"[1000:1249]\",\"Chunk index: \\u003cb\\u003e4\\u003c\\u002fb\\u003e\",0.277],[\"Wasserstein distance for \\u003cb\\u003ecarat\\u003c\\u002fb\\u003e\",\"\\u003cb style=\\\"color:Colors.BLUE_SKY_CRAYOLA;line-height:60px\\\"\\u003eAnalysis\\u003c\\u002fb\\u003e\",\"\\u003cspan style=\\\"color:#AD0000\\\"\\u003e\\u26a0 \\u003cb\\u003eDrift detected\\u003c\\u002fb\\u003e\\u003c\\u002fspan\\u003e\",\"[1250:1499]\",\"Chunk index: \\u003cb\\u003e5\\u003c\\u002fb\\u003e\",0.2903],[\"Wasserstein distance for \\u003cb\\u003ecarat\\u003c\\u002fb\\u003e\",\"\\u003cb style=\\\"color:Colors.BLUE_SKY_CRAYOLA;line-height:60px\\\"\\u003eAnalysis\\u003c\\u002fb\\u003e\",\"\\u003cspan style=\\\"color:#AD0000\\\"\\u003e\\u26a0 \\u003cb\\u003eDrift detected\\u003c\\u002fb\\u003e\\u003c\\u002fspan\\u003e\",\"[1500:1749]\",\"Chunk index: \\u003cb\\u003e6\\u003c\\u002fb\\u003e\",0.217],[\"Wasserstein distance for \\u003cb\\u003ecarat\\u003c\\u002fb\\u003e\",\"\\u003cb style=\\\"color:Colors.BLUE_SKY_CRAYOLA;line-height:60px\\\"\\u003eAnalysis\\u003c\\u002fb\\u003e\",\"\\u003cspan style=\\\"color:#AD0000\\\"\\u003e\\u26a0 \\u003cb\\u003eDrift detected\\u003c\\u002fb\\u003e\\u003c\\u002fspan\\u003e\",\"[1750:1999]\",\"Chunk index: \\u003cb\\u003e7\\u003c\\u002fb\\u003e\",0.1886],[\"Wasserstein distance for \\u003cb\\u003ecarat\\u003c\\u002fb\\u003e\",\"\\u003cb style=\\\"color:Colors.BLUE_SKY_CRAYOLA;line-height:60px\\\"\\u003eAnalysis\\u003c\\u002fb\\u003e\",\"\\u003cspan style=\\\"color:#AD0000\\\"\\u003e\\u26a0 \\u003cb\\u003eDrift detected\\u003c\\u002fb\\u003e\\u003c\\u002fspan\\u003e\",\"[2000:2249]\",\"Chunk index: \\u003cb\\u003e8\\u003c\\u002fb\\u003e\",0.259],[\"Wasserstein distance for \\u003cb\\u003ecarat\\u003c\\u002fb\\u003e\",\"\\u003cb style=\\\"color:Colors.BLUE_SKY_CRAYOLA;line-height:60px\\\"\\u003eAnalysis\\u003c\\u002fb\\u003e\",\"\\u003cspan style=\\\"color:#AD0000\\\"\\u003e\\u26a0 \\u003cb\\u003eDrift detected\\u003c\\u002fb\\u003e\\u003c\\u002fspan\\u003e\",\"[2250:2499]\",\"Chunk index: \\u003cb\\u003e9\\u003c\\u002fb\\u003e\",0.2066],[\"Wasserstein distance for \\u003cb\\u003ecarat\\u003c\\u002fb\\u003e\",\"\\u003cb style=\\\"color:Colors.BLUE_SKY_CRAYOLA;line-height:60px\\\"\\u003eAnalysis\\u003c\\u002fb\\u003e\",\"\\u003cspan style=\\\"color:#AD0000\\\"\\u003e\\u26a0 \\u003cb\\u003eDrift detected\\u003c\\u002fb\\u003e\\u003c\\u002fspan\\u003e\",\"[2500:2749]\",\"Chunk index: \\u003cb\\u003e10\\u003c\\u002fb\\u003e\",0.2086],[\"Wasserstein distance for \\u003cb\\u003ecarat\\u003c\\u002fb\\u003e\",\"\\u003cb style=\\\"color:Colors.BLUE_SKY_CRAYOLA;line-height:60px\\\"\\u003eAnalysis\\u003c\\u002fb\\u003e\",\"\\u003cspan style=\\\"color:#AD0000\\\"\\u003e\\u26a0 \\u003cb\\u003eDrift detected\\u003c\\u002fb\\u003e\\u003c\\u002fspan\\u003e\",\"[2750:2999]\",\"Chunk index: \\u003cb\\u003e11\\u003c\\u002fb\\u003e\",0.1863],[\"Wasserstein distance for \\u003cb\\u003ecarat\\u003c\\u002fb\\u003e\",\"\\u003cb style=\\\"color:Colors.BLUE_SKY_CRAYOLA;line-height:60px\\\"\\u003eAnalysis\\u003c\\u002fb\\u003e\",\"\\u003cspan style=\\\"color:#AD0000\\\"\\u003e\\u26a0 \\u003cb\\u003eDrift detected\\u003c\\u002fb\\u003e\\u003c\\u002fspan\\u003e\",\"[3000:3249]\",\"Chunk index: \\u003cb\\u003e12\\u003c\\u002fb\\u003e\",0.1976],[\"Wasserstein distance for \\u003cb\\u003ecarat\\u003c\\u002fb\\u003e\",\"\\u003cb style=\\\"color:Colors.BLUE_SKY_CRAYOLA;line-height:60px\\\"\\u003eAnalysis\\u003c\\u002fb\\u003e\",\"\\u003cspan style=\\\"color:#AD0000\\\"\\u003e\\u26a0 \\u003cb\\u003eDrift detected\\u003c\\u002fb\\u003e\\u003c\\u002fspan\\u003e\",\"[3250:3499]\",\"Chunk index: \\u003cb\\u003e13\\u003c\\u002fb\\u003e\",0.1996],[\"Wasserstein distance for \\u003cb\\u003ecarat\\u003c\\u002fb\\u003e\",\"\\u003cb style=\\\"color:Colors.BLUE_SKY_CRAYOLA;line-height:60px\\\"\\u003eAnalysis\\u003c\\u002fb\\u003e\",\"\\u003cspan style=\\\"color:#AD0000\\\"\\u003e\\u26a0 \\u003cb\\u003eDrift detected\\u003c\\u002fb\\u003e\\u003c\\u002fspan\\u003e\",\"[3500:3749]\",\"Chunk index: \\u003cb\\u003e14\\u003c\\u002fb\\u003e\",0.3031],[\"Wasserstein distance for \\u003cb\\u003ecarat\\u003c\\u002fb\\u003e\",\"\\u003cb style=\\\"color:Colors.BLUE_SKY_CRAYOLA;line-height:60px\\\"\\u003eAnalysis\\u003c\\u002fb\\u003e\",\"\\u003cspan style=\\\"color:#AD0000\\\"\\u003e\\u26a0 \\u003cb\\u003eDrift detected\\u003c\\u002fb\\u003e\\u003c\\u002fspan\\u003e\",\"[3750:3999]\",\"Chunk index: \\u003cb\\u003e15\\u003c\\u002fb\\u003e\",0.2816],[\"Wasserstein distance for \\u003cb\\u003ecarat\\u003c\\u002fb\\u003e\",\"\\u003cb style=\\\"color:Colors.BLUE_SKY_CRAYOLA;line-height:60px\\\"\\u003eAnalysis\\u003c\\u002fb\\u003e\",\"\\u003cspan style=\\\"color:#AD0000\\\"\\u003e\\u26a0 \\u003cb\\u003eDrift detected\\u003c\\u002fb\\u003e\\u003c\\u002fspan\\u003e\",\"[4000:4249]\",\"Chunk index: \\u003cb\\u003e16\\u003c\\u002fb\\u003e\",0.312],[\"Wasserstein distance for \\u003cb\\u003ecarat\\u003c\\u002fb\\u003e\",\"\\u003cb style=\\\"color:Colors.BLUE_SKY_CRAYOLA;line-height:60px\\\"\\u003eAnalysis\\u003c\\u002fb\\u003e\",\"\\u003cspan style=\\\"color:#AD0000\\\"\\u003e\\u26a0 \\u003cb\\u003eDrift detected\\u003c\\u002fb\\u003e\\u003c\\u002fspan\\u003e\",\"[4250:4499]\",\"Chunk index: \\u003cb\\u003e17\\u003c\\u002fb\\u003e\",0.2436],[\"Wasserstein distance for \\u003cb\\u003ecarat\\u003c\\u002fb\\u003e\",\"\\u003cb style=\\\"color:Colors.BLUE_SKY_CRAYOLA;line-height:60px\\\"\\u003eAnalysis\\u003c\\u002fb\\u003e\",\"\\u003cspan style=\\\"color:#AD0000\\\"\\u003e\\u26a0 \\u003cb\\u003eDrift detected\\u003c\\u002fb\\u003e\\u003c\\u002fspan\\u003e\",\"[4500:4749]\",\"Chunk index: \\u003cb\\u003e18\\u003c\\u002fb\\u003e\",0.2679],[\"Wasserstein distance for \\u003cb\\u003ecarat\\u003c\\u002fb\\u003e\",\"\\u003cb style=\\\"color:Colors.BLUE_SKY_CRAYOLA;line-height:60px\\\"\\u003eAnalysis\\u003c\\u002fb\\u003e\",\"\\u003cspan style=\\\"color:#AD0000\\\"\\u003e\\u26a0 \\u003cb\\u003eDrift detected\\u003c\\u002fb\\u003e\\u003c\\u002fspan\\u003e\",\"[4750:4999]\",\"Chunk index: \\u003cb\\u003e19\\u003c\\u002fb\\u003e\",0.22],[\"Wasserstein distance for \\u003cb\\u003ecarat\\u003c\\u002fb\\u003e\",\"\\u003cb style=\\\"color:Colors.BLUE_SKY_CRAYOLA;line-height:60px\\\"\\u003eAnalysis\\u003c\\u002fb\\u003e\",\"\\u003cspan style=\\\"color:#AD0000\\\"\\u003e\\u26a0 \\u003cb\\u003eDrift detected\\u003c\\u002fb\\u003e\\u003c\\u002fspan\\u003e\",\"[5000:5393]\",\"Chunk index: \\u003cb\\u003e20\\u003c\\u002fb\\u003e\",0.2581]],\"hovertemplate\":\"%{customdata[1]} &nbsp; &nbsp; %{customdata[2]} \\u003cbr \\u002f\\u003eChunk: \\u003cb\\u003e%{customdata[3]}\\u003c\\u002fb\\u003e &nbsp; &nbsp; %{customdata[4]} \\u003cbr \\u002f\\u003e%{customdata[0]}: \\u003cb\\u003e%{customdata[5]}\\u003c\\u002fb\\u003e\\u003cb r \\u002f\\u003e\\u003cextra\\u003e\\u003c\\u002fextra\\u003e\",\"legendgroup\":\"metric_analysis\",\"marker\":{\"color\":\"#00c8e5\",\"size\":5,\"symbol\":\"circle\"},\"mode\":\"markers\",\"name\":\"Method\",\"showlegend\":false,\"x\":[21.5,22.5,23.5,24.5,25.5,26.5,27.5,28.5,29.5,30.5,31.5,32.5,33.5,34.5,35.5,36.5,37.5,38.5,39.5,40.5,41.5],\"y\":[0.03047417130144606,0.2141147126436782,0.21681779013718952,0.26323450945494997,0.27700866740823143,0.29034671264367823,0.21702199184278836,0.1886347126436782,0.2589907126436782,0.2066295884315907,0.20857286911383022,0.18634671264367822,0.1976307126436782,0.19957511457174645,0.3031387126436782,0.2816107126436782,0.3120307126436782,0.24359871264367822,0.2678914304783093,0.22003594809047095,0.25812502423260286,0.25812502423260286],\"type\":\"scatter\",\"xaxis\":\"x\",\"yaxis\":\"y\"},{\"hoverinfo\":\"skip\",\"legendgroup\":\"alert\",\"marker\":{\"color\":\"#DD4040\",\"size\":8,\"symbol\":\"diamond\"},\"mode\":\"markers\",\"name\":\"Alert\",\"showlegend\":true,\"x\":[22.5,23.5,24.5,25.5,26.5,27.5,28.5,29.5,30.5,31.5,32.5,33.5,34.5,35.5,36.5,37.5,38.5,39.5,40.5,41.5],\"y\":[0.2141147126436782,0.21681779013718952,0.26323450945494997,0.27700866740823143,0.29034671264367823,0.21702199184278836,0.1886347126436782,0.2589907126436782,0.2066295884315907,0.20857286911383022,0.18634671264367822,0.1976307126436782,0.19957511457174645,0.3031387126436782,0.2816107126436782,0.3120307126436782,0.24359871264367822,0.2678914304783093,0.22003594809047095,0.25812502423260286],\"type\":\"scatter\",\"xaxis\":\"x\",\"yaxis\":\"y\"},{\"hoverinfo\":\"skip\",\"legendgroup\":\"thresh\",\"line\":{\"color\":\"#DD4040\",\"dash\":\"dash\",\"width\":2},\"mode\":\"lines\",\"name\":\"Threshold\",\"showlegend\":true,\"x\":[0,1,2,3,4,5,6,7,8,9,10,11,12,13,14,15,16,17,18,19,20,21],\"y\":[0.06555990134563702,0.06555990134563702,0.06555990134563702,0.06555990134563702,0.06555990134563702,0.06555990134563702,0.06555990134563702,0.06555990134563702,0.06555990134563702,0.06555990134563702,0.06555990134563702,0.06555990134563702,0.06555990134563702,0.06555990134563702,0.06555990134563702,0.06555990134563702,0.06555990134563702,0.06555990134563702,0.06555990134563702,0.06555990134563702,0.06555990134563702,0.06555990134563702],\"type\":\"scatter\",\"xaxis\":\"x\",\"yaxis\":\"y\"},{\"hoverinfo\":\"skip\",\"legendgroup\":\"thresh\",\"line\":{\"color\":\"#DD4040\",\"dash\":\"dash\",\"width\":2},\"mode\":\"lines\",\"name\":\"Threshold\",\"showlegend\":false,\"x\":[21,22,23,24,25,26,27,28,29,30,31,32,33,34,35,36,37,38,39,40,41,42],\"y\":[0.06555990134563702,0.06555990134563702,0.06555990134563702,0.06555990134563702,0.06555990134563702,0.06555990134563702,0.06555990134563702,0.06555990134563702,0.06555990134563702,0.06555990134563702,0.06555990134563702,0.06555990134563702,0.06555990134563702,0.06555990134563702,0.06555990134563702,0.06555990134563702,0.06555990134563702,0.06555990134563702,0.06555990134563702,0.06555990134563702,0.06555990134563702,0.06555990134563702],\"type\":\"scatter\",\"xaxis\":\"x\",\"yaxis\":\"y\"}],                        {\"height\":500.0,\"hoverlabel\":{\"bgcolor\":\"white\",\"font\":{\"size\":14}},\"legend\":{\"itemclick\":false,\"itemdoubleclick\":false,\"traceorder\":\"grouped\"},\"paper_bgcolor\":\"rgba(255,255,255,1)\",\"plot_bgcolor\":\"rgba(255,255,255,1)\",\"title\":{\"text\":\"Univariate drift metrics\"},\"xaxis\":{\"linecolor\":\"#3b0280\",\"mirror\":true,\"showgrid\":false,\"title\":{\"text\":\"Chunk\"},\"zeroline\":false,\"anchor\":\"y\",\"domain\":[0.0,1.0],\"matches\":\"x\"},\"yaxis\":{\"linecolor\":\"#3b0280\",\"mirror\":true,\"showgrid\":false,\"title\":{\"text\":\"Wasserstein distance\"},\"zeroline\":false,\"anchor\":\"x\",\"domain\":[0.0,1.0]},\"template\":{\"data\":{\"histogram2dcontour\":[{\"type\":\"histogram2dcontour\",\"colorbar\":{\"outlinewidth\":0,\"ticks\":\"\"},\"colorscale\":[[0.0,\"#0d0887\"],[0.1111111111111111,\"#46039f\"],[0.2222222222222222,\"#7201a8\"],[0.3333333333333333,\"#9c179e\"],[0.4444444444444444,\"#bd3786\"],[0.5555555555555556,\"#d8576b\"],[0.6666666666666666,\"#ed7953\"],[0.7777777777777778,\"#fb9f3a\"],[0.8888888888888888,\"#fdca26\"],[1.0,\"#f0f921\"]]}],\"choropleth\":[{\"type\":\"choropleth\",\"colorbar\":{\"outlinewidth\":0,\"ticks\":\"\"}}],\"histogram2d\":[{\"type\":\"histogram2d\",\"colorbar\":{\"outlinewidth\":0,\"ticks\":\"\"},\"colorscale\":[[0.0,\"#0d0887\"],[0.1111111111111111,\"#46039f\"],[0.2222222222222222,\"#7201a8\"],[0.3333333333333333,\"#9c179e\"],[0.4444444444444444,\"#bd3786\"],[0.5555555555555556,\"#d8576b\"],[0.6666666666666666,\"#ed7953\"],[0.7777777777777778,\"#fb9f3a\"],[0.8888888888888888,\"#fdca26\"],[1.0,\"#f0f921\"]]}],\"heatmap\":[{\"type\":\"heatmap\",\"colorbar\":{\"outlinewidth\":0,\"ticks\":\"\"},\"colorscale\":[[0.0,\"#0d0887\"],[0.1111111111111111,\"#46039f\"],[0.2222222222222222,\"#7201a8\"],[0.3333333333333333,\"#9c179e\"],[0.4444444444444444,\"#bd3786\"],[0.5555555555555556,\"#d8576b\"],[0.6666666666666666,\"#ed7953\"],[0.7777777777777778,\"#fb9f3a\"],[0.8888888888888888,\"#fdca26\"],[1.0,\"#f0f921\"]]}],\"heatmapgl\":[{\"type\":\"heatmapgl\",\"colorbar\":{\"outlinewidth\":0,\"ticks\":\"\"},\"colorscale\":[[0.0,\"#0d0887\"],[0.1111111111111111,\"#46039f\"],[0.2222222222222222,\"#7201a8\"],[0.3333333333333333,\"#9c179e\"],[0.4444444444444444,\"#bd3786\"],[0.5555555555555556,\"#d8576b\"],[0.6666666666666666,\"#ed7953\"],[0.7777777777777778,\"#fb9f3a\"],[0.8888888888888888,\"#fdca26\"],[1.0,\"#f0f921\"]]}],\"contourcarpet\":[{\"type\":\"contourcarpet\",\"colorbar\":{\"outlinewidth\":0,\"ticks\":\"\"}}],\"contour\":[{\"type\":\"contour\",\"colorbar\":{\"outlinewidth\":0,\"ticks\":\"\"},\"colorscale\":[[0.0,\"#0d0887\"],[0.1111111111111111,\"#46039f\"],[0.2222222222222222,\"#7201a8\"],[0.3333333333333333,\"#9c179e\"],[0.4444444444444444,\"#bd3786\"],[0.5555555555555556,\"#d8576b\"],[0.6666666666666666,\"#ed7953\"],[0.7777777777777778,\"#fb9f3a\"],[0.8888888888888888,\"#fdca26\"],[1.0,\"#f0f921\"]]}],\"surface\":[{\"type\":\"surface\",\"colorbar\":{\"outlinewidth\":0,\"ticks\":\"\"},\"colorscale\":[[0.0,\"#0d0887\"],[0.1111111111111111,\"#46039f\"],[0.2222222222222222,\"#7201a8\"],[0.3333333333333333,\"#9c179e\"],[0.4444444444444444,\"#bd3786\"],[0.5555555555555556,\"#d8576b\"],[0.6666666666666666,\"#ed7953\"],[0.7777777777777778,\"#fb9f3a\"],[0.8888888888888888,\"#fdca26\"],[1.0,\"#f0f921\"]]}],\"mesh3d\":[{\"type\":\"mesh3d\",\"colorbar\":{\"outlinewidth\":0,\"ticks\":\"\"}}],\"scatter\":[{\"fillpattern\":{\"fillmode\":\"overlay\",\"size\":10,\"solidity\":0.2},\"type\":\"scatter\"}],\"parcoords\":[{\"type\":\"parcoords\",\"line\":{\"colorbar\":{\"outlinewidth\":0,\"ticks\":\"\"}}}],\"scatterpolargl\":[{\"type\":\"scatterpolargl\",\"marker\":{\"colorbar\":{\"outlinewidth\":0,\"ticks\":\"\"}}}],\"bar\":[{\"error_x\":{\"color\":\"#2a3f5f\"},\"error_y\":{\"color\":\"#2a3f5f\"},\"marker\":{\"line\":{\"color\":\"#E5ECF6\",\"width\":0.5},\"pattern\":{\"fillmode\":\"overlay\",\"size\":10,\"solidity\":0.2}},\"type\":\"bar\"}],\"scattergeo\":[{\"type\":\"scattergeo\",\"marker\":{\"colorbar\":{\"outlinewidth\":0,\"ticks\":\"\"}}}],\"scatterpolar\":[{\"type\":\"scatterpolar\",\"marker\":{\"colorbar\":{\"outlinewidth\":0,\"ticks\":\"\"}}}],\"histogram\":[{\"marker\":{\"pattern\":{\"fillmode\":\"overlay\",\"size\":10,\"solidity\":0.2}},\"type\":\"histogram\"}],\"scattergl\":[{\"type\":\"scattergl\",\"marker\":{\"colorbar\":{\"outlinewidth\":0,\"ticks\":\"\"}}}],\"scatter3d\":[{\"type\":\"scatter3d\",\"line\":{\"colorbar\":{\"outlinewidth\":0,\"ticks\":\"\"}},\"marker\":{\"colorbar\":{\"outlinewidth\":0,\"ticks\":\"\"}}}],\"scattermapbox\":[{\"type\":\"scattermapbox\",\"marker\":{\"colorbar\":{\"outlinewidth\":0,\"ticks\":\"\"}}}],\"scatterternary\":[{\"type\":\"scatterternary\",\"marker\":{\"colorbar\":{\"outlinewidth\":0,\"ticks\":\"\"}}}],\"scattercarpet\":[{\"type\":\"scattercarpet\",\"marker\":{\"colorbar\":{\"outlinewidth\":0,\"ticks\":\"\"}}}],\"carpet\":[{\"aaxis\":{\"endlinecolor\":\"#2a3f5f\",\"gridcolor\":\"white\",\"linecolor\":\"white\",\"minorgridcolor\":\"white\",\"startlinecolor\":\"#2a3f5f\"},\"baxis\":{\"endlinecolor\":\"#2a3f5f\",\"gridcolor\":\"white\",\"linecolor\":\"white\",\"minorgridcolor\":\"white\",\"startlinecolor\":\"#2a3f5f\"},\"type\":\"carpet\"}],\"table\":[{\"cells\":{\"fill\":{\"color\":\"#EBF0F8\"},\"line\":{\"color\":\"white\"}},\"header\":{\"fill\":{\"color\":\"#C8D4E3\"},\"line\":{\"color\":\"white\"}},\"type\":\"table\"}],\"barpolar\":[{\"marker\":{\"line\":{\"color\":\"#E5ECF6\",\"width\":0.5},\"pattern\":{\"fillmode\":\"overlay\",\"size\":10,\"solidity\":0.2}},\"type\":\"barpolar\"}],\"pie\":[{\"automargin\":true,\"type\":\"pie\"}]},\"layout\":{\"autotypenumbers\":\"strict\",\"colorway\":[\"#636efa\",\"#EF553B\",\"#00cc96\",\"#ab63fa\",\"#FFA15A\",\"#19d3f3\",\"#FF6692\",\"#B6E880\",\"#FF97FF\",\"#FECB52\"],\"font\":{\"color\":\"#2a3f5f\"},\"hovermode\":\"closest\",\"hoverlabel\":{\"align\":\"left\"},\"paper_bgcolor\":\"white\",\"plot_bgcolor\":\"#E5ECF6\",\"polar\":{\"bgcolor\":\"#E5ECF6\",\"angularaxis\":{\"gridcolor\":\"white\",\"linecolor\":\"white\",\"ticks\":\"\"},\"radialaxis\":{\"gridcolor\":\"white\",\"linecolor\":\"white\",\"ticks\":\"\"}},\"ternary\":{\"bgcolor\":\"#E5ECF6\",\"aaxis\":{\"gridcolor\":\"white\",\"linecolor\":\"white\",\"ticks\":\"\"},\"baxis\":{\"gridcolor\":\"white\",\"linecolor\":\"white\",\"ticks\":\"\"},\"caxis\":{\"gridcolor\":\"white\",\"linecolor\":\"white\",\"ticks\":\"\"}},\"coloraxis\":{\"colorbar\":{\"outlinewidth\":0,\"ticks\":\"\"}},\"colorscale\":{\"sequential\":[[0.0,\"#0d0887\"],[0.1111111111111111,\"#46039f\"],[0.2222222222222222,\"#7201a8\"],[0.3333333333333333,\"#9c179e\"],[0.4444444444444444,\"#bd3786\"],[0.5555555555555556,\"#d8576b\"],[0.6666666666666666,\"#ed7953\"],[0.7777777777777778,\"#fb9f3a\"],[0.8888888888888888,\"#fdca26\"],[1.0,\"#f0f921\"]],\"sequentialminus\":[[0.0,\"#0d0887\"],[0.1111111111111111,\"#46039f\"],[0.2222222222222222,\"#7201a8\"],[0.3333333333333333,\"#9c179e\"],[0.4444444444444444,\"#bd3786\"],[0.5555555555555556,\"#d8576b\"],[0.6666666666666666,\"#ed7953\"],[0.7777777777777778,\"#fb9f3a\"],[0.8888888888888888,\"#fdca26\"],[1.0,\"#f0f921\"]],\"diverging\":[[0,\"#8e0152\"],[0.1,\"#c51b7d\"],[0.2,\"#de77ae\"],[0.3,\"#f1b6da\"],[0.4,\"#fde0ef\"],[0.5,\"#f7f7f7\"],[0.6,\"#e6f5d0\"],[0.7,\"#b8e186\"],[0.8,\"#7fbc41\"],[0.9,\"#4d9221\"],[1,\"#276419\"]]},\"xaxis\":{\"gridcolor\":\"white\",\"linecolor\":\"white\",\"ticks\":\"\",\"title\":{\"standoff\":15},\"zerolinecolor\":\"white\",\"automargin\":true,\"zerolinewidth\":2},\"yaxis\":{\"gridcolor\":\"white\",\"linecolor\":\"white\",\"ticks\":\"\",\"title\":{\"standoff\":15},\"zerolinecolor\":\"white\",\"automargin\":true,\"zerolinewidth\":2},\"scene\":{\"xaxis\":{\"backgroundcolor\":\"#E5ECF6\",\"gridcolor\":\"white\",\"linecolor\":\"white\",\"showbackground\":true,\"ticks\":\"\",\"zerolinecolor\":\"white\",\"gridwidth\":2},\"yaxis\":{\"backgroundcolor\":\"#E5ECF6\",\"gridcolor\":\"white\",\"linecolor\":\"white\",\"showbackground\":true,\"ticks\":\"\",\"zerolinecolor\":\"white\",\"gridwidth\":2},\"zaxis\":{\"backgroundcolor\":\"#E5ECF6\",\"gridcolor\":\"white\",\"linecolor\":\"white\",\"showbackground\":true,\"ticks\":\"\",\"zerolinecolor\":\"white\",\"gridwidth\":2}},\"shapedefaults\":{\"line\":{\"color\":\"#2a3f5f\"}},\"annotationdefaults\":{\"arrowcolor\":\"#2a3f5f\",\"arrowhead\":0,\"arrowwidth\":1},\"geo\":{\"bgcolor\":\"white\",\"landcolor\":\"#E5ECF6\",\"subunitcolor\":\"white\",\"showland\":true,\"showlakes\":true,\"lakecolor\":\"white\"},\"title\":{\"x\":0.05},\"mapbox\":{\"style\":\"light\"}}},\"annotations\":[{\"font\":{\"size\":16},\"showarrow\":false,\"text\":\"Wasserstein distance for \\u003cb\\u003ecarat\\u003c\\u002fb\\u003e\",\"x\":0.5,\"xanchor\":\"center\",\"xref\":\"paper\",\"y\":1.0,\"yanchor\":\"bottom\",\"yref\":\"paper\"},{\"showarrow\":false,\"text\":\"Reference\",\"x\":10.0,\"xref\":\"x\",\"xshift\":10,\"y\":1.01,\"yref\":\"y domain\"},{\"showarrow\":false,\"text\":\"Analysis\",\"x\":31.0,\"xref\":\"x\",\"xshift\":15,\"y\":1.01,\"yref\":\"y domain\"}],\"shapes\":[{\"layer\":\"below\",\"line\":{\"color\":\"#666666\",\"width\":1},\"type\":\"line\",\"x0\":21,\"x1\":21,\"xref\":\"x\",\"y0\":0,\"y1\":1,\"yref\":\"y domain\"}]},                        {\"responsive\": true}                    ).then(function(){\n",
       "                            \n",
       "var gd = document.getElementById('ada16a1b-411e-4eab-adad-b6d9a023d8f8');\n",
       "var x = new MutationObserver(function (mutations, observer) {{\n",
       "        var display = window.getComputedStyle(gd).display;\n",
       "        if (!display || display === 'none') {{\n",
       "            console.log([gd, 'removed!']);\n",
       "            Plotly.purge(gd);\n",
       "            observer.disconnect();\n",
       "        }}\n",
       "}});\n",
       "\n",
       "// Listen for the removal of the full notebook cells\n",
       "var notebookContainer = gd.closest('#notebook-container');\n",
       "if (notebookContainer) {{\n",
       "    x.observe(notebookContainer, {childList: true});\n",
       "}}\n",
       "\n",
       "// Listen for the clearing of the current output cell\n",
       "var outputEl = gd.closest('.output');\n",
       "if (outputEl) {{\n",
       "    x.observe(outputEl, {childList: true});\n",
       "}}\n",
       "\n",
       "                        })                };                });            </script>        </div>"
      ]
     },
     "metadata": {},
     "output_type": "display_data"
    }
   ],
   "source": [
    "filtered_figure = univariate_results.filter(column_names=[\"carat\"])\n",
    "\n",
    "filtered_figure.plot().show()"
   ]
  },
  {
   "cell_type": "markdown",
   "id": "20c48380-086b-48e2-b7c3-04e3c2e1ab5a",
   "metadata": {},
   "source": [
    "### Using an alert count ranker"
   ]
  },
  {
   "cell_type": "code",
   "execution_count": 286,
   "id": "785f886b-dde9-42a7-be16-206e3ef0e0d6",
   "metadata": {},
   "outputs": [],
   "source": [
    "alert_count_ranker = nannyml.AlertCountRanker()\n",
    "filtered_univariate = univariate_results.filter(\n",
    "    continuous_methods=[\"wasserstein\"],\n",
    "    categorical_methods=[\"jensen_shannon\"],\n",
    "    only_drifting=False,\n",
    ")\n",
    "\n",
    "ranker_results = alert_count_ranker.rank(filtered_univariate)"
   ]
  },
  {
   "cell_type": "code",
   "execution_count": 289,
   "id": "9e9ef107-defb-474c-ba4b-1779a599ff93",
   "metadata": {},
   "outputs": [
    {
     "data": {
      "text/html": [
       "<div>\n",
       "<style scoped>\n",
       "    .dataframe tbody tr th:only-of-type {\n",
       "        vertical-align: middle;\n",
       "    }\n",
       "\n",
       "    .dataframe tbody tr th {\n",
       "        vertical-align: top;\n",
       "    }\n",
       "\n",
       "    .dataframe thead th {\n",
       "        text-align: right;\n",
       "    }\n",
       "</style>\n",
       "<table border=\"1\" class=\"dataframe\">\n",
       "  <thead>\n",
       "    <tr style=\"text-align: right;\">\n",
       "      <th></th>\n",
       "      <th>number_of_alerts</th>\n",
       "      <th>column_name</th>\n",
       "      <th>rank</th>\n",
       "    </tr>\n",
       "  </thead>\n",
       "  <tbody>\n",
       "    <tr>\n",
       "      <th>0</th>\n",
       "      <td>20</td>\n",
       "      <td>depth</td>\n",
       "      <td>1</td>\n",
       "    </tr>\n",
       "    <tr>\n",
       "      <th>1</th>\n",
       "      <td>20</td>\n",
       "      <td>cut</td>\n",
       "      <td>2</td>\n",
       "    </tr>\n",
       "    <tr>\n",
       "      <th>2</th>\n",
       "      <td>20</td>\n",
       "      <td>carat</td>\n",
       "      <td>3</td>\n",
       "    </tr>\n",
       "    <tr>\n",
       "      <th>3</th>\n",
       "      <td>5</td>\n",
       "      <td>clarity</td>\n",
       "      <td>4</td>\n",
       "    </tr>\n",
       "    <tr>\n",
       "      <th>4</th>\n",
       "      <td>2</td>\n",
       "      <td>color</td>\n",
       "      <td>5</td>\n",
       "    </tr>\n",
       "    <tr>\n",
       "      <th>5</th>\n",
       "      <td>0</td>\n",
       "      <td>z</td>\n",
       "      <td>6</td>\n",
       "    </tr>\n",
       "    <tr>\n",
       "      <th>6</th>\n",
       "      <td>0</td>\n",
       "      <td>y</td>\n",
       "      <td>7</td>\n",
       "    </tr>\n",
       "  </tbody>\n",
       "</table>\n",
       "</div>"
      ],
      "text/plain": [
       "   number_of_alerts column_name  rank\n",
       "0                20       depth     1\n",
       "1                20         cut     2\n",
       "2                20       carat     3\n",
       "3                 5     clarity     4\n",
       "4                 2       color     5\n",
       "5                 0           z     6\n",
       "6                 0           y     7"
      ]
     },
     "execution_count": 289,
     "metadata": {},
     "output_type": "execute_result"
    }
   ],
   "source": [
    "ranker_results.head(7)"
   ]
  }
 ],
 "metadata": {
  "kernelspec": {
   "display_name": "nannyml",
   "language": "python",
   "name": "nannyml"
  },
  "language_info": {
   "codemirror_mode": {
    "name": "ipython",
    "version": 3
   },
   "file_extension": ".py",
   "mimetype": "text/x-python",
   "name": "python",
   "nbconvert_exporter": "python",
   "pygments_lexer": "ipython3",
   "version": "3.11.7"
  },
  "widgets": {
   "application/vnd.jupyter.widget-state+json": {
    "state": {},
    "version_major": 2,
    "version_minor": 0
   }
  }
 },
 "nbformat": 4,
 "nbformat_minor": 5
}
