{
 "cells": [
  {
   "cell_type": "markdown",
   "id": "e39c52c6-6af9-4810-9fe6-ee7f673d69cb",
   "metadata": {},
   "source": [
    "### Importing the modules"
   ]
  },
  {
   "cell_type": "code",
   "execution_count": 1,
   "id": "a763ee98-bdff-4a4b-837b-276c568055c0",
   "metadata": {},
   "outputs": [],
   "source": [
    "import warnings\n",
    "\n",
    "import matplotlib.pyplot as plt\n",
    "import numpy as np\n",
    "import pandas as pd\n",
    "import seaborn as sns\n",
    "import xgboost as xgb\n",
    "from sklearn.model_selection import train_test_split\n",
    "from sklearn.preprocessing import OneHotEncoder\n",
    "\n",
    "warnings.filterwarnings(\"ignore\")"
   ]
  },
  {
   "cell_type": "markdown",
   "id": "8b3b9e9f-23b8-45c3-a323-f296eb15b446",
   "metadata": {},
   "source": [
    "### Preparing the data"
   ]
  },
  {
   "cell_type": "code",
   "execution_count": 43,
   "id": "98d8eb32-6c01-40f2-8b31-df1b7c8d1da7",
   "metadata": {},
   "outputs": [],
   "source": [
    "diamonds = sns.load_dataset(\"diamonds\")\n",
    "diamonds_preprocessed = diamonds.copy(deep=True)\n",
    "\n",
    "# Extract the columns and cast into category\n",
    "cats = diamonds.select_dtypes(exclude=np.number).columns\n",
    "for col in cats:\n",
    "    diamonds_preprocessed[col] = diamonds_preprocessed[col].astype(\"category\")"
   ]
  },
  {
   "cell_type": "markdown",
   "id": "4d9470c1-73bc-4e7a-abb0-45ec8355fedb",
   "metadata": {},
   "source": [
    "### Splitting the data into four sets"
   ]
  },
  {
   "cell_type": "code",
   "execution_count": 73,
   "id": "a31ba804-a2c9-4d05-9679-61821085eaa0",
   "metadata": {},
   "outputs": [],
   "source": [
    "def split_into_four(df, train_size=0.7, random_state=1):\n",
    "    \"\"\"\n",
    "    A function to split a dataset into four sets:\n",
    "    - Training\n",
    "    - Validation\n",
    "    - Testing\n",
    "    - Production\n",
    "    train_size is set by the user.\n",
    "    The remaining data will be equally divided between the three sets.\n",
    "    \"\"\"\n",
    "\n",
    "    training, the_rest = train_test_split(df, train_size=train_size, random_state=1)\n",
    "    validation, the_rest = train_test_split(the_rest, train_size=1 / 3, random_state=1)\n",
    "    testing, production = train_test_split(the_rest, train_size=0.5, random_state=1)\n",
    "\n",
    "    # Reset indices\n",
    "    sets = (training, validation, testing, production)\n",
    "    for set in sets:\n",
    "        set.reset_index(inplace=True, drop=True)\n",
    "\n",
    "    return sets\n",
    "\n",
    "\n",
    "tr, val, test, prod = split_into_four(diamonds_preprocessed)"
   ]
  },
  {
   "cell_type": "markdown",
   "id": "3310fc28-6097-4992-944b-95d877dcebd8",
   "metadata": {},
   "source": [
    "### Introduce artificial drifts"
   ]
  },
  {
   "cell_type": "code",
   "execution_count": 74,
   "id": "28ef0631-4612-4b2a-a472-1bd2fcb04163",
   "metadata": {},
   "outputs": [],
   "source": [
    "# Calculate the starting point for drift to affect 5-6 chunks of size 250\n",
    "chunk_size = 250\n",
    "num_chunks_drift = 5  # Adjust this to 6 if you want six chunks to drift\n",
    "start_index_for_drift = len(prod) - (chunk_size * num_chunks_drift)\n",
    "\n",
    "# Intensify drift in a numerical feature, 'depth'\n",
    "# Assuming an increase in 'depth' values can simulate realistic drift\n",
    "prod.loc[start_index_for_drift:, \"depth\"] *= 1.15  # Increasing depth by 15%\n",
    "\n",
    "# Introduce noticeable drift in a categorical feature, 'color'\n",
    "# Assuming 'color' has categories ['D', 'E', 'F', 'G', 'H', 'I', 'J']\n",
    "# We will artificially increase the frequency of lower quality colors 'I' and 'J' in the drifting chunks\n",
    "color_categories_to_increase = [\"I\", \"J\"]\n",
    "prod.loc[start_index_for_drift:, \"color\"] = np.where(\n",
    "    np.random.rand(len(prod) - start_index_for_drift)\n",
    "    < 0.3,  # 30% chance to change to 'I' or 'J'\n",
    "    np.random.choice(\n",
    "        color_categories_to_increase, size=len(prod) - start_index_for_drift\n",
    "    ),\n",
    "    prod.loc[start_index_for_drift:, \"color\"],\n",
    ")\n",
    "\n",
    "# This modification increases the intensity of drift for both a numerical and a categorical feature,\n",
    "# aiming to make the drift more detectable in analysis. Adjusting the percentage increase and the\n",
    "# selection chance allows for control over the drift's visibility in your NannyML analysis."
   ]
  },
  {
   "cell_type": "code",
   "execution_count": 75,
   "id": "c08b5f40-b3a2-4594-874c-f6c1a44951ac",
   "metadata": {},
   "outputs": [],
   "source": [
    "to_concat = [tr, val, test, prod]\n",
    "set_name = [\"train\", \"val\", \"test\", \"prod\"]\n",
    "\n",
    "for df, label in zip(to_concat, set_name):\n",
    "    df[\"set\"] = label"
   ]
  },
  {
   "cell_type": "code",
   "execution_count": 76,
   "id": "70bd9093-0bd1-4985-891b-5fb3b30ad76e",
   "metadata": {},
   "outputs": [],
   "source": [
    "final_df = pd.concat(to_concat)"
   ]
  },
  {
   "cell_type": "code",
   "execution_count": 77,
   "id": "e8e2e115-0149-41a4-8a01-b7a10a50e5db",
   "metadata": {},
   "outputs": [],
   "source": [
    "final_df.to_csv(\"diamonds_special.csv\", index=False)"
   ]
  },
  {
   "cell_type": "markdown",
   "id": "9033e58a-df36-44db-8b02-f264e6f6fc42",
   "metadata": {},
   "source": [
    "### Defining features and target"
   ]
  },
  {
   "cell_type": "code",
   "execution_count": 78,
   "id": "4bdd47f7-8f5a-45d0-8137-0c65f253cd23",
   "metadata": {},
   "outputs": [],
   "source": [
    "all_feature_names = diamonds_preprocessed.drop(\"price\", axis=1).columns.tolist()\n",
    "numeric_feature_names = diamonds_preprocessed.select_dtypes(include=np.number).columns\n",
    "numeric_feature_names = numeric_feature_names.tolist()\n",
    "\n",
    "target = \"price\""
   ]
  },
  {
   "cell_type": "markdown",
   "id": "20f0ef20-2121-4688-bcac-bdb69a186db7",
   "metadata": {},
   "source": [
    "### Building a model"
   ]
  },
  {
   "cell_type": "code",
   "execution_count": 79,
   "id": "71748d9c-af29-4b82-84d7-7abb83a017fb",
   "metadata": {},
   "outputs": [],
   "source": [
    "# Define the DMatrix for training and validation\n",
    "dtrain = xgb.DMatrix(tr[all_feature_names], label=tr[target], enable_categorical=True)\n",
    "dval = xgb.DMatrix(val[all_feature_names], label=val[target], enable_categorical=True)"
   ]
  },
  {
   "cell_type": "code",
   "execution_count": 80,
   "id": "08d3af2d-de0e-4df6-85a0-fac9b3c7446e",
   "metadata": {},
   "outputs": [
    {
     "name": "stdout",
     "output_type": "stream",
     "text": [
      "[0]\ttrain-rmse:3638.77217\teval-rmse:3581.88180\n",
      "[178]\ttrain-rmse:398.70234\teval-rmse:526.31089\n"
     ]
    }
   ],
   "source": [
    "# Define optimized parameters\n",
    "params = {\n",
    "    \"n_estimators\": 10000,\n",
    "    \"learning_rate\": 0.1,\n",
    "    \"tree_method\": \"gpu_hist\",\n",
    "    \"max_depth\": 6,\n",
    "    \"min_child_weight\": 1,\n",
    "    \"gamma\": 0,\n",
    "    \"subsample\": 0.8,\n",
    "    \"colsample_bytree\": 0.8,\n",
    "    \"objective\": \"reg:squarederror\",\n",
    "    \"reg_alpha\": 0.01,\n",
    "    \"reg_lambda\": 1,\n",
    "}\n",
    "\n",
    "# Training with early stopping\n",
    "regressor = xgb.train(\n",
    "    params,\n",
    "    dtrain,\n",
    "    num_boost_round=10000,\n",
    "    evals=[(dtrain, \"train\"), (dval, \"eval\")],\n",
    "    early_stopping_rounds=50,\n",
    "    verbose_eval=500,\n",
    ")"
   ]
  },
  {
   "cell_type": "code",
   "execution_count": 81,
   "id": "35975e19-1cee-4d6c-978f-98847501f304",
   "metadata": {},
   "outputs": [],
   "source": [
    "# Define the DMatrix for testing and production\n",
    "dtest = xgb.DMatrix(\n",
    "    test[all_feature_names], label=test[target], enable_categorical=True\n",
    ")\n",
    "dprod = xgb.DMatrix(\n",
    "    prod[all_feature_names], label=prod[target], enable_categorical=True\n",
    ")"
   ]
  },
  {
   "cell_type": "code",
   "execution_count": 82,
   "id": "de04a341-b004-4f37-bf6d-f33e451b52c9",
   "metadata": {},
   "outputs": [
    {
     "data": {
      "text/plain": [
       "526.5131946801148"
      ]
     },
     "execution_count": 82,
     "metadata": {},
     "output_type": "execute_result"
    }
   ],
   "source": [
    "from sklearn.metrics import mean_squared_error\n",
    "\n",
    "# Predict on the test set\n",
    "y_test_pred = regressor.predict(dtest)\n",
    "\n",
    "# Evaluate\n",
    "mean_squared_error(test[target], y_test_pred, squared=False)"
   ]
  },
  {
   "cell_type": "markdown",
   "id": "b44effeb-60da-45c0-ad1c-4cdff5f8359e",
   "metadata": {},
   "source": [
    "### Creating a reference set"
   ]
  },
  {
   "cell_type": "code",
   "execution_count": 83,
   "id": "0c219f36-e9ce-4118-afdf-b2814a4838e8",
   "metadata": {},
   "outputs": [
    {
     "data": {
      "text/html": [
       "<div>\n",
       "<style scoped>\n",
       "    .dataframe tbody tr th:only-of-type {\n",
       "        vertical-align: middle;\n",
       "    }\n",
       "\n",
       "    .dataframe tbody tr th {\n",
       "        vertical-align: top;\n",
       "    }\n",
       "\n",
       "    .dataframe thead th {\n",
       "        text-align: right;\n",
       "    }\n",
       "</style>\n",
       "<table border=\"1\" class=\"dataframe\">\n",
       "  <thead>\n",
       "    <tr style=\"text-align: right;\">\n",
       "      <th></th>\n",
       "      <th>price</th>\n",
       "      <th>y_pred</th>\n",
       "    </tr>\n",
       "  </thead>\n",
       "  <tbody>\n",
       "    <tr>\n",
       "      <th>0</th>\n",
       "      <td>1388</td>\n",
       "      <td>1481.901367</td>\n",
       "    </tr>\n",
       "    <tr>\n",
       "      <th>1</th>\n",
       "      <td>1832</td>\n",
       "      <td>2088.636719</td>\n",
       "    </tr>\n",
       "    <tr>\n",
       "      <th>2</th>\n",
       "      <td>8060</td>\n",
       "      <td>7833.992676</td>\n",
       "    </tr>\n",
       "    <tr>\n",
       "      <th>3</th>\n",
       "      <td>1808</td>\n",
       "      <td>1824.474609</td>\n",
       "    </tr>\n",
       "    <tr>\n",
       "      <th>4</th>\n",
       "      <td>2111</td>\n",
       "      <td>2018.656372</td>\n",
       "    </tr>\n",
       "  </tbody>\n",
       "</table>\n",
       "</div>"
      ],
      "text/plain": [
       "   price       y_pred\n",
       "0   1388  1481.901367\n",
       "1   1832  2088.636719\n",
       "2   8060  7833.992676\n",
       "3   1808  1824.474609\n",
       "4   2111  2018.656372"
      ]
     },
     "execution_count": 83,
     "metadata": {},
     "output_type": "execute_result"
    }
   ],
   "source": [
    "reference = test.copy()\n",
    "reference[\"y_pred\"] = y_test_pred\n",
    "\n",
    "reference[[\"price\", \"y_pred\"]].head()"
   ]
  },
  {
   "cell_type": "markdown",
   "id": "2968e3cf-8ef9-4d60-8fd6-12114ee7257e",
   "metadata": {},
   "source": [
    "### Creating an analysis set"
   ]
  },
  {
   "cell_type": "code",
   "execution_count": 84,
   "id": "a34d7c67-2958-472a-ad39-a4b18b62f7c2",
   "metadata": {},
   "outputs": [
    {
     "data": {
      "text/html": [
       "<div>\n",
       "<style scoped>\n",
       "    .dataframe tbody tr th:only-of-type {\n",
       "        vertical-align: middle;\n",
       "    }\n",
       "\n",
       "    .dataframe tbody tr th {\n",
       "        vertical-align: top;\n",
       "    }\n",
       "\n",
       "    .dataframe thead th {\n",
       "        text-align: right;\n",
       "    }\n",
       "</style>\n",
       "<table border=\"1\" class=\"dataframe\">\n",
       "  <thead>\n",
       "    <tr style=\"text-align: right;\">\n",
       "      <th></th>\n",
       "      <th>price</th>\n",
       "      <th>y_pred</th>\n",
       "    </tr>\n",
       "  </thead>\n",
       "  <tbody>\n",
       "    <tr>\n",
       "      <th>0</th>\n",
       "      <td>687</td>\n",
       "      <td>753.692139</td>\n",
       "    </tr>\n",
       "    <tr>\n",
       "      <th>1</th>\n",
       "      <td>3823</td>\n",
       "      <td>3745.957031</td>\n",
       "    </tr>\n",
       "    <tr>\n",
       "      <th>2</th>\n",
       "      <td>544</td>\n",
       "      <td>583.499023</td>\n",
       "    </tr>\n",
       "    <tr>\n",
       "      <th>3</th>\n",
       "      <td>544</td>\n",
       "      <td>556.340576</td>\n",
       "    </tr>\n",
       "    <tr>\n",
       "      <th>4</th>\n",
       "      <td>1948</td>\n",
       "      <td>1981.163696</td>\n",
       "    </tr>\n",
       "  </tbody>\n",
       "</table>\n",
       "</div>"
      ],
      "text/plain": [
       "   price       y_pred\n",
       "0    687   753.692139\n",
       "1   3823  3745.957031\n",
       "2    544   583.499023\n",
       "3    544   556.340576\n",
       "4   1948  1981.163696"
      ]
     },
     "execution_count": 84,
     "metadata": {},
     "output_type": "execute_result"
    }
   ],
   "source": [
    "# Deploy the model\n",
    "y_prod_pred = regressor.predict(dprod)\n",
    "\n",
    "analysis = prod.copy()\n",
    "analysis[\"y_pred\"] = y_prod_pred\n",
    "\n",
    "analysis[[\"price\", \"y_pred\"]].head()"
   ]
  },
  {
   "cell_type": "markdown",
   "id": "9da108ae-08c8-42f9-b080-c7fc39201885",
   "metadata": {},
   "source": [
    "### Estimating performance with DLE"
   ]
  },
  {
   "cell_type": "code",
   "execution_count": 85,
   "id": "15c34a85-ec7c-4f21-b2fc-af329a89a9e8",
   "metadata": {},
   "outputs": [],
   "source": [
    "import nannyml\n",
    "\n",
    "estimator = nannyml.DLE(\n",
    "    feature_column_names=all_feature_names,\n",
    "    y_true=target,\n",
    "    y_pred=\"y_pred\",\n",
    "    metrics=[\"rmse\"],\n",
    "    chunk_size=250,\n",
    ")"
   ]
  },
  {
   "cell_type": "code",
   "execution_count": 86,
   "id": "7e36272d-4911-4f92-9cd6-1e3259bb2a9a",
   "metadata": {},
   "outputs": [],
   "source": [
    "# Fit to the reference set\n",
    "estimator.fit(reference)\n",
    "\n",
    "# Estimate on the analysis set\n",
    "estimated_results = estimator.estimate(analysis)"
   ]
  },
  {
   "cell_type": "code",
   "execution_count": 87,
   "id": "d42adf25-f76b-4187-9134-1023b908f17b",
   "metadata": {},
   "outputs": [
    {
     "data": {
      "application/vnd.plotly.v1+json": {
       "config": {
        "plotlyServerURL": "https://plot.ly"
       },
       "data": [
        {
         "hoverinfo": "skip",
         "legendgroup": "metric_reference",
         "line": {
          "color": "#3b0280",
          "dash": "dash",
          "shape": "hv",
          "width": 2
         },
         "mode": "lines",
         "name": "Metric",
         "showlegend": true,
         "type": "scatter",
         "x": [
          0,
          1,
          2,
          3,
          4,
          5,
          6,
          7,
          8,
          9,
          10,
          11,
          12,
          13,
          14,
          15,
          16,
          17,
          18,
          19,
          20,
          21
         ],
         "xaxis": "x",
         "y": [
          567.595667298751,
          648.8944858473601,
          564.6811939878063,
          591.481303895541,
          428.16680632342224,
          485.67593674274764,
          496.849452288195,
          487.8186980891766,
          562.3019021714772,
          514.3396979592592,
          507.206860180168,
          521.999760693339,
          522.9920312083227,
          498.0095455791483,
          464.9452828852687,
          521.8626019502906,
          646.1655729717955,
          501.76268332016815,
          543.0416670453261,
          604.9343558633868,
          446.0060233992042,
          446.0060233992042
         ],
         "yaxis": "y"
        },
        {
         "customdata": [
          [
           "Estimated <b>RMSE</b>",
           "<b style=\"color:Colors.INDIGO_PERSIAN;line-height:60px\">Reference</b>",
           "",
           "[0:249]",
           "Chunk index: <b>0</b>",
           567.5957,
           298.073
          ],
          [
           "Estimated <b>RMSE</b>",
           "<b style=\"color:Colors.INDIGO_PERSIAN;line-height:60px\">Reference</b>",
           "",
           "[250:499]",
           "Chunk index: <b>1</b>",
           648.8945,
           298.073
          ],
          [
           "Estimated <b>RMSE</b>",
           "<b style=\"color:Colors.INDIGO_PERSIAN;line-height:60px\">Reference</b>",
           "",
           "[500:749]",
           "Chunk index: <b>2</b>",
           564.6812,
           298.073
          ],
          [
           "Estimated <b>RMSE</b>",
           "<b style=\"color:Colors.INDIGO_PERSIAN;line-height:60px\">Reference</b>",
           "",
           "[750:999]",
           "Chunk index: <b>3</b>",
           591.4813,
           298.073
          ],
          [
           "Estimated <b>RMSE</b>",
           "<b style=\"color:Colors.INDIGO_PERSIAN;line-height:60px\">Reference</b>",
           "",
           "[1000:1249]",
           "Chunk index: <b>4</b>",
           428.1668,
           298.073
          ],
          [
           "Estimated <b>RMSE</b>",
           "<b style=\"color:Colors.INDIGO_PERSIAN;line-height:60px\">Reference</b>",
           "",
           "[1250:1499]",
           "Chunk index: <b>5</b>",
           485.6759,
           298.073
          ],
          [
           "Estimated <b>RMSE</b>",
           "<b style=\"color:Colors.INDIGO_PERSIAN;line-height:60px\">Reference</b>",
           "",
           "[1500:1749]",
           "Chunk index: <b>6</b>",
           496.8495,
           298.073
          ],
          [
           "Estimated <b>RMSE</b>",
           "<b style=\"color:Colors.INDIGO_PERSIAN;line-height:60px\">Reference</b>",
           "",
           "[1750:1999]",
           "Chunk index: <b>7</b>",
           487.8187,
           298.073
          ],
          [
           "Estimated <b>RMSE</b>",
           "<b style=\"color:Colors.INDIGO_PERSIAN;line-height:60px\">Reference</b>",
           "",
           "[2000:2249]",
           "Chunk index: <b>8</b>",
           562.3019,
           298.073
          ],
          [
           "Estimated <b>RMSE</b>",
           "<b style=\"color:Colors.INDIGO_PERSIAN;line-height:60px\">Reference</b>",
           "",
           "[2250:2499]",
           "Chunk index: <b>9</b>",
           514.3397,
           298.073
          ],
          [
           "Estimated <b>RMSE</b>",
           "<b style=\"color:Colors.INDIGO_PERSIAN;line-height:60px\">Reference</b>",
           "",
           "[2500:2749]",
           "Chunk index: <b>10</b>",
           507.2069,
           298.073
          ],
          [
           "Estimated <b>RMSE</b>",
           "<b style=\"color:Colors.INDIGO_PERSIAN;line-height:60px\">Reference</b>",
           "",
           "[2750:2999]",
           "Chunk index: <b>11</b>",
           521.9998,
           298.073
          ],
          [
           "Estimated <b>RMSE</b>",
           "<b style=\"color:Colors.INDIGO_PERSIAN;line-height:60px\">Reference</b>",
           "",
           "[3000:3249]",
           "Chunk index: <b>12</b>",
           522.992,
           298.073
          ],
          [
           "Estimated <b>RMSE</b>",
           "<b style=\"color:Colors.INDIGO_PERSIAN;line-height:60px\">Reference</b>",
           "",
           "[3250:3499]",
           "Chunk index: <b>13</b>",
           498.0095,
           298.073
          ],
          [
           "Estimated <b>RMSE</b>",
           "<b style=\"color:Colors.INDIGO_PERSIAN;line-height:60px\">Reference</b>",
           "",
           "[3500:3749]",
           "Chunk index: <b>14</b>",
           464.9453,
           298.073
          ],
          [
           "Estimated <b>RMSE</b>",
           "<b style=\"color:Colors.INDIGO_PERSIAN;line-height:60px\">Reference</b>",
           "",
           "[3750:3999]",
           "Chunk index: <b>15</b>",
           521.8626,
           298.073
          ],
          [
           "Estimated <b>RMSE</b>",
           "<b style=\"color:Colors.INDIGO_PERSIAN;line-height:60px\">Reference</b>",
           "",
           "[4000:4249]",
           "Chunk index: <b>16</b>",
           646.1656,
           298.073
          ],
          [
           "Estimated <b>RMSE</b>",
           "<b style=\"color:Colors.INDIGO_PERSIAN;line-height:60px\">Reference</b>",
           "",
           "[4250:4499]",
           "Chunk index: <b>17</b>",
           501.7627,
           298.073
          ],
          [
           "Estimated <b>RMSE</b>",
           "<b style=\"color:Colors.INDIGO_PERSIAN;line-height:60px\">Reference</b>",
           "",
           "[4500:4749]",
           "Chunk index: <b>18</b>",
           543.0417,
           298.073
          ],
          [
           "Estimated <b>RMSE</b>",
           "<b style=\"color:Colors.INDIGO_PERSIAN;line-height:60px\">Reference</b>",
           "",
           "[4750:4999]",
           "Chunk index: <b>19</b>",
           604.9344,
           298.073
          ],
          [
           "Estimated <b>RMSE</b>",
           "<b style=\"color:Colors.INDIGO_PERSIAN;line-height:60px\">Reference</b>",
           "",
           "[5000:5393]",
           "Chunk index: <b>20</b>",
           446.006,
           237.4349
          ]
         ],
         "hovertemplate": "%{customdata[1]} &nbsp; &nbsp; %{customdata[2]} <br />Chunk: <b>%{customdata[3]}</b> &nbsp; &nbsp; %{customdata[4]} <br />%{customdata[0]}: <b>%{customdata[5]}</b><br />Confidence band: +/- <b>%{customdata[6]}</b><br /><extra></extra>",
         "legendgroup": "metric_reference",
         "line": {
          "dash": "dash"
         },
         "marker": {
          "color": "#3b0280",
          "size": 5,
          "symbol": "circle"
         },
         "mode": "markers",
         "name": "Metric",
         "showlegend": false,
         "type": "scatter",
         "x": [
          0.5,
          1.5,
          2.5,
          3.5,
          4.5,
          5.5,
          6.5,
          7.5,
          8.5,
          9.5,
          10.5,
          11.5,
          12.5,
          13.5,
          14.5,
          15.5,
          16.5,
          17.5,
          18.5,
          19.5,
          20.5
         ],
         "xaxis": "x",
         "y": [
          567.595667298751,
          648.8944858473601,
          564.6811939878063,
          591.481303895541,
          428.16680632342224,
          485.67593674274764,
          496.849452288195,
          487.8186980891766,
          562.3019021714772,
          514.3396979592592,
          507.206860180168,
          521.999760693339,
          522.9920312083227,
          498.0095455791483,
          464.9452828852687,
          521.8626019502906,
          646.1655729717955,
          501.76268332016815,
          543.0416670453261,
          604.9343558633868,
          446.0060233992042,
          446.0060233992042
         ],
         "yaxis": "y"
        },
        {
         "hoverinfo": "skip",
         "legendgroup": "metric_analysis",
         "line": {
          "color": "#3b0280",
          "dash": "dash",
          "shape": "hv",
          "width": 2
         },
         "mode": "lines",
         "name": "Metric",
         "showlegend": false,
         "type": "scatter",
         "x": [
          21,
          22,
          23,
          24,
          25,
          26,
          27,
          28,
          29,
          30,
          31,
          32,
          33,
          34,
          35,
          36,
          37,
          38,
          39,
          40,
          41,
          42
         ],
         "xaxis": "x",
         "y": [
          572.7086344479326,
          549.175604449882,
          482.59052581733823,
          555.0745629995473,
          592.3948950788712,
          610.6844084166105,
          473.57865024804926,
          471.00968854597573,
          553.0924620275355,
          509.1522661860589,
          589.1327761913707,
          514.1856389044622,
          456.54039570673825,
          517.0563777055689,
          563.3244311247107,
          573.8269126302447,
          931.6183277265753,
          1221.693240095721,
          1265.4212178922928,
          1209.2694009493498,
          1238.4277559549248,
          1238.4277559549248
         ],
         "yaxis": "y"
        },
        {
         "customdata": [
          [
           "Estimated <b>RMSE</b>",
           "<b style=\"color:Colors.INDIGO_PERSIAN;line-height:60px\">Analysis</b>",
           "",
           "[0:249]",
           "Chunk index: <b>0</b>",
           572.7086,
           298.073
          ],
          [
           "Estimated <b>RMSE</b>",
           "<b style=\"color:Colors.INDIGO_PERSIAN;line-height:60px\">Analysis</b>",
           "",
           "[250:499]",
           "Chunk index: <b>1</b>",
           549.1756,
           298.073
          ],
          [
           "Estimated <b>RMSE</b>",
           "<b style=\"color:Colors.INDIGO_PERSIAN;line-height:60px\">Analysis</b>",
           "",
           "[500:749]",
           "Chunk index: <b>2</b>",
           482.5905,
           298.073
          ],
          [
           "Estimated <b>RMSE</b>",
           "<b style=\"color:Colors.INDIGO_PERSIAN;line-height:60px\">Analysis</b>",
           "",
           "[750:999]",
           "Chunk index: <b>3</b>",
           555.0746,
           298.073
          ],
          [
           "Estimated <b>RMSE</b>",
           "<b style=\"color:Colors.INDIGO_PERSIAN;line-height:60px\">Analysis</b>",
           "",
           "[1000:1249]",
           "Chunk index: <b>4</b>",
           592.3949,
           298.073
          ],
          [
           "Estimated <b>RMSE</b>",
           "<b style=\"color:Colors.INDIGO_PERSIAN;line-height:60px\">Analysis</b>",
           "",
           "[1250:1499]",
           "Chunk index: <b>5</b>",
           610.6844,
           298.073
          ],
          [
           "Estimated <b>RMSE</b>",
           "<b style=\"color:Colors.INDIGO_PERSIAN;line-height:60px\">Analysis</b>",
           "",
           "[1500:1749]",
           "Chunk index: <b>6</b>",
           473.5787,
           298.073
          ],
          [
           "Estimated <b>RMSE</b>",
           "<b style=\"color:Colors.INDIGO_PERSIAN;line-height:60px\">Analysis</b>",
           "",
           "[1750:1999]",
           "Chunk index: <b>7</b>",
           471.0097,
           298.073
          ],
          [
           "Estimated <b>RMSE</b>",
           "<b style=\"color:Colors.INDIGO_PERSIAN;line-height:60px\">Analysis</b>",
           "",
           "[2000:2249]",
           "Chunk index: <b>8</b>",
           553.0925,
           298.073
          ],
          [
           "Estimated <b>RMSE</b>",
           "<b style=\"color:Colors.INDIGO_PERSIAN;line-height:60px\">Analysis</b>",
           "",
           "[2250:2499]",
           "Chunk index: <b>9</b>",
           509.1523,
           298.073
          ],
          [
           "Estimated <b>RMSE</b>",
           "<b style=\"color:Colors.INDIGO_PERSIAN;line-height:60px\">Analysis</b>",
           "",
           "[2500:2749]",
           "Chunk index: <b>10</b>",
           589.1328,
           298.073
          ],
          [
           "Estimated <b>RMSE</b>",
           "<b style=\"color:Colors.INDIGO_PERSIAN;line-height:60px\">Analysis</b>",
           "",
           "[2750:2999]",
           "Chunk index: <b>11</b>",
           514.1856,
           298.073
          ],
          [
           "Estimated <b>RMSE</b>",
           "<b style=\"color:Colors.INDIGO_PERSIAN;line-height:60px\">Analysis</b>",
           "",
           "[3000:3249]",
           "Chunk index: <b>12</b>",
           456.5404,
           298.073
          ],
          [
           "Estimated <b>RMSE</b>",
           "<b style=\"color:Colors.INDIGO_PERSIAN;line-height:60px\">Analysis</b>",
           "",
           "[3250:3499]",
           "Chunk index: <b>13</b>",
           517.0564,
           298.073
          ],
          [
           "Estimated <b>RMSE</b>",
           "<b style=\"color:Colors.INDIGO_PERSIAN;line-height:60px\">Analysis</b>",
           "",
           "[3500:3749]",
           "Chunk index: <b>14</b>",
           563.3244,
           298.073
          ],
          [
           "Estimated <b>RMSE</b>",
           "<b style=\"color:Colors.INDIGO_PERSIAN;line-height:60px\">Analysis</b>",
           "",
           "[3750:3999]",
           "Chunk index: <b>15</b>",
           573.8269,
           298.073
          ],
          [
           "Estimated <b>RMSE</b>",
           "<b style=\"color:Colors.INDIGO_PERSIAN;line-height:60px\">Analysis</b>",
           "<span style=\"color:#AD0000\">⚠ <b>Drift detected</b></span>",
           "[4000:4249]",
           "Chunk index: <b>16</b>",
           931.6183,
           298.073
          ],
          [
           "Estimated <b>RMSE</b>",
           "<b style=\"color:Colors.INDIGO_PERSIAN;line-height:60px\">Analysis</b>",
           "<span style=\"color:#AD0000\">⚠ <b>Drift detected</b></span>",
           "[4250:4499]",
           "Chunk index: <b>17</b>",
           1221.6932,
           298.073
          ],
          [
           "Estimated <b>RMSE</b>",
           "<b style=\"color:Colors.INDIGO_PERSIAN;line-height:60px\">Analysis</b>",
           "<span style=\"color:#AD0000\">⚠ <b>Drift detected</b></span>",
           "[4500:4749]",
           "Chunk index: <b>18</b>",
           1265.4212,
           298.073
          ],
          [
           "Estimated <b>RMSE</b>",
           "<b style=\"color:Colors.INDIGO_PERSIAN;line-height:60px\">Analysis</b>",
           "<span style=\"color:#AD0000\">⚠ <b>Drift detected</b></span>",
           "[4750:4999]",
           "Chunk index: <b>19</b>",
           1209.2694,
           298.073
          ],
          [
           "Estimated <b>RMSE</b>",
           "<b style=\"color:Colors.INDIGO_PERSIAN;line-height:60px\">Analysis</b>",
           "<span style=\"color:#AD0000\">⚠ <b>Drift detected</b></span>",
           "[5000:5393]",
           "Chunk index: <b>20</b>",
           1238.4278,
           237.4349
          ]
         ],
         "hovertemplate": "%{customdata[1]} &nbsp; &nbsp; %{customdata[2]} <br />Chunk: <b>%{customdata[3]}</b> &nbsp; &nbsp; %{customdata[4]} <br />%{customdata[0]}: <b>%{customdata[5]}</b><br />Confidence band: +/- <b>%{customdata[6]}</b><br /><extra></extra>",
         "legendgroup": "metric_analysis",
         "line": {
          "dash": "dash"
         },
         "marker": {
          "color": "#3b0280",
          "size": 5,
          "symbol": "circle"
         },
         "mode": "markers",
         "name": "Metric",
         "showlegend": false,
         "type": "scatter",
         "x": [
          21.5,
          22.5,
          23.5,
          24.5,
          25.5,
          26.5,
          27.5,
          28.5,
          29.5,
          30.5,
          31.5,
          32.5,
          33.5,
          34.5,
          35.5,
          36.5,
          37.5,
          38.5,
          39.5,
          40.5,
          41.5
         ],
         "xaxis": "x",
         "y": [
          572.7086344479326,
          549.175604449882,
          482.59052581733823,
          555.0745629995473,
          592.3948950788712,
          610.6844084166105,
          473.57865024804926,
          471.00968854597573,
          553.0924620275355,
          509.1522661860589,
          589.1327761913707,
          514.1856389044622,
          456.54039570673825,
          517.0563777055689,
          563.3244311247107,
          573.8269126302447,
          931.6183277265753,
          1221.693240095721,
          1265.4212178922928,
          1209.2694009493498,
          1238.4277559549248,
          1238.4277559549248
         ],
         "yaxis": "y"
        },
        {
         "hoverinfo": "skip",
         "legendgroup": "alert",
         "marker": {
          "color": "#DD4040",
          "size": 8,
          "symbol": "diamond"
         },
         "mode": "markers",
         "name": "Alert",
         "showlegend": true,
         "type": "scatter",
         "x": [
          37.5,
          38.5,
          39.5,
          40.5,
          41.5
         ],
         "xaxis": "x",
         "y": [
          931.6183277265753,
          1221.693240095721,
          1265.4212178922928,
          1209.2694009493498,
          1238.4277559549248
         ],
         "yaxis": "y"
        },
        {
         "hoverinfo": "skip",
         "legendgroup": "thresh",
         "line": {
          "color": "#DD4040",
          "dash": "dash",
          "width": 2
         },
         "mode": "lines",
         "name": "Threshold",
         "showlegend": true,
         "type": "scatter",
         "x": [
          0,
          1,
          2,
          3,
          4,
          5,
          6,
          7,
          8,
          9,
          10,
          11,
          12,
          13,
          14,
          15,
          16,
          17,
          18,
          19,
          20,
          21
         ],
         "xaxis": "x",
         "y": [
          806.9235661941054,
          806.9235661941054,
          806.9235661941054,
          806.9235661941054,
          806.9235661941054,
          806.9235661941054,
          806.9235661941054,
          806.9235661941054,
          806.9235661941054,
          806.9235661941054,
          806.9235661941054,
          806.9235661941054,
          806.9235661941054,
          806.9235661941054,
          806.9235661941054,
          806.9235661941054,
          806.9235661941054,
          806.9235661941054,
          806.9235661941054,
          806.9235661941054,
          806.9235661941054,
          806.9235661941054
         ],
         "yaxis": "y"
        },
        {
         "hoverinfo": "skip",
         "legendgroup": "thresh",
         "line": {
          "color": "#DD4040",
          "dash": "dash",
          "width": 2
         },
         "mode": "lines",
         "name": "Threshold",
         "showlegend": false,
         "type": "scatter",
         "x": [
          0,
          1,
          2,
          3,
          4,
          5,
          6,
          7,
          8,
          9,
          10,
          11,
          12,
          13,
          14,
          15,
          16,
          17,
          18,
          19,
          20,
          21
         ],
         "xaxis": "x",
         "y": [
          234.31883291999424,
          234.31883291999424,
          234.31883291999424,
          234.31883291999424,
          234.31883291999424,
          234.31883291999424,
          234.31883291999424,
          234.31883291999424,
          234.31883291999424,
          234.31883291999424,
          234.31883291999424,
          234.31883291999424,
          234.31883291999424,
          234.31883291999424,
          234.31883291999424,
          234.31883291999424,
          234.31883291999424,
          234.31883291999424,
          234.31883291999424,
          234.31883291999424,
          234.31883291999424,
          234.31883291999424
         ],
         "yaxis": "y"
        },
        {
         "hoverinfo": "skip",
         "legendgroup": "thresh",
         "line": {
          "color": "#DD4040",
          "dash": "dash",
          "width": 2
         },
         "mode": "lines",
         "name": "Threshold",
         "showlegend": false,
         "type": "scatter",
         "x": [
          21,
          22,
          23,
          24,
          25,
          26,
          27,
          28,
          29,
          30,
          31,
          32,
          33,
          34,
          35,
          36,
          37,
          38,
          39,
          40,
          41,
          42
         ],
         "xaxis": "x",
         "y": [
          806.9235661941054,
          806.9235661941054,
          806.9235661941054,
          806.9235661941054,
          806.9235661941054,
          806.9235661941054,
          806.9235661941054,
          806.9235661941054,
          806.9235661941054,
          806.9235661941054,
          806.9235661941054,
          806.9235661941054,
          806.9235661941054,
          806.9235661941054,
          806.9235661941054,
          806.9235661941054,
          806.9235661941054,
          806.9235661941054,
          806.9235661941054,
          806.9235661941054,
          806.9235661941054,
          806.9235661941054
         ],
         "yaxis": "y"
        },
        {
         "hoverinfo": "skip",
         "legendgroup": "thresh",
         "line": {
          "color": "#DD4040",
          "dash": "dash",
          "width": 2
         },
         "mode": "lines",
         "name": "Threshold",
         "showlegend": false,
         "type": "scatter",
         "x": [
          21,
          22,
          23,
          24,
          25,
          26,
          27,
          28,
          29,
          30,
          31,
          32,
          33,
          34,
          35,
          36,
          37,
          38,
          39,
          40,
          41,
          42
         ],
         "xaxis": "x",
         "y": [
          234.31883291999424,
          234.31883291999424,
          234.31883291999424,
          234.31883291999424,
          234.31883291999424,
          234.31883291999424,
          234.31883291999424,
          234.31883291999424,
          234.31883291999424,
          234.31883291999424,
          234.31883291999424,
          234.31883291999424,
          234.31883291999424,
          234.31883291999424,
          234.31883291999424,
          234.31883291999424,
          234.31883291999424,
          234.31883291999424,
          234.31883291999424,
          234.31883291999424,
          234.31883291999424,
          234.31883291999424
         ],
         "yaxis": "y"
        },
        {
         "hoverinfo": "skip",
         "line": {
          "color": "rgba(0, 0, 0, 0)",
          "shape": "hv"
         },
         "mode": "lines",
         "name": "Confidence band",
         "showlegend": false,
         "type": "scatter",
         "x": [
          0,
          1,
          2,
          3,
          4,
          5,
          6,
          7,
          8,
          9,
          10,
          11,
          12,
          13,
          14,
          15,
          16,
          17,
          18,
          19,
          20,
          21
         ],
         "xaxis": "x",
         "y": [
          865.6686720737869,
          946.967490622396,
          862.7541987628422,
          889.5543086705769,
          726.2398110984582,
          783.7489415177836,
          794.9224570632309,
          785.8917028642124,
          860.3749069465131,
          812.4127027342951,
          805.279864955204,
          820.0727654683749,
          821.0650359833586,
          796.0825503541841,
          763.0182876603046,
          819.9356067253265,
          944.2385777468314,
          799.835688095204,
          841.114671820362,
          903.0073606384227,
          683.4409145222247,
          683.4409145222247
         ],
         "yaxis": "y"
        },
        {
         "fill": "tonexty",
         "fillcolor": "rgba(59, 2, 128, 0.2)",
         "hoverinfo": "skip",
         "line": {
          "color": "rgba(0, 0, 0, 0)",
          "shape": "hv"
         },
         "mode": "lines",
         "name": "Confidence band",
         "showlegend": true,
         "type": "scatter",
         "x": [
          0,
          1,
          2,
          3,
          4,
          5,
          6,
          7,
          8,
          9,
          10,
          11,
          12,
          13,
          14,
          15,
          16,
          17,
          18,
          19,
          20,
          21
         ],
         "xaxis": "x",
         "y": [
          269.5226625237151,
          350.8214810723242,
          266.6081892127704,
          293.40829912050515,
          130.09380154838635,
          187.60293196771175,
          198.7764475131591,
          189.74569331414074,
          264.2288973964413,
          216.2666931842233,
          209.13385540513212,
          223.92675591830312,
          224.91902643328683,
          199.93654080411244,
          166.8722781102328,
          223.7895971752547,
          348.09256819675966,
          203.68967854513227,
          244.96866227029022,
          306.86135108835094,
          208.5711322761837,
          208.5711322761837
         ],
         "yaxis": "y"
        },
        {
         "hoverinfo": "skip",
         "line": {
          "color": "rgba(0, 0, 0, 0)",
          "shape": "hv"
         },
         "mode": "lines",
         "name": "Confidence band",
         "showlegend": false,
         "type": "scatter",
         "x": [
          21,
          22,
          23,
          24,
          25,
          26,
          27,
          28,
          29,
          30,
          31,
          32,
          33,
          34,
          35,
          36,
          37,
          38,
          39,
          40,
          41,
          42
         ],
         "xaxis": "x",
         "y": [
          870.7816392229685,
          847.2486092249179,
          780.6635305923742,
          853.1475677745832,
          890.467899853907,
          908.7574131916464,
          771.6516550230851,
          769.0826933210117,
          851.1654668025714,
          807.2252709610948,
          887.2057809664066,
          812.258643679498,
          754.6134004817741,
          815.1293824806048,
          861.3974358997466,
          871.8999174052806,
          1229.6913325016112,
          1519.766244870757,
          1563.4942226673288,
          1507.3424057243856,
          1475.8626470779452,
          1475.8626470779452
         ],
         "yaxis": "y"
        },
        {
         "fill": "tonexty",
         "fillcolor": "rgba(59, 2, 128, 0.2)",
         "hoverinfo": "skip",
         "line": {
          "color": "rgba(0, 0, 0, 0)",
          "shape": "hv"
         },
         "mode": "lines",
         "name": "Confidence band",
         "showlegend": false,
         "type": "scatter",
         "x": [
          21,
          22,
          23,
          24,
          25,
          26,
          27,
          28,
          29,
          30,
          31,
          32,
          33,
          34,
          35,
          36,
          37,
          38,
          39,
          40,
          41,
          42
         ],
         "xaxis": "x",
         "y": [
          274.6356296728967,
          251.10259967484615,
          184.51752104230235,
          257.0015582245114,
          294.3218903038353,
          312.6114036415746,
          175.50564547301337,
          172.93668377093985,
          255.0194572524996,
          211.07926141102303,
          291.0597714163348,
          216.11263412942628,
          158.46739093170237,
          218.98337293053305,
          265.25142634967483,
          275.7539078552088,
          633.5453229515394,
          923.6202353206851,
          967.3482131172569,
          911.1963961743139,
          1000.9928648319043,
          1000.9928648319043
         ],
         "yaxis": "y"
        }
       ],
       "layout": {
        "annotations": [
         {
          "font": {
           "size": 16
          },
          "showarrow": false,
          "text": "Estimated <b>RMSE</b>",
          "x": 0.5,
          "xanchor": "center",
          "xref": "paper",
          "y": 1,
          "yanchor": "bottom",
          "yref": "paper"
         },
         {
          "showarrow": false,
          "text": "Reference",
          "x": 10,
          "xref": "x",
          "xshift": 10,
          "y": 1.01,
          "yref": "y domain"
         },
         {
          "showarrow": false,
          "text": "Analysis",
          "x": 31,
          "xref": "x",
          "xshift": 15,
          "y": 1.01,
          "yref": "y domain"
         }
        ],
        "autosize": true,
        "hoverlabel": {
         "bgcolor": "white",
         "font": {
          "size": 14
         }
        },
        "legend": {
         "itemclick": false,
         "itemdoubleclick": false,
         "traceorder": "grouped"
        },
        "paper_bgcolor": "rgba(255,255,255,1)",
        "plot_bgcolor": "rgba(255,255,255,1)",
        "shapes": [
         {
          "layer": "below",
          "line": {
           "color": "#666666",
           "width": 1
          },
          "type": "line",
          "x0": 21,
          "x1": 21,
          "xref": "x",
          "y0": 0,
          "y1": 1,
          "yref": "y domain"
         }
        ],
        "template": {
         "data": {
          "bar": [
           {
            "error_x": {
             "color": "#2a3f5f"
            },
            "error_y": {
             "color": "#2a3f5f"
            },
            "marker": {
             "line": {
              "color": "#E5ECF6",
              "width": 0.5
             },
             "pattern": {
              "fillmode": "overlay",
              "size": 10,
              "solidity": 0.2
             }
            },
            "type": "bar"
           }
          ],
          "barpolar": [
           {
            "marker": {
             "line": {
              "color": "#E5ECF6",
              "width": 0.5
             },
             "pattern": {
              "fillmode": "overlay",
              "size": 10,
              "solidity": 0.2
             }
            },
            "type": "barpolar"
           }
          ],
          "carpet": [
           {
            "aaxis": {
             "endlinecolor": "#2a3f5f",
             "gridcolor": "white",
             "linecolor": "white",
             "minorgridcolor": "white",
             "startlinecolor": "#2a3f5f"
            },
            "baxis": {
             "endlinecolor": "#2a3f5f",
             "gridcolor": "white",
             "linecolor": "white",
             "minorgridcolor": "white",
             "startlinecolor": "#2a3f5f"
            },
            "type": "carpet"
           }
          ],
          "choropleth": [
           {
            "colorbar": {
             "outlinewidth": 0,
             "ticks": ""
            },
            "type": "choropleth"
           }
          ],
          "contour": [
           {
            "colorbar": {
             "outlinewidth": 0,
             "ticks": ""
            },
            "colorscale": [
             [
              0,
              "#0d0887"
             ],
             [
              0.1111111111111111,
              "#46039f"
             ],
             [
              0.2222222222222222,
              "#7201a8"
             ],
             [
              0.3333333333333333,
              "#9c179e"
             ],
             [
              0.4444444444444444,
              "#bd3786"
             ],
             [
              0.5555555555555556,
              "#d8576b"
             ],
             [
              0.6666666666666666,
              "#ed7953"
             ],
             [
              0.7777777777777778,
              "#fb9f3a"
             ],
             [
              0.8888888888888888,
              "#fdca26"
             ],
             [
              1,
              "#f0f921"
             ]
            ],
            "type": "contour"
           }
          ],
          "contourcarpet": [
           {
            "colorbar": {
             "outlinewidth": 0,
             "ticks": ""
            },
            "type": "contourcarpet"
           }
          ],
          "heatmap": [
           {
            "colorbar": {
             "outlinewidth": 0,
             "ticks": ""
            },
            "colorscale": [
             [
              0,
              "#0d0887"
             ],
             [
              0.1111111111111111,
              "#46039f"
             ],
             [
              0.2222222222222222,
              "#7201a8"
             ],
             [
              0.3333333333333333,
              "#9c179e"
             ],
             [
              0.4444444444444444,
              "#bd3786"
             ],
             [
              0.5555555555555556,
              "#d8576b"
             ],
             [
              0.6666666666666666,
              "#ed7953"
             ],
             [
              0.7777777777777778,
              "#fb9f3a"
             ],
             [
              0.8888888888888888,
              "#fdca26"
             ],
             [
              1,
              "#f0f921"
             ]
            ],
            "type": "heatmap"
           }
          ],
          "heatmapgl": [
           {
            "colorbar": {
             "outlinewidth": 0,
             "ticks": ""
            },
            "colorscale": [
             [
              0,
              "#0d0887"
             ],
             [
              0.1111111111111111,
              "#46039f"
             ],
             [
              0.2222222222222222,
              "#7201a8"
             ],
             [
              0.3333333333333333,
              "#9c179e"
             ],
             [
              0.4444444444444444,
              "#bd3786"
             ],
             [
              0.5555555555555556,
              "#d8576b"
             ],
             [
              0.6666666666666666,
              "#ed7953"
             ],
             [
              0.7777777777777778,
              "#fb9f3a"
             ],
             [
              0.8888888888888888,
              "#fdca26"
             ],
             [
              1,
              "#f0f921"
             ]
            ],
            "type": "heatmapgl"
           }
          ],
          "histogram": [
           {
            "marker": {
             "pattern": {
              "fillmode": "overlay",
              "size": 10,
              "solidity": 0.2
             }
            },
            "type": "histogram"
           }
          ],
          "histogram2d": [
           {
            "colorbar": {
             "outlinewidth": 0,
             "ticks": ""
            },
            "colorscale": [
             [
              0,
              "#0d0887"
             ],
             [
              0.1111111111111111,
              "#46039f"
             ],
             [
              0.2222222222222222,
              "#7201a8"
             ],
             [
              0.3333333333333333,
              "#9c179e"
             ],
             [
              0.4444444444444444,
              "#bd3786"
             ],
             [
              0.5555555555555556,
              "#d8576b"
             ],
             [
              0.6666666666666666,
              "#ed7953"
             ],
             [
              0.7777777777777778,
              "#fb9f3a"
             ],
             [
              0.8888888888888888,
              "#fdca26"
             ],
             [
              1,
              "#f0f921"
             ]
            ],
            "type": "histogram2d"
           }
          ],
          "histogram2dcontour": [
           {
            "colorbar": {
             "outlinewidth": 0,
             "ticks": ""
            },
            "colorscale": [
             [
              0,
              "#0d0887"
             ],
             [
              0.1111111111111111,
              "#46039f"
             ],
             [
              0.2222222222222222,
              "#7201a8"
             ],
             [
              0.3333333333333333,
              "#9c179e"
             ],
             [
              0.4444444444444444,
              "#bd3786"
             ],
             [
              0.5555555555555556,
              "#d8576b"
             ],
             [
              0.6666666666666666,
              "#ed7953"
             ],
             [
              0.7777777777777778,
              "#fb9f3a"
             ],
             [
              0.8888888888888888,
              "#fdca26"
             ],
             [
              1,
              "#f0f921"
             ]
            ],
            "type": "histogram2dcontour"
           }
          ],
          "mesh3d": [
           {
            "colorbar": {
             "outlinewidth": 0,
             "ticks": ""
            },
            "type": "mesh3d"
           }
          ],
          "parcoords": [
           {
            "line": {
             "colorbar": {
              "outlinewidth": 0,
              "ticks": ""
             }
            },
            "type": "parcoords"
           }
          ],
          "pie": [
           {
            "automargin": true,
            "type": "pie"
           }
          ],
          "scatter": [
           {
            "fillpattern": {
             "fillmode": "overlay",
             "size": 10,
             "solidity": 0.2
            },
            "type": "scatter"
           }
          ],
          "scatter3d": [
           {
            "line": {
             "colorbar": {
              "outlinewidth": 0,
              "ticks": ""
             }
            },
            "marker": {
             "colorbar": {
              "outlinewidth": 0,
              "ticks": ""
             }
            },
            "type": "scatter3d"
           }
          ],
          "scattercarpet": [
           {
            "marker": {
             "colorbar": {
              "outlinewidth": 0,
              "ticks": ""
             }
            },
            "type": "scattercarpet"
           }
          ],
          "scattergeo": [
           {
            "marker": {
             "colorbar": {
              "outlinewidth": 0,
              "ticks": ""
             }
            },
            "type": "scattergeo"
           }
          ],
          "scattergl": [
           {
            "marker": {
             "colorbar": {
              "outlinewidth": 0,
              "ticks": ""
             }
            },
            "type": "scattergl"
           }
          ],
          "scattermapbox": [
           {
            "marker": {
             "colorbar": {
              "outlinewidth": 0,
              "ticks": ""
             }
            },
            "type": "scattermapbox"
           }
          ],
          "scatterpolar": [
           {
            "marker": {
             "colorbar": {
              "outlinewidth": 0,
              "ticks": ""
             }
            },
            "type": "scatterpolar"
           }
          ],
          "scatterpolargl": [
           {
            "marker": {
             "colorbar": {
              "outlinewidth": 0,
              "ticks": ""
             }
            },
            "type": "scatterpolargl"
           }
          ],
          "scatterternary": [
           {
            "marker": {
             "colorbar": {
              "outlinewidth": 0,
              "ticks": ""
             }
            },
            "type": "scatterternary"
           }
          ],
          "surface": [
           {
            "colorbar": {
             "outlinewidth": 0,
             "ticks": ""
            },
            "colorscale": [
             [
              0,
              "#0d0887"
             ],
             [
              0.1111111111111111,
              "#46039f"
             ],
             [
              0.2222222222222222,
              "#7201a8"
             ],
             [
              0.3333333333333333,
              "#9c179e"
             ],
             [
              0.4444444444444444,
              "#bd3786"
             ],
             [
              0.5555555555555556,
              "#d8576b"
             ],
             [
              0.6666666666666666,
              "#ed7953"
             ],
             [
              0.7777777777777778,
              "#fb9f3a"
             ],
             [
              0.8888888888888888,
              "#fdca26"
             ],
             [
              1,
              "#f0f921"
             ]
            ],
            "type": "surface"
           }
          ],
          "table": [
           {
            "cells": {
             "fill": {
              "color": "#EBF0F8"
             },
             "line": {
              "color": "white"
             }
            },
            "header": {
             "fill": {
              "color": "#C8D4E3"
             },
             "line": {
              "color": "white"
             }
            },
            "type": "table"
           }
          ]
         },
         "layout": {
          "annotationdefaults": {
           "arrowcolor": "#2a3f5f",
           "arrowhead": 0,
           "arrowwidth": 1
          },
          "autotypenumbers": "strict",
          "coloraxis": {
           "colorbar": {
            "outlinewidth": 0,
            "ticks": ""
           }
          },
          "colorscale": {
           "diverging": [
            [
             0,
             "#8e0152"
            ],
            [
             0.1,
             "#c51b7d"
            ],
            [
             0.2,
             "#de77ae"
            ],
            [
             0.3,
             "#f1b6da"
            ],
            [
             0.4,
             "#fde0ef"
            ],
            [
             0.5,
             "#f7f7f7"
            ],
            [
             0.6,
             "#e6f5d0"
            ],
            [
             0.7,
             "#b8e186"
            ],
            [
             0.8,
             "#7fbc41"
            ],
            [
             0.9,
             "#4d9221"
            ],
            [
             1,
             "#276419"
            ]
           ],
           "sequential": [
            [
             0,
             "#0d0887"
            ],
            [
             0.1111111111111111,
             "#46039f"
            ],
            [
             0.2222222222222222,
             "#7201a8"
            ],
            [
             0.3333333333333333,
             "#9c179e"
            ],
            [
             0.4444444444444444,
             "#bd3786"
            ],
            [
             0.5555555555555556,
             "#d8576b"
            ],
            [
             0.6666666666666666,
             "#ed7953"
            ],
            [
             0.7777777777777778,
             "#fb9f3a"
            ],
            [
             0.8888888888888888,
             "#fdca26"
            ],
            [
             1,
             "#f0f921"
            ]
           ],
           "sequentialminus": [
            [
             0,
             "#0d0887"
            ],
            [
             0.1111111111111111,
             "#46039f"
            ],
            [
             0.2222222222222222,
             "#7201a8"
            ],
            [
             0.3333333333333333,
             "#9c179e"
            ],
            [
             0.4444444444444444,
             "#bd3786"
            ],
            [
             0.5555555555555556,
             "#d8576b"
            ],
            [
             0.6666666666666666,
             "#ed7953"
            ],
            [
             0.7777777777777778,
             "#fb9f3a"
            ],
            [
             0.8888888888888888,
             "#fdca26"
            ],
            [
             1,
             "#f0f921"
            ]
           ]
          },
          "colorway": [
           "#636efa",
           "#EF553B",
           "#00cc96",
           "#ab63fa",
           "#FFA15A",
           "#19d3f3",
           "#FF6692",
           "#B6E880",
           "#FF97FF",
           "#FECB52"
          ],
          "font": {
           "color": "#2a3f5f"
          },
          "geo": {
           "bgcolor": "white",
           "lakecolor": "white",
           "landcolor": "#E5ECF6",
           "showlakes": true,
           "showland": true,
           "subunitcolor": "white"
          },
          "hoverlabel": {
           "align": "left"
          },
          "hovermode": "closest",
          "mapbox": {
           "style": "light"
          },
          "paper_bgcolor": "white",
          "plot_bgcolor": "#E5ECF6",
          "polar": {
           "angularaxis": {
            "gridcolor": "white",
            "linecolor": "white",
            "ticks": ""
           },
           "bgcolor": "#E5ECF6",
           "radialaxis": {
            "gridcolor": "white",
            "linecolor": "white",
            "ticks": ""
           }
          },
          "scene": {
           "xaxis": {
            "backgroundcolor": "#E5ECF6",
            "gridcolor": "white",
            "gridwidth": 2,
            "linecolor": "white",
            "showbackground": true,
            "ticks": "",
            "zerolinecolor": "white"
           },
           "yaxis": {
            "backgroundcolor": "#E5ECF6",
            "gridcolor": "white",
            "gridwidth": 2,
            "linecolor": "white",
            "showbackground": true,
            "ticks": "",
            "zerolinecolor": "white"
           },
           "zaxis": {
            "backgroundcolor": "#E5ECF6",
            "gridcolor": "white",
            "gridwidth": 2,
            "linecolor": "white",
            "showbackground": true,
            "ticks": "",
            "zerolinecolor": "white"
           }
          },
          "shapedefaults": {
           "line": {
            "color": "#2a3f5f"
           }
          },
          "ternary": {
           "aaxis": {
            "gridcolor": "white",
            "linecolor": "white",
            "ticks": ""
           },
           "baxis": {
            "gridcolor": "white",
            "linecolor": "white",
            "ticks": ""
           },
           "bgcolor": "#E5ECF6",
           "caxis": {
            "gridcolor": "white",
            "linecolor": "white",
            "ticks": ""
           }
          },
          "title": {
           "x": 0.05
          },
          "xaxis": {
           "automargin": true,
           "gridcolor": "white",
           "linecolor": "white",
           "ticks": "",
           "title": {
            "standoff": 15
           },
           "zerolinecolor": "white",
           "zerolinewidth": 2
          },
          "yaxis": {
           "automargin": true,
           "gridcolor": "white",
           "linecolor": "white",
           "ticks": "",
           "title": {
            "standoff": 15
           },
           "zerolinecolor": "white",
           "zerolinewidth": 2
          }
         }
        },
        "title": {
         "text": "Estimated performance <b>(DLE)</b>"
        },
        "xaxis": {
         "anchor": "y",
         "autorange": true,
         "domain": [
          0,
          1
         ],
         "linecolor": "#3b0280",
         "matches": "x",
         "mirror": true,
         "range": [
          -2.081190833376442,
          44.240261755729136
         ],
         "showgrid": false,
         "title": {
          "text": "Chunk"
         },
         "type": "linear",
         "zeroline": false
        },
        "yaxis": {
         "anchor": "x",
         "autorange": true,
         "domain": [
          0,
          1
         ],
         "linecolor": "#3b0280",
         "mirror": true,
         "range": [
          50.460444819556216,
          1643.127579396159
         ],
         "showgrid": false,
         "title": {
          "text": "RMSE"
         },
         "type": "linear",
         "zeroline": false
        }
       }
      },
      "image/png": "[encoded data removed]",
      "text/html": [
       "<div>                            <div id=\"f715866c-12d9-4609-b7de-b38ea3d9c852\" class=\"plotly-graph-div\" style=\"height:500.0px; width:100%;\"></div>            <script type=\"text/javascript\">                require([\"plotly\"], function(Plotly) {                    window.PLOTLYENV=window.PLOTLYENV || {};                                    if (document.getElementById(\"f715866c-12d9-4609-b7de-b38ea3d9c852\")) {                    Plotly.newPlot(                        \"f715866c-12d9-4609-b7de-b38ea3d9c852\",                        [{\"hoverinfo\":\"skip\",\"legendgroup\":\"metric_reference\",\"line\":{\"color\":\"#3b0280\",\"dash\":\"dash\",\"shape\":\"hv\",\"width\":2},\"mode\":\"lines\",\"name\":\"Metric\",\"showlegend\":true,\"x\":[0,1,2,3,4,5,6,7,8,9,10,11,12,13,14,15,16,17,18,19,20,21],\"y\":[567.595667298751,648.8944858473601,564.6811939878063,591.481303895541,428.16680632342224,485.67593674274764,496.849452288195,487.8186980891766,562.3019021714772,514.3396979592592,507.206860180168,521.999760693339,522.9920312083227,498.0095455791483,464.9452828852687,521.8626019502906,646.1655729717955,501.76268332016815,543.0416670453261,604.9343558633868,446.0060233992042,446.0060233992042],\"type\":\"scatter\",\"xaxis\":\"x\",\"yaxis\":\"y\"},{\"customdata\":[[\"Estimated \\u003cb\\u003eRMSE\\u003c\\u002fb\\u003e\",\"\\u003cb style=\\\"color:Colors.INDIGO_PERSIAN;line-height:60px\\\"\\u003eReference\\u003c\\u002fb\\u003e\",\"\",\"[0:249]\",\"Chunk index: \\u003cb\\u003e0\\u003c\\u002fb\\u003e\",567.5957,298.073],[\"Estimated \\u003cb\\u003eRMSE\\u003c\\u002fb\\u003e\",\"\\u003cb style=\\\"color:Colors.INDIGO_PERSIAN;line-height:60px\\\"\\u003eReference\\u003c\\u002fb\\u003e\",\"\",\"[250:499]\",\"Chunk index: \\u003cb\\u003e1\\u003c\\u002fb\\u003e\",648.8945,298.073],[\"Estimated \\u003cb\\u003eRMSE\\u003c\\u002fb\\u003e\",\"\\u003cb style=\\\"color:Colors.INDIGO_PERSIAN;line-height:60px\\\"\\u003eReference\\u003c\\u002fb\\u003e\",\"\",\"[500:749]\",\"Chunk index: \\u003cb\\u003e2\\u003c\\u002fb\\u003e\",564.6812,298.073],[\"Estimated \\u003cb\\u003eRMSE\\u003c\\u002fb\\u003e\",\"\\u003cb style=\\\"color:Colors.INDIGO_PERSIAN;line-height:60px\\\"\\u003eReference\\u003c\\u002fb\\u003e\",\"\",\"[750:999]\",\"Chunk index: \\u003cb\\u003e3\\u003c\\u002fb\\u003e\",591.4813,298.073],[\"Estimated \\u003cb\\u003eRMSE\\u003c\\u002fb\\u003e\",\"\\u003cb style=\\\"color:Colors.INDIGO_PERSIAN;line-height:60px\\\"\\u003eReference\\u003c\\u002fb\\u003e\",\"\",\"[1000:1249]\",\"Chunk index: \\u003cb\\u003e4\\u003c\\u002fb\\u003e\",428.1668,298.073],[\"Estimated \\u003cb\\u003eRMSE\\u003c\\u002fb\\u003e\",\"\\u003cb style=\\\"color:Colors.INDIGO_PERSIAN;line-height:60px\\\"\\u003eReference\\u003c\\u002fb\\u003e\",\"\",\"[1250:1499]\",\"Chunk index: \\u003cb\\u003e5\\u003c\\u002fb\\u003e\",485.6759,298.073],[\"Estimated \\u003cb\\u003eRMSE\\u003c\\u002fb\\u003e\",\"\\u003cb style=\\\"color:Colors.INDIGO_PERSIAN;line-height:60px\\\"\\u003eReference\\u003c\\u002fb\\u003e\",\"\",\"[1500:1749]\",\"Chunk index: \\u003cb\\u003e6\\u003c\\u002fb\\u003e\",496.8495,298.073],[\"Estimated \\u003cb\\u003eRMSE\\u003c\\u002fb\\u003e\",\"\\u003cb style=\\\"color:Colors.INDIGO_PERSIAN;line-height:60px\\\"\\u003eReference\\u003c\\u002fb\\u003e\",\"\",\"[1750:1999]\",\"Chunk index: \\u003cb\\u003e7\\u003c\\u002fb\\u003e\",487.8187,298.073],[\"Estimated \\u003cb\\u003eRMSE\\u003c\\u002fb\\u003e\",\"\\u003cb style=\\\"color:Colors.INDIGO_PERSIAN;line-height:60px\\\"\\u003eReference\\u003c\\u002fb\\u003e\",\"\",\"[2000:2249]\",\"Chunk index: \\u003cb\\u003e8\\u003c\\u002fb\\u003e\",562.3019,298.073],[\"Estimated \\u003cb\\u003eRMSE\\u003c\\u002fb\\u003e\",\"\\u003cb style=\\\"color:Colors.INDIGO_PERSIAN;line-height:60px\\\"\\u003eReference\\u003c\\u002fb\\u003e\",\"\",\"[2250:2499]\",\"Chunk index: \\u003cb\\u003e9\\u003c\\u002fb\\u003e\",514.3397,298.073],[\"Estimated \\u003cb\\u003eRMSE\\u003c\\u002fb\\u003e\",\"\\u003cb style=\\\"color:Colors.INDIGO_PERSIAN;line-height:60px\\\"\\u003eReference\\u003c\\u002fb\\u003e\",\"\",\"[2500:2749]\",\"Chunk index: \\u003cb\\u003e10\\u003c\\u002fb\\u003e\",507.2069,298.073],[\"Estimated \\u003cb\\u003eRMSE\\u003c\\u002fb\\u003e\",\"\\u003cb style=\\\"color:Colors.INDIGO_PERSIAN;line-height:60px\\\"\\u003eReference\\u003c\\u002fb\\u003e\",\"\",\"[2750:2999]\",\"Chunk index: \\u003cb\\u003e11\\u003c\\u002fb\\u003e\",521.9998,298.073],[\"Estimated \\u003cb\\u003eRMSE\\u003c\\u002fb\\u003e\",\"\\u003cb style=\\\"color:Colors.INDIGO_PERSIAN;line-height:60px\\\"\\u003eReference\\u003c\\u002fb\\u003e\",\"\",\"[3000:3249]\",\"Chunk index: \\u003cb\\u003e12\\u003c\\u002fb\\u003e\",522.992,298.073],[\"Estimated \\u003cb\\u003eRMSE\\u003c\\u002fb\\u003e\",\"\\u003cb style=\\\"color:Colors.INDIGO_PERSIAN;line-height:60px\\\"\\u003eReference\\u003c\\u002fb\\u003e\",\"\",\"[3250:3499]\",\"Chunk index: \\u003cb\\u003e13\\u003c\\u002fb\\u003e\",498.0095,298.073],[\"Estimated \\u003cb\\u003eRMSE\\u003c\\u002fb\\u003e\",\"\\u003cb style=\\\"color:Colors.INDIGO_PERSIAN;line-height:60px\\\"\\u003eReference\\u003c\\u002fb\\u003e\",\"\",\"[3500:3749]\",\"Chunk index: \\u003cb\\u003e14\\u003c\\u002fb\\u003e\",464.9453,298.073],[\"Estimated \\u003cb\\u003eRMSE\\u003c\\u002fb\\u003e\",\"\\u003cb style=\\\"color:Colors.INDIGO_PERSIAN;line-height:60px\\\"\\u003eReference\\u003c\\u002fb\\u003e\",\"\",\"[3750:3999]\",\"Chunk index: \\u003cb\\u003e15\\u003c\\u002fb\\u003e\",521.8626,298.073],[\"Estimated \\u003cb\\u003eRMSE\\u003c\\u002fb\\u003e\",\"\\u003cb style=\\\"color:Colors.INDIGO_PERSIAN;line-height:60px\\\"\\u003eReference\\u003c\\u002fb\\u003e\",\"\",\"[4000:4249]\",\"Chunk index: \\u003cb\\u003e16\\u003c\\u002fb\\u003e\",646.1656,298.073],[\"Estimated \\u003cb\\u003eRMSE\\u003c\\u002fb\\u003e\",\"\\u003cb style=\\\"color:Colors.INDIGO_PERSIAN;line-height:60px\\\"\\u003eReference\\u003c\\u002fb\\u003e\",\"\",\"[4250:4499]\",\"Chunk index: \\u003cb\\u003e17\\u003c\\u002fb\\u003e\",501.7627,298.073],[\"Estimated \\u003cb\\u003eRMSE\\u003c\\u002fb\\u003e\",\"\\u003cb style=\\\"color:Colors.INDIGO_PERSIAN;line-height:60px\\\"\\u003eReference\\u003c\\u002fb\\u003e\",\"\",\"[4500:4749]\",\"Chunk index: \\u003cb\\u003e18\\u003c\\u002fb\\u003e\",543.0417,298.073],[\"Estimated \\u003cb\\u003eRMSE\\u003c\\u002fb\\u003e\",\"\\u003cb style=\\\"color:Colors.INDIGO_PERSIAN;line-height:60px\\\"\\u003eReference\\u003c\\u002fb\\u003e\",\"\",\"[4750:4999]\",\"Chunk index: \\u003cb\\u003e19\\u003c\\u002fb\\u003e\",604.9344,298.073],[\"Estimated \\u003cb\\u003eRMSE\\u003c\\u002fb\\u003e\",\"\\u003cb style=\\\"color:Colors.INDIGO_PERSIAN;line-height:60px\\\"\\u003eReference\\u003c\\u002fb\\u003e\",\"\",\"[5000:5393]\",\"Chunk index: \\u003cb\\u003e20\\u003c\\u002fb\\u003e\",446.006,237.4349]],\"hovertemplate\":\"%{customdata[1]} &nbsp; &nbsp; %{customdata[2]} \\u003cbr \\u002f\\u003eChunk: \\u003cb\\u003e%{customdata[3]}\\u003c\\u002fb\\u003e &nbsp; &nbsp; %{customdata[4]} \\u003cbr \\u002f\\u003e%{customdata[0]}: \\u003cb\\u003e%{customdata[5]}\\u003c\\u002fb\\u003e\\u003cbr \\u002f\\u003eConfidence band: +\\u002f- \\u003cb\\u003e%{customdata[6]}\\u003c\\u002fb\\u003e\\u003cbr \\u002f\\u003e\\u003cextra\\u003e\\u003c\\u002fextra\\u003e\",\"legendgroup\":\"metric_reference\",\"line\":{\"dash\":\"dash\"},\"marker\":{\"color\":\"#3b0280\",\"size\":5,\"symbol\":\"circle\"},\"mode\":\"markers\",\"name\":\"Metric\",\"showlegend\":false,\"x\":[0.5,1.5,2.5,3.5,4.5,5.5,6.5,7.5,8.5,9.5,10.5,11.5,12.5,13.5,14.5,15.5,16.5,17.5,18.5,19.5,20.5],\"y\":[567.595667298751,648.8944858473601,564.6811939878063,591.481303895541,428.16680632342224,485.67593674274764,496.849452288195,487.8186980891766,562.3019021714772,514.3396979592592,507.206860180168,521.999760693339,522.9920312083227,498.0095455791483,464.9452828852687,521.8626019502906,646.1655729717955,501.76268332016815,543.0416670453261,604.9343558633868,446.0060233992042,446.0060233992042],\"type\":\"scatter\",\"xaxis\":\"x\",\"yaxis\":\"y\"},{\"hoverinfo\":\"skip\",\"legendgroup\":\"metric_analysis\",\"line\":{\"color\":\"#3b0280\",\"dash\":\"dash\",\"shape\":\"hv\",\"width\":2},\"mode\":\"lines\",\"name\":\"Metric\",\"showlegend\":false,\"x\":[21,22,23,24,25,26,27,28,29,30,31,32,33,34,35,36,37,38,39,40,41,42],\"y\":[572.7086344479326,549.175604449882,482.59052581733823,555.0745629995473,592.3948950788712,610.6844084166105,473.57865024804926,471.00968854597573,553.0924620275355,509.1522661860589,589.1327761913707,514.1856389044622,456.54039570673825,517.0563777055689,563.3244311247107,573.8269126302447,931.6183277265753,1221.693240095721,1265.4212178922928,1209.2694009493498,1238.4277559549248,1238.4277559549248],\"type\":\"scatter\",\"xaxis\":\"x\",\"yaxis\":\"y\"},{\"customdata\":[[\"Estimated \\u003cb\\u003eRMSE\\u003c\\u002fb\\u003e\",\"\\u003cb style=\\\"color:Colors.INDIGO_PERSIAN;line-height:60px\\\"\\u003eAnalysis\\u003c\\u002fb\\u003e\",\"\",\"[0:249]\",\"Chunk index: \\u003cb\\u003e0\\u003c\\u002fb\\u003e\",572.7086,298.073],[\"Estimated \\u003cb\\u003eRMSE\\u003c\\u002fb\\u003e\",\"\\u003cb style=\\\"color:Colors.INDIGO_PERSIAN;line-height:60px\\\"\\u003eAnalysis\\u003c\\u002fb\\u003e\",\"\",\"[250:499]\",\"Chunk index: \\u003cb\\u003e1\\u003c\\u002fb\\u003e\",549.1756,298.073],[\"Estimated \\u003cb\\u003eRMSE\\u003c\\u002fb\\u003e\",\"\\u003cb style=\\\"color:Colors.INDIGO_PERSIAN;line-height:60px\\\"\\u003eAnalysis\\u003c\\u002fb\\u003e\",\"\",\"[500:749]\",\"Chunk index: \\u003cb\\u003e2\\u003c\\u002fb\\u003e\",482.5905,298.073],[\"Estimated \\u003cb\\u003eRMSE\\u003c\\u002fb\\u003e\",\"\\u003cb style=\\\"color:Colors.INDIGO_PERSIAN;line-height:60px\\\"\\u003eAnalysis\\u003c\\u002fb\\u003e\",\"\",\"[750:999]\",\"Chunk index: \\u003cb\\u003e3\\u003c\\u002fb\\u003e\",555.0746,298.073],[\"Estimated \\u003cb\\u003eRMSE\\u003c\\u002fb\\u003e\",\"\\u003cb style=\\\"color:Colors.INDIGO_PERSIAN;line-height:60px\\\"\\u003eAnalysis\\u003c\\u002fb\\u003e\",\"\",\"[1000:1249]\",\"Chunk index: \\u003cb\\u003e4\\u003c\\u002fb\\u003e\",592.3949,298.073],[\"Estimated \\u003cb\\u003eRMSE\\u003c\\u002fb\\u003e\",\"\\u003cb style=\\\"color:Colors.INDIGO_PERSIAN;line-height:60px\\\"\\u003eAnalysis\\u003c\\u002fb\\u003e\",\"\",\"[1250:1499]\",\"Chunk index: \\u003cb\\u003e5\\u003c\\u002fb\\u003e\",610.6844,298.073],[\"Estimated \\u003cb\\u003eRMSE\\u003c\\u002fb\\u003e\",\"\\u003cb style=\\\"color:Colors.INDIGO_PERSIAN;line-height:60px\\\"\\u003eAnalysis\\u003c\\u002fb\\u003e\",\"\",\"[1500:1749]\",\"Chunk index: \\u003cb\\u003e6\\u003c\\u002fb\\u003e\",473.5787,298.073],[\"Estimated \\u003cb\\u003eRMSE\\u003c\\u002fb\\u003e\",\"\\u003cb style=\\\"color:Colors.INDIGO_PERSIAN;line-height:60px\\\"\\u003eAnalysis\\u003c\\u002fb\\u003e\",\"\",\"[1750:1999]\",\"Chunk index: \\u003cb\\u003e7\\u003c\\u002fb\\u003e\",471.0097,298.073],[\"Estimated \\u003cb\\u003eRMSE\\u003c\\u002fb\\u003e\",\"\\u003cb style=\\\"color:Colors.INDIGO_PERSIAN;line-height:60px\\\"\\u003eAnalysis\\u003c\\u002fb\\u003e\",\"\",\"[2000:2249]\",\"Chunk index: \\u003cb\\u003e8\\u003c\\u002fb\\u003e\",553.0925,298.073],[\"Estimated \\u003cb\\u003eRMSE\\u003c\\u002fb\\u003e\",\"\\u003cb style=\\\"color:Colors.INDIGO_PERSIAN;line-height:60px\\\"\\u003eAnalysis\\u003c\\u002fb\\u003e\",\"\",\"[2250:2499]\",\"Chunk index: \\u003cb\\u003e9\\u003c\\u002fb\\u003e\",509.1523,298.073],[\"Estimated \\u003cb\\u003eRMSE\\u003c\\u002fb\\u003e\",\"\\u003cb style=\\\"color:Colors.INDIGO_PERSIAN;line-height:60px\\\"\\u003eAnalysis\\u003c\\u002fb\\u003e\",\"\",\"[2500:2749]\",\"Chunk index: \\u003cb\\u003e10\\u003c\\u002fb\\u003e\",589.1328,298.073],[\"Estimated \\u003cb\\u003eRMSE\\u003c\\u002fb\\u003e\",\"\\u003cb style=\\\"color:Colors.INDIGO_PERSIAN;line-height:60px\\\"\\u003eAnalysis\\u003c\\u002fb\\u003e\",\"\",\"[2750:2999]\",\"Chunk index: \\u003cb\\u003e11\\u003c\\u002fb\\u003e\",514.1856,298.073],[\"Estimated \\u003cb\\u003eRMSE\\u003c\\u002fb\\u003e\",\"\\u003cb style=\\\"color:Colors.INDIGO_PERSIAN;line-height:60px\\\"\\u003eAnalysis\\u003c\\u002fb\\u003e\",\"\",\"[3000:3249]\",\"Chunk index: \\u003cb\\u003e12\\u003c\\u002fb\\u003e\",456.5404,298.073],[\"Estimated \\u003cb\\u003eRMSE\\u003c\\u002fb\\u003e\",\"\\u003cb style=\\\"color:Colors.INDIGO_PERSIAN;line-height:60px\\\"\\u003eAnalysis\\u003c\\u002fb\\u003e\",\"\",\"[3250:3499]\",\"Chunk index: \\u003cb\\u003e13\\u003c\\u002fb\\u003e\",517.0564,298.073],[\"Estimated \\u003cb\\u003eRMSE\\u003c\\u002fb\\u003e\",\"\\u003cb style=\\\"color:Colors.INDIGO_PERSIAN;line-height:60px\\\"\\u003eAnalysis\\u003c\\u002fb\\u003e\",\"\",\"[3500:3749]\",\"Chunk index: \\u003cb\\u003e14\\u003c\\u002fb\\u003e\",563.3244,298.073],[\"Estimated \\u003cb\\u003eRMSE\\u003c\\u002fb\\u003e\",\"\\u003cb style=\\\"color:Colors.INDIGO_PERSIAN;line-height:60px\\\"\\u003eAnalysis\\u003c\\u002fb\\u003e\",\"\",\"[3750:3999]\",\"Chunk index: \\u003cb\\u003e15\\u003c\\u002fb\\u003e\",573.8269,298.073],[\"Estimated \\u003cb\\u003eRMSE\\u003c\\u002fb\\u003e\",\"\\u003cb style=\\\"color:Colors.INDIGO_PERSIAN;line-height:60px\\\"\\u003eAnalysis\\u003c\\u002fb\\u003e\",\"\\u003cspan style=\\\"color:#AD0000\\\"\\u003e\\u26a0 \\u003cb\\u003eDrift detected\\u003c\\u002fb\\u003e\\u003c\\u002fspan\\u003e\",\"[4000:4249]\",\"Chunk index: \\u003cb\\u003e16\\u003c\\u002fb\\u003e\",931.6183,298.073],[\"Estimated \\u003cb\\u003eRMSE\\u003c\\u002fb\\u003e\",\"\\u003cb style=\\\"color:Colors.INDIGO_PERSIAN;line-height:60px\\\"\\u003eAnalysis\\u003c\\u002fb\\u003e\",\"\\u003cspan style=\\\"color:#AD0000\\\"\\u003e\\u26a0 \\u003cb\\u003eDrift detected\\u003c\\u002fb\\u003e\\u003c\\u002fspan\\u003e\",\"[4250:4499]\",\"Chunk index: \\u003cb\\u003e17\\u003c\\u002fb\\u003e\",1221.6932,298.073],[\"Estimated \\u003cb\\u003eRMSE\\u003c\\u002fb\\u003e\",\"\\u003cb style=\\\"color:Colors.INDIGO_PERSIAN;line-height:60px\\\"\\u003eAnalysis\\u003c\\u002fb\\u003e\",\"\\u003cspan style=\\\"color:#AD0000\\\"\\u003e\\u26a0 \\u003cb\\u003eDrift detected\\u003c\\u002fb\\u003e\\u003c\\u002fspan\\u003e\",\"[4500:4749]\",\"Chunk index: \\u003cb\\u003e18\\u003c\\u002fb\\u003e\",1265.4212,298.073],[\"Estimated \\u003cb\\u003eRMSE\\u003c\\u002fb\\u003e\",\"\\u003cb style=\\\"color:Colors.INDIGO_PERSIAN;line-height:60px\\\"\\u003eAnalysis\\u003c\\u002fb\\u003e\",\"\\u003cspan style=\\\"color:#AD0000\\\"\\u003e\\u26a0 \\u003cb\\u003eDrift detected\\u003c\\u002fb\\u003e\\u003c\\u002fspan\\u003e\",\"[4750:4999]\",\"Chunk index: \\u003cb\\u003e19\\u003c\\u002fb\\u003e\",1209.2694,298.073],[\"Estimated \\u003cb\\u003eRMSE\\u003c\\u002fb\\u003e\",\"\\u003cb style=\\\"color:Colors.INDIGO_PERSIAN;line-height:60px\\\"\\u003eAnalysis\\u003c\\u002fb\\u003e\",\"\\u003cspan style=\\\"color:#AD0000\\\"\\u003e\\u26a0 \\u003cb\\u003eDrift detected\\u003c\\u002fb\\u003e\\u003c\\u002fspan\\u003e\",\"[5000:5393]\",\"Chunk index: \\u003cb\\u003e20\\u003c\\u002fb\\u003e\",1238.4278,237.4349]],\"hovertemplate\":\"%{customdata[1]} &nbsp; &nbsp; %{customdata[2]} \\u003cbr \\u002f\\u003eChunk: \\u003cb\\u003e%{customdata[3]}\\u003c\\u002fb\\u003e &nbsp; &nbsp; %{customdata[4]} \\u003cbr \\u002f\\u003e%{customdata[0]}: \\u003cb\\u003e%{customdata[5]}\\u003c\\u002fb\\u003e\\u003cbr \\u002f\\u003eConfidence band: +\\u002f- \\u003cb\\u003e%{customdata[6]}\\u003c\\u002fb\\u003e\\u003cbr \\u002f\\u003e\\u003cextra\\u003e\\u003c\\u002fextra\\u003e\",\"legendgroup\":\"metric_analysis\",\"line\":{\"dash\":\"dash\"},\"marker\":{\"color\":\"#3b0280\",\"size\":5,\"symbol\":\"circle\"},\"mode\":\"markers\",\"name\":\"Metric\",\"showlegend\":false,\"x\":[21.5,22.5,23.5,24.5,25.5,26.5,27.5,28.5,29.5,30.5,31.5,32.5,33.5,34.5,35.5,36.5,37.5,38.5,39.5,40.5,41.5],\"y\":[572.7086344479326,549.175604449882,482.59052581733823,555.0745629995473,592.3948950788712,610.6844084166105,473.57865024804926,471.00968854597573,553.0924620275355,509.1522661860589,589.1327761913707,514.1856389044622,456.54039570673825,517.0563777055689,563.3244311247107,573.8269126302447,931.6183277265753,1221.693240095721,1265.4212178922928,1209.2694009493498,1238.4277559549248,1238.4277559549248],\"type\":\"scatter\",\"xaxis\":\"x\",\"yaxis\":\"y\"},{\"hoverinfo\":\"skip\",\"legendgroup\":\"alert\",\"marker\":{\"color\":\"#DD4040\",\"size\":8,\"symbol\":\"diamond\"},\"mode\":\"markers\",\"name\":\"Alert\",\"showlegend\":true,\"x\":[37.5,38.5,39.5,40.5,41.5],\"y\":[931.6183277265753,1221.693240095721,1265.4212178922928,1209.2694009493498,1238.4277559549248],\"type\":\"scatter\",\"xaxis\":\"x\",\"yaxis\":\"y\"},{\"hoverinfo\":\"skip\",\"legendgroup\":\"thresh\",\"line\":{\"color\":\"#DD4040\",\"dash\":\"dash\",\"width\":2},\"mode\":\"lines\",\"name\":\"Threshold\",\"showlegend\":true,\"x\":[0,1,2,3,4,5,6,7,8,9,10,11,12,13,14,15,16,17,18,19,20,21],\"y\":[806.9235661941054,806.9235661941054,806.9235661941054,806.9235661941054,806.9235661941054,806.9235661941054,806.9235661941054,806.9235661941054,806.9235661941054,806.9235661941054,806.9235661941054,806.9235661941054,806.9235661941054,806.9235661941054,806.9235661941054,806.9235661941054,806.9235661941054,806.9235661941054,806.9235661941054,806.9235661941054,806.9235661941054,806.9235661941054],\"type\":\"scatter\",\"xaxis\":\"x\",\"yaxis\":\"y\"},{\"hoverinfo\":\"skip\",\"legendgroup\":\"thresh\",\"line\":{\"color\":\"#DD4040\",\"dash\":\"dash\",\"width\":2},\"mode\":\"lines\",\"name\":\"Threshold\",\"showlegend\":false,\"x\":[0,1,2,3,4,5,6,7,8,9,10,11,12,13,14,15,16,17,18,19,20,21],\"y\":[234.31883291999424,234.31883291999424,234.31883291999424,234.31883291999424,234.31883291999424,234.31883291999424,234.31883291999424,234.31883291999424,234.31883291999424,234.31883291999424,234.31883291999424,234.31883291999424,234.31883291999424,234.31883291999424,234.31883291999424,234.31883291999424,234.31883291999424,234.31883291999424,234.31883291999424,234.31883291999424,234.31883291999424,234.31883291999424],\"type\":\"scatter\",\"xaxis\":\"x\",\"yaxis\":\"y\"},{\"hoverinfo\":\"skip\",\"legendgroup\":\"thresh\",\"line\":{\"color\":\"#DD4040\",\"dash\":\"dash\",\"width\":2},\"mode\":\"lines\",\"name\":\"Threshold\",\"showlegend\":false,\"x\":[21,22,23,24,25,26,27,28,29,30,31,32,33,34,35,36,37,38,39,40,41,42],\"y\":[806.9235661941054,806.9235661941054,806.9235661941054,806.9235661941054,806.9235661941054,806.9235661941054,806.9235661941054,806.9235661941054,806.9235661941054,806.9235661941054,806.9235661941054,806.9235661941054,806.9235661941054,806.9235661941054,806.9235661941054,806.9235661941054,806.9235661941054,806.9235661941054,806.9235661941054,806.9235661941054,806.9235661941054,806.9235661941054],\"type\":\"scatter\",\"xaxis\":\"x\",\"yaxis\":\"y\"},{\"hoverinfo\":\"skip\",\"legendgroup\":\"thresh\",\"line\":{\"color\":\"#DD4040\",\"dash\":\"dash\",\"width\":2},\"mode\":\"lines\",\"name\":\"Threshold\",\"showlegend\":false,\"x\":[21,22,23,24,25,26,27,28,29,30,31,32,33,34,35,36,37,38,39,40,41,42],\"y\":[234.31883291999424,234.31883291999424,234.31883291999424,234.31883291999424,234.31883291999424,234.31883291999424,234.31883291999424,234.31883291999424,234.31883291999424,234.31883291999424,234.31883291999424,234.31883291999424,234.31883291999424,234.31883291999424,234.31883291999424,234.31883291999424,234.31883291999424,234.31883291999424,234.31883291999424,234.31883291999424,234.31883291999424,234.31883291999424],\"type\":\"scatter\",\"xaxis\":\"x\",\"yaxis\":\"y\"},{\"hoverinfo\":\"skip\",\"line\":{\"color\":\"rgba(0,0,0,0)\",\"shape\":\"hv\"},\"mode\":\"lines\",\"name\":\"Confidence band\",\"showlegend\":false,\"x\":[0,1,2,3,4,5,6,7,8,9,10,11,12,13,14,15,16,17,18,19,20,21],\"y\":[865.6686720737869,946.967490622396,862.7541987628422,889.5543086705769,726.2398110984582,783.7489415177836,794.9224570632309,785.8917028642124,860.3749069465131,812.4127027342951,805.279864955204,820.0727654683749,821.0650359833586,796.0825503541841,763.0182876603046,819.9356067253265,944.2385777468314,799.835688095204,841.114671820362,903.0073606384227,683.4409145222247,683.4409145222247],\"type\":\"scatter\",\"xaxis\":\"x\",\"yaxis\":\"y\"},{\"fill\":\"tonexty\",\"fillcolor\":\"rgba(0.23137254901960785, 0.00784313725490196, 0.5019607843137255, 0.2)\",\"hoverinfo\":\"skip\",\"line\":{\"color\":\"rgba(0,0,0,0)\",\"shape\":\"hv\"},\"mode\":\"lines\",\"name\":\"Confidence band\",\"showlegend\":true,\"x\":[0,1,2,3,4,5,6,7,8,9,10,11,12,13,14,15,16,17,18,19,20,21],\"y\":[269.5226625237151,350.8214810723242,266.6081892127704,293.40829912050515,130.09380154838635,187.60293196771175,198.7764475131591,189.74569331414074,264.2288973964413,216.2666931842233,209.13385540513212,223.92675591830312,224.91902643328683,199.93654080411244,166.8722781102328,223.7895971752547,348.09256819675966,203.68967854513227,244.96866227029022,306.86135108835094,208.5711322761837,208.5711322761837],\"type\":\"scatter\",\"xaxis\":\"x\",\"yaxis\":\"y\"},{\"hoverinfo\":\"skip\",\"line\":{\"color\":\"rgba(0,0,0,0)\",\"shape\":\"hv\"},\"mode\":\"lines\",\"name\":\"Confidence band\",\"showlegend\":false,\"x\":[21,22,23,24,25,26,27,28,29,30,31,32,33,34,35,36,37,38,39,40,41,42],\"y\":[870.7816392229685,847.2486092249179,780.6635305923742,853.1475677745832,890.467899853907,908.7574131916464,771.6516550230851,769.0826933210117,851.1654668025714,807.2252709610948,887.2057809664066,812.258643679498,754.6134004817741,815.1293824806048,861.3974358997466,871.8999174052806,1229.6913325016112,1519.766244870757,1563.4942226673288,1507.3424057243856,1475.8626470779452,1475.8626470779452],\"type\":\"scatter\",\"xaxis\":\"x\",\"yaxis\":\"y\"},{\"fill\":\"tonexty\",\"fillcolor\":\"rgba(0.23137254901960785, 0.00784313725490196, 0.5019607843137255, 0.2)\",\"hoverinfo\":\"skip\",\"line\":{\"color\":\"rgba(0,0,0,0)\",\"shape\":\"hv\"},\"mode\":\"lines\",\"name\":\"Confidence band\",\"showlegend\":false,\"x\":[21,22,23,24,25,26,27,28,29,30,31,32,33,34,35,36,37,38,39,40,41,42],\"y\":[274.6356296728967,251.10259967484615,184.51752104230235,257.0015582245114,294.3218903038353,312.6114036415746,175.50564547301337,172.93668377093985,255.0194572524996,211.07926141102303,291.0597714163348,216.11263412942628,158.46739093170237,218.98337293053305,265.25142634967483,275.7539078552088,633.5453229515394,923.6202353206851,967.3482131172569,911.1963961743139,1000.9928648319043,1000.9928648319043],\"type\":\"scatter\",\"xaxis\":\"x\",\"yaxis\":\"y\"}],                        {\"height\":500.0,\"hoverlabel\":{\"bgcolor\":\"white\",\"font\":{\"size\":14}},\"legend\":{\"itemclick\":false,\"itemdoubleclick\":false,\"traceorder\":\"grouped\"},\"paper_bgcolor\":\"rgba(255,255,255,1)\",\"plot_bgcolor\":\"rgba(255,255,255,1)\",\"title\":{\"text\":\"Estimated performance \\u003cb\\u003e(DLE)\\u003c\\u002fb\\u003e\"},\"xaxis\":{\"linecolor\":\"#3b0280\",\"mirror\":true,\"showgrid\":false,\"title\":{\"text\":\"Chunk\"},\"zeroline\":false,\"anchor\":\"y\",\"domain\":[0.0,1.0],\"matches\":\"x\"},\"yaxis\":{\"linecolor\":\"#3b0280\",\"mirror\":true,\"showgrid\":false,\"title\":{\"text\":\"RMSE\"},\"zeroline\":false,\"anchor\":\"x\",\"domain\":[0.0,1.0]},\"template\":{\"data\":{\"histogram2dcontour\":[{\"type\":\"histogram2dcontour\",\"colorbar\":{\"outlinewidth\":0,\"ticks\":\"\"},\"colorscale\":[[0.0,\"#0d0887\"],[0.1111111111111111,\"#46039f\"],[0.2222222222222222,\"#7201a8\"],[0.3333333333333333,\"#9c179e\"],[0.4444444444444444,\"#bd3786\"],[0.5555555555555556,\"#d8576b\"],[0.6666666666666666,\"#ed7953\"],[0.7777777777777778,\"#fb9f3a\"],[0.8888888888888888,\"#fdca26\"],[1.0,\"#f0f921\"]]}],\"choropleth\":[{\"type\":\"choropleth\",\"colorbar\":{\"outlinewidth\":0,\"ticks\":\"\"}}],\"histogram2d\":[{\"type\":\"histogram2d\",\"colorbar\":{\"outlinewidth\":0,\"ticks\":\"\"},\"colorscale\":[[0.0,\"#0d0887\"],[0.1111111111111111,\"#46039f\"],[0.2222222222222222,\"#7201a8\"],[0.3333333333333333,\"#9c179e\"],[0.4444444444444444,\"#bd3786\"],[0.5555555555555556,\"#d8576b\"],[0.6666666666666666,\"#ed7953\"],[0.7777777777777778,\"#fb9f3a\"],[0.8888888888888888,\"#fdca26\"],[1.0,\"#f0f921\"]]}],\"heatmap\":[{\"type\":\"heatmap\",\"colorbar\":{\"outlinewidth\":0,\"ticks\":\"\"},\"colorscale\":[[0.0,\"#0d0887\"],[0.1111111111111111,\"#46039f\"],[0.2222222222222222,\"#7201a8\"],[0.3333333333333333,\"#9c179e\"],[0.4444444444444444,\"#bd3786\"],[0.5555555555555556,\"#d8576b\"],[0.6666666666666666,\"#ed7953\"],[0.7777777777777778,\"#fb9f3a\"],[0.8888888888888888,\"#fdca26\"],[1.0,\"#f0f921\"]]}],\"heatmapgl\":[{\"type\":\"heatmapgl\",\"colorbar\":{\"outlinewidth\":0,\"ticks\":\"\"},\"colorscale\":[[0.0,\"#0d0887\"],[0.1111111111111111,\"#46039f\"],[0.2222222222222222,\"#7201a8\"],[0.3333333333333333,\"#9c179e\"],[0.4444444444444444,\"#bd3786\"],[0.5555555555555556,\"#d8576b\"],[0.6666666666666666,\"#ed7953\"],[0.7777777777777778,\"#fb9f3a\"],[0.8888888888888888,\"#fdca26\"],[1.0,\"#f0f921\"]]}],\"contourcarpet\":[{\"type\":\"contourcarpet\",\"colorbar\":{\"outlinewidth\":0,\"ticks\":\"\"}}],\"contour\":[{\"type\":\"contour\",\"colorbar\":{\"outlinewidth\":0,\"ticks\":\"\"},\"colorscale\":[[0.0,\"#0d0887\"],[0.1111111111111111,\"#46039f\"],[0.2222222222222222,\"#7201a8\"],[0.3333333333333333,\"#9c179e\"],[0.4444444444444444,\"#bd3786\"],[0.5555555555555556,\"#d8576b\"],[0.6666666666666666,\"#ed7953\"],[0.7777777777777778,\"#fb9f3a\"],[0.8888888888888888,\"#fdca26\"],[1.0,\"#f0f921\"]]}],\"surface\":[{\"type\":\"surface\",\"colorbar\":{\"outlinewidth\":0,\"ticks\":\"\"},\"colorscale\":[[0.0,\"#0d0887\"],[0.1111111111111111,\"#46039f\"],[0.2222222222222222,\"#7201a8\"],[0.3333333333333333,\"#9c179e\"],[0.4444444444444444,\"#bd3786\"],[0.5555555555555556,\"#d8576b\"],[0.6666666666666666,\"#ed7953\"],[0.7777777777777778,\"#fb9f3a\"],[0.8888888888888888,\"#fdca26\"],[1.0,\"#f0f921\"]]}],\"mesh3d\":[{\"type\":\"mesh3d\",\"colorbar\":{\"outlinewidth\":0,\"ticks\":\"\"}}],\"scatter\":[{\"fillpattern\":{\"fillmode\":\"overlay\",\"size\":10,\"solidity\":0.2},\"type\":\"scatter\"}],\"parcoords\":[{\"type\":\"parcoords\",\"line\":{\"colorbar\":{\"outlinewidth\":0,\"ticks\":\"\"}}}],\"scatterpolargl\":[{\"type\":\"scatterpolargl\",\"marker\":{\"colorbar\":{\"outlinewidth\":0,\"ticks\":\"\"}}}],\"bar\":[{\"error_x\":{\"color\":\"#2a3f5f\"},\"error_y\":{\"color\":\"#2a3f5f\"},\"marker\":{\"line\":{\"color\":\"#E5ECF6\",\"width\":0.5},\"pattern\":{\"fillmode\":\"overlay\",\"size\":10,\"solidity\":0.2}},\"type\":\"bar\"}],\"scattergeo\":[{\"type\":\"scattergeo\",\"marker\":{\"colorbar\":{\"outlinewidth\":0,\"ticks\":\"\"}}}],\"scatterpolar\":[{\"type\":\"scatterpolar\",\"marker\":{\"colorbar\":{\"outlinewidth\":0,\"ticks\":\"\"}}}],\"histogram\":[{\"marker\":{\"pattern\":{\"fillmode\":\"overlay\",\"size\":10,\"solidity\":0.2}},\"type\":\"histogram\"}],\"scattergl\":[{\"type\":\"scattergl\",\"marker\":{\"colorbar\":{\"outlinewidth\":0,\"ticks\":\"\"}}}],\"scatter3d\":[{\"type\":\"scatter3d\",\"line\":{\"colorbar\":{\"outlinewidth\":0,\"ticks\":\"\"}},\"marker\":{\"colorbar\":{\"outlinewidth\":0,\"ticks\":\"\"}}}],\"scattermapbox\":[{\"type\":\"scattermapbox\",\"marker\":{\"colorbar\":{\"outlinewidth\":0,\"ticks\":\"\"}}}],\"scatterternary\":[{\"type\":\"scatterternary\",\"marker\":{\"colorbar\":{\"outlinewidth\":0,\"ticks\":\"\"}}}],\"scattercarpet\":[{\"type\":\"scattercarpet\",\"marker\":{\"colorbar\":{\"outlinewidth\":0,\"ticks\":\"\"}}}],\"carpet\":[{\"aaxis\":{\"endlinecolor\":\"#2a3f5f\",\"gridcolor\":\"white\",\"linecolor\":\"white\",\"minorgridcolor\":\"white\",\"startlinecolor\":\"#2a3f5f\"},\"baxis\":{\"endlinecolor\":\"#2a3f5f\",\"gridcolor\":\"white\",\"linecolor\":\"white\",\"minorgridcolor\":\"white\",\"startlinecolor\":\"#2a3f5f\"},\"type\":\"carpet\"}],\"table\":[{\"cells\":{\"fill\":{\"color\":\"#EBF0F8\"},\"line\":{\"color\":\"white\"}},\"header\":{\"fill\":{\"color\":\"#C8D4E3\"},\"line\":{\"color\":\"white\"}},\"type\":\"table\"}],\"barpolar\":[{\"marker\":{\"line\":{\"color\":\"#E5ECF6\",\"width\":0.5},\"pattern\":{\"fillmode\":\"overlay\",\"size\":10,\"solidity\":0.2}},\"type\":\"barpolar\"}],\"pie\":[{\"automargin\":true,\"type\":\"pie\"}]},\"layout\":{\"autotypenumbers\":\"strict\",\"colorway\":[\"#636efa\",\"#EF553B\",\"#00cc96\",\"#ab63fa\",\"#FFA15A\",\"#19d3f3\",\"#FF6692\",\"#B6E880\",\"#FF97FF\",\"#FECB52\"],\"font\":{\"color\":\"#2a3f5f\"},\"hovermode\":\"closest\",\"hoverlabel\":{\"align\":\"left\"},\"paper_bgcolor\":\"white\",\"plot_bgcolor\":\"#E5ECF6\",\"polar\":{\"bgcolor\":\"#E5ECF6\",\"angularaxis\":{\"gridcolor\":\"white\",\"linecolor\":\"white\",\"ticks\":\"\"},\"radialaxis\":{\"gridcolor\":\"white\",\"linecolor\":\"white\",\"ticks\":\"\"}},\"ternary\":{\"bgcolor\":\"#E5ECF6\",\"aaxis\":{\"gridcolor\":\"white\",\"linecolor\":\"white\",\"ticks\":\"\"},\"baxis\":{\"gridcolor\":\"white\",\"linecolor\":\"white\",\"ticks\":\"\"},\"caxis\":{\"gridcolor\":\"white\",\"linecolor\":\"white\",\"ticks\":\"\"}},\"coloraxis\":{\"colorbar\":{\"outlinewidth\":0,\"ticks\":\"\"}},\"colorscale\":{\"sequential\":[[0.0,\"#0d0887\"],[0.1111111111111111,\"#46039f\"],[0.2222222222222222,\"#7201a8\"],[0.3333333333333333,\"#9c179e\"],[0.4444444444444444,\"#bd3786\"],[0.5555555555555556,\"#d8576b\"],[0.6666666666666666,\"#ed7953\"],[0.7777777777777778,\"#fb9f3a\"],[0.8888888888888888,\"#fdca26\"],[1.0,\"#f0f921\"]],\"sequentialminus\":[[0.0,\"#0d0887\"],[0.1111111111111111,\"#46039f\"],[0.2222222222222222,\"#7201a8\"],[0.3333333333333333,\"#9c179e\"],[0.4444444444444444,\"#bd3786\"],[0.5555555555555556,\"#d8576b\"],[0.6666666666666666,\"#ed7953\"],[0.7777777777777778,\"#fb9f3a\"],[0.8888888888888888,\"#fdca26\"],[1.0,\"#f0f921\"]],\"diverging\":[[0,\"#8e0152\"],[0.1,\"#c51b7d\"],[0.2,\"#de77ae\"],[0.3,\"#f1b6da\"],[0.4,\"#fde0ef\"],[0.5,\"#f7f7f7\"],[0.6,\"#e6f5d0\"],[0.7,\"#b8e186\"],[0.8,\"#7fbc41\"],[0.9,\"#4d9221\"],[1,\"#276419\"]]},\"xaxis\":{\"gridcolor\":\"white\",\"linecolor\":\"white\",\"ticks\":\"\",\"title\":{\"standoff\":15},\"zerolinecolor\":\"white\",\"automargin\":true,\"zerolinewidth\":2},\"yaxis\":{\"gridcolor\":\"white\",\"linecolor\":\"white\",\"ticks\":\"\",\"title\":{\"standoff\":15},\"zerolinecolor\":\"white\",\"automargin\":true,\"zerolinewidth\":2},\"scene\":{\"xaxis\":{\"backgroundcolor\":\"#E5ECF6\",\"gridcolor\":\"white\",\"linecolor\":\"white\",\"showbackground\":true,\"ticks\":\"\",\"zerolinecolor\":\"white\",\"gridwidth\":2},\"yaxis\":{\"backgroundcolor\":\"#E5ECF6\",\"gridcolor\":\"white\",\"linecolor\":\"white\",\"showbackground\":true,\"ticks\":\"\",\"zerolinecolor\":\"white\",\"gridwidth\":2},\"zaxis\":{\"backgroundcolor\":\"#E5ECF6\",\"gridcolor\":\"white\",\"linecolor\":\"white\",\"showbackground\":true,\"ticks\":\"\",\"zerolinecolor\":\"white\",\"gridwidth\":2}},\"shapedefaults\":{\"line\":{\"color\":\"#2a3f5f\"}},\"annotationdefaults\":{\"arrowcolor\":\"#2a3f5f\",\"arrowhead\":0,\"arrowwidth\":1},\"geo\":{\"bgcolor\":\"white\",\"landcolor\":\"#E5ECF6\",\"subunitcolor\":\"white\",\"showland\":true,\"showlakes\":true,\"lakecolor\":\"white\"},\"title\":{\"x\":0.05},\"mapbox\":{\"style\":\"light\"}}},\"annotations\":[{\"font\":{\"size\":16},\"showarrow\":false,\"text\":\"Estimated \\u003cb\\u003eRMSE\\u003c\\u002fb\\u003e\",\"x\":0.5,\"xanchor\":\"center\",\"xref\":\"paper\",\"y\":1.0,\"yanchor\":\"bottom\",\"yref\":\"paper\"},{\"showarrow\":false,\"text\":\"Reference\",\"x\":10.0,\"xref\":\"x\",\"xshift\":10,\"y\":1.01,\"yref\":\"y domain\"},{\"showarrow\":false,\"text\":\"Analysis\",\"x\":31.0,\"xref\":\"x\",\"xshift\":15,\"y\":1.01,\"yref\":\"y domain\"}],\"shapes\":[{\"layer\":\"below\",\"line\":{\"color\":\"#666666\",\"width\":1},\"type\":\"line\",\"x0\":21,\"x1\":21,\"xref\":\"x\",\"y0\":0,\"y1\":1,\"yref\":\"y domain\"}]},                        {\"responsive\": true}                    ).then(function(){\n",
       "                            \n",
       "var gd = document.getElementById('f715866c-12d9-4609-b7de-b38ea3d9c852');\n",
       "var x = new MutationObserver(function (mutations, observer) {{\n",
       "        var display = window.getComputedStyle(gd).display;\n",
       "        if (!display || display === 'none') {{\n",
       "            console.log([gd, 'removed!']);\n",
       "            Plotly.purge(gd);\n",
       "            observer.disconnect();\n",
       "        }}\n",
       "}});\n",
       "\n",
       "// Listen for the removal of the full notebook cells\n",
       "var notebookContainer = gd.closest('#notebook-container');\n",
       "if (notebookContainer) {{\n",
       "    x.observe(notebookContainer, {childList: true});\n",
       "}}\n",
       "\n",
       "// Listen for the clearing of the current output cell\n",
       "var outputEl = gd.closest('.output');\n",
       "if (outputEl) {{\n",
       "    x.observe(outputEl, {childList: true});\n",
       "}}\n",
       "\n",
       "                        })                };                });            </script>        </div>"
      ]
     },
     "metadata": {},
     "output_type": "display_data"
    }
   ],
   "source": [
    "estimated_results.plot().show()"
   ]
  },
  {
   "cell_type": "code",
   "execution_count": 88,
   "id": "26202ee1-a822-4e55-a780-598a429fada1",
   "metadata": {},
   "outputs": [
    {
     "data": {
      "text/html": [
       "<div>\n",
       "<style scoped>\n",
       "    .dataframe tbody tr th:only-of-type {\n",
       "        vertical-align: middle;\n",
       "    }\n",
       "\n",
       "    .dataframe tbody tr th {\n",
       "        vertical-align: top;\n",
       "    }\n",
       "\n",
       "    .dataframe thead tr th {\n",
       "        text-align: left;\n",
       "    }\n",
       "</style>\n",
       "<table border=\"1\" class=\"dataframe\">\n",
       "  <thead>\n",
       "    <tr>\n",
       "      <th></th>\n",
       "      <th colspan=\"7\" halign=\"left\">chunk</th>\n",
       "      <th colspan=\"8\" halign=\"left\">rmse</th>\n",
       "    </tr>\n",
       "    <tr>\n",
       "      <th></th>\n",
       "      <th>key</th>\n",
       "      <th>chunk_index</th>\n",
       "      <th>start_index</th>\n",
       "      <th>end_index</th>\n",
       "      <th>start_date</th>\n",
       "      <th>end_date</th>\n",
       "      <th>period</th>\n",
       "      <th>sampling_error</th>\n",
       "      <th>realized</th>\n",
       "      <th>value</th>\n",
       "      <th>upper_confidence_boundary</th>\n",
       "      <th>lower_confidence_boundary</th>\n",
       "      <th>upper_threshold</th>\n",
       "      <th>lower_threshold</th>\n",
       "      <th>alert</th>\n",
       "    </tr>\n",
       "  </thead>\n",
       "  <tbody>\n",
       "    <tr>\n",
       "      <th>0</th>\n",
       "      <td>[0:249]</td>\n",
       "      <td>0</td>\n",
       "      <td>0</td>\n",
       "      <td>249</td>\n",
       "      <td>None</td>\n",
       "      <td>None</td>\n",
       "      <td>reference</td>\n",
       "      <td>99.357668</td>\n",
       "      <td>616.653209</td>\n",
       "      <td>567.595667</td>\n",
       "      <td>865.668672</td>\n",
       "      <td>269.522663</td>\n",
       "      <td>806.923566</td>\n",
       "      <td>234.318833</td>\n",
       "      <td>False</td>\n",
       "    </tr>\n",
       "    <tr>\n",
       "      <th>1</th>\n",
       "      <td>[250:499]</td>\n",
       "      <td>1</td>\n",
       "      <td>250</td>\n",
       "      <td>499</td>\n",
       "      <td>None</td>\n",
       "      <td>None</td>\n",
       "      <td>reference</td>\n",
       "      <td>99.357668</td>\n",
       "      <td>666.111476</td>\n",
       "      <td>648.894486</td>\n",
       "      <td>946.967491</td>\n",
       "      <td>350.821481</td>\n",
       "      <td>806.923566</td>\n",
       "      <td>234.318833</td>\n",
       "      <td>False</td>\n",
       "    </tr>\n",
       "    <tr>\n",
       "      <th>2</th>\n",
       "      <td>[500:749]</td>\n",
       "      <td>2</td>\n",
       "      <td>500</td>\n",
       "      <td>749</td>\n",
       "      <td>None</td>\n",
       "      <td>None</td>\n",
       "      <td>reference</td>\n",
       "      <td>99.357668</td>\n",
       "      <td>569.264836</td>\n",
       "      <td>564.681194</td>\n",
       "      <td>862.754199</td>\n",
       "      <td>266.608189</td>\n",
       "      <td>806.923566</td>\n",
       "      <td>234.318833</td>\n",
       "      <td>False</td>\n",
       "    </tr>\n",
       "    <tr>\n",
       "      <th>3</th>\n",
       "      <td>[750:999]</td>\n",
       "      <td>3</td>\n",
       "      <td>750</td>\n",
       "      <td>999</td>\n",
       "      <td>None</td>\n",
       "      <td>None</td>\n",
       "      <td>reference</td>\n",
       "      <td>99.357668</td>\n",
       "      <td>590.023921</td>\n",
       "      <td>591.481304</td>\n",
       "      <td>889.554309</td>\n",
       "      <td>293.408299</td>\n",
       "      <td>806.923566</td>\n",
       "      <td>234.318833</td>\n",
       "      <td>False</td>\n",
       "    </tr>\n",
       "    <tr>\n",
       "      <th>4</th>\n",
       "      <td>[1000:1249]</td>\n",
       "      <td>4</td>\n",
       "      <td>1000</td>\n",
       "      <td>1249</td>\n",
       "      <td>None</td>\n",
       "      <td>None</td>\n",
       "      <td>reference</td>\n",
       "      <td>99.357668</td>\n",
       "      <td>372.993464</td>\n",
       "      <td>428.166806</td>\n",
       "      <td>726.239811</td>\n",
       "      <td>130.093802</td>\n",
       "      <td>806.923566</td>\n",
       "      <td>234.318833</td>\n",
       "      <td>False</td>\n",
       "    </tr>\n",
       "  </tbody>\n",
       "</table>\n",
       "</div>"
      ],
      "text/plain": [
       "         chunk                                                        \\\n",
       "           key chunk_index start_index end_index start_date end_date   \n",
       "0      [0:249]           0           0       249       None     None   \n",
       "1    [250:499]           1         250       499       None     None   \n",
       "2    [500:749]           2         500       749       None     None   \n",
       "3    [750:999]           3         750       999       None     None   \n",
       "4  [1000:1249]           4        1000      1249       None     None   \n",
       "\n",
       "                       rmse                                                    \\\n",
       "      period sampling_error    realized       value upper_confidence_boundary   \n",
       "0  reference      99.357668  616.653209  567.595667                865.668672   \n",
       "1  reference      99.357668  666.111476  648.894486                946.967491   \n",
       "2  reference      99.357668  569.264836  564.681194                862.754199   \n",
       "3  reference      99.357668  590.023921  591.481304                889.554309   \n",
       "4  reference      99.357668  372.993464  428.166806                726.239811   \n",
       "\n",
       "                                                                    \n",
       "  lower_confidence_boundary upper_threshold lower_threshold  alert  \n",
       "0                269.522663      806.923566      234.318833  False  \n",
       "1                350.821481      806.923566      234.318833  False  \n",
       "2                266.608189      806.923566      234.318833  False  \n",
       "3                293.408299      806.923566      234.318833  False  \n",
       "4                130.093802      806.923566      234.318833  False  "
      ]
     },
     "execution_count": 88,
     "metadata": {},
     "output_type": "execute_result"
    }
   ],
   "source": [
    "estimated_results.to_df().head()"
   ]
  },
  {
   "cell_type": "markdown",
   "id": "441a42d7-81b0-4aa1-bacc-f6af24fd689a",
   "metadata": {},
   "source": [
    "Important columsn: chunk index, period, alert"
   ]
  },
  {
   "cell_type": "code",
   "execution_count": 89,
   "id": "117faf1a-e699-4099-a8fe-4c87608d6bbe",
   "metadata": {},
   "outputs": [
    {
     "data": {
      "text/html": [
       "<div>\n",
       "<style scoped>\n",
       "    .dataframe tbody tr th:only-of-type {\n",
       "        vertical-align: middle;\n",
       "    }\n",
       "\n",
       "    .dataframe tbody tr th {\n",
       "        vertical-align: top;\n",
       "    }\n",
       "\n",
       "    .dataframe thead tr th {\n",
       "        text-align: left;\n",
       "    }\n",
       "</style>\n",
       "<table border=\"1\" class=\"dataframe\">\n",
       "  <thead>\n",
       "    <tr>\n",
       "      <th></th>\n",
       "      <th colspan=\"7\" halign=\"left\">chunk</th>\n",
       "      <th colspan=\"8\" halign=\"left\">rmse</th>\n",
       "    </tr>\n",
       "    <tr>\n",
       "      <th></th>\n",
       "      <th>key</th>\n",
       "      <th>chunk_index</th>\n",
       "      <th>start_index</th>\n",
       "      <th>end_index</th>\n",
       "      <th>start_date</th>\n",
       "      <th>end_date</th>\n",
       "      <th>period</th>\n",
       "      <th>sampling_error</th>\n",
       "      <th>realized</th>\n",
       "      <th>value</th>\n",
       "      <th>upper_confidence_boundary</th>\n",
       "      <th>lower_confidence_boundary</th>\n",
       "      <th>upper_threshold</th>\n",
       "      <th>lower_threshold</th>\n",
       "      <th>alert</th>\n",
       "    </tr>\n",
       "  </thead>\n",
       "  <tbody>\n",
       "    <tr>\n",
       "      <th>0</th>\n",
       "      <td>[0:249]</td>\n",
       "      <td>0</td>\n",
       "      <td>0</td>\n",
       "      <td>249</td>\n",
       "      <td>None</td>\n",
       "      <td>None</td>\n",
       "      <td>analysis</td>\n",
       "      <td>99.357668</td>\n",
       "      <td>497.278867</td>\n",
       "      <td>572.708634</td>\n",
       "      <td>870.781639</td>\n",
       "      <td>274.635630</td>\n",
       "      <td>806.923566</td>\n",
       "      <td>234.318833</td>\n",
       "      <td>False</td>\n",
       "    </tr>\n",
       "    <tr>\n",
       "      <th>1</th>\n",
       "      <td>[250:499]</td>\n",
       "      <td>1</td>\n",
       "      <td>250</td>\n",
       "      <td>499</td>\n",
       "      <td>None</td>\n",
       "      <td>None</td>\n",
       "      <td>analysis</td>\n",
       "      <td>99.357668</td>\n",
       "      <td>461.399790</td>\n",
       "      <td>549.175604</td>\n",
       "      <td>847.248609</td>\n",
       "      <td>251.102600</td>\n",
       "      <td>806.923566</td>\n",
       "      <td>234.318833</td>\n",
       "      <td>False</td>\n",
       "    </tr>\n",
       "    <tr>\n",
       "      <th>2</th>\n",
       "      <td>[500:749]</td>\n",
       "      <td>2</td>\n",
       "      <td>500</td>\n",
       "      <td>749</td>\n",
       "      <td>None</td>\n",
       "      <td>None</td>\n",
       "      <td>analysis</td>\n",
       "      <td>99.357668</td>\n",
       "      <td>500.822399</td>\n",
       "      <td>482.590526</td>\n",
       "      <td>780.663531</td>\n",
       "      <td>184.517521</td>\n",
       "      <td>806.923566</td>\n",
       "      <td>234.318833</td>\n",
       "      <td>False</td>\n",
       "    </tr>\n",
       "    <tr>\n",
       "      <th>3</th>\n",
       "      <td>[750:999]</td>\n",
       "      <td>3</td>\n",
       "      <td>750</td>\n",
       "      <td>999</td>\n",
       "      <td>None</td>\n",
       "      <td>None</td>\n",
       "      <td>analysis</td>\n",
       "      <td>99.357668</td>\n",
       "      <td>531.479980</td>\n",
       "      <td>555.074563</td>\n",
       "      <td>853.147568</td>\n",
       "      <td>257.001558</td>\n",
       "      <td>806.923566</td>\n",
       "      <td>234.318833</td>\n",
       "      <td>False</td>\n",
       "    </tr>\n",
       "    <tr>\n",
       "      <th>4</th>\n",
       "      <td>[1000:1249]</td>\n",
       "      <td>4</td>\n",
       "      <td>1000</td>\n",
       "      <td>1249</td>\n",
       "      <td>None</td>\n",
       "      <td>None</td>\n",
       "      <td>analysis</td>\n",
       "      <td>99.357668</td>\n",
       "      <td>514.701961</td>\n",
       "      <td>592.394895</td>\n",
       "      <td>890.467900</td>\n",
       "      <td>294.321890</td>\n",
       "      <td>806.923566</td>\n",
       "      <td>234.318833</td>\n",
       "      <td>False</td>\n",
       "    </tr>\n",
       "  </tbody>\n",
       "</table>\n",
       "</div>"
      ],
      "text/plain": [
       "         chunk                                                        \\\n",
       "           key chunk_index start_index end_index start_date end_date   \n",
       "0      [0:249]           0           0       249       None     None   \n",
       "1    [250:499]           1         250       499       None     None   \n",
       "2    [500:749]           2         500       749       None     None   \n",
       "3    [750:999]           3         750       999       None     None   \n",
       "4  [1000:1249]           4        1000      1249       None     None   \n",
       "\n",
       "                      rmse                                                    \\\n",
       "     period sampling_error    realized       value upper_confidence_boundary   \n",
       "0  analysis      99.357668  497.278867  572.708634                870.781639   \n",
       "1  analysis      99.357668  461.399790  549.175604                847.248609   \n",
       "2  analysis      99.357668  500.822399  482.590526                780.663531   \n",
       "3  analysis      99.357668  531.479980  555.074563                853.147568   \n",
       "4  analysis      99.357668  514.701961  592.394895                890.467900   \n",
       "\n",
       "                                                                    \n",
       "  lower_confidence_boundary upper_threshold lower_threshold  alert  \n",
       "0                274.635630      806.923566      234.318833  False  \n",
       "1                251.102600      806.923566      234.318833  False  \n",
       "2                184.517521      806.923566      234.318833  False  \n",
       "3                257.001558      806.923566      234.318833  False  \n",
       "4                294.321890      806.923566      234.318833  False  "
      ]
     },
     "execution_count": 89,
     "metadata": {},
     "output_type": "execute_result"
    }
   ],
   "source": [
    "estimated_results.filter(period=\"analysis\").to_df().head()"
   ]
  },
  {
   "cell_type": "code",
   "execution_count": 90,
   "id": "cb3a0aa8-1590-4c41-8e75-40fe86b6f3ce",
   "metadata": {},
   "outputs": [
    {
     "data": {
      "text/html": [
       "<div>\n",
       "<style scoped>\n",
       "    .dataframe tbody tr th:only-of-type {\n",
       "        vertical-align: middle;\n",
       "    }\n",
       "\n",
       "    .dataframe tbody tr th {\n",
       "        vertical-align: top;\n",
       "    }\n",
       "\n",
       "    .dataframe thead tr th {\n",
       "        text-align: left;\n",
       "    }\n",
       "</style>\n",
       "<table border=\"1\" class=\"dataframe\">\n",
       "  <thead>\n",
       "    <tr>\n",
       "      <th></th>\n",
       "      <th colspan=\"7\" halign=\"left\">chunk</th>\n",
       "      <th colspan=\"8\" halign=\"left\">rmse</th>\n",
       "    </tr>\n",
       "    <tr>\n",
       "      <th></th>\n",
       "      <th>key</th>\n",
       "      <th>chunk_index</th>\n",
       "      <th>start_index</th>\n",
       "      <th>end_index</th>\n",
       "      <th>start_date</th>\n",
       "      <th>end_date</th>\n",
       "      <th>period</th>\n",
       "      <th>sampling_error</th>\n",
       "      <th>realized</th>\n",
       "      <th>value</th>\n",
       "      <th>upper_confidence_boundary</th>\n",
       "      <th>lower_confidence_boundary</th>\n",
       "      <th>upper_threshold</th>\n",
       "      <th>lower_threshold</th>\n",
       "      <th>alert</th>\n",
       "    </tr>\n",
       "  </thead>\n",
       "  <tbody>\n",
       "    <tr>\n",
       "      <th>0</th>\n",
       "      <td>[0:249]</td>\n",
       "      <td>0</td>\n",
       "      <td>0</td>\n",
       "      <td>249</td>\n",
       "      <td>None</td>\n",
       "      <td>None</td>\n",
       "      <td>reference</td>\n",
       "      <td>99.357668</td>\n",
       "      <td>616.653209</td>\n",
       "      <td>567.595667</td>\n",
       "      <td>865.668672</td>\n",
       "      <td>269.522663</td>\n",
       "      <td>806.923566</td>\n",
       "      <td>234.318833</td>\n",
       "      <td>False</td>\n",
       "    </tr>\n",
       "    <tr>\n",
       "      <th>1</th>\n",
       "      <td>[250:499]</td>\n",
       "      <td>1</td>\n",
       "      <td>250</td>\n",
       "      <td>499</td>\n",
       "      <td>None</td>\n",
       "      <td>None</td>\n",
       "      <td>reference</td>\n",
       "      <td>99.357668</td>\n",
       "      <td>666.111476</td>\n",
       "      <td>648.894486</td>\n",
       "      <td>946.967491</td>\n",
       "      <td>350.821481</td>\n",
       "      <td>806.923566</td>\n",
       "      <td>234.318833</td>\n",
       "      <td>False</td>\n",
       "    </tr>\n",
       "    <tr>\n",
       "      <th>2</th>\n",
       "      <td>[500:749]</td>\n",
       "      <td>2</td>\n",
       "      <td>500</td>\n",
       "      <td>749</td>\n",
       "      <td>None</td>\n",
       "      <td>None</td>\n",
       "      <td>reference</td>\n",
       "      <td>99.357668</td>\n",
       "      <td>569.264836</td>\n",
       "      <td>564.681194</td>\n",
       "      <td>862.754199</td>\n",
       "      <td>266.608189</td>\n",
       "      <td>806.923566</td>\n",
       "      <td>234.318833</td>\n",
       "      <td>False</td>\n",
       "    </tr>\n",
       "    <tr>\n",
       "      <th>3</th>\n",
       "      <td>[750:999]</td>\n",
       "      <td>3</td>\n",
       "      <td>750</td>\n",
       "      <td>999</td>\n",
       "      <td>None</td>\n",
       "      <td>None</td>\n",
       "      <td>reference</td>\n",
       "      <td>99.357668</td>\n",
       "      <td>590.023921</td>\n",
       "      <td>591.481304</td>\n",
       "      <td>889.554309</td>\n",
       "      <td>293.408299</td>\n",
       "      <td>806.923566</td>\n",
       "      <td>234.318833</td>\n",
       "      <td>False</td>\n",
       "    </tr>\n",
       "    <tr>\n",
       "      <th>4</th>\n",
       "      <td>[1000:1249]</td>\n",
       "      <td>4</td>\n",
       "      <td>1000</td>\n",
       "      <td>1249</td>\n",
       "      <td>None</td>\n",
       "      <td>None</td>\n",
       "      <td>reference</td>\n",
       "      <td>99.357668</td>\n",
       "      <td>372.993464</td>\n",
       "      <td>428.166806</td>\n",
       "      <td>726.239811</td>\n",
       "      <td>130.093802</td>\n",
       "      <td>806.923566</td>\n",
       "      <td>234.318833</td>\n",
       "      <td>False</td>\n",
       "    </tr>\n",
       "  </tbody>\n",
       "</table>\n",
       "</div>"
      ],
      "text/plain": [
       "         chunk                                                        \\\n",
       "           key chunk_index start_index end_index start_date end_date   \n",
       "0      [0:249]           0           0       249       None     None   \n",
       "1    [250:499]           1         250       499       None     None   \n",
       "2    [500:749]           2         500       749       None     None   \n",
       "3    [750:999]           3         750       999       None     None   \n",
       "4  [1000:1249]           4        1000      1249       None     None   \n",
       "\n",
       "                       rmse                                                    \\\n",
       "      period sampling_error    realized       value upper_confidence_boundary   \n",
       "0  reference      99.357668  616.653209  567.595667                865.668672   \n",
       "1  reference      99.357668  666.111476  648.894486                946.967491   \n",
       "2  reference      99.357668  569.264836  564.681194                862.754199   \n",
       "3  reference      99.357668  590.023921  591.481304                889.554309   \n",
       "4  reference      99.357668  372.993464  428.166806                726.239811   \n",
       "\n",
       "                                                                    \n",
       "  lower_confidence_boundary upper_threshold lower_threshold  alert  \n",
       "0                269.522663      806.923566      234.318833  False  \n",
       "1                350.821481      806.923566      234.318833  False  \n",
       "2                266.608189      806.923566      234.318833  False  \n",
       "3                293.408299      806.923566      234.318833  False  \n",
       "4                130.093802      806.923566      234.318833  False  "
      ]
     },
     "execution_count": 90,
     "metadata": {},
     "output_type": "execute_result"
    }
   ],
   "source": [
    "estimated_results.filter(metrics=[\"rmse\"]).to_df().head()"
   ]
  },
  {
   "cell_type": "markdown",
   "id": "02843340-66d9-40ed-a67b-7998929e87ae",
   "metadata": {},
   "source": [
    "### Calculating realized performance"
   ]
  },
  {
   "cell_type": "code",
   "execution_count": 91,
   "id": "8d17ebd6-0a1d-4d07-a02a-b1b2438b88ad",
   "metadata": {},
   "outputs": [],
   "source": [
    "calculator = nannyml.PerformanceCalculator(\n",
    "    problem_type=\"regression\",\n",
    "    y_true=target,\n",
    "    y_pred=\"y_pred\",\n",
    "    metrics=[\"rmse\"],\n",
    "    chunk_size=250,\n",
    ")\n",
    "\n",
    "calculator.fit(reference)\n",
    "realized_results = calculator.calculate(analysis)"
   ]
  },
  {
   "cell_type": "code",
   "execution_count": 92,
   "id": "8bf83936-8454-409f-a7c2-81499394b5c7",
   "metadata": {
    "scrolled": true
   },
   "outputs": [
    {
     "data": {
      "application/vnd.plotly.v1+json": {
       "config": {
        "plotlyServerURL": "https://plot.ly"
       },
       "data": [
        {
         "hoverinfo": "skip",
         "line": {
          "color": "#3b0280",
          "dash": "dash",
          "shape": "hv",
          "width": 2
         },
         "mode": "lines",
         "name": "<b>RMSE</b> (estimated RMSE)",
         "showlegend": true,
         "type": "scatter",
         "x": [
          0,
          1,
          2,
          3,
          4,
          5,
          6,
          7,
          8,
          9,
          10,
          11,
          12,
          13,
          14,
          15,
          16,
          17,
          18,
          19,
          20,
          21
         ],
         "xaxis": "x",
         "y": [
          567.595667298751,
          648.8944858473601,
          564.6811939878063,
          591.481303895541,
          428.16680632342224,
          485.67593674274764,
          496.849452288195,
          487.8186980891766,
          562.3019021714772,
          514.3396979592592,
          507.206860180168,
          521.999760693339,
          522.9920312083227,
          498.0095455791483,
          464.9452828852687,
          521.8626019502906,
          646.1655729717955,
          501.76268332016815,
          543.0416670453261,
          604.9343558633868,
          446.0060233992042,
          446.0060233992042
         ],
         "yaxis": "y"
        },
        {
         "customdata": [
          [
           "<b>RMSE</b> (estimated RMSE)",
           "<b style=\"color:Colors.INDIGO_PERSIAN;line-height:60px\">Reference</b>",
           "[0:249]",
           "Chunk index: <b>0</b>",
           567.5957
          ],
          [
           "<b>RMSE</b> (estimated RMSE)",
           "<b style=\"color:Colors.INDIGO_PERSIAN;line-height:60px\">Reference</b>",
           "[250:499]",
           "Chunk index: <b>1</b>",
           648.8945
          ],
          [
           "<b>RMSE</b> (estimated RMSE)",
           "<b style=\"color:Colors.INDIGO_PERSIAN;line-height:60px\">Reference</b>",
           "[500:749]",
           "Chunk index: <b>2</b>",
           564.6812
          ],
          [
           "<b>RMSE</b> (estimated RMSE)",
           "<b style=\"color:Colors.INDIGO_PERSIAN;line-height:60px\">Reference</b>",
           "[750:999]",
           "Chunk index: <b>3</b>",
           591.4813
          ],
          [
           "<b>RMSE</b> (estimated RMSE)",
           "<b style=\"color:Colors.INDIGO_PERSIAN;line-height:60px\">Reference</b>",
           "[1000:1249]",
           "Chunk index: <b>4</b>",
           428.1668
          ],
          [
           "<b>RMSE</b> (estimated RMSE)",
           "<b style=\"color:Colors.INDIGO_PERSIAN;line-height:60px\">Reference</b>",
           "[1250:1499]",
           "Chunk index: <b>5</b>",
           485.6759
          ],
          [
           "<b>RMSE</b> (estimated RMSE)",
           "<b style=\"color:Colors.INDIGO_PERSIAN;line-height:60px\">Reference</b>",
           "[1500:1749]",
           "Chunk index: <b>6</b>",
           496.8495
          ],
          [
           "<b>RMSE</b> (estimated RMSE)",
           "<b style=\"color:Colors.INDIGO_PERSIAN;line-height:60px\">Reference</b>",
           "[1750:1999]",
           "Chunk index: <b>7</b>",
           487.8187
          ],
          [
           "<b>RMSE</b> (estimated RMSE)",
           "<b style=\"color:Colors.INDIGO_PERSIAN;line-height:60px\">Reference</b>",
           "[2000:2249]",
           "Chunk index: <b>8</b>",
           562.3019
          ],
          [
           "<b>RMSE</b> (estimated RMSE)",
           "<b style=\"color:Colors.INDIGO_PERSIAN;line-height:60px\">Reference</b>",
           "[2250:2499]",
           "Chunk index: <b>9</b>",
           514.3397
          ],
          [
           "<b>RMSE</b> (estimated RMSE)",
           "<b style=\"color:Colors.INDIGO_PERSIAN;line-height:60px\">Reference</b>",
           "[2500:2749]",
           "Chunk index: <b>10</b>",
           507.2069
          ],
          [
           "<b>RMSE</b> (estimated RMSE)",
           "<b style=\"color:Colors.INDIGO_PERSIAN;line-height:60px\">Reference</b>",
           "[2750:2999]",
           "Chunk index: <b>11</b>",
           521.9998
          ],
          [
           "<b>RMSE</b> (estimated RMSE)",
           "<b style=\"color:Colors.INDIGO_PERSIAN;line-height:60px\">Reference</b>",
           "[3000:3249]",
           "Chunk index: <b>12</b>",
           522.992
          ],
          [
           "<b>RMSE</b> (estimated RMSE)",
           "<b style=\"color:Colors.INDIGO_PERSIAN;line-height:60px\">Reference</b>",
           "[3250:3499]",
           "Chunk index: <b>13</b>",
           498.0095
          ],
          [
           "<b>RMSE</b> (estimated RMSE)",
           "<b style=\"color:Colors.INDIGO_PERSIAN;line-height:60px\">Reference</b>",
           "[3500:3749]",
           "Chunk index: <b>14</b>",
           464.9453
          ],
          [
           "<b>RMSE</b> (estimated RMSE)",
           "<b style=\"color:Colors.INDIGO_PERSIAN;line-height:60px\">Reference</b>",
           "[3750:3999]",
           "Chunk index: <b>15</b>",
           521.8626
          ],
          [
           "<b>RMSE</b> (estimated RMSE)",
           "<b style=\"color:Colors.INDIGO_PERSIAN;line-height:60px\">Reference</b>",
           "[4000:4249]",
           "Chunk index: <b>16</b>",
           646.1656
          ],
          [
           "<b>RMSE</b> (estimated RMSE)",
           "<b style=\"color:Colors.INDIGO_PERSIAN;line-height:60px\">Reference</b>",
           "[4250:4499]",
           "Chunk index: <b>17</b>",
           501.7627
          ],
          [
           "<b>RMSE</b> (estimated RMSE)",
           "<b style=\"color:Colors.INDIGO_PERSIAN;line-height:60px\">Reference</b>",
           "[4500:4749]",
           "Chunk index: <b>18</b>",
           543.0417
          ],
          [
           "<b>RMSE</b> (estimated RMSE)",
           "<b style=\"color:Colors.INDIGO_PERSIAN;line-height:60px\">Reference</b>",
           "[4750:4999]",
           "Chunk index: <b>19</b>",
           604.9344
          ],
          [
           "<b>RMSE</b> (estimated RMSE)",
           "<b style=\"color:Colors.INDIGO_PERSIAN;line-height:60px\">Reference</b>",
           "[5000:5393]",
           "Chunk index: <b>20</b>",
           446.006
          ]
         ],
         "hovertemplate": "%{customdata[1]}<br />Chunk: <b>%{customdata[2]}</b> &nbsp; &nbsp; %{customdata[3]} <br />%{customdata[0]}: <b>%{customdata[4]}</b><br /><extra></extra>",
         "line": {
          "dash": "dash"
         },
         "marker": {
          "color": "#3b0280",
          "size": 5,
          "symbol": "circle"
         },
         "mode": "markers",
         "name": "<b>RMSE</b> (estimated RMSE)",
         "showlegend": false,
         "type": "scatter",
         "x": [
          0.5,
          1.5,
          2.5,
          3.5,
          4.5,
          5.5,
          6.5,
          7.5,
          8.5,
          9.5,
          10.5,
          11.5,
          12.5,
          13.5,
          14.5,
          15.5,
          16.5,
          17.5,
          18.5,
          19.5,
          20.5
         ],
         "xaxis": "x",
         "y": [
          567.595667298751,
          648.8944858473601,
          564.6811939878063,
          591.481303895541,
          428.16680632342224,
          485.67593674274764,
          496.849452288195,
          487.8186980891766,
          562.3019021714772,
          514.3396979592592,
          507.206860180168,
          521.999760693339,
          522.9920312083227,
          498.0095455791483,
          464.9452828852687,
          521.8626019502906,
          646.1655729717955,
          501.76268332016815,
          543.0416670453261,
          604.9343558633868,
          446.0060233992042,
          446.0060233992042
         ],
         "yaxis": "y"
        },
        {
         "hoverinfo": "skip",
         "line": {
          "color": "rgba(0, 0, 0, 0)",
          "dash": "dash",
          "shape": "hv"
         },
         "mode": "lines",
         "name": "Confidence band",
         "showlegend": false,
         "type": "scatter",
         "x": [
          0,
          1,
          2,
          3,
          4,
          5,
          6,
          7,
          8,
          9,
          10,
          11,
          12,
          13,
          14,
          15,
          16,
          17,
          18,
          19,
          20,
          21
         ],
         "xaxis": "x",
         "y": [
          865.6686720737869,
          946.967490622396,
          862.7541987628422,
          889.5543086705769,
          726.2398110984582,
          783.7489415177836,
          794.9224570632309,
          785.8917028642124,
          860.3749069465131,
          812.4127027342951,
          805.279864955204,
          820.0727654683749,
          821.0650359833586,
          796.0825503541841,
          763.0182876603046,
          819.9356067253265,
          944.2385777468314,
          799.835688095204,
          841.114671820362,
          903.0073606384227,
          683.4409145222247,
          683.4409145222247
         ],
         "yaxis": "y"
        },
        {
         "fill": "tonexty",
         "fillcolor": "rgba(59, 2, 128, 0.2)",
         "hoverinfo": "skip",
         "line": {
          "color": "rgba(0, 0, 0, 0)",
          "dash": "dash",
          "shape": "hv"
         },
         "mode": "lines",
         "name": "Confidence band",
         "showlegend": true,
         "type": "scatter",
         "x": [
          0,
          1,
          2,
          3,
          4,
          5,
          6,
          7,
          8,
          9,
          10,
          11,
          12,
          13,
          14,
          15,
          16,
          17,
          18,
          19,
          20,
          21
         ],
         "xaxis": "x",
         "y": [
          269.5226625237151,
          350.8214810723242,
          266.6081892127704,
          293.40829912050515,
          130.09380154838635,
          187.60293196771175,
          198.7764475131591,
          189.74569331414074,
          264.2288973964413,
          216.2666931842233,
          209.13385540513212,
          223.92675591830312,
          224.91902643328683,
          199.93654080411244,
          166.8722781102328,
          223.7895971752547,
          348.09256819675966,
          203.68967854513227,
          244.96866227029022,
          306.86135108835094,
          208.5711322761837,
          208.5711322761837
         ],
         "yaxis": "y"
        },
        {
         "hoverinfo": "skip",
         "line": {
          "color": "#00c8e5",
          "shape": "hv",
          "width": 2
         },
         "mode": "lines",
         "name": "<b>RMSE</b> (realized RMSE)",
         "showlegend": true,
         "type": "scatter",
         "x": [
          0,
          1,
          2,
          3,
          4,
          5,
          6,
          7,
          8,
          9,
          10,
          11,
          12,
          13,
          14,
          15,
          16,
          17,
          18,
          19,
          20,
          21
         ],
         "xaxis": "x",
         "y": [
          616.6532091011874,
          666.1114762012899,
          569.2648360907617,
          590.0239205256347,
          372.99346386997354,
          431.4322760129166,
          447.8504166610995,
          440.83897856346607,
          534.8503772616326,
          502.57266271536383,
          531.5404151753644,
          557.380781347486,
          560.7555713272176,
          436.6457075799727,
          453.2526238798875,
          480.59858565770753,
          794.5359112074308,
          512.4959795977219,
          445.33188032223575,
          575.4806863384634,
          412.43543126123456,
          412.43543126123456
         ],
         "yaxis": "y"
        },
        {
         "customdata": [
          [
           "<b>RMSE</b>",
           "<b style=\"color:Colors.BLUE_SKY_CRAYOLA;line-height:60px\">Reference</b>",
           "[0:249]",
           "Chunk index: <b>0</b>",
           616.6532
          ],
          [
           "<b>RMSE</b>",
           "<b style=\"color:Colors.BLUE_SKY_CRAYOLA;line-height:60px\">Reference</b>",
           "[250:499]",
           "Chunk index: <b>1</b>",
           666.1115
          ],
          [
           "<b>RMSE</b>",
           "<b style=\"color:Colors.BLUE_SKY_CRAYOLA;line-height:60px\">Reference</b>",
           "[500:749]",
           "Chunk index: <b>2</b>",
           569.2648
          ],
          [
           "<b>RMSE</b>",
           "<b style=\"color:Colors.BLUE_SKY_CRAYOLA;line-height:60px\">Reference</b>",
           "[750:999]",
           "Chunk index: <b>3</b>",
           590.0239
          ],
          [
           "<b>RMSE</b>",
           "<b style=\"color:Colors.BLUE_SKY_CRAYOLA;line-height:60px\">Reference</b>",
           "[1000:1249]",
           "Chunk index: <b>4</b>",
           372.9935
          ],
          [
           "<b>RMSE</b>",
           "<b style=\"color:Colors.BLUE_SKY_CRAYOLA;line-height:60px\">Reference</b>",
           "[1250:1499]",
           "Chunk index: <b>5</b>",
           431.4323
          ],
          [
           "<b>RMSE</b>",
           "<b style=\"color:Colors.BLUE_SKY_CRAYOLA;line-height:60px\">Reference</b>",
           "[1500:1749]",
           "Chunk index: <b>6</b>",
           447.8504
          ],
          [
           "<b>RMSE</b>",
           "<b style=\"color:Colors.BLUE_SKY_CRAYOLA;line-height:60px\">Reference</b>",
           "[1750:1999]",
           "Chunk index: <b>7</b>",
           440.839
          ],
          [
           "<b>RMSE</b>",
           "<b style=\"color:Colors.BLUE_SKY_CRAYOLA;line-height:60px\">Reference</b>",
           "[2000:2249]",
           "Chunk index: <b>8</b>",
           534.8504
          ],
          [
           "<b>RMSE</b>",
           "<b style=\"color:Colors.BLUE_SKY_CRAYOLA;line-height:60px\">Reference</b>",
           "[2250:2499]",
           "Chunk index: <b>9</b>",
           502.5727
          ],
          [
           "<b>RMSE</b>",
           "<b style=\"color:Colors.BLUE_SKY_CRAYOLA;line-height:60px\">Reference</b>",
           "[2500:2749]",
           "Chunk index: <b>10</b>",
           531.5404
          ],
          [
           "<b>RMSE</b>",
           "<b style=\"color:Colors.BLUE_SKY_CRAYOLA;line-height:60px\">Reference</b>",
           "[2750:2999]",
           "Chunk index: <b>11</b>",
           557.3808
          ],
          [
           "<b>RMSE</b>",
           "<b style=\"color:Colors.BLUE_SKY_CRAYOLA;line-height:60px\">Reference</b>",
           "[3000:3249]",
           "Chunk index: <b>12</b>",
           560.7556
          ],
          [
           "<b>RMSE</b>",
           "<b style=\"color:Colors.BLUE_SKY_CRAYOLA;line-height:60px\">Reference</b>",
           "[3250:3499]",
           "Chunk index: <b>13</b>",
           436.6457
          ],
          [
           "<b>RMSE</b>",
           "<b style=\"color:Colors.BLUE_SKY_CRAYOLA;line-height:60px\">Reference</b>",
           "[3500:3749]",
           "Chunk index: <b>14</b>",
           453.2526
          ],
          [
           "<b>RMSE</b>",
           "<b style=\"color:Colors.BLUE_SKY_CRAYOLA;line-height:60px\">Reference</b>",
           "[3750:3999]",
           "Chunk index: <b>15</b>",
           480.5986
          ],
          [
           "<b>RMSE</b>",
           "<b style=\"color:Colors.BLUE_SKY_CRAYOLA;line-height:60px\">Reference</b>",
           "[4000:4249]",
           "Chunk index: <b>16</b>",
           794.5359
          ],
          [
           "<b>RMSE</b>",
           "<b style=\"color:Colors.BLUE_SKY_CRAYOLA;line-height:60px\">Reference</b>",
           "[4250:4499]",
           "Chunk index: <b>17</b>",
           512.496
          ],
          [
           "<b>RMSE</b>",
           "<b style=\"color:Colors.BLUE_SKY_CRAYOLA;line-height:60px\">Reference</b>",
           "[4500:4749]",
           "Chunk index: <b>18</b>",
           445.3319
          ],
          [
           "<b>RMSE</b>",
           "<b style=\"color:Colors.BLUE_SKY_CRAYOLA;line-height:60px\">Reference</b>",
           "[4750:4999]",
           "Chunk index: <b>19</b>",
           575.4807
          ],
          [
           "<b>RMSE</b>",
           "<b style=\"color:Colors.BLUE_SKY_CRAYOLA;line-height:60px\">Reference</b>",
           "[5000:5393]",
           "Chunk index: <b>20</b>",
           412.4354
          ]
         ],
         "hovertemplate": "%{customdata[1]}<br />Chunk: <b>%{customdata[2]}</b> &nbsp; &nbsp; %{customdata[3]} <br />%{customdata[0]}: <b>%{customdata[4]}</b><br /><extra></extra>",
         "marker": {
          "color": "#00c8e5",
          "size": 5,
          "symbol": "circle"
         },
         "mode": "markers",
         "name": "<b>RMSE</b> (realized RMSE)",
         "showlegend": false,
         "type": "scatter",
         "x": [
          0.5,
          1.5,
          2.5,
          3.5,
          4.5,
          5.5,
          6.5,
          7.5,
          8.5,
          9.5,
          10.5,
          11.5,
          12.5,
          13.5,
          14.5,
          15.5,
          16.5,
          17.5,
          18.5,
          19.5,
          20.5
         ],
         "xaxis": "x",
         "y": [
          616.6532091011874,
          666.1114762012899,
          569.2648360907617,
          590.0239205256347,
          372.99346386997354,
          431.4322760129166,
          447.8504166610995,
          440.83897856346607,
          534.8503772616326,
          502.57266271536383,
          531.5404151753644,
          557.380781347486,
          560.7555713272176,
          436.6457075799727,
          453.2526238798875,
          480.59858565770753,
          794.5359112074308,
          512.4959795977219,
          445.33188032223575,
          575.4806863384634,
          412.43543126123456,
          412.43543126123456
         ],
         "yaxis": "y"
        },
        {
         "hoverinfo": "skip",
         "line": {
          "color": "#3b0280",
          "dash": "dash",
          "shape": "hv",
          "width": 2
         },
         "mode": "lines",
         "name": "<b>RMSE</b> (estimated RMSE)",
         "showlegend": false,
         "type": "scatter",
         "x": [
          21,
          22,
          23,
          24,
          25,
          26,
          27,
          28,
          29,
          30,
          31,
          32,
          33,
          34,
          35,
          36,
          37,
          38,
          39,
          40,
          41,
          42
         ],
         "xaxis": "x",
         "y": [
          572.7086344479326,
          549.175604449882,
          482.59052581733823,
          555.0745629995473,
          592.3948950788712,
          610.6844084166105,
          473.57865024804926,
          471.00968854597573,
          553.0924620275355,
          509.1522661860589,
          589.1327761913707,
          514.1856389044622,
          456.54039570673825,
          517.0563777055689,
          563.3244311247107,
          573.8269126302447,
          931.6183277265753,
          1221.693240095721,
          1265.4212178922928,
          1209.2694009493498,
          1238.4277559549248,
          1238.4277559549248
         ],
         "yaxis": "y"
        },
        {
         "customdata": [
          [
           "<b>RMSE</b> (estimated RMSE)",
           "<b style=\"color:Colors.INDIGO_PERSIAN;line-height:60px\">Analysis</b>",
           "",
           "[0:249]",
           "Chunk index: <b>21</b>",
           572.7086
          ],
          [
           "<b>RMSE</b> (estimated RMSE)",
           "<b style=\"color:Colors.INDIGO_PERSIAN;line-height:60px\">Analysis</b>",
           "",
           "[250:499]",
           "Chunk index: <b>22</b>",
           549.1756
          ],
          [
           "<b>RMSE</b> (estimated RMSE)",
           "<b style=\"color:Colors.INDIGO_PERSIAN;line-height:60px\">Analysis</b>",
           "",
           "[500:749]",
           "Chunk index: <b>23</b>",
           482.5905
          ],
          [
           "<b>RMSE</b> (estimated RMSE)",
           "<b style=\"color:Colors.INDIGO_PERSIAN;line-height:60px\">Analysis</b>",
           "",
           "[750:999]",
           "Chunk index: <b>24</b>",
           555.0746
          ],
          [
           "<b>RMSE</b> (estimated RMSE)",
           "<b style=\"color:Colors.INDIGO_PERSIAN;line-height:60px\">Analysis</b>",
           "",
           "[1000:1249]",
           "Chunk index: <b>25</b>",
           592.3949
          ],
          [
           "<b>RMSE</b> (estimated RMSE)",
           "<b style=\"color:Colors.INDIGO_PERSIAN;line-height:60px\">Analysis</b>",
           "",
           "[1250:1499]",
           "Chunk index: <b>26</b>",
           610.6844
          ],
          [
           "<b>RMSE</b> (estimated RMSE)",
           "<b style=\"color:Colors.INDIGO_PERSIAN;line-height:60px\">Analysis</b>",
           "",
           "[1500:1749]",
           "Chunk index: <b>27</b>",
           473.5787
          ],
          [
           "<b>RMSE</b> (estimated RMSE)",
           "<b style=\"color:Colors.INDIGO_PERSIAN;line-height:60px\">Analysis</b>",
           "",
           "[1750:1999]",
           "Chunk index: <b>28</b>",
           471.0097
          ],
          [
           "<b>RMSE</b> (estimated RMSE)",
           "<b style=\"color:Colors.INDIGO_PERSIAN;line-height:60px\">Analysis</b>",
           "",
           "[2000:2249]",
           "Chunk index: <b>29</b>",
           553.0925
          ],
          [
           "<b>RMSE</b> (estimated RMSE)",
           "<b style=\"color:Colors.INDIGO_PERSIAN;line-height:60px\">Analysis</b>",
           "",
           "[2250:2499]",
           "Chunk index: <b>30</b>",
           509.1523
          ],
          [
           "<b>RMSE</b> (estimated RMSE)",
           "<b style=\"color:Colors.INDIGO_PERSIAN;line-height:60px\">Analysis</b>",
           "",
           "[2500:2749]",
           "Chunk index: <b>31</b>",
           589.1328
          ],
          [
           "<b>RMSE</b> (estimated RMSE)",
           "<b style=\"color:Colors.INDIGO_PERSIAN;line-height:60px\">Analysis</b>",
           "",
           "[2750:2999]",
           "Chunk index: <b>32</b>",
           514.1856
          ],
          [
           "<b>RMSE</b> (estimated RMSE)",
           "<b style=\"color:Colors.INDIGO_PERSIAN;line-height:60px\">Analysis</b>",
           "",
           "[3000:3249]",
           "Chunk index: <b>33</b>",
           456.5404
          ],
          [
           "<b>RMSE</b> (estimated RMSE)",
           "<b style=\"color:Colors.INDIGO_PERSIAN;line-height:60px\">Analysis</b>",
           "",
           "[3250:3499]",
           "Chunk index: <b>34</b>",
           517.0564
          ],
          [
           "<b>RMSE</b> (estimated RMSE)",
           "<b style=\"color:Colors.INDIGO_PERSIAN;line-height:60px\">Analysis</b>",
           "",
           "[3500:3749]",
           "Chunk index: <b>35</b>",
           563.3244
          ],
          [
           "<b>RMSE</b> (estimated RMSE)",
           "<b style=\"color:Colors.INDIGO_PERSIAN;line-height:60px\">Analysis</b>",
           "",
           "[3750:3999]",
           "Chunk index: <b>36</b>",
           573.8269
          ],
          [
           "<b>RMSE</b> (estimated RMSE)",
           "<b style=\"color:Colors.INDIGO_PERSIAN;line-height:60px\">Analysis</b>",
           "<span style=\"color:#AD0000\">⚠ <b>Drift detected</b></span>",
           "[4000:4249]",
           "Chunk index: <b>37</b>",
           931.6183
          ],
          [
           "<b>RMSE</b> (estimated RMSE)",
           "<b style=\"color:Colors.INDIGO_PERSIAN;line-height:60px\">Analysis</b>",
           "<span style=\"color:#AD0000\">⚠ <b>Drift detected</b></span>",
           "[4250:4499]",
           "Chunk index: <b>38</b>",
           1221.6932
          ],
          [
           "<b>RMSE</b> (estimated RMSE)",
           "<b style=\"color:Colors.INDIGO_PERSIAN;line-height:60px\">Analysis</b>",
           "<span style=\"color:#AD0000\">⚠ <b>Drift detected</b></span>",
           "[4500:4749]",
           "Chunk index: <b>39</b>",
           1265.4212
          ],
          [
           "<b>RMSE</b> (estimated RMSE)",
           "<b style=\"color:Colors.INDIGO_PERSIAN;line-height:60px\">Analysis</b>",
           "<span style=\"color:#AD0000\">⚠ <b>Drift detected</b></span>",
           "[4750:4999]",
           "Chunk index: <b>40</b>",
           1209.2694
          ],
          [
           "<b>RMSE</b> (estimated RMSE)",
           "<b style=\"color:Colors.INDIGO_PERSIAN;line-height:60px\">Analysis</b>",
           "<span style=\"color:#AD0000\">⚠ <b>Drift detected</b></span>",
           "[5000:5393]",
           "Chunk index: <b>41</b>",
           1238.4278
          ]
         ],
         "hovertemplate": "%{customdata[1]} &nbsp; &nbsp; %{customdata[2]} <br />Chunk: <b>%{customdata[3]}</b> &nbsp; &nbsp; %{customdata[4]} <br />%{customdata[0]}: <b>%{customdata[5]}</b><br /><extra></extra>",
         "line": {
          "dash": "dash"
         },
         "marker": {
          "color": "#3b0280",
          "size": 5,
          "symbol": "circle"
         },
         "mode": "markers",
         "name": "<b>RMSE</b> (estimated RMSE)",
         "showlegend": false,
         "type": "scatter",
         "x": [
          21.5,
          22.5,
          23.5,
          24.5,
          25.5,
          26.5,
          27.5,
          28.5,
          29.5,
          30.5,
          31.5,
          32.5,
          33.5,
          34.5,
          35.5,
          36.5,
          37.5,
          38.5,
          39.5,
          40.5,
          41.5
         ],
         "xaxis": "x",
         "y": [
          572.7086344479326,
          549.175604449882,
          482.59052581733823,
          555.0745629995473,
          592.3948950788712,
          610.6844084166105,
          473.57865024804926,
          471.00968854597573,
          553.0924620275355,
          509.1522661860589,
          589.1327761913707,
          514.1856389044622,
          456.54039570673825,
          517.0563777055689,
          563.3244311247107,
          573.8269126302447,
          931.6183277265753,
          1221.693240095721,
          1265.4212178922928,
          1209.2694009493498,
          1238.4277559549248,
          1238.4277559549248
         ],
         "yaxis": "y"
        },
        {
         "hoverinfo": "skip",
         "line": {
          "color": "rgba(0, 0, 0, 0)",
          "shape": "hv"
         },
         "mode": "lines",
         "name": "Confidence band",
         "showlegend": false,
         "type": "scatter",
         "x": [
          21,
          22,
          23,
          24,
          25,
          26,
          27,
          28,
          29,
          30,
          31,
          32,
          33,
          34,
          35,
          36,
          37,
          38,
          39,
          40,
          41,
          42
         ],
         "xaxis": "x",
         "y": [
          870.7816392229685,
          847.2486092249179,
          780.6635305923742,
          853.1475677745832,
          890.467899853907,
          908.7574131916464,
          771.6516550230851,
          769.0826933210117,
          851.1654668025714,
          807.2252709610948,
          887.2057809664066,
          812.258643679498,
          754.6134004817741,
          815.1293824806048,
          861.3974358997466,
          871.8999174052806,
          1229.6913325016112,
          1519.766244870757,
          1563.4942226673288,
          1507.3424057243856,
          1475.8626470779452,
          1475.8626470779452
         ],
         "yaxis": "y"
        },
        {
         "fill": "tonexty",
         "fillcolor": "rgba(59, 2, 128, 0.2)",
         "hoverinfo": "skip",
         "line": {
          "color": "rgba(0, 0, 0, 0)",
          "shape": "hv"
         },
         "mode": "lines",
         "name": "Confidence band",
         "showlegend": false,
         "type": "scatter",
         "x": [
          21,
          22,
          23,
          24,
          25,
          26,
          27,
          28,
          29,
          30,
          31,
          32,
          33,
          34,
          35,
          36,
          37,
          38,
          39,
          40,
          41,
          42
         ],
         "xaxis": "x",
         "y": [
          274.6356296728967,
          251.10259967484615,
          184.51752104230235,
          257.0015582245114,
          294.3218903038353,
          312.6114036415746,
          175.50564547301337,
          172.93668377093985,
          255.0194572524996,
          211.07926141102303,
          291.0597714163348,
          216.11263412942628,
          158.46739093170237,
          218.98337293053305,
          265.25142634967483,
          275.7539078552088,
          633.5453229515394,
          923.6202353206851,
          967.3482131172569,
          911.1963961743139,
          1000.9928648319043,
          1000.9928648319043
         ],
         "yaxis": "y"
        },
        {
         "hoverinfo": "skip",
         "line": {
          "color": "#00c8e5",
          "shape": "hv",
          "width": 2
         },
         "mode": "lines",
         "name": "<b>RMSE</b> (realized RMSE)",
         "showlegend": false,
         "type": "scatter",
         "x": [
          21,
          22,
          23,
          24,
          25,
          26,
          27,
          28,
          29,
          30,
          31,
          32,
          33,
          34,
          35,
          36,
          37,
          38,
          39,
          40,
          41,
          42
         ],
         "xaxis": "x",
         "y": [
          497.278867413763,
          461.3997899958315,
          500.8223989339171,
          531.4799802778425,
          514.7019612753825,
          545.0224714210253,
          498.48332757679316,
          477.46089230747634,
          617.3316202001431,
          441.2851527020593,
          502.0362450354136,
          497.07819934076986,
          389.40182495687685,
          441.88681995628167,
          469.79311301307513,
          612.4099931942853,
          851.6292600950732,
          1130.289242928707,
          993.9998250297137,
          1075.1371476966801,
          944.4536293241481,
          944.4536293241481
         ],
         "yaxis": "y"
        },
        {
         "customdata": [
          [
           "<b>RMSE</b>",
           "<b style=\"color:Colors.BLUE_SKY_CRAYOLA;line-height:60px\">Analysis</b>",
           "",
           "[0:249]",
           "Chunk index: <b>21</b>",
           497.2789
          ],
          [
           "<b>RMSE</b>",
           "<b style=\"color:Colors.BLUE_SKY_CRAYOLA;line-height:60px\">Analysis</b>",
           "",
           "[250:499]",
           "Chunk index: <b>22</b>",
           461.3998
          ],
          [
           "<b>RMSE</b>",
           "<b style=\"color:Colors.BLUE_SKY_CRAYOLA;line-height:60px\">Analysis</b>",
           "",
           "[500:749]",
           "Chunk index: <b>23</b>",
           500.8224
          ],
          [
           "<b>RMSE</b>",
           "<b style=\"color:Colors.BLUE_SKY_CRAYOLA;line-height:60px\">Analysis</b>",
           "",
           "[750:999]",
           "Chunk index: <b>24</b>",
           531.48
          ],
          [
           "<b>RMSE</b>",
           "<b style=\"color:Colors.BLUE_SKY_CRAYOLA;line-height:60px\">Analysis</b>",
           "",
           "[1000:1249]",
           "Chunk index: <b>25</b>",
           514.702
          ],
          [
           "<b>RMSE</b>",
           "<b style=\"color:Colors.BLUE_SKY_CRAYOLA;line-height:60px\">Analysis</b>",
           "",
           "[1250:1499]",
           "Chunk index: <b>26</b>",
           545.0225
          ],
          [
           "<b>RMSE</b>",
           "<b style=\"color:Colors.BLUE_SKY_CRAYOLA;line-height:60px\">Analysis</b>",
           "",
           "[1500:1749]",
           "Chunk index: <b>27</b>",
           498.4833
          ],
          [
           "<b>RMSE</b>",
           "<b style=\"color:Colors.BLUE_SKY_CRAYOLA;line-height:60px\">Analysis</b>",
           "",
           "[1750:1999]",
           "Chunk index: <b>28</b>",
           477.4609
          ],
          [
           "<b>RMSE</b>",
           "<b style=\"color:Colors.BLUE_SKY_CRAYOLA;line-height:60px\">Analysis</b>",
           "",
           "[2000:2249]",
           "Chunk index: <b>29</b>",
           617.3316
          ],
          [
           "<b>RMSE</b>",
           "<b style=\"color:Colors.BLUE_SKY_CRAYOLA;line-height:60px\">Analysis</b>",
           "",
           "[2250:2499]",
           "Chunk index: <b>30</b>",
           441.2852
          ],
          [
           "<b>RMSE</b>",
           "<b style=\"color:Colors.BLUE_SKY_CRAYOLA;line-height:60px\">Analysis</b>",
           "",
           "[2500:2749]",
           "Chunk index: <b>31</b>",
           502.0362
          ],
          [
           "<b>RMSE</b>",
           "<b style=\"color:Colors.BLUE_SKY_CRAYOLA;line-height:60px\">Analysis</b>",
           "",
           "[2750:2999]",
           "Chunk index: <b>32</b>",
           497.0782
          ],
          [
           "<b>RMSE</b>",
           "<b style=\"color:Colors.BLUE_SKY_CRAYOLA;line-height:60px\">Analysis</b>",
           "",
           "[3000:3249]",
           "Chunk index: <b>33</b>",
           389.4018
          ],
          [
           "<b>RMSE</b>",
           "<b style=\"color:Colors.BLUE_SKY_CRAYOLA;line-height:60px\">Analysis</b>",
           "",
           "[3250:3499]",
           "Chunk index: <b>34</b>",
           441.8868
          ],
          [
           "<b>RMSE</b>",
           "<b style=\"color:Colors.BLUE_SKY_CRAYOLA;line-height:60px\">Analysis</b>",
           "",
           "[3500:3749]",
           "Chunk index: <b>35</b>",
           469.7931
          ],
          [
           "<b>RMSE</b>",
           "<b style=\"color:Colors.BLUE_SKY_CRAYOLA;line-height:60px\">Analysis</b>",
           "",
           "[3750:3999]",
           "Chunk index: <b>36</b>",
           612.41
          ],
          [
           "<b>RMSE</b>",
           "<b style=\"color:Colors.BLUE_SKY_CRAYOLA;line-height:60px\">Analysis</b>",
           "<span style=\"color:#AD0000\">⚠ <b>Drift detected</b></span>",
           "[4000:4249]",
           "Chunk index: <b>37</b>",
           851.6293
          ],
          [
           "<b>RMSE</b>",
           "<b style=\"color:Colors.BLUE_SKY_CRAYOLA;line-height:60px\">Analysis</b>",
           "<span style=\"color:#AD0000\">⚠ <b>Drift detected</b></span>",
           "[4250:4499]",
           "Chunk index: <b>38</b>",
           1130.2892
          ],
          [
           "<b>RMSE</b>",
           "<b style=\"color:Colors.BLUE_SKY_CRAYOLA;line-height:60px\">Analysis</b>",
           "<span style=\"color:#AD0000\">⚠ <b>Drift detected</b></span>",
           "[4500:4749]",
           "Chunk index: <b>39</b>",
           993.9998
          ],
          [
           "<b>RMSE</b>",
           "<b style=\"color:Colors.BLUE_SKY_CRAYOLA;line-height:60px\">Analysis</b>",
           "<span style=\"color:#AD0000\">⚠ <b>Drift detected</b></span>",
           "[4750:4999]",
           "Chunk index: <b>40</b>",
           1075.1371
          ],
          [
           "<b>RMSE</b>",
           "<b style=\"color:Colors.BLUE_SKY_CRAYOLA;line-height:60px\">Analysis</b>",
           "<span style=\"color:#AD0000\">⚠ <b>Drift detected</b></span>",
           "[5000:5393]",
           "Chunk index: <b>41</b>",
           944.4536
          ]
         ],
         "hovertemplate": "%{customdata[1]} &nbsp; &nbsp; %{customdata[2]} <br />Chunk: <b>%{customdata[3]}</b> &nbsp; &nbsp; %{customdata[4]} <br />%{customdata[0]}: <b>%{customdata[5]}</b><br /><extra></extra>",
         "marker": {
          "color": "#00c8e5",
          "size": 5,
          "symbol": "circle"
         },
         "mode": "markers",
         "name": "<b>RMSE</b> (realized RMSE)",
         "showlegend": false,
         "type": "scatter",
         "x": [
          21.5,
          22.5,
          23.5,
          24.5,
          25.5,
          26.5,
          27.5,
          28.5,
          29.5,
          30.5,
          31.5,
          32.5,
          33.5,
          34.5,
          35.5,
          36.5,
          37.5,
          38.5,
          39.5,
          40.5,
          41.5
         ],
         "xaxis": "x",
         "y": [
          497.278867413763,
          461.3997899958315,
          500.8223989339171,
          531.4799802778425,
          514.7019612753825,
          545.0224714210253,
          498.48332757679316,
          477.46089230747634,
          617.3316202001431,
          441.2851527020593,
          502.0362450354136,
          497.07819934076986,
          389.40182495687685,
          441.88681995628167,
          469.79311301307513,
          612.4099931942853,
          851.6292600950732,
          1130.289242928707,
          993.9998250297137,
          1075.1371476966801,
          944.4536293241481,
          944.4536293241481
         ],
         "yaxis": "y"
        },
        {
         "hoverinfo": "skip",
         "legendgroup": "alert",
         "marker": {
          "color": "#DD4040",
          "size": 8,
          "symbol": "diamond"
         },
         "mode": "markers",
         "name": "Alert",
         "showlegend": true,
         "type": "scatter",
         "x": [
          37.5,
          38.5,
          39.5,
          40.5,
          41.5
         ],
         "xaxis": "x",
         "y": [
          931.6183277265753,
          1221.693240095721,
          1265.4212178922928,
          1209.2694009493498,
          1238.4277559549248
         ],
         "yaxis": "y"
        },
        {
         "hoverinfo": "skip",
         "legendgroup": "alert",
         "marker": {
          "color": "#DD4040",
          "size": 8,
          "symbol": "diamond"
         },
         "mode": "markers",
         "name": "Alert",
         "showlegend": false,
         "type": "scatter",
         "x": [
          37.5,
          38.5,
          39.5,
          40.5,
          41.5
         ],
         "xaxis": "x",
         "y": [
          851.6292600950732,
          1130.289242928707,
          993.9998250297137,
          1075.1371476966801,
          944.4536293241481
         ],
         "yaxis": "y"
        }
       ],
       "layout": {
        "annotations": [
         {
          "font": {
           "size": 16
          },
          "showarrow": false,
          "text": "<b>RMSE</b> (estimated RMSE) vs. <b>RMSE</b> (realized RMSE)",
          "x": 0.47,
          "xanchor": "center",
          "xref": "paper",
          "y": 1,
          "yanchor": "bottom",
          "yref": "paper"
         },
         {
          "showarrow": false,
          "text": "Reference",
          "x": 10,
          "xshift": 10,
          "y": 1,
          "yref": "paper"
         },
         {
          "showarrow": false,
          "text": "Analysis",
          "x": 31,
          "xshift": 15,
          "y": 1,
          "yref": "paper"
         }
        ],
        "autosize": true,
        "hoverlabel": {
         "bgcolor": "white",
         "font": {
          "size": 14
         }
        },
        "legend": {
         "itemclick": false,
         "itemdoubleclick": false,
         "traceorder": "grouped"
        },
        "paper_bgcolor": "rgba(255,255,255,1)",
        "plot_bgcolor": "rgba(255,255,255,1)",
        "shapes": [
         {
          "layer": "below",
          "line": {
           "color": "#666666",
           "width": 1
          },
          "type": "line",
          "x0": 21,
          "x1": 21,
          "xref": "x",
          "y0": 0,
          "y1": 1,
          "yref": "y domain"
         }
        ],
        "template": {
         "data": {
          "bar": [
           {
            "error_x": {
             "color": "#2a3f5f"
            },
            "error_y": {
             "color": "#2a3f5f"
            },
            "marker": {
             "line": {
              "color": "#E5ECF6",
              "width": 0.5
             },
             "pattern": {
              "fillmode": "overlay",
              "size": 10,
              "solidity": 0.2
             }
            },
            "type": "bar"
           }
          ],
          "barpolar": [
           {
            "marker": {
             "line": {
              "color": "#E5ECF6",
              "width": 0.5
             },
             "pattern": {
              "fillmode": "overlay",
              "size": 10,
              "solidity": 0.2
             }
            },
            "type": "barpolar"
           }
          ],
          "carpet": [
           {
            "aaxis": {
             "endlinecolor": "#2a3f5f",
             "gridcolor": "white",
             "linecolor": "white",
             "minorgridcolor": "white",
             "startlinecolor": "#2a3f5f"
            },
            "baxis": {
             "endlinecolor": "#2a3f5f",
             "gridcolor": "white",
             "linecolor": "white",
             "minorgridcolor": "white",
             "startlinecolor": "#2a3f5f"
            },
            "type": "carpet"
           }
          ],
          "choropleth": [
           {
            "colorbar": {
             "outlinewidth": 0,
             "ticks": ""
            },
            "type": "choropleth"
           }
          ],
          "contour": [
           {
            "colorbar": {
             "outlinewidth": 0,
             "ticks": ""
            },
            "colorscale": [
             [
              0,
              "#0d0887"
             ],
             [
              0.1111111111111111,
              "#46039f"
             ],
             [
              0.2222222222222222,
              "#7201a8"
             ],
             [
              0.3333333333333333,
              "#9c179e"
             ],
             [
              0.4444444444444444,
              "#bd3786"
             ],
             [
              0.5555555555555556,
              "#d8576b"
             ],
             [
              0.6666666666666666,
              "#ed7953"
             ],
             [
              0.7777777777777778,
              "#fb9f3a"
             ],
             [
              0.8888888888888888,
              "#fdca26"
             ],
             [
              1,
              "#f0f921"
             ]
            ],
            "type": "contour"
           }
          ],
          "contourcarpet": [
           {
            "colorbar": {
             "outlinewidth": 0,
             "ticks": ""
            },
            "type": "contourcarpet"
           }
          ],
          "heatmap": [
           {
            "colorbar": {
             "outlinewidth": 0,
             "ticks": ""
            },
            "colorscale": [
             [
              0,
              "#0d0887"
             ],
             [
              0.1111111111111111,
              "#46039f"
             ],
             [
              0.2222222222222222,
              "#7201a8"
             ],
             [
              0.3333333333333333,
              "#9c179e"
             ],
             [
              0.4444444444444444,
              "#bd3786"
             ],
             [
              0.5555555555555556,
              "#d8576b"
             ],
             [
              0.6666666666666666,
              "#ed7953"
             ],
             [
              0.7777777777777778,
              "#fb9f3a"
             ],
             [
              0.8888888888888888,
              "#fdca26"
             ],
             [
              1,
              "#f0f921"
             ]
            ],
            "type": "heatmap"
           }
          ],
          "heatmapgl": [
           {
            "colorbar": {
             "outlinewidth": 0,
             "ticks": ""
            },
            "colorscale": [
             [
              0,
              "#0d0887"
             ],
             [
              0.1111111111111111,
              "#46039f"
             ],
             [
              0.2222222222222222,
              "#7201a8"
             ],
             [
              0.3333333333333333,
              "#9c179e"
             ],
             [
              0.4444444444444444,
              "#bd3786"
             ],
             [
              0.5555555555555556,
              "#d8576b"
             ],
             [
              0.6666666666666666,
              "#ed7953"
             ],
             [
              0.7777777777777778,
              "#fb9f3a"
             ],
             [
              0.8888888888888888,
              "#fdca26"
             ],
             [
              1,
              "#f0f921"
             ]
            ],
            "type": "heatmapgl"
           }
          ],
          "histogram": [
           {
            "marker": {
             "pattern": {
              "fillmode": "overlay",
              "size": 10,
              "solidity": 0.2
             }
            },
            "type": "histogram"
           }
          ],
          "histogram2d": [
           {
            "colorbar": {
             "outlinewidth": 0,
             "ticks": ""
            },
            "colorscale": [
             [
              0,
              "#0d0887"
             ],
             [
              0.1111111111111111,
              "#46039f"
             ],
             [
              0.2222222222222222,
              "#7201a8"
             ],
             [
              0.3333333333333333,
              "#9c179e"
             ],
             [
              0.4444444444444444,
              "#bd3786"
             ],
             [
              0.5555555555555556,
              "#d8576b"
             ],
             [
              0.6666666666666666,
              "#ed7953"
             ],
             [
              0.7777777777777778,
              "#fb9f3a"
             ],
             [
              0.8888888888888888,
              "#fdca26"
             ],
             [
              1,
              "#f0f921"
             ]
            ],
            "type": "histogram2d"
           }
          ],
          "histogram2dcontour": [
           {
            "colorbar": {
             "outlinewidth": 0,
             "ticks": ""
            },
            "colorscale": [
             [
              0,
              "#0d0887"
             ],
             [
              0.1111111111111111,
              "#46039f"
             ],
             [
              0.2222222222222222,
              "#7201a8"
             ],
             [
              0.3333333333333333,
              "#9c179e"
             ],
             [
              0.4444444444444444,
              "#bd3786"
             ],
             [
              0.5555555555555556,
              "#d8576b"
             ],
             [
              0.6666666666666666,
              "#ed7953"
             ],
             [
              0.7777777777777778,
              "#fb9f3a"
             ],
             [
              0.8888888888888888,
              "#fdca26"
             ],
             [
              1,
              "#f0f921"
             ]
            ],
            "type": "histogram2dcontour"
           }
          ],
          "mesh3d": [
           {
            "colorbar": {
             "outlinewidth": 0,
             "ticks": ""
            },
            "type": "mesh3d"
           }
          ],
          "parcoords": [
           {
            "line": {
             "colorbar": {
              "outlinewidth": 0,
              "ticks": ""
             }
            },
            "type": "parcoords"
           }
          ],
          "pie": [
           {
            "automargin": true,
            "type": "pie"
           }
          ],
          "scatter": [
           {
            "fillpattern": {
             "fillmode": "overlay",
             "size": 10,
             "solidity": 0.2
            },
            "type": "scatter"
           }
          ],
          "scatter3d": [
           {
            "line": {
             "colorbar": {
              "outlinewidth": 0,
              "ticks": ""
             }
            },
            "marker": {
             "colorbar": {
              "outlinewidth": 0,
              "ticks": ""
             }
            },
            "type": "scatter3d"
           }
          ],
          "scattercarpet": [
           {
            "marker": {
             "colorbar": {
              "outlinewidth": 0,
              "ticks": ""
             }
            },
            "type": "scattercarpet"
           }
          ],
          "scattergeo": [
           {
            "marker": {
             "colorbar": {
              "outlinewidth": 0,
              "ticks": ""
             }
            },
            "type": "scattergeo"
           }
          ],
          "scattergl": [
           {
            "marker": {
             "colorbar": {
              "outlinewidth": 0,
              "ticks": ""
             }
            },
            "type": "scattergl"
           }
          ],
          "scattermapbox": [
           {
            "marker": {
             "colorbar": {
              "outlinewidth": 0,
              "ticks": ""
             }
            },
            "type": "scattermapbox"
           }
          ],
          "scatterpolar": [
           {
            "marker": {
             "colorbar": {
              "outlinewidth": 0,
              "ticks": ""
             }
            },
            "type": "scatterpolar"
           }
          ],
          "scatterpolargl": [
           {
            "marker": {
             "colorbar": {
              "outlinewidth": 0,
              "ticks": ""
             }
            },
            "type": "scatterpolargl"
           }
          ],
          "scatterternary": [
           {
            "marker": {
             "colorbar": {
              "outlinewidth": 0,
              "ticks": ""
             }
            },
            "type": "scatterternary"
           }
          ],
          "surface": [
           {
            "colorbar": {
             "outlinewidth": 0,
             "ticks": ""
            },
            "colorscale": [
             [
              0,
              "#0d0887"
             ],
             [
              0.1111111111111111,
              "#46039f"
             ],
             [
              0.2222222222222222,
              "#7201a8"
             ],
             [
              0.3333333333333333,
              "#9c179e"
             ],
             [
              0.4444444444444444,
              "#bd3786"
             ],
             [
              0.5555555555555556,
              "#d8576b"
             ],
             [
              0.6666666666666666,
              "#ed7953"
             ],
             [
              0.7777777777777778,
              "#fb9f3a"
             ],
             [
              0.8888888888888888,
              "#fdca26"
             ],
             [
              1,
              "#f0f921"
             ]
            ],
            "type": "surface"
           }
          ],
          "table": [
           {
            "cells": {
             "fill": {
              "color": "#EBF0F8"
             },
             "line": {
              "color": "white"
             }
            },
            "header": {
             "fill": {
              "color": "#C8D4E3"
             },
             "line": {
              "color": "white"
             }
            },
            "type": "table"
           }
          ]
         },
         "layout": {
          "annotationdefaults": {
           "arrowcolor": "#2a3f5f",
           "arrowhead": 0,
           "arrowwidth": 1
          },
          "autotypenumbers": "strict",
          "coloraxis": {
           "colorbar": {
            "outlinewidth": 0,
            "ticks": ""
           }
          },
          "colorscale": {
           "diverging": [
            [
             0,
             "#8e0152"
            ],
            [
             0.1,
             "#c51b7d"
            ],
            [
             0.2,
             "#de77ae"
            ],
            [
             0.3,
             "#f1b6da"
            ],
            [
             0.4,
             "#fde0ef"
            ],
            [
             0.5,
             "#f7f7f7"
            ],
            [
             0.6,
             "#e6f5d0"
            ],
            [
             0.7,
             "#b8e186"
            ],
            [
             0.8,
             "#7fbc41"
            ],
            [
             0.9,
             "#4d9221"
            ],
            [
             1,
             "#276419"
            ]
           ],
           "sequential": [
            [
             0,
             "#0d0887"
            ],
            [
             0.1111111111111111,
             "#46039f"
            ],
            [
             0.2222222222222222,
             "#7201a8"
            ],
            [
             0.3333333333333333,
             "#9c179e"
            ],
            [
             0.4444444444444444,
             "#bd3786"
            ],
            [
             0.5555555555555556,
             "#d8576b"
            ],
            [
             0.6666666666666666,
             "#ed7953"
            ],
            [
             0.7777777777777778,
             "#fb9f3a"
            ],
            [
             0.8888888888888888,
             "#fdca26"
            ],
            [
             1,
             "#f0f921"
            ]
           ],
           "sequentialminus": [
            [
             0,
             "#0d0887"
            ],
            [
             0.1111111111111111,
             "#46039f"
            ],
            [
             0.2222222222222222,
             "#7201a8"
            ],
            [
             0.3333333333333333,
             "#9c179e"
            ],
            [
             0.4444444444444444,
             "#bd3786"
            ],
            [
             0.5555555555555556,
             "#d8576b"
            ],
            [
             0.6666666666666666,
             "#ed7953"
            ],
            [
             0.7777777777777778,
             "#fb9f3a"
            ],
            [
             0.8888888888888888,
             "#fdca26"
            ],
            [
             1,
             "#f0f921"
            ]
           ]
          },
          "colorway": [
           "#636efa",
           "#EF553B",
           "#00cc96",
           "#ab63fa",
           "#FFA15A",
           "#19d3f3",
           "#FF6692",
           "#B6E880",
           "#FF97FF",
           "#FECB52"
          ],
          "font": {
           "color": "#2a3f5f"
          },
          "geo": {
           "bgcolor": "white",
           "lakecolor": "white",
           "landcolor": "#E5ECF6",
           "showlakes": true,
           "showland": true,
           "subunitcolor": "white"
          },
          "hoverlabel": {
           "align": "left"
          },
          "hovermode": "closest",
          "mapbox": {
           "style": "light"
          },
          "paper_bgcolor": "white",
          "plot_bgcolor": "#E5ECF6",
          "polar": {
           "angularaxis": {
            "gridcolor": "white",
            "linecolor": "white",
            "ticks": ""
           },
           "bgcolor": "#E5ECF6",
           "radialaxis": {
            "gridcolor": "white",
            "linecolor": "white",
            "ticks": ""
           }
          },
          "scene": {
           "xaxis": {
            "backgroundcolor": "#E5ECF6",
            "gridcolor": "white",
            "gridwidth": 2,
            "linecolor": "white",
            "showbackground": true,
            "ticks": "",
            "zerolinecolor": "white"
           },
           "yaxis": {
            "backgroundcolor": "#E5ECF6",
            "gridcolor": "white",
            "gridwidth": 2,
            "linecolor": "white",
            "showbackground": true,
            "ticks": "",
            "zerolinecolor": "white"
           },
           "zaxis": {
            "backgroundcolor": "#E5ECF6",
            "gridcolor": "white",
            "gridwidth": 2,
            "linecolor": "white",
            "showbackground": true,
            "ticks": "",
            "zerolinecolor": "white"
           }
          },
          "shapedefaults": {
           "line": {
            "color": "#2a3f5f"
           }
          },
          "ternary": {
           "aaxis": {
            "gridcolor": "white",
            "linecolor": "white",
            "ticks": ""
           },
           "baxis": {
            "gridcolor": "white",
            "linecolor": "white",
            "ticks": ""
           },
           "bgcolor": "#E5ECF6",
           "caxis": {
            "gridcolor": "white",
            "linecolor": "white",
            "ticks": ""
           }
          },
          "title": {
           "x": 0.05
          },
          "xaxis": {
           "automargin": true,
           "gridcolor": "white",
           "linecolor": "white",
           "ticks": "",
           "title": {
            "standoff": 15
           },
           "zerolinecolor": "white",
           "zerolinewidth": 2
          },
          "yaxis": {
           "automargin": true,
           "gridcolor": "white",
           "linecolor": "white",
           "ticks": "",
           "title": {
            "standoff": 15
           },
           "zerolinecolor": "white",
           "zerolinewidth": 2
          }
         }
        },
        "title": {
         "text": "<b>Estimated performance (DLE)</b> vs. <b>Realized performance</b>"
        },
        "xaxis": {
         "anchor": "y",
         "autorange": true,
         "domain": [
          0,
          0.94
         ],
         "linecolor": "#3b0280",
         "matches": "x",
         "mirror": true,
         "range": [
          -2.1454597656475283,
          44.33822507967633
         ],
         "showgrid": false,
         "title": {
          "text": "Chunk"
         },
         "type": "linear",
         "zeroline": false
        },
        "yaxis": {
         "anchor": "x",
         "autorange": true,
         "domain": [
          0,
          1
         ],
         "linecolor": "#3b0280",
         "mirror": true,
         "range": [
          50.460444819556216,
          1643.127579396159
         ],
         "showgrid": false,
         "title": {
          "text": "<b>RMSE</b>"
         },
         "type": "linear",
         "zeroline": false
        },
        "yaxis2": {
         "anchor": "x",
         "linecolor": "#3b0280",
         "mirror": true,
         "overlaying": "y",
         "showgrid": false,
         "side": "right",
         "title": {
          "text": "Comparison"
         },
         "zeroline": false
        }
       }
      },
      "image/png": "[encoded data removed]",
      "text/html": [
       "<div>                            <div id=\"f17b26d5-0e27-4dde-9399-c111e91b26de\" class=\"plotly-graph-div\" style=\"height:500.0px; width:100%;\"></div>            <script type=\"text/javascript\">                require([\"plotly\"], function(Plotly) {                    window.PLOTLYENV=window.PLOTLYENV || {};                                    if (document.getElementById(\"f17b26d5-0e27-4dde-9399-c111e91b26de\")) {                    Plotly.newPlot(                        \"f17b26d5-0e27-4dde-9399-c111e91b26de\",                        [{\"hoverinfo\":\"skip\",\"line\":{\"color\":\"#3b0280\",\"dash\":\"dash\",\"shape\":\"hv\",\"width\":2},\"mode\":\"lines\",\"name\":\"\\u003cb\\u003eRMSE\\u003c\\u002fb\\u003e (estimated RMSE)\",\"showlegend\":true,\"x\":[0,1,2,3,4,5,6,7,8,9,10,11,12,13,14,15,16,17,18,19,20,21],\"xaxis\":\"x\",\"y\":[567.595667298751,648.8944858473601,564.6811939878063,591.481303895541,428.16680632342224,485.67593674274764,496.849452288195,487.8186980891766,562.3019021714772,514.3396979592592,507.206860180168,521.999760693339,522.9920312083227,498.0095455791483,464.9452828852687,521.8626019502906,646.1655729717955,501.76268332016815,543.0416670453261,604.9343558633868,446.0060233992042,446.0060233992042],\"yaxis\":\"y\",\"type\":\"scatter\"},{\"customdata\":[[\"\\u003cb\\u003eRMSE\\u003c\\u002fb\\u003e (estimated RMSE)\",\"\\u003cb style=\\\"color:Colors.INDIGO_PERSIAN;line-height:60px\\\"\\u003eReference\\u003c\\u002fb\\u003e\",\"[0:249]\",\"Chunk index: \\u003cb\\u003e0\\u003c\\u002fb\\u003e\",567.5957],[\"\\u003cb\\u003eRMSE\\u003c\\u002fb\\u003e (estimated RMSE)\",\"\\u003cb style=\\\"color:Colors.INDIGO_PERSIAN;line-height:60px\\\"\\u003eReference\\u003c\\u002fb\\u003e\",\"[250:499]\",\"Chunk index: \\u003cb\\u003e1\\u003c\\u002fb\\u003e\",648.8945],[\"\\u003cb\\u003eRMSE\\u003c\\u002fb\\u003e (estimated RMSE)\",\"\\u003cb style=\\\"color:Colors.INDIGO_PERSIAN;line-height:60px\\\"\\u003eReference\\u003c\\u002fb\\u003e\",\"[500:749]\",\"Chunk index: \\u003cb\\u003e2\\u003c\\u002fb\\u003e\",564.6812],[\"\\u003cb\\u003eRMSE\\u003c\\u002fb\\u003e (estimated RMSE)\",\"\\u003cb style=\\\"color:Colors.INDIGO_PERSIAN;line-height:60px\\\"\\u003eReference\\u003c\\u002fb\\u003e\",\"[750:999]\",\"Chunk index: \\u003cb\\u003e3\\u003c\\u002fb\\u003e\",591.4813],[\"\\u003cb\\u003eRMSE\\u003c\\u002fb\\u003e (estimated RMSE)\",\"\\u003cb style=\\\"color:Colors.INDIGO_PERSIAN;line-height:60px\\\"\\u003eReference\\u003c\\u002fb\\u003e\",\"[1000:1249]\",\"Chunk index: \\u003cb\\u003e4\\u003c\\u002fb\\u003e\",428.1668],[\"\\u003cb\\u003eRMSE\\u003c\\u002fb\\u003e (estimated RMSE)\",\"\\u003cb style=\\\"color:Colors.INDIGO_PERSIAN;line-height:60px\\\"\\u003eReference\\u003c\\u002fb\\u003e\",\"[1250:1499]\",\"Chunk index: \\u003cb\\u003e5\\u003c\\u002fb\\u003e\",485.6759],[\"\\u003cb\\u003eRMSE\\u003c\\u002fb\\u003e (estimated RMSE)\",\"\\u003cb style=\\\"color:Colors.INDIGO_PERSIAN;line-height:60px\\\"\\u003eReference\\u003c\\u002fb\\u003e\",\"[1500:1749]\",\"Chunk index: \\u003cb\\u003e6\\u003c\\u002fb\\u003e\",496.8495],[\"\\u003cb\\u003eRMSE\\u003c\\u002fb\\u003e (estimated RMSE)\",\"\\u003cb style=\\\"color:Colors.INDIGO_PERSIAN;line-height:60px\\\"\\u003eReference\\u003c\\u002fb\\u003e\",\"[1750:1999]\",\"Chunk index: \\u003cb\\u003e7\\u003c\\u002fb\\u003e\",487.8187],[\"\\u003cb\\u003eRMSE\\u003c\\u002fb\\u003e (estimated RMSE)\",\"\\u003cb style=\\\"color:Colors.INDIGO_PERSIAN;line-height:60px\\\"\\u003eReference\\u003c\\u002fb\\u003e\",\"[2000:2249]\",\"Chunk index: \\u003cb\\u003e8\\u003c\\u002fb\\u003e\",562.3019],[\"\\u003cb\\u003eRMSE\\u003c\\u002fb\\u003e (estimated RMSE)\",\"\\u003cb style=\\\"color:Colors.INDIGO_PERSIAN;line-height:60px\\\"\\u003eReference\\u003c\\u002fb\\u003e\",\"[2250:2499]\",\"Chunk index: \\u003cb\\u003e9\\u003c\\u002fb\\u003e\",514.3397],[\"\\u003cb\\u003eRMSE\\u003c\\u002fb\\u003e (estimated RMSE)\",\"\\u003cb style=\\\"color:Colors.INDIGO_PERSIAN;line-height:60px\\\"\\u003eReference\\u003c\\u002fb\\u003e\",\"[2500:2749]\",\"Chunk index: \\u003cb\\u003e10\\u003c\\u002fb\\u003e\",507.2069],[\"\\u003cb\\u003eRMSE\\u003c\\u002fb\\u003e (estimated RMSE)\",\"\\u003cb style=\\\"color:Colors.INDIGO_PERSIAN;line-height:60px\\\"\\u003eReference\\u003c\\u002fb\\u003e\",\"[2750:2999]\",\"Chunk index: \\u003cb\\u003e11\\u003c\\u002fb\\u003e\",521.9998],[\"\\u003cb\\u003eRMSE\\u003c\\u002fb\\u003e (estimated RMSE)\",\"\\u003cb style=\\\"color:Colors.INDIGO_PERSIAN;line-height:60px\\\"\\u003eReference\\u003c\\u002fb\\u003e\",\"[3000:3249]\",\"Chunk index: \\u003cb\\u003e12\\u003c\\u002fb\\u003e\",522.992],[\"\\u003cb\\u003eRMSE\\u003c\\u002fb\\u003e (estimated RMSE)\",\"\\u003cb style=\\\"color:Colors.INDIGO_PERSIAN;line-height:60px\\\"\\u003eReference\\u003c\\u002fb\\u003e\",\"[3250:3499]\",\"Chunk index: \\u003cb\\u003e13\\u003c\\u002fb\\u003e\",498.0095],[\"\\u003cb\\u003eRMSE\\u003c\\u002fb\\u003e (estimated RMSE)\",\"\\u003cb style=\\\"color:Colors.INDIGO_PERSIAN;line-height:60px\\\"\\u003eReference\\u003c\\u002fb\\u003e\",\"[3500:3749]\",\"Chunk index: \\u003cb\\u003e14\\u003c\\u002fb\\u003e\",464.9453],[\"\\u003cb\\u003eRMSE\\u003c\\u002fb\\u003e (estimated RMSE)\",\"\\u003cb style=\\\"color:Colors.INDIGO_PERSIAN;line-height:60px\\\"\\u003eReference\\u003c\\u002fb\\u003e\",\"[3750:3999]\",\"Chunk index: \\u003cb\\u003e15\\u003c\\u002fb\\u003e\",521.8626],[\"\\u003cb\\u003eRMSE\\u003c\\u002fb\\u003e (estimated RMSE)\",\"\\u003cb style=\\\"color:Colors.INDIGO_PERSIAN;line-height:60px\\\"\\u003eReference\\u003c\\u002fb\\u003e\",\"[4000:4249]\",\"Chunk index: \\u003cb\\u003e16\\u003c\\u002fb\\u003e\",646.1656],[\"\\u003cb\\u003eRMSE\\u003c\\u002fb\\u003e (estimated RMSE)\",\"\\u003cb style=\\\"color:Colors.INDIGO_PERSIAN;line-height:60px\\\"\\u003eReference\\u003c\\u002fb\\u003e\",\"[4250:4499]\",\"Chunk index: \\u003cb\\u003e17\\u003c\\u002fb\\u003e\",501.7627],[\"\\u003cb\\u003eRMSE\\u003c\\u002fb\\u003e (estimated RMSE)\",\"\\u003cb style=\\\"color:Colors.INDIGO_PERSIAN;line-height:60px\\\"\\u003eReference\\u003c\\u002fb\\u003e\",\"[4500:4749]\",\"Chunk index: \\u003cb\\u003e18\\u003c\\u002fb\\u003e\",543.0417],[\"\\u003cb\\u003eRMSE\\u003c\\u002fb\\u003e (estimated RMSE)\",\"\\u003cb style=\\\"color:Colors.INDIGO_PERSIAN;line-height:60px\\\"\\u003eReference\\u003c\\u002fb\\u003e\",\"[4750:4999]\",\"Chunk index: \\u003cb\\u003e19\\u003c\\u002fb\\u003e\",604.9344],[\"\\u003cb\\u003eRMSE\\u003c\\u002fb\\u003e (estimated RMSE)\",\"\\u003cb style=\\\"color:Colors.INDIGO_PERSIAN;line-height:60px\\\"\\u003eReference\\u003c\\u002fb\\u003e\",\"[5000:5393]\",\"Chunk index: \\u003cb\\u003e20\\u003c\\u002fb\\u003e\",446.006]],\"hovertemplate\":\"%{customdata[1]}\\u003cbr \\u002f\\u003eChunk: \\u003cb\\u003e%{customdata[2]}\\u003c\\u002fb\\u003e &nbsp; &nbsp; %{customdata[3]} \\u003cbr \\u002f\\u003e%{customdata[0]}: \\u003cb\\u003e%{customdata[4]}\\u003c\\u002fb\\u003e\\u003cbr \\u002f\\u003e\\u003cextra\\u003e\\u003c\\u002fextra\\u003e\",\"line\":{\"dash\":\"dash\"},\"marker\":{\"color\":\"#3b0280\",\"size\":5,\"symbol\":\"circle\"},\"mode\":\"markers\",\"name\":\"\\u003cb\\u003eRMSE\\u003c\\u002fb\\u003e (estimated RMSE)\",\"showlegend\":false,\"x\":[0.5,1.5,2.5,3.5,4.5,5.5,6.5,7.5,8.5,9.5,10.5,11.5,12.5,13.5,14.5,15.5,16.5,17.5,18.5,19.5,20.5],\"xaxis\":\"x\",\"y\":[567.595667298751,648.8944858473601,564.6811939878063,591.481303895541,428.16680632342224,485.67593674274764,496.849452288195,487.8186980891766,562.3019021714772,514.3396979592592,507.206860180168,521.999760693339,522.9920312083227,498.0095455791483,464.9452828852687,521.8626019502906,646.1655729717955,501.76268332016815,543.0416670453261,604.9343558633868,446.0060233992042,446.0060233992042],\"yaxis\":\"y\",\"type\":\"scatter\"},{\"hoverinfo\":\"skip\",\"line\":{\"color\":\"rgba(0,0,0,0)\",\"dash\":\"dash\",\"shape\":\"hv\"},\"mode\":\"lines\",\"name\":\"Confidence band\",\"showlegend\":false,\"x\":[0,1,2,3,4,5,6,7,8,9,10,11,12,13,14,15,16,17,18,19,20,21],\"xaxis\":\"x\",\"y\":[865.6686720737869,946.967490622396,862.7541987628422,889.5543086705769,726.2398110984582,783.7489415177836,794.9224570632309,785.8917028642124,860.3749069465131,812.4127027342951,805.279864955204,820.0727654683749,821.0650359833586,796.0825503541841,763.0182876603046,819.9356067253265,944.2385777468314,799.835688095204,841.114671820362,903.0073606384227,683.4409145222247,683.4409145222247],\"yaxis\":\"y\",\"type\":\"scatter\"},{\"fill\":\"tonexty\",\"fillcolor\":\"rgba(0.23137254901960785, 0.00784313725490196, 0.5019607843137255, 0.2)\",\"hoverinfo\":\"skip\",\"line\":{\"color\":\"rgba(0,0,0,0)\",\"dash\":\"dash\",\"shape\":\"hv\"},\"mode\":\"lines\",\"name\":\"Confidence band\",\"showlegend\":true,\"x\":[0,1,2,3,4,5,6,7,8,9,10,11,12,13,14,15,16,17,18,19,20,21],\"xaxis\":\"x\",\"y\":[269.5226625237151,350.8214810723242,266.6081892127704,293.40829912050515,130.09380154838635,187.60293196771175,198.7764475131591,189.74569331414074,264.2288973964413,216.2666931842233,209.13385540513212,223.92675591830312,224.91902643328683,199.93654080411244,166.8722781102328,223.7895971752547,348.09256819675966,203.68967854513227,244.96866227029022,306.86135108835094,208.5711322761837,208.5711322761837],\"yaxis\":\"y\",\"type\":\"scatter\"},{\"hoverinfo\":\"skip\",\"line\":{\"color\":\"#00c8e5\",\"shape\":\"hv\",\"width\":2},\"mode\":\"lines\",\"name\":\"\\u003cb\\u003eRMSE\\u003c\\u002fb\\u003e (realized RMSE)\",\"showlegend\":true,\"x\":[0,1,2,3,4,5,6,7,8,9,10,11,12,13,14,15,16,17,18,19,20,21],\"xaxis\":\"x\",\"y\":[616.6532091011874,666.1114762012899,569.2648360907617,590.0239205256347,372.99346386997354,431.4322760129166,447.8504166610995,440.83897856346607,534.8503772616326,502.57266271536383,531.5404151753644,557.380781347486,560.7555713272176,436.6457075799727,453.2526238798875,480.59858565770753,794.5359112074308,512.4959795977219,445.33188032223575,575.4806863384634,412.43543126123456,412.43543126123456],\"yaxis\":\"y\",\"type\":\"scatter\"},{\"customdata\":[[\"\\u003cb\\u003eRMSE\\u003c\\u002fb\\u003e\",\"\\u003cb style=\\\"color:Colors.BLUE_SKY_CRAYOLA;line-height:60px\\\"\\u003eReference\\u003c\\u002fb\\u003e\",\"[0:249]\",\"Chunk index: \\u003cb\\u003e0\\u003c\\u002fb\\u003e\",616.6532],[\"\\u003cb\\u003eRMSE\\u003c\\u002fb\\u003e\",\"\\u003cb style=\\\"color:Colors.BLUE_SKY_CRAYOLA;line-height:60px\\\"\\u003eReference\\u003c\\u002fb\\u003e\",\"[250:499]\",\"Chunk index: \\u003cb\\u003e1\\u003c\\u002fb\\u003e\",666.1115],[\"\\u003cb\\u003eRMSE\\u003c\\u002fb\\u003e\",\"\\u003cb style=\\\"color:Colors.BLUE_SKY_CRAYOLA;line-height:60px\\\"\\u003eReference\\u003c\\u002fb\\u003e\",\"[500:749]\",\"Chunk index: \\u003cb\\u003e2\\u003c\\u002fb\\u003e\",569.2648],[\"\\u003cb\\u003eRMSE\\u003c\\u002fb\\u003e\",\"\\u003cb style=\\\"color:Colors.BLUE_SKY_CRAYOLA;line-height:60px\\\"\\u003eReference\\u003c\\u002fb\\u003e\",\"[750:999]\",\"Chunk index: \\u003cb\\u003e3\\u003c\\u002fb\\u003e\",590.0239],[\"\\u003cb\\u003eRMSE\\u003c\\u002fb\\u003e\",\"\\u003cb style=\\\"color:Colors.BLUE_SKY_CRAYOLA;line-height:60px\\\"\\u003eReference\\u003c\\u002fb\\u003e\",\"[1000:1249]\",\"Chunk index: \\u003cb\\u003e4\\u003c\\u002fb\\u003e\",372.9935],[\"\\u003cb\\u003eRMSE\\u003c\\u002fb\\u003e\",\"\\u003cb style=\\\"color:Colors.BLUE_SKY_CRAYOLA;line-height:60px\\\"\\u003eReference\\u003c\\u002fb\\u003e\",\"[1250:1499]\",\"Chunk index: \\u003cb\\u003e5\\u003c\\u002fb\\u003e\",431.4323],[\"\\u003cb\\u003eRMSE\\u003c\\u002fb\\u003e\",\"\\u003cb style=\\\"color:Colors.BLUE_SKY_CRAYOLA;line-height:60px\\\"\\u003eReference\\u003c\\u002fb\\u003e\",\"[1500:1749]\",\"Chunk index: \\u003cb\\u003e6\\u003c\\u002fb\\u003e\",447.8504],[\"\\u003cb\\u003eRMSE\\u003c\\u002fb\\u003e\",\"\\u003cb style=\\\"color:Colors.BLUE_SKY_CRAYOLA;line-height:60px\\\"\\u003eReference\\u003c\\u002fb\\u003e\",\"[1750:1999]\",\"Chunk index: \\u003cb\\u003e7\\u003c\\u002fb\\u003e\",440.839],[\"\\u003cb\\u003eRMSE\\u003c\\u002fb\\u003e\",\"\\u003cb style=\\\"color:Colors.BLUE_SKY_CRAYOLA;line-height:60px\\\"\\u003eReference\\u003c\\u002fb\\u003e\",\"[2000:2249]\",\"Chunk index: \\u003cb\\u003e8\\u003c\\u002fb\\u003e\",534.8504],[\"\\u003cb\\u003eRMSE\\u003c\\u002fb\\u003e\",\"\\u003cb style=\\\"color:Colors.BLUE_SKY_CRAYOLA;line-height:60px\\\"\\u003eReference\\u003c\\u002fb\\u003e\",\"[2250:2499]\",\"Chunk index: \\u003cb\\u003e9\\u003c\\u002fb\\u003e\",502.5727],[\"\\u003cb\\u003eRMSE\\u003c\\u002fb\\u003e\",\"\\u003cb style=\\\"color:Colors.BLUE_SKY_CRAYOLA;line-height:60px\\\"\\u003eReference\\u003c\\u002fb\\u003e\",\"[2500:2749]\",\"Chunk index: \\u003cb\\u003e10\\u003c\\u002fb\\u003e\",531.5404],[\"\\u003cb\\u003eRMSE\\u003c\\u002fb\\u003e\",\"\\u003cb style=\\\"color:Colors.BLUE_SKY_CRAYOLA;line-height:60px\\\"\\u003eReference\\u003c\\u002fb\\u003e\",\"[2750:2999]\",\"Chunk index: \\u003cb\\u003e11\\u003c\\u002fb\\u003e\",557.3808],[\"\\u003cb\\u003eRMSE\\u003c\\u002fb\\u003e\",\"\\u003cb style=\\\"color:Colors.BLUE_SKY_CRAYOLA;line-height:60px\\\"\\u003eReference\\u003c\\u002fb\\u003e\",\"[3000:3249]\",\"Chunk index: \\u003cb\\u003e12\\u003c\\u002fb\\u003e\",560.7556],[\"\\u003cb\\u003eRMSE\\u003c\\u002fb\\u003e\",\"\\u003cb style=\\\"color:Colors.BLUE_SKY_CRAYOLA;line-height:60px\\\"\\u003eReference\\u003c\\u002fb\\u003e\",\"[3250:3499]\",\"Chunk index: \\u003cb\\u003e13\\u003c\\u002fb\\u003e\",436.6457],[\"\\u003cb\\u003eRMSE\\u003c\\u002fb\\u003e\",\"\\u003cb style=\\\"color:Colors.BLUE_SKY_CRAYOLA;line-height:60px\\\"\\u003eReference\\u003c\\u002fb\\u003e\",\"[3500:3749]\",\"Chunk index: \\u003cb\\u003e14\\u003c\\u002fb\\u003e\",453.2526],[\"\\u003cb\\u003eRMSE\\u003c\\u002fb\\u003e\",\"\\u003cb style=\\\"color:Colors.BLUE_SKY_CRAYOLA;line-height:60px\\\"\\u003eReference\\u003c\\u002fb\\u003e\",\"[3750:3999]\",\"Chunk index: \\u003cb\\u003e15\\u003c\\u002fb\\u003e\",480.5986],[\"\\u003cb\\u003eRMSE\\u003c\\u002fb\\u003e\",\"\\u003cb style=\\\"color:Colors.BLUE_SKY_CRAYOLA;line-height:60px\\\"\\u003eReference\\u003c\\u002fb\\u003e\",\"[4000:4249]\",\"Chunk index: \\u003cb\\u003e16\\u003c\\u002fb\\u003e\",794.5359],[\"\\u003cb\\u003eRMSE\\u003c\\u002fb\\u003e\",\"\\u003cb style=\\\"color:Colors.BLUE_SKY_CRAYOLA;line-height:60px\\\"\\u003eReference\\u003c\\u002fb\\u003e\",\"[4250:4499]\",\"Chunk index: \\u003cb\\u003e17\\u003c\\u002fb\\u003e\",512.496],[\"\\u003cb\\u003eRMSE\\u003c\\u002fb\\u003e\",\"\\u003cb style=\\\"color:Colors.BLUE_SKY_CRAYOLA;line-height:60px\\\"\\u003eReference\\u003c\\u002fb\\u003e\",\"[4500:4749]\",\"Chunk index: \\u003cb\\u003e18\\u003c\\u002fb\\u003e\",445.3319],[\"\\u003cb\\u003eRMSE\\u003c\\u002fb\\u003e\",\"\\u003cb style=\\\"color:Colors.BLUE_SKY_CRAYOLA;line-height:60px\\\"\\u003eReference\\u003c\\u002fb\\u003e\",\"[4750:4999]\",\"Chunk index: \\u003cb\\u003e19\\u003c\\u002fb\\u003e\",575.4807],[\"\\u003cb\\u003eRMSE\\u003c\\u002fb\\u003e\",\"\\u003cb style=\\\"color:Colors.BLUE_SKY_CRAYOLA;line-height:60px\\\"\\u003eReference\\u003c\\u002fb\\u003e\",\"[5000:5393]\",\"Chunk index: \\u003cb\\u003e20\\u003c\\u002fb\\u003e\",412.4354]],\"hovertemplate\":\"%{customdata[1]}\\u003cbr \\u002f\\u003eChunk: \\u003cb\\u003e%{customdata[2]}\\u003c\\u002fb\\u003e &nbsp; &nbsp; %{customdata[3]} \\u003cbr \\u002f\\u003e%{customdata[0]}: \\u003cb\\u003e%{customdata[4]}\\u003c\\u002fb\\u003e\\u003cbr \\u002f\\u003e\\u003cextra\\u003e\\u003c\\u002fextra\\u003e\",\"marker\":{\"color\":\"#00c8e5\",\"size\":5,\"symbol\":\"circle\"},\"mode\":\"markers\",\"name\":\"\\u003cb\\u003eRMSE\\u003c\\u002fb\\u003e (realized RMSE)\",\"showlegend\":false,\"x\":[0.5,1.5,2.5,3.5,4.5,5.5,6.5,7.5,8.5,9.5,10.5,11.5,12.5,13.5,14.5,15.5,16.5,17.5,18.5,19.5,20.5],\"xaxis\":\"x\",\"y\":[616.6532091011874,666.1114762012899,569.2648360907617,590.0239205256347,372.99346386997354,431.4322760129166,447.8504166610995,440.83897856346607,534.8503772616326,502.57266271536383,531.5404151753644,557.380781347486,560.7555713272176,436.6457075799727,453.2526238798875,480.59858565770753,794.5359112074308,512.4959795977219,445.33188032223575,575.4806863384634,412.43543126123456,412.43543126123456],\"yaxis\":\"y\",\"type\":\"scatter\"},{\"hoverinfo\":\"skip\",\"line\":{\"color\":\"#3b0280\",\"dash\":\"dash\",\"shape\":\"hv\",\"width\":2},\"mode\":\"lines\",\"name\":\"\\u003cb\\u003eRMSE\\u003c\\u002fb\\u003e (estimated RMSE)\",\"showlegend\":false,\"x\":[21,22,23,24,25,26,27,28,29,30,31,32,33,34,35,36,37,38,39,40,41,42],\"xaxis\":\"x\",\"y\":[572.7086344479326,549.175604449882,482.59052581733823,555.0745629995473,592.3948950788712,610.6844084166105,473.57865024804926,471.00968854597573,553.0924620275355,509.1522661860589,589.1327761913707,514.1856389044622,456.54039570673825,517.0563777055689,563.3244311247107,573.8269126302447,931.6183277265753,1221.693240095721,1265.4212178922928,1209.2694009493498,1238.4277559549248,1238.4277559549248],\"yaxis\":\"y\",\"type\":\"scatter\"},{\"customdata\":[[\"\\u003cb\\u003eRMSE\\u003c\\u002fb\\u003e (estimated RMSE)\",\"\\u003cb style=\\\"color:Colors.INDIGO_PERSIAN;line-height:60px\\\"\\u003eAnalysis\\u003c\\u002fb\\u003e\",\"\",\"[0:249]\",\"Chunk index: \\u003cb\\u003e21\\u003c\\u002fb\\u003e\",572.7086],[\"\\u003cb\\u003eRMSE\\u003c\\u002fb\\u003e (estimated RMSE)\",\"\\u003cb style=\\\"color:Colors.INDIGO_PERSIAN;line-height:60px\\\"\\u003eAnalysis\\u003c\\u002fb\\u003e\",\"\",\"[250:499]\",\"Chunk index: \\u003cb\\u003e22\\u003c\\u002fb\\u003e\",549.1756],[\"\\u003cb\\u003eRMSE\\u003c\\u002fb\\u003e (estimated RMSE)\",\"\\u003cb style=\\\"color:Colors.INDIGO_PERSIAN;line-height:60px\\\"\\u003eAnalysis\\u003c\\u002fb\\u003e\",\"\",\"[500:749]\",\"Chunk index: \\u003cb\\u003e23\\u003c\\u002fb\\u003e\",482.5905],[\"\\u003cb\\u003eRMSE\\u003c\\u002fb\\u003e (estimated RMSE)\",\"\\u003cb style=\\\"color:Colors.INDIGO_PERSIAN;line-height:60px\\\"\\u003eAnalysis\\u003c\\u002fb\\u003e\",\"\",\"[750:999]\",\"Chunk index: \\u003cb\\u003e24\\u003c\\u002fb\\u003e\",555.0746],[\"\\u003cb\\u003eRMSE\\u003c\\u002fb\\u003e (estimated RMSE)\",\"\\u003cb style=\\\"color:Colors.INDIGO_PERSIAN;line-height:60px\\\"\\u003eAnalysis\\u003c\\u002fb\\u003e\",\"\",\"[1000:1249]\",\"Chunk index: \\u003cb\\u003e25\\u003c\\u002fb\\u003e\",592.3949],[\"\\u003cb\\u003eRMSE\\u003c\\u002fb\\u003e (estimated RMSE)\",\"\\u003cb style=\\\"color:Colors.INDIGO_PERSIAN;line-height:60px\\\"\\u003eAnalysis\\u003c\\u002fb\\u003e\",\"\",\"[1250:1499]\",\"Chunk index: \\u003cb\\u003e26\\u003c\\u002fb\\u003e\",610.6844],[\"\\u003cb\\u003eRMSE\\u003c\\u002fb\\u003e (estimated RMSE)\",\"\\u003cb style=\\\"color:Colors.INDIGO_PERSIAN;line-height:60px\\\"\\u003eAnalysis\\u003c\\u002fb\\u003e\",\"\",\"[1500:1749]\",\"Chunk index: \\u003cb\\u003e27\\u003c\\u002fb\\u003e\",473.5787],[\"\\u003cb\\u003eRMSE\\u003c\\u002fb\\u003e (estimated RMSE)\",\"\\u003cb style=\\\"color:Colors.INDIGO_PERSIAN;line-height:60px\\\"\\u003eAnalysis\\u003c\\u002fb\\u003e\",\"\",\"[1750:1999]\",\"Chunk index: \\u003cb\\u003e28\\u003c\\u002fb\\u003e\",471.0097],[\"\\u003cb\\u003eRMSE\\u003c\\u002fb\\u003e (estimated RMSE)\",\"\\u003cb style=\\\"color:Colors.INDIGO_PERSIAN;line-height:60px\\\"\\u003eAnalysis\\u003c\\u002fb\\u003e\",\"\",\"[2000:2249]\",\"Chunk index: \\u003cb\\u003e29\\u003c\\u002fb\\u003e\",553.0925],[\"\\u003cb\\u003eRMSE\\u003c\\u002fb\\u003e (estimated RMSE)\",\"\\u003cb style=\\\"color:Colors.INDIGO_PERSIAN;line-height:60px\\\"\\u003eAnalysis\\u003c\\u002fb\\u003e\",\"\",\"[2250:2499]\",\"Chunk index: \\u003cb\\u003e30\\u003c\\u002fb\\u003e\",509.1523],[\"\\u003cb\\u003eRMSE\\u003c\\u002fb\\u003e (estimated RMSE)\",\"\\u003cb style=\\\"color:Colors.INDIGO_PERSIAN;line-height:60px\\\"\\u003eAnalysis\\u003c\\u002fb\\u003e\",\"\",\"[2500:2749]\",\"Chunk index: \\u003cb\\u003e31\\u003c\\u002fb\\u003e\",589.1328],[\"\\u003cb\\u003eRMSE\\u003c\\u002fb\\u003e (estimated RMSE)\",\"\\u003cb style=\\\"color:Colors.INDIGO_PERSIAN;line-height:60px\\\"\\u003eAnalysis\\u003c\\u002fb\\u003e\",\"\",\"[2750:2999]\",\"Chunk index: \\u003cb\\u003e32\\u003c\\u002fb\\u003e\",514.1856],[\"\\u003cb\\u003eRMSE\\u003c\\u002fb\\u003e (estimated RMSE)\",\"\\u003cb style=\\\"color:Colors.INDIGO_PERSIAN;line-height:60px\\\"\\u003eAnalysis\\u003c\\u002fb\\u003e\",\"\",\"[3000:3249]\",\"Chunk index: \\u003cb\\u003e33\\u003c\\u002fb\\u003e\",456.5404],[\"\\u003cb\\u003eRMSE\\u003c\\u002fb\\u003e (estimated RMSE)\",\"\\u003cb style=\\\"color:Colors.INDIGO_PERSIAN;line-height:60px\\\"\\u003eAnalysis\\u003c\\u002fb\\u003e\",\"\",\"[3250:3499]\",\"Chunk index: \\u003cb\\u003e34\\u003c\\u002fb\\u003e\",517.0564],[\"\\u003cb\\u003eRMSE\\u003c\\u002fb\\u003e (estimated RMSE)\",\"\\u003cb style=\\\"color:Colors.INDIGO_PERSIAN;line-height:60px\\\"\\u003eAnalysis\\u003c\\u002fb\\u003e\",\"\",\"[3500:3749]\",\"Chunk index: \\u003cb\\u003e35\\u003c\\u002fb\\u003e\",563.3244],[\"\\u003cb\\u003eRMSE\\u003c\\u002fb\\u003e (estimated RMSE)\",\"\\u003cb style=\\\"color:Colors.INDIGO_PERSIAN;line-height:60px\\\"\\u003eAnalysis\\u003c\\u002fb\\u003e\",\"\",\"[3750:3999]\",\"Chunk index: \\u003cb\\u003e36\\u003c\\u002fb\\u003e\",573.8269],[\"\\u003cb\\u003eRMSE\\u003c\\u002fb\\u003e (estimated RMSE)\",\"\\u003cb style=\\\"color:Colors.INDIGO_PERSIAN;line-height:60px\\\"\\u003eAnalysis\\u003c\\u002fb\\u003e\",\"\\u003cspan style=\\\"color:#AD0000\\\"\\u003e\\u26a0 \\u003cb\\u003eDrift detected\\u003c\\u002fb\\u003e\\u003c\\u002fspan\\u003e\",\"[4000:4249]\",\"Chunk index: \\u003cb\\u003e37\\u003c\\u002fb\\u003e\",931.6183],[\"\\u003cb\\u003eRMSE\\u003c\\u002fb\\u003e (estimated RMSE)\",\"\\u003cb style=\\\"color:Colors.INDIGO_PERSIAN;line-height:60px\\\"\\u003eAnalysis\\u003c\\u002fb\\u003e\",\"\\u003cspan style=\\\"color:#AD0000\\\"\\u003e\\u26a0 \\u003cb\\u003eDrift detected\\u003c\\u002fb\\u003e\\u003c\\u002fspan\\u003e\",\"[4250:4499]\",\"Chunk index: \\u003cb\\u003e38\\u003c\\u002fb\\u003e\",1221.6932],[\"\\u003cb\\u003eRMSE\\u003c\\u002fb\\u003e (estimated RMSE)\",\"\\u003cb style=\\\"color:Colors.INDIGO_PERSIAN;line-height:60px\\\"\\u003eAnalysis\\u003c\\u002fb\\u003e\",\"\\u003cspan style=\\\"color:#AD0000\\\"\\u003e\\u26a0 \\u003cb\\u003eDrift detected\\u003c\\u002fb\\u003e\\u003c\\u002fspan\\u003e\",\"[4500:4749]\",\"Chunk index: \\u003cb\\u003e39\\u003c\\u002fb\\u003e\",1265.4212],[\"\\u003cb\\u003eRMSE\\u003c\\u002fb\\u003e (estimated RMSE)\",\"\\u003cb style=\\\"color:Colors.INDIGO_PERSIAN;line-height:60px\\\"\\u003eAnalysis\\u003c\\u002fb\\u003e\",\"\\u003cspan style=\\\"color:#AD0000\\\"\\u003e\\u26a0 \\u003cb\\u003eDrift detected\\u003c\\u002fb\\u003e\\u003c\\u002fspan\\u003e\",\"[4750:4999]\",\"Chunk index: \\u003cb\\u003e40\\u003c\\u002fb\\u003e\",1209.2694],[\"\\u003cb\\u003eRMSE\\u003c\\u002fb\\u003e (estimated RMSE)\",\"\\u003cb style=\\\"color:Colors.INDIGO_PERSIAN;line-height:60px\\\"\\u003eAnalysis\\u003c\\u002fb\\u003e\",\"\\u003cspan style=\\\"color:#AD0000\\\"\\u003e\\u26a0 \\u003cb\\u003eDrift detected\\u003c\\u002fb\\u003e\\u003c\\u002fspan\\u003e\",\"[5000:5393]\",\"Chunk index: \\u003cb\\u003e41\\u003c\\u002fb\\u003e\",1238.4278]],\"hovertemplate\":\"%{customdata[1]} &nbsp; &nbsp; %{customdata[2]} \\u003cbr \\u002f\\u003eChunk: \\u003cb\\u003e%{customdata[3]}\\u003c\\u002fb\\u003e &nbsp; &nbsp; %{customdata[4]} \\u003cbr \\u002f\\u003e%{customdata[0]}: \\u003cb\\u003e%{customdata[5]}\\u003c\\u002fb\\u003e\\u003cbr \\u002f\\u003e\\u003cextra\\u003e\\u003c\\u002fextra\\u003e\",\"line\":{\"dash\":\"dash\"},\"marker\":{\"color\":\"#3b0280\",\"size\":5,\"symbol\":\"circle\"},\"mode\":\"markers\",\"name\":\"\\u003cb\\u003eRMSE\\u003c\\u002fb\\u003e (estimated RMSE)\",\"showlegend\":false,\"x\":[21.5,22.5,23.5,24.5,25.5,26.5,27.5,28.5,29.5,30.5,31.5,32.5,33.5,34.5,35.5,36.5,37.5,38.5,39.5,40.5,41.5],\"xaxis\":\"x\",\"y\":[572.7086344479326,549.175604449882,482.59052581733823,555.0745629995473,592.3948950788712,610.6844084166105,473.57865024804926,471.00968854597573,553.0924620275355,509.1522661860589,589.1327761913707,514.1856389044622,456.54039570673825,517.0563777055689,563.3244311247107,573.8269126302447,931.6183277265753,1221.693240095721,1265.4212178922928,1209.2694009493498,1238.4277559549248,1238.4277559549248],\"yaxis\":\"y\",\"type\":\"scatter\"},{\"hoverinfo\":\"skip\",\"line\":{\"color\":\"rgba(0,0,0,0)\",\"shape\":\"hv\"},\"mode\":\"lines\",\"name\":\"Confidence band\",\"showlegend\":false,\"x\":[21,22,23,24,25,26,27,28,29,30,31,32,33,34,35,36,37,38,39,40,41,42],\"xaxis\":\"x\",\"y\":[870.7816392229685,847.2486092249179,780.6635305923742,853.1475677745832,890.467899853907,908.7574131916464,771.6516550230851,769.0826933210117,851.1654668025714,807.2252709610948,887.2057809664066,812.258643679498,754.6134004817741,815.1293824806048,861.3974358997466,871.8999174052806,1229.6913325016112,1519.766244870757,1563.4942226673288,1507.3424057243856,1475.8626470779452,1475.8626470779452],\"yaxis\":\"y\",\"type\":\"scatter\"},{\"fill\":\"tonexty\",\"fillcolor\":\"rgba(0.23137254901960785, 0.00784313725490196, 0.5019607843137255, 0.2)\",\"hoverinfo\":\"skip\",\"line\":{\"color\":\"rgba(0,0,0,0)\",\"shape\":\"hv\"},\"mode\":\"lines\",\"name\":\"Confidence band\",\"showlegend\":false,\"x\":[21,22,23,24,25,26,27,28,29,30,31,32,33,34,35,36,37,38,39,40,41,42],\"xaxis\":\"x\",\"y\":[274.6356296728967,251.10259967484615,184.51752104230235,257.0015582245114,294.3218903038353,312.6114036415746,175.50564547301337,172.93668377093985,255.0194572524996,211.07926141102303,291.0597714163348,216.11263412942628,158.46739093170237,218.98337293053305,265.25142634967483,275.7539078552088,633.5453229515394,923.6202353206851,967.3482131172569,911.1963961743139,1000.9928648319043,1000.9928648319043],\"yaxis\":\"y\",\"type\":\"scatter\"},{\"hoverinfo\":\"skip\",\"line\":{\"color\":\"#00c8e5\",\"shape\":\"hv\",\"width\":2},\"mode\":\"lines\",\"name\":\"\\u003cb\\u003eRMSE\\u003c\\u002fb\\u003e (realized RMSE)\",\"showlegend\":false,\"x\":[21,22,23,24,25,26,27,28,29,30,31,32,33,34,35,36,37,38,39,40,41,42],\"xaxis\":\"x\",\"y\":[497.278867413763,461.3997899958315,500.8223989339171,531.4799802778425,514.7019612753825,545.0224714210253,498.48332757679316,477.46089230747634,617.3316202001431,441.2851527020593,502.0362450354136,497.07819934076986,389.40182495687685,441.88681995628167,469.79311301307513,612.4099931942853,851.6292600950732,1130.289242928707,993.9998250297137,1075.1371476966801,944.4536293241481,944.4536293241481],\"yaxis\":\"y\",\"type\":\"scatter\"},{\"customdata\":[[\"\\u003cb\\u003eRMSE\\u003c\\u002fb\\u003e\",\"\\u003cb style=\\\"color:Colors.BLUE_SKY_CRAYOLA;line-height:60px\\\"\\u003eAnalysis\\u003c\\u002fb\\u003e\",\"\",\"[0:249]\",\"Chunk index: \\u003cb\\u003e21\\u003c\\u002fb\\u003e\",497.2789],[\"\\u003cb\\u003eRMSE\\u003c\\u002fb\\u003e\",\"\\u003cb style=\\\"color:Colors.BLUE_SKY_CRAYOLA;line-height:60px\\\"\\u003eAnalysis\\u003c\\u002fb\\u003e\",\"\",\"[250:499]\",\"Chunk index: \\u003cb\\u003e22\\u003c\\u002fb\\u003e\",461.3998],[\"\\u003cb\\u003eRMSE\\u003c\\u002fb\\u003e\",\"\\u003cb style=\\\"color:Colors.BLUE_SKY_CRAYOLA;line-height:60px\\\"\\u003eAnalysis\\u003c\\u002fb\\u003e\",\"\",\"[500:749]\",\"Chunk index: \\u003cb\\u003e23\\u003c\\u002fb\\u003e\",500.8224],[\"\\u003cb\\u003eRMSE\\u003c\\u002fb\\u003e\",\"\\u003cb style=\\\"color:Colors.BLUE_SKY_CRAYOLA;line-height:60px\\\"\\u003eAnalysis\\u003c\\u002fb\\u003e\",\"\",\"[750:999]\",\"Chunk index: \\u003cb\\u003e24\\u003c\\u002fb\\u003e\",531.48],[\"\\u003cb\\u003eRMSE\\u003c\\u002fb\\u003e\",\"\\u003cb style=\\\"color:Colors.BLUE_SKY_CRAYOLA;line-height:60px\\\"\\u003eAnalysis\\u003c\\u002fb\\u003e\",\"\",\"[1000:1249]\",\"Chunk index: \\u003cb\\u003e25\\u003c\\u002fb\\u003e\",514.702],[\"\\u003cb\\u003eRMSE\\u003c\\u002fb\\u003e\",\"\\u003cb style=\\\"color:Colors.BLUE_SKY_CRAYOLA;line-height:60px\\\"\\u003eAnalysis\\u003c\\u002fb\\u003e\",\"\",\"[1250:1499]\",\"Chunk index: \\u003cb\\u003e26\\u003c\\u002fb\\u003e\",545.0225],[\"\\u003cb\\u003eRMSE\\u003c\\u002fb\\u003e\",\"\\u003cb style=\\\"color:Colors.BLUE_SKY_CRAYOLA;line-height:60px\\\"\\u003eAnalysis\\u003c\\u002fb\\u003e\",\"\",\"[1500:1749]\",\"Chunk index: \\u003cb\\u003e27\\u003c\\u002fb\\u003e\",498.4833],[\"\\u003cb\\u003eRMSE\\u003c\\u002fb\\u003e\",\"\\u003cb style=\\\"color:Colors.BLUE_SKY_CRAYOLA;line-height:60px\\\"\\u003eAnalysis\\u003c\\u002fb\\u003e\",\"\",\"[1750:1999]\",\"Chunk index: \\u003cb\\u003e28\\u003c\\u002fb\\u003e\",477.4609],[\"\\u003cb\\u003eRMSE\\u003c\\u002fb\\u003e\",\"\\u003cb style=\\\"color:Colors.BLUE_SKY_CRAYOLA;line-height:60px\\\"\\u003eAnalysis\\u003c\\u002fb\\u003e\",\"\",\"[2000:2249]\",\"Chunk index: \\u003cb\\u003e29\\u003c\\u002fb\\u003e\",617.3316],[\"\\u003cb\\u003eRMSE\\u003c\\u002fb\\u003e\",\"\\u003cb style=\\\"color:Colors.BLUE_SKY_CRAYOLA;line-height:60px\\\"\\u003eAnalysis\\u003c\\u002fb\\u003e\",\"\",\"[2250:2499]\",\"Chunk index: \\u003cb\\u003e30\\u003c\\u002fb\\u003e\",441.2852],[\"\\u003cb\\u003eRMSE\\u003c\\u002fb\\u003e\",\"\\u003cb style=\\\"color:Colors.BLUE_SKY_CRAYOLA;line-height:60px\\\"\\u003eAnalysis\\u003c\\u002fb\\u003e\",\"\",\"[2500:2749]\",\"Chunk index: \\u003cb\\u003e31\\u003c\\u002fb\\u003e\",502.0362],[\"\\u003cb\\u003eRMSE\\u003c\\u002fb\\u003e\",\"\\u003cb style=\\\"color:Colors.BLUE_SKY_CRAYOLA;line-height:60px\\\"\\u003eAnalysis\\u003c\\u002fb\\u003e\",\"\",\"[2750:2999]\",\"Chunk index: \\u003cb\\u003e32\\u003c\\u002fb\\u003e\",497.0782],[\"\\u003cb\\u003eRMSE\\u003c\\u002fb\\u003e\",\"\\u003cb style=\\\"color:Colors.BLUE_SKY_CRAYOLA;line-height:60px\\\"\\u003eAnalysis\\u003c\\u002fb\\u003e\",\"\",\"[3000:3249]\",\"Chunk index: \\u003cb\\u003e33\\u003c\\u002fb\\u003e\",389.4018],[\"\\u003cb\\u003eRMSE\\u003c\\u002fb\\u003e\",\"\\u003cb style=\\\"color:Colors.BLUE_SKY_CRAYOLA;line-height:60px\\\"\\u003eAnalysis\\u003c\\u002fb\\u003e\",\"\",\"[3250:3499]\",\"Chunk index: \\u003cb\\u003e34\\u003c\\u002fb\\u003e\",441.8868],[\"\\u003cb\\u003eRMSE\\u003c\\u002fb\\u003e\",\"\\u003cb style=\\\"color:Colors.BLUE_SKY_CRAYOLA;line-height:60px\\\"\\u003eAnalysis\\u003c\\u002fb\\u003e\",\"\",\"[3500:3749]\",\"Chunk index: \\u003cb\\u003e35\\u003c\\u002fb\\u003e\",469.7931],[\"\\u003cb\\u003eRMSE\\u003c\\u002fb\\u003e\",\"\\u003cb style=\\\"color:Colors.BLUE_SKY_CRAYOLA;line-height:60px\\\"\\u003eAnalysis\\u003c\\u002fb\\u003e\",\"\",\"[3750:3999]\",\"Chunk index: \\u003cb\\u003e36\\u003c\\u002fb\\u003e\",612.41],[\"\\u003cb\\u003eRMSE\\u003c\\u002fb\\u003e\",\"\\u003cb style=\\\"color:Colors.BLUE_SKY_CRAYOLA;line-height:60px\\\"\\u003eAnalysis\\u003c\\u002fb\\u003e\",\"\\u003cspan style=\\\"color:#AD0000\\\"\\u003e\\u26a0 \\u003cb\\u003eDrift detected\\u003c\\u002fb\\u003e\\u003c\\u002fspan\\u003e\",\"[4000:4249]\",\"Chunk index: \\u003cb\\u003e37\\u003c\\u002fb\\u003e\",851.6293],[\"\\u003cb\\u003eRMSE\\u003c\\u002fb\\u003e\",\"\\u003cb style=\\\"color:Colors.BLUE_SKY_CRAYOLA;line-height:60px\\\"\\u003eAnalysis\\u003c\\u002fb\\u003e\",\"\\u003cspan style=\\\"color:#AD0000\\\"\\u003e\\u26a0 \\u003cb\\u003eDrift detected\\u003c\\u002fb\\u003e\\u003c\\u002fspan\\u003e\",\"[4250:4499]\",\"Chunk index: \\u003cb\\u003e38\\u003c\\u002fb\\u003e\",1130.2892],[\"\\u003cb\\u003eRMSE\\u003c\\u002fb\\u003e\",\"\\u003cb style=\\\"color:Colors.BLUE_SKY_CRAYOLA;line-height:60px\\\"\\u003eAnalysis\\u003c\\u002fb\\u003e\",\"\\u003cspan style=\\\"color:#AD0000\\\"\\u003e\\u26a0 \\u003cb\\u003eDrift detected\\u003c\\u002fb\\u003e\\u003c\\u002fspan\\u003e\",\"[4500:4749]\",\"Chunk index: \\u003cb\\u003e39\\u003c\\u002fb\\u003e\",993.9998],[\"\\u003cb\\u003eRMSE\\u003c\\u002fb\\u003e\",\"\\u003cb style=\\\"color:Colors.BLUE_SKY_CRAYOLA;line-height:60px\\\"\\u003eAnalysis\\u003c\\u002fb\\u003e\",\"\\u003cspan style=\\\"color:#AD0000\\\"\\u003e\\u26a0 \\u003cb\\u003eDrift detected\\u003c\\u002fb\\u003e\\u003c\\u002fspan\\u003e\",\"[4750:4999]\",\"Chunk index: \\u003cb\\u003e40\\u003c\\u002fb\\u003e\",1075.1371],[\"\\u003cb\\u003eRMSE\\u003c\\u002fb\\u003e\",\"\\u003cb style=\\\"color:Colors.BLUE_SKY_CRAYOLA;line-height:60px\\\"\\u003eAnalysis\\u003c\\u002fb\\u003e\",\"\\u003cspan style=\\\"color:#AD0000\\\"\\u003e\\u26a0 \\u003cb\\u003eDrift detected\\u003c\\u002fb\\u003e\\u003c\\u002fspan\\u003e\",\"[5000:5393]\",\"Chunk index: \\u003cb\\u003e41\\u003c\\u002fb\\u003e\",944.4536]],\"hovertemplate\":\"%{customdata[1]} &nbsp; &nbsp; %{customdata[2]} \\u003cbr \\u002f\\u003eChunk: \\u003cb\\u003e%{customdata[3]}\\u003c\\u002fb\\u003e &nbsp; &nbsp; %{customdata[4]} \\u003cbr \\u002f\\u003e%{customdata[0]}: \\u003cb\\u003e%{customdata[5]}\\u003c\\u002fb\\u003e\\u003cbr \\u002f\\u003e\\u003cextra\\u003e\\u003c\\u002fextra\\u003e\",\"marker\":{\"color\":\"#00c8e5\",\"size\":5,\"symbol\":\"circle\"},\"mode\":\"markers\",\"name\":\"\\u003cb\\u003eRMSE\\u003c\\u002fb\\u003e (realized RMSE)\",\"showlegend\":false,\"x\":[21.5,22.5,23.5,24.5,25.5,26.5,27.5,28.5,29.5,30.5,31.5,32.5,33.5,34.5,35.5,36.5,37.5,38.5,39.5,40.5,41.5],\"xaxis\":\"x\",\"y\":[497.278867413763,461.3997899958315,500.8223989339171,531.4799802778425,514.7019612753825,545.0224714210253,498.48332757679316,477.46089230747634,617.3316202001431,441.2851527020593,502.0362450354136,497.07819934076986,389.40182495687685,441.88681995628167,469.79311301307513,612.4099931942853,851.6292600950732,1130.289242928707,993.9998250297137,1075.1371476966801,944.4536293241481,944.4536293241481],\"yaxis\":\"y\",\"type\":\"scatter\"},{\"hoverinfo\":\"skip\",\"legendgroup\":\"alert\",\"marker\":{\"color\":\"#DD4040\",\"size\":8,\"symbol\":\"diamond\"},\"mode\":\"markers\",\"name\":\"Alert\",\"showlegend\":true,\"x\":[37.5,38.5,39.5,40.5,41.5],\"xaxis\":\"x\",\"y\":[931.6183277265753,1221.693240095721,1265.4212178922928,1209.2694009493498,1238.4277559549248],\"yaxis\":\"y\",\"type\":\"scatter\"},{\"hoverinfo\":\"skip\",\"legendgroup\":\"alert\",\"marker\":{\"color\":\"#DD4040\",\"size\":8,\"symbol\":\"diamond\"},\"mode\":\"markers\",\"name\":\"Alert\",\"showlegend\":false,\"x\":[37.5,38.5,39.5,40.5,41.5],\"xaxis\":\"x\",\"y\":[851.6292600950732,1130.289242928707,993.9998250297137,1075.1371476966801,944.4536293241481],\"yaxis\":\"y\",\"type\":\"scatter\"}],                        {\"height\":500.0,\"hoverlabel\":{\"bgcolor\":\"white\",\"font\":{\"size\":14}},\"legend\":{\"itemclick\":false,\"itemdoubleclick\":false,\"traceorder\":\"grouped\"},\"paper_bgcolor\":\"rgba(255,255,255,1)\",\"plot_bgcolor\":\"rgba(255,255,255,1)\",\"title\":{\"text\":\"\\u003cb\\u003eEstimated performance (DLE)\\u003c\\u002fb\\u003e vs. \\u003cb\\u003eRealized performance\\u003c\\u002fb\\u003e\"},\"xaxis\":{\"linecolor\":\"#3b0280\",\"mirror\":true,\"showgrid\":false,\"title\":{\"text\":\"Chunk\"},\"zeroline\":false,\"anchor\":\"y\",\"domain\":[0.0,0.94],\"matches\":\"x\"},\"yaxis\":{\"linecolor\":\"#3b0280\",\"mirror\":true,\"showgrid\":false,\"title\":{\"text\":\"\\u003cb\\u003eRMSE\\u003c\\u002fb\\u003e\"},\"zeroline\":false,\"anchor\":\"x\",\"domain\":[0.0,1.0]},\"template\":{\"data\":{\"histogram2dcontour\":[{\"type\":\"histogram2dcontour\",\"colorbar\":{\"outlinewidth\":0,\"ticks\":\"\"},\"colorscale\":[[0.0,\"#0d0887\"],[0.1111111111111111,\"#46039f\"],[0.2222222222222222,\"#7201a8\"],[0.3333333333333333,\"#9c179e\"],[0.4444444444444444,\"#bd3786\"],[0.5555555555555556,\"#d8576b\"],[0.6666666666666666,\"#ed7953\"],[0.7777777777777778,\"#fb9f3a\"],[0.8888888888888888,\"#fdca26\"],[1.0,\"#f0f921\"]]}],\"choropleth\":[{\"type\":\"choropleth\",\"colorbar\":{\"outlinewidth\":0,\"ticks\":\"\"}}],\"histogram2d\":[{\"type\":\"histogram2d\",\"colorbar\":{\"outlinewidth\":0,\"ticks\":\"\"},\"colorscale\":[[0.0,\"#0d0887\"],[0.1111111111111111,\"#46039f\"],[0.2222222222222222,\"#7201a8\"],[0.3333333333333333,\"#9c179e\"],[0.4444444444444444,\"#bd3786\"],[0.5555555555555556,\"#d8576b\"],[0.6666666666666666,\"#ed7953\"],[0.7777777777777778,\"#fb9f3a\"],[0.8888888888888888,\"#fdca26\"],[1.0,\"#f0f921\"]]}],\"heatmap\":[{\"type\":\"heatmap\",\"colorbar\":{\"outlinewidth\":0,\"ticks\":\"\"},\"colorscale\":[[0.0,\"#0d0887\"],[0.1111111111111111,\"#46039f\"],[0.2222222222222222,\"#7201a8\"],[0.3333333333333333,\"#9c179e\"],[0.4444444444444444,\"#bd3786\"],[0.5555555555555556,\"#d8576b\"],[0.6666666666666666,\"#ed7953\"],[0.7777777777777778,\"#fb9f3a\"],[0.8888888888888888,\"#fdca26\"],[1.0,\"#f0f921\"]]}],\"heatmapgl\":[{\"type\":\"heatmapgl\",\"colorbar\":{\"outlinewidth\":0,\"ticks\":\"\"},\"colorscale\":[[0.0,\"#0d0887\"],[0.1111111111111111,\"#46039f\"],[0.2222222222222222,\"#7201a8\"],[0.3333333333333333,\"#9c179e\"],[0.4444444444444444,\"#bd3786\"],[0.5555555555555556,\"#d8576b\"],[0.6666666666666666,\"#ed7953\"],[0.7777777777777778,\"#fb9f3a\"],[0.8888888888888888,\"#fdca26\"],[1.0,\"#f0f921\"]]}],\"contourcarpet\":[{\"type\":\"contourcarpet\",\"colorbar\":{\"outlinewidth\":0,\"ticks\":\"\"}}],\"contour\":[{\"type\":\"contour\",\"colorbar\":{\"outlinewidth\":0,\"ticks\":\"\"},\"colorscale\":[[0.0,\"#0d0887\"],[0.1111111111111111,\"#46039f\"],[0.2222222222222222,\"#7201a8\"],[0.3333333333333333,\"#9c179e\"],[0.4444444444444444,\"#bd3786\"],[0.5555555555555556,\"#d8576b\"],[0.6666666666666666,\"#ed7953\"],[0.7777777777777778,\"#fb9f3a\"],[0.8888888888888888,\"#fdca26\"],[1.0,\"#f0f921\"]]}],\"surface\":[{\"type\":\"surface\",\"colorbar\":{\"outlinewidth\":0,\"ticks\":\"\"},\"colorscale\":[[0.0,\"#0d0887\"],[0.1111111111111111,\"#46039f\"],[0.2222222222222222,\"#7201a8\"],[0.3333333333333333,\"#9c179e\"],[0.4444444444444444,\"#bd3786\"],[0.5555555555555556,\"#d8576b\"],[0.6666666666666666,\"#ed7953\"],[0.7777777777777778,\"#fb9f3a\"],[0.8888888888888888,\"#fdca26\"],[1.0,\"#f0f921\"]]}],\"mesh3d\":[{\"type\":\"mesh3d\",\"colorbar\":{\"outlinewidth\":0,\"ticks\":\"\"}}],\"scatter\":[{\"fillpattern\":{\"fillmode\":\"overlay\",\"size\":10,\"solidity\":0.2},\"type\":\"scatter\"}],\"parcoords\":[{\"type\":\"parcoords\",\"line\":{\"colorbar\":{\"outlinewidth\":0,\"ticks\":\"\"}}}],\"scatterpolargl\":[{\"type\":\"scatterpolargl\",\"marker\":{\"colorbar\":{\"outlinewidth\":0,\"ticks\":\"\"}}}],\"bar\":[{\"error_x\":{\"color\":\"#2a3f5f\"},\"error_y\":{\"color\":\"#2a3f5f\"},\"marker\":{\"line\":{\"color\":\"#E5ECF6\",\"width\":0.5},\"pattern\":{\"fillmode\":\"overlay\",\"size\":10,\"solidity\":0.2}},\"type\":\"bar\"}],\"scattergeo\":[{\"type\":\"scattergeo\",\"marker\":{\"colorbar\":{\"outlinewidth\":0,\"ticks\":\"\"}}}],\"scatterpolar\":[{\"type\":\"scatterpolar\",\"marker\":{\"colorbar\":{\"outlinewidth\":0,\"ticks\":\"\"}}}],\"histogram\":[{\"marker\":{\"pattern\":{\"fillmode\":\"overlay\",\"size\":10,\"solidity\":0.2}},\"type\":\"histogram\"}],\"scattergl\":[{\"type\":\"scattergl\",\"marker\":{\"colorbar\":{\"outlinewidth\":0,\"ticks\":\"\"}}}],\"scatter3d\":[{\"type\":\"scatter3d\",\"line\":{\"colorbar\":{\"outlinewidth\":0,\"ticks\":\"\"}},\"marker\":{\"colorbar\":{\"outlinewidth\":0,\"ticks\":\"\"}}}],\"scattermapbox\":[{\"type\":\"scattermapbox\",\"marker\":{\"colorbar\":{\"outlinewidth\":0,\"ticks\":\"\"}}}],\"scatterternary\":[{\"type\":\"scatterternary\",\"marker\":{\"colorbar\":{\"outlinewidth\":0,\"ticks\":\"\"}}}],\"scattercarpet\":[{\"type\":\"scattercarpet\",\"marker\":{\"colorbar\":{\"outlinewidth\":0,\"ticks\":\"\"}}}],\"carpet\":[{\"aaxis\":{\"endlinecolor\":\"#2a3f5f\",\"gridcolor\":\"white\",\"linecolor\":\"white\",\"minorgridcolor\":\"white\",\"startlinecolor\":\"#2a3f5f\"},\"baxis\":{\"endlinecolor\":\"#2a3f5f\",\"gridcolor\":\"white\",\"linecolor\":\"white\",\"minorgridcolor\":\"white\",\"startlinecolor\":\"#2a3f5f\"},\"type\":\"carpet\"}],\"table\":[{\"cells\":{\"fill\":{\"color\":\"#EBF0F8\"},\"line\":{\"color\":\"white\"}},\"header\":{\"fill\":{\"color\":\"#C8D4E3\"},\"line\":{\"color\":\"white\"}},\"type\":\"table\"}],\"barpolar\":[{\"marker\":{\"line\":{\"color\":\"#E5ECF6\",\"width\":0.5},\"pattern\":{\"fillmode\":\"overlay\",\"size\":10,\"solidity\":0.2}},\"type\":\"barpolar\"}],\"pie\":[{\"automargin\":true,\"type\":\"pie\"}]},\"layout\":{\"autotypenumbers\":\"strict\",\"colorway\":[\"#636efa\",\"#EF553B\",\"#00cc96\",\"#ab63fa\",\"#FFA15A\",\"#19d3f3\",\"#FF6692\",\"#B6E880\",\"#FF97FF\",\"#FECB52\"],\"font\":{\"color\":\"#2a3f5f\"},\"hovermode\":\"closest\",\"hoverlabel\":{\"align\":\"left\"},\"paper_bgcolor\":\"white\",\"plot_bgcolor\":\"#E5ECF6\",\"polar\":{\"bgcolor\":\"#E5ECF6\",\"angularaxis\":{\"gridcolor\":\"white\",\"linecolor\":\"white\",\"ticks\":\"\"},\"radialaxis\":{\"gridcolor\":\"white\",\"linecolor\":\"white\",\"ticks\":\"\"}},\"ternary\":{\"bgcolor\":\"#E5ECF6\",\"aaxis\":{\"gridcolor\":\"white\",\"linecolor\":\"white\",\"ticks\":\"\"},\"baxis\":{\"gridcolor\":\"white\",\"linecolor\":\"white\",\"ticks\":\"\"},\"caxis\":{\"gridcolor\":\"white\",\"linecolor\":\"white\",\"ticks\":\"\"}},\"coloraxis\":{\"colorbar\":{\"outlinewidth\":0,\"ticks\":\"\"}},\"colorscale\":{\"sequential\":[[0.0,\"#0d0887\"],[0.1111111111111111,\"#46039f\"],[0.2222222222222222,\"#7201a8\"],[0.3333333333333333,\"#9c179e\"],[0.4444444444444444,\"#bd3786\"],[0.5555555555555556,\"#d8576b\"],[0.6666666666666666,\"#ed7953\"],[0.7777777777777778,\"#fb9f3a\"],[0.8888888888888888,\"#fdca26\"],[1.0,\"#f0f921\"]],\"sequentialminus\":[[0.0,\"#0d0887\"],[0.1111111111111111,\"#46039f\"],[0.2222222222222222,\"#7201a8\"],[0.3333333333333333,\"#9c179e\"],[0.4444444444444444,\"#bd3786\"],[0.5555555555555556,\"#d8576b\"],[0.6666666666666666,\"#ed7953\"],[0.7777777777777778,\"#fb9f3a\"],[0.8888888888888888,\"#fdca26\"],[1.0,\"#f0f921\"]],\"diverging\":[[0,\"#8e0152\"],[0.1,\"#c51b7d\"],[0.2,\"#de77ae\"],[0.3,\"#f1b6da\"],[0.4,\"#fde0ef\"],[0.5,\"#f7f7f7\"],[0.6,\"#e6f5d0\"],[0.7,\"#b8e186\"],[0.8,\"#7fbc41\"],[0.9,\"#4d9221\"],[1,\"#276419\"]]},\"xaxis\":{\"gridcolor\":\"white\",\"linecolor\":\"white\",\"ticks\":\"\",\"title\":{\"standoff\":15},\"zerolinecolor\":\"white\",\"automargin\":true,\"zerolinewidth\":2},\"yaxis\":{\"gridcolor\":\"white\",\"linecolor\":\"white\",\"ticks\":\"\",\"title\":{\"standoff\":15},\"zerolinecolor\":\"white\",\"automargin\":true,\"zerolinewidth\":2},\"scene\":{\"xaxis\":{\"backgroundcolor\":\"#E5ECF6\",\"gridcolor\":\"white\",\"linecolor\":\"white\",\"showbackground\":true,\"ticks\":\"\",\"zerolinecolor\":\"white\",\"gridwidth\":2},\"yaxis\":{\"backgroundcolor\":\"#E5ECF6\",\"gridcolor\":\"white\",\"linecolor\":\"white\",\"showbackground\":true,\"ticks\":\"\",\"zerolinecolor\":\"white\",\"gridwidth\":2},\"zaxis\":{\"backgroundcolor\":\"#E5ECF6\",\"gridcolor\":\"white\",\"linecolor\":\"white\",\"showbackground\":true,\"ticks\":\"\",\"zerolinecolor\":\"white\",\"gridwidth\":2}},\"shapedefaults\":{\"line\":{\"color\":\"#2a3f5f\"}},\"annotationdefaults\":{\"arrowcolor\":\"#2a3f5f\",\"arrowhead\":0,\"arrowwidth\":1},\"geo\":{\"bgcolor\":\"white\",\"landcolor\":\"#E5ECF6\",\"subunitcolor\":\"white\",\"showland\":true,\"showlakes\":true,\"lakecolor\":\"white\"},\"title\":{\"x\":0.05},\"mapbox\":{\"style\":\"light\"}}},\"yaxis2\":{\"anchor\":\"x\",\"overlaying\":\"y\",\"side\":\"right\",\"title\":{\"text\":\"Comparison\"},\"linecolor\":\"#3b0280\",\"showgrid\":false,\"mirror\":true,\"zeroline\":false},\"annotations\":[{\"font\":{\"size\":16},\"showarrow\":false,\"text\":\"\\u003cb\\u003eRMSE\\u003c\\u002fb\\u003e (estimated RMSE) vs. \\u003cb\\u003eRMSE\\u003c\\u002fb\\u003e (realized RMSE)\",\"x\":0.47,\"xanchor\":\"center\",\"xref\":\"paper\",\"y\":1.0,\"yanchor\":\"bottom\",\"yref\":\"paper\"},{\"showarrow\":false,\"text\":\"Reference\",\"x\":10.0,\"xshift\":10,\"y\":1,\"yref\":\"paper\"},{\"showarrow\":false,\"text\":\"Analysis\",\"x\":31.0,\"xshift\":15,\"y\":1,\"yref\":\"paper\"}],\"shapes\":[{\"layer\":\"below\",\"line\":{\"color\":\"#666666\",\"width\":1},\"type\":\"line\",\"x0\":21,\"x1\":21,\"xref\":\"x\",\"y0\":0,\"y1\":1,\"yref\":\"y domain\"}]},                        {\"responsive\": true}                    ).then(function(){\n",
       "                            \n",
       "var gd = document.getElementById('f17b26d5-0e27-4dde-9399-c111e91b26de');\n",
       "var x = new MutationObserver(function (mutations, observer) {{\n",
       "        var display = window.getComputedStyle(gd).display;\n",
       "        if (!display || display === 'none') {{\n",
       "            console.log([gd, 'removed!']);\n",
       "            Plotly.purge(gd);\n",
       "            observer.disconnect();\n",
       "        }}\n",
       "}});\n",
       "\n",
       "// Listen for the removal of the full notebook cells\n",
       "var notebookContainer = gd.closest('#notebook-container');\n",
       "if (notebookContainer) {{\n",
       "    x.observe(notebookContainer, {childList: true});\n",
       "}}\n",
       "\n",
       "// Listen for the clearing of the current output cell\n",
       "var outputEl = gd.closest('.output');\n",
       "if (outputEl) {{\n",
       "    x.observe(outputEl, {childList: true});\n",
       "}}\n",
       "\n",
       "                        })                };                });            </script>        </div>"
      ]
     },
     "metadata": {},
     "output_type": "display_data"
    }
   ],
   "source": [
    "estimated_results.compare(realized_results).plot().show()"
   ]
  },
  {
   "cell_type": "markdown",
   "id": "0d88e0a1-a1b6-489c-9b47-f6ab9f48ec97",
   "metadata": {},
   "source": [
    "### Drift detection methods"
   ]
  },
  {
   "cell_type": "markdown",
   "id": "b4139f95-3823-4fc9-91f1-a8f23f1b19b8",
   "metadata": {},
   "source": [
    "### Multivariate drift detection"
   ]
  },
  {
   "cell_type": "code",
   "execution_count": 93,
   "id": "8bceaedc-0a06-47da-92ff-81e227a16ce9",
   "metadata": {},
   "outputs": [],
   "source": [
    "multivariate_calc = nannyml.DataReconstructionDriftCalculator(\n",
    "    column_names=all_feature_names,\n",
    "    chunk_size=250,\n",
    ")\n",
    "\n",
    "multivariate_calc.fit(reference)\n",
    "multivariate_results = multivariate_calc.calculate(analysis)"
   ]
  },
  {
   "cell_type": "code",
   "execution_count": 94,
   "id": "ecd1c358-d902-43e2-9043-aca8a66db3ce",
   "metadata": {},
   "outputs": [
    {
     "data": {
      "application/vnd.plotly.v1+json": {
       "config": {
        "plotlyServerURL": "https://plot.ly"
       },
       "data": [
        {
         "hoverinfo": "skip",
         "legendgroup": "metric_analysis",
         "line": {
          "color": "#00c8e5",
          "shape": "hv",
          "width": 2
         },
         "mode": "lines",
         "name": "Metric",
         "showlegend": true,
         "type": "scatter",
         "x": [
          0,
          1,
          2,
          3,
          4,
          5,
          6,
          7,
          8,
          9,
          10,
          11,
          12,
          13,
          14,
          15,
          16,
          17,
          18,
          19,
          20,
          21
         ],
         "y": [
          1.3749626468552019,
          1.3451667959716878,
          1.3583676351122067,
          1.3552251844524654,
          1.3622748688991888,
          1.3942600348070464,
          1.3344823980286789,
          1.3173168562353375,
          1.3968270087230048,
          1.373292024570589,
          1.359198994313365,
          1.4394402302622276,
          1.3959692598837439,
          1.3684045467632748,
          1.3628408691027876,
          1.4639883723171139,
          2.3135080286425738,
          3.5541606463141107,
          3.5535842280543144,
          3.5541440117845116,
          3.526701609997662,
          3.526701609997662
         ]
        },
        {
         "customdata": [
          [
           "Reconstruction Error",
           "<b style=\"color:Colors.INDIGO_PERSIAN;line-height:60px\">Analysis</b>",
           "",
           "[0:249]",
           "Chunk index: <b>0</b>",
           1.375,
           0.1098
          ],
          [
           "Reconstruction Error",
           "<b style=\"color:Colors.INDIGO_PERSIAN;line-height:60px\">Analysis</b>",
           "",
           "[250:499]",
           "Chunk index: <b>1</b>",
           1.3452,
           0.1098
          ],
          [
           "Reconstruction Error",
           "<b style=\"color:Colors.INDIGO_PERSIAN;line-height:60px\">Analysis</b>",
           "",
           "[500:749]",
           "Chunk index: <b>2</b>",
           1.3584,
           0.1098
          ],
          [
           "Reconstruction Error",
           "<b style=\"color:Colors.INDIGO_PERSIAN;line-height:60px\">Analysis</b>",
           "",
           "[750:999]",
           "Chunk index: <b>3</b>",
           1.3552,
           0.1098
          ],
          [
           "Reconstruction Error",
           "<b style=\"color:Colors.INDIGO_PERSIAN;line-height:60px\">Analysis</b>",
           "",
           "[1000:1249]",
           "Chunk index: <b>4</b>",
           1.3623,
           0.1098
          ],
          [
           "Reconstruction Error",
           "<b style=\"color:Colors.INDIGO_PERSIAN;line-height:60px\">Analysis</b>",
           "",
           "[1250:1499]",
           "Chunk index: <b>5</b>",
           1.3943,
           0.1098
          ],
          [
           "Reconstruction Error",
           "<b style=\"color:Colors.INDIGO_PERSIAN;line-height:60px\">Analysis</b>",
           "",
           "[1500:1749]",
           "Chunk index: <b>6</b>",
           1.3345,
           0.1098
          ],
          [
           "Reconstruction Error",
           "<b style=\"color:Colors.INDIGO_PERSIAN;line-height:60px\">Analysis</b>",
           "",
           "[1750:1999]",
           "Chunk index: <b>7</b>",
           1.3173,
           0.1098
          ],
          [
           "Reconstruction Error",
           "<b style=\"color:Colors.INDIGO_PERSIAN;line-height:60px\">Analysis</b>",
           "",
           "[2000:2249]",
           "Chunk index: <b>8</b>",
           1.3968,
           0.1098
          ],
          [
           "Reconstruction Error",
           "<b style=\"color:Colors.INDIGO_PERSIAN;line-height:60px\">Analysis</b>",
           "",
           "[2250:2499]",
           "Chunk index: <b>9</b>",
           1.3733,
           0.1098
          ],
          [
           "Reconstruction Error",
           "<b style=\"color:Colors.INDIGO_PERSIAN;line-height:60px\">Analysis</b>",
           "",
           "[2500:2749]",
           "Chunk index: <b>10</b>",
           1.3592,
           0.1098
          ],
          [
           "Reconstruction Error",
           "<b style=\"color:Colors.INDIGO_PERSIAN;line-height:60px\">Analysis</b>",
           "",
           "[2750:2999]",
           "Chunk index: <b>11</b>",
           1.4394,
           0.1098
          ],
          [
           "Reconstruction Error",
           "<b style=\"color:Colors.INDIGO_PERSIAN;line-height:60px\">Analysis</b>",
           "",
           "[3000:3249]",
           "Chunk index: <b>12</b>",
           1.396,
           0.1098
          ],
          [
           "Reconstruction Error",
           "<b style=\"color:Colors.INDIGO_PERSIAN;line-height:60px\">Analysis</b>",
           "",
           "[3250:3499]",
           "Chunk index: <b>13</b>",
           1.3684,
           0.1098
          ],
          [
           "Reconstruction Error",
           "<b style=\"color:Colors.INDIGO_PERSIAN;line-height:60px\">Analysis</b>",
           "",
           "[3500:3749]",
           "Chunk index: <b>14</b>",
           1.3628,
           0.1098
          ],
          [
           "Reconstruction Error",
           "<b style=\"color:Colors.INDIGO_PERSIAN;line-height:60px\">Analysis</b>",
           "",
           "[3750:3999]",
           "Chunk index: <b>15</b>",
           1.464,
           0.1098
          ],
          [
           "Reconstruction Error",
           "<b style=\"color:Colors.INDIGO_PERSIAN;line-height:60px\">Analysis</b>",
           "<span style=\"color:#AD0000\">⚠ <b>Drift detected</b></span>",
           "[4000:4249]",
           "Chunk index: <b>16</b>",
           2.3135,
           0.1098
          ],
          [
           "Reconstruction Error",
           "<b style=\"color:Colors.INDIGO_PERSIAN;line-height:60px\">Analysis</b>",
           "<span style=\"color:#AD0000\">⚠ <b>Drift detected</b></span>",
           "[4250:4499]",
           "Chunk index: <b>17</b>",
           3.5542,
           0.1098
          ],
          [
           "Reconstruction Error",
           "<b style=\"color:Colors.INDIGO_PERSIAN;line-height:60px\">Analysis</b>",
           "<span style=\"color:#AD0000\">⚠ <b>Drift detected</b></span>",
           "[4500:4749]",
           "Chunk index: <b>18</b>",
           3.5536,
           0.1098
          ],
          [
           "Reconstruction Error",
           "<b style=\"color:Colors.INDIGO_PERSIAN;line-height:60px\">Analysis</b>",
           "<span style=\"color:#AD0000\">⚠ <b>Drift detected</b></span>",
           "[4750:4999]",
           "Chunk index: <b>19</b>",
           3.5541,
           0.1098
          ],
          [
           "Reconstruction Error",
           "<b style=\"color:Colors.INDIGO_PERSIAN;line-height:60px\">Analysis</b>",
           "<span style=\"color:#AD0000\">⚠ <b>Drift detected</b></span>",
           "[5000:5393]",
           "Chunk index: <b>20</b>",
           3.5267,
           0.0874
          ]
         ],
         "hovertemplate": "%{customdata[1]} &nbsp; &nbsp; %{customdata[2]} <br />Chunk: <b>%{customdata[3]}</b> &nbsp; &nbsp; %{customdata[4]} <br />%{customdata[0]}: <b>%{customdata[5]}</b><br />Confidence band: +/- <b>%{customdata[6]}</b><br /><extra></extra>",
         "legendgroup": "metric_analysis",
         "marker": {
          "color": "#00c8e5",
          "size": 5,
          "symbol": "circle"
         },
         "mode": "markers",
         "name": "Metric",
         "showlegend": false,
         "type": "scatter",
         "x": [
          0.5,
          1.5,
          2.5,
          3.5,
          4.5,
          5.5,
          6.5,
          7.5,
          8.5,
          9.5,
          10.5,
          11.5,
          12.5,
          13.5,
          14.5,
          15.5,
          16.5,
          17.5,
          18.5,
          19.5,
          20.5
         ],
         "y": [
          1.3749626468552019,
          1.3451667959716878,
          1.3583676351122067,
          1.3552251844524654,
          1.3622748688991888,
          1.3942600348070464,
          1.3344823980286789,
          1.3173168562353375,
          1.3968270087230048,
          1.373292024570589,
          1.359198994313365,
          1.4394402302622276,
          1.3959692598837439,
          1.3684045467632748,
          1.3628408691027876,
          1.4639883723171139,
          2.3135080286425738,
          3.5541606463141107,
          3.5535842280543144,
          3.5541440117845116,
          3.526701609997662,
          3.526701609997662
         ]
        },
        {
         "hoverinfo": "skip",
         "legendgroup": "alert",
         "marker": {
          "color": "#DD4040",
          "size": 8,
          "symbol": "diamond"
         },
         "mode": "markers",
         "name": "Alert",
         "showlegend": true,
         "type": "scatter",
         "x": [
          16.5,
          17.5,
          18.5,
          19.5,
          20.5
         ],
         "y": [
          2.3135080286425738,
          3.5541606463141107,
          3.5535842280543144,
          3.5541440117845116,
          3.526701609997662
         ]
        },
        {
         "hoverinfo": "skip",
         "legendgroup": "thresh",
         "line": {
          "color": "#DD4040",
          "dash": "dash",
          "width": 2
         },
         "mode": "lines",
         "name": "Threshold",
         "showlegend": false,
         "type": "scatter",
         "x": [
          0,
          1,
          2,
          3,
          4,
          5,
          6,
          7,
          8,
          9,
          10,
          11,
          12,
          13,
          14,
          15,
          16,
          17,
          18,
          19,
          20,
          21
         ],
         "y": [
          1.4976455277369987,
          1.4976455277369987,
          1.4976455277369987,
          1.4976455277369987,
          1.4976455277369987,
          1.4976455277369987,
          1.4976455277369987,
          1.4976455277369987,
          1.4976455277369987,
          1.4976455277369987,
          1.4976455277369987,
          1.4976455277369987,
          1.4976455277369987,
          1.4976455277369987,
          1.4976455277369987,
          1.4976455277369987,
          1.4976455277369987,
          1.4976455277369987,
          1.4976455277369987,
          1.4976455277369987,
          1.4976455277369987,
          1.4976455277369987
         ]
        },
        {
         "hoverinfo": "skip",
         "legendgroup": "thresh",
         "line": {
          "color": "#DD4040",
          "dash": "dash",
          "width": 2
         },
         "mode": "lines",
         "name": "Threshold",
         "showlegend": false,
         "type": "scatter",
         "x": [
          0,
          1,
          2,
          3,
          4,
          5,
          6,
          7,
          8,
          9,
          10,
          11,
          12,
          13,
          14,
          15,
          16,
          17,
          18,
          19,
          20,
          21
         ],
         "y": [
          1.2660845281054465,
          1.2660845281054465,
          1.2660845281054465,
          1.2660845281054465,
          1.2660845281054465,
          1.2660845281054465,
          1.2660845281054465,
          1.2660845281054465,
          1.2660845281054465,
          1.2660845281054465,
          1.2660845281054465,
          1.2660845281054465,
          1.2660845281054465,
          1.2660845281054465,
          1.2660845281054465,
          1.2660845281054465,
          1.2660845281054465,
          1.2660845281054465,
          1.2660845281054465,
          1.2660845281054465,
          1.2660845281054465,
          1.2660845281054465
         ]
        },
        {
         "hoverinfo": "skip",
         "line": {
          "color": "rgba(0, 0, 0, 0)",
          "shape": "hv"
         },
         "mode": "lines",
         "name": "Confidence band",
         "showlegend": false,
         "type": "scatter",
         "x": [
          0,
          1,
          2,
          3,
          4,
          5,
          6,
          7,
          8,
          9,
          10,
          11,
          12,
          13,
          14,
          15,
          16,
          17,
          18,
          19,
          20,
          21
         ],
         "y": [
          1.4847443448865207,
          1.4549484940030066,
          1.4681493331435256,
          1.4650068824837843,
          1.4720565669305077,
          1.5040417328383653,
          1.4442640960599977,
          1.4270985542666563,
          1.5066087067543237,
          1.483073722601908,
          1.468980692344684,
          1.5492219282935464,
          1.5057509579150627,
          1.4781862447945937,
          1.4726225671341064,
          1.5737700703484327,
          2.4232897266738926,
          3.6639423443454295,
          3.6633659260856333,
          3.6639257098158304,
          3.61415000385352,
          3.61415000385352
         ]
        },
        {
         "fill": "tonexty",
         "fillcolor": "rgba(0, 200, 229, 0.2)",
         "hoverinfo": "skip",
         "line": {
          "color": "rgba(0, 0, 0, 0)",
          "shape": "hv"
         },
         "mode": "lines",
         "name": "Confidence band",
         "showlegend": true,
         "type": "scatter",
         "x": [
          0,
          1,
          2,
          3,
          4,
          5,
          6,
          7,
          8,
          9,
          10,
          11,
          12,
          13,
          14,
          15,
          16,
          17,
          18,
          19,
          20,
          21
         ],
         "y": [
          1.265180948823883,
          1.2353850979403689,
          1.2485859370808878,
          1.2454434864211466,
          1.25249317086787,
          1.2844783367757275,
          1.22470069999736,
          1.2075351582040186,
          1.287045310691686,
          1.2635103265392702,
          1.2494172962820462,
          1.3296585322309087,
          1.286187561852425,
          1.258622848731956,
          1.2530591710714687,
          1.354206674285795,
          2.203726330611255,
          3.444378948282792,
          3.4438025300229955,
          3.4443623137531927,
          3.4392532161418035,
          3.4392532161418035
         ]
        }
       ],
       "layout": {
        "autosize": true,
        "hoverlabel": {
         "bgcolor": "white",
         "font": {
          "size": 14
         }
        },
        "legend": {
         "itemclick": false,
         "itemdoubleclick": false,
         "traceorder": "grouped"
        },
        "paper_bgcolor": "rgba(255,255,255,1)",
        "plot_bgcolor": "rgba(255,255,255,1)",
        "template": {
         "data": {
          "bar": [
           {
            "error_x": {
             "color": "#2a3f5f"
            },
            "error_y": {
             "color": "#2a3f5f"
            },
            "marker": {
             "line": {
              "color": "#E5ECF6",
              "width": 0.5
             },
             "pattern": {
              "fillmode": "overlay",
              "size": 10,
              "solidity": 0.2
             }
            },
            "type": "bar"
           }
          ],
          "barpolar": [
           {
            "marker": {
             "line": {
              "color": "#E5ECF6",
              "width": 0.5
             },
             "pattern": {
              "fillmode": "overlay",
              "size": 10,
              "solidity": 0.2
             }
            },
            "type": "barpolar"
           }
          ],
          "carpet": [
           {
            "aaxis": {
             "endlinecolor": "#2a3f5f",
             "gridcolor": "white",
             "linecolor": "white",
             "minorgridcolor": "white",
             "startlinecolor": "#2a3f5f"
            },
            "baxis": {
             "endlinecolor": "#2a3f5f",
             "gridcolor": "white",
             "linecolor": "white",
             "minorgridcolor": "white",
             "startlinecolor": "#2a3f5f"
            },
            "type": "carpet"
           }
          ],
          "choropleth": [
           {
            "colorbar": {
             "outlinewidth": 0,
             "ticks": ""
            },
            "type": "choropleth"
           }
          ],
          "contour": [
           {
            "colorbar": {
             "outlinewidth": 0,
             "ticks": ""
            },
            "colorscale": [
             [
              0,
              "#0d0887"
             ],
             [
              0.1111111111111111,
              "#46039f"
             ],
             [
              0.2222222222222222,
              "#7201a8"
             ],
             [
              0.3333333333333333,
              "#9c179e"
             ],
             [
              0.4444444444444444,
              "#bd3786"
             ],
             [
              0.5555555555555556,
              "#d8576b"
             ],
             [
              0.6666666666666666,
              "#ed7953"
             ],
             [
              0.7777777777777778,
              "#fb9f3a"
             ],
             [
              0.8888888888888888,
              "#fdca26"
             ],
             [
              1,
              "#f0f921"
             ]
            ],
            "type": "contour"
           }
          ],
          "contourcarpet": [
           {
            "colorbar": {
             "outlinewidth": 0,
             "ticks": ""
            },
            "type": "contourcarpet"
           }
          ],
          "heatmap": [
           {
            "colorbar": {
             "outlinewidth": 0,
             "ticks": ""
            },
            "colorscale": [
             [
              0,
              "#0d0887"
             ],
             [
              0.1111111111111111,
              "#46039f"
             ],
             [
              0.2222222222222222,
              "#7201a8"
             ],
             [
              0.3333333333333333,
              "#9c179e"
             ],
             [
              0.4444444444444444,
              "#bd3786"
             ],
             [
              0.5555555555555556,
              "#d8576b"
             ],
             [
              0.6666666666666666,
              "#ed7953"
             ],
             [
              0.7777777777777778,
              "#fb9f3a"
             ],
             [
              0.8888888888888888,
              "#fdca26"
             ],
             [
              1,
              "#f0f921"
             ]
            ],
            "type": "heatmap"
           }
          ],
          "heatmapgl": [
           {
            "colorbar": {
             "outlinewidth": 0,
             "ticks": ""
            },
            "colorscale": [
             [
              0,
              "#0d0887"
             ],
             [
              0.1111111111111111,
              "#46039f"
             ],
             [
              0.2222222222222222,
              "#7201a8"
             ],
             [
              0.3333333333333333,
              "#9c179e"
             ],
             [
              0.4444444444444444,
              "#bd3786"
             ],
             [
              0.5555555555555556,
              "#d8576b"
             ],
             [
              0.6666666666666666,
              "#ed7953"
             ],
             [
              0.7777777777777778,
              "#fb9f3a"
             ],
             [
              0.8888888888888888,
              "#fdca26"
             ],
             [
              1,
              "#f0f921"
             ]
            ],
            "type": "heatmapgl"
           }
          ],
          "histogram": [
           {
            "marker": {
             "pattern": {
              "fillmode": "overlay",
              "size": 10,
              "solidity": 0.2
             }
            },
            "type": "histogram"
           }
          ],
          "histogram2d": [
           {
            "colorbar": {
             "outlinewidth": 0,
             "ticks": ""
            },
            "colorscale": [
             [
              0,
              "#0d0887"
             ],
             [
              0.1111111111111111,
              "#46039f"
             ],
             [
              0.2222222222222222,
              "#7201a8"
             ],
             [
              0.3333333333333333,
              "#9c179e"
             ],
             [
              0.4444444444444444,
              "#bd3786"
             ],
             [
              0.5555555555555556,
              "#d8576b"
             ],
             [
              0.6666666666666666,
              "#ed7953"
             ],
             [
              0.7777777777777778,
              "#fb9f3a"
             ],
             [
              0.8888888888888888,
              "#fdca26"
             ],
             [
              1,
              "#f0f921"
             ]
            ],
            "type": "histogram2d"
           }
          ],
          "histogram2dcontour": [
           {
            "colorbar": {
             "outlinewidth": 0,
             "ticks": ""
            },
            "colorscale": [
             [
              0,
              "#0d0887"
             ],
             [
              0.1111111111111111,
              "#46039f"
             ],
             [
              0.2222222222222222,
              "#7201a8"
             ],
             [
              0.3333333333333333,
              "#9c179e"
             ],
             [
              0.4444444444444444,
              "#bd3786"
             ],
             [
              0.5555555555555556,
              "#d8576b"
             ],
             [
              0.6666666666666666,
              "#ed7953"
             ],
             [
              0.7777777777777778,
              "#fb9f3a"
             ],
             [
              0.8888888888888888,
              "#fdca26"
             ],
             [
              1,
              "#f0f921"
             ]
            ],
            "type": "histogram2dcontour"
           }
          ],
          "mesh3d": [
           {
            "colorbar": {
             "outlinewidth": 0,
             "ticks": ""
            },
            "type": "mesh3d"
           }
          ],
          "parcoords": [
           {
            "line": {
             "colorbar": {
              "outlinewidth": 0,
              "ticks": ""
             }
            },
            "type": "parcoords"
           }
          ],
          "pie": [
           {
            "automargin": true,
            "type": "pie"
           }
          ],
          "scatter": [
           {
            "fillpattern": {
             "fillmode": "overlay",
             "size": 10,
             "solidity": 0.2
            },
            "type": "scatter"
           }
          ],
          "scatter3d": [
           {
            "line": {
             "colorbar": {
              "outlinewidth": 0,
              "ticks": ""
             }
            },
            "marker": {
             "colorbar": {
              "outlinewidth": 0,
              "ticks": ""
             }
            },
            "type": "scatter3d"
           }
          ],
          "scattercarpet": [
           {
            "marker": {
             "colorbar": {
              "outlinewidth": 0,
              "ticks": ""
             }
            },
            "type": "scattercarpet"
           }
          ],
          "scattergeo": [
           {
            "marker": {
             "colorbar": {
              "outlinewidth": 0,
              "ticks": ""
             }
            },
            "type": "scattergeo"
           }
          ],
          "scattergl": [
           {
            "marker": {
             "colorbar": {
              "outlinewidth": 0,
              "ticks": ""
             }
            },
            "type": "scattergl"
           }
          ],
          "scattermapbox": [
           {
            "marker": {
             "colorbar": {
              "outlinewidth": 0,
              "ticks": ""
             }
            },
            "type": "scattermapbox"
           }
          ],
          "scatterpolar": [
           {
            "marker": {
             "colorbar": {
              "outlinewidth": 0,
              "ticks": ""
             }
            },
            "type": "scatterpolar"
           }
          ],
          "scatterpolargl": [
           {
            "marker": {
             "colorbar": {
              "outlinewidth": 0,
              "ticks": ""
             }
            },
            "type": "scatterpolargl"
           }
          ],
          "scatterternary": [
           {
            "marker": {
             "colorbar": {
              "outlinewidth": 0,
              "ticks": ""
             }
            },
            "type": "scatterternary"
           }
          ],
          "surface": [
           {
            "colorbar": {
             "outlinewidth": 0,
             "ticks": ""
            },
            "colorscale": [
             [
              0,
              "#0d0887"
             ],
             [
              0.1111111111111111,
              "#46039f"
             ],
             [
              0.2222222222222222,
              "#7201a8"
             ],
             [
              0.3333333333333333,
              "#9c179e"
             ],
             [
              0.4444444444444444,
              "#bd3786"
             ],
             [
              0.5555555555555556,
              "#d8576b"
             ],
             [
              0.6666666666666666,
              "#ed7953"
             ],
             [
              0.7777777777777778,
              "#fb9f3a"
             ],
             [
              0.8888888888888888,
              "#fdca26"
             ],
             [
              1,
              "#f0f921"
             ]
            ],
            "type": "surface"
           }
          ],
          "table": [
           {
            "cells": {
             "fill": {
              "color": "#EBF0F8"
             },
             "line": {
              "color": "white"
             }
            },
            "header": {
             "fill": {
              "color": "#C8D4E3"
             },
             "line": {
              "color": "white"
             }
            },
            "type": "table"
           }
          ]
         },
         "layout": {
          "annotationdefaults": {
           "arrowcolor": "#2a3f5f",
           "arrowhead": 0,
           "arrowwidth": 1
          },
          "autotypenumbers": "strict",
          "coloraxis": {
           "colorbar": {
            "outlinewidth": 0,
            "ticks": ""
           }
          },
          "colorscale": {
           "diverging": [
            [
             0,
             "#8e0152"
            ],
            [
             0.1,
             "#c51b7d"
            ],
            [
             0.2,
             "#de77ae"
            ],
            [
             0.3,
             "#f1b6da"
            ],
            [
             0.4,
             "#fde0ef"
            ],
            [
             0.5,
             "#f7f7f7"
            ],
            [
             0.6,
             "#e6f5d0"
            ],
            [
             0.7,
             "#b8e186"
            ],
            [
             0.8,
             "#7fbc41"
            ],
            [
             0.9,
             "#4d9221"
            ],
            [
             1,
             "#276419"
            ]
           ],
           "sequential": [
            [
             0,
             "#0d0887"
            ],
            [
             0.1111111111111111,
             "#46039f"
            ],
            [
             0.2222222222222222,
             "#7201a8"
            ],
            [
             0.3333333333333333,
             "#9c179e"
            ],
            [
             0.4444444444444444,
             "#bd3786"
            ],
            [
             0.5555555555555556,
             "#d8576b"
            ],
            [
             0.6666666666666666,
             "#ed7953"
            ],
            [
             0.7777777777777778,
             "#fb9f3a"
            ],
            [
             0.8888888888888888,
             "#fdca26"
            ],
            [
             1,
             "#f0f921"
            ]
           ],
           "sequentialminus": [
            [
             0,
             "#0d0887"
            ],
            [
             0.1111111111111111,
             "#46039f"
            ],
            [
             0.2222222222222222,
             "#7201a8"
            ],
            [
             0.3333333333333333,
             "#9c179e"
            ],
            [
             0.4444444444444444,
             "#bd3786"
            ],
            [
             0.5555555555555556,
             "#d8576b"
            ],
            [
             0.6666666666666666,
             "#ed7953"
            ],
            [
             0.7777777777777778,
             "#fb9f3a"
            ],
            [
             0.8888888888888888,
             "#fdca26"
            ],
            [
             1,
             "#f0f921"
            ]
           ]
          },
          "colorway": [
           "#636efa",
           "#EF553B",
           "#00cc96",
           "#ab63fa",
           "#FFA15A",
           "#19d3f3",
           "#FF6692",
           "#B6E880",
           "#FF97FF",
           "#FECB52"
          ],
          "font": {
           "color": "#2a3f5f"
          },
          "geo": {
           "bgcolor": "white",
           "lakecolor": "white",
           "landcolor": "#E5ECF6",
           "showlakes": true,
           "showland": true,
           "subunitcolor": "white"
          },
          "hoverlabel": {
           "align": "left"
          },
          "hovermode": "closest",
          "mapbox": {
           "style": "light"
          },
          "paper_bgcolor": "white",
          "plot_bgcolor": "#E5ECF6",
          "polar": {
           "angularaxis": {
            "gridcolor": "white",
            "linecolor": "white",
            "ticks": ""
           },
           "bgcolor": "#E5ECF6",
           "radialaxis": {
            "gridcolor": "white",
            "linecolor": "white",
            "ticks": ""
           }
          },
          "scene": {
           "xaxis": {
            "backgroundcolor": "#E5ECF6",
            "gridcolor": "white",
            "gridwidth": 2,
            "linecolor": "white",
            "showbackground": true,
            "ticks": "",
            "zerolinecolor": "white"
           },
           "yaxis": {
            "backgroundcolor": "#E5ECF6",
            "gridcolor": "white",
            "gridwidth": 2,
            "linecolor": "white",
            "showbackground": true,
            "ticks": "",
            "zerolinecolor": "white"
           },
           "zaxis": {
            "backgroundcolor": "#E5ECF6",
            "gridcolor": "white",
            "gridwidth": 2,
            "linecolor": "white",
            "showbackground": true,
            "ticks": "",
            "zerolinecolor": "white"
           }
          },
          "shapedefaults": {
           "line": {
            "color": "#2a3f5f"
           }
          },
          "ternary": {
           "aaxis": {
            "gridcolor": "white",
            "linecolor": "white",
            "ticks": ""
           },
           "baxis": {
            "gridcolor": "white",
            "linecolor": "white",
            "ticks": ""
           },
           "bgcolor": "#E5ECF6",
           "caxis": {
            "gridcolor": "white",
            "linecolor": "white",
            "ticks": ""
           }
          },
          "title": {
           "x": 0.05
          },
          "xaxis": {
           "automargin": true,
           "gridcolor": "white",
           "linecolor": "white",
           "ticks": "",
           "title": {
            "standoff": 15
           },
           "zerolinecolor": "white",
           "zerolinewidth": 2
          },
          "yaxis": {
           "automargin": true,
           "gridcolor": "white",
           "linecolor": "white",
           "ticks": "",
           "title": {
            "standoff": 15
           },
           "zerolinecolor": "white",
           "zerolinewidth": 2
          }
         }
        },
        "title": {
         "text": "Multivariate Drift (PCA Reconstruction Error)"
        },
        "xaxis": {
         "autorange": true,
         "linecolor": "#3b0280",
         "matches": "x",
         "mirror": true,
         "range": [
          -0.7591174796958253,
          21.836713051575188
         ],
         "showgrid": false,
         "title": {
          "text": "Chunk"
         },
         "type": "linear",
         "zeroline": false
        },
        "yaxis": {
         "autorange": true,
         "linecolor": "#3b0280",
         "mirror": true,
         "range": [
          1.0710680923072735,
          3.8004094102421746
         ],
         "showgrid": false,
         "title": {
          "text": "Reconstruction Error"
         },
         "type": "linear",
         "zeroline": false
        }
       }
      },
      "image/png": "[encoded data removed]",
      "text/html": [
       "<div>                            <div id=\"de5102e3-2438-4d04-988e-17c35cb1dcbb\" class=\"plotly-graph-div\" style=\"height:525px; width:100%;\"></div>            <script type=\"text/javascript\">                require([\"plotly\"], function(Plotly) {                    window.PLOTLYENV=window.PLOTLYENV || {};                                    if (document.getElementById(\"de5102e3-2438-4d04-988e-17c35cb1dcbb\")) {                    Plotly.newPlot(                        \"de5102e3-2438-4d04-988e-17c35cb1dcbb\",                        [{\"hoverinfo\":\"skip\",\"legendgroup\":\"metric_analysis\",\"line\":{\"color\":\"#00c8e5\",\"shape\":\"hv\",\"width\":2},\"mode\":\"lines\",\"name\":\"Metric\",\"showlegend\":true,\"x\":[0,1,2,3,4,5,6,7,8,9,10,11,12,13,14,15,16,17,18,19,20,21],\"y\":[1.3749626468552019,1.3451667959716878,1.3583676351122067,1.3552251844524654,1.3622748688991888,1.3942600348070464,1.3344823980286789,1.3173168562353375,1.3968270087230048,1.373292024570589,1.359198994313365,1.4394402302622276,1.3959692598837439,1.3684045467632748,1.3628408691027876,1.4639883723171139,2.3135080286425738,3.5541606463141107,3.5535842280543144,3.5541440117845116,3.526701609997662,3.526701609997662],\"type\":\"scatter\"},{\"customdata\":[[\"Reconstruction Error\",\"\\u003cb style=\\\"color:Colors.INDIGO_PERSIAN;line-height:60px\\\"\\u003eAnalysis\\u003c\\u002fb\\u003e\",\"\",\"[0:249]\",\"Chunk index: \\u003cb\\u003e0\\u003c\\u002fb\\u003e\",1.375,0.1098],[\"Reconstruction Error\",\"\\u003cb style=\\\"color:Colors.INDIGO_PERSIAN;line-height:60px\\\"\\u003eAnalysis\\u003c\\u002fb\\u003e\",\"\",\"[250:499]\",\"Chunk index: \\u003cb\\u003e1\\u003c\\u002fb\\u003e\",1.3452,0.1098],[\"Reconstruction Error\",\"\\u003cb style=\\\"color:Colors.INDIGO_PERSIAN;line-height:60px\\\"\\u003eAnalysis\\u003c\\u002fb\\u003e\",\"\",\"[500:749]\",\"Chunk index: \\u003cb\\u003e2\\u003c\\u002fb\\u003e\",1.3584,0.1098],[\"Reconstruction Error\",\"\\u003cb style=\\\"color:Colors.INDIGO_PERSIAN;line-height:60px\\\"\\u003eAnalysis\\u003c\\u002fb\\u003e\",\"\",\"[750:999]\",\"Chunk index: \\u003cb\\u003e3\\u003c\\u002fb\\u003e\",1.3552,0.1098],[\"Reconstruction Error\",\"\\u003cb style=\\\"color:Colors.INDIGO_PERSIAN;line-height:60px\\\"\\u003eAnalysis\\u003c\\u002fb\\u003e\",\"\",\"[1000:1249]\",\"Chunk index: \\u003cb\\u003e4\\u003c\\u002fb\\u003e\",1.3623,0.1098],[\"Reconstruction Error\",\"\\u003cb style=\\\"color:Colors.INDIGO_PERSIAN;line-height:60px\\\"\\u003eAnalysis\\u003c\\u002fb\\u003e\",\"\",\"[1250:1499]\",\"Chunk index: \\u003cb\\u003e5\\u003c\\u002fb\\u003e\",1.3943,0.1098],[\"Reconstruction Error\",\"\\u003cb style=\\\"color:Colors.INDIGO_PERSIAN;line-height:60px\\\"\\u003eAnalysis\\u003c\\u002fb\\u003e\",\"\",\"[1500:1749]\",\"Chunk index: \\u003cb\\u003e6\\u003c\\u002fb\\u003e\",1.3345,0.1098],[\"Reconstruction Error\",\"\\u003cb style=\\\"color:Colors.INDIGO_PERSIAN;line-height:60px\\\"\\u003eAnalysis\\u003c\\u002fb\\u003e\",\"\",\"[1750:1999]\",\"Chunk index: \\u003cb\\u003e7\\u003c\\u002fb\\u003e\",1.3173,0.1098],[\"Reconstruction Error\",\"\\u003cb style=\\\"color:Colors.INDIGO_PERSIAN;line-height:60px\\\"\\u003eAnalysis\\u003c\\u002fb\\u003e\",\"\",\"[2000:2249]\",\"Chunk index: \\u003cb\\u003e8\\u003c\\u002fb\\u003e\",1.3968,0.1098],[\"Reconstruction Error\",\"\\u003cb style=\\\"color:Colors.INDIGO_PERSIAN;line-height:60px\\\"\\u003eAnalysis\\u003c\\u002fb\\u003e\",\"\",\"[2250:2499]\",\"Chunk index: \\u003cb\\u003e9\\u003c\\u002fb\\u003e\",1.3733,0.1098],[\"Reconstruction Error\",\"\\u003cb style=\\\"color:Colors.INDIGO_PERSIAN;line-height:60px\\\"\\u003eAnalysis\\u003c\\u002fb\\u003e\",\"\",\"[2500:2749]\",\"Chunk index: \\u003cb\\u003e10\\u003c\\u002fb\\u003e\",1.3592,0.1098],[\"Reconstruction Error\",\"\\u003cb style=\\\"color:Colors.INDIGO_PERSIAN;line-height:60px\\\"\\u003eAnalysis\\u003c\\u002fb\\u003e\",\"\",\"[2750:2999]\",\"Chunk index: \\u003cb\\u003e11\\u003c\\u002fb\\u003e\",1.4394,0.1098],[\"Reconstruction Error\",\"\\u003cb style=\\\"color:Colors.INDIGO_PERSIAN;line-height:60px\\\"\\u003eAnalysis\\u003c\\u002fb\\u003e\",\"\",\"[3000:3249]\",\"Chunk index: \\u003cb\\u003e12\\u003c\\u002fb\\u003e\",1.396,0.1098],[\"Reconstruction Error\",\"\\u003cb style=\\\"color:Colors.INDIGO_PERSIAN;line-height:60px\\\"\\u003eAnalysis\\u003c\\u002fb\\u003e\",\"\",\"[3250:3499]\",\"Chunk index: \\u003cb\\u003e13\\u003c\\u002fb\\u003e\",1.3684,0.1098],[\"Reconstruction Error\",\"\\u003cb style=\\\"color:Colors.INDIGO_PERSIAN;line-height:60px\\\"\\u003eAnalysis\\u003c\\u002fb\\u003e\",\"\",\"[3500:3749]\",\"Chunk index: \\u003cb\\u003e14\\u003c\\u002fb\\u003e\",1.3628,0.1098],[\"Reconstruction Error\",\"\\u003cb style=\\\"color:Colors.INDIGO_PERSIAN;line-height:60px\\\"\\u003eAnalysis\\u003c\\u002fb\\u003e\",\"\",\"[3750:3999]\",\"Chunk index: \\u003cb\\u003e15\\u003c\\u002fb\\u003e\",1.464,0.1098],[\"Reconstruction Error\",\"\\u003cb style=\\\"color:Colors.INDIGO_PERSIAN;line-height:60px\\\"\\u003eAnalysis\\u003c\\u002fb\\u003e\",\"\\u003cspan style=\\\"color:#AD0000\\\"\\u003e\\u26a0 \\u003cb\\u003eDrift detected\\u003c\\u002fb\\u003e\\u003c\\u002fspan\\u003e\",\"[4000:4249]\",\"Chunk index: \\u003cb\\u003e16\\u003c\\u002fb\\u003e\",2.3135,0.1098],[\"Reconstruction Error\",\"\\u003cb style=\\\"color:Colors.INDIGO_PERSIAN;line-height:60px\\\"\\u003eAnalysis\\u003c\\u002fb\\u003e\",\"\\u003cspan style=\\\"color:#AD0000\\\"\\u003e\\u26a0 \\u003cb\\u003eDrift detected\\u003c\\u002fb\\u003e\\u003c\\u002fspan\\u003e\",\"[4250:4499]\",\"Chunk index: \\u003cb\\u003e17\\u003c\\u002fb\\u003e\",3.5542,0.1098],[\"Reconstruction Error\",\"\\u003cb style=\\\"color:Colors.INDIGO_PERSIAN;line-height:60px\\\"\\u003eAnalysis\\u003c\\u002fb\\u003e\",\"\\u003cspan style=\\\"color:#AD0000\\\"\\u003e\\u26a0 \\u003cb\\u003eDrift detected\\u003c\\u002fb\\u003e\\u003c\\u002fspan\\u003e\",\"[4500:4749]\",\"Chunk index: \\u003cb\\u003e18\\u003c\\u002fb\\u003e\",3.5536,0.1098],[\"Reconstruction Error\",\"\\u003cb style=\\\"color:Colors.INDIGO_PERSIAN;line-height:60px\\\"\\u003eAnalysis\\u003c\\u002fb\\u003e\",\"\\u003cspan style=\\\"color:#AD0000\\\"\\u003e\\u26a0 \\u003cb\\u003eDrift detected\\u003c\\u002fb\\u003e\\u003c\\u002fspan\\u003e\",\"[4750:4999]\",\"Chunk index: \\u003cb\\u003e19\\u003c\\u002fb\\u003e\",3.5541,0.1098],[\"Reconstruction Error\",\"\\u003cb style=\\\"color:Colors.INDIGO_PERSIAN;line-height:60px\\\"\\u003eAnalysis\\u003c\\u002fb\\u003e\",\"\\u003cspan style=\\\"color:#AD0000\\\"\\u003e\\u26a0 \\u003cb\\u003eDrift detected\\u003c\\u002fb\\u003e\\u003c\\u002fspan\\u003e\",\"[5000:5393]\",\"Chunk index: \\u003cb\\u003e20\\u003c\\u002fb\\u003e\",3.5267,0.0874]],\"hovertemplate\":\"%{customdata[1]} &nbsp; &nbsp; %{customdata[2]} \\u003cbr \\u002f\\u003eChunk: \\u003cb\\u003e%{customdata[3]}\\u003c\\u002fb\\u003e &nbsp; &nbsp; %{customdata[4]} \\u003cbr \\u002f\\u003e%{customdata[0]}: \\u003cb\\u003e%{customdata[5]}\\u003c\\u002fb\\u003e\\u003cbr \\u002f\\u003eConfidence band: +\\u002f- \\u003cb\\u003e%{customdata[6]}\\u003c\\u002fb\\u003e\\u003cbr \\u002f\\u003e\\u003cextra\\u003e\\u003c\\u002fextra\\u003e\",\"legendgroup\":\"metric_analysis\",\"marker\":{\"color\":\"#00c8e5\",\"size\":5,\"symbol\":\"circle\"},\"mode\":\"markers\",\"name\":\"Metric\",\"showlegend\":false,\"x\":[0.5,1.5,2.5,3.5,4.5,5.5,6.5,7.5,8.5,9.5,10.5,11.5,12.5,13.5,14.5,15.5,16.5,17.5,18.5,19.5,20.5],\"y\":[1.3749626468552019,1.3451667959716878,1.3583676351122067,1.3552251844524654,1.3622748688991888,1.3942600348070464,1.3344823980286789,1.3173168562353375,1.3968270087230048,1.373292024570589,1.359198994313365,1.4394402302622276,1.3959692598837439,1.3684045467632748,1.3628408691027876,1.4639883723171139,2.3135080286425738,3.5541606463141107,3.5535842280543144,3.5541440117845116,3.526701609997662,3.526701609997662],\"type\":\"scatter\"},{\"hoverinfo\":\"skip\",\"legendgroup\":\"alert\",\"marker\":{\"color\":\"#DD4040\",\"size\":8,\"symbol\":\"diamond\"},\"mode\":\"markers\",\"name\":\"Alert\",\"showlegend\":true,\"x\":[16.5,17.5,18.5,19.5,20.5],\"y\":[2.3135080286425738,3.5541606463141107,3.5535842280543144,3.5541440117845116,3.526701609997662],\"type\":\"scatter\"},{\"hoverinfo\":\"skip\",\"legendgroup\":\"thresh\",\"line\":{\"color\":\"#DD4040\",\"dash\":\"dash\",\"width\":2},\"mode\":\"lines\",\"name\":\"Threshold\",\"showlegend\":false,\"x\":[0,1,2,3,4,5,6,7,8,9,10,11,12,13,14,15,16,17,18,19,20,21],\"y\":[1.4976455277369987,1.4976455277369987,1.4976455277369987,1.4976455277369987,1.4976455277369987,1.4976455277369987,1.4976455277369987,1.4976455277369987,1.4976455277369987,1.4976455277369987,1.4976455277369987,1.4976455277369987,1.4976455277369987,1.4976455277369987,1.4976455277369987,1.4976455277369987,1.4976455277369987,1.4976455277369987,1.4976455277369987,1.4976455277369987,1.4976455277369987,1.4976455277369987],\"type\":\"scatter\"},{\"hoverinfo\":\"skip\",\"legendgroup\":\"thresh\",\"line\":{\"color\":\"#DD4040\",\"dash\":\"dash\",\"width\":2},\"mode\":\"lines\",\"name\":\"Threshold\",\"showlegend\":false,\"x\":[0,1,2,3,4,5,6,7,8,9,10,11,12,13,14,15,16,17,18,19,20,21],\"y\":[1.2660845281054465,1.2660845281054465,1.2660845281054465,1.2660845281054465,1.2660845281054465,1.2660845281054465,1.2660845281054465,1.2660845281054465,1.2660845281054465,1.2660845281054465,1.2660845281054465,1.2660845281054465,1.2660845281054465,1.2660845281054465,1.2660845281054465,1.2660845281054465,1.2660845281054465,1.2660845281054465,1.2660845281054465,1.2660845281054465,1.2660845281054465,1.2660845281054465],\"type\":\"scatter\"},{\"hoverinfo\":\"skip\",\"line\":{\"color\":\"rgba(0,0,0,0)\",\"shape\":\"hv\"},\"mode\":\"lines\",\"name\":\"Confidence band\",\"showlegend\":false,\"x\":[0,1,2,3,4,5,6,7,8,9,10,11,12,13,14,15,16,17,18,19,20,21],\"y\":[1.4847443448865207,1.4549484940030066,1.4681493331435256,1.4650068824837843,1.4720565669305077,1.5040417328383653,1.4442640960599977,1.4270985542666563,1.5066087067543237,1.483073722601908,1.468980692344684,1.5492219282935464,1.5057509579150627,1.4781862447945937,1.4726225671341064,1.5737700703484327,2.4232897266738926,3.6639423443454295,3.6633659260856333,3.6639257098158304,3.61415000385352,3.61415000385352],\"type\":\"scatter\"},{\"fill\":\"tonexty\",\"fillcolor\":\"rgba(0.0, 0.7843137254901961, 0.8980392156862745, 0.2)\",\"hoverinfo\":\"skip\",\"line\":{\"color\":\"rgba(0,0,0,0)\",\"shape\":\"hv\"},\"mode\":\"lines\",\"name\":\"Confidence band\",\"showlegend\":true,\"x\":[0,1,2,3,4,5,6,7,8,9,10,11,12,13,14,15,16,17,18,19,20,21],\"y\":[1.265180948823883,1.2353850979403689,1.2485859370808878,1.2454434864211466,1.25249317086787,1.2844783367757275,1.22470069999736,1.2075351582040186,1.287045310691686,1.2635103265392702,1.2494172962820462,1.3296585322309087,1.286187561852425,1.258622848731956,1.2530591710714687,1.354206674285795,2.203726330611255,3.444378948282792,3.4438025300229955,3.4443623137531927,3.4392532161418035,3.4392532161418035],\"type\":\"scatter\"}],                        {\"hoverlabel\":{\"bgcolor\":\"white\",\"font\":{\"size\":14}},\"legend\":{\"itemclick\":false,\"itemdoubleclick\":false,\"traceorder\":\"grouped\"},\"paper_bgcolor\":\"rgba(255,255,255,1)\",\"plot_bgcolor\":\"rgba(255,255,255,1)\",\"title\":{\"text\":\"Multivariate Drift (PCA Reconstruction Error)\"},\"xaxis\":{\"linecolor\":\"#3b0280\",\"mirror\":true,\"showgrid\":false,\"title\":{\"text\":\"Chunk\"},\"zeroline\":false,\"matches\":\"x\"},\"yaxis\":{\"linecolor\":\"#3b0280\",\"mirror\":true,\"showgrid\":false,\"title\":{\"text\":\"Reconstruction Error\"},\"zeroline\":false},\"template\":{\"data\":{\"histogram2dcontour\":[{\"type\":\"histogram2dcontour\",\"colorbar\":{\"outlinewidth\":0,\"ticks\":\"\"},\"colorscale\":[[0.0,\"#0d0887\"],[0.1111111111111111,\"#46039f\"],[0.2222222222222222,\"#7201a8\"],[0.3333333333333333,\"#9c179e\"],[0.4444444444444444,\"#bd3786\"],[0.5555555555555556,\"#d8576b\"],[0.6666666666666666,\"#ed7953\"],[0.7777777777777778,\"#fb9f3a\"],[0.8888888888888888,\"#fdca26\"],[1.0,\"#f0f921\"]]}],\"choropleth\":[{\"type\":\"choropleth\",\"colorbar\":{\"outlinewidth\":0,\"ticks\":\"\"}}],\"histogram2d\":[{\"type\":\"histogram2d\",\"colorbar\":{\"outlinewidth\":0,\"ticks\":\"\"},\"colorscale\":[[0.0,\"#0d0887\"],[0.1111111111111111,\"#46039f\"],[0.2222222222222222,\"#7201a8\"],[0.3333333333333333,\"#9c179e\"],[0.4444444444444444,\"#bd3786\"],[0.5555555555555556,\"#d8576b\"],[0.6666666666666666,\"#ed7953\"],[0.7777777777777778,\"#fb9f3a\"],[0.8888888888888888,\"#fdca26\"],[1.0,\"#f0f921\"]]}],\"heatmap\":[{\"type\":\"heatmap\",\"colorbar\":{\"outlinewidth\":0,\"ticks\":\"\"},\"colorscale\":[[0.0,\"#0d0887\"],[0.1111111111111111,\"#46039f\"],[0.2222222222222222,\"#7201a8\"],[0.3333333333333333,\"#9c179e\"],[0.4444444444444444,\"#bd3786\"],[0.5555555555555556,\"#d8576b\"],[0.6666666666666666,\"#ed7953\"],[0.7777777777777778,\"#fb9f3a\"],[0.8888888888888888,\"#fdca26\"],[1.0,\"#f0f921\"]]}],\"heatmapgl\":[{\"type\":\"heatmapgl\",\"colorbar\":{\"outlinewidth\":0,\"ticks\":\"\"},\"colorscale\":[[0.0,\"#0d0887\"],[0.1111111111111111,\"#46039f\"],[0.2222222222222222,\"#7201a8\"],[0.3333333333333333,\"#9c179e\"],[0.4444444444444444,\"#bd3786\"],[0.5555555555555556,\"#d8576b\"],[0.6666666666666666,\"#ed7953\"],[0.7777777777777778,\"#fb9f3a\"],[0.8888888888888888,\"#fdca26\"],[1.0,\"#f0f921\"]]}],\"contourcarpet\":[{\"type\":\"contourcarpet\",\"colorbar\":{\"outlinewidth\":0,\"ticks\":\"\"}}],\"contour\":[{\"type\":\"contour\",\"colorbar\":{\"outlinewidth\":0,\"ticks\":\"\"},\"colorscale\":[[0.0,\"#0d0887\"],[0.1111111111111111,\"#46039f\"],[0.2222222222222222,\"#7201a8\"],[0.3333333333333333,\"#9c179e\"],[0.4444444444444444,\"#bd3786\"],[0.5555555555555556,\"#d8576b\"],[0.6666666666666666,\"#ed7953\"],[0.7777777777777778,\"#fb9f3a\"],[0.8888888888888888,\"#fdca26\"],[1.0,\"#f0f921\"]]}],\"surface\":[{\"type\":\"surface\",\"colorbar\":{\"outlinewidth\":0,\"ticks\":\"\"},\"colorscale\":[[0.0,\"#0d0887\"],[0.1111111111111111,\"#46039f\"],[0.2222222222222222,\"#7201a8\"],[0.3333333333333333,\"#9c179e\"],[0.4444444444444444,\"#bd3786\"],[0.5555555555555556,\"#d8576b\"],[0.6666666666666666,\"#ed7953\"],[0.7777777777777778,\"#fb9f3a\"],[0.8888888888888888,\"#fdca26\"],[1.0,\"#f0f921\"]]}],\"mesh3d\":[{\"type\":\"mesh3d\",\"colorbar\":{\"outlinewidth\":0,\"ticks\":\"\"}}],\"scatter\":[{\"fillpattern\":{\"fillmode\":\"overlay\",\"size\":10,\"solidity\":0.2},\"type\":\"scatter\"}],\"parcoords\":[{\"type\":\"parcoords\",\"line\":{\"colorbar\":{\"outlinewidth\":0,\"ticks\":\"\"}}}],\"scatterpolargl\":[{\"type\":\"scatterpolargl\",\"marker\":{\"colorbar\":{\"outlinewidth\":0,\"ticks\":\"\"}}}],\"bar\":[{\"error_x\":{\"color\":\"#2a3f5f\"},\"error_y\":{\"color\":\"#2a3f5f\"},\"marker\":{\"line\":{\"color\":\"#E5ECF6\",\"width\":0.5},\"pattern\":{\"fillmode\":\"overlay\",\"size\":10,\"solidity\":0.2}},\"type\":\"bar\"}],\"scattergeo\":[{\"type\":\"scattergeo\",\"marker\":{\"colorbar\":{\"outlinewidth\":0,\"ticks\":\"\"}}}],\"scatterpolar\":[{\"type\":\"scatterpolar\",\"marker\":{\"colorbar\":{\"outlinewidth\":0,\"ticks\":\"\"}}}],\"histogram\":[{\"marker\":{\"pattern\":{\"fillmode\":\"overlay\",\"size\":10,\"solidity\":0.2}},\"type\":\"histogram\"}],\"scattergl\":[{\"type\":\"scattergl\",\"marker\":{\"colorbar\":{\"outlinewidth\":0,\"ticks\":\"\"}}}],\"scatter3d\":[{\"type\":\"scatter3d\",\"line\":{\"colorbar\":{\"outlinewidth\":0,\"ticks\":\"\"}},\"marker\":{\"colorbar\":{\"outlinewidth\":0,\"ticks\":\"\"}}}],\"scattermapbox\":[{\"type\":\"scattermapbox\",\"marker\":{\"colorbar\":{\"outlinewidth\":0,\"ticks\":\"\"}}}],\"scatterternary\":[{\"type\":\"scatterternary\",\"marker\":{\"colorbar\":{\"outlinewidth\":0,\"ticks\":\"\"}}}],\"scattercarpet\":[{\"type\":\"scattercarpet\",\"marker\":{\"colorbar\":{\"outlinewidth\":0,\"ticks\":\"\"}}}],\"carpet\":[{\"aaxis\":{\"endlinecolor\":\"#2a3f5f\",\"gridcolor\":\"white\",\"linecolor\":\"white\",\"minorgridcolor\":\"white\",\"startlinecolor\":\"#2a3f5f\"},\"baxis\":{\"endlinecolor\":\"#2a3f5f\",\"gridcolor\":\"white\",\"linecolor\":\"white\",\"minorgridcolor\":\"white\",\"startlinecolor\":\"#2a3f5f\"},\"type\":\"carpet\"}],\"table\":[{\"cells\":{\"fill\":{\"color\":\"#EBF0F8\"},\"line\":{\"color\":\"white\"}},\"header\":{\"fill\":{\"color\":\"#C8D4E3\"},\"line\":{\"color\":\"white\"}},\"type\":\"table\"}],\"barpolar\":[{\"marker\":{\"line\":{\"color\":\"#E5ECF6\",\"width\":0.5},\"pattern\":{\"fillmode\":\"overlay\",\"size\":10,\"solidity\":0.2}},\"type\":\"barpolar\"}],\"pie\":[{\"automargin\":true,\"type\":\"pie\"}]},\"layout\":{\"autotypenumbers\":\"strict\",\"colorway\":[\"#636efa\",\"#EF553B\",\"#00cc96\",\"#ab63fa\",\"#FFA15A\",\"#19d3f3\",\"#FF6692\",\"#B6E880\",\"#FF97FF\",\"#FECB52\"],\"font\":{\"color\":\"#2a3f5f\"},\"hovermode\":\"closest\",\"hoverlabel\":{\"align\":\"left\"},\"paper_bgcolor\":\"white\",\"plot_bgcolor\":\"#E5ECF6\",\"polar\":{\"bgcolor\":\"#E5ECF6\",\"angularaxis\":{\"gridcolor\":\"white\",\"linecolor\":\"white\",\"ticks\":\"\"},\"radialaxis\":{\"gridcolor\":\"white\",\"linecolor\":\"white\",\"ticks\":\"\"}},\"ternary\":{\"bgcolor\":\"#E5ECF6\",\"aaxis\":{\"gridcolor\":\"white\",\"linecolor\":\"white\",\"ticks\":\"\"},\"baxis\":{\"gridcolor\":\"white\",\"linecolor\":\"white\",\"ticks\":\"\"},\"caxis\":{\"gridcolor\":\"white\",\"linecolor\":\"white\",\"ticks\":\"\"}},\"coloraxis\":{\"colorbar\":{\"outlinewidth\":0,\"ticks\":\"\"}},\"colorscale\":{\"sequential\":[[0.0,\"#0d0887\"],[0.1111111111111111,\"#46039f\"],[0.2222222222222222,\"#7201a8\"],[0.3333333333333333,\"#9c179e\"],[0.4444444444444444,\"#bd3786\"],[0.5555555555555556,\"#d8576b\"],[0.6666666666666666,\"#ed7953\"],[0.7777777777777778,\"#fb9f3a\"],[0.8888888888888888,\"#fdca26\"],[1.0,\"#f0f921\"]],\"sequentialminus\":[[0.0,\"#0d0887\"],[0.1111111111111111,\"#46039f\"],[0.2222222222222222,\"#7201a8\"],[0.3333333333333333,\"#9c179e\"],[0.4444444444444444,\"#bd3786\"],[0.5555555555555556,\"#d8576b\"],[0.6666666666666666,\"#ed7953\"],[0.7777777777777778,\"#fb9f3a\"],[0.8888888888888888,\"#fdca26\"],[1.0,\"#f0f921\"]],\"diverging\":[[0,\"#8e0152\"],[0.1,\"#c51b7d\"],[0.2,\"#de77ae\"],[0.3,\"#f1b6da\"],[0.4,\"#fde0ef\"],[0.5,\"#f7f7f7\"],[0.6,\"#e6f5d0\"],[0.7,\"#b8e186\"],[0.8,\"#7fbc41\"],[0.9,\"#4d9221\"],[1,\"#276419\"]]},\"xaxis\":{\"gridcolor\":\"white\",\"linecolor\":\"white\",\"ticks\":\"\",\"title\":{\"standoff\":15},\"zerolinecolor\":\"white\",\"automargin\":true,\"zerolinewidth\":2},\"yaxis\":{\"gridcolor\":\"white\",\"linecolor\":\"white\",\"ticks\":\"\",\"title\":{\"standoff\":15},\"zerolinecolor\":\"white\",\"automargin\":true,\"zerolinewidth\":2},\"scene\":{\"xaxis\":{\"backgroundcolor\":\"#E5ECF6\",\"gridcolor\":\"white\",\"linecolor\":\"white\",\"showbackground\":true,\"ticks\":\"\",\"zerolinecolor\":\"white\",\"gridwidth\":2},\"yaxis\":{\"backgroundcolor\":\"#E5ECF6\",\"gridcolor\":\"white\",\"linecolor\":\"white\",\"showbackground\":true,\"ticks\":\"\",\"zerolinecolor\":\"white\",\"gridwidth\":2},\"zaxis\":{\"backgroundcolor\":\"#E5ECF6\",\"gridcolor\":\"white\",\"linecolor\":\"white\",\"showbackground\":true,\"ticks\":\"\",\"zerolinecolor\":\"white\",\"gridwidth\":2}},\"shapedefaults\":{\"line\":{\"color\":\"#2a3f5f\"}},\"annotationdefaults\":{\"arrowcolor\":\"#2a3f5f\",\"arrowhead\":0,\"arrowwidth\":1},\"geo\":{\"bgcolor\":\"white\",\"landcolor\":\"#E5ECF6\",\"subunitcolor\":\"white\",\"showland\":true,\"showlakes\":true,\"lakecolor\":\"white\"},\"title\":{\"x\":0.05},\"mapbox\":{\"style\":\"light\"}}}},                        {\"responsive\": true}                    ).then(function(){\n",
       "                            \n",
       "var gd = document.getElementById('de5102e3-2438-4d04-988e-17c35cb1dcbb');\n",
       "var x = new MutationObserver(function (mutations, observer) {{\n",
       "        var display = window.getComputedStyle(gd).display;\n",
       "        if (!display || display === 'none') {{\n",
       "            console.log([gd, 'removed!']);\n",
       "            Plotly.purge(gd);\n",
       "            observer.disconnect();\n",
       "        }}\n",
       "}});\n",
       "\n",
       "// Listen for the removal of the full notebook cells\n",
       "var notebookContainer = gd.closest('#notebook-container');\n",
       "if (notebookContainer) {{\n",
       "    x.observe(notebookContainer, {childList: true});\n",
       "}}\n",
       "\n",
       "// Listen for the clearing of the current output cell\n",
       "var outputEl = gd.closest('.output');\n",
       "if (outputEl) {{\n",
       "    x.observe(outputEl, {childList: true});\n",
       "}}\n",
       "\n",
       "                        })                };                });            </script>        </div>"
      ]
     },
     "metadata": {},
     "output_type": "display_data"
    }
   ],
   "source": [
    "multivariate_results.filter(period=\"analysis\").plot().show()"
   ]
  },
  {
   "cell_type": "markdown",
   "id": "db290325-704d-4c64-99d8-234542b79ee0",
   "metadata": {},
   "source": [
    "### Multivariate rec + realized performace"
   ]
  },
  {
   "cell_type": "code",
   "execution_count": 95,
   "id": "5225edd9-225e-4fee-95cc-a4457831e23b",
   "metadata": {},
   "outputs": [
    {
     "data": {
      "application/vnd.plotly.v1+json": {
       "config": {
        "plotlyServerURL": "https://plot.ly"
       },
       "data": [
        {
         "hoverinfo": "skip",
         "line": {
          "color": "#00c8e5",
          "shape": "hv",
          "width": 2
         },
         "mode": "lines",
         "name": "<b>Reconstruction error</b>",
         "showlegend": true,
         "type": "scatter",
         "x": [
          0,
          1,
          2,
          3,
          4,
          5,
          6,
          7,
          8,
          9,
          10,
          11,
          12,
          13,
          14,
          15,
          16,
          17,
          18,
          19,
          20,
          21
         ],
         "xaxis": "x",
         "y": [
          1.3347278693683016,
          1.3716403312940368,
          1.3666329189712725,
          1.3666138204869187,
          1.384856815210756,
          1.3287762911533267,
          1.3616419859716127,
          1.377590366873436,
          1.3660999746544038,
          1.4367927735116057,
          1.371259314430767,
          1.3462659480252477,
          1.388366379558232,
          1.4144983982041976,
          1.39501976784976,
          1.3860353908810676,
          1.4870077602374299,
          1.4315747379472405,
          1.4170542076544321,
          1.3154303948879278,
          1.3712801391736995,
          1.3712801391736995
         ],
         "yaxis": "y"
        },
        {
         "customdata": [
          [
           "<b>Reconstruction error</b>",
           "<b style=\"color:Colors.BLUE_SKY_CRAYOLA;line-height:60px\">Reference</b>",
           "[0:249]",
           "Chunk index: <b>0</b>",
           1.3347
          ],
          [
           "<b>Reconstruction error</b>",
           "<b style=\"color:Colors.BLUE_SKY_CRAYOLA;line-height:60px\">Reference</b>",
           "[250:499]",
           "Chunk index: <b>1</b>",
           1.3716
          ],
          [
           "<b>Reconstruction error</b>",
           "<b style=\"color:Colors.BLUE_SKY_CRAYOLA;line-height:60px\">Reference</b>",
           "[500:749]",
           "Chunk index: <b>2</b>",
           1.3666
          ],
          [
           "<b>Reconstruction error</b>",
           "<b style=\"color:Colors.BLUE_SKY_CRAYOLA;line-height:60px\">Reference</b>",
           "[750:999]",
           "Chunk index: <b>3</b>",
           1.3666
          ],
          [
           "<b>Reconstruction error</b>",
           "<b style=\"color:Colors.BLUE_SKY_CRAYOLA;line-height:60px\">Reference</b>",
           "[1000:1249]",
           "Chunk index: <b>4</b>",
           1.3849
          ],
          [
           "<b>Reconstruction error</b>",
           "<b style=\"color:Colors.BLUE_SKY_CRAYOLA;line-height:60px\">Reference</b>",
           "[1250:1499]",
           "Chunk index: <b>5</b>",
           1.3288
          ],
          [
           "<b>Reconstruction error</b>",
           "<b style=\"color:Colors.BLUE_SKY_CRAYOLA;line-height:60px\">Reference</b>",
           "[1500:1749]",
           "Chunk index: <b>6</b>",
           1.3616
          ],
          [
           "<b>Reconstruction error</b>",
           "<b style=\"color:Colors.BLUE_SKY_CRAYOLA;line-height:60px\">Reference</b>",
           "[1750:1999]",
           "Chunk index: <b>7</b>",
           1.3776
          ],
          [
           "<b>Reconstruction error</b>",
           "<b style=\"color:Colors.BLUE_SKY_CRAYOLA;line-height:60px\">Reference</b>",
           "[2000:2249]",
           "Chunk index: <b>8</b>",
           1.3661
          ],
          [
           "<b>Reconstruction error</b>",
           "<b style=\"color:Colors.BLUE_SKY_CRAYOLA;line-height:60px\">Reference</b>",
           "[2250:2499]",
           "Chunk index: <b>9</b>",
           1.4368
          ],
          [
           "<b>Reconstruction error</b>",
           "<b style=\"color:Colors.BLUE_SKY_CRAYOLA;line-height:60px\">Reference</b>",
           "[2500:2749]",
           "Chunk index: <b>10</b>",
           1.3713
          ],
          [
           "<b>Reconstruction error</b>",
           "<b style=\"color:Colors.BLUE_SKY_CRAYOLA;line-height:60px\">Reference</b>",
           "[2750:2999]",
           "Chunk index: <b>11</b>",
           1.3463
          ],
          [
           "<b>Reconstruction error</b>",
           "<b style=\"color:Colors.BLUE_SKY_CRAYOLA;line-height:60px\">Reference</b>",
           "[3000:3249]",
           "Chunk index: <b>12</b>",
           1.3884
          ],
          [
           "<b>Reconstruction error</b>",
           "<b style=\"color:Colors.BLUE_SKY_CRAYOLA;line-height:60px\">Reference</b>",
           "[3250:3499]",
           "Chunk index: <b>13</b>",
           1.4145
          ],
          [
           "<b>Reconstruction error</b>",
           "<b style=\"color:Colors.BLUE_SKY_CRAYOLA;line-height:60px\">Reference</b>",
           "[3500:3749]",
           "Chunk index: <b>14</b>",
           1.395
          ],
          [
           "<b>Reconstruction error</b>",
           "<b style=\"color:Colors.BLUE_SKY_CRAYOLA;line-height:60px\">Reference</b>",
           "[3750:3999]",
           "Chunk index: <b>15</b>",
           1.386
          ],
          [
           "<b>Reconstruction error</b>",
           "<b style=\"color:Colors.BLUE_SKY_CRAYOLA;line-height:60px\">Reference</b>",
           "[4000:4249]",
           "Chunk index: <b>16</b>",
           1.487
          ],
          [
           "<b>Reconstruction error</b>",
           "<b style=\"color:Colors.BLUE_SKY_CRAYOLA;line-height:60px\">Reference</b>",
           "[4250:4499]",
           "Chunk index: <b>17</b>",
           1.4316
          ],
          [
           "<b>Reconstruction error</b>",
           "<b style=\"color:Colors.BLUE_SKY_CRAYOLA;line-height:60px\">Reference</b>",
           "[4500:4749]",
           "Chunk index: <b>18</b>",
           1.4171
          ],
          [
           "<b>Reconstruction error</b>",
           "<b style=\"color:Colors.BLUE_SKY_CRAYOLA;line-height:60px\">Reference</b>",
           "[4750:4999]",
           "Chunk index: <b>19</b>",
           1.3154
          ],
          [
           "<b>Reconstruction error</b>",
           "<b style=\"color:Colors.BLUE_SKY_CRAYOLA;line-height:60px\">Reference</b>",
           "[5000:5393]",
           "Chunk index: <b>20</b>",
           1.3713
          ]
         ],
         "hovertemplate": "%{customdata[1]}<br />Chunk: <b>%{customdata[2]}</b> &nbsp; &nbsp; %{customdata[3]} <br />%{customdata[0]}: <b>%{customdata[4]}</b><br /><extra></extra>",
         "marker": {
          "color": "#00c8e5",
          "size": 5,
          "symbol": "circle"
         },
         "mode": "markers",
         "name": "<b>Reconstruction error</b>",
         "showlegend": false,
         "type": "scatter",
         "x": [
          0.5,
          1.5,
          2.5,
          3.5,
          4.5,
          5.5,
          6.5,
          7.5,
          8.5,
          9.5,
          10.5,
          11.5,
          12.5,
          13.5,
          14.5,
          15.5,
          16.5,
          17.5,
          18.5,
          19.5,
          20.5
         ],
         "xaxis": "x",
         "y": [
          1.3347278693683016,
          1.3716403312940368,
          1.3666329189712725,
          1.3666138204869187,
          1.384856815210756,
          1.3287762911533267,
          1.3616419859716127,
          1.377590366873436,
          1.3660999746544038,
          1.4367927735116057,
          1.371259314430767,
          1.3462659480252477,
          1.388366379558232,
          1.4144983982041976,
          1.39501976784976,
          1.3860353908810676,
          1.4870077602374299,
          1.4315747379472405,
          1.4170542076544321,
          1.3154303948879278,
          1.3712801391736995,
          1.3712801391736995
         ],
         "yaxis": "y"
        },
        {
         "hoverinfo": "skip",
         "line": {
          "color": "rgba(0, 0, 0, 0)",
          "shape": "hv"
         },
         "mode": "lines",
         "name": "Confidence band",
         "showlegend": false,
         "type": "scatter",
         "x": [
          0,
          1,
          2,
          3,
          4,
          5,
          6,
          7,
          8,
          9,
          10,
          11,
          12,
          13,
          14,
          15,
          16,
          17,
          18,
          19,
          20,
          21
         ],
         "xaxis": "x",
         "y": [
          1.4445095673996204,
          1.4814220293253557,
          1.4764146170025914,
          1.4763955185182376,
          1.494638513242075,
          1.4385579891846456,
          1.4714236840029316,
          1.4873720649047548,
          1.4758816726857227,
          1.5465744715429246,
          1.4810410124620859,
          1.4560476460565666,
          1.4981480775895508,
          1.5242800962355165,
          1.5048014658810789,
          1.4958170889123865,
          1.5967894582687487,
          1.5413564359785594,
          1.526835905685751,
          1.4252120929192467,
          1.4587285330295579,
          1.4587285330295579
         ],
         "yaxis": "y"
        },
        {
         "fill": "tonexty",
         "fillcolor": "rgba(0, 200, 229, 0.2)",
         "hoverinfo": "skip",
         "line": {
          "color": "rgba(0, 0, 0, 0)",
          "shape": "hv"
         },
         "mode": "lines",
         "name": "Confidence band",
         "showlegend": true,
         "type": "scatter",
         "x": [
          0,
          1,
          2,
          3,
          4,
          5,
          6,
          7,
          8,
          9,
          10,
          11,
          12,
          13,
          14,
          15,
          16,
          17,
          18,
          19,
          20,
          21
         ],
         "xaxis": "x",
         "y": [
          1.2249461713369827,
          1.261858633262718,
          1.2568512209399536,
          1.2568321224555998,
          1.2750751171794372,
          1.2189945931220079,
          1.2518602879402938,
          1.267808668842117,
          1.256318276623085,
          1.3270110754802869,
          1.261477616399448,
          1.2364842499939288,
          1.278584681526913,
          1.3047167001728788,
          1.2852380698184411,
          1.2762536928497488,
          1.377226062206111,
          1.3217930399159217,
          1.3072725096231133,
          1.205648696856609,
          1.2838317453178412,
          1.2838317453178412
         ],
         "yaxis": "y"
        },
        {
         "hoverinfo": "skip",
         "line": {
          "color": "#3b0280",
          "shape": "hv",
          "width": 2
         },
         "mode": "lines",
         "name": "<b>RMSE</b> (realized RMSE)",
         "showlegend": true,
         "type": "scatter",
         "x": [
          0,
          1,
          2,
          3,
          4,
          5,
          6,
          7,
          8,
          9,
          10,
          11,
          12,
          13,
          14,
          15,
          16,
          17,
          18,
          19,
          20,
          21
         ],
         "xaxis": "x",
         "y": [
          616.6532091011874,
          666.1114762012899,
          569.2648360907617,
          590.0239205256347,
          372.99346386997354,
          431.4322760129166,
          447.8504166610995,
          440.83897856346607,
          534.8503772616326,
          502.57266271536383,
          531.5404151753644,
          557.380781347486,
          560.7555713272176,
          436.6457075799727,
          453.2526238798875,
          480.59858565770753,
          794.5359112074308,
          512.4959795977219,
          445.33188032223575,
          575.4806863384634,
          412.43543126123456,
          412.43543126123456
         ],
         "yaxis": "y2"
        },
        {
         "customdata": [
          [
           "<b>RMSE</b>",
           "<b style=\"color:Colors.INDIGO_PERSIAN;line-height:60px\">Reference</b>",
           "[0:249]",
           "Chunk index: <b>0</b>",
           616.6532
          ],
          [
           "<b>RMSE</b>",
           "<b style=\"color:Colors.INDIGO_PERSIAN;line-height:60px\">Reference</b>",
           "[250:499]",
           "Chunk index: <b>1</b>",
           666.1115
          ],
          [
           "<b>RMSE</b>",
           "<b style=\"color:Colors.INDIGO_PERSIAN;line-height:60px\">Reference</b>",
           "[500:749]",
           "Chunk index: <b>2</b>",
           569.2648
          ],
          [
           "<b>RMSE</b>",
           "<b style=\"color:Colors.INDIGO_PERSIAN;line-height:60px\">Reference</b>",
           "[750:999]",
           "Chunk index: <b>3</b>",
           590.0239
          ],
          [
           "<b>RMSE</b>",
           "<b style=\"color:Colors.INDIGO_PERSIAN;line-height:60px\">Reference</b>",
           "[1000:1249]",
           "Chunk index: <b>4</b>",
           372.9935
          ],
          [
           "<b>RMSE</b>",
           "<b style=\"color:Colors.INDIGO_PERSIAN;line-height:60px\">Reference</b>",
           "[1250:1499]",
           "Chunk index: <b>5</b>",
           431.4323
          ],
          [
           "<b>RMSE</b>",
           "<b style=\"color:Colors.INDIGO_PERSIAN;line-height:60px\">Reference</b>",
           "[1500:1749]",
           "Chunk index: <b>6</b>",
           447.8504
          ],
          [
           "<b>RMSE</b>",
           "<b style=\"color:Colors.INDIGO_PERSIAN;line-height:60px\">Reference</b>",
           "[1750:1999]",
           "Chunk index: <b>7</b>",
           440.839
          ],
          [
           "<b>RMSE</b>",
           "<b style=\"color:Colors.INDIGO_PERSIAN;line-height:60px\">Reference</b>",
           "[2000:2249]",
           "Chunk index: <b>8</b>",
           534.8504
          ],
          [
           "<b>RMSE</b>",
           "<b style=\"color:Colors.INDIGO_PERSIAN;line-height:60px\">Reference</b>",
           "[2250:2499]",
           "Chunk index: <b>9</b>",
           502.5727
          ],
          [
           "<b>RMSE</b>",
           "<b style=\"color:Colors.INDIGO_PERSIAN;line-height:60px\">Reference</b>",
           "[2500:2749]",
           "Chunk index: <b>10</b>",
           531.5404
          ],
          [
           "<b>RMSE</b>",
           "<b style=\"color:Colors.INDIGO_PERSIAN;line-height:60px\">Reference</b>",
           "[2750:2999]",
           "Chunk index: <b>11</b>",
           557.3808
          ],
          [
           "<b>RMSE</b>",
           "<b style=\"color:Colors.INDIGO_PERSIAN;line-height:60px\">Reference</b>",
           "[3000:3249]",
           "Chunk index: <b>12</b>",
           560.7556
          ],
          [
           "<b>RMSE</b>",
           "<b style=\"color:Colors.INDIGO_PERSIAN;line-height:60px\">Reference</b>",
           "[3250:3499]",
           "Chunk index: <b>13</b>",
           436.6457
          ],
          [
           "<b>RMSE</b>",
           "<b style=\"color:Colors.INDIGO_PERSIAN;line-height:60px\">Reference</b>",
           "[3500:3749]",
           "Chunk index: <b>14</b>",
           453.2526
          ],
          [
           "<b>RMSE</b>",
           "<b style=\"color:Colors.INDIGO_PERSIAN;line-height:60px\">Reference</b>",
           "[3750:3999]",
           "Chunk index: <b>15</b>",
           480.5986
          ],
          [
           "<b>RMSE</b>",
           "<b style=\"color:Colors.INDIGO_PERSIAN;line-height:60px\">Reference</b>",
           "[4000:4249]",
           "Chunk index: <b>16</b>",
           794.5359
          ],
          [
           "<b>RMSE</b>",
           "<b style=\"color:Colors.INDIGO_PERSIAN;line-height:60px\">Reference</b>",
           "[4250:4499]",
           "Chunk index: <b>17</b>",
           512.496
          ],
          [
           "<b>RMSE</b>",
           "<b style=\"color:Colors.INDIGO_PERSIAN;line-height:60px\">Reference</b>",
           "[4500:4749]",
           "Chunk index: <b>18</b>",
           445.3319
          ],
          [
           "<b>RMSE</b>",
           "<b style=\"color:Colors.INDIGO_PERSIAN;line-height:60px\">Reference</b>",
           "[4750:4999]",
           "Chunk index: <b>19</b>",
           575.4807
          ],
          [
           "<b>RMSE</b>",
           "<b style=\"color:Colors.INDIGO_PERSIAN;line-height:60px\">Reference</b>",
           "[5000:5393]",
           "Chunk index: <b>20</b>",
           412.4354
          ]
         ],
         "hovertemplate": "%{customdata[1]}<br />Chunk: <b>%{customdata[2]}</b> &nbsp; &nbsp; %{customdata[3]} <br />%{customdata[0]}: <b>%{customdata[4]}</b><br /><extra></extra>",
         "marker": {
          "color": "#3b0280",
          "size": 5,
          "symbol": "circle"
         },
         "mode": "markers",
         "name": "<b>RMSE</b> (realized RMSE)",
         "showlegend": false,
         "type": "scatter",
         "x": [
          0.5,
          1.5,
          2.5,
          3.5,
          4.5,
          5.5,
          6.5,
          7.5,
          8.5,
          9.5,
          10.5,
          11.5,
          12.5,
          13.5,
          14.5,
          15.5,
          16.5,
          17.5,
          18.5,
          19.5,
          20.5
         ],
         "xaxis": "x",
         "y": [
          616.6532091011874,
          666.1114762012899,
          569.2648360907617,
          590.0239205256347,
          372.99346386997354,
          431.4322760129166,
          447.8504166610995,
          440.83897856346607,
          534.8503772616326,
          502.57266271536383,
          531.5404151753644,
          557.380781347486,
          560.7555713272176,
          436.6457075799727,
          453.2526238798875,
          480.59858565770753,
          794.5359112074308,
          512.4959795977219,
          445.33188032223575,
          575.4806863384634,
          412.43543126123456,
          412.43543126123456
         ],
         "yaxis": "y2"
        },
        {
         "hoverinfo": "skip",
         "line": {
          "color": "#00c8e5",
          "shape": "hv",
          "width": 2
         },
         "mode": "lines",
         "name": "<b>Reconstruction error</b>",
         "showlegend": false,
         "type": "scatter",
         "x": [
          21,
          22,
          23,
          24,
          25,
          26,
          27,
          28,
          29,
          30,
          31,
          32,
          33,
          34,
          35,
          36,
          37,
          38,
          39,
          40,
          41,
          42
         ],
         "xaxis": "x",
         "y": [
          1.3749626468552019,
          1.3451667959716878,
          1.3583676351122067,
          1.3552251844524654,
          1.3622748688991888,
          1.3942600348070464,
          1.3344823980286789,
          1.3173168562353375,
          1.3968270087230048,
          1.373292024570589,
          1.359198994313365,
          1.4394402302622276,
          1.3959692598837439,
          1.3684045467632748,
          1.3628408691027876,
          1.4639883723171139,
          2.3135080286425738,
          3.5541606463141107,
          3.5535842280543144,
          3.5541440117845116,
          3.526701609997662,
          3.526701609997662
         ],
         "yaxis": "y"
        },
        {
         "customdata": [
          [
           "<b>Reconstruction error</b>",
           "<b style=\"color:Colors.BLUE_SKY_CRAYOLA;line-height:60px\">Analysis</b>",
           "",
           "[0:249]",
           "Chunk index: <b>21</b>",
           1.375
          ],
          [
           "<b>Reconstruction error</b>",
           "<b style=\"color:Colors.BLUE_SKY_CRAYOLA;line-height:60px\">Analysis</b>",
           "",
           "[250:499]",
           "Chunk index: <b>22</b>",
           1.3452
          ],
          [
           "<b>Reconstruction error</b>",
           "<b style=\"color:Colors.BLUE_SKY_CRAYOLA;line-height:60px\">Analysis</b>",
           "",
           "[500:749]",
           "Chunk index: <b>23</b>",
           1.3584
          ],
          [
           "<b>Reconstruction error</b>",
           "<b style=\"color:Colors.BLUE_SKY_CRAYOLA;line-height:60px\">Analysis</b>",
           "",
           "[750:999]",
           "Chunk index: <b>24</b>",
           1.3552
          ],
          [
           "<b>Reconstruction error</b>",
           "<b style=\"color:Colors.BLUE_SKY_CRAYOLA;line-height:60px\">Analysis</b>",
           "",
           "[1000:1249]",
           "Chunk index: <b>25</b>",
           1.3623
          ],
          [
           "<b>Reconstruction error</b>",
           "<b style=\"color:Colors.BLUE_SKY_CRAYOLA;line-height:60px\">Analysis</b>",
           "",
           "[1250:1499]",
           "Chunk index: <b>26</b>",
           1.3943
          ],
          [
           "<b>Reconstruction error</b>",
           "<b style=\"color:Colors.BLUE_SKY_CRAYOLA;line-height:60px\">Analysis</b>",
           "",
           "[1500:1749]",
           "Chunk index: <b>27</b>",
           1.3345
          ],
          [
           "<b>Reconstruction error</b>",
           "<b style=\"color:Colors.BLUE_SKY_CRAYOLA;line-height:60px\">Analysis</b>",
           "",
           "[1750:1999]",
           "Chunk index: <b>28</b>",
           1.3173
          ],
          [
           "<b>Reconstruction error</b>",
           "<b style=\"color:Colors.BLUE_SKY_CRAYOLA;line-height:60px\">Analysis</b>",
           "",
           "[2000:2249]",
           "Chunk index: <b>29</b>",
           1.3968
          ],
          [
           "<b>Reconstruction error</b>",
           "<b style=\"color:Colors.BLUE_SKY_CRAYOLA;line-height:60px\">Analysis</b>",
           "",
           "[2250:2499]",
           "Chunk index: <b>30</b>",
           1.3733
          ],
          [
           "<b>Reconstruction error</b>",
           "<b style=\"color:Colors.BLUE_SKY_CRAYOLA;line-height:60px\">Analysis</b>",
           "",
           "[2500:2749]",
           "Chunk index: <b>31</b>",
           1.3592
          ],
          [
           "<b>Reconstruction error</b>",
           "<b style=\"color:Colors.BLUE_SKY_CRAYOLA;line-height:60px\">Analysis</b>",
           "",
           "[2750:2999]",
           "Chunk index: <b>32</b>",
           1.4394
          ],
          [
           "<b>Reconstruction error</b>",
           "<b style=\"color:Colors.BLUE_SKY_CRAYOLA;line-height:60px\">Analysis</b>",
           "",
           "[3000:3249]",
           "Chunk index: <b>33</b>",
           1.396
          ],
          [
           "<b>Reconstruction error</b>",
           "<b style=\"color:Colors.BLUE_SKY_CRAYOLA;line-height:60px\">Analysis</b>",
           "",
           "[3250:3499]",
           "Chunk index: <b>34</b>",
           1.3684
          ],
          [
           "<b>Reconstruction error</b>",
           "<b style=\"color:Colors.BLUE_SKY_CRAYOLA;line-height:60px\">Analysis</b>",
           "",
           "[3500:3749]",
           "Chunk index: <b>35</b>",
           1.3628
          ],
          [
           "<b>Reconstruction error</b>",
           "<b style=\"color:Colors.BLUE_SKY_CRAYOLA;line-height:60px\">Analysis</b>",
           "",
           "[3750:3999]",
           "Chunk index: <b>36</b>",
           1.464
          ],
          [
           "<b>Reconstruction error</b>",
           "<b style=\"color:Colors.BLUE_SKY_CRAYOLA;line-height:60px\">Analysis</b>",
           "<span style=\"color:#AD0000\">⚠ <b>Drift detected</b></span>",
           "[4000:4249]",
           "Chunk index: <b>37</b>",
           2.3135
          ],
          [
           "<b>Reconstruction error</b>",
           "<b style=\"color:Colors.BLUE_SKY_CRAYOLA;line-height:60px\">Analysis</b>",
           "<span style=\"color:#AD0000\">⚠ <b>Drift detected</b></span>",
           "[4250:4499]",
           "Chunk index: <b>38</b>",
           3.5542
          ],
          [
           "<b>Reconstruction error</b>",
           "<b style=\"color:Colors.BLUE_SKY_CRAYOLA;line-height:60px\">Analysis</b>",
           "<span style=\"color:#AD0000\">⚠ <b>Drift detected</b></span>",
           "[4500:4749]",
           "Chunk index: <b>39</b>",
           3.5536
          ],
          [
           "<b>Reconstruction error</b>",
           "<b style=\"color:Colors.BLUE_SKY_CRAYOLA;line-height:60px\">Analysis</b>",
           "<span style=\"color:#AD0000\">⚠ <b>Drift detected</b></span>",
           "[4750:4999]",
           "Chunk index: <b>40</b>",
           3.5541
          ],
          [
           "<b>Reconstruction error</b>",
           "<b style=\"color:Colors.BLUE_SKY_CRAYOLA;line-height:60px\">Analysis</b>",
           "<span style=\"color:#AD0000\">⚠ <b>Drift detected</b></span>",
           "[5000:5393]",
           "Chunk index: <b>41</b>",
           3.5267
          ]
         ],
         "hovertemplate": "%{customdata[1]} &nbsp; &nbsp; %{customdata[2]} <br />Chunk: <b>%{customdata[3]}</b> &nbsp; &nbsp; %{customdata[4]} <br />%{customdata[0]}: <b>%{customdata[5]}</b><br /><extra></extra>",
         "marker": {
          "color": "#00c8e5",
          "size": 5,
          "symbol": "circle"
         },
         "mode": "markers",
         "name": "<b>Reconstruction error</b>",
         "showlegend": false,
         "type": "scatter",
         "x": [
          21.5,
          22.5,
          23.5,
          24.5,
          25.5,
          26.5,
          27.5,
          28.5,
          29.5,
          30.5,
          31.5,
          32.5,
          33.5,
          34.5,
          35.5,
          36.5,
          37.5,
          38.5,
          39.5,
          40.5,
          41.5
         ],
         "xaxis": "x",
         "y": [
          1.3749626468552019,
          1.3451667959716878,
          1.3583676351122067,
          1.3552251844524654,
          1.3622748688991888,
          1.3942600348070464,
          1.3344823980286789,
          1.3173168562353375,
          1.3968270087230048,
          1.373292024570589,
          1.359198994313365,
          1.4394402302622276,
          1.3959692598837439,
          1.3684045467632748,
          1.3628408691027876,
          1.4639883723171139,
          2.3135080286425738,
          3.5541606463141107,
          3.5535842280543144,
          3.5541440117845116,
          3.526701609997662,
          3.526701609997662
         ],
         "yaxis": "y"
        },
        {
         "hoverinfo": "skip",
         "line": {
          "color": "rgba(0, 0, 0, 0)",
          "shape": "hv"
         },
         "mode": "lines",
         "name": "Confidence band",
         "showlegend": false,
         "type": "scatter",
         "x": [
          21,
          22,
          23,
          24,
          25,
          26,
          27,
          28,
          29,
          30,
          31,
          32,
          33,
          34,
          35,
          36,
          37,
          38,
          39,
          40,
          41,
          42
         ],
         "xaxis": "x",
         "y": [
          1.4847443448865207,
          1.4549484940030066,
          1.4681493331435256,
          1.4650068824837843,
          1.4720565669305077,
          1.5040417328383653,
          1.4442640960599977,
          1.4270985542666563,
          1.5066087067543237,
          1.483073722601908,
          1.468980692344684,
          1.5492219282935464,
          1.5057509579150627,
          1.4781862447945937,
          1.4726225671341064,
          1.5737700703484327,
          2.4232897266738926,
          3.6639423443454295,
          3.6633659260856333,
          3.6639257098158304,
          3.61415000385352,
          3.61415000385352
         ],
         "yaxis": "y"
        },
        {
         "fill": "tonexty",
         "fillcolor": "rgba(0, 200, 229, 0.2)",
         "hoverinfo": "skip",
         "line": {
          "color": "rgba(0, 0, 0, 0)",
          "shape": "hv"
         },
         "mode": "lines",
         "name": "Confidence band",
         "showlegend": false,
         "type": "scatter",
         "x": [
          21,
          22,
          23,
          24,
          25,
          26,
          27,
          28,
          29,
          30,
          31,
          32,
          33,
          34,
          35,
          36,
          37,
          38,
          39,
          40,
          41,
          42
         ],
         "xaxis": "x",
         "y": [
          1.265180948823883,
          1.2353850979403689,
          1.2485859370808878,
          1.2454434864211466,
          1.25249317086787,
          1.2844783367757275,
          1.22470069999736,
          1.2075351582040186,
          1.287045310691686,
          1.2635103265392702,
          1.2494172962820462,
          1.3296585322309087,
          1.286187561852425,
          1.258622848731956,
          1.2530591710714687,
          1.354206674285795,
          2.203726330611255,
          3.444378948282792,
          3.4438025300229955,
          3.4443623137531927,
          3.4392532161418035,
          3.4392532161418035
         ],
         "yaxis": "y"
        },
        {
         "hoverinfo": "skip",
         "line": {
          "color": "#3b0280",
          "shape": "hv",
          "width": 2
         },
         "mode": "lines",
         "name": "<b>RMSE</b> (realized RMSE)",
         "showlegend": false,
         "type": "scatter",
         "x": [
          21,
          22,
          23,
          24,
          25,
          26,
          27,
          28,
          29,
          30,
          31,
          32,
          33,
          34,
          35,
          36,
          37,
          38,
          39,
          40,
          41,
          42
         ],
         "xaxis": "x",
         "y": [
          497.278867413763,
          461.3997899958315,
          500.8223989339171,
          531.4799802778425,
          514.7019612753825,
          545.0224714210253,
          498.48332757679316,
          477.46089230747634,
          617.3316202001431,
          441.2851527020593,
          502.0362450354136,
          497.07819934076986,
          389.40182495687685,
          441.88681995628167,
          469.79311301307513,
          612.4099931942853,
          851.6292600950732,
          1130.289242928707,
          993.9998250297137,
          1075.1371476966801,
          944.4536293241481,
          944.4536293241481
         ],
         "yaxis": "y2"
        },
        {
         "customdata": [
          [
           "<b>RMSE</b>",
           "<b style=\"color:Colors.INDIGO_PERSIAN;line-height:60px\">Analysis</b>",
           "",
           "[0:249]",
           "Chunk index: <b>21</b>",
           497.2789
          ],
          [
           "<b>RMSE</b>",
           "<b style=\"color:Colors.INDIGO_PERSIAN;line-height:60px\">Analysis</b>",
           "",
           "[250:499]",
           "Chunk index: <b>22</b>",
           461.3998
          ],
          [
           "<b>RMSE</b>",
           "<b style=\"color:Colors.INDIGO_PERSIAN;line-height:60px\">Analysis</b>",
           "",
           "[500:749]",
           "Chunk index: <b>23</b>",
           500.8224
          ],
          [
           "<b>RMSE</b>",
           "<b style=\"color:Colors.INDIGO_PERSIAN;line-height:60px\">Analysis</b>",
           "",
           "[750:999]",
           "Chunk index: <b>24</b>",
           531.48
          ],
          [
           "<b>RMSE</b>",
           "<b style=\"color:Colors.INDIGO_PERSIAN;line-height:60px\">Analysis</b>",
           "",
           "[1000:1249]",
           "Chunk index: <b>25</b>",
           514.702
          ],
          [
           "<b>RMSE</b>",
           "<b style=\"color:Colors.INDIGO_PERSIAN;line-height:60px\">Analysis</b>",
           "",
           "[1250:1499]",
           "Chunk index: <b>26</b>",
           545.0225
          ],
          [
           "<b>RMSE</b>",
           "<b style=\"color:Colors.INDIGO_PERSIAN;line-height:60px\">Analysis</b>",
           "",
           "[1500:1749]",
           "Chunk index: <b>27</b>",
           498.4833
          ],
          [
           "<b>RMSE</b>",
           "<b style=\"color:Colors.INDIGO_PERSIAN;line-height:60px\">Analysis</b>",
           "",
           "[1750:1999]",
           "Chunk index: <b>28</b>",
           477.4609
          ],
          [
           "<b>RMSE</b>",
           "<b style=\"color:Colors.INDIGO_PERSIAN;line-height:60px\">Analysis</b>",
           "",
           "[2000:2249]",
           "Chunk index: <b>29</b>",
           617.3316
          ],
          [
           "<b>RMSE</b>",
           "<b style=\"color:Colors.INDIGO_PERSIAN;line-height:60px\">Analysis</b>",
           "",
           "[2250:2499]",
           "Chunk index: <b>30</b>",
           441.2852
          ],
          [
           "<b>RMSE</b>",
           "<b style=\"color:Colors.INDIGO_PERSIAN;line-height:60px\">Analysis</b>",
           "",
           "[2500:2749]",
           "Chunk index: <b>31</b>",
           502.0362
          ],
          [
           "<b>RMSE</b>",
           "<b style=\"color:Colors.INDIGO_PERSIAN;line-height:60px\">Analysis</b>",
           "",
           "[2750:2999]",
           "Chunk index: <b>32</b>",
           497.0782
          ],
          [
           "<b>RMSE</b>",
           "<b style=\"color:Colors.INDIGO_PERSIAN;line-height:60px\">Analysis</b>",
           "",
           "[3000:3249]",
           "Chunk index: <b>33</b>",
           389.4018
          ],
          [
           "<b>RMSE</b>",
           "<b style=\"color:Colors.INDIGO_PERSIAN;line-height:60px\">Analysis</b>",
           "",
           "[3250:3499]",
           "Chunk index: <b>34</b>",
           441.8868
          ],
          [
           "<b>RMSE</b>",
           "<b style=\"color:Colors.INDIGO_PERSIAN;line-height:60px\">Analysis</b>",
           "",
           "[3500:3749]",
           "Chunk index: <b>35</b>",
           469.7931
          ],
          [
           "<b>RMSE</b>",
           "<b style=\"color:Colors.INDIGO_PERSIAN;line-height:60px\">Analysis</b>",
           "",
           "[3750:3999]",
           "Chunk index: <b>36</b>",
           612.41
          ],
          [
           "<b>RMSE</b>",
           "<b style=\"color:Colors.INDIGO_PERSIAN;line-height:60px\">Analysis</b>",
           "<span style=\"color:#AD0000\">⚠ <b>Drift detected</b></span>",
           "[4000:4249]",
           "Chunk index: <b>37</b>",
           851.6293
          ],
          [
           "<b>RMSE</b>",
           "<b style=\"color:Colors.INDIGO_PERSIAN;line-height:60px\">Analysis</b>",
           "<span style=\"color:#AD0000\">⚠ <b>Drift detected</b></span>",
           "[4250:4499]",
           "Chunk index: <b>38</b>",
           1130.2892
          ],
          [
           "<b>RMSE</b>",
           "<b style=\"color:Colors.INDIGO_PERSIAN;line-height:60px\">Analysis</b>",
           "<span style=\"color:#AD0000\">⚠ <b>Drift detected</b></span>",
           "[4500:4749]",
           "Chunk index: <b>39</b>",
           993.9998
          ],
          [
           "<b>RMSE</b>",
           "<b style=\"color:Colors.INDIGO_PERSIAN;line-height:60px\">Analysis</b>",
           "<span style=\"color:#AD0000\">⚠ <b>Drift detected</b></span>",
           "[4750:4999]",
           "Chunk index: <b>40</b>",
           1075.1371
          ],
          [
           "<b>RMSE</b>",
           "<b style=\"color:Colors.INDIGO_PERSIAN;line-height:60px\">Analysis</b>",
           "<span style=\"color:#AD0000\">⚠ <b>Drift detected</b></span>",
           "[5000:5393]",
           "Chunk index: <b>41</b>",
           944.4536
          ]
         ],
         "hovertemplate": "%{customdata[1]} &nbsp; &nbsp; %{customdata[2]} <br />Chunk: <b>%{customdata[3]}</b> &nbsp; &nbsp; %{customdata[4]} <br />%{customdata[0]}: <b>%{customdata[5]}</b><br /><extra></extra>",
         "marker": {
          "color": "#3b0280",
          "size": 5,
          "symbol": "circle"
         },
         "mode": "markers",
         "name": "<b>RMSE</b> (realized RMSE)",
         "showlegend": false,
         "type": "scatter",
         "x": [
          21.5,
          22.5,
          23.5,
          24.5,
          25.5,
          26.5,
          27.5,
          28.5,
          29.5,
          30.5,
          31.5,
          32.5,
          33.5,
          34.5,
          35.5,
          36.5,
          37.5,
          38.5,
          39.5,
          40.5,
          41.5
         ],
         "xaxis": "x",
         "y": [
          497.278867413763,
          461.3997899958315,
          500.8223989339171,
          531.4799802778425,
          514.7019612753825,
          545.0224714210253,
          498.48332757679316,
          477.46089230747634,
          617.3316202001431,
          441.2851527020593,
          502.0362450354136,
          497.07819934076986,
          389.40182495687685,
          441.88681995628167,
          469.79311301307513,
          612.4099931942853,
          851.6292600950732,
          1130.289242928707,
          993.9998250297137,
          1075.1371476966801,
          944.4536293241481,
          944.4536293241481
         ],
         "yaxis": "y2"
        },
        {
         "hoverinfo": "skip",
         "legendgroup": "alert",
         "marker": {
          "color": "#DD4040",
          "size": 8,
          "symbol": "diamond"
         },
         "mode": "markers",
         "name": "Alert",
         "showlegend": true,
         "type": "scatter",
         "x": [
          37.5,
          38.5,
          39.5,
          40.5,
          41.5
         ],
         "xaxis": "x",
         "y": [
          2.3135080286425738,
          3.5541606463141107,
          3.5535842280543144,
          3.5541440117845116,
          3.526701609997662
         ],
         "yaxis": "y"
        },
        {
         "hoverinfo": "skip",
         "legendgroup": "alert",
         "marker": {
          "color": "#DD4040",
          "size": 8,
          "symbol": "diamond"
         },
         "mode": "markers",
         "name": "Alert",
         "showlegend": false,
         "type": "scatter",
         "x": [
          37.5,
          38.5,
          39.5,
          40.5,
          41.5
         ],
         "xaxis": "x",
         "y": [
          851.6292600950732,
          1130.289242928707,
          993.9998250297137,
          1075.1371476966801,
          944.4536293241481
         ],
         "yaxis": "y2"
        }
       ],
       "layout": {
        "annotations": [
         {
          "font": {
           "size": 16
          },
          "showarrow": false,
          "text": "<b>Reconstruction error</b> vs. <b>RMSE</b> (realized RMSE)",
          "x": 0.47,
          "xanchor": "center",
          "xref": "paper",
          "y": 1,
          "yanchor": "bottom",
          "yref": "paper"
         },
         {
          "showarrow": false,
          "text": "Reference",
          "x": 10,
          "xshift": 10,
          "y": 1,
          "yref": "paper"
         },
         {
          "showarrow": false,
          "text": "Analysis",
          "x": 31,
          "xshift": 15,
          "y": 1,
          "yref": "paper"
         }
        ],
        "autosize": true,
        "hoverlabel": {
         "bgcolor": "white",
         "font": {
          "size": 14
         }
        },
        "legend": {
         "itemclick": false,
         "itemdoubleclick": false,
         "traceorder": "grouped"
        },
        "paper_bgcolor": "rgba(255,255,255,1)",
        "plot_bgcolor": "rgba(255,255,255,1)",
        "shapes": [
         {
          "layer": "below",
          "line": {
           "color": "#666666",
           "width": 1
          },
          "type": "line",
          "x0": 21,
          "x1": 21,
          "xref": "x",
          "y0": 0,
          "y1": 1,
          "yref": "y domain"
         }
        ],
        "template": {
         "data": {
          "bar": [
           {
            "error_x": {
             "color": "#2a3f5f"
            },
            "error_y": {
             "color": "#2a3f5f"
            },
            "marker": {
             "line": {
              "color": "#E5ECF6",
              "width": 0.5
             },
             "pattern": {
              "fillmode": "overlay",
              "size": 10,
              "solidity": 0.2
             }
            },
            "type": "bar"
           }
          ],
          "barpolar": [
           {
            "marker": {
             "line": {
              "color": "#E5ECF6",
              "width": 0.5
             },
             "pattern": {
              "fillmode": "overlay",
              "size": 10,
              "solidity": 0.2
             }
            },
            "type": "barpolar"
           }
          ],
          "carpet": [
           {
            "aaxis": {
             "endlinecolor": "#2a3f5f",
             "gridcolor": "white",
             "linecolor": "white",
             "minorgridcolor": "white",
             "startlinecolor": "#2a3f5f"
            },
            "baxis": {
             "endlinecolor": "#2a3f5f",
             "gridcolor": "white",
             "linecolor": "white",
             "minorgridcolor": "white",
             "startlinecolor": "#2a3f5f"
            },
            "type": "carpet"
           }
          ],
          "choropleth": [
           {
            "colorbar": {
             "outlinewidth": 0,
             "ticks": ""
            },
            "type": "choropleth"
           }
          ],
          "contour": [
           {
            "colorbar": {
             "outlinewidth": 0,
             "ticks": ""
            },
            "colorscale": [
             [
              0,
              "#0d0887"
             ],
             [
              0.1111111111111111,
              "#46039f"
             ],
             [
              0.2222222222222222,
              "#7201a8"
             ],
             [
              0.3333333333333333,
              "#9c179e"
             ],
             [
              0.4444444444444444,
              "#bd3786"
             ],
             [
              0.5555555555555556,
              "#d8576b"
             ],
             [
              0.6666666666666666,
              "#ed7953"
             ],
             [
              0.7777777777777778,
              "#fb9f3a"
             ],
             [
              0.8888888888888888,
              "#fdca26"
             ],
             [
              1,
              "#f0f921"
             ]
            ],
            "type": "contour"
           }
          ],
          "contourcarpet": [
           {
            "colorbar": {
             "outlinewidth": 0,
             "ticks": ""
            },
            "type": "contourcarpet"
           }
          ],
          "heatmap": [
           {
            "colorbar": {
             "outlinewidth": 0,
             "ticks": ""
            },
            "colorscale": [
             [
              0,
              "#0d0887"
             ],
             [
              0.1111111111111111,
              "#46039f"
             ],
             [
              0.2222222222222222,
              "#7201a8"
             ],
             [
              0.3333333333333333,
              "#9c179e"
             ],
             [
              0.4444444444444444,
              "#bd3786"
             ],
             [
              0.5555555555555556,
              "#d8576b"
             ],
             [
              0.6666666666666666,
              "#ed7953"
             ],
             [
              0.7777777777777778,
              "#fb9f3a"
             ],
             [
              0.8888888888888888,
              "#fdca26"
             ],
             [
              1,
              "#f0f921"
             ]
            ],
            "type": "heatmap"
           }
          ],
          "heatmapgl": [
           {
            "colorbar": {
             "outlinewidth": 0,
             "ticks": ""
            },
            "colorscale": [
             [
              0,
              "#0d0887"
             ],
             [
              0.1111111111111111,
              "#46039f"
             ],
             [
              0.2222222222222222,
              "#7201a8"
             ],
             [
              0.3333333333333333,
              "#9c179e"
             ],
             [
              0.4444444444444444,
              "#bd3786"
             ],
             [
              0.5555555555555556,
              "#d8576b"
             ],
             [
              0.6666666666666666,
              "#ed7953"
             ],
             [
              0.7777777777777778,
              "#fb9f3a"
             ],
             [
              0.8888888888888888,
              "#fdca26"
             ],
             [
              1,
              "#f0f921"
             ]
            ],
            "type": "heatmapgl"
           }
          ],
          "histogram": [
           {
            "marker": {
             "pattern": {
              "fillmode": "overlay",
              "size": 10,
              "solidity": 0.2
             }
            },
            "type": "histogram"
           }
          ],
          "histogram2d": [
           {
            "colorbar": {
             "outlinewidth": 0,
             "ticks": ""
            },
            "colorscale": [
             [
              0,
              "#0d0887"
             ],
             [
              0.1111111111111111,
              "#46039f"
             ],
             [
              0.2222222222222222,
              "#7201a8"
             ],
             [
              0.3333333333333333,
              "#9c179e"
             ],
             [
              0.4444444444444444,
              "#bd3786"
             ],
             [
              0.5555555555555556,
              "#d8576b"
             ],
             [
              0.6666666666666666,
              "#ed7953"
             ],
             [
              0.7777777777777778,
              "#fb9f3a"
             ],
             [
              0.8888888888888888,
              "#fdca26"
             ],
             [
              1,
              "#f0f921"
             ]
            ],
            "type": "histogram2d"
           }
          ],
          "histogram2dcontour": [
           {
            "colorbar": {
             "outlinewidth": 0,
             "ticks": ""
            },
            "colorscale": [
             [
              0,
              "#0d0887"
             ],
             [
              0.1111111111111111,
              "#46039f"
             ],
             [
              0.2222222222222222,
              "#7201a8"
             ],
             [
              0.3333333333333333,
              "#9c179e"
             ],
             [
              0.4444444444444444,
              "#bd3786"
             ],
             [
              0.5555555555555556,
              "#d8576b"
             ],
             [
              0.6666666666666666,
              "#ed7953"
             ],
             [
              0.7777777777777778,
              "#fb9f3a"
             ],
             [
              0.8888888888888888,
              "#fdca26"
             ],
             [
              1,
              "#f0f921"
             ]
            ],
            "type": "histogram2dcontour"
           }
          ],
          "mesh3d": [
           {
            "colorbar": {
             "outlinewidth": 0,
             "ticks": ""
            },
            "type": "mesh3d"
           }
          ],
          "parcoords": [
           {
            "line": {
             "colorbar": {
              "outlinewidth": 0,
              "ticks": ""
             }
            },
            "type": "parcoords"
           }
          ],
          "pie": [
           {
            "automargin": true,
            "type": "pie"
           }
          ],
          "scatter": [
           {
            "fillpattern": {
             "fillmode": "overlay",
             "size": 10,
             "solidity": 0.2
            },
            "type": "scatter"
           }
          ],
          "scatter3d": [
           {
            "line": {
             "colorbar": {
              "outlinewidth": 0,
              "ticks": ""
             }
            },
            "marker": {
             "colorbar": {
              "outlinewidth": 0,
              "ticks": ""
             }
            },
            "type": "scatter3d"
           }
          ],
          "scattercarpet": [
           {
            "marker": {
             "colorbar": {
              "outlinewidth": 0,
              "ticks": ""
             }
            },
            "type": "scattercarpet"
           }
          ],
          "scattergeo": [
           {
            "marker": {
             "colorbar": {
              "outlinewidth": 0,
              "ticks": ""
             }
            },
            "type": "scattergeo"
           }
          ],
          "scattergl": [
           {
            "marker": {
             "colorbar": {
              "outlinewidth": 0,
              "ticks": ""
             }
            },
            "type": "scattergl"
           }
          ],
          "scattermapbox": [
           {
            "marker": {
             "colorbar": {
              "outlinewidth": 0,
              "ticks": ""
             }
            },
            "type": "scattermapbox"
           }
          ],
          "scatterpolar": [
           {
            "marker": {
             "colorbar": {
              "outlinewidth": 0,
              "ticks": ""
             }
            },
            "type": "scatterpolar"
           }
          ],
          "scatterpolargl": [
           {
            "marker": {
             "colorbar": {
              "outlinewidth": 0,
              "ticks": ""
             }
            },
            "type": "scatterpolargl"
           }
          ],
          "scatterternary": [
           {
            "marker": {
             "colorbar": {
              "outlinewidth": 0,
              "ticks": ""
             }
            },
            "type": "scatterternary"
           }
          ],
          "surface": [
           {
            "colorbar": {
             "outlinewidth": 0,
             "ticks": ""
            },
            "colorscale": [
             [
              0,
              "#0d0887"
             ],
             [
              0.1111111111111111,
              "#46039f"
             ],
             [
              0.2222222222222222,
              "#7201a8"
             ],
             [
              0.3333333333333333,
              "#9c179e"
             ],
             [
              0.4444444444444444,
              "#bd3786"
             ],
             [
              0.5555555555555556,
              "#d8576b"
             ],
             [
              0.6666666666666666,
              "#ed7953"
             ],
             [
              0.7777777777777778,
              "#fb9f3a"
             ],
             [
              0.8888888888888888,
              "#fdca26"
             ],
             [
              1,
              "#f0f921"
             ]
            ],
            "type": "surface"
           }
          ],
          "table": [
           {
            "cells": {
             "fill": {
              "color": "#EBF0F8"
             },
             "line": {
              "color": "white"
             }
            },
            "header": {
             "fill": {
              "color": "#C8D4E3"
             },
             "line": {
              "color": "white"
             }
            },
            "type": "table"
           }
          ]
         },
         "layout": {
          "annotationdefaults": {
           "arrowcolor": "#2a3f5f",
           "arrowhead": 0,
           "arrowwidth": 1
          },
          "autotypenumbers": "strict",
          "coloraxis": {
           "colorbar": {
            "outlinewidth": 0,
            "ticks": ""
           }
          },
          "colorscale": {
           "diverging": [
            [
             0,
             "#8e0152"
            ],
            [
             0.1,
             "#c51b7d"
            ],
            [
             0.2,
             "#de77ae"
            ],
            [
             0.3,
             "#f1b6da"
            ],
            [
             0.4,
             "#fde0ef"
            ],
            [
             0.5,
             "#f7f7f7"
            ],
            [
             0.6,
             "#e6f5d0"
            ],
            [
             0.7,
             "#b8e186"
            ],
            [
             0.8,
             "#7fbc41"
            ],
            [
             0.9,
             "#4d9221"
            ],
            [
             1,
             "#276419"
            ]
           ],
           "sequential": [
            [
             0,
             "#0d0887"
            ],
            [
             0.1111111111111111,
             "#46039f"
            ],
            [
             0.2222222222222222,
             "#7201a8"
            ],
            [
             0.3333333333333333,
             "#9c179e"
            ],
            [
             0.4444444444444444,
             "#bd3786"
            ],
            [
             0.5555555555555556,
             "#d8576b"
            ],
            [
             0.6666666666666666,
             "#ed7953"
            ],
            [
             0.7777777777777778,
             "#fb9f3a"
            ],
            [
             0.8888888888888888,
             "#fdca26"
            ],
            [
             1,
             "#f0f921"
            ]
           ],
           "sequentialminus": [
            [
             0,
             "#0d0887"
            ],
            [
             0.1111111111111111,
             "#46039f"
            ],
            [
             0.2222222222222222,
             "#7201a8"
            ],
            [
             0.3333333333333333,
             "#9c179e"
            ],
            [
             0.4444444444444444,
             "#bd3786"
            ],
            [
             0.5555555555555556,
             "#d8576b"
            ],
            [
             0.6666666666666666,
             "#ed7953"
            ],
            [
             0.7777777777777778,
             "#fb9f3a"
            ],
            [
             0.8888888888888888,
             "#fdca26"
            ],
            [
             1,
             "#f0f921"
            ]
           ]
          },
          "colorway": [
           "#636efa",
           "#EF553B",
           "#00cc96",
           "#ab63fa",
           "#FFA15A",
           "#19d3f3",
           "#FF6692",
           "#B6E880",
           "#FF97FF",
           "#FECB52"
          ],
          "font": {
           "color": "#2a3f5f"
          },
          "geo": {
           "bgcolor": "white",
           "lakecolor": "white",
           "landcolor": "#E5ECF6",
           "showlakes": true,
           "showland": true,
           "subunitcolor": "white"
          },
          "hoverlabel": {
           "align": "left"
          },
          "hovermode": "closest",
          "mapbox": {
           "style": "light"
          },
          "paper_bgcolor": "white",
          "plot_bgcolor": "#E5ECF6",
          "polar": {
           "angularaxis": {
            "gridcolor": "white",
            "linecolor": "white",
            "ticks": ""
           },
           "bgcolor": "#E5ECF6",
           "radialaxis": {
            "gridcolor": "white",
            "linecolor": "white",
            "ticks": ""
           }
          },
          "scene": {
           "xaxis": {
            "backgroundcolor": "#E5ECF6",
            "gridcolor": "white",
            "gridwidth": 2,
            "linecolor": "white",
            "showbackground": true,
            "ticks": "",
            "zerolinecolor": "white"
           },
           "yaxis": {
            "backgroundcolor": "#E5ECF6",
            "gridcolor": "white",
            "gridwidth": 2,
            "linecolor": "white",
            "showbackground": true,
            "ticks": "",
            "zerolinecolor": "white"
           },
           "zaxis": {
            "backgroundcolor": "#E5ECF6",
            "gridcolor": "white",
            "gridwidth": 2,
            "linecolor": "white",
            "showbackground": true,
            "ticks": "",
            "zerolinecolor": "white"
           }
          },
          "shapedefaults": {
           "line": {
            "color": "#2a3f5f"
           }
          },
          "ternary": {
           "aaxis": {
            "gridcolor": "white",
            "linecolor": "white",
            "ticks": ""
           },
           "baxis": {
            "gridcolor": "white",
            "linecolor": "white",
            "ticks": ""
           },
           "bgcolor": "#E5ECF6",
           "caxis": {
            "gridcolor": "white",
            "linecolor": "white",
            "ticks": ""
           }
          },
          "title": {
           "x": 0.05
          },
          "xaxis": {
           "automargin": true,
           "gridcolor": "white",
           "linecolor": "white",
           "ticks": "",
           "title": {
            "standoff": 15
           },
           "zerolinecolor": "white",
           "zerolinewidth": 2
          },
          "yaxis": {
           "automargin": true,
           "gridcolor": "white",
           "linecolor": "white",
           "ticks": "",
           "title": {
            "standoff": 15
           },
           "zerolinecolor": "white",
           "zerolinewidth": 2
          }
         }
        },
        "title": {
         "text": "<b>Multivariate drift</b> vs. <b>Realized performance</b>"
        },
        "xaxis": {
         "anchor": "y",
         "autorange": true,
         "domain": [
          0,
          0.94
         ],
         "linecolor": "#3b0280",
         "matches": "x",
         "mirror": true,
         "range": [
          -2.1262402060851198,
          44.30892924616858
         ],
         "showgrid": false,
         "title": {
          "text": "Chunk"
         },
         "type": "linear",
         "zeroline": false
        },
        "yaxis": {
         "anchor": "x",
         "autorange": true,
         "domain": [
          0,
          1
         ],
         "linecolor": "#3b0280",
         "mirror": true,
         "range": [
          1.0690768275516744,
          3.800514213650364
         ],
         "showgrid": false,
         "title": {
          "text": "<b>Reconstruction error</b>"
         },
         "type": "linear",
         "zeroline": false
        },
        "yaxis2": {
         "anchor": "x",
         "autorange": true,
         "linecolor": "#3b0280",
         "mirror": true,
         "overlaying": "y",
         "range": [
          321.2443552518466,
          1187.111793568219
         ],
         "showgrid": false,
         "side": "right",
         "title": {
          "text": "<b>RMSE</b>"
         },
         "type": "linear",
         "zeroline": false
        }
       }
      },
      "image/png": "[encoded data removed]",
      "text/html": [
       "<div>                            <div id=\"f1e0e6c1-a60b-48aa-b381-6a572be1da44\" class=\"plotly-graph-div\" style=\"height:500.0px; width:100%;\"></div>            <script type=\"text/javascript\">                require([\"plotly\"], function(Plotly) {                    window.PLOTLYENV=window.PLOTLYENV || {};                                    if (document.getElementById(\"f1e0e6c1-a60b-48aa-b381-6a572be1da44\")) {                    Plotly.newPlot(                        \"f1e0e6c1-a60b-48aa-b381-6a572be1da44\",                        [{\"hoverinfo\":\"skip\",\"line\":{\"color\":\"#00c8e5\",\"shape\":\"hv\",\"width\":2},\"mode\":\"lines\",\"name\":\"\\u003cb\\u003eReconstruction error\\u003c\\u002fb\\u003e\",\"showlegend\":true,\"x\":[0,1,2,3,4,5,6,7,8,9,10,11,12,13,14,15,16,17,18,19,20,21],\"xaxis\":\"x\",\"y\":[1.3347278693683016,1.3716403312940368,1.3666329189712725,1.3666138204869187,1.384856815210756,1.3287762911533267,1.3616419859716127,1.377590366873436,1.3660999746544038,1.4367927735116057,1.371259314430767,1.3462659480252477,1.388366379558232,1.4144983982041976,1.39501976784976,1.3860353908810676,1.4870077602374299,1.4315747379472405,1.4170542076544321,1.3154303948879278,1.3712801391736995,1.3712801391736995],\"yaxis\":\"y\",\"type\":\"scatter\"},{\"customdata\":[[\"\\u003cb\\u003eReconstruction error\\u003c\\u002fb\\u003e\",\"\\u003cb style=\\\"color:Colors.BLUE_SKY_CRAYOLA;line-height:60px\\\"\\u003eReference\\u003c\\u002fb\\u003e\",\"[0:249]\",\"Chunk index: \\u003cb\\u003e0\\u003c\\u002fb\\u003e\",1.3347],[\"\\u003cb\\u003eReconstruction error\\u003c\\u002fb\\u003e\",\"\\u003cb style=\\\"color:Colors.BLUE_SKY_CRAYOLA;line-height:60px\\\"\\u003eReference\\u003c\\u002fb\\u003e\",\"[250:499]\",\"Chunk index: \\u003cb\\u003e1\\u003c\\u002fb\\u003e\",1.3716],[\"\\u003cb\\u003eReconstruction error\\u003c\\u002fb\\u003e\",\"\\u003cb style=\\\"color:Colors.BLUE_SKY_CRAYOLA;line-height:60px\\\"\\u003eReference\\u003c\\u002fb\\u003e\",\"[500:749]\",\"Chunk index: \\u003cb\\u003e2\\u003c\\u002fb\\u003e\",1.3666],[\"\\u003cb\\u003eReconstruction error\\u003c\\u002fb\\u003e\",\"\\u003cb style=\\\"color:Colors.BLUE_SKY_CRAYOLA;line-height:60px\\\"\\u003eReference\\u003c\\u002fb\\u003e\",\"[750:999]\",\"Chunk index: \\u003cb\\u003e3\\u003c\\u002fb\\u003e\",1.3666],[\"\\u003cb\\u003eReconstruction error\\u003c\\u002fb\\u003e\",\"\\u003cb style=\\\"color:Colors.BLUE_SKY_CRAYOLA;line-height:60px\\\"\\u003eReference\\u003c\\u002fb\\u003e\",\"[1000:1249]\",\"Chunk index: \\u003cb\\u003e4\\u003c\\u002fb\\u003e\",1.3849],[\"\\u003cb\\u003eReconstruction error\\u003c\\u002fb\\u003e\",\"\\u003cb style=\\\"color:Colors.BLUE_SKY_CRAYOLA;line-height:60px\\\"\\u003eReference\\u003c\\u002fb\\u003e\",\"[1250:1499]\",\"Chunk index: \\u003cb\\u003e5\\u003c\\u002fb\\u003e\",1.3288],[\"\\u003cb\\u003eReconstruction error\\u003c\\u002fb\\u003e\",\"\\u003cb style=\\\"color:Colors.BLUE_SKY_CRAYOLA;line-height:60px\\\"\\u003eReference\\u003c\\u002fb\\u003e\",\"[1500:1749]\",\"Chunk index: \\u003cb\\u003e6\\u003c\\u002fb\\u003e\",1.3616],[\"\\u003cb\\u003eReconstruction error\\u003c\\u002fb\\u003e\",\"\\u003cb style=\\\"color:Colors.BLUE_SKY_CRAYOLA;line-height:60px\\\"\\u003eReference\\u003c\\u002fb\\u003e\",\"[1750:1999]\",\"Chunk index: \\u003cb\\u003e7\\u003c\\u002fb\\u003e\",1.3776],[\"\\u003cb\\u003eReconstruction error\\u003c\\u002fb\\u003e\",\"\\u003cb style=\\\"color:Colors.BLUE_SKY_CRAYOLA;line-height:60px\\\"\\u003eReference\\u003c\\u002fb\\u003e\",\"[2000:2249]\",\"Chunk index: \\u003cb\\u003e8\\u003c\\u002fb\\u003e\",1.3661],[\"\\u003cb\\u003eReconstruction error\\u003c\\u002fb\\u003e\",\"\\u003cb style=\\\"color:Colors.BLUE_SKY_CRAYOLA;line-height:60px\\\"\\u003eReference\\u003c\\u002fb\\u003e\",\"[2250:2499]\",\"Chunk index: \\u003cb\\u003e9\\u003c\\u002fb\\u003e\",1.4368],[\"\\u003cb\\u003eReconstruction error\\u003c\\u002fb\\u003e\",\"\\u003cb style=\\\"color:Colors.BLUE_SKY_CRAYOLA;line-height:60px\\\"\\u003eReference\\u003c\\u002fb\\u003e\",\"[2500:2749]\",\"Chunk index: \\u003cb\\u003e10\\u003c\\u002fb\\u003e\",1.3713],[\"\\u003cb\\u003eReconstruction error\\u003c\\u002fb\\u003e\",\"\\u003cb style=\\\"color:Colors.BLUE_SKY_CRAYOLA;line-height:60px\\\"\\u003eReference\\u003c\\u002fb\\u003e\",\"[2750:2999]\",\"Chunk index: \\u003cb\\u003e11\\u003c\\u002fb\\u003e\",1.3463],[\"\\u003cb\\u003eReconstruction error\\u003c\\u002fb\\u003e\",\"\\u003cb style=\\\"color:Colors.BLUE_SKY_CRAYOLA;line-height:60px\\\"\\u003eReference\\u003c\\u002fb\\u003e\",\"[3000:3249]\",\"Chunk index: \\u003cb\\u003e12\\u003c\\u002fb\\u003e\",1.3884],[\"\\u003cb\\u003eReconstruction error\\u003c\\u002fb\\u003e\",\"\\u003cb style=\\\"color:Colors.BLUE_SKY_CRAYOLA;line-height:60px\\\"\\u003eReference\\u003c\\u002fb\\u003e\",\"[3250:3499]\",\"Chunk index: \\u003cb\\u003e13\\u003c\\u002fb\\u003e\",1.4145],[\"\\u003cb\\u003eReconstruction error\\u003c\\u002fb\\u003e\",\"\\u003cb style=\\\"color:Colors.BLUE_SKY_CRAYOLA;line-height:60px\\\"\\u003eReference\\u003c\\u002fb\\u003e\",\"[3500:3749]\",\"Chunk index: \\u003cb\\u003e14\\u003c\\u002fb\\u003e\",1.395],[\"\\u003cb\\u003eReconstruction error\\u003c\\u002fb\\u003e\",\"\\u003cb style=\\\"color:Colors.BLUE_SKY_CRAYOLA;line-height:60px\\\"\\u003eReference\\u003c\\u002fb\\u003e\",\"[3750:3999]\",\"Chunk index: \\u003cb\\u003e15\\u003c\\u002fb\\u003e\",1.386],[\"\\u003cb\\u003eReconstruction error\\u003c\\u002fb\\u003e\",\"\\u003cb style=\\\"color:Colors.BLUE_SKY_CRAYOLA;line-height:60px\\\"\\u003eReference\\u003c\\u002fb\\u003e\",\"[4000:4249]\",\"Chunk index: \\u003cb\\u003e16\\u003c\\u002fb\\u003e\",1.487],[\"\\u003cb\\u003eReconstruction error\\u003c\\u002fb\\u003e\",\"\\u003cb style=\\\"color:Colors.BLUE_SKY_CRAYOLA;line-height:60px\\\"\\u003eReference\\u003c\\u002fb\\u003e\",\"[4250:4499]\",\"Chunk index: \\u003cb\\u003e17\\u003c\\u002fb\\u003e\",1.4316],[\"\\u003cb\\u003eReconstruction error\\u003c\\u002fb\\u003e\",\"\\u003cb style=\\\"color:Colors.BLUE_SKY_CRAYOLA;line-height:60px\\\"\\u003eReference\\u003c\\u002fb\\u003e\",\"[4500:4749]\",\"Chunk index: \\u003cb\\u003e18\\u003c\\u002fb\\u003e\",1.4171],[\"\\u003cb\\u003eReconstruction error\\u003c\\u002fb\\u003e\",\"\\u003cb style=\\\"color:Colors.BLUE_SKY_CRAYOLA;line-height:60px\\\"\\u003eReference\\u003c\\u002fb\\u003e\",\"[4750:4999]\",\"Chunk index: \\u003cb\\u003e19\\u003c\\u002fb\\u003e\",1.3154],[\"\\u003cb\\u003eReconstruction error\\u003c\\u002fb\\u003e\",\"\\u003cb style=\\\"color:Colors.BLUE_SKY_CRAYOLA;line-height:60px\\\"\\u003eReference\\u003c\\u002fb\\u003e\",\"[5000:5393]\",\"Chunk index: \\u003cb\\u003e20\\u003c\\u002fb\\u003e\",1.3713]],\"hovertemplate\":\"%{customdata[1]}\\u003cbr \\u002f\\u003eChunk: \\u003cb\\u003e%{customdata[2]}\\u003c\\u002fb\\u003e &nbsp; &nbsp; %{customdata[3]} \\u003cbr \\u002f\\u003e%{customdata[0]}: \\u003cb\\u003e%{customdata[4]}\\u003c\\u002fb\\u003e\\u003cbr \\u002f\\u003e\\u003cextra\\u003e\\u003c\\u002fextra\\u003e\",\"marker\":{\"color\":\"#00c8e5\",\"size\":5,\"symbol\":\"circle\"},\"mode\":\"markers\",\"name\":\"\\u003cb\\u003eReconstruction error\\u003c\\u002fb\\u003e\",\"showlegend\":false,\"x\":[0.5,1.5,2.5,3.5,4.5,5.5,6.5,7.5,8.5,9.5,10.5,11.5,12.5,13.5,14.5,15.5,16.5,17.5,18.5,19.5,20.5],\"xaxis\":\"x\",\"y\":[1.3347278693683016,1.3716403312940368,1.3666329189712725,1.3666138204869187,1.384856815210756,1.3287762911533267,1.3616419859716127,1.377590366873436,1.3660999746544038,1.4367927735116057,1.371259314430767,1.3462659480252477,1.388366379558232,1.4144983982041976,1.39501976784976,1.3860353908810676,1.4870077602374299,1.4315747379472405,1.4170542076544321,1.3154303948879278,1.3712801391736995,1.3712801391736995],\"yaxis\":\"y\",\"type\":\"scatter\"},{\"hoverinfo\":\"skip\",\"line\":{\"color\":\"rgba(0,0,0,0)\",\"shape\":\"hv\"},\"mode\":\"lines\",\"name\":\"Confidence band\",\"showlegend\":false,\"x\":[0,1,2,3,4,5,6,7,8,9,10,11,12,13,14,15,16,17,18,19,20,21],\"xaxis\":\"x\",\"y\":[1.4445095673996204,1.4814220293253557,1.4764146170025914,1.4763955185182376,1.494638513242075,1.4385579891846456,1.4714236840029316,1.4873720649047548,1.4758816726857227,1.5465744715429246,1.4810410124620859,1.4560476460565666,1.4981480775895508,1.5242800962355165,1.5048014658810789,1.4958170889123865,1.5967894582687487,1.5413564359785594,1.526835905685751,1.4252120929192467,1.4587285330295579,1.4587285330295579],\"yaxis\":\"y\",\"type\":\"scatter\"},{\"fill\":\"tonexty\",\"fillcolor\":\"rgba(0.0, 0.7843137254901961, 0.8980392156862745, 0.2)\",\"hoverinfo\":\"skip\",\"line\":{\"color\":\"rgba(0,0,0,0)\",\"shape\":\"hv\"},\"mode\":\"lines\",\"name\":\"Confidence band\",\"showlegend\":true,\"x\":[0,1,2,3,4,5,6,7,8,9,10,11,12,13,14,15,16,17,18,19,20,21],\"xaxis\":\"x\",\"y\":[1.2249461713369827,1.261858633262718,1.2568512209399536,1.2568321224555998,1.2750751171794372,1.2189945931220079,1.2518602879402938,1.267808668842117,1.256318276623085,1.3270110754802869,1.261477616399448,1.2364842499939288,1.278584681526913,1.3047167001728788,1.2852380698184411,1.2762536928497488,1.377226062206111,1.3217930399159217,1.3072725096231133,1.205648696856609,1.2838317453178412,1.2838317453178412],\"yaxis\":\"y\",\"type\":\"scatter\"},{\"hoverinfo\":\"skip\",\"line\":{\"color\":\"#3b0280\",\"shape\":\"hv\",\"width\":2},\"mode\":\"lines\",\"name\":\"\\u003cb\\u003eRMSE\\u003c\\u002fb\\u003e (realized RMSE)\",\"showlegend\":true,\"x\":[0,1,2,3,4,5,6,7,8,9,10,11,12,13,14,15,16,17,18,19,20,21],\"xaxis\":\"x\",\"y\":[616.6532091011874,666.1114762012899,569.2648360907617,590.0239205256347,372.99346386997354,431.4322760129166,447.8504166610995,440.83897856346607,534.8503772616326,502.57266271536383,531.5404151753644,557.380781347486,560.7555713272176,436.6457075799727,453.2526238798875,480.59858565770753,794.5359112074308,512.4959795977219,445.33188032223575,575.4806863384634,412.43543126123456,412.43543126123456],\"yaxis\":\"y2\",\"type\":\"scatter\"},{\"customdata\":[[\"\\u003cb\\u003eRMSE\\u003c\\u002fb\\u003e\",\"\\u003cb style=\\\"color:Colors.INDIGO_PERSIAN;line-height:60px\\\"\\u003eReference\\u003c\\u002fb\\u003e\",\"[0:249]\",\"Chunk index: \\u003cb\\u003e0\\u003c\\u002fb\\u003e\",616.6532],[\"\\u003cb\\u003eRMSE\\u003c\\u002fb\\u003e\",\"\\u003cb style=\\\"color:Colors.INDIGO_PERSIAN;line-height:60px\\\"\\u003eReference\\u003c\\u002fb\\u003e\",\"[250:499]\",\"Chunk index: \\u003cb\\u003e1\\u003c\\u002fb\\u003e\",666.1115],[\"\\u003cb\\u003eRMSE\\u003c\\u002fb\\u003e\",\"\\u003cb style=\\\"color:Colors.INDIGO_PERSIAN;line-height:60px\\\"\\u003eReference\\u003c\\u002fb\\u003e\",\"[500:749]\",\"Chunk index: \\u003cb\\u003e2\\u003c\\u002fb\\u003e\",569.2648],[\"\\u003cb\\u003eRMSE\\u003c\\u002fb\\u003e\",\"\\u003cb style=\\\"color:Colors.INDIGO_PERSIAN;line-height:60px\\\"\\u003eReference\\u003c\\u002fb\\u003e\",\"[750:999]\",\"Chunk index: \\u003cb\\u003e3\\u003c\\u002fb\\u003e\",590.0239],[\"\\u003cb\\u003eRMSE\\u003c\\u002fb\\u003e\",\"\\u003cb style=\\\"color:Colors.INDIGO_PERSIAN;line-height:60px\\\"\\u003eReference\\u003c\\u002fb\\u003e\",\"[1000:1249]\",\"Chunk index: \\u003cb\\u003e4\\u003c\\u002fb\\u003e\",372.9935],[\"\\u003cb\\u003eRMSE\\u003c\\u002fb\\u003e\",\"\\u003cb style=\\\"color:Colors.INDIGO_PERSIAN;line-height:60px\\\"\\u003eReference\\u003c\\u002fb\\u003e\",\"[1250:1499]\",\"Chunk index: \\u003cb\\u003e5\\u003c\\u002fb\\u003e\",431.4323],[\"\\u003cb\\u003eRMSE\\u003c\\u002fb\\u003e\",\"\\u003cb style=\\\"color:Colors.INDIGO_PERSIAN;line-height:60px\\\"\\u003eReference\\u003c\\u002fb\\u003e\",\"[1500:1749]\",\"Chunk index: \\u003cb\\u003e6\\u003c\\u002fb\\u003e\",447.8504],[\"\\u003cb\\u003eRMSE\\u003c\\u002fb\\u003e\",\"\\u003cb style=\\\"color:Colors.INDIGO_PERSIAN;line-height:60px\\\"\\u003eReference\\u003c\\u002fb\\u003e\",\"[1750:1999]\",\"Chunk index: \\u003cb\\u003e7\\u003c\\u002fb\\u003e\",440.839],[\"\\u003cb\\u003eRMSE\\u003c\\u002fb\\u003e\",\"\\u003cb style=\\\"color:Colors.INDIGO_PERSIAN;line-height:60px\\\"\\u003eReference\\u003c\\u002fb\\u003e\",\"[2000:2249]\",\"Chunk index: \\u003cb\\u003e8\\u003c\\u002fb\\u003e\",534.8504],[\"\\u003cb\\u003eRMSE\\u003c\\u002fb\\u003e\",\"\\u003cb style=\\\"color:Colors.INDIGO_PERSIAN;line-height:60px\\\"\\u003eReference\\u003c\\u002fb\\u003e\",\"[2250:2499]\",\"Chunk index: \\u003cb\\u003e9\\u003c\\u002fb\\u003e\",502.5727],[\"\\u003cb\\u003eRMSE\\u003c\\u002fb\\u003e\",\"\\u003cb style=\\\"color:Colors.INDIGO_PERSIAN;line-height:60px\\\"\\u003eReference\\u003c\\u002fb\\u003e\",\"[2500:2749]\",\"Chunk index: \\u003cb\\u003e10\\u003c\\u002fb\\u003e\",531.5404],[\"\\u003cb\\u003eRMSE\\u003c\\u002fb\\u003e\",\"\\u003cb style=\\\"color:Colors.INDIGO_PERSIAN;line-height:60px\\\"\\u003eReference\\u003c\\u002fb\\u003e\",\"[2750:2999]\",\"Chunk index: \\u003cb\\u003e11\\u003c\\u002fb\\u003e\",557.3808],[\"\\u003cb\\u003eRMSE\\u003c\\u002fb\\u003e\",\"\\u003cb style=\\\"color:Colors.INDIGO_PERSIAN;line-height:60px\\\"\\u003eReference\\u003c\\u002fb\\u003e\",\"[3000:3249]\",\"Chunk index: \\u003cb\\u003e12\\u003c\\u002fb\\u003e\",560.7556],[\"\\u003cb\\u003eRMSE\\u003c\\u002fb\\u003e\",\"\\u003cb style=\\\"color:Colors.INDIGO_PERSIAN;line-height:60px\\\"\\u003eReference\\u003c\\u002fb\\u003e\",\"[3250:3499]\",\"Chunk index: \\u003cb\\u003e13\\u003c\\u002fb\\u003e\",436.6457],[\"\\u003cb\\u003eRMSE\\u003c\\u002fb\\u003e\",\"\\u003cb style=\\\"color:Colors.INDIGO_PERSIAN;line-height:60px\\\"\\u003eReference\\u003c\\u002fb\\u003e\",\"[3500:3749]\",\"Chunk index: \\u003cb\\u003e14\\u003c\\u002fb\\u003e\",453.2526],[\"\\u003cb\\u003eRMSE\\u003c\\u002fb\\u003e\",\"\\u003cb style=\\\"color:Colors.INDIGO_PERSIAN;line-height:60px\\\"\\u003eReference\\u003c\\u002fb\\u003e\",\"[3750:3999]\",\"Chunk index: \\u003cb\\u003e15\\u003c\\u002fb\\u003e\",480.5986],[\"\\u003cb\\u003eRMSE\\u003c\\u002fb\\u003e\",\"\\u003cb style=\\\"color:Colors.INDIGO_PERSIAN;line-height:60px\\\"\\u003eReference\\u003c\\u002fb\\u003e\",\"[4000:4249]\",\"Chunk index: \\u003cb\\u003e16\\u003c\\u002fb\\u003e\",794.5359],[\"\\u003cb\\u003eRMSE\\u003c\\u002fb\\u003e\",\"\\u003cb style=\\\"color:Colors.INDIGO_PERSIAN;line-height:60px\\\"\\u003eReference\\u003c\\u002fb\\u003e\",\"[4250:4499]\",\"Chunk index: \\u003cb\\u003e17\\u003c\\u002fb\\u003e\",512.496],[\"\\u003cb\\u003eRMSE\\u003c\\u002fb\\u003e\",\"\\u003cb style=\\\"color:Colors.INDIGO_PERSIAN;line-height:60px\\\"\\u003eReference\\u003c\\u002fb\\u003e\",\"[4500:4749]\",\"Chunk index: \\u003cb\\u003e18\\u003c\\u002fb\\u003e\",445.3319],[\"\\u003cb\\u003eRMSE\\u003c\\u002fb\\u003e\",\"\\u003cb style=\\\"color:Colors.INDIGO_PERSIAN;line-height:60px\\\"\\u003eReference\\u003c\\u002fb\\u003e\",\"[4750:4999]\",\"Chunk index: \\u003cb\\u003e19\\u003c\\u002fb\\u003e\",575.4807],[\"\\u003cb\\u003eRMSE\\u003c\\u002fb\\u003e\",\"\\u003cb style=\\\"color:Colors.INDIGO_PERSIAN;line-height:60px\\\"\\u003eReference\\u003c\\u002fb\\u003e\",\"[5000:5393]\",\"Chunk index: \\u003cb\\u003e20\\u003c\\u002fb\\u003e\",412.4354]],\"hovertemplate\":\"%{customdata[1]}\\u003cbr \\u002f\\u003eChunk: \\u003cb\\u003e%{customdata[2]}\\u003c\\u002fb\\u003e &nbsp; &nbsp; %{customdata[3]} \\u003cbr \\u002f\\u003e%{customdata[0]}: \\u003cb\\u003e%{customdata[4]}\\u003c\\u002fb\\u003e\\u003cbr \\u002f\\u003e\\u003cextra\\u003e\\u003c\\u002fextra\\u003e\",\"marker\":{\"color\":\"#3b0280\",\"size\":5,\"symbol\":\"circle\"},\"mode\":\"markers\",\"name\":\"\\u003cb\\u003eRMSE\\u003c\\u002fb\\u003e (realized RMSE)\",\"showlegend\":false,\"x\":[0.5,1.5,2.5,3.5,4.5,5.5,6.5,7.5,8.5,9.5,10.5,11.5,12.5,13.5,14.5,15.5,16.5,17.5,18.5,19.5,20.5],\"xaxis\":\"x\",\"y\":[616.6532091011874,666.1114762012899,569.2648360907617,590.0239205256347,372.99346386997354,431.4322760129166,447.8504166610995,440.83897856346607,534.8503772616326,502.57266271536383,531.5404151753644,557.380781347486,560.7555713272176,436.6457075799727,453.2526238798875,480.59858565770753,794.5359112074308,512.4959795977219,445.33188032223575,575.4806863384634,412.43543126123456,412.43543126123456],\"yaxis\":\"y2\",\"type\":\"scatter\"},{\"hoverinfo\":\"skip\",\"line\":{\"color\":\"#00c8e5\",\"shape\":\"hv\",\"width\":2},\"mode\":\"lines\",\"name\":\"\\u003cb\\u003eReconstruction error\\u003c\\u002fb\\u003e\",\"showlegend\":false,\"x\":[21,22,23,24,25,26,27,28,29,30,31,32,33,34,35,36,37,38,39,40,41,42],\"xaxis\":\"x\",\"y\":[1.3749626468552019,1.3451667959716878,1.3583676351122067,1.3552251844524654,1.3622748688991888,1.3942600348070464,1.3344823980286789,1.3173168562353375,1.3968270087230048,1.373292024570589,1.359198994313365,1.4394402302622276,1.3959692598837439,1.3684045467632748,1.3628408691027876,1.4639883723171139,2.3135080286425738,3.5541606463141107,3.5535842280543144,3.5541440117845116,3.526701609997662,3.526701609997662],\"yaxis\":\"y\",\"type\":\"scatter\"},{\"customdata\":[[\"\\u003cb\\u003eReconstruction error\\u003c\\u002fb\\u003e\",\"\\u003cb style=\\\"color:Colors.BLUE_SKY_CRAYOLA;line-height:60px\\\"\\u003eAnalysis\\u003c\\u002fb\\u003e\",\"\",\"[0:249]\",\"Chunk index: \\u003cb\\u003e21\\u003c\\u002fb\\u003e\",1.375],[\"\\u003cb\\u003eReconstruction error\\u003c\\u002fb\\u003e\",\"\\u003cb style=\\\"color:Colors.BLUE_SKY_CRAYOLA;line-height:60px\\\"\\u003eAnalysis\\u003c\\u002fb\\u003e\",\"\",\"[250:499]\",\"Chunk index: \\u003cb\\u003e22\\u003c\\u002fb\\u003e\",1.3452],[\"\\u003cb\\u003eReconstruction error\\u003c\\u002fb\\u003e\",\"\\u003cb style=\\\"color:Colors.BLUE_SKY_CRAYOLA;line-height:60px\\\"\\u003eAnalysis\\u003c\\u002fb\\u003e\",\"\",\"[500:749]\",\"Chunk index: \\u003cb\\u003e23\\u003c\\u002fb\\u003e\",1.3584],[\"\\u003cb\\u003eReconstruction error\\u003c\\u002fb\\u003e\",\"\\u003cb style=\\\"color:Colors.BLUE_SKY_CRAYOLA;line-height:60px\\\"\\u003eAnalysis\\u003c\\u002fb\\u003e\",\"\",\"[750:999]\",\"Chunk index: \\u003cb\\u003e24\\u003c\\u002fb\\u003e\",1.3552],[\"\\u003cb\\u003eReconstruction error\\u003c\\u002fb\\u003e\",\"\\u003cb style=\\\"color:Colors.BLUE_SKY_CRAYOLA;line-height:60px\\\"\\u003eAnalysis\\u003c\\u002fb\\u003e\",\"\",\"[1000:1249]\",\"Chunk index: \\u003cb\\u003e25\\u003c\\u002fb\\u003e\",1.3623],[\"\\u003cb\\u003eReconstruction error\\u003c\\u002fb\\u003e\",\"\\u003cb style=\\\"color:Colors.BLUE_SKY_CRAYOLA;line-height:60px\\\"\\u003eAnalysis\\u003c\\u002fb\\u003e\",\"\",\"[1250:1499]\",\"Chunk index: \\u003cb\\u003e26\\u003c\\u002fb\\u003e\",1.3943],[\"\\u003cb\\u003eReconstruction error\\u003c\\u002fb\\u003e\",\"\\u003cb style=\\\"color:Colors.BLUE_SKY_CRAYOLA;line-height:60px\\\"\\u003eAnalysis\\u003c\\u002fb\\u003e\",\"\",\"[1500:1749]\",\"Chunk index: \\u003cb\\u003e27\\u003c\\u002fb\\u003e\",1.3345],[\"\\u003cb\\u003eReconstruction error\\u003c\\u002fb\\u003e\",\"\\u003cb style=\\\"color:Colors.BLUE_SKY_CRAYOLA;line-height:60px\\\"\\u003eAnalysis\\u003c\\u002fb\\u003e\",\"\",\"[1750:1999]\",\"Chunk index: \\u003cb\\u003e28\\u003c\\u002fb\\u003e\",1.3173],[\"\\u003cb\\u003eReconstruction error\\u003c\\u002fb\\u003e\",\"\\u003cb style=\\\"color:Colors.BLUE_SKY_CRAYOLA;line-height:60px\\\"\\u003eAnalysis\\u003c\\u002fb\\u003e\",\"\",\"[2000:2249]\",\"Chunk index: \\u003cb\\u003e29\\u003c\\u002fb\\u003e\",1.3968],[\"\\u003cb\\u003eReconstruction error\\u003c\\u002fb\\u003e\",\"\\u003cb style=\\\"color:Colors.BLUE_SKY_CRAYOLA;line-height:60px\\\"\\u003eAnalysis\\u003c\\u002fb\\u003e\",\"\",\"[2250:2499]\",\"Chunk index: \\u003cb\\u003e30\\u003c\\u002fb\\u003e\",1.3733],[\"\\u003cb\\u003eReconstruction error\\u003c\\u002fb\\u003e\",\"\\u003cb style=\\\"color:Colors.BLUE_SKY_CRAYOLA;line-height:60px\\\"\\u003eAnalysis\\u003c\\u002fb\\u003e\",\"\",\"[2500:2749]\",\"Chunk index: \\u003cb\\u003e31\\u003c\\u002fb\\u003e\",1.3592],[\"\\u003cb\\u003eReconstruction error\\u003c\\u002fb\\u003e\",\"\\u003cb style=\\\"color:Colors.BLUE_SKY_CRAYOLA;line-height:60px\\\"\\u003eAnalysis\\u003c\\u002fb\\u003e\",\"\",\"[2750:2999]\",\"Chunk index: \\u003cb\\u003e32\\u003c\\u002fb\\u003e\",1.4394],[\"\\u003cb\\u003eReconstruction error\\u003c\\u002fb\\u003e\",\"\\u003cb style=\\\"color:Colors.BLUE_SKY_CRAYOLA;line-height:60px\\\"\\u003eAnalysis\\u003c\\u002fb\\u003e\",\"\",\"[3000:3249]\",\"Chunk index: \\u003cb\\u003e33\\u003c\\u002fb\\u003e\",1.396],[\"\\u003cb\\u003eReconstruction error\\u003c\\u002fb\\u003e\",\"\\u003cb style=\\\"color:Colors.BLUE_SKY_CRAYOLA;line-height:60px\\\"\\u003eAnalysis\\u003c\\u002fb\\u003e\",\"\",\"[3250:3499]\",\"Chunk index: \\u003cb\\u003e34\\u003c\\u002fb\\u003e\",1.3684],[\"\\u003cb\\u003eReconstruction error\\u003c\\u002fb\\u003e\",\"\\u003cb style=\\\"color:Colors.BLUE_SKY_CRAYOLA;line-height:60px\\\"\\u003eAnalysis\\u003c\\u002fb\\u003e\",\"\",\"[3500:3749]\",\"Chunk index: \\u003cb\\u003e35\\u003c\\u002fb\\u003e\",1.3628],[\"\\u003cb\\u003eReconstruction error\\u003c\\u002fb\\u003e\",\"\\u003cb style=\\\"color:Colors.BLUE_SKY_CRAYOLA;line-height:60px\\\"\\u003eAnalysis\\u003c\\u002fb\\u003e\",\"\",\"[3750:3999]\",\"Chunk index: \\u003cb\\u003e36\\u003c\\u002fb\\u003e\",1.464],[\"\\u003cb\\u003eReconstruction error\\u003c\\u002fb\\u003e\",\"\\u003cb style=\\\"color:Colors.BLUE_SKY_CRAYOLA;line-height:60px\\\"\\u003eAnalysis\\u003c\\u002fb\\u003e\",\"\\u003cspan style=\\\"color:#AD0000\\\"\\u003e\\u26a0 \\u003cb\\u003eDrift detected\\u003c\\u002fb\\u003e\\u003c\\u002fspan\\u003e\",\"[4000:4249]\",\"Chunk index: \\u003cb\\u003e37\\u003c\\u002fb\\u003e\",2.3135],[\"\\u003cb\\u003eReconstruction error\\u003c\\u002fb\\u003e\",\"\\u003cb style=\\\"color:Colors.BLUE_SKY_CRAYOLA;line-height:60px\\\"\\u003eAnalysis\\u003c\\u002fb\\u003e\",\"\\u003cspan style=\\\"color:#AD0000\\\"\\u003e\\u26a0 \\u003cb\\u003eDrift detected\\u003c\\u002fb\\u003e\\u003c\\u002fspan\\u003e\",\"[4250:4499]\",\"Chunk index: \\u003cb\\u003e38\\u003c\\u002fb\\u003e\",3.5542],[\"\\u003cb\\u003eReconstruction error\\u003c\\u002fb\\u003e\",\"\\u003cb style=\\\"color:Colors.BLUE_SKY_CRAYOLA;line-height:60px\\\"\\u003eAnalysis\\u003c\\u002fb\\u003e\",\"\\u003cspan style=\\\"color:#AD0000\\\"\\u003e\\u26a0 \\u003cb\\u003eDrift detected\\u003c\\u002fb\\u003e\\u003c\\u002fspan\\u003e\",\"[4500:4749]\",\"Chunk index: \\u003cb\\u003e39\\u003c\\u002fb\\u003e\",3.5536],[\"\\u003cb\\u003eReconstruction error\\u003c\\u002fb\\u003e\",\"\\u003cb style=\\\"color:Colors.BLUE_SKY_CRAYOLA;line-height:60px\\\"\\u003eAnalysis\\u003c\\u002fb\\u003e\",\"\\u003cspan style=\\\"color:#AD0000\\\"\\u003e\\u26a0 \\u003cb\\u003eDrift detected\\u003c\\u002fb\\u003e\\u003c\\u002fspan\\u003e\",\"[4750:4999]\",\"Chunk index: \\u003cb\\u003e40\\u003c\\u002fb\\u003e\",3.5541],[\"\\u003cb\\u003eReconstruction error\\u003c\\u002fb\\u003e\",\"\\u003cb style=\\\"color:Colors.BLUE_SKY_CRAYOLA;line-height:60px\\\"\\u003eAnalysis\\u003c\\u002fb\\u003e\",\"\\u003cspan style=\\\"color:#AD0000\\\"\\u003e\\u26a0 \\u003cb\\u003eDrift detected\\u003c\\u002fb\\u003e\\u003c\\u002fspan\\u003e\",\"[5000:5393]\",\"Chunk index: \\u003cb\\u003e41\\u003c\\u002fb\\u003e\",3.5267]],\"hovertemplate\":\"%{customdata[1]} &nbsp; &nbsp; %{customdata[2]} \\u003cbr \\u002f\\u003eChunk: \\u003cb\\u003e%{customdata[3]}\\u003c\\u002fb\\u003e &nbsp; &nbsp; %{customdata[4]} \\u003cbr \\u002f\\u003e%{customdata[0]}: \\u003cb\\u003e%{customdata[5]}\\u003c\\u002fb\\u003e\\u003cbr \\u002f\\u003e\\u003cextra\\u003e\\u003c\\u002fextra\\u003e\",\"marker\":{\"color\":\"#00c8e5\",\"size\":5,\"symbol\":\"circle\"},\"mode\":\"markers\",\"name\":\"\\u003cb\\u003eReconstruction error\\u003c\\u002fb\\u003e\",\"showlegend\":false,\"x\":[21.5,22.5,23.5,24.5,25.5,26.5,27.5,28.5,29.5,30.5,31.5,32.5,33.5,34.5,35.5,36.5,37.5,38.5,39.5,40.5,41.5],\"xaxis\":\"x\",\"y\":[1.3749626468552019,1.3451667959716878,1.3583676351122067,1.3552251844524654,1.3622748688991888,1.3942600348070464,1.3344823980286789,1.3173168562353375,1.3968270087230048,1.373292024570589,1.359198994313365,1.4394402302622276,1.3959692598837439,1.3684045467632748,1.3628408691027876,1.4639883723171139,2.3135080286425738,3.5541606463141107,3.5535842280543144,3.5541440117845116,3.526701609997662,3.526701609997662],\"yaxis\":\"y\",\"type\":\"scatter\"},{\"hoverinfo\":\"skip\",\"line\":{\"color\":\"rgba(0,0,0,0)\",\"shape\":\"hv\"},\"mode\":\"lines\",\"name\":\"Confidence band\",\"showlegend\":false,\"x\":[21,22,23,24,25,26,27,28,29,30,31,32,33,34,35,36,37,38,39,40,41,42],\"xaxis\":\"x\",\"y\":[1.4847443448865207,1.4549484940030066,1.4681493331435256,1.4650068824837843,1.4720565669305077,1.5040417328383653,1.4442640960599977,1.4270985542666563,1.5066087067543237,1.483073722601908,1.468980692344684,1.5492219282935464,1.5057509579150627,1.4781862447945937,1.4726225671341064,1.5737700703484327,2.4232897266738926,3.6639423443454295,3.6633659260856333,3.6639257098158304,3.61415000385352,3.61415000385352],\"yaxis\":\"y\",\"type\":\"scatter\"},{\"fill\":\"tonexty\",\"fillcolor\":\"rgba(0.0, 0.7843137254901961, 0.8980392156862745, 0.2)\",\"hoverinfo\":\"skip\",\"line\":{\"color\":\"rgba(0,0,0,0)\",\"shape\":\"hv\"},\"mode\":\"lines\",\"name\":\"Confidence band\",\"showlegend\":false,\"x\":[21,22,23,24,25,26,27,28,29,30,31,32,33,34,35,36,37,38,39,40,41,42],\"xaxis\":\"x\",\"y\":[1.265180948823883,1.2353850979403689,1.2485859370808878,1.2454434864211466,1.25249317086787,1.2844783367757275,1.22470069999736,1.2075351582040186,1.287045310691686,1.2635103265392702,1.2494172962820462,1.3296585322309087,1.286187561852425,1.258622848731956,1.2530591710714687,1.354206674285795,2.203726330611255,3.444378948282792,3.4438025300229955,3.4443623137531927,3.4392532161418035,3.4392532161418035],\"yaxis\":\"y\",\"type\":\"scatter\"},{\"hoverinfo\":\"skip\",\"line\":{\"color\":\"#3b0280\",\"shape\":\"hv\",\"width\":2},\"mode\":\"lines\",\"name\":\"\\u003cb\\u003eRMSE\\u003c\\u002fb\\u003e (realized RMSE)\",\"showlegend\":false,\"x\":[21,22,23,24,25,26,27,28,29,30,31,32,33,34,35,36,37,38,39,40,41,42],\"xaxis\":\"x\",\"y\":[497.278867413763,461.3997899958315,500.8223989339171,531.4799802778425,514.7019612753825,545.0224714210253,498.48332757679316,477.46089230747634,617.3316202001431,441.2851527020593,502.0362450354136,497.07819934076986,389.40182495687685,441.88681995628167,469.79311301307513,612.4099931942853,851.6292600950732,1130.289242928707,993.9998250297137,1075.1371476966801,944.4536293241481,944.4536293241481],\"yaxis\":\"y2\",\"type\":\"scatter\"},{\"customdata\":[[\"\\u003cb\\u003eRMSE\\u003c\\u002fb\\u003e\",\"\\u003cb style=\\\"color:Colors.INDIGO_PERSIAN;line-height:60px\\\"\\u003eAnalysis\\u003c\\u002fb\\u003e\",\"\",\"[0:249]\",\"Chunk index: \\u003cb\\u003e21\\u003c\\u002fb\\u003e\",497.2789],[\"\\u003cb\\u003eRMSE\\u003c\\u002fb\\u003e\",\"\\u003cb style=\\\"color:Colors.INDIGO_PERSIAN;line-height:60px\\\"\\u003eAnalysis\\u003c\\u002fb\\u003e\",\"\",\"[250:499]\",\"Chunk index: \\u003cb\\u003e22\\u003c\\u002fb\\u003e\",461.3998],[\"\\u003cb\\u003eRMSE\\u003c\\u002fb\\u003e\",\"\\u003cb style=\\\"color:Colors.INDIGO_PERSIAN;line-height:60px\\\"\\u003eAnalysis\\u003c\\u002fb\\u003e\",\"\",\"[500:749]\",\"Chunk index: \\u003cb\\u003e23\\u003c\\u002fb\\u003e\",500.8224],[\"\\u003cb\\u003eRMSE\\u003c\\u002fb\\u003e\",\"\\u003cb style=\\\"color:Colors.INDIGO_PERSIAN;line-height:60px\\\"\\u003eAnalysis\\u003c\\u002fb\\u003e\",\"\",\"[750:999]\",\"Chunk index: \\u003cb\\u003e24\\u003c\\u002fb\\u003e\",531.48],[\"\\u003cb\\u003eRMSE\\u003c\\u002fb\\u003e\",\"\\u003cb style=\\\"color:Colors.INDIGO_PERSIAN;line-height:60px\\\"\\u003eAnalysis\\u003c\\u002fb\\u003e\",\"\",\"[1000:1249]\",\"Chunk index: \\u003cb\\u003e25\\u003c\\u002fb\\u003e\",514.702],[\"\\u003cb\\u003eRMSE\\u003c\\u002fb\\u003e\",\"\\u003cb style=\\\"color:Colors.INDIGO_PERSIAN;line-height:60px\\\"\\u003eAnalysis\\u003c\\u002fb\\u003e\",\"\",\"[1250:1499]\",\"Chunk index: \\u003cb\\u003e26\\u003c\\u002fb\\u003e\",545.0225],[\"\\u003cb\\u003eRMSE\\u003c\\u002fb\\u003e\",\"\\u003cb style=\\\"color:Colors.INDIGO_PERSIAN;line-height:60px\\\"\\u003eAnalysis\\u003c\\u002fb\\u003e\",\"\",\"[1500:1749]\",\"Chunk index: \\u003cb\\u003e27\\u003c\\u002fb\\u003e\",498.4833],[\"\\u003cb\\u003eRMSE\\u003c\\u002fb\\u003e\",\"\\u003cb style=\\\"color:Colors.INDIGO_PERSIAN;line-height:60px\\\"\\u003eAnalysis\\u003c\\u002fb\\u003e\",\"\",\"[1750:1999]\",\"Chunk index: \\u003cb\\u003e28\\u003c\\u002fb\\u003e\",477.4609],[\"\\u003cb\\u003eRMSE\\u003c\\u002fb\\u003e\",\"\\u003cb style=\\\"color:Colors.INDIGO_PERSIAN;line-height:60px\\\"\\u003eAnalysis\\u003c\\u002fb\\u003e\",\"\",\"[2000:2249]\",\"Chunk index: \\u003cb\\u003e29\\u003c\\u002fb\\u003e\",617.3316],[\"\\u003cb\\u003eRMSE\\u003c\\u002fb\\u003e\",\"\\u003cb style=\\\"color:Colors.INDIGO_PERSIAN;line-height:60px\\\"\\u003eAnalysis\\u003c\\u002fb\\u003e\",\"\",\"[2250:2499]\",\"Chunk index: \\u003cb\\u003e30\\u003c\\u002fb\\u003e\",441.2852],[\"\\u003cb\\u003eRMSE\\u003c\\u002fb\\u003e\",\"\\u003cb style=\\\"color:Colors.INDIGO_PERSIAN;line-height:60px\\\"\\u003eAnalysis\\u003c\\u002fb\\u003e\",\"\",\"[2500:2749]\",\"Chunk index: \\u003cb\\u003e31\\u003c\\u002fb\\u003e\",502.0362],[\"\\u003cb\\u003eRMSE\\u003c\\u002fb\\u003e\",\"\\u003cb style=\\\"color:Colors.INDIGO_PERSIAN;line-height:60px\\\"\\u003eAnalysis\\u003c\\u002fb\\u003e\",\"\",\"[2750:2999]\",\"Chunk index: \\u003cb\\u003e32\\u003c\\u002fb\\u003e\",497.0782],[\"\\u003cb\\u003eRMSE\\u003c\\u002fb\\u003e\",\"\\u003cb style=\\\"color:Colors.INDIGO_PERSIAN;line-height:60px\\\"\\u003eAnalysis\\u003c\\u002fb\\u003e\",\"\",\"[3000:3249]\",\"Chunk index: \\u003cb\\u003e33\\u003c\\u002fb\\u003e\",389.4018],[\"\\u003cb\\u003eRMSE\\u003c\\u002fb\\u003e\",\"\\u003cb style=\\\"color:Colors.INDIGO_PERSIAN;line-height:60px\\\"\\u003eAnalysis\\u003c\\u002fb\\u003e\",\"\",\"[3250:3499]\",\"Chunk index: \\u003cb\\u003e34\\u003c\\u002fb\\u003e\",441.8868],[\"\\u003cb\\u003eRMSE\\u003c\\u002fb\\u003e\",\"\\u003cb style=\\\"color:Colors.INDIGO_PERSIAN;line-height:60px\\\"\\u003eAnalysis\\u003c\\u002fb\\u003e\",\"\",\"[3500:3749]\",\"Chunk index: \\u003cb\\u003e35\\u003c\\u002fb\\u003e\",469.7931],[\"\\u003cb\\u003eRMSE\\u003c\\u002fb\\u003e\",\"\\u003cb style=\\\"color:Colors.INDIGO_PERSIAN;line-height:60px\\\"\\u003eAnalysis\\u003c\\u002fb\\u003e\",\"\",\"[3750:3999]\",\"Chunk index: \\u003cb\\u003e36\\u003c\\u002fb\\u003e\",612.41],[\"\\u003cb\\u003eRMSE\\u003c\\u002fb\\u003e\",\"\\u003cb style=\\\"color:Colors.INDIGO_PERSIAN;line-height:60px\\\"\\u003eAnalysis\\u003c\\u002fb\\u003e\",\"\\u003cspan style=\\\"color:#AD0000\\\"\\u003e\\u26a0 \\u003cb\\u003eDrift detected\\u003c\\u002fb\\u003e\\u003c\\u002fspan\\u003e\",\"[4000:4249]\",\"Chunk index: \\u003cb\\u003e37\\u003c\\u002fb\\u003e\",851.6293],[\"\\u003cb\\u003eRMSE\\u003c\\u002fb\\u003e\",\"\\u003cb style=\\\"color:Colors.INDIGO_PERSIAN;line-height:60px\\\"\\u003eAnalysis\\u003c\\u002fb\\u003e\",\"\\u003cspan style=\\\"color:#AD0000\\\"\\u003e\\u26a0 \\u003cb\\u003eDrift detected\\u003c\\u002fb\\u003e\\u003c\\u002fspan\\u003e\",\"[4250:4499]\",\"Chunk index: \\u003cb\\u003e38\\u003c\\u002fb\\u003e\",1130.2892],[\"\\u003cb\\u003eRMSE\\u003c\\u002fb\\u003e\",\"\\u003cb style=\\\"color:Colors.INDIGO_PERSIAN;line-height:60px\\\"\\u003eAnalysis\\u003c\\u002fb\\u003e\",\"\\u003cspan style=\\\"color:#AD0000\\\"\\u003e\\u26a0 \\u003cb\\u003eDrift detected\\u003c\\u002fb\\u003e\\u003c\\u002fspan\\u003e\",\"[4500:4749]\",\"Chunk index: \\u003cb\\u003e39\\u003c\\u002fb\\u003e\",993.9998],[\"\\u003cb\\u003eRMSE\\u003c\\u002fb\\u003e\",\"\\u003cb style=\\\"color:Colors.INDIGO_PERSIAN;line-height:60px\\\"\\u003eAnalysis\\u003c\\u002fb\\u003e\",\"\\u003cspan style=\\\"color:#AD0000\\\"\\u003e\\u26a0 \\u003cb\\u003eDrift detected\\u003c\\u002fb\\u003e\\u003c\\u002fspan\\u003e\",\"[4750:4999]\",\"Chunk index: \\u003cb\\u003e40\\u003c\\u002fb\\u003e\",1075.1371],[\"\\u003cb\\u003eRMSE\\u003c\\u002fb\\u003e\",\"\\u003cb style=\\\"color:Colors.INDIGO_PERSIAN;line-height:60px\\\"\\u003eAnalysis\\u003c\\u002fb\\u003e\",\"\\u003cspan style=\\\"color:#AD0000\\\"\\u003e\\u26a0 \\u003cb\\u003eDrift detected\\u003c\\u002fb\\u003e\\u003c\\u002fspan\\u003e\",\"[5000:5393]\",\"Chunk index: \\u003cb\\u003e41\\u003c\\u002fb\\u003e\",944.4536]],\"hovertemplate\":\"%{customdata[1]} &nbsp; &nbsp; %{customdata[2]} \\u003cbr \\u002f\\u003eChunk: \\u003cb\\u003e%{customdata[3]}\\u003c\\u002fb\\u003e &nbsp; &nbsp; %{customdata[4]} \\u003cbr \\u002f\\u003e%{customdata[0]}: \\u003cb\\u003e%{customdata[5]}\\u003c\\u002fb\\u003e\\u003cbr \\u002f\\u003e\\u003cextra\\u003e\\u003c\\u002fextra\\u003e\",\"marker\":{\"color\":\"#3b0280\",\"size\":5,\"symbol\":\"circle\"},\"mode\":\"markers\",\"name\":\"\\u003cb\\u003eRMSE\\u003c\\u002fb\\u003e (realized RMSE)\",\"showlegend\":false,\"x\":[21.5,22.5,23.5,24.5,25.5,26.5,27.5,28.5,29.5,30.5,31.5,32.5,33.5,34.5,35.5,36.5,37.5,38.5,39.5,40.5,41.5],\"xaxis\":\"x\",\"y\":[497.278867413763,461.3997899958315,500.8223989339171,531.4799802778425,514.7019612753825,545.0224714210253,498.48332757679316,477.46089230747634,617.3316202001431,441.2851527020593,502.0362450354136,497.07819934076986,389.40182495687685,441.88681995628167,469.79311301307513,612.4099931942853,851.6292600950732,1130.289242928707,993.9998250297137,1075.1371476966801,944.4536293241481,944.4536293241481],\"yaxis\":\"y2\",\"type\":\"scatter\"},{\"hoverinfo\":\"skip\",\"legendgroup\":\"alert\",\"marker\":{\"color\":\"#DD4040\",\"size\":8,\"symbol\":\"diamond\"},\"mode\":\"markers\",\"name\":\"Alert\",\"showlegend\":true,\"x\":[37.5,38.5,39.5,40.5,41.5],\"xaxis\":\"x\",\"y\":[2.3135080286425738,3.5541606463141107,3.5535842280543144,3.5541440117845116,3.526701609997662],\"yaxis\":\"y\",\"type\":\"scatter\"},{\"hoverinfo\":\"skip\",\"legendgroup\":\"alert\",\"marker\":{\"color\":\"#DD4040\",\"size\":8,\"symbol\":\"diamond\"},\"mode\":\"markers\",\"name\":\"Alert\",\"showlegend\":false,\"x\":[37.5,38.5,39.5,40.5,41.5],\"xaxis\":\"x\",\"y\":[851.6292600950732,1130.289242928707,993.9998250297137,1075.1371476966801,944.4536293241481],\"yaxis\":\"y2\",\"type\":\"scatter\"}],                        {\"height\":500.0,\"hoverlabel\":{\"bgcolor\":\"white\",\"font\":{\"size\":14}},\"legend\":{\"itemclick\":false,\"itemdoubleclick\":false,\"traceorder\":\"grouped\"},\"paper_bgcolor\":\"rgba(255,255,255,1)\",\"plot_bgcolor\":\"rgba(255,255,255,1)\",\"title\":{\"text\":\"\\u003cb\\u003eMultivariate drift\\u003c\\u002fb\\u003e vs. \\u003cb\\u003eRealized performance\\u003c\\u002fb\\u003e\"},\"xaxis\":{\"linecolor\":\"#3b0280\",\"mirror\":true,\"showgrid\":false,\"title\":{\"text\":\"Chunk\"},\"zeroline\":false,\"anchor\":\"y\",\"domain\":[0.0,0.94],\"matches\":\"x\"},\"yaxis\":{\"linecolor\":\"#3b0280\",\"mirror\":true,\"showgrid\":false,\"title\":{\"text\":\"\\u003cb\\u003eReconstruction error\\u003c\\u002fb\\u003e\"},\"zeroline\":false,\"anchor\":\"x\",\"domain\":[0.0,1.0]},\"template\":{\"data\":{\"histogram2dcontour\":[{\"type\":\"histogram2dcontour\",\"colorbar\":{\"outlinewidth\":0,\"ticks\":\"\"},\"colorscale\":[[0.0,\"#0d0887\"],[0.1111111111111111,\"#46039f\"],[0.2222222222222222,\"#7201a8\"],[0.3333333333333333,\"#9c179e\"],[0.4444444444444444,\"#bd3786\"],[0.5555555555555556,\"#d8576b\"],[0.6666666666666666,\"#ed7953\"],[0.7777777777777778,\"#fb9f3a\"],[0.8888888888888888,\"#fdca26\"],[1.0,\"#f0f921\"]]}],\"choropleth\":[{\"type\":\"choropleth\",\"colorbar\":{\"outlinewidth\":0,\"ticks\":\"\"}}],\"histogram2d\":[{\"type\":\"histogram2d\",\"colorbar\":{\"outlinewidth\":0,\"ticks\":\"\"},\"colorscale\":[[0.0,\"#0d0887\"],[0.1111111111111111,\"#46039f\"],[0.2222222222222222,\"#7201a8\"],[0.3333333333333333,\"#9c179e\"],[0.4444444444444444,\"#bd3786\"],[0.5555555555555556,\"#d8576b\"],[0.6666666666666666,\"#ed7953\"],[0.7777777777777778,\"#fb9f3a\"],[0.8888888888888888,\"#fdca26\"],[1.0,\"#f0f921\"]]}],\"heatmap\":[{\"type\":\"heatmap\",\"colorbar\":{\"outlinewidth\":0,\"ticks\":\"\"},\"colorscale\":[[0.0,\"#0d0887\"],[0.1111111111111111,\"#46039f\"],[0.2222222222222222,\"#7201a8\"],[0.3333333333333333,\"#9c179e\"],[0.4444444444444444,\"#bd3786\"],[0.5555555555555556,\"#d8576b\"],[0.6666666666666666,\"#ed7953\"],[0.7777777777777778,\"#fb9f3a\"],[0.8888888888888888,\"#fdca26\"],[1.0,\"#f0f921\"]]}],\"heatmapgl\":[{\"type\":\"heatmapgl\",\"colorbar\":{\"outlinewidth\":0,\"ticks\":\"\"},\"colorscale\":[[0.0,\"#0d0887\"],[0.1111111111111111,\"#46039f\"],[0.2222222222222222,\"#7201a8\"],[0.3333333333333333,\"#9c179e\"],[0.4444444444444444,\"#bd3786\"],[0.5555555555555556,\"#d8576b\"],[0.6666666666666666,\"#ed7953\"],[0.7777777777777778,\"#fb9f3a\"],[0.8888888888888888,\"#fdca26\"],[1.0,\"#f0f921\"]]}],\"contourcarpet\":[{\"type\":\"contourcarpet\",\"colorbar\":{\"outlinewidth\":0,\"ticks\":\"\"}}],\"contour\":[{\"type\":\"contour\",\"colorbar\":{\"outlinewidth\":0,\"ticks\":\"\"},\"colorscale\":[[0.0,\"#0d0887\"],[0.1111111111111111,\"#46039f\"],[0.2222222222222222,\"#7201a8\"],[0.3333333333333333,\"#9c179e\"],[0.4444444444444444,\"#bd3786\"],[0.5555555555555556,\"#d8576b\"],[0.6666666666666666,\"#ed7953\"],[0.7777777777777778,\"#fb9f3a\"],[0.8888888888888888,\"#fdca26\"],[1.0,\"#f0f921\"]]}],\"surface\":[{\"type\":\"surface\",\"colorbar\":{\"outlinewidth\":0,\"ticks\":\"\"},\"colorscale\":[[0.0,\"#0d0887\"],[0.1111111111111111,\"#46039f\"],[0.2222222222222222,\"#7201a8\"],[0.3333333333333333,\"#9c179e\"],[0.4444444444444444,\"#bd3786\"],[0.5555555555555556,\"#d8576b\"],[0.6666666666666666,\"#ed7953\"],[0.7777777777777778,\"#fb9f3a\"],[0.8888888888888888,\"#fdca26\"],[1.0,\"#f0f921\"]]}],\"mesh3d\":[{\"type\":\"mesh3d\",\"colorbar\":{\"outlinewidth\":0,\"ticks\":\"\"}}],\"scatter\":[{\"fillpattern\":{\"fillmode\":\"overlay\",\"size\":10,\"solidity\":0.2},\"type\":\"scatter\"}],\"parcoords\":[{\"type\":\"parcoords\",\"line\":{\"colorbar\":{\"outlinewidth\":0,\"ticks\":\"\"}}}],\"scatterpolargl\":[{\"type\":\"scatterpolargl\",\"marker\":{\"colorbar\":{\"outlinewidth\":0,\"ticks\":\"\"}}}],\"bar\":[{\"error_x\":{\"color\":\"#2a3f5f\"},\"error_y\":{\"color\":\"#2a3f5f\"},\"marker\":{\"line\":{\"color\":\"#E5ECF6\",\"width\":0.5},\"pattern\":{\"fillmode\":\"overlay\",\"size\":10,\"solidity\":0.2}},\"type\":\"bar\"}],\"scattergeo\":[{\"type\":\"scattergeo\",\"marker\":{\"colorbar\":{\"outlinewidth\":0,\"ticks\":\"\"}}}],\"scatterpolar\":[{\"type\":\"scatterpolar\",\"marker\":{\"colorbar\":{\"outlinewidth\":0,\"ticks\":\"\"}}}],\"histogram\":[{\"marker\":{\"pattern\":{\"fillmode\":\"overlay\",\"size\":10,\"solidity\":0.2}},\"type\":\"histogram\"}],\"scattergl\":[{\"type\":\"scattergl\",\"marker\":{\"colorbar\":{\"outlinewidth\":0,\"ticks\":\"\"}}}],\"scatter3d\":[{\"type\":\"scatter3d\",\"line\":{\"colorbar\":{\"outlinewidth\":0,\"ticks\":\"\"}},\"marker\":{\"colorbar\":{\"outlinewidth\":0,\"ticks\":\"\"}}}],\"scattermapbox\":[{\"type\":\"scattermapbox\",\"marker\":{\"colorbar\":{\"outlinewidth\":0,\"ticks\":\"\"}}}],\"scatterternary\":[{\"type\":\"scatterternary\",\"marker\":{\"colorbar\":{\"outlinewidth\":0,\"ticks\":\"\"}}}],\"scattercarpet\":[{\"type\":\"scattercarpet\",\"marker\":{\"colorbar\":{\"outlinewidth\":0,\"ticks\":\"\"}}}],\"carpet\":[{\"aaxis\":{\"endlinecolor\":\"#2a3f5f\",\"gridcolor\":\"white\",\"linecolor\":\"white\",\"minorgridcolor\":\"white\",\"startlinecolor\":\"#2a3f5f\"},\"baxis\":{\"endlinecolor\":\"#2a3f5f\",\"gridcolor\":\"white\",\"linecolor\":\"white\",\"minorgridcolor\":\"white\",\"startlinecolor\":\"#2a3f5f\"},\"type\":\"carpet\"}],\"table\":[{\"cells\":{\"fill\":{\"color\":\"#EBF0F8\"},\"line\":{\"color\":\"white\"}},\"header\":{\"fill\":{\"color\":\"#C8D4E3\"},\"line\":{\"color\":\"white\"}},\"type\":\"table\"}],\"barpolar\":[{\"marker\":{\"line\":{\"color\":\"#E5ECF6\",\"width\":0.5},\"pattern\":{\"fillmode\":\"overlay\",\"size\":10,\"solidity\":0.2}},\"type\":\"barpolar\"}],\"pie\":[{\"automargin\":true,\"type\":\"pie\"}]},\"layout\":{\"autotypenumbers\":\"strict\",\"colorway\":[\"#636efa\",\"#EF553B\",\"#00cc96\",\"#ab63fa\",\"#FFA15A\",\"#19d3f3\",\"#FF6692\",\"#B6E880\",\"#FF97FF\",\"#FECB52\"],\"font\":{\"color\":\"#2a3f5f\"},\"hovermode\":\"closest\",\"hoverlabel\":{\"align\":\"left\"},\"paper_bgcolor\":\"white\",\"plot_bgcolor\":\"#E5ECF6\",\"polar\":{\"bgcolor\":\"#E5ECF6\",\"angularaxis\":{\"gridcolor\":\"white\",\"linecolor\":\"white\",\"ticks\":\"\"},\"radialaxis\":{\"gridcolor\":\"white\",\"linecolor\":\"white\",\"ticks\":\"\"}},\"ternary\":{\"bgcolor\":\"#E5ECF6\",\"aaxis\":{\"gridcolor\":\"white\",\"linecolor\":\"white\",\"ticks\":\"\"},\"baxis\":{\"gridcolor\":\"white\",\"linecolor\":\"white\",\"ticks\":\"\"},\"caxis\":{\"gridcolor\":\"white\",\"linecolor\":\"white\",\"ticks\":\"\"}},\"coloraxis\":{\"colorbar\":{\"outlinewidth\":0,\"ticks\":\"\"}},\"colorscale\":{\"sequential\":[[0.0,\"#0d0887\"],[0.1111111111111111,\"#46039f\"],[0.2222222222222222,\"#7201a8\"],[0.3333333333333333,\"#9c179e\"],[0.4444444444444444,\"#bd3786\"],[0.5555555555555556,\"#d8576b\"],[0.6666666666666666,\"#ed7953\"],[0.7777777777777778,\"#fb9f3a\"],[0.8888888888888888,\"#fdca26\"],[1.0,\"#f0f921\"]],\"sequentialminus\":[[0.0,\"#0d0887\"],[0.1111111111111111,\"#46039f\"],[0.2222222222222222,\"#7201a8\"],[0.3333333333333333,\"#9c179e\"],[0.4444444444444444,\"#bd3786\"],[0.5555555555555556,\"#d8576b\"],[0.6666666666666666,\"#ed7953\"],[0.7777777777777778,\"#fb9f3a\"],[0.8888888888888888,\"#fdca26\"],[1.0,\"#f0f921\"]],\"diverging\":[[0,\"#8e0152\"],[0.1,\"#c51b7d\"],[0.2,\"#de77ae\"],[0.3,\"#f1b6da\"],[0.4,\"#fde0ef\"],[0.5,\"#f7f7f7\"],[0.6,\"#e6f5d0\"],[0.7,\"#b8e186\"],[0.8,\"#7fbc41\"],[0.9,\"#4d9221\"],[1,\"#276419\"]]},\"xaxis\":{\"gridcolor\":\"white\",\"linecolor\":\"white\",\"ticks\":\"\",\"title\":{\"standoff\":15},\"zerolinecolor\":\"white\",\"automargin\":true,\"zerolinewidth\":2},\"yaxis\":{\"gridcolor\":\"white\",\"linecolor\":\"white\",\"ticks\":\"\",\"title\":{\"standoff\":15},\"zerolinecolor\":\"white\",\"automargin\":true,\"zerolinewidth\":2},\"scene\":{\"xaxis\":{\"backgroundcolor\":\"#E5ECF6\",\"gridcolor\":\"white\",\"linecolor\":\"white\",\"showbackground\":true,\"ticks\":\"\",\"zerolinecolor\":\"white\",\"gridwidth\":2},\"yaxis\":{\"backgroundcolor\":\"#E5ECF6\",\"gridcolor\":\"white\",\"linecolor\":\"white\",\"showbackground\":true,\"ticks\":\"\",\"zerolinecolor\":\"white\",\"gridwidth\":2},\"zaxis\":{\"backgroundcolor\":\"#E5ECF6\",\"gridcolor\":\"white\",\"linecolor\":\"white\",\"showbackground\":true,\"ticks\":\"\",\"zerolinecolor\":\"white\",\"gridwidth\":2}},\"shapedefaults\":{\"line\":{\"color\":\"#2a3f5f\"}},\"annotationdefaults\":{\"arrowcolor\":\"#2a3f5f\",\"arrowhead\":0,\"arrowwidth\":1},\"geo\":{\"bgcolor\":\"white\",\"landcolor\":\"#E5ECF6\",\"subunitcolor\":\"white\",\"showland\":true,\"showlakes\":true,\"lakecolor\":\"white\"},\"title\":{\"x\":0.05},\"mapbox\":{\"style\":\"light\"}}},\"yaxis2\":{\"anchor\":\"x\",\"overlaying\":\"y\",\"side\":\"right\",\"title\":{\"text\":\"\\u003cb\\u003eRMSE\\u003c\\u002fb\\u003e\"},\"linecolor\":\"#3b0280\",\"showgrid\":false,\"mirror\":true,\"zeroline\":false},\"annotations\":[{\"font\":{\"size\":16},\"showarrow\":false,\"text\":\"\\u003cb\\u003eReconstruction error\\u003c\\u002fb\\u003e vs. \\u003cb\\u003eRMSE\\u003c\\u002fb\\u003e (realized RMSE)\",\"x\":0.47,\"xanchor\":\"center\",\"xref\":\"paper\",\"y\":1.0,\"yanchor\":\"bottom\",\"yref\":\"paper\"},{\"showarrow\":false,\"text\":\"Reference\",\"x\":10.0,\"xshift\":10,\"y\":1,\"yref\":\"paper\"},{\"showarrow\":false,\"text\":\"Analysis\",\"x\":31.0,\"xshift\":15,\"y\":1,\"yref\":\"paper\"}],\"shapes\":[{\"layer\":\"below\",\"line\":{\"color\":\"#666666\",\"width\":1},\"type\":\"line\",\"x0\":21,\"x1\":21,\"xref\":\"x\",\"y0\":0,\"y1\":1,\"yref\":\"y domain\"}]},                        {\"responsive\": true}                    ).then(function(){\n",
       "                            \n",
       "var gd = document.getElementById('f1e0e6c1-a60b-48aa-b381-6a572be1da44');\n",
       "var x = new MutationObserver(function (mutations, observer) {{\n",
       "        var display = window.getComputedStyle(gd).display;\n",
       "        if (!display || display === 'none') {{\n",
       "            console.log([gd, 'removed!']);\n",
       "            Plotly.purge(gd);\n",
       "            observer.disconnect();\n",
       "        }}\n",
       "}});\n",
       "\n",
       "// Listen for the removal of the full notebook cells\n",
       "var notebookContainer = gd.closest('#notebook-container');\n",
       "if (notebookContainer) {{\n",
       "    x.observe(notebookContainer, {childList: true});\n",
       "}}\n",
       "\n",
       "// Listen for the clearing of the current output cell\n",
       "var outputEl = gd.closest('.output');\n",
       "if (outputEl) {{\n",
       "    x.observe(outputEl, {childList: true});\n",
       "}}\n",
       "\n",
       "                        })                };                });            </script>        </div>"
      ]
     },
     "metadata": {},
     "output_type": "display_data"
    }
   ],
   "source": [
    "multivariate_results.compare(realized_results).plot().show()"
   ]
  },
  {
   "cell_type": "markdown",
   "id": "c56d0364-806e-48c2-a108-cb33acfdcd7c",
   "metadata": {},
   "source": [
    "### Univariate drift detection"
   ]
  },
  {
   "cell_type": "code",
   "execution_count": 96,
   "id": "d29b7aee-f67a-4107-bcc6-14b06a20d79d",
   "metadata": {},
   "outputs": [],
   "source": [
    "univariate_calc = nannyml.UnivariateDriftCalculator(\n",
    "    column_names=all_feature_names,\n",
    "    continuous_methods=[\"wasserstein\"],\n",
    "    categorical_methods=[\"jensen_shannon\"],\n",
    "    chunk_size=250,\n",
    ")\n",
    "\n",
    "univariate_calc.fit(reference)\n",
    "univariate_results = univariate_calc.calculate(analysis)"
   ]
  },
  {
   "cell_type": "markdown",
   "id": "20c48380-086b-48e2-b7c3-04e3c2e1ab5a",
   "metadata": {},
   "source": [
    "### Using an alert count ranker"
   ]
  },
  {
   "cell_type": "code",
   "execution_count": 99,
   "id": "785f886b-dde9-42a7-be16-206e3ef0e0d6",
   "metadata": {},
   "outputs": [],
   "source": [
    "alert_count_ranker = nannyml.AlertCountRanker()\n",
    "filtered_univariate = univariate_results.filter(\n",
    "    continuous_methods=[\"wasserstein\"],\n",
    "    categorical_methods=[\"jensen_shannon\"],\n",
    "    only_drifting=False,\n",
    ")\n",
    "\n",
    "ranker_results = alert_count_ranker.rank(filtered_univariate)"
   ]
  },
  {
   "cell_type": "code",
   "execution_count": 100,
   "id": "9e9ef107-defb-474c-ba4b-1779a599ff93",
   "metadata": {},
   "outputs": [
    {
     "data": {
      "text/html": [
       "<div>\n",
       "<style scoped>\n",
       "    .dataframe tbody tr th:only-of-type {\n",
       "        vertical-align: middle;\n",
       "    }\n",
       "\n",
       "    .dataframe tbody tr th {\n",
       "        vertical-align: top;\n",
       "    }\n",
       "\n",
       "    .dataframe thead th {\n",
       "        text-align: right;\n",
       "    }\n",
       "</style>\n",
       "<table border=\"1\" class=\"dataframe\">\n",
       "  <thead>\n",
       "    <tr style=\"text-align: right;\">\n",
       "      <th></th>\n",
       "      <th>number_of_alerts</th>\n",
       "      <th>column_name</th>\n",
       "      <th>rank</th>\n",
       "    </tr>\n",
       "  </thead>\n",
       "  <tbody>\n",
       "    <tr>\n",
       "      <th>0</th>\n",
       "      <td>7</td>\n",
       "      <td>color</td>\n",
       "      <td>1</td>\n",
       "    </tr>\n",
       "    <tr>\n",
       "      <th>1</th>\n",
       "      <td>5</td>\n",
       "      <td>depth</td>\n",
       "      <td>2</td>\n",
       "    </tr>\n",
       "    <tr>\n",
       "      <th>2</th>\n",
       "      <td>5</td>\n",
       "      <td>clarity</td>\n",
       "      <td>3</td>\n",
       "    </tr>\n",
       "    <tr>\n",
       "      <th>3</th>\n",
       "      <td>0</td>\n",
       "      <td>z</td>\n",
       "      <td>4</td>\n",
       "    </tr>\n",
       "    <tr>\n",
       "      <th>4</th>\n",
       "      <td>0</td>\n",
       "      <td>y</td>\n",
       "      <td>5</td>\n",
       "    </tr>\n",
       "    <tr>\n",
       "      <th>5</th>\n",
       "      <td>0</td>\n",
       "      <td>x</td>\n",
       "      <td>6</td>\n",
       "    </tr>\n",
       "    <tr>\n",
       "      <th>6</th>\n",
       "      <td>0</td>\n",
       "      <td>table</td>\n",
       "      <td>7</td>\n",
       "    </tr>\n",
       "  </tbody>\n",
       "</table>\n",
       "</div>"
      ],
      "text/plain": [
       "   number_of_alerts column_name  rank\n",
       "0                 7       color     1\n",
       "1                 5       depth     2\n",
       "2                 5     clarity     3\n",
       "3                 0           z     4\n",
       "4                 0           y     5\n",
       "5                 0           x     6\n",
       "6                 0       table     7"
      ]
     },
     "execution_count": 100,
     "metadata": {},
     "output_type": "execute_result"
    }
   ],
   "source": [
    "ranker_results.head(7)"
   ]
  },
  {
   "cell_type": "markdown",
   "id": "deeae273-5562-49eb-8cae-4309ad00430e",
   "metadata": {},
   "source": []
  }
 ],
 "metadata": {
  "kernelspec": {
   "display_name": "nannyml",
   "language": "python",
   "name": "nannyml"
  },
  "language_info": {
   "codemirror_mode": {
    "name": "ipython",
    "version": 3
   },
   "file_extension": ".py",
   "mimetype": "text/x-python",
   "name": "python",
   "nbconvert_exporter": "python",
   "pygments_lexer": "ipython3",
   "version": "3.11.7"
  },
  "widgets": {
   "application/vnd.jupyter.widget-state+json": {
    "state": {},
    "version_major": 2,
    "version_minor": 0
   }
  }
 },
 "nbformat": 4,
 "nbformat_minor": 5
}
