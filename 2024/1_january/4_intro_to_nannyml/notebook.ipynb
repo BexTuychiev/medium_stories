{
 "cells": [
  {
   "cell_type": "markdown",
   "id": "c1e4a9ae-cdda-4488-b8e2-c2634030a643",
   "metadata": {},
   "source": [
    "# An end-to-end ML Model Monitoring Workflow with NannyML in Python"
   ]
  },
  {
   "cell_type": "markdown",
   "id": "69add736-f728-466f-b0e3-45aa9e789df7",
   "metadata": {},
   "source": [
    "## Table of contents"
   ]
  },
  {
   "cell_type": "markdown",
   "id": "9aedfce4-48c8-4014-860f-dc056f59a574",
   "metadata": {},
   "source": [
    "1. Why monitor models?\n",
    "2. What will you learn in this tutorial?\n",
    "3. Prerequisites concepts covered\n",
    "4. What does an end-to-end ML model monitoring workflow look like?\n",
    "5. Step 1: Prepare the data\n",
    "6. Step 2: Estimating performance\n",
    "7. Step 3: Measuring performance\n",
    "8. Step 4: Calculating and estimating business value\n",
    "9. Step 5: Multivariate drift detection\n",
    "10. Step 6: Univariate drift detection\n",
    "11. Step 7: Issue resolution\n",
    "12. Conclusion"
   ]
  }
 ],
 "metadata": {
  "kernelspec": {
   "display_name": "articles",
   "language": "python",
   "name": "articles"
  },
  "language_info": {
   "codemirror_mode": {
    "name": "ipython",
    "version": 3
   },
   "file_extension": ".py",
   "mimetype": "text/x-python",
   "name": "python",
   "nbconvert_exporter": "python",
   "pygments_lexer": "ipython3",
   "version": "3.10.8"
  },
  "widgets": {
   "application/vnd.jupyter.widget-state+json": {
    "state": {},
    "version_major": 2,
    "version_minor": 0
   }
  }
 },
 "nbformat": 4,
 "nbformat_minor": 5
}
