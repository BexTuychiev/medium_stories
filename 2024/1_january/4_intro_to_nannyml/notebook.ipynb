{
 "cells": [
  {
   "cell_type": "markdown",
   "id": "c1e4a9ae-cdda-4488-b8e2-c2634030a643",
   "metadata": {},
   "source": [
    "# An end-to-end ML Model Monitoring Workflow with NannyML in Python"
   ]
  },
  {
   "cell_type": "markdown",
   "id": "69add736-f728-466f-b0e3-45aa9e789df7",
   "metadata": {},
   "source": [
    "## Table of contents"
   ]
  },
  {
   "cell_type": "markdown",
   "id": "9aedfce4-48c8-4014-860f-dc056f59a574",
   "metadata": {},
   "source": [
    "1. Why monitor models?\n",
    "2. What will you learn in this tutorial?\n",
    "3. Prerequisites concepts covered\n",
    "4. What does an end-to-end ML model monitoring workflow look like?\n",
    "5. Step 1: Prepare the data\n",
    "6. Step 2: Estimating performance\n",
    "7. Step 3: Estimated vs. realized performance\n",
    "8. Step 4: Calculating and estimating business value\n",
    "9. Step 5: Multivariate drift detection\n",
    "10. Step 6: Univariate drift detection\n",
    "11. Step 7: Issue resolution\n",
    "12. Conclusion"
   ]
  },
  {
   "cell_type": "markdown",
   "id": "52918c9a-bc2e-44cf-81ae-e2a70231fe1b",
   "metadata": {},
   "source": [
    "## Why monitor models?"
   ]
  },
  {
   "cell_type": "markdown",
   "id": "aad0302b-d7d3-4622-aee0-189d678b6d40",
   "metadata": {},
   "source": [
    "Machine learning projects are iterative processes. You don't just stop at a successful model inside a Jupyter notebook. You don't even stop after the model is online and people can access it. Even after deployment, you have to constantly babysit it so that it works just as well as it did during the development phase.\n",
    "\n",
    "Zillow's scandal is a perfect example of what happens if you don't. In 2021, Zillow lost a stunning 304 million dollars because of their machine learning model that estimates houses for purchase. Zillow overpaid for more than 7000 homes and had to offload them at a much lower price. In short, Zillow was ripped off by their own model and had to reduce their workforce by 25%. \n",
    "\n",
    "These types of silent model failures are common with real-world models, so they need to be constantly updated just before their production performance starts to drop. Failing to do so damages companies' reputation, trust with stakeholders and ultimately, pockets. \n",
    "\n",
    "This article will teach you how to implement an end-to-end workflow to monitor machine learning models after deployment with NannyML."
   ]
  },
  {
   "cell_type": "markdown",
   "id": "2b9ee40e-2ee9-4c32-9bef-5b2a0a5cc1ed",
   "metadata": {},
   "source": [
    "## What is NannyML?"
   ]
  },
  {
   "cell_type": "markdown",
   "id": "87f16748-ef6f-4b4b-a1ce-fffd97d4dfcd",
   "metadata": {},
   "source": [
    "## What will you learn in this tutorial?"
   ]
  },
  {
   "cell_type": "markdown",
   "id": "a3ea15a3-096b-4335-acc3-49d58e25dfce",
   "metadata": {},
   "source": [
    "- Key concepts of post-production machine learning\n",
    "- Model monitoring concepts\n",
    "- A skeleton of an end-to-end ML model monitoring workflow\n",
    "- Paste the table of contents"
   ]
  },
  {
   "cell_type": "markdown",
   "id": "08ec9f9d-3b0d-426e-bf48-51846511faad",
   "metadata": {},
   "source": [
    "## Prerequisite concepts covered"
   ]
  },
  {
   "cell_type": "markdown",
   "id": "ed29167d-980a-4fdf-833a-650b3ea77421",
   "metadata": {},
   "source": [
    "### Robot and bull's eye analogy"
   ]
  },
  {
   "cell_type": "markdown",
   "id": "7f58701f-0d02-423a-bc2e-d51e50fe9f79",
   "metadata": {},
   "source": [
    "### Covariate shift"
   ]
  },
  {
   "cell_type": "markdown",
   "id": "02aa45d6-e739-4e32-8676-d3f37cf63c07",
   "metadata": {},
   "source": [
    "### Concept drift"
   ]
  },
  {
   "cell_type": "markdown",
   "id": "35959499-e460-4e27-a47c-0447babea65a",
   "metadata": {},
   "source": [
    "### Data drift"
   ]
  },
  {
   "cell_type": "markdown",
   "id": "a00f0205-d802-4b45-8d17-658715327cd6",
   "metadata": {},
   "source": [
    "### Model drift"
   ]
  },
  {
   "cell_type": "markdown",
   "id": "f8514a31-f372-4ba5-bd2b-22f757bbc661",
   "metadata": {},
   "source": [
    "## What does an end-to-end ML model monitoring workflow look lie?"
   ]
  },
  {
   "cell_type": "markdown",
   "id": "2f67c06a-9c95-4a1d-a74c-2e1e7e1778af",
   "metadata": {},
   "source": [
    "## Step 1: Preparing the data for NannyML"
   ]
  },
  {
   "cell_type": "markdown",
   "id": "aa7ec6c4-8f10-4112-8333-7554a1a11183",
   "metadata": {},
   "source": [
    "### Defining features and target"
   ]
  },
  {
   "cell_type": "markdown",
   "id": "03441059-a415-4fb7-b7c6-76c49db4d5d1",
   "metadata": {},
   "source": [
    "### Splitting the data into four sets"
   ]
  },
  {
   "cell_type": "markdown",
   "id": "06469996-87f5-4f1a-9566-d21a52008205",
   "metadata": {},
   "source": [
    "### Training a model"
   ]
  },
  {
   "cell_type": "markdown",
   "id": "54199fdb-e833-43c2-bb28-9aeaed5f1d92",
   "metadata": {},
   "source": [
    "### Creating a reference set"
   ]
  },
  {
   "cell_type": "markdown",
   "id": "8c09c50e-45a4-4d0c-adef-5c09f5c3ffd8",
   "metadata": {},
   "source": [
    "### Creating an analysis set"
   ]
  },
  {
   "cell_type": "markdown",
   "id": "9446eed0-7285-4dd8-bf29-ccb16bd41b59",
   "metadata": {},
   "source": [
    "## Step 2: Estimating performance in NannyML"
   ]
  },
  {
   "cell_type": "markdown",
   "id": "9f6781dd-b081-41a7-a880-40377516f994",
   "metadata": {},
   "source": [
    "### When to estimate performance?"
   ]
  },
  {
   "cell_type": "markdown",
   "id": "657a0473-ce4c-4d70-be58-4b480422223a",
   "metadata": {},
   "source": [
    "### Estimating performance using DLE in NannyML"
   ]
  },
  {
   "cell_type": "markdown",
   "id": "65815796-2cc8-4c65-b67b-796a7afe9459",
   "metadata": {},
   "source": [
    "### Plotting estimation results in NannyML"
   ]
  },
  {
   "cell_type": "markdown",
   "id": "7bba877e-2314-4075-89ba-cfda3e478023",
   "metadata": {},
   "source": [
    "## Step 3: Estimated vs. realized performance in monitoring"
   ]
  },
  {
   "cell_type": "markdown",
   "id": "45bf939f-0e6a-465a-bbc6-3fb1fda1a65d",
   "metadata": {},
   "source": [
    "### When to calculate realized performance?"
   ]
  },
  {
   "cell_type": "markdown",
   "id": "fbbcfbdb-46e2-4647-abeb-934d0e3b285f",
   "metadata": {},
   "source": [
    "### Calculating realized performance in NannyML"
   ]
  },
  {
   "cell_type": "markdown",
   "id": "a4c87c75-46a7-41f0-be31-939122cc8abe",
   "metadata": {},
   "source": [
    "### Comparing estimation vs. realized performance visually"
   ]
  },
  {
   "cell_type": "markdown",
   "id": "e41cd424-48e2-4ee5-b411-59511fbb9f5c",
   "metadata": {},
   "source": [
    "## Step 4: Drift detection methods"
   ]
  },
  {
   "cell_type": "markdown",
   "id": "49c82a04-5792-4096-b0a7-fdc7f2bb5f83",
   "metadata": {},
   "source": [
    "### Multivariate drift detection"
   ]
  },
  {
   "cell_type": "markdown",
   "id": "aa9b6887-a406-45bc-984f-e71c4348ae02",
   "metadata": {},
   "source": [
    "### Univariate drift detection"
   ]
  },
  {
   "cell_type": "markdown",
   "id": "455f7a97-02b4-4ebc-a05d-7969f8206500",
   "metadata": {},
   "source": [
    "## Step 5: Solutions to monitoring problems"
   ]
  },
  {
   "cell_type": "markdown",
   "id": "3dff0b34-483b-4a83-8235-a33136f33d98",
   "metadata": {},
   "source": [
    "## Conclusion"
   ]
  }
 ],
 "metadata": {
  "kernelspec": {
   "display_name": "articles",
   "language": "python",
   "name": "articles"
  },
  "language_info": {
   "codemirror_mode": {
    "name": "ipython",
    "version": 3
   },
   "file_extension": ".py",
   "mimetype": "text/x-python",
   "name": "python",
   "nbconvert_exporter": "python",
   "pygments_lexer": "ipython3",
   "version": "3.10.8"
  },
  "widgets": {
   "application/vnd.jupyter.widget-state+json": {
    "state": {},
    "version_major": 2,
    "version_minor": 0
   }
  }
 },
 "nbformat": 4,
 "nbformat_minor": 5
}
