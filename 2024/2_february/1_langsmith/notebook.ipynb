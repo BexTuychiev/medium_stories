{
 "cells": [
  {
   "cell_type": "markdown",
   "id": "5e3b4cab-acd6-4ba5-ae3c-1df15f0710aa",
   "metadata": {},
   "source": [
    "# Tutorial on Salesforce XGen-7b: Building a Summarizer Model -- TODO"
   ]
  },
  {
   "cell_type": "markdown",
   "id": "b184266b-490b-484a-9a5e-19d16a0dab73",
   "metadata": {},
   "source": [
    "## Table of contents"
   ]
  },
  {
   "cell_type": "markdown",
   "id": "3895c58b-0b68-4c4b-ba90-9756842b92d4",
   "metadata": {},
   "source": [
    "1. Introduction\r\n",
    "2. XGen 7B key features and capabilities\r\n",
    "3. Applications of XGen 7B\r\n",
    "4. Prerequisites and installation\r\n",
    "5. Working with XGen 7B\r\n",
    "6. Maximizing model performance\r\n",
    "7. Building a summarizer model\r\n",
    "8. Conclusionsion"
   ]
  },
  {
   "cell_type": "markdown",
   "id": "3e34a786-2f6f-4311-8fab-e84248fc820f",
   "metadata": {},
   "source": []
  }
 ],
 "metadata": {
  "kernelspec": {
   "display_name": "xgen",
   "language": "python",
   "name": "xgen"
  },
  "language_info": {
   "codemirror_mode": {
    "name": "ipython",
    "version": 3
   },
   "file_extension": ".py",
   "mimetype": "text/x-python",
   "name": "python",
   "nbconvert_exporter": "python",
   "pygments_lexer": "ipython3",
   "version": "3.8.10"
  },
  "widgets": {
   "application/vnd.jupyter.widget-state+json": {
    "state": {},
    "version_major": 2,
    "version_minor": 0
   }
  }
 },
 "nbformat": 4,
 "nbformat_minor": 5
}
