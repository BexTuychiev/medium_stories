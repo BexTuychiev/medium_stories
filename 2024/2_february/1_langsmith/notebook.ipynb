{
 "cells": [
  {
   "cell_type": "markdown",
   "id": "5e3b4cab-acd6-4ba5-ae3c-1df15f0710aa",
   "metadata": {},
   "source": [
    "# LangSmith Tutorial: Building an Advanced Flashcards Generator From Text Input Wit LangSmith"
   ]
  },
  {
   "cell_type": "markdown",
   "id": "b184266b-490b-484a-9a5e-19d16a0dab73",
   "metadata": {},
   "source": [
    "## Table of contents"
   ]
  },
  {
   "cell_type": "markdown",
   "id": "3895c58b-0b68-4c4b-ba90-9756842b92d4",
   "metadata": {},
   "source": [
    "1. Why LangSmith?\n",
    "2. LangSmith vs. LangChain\n",
    "3. Setting up LangSmith\n",
    "4. LangSmith platform overview\n",
    "5. Getting started with LangSmith Python SDK\n",
    "   1. Setting up tracing\n",
    "   2. Creating a LangSmith client and running an initial prompt\n",
    "   3. Creating an unlabeled dataset in LangSmith\n",
    "6. Evaluating LLMs in LangSmith\n",
    "   1. Basic evaluation types for unlabeled datasets\n",
    "   2. Creating labeled datasets from various sources\n",
    "   3. Writing custom evaluations\n",
    "7. Conclusion"
   ]
  },
  {
   "cell_type": "markdown",
   "id": "3e34a786-2f6f-4311-8fab-e84248fc820f",
   "metadata": {},
   "source": [
    "## Why LangSmith?"
   ]
  },
  {
   "cell_type": "markdown",
   "id": "43a54be9-f164-40a5-bf35-4e3a4ef3d6c0",
   "metadata": {},
   "source": [
    "Over 300k gpts in gpt store.\n",
    "Most of them don't work as expected even though powered by gpt-4\n",
    "we are not seeing gpts going viral\n",
    "The reason is generic gpts are unreliable. \n",
    "The model behind them is general purpose\n",
    "Fine-tuning their outputs, narrowing down their responses to specific niches are not easy\n",
    "Gpts can't do this. They can't verify their own output.\n",
    "Once output is out, it is displayed to the user\n",
    "To improve the output, user either has to say the gpt made a mistake and hope for the best that it understands its fault and fixes it\n",
    "That's why LangSmith is gaining so much popularity\n",
    "It is an end-to-end platform for building, testing and deploying LLM applications. \n",
    "This tutorial covers how to build an LLM application using it"
   ]
  },
  {
   "cell_type": "markdown",
   "id": "ee15634f-8095-4c65-9e7f-89f07e9bfe86",
   "metadata": {},
   "source": [
    "## LangSmith vs. LangChain"
   ]
  },
  {
   "cell_type": "markdown",
   "id": "ed8dff55-d069-4545-817f-188b1d927cef",
   "metadata": {},
   "source": [
    "## Setting up LangSmith"
   ]
  },
  {
   "cell_type": "markdown",
   "id": "e11c344c-86d2-4f17-aabb-4b03024dca45",
   "metadata": {},
   "source": [
    "## LangSmith platform overview"
   ]
  },
  {
   "cell_type": "markdown",
   "id": "2b4ada47-4e3b-45ad-b3e4-077f46eb235f",
   "metadata": {},
   "source": [
    "## Getting started with LangSmith Python SDK"
   ]
  },
  {
   "cell_type": "markdown",
   "id": "913e8445-b011-47dc-92b3-c7f7c6713727",
   "metadata": {},
   "source": [
    "### Setting up tracing"
   ]
  },
  {
   "cell_type": "markdown",
   "id": "f63892f8-8839-4544-9b34-9f1b6b07e6d0",
   "metadata": {},
   "source": [
    "### Creating a LangSmith client and running an initial prompt"
   ]
  },
  {
   "cell_type": "markdown",
   "id": "570b3fe4-70ef-4d3b-b969-f06a0cf4888a",
   "metadata": {},
   "source": [
    "### Creating an unlabeled dataset in LangSmith"
   ]
  },
  {
   "cell_type": "markdown",
   "id": "db2ca87f-6056-41f6-9e23-9eec8f6b5276",
   "metadata": {},
   "source": [
    "## Evaluating LLMs in LangSmith"
   ]
  },
  {
   "cell_type": "markdown",
   "id": "1d3a5a90-a193-43d8-8cd1-dd3963b4b32a",
   "metadata": {},
   "source": [
    "### Basic evaluators for unlabeled datasets"
   ]
  },
  {
   "cell_type": "markdown",
   "id": "97c8e973-f9d1-45eb-b654-51462931fa61",
   "metadata": {},
   "source": [
    "### Creating labeled datasets from various sources"
   ]
  },
  {
   "cell_type": "markdown",
   "id": "41a3eb19-ebdc-4aab-b215-8c919d667a65",
   "metadata": {},
   "source": [
    "### Writing custom evaluators"
   ]
  },
  {
   "cell_type": "markdown",
   "id": "425b9b12-444b-49f1-827b-c06f51845aa3",
   "metadata": {},
   "source": [
    "## Conclusion"
   ]
  }
 ],
 "metadata": {
  "kernelspec": {
   "display_name": "xgen",
   "language": "python",
   "name": "xgen"
  },
  "language_info": {
   "codemirror_mode": {
    "name": "ipython",
    "version": 3
   },
   "file_extension": ".py",
   "mimetype": "text/x-python",
   "name": "python",
   "nbconvert_exporter": "python",
   "pygments_lexer": "ipython3",
   "version": "3.8.10"
  },
  "widgets": {
   "application/vnd.jupyter.widget-state+json": {
    "state": {},
    "version_major": 2,
    "version_minor": 0
   }
  }
 },
 "nbformat": 4,
 "nbformat_minor": 5
}
