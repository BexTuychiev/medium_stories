{
 "cells": [
  {
   "cell_type": "code",
   "execution_count": null,
   "id": "18eb19e4-0031-4f8e-b7ff-305a6760e9c1",
   "metadata": {},
   "outputs": [],
   "source": [
    "!pip install accelerate peft bitsandbytes trl"
   ]
  },
  {
   "cell_type": "code",
   "execution_count": 23,
   "id": "6a6dad2d-a414-46d6-84dc-7054ef79e0aa",
   "metadata": {},
   "outputs": [],
   "source": [
    "from datasets import load_dataset\n",
    "\n",
    "guanaco_dataset = \"mlabonne/guanaco-llama2-1k\"\n",
    "data = load_dataset(guanaco_dataset, split=\"train\")"
   ]
  },
  {
   "cell_type": "markdown",
   "id": "3cec415f-f754-4be8-9514-aca5f5a27235",
   "metadata": {},
   "source": []
  },
  {
   "cell_type": "markdown",
   "id": "d1949806-f784-4646-b620-e213e43a9b29",
   "metadata": {},
   "source": []
  }
 ],
 "metadata": {
  "kernelspec": {
   "display_name": "xgen",
   "language": "python",
   "name": "xgen"
  },
  "language_info": {
   "codemirror_mode": {
    "name": "ipython",
    "version": 3
   },
   "file_extension": ".py",
   "mimetype": "text/x-python",
   "name": "python",
   "nbconvert_exporter": "python",
   "pygments_lexer": "ipython3",
   "version": "3.8.10"
  },
  "widgets": {
   "application/vnd.jupyter.widget-state+json": {
    "state": {},
    "version_major": 2,
    "version_minor": 0
   }
  }
 },
 "nbformat": 4,
 "nbformat_minor": 5
}
