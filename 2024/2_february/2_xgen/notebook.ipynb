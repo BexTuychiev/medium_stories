{
 "cells": [
  {
   "cell_type": "markdown",
   "id": "fe7be5e5-5650-4be3-aa2d-052ca474e15a",
   "metadata": {},
   "source": [
    "# Salesforce XGen tutorial"
   ]
  },
  {
   "cell_type": "markdown",
   "id": "7e762207-179c-4acd-8926-0e6b93bd63ff",
   "metadata": {},
   "source": [
    "## Table of contents"
   ]
  },
  {
   "cell_type": "markdown",
   "id": "0bad0f74-c539-4a8a-adcd-d66c56bf0ca6",
   "metadata": {},
   "source": [
    "1. Introduction\n",
    "2. XGen 7B key features and capabilities\n",
    "3. Applications of XGen 7B\n",
    "4. Prerequisites and installation\n",
    "5. Working with XGen 7B\n",
    "6. Maximizing model performance\n",
    "7. Building a summarizer model\n",
    "8. Conclusion"
   ]
  },
  {
   "cell_type": "markdown",
   "id": "214617a3-eaf2-4700-a65d-8a97d0ac4694",
   "metadata": {},
   "source": [
    "### Introduction"
   ]
  },
  {
   "cell_type": "markdown",
   "id": "c79e07cc-804a-4a3c-b877-24402943f87e",
   "metadata": {},
   "source": [
    "Right now, these six are the hottest open-source LLMs:\n",
    "\n",
    "1. LLaMA2\n",
    "2. BLOOM\n",
    "3. Falcon 180B\n",
    "4. OPT-175B\n",
    "5. GPT-Neox\n",
    "6. Vicuna 13-B\n",
    "\n",
    "And they all have the same disadvantage - very short context length, reaching up to only 2048 tokens. Compared to proprietary models like GPT-3.5 and GPT-4 that offer lengths up to 32k tokens (50 pages of text!), it seems open-source LLMs are at a heavy disadvantage. \n",
    "\n",
    "Context length is essentially the \"memory\" of LLMs. 2048-token context window means the model can only remember 2048 tokens of the conversation at a time. This significantly affects performance in tasks where a large context is crucial such as summarization, translation, code generation, etc. \n",
    "\n",
    "To address this critical issue, Salesforce announced its XGen-7B model with a whopping context length of 8k tokens (4 times longer than other LLMs). This article covers the key characteristics of the model and show to build a text summarizer model using it. "
   ]
  },
  {
   "cell_type": "markdown",
   "id": "0bb18608-ebc9-4434-92c2-d4aeedc4e074",
   "metadata": {},
   "source": [
    "### Why choose XGen 7B over others?"
   ]
  },
  {
   "cell_type": "markdown",
   "id": "4098dbef-e149-4478-b87a-ee44fe59c707",
   "metadata": {},
   "source": [
    "For most, statistics like context length don't mean much until they are translated into tangible benefits. So, here are some of its main features and the impact they can have in your own projects:\n",
    "\n",
    "**Compact yet powerful**\n",
    "\n",
    "Despite its relatively small size of 7 billion parameters, XGen punches well above its weight - delivering performance that rivals or exceeds that of much larger models. This efficiency is a game-changer for developers and researchers, enabling running and deployment of cutting-edge AI applications directly on high-end local machines without access to vast cloud computing resources. This balance between size and performance makes XGen particularly appealing for a wide array of users, from small startups to academic researchers.\n",
    "\n",
    "\n",
    "**Versatile model variants**\n",
    "\n",
    "Understanding various user needs, XGen offers three versions, each suited for specific applications:\n",
    "   - XGen-7B-4K-base: With a 4k token sequence length, this version is suited for tasks requiring moderate context sizes. It's licensed under Apache 2.0 license.\n",
    "   - XGen-7B-8K-base: This is the flagship model boasting an 8k token sequence length, designed for complex tasks that benefit from analyzing large blocks of text. Like its sibling, it's available under the Apache 2.0 license, which means it can be used for almost any purpose.\n",
    "   - XGen-7B-{4K,8K}-inst: Fine-tuned on public instructional data, these models are specialized for interactive and instructional applications, available for non-commercial use. This variant is ideal for educational tools, interactive bots, and other applications where guidance or instruction is important.\n",
    "\n",
    "**High performance on benchmarks**\n",
    "\n",
    "The true measure of the model's strength is reflected in the benchmarks. XGen comes out on top for diverse set of benchmarks such as MMLU, HumanEval and so on when compared to models of similar size.  For an in-depth analysis, the [announcement post](https://blog.salesforceairesearch.com/xgen/#results-on-standard-benchmarks) provides a comprehensive overview of XGen's achievements across benchmarks.\n",
    "\n",
    "**Optimization for long-sequence tasks**\n",
    "\n",
    "At the risk of redundancy, I reiterate that XGen is highly-optimized for tasks that require large context windows. This capability is critical for applications like detailed document summarization, where understanding the entirety of a text is important for generating accurate summaries. Similarly, in comprehensive question answering and long-form content generation, XGen's ability to process large amounts of information results in more coherent, contextually relevant outputs."
   ]
  },
  {
   "cell_type": "markdown",
   "id": "f6401b27-394d-46d3-81e9-d1f9e91550ca",
   "metadata": {},
   "source": [
    "### XGen 7B training details"
   ]
  },
  {
   "attachments": {
    "a1e38753-9ad4-4d03-b708-aa9b46283367.png": {
     "image/png": "[encoded data removed]"
    }
   },
   "cell_type": "markdown",
   "id": "83e9901c-3729-42e4-996f-a102835694a6",
   "metadata": {},
   "source": [
    "So, how does XGen achieve these impressive results? Of course, the answer lies in the training and optimization methods used by Salesforce AI researchers.\n",
    "\n",
    "The training strategy of XGen consists of two stages. In stage 1, a fresh model is trained on 1.37 trillion tokens, containing a mix of natural language data and code.\n",
    "\n",
    "![image.png](attachment:a1e38753-9ad4-4d03-b708-aa9b46283367.png)"
   ]
  },
  {
   "attachments": {
    "9e590dfc-2d19-4d01-ad8b-1cbc9dc8b835.png": {
     "image/png": "[encoded data removed]"
    }
   },
   "cell_type": "markdown",
   "id": "223bf2a6-6d16-4a52-99e7-25096d109005",
   "metadata": {},
   "source": [
    "In stage two, additional 55 billion tokens of code were used to train for better code generation:\n",
    "\n",
    "![image.png](attachment:9e590dfc-2d19-4d01-ad8b-1cbc9dc8b835.png)"
   ]
  },
  {
   "cell_type": "markdown",
   "id": "90d5546f-6166-41fd-b9bf-357028b0644b",
   "metadata": {},
   "source": [
    "The training was done using an in-house library called [JaxFormer](https://github.com/salesforce/jaxformer) specifically designed for efficient LLMs training under both data and model parallelism for TPU-v4 hardware."
   ]
  },
  {
   "cell_type": "markdown",
   "id": "093c9d47-bc9b-471b-aec2-61d867549a3e",
   "metadata": {},
   "source": [
    "### Prerequisites and installation"
   ]
  },
  {
   "cell_type": "markdown",
   "id": "73e91a17-62c6-4151-b592-80ea550c8cb6",
   "metadata": {},
   "source": [
    "### Working with XGen 7B"
   ]
  },
  {
   "cell_type": "markdown",
   "id": "9885531e-af48-4af6-bdb2-cb88ae9ff9f8",
   "metadata": {},
   "source": [
    "### Maximizing model performance"
   ]
  },
  {
   "cell_type": "markdown",
   "id": "05c1b9d4-fe2f-46b6-afcf-de75b269c56d",
   "metadata": {},
   "source": [
    "### Building a summarizer model"
   ]
  },
  {
   "cell_type": "markdown",
   "id": "9dd17927-534f-45bf-97be-4caa498933e2",
   "metadata": {},
   "source": [
    "### Conclusion"
   ]
  }
 ],
 "metadata": {
  "kernelspec": {
   "display_name": "articles",
   "language": "python",
   "name": "articles"
  },
  "language_info": {
   "codemirror_mode": {
    "name": "ipython",
    "version": 3
   },
   "file_extension": ".py",
   "mimetype": "text/x-python",
   "name": "python",
   "nbconvert_exporter": "python",
   "pygments_lexer": "ipython3",
   "version": "3.10.8"
  },
  "widgets": {
   "application/vnd.jupyter.widget-state+json": {
    "state": {},
    "version_major": 2,
    "version_minor": 0
   }
  }
 },
 "nbformat": 4,
 "nbformat_minor": 5
}
