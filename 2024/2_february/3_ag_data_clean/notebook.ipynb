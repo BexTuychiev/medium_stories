{
 "cells": [
  {
   "cell_type": "markdown",
   "id": "c3b63b37-f631-4fd7-adcc-6d2c7c686205",
   "metadata": {},
   "source": [
    "# How to Clean Sensitive Data You Can't Even See With Antigranular"
   ]
  },
  {
   "cell_type": "markdown",
   "id": "3aba07a9-fe33-4f22-bc48-64b5179843df",
   "metadata": {},
   "source": [
    "## Motivation"
   ]
  },
  {
   "cell_type": "markdown",
   "id": "739f933b-6d2f-4fde-bcc8-45ca8b2eb6bc",
   "metadata": {},
   "source": [
    "## Setup"
   ]
  },
  {
   "cell_type": "markdown",
   "id": "feda55e1-eb77-4c2d-92c0-54acc5416c63",
   "metadata": {},
   "source": [
    "## 1. Removing duplicates under differential privacy"
   ]
  },
  {
   "cell_type": "markdown",
   "id": "488f4855-65ee-4db2-b463-024f4065b413",
   "metadata": {},
   "source": [
    "## 2. Imputing missing values under differential privacy"
   ]
  },
  {
   "cell_type": "markdown",
   "id": "d5d30233-1b48-42d7-b23d-9c2a5df1c359",
   "metadata": {},
   "source": [
    "## 3. Fixing data types under DP"
   ]
  },
  {
   "cell_type": "markdown",
   "id": "5f3bf36e-83b8-4df0-9c64-101a118ac8e1",
   "metadata": {},
   "source": [
    "## 4. Filtering simple outliers under DP"
   ]
  },
  {
   "cell_type": "markdown",
   "id": "9ffa90c7-314d-434a-9ed9-267460423a6a",
   "metadata": {},
   "source": [
    "## 5. Formatting dates under DP"
   ]
  },
  {
   "cell_type": "markdown",
   "id": "7c059461-8237-47ad-a229-32da1c304999",
   "metadata": {},
   "source": [
    "## 6. Scaling or normalizing data under DP"
   ]
  },
  {
   "cell_type": "markdown",
   "id": "1e151057-17c3-4566-9732-407a21e00711",
   "metadata": {},
   "source": [
    "## 7. Encoding categorical features for ML under DP"
   ]
  },
  {
   "cell_type": "markdown",
   "id": "00380cea-5a17-4bca-990c-e49effc6ca11",
   "metadata": {},
   "source": [
    "## Conclusion"
   ]
  }
 ],
 "metadata": {
  "kernelspec": {
   "display_name": "articles",
   "language": "python",
   "name": "articles"
  },
  "language_info": {
   "codemirror_mode": {
    "name": "ipython",
    "version": 3
   },
   "file_extension": ".py",
   "mimetype": "text/x-python",
   "name": "python",
   "nbconvert_exporter": "python",
   "pygments_lexer": "ipython3",
   "version": "3.10.8"
  },
  "widgets": {
   "application/vnd.jupyter.widget-state+json": {
    "state": {},
    "version_major": 2,
    "version_minor": 0
   }
  }
 },
 "nbformat": 4,
 "nbformat_minor": 5
}
