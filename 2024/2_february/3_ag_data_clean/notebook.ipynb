{
 "cells": [
  {
   "cell_type": "markdown",
   "id": "c3b63b37-f631-4fd7-adcc-6d2c7c686205",
   "metadata": {},
   "source": [
    "# How to Explore and Clean Sensitive Data You Can't Even See With Antigranular"
   ]
  },
  {
   "cell_type": "markdown",
   "id": "3aba07a9-fe33-4f22-bc48-64b5179843df",
   "metadata": {},
   "source": [
    "## Motivation"
   ]
  },
  {
   "cell_type": "markdown",
   "id": "0224d774-adb0-462c-99f5-95fd1facf897",
   "metadata": {},
   "source": [
    "Differential privacy is a robust framework to work with highly sensitive data such as PII (personally identification information), financial data, health information, biometric data and so on. When data science and machine learning methods are used on these datasets under differential privacy, there is virtually no chance of extracting individual details from any row. \n",
    "\n",
    "But the security provided by the framework comes at a cost - you can only use functions and algorithms that are differentially private. Unfortunately, the vast majority of Python libraries do not meet this requirement, making them useless. \n",
    "\n",
    "For this reason, the open-source community offers alternatives to popular libraries for data manipulation and machine learning. In this tutorial, we will learn how to perform Exploratory Data Analysis (EDA) and data cleaning on a sample differentially private dataset using a platform called Antigranular. "
   ]
  },
  {
   "cell_type": "markdown",
   "id": "4a97fb45-1666-4824-82dd-91de26a4d9b7",
   "metadata": {},
   "source": [
    "## What is Antigranular?"
   ]
  },
  {
   "cell_type": "markdown",
   "id": "bf84152f-6cd0-424d-961e-02ae6addbddc",
   "metadata": {},
   "source": [
    "I've discussed the Antigranular platform in-depth in a [previous article](https://medium.com/towards-artificial-intelligence/antigranular-how-to-access-sensitive-datasets-without-looking-at-them-44090cb22d8a). So, we will only summarize the main points here as understanding them is a requirement for this article. \n",
    "\n",
    "Antigranular is a secure platform for any company to host their sensitive datasets using differential privacy. The platform stores datasets using [AWS Nitro Enclaves](https://aws.amazon.com/ec2/nitro/nitro-enclaves/) that leverage cryptographic attestation for security. Then, the data is exposed to the public through authentication and under differential privacy. \n",
    "\n",
    "Anyone will be able to use the data but isn't able to actually look at individual rows. This raises the question - why do this?\n",
    "\n",
    "Well, Antigranular isn't just a secure storage - it is a Kaggle-like competition platform where users compete to solve machine learning tasks using DP methods. It also allows users to share their solutions publicly in notebooks just like in Kaggle. \n",
    "\n",
    "To use the differentially private libraries and datasets locally, Antigranular comes with a Python library in the same name. Today, we will use all of these to perform a typical EDA on the differentially private version of the open-source Diamonds dataset. "
   ]
  },
  {
   "cell_type": "markdown",
   "id": "739f933b-6d2f-4fde-bcc8-45ca8b2eb6bc",
   "metadata": {},
   "source": [
    "## Setup"
   ]
  },
  {
   "cell_type": "code",
   "execution_count": 4,
   "id": "89abffbc-5e30-451e-8903-4522dc0ba37b",
   "metadata": {},
   "outputs": [
    {
     "name": "stderr",
     "output_type": "stream",
     "text": [
      "UsageError: Cell magic `%%ag` not found.\n"
     ]
    }
   ],
   "source": [
    "%%ag\n",
    "\n",
    "from op_pandas import PrivateDataFrame, PrivateSeries"
   ]
  },
  {
   "cell_type": "markdown",
   "id": "8216f947-f996-42d2-ba76-d4c167ee55ea",
   "metadata": {},
   "source": [
    "## 1. Summary statistics"
   ]
  },
  {
   "cell_type": "code",
   "execution_count": null,
   "id": "45344f3e-14f1-4358-b2dd-5fd89254ef15",
   "metadata": {},
   "outputs": [],
   "source": [
    "%%ag\n",
    "\n",
    "ag_print(\"Columns: \\n\", diamonds.columns)\n",
    "ag_print(\"Metadata: \\n\", diamonds.metadata)\n",
    "ag_print(\"Dtypes: \\n\", diamonds.dtypes)"
   ]
  },
  {
   "cell_type": "code",
   "execution_count": null,
   "id": "5443d9d8-6f88-433a-b0fa-1d5ee0e1b9e4",
   "metadata": {},
   "outputs": [],
   "source": [
    "%%ag\n",
    "\n",
    "results = diamonds.describe(eps=1)\n",
    "\n",
    "# Export information from the remote AG  kernel to the local Jupyter server.\n",
    "ag_print(results)"
   ]
  },
  {
   "cell_type": "code",
   "execution_count": null,
   "id": "161ab868-1ed2-4f12-baef-e5976eb4b7a7",
   "metadata": {},
   "outputs": [],
   "source": [
    "%%ag\n",
    "\n",
    "export(results, name=\"5-number summary\")"
   ]
  },
  {
   "cell_type": "code",
   "execution_count": null,
   "id": "1f2923b3-8167-456c-baeb-803989e67fcb",
   "metadata": {},
   "outputs": [],
   "source": [
    "print(results)"
   ]
  },
  {
   "cell_type": "code",
   "execution_count": null,
   "id": "5cbe5875-acd2-407a-ab85-7ad16b98f5ed",
   "metadata": {},
   "outputs": [],
   "source": [
    "import seaborn as sns\n",
    "\n",
    "diamonds = sns.load_dataset(\"diamonds\")\n",
    "results_local = diamonds.describe()"
   ]
  },
  {
   "cell_type": "code",
   "execution_count": null,
   "id": "2b36e44e-6dfe-4543-8405-e7eaca4abb3d",
   "metadata": {},
   "outputs": [],
   "source": [
    "results - results_local"
   ]
  },
  {
   "cell_type": "code",
   "execution_count": null,
   "id": "2dc4570a-cef5-4037-82ee-cad1d33c5f44",
   "metadata": {},
   "outputs": [],
   "source": [
    "%%ag\n",
    "# ps is a private series\n",
    "\n",
    "min = ps.percentile(eps=0.1, p=0)\n",
    "max = ps.percentile(eps=0.1, p=100)\n",
    "\n",
    "ag_print(f\"{min = } , {max = }\")"
   ]
  },
  {
   "cell_type": "markdown",
   "id": "9e670044-41a9-4ed6-8532-d8bfaf67a25d",
   "metadata": {},
   "source": [
    "## 2. Cleaning data"
   ]
  },
  {
   "cell_type": "code",
   "execution_count": null,
   "id": "d7612eb3-5a35-4bec-ad84-f4c7c537af84",
   "metadata": {},
   "outputs": [],
   "source": [
    "diamonds.drop(columns=\"z\", inplace=True)  # Default"
   ]
  },
  {
   "cell_type": "code",
   "execution_count": null,
   "id": "166fcc61-8a7a-48c4-bd61-5fc1381e9720",
   "metadata": {},
   "outputs": [],
   "source": [
    "diamonds.dropna(axis=0)  # Across the rows"
   ]
  },
  {
   "cell_type": "markdown",
   "id": "9af5ae3c-e4e9-4722-b827-bbaf6bbd3ce8",
   "metadata": {},
   "source": [
    "## 3. Selecting data"
   ]
  },
  {
   "cell_type": "code",
   "execution_count": null,
   "id": "7477a4bb-bb13-470d-8931-5cc8bddb96cb",
   "metadata": {},
   "outputs": [],
   "source": [
    "%%ag\n",
    "\n",
    "\n",
    "def series_map(x: int) -> float:\n",
    "    return x / 2\n",
    "\n",
    "\n",
    "priv_df[\"age\"] = priv_df[\"age\"].map(series_map, eps=1)  # important\n",
    "ag_print(\"Metadata:\\n\", priv_df.metadata)"
   ]
  },
  {
   "cell_type": "markdown",
   "id": "f0757f44-efaa-4536-b69f-62ddc18262f5",
   "metadata": {},
   "source": [
    "## 4. General functions"
   ]
  },
  {
   "cell_type": "code",
   "execution_count": null,
   "id": "b97b0043-8bd0-43c2-a2b2-bdda2b16dc55",
   "metadata": {},
   "outputs": [],
   "source": []
  },
  {
   "cell_type": "markdown",
   "id": "ab7d320b-ea91-4cfe-ab3c-e83fba6959f7",
   "metadata": {},
   "source": [
    "## 5. Statistical methods"
   ]
  },
  {
   "cell_type": "code",
   "execution_count": null,
   "id": "6779b60b-7366-4882-acd5-d8d38ba1707f",
   "metadata": {},
   "outputs": [],
   "source": []
  },
  {
   "cell_type": "markdown",
   "id": "9d95c95a-83e2-43e3-b9fc-30f050cce7af",
   "metadata": {},
   "source": [
    "## 6. Plotting histograms"
   ]
  },
  {
   "cell_type": "code",
   "execution_count": null,
   "id": "eb7cf78f-b69f-410c-97f0-7678231ffa89",
   "metadata": {},
   "outputs": [],
   "source": [
    "%%ag\n",
    "\n",
    "hist_data = priv_df.hist(column=\"salary\", eps=0.1)\n",
    "export(hist_data, \"hist_data\")"
   ]
  },
  {
   "cell_type": "code",
   "execution_count": null,
   "id": "fa16637e-e456-409c-a1aa-29d5e983cbf3",
   "metadata": {},
   "outputs": [],
   "source": [
    "import matplotlib.pyplot as plt\n",
    "\n",
    "dp_hist, dp_bins = hist_data\n",
    "# Create a bar plot using Matplotlib\n",
    "plt.bar(dp_bins[:-1], dp_hist, width=np.diff(dp_bins) * 0.8, align=\"edge\")\n",
    "\n",
    "# Display the plot\n",
    "plt.show()"
   ]
  },
  {
   "cell_type": "markdown",
   "id": "1475da93-0b96-4e46-a506-e531620158c6",
   "metadata": {},
   "source": [
    "## Plotting a correlation matrix"
   ]
  },
  {
   "cell_type": "code",
   "execution_count": null,
   "id": "20fbb478-6e3b-48a5-909c-601da1c2c0ed",
   "metadata": {},
   "outputs": [],
   "source": [
    "%%ag\n",
    "\n",
    "result = priv_df.corr(eps=3)\n",
    "export(result, \"private_result\")"
   ]
  },
  {
   "cell_type": "markdown",
   "id": "8ce1b4ed-08ea-4224-9c09-2d7675bdb815",
   "metadata": {},
   "source": [
    "## 7. Using GroupBy"
   ]
  },
  {
   "cell_type": "code",
   "execution_count": null,
   "id": "49024daa-5e90-43cd-8768-9b97aa6c59a5",
   "metadata": {},
   "outputs": [],
   "source": [
    "%%ag\n",
    "import op_pandas as opd\n",
    "\n",
    "pdf = opd.PrivateDataFrame(\n",
    "    df, metadata={\"age\": (0, 100)}, categorical_metadata={\"groups\": [\"a\", \"b\", \"c\"]}\n",
    ")\n",
    "grouped = pdf.groupby(\"groups\")\n",
    "ag_print(grouped.sum(eps=1))"
   ]
  },
  {
   "cell_type": "code",
   "execution_count": null,
   "id": "50eebb1a-6570-4a97-a52b-d9006e6c5dea",
   "metadata": {},
   "outputs": [],
   "source": [
    "%%ag\n",
    "\n",
    "grouped_pdf = pdf.groupby(pdf[\"age\"] > 30)\n",
    "\n",
    "ag_print(grouped_pdf[\"salary\"].mean(eps=1))"
   ]
  },
  {
   "cell_type": "code",
   "execution_count": null,
   "id": "1db0e355-1fd5-48ac-a216-bac523fdcef6",
   "metadata": {},
   "outputs": [],
   "source": [
    "%%ag\n",
    "\n",
    "ag_print(pdf.groupby([\"education\", \"gender\"]).mean(eps=1))"
   ]
  },
  {
   "cell_type": "code",
   "execution_count": null,
   "id": "e313547d-9499-4fba-b2c8-6110936e95d4",
   "metadata": {},
   "outputs": [],
   "source": [
    "%%ag\n",
    "\n",
    "ag_print(pdf.groupby([\"education\", pdf[\"age\"] > 30]).mean(eps=1))"
   ]
  },
  {
   "cell_type": "markdown",
   "id": "b445b8d2-daad-4859-88f8-3998546d4c78",
   "metadata": {},
   "source": [
    "## 8. Visualizing GroupBy results"
   ]
  },
  {
   "cell_type": "code",
   "execution_count": null,
   "id": "2f8ebd03-f3ca-4d4f-9147-f5dce0699545",
   "metadata": {},
   "outputs": [],
   "source": []
  },
  {
   "cell_type": "code",
   "execution_count": null,
   "id": "66ef3ed1-715e-4798-88ae-b8dba49a2fbe",
   "metadata": {},
   "outputs": [],
   "source": [
    "%%ag\n",
    "\n",
    "priv_df_train, priv_df_test = op_pandas.train_test_split(priv_df)\n",
    "\n",
    "ag_print(\"Count of train split:\\n\", priv_df_train.count(eps=1))\n",
    "ag_print(\"Count of test split:\\n\", priv_df_test.count(eps=1))"
   ]
  },
  {
   "cell_type": "markdown",
   "id": "00380cea-5a17-4bca-990c-e49effc6ca11",
   "metadata": {},
   "source": [
    "## Conclusion"
   ]
  }
 ],
 "metadata": {
  "kernelspec": {
   "display_name": "antigranular",
   "language": "python",
   "name": "antigranular"
  },
  "language_info": {
   "codemirror_mode": {
    "name": "ipython",
    "version": 3
   },
   "file_extension": ".py",
   "mimetype": "text/x-python",
   "name": "python",
   "nbconvert_exporter": "python",
   "pygments_lexer": "ipython3",
   "version": "3.8.10"
  },
  "widgets": {
   "application/vnd.jupyter.widget-state+json": {
    "state": {},
    "version_major": 2,
    "version_minor": 0
   }
  }
 },
 "nbformat": 4,
 "nbformat_minor": 5
}
