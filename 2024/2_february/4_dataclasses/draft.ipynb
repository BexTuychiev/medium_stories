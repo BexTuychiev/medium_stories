{
 "cells": [
  {
   "cell_type": "markdown",
   "id": "0e4fb035-7903-43d0-9405-190cc21af28d",
   "metadata": {},
   "source": [
    "# Python Data Classes Tutorial: N Things You Must Learn About Data Classes"
   ]
  },
  {
   "cell_type": "markdown",
   "id": "bf411425-a879-4ab7-a679-7c2022e67bbf",
   "metadata": {},
   "source": [
    "## Why learn about data classes?"
   ]
  },
  {
   "cell_type": "markdown",
   "id": "725aa796-a2ff-48fd-9b32-d627f2474b66",
   "metadata": {},
   "source": [
    "Data classes are one of the features of Python that after you discover them, you are never going back to the old way. Consider this regular class:"
   ]
  },
  {
   "cell_type": "code",
   "execution_count": 2,
   "id": "20be222f-b8cb-4a57-95b3-e98009161630",
   "metadata": {},
   "outputs": [],
   "source": [
    "class Exercise:\n",
    "    def __init__(self, name, reps, sets, weight):\n",
    "        self.name = name\n",
    "        self.reps = reps\n",
    "        self.sets = sets\n",
    "        self.weight = weight"
   ]
  },
  {
   "cell_type": "markdown",
   "id": "a12151ca-f00f-434c-a23e-27d9cad50397",
   "metadata": {},
   "source": [
    "To me, that class definition is very inefficient - in the `__init__` method, you repeat each parameter at least three times. You may not think this is a big deal but think about how often you write classes in your lifetime with much more parameters. \n",
    "\n",
    "In comparison, take a look at the data classes alternative of the above code:"
   ]
  },
  {
   "cell_type": "code",
   "execution_count": 3,
   "id": "142dbf76-5923-4fd7-b8a8-ccf562fa66f2",
   "metadata": {},
   "outputs": [],
   "source": [
    "from dataclasses import dataclass\n",
    "\n",
    "\n",
    "@dataclass\n",
    "class Exercise:\n",
    "    name: str\n",
    "    reps: int\n",
    "    sets: int\n",
    "    weight: float  # Weight in lbs"
   ]
  },
  {
   "cell_type": "markdown",
   "id": "8e4bd313-4f05-4270-9a6a-725cef0c361e",
   "metadata": {},
   "source": [
    "This modest-looking piece of code is orders of magnitude better than the regular class. The `@dataclass` decorator isn't just implementing the `__init__` method automatically but `__repr__` and `__eq__` under the hood as well. All four comparison operators are also a single parameter away from being defined on the fly. \n",
    "\n",
    "Data classes also support immutability, advanced type hinting, advanced default value definitions and much more. All these features are available through regular classes too, but they take at least five times as much code.\n",
    "\n",
    "So, the purpose of this tutorial is to convert you from outdated class definitions to the modern one - data classes. Let's get started!"
   ]
  },
  {
   "cell_type": "markdown",
   "id": "9c4a60f1-2e39-4818-9ac3-b087d064e337",
   "metadata": {},
   "source": [
    "## Introduction to data classes"
   ]
  },
  {
   "cell_type": "markdown",
   "id": "e58bd18f-ad47-43d3-a0d4-abdc02493c39",
   "metadata": {},
   "source": [
    "1. Data classes are shorter\n",
    "2. The init method is already implemented\n",
    "3. Work just like a regular class but takes much less code\n",
    "4. The init method is already implemented\n",
    "5. eq, repr are alread yimplemented\n",
    "6. Comparing data classes with == returns true\n",
    "7. Requires the @dataclass decorator\n",
    "8. Requires type hints\n",
    "9. But doesn't actually enforce type hints\n",
    "10. Can be created with make_dataclass function"
   ]
  },
  {
   "cell_type": "code",
   "execution_count": 8,
   "id": "60824d5b-8868-49e7-80c5-6fe8770bca32",
   "metadata": {},
   "outputs": [],
   "source": [
    "from dataclasses import dataclass\n",
    "\n",
    "\n",
    "@dataclass\n",
    "class Exercise:\n",
    "    name: str\n",
    "    reps: int\n",
    "    sets: int\n",
    "    weight: float\n",
    "\n",
    "\n",
    "ex1 = Exercise(\"Bench press\", 10, 3, 52.5)"
   ]
  },
  {
   "cell_type": "code",
   "execution_count": 9,
   "id": "fb6600ea-2113-47cf-9bb6-3e4ede907bf7",
   "metadata": {
    "scrolled": true
   },
   "outputs": [
    {
     "data": {
      "text/plain": [
       "Exercise(name='Bench press', reps=10, sets=3, weight=52.5)"
      ]
     },
     "execution_count": 9,
     "metadata": {},
     "output_type": "execute_result"
    }
   ],
   "source": [
    "ex1"
   ]
  },
  {
   "cell_type": "code",
   "execution_count": 6,
   "id": "aa7dd0a9-794f-48f4-bf98-e2a0014c53fa",
   "metadata": {},
   "outputs": [
    {
     "data": {
      "text/plain": [
       "<__main__.Exercise at 0x7fc5bc35cd60>"
      ]
     },
     "execution_count": 6,
     "metadata": {},
     "output_type": "execute_result"
    }
   ],
   "source": [
    "class Exercise:\n",
    "    def __init__(self, name, reps, sets, weight):\n",
    "        self.name = name\n",
    "        self.reps = reps\n",
    "        self.sets = sets\n",
    "        self.weight = weight\n",
    "\n",
    "\n",
    "ex3 = Exercise(\"Bench press\", 10, 3, 52.5)\n",
    "\n",
    "ex3"
   ]
  },
  {
   "cell_type": "code",
   "execution_count": 10,
   "id": "3ce15166-1f58-4e0a-aa11-07b4fe2820bd",
   "metadata": {},
   "outputs": [
    {
     "data": {
      "text/plain": [
       "'Bench press'"
      ]
     },
     "execution_count": 10,
     "metadata": {},
     "output_type": "execute_result"
    }
   ],
   "source": [
    "ex1.name"
   ]
  },
  {
   "cell_type": "code",
   "execution_count": 11,
   "id": "09169639-7113-429f-801f-f7a664e71cf1",
   "metadata": {},
   "outputs": [],
   "source": [
    "ex2 = Exercise(\"Bench press\", 10, 3, 52.5)"
   ]
  },
  {
   "cell_type": "code",
   "execution_count": 12,
   "id": "a2c46e99-bbde-4b1c-a612-2daf111e25c6",
   "metadata": {},
   "outputs": [
    {
     "data": {
      "text/plain": [
       "True"
      ]
     },
     "execution_count": 12,
     "metadata": {},
     "output_type": "execute_result"
    }
   ],
   "source": [
    "ex1 == ex1"
   ]
  },
  {
   "cell_type": "code",
   "execution_count": 13,
   "id": "ea6e6565-ccd3-449e-b940-ddd6a5f4701c",
   "metadata": {},
   "outputs": [
    {
     "data": {
      "text/plain": [
       "True"
      ]
     },
     "execution_count": 13,
     "metadata": {},
     "output_type": "execute_result"
    }
   ],
   "source": [
    "ex1 == ex2"
   ]
  },
  {
   "cell_type": "code",
   "execution_count": 14,
   "id": "7553d4a7-feca-4876-8281-bcc7949c5741",
   "metadata": {},
   "outputs": [
    {
     "data": {
      "text/plain": [
       "'three sets'"
      ]
     },
     "execution_count": 14,
     "metadata": {},
     "output_type": "execute_result"
    }
   ],
   "source": [
    "silly_exercise = Exercise(\"Bench press\", \"ten\", \"three sets\", 52.5)\n",
    "\n",
    "silly_exercise.sets"
   ]
  },
  {
   "cell_type": "code",
   "execution_count": 15,
   "id": "9f249d41-c1a7-428f-b391-1f253f3f632c",
   "metadata": {},
   "outputs": [
    {
     "data": {
      "text/plain": [
       "Exercise(name='Deadlifts', reps=8, sets=3, weight=69.0)"
      ]
     },
     "execution_count": 15,
     "metadata": {},
     "output_type": "execute_result"
    }
   ],
   "source": [
    "from dataclasses import make_dataclass\n",
    "\n",
    "Exercise = make_dataclass(\n",
    "    \"Exercise\",\n",
    "    [\n",
    "        (\"name\", str),\n",
    "        (\"reps\", int),\n",
    "        (\"sets\", int),\n",
    "        (\"weight\", float),\n",
    "    ],\n",
    ")\n",
    "\n",
    "ex3 = Exercise(\"Deadlifts\", 8, 3, 69.0)\n",
    "ex3"
   ]
  },
  {
   "cell_type": "markdown",
   "id": "97b63279-25e9-4c29-aed8-66ee47c47ba2",
   "metadata": {},
   "source": [
    "10. Default values can be easily added\n",
    "11. Non-default fields should come first\n"
   ]
  },
  {
   "cell_type": "code",
   "execution_count": 16,
   "id": "70e7d9a2-e33a-4fcb-acf8-2bd7147a1e55",
   "metadata": {},
   "outputs": [
    {
     "data": {
      "text/plain": [
       "Exercise(name='Push-ups', reps=10, sets=3, weight=0)"
      ]
     },
     "execution_count": 16,
     "metadata": {},
     "output_type": "execute_result"
    }
   ],
   "source": [
    "@dataclass\n",
    "class Exercise:\n",
    "    name: str = \"Push-ups\"\n",
    "    reps: int = 10\n",
    "    sets: int = 3\n",
    "    weight: float = 0\n",
    "\n",
    "\n",
    "ex5 = Exercise()\n",
    "ex5"
   ]
  },
  {
   "cell_type": "code",
   "execution_count": 17,
   "id": "9d1cb5b8-9ea0-4c7c-a5c5-c4d61a244116",
   "metadata": {},
   "outputs": [
    {
     "ename": "TypeError",
     "evalue": "non-default argument 'weight' follows default argument",
     "output_type": "error",
     "traceback": [
      "\u001b[0;31m---------------------------------------------------------------------------\u001b[0m",
      "\u001b[0;31mTypeError\u001b[0m                                 Traceback (most recent call last)",
      "Cell \u001b[0;32mIn[17], line 2\u001b[0m\n\u001b[1;32m      1\u001b[0m \u001b[38;5;129;43m@dataclass\u001b[39;49m\n\u001b[0;32m----> 2\u001b[0m \u001b[38;5;28;43;01mclass\u001b[39;49;00m\u001b[43m \u001b[49m\u001b[38;5;21;43;01mExercise\u001b[39;49;00m\u001b[43m:\u001b[49m\n\u001b[1;32m      3\u001b[0m \u001b[43m    \u001b[49m\u001b[43mname\u001b[49m\u001b[43m:\u001b[49m\u001b[43m \u001b[49m\u001b[38;5;28;43mstr\u001b[39;49m\u001b[43m \u001b[49m\u001b[38;5;241;43m=\u001b[39;49m\u001b[43m \u001b[49m\u001b[38;5;124;43m\"\u001b[39;49m\u001b[38;5;124;43mPush-ups\u001b[39;49m\u001b[38;5;124;43m\"\u001b[39;49m\n\u001b[1;32m      4\u001b[0m \u001b[43m    \u001b[49m\u001b[43mreps\u001b[49m\u001b[43m:\u001b[49m\u001b[43m \u001b[49m\u001b[38;5;28;43mint\u001b[39;49m\u001b[43m \u001b[49m\u001b[38;5;241;43m=\u001b[39;49m\u001b[43m \u001b[49m\u001b[38;5;241;43m10\u001b[39;49m\n",
      "File \u001b[0;32m~/anaconda3/envs/articles/lib/python3.10/dataclasses.py:1185\u001b[0m, in \u001b[0;36mdataclass\u001b[0;34m(cls, init, repr, eq, order, unsafe_hash, frozen, match_args, kw_only, slots)\u001b[0m\n\u001b[1;32m   1182\u001b[0m     \u001b[38;5;28;01mreturn\u001b[39;00m wrap\n\u001b[1;32m   1184\u001b[0m \u001b[38;5;66;03m# We're called as @dataclass without parens.\u001b[39;00m\n\u001b[0;32m-> 1185\u001b[0m \u001b[38;5;28;01mreturn\u001b[39;00m \u001b[43mwrap\u001b[49m\u001b[43m(\u001b[49m\u001b[38;5;28;43mcls\u001b[39;49m\u001b[43m)\u001b[49m\n",
      "File \u001b[0;32m~/anaconda3/envs/articles/lib/python3.10/dataclasses.py:1176\u001b[0m, in \u001b[0;36mdataclass.<locals>.wrap\u001b[0;34m(cls)\u001b[0m\n\u001b[1;32m   1175\u001b[0m \u001b[38;5;28;01mdef\u001b[39;00m \u001b[38;5;21mwrap\u001b[39m(\u001b[38;5;28mcls\u001b[39m):\n\u001b[0;32m-> 1176\u001b[0m     \u001b[38;5;28;01mreturn\u001b[39;00m \u001b[43m_process_class\u001b[49m\u001b[43m(\u001b[49m\u001b[38;5;28;43mcls\u001b[39;49m\u001b[43m,\u001b[49m\u001b[43m \u001b[49m\u001b[43minit\u001b[49m\u001b[43m,\u001b[49m\u001b[43m \u001b[49m\u001b[38;5;28;43mrepr\u001b[39;49m\u001b[43m,\u001b[49m\u001b[43m \u001b[49m\u001b[43meq\u001b[49m\u001b[43m,\u001b[49m\u001b[43m \u001b[49m\u001b[43morder\u001b[49m\u001b[43m,\u001b[49m\u001b[43m \u001b[49m\u001b[43munsafe_hash\u001b[49m\u001b[43m,\u001b[49m\n\u001b[1;32m   1177\u001b[0m \u001b[43m                          \u001b[49m\u001b[43mfrozen\u001b[49m\u001b[43m,\u001b[49m\u001b[43m \u001b[49m\u001b[43mmatch_args\u001b[49m\u001b[43m,\u001b[49m\u001b[43m \u001b[49m\u001b[43mkw_only\u001b[49m\u001b[43m,\u001b[49m\u001b[43m \u001b[49m\u001b[43mslots\u001b[49m\u001b[43m)\u001b[49m\n",
      "File \u001b[0;32m~/anaconda3/envs/articles/lib/python3.10/dataclasses.py:1025\u001b[0m, in \u001b[0;36m_process_class\u001b[0;34m(cls, init, repr, eq, order, unsafe_hash, frozen, match_args, kw_only, slots)\u001b[0m\n\u001b[1;32m   1020\u001b[0m \u001b[38;5;28;01mif\u001b[39;00m init:\n\u001b[1;32m   1021\u001b[0m     \u001b[38;5;66;03m# Does this class have a post-init function?\u001b[39;00m\n\u001b[1;32m   1022\u001b[0m     has_post_init \u001b[38;5;241m=\u001b[39m \u001b[38;5;28mhasattr\u001b[39m(\u001b[38;5;28mcls\u001b[39m, _POST_INIT_NAME)\n\u001b[1;32m   1024\u001b[0m     _set_new_attribute(\u001b[38;5;28mcls\u001b[39m, \u001b[38;5;124m'\u001b[39m\u001b[38;5;124m__init__\u001b[39m\u001b[38;5;124m'\u001b[39m,\n\u001b[0;32m-> 1025\u001b[0m                        \u001b[43m_init_fn\u001b[49m\u001b[43m(\u001b[49m\u001b[43mall_init_fields\u001b[49m\u001b[43m,\u001b[49m\n\u001b[1;32m   1026\u001b[0m \u001b[43m                                \u001b[49m\u001b[43mstd_init_fields\u001b[49m\u001b[43m,\u001b[49m\n\u001b[1;32m   1027\u001b[0m \u001b[43m                                \u001b[49m\u001b[43mkw_only_init_fields\u001b[49m\u001b[43m,\u001b[49m\n\u001b[1;32m   1028\u001b[0m \u001b[43m                                \u001b[49m\u001b[43mfrozen\u001b[49m\u001b[43m,\u001b[49m\n\u001b[1;32m   1029\u001b[0m \u001b[43m                                \u001b[49m\u001b[43mhas_post_init\u001b[49m\u001b[43m,\u001b[49m\n\u001b[1;32m   1030\u001b[0m \u001b[43m                                \u001b[49m\u001b[38;5;66;43;03m# The name to use for the \"self\"\u001b[39;49;00m\n\u001b[1;32m   1031\u001b[0m \u001b[43m                                \u001b[49m\u001b[38;5;66;43;03m# param in __init__.  Use \"self\"\u001b[39;49;00m\n\u001b[1;32m   1032\u001b[0m \u001b[43m                                \u001b[49m\u001b[38;5;66;43;03m# if possible.\u001b[39;49;00m\n\u001b[1;32m   1033\u001b[0m \u001b[43m                                \u001b[49m\u001b[38;5;124;43m'\u001b[39;49m\u001b[38;5;124;43m__dataclass_self__\u001b[39;49m\u001b[38;5;124;43m'\u001b[39;49m\u001b[43m \u001b[49m\u001b[38;5;28;43;01mif\u001b[39;49;00m\u001b[43m \u001b[49m\u001b[38;5;124;43m'\u001b[39;49m\u001b[38;5;124;43mself\u001b[39;49m\u001b[38;5;124;43m'\u001b[39;49m\u001b[43m \u001b[49m\u001b[38;5;129;43;01min\u001b[39;49;00m\u001b[43m \u001b[49m\u001b[43mfields\u001b[49m\n\u001b[1;32m   1034\u001b[0m \u001b[43m                                        \u001b[49m\u001b[38;5;28;43;01melse\u001b[39;49;00m\u001b[43m \u001b[49m\u001b[38;5;124;43m'\u001b[39;49m\u001b[38;5;124;43mself\u001b[39;49m\u001b[38;5;124;43m'\u001b[39;49m\u001b[43m,\u001b[49m\n\u001b[1;32m   1035\u001b[0m \u001b[43m                                \u001b[49m\u001b[38;5;28;43mglobals\u001b[39;49m\u001b[43m,\u001b[49m\n\u001b[1;32m   1036\u001b[0m \u001b[43m                                \u001b[49m\u001b[43mslots\u001b[49m\u001b[43m,\u001b[49m\n\u001b[1;32m   1037\u001b[0m \u001b[43m                      \u001b[49m\u001b[43m)\u001b[49m)\n\u001b[1;32m   1039\u001b[0m \u001b[38;5;66;03m# Get the fields as a list, and include only real fields.  This is\u001b[39;00m\n\u001b[1;32m   1040\u001b[0m \u001b[38;5;66;03m# used in all of the following methods.\u001b[39;00m\n\u001b[1;32m   1041\u001b[0m field_list \u001b[38;5;241m=\u001b[39m [f \u001b[38;5;28;01mfor\u001b[39;00m f \u001b[38;5;129;01min\u001b[39;00m fields\u001b[38;5;241m.\u001b[39mvalues() \u001b[38;5;28;01mif\u001b[39;00m f\u001b[38;5;241m.\u001b[39m_field_type \u001b[38;5;129;01mis\u001b[39;00m _FIELD]\n",
      "File \u001b[0;32m~/anaconda3/envs/articles/lib/python3.10/dataclasses.py:546\u001b[0m, in \u001b[0;36m_init_fn\u001b[0;34m(fields, std_fields, kw_only_fields, frozen, has_post_init, self_name, globals, slots)\u001b[0m\n\u001b[1;32m    544\u001b[0m             seen_default \u001b[38;5;241m=\u001b[39m \u001b[38;5;28;01mTrue\u001b[39;00m\n\u001b[1;32m    545\u001b[0m         \u001b[38;5;28;01melif\u001b[39;00m seen_default:\n\u001b[0;32m--> 546\u001b[0m             \u001b[38;5;28;01mraise\u001b[39;00m \u001b[38;5;167;01mTypeError\u001b[39;00m(\u001b[38;5;124mf\u001b[39m\u001b[38;5;124m'\u001b[39m\u001b[38;5;124mnon-default argument \u001b[39m\u001b[38;5;132;01m{\u001b[39;00mf\u001b[38;5;241m.\u001b[39mname\u001b[38;5;132;01m!r}\u001b[39;00m\u001b[38;5;124m \u001b[39m\u001b[38;5;124m'\u001b[39m\n\u001b[1;32m    547\u001b[0m                             \u001b[38;5;124m'\u001b[39m\u001b[38;5;124mfollows default argument\u001b[39m\u001b[38;5;124m'\u001b[39m)\n\u001b[1;32m    549\u001b[0m \u001b[38;5;28mlocals\u001b[39m \u001b[38;5;241m=\u001b[39m {\u001b[38;5;124mf\u001b[39m\u001b[38;5;124m'\u001b[39m\u001b[38;5;124m_type_\u001b[39m\u001b[38;5;132;01m{\u001b[39;00mf\u001b[38;5;241m.\u001b[39mname\u001b[38;5;132;01m}\u001b[39;00m\u001b[38;5;124m'\u001b[39m: f\u001b[38;5;241m.\u001b[39mtype \u001b[38;5;28;01mfor\u001b[39;00m f \u001b[38;5;129;01min\u001b[39;00m fields}\n\u001b[1;32m    550\u001b[0m \u001b[38;5;28mlocals\u001b[39m\u001b[38;5;241m.\u001b[39mupdate({\n\u001b[1;32m    551\u001b[0m     \u001b[38;5;124m'\u001b[39m\u001b[38;5;124mMISSING\u001b[39m\u001b[38;5;124m'\u001b[39m: MISSING,\n\u001b[1;32m    552\u001b[0m     \u001b[38;5;124m'\u001b[39m\u001b[38;5;124m_HAS_DEFAULT_FACTORY\u001b[39m\u001b[38;5;124m'\u001b[39m: _HAS_DEFAULT_FACTORY,\n\u001b[1;32m    553\u001b[0m })\n",
      "\u001b[0;31mTypeError\u001b[0m: non-default argument 'weight' follows default argument"
     ]
    }
   ],
   "source": [
    "@dataclass\n",
    "class Exercise:\n",
    "    name: str = \"Push-ups\"\n",
    "    reps: int = 10\n",
    "    sets: int = 3\n",
    "    weight: float  # NOT ALLOWED\n",
    "\n",
    "\n",
    "ex5 = Exercise()\n",
    "ex5"
   ]
  },
  {
   "cell_type": "markdown",
   "id": "59bf884f-2dd3-44f5-8074-0c7f032e90ba",
   "metadata": {},
   "source": [
    "## Advanced data classes"
   ]
  },
  {
   "cell_type": "code",
   "execution_count": 82,
   "id": "3a9f6bc7-71a6-4458-bf1a-2ee066fd70ac",
   "metadata": {},
   "outputs": [],
   "source": [
    "from dataclasses import dataclass\n",
    "from typing import List\n",
    "\n",
    "\n",
    "@dataclass\n",
    "class Exercise:\n",
    "    name: str = \"Push-ups\"\n",
    "    reps: int = 10\n",
    "    sets: int = 3\n",
    "    weight: float = 0\n",
    "\n",
    "\n",
    "@dataclass\n",
    "class WorkoutSession:\n",
    "    exercises: List[Exercise]\n",
    "    duration_minutes: int"
   ]
  },
  {
   "cell_type": "code",
   "execution_count": 83,
   "id": "ada60a4d-0699-45bc-8a8e-037f3eb12dff",
   "metadata": {},
   "outputs": [],
   "source": [
    "from typing import Any\n",
    "\n",
    "\n",
    "@dataclass\n",
    "class Dummy:\n",
    "    attr: Any"
   ]
  },
  {
   "cell_type": "code",
   "execution_count": 84,
   "id": "ab524bed-8f94-4c64-8497-e4c8d9a7899e",
   "metadata": {},
   "outputs": [],
   "source": [
    "# Define the Exercise instances for HIIT training\n",
    "ex1 = Exercise(name=\"Burpees\", reps=15, sets=3)\n",
    "ex2 = Exercise(name=\"Mountain Climbers\", reps=20, sets=3)\n",
    "ex3 = Exercise(name=\"Jump Squats\", reps=12, sets=3)\n",
    "exercises_monday = [ex1, ex2, ex3]\n",
    "\n",
    "hiit_monday = WorkoutSession(exercises=exercises_monday, duration_minutes=30)"
   ]
  },
  {
   "cell_type": "markdown",
   "id": "63382ca9-2ac2-4ad5-8bcc-c32802d8933d",
   "metadata": {},
   "source": [
    "```python\n",
    "@dataclass\n",
    "class WorkoutSession:\n",
    "    exercises: List[Exercise] = []\n",
    "    duration_minutes: int = None\n",
    "\n",
    "\n",
    "hiit_monday = WorkoutSession(\"25-02-2024\")\n",
    "```\n",
    "\n",
    "```python\n",
    "ValueError: mutable default <class 'list'> for field exercises is not allowed: use default_factory\n",
    "```"
   ]
  },
  {
   "cell_type": "code",
   "execution_count": 85,
   "id": "f88a57f1-67c7-41d7-a71c-1c5f69e9233d",
   "metadata": {},
   "outputs": [],
   "source": [
    "from dataclasses import dataclass, field\n",
    "\n",
    "\n",
    "@dataclass\n",
    "class WorkoutSession:\n",
    "    exercises: List[Exercise] = field(default_factory=list)\n",
    "    duration_minutes: int = 0\n",
    "\n",
    "\n",
    "hiit_monday = WorkoutSession(\"26-02-2024\")"
   ]
  },
  {
   "cell_type": "code",
   "execution_count": 87,
   "id": "26cff778-ae18-45dc-940c-af2afad3722f",
   "metadata": {},
   "outputs": [],
   "source": [
    "@dataclass\n",
    "class WorkoutSession:\n",
    "    exercises: List[Exercise] = field(default_factory=list)\n",
    "    duration_minutes: int = 0\n",
    "\n",
    "    def add_exercise(self, exercise: Exercise):\n",
    "        self.exercises.append(exercise)\n",
    "\n",
    "    def increase_duration(self, minutes: int):\n",
    "        self.duration_minutes += minutes\n",
    "\n",
    "\n",
    "hiit_monday = WorkoutSession()"
   ]
  },
  {
   "cell_type": "code",
   "execution_count": 88,
   "id": "6b235c1f-7c8f-441f-b62f-06e6258187d9",
   "metadata": {},
   "outputs": [
    {
     "name": "stdout",
     "output_type": "stream",
     "text": [
      "WorkoutSession(exercises=[Exercise(name='Burpees', reps=15, sets=3, weight=0)], duration_minutes=10)\n"
     ]
    }
   ],
   "source": [
    "# Add burpees\n",
    "hiit_monday.add_exercise(ex1)\n",
    "hiit_monday.increase_duration(10)\n",
    "\n",
    "# Print the session\n",
    "print(hiit_monday)"
   ]
  },
  {
   "cell_type": "code",
   "execution_count": 89,
   "id": "8f6be3ba-9c44-454d-a00d-1507a4d535c1",
   "metadata": {},
   "outputs": [],
   "source": [
    "def create_warmup():\n",
    "    return [\n",
    "        Exercise(\"Jumping jacks\", 30, 1),\n",
    "        Exercise(\"Squat lunges\", 10, 2),\n",
    "        Exercise(\"High jumps\", 20, 1),\n",
    "    ]"
   ]
  },
  {
   "cell_type": "code",
   "execution_count": 91,
   "id": "672f3817-7f38-448b-b2be-af5e52b2caec",
   "metadata": {},
   "outputs": [
    {
     "data": {
      "text/plain": [
       "WorkoutSession(exercises=[Exercise(name='Jumping jacks', reps=30, sets=1, weight=0), Exercise(name='Squat lunges', reps=10, sets=2, weight=0), Exercise(name='High jumps', reps=20, sets=1, weight=0)], duration_minutes=5)"
      ]
     },
     "execution_count": 91,
     "metadata": {},
     "output_type": "execute_result"
    }
   ],
   "source": [
    "@dataclass\n",
    "class WorkoutSession:\n",
    "    exercises: List[Exercise] = field(default_factory=create_warmup)\n",
    "    duration_minutes: int = 5  # Increase the default duration as well\n",
    "\n",
    "    def add_exercise(self, exercise: Exercise):\n",
    "        self.exercises.append(exercise)\n",
    "\n",
    "    def increase_duration(self, minutes: int):\n",
    "        self.duration_minutes += minutes\n",
    "\n",
    "\n",
    "hiit_monday = WorkoutSession()\n",
    "hiit_monday"
   ]
  },
  {
   "cell_type": "code",
   "execution_count": 92,
   "id": "4327706b-433b-49b1-a630-23ef61559092",
   "metadata": {},
   "outputs": [
    {
     "data": {
      "text/plain": [
       "WorkoutSession(exercises=[Exercise(name='Jumping jacks', reps=30, sets=1, weight=0), Exercise(name='Squat lunges', reps=10, sets=2, weight=0), Exercise(name='High jumps', reps=20, sets=1, weight=0), [Exercise(name='Burpees', reps=15, sets=3, weight=0), Exercise(name='Mountain Climbers', reps=20, sets=3, weight=0), Exercise(name='Jump Squats', reps=12, sets=3, weight=0)]], duration_minutes=5)"
      ]
     },
     "execution_count": 92,
     "metadata": {},
     "output_type": "execute_result"
    }
   ],
   "source": [
    "hiit_monday.add_exercise(exercises_monday)\n",
    "\n",
    "hiit_monday  # Too verbose"
   ]
  },
  {
   "cell_type": "code",
   "execution_count": 93,
   "id": "8ff8386a-0a31-4b41-a1d8-1519424f505b",
   "metadata": {},
   "outputs": [
    {
     "data": {
      "text/plain": [
       "Exercise(name='Burpees', reps=15, sets=3, weight=0)"
      ]
     },
     "execution_count": 93,
     "metadata": {},
     "output_type": "execute_result"
    }
   ],
   "source": [
    "@dataclass\n",
    "class Exercise:\n",
    "    name: str = \"Push-ups\"\n",
    "    reps: int = 10\n",
    "    sets: int = 3\n",
    "    weight: float = 0\n",
    "\n",
    "    def __str__(self):\n",
    "        base = f\"{self.name}: {self.reps}/{self.sets}\"\n",
    "        if self.weight == 0:\n",
    "            return base\n",
    "        return base + f\", {self.weight} lbs\"\n",
    "\n",
    "\n",
    "ex1 = Exercise(name=\"Burpees\", reps=15, sets=3)\n",
    "ex1"
   ]
  },
  {
   "cell_type": "code",
   "execution_count": 94,
   "id": "d2b0261b-446b-4c06-9b92-50b366fadb22",
   "metadata": {},
   "outputs": [
    {
     "name": "stdout",
     "output_type": "stream",
     "text": [
      "Burpees: 15/3\n"
     ]
    }
   ],
   "source": [
    "print(ex1)"
   ]
  },
  {
   "cell_type": "code",
   "execution_count": 95,
   "id": "1e9e9cea-a922-4e13-9eb7-e0c79d87217c",
   "metadata": {},
   "outputs": [
    {
     "name": "stdout",
     "output_type": "stream",
     "text": [
      "Jumping jacks: 30/1\n",
      "Squat lunges: 10/2\n",
      "High jumps: 20/1\n",
      "\n",
      "Session duration: 5 minutes.\n"
     ]
    }
   ],
   "source": [
    "@dataclass\n",
    "class WorkoutSession:\n",
    "    exercises: List[Exercise] = field(default_factory=create_warmup)\n",
    "    duration_minutes: int = 5  # Increase the default duration as well\n",
    "\n",
    "    def add_exercise(self, exercise: Exercise):\n",
    "        self.exercises.append(exercise)\n",
    "\n",
    "    def increase_duration(self, minutes: int):\n",
    "        self.duration_minutes += minutes\n",
    "\n",
    "    def __str__(self):\n",
    "        base = \"\"\n",
    "\n",
    "        for ex in self.exercises:\n",
    "            base += str(ex) + \"\\n\"\n",
    "        base += f\"\\nSession duration: {self.duration_minutes} minutes.\"\n",
    "\n",
    "        return base\n",
    "\n",
    "\n",
    "hiit_monday = WorkoutSession()\n",
    "print(hiit_monday)"
   ]
  },
  {
   "cell_type": "markdown",
   "id": "679d6899-3fee-4e95-9395-9b4443371301",
   "metadata": {},
   "source": [
    "## Comparing"
   ]
  },
  {
   "cell_type": "code",
   "execution_count": 96,
   "id": "a0424c0f-4aaf-43b3-a570-4a9ee835dc96",
   "metadata": {},
   "outputs": [
    {
     "name": "stdout",
     "output_type": "stream",
     "text": [
      "Jumping jacks: 30/1\n",
      "Squat lunges: 10/2\n",
      "High jumps: 20/1\n",
      "Pull-ups: 7/3\n",
      "\n",
      "Session duration: 5 minutes.\n"
     ]
    }
   ],
   "source": [
    "hiit_wednesday = WorkoutSession()\n",
    "\n",
    "hiit_wednesday.add_exercise(Exercise(\"Pull-ups\", 7, 3))\n",
    "print(hiit_wednesday)"
   ]
  },
  {
   "cell_type": "code",
   "execution_count": 97,
   "id": "0c39385c-cc80-4e73-930b-73f3acd83064",
   "metadata": {},
   "outputs": [
    {
     "ename": "TypeError",
     "evalue": "'>' not supported between instances of 'WorkoutSession' and 'WorkoutSession'",
     "output_type": "error",
     "traceback": [
      "\u001b[0;31m---------------------------------------------------------------------------\u001b[0m",
      "\u001b[0;31mTypeError\u001b[0m                                 Traceback (most recent call last)",
      "Cell \u001b[0;32mIn[97], line 1\u001b[0m\n\u001b[0;32m----> 1\u001b[0m \u001b[43mhiit_monday\u001b[49m\u001b[43m \u001b[49m\u001b[38;5;241;43m>\u001b[39;49m\u001b[43m \u001b[49m\u001b[43mhiit_wednesday\u001b[49m\n",
      "\u001b[0;31mTypeError\u001b[0m: '>' not supported between instances of 'WorkoutSession' and 'WorkoutSession'"
     ]
    }
   ],
   "source": [
    "hiit_monday > hiit_wednesday"
   ]
  },
  {
   "cell_type": "code",
   "execution_count": 108,
   "id": "338d0602-28c6-4ba4-a88f-2a22e2ae1a7d",
   "metadata": {},
   "outputs": [],
   "source": [
    "@dataclass(order=True)\n",
    "class WorkoutSession:\n",
    "    exercises: List[Exercise] = field(default_factory=create_warmup)\n",
    "    duration_minutes: int = 5  # Increase the default duration as well\n",
    "\n",
    "    def add_exercise(self, exercise: Exercise):\n",
    "        self.exercises.append(exercise)\n",
    "\n",
    "    def increase_duration(self, minutes: int):\n",
    "        self.duration_minutes += minutes\n",
    "\n",
    "    def __str__(self):\n",
    "        base = \"\"\n",
    "\n",
    "        for ex in self.exercises:\n",
    "            base += str(ex) + \"\\n\"\n",
    "        base += f\"\\nSession duration: {self.duration_minutes} minutes.\"\n",
    "\n",
    "        return base"
   ]
  },
  {
   "cell_type": "code",
   "execution_count": 109,
   "id": "42bb0587-c550-4000-bf27-155310b9e11e",
   "metadata": {},
   "outputs": [
    {
     "data": {
      "text/plain": [
       "True"
      ]
     },
     "execution_count": 109,
     "metadata": {},
     "output_type": "execute_result"
    }
   ],
   "source": [
    "hiit_monday = WorkoutSession()\n",
    "# hiit_monday.add_exercise(...)\n",
    "hiit_monday.increase_duration(10)\n",
    "\n",
    "hiit_wednesday = WorkoutSession()\n",
    "\n",
    "hiit_monday > hiit_wednesday"
   ]
  },
  {
   "cell_type": "markdown",
   "id": "fc9331bb-83c7-476b-90ca-4ec073e7d83c",
   "metadata": {},
   "source": [
    "## Post-init field manipulation"
   ]
  },
  {
   "cell_type": "code",
   "execution_count": 110,
   "id": "f89fe2ee-f9b3-490a-96bd-1f4a56aa2303",
   "metadata": {},
   "outputs": [],
   "source": [
    "@dataclass\n",
    "class WorkoutSession:\n",
    "    exercises: List[Exercise] = field(default_factory=create_warmup)\n",
    "    duration_minutes: int = field(default=0, init=False)\n",
    "\n",
    "    def __post_init__(self):\n",
    "        set_duration = 3\n",
    "        for ex in self.exercises:\n",
    "            self.duration_minutes += ex.sets * set_duration\n",
    "\n",
    "    def add_exercise(self, exercise: Exercise):\n",
    "        self.exercises.append(exercise)\n",
    "\n",
    "    def increase_duration(self, minutes: int):\n",
    "        self.duration_minutes += minutes\n",
    "\n",
    "    def __str__(self):\n",
    "        base = \"\"\n",
    "\n",
    "        for ex in self.exercises:\n",
    "            base += str(ex) + \"\\n\"\n",
    "        base += f\"\\nSession duration: {self.duration_minutes} minutes.\"\n",
    "\n",
    "        return base"
   ]
  },
  {
   "cell_type": "code",
   "execution_count": 113,
   "id": "4b1109fc-ea5b-45da-90a0-2f710372d2ac",
   "metadata": {},
   "outputs": [
    {
     "name": "stdout",
     "output_type": "stream",
     "text": [
      "Jumping jacks: 30/1\n",
      "Squat lunges: 10/2\n",
      "High jumps: 20/1\n",
      "Sit-ups: 20/3\n",
      "\n",
      "Session duration: 12 minutes.\n"
     ]
    }
   ],
   "source": [
    "hiit_friday = WorkoutSession()\n",
    "hiit_friday.add_exercise(Exercise(\"Sit-ups\", 20, 3))\n",
    "\n",
    "print(hiit_friday)"
   ]
  },
  {
   "cell_type": "markdown",
   "id": "1a71d164-601d-4993-bf2c-7db345c11d68",
   "metadata": {},
   "source": [
    "## Immutability in data classes"
   ]
  },
  {
   "cell_type": "code",
   "execution_count": 114,
   "id": "129efd47-e1a5-4624-a639-7456d0762ed5",
   "metadata": {},
   "outputs": [
    {
     "data": {
      "text/plain": [
       "3"
      ]
     },
     "execution_count": 114,
     "metadata": {},
     "output_type": "execute_result"
    }
   ],
   "source": [
    "@dataclass(frozen=True)\n",
    "class FrozenExercise:\n",
    "    name: str\n",
    "    reps: int\n",
    "    sets: int\n",
    "    weight: int | float = 0\n",
    "\n",
    "\n",
    "ex1 = FrozenExercise(\"Muscle-ups\", 5, 3)\n",
    "ex1.sets"
   ]
  },
  {
   "cell_type": "code",
   "execution_count": 115,
   "id": "2bc40120-b9aa-4f1b-8d3c-1350748f7194",
   "metadata": {},
   "outputs": [
    {
     "ename": "FrozenInstanceError",
     "evalue": "cannot assign to field 'sets'",
     "output_type": "error",
     "traceback": [
      "\u001b[0;31m---------------------------------------------------------------------------\u001b[0m",
      "\u001b[0;31mFrozenInstanceError\u001b[0m                       Traceback (most recent call last)",
      "Cell \u001b[0;32mIn[115], line 1\u001b[0m\n\u001b[0;32m----> 1\u001b[0m \u001b[43mex1\u001b[49m\u001b[38;5;241;43m.\u001b[39;49m\u001b[43msets\u001b[49m \u001b[38;5;241m=\u001b[39m \u001b[38;5;241m5\u001b[39m\n",
      "File \u001b[0;32m<string>:4\u001b[0m, in \u001b[0;36m__setattr__\u001b[0;34m(self, name, value)\u001b[0m\n",
      "\u001b[0;31mFrozenInstanceError\u001b[0m: cannot assign to field 'sets'"
     ]
    }
   ],
   "source": [
    "ex1.sets = 5"
   ]
  },
  {
   "cell_type": "code",
   "execution_count": 116,
   "id": "1844d712-49b1-408b-ae49-3bde9ce802b5",
   "metadata": {},
   "outputs": [
    {
     "ename": "FrozenInstanceError",
     "evalue": "cannot assign to field 'new_field'",
     "output_type": "error",
     "traceback": [
      "\u001b[0;31m---------------------------------------------------------------------------\u001b[0m",
      "\u001b[0;31mFrozenInstanceError\u001b[0m                       Traceback (most recent call last)",
      "Cell \u001b[0;32mIn[116], line 1\u001b[0m\n\u001b[0;32m----> 1\u001b[0m \u001b[43mex1\u001b[49m\u001b[38;5;241;43m.\u001b[39;49m\u001b[43mnew_field\u001b[49m \u001b[38;5;241m=\u001b[39m \u001b[38;5;241m10\u001b[39m\n",
      "File \u001b[0;32m<string>:4\u001b[0m, in \u001b[0;36m__setattr__\u001b[0;34m(self, name, value)\u001b[0m\n",
      "\u001b[0;31mFrozenInstanceError\u001b[0m: cannot assign to field 'new_field'"
     ]
    }
   ],
   "source": [
    "ex1.new_field = 10"
   ]
  },
  {
   "cell_type": "code",
   "execution_count": 117,
   "id": "ecf7ba61-0a85-42b8-af64-0ce090c7b5ae",
   "metadata": {},
   "outputs": [],
   "source": [
    "@dataclass(frozen=True)\n",
    "class ImmutableWorkoutSession:\n",
    "    exercises: List[Exercise] = field(default_factory=create_warmup)\n",
    "    duration_minutes: int = 5\n",
    "\n",
    "\n",
    "session1 = ImmutableWorkoutSession()"
   ]
  },
  {
   "cell_type": "code",
   "execution_count": 118,
   "id": "bb0903c0-47c8-48c3-85af-caaf50d5c412",
   "metadata": {},
   "outputs": [
    {
     "ename": "FrozenInstanceError",
     "evalue": "cannot assign to field 'exercises'",
     "output_type": "error",
     "traceback": [
      "\u001b[0;31m---------------------------------------------------------------------------\u001b[0m",
      "\u001b[0;31mFrozenInstanceError\u001b[0m                       Traceback (most recent call last)",
      "Cell \u001b[0;32mIn[118], line 1\u001b[0m\n\u001b[0;32m----> 1\u001b[0m \u001b[43msession1\u001b[49m\u001b[38;5;241;43m.\u001b[39;49m\u001b[43mexercises\u001b[49m \u001b[38;5;241m=\u001b[39m exercises_monday\n",
      "File \u001b[0;32m<string>:4\u001b[0m, in \u001b[0;36m__setattr__\u001b[0;34m(self, name, value)\u001b[0m\n",
      "\u001b[0;31mFrozenInstanceError\u001b[0m: cannot assign to field 'exercises'"
     ]
    }
   ],
   "source": [
    "session1.exercises = exercises_monday"
   ]
  },
  {
   "cell_type": "code",
   "execution_count": 119,
   "id": "b0f4bb58-395b-4377-9437-b64e7724f082",
   "metadata": {},
   "outputs": [
    {
     "name": "stdout",
     "output_type": "stream",
     "text": [
      "ImmutableWorkoutSession(exercises=[Exercise(name='Jumping jacks', reps=30, sets=1, weight=0), FrozenExercise(name='Totally new exercise', reps=5, sets=5, weight=0), Exercise(name='High jumps', reps=20, sets=1, weight=0)], duration_minutes=5)\n"
     ]
    }
   ],
   "source": [
    "session1.exercises[1] = FrozenExercise(\"Totally new exercise\", 5, 5)\n",
    "\n",
    "print(session1)"
   ]
  },
  {
   "cell_type": "code",
   "execution_count": 120,
   "id": "c67ee33b-5676-4dc3-90bb-57e1dd45e827",
   "metadata": {},
   "outputs": [
    {
     "ename": "TypeError",
     "evalue": "non-default argument 'intensity_level' follows default argument",
     "output_type": "error",
     "traceback": [
      "\u001b[0;31m---------------------------------------------------------------------------\u001b[0m",
      "\u001b[0;31mTypeError\u001b[0m                                 Traceback (most recent call last)",
      "Cell \u001b[0;32mIn[120], line 8\u001b[0m\n\u001b[1;32m      3\u001b[0m     exercises: List[Exercise] \u001b[38;5;241m=\u001b[39m field(default_factory\u001b[38;5;241m=\u001b[39mcreate_warmup)\n\u001b[1;32m      4\u001b[0m     duration_minutes: \u001b[38;5;28mint\u001b[39m \u001b[38;5;241m=\u001b[39m \u001b[38;5;241m5\u001b[39m\n\u001b[1;32m      7\u001b[0m \u001b[38;5;129;43m@dataclass\u001b[39;49m\u001b[43m(\u001b[49m\u001b[43mfrozen\u001b[49m\u001b[38;5;241;43m=\u001b[39;49m\u001b[38;5;28;43;01mTrue\u001b[39;49;00m\u001b[43m)\u001b[49m\n\u001b[0;32m----> 8\u001b[0m \u001b[38;5;28;43;01mclass\u001b[39;49;00m\u001b[43m \u001b[49m\u001b[38;5;21;43;01mCardioWorkoutSession\u001b[39;49;00m\u001b[43m(\u001b[49m\u001b[43mImmutableWorkoutSession\u001b[49m\u001b[43m)\u001b[49m\u001b[43m:\u001b[49m\n\u001b[1;32m      9\u001b[0m \u001b[43m    \u001b[49m\u001b[43mintensity_level\u001b[49m\u001b[43m:\u001b[49m\u001b[43m \u001b[49m\u001b[38;5;28;43mstr\u001b[39;49m  \u001b[38;5;66;03m# Not allowed, must have a default\u001b[39;00m\n",
      "File \u001b[0;32m~/anaconda3/envs/articles/lib/python3.10/dataclasses.py:1176\u001b[0m, in \u001b[0;36mdataclass.<locals>.wrap\u001b[0;34m(cls)\u001b[0m\n\u001b[1;32m   1175\u001b[0m \u001b[38;5;28;01mdef\u001b[39;00m \u001b[38;5;21mwrap\u001b[39m(\u001b[38;5;28mcls\u001b[39m):\n\u001b[0;32m-> 1176\u001b[0m     \u001b[38;5;28;01mreturn\u001b[39;00m \u001b[43m_process_class\u001b[49m\u001b[43m(\u001b[49m\u001b[38;5;28;43mcls\u001b[39;49m\u001b[43m,\u001b[49m\u001b[43m \u001b[49m\u001b[43minit\u001b[49m\u001b[43m,\u001b[49m\u001b[43m \u001b[49m\u001b[38;5;28;43mrepr\u001b[39;49m\u001b[43m,\u001b[49m\u001b[43m \u001b[49m\u001b[43meq\u001b[49m\u001b[43m,\u001b[49m\u001b[43m \u001b[49m\u001b[43morder\u001b[49m\u001b[43m,\u001b[49m\u001b[43m \u001b[49m\u001b[43munsafe_hash\u001b[49m\u001b[43m,\u001b[49m\n\u001b[1;32m   1177\u001b[0m \u001b[43m                          \u001b[49m\u001b[43mfrozen\u001b[49m\u001b[43m,\u001b[49m\u001b[43m \u001b[49m\u001b[43mmatch_args\u001b[49m\u001b[43m,\u001b[49m\u001b[43m \u001b[49m\u001b[43mkw_only\u001b[49m\u001b[43m,\u001b[49m\u001b[43m \u001b[49m\u001b[43mslots\u001b[49m\u001b[43m)\u001b[49m\n",
      "File \u001b[0;32m~/anaconda3/envs/articles/lib/python3.10/dataclasses.py:1025\u001b[0m, in \u001b[0;36m_process_class\u001b[0;34m(cls, init, repr, eq, order, unsafe_hash, frozen, match_args, kw_only, slots)\u001b[0m\n\u001b[1;32m   1020\u001b[0m \u001b[38;5;28;01mif\u001b[39;00m init:\n\u001b[1;32m   1021\u001b[0m     \u001b[38;5;66;03m# Does this class have a post-init function?\u001b[39;00m\n\u001b[1;32m   1022\u001b[0m     has_post_init \u001b[38;5;241m=\u001b[39m \u001b[38;5;28mhasattr\u001b[39m(\u001b[38;5;28mcls\u001b[39m, _POST_INIT_NAME)\n\u001b[1;32m   1024\u001b[0m     _set_new_attribute(\u001b[38;5;28mcls\u001b[39m, \u001b[38;5;124m'\u001b[39m\u001b[38;5;124m__init__\u001b[39m\u001b[38;5;124m'\u001b[39m,\n\u001b[0;32m-> 1025\u001b[0m                        \u001b[43m_init_fn\u001b[49m\u001b[43m(\u001b[49m\u001b[43mall_init_fields\u001b[49m\u001b[43m,\u001b[49m\n\u001b[1;32m   1026\u001b[0m \u001b[43m                                \u001b[49m\u001b[43mstd_init_fields\u001b[49m\u001b[43m,\u001b[49m\n\u001b[1;32m   1027\u001b[0m \u001b[43m                                \u001b[49m\u001b[43mkw_only_init_fields\u001b[49m\u001b[43m,\u001b[49m\n\u001b[1;32m   1028\u001b[0m \u001b[43m                                \u001b[49m\u001b[43mfrozen\u001b[49m\u001b[43m,\u001b[49m\n\u001b[1;32m   1029\u001b[0m \u001b[43m                                \u001b[49m\u001b[43mhas_post_init\u001b[49m\u001b[43m,\u001b[49m\n\u001b[1;32m   1030\u001b[0m \u001b[43m                                \u001b[49m\u001b[38;5;66;43;03m# The name to use for the \"self\"\u001b[39;49;00m\n\u001b[1;32m   1031\u001b[0m \u001b[43m                                \u001b[49m\u001b[38;5;66;43;03m# param in __init__.  Use \"self\"\u001b[39;49;00m\n\u001b[1;32m   1032\u001b[0m \u001b[43m                                \u001b[49m\u001b[38;5;66;43;03m# if possible.\u001b[39;49;00m\n\u001b[1;32m   1033\u001b[0m \u001b[43m                                \u001b[49m\u001b[38;5;124;43m'\u001b[39;49m\u001b[38;5;124;43m__dataclass_self__\u001b[39;49m\u001b[38;5;124;43m'\u001b[39;49m\u001b[43m \u001b[49m\u001b[38;5;28;43;01mif\u001b[39;49;00m\u001b[43m \u001b[49m\u001b[38;5;124;43m'\u001b[39;49m\u001b[38;5;124;43mself\u001b[39;49m\u001b[38;5;124;43m'\u001b[39;49m\u001b[43m \u001b[49m\u001b[38;5;129;43;01min\u001b[39;49;00m\u001b[43m \u001b[49m\u001b[43mfields\u001b[49m\n\u001b[1;32m   1034\u001b[0m \u001b[43m                                        \u001b[49m\u001b[38;5;28;43;01melse\u001b[39;49;00m\u001b[43m \u001b[49m\u001b[38;5;124;43m'\u001b[39;49m\u001b[38;5;124;43mself\u001b[39;49m\u001b[38;5;124;43m'\u001b[39;49m\u001b[43m,\u001b[49m\n\u001b[1;32m   1035\u001b[0m \u001b[43m                                \u001b[49m\u001b[38;5;28;43mglobals\u001b[39;49m\u001b[43m,\u001b[49m\n\u001b[1;32m   1036\u001b[0m \u001b[43m                                \u001b[49m\u001b[43mslots\u001b[49m\u001b[43m,\u001b[49m\n\u001b[1;32m   1037\u001b[0m \u001b[43m                      \u001b[49m\u001b[43m)\u001b[49m)\n\u001b[1;32m   1039\u001b[0m \u001b[38;5;66;03m# Get the fields as a list, and include only real fields.  This is\u001b[39;00m\n\u001b[1;32m   1040\u001b[0m \u001b[38;5;66;03m# used in all of the following methods.\u001b[39;00m\n\u001b[1;32m   1041\u001b[0m field_list \u001b[38;5;241m=\u001b[39m [f \u001b[38;5;28;01mfor\u001b[39;00m f \u001b[38;5;129;01min\u001b[39;00m fields\u001b[38;5;241m.\u001b[39mvalues() \u001b[38;5;28;01mif\u001b[39;00m f\u001b[38;5;241m.\u001b[39m_field_type \u001b[38;5;129;01mis\u001b[39;00m _FIELD]\n",
      "File \u001b[0;32m~/anaconda3/envs/articles/lib/python3.10/dataclasses.py:546\u001b[0m, in \u001b[0;36m_init_fn\u001b[0;34m(fields, std_fields, kw_only_fields, frozen, has_post_init, self_name, globals, slots)\u001b[0m\n\u001b[1;32m    544\u001b[0m             seen_default \u001b[38;5;241m=\u001b[39m \u001b[38;5;28;01mTrue\u001b[39;00m\n\u001b[1;32m    545\u001b[0m         \u001b[38;5;28;01melif\u001b[39;00m seen_default:\n\u001b[0;32m--> 546\u001b[0m             \u001b[38;5;28;01mraise\u001b[39;00m \u001b[38;5;167;01mTypeError\u001b[39;00m(\u001b[38;5;124mf\u001b[39m\u001b[38;5;124m'\u001b[39m\u001b[38;5;124mnon-default argument \u001b[39m\u001b[38;5;132;01m{\u001b[39;00mf\u001b[38;5;241m.\u001b[39mname\u001b[38;5;132;01m!r}\u001b[39;00m\u001b[38;5;124m \u001b[39m\u001b[38;5;124m'\u001b[39m\n\u001b[1;32m    547\u001b[0m                             \u001b[38;5;124m'\u001b[39m\u001b[38;5;124mfollows default argument\u001b[39m\u001b[38;5;124m'\u001b[39m)\n\u001b[1;32m    549\u001b[0m \u001b[38;5;28mlocals\u001b[39m \u001b[38;5;241m=\u001b[39m {\u001b[38;5;124mf\u001b[39m\u001b[38;5;124m'\u001b[39m\u001b[38;5;124m_type_\u001b[39m\u001b[38;5;132;01m{\u001b[39;00mf\u001b[38;5;241m.\u001b[39mname\u001b[38;5;132;01m}\u001b[39;00m\u001b[38;5;124m'\u001b[39m: f\u001b[38;5;241m.\u001b[39mtype \u001b[38;5;28;01mfor\u001b[39;00m f \u001b[38;5;129;01min\u001b[39;00m fields}\n\u001b[1;32m    550\u001b[0m \u001b[38;5;28mlocals\u001b[39m\u001b[38;5;241m.\u001b[39mupdate({\n\u001b[1;32m    551\u001b[0m     \u001b[38;5;124m'\u001b[39m\u001b[38;5;124mMISSING\u001b[39m\u001b[38;5;124m'\u001b[39m: MISSING,\n\u001b[1;32m    552\u001b[0m     \u001b[38;5;124m'\u001b[39m\u001b[38;5;124m_HAS_DEFAULT_FACTORY\u001b[39m\u001b[38;5;124m'\u001b[39m: _HAS_DEFAULT_FACTORY,\n\u001b[1;32m    553\u001b[0m })\n",
      "\u001b[0;31mTypeError\u001b[0m: non-default argument 'intensity_level' follows default argument"
     ]
    }
   ],
   "source": [
    "@dataclass(frozen=True)\n",
    "class ImmutableWorkoutSession:\n",
    "    exercises: List[Exercise] = field(default_factory=create_warmup)\n",
    "    duration_minutes: int = 5\n",
    "\n",
    "\n",
    "@dataclass(frozen=True)\n",
    "class CardioWorkoutSession(ImmutableWorkoutSession):\n",
    "    intensity_level: str  # Not allowed, must have a default"
   ]
  },
  {
   "cell_type": "markdown",
   "id": "eb4b8876-5dad-4c31-98e3-f2872c19318c",
   "metadata": {},
   "source": [
    "## Other parameters of `dataclass` and `field`"
   ]
  },
  {
   "cell_type": "markdown",
   "id": "55d1acd7-5d13-4457-8ba9-b0896558061e",
   "metadata": {},
   "source": [
    "## Conclusion and further resources"
   ]
  }
 ],
 "metadata": {
  "kernelspec": {
   "display_name": "articles",
   "language": "python",
   "name": "articles"
  },
  "language_info": {
   "codemirror_mode": {
    "name": "ipython",
    "version": 3
   },
   "file_extension": ".py",
   "mimetype": "text/x-python",
   "name": "python",
   "nbconvert_exporter": "python",
   "pygments_lexer": "ipython3",
   "version": "3.10.8"
  },
  "widgets": {
   "application/vnd.jupyter.widget-state+json": {
    "state": {},
    "version_major": 2,
    "version_minor": 0
   }
  }
 },
 "nbformat": 4,
 "nbformat_minor": 5
}
