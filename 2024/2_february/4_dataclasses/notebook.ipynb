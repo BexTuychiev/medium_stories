{
 "cells": [
  {
   "cell_type": "markdown",
   "id": "0e4fb035-7903-43d0-9405-190cc21af28d",
   "metadata": {},
   "source": [
    "# Python Data Classes Tutorial: N Things You Must Learn About Data Classes"
   ]
  },
  {
   "cell_type": "markdown",
   "id": "bf411425-a879-4ab7-a679-7c2022e67bbf",
   "metadata": {},
   "source": [
    "## Why learn about data classes?"
   ]
  },
  {
   "cell_type": "markdown",
   "id": "725aa796-a2ff-48fd-9b32-d627f2474b66",
   "metadata": {},
   "source": [
    "Data classes are one of the features of Python that after you discover them, you are never going back to the old way. Consider this regular class:"
   ]
  },
  {
   "cell_type": "code",
   "execution_count": 1,
   "id": "20be222f-b8cb-4a57-95b3-e98009161630",
   "metadata": {},
   "outputs": [],
   "source": [
    "class Exercise:\n",
    "    def __init__(self, name, reps, sets, weight):\n",
    "        self.name = name\n",
    "        self.reps = reps\n",
    "        self.sets = sets\n",
    "        self.weight = weight"
   ]
  },
  {
   "cell_type": "markdown",
   "id": "a12151ca-f00f-434c-a23e-27d9cad50397",
   "metadata": {},
   "source": [
    "To me, that class definition is very inefficient - in the `__init__` method, you repeat each parameter at least three times. You may not think this is a big deal but think about how often you write classes in your lifetime with much more parameters. \n",
    "\n",
    "In comparison, take a look at the data classes alternative of the above code:"
   ]
  },
  {
   "cell_type": "code",
   "execution_count": 2,
   "id": "142dbf76-5923-4fd7-b8a8-ccf562fa66f2",
   "metadata": {},
   "outputs": [],
   "source": [
    "from dataclasses import dataclass\n",
    "\n",
    "\n",
    "@dataclass\n",
    "class Exercise:\n",
    "    name: str\n",
    "    reps: int\n",
    "    sets: int\n",
    "    weight: float  # Weight in lbs"
   ]
  },
  {
   "cell_type": "markdown",
   "id": "8e4bd313-4f05-4270-9a6a-725cef0c361e",
   "metadata": {},
   "source": [
    "This modest-looking piece of code is orders of magnitude better than the regular class. The `@dataclass` decorator isn't just implementing the `__init__` method automatically but `__repr__` and `__eq__` under the hood as well. All four comparison operators are also a single parameter away from being defined on the fly. \n",
    "\n",
    "Data classes also support immutability, advanced type hinting, advanced default value definitions and much more. All these features are available through regular classes too, but they take at least five times as much code.\n",
    "\n",
    "So, the purpose of this tutorial is to convert you from outdated class definitions to the modern one - data classes. Let's get started!"
   ]
  },
  {
   "cell_type": "markdown",
   "id": "9c4a60f1-2e39-4818-9ac3-b087d064e337",
   "metadata": {},
   "source": [
    "## Introduction to data classes"
   ]
  },
  {
   "cell_type": "markdown",
   "id": "0fdbcd9a-6016-4318-b912-35df2d76a109",
   "metadata": {},
   "source": []
  },
  {
   "cell_type": "markdown",
   "id": "487e1f82-46bd-45fa-9aee-5d96aff0a20e",
   "metadata": {},
   "source": [
    "1. Data classes are shorter\n",
    "2. The init method is already implemented\n",
    "3. Work just like a regular class but takes much less code\n",
    "4. eq, repr, str are alread yimplemented\n",
    "5. Comparing data classes with == returns true\n",
    "6. Requires the @dataclass decorator\n",
    "7. Requires type hints\n",
    "8. But doesn't actually enforce type hints\n",
    "9. Can be created with make_dataclass function\n",
    "10. Default values can be easily added\n",
    "11. Non-default fields should come first\n",
    "12. Can be used with any type from typing module\n",
    "13. You can add methods\n",
    "14. Creating a larger dataclass that uses antoher smaller one like cards and deck\n",
    "15. Use field and default factory to handle mutable default values\n",
    "16. field specifier can be used to customize each field of a data class individually\n",
    "17. field can be used to create:\n",
    "    - default\n",
    "    - default_factory\n",
    "    - init\n",
    "    - repr\n",
    "    - compare\n",
    "    - hash\n",
    "    - metadata\n",
    "18. you can't specify both default and default factory\n",
    "19. print metadata about dataclasses with `fields`\n",
    "20. `__str__` is not implemented by default, falls abck to repr\n",
    "21. repr should return the code to recreate the object\n",
    "22. Comparison is not supported by default\n",
    "23. Can be added with the `order` parameter se tto true\n",
    "24. dataclass decorator has the following params:\n",
    "    - init\n",
    "    - repr\n",
    "    - eq\n",
    "    - order\n",
    "    - frozen\n",
    "    - unsafe hash - all booleans\n",
    "25. Data classes compare cards as tuples\n",
    "26. To compare them, you have to define some sorting logic\n",
    "27. Use post_init function to do so\n",
    "28. Immutable fields are possible through frozen\n",
    "29. YOu cna' assign values to fields after creation\n",
    "30. Be aware that mutable fields can still change for example, if a field accepts a list which is mutable, you can change that using idnexing\n",
    "31. You can use inheritance with data classes, pretty easy\n",
    "32. Remember that if your parent class contains default values in fields, all fields in the child class must have default values as well\n",
    "33. You can use __slots__ to optmize data classes"
   ]
  },
  {
   "cell_type": "markdown",
   "id": "55d1acd7-5d13-4457-8ba9-b0896558061e",
   "metadata": {},
   "source": [
    "## Conclusion and further resources"
   ]
  }
 ],
 "metadata": {
  "kernelspec": {
   "display_name": "articles",
   "language": "python",
   "name": "articles"
  },
  "language_info": {
   "codemirror_mode": {
    "name": "ipython",
    "version": 3
   },
   "file_extension": ".py",
   "mimetype": "text/x-python",
   "name": "python",
   "nbconvert_exporter": "python",
   "pygments_lexer": "ipython3",
   "version": "3.10.8"
  },
  "widgets": {
   "application/vnd.jupyter.widget-state+json": {
    "state": {},
    "version_major": 2,
    "version_minor": 0
   }
  }
 },
 "nbformat": 4,
 "nbformat_minor": 5
}
