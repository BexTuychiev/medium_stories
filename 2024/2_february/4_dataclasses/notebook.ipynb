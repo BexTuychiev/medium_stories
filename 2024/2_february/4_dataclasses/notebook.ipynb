{
 "cells": [
  {
   "cell_type": "markdown",
   "id": "0e4fb035-7903-43d0-9405-190cc21af28d",
   "metadata": {},
   "source": [
    "# Python Data Classes Tutorial: N Things You Must Learn About Data Classes"
   ]
  },
  {
   "cell_type": "markdown",
   "id": "bf411425-a879-4ab7-a679-7c2022e67bbf",
   "metadata": {},
   "source": [
    "## Why learn about data classes?"
   ]
  },
  {
   "cell_type": "markdown",
   "id": "725aa796-a2ff-48fd-9b32-d627f2474b66",
   "metadata": {},
   "source": [
    "Data classes are one of the features of Python that after you discover them, you are never going back to the old way. Consider this regular class:"
   ]
  },
  {
   "cell_type": "code",
   "execution_count": 1,
   "id": "20be222f-b8cb-4a57-95b3-e98009161630",
   "metadata": {},
   "outputs": [],
   "source": [
    "class Exercise:\n",
    "    def __init__(self, name, reps, sets, weight):\n",
    "        self.name = name\n",
    "        self.reps = reps\n",
    "        self.sets = sets\n",
    "        self.weight = weight"
   ]
  },
  {
   "cell_type": "markdown",
   "id": "a12151ca-f00f-434c-a23e-27d9cad50397",
   "metadata": {},
   "source": [
    "To me, that class definition is very inefficient - in the `__init__` method, you repeat each parameter at least three times. This may not sound like a big deal but think about how often you write classes in your lifetime with much more parameters. \n",
    "\n",
    "In comparison, take a look at the data classes alternative of the above code:"
   ]
  },
  {
   "cell_type": "code",
   "execution_count": 1,
   "id": "142dbf76-5923-4fd7-b8a8-ccf562fa66f2",
   "metadata": {},
   "outputs": [],
   "source": [
    "from dataclasses import dataclass\n",
    "\n",
    "\n",
    "@dataclass\n",
    "class Exercise:\n",
    "    name: str\n",
    "    reps: int\n",
    "    sets: int\n",
    "    weight: float  # Weight in lbs"
   ]
  },
  {
   "cell_type": "markdown",
   "id": "8e4bd313-4f05-4270-9a6a-725cef0c361e",
   "metadata": {},
   "source": [
    "This modest-looking piece of code is orders of magnitude better than a regular class. The tiny `@dataclass` decorator is implementing `__init__`, `__repr__`, `__eq__` classes behind the scenes, which would have taken at least 20 lines of code manually. Besides, many other features such as comparison operators, object ordering and immutability are all a single line away from being magically created for our class.\n",
    "\n",
    "So, the purpose of this tutorial is to show you why data classes are the best thing to happen to Python if you love object-oriented programming. \n",
    "\n",
    "Let's get started!"
   ]
  },
  {
   "cell_type": "markdown",
   "id": "dfe8cc30-0743-4f95-880a-a89f0fdc8cd2",
   "metadata": {},
   "source": [
    "## Basics of data classes\n",
    "\n",
    "1. Defining data classes\n",
    "2. Mentioning the automatically-generated functions\n",
    "3. Mentioning that type hints are required but not actually enforced\n",
    "4. Accepts any type from typing module\n",
    "5. Create data classes on the fly with `make_dataclass`\n",
    "6. Default values can be easily added\n",
    "7. Default values must come after non-defaults"
   ]
  },
  {
   "cell_type": "markdown",
   "id": "da335326-8e81-43c7-a410-76891eb8060f",
   "metadata": {},
   "source": [
    "1. Defining data classes"
   ]
  },
  {
   "cell_type": "markdown",
   "id": "9a2b198d-fe25-45a3-ba7c-d861fd5d0af5",
   "metadata": {},
   "source": [
    "### Some methods are automatically generated in data classes"
   ]
  },
  {
   "cell_type": "markdown",
   "id": "a8954d13-2ed0-4159-a8ef-d4c4d36ae4f1",
   "metadata": {},
   "source": [
    "Despite all their features, data classes are regular classes that take much less code to implement the same functionality. Here is the `Exercise` class again:"
   ]
  },
  {
   "cell_type": "code",
   "execution_count": 2,
   "id": "254b4b16-00de-4987-b022-f88700d1f23f",
   "metadata": {},
   "outputs": [],
   "source": [
    "from dataclasses import dataclass\n",
    "\n",
    "\n",
    "@dataclass\n",
    "class Exercise:\n",
    "    name: str\n",
    "    reps: int\n",
    "    sets: int\n",
    "    weight: float\n",
    "\n",
    "\n",
    "ex1 = Exercise(\"Bench press\", 10, 3, 52.5)"
   ]
  },
  {
   "cell_type": "code",
   "execution_count": 3,
   "id": "245799b8-77e5-42cf-bd25-145137cd37b2",
   "metadata": {},
   "outputs": [
    {
     "data": {
      "text/plain": [
       "'Bench press'"
      ]
     },
     "execution_count": 3,
     "metadata": {},
     "output_type": "execute_result"
    }
   ],
   "source": [
    "# Verifying Exercise is a regular class\n",
    "ex1.name"
   ]
  },
  {
   "cell_type": "markdown",
   "id": "3c5d54e5-9802-41e7-bfbb-3c25002dc8c8",
   "metadata": {},
   "source": [
    "Right now, `Exercise` already has `__repr__` and `__eq__` methods already implemented. Let's verify it:"
   ]
  },
  {
   "cell_type": "code",
   "execution_count": 4,
   "id": "ee1a316f-0370-4971-ba9c-0c1b2339c278",
   "metadata": {},
   "outputs": [
    {
     "data": {
      "text/plain": [
       "\"Exercise(name='Bench press', reps=10, sets=3, weight=52.5)\""
      ]
     },
     "execution_count": 4,
     "metadata": {},
     "output_type": "execute_result"
    }
   ],
   "source": [
    "repr(ex1)"
   ]
  },
  {
   "cell_type": "markdown",
   "id": "99f882b6-fc86-422d-bc1d-c3b6d7fcde61",
   "metadata": {},
   "source": [
    "The object representation of an object `repr` must return the code that can recreate itself and we can see that is exactly the case for `ex1`. \n",
    "\n",
    "In comparison, `Exercise` defined in the old way would look like this:"
   ]
  },
  {
   "cell_type": "code",
   "execution_count": 5,
   "id": "3ea34c7b-75c4-4787-b683-bca73838f02a",
   "metadata": {},
   "outputs": [
    {
     "data": {
      "text/plain": [
       "<__main__.Exercise at 0x7f6834100130>"
      ]
     },
     "execution_count": 5,
     "metadata": {},
     "output_type": "execute_result"
    }
   ],
   "source": [
    "class Exercise:\n",
    "    def __init__(self, name, reps, sets, weight):\n",
    "        self.name = name\n",
    "        self.reps = reps\n",
    "        self.sets = sets\n",
    "        self.weight = weight\n",
    "\n",
    "\n",
    "ex3 = Exercise(\"Bench press\", 10, 3, 52.5)\n",
    "\n",
    "ex3"
   ]
  },
  {
   "cell_type": "markdown",
   "id": "a7b30e99-2316-4d1a-8323-c913aa6ef731",
   "metadata": {},
   "source": [
    "Pretty awful!\n",
    "\n",
    "Now, let's verify the existence of `__eq__`, which is the equality operator:"
   ]
  },
  {
   "cell_type": "code",
   "execution_count": 7,
   "id": "11436bec-2a47-4cff-8247-fb6c03a62d42",
   "metadata": {},
   "outputs": [],
   "source": [
    "# Redefine the class\n",
    "@dataclass\n",
    "class Exercise:\n",
    "    name: str\n",
    "    reps: int\n",
    "    sets: int\n",
    "    weight: float\n",
    "\n",
    "\n",
    "ex1 = Exercise(\"Bench press\", 10, 3, 52.5)\n",
    "ex2 = Exercise(\"Bench press\", 10, 3, 52.5)"
   ]
  },
  {
   "cell_type": "markdown",
   "id": "83c846ff-65e5-4f06-8b09-2f0071d0ffd0",
   "metadata": {},
   "source": [
    "Comparing the class to itself and to another class with identical parameters must return True:"
   ]
  },
  {
   "cell_type": "code",
   "execution_count": 8,
   "id": "ddf8d08f-185b-4c6c-ba16-38940e504b2f",
   "metadata": {
    "scrolled": true
   },
   "outputs": [
    {
     "data": {
      "text/plain": [
       "True"
      ]
     },
     "execution_count": 8,
     "metadata": {},
     "output_type": "execute_result"
    }
   ],
   "source": [
    "ex1 == ex2"
   ]
  },
  {
   "cell_type": "code",
   "execution_count": 9,
   "id": "287ae1ec-c97f-4515-8ece-ab516b30a2e6",
   "metadata": {},
   "outputs": [
    {
     "data": {
      "text/plain": [
       "True"
      ]
     },
     "execution_count": 9,
     "metadata": {},
     "output_type": "execute_result"
    }
   ],
   "source": [
    "ex1 == ex1"
   ]
  },
  {
   "cell_type": "markdown",
   "id": "c8f2325d-b986-42de-86dc-53071926bdcc",
   "metadata": {},
   "source": [
    "And so it does! In regular classes, this logic would have been a pain to write."
   ]
  },
  {
   "cell_type": "markdown",
   "id": "b51fe2cd-5c97-4c83-a288-cf01490671de",
   "metadata": {},
   "source": [
    "### Data classes require type hints "
   ]
  },
  {
   "cell_type": "markdown",
   "id": "cec32951-a7a0-4dc1-807a-b3a808950c79",
   "metadata": {},
   "source": [
    "As you might have noticed, data classes require type hints when defining fields. In fact, data classes allow any type from the `typing` module. For example, here is how to create a field that can accept `Any` data type:"
   ]
  },
  {
   "cell_type": "code",
   "execution_count": 10,
   "id": "ada60a4d-0699-45bc-8a8e-037f3eb12dff",
   "metadata": {},
   "outputs": [],
   "source": [
    "from typing import Any\n",
    "\n",
    "\n",
    "@dataclass\n",
    "class Dummy:\n",
    "    attr: Any"
   ]
  },
  {
   "cell_type": "markdown",
   "id": "c34c816e-ee5d-4ef9-b40c-f4bd3bf109e3",
   "metadata": {},
   "source": [
    "However, the idiosyncrasy of Python is that even though data classes require type hints, types aren't actually enforced.\n",
    "\n",
    "For example, creating an instance of `Exercise` class with completely incorrect data types can be run without errors:"
   ]
  },
  {
   "cell_type": "code",
   "execution_count": null,
   "id": "9408773a-728f-46f9-bcb0-6a2c3218e067",
   "metadata": {},
   "outputs": [],
   "source": [
    "silly_exercise = Exercise(\"Bench press\", \"ten\", \"three sets\", 52.5)\n",
    "\n",
    "silly_exercise.sets"
   ]
  },
  {
   "cell_type": "markdown",
   "id": "6d72eab3-afb6-45e6-a505-bf79e7df8fd2",
   "metadata": {},
   "source": [
    "If you want to enforce data types, you must use type checkers such as [Mypy](https://mypy-lang.org/)."
   ]
  },
  {
   "cell_type": "markdown",
   "id": "8cde9715-572f-4b29-a275-c590428ad5f6",
   "metadata": {},
   "source": [
    "### Data classes allow default values in fields"
   ]
  },
  {
   "cell_type": "markdown",
   "id": "57a131a0-9b1e-4095-b638-40a065628f14",
   "metadata": {},
   "source": [
    "Till now, we haven't added any defaults to our classes. Let's fix that:"
   ]
  },
  {
   "cell_type": "code",
   "execution_count": 11,
   "id": "32f4f3e5-dda0-44bf-b39d-7fea4415ef2d",
   "metadata": {},
   "outputs": [
    {
     "data": {
      "text/plain": [
       "Exercise(name='Push-ups', reps=10, sets=3, weight=0)"
      ]
     },
     "execution_count": 11,
     "metadata": {},
     "output_type": "execute_result"
    }
   ],
   "source": [
    "@dataclass\n",
    "class Exercise:\n",
    "    name: str = \"Push-ups\"\n",
    "    reps: int = 10\n",
    "    sets: int = 3\n",
    "    weight: float = 0\n",
    "\n",
    "\n",
    "# Now, all fields have defaults\n",
    "ex5 = Exercise()\n",
    "ex5"
   ]
  },
  {
   "cell_type": "markdown",
   "id": "53ab35b2-f735-4412-9c16-a03cc32e8197",
   "metadata": {},
   "source": [
    "Keep in mind that non-default fields can't follow default fields. For example, the below code will throw an error:"
   ]
  },
  {
   "cell_type": "markdown",
   "id": "30eebe7f-b6fb-4799-b5d9-736656e4e3ba",
   "metadata": {},
   "source": [
    "```python\n",
    "@dataclass\n",
    "class Exercise:\n",
    "    name: str = \"Push-ups\"\n",
    "    reps: int = 10\n",
    "    sets: int = 3\n",
    "    weight: float  # NOT ALLOWED\n",
    "\n",
    "\n",
    "ex5 = Exercise()\n",
    "ex5\n",
    "```\n",
    "\n",
    "```\n",
    "TypeError: non-default argument 'weight' follows default argument\n",
    "```"
   ]
  },
  {
   "cell_type": "markdown",
   "id": "18f13412-6c4e-4b1f-89d5-d3de5d5ef49f",
   "metadata": {},
   "source": [
    "In practice, you will rarely define defaults with `name: type = value` syntax. Instead, you will use the `field` function, which allows more control not over just default values but over all fields as well:"
   ]
  },
  {
   "cell_type": "code",
   "execution_count": 13,
   "id": "e871a2b2-dfee-4e5d-bc39-9481a54c892a",
   "metadata": {},
   "outputs": [
    {
     "data": {
      "text/plain": [
       "Exercise(name='Push-up', reps=10, sets=3, weight=0)"
      ]
     },
     "execution_count": 13,
     "metadata": {},
     "output_type": "execute_result"
    }
   ],
   "source": [
    "from dataclasses import field\n",
    "\n",
    "\n",
    "@dataclass\n",
    "class Exercise:\n",
    "    name: str = field(default=\"Push-up\")\n",
    "    reps: int = field(default=10)\n",
    "    sets: int = field(default=3)\n",
    "    weight: float = field(default=0)\n",
    "\n",
    "\n",
    "# Now, all fields have defaults\n",
    "ex5 = Exercise()\n",
    "ex5"
   ]
  },
  {
   "cell_type": "markdown",
   "id": "d1a659da-d93f-4c3e-b116-026bf472fb9c",
   "metadata": {},
   "source": [
    "The `field` function has more parameters such as:\n",
    "- `repr`\n",
    "- `init`\n",
    "- `compare`\n",
    "- `default_factory`\n",
    "\n",
    "and so on. We will discuss these in the coming sections."
   ]
  },
  {
   "cell_type": "markdown",
   "id": "48393a70-6c31-4ff6-a9fc-683e0dbd3568",
   "metadata": {},
   "source": [
    "### Data classes can be created with a function"
   ]
  },
  {
   "cell_type": "markdown",
   "id": "6566e253-b2d8-40ef-83c7-41aed631df95",
   "metadata": {},
   "source": [
    "A final note on the data class basics is that their definition can be even shorter by using the `make_dataclass` function:"
   ]
  },
  {
   "cell_type": "code",
   "execution_count": 14,
   "id": "5815ea0c-5db6-4a28-8a47-7ab8e42ee864",
   "metadata": {},
   "outputs": [
    {
     "data": {
      "text/plain": [
       "Exercise(name='Deadlifts', reps=8, sets=3, weight=69.0)"
      ]
     },
     "execution_count": 14,
     "metadata": {},
     "output_type": "execute_result"
    }
   ],
   "source": [
    "from dataclasses import make_dataclass\n",
    "\n",
    "Exercise = make_dataclass(\n",
    "    \"Exercise\",\n",
    "    [\n",
    "        (\"name\", str),\n",
    "        (\"reps\", int),\n",
    "        (\"sets\", int),\n",
    "        (\"weight\", float),\n",
    "    ],\n",
    ")\n",
    "\n",
    "ex3 = Exercise(\"Deadlifts\", 8, 3, 69.0)\n",
    "ex3"
   ]
  },
  {
   "cell_type": "markdown",
   "id": "593d2ede-6466-4736-8b22-442579209845",
   "metadata": {},
   "source": [
    "But, you will sacrifice readability, so I don't recommend using this function."
   ]
  },
  {
   "cell_type": "markdown",
   "id": "c251e4f1-3438-4083-88b6-88d96e46780a",
   "metadata": {},
   "source": [
    "## Advanced data classes"
   ]
  },
  {
   "cell_type": "markdown",
   "id": "54f01888-a510-42c1-b52e-ca8ada3e7960",
   "metadata": {},
   "source": [
    "In this section, we will discuss advanced features of data classes that bring more benefits. One such feature is a default factory."
   ]
  },
  {
   "cell_type": "markdown",
   "id": "80c80795-20c8-4935-a857-243cefc6cf6d",
   "metadata": {},
   "source": [
    "### Default factories\n",
    "To explain default factories, let's create another class named `WorkoutSession` that accepts two fields:"
   ]
  },
  {
   "cell_type": "code",
   "execution_count": 16,
   "id": "64fe422e-3791-4294-babd-6b5959b4a30e",
   "metadata": {},
   "outputs": [],
   "source": [
    "from dataclasses import dataclass\n",
    "from typing import List\n",
    "\n",
    "\n",
    "@dataclass\n",
    "class Exercise:\n",
    "    name: str = \"Push-ups\"\n",
    "    reps: int = 10\n",
    "    sets: int = 3\n",
    "    weight: float = 0\n",
    "\n",
    "\n",
    "@dataclass\n",
    "class WorkoutSession:\n",
    "    exercises: List[Exercise]\n",
    "    duration_minutes: int"
   ]
  },
  {
   "cell_type": "markdown",
   "id": "0f13f487-8a1e-4e8f-a866-3ecebfdacd6f",
   "metadata": {},
   "source": [
    "By using the `List` type, we are specifying that `WorkoutSession` accepts a list of `Exercise` instances."
   ]
  },
  {
   "cell_type": "code",
   "execution_count": 17,
   "id": "c573a6bc-2932-44ad-80fb-b8734d5654d2",
   "metadata": {},
   "outputs": [],
   "source": [
    "# Define the Exercise instances for HIIT training\n",
    "ex1 = Exercise(name=\"Burpees\", reps=15, sets=3)\n",
    "ex2 = Exercise(name=\"Mountain Climbers\", reps=20, sets=3)\n",
    "ex3 = Exercise(name=\"Jump Squats\", reps=12, sets=3)\n",
    "exercises_monday = [ex1, ex2, ex3]\n",
    "\n",
    "hiit_monday = WorkoutSession(exercises=exercises_monday, duration_minutes=30)"
   ]
  },
  {
   "cell_type": "markdown",
   "id": "beaeb31a-2a96-4aff-8a03-86070405af16",
   "metadata": {},
   "source": [
    "Right now, each session instance requires exercises to be initialized. But this doesn't mirror how people work out - first, they start a session (probably in an app) and then, add exercises as they work out.\n",
    "\n",
    "So, we must be able to create sessions with no exercises and no duration. Let's make this happen by adding an empty list as a default value for `exercises`:"
   ]
  },
  {
   "cell_type": "markdown",
   "id": "2127ed44-4d48-4a9f-8c7d-9fa38c82c4ed",
   "metadata": {},
   "source": [
    "```python\n",
    "@dataclass\n",
    "class WorkoutSession:\n",
    "    exercises: List[Exercise] = []\n",
    "    duration_minutes: int = None\n",
    "\n",
    "\n",
    "hiit_monday = WorkoutSession(\"25-02-2024\")\n",
    "```\n",
    "\n",
    "```python\n",
    "ValueError: mutable default <class 'list'> for field exercises is not allowed: use default_factory\n",
    "```"
   ]
  },
  {
   "cell_type": "markdown",
   "id": "f1d512e4-4cdb-48cd-ad27-83b574a4b6a9",
   "metadata": {},
   "source": [
    "But... we got an error - turns out, data classes don't allow mutable default values on the surface. \n",
    "\n",
    "However, we can fix this by using a default factory:"
   ]
  },
  {
   "cell_type": "code",
   "execution_count": 20,
   "id": "092566ba-6ac7-47d8-af5a-687126674981",
   "metadata": {},
   "outputs": [
    {
     "data": {
      "text/plain": [
       "WorkoutSession(exercises=[], duration_minutes=0)"
      ]
     },
     "execution_count": 20,
     "metadata": {},
     "output_type": "execute_result"
    }
   ],
   "source": [
    "@dataclass\n",
    "class WorkoutSession:\n",
    "    exercises: List[Exercise] = field(default_factory=list)\n",
    "    duration_minutes: int = 0\n",
    "\n",
    "\n",
    "hiit_monday = WorkoutSession()\n",
    "hiit_monday"
   ]
  },
  {
   "cell_type": "markdown",
   "id": "e8dd79f4-3f0b-4fe8-af69-1e4b517fc903",
   "metadata": {},
   "source": [
    "The `default_factory` parameter accepts a function that returns an initial value for a data class field. This means it can accept any arbitrary function:\n",
    "- `tuple`\n",
    "- `dict`\n",
    "- `set`\n",
    "- Any user-defined custom function\n",
    "\n",
    "regardless of whether the result of the function is mutable or not.\n",
    "\n",
    "Now, if we think about it, most people start their training with warm up exercises that are typically similar for any kind of work out. So, initializing sessions with no exercises may not be what some people want. \n",
    "\n",
    "Instead, let's create a function that returns three warm up `Exercise`s:"
   ]
  },
  {
   "cell_type": "code",
   "execution_count": 24,
   "id": "87eb54cc-82b7-4c39-bf27-972c27453e79",
   "metadata": {},
   "outputs": [],
   "source": [
    "def create_warmup():\n",
    "    return [\n",
    "        Exercise(\"Jumping jacks\", 30, 1),\n",
    "        Exercise(\"Squat lunges\", 10, 2),\n",
    "        Exercise(\"High jumps\", 20, 1),\n",
    "    ]"
   ]
  },
  {
   "cell_type": "code",
   "execution_count": 25,
   "id": "776d1240-1c4b-4d23-934f-02923655db96",
   "metadata": {},
   "outputs": [
    {
     "data": {
      "text/plain": [
       "WorkoutSession(exercises=[Exercise(name='Jumping jacks', reps=30, sets=1, weight=0), Exercise(name='Squat lunges', reps=10, sets=2, weight=0), Exercise(name='High jumps', reps=20, sets=1, weight=0)], duration_minutes=5)"
      ]
     },
     "execution_count": 25,
     "metadata": {},
     "output_type": "execute_result"
    }
   ],
   "source": [
    "@dataclass\n",
    "class WorkoutSession:\n",
    "    exercises: List[Exercise] = field(default_factory=create_warmup)\n",
    "    duration_minutes: int = 5  # Increase the default duration as well\n",
    "\n",
    "\n",
    "hiit_monday = WorkoutSession()\n",
    "hiit_monday"
   ]
  },
  {
   "cell_type": "markdown",
   "id": "d011e40b-a1e5-4713-abaf-177311a86665",
   "metadata": {},
   "source": [
    "Now, any time we create a session, they will come with some warm-up exercises already logged. The new version of `WorkoutSession` has five minutes of default duration to account for that. "
   ]
  },
  {
   "cell_type": "markdown",
   "id": "6e7deb0f-d6ef-4f44-b759-917e36c54ef8",
   "metadata": {},
   "source": [
    "### Adding methods to data classes"
   ]
  },
  {
   "cell_type": "markdown",
   "id": "66f471a9-15ec-4470-8622-e870cc5c6d5f",
   "metadata": {},
   "source": [
    "Since data classes are regular classes, adding methods to them is exactly the same. Let's add two methods to our `WorkoutSession` data class:"
   ]
  },
  {
   "cell_type": "code",
   "execution_count": 26,
   "id": "0ecadc90-39c8-44c8-be5d-2292b01df9a3",
   "metadata": {},
   "outputs": [],
   "source": [
    "@dataclass\n",
    "class WorkoutSession:\n",
    "    exercises: List[Exercise] = field(default_factory=create_warmup)\n",
    "    duration_minutes: int = 5\n",
    "\n",
    "    def add_exercise(self, exercise: Exercise):\n",
    "        self.exercises.append(exercise)\n",
    "\n",
    "    def increase_duration(self, minutes: int):\n",
    "        self.duration_minutes += minutes"
   ]
  },
  {
   "cell_type": "markdown",
   "id": "1d13fa3e-6d2c-4ab1-9399-7897949fdd58",
   "metadata": {},
   "source": [
    "Using these methods, we can now log any new activity to a session:"
   ]
  },
  {
   "cell_type": "code",
   "execution_count": 29,
   "id": "e85f6b94-43ba-49a0-89b4-aa8d34e16e52",
   "metadata": {},
   "outputs": [],
   "source": [
    "hiit_monday = WorkoutSession()\n",
    "\n",
    "# Log a new exercise\n",
    "new_exercise = Exercise(\"Deadlifts\", 6, 4, 60)\n",
    "\n",
    "hiit_monday.add_exercise(new_exercise)\n",
    "hiit_monday.increase_duration(15)"
   ]
  },
  {
   "cell_type": "markdown",
   "id": "dc1e56f3-167e-4482-9c8d-139f9eff6173",
   "metadata": {},
   "source": [
    "But, there is a problem:"
   ]
  },
  {
   "cell_type": "code",
   "execution_count": 30,
   "id": "6c234086-c497-46ad-92b6-1fa1a7c9763c",
   "metadata": {},
   "outputs": [
    {
     "data": {
      "text/plain": [
       "WorkoutSession(exercises=[Exercise(name='Jumping jacks', reps=30, sets=1, weight=0), Exercise(name='Squat lunges', reps=10, sets=2, weight=0), Exercise(name='High jumps', reps=20, sets=1, weight=0), Exercise(name='Deadlifts', reps=6, sets=4, weight=60)], duration_minutes=20)"
      ]
     },
     "execution_count": 30,
     "metadata": {},
     "output_type": "execute_result"
    }
   ],
   "source": [
    "hiit_monday"
   ]
  },
  {
   "cell_type": "markdown",
   "id": "f525bf7b-80bf-4f7b-8060-68435e52be0d",
   "metadata": {},
   "source": [
    "When we print the session, its default representation is too verbose and unreadable since it contains the code to recreate the object. Let's fix that."
   ]
  },
  {
   "cell_type": "markdown",
   "id": "f8d38bcf-a150-4c88-95f0-47bdc58c38c1",
   "metadata": {},
   "source": [
    "### `__repr__` and `__str__` in data classes"
   ]
  },
  {
   "cell_type": "markdown",
   "id": "840c836a-14b6-46aa-ac37-6e79608c3d99",
   "metadata": {},
   "source": [
    "Data classes implement `__repr__` automatically but not `__str__`. This makes the class fall back on `__repr__` when we call `print` on it.\n",
    "\n",
    "So, let's override this behavior:"
   ]
  },
  {
   "cell_type": "code",
   "execution_count": 34,
   "id": "95e2fe76-7e78-458e-9261-d11ff9f872bc",
   "metadata": {},
   "outputs": [
    {
     "data": {
      "text/plain": [
       "Exercise(name='Burpees', reps=15, sets=3, weight=0)"
      ]
     },
     "execution_count": 34,
     "metadata": {},
     "output_type": "execute_result"
    }
   ],
   "source": [
    "@dataclass\n",
    "class Exercise:\n",
    "    name: str = \"Push-ups\"\n",
    "    reps: int = 10\n",
    "    sets: int = 3\n",
    "    weight: float = 0\n",
    "\n",
    "    def __str__(self):\n",
    "        base = f\"{self.name}: {self.reps}/{self.sets}\"\n",
    "        if self.weight == 0:\n",
    "            return base\n",
    "        return base + f\", {self.weight} lbs\"\n",
    "\n",
    "\n",
    "ex1 = Exercise(name=\"Burpees\", reps=15, sets=3)\n",
    "ex1"
   ]
  },
  {
   "cell_type": "markdown",
   "id": "3d89ae16-84f1-4683-9f59-91e12d71bb2f",
   "metadata": {},
   "source": [
    "The `__repr__` is still the same but:"
   ]
  },
  {
   "cell_type": "code",
   "execution_count": 35,
   "id": "8a2875b5-b4d9-4ab3-9807-801eda0f5165",
   "metadata": {},
   "outputs": [
    {
     "name": "stdout",
     "output_type": "stream",
     "text": [
      "Burpees: 15/3\n"
     ]
    }
   ],
   "source": [
    "print(ex1)"
   ]
  },
  {
   "cell_type": "markdown",
   "id": "ba58acb5-50f6-487f-88f2-8dfc7ecb0cf5",
   "metadata": {},
   "source": [
    "The class' spring representation is much nicer. Now, let's fix `WorkoutSession` as well:"
   ]
  },
  {
   "cell_type": "code",
   "execution_count": 33,
   "id": "dbf3c0db-004a-4722-902d-1b3521bb55f8",
   "metadata": {},
   "outputs": [
    {
     "name": "stdout",
     "output_type": "stream",
     "text": [
      "Jumping jacks: 30/1\n",
      "Squat lunges: 10/2\n",
      "High jumps: 20/1\n",
      "\n",
      "Session duration: 5 minutes.\n"
     ]
    }
   ],
   "source": [
    "@dataclass\n",
    "class WorkoutSession:\n",
    "    exercises: List[Exercise] = field(default_factory=create_warmup)\n",
    "    duration_minutes: int = 5  # Increase the default duration as well\n",
    "\n",
    "    def add_exercise(self, exercise: Exercise):\n",
    "        self.exercises.append(exercise)\n",
    "\n",
    "    def increase_duration(self, minutes: int):\n",
    "        self.duration_minutes += minutes\n",
    "\n",
    "    def __str__(self):\n",
    "        base = \"\"\n",
    "\n",
    "        for ex in self.exercises:\n",
    "            base += str(ex) + \"\\n\"\n",
    "        base += f\"\\nSession duration: {self.duration_minutes} minutes.\"\n",
    "\n",
    "        return base\n",
    "\n",
    "\n",
    "hiit_monday = WorkoutSession()\n",
    "print(hiit_monday)"
   ]
  },
  {
   "cell_type": "markdown",
   "id": "25dac239-9a0c-433d-8f19-568396dffbcc",
   "metadata": {},
   "source": [
    "> Note: Use the \"Explain code\" button at the bottom of the snippet to get a line-by-line explanation of the code."
   ]
  },
  {
   "cell_type": "markdown",
   "id": "5a214693-b7c6-44c0-8991-a72e94b493a7",
   "metadata": {},
   "source": [
    "Now, we have got a readable and compact output."
   ]
  },
  {
   "cell_type": "markdown",
   "id": "0643b50d-2eaa-4983-ba91-2be887e187f9",
   "metadata": {},
   "source": [
    "### Comparison in data classes"
   ]
  },
  {
   "cell_type": "markdown",
   "id": "d57a5a4a-7bc6-4527-8ba8-35edc870c326",
   "metadata": {},
   "source": [
    "For many classes, it makes sense to compare their objects by some logic. For workouts, it can be the workout duration, the exercise intensity or the weight. \n",
    "\n",
    "First, let's see what happens if we try to compare two workouts in the current state:"
   ]
  },
  {
   "cell_type": "code",
   "execution_count": 36,
   "id": "a5798bc6-38c7-469b-ab7a-23ec3b708e47",
   "metadata": {},
   "outputs": [
    {
     "name": "stdout",
     "output_type": "stream",
     "text": [
      "Jumping jacks: 30/1\n",
      "Squat lunges: 10/2\n",
      "High jumps: 20/1\n",
      "Pull-ups: 7/3\n",
      "\n",
      "Session duration: 5 minutes.\n"
     ]
    }
   ],
   "source": [
    "hiit_wednesday = WorkoutSession()\n",
    "\n",
    "hiit_wednesday.add_exercise(Exercise(\"Pull-ups\", 7, 3))\n",
    "print(hiit_wednesday)"
   ]
  },
  {
   "cell_type": "code",
   "execution_count": 37,
   "id": "e0a7d463-983e-4326-bdcc-5a56b3506952",
   "metadata": {},
   "outputs": [
    {
     "ename": "TypeError",
     "evalue": "'>' not supported between instances of 'WorkoutSession' and 'WorkoutSession'",
     "output_type": "error",
     "traceback": [
      "\u001b[0;31m---------------------------------------------------------------------------\u001b[0m",
      "\u001b[0;31mTypeError\u001b[0m                                 Traceback (most recent call last)",
      "Cell \u001b[0;32mIn[37], line 1\u001b[0m\n\u001b[0;32m----> 1\u001b[0m \u001b[43mhiit_monday\u001b[49m\u001b[43m \u001b[49m\u001b[38;5;241;43m>\u001b[39;49m\u001b[43m \u001b[49m\u001b[43mhiit_wednesday\u001b[49m\n",
      "\u001b[0;31mTypeError\u001b[0m: '>' not supported between instances of 'WorkoutSession' and 'WorkoutSession'"
     ]
    }
   ],
   "source": [
    "hiit_monday > hiit_wednesday"
   ]
  },
  {
   "cell_type": "markdown",
   "id": "093bd105-f6f8-4186-af29-f8f10e54fadd",
   "metadata": {},
   "source": [
    "We receive a `TypeError` as data classes don't implement comparison operators. But this is easily fixable by setting the `order` parameter to `True`:"
   ]
  },
  {
   "cell_type": "code",
   "execution_count": 39,
   "id": "af3de9e8-ad93-4292-a5e1-2d1766460b03",
   "metadata": {},
   "outputs": [],
   "source": [
    "@dataclass(order=True)\n",
    "class WorkoutSession:\n",
    "    exercises: List[Exercise] = field(default_factory=create_warmup)\n",
    "    duration_minutes: int = 5\n",
    "\n",
    "    def add_exercise(self, exercise: Exercise):\n",
    "        self.exercises.append(exercise)\n",
    "\n",
    "    def increase_duration(self, minutes: int):\n",
    "        self.duration_minutes += minutes\n",
    "\n",
    "    def __str__(self):\n",
    "        base = \"\"\n",
    "\n",
    "        for ex in self.exercises:\n",
    "            base += str(ex) + \"\\n\"\n",
    "        base += f\"\\nSession duration: {self.duration_minutes} minutes.\"\n",
    "\n",
    "        return base"
   ]
  },
  {
   "cell_type": "code",
   "execution_count": 40,
   "id": "04b26ae5-3503-464a-9a2b-7c437bd060ae",
   "metadata": {},
   "outputs": [
    {
     "data": {
      "text/plain": [
       "True"
      ]
     },
     "execution_count": 40,
     "metadata": {},
     "output_type": "execute_result"
    }
   ],
   "source": [
    "hiit_monday = WorkoutSession()\n",
    "# hiit_monday.add_exercise(...)\n",
    "hiit_monday.increase_duration(10)\n",
    "\n",
    "hiit_wednesday = WorkoutSession()\n",
    "\n",
    "hiit_monday > hiit_wednesday"
   ]
  },
  {
   "cell_type": "markdown",
   "id": "e5008bcb-94c2-4e2c-94ce-f96e29bb41cd",
   "metadata": {},
   "source": [
    "This time, comparison works but, what are we even comparing? \n",
    "\n",
    "In data classes, comparison is performed in the order the fields are defined. Right now, the classes are compared based on work out duration since the first field, `exercises`, contain non-standard objects.\n",
    "\n",
    "We can verify this by increasing the duration of the Wednesday session:"
   ]
  },
  {
   "cell_type": "code",
   "execution_count": 42,
   "id": "ad89447c-b708-4118-b082-42741e0f628f",
   "metadata": {},
   "outputs": [
    {
     "data": {
      "text/plain": [
       "False"
      ]
     },
     "execution_count": 42,
     "metadata": {},
     "output_type": "execute_result"
    }
   ],
   "source": [
    "hiit_monday = WorkoutSession()\n",
    "# hiit_monday.add_exercise(...)\n",
    "\n",
    "hiit_wednesday = WorkoutSession()\n",
    "hiit_wednesday.increase_duration(10)\n",
    "\n",
    "hiit_monday > hiit_wednesday"
   ]
  },
  {
   "cell_type": "markdown",
   "id": "3fab2140-469f-48a9-8e71-eb4c2b549ddd",
   "metadata": {},
   "source": [
    "As expected, we received `False`. \n",
    "\n",
    "But, what would happen if the first field of `Workout` was another type of field, say, a string? Let's try and find out:"
   ]
  },
  {
   "cell_type": "code",
   "execution_count": 45,
   "id": "40c21978-c665-461e-8f34-5e6aa5e257a8",
   "metadata": {},
   "outputs": [],
   "source": [
    "@dataclass(order=True)\n",
    "class WorkoutSession:\n",
    "    date: str = None  # DD-MM-YYYY\n",
    "    exercises: List[Exercise] = field(default_factory=create_warmup)\n",
    "    duration_minutes: int = 5\n",
    "\n",
    "    def add_exercise(self, exercise: Exercise):\n",
    "        self.exercises.append(exercise)\n",
    "\n",
    "    def increase_duration(self, minutes: int):\n",
    "        self.duration_minutes += minutes\n",
    "\n",
    "    def __str__(self):\n",
    "        base = \"\"\n",
    "\n",
    "        for ex in self.exercises:\n",
    "            base += str(ex) + \"\\n\"\n",
    "        base += f\"\\nSession duration: {self.duration_minutes} minutes.\"\n",
    "\n",
    "        return base"
   ]
  },
  {
   "cell_type": "code",
   "execution_count": 47,
   "id": "ec4d8621-5143-40ff-900f-34d5accd8a05",
   "metadata": {},
   "outputs": [
    {
     "data": {
      "text/plain": [
       "False"
      ]
     },
     "execution_count": 47,
     "metadata": {},
     "output_type": "execute_result"
    }
   ],
   "source": [
    "hiit_monday = WorkoutSession(\"25-02-2024\")\n",
    "hiit_monday.increase_duration(10)\n",
    "\n",
    "hiit_wednesday = WorkoutSession(\"27-02-2024\")\n",
    "\n",
    "hiit_monday > hiit_wednesday"
   ]
  },
  {
   "cell_type": "markdown",
   "id": "4f4bf1d8-222a-46fa-bacd-cdeb446401a8",
   "metadata": {},
   "source": [
    "Even though the Monday session lasts longer, the comparison is telling us that it is smaller than Wednesday. The reason is that \"25\" comes before \"27\" in Python string comparison. \n",
    "\n",
    "So, how do we keep the order of the fields and still sort sessions based on the workout duration. This is easy through the `field` function:"
   ]
  },
  {
   "cell_type": "code",
   "execution_count": 49,
   "id": "e9a8dc8d-ae17-420d-b56d-310286a54825",
   "metadata": {},
   "outputs": [],
   "source": [
    "@dataclass(order=True)\n",
    "class WorkoutSession:\n",
    "    date: str = field(default=None, compare=False)\n",
    "    exercises: List[Exercise] = field(default_factory=create_warmup)\n",
    "    duration_minutes: int = 5\n",
    "\n",
    "    def add_exercise(self, exercise: Exercise):\n",
    "        self.exercises.append(exercise)\n",
    "\n",
    "    def increase_duration(self, minutes: int):\n",
    "        self.duration_minutes += minutes\n",
    "\n",
    "    def __str__(self):\n",
    "        base = \"\"\n",
    "\n",
    "        for ex in self.exercises:\n",
    "            base += str(ex) + \"\\n\"\n",
    "        base += f\"\\nSession duration: {self.duration_minutes} minutes.\"\n",
    "\n",
    "        return base"
   ]
  },
  {
   "cell_type": "code",
   "execution_count": 50,
   "id": "391f7bcb-79ff-488d-bfe2-087806ad4208",
   "metadata": {},
   "outputs": [
    {
     "data": {
      "text/plain": [
       "True"
      ]
     },
     "execution_count": 50,
     "metadata": {},
     "output_type": "execute_result"
    }
   ],
   "source": [
    "hiit_monday = WorkoutSession(\"25-02-2024\")\n",
    "hiit_monday.increase_duration(10)\n",
    "\n",
    "hiit_wednesday = WorkoutSession(\"27-02-2024\")\n",
    "\n",
    "hiit_monday > hiit_wednesday"
   ]
  },
  {
   "cell_type": "markdown",
   "id": "572a8f43-154a-4868-8927-f6c58259338d",
   "metadata": {},
   "source": [
    "By setting `compare` to `False` for any field, we exclude it from sorting, as evidenced by the above result."
   ]
  },
  {
   "cell_type": "markdown",
   "id": "0150ae44-8263-41fb-92e8-2072a41c369b",
   "metadata": {},
   "source": [
    "## Post-init field manipulation"
   ]
  },
  {
   "cell_type": "markdown",
   "id": "0a741e49-9c7f-41ce-a435-139eea486b00",
   "metadata": {},
   "source": [
    "Right now, we have a default session duration of five minutes to account for warm-up exercises. However, this only makes sense if a user starts a session with warm-up. What if they start a session with other exercises:"
   ]
  },
  {
   "cell_type": "code",
   "execution_count": 55,
   "id": "16f9f2f7-e2b6-464e-9f23-4f4748f3423b",
   "metadata": {},
   "outputs": [
    {
     "data": {
      "text/plain": [
       "5"
      ]
     },
     "execution_count": 55,
     "metadata": {},
     "output_type": "execute_result"
    }
   ],
   "source": [
    "new_session = WorkoutSession([Exercise(\"Diamond push-ups\", 10, 3)])\n",
    "\n",
    "new_session.duration_minutes"
   ]
  },
  {
   "cell_type": "markdown",
   "id": "3a042584-c2cd-4b55-9974-52f985b970c9",
   "metadata": {},
   "source": [
    "For just a single exercise, the total duration is five, which is illogical. Each session must dynamically guess its duration based on the number of sets of each exercises. This means we should make `duration_minutes` dependent on the `exercises` field.\n",
    "\n",
    "Let's implement it:"
   ]
  },
  {
   "cell_type": "code",
   "execution_count": 56,
   "id": "8e848d84-65b4-40e5-99d4-dfd18d972f83",
   "metadata": {},
   "outputs": [],
   "source": [
    "@dataclass\n",
    "class WorkoutSession:\n",
    "    exercises: List[Exercise] = field(default_factory=create_warmup)\n",
    "    duration_minutes: int = field(default=0, init=False)\n",
    "\n",
    "    def __post_init__(self):\n",
    "        set_duration = 3\n",
    "        for ex in self.exercises:\n",
    "            self.duration_minutes += ex.sets * set_duration\n",
    "\n",
    "    def add_exercise(self, exercise: Exercise):\n",
    "        self.exercises.append(exercise)\n",
    "\n",
    "    def increase_duration(self, minutes: int):\n",
    "        self.duration_minutes += minutes\n",
    "\n",
    "    def __str__(self):\n",
    "        base = \"\"\n",
    "\n",
    "        for ex in self.exercises:\n",
    "            base += str(ex) + \"\\n\"\n",
    "        base += f\"\\nSession duration: {self.duration_minutes} minutes.\"\n",
    "\n",
    "        return base"
   ]
  },
  {
   "cell_type": "markdown",
   "id": "6ea5c58b-4c99-4da4-9a41-90dc83b64d71",
   "metadata": {},
   "source": [
    "This time, we are defining `duration_minutes` with `init` set to `False` to delay the field's initialization. Then, inside a special method `__post_init__`, we are updating its value based on the total number of sets in each `Exercise`. \n",
    "\n",
    "Now, when we initialize `WorkoutSession`, the `duration_minutes` is dynamically increased by three minutes for each set in each exercise. "
   ]
  },
  {
   "cell_type": "code",
   "execution_count": 60,
   "id": "26d97944-fe14-49bb-8393-e2bffddc8955",
   "metadata": {},
   "outputs": [
    {
     "data": {
      "text/plain": [
       "9"
      ]
     },
     "execution_count": 60,
     "metadata": {},
     "output_type": "execute_result"
    }
   ],
   "source": [
    "# Adding an exercise with three sets\n",
    "hiit_friday = WorkoutSession([Exercise(\"Diamond push-ups\", 10, 3)])\n",
    "\n",
    "hiit_friday.duration_minutes"
   ]
  },
  {
   "cell_type": "markdown",
   "id": "5e235791-a57b-471e-a13e-f071751fd3e6",
   "metadata": {},
   "source": [
    "In general, if you want to define a field that depends on other fields of your data class, you can use the `__post_init__` logic."
   ]
  },
  {
   "cell_type": "markdown",
   "id": "313c3728-47f2-4cc1-a718-368ceed4baec",
   "metadata": {},
   "source": [
    "## Immutability in data classes"
   ]
  },
  {
   "cell_type": "code",
   "execution_count": null,
   "id": "f8694704-6bb7-4093-89aa-1f312f050576",
   "metadata": {},
   "outputs": [],
   "source": [
    "@dataclass(frozen=True)\n",
    "class FrozenExercise:\n",
    "    name: str\n",
    "    reps: int\n",
    "    sets: int\n",
    "    weight: int | float = 0\n",
    "\n",
    "\n",
    "ex1 = FrozenExercise(\"Muscle-ups\", 5, 3)\n",
    "ex1.sets"
   ]
  },
  {
   "cell_type": "code",
   "execution_count": null,
   "id": "79b7ad80-32ce-4117-94e8-754d7672da63",
   "metadata": {},
   "outputs": [],
   "source": [
    "ex1.sets = 5"
   ]
  },
  {
   "cell_type": "code",
   "execution_count": null,
   "id": "82282212-e4ed-4cdb-82b0-59543540a2fe",
   "metadata": {},
   "outputs": [],
   "source": [
    "ex1.new_field = 10"
   ]
  },
  {
   "cell_type": "code",
   "execution_count": null,
   "id": "c79ff40f-68f4-4a0d-968e-a06fa7c71ff1",
   "metadata": {},
   "outputs": [],
   "source": [
    "@dataclass(frozen=True)\n",
    "class ImmutableWorkoutSession:\n",
    "    exercises: List[Exercise] = field(default_factory=create_warmup)\n",
    "    duration_minutes: int = 5\n",
    "\n",
    "\n",
    "session1 = ImmutableWorkoutSession()"
   ]
  },
  {
   "cell_type": "code",
   "execution_count": null,
   "id": "f77aacbb-011c-4287-9f86-864b2469ece4",
   "metadata": {},
   "outputs": [],
   "source": [
    "session1.exercises = exercises_monday"
   ]
  },
  {
   "cell_type": "code",
   "execution_count": null,
   "id": "814ad2ea-56c8-4280-aae3-5627e50c5a22",
   "metadata": {},
   "outputs": [],
   "source": [
    "session1.exercises[1] = FrozenExercise(\"Totally new exercise\", 5, 5)\n",
    "\n",
    "print(session1)"
   ]
  },
  {
   "cell_type": "code",
   "execution_count": null,
   "id": "114beb4d-9486-459b-b969-39a3f6fc06c7",
   "metadata": {},
   "outputs": [],
   "source": []
  },
  {
   "cell_type": "markdown",
   "id": "2621f4ea-5ce2-4526-881a-7cb1b9cce7cf",
   "metadata": {},
   "source": [
    "## Inheritance in data classes"
   ]
  },
  {
   "cell_type": "markdown",
   "id": "35229560-b11b-4eab-8d42-ff657d0201e0",
   "metadata": {},
   "source": [
    "1. Inheritance works like always\n",
    "2. Just make sure non-default arguments don't follow defaults"
   ]
  },
  {
   "cell_type": "code",
   "execution_count": null,
   "id": "b9510457-5ac8-4a71-8346-8102f2c745c3",
   "metadata": {},
   "outputs": [],
   "source": [
    "@dataclass(frozen=True)\n",
    "class ImmutableWorkoutSession:\n",
    "    exercises: List[Exercise] = field(default_factory=create_warmup)\n",
    "    duration_minutes: int = 5\n",
    "\n",
    "\n",
    "@dataclass(frozen=True)\n",
    "class CardioWorkoutSession(ImmutableWorkoutSession):\n",
    "    intensity_level: str  # Not allowed, must have a default"
   ]
  },
  {
   "cell_type": "markdown",
   "id": "55d1acd7-5d13-4457-8ba9-b0896558061e",
   "metadata": {},
   "source": [
    "## Conclusion and further resources"
   ]
  }
 ],
 "metadata": {
  "kernelspec": {
   "display_name": "articles",
   "language": "python",
   "name": "articles"
  },
  "language_info": {
   "codemirror_mode": {
    "name": "ipython",
    "version": 3
   },
   "file_extension": ".py",
   "mimetype": "text/x-python",
   "name": "python",
   "nbconvert_exporter": "python",
   "pygments_lexer": "ipython3",
   "version": "3.10.8"
  },
  "widgets": {
   "application/vnd.jupyter.widget-state+json": {
    "state": {},
    "version_major": 2,
    "version_minor": 0
   }
  }
 },
 "nbformat": 4,
 "nbformat_minor": 5
}
