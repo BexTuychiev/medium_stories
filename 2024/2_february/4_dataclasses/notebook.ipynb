{
 "cells": [
  {
   "cell_type": "markdown",
   "id": "0e4fb035-7903-43d0-9405-190cc21af28d",
   "metadata": {},
   "source": [
    "# Python Data Classes Tutorial: N Things You Must Learn About Data Classes"
   ]
  },
  {
   "cell_type": "markdown",
   "id": "bf411425-a879-4ab7-a679-7c2022e67bbf",
   "metadata": {},
   "source": [
    "## Why learn about data classes?"
   ]
  },
  {
   "cell_type": "markdown",
   "id": "725aa796-a2ff-48fd-9b32-d627f2474b66",
   "metadata": {},
   "source": [
    "Data classes are one of the features of Python that after you discover them, you are never going back to the old way. Consider this regular class:"
   ]
  },
  {
   "cell_type": "code",
   "execution_count": 1,
   "id": "20be222f-b8cb-4a57-95b3-e98009161630",
   "metadata": {},
   "outputs": [],
   "source": [
    "class Exercise:\n",
    "    def __init__(self, name, reps, sets, weight):\n",
    "        self.name = name\n",
    "        self.reps = reps\n",
    "        self.sets = sets\n",
    "        self.weight = weight"
   ]
  },
  {
   "cell_type": "markdown",
   "id": "a12151ca-f00f-434c-a23e-27d9cad50397",
   "metadata": {},
   "source": [
    "To me, that class definition is very inefficient - in the `__init__` method, you repeat each parameter at least three times. This may not sound like a big deal but think about how often you write classes in your lifetime with much more parameters. \n",
    "\n",
    "In comparison, take a look at the data classes alternative of the above code:"
   ]
  },
  {
   "cell_type": "code",
   "execution_count": 1,
   "id": "142dbf76-5923-4fd7-b8a8-ccf562fa66f2",
   "metadata": {},
   "outputs": [],
   "source": [
    "from dataclasses import dataclass\n",
    "\n",
    "\n",
    "@dataclass\n",
    "class Exercise:\n",
    "    name: str\n",
    "    reps: int\n",
    "    sets: int\n",
    "    weight: float  # Weight in lbs"
   ]
  },
  {
   "cell_type": "markdown",
   "id": "8e4bd313-4f05-4270-9a6a-725cef0c361e",
   "metadata": {},
   "source": [
    "This modest-looking piece of code is orders of magnitude better than a regular class. The tiny `@dataclass` decorator is implementing `__init__`, `__repr__`, `__eq__` classes behind the scenes, which would have taken at least 20 lines of code manually. Besides, many other features such as comparison operators, object ordering and immutability are all a single line away from being magically created for our class.\n",
    "\n",
    "So, the purpose of this tutorial is to show you why data classes are the best thing to happen to Python if you love object-oriented programming. \n",
    "\n",
    "Let's get started!"
   ]
  },
  {
   "cell_type": "markdown",
   "id": "dfe8cc30-0743-4f95-880a-a89f0fdc8cd2",
   "metadata": {},
   "source": [
    "## Basics of data classes\n",
    "\n",
    "1. Defining data classes\n",
    "2. Mentioning the automatically-generated functions\n",
    "3. Mentioning that type hints are required but not actually enforced\n",
    "4. Accepts any type from typing module\n",
    "5. Create data classes on the fly with `make_dataclass`\n",
    "6. Default values can be easily added\n",
    "7. Default values must come after non-defaults"
   ]
  },
  {
   "cell_type": "markdown",
   "id": "da335326-8e81-43c7-a410-76891eb8060f",
   "metadata": {},
   "source": [
    "1. Defining data classes"
   ]
  },
  {
   "cell_type": "code",
   "execution_count": null,
   "id": "254b4b16-00de-4987-b022-f88700d1f23f",
   "metadata": {},
   "outputs": [],
   "source": [
    "from dataclasses import dataclass\n",
    "\n",
    "\n",
    "@dataclass\n",
    "class Exercise:\n",
    "    name: str\n",
    "    reps: int\n",
    "    sets: int\n",
    "    weight: float\n",
    "\n",
    "\n",
    "ex1 = Exercise(\"Bench press\", 10, 3, 52.5)"
   ]
  },
  {
   "cell_type": "markdown",
   "id": "3c5d54e5-9802-41e7-bfbb-3c25002dc8c8",
   "metadata": {},
   "source": [
    "2. Mentioning the automatically-generated functions"
   ]
  },
  {
   "cell_type": "code",
   "execution_count": null,
   "id": "ee1a316f-0370-4971-ba9c-0c1b2339c278",
   "metadata": {},
   "outputs": [],
   "source": [
    "ex1"
   ]
  },
  {
   "cell_type": "code",
   "execution_count": null,
   "id": "3ea34c7b-75c4-4787-b683-bca73838f02a",
   "metadata": {},
   "outputs": [],
   "source": [
    "class Exercise:\n",
    "    def __init__(self, name, reps, sets, weight):\n",
    "        self.name = name\n",
    "        self.reps = reps\n",
    "        self.sets = sets\n",
    "        self.weight = weight\n",
    "\n",
    "\n",
    "ex3 = Exercise(\"Bench press\", 10, 3, 52.5)\n",
    "\n",
    "ex3"
   ]
  },
  {
   "cell_type": "code",
   "execution_count": null,
   "id": "11436bec-2a47-4cff-8247-fb6c03a62d42",
   "metadata": {},
   "outputs": [],
   "source": [
    "ex2 = Exercise(\"Bench press\", 10, 3, 52.5)"
   ]
  },
  {
   "cell_type": "code",
   "execution_count": null,
   "id": "ddf8d08f-185b-4c6c-ba16-38940e504b2f",
   "metadata": {},
   "outputs": [],
   "source": [
    "ex1 == ex1"
   ]
  },
  {
   "cell_type": "code",
   "execution_count": null,
   "id": "287ae1ec-c97f-4515-8ece-ab516b30a2e6",
   "metadata": {},
   "outputs": [],
   "source": [
    "ex1 == ex2"
   ]
  },
  {
   "cell_type": "code",
   "execution_count": 83,
   "id": "ada60a4d-0699-45bc-8a8e-037f3eb12dff",
   "metadata": {},
   "outputs": [],
   "source": [
    "from typing import Any\n",
    "\n",
    "\n",
    "@dataclass\n",
    "class Dummy:\n",
    "    attr: Any"
   ]
  },
  {
   "cell_type": "code",
   "execution_count": null,
   "id": "9408773a-728f-46f9-bcb0-6a2c3218e067",
   "metadata": {},
   "outputs": [],
   "source": [
    "silly_exercise = Exercise(\"Bench press\", \"ten\", \"three sets\", 52.5)\n",
    "\n",
    "silly_exercise.sets"
   ]
  },
  {
   "cell_type": "code",
   "execution_count": null,
   "id": "5815ea0c-5db6-4a28-8a47-7ab8e42ee864",
   "metadata": {},
   "outputs": [],
   "source": [
    "from dataclasses import make_dataclass\n",
    "\n",
    "Exercise = make_dataclass(\n",
    "    \"Exercise\",\n",
    "    [\n",
    "        (\"name\", str),\n",
    "        (\"reps\", int),\n",
    "        (\"sets\", int),\n",
    "        (\"weight\", float),\n",
    "    ],\n",
    ")\n",
    "\n",
    "ex3 = Exercise(\"Deadlifts\", 8, 3, 69.0)\n",
    "ex3"
   ]
  },
  {
   "cell_type": "code",
   "execution_count": null,
   "id": "32f4f3e5-dda0-44bf-b39d-7fea4415ef2d",
   "metadata": {},
   "outputs": [],
   "source": [
    "@dataclass\n",
    "class Exercise:\n",
    "    name: str = \"Push-ups\"\n",
    "    reps: int = 10\n",
    "    sets: int = 3\n",
    "    weight: float = 0\n",
    "\n",
    "\n",
    "ex5 = Exercise()\n",
    "ex5"
   ]
  },
  {
   "cell_type": "markdown",
   "id": "d93274bc-8266-4ca4-8275-ac92f76b211e",
   "metadata": {},
   "source": [
    "Add field intro here, with metadata also introduced"
   ]
  },
  {
   "cell_type": "code",
   "execution_count": null,
   "id": "4f75438a-5d15-4b31-ac8b-45c37d24aed8",
   "metadata": {},
   "outputs": [],
   "source": [
    "@dataclass\n",
    "class Exercise:\n",
    "    name: str = \"Push-ups\"\n",
    "    reps: int = 10\n",
    "    sets: int = 3\n",
    "    weight: float  # NOT ALLOWED\n",
    "\n",
    "\n",
    "ex5 = Exercise()\n",
    "ex5"
   ]
  },
  {
   "cell_type": "markdown",
   "id": "c251e4f1-3438-4083-88b6-88d96e46780a",
   "metadata": {},
   "source": [
    "## Flexibility in data classes"
   ]
  },
  {
   "cell_type": "markdown",
   "id": "80c80795-20c8-4935-a857-243cefc6cf6d",
   "metadata": {},
   "source": [
    "### Default factories\n",
    "1. Show how to handle immutable default values of fields\n",
    "\n"
   ]
  },
  {
   "cell_type": "code",
   "execution_count": null,
   "id": "64fe422e-3791-4294-babd-6b5959b4a30e",
   "metadata": {},
   "outputs": [],
   "source": [
    "from dataclasses import dataclass\n",
    "from typing import List\n",
    "\n",
    "\n",
    "@dataclass\n",
    "class Exercise:\n",
    "    name: str = \"Push-ups\"\n",
    "    reps: int = 10\n",
    "    sets: int = 3\n",
    "    weight: float = 0\n",
    "\n",
    "\n",
    "@dataclass\n",
    "class WorkoutSession:\n",
    "    exercises: List[Exercise]\n",
    "    duration_minutes: int"
   ]
  },
  {
   "cell_type": "code",
   "execution_count": null,
   "id": "c573a6bc-2932-44ad-80fb-b8734d5654d2",
   "metadata": {},
   "outputs": [],
   "source": [
    "# Define the Exercise instances for HIIT training\n",
    "ex1 = Exercise(name=\"Burpees\", reps=15, sets=3)\n",
    "ex2 = Exercise(name=\"Mountain Climbers\", reps=20, sets=3)\n",
    "ex3 = Exercise(name=\"Jump Squats\", reps=12, sets=3)\n",
    "exercises_monday = [ex1, ex2, ex3]\n",
    "\n",
    "hiit_monday = WorkoutSession(exercises=exercises_monday, duration_minutes=30)"
   ]
  },
  {
   "cell_type": "markdown",
   "id": "2127ed44-4d48-4a9f-8c7d-9fa38c82c4ed",
   "metadata": {},
   "source": [
    "```python\n",
    "@dataclass\n",
    "class WorkoutSession:\n",
    "    exercises: List[Exercise] = []\n",
    "    duration_minutes: int = None\n",
    "\n",
    "\n",
    "hiit_monday = WorkoutSession(\"25-02-2024\")\n",
    "```\n",
    "\n",
    "```python\n",
    "ValueError: mutable default <class 'list'> for field exercises is not allowed: use default_factory\n",
    "```"
   ]
  },
  {
   "cell_type": "code",
   "execution_count": null,
   "id": "092566ba-6ac7-47d8-af5a-687126674981",
   "metadata": {},
   "outputs": [],
   "source": [
    "@dataclass\n",
    "class WorkoutSession:\n",
    "    exercises: List[Exercise] = field(default_factory=list)\n",
    "    duration_minutes: int = 0\n",
    "\n",
    "\n",
    "hiit_monday = WorkoutSession()"
   ]
  },
  {
   "cell_type": "code",
   "execution_count": null,
   "id": "65d4e9dc-39c3-44b7-ad88-58534f652d11",
   "metadata": {},
   "outputs": [],
   "source": [
    "@dataclass\n",
    "class WorkoutSession:\n",
    "    exercises: List[Exercise] = field(default_factory=list)\n",
    "    duration_minutes: int = 0\n",
    "\n",
    "    def add_exercise(self, exercise: Exercise):\n",
    "        self.exercises.append(exercise)\n",
    "\n",
    "    def increase_duration(self, minutes: int):\n",
    "        self.duration_minutes += minutes\n",
    "\n",
    "\n",
    "hiit_monday = WorkoutSession()"
   ]
  },
  {
   "cell_type": "code",
   "execution_count": null,
   "id": "2f3a0a06-886e-452f-809e-a98544ad2b78",
   "metadata": {},
   "outputs": [],
   "source": [
    "# Add burpees\n",
    "hiit_monday.add_exercise(ex1)\n",
    "hiit_monday.increase_duration(10)\n",
    "\n",
    "# Print the session\n",
    "print(hiit_monday)"
   ]
  },
  {
   "cell_type": "code",
   "execution_count": null,
   "id": "87eb54cc-82b7-4c39-bf27-972c27453e79",
   "metadata": {},
   "outputs": [],
   "source": [
    "def create_warmup():\n",
    "    return [\n",
    "        Exercise(\"Jumping jacks\", 30, 1),\n",
    "        Exercise(\"Squat lunges\", 10, 2),\n",
    "        Exercise(\"High jumps\", 20, 1),\n",
    "    ]"
   ]
  },
  {
   "cell_type": "code",
   "execution_count": null,
   "id": "776d1240-1c4b-4d23-934f-02923655db96",
   "metadata": {},
   "outputs": [],
   "source": [
    "@dataclass\n",
    "class WorkoutSession:\n",
    "    exercises: List[Exercise] = field(default_factory=create_warmup)\n",
    "    duration_minutes: int = 5  # Increase the default duration as well\n",
    "\n",
    "    def add_exercise(self, exercise: Exercise):\n",
    "        self.exercises.append(exercise)\n",
    "\n",
    "    def increase_duration(self, minutes: int):\n",
    "        self.duration_minutes += minutes\n",
    "\n",
    "\n",
    "hiit_monday = WorkoutSession()\n",
    "hiit_monday"
   ]
  },
  {
   "cell_type": "code",
   "execution_count": null,
   "id": "e85f6b94-43ba-49a0-89b4-aa8d34e16e52",
   "metadata": {},
   "outputs": [],
   "source": [
    "hiit_monday.add_exercise(exercises_monday)\n",
    "\n",
    "hiit_monday  # Too verbose"
   ]
  },
  {
   "cell_type": "markdown",
   "id": "f8d38bcf-a150-4c88-95f0-47bdc58c38c1",
   "metadata": {},
   "source": [
    "### `__repr__` and `__str__` in data classes\n",
    "1. Show how to override `__str__` in data classes\n",
    "\n"
   ]
  },
  {
   "cell_type": "code",
   "execution_count": null,
   "id": "95e2fe76-7e78-458e-9261-d11ff9f872bc",
   "metadata": {},
   "outputs": [],
   "source": [
    "@dataclass\n",
    "class Exercise:\n",
    "    name: str = \"Push-ups\"\n",
    "    reps: int = 10\n",
    "    sets: int = 3\n",
    "    weight: float = 0\n",
    "\n",
    "    def __str__(self):\n",
    "        base = f\"{self.name}: {self.reps}/{self.sets}\"\n",
    "        if self.weight == 0:\n",
    "            return base\n",
    "        return base + f\", {self.weight} lbs\"\n",
    "\n",
    "\n",
    "ex1 = Exercise(name=\"Burpees\", reps=15, sets=3)\n",
    "ex1"
   ]
  },
  {
   "cell_type": "code",
   "execution_count": null,
   "id": "8a2875b5-b4d9-4ab3-9807-801eda0f5165",
   "metadata": {},
   "outputs": [],
   "source": [
    "print(ex1)"
   ]
  },
  {
   "cell_type": "code",
   "execution_count": null,
   "id": "dbf3c0db-004a-4722-902d-1b3521bb55f8",
   "metadata": {},
   "outputs": [],
   "source": [
    "@dataclass\n",
    "class WorkoutSession:\n",
    "    exercises: List[Exercise] = field(default_factory=create_warmup)\n",
    "    duration_minutes: int = 5  # Increase the default duration as well\n",
    "\n",
    "    def add_exercise(self, exercise: Exercise):\n",
    "        self.exercises.append(exercise)\n",
    "\n",
    "    def increase_duration(self, minutes: int):\n",
    "        self.duration_minutes += minutes\n",
    "\n",
    "    def __str__(self):\n",
    "        base = \"\"\n",
    "\n",
    "        for ex in self.exercises:\n",
    "            base += str(ex) + \"\\n\"\n",
    "        base += f\"\\nSession duration: {self.duration_minutes} minutes.\"\n",
    "\n",
    "        return base\n",
    "\n",
    "\n",
    "hiit_monday = WorkoutSession()\n",
    "print(hiit_monday)"
   ]
  },
  {
   "cell_type": "code",
   "execution_count": null,
   "id": "f5507ea6-db49-49d5-8c8a-d6b98d5b5935",
   "metadata": {},
   "outputs": [],
   "source": []
  },
  {
   "cell_type": "code",
   "execution_count": null,
   "id": "e49e9b64-ea72-4e8c-ae92-a560d8744b9d",
   "metadata": {},
   "outputs": [],
   "source": []
  },
  {
   "cell_type": "code",
   "execution_count": null,
   "id": "c42cd992-c5ee-4050-8ad7-cebec179289d",
   "metadata": {},
   "outputs": [],
   "source": []
  },
  {
   "cell_type": "code",
   "execution_count": null,
   "id": "3fdc56f9-7a21-4a37-a1dd-58c387673eac",
   "metadata": {},
   "outputs": [],
   "source": []
  },
  {
   "cell_type": "markdown",
   "id": "0643b50d-2eaa-4983-ba91-2be887e187f9",
   "metadata": {},
   "source": [
    "### Comparison in data classes\n",
    "1. Show that comparison works in order as the order of fields\n",
    "2. Show how to set `order=True`"
   ]
  },
  {
   "cell_type": "code",
   "execution_count": null,
   "id": "a5798bc6-38c7-469b-ab7a-23ec3b708e47",
   "metadata": {},
   "outputs": [],
   "source": [
    "hiit_wednesday = WorkoutSession()\n",
    "\n",
    "hiit_wednesday.add_exercise(Exercise(\"Pull-ups\", 7, 3))\n",
    "print(hiit_wednesday)"
   ]
  },
  {
   "cell_type": "code",
   "execution_count": null,
   "id": "e0a7d463-983e-4326-bdcc-5a56b3506952",
   "metadata": {},
   "outputs": [],
   "source": [
    "hiit_monday > hiit_wednesday"
   ]
  },
  {
   "cell_type": "code",
   "execution_count": null,
   "id": "af3de9e8-ad93-4292-a5e1-2d1766460b03",
   "metadata": {},
   "outputs": [],
   "source": [
    "@dataclass(order=True)\n",
    "class WorkoutSession:\n",
    "    exercises: List[Exercise] = field(default_factory=create_warmup)\n",
    "    duration_minutes: int = 5  # Increase the default duration as well\n",
    "\n",
    "    def add_exercise(self, exercise: Exercise):\n",
    "        self.exercises.append(exercise)\n",
    "\n",
    "    def increase_duration(self, minutes: int):\n",
    "        self.duration_minutes += minutes\n",
    "\n",
    "    def __str__(self):\n",
    "        base = \"\"\n",
    "\n",
    "        for ex in self.exercises:\n",
    "            base += str(ex) + \"\\n\"\n",
    "        base += f\"\\nSession duration: {self.duration_minutes} minutes.\"\n",
    "\n",
    "        return base"
   ]
  },
  {
   "cell_type": "code",
   "execution_count": null,
   "id": "04b26ae5-3503-464a-9a2b-7c437bd060ae",
   "metadata": {},
   "outputs": [],
   "source": [
    "hiit_monday = WorkoutSession()\n",
    "# hiit_monday.add_exercise(...)\n",
    "hiit_monday.increase_duration(10)\n",
    "\n",
    "hiit_wednesday = WorkoutSession()\n",
    "\n",
    "hiit_monday > hiit_wednesday"
   ]
  },
  {
   "cell_type": "markdown",
   "id": "e5008bcb-94c2-4e2c-94ce-f96e29bb41cd",
   "metadata": {},
   "source": [
    "Add compare field to false"
   ]
  },
  {
   "cell_type": "markdown",
   "id": "0150ae44-8263-41fb-92e8-2072a41c369b",
   "metadata": {},
   "source": [
    "### Post-init field manipulation"
   ]
  },
  {
   "cell_type": "code",
   "execution_count": null,
   "id": "8e848d84-65b4-40e5-99d4-dfd18d972f83",
   "metadata": {},
   "outputs": [],
   "source": [
    "@dataclass\n",
    "class WorkoutSession:\n",
    "    exercises: List[Exercise] = field(default_factory=create_warmup)\n",
    "    duration_minutes: int = field(default=0, init=False)\n",
    "\n",
    "    def __post_init__(self):\n",
    "        set_duration = 3\n",
    "        for ex in self.exercises:\n",
    "            self.duration_minutes += ex.sets * set_duration\n",
    "\n",
    "    def add_exercise(self, exercise: Exercise):\n",
    "        self.exercises.append(exercise)\n",
    "\n",
    "    def increase_duration(self, minutes: int):\n",
    "        self.duration_minutes += minutes\n",
    "\n",
    "    def __str__(self):\n",
    "        base = \"\"\n",
    "\n",
    "        for ex in self.exercises:\n",
    "            base += str(ex) + \"\\n\"\n",
    "        base += f\"\\nSession duration: {self.duration_minutes} minutes.\"\n",
    "\n",
    "        return base"
   ]
  },
  {
   "cell_type": "code",
   "execution_count": null,
   "id": "26d97944-fe14-49bb-8393-e2bffddc8955",
   "metadata": {},
   "outputs": [],
   "source": [
    "hiit_friday = WorkoutSession()\n",
    "hiit_friday.add_exercise(Exercise(\"Sit-ups\", 20, 3))\n",
    "\n",
    "print(hiit_friday)"
   ]
  },
  {
   "cell_type": "markdown",
   "id": "313c3728-47f2-4cc1-a718-368ceed4baec",
   "metadata": {},
   "source": [
    "## Immutability in data classes"
   ]
  },
  {
   "cell_type": "code",
   "execution_count": null,
   "id": "f8694704-6bb7-4093-89aa-1f312f050576",
   "metadata": {},
   "outputs": [],
   "source": [
    "hiit_friday = WorkoutSession()\n",
    "hiit_friday.add_exercise(Exercise(\"Sit-ups\", 20, 3))\n",
    "\n",
    "print(hiit_friday)"
   ]
  },
  {
   "cell_type": "code",
   "execution_count": null,
   "id": "79b7ad80-32ce-4117-94e8-754d7672da63",
   "metadata": {},
   "outputs": [],
   "source": [
    "ex1.sets = 5"
   ]
  },
  {
   "cell_type": "code",
   "execution_count": null,
   "id": "82282212-e4ed-4cdb-82b0-59543540a2fe",
   "metadata": {},
   "outputs": [],
   "source": [
    "ex1.new_field = 10"
   ]
  },
  {
   "cell_type": "code",
   "execution_count": null,
   "id": "c79ff40f-68f4-4a0d-968e-a06fa7c71ff1",
   "metadata": {},
   "outputs": [],
   "source": [
    "@dataclass(frozen=True)\n",
    "class ImmutableWorkoutSession:\n",
    "    exercises: List[Exercise] = field(default_factory=create_warmup)\n",
    "    duration_minutes: int = 5\n",
    "\n",
    "\n",
    "session1 = ImmutableWorkoutSession()"
   ]
  },
  {
   "cell_type": "code",
   "execution_count": null,
   "id": "f77aacbb-011c-4287-9f86-864b2469ece4",
   "metadata": {},
   "outputs": [],
   "source": [
    "session1.exercises = exercises_monday"
   ]
  },
  {
   "cell_type": "code",
   "execution_count": null,
   "id": "814ad2ea-56c8-4280-aae3-5627e50c5a22",
   "metadata": {},
   "outputs": [],
   "source": [
    "session1.exercises[1] = FrozenExercise(\"Totally new exercise\", 5, 5)\n",
    "\n",
    "print(session1)"
   ]
  },
  {
   "cell_type": "code",
   "execution_count": null,
   "id": "114beb4d-9486-459b-b969-39a3f6fc06c7",
   "metadata": {},
   "outputs": [],
   "source": []
  },
  {
   "cell_type": "markdown",
   "id": "2621f4ea-5ce2-4526-881a-7cb1b9cce7cf",
   "metadata": {},
   "source": [
    "## Inheritance in data classes"
   ]
  },
  {
   "cell_type": "markdown",
   "id": "35229560-b11b-4eab-8d42-ff657d0201e0",
   "metadata": {},
   "source": [
    "1. Inheritance works like always\n",
    "2. Just make sure non-default arguments don't follow defaults"
   ]
  },
  {
   "cell_type": "code",
   "execution_count": null,
   "id": "b9510457-5ac8-4a71-8346-8102f2c745c3",
   "metadata": {},
   "outputs": [],
   "source": [
    "@dataclass(frozen=True)\n",
    "class ImmutableWorkoutSession:\n",
    "    exercises: List[Exercise] = field(default_factory=create_warmup)\n",
    "    duration_minutes: int = 5\n",
    "\n",
    "\n",
    "@dataclass(frozen=True)\n",
    "class CardioWorkoutSession(ImmutableWorkoutSession):\n",
    "    intensity_level: str  # Not allowed, must have a default"
   ]
  },
  {
   "cell_type": "markdown",
   "id": "55d1acd7-5d13-4457-8ba9-b0896558061e",
   "metadata": {},
   "source": [
    "## Conclusion and further resources"
   ]
  }
 ],
 "metadata": {
  "kernelspec": {
   "display_name": "articles",
   "language": "python",
   "name": "articles"
  },
  "language_info": {
   "codemirror_mode": {
    "name": "ipython",
    "version": 3
   },
   "file_extension": ".py",
   "mimetype": "text/x-python",
   "name": "python",
   "nbconvert_exporter": "python",
   "pygments_lexer": "ipython3",
   "version": "3.10.8"
  },
  "widgets": {
   "application/vnd.jupyter.widget-state+json": {
    "state": {},
    "version_major": 2,
    "version_minor": 0
   }
  }
 },
 "nbformat": 4,
 "nbformat_minor": 5
}
