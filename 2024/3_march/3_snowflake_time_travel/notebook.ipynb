{
 "cells": [
  {
   "cell_type": "markdown",
   "id": "9ba723f1-bef0-4a61-90b5-056db426f137",
   "metadata": {},
   "source": [
    "# Comprehensive Guide on Using Time Travel Feature in Snowflake\n"
   ]
  }
 ],
 "metadata": {
  "kernelspec": {
   "display_name": "articles",
   "language": "python",
   "name": "articles"
  },
  "language_info": {
   "codemirror_mode": {
    "name": "ipython",
    "version": 3
   },
   "file_extension": ".py",
   "mimetype": "text/x-python",
   "name": "python",
   "nbconvert_exporter": "python",
   "pygments_lexer": "ipython3",
   "version": "3.10.8"
  },
  "widgets": {
   "application/vnd.jupyter.widget-state+json": {
    "state": {},
    "version_major": 2,
    "version_minor": 0
   }
  }
 },
 "nbformat": 4,
 "nbformat_minor": 5
}
