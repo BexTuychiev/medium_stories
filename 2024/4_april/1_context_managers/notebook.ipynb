{
 "cells": [
  {
   "cell_type": "markdown",
   "id": "51f397ed-f661-4551-8317-85311366bef8",
   "metadata": {},
   "source": [
    "# Writing Custom Context Managers in Python"
   ]
  },
  {
   "cell_type": "markdown",
   "id": "5cd67927-fa0a-4407-934d-05aaa27e253b",
   "metadata": {},
   "source": [
    "## Motivation"
   ]
  },
  {
   "cell_type": "markdown",
   "id": "5acd957c-6ff5-44bb-96e7-9dfacb23802e",
   "metadata": {},
   "source": [
    "You might be familiar with the `with` statement, a clean and concise way to handle resources in Python. But have you ever wondered how it works under the hood?  Well, that magic is powered by context managers!\r\n",
    "\r\n",
    "Context managers are a fundamental design pattern in Python that provide a structured approach to resource management.  They ensure that resources are acquired, used properly, and then finally released or cleaned up, even in the presence of errors or exceptions.\r\n",
    "\r\n",
    "This becomes especially important when dealing with resources like files, network connections, or database handles.  By using context managers, we can write cleaner and more reliable code, freeing ourselves from the worry of forgetting to close a file or release a l\n",
    "\n",
    "In this tutorial, we will go beyond the default provided context managers of Python and learn to write our own. ock.te. te. "
   ]
  },
  {
   "cell_type": "markdown",
   "id": "d604c4f5-d2ea-452d-b2aa-820d0aeb78ca",
   "metadata": {},
   "source": [
    "## Understanding context managers in Python"
   ]
  },
  {
   "cell_type": "markdown",
   "id": "4c25348f-6fff-4788-9ca3-b103d191c499",
   "metadata": {},
   "source": [
    "Under the hood, context managers are objects that define two special methods: `__enter__` and `__exit__`.  The `__enter__` method is called when you enter the `with` block, and its return value is assigned to a variable within that block.  The `__exit__` method, on the other hand, is called when the `with` block exits, regardless of whether it finishes normally or with an exception."
   ]
  },
  {
   "cell_type": "markdown",
   "id": "b5fe17c9-ca77-4f01-ba7c-48a4e020147c",
   "metadata": {},
   "source": [
    "This structure ensures proper resource handling. Let's look at some built-in context managers in Python to illustrate this:\n",
    "\n",
    "1. File Management\n",
    "\n",
    "Take the classic example of opening a file:\n",
    "\n",
    "```Python\n",
    "with open('file.txt', 'r') as file:\n",
    "  data = file.read()\n",
    "```\n",
    "\n",
    "Here, `open('file.txt', 'r')` acts as the context manager.  When you enter the `with` block, the __enter__ method of the file object is called, opening the file and assigning it to the variable file.  You can then use `file.read()` to access the file contents.\n",
    "\n",
    "Crucially, the `__exit__` method of the file object is guaranteed to be called when the `with` block exits, even if an exception occurs.  This method takes care of closing the file, ensuring you don't leave open file handles lying around."
   ]
  },
  {
   "cell_type": "markdown",
   "id": "c7c255ab-f949-4ccb-ba90-fbc19cfb0870",
   "metadata": {},
   "source": [
    "2. Thread Locking\n",
    "\n",
    "Moving beyond files, context managers can also be used for thread synchronization using threading.Lock():\n",
    "\n",
    "```Python\n",
    "import threading\n",
    "\n",
    "lock = threading.Lock()\n",
    "with lock:\n",
    "  # Critical section\n",
    "  print(\"This code is executed under lock protection.\")\n",
    "```\n",
    "\n",
    "Here, `lock` is a `threading.Lock` object, another context manager. When you enter the `with` block, the `__enter__` method acquires the lock, ensuring only one thread can execute the critical section at a time.  Finally, the `__exit__` method releases the lock upon exiting the with block, allowing other threads to proceed."
   ]
  },
  {
   "cell_type": "markdown",
   "id": "aef2f710-7051-4e0d-9c67-12d3e88b5734",
   "metadata": {},
   "source": [
    "3. Database Connections\n",
    "\n",
    "Similarly, context managers can manage database connections:\n",
    "\n",
    "```Python\n",
    "import sqlite3\n",
    "\n",
    "with sqlite3.connect('database.db') as connection:\n",
    "  cursor = connection.cursor()\n",
    "  cursor.execute(\"SELECT * FROM table\")\n",
    "  rows = cursor.fetchall()\n",
    "```\n",
    "\n",
    "The `sqlite3.connect('database.db')` call is a context manager. Entering the `with` block establishes a connection to the database, assigning it to `connection`.  You can then use a `cursor` to interact with the database. The `__exit__` method guarantees the connection is closed when the `with` block exits, preventing resource leaks."
   ]
  },
  {
   "cell_type": "markdown",
   "id": "93c51e37-51bb-403b-b7b1-35f383f45cd5",
   "metadata": {},
   "source": [
    "4. Network Sockets\n",
    "\n",
    "Context managers can even handle network communication:\n",
    "\n",
    "```python\n",
    "import socket\n",
    "\n",
    "with socket.socket(socket.AF_INET, socket.SOCK_STREAM) as s:\n",
    "  s.connect(('localhost', 8080))\n",
    "  s.sendall(b'Hello, world')\n",
    "  data = s.recv(1024)\n",
    "```\n",
    "\n",
    "Here, `socket.socket(socket.AF_INET, socket.SOCK_STREAM)` creates a socket object that acts as the context manager.  The `__enter__` method creates the socket, and within the `with` block, you can connect, send data, and receive data.  The `__exit__` method ensures the socket is closed properly when done.\n"
   ]
  },
  {
   "cell_type": "markdown",
   "id": "ea066338-14fd-4bb6-adb0-3bcba99babf4",
   "metadata": {},
   "source": [
    "\n",
    "5. Directory Scanning\n",
    "\n",
    "And context managers are versatile! `os.scandir('.')` provides a way to iterate over directory entries:\n",
    "\n",
    "```python\n",
    "import os\n",
    "\n",
    "with os.scandir('.') as entries:\n",
    "  for entry in entries:\n",
    "    print(entry.name)\n",
    "```\n",
    "\n",
    "`os.scandir('.')` acts as the context manager here.  The `__enter__` method opens a directory scan, and you can iterate over the entries within the with block.  The `__exit__` method cleans up the directory scan upon exiting.\n",
    "\n",
    "As you can see, the with statement, powered by context managers, simplifies resource management by handling allocation and deallocation automatically.  This keeps your code clean, avoids potential errors, and ensures proper resource usage in your Python applications."
   ]
  },
  {
   "cell_type": "markdown",
   "id": "4f321d0d-902a-41d6-80a4-e9699b0f10db",
   "metadata": {},
   "source": [
    "## Writing custom context managers in Python"
   ]
  },
  {
   "cell_type": "markdown",
   "id": "118bd540-f6af-44d3-9579-324e87cd7dbf",
   "metadata": {},
   "source": [
    "Let's take this a step further and explore how to craft your own context managers in Python.  This gives you fine-grained control over resource management within your applications.\n",
    "\n",
    "There are two main approaches to writing custom context managers: class-based and function-based.\n",
    "\n",
    "### Class-Based Approach\n",
    "Want more structure and control?  The class-based approach is your friend!  Here, you define a class that implements the special methods `__enter__` and `__exit__`.\n",
    "\n",
    "Let's look at an example of a `Timer` class that measures execution time:"
   ]
  },
  {
   "cell_type": "code",
   "execution_count": 7,
   "id": "ddd35be4-c4ac-4e32-80e5-760ef50da285",
   "metadata": {},
   "outputs": [
    {
     "name": "stdout",
     "output_type": "stream",
     "text": [
      "Elapsed time: 2.002082347869873 seconds\n"
     ]
    }
   ],
   "source": [
    "import time\n",
    "\n",
    "\n",
    "class Timer:\n",
    "    def __enter__(self):\n",
    "        self.start_time = time.time()\n",
    "        return self\n",
    "\n",
    "    def __exit__(self, exc_type, exc_value, traceback):\n",
    "        self.end_time = time.time()\n",
    "        elapsed_time = self.end_time - self.start_time\n",
    "        print(f\"Elapsed time: {elapsed_time} seconds\")\n",
    "\n",
    "\n",
    "# Example usage\n",
    "if __name__ == \"__main__\":\n",
    "    with Timer() as timer:\n",
    "        # Code block to measure the execution time\n",
    "        time.sleep(2)  # Simulate some time-cning operation"
   ]
  },
  {
   "cell_type": "markdown",
   "id": "409755dd-d81d-42ce-a3b3-982f7feb0a53",
   "metadata": {},
   "source": [
    "Here, the `Timer` class defines the `__enter__` method to capture the start time when you enter the with block.  It returns `self` to allow access to the object within the block.  The `__exit__` method calculates the elapsed time upon exiting the `with` block and prints it."
   ]
  },
  {
   "cell_type": "markdown",
   "id": "a27e52f5-82db-409d-95e2-db2069c62305",
   "metadata": {},
   "source": [
    "### Function-Based Approach"
   ]
  },
  {
   "cell_type": "markdown",
   "id": "8e6f1598-631b-41bb-b80f-3e994375a879",
   "metadata": {},
   "source": [
    "Prefer a more concise approach?  The function-based approach might be your style!  Here, you leverage the `contextmanager` decorator from the `contextlib` module.\r\n",
    "\r\n",
    "Let's see how we can achieve the same functionality with a function:"
   ]
  },
  {
   "cell_type": "code",
   "execution_count": 8,
   "id": "5b063447-06f3-4445-a860-f97b21bc8624",
   "metadata": {},
   "outputs": [
    {
     "name": "stdout",
     "output_type": "stream",
     "text": [
      "Elapsed time: 2.0020740032196045 seconds\n"
     ]
    }
   ],
   "source": [
    "import time\n",
    "from contextlib import contextmanager\n",
    "\n",
    "\n",
    "@contextmanager\n",
    "def timer():\n",
    "    start_time = time.time()\n",
    "    yield\n",
    "    end_time = time.time()\n",
    "    elapsed_time = end_time - start_time\n",
    "    print(f\"Elapsed time: {elapsed_time} seconds\")\n",
    "\n",
    "\n",
    "# Example usage\n",
    "if __name__ == \"__main__\":\n",
    "    with timer():\n",
    "        time.sleep(2)"
   ]
  },
  {
   "cell_type": "markdown",
   "id": "2fe27549-69f8-4315-a218-05ea0ae8a7ce",
   "metadata": {},
   "source": [
    "The `@contextmanager` decorator transforms the timer function into a context manager.  Inside the function, `start_time` is captured, and the `yield` statement pauses execution, allowing code within the `with` block to run.  Finally, `__exit__` functionality is achieved by capturing the end time and printing the elapsed time.\r",
    "\r",
    "Essentially, you write the logic for the `__enter__` before the `yield` keyword whereas the logic for `__exit__` comes after. \n",
    "Both approaches achieve the same outcome, but the choice depends on your preference for structure and readabilityts!"
   ]
  },
  {
   "cell_type": "markdown",
   "id": "1e47d52f-757f-44e0-bd96-233a0a07c552",
   "metadata": {},
   "source": [
    "## Practical examples of context managers"
   ]
  },
  {
   "cell_type": "markdown",
   "id": "59875260-a877-4f5d-bb69-d698ebadde61",
   "metadata": {},
   "source": [
    "Now that you understand how to write custom context managers in Python, let's explore some practical examples where they can be incredibly useful. We'll delve into scenarios involving file management and database interactions.\n",
    "\n",
    "### Managing File Operations\r\n",
    "File operations are a common task in many applications. Whether you're reading from or writing to files, proper management ensures data integrity and resource efficiency. Let's consider a scenario where we want to write some text to a file using a custom context manager."
   ]
  },
  {
   "cell_type": "code",
   "execution_count": 10,
   "id": "aae2454b-ab37-454f-8000-fb38c1507a9b",
   "metadata": {},
   "outputs": [],
   "source": [
    "class FileManager:\n",
    "    def __init__(self, filename, mode):\n",
    "        self.filename = filename\n",
    "        self.mode = mode\n",
    "        self.file = None\n",
    "\n",
    "    def __enter__(self):\n",
    "        self.file = open(self.filename, self.mode)\n",
    "        return self.file\n",
    "\n",
    "    def __exit__(self, exc_type, exc_value, traceback):\n",
    "        if self.file:\n",
    "            self.file.close()\n",
    "\n",
    "\n",
    "# Example usage\n",
    "if __name__ == \"__main__\":\n",
    "    with FileManager(\"example.txt\", \"w\") as file:\n",
    "        file.write(\"Hello, world!\\n\")"
   ]
  },
  {
   "cell_type": "markdown",
   "id": "8904e408-d4eb-42a0-ba8c-0ebf250ac7c0",
   "metadata": {},
   "source": [
    "In this example, we define a `FileManager` class to mimic the `open` function in Python that handles file operations. Let's break down what each method does:\n",
    "\n",
    "- `__init__(self, filename, mode)`: This method is the constructor of the class. It initializes the `FileManager` object with the provided filename and mode, which specify the file to be opened and the mode in which it should be opened (e.g., read, write, append).\n",
    "\n",
    "- `__enter__(self)`: This method is called when entering the `with` block as always. It opens the file specified by `filename` in the mode specified by `mode`. The opened file object is assigned to `self.file`, and it is returned to be used within the `with` block.\n",
    "\n",
    "- `__exit__(self, exc_type, exc_value, traceback)`: This method is called when exiting the with block, regardless of whether an exception occurred within the block. It ensures that the file is closed properly by calling `self.file.close()` if `self.file` is not `None`. This prevents resource leaks and ensures proper cleanup.\n",
    "\n",
    "If you inspect the contents of `example.txt` after executing the above code, you should see the written text:\n",
    "\n",
    "```\n",
    "$ cat example.txt\n",
    "Hello, world!\n",
    "```"
   ]
  },
  {
   "cell_type": "markdown",
   "id": "7c7380cb-074e-4fee-adce-17c3fc5bdbdf",
   "metadata": {},
   "source": [
    "Of course, the advantage of `FileManager` class is that you can implement any custom logic to work with files. For example, you can modify it so that the class keeps a log of which files are opened or closed to a text file."
   ]
  },
  {
   "cell_type": "code",
   "execution_count": 12,
   "id": "3989143a-7815-4a2a-857b-26d467542f53",
   "metadata": {},
   "outputs": [
    {
     "name": "stdout",
     "output_type": "stream",
     "text": [
      "Hello, world!\n",
      "\n"
     ]
    }
   ],
   "source": [
    "import datetime\n",
    "\n",
    "\n",
    "class FileManager:\n",
    "    def __init__(self, filename, mode, log_filename=\"file_log.txt\"):\n",
    "        self.filename = filename\n",
    "        self.mode = mode\n",
    "        self.log_filename = log_filename\n",
    "        self.file = None\n",
    "\n",
    "    def log_action(self, action):\n",
    "        timestamp = datetime.datetime.now().strftime(\"%Y-%m-%d %H:%M:%S\")\n",
    "        with open(self.log_filename, \"a\") as log_file:\n",
    "            log_file.write(f\"{timestamp} - {action}: {self.filename}\\n\")\n",
    "\n",
    "    def __enter__(self):\n",
    "        self.file = open(self.filename, self.mode)\n",
    "        self.log_action(\"Opened\")\n",
    "        return self.file\n",
    "\n",
    "    def __exit__(self, exc_type, exc_value, traceback):\n",
    "        if self.file:\n",
    "            self.file.close()\n",
    "            self.log_action(\"Closed\")\n",
    "\n",
    "\n",
    "# Example Usage\n",
    "with FileManager(\"example.txt\", \"r\") as file:\n",
    "    content = file.read()\n",
    "    print(content)"
   ]
  },
  {
   "cell_type": "markdown",
   "id": "37101362-cc42-47b2-b67b-e8fbb7493ad1",
   "metadata": {},
   "source": [
    "In this modified version:\n",
    "\n",
    "- `datetime` module is imported to work with timestamps.\n",
    "- The `log_action` method is added to log file actions.\n",
    "- `log_filename` parameter is added to specify the filename for the log file. Default is set to `'file_log.txt'`.\n",
    "- The filename and action (opened or closed) are appended to the log file using the `log_action` method within `__enter__` and `__exit__` methods.\n",
    "- Inside the `log_action` method, `datetime.datetime.now().strftime(\"%Y-%m-%d %H:%M:%S\")` is used to get the current timestamp in the format of `\"YYYY-MM-DD HH:MM:SS\"`.\n",
    "- The timestamp is then included in the log along with the filename and action.\n",
    "\n",
    "Now, if we print the contents of `file_log.txt`, we should see the logs:\n",
    "\n",
    "```python\n",
    "$ cat file_log.txt\r\n",
    "2024-04-39 12:37:02 - Opened: example.txt\r\n",
    "2024-04309 12:37:02 - Closed: example.txt\n",
    "```"
   ]
  },
  {
   "cell_type": "markdown",
   "id": "cb932f4d-618b-4ee0-9d48-d24cd941c6ee",
   "metadata": {},
   "source": [
    "Another practical use-case we can implement as a custom context manager is an SQLite database management too;\"\""
   ]
  },
  {
   "cell_type": "code",
   "execution_count": 13,
   "id": "f002cb11-2082-4d31-b3a8-c23ba9ad5a7f",
   "metadata": {},
   "outputs": [],
   "source": [
    "import sqlite3\n",
    "\n",
    "\n",
    "class DatabaseConnection:\n",
    "    def __init__(self, database_name):\n",
    "        self.database_name = database_name\n",
    "        self.connection = None\n",
    "\n",
    "    def __enter__(self):\n",
    "        self.connection = sqlite3.connect(self.database_name)\n",
    "        return self.connection\n",
    "\n",
    "    def __exit__(self, exc_type, exc_value, traceback):\n",
    "        if self.connection:\n",
    "            self.connection.close()"
   ]
  },
  {
   "cell_type": "markdown",
   "id": "1663eb79-7a4e-4261-a7e6-59433f62321e",
   "metadata": {},
   "source": [
    "Again, this basically mimics the `sqlite3.connect` function but it can be further improved to add custom database management logic. Let's check if the manager is working with some sample functions:"
   ]
  },
  {
   "cell_type": "code",
   "execution_count": 6,
   "id": "6ae5e533-3d1a-48ae-a9c4-e0a055ac4709",
   "metadata": {},
   "outputs": [
    {
     "name": "stdout",
     "output_type": "stream",
     "text": [
      "Users in the database:\n",
      "(1, 'john_doe', 'john@example.com')\n",
      "(2, 'jane_doe', 'jane@example.com')\n",
      "(3, 'john_doe', 'john@example.com')\n",
      "(4, 'jane_doe', 'jane@example.com')\n"
     ]
    }
   ],
   "source": [
    "# Example usage\n",
    "def create_table():\n",
    "    with DatabaseConnection(\"example.db\") as connection:\n",
    "        cursor = connection.cursor()\n",
    "        cursor.execute(\n",
    "            \"\"\"CREATE TABLE IF NOT EXISTS users (\n",
    "                            id INTEGER PRIMARY KEY,\n",
    "                            username TEXT,\n",
    "                            email TEXT)\"\"\"\n",
    "        )\n",
    "\n",
    "\n",
    "def insert_data(username, email):\n",
    "    with DatabaseConnection(\"example.db\") as connection:\n",
    "        cursor = connection.cursor()\n",
    "        cursor.execute(\n",
    "            \"INSERT INTO users (username, email) VALUES (?, ?)\", (username, email)\n",
    "        )\n",
    "        connection.commit()\n",
    "\n",
    "\n",
    "def fetch_data():\n",
    "    with DatabaseConnection(\"example.db\") as connection:\n",
    "        cursor = connection.cursor()\n",
    "        cursor.execute(\"SELECT * FROM users\")\n",
    "        return cursor.fetchall()\n",
    "\n",
    "\n",
    "if __name__ == \"__main__\":\n",
    "    create_table()\n",
    "    insert_data(\"john_doe\", \"john@example.com\")\n",
    "    insert_data(\"jane_doe\", \"jane@example.com\")\n",
    "    users = fetch_data()\n",
    "    print(\"Users in the database:\")\n",
    "    for user in users:\n",
    "        print(user)"
   ]
  },
  {
   "cell_type": "markdown",
   "id": "6287ab92-0981-496a-8c11-540ffdd90a92",
   "metadata": {},
   "source": [
    "By breaking up the database operations into functions and using the custom manager we just created, we can write much more maintainable code. "
   ]
  },
  {
   "cell_type": "markdown",
   "id": "650493bb-ba1b-487c-be9b-fe8cfcaad89a",
   "metadata": {},
   "source": [
    "## Advanced topics related to context managers in Python"
   ]
  },
  {
   "cell_type": "markdown",
   "id": "2e39f174-ae9d-41ff-855f-3554f63696e8",
   "metadata": {},
   "source": [
    "In this section, we'll explore advanced topics related to context managers in Python. These include error handling and nesting context managers."
   ]
  },
  {
   "cell_type": "markdown",
   "id": "ea5d6865-2417-46ad-8640-a9971f5f5967",
   "metadata": {},
   "source": [
    "### Error handling"
   ]
  },
  {
   "cell_type": "markdown",
   "id": "23cbc19a-35d4-4d08-89ef-92389701895a",
   "metadata": {},
   "source": [
    "Error handling is a crucial aspect of programming, and context managers in Python provide a convenient way to manage errors within resource management operations. \n",
    "\n",
    "In the FileManager class example, error handling can be implemented within the `__exit__` method to ensure proper cleanup even if an exception occurs. For instance, if an error occurs while writing data to the file (while inside the `with` block), we still want to ensure the file is closed to prevent resource leaks. We can modify the `__exit__` method as follows:"
   ]
  },
  {
   "cell_type": "markdown",
   "id": "83aedabb-d39e-432b-8db4-319de9a5f8c7",
   "metadata": {},
   "source": [
    "```python\n",
    "def __exit__(self, exc_type, exc_value, traceback):\n",
    "    if self.file:\n",
    "        self.file.close()\n",
    "        if exc_type is not None:\n",
    "            print(f\"An error occurred: {exc_value}\")\n",
    "```"
   ]
  },
  {
   "cell_type": "markdown",
   "id": "8397f983-9331-493b-a67e-d05be4ac1bd6",
   "metadata": {},
   "source": [
    "Here, we first close the file using `self.file.close()` to ensure proper cleanup. Then, we check if an exception occurred `(exc_type is not None)`. If so, we print an error message to provide feedback on what went wrong.\n",
    "\n",
    "Here:\n",
    "- `exc_type` is the exception class, such as `AttributeError` and `IndexError`.\n",
    "- `exc_value` is the exception instance with the message.\n",
    "- `traceback` is the full traceback of the error.\n",
    "\n",
    "Let's run the `FileManager` class with a deliberate incorrect code:"
   ]
  },
  {
   "cell_type": "code",
   "execution_count": 15,
   "id": "18bebd02-9cd9-41f4-bdca-02e820526417",
   "metadata": {},
   "outputs": [],
   "source": [
    "class FileManager:\n",
    "    def __init__(self, filename, mode):\n",
    "        self.filename = filename\n",
    "        self.mode = mode\n",
    "        self.file = None\n",
    "\n",
    "    def __enter__(self):\n",
    "        self.file = open(self.filename, self.mode)\n",
    "        return self.file\n",
    "\n",
    "    def __exit__(self, exc_type, exc_value, traceback):\n",
    "        if self.file:\n",
    "            self.file.close()\n",
    "            if exc_type is not None:\n",
    "                print(f\"An error occurred: {exc_value}\")"
   ]
  },
  {
   "cell_type": "markdown",
   "id": "70f26938-d6f5-44ce-907a-b2a45685c80a",
   "metadata": {},
   "source": [
    "```python\n",
    "with FileManager(\"example.txt\", \"r\") as file:\n",
    "    # Simulate a sample error\n",
    "    content = file.read()\n",
    "    print(content[150])\n",
    "```\n",
    "\n",
    "```\n",
    "An error occurred: string index out of range\n",
    "```"
   ]
  },
  {
   "cell_type": "markdown",
   "id": "085dc46f-3f9f-4749-bb2e-4db2ddde6d55",
   "metadata": {},
   "source": [
    "So, to implement custom logic when handling exceptions in your custom managers, here is a sample workflow you can follow:"
   ]
  },
  {
   "cell_type": "markdown",
   "id": "f10e5214-a668-4b7a-9e42-5c779c66b7e6",
   "metadata": {},
   "source": [
    "```python\n",
    "def __exit__(self, exc_type, exc_value, traceback):\n",
    "    # Perform cleanup\n",
    "    ...\n",
    "\n",
    "    # Handle the exception\n",
    "    if isinstance(exc_value, AttributeError):\n",
    "        # Handle AttributeError here\n",
    "        print(f\"Exception message: {exc_value}\")\n",
    "    # Handle another exception\n",
    "    elif isinstance(exc_value, AnotherError):\n",
    "        ...\n",
    "```"
   ]
  },
  {
   "cell_type": "markdown",
   "id": "acab45e3-e885-409c-a126-e1fa3dc44535",
   "metadata": {},
   "source": [
    "### Nesting context managers"
   ]
  },
  {
   "cell_type": "markdown",
   "id": "89a42f85-eb9e-4d8d-86f1-ab8ee4218e73",
   "metadata": {},
   "source": [
    "Nesting context managers allows you to manage multiple resources simultaneously, each with its own context manager, within a single `with` statement. This is particularly useful when dealing with complex operations that involve multiple resources. Let's see how we can nest context managers in our examples.\n",
    "\n",
    "Consider a scenario where we want to open a file and perform database operations within the same context. Perhaps, we want to input contents of a CSV file as rows into a database. We can achieve this by nesting the `FileManager` and `DatabaseConnection` context managers within a single `with` statement:\n",
    "\n",
    "```python\n",
    "if __name__ == \"__main__\":\n",
    "    with FileManager(\"example.txt\", \"w\") as file, DatabaseConnection(\"example.db\") as connection:\n",
    "        ...\n",
    "```"
   ]
  },
  {
   "cell_type": "markdown",
   "id": "bef77ac3-5781-4492-9d4f-b3f7af8843c8",
   "metadata": {},
   "source": [
    "In this example, the FileManager and DatabaseConnection context managers are nested within the same with statement. This allows us to open the file and establish a database connection simultaneously. Subsequent file writing and database operations are performed within this combined context.\r\n",
    "\r\n",
    "Nesting context managers in this manner enables efficient and concise management of multiple resources, improving the readability and maintainability of Python code."
   ]
  },
  {
   "cell_type": "markdown",
   "id": "a0b7fc6c-fd99-4e76-8607-e35bebbac5b9",
   "metadata": {},
   "source": [
    "## Conclusion"
   ]
  },
  {
   "cell_type": "markdown",
   "id": "0e1d7451-e3c2-4c52-86cb-6775dcf432f2",
   "metadata": {},
   "source": [
    "Context managers in Python offer a structured approach to resource management within a `with` statement, ensuring proper allocation and deallocation of resources.\n",
    "\n",
    "Throughout this tutorial, we've learned the basics of context managers, explored practical examples, and delved into advanced topics like error handling and nesting. By mastering writing custom context managers, you can write cleaner, more reliable code, improve error handling, and manage resources efficiently.\n",
    "\n",
    "The topic of writing custom context managers fall under the umbrella of \"Advanced Python\" category. Here are some related resources to further enhance your skills:\n",
    "- [Writing functions in Python course](https://www.datacamp.com/courses/writing-functions-in-python)\n",
    "- [Becoming a Python Programmer skill track](https://www.datacamp.com/tracks/python-programmer)"
   ]
  }
 ],
 "metadata": {
  "kernelspec": {
   "display_name": "articles",
   "language": "python",
   "name": "articles"
  },
  "language_info": {
   "codemirror_mode": {
    "name": "ipython",
    "version": 3
   },
   "file_extension": ".py",
   "mimetype": "text/x-python",
   "name": "python",
   "nbconvert_exporter": "python",
   "pygments_lexer": "ipython3",
   "version": "3.10.8"
  },
  "widgets": {
   "application/vnd.jupyter.widget-state+json": {
    "state": {},
    "version_major": 2,
    "version_minor": 0
   }
  }
 },
 "nbformat": 4,
 "nbformat_minor": 5
}
