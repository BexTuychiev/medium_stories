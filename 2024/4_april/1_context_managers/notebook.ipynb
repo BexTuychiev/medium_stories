{
 "cells": [
  {
   "cell_type": "markdown",
   "id": "51f397ed-f661-4551-8317-85311366bef8",
   "metadata": {},
   "source": [
    "# Writing Custom Context Managers in Python"
   ]
  },
  {
   "cell_type": "markdown",
   "id": "5cd67927-fa0a-4407-934d-05aaa27e253b",
   "metadata": {},
   "source": [
    "## Motivation"
   ]
  },
  {
   "cell_type": "markdown",
   "id": "5acd957c-6ff5-44bb-96e7-9dfacb23802e",
   "metadata": {},
   "source": [
    "You might be familiar with the `with` statement, a clean and concise way to handle resources in Python. But have you ever wondered how it works under the hood?  Well, that magic is powered by context managers!\r\n",
    "\r\n",
    "Context managers are a fundamental design pattern in Python that provide a structured approach to resource management.  They ensure that resources are acquired, used properly, and then finally released or cleaned up, even in the presence of errors or exceptions.\r\n",
    "\r\n",
    "This becomes especially important when dealing with resources like files, network connections, or database handles.  By using context managers, we can write cleaner and more reliable code, freeing ourselves from the worry of forgetting to close a file or release a l\n",
    "\n",
    "In this tutorial, we will go beyond the default provided context managers of Python and learn to write our own. ock.te. te. "
   ]
  },
  {
   "cell_type": "markdown",
   "id": "d604c4f5-d2ea-452d-b2aa-820d0aeb78ca",
   "metadata": {},
   "source": [
    "## Understanding context managers in Python"
   ]
  },
  {
   "cell_type": "markdown",
   "id": "79f5fe01-c1f0-46dd-b788-e7bc2159b1b3",
   "metadata": {},
   "source": [
    "```python\n",
    "with open('file.txt', 'r') as file:\n",
    "    data = file.read()\n",
    "```"
   ]
  },
  {
   "cell_type": "markdown",
   "id": "4c3c329b-07de-4f83-ac46-5dac7b18c5cd",
   "metadata": {},
   "source": [
    "```python\n",
    "import threading\n",
    "\n",
    "lock = threading.Lock()\n",
    "with lock:\n",
    "    # Critical section\n",
    "    print(\"This code is executed under lock protection.\")\n",
    "```"
   ]
  },
  {
   "cell_type": "markdown",
   "id": "b1c2d870-d30d-423e-aefc-29866f3145ea",
   "metadata": {},
   "source": [
    "```python\n",
    "import sqlite3\n",
    "\n",
    "with sqlite3.connect('database.db') as connection:\n",
    "    cursor = connection.cursor()\n",
    "    cursor.execute(\"SELECT * FROM table\")\n",
    "    rows = cursor.fetchall()\n",
    "```\n"
   ]
  },
  {
   "cell_type": "markdown",
   "id": "071525aa-ed42-47f4-b932-f6f3e113597a",
   "metadata": {},
   "source": [
    "```python\n",
    "import socket\n",
    "\n",
    "with socket.socket(socket.AF_INET, socket.SOCK_STREAM) as s:\n",
    "    s.connect(('localhost', 8080))\n",
    "    s.sendall(b'Hello, world')\n",
    "    data = s.recv(1024)\n",
    "```"
   ]
  },
  {
   "cell_type": "markdown",
   "id": "fd35417c-c81f-4b13-927f-22aac5940ca9",
   "metadata": {},
   "source": [
    "```python\n",
    "import os\n",
    "\n",
    "with os.scandir('.') as entries:\n",
    "    for entry in entries:\n",
    "        print(entry.name)\n",
    "```"
   ]
  },
  {
   "cell_type": "markdown",
   "id": "4f321d0d-902a-41d6-80a4-e9699b0f10db",
   "metadata": {},
   "source": [
    "## Writing custom context managers in Python"
   ]
  },
  {
   "cell_type": "markdown",
   "id": "fb253d80-0dce-4b91-b0bd-b8a39a918053",
   "metadata": {},
   "source": [
    "### Class-based approach"
   ]
  },
  {
   "cell_type": "code",
   "execution_count": null,
   "id": "e9a71a32-1fbd-4c85-b43c-31a4f29bb5ef",
   "metadata": {},
   "outputs": [],
   "source": [
    "import time\n",
    "\n",
    "\n",
    "class Timer:\n",
    "    def __enter__(self):\n",
    "        self.start_time = time.time()\n",
    "        return self\n",
    "\n",
    "    def __exit__(self, exc_type, exc_value, traceback):\n",
    "        self.end_time = time.time()\n",
    "        elapsed_time = self.end_time - self.start_time\n",
    "        print(f\"Elapsed time: {elapsed_time} seconds\")\n",
    "\n",
    "\n",
    "# Example usage\n",
    "if __name__ == \"__main__\":\n",
    "    with Timer() as timer:\n",
    "        # Code block to measure the execution time\n",
    "        time.sleep(2)  # Simulate some time-consuming operation"
   ]
  },
  {
   "cell_type": "markdown",
   "id": "72df35ac-c523-48f8-b87f-b1dcb7c98a3f",
   "metadata": {},
   "source": [
    "### Function-based approach"
   ]
  },
  {
   "cell_type": "code",
   "execution_count": null,
   "id": "68629d43-fffa-440e-aba8-decc0200960b",
   "metadata": {},
   "outputs": [],
   "source": [
    "import time\n",
    "from contextlib import contextmanager\n",
    "\n",
    "\n",
    "@contextmanager\n",
    "def timer():\n",
    "    start_time = time.time()\n",
    "    yield\n",
    "    end_time = time.time()\n",
    "    elapsed_time = end_time - start_time\n",
    "    print(f\"Elapsed time: {elapsed_time} seconds\")\n",
    "\n",
    "\n",
    "# Example usage\n",
    "if __name__ == \"__main__\":\n",
    "    with timer():\n",
    "        time.sleep(2)"
   ]
  },
  {
   "cell_type": "markdown",
   "id": "1e47d52f-757f-44e0-bd96-233a0a07c552",
   "metadata": {},
   "source": [
    "### Practical examples of context managers"
   ]
  },
  {
   "cell_type": "code",
   "execution_count": null,
   "id": "aae2454b-ab37-454f-8000-fb38c1507a9b",
   "metadata": {},
   "outputs": [],
   "source": [
    "class FileManager:\n",
    "    def __init__(self, filename, mode):\n",
    "        self.filename = filename\n",
    "        self.mode = mode\n",
    "        self.file = None\n",
    "\n",
    "    def __enter__(self):\n",
    "        self.file = open(self.filename, self.mode)\n",
    "        return self.file\n",
    "\n",
    "    def __exit__(self, exc_type, exc_value, traceback):\n",
    "        if self.file:\n",
    "            self.file.close()\n",
    "\n",
    "\n",
    "# Example usage\n",
    "if __name__ == \"__main__\":\n",
    "    with FileManager(\"example.txt\", \"w\") as file:\n",
    "        file.write(\"Hello, world!\")"
   ]
  },
  {
   "cell_type": "code",
   "execution_count": 1,
   "id": "f002cb11-2082-4d31-b3a8-c23ba9ad5a7f",
   "metadata": {},
   "outputs": [
    {
     "name": "stdout",
     "output_type": "stream",
     "text": [
      "Users in the database:\n",
      "(1, 'john_doe', 'john@example.com')\n",
      "(2, 'jane_doe', 'jane@example.com')\n"
     ]
    }
   ],
   "source": [
    "import sqlite3\n",
    "\n",
    "\n",
    "class DatabaseConnection:\n",
    "    def __init__(self, database_name):\n",
    "        self.database_name = database_name\n",
    "        self.connection = None\n",
    "\n",
    "    def __enter__(self):\n",
    "        self.connection = sqlite3.connect(self.database_name)\n",
    "        return self.connection\n",
    "\n",
    "    def __exit__(self, exc_type, exc_value, traceback):\n",
    "        if self.connection:\n",
    "            self.connection.close()\n",
    "\n",
    "\n",
    "# Example usage\n",
    "def create_table():\n",
    "    with DatabaseConnection(\"example.db\") as connection:\n",
    "        cursor = connection.cursor()\n",
    "        cursor.execute(\n",
    "            \"\"\"CREATE TABLE IF NOT EXISTS users (\n",
    "                            id INTEGER PRIMARY KEY,\n",
    "                            username TEXT,\n",
    "                            email TEXT)\"\"\"\n",
    "        )\n",
    "\n",
    "\n",
    "def insert_data(username, email):\n",
    "    with DatabaseConnection(\"example.db\") as connection:\n",
    "        cursor = connection.cursor()\n",
    "        cursor.execute(\n",
    "            \"INSERT INTO users (username, email) VALUES (?, ?)\", (username, email)\n",
    "        )\n",
    "        connection.commit()\n",
    "\n",
    "\n",
    "def fetch_data():\n",
    "    with DatabaseConnection(\"example.db\") as connection:\n",
    "        cursor = connection.cursor()\n",
    "        cursor.execute(\"SELECT * FROM users\")\n",
    "        return cursor.fetchall()\n",
    "\n",
    "\n",
    "if __name__ == \"__main__\":\n",
    "    create_table()\n",
    "    insert_data(\"john_doe\", \"john@example.com\")\n",
    "    insert_data(\"jane_doe\", \"jane@example.com\")\n",
    "    users = fetch_data()\n",
    "    print(\"Users in the database:\")\n",
    "    for user in users:\n",
    "        print(user)"
   ]
  },
  {
   "cell_type": "markdown",
   "id": "650493bb-ba1b-487c-be9b-fe8cfcaad89a",
   "metadata": {},
   "source": [
    "## Advanced topics related to context managers in Python"
   ]
  },
  {
   "cell_type": "markdown",
   "id": "ea5d6865-2417-46ad-8640-a9971f5f5967",
   "metadata": {},
   "source": [
    "### Error handling"
   ]
  },
  {
   "cell_type": "markdown",
   "id": "acab45e3-e885-409c-a126-e1fa3dc44535",
   "metadata": {},
   "source": [
    "### Nesting context managers"
   ]
  },
  {
   "cell_type": "markdown",
   "id": "a0b7fc6c-fd99-4e76-8607-e35bebbac5b9",
   "metadata": {},
   "source": [
    "## Conclusion"
   ]
  }
 ],
 "metadata": {
  "kernelspec": {
   "display_name": "articles",
   "language": "python",
   "name": "articles"
  },
  "language_info": {
   "codemirror_mode": {
    "name": "ipython",
    "version": 3
   },
   "file_extension": ".py",
   "mimetype": "text/x-python",
   "name": "python",
   "nbconvert_exporter": "python",
   "pygments_lexer": "ipython3",
   "version": "3.10.8"
  },
  "widgets": {
   "application/vnd.jupyter.widget-state+json": {
    "state": {},
    "version_major": 2,
    "version_minor": 0
   }
  }
 },
 "nbformat": 4,
 "nbformat_minor": 5
}
