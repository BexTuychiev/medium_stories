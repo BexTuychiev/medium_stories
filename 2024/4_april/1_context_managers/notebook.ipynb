{
 "cells": [
  {
   "cell_type": "markdown",
   "id": "51f397ed-f661-4551-8317-85311366bef8",
   "metadata": {},
   "source": [
    "# Writing Custom Context Managers in Python"
   ]
  },
  {
   "cell_type": "markdown",
   "id": "5cd67927-fa0a-4407-934d-05aaa27e253b",
   "metadata": {},
   "source": [
    "## Motivation"
   ]
  },
  {
   "cell_type": "markdown",
   "id": "5acd957c-6ff5-44bb-96e7-9dfacb23802e",
   "metadata": {},
   "source": [
    "You might be familiar with the `with` statement, a clean and concise way to handle resources in Python. But have you ever wondered how it works under the hood?  Well, that magic is powered by context managers!\r\n",
    "\r\n",
    "Context managers are a fundamental design pattern in Python that provide a structured approach to resource management.  They ensure that resources are acquired, used properly, and then finally released or cleaned up, even in the presence of errors or exceptions.\r\n",
    "\r\n",
    "This becomes especially important when dealing with resources like files, network connections, or database handles.  By using context managers, we can write cleaner and more reliable code, freeing ourselves from the worry of forgetting to close a file or release a l\n",
    "\n",
    "In this tutorial, we will go beyond the default provided context managers of Python and learn to write our own. ock.te. te. "
   ]
  },
  {
   "cell_type": "markdown",
   "id": "d604c4f5-d2ea-452d-b2aa-820d0aeb78ca",
   "metadata": {},
   "source": [
    "## Understanding context managers in Python"
   ]
  },
  {
   "cell_type": "markdown",
   "id": "4c25348f-6fff-4788-9ca3-b103d191c499",
   "metadata": {},
   "source": [
    "Under the hood, context managers are objects that define two special methods: `__enter__` and `__exit__`.  The `__enter__` method is called when you enter the `with` block, and its return value is assigned to a variable within that block.  The `__exit__` method, on the other hand, is called when the `with` block exits, regardless of whether it finishes normally or with an exception."
   ]
  },
  {
   "cell_type": "markdown",
   "id": "b5fe17c9-ca77-4f01-ba7c-48a4e020147c",
   "metadata": {},
   "source": [
    "This structure ensures proper resource handling. Let's look at some built-in context managers in Python to illustrate this:\n",
    "\n",
    "1. File Management\n",
    "\n",
    "Take the classic example of opening a file:\n",
    "\n",
    "```Python\n",
    "with open('file.txt', 'r') as file:\n",
    "  data = file.read()\n",
    "```\n",
    "\n",
    "Here, `open('file.txt', 'r')` acts as the context manager.  When you enter the `with` block, the __enter__ method of the file object is called, opening the file and assigning it to the variable file.  You can then use `file.read()` to access the file contents.\n",
    "\n",
    "Crucially, the `__exit__` method of the file object is guaranteed to be called when the `with` block exits, even if an exception occurs.  This method takes care of closing the file, ensuring you don't leave open file handles lying around."
   ]
  },
  {
   "cell_type": "markdown",
   "id": "c7c255ab-f949-4ccb-ba90-fbc19cfb0870",
   "metadata": {},
   "source": [
    "2. Thread Locking\n",
    "\n",
    "Moving beyond files, context managers can also be used for thread synchronization using threading.Lock():\n",
    "\n",
    "```Python\n",
    "import threading\n",
    "\n",
    "lock = threading.Lock()\n",
    "with lock:\n",
    "  # Critical section\n",
    "  print(\"This code is executed under lock protection.\")\n",
    "```\n",
    "\n",
    "Here, `lock` is a `threading.Lock` object, another context manager. When you enter the `with` block, the `__enter__` method acquires the lock, ensuring only one thread can execute the critical section at a time.  Finally, the `__exit__` method releases the lock upon exiting the with block, allowing other threads to proceed."
   ]
  },
  {
   "cell_type": "markdown",
   "id": "aef2f710-7051-4e0d-9c67-12d3e88b5734",
   "metadata": {},
   "source": [
    "3. Database Connections\n",
    "\n",
    "Similarly, context managers can manage database connections:\n",
    "\n",
    "```Python\n",
    "import sqlite3\n",
    "\n",
    "with sqlite3.connect('database.db') as connection:\n",
    "  cursor = connection.cursor()\n",
    "  cursor.execute(\"SELECT * FROM table\")\n",
    "  rows = cursor.fetchall()\n",
    "```\n",
    "\n",
    "The `sqlite3.connect('database.db')` call is a context manager. Entering the `with` block establishes a connection to the database, assigning it to `connection`.  You can then use a `cursor` to interact with the database. The `__exit__` method guarantees the connection is closed when the `with` block exits, preventing resource leaks."
   ]
  },
  {
   "cell_type": "markdown",
   "id": "93c51e37-51bb-403b-b7b1-35f383f45cd5",
   "metadata": {},
   "source": [
    "4. Network Sockets\n",
    "\n",
    "Context managers can even handle network communication:\n",
    "\n",
    "```python\n",
    "import socket\n",
    "\n",
    "with socket.socket(socket.AF_INET, socket.SOCK_STREAM) as s:\n",
    "  s.connect(('localhost', 8080))\n",
    "  s.sendall(b'Hello, world')\n",
    "  data = s.recv(1024)\n",
    "```\n",
    "\n",
    "Here, `socket.socket(socket.AF_INET, socket.SOCK_STREAM)` creates a socket object that acts as the context manager.  The `__enter__` method creates the socket, and within the `with` block, you can connect, send data, and receive data.  The `__exit__` method ensures the socket is closed properly when done."
   ]
  },
  {
   "cell_type": "markdown",
   "id": "ea066338-14fd-4bb6-adb0-3bcba99babf4",
   "metadata": {},
   "source": [
    "\n",
    "5. Directory Scanning\n",
    "\n",
    "And context managers are versatile! `os.scandir('.')` provides a way to iterate over directory entries:\n",
    "\n",
    "```python\n",
    "import os\n",
    "\n",
    "with os.scandir('.') as entries:\n",
    "  for entry in entries:\n",
    "    print(entry.name)\n",
    "```\n",
    "\n",
    "`os.scandir('.')` acts as the context manager here.  The `__enter__` method opens a directory scan, and you can iterate over the entries within the with block.  The `__exit__` method cleans up the directory scan upon exiting.\n",
    "\n",
    "As you can see, the with statement, powered by context managers, simplifies resource management by handling allocation and deallocation automatically.  This keeps your code clean, avoids potential errors, and ensures proper resource usage in your Python applications."
   ]
  },
  {
   "cell_type": "markdown",
   "id": "4f321d0d-902a-41d6-80a4-e9699b0f10db",
   "metadata": {},
   "source": [
    "## Writing custom context managers in Python"
   ]
  },
  {
   "cell_type": "markdown",
   "id": "118bd540-f6af-44d3-9579-324e87cd7dbf",
   "metadata": {},
   "source": [
    "Let's take this a step further and explore how to craft your own context managers in Python.  This gives you fine-grained control over resource management within your applications.\n",
    "\n",
    "There are two main approaches to writing custom context managers: class-based and function-based.\n",
    "\n",
    "### Class-Based Approach\n",
    "Want more structure and control?  The class-based approach is your friend!  Here, you define a class that implements the special methods `__enter__` and `__exit__`.\n",
    "\n",
    "Let's look at an example of a `Timer` class that measures execution time:"
   ]
  },
  {
   "cell_type": "code",
   "execution_count": 1,
   "id": "ddd35be4-c4ac-4e32-80e5-760ef50da285",
   "metadata": {},
   "outputs": [
    {
     "name": "stdout",
     "output_type": "stream",
     "text": [
      "Elapsed time: 2.002065658569336 seconds\n"
     ]
    }
   ],
   "source": [
    "import time\n",
    "\n",
    "\n",
    "class Timer:\n",
    "    def __enter__(self):\n",
    "        self.start_time = time.time()\n",
    "        return self\n",
    "\n",
    "    def __exit__(self, exc_type, exc_value, traceback):\n",
    "        self.end_time = time.time()\n",
    "        elapsed_time = self.end_time - self.start_time\n",
    "        print(f\"Elapsed time: {elapsed_time} seconds\")\n",
    "\n",
    "\n",
    "# Example usage\n",
    "if __name__ == \"__main__\":\n",
    "    with Timer() as timer:\n",
    "        # Code block to measure the execution time\n",
    "        time.sleep(2)  # Simulate some time-cning operation"
   ]
  },
  {
   "cell_type": "markdown",
   "id": "409755dd-d81d-42ce-a3b3-982f7feb0a53",
   "metadata": {},
   "source": [
    "Here, the `Timer` class defines the `__enter__` method to capture the start time when you enter the with block.  It returns `self` to allow access to the object within the block.  The `__exit__` method calculates the elapsed time upon exiting the `with` block and prints it."
   ]
  },
  {
   "cell_type": "markdown",
   "id": "a27e52f5-82db-409d-95e2-db2069c62305",
   "metadata": {},
   "source": [
    "### Function-Based Approach"
   ]
  },
  {
   "cell_type": "markdown",
   "id": "8e6f1598-631b-41bb-b80f-3e994375a879",
   "metadata": {},
   "source": [
    "Prefer a more concise approach?  The function-based approach might be your style!  Here, you leverage the `contextmanager` decorator from the `contextlib` module.\r\n",
    "\r\n",
    "Let's see how we can achieve the same functionality with a function:"
   ]
  },
  {
   "cell_type": "code",
   "execution_count": 3,
   "id": "5b063447-06f3-4445-a860-f97b21bc8624",
   "metadata": {},
   "outputs": [
    {
     "name": "stdout",
     "output_type": "stream",
     "text": [
      "Elapsed time: 2.002091884613037 seconds\n"
     ]
    }
   ],
   "source": [
    "import time\n",
    "from contextlib import contextmanager\n",
    "\n",
    "\n",
    "@contextmanager\n",
    "def timer():\n",
    "    start_time = time.time()\n",
    "    yield\n",
    "    end_time = time.time()\n",
    "    elapsed_time = end_time - start_time\n",
    "    print(f\"Elapsed time: {elapsed_time} seconds\")\n",
    "\n",
    "\n",
    "# Example usage\n",
    "if __name__ == \"__main__\":\n",
    "    with timer():\n",
    "        time.sleep(2)"
   ]
  },
  {
   "cell_type": "markdown",
   "id": "2fe27549-69f8-4315-a218-05ea0ae8a7ce",
   "metadata": {},
   "source": [
    "The `@contextmanager` decorator transforms the timer function into a context manager.  Inside the function, `start_time` is captured, and the `yield` statement pauses execution, allowing code within the `with` block to run.  Finally, `__exit__` functionality is achieved by capturing the end time and printing the elapsed time.\r",
    "\r",
    "Essentially, you write the logic for the `__enter__` before the `yield` keyword whereas the logic for `__exit__` comes after. \n",
    "Both approaches achieve the same outcome, but the choice depends on your preference for structure and readabilityts!"
   ]
  },
  {
   "cell_type": "markdown",
   "id": "c9891959-e27c-4fb9-80bb-3a8e19506381",
   "metadata": {},
   "source": []
  },
  {
   "cell_type": "markdown",
   "id": "1e47d52f-757f-44e0-bd96-233a0a07c552",
   "metadata": {},
   "source": [
    "### Practical examples of context managers"
   ]
  },
  {
   "cell_type": "code",
   "execution_count": null,
   "id": "aae2454b-ab37-454f-8000-fb38c1507a9b",
   "metadata": {},
   "outputs": [],
   "source": [
    "class FileManager:\n",
    "    def __init__(self, filename, mode):\n",
    "        self.filename = filename\n",
    "        self.mode = mode\n",
    "        self.file = None\n",
    "\n",
    "    def __enter__(self):\n",
    "        self.file = open(self.filename, self.mode)\n",
    "        return self.file\n",
    "\n",
    "    def __exit__(self, exc_type, exc_value, traceback):\n",
    "        if self.file:\n",
    "            self.file.close()\n",
    "\n",
    "\n",
    "# Example usage\n",
    "if __name__ == \"__main__\":\n",
    "    with FileManager(\"example.txt\", \"w\") as file:\n",
    "        file.write(\"Hello, world!\")"
   ]
  },
  {
   "cell_type": "code",
   "execution_count": 1,
   "id": "f002cb11-2082-4d31-b3a8-c23ba9ad5a7f",
   "metadata": {},
   "outputs": [
    {
     "name": "stdout",
     "output_type": "stream",
     "text": [
      "Users in the database:\n",
      "(1, 'john_doe', 'john@example.com')\n",
      "(2, 'jane_doe', 'jane@example.com')\n"
     ]
    }
   ],
   "source": [
    "import sqlite3\n",
    "\n",
    "\n",
    "class DatabaseConnection:\n",
    "    def __init__(self, database_name):\n",
    "        self.database_name = database_name\n",
    "        self.connection = None\n",
    "\n",
    "    def __enter__(self):\n",
    "        self.connection = sqlite3.connect(self.database_name)\n",
    "        return self.connection\n",
    "\n",
    "    def __exit__(self, exc_type, exc_value, traceback):\n",
    "        if self.connection:\n",
    "            self.connection.close()\n",
    "\n",
    "\n",
    "# Example usage\n",
    "def create_table():\n",
    "    with DatabaseConnection(\"example.db\") as connection:\n",
    "        cursor = connection.cursor()\n",
    "        cursor.execute(\n",
    "            \"\"\"CREATE TABLE IF NOT EXISTS users (\n",
    "                            id INTEGER PRIMARY KEY,\n",
    "                            username TEXT,\n",
    "                            email TEXT)\"\"\"\n",
    "        )\n",
    "\n",
    "\n",
    "def insert_data(username, email):\n",
    "    with DatabaseConnection(\"example.db\") as connection:\n",
    "        cursor = connection.cursor()\n",
    "        cursor.execute(\n",
    "            \"INSERT INTO users (username, email) VALUES (?, ?)\", (username, email)\n",
    "        )\n",
    "        connection.commit()\n",
    "\n",
    "\n",
    "def fetch_data():\n",
    "    with DatabaseConnection(\"example.db\") as connection:\n",
    "        cursor = connection.cursor()\n",
    "        cursor.execute(\"SELECT * FROM users\")\n",
    "        return cursor.fetchall()\n",
    "\n",
    "\n",
    "if __name__ == \"__main__\":\n",
    "    create_table()\n",
    "    insert_data(\"john_doe\", \"john@example.com\")\n",
    "    insert_data(\"jane_doe\", \"jane@example.com\")\n",
    "    users = fetch_data()\n",
    "    print(\"Users in the database:\")\n",
    "    for user in users:\n",
    "        print(user)"
   ]
  },
  {
   "cell_type": "markdown",
   "id": "650493bb-ba1b-487c-be9b-fe8cfcaad89a",
   "metadata": {},
   "source": [
    "## Advanced topics related to context managers in Python"
   ]
  },
  {
   "cell_type": "markdown",
   "id": "ea5d6865-2417-46ad-8640-a9971f5f5967",
   "metadata": {},
   "source": [
    "### Error handling"
   ]
  },
  {
   "cell_type": "markdown",
   "id": "acab45e3-e885-409c-a126-e1fa3dc44535",
   "metadata": {},
   "source": [
    "### Nesting context managers"
   ]
  },
  {
   "cell_type": "markdown",
   "id": "a0b7fc6c-fd99-4e76-8607-e35bebbac5b9",
   "metadata": {},
   "source": [
    "## Conclusion"
   ]
  }
 ],
 "metadata": {
  "kernelspec": {
   "display_name": "articles",
   "language": "python",
   "name": "articles"
  },
  "language_info": {
   "codemirror_mode": {
    "name": "ipython",
    "version": 3
   },
   "file_extension": ".py",
   "mimetype": "text/x-python",
   "name": "python",
   "nbconvert_exporter": "python",
   "pygments_lexer": "ipython3",
   "version": "3.10.8"
  },
  "widgets": {
   "application/vnd.jupyter.widget-state+json": {
    "state": {},
    "version_major": 2,
    "version_minor": 0
   }
  }
 },
 "nbformat": 4,
 "nbformat_minor": 5
}
