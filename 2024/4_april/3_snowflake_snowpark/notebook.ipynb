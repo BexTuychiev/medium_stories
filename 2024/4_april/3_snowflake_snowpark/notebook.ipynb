{
 "cells": [
  {
   "cell_type": "markdown",
   "id": "1c176655-3475-4930-a524-754dc5cbecd7",
   "metadata": {},
   "source": [
    "# A Beginner's Guide to Snowflake Snowpark"
   ]
  },
  {
   "cell_type": "markdown",
   "id": "1733be55-a10f-49d9-a885-a5fa9bfaeda0",
   "metadata": {},
   "source": [
    "## What is Snowflake Snowpark?"
   ]
  },
  {
   "cell_type": "markdown",
   "id": "97676e5b-890f-4c61-bd04-28f321f2fe47",
   "metadata": {},
   "source": [
    "## Why learn Snowflake Snowpark?"
   ]
  },
  {
   "cell_type": "markdown",
   "id": "e05309f6-aa2d-4468-adba-8cb0c80ef9fb",
   "metadata": {},
   "source": [
    "## Getting started with Snowpark"
   ]
  },
  {
   "cell_type": "markdown",
   "id": "b012240d-2aaa-459f-98a5-b23b2d05ee6c",
   "metadata": {},
   "source": [
    "### Setting up the environment"
   ]
  },
  {
   "cell_type": "markdown",
   "id": "2db055d5-4e1d-4ff6-a146-82b518c236a3",
   "metadata": {},
   "source": [
    "```shell\n",
    "$ conda create -n snowpark python==3.10 -y\n",
    "$ conda activate snowpark\n",
    "$ pip install snowflake-snowpark-python pandas pyarrow numpy matplotlib seaborn\n",
    "$ pip install ipykernel\n",
    "$ ipython kernel install --user --name=snowpark\n",
    "```"
   ]
  },
  {
   "cell_type": "markdown",
   "id": "77696f6b-ecfc-484b-9839-f91ad1da59cc",
   "metadata": {},
   "source": [
    "### Ingesting data into Snowflake"
   ]
  },
  {
   "attachments": {},
   "cell_type": "markdown",
   "id": "20cbfc2e-6002-4e36-bcc2-7bc480406881",
   "metadata": {},
   "source": [
    "![](images/web_create_table.gif)"
   ]
  },
  {
   "cell_type": "markdown",
   "id": "828b4542-4cf1-4f9d-8c47-aaaf6dc4c847",
   "metadata": {},
   "source": [
    "### Creating a session with Snowpark"
   ]
  },
  {
   "cell_type": "code",
   "execution_count": 1,
   "id": "34f71a34-2844-44e4-a3d0-94abe1ce8b49",
   "metadata": {},
   "outputs": [],
   "source": [
    "from snowflake.snowpark import Session"
   ]
  },
  {
   "cell_type": "code",
   "execution_count": null,
   "id": "c9731623-f6bd-4905-af95-42a289720bb6",
   "metadata": {},
   "outputs": [],
   "source": [
    "connection_parameters = {\n",
    "    \"account\": \"<your snowflake account>\",\n",
    "    \"user\": \"<your snowflake user>\",\n",
    "    \"password\": \"<your snowflake password>\",\n",
    "    \"database\": \"<your snowflake database>\",  # optional\n",
    "    \"schema\": \"<your snowflake schema>\",  # optional\n",
    "}\n",
    "\n",
    "new_session = Session.builder.configs(connection_parameters).create()"
   ]
  },
  {
   "cell_type": "markdown",
   "id": "aa9f0b1d-cbb2-4a0c-8e78-8886cd16f4eb",
   "metadata": {},
   "source": [
    "### Loading existing data into a session"
   ]
  },
  {
   "cell_type": "markdown",
   "id": "70589fab-3109-4f98-94f5-f393852de27a",
   "metadata": {},
   "source": [
    "## Performing EDA on Snowpark DataFrames"
   ]
  },
  {
   "cell_type": "markdown",
   "id": "340b5d53-f454-482a-97f1-cc8c7c72bf2e",
   "metadata": {},
   "source": [
    "### Lazy vs Eager execution"
   ]
  },
  {
   "cell_type": "markdown",
   "id": "11a03661-6386-4af3-b023-2aac4700a2a4",
   "metadata": {},
   "source": [
    "## Training a machine learning model in Snowpark"
   ]
  },
  {
   "cell_type": "markdown",
   "id": "5d3d6af1-c9f9-444e-a7ce-ed6398ba9886",
   "metadata": {},
   "source": [
    "## Conclusion"
   ]
  }
 ],
 "metadata": {
  "kernelspec": {
   "display_name": "snowpark",
   "language": "python",
   "name": "snowpark"
  },
  "language_info": {
   "codemirror_mode": {
    "name": "ipython",
    "version": 3
   },
   "file_extension": ".py",
   "mimetype": "text/x-python",
   "name": "python",
   "nbconvert_exporter": "python",
   "pygments_lexer": "ipython3",
   "version": "3.8.10"
  },
  "widgets": {
   "application/vnd.jupyter.widget-state+json": {
    "state": {},
    "version_major": 2,
    "version_minor": 0
   }
  }
 },
 "nbformat": 4,
 "nbformat_minor": 5
}
