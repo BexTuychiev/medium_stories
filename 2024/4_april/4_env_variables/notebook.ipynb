{
 "cells": [
  {
   "cell_type": "markdown",
   "id": "a0f631df-205f-46fd-8506-8c4e65773cb5",
   "metadata": {},
   "source": [
    "# Everything You Need to Know About Python Environment Variables"
   ]
  },
  {
   "cell_type": "markdown",
   "id": "ec764159-1768-4bb5-9ea8-c90ef8b6a66a",
   "metadata": {},
   "source": [
    "## Introduction"
   ]
  },
  {
   "cell_type": "markdown",
   "id": "4c9afef2-a983-47bf-927f-a22c68c675eb",
   "metadata": {},
   "source": [
    "Environment variables are powerful mechanisms for storing configuration details of your development project flexibly and securely. They store key-value pairs of data accessible by programming languages such as Python and keep that information hidden from outside parties. In this tutorial, you will learn all must-know concepts and techniques to create and manage environment variables in Python."
   ]
  },
  {
   "cell_type": "markdown",
   "id": "6350632e-5fb5-406a-b89f-a8ce2b60fa8a",
   "metadata": {},
   "source": [
    "## What are environment variables in general?"
   ]
  },
  {
   "cell_type": "markdown",
   "id": "d5cf1d16-5f9e-49b1-b841-3ddb4fdb99d6",
   "metadata": {},
   "source": [
    "## Why are Python environment variables important?"
   ]
  },
  {
   "cell_type": "markdown",
   "id": "c94fd4aa-8efc-4c5a-82ca-5e3ad9dbbdf5",
   "metadata": {},
   "source": [
    "## How to retrieve environment variables in Python `os` module?"
   ]
  },
  {
   "cell_type": "code",
   "execution_count": 20,
   "id": "13daaa64-0b1c-4597-8057-8ab61048918d",
   "metadata": {},
   "outputs": [
    {
     "data": {
      "text/plain": [
       "'bexgboost'"
      ]
     },
     "execution_count": 20,
     "metadata": {},
     "output_type": "execute_result"
    }
   ],
   "source": [
    "import os\n",
    "\n",
    "os.getenv(\"USER\")"
   ]
  },
  {
   "cell_type": "code",
   "execution_count": 22,
   "id": "333ec1fe-858f-489d-8e6e-e7c512f704c4",
   "metadata": {},
   "outputs": [],
   "source": [
    "os.getenv(\"MYDATABASE\")"
   ]
  },
  {
   "cell_type": "code",
   "execution_count": 35,
   "id": "3a58d796-ea32-46c4-a554-6f7623f306b6",
   "metadata": {},
   "outputs": [
    {
     "name": "stdout",
     "output_type": "stream",
     "text": [
      "123\n"
     ]
    }
   ],
   "source": [
    "password = os.getenv(\"COMPUTER_PASSWORD\", \"123\")\n",
    "\n",
    "print(password)"
   ]
  },
  {
   "cell_type": "code",
   "execution_count": 36,
   "id": "b68ecfda-9924-4ee8-a3d6-5ad06bcc23a6",
   "metadata": {},
   "outputs": [
    {
     "data": {
      "text/plain": [
       "'/home/bexgboost/articles/2024/4_april'"
      ]
     },
     "execution_count": 36,
     "metadata": {},
     "output_type": "execute_result"
    }
   ],
   "source": [
    "current_directory = os.environ.get(\"PWD\", None)\n",
    "current_directory"
   ]
  },
  {
   "cell_type": "code",
   "execution_count": 6,
   "id": "b8f3cfd0-a398-4784-b84b-f04cc3e5b183",
   "metadata": {},
   "outputs": [
    {
     "data": {
      "text/plain": [
       "'/home/bexgboost/articles/2024/4_april'"
      ]
     },
     "execution_count": 6,
     "metadata": {},
     "output_type": "execute_result"
    }
   ],
   "source": [
    "import os\n",
    "\n",
    "current_directory = os.environ[\"PWD\"]\n",
    "current_directory"
   ]
  },
  {
   "cell_type": "code",
   "execution_count": 28,
   "id": "990d853c-2639-4506-97b7-23e60b537c4d",
   "metadata": {},
   "outputs": [
    {
     "data": {
      "text/plain": [
       "'/home/bexgboost'"
      ]
     },
     "execution_count": 28,
     "metadata": {},
     "output_type": "execute_result"
    }
   ],
   "source": [
    "os.getenv(\"HOME\")"
   ]
  },
  {
   "cell_type": "code",
   "execution_count": 30,
   "id": "638bc57a-945b-40f1-887e-3fbd2d876cdf",
   "metadata": {},
   "outputs": [
    {
     "data": {
      "text/plain": [
       "'/home/bexgboost/anaconda3/bin/conda'"
      ]
     },
     "execution_count": 30,
     "metadata": {},
     "output_type": "execute_result"
    }
   ],
   "source": [
    "os.getenv(\"CONDA_EXE\")"
   ]
  },
  {
   "cell_type": "code",
   "execution_count": 32,
   "id": "5f7640ce-648c-4d27-a51e-56eb76500a91",
   "metadata": {},
   "outputs": [
    {
     "data": {
      "text/plain": [
       "'/home/bexgboost/.local/bin:/home/bexgboost/bin'"
      ]
     },
     "execution_count": 32,
     "metadata": {},
     "output_type": "execute_result"
    }
   ],
   "source": [
    "os.getenv(\"PATH\")[:46]"
   ]
  },
  {
   "cell_type": "code",
   "execution_count": 34,
   "id": "65dd85d9-8243-4f87-8071-a515f3395a9a",
   "metadata": {},
   "outputs": [
    {
     "data": {
      "text/plain": [
       "79"
      ]
     },
     "execution_count": 34,
     "metadata": {},
     "output_type": "execute_result"
    }
   ],
   "source": [
    "def count_path_items():\n",
    "    items = os.getenv(\"PATH\").split(\":\")\n",
    "\n",
    "    return len(items)\n",
    "\n",
    "\n",
    "count_path_items()"
   ]
  },
  {
   "cell_type": "markdown",
   "id": "fe68ba60-a3f1-4e31-a514-fb43198012af",
   "metadata": {},
   "source": [
    "## Using `python-dotenv` library to manage environment variables in Python effectively"
   ]
  },
  {
   "cell_type": "markdown",
   "id": "a733734b-1f6b-494c-ab57-70f85182b8ce",
   "metadata": {},
   "source": [
    "### Setting custom environment variables"
   ]
  },
  {
   "cell_type": "markdown",
   "id": "6084fe3a-3ad7-4fe8-8cea-abe6da0352e4",
   "metadata": {},
   "source": [
    "```shell\n",
    "$ touch ~/.env\n",
    "```"
   ]
  },
  {
   "cell_type": "markdown",
   "id": "0ea8f90f-66bf-4a89-bd24-14a5a64596d7",
   "metadata": {},
   "source": [
    "```shell\n",
    "CUSTOM_API_LINK=https://myapi.com/v1/api\r\n",
    "SNOWFLAKE_USERNAME=bexgboost\r\n",
    "MYSQL_DATABASE_PASSWORD=as3ndf03\n",
    "```"
   ]
  },
  {
   "cell_type": "markdown",
   "id": "471bd3a7-f274-49c1-afc6-3a1a2886e309",
   "metadata": {},
   "source": [
    "```bash\n",
    "LONG_ENV=\"This is an environment\n",
    "variable with a long message\"\n",
    "```"
   ]
  },
  {
   "cell_type": "markdown",
   "id": "818af3b7-62b1-459e-bc6c-fce62a340b53",
   "metadata": {},
   "source": [
    "```bash\n",
    "LONG_ENV=\"This is an \\\"environment\n",
    "variable with a long message\"\n",
    "```"
   ]
  },
  {
   "cell_type": "markdown",
   "id": "ffac4645-5862-4b23-af2c-37bf67030523",
   "metadata": {},
   "source": [
    "```shell\n",
    "# You can also add comments anywhere with #\n",
    "CUSTOM_API_LINK=https://myapi.com/v1/api\n",
    "SNOWFLAKE_USERNAME=bexgboost\n",
    "MYSQL_DATABASE_PASSWORD=as3ndf03\n",
    "```"
   ]
  },
  {
   "cell_type": "markdown",
   "id": "9ef99c53-6d62-4b29-b507-4d4aa79743b7",
   "metadata": {},
   "source": [
    "```shell\n",
    "FIRST_NAME=John\n",
    "LAST_NAME=Doe\n",
    "FULL_NAME=\"I am ${FIRST_NAME} ${LAST_NAME}\"\n",
    "```"
   ]
  },
  {
   "cell_type": "markdown",
   "id": "e6f041a1-7da9-4990-8011-38f8fef1e9ce",
   "metadata": {},
   "source": [
    "### Retrieving custom environment variables with `python-dotenv`"
   ]
  },
  {
   "cell_type": "code",
   "execution_count": 8,
   "id": "122a2fcd-6af2-4c9d-bdbc-278b17c35ada",
   "metadata": {},
   "outputs": [
    {
     "data": {
      "text/plain": [
       "True"
      ]
     },
     "execution_count": 8,
     "metadata": {},
     "output_type": "execute_result"
    }
   ],
   "source": [
    "from dotenv import load_dotenv\n",
    "\n",
    "load_dotenv()"
   ]
  },
  {
   "cell_type": "code",
   "execution_count": 7,
   "id": "c962d1b4-9da2-45a3-b173-1ced7f282d24",
   "metadata": {},
   "outputs": [
    {
     "data": {
      "text/plain": [
       "'https://myapi.com/v1/api'"
      ]
     },
     "execution_count": 7,
     "metadata": {},
     "output_type": "execute_result"
    }
   ],
   "source": [
    "import os\n",
    "\n",
    "os.getenv(\"CUSTOM_API_LINK\")"
   ]
  },
  {
   "cell_type": "code",
   "execution_count": 3,
   "id": "9467892d-95c3-4093-a6cf-295a9436e92c",
   "metadata": {},
   "outputs": [
    {
     "data": {
      "text/plain": [
       "'bexgboost'"
      ]
     },
     "execution_count": 3,
     "metadata": {},
     "output_type": "execute_result"
    }
   ],
   "source": [
    "os.getenv(\"SNOWFLAKE_USERNAME\")"
   ]
  },
  {
   "cell_type": "code",
   "execution_count": 5,
   "id": "2a5b9ad7-6861-4ba9-8f43-6b4652d2162d",
   "metadata": {},
   "outputs": [
    {
     "data": {
      "text/plain": [
       "True"
      ]
     },
     "execution_count": 5,
     "metadata": {},
     "output_type": "execute_result"
    }
   ],
   "source": [
    "load_dotenv(\"/home/bexgboost/.env\")"
   ]
  },
  {
   "cell_type": "markdown",
   "id": "2529fe70-3241-4470-ba98-d03a115a68cd",
   "metadata": {},
   "source": [
    "### Working with .env files in Jupyter"
   ]
  },
  {
   "cell_type": "code",
   "execution_count": 1,
   "id": "0b6d6106-117b-4a51-bb52-d8fb8644f105",
   "metadata": {},
   "outputs": [],
   "source": [
    "%load_ext dotenv\n",
    "%dotenv"
   ]
  },
  {
   "cell_type": "code",
   "execution_count": 4,
   "id": "49e3728a-0b04-4a41-b45e-b89d35e1c99a",
   "metadata": {},
   "outputs": [
    {
     "data": {
      "text/plain": [
       "'bexgboost'"
      ]
     },
     "execution_count": 4,
     "metadata": {},
     "output_type": "execute_result"
    }
   ],
   "source": [
    "import os\n",
    "\n",
    "os.getenv(\"SNOWFLAKE_USERNAME\")"
   ]
  },
  {
   "cell_type": "markdown",
   "id": "65cad82b-041b-4135-9e68-e2f0f7b8bd97",
   "metadata": {},
   "source": [
    "## Best practices for using environment variables in Python"
   ]
  },
  {
   "cell_type": "markdown",
   "id": "9660d4bc-bb09-4997-b9ef-c8c653047e8d",
   "metadata": {},
   "source": [
    "```\n",
    "$ touch .gitignore\n",
    "$ echo \".env\" >> .gitignore\r\n",
    "```"
   ]
  },
  {
   "cell_type": "markdown",
   "id": "291e452d-ea2d-4e1f-8006-31fca491d8f0",
   "metadata": {},
   "source": [
    "- Use descriptive naming\n",
    "- Scope control, set variables only within a specific environment or project. Don't add project-specific passwords or configs to your global .env file\n",
    "- Always use .envs\n",
    "- Always make sure that .envs are in gitignore\n",
    "- Create multiple .env files for different parts of development\n",
    "- Then, add them as .env*"
   ]
  },
  {
   "cell_type": "markdown",
   "id": "9af401af-9a6a-46fd-87f9-3a0d7c19bbfb",
   "metadata": {},
   "source": [
    "## Conclusion"
   ]
  }
 ],
 "metadata": {
  "kernelspec": {
   "display_name": "articles",
   "language": "python",
   "name": "articles"
  },
  "language_info": {
   "codemirror_mode": {
    "name": "ipython",
    "version": 3
   },
   "file_extension": ".py",
   "mimetype": "text/x-python",
   "name": "python",
   "nbconvert_exporter": "python",
   "pygments_lexer": "ipython3",
   "version": "3.10.8"
  },
  "widgets": {
   "application/vnd.jupyter.widget-state+json": {
    "state": {},
    "version_major": 2,
    "version_minor": 0
   }
  }
 },
 "nbformat": 4,
 "nbformat_minor": 5
}
