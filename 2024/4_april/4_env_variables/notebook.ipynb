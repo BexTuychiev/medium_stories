{
 "cells": [
  {
   "cell_type": "markdown",
   "id": "a0f631df-205f-46fd-8506-8c4e65773cb5",
   "metadata": {},
   "source": [
    "# Everything You Need to Know About Python Environment Variables"
   ]
  },
  {
   "cell_type": "markdown",
   "id": "ec764159-1768-4bb5-9ea8-c90ef8b6a66a",
   "metadata": {},
   "source": [
    "## Introduction"
   ]
  },
  {
   "cell_type": "markdown",
   "id": "4c9afef2-a983-47bf-927f-a22c68c675eb",
   "metadata": {},
   "source": [
    "Environment variables are powerful mechanisms for storing configuration details of your development project flexibly and securely. They store key-value pairs of data accessible by programming languages such as Python and keep that information hidden from outside parties. In this tutorial, you will learn all must-know concepts and techniques to create and manage environment variables in Python."
   ]
  },
  {
   "cell_type": "markdown",
   "id": "6350632e-5fb5-406a-b89f-a8ce2b60fa8a",
   "metadata": {},
   "source": [
    "## What are environment variables in general?"
   ]
  },
  {
   "cell_type": "markdown",
   "id": "3b23259c-d345-40fd-a779-c76cc172af0d",
   "metadata": {},
   "source": [
    "Environment variables are essentially name-value pairs stored somewhere safe in your operation system. Most often, they look like this:"
   ]
  },
  {
   "cell_type": "markdown",
   "id": "6e00b4ab-af93-4ed4-a004-b6c150b74e36",
   "metadata": {},
   "source": [
    "```bash\n",
    "API_KEY=1akn4nka-aqwej3\n",
    "```"
   ]
  },
  {
   "cell_type": "markdown",
   "id": "285e45bd-444a-4255-a96e-71fdd640ad71",
   "metadata": {},
   "source": [
    "In Python, you can use such variables to store sensitive information related to your development project. Sensitive information can be:\n",
    "- API keys to access others' applications\n",
    "- Username and passwords to log in to applications through scripts\n",
    "- Database credentials\n",
    "\n",
    "or anything that might cause a security issue if exposed accidentally. For example, if you write a Python script that openly uses your AWS credentials and accidentally commit that script to GitHub, there is a chance malicious parties discover it and significantly increase your AWS bill (this was known to happen).\n",
    "\n",
    "Another benefit of environment variables is configurability. You can easily adjust settings (database URLs, file paths) by modifying environment variables without changing your code. This is especially helpful if you use the same setting in multiple parts of your project. \n",
    "\n",
    "Now, without further ado, let's learn how to work with them in Python."
   ]
  },
  {
   "cell_type": "markdown",
   "id": "c94fd4aa-8efc-4c5a-82ca-5e3ad9dbbdf5",
   "metadata": {},
   "source": [
    "## How to retrieve environment variables in Python `os` module?"
   ]
  },
  {
   "cell_type": "markdown",
   "id": "10ed60b5-1194-44dc-99e3-31d2ef3e401e",
   "metadata": {},
   "source": [
    "To retrieve existing environment variables in your system, you can use the `os` module. It has the `.getenv` function to retrieve variables:"
   ]
  },
  {
   "cell_type": "code",
   "execution_count": 20,
   "id": "13daaa64-0b1c-4597-8057-8ab61048918d",
   "metadata": {},
   "outputs": [
    {
     "data": {
      "text/plain": [
       "'bexgboost'"
      ]
     },
     "execution_count": 20,
     "metadata": {},
     "output_type": "execute_result"
    }
   ],
   "source": [
    "import os\n",
    "\n",
    "os.getenv(\"USER\")"
   ]
  },
  {
   "cell_type": "markdown",
   "id": "9dbfbcf7-9c75-4eb1-b7c6-b6626e6462a4",
   "metadata": {},
   "source": [
    "Above, I am retrieving the system user name, which is built-in to all systems. There are many others like the home path:"
   ]
  },
  {
   "cell_type": "code",
   "execution_count": 28,
   "id": "990d853c-2639-4506-97b7-23e60b537c4d",
   "metadata": {},
   "outputs": [
    {
     "data": {
      "text/plain": [
       "'/home/bexgboost'"
      ]
     },
     "execution_count": 28,
     "metadata": {},
     "output_type": "execute_result"
    }
   ],
   "source": [
    "os.getenv(\"HOME\")"
   ]
  },
  {
   "cell_type": "markdown",
   "id": "4a42240a-02bc-4622-8945-bb7182c82b21",
   "metadata": {},
   "source": [
    "Or the path to your Conda executable:"
   ]
  },
  {
   "cell_type": "code",
   "execution_count": 30,
   "id": "638bc57a-945b-40f1-887e-3fbd2d876cdf",
   "metadata": {},
   "outputs": [
    {
     "data": {
      "text/plain": [
       "'/home/bexgboost/anaconda3/bin/conda'"
      ]
     },
     "execution_count": 30,
     "metadata": {},
     "output_type": "execute_result"
    }
   ],
   "source": [
    "os.getenv(\"CONDA_EXE\")"
   ]
  },
  {
   "cell_type": "markdown",
   "id": "929a7c8e-56ba-4185-8702-e03e5e135442",
   "metadata": {},
   "source": [
    "So, when you run `conda` commands, that's how your terminal knows which application to run. But what happens if you try to retrieve a variable that doesn't exist:"
   ]
  },
  {
   "cell_type": "code",
   "execution_count": 22,
   "id": "333ec1fe-858f-489d-8e6e-e7c512f704c4",
   "metadata": {},
   "outputs": [],
   "source": [
    "os.getenv(\"MYDATABASE\")"
   ]
  },
  {
   "cell_type": "markdown",
   "id": "7fb4cf41-69c0-431d-94ce-befec109ea6c",
   "metadata": {},
   "source": [
    "The `.getenv()` function doesn't return anything but we can change that behavior. You can use its `default` parameter to return a custom value if a variable doesn't exist:"
   ]
  },
  {
   "cell_type": "code",
   "execution_count": 11,
   "id": "3a58d796-ea32-46c4-a554-6f7623f306b6",
   "metadata": {},
   "outputs": [
    {
     "data": {
      "text/plain": [
       "'123'"
      ]
     },
     "execution_count": 11,
     "metadata": {},
     "output_type": "execute_result"
    }
   ],
   "source": [
    "os.getenv(\"COMPUTER_PASSWORD\", default=\"123\")"
   ]
  },
  {
   "cell_type": "markdown",
   "id": "21395c1a-b590-4a9b-8f6d-18ff21b47e1d",
   "metadata": {},
   "source": [
    "The `.getenv()` function is the best method to retrieve existing variables. However, in other sources, you might see different methods like the `.environ` attribute which returns a dictionary containing all environment variables:"
   ]
  },
  {
   "cell_type": "code",
   "execution_count": 36,
   "id": "b68ecfda-9924-4ee8-a3d6-5ad06bcc23a6",
   "metadata": {},
   "outputs": [
    {
     "data": {
      "text/plain": [
       "'/home/bexgboost/articles/2024/4_april'"
      ]
     },
     "execution_count": 36,
     "metadata": {},
     "output_type": "execute_result"
    }
   ],
   "source": [
    "current_directory = os.environ.get(\"PWD\", None)\n",
    "current_directory"
   ]
  },
  {
   "cell_type": "markdown",
   "id": "d710a09b-0cc6-42f8-b3f3-f78cdef5150b",
   "metadata": {},
   "source": [
    "Since it is a dictionary, you can use brackets notation (not recommended) or the `.get()` function to retrieve a value."
   ]
  },
  {
   "cell_type": "markdown",
   "id": "b7f97707-5324-494d-b180-e09c672566e9",
   "metadata": {},
   "source": [
    "`os` also has access to probably the most important system variable called PATH. `PATH` holds the absolute paths to all the executables installed on your system, so it is pretty long:"
   ]
  },
  {
   "cell_type": "code",
   "execution_count": 32,
   "id": "5f7640ce-648c-4d27-a51e-56eb76500a91",
   "metadata": {},
   "outputs": [
    {
     "data": {
      "text/plain": [
       "'/home/bexgboost/.local/bin:/home/bexgboost/bin'"
      ]
     },
     "execution_count": 32,
     "metadata": {},
     "output_type": "execute_result"
    }
   ],
   "source": [
    "os.getenv(\"PATH\")[:46]"
   ]
  },
  {
   "cell_type": "markdown",
   "id": "c14cad71-814d-4c4c-9087-08ebd0449c2f",
   "metadata": {},
   "source": [
    "Each path in `PATH` is separated by a colon. Let's count the length of `PATH` on my system:"
   ]
  },
  {
   "cell_type": "code",
   "execution_count": 34,
   "id": "65dd85d9-8243-4f87-8071-a515f3395a9a",
   "metadata": {},
   "outputs": [
    {
     "data": {
      "text/plain": [
       "79"
      ]
     },
     "execution_count": 34,
     "metadata": {},
     "output_type": "execute_result"
    }
   ],
   "source": [
    "def count_path_items():\n",
    "    items = os.getenv(\"PATH\").split(\":\")\n",
    "\n",
    "    return len(items)\n",
    "\n",
    "\n",
    "count_path_items()"
   ]
  },
  {
   "cell_type": "markdown",
   "id": "c021cc37-51c3-4cad-8f24-4b65042bc0cd",
   "metadata": {},
   "source": [
    "79! Not bad."
   ]
  },
  {
   "cell_type": "markdown",
   "id": "fe68ba60-a3f1-4e31-a514-fb43198012af",
   "metadata": {},
   "source": [
    "## Using `python-dotenv` library to manage environment variables in Python effectively"
   ]
  },
  {
   "cell_type": "markdown",
   "id": "a733734b-1f6b-494c-ab57-70f85182b8ce",
   "metadata": {},
   "source": [
    "### Setting custom environment variables"
   ]
  },
  {
   "cell_type": "markdown",
   "id": "e88f61fe-e79b-4194-b3ce-751f2e8ffa8f",
   "metadata": {},
   "source": [
    "Now that we know how to extract existing variables, let's see how to set custom ones. The first method is using the `os.environ` dictionary:"
   ]
  },
  {
   "cell_type": "code",
   "execution_count": 13,
   "id": "a1931bd3-0012-4ce2-989b-17a4cb0ab013",
   "metadata": {},
   "outputs": [
    {
     "data": {
      "text/plain": [
       "'42'"
      ]
     },
     "execution_count": 13,
     "metadata": {},
     "output_type": "execute_result"
    }
   ],
   "source": [
    "# Create a new environment variable\n",
    "os.environ[\"NEW_VARIABLE\"] = \"42\"  # Always expects a string value\n",
    "\n",
    "os.getenv(\"NEW_VARIABLE\")"
   ]
  },
  {
   "cell_type": "markdown",
   "id": "9e6983e2-a803-4542-909b-4036305d342d",
   "metadata": {},
   "source": [
    "But this method isn't much useful as all new variables will be lost once the current session ends. \n",
    "\n",
    "Fortunately, there is a more lasting method of storing environment variables by using `.env` files (pronounced dot-env). These files have the same syntax which means they will work on any operating system. Here is what a sample .env file looks like:"
   ]
  },
  {
   "cell_type": "markdown",
   "id": "72b3fab7-0880-4739-a87a-bee6106bea43",
   "metadata": {},
   "source": [
    "```shell\n",
    "CUSTOM_API_LINK=https://myapi.com/v1/api\r\n",
    "SNOWFLAKE_USERNAME=bexgboost\r\n",
    "MYSQL_DATABASE_PASSWORD=as3ndf03\n",
    "```"
   ]
  },
  {
   "cell_type": "markdown",
   "id": "54c95c4d-411f-488f-a9f1-e58c1fff6656",
   "metadata": {},
   "source": [
    "It defines only three variables. To read this file and extract its contents, we will use a library called `python-dotenv`:"
   ]
  },
  {
   "cell_type": "markdown",
   "id": "83f8c76f-3580-4b21-a277-fd5a6105e0e7",
   "metadata": {},
   "source": [
    "```bash\n",
    "$ pip install python-dotenv\n",
    "```"
   ]
  },
  {
   "cell_type": "markdown",
   "id": "280f44fb-a876-46fb-9950-d417f4786f0b",
   "metadata": {},
   "source": [
    "Then, in a Python script or a Jupyter notebook, we will import its `load_dotenv` function and call it:"
   ]
  },
  {
   "cell_type": "code",
   "execution_count": 8,
   "id": "122a2fcd-6af2-4c9d-bdbc-278b17c35ada",
   "metadata": {},
   "outputs": [
    {
     "data": {
      "text/plain": [
       "True"
      ]
     },
     "execution_count": 8,
     "metadata": {},
     "output_type": "execute_result"
    }
   ],
   "source": [
    "from dotenv import load_dotenv\n",
    "\n",
    "load_dotenv()"
   ]
  },
  {
   "cell_type": "markdown",
   "id": "e69c295e-74a1-432e-aa2b-6ea155f77036",
   "metadata": {},
   "source": [
    "If it can't find a `.env` file within the current directory, it will search all parent directories and return `True` if found. \n",
    "\n",
    "I stored the above `.env` file in my home directory `~/.env`, that's why `load_dotenv` could find it. To create your own files, you can use the `touch` command in the terminal or use a text editor like VSCode:"
   ]
  },
  {
   "cell_type": "markdown",
   "id": "6084fe3a-3ad7-4fe8-8cea-abe6da0352e4",
   "metadata": {},
   "source": [
    "```shell\n",
    "$ touch ~/.env\n",
    "```"
   ]
  },
  {
   "cell_type": "markdown",
   "id": "52a21e27-4e26-43fa-bd4e-70ac876059c7",
   "metadata": {},
   "source": [
    "The syntax of `.env` files are pretty flexible. You can set variables with multi-line values (must have quotes):"
   ]
  },
  {
   "cell_type": "markdown",
   "id": "471bd3a7-f274-49c1-afc6-3a1a2886e309",
   "metadata": {},
   "source": [
    "```bash\n",
    "LONG_ENV=\"This is an environment\n",
    "variable with a long message\"\n",
    "```"
   ]
  },
  {
   "cell_type": "markdown",
   "id": "3b39ef6c-6aea-42c6-955c-20ae9a3f9d7d",
   "metadata": {},
   "source": [
    "Use escape characters:"
   ]
  },
  {
   "cell_type": "markdown",
   "id": "818af3b7-62b1-459e-bc6c-fce62a340b53",
   "metadata": {},
   "source": [
    "```bash\n",
    "LONG_ENV=\"This value uses an \\\"escape character\"\n",
    "```"
   ]
  },
  {
   "cell_type": "markdown",
   "id": "0ff382e2-1137-4792-b6a4-6647432bcc0e",
   "metadata": {},
   "source": [
    "You can also add comments to the file for future reference:"
   ]
  },
  {
   "cell_type": "markdown",
   "id": "ffac4645-5862-4b23-af2c-37bf67030523",
   "metadata": {},
   "source": [
    "```shell\n",
    "# You can also add comments anywhere with #\n",
    "CUSTOM_API_LINK=https://myapi.com/v1/api\n",
    "SNOWFLAKE_USERNAME=bexgboost\n",
    "MYSQL_DATABASE_PASSWORD=as3ndf03\n",
    "```"
   ]
  },
  {
   "cell_type": "markdown",
   "id": "c4f1508c-dc9a-4b32-b03f-d5f02427a8e3",
   "metadata": {},
   "source": [
    "It is also possible to use the value of one variable inside another using the `${}` syntax:"
   ]
  },
  {
   "cell_type": "markdown",
   "id": "9ef99c53-6d62-4b29-b507-4d4aa79743b7",
   "metadata": {},
   "source": [
    "```shell\n",
    "FIRST_NAME=John\n",
    "LAST_NAME=Doe\n",
    "FULL_NAME=\"I am ${FIRST_NAME} ${LAST_NAME}\"\n",
    "```"
   ]
  },
  {
   "cell_type": "markdown",
   "id": "e6f041a1-7da9-4990-8011-38f8fef1e9ce",
   "metadata": {},
   "source": [
    "### Retrieving custom environment variables with `python-dotenv`"
   ]
  },
  {
   "cell_type": "markdown",
   "id": "071f0973-c0b7-4fea-bcb0-723c13bd9d4a",
   "metadata": {},
   "source": [
    "Retrieving custom EVs is the same as before, use the `os` module:"
   ]
  },
  {
   "cell_type": "code",
   "execution_count": 7,
   "id": "c962d1b4-9da2-45a3-b173-1ced7f282d24",
   "metadata": {},
   "outputs": [
    {
     "data": {
      "text/plain": [
       "'https://myapi.com/v1/api'"
      ]
     },
     "execution_count": 7,
     "metadata": {},
     "output_type": "execute_result"
    }
   ],
   "source": [
    "import os\n",
    "\n",
    "os.getenv(\"CUSTOM_API_LINK\")"
   ]
  },
  {
   "cell_type": "code",
   "execution_count": 3,
   "id": "9467892d-95c3-4093-a6cf-295a9436e92c",
   "metadata": {},
   "outputs": [
    {
     "data": {
      "text/plain": [
       "'bexgboost'"
      ]
     },
     "execution_count": 3,
     "metadata": {},
     "output_type": "execute_result"
    }
   ],
   "source": [
    "os.getenv(\"SNOWFLAKE_USERNAME\")"
   ]
  },
  {
   "cell_type": "markdown",
   "id": "a559d93f-8e07-4547-8c1a-ed6663f7cc7e",
   "metadata": {},
   "source": [
    "Make sure that you call `load_dotenv` first. \n",
    "\n",
    "If your `.env` file is located somewhere unreachable to `load_dotenv`, you can pass a direct path to it like below:"
   ]
  },
  {
   "cell_type": "code",
   "execution_count": 5,
   "id": "2a5b9ad7-6861-4ba9-8f43-6b4652d2162d",
   "metadata": {},
   "outputs": [
    {
     "data": {
      "text/plain": [
       "True"
      ]
     },
     "execution_count": 5,
     "metadata": {},
     "output_type": "execute_result"
    }
   ],
   "source": [
    "load_dotenv(\"/home/bexgboost/somewhere/unreachable/.env\")"
   ]
  },
  {
   "cell_type": "markdown",
   "id": "2529fe70-3241-4470-ba98-d03a115a68cd",
   "metadata": {},
   "source": [
    "### Working with .env files in Jupyter"
   ]
  },
  {
   "cell_type": "markdown",
   "id": "3d341276-3253-4acb-8425-aceea9a2d253",
   "metadata": {},
   "source": [
    "Once you install `python-dotenv`, you don't have to import it in Python if you are using Jupyter. The library comes with a Jupyter magic method that automatically loads it:"
   ]
  },
  {
   "cell_type": "code",
   "execution_count": 1,
   "id": "0b6d6106-117b-4a51-bb52-d8fb8644f105",
   "metadata": {},
   "outputs": [],
   "source": [
    "# Run this anywhere in the notebook to load EVs from .env\n",
    "%load_ext dotenv\n",
    "%dotenv"
   ]
  },
  {
   "cell_type": "markdown",
   "id": "bb33c7ea-5e43-4626-b444-faaf77901235",
   "metadata": {},
   "source": [
    "Then, you can use `os` module again:"
   ]
  },
  {
   "cell_type": "code",
   "execution_count": 4,
   "id": "49e3728a-0b04-4a41-b45e-b89d35e1c99a",
   "metadata": {},
   "outputs": [
    {
     "data": {
      "text/plain": [
       "'bexgboost'"
      ]
     },
     "execution_count": 4,
     "metadata": {},
     "output_type": "execute_result"
    }
   ],
   "source": [
    "import os\n",
    "\n",
    "os.getenv(\"SNOWFLAKE_USERNAME\")"
   ]
  },
  {
   "cell_type": "markdown",
   "id": "65cad82b-041b-4135-9e68-e2f0f7b8bd97",
   "metadata": {},
   "source": [
    "## Best practices for using environment variables in Python"
   ]
  },
  {
   "cell_type": "markdown",
   "id": "c24229ec-1fc2-4421-92f3-8365434a2105",
   "metadata": {},
   "source": [
    "In this section, we will list some best practices to ensure environment variables stay safe and fully usable.\n",
    "\n",
    "1. Always add `.env` files to `.gitignore` so that you don't accidentally commit them to GitHub."
   ]
  },
  {
   "cell_type": "markdown",
   "id": "9660d4bc-bb09-4997-b9ef-c8c653047e8d",
   "metadata": {},
   "source": [
    "```\n",
    "# Create .gitignore if it doesn't exist\n",
    "$ touch .gitignore\n",
    "$ echo \".env\" >> .gitignore\r\n",
    "```"
   ]
  },
  {
   "cell_type": "markdown",
   "id": "9280f0a7-c121-4f2f-85fa-bdb17544657f",
   "metadata": {},
   "source": [
    "2. While defining variables use descriptive, all UPPERCASE names. "
   ]
  },
  {
   "cell_type": "markdown",
   "id": "4e31b04c-e414-43ad-a0ba-2e15341adaa8",
   "metadata": {},
   "source": [
    "```\n",
    "# Good\n",
    "DEBUG=True\n",
    "LOGGING_VERBOSITY=3\n",
    "\n",
    "# Bad\n",
    "LV=3\n",
    "```"
   ]
  },
  {
   "cell_type": "markdown",
   "id": "763f6044-a12b-491e-82d2-dd8e3d2998e1",
   "metadata": {},
   "source": [
    "3. Create a single .env file to store system wide variables you need in every project.\n",
    "\n",
    "```\n",
    "$ touch ~/.env\n",
    "```"
   ]
  },
  {
   "cell_type": "markdown",
   "id": "62506002-712f-4804-9ec1-1bbb37b46be3",
   "metadata": {},
   "source": [
    "4. Control the scope of your .env files. Create separate files for different parts of your development workflow like below:\n",
    "\n",
    "```\n",
    "$ touch development/.env.testing\n",
    "$ touch testing/.env.testing\n",
    "$ touch production/.env.testing\n",
    "```\n",
    "\n",
    "The `load_dotenv` function will recognize them. \n",
    "\n",
    "If you create multiple `.env` files with different names, change your `.gitignore` file so that all of them are excluded from git indexing:"
   ]
  },
  {
   "cell_type": "markdown",
   "id": "0f5bf81e-79ee-45f2-83b3-6ad62f0a6e83",
   "metadata": {},
   "source": [
    "```bash\n",
    "# Pay attention to the star\n",
    "$ echo \".env*\" >> .gitignore\n",
    "```"
   ]
  },
  {
   "cell_type": "markdown",
   "id": "9af401af-9a6a-46fd-87f9-3a0d7c19bbfb",
   "metadata": {},
   "source": [
    "## Conclusion"
   ]
  },
  {
   "cell_type": "markdown",
   "id": "6f0c6b1b-0bb3-4477-a80f-119ea99395bc",
   "metadata": {},
   "source": [
    "In this article, we have learned all essential concepts and techniques to effectively manage environment variables in Python. We discovered how to retrieve existing variables with Python OS module and how to create custom values with `python-dotenv` library. We also learned how to write `.env` files that conform to best practices.\n",
    "\n",
    "If you want to learn more about best practices in Python software engineering, here is an excellent course:\n",
    "- [Software Engineering Principles in Python](https://www.datacamp.com/courses/software-engineering-principles-in-python)\n",
    "\n",
    "You can also check out our Python Programming track, which will take you from a beginner to an advanced Pythonista with hands-on exercises and projects:\n",
    "- [Python Programming Skill Track](https://www.datacamp.com/tracks/python-programming)\n",
    "\n",
    "Thank you for reading!"
   ]
  }
 ],
 "metadata": {
  "kernelspec": {
   "display_name": "articles",
   "language": "python",
   "name": "articles"
  },
  "language_info": {
   "codemirror_mode": {
    "name": "ipython",
    "version": 3
   },
   "file_extension": ".py",
   "mimetype": "text/x-python",
   "name": "python",
   "nbconvert_exporter": "python",
   "pygments_lexer": "ipython3",
   "version": "3.10.8"
  },
  "widgets": {
   "application/vnd.jupyter.widget-state+json": {
    "state": {},
    "version_major": 2,
    "version_minor": 0
   }
  }
 },
 "nbformat": 4,
 "nbformat_minor": 5
}
