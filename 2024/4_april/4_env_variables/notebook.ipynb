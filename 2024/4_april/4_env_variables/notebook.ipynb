{
 "cells": [
  {
   "cell_type": "markdown",
   "id": "a0f631df-205f-46fd-8506-8c4e65773cb5",
   "metadata": {},
   "source": [
    "# Everything You Need to Know About Python Environment Variables"
   ]
  }
 ],
 "metadata": {
  "kernelspec": {
   "display_name": "articles",
   "language": "python",
   "name": "articles"
  },
  "language_info": {
   "codemirror_mode": {
    "name": "ipython",
    "version": 3
   },
   "file_extension": ".py",
   "mimetype": "text/x-python",
   "name": "python",
   "nbconvert_exporter": "python",
   "pygments_lexer": "ipython3",
   "version": "3.10.8"
  },
  "widgets": {
   "application/vnd.jupyter.widget-state+json": {
    "state": {},
    "version_major": 2,
    "version_minor": 0
   }
  }
 },
 "nbformat": 4,
 "nbformat_minor": 5
}
