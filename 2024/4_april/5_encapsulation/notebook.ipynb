{
 "cells": [
  {
   "cell_type": "markdown",
   "id": "4f88d602-4696-4dbd-8eaa-39114e52bf7c",
   "metadata": {},
   "source": [
    "# Comprehensive Tutorial on Encapsulation in Python Object-oriented Programming"
   ]
  },
  {
   "cell_type": "markdown",
   "id": "cae22439-de4a-4b8c-80b0-02e593399b8c",
   "metadata": {},
   "source": [
    "## Introduction"
   ]
  },
  {
   "cell_type": "markdown",
   "id": "188e443e-41b8-4b94-bb7f-eb22606ffcef",
   "metadata": {},
   "source": [
    "Encapsulation in Python is a fundamental object-oriented principle that promotes class data protection, code reusability, and maintainability. "
   ]
  },
  {
   "cell_type": "markdown",
   "id": "ea0d882b-16af-4a82-87d1-3f5d08d736fb",
   "metadata": {},
   "source": [
    "Encapsulation is a set of methods that let Python classes protect their data. Well, at least in a way because Python is _really_ open-source - all class data in Python is technically not protected. If you want, you could tap into the internal code and change some of the code logic. "
   ]
  },
  {
   "cell_type": "markdown",
   "id": "20669b6a-4fda-41c4-b5a1-167f9f551409",
   "metadata": {},
   "source": [
    "## Why learn encapsulation?"
   ]
  },
  {
   "cell_type": "markdown",
   "id": "383812b6-7363-45bc-8034-2f41615930f3",
   "metadata": {},
   "source": [
    "## How encapsulation is achieved in Python?"
   ]
  },
  {
   "cell_type": "markdown",
   "id": "210ad6be-fe3f-4743-a3f0-2fbd04ca2871",
   "metadata": {},
   "source": [
    "### Access modifiers in Python"
   ]
  },
  {
   "cell_type": "code",
   "execution_count": 3,
   "id": "484a896e-f538-4d5e-a072-9a0fb132a974",
   "metadata": {},
   "outputs": [
    {
     "name": "stdout",
     "output_type": "stream",
     "text": [
      "20\n"
     ]
    }
   ],
   "source": [
    "class Tree:\n",
    "    def __init__(self, height):\n",
    "        self.height = height\n",
    "\n",
    "\n",
    "pine = Tree(20)\n",
    "print(pine.height)"
   ]
  },
  {
   "cell_type": "code",
   "execution_count": 5,
   "id": "c8278783-c761-4c7c-9fa9-dcbdc8f62c64",
   "metadata": {},
   "outputs": [
    {
     "data": {
      "text/plain": [
       "50"
      ]
     },
     "execution_count": 5,
     "metadata": {},
     "output_type": "execute_result"
    }
   ],
   "source": [
    "pine.height = 50\n",
    "\n",
    "pine.height"
   ]
  },
  {
   "cell_type": "code",
   "execution_count": 6,
   "id": "9fafc761-abb0-4e7b-bc84-1051e586be7a",
   "metadata": {},
   "outputs": [
    {
     "data": {
      "text/plain": [
       "'Grandma'"
      ]
     },
     "execution_count": 6,
     "metadata": {},
     "output_type": "execute_result"
    }
   ],
   "source": [
    "pine.height = \"Grandma\"\n",
    "\n",
    "pine.height"
   ]
  },
  {
   "cell_type": "code",
   "execution_count": 7,
   "id": "ab2583f2-26ad-4a8e-a14d-184101850078",
   "metadata": {},
   "outputs": [
    {
     "data": {
      "text/plain": [
       "20"
      ]
     },
     "execution_count": 7,
     "metadata": {},
     "output_type": "execute_result"
    }
   ],
   "source": [
    "class Tree:\n",
    "    def __init__(self, height):\n",
    "        self._height = height\n",
    "\n",
    "\n",
    "pine = Tree(20)\n",
    "\n",
    "pine._height"
   ]
  },
  {
   "cell_type": "code",
   "execution_count": 8,
   "id": "b3687332-ddf6-4558-840c-573292bcd130",
   "metadata": {},
   "outputs": [
    {
     "data": {
      "text/plain": [
       "'Grandpa'"
      ]
     },
     "execution_count": 8,
     "metadata": {},
     "output_type": "execute_result"
    }
   ],
   "source": [
    "pine._height = \"Grandpa\"\n",
    "\n",
    "pine._height"
   ]
  },
  {
   "cell_type": "code",
   "execution_count": 13,
   "id": "9b1fb61e-8538-4089-ac11-3915374d25d4",
   "metadata": {},
   "outputs": [
    {
     "ename": "AttributeError",
     "evalue": "'Tree' object has no attribute '__height'",
     "output_type": "error",
     "traceback": [
      "\u001b[0;31m---------------------------------------------------------------------------\u001b[0m",
      "\u001b[0;31mAttributeError\u001b[0m                            Traceback (most recent call last)",
      "Cell \u001b[0;32mIn[13], line 8\u001b[0m\n\u001b[1;32m      3\u001b[0m         \u001b[38;5;28mself\u001b[39m\u001b[38;5;241m.\u001b[39m__height \u001b[38;5;241m=\u001b[39m height\n\u001b[1;32m      6\u001b[0m pine \u001b[38;5;241m=\u001b[39m Tree(\u001b[38;5;241m20\u001b[39m)\n\u001b[0;32m----> 8\u001b[0m \u001b[43mpine\u001b[49m\u001b[38;5;241;43m.\u001b[39;49m\u001b[43m__height\u001b[49m\n",
      "\u001b[0;31mAttributeError\u001b[0m: 'Tree' object has no attribute '__height'"
     ]
    }
   ],
   "source": [
    "class Tree:\n",
    "    def __init__(self, height):\n",
    "        self.__height = height\n",
    "\n",
    "\n",
    "pine = Tree(20)\n",
    "\n",
    "pine.__height"
   ]
  },
  {
   "cell_type": "code",
   "execution_count": 15,
   "id": "4c624859-7fb6-4518-95b8-b2235992d8d8",
   "metadata": {},
   "outputs": [
    {
     "data": {
      "text/plain": [
       "20"
      ]
     },
     "execution_count": 15,
     "metadata": {},
     "output_type": "execute_result"
    }
   ],
   "source": [
    "pine._Tree__height"
   ]
  },
  {
   "cell_type": "code",
   "execution_count": 16,
   "id": "9d43cea1-c3c4-4926-9000-8804e84505cd",
   "metadata": {},
   "outputs": [
    {
     "data": {
      "text/plain": [
       "'Gotcha!'"
      ]
     },
     "execution_count": 16,
     "metadata": {},
     "output_type": "execute_result"
    }
   ],
   "source": [
    "pine._Tree__height = \"Gotcha!\"\n",
    "\n",
    "pine._Tree__height"
   ]
  },
  {
   "cell_type": "code",
   "execution_count": 22,
   "id": "339badbc-e650-415a-b399-ebc228e9bca2",
   "metadata": {},
   "outputs": [
    {
     "data": {
      "text/plain": [
       "20"
      ]
     },
     "execution_count": 22,
     "metadata": {},
     "output_type": "execute_result"
    }
   ],
   "source": [
    "class Tree:\n",
    "    def __init__(self, height):\n",
    "        self.__height = height\n",
    "\n",
    "    def get_height(self):\n",
    "        return self.__height\n",
    "\n",
    "    def set_height(self, new_height):\n",
    "        if not isinstance(new_height, int):\n",
    "            raise TypeError(\"Tree height must be an integer\")\n",
    "        if 0 < new_height <= 40:\n",
    "            self.__height = new_height\n",
    "        else:\n",
    "            raise ValueError(\"Invalid height for a pine tree\")\n",
    "\n",
    "\n",
    "pine = Tree(20)\n",
    "\n",
    "pine.get_height()"
   ]
  },
  {
   "cell_type": "code",
   "execution_count": 19,
   "id": "fcb29c5a-8a22-4027-996a-c86d58251238",
   "metadata": {},
   "outputs": [
    {
     "data": {
      "text/plain": [
       "25"
      ]
     },
     "execution_count": 19,
     "metadata": {},
     "output_type": "execute_result"
    }
   ],
   "source": [
    "pine.set_height(25)\n",
    "\n",
    "pine.get_height()"
   ]
  },
  {
   "cell_type": "code",
   "execution_count": 23,
   "id": "60e3dee6-d8d0-4b7f-92d2-4f9bf207815a",
   "metadata": {},
   "outputs": [
    {
     "ename": "TypeError",
     "evalue": "Tree height must be an integer",
     "output_type": "error",
     "traceback": [
      "\u001b[0;31m---------------------------------------------------------------------------\u001b[0m",
      "\u001b[0;31mTypeError\u001b[0m                                 Traceback (most recent call last)",
      "Cell \u001b[0;32mIn[23], line 1\u001b[0m\n\u001b[0;32m----> 1\u001b[0m \u001b[43mpine\u001b[49m\u001b[38;5;241;43m.\u001b[39;49m\u001b[43mset_height\u001b[49m\u001b[43m(\u001b[49m\u001b[38;5;124;43m\"\u001b[39;49m\u001b[38;5;124;43mPassword\u001b[39;49m\u001b[38;5;124;43m\"\u001b[39;49m\u001b[43m)\u001b[49m\n",
      "Cell \u001b[0;32mIn[22], line 10\u001b[0m, in \u001b[0;36mTree.set_height\u001b[0;34m(self, new_height)\u001b[0m\n\u001b[1;32m      8\u001b[0m \u001b[38;5;28;01mdef\u001b[39;00m \u001b[38;5;21mset_height\u001b[39m(\u001b[38;5;28mself\u001b[39m, new_height):\n\u001b[1;32m      9\u001b[0m     \u001b[38;5;28;01mif\u001b[39;00m \u001b[38;5;129;01mnot\u001b[39;00m \u001b[38;5;28misinstance\u001b[39m(new_height, \u001b[38;5;28mint\u001b[39m):\n\u001b[0;32m---> 10\u001b[0m         \u001b[38;5;28;01mraise\u001b[39;00m \u001b[38;5;167;01mTypeError\u001b[39;00m(\u001b[38;5;124m\"\u001b[39m\u001b[38;5;124mTree height must be an integer\u001b[39m\u001b[38;5;124m\"\u001b[39m)\n\u001b[1;32m     11\u001b[0m     \u001b[38;5;28;01mif\u001b[39;00m \u001b[38;5;241m0\u001b[39m \u001b[38;5;241m<\u001b[39m new_height \u001b[38;5;241m<\u001b[39m\u001b[38;5;241m=\u001b[39m \u001b[38;5;241m40\u001b[39m:\n\u001b[1;32m     12\u001b[0m         \u001b[38;5;28mself\u001b[39m\u001b[38;5;241m.\u001b[39m__height \u001b[38;5;241m=\u001b[39m new_height\n",
      "\u001b[0;31mTypeError\u001b[0m: Tree height must be an integer"
     ]
    }
   ],
   "source": [
    "pine.set_height(\"Password\")"
   ]
  },
  {
   "cell_type": "markdown",
   "id": "ac51cb81-9c25-425f-98f2-43ddac3bc804",
   "metadata": {},
   "source": [
    "Isn't this code uglies"
   ]
  },
  {
   "cell_type": "code",
   "execution_count": 25,
   "id": "fc390acc-470f-4822-a27a-bf0048b3c4f8",
   "metadata": {},
   "outputs": [],
   "source": [
    "pine.set_height(pine.get_height() + 10)"
   ]
  },
  {
   "cell_type": "markdown",
   "id": "74735f8c-810f-4c7e-806c-d1f19a8ec532",
   "metadata": {},
   "source": [
    "```python\n",
    "pine.height += 5\n",
    "```"
   ]
  },
  {
   "cell_type": "markdown",
   "id": "4feefbf9-e460-4a54-8931-ddd102a49bd1",
   "metadata": {},
   "source": [
    "### Using `@property` decorator in Python classes"
   ]
  },
  {
   "cell_type": "code",
   "execution_count": 42,
   "id": "32c97927-7f44-4049-848c-12388bcc8a06",
   "metadata": {},
   "outputs": [
    {
     "data": {
      "text/plain": [
       "17"
      ]
     },
     "execution_count": 42,
     "metadata": {},
     "output_type": "execute_result"
    }
   ],
   "source": [
    "class Tree:\n",
    "    def __init__(self, height):\n",
    "        # First, create a private or protected attribute\n",
    "        self.__height = height\n",
    "\n",
    "    @property\n",
    "    def height(self):\n",
    "        return self.__height\n",
    "\n",
    "\n",
    "pine = Tree(17)\n",
    "pine.height"
   ]
  },
  {
   "cell_type": "code",
   "execution_count": 43,
   "id": "673d9217-b1b2-4850-b376-7bee48779779",
   "metadata": {},
   "outputs": [
    {
     "ename": "AttributeError",
     "evalue": "can't set attribute 'height'",
     "output_type": "error",
     "traceback": [
      "\u001b[0;31m---------------------------------------------------------------------------\u001b[0m",
      "\u001b[0;31mAttributeError\u001b[0m                            Traceback (most recent call last)",
      "Cell \u001b[0;32mIn[43], line 1\u001b[0m\n\u001b[0;32m----> 1\u001b[0m \u001b[43mpine\u001b[49m\u001b[38;5;241;43m.\u001b[39;49m\u001b[43mheight\u001b[49m \u001b[38;5;241m=\u001b[39m \u001b[38;5;241m14\u001b[39m\n",
      "\u001b[0;31mAttributeError\u001b[0m: can't set attribute 'height'"
     ]
    }
   ],
   "source": [
    "pine.height = 14"
   ]
  },
  {
   "cell_type": "code",
   "execution_count": 29,
   "id": "fc4f1551-4e36-4bc8-adc7-b24dbb6c314f",
   "metadata": {},
   "outputs": [],
   "source": [
    "class Tree:\n",
    "    def __init__(self, height):\n",
    "        self.__height = height\n",
    "\n",
    "    @property\n",
    "    def height(self):\n",
    "        return self.__height\n",
    "\n",
    "    @height.setter\n",
    "    def height(self, new_height):\n",
    "        if not isinstance(new_height, int):\n",
    "            raise TypeError(\"Tree height must be an integer\")\n",
    "        if 0 < new_height <= 40:\n",
    "            self.__height = new_height\n",
    "        else:\n",
    "            raise ValueError(\"Invalid height for a pine tree\")"
   ]
  },
  {
   "cell_type": "code",
   "execution_count": 30,
   "id": "e58188da-3f25-42a5-b2a4-a17b458db780",
   "metadata": {},
   "outputs": [],
   "source": [
    "pine = Tree(10)\n",
    "\n",
    "pine.height = 33  # Calling @salary.setter"
   ]
  },
  {
   "cell_type": "code",
   "execution_count": 31,
   "id": "93a165a0-7c6a-4a06-9856-7852a3e040c3",
   "metadata": {},
   "outputs": [
    {
     "ename": "ValueError",
     "evalue": "Invalid height for a pine tree",
     "output_type": "error",
     "traceback": [
      "\u001b[0;31m---------------------------------------------------------------------------\u001b[0m",
      "\u001b[0;31mValueError\u001b[0m                                Traceback (most recent call last)",
      "Cell \u001b[0;32mIn[31], line 1\u001b[0m\n\u001b[0;32m----> 1\u001b[0m \u001b[43mpine\u001b[49m\u001b[38;5;241;43m.\u001b[39;49m\u001b[43mheight\u001b[49m \u001b[38;5;241m=\u001b[39m \u001b[38;5;241m45\u001b[39m\n",
      "Cell \u001b[0;32mIn[29], line 16\u001b[0m, in \u001b[0;36mTree.height\u001b[0;34m(self, new_height)\u001b[0m\n\u001b[1;32m     14\u001b[0m     \u001b[38;5;28mself\u001b[39m\u001b[38;5;241m.\u001b[39m__height \u001b[38;5;241m=\u001b[39m new_height\n\u001b[1;32m     15\u001b[0m \u001b[38;5;28;01melse\u001b[39;00m:\n\u001b[0;32m---> 16\u001b[0m     \u001b[38;5;28;01mraise\u001b[39;00m \u001b[38;5;167;01mValueError\u001b[39;00m(\u001b[38;5;124m\"\u001b[39m\u001b[38;5;124mInvalid height for a pine tree\u001b[39m\u001b[38;5;124m\"\u001b[39m)\n",
      "\u001b[0;31mValueError\u001b[0m: Invalid height for a pine tree"
     ]
    }
   ],
   "source": [
    "pine.height = 45"
   ]
  },
  {
   "cell_type": "markdown",
   "id": "fc0345f5-eaa7-4b7d-bbe9-12636599c22d",
   "metadata": {},
   "source": [
    "Also, @attr.getter and @attr.deleter"
   ]
  },
  {
   "cell_type": "markdown",
   "id": "a9d2e1ab-9516-4073-a0ac-b865b1f726d1",
   "metadata": {},
   "source": [
    "## Best practices when implementing encapsulation"
   ]
  },
  {
   "cell_type": "markdown",
   "id": "300bebd4-14d5-40b9-a9aa-537751e3c0d0",
   "metadata": {},
   "source": [
    "By using the following best practices, you will ensure that your code aligns well with the code written by other experienced _OOPistas_.\n",
    "\n",
    "- Remember that encapsulation is a convention not an enforced aspect of Python\n",
    "- Use properties when needed. You don't always have to create properties for every single class attribute. For large classes with many attributes, creating properties can become a headache\n",
    "- Get a clear distinction between protected and private members. If you decide to use a protected member (`_`), consider raising an error every time user tries to access it. As for private member, consider using them sparingly as they can make code unreadable for those unfamiliar with the convention.\n",
    "- Prioritize clarity over obscurity: as encapsulation aims to improve code maintainability and data protection, don't completely hide implementation details\n",
    "- If you want to create read-only properties, don't implement the @attr.setter method. Users will be access the property but not modify it\n",
    "- Protect your attributes from deletion using @attr.deleter method.\n",
    "\n"
   ]
  },
  {
   "cell_type": "markdown",
   "id": "221b91f4-c36c-481d-b7df-998dbb8d5939",
   "metadata": {},
   "source": [
    "## Conclusion and further resources"
   ]
  }
 ],
 "metadata": {
  "kernelspec": {
   "display_name": "articles",
   "language": "python",
   "name": "articles"
  },
  "language_info": {
   "codemirror_mode": {
    "name": "ipython",
    "version": 3
   },
   "file_extension": ".py",
   "mimetype": "text/x-python",
   "name": "python",
   "nbconvert_exporter": "python",
   "pygments_lexer": "ipython3",
   "version": "3.10.8"
  },
  "widgets": {
   "application/vnd.jupyter.widget-state+json": {
    "state": {},
    "version_major": 2,
    "version_minor": 0
   }
  }
 },
 "nbformat": 4,
 "nbformat_minor": 5
}
