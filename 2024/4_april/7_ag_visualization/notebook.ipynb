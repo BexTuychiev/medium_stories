{
 "cells": [
  {
   "cell_type": "markdown",
   "id": "86a6aae7-d471-4eed-84b0-b1f8610876d3",
   "metadata": {},
   "source": [
    "# How to Visualize Differentially Private Datasets in Matplotlib with Antigranular"
   ]
  },
  {
   "cell_type": "markdown",
   "id": "467fb930-4032-44ca-9aae-58a625940c37",
   "metadata": {},
   "source": [
    "## Introduction"
   ]
  },
  {
   "cell_type": "markdown",
   "id": "a0e3ee2c-0483-4c12-856b-1d1008a21968",
   "metadata": {},
   "source": [
    "In March 2024, Oblivious AI held a bootcamp on differential privacy at Oxford University. While attending the event, I got to work on a very interesting problem - preserving individual privacy in web analytics datasets using differential privacy. \n",
    "\n",
    "The question was - can a malicious actor find out a person's age group by analyzing their mouse and keyboard tracking data? Specifically, are older people more at risk of a targeted attack if the speed of their typing and mouse movements are exposed?\n",
    "\n",
    "On the surface, age group itself might seem like a harmless piece of information. However, certain parties can exploit it in several ways such as:\n",
    "\n",
    "- Targeted scams: Knowing someone's age group can help scammers tailor their approach. For example, they might target older adults with pension scams or younger people with social media phishing attempts.\n",
    "- Identity theft: Age group can be a puzzle piece in a larger identity theft scheme. Combined with other pieces of information, it could be used to answer security questions or appear more believable when impersonating someone.\n",
    "\n",
    "So, me and my teammate, Devyani Gauri had an important problem in our hands. First, by running some clustering and classification algorithms on a sample mouse tracking dataset, we conclusively proved that by analyzing mouse movement characteristics (speed, velocity, etc.), we could easily differentiate whether an individual is young or old (through the context of our dataset). "
   ]
  },
  {
   "cell_type": "markdown",
   "id": "1494c2d8-468e-4ca9-8ee3-6483451c3b26",
   "metadata": {},
   "source": [
    "## Differential privacy refresher"
   ]
  },
  {
   "cell_type": "markdown",
   "id": "034348ef-414c-46be-87c9-5a13125202ee",
   "metadata": {},
   "source": [
    "Imagine \"Einzelnen\" (German for \"individual\") is in some dataset. Differential privacy aims to make Einzelnen's presence or absence imperceptible to any kind of mathematical analysis. This is achieved by adding controlled noise to the results. \n",
    "\n",
    "Let's say we're calculating the average age. Differential privacy guarantees that the final average will be accurate, but with some added noise. This noise ensures Einzelnen's (or anyone else's for that matter) specific age cannot be derived from the final result, even if their data was removed.\n",
    "\n",
    "The accuracy of calculations in differential privacy is affected by a parameter called epsilon (ε). Lower ε signifies stronger privacy guarantees but with more noise, potentially affecting accuracy. Using too little epsilon can return a useless answer like five times the original result while too much might just give it away. \n",
    "\n",
    "Because of such high a degree of privacy guarantee, differential privacy has applications in finance, economics, business, healthcare or any other high-risk domains where even the people who handle and analyze the data can't be allowed to \"peek inside\". "
   ]
  },
  {
   "cell_type": "markdown",
   "id": "3b260afd-47e7-4815-9343-ab25c46ef8ad",
   "metadata": {},
   "source": [
    "## What is Antigranular?"
   ]
  },
  {
   "cell_type": "markdown",
   "id": "5efb2bb8-b25d-4ae7-8aa3-9f9af27c5cd0",
   "metadata": {},
   "source": []
  },
  {
   "cell_type": "markdown",
   "id": "717a1cae-d832-438a-b765-19e35887390b",
   "metadata": {},
   "source": [
    "## So, how to visualize DP datasets with Matplotlib?"
   ]
  },
  {
   "attachments": {},
   "cell_type": "markdown",
   "id": "cbe4a6f1-8da9-4cef-9d7c-04e62248509a",
   "metadata": {},
   "source": [
    "![](images/diamonds.gif)"
   ]
  },
  {
   "cell_type": "markdown",
   "id": "89804aa0-e99a-4013-99d0-9f9a429e77fe",
   "metadata": {},
   "source": [
    "## Conclusion"
   ]
  }
 ],
 "metadata": {
  "kernelspec": {
   "display_name": "articles",
   "language": "python",
   "name": "articles"
  },
  "language_info": {
   "codemirror_mode": {
    "name": "ipython",
    "version": 3
   },
   "file_extension": ".py",
   "mimetype": "text/x-python",
   "name": "python",
   "nbconvert_exporter": "python",
   "pygments_lexer": "ipython3",
   "version": "3.10.8"
  },
  "widgets": {
   "application/vnd.jupyter.widget-state+json": {
    "state": {},
    "version_major": 2,
    "version_minor": 0
   }
  }
 },
 "nbformat": 4,
 "nbformat_minor": 5
}
