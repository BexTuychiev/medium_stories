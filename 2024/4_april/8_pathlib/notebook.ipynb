{
 "cells": [
  {
   "cell_type": "markdown",
   "id": "62aab7af-7f01-40ef-8269-c6da89127d1f",
   "metadata": {},
   "source": [
    "# Comprehensive Tutorial on Using Pathlib In Python For File System Manipulation"
   ]
  },
  {
   "cell_type": "markdown",
   "id": "302950ed-9d6c-4951-ab25-ba7d0d73b589",
   "metadata": {},
   "source": [
    "## Introduction"
   ]
  },
  {
   "cell_type": "markdown",
   "id": "a48a49cd-9e4f-46bb-8412-7e21e277ccea",
   "metadata": {},
   "source": [
    "## Python `os` module vs. `pathlib`"
   ]
  },
  {
   "cell_type": "markdown",
   "id": "fe89c331-46cd-447a-9d11-215181c03f6f",
   "metadata": {},
   "source": [
    "## `Path` objects"
   ]
  },
  {
   "cell_type": "markdown",
   "id": "808e67d1-6a48-4b85-892d-8f8bc972098f",
   "metadata": {},
   "source": [
    "## `Path` components for files and folders"
   ]
  },
  {
   "cell_type": "markdown",
   "id": "627bcce4-53c4-451d-9241-f0e6da591623",
   "metadata": {},
   "source": [
    "## Common path operations using `pathlib`"
   ]
  },
  {
   "cell_type": "markdown",
   "id": "5c663739-c834-4a40-ae23-4758fa50f7d7",
   "metadata": {},
   "source": [
    "### Listing directories"
   ]
  },
  {
   "cell_type": "markdown",
   "id": "6abc1232-2962-4de4-9fd9-8660057e7cff",
   "metadata": {},
   "source": [
    "### Checking path existence"
   ]
  },
  {
   "cell_type": "markdown",
   "id": "32b117b9-e987-4ac1-998e-0fcbaf9f7178",
   "metadata": {},
   "source": [
    "### Creating and deleting paths"
   ]
  },
  {
   "cell_type": "markdown",
   "id": "a27321c8-064f-427a-82bd-4fad9db2248b",
   "metadata": {},
   "source": [
    "## Advanced path manipulation"
   ]
  },
  {
   "cell_type": "markdown",
   "id": "4dfb2ed5-90af-423e-9bfb-43de4fc6ad1e",
   "metadata": {},
   "source": [
    "### Relative vs. absolute paths"
   ]
  },
  {
   "cell_type": "markdown",
   "id": "d0c3b06f-a973-40b5-93d0-bb9c1e1712f7",
   "metadata": {},
   "source": [
    "### Joining and splitting paths"
   ]
  },
  {
   "cell_type": "markdown",
   "id": "195c7161-3945-48d0-aabc-8a0cf05834ff",
   "metadata": {},
   "source": [
    "### Globbing"
   ]
  },
  {
   "cell_type": "markdown",
   "id": "4484692b-d17d-4322-b594-a9efd8354a94",
   "metadata": {},
   "source": [
    "## Working with files"
   ]
  },
  {
   "cell_type": "markdown",
   "id": "e111b3d8-6d10-41cf-9191-01aa952855ca",
   "metadata": {},
   "source": [
    "### Reading files"
   ]
  },
  {
   "cell_type": "markdown",
   "id": "2ea13e34-68fb-444e-8c00-b33cfc191f8d",
   "metadata": {},
   "source": [
    "### Writing files"
   ]
  },
  {
   "cell_type": "markdown",
   "id": "99283a5c-1593-4c29-91aa-32eb18ac8bd2",
   "metadata": {},
   "source": [
    "### File renaming and moving"
   ]
  },
  {
   "cell_type": "markdown",
   "id": "9e3aeed6-7998-47c2-8ca5-72eae01bf328",
   "metadata": {},
   "source": [
    "## Additional functionalities"
   ]
  },
  {
   "cell_type": "markdown",
   "id": "2cc201cb-309f-4669-b7ef-38008430f10c",
   "metadata": {},
   "source": [
    "### Iterating over file trees"
   ]
  },
  {
   "cell_type": "markdown",
   "id": "7853f923-f3f8-41b8-8d72-959a2d26e2a5",
   "metadata": {},
   "source": [
    "### Temporary files and directories"
   ]
  },
  {
   "cell_type": "markdown",
   "id": "9eff8f4e-56b3-4323-8078-14fbbfbf9116",
   "metadata": {},
   "source": [
    "### Permissions and file system information"
   ]
  },
  {
   "cell_type": "markdown",
   "id": "09525016-9a4a-47b1-bb1f-cb527a266575",
   "metadata": {},
   "source": [
    "## Conclusion"
   ]
  }
 ],
 "metadata": {
  "kernelspec": {
   "display_name": "articles",
   "language": "python",
   "name": "articles"
  },
  "language_info": {
   "codemirror_mode": {
    "name": "ipython",
    "version": 3
   },
   "file_extension": ".py",
   "mimetype": "text/x-python",
   "name": "python",
   "nbconvert_exporter": "python",
   "pygments_lexer": "ipython3",
   "version": "3.10.8"
  },
  "widgets": {
   "application/vnd.jupyter.widget-state+json": {
    "state": {},
    "version_major": 2,
    "version_minor": 0
   }
  }
 },
 "nbformat": 4,
 "nbformat_minor": 5
}
