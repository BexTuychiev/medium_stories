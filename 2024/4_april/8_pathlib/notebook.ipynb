{
 "cells": [
  {
   "cell_type": "markdown",
   "id": "62aab7af-7f01-40ef-8269-c6da89127d1f",
   "metadata": {},
   "source": [
    "# Comprehensive Tutorial on Using Pathlib In Python For File System Manipulation"
   ]
  },
  {
   "cell_type": "markdown",
   "id": "302950ed-9d6c-4951-ab25-ba7d0d73b589",
   "metadata": {},
   "source": [
    "## Introduction"
   ]
  },
  {
   "cell_type": "markdown",
   "id": "8efeb12d-90e7-4cb1-9cfe-edcfff8d08ed",
   "metadata": {},
   "source": [
    "One of the most frustrating aspects of Python up until version 3.4 was file system manipulation. Developers often struggled with tangled strings representing paths. Their code broke frequently due to path inconsistencies on different operating systems (Windows vs. Unix-like). That's when the `pathlib` module was introduced to the standard library.\n",
    "\n",
    "`pathlib` offers a long-awaited object-oriented approach to path manipulation. It offers a powerful and elegant solution to handling file system paths, ensures platform-agnostic behavior, and promotes code clarity and maintainability. \n",
    "\n",
    "The module has matured significantly over the years, making it an essential tool for any Pythonista. This comprehensive tutorial will teach you the features and methods of `pathlib` that will be enough for most of your daily interactions with the file system. Let's get started."
   ]
  },
  {
   "cell_type": "markdown",
   "id": "a48a49cd-9e4f-46bb-8412-7e21e277ccea",
   "metadata": {},
   "source": [
    "## Python `os` module vs. `pathlib`"
   ]
  },
  {
   "cell_type": "markdown",
   "id": "89a3b2d1-c2a9-4251-ba93-fecb66daa4a2",
   "metadata": {},
   "source": [
    "Some of our readers might ask \"Why learn a new library when we have the Python `os` module?\". That's a fair question. \n",
    "\n",
    "Let's say we want to find all `png` files inside a given directory and all its sub-directories (a common task in data science). If we were using the `os` module, we would have to write code like this:"
   ]
  },
  {
   "cell_type": "markdown",
   "id": "6bd34f18-f2bd-40ef-97f1-8c2d72f897e9",
   "metadata": {},
   "source": [
    "```python\n",
    "import os\n",
    "\n",
    "dir_path = \"/home/user/documents\"\n",
    "\n",
    "# Find all png files inside a directory\n",
    "files = [\n",
    "    os.path.join(dir_path, f)\n",
    "    for f in os.listdir(dir_path)\n",
    "    if os.path.isfile(os.path.join(dir_path, f)) and f.endswith(\".png\")\n",
    "]\n",
    "```"
   ]
  },
  {
   "cell_type": "markdown",
   "id": "f0c66fd6-fbdc-4153-b2f8-b70a065b03c7",
   "metadata": {},
   "source": [
    "This snippet has many disadvantages:\n",
    "1. It is long and unreadable for such a simple operation.\n",
    "2. Requires knowledge of list comprehensions.\n",
    "3. It involves string operations which are error-prone.\n",
    "\n",
    "If we were using `pathlib`, then our code would be much simpler:"
   ]
  },
  {
   "cell_type": "code",
   "execution_count": 2,
   "id": "666c61a1-480a-42a1-82c8-ad6dc47e30d4",
   "metadata": {},
   "outputs": [
    {
     "ename": "NameError",
     "evalue": "name 'dir_path' is not defined",
     "output_type": "error",
     "traceback": [
      "\u001b[0;31m---------------------------------------------------------------------------\u001b[0m",
      "\u001b[0;31mNameError\u001b[0m                                 Traceback (most recent call last)",
      "Cell \u001b[0;32mIn[2], line 4\u001b[0m\n\u001b[1;32m      1\u001b[0m \u001b[38;5;28;01mfrom\u001b[39;00m \u001b[38;5;21;01mpathlib\u001b[39;00m \u001b[38;5;28;01mimport\u001b[39;00m Path\n\u001b[1;32m      3\u001b[0m \u001b[38;5;66;03m# Create a path object\u001b[39;00m\n\u001b[0;32m----> 4\u001b[0m dir_path \u001b[38;5;241m=\u001b[39m Path(\u001b[43mdir_path\u001b[49m)\n\u001b[1;32m      6\u001b[0m \u001b[38;5;66;03m# Find all text files inside a directory\u001b[39;00m\n\u001b[1;32m      7\u001b[0m files \u001b[38;5;241m=\u001b[39m \u001b[38;5;28mlist\u001b[39m(dir_path\u001b[38;5;241m.\u001b[39mglob(\u001b[38;5;124m\"\u001b[39m\u001b[38;5;124m*.png\u001b[39m\u001b[38;5;124m\"\u001b[39m))\n",
      "\u001b[0;31mNameError\u001b[0m: name 'dir_path' is not defined"
     ]
    }
   ],
   "source": [
    "from pathlib import Path\n",
    "\n",
    "# Create a path object\n",
    "dir_path = Path(dir_path)\n",
    "\n",
    "# Find all text files inside a directory\n",
    "files = list(dir_path.glob(\"*.png\"))"
   ]
  },
  {
   "cell_type": "markdown",
   "id": "17229947-78d2-436c-b591-1e33cfbac888",
   "metadata": {},
   "source": [
    "If you continue reading the article, you will discover many more benefits of `pathlib` over the `os` module besides simplicity and readability. So, shall we?"
   ]
  },
  {
   "cell_type": "markdown",
   "id": "fe89c331-46cd-447a-9d11-215181c03f6f",
   "metadata": {},
   "source": [
    "## `Path` objects"
   ]
  },
  {
   "cell_type": "markdown",
   "id": "b265785a-bf01-4775-9012-c60280b40d34",
   "metadata": {},
   "source": [
    "The entire `pathlib` library revolves around `Path` objects:"
   ]
  },
  {
   "cell_type": "code",
   "execution_count": null,
   "id": "84c5ccd9-1ef3-44c2-bd28-cbe02f78567d",
   "metadata": {},
   "outputs": [],
   "source": [
    "from pathlib import Path"
   ]
  },
  {
   "cell_type": "markdown",
   "id": "0e3999e5-1ed3-4bcb-be34-83a13882071a",
   "metadata": {},
   "source": [
    "These objects represent file system paths in a structured and - this is key - platform-independent way. Unlike working with raw strings, these objects offer a more user-friendly approach to manipulating file system paths.\n",
    "\n",
    "We can create `Path` objects in several ways:\n",
    "\n",
    "1. __From strings__\n",
    "\n",
    "You can directly create a `Path` object by passing a string that represents a file system path:"
   ]
  },
  {
   "cell_type": "code",
   "execution_count": null,
   "id": "dd84ff2e-c432-487a-be7c-5da0b9d41bdb",
   "metadata": {},
   "outputs": [],
   "source": [
    "file_path_str = \"data/union_data.csv\"\n",
    "data_path = Path(file_path_str)\n",
    "\n",
    "print(type(data_path))"
   ]
  },
  {
   "cell_type": "markdown",
   "id": "3ba9a360-ea92-44d1-8466-e9c0ff0d7fd7",
   "metadata": {},
   "source": [
    "2. __From other `path` objects__\n",
    "\n",
    "Existing `Path` objects can be building blocks to create new paths. You can combine them using operators:"
   ]
  },
  {
   "cell_type": "code",
   "execution_count": 3,
   "id": "d5730d2c-dc2d-4073-aaa8-cb409fdb8a96",
   "metadata": {},
   "outputs": [
    {
     "name": "stdout",
     "output_type": "stream",
     "text": [
      "/home/user/data/prices.csv\n"
     ]
    }
   ],
   "source": [
    "base_path = Path(\"/home/user\")\n",
    "data_dir = Path(\"data\")\n",
    "\n",
    "file_path = base_path / data_dir / \"prices.csv\"  # Combining multiple paths\n",
    "print(file_path)"
   ]
  },
  {
   "cell_type": "markdown",
   "id": "1e4cb1a4-a5b6-4069-a77b-22d2c25cab69",
   "metadata": {},
   "source": [
    "By using a forward slash, you can extend `Path` objects with another object or a string path. "
   ]
  },
  {
   "cell_type": "markdown",
   "id": "f082b8d2-03eb-443a-8d9b-38ba4b6a6597",
   "metadata": {},
   "source": [
    "3. __From the current working directory__\n",
    "\n",
    "The `Path.cwd()` method gives a fast access to the current working directory as a Path object:"
   ]
  },
  {
   "cell_type": "code",
   "execution_count": 4,
   "id": "93e6da9f-d601-4d87-b788-1fbf38544ed4",
   "metadata": {},
   "outputs": [
    {
     "name": "stdout",
     "output_type": "stream",
     "text": [
      "/home/bexgboost/articles/2024/4_april/8_pathlib\n"
     ]
    }
   ],
   "source": [
    "cwd = Path.cwd()\n",
    "\n",
    "print(cwd)"
   ]
  },
  {
   "cell_type": "markdown",
   "id": "fd3ec1c7-a197-4cc9-91f9-88d7a8d727bb",
   "metadata": {},
   "source": [
    "4. __From the home directory__"
   ]
  },
  {
   "cell_type": "code",
   "execution_count": 5,
   "id": "104da42b-a236-4d4b-8d2e-4980c9d8d243",
   "metadata": {},
   "outputs": [
    {
     "data": {
      "text/plain": [
       "PosixPath('/home/bexgboost/downloads/projects')"
      ]
     },
     "execution_count": 5,
     "metadata": {},
     "output_type": "execute_result"
    }
   ],
   "source": [
    "home = Path.home()\n",
    "\n",
    "home / \"downloads\" / \"projects\""
   ]
  },
  {
   "cell_type": "markdown",
   "id": "67ad9668-d218-4754-a28c-becf010dc2d1",
   "metadata": {},
   "source": [
    "__An important note__: The `Path` class itself doesn't perform any file system operations such as path validation, creating directories or files. It is designed for representing and manipulating paths. To actually interact with the file system (checking existence, reading/writing files), we will have to use special methods of `Path` objects and for some advanced cases, get help from the `os` module. More on this later."
   ]
  },
  {
   "cell_type": "markdown",
   "id": "808e67d1-6a48-4b85-892d-8f8bc972098f",
   "metadata": {},
   "source": [
    "## `Path` components "
   ]
  },
  {
   "cell_type": "markdown",
   "id": "69b2fe87-44c0-4ba8-98bf-9a3085fac3d5",
   "metadata": {},
   "source": [
    "Just like a physical address has different parts (street number, city, country, zip code, etc.), a file system path can be broken down into smaller components. `pathlib` allows us to access and manipulate these components using path attributes through dot-notation. \n",
    "\n",
    "Here are some common path attributes and how to retrieve them in `pathlib`:\n",
    "\n",
    "- __Root__: This refers to the top level of the file system (e.g., \"/\" on Unix-like systems, drive letter like \"C:\" on Windows)."
   ]
  },
  {
   "cell_type": "code",
   "execution_count": 6,
   "id": "9c0d93b3-6a67-44e2-9e16-ea93aa7d179a",
   "metadata": {},
   "outputs": [
    {
     "data": {
      "text/plain": [
       "'/'"
      ]
     },
     "execution_count": 6,
     "metadata": {},
     "output_type": "execute_result"
    }
   ],
   "source": [
    "image_file = home / \"downloads\" / \"midjourney.png\"\n",
    "\n",
    "image_file.root"
   ]
  },
  {
   "cell_type": "markdown",
   "id": "2aa15afd-0bb5-48ef-8bb9-ea43992e4d3f",
   "metadata": {},
   "source": [
    "- __Parent__: This attribute returns a `Path` object representing the directory containing the current path."
   ]
  },
  {
   "cell_type": "code",
   "execution_count": 7,
   "id": "5f142d90-c770-498d-bd2f-a717c10aded2",
   "metadata": {},
   "outputs": [
    {
     "data": {
      "text/plain": [
       "PosixPath('/home/bexgboost/downloads')"
      ]
     },
     "execution_count": 7,
     "metadata": {},
     "output_type": "execute_result"
    }
   ],
   "source": [
    "image_file.parent"
   ]
  },
  {
   "cell_type": "markdown",
   "id": "ffd5c0fd-ac78-4fc3-8d1c-a7186ef97f4c",
   "metadata": {},
   "source": [
    "- __name__: This attribute returns the entire filename (including extension) as a string."
   ]
  },
  {
   "cell_type": "code",
   "execution_count": 8,
   "id": "71938088-32c8-4e2b-9b61-581b183a055b",
   "metadata": {},
   "outputs": [
    {
     "data": {
      "text/plain": [
       "'midjourney.png'"
      ]
     },
     "execution_count": 8,
     "metadata": {},
     "output_type": "execute_result"
    }
   ],
   "source": [
    "image_file.name"
   ]
  },
  {
   "cell_type": "markdown",
   "id": "d050a5c0-1748-4f38-a4c9-70e3e4e6dfc2",
   "metadata": {},
   "source": [
    "- __suffix__: This attribute returns the file extension (including the dot) as a string, or an empty string if there's no extension."
   ]
  },
  {
   "cell_type": "code",
   "execution_count": 9,
   "id": "341fbc44-f436-40d7-8a81-e2052d00a284",
   "metadata": {},
   "outputs": [
    {
     "data": {
      "text/plain": [
       "'.png'"
      ]
     },
     "execution_count": 9,
     "metadata": {},
     "output_type": "execute_result"
    }
   ],
   "source": [
    "image_file.suffix"
   ]
  },
  {
   "cell_type": "markdown",
   "id": "c16a33d1-aedb-43fa-a543-910e8e2fe7a9",
   "metadata": {},
   "source": [
    "- __stem__: This attribute returns the file name without the extension. It is useful when converting files to different formats."
   ]
  },
  {
   "cell_type": "code",
   "execution_count": 10,
   "id": "5bde7f9d-9e9d-49f1-84cd-04c359108db6",
   "metadata": {},
   "outputs": [
    {
     "data": {
      "text/plain": [
       "'midjourney'"
      ]
     },
     "execution_count": 10,
     "metadata": {},
     "output_type": "execute_result"
    }
   ],
   "source": [
    "image_file.stem"
   ]
  },
  {
   "cell_type": "markdown",
   "id": "8f9b5b25-0503-40af-bbf7-517ca557716a",
   "metadata": {},
   "source": [
    "If you want to split a `Path` object into its components, you can use the `.parts` attribute:"
   ]
  },
  {
   "cell_type": "code",
   "execution_count": 11,
   "id": "41265006-c1b8-43f2-8532-54f2dbf77990",
   "metadata": {},
   "outputs": [
    {
     "data": {
      "text/plain": [
       "('/', 'home', 'bexgboost', 'downloads', 'midjourney.png')"
      ]
     },
     "execution_count": 11,
     "metadata": {},
     "output_type": "execute_result"
    }
   ],
   "source": [
    "image_file.parts"
   ]
  },
  {
   "cell_type": "markdown",
   "id": "1d685ed8-f712-4b3d-a667-3a9dab4bb977",
   "metadata": {},
   "source": [
    "If you want these components to be `Path` objects in themselves, you can use the `.parents` attribute, which returns a generator:"
   ]
  },
  {
   "cell_type": "code",
   "execution_count": 12,
   "id": "ccc5bf82-6ebc-4656-9f80-ff45525c616f",
   "metadata": {},
   "outputs": [
    {
     "data": {
      "text/plain": [
       "[PosixPath('/home/bexgboost/downloads'),\n",
       " PosixPath('/home/bexgboost'),\n",
       " PosixPath('/home'),\n",
       " PosixPath('/')]"
      ]
     },
     "execution_count": 12,
     "metadata": {},
     "output_type": "execute_result"
    }
   ],
   "source": [
    "list(image_file.parents)"
   ]
  },
  {
   "cell_type": "markdown",
   "id": "627bcce4-53c4-451d-9241-f0e6da591623",
   "metadata": {},
   "source": [
    "## Common path operations using `pathlib`"
   ]
  },
  {
   "cell_type": "markdown",
   "id": "d397824a-d631-4ae5-8a63-52cd4c3cf462",
   "metadata": {},
   "source": [
    "`Path` objects have many methods that allows you to efficiently interact with directories and contents. Below, we will look at how to perform some of the most common operations you will face daily."
   ]
  },
  {
   "cell_type": "markdown",
   "id": "5c663739-c834-4a40-ae23-4758fa50f7d7",
   "metadata": {},
   "source": [
    "### Listing directories"
   ]
  },
  {
   "cell_type": "markdown",
   "id": "12b0f6e8-f33d-48ed-b9b8-656e300bbae5",
   "metadata": {},
   "source": [
    "The `iterdir()` method allows you to iterate over all entries (files and subdirectories) within a folder given as a `Path` object. It is particularly useful for processing all files in a directory or performing operations on each entry:"
   ]
  },
  {
   "cell_type": "code",
   "execution_count": 13,
   "id": "8adf32e1-9db4-4120-a90c-a5112dbab9b9",
   "metadata": {},
   "outputs": [],
   "source": [
    "cwd = Path.cwd()\n",
    "\n",
    "for entry in cwd.iterdir():\n",
    "    # Process the entry here\n",
    "    ...\n",
    "    # print(entry)"
   ]
  },
  {
   "cell_type": "markdown",
   "id": "d3bfa7d3-9022-455a-9929-e7196eb0ea39",
   "metadata": {},
   "source": [
    "Since `iterdir()` returns an interator, entries are retrieved on-demand as you go through the loop. \n",
    "\n",
    "While iterating through a directory, you may want to focus processing only on files or directories. `Path` objects have methods for checking entry type:\n",
    "\n",
    "- `is_dir()`: This method returns `True` if the path points to a directory, `False` otherwise."
   ]
  },
  {
   "cell_type": "code",
   "execution_count": 14,
   "id": "0e58e46f-0212-44ee-a2d0-028a8751b569",
   "metadata": {},
   "outputs": [
    {
     "name": "stdout",
     "output_type": "stream",
     "text": [
      ".ipynb_checkpoints\n",
      "data\n",
      "images\n"
     ]
    }
   ],
   "source": [
    "for entry in cwd.iterdir():\n",
    "    if entry.is_dir():\n",
    "        print(entry.name)"
   ]
  },
  {
   "cell_type": "markdown",
   "id": "a6a62647-0de3-4a38-aaed-781edfb20735",
   "metadata": {},
   "source": [
    "- `is_file()`: This method returns `True` if the path points to a regular file, `False` otherwise."
   ]
  },
  {
   "cell_type": "code",
   "execution_count": 15,
   "id": "617f7901-5f50-465b-9b7e-73ae37386d6d",
   "metadata": {},
   "outputs": [
    {
     "name": "stdout",
     "output_type": "stream",
     "text": [
      ".ipynb\n",
      ".txt\n"
     ]
    }
   ],
   "source": [
    "for entry in cwd.iterdir():\n",
    "    if entry.is_file():\n",
    "        print(entry.suffix)"
   ]
  },
  {
   "cell_type": "markdown",
   "id": "c157617d-e651-4938-a604-adc0e42734f1",
   "metadata": {},
   "source": [
    "Since `Path` objects only represent paths, sometimes you need to check if a path actually exists using the `.exists()` method:"
   ]
  },
  {
   "cell_type": "code",
   "execution_count": 16,
   "id": "3c3ba5e6-3d72-4341-ac63-09a35dc7843f",
   "metadata": {},
   "outputs": [
    {
     "data": {
      "text/plain": [
       "False"
      ]
     },
     "execution_count": 16,
     "metadata": {},
     "output_type": "execute_result"
    }
   ],
   "source": [
    "image_file.exists()"
   ]
  },
  {
   "cell_type": "markdown",
   "id": "32b117b9-e987-4ac1-998e-0fcbaf9f7178",
   "metadata": {},
   "source": [
    "### Creating and deleting paths"
   ]
  },
  {
   "cell_type": "markdown",
   "id": "4212c0c2-829e-4c3b-8fab-d858431b6114",
   "metadata": {},
   "source": [
    "`pathlib` also offers functionalities for creating and deleting files and directories. Let's see how.\n",
    "\n",
    "- `mkdir()`: This method creates a new directory at the specified path. By default, it creates the directory in the current working directory."
   ]
  },
  {
   "cell_type": "code",
   "execution_count": 17,
   "id": "9a71d959-b75d-40fc-9063-21a7cce13e6d",
   "metadata": {},
   "outputs": [],
   "source": [
    "from pathlib import Path\n",
    "\n",
    "data_dir = Path(\"new_data_dir\")\n",
    "\n",
    "# Create the directory 'new_data_dir' in the current working directory\n",
    "data_dir.mkdir()"
   ]
  },
  {
   "cell_type": "markdown",
   "id": "52afdad7-1ae2-4d9b-9942-e558eda6bb39",
   "metadata": {},
   "source": [
    "- `mkdir(parents=True)`: This method is particularly useful when you want to create a directory structure where some parent directories might not exist. Setting `parents=True` ensures that all necessary parent directories are created along the way."
   ]
  },
  {
   "cell_type": "code",
   "execution_count": 19,
   "id": "7714249d-d7a2-481d-aa37-08921480da3b",
   "metadata": {},
   "outputs": [],
   "source": [
    "sub_dir = Path(\"data/nested/subdirectory\")\n",
    "\n",
    "# Create 'data/nested/subdirectory', even if 'data' or 'nested' don't exist\n",
    "sub_dir.mkdir(parents=True)"
   ]
  },
  {
   "cell_type": "markdown",
   "id": "c7f5bf5b-fde7-4792-ac22-e64096e150b7",
   "metadata": {},
   "source": [
    "Keep in mind that `mkdir` raises an exception if a directory with the same name already exists:"
   ]
  },
  {
   "cell_type": "markdown",
   "id": "d6d24074-78dc-489d-a365-941b74bc4fa4",
   "metadata": {},
   "source": [
    "```python\n",
    "Path('data').mkdir()\n",
    "```\n",
    "\n",
    "```\n",
    "FileExistsError: [Errno 17] File exists: 'data'\n",
    "```"
   ]
  },
  {
   "cell_type": "markdown",
   "id": "5f6414b9-3c9a-4801-b963-3e697ee0237a",
   "metadata": {},
   "source": [
    "- `unlink()`: This method permanently deletes a file represented by the `Path` object. It is recommended to check if a file exists before running this method because it may raise an error:"
   ]
  },
  {
   "cell_type": "markdown",
   "id": "f6bdb568-63ae-4317-8414-c4662dc76061",
   "metadata": {},
   "source": [
    "```python\n",
    "to_delete = Path(\"data/prices.csv\")\n",
    "\n",
    "if to_delete.exists():\n",
    "    to_delete.unlink()\n",
    "    print(f\"Successfully deleted {to_delete.name}\")\n",
    "```\n",
    "\n",
    "```\n",
    "Successfully deleted prices.csv\n",
    "```"
   ]
  },
  {
   "cell_type": "markdown",
   "id": "b22d8fbf-6558-4625-9488-66e7ee5a8d06",
   "metadata": {},
   "source": [
    "- `rmdir()`: This method removes an empty (only empty) directory. If you want to delete a non-empty directory, the easiest way is to use [`shutil` library](https://stackoverflow.com/questions/303200/how-do-i-remove-delete-a-folder-that-is-not-empty) or the terminal."
   ]
  },
  {
   "cell_type": "code",
   "execution_count": null,
   "id": "2c92b0fc-b437-43c0-8ed2-287dbe20a732",
   "metadata": {},
   "outputs": [],
   "source": [
    "empty_dir = Path(\"new_data_dir\")\n",
    "\n",
    "empty_dir.rmdir()"
   ]
  },
  {
   "cell_type": "markdown",
   "id": "caa76d94-6d7f-4642-afc0-ccc99e0369c1",
   "metadata": {},
   "source": [
    "Please, be cautious when using `unlink()` or `rmdir()` as their results are permanent."
   ]
  },
  {
   "cell_type": "markdown",
   "id": "a27321c8-064f-427a-82bd-4fad9db2248b",
   "metadata": {},
   "source": [
    "## Advanced path manipulation"
   ]
  },
  {
   "cell_type": "markdown",
   "id": "a2e8723a-1603-4f66-87c1-569935a03b05",
   "metadata": {},
   "source": [
    "Let's move on to some advance path manipulation concepts and how to apply them in practice using `pathlib`."
   ]
  },
  {
   "cell_type": "markdown",
   "id": "4dfb2ed5-90af-423e-9bfb-43de4fc6ad1e",
   "metadata": {},
   "source": [
    "### Relative vs. absolute paths"
   ]
  },
  {
   "cell_type": "markdown",
   "id": "c70b8f20-80bf-48b4-b842-044b7607da47",
   "metadata": {},
   "source": [
    "We will start by understanding the difference between absolute and relative paths, as they come up often in your own work or in others' code. \n",
    "\n",
    "__Relative paths__: these paths specify the location of a file or directory relative to the current directory, hence the word _relative_. They are short and flexible within your project but can be confusing if you change the working directory. \n",
    "\n",
    "For example, I have an `images` folder in my current working directory, which has the `midjourney.png` file:"
   ]
  },
  {
   "cell_type": "code",
   "execution_count": 21,
   "id": "1c2d1e6c-0fe8-4cb1-a9a1-53352136d8fa",
   "metadata": {},
   "outputs": [
    {
     "data": {
      "text/plain": [
       "PosixPath('images/midjourney.png')"
      ]
     },
     "execution_count": 21,
     "metadata": {},
     "output_type": "execute_result"
    }
   ],
   "source": [
    "image = Path(\"images/midjourney.png\")\n",
    "\n",
    "image"
   ]
  },
  {
   "cell_type": "markdown",
   "id": "4ac3270b-c14c-4afa-a1cf-1726d534718b",
   "metadata": {},
   "source": [
    "The above code works now but if I move the notebook I am using to a different location, the snippet will break because the `images` folder didn't move with the notebook. \n",
    "\n",
    "__Absolute paths__: these paths specify the full location of a file or a directory from the root of the file system. They are independent of the current directory and offer a clear reference point for any user anywhere on the system:"
   ]
  },
  {
   "cell_type": "code",
   "execution_count": 22,
   "id": "de165033-0058-4e10-8531-ea0ff9216ba9",
   "metadata": {},
   "outputs": [
    {
     "data": {
      "text/plain": [
       "PosixPath('/home/bexgboost/articles/2024/4_april/8_pathlib/images/midjourney.png')"
      ]
     },
     "execution_count": 22,
     "metadata": {},
     "output_type": "execute_result"
    }
   ],
   "source": [
    "image_absolute = Path(\n",
    "    \"/home/bexgboost/articles/2024/4_april/8_pathlib/images/midjourney.png\"\n",
    ")\n",
    "\n",
    "image_absolute"
   ]
  },
  {
   "cell_type": "markdown",
   "id": "c08347b5-7d64-4bc7-8867-237fab1ee04b",
   "metadata": {},
   "source": [
    "I guess you can see why most people prefer relative paths - absolute paths can become pretty long, especially in complex projects with nested tree structures.\n",
    "\n",
    "That's why `pathlib` provides methods to convert relative paths to absolute with the `resolve()` method:"
   ]
  },
  {
   "cell_type": "code",
   "execution_count": 23,
   "id": "c45b9121-0c9a-41d6-9b0e-d52b1e780bc1",
   "metadata": {},
   "outputs": [
    {
     "data": {
      "text/plain": [
       "PosixPath('/home/bexgboost/articles/2024/4_april/8_pathlib/images/midjourney.png')"
      ]
     },
     "execution_count": 23,
     "metadata": {},
     "output_type": "execute_result"
    }
   ],
   "source": [
    "relative_image = Path(\"images/midjourney.png\")\n",
    "\n",
    "absolute_image = relative_image.resolve()\n",
    "absolute_image"
   ]
  },
  {
   "cell_type": "markdown",
   "id": "7f02f093-8a4c-442e-9259-3161f03fa47b",
   "metadata": {},
   "source": [
    "You can also go the other way - if you have an absolute path, you can convert it to relative based on a reference directory. "
   ]
  },
  {
   "cell_type": "code",
   "execution_count": 24,
   "id": "025e7b46-f41e-4880-8953-7a4a01f3514c",
   "metadata": {},
   "outputs": [
    {
     "data": {
      "text/plain": [
       "PosixPath('images/midjourney.png')"
      ]
     },
     "execution_count": 24,
     "metadata": {},
     "output_type": "execute_result"
    }
   ],
   "source": [
    "relative_path = Path.cwd()\n",
    "\n",
    "absolute_image.relative_to(relative_path)"
   ]
  },
  {
   "cell_type": "markdown",
   "id": "195c7161-3945-48d0-aabc-8a0cf05834ff",
   "metadata": {},
   "source": [
    "### Globbing"
   ]
  },
  {
   "cell_type": "markdown",
   "id": "c0a97fa2-83d1-4a2c-9550-6f6a1e7d8f78",
   "metadata": {},
   "source": [
    "Let's get back to the example we introduced in the beginning of the article, which showed how to find all PNG files in a given directory:"
   ]
  },
  {
   "cell_type": "markdown",
   "id": "0e15c5bf-bb22-4bd1-82dc-772ca1e17405",
   "metadata": {},
   "source": [
    "```python\n",
    "files = list(dir_path.glob(\"*.png\"))\n",
    "```"
   ]
  },
  {
   "cell_type": "markdown",
   "id": "58d0b739-3e4d-4b70-b085-70045568afb7",
   "metadata": {},
   "source": [
    "Let's talk about the `.glob()` method a bit more. \n",
    "\n",
    "`pathlib` uses the built-in `glob` module to efficiently search for files matching a specific pattern in any directory. This is very useful when you need to process files with similar names or extensions. \n",
    "\n",
    "The `glob` method accepts a pattern string containing wildcards as input and returns a generator object that yields matching `Path` objects on demand:\n",
    "- `*`: Matches zero or more characters.\n",
    "- `?`: Matches any single character.\n",
    "- `[]`: Matches a range of characters enclosed within brackets (e.g., `[a-z]` matches any lowercase letter)."
   ]
  },
  {
   "cell_type": "markdown",
   "id": "3ed1b45b-fb4e-4b4a-8a36-f7225fd61ed6",
   "metadata": {},
   "source": [
    "Let's try to find all Jupyter notebooks in my `articles` directory:"
   ]
  },
  {
   "cell_type": "code",
   "execution_count": 26,
   "id": "8830652f-dcd4-44b2-8304-4974ba6a632b",
   "metadata": {},
   "outputs": [
    {
     "name": "stdout",
     "output_type": "stream",
     "text": [
      "0\n"
     ]
    }
   ],
   "source": [
    "articles_dir = Path.home() / \"articles\"\n",
    "\n",
    "# Find all scripts\n",
    "notebooks = articles_dir.glob(\"*.ipynb\")\n",
    "\n",
    "# Print how many found\n",
    "print(len(list(notebooks)))"
   ]
  },
  {
   "cell_type": "markdown",
   "id": "033a7ed2-3357-4fbc-934a-e19c555e05f8",
   "metadata": {},
   "source": [
    "The `.glob` method only found two notebooks when it should have found much more (I have written over 150 articles in notebooks). The reason is that `glob` only searches inside the given directory, not its subdirectories. To do a recursive search, we need to use the original `rglob` method, which has a similar syntax:"
   ]
  },
  {
   "cell_type": "code",
   "execution_count": 27,
   "id": "ecaac4c7-3c13-454f-80db-78f6be9c32ae",
   "metadata": {},
   "outputs": [
    {
     "name": "stdout",
     "output_type": "stream",
     "text": [
      "357\n"
     ]
    }
   ],
   "source": [
    "notebooks = articles_dir.rglob(\"*.ipynb\")\n",
    "\n",
    "print(len(list(notebooks)))"
   ]
  },
  {
   "cell_type": "markdown",
   "id": "3a3b7052-6d9a-4413-aa70-4e47fe08847d",
   "metadata": {},
   "source": [
    "This time, it found 357 files, which is the more likely answer. "
   ]
  },
  {
   "cell_type": "markdown",
   "id": "4484692b-d17d-4322-b594-a9efd8354a94",
   "metadata": {},
   "source": [
    "## Working with files"
   ]
  },
  {
   "cell_type": "markdown",
   "id": "f4449888-1d7d-4887-9088-12b447f0ae6f",
   "metadata": {},
   "source": [
    "As mentioned earlier, `Path` objects only represent files but don't perform operations on them. However, they do have certain methods for common file operations. We will see how to use them in this section."
   ]
  },
  {
   "cell_type": "markdown",
   "id": "e111b3d8-6d10-41cf-9191-01aa952855ca",
   "metadata": {},
   "source": [
    "### Reading files"
   ]
  },
  {
   "cell_type": "markdown",
   "id": "c385f378-d4d7-44be-92be-f69cfb482d2b",
   "metadata": {},
   "source": [
    "Reading file contents is a fundamental operation in many Python applications. `pathlib` provides convenient shorthand methods for reading files as either text or raw bytes.\n",
    "\n",
    "The `read_text` method allows you to read the contents of a text file, retrieve and close the file:"
   ]
  },
  {
   "cell_type": "code",
   "execution_count": 28,
   "id": "32695ffd-0750-4645-bcb3-e92867c1fdb1",
   "metadata": {},
   "outputs": [
    {
     "name": "stdout",
     "output_type": "stream",
     "text": [
      "This is sample text.\n"
     ]
    }
   ],
   "source": [
    "file = Path(\"file.txt\")\n",
    "\n",
    "print(file.read_text())"
   ]
  },
  {
   "cell_type": "markdown",
   "id": "b51fd714-d5dd-46bf-86a8-5a7623f376e0",
   "metadata": {},
   "source": [
    "Similarly, for binary files, you can use the `read_bytes` method:"
   ]
  },
  {
   "cell_type": "code",
   "execution_count": 29,
   "id": "78771087-b723-45ed-bfee-ac4cc579466b",
   "metadata": {},
   "outputs": [
    {
     "data": {
      "text/plain": [
       "b'\\x89PNG\\r\\n\\x1a\\n\\x00\\x00'"
      ]
     },
     "execution_count": 29,
     "metadata": {},
     "output_type": "execute_result"
    }
   ],
   "source": [
    "image = Path(\"images/midjourney.png\")\n",
    "\n",
    "image.read_bytes()[:10]"
   ]
  },
  {
   "cell_type": "markdown",
   "id": "f133d65e-4ccf-45eb-bf9a-3a765d4fb3cb",
   "metadata": {},
   "source": [
    "When using a `read_*` method, error handling is important:"
   ]
  },
  {
   "cell_type": "code",
   "execution_count": 30,
   "id": "f3afd986-a41b-4bd9-8b35-78f036dd5446",
   "metadata": {},
   "outputs": [
    {
     "name": "stdout",
     "output_type": "stream",
     "text": [
      "No such thing.\n"
     ]
    }
   ],
   "source": [
    "nonexistent_file = Path(\"gibberish.txt\")\n",
    "\n",
    "try:\n",
    "    contents = nonexistent_file.read_text()\n",
    "except FileNotFoundError:\n",
    "    print(\"No such thing.\")"
   ]
  },
  {
   "cell_type": "markdown",
   "id": "2ea13e34-68fb-444e-8c00-b33cfc191f8d",
   "metadata": {},
   "source": [
    "### Writing files"
   ]
  },
  {
   "cell_type": "markdown",
   "id": "b2620052-0ce9-40bf-b074-fb8e33abb097",
   "metadata": {},
   "source": [
    "Writing to files is as easy as reading files. First, we have the `write_text` method:"
   ]
  },
  {
   "cell_type": "code",
   "execution_count": 41,
   "id": "9edef174-5671-4ec6-9136-72f3f4fb4252",
   "metadata": {},
   "outputs": [
    {
     "data": {
      "text/plain": [
       "17"
      ]
     },
     "execution_count": 41,
     "metadata": {},
     "output_type": "execute_result"
    }
   ],
   "source": [
    "file = Path(\"file.txt\")\n",
    "\n",
    "file.write_text(\"This is new text.\")"
   ]
  },
  {
   "cell_type": "code",
   "execution_count": 42,
   "id": "8f986fe4-66ae-49e1-9695-3beffcb69ac2",
   "metadata": {},
   "outputs": [
    {
     "data": {
      "text/plain": [
       "'This is new text.'"
      ]
     },
     "execution_count": 42,
     "metadata": {},
     "output_type": "execute_result"
    }
   ],
   "source": [
    "file.read_text()"
   ]
  },
  {
   "cell_type": "markdown",
   "id": "aae28f1b-fd24-4a32-b3b9-74e49fed1333",
   "metadata": {},
   "source": [
    "As you notice, the method overrides the old text. There is no `append` mode of `write_text` but we can use a workaround:"
   ]
  },
  {
   "cell_type": "code",
   "execution_count": 43,
   "id": "f0d05b16-a672-4964-a0f0-4c2963bc6188",
   "metadata": {},
   "outputs": [
    {
     "name": "stdout",
     "output_type": "stream",
     "text": [
      "This is new text.\n",
      "This is the final text.\n"
     ]
    }
   ],
   "source": [
    "old_text = file.read_text() + \"\\n\"\n",
    "final_text = \"This is the final text.\"\n",
    "\n",
    "# Combine old and new texts and write them back\n",
    "file.write_text(old_text + final_text)\n",
    "\n",
    "print(file.read_text())"
   ]
  },
  {
   "cell_type": "markdown",
   "id": "8bbc17a0-d928-4656-9fa8-961b0d2bd038",
   "metadata": {},
   "source": [
    "By using `read_text` and `write_text` together, we can append text to the end of the file.\n",
    "\n",
    "`write_bytes` works in the same way. Let's duplicate the `midjourney.png` image with a new name:"
   ]
  },
  {
   "cell_type": "code",
   "execution_count": 45,
   "id": "f0d13010-694b-4c04-9fa8-31fec6e85ff9",
   "metadata": {},
   "outputs": [
    {
     "data": {
      "text/plain": [
       "PosixPath('images/duplicated_midjourney.png')"
      ]
     },
     "execution_count": 45,
     "metadata": {},
     "output_type": "execute_result"
    }
   ],
   "source": [
    "original_image = Path(\"images/midjourney.png\")\n",
    "\n",
    "new_image = original_image.with_stem(\"duplicated_midjourney\")\n",
    "new_image"
   ]
  },
  {
   "cell_type": "markdown",
   "id": "072f5d3c-339f-4d5f-9fc1-b5be573393e2",
   "metadata": {},
   "source": [
    "First, we define the new image s path by using the `with_stem` method, which returns a given file path with a different filename (suffix stays the same). Now, we can read the `original_image` and write its contents to `new_image`:"
   ]
  },
  {
   "cell_type": "code",
   "execution_count": 46,
   "id": "0d632f3a-a247-4024-af04-9764b31bd248",
   "metadata": {},
   "outputs": [
    {
     "data": {
      "text/plain": [
       "1979612"
      ]
     },
     "execution_count": 46,
     "metadata": {},
     "output_type": "execute_result"
    }
   ],
   "source": [
    "new_image.write_bytes(original_image.read_bytes())"
   ]
  },
  {
   "cell_type": "markdown",
   "id": "c31d5b8e-d9b0-46df-a66a-d748d5c69405",
   "metadata": {},
   "source": [
    "The image is now duplicated."
   ]
  },
  {
   "cell_type": "markdown",
   "id": "99283a5c-1593-4c29-91aa-32eb18ac8bd2",
   "metadata": {},
   "source": [
    "### File renaming and moving"
   ]
  },
  {
   "cell_type": "markdown",
   "id": "fa299cb8-dd4f-46b7-b6a5-fa286e05ffd8",
   "metadata": {},
   "source": [
    "Above, we used the `with_stem` function to rename the file's stem, which is a common operation. `pathlib` offers the `rename` method for full renaming as well:"
   ]
  },
  {
   "cell_type": "code",
   "execution_count": 47,
   "id": "16d1ff52-b3c3-4dc2-a59d-043aa5979a07",
   "metadata": {},
   "outputs": [
    {
     "data": {
      "text/plain": [
       "PosixPath('new_file.txt')"
      ]
     },
     "execution_count": 47,
     "metadata": {},
     "output_type": "execute_result"
    }
   ],
   "source": [
    "file = Path(\"file.txt\")\n",
    "target_path = Path(\"new_file.txt\")\n",
    "\n",
    "file.rename(target_path)"
   ]
  },
  {
   "cell_type": "markdown",
   "id": "33adab4b-d04c-4acc-8ec4-362e794da397",
   "metadata": {},
   "source": [
    "`rename` accepts a target path, which can be a string or another path object.\n",
    "\n",
    "To move files, you can use the `replace` function, which also accepts a destination path:"
   ]
  },
  {
   "cell_type": "code",
   "execution_count": 55,
   "id": "abe8a567-fbbb-4ac5-a497-284925c642b4",
   "metadata": {},
   "outputs": [
    {
     "data": {
      "text/plain": [
       "PosixPath('data/new/location/new_file.txt')"
      ]
     },
     "execution_count": 55,
     "metadata": {},
     "output_type": "execute_result"
    }
   ],
   "source": [
    "# Define the file to be moved\n",
    "source_file = Path(\"new_file.txt\")\n",
    "\n",
    "# Define the location to put the file\n",
    "destination = Path(\"data/new/location\")\n",
    "\n",
    "# Create the directories if they don't exist\n",
    "destination.mkdir(parents=True)\n",
    "\n",
    "# Move the file\n",
    "source_file.replace(destination / source_file.name)"
   ]
  },
  {
   "cell_type": "markdown",
   "id": "7a55ed69-fbcc-4e89-b777-51d976224cdf",
   "metadata": {},
   "source": [
    "### Creating blank files"
   ]
  },
  {
   "cell_type": "markdown",
   "id": "33ac069d-59da-4231-b77a-3c9836a3320a",
   "metadata": {},
   "source": [
    "`pathlib` allows you to create blank files using the `touch` method:"
   ]
  },
  {
   "cell_type": "code",
   "execution_count": 65,
   "id": "37ec1a13-83ba-493e-ab87-5ff154e366ec",
   "metadata": {},
   "outputs": [
    {
     "data": {
      "text/plain": [
       "False"
      ]
     },
     "execution_count": 65,
     "metadata": {},
     "output_type": "execute_result"
    }
   ],
   "source": [
    "# Define new file path\n",
    "new_dataset = Path(\"data/new.csv\")\n",
    "\n",
    "new_dataset.exists()"
   ]
  },
  {
   "cell_type": "code",
   "execution_count": 66,
   "id": "1ff320f9-13a4-4fc6-af6a-fce025c4c44b",
   "metadata": {},
   "outputs": [
    {
     "data": {
      "text/plain": [
       "True"
      ]
     },
     "execution_count": 66,
     "metadata": {},
     "output_type": "execute_result"
    }
   ],
   "source": [
    "new_dataset.touch()\n",
    "\n",
    "new_dataset.exists()"
   ]
  },
  {
   "cell_type": "markdown",
   "id": "8b796f11-f3b3-486d-9f06-7c39778255f7",
   "metadata": {},
   "source": [
    "The `touch` method is originally meant for updating a file's modification time, so it can be used on existing files as well:"
   ]
  },
  {
   "cell_type": "code",
   "execution_count": 70,
   "id": "4b666f2a-e555-47b2-980e-8fe8ee616ee1",
   "metadata": {},
   "outputs": [],
   "source": [
    "original_image.touch()"
   ]
  },
  {
   "cell_type": "markdown",
   "id": "eb093b63-3515-4314-8241-d335b9c9ff7d",
   "metadata": {},
   "source": [
    "But when you need to reserve a filename for later use but don't have any content to write to it at the moment, you can use `touch` to create a blank. The method was inspired by the Unix `touch` terminal command."
   ]
  },
  {
   "cell_type": "markdown",
   "id": "9eff8f4e-56b3-4323-8078-14fbbfbf9116",
   "metadata": {},
   "source": [
    "### Permissions and file system information"
   ]
  },
  {
   "cell_type": "markdown",
   "id": "bfd2ed0e-5237-4fd9-9670-f1f634bb2bed",
   "metadata": {},
   "source": [
    "One last thing about files we will learn is file statistics using the `stat` method:"
   ]
  },
  {
   "cell_type": "code",
   "execution_count": 77,
   "id": "7a7dd8a5-23d5-4389-b215-23fdbd4eb653",
   "metadata": {},
   "outputs": [
    {
     "data": {
      "text/plain": [
       "os.stat_result(st_mode=33188, st_ino=1950175, st_dev=2080, st_nlink=1, st_uid=1000, st_gid=1000, st_size=1979612, st_atime=1714664562, st_mtime=1714664562, st_ctime=1714664562)"
      ]
     },
     "execution_count": 77,
     "metadata": {},
     "output_type": "execute_result"
    }
   ],
   "source": [
    "image_stats = original_image.stat()\n",
    "\n",
    "image_stats"
   ]
  },
  {
   "cell_type": "markdown",
   "id": "95f0d7d9-111b-4d02-8556-b9e3ae760aff",
   "metadata": {},
   "source": [
    "It returns the same output as the `os.stat()` function containing several file characteristics. Below, we will retrieve the file size using dot-notation:"
   ]
  },
  {
   "cell_type": "code",
   "execution_count": 86,
   "id": "7603c388-5467-4ac8-b14f-024ea6ced9c3",
   "metadata": {},
   "outputs": [
    {
     "data": {
      "text/plain": [
       "1.8879051208496094"
      ]
     },
     "execution_count": 86,
     "metadata": {},
     "output_type": "execute_result"
    }
   ],
   "source": [
    "image_size = image_stats.st_size\n",
    "\n",
    "# File size in megabytes\n",
    "image_size / (1024**2)"
   ]
  },
  {
   "cell_type": "markdown",
   "id": "09525016-9a4a-47b1-bb1f-cb527a266575",
   "metadata": {},
   "source": [
    "## Conclusion"
   ]
  },
  {
   "cell_type": "markdown",
   "id": "c594069f-1b0e-4b3f-b362-2e9075341ed2",
   "metadata": {},
   "source": [
    "In this tutorial, we have learned about `pathlib` - a powerful library for interacting with the file system in Python (I consider it as one of the best things that has ever happened to Python). Here is a recap of its key benefits:\n",
    "\n",
    "\n",
    "* **Object-oriented approach:** `Path` objects provide a structured and straightforward way to represent file system paths, making code more readable and maintainable.\n",
    "* **Platform independence:** `pathlib` handles path separators and operations consistently across different operating systems, ensuring your code doesn't break on another's machine.\n",
    "* **Concise and expressive methods:** `pathlib` offers a vast set of methods for common file system operations, making tasks like path manipulation, file reading/writing, and directory management a breeze.\n",
    "\n",
    "If you want to learn more about Python and its built-in libraries, feel free to check out the following resources:\n",
    "\n",
    "- [Data Scientist With Python Career Track](https://www.datacamp.com/tracks/associate-data-scientist-in-python)\n",
    "- [Python Programming Skill Track](https://www.datacamp.com/tracks/python-programming)\n",
    "- [Intro to Python for Data Science Course](https://www.datacamp.com/courses/intro-to-python-for-data-science)\n",
    "\n",
    "Thank you for reading!"
   ]
  }
 ],
 "metadata": {
  "kernelspec": {
   "display_name": "articles",
   "language": "python",
   "name": "articles"
  },
  "language_info": {
   "codemirror_mode": {
    "name": "ipython",
    "version": 3
   },
   "file_extension": ".py",
   "mimetype": "text/x-python",
   "name": "python",
   "nbconvert_exporter": "python",
   "pygments_lexer": "ipython3",
   "version": "3.10.8"
  },
  "widgets": {
   "application/vnd.jupyter.widget-state+json": {
    "state": {},
    "version_major": 2,
    "version_minor": 0
   }
  }
 },
 "nbformat": 4,
 "nbformat_minor": 5
}
