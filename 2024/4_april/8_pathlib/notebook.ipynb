{
 "cells": [
  {
   "cell_type": "markdown",
   "id": "62aab7af-7f01-40ef-8269-c6da89127d1f",
   "metadata": {},
   "source": [
    "# Comprehensive Tutorial on Using Pathlib In Python For File System Manipulation"
   ]
  },
  {
   "cell_type": "markdown",
   "id": "302950ed-9d6c-4951-ab25-ba7d0d73b589",
   "metadata": {},
   "source": [
    "## Introduction"
   ]
  },
  {
   "cell_type": "markdown",
   "id": "8efeb12d-90e7-4cb1-9cfe-edcfff8d08ed",
   "metadata": {},
   "source": [
    "One of the most frustrating aspects of Python up until version 3.4 was file system manipulation. Developers often struggled with tangled strings representing paths. Their code broke frequently due to path inconsistencies on different operating systems (Windows vs. Unix-like). That's when the `pathlib` module was introduced to the standard library.\n",
    "\n",
    "`pathlib` offers a long-awaited object-oriented approach to path manipulation. It offers a powerful and elegant solution to handling file system paths, ensures platform-agnostic behavior, and promotes code clarity and maintainability. \n",
    "\n",
    "The module has matured significantly over the years, making it an essential tool for any Pythonista. This comprehensive tutorial will teach you the features and methods of `pathlib` that will probably enough for 99% of your daily needs. Let's get started."
   ]
  },
  {
   "cell_type": "markdown",
   "id": "a48a49cd-9e4f-46bb-8412-7e21e277ccea",
   "metadata": {},
   "source": [
    "## Python `os` module vs. `pathlib`"
   ]
  },
  {
   "cell_type": "markdown",
   "id": "89a3b2d1-c2a9-4251-ba93-fecb66daa4a2",
   "metadata": {},
   "source": [
    "Some of our readers might ask \"Why learn a new library when we have the Python `os` module?\". That's a fair question. \n",
    "\n",
    "Let's say we want to find all `png` files inside a given directory and all its sub-directories (a common task in data science). If we were using the `os` module, we would have to write code like this:"
   ]
  },
  {
   "cell_type": "code",
   "execution_count": null,
   "id": "21e0c5b9-9d45-43ee-a680-7dac5382c5d4",
   "metadata": {},
   "outputs": [],
   "source": [
    "import os\n",
    "\n",
    "dir_path = \"/home/user/documents\"\n",
    "\n",
    "# Find all text files inside a directory\n",
    "files = [\n",
    "    os.path.join(dir_path, f)\n",
    "    for f in os.listdir(dir_path)\n",
    "    if os.path.isfile(os.path.join(dir_path, f)) and f.endswith(\".png\")\n",
    "]"
   ]
  },
  {
   "cell_type": "markdown",
   "id": "f0c66fd6-fbdc-4153-b2f8-b70a065b03c7",
   "metadata": {},
   "source": [
    "This snippet has many disadvantages:\n",
    "1. It is long and unreadable for such a simple operation.\n",
    "2. Requires knowledge of list comprehensions.\n",
    "3. It involves string operations which are error-prone.\n",
    "\n",
    "If we were using `pathlib`, then our code would be much simpler:"
   ]
  },
  {
   "cell_type": "code",
   "execution_count": null,
   "id": "666c61a1-480a-42a1-82c8-ad6dc47e30d4",
   "metadata": {},
   "outputs": [],
   "source": [
    "from pathlib import Path\n",
    "\n",
    "# Create a path object\n",
    "dir_path = Path(dir_path)\n",
    "\n",
    "# Find all text files inside a directory\n",
    "files = list(dir_path.glob(\"*.png\"))"
   ]
  },
  {
   "cell_type": "markdown",
   "id": "17229947-78d2-436c-b591-1e33cfbac888",
   "metadata": {},
   "source": [
    "If you continue reading the article, you will discover many more benefits of `pathlib` over the `os` module besides simplicity and readability. So, shall we?"
   ]
  },
  {
   "cell_type": "markdown",
   "id": "fe89c331-46cd-447a-9d11-215181c03f6f",
   "metadata": {},
   "source": [
    "## `Path` objects"
   ]
  },
  {
   "cell_type": "markdown",
   "id": "b265785a-bf01-4775-9012-c60280b40d34",
   "metadata": {},
   "source": [
    "The entire `pathlib` library revolves around `Path` objects:"
   ]
  },
  {
   "cell_type": "code",
   "execution_count": 2,
   "id": "84c5ccd9-1ef3-44c2-bd28-cbe02f78567d",
   "metadata": {},
   "outputs": [],
   "source": [
    "from pathlib import Path"
   ]
  },
  {
   "cell_type": "markdown",
   "id": "0e3999e5-1ed3-4bcb-be34-83a13882071a",
   "metadata": {},
   "source": [
    "These objects represent file system paths in a structured and - this is key - platform-independent way. Unlike working with raw strings, these objects offer a more user-friendly approach to manipulating file system paths.\n",
    "\n",
    "We can create `Path` objects in several ways:\n",
    "\n",
    "1. __From strings__\n",
    "\n",
    "You can directly create a `Path` object by passing a string that represents a file system path:"
   ]
  },
  {
   "cell_type": "code",
   "execution_count": 4,
   "id": "dd84ff2e-c432-487a-be7c-5da0b9d41bdb",
   "metadata": {},
   "outputs": [
    {
     "name": "stdout",
     "output_type": "stream",
     "text": [
      "<class 'pathlib.PosixPath'>\n"
     ]
    }
   ],
   "source": [
    "file_path_str = \"data/union_data.csv\"\n",
    "data_path = Path(file_path_str)\n",
    "\n",
    "print(type(data_path))"
   ]
  },
  {
   "cell_type": "markdown",
   "id": "3ba9a360-ea92-44d1-8466-e9c0ff0d7fd7",
   "metadata": {},
   "source": [
    "2. __From other `path` objects__\n",
    "\n",
    "Existing `Path` objects can be building blocks to create new paths. You can combine them using operators:"
   ]
  },
  {
   "cell_type": "code",
   "execution_count": 10,
   "id": "d5730d2c-dc2d-4073-aaa8-cb409fdb8a96",
   "metadata": {},
   "outputs": [
    {
     "name": "stdout",
     "output_type": "stream",
     "text": [
      "/home/user/data/prices.csv\n"
     ]
    }
   ],
   "source": [
    "base_path = Path(\"/home/user\")\n",
    "data_dir = Path(\"data\")\n",
    "\n",
    "file_path = base_path / data_dir / \"prices.csv\"  # Combining multiple paths\n",
    "print(file_path)"
   ]
  },
  {
   "cell_type": "markdown",
   "id": "1e4cb1a4-a5b6-4069-a77b-22d2c25cab69",
   "metadata": {},
   "source": [
    "By using a forward slash, you can extend `Path` objects with another object or a string path. "
   ]
  },
  {
   "cell_type": "markdown",
   "id": "f082b8d2-03eb-443a-8d9b-38ba4b6a6597",
   "metadata": {},
   "source": [
    "3. __From the current working directory__\n",
    "\n",
    "The `Path.cwd()` method gives a fast access to the current working directory as a Path object:"
   ]
  },
  {
   "cell_type": "code",
   "execution_count": 9,
   "id": "93e6da9f-d601-4d87-b788-1fbf38544ed4",
   "metadata": {},
   "outputs": [
    {
     "name": "stdout",
     "output_type": "stream",
     "text": [
      "/home/bexgboost/articles/2024/4_april/8_pathlib\n"
     ]
    }
   ],
   "source": [
    "cwd = Path.cwd()\n",
    "\n",
    "print(cwd)"
   ]
  },
  {
   "cell_type": "markdown",
   "id": "fd3ec1c7-a197-4cc9-91f9-88d7a8d727bb",
   "metadata": {},
   "source": [
    "4. __From the home directory__"
   ]
  },
  {
   "cell_type": "code",
   "execution_count": 11,
   "id": "104da42b-a236-4d4b-8d2e-4980c9d8d243",
   "metadata": {},
   "outputs": [
    {
     "data": {
      "text/plain": [
       "PosixPath('/home/bexgboost/downloads/projects')"
      ]
     },
     "execution_count": 11,
     "metadata": {},
     "output_type": "execute_result"
    }
   ],
   "source": [
    "home = Path.home()\n",
    "\n",
    "home / \"downloads\" / \"projects\""
   ]
  },
  {
   "cell_type": "markdown",
   "id": "67ad9668-d218-4754-a28c-becf010dc2d1",
   "metadata": {},
   "source": [
    "__An important note__: The `Path` class itself doesn't perform any file system operations such as path validation, creating directories or files. It is designed for representing and manipulating paths. To actually interact with the file system (checking existence, reading/writing files), we will have to use special methods of `Path` objects and for some advanced cases, get help from the `os` module. More on this later."
   ]
  },
  {
   "cell_type": "markdown",
   "id": "808e67d1-6a48-4b85-892d-8f8bc972098f",
   "metadata": {},
   "source": [
    "## `Path` components "
   ]
  },
  {
   "cell_type": "markdown",
   "id": "69b2fe87-44c0-4ba8-98bf-9a3085fac3d5",
   "metadata": {},
   "source": [
    "Just like a physical address has different parts (street number, city, country, zip code, etc.), a file system path can be broken down into smaller components. `pathlib` allows us to access and manipulate these components using path attributes through dot-notation. \n",
    "\n",
    "Here are some common path attributes and how to retrieve them in `pathlib`:\n",
    "\n",
    "- __Root__: This refers to the top level of the file system (e.g., \"/\" on Unix-like systems, drive letter like \"C:\" on Windows)."
   ]
  },
  {
   "cell_type": "code",
   "execution_count": 13,
   "id": "9c0d93b3-6a67-44e2-9e16-ea93aa7d179a",
   "metadata": {},
   "outputs": [
    {
     "data": {
      "text/plain": [
       "'/'"
      ]
     },
     "execution_count": 13,
     "metadata": {},
     "output_type": "execute_result"
    }
   ],
   "source": [
    "image_file = home / \"downloads\" / \"midjourney.png\"\n",
    "\n",
    "image_file.root"
   ]
  },
  {
   "cell_type": "markdown",
   "id": "2aa15afd-0bb5-48ef-8bb9-ea43992e4d3f",
   "metadata": {},
   "source": [
    "- __Parent__: This attribute returns a `Path` object representing the directory containing the current path."
   ]
  },
  {
   "cell_type": "code",
   "execution_count": 14,
   "id": "5f142d90-c770-498d-bd2f-a717c10aded2",
   "metadata": {},
   "outputs": [
    {
     "data": {
      "text/plain": [
       "PosixPath('/home/bexgboost/downloads')"
      ]
     },
     "execution_count": 14,
     "metadata": {},
     "output_type": "execute_result"
    }
   ],
   "source": [
    "image_file.parent"
   ]
  },
  {
   "cell_type": "markdown",
   "id": "ffd5c0fd-ac78-4fc3-8d1c-a7186ef97f4c",
   "metadata": {},
   "source": [
    "- __name__: This attribute returns the entire filename (including extension) as a string."
   ]
  },
  {
   "cell_type": "code",
   "execution_count": 15,
   "id": "71938088-32c8-4e2b-9b61-581b183a055b",
   "metadata": {},
   "outputs": [
    {
     "data": {
      "text/plain": [
       "'midjourney.png'"
      ]
     },
     "execution_count": 15,
     "metadata": {},
     "output_type": "execute_result"
    }
   ],
   "source": [
    "image_file.name"
   ]
  },
  {
   "cell_type": "markdown",
   "id": "d050a5c0-1748-4f38-a4c9-70e3e4e6dfc2",
   "metadata": {},
   "source": [
    "- __suffix__: This attribute returns the file extension (including the dot) as a string, or an empty string if there's no extension."
   ]
  },
  {
   "cell_type": "code",
   "execution_count": 16,
   "id": "341fbc44-f436-40d7-8a81-e2052d00a284",
   "metadata": {},
   "outputs": [
    {
     "data": {
      "text/plain": [
       "'.png'"
      ]
     },
     "execution_count": 16,
     "metadata": {},
     "output_type": "execute_result"
    }
   ],
   "source": [
    "image_file.suffix"
   ]
  },
  {
   "cell_type": "markdown",
   "id": "c16a33d1-aedb-43fa-a543-910e8e2fe7a9",
   "metadata": {},
   "source": [
    "- __stem__: This attribute returns the file name without the extension. It is useful when converting files to different formats."
   ]
  },
  {
   "cell_type": "code",
   "execution_count": 17,
   "id": "5bde7f9d-9e9d-49f1-84cd-04c359108db6",
   "metadata": {},
   "outputs": [
    {
     "data": {
      "text/plain": [
       "'midjourney'"
      ]
     },
     "execution_count": 17,
     "metadata": {},
     "output_type": "execute_result"
    }
   ],
   "source": [
    "image_file.stem"
   ]
  },
  {
   "cell_type": "markdown",
   "id": "8f9b5b25-0503-40af-bbf7-517ca557716a",
   "metadata": {},
   "source": [
    "If you want to split a `Path` object into its components, you can use the `.parts` attribute:"
   ]
  },
  {
   "cell_type": "code",
   "execution_count": 18,
   "id": "41265006-c1b8-43f2-8532-54f2dbf77990",
   "metadata": {},
   "outputs": [
    {
     "data": {
      "text/plain": [
       "('/', 'home', 'bexgboost', 'downloads', 'midjourney.png')"
      ]
     },
     "execution_count": 18,
     "metadata": {},
     "output_type": "execute_result"
    }
   ],
   "source": [
    "image_file.parts"
   ]
  },
  {
   "cell_type": "markdown",
   "id": "1d685ed8-f712-4b3d-a667-3a9dab4bb977",
   "metadata": {},
   "source": [
    "If you want these components to be `Path` objects in themselves, you can use the `.parents` attribute, which returns a generator:"
   ]
  },
  {
   "cell_type": "code",
   "execution_count": 19,
   "id": "ccc5bf82-6ebc-4656-9f80-ff45525c616f",
   "metadata": {},
   "outputs": [
    {
     "data": {
      "text/plain": [
       "[PosixPath('/home/bexgboost/downloads'),\n",
       " PosixPath('/home/bexgboost'),\n",
       " PosixPath('/home'),\n",
       " PosixPath('/')]"
      ]
     },
     "execution_count": 19,
     "metadata": {},
     "output_type": "execute_result"
    }
   ],
   "source": [
    "list(image_file.parents)"
   ]
  },
  {
   "cell_type": "markdown",
   "id": "627bcce4-53c4-451d-9241-f0e6da591623",
   "metadata": {},
   "source": [
    "## Common path operations using `pathlib`"
   ]
  },
  {
   "cell_type": "markdown",
   "id": "d397824a-d631-4ae5-8a63-52cd4c3cf462",
   "metadata": {},
   "source": [
    "`Path` objects have many methods that allows you to efficiently interact with directories and contents. Below, we will look at how to perform some of the most common operations you will face daily."
   ]
  },
  {
   "cell_type": "markdown",
   "id": "5c663739-c834-4a40-ae23-4758fa50f7d7",
   "metadata": {},
   "source": [
    "### Listing directories"
   ]
  },
  {
   "cell_type": "markdown",
   "id": "12b0f6e8-f33d-48ed-b9b8-656e300bbae5",
   "metadata": {},
   "source": [
    "The `iterdir()` method allows you to iterate over all entries (files and subdirectories) within a folder given as a `Path` object. It is particularly useful for processing all files in a directory or performing operations on each entry:"
   ]
  },
  {
   "cell_type": "code",
   "execution_count": 21,
   "id": "8adf32e1-9db4-4120-a90c-a5112dbab9b9",
   "metadata": {},
   "outputs": [],
   "source": [
    "cwd = Path.cwd()\n",
    "\n",
    "for entry in cwd.iterdir():\n",
    "    # Process the entry here\n",
    "    ...\n",
    "    # print(entry)"
   ]
  },
  {
   "cell_type": "markdown",
   "id": "d3bfa7d3-9022-455a-9929-e7196eb0ea39",
   "metadata": {},
   "source": [
    "Since `iterdir()` returns an interator, entries are retrieved on-demand as you go through the loop. \n",
    "\n",
    "While iterating through a directory, you may want to focus processing only on files or directories. `Path` objects have methods for checking entry type:\n",
    "\n",
    "- `is_dir()`: This method returns `True` if the path points to a directory, `False` otherwise."
   ]
  },
  {
   "cell_type": "code",
   "execution_count": 23,
   "id": "0e58e46f-0212-44ee-a2d0-028a8751b569",
   "metadata": {},
   "outputs": [
    {
     "name": "stdout",
     "output_type": "stream",
     "text": [
      ".ipynb_checkpoints\n",
      "data\n",
      "images\n"
     ]
    }
   ],
   "source": [
    "for entry in cwd.iterdir():\n",
    "    if entry.is_dir():\n",
    "        print(entry.name)"
   ]
  },
  {
   "cell_type": "markdown",
   "id": "a6a62647-0de3-4a38-aaed-781edfb20735",
   "metadata": {},
   "source": [
    "- `is_file()`: This method returns `True` if the path points to a regular file, `False` otherwise."
   ]
  },
  {
   "cell_type": "code",
   "execution_count": 25,
   "id": "617f7901-5f50-465b-9b7e-73ae37386d6d",
   "metadata": {},
   "outputs": [
    {
     "name": "stdout",
     "output_type": "stream",
     "text": [
      ".ipynb\n"
     ]
    }
   ],
   "source": [
    "for entry in cwd.iterdir():\n",
    "    if entry.is_file():\n",
    "        print(entry.suffix)"
   ]
  },
  {
   "cell_type": "markdown",
   "id": "c157617d-e651-4938-a604-adc0e42734f1",
   "metadata": {},
   "source": [
    "Since `Path` objects only represent paths, sometimes you need to check if a path actually exists using the `.exists()` method:"
   ]
  },
  {
   "cell_type": "code",
   "execution_count": 26,
   "id": "3c3ba5e6-3d72-4341-ac63-09a35dc7843f",
   "metadata": {},
   "outputs": [
    {
     "data": {
      "text/plain": [
       "False"
      ]
     },
     "execution_count": 26,
     "metadata": {},
     "output_type": "execute_result"
    }
   ],
   "source": [
    "image_file.exists()"
   ]
  },
  {
   "cell_type": "markdown",
   "id": "32b117b9-e987-4ac1-998e-0fcbaf9f7178",
   "metadata": {},
   "source": [
    "### Creating and deleting paths"
   ]
  },
  {
   "cell_type": "markdown",
   "id": "4212c0c2-829e-4c3b-8fab-d858431b6114",
   "metadata": {},
   "source": [
    "`pathlib` also offers functionalities for creating and deleting files and directories. Let's see how.\n",
    "\n",
    "- `mkdir()`: This method creates a new directory at the specified path. By default, it creates the directory in the current working directory."
   ]
  },
  {
   "cell_type": "code",
   "execution_count": 27,
   "id": "9a71d959-b75d-40fc-9063-21a7cce13e6d",
   "metadata": {},
   "outputs": [],
   "source": [
    "from pathlib import Path\n",
    "\n",
    "data_dir = Path(\"new_data_dir\")\n",
    "\n",
    "# Create the directory 'new_data_dir' in the current working directory\n",
    "data_dir.mkdir()"
   ]
  },
  {
   "cell_type": "markdown",
   "id": "52afdad7-1ae2-4d9b-9942-e558eda6bb39",
   "metadata": {},
   "source": [
    "- `mkdir(parents=True)`: This method is particularly useful when you want to create a directory structure where some parent directories might not exist. Setting `parents=True` ensures that all necessary parent directories are created along the way."
   ]
  },
  {
   "cell_type": "code",
   "execution_count": 28,
   "id": "7714249d-d7a2-481d-aa37-08921480da3b",
   "metadata": {},
   "outputs": [],
   "source": [
    "sub_dir = Path(\"data/nested/subdirectory\")\n",
    "\n",
    "# Create 'data/nested/subdirectory', even if 'data' or 'nested' don't exist\n",
    "sub_dir.mkdir(parents=True)"
   ]
  },
  {
   "cell_type": "markdown",
   "id": "c7f5bf5b-fde7-4792-ac22-e64096e150b7",
   "metadata": {},
   "source": [
    "Keep in mind that `mkdir` raises an exception if a directory with the same name already exists:"
   ]
  },
  {
   "cell_type": "markdown",
   "id": "d6d24074-78dc-489d-a365-941b74bc4fa4",
   "metadata": {},
   "source": [
    "```python\n",
    "Path('data').mkdir()\n",
    "```\n",
    "\n",
    "```\n",
    "FileExistsError: [Errno 17] File exists: 'data'\n",
    "```"
   ]
  },
  {
   "cell_type": "markdown",
   "id": "5f6414b9-3c9a-4801-b963-3e697ee0237a",
   "metadata": {},
   "source": [
    "- `unlink()`: This method permanently deletes a file represented by the `Path` object. It is recommended to check if a file exists before running this method because it may raise an error:"
   ]
  },
  {
   "cell_type": "markdown",
   "id": "f6bdb568-63ae-4317-8414-c4662dc76061",
   "metadata": {},
   "source": [
    "```python\n",
    "to_delete = Path(\"data/prices.csv\")\n",
    "\n",
    "if to_delete.exists():\n",
    "    to_delete.unlink()\n",
    "    print(f\"Successfully deleted {to_delete.name}\")\n",
    "```\n",
    "\n",
    "```\n",
    "Successfully deleted prices.csv\n",
    "```"
   ]
  },
  {
   "cell_type": "markdown",
   "id": "b22d8fbf-6558-4625-9488-66e7ee5a8d06",
   "metadata": {},
   "source": [
    "- `rmdir()`: This method removes an empty (only empty) directory. If you want to delete a non-empty directory, the easiest way is to use [`shutil` library](https://stackoverflow.com/questions/303200/how-do-i-remove-delete-a-folder-that-is-not-empty) or the terminal."
   ]
  },
  {
   "cell_type": "code",
   "execution_count": 33,
   "id": "30c2a2b6-a9dc-424c-aedd-ac7d14b2c119",
   "metadata": {},
   "outputs": [],
   "source": [
    "empty_dir = Path(\"new_data_dir\")\n",
    "\n",
    "empty_dir.rmdir()"
   ]
  },
  {
   "cell_type": "markdown",
   "id": "caa76d94-6d7f-4642-afc0-ccc99e0369c1",
   "metadata": {},
   "source": [
    "Please, be cautious when using `unlink()` or `rmdir()` as their results are permanent."
   ]
  },
  {
   "cell_type": "markdown",
   "id": "a27321c8-064f-427a-82bd-4fad9db2248b",
   "metadata": {},
   "source": [
    "## Advanced path manipulation"
   ]
  },
  {
   "cell_type": "markdown",
   "id": "4dfb2ed5-90af-423e-9bfb-43de4fc6ad1e",
   "metadata": {},
   "source": [
    "### Relative vs. absolute paths"
   ]
  },
  {
   "cell_type": "markdown",
   "id": "d0c3b06f-a973-40b5-93d0-bb9c1e1712f7",
   "metadata": {},
   "source": [
    "### Joining and splitting paths"
   ]
  },
  {
   "cell_type": "markdown",
   "id": "195c7161-3945-48d0-aabc-8a0cf05834ff",
   "metadata": {},
   "source": [
    "### Globbing"
   ]
  },
  {
   "cell_type": "markdown",
   "id": "4484692b-d17d-4322-b594-a9efd8354a94",
   "metadata": {},
   "source": [
    "## Working with files"
   ]
  },
  {
   "cell_type": "markdown",
   "id": "e111b3d8-6d10-41cf-9191-01aa952855ca",
   "metadata": {},
   "source": [
    "### Reading files"
   ]
  },
  {
   "cell_type": "markdown",
   "id": "2ea13e34-68fb-444e-8c00-b33cfc191f8d",
   "metadata": {},
   "source": [
    "### Writing files"
   ]
  },
  {
   "cell_type": "markdown",
   "id": "99283a5c-1593-4c29-91aa-32eb18ac8bd2",
   "metadata": {},
   "source": [
    "### File renaming and moving"
   ]
  },
  {
   "cell_type": "markdown",
   "id": "9e3aeed6-7998-47c2-8ca5-72eae01bf328",
   "metadata": {},
   "source": [
    "## Additional functionalities"
   ]
  },
  {
   "cell_type": "markdown",
   "id": "2cc201cb-309f-4669-b7ef-38008430f10c",
   "metadata": {},
   "source": [
    "### Iterating over file trees"
   ]
  },
  {
   "cell_type": "markdown",
   "id": "7853f923-f3f8-41b8-8d72-959a2d26e2a5",
   "metadata": {},
   "source": [
    "### Temporary files and directories"
   ]
  },
  {
   "cell_type": "markdown",
   "id": "9eff8f4e-56b3-4323-8078-14fbbfbf9116",
   "metadata": {},
   "source": [
    "### Permissions and file system information"
   ]
  },
  {
   "cell_type": "markdown",
   "id": "09525016-9a4a-47b1-bb1f-cb527a266575",
   "metadata": {},
   "source": [
    "## Conclusion"
   ]
  }
 ],
 "metadata": {
  "kernelspec": {
   "display_name": "articles",
   "language": "python",
   "name": "articles"
  },
  "language_info": {
   "codemirror_mode": {
    "name": "ipython",
    "version": 3
   },
   "file_extension": ".py",
   "mimetype": "text/x-python",
   "name": "python",
   "nbconvert_exporter": "python",
   "pygments_lexer": "ipython3",
   "version": "3.10.8"
  },
  "widgets": {
   "application/vnd.jupyter.widget-state+json": {
    "state": {},
    "version_major": 2,
    "version_minor": 0
   }
  }
 },
 "nbformat": 4,
 "nbformat_minor": 5
}
