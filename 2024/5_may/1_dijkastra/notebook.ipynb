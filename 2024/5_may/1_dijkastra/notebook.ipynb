{
 "cells": [
  {
   "cell_type": "markdown",
   "id": "5948da3b-aabf-41a4-a1ac-d2ddab4f5699",
   "metadata": {},
   "source": [
    "# Step-by-step Tutorial on Implementing the Dijkastra Algorithm in Python"
   ]
  },
  {
   "cell_type": "markdown",
   "id": "d8e509e6-41c0-476d-9b05-8b97de5cde48",
   "metadata": {},
   "source": [
    "## Why learn the Dijkastra's algorithm"
   ]
  },
  {
   "cell_type": "markdown",
   "id": "138cbbcb-4396-4a1f-9c23-c21d1417a0b0",
   "metadata": {},
   "source": [
    "Dijkastra's is the go-to algorithm for finding the shortest path between two points in a network, which has many applications. Examples include:\n",
    "\n",
    "- GPS navigation systems finding the fastest route\n",
    "- Routing data packets in computer networks\n",
    "- Delivery services optimizing routes for efficiency\n",
    "\n",
    "It's a fundamental algorithm in computer science and graph theory. Understanding and learning to implement it opens doors to more advanced graph algorithms and applications. It also teaches a valuable problem-solving approach through its greedy algorithm, which involves making the optimal choice at each step based on current information. This skill is transferable to other optimization algorithms. Dijkastra's algorithm may not be the most efficient in all scenarios but it can be a good baseline when solving \"shortest distance\" problems. \n",
    "\n",
    "Beyond just finding the shortest physical distance, it can also be used in cases such as:\n",
    "- Social networks (suggesting connections)\n",
    "- Finance (finding optimal investment paths)\n",
    "- Project management (finding the most efficient workflow)\n",
    "\n",
    "Even if you aren't interested in any of these things, implementing Dijkastra's algorithm in Python will teach you valuable skills as we will use a combination of:\n",
    "- Python classes\n",
    "- Dictionary and list comprehensions\n",
    "- Priority queues\n",
    "- The `networkx` library for graph manipulation\n",
    "- Creating animations as GIFs\n",
    "\n",
    "This will be a fun tutorial, so let's get started!"
   ]
  },
  {
   "cell_type": "markdown",
   "id": "85507813-7a87-45c4-a5e2-52603a51baf9",
   "metadata": {},
   "source": [
    "## Key concepts related to graphs"
   ]
  },
  {
   "cell_type": "markdown",
   "id": "ae1088a6-f522-45a7-b3b9-15530dbf5d7f",
   "metadata": {},
   "source": []
  },
  {
   "cell_type": "markdown",
   "id": "466d64c4-a40d-4531-9f29-63fdab961b6d",
   "metadata": {},
   "source": [
    "## The Dijkastra algorithm explained visually"
   ]
  },
  {
   "cell_type": "markdown",
   "id": "73bb22ba-1890-4a05-a97e-06fc2698d55f",
   "metadata": {},
   "source": [
    "## Step-by-step implementation of the Dijkastra algorithm in Python"
   ]
  },
  {
   "cell_type": "markdown",
   "id": "09051598-0ccc-492c-8548-67dd5fe980c5",
   "metadata": {},
   "source": [
    "### 0. Understanding graphs as dictionaries"
   ]
  },
  {
   "cell_type": "markdown",
   "id": "933d5921-37c9-4c11-befc-bb5342c208b7",
   "metadata": {},
   "source": [
    "### 1. Using a dictionary to store distances from source"
   ]
  },
  {
   "cell_type": "markdown",
   "id": "0e33c3e1-942f-47ff-acd3-e56fa3605c46",
   "metadata": {},
   "source": [
    "### 2. Understanding a priority queue"
   ]
  },
  {
   "cell_type": "markdown",
   "id": "c851cb62-8888-4bea-b68a-e6cb29fd05a3",
   "metadata": {},
   "source": [
    "### 3. Creating a class to represent a graph"
   ]
  },
  {
   "cell_type": "markdown",
   "id": "ffdd7ee2-c437-408a-a0a2-19d6b16aae51",
   "metadata": {},
   "source": [
    "### 4. The Dijkastra algorithm as a `while` loop"
   ]
  },
  {
   "cell_type": "markdown",
   "id": "f04e160e-be43-4962-a8b4-3624f0e4582f",
   "metadata": {},
   "source": [
    "### 5. Verifying the results with `networkx`"
   ]
  },
  {
   "cell_type": "markdown",
   "id": "abbe9071-ed2c-4a1b-aa09-97c01a16634c",
   "metadata": {},
   "source": [
    "## Visualizing graphs using Matplotlib and NetworkX"
   ]
  },
  {
   "cell_type": "markdown",
   "id": "14022f0a-3c47-4fd1-be06-d925fdf5c6eb",
   "metadata": {},
   "source": [
    "## Animating the Dijkastra's algorithm"
   ]
  },
  {
   "cell_type": "markdown",
   "id": "48c9c4c6-61c5-4164-8882-e38be5b9b956",
   "metadata": {},
   "source": [
    "## Conclusion"
   ]
  }
 ],
 "metadata": {
  "kernelspec": {
   "display_name": "articles",
   "language": "python",
   "name": "articles"
  },
  "language_info": {
   "codemirror_mode": {
    "name": "ipython",
    "version": 3
   },
   "file_extension": ".py",
   "mimetype": "text/x-python",
   "name": "python",
   "nbconvert_exporter": "python",
   "pygments_lexer": "ipython3",
   "version": "3.10.8"
  },
  "widgets": {
   "application/vnd.jupyter.widget-state+json": {
    "state": {},
    "version_major": 2,
    "version_minor": 0
   }
  }
 },
 "nbformat": 4,
 "nbformat_minor": 5
}
