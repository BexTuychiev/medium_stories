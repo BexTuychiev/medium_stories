{
 "cells": [
  {
   "cell_type": "markdown",
   "id": "92740272-e9cf-4ba0-8ad7-916a26145ed9",
   "metadata": {},
   "source": [
    "# Comprehensive Vertex AI Tutorial For Beginners"
   ]
  },
  {
   "cell_type": "markdown",
   "id": "e211738d-c24a-4dd8-b15f-f5a60454acf6",
   "metadata": {},
   "source": [
    "## Introduction"
   ]
  },
  {
   "cell_type": "markdown",
   "id": "210fb719-a262-4083-b46c-5d4a1e2247e5",
   "metadata": {},
   "source": [
    "Even though most people associate search engines with Google, the company has deep roots in the data science industry. It consistently delivers state-of-the-art products and solutions aimed at getting the most benefit from data. One of their products, Vertex AI, was released in 2021 to simplify the machine learning process at enterprise scale.\n",
    "\n",
    "In this tutorial, we will learn how to get started with Google's Vertex AI platform and how to use it to cover a wider range of tasks of the ML life cycle. We will leave with a deployed model we can send requests to generate predictions for a classification task. \n",
    "\n",
    "Let's get started."
   ]
  },
  {
   "cell_type": "markdown",
   "id": "ee09220d-fadd-45b0-925f-42f48fe2e951",
   "metadata": {},
   "source": [
    "## Why learn Vertex AI?"
   ]
  },
  {
   "cell_type": "markdown",
   "id": "5e3d3ba5-921f-4391-9005-8b1cf1f948e1",
   "metadata": {},
   "source": [
    "## What are Google Cloud Services?"
   ]
  },
  {
   "cell_type": "markdown",
   "id": "b9822ad3-996b-4196-8171-f0a60ec50f4e",
   "metadata": {},
   "source": [
    "## Setting up your Google Cloud Console For Vertex AI"
   ]
  },
  {
   "cell_type": "markdown",
   "id": "e1a15a0b-57f1-4080-9562-49c1eb739baa",
   "metadata": {},
   "source": [
    "1. Go to https://console.cloud.google.com/\n",
    "2. Click on the top left bar to create your new project - CREATE A GIF\n",
    "3. Go to https://console.cloud.google.com/billing to create a billing account\n",
    "4. Add billing account to your project\n",
    "5. Enable APIs related to Vertex AI\n",
    "6. Go to vertex AI solution "
   ]
  },
  {
   "cell_type": "markdown",
   "id": "990553c6-ad51-4937-9082-5abd527fc44a",
   "metadata": {},
   "source": [
    "## Uploading a dataset in Vertex AI"
   ]
  },
  {
   "cell_type": "markdown",
   "id": "ec2c9d21-ff74-4b2a-93e0-605959688054",
   "metadata": {},
   "source": [
    "Show GIFs for uploading a dataset to Vertex AI"
   ]
  },
  {
   "cell_type": "markdown",
   "id": "91ec1367-a1e0-435d-a1c9-eae504228ae3",
   "metadata": {},
   "source": [
    "## Training and deploying AutoML models in Vertex AI"
   ]
  },
  {
   "cell_type": "markdown",
   "id": "4faa7d1a-7aaa-4fd1-aea0-258c031702ef",
   "metadata": {},
   "source": [
    "## Training and deploying custom models in Vertex AI"
   ]
  },
  {
   "cell_type": "markdown",
   "id": "9df96bf1-ab03-4e17-8d5e-d6954ff15641",
   "metadata": {},
   "source": [
    "## Conclusion"
   ]
  }
 ],
 "metadata": {
  "kernelspec": {
   "display_name": "articles",
   "language": "python",
   "name": "articles"
  },
  "language_info": {
   "codemirror_mode": {
    "name": "ipython",
    "version": 3
   },
   "file_extension": ".py",
   "mimetype": "text/x-python",
   "name": "python",
   "nbconvert_exporter": "python",
   "pygments_lexer": "ipython3",
   "version": "3.10.8"
  },
  "widgets": {
   "application/vnd.jupyter.widget-state+json": {
    "state": {},
    "version_major": 2,
    "version_minor": 0
   }
  }
 },
 "nbformat": 4,
 "nbformat_minor": 5
}
