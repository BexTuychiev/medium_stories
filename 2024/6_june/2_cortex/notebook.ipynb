{
 "cells": [
  {
   "cell_type": "markdown",
   "id": "4139a212-a5ab-432f-8fc3-314ad8ad084c",
   "metadata": {},
   "source": [
    "# Machine Learning with Python & Snowflake Cortex AI"
   ]
  },
  {
   "cell_type": "markdown",
   "id": "c77b7ff4-b7e2-4873-b8a8-1a2947028225",
   "metadata": {},
   "source": [
    "## Introduction"
   ]
  },
  {
   "cell_type": "markdown",
   "id": "f3489396-7485-4281-9101-3a4dc4ff6b4d",
   "metadata": {},
   "source": [
    "Snowflake is one of the major players in the big data ecosystem, so it is no surprise that they are offering their own AI features to keep up with their competitors. In this article, we will cover Snowflake Cortex which is a suite of AI features that can help you do even more with your data inside Snowflake. "
   ]
  },
  {
   "cell_type": "markdown",
   "id": "75f1747b-8142-4818-b8e5-39914956e0ea",
   "metadata": {},
   "source": [
    "## What is Snowflake Cortex AI?"
   ]
  },
  {
   "cell_type": "markdown",
   "id": "0b5d84f3-1484-4bbf-b4e0-d41655a77cfe",
   "metadata": {},
   "source": [
    "Apart from database solutions, Snowflake offers two broad categories of features:\n",
    "\n",
    "- [Snowpark ML for machine learning](https://www.datacamp.com/tutorial/snowpark-snoflake-introduction)\n",
    "- Snowflake Cortex for generative AI\n",
    "\n",
    "While Snowpark allows you to build your own ML models based on your Snowflake databases, Cortex AI features let you use LLMs from popular vendors (OpenAI, Mistral, Gemini, etc.) to understand unstructured data, answer open-ended questions (prompting) and provide AI assistance. This suite of features include:\n",
    "- Snowflake Cortex LLM Functions: 7 functions aimed for Gen AI use-cases (more later)\n",
    "- Universal Search: Search anything on Snowflake (the docs, your own products and objects) using natural language\n",
    "- Snowflake Copilot: Snowflake's own fine-tuned model to enable automatic data analysis on your enterprise data\n",
    "- Document AI: Turn information in unstructured data into structured tables\n",
    "- Cortex fine-tuning: A fully managed service that allow you to fine-tune popular LLMs on your data without leaving Snowflake\n",
    "\n",
    "We will look at each of these services more closely in the coming sections."
   ]
  },
  {
   "cell_type": "markdown",
   "id": "8466ad9f-8b10-477b-8b1d-2810684cdaef",
   "metadata": {},
   "source": [
    "## Why use Snowflake Cortex AI?"
   ]
  },
  {
   "cell_type": "markdown",
   "id": "2f02c12d-3953-420c-a1d6-b064eaf10dea",
   "metadata": {},
   "source": [
    "While traditional methods like Python libraries (`openai` or `mistral`) can interact with LLMs, Snowflake Cortex offers a key advantage: in-database operations. Rather than moving gigabytes of data to the models, Snowflake allows you to bring the models to the data itself. \n",
    "\n",
    "This reverse process has enormous benefits:\n",
    "- Reduced costs and technology overhead: Since everything is provided by Snowflake (software and hardware), you don't have to manage separate platforms for computing and storage. Also, your employees don't have to learn dozens of frameworks and libraries that go into orchestrating traditional generative AI workflows.\n",
    "- Accessibility: Snowflake Cortex is available directly in Snowflake, which means you can use SQL statements or Python to command LLMs. Also, all these features are directly integrated into Snowflake coding environments: worksheets and Snowsight notebooks.\n",
    "- Full security: Since the data doesn't move, all LLMs run under Snowflake's security and governance protocols.\n",
    "- Control: You have full control over your team's use of AI features using tradition SQL role assigning queries.\n",
    "\n",
    "Now, let's start exploring Cortex LLM functions."
   ]
  },
  {
   "cell_type": "markdown",
   "id": "e89d3518-67cc-4f5a-a863-f97d9ec1736d",
   "metadata": {},
   "source": [
    "## Getting Started With Snowflake Cortex AI"
   ]
  },
  {
   "cell_type": "markdown",
   "id": "44007b7e-85b9-48bb-abcd-1c78444b25a9",
   "metadata": {},
   "source": [
    "### Prerequisites"
   ]
  },
  {
   "cell_type": "markdown",
   "id": "6a9466c0-dd51-4007-9e3f-a1d003e6c014",
   "metadata": {},
   "source": [
    "### Installing necessary libraries"
   ]
  },
  {
   "cell_type": "markdown",
   "id": "dcc2618b-3d4a-4f9a-adec-b45221551fe5",
   "metadata": {},
   "source": [
    "## Data preparation in Snowflake"
   ]
  },
  {
   "cell_type": "markdown",
   "id": "5bbdf22e-5154-48e0-a4a4-6bde1a643a0b",
   "metadata": {},
   "source": [
    "### Connecting to Snowflake"
   ]
  },
  {
   "cell_type": "markdown",
   "id": "12898e1f-e8b5-4c8d-ac3f-4f9c306b96be",
   "metadata": {},
   "source": [
    "### Loading data into Snowflake"
   ]
  },
  {
   "cell_type": "markdown",
   "id": "91845486-741c-42df-be25-afd8895636ee",
   "metadata": {},
   "source": [
    "## Using Cortex LLM Functions For Generative AI"
   ]
  },
  {
   "cell_type": "markdown",
   "id": "91a76b98-5e06-4b7e-a605-472b448e11a7",
   "metadata": {},
   "source": [
    "## Conclusion"
   ]
  }
 ],
 "metadata": {
  "kernelspec": {
   "display_name": "snowpark",
   "language": "python",
   "name": "snowpark"
  },
  "language_info": {
   "codemirror_mode": {
    "name": "ipython",
    "version": 3
   },
   "file_extension": ".py",
   "mimetype": "text/x-python",
   "name": "python",
   "nbconvert_exporter": "python",
   "pygments_lexer": "ipython3",
   "version": "3.8.10"
  },
  "widgets": {
   "application/vnd.jupyter.widget-state+json": {
    "state": {},
    "version_major": 2,
    "version_minor": 0
   }
  }
 },
 "nbformat": 4,
 "nbformat_minor": 5
}
