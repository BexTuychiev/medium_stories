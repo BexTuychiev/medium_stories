{
 "cells": [
  {
   "cell_type": "code",
   "execution_count": 10,
   "id": "bd69252b-dc93-4efd-abd2-da07934c0888",
   "metadata": {},
   "outputs": [],
   "source": [
    "import seaborn as sns\n",
    "\n",
    "diamonds = sns.load_dataset(\"diamonds\")\n",
    "\n",
    "diamonds.to_csv(\"data/diamonds.csv\", index=False)"
   ]
  },
  {
   "cell_type": "code",
   "execution_count": 1,
   "id": "44b7c18b-9448-47dc-bcab-1df286f5f55a",
   "metadata": {},
   "outputs": [
    {
     "name": "stdout",
     "output_type": "stream",
     "text": [
      "Preprocessing complete! Train and test data with targets saved as CSV files.\n"
     ]
    }
   ],
   "source": [
    "import pandas as pd\n",
    "from sklearn.model_selection import train_test_split\n",
    "from sklearn.pipeline import Pipeline\n",
    "from sklearn.preprocessing import OneHotEncoder, OrdinalEncoder, StandardScaler\n",
    "\n",
    "\n",
    "def preprocess_data(data_path, test_size=0.2, target_name=\"price\"):\n",
    "    \"\"\"\n",
    "    Loads data, splits into train/test, performs normalization and one-hot encoding,\n",
    "    saves preprocessed data with targets as CSV files.\n",
    "    Args:\n",
    "        data_path: Path to the CSV data file.\n",
    "        test_size: Proportion of data for the test set (default: 0.2).\n",
    "        target_name: Name of the target column (default: \"price\").\n",
    "    \"\"\"\n",
    "\n",
    "    # Read data\n",
    "    data = pd.read_csv(data_path)\n",
    "\n",
    "    # Separate features and target\n",
    "    features = data.drop(target_name, axis=1)\n",
    "    target = data[[target_name]]\n",
    "\n",
    "    # Split data\n",
    "    X_train, X_test, y_train, y_test = train_test_split(\n",
    "        features, target, test_size=test_size, random_state=42\n",
    "    )\n",
    "    # Create pipelines\n",
    "    numeric_pipeline = Pipeline([(\"scaler\", StandardScaler())])\n",
    "    categorical_pipeline = Pipeline([(\"ordinal\", OrdinalEncoder())])\n",
    "\n",
    "    # Separate numeric and categorical features\n",
    "    numeric_features = X_train.select_dtypes(include=[\"int64\", \"float64\"]).columns\n",
    "    categorical_features = [\n",
    "        col for col in X_train.columns if col not in numeric_features\n",
    "    ]\n",
    "\n",
    "    # Apply pipelines to training data\n",
    "    X_train_numeric = numeric_pipeline.fit_transform(X_train[numeric_features])\n",
    "    X_train_categorical = categorical_pipeline.fit_transform(\n",
    "        X_train[categorical_features]\n",
    "    )\n",
    "\n",
    "    # Combine preprocessed features\n",
    "    X_train_numeric = pd.DataFrame(X_train_numeric, columns=numeric_features)\n",
    "    X_train_categorical = pd.DataFrame(\n",
    "        X_train_categorical, columns=categorical_features\n",
    "    )\n",
    "    X_train_preprocessed = pd.concat(\n",
    "        [X_train_numeric, X_train_categorical], axis=1\n",
    "    ).reset_index(drop=True)\n",
    "\n",
    "    # Apply pipelines (without fitting) to testing data\n",
    "    X_test_numeric = numeric_pipeline.transform(X_test[numeric_features])\n",
    "    X_test_categorical = categorical_pipeline.transform(X_test[categorical_features])\n",
    "\n",
    "    X_test_numeric = pd.DataFrame(X_test_numeric, columns=numeric_features)\n",
    "    X_test_categorical = pd.DataFrame(X_test_categorical, columns=categorical_features)\n",
    "    X_test_preprocessed = pd.concat(\n",
    "        [X_test_numeric, X_test_categorical], axis=1\n",
    "    ).reset_index(drop=True)\n",
    "\n",
    "    # Combine features and target into single dataframes\n",
    "    train_data = pd.concat(\n",
    "        [X_train_preprocessed, y_train.reset_index(drop=True)], axis=1\n",
    "    )\n",
    "    test_data = pd.concat([X_test_preprocessed, y_test.reset_index(drop=True)], axis=1)\n",
    "\n",
    "    # Save preprocessed data with targets\n",
    "    train_data.to_csv(\"data/train.csv\", index=False)\n",
    "    test_data.to_csv(\"data/test.csv\", index=False)\n",
    "\n",
    "\n",
    "# Set data path and run preprocessing\n",
    "data_path = \"data/diamonds.csv\"\n",
    "preprocess_data(data_path)\n",
    "\n",
    "print(\"Preprocessing complete! Train and test data with targets saved as CSV files.\")"
   ]
  },
  {
   "cell_type": "code",
   "execution_count": 11,
   "id": "868f63d2-9c64-425a-9840-571691afe8eb",
   "metadata": {},
   "outputs": [
    {
     "data": {
      "text/plain": [
       "(53940, 10)"
      ]
     },
     "execution_count": 11,
     "metadata": {},
     "output_type": "execute_result"
    }
   ],
   "source": [
    "diamonds.shape"
   ]
  },
  {
   "cell_type": "code",
   "execution_count": 2,
   "id": "0cb991a1-7dbe-4444-ad45-f19f6d29942b",
   "metadata": {},
   "outputs": [
    {
     "name": "stdout",
     "output_type": "stream",
     "text": [
      "Model trained and saved to: models/model.joblib\n",
      "Test set RMSE: 1357.0203\n",
      "Metrics saved to: metrics.json\n"
     ]
    }
   ],
   "source": [
    "import json\n",
    "\n",
    "import pandas as pd\n",
    "from joblib import dump\n",
    "from sklearn.linear_model import SGDRegressor\n",
    "from sklearn.metrics import mean_squared_error\n",
    "from sklearn.model_selection import train_test_split\n",
    "from sklearn.pipeline import Pipeline\n",
    "from sklearn.preprocessing import OneHotEncoder, StandardScaler\n",
    "\n",
    "\n",
    "def train_evaluate_save(\n",
    "    train_data_path=\"data/train.csv\",\n",
    "    test_data_path=\"data/test.csv\",\n",
    "    target_name=\"price\",\n",
    "    model_path=\"models/model.joblib\",\n",
    "    metrics_path=\"metrics.json\",\n",
    "):\n",
    "    \"\"\"\n",
    "    Loads train/test data, trains SGC regressor, evaluates on test set,\n",
    "    saves model and metrics (RMSE) as JSON.\n",
    "    Args:\n",
    "        train_data_path: Path to training data CSV (default: \"train.csv\").\n",
    "        test_data_path: Path to testing data CSV (default: \"test.csv\").\n",
    "        target_name: Name of the target column (default: \"price\").\n",
    "        model_path: Path to save the trained model (default: \"model/model.joblib\").\n",
    "        metrics_path: Path to save the evaluation metrics (default: \"metrics.json\").\n",
    "    \"\"\"\n",
    "\n",
    "    # Load data\n",
    "    train_data = pd.read_csv(train_data_path)\n",
    "    test_data = pd.read_csv(test_data_path)\n",
    "\n",
    "    # Separate features and target\n",
    "    X_train, y_train = train_data.drop(target_name, axis=1), train_data[target_name]\n",
    "    X_test, y_test = test_data.drop(target_name, axis=1), test_data[target_name]\n",
    "\n",
    "    # Create SGC regressor model with preprocessing pipeline\n",
    "    model = SGDRegressor(loss=\"squared_error\")\n",
    "\n",
    "    # Train the model\n",
    "    model.fit(X_train, y_train)\n",
    "\n",
    "    # Make predictions on test set\n",
    "    y_pred = model.predict(X_test)\n",
    "\n",
    "    # Calculate RMSE\n",
    "    rmse = mean_squared_error(y_test, y_pred, squared=False)\n",
    "\n",
    "    # Save the model\n",
    "    dump(model, model_path)\n",
    "\n",
    "    # Save metrics as JSON\n",
    "    metrics = {\"rmse\": rmse}\n",
    "    with open(metrics_path, \"w\") as f:\n",
    "        json.dump(metrics, f, indent=4)\n",
    "\n",
    "    print(f\"Model trained and saved to: {model_path}\")\n",
    "    print(f\"Test set RMSE: {rmse:.4f}\")\n",
    "    print(f\"Metrics saved to: {metrics_path}\")\n",
    "\n",
    "\n",
    "# Set file paths and run training/evaluation/saving\n",
    "train_evaluate_save()"
   ]
  },
  {
   "cell_type": "markdown",
   "id": "c326f36a-08b1-4379-9bc7-feefca0fb330",
   "metadata": {},
   "source": []
  }
 ],
 "metadata": {
  "kernelspec": {
   "display_name": "articles",
   "language": "python",
   "name": "articles"
  },
  "language_info": {
   "codemirror_mode": {
    "name": "ipython",
    "version": 3
   },
   "file_extension": ".py",
   "mimetype": "text/x-python",
   "name": "python",
   "nbconvert_exporter": "python",
   "pygments_lexer": "ipython3",
   "version": "3.10.8"
  },
  "widgets": {
   "application/vnd.jupyter.widget-state+json": {
    "state": {},
    "version_major": 2,
    "version_minor": 0
   }
  }
 },
 "nbformat": 4,
 "nbformat_minor": 5
}
