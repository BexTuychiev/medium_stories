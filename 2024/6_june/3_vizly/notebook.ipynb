{
 "cells": [
  {
   "cell_type": "markdown",
   "id": "4e005e95-3535-4fa0-8ac6-882f3c398385",
   "metadata": {},
   "source": [
    "# No Fluff AI-Powered Data Analysis Using Vizly\n",
    "## SUBTITLE TO BE DETERMINED"
   ]
  },
  {
   "cell_type": "markdown",
   "id": "89b48d11-eace-4c6e-9775-6e13d86eff5f",
   "metadata": {},
   "source": [
    "## Introduction"
   ]
  },
  {
   "cell_type": "markdown",
   "id": "270be3be-9113-41ac-bc15-a7b73e4fd5cb",
   "metadata": {},
   "source": [
    "## Conclusion"
   ]
  }
 ],
 "metadata": {
  "kernelspec": {
   "display_name": "articles",
   "language": "python",
   "name": "articles"
  },
  "language_info": {
   "codemirror_mode": {
    "name": "ipython",
    "version": 3
   },
   "file_extension": ".py",
   "mimetype": "text/x-python",
   "name": "python",
   "nbconvert_exporter": "python",
   "pygments_lexer": "ipython3",
   "version": "3.10.8"
  },
  "widgets": {
   "application/vnd.jupyter.widget-state+json": {
    "state": {},
    "version_major": 2,
    "version_minor": 0
   }
  }
 },
 "nbformat": 4,
 "nbformat_minor": 5
}
