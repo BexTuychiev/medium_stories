{
 "cells": [
  {
   "cell_type": "markdown",
   "id": "4e005e95-3535-4fa0-8ac6-882f3c398385",
   "metadata": {},
   "source": [
    "# Vizly: a BI Tool That Requires No Learning\n",
    "## On-premises Data Analytics using Natural Language"
   ]
  },
  {
   "cell_type": "markdown",
   "id": "89b48d11-eace-4c6e-9775-6e13d86eff5f",
   "metadata": {},
   "source": [
    "## Introduction"
   ]
  },
  {
   "cell_type": "markdown",
   "id": "1a8a8f26-c88b-449b-acad-6d45d46e4ba6",
   "metadata": {},
   "source": [
    "Would you believe me if I said there isn't a single enterprise Business Intelligence (BI) tool powered solely by AI on the Internet? Of course, there are websites that claim to be \"AI-powered data analysis platforms\" but they are just wrapping OpenAI API with a fancy UI and a bit of prompt engineering. Besides, they have a huge disadvantage - you cannot use those tools in enterprise scenarios because policies don't permit uploading company data to external servers. \n",
    "\n",
    "That's why we've built Vizly - a platform to analyze your data by asking questions in natural language instead of using BI tools that take months to master. You can access Vizly as a single user through the website or its enterprise version can be deployed on-premises without exposing sensitive company data to external APIs.\n",
    "\n",
    "In this article, we will explore its features using a sample dataset."
   ]
  },
  {
   "cell_type": "markdown",
   "id": "270be3be-9113-41ac-bc15-a7b73e4fd5cb",
   "metadata": {},
   "source": [
    "## Conclusion"
   ]
  }
 ],
 "metadata": {
  "kernelspec": {
   "display_name": "articles",
   "language": "python",
   "name": "articles"
  },
  "language_info": {
   "codemirror_mode": {
    "name": "ipython",
    "version": 3
   },
   "file_extension": ".py",
   "mimetype": "text/x-python",
   "name": "python",
   "nbconvert_exporter": "python",
   "pygments_lexer": "ipython3",
   "version": "3.10.8"
  },
  "widgets": {
   "application/vnd.jupyter.widget-state+json": {
    "state": {},
    "version_major": 2,
    "version_minor": 0
   }
  }
 },
 "nbformat": 4,
 "nbformat_minor": 5
}
