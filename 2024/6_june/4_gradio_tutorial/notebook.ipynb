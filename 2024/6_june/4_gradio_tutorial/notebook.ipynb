{
 "cells": [
  {
   "cell_type": "markdown",
   "metadata": {},
   "source": [
    "# Building User Interfaces For AI Applications with Gradio in Python"
   ]
  },
  {
   "cell_type": "markdown",
   "metadata": {},
   "source": [
    "# Creating User Interfaces for AI Applications with Gradio\n",
    "\n",
    "## Introduction\n"
   ]
  },
  {
   "cell_type": "markdown",
   "metadata": {},
   "source": [
    "The usefulness of today's AI models are greatly diminished without accessible user interfaces. Using Gradio, an open-source Python web UI library, you can bridge that gap between LLMs and non-technical end users. It allows you to create rapid prototypes for your AI projects and simplify their deployment to a wider audience. \n",
    "\n",
    "This tutorial is aimed at machine learning engineers who typically don't have any web development experience. It covers:\n",
    " \n",
    "- Gradio basics and core concepts\n",
    "- Interface creation for various AI model types\n",
    "- Advanced features for UX and interactivity\n",
    "- Deployment and sharing best practices\n",
    "\n",
    "Let's get started."
   ]
  },
  {
   "cell_type": "markdown",
   "metadata": {},
   "source": [
    "## Getting Started with Gradio"
   ]
  },
  {
   "cell_type": "markdown",
   "metadata": {},
   "source": [
    "### Installation"
   ]
  },
  {
   "cell_type": "markdown",
   "metadata": {},
   "source": [
    "We will get started by creating a virtual environment (preferably Conda):\n",
    "\n",
    "```\n",
    "$ conda create -n gradio_tutorial python=3.9 -y\n",
    "$ conda activate gradio_tutorial\n",
    "```\n",
    "\n",
    "Then, you can use PIP to install Gradio and its dependencies:\n",
    "\n",
    "```\n",
    "$ pip install gradio ipykernel\n",
    "```\n",
    "\n",
    "We've also installed the `ipykernel` package so that we can display Gradio interfaces straight within Jupyter notebooks. This process requires you to add the virtual environment you created as a kernel to Jupyter Lab. Here is the command to do it:\n",
    "\n",
    "```\n",
    "$ ipython kernel install --user --name==gradio_tutorial\n",
    "$ jupyter lab  # Start the lab\n",
    "```"
   ]
  },
  {
   "cell_type": "markdown",
   "metadata": {},
   "source": [
    "This should allow you to create a notebook with a kernel that has Gradio installed. To check, import it under its standard alias and print its version:"
   ]
  },
  {
   "cell_type": "code",
   "execution_count": 1,
   "metadata": {},
   "outputs": [
    {
     "name": "stdout",
     "output_type": "stream",
     "text": [
      "4.37.1\n"
     ]
    }
   ],
   "source": [
    "import gradio as gr\n",
    "\n",
    "print(gr.__version__)"
   ]
  },
  {
   "cell_type": "markdown",
   "metadata": {},
   "source": [
    "### Basic concepts and terminology"
   ]
  },
  {
   "cell_type": "markdown",
   "metadata": {},
   "source": [
    "Let's learn core Gradio concepts and terminology through a simple \"Hello World\" example:"
   ]
  },
  {
   "cell_type": "markdown",
   "metadata": {},
   "source": [
    "```python\n",
    "def greet(name):\n",
    "    return f\"Hello, {name}!\"\n",
    "\n",
    "\n",
    "demo = gr.Interface(\n",
    "    fn=greet,\n",
    "    inputs=['text'],\n",
    "    outputs=\"text\",\n",
    ")\n",
    "\n",
    "demo.launch()\n",
    "```"
   ]
  },
  {
   "cell_type": "markdown",
   "metadata": {},
   "source": [
    "When you run the above code in a cell, the output will be a small interactive interface that greets the text input:\n",
    "\n",
    "![](images/hello_world.gif)"
   ]
  },
  {
   "cell_type": "markdown",
   "metadata": {},
   "source": [
    "Gradio revolves around a few key concepts:\n",
    "1. Interface: the core class for creating UIs.\n",
    "2. Components: Input and output elements like text boxes, images and audio. There are more than 30 built-in components as of now. \n",
    "3. Functions: Python functions that processes the information from the input components and returns them to display with output components.\n",
    "4. Launch: The method to start your Gradio app. \n",
    "\n",
    "Above, we created a `greet` function that takes and returns a text input. For this reason, the input and output components are specified as `text` inside the `Interface` class. \n",
    "\n",
    "In the end, we are calling the `launch` method, which starts a local server. To make the UI available to anyone, you can set the `share` parameter to True. This will start an SSH tunnel and deploys the Gradio app to a publicly shareable link:"
   ]
  },
  {
   "cell_type": "markdown",
   "metadata": {},
   "source": [
    "```python\n",
    "demo.launch(share=True)\n",
    "```\n",
    "\n",
    "```\n",
    "Running on public URL: https://d638ed5f2ce0044296.gradio.live\n",
    "\n",
    "This share link expires in 72 hours. For free permanent hosting and GPU upgrades, run `gradio deploy` from Terminal to deploy to Spaces (https://huggingface.co/spaces)\n",
    "```"
   ]
  },
  {
   "cell_type": "markdown",
   "metadata": {},
   "source": [
    "## III. Gradio Components\n",
    "- Input components (e.g., Textbox, Image, Audio)\n",
    "- Output components (e.g., Label, Image, Audio)\n",
    "- Customizing component appearance\n",
    "\n"
   ]
  },
  {
   "cell_type": "markdown",
   "metadata": {},
   "source": [
    "## IV. Building Simple Interfaces\n",
    "- Text-based interfaces\n",
    "- Image-based interfaces\n",
    "- Audio-based interfaces\n",
    "\n"
   ]
  },
  {
   "cell_type": "markdown",
   "metadata": {},
   "source": [
    "## V. Advanced Gradio Features\n",
    "- Multiple inputs and outputs\n",
    "- State and memory\n",
    "- Event listeners and interactivity\n",
    "- Themes and styling\n",
    "\n"
   ]
  },
  {
   "cell_type": "markdown",
   "metadata": {},
   "source": [
    "## VI. Integrating ML Models\n",
    "- Loading pre-trained models\n",
    "- Connecting model inputs and outputs to Gradio components\n",
    "- Handling preprocessing and postprocessing\n",
    "\n"
   ]
  },
  {
   "cell_type": "markdown",
   "metadata": {},
   "source": [
    "## VII. Deploying Gradio Apps\n",
    "- Local deployment\n",
    "- Sharing temporary links\n",
    "- Hosting on Hugging Face Spaces\n",
    "\n"
   ]
  },
  {
   "cell_type": "markdown",
   "metadata": {},
   "source": [
    "## VIII. Best Practices and Tips\n",
    "- Performance optimization\n",
    "- User experience considerations\n",
    "- Error handling and feedback\n",
    "\n"
   ]
  },
  {
   "cell_type": "markdown",
   "metadata": {},
   "source": [
    "## IX. Conclusion and Further Resources"
   ]
  }
 ],
 "metadata": {
  "kernelspec": {
   "display_name": "articles",
   "language": "python",
   "name": "python3"
  },
  "language_info": {
   "codemirror_mode": {
    "name": "ipython",
    "version": 3
   },
   "file_extension": ".py",
   "mimetype": "text/x-python",
   "name": "python",
   "nbconvert_exporter": "python",
   "pygments_lexer": "ipython3",
   "version": "3.9.19"
  }
 },
 "nbformat": 4,
 "nbformat_minor": 2
}
