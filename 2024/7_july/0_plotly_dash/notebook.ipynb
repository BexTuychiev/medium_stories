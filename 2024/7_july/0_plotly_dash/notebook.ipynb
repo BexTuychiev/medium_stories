{
 "cells": [
  {
   "cell_type": "markdown",
   "metadata": {},
   "source": [
    "# Plotly Dash Tutorial in Python"
   ]
  },
  {
   "cell_type": "markdown",
   "metadata": {},
   "source": [
    "## Introduction"
   ]
  },
  {
   "cell_type": "markdown",
   "metadata": {},
   "source": [
    "Plotly Dash is one of the most popular frameworks to create interactive user interfaces and data dashboards in Python. It is written for data analysts without web development knowledge or who prefer the flexibility of programming languages over business intelligence platforms. This tutorial will introduce you to this framework, from basics to advanced topics:\n",
    "\n",
    "- Plotly vs. Dash\n",
    "- Getting started with Dash\n",
    "- Creating interactive layouts\n",
    "- Implementing callbacks\n",
    "- Handling data sources\n",
    "- Deploying dash apps online\n",
    "\n",
    "Let's get started!"
   ]
  },
  {
   "cell_type": "markdown",
   "metadata": {},
   "source": [
    "## Plotly vs. Plotly Dash"
   ]
  },
  {
   "cell_type": "markdown",
   "metadata": {},
   "source": [
    "Before we dive head-first into Dash, let's clarify an important distinction between two terms: Plotly and Plotly Dash.\n",
    "\n",
    "Plotly is primarily a graphing library to create interactive plots and charts. It supports over 50 types of plots including line charts, bar charts, histograms and scatter plots. It is designed to create standalone, high-quality, publication-ready graphics that can be easily embedded in web pages. \n",
    "\n",
    "On the other hand, Plotly Dash is an open-source framework for building web applications in Python. It is built on top of Plotly.js (the project that powers Plotly), React and Flask. Its most common use case is creating interactive data dashboards with minimal code. \n",
    "\n",
    "So, the difference between Plotly and Plotly Dash libraries is like the difference between cheese and cheeseburger. Just like cheese is what makes a cheeseburger (mostly), Plotly graphics make up the most of Plotly Dash dashboards. Both frameworks are released by the same company, Dash Enterprise, making their integration seamless. \n",
    "\n",
    "Even though we will use both libraries in the tutorial, we will focus more on Dash. So, if you aren't familiar with Plotly, here are some resources to get you started:\n",
    "- [Python Plotly Express Tutorial](https://www.datacamp.com/tutorial/python-plotly-express-tutorial)\n",
    "- [Introduction to Data Visualization With Plotly Course](https://www.datacamp.com/courses/introduction-to-data-visualization-with-plotly-in-python)\n",
    "\n",
    "Also, some knowledge of [HTML and CSS](https://www.w3schools.com/html/default.asp) would be a great plus. "
   ]
  },
  {
   "cell_type": "markdown",
   "metadata": {},
   "source": [
    "## Getting Started with Plotly Dash\n",
    "   - Installation and setup\n",
    "   - Basic structure of a Dash application\n",
    "   - Running a simple \"Hello, World!\" Dash app\n",
    "\n"
   ]
  },
  {
   "cell_type": "markdown",
   "metadata": {},
   "source": [
    "Let's start learning Dash through a simple \"Hello World\" example. First, we have to create a virtual environment and install dash:"
   ]
  },
  {
   "cell_type": "markdown",
   "metadata": {},
   "source": [
    "```bash\n",
    "$ conda create -n dash_tutorial python=3.9 -y\n",
    "$ conda activate dash_tutorial\n",
    "$ pip install dash pandas seaborn\n",
    "```\n",
    "\n",
    "Then, we create a new working directory with an `app.py` script inside:\n",
    "\n",
    "```bash\n",
    "$ mkdir dash_tutorial; cd dash_tutorial\n",
    "$ touch app.py\n",
    "```"
   ]
  },
  {
   "cell_type": "markdown",
   "metadata": {},
   "source": [
    "Open the script with your [favorite IDE](https://www.datacamp.com/tutorial/setting-up-vscode-python) and paste the following code:"
   ]
  },
  {
   "cell_type": "markdown",
   "metadata": {},
   "source": [
    "```python\n",
    "from dash import Dash, html\n",
    "\n",
    "app = Dash()\n",
    "\n",
    "app.layout = html.Div([\n",
    "        html.H1(\"Hello, Dash!\"), \n",
    "        html.Div(\"My first Dash app.\")\n",
    "    ])\n",
    "\n",
    "if __name__ == \"__main__\":\n",
    "    app.run(debug=True)\n",
    "```"
   ]
  },
  {
   "attachments": {
    "image.png": {
     "image/png": "[encoded data removed]"
    }
   },
   "cell_type": "markdown",
   "metadata": {},
   "source": [
    "Running the script starts a local server with the following webpage:\n",
    "\n",
    "```\n",
    "$ python app.py\n",
    "```\n",
    "\n",
    "![image.png](attachment:image.png)"
   ]
  },
  {
   "cell_type": "markdown",
   "metadata": {},
   "source": [
    "As you can see, the webpage looks horrible and bland but we now have a structure we can follow to create more complex web pages.\n",
    "\n",
    "First, we import the `Dash` and `html` classes and you will do so for almost any Dash project you create. `Dash` creates the app interface itself while `html` package allows you to place HTML components. \n",
    "\n",
    "```\n",
    "app = Dash()\n",
    "```\n",
    "\n",
    "This line is known as the Dash constructor as it initializes your app. It is almost always the same for other Dash projects. \n",
    "\n",
    "The `app.layout` represents the positioning of components that will be displayed in the web browser. The components are provided as a list. In our example, a single Div component with two children were added to the layout. If you are familiar with HTML, you know that Div creates a box that can contain other HTML components. So, we are creating a box that contains the title text of our app and another box with regular text. All Divs have a `children` property that can"
   ]
  },
  {
   "cell_type": "code",
   "execution_count": null,
   "metadata": {},
   "outputs": [],
   "source": [
    "from dash import "
   ]
  },
  {
   "cell_type": "markdown",
   "metadata": {},
   "source": [
    "## Core Components of Dash\n",
    "   - Layouts\n",
    "   - Callbacks\n",
    "   - State and Interactivity\n",
    "\n"
   ]
  },
  {
   "cell_type": "markdown",
   "metadata": {},
   "source": [
    "## Building Your First Interactive Dashboard\n",
    "   - Creating and customizing a layout\n",
    "   - Adding basic interactivity with callbacks\n",
    "\n"
   ]
  },
  {
   "cell_type": "markdown",
   "metadata": {},
   "source": [
    "## Advanced Components and Customization\n",
    "   - Using HTML and CSS for custom layouts\n",
    "   - Integrating Bootstrap for responsive design\n",
    "   - Advanced callbacks (multiple inputs, states, and outputs)\n",
    "\n"
   ]
  },
  {
   "cell_type": "markdown",
   "metadata": {},
   "source": [
    "## Data Visualization with Dash\n",
    "   - Integrating Plotly graphs\n",
    "   - Updating graphs interactively\n",
    "   - Adding filters and dropdowns for dynamic visualizations\n",
    "\n"
   ]
  },
  {
   "cell_type": "markdown",
   "metadata": {},
   "source": [
    "## Handling Data in Dash\n",
    "   - Reading and displaying data from various sources (CSV, databases, APIs)\n",
    "   - Real-time data updates\n",
    "   - Caching data for performance\n",
    "\n"
   ]
  },
  {
   "cell_type": "markdown",
   "metadata": {},
   "source": [
    "## Deploying Dash Applications\n",
    "   - Deployment options (Heroku, AWS, etc.)\n",
    "   - Best practices for production\n",
    "\n"
   ]
  },
  {
   "cell_type": "markdown",
   "metadata": {},
   "source": [
    "## Case Studies: Uncommon Interactive Dashboards\n",
    "   - Example 1: Real-time Tweet Sentiment Analysis Dashboard\n",
    "   - Example 2: Dynamic Stock Portfolio Management Tool\n",
    "   - Example 3: Interactive Supply Chain Optimization Dashboard\n",
    "\n"
   ]
  },
  {
   "cell_type": "code",
   "execution_count": null,
   "metadata": {},
   "outputs": [],
   "source": []
  },
  {
   "cell_type": "markdown",
   "metadata": {},
   "source": [
    "## Conclusion\n",
    "    - Summary of key points\n",
    "    - Further resources and reading\n",
    "    - Encouragement to experiment and build"
   ]
  }
 ],
 "metadata": {
  "kernelspec": {
   "display_name": "gradio",
   "language": "python",
   "name": "python3"
  },
  "language_info": {
   "codemirror_mode": {
    "name": "ipython",
    "version": 3
   },
   "file_extension": ".py",
   "mimetype": "text/x-python",
   "name": "python",
   "nbconvert_exporter": "python",
   "pygments_lexer": "ipython3",
   "version": "3.10.8"
  }
 },
 "nbformat": 4,
 "nbformat_minor": 2
}
