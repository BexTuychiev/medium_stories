{
 "cells": [
  {
   "cell_type": "markdown",
   "metadata": {},
   "source": [
    "# Portfolio-worthy Computer Vision Projects From Beginner to Advanced"
   ]
  },
  {
   "cell_type": "markdown",
   "metadata": {},
   "source": [
    "## Introduction"
   ]
  },
  {
   "cell_type": "markdown",
   "metadata": {
    "vscode": {
     "languageId": "plaintext"
    }
   },
   "source": [
    "Due to the unprecedented amount of image and video data in today's surveillance and social media world, computer vision engineers are in constant hot demand. They build everything from your iPhone's infallible Face ID to models that classify stars in out space. \n",
    "\n",
    "But before you can reach those levels, you have to practice and get your hands dirty. And the best way to do that is through completing projects that resemble real-world problems. In this article, we will list 15 such project ideas divided by complexity level and the tools you need to make each one a success.\n",
    "\n",
    "Let's get started!"
   ]
  },
  {
   "cell_type": "markdown",
   "metadata": {},
   "source": [
    "## 3 Components of a Good Computer Vision Project"
   ]
  },
  {
   "cell_type": "markdown",
   "metadata": {},
   "source": [
    "A good portfolio-worthy computer vision project that can capture recruiters' attention typically have these three components in common:\n",
    "- Technical depth and complexity\n",
    "- Real-world applicability\n",
    "- End-to-end implementation\n",
    "\n",
    "Let's elaborate on each of these components."
   ]
  },
  {
   "cell_type": "markdown",
   "metadata": {},
   "source": [
    "### Technical depth and complexity"
   ]
  },
  {
   "cell_type": "markdown",
   "metadata": {},
   "source": [
    "In a vision project, you must demonstrate a strong understanding of CV concepts and techniques. These include:\n",
    "- Algorithms: Implementations of classic to state-of-the-art algorithms for solving problems\n",
    "- Model architecture: Design and implementation of neural network architectures and correct use of custom layers or loss functions\n",
    "- Data processing: Adequate data preprocessing, image augmentation and handling techniques.\n",
    "- Performance optimization: Techniques for improving model accuracy, reducing computational complexity, or enhancing inference speed.\n",
    "- Handling challenges: Addressing common CV challenges such as variations in lighting, scale, or occlusion.\n",
    "\n",
    "The depth of your technical skills must be evident in the code, documentation and project write-up, showcasing your professional approach to solving real-world problems."
   ]
  },
  {
   "cell_type": "markdown",
   "metadata": {},
   "source": [
    "### Real-world applicability"
   ]
  },
  {
   "cell_type": "markdown",
   "metadata": {},
   "source": [
    "### End-to-end implementation"
   ]
  },
  {
   "cell_type": "markdown",
   "metadata": {},
   "source": [
    "## How to Find Good Datasets For Computer Vision Projects?"
   ]
  },
  {
   "cell_type": "markdown",
   "metadata": {},
   "source": [
    "## What Skills Do You Need to Make Vision Projects Success?"
   ]
  },
  {
   "cell_type": "markdown",
   "metadata": {},
   "source": [
    "## Fix These N Hurdles Before Building Vision Projects"
   ]
  },
  {
   "cell_type": "markdown",
   "metadata": {},
   "source": [
    "## Beginner Computer Vision Projects"
   ]
  },
  {
   "cell_type": "markdown",
   "metadata": {},
   "source": [
    "### 1. Face Mask Detection"
   ]
  },
  {
   "cell_type": "markdown",
   "metadata": {},
   "source": [
    "### 2. Traffic Signs Recognition"
   ]
  },
  {
   "cell_type": "markdown",
   "metadata": {},
   "source": [
    "### 3. Plant Disease Detection"
   ]
  },
  {
   "cell_type": "markdown",
   "metadata": {},
   "source": [
    "### 4. Optical Character Recognition (OCR) for Handwritten Text"
   ]
  },
  {
   "cell_type": "markdown",
   "metadata": {},
   "source": [
    "### 5. Facial Emotion Recognition"
   ]
  },
  {
   "cell_type": "markdown",
   "metadata": {},
   "source": [
    "## Intermediate Computer Vision Projects"
   ]
  },
  {
   "cell_type": "markdown",
   "metadata": {},
   "source": [
    "### 6. Multi-object Tracking in Video"
   ]
  },
  {
   "cell_type": "markdown",
   "metadata": {},
   "source": [
    "### 7. Image Captioning"
   ]
  },
  {
   "cell_type": "markdown",
   "metadata": {},
   "source": [
    "### 8. 3D Object Reconstruction From Multiple Views"
   ]
  },
  {
   "cell_type": "markdown",
   "metadata": {},
   "source": [
    "### 9. Gesture Recognition For Human-Computer Interaction"
   ]
  },
  {
   "cell_type": "markdown",
   "metadata": {},
   "source": [
    "### 10. Visual Question Answering (VQA)"
   ]
  },
  {
   "cell_type": "markdown",
   "metadata": {},
   "source": [
    "## Advanced Computer Vision Projects"
   ]
  },
  {
   "cell_type": "markdown",
   "metadata": {},
   "source": [
    "### 11. Autonomous Drone Navigation"
   ]
  },
  {
   "cell_type": "markdown",
   "metadata": {},
   "source": [
    "### 12. Video Summarization"
   ]
  },
  {
   "cell_type": "markdown",
   "metadata": {},
   "source": [
    "### 13. Face De-Aging/Aging"
   ]
  },
  {
   "cell_type": "markdown",
   "metadata": {},
   "source": [
    "### 14. Human Pose Estimation And Action Recognition in Crowded Scenes"
   ]
  },
  {
   "cell_type": "markdown",
   "metadata": {},
   "source": [
    "### 15. Unsupervised Anomaly Detection in Industrial Inspection"
   ]
  },
  {
   "cell_type": "markdown",
   "metadata": {},
   "source": [
    "## Conclusion"
   ]
  }
 ],
 "metadata": {
  "kernelspec": {
   "display_name": "articles",
   "language": "python",
   "name": "python3"
  },
  "language_info": {
   "name": "python",
   "version": "3.10.8"
  }
 },
 "nbformat": 4,
 "nbformat_minor": 2
}
