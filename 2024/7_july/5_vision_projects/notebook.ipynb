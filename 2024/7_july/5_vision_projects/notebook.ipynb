{
 "cells": [
  {
   "cell_type": "markdown",
   "metadata": {},
   "source": [
    "# Portfolio-worthy Computer Vision Projects From Beginner to Advanced"
   ]
  },
  {
   "cell_type": "markdown",
   "metadata": {},
   "source": [
    "## Introduction"
   ]
  },
  {
   "cell_type": "markdown",
   "metadata": {
    "vscode": {
     "languageId": "plaintext"
    }
   },
   "source": [
    "Due to the unprecedented amount of image and video data in today's surveillance and social media world, computer vision engineers are in constant hot demand. They build everything from your iPhone's infallible Face ID to models that classify stars in out space. \n",
    "\n",
    "But before you can reach those levels, you have to practice and get your hands dirty. And the best way to do that is through completing projects that resemble real-world problems. In this article, we will list 15 such project ideas divided by complexity level and the tools you need to make each one a success.\n",
    "\n",
    "Let's get started!"
   ]
  },
  {
   "cell_type": "markdown",
   "metadata": {},
   "source": [
    "## 3 Components of a Good Computer Vision Project"
   ]
  },
  {
   "cell_type": "markdown",
   "metadata": {},
   "source": [
    "A good portfolio-worthy computer vision project that can capture recruiters' attention typically have these three components in common:\n",
    "- Technical depth and complexity\n",
    "- Real-world applicability\n",
    "- End-to-end implementation\n",
    "\n",
    "Let's elaborate on each of these components."
   ]
  },
  {
   "cell_type": "markdown",
   "metadata": {},
   "source": [
    "### Technical depth"
   ]
  },
  {
   "cell_type": "markdown",
   "metadata": {},
   "source": [
    "In a vision project, you must demonstrate a strong understanding of CV concepts and techniques. These include:\n",
    "- __Algorithms__: Implementations of classic to state-of-the-art algorithms for solving problems\n",
    "- __Model architecture__: Design and implementation of neural network architectures and correct use of custom layers or loss functions\n",
    "- __Data processing__: Adequate data preprocessing, image augmentation and handling techniques.\n",
    "- __Performance optimization__: Techniques for improving model accuracy, reducing computational complexity, or enhancing inference speed.\n",
    "- __Handling challenges__: Addressing common CV challenges such as variations in lighting, scale, or occlusion.\n",
    "\n",
    "The depth of your technical skills must be evident in the code, documentation and project write-up, showcasing your professional approach to solving real-world problems."
   ]
  },
  {
   "cell_type": "markdown",
   "metadata": {},
   "source": [
    "### Real-world applicability"
   ]
  },
  {
   "cell_type": "markdown",
   "metadata": {},
   "source": [
    "This component is key because it demonstrates the practical value of your skills. A project with clear real-world use shows that you can bridge the gap between knowledge gained in courses and industry needs. Here are some important aspects:\n",
    "- Solving a painful need or problem in a specific industry or domain\n",
    "- Using large-scale real-world datasets or collecting your own\n",
    "- Considering practical constraints such as computational costs, budget limits and real-time processing requirements\n",
    "\n",
    "For example, faulty product detection in a conveyer belt in a plant or a medical image analysis tool for early disease detection would have clear real-world applicability."
   ]
  },
  {
   "cell_type": "markdown",
   "metadata": {},
   "source": [
    "### End-to-end implementation"
   ]
  },
  {
   "cell_type": "markdown",
   "metadata": {},
   "source": [
    "Finally, the most important aspect of a CV project is whether it is a complete functional solution or not. This means that you can't put up a model trained inside Jupyter on GitHub and call it a day. The project repository must contain the following important parts:\n",
    "\n",
    "1. __Data pipeline__\n",
    "- Data collection or dataset selection\n",
    "- Data preprocessing and cleaning\n",
    "- Data augmentation and normalization\n",
    "- Efficient data loading and batching\n",
    "\n",
    "2. __Model development__\n",
    "- Model architecture design or selection\n",
    "- Training and validation process\n",
    "- Hyperparameter tuning\n",
    "- Model evaluation and performance metrics"
   ]
  },
  {
   "cell_type": "markdown",
   "metadata": {},
   "source": [
    "3. __Deployment and interface__\n",
    "- Creating a user interface (web app, mobile app, or desktop application)\n",
    "- Implementing real-time processing if applicable\n",
    "- Handling input from various sources (e.g., uploaded images, camera feed)\n",
    "- Visualizing results effectively\n",
    "\n",
    "4. __Documentation and presentation__\n",
    "- Clear explanation of the problem and solution approach\n",
    "- Documentation of the codebase\n",
    "- Analysis of results and performance\n",
    "- Discussion of limitations and potential improvements\n",
    "\n",
    "5. __Version control and reproducibility__\n",
    "- Using Git for version control\n",
    "- Providing clear instructions for setting up and running the project\n",
    "- Managing dependencies (e.g., using virtual environments or containers)"
   ]
  },
  {
   "cell_type": "markdown",
   "metadata": {},
   "source": [
    "The ability to deliver a complete, usable solution is a highly valuable trait in the industry. So, ensure any future or existing projects meet the above-mentioned requirements."
   ]
  },
  {
   "cell_type": "markdown",
   "metadata": {},
   "source": [
    "## How to Find Good Datasets For Computer Vision Projects?"
   ]
  },
  {
   "cell_type": "markdown",
   "metadata": {},
   "source": [
    "The success of computer vision projects largely depends on the dataset used. Therefore, your chosen dataset must align with the three core components of CV projects. With that said, there are dozens of places you can look for finding good open-source datasets. Here are some established sources:\n",
    "\n",
    "1. __Public Dataset Repositories__:\n",
    "\n",
    "- [Kaggle Datasets](https://www.kaggle.com/datasets)\n",
    "- [Google Dataset Search](https://datasetsearch.research.google.com)\n",
    "- [UCI Machine Learning Repository](https://archive.ics.uci.edu/ml/index.php)\n",
    "- [Papers With Code Datasets](https://paperswithcode.com/datasets)\n",
    "- [AWS Open Data Registry](https://registry.opendata.aws)\n",
    "\n",
    "\n",
    "2. __Domain-Specific Repositories__:\n",
    "\n",
    "- Medical Imaging: [The Cancer Imaging Archive (TCIA)](https://www.cancerimagingarchive.net/), [MICCAI challenges](https://miccai.org/index.php/special-interest-groups/challenges/miccai-registered-challenges/)\n",
    "- Autonomous Driving: [KITTI](https://www.cvlibs.net/datasets/kitti/), [Cityscapes](https://www.cityscapes-dataset.com/), nuScenes\n",
    "- Facial Analysis: [CelebA](https://mmlab.ie.cuhk.edu.hk/projects/CelebA.html), [LFW (Labeled Faces in the Wild)](https://vis-www.cs.umass.edu/lfw/)\n",
    "- Object Detection: [COCO](https://cocodataset.org/#home), [Pascal VOC](http://host.robots.ox.ac.uk/pascal/VOC/), [Open Images](https://storage.googleapis.com/openimages/web/index.html)\n"
   ]
  },
  {
   "cell_type": "markdown",
   "metadata": {},
   "source": [
    "3. __Academic Sources__:\n",
    "\n",
    "- Look for datasets mentioned in recent research papers in your area of interest\n",
    "- Check conference websites (e.g., CVPR, ICCV, ECCV) for dataset challenges\n",
    "\n",
    "\n",
    "4. __Government and Non-Profit Organizations__:\n",
    "\n",
    "- [NASA Earth Data](https://earthdata.nasa.gov)\n",
    "- [NOAA Data](https://data.noaa.gov/onestop/)\n",
    "- [WHO Data Collections](https://www.who.int/data/collections)\n",
    "\n",
    "\n",
    "5. __Creating Custom Datasets__:\n",
    "\n",
    "- Web scraping (ensure you comply with legal and ethical guidelines)\n",
    "- Data collection using sensors or cameras\n",
    "- Synthetic data generation using tools like Unity or Blender"
   ]
  },
  {
   "cell_type": "markdown",
   "metadata": {},
   "source": [
    "Remember, your chosen dataset must:\n",
    "- Be relevant to your project idea\n",
    "- Be large enough to train a robust model\n",
    "- Be diverse to represent various scenarios and conditions\n",
    "- Have a suitable license for your intended use (commercial, research)\n",
    "- Be up-to-date\n",
    "- Be well-documented\n",
    "\n",
    "By considering these factors, you ensure the final delivered solution is robust and reliable."
   ]
  },
  {
   "cell_type": "markdown",
   "metadata": {},
   "source": [
    "## What Skills Do You Need to Make Vision Projects Success?"
   ]
  },
  {
   "cell_type": "markdown",
   "metadata": {},
   "source": [
    "## Fix These N Hurdles Before Building Vision Projects"
   ]
  },
  {
   "cell_type": "markdown",
   "metadata": {},
   "source": [
    "## Beginner Computer Vision Projects"
   ]
  },
  {
   "cell_type": "markdown",
   "metadata": {},
   "source": []
  },
  {
   "cell_type": "markdown",
   "metadata": {},
   "source": [
    "### 1. Face Mask Detection"
   ]
  },
  {
   "cell_type": "markdown",
   "metadata": {},
   "source": [
    "### 2. Traffic Signs Recognition"
   ]
  },
  {
   "cell_type": "markdown",
   "metadata": {},
   "source": [
    "### 3. Plant Disease Detection"
   ]
  },
  {
   "cell_type": "markdown",
   "metadata": {},
   "source": [
    "### 4. Optical Character Recognition (OCR) for Handwritten Text"
   ]
  },
  {
   "cell_type": "markdown",
   "metadata": {},
   "source": [
    "### 5. Facial Emotion Recognition"
   ]
  },
  {
   "cell_type": "markdown",
   "metadata": {},
   "source": [
    "## Intermediate Computer Vision Projects"
   ]
  },
  {
   "cell_type": "markdown",
   "metadata": {},
   "source": [
    "### 6. Multi-object Tracking in Video"
   ]
  },
  {
   "cell_type": "markdown",
   "metadata": {},
   "source": [
    "### 7. Image Captioning"
   ]
  },
  {
   "cell_type": "markdown",
   "metadata": {},
   "source": [
    "### 8. 3D Object Reconstruction From Multiple Views"
   ]
  },
  {
   "cell_type": "markdown",
   "metadata": {},
   "source": [
    "### 9. Gesture Recognition For Human-Computer Interaction"
   ]
  },
  {
   "cell_type": "markdown",
   "metadata": {},
   "source": [
    "### 10. Visual Question Answering (VQA)"
   ]
  },
  {
   "cell_type": "markdown",
   "metadata": {},
   "source": [
    "## Advanced Computer Vision Projects"
   ]
  },
  {
   "cell_type": "markdown",
   "metadata": {},
   "source": [
    "### 11. Autonomous Drone Navigation"
   ]
  },
  {
   "cell_type": "markdown",
   "metadata": {},
   "source": [
    "### 12. Video Summarization"
   ]
  },
  {
   "cell_type": "markdown",
   "metadata": {},
   "source": [
    "### 13. Face De-Aging/Aging"
   ]
  },
  {
   "cell_type": "markdown",
   "metadata": {},
   "source": [
    "### 14. Human Pose Estimation And Action Recognition in Crowded Scenes"
   ]
  },
  {
   "cell_type": "markdown",
   "metadata": {},
   "source": [
    "### 15. Unsupervised Anomaly Detection in Industrial Inspection"
   ]
  },
  {
   "cell_type": "markdown",
   "metadata": {},
   "source": [
    "## Conclusion"
   ]
  }
 ],
 "metadata": {
  "kernelspec": {
   "display_name": "articles",
   "language": "python",
   "name": "python3"
  },
  "language_info": {
   "name": "python",
   "version": "3.10.8"
  }
 },
 "nbformat": 4,
 "nbformat_minor": 2
}
