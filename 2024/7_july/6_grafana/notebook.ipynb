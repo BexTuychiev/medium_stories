{
 "cells": [
  {
   "cell_type": "markdown",
   "metadata": {},
   "source": [
    "# Monitoring Machine Learning Models with Grafana: A Beginner's Guide"
   ]
  },
  {
   "cell_type": "markdown",
   "metadata": {},
   "source": [
    "## Introduction"
   ]
  },
  {
   "cell_type": "markdown",
   "metadata": {},
   "source": [
    " Machine learning projects don't end when you deploy your best trained model into production. Even after deployment, you must monitor it constantly to ensure its accuracy doesn't go down over time. This is where tools like Grafana can be helpful with its powerful visualization and monitoring capabilities. It allows data scientists and ML engineers keep a close eye on their production model's performance.\n",
    "\n",
    " This article aims to introduce you to the world of machine learning model monitoring through Grafana using the example of a simple regression model. By the end, we will have a monitoring system set up that can send alerts when production performance drops. \n",
    "\n",
    " Let's get started!"
   ]
  },
  {
   "cell_type": "markdown",
   "metadata": {},
   "source": [
    "## Model Monitoring Fundamentals"
   ]
  },
  {
   "cell_type": "markdown",
   "metadata": {},
   "source": [
    "Before we start talking about Grafana and how to use it, let's understand why machine learning models fail in production without monitoring. Two key concepts that often lead to model degradation are data drift and concept drift."
   ]
  },
  {
   "cell_type": "markdown",
   "metadata": {},
   "source": [
    "### Data drift"
   ]
  },
  {
   "cell_type": "markdown",
   "metadata": {},
   "source": [
    "![](images/robot.jpg)"
   ]
  },
  {
   "cell_type": "markdown",
   "metadata": {},
   "source": [
    "Imagine you've trained a robot to sort apples based on their size and color. The robot can detect ripe red apples of certain size range. Now, let's say next year, the orchard starts producing new type of apples that are green when they are ripe. Suddenly, the robot starts making mistakes because the data it is receiving (green apples) is different from what it was trained on (red apples). \n",
    "\n",
    "This phenomenon is called __data drift__ in machine learning. It happens when the distribution of production data differs significantly from the training data. This often leads to horrible model performance because it is making predictions on new type of data that involves outdated or irrelevant patterns. \n",
    "\n",
    "Monitoring for data drift helps us identify when our model's inputs change in production, indicating that we might need to retrain our model on more recent data."
   ]
  },
  {
   "cell_type": "markdown",
   "metadata": {},
   "source": [
    "### Concept drift"
   ]
  },
  {
   "cell_type": "markdown",
   "metadata": {},
   "source": [
    "Let's revisit our apple-sorting robot. This time, imagine that consumer preferences change, and people start preferring slightly underripe apples. The definition of a \"good apple\" has changed, even though the apples look the same. \n",
    "\n",
    "This is concept drift in machine learning. It occurs when the relationship between the input features and the target variable changes over time. In other words, the rules of the game change. In our ML context:\n",
    "\n",
    "- The model's logic: The relationships and patterns the model has learned.\n",
    "- The real-world relationship: How input features actually relate to the target variable in the current environment.\n",
    "\n",
    "Concept drift happens when these two diverge, even if the input data itself hasn't changed much.\n",
    "\n",
    "Monitoring for concept drift helps us identify when our model's fundamental assumptions are no longer valid, indicating that we might need to rethink our feature engineering or even model architecture.\n",
    "\n",
    "--------"
   ]
  },
  {
   "cell_type": "markdown",
   "metadata": {},
   "source": [
    "Both data drift and concept drift highlight the importance of continuous monitoring in machine learning. Models that perform well in training and initial deployment can degrade over time as the world around them changes. By implementing robust monitoring systems we can:\n",
    "\n",
    "1. Detect changes early.\n",
    "2. Understand the nature of the drift.\n",
    "3. Take appropriate actions such as retraining the model or updating our features. \n",
    "\n",
    "That's why we need tools like Grafana that provide us methods to visualize these drifts and set up alerts when our model's performance starts to go down.\n",
    "\n",
    "In the next sections, we'll explore how to set up Grafana to monitor for these types of drifts and other key performance indicators of our machine learning model."
   ]
  },
  {
   "cell_type": "markdown",
   "metadata": {},
   "source": [
    "## The Toolstack We Will Use"
   ]
  },
  {
   "cell_type": "markdown",
   "metadata": {},
   "source": [
    "### Grafana\n",
    "\n",
    "Grafana is an open-source observability platform with features for analytics and interactive visualizations. It can be connected to various data sources (the backend) of any application and give insight into its performance through charts, graphs and alerts. Given its characteristics, it can be a good candidate for building a ML monitoring system. \n",
    "\n",
    "Here are its key features for this context:\n",
    "- Customizable dashboards: Create visually-appealing, real-time dashboards to display model performance metrics.\n",
    "- Data source integration: Connect to different data sources, including Prometheus, to fetch and visualize performance metrics.\n",
    "- Alerting system: Set up alerts (email, slack, SMS) based on custom thresholds to notify you in case of drifts.\n",
    "- Time series analytics: Analyze trends and patterns in your model's performance over time.\n",
    "\n"
   ]
  },
  {
   "cell_type": "markdown",
   "metadata": {},
   "source": [
    "### Prometheus\n",
    "\n",
    "Prometheus is a systems monitoring and alerting toolkit. It's designed for reliability and scalability, making it ideal for monitoring distributed systems. Prometheus is often used with Grafana because:\n",
    "- Efficient data storage: it uses a time-series database optimized for storing and querying metrics data.\n",
    "- Pull-based architecture: it actively scrapes metrics from configured targets for data freshness and reliability.\n",
    "- Powerful query language: Prometheus has its query language (PromQL) for complex scraping queries and aggregations of metrics data.\n",
    "\n"
   ]
  },
  {
   "cell_type": "markdown",
   "metadata": {},
   "source": [
    "### How Grafana and Prometheus Work Together\n",
    "For a model monitoring system, Grafana and Prometheus can create a powerful tandem. Prometheus is for data collection and storage:\n",
    "\n",
    "- Scrapes metrics from your ML application endpoints.\n",
    "- Stores the collected data in its time-series database.\n",
    "- Provides a query interface (PromQL) for data retrieval. \n",
    "\n",
    "Grafana is for visualization and alerting:\n",
    "- Connects to Prometheus as a data source\n",
    "- Queries Prometheus with PromQL\n",
    "- Visualizes the metrics in customizable dashboards\n",
    "- Monitors metrics and triggers alerts based on defined conditions. "
   ]
  },
  {
   "cell_type": "markdown",
   "metadata": {},
   "source": [
    "### Docker and Docker Compose\n",
    "\n"
   ]
  },
  {
   "cell_type": "markdown",
   "metadata": {},
   "source": [
    "It is hard to imagine monitoring systems without Docker. It provides containerization, ensuring consistent environments across development and production. We won't go into the details of Docker's importance but you can read more about it in [this separate article](https://www.datacamp.com/tutorial/docker-for-data-science-introduction). \n",
    "\n",
    "We also have Docker Compose which simplifies the process of defining and running multi-container applications, making it easier to set up and manage our monitoring stack alongside our ML application.\n",
    "\n",
    "If you are unfamiliar with Docker, check out our [Containerization Concepts](https://www.datacamp.com/courses/containerization-and-virtualization-concepts) and [Introduction to Docker](https://www.datacamp.com/courses/introduction-to-docker) courses. "
   ]
  },
  {
   "cell_type": "markdown",
   "metadata": {},
   "source": [
    "### Scikit-learn\n",
    "\n"
   ]
  },
  {
   "cell_type": "markdown",
   "metadata": {},
   "source": [
    "While the monitoring system we will build works with any machine learning framework, we will use Scikit-learn for its excellent features:\n",
    "\n",
    "- Flexible pipelines for preprocessing a dataset\n",
    "- RandomForestRegressor model for predicting diamond prices\n",
    "\n",
    "If you need a refresher, here is a good starting guide: [Python Machine Learning: Scikit-Learn Tutorial](https://www.datacamp.com/tutorial/machine-learning-python)."
   ]
  },
  {
   "cell_type": "markdown",
   "metadata": {},
   "source": [
    "### Scipy\n",
    "\n"
   ]
  },
  {
   "cell_type": "markdown",
   "metadata": {},
   "source": [
    "[Scipy](https://scipy.org/) is one of the backbones of scientific computing in Python. In our project, we will use it to run a Kolmogorov-Smirnov test to implement data drift detection. This test is one of many methods for detecting distribution changes, alongside others like Chi-squared test, Kullback-Leibler divergence, and Wasserstein distance. Scipy provides efficient implementations of these statistical tests, making it valuable for various drift detection approaches in ML monitoring.\n",
    "\n",
    "Implementing drift detection requires sufficient understanding of model monitoring concepts. While we have covered data and concept drifts, there are other key ideas such as availability of ground truth, performance estimation, reference and analysis sets. You can learn about these topics in depth in our [Machine Learning Monitoring Concepts](https://www.datacamp.com/courses/monitoring-machine-learning-concepts) course."
   ]
  },
  {
   "cell_type": "markdown",
   "metadata": {},
   "source": [
    "### Flask\n",
    "\n"
   ]
  },
  {
   "cell_type": "markdown",
   "metadata": {},
   "source": [
    "### Advanced Python Scheduler (APScheduler)"
   ]
  },
  {
   "cell_type": "markdown",
   "metadata": {},
   "source": [
    "## A Workflow to Setup Grafana For Model Monitoring"
   ]
  },
  {
   "cell_type": "markdown",
   "metadata": {},
   "source": [
    "### High-level overview of the workflow\n",
    "- Describe the steps for setting up the monitoring system on a high-level"
   ]
  },
  {
   "cell_type": "markdown",
   "metadata": {},
   "source": [
    "### 1. Setting up the environment"
   ]
  },
  {
   "cell_type": "markdown",
   "metadata": {},
   "source": [
    "### 2. Writing training code"
   ]
  },
  {
   "cell_type": "markdown",
   "metadata": {},
   "source": [
    "### 3. Adding drift detection methods"
   ]
  },
  {
   "cell_type": "markdown",
   "metadata": {},
   "source": [
    "### 4. Serving the model as a REST API"
   ]
  },
  {
   "cell_type": "markdown",
   "metadata": {},
   "source": [
    "### 5. Dockerizing the application"
   ]
  },
  {
   "cell_type": "markdown",
   "metadata": {},
   "source": [
    "### 6. Adding Prometheus as a data source to Grafana"
   ]
  },
  {
   "cell_type": "markdown",
   "metadata": {},
   "source": [
    "### 7. Creating a Grafana dashboard with two panels"
   ]
  },
  {
   "cell_type": "markdown",
   "metadata": {},
   "source": [
    "### 8. Setting up alerts for drifts"
   ]
  },
  {
   "cell_type": "markdown",
   "metadata": {},
   "source": [
    "## Conclusion\n",
    "- Recap of the monitoring setup process\n",
    "- Benefits of using Grafana for ML model monitoring\n",
    "- Next steps and further resources"
   ]
  }
 ],
 "metadata": {
  "kernelspec": {
   "display_name": "articles",
   "language": "python",
   "name": "python3"
  },
  "language_info": {
   "codemirror_mode": {
    "name": "ipython",
    "version": 3
   },
   "file_extension": ".py",
   "mimetype": "text/x-python",
   "name": "python",
   "nbconvert_exporter": "python",
   "pygments_lexer": "ipython3",
   "version": "3.10.8"
  },
  "widgets": {
   "application/vnd.jupyter.widget-state+json": {
    "state": {},
    "version_major": 2,
    "version_minor": 0
   }
  }
 },
 "nbformat": 4,
 "nbformat_minor": 4
}
