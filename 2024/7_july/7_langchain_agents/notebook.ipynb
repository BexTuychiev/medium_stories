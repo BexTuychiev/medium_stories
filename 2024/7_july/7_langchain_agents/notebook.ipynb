{
 "cells": [
  {
   "cell_type": "markdown",
   "metadata": {},
   "source": [
    "# Building LangChain Agents to Automate Tasks in Python"
   ]
  },
  {
   "cell_type": "markdown",
   "metadata": {},
   "source": [
    "## Introduction"
   ]
  },
  {
   "cell_type": "markdown",
   "metadata": {},
   "source": [
    "## Setup"
   ]
  },
  {
   "cell_type": "markdown",
   "metadata": {},
   "source": [
    "```bash\n",
    "$ conda create -n langchain python=3.9 -y\n",
    "$ conda activate langchain\n",
    "$ pip install langchain langchain_openai langchain_community ipykernel python-dotenv\n",
    "$ ipython kernel install --user --name=langchain\n",
    "```\n",
    "\n",
    "```bash\n",
    "$ touch .env \n",
    "$ vim .env  # Paste your OPENAI key\n",
    "```\n",
    "\n",
    "```python\n",
    "from dotenv import load_dotenv()\n",
    "```"
   ]
  },
  {
   "cell_type": "code",
   "execution_count": 9,
   "metadata": {},
   "outputs": [],
   "source": [
    "import os\n",
    "from dotenv import load_dotenv\n",
    "\n",
    "load_dotenv()\n",
    "\n",
    "api_key = os.getenv('OPENAI_API_KEY')"
   ]
  },
  {
   "cell_type": "code",
   "execution_count": 12,
   "metadata": {},
   "outputs": [
    {
     "name": "stdout",
     "output_type": "stream",
     "text": [
      "\n",
      "\n",
      "Many people consider Messi to be one of the best footballers of all time, if not the best. His incredible skills, record-breaking achievements, and consistent performance at the highest level have cemented his place among the greatest footballers in history. However, opinions on the best footballer of all time may vary and some may argue that other players, such as Pele or Diego Maradona, also deserve the title. Ultimately, it is a matter of personal preference.\n"
     ]
    }
   ],
   "source": [
    "from langchain_openai import OpenAI\n",
    "\n",
    "llm = OpenAI(openai_api_key=api_key)\n",
    "\n",
    "question = \"Is Messi the best footballer of all time?\"\n",
    "output = llm.invoke(question)\n",
    "\n",
    "print(output)"
   ]
  },
  {
   "cell_type": "markdown",
   "metadata": {},
   "source": [
    "### Prompting templates"
   ]
  },
  {
   "cell_type": "code",
   "execution_count": 16,
   "metadata": {},
   "outputs": [
    {
     "data": {
      "text/plain": [
       "StringPromptValue(text=\"You are a dreamy poet. Compose a poem on Qur'an.\")"
      ]
     },
     "execution_count": 16,
     "metadata": {},
     "output_type": "execute_result"
    }
   ],
   "source": [
    "from langchain_core.prompts import PromptTemplate\n",
    "\n",
    "template = \"You are a dreamy poet. Compose a poem on {subject}.\"\n",
    "\n",
    "prompt_template = PromptTemplate(template=template, input_variables=['subject'])\n",
    "\n",
    "prompt_template.invoke({\"subject\": \"Qur'an\"})"
   ]
  },
  {
   "cell_type": "code",
   "execution_count": 21,
   "metadata": {},
   "outputs": [
    {
     "data": {
      "text/plain": [
       "\"\\n\\nThe Qur'an, a divine book of guidance\\nSent down from above, a heavenly fragrance\\nRevealing wisdom, truth, and light\\nA source of solace, in the darkest of night\\n\\nIn its verses, lies a message profound\\nA roadmap to salvation, a treasure found\\nIn every word, there's an ocean of meaning\\nA fountain of knowledge, forever streaming\\n\\nIts beauty transcends the boundaries of time\\nA masterpiece of prose, a symphony sublime\\nEach verse, a melody of love and mercy\\nA soothing balm for the hearts that are thirsty\\n\\nGuiding us towards the path of righteousness\\nTeaching us to strive for goodness and bliss\\nWith every verse, our faith is renewed\\nAs we delve deeper, our souls are imbued\\n\\nThe Qur'an, a source of comfort and hope\\nA lifeline for those who struggle and cope\\nIn its pages, we find solace and peace\\nAs our worries and fears, it begins to ease\\n\\nIts teachings, a light that illuminates our way\\nAs we navigate through life, day by day\\nWith every recitation, our hearts are stirred\\nIn awe of the words, divinely heard\\n\\nOh Qur'an, a book that touches the soul\\nIn your embrace\""
      ]
     },
     "execution_count": 21,
     "metadata": {},
     "output_type": "execute_result"
    }
   ],
   "source": [
    "llm_chain = prompt_template | llm\n",
    "\n",
    "llm_chain.invoke({'subject': \"Qur'an\"})"
   ]
  },
  {
   "cell_type": "markdown",
   "metadata": {},
   "source": [
    "### Chat models"
   ]
  },
  {
   "cell_type": "code",
   "execution_count": 23,
   "metadata": {},
   "outputs": [],
   "source": [
    "from langchain_core.prompts import ChatPromptTemplate\n",
    "\n",
    "prompt_template = ChatPromptTemplate.from_messages(\n",
    "    [\n",
    "        (\"system\", \"You are a master procrastinator.\"),\n",
    "        (\"human\", \"Why do you do this?\"),\n",
    "        (\"ai\", \"I have no idea\"),\n",
    "        (\"human\", \"Respond to this question: {question}\")\n",
    "    ]\n",
    ")\n"
   ]
  },
  {
   "cell_type": "code",
   "execution_count": 27,
   "metadata": {},
   "outputs": [],
   "source": [
    "from langchain_openai import ChatOpenAI\n",
    "\n",
    "llm = ChatOpenAI(openai_api_key=api_key)\n",
    "\n",
    "llm_chain = prompt_template | llm\n",
    "question = \"Why do you procrastinate?\"\n",
    "\n",
    "response = llm_chain.invoke({'question': question})\n"
   ]
  },
  {
   "cell_type": "code",
   "execution_count": 29,
   "metadata": {},
   "outputs": [
    {
     "data": {
      "text/plain": [
       "'I procrastinate because I find it challenging to focus on tasks until the last minute.'"
      ]
     },
     "execution_count": 29,
     "metadata": {},
     "output_type": "execute_result"
    }
   ],
   "source": [
    "response.content"
   ]
  },
  {
   "cell_type": "markdown",
   "metadata": {},
   "source": [
    "### Managing chat model memory"
   ]
  },
  {
   "cell_type": "code",
   "execution_count": 34,
   "metadata": {},
   "outputs": [],
   "source": [
    "from langchain_community.chat_message_histories import ChatMessageHistory\n",
    "from langchain_openai import ChatOpenAI\n",
    "\n",
    "\n",
    "llm = ChatOpenAI(openai_api_key=api_key)\n",
    "\n",
    "history = ChatMessageHistory()\n",
    "history.add_ai_message('Hi, ask me anything on football.')\n",
    "history.add_user_message('Describe a metaphor for football that goes beyond human thought.')\n",
    "\n",
    "response = llm.invoke(history.messages)"
   ]
  },
  {
   "cell_type": "code",
   "execution_count": 42,
   "metadata": {},
   "outputs": [],
   "source": [
    "from langchain.memory import ConversationSummaryMemory\n",
    "\n",
    "memory = ConversationSummaryMemory(llm=ChatOpenAI(openai_api_key=api_key))\n",
    "\n",
    "summary_chain = ConversationChain(llm=llm, memory=memory, verbose=True)"
   ]
  },
  {
   "cell_type": "markdown",
   "metadata": {},
   "source": [
    "### More on chains"
   ]
  },
  {
   "cell_type": "code",
   "execution_count": 43,
   "metadata": {},
   "outputs": [],
   "source": [
    "from langchain_core.output_parsers.string import StrOutputParser\n",
    "\n",
    "destination_prompt = PromptTemplate(\n",
    "    input_variables=['destination'],\n",
    "    template='I am planning a trip to {destination}. Can you suggest some activities to do there?'\n",
    ")\n",
    "\n",
    "activities_prompt = PromptTemplate(\n",
    "    input_variables=['activities'],\n",
    "    template='I only have one day, so you can create an itinerary from your top three activities: {activities}'\n",
    ")\n",
    "\n",
    "seq_chain = ({\"activities\": destination_prompt | llm | StrOutputParser()} \n",
    "                           | activities_prompt | llm | StrOutputParser()) "
   ]
  },
  {
   "cell_type": "code",
   "execution_count": 44,
   "metadata": {},
   "outputs": [
    {
     "data": {
      "text/plain": [
       "'\\n\\nPlease note that it may not be possible to do all of these activities in one day, so I recommend prioritizing the ones that interest you the most. Enjoy your time in Tashkent!'"
      ]
     },
     "execution_count": 44,
     "metadata": {},
     "output_type": "execute_result"
    }
   ],
   "source": [
    "seq_chain.invoke({'destination': 'tashkent'})"
   ]
  },
  {
   "cell_type": "markdown",
   "metadata": {},
   "source": [
    "There is an error in this crap. Fix it tomorrow, bex"
   ]
  },
  {
   "cell_type": "markdown",
   "metadata": {},
   "source": [
    "## Conclusion"
   ]
  },
  {
   "cell_type": "markdown",
   "metadata": {},
   "source": []
  }
 ],
 "metadata": {
  "kernelspec": {
   "display_name": "langchain",
   "language": "python",
   "name": "python3"
  },
  "language_info": {
   "codemirror_mode": {
    "name": "ipython",
    "version": 3
   },
   "file_extension": ".py",
   "mimetype": "text/x-python",
   "name": "python",
   "nbconvert_exporter": "python",
   "pygments_lexer": "ipython3",
   "version": "3.9.19"
  }
 },
 "nbformat": 4,
 "nbformat_minor": 2
}
