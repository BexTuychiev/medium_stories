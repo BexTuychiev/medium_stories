{
 "cells": [
  {
   "cell_type": "markdown",
   "metadata": {},
   "source": [
    "# Building LangChain Agents to Automate Tasks in Python"
   ]
  },
  {
   "cell_type": "markdown",
   "metadata": {},
   "source": [
    "## Introduction"
   ]
  },
  {
   "cell_type": "markdown",
   "metadata": {},
   "source": [
    "LangChain's 90k GitHub stars is all the credibility it needs - right now, it is the hottest framework to build LLM-based applications. Its comprehensive set of tools and components allows you to build end-to-end AI solutions using almost any LLM. \n",
    "\n",
    "Perhaps, at the heart of LangChain's capabilities are LangChain Agents. These agents are autonomous or semi-autonomous tools that can perform tasks, make decisions, and interact with other tools and APIs. They represent a significant leap forward in automating complex workflows with LLMs. \n",
    "\n",
    "In this article, you will learn how to build your own LangChain agents that can perform tasks not strictly possible with todays chat applications like ChatGPT. "
   ]
  },
  {
   "cell_type": "markdown",
   "metadata": {},
   "source": [
    "## What are LangChain Agents?\n",
    "\n",
    "Before we write code, let's understand the __agent framework__ and why choose it over traditional programming paradigms. "
   ]
  },
  {
   "cell_type": "markdown",
   "metadata": {},
   "source": [
    "### Chains vs. Agents\n"
   ]
  },
  {
   "cell_type": "markdown",
   "metadata": {},
   "source": [
    "The defining trait of agents is their ability to choose the best order of actions to solve a problem given a set of tools.\n",
    "\n",
    "For example, let's say we have the following:\n",
    "\n",
    "- A weather API\n",
    "- ML model for clothing recommendations\n",
    "- Strava API for biking routes\n",
    "- User preferences database\n",
    "- Image recognition model\n",
    "- Language model (text generation)\n",
    "\n",
    "Traditional problem-solving would involve using a chain of select tools from the list:\n",
    "\n",
    "Chain 1: Weather-based clothing recommender\n",
    "1. Call weather API\n",
    "2. Input weather data into ML Clothing Model\n",
    "3. Generate clothing recommendations\n",
    "4. Present results to user\n",
    "\n",
    "Chain 2: Weather-based biking route suggester\n",
    "1. Call weather API\n",
    "2. Call Strava API for popular routes\n",
    "3. Filter routes based on weather conditions\n",
    "4. Present suitable routes to user\n",
    "\n",
    "Chain 3: Outfit Photo Analyzer\n",
    "1. Receive user's outfit photo\n",
    "2. Use Image Recognition Model to identify clothing items\n",
    "3. Compare with User Preference Database\n",
    "4. Generate feedback using Text Generation Model\n",
    "5. Present analysis to user"
   ]
  },
  {
   "cell_type": "markdown",
   "metadata": {},
   "source": [
    "Each chain solves a specific problem, using a predetermined sequence of steps and a subset of the available tools. They cannot adapt beyond their defined scope. They also require three separate branches of development, which is inefficient in terms of time and resources.\n",
    "\n",
    "Now, imagine an agentic system (agent) with access to all these tools. It would be able to:\n",
    "\n",
    "1. Understand user's query or problem\n",
    "2. Assess which tools are relevant to the problem\n",
    "3. Dynamically create a workflow using the most appropriate tools\n",
    "4. Execute the workflow, making real-time adjustments if needed\n",
    "5. Evaluate the outcome and learn for future interactions\n",
    "\n",
    "For example, if a user asks \"What should I wear for my bike ride today?\", the agent might check the weather API, analyze suitable biking routes through Strava, recommend appropriate clothing considering user's past preferences and generate a personalized response. \n",
    "\n",
    "The agent can:\n",
    "- Handle a wide variety of problems using the same set of tools\n",
    "- Create custom workflows for each unique situation\n",
    "- Adapt its approach based on the specific context and user needs\n",
    "- Learn from interactions to improve future performance"
   ]
  },
  {
   "cell_type": "markdown",
   "metadata": {},
   "source": [
    "LangChain's capacity to transform language models—which, by themselves, only produce text—into reasoning engines that can use the resources at their disposal to take appropriate action is one of its main applications. Put differently, LangChain enables the development of strong autonomous agents."
   ]
  },
  {
   "cell_type": "markdown",
   "metadata": {},
   "source": [
    "### H3: Key components\n",
    "- Overview of essential components such as tools, prompts, chat models, chains, and agents.\n"
   ]
  },
  {
   "cell_type": "markdown",
   "metadata": {},
   "source": [
    "## H2: Setting Up Your Environment\n",
    "### H3: Prerequisites\n",
    "- Required knowledge and tools for working with LangChain Agents.\n",
    "- Necessary libraries and setup instructions.\n"
   ]
  },
  {
   "cell_type": "markdown",
   "metadata": {},
   "source": [
    "## H2: Building a Basic LangChain Agent\n",
    "### H3: Initializing tools and models\n",
    "- Step-by-step guide to setting up tools like search engines and web fetchers.\n",
    "### H3: Creating and configuring an agent\n",
    "- Instructions on creating an agent, defining its actions, and configuring it with tools.\n",
    "- Example code snippets and explanations.\n"
   ]
  },
  {
   "cell_type": "markdown",
   "metadata": {},
   "source": [
    "## H2: Advanced Agent Configuration\n",
    "### H3: Adding memory and context\n",
    "- How to incorporate conversational memory to make agents more interactive.\n",
    "- Examples of different memory options and their applications.\n",
    "### H3: Using multiple tools and actions\n",
    "- Configuring agents to utilize multiple tools for more complex tasks.\n",
    "- Code examples demonstrating multi-tool interactions.\n"
   ]
  },
  {
   "cell_type": "markdown",
   "metadata": {},
   "source": [
    "## H2: Optimizing and Debugging Agents\n",
    "### H3: Performance tuning\n",
    "- Tips and techniques for optimizing the performance of LangChain Agents.\n",
    "- Common issues and troubleshooting strategies.\n",
    "### H3: Debugging tools and methods\n",
    "- Utilizing LangSmith and other tools for monitoring and debugging agents.\n"
   ]
  },
  {
   "cell_type": "markdown",
   "metadata": {},
   "source": [
    "## H2: Applications and Use Cases\n",
    "### H3: Industry-specific applications\n",
    "- Examples of how LangChain Agents can be applied in different industries such as finance, healthcare, and marketing.\n",
    "### H3: Case studies\n",
    "- Detailed case studies showcasing successful implementations of LangChain Agents.\n"
   ]
  },
  {
   "cell_type": "markdown",
   "metadata": {},
   "source": [
    "## H2: Future Trends and Developments\n",
    "### H3: Emerging features\n",
    "- Upcoming updates and new features in LangChain.\n",
    "### H3: Long-term vision\n",
    "- The future potential of LangChain Agents in AI and their role in advancing automation.\n"
   ]
  },
  {
   "cell_type": "markdown",
   "metadata": {},
   "source": [
    "## H2: Conclusion\n"
   ]
  },
  {
   "cell_type": "markdown",
   "metadata": {},
   "source": [
    "## Setup"
   ]
  },
  {
   "cell_type": "markdown",
   "metadata": {},
   "source": [
    "```bash\n",
    "$ conda create -n langchain python=3.9 -y\n",
    "$ conda activate langchain\n",
    "$ pip install langchain langchain_openai langchain_community ipykernel python-dotenv\n",
    "$ ipython kernel install --user --name=langchain\n",
    "```\n",
    "\n",
    "```bash\n",
    "$ touch .env \n",
    "$ vim .env  # Paste your OPENAI key\n",
    "```\n",
    "\n",
    "```python\n",
    "from dotenv import load_dotenv()\n",
    "```"
   ]
  },
  {
   "cell_type": "code",
   "execution_count": 1,
   "metadata": {},
   "outputs": [],
   "source": [
    "import os\n",
    "from dotenv import load_dotenv\n",
    "\n",
    "load_dotenv()\n",
    "\n",
    "api_key = os.getenv('OPENAI_API_KEY')"
   ]
  },
  {
   "cell_type": "code",
   "execution_count": 2,
   "metadata": {},
   "outputs": [
    {
     "name": "stdout",
     "output_type": "stream",
     "text": [
      "\n",
      "\n",
      "Many people consider Lionel Messi to be one of the greatest footballers of all time. He has won numerous individual and team awards, broken multiple records, and has consistently performed at a high level for both club and country. However, the title of \"best footballer of all time\" is subjective and there are many other players who have also been considered for this title, such as Diego Maradona, Pele, and Cristiano Ronaldo. Ultimately, it is a matter of personal opinion.\n"
     ]
    }
   ],
   "source": [
    "from langchain_openai import OpenAI\n",
    "\n",
    "llm = OpenAI(openai_api_key=api_key)\n",
    "\n",
    "question = \"Is Messi the best footballer of all time?\"\n",
    "output = llm.invoke(question)\n",
    "\n",
    "print(output)"
   ]
  },
  {
   "cell_type": "markdown",
   "metadata": {},
   "source": [
    "### Stuff I should cover\n",
    "- Difference between an LLMs and chat models in langchain. [use this link](https://python.langchain.com/v0.1/docs/modules/model_io/)\n",
    "- Prompt templates (see link above)\n",
    "- Output parses (see link above)\n",
    "- [Retrieval](https://python.langchain.com/v0.1/docs/modules/data_connection/)\n",
    "- "
   ]
  }
 ],
 "metadata": {
  "kernelspec": {
   "display_name": "langchain",
   "language": "python",
   "name": "python3"
  },
  "language_info": {
   "codemirror_mode": {
    "name": "ipython",
    "version": 3
   },
   "file_extension": ".py",
   "mimetype": "text/x-python",
   "name": "python",
   "nbconvert_exporter": "python",
   "pygments_lexer": "ipython3",
   "version": "3.9.19"
  }
 },
 "nbformat": 4,
 "nbformat_minor": 2
}
