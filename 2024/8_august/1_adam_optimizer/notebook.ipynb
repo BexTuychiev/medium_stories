{
 "cells": [
  {
   "cell_type": "markdown",
   "metadata": {},
   "source": [
    "# ADAM Optimizer Tutorial: Intuition And Implementation in Python"
   ]
  },
  {
   "cell_type": "markdown",
   "metadata": {},
   "source": [
    "## Introduction"
   ]
  },
  {
   "cell_type": "markdown",
   "metadata": {},
   "source": [
    "Have you ever tried navigating your way down a hilly area blindfolded? That's somewhat similar to what machine learning models do when they are trying to improve. They continually search for the lowest point (best solution) without really seeing the whole picture. This is where optimization algorithms come in handy, and ADAM is like a smart flashlight in this journey. \n",
    "\n",
    "ADAM, short for Adaptive Moment Estimation, is a popular optimization technique, especially in deep learning. In this article, you'll see why this is the case. We will cover the intuition behind it, dive into some math (don't worry, we will keep it friendly), its Python implementation and how to use it in PyTorch. "
   ]
  },
  {
   "cell_type": "markdown",
   "metadata": {},
   "source": [
    "## What Is ADAM Optimizer? The Short Answer"
   ]
  },
  {
   "cell_type": "markdown",
   "metadata": {},
   "source": [
    "The popular optimization algorithm used in machine learning and, most often, in deep learning is called ADAM, which stands for Adaptive Moment Estimation. \n",
    "\n",
    "ADAM combines main ideas from two other robust optimization techniques: momentum and RMSprop. It is named _adaptive_ as it adjusts the learning rate for each parameter. \n",
    "\n",
    "Here are its key features and advantages:\n",
    "\n",
    "- Adaptivity: ADAM adapts the learning rate for each parameter, which can speed up learning in many cases.\n",
    "- Momentum: It uses a form of momentum, helping it navigate complex surfaces such as ravines and saddle points more effectively.\n",
    "- Bias correction: ADAM includes bias correction terms, which help it perform well even in the initial stages of training.\n",
    "- Computational efficiency: It's relatively computationally efficient and has low memory requirements.\n",
    "- Hyperparameter robustness: While the learning rate may need tuning, ADAM is often less sensitive to hyperparameter choices than some other optimizers.\n",
    "\n",
    "To summarize, ADAM makes models learn more efficiently by continuously adjusting the learning rate of each parameter and, as a consequence, tends to converge much more quickly than standard stochastic gradient descent. For many deep learning applications, it is therefore a strong default choice."
   ]
  },
  {
   "cell_type": "markdown",
   "metadata": {},
   "source": [
    "## Prerequisite Algorithms"
   ]
  },
  {
   "cell_type": "markdown",
   "metadata": {},
   "source": [
    "ADAM unifies key ideas from a few other critical optimization algorithms, strengthening their advantages while also addressing their shortcomings. We will need to review them before we can grasp the intuition behind ADAM and implement it in Python."
   ]
  },
  {
   "cell_type": "markdown",
   "metadata": {},
   "source": [
    "### Optimization analogy"
   ]
  },
  {
   "cell_type": "markdown",
   "metadata": {},
   "source": [
    "To understand the intuition behind these optimization algorithms, let's continue our analogy from the introduction. Imagine you are blindfolded in a complicated, hilly region. You have been tasked to find the lowest point in this terrain. The hilliness of the terrain represents the loss function of a machine learning model. The overall \"lowest\" (global minimum) point is the optimal solution to the system. \n",
    "\n",
    "Now let's connect some dots: Your current position in the terrain represents the current state of the model's parameters. The height at any point represents the loss value for those parameters. The way you are navigating also corresponds to adjusting the model's parameters in the mathematical sense.\n",
    "\n",
    "Every optimization algorithm is like a strategy to navigate the landscape of this problem successfully, guiding the solver on where to step next and how large those steps should be. Some algorithms scan the entire area before deciding on a next move, while others rely on limited information to be faster. Still other algorithms use tools like momentum and step-size adaptation: a good solver knows when to push its way through a problem and when to ease up. "
   ]
  },
  {
   "cell_type": "markdown",
   "metadata": {},
   "source": [
    "### Gradient Descent"
   ]
  },
  {
   "cell_type": "markdown",
   "metadata": {},
   "source": [
    "Gradient Descent is the holy grail of optimization in machine learning, as it sets the foundation many algorithms build upon. \n",
    "\n",
    "If you use Gradient Descent (GD), you carefully feel the entire area around you (using the full dataset) before taking each step. This thorough examination allows you to make very accurate decisions about which way is downhill, but it takes a lot of time. You always move in the direction of steepest descent, which means you'll consistently move towards lower ground. However, if you reach a small depression (local minimum), you might get stuck there, unable to detect that there's an even lower point elsewhere.\n",
    "\n",
    "Key features of GD:\n",
    "- Uses the entire dataset for each step\n",
    "- Consistent, but potentially slow\n",
    "- Can get stuck in local minima"
   ]
  },
  {
   "cell_type": "markdown",
   "metadata": {},
   "source": [
    "### Stochastic Gradient Descent (SGD)"
   ]
  },
  {
   "cell_type": "markdown",
   "metadata": {},
   "source": [
    "In this scenario, you are hurrying and lack time to sense the full region around you. Instead, you check just one random spot close to your feet (one data point). This makes each step faster but less accurate. Your path is more erratic than that of gradient descent; actually, it sometimes looks like the path of a drunken sailor. You may occasionally go uphill. This noisy path might actually be the biggest advantage: you're very likely escape local minima. But as you get closer to the bottom, you need to take smaller steps (decrease the learning rate) to avoid overshooting the lowest point.\n",
    "\n",
    "Key features of SGD:\n",
    "- Uses only one random data point for each step\n",
    "- Faster iterations, but noisier path\n",
    "- Can escape local minima more easily\n",
    "- Learning rate often needs to be decreased over time"
   ]
  },
  {
   "cell_type": "markdown",
   "metadata": {},
   "source": [
    "> Note: At this point, I highly recommend reading our [separate article on GD and SGD](https://www.datacamp.com/tutorial/stochastic-gradient-descent), as it covers the details of these two critical algorithms in much more depth. It will also help you understand the upcoming coding section more clearly."
   ]
  },
  {
   "cell_type": "markdown",
   "metadata": {},
   "source": [
    "### SGD With Momentum"
   ]
  },
  {
   "cell_type": "markdown",
   "metadata": {},
   "source": [
    "You're now on a skateboard among the hills. When you push off in a direction, the momentum of the skateboard keeps you pretty much moving in the same direction for a while. This momentum is like a moving average of your past directions. It helps you get past small bumps and local dips, maybe even helping you find a point that's lower in elevation farther along. If you've been moving in a direction for a little while, the momentum builds, and you go faster. This way, you can converge on the lowest point more quickly, especially in terrains with consistent downward slope.\n",
    "\n",
    "Key features of SGD with Momentum:\n",
    "- Accumulates a moving average of past gradients\n",
    "- Helps navigate past small local variations\n",
    "- Can lead to faster convergence"
   ]
  },
  {
   "cell_type": "markdown",
   "metadata": {},
   "source": [
    "### RMSprop (Root Mean Square Propagation)"
   ]
  },
  {
   "cell_type": "markdown",
   "metadata": {},
   "source": [
    "Think about having high-tech shoes that can adjust their grip based on the terrain you are walking on. These shoes track the gradient of the ground in each direction, keeping an exponentially decaying average of squared gradients. In areas where the slope changes a lot, the shoes give you more grip, allowing you to take smaller, more careful steps. In smoother areas with consistent slopes, the shoes give you longer strides. This adaptive \"step size\" helps you navigate both steep and shallow slopes effectively, preventing you from taking too large a step in a steep area or too small a step in a flat area.\n",
    "\n",
    "Key features of RMSprop:\n",
    "\n",
    "- Adaptive learning rates for each parameter\n",
    "- Divides the learning rate by an exponentially decaying average of squared gradients\n",
    "- Helps with navigating areas of different steepness"
   ]
  },
  {
   "cell_type": "markdown",
   "metadata": {},
   "source": [
    "## The Intuition Behind ADAM"
   ]
  },
  {
   "cell_type": "markdown",
   "metadata": {},
   "source": [
    "Adam is like merging your skateboard (momentum) with your adaptive shoes (RMSprop) and adding a smart navigation system to the mix. \n",
    "\n",
    "The skateboard part (momentum) keeps you going in the right general direction. This means that in downhill, smooth, and consistent regions, Adam allows you to move rapidly. In tricky, variable terrain it helps you maintain a steady but cautious pace. \n",
    "\n",
    "The adaptive shoes (RMSprop) sense where you're going and adjust the skateboard's grip. The smart navigation system (bias correction) in Adam is especially important at the start of your journey where you start off from a random point and don't know much about the terrain. \n",
    "\n",
    "This combination of attributes is why Adam often finds the lowest point (the solution to the problem) in a very efficient manner and why its structure can handle different types of terrain (different types of machine learning problems) well.\n",
    "\n",
    "Key features of Adam:\n",
    "- Combines ideas from both momentum and RMSprop\n",
    "- Maintains an exponentially decaying average of past gradients and past squared gradients\n",
    "- Adaptive learning rates for each parameter\n",
    "- Bias correction for the initial steps\n",
    "\n",
    "-----\n",
    "\n",
    "As you have observed, each of the mentioned algorithms build upon the previous ones, aiming to optimize the process of finding the lowest point by addressing different challenges found in in various types of optimization problems. "
   ]
  },
  {
   "cell_type": "markdown",
   "metadata": {},
   "source": [
    "## ADAM vs. Other Optimization Algorithms"
   ]
  },
  {
   "cell_type": "markdown",
   "metadata": {},
   "source": [
    "Before we get to the hairy details of implementing Adam and other mentioned algorithms, let me share with you a summary table comparing the runtime and RMSE performance of them on a sample regression problem:"
   ]
  },
  {
   "cell_type": "code",
   "execution_count": 4,
   "metadata": {},
   "outputs": [
    {
     "data": {
      "text/html": [
       "<div>\n",
       "<style scoped>\n",
       "    .dataframe tbody tr th:only-of-type {\n",
       "        vertical-align: middle;\n",
       "    }\n",
       "\n",
       "    .dataframe tbody tr th {\n",
       "        vertical-align: top;\n",
       "    }\n",
       "\n",
       "    .dataframe thead th {\n",
       "        text-align: right;\n",
       "    }\n",
       "</style>\n",
       "<table border=\"1\" class=\"dataframe\">\n",
       "  <thead>\n",
       "    <tr style=\"text-align: right;\">\n",
       "      <th></th>\n",
       "      <th>Optimization Method</th>\n",
       "      <th>Runtime (seconds)</th>\n",
       "      <th>Actual RMSE</th>\n",
       "    </tr>\n",
       "  </thead>\n",
       "  <tbody>\n",
       "    <tr>\n",
       "      <th>0</th>\n",
       "      <td>SGD</td>\n",
       "      <td>49.6804</td>\n",
       "      <td>1424002054.8658</td>\n",
       "    </tr>\n",
       "    <tr>\n",
       "      <th>1</th>\n",
       "      <td>SGD with Momentum</td>\n",
       "      <td>51.9166</td>\n",
       "      <td>14239929470.0458</td>\n",
       "    </tr>\n",
       "    <tr>\n",
       "      <th>2</th>\n",
       "      <td>RMSprop</td>\n",
       "      <td>41.6389</td>\n",
       "      <td>137715232.4602</td>\n",
       "    </tr>\n",
       "    <tr>\n",
       "      <th>3</th>\n",
       "      <td>ADAM</td>\n",
       "      <td>1.8514</td>\n",
       "      <td>1570.1177</td>\n",
       "    </tr>\n",
       "  </tbody>\n",
       "</table>\n",
       "</div>"
      ],
      "text/plain": [
       "  Optimization Method  Runtime (seconds)      Actual RMSE\n",
       "0                 SGD            49.6804  1424002054.8658\n",
       "1   SGD with Momentum            51.9166 14239929470.0458\n",
       "2             RMSprop            41.6389   137715232.4602\n",
       "3                ADAM             1.8514        1570.1177"
      ]
     },
     "execution_count": 4,
     "metadata": {},
     "output_type": "execute_result"
    }
   ],
   "source": [
    "import pandas as pd\n",
    "\n",
    "# Disable scientific notation\n",
    "pd.set_option(\"display.float_format\", \"{:.4f}\".format)\n",
    "\n",
    "comparison_table = pd.read_csv('optimization_results.csv')\n",
    "\n",
    "comparison_table"
   ]
  },
  {
   "cell_type": "markdown",
   "metadata": {},
   "source": [
    "This table doesn't do justice to the vast difference between Adam and the rest, so let me draw up a bar chart:"
   ]
  },
  {
   "cell_type": "markdown",
   "metadata": {},
   "source": [
    "![](images/optimization_comparison_log.png)"
   ]
  },
  {
   "cell_type": "markdown",
   "metadata": {},
   "source": [
    "The plot compares both runtime and RMSE scores of the four algorithms used on a simple regression tasks. As you can see, the differences are staggering (remember, the results are in logarithmic-scale) indicating that Adam is by far the most superior choice for most optimization tasks.\n",
    "\n",
    "We will look the code that generated the table and this plot later on."
   ]
  },
  {
   "cell_type": "markdown",
   "metadata": {},
   "source": [
    "## Implementing ADAM in Python"
   ]
  },
  {
   "cell_type": "markdown",
   "metadata": {},
   "source": [
    "Now that we have covered the prerequisite concepts to Adam and its intuition, we can start implementing it in Python. Along the way, we will explain any math necessary to understand the implementation. We will build up the code step-by-step, starting with Stochastic Gradient Descent."
   ]
  },
  {
   "cell_type": "markdown",
   "metadata": {},
   "source": [
    "### Implementing SGD with Mini-batches"
   ]
  },
  {
   "cell_type": "markdown",
   "metadata": {},
   "source": [
    "Earlier, we mentioned that SGD uses only a single data point to decide where to move next. In practice, this vanilla version of SGD is rarely used as its results can be noisy (its path in the hills erratic). To mitigate this, professionals often use a variation called Mini-Batch Gradient Descent that uses batches of data points, like 32, 64 or 128, before taking each step (this is like scanning a narrow path instead of the 360-degree view before taking a step). So, we will build up the foundational code for Adam with this version of SGD.\n",
    "\n",
    "To keep the code as simple as possible, we will choose a small regression problem: predicting diamond prices given their carat measurements. \n",
    "\n",
    "Let's first import necessary libraries:"
   ]
  },
  {
   "cell_type": "code",
   "execution_count": 6,
   "metadata": {},
   "outputs": [],
   "source": [
    "import seaborn as sns\n",
    "import numpy as np\n",
    "import pandas as pd\n",
    "import warnings\n",
    "\n",
    "warnings.filterwarnings(\"ignore\")\n",
    "np.random.seed(42)"
   ]
  },
  {
   "cell_type": "markdown",
   "metadata": {},
   "source": [
    "Next, we load the Diamonds dataset from Seaborn, take a sample from it and build the feature and target arrays:"
   ]
  },
  {
   "cell_type": "code",
   "execution_count": 7,
   "metadata": {},
   "outputs": [
    {
     "data": {
      "text/plain": [
       "(20000, 2)"
      ]
     },
     "execution_count": 7,
     "metadata": {},
     "output_type": "execute_result"
    }
   ],
   "source": [
    "# Load the data\n",
    "dataset_size = 20_000\n",
    "diamonds = sns.load_dataset(\"diamonds\")\n",
    "\n",
    "# Extract the target and the feature\n",
    "xy = diamonds[[\"carat\", \"price\"]].values\n",
    "np.random.shuffle(xy)  # Shuffle the data\n",
    "xy = xy[:dataset_size]\n",
    "\n",
    "xy.shape"
   ]
  },
  {
   "cell_type": "markdown",
   "metadata": {},
   "source": [
    "Linear Regression requires us to normalize the data:"
   ]
  },
  {
   "cell_type": "code",
   "execution_count": 8,
   "metadata": {},
   "outputs": [],
   "source": [
    "# Normalize the data\n",
    "mean = np.mean(xy, axis=0)\n",
    "std = np.std(xy, axis=0)\n",
    "xy_normalized = (xy - mean) / std"
   ]
  },
  {
   "cell_type": "markdown",
   "metadata": {},
   "source": [
    "Now, we can split the data to create training and test sets:"
   ]
  },
  {
   "cell_type": "code",
   "execution_count": 9,
   "metadata": {},
   "outputs": [
    {
     "data": {
      "text/plain": [
       "(16000, 2)"
      ]
     },
     "execution_count": 9,
     "metadata": {},
     "output_type": "execute_result"
    }
   ],
   "source": [
    "# Split the data\n",
    "train_size = int(0.8 * dataset_size)\n",
    "train_xy, test_xy = xy[:train_size], xy[train_size:]\n",
    "\n",
    "train_xy.shape"
   ]
  },
  {
   "cell_type": "markdown",
   "metadata": {},
   "source": [
    "To solve the task, we have a range of models at our disposal, but to keep things simple, we will choose Simple Linear Regression and define it as a function:"
   ]
  },
  {
   "cell_type": "code",
   "execution_count": 4,
   "metadata": {},
   "outputs": [],
   "source": [
    "def model(m, x, b):\n",
    "    \"\"\"\n",
    "    Simple Linear Regression: f(x) = m * x + b, where\n",
    "    - x: diamond carat\n",
    "    - m: price increase per carat\n",
    "    - b: base diamond price\n",
    "    - f(x): predicted diamond price\n",
    "    \"\"\"\n",
    "    \n",
    "    return m * x + b"
   ]
  },
  {
   "cell_type": "markdown",
   "metadata": {},
   "source": [
    "Our Linear Regression model has only two parameters, `m` and `b`, so the task for SGD (and later, for Adam) is to find optimal values for them. \n",
    "\n",
    "We should also define the loss function, Mean Squared Error, which will be minimized by our algorithms:"
   ]
  },
  {
   "cell_type": "code",
   "execution_count": 5,
   "metadata": {},
   "outputs": [],
   "source": [
    "def mean_squared_error(y_true, y_pred):\n",
    "    \"\"\"\n",
    "    MSE as a loss function. It is defined as:\n",
    "\n",
    "    Loss = (1/n) * Σ((y - f(x))²), where:\n",
    "    - n: the length of the dataset\n",
    "    - y: the true diamond price\n",
    "    - f(x): predicted diamond price, i.e. m*x + b\n",
    "    \"\"\"\n",
    "\n",
    "    return np.mean((y_true - y_pred) ** 2)"
   ]
  },
  {
   "attachments": {
    "image.png": {
     "image/png": "[encoded data removed]"
    }
   },
   "cell_type": "markdown",
   "metadata": {},
   "source": [
    "![image.png](attachment:image.png)"
   ]
  },
  {
   "cell_type": "markdown",
   "metadata": {},
   "source": [
    "Now, we define a function called `stochastic_gradient_descent` that accepts six arguments:\n",
    "\n",
    "- `x` and `y` represent the single feature and target in our problem\n",
    "- `epochs` denotes how many times we want to perform the descent (more on this later)\n",
    "- `learning_rate` is the step size\n",
    "- `batch_size` to control how frequently we make parameter updates\n",
    "- `stopping_threshold` sets the minimum value the loss should decrease at each step"
   ]
  },
  {
   "cell_type": "markdown",
   "metadata": {},
   "source": [
    "```python\n",
    "def stochastic_gradient_descent(\n",
    "    x, y, epochs=100, learning_rate=0.01, batch_size=32, stopping_threshold=1e-6\n",
    "):\n",
    "    \"\"\"\n",
    "    SGD with support for mini-batches.\n",
    "    \"\"\"\n",
    "\n",
    "    # Initialize the model parameters randomly\n",
    "    m = np.random.randn()\n",
    "    b = np.random.randn()\n",
    "    n = len(x)  # The number of data points\n",
    "    previous_loss = np.inf\n",
    "```"
   ]
  },
  {
   "cell_type": "markdown",
   "metadata": {},
   "source": [
    "Inside the function, we first initialize the parameters we want to optimize with random values (starting at a random location in the hills). We also set initial loss to infinity, representing the unsolved state of our problem.\n",
    "\n",
    "Then, we start a `for` loop that runs for `epochs` iterations. Inside the loop, we shuffle the data to prevent learning order-dependent patters in the data:"
   ]
  },
  {
   "cell_type": "markdown",
   "metadata": {},
   "source": [
    "```python\n",
    "def stochastic_gradient_descent(...):\n",
    "    ...\n",
    "    for i in range(epochs):\n",
    "        # Shuffle the data\n",
    "        indices = np.random.permutation(n)\n",
    "        x = x[indices]\n",
    "        y = y[indices]\n",
    "```"
   ]
  },
  {
   "cell_type": "markdown",
   "metadata": {},
   "source": [
    "Then, we start another loop controlled by the `batch_size` parameter and extract the current batch:"
   ]
  },
  {
   "cell_type": "markdown",
   "metadata": {},
   "source": [
    "```python\n",
    "def stochastic_gradient_descent(...):\n",
    "    ...\n",
    "    for i in range(epochs):\n",
    "        ...\n",
    "        for j in range(0, n, batch_size):\n",
    "            # Extract the current batch\n",
    "            x_batch = x[j:j + batch_size]\n",
    "            y_batch = y[j:j + batch_size]\n",
    "```"
   ]
  },
  {
   "cell_type": "markdown",
   "metadata": {},
   "source": [
    "Inside this inner loop, we calculate the gradients (partial derivatives) for both parameters (indicating where we need to step next):"
   ]
  },
  {
   "cell_type": "markdown",
   "metadata": {},
   "source": [
    "```python\n",
    "def stochastic_gradient_descent(...):\n",
    "    ...\n",
    "    for i in range(epochs):\n",
    "        ...\n",
    "        for j in range(0, n, batch_size):\n",
    "            # Extract the current batch\n",
    "            ...\n",
    "            # Make predictions with current m, b\n",
    "            y_pred = model(m, x_batch, b)\n",
    "            # Compute the gradients\n",
    "            m_gradient = 2 * np.mean(x_batch * (y_batch - y_pred))\n",
    "            b_gradient = 2 * np.mean(y_batch - y_pred)\n",
    "```"
   ]
  },
  {
   "cell_type": "markdown",
   "metadata": {},
   "source": [
    "After calculating the gradients, there is a critical step of clipping the gradients:"
   ]
  },
  {
   "cell_type": "markdown",
   "metadata": {},
   "source": [
    "```python\n",
    "def stochastic_gradient_descent(...):\n",
    "    ...\n",
    "    for i in range(epochs):\n",
    "        ...\n",
    "        for j in range(0, n, batch_size):\n",
    "            # Extract the current batch\n",
    "            ...\n",
    "            # Compute the gradients\n",
    "            ... \n",
    "            # Gradient clipping\n",
    "            clip_value = 1.0\n",
    "            m_gradient = np.clip(m_gradient, -clip_value, clip_value)\n",
    "            b_gradient = np.clip(b_gradient, -clip_value, clip_value)\n",
    "```"
   ]
  },
  {
   "cell_type": "markdown",
   "metadata": {},
   "source": [
    "Gradient clipping prevents the common _exploding gradients_ problem, where the magnitude of gradients go towards infinity."
   ]
  },
  {
   "cell_type": "markdown",
   "metadata": {},
   "source": [
    "After clipping, we update the parameters using the learning rate (we take a step in the direction of the gradients controlled by learning rate):"
   ]
  },
  {
   "cell_type": "markdown",
   "metadata": {},
   "source": [
    "```python\n",
    "def stochastic_gradient_descent(...):\n",
    "    ...\n",
    "    for i in range(epochs):\n",
    "        ...\n",
    "        for j in range(0, n, batch_size):\n",
    "            # Extract the current batch\n",
    "            ...\n",
    "            # Compute the gradients\n",
    "            ...\n",
    "            # Gradient clipping\n",
    "            ...\n",
    "            # Update the model parameters\n",
    "            m -= learning_rate * m_gradient\n",
    "            b -= learning_rate * b_gradient\n",
    "```"
   ]
  },
  {
   "cell_type": "markdown",
   "metadata": {},
   "source": [
    "Now, under the parent loop (after all batches have been explored), we calculate the loss for the current epoch (look at how far we have descended from our initial position):"
   ]
  },
  {
   "cell_type": "markdown",
   "metadata": {},
   "source": [
    "```python\n",
    "def stochastic_gradient_descent(...):\n",
    "    ...\n",
    "    for i in range(epochs):\n",
    "        ...\n",
    "        for j in range(0, n, batch_size):\n",
    "            # Extract the current batch\n",
    "            ...\n",
    "            # Compute the gradients\n",
    "            ...\n",
    "            # Gradient clipping\n",
    "            ...\n",
    "            # Update the model parameters\n",
    "            ...\n",
    "        # Compute the epoch loss\n",
    "        y_pred = model(m, x, b)\n",
    "        current_loss = loss(y, y_pred)\n",
    "```"
   ]
  },
  {
   "cell_type": "markdown",
   "metadata": {},
   "source": [
    "If the epoch loss is smaller than the `stopping_threshold`, we stop the entire process:"
   ]
  },
  {
   "cell_type": "markdown",
   "metadata": {},
   "source": [
    "```python\n",
    "def stochastic_gradient_descent(...):\n",
    "    ...\n",
    "    for i in range(epochs):\n",
    "        ...\n",
    "        for j in range(0, n, batch_size):\n",
    "            # Extract the current batch\n",
    "            ...\n",
    "            # Compute the gradients\n",
    "            ...\n",
    "            # Gradient clipping\n",
    "            ...\n",
    "            # Update the model parameters\n",
    "            ...\n",
    "        # Compute the epoch loss\n",
    "        ...\n",
    "        # Check against the stopping threshold\n",
    "        if abs(previous_loss - current_loss) < stopping_threshold:\n",
    "            break\n",
    "        previous_loss = current_loss\n",
    "```"
   ]
  },
  {
   "cell_type": "markdown",
   "metadata": {},
   "source": [
    "In the end (after epochs run out or the stopping threshold is met), we return `m` and `b` which are now optimized:"
   ]
  },
  {
   "cell_type": "markdown",
   "metadata": {},
   "source": [
    "```python\n",
    "def stochastic_gradient_descent(...):\n",
    "    ...\n",
    "    for i in range(epochs):\n",
    "        ...\n",
    "        for j in range(0, n, batch_size):\n",
    "            # Extract the current batch\n",
    "            ...\n",
    "            # Compute the gradients\n",
    "            ...\n",
    "            # Gradient clipping\n",
    "            ...\n",
    "            # Update the model parameters\n",
    "            ...\n",
    "        # Compute the epoch loss\n",
    "        ...\n",
    "        # Check against the stopping threshold\n",
    "        ...\n",
    "    return m, b\n",
    "```"
   ]
  },
  {
   "cell_type": "markdown",
   "metadata": {},
   "source": [
    "### SGD With Momentum"
   ]
  },
  {
   "cell_type": "markdown",
   "metadata": {},
   "source": [
    "Now, let's add momentum to SGD. This version's code ins't much different from the mini-batch version. \n",
    "\n",
    "We define a new function with a `momentum` parameter:"
   ]
  },
  {
   "cell_type": "markdown",
   "metadata": {},
   "source": [
    "```python\n",
    "def stochastic_gradient_descent_with_momentum(\n",
    "        x, y, epochs=100, learning_rate=0.01, batch_size=32, \n",
    "        stopping_threshold=1e-6, momentum=0.9\n",
    "):\n",
    "\n",
    "    \"\"\"\n",
    "    SGD with momentum and support for mini-batches.\n",
    "    \"\"\"\n",
    "    # Initialize the model parameters randomly\n",
    "    m = np.random.randn()\n",
    "    b = np.random.randn()\n",
    "\n",
    "    # Initialize velocity terms\n",
    "    v_m = 0\n",
    "    v_b = 0\n",
    "    \n",
    "    n = len(x)\n",
    "    previous_loss = np.inf\n",
    "```"
   ]
  },
  {
   "cell_type": "markdown",
   "metadata": {},
   "source": [
    "Inside the function, we will define two more variables `v_m` and `v_b` to keep track of the accumulating gradients that will serve as our momentum. We set them to 0 at first, since we don't have any momentum at the start of the algorithm.\n",
    "\n",
    "Then, the rest of the code is the same until after we clip the gradients:"
   ]
  },
  {
   "cell_type": "markdown",
   "metadata": {},
   "source": [
    "```python\n",
    "def sgd_with_momentum(...):\n",
    "    ...\n",
    "    for i in range(epochs):\n",
    "        ...\n",
    "        for j in range(0, n, batch_size):\n",
    "            # Extract the current batch\n",
    "            ...\n",
    "            # Compute the gradients\n",
    "            ...\n",
    "            # Gradient clipping\n",
    "            ...\n",
    "            # Update velocity terms\n",
    "            v_m = momentum * v_m + learning_rate * m_gradient\n",
    "            v_b = momentum * v_b + learning_rate * b_gradient\n",
    "\n",
    "            # Update the model parameters using velocity\n",
    "            m -= v_m\n",
    "            b -= v_b\n",
    "```"
   ]
  },
  {
   "cell_type": "markdown",
   "metadata": {},
   "source": [
    "Once the gradients are clipped, we use the momentum's update rule to modify the velocity terms. Here is a higher-level view of the code:"
   ]
  },
  {
   "cell_type": "markdown",
   "metadata": {},
   "source": [
    "```py\n",
    "# Initialize\n",
    "v_m = 0\n",
    "v_b = 0\n",
    "\n",
    "...\n",
    "# Update velocity terms\n",
    "v_m = momentum * v_m + learning_rate * m_gradient\n",
    "v_b = momentum * v_b + learning_rate * b_gradient\n",
    "\n",
    "# Update the model parameters using velocity\n",
    "m -= v_m\n",
    "b -= v_b\n",
    "```"
   ]
  },
  {
   "cell_type": "markdown",
   "metadata": {},
   "source": [
    "The velocity `v_*` accumulates gradients over time. This means that if we are moving in a consistent direction, we will build up speed in that direction. \n",
    "\n",
    "In areas where the gradient changes rapidly (like narrow valleys in the loss landscape), the momentum helps to dampen oscillations. We develop enough inertia to not get stuck in small local variations such as local minima or saddle points.\n",
    "\n",
    "The `momentum * v_m` part is what accumulates the gradients. For example, if we have a large positive gradient, then its velocity will be similarly large and the update to the parameter even larger. So, a momentum of 0.9 means we preserve 90% of the velocity of the previous change for the next step. At each step N, we will be using 90% of the total velocity of gradients from N-1 steps.\n",
    "\n",
    "At this point, I encourage you to come up with some random values to `m` and `b` and their gradients and use the momentum's update rule to see how the parameters change if you go uphill or downhill. "
   ]
  },
  {
   "cell_type": "markdown",
   "metadata": {},
   "source": [
    "### RMSprop"
   ]
  },
  {
   "cell_type": "markdown",
   "metadata": {},
   "source": [
    "Now, let's see RMSprop's implementation. Like SGD with momentum, the major change comes in making parameter updates.\n",
    "\n",
    "First, we define a new function with two extra parameters, `beta` and  `epsilon` (without momentum):"
   ]
  },
  {
   "cell_type": "markdown",
   "metadata": {},
   "source": [
    "```python\n",
    "def rmsprop_optimization(\n",
    "    x, y, epochs=100, learning_rate=0.01, batch_size=32,\n",
    "    stopping_threshold=1e-6, beta=0.9, epsilon=1e-8,\n",
    "):\n",
    "    \"\"\"\n",
    "    RMSprop optimization with support for mini-batches.\n",
    "    \"\"\"\n",
    "    # Initialize the model parameters randomly\n",
    "    m = np.random.randn()\n",
    "    b = np.random.randn()\n",
    "\n",
    "    # Initialize accumulators for squared gradients\n",
    "    s_m = 0\n",
    "    s_b = 0\n",
    "\n",
    "    n = len(x)\n",
    "    previous_loss = np.inf\n",
    "```"
   ]
  },
  {
   "cell_type": "markdown",
   "metadata": {},
   "source": [
    "Also, inside the function, we create two new variables to accumulate _squared gradients_, `s_m` and `s_b`. \n",
    "\n",
    "Now, when we get to the update stage, we recalculate the squared gradients and then, update the parameters:"
   ]
  },
  {
   "cell_type": "markdown",
   "metadata": {},
   "source": [
    "```python\n",
    "def rmsprop_optimization(...):\n",
    "    ...\n",
    "    for i in range(epochs):\n",
    "        ...\n",
    "        for j in range(0, n, batch_size):\n",
    "            # Extract the current batch\n",
    "            ...\n",
    "            # Compute the gradients\n",
    "            ...\n",
    "            # RMSprop doesn't need gradient clipping\n",
    "            # Update accumulators\n",
    "            s_m = beta * s_m + (1 - beta) * (m_gradient**2)\n",
    "            s_b = beta * s_b + (1 - beta) * (b_gradient**2)\n",
    "\n",
    "            # Update parameters\n",
    "            m -= learning_rate * m_gradient / (np.sqrt(s_m) + epsilon)\n",
    "            b -= learning_rate * b_gradient / (np.sqrt(s_b) + epsilon)\n",
    "\n",
    "            # The rest of the code is the same\n",
    "```"
   ]
  },
  {
   "cell_type": "markdown",
   "metadata": {},
   "source": [
    "Here, we see two new parameters in use:\n",
    "- `epsilon` is a small value, typically 1e-8 to prevent division by zero when making updates.\n",
    "- `beta` is the decay rate parameter, usually around 0.9.\n",
    "\n",
    "The `beta` parameter controls how much history we consider. A higher beta means we take a longer-term view of past gradients, while a lower beta makes the algorithm more responsive to recent gradients. \n",
    "\n",
    "You don't need to worry about the math behind the update rule for RMSprop. What's important is the logic behind them. \n",
    "\n",
    "Essentially, what the four lines above are doing is:\n",
    "1. Adapting the learning rate for each parameter, which is crucial as different parameters may require different learning rates.\n",
    "2. Handling the \"vanishing gradient\" problem common in neural networks where gradients become too small because of backpropagation. This effect is mitigated by normalizing the gradients.\n",
    "3. Balancing the step size:\n",
    "    - For parameters with large gradients (frequently updated), the squared gradient sum in the denominator will be large, reducing the effective learning rate.\n",
    "    - For parameters with small gradients (infrequently updated), the denominator will be smaller, increasing the effective learning rate.\n",
    "\n",
    "In practice, RMSprop often performs better than basic SGD or SGD with momentum, especially for non-convex optimization problems often encountered in deep learning. "
   ]
  },
  {
   "cell_type": "markdown",
   "metadata": {},
   "source": [
    "## Finally, implementing ADAM in Python"
   ]
  },
  {
   "cell_type": "markdown",
   "metadata": {},
   "source": [
    "Again, we define a new function:"
   ]
  },
  {
   "cell_type": "markdown",
   "metadata": {},
   "source": [
    "```python\n",
    "def adam_optimization(\n",
    "    x,\n",
    "    y,\n",
    "    epochs=100,\n",
    "    learning_rate=0.001,\n",
    "    batch_size=32,\n",
    "    stopping_threshold=1e-6,\n",
    "    beta1=0.9,\n",
    "    beta2=0.999,\n",
    "    epsilon=1e-8,\n",
    "):\n",
    "    \"\"\"\n",
    "    ADAM optimization with support for mini-batches.\n",
    "    \"\"\"\n",
    "    # Initialize the model parameters\n",
    "    m = np.random.randn()\n",
    "    b = np.random.randn()\n",
    "\n",
    "    # Initialize first and second moment vectors\n",
    "    m_m, v_m = 0, 0\n",
    "    m_b, v_b = 0, 0\n",
    "\n",
    "    n = len(x)\n",
    "    previous_loss = np.inf\n",
    "    t = 0  # Initialize timestep\n",
    "```"
   ]
  },
  {
   "cell_type": "markdown",
   "metadata": {},
   "source": [
    "This time, we define five new variables for capturing first and second moment vectors and the time step. In the context of ADAM:\n",
    "\n",
    "1. The first moment vector (m):\n",
    "- It is an estimate of the mean (first moment) of gradients.\n",
    "- Calculated as exponentially decaying average of past gradients.\n",
    "- Helps in estimating the direction of the gradient.\n",
    "\n",
    "2. The second moment vector (v):\n",
    "- It's an estimate of the uncentered variance (second moment) of the gradients.\n",
    "- Also calculated as an exponentially decaying average, but of squared gradients.\n",
    "- Helps in adapting the learning rate for each parameter.\n",
    "\n",
    "Then, the code is still the same until after we calculate the gradients (we don't need to clip them for ADAM):\n",
    "\n"
   ]
  },
  {
   "cell_type": "markdown",
   "metadata": {},
   "source": [
    "## Creating a Comparison Plot of Optimizers"
   ]
  },
  {
   "cell_type": "markdown",
   "metadata": {},
   "source": [
    "Now, let's see how to generate the summary table we have seen earlier:"
   ]
  },
  {
   "cell_type": "code",
   "execution_count": 10,
   "metadata": {},
   "outputs": [
    {
     "data": {
      "text/html": [
       "<div>\n",
       "<style scoped>\n",
       "    .dataframe tbody tr th:only-of-type {\n",
       "        vertical-align: middle;\n",
       "    }\n",
       "\n",
       "    .dataframe tbody tr th {\n",
       "        vertical-align: top;\n",
       "    }\n",
       "\n",
       "    .dataframe thead th {\n",
       "        text-align: right;\n",
       "    }\n",
       "</style>\n",
       "<table border=\"1\" class=\"dataframe\">\n",
       "  <thead>\n",
       "    <tr style=\"text-align: right;\">\n",
       "      <th></th>\n",
       "      <th>Optimization Method</th>\n",
       "      <th>Runtime (seconds)</th>\n",
       "      <th>Actual RMSE</th>\n",
       "    </tr>\n",
       "  </thead>\n",
       "  <tbody>\n",
       "    <tr>\n",
       "      <th>0</th>\n",
       "      <td>SGD</td>\n",
       "      <td>49.6804</td>\n",
       "      <td>1424002054.8658</td>\n",
       "    </tr>\n",
       "    <tr>\n",
       "      <th>1</th>\n",
       "      <td>SGD with Momentum</td>\n",
       "      <td>51.9166</td>\n",
       "      <td>14239929470.0458</td>\n",
       "    </tr>\n",
       "    <tr>\n",
       "      <th>2</th>\n",
       "      <td>RMSprop</td>\n",
       "      <td>41.6389</td>\n",
       "      <td>137715232.4602</td>\n",
       "    </tr>\n",
       "    <tr>\n",
       "      <th>3</th>\n",
       "      <td>ADAM</td>\n",
       "      <td>1.8514</td>\n",
       "      <td>1570.1177</td>\n",
       "    </tr>\n",
       "  </tbody>\n",
       "</table>\n",
       "</div>"
      ],
      "text/plain": [
       "  Optimization Method  Runtime (seconds)      Actual RMSE\n",
       "0                 SGD            49.6804  1424002054.8658\n",
       "1   SGD with Momentum            51.9166 14239929470.0458\n",
       "2             RMSprop            41.6389   137715232.4602\n",
       "3                ADAM             1.8514        1570.1177"
      ]
     },
     "execution_count": 10,
     "metadata": {},
     "output_type": "execute_result"
    }
   ],
   "source": [
    "comparison_table"
   ]
  },
  {
   "cell_type": "markdown",
   "metadata": {},
   "source": [
    "We define a function called `run_optimization` for training a linear regression model using our optimization functions . The function will also capture the runtime and RMSE scores:"
   ]
  },
  {
   "cell_type": "code",
   "execution_count": 12,
   "metadata": {},
   "outputs": [],
   "source": [
    "import time\n",
    "\n",
    "\n",
    "def run_optimization(opt_func, x, y, **kwargs):\n",
    "    # Start a timer\n",
    "    start_time = time.time()\n",
    "    \n",
    "    # Run the optimization function\n",
    "    m, b = opt_func(x, y, **kwargs)\n",
    "    \n",
    "    # End the timer\n",
    "    end_time = time.time()\n",
    "\n",
    "    # Run the model on the test set with found parameters\n",
    "    y_preds = model(m, test_xy[:, 0], b)\n",
    "    y_preds_denormalized = y_preds * std[1] + mean[1]\n",
    "    y_true_denormalized = test_xy[:, 1] * std[1] + mean[1]\n",
    "    \n",
    "    # Compute MSE and RMSE\n",
    "    actual_mse = np.mean((y_true_denormalized - y_preds_denormalized) ** 2)\n",
    "\n",
    "    return end_time - start_time, np.sqrt(actual_mse)"
   ]
  },
  {
   "cell_type": "markdown",
   "metadata": {},
   "source": [
    "Now, we will call this function four times for each of our optimization functions, storing the results into a list where each item is a three-tuple (algorithm name, run time in seconds, RMSE score):"
   ]
  },
  {
   "cell_type": "markdown",
   "metadata": {},
   "source": [
    "```python\n",
    "# Run all optimization methods\n",
    "results = []\n",
    "\n",
    "results.append(\n",
    "    (\n",
    "        \"SGD\",\n",
    "        *run_optimization(\n",
    "            stochastic_gradient_descent,\n",
    "            train_xy[:, 0],\n",
    "            train_xy[:, 1],\n",
    "            learning_rate=0.1,\n",
    "            epochs=10000,\n",
    "            batch_size=64,\n",
    "        ),\n",
    "    )\n",
    ")\n",
    "\n",
    "results.append(\n",
    "    (\n",
    "        \"SGD with Momentum\",\n",
    "        *run_optimization(\n",
    "            stochastic_gradient_descent_with_momentum,\n",
    "            train_xy[:, 0],\n",
    "            train_xy[:, 1],\n",
    "            learning_rate=0.1,\n",
    "            epochs=10000,\n",
    "            batch_size=64,\n",
    "            momentum=0.9,\n",
    "        ),\n",
    "    )\n",
    ")\n",
    "\n",
    "results.append(\n",
    "    (\n",
    "        \"RMSprop\",\n",
    "        *run_optimization(\n",
    "            rmsprop_optimization,\n",
    "            train_xy[:, 0],\n",
    "            train_xy[:, 1],\n",
    "            learning_rate=0.01,\n",
    "            epochs=10000,\n",
    "            batch_size=64,\n",
    "            beta=0.9,\n",
    "            epsilon=1e-8,\n",
    "        ),\n",
    "    )\n",
    ")\n",
    "\n",
    "results.append(\n",
    "    (\n",
    "        \"ADAM\",\n",
    "        *run_optimization(\n",
    "            adam_optimization,\n",
    "            train_xy[:, 0],\n",
    "            train_xy[:, 1],\n",
    "            learning_rate=0.01,\n",
    "            epochs=10000,\n",
    "            batch_size=64,\n",
    "            beta1=0.9,\n",
    "            beta2=0.999,\n",
    "            epsilon=1e-8,\n",
    "        ),\n",
    "    )\n",
    ")\n",
    "```"
   ]
  },
  {
   "cell_type": "markdown",
   "metadata": {},
   "source": [
    "For a fair comparison, we keep the learning rate, the number of epochs and the batch size the same. \n",
    "\n",
    "Afterwards, we can create our table:"
   ]
  },
  {
   "cell_type": "markdown",
   "metadata": {},
   "source": [
    "```python\n",
    "from tabulate import tabulate  # pip install tabulate\n",
    "\n",
    "# Create and print the table\n",
    "headers = [\"Optimization Method\", \"Runtime (seconds)\", \"Actual RMSE\"]\n",
    "print(tabulate(results, headers=headers, floatfmt=\".4f\"))\n",
    "\n",
    "# Save the table\n",
    "pd.DataFrame(results, columns=headers).to_csv(\"optimization_results.csv\", index=False)\n",
    "```"
   ]
  },
  {
   "cell_type": "markdown",
   "metadata": {},
   "source": [
    "Here is the final result:"
   ]
  },
  {
   "cell_type": "markdown",
   "metadata": {},
   "source": [
    "```python\n",
    "Optimization Method      Runtime (seconds)       Actual RMSE\n",
    "---------------------  -------------------  ----------------\n",
    "SGD                                49.9305   1424002054.8658\n",
    "SGD with Momentum                  50.7744  14239929470.0458\n",
    "RMSprop                            41.9895    137715232.4602\n",
    "ADAM                                1.8462         1570.1177\n",
    "```"
   ]
  },
  {
   "cell_type": "markdown",
   "metadata": {},
   "source": [
    "Before continuing, I encourage to play around with the parameters of each optimization function. It is likely that you can make each, especially ADAM, even faster and more accurate by adjusting the learning rate, increasing batch size or controlling bias.\n",
    "\n",
    "See the conclusion section for links to the full code of the comparison script and how to create the plot we have seen at the beginning."
   ]
  },
  {
   "cell_type": "markdown",
   "metadata": {},
   "source": [
    "## Using ADAM in Pytorch"
   ]
  },
  {
   "cell_type": "markdown",
   "metadata": {},
   "source": [
    "## Conclusion"
   ]
  }
 ],
 "metadata": {
  "kernelspec": {
   "display_name": "pytorch",
   "language": "python",
   "name": "python3"
  },
  "language_info": {
   "codemirror_mode": {
    "name": "ipython",
    "version": 3
   },
   "file_extension": ".py",
   "mimetype": "text/x-python",
   "name": "python",
   "nbconvert_exporter": "python",
   "pygments_lexer": "ipython3",
   "version": "3.9.18"
  }
 },
 "nbformat": 4,
 "nbformat_minor": 2
}
