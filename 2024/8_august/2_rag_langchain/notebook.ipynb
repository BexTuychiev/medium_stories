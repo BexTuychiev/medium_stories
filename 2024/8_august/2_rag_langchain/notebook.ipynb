{
 "cells": [
  {
   "cell_type": "markdown",
   "metadata": {},
   "source": [
    "# Comprehensive Tutorial on Building a RAG Application Using LangChain"
   ]
  },
  {
   "cell_type": "markdown",
   "metadata": {},
   "source": [
    "## Introduction"
   ]
  },
  {
   "cell_type": "markdown",
   "metadata": {},
   "source": [
    "Today’s large language models have access to an ever-growing amount of information. However, there remains a vast trove of private data that these models do not tap into. This is why one of the most popular applications of LLMs in enterprise settings is retrieval-augmented generation—RAG for short. At Vizly, our AI-powered data analysis platform, we have gained valuable insights into building effective RAG systems. In this tutorial, we will share some of our learnings and show you how to create your own RAG system. \n",
    "\n",
    "You will learn how to use LangChain, the massively popular framework for building RAG systems, to build a simple RAG system. By the end of the tutorial, we will have a chatbot (with a Streamlit interface and all) that will RAG its way through some private data to give answers to questions."
   ]
  },
  {
   "cell_type": "markdown",
   "metadata": {},
   "source": [
    "## What is RAG?"
   ]
  },
  {
   "cell_type": "markdown",
   "metadata": {},
   "source": [
    "To clarify what RAG is, let’s consider a simple example.\n",
    "\n",
    "A first-year college student, Chandler, is considering skipping a few classes but wants to ensure he isn’t violating the university attendance policy. Like with anything these days, he asks ChatGPT the question.\n",
    "\n",
    "Of course, ChatGPT can’t answer it. The chatbot isn’t dumb — it just doesn’t have access to Chandler’s university documents. So, Chandler finds the policy document himself and discovers that it is a long, technical read he doesn’t want to wade through.\n",
    "\n",
    "Instead, he gives the entire document to ChatGPT and asks the question again. This time, he gets his answer.\n",
    "This is an individual case of retrieval-augmented generation. The language model’s answer (generation) is augmented (enriched) by context retrieved from a source not part of its original training.\n",
    "\n",
    "A scalable version of a RAG system would be able to answer any student question by searching university documents itself, finding the relevant ones, and retrieving chunks of text that most likely contain the answer.\n",
    "Generally speaking, in a RAG system, you retrieve information from a private data source and feed it to a language model, enabling the model to give a contextually relevant answer. "
   ]
  },
  {
   "cell_type": "markdown",
   "metadata": {},
   "source": [
    "## Components of a RAG Application"
   ]
  },
  {
   "cell_type": "markdown",
   "metadata": {},
   "source": [
    "Such a system, despite sounding straightforward, would have a lot of moving components. Before building one ourselves, we need to review what they are and how they play together."
   ]
  },
  {
   "cell_type": "markdown",
   "metadata": {},
   "source": [
    "### Documents"
   ]
  },
  {
   "cell_type": "markdown",
   "metadata": {},
   "source": [
    "The first component is a document or a collection of documents. Based on the type of RAG system we are building, the documents can be text files, PDFs, web pages (RAG over unstructured data) or graph, SQL, NoSQL databases (RAG over structured data). They are used to ingest various types of data into the system."
   ]
  },
  {
   "cell_type": "markdown",
   "metadata": {},
   "source": [
    "### Document loaders"
   ]
  },
  {
   "cell_type": "markdown",
   "metadata": {},
   "source": [
    "LangChain implements hundreds of classes called _document loaders_ to read data from various document sources such as PDFs, Slack, Notion, Google Drive, and so on. \n",
    "\n",
    "Each DocumentLoader class is unique but they all share the same `.load()` method. For example, here is how you can load a PDF document and a webpage in LangChain:"
   ]
  },
  {
   "cell_type": "code",
   "execution_count": 6,
   "metadata": {},
   "outputs": [],
   "source": [
    "from langchain_community.document_loaders import PyPDFLoader, WebBaseLoader  # pip install langchain-community\n",
    "\n",
    "pdf_loader = PyPDFLoader(\"framework_docs.pdf\")\n",
    "web_loader = WebBaseLoader(\n",
    "    \"https://python.langchain.com/v0.2/docs/concepts/#document-loaders\"\n",
    ")\n",
    "\n",
    "pdf_docs = pdf_loader.load()\n",
    "web_docs = web_loader.load()"
   ]
  },
  {
   "cell_type": "markdown",
   "metadata": {},
   "source": [
    "The PyPDFLoader class handles PDF files using the PyPDF2 package under the hood, while the `WebBaseLoader` scrapes the given webpage contents. \n",
    "\n",
    "`pdf_docs` contains four document objects, one for each page:"
   ]
  },
  {
   "cell_type": "code",
   "execution_count": 12,
   "metadata": {},
   "outputs": [
    {
     "data": {
      "text/plain": [
       "4"
      ]
     },
     "execution_count": 12,
     "metadata": {},
     "output_type": "execute_result"
    }
   ],
   "source": [
    "len(pdf_docs)"
   ]
  },
  {
   "cell_type": "markdown",
   "metadata": {},
   "source": [
    "While `web_docs` contain only one:"
   ]
  },
  {
   "cell_type": "code",
   "execution_count": 18,
   "metadata": {},
   "outputs": [
    {
     "name": "stdout",
     "output_type": "stream",
     "text": [
      "You can view the v0.1 docs here.IntegrationsAPI referenceLatestLegacyMorePeopleContributingCookbooks3rd party tutorialsYouTubearXivv0.2v0.2v0.1🦜️🔗LangSmithLangSmith DocsLangCh\n"
     ]
    }
   ],
   "source": [
    "print(web_docs[0].page_content[125:300].strip())"
   ]
  },
  {
   "cell_type": "markdown",
   "metadata": {},
   "source": [
    "These document objects are later given to embedding models to understand the semantic meaning behind their text. \n",
    "\n",
    "For specifics on other types of document loaders, LangChain offers a [dedicated how-to page](https://python.langchain.com/v0.2/docs/how_to/#document-loaders)."
   ]
  },
  {
   "cell_type": "markdown",
   "metadata": {},
   "source": [
    "### Text splitters"
   ]
  },
  {
   "cell_type": "markdown",
   "metadata": {},
   "source": [
    "Once you have loaded your documents, it is crucial to break them down into smaller and more manageable chunks of text. Here are the main reasons:\n",
    "\n",
    "1. Many embedding models (more on them later) have a maximum token limit.\n",
    "2. Retrieval is more accurate when you have smaller chunks.\n",
    "3. The language model is fed the exact context.\n",
    "\n",
    "LangChain offers many types of text splitters under its `langchain_text_splitters` package and they differ based on document type. \n",
    "\n",
    "Here is how to use `RecursiveCharacterTextSplitter` to split plain text based on a list of separators and chunk size:"
   ]
  },
  {
   "cell_type": "code",
   "execution_count": null,
   "metadata": {},
   "outputs": [],
   "source": [
    "!pip install langchain_text_splitters"
   ]
  },
  {
   "cell_type": "code",
   "execution_count": 20,
   "metadata": {},
   "outputs": [
    {
     "name": "stdout",
     "output_type": "stream",
     "text": [
      "Chunk 1: RAG systems combine the power of large language\n",
      "Chunk 2: language models with external knowledge sources.\n",
      "Chunk 3: This allows them to provide up-to-date and\n",
      "Chunk 4: and context-specific information.\n",
      "Chunk 5: The process involves several steps including\n",
      "Chunk 6: including document loading, text splitting, and\n",
      "Chunk 7: and embedding.\n"
     ]
    }
   ],
   "source": [
    "from langchain_text_splitters import RecursiveCharacterTextSplitter\n",
    "\n",
    "# Example text\n",
    "text = \"\"\"\n",
    "RAG systems combine the power of large language models with external knowledge sources.\n",
    "This allows them to provide up-to-date and context-specific information.\n",
    "The process involves several steps including document loading, text splitting, and embedding.\n",
    "\"\"\"\n",
    "\n",
    "# Create a text splitter\n",
    "text_splitter = RecursiveCharacterTextSplitter(\n",
    "    chunk_size=50,\n",
    "    chunk_overlap=10,\n",
    "    length_function=len,\n",
    "    separators=[\"\\n\\n\", \"\\n\", \" \", \"\"],\n",
    ")\n",
    "\n",
    "# Split the text\n",
    "chunks = text_splitter.split_text(text)\n",
    "\n",
    "# Print the chunks\n",
    "for i, chunk in enumerate(chunks):\n",
    "    print(f\"Chunk {i + 1}: {chunk}\")"
   ]
  },
  {
   "cell_type": "markdown",
   "metadata": {},
   "source": [
    "This splitter is versatile and works well for many uses cases. It creates each chunk with a character count as close to `chunk_size` as possible. It can recursively switch between which separators to split at to keep the character count.\n",
    "\n",
    "In the above example, our splitter tries to split on newlines first, then single spaces, and finally between any characters to reach the desired chunk size.\n",
    "\n",
    "There are many other splitters inside `langchain_text_splitters` package. Here are some:\n",
    "- HTMLSectionSplitter\n",
    "- PythonCodeTexSplitter\n",
    "- RecursiveJsonSplitter\n",
    "\n",
    "and so on. Some of the splitters create semantically meaningful chunks by using a transformer model under the hood. \n",
    "\n",
    "The right text splitter has a significant impact on the performance of a RAG system.\n",
    "\n",
    "For specifics on how to use text splitters, see the relevant [how-to guides here](https://python.langchain.com/v0.2/docs/how_to/#text-splitters)."
   ]
  },
  {
   "cell_type": "markdown",
   "metadata": {},
   "source": [
    "### Embedding models"
   ]
  },
  {
   "cell_type": "markdown",
   "metadata": {},
   "source": [
    "Once documents are split into text, they need to be encoded into their numeric representation, which is a requirement for all computation models working with text data.\n",
    "\n",
    "In the context of RAG, this encoding is called _embedding_ and done by _embedding models_. They create a vector representation of a piece of text that captures their semantic meaning. \n",
    "\n",
    "By presenting text in this way, you can do mathematical operations on them like searching our document database for text most similar in meaning or find an answer to a user query.\n",
    "\n",
    "LangChain supports all major embedding model providers such as OpenAI, Cohere, HuggingFace, and so on. They are implemented as `Embedding` classes and provide two methods: one for embedding documents and one for embedding queries (prompts). \n",
    "\n",
    "Here is an example code that embeds the chunks of text we created in the previous section using OpenAI:"
   ]
  },
  {
   "cell_type": "code",
   "execution_count": 22,
   "metadata": {},
   "outputs": [
    {
     "name": "stdout",
     "output_type": "stream",
     "text": [
      "Shape of the first embedded chunk: 1536\n",
      "First few values of the first embedded chunk: [-0.020282309502363205, -0.0015041005099192262, 0.004193042870610952, 0.00229285703971982, 0.007068077567964792]\n"
     ]
    }
   ],
   "source": [
    "from langchain_openai import OpenAIEmbeddings\n",
    "\n",
    "# Initialize the OpenAI embeddings\n",
    "embeddings = OpenAIEmbeddings()\n",
    "\n",
    "# Embed the chunks\n",
    "embedded_chunks = embeddings.embed_documents(chunks)\n",
    "\n",
    "# Print the first embedded chunk to see its structure\n",
    "print(f\"Shape of the first embedded chunk: {len(embedded_chunks[0])}\")\n",
    "print(f\"First few values of the first embedded chunk: {embedded_chunks[0][:5]}\")"
   ]
  },
  {
   "cell_type": "markdown",
   "metadata": {},
   "source": [
    "The output above shows that the embedding model is creating a 1536-dimensional vector for all chunks in our documents. \n",
    "\n",
    "To embed a single query, you can use the `embed_query()` method:"
   ]
  },
  {
   "cell_type": "code",
   "execution_count": 23,
   "metadata": {},
   "outputs": [
    {
     "name": "stdout",
     "output_type": "stream",
     "text": [
      "Shape of the query embedding: 1536\n",
      "First few values of the query embedding: [-0.012426204979419708, -0.016619959846138954, 0.007880032062530518, -0.0170428603887558, 0.011404196731746197]\n"
     ]
    }
   ],
   "source": [
    "query = \"What is RAG?\"\n",
    "query_embedding = embeddings.embed_query(query)\n",
    "print(f\"Shape of the query embedding: {len(query_embedding)}\")\n",
    "print(f\"First few values of the query embedding: {query_embedding[:5]}\")"
   ]
  },
  {
   "cell_type": "markdown",
   "metadata": {},
   "source": [
    "### Vector stores"
   ]
  },
  {
   "cell_type": "markdown",
   "metadata": {},
   "source": [
    "In large-scale RAG applications where you may have gigabytes of documents, you will end up with gazillion text chunks and thus, vectors. There isn't any use to them if you can't store them reliably.\n",
    "\n",
    "This is why _vector stores or databases_ are all the rage now. Apart from storing your embeddings, vector databases take care of performing vector search for you. These databases are optimized to quickly find the most similar vectors when given a query vector, which is essential for retrieving relevant information in RAG systems.\n",
    "\n",
    "Here is a snippet of code that embeds the contents of a web page and stores the vectors into a Chroma vector database (Chroma is an open-source vector database solution that runs entirely on your machine):"
   ]
  },
  {
   "cell_type": "code",
   "execution_count": null,
   "metadata": {},
   "outputs": [],
   "source": [
    "!pip install chromadb langchain_chroma"
   ]
  },
  {
   "cell_type": "code",
   "execution_count": 33,
   "metadata": {},
   "outputs": [],
   "source": [
    "from langchain_community.document_loaders import WebBaseLoader\n",
    "from langchain_text_splitters import RecursiveCharacterTextSplitter\n",
    "\n",
    "# Load the web page\n",
    "loader = WebBaseLoader(\"https://python.langchain.com/v0.2/docs/tutorials/rag/\")\n",
    "docs = loader.load()\n",
    "\n",
    "# Split the documents into chunks\n",
    "text_splitter = RecursiveCharacterTextSplitter(chunk_size=1000, chunk_overlap=200)\n",
    "chunks = text_splitter.split_documents(docs)"
   ]
  },
  {
   "cell_type": "markdown",
   "metadata": {},
   "source": [
    "First, we load the page with `WebBaseLoader` and create our chunks. Then, we can directly pass the chunks to the `from_documents` method of `Chrome` along with our embedding model of choice:"
   ]
  },
  {
   "cell_type": "code",
   "execution_count": 29,
   "metadata": {},
   "outputs": [],
   "source": [
    "from langchain_openai import OpenAIEmbeddings\n",
    "from langchain_chroma import Chroma\n",
    "\n",
    "db = Chroma.from_documents(chunks, OpenAIEmbeddings())"
   ]
  },
  {
   "cell_type": "markdown",
   "metadata": {},
   "source": [
    "All vector database objects in LangChain expose a `similarity_search` method that accepts a query string:"
   ]
  },
  {
   "cell_type": "code",
   "execution_count": 38,
   "metadata": {},
   "outputs": [
    {
     "name": "stdout",
     "output_type": "stream",
     "text": [
      "data. If you are interested for RAG over structured data, check out our tutorial on doing question/answering over SQL data.Concepts​A typical RAG application has two main components:Indexing: a pipeline for ingesting data from a source and indexing it. This usually happens offline.Retrieval and generation: the actual RAG chain, which takes the user query at run time and retrieves the relevant data from the index, then passes that to the model.The most common full sequence from raw data to answer looks like:Indexing​Load: First we need to load our data. This is done with Document Loaders.Split: Text splitters break large Documents into smaller chunks. This is useful both for indexing data and for passing it in to a model, since large chunks are harder to search over and won't fit in a model's finite context window.Store: We need somewhere to store and index our splits, so that they can later be searched over. This is often done using a VectorStore and Embeddings model.Retrieval and\n"
     ]
    }
   ],
   "source": [
    "query = \"What is indexing in the context of RAG?\"\n",
    "docs = db.similarity_search(query)\n",
    "\n",
    "print(docs[1].page_content)"
   ]
  },
  {
   "cell_type": "markdown",
   "metadata": {},
   "source": [
    "The result of `similarity_search` is a list of documents that most likely contain the information we are asking in the query. \n",
    "\n",
    "For specifics on how to use vector stores, see the relevant [how-to guides here](https://python.langchain.com/v0.2/docs/how_to/#vector-stores)."
   ]
  },
  {
   "cell_type": "markdown",
   "metadata": {},
   "source": [
    "### Retrievers"
   ]
  },
  {
   "cell_type": "markdown",
   "metadata": {},
   "source": [
    "Although all vector stores support retrieval in the form of similarity search, LangChain implements a dedicated `Retriever` interface that return documents given an unstructured query. A retriever only needs to return or retrieve documents, not store them.\n",
    "\n",
    "Here is how you can convert any vector store to a retriever in LangChain:"
   ]
  },
  {
   "cell_type": "code",
   "execution_count": 40,
   "metadata": {},
   "outputs": [
    {
     "data": {
      "text/plain": [
       "4"
      ]
     },
     "execution_count": 40,
     "metadata": {},
     "output_type": "execute_result"
    }
   ],
   "source": [
    "# Convert the vector store to a retriever\n",
    "chroma_retriever = db.as_retriever()\n",
    "\n",
    "docs = chroma_retriever.invoke(\"What is indexing in the context of RAG?\")\n",
    "\n",
    "len(docs)"
   ]
  },
  {
   "cell_type": "markdown",
   "metadata": {},
   "source": [
    "It is possible to limit the number of relevant documents to top _k_ using `search_kwargs`:"
   ]
  },
  {
   "cell_type": "code",
   "execution_count": 41,
   "metadata": {},
   "outputs": [
    {
     "data": {
      "text/plain": [
       "1"
      ]
     },
     "execution_count": 41,
     "metadata": {},
     "output_type": "execute_result"
    }
   ],
   "source": [
    "chroma_retriever = db.as_retriever(search_kwargs={\"k\": 1})\n",
    "\n",
    "docs = chroma_retriever.invoke(\"What is indexing in the context of RAG?\")\n",
    "\n",
    "len(docs)"
   ]
  },
  {
   "cell_type": "markdown",
   "metadata": {},
   "source": [
    "You can pass other search-related parameters to `search_kwargs`. Learn more about using retrievers from [specific how-to guides](https://python.langchain.com/v0.2/docs/how_to/#retrievers)."
   ]
  },
  {
   "cell_type": "markdown",
   "metadata": {},
   "source": [
    "## Step-by-Step Workflow to Building a RAG App in LangChain"
   ]
  },
  {
   "cell_type": "markdown",
   "metadata": {},
   "source": [
    "Now that we have covered the key components of a RAG system, we will build one ourselves. I will walk you through a step-by-step implementation of a RAG chatbot designed specifically for code documentation and tutorials. You will find it particularly useful when you need AI coding assistance for new frameworks or new features of existing frameworks that aren't yet part of the knowledge base of today's LLMs. "
   ]
  },
  {
   "cell_type": "markdown",
   "metadata": {},
   "source": [
    "### 0. Creating the project structure"
   ]
  },
  {
   "cell_type": "markdown",
   "metadata": {},
   "source": [
    "First, populate your working directory with the following project structure:\n",
    "\n",
    "```bash\n",
    "rag-chatbot/\n",
    "├── .gitignore\n",
    "├── requirements.txt\n",
    "├── README.md\n",
    "├── app.py\n",
    "├── src/\n",
    "│   ├── __init__.py\n",
    "│   ├── document_processor.py\n",
    "│   └── rag_chain.py\n",
    "└── .streamlit/\n",
    "    └── config.toml\n",
    "```\n",
    "\n",
    "Here are the commands:\n",
    "\n",
    "```bash\n",
    "$ touch .gitignore requirements.txt README.md app.py\n",
    "$ mkdir src .streamlit\n",
    "$ touch src/{.env,__init__.py,document_processor.py,rag_chain.py}\n",
    "$ touch .streamlit/{.env,config.toml}\n",
    "```"
   ]
  },
  {
   "cell_type": "markdown",
   "metadata": {},
   "source": [
    "### 1. Setting up the environment"
   ]
  },
  {
   "cell_type": "markdown",
   "metadata": {},
   "source": [
    "In this step, you first create a new Conda environment and activate it:"
   ]
  },
  {
   "cell_type": "markdown",
   "metadata": {},
   "source": [
    "```bash\n",
    "$ conda create -n rag_tutorial python=3.9 -y\n",
    "$ conda activate rag_tutorial\n",
    "```"
   ]
  },
  {
   "cell_type": "markdown",
   "metadata": {},
   "source": [
    "Next, open the `requirements.txt` file and paste the following dependencies:"
   ]
  },
  {
   "cell_type": "markdown",
   "metadata": {},
   "source": [
    "```python\n",
    "langchain==0.2.14\n",
    "langchain_community==0.2.12\n",
    "langchain_core==0.2.35\n",
    "langchain_openai==0.1.22\n",
    "python-dotenv==1.0.1\n",
    "streamlit==1.37.1\n",
    "faiss-cpu\n",
    "pypdf\n",
    "```"
   ]
  },
  {
   "cell_type": "markdown",
   "metadata": {},
   "source": [
    "and install them:"
   ]
  },
  {
   "cell_type": "markdown",
   "metadata": {},
   "source": [
    "```bash\n",
    "$ pip install -r requirements.txt\n",
    "```"
   ]
  },
  {
   "cell_type": "markdown",
   "metadata": {},
   "source": [
    "Also, create a `.gitignore` file to hide files from git indexing:"
   ]
  },
  {
   "cell_type": "markdown",
   "metadata": {},
   "source": [
    "```\n",
    "# .gitignore\n",
    "venv/\n",
    "__pycache__/\n",
    ".env\n",
    "*.pdf\n",
    "*.png\n",
    "*.jpg\n",
    "*.jpeg\n",
    "*.gif\n",
    "*.svg\n",
    "```"
   ]
  },
  {
   "cell_type": "markdown",
   "metadata": {},
   "source": [
    "### 2. Setting up document loaders"
   ]
  },
  {
   "cell_type": "markdown",
   "metadata": {},
   "source": [
    "Next, open the `src/document_processor.py` file and paste the coming snippets of code.\n",
    "\n",
    "The necessary imports:"
   ]
  },
  {
   "cell_type": "markdown",
   "metadata": {},
   "source": [
    "```python\n",
    "from langchain.text_splitter import RecursiveCharacterTextSplitter\n",
    "from langchain.text_splitter import Language\n",
    "from langchain_community.document_loaders import PyPDFLoader\n",
    "from langchain_community.document_loaders.parsers.pdf import (\n",
    "    extract_from_images_with_rapidocr,\n",
    ")\n",
    "from langchain.schema import Document\n",
    "import logging\n",
    "```"
   ]
  },
  {
   "cell_type": "markdown",
   "metadata": {},
   "source": [
    "Explanation of the imports:\n",
    "- `RecursiveCharacterTextSplitter`: Splits text into smaller chunks recursively.\n",
    "- `Language`: Enum for specifying programming languages in text splitting.\n",
    "- `PyPDFLoader`: Loads and extracts text from PDF files.\n",
    "- `extract_from_images_with_rapidocr`: OCR function for extracting text from images.\n",
    "- `Document`: Represents a document with content and metadata.\n",
    "- `logging`: Provides logging functionality for debugging and information.\n"
   ]
  },
  {
   "cell_type": "markdown",
   "metadata": {},
   "source": [
    "Then, a function for processing PDFs:\n",
    "\n",
    "```python\n",
    "def process_pdf(source):\n",
    "    loader = PyPDFLoader(source)\n",
    "    documents = loader.load()\n",
    "\n",
    "    # Filter out scanned pages\n",
    "    unscanned_documents = [doc for doc in documents if doc.page_content.strip() != \"\"]\n",
    "\n",
    "    scanned_pages = len(documents) - len(unscanned_documents)\n",
    "    if scanned_pages > 0:\n",
    "        logging.info(f\"Omitted {scanned_pages} scanned page(s) from the PDF.\")\n",
    "\n",
    "    if not unscanned_documents:\n",
    "        raise ValueError(\n",
    "            \"All pages in the PDF appear to be scanned. Please use a PDF with text content.\"\n",
    "        )\n",
    "\n",
    "    return split_documents(unscanned_documents)\n",
    "```"
   ]
  },
  {
   "cell_type": "markdown",
   "metadata": {},
   "source": [
    "\n",
    "Here is how it works:\n",
    "\n",
    "1. It loads the PDF using `PyPDFLoader`.\n",
    "2. It filters out scanned pages by removing documents with empty content.\n",
    "3. It logs the number of scanned pages omitted, if any.\n",
    "4. If all pages are scanned (i.e., no text content), it raises a ValueError.\n",
    "5. Finally, it splits the remaining unscanned documents into smaller chunks using the split_documents function.\n",
    "\n",
    "The function handles cases where a PDF might contain a mix of text and scanned pages, ensuring that only text-based pages are processed further. This is crucial for text analysis tasks where scanned pages without OCR would be unusable. We will define the `split_documents` function later."
   ]
  },
  {
   "cell_type": "markdown",
   "metadata": {},
   "source": [
    "Next, we write a function for retrieving information from images (screenshots of code snippets and/or webpages):\n",
    "\n",
    "```python\n",
    "def process_image(source):\n",
    "    # Extract text from image using OCR\n",
    "    with open(source, \"rb\") as image_file:\n",
    "        image_bytes = image_file.read()\n",
    "\n",
    "    extracted_text = extract_from_images_with_rapidocr([image_bytes])\n",
    "    documents = [Document(page_content=extracted_text, metadata={\"source\": source})]\n",
    "    return split_documents(documents)\n",
    "```\n",
    "\n",
    "\n",
    "This function processes an image file by extracting text using OCR (Optical Character Recognition). It reads the image file, converts it to bytes, and then uses the RapidOCR library to extract text from the image. The extracted text is then wrapped in a Document object with metadata containing the source file path. Finally, the function splits the document into smaller chunks using the `split_documents` function, which we define next:\n",
    "\n"
   ]
  },
  {
   "cell_type": "markdown",
   "metadata": {},
   "source": [
    "```python\n",
    "def split_documents(documents):\n",
    "    # Split documents into smaller chunks for processing\n",
    "    text_splitter = RecursiveCharacterTextSplitter.from_language(\n",
    "        language=Language.PYTHON, chunk_size=1000, chunk_overlap=200\n",
    "    )\n",
    "    return text_splitter.split_documents(documents)\n",
    "```\n",
    "\n",
    "The function uses the `RecursiveCharacterTextSplitter` class with Python's syntax to split text into chunks of 1000 characters and 200 character overlap.\n",
    "\n",
    "Our final function combines the PDF and image parser functions into one:"
   ]
  },
  {
   "cell_type": "markdown",
   "metadata": {},
   "source": [
    "```python\n",
    "def process_document(source):\n",
    "    # Determine file type and process accordingly\n",
    "    if source.lower().endswith(\".pdf\"):\n",
    "        return process_pdf(source)\n",
    "    elif source.lower().endswith((\".png\", \".jpg\", \".jpeg\")):\n",
    "        return process_image(source)\n",
    "    else:\n",
    "        raise ValueError(f\"Unsupported file type: {source}\")\n",
    "```"
   ]
  },
  {
   "cell_type": "markdown",
   "metadata": {},
   "source": [
    "This final function will be used by the Streamlit UI down the line to create, embed and store chunks from provided documents and pass them down to the RAG component of our system. "
   ]
  },
  {
   "cell_type": "markdown",
   "metadata": {},
   "source": [
    "### 3. Setting up RAG"
   ]
  },
  {
   "cell_type": "markdown",
   "metadata": {},
   "source": [
    "Now, open the `src/rag_chain.py` file and paste the coming snippets of code.\n",
    "\n",
    "First, import necessary modules:"
   ]
  },
  {
   "cell_type": "markdown",
   "metadata": {},
   "source": [
    "```python\n",
    "import os\n",
    "from dotenv import load_dotenv\n",
    "from langchain.prompts import PromptTemplate\n",
    "from langchain_community.vectorstores import FAISS\n",
    "from langchain_core.output_parsers import StrOutputParser\n",
    "from langchain_core.runnables import RunnablePassthrough\n",
    "from langchain_openai import ChatOpenAI, OpenAIEmbeddings\n",
    "\n",
    "# Load the API key from env variables\n",
    "load_dotenv()\n",
    "\n",
    "api_key = os.getenv(\"OPENAI_API_KEY\")\n",
    "```\n",
    "\n",
    "Here is an explanation of the imports:\n",
    "\n",
    "• `os`: Operating system interactions\n",
    "• `dotenv`: Load environment variables\n",
    "• `langchain` components:\n",
    "  - `PromptTemplate`: Custom prompt creation\n",
    "  - `FAISS`: A lightweight vector store for documents\n",
    "  - `StrOutputParser`: Converting LLM message objects into string outputs\n",
    "  - `RunnablePassthrough`: Create composable chains\n",
    "  - `ChatOpenAI`, `OpenAIEmbeddings`: OpenAI model interactions\n"
   ]
  },
  {
   "cell_type": "markdown",
   "metadata": {},
   "source": [
    "Next, we create our prompt for the RAG system:"
   ]
  },
  {
   "cell_type": "markdown",
   "metadata": {},
   "source": [
    "```python\n",
    "RAG_PROMPT_TEMPLATE = \"\"\"\n",
    "You are a helpful coding assistant that can answer questions about the provided context. The context is usually a PDF document or an image (screenshot) of a code file. Augment your answers with code snippets from the context if necessary.\n",
    "\n",
    "If you don't know the answer, say you don't know.\n",
    "\n",
    "Context: {context}\n",
    "Question: {question}\n",
    "\"\"\"\n",
    "PROMPT = PromptTemplate.from_template(RAG_PROMPT_TEMPLATE)\n",
    "```"
   ]
  },
  {
   "cell_type": "markdown",
   "metadata": {},
   "source": [
    "RAG system prompt is one the critical factors in its success. Our version is a simple one but will get the job done most of the time. In practice, you would spend much time iterating and improving on the prompt. \n",
    "\n",
    "If you notice, we are using a `PromptTemplate` class for constructing the prompt. This construct allows us to dynamically ingest the context retrieved from documents and the user's query into a final prompt. \n",
    "\n",
    "Speaking of documents, we need a function to format them before they are passed as context into the system prompt:"
   ]
  },
  {
   "cell_type": "markdown",
   "metadata": {},
   "source": [
    "```python\n",
    "def format_docs(docs):\n",
    "    return \"\\n\\n\".join(doc.page_content for doc in docs)\n",
    "```"
   ]
  },
  {
   "cell_type": "markdown",
   "metadata": {},
   "source": [
    "It is a simple function that concatenates the page content of retrieved documents. \n",
    "\n",
    "Finally, we create a function that will develop our RAG chain:"
   ]
  },
  {
   "cell_type": "markdown",
   "metadata": {},
   "source": [
    "```python\n",
    "def create_rag_chain(chunks):\n",
    "    embeddings = OpenAIEmbeddings(api_key=api_key)\n",
    "    doc_search = FAISS.from_documents(chunks, embeddings)\n",
    "    retriever = doc_search.as_retriever(\n",
    "        search_type=\"similarity\", search_kwargs={\"k\": 5}\n",
    "    )\n",
    "    llm = ChatOpenAI(model_name=\"gpt-4o-mini\", temperature=0)\n",
    "\n",
    "    rag_chain = (\n",
    "        {\"context\": retriever | format_docs, \"question\": RunnablePassthrough()}\n",
    "        | PROMPT\n",
    "        | llm\n",
    "        | StrOutputParser()\n",
    "    )\n",
    "\n",
    "    return rag_chain\n",
    "```"
   ]
  },
  {
   "cell_type": "markdown",
   "metadata": {},
   "source": [
    "The function accepts document chunks which will be provided by the `process_document` function inside `document_processor.py` script. \n",
    "\n",
    "The function starts by defining the embedding model and storing the documents into a FAISS vector store. Then, it is converted into the retriever interface with similarity search that returns top five documents matching the user's query.\n",
    "\n",
    "For the language model, we will use `gpt-4o-mini` but you can use other model's like GPT-4o depending on your budget and needs.\n",
    "\n",
    "Then, we will put all these components together using LangChain Expression Language (LCEL). The first component of the chain is a dictionary with `context` and `question` as keys. The values of these keys are provided by the retriever formatted by our formatting function and the `RunnablePassthrough()`, respectively. The latter class acts as a placeholder for the user's query.\n",
    "\n",
    "The dictionary is then passed into our system prompt; the prompt is fed to the LLM which generates output message class. The message class is given to a string output parser that returns a plain text response. "
   ]
  },
  {
   "cell_type": "markdown",
   "metadata": {},
   "source": [
    "### 4. Creating a Streamlit UI"
   ]
  },
  {
   "attachments": {
    "image.png": {
     "image/png": "[encoded data removed]"
    }
   },
   "cell_type": "markdown",
   "metadata": {},
   "source": [
    "In this section, we will build the below UI for our app:\n",
    "\n",
    "![image.png](attachment:image.png)"
   ]
  },
  {
   "cell_type": "markdown",
   "metadata": {},
   "source": [
    "It is a clean, minimal interface with two input fields - one for the document, the other for asking questions about the document. In the left sidebar, the user is asked to input their API key. \n",
    "\n",
    "To build the interface, open the `app.py` script in the topmost level of your working directory and paste the following code:"
   ]
  },
  {
   "cell_type": "markdown",
   "metadata": {},
   "source": [
    "```python\n",
    "import streamlit as st\n",
    "import os\n",
    "from dotenv import load_dotenv\n",
    "from src.document_processor import process_document\n",
    "from src.rag_chain import create_rag_chain\n",
    "\n",
    "# Load environment variables\n",
    "load_dotenv()\n",
    "\n",
    "st.set_page_config(page_title=\"RAG Chatbot\", page_icon=\"🤖\")\n",
    "\n",
    "st.title(\"RAG Chatbot\")\n",
    "\n",
    "# Initialize session state\n",
    "if \"rag_chain\" not in st.session_state:\n",
    "    st.session_state.rag_chain = None\n",
    "\n",
    "# Sidebar for API key input\n",
    "with st.sidebar:\n",
    "    api_key = st.text_input(\"Enter your OpenAI API Key\", type=\"password\")\n",
    "    if api_key:\n",
    "        os.environ[\"OPENAI_API_KEY\"] = api_key\n",
    "\n",
    "# File uploader\n",
    "uploaded_file = st.file_uploader(\"Choose a file\", type=[\"pdf\", \"png\", \"jpg\", \"jpeg\"])\n",
    "\n",
    "if uploaded_file is not None:\n",
    "    if st.button(\"Process File\"):\n",
    "        if api_key:\n",
    "            with st.spinner(\"Processing file...\"):\n",
    "                # Save the uploaded file temporarily\n",
    "                with open(uploaded_file.name, \"wb\") as f:\n",
    "                    f.write(uploaded_file.getbuffer())\n",
    "\n",
    "                try:\n",
    "                    # Process the document\n",
    "                    chunks = process_document(uploaded_file.name)\n",
    "\n",
    "                    # Create RAG chain\n",
    "                    st.session_state.rag_chain = create_rag_chain(chunks)\n",
    "\n",
    "                    st.success(\"File processed successfully!\")\n",
    "                except ValueError as e:\n",
    "                    st.error(str(e))\n",
    "                finally:\n",
    "                    # Remove the temporary file\n",
    "                    os.remove(uploaded_file.name)\n",
    "        else:\n",
    "            st.error(\"Please provide your OpenAI API key.\")\n",
    "\n",
    "# Query input\n",
    "query = st.text_input(\"Ask a question about the uploaded document\")\n",
    "\n",
    "if st.button(\"Ask\"):\n",
    "    if st.session_state.rag_chain and query:\n",
    "        with st.spinner(\"Generating answer...\"):\n",
    "            result = st.session_state.rag_chain.invoke(query)\n",
    "\n",
    "            st.subheader(\"Answer:\")\n",
    "            st.write(result)\n",
    "    elif not st.session_state.rag_chain:\n",
    "        st.error(\"Please upload and process a file first.\")\n",
    "    else:\n",
    "        st.error(\"Please enter a question.\")\n",
    "```"
   ]
  },
  {
   "cell_type": "markdown",
   "metadata": {},
   "source": [
    "Despite being only 65 lines long, it implements the following functionality:\n",
    "\n",
    "1. API key input: Allows users to enter their OpenAI API key securely.\n",
    "2. File upload: Supports uploading PDF, PNG, JPG, and JPEG files.\n",
    "3. Document processing: Processes the uploaded file and creates text chunks.\n",
    "4. RAG chain creation: Builds a Retrieval-Augmented Generation chain using the processed document chunks.\n",
    "5. Query handling: Accepts user questions about the uploaded document.\n",
    "6. Answer generation: Uses the RAG chain to generate answers based on the uploaded document and user query.\n",
    "7. Error handling: Provides appropriate error messages for missing API keys, unprocessed files, or empty queries.\n",
    "8. User feedback: Displays spinners during processing and success/error messages to keep the user informed.\n",
    "9. State management: Utilizes Streamlit's session state to maintain the RAG chain across interactions."
   ]
  },
  {
   "cell_type": "markdown",
   "metadata": {},
   "source": [
    "### 5. Deploying as a Streamlit chatbot"
   ]
  },
  {
   "cell_type": "markdown",
   "metadata": {},
   "source": [
    "There is only one step left - deploying our Streamlit app. There are many options here but the easiest way is by using Streamlit Cloud, which is free and easy to set up.\n",
    "\n",
    "First, open the `.streamlit/config.toml` script and past the following configurations:"
   ]
  },
  {
   "cell_type": "markdown",
   "metadata": {},
   "source": [
    "```python\n",
    "[theme]\n",
    "primaryColor = \"#F63366\"\n",
    "backgroundColor = \"#FFFFFF\"\n",
    "secondaryBackgroundColor = \"#F0F2F6\"\n",
    "textColor = \"#262730\"\n",
    "font = \"sans serif\"\n",
    "```"
   ]
  },
  {
   "cell_type": "markdown",
   "metadata": {},
   "source": [
    "These are some theme adjustments that come from personal preferences. Then, write up the README.md file (you can copy its contents from [this hosted file on GitHub](https://github.com/BexTuychiev/rag_tutorial_hackernoon/blob/master/README.md)).\n",
    "\n",
    "Finally, go to GitHub.com and create a new repository. Copy its link and return to your working directory:"
   ]
  },
  {
   "cell_type": "markdown",
   "metadata": {},
   "source": [
    "```bash\n",
    "$ git init\n",
    "$ git add .\n",
    "$ git commit -m \"Initial commit\"\n",
    "$ git remote add origin https://github.com/YourUsername/YourRepo.git\n",
    "$ git push --set-upstream origin master\n",
    "```"
   ]
  },
  {
   "cell_type": "markdown",
   "metadata": {},
   "source": [
    "The above commands initialize Git, create an initial commit and push everything to the repository (don't forget to replace the repo link with your own). \n",
    "\n",
    "Now, you have to sign up for a free account at [Streamlit Cloud](https://streamlit.io/cloud). Connect your GitHub account and select the repository containing your app. Then, configure the app settings:\n",
    "\n",
    "- Set the Python version (e.g., 3.9)\n",
    "- Set the main file path to app.py\n",
    "- Add any necessary secrets (like OPENAI_API_KEY) in the app settings\n",
    "\n",
    "Finally, click \"Deploy\"!\n",
    "\n",
    "The app must be operational within minutes. The app I've built for this tutorial can be found at [this link](https://bex-rag-tutorial.streamlit.app/). Try it out!\n",
    "\n",
    "![](images/rag_app.gif)"
   ]
  },
  {
   "cell_type": "markdown",
   "metadata": {},
   "source": [
    "## Conclusion"
   ]
  },
  {
   "cell_type": "markdown",
   "metadata": {},
   "source": [
    "This tutorial looks at the potent mix of Retrieval-Augmented Generation (RAG) and Streamlit that forms an interactive question-answering system based on documents. It takes the reader through the whole process, from setting up an environment and processing documents to building a RAG chain and deploying a friendly web app. \n",
    "\n",
    "Important points include: \n",
    "- RAG for a smarter (in the external knowledge sense) language model\n",
    "- RAG chains can be built using LangChain, OpenAI's models, and third-party community integrations.\n",
    "- The app can be made interactive using Streamlit and be deployed for public use.\n",
    "\n",
    "This project forms the basis for applications that are more advanced. It can be extended in significant ways, such as the incorporation of multiple document types, improved retrieval accuracy, and features like document summarization. And yet, what it really serves is as a demonstration of the potential power of these technologies, individually and combined. "
   ]
  }
 ],
 "metadata": {
  "kernelspec": {
   "display_name": "langchain",
   "language": "python",
   "name": "python3"
  },
  "language_info": {
   "codemirror_mode": {
    "name": "ipython",
    "version": 3
   },
   "file_extension": ".py",
   "mimetype": "text/x-python",
   "name": "python",
   "nbconvert_exporter": "python",
   "pygments_lexer": "ipython3",
   "version": "3.9.19"
  }
 },
 "nbformat": 4,
 "nbformat_minor": 2
}
