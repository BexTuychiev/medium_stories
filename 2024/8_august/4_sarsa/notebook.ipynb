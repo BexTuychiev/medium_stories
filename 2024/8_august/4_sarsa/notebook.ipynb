{
 "cells": [
  {
   "cell_type": "markdown",
   "metadata": {},
   "source": [
    "# Comprehensive Guide on SARSA Reinforcement Learning Algorithm in Python"
   ]
  },
  {
   "cell_type": "markdown",
   "metadata": {},
   "source": [
    "## Introduction"
   ]
  },
  {
   "cell_type": "markdown",
   "metadata": {},
   "source": [
    "Reinforcement Learning (RL) is a powerful machine learning paradigm. In RL, a software, usually called an agent, learns to interact with environments to solve complex problems through trial and error, all without human intervention. Among RL algorithms, SARSA stands out for its efficient on-policy nature. \n",
    "\n",
    "SARSA stands for State-Action-Reward-State-Action, representing a cycle the agent follows to solve problems. This cycle allows the agent to learn from its past mistakes and occasionally venture out to try new things. This behavior makes the algorithm particularly effective in specific problem types (discussed more later) and differentiates it from off-policy algorithms like Q-learning. \n",
    "\n",
    "In this tutorial, you will gain an intuition into how SARSA works and how you can implement it in Python. To make your understanding tangible, we will use a classic Cliff Walking problem throughout. We will also discuss SARSA's advantages, limitations and its real-world applications. "
   ]
  },
  {
   "cell_type": "markdown",
   "metadata": {},
   "source": [
    "## Prerequisites and Fundamentals"
   ]
  },
  {
   "cell_type": "markdown",
   "metadata": {},
   "source": [
    "### Reinforcement Learning Basics\n",
    "- Agents, environments, states, and actions\n",
    "- Rewards and return\n"
   ]
  },
  {
   "cell_type": "markdown",
   "metadata": {},
   "source": [
    "### Markov Decision Processes (MDPs)\n",
    "- Markov property\n",
    "- State transition probabilities\n",
    "- Reward function\n"
   ]
  },
  {
   "cell_type": "markdown",
   "metadata": {},
   "source": [
    "### Q-learning Fundamentals\n",
    "- Action-value function (Q-function)\n",
    "- Bellman equation\n"
   ]
  },
  {
   "cell_type": "markdown",
   "metadata": {},
   "source": [
    "### Exploration vs. Exploitation\n",
    "- Epsilon-greedy policy\n"
   ]
  },
  {
   "cell_type": "markdown",
   "metadata": {},
   "source": [
    "### On-policy vs. Off-policy Learning\n"
   ]
  },
  {
   "cell_type": "markdown",
   "metadata": {},
   "source": [
    "### SARSA vs Q-learning: Key Differences\n",
    "\n"
   ]
  },
  {
   "cell_type": "markdown",
   "metadata": {},
   "source": [
    "## SARSA Algorithm Explained\n",
    "- Step-by-step breakdown of the algorithm\n",
    "- SARSA update rule\n",
    "- Differences between SARSA and Q-learning (expanded)\n",
    "\n"
   ]
  },
  {
   "cell_type": "markdown",
   "metadata": {},
   "source": [
    "## Implementing SARSA for Cliff Walking"
   ]
  },
  {
   "cell_type": "markdown",
   "metadata": {},
   "source": [
    "### 1. Setting up the Cliff Walking environment\n"
   ]
  },
  {
   "cell_type": "markdown",
   "metadata": {},
   "source": [
    "### 2. Initializing the Q-table\n"
   ]
  },
  {
   "cell_type": "markdown",
   "metadata": {},
   "source": [
    "### 3. Implementing the epsilon-greedy policy\n"
   ]
  },
  {
   "cell_type": "markdown",
   "metadata": {},
   "source": [
    "### 4. SARSA update function\n"
   ]
  },
  {
   "cell_type": "markdown",
   "metadata": {},
   "source": [
    "### 5. Hyperparameter selection\n",
    "   - Learning rate\n",
    "   - Discount factor\n",
    "   - Epsilon (exploration rate)\n"
   ]
  },
  {
   "cell_type": "markdown",
   "metadata": {},
   "source": [
    "### 6. Training loop\n"
   ]
  },
  {
   "cell_type": "markdown",
   "metadata": {},
   "source": [
    "### 7. Visualizing the learned policy\n"
   ]
  },
  {
   "cell_type": "markdown",
   "metadata": {},
   "source": [
    "### 8. Common Challenges and Solutions\n",
    "\n"
   ]
  },
  {
   "cell_type": "markdown",
   "metadata": {},
   "source": [
    "## Experiments and Results\n",
    "- Training the agent\n",
    "- Analyzing the learned policy\n",
    "- Comparing SARSA's performance with Q-learning\n",
    "- Interpreting results and debugging tips\n",
    "\n"
   ]
  },
  {
   "cell_type": "markdown",
   "metadata": {},
   "source": [
    "## Conclusion\n",
    "- Recap of SARSA algorithm\n",
    "- Advantages and limitations\n",
    "- Real-world applications of SARSA\n",
    "- Further reading and resources"
   ]
  },
  {
   "cell_type": "code",
   "execution_count": 5,
   "metadata": {},
   "outputs": [
    {
     "data": {
      "image/png": "[encoded data removed]",
      "text/plain": [
       "<Figure size 640x480 with 1 Axes>"
      ]
     },
     "metadata": {},
     "output_type": "display_data"
    }
   ],
   "source": [
    "import numpy as np\n",
    "import matplotlib.pyplot as plt\n",
    "\n",
    "\n",
    "# Cliff Walking environment\n",
    "class CliffWalkingEnv:\n",
    "    def __init__(self):\n",
    "        self.height = 4\n",
    "        self.width = 12\n",
    "        self.start_state = (3, 0)\n",
    "        self.goal_state = (3, 11)\n",
    "        self.cliff = [(3, i) for i in range(1, 11)]\n",
    "\n",
    "    def step(self, state, action):\n",
    "        i, j = state\n",
    "        if action == 0:\n",
    "            i = max(i - 1, 0)\n",
    "        elif action == 1:\n",
    "            j = min(j + 1, self.width - 1)\n",
    "        elif action == 2:\n",
    "            i = min(i + 1, self.height - 1)\n",
    "        elif action == 3:\n",
    "            j = max(j - 1, 0)\n",
    "\n",
    "        next_state = (i, j)\n",
    "\n",
    "        if next_state in self.cliff:\n",
    "            return self.start_state, -100\n",
    "        elif next_state == self.goal_state:\n",
    "            return next_state, 0\n",
    "        else:\n",
    "            return next_state, -1\n",
    "\n",
    "    def reset(self):\n",
    "        return self.start_state\n",
    "\n",
    "\n",
    "# SARSA algorithm\n",
    "def sarsa(env, episodes, alpha=0.1, gamma=0.99, epsilon=0.1):\n",
    "    Q = np.zeros((env.height, env.width, 4))\n",
    "\n",
    "    def epsilon_greedy(state):\n",
    "        if np.random.random() < epsilon:\n",
    "            return np.random.randint(4)\n",
    "        else:\n",
    "            return np.argmax(Q[state])\n",
    "\n",
    "    for _ in range(episodes):\n",
    "        state = env.reset()\n",
    "        action = epsilon_greedy(state)\n",
    "\n",
    "        while state != env.goal_state:\n",
    "            next_state, reward = env.step(state, action)\n",
    "            next_action = epsilon_greedy(next_state)\n",
    "\n",
    "            Q[state + (action,)] += alpha * (\n",
    "                reward + gamma * Q[next_state + (next_action,)] - Q[state + (action,)]\n",
    "            )\n",
    "\n",
    "            state, action = next_state, next_action\n",
    "\n",
    "    return Q\n",
    "\n",
    "\n",
    "# Training\n",
    "env = CliffWalkingEnv()\n",
    "Q = sarsa(env, episodes=10000)\n",
    "\n",
    "# Visualize policy\n",
    "policy = np.argmax(Q, axis=2)\n",
    "actions = [\"^\", \">\", \"v\", \"<\"]\n",
    "policy_chars = np.array([[actions[a] for a in row] for row in policy])\n",
    "\n",
    "plt.imshow(policy)\n",
    "for i in range(env.height):\n",
    "    for j in range(env.width):\n",
    "        plt.text(j, i, policy_chars[i, j], ha=\"center\", va=\"center\")\n",
    "plt.title(\"SARSA Learned Policy for Cliff Walking\")\n",
    "plt.show()"
   ]
  },
  {
   "cell_type": "code",
   "execution_count": null,
   "metadata": {},
   "outputs": [],
   "source": []
  },
  {
   "cell_type": "code",
   "execution_count": null,
   "metadata": {},
   "outputs": [],
   "source": []
  }
 ],
 "metadata": {
  "kernelspec": {
   "display_name": "articles",
   "language": "python",
   "name": "python3"
  },
  "language_info": {
   "codemirror_mode": {
    "name": "ipython",
    "version": 3
   },
   "file_extension": ".py",
   "mimetype": "text/x-python",
   "name": "python",
   "nbconvert_exporter": "python",
   "pygments_lexer": "ipython3",
   "version": "3.10.8"
  }
 },
 "nbformat": 4,
 "nbformat_minor": 2
}
