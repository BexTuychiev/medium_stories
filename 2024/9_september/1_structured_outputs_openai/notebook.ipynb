{
 "cells": [
  {
   "cell_type": "markdown",
   "metadata": {},
   "source": [
    "# Getting Started With OpenAI Structured Outputs"
   ]
  },
  {
   "cell_type": "markdown",
   "metadata": {},
   "source": [
    "## Introduction"
   ]
  },
  {
   "cell_type": "markdown",
   "metadata": {},
   "source": [
    "In August, 2024, OpenAI announced a powerful new feature, Structured Outputs, in their API. With Structured Outputs, as the name suggests, you can ensure LLMs will generate responses only in a format you specify. This capability will make it significantly easier to build applications that require precise data formatting. In this tutorial, you will learn how to get started with this new feature, understand its new syntax and explore its key applications."
   ]
  },
  {
   "cell_type": "markdown",
   "metadata": {},
   "source": [
    "## Importance of Structured Outputs in AI Applications"
   ]
  },
  {
   "cell_type": "markdown",
   "metadata": {},
   "source": [
    "Deterministic responses, or in other words, responses in the same format is crucial for a lot of tasks such as data entry, information retrieval, question answering, multi-step workflows and so on. I am sure you must know how LLMs can generate outputs in wildly different formats even if the prompt is the same. \n",
    "\n",
    "For example, consider this simple hotel reviews sentiment classifier:"
   ]
  },
  {
   "cell_type": "code",
   "execution_count": 6,
   "metadata": {},
   "outputs": [
    {
     "name": "stdout",
     "output_type": "stream",
     "text": [
      "Review: The room was clean and the staff was friendly.\n",
      "Sentiment: Positive\n",
      "\n",
      "Review: The location was terrible and the service was slow.\n",
      "Sentiment: Negative\n",
      "\n",
      "Review: The food was amazing but the room was too small.\n",
      "Sentiment: The sentiment of the review is neutral.\n",
      "\n"
     ]
    }
   ],
   "source": [
    "from openai import OpenAI\n",
    "\n",
    "client = OpenAI()\n",
    "MODEL = \"gpt-4o\"\n",
    "\n",
    "SYSTEM_PROMPT = \"You are a sentiment classifier assistant.\"\n",
    "PROMPT_TEMPLATE = \"\"\"\n",
    "    Classify the sentiment of the following hotel review as positive, negative, or neutral:\\n\\n{review}\n",
    "\"\"\"\n",
    "\n",
    "# Function to classify sentiment using OpenAI's chat completions API\n",
    "def classify_sentiment(review):\n",
    "    response = client.chat.completions.create(\n",
    "        model=MODEL,\n",
    "        messages=[\n",
    "            {\"role\": \"system\", \"content\": SYSTEM_PROMPT},\n",
    "            {\"role\": \"user\", \"content\": PROMPT_TEMPLATE.format(review=review)}\n",
    "        ],\n",
    "    )\n",
    "    return response.choices[0].message.content.strip()\n",
    "\n",
    "# List of hotel reviews\n",
    "reviews = [\n",
    "    \"The room was clean and the staff was friendly.\",\n",
    "    \"The location was terrible and the service was slow.\",\n",
    "    \"The food was amazing but the room was too small.\",\n",
    "]\n",
    "\n",
    "# Classify sentiment for each review and print the results\n",
    "for review in reviews:\n",
    "    sentiment = classify_sentiment(review)\n",
    "    print(f\"Review: {review}\\nSentiment: {sentiment}\\n\")"
   ]
  },
  {
   "cell_type": "markdown",
   "metadata": {},
   "source": [
    "Even though the first two responses were in the same single-word format, the last one is an entire sentence. If some other downstream application depended on the output of the above code, it would have crashed as it would have been expecting a single-word response.\n",
    "\n",
    "We can fix this problem with some prompt engineering but it is a time-consuming, iterative process. Even with a perfect prompt, we can't be 100% sure the responses will conform to our format in future requests. Unless, of course, we use Structured Outputs:"
   ]
  },
  {
   "cell_type": "markdown",
   "metadata": {},
   "source": [
    "```python\n",
    "def classify_sentiment_with_structured_outputs(review):\n",
    "    ...\n",
    "\n",
    "# Classify sentiment for each review with Structured Outputs\n",
    "for review in reviews:\n",
    "    sentiment = classify_sentiment_with_structured_outputs(review)\n",
    "    print(f\"Review: {review}\\nSentiment: {sentiment}\\n\")\n",
    "```\n",
    "\n",
    "\n",
    "```python\n",
    "Review: The room was clean and the staff was friendly.\n",
    "Sentiment: {\"sentiment\":\"positive\"}\n",
    "\n",
    "Review: The location was terrible and the service was slow.\n",
    "Sentiment: {\"sentiment\":\"negative\"}\n",
    "\n",
    "Review: The food was amazing but the room was too small.\n",
    "Sentiment: {\"sentiment\":\"neutral\"}\n",
    "```"
   ]
  },
  {
   "cell_type": "markdown",
   "metadata": {},
   "source": [
    "With a new function, `classify_sentiment_with_structured_outputs`, the responses are all in the same format. "
   ]
  },
  {
   "cell_type": "markdown",
   "metadata": {},
   "source": [
    "## Getting Started  With Structured Outputs"
   ]
  },
  {
   "cell_type": "markdown",
   "metadata": {},
   "source": [
    "In this section, we will explain how Structured Outputs work by continuing th example of the review sentiments analyzer. "
   ]
  },
  {
   "cell_type": "markdown",
   "metadata": {},
   "source": [
    "### Setting Up Your Environment\n",
    "\n",
    "#### Prerequisites\n",
    "\n",
    "Before you begin, ensure you have the following:\n",
    "\n",
    "- Python 3.7 or later installed on your system.\n",
    "- An OpenAI API key. You can obtain this by signing up on the [OpenAI website](https://openai.com/)."
   ]
  },
  {
   "cell_type": "markdown",
   "metadata": {},
   "source": [
    "#### Setting Up the OpenAI API\n",
    "\n",
    "1. **Install the OpenAI Python package**:\n",
    "   Open your terminal and run the following command to install or update the OpenAI Python package to the latest version:\n",
    "   ```bash\n",
    "   pip install -U openai\n",
    "   ```\n",
    "\n",
    "2. **Set up your API key**:\n",
    "   You can set your API key as an environment variable or directly in your code. To set it as an environment variable, run:\n",
    "   ```bash\n",
    "   export OPENAI_API_KEY='your-api-key'\n",
    "   ```"
   ]
  },
  {
   "cell_type": "markdown",
   "metadata": {},
   "source": [
    "3. **Verify the installation**:\n",
    "   Create a simple Python script to verify the installation:"
   ]
  },
  {
   "cell_type": "code",
   "execution_count": 16,
   "metadata": {},
   "outputs": [
    {
     "name": "stdout",
     "output_type": "stream",
     "text": [
      "Hello! How can I\n"
     ]
    }
   ],
   "source": [
    "from openai import OpenAI\n",
    "\n",
    "client = OpenAI()\n",
    "\n",
    "response = client.chat.completions.create(\n",
    "    model=\"gpt-4o-mini\",\n",
    "    messages=[\n",
    "        {\"role\": \"system\", \"content\": \"You are a helpful assistant.\"},\n",
    "        {\"role\": \"user\", \"content\": \"Say hello!\"}\n",
    "    ],\n",
    "    max_tokens=5\n",
    ")\n",
    "\n",
    "print(response.choices[0].message.content.strip())"
   ]
  },
  {
   "cell_type": "markdown",
   "metadata": {},
   "source": [
    "Run the script to ensure everything is set up correctly. You should see the model's response printed in the terminal.\n",
    "\n",
    "#### Installing Required Libraries\n",
    "\n",
    "In addition to the OpenAI package, you will need the Pydantic library to define and validate JSON schemas for Structured Outputs. Install it using pip:"
   ]
  },
  {
   "cell_type": "markdown",
   "metadata": {},
   "source": [
    "```bash\n",
    "pip install pydantic\n",
    "```"
   ]
  },
  {
   "cell_type": "markdown",
   "metadata": {},
   "source": [
    "With these steps, your environment is now set up to use OpenAI's Structured Outputs feature. "
   ]
  },
  {
   "cell_type": "markdown",
   "metadata": {},
   "source": [
    "### Defining the schema using Pydantic"
   ]
  },
  {
   "cell_type": "markdown",
   "metadata": {},
   "source": [
    "### Using the `parse` helper"
   ]
  },
  {
   "cell_type": "markdown",
   "metadata": {},
   "source": [
    "### Handling refusals"
   ]
  },
  {
   "cell_type": "markdown",
   "metadata": {},
   "source": [
    "## Function Calling with Structured Outputs"
   ]
  },
  {
   "cell_type": "markdown",
   "metadata": {},
   "source": [
    "## Best Practices"
   ]
  },
  {
   "cell_type": "markdown",
   "metadata": {},
   "source": [
    "## Conclusion"
   ]
  },
  {
   "cell_type": "markdown",
   "metadata": {},
   "source": [
    "### Table of Contents\n",
    "\n",
    "1. **Introduction**\n",
    "   - Overview of Structured Outputs\n",
    "   - Importance of Structured Outputs in AI Applications\n",
    "\n",
    "2. **Environment Setup**\n",
    "   - Prerequisites\n",
    "   - Setting Up the OpenAI API\n",
    "   - Installing Required Libraries (Python, Node.js)\n",
    "\n",
    "3. **Understanding Structured Outputs**\n",
    "   - What are Structured Outputs?\n",
    "   - Key Features and Benefits\n",
    "\n",
    "4. **Getting Started with Structured Outputs**\n",
    "   - Enabling Structured Outputs in API Calls\n",
    "   - Using JSON Schemas\n",
    "   - Function Calling with Structured Outputs\n",
    "\n",
    "5. **Common Use Cases**\n",
    "   - Extracting Structured Data from Unstructured Inputs\n",
    "   - Generating User Interfaces Based on User Intent\n",
    "   - Populating Databases with Extracted Content\n",
    "\n",
    "6. **Best Practices**\n",
    "   - Ensuring Schema Compliance\n",
    "   - Handling Refusals and Errors\n",
    "\n",
    "7. **Conclusion**\n",
    "   - Recap of Key Points\n",
    "   - Additional Resources and Documentation"
   ]
  }
 ],
 "metadata": {
  "kernelspec": {
   "display_name": "articles",
   "language": "python",
   "name": "python3"
  },
  "language_info": {
   "codemirror_mode": {
    "name": "ipython",
    "version": 3
   },
   "file_extension": ".py",
   "mimetype": "text/x-python",
   "name": "python",
   "nbconvert_exporter": "python",
   "pygments_lexer": "ipython3",
   "version": "3.9.19"
  }
 },
 "nbformat": 4,
 "nbformat_minor": 2
}
