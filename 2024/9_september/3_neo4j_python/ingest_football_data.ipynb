{
 "cells": [
  {
   "cell_type": "markdown",
   "metadata": {},
   "source": [
    "## Exploring the data"
   ]
  },
  {
   "cell_type": "code",
   "execution_count": 2,
   "metadata": {},
   "outputs": [],
   "source": [
    "import pandas as pd"
   ]
  },
  {
   "cell_type": "code",
   "execution_count": 3,
   "metadata": {},
   "outputs": [],
   "source": [
    "results_csv_path = \"https://raw.githubusercontent.com/martj42/international_results/refs/heads/master/results.csv\"\n",
    "goalscorers_csv_path = \"https://raw.githubusercontent.com/martj42/international_results/refs/heads/master/goalscorers.csv\"\n",
    "shootouts_csv_path = \"https://raw.githubusercontent.com/martj42/international_results/refs/heads/master/shootouts.csv\"\n",
    "\n",
    "csv_paths = [results_csv_path, goalscorers_csv_path, shootouts_csv_path]"
   ]
  },
  {
   "cell_type": "code",
   "execution_count": 4,
   "metadata": {},
   "outputs": [],
   "source": [
    "results_df = pd.read_csv(results_csv_path, parse_dates=['date'])\n",
    "goalscorers_df = pd.read_csv(goalscorers_csv_path, parse_dates=['date'])\n",
    "shootouts_df = pd.read_csv(shootouts_csv_path, parse_dates=['date'])"
   ]
  },
  {
   "cell_type": "code",
   "execution_count": 5,
   "metadata": {},
   "outputs": [
    {
     "data": {
      "text/html": [
       "<div>\n",
       "<style scoped>\n",
       "    .dataframe tbody tr th:only-of-type {\n",
       "        vertical-align: middle;\n",
       "    }\n",
       "\n",
       "    .dataframe tbody tr th {\n",
       "        vertical-align: top;\n",
       "    }\n",
       "\n",
       "    .dataframe thead th {\n",
       "        text-align: right;\n",
       "    }\n",
       "</style>\n",
       "<table border=\"1\" class=\"dataframe\">\n",
       "  <thead>\n",
       "    <tr style=\"text-align: right;\">\n",
       "      <th></th>\n",
       "      <th>date</th>\n",
       "      <th>home_team</th>\n",
       "      <th>away_team</th>\n",
       "      <th>home_score</th>\n",
       "      <th>away_score</th>\n",
       "      <th>tournament</th>\n",
       "      <th>city</th>\n",
       "      <th>country</th>\n",
       "      <th>neutral</th>\n",
       "    </tr>\n",
       "  </thead>\n",
       "  <tbody>\n",
       "    <tr>\n",
       "      <th>618</th>\n",
       "      <td>1921-04-28</td>\n",
       "      <td>Guernsey</td>\n",
       "      <td>Jersey</td>\n",
       "      <td>0</td>\n",
       "      <td>1</td>\n",
       "      <td>Muratti Vase</td>\n",
       "      <td>Guernsey</td>\n",
       "      <td>Guernsey</td>\n",
       "      <td>False</td>\n",
       "    </tr>\n",
       "    <tr>\n",
       "      <th>37615</th>\n",
       "      <td>2014-05-17</td>\n",
       "      <td>Mauritania</td>\n",
       "      <td>Equatorial Guinea</td>\n",
       "      <td>1</td>\n",
       "      <td>0</td>\n",
       "      <td>African Cup of Nations qualification</td>\n",
       "      <td>Nouakchott</td>\n",
       "      <td>Mauritania</td>\n",
       "      <td>False</td>\n",
       "    </tr>\n",
       "    <tr>\n",
       "      <th>29924</th>\n",
       "      <td>2006-05-25</td>\n",
       "      <td>Australia</td>\n",
       "      <td>Greece</td>\n",
       "      <td>1</td>\n",
       "      <td>0</td>\n",
       "      <td>Friendly</td>\n",
       "      <td>Melbourne</td>\n",
       "      <td>Australia</td>\n",
       "      <td>False</td>\n",
       "    </tr>\n",
       "    <tr>\n",
       "      <th>39212</th>\n",
       "      <td>2015-11-07</td>\n",
       "      <td>Hong Kong</td>\n",
       "      <td>Myanmar</td>\n",
       "      <td>5</td>\n",
       "      <td>0</td>\n",
       "      <td>Friendly</td>\n",
       "      <td>Kowloon</td>\n",
       "      <td>Hong Kong</td>\n",
       "      <td>False</td>\n",
       "    </tr>\n",
       "    <tr>\n",
       "      <th>39635</th>\n",
       "      <td>2016-05-29</td>\n",
       "      <td>Turkey</td>\n",
       "      <td>Montenegro</td>\n",
       "      <td>1</td>\n",
       "      <td>0</td>\n",
       "      <td>Friendly</td>\n",
       "      <td>Antalya</td>\n",
       "      <td>Turkey</td>\n",
       "      <td>False</td>\n",
       "    </tr>\n",
       "  </tbody>\n",
       "</table>\n",
       "</div>"
      ],
      "text/plain": [
       "            date   home_team          away_team  home_score  away_score  \\\n",
       "618   1921-04-28    Guernsey             Jersey           0           1   \n",
       "37615 2014-05-17  Mauritania  Equatorial Guinea           1           0   \n",
       "29924 2006-05-25   Australia             Greece           1           0   \n",
       "39212 2015-11-07   Hong Kong            Myanmar           5           0   \n",
       "39635 2016-05-29      Turkey         Montenegro           1           0   \n",
       "\n",
       "                                 tournament        city     country  neutral  \n",
       "618                            Muratti Vase    Guernsey    Guernsey    False  \n",
       "37615  African Cup of Nations qualification  Nouakchott  Mauritania    False  \n",
       "29924                              Friendly   Melbourne   Australia    False  \n",
       "39212                              Friendly     Kowloon   Hong Kong    False  \n",
       "39635                              Friendly     Antalya      Turkey    False  "
      ]
     },
     "execution_count": 5,
     "metadata": {},
     "output_type": "execute_result"
    }
   ],
   "source": [
    "results_df.sample(5)"
   ]
  },
  {
   "cell_type": "code",
   "execution_count": 8,
   "metadata": {},
   "outputs": [
    {
     "data": {
      "text/plain": [
       "Index(['date', 'home_team', 'away_team', 'team', 'scorer', 'minute',\n",
       "       'own_goal', 'penalty'],\n",
       "      dtype='object')"
      ]
     },
     "execution_count": 8,
     "metadata": {},
     "output_type": "execute_result"
    }
   ],
   "source": [
    "goalscorers_df.columns"
   ]
  },
  {
   "cell_type": "code",
   "execution_count": 13,
   "metadata": {},
   "outputs": [
    {
     "data": {
      "text/plain": [
       "Index(['date', 'home_team', 'away_team', 'winner', 'first_shooter'], dtype='object')"
      ]
     },
     "execution_count": 13,
     "metadata": {},
     "output_type": "execute_result"
    }
   ],
   "source": [
    "shootouts_df.columns"
   ]
  },
  {
   "cell_type": "code",
   "execution_count": 6,
   "metadata": {},
   "outputs": [
    {
     "data": {
      "text/plain": [
       "Index(['date', 'home_team', 'away_team', 'home_score', 'away_score',\n",
       "       'tournament', 'city', 'country', 'neutral'],\n",
       "      dtype='object')"
      ]
     },
     "execution_count": 6,
     "metadata": {},
     "output_type": "execute_result"
    }
   ],
   "source": [
    "results_df.columns"
   ]
  },
  {
   "cell_type": "code",
   "execution_count": 11,
   "metadata": {},
   "outputs": [
    {
     "name": "stdout",
     "output_type": "stream",
     "text": [
      "['FIFA World Cup', 'FIFA World Cup qualification', 'FIFA 75th Anniversary Cup', 'FIFA Series']\n"
     ]
    }
   ],
   "source": [
    "tournaments = results_df.tournament.unique().tolist()\n",
    "\n",
    "# Tournaments by FIFA\n",
    "FIFA_TOURNAMENTS = [t for t in tournaments if 'FIFA' in t]\n",
    "\n",
    "print(FIFA_TOURNAMENTS)\n"
   ]
  },
  {
   "cell_type": "code",
   "execution_count": 7,
   "metadata": {},
   "outputs": [
    {
     "name": "stdout",
     "output_type": "stream",
     "text": [
      "[1930 1934 1938 1950 1954 1958 1962 1966 1970 1974 1978 1982 1986 1990\n",
      " 1994 1998 2002 2006 2010 2014 2018 2022]\n"
     ]
    }
   ],
   "source": [
    "world_cup_matches = results_df[results_df['tournament'] == 'FIFA World Cup']\n",
    "\n",
    "# Unique world cups\n",
    "unique_world_cups = world_cup_matches['date'].dt.year.unique()\n",
    "print(unique_world_cups)"
   ]
  },
  {
   "cell_type": "code",
   "execution_count": 9,
   "metadata": {},
   "outputs": [
    {
     "data": {
      "text/plain": [
       "date\n",
       "1930    18\n",
       "1934    17\n",
       "1938    18\n",
       "1950    22\n",
       "1954    26\n",
       "1958    35\n",
       "1962    32\n",
       "1966    32\n",
       "1970    32\n",
       "1974    38\n",
       "1978    38\n",
       "1982    52\n",
       "1986    52\n",
       "1990    52\n",
       "1994    52\n",
       "1998    64\n",
       "2002    64\n",
       "2006    64\n",
       "2010    64\n",
       "2014    64\n",
       "2018    64\n",
       "2022    64\n",
       "Name: count, dtype: int64"
      ]
     },
     "execution_count": 9,
     "metadata": {},
     "output_type": "execute_result"
    }
   ],
   "source": [
    "# Number of matches per world cup\n",
    "world_cup_matches['date'].dt.year.value_counts().sort_index()"
   ]
  },
  {
   "cell_type": "code",
   "execution_count": 12,
   "metadata": {},
   "outputs": [
    {
     "data": {
      "text/plain": [
       "Index(['date', 'home_team', 'away_team', 'team', 'scorer', 'minute',\n",
       "       'own_goal', 'penalty'],\n",
       "      dtype='object')"
      ]
     },
     "execution_count": 12,
     "metadata": {},
     "output_type": "execute_result"
    }
   ],
   "source": [
    "goalscorers_df.columns"
   ]
  },
  {
   "cell_type": "code",
   "execution_count": 10,
   "metadata": {},
   "outputs": [
    {
     "data": {
      "text/plain": [
       "(2720, 14)"
      ]
     },
     "execution_count": 10,
     "metadata": {},
     "output_type": "execute_result"
    }
   ],
   "source": [
    "# Merge goal scorers with world cup matches\n",
    "goal_scorers_with_matches = world_cup_matches.merge(goalscorers_df, on=['date', 'home_team', 'away_team'])\n",
    "\n",
    "goal_scorers_with_matches.shape"
   ]
  },
  {
   "cell_type": "code",
   "execution_count": 14,
   "metadata": {},
   "outputs": [
    {
     "data": {
      "text/plain": [
       "(11,)"
      ]
     },
     "execution_count": 14,
     "metadata": {},
     "output_type": "execute_result"
    }
   ],
   "source": [
    "goals_by_player = goal_scorers_with_matches[goal_scorers_with_matches['scorer'] == 'Miroslav Klose']\n",
    "\n",
    "goals_by_player.date.unique().shape"
   ]
  },
  {
   "cell_type": "code",
   "execution_count": 15,
   "metadata": {},
   "outputs": [
    {
     "data": {
      "text/plain": [
       "array(['Friendly', 'British Home Championship', 'Évence Coppée Trophy',\n",
       "       'Muratti Vase', 'Copa Lipton', 'Copa Newton',\n",
       "       'Copa Premio Honor Argentino', 'Copa Premio Honor Uruguayo',\n",
       "       'Far Eastern Championship Games', 'Copa Roca', 'Copa América',\n",
       "       'Peace Cup', 'Open International Championship',\n",
       "       'Copa Chevallier Boutell', 'Olympic Games', 'Nordic Championship',\n",
       "       'Central European International Cup', 'Baltic Cup', 'Balkan Cup',\n",
       "       'Central American and Caribbean Games', 'FIFA World Cup',\n",
       "       'Copa Rio Branco', 'FIFA World Cup qualification',\n",
       "       'Bolivarian Games', 'CCCF Championship', 'NAFC Championship',\n",
       "       'Copa Oswaldo Cruz', 'Asian Games', 'Pan American Championship',\n",
       "       'Copa del Pacífico', \"Copa Bernardo O'Higgins\",\n",
       "       'AFC Asian Cup qualification', 'Atlantic Cup', 'AFC Asian Cup',\n",
       "       'African Cup of Nations', 'Copa Paz del Chaco',\n",
       "       'Merdeka Tournament', 'UEFA Euro qualification',\n",
       "       'Southeast Asian Peninsular Games', 'African Friendship Games',\n",
       "       'UEFA Euro', 'Windward Islands Tournament',\n",
       "       'African Cup of Nations qualification', 'Vietnam Independence Cup',\n",
       "       'Copa Carlos Dittborn', 'Phillip Seaga Cup',\n",
       "       'CONCACAF Championship', 'Copa Juan Pinto Durán', 'Arab Cup',\n",
       "       'South Pacific Games', 'CONCACAF Championship qualification',\n",
       "       'Copa Artigas', 'All-African Games', 'GaNEFo', \"King's Cup\",\n",
       "       'Gulf Cup', 'Indonesia Tournament', 'Korea Cup', 'Palestine Cup',\n",
       "       'Brazil Independence Cup', 'Copa Ramón Castilla',\n",
       "       'Oceania Nations Cup', 'CECAFA Cup', 'Kuneitra Cup',\n",
       "       'Copa Félix Bogado', 'Real Madrid 75th Anniversary Cup',\n",
       "       'Beijing International Friendship Tournament',\n",
       "       'Southeast Asian Games', 'Kirin Cup',\n",
       "       'CFU Caribbean Cup qualification', 'CFU Caribbean Cup',\n",
       "       'Amílcar Cabral Cup', 'FIFA 75th Anniversary Cup',\n",
       "       'Indian Ocean Island Games',\n",
       "       'Guangzhou International Friendship Tournament', 'Mundialito',\n",
       "       'South Pacific Mini Games', 'West African Cup', 'Nehru Cup',\n",
       "       'Merlion Cup', 'Great Wall Cup', 'South Asian Games', 'UDEAC Cup',\n",
       "       'Rous Cup', 'CONMEBOL–UEFA Cup of Champions', 'Miami Cup',\n",
       "       'Lunar New Year Cup', 'Arab Cup qualification',\n",
       "       'Tournoi de France', 'Malta International Tournament',\n",
       "       'Four Nations Tournament', 'Matthews Cup',\n",
       "       'Tournament Burkina Faso', 'Marlboro Cup', 'Island Games',\n",
       "       'NAFU Championship', 'Dynasty Cup', 'Dakar Tournament',\n",
       "       'UNCAF Cup', 'Scania 100 Tournament', 'Gold Cup', 'USA Cup',\n",
       "       'Jordan International Tournament', 'Confederations Cup',\n",
       "       'East Asian Games', 'United Arab Emirates Friendship Tournament',\n",
       "       'Joe Robbie Cup', 'Oceania Nations Cup qualification',\n",
       "       'Simba Tournament', 'SAFF Cup', 'AFF Championship',\n",
       "       'King Hassan II Tournament', 'Cyprus International Tournament',\n",
       "       'Dunhill Cup', 'COSAFA Cup qualification', 'COSAFA Cup',\n",
       "       'Gold Cup qualification', 'AFF Championship qualification',\n",
       "       'SKN Football Festival', 'UNIFFAC Cup', 'WAFF Championship',\n",
       "       'Millennium Cup', 'Cup of Ancient Civilizations',\n",
       "       \"Prime Minister's Cup\", 'The Other Final', 'EAFF Championship',\n",
       "       'TIFOCO Tournament', 'Afro-Asian Games', 'AFC Challenge Cup',\n",
       "       'FIFI Wild Cup', 'ELF Cup', 'Viva World Cup',\n",
       "       'AFC Challenge Cup qualification', \"Coupe de l'Outre-Mer\",\n",
       "       'VFF Cup', 'Corsica Cup', 'Dragon Cup', 'ABCS Tournament',\n",
       "       'Nile Basin Tournament', 'Nations Cup', 'Copa Confraternidad',\n",
       "       'Pacific Games', 'Superclásico de las Américas',\n",
       "       'Africa Cup of Nations qualification', 'Kirin Challenge Cup',\n",
       "       'Tynwald Hill Tournament', 'OSN Cup', 'CONIFA World Football Cup',\n",
       "       'Niamh Challenge Cup', 'CONIFA European Football Cup',\n",
       "       'Benedikt Fontana Cup', 'Copa América qualification',\n",
       "       'ConIFA Challenger Cup', 'Hungary Heritage Cup', 'World Unity Cup',\n",
       "       'Pacific Mini Games', 'Intercontinental Cup',\n",
       "       'UEFA Nations League', 'CONCACAF Nations League qualification',\n",
       "       'Atlantic Heritage Cup', 'Inter Games Football Tournament',\n",
       "       'CONCACAF Nations League', 'Three Nations Cup',\n",
       "       'Mahinda Rajapaksa Cup', 'Navruz Cup',\n",
       "       'CONIFA Africa Football Cup', 'CONIFA South America Football Cup',\n",
       "       \"MSG Prime Minister's Cup\", 'Tri Nation Tournament',\n",
       "       'CAFA Nations Cup', 'Mauritius Four Nations Cup',\n",
       "       'CONIFA World Football Cup qualification', 'CONIFA Asia Cup',\n",
       "       'FIFA Series', 'Marianas Cup', 'Tri-Nations Series'], dtype=object)"
      ]
     },
     "execution_count": 15,
     "metadata": {},
     "output_type": "execute_result"
    }
   ],
   "source": [
    "results_df.tournament.unique()"
   ]
  },
  {
   "cell_type": "code",
   "execution_count": null,
   "metadata": {},
   "outputs": [],
   "source": []
  }
 ],
 "metadata": {
  "kernelspec": {
   "display_name": "neo4j",
   "language": "python",
   "name": "neo4j"
  },
  "language_info": {
   "codemirror_mode": {
    "name": "ipython",
    "version": 3
   },
   "file_extension": ".py",
   "mimetype": "text/x-python",
   "name": "python",
   "nbconvert_exporter": "python",
   "pygments_lexer": "ipython3",
   "version": "3.12.5"
  }
 },
 "nbformat": 4,
 "nbformat_minor": 2
}
