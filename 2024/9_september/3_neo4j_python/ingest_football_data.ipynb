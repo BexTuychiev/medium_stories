{
 "cells": [
  {
   "cell_type": "markdown",
   "metadata": {},
   "source": [
    "## Exploring the data"
   ]
  },
  {
   "cell_type": "code",
   "execution_count": 3,
   "metadata": {},
   "outputs": [],
   "source": [
    "import pandas as pd"
   ]
  },
  {
   "cell_type": "code",
   "execution_count": 14,
   "metadata": {},
   "outputs": [],
   "source": [
    "results_csv_path = \"https://raw.githubusercontent.com/martj42/international_results/refs/heads/master/results.csv\"\n",
    "goalscorers_csv_path = \"https://raw.githubusercontent.com/martj42/international_results/refs/heads/master/goalscorers.csv\"\n",
    "shootouts_csv_path = \"https://raw.githubusercontent.com/martj42/international_results/refs/heads/master/shootouts.csv\"\n",
    "\n",
    "csv_paths = [results_csv_path, goalscorers_csv_path, shootouts_csv_path]"
   ]
  },
  {
   "cell_type": "code",
   "execution_count": 31,
   "metadata": {},
   "outputs": [],
   "source": [
    "results_df = pd.read_csv(results_csv_path, parse_dates=['date'])\n",
    "goalscorers_df = pd.read_csv(goalscorers_csv_path, parse_dates=['date'])\n",
    "shootouts_df = pd.read_csv(shootouts_csv_path, parse_dates=['date'])"
   ]
  },
  {
   "cell_type": "code",
   "execution_count": 32,
   "metadata": {},
   "outputs": [
    {
     "data": {
      "text/html": [
       "<div>\n",
       "<style scoped>\n",
       "    .dataframe tbody tr th:only-of-type {\n",
       "        vertical-align: middle;\n",
       "    }\n",
       "\n",
       "    .dataframe tbody tr th {\n",
       "        vertical-align: top;\n",
       "    }\n",
       "\n",
       "    .dataframe thead th {\n",
       "        text-align: right;\n",
       "    }\n",
       "</style>\n",
       "<table border=\"1\" class=\"dataframe\">\n",
       "  <thead>\n",
       "    <tr style=\"text-align: right;\">\n",
       "      <th></th>\n",
       "      <th>date</th>\n",
       "      <th>home_team</th>\n",
       "      <th>away_team</th>\n",
       "      <th>home_score</th>\n",
       "      <th>away_score</th>\n",
       "      <th>tournament</th>\n",
       "      <th>city</th>\n",
       "      <th>country</th>\n",
       "      <th>neutral</th>\n",
       "    </tr>\n",
       "  </thead>\n",
       "  <tbody>\n",
       "    <tr>\n",
       "      <th>3663</th>\n",
       "      <td>1953-03-07</td>\n",
       "      <td>Netherlands</td>\n",
       "      <td>Denmark</td>\n",
       "      <td>1</td>\n",
       "      <td>2</td>\n",
       "      <td>Friendly</td>\n",
       "      <td>Rotterdam</td>\n",
       "      <td>Netherlands</td>\n",
       "      <td>False</td>\n",
       "    </tr>\n",
       "    <tr>\n",
       "      <th>23053</th>\n",
       "      <td>1998-09-25</td>\n",
       "      <td>Australia</td>\n",
       "      <td>Fiji</td>\n",
       "      <td>3</td>\n",
       "      <td>1</td>\n",
       "      <td>Oceania Nations Cup</td>\n",
       "      <td>Brisbane</td>\n",
       "      <td>Australia</td>\n",
       "      <td>False</td>\n",
       "    </tr>\n",
       "    <tr>\n",
       "      <th>43743</th>\n",
       "      <td>2021-03-27</td>\n",
       "      <td>Wales</td>\n",
       "      <td>Mexico</td>\n",
       "      <td>1</td>\n",
       "      <td>0</td>\n",
       "      <td>Friendly</td>\n",
       "      <td>Cardiff</td>\n",
       "      <td>Wales</td>\n",
       "      <td>False</td>\n",
       "    </tr>\n",
       "    <tr>\n",
       "      <th>29197</th>\n",
       "      <td>2005-06-05</td>\n",
       "      <td>Mali</td>\n",
       "      <td>Liberia</td>\n",
       "      <td>4</td>\n",
       "      <td>1</td>\n",
       "      <td>FIFA World Cup qualification</td>\n",
       "      <td>Ségou</td>\n",
       "      <td>Mali</td>\n",
       "      <td>False</td>\n",
       "    </tr>\n",
       "    <tr>\n",
       "      <th>1370</th>\n",
       "      <td>1929-11-03</td>\n",
       "      <td>Trinidad and Tobago</td>\n",
       "      <td>Guyana</td>\n",
       "      <td>3</td>\n",
       "      <td>1</td>\n",
       "      <td>Friendly</td>\n",
       "      <td>Port of Spain</td>\n",
       "      <td>Trinidad and Tobago</td>\n",
       "      <td>False</td>\n",
       "    </tr>\n",
       "  </tbody>\n",
       "</table>\n",
       "</div>"
      ],
      "text/plain": [
       "            date            home_team away_team  home_score  away_score  \\\n",
       "3663  1953-03-07          Netherlands   Denmark           1           2   \n",
       "23053 1998-09-25            Australia      Fiji           3           1   \n",
       "43743 2021-03-27                Wales    Mexico           1           0   \n",
       "29197 2005-06-05                 Mali   Liberia           4           1   \n",
       "1370  1929-11-03  Trinidad and Tobago    Guyana           3           1   \n",
       "\n",
       "                         tournament           city              country  \\\n",
       "3663                       Friendly      Rotterdam          Netherlands   \n",
       "23053           Oceania Nations Cup       Brisbane            Australia   \n",
       "43743                      Friendly        Cardiff                Wales   \n",
       "29197  FIFA World Cup qualification          Ségou                 Mali   \n",
       "1370                       Friendly  Port of Spain  Trinidad and Tobago   \n",
       "\n",
       "       neutral  \n",
       "3663     False  \n",
       "23053    False  \n",
       "43743    False  \n",
       "29197    False  \n",
       "1370     False  "
      ]
     },
     "execution_count": 32,
     "metadata": {},
     "output_type": "execute_result"
    }
   ],
   "source": [
    "results_df.sample(5)"
   ]
  },
  {
   "cell_type": "code",
   "execution_count": 33,
   "metadata": {},
   "outputs": [
    {
     "data": {
      "text/plain": [
       "(47598, 9)"
      ]
     },
     "execution_count": 33,
     "metadata": {},
     "output_type": "execute_result"
    }
   ],
   "source": [
    "results_df.shape"
   ]
  },
  {
   "cell_type": "code",
   "execution_count": 16,
   "metadata": {},
   "outputs": [
    {
     "data": {
      "text/html": [
       "<div>\n",
       "<style scoped>\n",
       "    .dataframe tbody tr th:only-of-type {\n",
       "        vertical-align: middle;\n",
       "    }\n",
       "\n",
       "    .dataframe tbody tr th {\n",
       "        vertical-align: top;\n",
       "    }\n",
       "\n",
       "    .dataframe thead th {\n",
       "        text-align: right;\n",
       "    }\n",
       "</style>\n",
       "<table border=\"1\" class=\"dataframe\">\n",
       "  <thead>\n",
       "    <tr style=\"text-align: right;\">\n",
       "      <th></th>\n",
       "      <th>date</th>\n",
       "      <th>home_team</th>\n",
       "      <th>away_team</th>\n",
       "      <th>winner</th>\n",
       "      <th>first_shooter</th>\n",
       "    </tr>\n",
       "  </thead>\n",
       "  <tbody>\n",
       "    <tr>\n",
       "      <th>386</th>\n",
       "      <td>2007-05-06</td>\n",
       "      <td>Guernsey</td>\n",
       "      <td>Jersey</td>\n",
       "      <td>Jersey</td>\n",
       "      <td>NaN</td>\n",
       "    </tr>\n",
       "    <tr>\n",
       "      <th>360</th>\n",
       "      <td>2005-05-15</td>\n",
       "      <td>Jersey</td>\n",
       "      <td>Guernsey</td>\n",
       "      <td>Guernsey</td>\n",
       "      <td>NaN</td>\n",
       "    </tr>\n",
       "    <tr>\n",
       "      <th>394</th>\n",
       "      <td>2007-07-29</td>\n",
       "      <td>Botswana</td>\n",
       "      <td>Angola</td>\n",
       "      <td>Botswana</td>\n",
       "      <td>NaN</td>\n",
       "    </tr>\n",
       "    <tr>\n",
       "      <th>528</th>\n",
       "      <td>2018-07-03</td>\n",
       "      <td>Colombia</td>\n",
       "      <td>England</td>\n",
       "      <td>England</td>\n",
       "      <td>Colombia</td>\n",
       "    </tr>\n",
       "    <tr>\n",
       "      <th>107</th>\n",
       "      <td>1987-06-21</td>\n",
       "      <td>South Korea</td>\n",
       "      <td>Australia</td>\n",
       "      <td>South Korea</td>\n",
       "      <td>NaN</td>\n",
       "    </tr>\n",
       "  </tbody>\n",
       "</table>\n",
       "</div>"
      ],
      "text/plain": [
       "          date    home_team  away_team       winner first_shooter\n",
       "386 2007-05-06     Guernsey     Jersey       Jersey           NaN\n",
       "360 2005-05-15       Jersey   Guernsey     Guernsey           NaN\n",
       "394 2007-07-29     Botswana     Angola     Botswana           NaN\n",
       "528 2018-07-03     Colombia    England      England      Colombia\n",
       "107 1987-06-21  South Korea  Australia  South Korea           NaN"
      ]
     },
     "execution_count": 16,
     "metadata": {},
     "output_type": "execute_result"
    }
   ],
   "source": [
    "shootouts_df.sample(5)"
   ]
  },
  {
   "cell_type": "code",
   "execution_count": 17,
   "metadata": {},
   "outputs": [
    {
     "data": {
      "text/html": [
       "<div>\n",
       "<style scoped>\n",
       "    .dataframe tbody tr th:only-of-type {\n",
       "        vertical-align: middle;\n",
       "    }\n",
       "\n",
       "    .dataframe tbody tr th {\n",
       "        vertical-align: top;\n",
       "    }\n",
       "\n",
       "    .dataframe thead th {\n",
       "        text-align: right;\n",
       "    }\n",
       "</style>\n",
       "<table border=\"1\" class=\"dataframe\">\n",
       "  <thead>\n",
       "    <tr style=\"text-align: right;\">\n",
       "      <th></th>\n",
       "      <th>date</th>\n",
       "      <th>home_team</th>\n",
       "      <th>away_team</th>\n",
       "      <th>team</th>\n",
       "      <th>scorer</th>\n",
       "      <th>minute</th>\n",
       "      <th>own_goal</th>\n",
       "      <th>penalty</th>\n",
       "    </tr>\n",
       "  </thead>\n",
       "  <tbody>\n",
       "    <tr>\n",
       "      <th>41663</th>\n",
       "      <td>2021-10-11</td>\n",
       "      <td>Croatia</td>\n",
       "      <td>Slovakia</td>\n",
       "      <td>Slovakia</td>\n",
       "      <td>Ivan Schranz</td>\n",
       "      <td>20.0</td>\n",
       "      <td>False</td>\n",
       "      <td>False</td>\n",
       "    </tr>\n",
       "    <tr>\n",
       "      <th>5947</th>\n",
       "      <td>1970-10-14</td>\n",
       "      <td>Denmark</td>\n",
       "      <td>Portugal</td>\n",
       "      <td>Portugal</td>\n",
       "      <td>Jacinto João</td>\n",
       "      <td>40.0</td>\n",
       "      <td>False</td>\n",
       "      <td>False</td>\n",
       "    </tr>\n",
       "    <tr>\n",
       "      <th>27494</th>\n",
       "      <td>2007-11-21</td>\n",
       "      <td>Hungary</td>\n",
       "      <td>Greece</td>\n",
       "      <td>Greece</td>\n",
       "      <td>Vilmos Vanczák</td>\n",
       "      <td>22.0</td>\n",
       "      <td>True</td>\n",
       "      <td>False</td>\n",
       "    </tr>\n",
       "    <tr>\n",
       "      <th>7993</th>\n",
       "      <td>1977-10-09</td>\n",
       "      <td>Denmark</td>\n",
       "      <td>Portugal</td>\n",
       "      <td>Portugal</td>\n",
       "      <td>Nené</td>\n",
       "      <td>35.0</td>\n",
       "      <td>False</td>\n",
       "      <td>False</td>\n",
       "    </tr>\n",
       "    <tr>\n",
       "      <th>28140</th>\n",
       "      <td>2008-06-20</td>\n",
       "      <td>Libya</td>\n",
       "      <td>Lesotho</td>\n",
       "      <td>Libya</td>\n",
       "      <td>Hesham Shaban</td>\n",
       "      <td>81.0</td>\n",
       "      <td>False</td>\n",
       "      <td>False</td>\n",
       "    </tr>\n",
       "  </tbody>\n",
       "</table>\n",
       "</div>"
      ],
      "text/plain": [
       "            date home_team away_team      team          scorer  minute  \\\n",
       "41663 2021-10-11   Croatia  Slovakia  Slovakia    Ivan Schranz    20.0   \n",
       "5947  1970-10-14   Denmark  Portugal  Portugal    Jacinto João    40.0   \n",
       "27494 2007-11-21   Hungary    Greece    Greece  Vilmos Vanczák    22.0   \n",
       "7993  1977-10-09   Denmark  Portugal  Portugal            Nené    35.0   \n",
       "28140 2008-06-20     Libya   Lesotho     Libya   Hesham Shaban    81.0   \n",
       "\n",
       "       own_goal  penalty  \n",
       "41663     False    False  \n",
       "5947      False    False  \n",
       "27494      True    False  \n",
       "7993      False    False  \n",
       "28140     False    False  "
      ]
     },
     "execution_count": 17,
     "metadata": {},
     "output_type": "execute_result"
    }
   ],
   "source": [
    "goalscorers_df.sample(5)"
   ]
  },
  {
   "cell_type": "code",
   "execution_count": 18,
   "metadata": {},
   "outputs": [
    {
     "data": {
      "text/plain": [
       "date               0\n",
       "home_team          0\n",
       "away_team          0\n",
       "winner             0\n",
       "first_shooter    415\n",
       "dtype: int64"
      ]
     },
     "execution_count": 18,
     "metadata": {},
     "output_type": "execute_result"
    }
   ],
   "source": [
    "shootouts_df.isnull().sum()"
   ]
  },
  {
   "cell_type": "code",
   "execution_count": 19,
   "metadata": {},
   "outputs": [
    {
     "data": {
      "text/plain": [
       "date          0\n",
       "home_team     0\n",
       "away_team     0\n",
       "home_score    0\n",
       "away_score    0\n",
       "tournament    0\n",
       "city          0\n",
       "country       0\n",
       "neutral       0\n",
       "dtype: int64"
      ]
     },
     "execution_count": 19,
     "metadata": {},
     "output_type": "execute_result"
    }
   ],
   "source": [
    "results_df.isnull().sum()"
   ]
  },
  {
   "cell_type": "code",
   "execution_count": 20,
   "metadata": {},
   "outputs": [
    {
     "data": {
      "text/plain": [
       "date           0\n",
       "home_team      0\n",
       "away_team      0\n",
       "team           0\n",
       "scorer        49\n",
       "minute       259\n",
       "own_goal       0\n",
       "penalty        0\n",
       "dtype: int64"
      ]
     },
     "execution_count": 20,
     "metadata": {},
     "output_type": "execute_result"
    }
   ],
   "source": [
    "goalscorers_df.isnull().sum()"
   ]
  },
  {
   "cell_type": "code",
   "execution_count": 25,
   "metadata": {},
   "outputs": [
    {
     "data": {
      "text/plain": [
       "Timestamp('1967-08-22 00:00:00')"
      ]
     },
     "execution_count": 25,
     "metadata": {},
     "output_type": "execute_result"
    }
   ],
   "source": [
    "shootouts_df['date'].min()"
   ]
  },
  {
   "cell_type": "code",
   "execution_count": 26,
   "metadata": {},
   "outputs": [
    {
     "data": {
      "text/plain": [
       "Timestamp('1916-07-02 00:00:00')"
      ]
     },
     "execution_count": 26,
     "metadata": {},
     "output_type": "execute_result"
    }
   ],
   "source": [
    "goalscorers_df['date'].min()"
   ]
  },
  {
   "cell_type": "code",
   "execution_count": 27,
   "metadata": {},
   "outputs": [
    {
     "data": {
      "text/plain": [
       "Timestamp('1872-11-30 00:00:00')"
      ]
     },
     "execution_count": 27,
     "metadata": {},
     "output_type": "execute_result"
    }
   ],
   "source": [
    "results_df['date'].min()"
   ]
  },
  {
   "cell_type": "code",
   "execution_count": 28,
   "metadata": {},
   "outputs": [
    {
     "data": {
      "text/plain": [
       "Index(['date', 'home_team', 'away_team', 'team', 'scorer', 'minute',\n",
       "       'own_goal', 'penalty'],\n",
       "      dtype='object')"
      ]
     },
     "execution_count": 28,
     "metadata": {},
     "output_type": "execute_result"
    }
   ],
   "source": [
    "goalscorers_df.columns"
   ]
  },
  {
   "cell_type": "code",
   "execution_count": 29,
   "metadata": {},
   "outputs": [
    {
     "data": {
      "text/plain": [
       "Index(['date', 'home_team', 'away_team', 'winner', 'first_shooter'], dtype='object')"
      ]
     },
     "execution_count": 29,
     "metadata": {},
     "output_type": "execute_result"
    }
   ],
   "source": [
    "shootouts_df.columns"
   ]
  },
  {
   "cell_type": "code",
   "execution_count": 30,
   "metadata": {},
   "outputs": [
    {
     "data": {
      "text/plain": [
       "Index(['date', 'home_team', 'away_team', 'home_score', 'away_score',\n",
       "       'tournament', 'city', 'country', 'neutral'],\n",
       "      dtype='object')"
      ]
     },
     "execution_count": 30,
     "metadata": {},
     "output_type": "execute_result"
    }
   ],
   "source": [
    "results_df.columns"
   ]
  },
  {
   "cell_type": "markdown",
   "metadata": {},
   "source": [
    "### Data ingestion"
   ]
  },
  {
   "cell_type": "code",
   "execution_count": 54,
   "metadata": {},
   "outputs": [
    {
     "name": "stdout",
     "output_type": "stream",
     "text": [
      "Connected to Neo4j instance successfully!\n"
     ]
    }
   ],
   "source": [
    "import neo4j\n",
    "from dotenv import load_dotenv\n",
    "import os \n",
    "\n",
    "load_dotenv()\n",
    "\n",
    "uri = os.getenv(\"NEO4J_URI\")\n",
    "user = os.getenv(\"NEO4J_USERNAME\")\n",
    "password = os.getenv(\"NEO4J_PASSWORD\")\n",
    "\n",
    "try:\n",
    "    driver = neo4j.GraphDatabase.driver(uri, auth=(user, password))\n",
    "    print(\"Connected to Neo4j instance successfully!\")\n",
    "except Exception as e:\n",
    "    print(f\"Failed to connect to Neo4j: {e}\")"
   ]
  },
  {
   "cell_type": "code",
   "execution_count": 55,
   "metadata": {},
   "outputs": [
    {
     "name": "stdout",
     "output_type": "stream",
     "text": [
      "Indexes created.\n"
     ]
    },
    {
     "name": "stderr",
     "output_type": "stream",
     "text": [
      "Ingesting matches: 100%|██████████| 48/48 [03:26<00:00,  4.31s/it]\n",
      "Ingesting goals: 100%|██████████| 45/45 [00:26<00:00,  1.68it/s]\n",
      "Ingesting shootouts: 100%|██████████| 1/1 [00:00<00:00,  3.41it/s]"
     ]
    },
    {
     "name": "stdout",
     "output_type": "stream",
     "text": [
      "Data ingestion completed!\n"
     ]
    },
    {
     "name": "stderr",
     "output_type": "stream",
     "text": [
      "\n"
     ]
    }
   ],
   "source": [
    "from tqdm import tqdm\n",
    "import logging\n",
    "\n",
    "def create_indexes(session):\n",
    "    indexes = [\n",
    "        \"CREATE INDEX IF NOT EXISTS FOR (t:Team) ON (t.name)\",\n",
    "        \"CREATE INDEX IF NOT EXISTS FOR (m:Match) ON (m.id)\",\n",
    "        \"CREATE INDEX IF NOT EXISTS FOR (p:Player) ON (p.name)\",\n",
    "        \"CREATE INDEX IF NOT EXISTS FOR (t:Tournament) ON (t.name)\",\n",
    "        \"CREATE INDEX IF NOT EXISTS FOR (c:City) ON (c.name)\",\n",
    "        \"CREATE INDEX IF NOT EXISTS FOR (c:Country) ON (c.name)\",\n",
    "    ]\n",
    "    for index in indexes:\n",
    "        session.run(index)\n",
    "    print(\"Indexes created.\")\n",
    "\n",
    "\n",
    "def ingest_matches(session, df):\n",
    "    query = \"\"\"\n",
    "    UNWIND $batch AS row\n",
    "    MERGE (m:Match {id: row.id})\n",
    "    SET m.date = date(row.date), m.home_score = row.home_score, m.away_score = row.away_score, m.neutral = row.neutral\n",
    "    MERGE (home:Team {name: row.home_team})\n",
    "    MERGE (away:Team {name: row.away_team})\n",
    "    MERGE (t:Tournament {name: row.tournament})\n",
    "    MERGE (c:City {name: row.city})\n",
    "    MERGE (country:Country {name: row.country})\n",
    "    MERGE (home)-[:PLAYED_HOME]->(m)\n",
    "    MERGE (away)-[:PLAYED_AWAY]->(m)\n",
    "    MERGE (m)-[:PART_OF]->(t)\n",
    "    MERGE (m)-[:PLAYED_IN]->(c)\n",
    "    MERGE (c)-[:LOCATED_IN]->(country)\n",
    "    WITH m, home, away, row.home_score AS hs, row.away_score AS as\n",
    "    FOREACH(_ IN CASE WHEN hs > as THEN [1] ELSE [] END |\n",
    "        MERGE (home)-[:WON]->(m)\n",
    "        MERGE (away)-[:LOST]->(m)\n",
    "    )\n",
    "    FOREACH(_ IN CASE WHEN hs < as THEN [1] ELSE [] END |\n",
    "        MERGE (away)-[:WON]->(m)\n",
    "        MERGE (home)-[:LOST]->(m)\n",
    "    )\n",
    "    FOREACH(_ IN CASE WHEN hs = as THEN [1] ELSE [] END |\n",
    "        MERGE (home)-[:DREW]->(m)\n",
    "        MERGE (away)-[:DREW]->(m)\n",
    "    )\n",
    "    \"\"\"\n",
    "    batch_size = 1000\n",
    "    for i in tqdm(range(0, len(df), batch_size), desc=\"Ingesting matches\"):\n",
    "        batch = df.iloc[i : i + batch_size]\n",
    "        data = []\n",
    "        for _, row in batch.iterrows():\n",
    "            match_data = {\n",
    "                \"id\": f\"{row['date']}_{row['home_team']}_{row['away_team']}\",\n",
    "                \"date\": row[\"date\"].strftime(\"%Y-%m-%d\"),  # Convert date to string\n",
    "                \"home_score\": int(row[\"home_score\"]),\n",
    "                \"away_score\": int(row[\"away_score\"]),\n",
    "                \"neutral\": bool(row[\"neutral\"]),\n",
    "                \"home_team\": row[\"home_team\"],\n",
    "                \"away_team\": row[\"away_team\"],\n",
    "                \"tournament\": row[\"tournament\"],\n",
    "                \"city\": row[\"city\"],\n",
    "                \"country\": row[\"country\"],\n",
    "            }\n",
    "            data.append(match_data)\n",
    "        session.run(query, batch=data)\n",
    "\n",
    "\n",
    "\n",
    "logging.basicConfig(level=logging.INFO)\n",
    "logger = logging.getLogger(__name__)\n",
    "\n",
    "\n",
    "def ingest_goals(session, df):\n",
    "    query = \"\"\"\n",
    "    UNWIND $batch AS row\n",
    "    MATCH (m:Match {id: row.id})\n",
    "    MERGE (p:Player {name: row.scorer})\n",
    "    MERGE (t:Team {name: row.team})\n",
    "    MERGE (p)-[s:SCORED_FOR]->(t)\n",
    "    SET s.own_goal = row.own_goal,\n",
    "        s.penalty = row.penalty\n",
    "    FOREACH(_ IN CASE WHEN row.minute IS NOT NULL THEN [1] ELSE [] END |\n",
    "        SET s.minute = row.minute\n",
    "    )\n",
    "    MERGE (p)-[:SCORED_IN]->(m)\n",
    "    \"\"\"\n",
    "    batch_size = 1000\n",
    "    for i in tqdm(range(0, len(df), batch_size), desc=\"Ingesting goals\"):\n",
    "        batch = df.iloc[i : i + batch_size]\n",
    "        data = []\n",
    "        for _, row in batch.iterrows():\n",
    "            try:\n",
    "                goal_data = {\n",
    "                    \"id\": f\"{row['date']}_{row['home_team']}_{row['away_team']}\",\n",
    "                    \"scorer\": (\n",
    "                        row[\"scorer\"] if not pd.isna(row[\"scorer\"]) else \"Unnamed Player\"\n",
    "                    ),\n",
    "                    \"team\": row[\"team\"],\n",
    "                    \"minute\": (\n",
    "                        float(row[\"minute\"]) if pd.notnull(row[\"minute\"]) else None\n",
    "                    ),\n",
    "                    \"own_goal\": bool(row[\"own_goal\"]),\n",
    "                    \"penalty\": bool(row[\"penalty\"]),\n",
    "                }\n",
    "                data.append(goal_data)\n",
    "            except Exception as e:\n",
    "                logger.error(f\"Error processing row: {row}\")\n",
    "                logger.error(f\"Error details: {str(e)}\")\n",
    "\n",
    "        if data:\n",
    "            try:\n",
    "                session.run(query, batch=data)\n",
    "            except Exception as e:\n",
    "                logger.error(f\"Error executing batch: {str(e)}\")\n",
    "                logger.error(f\"Problematic batch: {data}\")\n",
    "\n",
    "\n",
    "def ingest_shootouts(session, df):\n",
    "    query = \"\"\"\n",
    "    UNWIND $batch AS row\n",
    "    MATCH (m:Match {id: row.id})\n",
    "    MATCH (w:Team {name: row.winner})\n",
    "    MERGE (m)-[s:HAD_SHOOTOUT]->(w)\n",
    "    SET s.winner = row.winner\n",
    "    FOREACH(_ IN CASE WHEN row.first_shooter IS NOT NULL THEN [1] ELSE [] END |\n",
    "        SET s.first_shooter = row.first_shooter\n",
    "    )\n",
    "    \"\"\"\n",
    "    batch_size = 1000\n",
    "    for i in tqdm(range(0, len(df), batch_size), desc=\"Ingesting shootouts\"):\n",
    "        batch = df.iloc[i : i + batch_size]\n",
    "        data = []\n",
    "        for _, row in batch.iterrows():\n",
    "            shootout_data = {\n",
    "                \"id\": f\"{row['date']}_{row['home_team']}_{row['away_team']}\",\n",
    "                \"winner\": row[\"winner\"],\n",
    "                \"first_shooter\": (\n",
    "                    row[\"first_shooter\"] if pd.notnull(row[\"first_shooter\"]) else None\n",
    "                ),\n",
    "            }\n",
    "            data.append(shootout_data)\n",
    "        session.run(query, batch=data)\n",
    "\n",
    "\n",
    "def main():\n",
    "    with driver.session() as session:\n",
    "        create_indexes(session)\n",
    "        ingest_matches(session, results_df)\n",
    "        ingest_goals(session, goalscorers_df)\n",
    "        ingest_shootouts(session, shootouts_df)\n",
    "\n",
    "    print(\"Data ingestion completed!\")\n",
    "    driver.close()\n",
    "\n",
    "\n",
    "if __name__ == \"__main__\":\n",
    "    main()"
   ]
  },
  {
   "cell_type": "code",
   "execution_count": null,
   "metadata": {},
   "outputs": [],
   "source": []
  }
 ],
 "metadata": {
  "kernelspec": {
   "display_name": "neo4j",
   "language": "python",
   "name": "neo4j"
  },
  "language_info": {
   "codemirror_mode": {
    "name": "ipython",
    "version": 3
   },
   "file_extension": ".py",
   "mimetype": "text/x-python",
   "name": "python",
   "nbconvert_exporter": "python",
   "pygments_lexer": "ipython3",
   "version": "3.12.5"
  }
 },
 "nbformat": 4,
 "nbformat_minor": 2
}
