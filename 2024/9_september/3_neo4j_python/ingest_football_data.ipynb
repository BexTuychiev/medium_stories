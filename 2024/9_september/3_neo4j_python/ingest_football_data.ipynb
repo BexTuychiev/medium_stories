{
 "cells": [
  {
   "cell_type": "markdown",
   "metadata": {},
   "source": [
    "## Exploring the data"
   ]
  },
  {
   "cell_type": "code",
   "execution_count": 1,
   "metadata": {},
   "outputs": [],
   "source": [
    "import pandas as pd"
   ]
  },
  {
   "cell_type": "code",
   "execution_count": 3,
   "metadata": {},
   "outputs": [],
   "source": [
    "results_csv_path = \"https://raw.githubusercontent.com/martj42/international_results/refs/heads/master/results.csv\"\n",
    "goalscorers_csv_path = \"https://raw.githubusercontent.com/martj42/international_results/refs/heads/master/goalscorers.csv\"\n",
    "shootouts_csv_path = \"https://raw.githubusercontent.com/martj42/international_results/refs/heads/master/shootouts.csv\"\n",
    "\n",
    "csv_paths = [results_csv_path, goalscorers_csv_path, shootouts_csv_path]"
   ]
  },
  {
   "cell_type": "code",
   "execution_count": 4,
   "metadata": {},
   "outputs": [],
   "source": [
    "results_df = pd.read_csv(results_csv_path, parse_dates=['date'])\n",
    "goalscorers_df = pd.read_csv(goalscorers_csv_path, parse_dates=['date'])\n",
    "shootouts_df = pd.read_csv(shootouts_csv_path, parse_dates=['date'])"
   ]
  },
  {
   "cell_type": "code",
   "execution_count": 5,
   "metadata": {},
   "outputs": [
    {
     "data": {
      "text/html": [
       "<div>\n",
       "<style scoped>\n",
       "    .dataframe tbody tr th:only-of-type {\n",
       "        vertical-align: middle;\n",
       "    }\n",
       "\n",
       "    .dataframe tbody tr th {\n",
       "        vertical-align: top;\n",
       "    }\n",
       "\n",
       "    .dataframe thead th {\n",
       "        text-align: right;\n",
       "    }\n",
       "</style>\n",
       "<table border=\"1\" class=\"dataframe\">\n",
       "  <thead>\n",
       "    <tr style=\"text-align: right;\">\n",
       "      <th></th>\n",
       "      <th>date</th>\n",
       "      <th>home_team</th>\n",
       "      <th>away_team</th>\n",
       "      <th>home_score</th>\n",
       "      <th>away_score</th>\n",
       "      <th>tournament</th>\n",
       "      <th>city</th>\n",
       "      <th>country</th>\n",
       "      <th>neutral</th>\n",
       "    </tr>\n",
       "  </thead>\n",
       "  <tbody>\n",
       "    <tr>\n",
       "      <th>38918</th>\n",
       "      <td>2015-08-31</td>\n",
       "      <td>India</td>\n",
       "      <td>Nepal</td>\n",
       "      <td>0</td>\n",
       "      <td>0</td>\n",
       "      <td>Friendly</td>\n",
       "      <td>Pune</td>\n",
       "      <td>India</td>\n",
       "      <td>False</td>\n",
       "    </tr>\n",
       "    <tr>\n",
       "      <th>27560</th>\n",
       "      <td>2003-10-04</td>\n",
       "      <td>Lesotho</td>\n",
       "      <td>Eswatini</td>\n",
       "      <td>5</td>\n",
       "      <td>2</td>\n",
       "      <td>Friendly</td>\n",
       "      <td>Maseru</td>\n",
       "      <td>Lesotho</td>\n",
       "      <td>False</td>\n",
       "    </tr>\n",
       "    <tr>\n",
       "      <th>18649</th>\n",
       "      <td>1992-12-09</td>\n",
       "      <td>Oman</td>\n",
       "      <td>United Arab Emirates</td>\n",
       "      <td>0</td>\n",
       "      <td>1</td>\n",
       "      <td>Gulf Cup</td>\n",
       "      <td>Doha</td>\n",
       "      <td>Qatar</td>\n",
       "      <td>True</td>\n",
       "    </tr>\n",
       "    <tr>\n",
       "      <th>7566</th>\n",
       "      <td>1969-01-30</td>\n",
       "      <td>DR Congo</td>\n",
       "      <td>Cameroon</td>\n",
       "      <td>2</td>\n",
       "      <td>1</td>\n",
       "      <td>Friendly</td>\n",
       "      <td>Kinshasa</td>\n",
       "      <td>DR Congo</td>\n",
       "      <td>False</td>\n",
       "    </tr>\n",
       "    <tr>\n",
       "      <th>110</th>\n",
       "      <td>1897-03-06</td>\n",
       "      <td>Northern Ireland</td>\n",
       "      <td>Wales</td>\n",
       "      <td>4</td>\n",
       "      <td>3</td>\n",
       "      <td>British Home Championship</td>\n",
       "      <td>Belfast</td>\n",
       "      <td>Ireland</td>\n",
       "      <td>False</td>\n",
       "    </tr>\n",
       "  </tbody>\n",
       "</table>\n",
       "</div>"
      ],
      "text/plain": [
       "            date         home_team             away_team  home_score  \\\n",
       "38918 2015-08-31             India                 Nepal           0   \n",
       "27560 2003-10-04           Lesotho              Eswatini           5   \n",
       "18649 1992-12-09              Oman  United Arab Emirates           0   \n",
       "7566  1969-01-30          DR Congo              Cameroon           2   \n",
       "110   1897-03-06  Northern Ireland                 Wales           4   \n",
       "\n",
       "       away_score                 tournament      city   country  neutral  \n",
       "38918           0                   Friendly      Pune     India    False  \n",
       "27560           2                   Friendly    Maseru   Lesotho    False  \n",
       "18649           1                   Gulf Cup      Doha     Qatar     True  \n",
       "7566            1                   Friendly  Kinshasa  DR Congo    False  \n",
       "110             3  British Home Championship   Belfast   Ireland    False  "
      ]
     },
     "execution_count": 5,
     "metadata": {},
     "output_type": "execute_result"
    }
   ],
   "source": [
    "results_df.sample(5)"
   ]
  },
  {
   "cell_type": "code",
   "execution_count": 6,
   "metadata": {},
   "outputs": [
    {
     "data": {
      "text/plain": [
       "Index(['date', 'home_team', 'away_team', 'team', 'scorer', 'minute',\n",
       "       'own_goal', 'penalty'],\n",
       "      dtype='object')"
      ]
     },
     "execution_count": 6,
     "metadata": {},
     "output_type": "execute_result"
    }
   ],
   "source": [
    "goalscorers_df.columns"
   ]
  },
  {
   "cell_type": "code",
   "execution_count": 7,
   "metadata": {},
   "outputs": [
    {
     "data": {
      "text/plain": [
       "Index(['date', 'home_team', 'away_team', 'winner', 'first_shooter'], dtype='object')"
      ]
     },
     "execution_count": 7,
     "metadata": {},
     "output_type": "execute_result"
    }
   ],
   "source": [
    "shootouts_df.columns"
   ]
  },
  {
   "cell_type": "code",
   "execution_count": 8,
   "metadata": {},
   "outputs": [
    {
     "data": {
      "text/plain": [
       "Index(['date', 'home_team', 'away_team', 'home_score', 'away_score',\n",
       "       'tournament', 'city', 'country', 'neutral'],\n",
       "      dtype='object')"
      ]
     },
     "execution_count": 8,
     "metadata": {},
     "output_type": "execute_result"
    }
   ],
   "source": [
    "results_df.columns"
   ]
  },
  {
   "cell_type": "code",
   "execution_count": 10,
   "metadata": {},
   "outputs": [
    {
     "name": "stdout",
     "output_type": "stream",
     "text": [
      "['FIFA World Cup', 'FIFA World Cup qualification', 'FIFA 75th Anniversary Cup', 'FIFA Series']\n"
     ]
    }
   ],
   "source": [
    "tournaments = results_df.tournament.unique().tolist()\n",
    "\n",
    "# Tournaments by FIFA\n",
    "FIFA_TOURNAMENTS = [t for t in tournaments if 'FIFA' in t]\n",
    "\n",
    "print(FIFA_TOURNAMENTS)\n"
   ]
  },
  {
   "cell_type": "code",
   "execution_count": 11,
   "metadata": {},
   "outputs": [
    {
     "name": "stdout",
     "output_type": "stream",
     "text": [
      "[1930 1934 1938 1950 1954 1958 1962 1966 1970 1974 1978 1982 1986 1990\n",
      " 1994 1998 2002 2006 2010 2014 2018 2022]\n"
     ]
    }
   ],
   "source": [
    "world_cup_matches = results_df[results_df['tournament'] == 'FIFA World Cup']\n",
    "\n",
    "# Unique world cups\n",
    "unique_world_cups = world_cup_matches['date'].dt.year.unique()\n",
    "print(unique_world_cups)"
   ]
  },
  {
   "cell_type": "code",
   "execution_count": 12,
   "metadata": {},
   "outputs": [
    {
     "data": {
      "text/plain": [
       "date\n",
       "1930    18\n",
       "1934    17\n",
       "1938    18\n",
       "1950    22\n",
       "1954    26\n",
       "1958    35\n",
       "1962    32\n",
       "1966    32\n",
       "1970    32\n",
       "1974    38\n",
       "1978    38\n",
       "1982    52\n",
       "1986    52\n",
       "1990    52\n",
       "1994    52\n",
       "1998    64\n",
       "2002    64\n",
       "2006    64\n",
       "2010    64\n",
       "2014    64\n",
       "2018    64\n",
       "2022    64\n",
       "Name: count, dtype: int64"
      ]
     },
     "execution_count": 12,
     "metadata": {},
     "output_type": "execute_result"
    }
   ],
   "source": [
    "# Number of matches per world cup\n",
    "world_cup_matches['date'].dt.year.value_counts().sort_index()"
   ]
  },
  {
   "cell_type": "code",
   "execution_count": 15,
   "metadata": {},
   "outputs": [
    {
     "data": {
      "text/plain": [
       "Index(['date', 'home_team', 'away_team', 'team', 'scorer', 'minute',\n",
       "       'own_goal', 'penalty'],\n",
       "      dtype='object')"
      ]
     },
     "execution_count": 15,
     "metadata": {},
     "output_type": "execute_result"
    }
   ],
   "source": [
    "goalscorers_df.columns"
   ]
  },
  {
   "cell_type": "code",
   "execution_count": 37,
   "metadata": {},
   "outputs": [
    {
     "data": {
      "text/plain": [
       "(2720, 14)"
      ]
     },
     "execution_count": 37,
     "metadata": {},
     "output_type": "execute_result"
    }
   ],
   "source": [
    "# Merge goal scorers with world cup matches\n",
    "goal_scorers_with_matches = world_cup_matches.merge(goalscorers_df, on=['date', 'home_team', 'away_team'])\n",
    "\n",
    "goal_scorers_with_matches.shape"
   ]
  },
  {
   "cell_type": "code",
   "execution_count": 54,
   "metadata": {},
   "outputs": [
    {
     "data": {
      "text/plain": [
       "(11,)"
      ]
     },
     "execution_count": 54,
     "metadata": {},
     "output_type": "execute_result"
    }
   ],
   "source": [
    "goals_by_player = goal_scorers_with_matches[goal_scorers_with_matches['scorer'] == 'Miroslav Klose']\n",
    "\n",
    "goals_by_player.date.unique().shape"
   ]
  },
  {
   "cell_type": "code",
   "execution_count": null,
   "metadata": {},
   "outputs": [],
   "source": []
  }
 ],
 "metadata": {
  "kernelspec": {
   "display_name": "neo4j",
   "language": "python",
   "name": "neo4j"
  },
  "language_info": {
   "codemirror_mode": {
    "name": "ipython",
    "version": 3
   },
   "file_extension": ".py",
   "mimetype": "text/x-python",
   "name": "python",
   "nbconvert_exporter": "python",
   "pygments_lexer": "ipython3",
   "version": "3.12.5"
  }
 },
 "nbformat": 4,
 "nbformat_minor": 2
}
