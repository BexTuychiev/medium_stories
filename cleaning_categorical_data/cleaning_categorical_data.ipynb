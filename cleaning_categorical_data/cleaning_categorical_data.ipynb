{
 "cells": [
  {
   "cell_type": "markdown",
   "metadata": {},
   "source": [
    "# Master the Most Hated Task in DS/ML\n",
    "## Cleaning categorical data with Pandas\n",
    "<img src='images/mop.jpg'></img>\n",
    "<figcaption style=\"text-align: center;\">\n",
    "    <strong>\n",
    "        Photo by \n",
    "        <a href='https://www.pexels.com/@pixabay?utm_content=attributionCopyText&utm_medium=referral&utm_source=pexels'>Pixabay</a>\n",
    "        on \n",
    "        <a href='https://www.pexels.com/photo/brown-wooden-floor-48889/?utm_content=attributionCopyText&utm_medium=referral&utm_source=pexels'>Pexels</a>\n",
    "    </strong>\n",
    "</figcaption>"
   ]
  },
  {
   "cell_type": "markdown",
   "metadata": {},
   "source": [
    "### Introduction"
   ]
  },
  {
   "cell_type": "markdown",
   "metadata": {},
   "source": [
    "Straight from [Forbes](https://www.forbes.com/sites/gilpress/2016/03/23/data-preparation-most-time-consuming-least-enjoyable-data-science-task-survey-says/#718bbc696f63):\n",
    "> “Data scientists spend 60% of their time on cleaning and organizing data. Collecting data sets comes second at 19% of their time, meaning data scientists spend around 80% of their time on preparing and managing data for analysis. 57% of data scientists regard cleaning and organizing data as the least enjoyable part of their work and 19% say this about collecting data sets”.\n",
    "\n",
    "Data cleaning is full of frustration, disgusting surprises that take hours to deal with, always new problems with new datasets, you name it. The process is never enjoyable and always considered as a dirty side of data science. \n",
    "\n",
    "Even though it is often hated, it might be the most import step before any data project. Without properly addressing issues with your data, you might compromise all the other stages in the data science workflow.\n",
    "\n",
    "Without much intro in this second part of my Data Cleaning Series, let's get right to the point. This post is about categorical data cleaning. I will be discussing some common and uncommon methods to deal with some intermediate level categorical data problems. Here is the general overview:"
   ]
  },
  {
   "cell_type": "markdown",
   "metadata": {},
   "source": [
    "### Setup"
   ]
  },
  {
   "cell_type": "code",
   "execution_count": 1,
   "metadata": {},
   "outputs": [],
   "source": [
    "# Import necessary libraries\n",
    "import numpy as np\n",
    "import pandas as pd\n",
    "import seaborn as sns\n",
    "import matplotlib.pyplot as plt\n",
    "\n",
    "# Filter warnings\n",
    "import warnings\n",
    "warnings.filterwarnings('ignore')"
   ]
  },
  {
   "cell_type": "markdown",
   "metadata": {},
   "source": [
    "### Categorical Data, Understanding And Examples"
   ]
  },
  {
   "cell_type": "markdown",
   "metadata": {},
   "source": [
    "The formal definition of categorical data would be:\n",
    "> A predefined set of possible categories or groups an observation can fall into.\n",
    "\n",
    "You can see examples of categorical data in almost all the datasets you have worked on. Nearly any type of data can be turned into categorical. For example:\n",
    "- Survey responses:\n",
    "    * `Yes` or `No`\n",
    "    * `male` or `female`\n",
    "    * `employed` or `unemployed`\n",
    "- Numeric data:\n",
    "    * Annual income in groups: `0-40k`, `40-100k`, ...\n",
    "    * Ages: child, teenager, adult ...\n",
    "\n",
    "As we are learning data cleaning using `panads` library, it is important to understand that `pandas` will never import categorical data as categorical. It is mostly imported as strings or integers:"
   ]
  },
  {
   "cell_type": "code",
   "execution_count": 2,
   "metadata": {},
   "outputs": [
    {
     "data": {
      "text/plain": [
       "carat      float64\n",
       "cut         object\n",
       "color       object\n",
       "clarity     object\n",
       "depth      float64\n",
       "table      float64\n",
       "price        int64\n",
       "x          float64\n",
       "y          float64\n",
       "z          float64\n",
       "dtype: object"
      ]
     },
     "execution_count": 2,
     "metadata": {},
     "output_type": "execute_result"
    }
   ],
   "source": [
    "diamonds = pd.read_csv('data/diamonds.csv', index_col=0)\n",
    "diamonds.dtypes"
   ]
  },
  {
   "cell_type": "markdown",
   "metadata": {},
   "source": [
    "You can see that `cut`, `color` and `clarity` are imported as strings rather than as categorical. We could have used the `dtype` parameter of `read_csv` like this:"
   ]
  },
  {
   "cell_type": "code",
   "execution_count": 3,
   "metadata": {
    "scrolled": true
   },
   "outputs": [
    {
     "data": {
      "text/plain": [
       "carat       float64\n",
       "cut        category\n",
       "color      category\n",
       "clarity    category\n",
       "depth       float64\n",
       "table       float64\n",
       "price         int64\n",
       "x           float64\n",
       "y           float64\n",
       "z           float64\n",
       "dtype: object"
      ]
     },
     "execution_count": 3,
     "metadata": {},
     "output_type": "execute_result"
    }
   ],
   "source": [
    "diamonds = pd.read_csv('data/diamonds.csv',\n",
    "                       dtype={\n",
    "                           'cut': 'category',\n",
    "                           'color': 'category',\n",
    "                           'clarity': 'category'\n",
    "                       }, index_col=0)\n",
    "\n",
    "diamonds.dtypes"
   ]
  },
  {
   "cell_type": "markdown",
   "metadata": {},
   "source": [
    "But with real-world datasets, you often do not have this luxury because the data you will be working probably will have many categorical variables and often, you will be completely unfamiliar with the data at first."
   ]
  },
  {
   "cell_type": "markdown",
   "metadata": {},
   "source": [
    "Right after you identify the categorical variables, there are some checks and cleaning to be done before you convert the columns to categorical."
   ]
  },
  {
   "cell_type": "markdown",
   "metadata": {},
   "source": [
    "### Dealing With Categorical Data Problems"
   ]
  },
  {
   "cell_type": "markdown",
   "metadata": {},
   "source": [
    "When you work with real-world data, it will be filled with cleaning problems.\n",
    "\n",
    "As I wrote in the [first part](https://towardsdatascience.com/data-type-constraints-data-range-constraints-duplicate-data-with-pandas-44897a350b1e) of the series, people collecting data won't take into account the cleanliness of the data and do what it takes to record the necessary information in an easy manner as possible. \n",
    "\n",
    "Also, problems will arise because of free text during the collection process which leads to typos, many representations of the same value, etc. It is also possible that errors are introduced because of data parsing errors or bad database design.\n",
    "\n",
    "For example, consider this worst-case scenario: you are working on a survey data conducted across USA and there is a `state` column for the state of each observation in the dataset. There are 50 states in the USA and imagine all the damn variations of state names people can come up with. You are in even bigger problem if data collectors decide to use abbreviations:\n",
    "- CA, ca, Ca, Caliphornia, Californa, Calfornia, calipornia, CAL, CALI, ...\n",
    "\n",
    "Such columns will always be filled with typos, errors, inconsistencies. Never imagine that you will have a smooth one-to-one mapping of categories. \n",
    "\n",
    "Before moving on to analysis, you have to establish what is called membership constraints which clearly defines the number of categories and how they are represented in a single format."
   ]
  },
  {
   "cell_type": "markdown",
   "metadata": {},
   "source": [
    "### Membership Constraints"
   ]
  },
  {
   "cell_type": "markdown",
   "metadata": {},
   "source": [
    "There are 3 ways you can treat categorical data problems:\n",
    "- dropping \n",
    "- remapping categories\n",
    "- inferring categories\n",
    "\n",
    "First, we will focus on isolating inconsistent observations and dropping them. I have created a fake data to illustrate how it is done in code:"
   ]
  },
  {
   "cell_type": "code",
   "execution_count": 4,
   "metadata": {},
   "outputs": [],
   "source": [
    "# Create possible values for the fake date\n",
    "first_names = [\n",
    "    'Lane', 'Ivor', 'Roary', 'Shannon', 'Abdul', 'Mary', 'Cole', 'Desirae'\n",
    "]\n",
    "\n",
    "last_names = ['Reese', 'Pierce', 'Gibson', 'Little', 'Fry', 'Colon', 'Palmer']\n",
    "\n",
    "blood_types = ['O+', 'O-', 'B+', 'B-', 'A+', 'A-', 'AB+', 'AB-', 'C+', 'D-']\n",
    "probabilites = [0.12, 0.13, 0.13, 0.12, 0.13, 0.12, 0.12, 0.12, 0.005, 0.005]\n",
    "marriage_status = [\n",
    "    ' married', 'married', 'unmarried ', 'unmarried', 'MARRIED', 'UNMARRIED',\n",
    "    'divorced', 'separated'\n",
    "]\n",
    "devices = ['iOS', 'AndroidOS', 'MacOS', 'Windows', 'Linux']\n",
    "size = 10000\n",
    "\n",
    "dirty_dict = {\n",
    "    'first_name': np.random.choice(first_names, size),\n",
    "    'last_name': np.random.choice(last_names, size),\n",
    "    'blood_type': np.random.choice(blood_types, size, p=probabilites),\n",
    "    'marriage_status': np.random.choice(marriage_status, size),\n",
    "    'income': np.random.choice(np.arange(40000, 200000, 15000), size),\n",
    "    'device': np.random.choice(devices, size)\n",
    "}\n",
    "\n",
    "# Data frame from dirty dict with size 10k\n",
    "sample = pd.DataFrame(dirty_dict)\n",
    "sample.to_csv('data/demographics.csv', index=False)"
   ]
  },
  {
   "cell_type": "code",
   "execution_count": 5,
   "metadata": {
    "scrolled": true
   },
   "outputs": [
    {
     "data": {
      "text/html": [
       "<div>\n",
       "<style scoped>\n",
       "    .dataframe tbody tr th:only-of-type {\n",
       "        vertical-align: middle;\n",
       "    }\n",
       "\n",
       "    .dataframe tbody tr th {\n",
       "        vertical-align: top;\n",
       "    }\n",
       "\n",
       "    .dataframe thead th {\n",
       "        text-align: right;\n",
       "    }\n",
       "</style>\n",
       "<table border=\"1\" class=\"dataframe\">\n",
       "  <thead>\n",
       "    <tr style=\"text-align: right;\">\n",
       "      <th></th>\n",
       "      <th>first_name</th>\n",
       "      <th>last_name</th>\n",
       "      <th>blood_type</th>\n",
       "      <th>marriage_status</th>\n",
       "      <th>income</th>\n",
       "      <th>device</th>\n",
       "    </tr>\n",
       "  </thead>\n",
       "  <tbody>\n",
       "    <tr>\n",
       "      <th>0</th>\n",
       "      <td>Abdul</td>\n",
       "      <td>Colon</td>\n",
       "      <td>A+</td>\n",
       "      <td>married</td>\n",
       "      <td>145000</td>\n",
       "      <td>AndroidOS</td>\n",
       "    </tr>\n",
       "    <tr>\n",
       "      <th>1</th>\n",
       "      <td>Abdul</td>\n",
       "      <td>Pierce</td>\n",
       "      <td>B+</td>\n",
       "      <td>married</td>\n",
       "      <td>85000</td>\n",
       "      <td>MacOS</td>\n",
       "    </tr>\n",
       "    <tr>\n",
       "      <th>2</th>\n",
       "      <td>Desirae</td>\n",
       "      <td>Pierce</td>\n",
       "      <td>B+</td>\n",
       "      <td>MARRIED</td>\n",
       "      <td>130000</td>\n",
       "      <td>iOS</td>\n",
       "    </tr>\n",
       "    <tr>\n",
       "      <th>3</th>\n",
       "      <td>Shannon</td>\n",
       "      <td>Gibson</td>\n",
       "      <td>A+</td>\n",
       "      <td>married</td>\n",
       "      <td>175000</td>\n",
       "      <td>MacOS</td>\n",
       "    </tr>\n",
       "    <tr>\n",
       "      <th>4</th>\n",
       "      <td>Desirae</td>\n",
       "      <td>Little</td>\n",
       "      <td>B+</td>\n",
       "      <td>unmarried</td>\n",
       "      <td>130000</td>\n",
       "      <td>MacOS</td>\n",
       "    </tr>\n",
       "  </tbody>\n",
       "</table>\n",
       "</div>"
      ],
      "text/plain": [
       "  first_name last_name blood_type marriage_status  income     device\n",
       "0      Abdul     Colon         A+         married  145000  AndroidOS\n",
       "1      Abdul    Pierce         B+         married   85000      MacOS\n",
       "2    Desirae    Pierce         B+         MARRIED  130000        iOS\n",
       "3    Shannon    Gibson         A+         married  175000      MacOS\n",
       "4    Desirae    Little         B+      unmarried   130000      MacOS"
      ]
     },
     "execution_count": 5,
     "metadata": {},
     "output_type": "execute_result"
    }
   ],
   "source": [
    "demographics = pd.read_csv('data/demographics.csv')\n",
    "demographics.head(5)"
   ]
  },
  {
   "cell_type": "markdown",
   "metadata": {},
   "source": [
    "It is often the case that you will have some background information about your data. For example, let's say you want to check for inconsistencies in the `blood_type` column of the above data frame. You find out beforehand that `blood_type`  can only have these categories: **\\[A+, A-, B+, B-, O+, O-, AB+, AB-\\]**. So, you have to make sure that the column in the data source only includes these values. \n",
    "\n",
    "In our case, there are 10k rows and visual search for inconsistencies is not an option, which is also the case for many other real-world data. Here is how can implement the best solution for such problems:\n",
    "\n",
    "First, you should create a new data frame which holds all the possible values for a categorical column:"
   ]
  },
  {
   "cell_type": "code",
   "execution_count": 6,
   "metadata": {},
   "outputs": [
    {
     "data": {
      "text/html": [
       "<div>\n",
       "<style scoped>\n",
       "    .dataframe tbody tr th:only-of-type {\n",
       "        vertical-align: middle;\n",
       "    }\n",
       "\n",
       "    .dataframe tbody tr th {\n",
       "        vertical-align: top;\n",
       "    }\n",
       "\n",
       "    .dataframe thead th {\n",
       "        text-align: right;\n",
       "    }\n",
       "</style>\n",
       "<table border=\"1\" class=\"dataframe\">\n",
       "  <thead>\n",
       "    <tr style=\"text-align: right;\">\n",
       "      <th></th>\n",
       "      <th>blood_type</th>\n",
       "    </tr>\n",
       "  </thead>\n",
       "  <tbody>\n",
       "    <tr>\n",
       "      <th>0</th>\n",
       "      <td>O+</td>\n",
       "    </tr>\n",
       "    <tr>\n",
       "      <th>1</th>\n",
       "      <td>O-</td>\n",
       "    </tr>\n",
       "    <tr>\n",
       "      <th>2</th>\n",
       "      <td>B+</td>\n",
       "    </tr>\n",
       "    <tr>\n",
       "      <th>3</th>\n",
       "      <td>B-</td>\n",
       "    </tr>\n",
       "    <tr>\n",
       "      <th>4</th>\n",
       "      <td>A+</td>\n",
       "    </tr>\n",
       "    <tr>\n",
       "      <th>5</th>\n",
       "      <td>A-</td>\n",
       "    </tr>\n",
       "    <tr>\n",
       "      <th>6</th>\n",
       "      <td>AB+</td>\n",
       "    </tr>\n",
       "    <tr>\n",
       "      <th>7</th>\n",
       "      <td>AB-</td>\n",
       "    </tr>\n",
       "  </tbody>\n",
       "</table>\n",
       "</div>"
      ],
      "text/plain": [
       "  blood_type\n",
       "0         O+\n",
       "1         O-\n",
       "2         B+\n",
       "3         B-\n",
       "4         A+\n",
       "5         A-\n",
       "6        AB+\n",
       "7        AB-"
      ]
     },
     "execution_count": 6,
     "metadata": {},
     "output_type": "execute_result"
    }
   ],
   "source": [
    "categories = pd.DataFrame(\n",
    "    {'blood_type': ['O+', 'O-', 'B+', 'B-', 'A+', 'A-', 'AB+', 'AB-']})\n",
    "categories"
   ]
  },
  {
   "cell_type": "markdown",
   "metadata": {},
   "source": [
    "> It is a good practice to create such data frames which hold category mappings for each categorical column in the main data.\n",
    "\n",
    "As we now have the correct categories in a separate data frame, we can use a basic set operation which gives us the difference of unique values in the two columns:"
   ]
  },
  {
   "cell_type": "code",
   "execution_count": 7,
   "metadata": {},
   "outputs": [
    {
     "data": {
      "text/plain": [
       "{'C+', 'D-'}"
      ]
     },
     "execution_count": 7,
     "metadata": {},
     "output_type": "execute_result"
    }
   ],
   "source": [
    "# Create a set of unique blood types of the main data frame\n",
    "unique_types_main = set(demographics['blood_type'].unique())\n",
    "inconsistent_cats = unique_types_main.difference(categories['blood_type'])\n",
    "inconsistent_cats"
   ]
  },
  {
   "cell_type": "markdown",
   "metadata": {},
   "source": [
    "To get the difference of two sets, we use `.difference` function. It basically returns all the values from the left set that are not in the right set. Here is a very simple example:"
   ]
  },
  {
   "cell_type": "code",
   "execution_count": 8,
   "metadata": {},
   "outputs": [
    {
     "data": {
      "text/plain": [
       "{'A', 'B'}"
      ]
     },
     "execution_count": 8,
     "metadata": {},
     "output_type": "execute_result"
    }
   ],
   "source": [
    "set_1 = {'A', 'B', 'C', 'D'}\n",
    "set_2 = {'C', 'D', 'E'}\n",
    "set_1.difference(set_2)"
   ]
  },
  {
   "cell_type": "markdown",
   "metadata": {},
   "source": [
    "Attentive readers may have noticed that inside the `set` function, I also called `.unique()` on the `blood_type`. From what I have read from one StackOverflow thread, it seems that the time it takes to get the unique values will be much shorter if you use both `set` and `unique` for larger datasets. \n",
    "\n",
    "Now, we will filter our main data for the blood types 'C+' and 'D-':"
   ]
  },
  {
   "cell_type": "code",
   "execution_count": 9,
   "metadata": {},
   "outputs": [
    {
     "data": {
      "text/plain": [
       "0       False\n",
       "1       False\n",
       "2       False\n",
       "3       False\n",
       "4       False\n",
       "        ...  \n",
       "9995    False\n",
       "9996    False\n",
       "9997    False\n",
       "9998    False\n",
       "9999    False\n",
       "Name: blood_type, Length: 10000, dtype: bool"
      ]
     },
     "execution_count": 9,
     "metadata": {},
     "output_type": "execute_result"
    }
   ],
   "source": [
    "inconsistent = demographics['blood_type'].isin(inconsistent_cats)\n",
    "inconsistent"
   ]
  },
  {
   "cell_type": "markdown",
   "metadata": {},
   "source": [
    "Using `isin` on `blood_type` will return a boolean series which we can use to index the data frame:"
   ]
  },
  {
   "cell_type": "code",
   "execution_count": 10,
   "metadata": {},
   "outputs": [
    {
     "data": {
      "text/html": [
       "<div>\n",
       "<style scoped>\n",
       "    .dataframe tbody tr th:only-of-type {\n",
       "        vertical-align: middle;\n",
       "    }\n",
       "\n",
       "    .dataframe tbody tr th {\n",
       "        vertical-align: top;\n",
       "    }\n",
       "\n",
       "    .dataframe thead th {\n",
       "        text-align: right;\n",
       "    }\n",
       "</style>\n",
       "<table border=\"1\" class=\"dataframe\">\n",
       "  <thead>\n",
       "    <tr style=\"text-align: right;\">\n",
       "      <th></th>\n",
       "      <th>first_name</th>\n",
       "      <th>last_name</th>\n",
       "      <th>blood_type</th>\n",
       "      <th>marriage_status</th>\n",
       "      <th>income</th>\n",
       "      <th>device</th>\n",
       "    </tr>\n",
       "  </thead>\n",
       "  <tbody>\n",
       "    <tr>\n",
       "      <th>84</th>\n",
       "      <td>Lane</td>\n",
       "      <td>Pierce</td>\n",
       "      <td>C+</td>\n",
       "      <td>divorced</td>\n",
       "      <td>55000</td>\n",
       "      <td>iOS</td>\n",
       "    </tr>\n",
       "    <tr>\n",
       "      <th>90</th>\n",
       "      <td>Ivor</td>\n",
       "      <td>Little</td>\n",
       "      <td>C+</td>\n",
       "      <td>separated</td>\n",
       "      <td>175000</td>\n",
       "      <td>AndroidOS</td>\n",
       "    </tr>\n",
       "    <tr>\n",
       "      <th>234</th>\n",
       "      <td>Shannon</td>\n",
       "      <td>Palmer</td>\n",
       "      <td>D-</td>\n",
       "      <td>divorced</td>\n",
       "      <td>100000</td>\n",
       "      <td>AndroidOS</td>\n",
       "    </tr>\n",
       "    <tr>\n",
       "      <th>458</th>\n",
       "      <td>Cole</td>\n",
       "      <td>Little</td>\n",
       "      <td>D-</td>\n",
       "      <td>UNMARRIED</td>\n",
       "      <td>70000</td>\n",
       "      <td>AndroidOS</td>\n",
       "    </tr>\n",
       "    <tr>\n",
       "      <th>480</th>\n",
       "      <td>Shannon</td>\n",
       "      <td>Pierce</td>\n",
       "      <td>D-</td>\n",
       "      <td>married</td>\n",
       "      <td>100000</td>\n",
       "      <td>AndroidOS</td>\n",
       "    </tr>\n",
       "    <tr>\n",
       "      <th>...</th>\n",
       "      <td>...</td>\n",
       "      <td>...</td>\n",
       "      <td>...</td>\n",
       "      <td>...</td>\n",
       "      <td>...</td>\n",
       "      <td>...</td>\n",
       "    </tr>\n",
       "    <tr>\n",
       "      <th>9246</th>\n",
       "      <td>Ivor</td>\n",
       "      <td>Little</td>\n",
       "      <td>D-</td>\n",
       "      <td>divorced</td>\n",
       "      <td>85000</td>\n",
       "      <td>iOS</td>\n",
       "    </tr>\n",
       "    <tr>\n",
       "      <th>9517</th>\n",
       "      <td>Roary</td>\n",
       "      <td>Little</td>\n",
       "      <td>D-</td>\n",
       "      <td>MARRIED</td>\n",
       "      <td>145000</td>\n",
       "      <td>MacOS</td>\n",
       "    </tr>\n",
       "    <tr>\n",
       "      <th>9618</th>\n",
       "      <td>Desirae</td>\n",
       "      <td>Fry</td>\n",
       "      <td>C+</td>\n",
       "      <td>MARRIED</td>\n",
       "      <td>115000</td>\n",
       "      <td>AndroidOS</td>\n",
       "    </tr>\n",
       "    <tr>\n",
       "      <th>9619</th>\n",
       "      <td>Desirae</td>\n",
       "      <td>Gibson</td>\n",
       "      <td>D-</td>\n",
       "      <td>unmarried</td>\n",
       "      <td>160000</td>\n",
       "      <td>Linux</td>\n",
       "    </tr>\n",
       "    <tr>\n",
       "      <th>9912</th>\n",
       "      <td>Ivor</td>\n",
       "      <td>Pierce</td>\n",
       "      <td>D-</td>\n",
       "      <td>separated</td>\n",
       "      <td>160000</td>\n",
       "      <td>Linux</td>\n",
       "    </tr>\n",
       "  </tbody>\n",
       "</table>\n",
       "<p>90 rows × 6 columns</p>\n",
       "</div>"
      ],
      "text/plain": [
       "     first_name last_name blood_type marriage_status  income     device\n",
       "84         Lane    Pierce         C+        divorced   55000        iOS\n",
       "90         Ivor    Little         C+       separated  175000  AndroidOS\n",
       "234     Shannon    Palmer         D-        divorced  100000  AndroidOS\n",
       "458        Cole    Little         D-       UNMARRIED   70000  AndroidOS\n",
       "480     Shannon    Pierce         D-         married  100000  AndroidOS\n",
       "...         ...       ...        ...             ...     ...        ...\n",
       "9246       Ivor    Little         D-        divorced   85000        iOS\n",
       "9517      Roary    Little         D-         MARRIED  145000      MacOS\n",
       "9618    Desirae       Fry         C+         MARRIED  115000  AndroidOS\n",
       "9619    Desirae    Gibson         D-      unmarried   160000      Linux\n",
       "9912       Ivor    Pierce         D-       separated  160000      Linux\n",
       "\n",
       "[90 rows x 6 columns]"
      ]
     },
     "execution_count": 10,
     "metadata": {},
     "output_type": "execute_result"
    }
   ],
   "source": [
    "inconsistent_rows = demographics[inconsistent]\n",
    "inconsistent_rows"
   ]
  },
  {
   "cell_type": "markdown",
   "metadata": {},
   "source": [
    "So, there are 90 individuals with incorrect blood types. Since we don't have any clue of how these errors occurred (I did it😁😁😁), we have to drop them. It can be done in two ways:"
   ]
  },
  {
   "cell_type": "code",
   "execution_count": 11,
   "metadata": {},
   "outputs": [],
   "source": [
    "# Using drop\n",
    "demographics = demographics.drop(inconsistent_rows.index)\n",
    "# Using negative conditioning\n",
    "demographics = demographics[~inconsistent]\n",
    "# Check the results\n",
    "assert set(demographics['blood_type'].unique()) == set(\n",
    "    categories['blood_type'])"
   ]
  },
  {
   "cell_type": "markdown",
   "metadata": {},
   "source": [
    "As our column is clean now, it is safe to set it as a categorical variable:"
   ]
  },
  {
   "cell_type": "code",
   "execution_count": 12,
   "metadata": {},
   "outputs": [],
   "source": [
    "# Set blood_type as a categorical variable\n",
    "demographics['blood_type'] = demographics['blood_type'].astype('category')\n",
    "# Check that the results are in effect\n",
    "assert demographics['blood_type'].dtype == 'category'"
   ]
  },
  {
   "cell_type": "markdown",
   "metadata": {},
   "source": [
    "> Definitely check out the [first part](https://towardsdatascience.com/data-type-constraints-data-range-constraints-duplicate-data-with-pandas-44897a350b1e) of this series. There, I covered basic and common data problems. You will also familiarize yourself with some of the functions I will be using here."
   ]
  },
  {
   "cell_type": "markdown",
   "metadata": {},
   "source": [
    "### Value Inconsistency\n"
   ]
  },
  {
   "cell_type": "markdown",
   "metadata": {},
   "source": [
    "Just like we talked in the second section, there may be many representations of the same category in the data set. These errors may occur just because simple typos, random capitalization, you name it. Continuing cleaning our data, the turn has come to the `marriage_status` column:"
   ]
  },
  {
   "cell_type": "code",
   "execution_count": 13,
   "metadata": {},
   "outputs": [
    {
     "data": {
      "text/plain": [
       " married      1321\n",
       "unmarried     1276\n",
       "UNMARRIED     1253\n",
       "married       1244\n",
       "separated     1227\n",
       "divorced      1223\n",
       "MARRIED       1210\n",
       "unmarried     1156\n",
       "Name: marriage_status, dtype: int64"
      ]
     },
     "execution_count": 13,
     "metadata": {},
     "output_type": "execute_result"
    }
   ],
   "source": [
    "demographics['marriage_status'].value_counts()"
   ]
  },
  {
   "cell_type": "markdown",
   "metadata": {},
   "source": [
    "Using `value_counts` on a data frame column returns the count of unique values in that column. If you look at the result, you can immediately see the issues. The values should be either lower-case or upper-case. I prefer lower-case:"
   ]
  },
  {
   "cell_type": "code",
   "execution_count": 14,
   "metadata": {},
   "outputs": [
    {
     "data": {
      "text/plain": [
       "married       2454\n",
       "unmarried     2409\n",
       " married      1321\n",
       "unmarried     1276\n",
       "separated     1227\n",
       "divorced      1223\n",
       "Name: marriage_status, dtype: int64"
      ]
     },
     "execution_count": 14,
     "metadata": {},
     "output_type": "execute_result"
    }
   ],
   "source": [
    "demographics['marriage_status'] = demographics['marriage_status'].str.lower()\n",
    "demographics['marriage_status'].value_counts()"
   ]
  },
  {
   "cell_type": "markdown",
   "metadata": {},
   "source": [
    "Using `.str` on a data frame column enables us to use all the Python string functions on each value of the column. Here, we are using `.lower()` which converts strings to lowercase."
   ]
  },
  {
   "cell_type": "markdown",
   "metadata": {},
   "source": [
    "`value_counts` is still returning 6 unique values, why? After paying close attention, you can see that one of the categories has an extra leading whitespace. That's why it is being treated as an individual category. The same can be true for one of the `unmarried`, it might have a trailing whitespace. We can use the string `strip` function to get rid of trailing whitespace from a string:"
   ]
  },
  {
   "cell_type": "code",
   "execution_count": 15,
   "metadata": {},
   "outputs": [
    {
     "data": {
      "text/plain": [
       "married      3775\n",
       "unmarried    3685\n",
       "separated    1227\n",
       "divorced     1223\n",
       "Name: marriage_status, dtype: int64"
      ]
     },
     "execution_count": 15,
     "metadata": {},
     "output_type": "execute_result"
    }
   ],
   "source": [
    "demographics['marriage_status'] = demographics['marriage_status'].str.strip()\n",
    "demographics['marriage_status'].value_counts()"
   ]
  },
  {
   "cell_type": "markdown",
   "metadata": {},
   "source": [
    "Now the columns is clean. All is left is to convert this column into a category data type too:"
   ]
  },
  {
   "cell_type": "code",
   "execution_count": 16,
   "metadata": {},
   "outputs": [],
   "source": [
    "# Convert marriage_status to categorical\n",
    "demographics['marriage_status'] = demographics['marriage_status'].astype(\n",
    "    'category')\n",
    "# Check the results\n",
    "assert demographics['marriage_status'].dtype == 'category'"
   ]
  },
  {
   "cell_type": "markdown",
   "metadata": {},
   "source": [
    "### Collapsing Data Into Categories"
   ]
  },
  {
   "cell_type": "markdown",
   "metadata": {},
   "source": [
    "Sometimes, you may want to take already existing data, often numerical, and generate categories from it. This can be useful in a number of cases. \n",
    "\n",
    "In our `demographics` dataset, we have an annual income column. It can be useful to cut this column into different income groups because doing so might give some extra insight into the data. \n",
    "\n",
    "`pandas` has a perfect function for this: `cut`. It enables us to cut numerical ranges like data frame columns into bins and give them custom labels. Let's see it in action:"
   ]
  },
  {
   "cell_type": "code",
   "execution_count": 17,
   "metadata": {},
   "outputs": [
    {
     "data": {
      "text/html": [
       "<div>\n",
       "<style scoped>\n",
       "    .dataframe tbody tr th:only-of-type {\n",
       "        vertical-align: middle;\n",
       "    }\n",
       "\n",
       "    .dataframe tbody tr th {\n",
       "        vertical-align: top;\n",
       "    }\n",
       "\n",
       "    .dataframe thead th {\n",
       "        text-align: right;\n",
       "    }\n",
       "</style>\n",
       "<table border=\"1\" class=\"dataframe\">\n",
       "  <thead>\n",
       "    <tr style=\"text-align: right;\">\n",
       "      <th></th>\n",
       "      <th>first_name</th>\n",
       "      <th>last_name</th>\n",
       "      <th>blood_type</th>\n",
       "      <th>marriage_status</th>\n",
       "      <th>income</th>\n",
       "      <th>device</th>\n",
       "      <th>income_groups</th>\n",
       "    </tr>\n",
       "  </thead>\n",
       "  <tbody>\n",
       "    <tr>\n",
       "      <th>4122</th>\n",
       "      <td>Roary</td>\n",
       "      <td>Reese</td>\n",
       "      <td>AB+</td>\n",
       "      <td>married</td>\n",
       "      <td>100000</td>\n",
       "      <td>iOS</td>\n",
       "      <td>75k-100k</td>\n",
       "    </tr>\n",
       "    <tr>\n",
       "      <th>4367</th>\n",
       "      <td>Desirae</td>\n",
       "      <td>Fry</td>\n",
       "      <td>AB+</td>\n",
       "      <td>unmarried</td>\n",
       "      <td>70000</td>\n",
       "      <td>Linux</td>\n",
       "      <td>40k-75k</td>\n",
       "    </tr>\n",
       "    <tr>\n",
       "      <th>8982</th>\n",
       "      <td>Mary</td>\n",
       "      <td>Little</td>\n",
       "      <td>AB-</td>\n",
       "      <td>separated</td>\n",
       "      <td>145000</td>\n",
       "      <td>Windows</td>\n",
       "      <td>140k-170k</td>\n",
       "    </tr>\n",
       "    <tr>\n",
       "      <th>7101</th>\n",
       "      <td>Lane</td>\n",
       "      <td>Colon</td>\n",
       "      <td>AB-</td>\n",
       "      <td>unmarried</td>\n",
       "      <td>130000</td>\n",
       "      <td>MacOS</td>\n",
       "      <td>100k-140k</td>\n",
       "    </tr>\n",
       "    <tr>\n",
       "      <th>7542</th>\n",
       "      <td>Mary</td>\n",
       "      <td>Little</td>\n",
       "      <td>O+</td>\n",
       "      <td>unmarried</td>\n",
       "      <td>175000</td>\n",
       "      <td>Linux</td>\n",
       "      <td>170k+</td>\n",
       "    </tr>\n",
       "  </tbody>\n",
       "</table>\n",
       "</div>"
      ],
      "text/plain": [
       "     first_name last_name blood_type marriage_status  income   device  \\\n",
       "4122      Roary     Reese        AB+         married  100000      iOS   \n",
       "4367    Desirae       Fry        AB+       unmarried   70000    Linux   \n",
       "8982       Mary    Little        AB-       separated  145000  Windows   \n",
       "7101       Lane     Colon        AB-       unmarried  130000    MacOS   \n",
       "7542       Mary    Little         O+       unmarried  175000    Linux   \n",
       "\n",
       "     income_groups  \n",
       "4122      75k-100k  \n",
       "4367       40k-75k  \n",
       "8982     140k-170k  \n",
       "7101     100k-140k  \n",
       "7542         170k+  "
      ]
     },
     "execution_count": 17,
     "metadata": {},
     "output_type": "execute_result"
    }
   ],
   "source": [
    "ranges = [40000, 75000, 100000, 140000, 170000, np.inf]\n",
    "labels = ['40k-75k', '75k-100k', '100k-140k', '140k-170k', '170k+']\n",
    "demographics['income_groups'] = pd.cut(demographics['income'], bins=ranges, labels=labels)\n",
    "demographics.sample(5)"
   ]
  },
  {
   "cell_type": "markdown",
   "metadata": {},
   "source": [
    "Now, we can use functions like `value_counts` to get more insight:"
   ]
  },
  {
   "cell_type": "code",
   "execution_count": 18,
   "metadata": {},
   "outputs": [
    {
     "data": {
      "text/plain": [
       "40k-75k      1860\n",
       "75k-100k     1808\n",
       "100k-140k    1805\n",
       "140k-170k    1845\n",
       "170k+        1754\n",
       "Name: income_groups, dtype: int64"
      ]
     },
     "execution_count": 18,
     "metadata": {},
     "output_type": "execute_result"
    }
   ],
   "source": [
    "demographics['income_groups'].value_counts(sort=False)"
   ]
  },
  {
   "cell_type": "markdown",
   "metadata": {},
   "source": [
    "You can also plot a count plot:"
   ]
  },
  {
   "cell_type": "code",
   "execution_count": 24,
   "metadata": {},
   "outputs": [
    {
     "data": {
      "image/png": "[encoded data removed]",
      "text/plain": [
       "<Figure size 432x288 with 1 Axes>"
      ]
     },
     "metadata": {
      "needs_background": "light"
     },
     "output_type": "display_data"
    }
   ],
   "source": [
    "sns.countplot(demographics['income_groups']);"
   ]
  },
  {
   "cell_type": "markdown",
   "metadata": {},
   "source": [
    "### Reducing the Number of Categories"
   ]
  },
  {
   "cell_type": "markdown",
   "metadata": {},
   "source": [
    "Sometimes, there may be unnecessary categories. In such cases, you can collapse smaller categories into a general and bigger categories which might suit your needs better. Consider the `device` column of our data:"
   ]
  },
  {
   "cell_type": "code",
   "execution_count": 20,
   "metadata": {
    "scrolled": true
   },
   "outputs": [
    {
     "data": {
      "text/plain": [
       "MacOS        2029\n",
       "Windows      2009\n",
       "iOS          1960\n",
       "Linux        1959\n",
       "AndroidOS    1953\n",
       "Name: device, dtype: int64"
      ]
     },
     "execution_count": 20,
     "metadata": {},
     "output_type": "execute_result"
    }
   ],
   "source": [
    "demographics['device'].value_counts()"
   ]
  },
  {
   "cell_type": "markdown",
   "metadata": {},
   "source": [
    "It is not much useful to compare a phone operating system to a computer's. What would be better is to reduce the categories into `mobileOS` and `desktopOS`. To do this, first, we need to create a dictionary which maps each category to the new one:"
   ]
  },
  {
   "cell_type": "code",
   "execution_count": 21,
   "metadata": {},
   "outputs": [],
   "source": [
    "mappings = {\n",
    "    'Linux': 'desktopOS', 'iOS': 'mobileOS',\n",
    "    'MacOS': 'desktopOS', 'Windows': 'desktopOS',\n",
    "    'AndroidOS': 'mobileOS'\n",
    "}"
   ]
  },
  {
   "cell_type": "markdown",
   "metadata": {},
   "source": [
    "Then, we use `replace` function of `pandas` which maps out the new categories dynamically:"
   ]
  },
  {
   "cell_type": "code",
   "execution_count": 22,
   "metadata": {},
   "outputs": [
    {
     "data": {
      "text/plain": [
       "desktopOS    5997\n",
       "mobileOS     3913\n",
       "Name: device, dtype: int64"
      ]
     },
     "execution_count": 22,
     "metadata": {},
     "output_type": "execute_result"
    }
   ],
   "source": [
    "demographics['device'] = demographics['device'].replace(mappings)\n",
    "demographics['device'].value_counts()"
   ]
  }
 ],
 "metadata": {
  "kernelspec": {
   "display_name": "medium_articles",
   "language": "python",
   "name": "medium_articles"
  },
  "language_info": {
   "codemirror_mode": {
    "name": "ipython",
    "version": 3
   },
   "file_extension": ".py",
   "mimetype": "text/x-python",
   "name": "python",
   "nbconvert_exporter": "python",
   "pygments_lexer": "ipython3",
   "version": "3.8.5"
  }
 },
 "nbformat": 4,
 "nbformat_minor": 4
}
