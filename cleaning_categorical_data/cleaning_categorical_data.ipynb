{
 "cells": [
  {
   "cell_type": "markdown",
   "metadata": {},
   "source": [
    "# Master the Most Hated Task in DS/ML\n",
    "## Cleaning categorical data\n",
    "<img src='images/mop.jpg'></img>\n",
    "<figcaption style=\"text-align: center;\">\n",
    "    <strong>\n",
    "        Photo by \n",
    "        <a href='https://www.pexels.com/@pixabay?utm_content=attributionCopyText&utm_medium=referral&utm_source=pexels'>Pixabay</a>\n",
    "        on \n",
    "        <a href='https://www.pexels.com/photo/brown-wooden-floor-48889/?utm_content=attributionCopyText&utm_medium=referral&utm_source=pexels'>Pexels</a>\n",
    "    </strong>\n",
    "</figcaption>"
   ]
  },
  {
   "cell_type": "markdown",
   "metadata": {},
   "source": [
    "### Introduction"
   ]
  },
  {
   "cell_type": "markdown",
   "metadata": {},
   "source": [
    "### Setup"
   ]
  },
  {
   "cell_type": "code",
   "execution_count": 94,
   "metadata": {},
   "outputs": [],
   "source": [
    "# Import necessary libraries\n",
    "import numpy as np\n",
    "import pandas as pd\n",
    "import seaborn as sns\n",
    "import matplotlib.pyplot as plt\n",
    "\n",
    "# Filter warnings\n",
    "import warnings\n",
    "warnings.filterwarnings('ignore')"
   ]
  },
  {
   "cell_type": "markdown",
   "metadata": {},
   "source": [
    "### Categorical Data, Understanding And Examples"
   ]
  },
  {
   "cell_type": "markdown",
   "metadata": {},
   "source": [
    "The formal definition of categorical data would be:\n",
    "> A predefined set of possible categories or groups an observation can fall into.\n",
    "\n",
    "You can see examples of categorical data in almost all the datasets you have worked on. Almost any type of data can be turned into categorical. For example:\n",
    "- Survey responses:\n",
    "    * `Yes` or `No`\n",
    "    * `male` or `female`\n",
    "    * `employed` or `unemployed`\n",
    "- Numeric data:\n",
    "    * Annual income in groups: `0-40k`, `40-100k`, ...\n",
    "    * Ages: child, teenager, adult ...\n",
    "\n",
    "As we are learning data cleaning using `panads` library, it is important to understand that `pandas` will never import categorical data as categorical. It is mostly imported as strings or integers:"
   ]
  },
  {
   "cell_type": "code",
   "execution_count": 95,
   "metadata": {},
   "outputs": [
    {
     "data": {
      "text/plain": [
       "carat      float64\n",
       "cut         object\n",
       "color       object\n",
       "clarity     object\n",
       "depth      float64\n",
       "table      float64\n",
       "price        int64\n",
       "x          float64\n",
       "y          float64\n",
       "z          float64\n",
       "dtype: object"
      ]
     },
     "execution_count": 95,
     "metadata": {},
     "output_type": "execute_result"
    }
   ],
   "source": [
    "diamonds = pd.read_csv('data/diamonds.csv', index_col=0)\n",
    "diamonds.dtypes"
   ]
  },
  {
   "cell_type": "markdown",
   "metadata": {},
   "source": [
    "You can see that `cut`, `color` and `clarity` are imported as strings rather than as categorical. We could have used the `dtype` parameter of `read_csv` like this:"
   ]
  },
  {
   "cell_type": "code",
   "execution_count": 96,
   "metadata": {
    "scrolled": true
   },
   "outputs": [
    {
     "data": {
      "text/plain": [
       "carat       float64\n",
       "cut        category\n",
       "color      category\n",
       "clarity    category\n",
       "depth       float64\n",
       "table       float64\n",
       "price         int64\n",
       "x           float64\n",
       "y           float64\n",
       "z           float64\n",
       "dtype: object"
      ]
     },
     "execution_count": 96,
     "metadata": {},
     "output_type": "execute_result"
    }
   ],
   "source": [
    "diamonds = pd.read_csv('data/diamonds.csv',\n",
    "                       dtype={\n",
    "                           'cut': 'category',\n",
    "                           'color': 'category',\n",
    "                           'clarity': 'category'\n",
    "                       }, index_col=0)\n",
    "\n",
    "diamonds.dtypes"
   ]
  },
  {
   "cell_type": "markdown",
   "metadata": {},
   "source": [
    "But with real-world datasets, you often do not have this luxury because the data you will be working probably will have many categorical variables and often, you will be completely unfamiliar with the data. "
   ]
  },
  {
   "cell_type": "markdown",
   "metadata": {},
   "source": [
    "Right after you identify the categorical variables, there are some checks and cleaning to be done before you convert the columns to categorical."
   ]
  },
  {
   "cell_type": "markdown",
   "metadata": {},
   "source": [
    "### Dealing With Categorical Data Problems"
   ]
  },
  {
   "cell_type": "markdown",
   "metadata": {},
   "source": [
    "When you work with real-world data, it will be filled with cleaning problems.\n",
    "\n",
    "As I wrote in the first part of the series, people collecting data won't take into account the cleanliness of the data and do what it takes to record the necessary information in an easy manner as possible. \n",
    "\n",
    "Also, problems will arise because of free text during the collection process which leads to typos, many representations of the same value, etc. It is also possible that errors are introduced because of data parsing errors or bad database design.\n",
    "\n",
    "For example, consider this worst-case scenario: you are working on a survey data conducted across USA and there is a `state` column for the state of each observation in the dataset. There are 50 states in the USA and imagine all the damn variations of state names people can come up with. You are in even bigger problem if data collectors decide to use abbreviations:\n",
    "- CA, ca, Ca, Caliphornia, Californa, Calfornia, calipornia, CAL, CALI, ...\n",
    "\n",
    "Such columns will always be filled with typos, errors, inconsistencies. Never imagine that you will have a smooth one-to-one mapping of categories. \n",
    "\n",
    "Before moving on to analysis, you have to establish what is called membership constraints which clearly defines the number of categories and how they are represented in a single format."
   ]
  },
  {
   "cell_type": "markdown",
   "metadata": {},
   "source": [
    "### Membership Constraints"
   ]
  },
  {
   "cell_type": "markdown",
   "metadata": {},
   "source": [
    "There are 3 ways you can treat categorical data problems:\n",
    "- dropping \n",
    "- remapping categories\n",
    "- inferring categories\n",
    "\n",
    "First, we will focus on isolating inconsistent observations and dropping them. I have created a fake data to illustrate how it is done in code:"
   ]
  },
  {
   "cell_type": "code",
   "execution_count": 97,
   "metadata": {},
   "outputs": [],
   "source": [
    "# Create possible values for the fake date\n",
    "first_names = [\n",
    "    'Lane', 'Ivor', 'Roary', 'Shannon', 'Abdul', 'Mary', 'Cole', 'Desirae'\n",
    "]\n",
    "\n",
    "last_names = ['Reese', 'Pierce', 'Gibson', 'Little', 'Fry', 'Colon', 'Palmer']\n",
    "\n",
    "blood_types = ['O+', 'O-', 'B+', 'B-', 'A+', 'A-', 'AB+', 'AB-', 'C+', 'D-']\n",
    "probabilites = [0.12, 0.13, 0.13, 0.12, 0.13, 0.12, 0.12, 0.12, 0.005, 0.005]\n",
    "marriage_status = [\n",
    "    ' married', 'married', 'unmarried ', 'unmarried', 'MARRIED', 'UNMARRIED',\n",
    "    'divorced', 'separated'\n",
    "]\n",
    "size = 10000\n",
    "\n",
    "dirty_dict = {\n",
    "    'first_name': np.random.choice(first_names, size),\n",
    "    'last_name': np.random.choice(last_names, size),\n",
    "    'blood_type': np.random.choice(blood_types, size, p=probabilites),\n",
    "    'marriage_status': np.random.choice(marriage_status, size),\n",
    "    'income': np.random.choice(np.arange(40000, 200000, 15000), size)\n",
    "}\n",
    "\n",
    "# Data frame from dirty dict with size 10k\n",
    "sample = pd.DataFrame(dirty_dict)\n",
    "sample.to_csv('data/incorrect_blood.csv', index=False)"
   ]
  },
  {
   "cell_type": "code",
   "execution_count": 98,
   "metadata": {
    "scrolled": true
   },
   "outputs": [
    {
     "data": {
      "text/html": [
       "<div>\n",
       "<style scoped>\n",
       "    .dataframe tbody tr th:only-of-type {\n",
       "        vertical-align: middle;\n",
       "    }\n",
       "\n",
       "    .dataframe tbody tr th {\n",
       "        vertical-align: top;\n",
       "    }\n",
       "\n",
       "    .dataframe thead th {\n",
       "        text-align: right;\n",
       "    }\n",
       "</style>\n",
       "<table border=\"1\" class=\"dataframe\">\n",
       "  <thead>\n",
       "    <tr style=\"text-align: right;\">\n",
       "      <th></th>\n",
       "      <th>first_name</th>\n",
       "      <th>last_name</th>\n",
       "      <th>blood_type</th>\n",
       "      <th>marriage_status</th>\n",
       "      <th>income</th>\n",
       "    </tr>\n",
       "  </thead>\n",
       "  <tbody>\n",
       "    <tr>\n",
       "      <th>0</th>\n",
       "      <td>Abdul</td>\n",
       "      <td>Little</td>\n",
       "      <td>AB+</td>\n",
       "      <td>unmarried</td>\n",
       "      <td>85000</td>\n",
       "    </tr>\n",
       "    <tr>\n",
       "      <th>1</th>\n",
       "      <td>Abdul</td>\n",
       "      <td>Fry</td>\n",
       "      <td>B-</td>\n",
       "      <td>unmarried</td>\n",
       "      <td>175000</td>\n",
       "    </tr>\n",
       "    <tr>\n",
       "      <th>2</th>\n",
       "      <td>Roary</td>\n",
       "      <td>Gibson</td>\n",
       "      <td>B-</td>\n",
       "      <td>unmarried</td>\n",
       "      <td>190000</td>\n",
       "    </tr>\n",
       "    <tr>\n",
       "      <th>3</th>\n",
       "      <td>Desirae</td>\n",
       "      <td>Fry</td>\n",
       "      <td>A+</td>\n",
       "      <td>married</td>\n",
       "      <td>85000</td>\n",
       "    </tr>\n",
       "    <tr>\n",
       "      <th>4</th>\n",
       "      <td>Abdul</td>\n",
       "      <td>Palmer</td>\n",
       "      <td>A-</td>\n",
       "      <td>divorced</td>\n",
       "      <td>175000</td>\n",
       "    </tr>\n",
       "  </tbody>\n",
       "</table>\n",
       "</div>"
      ],
      "text/plain": [
       "  first_name last_name blood_type marriage_status  income\n",
       "0      Abdul    Little        AB+      unmarried    85000\n",
       "1      Abdul       Fry         B-       unmarried  175000\n",
       "2      Roary    Gibson         B-       unmarried  190000\n",
       "3    Desirae       Fry         A+         married   85000\n",
       "4      Abdul    Palmer         A-        divorced  175000"
      ]
     },
     "execution_count": 98,
     "metadata": {},
     "output_type": "execute_result"
    }
   ],
   "source": [
    "demographics = pd.read_csv('data/incorrect_blood.csv')\n",
    "demographics.head(5)"
   ]
  },
  {
   "cell_type": "markdown",
   "metadata": {},
   "source": [
    "It is often the case that you will have some background information about your data. For example, let's say you want to check for inconsistencies in the `blood_type` column of the above data frame. You find out beforehand that `blood_type`  can only have these categories: **\\[A+, A-, B+, B-, O+, O-, AB+, AB-\\]**. So, you have to make sure that the column in the data source only includes these values. \n",
    "\n",
    "In our case, there are 10k rows and visual search for inconsistencies is not an option, which is also the case for many other real-world data. Here is how can implement the best solution for such problems:\n",
    "\n",
    "First, you should create a new data frame which holds all the possible values for a categorical column:"
   ]
  },
  {
   "cell_type": "code",
   "execution_count": 99,
   "metadata": {},
   "outputs": [
    {
     "data": {
      "text/html": [
       "<div>\n",
       "<style scoped>\n",
       "    .dataframe tbody tr th:only-of-type {\n",
       "        vertical-align: middle;\n",
       "    }\n",
       "\n",
       "    .dataframe tbody tr th {\n",
       "        vertical-align: top;\n",
       "    }\n",
       "\n",
       "    .dataframe thead th {\n",
       "        text-align: right;\n",
       "    }\n",
       "</style>\n",
       "<table border=\"1\" class=\"dataframe\">\n",
       "  <thead>\n",
       "    <tr style=\"text-align: right;\">\n",
       "      <th></th>\n",
       "      <th>blood_type</th>\n",
       "    </tr>\n",
       "  </thead>\n",
       "  <tbody>\n",
       "    <tr>\n",
       "      <th>0</th>\n",
       "      <td>O+</td>\n",
       "    </tr>\n",
       "    <tr>\n",
       "      <th>1</th>\n",
       "      <td>O-</td>\n",
       "    </tr>\n",
       "    <tr>\n",
       "      <th>2</th>\n",
       "      <td>B+</td>\n",
       "    </tr>\n",
       "    <tr>\n",
       "      <th>3</th>\n",
       "      <td>B-</td>\n",
       "    </tr>\n",
       "    <tr>\n",
       "      <th>4</th>\n",
       "      <td>A+</td>\n",
       "    </tr>\n",
       "    <tr>\n",
       "      <th>5</th>\n",
       "      <td>A-</td>\n",
       "    </tr>\n",
       "    <tr>\n",
       "      <th>6</th>\n",
       "      <td>AB+</td>\n",
       "    </tr>\n",
       "    <tr>\n",
       "      <th>7</th>\n",
       "      <td>AB-</td>\n",
       "    </tr>\n",
       "  </tbody>\n",
       "</table>\n",
       "</div>"
      ],
      "text/plain": [
       "  blood_type\n",
       "0         O+\n",
       "1         O-\n",
       "2         B+\n",
       "3         B-\n",
       "4         A+\n",
       "5         A-\n",
       "6        AB+\n",
       "7        AB-"
      ]
     },
     "execution_count": 99,
     "metadata": {},
     "output_type": "execute_result"
    }
   ],
   "source": [
    "categories = pd.DataFrame(\n",
    "    {'blood_type': ['O+', 'O-', 'B+', 'B-', 'A+', 'A-', 'AB+', 'AB-']})\n",
    "categories"
   ]
  },
  {
   "cell_type": "markdown",
   "metadata": {},
   "source": [
    "> It is a good practice to create such data frames which hold category mappings for each categorical column in the main data.\n",
    "\n",
    "As we now have the correct categories in a separate data frame, we can use a basic set operation which gives us the difference of unique values in the two columns:"
   ]
  },
  {
   "cell_type": "code",
   "execution_count": 100,
   "metadata": {},
   "outputs": [
    {
     "data": {
      "text/plain": [
       "{'C+', 'D-'}"
      ]
     },
     "execution_count": 100,
     "metadata": {},
     "output_type": "execute_result"
    }
   ],
   "source": [
    "# Create a set of unique blood types of the main data frame\n",
    "unique_types_main = set(demographics['blood_type'].unique())\n",
    "inconsistent_cats = unique_types_main.difference(categories['blood_type'])\n",
    "inconsistent_cats"
   ]
  },
  {
   "cell_type": "markdown",
   "metadata": {},
   "source": [
    "To get the difference of two sets, we use `.difference` function. It basically returns all the values from the left set that are not in the right set. Here is a very simple example:"
   ]
  },
  {
   "cell_type": "code",
   "execution_count": 101,
   "metadata": {},
   "outputs": [
    {
     "data": {
      "text/plain": [
       "{'A', 'B'}"
      ]
     },
     "execution_count": 101,
     "metadata": {},
     "output_type": "execute_result"
    }
   ],
   "source": [
    "set_1 = {'A', 'B', 'C', 'D'}\n",
    "set_2 = {'C', 'D', 'E'}\n",
    "set_1.difference(set_2)"
   ]
  },
  {
   "cell_type": "markdown",
   "metadata": {},
   "source": [
    "Attentive readers may have noticed that inside the `set` function, I also called `.unique()` on the `blood_type`. From what I have read from one StackOverflow thread, it seems that the time it takes to get the unique values will be much shorter if you use both `set` and `unique` for larger datasets. \n",
    "\n",
    "Now, we will filter our main data for the blood types 'C+' and 'D-':"
   ]
  },
  {
   "cell_type": "code",
   "execution_count": 102,
   "metadata": {},
   "outputs": [
    {
     "data": {
      "text/plain": [
       "0       False\n",
       "1       False\n",
       "2       False\n",
       "3       False\n",
       "4       False\n",
       "        ...  \n",
       "9995    False\n",
       "9996    False\n",
       "9997    False\n",
       "9998    False\n",
       "9999    False\n",
       "Name: blood_type, Length: 10000, dtype: bool"
      ]
     },
     "execution_count": 102,
     "metadata": {},
     "output_type": "execute_result"
    }
   ],
   "source": [
    "inconsistent = demographics['blood_type'].isin(inconsistent_cats)\n",
    "inconsistent"
   ]
  },
  {
   "cell_type": "markdown",
   "metadata": {},
   "source": [
    "Using `isin` on `blood_type` will return a boolean series which we can use to index the data frame:"
   ]
  },
  {
   "cell_type": "code",
   "execution_count": 103,
   "metadata": {},
   "outputs": [
    {
     "data": {
      "text/html": [
       "<div>\n",
       "<style scoped>\n",
       "    .dataframe tbody tr th:only-of-type {\n",
       "        vertical-align: middle;\n",
       "    }\n",
       "\n",
       "    .dataframe tbody tr th {\n",
       "        vertical-align: top;\n",
       "    }\n",
       "\n",
       "    .dataframe thead th {\n",
       "        text-align: right;\n",
       "    }\n",
       "</style>\n",
       "<table border=\"1\" class=\"dataframe\">\n",
       "  <thead>\n",
       "    <tr style=\"text-align: right;\">\n",
       "      <th></th>\n",
       "      <th>first_name</th>\n",
       "      <th>last_name</th>\n",
       "      <th>blood_type</th>\n",
       "      <th>marriage_status</th>\n",
       "      <th>income</th>\n",
       "    </tr>\n",
       "  </thead>\n",
       "  <tbody>\n",
       "    <tr>\n",
       "      <th>58</th>\n",
       "      <td>Lane</td>\n",
       "      <td>Little</td>\n",
       "      <td>D-</td>\n",
       "      <td>married</td>\n",
       "      <td>85000</td>\n",
       "    </tr>\n",
       "    <tr>\n",
       "      <th>121</th>\n",
       "      <td>Lane</td>\n",
       "      <td>Colon</td>\n",
       "      <td>D-</td>\n",
       "      <td>married</td>\n",
       "      <td>145000</td>\n",
       "    </tr>\n",
       "    <tr>\n",
       "      <th>157</th>\n",
       "      <td>Cole</td>\n",
       "      <td>Gibson</td>\n",
       "      <td>D-</td>\n",
       "      <td>married</td>\n",
       "      <td>190000</td>\n",
       "    </tr>\n",
       "    <tr>\n",
       "      <th>243</th>\n",
       "      <td>Cole</td>\n",
       "      <td>Gibson</td>\n",
       "      <td>C+</td>\n",
       "      <td>unmarried</td>\n",
       "      <td>115000</td>\n",
       "    </tr>\n",
       "    <tr>\n",
       "      <th>351</th>\n",
       "      <td>Abdul</td>\n",
       "      <td>Colon</td>\n",
       "      <td>D-</td>\n",
       "      <td>unmarried</td>\n",
       "      <td>55000</td>\n",
       "    </tr>\n",
       "    <tr>\n",
       "      <th>...</th>\n",
       "      <td>...</td>\n",
       "      <td>...</td>\n",
       "      <td>...</td>\n",
       "      <td>...</td>\n",
       "      <td>...</td>\n",
       "    </tr>\n",
       "    <tr>\n",
       "      <th>9308</th>\n",
       "      <td>Lane</td>\n",
       "      <td>Reese</td>\n",
       "      <td>D-</td>\n",
       "      <td>married</td>\n",
       "      <td>85000</td>\n",
       "    </tr>\n",
       "    <tr>\n",
       "      <th>9410</th>\n",
       "      <td>Cole</td>\n",
       "      <td>Little</td>\n",
       "      <td>C+</td>\n",
       "      <td>married</td>\n",
       "      <td>130000</td>\n",
       "    </tr>\n",
       "    <tr>\n",
       "      <th>9542</th>\n",
       "      <td>Cole</td>\n",
       "      <td>Gibson</td>\n",
       "      <td>C+</td>\n",
       "      <td>unmarried</td>\n",
       "      <td>190000</td>\n",
       "    </tr>\n",
       "    <tr>\n",
       "      <th>9937</th>\n",
       "      <td>Lane</td>\n",
       "      <td>Fry</td>\n",
       "      <td>C+</td>\n",
       "      <td>MARRIED</td>\n",
       "      <td>100000</td>\n",
       "    </tr>\n",
       "    <tr>\n",
       "      <th>9956</th>\n",
       "      <td>Roary</td>\n",
       "      <td>Reese</td>\n",
       "      <td>D-</td>\n",
       "      <td>unmarried</td>\n",
       "      <td>175000</td>\n",
       "    </tr>\n",
       "  </tbody>\n",
       "</table>\n",
       "<p>107 rows × 5 columns</p>\n",
       "</div>"
      ],
      "text/plain": [
       "     first_name last_name blood_type marriage_status  income\n",
       "58         Lane    Little         D-         married   85000\n",
       "121        Lane     Colon         D-         married  145000\n",
       "157        Cole    Gibson         D-         married  190000\n",
       "243        Cole    Gibson         C+      unmarried   115000\n",
       "351       Abdul     Colon         D-      unmarried    55000\n",
       "...         ...       ...        ...             ...     ...\n",
       "9308       Lane     Reese         D-         married   85000\n",
       "9410       Cole    Little         C+         married  130000\n",
       "9542       Cole    Gibson         C+       unmarried  190000\n",
       "9937       Lane       Fry         C+         MARRIED  100000\n",
       "9956      Roary     Reese         D-       unmarried  175000\n",
       "\n",
       "[107 rows x 5 columns]"
      ]
     },
     "execution_count": 103,
     "metadata": {},
     "output_type": "execute_result"
    }
   ],
   "source": [
    "inconsistent_rows = demographics[inconsistent]\n",
    "inconsistent_rows"
   ]
  },
  {
   "cell_type": "markdown",
   "metadata": {},
   "source": [
    "So, there are 142 individuals with incorrect blood types. Since we don't have any insight of how these errors occurred, we have to drop them. It can be done in two ways:"
   ]
  },
  {
   "cell_type": "code",
   "execution_count": 104,
   "metadata": {},
   "outputs": [],
   "source": [
    "# Using drop\n",
    "demographics = demographics.drop(inconsistent_rows.index)\n",
    "# Using negative conditioning\n",
    "demographics = demographics[~inconsistent]\n",
    "# Check the results\n",
    "assert set(demographics['blood_type'].unique()) == set(\n",
    "    categories['blood_type'])"
   ]
  },
  {
   "cell_type": "markdown",
   "metadata": {},
   "source": [
    "As our column is clean now, it is safe to set it as a categorical variable:"
   ]
  },
  {
   "cell_type": "code",
   "execution_count": 105,
   "metadata": {},
   "outputs": [],
   "source": [
    "# Set blood_type as a categorical variable\n",
    "demographics['blood_type'] = demographics['blood_type'].astype('category')\n",
    "# Check that the results are in effect\n",
    "assert demographics['blood_type'].dtype == 'category'"
   ]
  },
  {
   "cell_type": "markdown",
   "metadata": {},
   "source": [
    "### Value Inconsistency\n"
   ]
  },
  {
   "cell_type": "markdown",
   "metadata": {},
   "source": [
    "Just like we talked in the second section, there may be many representations of the same category in the data set. These errors may occur just because simple typos, capitalization, you name it. Continuing cleaning our data, the turn has come to the `marriage_status` column:"
   ]
  },
  {
   "cell_type": "code",
   "execution_count": 106,
   "metadata": {},
   "outputs": [
    {
     "data": {
      "text/plain": [
       "MARRIED       1300\n",
       "married       1272\n",
       " married      1238\n",
       "UNMARRIED     1238\n",
       "separated     1238\n",
       "unmarried     1233\n",
       "unmarried     1189\n",
       "divorced      1185\n",
       "Name: marriage_status, dtype: int64"
      ]
     },
     "execution_count": 106,
     "metadata": {},
     "output_type": "execute_result"
    }
   ],
   "source": [
    "demographics['marriage_status'].value_counts()"
   ]
  },
  {
   "cell_type": "markdown",
   "metadata": {},
   "source": [
    "Using `value_counts` on a data frame column returns the count of unique values in that column. If you look at the result, you can immediately see the issues. The values should be either lower-case or upper-case. I prefer lower-case:"
   ]
  },
  {
   "cell_type": "code",
   "execution_count": 107,
   "metadata": {},
   "outputs": [
    {
     "data": {
      "text/plain": [
       "married       2572\n",
       "unmarried     2471\n",
       " married      1238\n",
       "separated     1238\n",
       "unmarried     1189\n",
       "divorced      1185\n",
       "Name: marriage_status, dtype: int64"
      ]
     },
     "execution_count": 107,
     "metadata": {},
     "output_type": "execute_result"
    }
   ],
   "source": [
    "demographics['marriage_status'] = demographics['marriage_status'].str.lower()\n",
    "demographics['marriage_status'].value_counts()"
   ]
  },
  {
   "cell_type": "markdown",
   "metadata": {},
   "source": [
    "Using `.str` on a data frame column enables us to use all the Python string functions on each value of the column. Here, we are using `.lower()` which converts strings to lowercase."
   ]
  },
  {
   "cell_type": "markdown",
   "metadata": {},
   "source": [
    "`value_counts` is still returning 6 unique values, why? After paying close attention, you can see that one of the categories has an extra leading whitespace. That's why it is being treated as an individual category. The same can be true for one of the `unmarried`, it might have a trailing whitespace. We can use the string `strip` function to get rid of unwanted characters from a string:"
   ]
  },
  {
   "cell_type": "code",
   "execution_count": 108,
   "metadata": {},
   "outputs": [
    {
     "data": {
      "text/plain": [
       "married      3810\n",
       "unmarried    3660\n",
       "separated    1238\n",
       "divorced     1185\n",
       "Name: marriage_status, dtype: int64"
      ]
     },
     "execution_count": 108,
     "metadata": {},
     "output_type": "execute_result"
    }
   ],
   "source": [
    "demographics['marriage_status'] = demographics['marriage_status'].str.strip()\n",
    "demographics['marriage_status'].value_counts()"
   ]
  },
  {
   "cell_type": "markdown",
   "metadata": {},
   "source": [
    "Now the data is clean. All is left is to convert this column into a category data type too:"
   ]
  },
  {
   "cell_type": "code",
   "execution_count": 109,
   "metadata": {},
   "outputs": [],
   "source": [
    "# Convert marriage_status to categorical\n",
    "demographics['marriage_status'] = demographics['marriage_status'].astype(\n",
    "    'category')\n",
    "# Check the results\n",
    "assert demographics['marriage_status'].dtype == 'category'"
   ]
  },
  {
   "cell_type": "markdown",
   "metadata": {},
   "source": [
    "### Collapsing Data Into Categories"
   ]
  },
  {
   "cell_type": "code",
   "execution_count": null,
   "metadata": {},
   "outputs": [],
   "source": []
  }
 ],
 "metadata": {
  "kernelspec": {
   "display_name": "medium_articles",
   "language": "python",
   "name": "medium_articles"
  },
  "language_info": {
   "codemirror_mode": {
    "name": "ipython",
    "version": 3
   },
   "file_extension": ".py",
   "mimetype": "text/x-python",
   "name": "python",
   "nbconvert_exporter": "python",
   "pygments_lexer": "ipython3",
   "version": "3.8.5"
  }
 },
 "nbformat": 4,
 "nbformat_minor": 4
}
