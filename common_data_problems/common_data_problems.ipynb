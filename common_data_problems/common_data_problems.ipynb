{
 "cells": [
  {
   "cell_type": "markdown",
   "metadata": {},
   "source": [
    "# Master the Most Time-consuming Task in DS/ML, Part I\n",
    "## Dealing with common data problems\n",
    "<img src='images/clean2.jpg'></img>\n",
    "<figcaption style=\"text-align: center;\">\n",
    "    <strong>\n",
    "        Photo by \n",
    "        <a href='https://unsplash.com/@thecreative_exchange?utm_source=medium&utm_medium=referral'>Steve Johnson</a>\n",
    "        on \n",
    "        <a href='https://unsplash.com/?utm_source=medium&utm_medium=referral'>Unsplash</a>\n",
    "    </strong>\n",
    "</figcaption>"
   ]
  },
  {
   "cell_type": "markdown",
   "metadata": {},
   "source": [
    "### Introduction <small id='intro'></small>"
   ]
  },
  {
   "cell_type": "markdown",
   "metadata": {},
   "source": [
    "### Setup <small id='setup'></small>"
   ]
  },
  {
   "cell_type": "code",
   "execution_count": 214,
   "metadata": {},
   "outputs": [],
   "source": [
    "# Load necessary libraries\n",
    "import numpy as np\n",
    "import pandas as pd\n",
    "import matplotlib.pyplot as plt\n",
    "import seaborn as sns\n",
    "\n",
    "# Ignore warnings\n",
    "import warnings\n",
    "warnings.filterwarnings('ignore')\n",
    "\n",
    "# Plotting pretty figures and avoid blurry images\n",
    "%config InlineBackend.figure_format = 'retina'\n",
    "# Larger scale for plots in notebooks\n",
    "sns.set_context('notebook')"
   ]
  },
  {
   "cell_type": "markdown",
   "metadata": {},
   "source": [
    "For sample data, I will mostly be creating 'dirty' data myself and will be using some of the datasets from these two links which give a list of dirty datasets to practice: [Link 1](https://makingnoiseandhearingthings.com/2018/04/19/datasets-for-data-cleaning-practice/) and [Link 2](https://foresightbi.com.ng/microsoft-power-bi/dirty-data-samples-to-practice-on/). Definitely check out those datasets to flex your data cleaning muscles💪."
   ]
  },
  {
   "cell_type": "markdown",
   "metadata": {},
   "source": [
    "### Data Type Constraints <small id='type'></small>"
   ]
  },
  {
   "cell_type": "markdown",
   "metadata": {},
   "source": [
    "Having the correct data type for each observation in the dataset is crucial. Generally, any data should belong to one of these types:\n",
    "- `int` or `float` - numeric\n",
    "- `str` - any text data\n",
    "- `bool` - boolean (**True** or **False**)\n",
    "- `datetime` - dates\n",
    "- `category` - a finite set of values for one variable (do not confuse with string!)"
   ]
  },
  {
   "cell_type": "markdown",
   "metadata": {},
   "source": [
    "If not dealt, incorrect data types may lead to misleading results during analyses and often go undetected.\n",
    "\n",
    "One thing you should understand is that people who collect the data are not specialists in data engineering or any data-related fields and probably won't have a clue of what represents clean data. They do whatever it takes to record necessary information in as easy manner for them as possible. This will often result in human errors such as typos, adding unnecessary characters, representing the same information in many formats, etc.\n",
    "\n",
    "The first common data problem is having numeric data as strings:"
   ]
  },
  {
   "cell_type": "code",
   "execution_count": 215,
   "metadata": {
    "scrolled": true
   },
   "outputs": [
    {
     "data": {
      "text/html": [
       "<div>\n",
       "<style scoped>\n",
       "    .dataframe tbody tr th:only-of-type {\n",
       "        vertical-align: middle;\n",
       "    }\n",
       "\n",
       "    .dataframe tbody tr th {\n",
       "        vertical-align: top;\n",
       "    }\n",
       "\n",
       "    .dataframe thead th {\n",
       "        text-align: right;\n",
       "    }\n",
       "</style>\n",
       "<table border=\"1\" class=\"dataframe\">\n",
       "  <thead>\n",
       "    <tr style=\"text-align: right;\">\n",
       "      <th></th>\n",
       "      <th>Description</th>\n",
       "      <th>Basic Unit</th>\n",
       "      <th>Beginning Balance</th>\n",
       "      <th>Quantity Received</th>\n",
       "      <th>Quantity Dispensed</th>\n",
       "      <th>Losses and Adjustments</th>\n",
       "      <th>Ending Balance (Physical Count)</th>\n",
       "    </tr>\n",
       "  </thead>\n",
       "  <tbody>\n",
       "    <tr>\n",
       "      <th>5243</th>\n",
       "      <td>I.V Metronidazole 200mg</td>\n",
       "      <td>Pcs</td>\n",
       "      <td>0</td>\n",
       "      <td>0</td>\n",
       "      <td>0</td>\n",
       "      <td>0</td>\n",
       "      <td>0</td>\n",
       "    </tr>\n",
       "    <tr>\n",
       "      <th>318</th>\n",
       "      <td>Tabs Ferrous sulphate 200mg</td>\n",
       "      <td>1000's</td>\n",
       "      <td>0</td>\n",
       "      <td>0</td>\n",
       "      <td>0</td>\n",
       "      <td>0</td>\n",
       "      <td>0</td>\n",
       "    </tr>\n",
       "    <tr>\n",
       "      <th>3853</th>\n",
       "      <td>Susp. Erythromycin 125mg/5ml</td>\n",
       "      <td>Bottle</td>\n",
       "      <td>0</td>\n",
       "      <td>0</td>\n",
       "      <td>0</td>\n",
       "      <td>0</td>\n",
       "      <td>0</td>\n",
       "    </tr>\n",
       "    <tr>\n",
       "      <th>2499</th>\n",
       "      <td>Tab. Losartan 25mg</td>\n",
       "      <td>30's</td>\n",
       "      <td>2500</td>\n",
       "      <td>0</td>\n",
       "      <td>0</td>\n",
       "      <td>0</td>\n",
       "      <td>0</td>\n",
       "    </tr>\n",
       "    <tr>\n",
       "      <th>4806</th>\n",
       "      <td>0.9% Normal saline 500mls</td>\n",
       "      <td>Pcs</td>\n",
       "      <td>31</td>\n",
       "      <td>0</td>\n",
       "      <td>20</td>\n",
       "      <td>0</td>\n",
       "      <td>11</td>\n",
       "    </tr>\n",
       "  </tbody>\n",
       "</table>\n",
       "</div>"
      ],
      "text/plain": [
       "                       Description Basic Unit Beginning Balance   \\\n",
       "5243       I.V Metronidazole 200mg        Pcs                  0   \n",
       "318    Tabs Ferrous sulphate 200mg     1000's                  0   \n",
       "3853  Susp. Erythromycin 125mg/5ml     Bottle                  0   \n",
       "2499            Tab. Losartan 25mg       30's               2500   \n",
       "4806     0.9% Normal saline 500mls        Pcs                 31   \n",
       "\n",
       "     Quantity Received  Quantity Dispensed  Losses and Adjustments  \\\n",
       "5243                  0                   0                      0   \n",
       "318                   0                   0                      0   \n",
       "3853                  0                   0                      0   \n",
       "2499                  0                   0                      0   \n",
       "4806                  0                  20                      0   \n",
       "\n",
       "     Ending Balance (Physical Count)  \n",
       "5243                               0  \n",
       "318                                0  \n",
       "3853                               0  \n",
       "2499                               0  \n",
       "4806                              11  "
      ]
     },
     "execution_count": 215,
     "metadata": {},
     "output_type": "execute_result"
    }
   ],
   "source": [
    "hospital = pd.read_excel('data/hospital.xlsx')\n",
    "hospital.sample(5)"
   ]
  },
  {
   "cell_type": "markdown",
   "metadata": {},
   "source": [
    "A handy attribute of data frames is `dtypes` which allows for a quick overview of data types of all variables:"
   ]
  },
  {
   "cell_type": "code",
   "execution_count": 216,
   "metadata": {},
   "outputs": [
    {
     "data": {
      "text/plain": [
       "Description                        object\n",
       "Basic Unit                         object\n",
       "Beginning Balance                  object\n",
       "Quantity Received                  object\n",
       "Quantity Dispensed                 object\n",
       "Losses and Adjustments             object\n",
       "Ending Balance (Physical Count)    object\n",
       "dtype: object"
      ]
     },
     "execution_count": 216,
     "metadata": {},
     "output_type": "execute_result"
    }
   ],
   "source": [
    "hospital.dtypes"
   ]
  },
  {
   "cell_type": "markdown",
   "metadata": {},
   "source": [
    "`info` method offers the same information with some extra details:"
   ]
  },
  {
   "cell_type": "code",
   "execution_count": 217,
   "metadata": {},
   "outputs": [
    {
     "name": "stdout",
     "output_type": "stream",
     "text": [
      "<class 'pandas.core.frame.DataFrame'>\n",
      "RangeIndex: 5846 entries, 0 to 5845\n",
      "Data columns (total 7 columns):\n",
      " #   Column                           Non-Null Count  Dtype \n",
      "---  ------                           --------------  ----- \n",
      " 0   Description                      5846 non-null   object\n",
      " 1   Basic Unit                       5846 non-null   object\n",
      " 2   Beginning Balance                5846 non-null   object\n",
      " 3   Quantity Received                5846 non-null   object\n",
      " 4   Quantity Dispensed               5846 non-null   object\n",
      " 5   Losses and Adjustments           5846 non-null   object\n",
      " 6   Ending Balance (Physical Count)  5846 non-null   object\n",
      "dtypes: object(7)\n",
      "memory usage: 319.8+ KB\n"
     ]
    }
   ],
   "source": [
    "hospital.info()"
   ]
  },
  {
   "cell_type": "markdown",
   "metadata": {},
   "source": [
    "It is obvious that the data types for the last 5 columns are incorrect. Quantities should either be integers or floats but `pandas` imported them as string (object). It is possible that some of the numbers contain non-numeric characters which may lead to such problems. \n",
    "\n",
    "First of all, let's convert all the columns to lower and snake_case which allows for easier operations:"
   ]
  },
  {
   "cell_type": "code",
   "execution_count": 218,
   "metadata": {},
   "outputs": [],
   "source": [
    "def clean_col_names(df):\n",
    "    \"\"\"\n",
    "    Simple function to convert the column \n",
    "    names of a dataframe to snake_case and lower case.\n",
    "    \"\"\"\n",
    "    # Get all the col names as lower and snake_case in a list\n",
    "    new_col_names = [column.strip().replace(' ', '_').lower() for column in df.columns]\n",
    "    # Rename the column names\n",
    "    df.columns = new_col_names\n",
    "    \n",
    "    return df"
   ]
  },
  {
   "cell_type": "code",
   "execution_count": 219,
   "metadata": {},
   "outputs": [
    {
     "data": {
      "text/plain": [
       "Index(['description', 'basic_unit', 'beginning_balance', 'quantity_received',\n",
       "       'quantity_dispensed', 'losses_and_adjustments',\n",
       "       'ending_balance_(physical_count)'],\n",
       "      dtype='object')"
      ]
     },
     "execution_count": 219,
     "metadata": {},
     "output_type": "execute_result"
    }
   ],
   "source": [
    "hospital = clean_col_names(hospital)\n",
    "hospital.columns"
   ]
  },
  {
   "cell_type": "markdown",
   "metadata": {},
   "source": [
    "Now, let's store the columns with incorrect data types in a list:"
   ]
  },
  {
   "cell_type": "code",
   "execution_count": 220,
   "metadata": {},
   "outputs": [],
   "source": [
    "incorrect = [\n",
    "    'beginning_balance', 'quantity_received', 'quantity_dispensed',\n",
    "    'losses_and_adjustments', 'ending_balance_(physical_count)'\n",
    "]"
   ]
  },
  {
   "cell_type": "markdown",
   "metadata": {},
   "source": [
    "Converting columns to numeric data type is easy using `pd.to_numeric`:"
   ]
  },
  {
   "cell_type": "code",
   "execution_count": 221,
   "metadata": {},
   "outputs": [],
   "source": [
    "for col in incorrect:\n",
    "    hospital[col] = pd.to_numeric(hospital[col], errors='coerce')"
   ]
  },
  {
   "cell_type": "markdown",
   "metadata": {},
   "source": [
    "The function has `errors` parameter which lets us control what happens to values that do not convert to numeric. If set to `coerce`, `pandas` puts `NaN`s in place of inconsistent values. Check out the [documentation](https://pandas.pydata.org/pandas-docs/stable/reference/api/pandas.to_numeric.html) of the function for more details."
   ]
  },
  {
   "cell_type": "code",
   "execution_count": 222,
   "metadata": {},
   "outputs": [
    {
     "name": "stdout",
     "output_type": "stream",
     "text": [
      "<class 'pandas.core.frame.DataFrame'>\n",
      "RangeIndex: 5846 entries, 0 to 5845\n",
      "Data columns (total 7 columns):\n",
      " #   Column                           Non-Null Count  Dtype  \n",
      "---  ------                           --------------  -----  \n",
      " 0   description                      5846 non-null   object \n",
      " 1   basic_unit                       5846 non-null   object \n",
      " 2   beginning_balance                5844 non-null   float64\n",
      " 3   quantity_received                5839 non-null   float64\n",
      " 4   quantity_dispensed               5842 non-null   float64\n",
      " 5   losses_and_adjustments           5845 non-null   float64\n",
      " 6   ending_balance_(physical_count)  5842 non-null   float64\n",
      "dtypes: float64(5), object(2)\n",
      "memory usage: 319.8+ KB\n"
     ]
    }
   ],
   "source": [
    "hospital.info()"
   ]
  },
  {
   "cell_type": "markdown",
   "metadata": {},
   "source": [
    "As you see, we have the columns in the correct format and very few of the observations were converted to `NaN`s. How we deal with them is an entirely another topic and probably, I will discuss them in future articles.\n",
    "\n",
    "Note that I chose to drop the inconsistent values because there were only few of them and each case was unique. In such situations, if you try to correct them individually, it will be a huge time-suck and lots of frustration. However, if there are some patterns as to why some values are inconsistent, you should try to deal with them using custom functions and methods."
   ]
  },
  {
   "cell_type": "markdown",
   "metadata": {},
   "source": [
    "Another common problem is having categorical data represented as strings or integers. For example, let's say I have a data frame containing the marriage status of 1000 people. If I choose the status as integers 0, 1, 2 `pandas` by default interprets or imports them as integers:"
   ]
  },
  {
   "cell_type": "code",
   "execution_count": 230,
   "metadata": {},
   "outputs": [
    {
     "data": {
      "text/plain": [
       "795    1\n",
       "959    1\n",
       "98     1\n",
       "770    3\n",
       "172    0\n",
       "Name: marriage_status, dtype: int32"
      ]
     },
     "execution_count": 230,
     "metadata": {},
     "output_type": "execute_result"
    }
   ],
   "source": [
    "# Create a sample data for illustration\n",
    "df = pd.DataFrame(np.random.choice([0, 1, 3], 1000), columns=['marriage_status'])\n",
    "df.marriage_status.sample(5)"
   ]
  },
  {
   "cell_type": "markdown",
   "metadata": {},
   "source": [
    "Having categories represented as numeric will lead to misleading results during the analysis:"
   ]
  },
  {
   "cell_type": "code",
   "execution_count": 231,
   "metadata": {},
   "outputs": [
    {
     "data": {
      "text/html": [
       "<div>\n",
       "<style scoped>\n",
       "    .dataframe tbody tr th:only-of-type {\n",
       "        vertical-align: middle;\n",
       "    }\n",
       "\n",
       "    .dataframe tbody tr th {\n",
       "        vertical-align: top;\n",
       "    }\n",
       "\n",
       "    .dataframe thead th {\n",
       "        text-align: right;\n",
       "    }\n",
       "</style>\n",
       "<table border=\"1\" class=\"dataframe\">\n",
       "  <thead>\n",
       "    <tr style=\"text-align: right;\">\n",
       "      <th></th>\n",
       "      <th>marriage_status</th>\n",
       "    </tr>\n",
       "  </thead>\n",
       "  <tbody>\n",
       "    <tr>\n",
       "      <th>count</th>\n",
       "      <td>1000.000000</td>\n",
       "    </tr>\n",
       "    <tr>\n",
       "      <th>mean</th>\n",
       "      <td>1.358000</td>\n",
       "    </tr>\n",
       "    <tr>\n",
       "      <th>std</th>\n",
       "      <td>1.271004</td>\n",
       "    </tr>\n",
       "    <tr>\n",
       "      <th>min</th>\n",
       "      <td>0.000000</td>\n",
       "    </tr>\n",
       "    <tr>\n",
       "      <th>25%</th>\n",
       "      <td>0.000000</td>\n",
       "    </tr>\n",
       "    <tr>\n",
       "      <th>50%</th>\n",
       "      <td>1.000000</td>\n",
       "    </tr>\n",
       "    <tr>\n",
       "      <th>75%</th>\n",
       "      <td>3.000000</td>\n",
       "    </tr>\n",
       "    <tr>\n",
       "      <th>max</th>\n",
       "      <td>3.000000</td>\n",
       "    </tr>\n",
       "  </tbody>\n",
       "</table>\n",
       "</div>"
      ],
      "text/plain": [
       "       marriage_status\n",
       "count      1000.000000\n",
       "mean          1.358000\n",
       "std           1.271004\n",
       "min           0.000000\n",
       "25%           0.000000\n",
       "50%           1.000000\n",
       "75%           3.000000\n",
       "max           3.000000"
      ]
     },
     "execution_count": 231,
     "metadata": {},
     "output_type": "execute_result"
    }
   ],
   "source": [
    "df.describe()"
   ]
  },
  {
   "cell_type": "markdown",
   "metadata": {},
   "source": [
    "As `pandas` is treating the `marriage` as a numeric data type, `describe` gives us summary statistics which is not what we want. Let's set the column as categorical and call `describe` once again:"
   ]
  },
  {
   "cell_type": "code",
   "execution_count": 233,
   "metadata": {},
   "outputs": [
    {
     "data": {
      "text/html": [
       "<div>\n",
       "<style scoped>\n",
       "    .dataframe tbody tr th:only-of-type {\n",
       "        vertical-align: middle;\n",
       "    }\n",
       "\n",
       "    .dataframe tbody tr th {\n",
       "        vertical-align: top;\n",
       "    }\n",
       "\n",
       "    .dataframe thead th {\n",
       "        text-align: right;\n",
       "    }\n",
       "</style>\n",
       "<table border=\"1\" class=\"dataframe\">\n",
       "  <thead>\n",
       "    <tr style=\"text-align: right;\">\n",
       "      <th></th>\n",
       "      <th>marriage_status</th>\n",
       "    </tr>\n",
       "  </thead>\n",
       "  <tbody>\n",
       "    <tr>\n",
       "      <th>count</th>\n",
       "      <td>1000</td>\n",
       "    </tr>\n",
       "    <tr>\n",
       "      <th>unique</th>\n",
       "      <td>3</td>\n",
       "    </tr>\n",
       "    <tr>\n",
       "      <th>top</th>\n",
       "      <td>3</td>\n",
       "    </tr>\n",
       "    <tr>\n",
       "      <th>freq</th>\n",
       "      <td>350</td>\n",
       "    </tr>\n",
       "  </tbody>\n",
       "</table>\n",
       "</div>"
      ],
      "text/plain": [
       "        marriage_status\n",
       "count              1000\n",
       "unique                3\n",
       "top                   3\n",
       "freq                350"
      ]
     },
     "execution_count": 233,
     "metadata": {},
     "output_type": "execute_result"
    }
   ],
   "source": [
    "df['marriage_status'] = df['marriage_status'].astype('category') # set as a categorical\n",
    "df.describe()"
   ]
  },
  {
   "cell_type": "markdown",
   "metadata": {},
   "source": [
    "There is also the case where categories are given as strings. Even though it is not a big issue for our marriage status column, it certainly is when there are multiple categories and they have a particular ordering. \n",
    "\n",
    "For instance, let's say there is a column in the data source which categorizes the car size into 5: small, medium small, medium, medium large, large. If you import the file, `pandas` will definitely read them as strings. For such cases, setting the column as categorical is not enough, you should also define the order:"
   ]
  },
  {
   "cell_type": "code",
   "execution_count": 234,
   "metadata": {},
   "outputs": [
    {
     "data": {
      "text/plain": [
       "car_size    object\n",
       "dtype: object"
      ]
     },
     "execution_count": 234,
     "metadata": {},
     "output_type": "execute_result"
    }
   ],
   "source": [
    "# Create a sample data for illustration\n",
    "df = pd.DataFrame(np.random.choice(\n",
    "    ['medium small', 'small', 'medium large', 'large', 'medium',], 5000, p=[0.2, 0.3, 0.1, 0.15, 0.25]),\n",
    "                  columns=['car_size'])\n",
    "df.dtypes"
   ]
  },
  {
   "cell_type": "code",
   "execution_count": 235,
   "metadata": {},
   "outputs": [
    {
     "data": {
      "image/png": "[encoded data removed]",
      "text/plain": [
       "<Figure size 432x288 with 1 Axes>"
      ]
     },
     "metadata": {
      "image/png": {
       "height": 267,
       "width": 407
      },
      "needs_background": "light"
     },
     "output_type": "display_data"
    }
   ],
   "source": [
    "sns.countplot(df['car_size']);"
   ]
  },
  {
   "cell_type": "markdown",
   "metadata": {},
   "source": [
    "You can see that in a count plot, the results can be misleading if you don't set the categories straight."
   ]
  },
  {
   "cell_type": "code",
   "execution_count": 236,
   "metadata": {},
   "outputs": [
    {
     "data": {
      "text/plain": [
       "car_size    category\n",
       "dtype: object"
      ]
     },
     "execution_count": 236,
     "metadata": {},
     "output_type": "execute_result"
    }
   ],
   "source": [
    "# Create the list of ordered categories\n",
    "order = ['small', 'medium small', 'medium', 'medium large', 'large']\n",
    "\n",
    "# Setting as categorical with order\n",
    "df['car_size'] = pd.Categorical(df['car_size'], categories=order, ordered=True)\n",
    "df.dtypes"
   ]
  },
  {
   "cell_type": "markdown",
   "metadata": {},
   "source": [
    "For categorical data that requires more control, use `pd.Categorical`. Its first argument should be an array-like object like data frame column and you should pass the categories to `categories` setting `ordered` to True."
   ]
  },
  {
   "cell_type": "markdown",
   "metadata": {},
   "source": [
    "The same count plot:"
   ]
  },
  {
   "cell_type": "code",
   "execution_count": 237,
   "metadata": {
    "scrolled": false
   },
   "outputs": [
    {
     "data": {
      "image/png": "[encoded data removed]",
      "text/plain": [
       "<Figure size 432x288 with 1 Axes>"
      ]
     },
     "metadata": {
      "image/png": {
       "height": 267,
       "width": 402
      },
      "needs_background": "light"
     },
     "output_type": "display_data"
    }
   ],
   "source": [
    "sns.countplot(df['car_size']);"
   ]
  },
  {
   "cell_type": "markdown",
   "metadata": {},
   "source": [
    "Now, the categories are in the right order."
   ]
  },
  {
   "cell_type": "markdown",
   "metadata": {},
   "source": [
    "### Data Range Constraints <small id='range'></small>"
   ]
  },
  {
   "cell_type": "markdown",
   "metadata": {},
   "source": [
    "Another class of data problems is related to data ranges. Often, these problems can be seen with date and numeric data. For example, dates in the future, over 100-110 and negative age of a person, or any other value that does not make sense based on the real-world or business assumptions. \n",
    "\n",
    "For example, if you have a dataset of movies containing their rating up to 5 and the ratings were over that threshold, it is a potential issue:"
   ]
  },
  {
   "cell_type": "code",
   "execution_count": 245,
   "metadata": {},
   "outputs": [
    {
     "data": {
      "text/html": [
       "<div>\n",
       "<style scoped>\n",
       "    .dataframe tbody tr th:only-of-type {\n",
       "        vertical-align: middle;\n",
       "    }\n",
       "\n",
       "    .dataframe tbody tr th {\n",
       "        vertical-align: top;\n",
       "    }\n",
       "\n",
       "    .dataframe thead th {\n",
       "        text-align: right;\n",
       "    }\n",
       "</style>\n",
       "<table border=\"1\" class=\"dataframe\">\n",
       "  <thead>\n",
       "    <tr style=\"text-align: right;\">\n",
       "      <th></th>\n",
       "      <th>movie_rating</th>\n",
       "    </tr>\n",
       "  </thead>\n",
       "  <tbody>\n",
       "    <tr>\n",
       "      <th>762</th>\n",
       "      <td>5</td>\n",
       "    </tr>\n",
       "    <tr>\n",
       "      <th>546</th>\n",
       "      <td>4</td>\n",
       "    </tr>\n",
       "    <tr>\n",
       "      <th>215</th>\n",
       "      <td>2</td>\n",
       "    </tr>\n",
       "    <tr>\n",
       "      <th>711</th>\n",
       "      <td>2</td>\n",
       "    </tr>\n",
       "    <tr>\n",
       "      <th>145</th>\n",
       "      <td>5</td>\n",
       "    </tr>\n",
       "  </tbody>\n",
       "</table>\n",
       "</div>"
      ],
      "text/plain": [
       "     movie_rating\n",
       "762             5\n",
       "546             4\n",
       "215             2\n",
       "711             2\n",
       "145             5"
      ]
     },
     "execution_count": 245,
     "metadata": {},
     "output_type": "execute_result"
    }
   ],
   "source": [
    "# Create a sample of 1000 movie ratings\n",
    "movies = pd.DataFrame(np.random.choice([1, 2, 3, 4, 5, 6],\n",
    "                                       size=1000,\n",
    "                                       p=[0.15, 0.15, 0.2, 0.20, 0.25, 0.05]),\n",
    "                      columns=['movie_rating'])\n",
    "movies.sample(5)"
   ]
  },
  {
   "cell_type": "markdown",
   "metadata": {},
   "source": [
    "To spot data range errors for numeric data, histograms are very useful:"
   ]
  },
  {
   "cell_type": "code",
   "execution_count": 246,
   "metadata": {},
   "outputs": [
    {
     "data": {
      "image/png": "[encoded data removed]",
      "text/plain": [
       "<Figure size 432x288 with 1 Axes>"
      ]
     },
     "metadata": {
      "image/png": {
       "height": 271,
       "width": 395
      },
      "needs_background": "light"
     },
     "output_type": "display_data"
    }
   ],
   "source": [
    "sns.histplot(movies['movie_rating'], bins=6);"
   ]
  },
  {
   "cell_type": "markdown",
   "metadata": {},
   "source": [
    "In our fake data, we can see that there are some movies with ratings above 5. "
   ]
  },
  {
   "cell_type": "code",
   "execution_count": null,
   "metadata": {},
   "outputs": [],
   "source": []
  },
  {
   "cell_type": "markdown",
   "metadata": {},
   "source": [
    "### Uniqueness Constraints <small id='unique'></small>"
   ]
  },
  {
   "cell_type": "code",
   "execution_count": null,
   "metadata": {},
   "outputs": [],
   "source": []
  },
  {
   "cell_type": "code",
   "execution_count": null,
   "metadata": {},
   "outputs": [],
   "source": []
  },
  {
   "cell_type": "code",
   "execution_count": null,
   "metadata": {},
   "outputs": [],
   "source": []
  },
  {
   "cell_type": "code",
   "execution_count": null,
   "metadata": {},
   "outputs": [],
   "source": []
  },
  {
   "cell_type": "code",
   "execution_count": null,
   "metadata": {},
   "outputs": [],
   "source": []
  },
  {
   "cell_type": "code",
   "execution_count": null,
   "metadata": {},
   "outputs": [],
   "source": []
  },
  {
   "cell_type": "code",
   "execution_count": null,
   "metadata": {},
   "outputs": [],
   "source": []
  },
  {
   "cell_type": "code",
   "execution_count": null,
   "metadata": {},
   "outputs": [],
   "source": []
  }
 ],
 "metadata": {
  "kernelspec": {
   "display_name": "medium_articles",
   "language": "python",
   "name": "medium_articles"
  },
  "language_info": {
   "codemirror_mode": {
    "name": "ipython",
    "version": 3
   },
   "file_extension": ".py",
   "mimetype": "text/x-python",
   "name": "python",
   "nbconvert_exporter": "python",
   "pygments_lexer": "ipython3",
   "version": "3.8.5"
  }
 },
 "nbformat": 4,
 "nbformat_minor": 4
}
