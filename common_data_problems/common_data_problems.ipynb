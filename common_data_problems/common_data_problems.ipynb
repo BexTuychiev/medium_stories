{
 "cells": [
  {
   "cell_type": "markdown",
   "metadata": {},
   "source": [
    "# Master the Most Time-consuming Task in DS/ML, Part I\n",
    "## Dealing with common data problems\n",
    "<img src='images/clean2.jpg'></img>\n",
    "<figcaption style=\"text-align: center;\">\n",
    "    <strong>\n",
    "        Photo by \n",
    "        <a href='https://unsplash.com/@thecreative_exchange?utm_source=medium&utm_medium=referral'>Steve Johnson</a>\n",
    "        on \n",
    "        <a href='https://unsplash.com/?utm_source=medium&utm_medium=referral'>Unsplash</a>\n",
    "    </strong>\n",
    "</figcaption>"
   ]
  },
  {
   "cell_type": "markdown",
   "metadata": {},
   "source": [
    "### Introduction <small id='intro'></small>"
   ]
  },
  {
   "cell_type": "markdown",
   "metadata": {},
   "source": [
    "Sometimes, I have little dosages of OCD ([Obsessive Compulsive Disorder](https://en.wikipedia.org/wiki/Obsessive%E2%80%93compulsive_disorder#:~:text=Obsessive%E2%80%93compulsive%20disorder%20(OCD),distress%20or%20impairs%20general%20functioning.)). People with OCD are generally thought of as perfectionists, sometimes, a pain in the a-word, but turns out it is a gold quality in data cleaning. \n",
    "\n",
    "See, one of the common traits of OCDs is that they are always compelled to clean something, regardless of whether they enjoy the process or not. It is certainly not the case for my own room (I said sometimes), but I enjoy data cleaning. Turning the dirties data frames into nice-looking, index-ordered, lower case column labeled data is a real delight for me)))\n",
    "\n",
    "In that way, I am very fortunate. Because anyone in the data field spends, on average, 80% of their time preparing their data. Often in data cleaning, people get frustrated and will be miserable because of all the damn variations of infinite problems they have to deal with.\n",
    "\n",
    "> Data scientists spend 60% of their time on cleaning and organizing data. Collecting data sets comes second at 19% of their time, meaning data scientists spend around 80% of their time on preparing and managing data for analysis. 57% of data scientists regard cleaning and organizing data as the least enjoyable part of their work and 19% say this about collecting data sets. [Forbes](https://www.forbes.com/sites/gilpress/2016/03/23/data-preparation-most-time-consuming-least-enjoyable-data-science-task-survey-says/#718bbc696f63)\n",
    "\n",
    "So, enriching your toolkit with best and fastest methods should be one of your main goals to master the most time-consuming task in DS/ML. To help you with that, I am planning to write a series of articles from beginner to advanced. Tonight's special is your every-day, common data problems and how to tackle them."
   ]
  },
  {
   "cell_type": "markdown",
   "metadata": {},
   "source": [
    "### Setup <small id='setup'></small>"
   ]
  },
  {
   "cell_type": "code",
   "execution_count": 1,
   "metadata": {},
   "outputs": [],
   "source": [
    "# Load necessary libraries\n",
    "import numpy as np\n",
    "import pandas as pd\n",
    "import matplotlib.pyplot as plt\n",
    "import seaborn as sns\n",
    "import datetime as dt\n",
    "\n",
    "# Ignore warnings\n",
    "import warnings\n",
    "warnings.filterwarnings('ignore')\n",
    "\n",
    "# Plotting pretty figures and avoid blurry images\n",
    "%config InlineBackend.figure_format = 'retina'\n",
    "# Larger scale for plots in notebooks\n",
    "sns.set_context('notebook')"
   ]
  },
  {
   "cell_type": "markdown",
   "metadata": {},
   "source": [
    "For sample data, I will mostly be creating 'dirty' data myself and will be using some of the datasets from these two links which give a list of dirty datasets to practice: [Link 1](https://makingnoiseandhearingthings.com/2018/04/19/datasets-for-data-cleaning-practice/) and [Link 2](https://foresightbi.com.ng/microsoft-power-bi/dirty-data-samples-to-practice-on/). Definitely check out those datasets to flex your data cleaning muscles💪.\n",
    "\n",
    "> If you don't understand some of the syntax I will be using to create sample 'dirty' data frames, you can skip those parts and focus on the cleaning part."
   ]
  },
  {
   "cell_type": "markdown",
   "metadata": {},
   "source": [
    "### Data Type Constraints <small id='type'></small>"
   ]
  },
  {
   "cell_type": "markdown",
   "metadata": {},
   "source": [
    "Having the correct data type for each observation in the dataset is crucial. Generally, any data should belong to one of these types:\n",
    "- `int` or `float` - numeric\n",
    "- `str` - any text data\n",
    "- `bool` - boolean (**True** or **False**)\n",
    "- `datetime` - dates\n",
    "- `category` - a finite set of values for one variable (do not confuse with string!)"
   ]
  },
  {
   "cell_type": "markdown",
   "metadata": {},
   "source": [
    "If not dealt, incorrect data types may lead to misleading results during analyses and often go undetected.\n",
    "\n",
    "One thing you should understand is that people who collect the data may not be specialists in data engineering or any data-related fields and probably won't have a clue of what represents clean data. They do whatever it takes to record necessary information in as easy manner for them as possible. This will often result in human errors such as typos, adding unnecessary characters, representing the same information in many formats... the possibilities are endless.\n",
    "\n",
    "The first common data problem is having numeric data as strings:"
   ]
  },
  {
   "cell_type": "code",
   "execution_count": 2,
   "metadata": {
    "scrolled": true
   },
   "outputs": [
    {
     "data": {
      "text/html": [
       "<div>\n",
       "<style scoped>\n",
       "    .dataframe tbody tr th:only-of-type {\n",
       "        vertical-align: middle;\n",
       "    }\n",
       "\n",
       "    .dataframe tbody tr th {\n",
       "        vertical-align: top;\n",
       "    }\n",
       "\n",
       "    .dataframe thead th {\n",
       "        text-align: right;\n",
       "    }\n",
       "</style>\n",
       "<table border=\"1\" class=\"dataframe\">\n",
       "  <thead>\n",
       "    <tr style=\"text-align: right;\">\n",
       "      <th></th>\n",
       "      <th>Description</th>\n",
       "      <th>Basic Unit</th>\n",
       "      <th>Beginning Balance</th>\n",
       "      <th>Quantity Received</th>\n",
       "      <th>Quantity Dispensed</th>\n",
       "      <th>Losses and Adjustments</th>\n",
       "      <th>Ending Balance (Physical Count)</th>\n",
       "    </tr>\n",
       "  </thead>\n",
       "  <tbody>\n",
       "    <tr>\n",
       "      <th>99</th>\n",
       "      <td>Tabs Ascorbic acid 100mg</td>\n",
       "      <td>1000's</td>\n",
       "      <td>0</td>\n",
       "      <td>0</td>\n",
       "      <td>0</td>\n",
       "      <td>0</td>\n",
       "      <td>0</td>\n",
       "    </tr>\n",
       "    <tr>\n",
       "      <th>4554</th>\n",
       "      <td>Susp Metronidazole</td>\n",
       "      <td>Bottles</td>\n",
       "      <td>120</td>\n",
       "      <td>0</td>\n",
       "      <td>0</td>\n",
       "      <td>0</td>\n",
       "      <td>0</td>\n",
       "    </tr>\n",
       "    <tr>\n",
       "      <th>1923</th>\n",
       "      <td>Tabs Metronidazole 200mg</td>\n",
       "      <td>100's</td>\n",
       "      <td>0</td>\n",
       "      <td>0</td>\n",
       "      <td>0</td>\n",
       "      <td>0</td>\n",
       "      <td>0</td>\n",
       "    </tr>\n",
       "    <tr>\n",
       "      <th>3600</th>\n",
       "      <td>susp Metronidazole 100mg/5ml</td>\n",
       "      <td>Bottle</td>\n",
       "      <td>0</td>\n",
       "      <td>50</td>\n",
       "      <td>42</td>\n",
       "      <td>0</td>\n",
       "      <td>8</td>\n",
       "    </tr>\n",
       "    <tr>\n",
       "      <th>3805</th>\n",
       "      <td>Susp. Co-trimoxazole 240mg/5ml</td>\n",
       "      <td>Bottle</td>\n",
       "      <td>0</td>\n",
       "      <td>0</td>\n",
       "      <td>0</td>\n",
       "      <td>0</td>\n",
       "      <td>0</td>\n",
       "    </tr>\n",
       "  </tbody>\n",
       "</table>\n",
       "</div>"
      ],
      "text/plain": [
       "                         Description Basic Unit Beginning Balance   \\\n",
       "99          Tabs Ascorbic acid 100mg     1000's                  0   \n",
       "4554              Susp Metronidazole    Bottles                120   \n",
       "1923        Tabs Metronidazole 200mg      100's                  0   \n",
       "3600    susp Metronidazole 100mg/5ml     Bottle                  0   \n",
       "3805  Susp. Co-trimoxazole 240mg/5ml     Bottle                  0   \n",
       "\n",
       "     Quantity Received  Quantity Dispensed  Losses and Adjustments  \\\n",
       "99                    0                   0                      0   \n",
       "4554                  0                   0                      0   \n",
       "1923                  0                   0                      0   \n",
       "3600                 50                  42                      0   \n",
       "3805                  0                   0                      0   \n",
       "\n",
       "     Ending Balance (Physical Count)  \n",
       "99                                 0  \n",
       "4554                               0  \n",
       "1923                               0  \n",
       "3600                               8  \n",
       "3805                               0  "
      ]
     },
     "execution_count": 2,
     "metadata": {},
     "output_type": "execute_result"
    }
   ],
   "source": [
    "hospital = pd.read_excel('data/hospital.xlsx')\n",
    "hospital.sample(5)"
   ]
  },
  {
   "cell_type": "markdown",
   "metadata": {},
   "source": [
    "A handy attribute of data frames is `dtypes` which allows for a quick overview of data types of all variables:"
   ]
  },
  {
   "cell_type": "code",
   "execution_count": 3,
   "metadata": {},
   "outputs": [
    {
     "data": {
      "text/plain": [
       "Description                        object\n",
       "Basic Unit                         object\n",
       "Beginning Balance                  object\n",
       "Quantity Received                  object\n",
       "Quantity Dispensed                 object\n",
       "Losses and Adjustments             object\n",
       "Ending Balance (Physical Count)    object\n",
       "dtype: object"
      ]
     },
     "execution_count": 3,
     "metadata": {},
     "output_type": "execute_result"
    }
   ],
   "source": [
    "hospital.dtypes"
   ]
  },
  {
   "cell_type": "markdown",
   "metadata": {},
   "source": [
    "`info` method offers the same information with some extra details:"
   ]
  },
  {
   "cell_type": "code",
   "execution_count": 4,
   "metadata": {},
   "outputs": [
    {
     "name": "stdout",
     "output_type": "stream",
     "text": [
      "<class 'pandas.core.frame.DataFrame'>\n",
      "RangeIndex: 5846 entries, 0 to 5845\n",
      "Data columns (total 7 columns):\n",
      " #   Column                           Non-Null Count  Dtype \n",
      "---  ------                           --------------  ----- \n",
      " 0   Description                      5846 non-null   object\n",
      " 1   Basic Unit                       5846 non-null   object\n",
      " 2   Beginning Balance                5846 non-null   object\n",
      " 3   Quantity Received                5846 non-null   object\n",
      " 4   Quantity Dispensed               5846 non-null   object\n",
      " 5   Losses and Adjustments           5846 non-null   object\n",
      " 6   Ending Balance (Physical Count)  5846 non-null   object\n",
      "dtypes: object(7)\n",
      "memory usage: 319.8+ KB\n"
     ]
    }
   ],
   "source": [
    "hospital.info()"
   ]
  },
  {
   "cell_type": "markdown",
   "metadata": {},
   "source": [
    "It is obvious that the data types for the last 5 columns are incorrect. Quantities should either be integers or floats but `pandas` imported them as string (object). It is possible that some of the numbers contain non-numeric characters which may lead to such problems. \n",
    "\n",
    "First of all, let's convert all the columns to lower and snake_case which allows for easier operations:"
   ]
  },
  {
   "cell_type": "code",
   "execution_count": 5,
   "metadata": {},
   "outputs": [],
   "source": [
    "def clean_col_names(df):\n",
    "    \"\"\"\n",
    "    Simple function to convert the column \n",
    "    names of a dataframe to snake_case and lower case.\n",
    "    \"\"\"\n",
    "    # Get all the col names as lower and snake_case in a list\n",
    "    new_col_names = [\n",
    "        column.strip().replace(' ', '_').lower() for column in df.columns\n",
    "    ]\n",
    "    # Rename the column names\n",
    "    df.columns = new_col_names\n",
    "\n",
    "    return df"
   ]
  },
  {
   "cell_type": "code",
   "execution_count": 6,
   "metadata": {},
   "outputs": [
    {
     "data": {
      "text/plain": [
       "Index(['description', 'basic_unit', 'beginning_balance', 'quantity_received',\n",
       "       'quantity_dispensed', 'losses_and_adjustments',\n",
       "       'ending_balance_(physical_count)'],\n",
       "      dtype='object')"
      ]
     },
     "execution_count": 6,
     "metadata": {},
     "output_type": "execute_result"
    }
   ],
   "source": [
    "hospital = clean_col_names(hospital)\n",
    "hospital.columns"
   ]
  },
  {
   "cell_type": "markdown",
   "metadata": {},
   "source": [
    "Now, let's store the columns with incorrect data types in a list:"
   ]
  },
  {
   "cell_type": "code",
   "execution_count": 7,
   "metadata": {},
   "outputs": [],
   "source": [
    "incorrect = hospital.columns[2:] # The last 5"
   ]
  },
  {
   "cell_type": "markdown",
   "metadata": {},
   "source": [
    "Converting columns to numeric data type is easy using `pd.to_numeric`:"
   ]
  },
  {
   "cell_type": "code",
   "execution_count": 8,
   "metadata": {},
   "outputs": [],
   "source": [
    "for col in incorrect:\n",
    "    hospital[col] = pd.to_numeric(hospital[col], errors='coerce')"
   ]
  },
  {
   "cell_type": "markdown",
   "metadata": {},
   "source": [
    "The function has `errors` parameter which lets us control what happens to values that do not convert to numeric. If set to `coerce`, `pandas` puts `NaN`s in place of inconsistent values. Check out the [documentation](https://pandas.pydata.org/pandas-docs/stable/reference/api/pandas.to_numeric.html) of the function for more details."
   ]
  },
  {
   "cell_type": "code",
   "execution_count": 9,
   "metadata": {},
   "outputs": [
    {
     "name": "stdout",
     "output_type": "stream",
     "text": [
      "<class 'pandas.core.frame.DataFrame'>\n",
      "RangeIndex: 5846 entries, 0 to 5845\n",
      "Data columns (total 7 columns):\n",
      " #   Column                           Non-Null Count  Dtype  \n",
      "---  ------                           --------------  -----  \n",
      " 0   description                      5846 non-null   object \n",
      " 1   basic_unit                       5846 non-null   object \n",
      " 2   beginning_balance                5844 non-null   float64\n",
      " 3   quantity_received                5839 non-null   float64\n",
      " 4   quantity_dispensed               5842 non-null   float64\n",
      " 5   losses_and_adjustments           5845 non-null   float64\n",
      " 6   ending_balance_(physical_count)  5842 non-null   float64\n",
      "dtypes: float64(5), object(2)\n",
      "memory usage: 319.8+ KB\n"
     ]
    }
   ],
   "source": [
    "hospital.info()"
   ]
  },
  {
   "cell_type": "markdown",
   "metadata": {},
   "source": [
    "As you see, we have the columns in the correct format and very few of the observations were converted to `NaN`s. How we deal with `NaN`s or missing values is an entirely another topic and probably, I will discuss them in future articles.\n",
    "\n",
    "Note that I chose to drop the inconsistent values because there were only few of them and each case was unique. In such situations, if you try to correct them individually, it will be a huge time-suck and lots of frustration. However, if there are some patterns as to why some values are inconsistent, you should try to deal with them using custom functions and methods."
   ]
  },
  {
   "cell_type": "markdown",
   "metadata": {},
   "source": [
    "Another common problem is having categorical data represented as strings or integers. For example, let's say I have a data frame containing the marriage status of 1000 people. If I choose the status as integers 0, 1, 2 `pandas` by default interprets or imports them as integers:"
   ]
  },
  {
   "cell_type": "code",
   "execution_count": 10,
   "metadata": {},
   "outputs": [
    {
     "data": {
      "text/plain": [
       "952    1\n",
       "85     0\n",
       "61     1\n",
       "467    0\n",
       "258    1\n",
       "Name: marriage_status, dtype: int32"
      ]
     },
     "execution_count": 10,
     "metadata": {},
     "output_type": "execute_result"
    }
   ],
   "source": [
    "# Create a sample data for illustration\n",
    "df = pd.DataFrame(np.random.choice([0, 1, 3], 1000),\n",
    "                  columns=['marriage_status'])\n",
    "df.marriage_status.sample(5)"
   ]
  },
  {
   "cell_type": "markdown",
   "metadata": {},
   "source": [
    "Having categories represented as numeric will lead to misleading results during the analysis:"
   ]
  },
  {
   "cell_type": "code",
   "execution_count": 11,
   "metadata": {},
   "outputs": [
    {
     "data": {
      "text/html": [
       "<div>\n",
       "<style scoped>\n",
       "    .dataframe tbody tr th:only-of-type {\n",
       "        vertical-align: middle;\n",
       "    }\n",
       "\n",
       "    .dataframe tbody tr th {\n",
       "        vertical-align: top;\n",
       "    }\n",
       "\n",
       "    .dataframe thead th {\n",
       "        text-align: right;\n",
       "    }\n",
       "</style>\n",
       "<table border=\"1\" class=\"dataframe\">\n",
       "  <thead>\n",
       "    <tr style=\"text-align: right;\">\n",
       "      <th></th>\n",
       "      <th>marriage_status</th>\n",
       "    </tr>\n",
       "  </thead>\n",
       "  <tbody>\n",
       "    <tr>\n",
       "      <th>count</th>\n",
       "      <td>1000.000000</td>\n",
       "    </tr>\n",
       "    <tr>\n",
       "      <th>mean</th>\n",
       "      <td>1.313000</td>\n",
       "    </tr>\n",
       "    <tr>\n",
       "      <th>std</th>\n",
       "      <td>1.233918</td>\n",
       "    </tr>\n",
       "    <tr>\n",
       "      <th>min</th>\n",
       "      <td>0.000000</td>\n",
       "    </tr>\n",
       "    <tr>\n",
       "      <th>25%</th>\n",
       "      <td>0.000000</td>\n",
       "    </tr>\n",
       "    <tr>\n",
       "      <th>50%</th>\n",
       "      <td>1.000000</td>\n",
       "    </tr>\n",
       "    <tr>\n",
       "      <th>75%</th>\n",
       "      <td>3.000000</td>\n",
       "    </tr>\n",
       "    <tr>\n",
       "      <th>max</th>\n",
       "      <td>3.000000</td>\n",
       "    </tr>\n",
       "  </tbody>\n",
       "</table>\n",
       "</div>"
      ],
      "text/plain": [
       "       marriage_status\n",
       "count      1000.000000\n",
       "mean          1.313000\n",
       "std           1.233918\n",
       "min           0.000000\n",
       "25%           0.000000\n",
       "50%           1.000000\n",
       "75%           3.000000\n",
       "max           3.000000"
      ]
     },
     "execution_count": 11,
     "metadata": {},
     "output_type": "execute_result"
    }
   ],
   "source": [
    "df.describe()"
   ]
  },
  {
   "cell_type": "markdown",
   "metadata": {},
   "source": [
    "As `pandas` is treating the `marriage` as a numeric data type, `describe` gives us summary statistics which is not what we want. Let's set the column as categorical and call `describe` once again:"
   ]
  },
  {
   "cell_type": "code",
   "execution_count": 12,
   "metadata": {},
   "outputs": [
    {
     "data": {
      "text/html": [
       "<div>\n",
       "<style scoped>\n",
       "    .dataframe tbody tr th:only-of-type {\n",
       "        vertical-align: middle;\n",
       "    }\n",
       "\n",
       "    .dataframe tbody tr th {\n",
       "        vertical-align: top;\n",
       "    }\n",
       "\n",
       "    .dataframe thead th {\n",
       "        text-align: right;\n",
       "    }\n",
       "</style>\n",
       "<table border=\"1\" class=\"dataframe\">\n",
       "  <thead>\n",
       "    <tr style=\"text-align: right;\">\n",
       "      <th></th>\n",
       "      <th>marriage_status</th>\n",
       "    </tr>\n",
       "  </thead>\n",
       "  <tbody>\n",
       "    <tr>\n",
       "      <th>count</th>\n",
       "      <td>1000</td>\n",
       "    </tr>\n",
       "    <tr>\n",
       "      <th>unique</th>\n",
       "      <td>3</td>\n",
       "    </tr>\n",
       "    <tr>\n",
       "      <th>top</th>\n",
       "      <td>1</td>\n",
       "    </tr>\n",
       "    <tr>\n",
       "      <th>freq</th>\n",
       "      <td>347</td>\n",
       "    </tr>\n",
       "  </tbody>\n",
       "</table>\n",
       "</div>"
      ],
      "text/plain": [
       "        marriage_status\n",
       "count              1000\n",
       "unique                3\n",
       "top                   1\n",
       "freq                347"
      ]
     },
     "execution_count": 12,
     "metadata": {},
     "output_type": "execute_result"
    }
   ],
   "source": [
    "df['marriage_status'] = df['marriage_status'].astype('category')  # set as a categorical\n",
    "df.describe()"
   ]
  },
  {
   "cell_type": "markdown",
   "metadata": {},
   "source": [
    "There is also the case where categories are given as strings. Even though it is not a big issue for some categories, it certainly is when there are multiple categories and they have a particular ordering. \n",
    "\n",
    "For instance, let's say there is a column in the data source which categorizes the car size into 5 groups: small, medium small, medium, medium large, large. If you import the file, `pandas` will definitely read them as strings. For such cases, setting the column as categorical is not enough, you should also define the order:"
   ]
  },
  {
   "cell_type": "code",
   "execution_count": 13,
   "metadata": {},
   "outputs": [
    {
     "data": {
      "text/plain": [
       "car_size    object\n",
       "dtype: object"
      ]
     },
     "execution_count": 13,
     "metadata": {},
     "output_type": "execute_result"
    }
   ],
   "source": [
    "# Create a sample data for illustration\n",
    "car_sizes = ['medium small', 'small', 'medium large', 'large', 'medium',]\n",
    "distribution = np.random.choice(car_sizes,\n",
    "                                size=5000,\n",
    "                                p=[0.2, 0.3, 0.1, 0.15, 0.25])\n",
    "df = pd.DataFrame(distribution, columns=['car_size'])\n",
    "df.dtypes"
   ]
  },
  {
   "cell_type": "markdown",
   "metadata": {},
   "source": [
    "Let's plot a count plot to see the sum of each category:"
   ]
  },
  {
   "cell_type": "code",
   "execution_count": 14,
   "metadata": {},
   "outputs": [
    {
     "data": {
      "image/png": "[encoded data removed]",
      "text/plain": [
       "<Figure size 432x288 with 1 Axes>"
      ]
     },
     "metadata": {
      "image/png": {
       "height": 267,
       "width": 402
      },
      "needs_background": "light"
     },
     "output_type": "display_data"
    }
   ],
   "source": [
    "sns.countplot(df['car_size']);"
   ]
  },
  {
   "cell_type": "markdown",
   "metadata": {},
   "source": [
    "You can see that in a count plot, the results can be misleading if you don't set the categories straight."
   ]
  },
  {
   "cell_type": "code",
   "execution_count": 15,
   "metadata": {},
   "outputs": [
    {
     "data": {
      "text/plain": [
       "car_size    category\n",
       "dtype: object"
      ]
     },
     "execution_count": 15,
     "metadata": {},
     "output_type": "execute_result"
    }
   ],
   "source": [
    "# Create the list of ordered categories\n",
    "order = ['small', 'medium small', 'medium', 'medium large', 'large']\n",
    "\n",
    "# Setting as categorical with order\n",
    "df['car_size'] = pd.Categorical(df['car_size'], categories=order, ordered=True)\n",
    "df.dtypes"
   ]
  },
  {
   "cell_type": "markdown",
   "metadata": {},
   "source": [
    "For categorical data that requires more control, use `pd.Categorical`. Its first argument should be an array-like object like data frame column and you should pass the categories to `categories` setting `ordered` to True."
   ]
  },
  {
   "cell_type": "markdown",
   "metadata": {},
   "source": [
    "The same count plot:"
   ]
  },
  {
   "cell_type": "code",
   "execution_count": 16,
   "metadata": {
    "scrolled": false
   },
   "outputs": [
    {
     "data": {
      "image/png": "[encoded data removed]",
      "text/plain": [
       "<Figure size 432x288 with 1 Axes>"
      ]
     },
     "metadata": {
      "image/png": {
       "height": 267,
       "width": 402
      },
      "needs_background": "light"
     },
     "output_type": "display_data"
    }
   ],
   "source": [
    "sns.countplot(df['car_size']);"
   ]
  },
  {
   "cell_type": "markdown",
   "metadata": {},
   "source": [
    "Now, the categories are in the right order."
   ]
  },
  {
   "cell_type": "markdown",
   "metadata": {},
   "source": [
    "### Data Range Constraints <small id='range'></small>"
   ]
  },
  {
   "cell_type": "markdown",
   "metadata": {},
   "source": [
    "Another class of data problems is related to data ranges. Often, these problems can be seen with date and numeric data. For example, dates in the future, over 100-110 and negative age of a person, or any other value that does not make sense based on the real-world or business assumptions. \n",
    "\n",
    "For example, if you have a dataset of movies containing their rating up to 5 and the ratings were over that threshold, it is a potential issue:"
   ]
  },
  {
   "cell_type": "code",
   "execution_count": 17,
   "metadata": {},
   "outputs": [
    {
     "data": {
      "text/html": [
       "<div>\n",
       "<style scoped>\n",
       "    .dataframe tbody tr th:only-of-type {\n",
       "        vertical-align: middle;\n",
       "    }\n",
       "\n",
       "    .dataframe tbody tr th {\n",
       "        vertical-align: top;\n",
       "    }\n",
       "\n",
       "    .dataframe thead th {\n",
       "        text-align: right;\n",
       "    }\n",
       "</style>\n",
       "<table border=\"1\" class=\"dataframe\">\n",
       "  <thead>\n",
       "    <tr style=\"text-align: right;\">\n",
       "      <th></th>\n",
       "      <th>movie_rating</th>\n",
       "    </tr>\n",
       "  </thead>\n",
       "  <tbody>\n",
       "    <tr>\n",
       "      <th>581</th>\n",
       "      <td>5</td>\n",
       "    </tr>\n",
       "    <tr>\n",
       "      <th>296</th>\n",
       "      <td>2</td>\n",
       "    </tr>\n",
       "    <tr>\n",
       "      <th>807</th>\n",
       "      <td>5</td>\n",
       "    </tr>\n",
       "    <tr>\n",
       "      <th>475</th>\n",
       "      <td>4</td>\n",
       "    </tr>\n",
       "    <tr>\n",
       "      <th>457</th>\n",
       "      <td>6</td>\n",
       "    </tr>\n",
       "  </tbody>\n",
       "</table>\n",
       "</div>"
      ],
      "text/plain": [
       "     movie_rating\n",
       "581             5\n",
       "296             2\n",
       "807             5\n",
       "475             4\n",
       "457             6"
      ]
     },
     "execution_count": 17,
     "metadata": {},
     "output_type": "execute_result"
    }
   ],
   "source": [
    "# Create a sample of 1000 movie ratings\n",
    "ratings = [1, 2, 3, 4, 5, 6]\n",
    "probs = [0.15, 0.15, 0.2, 0.25, 0.2, 0.05]\n",
    "distribution = np.random.choice(ratings, size=1000, p=probs)\n",
    "\n",
    "movies = pd.DataFrame(distribution, columns=['movie_rating'])\n",
    "movies.sample(5)"
   ]
  },
  {
   "cell_type": "markdown",
   "metadata": {},
   "source": [
    "To spot data range errors for numeric data, histograms are very useful:"
   ]
  },
  {
   "cell_type": "code",
   "execution_count": 18,
   "metadata": {},
   "outputs": [
    {
     "data": {
      "image/png": "[encoded data removed]",
      "text/plain": [
       "<Figure size 432x288 with 1 Axes>"
      ]
     },
     "metadata": {
      "image/png": {
       "height": 267,
       "width": 395
      },
      "needs_background": "light"
     },
     "output_type": "display_data"
    }
   ],
   "source": [
    "sns.histplot(movies['movie_rating'], bins=6);"
   ]
  },
  {
   "cell_type": "markdown",
   "metadata": {},
   "source": [
    "In our fake data, we can see that there are some movies with ratings above 5. How do we deal with such out of range values? There are 4 ways we can approach them:\n",
    "- Dropping\n",
    "- Setting custom minimums and maximums\n",
    "- Treat as missing and impute\n",
    "- Setting custom value depending on business assumptions\n",
    "\n",
    "Of all the above 4, dropping should be your last choice because you might miss out on important information. The other methods are fairly self-explanatory. Let's see the implementation of some of the above methods:"
   ]
  },
  {
   "cell_type": "code",
   "execution_count": 19,
   "metadata": {},
   "outputs": [],
   "source": [
    "# Dropping with filtering\n",
    "movies = movies[movies['movie_rating'] <= 5]\n",
    "\n",
    "# Droping with .drop()\n",
    "movies.drop(movies[movies['movie_rating'] > 5].index, inplace=True)\n",
    "\n",
    "# Check the results\n",
    "assert movies['movie_rating'].max() <= 5"
   ]
  },
  {
   "cell_type": "markdown",
   "metadata": {},
   "source": [
    "`.drop` accepts a list of indexes from the data frame and drops them. To verify that our operations succeeded, we used an `assert` statement which returns no output if the condition after the keyword evaluates to `True`.\n",
    "\n",
    "Now, let's revert back the changes and see how to set custom maximum:"
   ]
  },
  {
   "cell_type": "code",
   "execution_count": 20,
   "metadata": {},
   "outputs": [],
   "source": [
    "# Revert back the changes\n",
    "ratings = [1, 2, 3, 4, 5, 6]\n",
    "probs = [0.15, 0.15, 0.2, 0.20, 0.25, 0.05]\n",
    "distribution = np.random.choice(ratings, size=1000, p=probs)"
   ]
  },
  {
   "cell_type": "code",
   "execution_count": 21,
   "metadata": {},
   "outputs": [],
   "source": [
    "# Convert movie_rating > 5 to 5\n",
    "movies.loc[movies['movie_rating'] > 5, 'movie_rating'] = 5\n",
    "# Assert statement again\n",
    "assert movies['movie_rating'].max() <= 5"
   ]
  },
  {
   "cell_type": "markdown",
   "metadata": {},
   "source": [
    "This time, we use the data frame `.loc` accessor to subset with condition and choose the `movie_rating` column and set the out of range values to 5. \n",
    "\n",
    "Let's see an example involving dates:"
   ]
  },
  {
   "cell_type": "code",
   "execution_count": 22,
   "metadata": {},
   "outputs": [
    {
     "data": {
      "text/html": [
       "<div>\n",
       "<style scoped>\n",
       "    .dataframe tbody tr th:only-of-type {\n",
       "        vertical-align: middle;\n",
       "    }\n",
       "\n",
       "    .dataframe tbody tr th {\n",
       "        vertical-align: top;\n",
       "    }\n",
       "\n",
       "    .dataframe thead th {\n",
       "        text-align: right;\n",
       "    }\n",
       "</style>\n",
       "<table border=\"1\" class=\"dataframe\">\n",
       "  <thead>\n",
       "    <tr style=\"text-align: right;\">\n",
       "      <th></th>\n",
       "      <th>sub_date</th>\n",
       "    </tr>\n",
       "  </thead>\n",
       "  <tbody>\n",
       "    <tr>\n",
       "      <th>89</th>\n",
       "      <td>2014-12-19</td>\n",
       "    </tr>\n",
       "    <tr>\n",
       "      <th>4358</th>\n",
       "      <td>2013-04-18</td>\n",
       "    </tr>\n",
       "    <tr>\n",
       "      <th>822</th>\n",
       "      <td>2018-06-27</td>\n",
       "    </tr>\n",
       "    <tr>\n",
       "      <th>3934</th>\n",
       "      <td>2014-04-12</td>\n",
       "    </tr>\n",
       "    <tr>\n",
       "      <th>3911</th>\n",
       "      <td>2014-05-17</td>\n",
       "    </tr>\n",
       "  </tbody>\n",
       "</table>\n",
       "</div>"
      ],
      "text/plain": [
       "       sub_date\n",
       "89   2014-12-19\n",
       "4358 2013-04-18\n",
       "822  2018-06-27\n",
       "3934 2014-04-12\n",
       "3911 2014-05-17"
      ]
     },
     "execution_count": 22,
     "metadata": {},
     "output_type": "execute_result"
    }
   ],
   "source": [
    "# Create sample dirty data\n",
    "dates = np.random.choice(pd.date_range(start='2010-01-01', end='2022-01-01'),\n",
    "                         size=5000)\n",
    "subscriptions = pd.DataFrame(dates, columns=['sub_date'])\n",
    "subscriptions.sample(5)"
   ]
  },
  {
   "cell_type": "markdown",
   "metadata": {},
   "source": [
    "I created a sample data frame which contain some dates in the future. With real data, such cases may appear where you have recorded appointments from the future, values that record events later than the collection of the data, etc. \n",
    "\n",
    "Same as before, you can choose to drop out of range dates or replace them with a hard limit. For our fake subscriptions dataset, let's replace all the values which are higher than today's date. Don't forget to set the column as a date type when you have real-world data:"
   ]
  },
  {
   "cell_type": "code",
   "execution_count": 23,
   "metadata": {},
   "outputs": [],
   "source": [
    "# Set as datetime\n",
    "subscriptions['sub_date'] = pd.to_datetime(subscriptions['sub_date'])\n",
    "# Check the conversion with an assert statement\n",
    "assert subscriptions['sub_date'].dtype == 'datetime64[ns]'"
   ]
  },
  {
   "cell_type": "markdown",
   "metadata": {},
   "source": [
    "To get today's date, we will use the `datetime` package which we imported in the beginning of the post:"
   ]
  },
  {
   "cell_type": "code",
   "execution_count": 24,
   "metadata": {},
   "outputs": [],
   "source": [
    "# Get today's date\n",
    "today = dt.date.today()"
   ]
  },
  {
   "cell_type": "markdown",
   "metadata": {},
   "source": [
    "This time, without dropping, we will replace any dates in the future with today's date:"
   ]
  },
  {
   "cell_type": "code",
   "execution_count": 25,
   "metadata": {},
   "outputs": [],
   "source": [
    "# Replace any value higher than today with today's date\n",
    "subscriptions.loc[subscriptions['sub_date'] > pd.to_datetime(today),\n",
    "                  'sub_date'] = today\n",
    "# Check the result\n",
    "assert subscriptions['sub_date'].max() == today"
   ]
  },
  {
   "cell_type": "markdown",
   "metadata": {},
   "source": [
    "If you noticed, I also wrapped today's date within the `pd.to_datetime` function. I won't cover the reason but you can take a look at [this](https://stackoverflow.com/questions/51827134/comparison-between-datetime-and-datetime64ns-in-pandas) StackOverflow thread to find out."
   ]
  },
  {
   "cell_type": "markdown",
   "metadata": {},
   "source": [
    "### Uniqueness Constraints <small id='unique'></small>"
   ]
  },
  {
   "cell_type": "markdown",
   "metadata": {},
   "source": [
    "In other words, duplicate data. It generally comes in two forms:\n",
    "- full duplicates - all the columns have the exact same data\n",
    "- partial duplicates - some of the columns have repeated data\n",
    "\n",
    "Duplicates often arise because of bugs, errors in design, data entry and most commonly when multiple sources are joined into one. Let's look at an example of duplicated data:\n",
    "\n",
    "> I will be creating a sample for the duplicate data, if you don't understand the next code snippet, feel free to move on to the next."
   ]
  },
  {
   "cell_type": "code",
   "execution_count": 26,
   "metadata": {
    "scrolled": true
   },
   "outputs": [],
   "source": [
    "# Create possible values for the fake date\n",
    "first_names = [\n",
    "    'Lane', 'Ivor', 'Roary', 'Shannon', 'Abdul', 'Mary', 'Cole', 'Desirae'\n",
    "]\n",
    "last_names = ['Reese', 'Pierce', 'Gibson', 'Little', 'Fry', 'Colon', 'Palmer']\n",
    "address = [\n",
    "    '534-1559 Nam St.', '102-3364 Non Road', 'P.O. Box 344, 7785 Nisi Ave',\n",
    "    '691-2550 Consectetuer Street', '4565 Risus St.', '4674 Ut Rd.',\n",
    "    '102-3364 Non Road', '8366 At, Street'\n",
    "]\n",
    "height = [181, 168, 191, 185, 169, 179, 168, 178, 196]\n",
    "weight = [64, 66, 99, 65, 65, 75, 88, 91, 83]\n",
    "\n",
    "# Use random choice to populate a 200 row dataset\n",
    "df_dict = {\n",
    "    'first_name': np.random.choice(first_names, 500),\n",
    "    'last_name': np.random.choice(last_names, 500),\n",
    "    'address': np.random.choice(address, 500),\n",
    "    'height': np.random.choice(height, 500),\n",
    "    'weight': np.random.choice(weight, 500),\n",
    "}\n",
    "people = pd.DataFrame(df_dict)"
   ]
  },
  {
   "cell_type": "code",
   "execution_count": 27,
   "metadata": {},
   "outputs": [
    {
     "data": {
      "text/html": [
       "<div>\n",
       "<style scoped>\n",
       "    .dataframe tbody tr th:only-of-type {\n",
       "        vertical-align: middle;\n",
       "    }\n",
       "\n",
       "    .dataframe tbody tr th {\n",
       "        vertical-align: top;\n",
       "    }\n",
       "\n",
       "    .dataframe thead th {\n",
       "        text-align: right;\n",
       "    }\n",
       "</style>\n",
       "<table border=\"1\" class=\"dataframe\">\n",
       "  <thead>\n",
       "    <tr style=\"text-align: right;\">\n",
       "      <th></th>\n",
       "      <th>first_name</th>\n",
       "      <th>last_name</th>\n",
       "      <th>address</th>\n",
       "      <th>height</th>\n",
       "      <th>weight</th>\n",
       "    </tr>\n",
       "  </thead>\n",
       "  <tbody>\n",
       "    <tr>\n",
       "      <th>0</th>\n",
       "      <td>Lane</td>\n",
       "      <td>Little</td>\n",
       "      <td>102-3364 Non Road</td>\n",
       "      <td>181</td>\n",
       "      <td>65</td>\n",
       "    </tr>\n",
       "    <tr>\n",
       "      <th>1</th>\n",
       "      <td>Desirae</td>\n",
       "      <td>Little</td>\n",
       "      <td>102-3364 Non Road</td>\n",
       "      <td>179</td>\n",
       "      <td>75</td>\n",
       "    </tr>\n",
       "    <tr>\n",
       "      <th>2</th>\n",
       "      <td>Ivor</td>\n",
       "      <td>Little</td>\n",
       "      <td>102-3364 Non Road</td>\n",
       "      <td>185</td>\n",
       "      <td>83</td>\n",
       "    </tr>\n",
       "    <tr>\n",
       "      <th>3</th>\n",
       "      <td>Abdul</td>\n",
       "      <td>Gibson</td>\n",
       "      <td>102-3364 Non Road</td>\n",
       "      <td>178</td>\n",
       "      <td>75</td>\n",
       "    </tr>\n",
       "    <tr>\n",
       "      <th>4</th>\n",
       "      <td>Shannon</td>\n",
       "      <td>Palmer</td>\n",
       "      <td>534-1559 Nam St.</td>\n",
       "      <td>185</td>\n",
       "      <td>65</td>\n",
       "    </tr>\n",
       "  </tbody>\n",
       "</table>\n",
       "</div>"
      ],
      "text/plain": [
       "  first_name last_name            address  height  weight\n",
       "0       Lane    Little  102-3364 Non Road     181      65\n",
       "1    Desirae    Little  102-3364 Non Road     179      75\n",
       "2       Ivor    Little  102-3364 Non Road     185      83\n",
       "3      Abdul    Gibson  102-3364 Non Road     178      75\n",
       "4    Shannon    Palmer   534-1559 Nam St.     185      65"
      ]
     },
     "execution_count": 27,
     "metadata": {},
     "output_type": "execute_result"
    }
   ],
   "source": [
    "people.head()"
   ]
  },
  {
   "cell_type": "markdown",
   "metadata": {},
   "source": [
    "To find the duplicate values in the dataset, we use `.duplicated()` function. By default, it gives us the full duplicates in the dataset:"
   ]
  },
  {
   "cell_type": "code",
   "execution_count": 28,
   "metadata": {},
   "outputs": [
    {
     "data": {
      "text/plain": [
       "0      False\n",
       "1      False\n",
       "2      False\n",
       "3      False\n",
       "4      False\n",
       "       ...  \n",
       "495    False\n",
       "496    False\n",
       "497    False\n",
       "498    False\n",
       "499    False\n",
       "Length: 500, dtype: bool"
      ]
     },
     "execution_count": 28,
     "metadata": {},
     "output_type": "execute_result"
    }
   ],
   "source": [
    "duplicates = people.duplicated()\n",
    "duplicates"
   ]
  },
  {
   "cell_type": "markdown",
   "metadata": {},
   "source": [
    "The result of `.duplicated` is a boolean series which we can use to index our data frame:"
   ]
  },
  {
   "cell_type": "code",
   "execution_count": 29,
   "metadata": {},
   "outputs": [
    {
     "data": {
      "text/html": [
       "<div>\n",
       "<style scoped>\n",
       "    .dataframe tbody tr th:only-of-type {\n",
       "        vertical-align: middle;\n",
       "    }\n",
       "\n",
       "    .dataframe tbody tr th {\n",
       "        vertical-align: top;\n",
       "    }\n",
       "\n",
       "    .dataframe thead th {\n",
       "        text-align: right;\n",
       "    }\n",
       "</style>\n",
       "<table border=\"1\" class=\"dataframe\">\n",
       "  <thead>\n",
       "    <tr style=\"text-align: right;\">\n",
       "      <th></th>\n",
       "      <th>first_name</th>\n",
       "      <th>last_name</th>\n",
       "      <th>address</th>\n",
       "      <th>height</th>\n",
       "      <th>weight</th>\n",
       "    </tr>\n",
       "  </thead>\n",
       "  <tbody>\n",
       "    <tr>\n",
       "      <th>180</th>\n",
       "      <td>Ivor</td>\n",
       "      <td>Gibson</td>\n",
       "      <td>4674 Ut Rd.</td>\n",
       "      <td>196</td>\n",
       "      <td>99</td>\n",
       "    </tr>\n",
       "    <tr>\n",
       "      <th>190</th>\n",
       "      <td>Ivor</td>\n",
       "      <td>Gibson</td>\n",
       "      <td>102-3364 Non Road</td>\n",
       "      <td>168</td>\n",
       "      <td>75</td>\n",
       "    </tr>\n",
       "    <tr>\n",
       "      <th>219</th>\n",
       "      <td>Ivor</td>\n",
       "      <td>Reese</td>\n",
       "      <td>4565 Risus St.</td>\n",
       "      <td>178</td>\n",
       "      <td>64</td>\n",
       "    </tr>\n",
       "    <tr>\n",
       "      <th>427</th>\n",
       "      <td>Mary</td>\n",
       "      <td>Palmer</td>\n",
       "      <td>P.O. Box 344, 7785 Nisi Ave</td>\n",
       "      <td>196</td>\n",
       "      <td>65</td>\n",
       "    </tr>\n",
       "    <tr>\n",
       "      <th>451</th>\n",
       "      <td>Abdul</td>\n",
       "      <td>Colon</td>\n",
       "      <td>8366 At, Street</td>\n",
       "      <td>178</td>\n",
       "      <td>65</td>\n",
       "    </tr>\n",
       "  </tbody>\n",
       "</table>\n",
       "</div>"
      ],
      "text/plain": [
       "    first_name last_name                      address  height  weight\n",
       "180       Ivor    Gibson                  4674 Ut Rd.     196      99\n",
       "190       Ivor    Gibson            102-3364 Non Road     168      75\n",
       "219       Ivor     Reese               4565 Risus St.     178      64\n",
       "427       Mary    Palmer  P.O. Box 344, 7785 Nisi Ave     196      65\n",
       "451      Abdul     Colon              8366 At, Street     178      65"
      ]
     },
     "execution_count": 29,
     "metadata": {},
     "output_type": "execute_result"
    }
   ],
   "source": [
    "people[duplicates]"
   ]
  },
  {
   "cell_type": "markdown",
   "metadata": {},
   "source": [
    "The resulting data frame has a length of 5 which means there are 5 pairs of duplicate rows. To have a better control over `.duplicated`, let's explore its parameters:\n",
    "- `subset` - by default `None`, only consider a subset of columns to identify duplicates\n",
    "- `keep` - which occurrence of the duplicate to keep, possible values - **\\['first', 'last', False\\]**"
   ]
  },
  {
   "cell_type": "markdown",
   "metadata": {},
   "source": [
    "We will get to `subset` later. The default value of `keep` is `first` which means 'keep the first occurrence and mark the rest duplicated'. `last` is the complete opposite and `False` returns all the pairs of duplicates:"
   ]
  },
  {
   "cell_type": "code",
   "execution_count": 30,
   "metadata": {},
   "outputs": [
    {
     "data": {
      "text/html": [
       "<div>\n",
       "<style scoped>\n",
       "    .dataframe tbody tr th:only-of-type {\n",
       "        vertical-align: middle;\n",
       "    }\n",
       "\n",
       "    .dataframe tbody tr th {\n",
       "        vertical-align: top;\n",
       "    }\n",
       "\n",
       "    .dataframe thead th {\n",
       "        text-align: right;\n",
       "    }\n",
       "</style>\n",
       "<table border=\"1\" class=\"dataframe\">\n",
       "  <thead>\n",
       "    <tr style=\"text-align: right;\">\n",
       "      <th></th>\n",
       "      <th>first_name</th>\n",
       "      <th>last_name</th>\n",
       "      <th>address</th>\n",
       "      <th>height</th>\n",
       "      <th>weight</th>\n",
       "    </tr>\n",
       "  </thead>\n",
       "  <tbody>\n",
       "    <tr>\n",
       "      <th>32</th>\n",
       "      <td>Ivor</td>\n",
       "      <td>Gibson</td>\n",
       "      <td>102-3364 Non Road</td>\n",
       "      <td>168</td>\n",
       "      <td>75</td>\n",
       "    </tr>\n",
       "    <tr>\n",
       "      <th>39</th>\n",
       "      <td>Ivor</td>\n",
       "      <td>Reese</td>\n",
       "      <td>4565 Risus St.</td>\n",
       "      <td>178</td>\n",
       "      <td>64</td>\n",
       "    </tr>\n",
       "    <tr>\n",
       "      <th>75</th>\n",
       "      <td>Abdul</td>\n",
       "      <td>Colon</td>\n",
       "      <td>8366 At, Street</td>\n",
       "      <td>178</td>\n",
       "      <td>65</td>\n",
       "    </tr>\n",
       "    <tr>\n",
       "      <th>178</th>\n",
       "      <td>Ivor</td>\n",
       "      <td>Gibson</td>\n",
       "      <td>4674 Ut Rd.</td>\n",
       "      <td>196</td>\n",
       "      <td>99</td>\n",
       "    </tr>\n",
       "    <tr>\n",
       "      <th>395</th>\n",
       "      <td>Mary</td>\n",
       "      <td>Palmer</td>\n",
       "      <td>P.O. Box 344, 7785 Nisi Ave</td>\n",
       "      <td>196</td>\n",
       "      <td>65</td>\n",
       "    </tr>\n",
       "  </tbody>\n",
       "</table>\n",
       "</div>"
      ],
      "text/plain": [
       "    first_name last_name                      address  height  weight\n",
       "32        Ivor    Gibson            102-3364 Non Road     168      75\n",
       "39        Ivor     Reese               4565 Risus St.     178      64\n",
       "75       Abdul     Colon              8366 At, Street     178      65\n",
       "178       Ivor    Gibson                  4674 Ut Rd.     196      99\n",
       "395       Mary    Palmer  P.O. Box 344, 7785 Nisi Ave     196      65"
      ]
     },
     "execution_count": 30,
     "metadata": {},
     "output_type": "execute_result"
    }
   ],
   "source": [
    "people[people.duplicated(keep='last')]"
   ]
  },
  {
   "cell_type": "markdown",
   "metadata": {},
   "source": [
    "Note how the indexes of rows are different now from the previous result."
   ]
  },
  {
   "cell_type": "code",
   "execution_count": 31,
   "metadata": {},
   "outputs": [
    {
     "data": {
      "text/html": [
       "<div>\n",
       "<style scoped>\n",
       "    .dataframe tbody tr th:only-of-type {\n",
       "        vertical-align: middle;\n",
       "    }\n",
       "\n",
       "    .dataframe tbody tr th {\n",
       "        vertical-align: top;\n",
       "    }\n",
       "\n",
       "    .dataframe thead th {\n",
       "        text-align: right;\n",
       "    }\n",
       "</style>\n",
       "<table border=\"1\" class=\"dataframe\">\n",
       "  <thead>\n",
       "    <tr style=\"text-align: right;\">\n",
       "      <th></th>\n",
       "      <th>first_name</th>\n",
       "      <th>last_name</th>\n",
       "      <th>address</th>\n",
       "      <th>height</th>\n",
       "      <th>weight</th>\n",
       "    </tr>\n",
       "  </thead>\n",
       "  <tbody>\n",
       "    <tr>\n",
       "      <th>75</th>\n",
       "      <td>Abdul</td>\n",
       "      <td>Colon</td>\n",
       "      <td>8366 At, Street</td>\n",
       "      <td>178</td>\n",
       "      <td>65</td>\n",
       "    </tr>\n",
       "    <tr>\n",
       "      <th>451</th>\n",
       "      <td>Abdul</td>\n",
       "      <td>Colon</td>\n",
       "      <td>8366 At, Street</td>\n",
       "      <td>178</td>\n",
       "      <td>65</td>\n",
       "    </tr>\n",
       "    <tr>\n",
       "      <th>32</th>\n",
       "      <td>Ivor</td>\n",
       "      <td>Gibson</td>\n",
       "      <td>102-3364 Non Road</td>\n",
       "      <td>168</td>\n",
       "      <td>75</td>\n",
       "    </tr>\n",
       "    <tr>\n",
       "      <th>190</th>\n",
       "      <td>Ivor</td>\n",
       "      <td>Gibson</td>\n",
       "      <td>102-3364 Non Road</td>\n",
       "      <td>168</td>\n",
       "      <td>75</td>\n",
       "    </tr>\n",
       "    <tr>\n",
       "      <th>178</th>\n",
       "      <td>Ivor</td>\n",
       "      <td>Gibson</td>\n",
       "      <td>4674 Ut Rd.</td>\n",
       "      <td>196</td>\n",
       "      <td>99</td>\n",
       "    </tr>\n",
       "    <tr>\n",
       "      <th>180</th>\n",
       "      <td>Ivor</td>\n",
       "      <td>Gibson</td>\n",
       "      <td>4674 Ut Rd.</td>\n",
       "      <td>196</td>\n",
       "      <td>99</td>\n",
       "    </tr>\n",
       "    <tr>\n",
       "      <th>39</th>\n",
       "      <td>Ivor</td>\n",
       "      <td>Reese</td>\n",
       "      <td>4565 Risus St.</td>\n",
       "      <td>178</td>\n",
       "      <td>64</td>\n",
       "    </tr>\n",
       "    <tr>\n",
       "      <th>219</th>\n",
       "      <td>Ivor</td>\n",
       "      <td>Reese</td>\n",
       "      <td>4565 Risus St.</td>\n",
       "      <td>178</td>\n",
       "      <td>64</td>\n",
       "    </tr>\n",
       "    <tr>\n",
       "      <th>395</th>\n",
       "      <td>Mary</td>\n",
       "      <td>Palmer</td>\n",
       "      <td>P.O. Box 344, 7785 Nisi Ave</td>\n",
       "      <td>196</td>\n",
       "      <td>65</td>\n",
       "    </tr>\n",
       "    <tr>\n",
       "      <th>427</th>\n",
       "      <td>Mary</td>\n",
       "      <td>Palmer</td>\n",
       "      <td>P.O. Box 344, 7785 Nisi Ave</td>\n",
       "      <td>196</td>\n",
       "      <td>65</td>\n",
       "    </tr>\n",
       "  </tbody>\n",
       "</table>\n",
       "</div>"
      ],
      "text/plain": [
       "    first_name last_name                      address  height  weight\n",
       "75       Abdul     Colon              8366 At, Street     178      65\n",
       "451      Abdul     Colon              8366 At, Street     178      65\n",
       "32        Ivor    Gibson            102-3364 Non Road     168      75\n",
       "190       Ivor    Gibson            102-3364 Non Road     168      75\n",
       "178       Ivor    Gibson                  4674 Ut Rd.     196      99\n",
       "180       Ivor    Gibson                  4674 Ut Rd.     196      99\n",
       "39        Ivor     Reese               4565 Risus St.     178      64\n",
       "219       Ivor     Reese               4565 Risus St.     178      64\n",
       "395       Mary    Palmer  P.O. Box 344, 7785 Nisi Ave     196      65\n",
       "427       Mary    Palmer  P.O. Box 344, 7785 Nisi Ave     196      65"
      ]
     },
     "execution_count": 31,
     "metadata": {},
     "output_type": "execute_result"
    }
   ],
   "source": [
    "full_duplicates = people[people.duplicated(keep=False)].sort_values(\n",
    "                                        by=['first_name', 'last_name', 'address'])\n",
    "full_duplicates"
   ]
  },
  {
   "cell_type": "code",
   "execution_count": 32,
   "metadata": {},
   "outputs": [
    {
     "data": {
      "text/plain": [
       "(10, 5)"
      ]
     },
     "execution_count": 32,
     "metadata": {},
     "output_type": "execute_result"
    }
   ],
   "source": [
    "full_duplicates.shape"
   ]
  },
  {
   "cell_type": "markdown",
   "metadata": {},
   "source": [
    "These were full duplicates. Let's move on to partial duplicates. \n",
    "\n",
    "We will check for rows that has the same full name and address:"
   ]
  },
  {
   "cell_type": "code",
   "execution_count": 33,
   "metadata": {
    "scrolled": true
   },
   "outputs": [
    {
     "data": {
      "text/html": [
       "<div>\n",
       "<style scoped>\n",
       "    .dataframe tbody tr th:only-of-type {\n",
       "        vertical-align: middle;\n",
       "    }\n",
       "\n",
       "    .dataframe tbody tr th {\n",
       "        vertical-align: top;\n",
       "    }\n",
       "\n",
       "    .dataframe thead th {\n",
       "        text-align: right;\n",
       "    }\n",
       "</style>\n",
       "<table border=\"1\" class=\"dataframe\">\n",
       "  <thead>\n",
       "    <tr style=\"text-align: right;\">\n",
       "      <th></th>\n",
       "      <th>first_name</th>\n",
       "      <th>last_name</th>\n",
       "      <th>address</th>\n",
       "      <th>height</th>\n",
       "      <th>weight</th>\n",
       "    </tr>\n",
       "  </thead>\n",
       "  <tbody>\n",
       "    <tr>\n",
       "      <th>79</th>\n",
       "      <td>Abdul</td>\n",
       "      <td>Colon</td>\n",
       "      <td>102-3364 Non Road</td>\n",
       "      <td>185</td>\n",
       "      <td>64</td>\n",
       "    </tr>\n",
       "    <tr>\n",
       "      <th>371</th>\n",
       "      <td>Abdul</td>\n",
       "      <td>Colon</td>\n",
       "      <td>102-3364 Non Road</td>\n",
       "      <td>196</td>\n",
       "      <td>75</td>\n",
       "    </tr>\n",
       "    <tr>\n",
       "      <th>72</th>\n",
       "      <td>Abdul</td>\n",
       "      <td>Colon</td>\n",
       "      <td>4565 Risus St.</td>\n",
       "      <td>169</td>\n",
       "      <td>75</td>\n",
       "    </tr>\n",
       "    <tr>\n",
       "      <th>184</th>\n",
       "      <td>Abdul</td>\n",
       "      <td>Colon</td>\n",
       "      <td>4565 Risus St.</td>\n",
       "      <td>169</td>\n",
       "      <td>83</td>\n",
       "    </tr>\n",
       "    <tr>\n",
       "      <th>75</th>\n",
       "      <td>Abdul</td>\n",
       "      <td>Colon</td>\n",
       "      <td>8366 At, Street</td>\n",
       "      <td>178</td>\n",
       "      <td>65</td>\n",
       "    </tr>\n",
       "    <tr>\n",
       "      <th>384</th>\n",
       "      <td>Abdul</td>\n",
       "      <td>Colon</td>\n",
       "      <td>8366 At, Street</td>\n",
       "      <td>168</td>\n",
       "      <td>91</td>\n",
       "    </tr>\n",
       "  </tbody>\n",
       "</table>\n",
       "</div>"
      ],
      "text/plain": [
       "    first_name last_name            address  height  weight\n",
       "79       Abdul     Colon  102-3364 Non Road     185      64\n",
       "371      Abdul     Colon  102-3364 Non Road     196      75\n",
       "72       Abdul     Colon     4565 Risus St.     169      75\n",
       "184      Abdul     Colon     4565 Risus St.     169      83\n",
       "75       Abdul     Colon    8366 At, Street     178      65\n",
       "384      Abdul     Colon    8366 At, Street     168      91"
      ]
     },
     "execution_count": 33,
     "metadata": {},
     "output_type": "execute_result"
    }
   ],
   "source": [
    "partial = people.duplicated(subset=['first_name', 'last_name', 'address'],\n",
    "                            keep=False)\n",
    "partial_duplicates = people[partial].sort_values(\n",
    "    by=['first_name', 'last_name', 'address'])\n",
    "partial_duplicates.head(6)"
   ]
  },
  {
   "cell_type": "markdown",
   "metadata": {},
   "source": [
    "How to deal with duplicates? For full duplicates, it is easy. We will just drop one of the observations using `.drop_duplicates`:"
   ]
  },
  {
   "cell_type": "code",
   "execution_count": 34,
   "metadata": {},
   "outputs": [],
   "source": [
    "people.drop_duplicates(inplace=True)"
   ]
  },
  {
   "cell_type": "markdown",
   "metadata": {},
   "source": [
    "Set `inplace` to `True` so that the change is done 'inplace' rather than returning a new data frame. "
   ]
  },
  {
   "cell_type": "markdown",
   "metadata": {},
   "source": [
    "For partial duplicates, it is a bit tricky because you don't really know which one to keep when dropping. For our case, where we have identical address and full names, what you could is to collapse the duplicate pairs into one taking the average of height and weight. You can also choose one value based on common sense like, \"What is the likely height for someone who weighs 75 kgs?\". Each duplicate value will be unique to your data and you should decide wisely what to do. \n",
    "\n",
    "For our fake data, let's just drop the first duplicate occurrence. Same as `.duplicated`, `.drop_duplicates` have a `subset` parameter:"
   ]
  },
  {
   "cell_type": "code",
   "execution_count": 35,
   "metadata": {},
   "outputs": [],
   "source": [
    "people.drop_duplicates(subset=['first_name', 'last_name', 'address'],\n",
    "                       keep='last',\n",
    "                       inplace=True)"
   ]
  }
 ],
 "metadata": {
  "kernelspec": {
   "display_name": "medium_articles",
   "language": "python",
   "name": "medium_articles"
  },
  "language_info": {
   "codemirror_mode": {
    "name": "ipython",
    "version": 3
   },
   "file_extension": ".py",
   "mimetype": "text/x-python",
   "name": "python",
   "nbconvert_exporter": "python",
   "pygments_lexer": "ipython3",
   "version": "3.8.5"
  }
 },
 "nbformat": 4,
 "nbformat_minor": 4
}
