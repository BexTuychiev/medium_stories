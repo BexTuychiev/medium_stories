{
 "cells": [
  {
   "cell_type": "markdown",
   "metadata": {},
   "source": [
    "# Da"
   ]
  },
  {
   "cell_type": "code",
   "execution_count": 2,
   "metadata": {},
   "outputs": [],
   "source": [
    "# Base libraries\n",
    "import os\n",
    "import time\n",
    "import datetime\n",
    "import json\n",
    "\n",
    "# Scientific libraries\n",
    "import numpy as np\n",
    "import pandas as pd\n",
    "\n",
    "# Visual libraries\n",
    "import matplotlib.pyplot as plt\n",
    "import seaborn as sns\n",
    "\n",
    "# Helper libraries\n",
    "from tqdm.notebook import tqdm, trange\n",
    "from colorama import Fore, Back, Style\n",
    "import warnings\n",
    "warnings.filterwarnings('ignore')"
   ]
  },
  {
   "cell_type": "code",
   "execution_count": 14,
   "metadata": {},
   "outputs": [],
   "source": [
    "first_names = [\n",
    "    'Lane', 'Ivor', 'Roary', 'Shannon', 'Abdul', 'Mary', 'Cole', 'Desirae',\n",
    "    'Jon', 'Alex', 'Mary', 'Leo', 'Bob', 'Teresa', 'Martha', 'Fridge',\n",
    "    'Spencer', 'Natasha', 'Gideon', 'Mason', 'Jackson', 'Evelyn', 'Ella',\n",
    "    'Avery', 'Scarlett', 'Jack', 'Micheal', 'Mike', 'Tom', 'Alby', 'Bruce',\n",
    "    'Minho', 'Madison', 'Eleanor', 'Lisa', 'Wyatt', 'Julian', 'Hazel',\n",
    "    'Gunther', 'Ellie', 'Vivian', 'Merlin', 'Arthur', 'Harry', 'Lincoln',\n",
    "    'Jaxon', 'Mark', 'Lucy', 'Emma', 'Andrey', 'Marvin', 'Hudson', 'Christian',\n",
    "    'Christina', 'Colton', 'Landon', 'Zoe', 'Hunter', 'Ivy', 'Kinsley',\n",
    "    'Easton', 'Hailey', 'Miles', 'Robert', 'Jameson', 'Piper', 'Austin',\n",
    "    'Everett', 'Madeline', 'Peyton', 'Parker', 'Wesley', 'Bryson', 'Steve',\n",
    "    'Weston', 'Emmet', 'Sawyer', 'Silas', 'Bennet', 'Everleigh', 'Brooks',\n",
    "    'Hadley', 'Waylon', 'Kingston', 'Cole', 'Faith', 'Ashton', 'Braxton',\n",
    "    'Tyler', 'Bryce', 'Bentley', 'Cahrlie', 'Taylor', 'Ashley', 'Brandon',\n",
    "    'Andrea', 'Parker', 'Myles', 'Legend', 'Eloise', 'Josie', 'King', 'Daisy',\n",
    "    'Karter', 'Rhett', 'Alyssa', 'Dean', 'Graham', 'Blakely', 'Blake',\n",
    "    'Hayden', 'Lilly', 'Ron', 'Edward', 'Kimberly', 'Tucker', 'Steven',\n",
    "    'Lauren', 'Presley', 'Avery', 'Georgia', 'Oscar', 'Journee', 'Archer',\n",
    "    'Brooke', 'Olive', 'River', 'Payton', 'Beckett', 'Jeremy', 'Preston',\n",
    "    'Gracie', 'Blake', 'Paige', 'Remington', 'Hope', 'Walker', 'Paul',\n",
    "    'Marley', 'Alexis', 'Millie', 'Holden', 'Nash', 'Garett', 'Jonathan',\n",
    "    'Jonny', 'Bradley', 'Beckham', 'Lena', 'Vanessa'\n",
    "]\n",
    "\n",
    "last_names = [\n",
    "    'Reese', 'Pierce', 'Gibson', 'Little', 'Fry', 'Colon', 'Palmer', 'Smith',\n",
    "    'Cooper', 'Bloom', 'Johnson', 'Williams', 'Brown', 'Jones', 'Garcia',\n",
    "    'Miller', 'Davis', 'Rodriguez', 'Martinez', 'Hernandez', 'Lopez',\n",
    "    'Gonzalez', 'Wilson', 'Anderson', 'Thomas', 'Taylor', 'Moore', 'Jackson',\n",
    "    'Martin', 'Lee', 'Perez', 'Thompson', 'White', 'Harris', 'Sancherz',\n",
    "    'Clark', 'Ramirez', 'Lewis', 'Robinson', 'Walker', 'Youmg', 'Allen'\n",
    "    'King', 'Wright', 'Scott', 'Torres', 'Nguyen', 'Hill', 'Flores', 'Green',\n",
    "    'Adams', 'Nelson', 'Baker', 'Hall', 'Rivera', 'Campbell', 'Mitchell',\n",
    "    'Carter', 'Roberts', 'Gomez', 'Phillips', 'Evans', 'Turner', 'Diaz',\n",
    "    'Parker', 'Cruz', 'Edwards', 'Collins', 'Reyes', 'Stewart', 'Morris',\n",
    "    'Morales', 'Murphy', 'Cook', 'Rogers', 'Guiterrez', 'Ortiz', 'Morgan',\n",
    "    'Cooper', 'Peterson', 'Bailey', 'Reed', 'Kelly', 'Howard', 'Ramos', 'Kim',\n",
    "    'Cox', 'Ward', 'Richardson', 'Watson', 'Brooks', 'Chavez', 'Wood', 'James',\n",
    "    'Bennet', 'Gray', 'Mendoza', 'Ruiz', 'Hughes', 'Price', 'Alvarez',\n",
    "    'Castillo', 'Sanders', 'Patel', 'Myers', 'Long', 'Ross', 'Foster',\n",
    "    'Jimenez', 'Powell', 'Jenkins', 'Perry', 'Russel', 'Sullivan', 'Bell',\n",
    "    'Coleman'\n",
    "]"
   ]
  },
  {
   "cell_type": "markdown",
   "metadata": {},
   "source": [
    "# 17. Data Uniformity Article"
   ]
  },
  {
   "cell_type": "markdown",
   "metadata": {},
   "source": [
    "#### 17.1 Unit uniformity"
   ]
  },
  {
   "cell_type": "code",
   "execution_count": 3,
   "metadata": {},
   "outputs": [],
   "source": [
    "temps = list(np.arange(10, 20, 1)) + [59, 58, 60]\n",
    "dates = pd.date_range('2020-09-01', '2020-12-01')\n",
    "temp_porbs = [.09, .09, .09, .1, .09, .1, .08, .1, .1, .1, 0.02, 0.02, 0.02]\n",
    "data_dict = {\n",
    "    'avg_temperature': np.random.choice(temps, size=92, p=temp_porbs),\n",
    "    'date': dates\n",
    "}\n",
    "\n",
    "data = pd.DataFrame(data_dict)\n",
    "# data.to_csv('november_2020/uniformity/data/unit_uniformity.csv', index=False)"
   ]
  },
  {
   "cell_type": "markdown",
   "metadata": {},
   "source": [
    "#### 17.2 Date uniformity"
   ]
  },
  {
   "cell_type": "code",
   "execution_count": 4,
   "metadata": {},
   "outputs": [],
   "source": [
    "first_names = [\n",
    "    'Lane', 'Ivor', 'Roary', 'Shannon', 'Abdul', 'Mary', 'Cole', 'Desirae',\n",
    "    'Jon', 'Alex', 'Mary', 'Leo'\n",
    "]\n",
    "\n",
    "last_names = [\n",
    "    'Reese', 'Pierce', 'Gibson', 'Little', 'Fry', 'Colon', 'Palmer', 'Smith',\n",
    "    'Cooper', 'Bloom'\n",
    "]\n",
    "size = 1000\n",
    "birthdays = pd.date_range('1960-01-01', '2020-01-01')\n",
    "birthdays_2 = ['2000-31-21', '1960-25-12', '1960-24-01']\n",
    "data_dict = {\n",
    "    'first_name': np.random.choice(first_names, size),\n",
    "    'last_name': np.random.choice(last_names, size),\n",
    "    'birthday': np.random.choice(birthdays, size)\n",
    "}\n",
    "\n",
    "data = pd.DataFrame(data_dict)\n",
    "for i in range(1, 20):\n",
    "    data.loc[np.random.randint(100, 900),\n",
    "             'birthday'] = np.random.choice(birthdays_2)\n",
    "data['birthday'] = data['birthday'].astype('str')\n",
    "# data.to_csv('november_2020/uniformity/data/date_uniformity.csv', index=False)"
   ]
  },
  {
   "cell_type": "markdown",
   "metadata": {},
   "source": [
    "# 22. Cross Field Validation"
   ]
  },
  {
   "cell_type": "code",
   "execution_count": 15,
   "metadata": {},
   "outputs": [
    {
     "data": {
      "text/plain": [
       "115"
      ]
     },
     "execution_count": 15,
     "metadata": {},
     "output_type": "execute_result"
    }
   ],
   "source": [
    "len(last_names)"
   ]
  }
 ],
 "metadata": {
  "kernelspec": {
   "display_name": "medium_articles",
   "language": "python",
   "name": "medium_articles"
  },
  "language_info": {
   "codemirror_mode": {
    "name": "ipython",
    "version": 3
   },
   "file_extension": ".py",
   "mimetype": "text/x-python",
   "name": "python",
   "nbconvert_exporter": "python",
   "pygments_lexer": "ipython3",
   "version": "3.8.5"
  }
 },
 "nbformat": 4,
 "nbformat_minor": 4
}
