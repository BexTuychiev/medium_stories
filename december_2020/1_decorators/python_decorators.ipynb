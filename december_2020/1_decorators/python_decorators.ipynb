{
 "cells": [
  {
   "cell_type": "markdown",
   "metadata": {},
   "source": [
    "# Tearing the Mask off Python Decorators\n",
    "## Deep look into some advanced concepts\n",
    "<img src='images/jelly.jpg'></img>\n",
    "<figcaption style=\"text-align: center;\">\n",
    "    <strong>\n",
    "        Photo by \n",
    "        <a href='https://www.pexels.com/@infonautica?utm_content=attributionCopyText&utm_medium=referral&utm_source=pexels'>Leonid Danilov</a>\n",
    "        on \n",
    "        <a href='https://www.pexels.com/photo/photo-of-jellyfish-2690765/?utm_content=attributionCopyText&utm_medium=referral&utm_source=pexels'>Pexels</a>\n",
    "    </strong>\n",
    "</figcaption>"
   ]
  },
  {
   "cell_type": "markdown",
   "metadata": {},
   "source": [
    "### Introduction"
   ]
  },
  {
   "cell_type": "code",
   "execution_count": null,
   "metadata": {},
   "outputs": [],
   "source": []
  },
  {
   "cell_type": "code",
   "execution_count": null,
   "metadata": {},
   "outputs": [],
   "source": []
  },
  {
   "cell_type": "markdown",
   "metadata": {},
   "source": [
    "### Functions Are Objects"
   ]
  },
  {
   "cell_type": "markdown",
   "metadata": {},
   "source": [
    "One of the many things you will love about Python is its ability to represent anything as objects and functions are no exception. For people who is first reading this, passing a function as an argument to another function may seem strange but is completely legal to do so:"
   ]
  },
  {
   "cell_type": "code",
   "execution_count": 1,
   "metadata": {},
   "outputs": [
    {
     "name": "stdout",
     "output_type": "stream",
     "text": [
      "<function my_func at 0x000001457A428550>\n"
     ]
    }
   ],
   "source": [
    "def my_func(arg=42):\n",
    "    \"\"\"\n",
    "    Placeholder function\n",
    "    \"\"\"\n",
    "    print('Printing the function\\'s argument')\n",
    "\n",
    "print(my_func)"
   ]
  },
  {
   "cell_type": "markdown",
   "metadata": {},
   "source": [
    "> Important note to be useful in later sections: Using the function with parentheses, `my_func()`, is called __'calling'__ the function while writing without, `my_func`, is called __referencing__. As you have seen, `print(my_func)` prints the function's\n",
    "index in memory."
   ]
  },
  {
   "cell_type": "markdown",
   "metadata": {},
   "source": [
    "As objects go, functions are absolutely the same as:\n",
    "- str\n",
    "- int, float\n",
    "- pandas.DataFrame\n",
    "- list, tuple, dict\n",
    "- modules: os, datatime, numpy"
   ]
  },
  {
   "cell_type": "markdown",
   "metadata": {},
   "source": [
    "You may assign functions to a new variable and use it to call the function:"
   ]
  },
  {
   "cell_type": "code",
   "execution_count": 2,
   "metadata": {},
   "outputs": [
    {
     "name": "stdout",
     "output_type": "stream",
     "text": [
      "Printing the function's argument\n"
     ]
    }
   ],
   "source": [
    "new_func = my_func\n",
    "new_func()"
   ]
  },
  {
   "cell_type": "markdown",
   "metadata": {},
   "source": [
    "Now this variable also contains the function's attributes:"
   ]
  },
  {
   "cell_type": "code",
   "execution_count": 3,
   "metadata": {},
   "outputs": [
    {
     "data": {
      "text/plain": [
       "'\\n    Placeholder function\\n    '"
      ]
     },
     "execution_count": 3,
     "metadata": {},
     "output_type": "execute_result"
    }
   ],
   "source": [
    "# Get the docstring of a function\n",
    "new_func.__doc__"
   ]
  },
  {
   "cell_type": "code",
   "execution_count": 4,
   "metadata": {
    "scrolled": true
   },
   "outputs": [
    {
     "data": {
      "text/plain": [
       "'my_func'"
      ]
     },
     "execution_count": 4,
     "metadata": {},
     "output_type": "execute_result"
    }
   ],
   "source": [
    "# Get function name\n",
    "new_func.__name__"
   ]
  },
  {
   "cell_type": "code",
   "execution_count": 5,
   "metadata": {},
   "outputs": [
    {
     "data": {
      "text/plain": [
       "(42,)"
      ]
     },
     "execution_count": 5,
     "metadata": {},
     "output_type": "execute_result"
    }
   ],
   "source": [
    "# Default argument values\n",
    "new_func.__defaults__"
   ]
  },
  {
   "cell_type": "markdown",
   "metadata": {},
   "source": [
    "You can also store each function in other objects such as lists, dictionaries and call them:"
   ]
  },
  {
   "cell_type": "code",
   "execution_count": 6,
   "metadata": {
    "scrolled": true
   },
   "outputs": [
    {
     "name": "stdout",
     "output_type": "stream",
     "text": [
      "The function name is 'lower'\n",
      "The function name is 'print'\n",
      "The function name is 'range'\n",
      "The function name is 'startswith'\n"
     ]
    }
   ],
   "source": [
    "funcs = [str.lower, print, range, str.startswith]\n",
    "for func in funcs:\n",
    "    print(f'The function name is \\'{func.__name__}\\'')"
   ]
  },
  {
   "cell_type": "code",
   "execution_count": 7,
   "metadata": {},
   "outputs": [
    {
     "name": "stdout",
     "output_type": "stream",
     "text": [
      "python\n"
     ]
    }
   ],
   "source": [
    "func_dict = {\n",
    "    'lower': str.lower,\n",
    "    'print': print,\n",
    "    'range': range,\n",
    "    'startswith': str.startswith\n",
    "}\n",
    "\n",
    "func_dict['print'](func_dict['lower']('PYTHON'))"
   ]
  },
  {
   "cell_type": "markdown",
   "metadata": {},
   "source": [
    "### Scope"
   ]
  },
  {
   "cell_type": "markdown",
   "metadata": {},
   "source": [
    "Consider this conversation between Bob and Job:\n",
    "- Bob: 'Jon, why did not you come to the lesson yesterday?'\n",
    "- Jon: 'I had a flu...'\n",
    "\n",
    "Not the best of stories but when Bob asks the reason of Jon's absence in yesterday's class, we know he is referring to the Jon standing next to him not some random Jon in another country. As humans, it is not difficult to notice this but programming languages use something called scope to tell which name we are referring to in our programs.\n",
    "\n",
    "In Python, names can be variables, function names, module names, etc. \n",
    "\n",
    "Consider these two variables:"
   ]
  },
  {
   "cell_type": "code",
   "execution_count": 8,
   "metadata": {},
   "outputs": [
    {
     "name": "stdout",
     "output_type": "stream",
     "text": [
      "24\n"
     ]
    }
   ],
   "source": [
    "a = 24\n",
    "b = 42\n",
    "print(a)"
   ]
  },
  {
   "cell_type": "markdown",
   "metadata": {},
   "source": [
    "Here, `print` had no trouble to tell that we are referring to the `a` we just defined. Now consider this:"
   ]
  },
  {
   "cell_type": "code",
   "execution_count": 9,
   "metadata": {},
   "outputs": [],
   "source": [
    "def foo():\n",
    "    a = 100\n",
    "    print(a)"
   ]
  },
  {
   "cell_type": "markdown",
   "metadata": {},
   "source": [
    "What do you think will happen if we run `foo`? Will it print 24 or 100?"
   ]
  },
  {
   "cell_type": "code",
   "execution_count": 10,
   "metadata": {},
   "outputs": [
    {
     "name": "stdout",
     "output_type": "stream",
     "text": [
      "100\n"
     ]
    }
   ],
   "source": [
    "foo()"
   ]
  },
  {
   "cell_type": "markdown",
   "metadata": {},
   "source": [
    "How did Python differentiate between the `a` we defined in the beginning or in the function? This is where scope gets interesting, because we are introducing layers of scope:"
   ]
  },
  {
   "cell_type": "markdown",
   "metadata": {},
   "source": [
    "<img src='images/1.png'></img>"
   ]
  },
  {
   "cell_type": "markdown",
   "metadata": {},
   "source": [
    "The above image shows the scope for this little script:"
   ]
  },
  {
   "cell_type": "code",
   "execution_count": 11,
   "metadata": {},
   "outputs": [
    {
     "name": "stdout",
     "output_type": "stream",
     "text": [
      "24\n",
      "100\n"
     ]
    }
   ],
   "source": [
    "a = 24\n",
    "b = 42\n",
    "print(a)\n",
    "\n",
    "def foo():\n",
    "    a = 100\n",
    "    print(a)\n",
    "    \n",
    "foo()"
   ]
  },
  {
   "cell_type": "markdown",
   "metadata": {},
   "source": [
    "The global scope is the overall scope of your script/program. Variables, functions, etc. with the same indentation level as `a` and `b` in the beginning will be in the global scope. For example, `foo` is in the global scope but its variable `a` is in the scope that is local to `foo`. \n",
    "\n",
    "In one global scope, there can be many local scopes. For example, each temporary variables in `for` loops and list comprehensions, return values of context managers will be local inside their code block and cannot be accessed from the global scope.\n",
    "\n",
    "Here, we add a for loop at the end of our little script:"
   ]
  },
  {
   "cell_type": "code",
   "execution_count": 12,
   "metadata": {},
   "outputs": [
    {
     "name": "stdout",
     "output_type": "stream",
     "text": [
      "0\n",
      "1\n",
      "2\n",
      "3\n",
      "4\n",
      "5\n",
      "6\n",
      "7\n",
      "8\n",
      "9\n"
     ]
    }
   ],
   "source": [
    "for num in range(10):\n",
    "    print(num)  # num is local to this for loop"
   ]
  },
  {
   "cell_type": "markdown",
   "metadata": {},
   "source": [
    "So, a rule of thumb is that Python interpreter will not be able to access a name that is in one level inner of the current scope. \n",
    "\n",
    "There is also a bigger level of scope outside `global`:"
   ]
  },
  {
   "cell_type": "markdown",
   "metadata": {},
   "source": [
    "<img src='images/2.png'></img>"
   ]
  },
  {
   "cell_type": "markdown",
   "metadata": {},
   "source": [
    "Built-in scope contains all the modules and packages you installed with `Python`, `pip` or `conda`.\n",
    "\n",
    "Now, let's explore another case. In our `foo` function, we want to modify the value of global `a`. We want it to be a string but if we write `a = 'some text'` inside the function, Python will just create a new variable without modify the global `a`. \n",
    "\n",
    "Python provides us with a keyword that lets us specify we are referring to names in the `global` scope:"
   ]
  },
  {
   "cell_type": "code",
   "execution_count": 13,
   "metadata": {},
   "outputs": [
    {
     "name": "stdout",
     "output_type": "stream",
     "text": [
      "some text\n",
      "24\n"
     ]
    }
   ],
   "source": [
    "# Before\n",
    "def foo():\n",
    "    a = 'some text'\n",
    "    print(a)\n",
    "\n",
    "foo()\n",
    "print(a)"
   ]
  },
  {
   "cell_type": "code",
   "execution_count": 14,
   "metadata": {},
   "outputs": [
    {
     "name": "stdout",
     "output_type": "stream",
     "text": [
      "some text\n",
      "some text\n"
     ]
    }
   ],
   "source": [
    "# Using `global` keyword\n",
    "# After\n",
    "def foo():\n",
    "    global a\n",
    "    a = 'some text'\n",
    "    print(a)\n",
    "foo()\n",
    "print(a)"
   ]
  },
  {
   "cell_type": "markdown",
   "metadata": {},
   "source": [
    "Writing `global <name>` will let us modify the values of names in the `global` scope. \n",
    "\n",
    "BTW, bad news, I left out one level of scope in the above image. Between `global` and `local`, there is one level we did not cover:"
   ]
  },
  {
   "cell_type": "markdown",
   "metadata": {},
   "source": [
    "<img src='images/3.png'></img>"
   ]
  },
  {
   "cell_type": "markdown",
   "metadata": {},
   "source": [
    "`nonlocal` scope comes in to the play when we have, for example, nested functions:"
   ]
  },
  {
   "cell_type": "code",
   "execution_count": 15,
   "metadata": {},
   "outputs": [
    {
     "name": "stdout",
     "output_type": "stream",
     "text": [
      "Data Science\n",
      "Python\n"
     ]
    }
   ],
   "source": [
    "def outer():\n",
    "    # Create a dummy variable\n",
    "    my_var = 'Python'\n",
    "    \n",
    "    def inner():\n",
    "        # Try to change the value of the dummy\n",
    "        my_var = 'Data Science'\n",
    "        print(my_var)\n",
    "    # Call the inner function which tries to modify `my_var`\n",
    "    inner()\n",
    "    # Check if successful\n",
    "    print(my_var)\n",
    "\n",
    "outer()"
   ]
  },
  {
   "cell_type": "markdown",
   "metadata": {},
   "source": [
    "In nested function `outer`, we first create a variable called `my_var` and assign it to the string `Python`. Then we decide to create a new `inner` function and want to assign `my_var` a new value, `Data Science` and print it. But if we run it, we see that `my_var` is still assigned to 'Python'. We cannot use `global` keyword since `my_var` is not in the global scope. \n",
    "\n",
    "For such cases, you can use `nonlocal` keyword which gives access to all the names in the scope of the outer function (nonlocal) but not the `global`:"
   ]
  },
  {
   "cell_type": "code",
   "execution_count": 16,
   "metadata": {},
   "outputs": [
    {
     "name": "stdout",
     "output_type": "stream",
     "text": [
      "Data Science\n",
      "Data Science\n"
     ]
    }
   ],
   "source": [
    "def outer():\n",
    "    # Create a dummy variable\n",
    "    my_var = 'Python'\n",
    "    \n",
    "    def inner():\n",
    "        # Try to change the value of the dummy with nonlocal\n",
    "        nonlocal my_var\n",
    "        my_var = 'Data Science'\n",
    "        print(my_var)\n",
    "    # Call the inner function which tries to modify `my_var`\n",
    "    inner()\n",
    "    # Check if successful\n",
    "    print(my_var)\n",
    "\n",
    "outer()"
   ]
  },
  {
   "cell_type": "markdown",
   "metadata": {},
   "source": [
    "In conclusion, scope tells the Python interpreter where to look for names in our program. There can be four levels of scope in a single script/program:\n",
    "- Built-in: all the package names installed with Python, `pip` and `conda`\n",
    "- Global: general scope, all names that has no indentation in the script\n",
    "- Local: contains local variables in each code block such as functions, loops, list comprehensions, etc.\n",
    "- Nonlocal: an extra level of scope between `global` and `local` in the case of nested functions"
   ]
  },
  {
   "cell_type": "markdown",
   "metadata": {},
   "source": [
    "### Closures"
   ]
  },
  {
   "cell_type": "markdown",
   "metadata": {},
   "source": [
    "Before I explain how decorators work, we need to talk about closures too. Let's start with an example:"
   ]
  },
  {
   "cell_type": "code",
   "execution_count": 17,
   "metadata": {},
   "outputs": [],
   "source": [
    "def foo():\n",
    "    x = 42\n",
    "    \n",
    "    def bar():\n",
    "        print(x)\n",
    "    \n",
    "    return bar"
   ]
  },
  {
   "cell_type": "markdown",
   "metadata": {},
   "source": [
    "We create a nested function `bar` inside `foo` and return it. `bar` tries to print the value `of` x:"
   ]
  },
  {
   "cell_type": "code",
   "execution_count": 18,
   "metadata": {},
   "outputs": [],
   "source": [
    "var = foo()  # var is assigned to `bar` because we are retruning it inside `foo`"
   ]
  },
  {
   "cell_type": "markdown",
   "metadata": {},
   "source": [
    "When we write `var = foo()`, we are assigning the `bar` function to `var`. Now `var` can be used to call `bar`. When we call it, it prints out 42. "
   ]
  },
  {
   "cell_type": "code",
   "execution_count": 19,
   "metadata": {},
   "outputs": [
    {
     "name": "stdout",
     "output_type": "stream",
     "text": [
      "42\n"
     ]
    }
   ],
   "source": [
    "var()"
   ]
  },
  {
   "cell_type": "markdown",
   "metadata": {},
   "source": [
    "But wait a minute, how does `var` know anything about `x`? `x` is defined in `foo`'s scope not `bar`'s. You would think that `x` would be accessible outside the scope of `foo`. That's where closures come in."
   ]
  },
  {
   "cell_type": "markdown",
   "metadata": {},
   "source": [
    "> Closure is a built-in memory of a function that contains all the nonlocal names (in a tuple) the function needs to run!"
   ]
  },
  {
   "cell_type": "markdown",
   "metadata": {},
   "source": [
    "So, when `foo` returned `bar`, it attached all the nonlocal variables `bar` needs to run outside of the `foo`'s scope. The closure of a function can be accessed with `.__closure__` attribute:"
   ]
  },
  {
   "cell_type": "code",
   "execution_count": 20,
   "metadata": {},
   "outputs": [
    {
     "data": {
      "text/plain": [
       "(<cell at 0x000001457A457FD0: int object at 0x00007FFFB3762C40>,)"
      ]
     },
     "execution_count": 20,
     "metadata": {},
     "output_type": "execute_result"
    }
   ],
   "source": [
    "var.__closure__"
   ]
  },
  {
   "cell_type": "code",
   "execution_count": 21,
   "metadata": {
    "scrolled": true
   },
   "outputs": [
    {
     "name": "stdout",
     "output_type": "stream",
     "text": [
      "<class 'tuple'>\n"
     ]
    }
   ],
   "source": [
    "print(type(var.__closure__))"
   ]
  },
  {
   "cell_type": "code",
   "execution_count": 22,
   "metadata": {},
   "outputs": [
    {
     "data": {
      "text/plain": [
       "<cell at 0x000001457A457FD0: int object at 0x00007FFFB3762C40>"
      ]
     },
     "execution_count": 22,
     "metadata": {},
     "output_type": "execute_result"
    }
   ],
   "source": [
    "# Accessing the first element of var's closure\n",
    "var.__closure__[0]"
   ]
  },
  {
   "cell_type": "code",
   "execution_count": 23,
   "metadata": {
    "scrolled": true
   },
   "outputs": [
    {
     "data": {
      "text/plain": [
       "42"
      ]
     },
     "execution_count": 23,
     "metadata": {},
     "output_type": "execute_result"
    }
   ],
   "source": [
    "# Accessing the contents of each cell in closure\n",
    "var.__closure__[0].cell_contents"
   ]
  },
  {
   "cell_type": "markdown",
   "metadata": {},
   "source": [
    "Once you access the closure of a function as a tuple, it will contain elements called `cells` with the value of a single nonlocal argument. There can be as many cells inside a closure as the function needs:"
   ]
  },
  {
   "cell_type": "code",
   "execution_count": 24,
   "metadata": {},
   "outputs": [],
   "source": [
    "outside = 'global variable'  # not in close because it is a global variable\n",
    "def parent():\n",
    "    x = 100\n",
    "    y = 'Hello'\n",
    "    z = {'name': 'Jon',\n",
    "         'surname': 'smith'}\n",
    "    \n",
    "    def child():\n",
    "        # as we are printing x, y, and z, they get added to the closure\n",
    "        print(x, y, z)\n",
    "        value = 42  # not in the closure because value is not nonlocal\n",
    "    \n",
    "    return child"
   ]
  },
  {
   "cell_type": "code",
   "execution_count": 25,
   "metadata": {},
   "outputs": [
    {
     "name": "stdout",
     "output_type": "stream",
     "text": [
      "100 \n",
      "\n",
      "Hello \n",
      "\n",
      "{'name': 'Jon', 'surname': 'smith'} \n",
      "\n"
     ]
    }
   ],
   "source": [
    "# func is now assigned to `child` function\n",
    "func = parent()\n",
    "# print each cell in func's closure\n",
    "for cell in func.__closure__:\n",
    "    print(cell.cell_contents, '\\n')"
   ]
  },
  {
   "cell_type": "code",
   "execution_count": 26,
   "metadata": {
    "scrolled": false
   },
   "outputs": [
    {
     "data": {
      "text/plain": [
       "3"
      ]
     },
     "execution_count": 26,
     "metadata": {},
     "output_type": "execute_result"
    }
   ],
   "source": [
    "# Print the number of cells in func's closure\n",
    "len(func.__closure__)"
   ]
  },
  {
   "cell_type": "markdown",
   "metadata": {},
   "source": [
    "In this example, the variables `x, y, z` are nonlocal variables to `child` so they get added to the function's closure. Any other names such as `value` and `outside` are not in the closure because they are not in nonlocal scope. \n",
    "\n",
    "Now, consider this trickier example:"
   ]
  },
  {
   "cell_type": "code",
   "execution_count": 27,
   "metadata": {},
   "outputs": [],
   "source": [
    "var = 'dummy'\n",
    "\n",
    "def parent(arg):\n",
    "    \n",
    "    def child():\n",
    "        print(arg)\n",
    "    \n",
    "    return child"
   ]
  },
  {
   "cell_type": "code",
   "execution_count": 28,
   "metadata": {},
   "outputs": [],
   "source": [
    "func = parent(var)"
   ]
  },
  {
   "cell_type": "markdown",
   "metadata": {},
   "source": [
    "We create a `parent` function which takes a single argument and a nested function `child` which prints whatever value passed to `parent`. We call `parent` with `var` ('dummy') and assign the result to `func`. If we call it:"
   ]
  },
  {
   "cell_type": "code",
   "execution_count": 29,
   "metadata": {},
   "outputs": [
    {
     "name": "stdout",
     "output_type": "stream",
     "text": [
      "dummy\n"
     ]
    }
   ],
   "source": [
    "func()"
   ]
  },
  {
   "cell_type": "markdown",
   "metadata": {},
   "source": [
    "As expected, it prints out 'dummy'. Now let's delete `var` and call `func` again:"
   ]
  },
  {
   "cell_type": "code",
   "execution_count": 30,
   "metadata": {},
   "outputs": [
    {
     "name": "stdout",
     "output_type": "stream",
     "text": [
      "dummy\n"
     ]
    }
   ],
   "source": [
    "# Delete 'var'\n",
    "del var\n",
    "# call func again\n",
    "func()"
   ]
  },
  {
   "cell_type": "markdown",
   "metadata": {},
   "source": [
    "It still prints out 'dummy'. Why? \n",
    "\n",
    "You guessed it, it got added to the closure! So, when a value from outer levels of scope gets added to closure, it will stay there unchanged even if we delete the original value!"
   ]
  },
  {
   "cell_type": "code",
   "execution_count": 31,
   "metadata": {},
   "outputs": [
    {
     "data": {
      "text/plain": [
       "'dummy'"
      ]
     },
     "execution_count": 31,
     "metadata": {},
     "output_type": "execute_result"
    }
   ],
   "source": [
    "func.__closure__[0].cell_contents"
   ]
  },
  {
   "cell_type": "markdown",
   "metadata": {},
   "source": [
    "Even if we did not delete `var` and changed its value, the closure would still contain its old value:"
   ]
  },
  {
   "cell_type": "code",
   "execution_count": 37,
   "metadata": {},
   "outputs": [
    {
     "name": "stdout",
     "output_type": "stream",
     "text": [
      "dummy\n",
      "dummy\n"
     ]
    }
   ],
   "source": [
    "var = 'dummy'\n",
    "\n",
    "def parent(arg):\n",
    "    \n",
    "    def child():\n",
    "        print(arg)\n",
    "    \n",
    "    return child\n",
    "\n",
    "# Call it as is\n",
    "my_func = parent(var)\n",
    "my_func()\n",
    "# Call after changin var\n",
    "var = 'new_dummy'\n",
    "my_func()"
   ]
  },
  {
   "cell_type": "markdown",
   "metadata": {},
   "source": [
    "This concept is going to be important when we talk about decorators in the next section."
   ]
  },
  {
   "cell_type": "markdown",
   "metadata": {},
   "source": [
    "Let's go over some of the concepts to make sure you understand:\n",
    "- Closure is an internal memory of a nested function. It contains all the nonlocal variables stored in a tuple which are essential for the function to run.\n",
    "- Once a value is stored in a closure, it can be accessed but cannot be overriden if the original value gets deleted or modified\n",
    "- A nested function is a function defined in another and follows this general pattern:\n",
    "```python\n",
    "def parent(arg):\n",
    "    \n",
    "    def child():\n",
    "        print(arg)\n",
    "    \n",
    "    return child\n",
    "```"
   ]
  },
  {
   "cell_type": "markdown",
   "metadata": {},
   "source": [
    "### Finally, Decorators"
   ]
  },
  {
   "cell_type": "markdown",
   "metadata": {},
   "source": [
    "> Decorators are functions that modify another function. They can change the functions inputs, its output or even its behavior."
   ]
  },
  {
   "cell_type": "markdown",
   "metadata": {},
   "source": [
    "You may have seen decorators when you were creating custom [context managers](https://towardsdatascience.com/how-to-build-custom-context-managers-in-python-31727ffe96e1?source=your_stories_page-------------------------------------) or when you were first introduced to `Flask` (remember `@app.route`?)"
   ]
  },
  {
   "cell_type": "code",
   "execution_count": 43,
   "metadata": {},
   "outputs": [],
   "source": [
    "def add_one(func):\n",
    "    \n",
    "    def wrapper(a):\n",
    "        return func(a + 1)\n",
    "    return wrapper"
   ]
  },
  {
   "cell_type": "markdown",
   "metadata": {},
   "source": [
    "Below, we created a function that squares whatever argument is passed and we are decorating it with `add_one`. `add_one` adds 1 to the argument of the passed function:"
   ]
  },
  {
   "cell_type": "code",
   "execution_count": 44,
   "metadata": {},
   "outputs": [],
   "source": [
    "@add_one\n",
    "def square(a):\n",
    "    return a ** 2"
   ]
  },
  {
   "cell_type": "code",
   "execution_count": 45,
   "metadata": {},
   "outputs": [
    {
     "data": {
      "text/plain": [
       "36"
      ]
     },
     "execution_count": 45,
     "metadata": {},
     "output_type": "execute_result"
    }
   ],
   "source": [
    "square(5)"
   ]
  },
  {
   "cell_type": "markdown",
   "metadata": {},
   "source": [
    "To use a function as a decorator, just put `@ symbol` followed by the decorating function's name right above the function definition. When we passed 5 to the decorated `square` function, instead of returning 25, it returns 36 because `add_one` takes the argument of `square`, which is 5, and adds one to it and inserts back into our function:"
   ]
  },
  {
   "cell_type": "code",
   "execution_count": 46,
   "metadata": {},
   "outputs": [
    {
     "data": {
      "text/plain": [
       "121"
      ]
     },
     "execution_count": 46,
     "metadata": {},
     "output_type": "execute_result"
    }
   ],
   "source": [
    "square(10)"
   ]
  },
  {
   "cell_type": "markdown",
   "metadata": {},
   "source": [
    "In this section, we will build `add_one` together. So, let's start with `add_one` that only returns whatever function passed to it:"
   ]
  },
  {
   "cell_type": "code",
   "execution_count": 59,
   "metadata": {},
   "outputs": [],
   "source": [
    "def square(a):\n",
    "    return a ** 2\n",
    "\n",
    "def add_one(func):\n",
    "    return func"
   ]
  },
  {
   "cell_type": "code",
   "execution_count": 60,
   "metadata": {},
   "outputs": [
    {
     "data": {
      "text/plain": [
       "25"
      ]
     },
     "execution_count": 60,
     "metadata": {},
     "output_type": "execute_result"
    }
   ],
   "source": [
    "new_square = add_one(square)\n",
    "new_square(5)"
   ]
  },
  {
   "cell_type": "markdown",
   "metadata": {},
   "source": [
    "For our decorator to return a modified function, it is usually helpful to define a nested function to return:"
   ]
  },
  {
   "cell_type": "code",
   "execution_count": 61,
   "metadata": {},
   "outputs": [],
   "source": [
    "def add_one(func):\n",
    "    # Define a new function to modify\n",
    "    def child(a):\n",
    "        # Return the result by calling `func` with `a`\n",
    "        return func(a)\n",
    "    # Return the nested function\n",
    "    return child"
   ]
  },
  {
   "cell_type": "code",
   "execution_count": 62,
   "metadata": {},
   "outputs": [
    {
     "data": {
      "text/plain": [
       "25"
      ]
     },
     "execution_count": 62,
     "metadata": {},
     "output_type": "execute_result"
    }
   ],
   "source": [
    "new_square = add_one(square)\n",
    "new_square(5)"
   ]
  },
  {
   "cell_type": "markdown",
   "metadata": {},
   "source": [
    "Our decorator is still doing nothing. Inside `add_one` we defined a nested `child` function. `child` only takes one argument and calls whatever function passed to `add_one`. Then, `add_one` returns `child`."
   ]
  },
  {
   "cell_type": "markdown",
   "metadata": {},
   "source": [
    "> In this case of nested `child` function, we are assuming `func` passed to `add_one` takes exactly the same number of arguments as `child`."
   ]
  },
  {
   "cell_type": "markdown",
   "metadata": {},
   "source": [
    "Now, we can make all the magic happen inside the `child` function. Instead of simply calling the `func`, we want to modify its arguments by adding 1 to them: "
   ]
  },
  {
   "cell_type": "code",
   "execution_count": 63,
   "metadata": {},
   "outputs": [],
   "source": [
    "def add_one(func):\n",
    "    # Define a new function to modify\n",
    "    def child(a):\n",
    "        # Add 1 to `a` and then, call\n",
    "        return func(a + 1)\n",
    "    # Return the nested function\n",
    "    return child"
   ]
  },
  {
   "cell_type": "markdown",
   "metadata": {},
   "source": [
    "Notice `func(a + 1)`? It is calling whatever passed to `add_one` with 1 added to the argument. This time, instead of creating a new variable to store `child`, we will override `square`:"
   ]
  },
  {
   "cell_type": "code",
   "execution_count": 64,
   "metadata": {},
   "outputs": [
    {
     "data": {
      "text/plain": [
       "36"
      ]
     },
     "execution_count": 64,
     "metadata": {},
     "output_type": "execute_result"
    }
   ],
   "source": [
    "square = add_one(square)\n",
    "square(5)"
   ]
  },
  {
   "cell_type": "markdown",
   "metadata": {},
   "source": [
    "Now it is returning 36 instead of 25 when we pass 5. How can it use `square` function even when we override it? Good thing we learned closures, because the old `square` is now inside the closure of `child`:"
   ]
  },
  {
   "cell_type": "code",
   "execution_count": 65,
   "metadata": {},
   "outputs": [
    {
     "data": {
      "text/plain": [
       "<function __main__.square(a)>"
      ]
     },
     "execution_count": 65,
     "metadata": {},
     "output_type": "execute_result"
    }
   ],
   "source": [
    "square.__closure__[0].cell_contents"
   ]
  },
  {
   "cell_type": "markdown",
   "metadata": {},
   "source": [
    "To use `add_one` as a decorator without creating temporary variables, we just add `@add_one` above the `square` function's definition:"
   ]
  },
  {
   "cell_type": "code",
   "execution_count": 66,
   "metadata": {},
   "outputs": [
    {
     "data": {
      "text/plain": [
       "64"
      ]
     },
     "execution_count": 66,
     "metadata": {},
     "output_type": "execute_result"
    }
   ],
   "source": [
    "@add_one\n",
    "def square(num):\n",
    "    return num ** 2\n",
    "\n",
    "square(7) # returns 64"
   ]
  }
 ],
 "metadata": {
  "kernelspec": {
   "display_name": "medium_articles",
   "language": "python",
   "name": "medium_articles"
  },
  "language_info": {
   "codemirror_mode": {
    "name": "ipython",
    "version": 3
   },
   "file_extension": ".py",
   "mimetype": "text/x-python",
   "name": "python",
   "nbconvert_exporter": "python",
   "pygments_lexer": "ipython3",
   "version": "3.8.5"
  }
 },
 "nbformat": 4,
 "nbformat_minor": 4
}
