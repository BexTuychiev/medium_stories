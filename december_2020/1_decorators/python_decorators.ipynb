{
 "cells": [
  {
   "cell_type": "markdown",
   "metadata": {},
   "source": [
    "# Tearing the Mask off Python Decorators\n",
    "## Deep look into some advanced concepts\n",
    "<img src='images/jelly.jpg'></img>\n",
    "<figcaption style=\"text-align: center;\">\n",
    "    <strong>\n",
    "        Photo by \n",
    "        <a href='https://www.pexels.com/@infonautica?utm_content=attributionCopyText&utm_medium=referral&utm_source=pexels'>Leonid Danilov</a>\n",
    "        on \n",
    "        <a href='https://www.pexels.com/photo/photo-of-jellyfish-2690765/?utm_content=attributionCopyText&utm_medium=referral&utm_source=pexels'>Pexels</a>\n",
    "    </strong>\n",
    "</figcaption>"
   ]
  },
  {
   "cell_type": "markdown",
   "metadata": {},
   "source": [
    "### Introduction"
   ]
  },
  {
   "cell_type": "code",
   "execution_count": null,
   "metadata": {},
   "outputs": [],
   "source": []
  },
  {
   "cell_type": "code",
   "execution_count": null,
   "metadata": {},
   "outputs": [],
   "source": []
  },
  {
   "cell_type": "markdown",
   "metadata": {},
   "source": [
    "### Functions Are Objects"
   ]
  },
  {
   "cell_type": "markdown",
   "metadata": {},
   "source": [
    "One of the many things you will love about Python is its ability to represent anything as objects and functions are no exception. For people who is first reading this, passing a function as an argument to another function may seem strange but is completely legal to do so:"
   ]
  },
  {
   "cell_type": "code",
   "execution_count": 23,
   "metadata": {},
   "outputs": [
    {
     "name": "stdout",
     "output_type": "stream",
     "text": [
      "<function my_func at 0x000001BF0530CF70>\n"
     ]
    }
   ],
   "source": [
    "def my_func(arg=42):\n",
    "    \"\"\"\n",
    "    Placeholder function\n",
    "    \"\"\"\n",
    "    print('Printing the function\\'s argument')\n",
    "print(my_func)"
   ]
  },
  {
   "cell_type": "markdown",
   "metadata": {},
   "source": [
    "As objects go, functions are absolutely the same as:\n",
    "- str\n",
    "- int, float\n",
    "- pandas.DataFrame\n",
    "- list, tuple, dict\n",
    "- modules: os, datatime, numpy"
   ]
  },
  {
   "cell_type": "markdown",
   "metadata": {},
   "source": [
    "You may assign functions to a new variable and use it to call the function:"
   ]
  },
  {
   "cell_type": "code",
   "execution_count": 24,
   "metadata": {},
   "outputs": [
    {
     "name": "stdout",
     "output_type": "stream",
     "text": [
      "Printing the function's argument\n"
     ]
    }
   ],
   "source": [
    "new_func = my_func\n",
    "new_func()"
   ]
  },
  {
   "cell_type": "markdown",
   "metadata": {},
   "source": [
    "Now this variable also contains the function's attributes:"
   ]
  },
  {
   "cell_type": "code",
   "execution_count": 25,
   "metadata": {},
   "outputs": [
    {
     "data": {
      "text/plain": [
       "'\\n    Placeholder function\\n    '"
      ]
     },
     "execution_count": 25,
     "metadata": {},
     "output_type": "execute_result"
    }
   ],
   "source": [
    "# Get the docstring of a function\n",
    "new_func.__doc__"
   ]
  },
  {
   "cell_type": "code",
   "execution_count": 26,
   "metadata": {},
   "outputs": [
    {
     "data": {
      "text/plain": [
       "'my_func'"
      ]
     },
     "execution_count": 26,
     "metadata": {},
     "output_type": "execute_result"
    }
   ],
   "source": [
    "# Get function name\n",
    "new_func.__name__"
   ]
  },
  {
   "cell_type": "code",
   "execution_count": 27,
   "metadata": {},
   "outputs": [
    {
     "data": {
      "text/plain": [
       "(42,)"
      ]
     },
     "execution_count": 27,
     "metadata": {},
     "output_type": "execute_result"
    }
   ],
   "source": [
    "# Default argument values\n",
    "new_func.__defaults__"
   ]
  },
  {
   "cell_type": "markdown",
   "metadata": {},
   "source": [
    "You can also store each function in other objects such as lists, dictionaries and call them:"
   ]
  },
  {
   "cell_type": "code",
   "execution_count": 28,
   "metadata": {
    "scrolled": true
   },
   "outputs": [
    {
     "name": "stdout",
     "output_type": "stream",
     "text": [
      "The function name is 'lower'\n",
      "The function name is 'print'\n",
      "The function name is 'range'\n",
      "The function name is 'startswith'\n"
     ]
    }
   ],
   "source": [
    "funcs = [str.lower, print, range, str.startswith]\n",
    "for func in funcs:\n",
    "    print(f'The function name is \\'{func.__name__}\\'')"
   ]
  },
  {
   "cell_type": "code",
   "execution_count": 29,
   "metadata": {},
   "outputs": [
    {
     "name": "stdout",
     "output_type": "stream",
     "text": [
      "python\n"
     ]
    }
   ],
   "source": [
    "func_dict = {\n",
    "    'lower': str.lower,\n",
    "    'print': print,\n",
    "    'range': range,\n",
    "    'startswith': str.startswith\n",
    "}\n",
    "\n",
    "func_dict['print'](func_dict['lower']('PYTHON'))"
   ]
  },
  {
   "cell_type": "markdown",
   "metadata": {},
   "source": [
    "> Important note to be useful in later sections: Using the function with parentheses, `my_func()`, is called __'calling'__ the function while writing without, `my_func`, is called __referencing__. As you have seen, `print(my_func)` prints the function's\n",
    "index in memory."
   ]
  },
  {
   "cell_type": "markdown",
   "metadata": {},
   "source": [
    "### Scope"
   ]
  },
  {
   "cell_type": "markdown",
   "metadata": {},
   "source": [
    "Consider this conversation between Bob and Job:\n",
    "- Bob: 'Jon, why did not you come to the lesson yesterday?'\n",
    "- Jon: 'I had a flu...'\n",
    "\n",
    "When Bob asks the reason of Jon's absence in yesterday's class, we know he is referring to the Jon standing next to him not some random Jon in another country. As humans, it is not difficult to notice this but programming languages use something called scope to tell which name we are referring to in our programs.\n",
    "\n",
    "In Python, names can be variables, function names, modules name, etc. Consider these two variables:"
   ]
  },
  {
   "cell_type": "code",
   "execution_count": 30,
   "metadata": {},
   "outputs": [
    {
     "name": "stdout",
     "output_type": "stream",
     "text": [
      "24\n"
     ]
    }
   ],
   "source": [
    "a = 24\n",
    "b = 42\n",
    "print(a)"
   ]
  },
  {
   "cell_type": "markdown",
   "metadata": {},
   "source": [
    "Here, `print` had no trouble to tell that we are referring to the `a` we just defined. Now consider this:"
   ]
  },
  {
   "cell_type": "code",
   "execution_count": 31,
   "metadata": {},
   "outputs": [],
   "source": [
    "def foo():\n",
    "    a = 100\n",
    "    print(a)"
   ]
  },
  {
   "cell_type": "markdown",
   "metadata": {},
   "source": [
    "What do you think will happen if we run `foo`? Will it print 24 or 100?"
   ]
  },
  {
   "cell_type": "code",
   "execution_count": 32,
   "metadata": {},
   "outputs": [
    {
     "name": "stdout",
     "output_type": "stream",
     "text": [
      "100\n"
     ]
    }
   ],
   "source": [
    "foo()"
   ]
  },
  {
   "cell_type": "markdown",
   "metadata": {},
   "source": [
    "How did Python differentiate between the `a` we defined in the beginning or in the function? This is where scope gets interesting, because we are introducing layers of scope:"
   ]
  },
  {
   "cell_type": "markdown",
   "metadata": {},
   "source": [
    "<img src='images/1.png'></img>"
   ]
  },
  {
   "cell_type": "markdown",
   "metadata": {},
   "source": [
    "The above image shows the scope for this little script:"
   ]
  },
  {
   "cell_type": "code",
   "execution_count": 33,
   "metadata": {},
   "outputs": [
    {
     "name": "stdout",
     "output_type": "stream",
     "text": [
      "24\n",
      "100\n"
     ]
    }
   ],
   "source": [
    "a = 24\n",
    "b = 42\n",
    "print(a)\n",
    "\n",
    "def foo():\n",
    "    a = 100\n",
    "    print(a)\n",
    "    \n",
    "foo()"
   ]
  },
  {
   "cell_type": "markdown",
   "metadata": {},
   "source": [
    "The global scope is the overall scope of your script/program. Variables, functions, etc. with the same indentation level as `a` and `b` in the beginning will be in the global scope. For example, `foo` is in the global scope but its variable `a` is in the scope that is local to `foo`. \n",
    "\n",
    "In one global scope, there can be many local scopes. Each temporary variables in `for` loops and list comprehensions, return values of context managers will be local inside their code block and cannot be accessed from the global scope.\n",
    "\n",
    "Here, we add a for loop at the end of our little script:"
   ]
  },
  {
   "cell_type": "code",
   "execution_count": 34,
   "metadata": {},
   "outputs": [
    {
     "name": "stdout",
     "output_type": "stream",
     "text": [
      "0\n",
      "1\n",
      "2\n",
      "3\n",
      "4\n",
      "5\n",
      "6\n",
      "7\n",
      "8\n",
      "9\n"
     ]
    }
   ],
   "source": [
    "for num in range(10):\n",
    "    print(num)  # num is local to this for loop"
   ]
  },
  {
   "cell_type": "markdown",
   "metadata": {},
   "source": [
    "So, a rule of thumb is that Python interpreter will not be able to access a name that is in one level inner of the current scope. There is also a bigger level of scope outside `global`:"
   ]
  },
  {
   "cell_type": "markdown",
   "metadata": {},
   "source": [
    "<img src='images/2.png'></img>"
   ]
  },
  {
   "cell_type": "markdown",
   "metadata": {},
   "source": [
    "Built-in scope contains all the modules and packages that came with Python's installation and the ones that were installed with `pip` or `conda`. \n",
    "\n",
    "Now, let's explore another case. In our `foo` function, we want to modify the value of global `a`. We want it to be a string now but if we write `a = 'some text'` inside the function, Python will just create a new variable without modify the global `a`. \n",
    "\n",
    "Python provides us with a keyword that lets us specify we are referring to names in the `global` scope:"
   ]
  },
  {
   "cell_type": "code",
   "execution_count": 35,
   "metadata": {},
   "outputs": [
    {
     "name": "stdout",
     "output_type": "stream",
     "text": [
      "some text\n",
      "24\n"
     ]
    }
   ],
   "source": [
    "# Before\n",
    "def foo():\n",
    "    a = 'some text'\n",
    "    print(a)\n",
    "\n",
    "foo()\n",
    "print(a)"
   ]
  },
  {
   "cell_type": "code",
   "execution_count": 36,
   "metadata": {},
   "outputs": [
    {
     "name": "stdout",
     "output_type": "stream",
     "text": [
      "some text\n",
      "some text\n"
     ]
    }
   ],
   "source": [
    "# Using `global` keyword\n",
    "# Before\n",
    "def foo():\n",
    "    global a\n",
    "    a = 'some text'\n",
    "    print(a)\n",
    "foo()\n",
    "print(a)"
   ]
  },
  {
   "cell_type": "markdown",
   "metadata": {},
   "source": [
    "Writing `global 'name'` will let us modify the values of names in the `global` scope. \n",
    "\n",
    "BTW, bad news, I left out one level of scope in the above image. Between `global` and `local`, there is one level we did not cover:"
   ]
  },
  {
   "cell_type": "markdown",
   "metadata": {},
   "source": [
    "<img src='images/3.png'></img>"
   ]
  },
  {
   "cell_type": "markdown",
   "metadata": {},
   "source": [
    "`nonlocal` scope comes in to the play when we have, for example, nested functions:"
   ]
  },
  {
   "cell_type": "code",
   "execution_count": 61,
   "metadata": {},
   "outputs": [
    {
     "name": "stdout",
     "output_type": "stream",
     "text": [
      "Data Science\n",
      "Python\n"
     ]
    }
   ],
   "source": [
    "def outer():\n",
    "    # Create a dummy variable\n",
    "    my_var = 'Python'\n",
    "    \n",
    "    def inner():\n",
    "        # Try to change the value of the dummy\n",
    "        my_var = 'Data Science'\n",
    "        print(my_var)\n",
    "    # Call the inner function which tries to modify `my_var`\n",
    "    inner()\n",
    "    # Check if successful\n",
    "    print(my_var)\n",
    "\n",
    "outer()"
   ]
  },
  {
   "cell_type": "markdown",
   "metadata": {},
   "source": [
    "In nested function `outer`, we first create a variable called `my_var` and assign it to the string `Python`. Then we decide to create a new `inner` function and want to assign `my_var` a new value, `Data Science` and print it. But if we run it, we see that `my_var` is still assigned to 'Python'. We cannot use `global` keyword since `my_var` is not in the global scope. \n",
    "\n",
    "For such cases, you can use `nonlocal` keyword which gives access to all the names in the scope of the outer function (nonlocal) but not the `global`:"
   ]
  },
  {
   "cell_type": "code",
   "execution_count": 62,
   "metadata": {},
   "outputs": [
    {
     "name": "stdout",
     "output_type": "stream",
     "text": [
      "Data Science\n",
      "Data Science\n"
     ]
    }
   ],
   "source": [
    "def outer():\n",
    "    # Create a dummy variable\n",
    "    my_var = 'Python'\n",
    "    \n",
    "    def inner():\n",
    "        # Try to change the value of the dummy with nonlocal\n",
    "        nonlocal my_var\n",
    "        my_var = 'Data Science'\n",
    "        print(my_var)\n",
    "    # Call the inner function which tries to modify `my_var`\n",
    "    inner()\n",
    "    # Check if successful\n",
    "    print(my_var)\n",
    "\n",
    "outer()"
   ]
  },
  {
   "cell_type": "markdown",
   "metadata": {},
   "source": [
    "In conclusion, scope tells the Python interpreter where to look for names in our program. There can be four levels of scope in a single script/program:\n",
    "- Built-in: all the package names installed with Python and `pip`\n",
    "- Global: general scope, all names that has no indentation in the script\n",
    "- Local: contains local variables in each code block such as functions, loops, list comprehensions, etc.\n",
    "- Nonlocal: an extra level of scope between `global` and `local` in the case of nested functions"
   ]
  },
  {
   "cell_type": "markdown",
   "metadata": {},
   "source": [
    "### Closure"
   ]
  },
  {
   "cell_type": "code",
   "execution_count": null,
   "metadata": {},
   "outputs": [],
   "source": []
  },
  {
   "cell_type": "code",
   "execution_count": null,
   "metadata": {},
   "outputs": [],
   "source": []
  },
  {
   "cell_type": "markdown",
   "metadata": {},
   "source": [
    "### Finally, Decorators"
   ]
  },
  {
   "cell_type": "code",
   "execution_count": null,
   "metadata": {},
   "outputs": [],
   "source": []
  },
  {
   "cell_type": "code",
   "execution_count": null,
   "metadata": {},
   "outputs": [],
   "source": []
  }
 ],
 "metadata": {
  "kernelspec": {
   "display_name": "medium_articles",
   "language": "python",
   "name": "medium_articles"
  },
  "language_info": {
   "codemirror_mode": {
    "name": "ipython",
    "version": 3
   },
   "file_extension": ".py",
   "mimetype": "text/x-python",
   "name": "python",
   "nbconvert_exporter": "python",
   "pygments_lexer": "ipython3",
   "version": "3.8.5"
  }
 },
 "nbformat": 4,
 "nbformat_minor": 4
}
