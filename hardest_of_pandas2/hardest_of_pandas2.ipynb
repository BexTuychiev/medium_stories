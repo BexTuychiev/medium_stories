{
 "cells": [
  {
   "cell_type": "markdown",
   "metadata": {},
   "source": [
    "# Meet the hardest functions of Pandas, Part II\n",
    "## Master the when and how of `crosstab()`, `pivot()`, `melt()`\n",
    "<img src='images/hard.jpg'></img>"
   ]
  },
  {
   "cell_type": "markdown",
   "metadata": {},
   "source": [
    "### Introduction <src id='intro'></src>"
   ]
  },
  {
   "cell_type": "markdown",
   "metadata": {},
   "source": [
    "### Setup <small id='setup'></small>"
   ]
  },
  {
   "cell_type": "code",
   "execution_count": 1,
   "metadata": {},
   "outputs": [],
   "source": [
    "# Load necessary libraries\n",
    "import pandas as pd\n",
    "import seaborn as sns\n",
    "import numpy as np\n",
    "\n",
    "# Ignore warnings\n",
    "import warnings\n",
    "warnings.filterwarnings('ignore')\n",
    "\n",
    "# Enable multiple cell outputs\n",
    "from IPython.core.interactiveshell import InteractiveShell\n",
    "InteractiveShell.ast_node_interactivity = 'all'"
   ]
  },
  {
   "cell_type": "markdown",
   "metadata": {},
   "source": [
    "For the sample data, I will be using the `diamonds` dataset that is built-in to Seaborn. It is sufficiently large enough and has variables that are good to summarize with `crosstab()`:"
   ]
  },
  {
   "cell_type": "code",
   "execution_count": 2,
   "metadata": {},
   "outputs": [
    {
     "data": {
      "text/html": [
       "<div>\n",
       "<style scoped>\n",
       "    .dataframe tbody tr th:only-of-type {\n",
       "        vertical-align: middle;\n",
       "    }\n",
       "\n",
       "    .dataframe tbody tr th {\n",
       "        vertical-align: top;\n",
       "    }\n",
       "\n",
       "    .dataframe thead th {\n",
       "        text-align: right;\n",
       "    }\n",
       "</style>\n",
       "<table border=\"1\" class=\"dataframe\">\n",
       "  <thead>\n",
       "    <tr style=\"text-align: right;\">\n",
       "      <th></th>\n",
       "      <th>carat</th>\n",
       "      <th>cut</th>\n",
       "      <th>color</th>\n",
       "      <th>clarity</th>\n",
       "      <th>depth</th>\n",
       "      <th>table</th>\n",
       "      <th>price</th>\n",
       "      <th>x</th>\n",
       "      <th>y</th>\n",
       "      <th>z</th>\n",
       "    </tr>\n",
       "  </thead>\n",
       "  <tbody>\n",
       "    <tr>\n",
       "      <th>0</th>\n",
       "      <td>0.23</td>\n",
       "      <td>Ideal</td>\n",
       "      <td>E</td>\n",
       "      <td>SI2</td>\n",
       "      <td>61.5</td>\n",
       "      <td>55.0</td>\n",
       "      <td>326</td>\n",
       "      <td>3.95</td>\n",
       "      <td>3.98</td>\n",
       "      <td>2.43</td>\n",
       "    </tr>\n",
       "    <tr>\n",
       "      <th>1</th>\n",
       "      <td>0.21</td>\n",
       "      <td>Premium</td>\n",
       "      <td>E</td>\n",
       "      <td>SI1</td>\n",
       "      <td>59.8</td>\n",
       "      <td>61.0</td>\n",
       "      <td>326</td>\n",
       "      <td>3.89</td>\n",
       "      <td>3.84</td>\n",
       "      <td>2.31</td>\n",
       "    </tr>\n",
       "    <tr>\n",
       "      <th>2</th>\n",
       "      <td>0.23</td>\n",
       "      <td>Good</td>\n",
       "      <td>E</td>\n",
       "      <td>VS1</td>\n",
       "      <td>56.9</td>\n",
       "      <td>65.0</td>\n",
       "      <td>327</td>\n",
       "      <td>4.05</td>\n",
       "      <td>4.07</td>\n",
       "      <td>2.31</td>\n",
       "    </tr>\n",
       "    <tr>\n",
       "      <th>3</th>\n",
       "      <td>0.29</td>\n",
       "      <td>Premium</td>\n",
       "      <td>I</td>\n",
       "      <td>VS2</td>\n",
       "      <td>62.4</td>\n",
       "      <td>58.0</td>\n",
       "      <td>334</td>\n",
       "      <td>4.20</td>\n",
       "      <td>4.23</td>\n",
       "      <td>2.63</td>\n",
       "    </tr>\n",
       "    <tr>\n",
       "      <th>4</th>\n",
       "      <td>0.31</td>\n",
       "      <td>Good</td>\n",
       "      <td>J</td>\n",
       "      <td>SI2</td>\n",
       "      <td>63.3</td>\n",
       "      <td>58.0</td>\n",
       "      <td>335</td>\n",
       "      <td>4.34</td>\n",
       "      <td>4.35</td>\n",
       "      <td>2.75</td>\n",
       "    </tr>\n",
       "  </tbody>\n",
       "</table>\n",
       "</div>"
      ],
      "text/plain": [
       "   carat      cut color clarity  depth  table  price     x     y     z\n",
       "0   0.23    Ideal     E     SI2   61.5   55.0    326  3.95  3.98  2.43\n",
       "1   0.21  Premium     E     SI1   59.8   61.0    326  3.89  3.84  2.31\n",
       "2   0.23     Good     E     VS1   56.9   65.0    327  4.05  4.07  2.31\n",
       "3   0.29  Premium     I     VS2   62.4   58.0    334  4.20  4.23  2.63\n",
       "4   0.31     Good     J     SI2   63.3   58.0    335  4.34  4.35  2.75"
      ]
     },
     "execution_count": 2,
     "metadata": {},
     "output_type": "execute_result"
    }
   ],
   "source": [
    "diamonds = sns.load_dataset('diamonds')\n",
    "diamonds.head()"
   ]
  },
  {
   "cell_type": "markdown",
   "metadata": {},
   "source": [
    "### Pandas `crosstab()`, the basics"
   ]
  },
  {
   "cell_type": "markdown",
   "metadata": {},
   "source": [
    "Like many functions that compute grouped summary statistics, `crosstab()` works with categorical data. It can be used to group two or more variables and perform calculations for a given value for each group. Of course, such operations are possible using `groupby()` or `pivot_table()` but as we are going to see later, `crosstab()` introduces a number of benefits to your daily workflow. \n",
    "\n",
    "`crosstab()` function takes two or more lists, `pandas` series or dataframe columns and returns a frequency of each combination by default. I always like to start with an example so that you can better understand the definition and then I will move on to explain the syntax."
   ]
  },
  {
   "cell_type": "markdown",
   "metadata": {},
   "source": [
    "`crosstab()` always returns a dataframe and below is an example. The dataframe is a cross tabulation of two variables from `diamonds`: `cut` and `color`. Cross tabulation just means taking one variable, displaying its groups as indexes and taking the other, displaying its groups as columns."
   ]
  },
  {
   "cell_type": "code",
   "execution_count": 3,
   "metadata": {},
   "outputs": [
    {
     "data": {
      "text/html": [
       "<div>\n",
       "<style scoped>\n",
       "    .dataframe tbody tr th:only-of-type {\n",
       "        vertical-align: middle;\n",
       "    }\n",
       "\n",
       "    .dataframe tbody tr th {\n",
       "        vertical-align: top;\n",
       "    }\n",
       "\n",
       "    .dataframe thead th {\n",
       "        text-align: right;\n",
       "    }\n",
       "</style>\n",
       "<table border=\"1\" class=\"dataframe\">\n",
       "  <thead>\n",
       "    <tr style=\"text-align: right;\">\n",
       "      <th>color</th>\n",
       "      <th>D</th>\n",
       "      <th>E</th>\n",
       "      <th>F</th>\n",
       "      <th>G</th>\n",
       "      <th>H</th>\n",
       "      <th>I</th>\n",
       "      <th>J</th>\n",
       "    </tr>\n",
       "    <tr>\n",
       "      <th>cut</th>\n",
       "      <th></th>\n",
       "      <th></th>\n",
       "      <th></th>\n",
       "      <th></th>\n",
       "      <th></th>\n",
       "      <th></th>\n",
       "      <th></th>\n",
       "    </tr>\n",
       "  </thead>\n",
       "  <tbody>\n",
       "    <tr>\n",
       "      <th>Ideal</th>\n",
       "      <td>2834</td>\n",
       "      <td>3903</td>\n",
       "      <td>3826</td>\n",
       "      <td>4884</td>\n",
       "      <td>3115</td>\n",
       "      <td>2093</td>\n",
       "      <td>896</td>\n",
       "    </tr>\n",
       "    <tr>\n",
       "      <th>Premium</th>\n",
       "      <td>1603</td>\n",
       "      <td>2337</td>\n",
       "      <td>2331</td>\n",
       "      <td>2924</td>\n",
       "      <td>2360</td>\n",
       "      <td>1428</td>\n",
       "      <td>808</td>\n",
       "    </tr>\n",
       "    <tr>\n",
       "      <th>Very Good</th>\n",
       "      <td>1513</td>\n",
       "      <td>2400</td>\n",
       "      <td>2164</td>\n",
       "      <td>2299</td>\n",
       "      <td>1824</td>\n",
       "      <td>1204</td>\n",
       "      <td>678</td>\n",
       "    </tr>\n",
       "    <tr>\n",
       "      <th>Good</th>\n",
       "      <td>662</td>\n",
       "      <td>933</td>\n",
       "      <td>909</td>\n",
       "      <td>871</td>\n",
       "      <td>702</td>\n",
       "      <td>522</td>\n",
       "      <td>307</td>\n",
       "    </tr>\n",
       "    <tr>\n",
       "      <th>Fair</th>\n",
       "      <td>163</td>\n",
       "      <td>224</td>\n",
       "      <td>312</td>\n",
       "      <td>314</td>\n",
       "      <td>303</td>\n",
       "      <td>175</td>\n",
       "      <td>119</td>\n",
       "    </tr>\n",
       "  </tbody>\n",
       "</table>\n",
       "</div>"
      ],
      "text/plain": [
       "color         D     E     F     G     H     I    J\n",
       "cut                                               \n",
       "Ideal      2834  3903  3826  4884  3115  2093  896\n",
       "Premium    1603  2337  2331  2924  2360  1428  808\n",
       "Very Good  1513  2400  2164  2299  1824  1204  678\n",
       "Good        662   933   909   871   702   522  307\n",
       "Fair        163   224   312   314   303   175  119"
      ]
     },
     "execution_count": 3,
     "metadata": {},
     "output_type": "execute_result"
    }
   ],
   "source": [
    "pd.crosstab(index=diamonds['cut'], columns=diamonds['color'])"
   ]
  },
  {
   "cell_type": "markdown",
   "metadata": {},
   "source": [
    "The syntax is fairly simple. `index` is used to group a variable and display them as indexes (rows) and the same for `columns`. If no aggregating function is given, each cell will calculate the sum of all the combinations. For example, the top left cell tells us that there are 2834 _ideally-cut_ diamonds with color code _D_."
   ]
  },
  {
   "cell_type": "markdown",
   "metadata": {},
   "source": []
  },
  {
   "cell_type": "markdown",
   "metadata": {},
   "source": [
    "Next, for each combination we want to see their mean price. `crosstab()` provides `values` parameter to introduce the third variable to aggregate on:"
   ]
  },
  {
   "cell_type": "code",
   "execution_count": 4,
   "metadata": {},
   "outputs": [
    {
     "data": {
      "text/html": [
       "<div>\n",
       "<style scoped>\n",
       "    .dataframe tbody tr th:only-of-type {\n",
       "        vertical-align: middle;\n",
       "    }\n",
       "\n",
       "    .dataframe tbody tr th {\n",
       "        vertical-align: top;\n",
       "    }\n",
       "\n",
       "    .dataframe thead th {\n",
       "        text-align: right;\n",
       "    }\n",
       "</style>\n",
       "<table border=\"1\" class=\"dataframe\">\n",
       "  <thead>\n",
       "    <tr style=\"text-align: right;\">\n",
       "      <th>color</th>\n",
       "      <th>D</th>\n",
       "      <th>E</th>\n",
       "      <th>F</th>\n",
       "      <th>G</th>\n",
       "      <th>H</th>\n",
       "      <th>I</th>\n",
       "      <th>J</th>\n",
       "    </tr>\n",
       "    <tr>\n",
       "      <th>cut</th>\n",
       "      <th></th>\n",
       "      <th></th>\n",
       "      <th></th>\n",
       "      <th></th>\n",
       "      <th></th>\n",
       "      <th></th>\n",
       "      <th></th>\n",
       "    </tr>\n",
       "  </thead>\n",
       "  <tbody>\n",
       "    <tr>\n",
       "      <th>Ideal</th>\n",
       "      <td>2629.0</td>\n",
       "      <td>2598.0</td>\n",
       "      <td>3375.0</td>\n",
       "      <td>3721.0</td>\n",
       "      <td>3889.0</td>\n",
       "      <td>4452.0</td>\n",
       "      <td>4918.0</td>\n",
       "    </tr>\n",
       "    <tr>\n",
       "      <th>Premium</th>\n",
       "      <td>3631.0</td>\n",
       "      <td>3539.0</td>\n",
       "      <td>4325.0</td>\n",
       "      <td>4501.0</td>\n",
       "      <td>5217.0</td>\n",
       "      <td>5946.0</td>\n",
       "      <td>6295.0</td>\n",
       "    </tr>\n",
       "    <tr>\n",
       "      <th>Very Good</th>\n",
       "      <td>3470.0</td>\n",
       "      <td>3215.0</td>\n",
       "      <td>3779.0</td>\n",
       "      <td>3873.0</td>\n",
       "      <td>4535.0</td>\n",
       "      <td>5256.0</td>\n",
       "      <td>5104.0</td>\n",
       "    </tr>\n",
       "    <tr>\n",
       "      <th>Good</th>\n",
       "      <td>3405.0</td>\n",
       "      <td>3424.0</td>\n",
       "      <td>3496.0</td>\n",
       "      <td>4123.0</td>\n",
       "      <td>4276.0</td>\n",
       "      <td>5079.0</td>\n",
       "      <td>4574.0</td>\n",
       "    </tr>\n",
       "    <tr>\n",
       "      <th>Fair</th>\n",
       "      <td>4291.0</td>\n",
       "      <td>3682.0</td>\n",
       "      <td>3827.0</td>\n",
       "      <td>4239.0</td>\n",
       "      <td>5136.0</td>\n",
       "      <td>4685.0</td>\n",
       "      <td>4976.0</td>\n",
       "    </tr>\n",
       "  </tbody>\n",
       "</table>\n",
       "</div>"
      ],
      "text/plain": [
       "color           D       E       F       G       H       I       J\n",
       "cut                                                              \n",
       "Ideal      2629.0  2598.0  3375.0  3721.0  3889.0  4452.0  4918.0\n",
       "Premium    3631.0  3539.0  4325.0  4501.0  5217.0  5946.0  6295.0\n",
       "Very Good  3470.0  3215.0  3779.0  3873.0  4535.0  5256.0  5104.0\n",
       "Good       3405.0  3424.0  3496.0  4123.0  4276.0  5079.0  4574.0\n",
       "Fair       4291.0  3682.0  3827.0  4239.0  5136.0  4685.0  4976.0"
      ]
     },
     "execution_count": 4,
     "metadata": {},
     "output_type": "execute_result"
    }
   ],
   "source": [
    "pd.crosstab(diamonds['cut'], diamonds['color'], values=diamonds['price'], aggfunc=np.mean).round(0)"
   ]
  },
  {
   "cell_type": "markdown",
   "metadata": {},
   "source": [
    "Now, each cell contains the mean price for each combination of cut and color. To tell that we want to compute the mean price, we pass the `price` column to `values`. Note that you always have to use `values` and `aggfunc` together. Otherwise, you will get an error. I also used `round()` to round up the answers."
   ]
  },
  {
   "cell_type": "markdown",
   "metadata": {},
   "source": [
    "### Pandas crosstab() comparison with pivot_table() and groupby()"
   ]
  },
  {
   "cell_type": "markdown",
   "metadata": {},
   "source": [
    "Before we move on to more fun stuff, I think I need to make the differences between the three functions that compute grouped summary stats. \n",
    "\n",
    "I covered the differences of `pivot_table()` and `groupby()` in the [first part](https://towardsdatascience.com/meet-the-hardest-functions-of-pandas-part-i-7d1f74597e92) of the article. For `crosstab()`, the difference between the three is the syntax and the shape of results. Let's compute the last `crosstab()` table using all three:"
   ]
  },
  {
   "cell_type": "code",
   "execution_count": 5,
   "metadata": {},
   "outputs": [
    {
     "data": {
      "text/plain": [
       "cut        color\n",
       "Ideal      D        2629.0\n",
       "           E        2598.0\n",
       "           F        3375.0\n",
       "           G        3721.0\n",
       "           H        3889.0\n",
       "           I        4452.0\n",
       "           J        4918.0\n",
       "Premium    D        3631.0\n",
       "           E        3539.0\n",
       "           F        4325.0\n",
       "           G        4501.0\n",
       "           H        5217.0\n",
       "           I        5946.0\n",
       "           J        6295.0\n",
       "Very Good  D        3470.0\n",
       "           E        3215.0\n",
       "           F        3779.0\n",
       "           G        3873.0\n",
       "           H        4535.0\n",
       "           I        5256.0\n",
       "           J        5104.0\n",
       "Good       D        3405.0\n",
       "           E        3424.0\n",
       "           F        3496.0\n",
       "           G        4123.0\n",
       "           H        4276.0\n",
       "           I        5079.0\n",
       "           J        4574.0\n",
       "Fair       D        4291.0\n",
       "           E        3682.0\n",
       "           F        3827.0\n",
       "           G        4239.0\n",
       "           H        5136.0\n",
       "           I        4685.0\n",
       "           J        4976.0\n",
       "Name: price, dtype: float64"
      ]
     },
     "execution_count": 5,
     "metadata": {},
     "output_type": "execute_result"
    },
    {
     "data": {
      "text/html": [
       "<div>\n",
       "<style scoped>\n",
       "    .dataframe tbody tr th:only-of-type {\n",
       "        vertical-align: middle;\n",
       "    }\n",
       "\n",
       "    .dataframe tbody tr th {\n",
       "        vertical-align: top;\n",
       "    }\n",
       "\n",
       "    .dataframe thead th {\n",
       "        text-align: right;\n",
       "    }\n",
       "</style>\n",
       "<table border=\"1\" class=\"dataframe\">\n",
       "  <thead>\n",
       "    <tr style=\"text-align: right;\">\n",
       "      <th>color</th>\n",
       "      <th>D</th>\n",
       "      <th>E</th>\n",
       "      <th>F</th>\n",
       "      <th>G</th>\n",
       "      <th>H</th>\n",
       "      <th>I</th>\n",
       "      <th>J</th>\n",
       "    </tr>\n",
       "    <tr>\n",
       "      <th>cut</th>\n",
       "      <th></th>\n",
       "      <th></th>\n",
       "      <th></th>\n",
       "      <th></th>\n",
       "      <th></th>\n",
       "      <th></th>\n",
       "      <th></th>\n",
       "    </tr>\n",
       "  </thead>\n",
       "  <tbody>\n",
       "    <tr>\n",
       "      <th>Ideal</th>\n",
       "      <td>2629.0</td>\n",
       "      <td>2598.0</td>\n",
       "      <td>3375.0</td>\n",
       "      <td>3721.0</td>\n",
       "      <td>3889.0</td>\n",
       "      <td>4452.0</td>\n",
       "      <td>4918.0</td>\n",
       "    </tr>\n",
       "    <tr>\n",
       "      <th>Premium</th>\n",
       "      <td>3631.0</td>\n",
       "      <td>3539.0</td>\n",
       "      <td>4325.0</td>\n",
       "      <td>4501.0</td>\n",
       "      <td>5217.0</td>\n",
       "      <td>5946.0</td>\n",
       "      <td>6295.0</td>\n",
       "    </tr>\n",
       "    <tr>\n",
       "      <th>Very Good</th>\n",
       "      <td>3470.0</td>\n",
       "      <td>3215.0</td>\n",
       "      <td>3779.0</td>\n",
       "      <td>3873.0</td>\n",
       "      <td>4535.0</td>\n",
       "      <td>5256.0</td>\n",
       "      <td>5104.0</td>\n",
       "    </tr>\n",
       "    <tr>\n",
       "      <th>Good</th>\n",
       "      <td>3405.0</td>\n",
       "      <td>3424.0</td>\n",
       "      <td>3496.0</td>\n",
       "      <td>4123.0</td>\n",
       "      <td>4276.0</td>\n",
       "      <td>5079.0</td>\n",
       "      <td>4574.0</td>\n",
       "    </tr>\n",
       "    <tr>\n",
       "      <th>Fair</th>\n",
       "      <td>4291.0</td>\n",
       "      <td>3682.0</td>\n",
       "      <td>3827.0</td>\n",
       "      <td>4239.0</td>\n",
       "      <td>5136.0</td>\n",
       "      <td>4685.0</td>\n",
       "      <td>4976.0</td>\n",
       "    </tr>\n",
       "  </tbody>\n",
       "</table>\n",
       "</div>"
      ],
      "text/plain": [
       "color           D       E       F       G       H       I       J\n",
       "cut                                                              \n",
       "Ideal      2629.0  2598.0  3375.0  3721.0  3889.0  4452.0  4918.0\n",
       "Premium    3631.0  3539.0  4325.0  4501.0  5217.0  5946.0  6295.0\n",
       "Very Good  3470.0  3215.0  3779.0  3873.0  4535.0  5256.0  5104.0\n",
       "Good       3405.0  3424.0  3496.0  4123.0  4276.0  5079.0  4574.0\n",
       "Fair       4291.0  3682.0  3827.0  4239.0  5136.0  4685.0  4976.0"
      ]
     },
     "execution_count": 5,
     "metadata": {},
     "output_type": "execute_result"
    },
    {
     "data": {
      "text/html": [
       "<div>\n",
       "<style scoped>\n",
       "    .dataframe tbody tr th:only-of-type {\n",
       "        vertical-align: middle;\n",
       "    }\n",
       "\n",
       "    .dataframe tbody tr th {\n",
       "        vertical-align: top;\n",
       "    }\n",
       "\n",
       "    .dataframe thead th {\n",
       "        text-align: right;\n",
       "    }\n",
       "</style>\n",
       "<table border=\"1\" class=\"dataframe\">\n",
       "  <thead>\n",
       "    <tr style=\"text-align: right;\">\n",
       "      <th>color</th>\n",
       "      <th>D</th>\n",
       "      <th>E</th>\n",
       "      <th>F</th>\n",
       "      <th>G</th>\n",
       "      <th>H</th>\n",
       "      <th>I</th>\n",
       "      <th>J</th>\n",
       "    </tr>\n",
       "    <tr>\n",
       "      <th>cut</th>\n",
       "      <th></th>\n",
       "      <th></th>\n",
       "      <th></th>\n",
       "      <th></th>\n",
       "      <th></th>\n",
       "      <th></th>\n",
       "      <th></th>\n",
       "    </tr>\n",
       "  </thead>\n",
       "  <tbody>\n",
       "    <tr>\n",
       "      <th>Ideal</th>\n",
       "      <td>2629.0</td>\n",
       "      <td>2598.0</td>\n",
       "      <td>3375.0</td>\n",
       "      <td>3721.0</td>\n",
       "      <td>3889.0</td>\n",
       "      <td>4452.0</td>\n",
       "      <td>4918.0</td>\n",
       "    </tr>\n",
       "    <tr>\n",
       "      <th>Premium</th>\n",
       "      <td>3631.0</td>\n",
       "      <td>3539.0</td>\n",
       "      <td>4325.0</td>\n",
       "      <td>4501.0</td>\n",
       "      <td>5217.0</td>\n",
       "      <td>5946.0</td>\n",
       "      <td>6295.0</td>\n",
       "    </tr>\n",
       "    <tr>\n",
       "      <th>Very Good</th>\n",
       "      <td>3470.0</td>\n",
       "      <td>3215.0</td>\n",
       "      <td>3779.0</td>\n",
       "      <td>3873.0</td>\n",
       "      <td>4535.0</td>\n",
       "      <td>5256.0</td>\n",
       "      <td>5104.0</td>\n",
       "    </tr>\n",
       "    <tr>\n",
       "      <th>Good</th>\n",
       "      <td>3405.0</td>\n",
       "      <td>3424.0</td>\n",
       "      <td>3496.0</td>\n",
       "      <td>4123.0</td>\n",
       "      <td>4276.0</td>\n",
       "      <td>5079.0</td>\n",
       "      <td>4574.0</td>\n",
       "    </tr>\n",
       "    <tr>\n",
       "      <th>Fair</th>\n",
       "      <td>4291.0</td>\n",
       "      <td>3682.0</td>\n",
       "      <td>3827.0</td>\n",
       "      <td>4239.0</td>\n",
       "      <td>5136.0</td>\n",
       "      <td>4685.0</td>\n",
       "      <td>4976.0</td>\n",
       "    </tr>\n",
       "  </tbody>\n",
       "</table>\n",
       "</div>"
      ],
      "text/plain": [
       "color           D       E       F       G       H       I       J\n",
       "cut                                                              \n",
       "Ideal      2629.0  2598.0  3375.0  3721.0  3889.0  4452.0  4918.0\n",
       "Premium    3631.0  3539.0  4325.0  4501.0  5217.0  5946.0  6295.0\n",
       "Very Good  3470.0  3215.0  3779.0  3873.0  4535.0  5256.0  5104.0\n",
       "Good       3405.0  3424.0  3496.0  4123.0  4276.0  5079.0  4574.0\n",
       "Fair       4291.0  3682.0  3827.0  4239.0  5136.0  4685.0  4976.0"
      ]
     },
     "execution_count": 5,
     "metadata": {},
     "output_type": "execute_result"
    }
   ],
   "source": [
    "# Using groupby()\n",
    "diamonds.groupby(['cut', 'color'])['price'].mean().round(0)\n",
    "diamonds.pivot_table(values='price', index='cut', columns='color', aggfunc=np.mean).round(0)\n",
    "pd.crosstab(index=diamonds['cut'], columns=diamonds['color'], values=diamonds['price'], aggfunc=np.mean).round(0)"
   ]
  },
  {
   "cell_type": "markdown",
   "metadata": {},
   "source": [
    "I think you already know your favorite. `groubpy()` returns a series while the other two return identical dataframes as a result. However, it is possible turn the `groupby` series into the same dataframe like this:"
   ]
  },
  {
   "cell_type": "code",
   "execution_count": 6,
   "metadata": {},
   "outputs": [
    {
     "data": {
      "text/html": [
       "<div>\n",
       "<style scoped>\n",
       "    .dataframe tbody tr th:only-of-type {\n",
       "        vertical-align: middle;\n",
       "    }\n",
       "\n",
       "    .dataframe tbody tr th {\n",
       "        vertical-align: top;\n",
       "    }\n",
       "\n",
       "    .dataframe thead th {\n",
       "        text-align: right;\n",
       "    }\n",
       "</style>\n",
       "<table border=\"1\" class=\"dataframe\">\n",
       "  <thead>\n",
       "    <tr style=\"text-align: right;\">\n",
       "      <th>color</th>\n",
       "      <th>D</th>\n",
       "      <th>E</th>\n",
       "      <th>F</th>\n",
       "      <th>G</th>\n",
       "      <th>H</th>\n",
       "      <th>I</th>\n",
       "      <th>J</th>\n",
       "    </tr>\n",
       "    <tr>\n",
       "      <th>cut</th>\n",
       "      <th></th>\n",
       "      <th></th>\n",
       "      <th></th>\n",
       "      <th></th>\n",
       "      <th></th>\n",
       "      <th></th>\n",
       "      <th></th>\n",
       "    </tr>\n",
       "  </thead>\n",
       "  <tbody>\n",
       "    <tr>\n",
       "      <th>Ideal</th>\n",
       "      <td>2629.0</td>\n",
       "      <td>2598.0</td>\n",
       "      <td>3375.0</td>\n",
       "      <td>3721.0</td>\n",
       "      <td>3889.0</td>\n",
       "      <td>4452.0</td>\n",
       "      <td>4918.0</td>\n",
       "    </tr>\n",
       "    <tr>\n",
       "      <th>Premium</th>\n",
       "      <td>3631.0</td>\n",
       "      <td>3539.0</td>\n",
       "      <td>4325.0</td>\n",
       "      <td>4501.0</td>\n",
       "      <td>5217.0</td>\n",
       "      <td>5946.0</td>\n",
       "      <td>6295.0</td>\n",
       "    </tr>\n",
       "    <tr>\n",
       "      <th>Very Good</th>\n",
       "      <td>3470.0</td>\n",
       "      <td>3215.0</td>\n",
       "      <td>3779.0</td>\n",
       "      <td>3873.0</td>\n",
       "      <td>4535.0</td>\n",
       "      <td>5256.0</td>\n",
       "      <td>5104.0</td>\n",
       "    </tr>\n",
       "    <tr>\n",
       "      <th>Good</th>\n",
       "      <td>3405.0</td>\n",
       "      <td>3424.0</td>\n",
       "      <td>3496.0</td>\n",
       "      <td>4123.0</td>\n",
       "      <td>4276.0</td>\n",
       "      <td>5079.0</td>\n",
       "      <td>4574.0</td>\n",
       "    </tr>\n",
       "    <tr>\n",
       "      <th>Fair</th>\n",
       "      <td>4291.0</td>\n",
       "      <td>3682.0</td>\n",
       "      <td>3827.0</td>\n",
       "      <td>4239.0</td>\n",
       "      <td>5136.0</td>\n",
       "      <td>4685.0</td>\n",
       "      <td>4976.0</td>\n",
       "    </tr>\n",
       "  </tbody>\n",
       "</table>\n",
       "</div>"
      ],
      "text/plain": [
       "color           D       E       F       G       H       I       J\n",
       "cut                                                              \n",
       "Ideal      2629.0  2598.0  3375.0  3721.0  3889.0  4452.0  4918.0\n",
       "Premium    3631.0  3539.0  4325.0  4501.0  5217.0  5946.0  6295.0\n",
       "Very Good  3470.0  3215.0  3779.0  3873.0  4535.0  5256.0  5104.0\n",
       "Good       3405.0  3424.0  3496.0  4123.0  4276.0  5079.0  4574.0\n",
       "Fair       4291.0  3682.0  3827.0  4239.0  5136.0  4685.0  4976.0"
      ]
     },
     "execution_count": 6,
     "metadata": {},
     "output_type": "execute_result"
    }
   ],
   "source": [
    "grouped = diamonds.groupby(['cut', 'color'])['price'].mean().round(0)\n",
    "grouped.unstack()"
   ]
  },
  {
   "cell_type": "markdown",
   "metadata": {},
   "source": [
    "> If you don't understand the syntaxes of `pivot_table` and `unstack()`, I highly suggest you read the first part of the article."
   ]
  },
  {
   "cell_type": "markdown",
   "metadata": {},
   "source": [
    "When it comes to speed, `crosstab()` is faster than `pivot_table()` but both are slower than `groupby()`:"
   ]
  },
  {
   "cell_type": "code",
   "execution_count": 10,
   "metadata": {},
   "outputs": [
    {
     "name": "stdout",
     "output_type": "stream",
     "text": [
      "11.3 ms ± 199 µs per loop (mean ± std. dev. of 7 runs, 100 loops each)\n"
     ]
    }
   ],
   "source": [
    "%%timeit\n",
    "diamonds.pivot_table(values='price', index='cut', columns='color', aggfunc=np.mean)"
   ]
  },
  {
   "cell_type": "code",
   "execution_count": 11,
   "metadata": {},
   "outputs": [
    {
     "name": "stdout",
     "output_type": "stream",
     "text": [
      "11.2 ms ± 358 µs per loop (mean ± std. dev. of 7 runs, 100 loops each)\n"
     ]
    }
   ],
   "source": [
    "%%timeit\n",
    "pd.crosstab(index=diamonds['cut'], columns=diamonds['color'], values=diamonds['price'], aggfunc=np.mean)"
   ]
  },
  {
   "cell_type": "code",
   "execution_count": 12,
   "metadata": {},
   "outputs": [
    {
     "name": "stdout",
     "output_type": "stream",
     "text": [
      "4.24 ms ± 41 µs per loop (mean ± std. dev. of 7 runs, 100 loops each)\n"
     ]
    }
   ],
   "source": [
    "%%timeit\n",
    "diamonds.groupby(['cut', 'color'])['price'].mean().unstack()"
   ]
  },
  {
   "cell_type": "markdown",
   "metadata": {},
   "source": [
    "As you see, even when chained with `unstack()`, `groupby()` is 3 times faster than the other two. This tells that if you just want to group and compute summary stats, you should use the same ol' `groupby()`. The speed difference was even larger when I chained other methods like simple `round()`. "
   ]
  },
  {
   "cell_type": "markdown",
   "metadata": {},
   "source": [
    "The rest of the comparison will mainly be about `pivot_table()` and `crosstab()`. As you saw, the shape of results of the two functions are the same. The first difference between the two is that `crosstab()` can work with any data type. \n",
    "\n",
    "It can accept any array-like objects such as lists, `numpy` arrays, data frame columns (which are `pandas` series). In contrast, `pivot_table()` only works on dataframes. In a helpful StackOverflow [thread](https://stackoverflow.com/questions/36267745/how-is-a-pandas-crosstab-different-from-a-pandas-pivot-table), I found out that if you use `crosstab()` on a dataframe it calls `pivot_table()` under the hood. \n",
    "\n",
    "Next is the parameters. There are parameters which exist only in one and vice versa. The first one which is the most popular is `crosstab()`'s `normalize`. `normalize` accepts these options (from the documentation):\n",
    "\n",
    "- If passed `all` or `True`, will normalize over all values.\n",
    "\n",
    "- If passed `index` will normalize over each row.\n",
    "\n",
    "- If passed `columns` will normalize over each column.\n",
    "\n",
    "Let's see a simple example:"
   ]
  },
  {
   "cell_type": "code",
   "execution_count": 19,
   "metadata": {
    "scrolled": true
   },
   "outputs": [
    {
     "data": {
      "text/html": [
       "<div>\n",
       "<style scoped>\n",
       "    .dataframe tbody tr th:only-of-type {\n",
       "        vertical-align: middle;\n",
       "    }\n",
       "\n",
       "    .dataframe tbody tr th {\n",
       "        vertical-align: top;\n",
       "    }\n",
       "\n",
       "    .dataframe thead th {\n",
       "        text-align: right;\n",
       "    }\n",
       "</style>\n",
       "<table border=\"1\" class=\"dataframe\">\n",
       "  <thead>\n",
       "    <tr style=\"text-align: right;\">\n",
       "      <th>color</th>\n",
       "      <th>D</th>\n",
       "      <th>E</th>\n",
       "      <th>F</th>\n",
       "      <th>G</th>\n",
       "      <th>H</th>\n",
       "      <th>I</th>\n",
       "      <th>J</th>\n",
       "    </tr>\n",
       "    <tr>\n",
       "      <th>cut</th>\n",
       "      <th></th>\n",
       "      <th></th>\n",
       "      <th></th>\n",
       "      <th></th>\n",
       "      <th></th>\n",
       "      <th></th>\n",
       "      <th></th>\n",
       "    </tr>\n",
       "  </thead>\n",
       "  <tbody>\n",
       "    <tr>\n",
       "      <th>Ideal</th>\n",
       "      <td>0.052540</td>\n",
       "      <td>0.072358</td>\n",
       "      <td>0.070931</td>\n",
       "      <td>0.090545</td>\n",
       "      <td>0.057749</td>\n",
       "      <td>0.038802</td>\n",
       "      <td>0.016611</td>\n",
       "    </tr>\n",
       "    <tr>\n",
       "      <th>Premium</th>\n",
       "      <td>0.029718</td>\n",
       "      <td>0.043326</td>\n",
       "      <td>0.043215</td>\n",
       "      <td>0.054208</td>\n",
       "      <td>0.043752</td>\n",
       "      <td>0.026474</td>\n",
       "      <td>0.014980</td>\n",
       "    </tr>\n",
       "    <tr>\n",
       "      <th>Very Good</th>\n",
       "      <td>0.028050</td>\n",
       "      <td>0.044494</td>\n",
       "      <td>0.040119</td>\n",
       "      <td>0.042621</td>\n",
       "      <td>0.033815</td>\n",
       "      <td>0.022321</td>\n",
       "      <td>0.012570</td>\n",
       "    </tr>\n",
       "    <tr>\n",
       "      <th>Good</th>\n",
       "      <td>0.012273</td>\n",
       "      <td>0.017297</td>\n",
       "      <td>0.016852</td>\n",
       "      <td>0.016148</td>\n",
       "      <td>0.013014</td>\n",
       "      <td>0.009677</td>\n",
       "      <td>0.005692</td>\n",
       "    </tr>\n",
       "    <tr>\n",
       "      <th>Fair</th>\n",
       "      <td>0.003022</td>\n",
       "      <td>0.004153</td>\n",
       "      <td>0.005784</td>\n",
       "      <td>0.005821</td>\n",
       "      <td>0.005617</td>\n",
       "      <td>0.003244</td>\n",
       "      <td>0.002206</td>\n",
       "    </tr>\n",
       "  </tbody>\n",
       "</table>\n",
       "</div>"
      ],
      "text/plain": [
       "color             D         E         F         G         H         I  \\\n",
       "cut                                                                     \n",
       "Ideal      0.052540  0.072358  0.070931  0.090545  0.057749  0.038802   \n",
       "Premium    0.029718  0.043326  0.043215  0.054208  0.043752  0.026474   \n",
       "Very Good  0.028050  0.044494  0.040119  0.042621  0.033815  0.022321   \n",
       "Good       0.012273  0.017297  0.016852  0.016148  0.013014  0.009677   \n",
       "Fair       0.003022  0.004153  0.005784  0.005821  0.005617  0.003244   \n",
       "\n",
       "color             J  \n",
       "cut                  \n",
       "Ideal      0.016611  \n",
       "Premium    0.014980  \n",
       "Very Good  0.012570  \n",
       "Good       0.005692  \n",
       "Fair       0.002206  "
      ]
     },
     "execution_count": 19,
     "metadata": {},
     "output_type": "execute_result"
    }
   ],
   "source": [
    "pd.crosstab(diamonds['cut'], diamonds['color'], normalize='all')"
   ]
  },
  {
   "cell_type": "markdown",
   "metadata": {},
   "source": [
    "If passed all, for each cell, `pandas` calculates the percentage of the overall amount:"
   ]
  },
  {
   "cell_type": "code",
   "execution_count": 18,
   "metadata": {
    "scrolled": true
   },
   "outputs": [
    {
     "data": {
      "text/plain": [
       "1.0000000000000002"
      ]
     },
     "execution_count": 18,
     "metadata": {},
     "output_type": "execute_result"
    }
   ],
   "source": [
    "pd.crosstab(diamonds['cut'], diamonds['color'], normalize='all').values.sum()"
   ]
  },
  {
   "cell_type": "markdown",
   "metadata": {},
   "source": [
    "If passed, `index` or `columns`, the same operation is done column-wise or row-wise:"
   ]
  },
  {
   "cell_type": "code",
   "execution_count": 20,
   "metadata": {
    "scrolled": true
   },
   "outputs": [
    {
     "data": {
      "text/html": [
       "<div>\n",
       "<style scoped>\n",
       "    .dataframe tbody tr th:only-of-type {\n",
       "        vertical-align: middle;\n",
       "    }\n",
       "\n",
       "    .dataframe tbody tr th {\n",
       "        vertical-align: top;\n",
       "    }\n",
       "\n",
       "    .dataframe thead th {\n",
       "        text-align: right;\n",
       "    }\n",
       "</style>\n",
       "<table border=\"1\" class=\"dataframe\">\n",
       "  <thead>\n",
       "    <tr style=\"text-align: right;\">\n",
       "      <th>color</th>\n",
       "      <th>D</th>\n",
       "      <th>E</th>\n",
       "      <th>F</th>\n",
       "      <th>G</th>\n",
       "      <th>H</th>\n",
       "      <th>I</th>\n",
       "      <th>J</th>\n",
       "    </tr>\n",
       "    <tr>\n",
       "      <th>cut</th>\n",
       "      <th></th>\n",
       "      <th></th>\n",
       "      <th></th>\n",
       "      <th></th>\n",
       "      <th></th>\n",
       "      <th></th>\n",
       "      <th></th>\n",
       "    </tr>\n",
       "  </thead>\n",
       "  <tbody>\n",
       "    <tr>\n",
       "      <th>Ideal</th>\n",
       "      <td>0.131502</td>\n",
       "      <td>0.181105</td>\n",
       "      <td>0.177532</td>\n",
       "      <td>0.226625</td>\n",
       "      <td>0.144541</td>\n",
       "      <td>0.097118</td>\n",
       "      <td>0.041576</td>\n",
       "    </tr>\n",
       "    <tr>\n",
       "      <th>Premium</th>\n",
       "      <td>0.116235</td>\n",
       "      <td>0.169458</td>\n",
       "      <td>0.169023</td>\n",
       "      <td>0.212022</td>\n",
       "      <td>0.171126</td>\n",
       "      <td>0.103546</td>\n",
       "      <td>0.058589</td>\n",
       "    </tr>\n",
       "    <tr>\n",
       "      <th>Very Good</th>\n",
       "      <td>0.125228</td>\n",
       "      <td>0.198643</td>\n",
       "      <td>0.179109</td>\n",
       "      <td>0.190283</td>\n",
       "      <td>0.150968</td>\n",
       "      <td>0.099652</td>\n",
       "      <td>0.056117</td>\n",
       "    </tr>\n",
       "    <tr>\n",
       "      <th>Good</th>\n",
       "      <td>0.134937</td>\n",
       "      <td>0.190175</td>\n",
       "      <td>0.185283</td>\n",
       "      <td>0.177538</td>\n",
       "      <td>0.143090</td>\n",
       "      <td>0.106400</td>\n",
       "      <td>0.062576</td>\n",
       "    </tr>\n",
       "    <tr>\n",
       "      <th>Fair</th>\n",
       "      <td>0.101242</td>\n",
       "      <td>0.139130</td>\n",
       "      <td>0.193789</td>\n",
       "      <td>0.195031</td>\n",
       "      <td>0.188199</td>\n",
       "      <td>0.108696</td>\n",
       "      <td>0.073913</td>\n",
       "    </tr>\n",
       "  </tbody>\n",
       "</table>\n",
       "</div>"
      ],
      "text/plain": [
       "color             D         E         F         G         H         I  \\\n",
       "cut                                                                     \n",
       "Ideal      0.131502  0.181105  0.177532  0.226625  0.144541  0.097118   \n",
       "Premium    0.116235  0.169458  0.169023  0.212022  0.171126  0.103546   \n",
       "Very Good  0.125228  0.198643  0.179109  0.190283  0.150968  0.099652   \n",
       "Good       0.134937  0.190175  0.185283  0.177538  0.143090  0.106400   \n",
       "Fair       0.101242  0.139130  0.193789  0.195031  0.188199  0.108696   \n",
       "\n",
       "color             J  \n",
       "cut                  \n",
       "Ideal      0.041576  \n",
       "Premium    0.058589  \n",
       "Very Good  0.056117  \n",
       "Good       0.062576  \n",
       "Fair       0.073913  "
      ]
     },
     "execution_count": 20,
     "metadata": {},
     "output_type": "execute_result"
    }
   ],
   "source": [
    "pd.crosstab(diamonds['cut'], diamonds['color'], normalize='index') # columns"
   ]
  },
  {
   "cell_type": "markdown",
   "metadata": {},
   "source": [
    "In `crosstab()` you can also change the index and column names directly within the function using `rownames` and `colnames`. You don't have to do it manually afterwards. These two arguments are very useful when we group by multiple variables at a time, as you will see later."
   ]
  },
  {
   "cell_type": "markdown",
   "metadata": {},
   "source": [
    "### Pandas crosstab(), customizing even further"
   ]
  },
  {
   "cell_type": "code",
   "execution_count": null,
   "metadata": {},
   "outputs": [],
   "source": []
  },
  {
   "cell_type": "code",
   "execution_count": null,
   "metadata": {},
   "outputs": [],
   "source": []
  },
  {
   "cell_type": "code",
   "execution_count": null,
   "metadata": {},
   "outputs": [],
   "source": []
  },
  {
   "cell_type": "code",
   "execution_count": null,
   "metadata": {},
   "outputs": [],
   "source": []
  },
  {
   "cell_type": "code",
   "execution_count": null,
   "metadata": {},
   "outputs": [],
   "source": []
  },
  {
   "cell_type": "code",
   "execution_count": null,
   "metadata": {},
   "outputs": [],
   "source": []
  }
 ],
 "metadata": {
  "kernelspec": {
   "display_name": "medium_articles",
   "language": "python",
   "name": "medium_articles"
  },
  "language_info": {
   "codemirror_mode": {
    "name": "ipython",
    "version": 3
   },
   "file_extension": ".py",
   "mimetype": "text/x-python",
   "name": "python",
   "nbconvert_exporter": "python",
   "pygments_lexer": "ipython3",
   "version": "3.8.5"
  }
 },
 "nbformat": 4,
 "nbformat_minor": 4
}
