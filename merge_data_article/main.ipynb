{
 "cells": [
  {
   "cell_type": "markdown",
   "metadata": {},
   "source": [
    "# Ultimate Guide to Merging Data in Pandas\n",
    "## From semi/anti joins to validating data merges\n",
    "\n",
    "### Introduction\n",
    "With each data science project or dataset, you want to perform several analyses and create plots to find insights. Often, the raw data never comes in one massive table but in many separate ones. To answer your questions, you should have the skills to join multiple tables into one and then perform operations on them.\n",
    "\n",
    "You can acquire these skills by learning different kinds of merge operations such as inner join, left and right joins, self and anti joins, merging on indexes, etc.\n",
    "\n",
    "The goal of this article is that you come away with a strong knowledge of combining data in pandas using precise methods suited for any question you want to ask about your data.\n",
    "\n",
    "### Pandas merge()\n",
    "Pandas provide several methods for performing merges on dataframes. Among all the others `merge()` method is the most flexible one. It is a dataframe method and the general syntax is as follows:\n",
    "\n"
   ]
  },
  {
   "cell_type": "markdown",
   "metadata": {},
   "source": [
    "`df1.merge(df2, on='common_column')`"
   ]
  },
  {
   "cell_type": "markdown",
   "metadata": {},
   "source": [
    "When combining tables, there are two terminologies you should be familiar with: The name of the table you use first is called __the left table__ while the other is called __the right table__. In the code snippet above, the left table is `df1` and the right table is `df2`. Also, the verbs join, combine and merge are all used interchangebly.\n",
    "\n",
    "Now let's see how we perform an inner join:\n",
    "\n",
    "An inner join will only return rows that have matching values in both tables. During the joining process, you will have to know the common table name which exists in both tables.\n",
    "<img src='images/inner_join.png'></img>"
   ]
  },
  {
   "cell_type": "code",
   "execution_count": 1,
   "metadata": {},
   "outputs": [],
   "source": [
    "# Load necessary libraries\n",
    "import pandas as pd\n",
    "import numpy as np"
   ]
  },
  {
   "cell_type": "code",
   "execution_count": 2,
   "metadata": {},
   "outputs": [],
   "source": [
    "# Enable multiple cell outputs\n",
    "from IPython.core.interactiveshell import InteractiveShell\n",
    "InteractiveShell.ast_node_interactivity = \"all\""
   ]
  },
  {
   "cell_type": "code",
   "execution_count": 3,
   "metadata": {},
   "outputs": [],
   "source": [
    "# Load necessary dataframes\n",
    "user_usage = pd.read_csv('data/user_usage.csv')\n",
    "user_devices = pd.read_csv('data/user_device.csv').drop('user_id', axis='columns')"
   ]
  },
  {
   "cell_type": "markdown",
   "metadata": {},
   "source": [
    "### Basic Exploration"
   ]
  },
  {
   "cell_type": "code",
   "execution_count": 4,
   "metadata": {},
   "outputs": [
    {
     "name": "stdout",
     "output_type": "stream",
     "text": [
      "<class 'pandas.core.frame.DataFrame'>\n",
      "RangeIndex: 240 entries, 0 to 239\n",
      "Data columns (total 4 columns):\n",
      " #   Column                   Non-Null Count  Dtype  \n",
      "---  ------                   --------------  -----  \n",
      " 0   outgoing_mins_per_month  240 non-null    float64\n",
      " 1   outgoing_sms_per_month   240 non-null    float64\n",
      " 2   monthly_mb               240 non-null    float64\n",
      " 3   use_id                   240 non-null    int64  \n",
      "dtypes: float64(3), int64(1)\n",
      "memory usage: 7.6 KB\n",
      "<class 'pandas.core.frame.DataFrame'>\n",
      "RangeIndex: 272 entries, 0 to 271\n",
      "Data columns (total 5 columns):\n",
      " #   Column            Non-Null Count  Dtype  \n",
      "---  ------            --------------  -----  \n",
      " 0   use_id            272 non-null    int64  \n",
      " 1   platform          272 non-null    object \n",
      " 2   platform_version  272 non-null    float64\n",
      " 3   device            272 non-null    object \n",
      " 4   use_type_id       272 non-null    int64  \n",
      "dtypes: float64(1), int64(2), object(2)\n",
      "memory usage: 10.8+ KB\n"
     ]
    }
   ],
   "source": [
    "user_usage.info()\n",
    "user_devices.info()"
   ]
  },
  {
   "cell_type": "code",
   "execution_count": 5,
   "metadata": {},
   "outputs": [
    {
     "data": {
      "text/html": [
       "<div>\n",
       "<style scoped>\n",
       "    .dataframe tbody tr th:only-of-type {\n",
       "        vertical-align: middle;\n",
       "    }\n",
       "\n",
       "    .dataframe tbody tr th {\n",
       "        vertical-align: top;\n",
       "    }\n",
       "\n",
       "    .dataframe thead th {\n",
       "        text-align: right;\n",
       "    }\n",
       "</style>\n",
       "<table border=\"1\" class=\"dataframe\">\n",
       "  <thead>\n",
       "    <tr style=\"text-align: right;\">\n",
       "      <th></th>\n",
       "      <th>outgoing_mins_per_month</th>\n",
       "      <th>outgoing_sms_per_month</th>\n",
       "      <th>monthly_mb</th>\n",
       "      <th>use_id</th>\n",
       "    </tr>\n",
       "  </thead>\n",
       "  <tbody>\n",
       "    <tr>\n",
       "      <th>count</th>\n",
       "      <td>240.000000</td>\n",
       "      <td>240.000000</td>\n",
       "      <td>240.000000</td>\n",
       "      <td>240.000000</td>\n",
       "    </tr>\n",
       "    <tr>\n",
       "      <th>mean</th>\n",
       "      <td>274.559167</td>\n",
       "      <td>98.968292</td>\n",
       "      <td>3628.602042</td>\n",
       "      <td>23285.516667</td>\n",
       "    </tr>\n",
       "    <tr>\n",
       "      <th>std</th>\n",
       "      <td>293.745744</td>\n",
       "      <td>111.172685</td>\n",
       "      <td>4486.311513</td>\n",
       "      <td>624.139253</td>\n",
       "    </tr>\n",
       "    <tr>\n",
       "      <th>min</th>\n",
       "      <td>0.500000</td>\n",
       "      <td>0.250000</td>\n",
       "      <td>0.000000</td>\n",
       "      <td>22787.000000</td>\n",
       "    </tr>\n",
       "    <tr>\n",
       "      <th>25%</th>\n",
       "      <td>74.590000</td>\n",
       "      <td>29.030000</td>\n",
       "      <td>1132.230000</td>\n",
       "      <td>22888.750000</td>\n",
       "    </tr>\n",
       "    <tr>\n",
       "      <th>50%</th>\n",
       "      <td>189.705000</td>\n",
       "      <td>70.775000</td>\n",
       "      <td>1797.975000</td>\n",
       "      <td>22987.500000</td>\n",
       "    </tr>\n",
       "    <tr>\n",
       "      <th>75%</th>\n",
       "      <td>336.045000</td>\n",
       "      <td>125.627500</td>\n",
       "      <td>4246.617500</td>\n",
       "      <td>23482.500000</td>\n",
       "    </tr>\n",
       "    <tr>\n",
       "      <th>max</th>\n",
       "      <td>1816.630000</td>\n",
       "      <td>906.920000</td>\n",
       "      <td>31146.670000</td>\n",
       "      <td>25220.000000</td>\n",
       "    </tr>\n",
       "  </tbody>\n",
       "</table>\n",
       "</div>"
      ],
      "text/plain": [
       "       outgoing_mins_per_month  outgoing_sms_per_month    monthly_mb  \\\n",
       "count               240.000000              240.000000    240.000000   \n",
       "mean                274.559167               98.968292   3628.602042   \n",
       "std                 293.745744              111.172685   4486.311513   \n",
       "min                   0.500000                0.250000      0.000000   \n",
       "25%                  74.590000               29.030000   1132.230000   \n",
       "50%                 189.705000               70.775000   1797.975000   \n",
       "75%                 336.045000              125.627500   4246.617500   \n",
       "max                1816.630000              906.920000  31146.670000   \n",
       "\n",
       "             use_id  \n",
       "count    240.000000  \n",
       "mean   23285.516667  \n",
       "std      624.139253  \n",
       "min    22787.000000  \n",
       "25%    22888.750000  \n",
       "50%    22987.500000  \n",
       "75%    23482.500000  \n",
       "max    25220.000000  "
      ]
     },
     "execution_count": 5,
     "metadata": {},
     "output_type": "execute_result"
    }
   ],
   "source": [
    "user_usage.describe()"
   ]
  },
  {
   "cell_type": "markdown",
   "metadata": {},
   "source": [
    "Let's say we have these two tables:"
   ]
  },
  {
   "cell_type": "code",
   "execution_count": 6,
   "metadata": {
    "scrolled": false
   },
   "outputs": [
    {
     "data": {
      "text/html": [
       "<div>\n",
       "<style scoped>\n",
       "    .dataframe tbody tr th:only-of-type {\n",
       "        vertical-align: middle;\n",
       "    }\n",
       "\n",
       "    .dataframe tbody tr th {\n",
       "        vertical-align: top;\n",
       "    }\n",
       "\n",
       "    .dataframe thead th {\n",
       "        text-align: right;\n",
       "    }\n",
       "</style>\n",
       "<table border=\"1\" class=\"dataframe\">\n",
       "  <thead>\n",
       "    <tr style=\"text-align: right;\">\n",
       "      <th></th>\n",
       "      <th>outgoing_mins_per_month</th>\n",
       "      <th>outgoing_sms_per_month</th>\n",
       "      <th>monthly_mb</th>\n",
       "      <th>use_id</th>\n",
       "    </tr>\n",
       "  </thead>\n",
       "  <tbody>\n",
       "    <tr>\n",
       "      <th>0</th>\n",
       "      <td>21.97</td>\n",
       "      <td>4.82</td>\n",
       "      <td>1557.33</td>\n",
       "      <td>22787</td>\n",
       "    </tr>\n",
       "    <tr>\n",
       "      <th>1</th>\n",
       "      <td>1710.08</td>\n",
       "      <td>136.88</td>\n",
       "      <td>7267.55</td>\n",
       "      <td>22788</td>\n",
       "    </tr>\n",
       "    <tr>\n",
       "      <th>2</th>\n",
       "      <td>1710.08</td>\n",
       "      <td>136.88</td>\n",
       "      <td>7267.55</td>\n",
       "      <td>22789</td>\n",
       "    </tr>\n",
       "    <tr>\n",
       "      <th>3</th>\n",
       "      <td>94.46</td>\n",
       "      <td>35.17</td>\n",
       "      <td>519.12</td>\n",
       "      <td>22790</td>\n",
       "    </tr>\n",
       "    <tr>\n",
       "      <th>4</th>\n",
       "      <td>71.59</td>\n",
       "      <td>79.26</td>\n",
       "      <td>1557.33</td>\n",
       "      <td>22792</td>\n",
       "    </tr>\n",
       "  </tbody>\n",
       "</table>\n",
       "</div>"
      ],
      "text/plain": [
       "   outgoing_mins_per_month  outgoing_sms_per_month  monthly_mb  use_id\n",
       "0                    21.97                    4.82     1557.33   22787\n",
       "1                  1710.08                  136.88     7267.55   22788\n",
       "2                  1710.08                  136.88     7267.55   22789\n",
       "3                    94.46                   35.17      519.12   22790\n",
       "4                    71.59                   79.26     1557.33   22792"
      ]
     },
     "execution_count": 6,
     "metadata": {},
     "output_type": "execute_result"
    },
    {
     "data": {
      "text/html": [
       "<div>\n",
       "<style scoped>\n",
       "    .dataframe tbody tr th:only-of-type {\n",
       "        vertical-align: middle;\n",
       "    }\n",
       "\n",
       "    .dataframe tbody tr th {\n",
       "        vertical-align: top;\n",
       "    }\n",
       "\n",
       "    .dataframe thead th {\n",
       "        text-align: right;\n",
       "    }\n",
       "</style>\n",
       "<table border=\"1\" class=\"dataframe\">\n",
       "  <thead>\n",
       "    <tr style=\"text-align: right;\">\n",
       "      <th></th>\n",
       "      <th>use_id</th>\n",
       "      <th>platform</th>\n",
       "      <th>platform_version</th>\n",
       "      <th>device</th>\n",
       "      <th>use_type_id</th>\n",
       "    </tr>\n",
       "  </thead>\n",
       "  <tbody>\n",
       "    <tr>\n",
       "      <th>0</th>\n",
       "      <td>22782</td>\n",
       "      <td>ios</td>\n",
       "      <td>10.2</td>\n",
       "      <td>iPhone7,2</td>\n",
       "      <td>2</td>\n",
       "    </tr>\n",
       "    <tr>\n",
       "      <th>1</th>\n",
       "      <td>22783</td>\n",
       "      <td>android</td>\n",
       "      <td>6.0</td>\n",
       "      <td>Nexus 5</td>\n",
       "      <td>3</td>\n",
       "    </tr>\n",
       "    <tr>\n",
       "      <th>2</th>\n",
       "      <td>22784</td>\n",
       "      <td>android</td>\n",
       "      <td>5.1</td>\n",
       "      <td>SM-G903F</td>\n",
       "      <td>1</td>\n",
       "    </tr>\n",
       "    <tr>\n",
       "      <th>3</th>\n",
       "      <td>22785</td>\n",
       "      <td>ios</td>\n",
       "      <td>10.2</td>\n",
       "      <td>iPhone7,2</td>\n",
       "      <td>3</td>\n",
       "    </tr>\n",
       "    <tr>\n",
       "      <th>4</th>\n",
       "      <td>22786</td>\n",
       "      <td>android</td>\n",
       "      <td>6.0</td>\n",
       "      <td>ONE E1003</td>\n",
       "      <td>1</td>\n",
       "    </tr>\n",
       "  </tbody>\n",
       "</table>\n",
       "</div>"
      ],
      "text/plain": [
       "   use_id platform  platform_version     device  use_type_id\n",
       "0   22782      ios              10.2  iPhone7,2            2\n",
       "1   22783  android               6.0    Nexus 5            3\n",
       "2   22784  android               5.1   SM-G903F            1\n",
       "3   22785      ios              10.2  iPhone7,2            3\n",
       "4   22786  android               6.0  ONE E1003            1"
      ]
     },
     "execution_count": 6,
     "metadata": {},
     "output_type": "execute_result"
    }
   ],
   "source": [
    "user_usage.head()\n",
    "user_devices.head()"
   ]
  },
  {
   "cell_type": "markdown",
   "metadata": {},
   "source": [
    "This data was downloaded from the KillBiller application. KillBiller was a free service that compared every mobile tariff in UK and Ireland. The first, `user_usage` table contains monthyl statistics of mobile usage of users. `user_devices` table provides details about each users phone such as operating system and phone model.\n",
    "\n",
    "#### Question 1:\n",
    "How many users use Android OS and how many use iOS?\n",
    "\n",
    "To answer this question, we will need the information from both tables. There is one linking attribute between both tables: `use_id`. We will use this column in our merge:"
   ]
  },
  {
   "cell_type": "code",
   "execution_count": 7,
   "metadata": {},
   "outputs": [
    {
     "data": {
      "text/html": [
       "<div>\n",
       "<style scoped>\n",
       "    .dataframe tbody tr th:only-of-type {\n",
       "        vertical-align: middle;\n",
       "    }\n",
       "\n",
       "    .dataframe tbody tr th {\n",
       "        vertical-align: top;\n",
       "    }\n",
       "\n",
       "    .dataframe thead th {\n",
       "        text-align: right;\n",
       "    }\n",
       "</style>\n",
       "<table border=\"1\" class=\"dataframe\">\n",
       "  <thead>\n",
       "    <tr style=\"text-align: right;\">\n",
       "      <th></th>\n",
       "      <th>outgoing_mins_per_month</th>\n",
       "      <th>outgoing_sms_per_month</th>\n",
       "      <th>monthly_mb</th>\n",
       "      <th>use_id</th>\n",
       "      <th>platform</th>\n",
       "    </tr>\n",
       "  </thead>\n",
       "  <tbody>\n",
       "    <tr>\n",
       "      <th>85</th>\n",
       "      <td>129.85</td>\n",
       "      <td>66.65</td>\n",
       "      <td>2362.07</td>\n",
       "      <td>22937</td>\n",
       "      <td>android</td>\n",
       "    </tr>\n",
       "    <tr>\n",
       "      <th>10</th>\n",
       "      <td>554.41</td>\n",
       "      <td>150.06</td>\n",
       "      <td>3114.67</td>\n",
       "      <td>22804</td>\n",
       "      <td>android</td>\n",
       "    </tr>\n",
       "    <tr>\n",
       "      <th>25</th>\n",
       "      <td>324.27</td>\n",
       "      <td>91.50</td>\n",
       "      <td>519.12</td>\n",
       "      <td>22830</td>\n",
       "      <td>android</td>\n",
       "    </tr>\n",
       "    <tr>\n",
       "      <th>150</th>\n",
       "      <td>57.66</td>\n",
       "      <td>62.85</td>\n",
       "      <td>1557.33</td>\n",
       "      <td>23036</td>\n",
       "      <td>android</td>\n",
       "    </tr>\n",
       "    <tr>\n",
       "      <th>52</th>\n",
       "      <td>128.34</td>\n",
       "      <td>1.77</td>\n",
       "      <td>7469.79</td>\n",
       "      <td>22881</td>\n",
       "      <td>android</td>\n",
       "    </tr>\n",
       "  </tbody>\n",
       "</table>\n",
       "</div>"
      ],
      "text/plain": [
       "     outgoing_mins_per_month  outgoing_sms_per_month  monthly_mb  use_id  \\\n",
       "85                    129.85                   66.65     2362.07   22937   \n",
       "10                    554.41                  150.06     3114.67   22804   \n",
       "25                    324.27                   91.50      519.12   22830   \n",
       "150                    57.66                   62.85     1557.33   23036   \n",
       "52                    128.34                    1.77     7469.79   22881   \n",
       "\n",
       "    platform  \n",
       "85   android  \n",
       "10   android  \n",
       "25   android  \n",
       "150  android  \n",
       "52   android  "
      ]
     },
     "execution_count": 7,
     "metadata": {},
     "output_type": "execute_result"
    },
    {
     "name": "stdout",
     "output_type": "stream",
     "text": [
      "Number of users for each OS: android    157\n",
      "ios          2\n",
      "Name: platform, dtype: int64\n"
     ]
    }
   ],
   "source": [
    "usage_w_os = user_usage.merge(user_devices[['platform', 'use_id']], on='use_id', how='inner')\n",
    "usage_w_os.sample(5)\n",
    "print(f'Number of users for each OS: {usage_w_os[\"platform\"].value_counts()}')"
   ]
  },
  {
   "cell_type": "markdown",
   "metadata": {},
   "source": [
    "It looks like there is a huge difference between the two operating systems in our dataset. \n",
    "\n",
    "In the merge above, we used an example of an inner join. In `merge()` function `how` argument is set to `inner` by default so we did not have to write it out. When merging two tables using the `merge()` function, we use `on` argument to specify the common column. If there are multiple, it is also possible to pass a list of columns to the argument and `pandas` will take care of the rest. \n",
    "\n",
    "Note that as a right table, I subset the `user_devices` table to exclude irrelevant columns to the question. "
   ]
  },
  {
   "cell_type": "markdown",
   "metadata": {},
   "source": [
    "Now, as we explore further, we will notice that number of given users in two datasets is different:"
   ]
  },
  {
   "cell_type": "code",
   "execution_count": 8,
   "metadata": {},
   "outputs": [
    {
     "name": "stdout",
     "output_type": "stream",
     "text": [
      "Dimensions of user_usage table: (240, 4)\n",
      "Dimensions of user_devices table: (272, 5)\n",
      "Dimensions of the joined table: (159, 5)\n"
     ]
    }
   ],
   "source": [
    "print(f'Dimensions of user_usage table: {user_usage.shape}')\n",
    "print(f'Dimensions of user_devices table: {user_devices.shape}')\n",
    "print(f'Dimensions of the joined table: {usage_w_os.shape}')"
   ]
  },
  {
   "cell_type": "markdown",
   "metadata": {},
   "source": [
    "Clearly, matching user IDs in both tables were 159. This means there are user IDs which are in `user_devices` table and not in `user_usage` table and vice versa. So, the next question we want to ask is:\n",
    "\n",
    "#### Question 2\n",
    "How many users use Android OS and iOS, including all the users that aren't in `user_usage` table?"
   ]
  },
  {
   "cell_type": "markdown",
   "metadata": {},
   "source": [
    "We can answer this question by using either a __left__ or a __right__ join. First let's look at the general case of one-sided joins:\n",
    "<img src='images/left_right_join.png'></img>"
   ]
  },
  {
   "cell_type": "markdown",
   "metadata": {},
   "source": [
    "A __left join__ will return all of the rows of the left table including matching rows from the right table.\n",
    "A __right join__ will return all of the rows of the right table including matching rows from the left table. Note that in both types of joins, `pandas` will put a `NaN` value to the cells with no match."
   ]
  },
  {
   "cell_type": "code",
   "execution_count": 9,
   "metadata": {},
   "outputs": [
    {
     "data": {
      "text/html": [
       "<div>\n",
       "<style scoped>\n",
       "    .dataframe tbody tr th:only-of-type {\n",
       "        vertical-align: middle;\n",
       "    }\n",
       "\n",
       "    .dataframe tbody tr th {\n",
       "        vertical-align: top;\n",
       "    }\n",
       "\n",
       "    .dataframe thead th {\n",
       "        text-align: right;\n",
       "    }\n",
       "</style>\n",
       "<table border=\"1\" class=\"dataframe\">\n",
       "  <thead>\n",
       "    <tr style=\"text-align: right;\">\n",
       "      <th></th>\n",
       "      <th>outgoing_mins_per_month</th>\n",
       "      <th>outgoing_sms_per_month</th>\n",
       "      <th>monthly_mb</th>\n",
       "      <th>use_id</th>\n",
       "      <th>platform</th>\n",
       "    </tr>\n",
       "  </thead>\n",
       "  <tbody>\n",
       "    <tr>\n",
       "      <th>76</th>\n",
       "      <td>155.71</td>\n",
       "      <td>10.14</td>\n",
       "      <td>1557.33</td>\n",
       "      <td>22922</td>\n",
       "      <td>android</td>\n",
       "    </tr>\n",
       "    <tr>\n",
       "      <th>201</th>\n",
       "      <td>NaN</td>\n",
       "      <td>NaN</td>\n",
       "      <td>NaN</td>\n",
       "      <td>22869</td>\n",
       "      <td>ios</td>\n",
       "    </tr>\n",
       "    <tr>\n",
       "      <th>36</th>\n",
       "      <td>300.47</td>\n",
       "      <td>169.32</td>\n",
       "      <td>3114.67</td>\n",
       "      <td>22855</td>\n",
       "      <td>android</td>\n",
       "    </tr>\n",
       "    <tr>\n",
       "      <th>110</th>\n",
       "      <td>200.18</td>\n",
       "      <td>89.48</td>\n",
       "      <td>5191.12</td>\n",
       "      <td>22975</td>\n",
       "      <td>android</td>\n",
       "    </tr>\n",
       "    <tr>\n",
       "      <th>166</th>\n",
       "      <td>NaN</td>\n",
       "      <td>NaN</td>\n",
       "      <td>NaN</td>\n",
       "      <td>22797</td>\n",
       "      <td>ios</td>\n",
       "    </tr>\n",
       "  </tbody>\n",
       "</table>\n",
       "</div>"
      ],
      "text/plain": [
       "     outgoing_mins_per_month  outgoing_sms_per_month  monthly_mb  use_id  \\\n",
       "76                    155.71                   10.14     1557.33   22922   \n",
       "201                      NaN                     NaN         NaN   22869   \n",
       "36                    300.47                  169.32     3114.67   22855   \n",
       "110                   200.18                   89.48     5191.12   22975   \n",
       "166                      NaN                     NaN         NaN   22797   \n",
       "\n",
       "    platform  \n",
       "76   android  \n",
       "201      ios  \n",
       "36   android  \n",
       "110  android  \n",
       "166      ios  "
      ]
     },
     "execution_count": 9,
     "metadata": {},
     "output_type": "execute_result"
    },
    {
     "name": "stdout",
     "output_type": "stream",
     "text": [
      "Number of users for each OS: android    184\n",
      "ios         88\n",
      "Name: platform, dtype: int64\n"
     ]
    }
   ],
   "source": [
    "usage_w_os2 = user_usage.merge(user_devices[['platform', 'use_id']], on='use_id', how='right')\n",
    "usage_w_os2.sample(5)\n",
    "print(f'Number of users for each OS: {usage_w_os2[\"platform\"].value_counts()}')"
   ]
  },
  {
   "cell_type": "markdown",
   "metadata": {},
   "source": [
    "The same result can be achieved using a left join. We can just swap the tables and pass `left` keyword for the `how` parameter:"
   ]
  },
  {
   "cell_type": "code",
   "execution_count": 10,
   "metadata": {},
   "outputs": [
    {
     "data": {
      "text/html": [
       "<div>\n",
       "<style scoped>\n",
       "    .dataframe tbody tr th:only-of-type {\n",
       "        vertical-align: middle;\n",
       "    }\n",
       "\n",
       "    .dataframe tbody tr th {\n",
       "        vertical-align: top;\n",
       "    }\n",
       "\n",
       "    .dataframe thead th {\n",
       "        text-align: right;\n",
       "    }\n",
       "</style>\n",
       "<table border=\"1\" class=\"dataframe\">\n",
       "  <thead>\n",
       "    <tr style=\"text-align: right;\">\n",
       "      <th></th>\n",
       "      <th>platform</th>\n",
       "      <th>use_id</th>\n",
       "      <th>outgoing_mins_per_month</th>\n",
       "      <th>outgoing_sms_per_month</th>\n",
       "      <th>monthly_mb</th>\n",
       "    </tr>\n",
       "  </thead>\n",
       "  <tbody>\n",
       "    <tr>\n",
       "      <th>226</th>\n",
       "      <td>ios</td>\n",
       "      <td>23008</td>\n",
       "      <td>NaN</td>\n",
       "      <td>NaN</td>\n",
       "      <td>NaN</td>\n",
       "    </tr>\n",
       "    <tr>\n",
       "      <th>65</th>\n",
       "      <td>ios</td>\n",
       "      <td>22847</td>\n",
       "      <td>NaN</td>\n",
       "      <td>NaN</td>\n",
       "      <td>NaN</td>\n",
       "    </tr>\n",
       "    <tr>\n",
       "      <th>104</th>\n",
       "      <td>android</td>\n",
       "      <td>22886</td>\n",
       "      <td>74.23</td>\n",
       "      <td>47.4</td>\n",
       "      <td>1557.33</td>\n",
       "    </tr>\n",
       "    <tr>\n",
       "      <th>222</th>\n",
       "      <td>ios</td>\n",
       "      <td>23004</td>\n",
       "      <td>NaN</td>\n",
       "      <td>NaN</td>\n",
       "      <td>NaN</td>\n",
       "    </tr>\n",
       "    <tr>\n",
       "      <th>178</th>\n",
       "      <td>ios</td>\n",
       "      <td>22960</td>\n",
       "      <td>NaN</td>\n",
       "      <td>NaN</td>\n",
       "      <td>NaN</td>\n",
       "    </tr>\n",
       "  </tbody>\n",
       "</table>\n",
       "</div>"
      ],
      "text/plain": [
       "    platform  use_id  outgoing_mins_per_month  outgoing_sms_per_month  \\\n",
       "226      ios   23008                      NaN                     NaN   \n",
       "65       ios   22847                      NaN                     NaN   \n",
       "104  android   22886                    74.23                    47.4   \n",
       "222      ios   23004                      NaN                     NaN   \n",
       "178      ios   22960                      NaN                     NaN   \n",
       "\n",
       "     monthly_mb  \n",
       "226         NaN  \n",
       "65          NaN  \n",
       "104     1557.33  \n",
       "222         NaN  \n",
       "178         NaN  "
      ]
     },
     "execution_count": 10,
     "metadata": {},
     "output_type": "execute_result"
    },
    {
     "name": "stdout",
     "output_type": "stream",
     "text": [
      "Number of users for each OS: android    184\n",
      "ios         88\n",
      "Name: platform, dtype: int64\n"
     ]
    }
   ],
   "source": [
    "usage_w_os2 = user_devices[['platform', 'use_id']].merge(user_usage, on='use_id', how='left')\n",
    "usage_w_os2.sample(5)\n",
    "print(f'Number of users for each OS: {usage_w_os2[\"platform\"].value_counts()}')"
   ]
  },
  {
   "cell_type": "markdown",
   "metadata": {},
   "source": [
    "We use an outer join to return all the rows from both tables regardles they match or not:\n",
    "<img src='images/outer_join.png'></img>"
   ]
  },
  {
   "cell_type": "markdown",
   "metadata": {},
   "source": [
    "#### Pandas merge(), suffixes"
   ]
  },
  {
   "cell_type": "markdown",
   "metadata": {},
   "source": [
    "Let's say we have columns with identical names in both of the tables. Since in our case, we don't have columns with the same name I will just copy out one column into the other:"
   ]
  },
  {
   "cell_type": "code",
   "execution_count": 11,
   "metadata": {},
   "outputs": [
    {
     "data": {
      "text/plain": [
       "Index(['use_id', 'platform', 'platform_version', 'device', 'use_type_id',\n",
       "       'monthly_mb'],\n",
       "      dtype='object')"
      ]
     },
     "execution_count": 11,
     "metadata": {},
     "output_type": "execute_result"
    },
    {
     "data": {
      "text/plain": [
       "Index(['outgoing_mins_per_month', 'outgoing_sms_per_month', 'monthly_mb',\n",
       "       'use_id'],\n",
       "      dtype='object')"
      ]
     },
     "execution_count": 11,
     "metadata": {},
     "output_type": "execute_result"
    }
   ],
   "source": [
    "user_devices['monthly_mb'] = user_usage['monthly_mb']\n",
    "user_devices.columns\n",
    "user_usage.columns"
   ]
  },
  {
   "cell_type": "markdown",
   "metadata": {},
   "source": [
    "Now we have `monthly_mb` column in both tables. Let's see what happends when we join them:"
   ]
  },
  {
   "cell_type": "code",
   "execution_count": 12,
   "metadata": {},
   "outputs": [
    {
     "data": {
      "text/html": [
       "<div>\n",
       "<style scoped>\n",
       "    .dataframe tbody tr th:only-of-type {\n",
       "        vertical-align: middle;\n",
       "    }\n",
       "\n",
       "    .dataframe tbody tr th {\n",
       "        vertical-align: top;\n",
       "    }\n",
       "\n",
       "    .dataframe thead th {\n",
       "        text-align: right;\n",
       "    }\n",
       "</style>\n",
       "<table border=\"1\" class=\"dataframe\">\n",
       "  <thead>\n",
       "    <tr style=\"text-align: right;\">\n",
       "      <th></th>\n",
       "      <th>use_id</th>\n",
       "      <th>platform</th>\n",
       "      <th>platform_version</th>\n",
       "      <th>device</th>\n",
       "      <th>use_type_id</th>\n",
       "      <th>monthly_mb_x</th>\n",
       "      <th>outgoing_mins_per_month</th>\n",
       "      <th>outgoing_sms_per_month</th>\n",
       "      <th>monthly_mb_y</th>\n",
       "    </tr>\n",
       "  </thead>\n",
       "  <tbody>\n",
       "    <tr>\n",
       "      <th>52</th>\n",
       "      <td>22881</td>\n",
       "      <td>android</td>\n",
       "      <td>6.0</td>\n",
       "      <td>HTC Desire 825</td>\n",
       "      <td>1</td>\n",
       "      <td>2076.45</td>\n",
       "      <td>128.34</td>\n",
       "      <td>1.77</td>\n",
       "      <td>7469.79</td>\n",
       "    </tr>\n",
       "    <tr>\n",
       "      <th>14</th>\n",
       "      <td>22813</td>\n",
       "      <td>android</td>\n",
       "      <td>4.4</td>\n",
       "      <td>HTC Desire 510</td>\n",
       "      <td>1</td>\n",
       "      <td>1557.33</td>\n",
       "      <td>797.06</td>\n",
       "      <td>7.67</td>\n",
       "      <td>519.12</td>\n",
       "    </tr>\n",
       "    <tr>\n",
       "      <th>102</th>\n",
       "      <td>22966</td>\n",
       "      <td>android</td>\n",
       "      <td>6.0</td>\n",
       "      <td>SM-G900F</td>\n",
       "      <td>1</td>\n",
       "      <td>1908.59</td>\n",
       "      <td>222.32</td>\n",
       "      <td>224.58</td>\n",
       "      <td>3114.67</td>\n",
       "    </tr>\n",
       "  </tbody>\n",
       "</table>\n",
       "</div>"
      ],
      "text/plain": [
       "     use_id platform  platform_version          device  use_type_id  \\\n",
       "52    22881  android               6.0  HTC Desire 825            1   \n",
       "14    22813  android               4.4  HTC Desire 510            1   \n",
       "102   22966  android               6.0        SM-G900F            1   \n",
       "\n",
       "     monthly_mb_x  outgoing_mins_per_month  outgoing_sms_per_month  \\\n",
       "52        2076.45                   128.34                    1.77   \n",
       "14        1557.33                   797.06                    7.67   \n",
       "102       1908.59                   222.32                  224.58   \n",
       "\n",
       "     monthly_mb_y  \n",
       "52        7469.79  \n",
       "14         519.12  \n",
       "102       3114.67  "
      ]
     },
     "execution_count": 12,
     "metadata": {},
     "output_type": "execute_result"
    }
   ],
   "source": [
    "result = user_devices.merge(user_usage, on='use_id')\n",
    "result.sample(3)"
   ]
  },
  {
   "cell_type": "markdown",
   "metadata": {},
   "source": [
    "If we look at the column names, the two columns with the same names have been renamed by adding `_x` and `_y` suffixes. Here, `_x` is for the left table and `_y` is for the right. This is `pandas` default behavior when we don't scpefiy the suffixes. We can control the suffixes easily:"
   ]
  },
  {
   "cell_type": "code",
   "execution_count": 13,
   "metadata": {},
   "outputs": [
    {
     "data": {
      "text/html": [
       "<div>\n",
       "<style scoped>\n",
       "    .dataframe tbody tr th:only-of-type {\n",
       "        vertical-align: middle;\n",
       "    }\n",
       "\n",
       "    .dataframe tbody tr th {\n",
       "        vertical-align: top;\n",
       "    }\n",
       "\n",
       "    .dataframe thead th {\n",
       "        text-align: right;\n",
       "    }\n",
       "</style>\n",
       "<table border=\"1\" class=\"dataframe\">\n",
       "  <thead>\n",
       "    <tr style=\"text-align: right;\">\n",
       "      <th></th>\n",
       "      <th>use_id</th>\n",
       "      <th>platform</th>\n",
       "      <th>platform_version</th>\n",
       "      <th>device</th>\n",
       "      <th>use_type_id</th>\n",
       "      <th>monthly_mb_device</th>\n",
       "      <th>outgoing_mins_per_month</th>\n",
       "      <th>outgoing_sms_per_month</th>\n",
       "      <th>monthly_mb_stat</th>\n",
       "    </tr>\n",
       "  </thead>\n",
       "  <tbody>\n",
       "    <tr>\n",
       "      <th>4</th>\n",
       "      <td>22792</td>\n",
       "      <td>android</td>\n",
       "      <td>5.1</td>\n",
       "      <td>SM-G361F</td>\n",
       "      <td>1</td>\n",
       "      <td>3114.67</td>\n",
       "      <td>71.59</td>\n",
       "      <td>79.26</td>\n",
       "      <td>1557.33</td>\n",
       "    </tr>\n",
       "    <tr>\n",
       "      <th>12</th>\n",
       "      <td>22806</td>\n",
       "      <td>android</td>\n",
       "      <td>6.0</td>\n",
       "      <td>A0001</td>\n",
       "      <td>1</td>\n",
       "      <td>1271.39</td>\n",
       "      <td>283.30</td>\n",
       "      <td>107.47</td>\n",
       "      <td>15573.33</td>\n",
       "    </tr>\n",
       "    <tr>\n",
       "      <th>85</th>\n",
       "      <td>22937</td>\n",
       "      <td>android</td>\n",
       "      <td>6.0</td>\n",
       "      <td>HTC One M9</td>\n",
       "      <td>1</td>\n",
       "      <td>3114.67</td>\n",
       "      <td>129.85</td>\n",
       "      <td>66.65</td>\n",
       "      <td>2362.07</td>\n",
       "    </tr>\n",
       "  </tbody>\n",
       "</table>\n",
       "</div>"
      ],
      "text/plain": [
       "    use_id platform  platform_version      device  use_type_id  \\\n",
       "4    22792  android               5.1    SM-G361F            1   \n",
       "12   22806  android               6.0       A0001            1   \n",
       "85   22937  android               6.0  HTC One M9            1   \n",
       "\n",
       "    monthly_mb_device  outgoing_mins_per_month  outgoing_sms_per_month  \\\n",
       "4             3114.67                    71.59                   79.26   \n",
       "12            1271.39                   283.30                  107.47   \n",
       "85            3114.67                   129.85                   66.65   \n",
       "\n",
       "    monthly_mb_stat  \n",
       "4           1557.33  \n",
       "12         15573.33  \n",
       "85          2362.07  "
      ]
     },
     "execution_count": 13,
     "metadata": {},
     "output_type": "execute_result"
    }
   ],
   "source": [
    "result = user_devices.merge(user_usage, on='use_id', suffixes=('_device', '_stat'))\n",
    "result.sample(3)"
   ]
  },
  {
   "cell_type": "markdown",
   "metadata": {},
   "source": [
    "It is much better now. Use such suffixes to indicate the columns table of origin when they have identical names. Note that `suffixes` parameter takes a __tuple__ of values, not a list and order does matter!"
   ]
  },
  {
   "cell_type": "code",
   "execution_count": 14,
   "metadata": {},
   "outputs": [],
   "source": [
    "# Undo all recent changes\n",
    "user_usage = pd.read_csv('data/user_usage.csv')\n",
    "user_devices = pd.read_csv('data/user_device.csv').drop('user_id', axis='columns')"
   ]
  },
  {
   "cell_type": "markdown",
   "metadata": {},
   "source": [
    "#### Pandas merge(), left_on and right_on"
   ]
  },
  {
   "cell_type": "markdown",
   "metadata": {},
   "source": [
    "There is also a case where you want to join on a common column but the columns have different names. `pandas` provides a handy argument for doing just that without changing the names of the columns. Let's rename the `use_id` columns so that I can show you an example."
   ]
  },
  {
   "cell_type": "code",
   "execution_count": 15,
   "metadata": {},
   "outputs": [
    {
     "data": {
      "text/plain": [
       "Index(['outgoing_mins_per_month', 'outgoing_sms_per_month', 'monthly_mb',\n",
       "       'user'],\n",
       "      dtype='object')"
      ]
     },
     "execution_count": 15,
     "metadata": {},
     "output_type": "execute_result"
    },
    {
     "data": {
      "text/plain": [
       "Index(['use_id', 'platform', 'platform_version', 'device', 'use_type_id'], dtype='object')"
      ]
     },
     "execution_count": 15,
     "metadata": {},
     "output_type": "execute_result"
    }
   ],
   "source": [
    "user_usage.rename(columns={'use_id': 'user'}, inplace=True)\n",
    "user_usage.columns\n",
    "user_devices.columns"
   ]
  },
  {
   "cell_type": "markdown",
   "metadata": {},
   "source": [
    "Now, let's combine the tables with an `inner` join:"
   ]
  },
  {
   "cell_type": "code",
   "execution_count": 16,
   "metadata": {
    "scrolled": true
   },
   "outputs": [
    {
     "data": {
      "text/html": [
       "<div>\n",
       "<style scoped>\n",
       "    .dataframe tbody tr th:only-of-type {\n",
       "        vertical-align: middle;\n",
       "    }\n",
       "\n",
       "    .dataframe tbody tr th {\n",
       "        vertical-align: top;\n",
       "    }\n",
       "\n",
       "    .dataframe thead th {\n",
       "        text-align: right;\n",
       "    }\n",
       "</style>\n",
       "<table border=\"1\" class=\"dataframe\">\n",
       "  <thead>\n",
       "    <tr style=\"text-align: right;\">\n",
       "      <th></th>\n",
       "      <th>outgoing_mins_per_month</th>\n",
       "      <th>outgoing_sms_per_month</th>\n",
       "      <th>monthly_mb</th>\n",
       "      <th>user</th>\n",
       "      <th>use_id</th>\n",
       "      <th>platform</th>\n",
       "      <th>platform_version</th>\n",
       "      <th>device</th>\n",
       "      <th>use_type_id</th>\n",
       "    </tr>\n",
       "  </thead>\n",
       "  <tbody>\n",
       "    <tr>\n",
       "      <th>0</th>\n",
       "      <td>21.97</td>\n",
       "      <td>4.82</td>\n",
       "      <td>1557.33</td>\n",
       "      <td>22787</td>\n",
       "      <td>22787</td>\n",
       "      <td>android</td>\n",
       "      <td>4.3</td>\n",
       "      <td>GT-I9505</td>\n",
       "      <td>1</td>\n",
       "    </tr>\n",
       "    <tr>\n",
       "      <th>1</th>\n",
       "      <td>1710.08</td>\n",
       "      <td>136.88</td>\n",
       "      <td>7267.55</td>\n",
       "      <td>22788</td>\n",
       "      <td>22788</td>\n",
       "      <td>android</td>\n",
       "      <td>6.0</td>\n",
       "      <td>SM-G930F</td>\n",
       "      <td>1</td>\n",
       "    </tr>\n",
       "    <tr>\n",
       "      <th>2</th>\n",
       "      <td>1710.08</td>\n",
       "      <td>136.88</td>\n",
       "      <td>7267.55</td>\n",
       "      <td>22789</td>\n",
       "      <td>22789</td>\n",
       "      <td>android</td>\n",
       "      <td>6.0</td>\n",
       "      <td>SM-G930F</td>\n",
       "      <td>1</td>\n",
       "    </tr>\n",
       "    <tr>\n",
       "      <th>3</th>\n",
       "      <td>94.46</td>\n",
       "      <td>35.17</td>\n",
       "      <td>519.12</td>\n",
       "      <td>22790</td>\n",
       "      <td>22790</td>\n",
       "      <td>android</td>\n",
       "      <td>5.1</td>\n",
       "      <td>D2303</td>\n",
       "      <td>1</td>\n",
       "    </tr>\n",
       "    <tr>\n",
       "      <th>4</th>\n",
       "      <td>71.59</td>\n",
       "      <td>79.26</td>\n",
       "      <td>1557.33</td>\n",
       "      <td>22792</td>\n",
       "      <td>22792</td>\n",
       "      <td>android</td>\n",
       "      <td>5.1</td>\n",
       "      <td>SM-G361F</td>\n",
       "      <td>1</td>\n",
       "    </tr>\n",
       "  </tbody>\n",
       "</table>\n",
       "</div>"
      ],
      "text/plain": [
       "   outgoing_mins_per_month  outgoing_sms_per_month  monthly_mb   user  use_id  \\\n",
       "0                    21.97                    4.82     1557.33  22787   22787   \n",
       "1                  1710.08                  136.88     7267.55  22788   22788   \n",
       "2                  1710.08                  136.88     7267.55  22789   22789   \n",
       "3                    94.46                   35.17      519.12  22790   22790   \n",
       "4                    71.59                   79.26     1557.33  22792   22792   \n",
       "\n",
       "  platform  platform_version    device  use_type_id  \n",
       "0  android               4.3  GT-I9505            1  \n",
       "1  android               6.0  SM-G930F            1  \n",
       "2  android               6.0  SM-G930F            1  \n",
       "3  android               5.1     D2303            1  \n",
       "4  android               5.1  SM-G361F            1  "
      ]
     },
     "execution_count": 16,
     "metadata": {},
     "output_type": "execute_result"
    }
   ],
   "source": [
    "user_usage.merge(user_devices, left_on='user', right_on='use_id').head()"
   ]
  },
  {
   "cell_type": "markdown",
   "metadata": {},
   "source": [
    "We use `left_on` and `right_on` parameters of the merge function to specify the names of common columns. You should pass the name of the column from the left table to `left_on` and vice versa. Note that when we use differently named common column, `pandas` will keep both of the columns as duplicates, so don't forget to drop one of them:"
   ]
  },
  {
   "cell_type": "code",
   "execution_count": 17,
   "metadata": {},
   "outputs": [
    {
     "data": {
      "text/html": [
       "<div>\n",
       "<style scoped>\n",
       "    .dataframe tbody tr th:only-of-type {\n",
       "        vertical-align: middle;\n",
       "    }\n",
       "\n",
       "    .dataframe tbody tr th {\n",
       "        vertical-align: top;\n",
       "    }\n",
       "\n",
       "    .dataframe thead th {\n",
       "        text-align: right;\n",
       "    }\n",
       "</style>\n",
       "<table border=\"1\" class=\"dataframe\">\n",
       "  <thead>\n",
       "    <tr style=\"text-align: right;\">\n",
       "      <th></th>\n",
       "      <th>outgoing_mins_per_month</th>\n",
       "      <th>outgoing_sms_per_month</th>\n",
       "      <th>monthly_mb</th>\n",
       "      <th>use_id</th>\n",
       "      <th>platform</th>\n",
       "      <th>platform_version</th>\n",
       "      <th>device</th>\n",
       "      <th>use_type_id</th>\n",
       "    </tr>\n",
       "  </thead>\n",
       "  <tbody>\n",
       "    <tr>\n",
       "      <th>0</th>\n",
       "      <td>21.97</td>\n",
       "      <td>4.82</td>\n",
       "      <td>1557.33</td>\n",
       "      <td>22787</td>\n",
       "      <td>android</td>\n",
       "      <td>4.3</td>\n",
       "      <td>GT-I9505</td>\n",
       "      <td>1</td>\n",
       "    </tr>\n",
       "    <tr>\n",
       "      <th>1</th>\n",
       "      <td>1710.08</td>\n",
       "      <td>136.88</td>\n",
       "      <td>7267.55</td>\n",
       "      <td>22788</td>\n",
       "      <td>android</td>\n",
       "      <td>6.0</td>\n",
       "      <td>SM-G930F</td>\n",
       "      <td>1</td>\n",
       "    </tr>\n",
       "    <tr>\n",
       "      <th>2</th>\n",
       "      <td>1710.08</td>\n",
       "      <td>136.88</td>\n",
       "      <td>7267.55</td>\n",
       "      <td>22789</td>\n",
       "      <td>android</td>\n",
       "      <td>6.0</td>\n",
       "      <td>SM-G930F</td>\n",
       "      <td>1</td>\n",
       "    </tr>\n",
       "    <tr>\n",
       "      <th>3</th>\n",
       "      <td>94.46</td>\n",
       "      <td>35.17</td>\n",
       "      <td>519.12</td>\n",
       "      <td>22790</td>\n",
       "      <td>android</td>\n",
       "      <td>5.1</td>\n",
       "      <td>D2303</td>\n",
       "      <td>1</td>\n",
       "    </tr>\n",
       "    <tr>\n",
       "      <th>4</th>\n",
       "      <td>71.59</td>\n",
       "      <td>79.26</td>\n",
       "      <td>1557.33</td>\n",
       "      <td>22792</td>\n",
       "      <td>android</td>\n",
       "      <td>5.1</td>\n",
       "      <td>SM-G361F</td>\n",
       "      <td>1</td>\n",
       "    </tr>\n",
       "  </tbody>\n",
       "</table>\n",
       "</div>"
      ],
      "text/plain": [
       "   outgoing_mins_per_month  outgoing_sms_per_month  monthly_mb  use_id  \\\n",
       "0                    21.97                    4.82     1557.33   22787   \n",
       "1                  1710.08                  136.88     7267.55   22788   \n",
       "2                  1710.08                  136.88     7267.55   22789   \n",
       "3                    94.46                   35.17      519.12   22790   \n",
       "4                    71.59                   79.26     1557.33   22792   \n",
       "\n",
       "  platform  platform_version    device  use_type_id  \n",
       "0  android               4.3  GT-I9505            1  \n",
       "1  android               6.0  SM-G930F            1  \n",
       "2  android               6.0  SM-G930F            1  \n",
       "3  android               5.1     D2303            1  \n",
       "4  android               5.1  SM-G361F            1  "
      ]
     },
     "execution_count": 17,
     "metadata": {},
     "output_type": "execute_result"
    }
   ],
   "source": [
    "user_usage.merge(user_devices, left_on='user', right_on='use_id').drop('user', axis='columns').head()"
   ]
  },
  {
   "cell_type": "code",
   "execution_count": 18,
   "metadata": {},
   "outputs": [],
   "source": [
    "# Undo all recent changes\n",
    "user_usage = pd.read_csv('data/user_usage.csv')\n",
    "user_devices = pd.read_csv('data/user_device.csv').drop('user_id', axis='columns')"
   ]
  },
  {
   "cell_type": "markdown",
   "metadata": {},
   "source": [
    "### Pandas merging on indexes"
   ]
  },
  {
   "cell_type": "markdown",
   "metadata": {},
   "source": [
    "It is also possible to merge on a common index. The syntax for any type of join using indexes is the same. `pandas` is smart enough to know that you are referring to the index:"
   ]
  },
  {
   "cell_type": "code",
   "execution_count": 19,
   "metadata": {},
   "outputs": [
    {
     "data": {
      "text/html": [
       "<div>\n",
       "<style scoped>\n",
       "    .dataframe tbody tr th:only-of-type {\n",
       "        vertical-align: middle;\n",
       "    }\n",
       "\n",
       "    .dataframe tbody tr th {\n",
       "        vertical-align: top;\n",
       "    }\n",
       "\n",
       "    .dataframe thead th {\n",
       "        text-align: right;\n",
       "    }\n",
       "</style>\n",
       "<table border=\"1\" class=\"dataframe\">\n",
       "  <thead>\n",
       "    <tr style=\"text-align: right;\">\n",
       "      <th></th>\n",
       "      <th>outgoing_mins_per_month</th>\n",
       "      <th>outgoing_sms_per_month</th>\n",
       "      <th>monthly_mb</th>\n",
       "      <th>platform</th>\n",
       "      <th>platform_version</th>\n",
       "      <th>device</th>\n",
       "      <th>use_type_id</th>\n",
       "    </tr>\n",
       "    <tr>\n",
       "      <th>use_id</th>\n",
       "      <th></th>\n",
       "      <th></th>\n",
       "      <th></th>\n",
       "      <th></th>\n",
       "      <th></th>\n",
       "      <th></th>\n",
       "      <th></th>\n",
       "    </tr>\n",
       "  </thead>\n",
       "  <tbody>\n",
       "    <tr>\n",
       "      <th>22787</th>\n",
       "      <td>21.97</td>\n",
       "      <td>4.82</td>\n",
       "      <td>1557.33</td>\n",
       "      <td>android</td>\n",
       "      <td>4.3</td>\n",
       "      <td>GT-I9505</td>\n",
       "      <td>1.0</td>\n",
       "    </tr>\n",
       "    <tr>\n",
       "      <th>22788</th>\n",
       "      <td>1710.08</td>\n",
       "      <td>136.88</td>\n",
       "      <td>7267.55</td>\n",
       "      <td>android</td>\n",
       "      <td>6.0</td>\n",
       "      <td>SM-G930F</td>\n",
       "      <td>1.0</td>\n",
       "    </tr>\n",
       "    <tr>\n",
       "      <th>22789</th>\n",
       "      <td>1710.08</td>\n",
       "      <td>136.88</td>\n",
       "      <td>7267.55</td>\n",
       "      <td>android</td>\n",
       "      <td>6.0</td>\n",
       "      <td>SM-G930F</td>\n",
       "      <td>1.0</td>\n",
       "    </tr>\n",
       "    <tr>\n",
       "      <th>22790</th>\n",
       "      <td>94.46</td>\n",
       "      <td>35.17</td>\n",
       "      <td>519.12</td>\n",
       "      <td>android</td>\n",
       "      <td>5.1</td>\n",
       "      <td>D2303</td>\n",
       "      <td>1.0</td>\n",
       "    </tr>\n",
       "    <tr>\n",
       "      <th>22792</th>\n",
       "      <td>71.59</td>\n",
       "      <td>79.26</td>\n",
       "      <td>1557.33</td>\n",
       "      <td>android</td>\n",
       "      <td>5.1</td>\n",
       "      <td>SM-G361F</td>\n",
       "      <td>1.0</td>\n",
       "    </tr>\n",
       "  </tbody>\n",
       "</table>\n",
       "</div>"
      ],
      "text/plain": [
       "        outgoing_mins_per_month  outgoing_sms_per_month  monthly_mb platform  \\\n",
       "use_id                                                                         \n",
       "22787                     21.97                    4.82     1557.33  android   \n",
       "22788                   1710.08                  136.88     7267.55  android   \n",
       "22789                   1710.08                  136.88     7267.55  android   \n",
       "22790                     94.46                   35.17      519.12  android   \n",
       "22792                     71.59                   79.26     1557.33  android   \n",
       "\n",
       "        platform_version    device  use_type_id  \n",
       "use_id                                           \n",
       "22787                4.3  GT-I9505          1.0  \n",
       "22788                6.0  SM-G930F          1.0  \n",
       "22789                6.0  SM-G930F          1.0  \n",
       "22790                5.1     D2303          1.0  \n",
       "22792                5.1  SM-G361F          1.0  "
      ]
     },
     "execution_count": 19,
     "metadata": {},
     "output_type": "execute_result"
    }
   ],
   "source": [
    "# Set use_id as indexes\n",
    "user_usage.set_index('use_id', inplace=True)\n",
    "user_devices.set_index('use_id', inplace=True)\n",
    "\n",
    "# Merge on index\n",
    "user_usage.merge(user_devices, on='use_id', how='outer').head()"
   ]
  },
  {
   "cell_type": "markdown",
   "metadata": {},
   "source": [
    "Things will get a little tricky when we have indexes with different names. Similar to columns, we will have to use `left_on` and `right_on` parameters. Also, there are two more parameters to indicate that we are merging on an index:"
   ]
  },
  {
   "cell_type": "code",
   "execution_count": 20,
   "metadata": {},
   "outputs": [
    {
     "data": {
      "text/html": [
       "<div>\n",
       "<style scoped>\n",
       "    .dataframe tbody tr th:only-of-type {\n",
       "        vertical-align: middle;\n",
       "    }\n",
       "\n",
       "    .dataframe tbody tr th {\n",
       "        vertical-align: top;\n",
       "    }\n",
       "\n",
       "    .dataframe thead th {\n",
       "        text-align: right;\n",
       "    }\n",
       "</style>\n",
       "<table border=\"1\" class=\"dataframe\">\n",
       "  <thead>\n",
       "    <tr style=\"text-align: right;\">\n",
       "      <th></th>\n",
       "      <th>index_1</th>\n",
       "      <th>outgoing_mins_per_month</th>\n",
       "      <th>outgoing_sms_per_month</th>\n",
       "      <th>monthly_mb</th>\n",
       "      <th>platform</th>\n",
       "      <th>platform_version</th>\n",
       "      <th>device</th>\n",
       "      <th>use_type_id</th>\n",
       "    </tr>\n",
       "  </thead>\n",
       "  <tbody>\n",
       "    <tr>\n",
       "      <th>22962</th>\n",
       "      <td>22962</td>\n",
       "      <td>197.43</td>\n",
       "      <td>115.02</td>\n",
       "      <td>12458.67</td>\n",
       "      <td>android</td>\n",
       "      <td>6.0</td>\n",
       "      <td>SM-N910F</td>\n",
       "      <td>1</td>\n",
       "    </tr>\n",
       "    <tr>\n",
       "      <th>22839</th>\n",
       "      <td>22839</td>\n",
       "      <td>57.49</td>\n",
       "      <td>16.73</td>\n",
       "      <td>15573.33</td>\n",
       "      <td>android</td>\n",
       "      <td>6.0</td>\n",
       "      <td>A0001</td>\n",
       "      <td>1</td>\n",
       "    </tr>\n",
       "    <tr>\n",
       "      <th>22939</th>\n",
       "      <td>22939</td>\n",
       "      <td>221.64</td>\n",
       "      <td>83.86</td>\n",
       "      <td>519.12</td>\n",
       "      <td>android</td>\n",
       "      <td>4.4</td>\n",
       "      <td>SM-A300FU</td>\n",
       "      <td>1</td>\n",
       "    </tr>\n",
       "  </tbody>\n",
       "</table>\n",
       "</div>"
      ],
      "text/plain": [
       "       index_1  outgoing_mins_per_month  outgoing_sms_per_month  monthly_mb  \\\n",
       "22962    22962                   197.43                  115.02    12458.67   \n",
       "22839    22839                    57.49                   16.73    15573.33   \n",
       "22939    22939                   221.64                   83.86      519.12   \n",
       "\n",
       "      platform  platform_version     device  use_type_id  \n",
       "22962  android               6.0   SM-N910F            1  \n",
       "22839  android               6.0      A0001            1  \n",
       "22939  android               4.4  SM-A300FU            1  "
      ]
     },
     "execution_count": 20,
     "metadata": {},
     "output_type": "execute_result"
    }
   ],
   "source": [
    "# Rename the names of the index\n",
    "user_usage.index.names = ['index_1']\n",
    "user_devices.index.names = ['index_2']    # Yes, that's how you do it)))\n",
    "\n",
    "# Merge on index\n",
    "user_usage.merge(user_devices, left_on='index_1', left_index=True, right_on='index_2', right_index=True).sample(3)"
   ]
  },
  {
   "cell_type": "markdown",
   "metadata": {},
   "source": [
    "We set `left_index` and `right_index` to `True` to indicate we are merging on indexes. This also gives duplicate values: one as an index and one as a column. So, don't forget to drop the column when you are merging!"
   ]
  },
  {
   "cell_type": "code",
   "execution_count": 21,
   "metadata": {},
   "outputs": [],
   "source": [
    "# Undo all recent changes\n",
    "user_usage = pd.read_csv('data/user_usage.csv')\n",
    "user_devices = pd.read_csv('data/user_device.csv').drop('user_id', axis='columns')"
   ]
  },
  {
   "cell_type": "markdown",
   "metadata": {},
   "source": [
    "If the tables you are merging have MultiLevel indexes, you can pass a list of index names to the `on` or `left/right_on` parameters and you will be set!"
   ]
  },
  {
   "cell_type": "markdown",
   "metadata": {},
   "source": [
    "### Pandas joining a table to itself"
   ]
  },
  {
   "cell_type": "markdown",
   "metadata": {},
   "source": [
    "There might be cases where you may want to join a table to itself. Joining a table to itself can be useful when you have:\n",
    "    1. Hierarchical relationships\n",
    "    2. Sequential relationships\n",
    "    3. Graph data\n",
    "\n",
    "General case of joining a table to itself:\n",
    "<img src='images/self_join.png'></img>"
   ]
  },
  {
   "cell_type": "code",
   "execution_count": null,
   "metadata": {},
   "outputs": [],
   "source": [
    "# Actual code\n",
    "sequel.merge(sequel, left_on='id', right_on='sequel_id')"
   ]
  },
  {
   "cell_type": "markdown",
   "metadata": {},
   "source": [
    "As you can see, a self merge can be pretty useful at times. When you use a self join, you often join on different columns of the same table."
   ]
  },
  {
   "cell_type": "markdown",
   "metadata": {},
   "source": [
    "### Filtering joins"
   ]
  },
  {
   "cell_type": "markdown",
   "metadata": {},
   "source": [
    "All the joins we had done so far have returned data from both tables. But sometimes, you would want to filter your table based on values on some other table. `pandas` does not provide this functionality directly. But we can engineer the steps pretty easily.\n",
    "#### Semi-join Pandas"
   ]
  },
  {
   "cell_type": "markdown",
   "metadata": {},
   "source": [
    "Semi-joins are useful when you want to subset your data based on observations in other tables. Semi-joins:\n",
    "    1. Returns the intersection of two tables, similar to an inner join.\n",
    "    2. Returns only the columns from the __left__ table, not the __right__.\n",
    "    3. No duplicates\n",
    "Back to our little tables:\n",
    "<img src='images/semi_join.png'></img>"
   ]
  },
  {
   "cell_type": "markdown",
   "metadata": {},
   "source": [
    "As you can see, semi-join is exactly like an inner join but it only includes the results from the left table. Now back to our example data, we want to know the stats for all the users which exist in both tables. But we don't want the final table to contain columns of the `user_devices` table. We can approach this problem in three steps:"
   ]
  },
  {
   "cell_type": "code",
   "execution_count": 22,
   "metadata": {},
   "outputs": [
    {
     "data": {
      "text/html": [
       "<div>\n",
       "<style scoped>\n",
       "    .dataframe tbody tr th:only-of-type {\n",
       "        vertical-align: middle;\n",
       "    }\n",
       "\n",
       "    .dataframe tbody tr th {\n",
       "        vertical-align: top;\n",
       "    }\n",
       "\n",
       "    .dataframe thead th {\n",
       "        text-align: right;\n",
       "    }\n",
       "</style>\n",
       "<table border=\"1\" class=\"dataframe\">\n",
       "  <thead>\n",
       "    <tr style=\"text-align: right;\">\n",
       "      <th></th>\n",
       "      <th>outgoing_mins_per_month</th>\n",
       "      <th>outgoing_sms_per_month</th>\n",
       "      <th>monthly_mb</th>\n",
       "      <th>use_id</th>\n",
       "      <th>platform</th>\n",
       "      <th>platform_version</th>\n",
       "      <th>device</th>\n",
       "      <th>use_type_id</th>\n",
       "    </tr>\n",
       "  </thead>\n",
       "  <tbody>\n",
       "    <tr>\n",
       "      <th>0</th>\n",
       "      <td>21.97</td>\n",
       "      <td>4.82</td>\n",
       "      <td>1557.33</td>\n",
       "      <td>22787</td>\n",
       "      <td>android</td>\n",
       "      <td>4.3</td>\n",
       "      <td>GT-I9505</td>\n",
       "      <td>1</td>\n",
       "    </tr>\n",
       "    <tr>\n",
       "      <th>1</th>\n",
       "      <td>1710.08</td>\n",
       "      <td>136.88</td>\n",
       "      <td>7267.55</td>\n",
       "      <td>22788</td>\n",
       "      <td>android</td>\n",
       "      <td>6.0</td>\n",
       "      <td>SM-G930F</td>\n",
       "      <td>1</td>\n",
       "    </tr>\n",
       "    <tr>\n",
       "      <th>2</th>\n",
       "      <td>1710.08</td>\n",
       "      <td>136.88</td>\n",
       "      <td>7267.55</td>\n",
       "      <td>22789</td>\n",
       "      <td>android</td>\n",
       "      <td>6.0</td>\n",
       "      <td>SM-G930F</td>\n",
       "      <td>1</td>\n",
       "    </tr>\n",
       "  </tbody>\n",
       "</table>\n",
       "</div>"
      ],
      "text/plain": [
       "   outgoing_mins_per_month  outgoing_sms_per_month  monthly_mb  use_id  \\\n",
       "0                    21.97                    4.82     1557.33   22787   \n",
       "1                  1710.08                  136.88     7267.55   22788   \n",
       "2                  1710.08                  136.88     7267.55   22789   \n",
       "\n",
       "  platform  platform_version    device  use_type_id  \n",
       "0  android               4.3  GT-I9505            1  \n",
       "1  android               6.0  SM-G930F            1  \n",
       "2  android               6.0  SM-G930F            1  "
      ]
     },
     "execution_count": 22,
     "metadata": {},
     "output_type": "execute_result"
    }
   ],
   "source": [
    "# First, perform an inner join to find common use_ids\n",
    "semi_table = user_usage.merge(user_devices, on='use_id')\n",
    "semi_table.head(3)"
   ]
  },
  {
   "cell_type": "markdown",
   "metadata": {},
   "source": [
    "After we have the inner join, we want to subset our original left table with the values in the final table:"
   ]
  },
  {
   "cell_type": "code",
   "execution_count": 23,
   "metadata": {},
   "outputs": [
    {
     "data": {
      "text/plain": [
       "84      True\n",
       "194    False\n",
       "228    False\n",
       "238    False\n",
       "141     True\n",
       "Name: use_id, dtype: bool"
      ]
     },
     "execution_count": 23,
     "metadata": {},
     "output_type": "execute_result"
    }
   ],
   "source": [
    "# Second, create a boolean series\n",
    "in_both = user_usage['use_id'].isin(semi_table['use_id'])\n",
    "in_both.sample(5)"
   ]
  },
  {
   "cell_type": "markdown",
   "metadata": {},
   "source": [
    "The variable `in_both` now is a `Boolean Series` which we can use to subset the left table"
   ]
  },
  {
   "cell_type": "code",
   "execution_count": 24,
   "metadata": {},
   "outputs": [
    {
     "data": {
      "text/html": [
       "<div>\n",
       "<style scoped>\n",
       "    .dataframe tbody tr th:only-of-type {\n",
       "        vertical-align: middle;\n",
       "    }\n",
       "\n",
       "    .dataframe tbody tr th {\n",
       "        vertical-align: top;\n",
       "    }\n",
       "\n",
       "    .dataframe thead th {\n",
       "        text-align: right;\n",
       "    }\n",
       "</style>\n",
       "<table border=\"1\" class=\"dataframe\">\n",
       "  <thead>\n",
       "    <tr style=\"text-align: right;\">\n",
       "      <th></th>\n",
       "      <th>outgoing_mins_per_month</th>\n",
       "      <th>outgoing_sms_per_month</th>\n",
       "      <th>monthly_mb</th>\n",
       "      <th>use_id</th>\n",
       "    </tr>\n",
       "  </thead>\n",
       "  <tbody>\n",
       "    <tr>\n",
       "      <th>57</th>\n",
       "      <td>74.23</td>\n",
       "      <td>47.40</td>\n",
       "      <td>1557.33</td>\n",
       "      <td>22886</td>\n",
       "    </tr>\n",
       "    <tr>\n",
       "      <th>96</th>\n",
       "      <td>102.66</td>\n",
       "      <td>79.84</td>\n",
       "      <td>5191.12</td>\n",
       "      <td>22951</td>\n",
       "    </tr>\n",
       "    <tr>\n",
       "      <th>7</th>\n",
       "      <td>71.59</td>\n",
       "      <td>79.26</td>\n",
       "      <td>519.12</td>\n",
       "      <td>22795</td>\n",
       "    </tr>\n",
       "  </tbody>\n",
       "</table>\n",
       "</div>"
      ],
      "text/plain": [
       "    outgoing_mins_per_month  outgoing_sms_per_month  monthly_mb  use_id\n",
       "57                    74.23                   47.40     1557.33   22886\n",
       "96                   102.66                   79.84     5191.12   22951\n",
       "7                     71.59                   79.26      519.12   22795"
      ]
     },
     "execution_count": 24,
     "metadata": {},
     "output_type": "execute_result"
    },
    {
     "data": {
      "text/plain": [
       "(159, 4)"
      ]
     },
     "execution_count": 24,
     "metadata": {},
     "output_type": "execute_result"
    }
   ],
   "source": [
    "# Finally, subset the left table\n",
    "users_in_both = user_usage[in_both]\n",
    "users_in_both.sample(3)\n",
    "users_in_both.shape"
   ]
  },
  {
   "cell_type": "markdown",
   "metadata": {},
   "source": [
    "The results are as we excpected. If you compare this join to the very first `inner` join we did, it is the exact same table without the columns of the right table:"
   ]
  },
  {
   "cell_type": "code",
   "execution_count": 25,
   "metadata": {},
   "outputs": [
    {
     "data": {
      "text/html": [
       "<div>\n",
       "<style scoped>\n",
       "    .dataframe tbody tr th:only-of-type {\n",
       "        vertical-align: middle;\n",
       "    }\n",
       "\n",
       "    .dataframe tbody tr th {\n",
       "        vertical-align: top;\n",
       "    }\n",
       "\n",
       "    .dataframe thead th {\n",
       "        text-align: right;\n",
       "    }\n",
       "</style>\n",
       "<table border=\"1\" class=\"dataframe\">\n",
       "  <thead>\n",
       "    <tr style=\"text-align: right;\">\n",
       "      <th></th>\n",
       "      <th>outgoing_mins_per_month</th>\n",
       "      <th>outgoing_sms_per_month</th>\n",
       "      <th>monthly_mb</th>\n",
       "      <th>use_id</th>\n",
       "      <th>platform</th>\n",
       "      <th>platform_version</th>\n",
       "      <th>device</th>\n",
       "      <th>use_type_id</th>\n",
       "    </tr>\n",
       "  </thead>\n",
       "  <tbody>\n",
       "    <tr>\n",
       "      <th>40</th>\n",
       "      <td>74.59</td>\n",
       "      <td>150.59</td>\n",
       "      <td>1038.21</td>\n",
       "      <td>22862</td>\n",
       "      <td>android</td>\n",
       "      <td>4.1</td>\n",
       "      <td>HTC One S</td>\n",
       "      <td>1</td>\n",
       "    </tr>\n",
       "    <tr>\n",
       "      <th>26</th>\n",
       "      <td>85.97</td>\n",
       "      <td>26.94</td>\n",
       "      <td>407.01</td>\n",
       "      <td>22831</td>\n",
       "      <td>android</td>\n",
       "      <td>4.1</td>\n",
       "      <td>GT-I8190N</td>\n",
       "      <td>1</td>\n",
       "    </tr>\n",
       "    <tr>\n",
       "      <th>122</th>\n",
       "      <td>376.59</td>\n",
       "      <td>79.84</td>\n",
       "      <td>3114.67</td>\n",
       "      <td>22991</td>\n",
       "      <td>android</td>\n",
       "      <td>6.0</td>\n",
       "      <td>SM-G900F</td>\n",
       "      <td>1</td>\n",
       "    </tr>\n",
       "  </tbody>\n",
       "</table>\n",
       "</div>"
      ],
      "text/plain": [
       "     outgoing_mins_per_month  outgoing_sms_per_month  monthly_mb  use_id  \\\n",
       "40                     74.59                  150.59     1038.21   22862   \n",
       "26                     85.97                   26.94      407.01   22831   \n",
       "122                   376.59                   79.84     3114.67   22991   \n",
       "\n",
       "    platform  platform_version     device  use_type_id  \n",
       "40   android               4.1  HTC One S            1  \n",
       "26   android               4.1  GT-I8190N            1  \n",
       "122  android               6.0   SM-G900F            1  "
      ]
     },
     "execution_count": 25,
     "metadata": {},
     "output_type": "execute_result"
    },
    {
     "data": {
      "text/plain": [
       "(159, 8)"
      ]
     },
     "execution_count": 25,
     "metadata": {},
     "output_type": "execute_result"
    }
   ],
   "source": [
    "inner = user_usage.merge(user_devices, on='use_id')\n",
    "inner.sample(3)\n",
    "inner.shape"
   ]
  },
  {
   "cell_type": "markdown",
   "metadata": {},
   "source": [
    "This is a tricky case. Please, reread and practice this section more to really understand it)))"
   ]
  },
  {
   "cell_type": "markdown",
   "metadata": {},
   "source": [
    "#### Anti-join Pandas"
   ]
  },
  {
   "cell_type": "markdown",
   "metadata": {},
   "source": [
    "Anti-join is the complete opposite of a semi-join. Anti-join:\n",
    "    1. Returns the left table, __excluding__ the intersection\n",
    "    2. Returns only columns from the left table.\n",
    "<img src='images/anti_join.png'></img>"
   ]
  },
  {
   "cell_type": "markdown",
   "metadata": {},
   "source": [
    "As an example, let's do the complete opposite of the previous step in semi-join. Let's find out all the users which are only in the `user_usage` table. Step 1:"
   ]
  },
  {
   "cell_type": "code",
   "execution_count": 26,
   "metadata": {},
   "outputs": [
    {
     "data": {
      "text/html": [
       "<div>\n",
       "<style scoped>\n",
       "    .dataframe tbody tr th:only-of-type {\n",
       "        vertical-align: middle;\n",
       "    }\n",
       "\n",
       "    .dataframe tbody tr th {\n",
       "        vertical-align: top;\n",
       "    }\n",
       "\n",
       "    .dataframe thead th {\n",
       "        text-align: right;\n",
       "    }\n",
       "</style>\n",
       "<table border=\"1\" class=\"dataframe\">\n",
       "  <thead>\n",
       "    <tr style=\"text-align: right;\">\n",
       "      <th></th>\n",
       "      <th>outgoing_mins_per_month</th>\n",
       "      <th>outgoing_sms_per_month</th>\n",
       "      <th>monthly_mb</th>\n",
       "      <th>use_id</th>\n",
       "      <th>platform</th>\n",
       "      <th>platform_version</th>\n",
       "      <th>device</th>\n",
       "      <th>use_type_id</th>\n",
       "      <th>_merge</th>\n",
       "    </tr>\n",
       "  </thead>\n",
       "  <tbody>\n",
       "    <tr>\n",
       "      <th>130</th>\n",
       "      <td>124.70</td>\n",
       "      <td>4.64</td>\n",
       "      <td>11.68</td>\n",
       "      <td>23003</td>\n",
       "      <td>android</td>\n",
       "      <td>5.1</td>\n",
       "      <td>HUAWEI CUN-L01</td>\n",
       "      <td>1.0</td>\n",
       "      <td>both</td>\n",
       "    </tr>\n",
       "    <tr>\n",
       "      <th>146</th>\n",
       "      <td>22.85</td>\n",
       "      <td>34.54</td>\n",
       "      <td>6577.12</td>\n",
       "      <td>23029</td>\n",
       "      <td>android</td>\n",
       "      <td>6.0</td>\n",
       "      <td>HTC One_M8</td>\n",
       "      <td>1.0</td>\n",
       "      <td>both</td>\n",
       "    </tr>\n",
       "    <tr>\n",
       "      <th>100</th>\n",
       "      <td>28.90</td>\n",
       "      <td>29.42</td>\n",
       "      <td>3114.67</td>\n",
       "      <td>22964</td>\n",
       "      <td>android</td>\n",
       "      <td>6.0</td>\n",
       "      <td>SM-G900F</td>\n",
       "      <td>1.0</td>\n",
       "      <td>both</td>\n",
       "    </tr>\n",
       "    <tr>\n",
       "      <th>28</th>\n",
       "      <td>135.09</td>\n",
       "      <td>42.02</td>\n",
       "      <td>5191.12</td>\n",
       "      <td>22833</td>\n",
       "      <td>android</td>\n",
       "      <td>6.0</td>\n",
       "      <td>E6653</td>\n",
       "      <td>1.0</td>\n",
       "      <td>both</td>\n",
       "    </tr>\n",
       "    <tr>\n",
       "      <th>121</th>\n",
       "      <td>4.62</td>\n",
       "      <td>22.94</td>\n",
       "      <td>3114.67</td>\n",
       "      <td>22989</td>\n",
       "      <td>android</td>\n",
       "      <td>6.0</td>\n",
       "      <td>HUAWEI VNS-L31</td>\n",
       "      <td>1.0</td>\n",
       "      <td>both</td>\n",
       "    </tr>\n",
       "  </tbody>\n",
       "</table>\n",
       "</div>"
      ],
      "text/plain": [
       "     outgoing_mins_per_month  outgoing_sms_per_month  monthly_mb  use_id  \\\n",
       "130                   124.70                    4.64       11.68   23003   \n",
       "146                    22.85                   34.54     6577.12   23029   \n",
       "100                    28.90                   29.42     3114.67   22964   \n",
       "28                    135.09                   42.02     5191.12   22833   \n",
       "121                     4.62                   22.94     3114.67   22989   \n",
       "\n",
       "    platform  platform_version          device  use_type_id _merge  \n",
       "130  android               5.1  HUAWEI CUN-L01          1.0   both  \n",
       "146  android               6.0      HTC One_M8          1.0   both  \n",
       "100  android               6.0        SM-G900F          1.0   both  \n",
       "28   android               6.0           E6653          1.0   both  \n",
       "121  android               6.0  HUAWEI VNS-L31          1.0   both  "
      ]
     },
     "execution_count": 26,
     "metadata": {},
     "output_type": "execute_result"
    }
   ],
   "source": [
    "# Perform a left join\n",
    "left_joined = user_usage.merge(user_devices, how='left', on='use_id', indicator=True)\n",
    "left_joined.sample(5)"
   ]
  },
  {
   "cell_type": "markdown",
   "metadata": {},
   "source": [
    "Now, I introduce you to another helpful parameter: `indicator`. When set to `True`, the resulting table of the merge will have one extra column, `_merge`. It indicates whether a row is a result of both tables or one side. As you see, there is `left_only` string in the rows that did not have a match. Now, we want to subset for those rows:"
   ]
  },
  {
   "cell_type": "code",
   "execution_count": 27,
   "metadata": {},
   "outputs": [
    {
     "data": {
      "text/plain": [
       "222    24466\n",
       "196    23890\n",
       "214    24399\n",
       "Name: use_id, dtype: int64"
      ]
     },
     "execution_count": 27,
     "metadata": {},
     "output_type": "execute_result"
    }
   ],
   "source": [
    "left_only = left_joined.loc[left_joined['_merge'] == 'left_only', 'use_id']\n",
    "left_only.sample(3)"
   ]
  },
  {
   "cell_type": "markdown",
   "metadata": {},
   "source": [
    "I used `.loc` subsetting to immediaely get the user IDs. Now we can use this pandas `series` to subset the original left table:"
   ]
  },
  {
   "cell_type": "code",
   "execution_count": 28,
   "metadata": {},
   "outputs": [
    {
     "data": {
      "text/html": [
       "<div>\n",
       "<style scoped>\n",
       "    .dataframe tbody tr th:only-of-type {\n",
       "        vertical-align: middle;\n",
       "    }\n",
       "\n",
       "    .dataframe tbody tr th {\n",
       "        vertical-align: top;\n",
       "    }\n",
       "\n",
       "    .dataframe thead th {\n",
       "        text-align: right;\n",
       "    }\n",
       "</style>\n",
       "<table border=\"1\" class=\"dataframe\">\n",
       "  <thead>\n",
       "    <tr style=\"text-align: right;\">\n",
       "      <th></th>\n",
       "      <th>outgoing_mins_per_month</th>\n",
       "      <th>outgoing_sms_per_month</th>\n",
       "      <th>monthly_mb</th>\n",
       "      <th>use_id</th>\n",
       "    </tr>\n",
       "  </thead>\n",
       "  <tbody>\n",
       "    <tr>\n",
       "      <th>198</th>\n",
       "      <td>198.90</td>\n",
       "      <td>45.22</td>\n",
       "      <td>625.40</td>\n",
       "      <td>23909</td>\n",
       "    </tr>\n",
       "    <tr>\n",
       "      <th>234</th>\n",
       "      <td>558.52</td>\n",
       "      <td>70.64</td>\n",
       "      <td>3334.28</td>\n",
       "      <td>24963</td>\n",
       "    </tr>\n",
       "    <tr>\n",
       "      <th>210</th>\n",
       "      <td>677.02</td>\n",
       "      <td>101.86</td>\n",
       "      <td>1132.23</td>\n",
       "      <td>24318</td>\n",
       "    </tr>\n",
       "    <tr>\n",
       "      <th>159</th>\n",
       "      <td>501.92</td>\n",
       "      <td>165.52</td>\n",
       "      <td>2112.59</td>\n",
       "      <td>23057</td>\n",
       "    </tr>\n",
       "    <tr>\n",
       "      <th>183</th>\n",
       "      <td>190.08</td>\n",
       "      <td>30.92</td>\n",
       "      <td>369.84</td>\n",
       "      <td>23591</td>\n",
       "    </tr>\n",
       "  </tbody>\n",
       "</table>\n",
       "</div>"
      ],
      "text/plain": [
       "     outgoing_mins_per_month  outgoing_sms_per_month  monthly_mb  use_id\n",
       "198                   198.90                   45.22      625.40   23909\n",
       "234                   558.52                   70.64     3334.28   24963\n",
       "210                   677.02                  101.86     1132.23   24318\n",
       "159                   501.92                  165.52     2112.59   23057\n",
       "183                   190.08                   30.92      369.84   23591"
      ]
     },
     "execution_count": 28,
     "metadata": {},
     "output_type": "execute_result"
    },
    {
     "data": {
      "text/plain": [
       "(81, 4)"
      ]
     },
     "execution_count": 28,
     "metadata": {},
     "output_type": "execute_result"
    }
   ],
   "source": [
    "left_only_users = user_usage[user_usage['use_id'].isin(left_only)]\n",
    "left_only_users.sample(5)\n",
    "left_only_users.shape"
   ]
  },
  {
   "cell_type": "markdown",
   "metadata": {},
   "source": [
    "Again, this is a bit more complicated, so get practicing..."
   ]
  },
  {
   "cell_type": "markdown",
   "metadata": {},
   "source": [
    "### Pandas concat()"
   ]
  },
  {
   "cell_type": "markdown",
   "metadata": {},
   "source": [
    "Finally, we covered most of the `merge` function. Now, `pd.concat()` is used for concatenating/adding two or more tables along a particular axis. It also provides some functionalities to manipulate axes. A common way the function is used is when adding tables vertically."
   ]
  },
  {
   "cell_type": "markdown",
   "metadata": {},
   "source": [
    "#### Pandas vertical concatenation of dataframes"
   ]
  },
  {
   "cell_type": "markdown",
   "metadata": {},
   "source": [
    "To add two or more tables vertically, we use `concat()` method, with the argument set to `index`.\n",
    "<img src='images/vertical_concat.png'></img>"
   ]
  },
  {
   "cell_type": "markdown",
   "metadata": {},
   "source": [
    "Let's load one the sample tables in three chunks:"
   ]
  },
  {
   "cell_type": "code",
   "execution_count": null,
   "metadata": {},
   "outputs": [],
   "source": [
    "# Load the sample table in three chunks\n",
    "user_usage_1, user_usage_2, user_usage_3 = [chunk for chunk in pd.read_csv('data/user_usage.csv', chunksize=80)]\n",
    "\n",
    "# Concatenate the three chunks vertically\n",
    "user_usage = pd.concat([user_usage_1, user_usage_2, user_usage_3], axis='index')\n",
    "user_usage.shape"
   ]
  },
  {
   "cell_type": "markdown",
   "metadata": {},
   "source": [
    "Pay attention to how I used the `chunksize` parameter! It is useful to know as it will be immensely helpful when loading large datasets!"
   ]
  },
  {
   "cell_type": "markdown",
   "metadata": {},
   "source": [
    "When using `concat()` function, we always pass the tables to be concatenated in a list. To specify the concat axis, we use `axis` parameter. I highly recommend you pass string values to `axis` parameter such as `index` and `columns`. Passing 0 or 1 can be confusing for a lot of people. So, it is a good practice to improve code readability."
   ]
  },
  {
   "cell_type": "markdown",
   "metadata": {},
   "source": [
    "`concat()` function does not pay attention to axis labels. If you have numbered indexes in all of your tables, they will be mixed when you concatenate. So, a helpful paramter for resolving the issue is `ignore_index`:"
   ]
  },
  {
   "cell_type": "code",
   "execution_count": null,
   "metadata": {},
   "outputs": [],
   "source": [
    "pd.concat([user_usage_3, user_usage_1, user_usage_2], axis='index', ignore_index=True).head()"
   ]
  },
  {
   "cell_type": "markdown",
   "metadata": {},
   "source": [
    "This will reset the index and it will count from 0 to n-1."
   ]
  },
  {
   "cell_type": "markdown",
   "metadata": {},
   "source": [
    "Another use case for `concat()` is when you have similar tables but with different column names. When you concatenate tables with differing column names, use `join` parameter with a suitable string `value`.\n",
    "<img src='images/inner_vertical.png'></img>"
   ]
  },
  {
   "cell_type": "code",
   "execution_count": null,
   "metadata": {
    "scrolled": true
   },
   "outputs": [],
   "source": [
    "# Concat vertically with an inner join\n",
    "pd.concat([user_usage, user_devices], join='inner', axis='index').head(3)"
   ]
  },
  {
   "cell_type": "markdown",
   "metadata": {},
   "source": [
    "Using `concat` with `inner` value resulted in a one column dataframe since it is the only common column between tables. Using `left`, `right`, or `outer` would have expected results but values stacked vertically."
   ]
  },
  {
   "cell_type": "markdown",
   "metadata": {},
   "source": [
    "### Pandas append()"
   ]
  },
  {
   "cell_type": "markdown",
   "metadata": {},
   "source": [
    "`.append()` method:\n",
    "    1. Simplified version of `concat()` method\n",
    "    2. Supports: `ignore_index`\n",
    "    3. Does NOT support: `join` and other differences.\n",
    "\n",
    "Another difference is that it is a DataFrame method. Meaning that it is called on a DataFrame rather than explicitly like `pd.concat`. Simple example:"
   ]
  },
  {
   "cell_type": "code",
   "execution_count": null,
   "metadata": {},
   "outputs": [],
   "source": [
    "user_usage = user_usage_1.append([user_usage_2, user_usage_3], ignore_index=True)\n",
    "user_usage.shape"
   ]
  },
  {
   "cell_type": "markdown",
   "metadata": {},
   "source": [
    "### Types of Data Mappings"
   ]
  },
  {
   "cell_type": "markdown",
   "metadata": {},
   "source": [
    "We saw several types of joins above. In each one, we specifically told the methods the type of join we want and just took a leap of faith that it will return the correct result. However, there are methods to further ensure that we get the correct results. To do the task in code, you have to understand 4 types of data mappings in merges:\n",
    "    1. One to One\n",
    "    2. One to Many\n",
    "    3. Many to One\n",
    "    4. Many to Many\n",
    "Let's elaborate. When we use a one_to_one mapping, we expect that our join should return one and only one match for each row in the left table. If we are joing a table with 200 rows with a one_to_one mapping, the result should also contain 200 rows.\n",
    "\n",
    "Similarly, if it is one_to_many, we allow multiple matches for a single row in our left table. Let's how we implement the idea in code:"
   ]
  },
  {
   "cell_type": "code",
   "execution_count": null,
   "metadata": {},
   "outputs": [],
   "source": [
    "user_usage.merge(user_devices, on='use_id', validate='one_to_one').sample(3)"
   ]
  },
  {
   "cell_type": "markdown",
   "metadata": {},
   "source": [
    "`merge()` method provides a helpful parameter for validating these kinds of merges. It accepts only four values:\n",
    "    1. `one_to_one`\n",
    "    2. `one_to_many`\n",
    "    3. `many_to_one`\n",
    "    4. `many_to_many`\n",
    "\n",
    "What's more, `pandas` will raise a `MergeError` if we validate on an incorrect mapping:"
   ]
  },
  {
   "cell_type": "code",
   "execution_count": null,
   "metadata": {},
   "outputs": [],
   "source": [
    "# Load new sample data\n",
    "films = pd.read_csv('data/films.csv')\n",
    "directors = pd.read_csv('data/directors.csv')"
   ]
  },
  {
   "cell_type": "code",
   "execution_count": null,
   "metadata": {},
   "outputs": [],
   "source": [
    "films.merge(directors, on='director_id', validate='one_to_one')"
   ]
  },
  {
   "cell_type": "markdown",
   "metadata": {},
   "source": [
    "As you can see, the merged raised an error. Let's set it to the correct mapping:"
   ]
  },
  {
   "cell_type": "code",
   "execution_count": null,
   "metadata": {},
   "outputs": [],
   "source": [
    "films.merge(directors, on='director_id', validate='many_to_many').sample(3)"
   ]
  },
  {
   "cell_type": "markdown",
   "metadata": {},
   "source": [
    "#### Verifying concatenations"
   ]
  },
  {
   "cell_type": "markdown",
   "metadata": {},
   "source": [
    "It is also possible to validate on axes when using `.concat()` method. It has `verify_integrity` parameter which is set to `False` by default. When set to True, it will raise a ValueError if the axis or columns have duplicate names:"
   ]
  },
  {
   "cell_type": "code",
   "execution_count": null,
   "metadata": {
    "scrolled": true
   },
   "outputs": [],
   "source": [
    "# Set a new index\n",
    "directors.set_index('name', inplace=True)"
   ]
  },
  {
   "cell_type": "markdown",
   "metadata": {},
   "source": [
    "Let's just concatenate the dataframe to itself for the sake of an example:"
   ]
  },
  {
   "cell_type": "code",
   "execution_count": null,
   "metadata": {},
   "outputs": [],
   "source": [
    "pd.concat([directors, directors], verify_integrity=True)"
   ]
  },
  {
   "cell_type": "markdown",
   "metadata": {},
   "source": [
    "### Conclusion"
   ]
  },
  {
   "cell_type": "markdown",
   "metadata": {},
   "source": [
    "Finally, the things I wanted to cover in this article are over. We talked about so many different methods for joining data. Believe it or not, there is still more to this topic such as `merge_ordered()` and `merge_asof()` methods but they might be a topic for another article. This just shows how deep and large `pandas` library is and what you can do with it. I intended this article as a one-stop place for combining data. Hope you will use it in practice..."
   ]
  }
 ],
 "metadata": {
  "kernelspec": {
   "display_name": "Personal",
   "language": "python",
   "name": "personal"
  },
  "language_info": {
   "codemirror_mode": {
    "name": "ipython",
    "version": 3
   },
   "file_extension": ".py",
   "mimetype": "text/x-python",
   "name": "python",
   "nbconvert_exporter": "python",
   "pygments_lexer": "ipython3",
   "version": "3.8.3"
  }
 },
 "nbformat": 4,
 "nbformat_minor": 4
}
