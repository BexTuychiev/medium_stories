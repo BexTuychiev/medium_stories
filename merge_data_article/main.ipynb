{
 "cells": [
  {
   "cell_type": "markdown",
   "metadata": {},
   "source": [
    "# Ultimate Guide to Merging data in Pandas\n",
    "## From semi/anti joins to validating data merges\n",
    "\n",
    "### Introduction\n",
    "With each data science project or dataset, you want to perform several analyses and create plots to find insights. Often, the raw data never comes in one massive table but in many separate ones. To answer your questions, you should have the skills to join multiple tables into one and then perform operations on them.\n",
    "\n",
    "You can acquire these skills by learning different kinds of merge operations such as inner join, left and right joins, self and anti joins, merging on indexes, etc.\n",
    "\n",
    "The goal of this article is that you come away with a strong knowledge of combining data in pandas using precise methods suited for any question you want to ask about your data.\n",
    "\n",
    "### Pandas merge()\n",
    "Pandas provide several methods for performing merges on dataframes. Among all the others `merge()` method is the most flexible one. It is a dataframe method and the general syntax is as follows:\n",
    "\n"
   ]
  },
  {
   "cell_type": "markdown",
   "metadata": {},
   "source": [
    "df1.merge(df2, on='common_column')"
   ]
  },
  {
   "cell_type": "markdown",
   "metadata": {},
   "source": [
    "When combining tables, there are two terminologies you should be familiar with: The name of the table you use first is called __the left table__ while the other is called __the right table__. In the code snippet above, the left table is `df1` and the right table is `df2`. Also, the verbs join, combine and merge are all used interchangebly.\n",
    "\n",
    "Now let's see how we perform an inner join:\n",
    "\n",
    "An inner join will only return rows that have matching values in both tables. During the joining process, you will have to know the common table name which exists in both tables. "
   ]
  },
  {
   "cell_type": "code",
   "execution_count": 5,
   "metadata": {},
   "outputs": [],
   "source": [
    "# Load necessary libraries\n",
    "import pandas as pd\n",
    "import numpy as np"
   ]
  },
  {
   "cell_type": "code",
   "execution_count": 6,
   "metadata": {},
   "outputs": [],
   "source": [
    "# Enable multiple cell outputs\n",
    "from IPython.core.interactiveshell import InteractiveShell\n",
    "InteractiveShell.ast_node_interactivity = \"all\""
   ]
  },
  {
   "cell_type": "code",
   "execution_count": 17,
   "metadata": {},
   "outputs": [],
   "source": [
    "# Load necessary dataframes\n",
    "user_usage = pd.read_csv('data/user_usage.csv')\n",
    "user_devices = pd.read_csv('data/user_device.csv').drop('user_id', axis='columns')"
   ]
  },
  {
   "cell_type": "markdown",
   "metadata": {},
   "source": [
    "### Basic Exploration"
   ]
  },
  {
   "cell_type": "code",
   "execution_count": 19,
   "metadata": {},
   "outputs": [
    {
     "name": "stdout",
     "output_type": "stream",
     "text": [
      "<class 'pandas.core.frame.DataFrame'>\n",
      "RangeIndex: 240 entries, 0 to 239\n",
      "Data columns (total 4 columns):\n",
      " #   Column                   Non-Null Count  Dtype  \n",
      "---  ------                   --------------  -----  \n",
      " 0   outgoing_mins_per_month  240 non-null    float64\n",
      " 1   outgoing_sms_per_month   240 non-null    float64\n",
      " 2   monthly_mb               240 non-null    float64\n",
      " 3   use_id                   240 non-null    int64  \n",
      "dtypes: float64(3), int64(1)\n",
      "memory usage: 7.6 KB\n",
      "<class 'pandas.core.frame.DataFrame'>\n",
      "RangeIndex: 272 entries, 0 to 271\n",
      "Data columns (total 5 columns):\n",
      " #   Column            Non-Null Count  Dtype  \n",
      "---  ------            --------------  -----  \n",
      " 0   use_id            272 non-null    int64  \n",
      " 1   platform          272 non-null    object \n",
      " 2   platform_version  272 non-null    float64\n",
      " 3   device            272 non-null    object \n",
      " 4   use_type_id       272 non-null    int64  \n",
      "dtypes: float64(1), int64(2), object(2)\n",
      "memory usage: 10.8+ KB\n"
     ]
    }
   ],
   "source": [
    "user_usage.info()\n",
    "user_devices.info()"
   ]
  },
  {
   "cell_type": "code",
   "execution_count": 21,
   "metadata": {},
   "outputs": [
    {
     "data": {
      "text/html": [
       "<div>\n",
       "<style scoped>\n",
       "    .dataframe tbody tr th:only-of-type {\n",
       "        vertical-align: middle;\n",
       "    }\n",
       "\n",
       "    .dataframe tbody tr th {\n",
       "        vertical-align: top;\n",
       "    }\n",
       "\n",
       "    .dataframe thead th {\n",
       "        text-align: right;\n",
       "    }\n",
       "</style>\n",
       "<table border=\"1\" class=\"dataframe\">\n",
       "  <thead>\n",
       "    <tr style=\"text-align: right;\">\n",
       "      <th></th>\n",
       "      <th>outgoing_mins_per_month</th>\n",
       "      <th>outgoing_sms_per_month</th>\n",
       "      <th>monthly_mb</th>\n",
       "      <th>use_id</th>\n",
       "    </tr>\n",
       "  </thead>\n",
       "  <tbody>\n",
       "    <tr>\n",
       "      <th>count</th>\n",
       "      <td>240.000000</td>\n",
       "      <td>240.000000</td>\n",
       "      <td>240.000000</td>\n",
       "      <td>240.000000</td>\n",
       "    </tr>\n",
       "    <tr>\n",
       "      <th>mean</th>\n",
       "      <td>274.559167</td>\n",
       "      <td>98.968292</td>\n",
       "      <td>3628.602042</td>\n",
       "      <td>23285.516667</td>\n",
       "    </tr>\n",
       "    <tr>\n",
       "      <th>std</th>\n",
       "      <td>293.745744</td>\n",
       "      <td>111.172685</td>\n",
       "      <td>4486.311513</td>\n",
       "      <td>624.139253</td>\n",
       "    </tr>\n",
       "    <tr>\n",
       "      <th>min</th>\n",
       "      <td>0.500000</td>\n",
       "      <td>0.250000</td>\n",
       "      <td>0.000000</td>\n",
       "      <td>22787.000000</td>\n",
       "    </tr>\n",
       "    <tr>\n",
       "      <th>25%</th>\n",
       "      <td>74.590000</td>\n",
       "      <td>29.030000</td>\n",
       "      <td>1132.230000</td>\n",
       "      <td>22888.750000</td>\n",
       "    </tr>\n",
       "    <tr>\n",
       "      <th>50%</th>\n",
       "      <td>189.705000</td>\n",
       "      <td>70.775000</td>\n",
       "      <td>1797.975000</td>\n",
       "      <td>22987.500000</td>\n",
       "    </tr>\n",
       "    <tr>\n",
       "      <th>75%</th>\n",
       "      <td>336.045000</td>\n",
       "      <td>125.627500</td>\n",
       "      <td>4246.617500</td>\n",
       "      <td>23482.500000</td>\n",
       "    </tr>\n",
       "    <tr>\n",
       "      <th>max</th>\n",
       "      <td>1816.630000</td>\n",
       "      <td>906.920000</td>\n",
       "      <td>31146.670000</td>\n",
       "      <td>25220.000000</td>\n",
       "    </tr>\n",
       "  </tbody>\n",
       "</table>\n",
       "</div>"
      ],
      "text/plain": [
       "       outgoing_mins_per_month  outgoing_sms_per_month    monthly_mb  \\\n",
       "count               240.000000              240.000000    240.000000   \n",
       "mean                274.559167               98.968292   3628.602042   \n",
       "std                 293.745744              111.172685   4486.311513   \n",
       "min                   0.500000                0.250000      0.000000   \n",
       "25%                  74.590000               29.030000   1132.230000   \n",
       "50%                 189.705000               70.775000   1797.975000   \n",
       "75%                 336.045000              125.627500   4246.617500   \n",
       "max                1816.630000              906.920000  31146.670000   \n",
       "\n",
       "             use_id  \n",
       "count    240.000000  \n",
       "mean   23285.516667  \n",
       "std      624.139253  \n",
       "min    22787.000000  \n",
       "25%    22888.750000  \n",
       "50%    22987.500000  \n",
       "75%    23482.500000  \n",
       "max    25220.000000  "
      ]
     },
     "execution_count": 21,
     "metadata": {},
     "output_type": "execute_result"
    }
   ],
   "source": [
    "user_usage.describe()"
   ]
  },
  {
   "cell_type": "markdown",
   "metadata": {},
   "source": [
    "Let's say we have these three tables:"
   ]
  },
  {
   "cell_type": "code",
   "execution_count": 18,
   "metadata": {
    "scrolled": false
   },
   "outputs": [
    {
     "data": {
      "text/html": [
       "<div>\n",
       "<style scoped>\n",
       "    .dataframe tbody tr th:only-of-type {\n",
       "        vertical-align: middle;\n",
       "    }\n",
       "\n",
       "    .dataframe tbody tr th {\n",
       "        vertical-align: top;\n",
       "    }\n",
       "\n",
       "    .dataframe thead th {\n",
       "        text-align: right;\n",
       "    }\n",
       "</style>\n",
       "<table border=\"1\" class=\"dataframe\">\n",
       "  <thead>\n",
       "    <tr style=\"text-align: right;\">\n",
       "      <th></th>\n",
       "      <th>outgoing_mins_per_month</th>\n",
       "      <th>outgoing_sms_per_month</th>\n",
       "      <th>monthly_mb</th>\n",
       "      <th>use_id</th>\n",
       "    </tr>\n",
       "  </thead>\n",
       "  <tbody>\n",
       "    <tr>\n",
       "      <th>0</th>\n",
       "      <td>21.97</td>\n",
       "      <td>4.82</td>\n",
       "      <td>1557.33</td>\n",
       "      <td>22787</td>\n",
       "    </tr>\n",
       "    <tr>\n",
       "      <th>1</th>\n",
       "      <td>1710.08</td>\n",
       "      <td>136.88</td>\n",
       "      <td>7267.55</td>\n",
       "      <td>22788</td>\n",
       "    </tr>\n",
       "    <tr>\n",
       "      <th>2</th>\n",
       "      <td>1710.08</td>\n",
       "      <td>136.88</td>\n",
       "      <td>7267.55</td>\n",
       "      <td>22789</td>\n",
       "    </tr>\n",
       "    <tr>\n",
       "      <th>3</th>\n",
       "      <td>94.46</td>\n",
       "      <td>35.17</td>\n",
       "      <td>519.12</td>\n",
       "      <td>22790</td>\n",
       "    </tr>\n",
       "    <tr>\n",
       "      <th>4</th>\n",
       "      <td>71.59</td>\n",
       "      <td>79.26</td>\n",
       "      <td>1557.33</td>\n",
       "      <td>22792</td>\n",
       "    </tr>\n",
       "  </tbody>\n",
       "</table>\n",
       "</div>"
      ],
      "text/plain": [
       "   outgoing_mins_per_month  outgoing_sms_per_month  monthly_mb  use_id\n",
       "0                    21.97                    4.82     1557.33   22787\n",
       "1                  1710.08                  136.88     7267.55   22788\n",
       "2                  1710.08                  136.88     7267.55   22789\n",
       "3                    94.46                   35.17      519.12   22790\n",
       "4                    71.59                   79.26     1557.33   22792"
      ]
     },
     "execution_count": 18,
     "metadata": {},
     "output_type": "execute_result"
    },
    {
     "data": {
      "text/html": [
       "<div>\n",
       "<style scoped>\n",
       "    .dataframe tbody tr th:only-of-type {\n",
       "        vertical-align: middle;\n",
       "    }\n",
       "\n",
       "    .dataframe tbody tr th {\n",
       "        vertical-align: top;\n",
       "    }\n",
       "\n",
       "    .dataframe thead th {\n",
       "        text-align: right;\n",
       "    }\n",
       "</style>\n",
       "<table border=\"1\" class=\"dataframe\">\n",
       "  <thead>\n",
       "    <tr style=\"text-align: right;\">\n",
       "      <th></th>\n",
       "      <th>use_id</th>\n",
       "      <th>platform</th>\n",
       "      <th>platform_version</th>\n",
       "      <th>device</th>\n",
       "      <th>use_type_id</th>\n",
       "    </tr>\n",
       "  </thead>\n",
       "  <tbody>\n",
       "    <tr>\n",
       "      <th>0</th>\n",
       "      <td>22782</td>\n",
       "      <td>ios</td>\n",
       "      <td>10.2</td>\n",
       "      <td>iPhone7,2</td>\n",
       "      <td>2</td>\n",
       "    </tr>\n",
       "    <tr>\n",
       "      <th>1</th>\n",
       "      <td>22783</td>\n",
       "      <td>android</td>\n",
       "      <td>6.0</td>\n",
       "      <td>Nexus 5</td>\n",
       "      <td>3</td>\n",
       "    </tr>\n",
       "    <tr>\n",
       "      <th>2</th>\n",
       "      <td>22784</td>\n",
       "      <td>android</td>\n",
       "      <td>5.1</td>\n",
       "      <td>SM-G903F</td>\n",
       "      <td>1</td>\n",
       "    </tr>\n",
       "    <tr>\n",
       "      <th>3</th>\n",
       "      <td>22785</td>\n",
       "      <td>ios</td>\n",
       "      <td>10.2</td>\n",
       "      <td>iPhone7,2</td>\n",
       "      <td>3</td>\n",
       "    </tr>\n",
       "    <tr>\n",
       "      <th>4</th>\n",
       "      <td>22786</td>\n",
       "      <td>android</td>\n",
       "      <td>6.0</td>\n",
       "      <td>ONE E1003</td>\n",
       "      <td>1</td>\n",
       "    </tr>\n",
       "  </tbody>\n",
       "</table>\n",
       "</div>"
      ],
      "text/plain": [
       "   use_id platform  platform_version     device  use_type_id\n",
       "0   22782      ios              10.2  iPhone7,2            2\n",
       "1   22783  android               6.0    Nexus 5            3\n",
       "2   22784  android               5.1   SM-G903F            1\n",
       "3   22785      ios              10.2  iPhone7,2            3\n",
       "4   22786  android               6.0  ONE E1003            1"
      ]
     },
     "execution_count": 18,
     "metadata": {},
     "output_type": "execute_result"
    }
   ],
   "source": [
    "user_usage.head()\n",
    "user_devices.head()"
   ]
  },
  {
   "cell_type": "markdown",
   "metadata": {},
   "source": [
    "This data was downloaded from the KillBiller application. KillBiller was a free service that compared every mobile tariff in UK and Ireland. The first, `user_usage` table contains monthyl statistics of mobile usage of users. `user_devices` table provides details about each users phone such as operating system and phone model.\n",
    "\n",
    "#### Question 1:\n",
    "How many users use Android OS and how many use iOS?\n",
    "\n",
    "To answer this question, we will need the information from both tables. There is one linking attribute between both tables: `use_id`. We will use this column in our merge:"
   ]
  },
  {
   "cell_type": "code",
   "execution_count": 31,
   "metadata": {},
   "outputs": [
    {
     "data": {
      "text/html": [
       "<div>\n",
       "<style scoped>\n",
       "    .dataframe tbody tr th:only-of-type {\n",
       "        vertical-align: middle;\n",
       "    }\n",
       "\n",
       "    .dataframe tbody tr th {\n",
       "        vertical-align: top;\n",
       "    }\n",
       "\n",
       "    .dataframe thead th {\n",
       "        text-align: right;\n",
       "    }\n",
       "</style>\n",
       "<table border=\"1\" class=\"dataframe\">\n",
       "  <thead>\n",
       "    <tr style=\"text-align: right;\">\n",
       "      <th></th>\n",
       "      <th>outgoing_mins_per_month</th>\n",
       "      <th>outgoing_sms_per_month</th>\n",
       "      <th>monthly_mb</th>\n",
       "      <th>use_id</th>\n",
       "      <th>platform</th>\n",
       "    </tr>\n",
       "  </thead>\n",
       "  <tbody>\n",
       "    <tr>\n",
       "      <th>72</th>\n",
       "      <td>8.14</td>\n",
       "      <td>0.79</td>\n",
       "      <td>1777.61</td>\n",
       "      <td>22912</td>\n",
       "      <td>android</td>\n",
       "    </tr>\n",
       "    <tr>\n",
       "      <th>64</th>\n",
       "      <td>145.55</td>\n",
       "      <td>11.50</td>\n",
       "      <td>3114.67</td>\n",
       "      <td>22895</td>\n",
       "      <td>android</td>\n",
       "    </tr>\n",
       "    <tr>\n",
       "      <th>61</th>\n",
       "      <td>28.85</td>\n",
       "      <td>30.22</td>\n",
       "      <td>3114.67</td>\n",
       "      <td>22890</td>\n",
       "      <td>android</td>\n",
       "    </tr>\n",
       "    <tr>\n",
       "      <th>137</th>\n",
       "      <td>101.59</td>\n",
       "      <td>84.41</td>\n",
       "      <td>5191.12</td>\n",
       "      <td>23018</td>\n",
       "      <td>android</td>\n",
       "    </tr>\n",
       "    <tr>\n",
       "      <th>17</th>\n",
       "      <td>797.06</td>\n",
       "      <td>7.67</td>\n",
       "      <td>15573.33</td>\n",
       "      <td>22816</td>\n",
       "      <td>android</td>\n",
       "    </tr>\n",
       "  </tbody>\n",
       "</table>\n",
       "</div>"
      ],
      "text/plain": [
       "     outgoing_mins_per_month  outgoing_sms_per_month  monthly_mb  use_id  \\\n",
       "72                      8.14                    0.79     1777.61   22912   \n",
       "64                    145.55                   11.50     3114.67   22895   \n",
       "61                     28.85                   30.22     3114.67   22890   \n",
       "137                   101.59                   84.41     5191.12   23018   \n",
       "17                    797.06                    7.67    15573.33   22816   \n",
       "\n",
       "    platform  \n",
       "72   android  \n",
       "64   android  \n",
       "61   android  \n",
       "137  android  \n",
       "17   android  "
      ]
     },
     "execution_count": 31,
     "metadata": {},
     "output_type": "execute_result"
    },
    {
     "name": "stdout",
     "output_type": "stream",
     "text": [
      "Number of users for each OS: android    157\n",
      "ios          2\n",
      "Name: platform, dtype: int64\n"
     ]
    }
   ],
   "source": [
    "usage_w_os = user_usage.merge(user_devices[['platform', 'use_id']], on='use_id', how='inner')\n",
    "usage_w_os.sample(5)\n",
    "print(f'Number of users for each OS: {usage_w_os[\"platform\"].value_counts()}')"
   ]
  },
  {
   "cell_type": "markdown",
   "metadata": {},
   "source": [
    "It looks like there is a huge difference between the two operating systems in our dataset. \n",
    "\n",
    "In the merge above, we used an example of an inner join. In `merge()` function `how` argument is set to `inner` by default so we did not have to write it out. When merging two tables using the `merge()` function, we use `on` argument to specify the common column. If there are multiple, it is also possible to pass a list of columns to the argument and `pandas` will take care of the rest. \n",
    "\n",
    "Note that as a right table, I subset the `user_devices` table to exclude irrelevant columns to the question. "
   ]
  },
  {
   "cell_type": "markdown",
   "metadata": {},
   "source": [
    "Now, as we explore further, we will notice that number of given users in two datasets is different:"
   ]
  },
  {
   "cell_type": "code",
   "execution_count": 33,
   "metadata": {},
   "outputs": [
    {
     "name": "stdout",
     "output_type": "stream",
     "text": [
      "Dimensions of user_usage table: (240, 4)\n",
      "Dimensions of user_devices table: (272, 5)\n",
      "Dimensions of the joined table: (159, 5)\n"
     ]
    }
   ],
   "source": [
    "print(f'Dimensions of user_usage table: {user_usage.shape}')\n",
    "print(f'Dimensions of user_devices table: {user_devices.shape}')\n",
    "print(f'Dimensions of the joined table: {usage_w_os.shape}')"
   ]
  },
  {
   "cell_type": "markdown",
   "metadata": {},
   "source": [
    "Clearly, matching user IDs in both tables were 159. This means there are user IDs which are in `user_devices` table and not in `user_usage` table and vice versa. So, the next question we want to ask is:\n",
    "\n",
    "#### Question 2\n",
    "How many users use Android OS and iOS, including all the users without any monthly stats in `user_usage` table?"
   ]
  },
  {
   "cell_type": "markdown",
   "metadata": {},
   "source": [
    "We can answer this question by using either a __left__ or a __right__ join. First let's look at the general case of one-sided joins:"
   ]
  },
  {
   "cell_type": "code",
   "execution_count": null,
   "metadata": {},
   "outputs": [],
   "source": []
  }
 ],
 "metadata": {
  "kernelspec": {
   "display_name": "Personal",
   "language": "python",
   "name": "personal"
  },
  "language_info": {
   "codemirror_mode": {
    "name": "ipython",
    "version": 3
   },
   "file_extension": ".py",
   "mimetype": "text/x-python",
   "name": "python",
   "nbconvert_exporter": "python",
   "pygments_lexer": "ipython3",
   "version": "3.8.3"
  }
 },
 "nbformat": 4,
 "nbformat_minor": 4
}
