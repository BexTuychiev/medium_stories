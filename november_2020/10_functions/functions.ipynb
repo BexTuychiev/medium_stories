{
 "cells": [
  {
   "cell_type": "markdown",
   "metadata": {},
   "source": [
    "# Learn to Write Functions Others Can Use\n",
    "## I would rather read binary and bleed from my eyes\n",
    "<img src='images/relaxed.jpg'></img>\n",
    "<figcaption style=\"text-align: center;\">\n",
    "    <strong>\n",
    "        Photo by \n",
    "        <a href='https://www.pexels.com/@dziana-hasanbekava?utm_content=attributionCopyText&utm_medium=referral&utm_source=pexels'>Dziana Hasanbekova</a>\n",
    "        on \n",
    "        <a href='https://www.pexels.com/photo/unrecognizable-man-relaxing-on-hammock-5480702/?utm_content=attributionCopyText&utm_medium=referral&utm_source=pexels'>Unsplash</a>\n",
    "    </strong>\n",
    "</figcaption>"
   ]
  },
  {
   "cell_type": "markdown",
   "metadata": {},
   "source": [
    "### Introduction"
   ]
  },
  {
   "cell_type": "markdown",
   "metadata": {},
   "source": [
    "Let's get this straight: every single line of code is written for other humans to read. Period. \n",
    "\n",
    "Ever wondered why everyone codes in English? Why not in Chinese or Russian or Klingon or in ancient Farsi? Actually, does the coding language matter? Well, no. Every source code, regardless of the language, is converted into a machine language ONLY computer can work with. So the underlying truth why all programming languages use English keywords is that it is the global language and understood by billions. Writing source codes in English makes it easier for humans to create computer programs and collaborate with other programmers across the globe. It all comes down to writing understandable code. \n",
    "\n",
    "The code you write is your face, the first thing other programmers judge you with. That's why, the sooner you instill this truth the better."
   ]
  },
  {
   "cell_type": "markdown",
   "metadata": {},
   "source": [
    "### Docstrings"
   ]
  },
  {
   "cell_type": "markdown",
   "metadata": {},
   "source": [
    "### DRY It Out And Do One Thing"
   ]
  }
 ],
 "metadata": {
  "kernelspec": {
   "display_name": "medium_articles",
   "language": "python",
   "name": "medium_articles"
  },
  "language_info": {
   "codemirror_mode": {
    "name": "ipython",
    "version": 3
   },
   "file_extension": ".py",
   "mimetype": "text/x-python",
   "name": "python",
   "nbconvert_exporter": "python",
   "pygments_lexer": "ipython3",
   "version": "3.8.5"
  }
 },
 "nbformat": 4,
 "nbformat_minor": 4
}
