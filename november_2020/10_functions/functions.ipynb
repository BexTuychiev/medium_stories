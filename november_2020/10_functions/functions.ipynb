{
 "cells": [
  {
   "cell_type": "markdown",
   "metadata": {},
   "source": [
    "# Learn to Write Functions Others Can Use in Python\n",
    "## I would rather read binary and bleed from my eyes\n",
    "<img src='images/relaxed.jpg'></img>\n",
    "<figcaption style=\"text-align: center;\">\n",
    "    <strong>\n",
    "        Photo by \n",
    "        <a href='https://www.pexels.com/@dziana-hasanbekava?utm_content=attributionCopyText&utm_medium=referral&utm_source=pexels'>Dziana Hasanbekova</a>\n",
    "        on \n",
    "        <a href='https://www.pexels.com/photo/unrecognizable-man-relaxing-on-hammock-5480702/?utm_content=attributionCopyText&utm_medium=referral&utm_source=pexels'>Unsplash</a>\n",
    "    </strong>\n",
    "</figcaption>"
   ]
  },
  {
   "cell_type": "markdown",
   "metadata": {},
   "source": [
    "### Introduction"
   ]
  },
  {
   "cell_type": "markdown",
   "metadata": {},
   "source": [
    "Let's get this straight: every single line of code is written for other humans to read. Period. \n",
    "\n",
    "Ever wondered why everyone codes in English? Why not in Chinese or Russian or Klingon or in ancient Farsi? Actually, does the coding language matter? Well, no. Every source code, regardless of the language, is converted into a machine language ONLY computer can work with. So the underlying truth why all programming languages use English keywords is that it is the global language and understood by billions. Writing source codes in English makes it easier for humans to create computer programs and collaborate with other programmers across the globe. It all comes down to writing understandable code. \n",
    "\n",
    "The code you write is your face, the first thing other programmers judge you with. That's why, the sooner you instill this truth the better. \n",
    "\n",
    "This post will be about how to write clean, well-documented functions that follow best practices and are a delight to IDEs."
   ]
  },
  {
   "cell_type": "markdown",
   "metadata": {},
   "source": [
    "### Docstrings"
   ]
  },
  {
   "cell_type": "markdown",
   "metadata": {},
   "source": [
    "After you have written a function, the first step to make it understandable is to add a docstring. Here is the anatomy of a good docstring:"
   ]
  },
  {
   "cell_type": "code",
   "execution_count": 1,
   "metadata": {},
   "outputs": [],
   "source": [
    "def function_name(arguments):\n",
    "    \"\"\"\n",
    "    1. Description of what the function does.\n",
    "    2. Description of the arguments, if any.\n",
    "    3. Description of the return value(s), if any.\n",
    "    4. Description of errors, if any.\n",
    "    5. Optional extra notes or examples of usage.\n",
    "    \"\"\""
   ]
  },
  {
   "cell_type": "markdown",
   "metadata": {},
   "source": [
    "All well-documented and popular libraries follow this anatomy in different formats. Out there, there are 4 main docstring formats:\n",
    "- Google style\n",
    "- Numpydoc\n",
    "- reStructured Text\n",
    "- EpyTex"
   ]
  },
  {
   "cell_type": "markdown",
   "metadata": {},
   "source": [
    "We will only focus on the first two since they are the most popular."
   ]
  },
  {
   "cell_type": "markdown",
   "metadata": {},
   "source": [
    "### Google Style Docstrings"
   ]
  },
  {
   "cell_type": "markdown",
   "metadata": {},
   "source": [
    "Let's start with the function description section of Google Style:"
   ]
  },
  {
   "cell_type": "code",
   "execution_count": 2,
   "metadata": {},
   "outputs": [],
   "source": [
    "def google_style(arg_1, arg_2=42):\n",
    "    \"\"\"Description of what the function does.\n",
    "    \"\"\""
   ]
  },
  {
   "cell_type": "markdown",
   "metadata": {},
   "source": [
    "The first sentence should contain the purpose of the function, like a topic sentence in an essay. It should start right after opening the triple quotes. Optional explanations should be given as separate, unindented paragraphs:"
   ]
  },
  {
   "cell_type": "code",
   "execution_count": 3,
   "metadata": {},
   "outputs": [],
   "source": [
    "def google_style(arg_1, arg_2=42):\n",
    "    \"\"\"Description of what the function does.\n",
    "    \n",
    "    Lorem ipsum dolor sit amet, consectetur adipiscing elit.\n",
    "    Aliquam venenatis magna a consequat mollis. In ultrices consequat nibh. \n",
    "    Sed eu sollicitudin dui. Phasellus eu iaculis justo. \n",
    "    \n",
    "    Curabitur faucibus ipsum vel aliquet convallis. \n",
    "    Maecenas eros lorem, varius nec accumsan eu, suscipit eget quam. \n",
    "    In a ultricies est. Morbi varius maximus elit, non tempus metus viverra et.    \n",
    "    \"\"\""
   ]
  },
  {
   "cell_type": "markdown",
   "metadata": {},
   "source": [
    "The next is the arguments section:"
   ]
  },
  {
   "cell_type": "code",
   "execution_count": 4,
   "metadata": {},
   "outputs": [],
   "source": [
    "def google_style(arg_1, arg_2=42):\n",
    "    \"\"\"Description of what the function does.\n",
    "    \n",
    "    ...\n",
    "    \n",
    "    Args:\n",
    "      arg_1 (type): Description of arg_1 that can continue\n",
    "        to the next line with 2 space indent.\n",
    "      arg_2 (int, optional): Write optional when the argument\n",
    "        has a default value\n",
    "    \"\"\""
   ]
  },
  {
   "cell_type": "markdown",
   "metadata": {},
   "source": [
    "Starting the new paragraph with `Args:` indicates you are defining the parameters. The parameters are given on a new line and indented with 2 spaces. After the argument name, the data type of the argument should be given between parentheses. For optional arguments, an extra _'optional'_ key should be added."
   ]
  },
  {
   "cell_type": "markdown",
   "metadata": {},
   "source": [
    "Finally, define the return values:"
   ]
  },
  {
   "cell_type": "code",
   "execution_count": 5,
   "metadata": {},
   "outputs": [],
   "source": [
    "def google_style(arg_1, arg_2=42):\n",
    "    \"\"\"Description of what the function does.\n",
    "    \n",
    "    ...\n",
    "    \n",
    "    Args:\n",
    "    \n",
    "      ...\n",
    "      \n",
    "    Returns:\n",
    "      bool: Optional desc. of the return value_1\n",
    "      dict: Optional desc. of the return value_2\n",
    "      Extra lines shouldn't be indented\n",
    "    \"\"\""
   ]
  },
  {
   "cell_type": "markdown",
   "metadata": {},
   "source": [
    "You can also pass an errors section if your function raises any intentional errors:"
   ]
  },
  {
   "cell_type": "code",
   "execution_count": 6,
   "metadata": {},
   "outputs": [],
   "source": [
    "def google_style(arg_1, arg_2=42):\n",
    "    \"\"\"Description of what the function does.\n",
    "    \n",
    "    ...\n",
    "    \n",
    "    Args:\n",
    "    \n",
    "      ...\n",
    "      \n",
    "    Returns:\n",
    "      \n",
    "      ...\n",
    "    \n",
    "    Raises:\n",
    "      ValueError: Describe the case where your \n",
    "        function intentionally raises this error    \n",
    "    \"\"\""
   ]
  },
  {
   "cell_type": "markdown",
   "metadata": {},
   "source": [
    "Sometimes, you might need to include examples or extra notes at the end:"
   ]
  },
  {
   "cell_type": "code",
   "execution_count": 7,
   "metadata": {},
   "outputs": [],
   "source": [
    "def google_style(arg_1, arg_2=42):\n",
    "    \"\"\"Description of what the function does.\n",
    "    \n",
    "    ...\n",
    "    \n",
    "    Args:\n",
    "    \n",
    "      ...\n",
    "      \n",
    "    Returns:\n",
    "      \n",
    "      ...\n",
    "    \n",
    "    Raises:\n",
    "      ...\n",
    "    \n",
    "    Notes:\n",
    "      Extra notes and use cases of the function in the\n",
    "      form of free text.\n",
    "    \"\"\""
   ]
  },
  {
   "cell_type": "markdown",
   "metadata": {},
   "source": [
    "### Numpydoc Format Docstrings"
   ]
  },
  {
   "cell_type": "markdown",
   "metadata": {},
   "source": [
    "This format is the most popular in the data science community. Here is the full format:"
   ]
  },
  {
   "cell_type": "code",
   "execution_count": 8,
   "metadata": {},
   "outputs": [],
   "source": [
    "def numpy_style(arg_1, arg_2=42):\n",
    "    \"\"\"\n",
    "    Description of the function's purpose\n",
    "    \n",
    "    ...\n",
    "    \n",
    "    Parameters\n",
    "    ----------\n",
    "    arg_1: expected type of arg_1\n",
    "      Description of the argument.\n",
    "      Multi-lines are allowed\n",
    "    arg_2: int, optional\n",
    "      Again, write optional when argument\n",
    "      has a default value\n",
    "      \n",
    "    Returns\n",
    "    -------\n",
    "    The type of the return value\n",
    "      Can include a desc of the returned value.\n",
    "    \"\"\""
   ]
  },
  {
   "cell_type": "markdown",
   "metadata": {},
   "source": [
    "The `error`s and `notes` section follow the same pattern. Even though it takes more lines, I like this one better.\n",
    "\n",
    "Here is a sample function in both styles:"
   ]
  },
  {
   "cell_type": "code",
   "execution_count": 9,
   "metadata": {},
   "outputs": [],
   "source": [
    "import requests\n",
    "import json"
   ]
  },
  {
   "cell_type": "code",
   "execution_count": 17,
   "metadata": {},
   "outputs": [],
   "source": [
    "# Google style\n",
    "def send_request(key: str, lat: float = 0, lon: float = 0):\n",
    "    \"\"\"Send a request to Climacell Weather API\n",
    "    to get weather info based on lat/lon.\n",
    "    \n",
    "    Climacell API provides realtime weather\n",
    "    information which can be accessed using\n",
    "    their 'Realtime Endpoint'.\n",
    "    \n",
    "    Args:\n",
    "      key (str): an API key with length of 32 chars.\n",
    "      lat (float, optional): value for latitude.\n",
    "        Default=0\n",
    "      lon (float, optional): value for longitude.\n",
    "        Default=0\n",
    "    \n",
    "    Returns:\n",
    "      int: status code of the result \n",
    "      dict: Result of the call as a dict\n",
    "    \n",
    "    Notes:\n",
    "      See https://www.climacell.co/weather-api/ \n",
    "      for more info on Weather API. You can get\n",
    "      API key from there, too.\n",
    "    \"\"\"\n",
    "    # Store the endpoint\n",
    "    endpoint = \"https://api.climacell.co/v3/weather/realtime\"\n",
    "    # Build query string params\n",
    "    params = {'lat': lat, 'lon': lon, 'fields': 'temp',\n",
    "              'apikey': api, 'unit_system': 'si'}\n",
    "    # Get response\n",
    "    response = requests.request('GET', endpoint, params=params)\n",
    "    # Extract response code\n",
    "    code = response.status_code\n",
    "    # Convert results to dict\n",
    "    result = json.loads(response.content)\n",
    "    \n",
    "    return code, result"
   ]
  },
  {
   "cell_type": "code",
   "execution_count": 18,
   "metadata": {},
   "outputs": [],
   "source": [
    "# Numpydoc style\n",
    "def send_request(key: str, lat: float = 0, lon: float = 0):\n",
    "    \"\"\"\n",
    "    Send a request to Climacell Weather API\n",
    "    to get weather info based on lat/lon.\n",
    "    \n",
    "    Climacell API provides realtime weather\n",
    "    information which can be accessed using\n",
    "    their 'Realtime Endpoint'.\n",
    "    \n",
    "    Parameters\n",
    "    ----------\n",
    "      key (str): an API key with length of 32 chars.\n",
    "      lat (float, optional): value for latitude.\n",
    "        Default=0\n",
    "      lon (float, optional): value for longitude.\n",
    "        Default=0\n",
    "    \n",
    "    Returns\n",
    "    -------\n",
    "      int: status code of the result \n",
    "      dict: Result of the call as a dict\n",
    "    \n",
    "    Notes\n",
    "    -----\n",
    "      See https://www.climacell.co/weather-api/ \n",
    "      for more info on Weather API. You can get\n",
    "      API key from there, too.\n",
    "    \"\"\"\n",
    "    # Store the endpoint\n",
    "    endpoint = \"https://api.climacell.co/v3/weather/realtime\"\n",
    "    # Build query string params\n",
    "    params = {'lat': lat, 'lon': lon, 'fields': 'temp',\n",
    "              'apikey': api, 'unit_system': 'si'}\n",
    "    # Get response\n",
    "    response = requests.request('GET', endpoint, params=params)\n",
    "    # Extract response code\n",
    "    code = response.status_code\n",
    "    # Convert results to dict\n",
    "    result = json.loads(response.content)\n",
    "    \n",
    "    return code, result"
   ]
  },
  {
   "cell_type": "markdown",
   "metadata": {},
   "source": [
    "> If the function uses `yield` keyword, you can change `Returns` section with `Yields`."
   ]
  },
  {
   "cell_type": "markdown",
   "metadata": {},
   "source": [
    "Adding type hinting can be very helpful to the users if they use modern IDEs like PyCharm. You can learn more about type hinting [here](https://towardsdatascience.com/type-checking-in-python-in-the-right-way-5e18eba44296)."
   ]
  },
  {
   "cell_type": "markdown",
   "metadata": {},
   "source": [
    "### Accessing the Docstrings of functions Without Googling"
   ]
  },
  {
   "cell_type": "markdown",
   "metadata": {},
   "source": [
    "You can also access any function's docstring by calling `.__doc__` on the function name:"
   ]
  },
  {
   "cell_type": "code",
   "execution_count": 12,
   "metadata": {},
   "outputs": [
    {
     "name": "stdout",
     "output_type": "stream",
     "text": [
      "range(stop) -> range object\n",
      "range(start, stop[, step]) -> range object\n",
      "\n",
      "Return an object that produces a sequence of integers from start (inclusive)\n",
      "to stop (exclusive) by step.  range(i, j) produces i, i+1, i+2, ..., j-1.\n",
      "start defaults to 0, and stop is omitted!  range(4) produces 0, 1, 2, 3.\n",
      "These are exactly the valid indices for a list of 4 elements.\n",
      "When step is given, it specifies the increment (or decrement).\n"
     ]
    }
   ],
   "source": [
    "print(range.__doc__)"
   ]
  },
  {
   "cell_type": "code",
   "execution_count": 13,
   "metadata": {
    "scrolled": true
   },
   "outputs": [
    {
     "name": "stdout",
     "output_type": "stream",
     "text": [
      "print(value, ..., sep=' ', end='\\n', file=sys.stdout, flush=False)\n",
      "\n",
      "Prints the values to a stream, or to sys.stdout by default.\n",
      "Optional keyword arguments:\n",
      "file:  a file-like object (stream); defaults to the current sys.stdout.\n",
      "sep:   string inserted between values, default a space.\n",
      "end:   string appended after the last value, default a newline.\n",
      "flush: whether to forcibly flush the stream.\n"
     ]
    }
   ],
   "source": [
    "print(print.__doc__)"
   ]
  },
  {
   "cell_type": "markdown",
   "metadata": {},
   "source": [
    "Using `__doc__` may work nicely with small functions but for large functions with big docstrings such as `numpy.ndarray`, you can use `inspect` module's `.getdoc` function:"
   ]
  },
  {
   "cell_type": "code",
   "execution_count": 14,
   "metadata": {},
   "outputs": [
    {
     "name": "stdout",
     "output_type": "stream",
     "text": [
      "ndarray(shape, dtype=float, buffer=None, offset=0,\n",
      "        strides=None, order=None)\n",
      "\n",
      "An array object represents a multidimensional, homogeneous array\n",
      "of fixed-size items.  An associated data-type object describes the\n",
      "format of each element in the array (its byte-order, how many bytes it\n",
      "occupies in memory, whether it is an integer, a floating point number,\n",
      "or something else, etc.)\n",
      "\n",
      "Arrays should be constructed using `array`, `zeros` or `empty` (refer\n",
      "to the See Also section below).  The parameters given here refer to\n",
      "a low-level method (`ndarray(...)`) for instantiating an array.\n",
      "\n",
      "For more information, refer to the `numpy` module and examine the\n",
      "methods and attributes of an array.\n",
      "\n",
      "Parameters\n",
      "----------\n",
      "(for the __new__ method; see Notes below)\n",
      "\n",
      "shape : tuple of ints\n",
      "    Shape of created array.\n",
      "dtype : data-type, optional\n",
      "    Any object that can be interpreted as a numpy data type.\n",
      "buffer : object exposing buffer interface, optional\n",
      "    Used to fill the array with data.\n",
      "offset : int, optional\n",
      "    Offset of array data in buffer.\n",
      "strides : tuple of ints, optional\n",
      "    Strides of data in memory.\n",
      "order : {'C', 'F'}, optional\n",
      "    Row-major (C-style) or column-major (Fortran-style) order.\n",
      "\n",
      "Attributes\n",
      "----------\n",
      "T : ndarray\n",
      "    Transpose of the array.\n",
      "data : buffer\n",
      "    The array's elements, in memory.\n",
      "dtype : dtype object\n",
      "    Describes the format of the elements in the array.\n",
      "flags : dict\n",
      "    Dictionary containing information related to memory use, e.g.,\n",
      "    'C_CONTIGUOUS', 'OWNDATA', 'WRITEABLE', etc.\n",
      "flat : numpy.flatiter object\n",
      "    Flattened version of the array as an iterator.  The iterator\n",
      "    allows assignments, e.g., ``x.flat = 3`` (See `ndarray.flat` for\n",
      "    assignment examples; TODO).\n",
      "imag : ndarray\n",
      "    Imaginary part of the array.\n",
      "real : ndarray\n",
      "    Real part of the array.\n",
      "size : int\n",
      "    Number of elements in the array.\n",
      "itemsize : int\n",
      "    The memory use of each array element in bytes.\n",
      "nbytes : int\n",
      "    The total number of bytes required to store the array data,\n",
      "    i.e., ``itemsize * size``.\n",
      "ndim : int\n",
      "    The array's number of dimensions.\n",
      "shape : tuple of ints\n",
      "    Shape of the array.\n",
      "strides : tuple of ints\n",
      "    The step-size required to move from one element to the next in\n",
      "    memory. For example, a contiguous ``(3, 4)`` array of type\n",
      "    ``int16`` in C-order has strides ``(8, 2)``.  This implies that\n",
      "    to move from element to element in memory requires jumps of 2 bytes.\n",
      "    To move from row-to-row, one needs to jump 8 bytes at a time\n",
      "    (``2 * 4``).\n",
      "ctypes : ctypes object\n",
      "    Class containing properties of the array needed for interaction\n",
      "    with ctypes.\n",
      "base : ndarray\n",
      "    If the array is a view into another array, that array is its `base`\n",
      "    (unless that array is also a view).  The `base` array is where the\n",
      "    array data is actually stored.\n",
      "\n",
      "See Also\n",
      "--------\n",
      "array : Construct an array.\n",
      "zeros : Create an array, each element of which is zero.\n",
      "empty : Create an array, but leave its allocated memory unchanged (i.e.,\n",
      "        it contains \"garbage\").\n",
      "dtype : Create a data-type.\n",
      "\n",
      "Notes\n",
      "-----\n",
      "There are two modes of creating an array using ``__new__``:\n",
      "\n",
      "1. If `buffer` is None, then only `shape`, `dtype`, and `order`\n",
      "   are used.\n",
      "2. If `buffer` is an object exposing the buffer interface, then\n",
      "   all keywords are interpreted.\n",
      "\n",
      "No ``__init__`` method is needed because the array is fully initialized\n",
      "after the ``__new__`` method.\n",
      "\n",
      "Examples\n",
      "--------\n",
      "These examples illustrate the low-level `ndarray` constructor.  Refer\n",
      "to the `See Also` section above for easier ways of constructing an\n",
      "ndarray.\n",
      "\n",
      "First mode, `buffer` is None:\n",
      "\n",
      ">>> np.ndarray(shape=(2,2), dtype=float, order='F')\n",
      "array([[0.0e+000, 0.0e+000], # random\n",
      "       [     nan, 2.5e-323]])\n",
      "\n",
      "Second mode:\n",
      "\n",
      ">>> np.ndarray((2,), buffer=np.array([1,2,3]),\n",
      "...            offset=np.int_().itemsize,\n",
      "...            dtype=int) # offset = 1*itemsize, i.e. skip first element\n",
      "array([2, 3])\n"
     ]
    }
   ],
   "source": [
    "from numpy import ndarray\n",
    "import inspect\n",
    "\n",
    "print(inspect.getdoc(ndarray))"
   ]
  },
  {
   "cell_type": "markdown",
   "metadata": {},
   "source": [
    "It displays function's documentation in an easy to read manner. "
   ]
  },
  {
   "cell_type": "markdown",
   "metadata": {},
   "source": [
    "### Do One Thing At a Time"
   ]
  },
  {
   "cell_type": "markdown",
   "metadata": {},
   "source": [
    "A common mistake many beginners make is writing too long and complicated functions. It is always recommended to design functions to only perform one specific task. Small and precise functions are easy to test and debug with modern IDEs and will be flexible.\n",
    "\n",
    "Now, you might be thinking: 'I never had to spend more than 2-3 minutes if my code generates an error. I could always solve them with simple `print` statements and playing around...' That's a classic rookie misunderstanding. When I first started learning Python, I also thought the books and courses I took made a very big deal of bugs in code. Because then, the code I wrote was not sophisticated enough to generate giant pain in the a** bugs or errors. \n",
    "\n",
    "If you still think like that, try to write a script/program that works with at least 200 lines long and then we will talk. In the meantime, consider this function:"
   ]
  },
  {
   "cell_type": "code",
   "execution_count": 22,
   "metadata": {},
   "outputs": [],
   "source": [
    "import pandas as pd\n",
    "\n",
    "\n",
    "def top25(path, country):\n",
    "    \"\"\"\n",
    "    Reads a csv file into pandas.DataFrame\n",
    "    from `path` and returns top 25 cities\n",
    "    of `country` based on population\n",
    "    \"\"\"\n",
    "    df = pd.read_csv('data/worldcities.csv')\n",
    "    # Subset for cities of given country\n",
    "    subset = df[df['country'] == country][['city_ascii', 'lat',\n",
    "                                           'lng', 'population']]\n",
    "    # Extract top 25 based on population size\n",
    "    subset_sorted = subset.sort_values('population',\n",
    "                                       ascending=False).iloc[:25]\n",
    "    # Rename lng column to lon\n",
    "    subset_sorted['lon'] = subset_sorted['lng']\n",
    "    # Drop lng column\n",
    "    subset_sorted.drop('lng', axis='columns', inplace=True)\n",
    "    # Reorder columns\n",
    "    subset_sorted = subset_sorted[['city_ascii', 'lat',\n",
    "                                   'lon', 'population']]\n",
    "    return subset_sorted.reset_index().drop('index', axis='columns')"
   ]
  },
  {
   "cell_type": "markdown",
   "metadata": {},
   "source": [
    "First of all, the docstring does give a good description of the function. If we spend some time reading the code, we will realize that its main purpose is to read a `csv` file from `path` argument and subset it using `country` argument and return top 25 most populated cities of that country. If you pay attention, the main purpose of the function is done in a single line (right after the second comment). The other lines are performing cleaning tasks that are not very clear."
   ]
  },
  {
   "cell_type": "markdown",
   "metadata": {},
   "source": [
    "What would be ideal is to break this function up so that all the cleaning is done in one chunk and subsetting for 25 cities in another. Let's start with cleaning:"
   ]
  },
  {
   "cell_type": "code",
   "execution_count": 28,
   "metadata": {},
   "outputs": [],
   "source": [
    "import pandas as pd\n",
    "\n",
    "\n",
    "def preprocess(path):\n",
    "    \"\"\"\n",
    "    Loads a CSV file in pandas.DataFrame\n",
    "    and performs basic data cleaning.\n",
    "    \n",
    "    Parameters\n",
    "    ----------\n",
    "      path (str): a path to the CSV file\n",
    "    \n",
    "    Returns\n",
    "    -------\n",
    "      pandas.DataFrame\n",
    "    \"\"\"\n",
    "    # Load the data\n",
    "    df = pd.read_csv(path)\n",
    "    # Rename lng column to lon\n",
    "    df.rename(columns={'lng': 'lon'}, inplace=True)\n",
    "    # Reorder columns\n",
    "    df = df[['city_ascii', 'lat', 'lon', 'population']]\n",
    "    \n",
    "    return df"
   ]
  },
  {
   "cell_type": "code",
   "execution_count": 30,
   "metadata": {
    "scrolled": true
   },
   "outputs": [
    {
     "data": {
      "text/html": [
       "<div>\n",
       "<style scoped>\n",
       "    .dataframe tbody tr th:only-of-type {\n",
       "        vertical-align: middle;\n",
       "    }\n",
       "\n",
       "    .dataframe tbody tr th {\n",
       "        vertical-align: top;\n",
       "    }\n",
       "\n",
       "    .dataframe thead th {\n",
       "        text-align: right;\n",
       "    }\n",
       "</style>\n",
       "<table border=\"1\" class=\"dataframe\">\n",
       "  <thead>\n",
       "    <tr style=\"text-align: right;\">\n",
       "      <th></th>\n",
       "      <th>city_ascii</th>\n",
       "      <th>lat</th>\n",
       "      <th>lon</th>\n",
       "      <th>population</th>\n",
       "    </tr>\n",
       "  </thead>\n",
       "  <tbody>\n",
       "    <tr>\n",
       "      <th>0</th>\n",
       "      <td>Tokyo</td>\n",
       "      <td>35.6897</td>\n",
       "      <td>139.6922</td>\n",
       "      <td>37977000.0</td>\n",
       "    </tr>\n",
       "    <tr>\n",
       "      <th>1</th>\n",
       "      <td>Jakarta</td>\n",
       "      <td>-6.2146</td>\n",
       "      <td>106.8451</td>\n",
       "      <td>34540000.0</td>\n",
       "    </tr>\n",
       "    <tr>\n",
       "      <th>2</th>\n",
       "      <td>Delhi</td>\n",
       "      <td>28.6600</td>\n",
       "      <td>77.2300</td>\n",
       "      <td>29617000.0</td>\n",
       "    </tr>\n",
       "    <tr>\n",
       "      <th>3</th>\n",
       "      <td>Mumbai</td>\n",
       "      <td>18.9667</td>\n",
       "      <td>72.8333</td>\n",
       "      <td>23355000.0</td>\n",
       "    </tr>\n",
       "    <tr>\n",
       "      <th>4</th>\n",
       "      <td>Manila</td>\n",
       "      <td>14.5958</td>\n",
       "      <td>120.9772</td>\n",
       "      <td>23088000.0</td>\n",
       "    </tr>\n",
       "  </tbody>\n",
       "</table>\n",
       "</div>"
      ],
      "text/plain": [
       "  city_ascii      lat       lon  population\n",
       "0      Tokyo  35.6897  139.6922  37977000.0\n",
       "1    Jakarta  -6.2146  106.8451  34540000.0\n",
       "2      Delhi  28.6600   77.2300  29617000.0\n",
       "3     Mumbai  18.9667   72.8333  23355000.0\n",
       "4     Manila  14.5958  120.9772  23088000.0"
      ]
     },
     "execution_count": 30,
     "metadata": {},
     "output_type": "execute_result"
    }
   ],
   "source": [
    "cities = preprocess('data/worldcities.csv')\n",
    "cities.head()"
   ]
  },
  {
   "cell_type": "markdown",
   "metadata": {},
   "source": [
    "In the above function, I used `.rename` method to rename the `lng` column to `lon`. In the original, dirty function, first a new column was created and the old one was dropped which was unnecessary. \n",
    "\n",
    "Next is to create another function that subsets for top cities of a given country:"
   ]
  },
  {
   "cell_type": "code",
   "execution_count": 32,
   "metadata": {},
   "outputs": [],
   "source": [
    "def top_25(df, country: str):\n",
    "    \"\"\"\n",
    "    Filters the `df` for `country`\n",
    "    and isolates its 25 most populated\n",
    "    cities.\n",
    "    \n",
    "    Parameters\n",
    "    ----------\n",
    "      df (pandas.DataFrame): the dataframe to filter\n",
    "        containing countries and cities data\n",
    "      country (str): the name of the country to filter for\n",
    "      \n",
    "    Returns\n",
    "    -------\n",
    "      pandas.DataFrame or None: return top 25 cities\n",
    "        as pandas.DataFrame or None if no match found\n",
    "        for `country`\n",
    "    \"\"\"\n",
    "    # Filter for `country` in `df`\n",
    "    if country in df['country'].unique():\n",
    "        filtered = df[df['country'] == country]\n",
    "    else:  # Return None if no match\n",
    "        return None\n",
    "    # Sort in descending order based on population\n",
    "    pop_sorted = filtered.sort_values('population', ascending=False)\n",
    "    # Extract top 25 cities\n",
    "    top = pop_sorted.iloc[:25]\n",
    "    \n",
    "    return top"
   ]
  },
  {
   "cell_type": "markdown",
   "metadata": {},
   "source": [
    "This function is better than the original function because I also inserted exception handling logic for when there is no matching country in the data. \n",
    "\n",
    "Both of the new functions contain better documentation and follow best practices."
   ]
  }
 ],
 "metadata": {
  "kernelspec": {
   "display_name": "medium_articles",
   "language": "python",
   "name": "medium_articles"
  },
  "language_info": {
   "codemirror_mode": {
    "name": "ipython",
    "version": 3
   },
   "file_extension": ".py",
   "mimetype": "text/x-python",
   "name": "python",
   "nbconvert_exporter": "python",
   "pygments_lexer": "ipython3",
   "version": "3.8.5"
  }
 },
 "nbformat": 4,
 "nbformat_minor": 4
}
