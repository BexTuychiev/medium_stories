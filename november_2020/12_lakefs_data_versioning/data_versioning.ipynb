{
 "cells": [
  {
   "cell_type": "markdown",
   "metadata": {},
   "source": [
    "# Data Versioning with Lakefs: All You Need to Know\n",
    "## Manage your data like you manage code\n",
    "<img src='images/lake.jpg'></img>\n",
    "<figcaption style=\"text-align: center;\">\n",
    "    <strong>\n",
    "        Photo by \n",
    "        <a href='https://www.pexels.com/@heiner-56542?utm_content=attributionCopyText&utm_medium=referral&utm_source=pexels'>Heiner</a>\n",
    "        on \n",
    "        <a href=''>Pexels</a>\n",
    "    </strong>\n",
    "</figcaption>"
   ]
  },
  {
   "cell_type": "markdown",
   "metadata": {},
   "source": [
    "### Introduction to Data Versioning"
   ]
  },
  {
   "cell_type": "code",
   "execution_count": null,
   "metadata": {},
   "outputs": [],
   "source": []
  },
  {
   "cell_type": "code",
   "execution_count": null,
   "metadata": {},
   "outputs": [],
   "source": []
  },
  {
   "cell_type": "markdown",
   "metadata": {},
   "source": [
    "### Getting Started With lakeFS, Docker Installation"
   ]
  },
  {
   "cell_type": "markdown",
   "metadata": {},
   "source": [
    "From personal experience, installing lakeFS to run local instances, Docker Compose is the best solution.\n",
    "\n",
    "First of all, ensure that you have Docker installed with compose version `1.25.04` or higher. If you don't have Docker installed, here are links for installation guides: [MacOS](https://docs.docker.com/docker-for-mac/install/), [Windows](https://docs.docker.com/docker-for-windows/install/), [Linux Distros](https://docs.docker.com/engine/install/centos/).\n",
    "\n",
    "You can verify that you have correctly installed docker by running `docker version` on the shell:"
   ]
  },
  {
   "cell_type": "code",
   "execution_count": 1,
   "metadata": {},
   "outputs": [
    {
     "name": "stdout",
     "output_type": "stream",
     "text": [
      "Client: Docker Engine - Community\n",
      " Cloud integration: 1.0.2\n",
      " Version:           19.03.13\n",
      " API version:       1.40\n",
      " Go version:        go1.13.15\n",
      " Git commit:        4484c46d9d\n",
      " Built:             Wed Sep 16 17:00:27 2020\n",
      " OS/Arch:           windows/amd64\n",
      " Experimental:      false\n",
      "\n",
      "Server: Docker Engine - Community\n",
      " Engine:\n",
      "  Version:          19.03.13\n",
      "  API version:      1.40 (minimum version 1.12)\n",
      "  Go version:       go1.13.15\n",
      "  Git commit:       4484c46d9d\n",
      "  Built:            Wed Sep 16 17:07:04 2020\n",
      "  OS/Arch:          linux/amd64\n",
      "  Experimental:     false\n",
      " containerd:\n",
      "  Version:          v1.3.7\n",
      "  GitCommit:        8fba4e9a7d01810a393d5d25a3621dc101981175\n",
      " runc:\n",
      "  Version:          1.0.0-rc10\n",
      "  GitCommit:        dc9208a3303feef5b3839f4323d9beb36df0a9dd\n",
      " docker-init:\n",
      "  Version:          0.18.0\n",
      "  GitCommit:        fec3683\n"
     ]
    }
   ],
   "source": [
    "!docker version"
   ]
  },
  {
   "cell_type": "markdown",
   "metadata": {},
   "source": [
    "Next, start `lakeFS` instance with a single command:"
   ]
  },
  {
   "cell_type": "markdown",
   "metadata": {},
   "source": [
    "```bash\n",
    "curl https://compose.lakefs.io | docker-compose -f - up\n",
    "```"
   ]
  },
  {
   "cell_type": "markdown",
   "metadata": {},
   "source": [
    "If your output is anything like this, you are on the right track:"
   ]
  },
  {
   "cell_type": "markdown",
   "metadata": {},
   "source": [
    "<img src='images/1.png'></img>"
   ]
  },
  {
   "cell_type": "markdown",
   "metadata": {},
   "source": [
    "You can also see the image running on your Docker Desktop Console:"
   ]
  },
  {
   "cell_type": "markdown",
   "metadata": {},
   "source": [
    "<img src='images/2.png'></img>"
   ]
  },
  {
   "cell_type": "markdown",
   "metadata": {},
   "source": [
    "When you run the `docker-compose` command for the first time, you should set up a user admin by opening `http://127.0.0.1:8000/setup` on your browser. It will open up this page:"
   ]
  },
  {
   "cell_type": "markdown",
   "metadata": {},
   "source": [
    "<img src='images/3.png'></img>"
   ]
  },
  {
   "cell_type": "markdown",
   "metadata": {},
   "source": [
    "Enter a username of your choice and it will give you one-time only credentials. You should store them securely in a file somewhere because we will need it later. \n",
    "\n",
    "Next, proceed to `http://127.0.0.1:8000/login` where you will be able to log in using your credentials. As soon as you login, you will land on your repositories page, think of it like your GitHub account but with `lakeFS`:"
   ]
  },
  {
   "cell_type": "markdown",
   "metadata": {},
   "source": [
    "<img src='images/4.png'></img>"
   ]
  },
  {
   "cell_type": "markdown",
   "metadata": {},
   "source": [
    "This page is your UI for interacting with all of your repos and your user account. \n",
    "\n",
    "However, for peeps who love the shell, `lakeFS` provides even more powerful Command Line Interface which we will cover in the next section."
   ]
  },
  {
   "cell_type": "markdown",
   "metadata": {},
   "source": [
    "### Installing the lakeFS CLI (Comman Line Interface)"
   ]
  },
  {
   "cell_type": "markdown",
   "metadata": {},
   "source": [
    "`lakeFS CLI` is installed using its CLI binary. First, go to [this](https://github.com/treeverse/lakeFS/releases) GitHub releases page of `lakeFS`. Click on the latest release and scroll to the bottom. You will find download options depending on your OS:"
   ]
  },
  {
   "cell_type": "markdown",
   "metadata": {},
   "source": [
    "<img src='images/5.png'></img>"
   ]
  },
  {
   "cell_type": "markdown",
   "metadata": {},
   "source": [
    "Download yours and place it somewhere in your `PATH`. If you want to run the CLI for a single project, you can extract it directly into the root directory of your project:"
   ]
  },
  {
   "cell_type": "markdown",
   "metadata": {},
   "source": [
    "<img src='images/6.png'></img>"
   ]
  },
  {
   "cell_type": "markdown",
   "metadata": {},
   "source": [
    "Before running the CLI commands check that you are still running the `lakeFS` image from your Docker Console. Then, run this command to check if the CLI is working:"
   ]
  },
  {
   "cell_type": "markdown",
   "metadata": {},
   "source": [
    "```\n",
    "lakectl help\n",
    "```"
   ]
  },
  {
   "cell_type": "markdown",
   "metadata": {},
   "source": [
    "If the shell displays help page, congratulations, you are running the CLI on your local machine!"
   ]
  },
  {
   "cell_type": "markdown",
   "metadata": {},
   "source": [
    "### lakeFS namespace"
   ]
  },
  {
   "cell_type": "markdown",
   "metadata": {},
   "source": [
    "Before we move on, it is important that you know the `lakeFS` namespace. Different operations all reference components of `lakeFS` repositories through the `lakefs://` keyword. Here is a reference list of patterns for referring to different components:\n",
    "- Repositories: `lakefs://<repo-name>`\n",
    "- Commits: `lakefs://<repo-name>@<commit-id>`\n",
    "- Branches: `lakefs://<repo-name>@<branch-id>`\n",
    "- Files (objects): `lakefs://<repo-name>@<branch-id>/<object path>`\n",
    "> Ignore `<>`."
   ]
  },
  {
   "cell_type": "markdown",
   "metadata": {},
   "source": [
    "### `lakectl` authorization"
   ]
  },
  {
   "cell_type": "markdown",
   "metadata": {},
   "source": [
    "To start interacting with repositories under your account, you should first authorize your session (done every time you start a new session). Start by running `lakectl config` which should show this output:"
   ]
  },
  {
   "cell_type": "markdown",
   "metadata": {},
   "source": [
    "<img src='images/7.png'></img>"
   ]
  },
  {
   "cell_type": "markdown",
   "metadata": {},
   "source": [
    "Copy and paste your Access key ID you saved from the earlier section (you did right?). Do the same for your secret key:"
   ]
  },
  {
   "cell_type": "markdown",
   "metadata": {},
   "source": [
    "<img src='images/8.png'></img>"
   ]
  },
  {
   "cell_type": "markdown",
   "metadata": {},
   "source": [
    "It does not ask twice for each field, it is just displayed like that. The Server Endpoint URL you see is `http://127.0.0.1:8000/api/v1`. After you enter these values into the fields, you will be authorized and will be able to control pretty much everything related to `lakeFS`. You can check if you are authorized by running this command:"
   ]
  },
  {
   "cell_type": "markdown",
   "metadata": {},
   "source": [
    "```\n",
    "lakectl repo list\n",
    "```"
   ]
  },
  {
   "cell_type": "markdown",
   "metadata": {},
   "source": [
    "<img src='images/9.png'></img>"
   ]
  },
  {
   "cell_type": "markdown",
   "metadata": {},
   "source": [
    "It should give you empty table since we did not create any repos. So, shall we?"
   ]
  },
  {
   "cell_type": "markdown",
   "metadata": {},
   "source": [
    "### Working With Repos in General"
   ]
  },
  {
   "cell_type": "markdown",
   "metadata": {},
   "source": [
    "To create a repository, we will use `lakectl repo` command which gives access to all commands to control repositories:"
   ]
  },
  {
   "cell_type": "markdown",
   "metadata": {},
   "source": [
    "```\n",
    "lakectl repo create lakefs://example local://storage\n",
    "```"
   ]
  },
  {
   "cell_type": "markdown",
   "metadata": {},
   "source": [
    "The above command will create a repo named `example` in the `local` storage since we are using `local://` keyword. The `storage` word is arbitrary:"
   ]
  },
  {
   "cell_type": "markdown",
   "metadata": {},
   "source": [
    "<img src='images/10.png'></img>"
   ]
  },
  {
   "cell_type": "markdown",
   "metadata": {},
   "source": [
    "From now on, this repository can be referenced only with `lakefs://example` URI (Uniform Resource Identifier). If we run `lakectl repo list`, we should be able to see it now:"
   ]
  },
  {
   "cell_type": "markdown",
   "metadata": {},
   "source": [
    "```bash\n",
    "lakectl repo list\n",
    "```"
   ]
  },
  {
   "cell_type": "markdown",
   "metadata": {},
   "source": [
    "<img src='images/12.png'></img>"
   ]
  },
  {
   "cell_type": "markdown",
   "metadata": {},
   "source": [
    "Just like Git, each repo has a default `master` branch when created. You can delete repositories with `delete` keyword:"
   ]
  },
  {
   "cell_type": "markdown",
   "metadata": {},
   "source": [
    "```\n",
    "lakectl repo delete lakefs://repo-name\n",
    "```"
   ]
  },
  {
   "cell_type": "markdown",
   "metadata": {},
   "source": [
    "<img src='images/13.png'></img>"
   ]
  },
  {
   "cell_type": "markdown",
   "metadata": {},
   "source": [
    "For full repository commands, check out the [CLI reference](https://docs.lakefs.io/reference/commands.html) of lakeFS."
   ]
  },
  {
   "cell_type": "markdown",
   "metadata": {},
   "source": [
    "### Loading Data To Repositories"
   ]
  },
  {
   "cell_type": "markdown",
   "metadata": {},
   "source": [
    "At this point, we start to interact with our data. Remember our main aim for using `lakeFS`. We want to manage data with any magnitude just like we do our code. So, what you will find useful is to integrate `lakeFS` with `Git` itself. \n",
    "\n",
    "The idea is that we control any-data related changes through `lakeFS` and manage our code with `Git`. To achieve this, you should put all of file extensions in `.gitignore` file which won't be tracked afterwards. \n",
    "\n",
    "Now, say we want to upload some audio files to our `lakeFS` repo which are stored inside `data` directory:"
   ]
  },
  {
   "cell_type": "markdown",
   "metadata": {},
   "source": [
    "<img src='images/14.png'></img>"
   ]
  },
  {
   "cell_type": "markdown",
   "metadata": {},
   "source": [
    "Since they have `.wma` extension, make sure you add `*.wma` as a new line to `.gitignore`.\n",
    "\n",
    "Let's upload all the files in `data`. Just like `lakectl repo` command, `lakectl fs` gives access to manipulate files and objects. We will use the `upload` command which has this pattern:"
   ]
  },
  {
   "cell_type": "markdown",
   "metadata": {},
   "source": [
    "```bash\n",
    "lakectl fs upload --recursive --source path/ lakefs://repo-name@branch-name/extra-path/\n",
    "```"
   ]
  },
  {
   "cell_type": "markdown",
   "metadata": {},
   "source": [
    "The above command works for uploading both single or many files from a given directory. You should provide the path after `--source` flag. For the destination, you must include the repository name followed by a branch name. It is also very important to end both source and destination path with a `/` otherwise, the command fails.\n",
    "\n",
    "Here is the sample command to upload the 4 audio files:"
   ]
  },
  {
   "cell_type": "markdown",
   "metadata": {},
   "source": [
    "```bash\n",
    "lakectl fs upload --recursive --source data/ lakefs://example@master/data/\n",
    "```"
   ]
  },
  {
   "cell_type": "markdown",
   "metadata": {},
   "source": [
    "<img src='images/15.png'></img>"
   ]
  },
  {
   "cell_type": "markdown",
   "metadata": {},
   "source": [
    "`lakectl fs upload` is an equivalent to `git add`. To list the contents of a directory, we can run:"
   ]
  },
  {
   "cell_type": "markdown",
   "metadata": {},
   "source": [
    "```bash\n",
    "lakectl fs ls lakefs://repo@branch/path/\n",
    "```"
   ]
  },
  {
   "cell_type": "markdown",
   "metadata": {},
   "source": [
    "<img src='images/16.png'></img>"
   ]
  },
  {
   "cell_type": "markdown",
   "metadata": {},
   "source": [
    "The above command is equivalent to shell's `ls` command. When you give the path name, just like the others it should start with `lakefs://` followed by repository name, branch name and path."
   ]
  },
  {
   "cell_type": "markdown",
   "metadata": {},
   "source": [
    "### Making Commits With `lakectl`"
   ]
  },
  {
   "cell_type": "markdown",
   "metadata": {},
   "source": [
    "We just uploaded new files to our repository. Notice we did not write any code so we do not need to make a commit through `git`. However, to save the changes on our lakeFS repo, we should make a commit. \n",
    "\n",
    "`lakectl` commit commands generally follow this pattern:"
   ]
  },
  {
   "cell_type": "markdown",
   "metadata": {},
   "source": [
    "```bash\n",
    "lakectl commit lakefs://repo-name@branch-name --message \"Commit Message\"\n",
    "```"
   ]
  },
  {
   "cell_type": "markdown",
   "metadata": {},
   "source": [
    "But before committing, it is usually helpful to see the changes we have made since the last commit. Just like `git diff`, there exists similar command for `lakectl` and follows this pattern:"
   ]
  },
  {
   "cell_type": "markdown",
   "metadata": {},
   "source": [
    "```bash\n",
    "lakectl diff lakefs://repo-name@branch-name\n",
    "```"
   ]
  },
  {
   "cell_type": "markdown",
   "metadata": {},
   "source": [
    "<img src='images/19.png'></img>"
   ]
  },
  {
   "cell_type": "markdown",
   "metadata": {},
   "source": [
    "The `diff` command shows all the uncommitted changes made to lakeFS repository on the branch you specify.\n",
    "\n",
    "Now, after making sure everything is good, we can commit our changes:"
   ]
  },
  {
   "cell_type": "markdown",
   "metadata": {},
   "source": [
    "<img src='images/17.png'></img>"
   ]
  },
  {
   "cell_type": "markdown",
   "metadata": {},
   "source": [
    "We will get a success message once the changes are committed. The commit message also gives some details such as commit ID and timestamp."
   ]
  },
  {
   "cell_type": "markdown",
   "metadata": {},
   "source": [
    "You can see the list of commits on your repo with this command:"
   ]
  },
  {
   "cell_type": "markdown",
   "metadata": {},
   "source": [
    "```bash\n",
    "lakectl log lakefs://repo-name@branch\n",
    "```"
   ]
  },
  {
   "cell_type": "markdown",
   "metadata": {},
   "source": [
    "<img src='images/18.png'></img>"
   ]
  },
  {
   "cell_type": "markdown",
   "metadata": {},
   "source": [
    "### Working With Branches"
   ]
  },
  {
   "cell_type": "markdown",
   "metadata": {},
   "source": [
    "The real power of `lakeFS` can be seen in the instance of branches. Creating branches in `git` allows to duplicate your code base and work with it in an isolation to try out experiments and features. However, doing this for repositories with enormous amount of data is not feasible both storage-wise and time-wise. \n",
    "\n",
    "`lakeFS` prides itself in solving this problem. For example, if you create a branch for your `lakeFS` repository, the task is performed instantaneously and without duplication of data. Creating a branch at particular point of your repo's commit history will create a snapshot of repo's state at that particular commit, again without duplication. The official website says that it is all about handling file metadata under the hood.\n",
    "\n",
    "Before we get to creating branches, I will upload some more data and make a few commits for example purposes. "
   ]
  },
  {
   "cell_type": "markdown",
   "metadata": {},
   "source": [
    "<img src='images/20.png'></img>"
   ]
  },
  {
   "cell_type": "markdown",
   "metadata": {},
   "source": [
    "Next, we will create a new branch at the head, meaning from the latest commit. First, get yourself acquainted with the command to create branches:"
   ]
  },
  {
   "cell_type": "markdown",
   "metadata": {},
   "source": [
    "```bash\n",
    "lakectl branch create lakefs://repo-name@new-branch-name/ --source lakefs://repo-name@source-branch\n",
    "```"
   ]
  },
  {
   "cell_type": "markdown",
   "metadata": {},
   "source": [
    "When you create a branch you should specify both the new branch's name and the one it should branch out from. This means that you can create branches from existing ones, it does not have to be the `master`."
   ]
  },
  {
   "cell_type": "markdown",
   "metadata": {},
   "source": [
    "```bash\n",
    "lakectl branch create lakefs://example@new --source lakefs://example@master\n",
    "```"
   ]
  },
  {
   "cell_type": "markdown",
   "metadata": {},
   "source": [
    "This will create a branch named `new` and you can list out existing ones with this command:"
   ]
  },
  {
   "cell_type": "markdown",
   "metadata": {},
   "source": [
    "```bash\n",
    "lakectl branch list lakefs://example\n",
    "```"
   ]
  },
  {
   "cell_type": "markdown",
   "metadata": {},
   "source": [
    "Now, suppose you did some experimentation with your data and tested out new features. When are satisfied you may want to merge this newly-created branch back to `master`. \n",
    "\n",
    "First of all, make sure that you commit any unsaved changes on your new branch:"
   ]
  },
  {
   "cell_type": "markdown",
   "metadata": {},
   "source": [
    "```bash\n",
    "lakectl commit lakefs://example@new --message \"Tested some new features\"\n",
    "```"
   ]
  },
  {
   "cell_type": "markdown",
   "metadata": {},
   "source": [
    "Before merging, you may want to see what is getting modified when you merge two branches. In this scenario, you can use `diff` command again. The below command will yield the difference between two branches:"
   ]
  },
  {
   "cell_type": "markdown",
   "metadata": {},
   "source": [
    "```bash\n",
    "lakectl diff lakefs://example@master lakefs://example@new\n",
    "```"
   ]
  },
  {
   "cell_type": "markdown",
   "metadata": {},
   "source": [
    "Once you are satisfied, merge the branches with:"
   ]
  },
  {
   "cell_type": "markdown",
   "metadata": {},
   "source": [
    "```bash\n",
    "lakectl merge lakefs://example@new lakefs://example@master\n",
    "```"
   ]
  },
  {
   "cell_type": "markdown",
   "metadata": {},
   "source": [
    "Note that any uncommitted changes will be committed and merged with the above command."
   ]
  },
  {
   "cell_type": "markdown",
   "metadata": {},
   "source": [
    "One final point for working with branches: If you are unsatisfied with the changes in any branch, you can always revert them with `lakectl`. The CLI provides 4 options depending on the situation. I won't list them out here but you can always learn about them from [CLI reference](https://docs.lakefs.io/reference/commands.html)."
   ]
  }
 ],
 "metadata": {
  "kernelspec": {
   "display_name": "medium_articles",
   "language": "python",
   "name": "medium_articles"
  },
  "language_info": {
   "codemirror_mode": {
    "name": "ipython",
    "version": 3
   },
   "file_extension": ".py",
   "mimetype": "text/x-python",
   "name": "python",
   "nbconvert_exporter": "python",
   "pygments_lexer": "ipython3",
   "version": "3.8.5"
  }
 },
 "nbformat": 4,
 "nbformat_minor": 4
}
