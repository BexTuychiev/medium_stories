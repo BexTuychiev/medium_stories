{
 "cells": [
  {
   "cell_type": "markdown",
   "metadata": {},
   "source": [
    "# Data Versioning with Lakefs: All You Need to Know\n",
    "## Manage your data like you manage code\n",
    "<img src='images/lake.jpg'></img>\n",
    "<figcaption style=\"text-align: center;\">\n",
    "    <strong>\n",
    "        Photo by \n",
    "        <a href='https://www.pexels.com/@heiner-56542?utm_content=attributionCopyText&utm_medium=referral&utm_source=pexels'>Heiner</a>\n",
    "        on \n",
    "        <a href=''>Pexels</a>\n",
    "    </strong>\n",
    "</figcaption>"
   ]
  },
  {
   "cell_type": "markdown",
   "metadata": {},
   "source": [
    "### Introduction to Data Versioning"
   ]
  },
  {
   "cell_type": "markdown",
   "metadata": {},
   "source": []
  },
  {
   "cell_type": "code",
   "execution_count": null,
   "metadata": {},
   "outputs": [],
   "source": []
  },
  {
   "cell_type": "code",
   "execution_count": null,
   "metadata": {},
   "outputs": [],
   "source": []
  },
  {
   "cell_type": "markdown",
   "metadata": {},
   "source": [
    "### Getting Started With lakeFS, Docker Installation"
   ]
  },
  {
   "cell_type": "markdown",
   "metadata": {},
   "source": [
    "From personal experience, installing lakeFS to run local instances, Docker Compose is the best solution.\n",
    "\n",
    "First of all, ensure that you have Docker installed with compose version `1.25.04` or higher. If you don't have Docker installed, here are links for installation guides: [MacOS](https://docs.docker.com/docker-for-mac/install/), [Windows](https://docs.docker.com/docker-for-windows/install/), [Linux Distros](https://docs.docker.com/engine/install/centos/).\n",
    "\n",
    "You can verify that you have correctly installed docker by running `docker version` on the shell:"
   ]
  },
  {
   "cell_type": "code",
   "execution_count": 1,
   "metadata": {},
   "outputs": [
    {
     "name": "stdout",
     "output_type": "stream",
     "text": [
      "Client: Docker Engine - Community\n",
      " Cloud integration: 1.0.2\n",
      " Version:           19.03.13\n",
      " API version:       1.40\n",
      " Go version:        go1.13.15\n",
      " Git commit:        4484c46d9d\n",
      " Built:             Wed Sep 16 17:00:27 2020\n",
      " OS/Arch:           windows/amd64\n",
      " Experimental:      false\n",
      "\n",
      "Server: Docker Engine - Community\n",
      " Engine:\n",
      "  Version:          19.03.13\n",
      "  API version:      1.40 (minimum version 1.12)\n",
      "  Go version:       go1.13.15\n",
      "  Git commit:       4484c46d9d\n",
      "  Built:            Wed Sep 16 17:07:04 2020\n",
      "  OS/Arch:          linux/amd64\n",
      "  Experimental:     false\n",
      " containerd:\n",
      "  Version:          v1.3.7\n",
      "  GitCommit:        8fba4e9a7d01810a393d5d25a3621dc101981175\n",
      " runc:\n",
      "  Version:          1.0.0-rc10\n",
      "  GitCommit:        dc9208a3303feef5b3839f4323d9beb36df0a9dd\n",
      " docker-init:\n",
      "  Version:          0.18.0\n",
      "  GitCommit:        fec3683\n"
     ]
    }
   ],
   "source": [
    "!docker version"
   ]
  },
  {
   "cell_type": "markdown",
   "metadata": {},
   "source": [
    "Next, start `lakeFS` instance with a single command:"
   ]
  },
  {
   "attachments": {},
   "cell_type": "markdown",
   "metadata": {},
   "source": [
    "```\n",
    "curl https://compose.lakefs.io | docker-compose -f - up\n",
    "```"
   ]
  },
  {
   "cell_type": "markdown",
   "metadata": {},
   "source": [
    "If your output is anything like this, you are on the right track:"
   ]
  },
  {
   "cell_type": "markdown",
   "metadata": {},
   "source": [
    "<img src='images/1.png'></img>"
   ]
  },
  {
   "cell_type": "markdown",
   "metadata": {},
   "source": [
    "You can also see the image running on your Docker Desktop Console:"
   ]
  },
  {
   "cell_type": "markdown",
   "metadata": {},
   "source": [
    "<img src='images/2.png'></img>"
   ]
  },
  {
   "cell_type": "markdown",
   "metadata": {},
   "source": [
    "When you run the `docker-compose` command for the first time, you should set up a user admin by opening `http://127.0.0.1:8000/setup` on your browser. It will open up this page:"
   ]
  },
  {
   "cell_type": "markdown",
   "metadata": {},
   "source": [
    "<img src='images/3.png'></img>"
   ]
  },
  {
   "cell_type": "markdown",
   "metadata": {},
   "source": [
    "Enter a username of your choice and it will give you one-time only credentials. You should store them securely in a file somewhere because we will need it later. \n",
    "\n",
    "After `lakeFS` gives credentials, proceed to `http://127.0.0.1:8000/login` where you will be able to log in using your credentials. As soon as you login, you land on your repositories page, think of it like your GitHub account but with `lakeFS`:"
   ]
  },
  {
   "cell_type": "markdown",
   "metadata": {},
   "source": [
    "<img src='images/4.png'></img>"
   ]
  },
  {
   "cell_type": "markdown",
   "metadata": {},
   "source": [
    "This page is your UI for interacting with all of your repos and your user account. \n",
    "\n",
    "However, for peeps who loves the shell, `lakeFS` provides even more powerful Command Line Interface which we will cover in the next section."
   ]
  },
  {
   "cell_type": "markdown",
   "metadata": {},
   "source": [
    "### Installing the lakeFS CLI (Comman Line Interface)"
   ]
  },
  {
   "cell_type": "markdown",
   "metadata": {},
   "source": [
    "`lakeFS CLI` is installed using its CLI binary. First, go to [this](https://github.com/treeverse/lakeFS/releases/tag/v0.17.0) page GitHub releases page of `lakeFS`. If you scroll to the bottom, you will find download options depending on your OS:"
   ]
  },
  {
   "attachments": {},
   "cell_type": "markdown",
   "metadata": {},
   "source": [
    "<img src='images/5.png'></img>"
   ]
  },
  {
   "cell_type": "markdown",
   "metadata": {},
   "source": [
    "Download yours and place it somewhere in your `PATH`. If you want to run the CLI for a single project, you can extract it directly into the root directory of your project:"
   ]
  },
  {
   "cell_type": "markdown",
   "metadata": {},
   "source": [
    "<img src='images/6.png'></img>"
   ]
  },
  {
   "cell_type": "markdown",
   "metadata": {},
   "source": [
    "Before running the CLI commands check that you are still running the `lakeFS` image from your Docker Console. Then, run this command to check if the CLI is working:"
   ]
  },
  {
   "cell_type": "markdown",
   "metadata": {},
   "source": [
    "```\n",
    "lakectl help\n",
    "```"
   ]
  },
  {
   "cell_type": "markdown",
   "metadata": {},
   "source": [
    "If the shell displays help page, congratulations, you are running the CLI on your local machine!"
   ]
  },
  {
   "cell_type": "markdown",
   "metadata": {},
   "source": [
    "### lakeFS namespace"
   ]
  },
  {
   "cell_type": "markdown",
   "metadata": {},
   "source": [
    "Before we move on, it is important that you know the `lakeFS` namespace. Different operations all reference components of `lakeFS` repositories through the `lakefs://` keyword. Here is a reference list of patterns for referring to different components (don't worry if you don't understand some of the terms, they will be introduced in the later sections):\n",
    "- Repositories: `lakefs://<repo-name>\n",
    "- Commits: `lakefs://<repo-name>@<commit-id>`\n",
    "- Branches: `lakefs://<repo-name>@<branch-id>`\n",
    "- Files (objects): `lakefs://<repo-name>@<branch-id>/<object path>`\n",
    "> Ignore `<>`."
   ]
  }
 ],
 "metadata": {
  "kernelspec": {
   "display_name": "medium_articles",
   "language": "python",
   "name": "medium_articles"
  },
  "language_info": {
   "codemirror_mode": {
    "name": "ipython",
    "version": 3
   },
   "file_extension": ".py",
   "mimetype": "text/x-python",
   "name": "python",
   "nbconvert_exporter": "python",
   "pygments_lexer": "ipython3",
   "version": "3.8.5"
  }
 },
 "nbformat": 4,
 "nbformat_minor": 4
}
