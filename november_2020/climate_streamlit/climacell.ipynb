{
 "cells": [
  {
   "cell_type": "markdown",
   "metadata": {},
   "source": [
    "# Streamlit + Climacell = Speed\n",
    "## Building production-level weather visualizer app in a day\n",
    "<img src='images/gear.jpg'></img>\n",
    "<figcaption style=\"text-align: center;\">\n",
    "    <strong>\n",
    "        Photo by \n",
    "        <a href='https://www.pexels.com/@pixabay?utm_content=attributionCopyText&utm_medium=referral&utm_source=pexels'>Pixabay</a>\n",
    "        on \n",
    "        <a href='https://www.pexels.com/photo/close-up-of-gear-shift-over-black-background-248539/?utm_content=attributionCopyText&utm_medium=referral&utm_source=pexels'>Pexels</a>\n",
    "    </strong>\n",
    "</figcaption>"
   ]
  },
  {
   "cell_type": "markdown",
   "metadata": {},
   "source": [
    "### Introduction <small id='intro'></small>"
   ]
  },
  {
   "cell_type": "markdown",
   "metadata": {},
   "source": [
    "About 3 days ago, I got introduced to a Weather API by Climacell. Unlike many other APIs I have faced, it was dead simple, had a generous free plan and there was absolutely no need for external packages/wrappers required (or building one in some cases). Install `requests`, get an API key and you were done. \n",
    "\n",
    "Being a data scientist (or trying to be one), I immediately started exploring the ideas for building something useful using the data of the API. I also wanted it to be something rare and stand out from the crowd. \n",
    "\n",
    "Turns out, this was a perfect learning opportunity for me. I have been putting off checking out Streamlit, which is all the hype now, and decided to use it for this project. I went over the documentation and before even trying out an example, I already fell in love with it. I spent around 3-4 hours experimenting with the library and reading the documentation cover-to-cover. And in a day, I was displaying the realtime temperatures of my hometown on a `plotly` ScatterMapbox on my Streamlit web-app. (More on that later). How crazy is that?\n",
    "\n",
    "Before I show you the web-app and explain how I built it, let me get you up to speed with some of the terms I will be using. If you know them, you can skip a couple sections."
   ]
  },
  {
   "cell_type": "markdown",
   "metadata": {},
   "source": [
    "### Overview\n",
    "1. [Introduction](#intro)\n",
    "1. [What Is an API](#api)\n",
    "1. [Climacell Weather API](#weather)\n",
    "1. [What Is Streamlit?](#streamlit)\n",
    "1. [Putting It Together](#together)"
   ]
  },
  {
   "cell_type": "markdown",
   "metadata": {},
   "source": [
    "### What Is an API? <small id='api'></small>"
   ]
  },
  {
   "cell_type": "markdown",
   "metadata": {},
   "source": [
    "### Climacell API <small id='climacell'></small>"
   ]
  },
  {
   "cell_type": "markdown",
   "metadata": {},
   "source": [
    "### Wait, what was Streamlit again? <small id='streamlit'></small>"
   ]
  },
  {
   "cell_type": "markdown",
   "metadata": {},
   "source": [
    "### Putting It Together <small id='together'></small>"
   ]
  }
 ],
 "metadata": {
  "kernelspec": {
   "display_name": "medium_articles",
   "language": "python",
   "name": "medium_articles"
  },
  "language_info": {
   "codemirror_mode": {
    "name": "ipython",
    "version": 3
   },
   "file_extension": ".py",
   "mimetype": "text/x-python",
   "name": "python",
   "nbconvert_exporter": "python",
   "pygments_lexer": "ipython3",
   "version": "3.8.5"
  }
 },
 "nbformat": 4,
 "nbformat_minor": 4
}
