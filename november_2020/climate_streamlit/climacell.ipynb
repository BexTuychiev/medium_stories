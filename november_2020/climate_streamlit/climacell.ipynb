{
 "cells": [
  {
   "cell_type": "markdown",
   "metadata": {},
   "source": [
    "# Streamlit + Climacell = Speed\n",
    "## Building production-level weather visualizer app in a day\n",
    "<img src='images/gear.jpg'></img>\n",
    "<figcaption style=\"text-align: center;\">\n",
    "    <strong>\n",
    "        Photo by \n",
    "        <a href='https://www.pexels.com/@pixabay?utm_content=attributionCopyText&utm_medium=referral&utm_source=pexels'>Pixabay</a>\n",
    "        on \n",
    "        <a href='https://www.pexels.com/photo/close-up-of-gear-shift-over-black-background-248539/?utm_content=attributionCopyText&utm_medium=referral&utm_source=pexels'>Pexels</a>\n",
    "    </strong>\n",
    "</figcaption>"
   ]
  },
  {
   "cell_type": "markdown",
   "metadata": {},
   "source": [
    "### Introduction <small id='intro'></small>"
   ]
  },
  {
   "cell_type": "markdown",
   "metadata": {},
   "source": [
    "About 3 days ago, I got introduced to a Weather API by Climacell. Unlike many other APIs I have faced, it was dead simple, had a generous free plan and there was absolutely no need for external packages/wrappers required (or building one in some cases). Install `requests`, get an API key and you were done. \n",
    "\n",
    "Being a data scientist (or trying to be one), I immediately started exploring the ideas for building something useful using the data of the API. I also wanted it to be something rare and stand out from the crowd. \n",
    "\n",
    "Turns out, this was a perfect learning opportunity for me. I have been putting off checking out Streamlit, which is all the hype now, and decided to use it for this project. I went over the documentation and before even trying out an example, I already fell in love with it. I spent around 3-4 hours experimenting with the library and reading the documentation cover-to-cover. And in a day, I was displaying the realtime temperatures of my hometown on a `plotly` ScatterMapbox on my Streamlit web-app. (More on that later). How crazy is that?\n",
    "\n",
    "Before I show you the web-app and explain how I built it, let me get you up to speed with some of the terms I will be using. If you know them, you can skip a couple sections."
   ]
  },
  {
   "cell_type": "markdown",
   "metadata": {},
   "source": [
    "### Overview\n",
    "1. [Introduction](#intro)\n",
    "1. [What Is an API](#api)\n",
    "1. [Climacell Weather API](#weather)\n",
    "1. [What Is Streamlit?](#streamlit)\n",
    "1. [Putting It Together](#together)"
   ]
  },
  {
   "cell_type": "markdown",
   "metadata": {},
   "source": [
    "### What Is an API? <small id='api'></small>"
   ]
  },
  {
   "cell_type": "markdown",
   "metadata": {},
   "source": [
    "> API stands for Application Programming Interface\n",
    "\n",
    "Imagine a database. Normally, you would use SQL to fetch data from a remote or a database server. But with APIs, you mostly send \n",
    "`HTTP GET` requests. Just like databases have tables, APIs have endpoints. Each database table has a name, each API endpoint has a special URL. As simple as that.\n",
    "\n",
    "Getting data from API is named making an API call. With some APIs you would have to use special packages called wrappers to make requests to the API. Sometimes, you just have to know the endpoint URL and you can get the information with `requests` or `urllib` modules.\n",
    "\n",
    "Just like I did on the web-app, let me show you an example of how you can get the current temperature for New York City using Weather API of Climacell:"
   ]
  },
  {
   "cell_type": "code",
   "execution_count": 5,
   "metadata": {},
   "outputs": [
    {
     "data": {
      "text/plain": [
       "{'lat': 40.689247,\n",
       " 'lon': -74.044502,\n",
       " 'temp': {'value': 58.89, 'units': 'F'},\n",
       " 'humidity': {'value': 94.38, 'units': '%'},\n",
       " 'observation_time': {'value': '2020-11-23T09:55:18.752Z'}}"
      ]
     },
     "execution_count": 5,
     "metadata": {},
     "output_type": "execute_result"
    }
   ],
   "source": [
    "# Necessary libraries\n",
    "import requests  # pip install requests\n",
    "import os\n",
    "import json\n",
    "\n",
    "# Store the realtime weather endpoint link\n",
    "endpoint = 'https://api.climacell.co/v3/weather/realtime'\n",
    "\n",
    "# Build a dict for parameters to be used\n",
    "params = {\n",
    "    'lat': '40.689247', 'lon': '-74.044502', # Statue of Liberty, NY\n",
    "    'fields': 'temp,humidity',    # Get the current temperature and humidity\n",
    "    'apikey': os.environ['CLIMACELL_API'], # Get my API key from env variables\n",
    "    'unit_system': 'us'   # Display in Fahrenheit\n",
    "} \n",
    "# Make an API call\n",
    "res = requests.request(\"GET\", endpoint, params=params)\n",
    "# Use JSON to parse into a dictionary\n",
    "response = json.loads(res.content)\n",
    "response"
   ]
  },
  {
   "cell_type": "markdown",
   "metadata": {},
   "source": [
    "Explanation of the code in the last section..."
   ]
  },
  {
   "cell_type": "markdown",
   "metadata": {},
   "source": [
    "### Getting started with Climacell Weather API <small id='climacell'></small>"
   ]
  },
  {
   "cell_type": "markdown",
   "metadata": {},
   "source": [
    "<img src='images/climacell.png'></img>\n",
    "<figcaption style=\"text-align: center;\">\n",
    "    <strong>\n",
    "        Image by <a href='https://medium.com/@ibexorigin'>author</a>.\n",
    "    </strong>\n",
    "</figcaption>"
   ]
  },
  {
   "cell_type": "markdown",
   "metadata": {},
   "source": [
    "For this project, I used [Weather API](https://developer.climacell.co/v3/reference) of Climacell. As I stated before, as soon as you sign up using this [link](https://developer.climacell.co/sign-up) for the free plan, you will get access to your private dashboard where you can see your API key.\n",
    "<img src='images/pricing.png'></img>\n",
    "<figcaption style=\"text-align: center;\">\n",
    "    <strong>\n",
    "        Pricing of plans on Climacell. Image by <a href='https://medium.com/@ibexorigin'>author</a>\n",
    "    </strong>\n",
    "</figcaption>\n",
    "\n",
    "\n",
    "\n",
    "As you can see, the free plan (no credit card required) is perfect for everyday use. The rates are only limited hourly and daily.\n",
    "<img src='images/dashboard.png'></img>\n",
    "<img src='images/call.png'></img>\n",
    "<figcaption style=\"text-align: center;\">\n",
    "    <strong>\n",
    "        Private dashboard. Image by <a href='https://medium.com/@ibexorigin'>author</a>.\n",
    "    </strong>\n",
    "</figcaption>\n",
    "\n",
    "Before we move on to the code, make sure you get your API key to follow along."
   ]
  },
  {
   "cell_type": "markdown",
   "metadata": {},
   "source": [
    "### Wait, what was Streamlit again? <small id='streamlit'></small>"
   ]
  },
  {
   "cell_type": "markdown",
   "metadata": {},
   "source": [
    "<img src='images/streamlit.png'></img>\n",
    "<figcaption style=\"text-align: center;\">\n",
    "    <strong>\n",
    "        Streamlit homepage. Image by <a href='https://medium.com/@ibexorigin'>author</a>.\n",
    "    </strong>\n",
    "</figcaption>"
   ]
  },
  {
   "cell_type": "markdown",
   "metadata": {},
   "source": [
    "Even though developed in 2013, 2019 has seen a massive surge in the usage of the framework. I think the framework's main attraction is its dead simplicity and blazing fast development cycle. It has been such a blessing for people in data sphere who hate static notebooks but are too lazy to use web-development to deploy their models into a web-app.\n",
    "\n",
    "You can see some of the apps developed using Streamlit on [this](https://www.streamlit.io/gallery) link."
   ]
  },
  {
   "cell_type": "markdown",
   "metadata": {},
   "source": [
    "To create apps using `Streamlit`, you should install it via pip:\n",
    "\n",
    "```pip install streamlit```\n",
    "\n",
    "Then, you can import it using a standard convention alias and build on:"
   ]
  },
  {
   "cell_type": "code",
   "execution_count": 6,
   "metadata": {},
   "outputs": [],
   "source": [
    "import streamlit as st"
   ]
  },
  {
   "cell_type": "markdown",
   "metadata": {},
   "source": [
    "For example, here is a sample code to create this exact section on Streamlit, though it can do so much more, as you will see later:"
   ]
  },
  {
   "cell_type": "code",
   "execution_count": 7,
   "metadata": {
    "scrolled": true
   },
   "outputs": [
    {
     "data": {
      "text/plain": [
       "<streamlit.delta_generator.DeltaGenerator at 0x1adb3708ee0>"
      ]
     },
     "execution_count": 7,
     "metadata": {},
     "output_type": "execute_result"
    }
   ],
   "source": [
    "# Import streamlit\n",
    "import streamlit as st\n",
    "# To render images\n",
    "from PIL import Image\n",
    "\n",
    "# Subhead\n",
    "st.subheader('Wait, what was Streamlit again?')\n",
    "# Load images using PIL\n",
    "image = Image.open('images/streamlit.png')\n",
    "# Render images using st.image() with caption\n",
    "st.image(image, caption='Streamlit homepage. Image by author.')\n",
    "st.markdown(\"\"\"\n",
    "    <p>\n",
    "    Even though developed in 2013, 2019 has seen a massive surge in the usage of the framework. \n",
    "    I think the framework's main attraction is its dead simplicity and blazing fast development cycle. \n",
    "    It has been such a blessing for people in data sphere who hate static notebooks but are too \n",
    "    lazy to use web-development to deploy their models into a web-app.\n",
    "    \n",
    "    You can see some of the apps developed using Streamlit on \n",
    "    <a href='https://www.streamlit.io/gallery'></a>this link.\n",
    "    </p>\n",
    "    \n",
    "    To create apps using `Streamlit`, you should install it via pip:\n",
    "    \n",
    "    ```pip install streamlit```\n",
    "\"\"\")"
   ]
  },
  {
   "cell_type": "markdown",
   "metadata": {},
   "source": [
    "<img src='images/sample.png'></img>"
   ]
  },
  {
   "cell_type": "markdown",
   "metadata": {},
   "source": [
    "To run the above code in a browser, navigate to the directory of the script and run this command on shell:\n",
    "\n",
    "```streamlit run [script_name].py```"
   ]
  },
  {
   "cell_type": "markdown",
   "metadata": {},
   "source": [
    "### Putting It Together <small id='together'></small>"
   ]
  }
 ],
 "metadata": {
  "kernelspec": {
   "display_name": "medium_articles",
   "language": "python",
   "name": "medium_articles"
  },
  "language_info": {
   "codemirror_mode": {
    "name": "ipython",
    "version": 3
   },
   "file_extension": ".py",
   "mimetype": "text/x-python",
   "name": "python",
   "nbconvert_exporter": "python",
   "pygments_lexer": "ipython3",
   "version": "3.8.5"
  }
 },
 "nbformat": 4,
 "nbformat_minor": 4
}
