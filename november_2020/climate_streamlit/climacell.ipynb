{
 "cells": [
  {
   "cell_type": "markdown",
   "metadata": {},
   "source": [
    "# Streamlit + Climacell = Speed\n",
    "## Building production-level weather visualizer app in a day\n",
    "<img src='images/gear.jpg'></img>\n",
    "<figcaption style=\"text-align: center;\">\n",
    "    <strong>\n",
    "        Photo by \n",
    "        <a href='https://www.pexels.com/@pixabay?utm_content=attributionCopyText&utm_medium=referral&utm_source=pexels'>Pixabay</a>\n",
    "        on \n",
    "        <a href='https://www.pexels.com/photo/close-up-of-gear-shift-over-black-background-248539/?utm_content=attributionCopyText&utm_medium=referral&utm_source=pexels'>Pexels</a>\n",
    "    </strong>\n",
    "</figcaption>"
   ]
  },
  {
   "cell_type": "markdown",
   "metadata": {},
   "source": [
    "### Introduction <small id='intro'></small>"
   ]
  },
  {
   "cell_type": "markdown",
   "metadata": {},
   "source": [
    "About 3 days ago, I got introduced to a Weather API by Climacell. Unlike many other APIs I have faced, it was dead simple, had a generous free plan and there was absolutely no need for external packages/wrappers required (or building one in some cases). Install `requests`, get an API key and you were done. \n",
    "\n",
    "Being a data scientist (or trying to be one), I immediately started exploring the ideas for building something useful using the data of the API. I also wanted it to be something rare and stand out from the crowd. \n",
    "\n",
    "Turns out, this was a perfect learning opportunity for me. I have been putting off checking out Streamlit, which is all the hype now, and decided to use it for this project. I went over the documentation and before even trying out an example, I already fell in love with it. I spent around 3-4 hours experimenting with the library and reading the documentation cover-to-cover. And in a day, I was displaying the realtime temperatures of my hometown on a `plotly` ScatterMapbox on my Streamlit web-app. (More on that later). How crazy is that?\n",
    "\n",
    "Before I show you the web-app and explain how I built it, let me get you up to speed with some of the terms I will be using. If you know them, you can skip a couple sections."
   ]
  },
  {
   "cell_type": "markdown",
   "metadata": {},
   "source": [
    "### Overview\n",
    "1. [Introduction](#intro)\n",
    "1. [What Is an API](#api)\n",
    "1. [Climacell Weather API](#weather)\n",
    "1. [What Is Streamlit?](#streamlit)\n",
    "1. [Putting It Together](#together)\n",
    "1. [Moving on To Code](#code)"
   ]
  },
  {
   "cell_type": "markdown",
   "metadata": {},
   "source": [
    "### What Is an API? <small id='api'></small>"
   ]
  },
  {
   "cell_type": "markdown",
   "metadata": {},
   "source": [
    "> API stands for Application Programming Interface\n",
    "\n",
    "Imagine a database. Normally, you would use SQL to fetch data from a remote or a database server. But with APIs, you mostly send \n",
    "`HTTP GET` requests. Just like databases have tables, APIs have endpoints. Each database table has a name, each API endpoint has a special URL. As simple as that.\n",
    "\n",
    "Getting data from API is named making an API call. With some APIs you would have to use special packages called wrappers to make requests to the API. Sometimes, you just have to know the endpoint URL and you can get the information with `requests` or `urllib` modules.\n",
    "\n",
    "Just like I did on the web-app, let me show you an example of how you can get the current temperature for New York City using Weather API of Climacell:"
   ]
  },
  {
   "cell_type": "code",
   "execution_count": 8,
   "metadata": {},
   "outputs": [
    {
     "data": {
      "text/plain": [
       "{'lat': 40.689247,\n",
       " 'lon': -74.044502,\n",
       " 'temp': {'value': 55.51, 'units': 'F'},\n",
       " 'humidity': {'value': 90.69, 'units': '%'},\n",
       " 'observation_time': {'value': '2020-11-23T14:35:48.617Z'}}"
      ]
     },
     "execution_count": 8,
     "metadata": {},
     "output_type": "execute_result"
    }
   ],
   "source": [
    "# Necessary libraries\n",
    "import requests  # pip install requests\n",
    "import os\n",
    "import json\n",
    "\n",
    "# Store the realtime weather endpoint link\n",
    "endpoint = 'https://api.climacell.co/v3/weather/realtime'\n",
    "\n",
    "# Build a dict for parameters to be used\n",
    "params = {\n",
    "    'lat': '40.689247', 'lon': '-74.044502', # Statue of Liberty, NY\n",
    "    'fields': 'temp,humidity',    # Get the current temperature and humidity\n",
    "    'apikey': os.environ['CLIMACELL_API'], # Get my API key from env variables\n",
    "    'unit_system': 'us'   # Display in Fahrenheit\n",
    "} \n",
    "# Make an API call\n",
    "res = requests.request(\"GET\", endpoint, params=params)\n",
    "# Use JSON to parse into a dictionary\n",
    "response = json.loads(res.content)\n",
    "response"
   ]
  },
  {
   "cell_type": "markdown",
   "metadata": {},
   "source": [
    "Explanation of the code in the last section..."
   ]
  },
  {
   "cell_type": "markdown",
   "metadata": {},
   "source": [
    "### Getting started with Climacell Weather API <small id='climacell'></small>"
   ]
  },
  {
   "cell_type": "markdown",
   "metadata": {},
   "source": [
    "<img src='images/climacell.png'></img>\n",
    "<figcaption style=\"text-align: center;\">\n",
    "    <strong>\n",
    "        Image by <a href='https://medium.com/@ibexorigin'>author</a>.\n",
    "    </strong>\n",
    "</figcaption>"
   ]
  },
  {
   "cell_type": "markdown",
   "metadata": {},
   "source": [
    "For this project, I used [Weather API](https://developer.climacell.co/v3/reference) of Climacell. As I stated before, as soon as you sign up using this [link](https://developer.climacell.co/sign-up) for the free plan, you will get access to your private dashboard where you can see your API key.\n",
    "<img src='images/pricing.png'></img>\n",
    "<figcaption style=\"text-align: center;\">\n",
    "    <strong>\n",
    "        Pricing of plans on Climacell. Image by <a href='https://medium.com/@ibexorigin'>author</a>\n",
    "    </strong>\n",
    "</figcaption>\n",
    "\n",
    "\n",
    "\n",
    "As you can see, the free plan (no credit card required) is perfect for everyday use. The rates are only limited hourly and daily.\n",
    "<img src='images/dashboard.png'></img>\n",
    "<img src='images/call.png'></img>\n",
    "<figcaption style=\"text-align: center;\">\n",
    "    <strong>\n",
    "        Private dashboard. Image by <a href='https://medium.com/@ibexorigin'>author</a>.\n",
    "    </strong>\n",
    "</figcaption>\n",
    "\n",
    "Before we move on to the code, make sure you get your API key to follow along."
   ]
  },
  {
   "cell_type": "markdown",
   "metadata": {},
   "source": [
    "### Wait, what was Streamlit again? <small id='streamlit'></small>"
   ]
  },
  {
   "cell_type": "markdown",
   "metadata": {},
   "source": [
    "<img src='images/streamlit.png'></img>\n",
    "<figcaption style=\"text-align: center;\">\n",
    "    <strong>\n",
    "        Streamlit homepage. Image by <a href='https://medium.com/@ibexorigin'>author</a>.\n",
    "    </strong>\n",
    "</figcaption>"
   ]
  },
  {
   "cell_type": "markdown",
   "metadata": {},
   "source": [
    "Even though developed in 2013, 2019 has seen a massive surge in the usage of the framework. I think the framework's main attraction is its dead simplicity and blazing fast development cycle. It has been such a blessing for people in data sphere who hate static notebooks but are too lazy to use web-development to deploy their models into a web-app.\n",
    "\n",
    "You can see some of the apps developed using Streamlit on [this](https://www.streamlit.io/gallery) link."
   ]
  },
  {
   "cell_type": "markdown",
   "metadata": {},
   "source": [
    "To create apps using `Streamlit`, you should install it via pip:\n",
    "\n",
    "```pip install streamlit```\n",
    "\n",
    "Then, you can import it using a standard convention alias and build on:"
   ]
  },
  {
   "cell_type": "code",
   "execution_count": 9,
   "metadata": {},
   "outputs": [],
   "source": [
    "import streamlit as st"
   ]
  },
  {
   "cell_type": "markdown",
   "metadata": {},
   "source": [
    "For example, here is a sample code to create this exact section on Streamlit, though it can do so much more, as you will see later:"
   ]
  },
  {
   "cell_type": "code",
   "execution_count": 10,
   "metadata": {
    "scrolled": true
   },
   "outputs": [
    {
     "data": {
      "text/plain": [
       "<streamlit.delta_generator.DeltaGenerator at 0x1adb3708ee0>"
      ]
     },
     "execution_count": 10,
     "metadata": {},
     "output_type": "execute_result"
    }
   ],
   "source": [
    "# Import streamlit\n",
    "import streamlit as st\n",
    "# To render images\n",
    "from PIL import Image\n",
    "\n",
    "# Subhead\n",
    "st.subheader('Wait, what was Streamlit again?')\n",
    "# Load images using PIL\n",
    "image = Image.open('images/streamlit.png')\n",
    "# Render images using st.image() with caption\n",
    "st.image(image, caption='Streamlit homepage. Image by author.')\n",
    "st.markdown(\"\"\"\n",
    "    <p>\n",
    "    Even though developed in 2013, 2019 has seen a massive surge in the usage of the framework. \n",
    "    I think the framework's main attraction is its dead simplicity and blazing fast development cycle. \n",
    "    It has been such a blessing for people in data sphere who hate static notebooks but are too \n",
    "    lazy to use web-development to deploy their models into a web-app.\n",
    "    \n",
    "    You can see some of the apps developed using Streamlit on \n",
    "    <a href='https://www.streamlit.io/gallery'></a>this link.\n",
    "    </p>\n",
    "    \n",
    "    To create apps using `Streamlit`, you should install it via pip:\n",
    "    \n",
    "    ```pip install streamlit```\n",
    "\"\"\")"
   ]
  },
  {
   "cell_type": "markdown",
   "metadata": {},
   "source": [
    "<img src='images/sample.png'></img>"
   ]
  },
  {
   "cell_type": "markdown",
   "metadata": {},
   "source": [
    "To run the above code in a browser, navigate to the directory of the script and run this command on shell:\n",
    "\n",
    "```streamlit run [script_name].py```"
   ]
  },
  {
   "cell_type": "markdown",
   "metadata": {},
   "source": [
    "### Putting It Together <small id='together'></small>"
   ]
  },
  {
   "cell_type": "markdown",
   "metadata": {},
   "source": [
    "By recreating this project, you can improve on these skills:\n",
    "- Working with APIs\n",
    "- Deploying data apps into production with Streamlit\n",
    "- Writing production-level code\n",
    "- Scripting\n",
    "- Little bit of plotly geospatial visualization"
   ]
  },
  {
   "cell_type": "markdown",
   "metadata": {},
   "source": [
    "First things first, if you want to run the app on your own machine, you can do so by cloning the repo in your desired directory:\n",
    "\n",
    "```\n",
    "git clone https://github.com/BexTuychiev/climacell_weather_visualizer\n",
    "```\n",
    "\n",
    "Next, to install the dependencies, run:\n",
    "\n",
    "```\n",
    "pip install -r requirements.txt\n",
    "```"
   ]
  },
  {
   "cell_type": "markdown",
   "metadata": {},
   "source": [
    "After that, if you have not already, you should [sign up](https://developer.climacell.co/sign-up) for Climacell and get an API key. To hide your API keys when pushing the code to GitHub, you can store them as environment variables. Environment variables are best for passwords, API keys. You can set them like this:\n",
    "\n",
    "On Windows:\n",
    "```\n",
    "setx CLIMACELL_KEY value   # Replace value with your key without quotes\n",
    "```\n",
    "On Mac:\n",
    "```\n",
    "export CLIMACELL_KEY=value # Again, no quotes\n",
    "```"
   ]
  },
  {
   "cell_type": "markdown",
   "metadata": {},
   "source": [
    "Next, to display the maps, you will need free access token from Mapbox. Instructions [here](https://docs.mapbox.com/help/how-mapbox-works/access-tokens/). After that, you guessed it, you should store it in the environment variables:\n",
    "\n",
    "Windows:\n",
    "\n",
    "```\n",
    "setx MAPBOX_TOKEN value\n",
    "```\n",
    "\n",
    "Mac:\n",
    "```\n",
    "export MAPBOX_TOKEN=value\n",
    "```"
   ]
  },
  {
   "cell_type": "markdown",
   "metadata": {},
   "source": [
    "Finally, you can run the app by calling:\n",
    "```\n",
    "streamlit run app.py\n",
    "```"
   ]
  },
  {
   "cell_type": "markdown",
   "metadata": {},
   "source": [
    "When the app launches as a separate tab in your browser, you land on the page where you can choose the app mode. The default is 'Instructions and code explanation' section which will contain the instructions here. If you are reading this, you can directly choose `Run the app` where you will be directed to this page:\n",
    "<img src='images/run_app.png'></img>"
   ]
  },
  {
   "cell_type": "markdown",
   "metadata": {},
   "source": [
    "To get realtime weather patterns, you should choose the method of inputting location.\n",
    "\n",
    "The default is using a single (latitude, longitude) location and it is the best since it only makes one API call. For the input fields, you can input any unit and coordinate location and [Weather API](https://developer.climacell.co/v3/reference) fetches the results which are visualized using Plotly's `scatter_mapbox`:\n",
    "<img src='images/eiffel.png'></img>"
   ]
  },
  {
   "cell_type": "markdown",
   "metadata": {},
   "source": [
    "To see the temperature, you can hover over the point on the app and zoom in, out, drag around to explore the map itself, courtesy of Plotly."
   ]
  },
  {
   "cell_type": "markdown",
   "metadata": {},
   "source": [
    "The next two options of location input are a little different. Custom country input takes any string for country (typos, partial names are allowed) and does a fuzzy string matching under the hood. If there is a match from `data/worldcities.csv`, `pandas` will subset the dataframe for that country taking only top <25 countries based on population size. Using each cities location, the app makes an API call and visualizes the results (it will take a while):\n",
    "<img src='images/us.png'></img>"
   ]
  },
  {
   "cell_type": "markdown",
   "metadata": {},
   "source": [
    "The last option is just plain old dropdown of available countries, nothing fancy. It will visualize the results in the same way as above. I think I don't have to tell you in the last 2 methods, to visualize one country, the app makes 25 API calls. It means after 4 inputs, you have to wait an hour before you can try the app again because of the hourly limit of the Weather API free plan."
   ]
  },
  {
   "cell_type": "markdown",
   "metadata": {},
   "source": [
    "### Moving On to Code <small id='code'></small>"
   ]
  },
  {
   "cell_type": "code",
   "execution_count": null,
   "metadata": {},
   "outputs": [],
   "source": []
  },
  {
   "cell_type": "code",
   "execution_count": null,
   "metadata": {},
   "outputs": [],
   "source": []
  },
  {
   "cell_type": "code",
   "execution_count": null,
   "metadata": {},
   "outputs": [],
   "source": []
  },
  {
   "cell_type": "code",
   "execution_count": null,
   "metadata": {},
   "outputs": [],
   "source": []
  }
 ],
 "metadata": {
  "kernelspec": {
   "display_name": "medium_articles",
   "language": "python",
   "name": "medium_articles"
  },
  "language_info": {
   "codemirror_mode": {
    "name": "ipython",
    "version": 3
   },
   "file_extension": ".py",
   "mimetype": "text/x-python",
   "name": "python",
   "nbconvert_exporter": "python",
   "pygments_lexer": "ipython3",
   "version": "3.8.5"
  }
 },
 "nbformat": 4,
 "nbformat_minor": 4
}
