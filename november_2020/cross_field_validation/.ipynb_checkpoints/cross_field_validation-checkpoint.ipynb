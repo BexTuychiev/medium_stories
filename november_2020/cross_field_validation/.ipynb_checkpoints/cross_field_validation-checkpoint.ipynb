{
 "cells": [
  {
   "cell_type": "markdown",
   "metadata": {},
   "source": [
    "# Final Blows to the Dirty Data\n",
    "## Cross field validation with Pandas\n",
    "<img src='images/cross.jpg'></img>\n",
    "<figcaption style=\"text-align: center;\">\n",
    "    <strong>\n",
    "        Photo by \n",
    "        <a href='https://www.pexels.com/@ian-beckley-1278367?utm_content=attributionCopyText&utm_medium=referral&utm_source=pexels'>Ian Beckley</a>\n",
    "        on \n",
    "        <a href='https://www.pexels.com/photo/top-view-photography-of-roads-2440013/?utm_content=attributionCopyText&utm_medium=referral&utm_source=pexels'>Pexels</a>\n",
    "    </strong>\n",
    "</figcaption>"
   ]
  },
  {
   "cell_type": "markdown",
   "metadata": {},
   "source": [
    "### Introduction <small id='intro'></small>"
   ]
  },
  {
   "cell_type": "markdown",
   "metadata": {},
   "source": [
    "Today, data never comes in a single source. More often than not, it is collected in different locations and merged together. A common challenge when merging data is the data integrity. In simple words, making sure our data is correct by using multiple fields to check the validity of another. In fancier terms, this process is called **Cross Field Validation**.\n",
    "\n",
    "Sanity checking your dataset for data integrity is essential to have accurate analysis and running machine learning models. Cross field validation should come in after you dealt with most of the other cleaning issues like missing value imputation, ensuring field constraints are in place, etc. \n",
    "\n",
    "I wrote the code snippets for this post with regards to execution time. Since cross field validation may involve performing operations across multiple columns for millions of observations, the execution speed should is very important. The solutions suggested here should be scalable enough for even massive datasets."
   ]
  },
  {
   "cell_type": "markdown",
   "metadata": {},
   "source": [
    "### Overview\n",
    "1. [Introduction](#intro)\n",
    "1. [Setup](#setup)\n",
    "1. [Cross Field Validation, Example 1](#1)\n",
    "1. [Cross Field Validation, Example 2](#2)\n",
    "1. [Cross Field Validation, Speed Comparison ](#speed)"
   ]
  },
  {
   "cell_type": "markdown",
   "metadata": {},
   "source": [
    "### Setup <small id='setup'></small>"
   ]
  },
  {
   "cell_type": "code",
   "execution_count": 1,
   "metadata": {},
   "outputs": [],
   "source": [
    "# Scientific libraries\n",
    "import numpy as np\n",
    "import pandas as pd\n",
    "import datetime as dt\n",
    "\n",
    "# Ignore warnings\n",
    "import warnings\n",
    "warnings.filterwarnings('ignore')"
   ]
  },
  {
   "cell_type": "markdown",
   "metadata": {},
   "source": [
    "I generated a fake data to perform cross field validation:"
   ]
  },
  {
   "cell_type": "code",
   "execution_count": 2,
   "metadata": {},
   "outputs": [
    {
     "data": {
      "text/html": [
       "<div>\n",
       "<style scoped>\n",
       "    .dataframe tbody tr th:only-of-type {\n",
       "        vertical-align: middle;\n",
       "    }\n",
       "\n",
       "    .dataframe tbody tr th {\n",
       "        vertical-align: top;\n",
       "    }\n",
       "\n",
       "    .dataframe thead th {\n",
       "        text-align: right;\n",
       "    }\n",
       "</style>\n",
       "<table border=\"1\" class=\"dataframe\">\n",
       "  <thead>\n",
       "    <tr style=\"text-align: right;\">\n",
       "      <th></th>\n",
       "      <th>first_name</th>\n",
       "      <th>last_name</th>\n",
       "      <th>birthday</th>\n",
       "      <th>weight</th>\n",
       "      <th>height</th>\n",
       "      <th>bmi</th>\n",
       "      <th>age</th>\n",
       "    </tr>\n",
       "  </thead>\n",
       "  <tbody>\n",
       "    <tr>\n",
       "      <th>3750</th>\n",
       "      <td>Jameson</td>\n",
       "      <td>Fry</td>\n",
       "      <td>2002-10-06</td>\n",
       "      <td>85</td>\n",
       "      <td>164</td>\n",
       "      <td>31</td>\n",
       "      <td>18</td>\n",
       "    </tr>\n",
       "    <tr>\n",
       "      <th>980</th>\n",
       "      <td>King</td>\n",
       "      <td>Ramos</td>\n",
       "      <td>1987-04-02</td>\n",
       "      <td>67</td>\n",
       "      <td>191</td>\n",
       "      <td>18</td>\n",
       "      <td>33</td>\n",
       "    </tr>\n",
       "    <tr>\n",
       "      <th>3032</th>\n",
       "      <td>Jon</td>\n",
       "      <td>Powell</td>\n",
       "      <td>1981-01-20</td>\n",
       "      <td>52</td>\n",
       "      <td>179</td>\n",
       "      <td>16</td>\n",
       "      <td>39</td>\n",
       "    </tr>\n",
       "    <tr>\n",
       "      <th>9265</th>\n",
       "      <td>Abdul</td>\n",
       "      <td>Ross</td>\n",
       "      <td>1985-04-21</td>\n",
       "      <td>80</td>\n",
       "      <td>181</td>\n",
       "      <td>24</td>\n",
       "      <td>35</td>\n",
       "    </tr>\n",
       "    <tr>\n",
       "      <th>5202</th>\n",
       "      <td>Leo</td>\n",
       "      <td>Perez</td>\n",
       "      <td>1999-04-29</td>\n",
       "      <td>65</td>\n",
       "      <td>166</td>\n",
       "      <td>23</td>\n",
       "      <td>21</td>\n",
       "    </tr>\n",
       "    <tr>\n",
       "      <th>5598</th>\n",
       "      <td>Teresa</td>\n",
       "      <td>Jenkins</td>\n",
       "      <td>1985-07-13</td>\n",
       "      <td>94</td>\n",
       "      <td>181</td>\n",
       "      <td>28</td>\n",
       "      <td>35</td>\n",
       "    </tr>\n",
       "    <tr>\n",
       "      <th>9067</th>\n",
       "      <td>Parker</td>\n",
       "      <td>Martin</td>\n",
       "      <td>1984-12-17</td>\n",
       "      <td>72</td>\n",
       "      <td>176</td>\n",
       "      <td>23</td>\n",
       "      <td>36</td>\n",
       "    </tr>\n",
       "    <tr>\n",
       "      <th>9785</th>\n",
       "      <td>Brooke</td>\n",
       "      <td>Foster</td>\n",
       "      <td>2000-12-15</td>\n",
       "      <td>57</td>\n",
       "      <td>176</td>\n",
       "      <td>18</td>\n",
       "      <td>20</td>\n",
       "    </tr>\n",
       "    <tr>\n",
       "      <th>2791</th>\n",
       "      <td>Gunther</td>\n",
       "      <td>Cook</td>\n",
       "      <td>1994-04-03</td>\n",
       "      <td>73</td>\n",
       "      <td>182</td>\n",
       "      <td>22</td>\n",
       "      <td>26</td>\n",
       "    </tr>\n",
       "    <tr>\n",
       "      <th>4029</th>\n",
       "      <td>Landon</td>\n",
       "      <td>Taylor</td>\n",
       "      <td>1999-07-07</td>\n",
       "      <td>65</td>\n",
       "      <td>161</td>\n",
       "      <td>25</td>\n",
       "      <td>21</td>\n",
       "    </tr>\n",
       "  </tbody>\n",
       "</table>\n",
       "</div>"
      ],
      "text/plain": [
       "     first_name last_name   birthday  weight  height  bmi  age\n",
       "3750    Jameson       Fry 2002-10-06      85     164   31   18\n",
       "980        King     Ramos 1987-04-02      67     191   18   33\n",
       "3032        Jon    Powell 1981-01-20      52     179   16   39\n",
       "9265      Abdul      Ross 1985-04-21      80     181   24   35\n",
       "5202        Leo     Perez 1999-04-29      65     166   23   21\n",
       "5598     Teresa   Jenkins 1985-07-13      94     181   28   35\n",
       "9067     Parker    Martin 1984-12-17      72     176   23   36\n",
       "9785     Brooke    Foster 2000-12-15      57     176   18   20\n",
       "2791    Gunther      Cook 1994-04-03      73     182   22   26\n",
       "4029     Landon    Taylor 1999-07-07      65     161   25   21"
      ]
     },
     "execution_count": 2,
     "metadata": {},
     "output_type": "execute_result"
    }
   ],
   "source": [
    "# Load data\n",
    "people = pd.read_csv('data/people.csv', parse_dates=['birthday'])\n",
    "people.sample(10)"
   ]
  },
  {
   "cell_type": "code",
   "execution_count": 3,
   "metadata": {},
   "outputs": [
    {
     "data": {
      "text/plain": [
       "(10000, 7)"
      ]
     },
     "execution_count": 3,
     "metadata": {},
     "output_type": "execute_result"
    }
   ],
   "source": [
    "people.shape"
   ]
  },
  {
   "cell_type": "code",
   "execution_count": 4,
   "metadata": {},
   "outputs": [
    {
     "name": "stdout",
     "output_type": "stream",
     "text": [
      "<class 'pandas.core.frame.DataFrame'>\n",
      "RangeIndex: 10000 entries, 0 to 9999\n",
      "Data columns (total 7 columns):\n",
      " #   Column      Non-Null Count  Dtype         \n",
      "---  ------      --------------  -----         \n",
      " 0   first_name  10000 non-null  object        \n",
      " 1   last_name   10000 non-null  object        \n",
      " 2   birthday    10000 non-null  datetime64[ns]\n",
      " 3   weight      10000 non-null  int64         \n",
      " 4   height      10000 non-null  int64         \n",
      " 5   bmi         10000 non-null  int64         \n",
      " 6   age         10000 non-null  int64         \n",
      "dtypes: datetime64[ns](1), int64(4), object(2)\n",
      "memory usage: 547.0+ KB\n"
     ]
    }
   ],
   "source": [
    "people.info()"
   ]
  },
  {
   "cell_type": "markdown",
   "metadata": {},
   "source": [
    " ### Cross Field Validation, Example 1 <small id='1'></small>"
   ]
  },
  {
   "cell_type": "markdown",
   "metadata": {},
   "source": [
    "In the setup section, we loaded a fake `people` dataset. For example purposes, we are going to assume that this data was collected from two sources: from a census data that gives each individual's full name and birthday which was merged with their hospital records later. \n",
    "\n",
    "To have an accurate analysis, we should make sure our data is valid. In this case, we can check the validness of two fields: age and BMI (Body Mass Index). \n",
    "\n",
    "Let's start with age. We have to ensure when we subtract their birth year from the current year, the result matches the `age` column.\n",
    "\n",
    "When you are performing cross field validation, the speed should be the main concern. Unlike our little example, you may have to deal with millions of observations. One of the fastest methods for cross field validation for datasets with any size is `apply` function of `pandas`.\n",
    "\n",
    "Here is a simple example of `apply`:"
   ]
  },
  {
   "cell_type": "code",
   "execution_count": 5,
   "metadata": {
    "scrolled": true
   },
   "outputs": [
    {
     "data": {
      "text/plain": [
       "5498    Hello Edwards!\n",
       "6493     Hello Howard!\n",
       "7782        Hello Fry!\n",
       "9010      Hello Brown!\n",
       "7286    Hello Collins!\n",
       "Name: last_name, dtype: object"
      ]
     },
     "execution_count": 5,
     "metadata": {},
     "output_type": "execute_result"
    }
   ],
   "source": [
    "def stupid_function(x):\n",
    "    return f\"Hello {x}!\"\n",
    "\n",
    "people['last_name'].apply(stupid_function).sample(5)"
   ]
  },
  {
   "cell_type": "markdown",
   "metadata": {},
   "source": [
    "The above was an example of a column-wise execution. `apply` takes a function name as an argument and calls that function on each element of the column it was called on. The function has an extra argument `axis` which is by default set to `0` or `rows`. If we set it to `1` or `columns`, the function shifts to row-wise execution.\n",
    "\n",
    "> Note on `axis` argument: `axis='rows'` means performing an operation along the row axis which is vertical because rows are stacked vertically. `axis='columns'` means performing an operation along the column axis which is horizontal because columns are stacked horizontally. These two terms confuse a lot of people because they look like they are doing the opposite of what they are told to. In reality, it just takes a shift in perspective, or using the words if you will.\n",
    "\n",
    "Let's create a function that validates person's age:"
   ]
  },
  {
   "cell_type": "code",
   "execution_count": 6,
   "metadata": {},
   "outputs": [],
   "source": [
    "def validate_age(row):\n",
    "    \"\"\"\n",
    "    A function to validate\n",
    "    person's age by subtracting\n",
    "    birth year from the current year\n",
    "    and comparing the result \n",
    "    to the given age.\n",
    "    \"\"\"\n",
    "    # Store todays data\n",
    "    today = dt.date.today()\n",
    "    # Calculate age\n",
    "    age = today.year - row['birthday'].year\n",
    "    \n",
    "    return age == row['age']"
   ]
  },
  {
   "cell_type": "markdown",
   "metadata": {},
   "source": [
    "Since we are going to use `apply` for a row-wise operation, its inputs will be each row of the dataset. That's why we can easily access each column's value just like we would in a normal situation.\n",
    "\n",
    "Using the `datetime` package we imported earlier, we will store today's date. Then, we calculate the age by subtracting the year components from each other. For this to work, you have to make sure the `birthday` column has a `datetime` data type. \n",
    "\n",
    "In the `return` statement we compare the calculated age and the given age, which returns `True` if they match, `False` if otherwise:"
   ]
  },
  {
   "cell_type": "code",
   "execution_count": 7,
   "metadata": {
    "scrolled": true
   },
   "outputs": [
    {
     "data": {
      "text/html": [
       "<div>\n",
       "<style scoped>\n",
       "    .dataframe tbody tr th:only-of-type {\n",
       "        vertical-align: middle;\n",
       "    }\n",
       "\n",
       "    .dataframe tbody tr th {\n",
       "        vertical-align: top;\n",
       "    }\n",
       "\n",
       "    .dataframe thead th {\n",
       "        text-align: right;\n",
       "    }\n",
       "</style>\n",
       "<table border=\"1\" class=\"dataframe\">\n",
       "  <thead>\n",
       "    <tr style=\"text-align: right;\">\n",
       "      <th></th>\n",
       "      <th>first_name</th>\n",
       "      <th>last_name</th>\n",
       "      <th>birthday</th>\n",
       "      <th>weight</th>\n",
       "      <th>height</th>\n",
       "      <th>bmi</th>\n",
       "      <th>age</th>\n",
       "      <th>age_valid</th>\n",
       "    </tr>\n",
       "  </thead>\n",
       "  <tbody>\n",
       "    <tr>\n",
       "      <th>9305</th>\n",
       "      <td>Spencer</td>\n",
       "      <td>Johnson</td>\n",
       "      <td>2003-05-21</td>\n",
       "      <td>93</td>\n",
       "      <td>182</td>\n",
       "      <td>28</td>\n",
       "      <td>17</td>\n",
       "      <td>True</td>\n",
       "    </tr>\n",
       "    <tr>\n",
       "      <th>8946</th>\n",
       "      <td>Desirae</td>\n",
       "      <td>Wood</td>\n",
       "      <td>1989-06-26</td>\n",
       "      <td>58</td>\n",
       "      <td>191</td>\n",
       "      <td>15</td>\n",
       "      <td>31</td>\n",
       "      <td>True</td>\n",
       "    </tr>\n",
       "    <tr>\n",
       "      <th>4880</th>\n",
       "      <td>Piper</td>\n",
       "      <td>Carter</td>\n",
       "      <td>1994-04-14</td>\n",
       "      <td>63</td>\n",
       "      <td>164</td>\n",
       "      <td>23</td>\n",
       "      <td>26</td>\n",
       "      <td>True</td>\n",
       "    </tr>\n",
       "    <tr>\n",
       "      <th>7860</th>\n",
       "      <td>Evelyn</td>\n",
       "      <td>Ortiz</td>\n",
       "      <td>1981-07-31</td>\n",
       "      <td>59</td>\n",
       "      <td>190</td>\n",
       "      <td>16</td>\n",
       "      <td>39</td>\n",
       "      <td>True</td>\n",
       "    </tr>\n",
       "    <tr>\n",
       "      <th>3191</th>\n",
       "      <td>Garett</td>\n",
       "      <td>Fry</td>\n",
       "      <td>1994-11-01</td>\n",
       "      <td>84</td>\n",
       "      <td>188</td>\n",
       "      <td>23</td>\n",
       "      <td>26</td>\n",
       "      <td>True</td>\n",
       "    </tr>\n",
       "  </tbody>\n",
       "</table>\n",
       "</div>"
      ],
      "text/plain": [
       "     first_name last_name   birthday  weight  height  bmi  age  age_valid\n",
       "9305    Spencer   Johnson 2003-05-21      93     182   28   17       True\n",
       "8946    Desirae      Wood 1989-06-26      58     191   15   31       True\n",
       "4880      Piper    Carter 1994-04-14      63     164   23   26       True\n",
       "7860     Evelyn     Ortiz 1981-07-31      59     190   16   39       True\n",
       "3191     Garett       Fry 1994-11-01      84     188   23   26       True"
      ]
     },
     "execution_count": 7,
     "metadata": {},
     "output_type": "execute_result"
    }
   ],
   "source": [
    "people['age_valid'] = people.apply(validate_age, axis=1)\n",
    "people.sample(5)"
   ]
  },
  {
   "cell_type": "markdown",
   "metadata": {},
   "source": [
    "The function works as expected. Now we can subset the data for invalid ages if any:"
   ]
  },
  {
   "cell_type": "code",
   "execution_count": 8,
   "metadata": {},
   "outputs": [
    {
     "data": {
      "text/html": [
       "<div>\n",
       "<style scoped>\n",
       "    .dataframe tbody tr th:only-of-type {\n",
       "        vertical-align: middle;\n",
       "    }\n",
       "\n",
       "    .dataframe tbody tr th {\n",
       "        vertical-align: top;\n",
       "    }\n",
       "\n",
       "    .dataframe thead th {\n",
       "        text-align: right;\n",
       "    }\n",
       "</style>\n",
       "<table border=\"1\" class=\"dataframe\">\n",
       "  <thead>\n",
       "    <tr style=\"text-align: right;\">\n",
       "      <th></th>\n",
       "      <th>first_name</th>\n",
       "      <th>last_name</th>\n",
       "      <th>birthday</th>\n",
       "      <th>weight</th>\n",
       "      <th>height</th>\n",
       "      <th>bmi</th>\n",
       "      <th>age</th>\n",
       "      <th>age_valid</th>\n",
       "    </tr>\n",
       "  </thead>\n",
       "  <tbody>\n",
       "    <tr>\n",
       "      <th>46</th>\n",
       "      <td>Avery</td>\n",
       "      <td>Price</td>\n",
       "      <td>1983-08-24</td>\n",
       "      <td>90</td>\n",
       "      <td>181</td>\n",
       "      <td>27</td>\n",
       "      <td>52</td>\n",
       "      <td>False</td>\n",
       "    </tr>\n",
       "    <tr>\n",
       "      <th>167</th>\n",
       "      <td>Christian</td>\n",
       "      <td>Stewart</td>\n",
       "      <td>1996-01-21</td>\n",
       "      <td>92</td>\n",
       "      <td>165</td>\n",
       "      <td>33</td>\n",
       "      <td>27</td>\n",
       "      <td>False</td>\n",
       "    </tr>\n",
       "    <tr>\n",
       "      <th>394</th>\n",
       "      <td>Desirae</td>\n",
       "      <td>Edwards</td>\n",
       "      <td>1980-02-07</td>\n",
       "      <td>98</td>\n",
       "      <td>190</td>\n",
       "      <td>27</td>\n",
       "      <td>32</td>\n",
       "      <td>False</td>\n",
       "    </tr>\n",
       "    <tr>\n",
       "      <th>453</th>\n",
       "      <td>Evelyn</td>\n",
       "      <td>Johnson</td>\n",
       "      <td>1988-01-03</td>\n",
       "      <td>81</td>\n",
       "      <td>176</td>\n",
       "      <td>26</td>\n",
       "      <td>22</td>\n",
       "      <td>False</td>\n",
       "    </tr>\n",
       "    <tr>\n",
       "      <th>1047</th>\n",
       "      <td>Gunther</td>\n",
       "      <td>Gibson</td>\n",
       "      <td>1994-03-29</td>\n",
       "      <td>86</td>\n",
       "      <td>163</td>\n",
       "      <td>32</td>\n",
       "      <td>38</td>\n",
       "      <td>False</td>\n",
       "    </tr>\n",
       "    <tr>\n",
       "      <th>...</th>\n",
       "      <td>...</td>\n",
       "      <td>...</td>\n",
       "      <td>...</td>\n",
       "      <td>...</td>\n",
       "      <td>...</td>\n",
       "      <td>...</td>\n",
       "      <td>...</td>\n",
       "      <td>...</td>\n",
       "    </tr>\n",
       "    <tr>\n",
       "      <th>9599</th>\n",
       "      <td>Bradley</td>\n",
       "      <td>Colon</td>\n",
       "      <td>2003-07-23</td>\n",
       "      <td>55</td>\n",
       "      <td>174</td>\n",
       "      <td>18</td>\n",
       "      <td>43</td>\n",
       "      <td>False</td>\n",
       "    </tr>\n",
       "    <tr>\n",
       "      <th>9662</th>\n",
       "      <td>Julian</td>\n",
       "      <td>Miller</td>\n",
       "      <td>1998-09-03</td>\n",
       "      <td>55</td>\n",
       "      <td>190</td>\n",
       "      <td>15</td>\n",
       "      <td>79</td>\n",
       "      <td>False</td>\n",
       "    </tr>\n",
       "    <tr>\n",
       "      <th>9672</th>\n",
       "      <td>Easton</td>\n",
       "      <td>Chavez</td>\n",
       "      <td>1987-05-30</td>\n",
       "      <td>67</td>\n",
       "      <td>172</td>\n",
       "      <td>22</td>\n",
       "      <td>38</td>\n",
       "      <td>False</td>\n",
       "    </tr>\n",
       "    <tr>\n",
       "      <th>9867</th>\n",
       "      <td>Garett</td>\n",
       "      <td>Peterson</td>\n",
       "      <td>1983-08-07</td>\n",
       "      <td>79</td>\n",
       "      <td>180</td>\n",
       "      <td>24</td>\n",
       "      <td>76</td>\n",
       "      <td>False</td>\n",
       "    </tr>\n",
       "    <tr>\n",
       "      <th>9925</th>\n",
       "      <td>Legend</td>\n",
       "      <td>Phillips</td>\n",
       "      <td>1985-12-14</td>\n",
       "      <td>58</td>\n",
       "      <td>166</td>\n",
       "      <td>21</td>\n",
       "      <td>36</td>\n",
       "      <td>False</td>\n",
       "    </tr>\n",
       "  </tbody>\n",
       "</table>\n",
       "<p>75 rows × 8 columns</p>\n",
       "</div>"
      ],
      "text/plain": [
       "     first_name last_name   birthday  weight  height  bmi  age  age_valid\n",
       "46        Avery     Price 1983-08-24      90     181   27   52      False\n",
       "167   Christian   Stewart 1996-01-21      92     165   33   27      False\n",
       "394     Desirae   Edwards 1980-02-07      98     190   27   32      False\n",
       "453      Evelyn   Johnson 1988-01-03      81     176   26   22      False\n",
       "1047    Gunther    Gibson 1994-03-29      86     163   32   38      False\n",
       "...         ...       ...        ...     ...     ...  ...  ...        ...\n",
       "9599    Bradley     Colon 2003-07-23      55     174   18   43      False\n",
       "9662     Julian    Miller 1998-09-03      55     190   15   79      False\n",
       "9672     Easton    Chavez 1987-05-30      67     172   22   38      False\n",
       "9867     Garett  Peterson 1983-08-07      79     180   24   76      False\n",
       "9925     Legend  Phillips 1985-12-14      58     166   21   36      False\n",
       "\n",
       "[75 rows x 8 columns]"
      ]
     },
     "execution_count": 8,
     "metadata": {},
     "output_type": "execute_result"
    }
   ],
   "source": [
    "people[people['age_valid'] == False]"
   ]
  },
  {
   "cell_type": "markdown",
   "metadata": {},
   "source": [
    "There were 75 rows with invalid age. If you do the math, the ages do not match. To correct these values, we could write a new function but that would involve a code repetition. We can update `validate_age` to replace any invalid values with valid ones:"
   ]
  },
  {
   "cell_type": "code",
   "execution_count": 9,
   "metadata": {},
   "outputs": [],
   "source": [
    "def validate_age(row):\n",
    "    \"\"\"\n",
    "    A function to validate\n",
    "    person's age by subtracting\n",
    "    birth year from the current year\n",
    "    and comparing the result \n",
    "    to the given age.\n",
    "    \"\"\"\n",
    "    # Store todays data\n",
    "    today = dt.date.today()\n",
    "    # Calculate age\n",
    "    age = today.year - row['birthday'].year\n",
    "    # Replace all with the age, correct or not\n",
    "    row['age'] = age\n",
    "\n",
    "    return row['age']"
   ]
  },
  {
   "cell_type": "code",
   "execution_count": 10,
   "metadata": {},
   "outputs": [],
   "source": [
    "# Undo the last operation\n",
    "people.drop('age_valid', axis=1, inplace=True)\n",
    "# Modify the age column instead of creating a new one\n",
    "people['age'] = people.apply(validate_age, axis=1)"
   ]
  },
  {
   "cell_type": "markdown",
   "metadata": {},
   "source": [
    "We can make sure the operation was successful with an `assert` statement:"
   ]
  },
  {
   "cell_type": "code",
   "execution_count": 11,
   "metadata": {},
   "outputs": [],
   "source": [
    "today = dt.date.today()\n",
    "# Check with assert, no outout means successful\n",
    "assert (today.year - people['birthday'].dt.year == people['age']).all() == True"
   ]
  },
  {
   "cell_type": "markdown",
   "metadata": {},
   "source": [
    "### Cross Field Validation, Example 2 <small id='2'></small>"
   ]
  },
  {
   "cell_type": "markdown",
   "metadata": {},
   "source": [
    "Next, we will validate Body Mass Index column.\n",
    "> Body mass index is a value derived from the mass and height of a person.\n",
    "\n",
    "A quick Google search gives us the formula to calculate BMI:\n",
    "<img src='images/1.png'></img>"
   ]
  },
  {
   "cell_type": "markdown",
   "metadata": {},
   "source": [
    "Using the ideas from the first example, we will create the function for BMI which replaces invalid BMI with correct values:"
   ]
  },
  {
   "cell_type": "code",
   "execution_count": 12,
   "metadata": {},
   "outputs": [],
   "source": [
    "def validate_bmi(row):\n",
    "    \"\"\"\n",
    "    A function to validate BMI\n",
    "    of a person. Calculates the BMI \n",
    "    by dividing the mass (kg)\n",
    "    by squaring height (m).\n",
    "    \"\"\"\n",
    "    # Actual BMI\n",
    "    bmi = row['weight'] / (row['height'] / 100) ** 2\n",
    "    # Replace with bmi, correct or not\n",
    "    row['bmi'] = bmi\n",
    "    \n",
    "    return row['bmi']"
   ]
  },
  {
   "cell_type": "code",
   "execution_count": 13,
   "metadata": {},
   "outputs": [],
   "source": [
    "# Call the function\n",
    "people['bmi'] = people.apply(validate_bmi, axis=1)"
   ]
  },
  {
   "cell_type": "code",
   "execution_count": 14,
   "metadata": {},
   "outputs": [],
   "source": [
    "# Check the results, again no output means success\n",
    "assert (people['weight'] / (people['height'] / 100) ** 2 == people['bmi']).all() == True"
   ]
  },
  {
   "cell_type": "markdown",
   "metadata": {},
   "source": [
    "It is a good practice to start all of your validation functions with `validate_`. This gives a signal you are performing a validation to the readers of your code."
   ]
  },
  {
   "cell_type": "markdown",
   "metadata": {},
   "source": [
    "### Cross Field Validation, Speed Comparison <small id ='speed'></small>"
   ]
  },
  {
   "cell_type": "markdown",
   "metadata": {},
   "source": [
    "In this section, we will perform speed comparison of different methods for cross field validation. We will start off with the `apply` function for validating the `bmi`:"
   ]
  },
  {
   "cell_type": "code",
   "execution_count": 15,
   "metadata": {},
   "outputs": [],
   "source": [
    "def validate_bmi(row):\n",
    "    \"\"\"\n",
    "    A function to validate BMI\n",
    "    of a person. Calculates the BMI \n",
    "    by dividing the mass (kg)\n",
    "    by squaring height (m).\n",
    "    \"\"\"\n",
    "    # Actual BMI\n",
    "    bmi = row['weight'] / (row['height'] / 100) ** 2\n",
    "    # Replace with bmi, correct or not\n",
    "    row['bmi'] = bmi\n",
    "    \n",
    "    return row['bmi']"
   ]
  },
  {
   "cell_type": "code",
   "execution_count": 16,
   "metadata": {},
   "outputs": [
    {
     "name": "stdout",
     "output_type": "stream",
     "text": [
      "319 ms ± 29.7 ms per loop (mean ± std. dev. of 7 runs, 1 loop each)\n"
     ]
    }
   ],
   "source": [
    "%%timeit\n",
    "people['bmi'] = people.apply(validate_bmi, axis=1)"
   ]
  },
  {
   "cell_type": "markdown",
   "metadata": {},
   "source": [
    "It took around 0.3 seconds for 10k dataset. Next, we will use a for loop using pandas `iterrows()`:"
   ]
  },
  {
   "cell_type": "code",
   "execution_count": 17,
   "metadata": {},
   "outputs": [],
   "source": [
    "def validate_bmi(df):\n",
    "    \"\"\"\n",
    "    A function to validate\n",
    "    the bmi using iterrows()\n",
    "    \"\"\"\n",
    "    for index, row in df.iterrows():\n",
    "        # Calculate bmi\n",
    "        bmi = row['weight'] / (row['height'] / 100) ** 2\n",
    "        # Replace the old value\n",
    "        df.loc[index, 'bmi'] = bmi\n",
    "    return df"
   ]
  },
  {
   "cell_type": "code",
   "execution_count": 18,
   "metadata": {},
   "outputs": [
    {
     "name": "stdout",
     "output_type": "stream",
     "text": [
      "3.22 s ± 35.4 ms per loop (mean ± std. dev. of 7 runs, 1 loop each)\n"
     ]
    }
   ],
   "source": [
    "%%timeit\n",
    "df = validate_bmi(people)"
   ]
  },
  {
   "cell_type": "markdown",
   "metadata": {},
   "source": [
    "It took 10 times longer! Besides, this time difference will not be linear. For larger datasets, the difference becomes bigger and bigger. I don't think any for loop can beat the `apply` function, but let's also try `itertuples` which is generally faster than `iterrows()`:"
   ]
  },
  {
   "cell_type": "code",
   "execution_count": 19,
   "metadata": {},
   "outputs": [],
   "source": [
    "def validate_bmi(df):\n",
    "    \"\"\"\n",
    "    A function to validate\n",
    "    the bmi using itertuples()\n",
    "    \"\"\"\n",
    "    for row in df.itertuples():\n",
    "        # Calculate bmi\n",
    "        bmi = row[4] / (row[5] / 100) ** 2\n",
    "        # Replace the old value\n",
    "        df.loc[row[0], 'bmi'] = bmi\n",
    "    return df"
   ]
  },
  {
   "cell_type": "code",
   "execution_count": 20,
   "metadata": {},
   "outputs": [
    {
     "name": "stdout",
     "output_type": "stream",
     "text": [
      "2.18 s ± 27.1 ms per loop (mean ± std. dev. of 7 runs, 1 loop each)\n"
     ]
    }
   ],
   "source": [
    "%%timeit\n",
    "df = validate_bmi(people)"
   ]
  },
  {
   "cell_type": "markdown",
   "metadata": {},
   "source": [
    "Still much slower than `apply`. So, the general rule of thumb for cross field validation is to always use `apply` function."
   ]
  }
 ],
 "metadata": {
  "kernelspec": {
   "display_name": "medium_articles",
   "language": "python",
   "name": "medium_articles"
  },
  "language_info": {
   "codemirror_mode": {
    "name": "ipython",
    "version": 3
   },
   "file_extension": ".py",
   "mimetype": "text/x-python",
   "name": "python",
   "nbconvert_exporter": "python",
   "pygments_lexer": "ipython3",
   "version": "3.8.5"
  }
 },
 "nbformat": 4,
 "nbformat_minor": 4
}
