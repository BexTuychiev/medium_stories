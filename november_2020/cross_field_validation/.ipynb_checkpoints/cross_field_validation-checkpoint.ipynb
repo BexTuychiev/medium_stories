{
 "cells": [
  {
   "cell_type": "markdown",
   "metadata": {},
   "source": [
    "# Final Blows to the Dirty Data\n",
    "## Cross field validation with Pandas\n",
    "<img src='images/cross.jpg'></img>\n",
    "<figcaption style=\"text-align: center;\">\n",
    "    <strong>\n",
    "        Photo by \n",
    "        <a href='https://www.pexels.com/@ian-beckley-1278367?utm_content=attributionCopyText&utm_medium=referral&utm_source=pexels'>Ian Beckley</a>\n",
    "        on \n",
    "        <a href='https://www.pexels.com/photo/top-view-photography-of-roads-2440013/?utm_content=attributionCopyText&utm_medium=referral&utm_source=pexels'>Pexels</a>\n",
    "    </strong>\n",
    "</figcaption>"
   ]
  },
  {
   "cell_type": "markdown",
   "metadata": {},
   "source": [
    "### Introduction <small id='intro'></small>"
   ]
  },
  {
   "cell_type": "markdown",
   "metadata": {},
   "source": []
  },
  {
   "cell_type": "code",
   "execution_count": null,
   "metadata": {},
   "outputs": [],
   "source": []
  },
  {
   "cell_type": "code",
   "execution_count": null,
   "metadata": {},
   "outputs": [],
   "source": []
  },
  {
   "cell_type": "code",
   "execution_count": null,
   "metadata": {},
   "outputs": [],
   "source": []
  },
  {
   "cell_type": "code",
   "execution_count": null,
   "metadata": {},
   "outputs": [],
   "source": []
  },
  {
   "cell_type": "markdown",
   "metadata": {},
   "source": [
    "### Setup <small id='setup'></small>"
   ]
  },
  {
   "cell_type": "code",
   "execution_count": 1,
   "metadata": {},
   "outputs": [],
   "source": [
    "# Scientific libraries\n",
    "import numpy as np\n",
    "import pandas as pd\n",
    "import datetime as dt\n",
    "\n",
    "# Ignore warnings\n",
    "import warnings\n",
    "warnings.filterwarnings('ignore')"
   ]
  },
  {
   "cell_type": "markdown",
   "metadata": {},
   "source": [
    "I generated a fake data to perform cross field validation:"
   ]
  },
  {
   "cell_type": "code",
   "execution_count": 2,
   "metadata": {},
   "outputs": [
    {
     "data": {
      "text/html": [
       "<div>\n",
       "<style scoped>\n",
       "    .dataframe tbody tr th:only-of-type {\n",
       "        vertical-align: middle;\n",
       "    }\n",
       "\n",
       "    .dataframe tbody tr th {\n",
       "        vertical-align: top;\n",
       "    }\n",
       "\n",
       "    .dataframe thead th {\n",
       "        text-align: right;\n",
       "    }\n",
       "</style>\n",
       "<table border=\"1\" class=\"dataframe\">\n",
       "  <thead>\n",
       "    <tr style=\"text-align: right;\">\n",
       "      <th></th>\n",
       "      <th>first_name</th>\n",
       "      <th>last_name</th>\n",
       "      <th>birthday</th>\n",
       "      <th>weight</th>\n",
       "      <th>height</th>\n",
       "      <th>bmi</th>\n",
       "      <th>age</th>\n",
       "    </tr>\n",
       "  </thead>\n",
       "  <tbody>\n",
       "    <tr>\n",
       "      <th>200</th>\n",
       "      <td>Tucker</td>\n",
       "      <td>Ross</td>\n",
       "      <td>2008-03-02</td>\n",
       "      <td>56</td>\n",
       "      <td>173</td>\n",
       "      <td>18</td>\n",
       "      <td>12</td>\n",
       "    </tr>\n",
       "    <tr>\n",
       "      <th>8344</th>\n",
       "      <td>Nash</td>\n",
       "      <td>Palmer</td>\n",
       "      <td>1989-02-09</td>\n",
       "      <td>74</td>\n",
       "      <td>188</td>\n",
       "      <td>20</td>\n",
       "      <td>31</td>\n",
       "    </tr>\n",
       "    <tr>\n",
       "      <th>7392</th>\n",
       "      <td>Beckett</td>\n",
       "      <td>Stewart</td>\n",
       "      <td>1999-07-04</td>\n",
       "      <td>63</td>\n",
       "      <td>185</td>\n",
       "      <td>18</td>\n",
       "      <td>21</td>\n",
       "    </tr>\n",
       "    <tr>\n",
       "      <th>3848</th>\n",
       "      <td>Andrea</td>\n",
       "      <td>Roberts</td>\n",
       "      <td>1997-08-14</td>\n",
       "      <td>94</td>\n",
       "      <td>172</td>\n",
       "      <td>31</td>\n",
       "      <td>23</td>\n",
       "    </tr>\n",
       "    <tr>\n",
       "      <th>6205</th>\n",
       "      <td>Avery</td>\n",
       "      <td>Ortiz</td>\n",
       "      <td>1987-10-03</td>\n",
       "      <td>54</td>\n",
       "      <td>178</td>\n",
       "      <td>17</td>\n",
       "      <td>33</td>\n",
       "    </tr>\n",
       "    <tr>\n",
       "      <th>1888</th>\n",
       "      <td>Hailey</td>\n",
       "      <td>Morgan</td>\n",
       "      <td>2002-01-25</td>\n",
       "      <td>72</td>\n",
       "      <td>188</td>\n",
       "      <td>20</td>\n",
       "      <td>18</td>\n",
       "    </tr>\n",
       "    <tr>\n",
       "      <th>4797</th>\n",
       "      <td>Weston</td>\n",
       "      <td>Cooper</td>\n",
       "      <td>2009-05-15</td>\n",
       "      <td>65</td>\n",
       "      <td>181</td>\n",
       "      <td>19</td>\n",
       "      <td>11</td>\n",
       "    </tr>\n",
       "    <tr>\n",
       "      <th>2243</th>\n",
       "      <td>Hudson</td>\n",
       "      <td>Carter</td>\n",
       "      <td>2003-07-11</td>\n",
       "      <td>87</td>\n",
       "      <td>178</td>\n",
       "      <td>27</td>\n",
       "      <td>17</td>\n",
       "    </tr>\n",
       "    <tr>\n",
       "      <th>7065</th>\n",
       "      <td>Beckham</td>\n",
       "      <td>Rodriguez</td>\n",
       "      <td>1993-05-11</td>\n",
       "      <td>85</td>\n",
       "      <td>160</td>\n",
       "      <td>33</td>\n",
       "      <td>27</td>\n",
       "    </tr>\n",
       "    <tr>\n",
       "      <th>2874</th>\n",
       "      <td>Jaxon</td>\n",
       "      <td>Sancherz</td>\n",
       "      <td>1996-02-17</td>\n",
       "      <td>53</td>\n",
       "      <td>173</td>\n",
       "      <td>17</td>\n",
       "      <td>24</td>\n",
       "    </tr>\n",
       "  </tbody>\n",
       "</table>\n",
       "</div>"
      ],
      "text/plain": [
       "     first_name  last_name   birthday  weight  height  bmi  age\n",
       "200      Tucker       Ross 2008-03-02      56     173   18   12\n",
       "8344       Nash     Palmer 1989-02-09      74     188   20   31\n",
       "7392    Beckett    Stewart 1999-07-04      63     185   18   21\n",
       "3848     Andrea    Roberts 1997-08-14      94     172   31   23\n",
       "6205      Avery      Ortiz 1987-10-03      54     178   17   33\n",
       "1888     Hailey     Morgan 2002-01-25      72     188   20   18\n",
       "4797     Weston     Cooper 2009-05-15      65     181   19   11\n",
       "2243     Hudson     Carter 2003-07-11      87     178   27   17\n",
       "7065    Beckham  Rodriguez 1993-05-11      85     160   33   27\n",
       "2874      Jaxon   Sancherz 1996-02-17      53     173   17   24"
      ]
     },
     "execution_count": 2,
     "metadata": {},
     "output_type": "execute_result"
    }
   ],
   "source": [
    "# Load data\n",
    "people = pd.read_csv('data/people.csv', parse_dates=['birthday'])\n",
    "people.sample(10)"
   ]
  },
  {
   "cell_type": "code",
   "execution_count": 3,
   "metadata": {},
   "outputs": [
    {
     "data": {
      "text/plain": [
       "(10000, 7)"
      ]
     },
     "execution_count": 3,
     "metadata": {},
     "output_type": "execute_result"
    }
   ],
   "source": [
    "people.shape"
   ]
  },
  {
   "cell_type": "code",
   "execution_count": 4,
   "metadata": {},
   "outputs": [
    {
     "name": "stdout",
     "output_type": "stream",
     "text": [
      "<class 'pandas.core.frame.DataFrame'>\n",
      "RangeIndex: 10000 entries, 0 to 9999\n",
      "Data columns (total 7 columns):\n",
      " #   Column      Non-Null Count  Dtype         \n",
      "---  ------      --------------  -----         \n",
      " 0   first_name  10000 non-null  object        \n",
      " 1   last_name   10000 non-null  object        \n",
      " 2   birthday    10000 non-null  datetime64[ns]\n",
      " 3   weight      10000 non-null  int64         \n",
      " 4   height      10000 non-null  int64         \n",
      " 5   bmi         10000 non-null  int64         \n",
      " 6   age         10000 non-null  int64         \n",
      "dtypes: datetime64[ns](1), int64(4), object(2)\n",
      "memory usage: 547.0+ KB\n"
     ]
    }
   ],
   "source": [
    "people.info()"
   ]
  },
  {
   "cell_type": "markdown",
   "metadata": {},
   "source": [
    " ### Cross Field Validation, Example 1 <small id='1'></small>"
   ]
  },
  {
   "cell_type": "markdown",
   "metadata": {},
   "source": [
    "In the setup section, we loaded a fake `people` dataset. For example purposes, we are going to assume that this data was collected from two sources: from a census data that gives each individual's full name and birthday which was merged with their hospital records later. \n",
    "\n",
    "To have an accurate analysis later, we should make sure that our data is valid. In this case, we can check the validness of two fields: age and BMI (Body Mass Index). \n",
    "\n",
    "Let's start with age. We have to ensure when we subtract their birth year from the current year, the result matches the `age` column.\n",
    "\n",
    "When you are performing cross field validation, the speed should be the main concern. Unlike our little example, you may have to deal with millions of observations. One of the fastest methods for cross field validation for datasets with any size is `apply` function of `pandas`.\n",
    "\n",
    "Here is a simple example of `apply`:"
   ]
  },
  {
   "cell_type": "code",
   "execution_count": 5,
   "metadata": {
    "scrolled": true
   },
   "outputs": [
    {
     "data": {
      "text/plain": [
       "674        Hello Fry!\n",
       "6623     Hello Myers!\n",
       "1247    Hello Murphy!\n",
       "2622    Hello Turner!\n",
       "106     Hello Walker!\n",
       "Name: last_name, dtype: object"
      ]
     },
     "execution_count": 5,
     "metadata": {},
     "output_type": "execute_result"
    }
   ],
   "source": [
    "def stupid_function(x):\n",
    "    return f\"Hello {x}!\"\n",
    "\n",
    "people['last_name'].apply(stupid_function).sample(5)"
   ]
  },
  {
   "cell_type": "markdown",
   "metadata": {},
   "source": [
    "The above was an example of a column-wise execution. `apply` takes a function name as an argument and calls that function on each element of the column it was called on. If we set `axis` to `1` the execution is shifted to row-wise.\n",
    "\n",
    "Let's create a function that validates person's age:"
   ]
  },
  {
   "cell_type": "code",
   "execution_count": 6,
   "metadata": {},
   "outputs": [],
   "source": [
    "def validate_age(row):\n",
    "    \"\"\"\n",
    "    A function to validate\n",
    "    person's age by subtracting\n",
    "    birth year from the current year\n",
    "    and comparing the result \n",
    "    to the given age.\n",
    "    \"\"\"\n",
    "    # Store todays data\n",
    "    today = dt.date.today()\n",
    "    # Calculate age\n",
    "    age = today.year - row['birthday'].year\n",
    "    \n",
    "    return age == row['age']"
   ]
  },
  {
   "cell_type": "markdown",
   "metadata": {},
   "source": [
    "Since we are going to use `apply` for a row-wise operation, its inputs will be each row. That's why we can easily access each column's value just like we would in a normal situation.\n",
    "\n",
    "Using the `datetime` package we imported earlier, we will store today's date. Then, we calculate the age by subtracting the year components from each other. For this to work, you have to make sure the `birthday` column has a `datetime` data type. \n",
    "\n",
    "In the `return` statement we compare the calculated age and the given age, which returns `True` if they match, `False` if otherwise. Let's call it on the dataset:"
   ]
  },
  {
   "cell_type": "code",
   "execution_count": 7,
   "metadata": {
    "scrolled": true
   },
   "outputs": [
    {
     "data": {
      "text/html": [
       "<div>\n",
       "<style scoped>\n",
       "    .dataframe tbody tr th:only-of-type {\n",
       "        vertical-align: middle;\n",
       "    }\n",
       "\n",
       "    .dataframe tbody tr th {\n",
       "        vertical-align: top;\n",
       "    }\n",
       "\n",
       "    .dataframe thead th {\n",
       "        text-align: right;\n",
       "    }\n",
       "</style>\n",
       "<table border=\"1\" class=\"dataframe\">\n",
       "  <thead>\n",
       "    <tr style=\"text-align: right;\">\n",
       "      <th></th>\n",
       "      <th>first_name</th>\n",
       "      <th>last_name</th>\n",
       "      <th>birthday</th>\n",
       "      <th>weight</th>\n",
       "      <th>height</th>\n",
       "      <th>bmi</th>\n",
       "      <th>age</th>\n",
       "      <th>age_valid</th>\n",
       "    </tr>\n",
       "  </thead>\n",
       "  <tbody>\n",
       "    <tr>\n",
       "      <th>6197</th>\n",
       "      <td>Leo</td>\n",
       "      <td>Carter</td>\n",
       "      <td>1986-10-09</td>\n",
       "      <td>98</td>\n",
       "      <td>166</td>\n",
       "      <td>35</td>\n",
       "      <td>34</td>\n",
       "      <td>True</td>\n",
       "    </tr>\n",
       "    <tr>\n",
       "      <th>6510</th>\n",
       "      <td>Andrea</td>\n",
       "      <td>Roberts</td>\n",
       "      <td>1988-11-29</td>\n",
       "      <td>88</td>\n",
       "      <td>170</td>\n",
       "      <td>30</td>\n",
       "      <td>32</td>\n",
       "      <td>True</td>\n",
       "    </tr>\n",
       "    <tr>\n",
       "      <th>193</th>\n",
       "      <td>Avery</td>\n",
       "      <td>Gray</td>\n",
       "      <td>1980-11-02</td>\n",
       "      <td>86</td>\n",
       "      <td>169</td>\n",
       "      <td>30</td>\n",
       "      <td>40</td>\n",
       "      <td>True</td>\n",
       "    </tr>\n",
       "    <tr>\n",
       "      <th>6821</th>\n",
       "      <td>Hunter</td>\n",
       "      <td>Davis</td>\n",
       "      <td>1992-10-18</td>\n",
       "      <td>96</td>\n",
       "      <td>187</td>\n",
       "      <td>27</td>\n",
       "      <td>33</td>\n",
       "      <td>False</td>\n",
       "    </tr>\n",
       "    <tr>\n",
       "      <th>1085</th>\n",
       "      <td>Natasha</td>\n",
       "      <td>Peterson</td>\n",
       "      <td>1980-03-23</td>\n",
       "      <td>94</td>\n",
       "      <td>184</td>\n",
       "      <td>27</td>\n",
       "      <td>40</td>\n",
       "      <td>True</td>\n",
       "    </tr>\n",
       "  </tbody>\n",
       "</table>\n",
       "</div>"
      ],
      "text/plain": [
       "     first_name last_name   birthday  weight  height  bmi  age  age_valid\n",
       "6197        Leo    Carter 1986-10-09      98     166   35   34       True\n",
       "6510     Andrea   Roberts 1988-11-29      88     170   30   32       True\n",
       "193       Avery      Gray 1980-11-02      86     169   30   40       True\n",
       "6821     Hunter     Davis 1992-10-18      96     187   27   33      False\n",
       "1085    Natasha  Peterson 1980-03-23      94     184   27   40       True"
      ]
     },
     "execution_count": 7,
     "metadata": {},
     "output_type": "execute_result"
    }
   ],
   "source": [
    "people['age_valid'] = people.apply(validate_age, axis=1)\n",
    "people.sample(5)"
   ]
  },
  {
   "cell_type": "markdown",
   "metadata": {},
   "source": [
    "The function works as expected. Now we can subset the data for invalid ages if any:"
   ]
  },
  {
   "cell_type": "code",
   "execution_count": 8,
   "metadata": {},
   "outputs": [
    {
     "data": {
      "text/html": [
       "<div>\n",
       "<style scoped>\n",
       "    .dataframe tbody tr th:only-of-type {\n",
       "        vertical-align: middle;\n",
       "    }\n",
       "\n",
       "    .dataframe tbody tr th {\n",
       "        vertical-align: top;\n",
       "    }\n",
       "\n",
       "    .dataframe thead th {\n",
       "        text-align: right;\n",
       "    }\n",
       "</style>\n",
       "<table border=\"1\" class=\"dataframe\">\n",
       "  <thead>\n",
       "    <tr style=\"text-align: right;\">\n",
       "      <th></th>\n",
       "      <th>first_name</th>\n",
       "      <th>last_name</th>\n",
       "      <th>birthday</th>\n",
       "      <th>weight</th>\n",
       "      <th>height</th>\n",
       "      <th>bmi</th>\n",
       "      <th>age</th>\n",
       "      <th>age_valid</th>\n",
       "    </tr>\n",
       "  </thead>\n",
       "  <tbody>\n",
       "    <tr>\n",
       "      <th>46</th>\n",
       "      <td>Avery</td>\n",
       "      <td>Price</td>\n",
       "      <td>1983-08-24</td>\n",
       "      <td>90</td>\n",
       "      <td>181</td>\n",
       "      <td>27</td>\n",
       "      <td>52</td>\n",
       "      <td>False</td>\n",
       "    </tr>\n",
       "    <tr>\n",
       "      <th>167</th>\n",
       "      <td>Christian</td>\n",
       "      <td>Stewart</td>\n",
       "      <td>1996-01-21</td>\n",
       "      <td>92</td>\n",
       "      <td>165</td>\n",
       "      <td>33</td>\n",
       "      <td>27</td>\n",
       "      <td>False</td>\n",
       "    </tr>\n",
       "    <tr>\n",
       "      <th>394</th>\n",
       "      <td>Desirae</td>\n",
       "      <td>Edwards</td>\n",
       "      <td>1980-02-07</td>\n",
       "      <td>98</td>\n",
       "      <td>190</td>\n",
       "      <td>27</td>\n",
       "      <td>32</td>\n",
       "      <td>False</td>\n",
       "    </tr>\n",
       "    <tr>\n",
       "      <th>453</th>\n",
       "      <td>Evelyn</td>\n",
       "      <td>Johnson</td>\n",
       "      <td>1988-01-03</td>\n",
       "      <td>81</td>\n",
       "      <td>176</td>\n",
       "      <td>26</td>\n",
       "      <td>22</td>\n",
       "      <td>False</td>\n",
       "    </tr>\n",
       "    <tr>\n",
       "      <th>1047</th>\n",
       "      <td>Gunther</td>\n",
       "      <td>Gibson</td>\n",
       "      <td>1994-03-29</td>\n",
       "      <td>86</td>\n",
       "      <td>163</td>\n",
       "      <td>32</td>\n",
       "      <td>38</td>\n",
       "      <td>False</td>\n",
       "    </tr>\n",
       "    <tr>\n",
       "      <th>...</th>\n",
       "      <td>...</td>\n",
       "      <td>...</td>\n",
       "      <td>...</td>\n",
       "      <td>...</td>\n",
       "      <td>...</td>\n",
       "      <td>...</td>\n",
       "      <td>...</td>\n",
       "      <td>...</td>\n",
       "    </tr>\n",
       "    <tr>\n",
       "      <th>9599</th>\n",
       "      <td>Bradley</td>\n",
       "      <td>Colon</td>\n",
       "      <td>2003-07-23</td>\n",
       "      <td>55</td>\n",
       "      <td>174</td>\n",
       "      <td>18</td>\n",
       "      <td>43</td>\n",
       "      <td>False</td>\n",
       "    </tr>\n",
       "    <tr>\n",
       "      <th>9662</th>\n",
       "      <td>Julian</td>\n",
       "      <td>Miller</td>\n",
       "      <td>1998-09-03</td>\n",
       "      <td>55</td>\n",
       "      <td>190</td>\n",
       "      <td>15</td>\n",
       "      <td>79</td>\n",
       "      <td>False</td>\n",
       "    </tr>\n",
       "    <tr>\n",
       "      <th>9672</th>\n",
       "      <td>Easton</td>\n",
       "      <td>Chavez</td>\n",
       "      <td>1987-05-30</td>\n",
       "      <td>67</td>\n",
       "      <td>172</td>\n",
       "      <td>22</td>\n",
       "      <td>38</td>\n",
       "      <td>False</td>\n",
       "    </tr>\n",
       "    <tr>\n",
       "      <th>9867</th>\n",
       "      <td>Garett</td>\n",
       "      <td>Peterson</td>\n",
       "      <td>1983-08-07</td>\n",
       "      <td>79</td>\n",
       "      <td>180</td>\n",
       "      <td>24</td>\n",
       "      <td>76</td>\n",
       "      <td>False</td>\n",
       "    </tr>\n",
       "    <tr>\n",
       "      <th>9925</th>\n",
       "      <td>Legend</td>\n",
       "      <td>Phillips</td>\n",
       "      <td>1985-12-14</td>\n",
       "      <td>58</td>\n",
       "      <td>166</td>\n",
       "      <td>21</td>\n",
       "      <td>36</td>\n",
       "      <td>False</td>\n",
       "    </tr>\n",
       "  </tbody>\n",
       "</table>\n",
       "<p>75 rows × 8 columns</p>\n",
       "</div>"
      ],
      "text/plain": [
       "     first_name last_name   birthday  weight  height  bmi  age  age_valid\n",
       "46        Avery     Price 1983-08-24      90     181   27   52      False\n",
       "167   Christian   Stewart 1996-01-21      92     165   33   27      False\n",
       "394     Desirae   Edwards 1980-02-07      98     190   27   32      False\n",
       "453      Evelyn   Johnson 1988-01-03      81     176   26   22      False\n",
       "1047    Gunther    Gibson 1994-03-29      86     163   32   38      False\n",
       "...         ...       ...        ...     ...     ...  ...  ...        ...\n",
       "9599    Bradley     Colon 2003-07-23      55     174   18   43      False\n",
       "9662     Julian    Miller 1998-09-03      55     190   15   79      False\n",
       "9672     Easton    Chavez 1987-05-30      67     172   22   38      False\n",
       "9867     Garett  Peterson 1983-08-07      79     180   24   76      False\n",
       "9925     Legend  Phillips 1985-12-14      58     166   21   36      False\n",
       "\n",
       "[75 rows x 8 columns]"
      ]
     },
     "execution_count": 8,
     "metadata": {},
     "output_type": "execute_result"
    }
   ],
   "source": [
    "people[people['age_valid'] == False]"
   ]
  },
  {
   "cell_type": "markdown",
   "metadata": {},
   "source": [
    "There were 75 rows with invalid age. If you do the math, the ages does not match. To correct these values, we could write a new function but that would involve a code repetition. We can update `validate_age` to replace any invalid values with valid ones:"
   ]
  },
  {
   "cell_type": "code",
   "execution_count": 9,
   "metadata": {},
   "outputs": [],
   "source": [
    "def validate_age(row):\n",
    "    \"\"\"\n",
    "    A function to validate\n",
    "    person's age by subtracting\n",
    "    birth year from the current year\n",
    "    and comparing the result \n",
    "    to the given age.\n",
    "    \"\"\"\n",
    "    # Store todays data\n",
    "    today = dt.date.today()\n",
    "    # Calculate age\n",
    "    age = today.year - row['birthday'].year\n",
    "    # Replace all with the age, correct or not\n",
    "    row['age'] = age\n",
    "\n",
    "    return row['age']"
   ]
  },
  {
   "cell_type": "code",
   "execution_count": 10,
   "metadata": {},
   "outputs": [],
   "source": [
    "# Undo the last operation\n",
    "people.drop('age_valid', axis=1, inplace=True)\n",
    "# Modify the age column instead of creating a new one\n",
    "people['age'] = people.apply(validate_age, axis=1)"
   ]
  },
  {
   "cell_type": "markdown",
   "metadata": {},
   "source": [
    "We can make sure the operation was successful with an `assert` statement:"
   ]
  },
  {
   "cell_type": "code",
   "execution_count": 26,
   "metadata": {},
   "outputs": [],
   "source": [
    "today = dt.date.today()\n",
    "# Check with assert, no outout means successful\n",
    "assert (today.year - people['birthday'].dt.year == people['age']).all() == True"
   ]
  },
  {
   "cell_type": "markdown",
   "metadata": {},
   "source": [
    "### Cross Field Validation, Example 2 <small id='2'></small>"
   ]
  },
  {
   "cell_type": "markdown",
   "metadata": {},
   "source": [
    "Next, we will validate Body Mass Index column."
   ]
  }
 ],
 "metadata": {
  "kernelspec": {
   "display_name": "medium_articles",
   "language": "python",
   "name": "medium_articles"
  },
  "language_info": {
   "codemirror_mode": {
    "name": "ipython",
    "version": 3
   },
   "file_extension": ".py",
   "mimetype": "text/x-python",
   "name": "python",
   "nbconvert_exporter": "python",
   "pygments_lexer": "ipython3",
   "version": "3.8.5"
  }
 },
 "nbformat": 4,
 "nbformat_minor": 4
}
