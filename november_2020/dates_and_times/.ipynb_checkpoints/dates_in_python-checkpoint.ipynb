{
 "cells": [
  {
   "cell_type": "markdown",
   "metadata": {},
   "source": [
    "# Dates In Python - Everything You Need To Know\n",
    "## End your frustration with dates\n",
    "<img src='images/date.jpg'></img>\n",
    "<figcaption style=\"text-align: center;\">\n",
    "    <strong>\n",
    "        Photo by \n",
    "        <a href='https://www.pexels.com/@samerdaboul?utm_content=attributionCopyText&utm_medium=referral&utm_source=pexels'>Samer Daboul</a>\n",
    "        on \n",
    "        <a href='https://medium.com/r/?url=https%3A%2F%2Fwww.pexels.com%2Fphoto%2Fselective-focus-photography-of-hour-glass-1209998%2F%3Futm_content%3DattributionCopyText%26utm_medium%3Dreferral%26utm_source%3Dpexels'>Pexels</a>\n",
    "    </strong>\n",
    "</figcaption>"
   ]
  },
  {
   "cell_type": "markdown",
   "metadata": {},
   "source": [
    "### Introduction <small id='intro'></small>"
   ]
  },
  {
   "cell_type": "markdown",
   "metadata": {},
   "source": [
    "Date and time are one of the messiest topics in the world. The course of time never changed by a single second since the dawn of the universe and we still cannot seem to agree on a global date and time representation. There are ISO, UTC, GMT, EST, BST, ISTs for time that are just so damn confusing for people who just want to know the time in London whenever they want. And, don't even get me started on Daylight Saving Time which now EU wants to vote against in 2021.\n",
    "\n",
    "The same goes for dates. There are so many international 'standards' of date formats, you can almost assign each format to an individual country. This gigantic confusion around dates and times often creep its way into programming languages too. However, programming world is a little more organized than the rest of the world. Investing some time and practice into learning about datetime will prepare you for any time-series related tasks.\n",
    "\n",
    "Today, we will talk about date objects in Python through the built-in package `datetime`."
   ]
  },
  {
   "cell_type": "markdown",
   "metadata": {},
   "source": [
    "### Date Objects <small id='date'></small>"
   ]
  },
  {
   "cell_type": "markdown",
   "metadata": {},
   "source": [
    "Python has built-in data types for different types of data. It offers an individual data type for date objects through the `datetime` package. Having a special type for dates offers many features such as performing math on dates, converting them to different formats easily which would not be available if you were to work on them as strings.\n",
    "\n",
    "We can import functions and methods individually or you can import the package as a whole with `dt` alias:"
   ]
  },
  {
   "cell_type": "code",
   "execution_count": 1,
   "metadata": {},
   "outputs": [],
   "source": [
    "import datetime as dt\n",
    "# or\n",
    "from datetime import date"
   ]
  },
  {
   "cell_type": "markdown",
   "metadata": {},
   "source": [
    "Let's create a date object:"
   ]
  },
  {
   "cell_type": "code",
   "execution_count": 2,
   "metadata": {},
   "outputs": [
    {
     "data": {
      "text/plain": [
       "datetime.date(2020, 11, 19)"
      ]
     },
     "execution_count": 2,
     "metadata": {},
     "output_type": "execute_result"
    }
   ],
   "source": [
    "d1 = dt.date(2020, 11, 19)\n",
    "d1"
   ]
  },
  {
   "cell_type": "markdown",
   "metadata": {},
   "source": [
    "Datetime objects can be created using `.date()` function. It accepts arguments in the standard YYYY-MM-DD format. After you have a date object, it has many useful properties. You can easily access individual components with attributes of date objects."
   ]
  },
  {
   "cell_type": "markdown",
   "metadata": {},
   "source": [
    "Accessing the year:"
   ]
  },
  {
   "cell_type": "code",
   "execution_count": 3,
   "metadata": {},
   "outputs": [
    {
     "data": {
      "text/plain": [
       "2020"
      ]
     },
     "execution_count": 3,
     "metadata": {},
     "output_type": "execute_result"
    }
   ],
   "source": [
    "d1.year"
   ]
  },
  {
   "cell_type": "markdown",
   "metadata": {},
   "source": [
    "Accessing the month:"
   ]
  },
  {
   "cell_type": "code",
   "execution_count": 4,
   "metadata": {},
   "outputs": [
    {
     "data": {
      "text/plain": [
       "11"
      ]
     },
     "execution_count": 4,
     "metadata": {},
     "output_type": "execute_result"
    }
   ],
   "source": [
    "d1.month"
   ]
  },
  {
   "cell_type": "markdown",
   "metadata": {},
   "source": [
    "Accessing the day:"
   ]
  },
  {
   "cell_type": "code",
   "execution_count": 5,
   "metadata": {},
   "outputs": [
    {
     "data": {
      "text/plain": [
       "19"
      ]
     },
     "execution_count": 5,
     "metadata": {},
     "output_type": "execute_result"
    }
   ],
   "source": [
    "d1.day"
   ]
  },
  {
   "cell_type": "markdown",
   "metadata": {},
   "source": [
    "You can also find out the day of the week with a special function:"
   ]
  },
  {
   "cell_type": "code",
   "execution_count": 6,
   "metadata": {},
   "outputs": [
    {
     "data": {
      "text/plain": [
       "3"
      ]
     },
     "execution_count": 6,
     "metadata": {},
     "output_type": "execute_result"
    }
   ],
   "source": [
    "d1.weekday()"
   ]
  },
  {
   "cell_type": "markdown",
   "metadata": {},
   "source": [
    "The weekdays are numbered from 0 like all things are in Python. So 3 means Thursday. There is also an alternative function for normal weekdays:"
   ]
  },
  {
   "cell_type": "code",
   "execution_count": 7,
   "metadata": {},
   "outputs": [
    {
     "data": {
      "text/plain": [
       "4"
      ]
     },
     "execution_count": 7,
     "metadata": {},
     "output_type": "execute_result"
    }
   ],
   "source": [
    "d1.isoweekday()"
   ]
  },
  {
   "cell_type": "markdown",
   "metadata": {},
   "source": [
    "You can also construct date objects from strings which are formatted in ISO standard:"
   ]
  },
  {
   "cell_type": "code",
   "execution_count": 8,
   "metadata": {},
   "outputs": [
    {
     "data": {
      "text/plain": [
       "datetime.date(2019, 12, 31)"
      ]
     },
     "execution_count": 8,
     "metadata": {},
     "output_type": "execute_result"
    }
   ],
   "source": [
    "date_sample = dt.date.fromisoformat('2019-12-31')\n",
    "date_sample"
   ]
  },
  {
   "cell_type": "markdown",
   "metadata": {},
   "source": [
    "> [ISO 8601](https://en.wikipedia.org/wiki/ISO_8601) standard is the global date format where dates are represented YYYY-MM-DD format. (Always 4-digit years, adding zero to the left for single digit months and days in the \"strings\")."
   ]
  },
  {
   "cell_type": "markdown",
   "metadata": {},
   "source": [
    "You can also get today's date through `.date.today()`:"
   ]
  },
  {
   "cell_type": "code",
   "execution_count": 9,
   "metadata": {},
   "outputs": [
    {
     "data": {
      "text/plain": [
       "datetime.date(2020, 11, 19)"
      ]
     },
     "execution_count": 9,
     "metadata": {},
     "output_type": "execute_result"
    }
   ],
   "source": [
    "today = dt.date.today()\n",
    "today"
   ]
  },
  {
   "cell_type": "markdown",
   "metadata": {},
   "source": [
    "### Math With Dates, Timedelta <small id='math'></small>"
   ]
  },
  {
   "cell_type": "markdown",
   "metadata": {},
   "source": [
    "Performing math on dates is never easy, not everyone knows which months have 30 or 31 days. But with Python it is all straightforward with `datetime`:"
   ]
  },
  {
   "cell_type": "code",
   "execution_count": 10,
   "metadata": {},
   "outputs": [
    {
     "data": {
      "text/plain": [
       "datetime.timedelta(days=959)"
      ]
     },
     "execution_count": 10,
     "metadata": {},
     "output_type": "execute_result"
    }
   ],
   "source": [
    "d1 = dt.date(2020, 11, 19)\n",
    "d2 = dt.date(2018, 4, 5)\n",
    "# Subtract to find the days elapsed\n",
    "r = d1 - d2\n",
    "r"
   ]
  },
  {
   "cell_type": "markdown",
   "metadata": {},
   "source": [
    "The result of subtracting two dates returns `dt.timedelta` object which brings us to `timedelta` sub-module. `timedelta` deals with all the math under the hood to return correct dates taking into account leap years, days of the months, etc. Suppose, you want to find the weekday after 60 days. How would you do it? Doing this will give an error:"
   ]
  },
  {
   "cell_type": "code",
   "execution_count": 11,
   "metadata": {
    "scrolled": true
   },
   "outputs": [
    {
     "ename": "TypeError",
     "evalue": "unsupported operand type(s) for +: 'datetime.date' and 'int'",
     "output_type": "error",
     "traceback": [
      "\u001b[1;31m---------------------------------------------------------------------------\u001b[0m",
      "\u001b[1;31mTypeError\u001b[0m                                 Traceback (most recent call last)",
      "\u001b[1;32m<ipython-input-11-76f96446772d>\u001b[0m in \u001b[0;36m<module>\u001b[1;34m\u001b[0m\n\u001b[0;32m      1\u001b[0m \u001b[0mtoday\u001b[0m \u001b[1;33m=\u001b[0m \u001b[0mdt\u001b[0m\u001b[1;33m.\u001b[0m\u001b[0mdate\u001b[0m\u001b[1;33m.\u001b[0m\u001b[0mtoday\u001b[0m\u001b[1;33m(\u001b[0m\u001b[1;33m)\u001b[0m\u001b[1;33m\u001b[0m\u001b[1;33m\u001b[0m\u001b[0m\n\u001b[1;32m----> 2\u001b[1;33m \u001b[0mtoday\u001b[0m \u001b[1;33m+\u001b[0m \u001b[1;36m60\u001b[0m\u001b[1;33m\u001b[0m\u001b[1;33m\u001b[0m\u001b[0m\n\u001b[0m",
      "\u001b[1;31mTypeError\u001b[0m: unsupported operand type(s) for +: 'datetime.date' and 'int'"
     ]
    }
   ],
   "source": [
    "today = dt.date.today()\n",
    "today + 60"
   ]
  },
  {
   "cell_type": "markdown",
   "metadata": {},
   "source": [
    "This is where `timedelta` objects come in. They can represent a duration of time up to milliseconds by providing necessary arguments. For example, to find the weekday after 60 days, we should create a duration of time of 60 days using `timedelta`:"
   ]
  },
  {
   "cell_type": "code",
   "execution_count": 12,
   "metadata": {},
   "outputs": [
    {
     "data": {
      "text/plain": [
       "datetime.date(2021, 1, 18)"
      ]
     },
     "execution_count": 12,
     "metadata": {},
     "output_type": "execute_result"
    }
   ],
   "source": [
    "# Today's date\n",
    "today = dt.date.today()\n",
    "# Create a 60-day duration object\n",
    "delta = dt.timedelta(days=60)\n",
    "# Find the date after 60 days\n",
    "after_60 = today + delta\n",
    "after_60"
   ]
  },
  {
   "cell_type": "markdown",
   "metadata": {},
   "source": [
    "Now, we can use `.isoweekday()` function to find the weekday:"
   ]
  },
  {
   "cell_type": "code",
   "execution_count": 13,
   "metadata": {},
   "outputs": [
    {
     "data": {
      "text/plain": [
       "1"
      ]
     },
     "execution_count": 13,
     "metadata": {},
     "output_type": "execute_result"
    }
   ],
   "source": [
    "after_60.isoweekday()"
   ]
  },
  {
   "cell_type": "markdown",
   "metadata": {},
   "source": [
    "So, the weekday will be Monday after 60 days. Here are all the arguments of `timedelta`:"
   ]
  },
  {
   "cell_type": "code",
   "execution_count": 14,
   "metadata": {},
   "outputs": [
    {
     "data": {
      "text/plain": [
       "datetime.timedelta(days=338, seconds=50342, microseconds=19017)"
      ]
     },
     "execution_count": 14,
     "metadata": {},
     "output_type": "execute_result"
    }
   ],
   "source": [
    "random_duration = dt.timedelta(\n",
    "    weeks=43,\n",
    "    days=37,\n",
    "    hours=13,\n",
    "    minutes=59,\n",
    "    milliseconds=2017,\n",
    "    microseconds=2017  \n",
    ")\n",
    "random_duration"
   ]
  },
  {
   "cell_type": "markdown",
   "metadata": {},
   "source": [
    "Even though you can add minutes, milliseconds and microseconds, `timedelta` rounds everything up to a duration representing only days, seconds and microseconds. So, what will be the date after 2017 years, 311 days, 23 hours, 53 minutes (all prime):"
   ]
  },
  {
   "cell_type": "code",
   "execution_count": 15,
   "metadata": {},
   "outputs": [
    {
     "name": "stdout",
     "output_type": "stream",
     "text": [
      "4037-05-25\n",
      "1\n"
     ]
    }
   ],
   "source": [
    "today = dt.date.today()\n",
    "delta = dt.timedelta(days=2017*365 + 311, hours=23, minutes=53)\n",
    "future = today + delta\n",
    "print(future)\n",
    "print(future.isoweekday())"
   ]
  },
  {
   "cell_type": "markdown",
   "metadata": {},
   "source": [
    "After you have a `timedelta` object, you can only access it as days or seconds:"
   ]
  },
  {
   "cell_type": "code",
   "execution_count": 16,
   "metadata": {},
   "outputs": [
    {
     "data": {
      "text/plain": [
       "736516"
      ]
     },
     "execution_count": 16,
     "metadata": {},
     "output_type": "execute_result"
    }
   ],
   "source": [
    "delta = dt.timedelta(days=2017*365 + 311, hours=23, minutes=53)\n",
    "delta.days"
   ]
  },
  {
   "cell_type": "code",
   "execution_count": 17,
   "metadata": {},
   "outputs": [
    {
     "data": {
      "text/plain": [
       "63635068380.0"
      ]
     },
     "execution_count": 17,
     "metadata": {},
     "output_type": "execute_result"
    }
   ],
   "source": [
    "delta.total_seconds()"
   ]
  },
  {
   "cell_type": "markdown",
   "metadata": {},
   "source": [
    "### Turning Dates Into Strings <small id='string'></small>"
   ]
  },
  {
   "cell_type": "markdown",
   "metadata": {},
   "source": [
    "Even though date objects are easy to work with, when saving dates or use dates as filenames or do similar operations, you have to convert them to strings. There are a number of methods depending on your needs. The first one is converting dates to ISO 8601 standard:"
   ]
  },
  {
   "cell_type": "code",
   "execution_count": 18,
   "metadata": {
    "scrolled": true
   },
   "outputs": [
    {
     "name": "stdout",
     "output_type": "stream",
     "text": [
      "['2001-10-04']\n"
     ]
    }
   ],
   "source": [
    "date = dt.date(2001, 10, 4)\n",
    "# print iso format\n",
    "print([date.isoformat()])"
   ]
  },
  {
   "cell_type": "markdown",
   "metadata": {},
   "source": [
    "Having dates as ISO 8601 strings are very useful. For example, if you have dates in YYYY-MM-DD (ISO 8601) format, they will be sorted alphabetically. They can also be interpreted easily by many programming languages and softwares. Saving dates in ISO 8601 \n",
    "formatted strings will reduce the time it takes to clean data and help interpret ambiguous dates like \"04-11-07\"."
   ]
  },
  {
   "cell_type": "markdown",
   "metadata": {},
   "source": [
    "You can also get the literal representations of dates:"
   ]
  },
  {
   "cell_type": "code",
   "execution_count": 19,
   "metadata": {},
   "outputs": [
    {
     "data": {
      "text/plain": [
       "'Thu Oct  4 00:00:00 2001'"
      ]
     },
     "execution_count": 19,
     "metadata": {},
     "output_type": "execute_result"
    }
   ],
   "source": [
    "date.ctime()"
   ]
  },
  {
   "cell_type": "markdown",
   "metadata": {},
   "source": [
    "The above two methods are all standards. What if you want dates in completely different or custom formats? We can use \n",
    "`.strftime` to convert dates to basically any format. `strftime` takes a format string with special code letters to represent date components in different ways. Here are the most common ones:\n",
    "- %Y: year in 4 digits\n",
    "- %y: year in 2 digits\n",
    "- %m: month in 2 digits\n",
    "- %B: full name of the month\n",
    "- %w: week number from 0 to 6\n",
    "- %A: full name of weekday\n",
    "- %d: day of the month\n",
    "- %j: day of the year"
   ]
  },
  {
   "cell_type": "markdown",
   "metadata": {},
   "source": [
    "Here is an example:"
   ]
  },
  {
   "cell_type": "code",
   "execution_count": 20,
   "metadata": {},
   "outputs": [
    {
     "name": "stdout",
     "output_type": "stream",
     "text": [
      "04-01-1643\n"
     ]
    }
   ],
   "source": [
    "newton_birthday = dt.date(1643, 1, 4)\n",
    "print(newton_birthday.strftime(\"%d-%m-%Y\"))"
   ]
  },
  {
   "cell_type": "markdown",
   "metadata": {},
   "source": [
    "You can choose an arbitrary text:"
   ]
  },
  {
   "cell_type": "code",
   "execution_count": 21,
   "metadata": {},
   "outputs": [
    {
     "name": "stdout",
     "output_type": "stream",
     "text": [
      "Newton was born in 1643, January 04\n"
     ]
    }
   ],
   "source": [
    "print(newton_birthday.strftime('Newton was born in %Y, %B %d'))"
   ]
  },
  {
   "cell_type": "code",
   "execution_count": 22,
   "metadata": {},
   "outputs": [
    {
     "name": "stdout",
     "output_type": "stream",
     "text": [
      "Newton was born on the 004th day of the year on Sunday\n"
     ]
    }
   ],
   "source": [
    "print(newton_birthday.strftime('Newton was born on the %jth day of the year on %A'))"
   ]
  },
  {
   "cell_type": "markdown",
   "metadata": {},
   "source": [
    "This article was only about dates and their representations. Do not confuse date objects with time objects. Hopefully, I will cover how to work with them in future articles, too. Stay tuned!"
   ]
  }
 ],
 "metadata": {
  "kernelspec": {
   "display_name": "medium_articles",
   "language": "python",
   "name": "medium_articles"
  },
  "language_info": {
   "codemirror_mode": {
    "name": "ipython",
    "version": 3
   },
   "file_extension": ".py",
   "mimetype": "text/x-python",
   "name": "python",
   "nbconvert_exporter": "python",
   "pygments_lexer": "ipython3",
   "version": "3.8.5"
  }
 },
 "nbformat": 4,
 "nbformat_minor": 4
}
