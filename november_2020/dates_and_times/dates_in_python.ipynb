{
 "cells": [
  {
   "cell_type": "markdown",
   "metadata": {},
   "source": [
    "# Dates In Python - Everything You Need To Know\n",
    "## End your frustration with dates\n",
    "<img src='images/date.jpg'></img>\n",
    "<figcaption style=\"text-align: center;\">\n",
    "    <strong>\n",
    "        Photo by \n",
    "        <a href='https://www.pexels.com/@samerdaboul?utm_content=attributionCopyText&utm_medium=referral&utm_source=pexels'>Samer Daboul</a>\n",
    "        on \n",
    "        <a href='https://medium.com/r/?url=https%3A%2F%2Fwww.pexels.com%2Fphoto%2Fselective-focus-photography-of-hour-glass-1209998%2F%3Futm_content%3DattributionCopyText%26utm_medium%3Dreferral%26utm_source%3Dpexels'>Pexels</a>\n",
    "    </strong>\n",
    "</figcaption>"
   ]
  },
  {
   "cell_type": "markdown",
   "metadata": {},
   "source": [
    "### Introduction <small id='intro'></small>"
   ]
  },
  {
   "cell_type": "markdown",
   "metadata": {},
   "source": [
    "Date and time are one of the messiest topics in the world. The course of time never changed by a single second since the dawn of the universe and we still cannot seem to agree on a global date and time representation. There are ISO, UTC, GMT, EST, BST, ISTs for time that are just so damn confusing for people who just want to know the time in London whenever they want. And, don't even get me started on Daylight Saving Time which now EU wants to vote against in 2021.\n",
    "\n",
    "The same goes for dates. There are so many international 'standards' of date formats, you can almost assign each format to an individual country. This gigantic confusion around dates and times often creep its way into programming languages too. However, programming world is a little more organized than the rest of the world. Investing some time and practice into learning about datetime will prepare you for any time-series related tasks.\n",
    "\n",
    "Today, we will talk about date objects in Python through the built-in package `datetime`."
   ]
  },
  {
   "cell_type": "markdown",
   "metadata": {},
   "source": [
    "### Date Objects <small id='date'></small>"
   ]
  },
  {
   "cell_type": "markdown",
   "metadata": {},
   "source": [
    "Python has built-in data types for different types of data. It offers an individual data type for date objects through the `datetime` package. Having a special type for dates offers many features such as performing math on dates, converting them to different formats easily which would not be available if you were to work on them as strings.\n",
    "\n",
    "We can import functions and methods individually or you can import the package as a whole with `dt` alias:"
   ]
  },
  {
   "cell_type": "code",
   "execution_count": 4,
   "metadata": {},
   "outputs": [],
   "source": [
    "import datetime as dt\n",
    "# or\n",
    "from datetime import date"
   ]
  },
  {
   "cell_type": "markdown",
   "metadata": {},
   "source": [
    "Let's create a date object:"
   ]
  },
  {
   "cell_type": "code",
   "execution_count": 5,
   "metadata": {},
   "outputs": [
    {
     "data": {
      "text/plain": [
       "datetime.date(2020, 11, 19)"
      ]
     },
     "execution_count": 5,
     "metadata": {},
     "output_type": "execute_result"
    }
   ],
   "source": [
    "d1 = dt.date(2020, 11, 19)\n",
    "d1"
   ]
  },
  {
   "cell_type": "markdown",
   "metadata": {},
   "source": [
    "Datetime objects can be created using `.date()` function. It accepts arguments in the standard YYYY-MM-DD format. After you have a date object, it has many useful properties:"
   ]
  },
  {
   "cell_type": "code",
   "execution_count": null,
   "metadata": {},
   "outputs": [],
   "source": [
    "d1."
   ]
  },
  {
   "cell_type": "code",
   "execution_count": null,
   "metadata": {},
   "outputs": [],
   "source": []
  },
  {
   "cell_type": "code",
   "execution_count": null,
   "metadata": {},
   "outputs": [],
   "source": []
  },
  {
   "cell_type": "markdown",
   "metadata": {},
   "source": [
    "### Math With Dates <small id='math'></small>"
   ]
  },
  {
   "cell_type": "markdown",
   "metadata": {},
   "source": [
    "### Turning Dates Into Strings <small id='string'></small>"
   ]
  }
 ],
 "metadata": {
  "kernelspec": {
   "display_name": "medium_articles",
   "language": "python",
   "name": "medium_articles"
  },
  "language_info": {
   "codemirror_mode": {
    "name": "ipython",
    "version": 3
   },
   "file_extension": ".py",
   "mimetype": "text/x-python",
   "name": "python",
   "nbconvert_exporter": "python",
   "pygments_lexer": "ipython3",
   "version": "3.8.5"
  }
 },
 "nbformat": 4,
 "nbformat_minor": 4
}
