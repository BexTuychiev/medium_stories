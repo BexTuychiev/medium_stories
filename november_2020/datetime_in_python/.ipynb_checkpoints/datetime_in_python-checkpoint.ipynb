{
 "cells": [
  {
   "cell_type": "markdown",
   "metadata": {},
   "source": [
    "# Date And Time Objects in Python - Everything You Need to Know\n",
    "## Adding time to the mix and you are done...\n",
    "<img src='images/time.jpg'></img>\n",
    "<figcaption style=\"text-align: center;\">\n",
    "    <strong>\n",
    "        Photo by \n",
    "        <a href='https://www.pexels.com/@pixabay?utm_content=attributionCopyText&utm_medium=referral&utm_source=pexels'>Pixabay</a>\n",
    "        on \n",
    "        <a href='https://www.pexels.com/photo/clear-glass-with-red-sand-grainer-39396/?utm_content=attributionCopyText&utm_medium=referral&utm_source=pexels'>Pexels</a>\n",
    "    </strong>\n",
    "</figcaption>"
   ]
  },
  {
   "cell_type": "markdown",
   "metadata": {},
   "source": [
    "### Introduction <small id='intro'></small>"
   ]
  },
  {
   "cell_type": "markdown",
   "metadata": {},
   "source": []
  },
  {
   "cell_type": "markdown",
   "metadata": {},
   "source": [
    "### Overview\n",
    "1. [Introduction](#intro)\n",
    "1. [Datetime Objects](#datetime)\n",
    "1. [Converting Datetime To Strings](#strings)\n",
    "1. [Parsing Dates With Strptime](#strptime)\n",
    "1. [Timestamps](#timestamps)\n",
    "1. [Durations With Timedelta](#timedelta)"
   ]
  },
  {
   "cell_type": "markdown",
   "metadata": {},
   "source": [
    "### Datetime Objects <small id='datetime'></small>"
   ]
  },
  {
   "cell_type": "markdown",
   "metadata": {},
   "source": [
    "In the `datetime` module, there is a separate class for objects with both date and time. Creating them is done using similarly-named `datetime` sub-module:"
   ]
  },
  {
   "cell_type": "code",
   "execution_count": 1,
   "metadata": {},
   "outputs": [],
   "source": [
    "# Import datetime submodule\n",
    "from datetime import datetime"
   ]
  },
  {
   "cell_type": "markdown",
   "metadata": {},
   "source": [
    "`datetime` objects accept 3 required (year, month, day) arguments, 4 optional arguments. Leaving optional arguments blank will set them to 0:"
   ]
  },
  {
   "cell_type": "code",
   "execution_count": 8,
   "metadata": {},
   "outputs": [
    {
     "name": "stdout",
     "output_type": "stream",
     "text": [
      "2020-11-20 14:20:25.050000\n"
     ]
    }
   ],
   "source": [
    "dt = datetime(year=2020, month=11, day=20,\n",
    "              hour=14, minute=20, second=25,\n",
    "              microsecond=50000)\n",
    "print(dt)"
   ]
  },
  {
   "cell_type": "markdown",
   "metadata": {},
   "source": [
    "If you don't want to specify the parameter names like I did in the above example, you should provide the values from largest to smallest unit. The parameters only accept integers because time is continuous. In other words, you can always find a smaller unit of time instead of passing, say, half an hour. For partial seconds, you can use `microsecond` argument to pass microseconds which equal to one millionths of a second. So, for 2.3 seconds, you would pass 2 seconds and 300k microseconds."
   ]
  },
  {
   "cell_type": "markdown",
   "metadata": {},
   "source": [
    "You can access each component of `datetime` with their own attributes:"
   ]
  },
  {
   "cell_type": "code",
   "execution_count": 10,
   "metadata": {},
   "outputs": [
    {
     "data": {
      "text/plain": [
       "(2020, 11, 20)"
      ]
     },
     "execution_count": 10,
     "metadata": {},
     "output_type": "execute_result"
    }
   ],
   "source": [
    "dt.year, dt.month, dt.day # or others"
   ]
  },
  {
   "cell_type": "markdown",
   "metadata": {},
   "source": [
    "After you have a `datetime` object, you can manipulate its components with `.replace` method:"
   ]
  },
  {
   "cell_type": "code",
   "execution_count": 27,
   "metadata": {},
   "outputs": [
    {
     "name": "stdout",
     "output_type": "stream",
     "text": [
      "Previous date: 2015-08-14 07:15:49\n",
      "     New date: 2020-11-20 15:04:25\n"
     ]
    }
   ],
   "source": [
    "# Create a random date and print\n",
    "dt = datetime(2015, 8, 14, 7, 15, 49)\n",
    "print(\"Previous date:\", dt)\n",
    "# Store today's date\n",
    "today = datetime.now() # or .now()\n",
    "# Change the random today with today's components and print\n",
    "dt_changed = dt.replace(year=today.year,\n",
    "                        month=today.month,\n",
    "                        day=today.day,\n",
    "                        hour=today.hour,\n",
    "                        minute=today.minute,\n",
    "                        second=today.second)\n",
    "print(\"     New date:\", dt_changed)"
   ]
  },
  {
   "cell_type": "markdown",
   "metadata": {},
   "source": [
    "If you want to get the attributes all at once, you can use `.timetuple`:"
   ]
  },
  {
   "cell_type": "code",
   "execution_count": 40,
   "metadata": {},
   "outputs": [
    {
     "name": "stdout",
     "output_type": "stream",
     "text": [
      " Year: 2020 \n",
      "Month: 11\n"
     ]
    }
   ],
   "source": [
    "dt_tuple = dt_changed.timetuple()\n",
    "print(\" Year:\", dt_tuple[0], \"\\nMonth:\", dt_tuple[1])"
   ]
  },
  {
   "cell_type": "markdown",
   "metadata": {},
   "source": [
    "### Converting Datetime To Strings <small id='strings'></small>"
   ]
  },
  {
   "cell_type": "markdown",
   "metadata": {},
   "source": [
    "### Parsing Dates With Strptime <small id='strptime'></small>"
   ]
  },
  {
   "cell_type": "markdown",
   "metadata": {},
   "source": [
    "### Timestamps <small id='timestamps'></small>"
   ]
  },
  {
   "cell_type": "markdown",
   "metadata": {},
   "source": [
    "### Durations With Timedelta <small id='timedelta'></small>"
   ]
  }
 ],
 "metadata": {
  "kernelspec": {
   "display_name": "medium_articles",
   "language": "python",
   "name": "medium_articles"
  },
  "language_info": {
   "codemirror_mode": {
    "name": "ipython",
    "version": 3
   },
   "file_extension": ".py",
   "mimetype": "text/x-python",
   "name": "python",
   "nbconvert_exporter": "python",
   "pygments_lexer": "ipython3",
   "version": "3.8.5"
  }
 },
 "nbformat": 4,
 "nbformat_minor": 4
}
