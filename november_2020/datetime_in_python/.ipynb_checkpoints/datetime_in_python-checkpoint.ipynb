{
 "cells": [
  {
   "cell_type": "markdown",
   "metadata": {},
   "source": [
    "# Date And Time Objects in Python - Everything You Need to Know\n",
    "## Adding time to the mix and you are done...\n",
    "<img src='images/time.jpg'></img>\n",
    "<figcaption style=\"text-align: center;\">\n",
    "    <strong>\n",
    "        Photo by \n",
    "        <a href='https://www.pexels.com/@pixabay?utm_content=attributionCopyText&utm_medium=referral&utm_source=pexels'>Pixabay</a>\n",
    "        on \n",
    "        <a href='https://www.pexels.com/photo/clear-glass-with-red-sand-grainer-39396/?utm_content=attributionCopyText&utm_medium=referral&utm_source=pexels'>Pexels</a>\n",
    "    </strong>\n",
    "</figcaption>"
   ]
  },
  {
   "cell_type": "markdown",
   "metadata": {},
   "source": [
    "### Introduction <small id='intro'></small>"
   ]
  },
  {
   "cell_type": "markdown",
   "metadata": {},
   "source": []
  },
  {
   "cell_type": "markdown",
   "metadata": {},
   "source": [
    "### Overview\n",
    "1. [Introduction](#intro)\n",
    "1. [Datetime Objects](#datetime)\n",
    "1. [Converting Datetime To Strings](#strings)\n",
    "1. [Parsing Dates With Strptime](#strptime)\n",
    "1. [Timestamps](#timestamps)\n",
    "1. [Durations With Timedelta](#timedelta)"
   ]
  },
  {
   "cell_type": "markdown",
   "metadata": {},
   "source": [
    "### Datetime Objects <small id='datetime'></small>"
   ]
  },
  {
   "cell_type": "markdown",
   "metadata": {},
   "source": [
    "In the `datetime` module, there is a separate class for objects with both date and time. Creating them is done using similarly-named `datetime` sub-module:"
   ]
  },
  {
   "cell_type": "code",
   "execution_count": 1,
   "metadata": {},
   "outputs": [],
   "source": [
    "# Import datetime submodule\n",
    "from datetime import datetime"
   ]
  },
  {
   "cell_type": "markdown",
   "metadata": {},
   "source": [
    "`datetime` objects accept 3 required (year, month, day) arguments, 4 optional arguments. Leaving optional arguments blank will set them to 0:"
   ]
  },
  {
   "cell_type": "code",
   "execution_count": 2,
   "metadata": {},
   "outputs": [
    {
     "name": "stdout",
     "output_type": "stream",
     "text": [
      "2020-11-20 14:20:25.050000\n"
     ]
    }
   ],
   "source": [
    "dt = datetime(year=2020, month=11, day=20,\n",
    "              hour=14, minute=20, second=25,\n",
    "              microsecond=50000)\n",
    "print(dt)"
   ]
  },
  {
   "cell_type": "markdown",
   "metadata": {},
   "source": [
    "If you don't want to specify the parameter names like I did in the above example, you should provide the values from largest to smallest unit. The parameters only accept integers because time is continuous. In other words, you can always find a smaller unit of time instead of passing, say, half an hour. For partial seconds, you can use `microsecond` argument to pass microseconds which equal to one millionths of a second. So, for 2.3 seconds, you would pass 2 seconds and 300k microseconds."
   ]
  },
  {
   "cell_type": "markdown",
   "metadata": {},
   "source": [
    "You can access each component of `datetime` with their own attributes:"
   ]
  },
  {
   "cell_type": "code",
   "execution_count": 3,
   "metadata": {},
   "outputs": [
    {
     "data": {
      "text/plain": [
       "(2020, 11, 20)"
      ]
     },
     "execution_count": 3,
     "metadata": {},
     "output_type": "execute_result"
    }
   ],
   "source": [
    "dt.year, dt.month, dt.day # or others"
   ]
  },
  {
   "cell_type": "markdown",
   "metadata": {},
   "source": [
    "After you have a `datetime` object, you can manipulate its components with `.replace` method:"
   ]
  },
  {
   "cell_type": "code",
   "execution_count": 4,
   "metadata": {},
   "outputs": [
    {
     "name": "stdout",
     "output_type": "stream",
     "text": [
      "Previous date: 2015-08-14 07:15:49\n",
      "     New date: 2020-11-20 16:48:02\n"
     ]
    }
   ],
   "source": [
    "# Create a random date and print\n",
    "dt = datetime(2015, 8, 14, 7, 15, 49)\n",
    "print(\"Previous date:\", dt)\n",
    "# Store today's date\n",
    "today = datetime.now() # or .now()\n",
    "# Change the random today with today's components and print\n",
    "dt_changed = dt.replace(year=today.year,\n",
    "                        month=today.month,\n",
    "                        day=today.day,\n",
    "                        hour=today.hour,\n",
    "                        minute=today.minute,\n",
    "                        second=today.second)\n",
    "print(\"     New date:\", dt_changed)"
   ]
  },
  {
   "cell_type": "markdown",
   "metadata": {},
   "source": [
    "If you want to get the attributes all at once, you can use `.timetuple`:"
   ]
  },
  {
   "cell_type": "code",
   "execution_count": 5,
   "metadata": {},
   "outputs": [
    {
     "name": "stdout",
     "output_type": "stream",
     "text": [
      " Year: 2020 \n",
      "Month: 11\n"
     ]
    }
   ],
   "source": [
    "dt_tuple = dt_changed.timetuple()\n",
    "print(\" Year:\", dt_tuple[0], \"\\nMonth:\", dt_tuple[1])"
   ]
  },
  {
   "cell_type": "markdown",
   "metadata": {},
   "source": [
    "### Converting Datetime To Strings <small id='strings'></small>"
   ]
  },
  {
   "cell_type": "markdown",
   "metadata": {},
   "source": [
    "Even though, `datetime` objects are easy to work with, you will need to convert them to strings with different formats for various reasons. For example, you may use them in ISO 8601 formats as filenames so that they can be ordered chronologically by OS or saving them in CSV files, etc. \n",
    "\n",
    "First, let's see how to convert datetimes to ISO format:"
   ]
  },
  {
   "cell_type": "code",
   "execution_count": 6,
   "metadata": {},
   "outputs": [
    {
     "name": "stdout",
     "output_type": "stream",
     "text": [
      "['2020-11-20T16:48:02.036368']\n"
     ]
    }
   ],
   "source": [
    "dt = datetime.now()\n",
    "print([dt.isoformat()])"
   ]
  },
  {
   "cell_type": "markdown",
   "metadata": {},
   "source": [
    "Converting datetime to the standard ISO 8601 format has many benefits. Mainly, it is easy to parse them and can be read by many other programming languages too. The pattern of this format: **YYYY-MM-DD T HH:MM:SS.Microseconds** (always 4 digit-years, adding 0 to the left of single digit month, day, hour. minute and seconds. Date and time components separated by 'T' without whitespace)"
   ]
  },
  {
   "cell_type": "markdown",
   "metadata": {},
   "source": [
    "If you don't want to use ISO format, you can create custom date formats with `.strftime` (string format time) method. It takes a format string with special codes for different components of `datetime`:"
   ]
  },
  {
   "cell_type": "code",
   "execution_count": 7,
   "metadata": {},
   "outputs": [
    {
     "name": "stdout",
     "output_type": "stream",
     "text": [
      "Today is 2020, November 20\n",
      "Date: 20/11/2020 Time: 16:48:02\n"
     ]
    }
   ],
   "source": [
    "print(dt.strftime('Today is %Y, %B %d'))\n",
    "print(dt.strftime('Date: %d/%m/%Y Time: %H:%M:%S'))"
   ]
  },
  {
   "cell_type": "markdown",
   "metadata": {},
   "source": [
    "With format strings, the number of customizations are endless. \n",
    "Here are date and time format codes in Python:\n",
    "- **%Y**: year in 4 digits\n",
    "- **%y**: year in 2 digits\n",
    "- **%m**: month in 2 digits\n",
    "- **%B**: full name of the month\n",
    "- **%w**: week number from 0 to 6\n",
    "- **%A**: full name of the weekday\n",
    "- **%a**: first three letters for the weekday\n",
    "- **%W**: returns the week number of the year\n",
    "- **%d**: day of the month\n",
    "- **%j**: day of the year\n",
    "- **%H**: hour\n",
    "- **%M**: minute\n",
    "- **%S**: second\n",
    "- **%p**: AM/PM for time\n",
    "- **%Z**: timezone\n",
    "- **%z**: UTC offset\n",
    "\n",
    "Shockingly, there are bunch more and you can read about them from [this](https://docs.python.org/3/library/datetime.html#strftime-strptime-behavior) page of `datetime` documentation."
   ]
  },
  {
   "cell_type": "markdown",
   "metadata": {},
   "source": [
    "### Parsing String Dates With Strptime <small id='strptime'></small>"
   ]
  },
  {
   "cell_type": "markdown",
   "metadata": {},
   "source": [
    "When dates are saved to a file or you read them from some other source, they will always be a string. Since there are so damn many datetime formats, you will need a flexible tool to read any format of data. To read datetimes with any format you can use `.strptime` (string parse time) method. It takes two arguments: date as a string and the format string to parse it:"
   ]
  },
  {
   "cell_type": "code",
   "execution_count": 8,
   "metadata": {
    "scrolled": true
   },
   "outputs": [
    {
     "name": "stdout",
     "output_type": "stream",
     "text": [
      "2020-11-20 00:00:00\n",
      "1997-12-12 14:05:26\n"
     ]
    }
   ],
   "source": [
    "# Example one\n",
    "date_st = '2020-11-20'\n",
    "# Matching format string\n",
    "format_st = '%Y-%m-%d'\n",
    "dt = datetime.strptime(date_st, format_st)\n",
    "print(dt)\n",
    "\n",
    "# Example two\n",
    "date_st = '14:05:26 12/12/97'\n",
    "# Matching format string\n",
    "format_st = '%H:%M:%S %d/%m/%y'\n",
    "dt = datetime.strptime(date_st, format_st)\n",
    "print(dt)"
   ]
  },
  {
   "cell_type": "markdown",
   "metadata": {},
   "source": [
    "Providing incorrect format string will result in a `ValueError`. Whatever format the date was before, after you parse it with `strptime` will convert it to a standard `datetime` object format."
   ]
  },
  {
   "cell_type": "markdown",
   "metadata": {},
   "source": [
    "### Timestamps <small id='timestamps'></small>"
   ]
  },
  {
   "cell_type": "markdown",
   "metadata": {},
   "source": [
    "As if hundreds of date formats mixed with hundreds of time zones was not enough, you can represent `datetime` objects as timestamps too. Timestamps in Python or any other programming languages is a little different. First let's see one example by converting the time now to timestamp:"
   ]
  },
  {
   "cell_type": "code",
   "execution_count": 9,
   "metadata": {},
   "outputs": [
    {
     "data": {
      "text/plain": [
       "1605872882.073268"
      ]
     },
     "execution_count": 9,
     "metadata": {},
     "output_type": "execute_result"
    }
   ],
   "source": [
    "# Today's date with time\n",
    "now = datetime.now()\n",
    "# Convert to timestamp\n",
    "ts = datetime.timestamp(now)\n",
    "ts"
   ]
  },
  {
   "cell_type": "markdown",
   "metadata": {},
   "source": [
    "The output is the number of seconds elapsed sine the January 1, 1970 which is considered as the start of modern-age computers. It is also called Unix timestamp. So it has been approximately 1.6 billions seconds since 1970. \n",
    "\n",
    "> Interesting fact: the largest number some old machines can store in a single variable is 2147483648 which in Unix timestamp will be January 2038. So let's all hope that the machine that surpasses this timestamp will be a game console rather than a computer in a nuclear plant🤞."
   ]
  },
  {
   "cell_type": "markdown",
   "metadata": {},
   "source": [
    "You can create dates from timestamps too:"
   ]
  },
  {
   "cell_type": "code",
   "execution_count": 10,
   "metadata": {
    "scrolled": true
   },
   "outputs": [
    {
     "name": "stdout",
     "output_type": "stream",
     "text": [
      "2038-01-19 08:14:08\n"
     ]
    }
   ],
   "source": [
    "ts = 2147483648\n",
    "end = datetime.fromtimestamp(ts)\n",
    "print(end)"
   ]
  },
  {
   "cell_type": "markdown",
   "metadata": {},
   "source": [
    "### Durations With Timedelta <small id='timedelta'></small>"
   ]
  },
  {
   "cell_type": "markdown",
   "metadata": {},
   "source": [
    "Performing math with dates and times is easy using `timedelta` objects. Adding some duration of time to `datetime`s like an hour, 3 years, 4 months or 5 minutes can only be done using `timedelta` objects. \n",
    "\n",
    "Let's create a `timedelta` object with a duration of 4 months, 3 days, 14 hours:"
   ]
  },
  {
   "cell_type": "code",
   "execution_count": 11,
   "metadata": {},
   "outputs": [
    {
     "data": {
      "text/plain": [
       "datetime.timedelta(days=123, seconds=50432)"
      ]
     },
     "execution_count": 11,
     "metadata": {},
     "output_type": "execute_result"
    }
   ],
   "source": [
    "# Import timedelta class\n",
    "from datetime import timedelta\n",
    "\n",
    "# create timedelta duration\n",
    "td = timedelta(days=4*30 + 3, hours=14, seconds=32)\n",
    "td"
   ]
  },
  {
   "cell_type": "markdown",
   "metadata": {},
   "source": [
    "Now, you can use this object to add or subtract from dates:"
   ]
  },
  {
   "cell_type": "code",
   "execution_count": 12,
   "metadata": {},
   "outputs": [
    {
     "name": "stdout",
     "output_type": "stream",
     "text": [
      "2020-07-20 02:47:30.109173\n",
      "2021-03-24 06:48:34.109173\n"
     ]
    }
   ],
   "source": [
    "now = datetime.now()\n",
    "print(now - td)\n",
    "print(now + td)"
   ]
  },
  {
   "cell_type": "markdown",
   "metadata": {},
   "source": [
    "`timedelta` objects can be created with 7 arguments:"
   ]
  },
  {
   "cell_type": "code",
   "execution_count": 13,
   "metadata": {},
   "outputs": [
    {
     "data": {
      "text/plain": [
       "datetime.timedelta(days=348, seconds=50015, microseconds=445113)"
      ]
     },
     "execution_count": 13,
     "metadata": {},
     "output_type": "execute_result"
    }
   ],
   "source": [
    "delta = timedelta(\n",
    "    weeks=47,\n",
    "    days=19,\n",
    "    hours=13,\n",
    "    minutes=53,\n",
    "    seconds=17,\n",
    "    milliseconds=13931,\n",
    "    microseconds=4514113\n",
    ")\n",
    "delta"
   ]
  },
  {
   "cell_type": "markdown",
   "metadata": {},
   "source": [
    "If possible, `timedelta` objects will always round up durations with only day, second and microsecond components."
   ]
  },
  {
   "cell_type": "markdown",
   "metadata": {},
   "source": [
    "Stay tuned for my next article where I will talk about time zones and daylight saving time in Python."
   ]
  }
 ],
 "metadata": {
  "kernelspec": {
   "display_name": "medium_articles",
   "language": "python",
   "name": "medium_articles"
  },
  "language_info": {
   "codemirror_mode": {
    "name": "ipython",
    "version": 3
   },
   "file_extension": ".py",
   "mimetype": "text/x-python",
   "name": "python",
   "nbconvert_exporter": "python",
   "pygments_lexer": "ipython3",
   "version": "3.8.5"
  }
 },
 "nbformat": 4,
 "nbformat_minor": 4
}
