{
 "cells": [
  {
   "cell_type": "markdown",
   "metadata": {},
   "source": [
    "# Giant Mess - Dealing with Timezones and Daylight Saving Time in Python\n",
    "## - I went to sleep at 2 am on November 1... - Um, which one?\n",
    "<img src='images/time.jpg'></img>\n",
    "<figcaption style=\"text-align: center;\">\n",
    "    <strong>\n",
    "        Photo by \n",
    "        <a href='https://www.pexels.com/@andrey-grushnikov-223358?utm_content=attributionCopyText&utm_medium=referral&utm_source=pexels'>Andrey Grushnikov</a>\n",
    "        on \n",
    "        <a href='https://www.pexels.com/photo/black-and-white-photo-of-clocks-707676/?utm_content=attributionCopyText&utm_medium=referral&utm_source=pexels'>Pexels</a>\n",
    "    </strong>\n",
    "</figcaption>"
   ]
  },
  {
   "cell_type": "markdown",
   "metadata": {},
   "source": [
    "### Introduction <small id='intro'></small>"
   ]
  },
  {
   "cell_type": "markdown",
   "metadata": {},
   "source": [
    "The first mechanical clock was invented in the 17th century. During those times, everyone set their clock so that noon was directly overhead and this was not a big problem because everyone traveled on foot and horses. Later, telegraphs and trains were invented and you could suddenly travel around and communicate with people hundreds of miles away in a significantly short amount of time. This led to people realizing they had to have a standard time so, in the 1900s, the greatest leaders and thinkers from developed countries gathered around and divided the world into 24 time zones. \n",
    "\n",
    "Greenwich, London got be 0 o'clock because they standardized their time first and the countries west to the UK set their clocks earlier than London and the countries to the West set later. This standardization is also knows as UTC (Universal Coordinate Time). In other words, if you Google 'UTC time now', it will show the time in London.\n",
    "\n",
    "Today, data moves around the world in the blink of an eye and if date and time information is not timezone aware, it will create a whole host of problems for programmers. In this post, we will talk about how to address such problems, including Daylight Saving Time."
   ]
  },
  {
   "cell_type": "markdown",
   "metadata": {},
   "source": [
    "### Timezones <small id='tz'></small>"
   ]
  },
  {
   "cell_type": "markdown",
   "metadata": {},
   "source": [
    "To start working with timezones, let's import the necessary modules from `datetime`:"
   ]
  },
  {
   "cell_type": "markdown",
   "metadata": {},
   "source": [
    "> Before moving on, I highly recommend to read my [previous](https://towardsdatascience.com/date-and-time-objects-in-python-everything-you-need-to-know-10aa3bf121be?source=your_stories_page-------------------------------------) article on datetimes and timedeltas if you haven't already."
   ]
  },
  {
   "cell_type": "code",
   "execution_count": 1,
   "metadata": {},
   "outputs": [],
   "source": [
    "from datetime import datetime, timedelta, timezone"
   ]
  },
  {
   "cell_type": "markdown",
   "metadata": {},
   "source": [
    "We will need `datetime` to work with DateTime objects, `timedelta` to work with time durations and `timezone` to create time differences between UTC standard time. To practice, I will load a subset of the Ford GoBike data of San Francisco bay area which contains start and end dates for rides and ride duration:"
   ]
  },
  {
   "cell_type": "code",
   "execution_count": 2,
   "metadata": {},
   "outputs": [
    {
     "data": {
      "text/html": [
       "<div>\n",
       "<style scoped>\n",
       "    .dataframe tbody tr th:only-of-type {\n",
       "        vertical-align: middle;\n",
       "    }\n",
       "\n",
       "    .dataframe tbody tr th {\n",
       "        vertical-align: top;\n",
       "    }\n",
       "\n",
       "    .dataframe thead th {\n",
       "        text-align: right;\n",
       "    }\n",
       "</style>\n",
       "<table border=\"1\" class=\"dataframe\">\n",
       "  <thead>\n",
       "    <tr style=\"text-align: right;\">\n",
       "      <th></th>\n",
       "      <th>duration_sec</th>\n",
       "      <th>start_time</th>\n",
       "      <th>end_time</th>\n",
       "    </tr>\n",
       "  </thead>\n",
       "  <tbody>\n",
       "    <tr>\n",
       "      <th>0</th>\n",
       "      <td>80110</td>\n",
       "      <td>2017-12-31 16:57:39.654</td>\n",
       "      <td>2018-01-01 15:12:50.245</td>\n",
       "    </tr>\n",
       "    <tr>\n",
       "      <th>1</th>\n",
       "      <td>78800</td>\n",
       "      <td>2017-12-31 15:56:34.842</td>\n",
       "      <td>2018-01-01 13:49:55.617</td>\n",
       "    </tr>\n",
       "    <tr>\n",
       "      <th>2</th>\n",
       "      <td>45768</td>\n",
       "      <td>2017-12-31 22:45:48.411</td>\n",
       "      <td>2018-01-01 11:28:36.883</td>\n",
       "    </tr>\n",
       "    <tr>\n",
       "      <th>3</th>\n",
       "      <td>62172</td>\n",
       "      <td>2017-12-31 17:31:10.636</td>\n",
       "      <td>2018-01-01 10:47:23.531</td>\n",
       "    </tr>\n",
       "    <tr>\n",
       "      <th>4</th>\n",
       "      <td>43603</td>\n",
       "      <td>2017-12-31 14:23:14.001</td>\n",
       "      <td>2018-01-01 02:29:57.571</td>\n",
       "    </tr>\n",
       "  </tbody>\n",
       "</table>\n",
       "</div>"
      ],
      "text/plain": [
       "   duration_sec              start_time                end_time\n",
       "0         80110 2017-12-31 16:57:39.654 2018-01-01 15:12:50.245\n",
       "1         78800 2017-12-31 15:56:34.842 2018-01-01 13:49:55.617\n",
       "2         45768 2017-12-31 22:45:48.411 2018-01-01 11:28:36.883\n",
       "3         62172 2017-12-31 17:31:10.636 2018-01-01 10:47:23.531\n",
       "4         43603 2017-12-31 14:23:14.001 2018-01-01 02:29:57.571"
      ]
     },
     "execution_count": 2,
     "metadata": {},
     "output_type": "execute_result"
    }
   ],
   "source": [
    "import pandas as pd\n",
    "\n",
    "rides = pd.read_csv('data/tripdata.csv',\n",
    "                    usecols=['duration_sec', 'start_time', 'end_time'],\n",
    "                    parse_dates=['start_time', 'end_time'])\n",
    "rides.head()"
   ]
  },
  {
   "cell_type": "code",
   "execution_count": 3,
   "metadata": {},
   "outputs": [
    {
     "name": "stdout",
     "output_type": "stream",
     "text": [
      "<class 'pandas.core.frame.DataFrame'>\n",
      "RangeIndex: 519700 entries, 0 to 519699\n",
      "Data columns (total 3 columns):\n",
      " #   Column        Non-Null Count   Dtype         \n",
      "---  ------        --------------   -----         \n",
      " 0   duration_sec  519700 non-null  int64         \n",
      " 1   start_time    519700 non-null  datetime64[ns]\n",
      " 2   end_time      519700 non-null  datetime64[ns]\n",
      "dtypes: datetime64[ns](2), int64(1)\n",
      "memory usage: 11.9 MB\n"
     ]
    }
   ],
   "source": [
    "rides.info()"
   ]
  },
  {
   "cell_type": "markdown",
   "metadata": {},
   "source": [
    "To keep the examples short and easy to understand, let's isolate the earliest recorded bike rental from the dataset:"
   ]
  },
  {
   "cell_type": "code",
   "execution_count": 4,
   "metadata": {},
   "outputs": [
    {
     "data": {
      "text/plain": [
       "519697   2017-06-28 09:47:36.347\n",
       "Name: start_time, dtype: datetime64[ns]"
      ]
     },
     "execution_count": 4,
     "metadata": {},
     "output_type": "execute_result"
    }
   ],
   "source": [
    "rides.nsmallest(1, 'start_time')['start_time']"
   ]
  },
  {
   "cell_type": "markdown",
   "metadata": {},
   "source": [
    "We will now store it as a `datetime` object, ignoring the milliseconds:"
   ]
  },
  {
   "cell_type": "code",
   "execution_count": 5,
   "metadata": {},
   "outputs": [
    {
     "name": "stdout",
     "output_type": "stream",
     "text": [
      "2017-06-28 09:47:36\n"
     ]
    }
   ],
   "source": [
    "dt = datetime(2017, 6, 28, 9, 47, 36)\n",
    "print(dt)"
   ]
  },
  {
   "cell_type": "markdown",
   "metadata": {},
   "source": [
    "As I said, the data was recorded in San Francisco. San Francisco's timezone has a -7 hour UTC offset meaning it is 7 hours behind the UTC, London time. To show this in code, we need to create a `timezone` object:"
   ]
  },
  {
   "cell_type": "code",
   "execution_count": 6,
   "metadata": {},
   "outputs": [
    {
     "name": "stdout",
     "output_type": "stream",
     "text": [
      "<class 'datetime.timezone'>\n"
     ]
    }
   ],
   "source": [
    "sf_tz = timezone(timedelta(hours=-7))\n",
    "print(type(sf_tz))"
   ]
  },
  {
   "cell_type": "markdown",
   "metadata": {},
   "source": [
    "`timezone` function accepts a `timedelta` object which helps to translate your datetime into UTC. We can specify what time zone the clock was in when it recorded the earliest bike rental by using `tzinfo` argument:"
   ]
  },
  {
   "cell_type": "code",
   "execution_count": 7,
   "metadata": {},
   "outputs": [],
   "source": [
    "dt = datetime(2017, 6, 28, 9, 47, 36, tzinfo=sf_tz)"
   ]
  },
  {
   "cell_type": "markdown",
   "metadata": {},
   "source": [
    "Now if we print it, the datetime includes the UTC offset:"
   ]
  },
  {
   "cell_type": "code",
   "execution_count": 8,
   "metadata": {},
   "outputs": [
    {
     "name": "stdout",
     "output_type": "stream",
     "text": [
      "2017-06-28 09:47:36-07:00\n"
     ]
    }
   ],
   "source": [
    "print(dt)"
   ]
  },
  {
   "cell_type": "markdown",
   "metadata": {},
   "source": [
    "> Note that `tzinfo` does not change the time itself but shows the UTC offset only."
   ]
  },
  {
   "cell_type": "markdown",
   "metadata": {},
   "source": [
    "Making `datetime` 'aware' of its time zone enables us to ask new questions. Since `dt` now knows the difference between its own time and UTC, it can calculate the time difference between other time zones as well. For example, let's find out what the time was in India when the first bike rental started. \n",
    "\n",
    "We first store the UTC offset of India, which is 5 hours and 30 minutes:"
   ]
  },
  {
   "cell_type": "code",
   "execution_count": 9,
   "metadata": {},
   "outputs": [],
   "source": [
    "# Store Indian standard time offset\n",
    "ist = timezone(timedelta(hours=5, minutes=30))"
   ]
  },
  {
   "cell_type": "markdown",
   "metadata": {},
   "source": [
    "To change the time zone of datetime we can use `astimezone()` method:"
   ]
  },
  {
   "cell_type": "code",
   "execution_count": 10,
   "metadata": {},
   "outputs": [
    {
     "name": "stdout",
     "output_type": "stream",
     "text": [
      "Printing the same moment in 2 different timezones...\n",
      "\n",
      "In San Francisco: 2017-06-28 09:47:36-07:00 \n",
      "\n",
      "        In India: 2017-06-28 22:17:36+05:30\n"
     ]
    }
   ],
   "source": [
    "print('Printing the same moment in 2 different timezones...\\n')\n",
    "print('In San Francisco:', dt, '\\n')\n",
    "print('        In India:', dt.astimezone(ist))"
   ]
  },
  {
   "cell_type": "markdown",
   "metadata": {},
   "source": [
    "This time `.astimezone` changes the time itself to show the time in India. The new time is the same moment (the start of the earliest rental) in India time with UTC offset of +5 hours and 30 minutes."
   ]
  },
  {
   "cell_type": "markdown",
   "metadata": {},
   "source": [
    "Finally, there is an important difference between adjusting the timezone and changing the UTC offset. You can change the UTC offset directly with `.replace()` method:"
   ]
  },
  {
   "cell_type": "code",
   "execution_count": 11,
   "metadata": {},
   "outputs": [
    {
     "name": "stdout",
     "output_type": "stream",
     "text": [
      "With old UTC offset: 2017-06-28 09:47:36-07:00\n",
      "With new UTC offset: 2017-06-28 09:47:36-03:00\n"
     ]
    }
   ],
   "source": [
    "new_tz = timezone(timedelta(hours=-3))\n",
    "print('With old UTC offset:', dt)\n",
    "print('With new UTC offset:', dt.replace(tzinfo=new_tz))"
   ]
  },
  {
   "cell_type": "markdown",
   "metadata": {},
   "source": [
    "With `.replace()`, clock stays the same but the offset has shifted. Now, if we call `.astimezone()`, it will change both the UTC offset and the time itself:"
   ]
  },
  {
   "cell_type": "code",
   "execution_count": 12,
   "metadata": {},
   "outputs": [
    {
     "name": "stdout",
     "output_type": "stream",
     "text": [
      "2017-06-28 16:47:36+00:00\n"
     ]
    }
   ],
   "source": [
    "print(dt.astimezone(timezone.utc))"
   ]
  },
  {
   "cell_type": "markdown",
   "metadata": {},
   "source": [
    "`timezone.utc` is a convenient attribute to shift any datetime to UTC timezone (not offset). These terms can be pretty confusing at first but by taking a random date and playing around to shift its timezone and changing the offsets will give you a nice intuition."
   ]
  },
  {
   "cell_type": "markdown",
   "metadata": {},
   "source": [
    "### Timezones database"
   ]
  },
  {
   "cell_type": "markdown",
   "metadata": {},
   "source": [
    "Now that you know how UTC offsets and timezones work, let's talk about how to use timezones in practice. Here is a picture of all the timezones as of 2017:\n",
    "<img src='images/timezones.png'></img>\n",
    "<figcaption style=\"text-align: center;\">\n",
    "    <strong>\n",
    "        Image by \n",
    "        <a href='https://upload.wikimedia.org/wikipedia/commons/c/cb/2017a.png'>Wikipedia</a>\n",
    "    </strong>\n",
    "</figcaption>"
   ]
  },
  {
   "cell_type": "markdown",
   "metadata": {},
   "source": [
    "The zones cut across and within countries. You cannot possibly know all the UTC offsets. Thankfully, there is a database called `tz` which is updated 3-4 times a year as timezones change. \n",
    "\n",
    "This database is accessible in Python thought the built-in `dateutil` package:"
   ]
  },
  {
   "cell_type": "code",
   "execution_count": 13,
   "metadata": {},
   "outputs": [],
   "source": [
    "from dateutil import tz"
   ]
  },
  {
   "cell_type": "markdown",
   "metadata": {},
   "source": [
    "To illustrate it in practice, let's create a timezone object that corresponds to where our bikes data come from:"
   ]
  },
  {
   "cell_type": "code",
   "execution_count": 14,
   "metadata": {},
   "outputs": [],
   "source": [
    "sf_tz = tz.gettz('America/Creston')"
   ]
  },
  {
   "cell_type": "markdown",
   "metadata": {},
   "source": [
    "Within `tz`, timezones are defined first by the continent they are on and by the nearest major city (separated by a slash). For example, our bike data has a UTC offset of -7 hours and to get its official timezone name, you can go to [this](https://en.wikipedia.org/wiki/List_of_tz_database_time_zones) Wikipedia page and get the official `tz` name for -7 UTC offset.\n",
    "Sometimes, you can get the time zone offset by using the city name directly but there are times where you have to refer to the above link to find the official time zone name in `tz` format.\n",
    "\n",
    "Here are some more examples:\n",
    "- Asia/Tashkent\n",
    "- America/New_York\n",
    "- Europe/London\n",
    "- America/Mexico_City\n",
    "- Pacific/Kiritimati\n",
    "- America/Chicago"
   ]
  },
  {
   "cell_type": "markdown",
   "metadata": {},
   "source": [
    "Now, instead of specifying the timezone by hand, we pass the object we got from `America/Creston` to the `datatime`:"
   ]
  },
  {
   "cell_type": "code",
   "execution_count": 15,
   "metadata": {},
   "outputs": [
    {
     "name": "stdout",
     "output_type": "stream",
     "text": [
      "2017-06-28 09:47:36-07:00\n"
     ]
    }
   ],
   "source": [
    "sf_tz = tz.gettz('America/Creston')\n",
    "dt = datetime(2017, 6, 28, 9, 47, 36, tzinfo=sf_tz) # Earliest rental\n",
    "print(dt)"
   ]
  },
  {
   "cell_type": "markdown",
   "metadata": {},
   "source": [
    "### Daylight Saving Time <small id='dst'></small>"
   ]
  },
  {
   "cell_type": "markdown",
   "metadata": {},
   "source": [
    "As if 24 timezones were not enough, some countries change their clocks twice a year to create longer summer evenings. \n",
    "> You know what is worse than jumbling up all the clocks in the world? It is jumbling up some of them! - Joe Hanson\n",
    "\n",
    "Some countries have a yearly practice of shifting their clocks one hour forward in the spring and an hour back in the fall. This practice is called Daylight Saving Time because it 'supposedly' creates longer summer evenings. Dealing with DST is one the most challenging tasks in time-series analysis. Please watch [this](https://www.youtube.com/watch?v=bMrb56dDpic) YouTube video about the topic more. To keep it simple, let's look at an example:"
   ]
  },
  {
   "cell_type": "markdown",
   "metadata": {},
   "source": [
    "On March 8, this year, at 01:59:59, the clocks in countries where DST is in practice was made to jump to 03:00:00 causing time to 'spring ahead' by an hour (not going into the details of why). This is a huge phenomenon for all the programmers and others \n",
    "alike.\n",
    "\n",
    "To understand what happens, consider this visual:\n",
    "<img src='images/spring.png'></img>"
   ]
  },
  {
   "cell_type": "markdown",
   "metadata": {},
   "source": [
    "The green dashed lines represented the 7 hour difference before the 'spring forward'. After the jump, the black dash represents a new 6 hour difference. Let's see this in code:"
   ]
  },
  {
   "cell_type": "code",
   "execution_count": 16,
   "metadata": {},
   "outputs": [
    {
     "name": "stdout",
     "output_type": "stream",
     "text": [
      "2020-04-08T01:59:59\n",
      "2020-04-08T03:00:00\n"
     ]
    },
    {
     "data": {
      "text/plain": [
       "3601.0"
      ]
     },
     "execution_count": 16,
     "metadata": {},
     "output_type": "execute_result"
    }
   ],
   "source": [
    "# 1:59 AM before spring forward\n",
    "sa_159_am = datetime(2020, 4, 8, 1, 59, 59)\n",
    "print(sa_159_am.isoformat())\n",
    "# 3:00 AM after spring forward\n",
    "sa_300_am = datetime(2020, 4, 8, 3, 0, 0)\n",
    "print(sa_300_am.isoformat())\n",
    "# Find their difference in seconds\n",
    "(sa_300_am - sa_159_am).total_seconds()"
   ]
  },
  {
   "cell_type": "markdown",
   "metadata": {},
   "source": [
    "Since, we did not set the UTC offset we are getting 1 hour and 1 second difference where in fact, it was just 1 second. Let's add the UTC offset and try the computation again:"
   ]
  },
  {
   "cell_type": "code",
   "execution_count": 17,
   "metadata": {},
   "outputs": [
    {
     "name": "stdout",
     "output_type": "stream",
     "text": [
      "2020-04-08T01:59:59-07:00\n",
      "2020-04-08T03:00:00-06:00\n"
     ]
    },
    {
     "data": {
      "text/plain": [
       "1.0"
      ]
     },
     "execution_count": 17,
     "metadata": {},
     "output_type": "execute_result"
    }
   ],
   "source": [
    "# 1:59 AM before spring forward with tz\n",
    "est = timezone(timedelta(hours=-7))\n",
    "sa_159_am_tz = datetime(2020, 4, 8, 1, 59, 59, tzinfo=est)\n",
    "print(sa_159_am_tz.isoformat())\n",
    "# 3:00 AM after spring forward with tz\n",
    "edt = timezone(timedelta(hours=-6))\n",
    "sa_300_am_tz = datetime(2020, 4, 8, 3, 0, 0, tzinfo=edt)\n",
    "print(sa_300_am_tz.isoformat())\n",
    "# Find their difference in seconds\n",
    "(sa_300_am_tz - sa_159_am_tz).total_seconds()"
   ]
  },
  {
   "cell_type": "markdown",
   "metadata": {},
   "source": [
    "As expected, it now returns 1 second difference. Putting UTC offsets enabled us to put things in perspective."
   ]
  },
  {
   "cell_type": "markdown",
   "metadata": {},
   "source": [
    "But we cannot always now when the cutoff is since the dates change every year. Thankfully, `tz` can handle daylight saving under the hood, yay!"
   ]
  },
  {
   "cell_type": "markdown",
   "metadata": {},
   "source": [
    "Let's perform the above operation with `tz`:"
   ]
  },
  {
   "cell_type": "code",
   "execution_count": 18,
   "metadata": {
    "scrolled": true
   },
   "outputs": [
    {
     "name": "stdout",
     "output_type": "stream",
     "text": [
      "2020-04-08T01:59:59-07:00\n",
      "2020-04-08T03:00:00-07:00\n"
     ]
    },
    {
     "data": {
      "text/plain": [
       "3601.0"
      ]
     },
     "execution_count": 18,
     "metadata": {},
     "output_type": "execute_result"
    }
   ],
   "source": [
    "# Store the timezone for San Francisco\n",
    "dst = tz.gettz('America/Creston')\n",
    "# 1:59 AM before spring forward with tz\n",
    "sa_159_dst = datetime(2020, 4, 8, 1, 59, 59, tzinfo=dst)\n",
    "print(sa_159_am_tz.isoformat())\n",
    "# 3:00 AM after spring forward with tz\n",
    "sa_300_dst = datetime(2020, 4, 8, 3, 0, 0, tzinfo=dst)\n",
    "print(sa_300_dst.isoformat())\n",
    "(sa_300_dst - sa_159_dst).total_seconds()"
   ]
  },
  {
   "cell_type": "markdown",
   "metadata": {},
   "source": [
    "The same process applies for DTS ending in the fall. This year, DST ended on November 1 at 2 am. Actually, the clocks in countries with DST hit the 2 am twice. The first time, the clock goes from 2:00 to 2:59 in the normal way and instead of hitting three, the clock goes back to 2 and then continues. The UTC offset also changes back to -7 hours in San Fransisco from -6 hours.\n",
    "\n",
    "Daylight Saving Time, not easy!"
   ]
  }
 ],
 "metadata": {
  "kernelspec": {
   "display_name": "medium_articles",
   "language": "python",
   "name": "medium_articles"
  },
  "language_info": {
   "codemirror_mode": {
    "name": "ipython",
    "version": 3
   },
   "file_extension": ".py",
   "mimetype": "text/x-python",
   "name": "python",
   "nbconvert_exporter": "python",
   "pygments_lexer": "ipython3",
   "version": "3.8.5"
  }
 },
 "nbformat": 4,
 "nbformat_minor": 4
}
