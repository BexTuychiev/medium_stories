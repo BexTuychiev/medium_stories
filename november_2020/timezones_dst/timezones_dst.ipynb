{
 "cells": [
  {
   "cell_type": "markdown",
   "metadata": {},
   "source": [
    "# Giant Mess - Dealing with Timezones and Daylight Saving Time in Python\n",
    "## - I went to sleep at 2 am on November 1... - Um, which one?\n",
    "<img src='images/time.jpg'></img>\n",
    "<figcaption style=\"text-align: center;\">\n",
    "    <strong>\n",
    "        Photo by \n",
    "        <a href='https://www.pexels.com/@andrey-grushnikov-223358?utm_content=attributionCopyText&utm_medium=referral&utm_source=pexels'>Andrey Grushnikov</a>\n",
    "        on \n",
    "        <a href='https://www.pexels.com/photo/black-and-white-photo-of-clocks-707676/?utm_content=attributionCopyText&utm_medium=referral&utm_source=pexels'>Pexels</a>\n",
    "    </strong>\n",
    "</figcaption>"
   ]
  },
  {
   "cell_type": "markdown",
   "metadata": {},
   "source": [
    "### Time Zones"
   ]
  },
  {
   "cell_type": "markdown",
   "metadata": {},
   "source": [
    "The first mechanical clock was invented in the 17th century. During those times, everyone set their clock so that noon was directly overhead and this was not a big problem because everyone traveled on foot and horses. Later, telegraphs and trains were invented and you could suddenly travel around and communicate with people hundreds of miles away in a significantly short amount of time. This led to people realizing they had to have a standard time so, in the 1900s, the greatest leaders and thinkers from developed countries gathered around and divided the world into 24 time zones. \n",
    "\n",
    "Greenwich, London got be 0 o'clock because they standardized their time first and the countries west to the UK set their clocks earlier than London and the countries to the West set later. This standardization is also knows as UTC (Universal Coordinate Time). In other words, if you Google 'UTC time now', it will show the time in London.\n",
    "\n",
    "Today, data moves around the world in the blink of an eye and if date and time information is not timezone aware, it will create a whole host of problems for programmers. In this post, we will talk about how to address such problems, including Daylight Saving Time."
   ]
  },
  {
   "cell_type": "markdown",
   "metadata": {},
   "source": [
    "### Setup"
   ]
  },
  {
   "cell_type": "markdown",
   "metadata": {},
   "source": [
    "To start working with timezones, let's import the necessary modules from `datetime`:"
   ]
  },
  {
   "cell_type": "markdown",
   "metadata": {},
   "source": [
    "> Before moving on, I highly recommend to read my [previous](https://towardsdatascience.com/date-and-time-objects-in-python-everything-you-need-to-know-10aa3bf121be?source=your_stories_page-------------------------------------) article on datetimes and timedeltas if you don't know already."
   ]
  },
  {
   "cell_type": "code",
   "execution_count": 2,
   "metadata": {},
   "outputs": [],
   "source": [
    "from datetime import datetime, timedelta, timezone"
   ]
  },
  {
   "cell_type": "markdown",
   "metadata": {},
   "source": [
    "We will need `datetime` to work with DateTime objects, `timedelta` to work with time durations and `timezone` to create time differences between UTC standard time. To practice, I will load the bi"
   ]
  },
  {
   "cell_type": "code",
   "execution_count": 34,
   "metadata": {},
   "outputs": [
    {
     "name": "stdout",
     "output_type": "stream",
     "text": [
      "    Time in London: 2020-11-25T04:28:45\n",
      "\n",
      "Time in Washington: 2020-11-24T20:28:45\n"
     ]
    }
   ],
   "source": [
    "# Store times for the moment\n",
    "london = datetime(2020, 11, 25, 4, 28, 45)\n",
    "washington = datetime(2020, 11, 24, 20, 28, 45)\n",
    "print(\"    Time in London: \" + london.isoformat() + '\\n')\n",
    "print(\"Time in Washington: \" + washington.isoformat())"
   ]
  },
  {
   "cell_type": "markdown",
   "metadata": {},
   "source": [
    "As Python documentation says, `london` and `washington` are naive meaning they do not know their timezone. Quick reminder for the notation of timezone info for datetimes:\n",
    "\n",
    "```\n",
    "YYYY-MM-DD HH:MM:SS + UTC Offset\n",
    "```"
   ]
  },
  {
   "cell_type": "markdown",
   "metadata": {},
   "source": [
    "UTC offset basically means the time difference between UTC and the time zone. For example, Washington is 8 hours behind the UTC, London time, so it has a UTC offset of -8 hours."
   ]
  },
  {
   "cell_type": "code",
   "execution_count": 16,
   "metadata": {},
   "outputs": [
    {
     "name": "stdout",
     "output_type": "stream",
     "text": [
      "2020-11-24 20:28:45-08:00\n"
     ]
    }
   ],
   "source": [
    "# Create an 8 hour difference\n",
    "offset_dc = timezone(timedelta(hours=-8))\n",
    "# Insert it into washington\n",
    "washington = datetime(2020, 11, 24, 20, 28, 45, tzinfo=offset_dc)\n",
    "print(washington)"
   ]
  },
  {
   "cell_type": "markdown",
   "metadata": {},
   "source": [
    "To create a `timezone` object, we use `timezone` function which accepts a `timedelta` which explains how to translate your time into UTC."
   ]
  },
  {
   "cell_type": "code",
   "execution_count": 17,
   "metadata": {},
   "outputs": [
    {
     "name": "stdout",
     "output_type": "stream",
     "text": [
      "<class 'datetime.timezone'>\n"
     ]
    }
   ],
   "source": [
    "print(type(offset_dc))"
   ]
  },
  {
   "cell_type": "markdown",
   "metadata": {},
   "source": [
    "If you pass this object to any `datetime` under the `tzinfo` argument, it will add the timezone information without changing the time itself, like above."
   ]
  },
  {
   "cell_type": "markdown",
   "metadata": {},
   "source": [
    "Now, let's also get the time in India and add a timezone info to compare it with UTC:"
   ]
  },
  {
   "cell_type": "code",
   "execution_count": 19,
   "metadata": {},
   "outputs": [
    {
     "name": "stdout",
     "output_type": "stream",
     "text": [
      "2020-11-25 09:28:45+05:30\n"
     ]
    }
   ],
   "source": [
    "# Store indian standard time with +5 hour 30 minute difference\n",
    "ist = timezone(timedelta(hours=5, minutes=30))\n",
    "india = datetime(2020, 11, 25, 9, 28, 45, tzinfo=ist)\n",
    "print(india)"
   ]
  },
  {
   "cell_type": "markdown",
   "metadata": {},
   "source": [
    "How about `london`? Even though we know it is in UTC time, we should indicate its timezone too:"
   ]
  },
  {
   "cell_type": "code",
   "execution_count": 22,
   "metadata": {
    "scrolled": true
   },
   "outputs": [
    {
     "name": "stdout",
     "output_type": "stream",
     "text": [
      "2020-11-25 04:28:45+00:00\n"
     ]
    }
   ],
   "source": [
    "lst = timezone(timedelta(hours=0))\n",
    "london = datetime(2020, 11, 25, 4, 28, 45, tzinfo=lst)\n",
    "print(london)"
   ]
  },
  {
   "cell_type": "markdown",
   "metadata": {},
   "source": [
    "Let's print out all three dates for comparison:"
   ]
  },
  {
   "cell_type": "code",
   "execution_count": 26,
   "metadata": {},
   "outputs": [
    {
     "name": "stdout",
     "output_type": "stream",
     "text": [
      "Time in Washington: 2020-11-24T20:28:45-08:00\n",
      "    Time in London: 2020-11-25T04:28:45+00:00\n",
      "   Time in Kolkata: 2020-11-25T09:28:45+05:30\n"
     ]
    }
   ],
   "source": [
    "print(f'Time in Washington: {washington.isoformat()}')\n",
    "print(f'Time in London:     {london.isoformat()}')\n",
    "print(f'Time in Kolkata:    {india.isoformat()}')"
   ]
  },
  {
   "cell_type": "markdown",
   "metadata": {},
   "source": [
    "You should keep in mind that `-8:00` or `+5:30` does not mean that you have to subtract 8 hours or add 5 hours and 30 minutes to get UTC. They just indicate the time difference so if you want to know UTC time from a timezone info, you would take the opposite of the timezone sign and add it to the time."
   ]
  },
  {
   "cell_type": "markdown",
   "metadata": {},
   "source": [
    "In the above examples, we had to know the UTC offsets beforehand to insert them into dates. But in practice, you may deal with thousands of locations and you can't possibly know all of their timezones. Besides, timezones always change as governments update their laws regarding time.\n",
    "\n",
    "Thankfully, the global timezone database IANA, records all historical and future changes to timezones and it is said the database gets updated every 3-4 months. This database is also used by programmers across many languages and you can get it for Python using `dateutil` (built-in) package:"
   ]
  },
  {
   "cell_type": "code",
   "execution_count": 28,
   "metadata": {},
   "outputs": [],
   "source": [
    "from dateutil import tz"
   ]
  },
  {
   "cell_type": "markdown",
   "metadata": {},
   "source": [
    "To create a timezone using the information provided in `tz`, we will use `gettz` function. It accepts a string in format of `Continent/Major_City`. For example, creating timezone for Washington DC:"
   ]
  },
  {
   "cell_type": "code",
   "execution_count": 33,
   "metadata": {},
   "outputs": [
    {
     "name": "stdout",
     "output_type": "stream",
     "text": [
      "2020-11-24 20:28:45-08:00\n"
     ]
    }
   ],
   "source": [
    "# Get the timezone for America/Vancouver\n",
    "dc_tz = tz.gettz('America/Vancouver')\n",
    "# Store time in washington without the time zone info\n",
    "washington = datetime(2020, 11, 24, 20, 28, 45)\n",
    "# Add the time zone\n",
    "dc_changed = washington.replace(tzinfo=dc_tz)\n",
    "print(dc_changed)"
   ]
  },
  {
   "cell_type": "markdown",
   "metadata": {},
   "source": [
    "To get "
   ]
  }
 ],
 "metadata": {
  "kernelspec": {
   "display_name": "medium_articles",
   "language": "python",
   "name": "medium_articles"
  },
  "language_info": {
   "codemirror_mode": {
    "name": "ipython",
    "version": 3
   },
   "file_extension": ".py",
   "mimetype": "text/x-python",
   "name": "python",
   "nbconvert_exporter": "python",
   "pygments_lexer": "ipython3",
   "version": "3.8.5"
  }
 },
 "nbformat": 4,
 "nbformat_minor": 4
}
