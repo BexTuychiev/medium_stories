{
 "cells": [
  {
   "cell_type": "markdown",
   "metadata": {},
   "source": [
    "# A New Package in Town: Missingno\n",
    "## Visualize missing values for deep insights\n",
    "<img src='images/puzzle.jpg'></img>\n",
    "<figcaption style=\"text-align: center;\">\n",
    "    <strong>\n",
    "        Photo by \n",
    "        <a href='https://pixabay.com/users/422737-422737/?utm_source=link-attribution&utm_medium=referral&utm_campaign=image&utm_content=654110'>Hebi B.</a>\n",
    "        on \n",
    "        <a href='https://pixabay.com/?utm_source=link-attribution&utm_medium=referral&utm_campaign=image&utm_content=654110'>Pixabay</a>\n",
    "    </strong>\n",
    "</figcaption>"
   ]
  },
  {
   "cell_type": "markdown",
   "metadata": {},
   "source": [
    "### Introduction <small id='intro'></small>"
   ]
  },
  {
   "cell_type": "markdown",
   "metadata": {},
   "source": [
    "Missing data is an unavoidable challenge in data science. Because it is so common, there are so many techniques, methods and packages to impute missing data. This can be both a blessing and a curse. While having a wide range of techniques and methods under your toolbelt may prepare you for any obstacle, choosing one specific solution to your unique case can be a real head-scratcher.\n",
    "\n",
    "But is it really true that each case is unique? Turns out, no. Regardless of the data, missingness can be grouped into these three categories: Missing Completely At Random (MCAR), Missing At Random (MAR) and Missing Not At Random (MNAR). \n",
    "\n",
    "These 3 categories have their own patterns and features. Finding out which one of them the missing values fall into can significantly narrow down the set of solutions you can apply to. There are big differences between each missingness type and blindly implementing a random solution may seriously compromise the next stages of your workflow. \n",
    "\n",
    "In the next sections, you will learn about the differences between each missingness category in detail with examples. Mainly, we will use a visual approach to find the patterns of missingness using `Missingno` package. "
   ]
  },
  {
   "cell_type": "markdown",
   "metadata": {},
   "source": [
    "### Setup <small id='setup'></small>"
   ]
  },
  {
   "cell_type": "code",
   "execution_count": 1,
   "metadata": {},
   "outputs": [],
   "source": [
    "# Scientific libraries\n",
    "import numpy as np\n",
    "import pandas as pd\n",
    "# Missingno to be imported later\n",
    "\n",
    "# Visual setup\n",
    "%config InlineBackend.figure_format = 'retina'"
   ]
  },
  {
   "cell_type": "markdown",
   "metadata": {},
   "source": [
    "I generated a fake dataset to show you examples of different missingness types:"
   ]
  },
  {
   "cell_type": "code",
   "execution_count": 2,
   "metadata": {
    "scrolled": true
   },
   "outputs": [
    {
     "data": {
      "text/html": [
       "<div>\n",
       "<style scoped>\n",
       "    .dataframe tbody tr th:only-of-type {\n",
       "        vertical-align: middle;\n",
       "    }\n",
       "\n",
       "    .dataframe tbody tr th {\n",
       "        vertical-align: top;\n",
       "    }\n",
       "\n",
       "    .dataframe thead th {\n",
       "        text-align: right;\n",
       "    }\n",
       "</style>\n",
       "<table border=\"1\" class=\"dataframe\">\n",
       "  <thead>\n",
       "    <tr style=\"text-align: right;\">\n",
       "      <th></th>\n",
       "      <th>first_name</th>\n",
       "      <th>last_name</th>\n",
       "      <th>age</th>\n",
       "      <th>favorite_os</th>\n",
       "      <th>IQ</th>\n",
       "    </tr>\n",
       "  </thead>\n",
       "  <tbody>\n",
       "    <tr>\n",
       "      <th>9571</th>\n",
       "      <td>Andrea</td>\n",
       "      <td>NaN</td>\n",
       "      <td>61</td>\n",
       "      <td>AndroidOS</td>\n",
       "      <td>113.0</td>\n",
       "    </tr>\n",
       "    <tr>\n",
       "      <th>6969</th>\n",
       "      <td>Daisy</td>\n",
       "      <td>Powell</td>\n",
       "      <td>61</td>\n",
       "      <td>AndroidOS</td>\n",
       "      <td>101.0</td>\n",
       "    </tr>\n",
       "    <tr>\n",
       "      <th>5941</th>\n",
       "      <td>Josie</td>\n",
       "      <td>Adams</td>\n",
       "      <td>65</td>\n",
       "      <td>AndroidOS</td>\n",
       "      <td>106.0</td>\n",
       "    </tr>\n",
       "    <tr>\n",
       "      <th>1516</th>\n",
       "      <td>Brooks</td>\n",
       "      <td>White</td>\n",
       "      <td>46</td>\n",
       "      <td>iOS</td>\n",
       "      <td>104.0</td>\n",
       "    </tr>\n",
       "    <tr>\n",
       "      <th>1761</th>\n",
       "      <td>Karter</td>\n",
       "      <td>Russel</td>\n",
       "      <td>49</td>\n",
       "      <td>iOS</td>\n",
       "      <td>107.0</td>\n",
       "    </tr>\n",
       "  </tbody>\n",
       "</table>\n",
       "</div>"
      ],
      "text/plain": [
       "     first_name last_name  age favorite_os     IQ\n",
       "9571     Andrea       NaN   61   AndroidOS  113.0\n",
       "6969      Daisy    Powell   61   AndroidOS  101.0\n",
       "5941      Josie     Adams   65   AndroidOS  106.0\n",
       "1516     Brooks     White   46         iOS  104.0\n",
       "1761     Karter    Russel   49         iOS  107.0"
      ]
     },
     "execution_count": 2,
     "metadata": {},
     "output_type": "execute_result"
    }
   ],
   "source": [
    "survey = pd.read_csv('data/missingness.csv')\n",
    "survey.sample(5)"
   ]
  },
  {
   "cell_type": "code",
   "execution_count": 3,
   "metadata": {},
   "outputs": [
    {
     "name": "stdout",
     "output_type": "stream",
     "text": [
      "<class 'pandas.core.frame.DataFrame'>\n",
      "RangeIndex: 10000 entries, 0 to 9999\n",
      "Data columns (total 5 columns):\n",
      " #   Column       Non-Null Count  Dtype  \n",
      "---  ------       --------------  -----  \n",
      " 0   first_name   9774 non-null   object \n",
      " 1   last_name    9770 non-null   object \n",
      " 2   age          10000 non-null  int64  \n",
      " 3   favorite_os  9309 non-null   object \n",
      " 4   IQ           9432 non-null   float64\n",
      "dtypes: float64(1), int64(1), object(3)\n",
      "memory usage: 390.8+ KB\n"
     ]
    }
   ],
   "source": [
    "survey.info()"
   ]
  },
  {
   "cell_type": "markdown",
   "metadata": {},
   "source": [
    "### Missingno Basics <small id='basics'></small>"
   ]
  },
  {
   "cell_type": "markdown",
   "metadata": {},
   "source": [
    "### Missingness Types: MCAR <small id='mcar'></small>"
   ]
  },
  {
   "cell_type": "markdown",
   "metadata": {},
   "source": [
    "### Missingness Types: MAR <small id='mar'></small>"
   ]
  },
  {
   "cell_type": "markdown",
   "metadata": {},
   "source": [
    "### Missingness Types: MNAR or NMAR <small id='mnar'></small>"
   ]
  },
  {
   "cell_type": "markdown",
   "metadata": {},
   "source": [
    "### Missingness Correlation Heatmaps <small id='heatmap'></small>"
   ]
  },
  {
   "cell_type": "code",
   "execution_count": null,
   "metadata": {},
   "outputs": [],
   "source": []
  }
 ],
 "metadata": {
  "kernelspec": {
   "display_name": "medium_articles",
   "language": "python",
   "name": "medium_articles"
  },
  "language_info": {
   "codemirror_mode": {
    "name": "ipython",
    "version": 3
   },
   "file_extension": ".py",
   "mimetype": "text/x-python",
   "name": "python",
   "nbconvert_exporter": "python",
   "pygments_lexer": "ipython3",
   "version": "3.8.5"
  }
 },
 "nbformat": 4,
 "nbformat_minor": 4
}
