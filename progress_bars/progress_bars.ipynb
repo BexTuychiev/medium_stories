{
 "cells": [
  {
   "cell_type": "markdown",
   "metadata": {},
   "source": [
    "# From Kagglers: Progress bars in Jupyter Notebooks\n",
    "## Sanity check for your loops\n",
    "<img src='images/progress_parts.jpg'></img>"
   ]
  },
  {
   "cell_type": "markdown",
   "metadata": {},
   "source": [
    "### Introduction"
   ]
  },
  {
   "cell_type": "markdown",
   "metadata": {},
   "source": [
    "### Installation"
   ]
  },
  {
   "cell_type": "markdown",
   "metadata": {},
   "source": [
    "Using `tqdm` is very simple for scripts. For Jupyter Notebooks or Jupyter Lab, there are some more additional steps required (thanks to the user, Sam Wilkinson):\n",
    "\n",
    "1. Installing `tqdm` (this step is enough for scripts):\n",
    "```\n",
    "pip install tqdm                    # pip\n",
    "conda install -c conda-forge tqdm   # conda\n",
    "```\n",
    "2. Follow on for Jupyter Notebook (Classic):\n",
    "```\n",
    "pip install ipywidgets\n",
    "jupyter nbextension enable --py widgetsnbextension\n",
    "```\n",
    "3. Follow on for Jupyter Lab (plus all the above steps):\n",
    "```\n",
    "jupyter labextension install @jupyter-widgets/jupyterlab-manager\n",
    "```"
   ]
  },
  {
   "cell_type": "markdown",
   "metadata": {},
   "source": [
    "If you want to know more about the difference between the classic Jupyter and JupyterLab, read [this](https://stackoverflow.com/questions/50982686/what-is-the-difference-between-jupyter-notebook-and-jupyterlab#:~:text=The%20current%20release%20of%20JupyterLab%20is%20suitable%20for%20general%20daily%20use.&text=JupyterLab%20will%20eventually%20replace%20the,has%20a%20extensible%20modular%20architecture.) StackOverflow thread."
   ]
  }
 ],
 "metadata": {
  "kernelspec": {
   "display_name": "medium_articles",
   "language": "python",
   "name": "medium_articles"
  },
  "language_info": {
   "codemirror_mode": {
    "name": "ipython",
    "version": 3
   },
   "file_extension": ".py",
   "mimetype": "text/x-python",
   "name": "python",
   "nbconvert_exporter": "python",
   "pygments_lexer": "ipython3",
   "version": "3.8.5"
  }
 },
 "nbformat": 4,
 "nbformat_minor": 4
}
