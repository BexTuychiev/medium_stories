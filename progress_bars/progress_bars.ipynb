{
 "cells": [
  {
   "cell_type": "markdown",
   "metadata": {},
   "source": [
    "# Progress bars in Jupyter Notebooks\n",
    "## Sanity check for your hours long loops (and a little visual style)\n",
    "<img src='images/progress_parts.jpg'></img>"
   ]
  },
  {
   "cell_type": "markdown",
   "metadata": {},
   "source": [
    "### Introduction"
   ]
  },
  {
   "cell_type": "markdown",
   "metadata": {},
   "source": [
    "> How you use your loops tells a lot about your programming skills. \n",
    "\n",
    "Loops can be deadly effective but sometimes take too long to run. Especially, as you work more with Big Data, you will have to deal with massive datasets and use loops to perform computations for each observation. \n",
    "\n",
    "Loops are not at all fun when you have to watch for the asterisk in your Jupyter Notebook for many minutes and sometimes hours. The worst part is when the loop has thousands of iterations, you don't know if the loop is working correctly or just stuck at some iteration because of some silly mistake in data. \n",
    "\n",
    "The good new is you can create progress bars for Jupyter Notebooks with `tqdm` library. The library is incredibly easy to use and it also gives a certain styling to ugly black and white notebooks. Besides, while in progress, you can also make the bar show which iteration the loop is working on. Nice, right? Here, watch it in action:"
   ]
  },
  {
   "cell_type": "markdown",
   "metadata": {},
   "source": [
    "### Installation"
   ]
  },
  {
   "cell_type": "markdown",
   "metadata": {},
   "source": [
    "Installing `tqdm` is very simple for scripts. For Jupyter Notebooks or Jupyter Lab, there are some more additional steps required (thanks to the user, Sam Wilkinson):\n",
    "\n",
    "1. Installing `tqdm` (this step is enough for scripts):\n",
    "```\n",
    "pip install tqdm                    # pip\n",
    "conda install -c conda-forge tqdm   # conda\n",
    "```\n",
    "2. Follow on for Jupyter Notebook (Classic):\n",
    "```\n",
    "pip install ipywidgets\n",
    "jupyter nbextension enable --py widgetsnbextension\n",
    "```\n",
    "3. Follow on for Jupyter Lab (plus all the above steps):\n",
    "```\n",
    "jupyter labextension install @jupyter-widgets/jupyterlab-manager\n",
    "```"
   ]
  },
  {
   "cell_type": "markdown",
   "metadata": {},
   "source": [
    "If you want to know more about the difference between the classic Jupyter and JupyterLab, read [this](https://stackoverflow.com/questions/50982686/what-is-the-difference-between-jupyter-notebook-and-jupyterlab#:~:text=The%20current%20release%20of%20JupyterLab%20is%20suitable%20for%20general%20daily%20use.&text=JupyterLab%20will%20eventually%20replace%20the,has%20a%20extensible%20modular%20architecture.) StackOverflow thread."
   ]
  },
  {
   "cell_type": "markdown",
   "metadata": {},
   "source": [
    "### Automatic Progress Bars"
   ]
  },
  {
   "cell_type": "markdown",
   "metadata": {},
   "source": [
    "After installation, the basic usage of the library is very simple. For notebooks, you can import the main module like this:"
   ]
  },
  {
   "cell_type": "code",
   "execution_count": null,
   "metadata": {},
   "outputs": [],
   "source": [
    "from tqdm.notebook import tqdm, trange\n",
    "import time"
   ]
  },
  {
   "cell_type": "markdown",
   "metadata": {},
   "source": [
    "`tqdm` sub-module offers all the flexibility and most of the functions of the module. `trange` is a shorthand function for creating progress bars using the `range()` function. Let's start with that:"
   ]
  },
  {
   "cell_type": "code",
   "execution_count": null,
   "metadata": {},
   "outputs": [],
   "source": [
    "# Simple loop\n",
    "for i in range(100):\n",
    "    pass\n",
    "\n",
    "# Loop with a progress bar\n",
    "for i in trange(100):\n",
    "    time.sleep(0.01)"
   ]
  },
  {
   "cell_type": "markdown",
   "metadata": {},
   "source": [
    "`trange` offers only that single functionality. For other types of iterables other than `range objects`, we will be using `tqdm`. Let's see the same progress bar using `tqdm`:"
   ]
  },
  {
   "cell_type": "code",
   "execution_count": null,
   "metadata": {},
   "outputs": [],
   "source": [
    "# Loop with a progres bar\n",
    "for i in tqdm(range(100)):\n",
    "    time.sleep(0.01)"
   ]
  },
  {
   "cell_type": "markdown",
   "metadata": {},
   "source": [
    "The general syntax is just like that. In your loop, just wrap the iterable inside the `tqdm()`. "
   ]
  },
  {
   "cell_type": "markdown",
   "metadata": {},
   "source": [
    "> Iterables are basically any object you can loop over such as a list, a generator object, etc."
   ]
  },
  {
   "cell_type": "markdown",
   "metadata": {},
   "source": [
    "### Nested for loops with progress bars"
   ]
  },
  {
   "cell_type": "markdown",
   "metadata": {},
   "source": [
    "Another really nice use case for the progress bars would be when using nested _for loops_. The syntax is the same for all levels of the loops. To distinguish the progress bars, we can use another parameter of `tqdm()` called `desc`. It will allow for us to name the bars:"
   ]
  },
  {
   "cell_type": "code",
   "execution_count": null,
   "metadata": {},
   "outputs": [],
   "source": [
    "outer_level = list(range(2))\n",
    "inner_level = list(range(100))\n",
    "for _ in tqdm(outer_level, desc='Outer Level'):\n",
    "    for number in tqdm(inner_level, desc='Inner Level'):\n",
    "        time.sleep(0.01)"
   ]
  },
  {
   "cell_type": "markdown",
   "metadata": {},
   "source": [
    "The number of progress bars in the output depends on the outer level iterable. So be mindful of that when you have a long iterable for the outer level. There will be as many inner level bars as the length of that iterable. "
   ]
  },
  {
   "cell_type": "markdown",
   "metadata": {},
   "source": [
    "### Manual control over progress bars"
   ]
  },
  {
   "cell_type": "markdown",
   "metadata": {},
   "source": [
    "Sometimes, you will deal with a very long loop and it will be hard to watch which member the loop is working on. `tqdm` provides a very useful alternative for this:"
   ]
  },
  {
   "cell_type": "code",
   "execution_count": null,
   "metadata": {},
   "outputs": [],
   "source": [
    "p_bar = tqdm(range(10))\n",
    "for number in p_bar:\n",
    "    time.sleep(0.5)\n",
    "    p_bar.set_description(f'Working on \"{number}\"')"
   ]
  },
  {
   "cell_type": "markdown",
   "metadata": {},
   "source": [
    "It is much better than using `print` statements that crowd out the output cells. In the above code, we first create the bar outside of the loop. Next, in the loop we use the bar after `in` and write the loop body. To indicate the member of the loop, we use `set_description()` method of the progress bar and pass the desired string."
   ]
  },
  {
   "cell_type": "code",
   "execution_count": 22,
   "metadata": {},
   "outputs": [
    {
     "data": {
      "application/vnd.jupyter.widget-view+json": {
       "model_id": "775c18e11372420fa568d5c3f79066a7",
       "version_major": 2,
       "version_minor": 0
      },
      "text/plain": [
       "HBox(children=(HTML(value='Loop'), FloatProgress(value=0.0, max=1000.0), HTML(value='')))"
      ]
     },
     "metadata": {},
     "output_type": "display_data"
    },
    {
     "name": "stdout",
     "output_type": "stream",
     "text": [
      "\n"
     ]
    },
    {
     "ename": "ValueError",
     "evalue": "",
     "output_type": "error",
     "traceback": [
      "\u001b[1;31m---------------------------------------------------------------------------\u001b[0m",
      "\u001b[1;31mValueError\u001b[0m                                Traceback (most recent call last)",
      "\u001b[1;32m<ipython-input-22-d4e1091030e4>\u001b[0m in \u001b[0;36m<module>\u001b[1;34m\u001b[0m\n\u001b[0;32m      1\u001b[0m \u001b[1;32mfor\u001b[0m \u001b[0m_\u001b[0m \u001b[1;32min\u001b[0m \u001b[0mtrange\u001b[0m\u001b[1;33m(\u001b[0m\u001b[1;36m1000\u001b[0m\u001b[1;33m,\u001b[0m \u001b[0mdesc\u001b[0m\u001b[1;33m=\u001b[0m\u001b[1;34m'Loop'\u001b[0m\u001b[1;33m)\u001b[0m\u001b[1;33m:\u001b[0m\u001b[1;33m\u001b[0m\u001b[1;33m\u001b[0m\u001b[0m\n\u001b[0;32m      2\u001b[0m     \u001b[1;32mif\u001b[0m \u001b[0m_\u001b[0m \u001b[1;33m==\u001b[0m \u001b[1;36m100\u001b[0m\u001b[1;33m:\u001b[0m\u001b[1;33m\u001b[0m\u001b[1;33m\u001b[0m\u001b[0m\n\u001b[1;32m----> 3\u001b[1;33m         \u001b[1;32mraise\u001b[0m \u001b[0mValueError\u001b[0m\u001b[1;33m\u001b[0m\u001b[1;33m\u001b[0m\u001b[0m\n\u001b[0m\u001b[0;32m      4\u001b[0m     \u001b[0mtime\u001b[0m\u001b[1;33m.\u001b[0m\u001b[0msleep\u001b[0m\u001b[1;33m(\u001b[0m\u001b[1;36m0.01\u001b[0m\u001b[1;33m)\u001b[0m\u001b[1;33m\u001b[0m\u001b[1;33m\u001b[0m\u001b[0m\n",
      "\u001b[1;31mValueError\u001b[0m: "
     ]
    }
   ],
   "source": [
    "for _ in trange(1000, desc='Loop'):\n",
    "    if _ == 100:\n",
    "        raise ValueError\n",
    "    time.sleep(0.01)"
   ]
  },
  {
   "cell_type": "code",
   "execution_count": null,
   "metadata": {},
   "outputs": [],
   "source": []
  },
  {
   "cell_type": "code",
   "execution_count": null,
   "metadata": {},
   "outputs": [],
   "source": []
  },
  {
   "cell_type": "code",
   "execution_count": null,
   "metadata": {},
   "outputs": [],
   "source": []
  },
  {
   "cell_type": "code",
   "execution_count": null,
   "metadata": {},
   "outputs": [],
   "source": []
  },
  {
   "cell_type": "code",
   "execution_count": null,
   "metadata": {},
   "outputs": [],
   "source": []
  },
  {
   "cell_type": "code",
   "execution_count": null,
   "metadata": {},
   "outputs": [],
   "source": []
  },
  {
   "cell_type": "code",
   "execution_count": null,
   "metadata": {},
   "outputs": [],
   "source": []
  },
  {
   "cell_type": "code",
   "execution_count": null,
   "metadata": {},
   "outputs": [],
   "source": []
  }
 ],
 "metadata": {
  "kernelspec": {
   "display_name": "medium_articles",
   "language": "python",
   "name": "medium_articles"
  },
  "language_info": {
   "codemirror_mode": {
    "name": "ipython",
    "version": 3
   },
   "file_extension": ".py",
   "mimetype": "text/x-python",
   "name": "python",
   "nbconvert_exporter": "python",
   "pygments_lexer": "ipython3",
   "version": "3.8.5"
  }
 },
 "nbformat": 4,
 "nbformat_minor": 4
}
