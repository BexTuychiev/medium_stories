{
 "cells": [
  {
   "cell_type": "markdown",
   "metadata": {},
   "source": [
    "# From Kagglers: Best Project Setup for DS and ML\n",
    "## A collection of best practices from top Kagglers for project success\n",
    "<img src='images/setup_image.jpg'></img>"
   ]
  },
  {
   "cell_type": "markdown",
   "metadata": {},
   "source": [
    "### Introduction <small id='intro'></small>\n",
    "Kaggle is a wonderful place. It is a gold mine of knowledge for data scientists and ML engineers. There are not many platforms where you can find high-quality, efficient, reproducible, awesome code all in the same place. \n",
    "\n",
    "Apart from its massive community, Kaggle is well-known for its largest-on-the-planet competitions. Since its launch, it has been a host to 164 competitions. "
   ]
  },
  {
   "cell_type": "markdown",
   "metadata": {},
   "source": [
    "### Overview\n",
    "1. [Introduction](#intro)\n",
    "2. [Setup itself](#setup)\n",
    "3. [Base libraries](#base)\n",
    "4. [Scientific libraries](#scientific)\n",
    "5. [Visual libraries](#visual1)\n",
    "6. [Helper libraries](#helper)\n",
    "7. [Visual display setup](#visual2)\n",
    "8. [Pandas options](#pandas)\n",
    "9. [Set random state](#random)"
   ]
  },
  {
   "cell_type": "markdown",
   "metadata": {},
   "source": [
    "### Setup itself"
   ]
  },
  {
   "cell_type": "markdown",
   "metadata": {},
   "source": [
    "You can find the setup itself directly in a single gist below. But I highly suggest you to read on to understand what each line is doing:"
   ]
  },
  {
   "cell_type": "code",
   "execution_count": 1,
   "metadata": {},
   "outputs": [],
   "source": [
    "# Base libraries\n",
    "import os\n",
    "import time\n",
    "import datetime\n",
    "import json\n",
    "\n",
    "# Scientific libraries\n",
    "import numpy as np\n",
    "import pandas as pd\n",
    "from sklearn import svm # or any other function\n",
    "\n",
    "# Visual libraries\n",
    "import matplotlib.pyplot as plt\n",
    "from matplotlib import rcParams\n",
    "import seaborn as sns\n",
    "# most definitely plotly\n",
    "\n",
    "# Helper libraries\n",
    "from tqdm.notebook import tqdm, trange\n",
    "from colorama import Fore, Back, Style\n",
    "import warnings\n",
    "warnings.filterwarnings('ignore')\n",
    "\n",
    "# Visual setup\n",
    "plt.style.use('fivethirtyeight')   # alternatives below\n",
    "rcParams['axes.spines.right'] = False\n",
    "rcParams['axes.spines.top'] = False\n",
    "plt.rc('xtick', labelsize=11)\n",
    "plt.rc('ytick', labelsize=11)\n",
    "custom_colors = ['#74a09e','#86c1b2','#98e2c6','#f3c969','#f2a553', '#d96548', '#c14953']\n",
    "sns.set_palette(custom_colors)\n",
    "%config InlineBackend.figure_format = 'retina'\n",
    "\n",
    "# Pandas options\n",
    "pd.set_option('max_colwidth', 40)\n",
    "pd.options.display.max_columns = None  # Possible to limit\n",
    "from IPython.core.interactiveshell import InteractiveShell\n",
    "InteractiveShell.ast_node_interactivity = 'all'\n",
    "\n",
    "# Seed value for numpy.random\n",
    "np.random.seed(42)"
   ]
  },
  {
   "cell_type": "markdown",
   "metadata": {},
   "source": [
    "### Base libraries <small id='base'></small>"
   ]
  },
  {
   "cell_type": "code",
   "execution_count": 11,
   "metadata": {},
   "outputs": [],
   "source": [
    "import os\n",
    "import time\n",
    "import datetime\n",
    "import json"
   ]
  },
  {
   "cell_type": "markdown",
   "metadata": {},
   "source": [
    "I think the first 4 libraries are understandable. `\n",
    "os` gives you full control over your system path regardless of the operating system. \n",
    "\n",
    "`time` and `datetime` contains every single function to work on dates and time. \n",
    "\n",
    "Also, sometimes you might have to work with JavaScript Object Notation files (`json`s) and the package `json` is the best in this aspect.\n",
    "\n",
    "Note that there is no need to import libraries like `math` or `random` if you import `numpy`."
   ]
  },
  {
   "cell_type": "markdown",
   "metadata": {},
   "source": [
    "### Scientific libraries <small id='scientific'></small>"
   ]
  },
  {
   "cell_type": "code",
   "execution_count": 2,
   "metadata": {},
   "outputs": [],
   "source": [
    "import numpy as np         # pip install numpy\n",
    "import pandas as pd        # pip install pandas\n",
    "from sklearn import svm    # pip install -U scikit-learn"
   ]
  },
  {
   "cell_type": "markdown",
   "metadata": {},
   "source": [
    "I think it is impossible to imagine not having `pandas` and `numpy` in any project. They are so fundamental that we could not have done without them. \n",
    "\n",
    "What I have observed in many Kaggle notebooks is that many people also import a range of `scikit-learn` functions too. It is also understandable since `scikit-learn` is the core library for predictive analysis. Regardless of the project size, you will probably find yourself turning to this library if you have any problems related to statistics or machine learning."
   ]
  },
  {
   "cell_type": "markdown",
   "metadata": {},
   "source": [
    "### Visual libraries <small id='visual1'></small>"
   ]
  },
  {
   "cell_type": "code",
   "execution_count": 3,
   "metadata": {},
   "outputs": [],
   "source": [
    "import matplotlib.pyplot as plt     # pip install matplotlib\n",
    "from matplotlib import rcParams     \n",
    "import seaborn as sns               # pip install seaborn"
   ]
  },
  {
   "cell_type": "markdown",
   "metadata": {},
   "source": [
    "If I wrote this article 3-4 years ago, the list would most likely only contain two libraries: `matplotlib` and `seaborn`. \n",
    "\n",
    "However, the landscape is changing. In all the notebooks I have researched for this article, more than 70-80% also import `plotly`. It is becoming increasingly common for many to use `plotly` as a main data visualization library. \n",
    "\n",
    "The definitive advantage of `plotly` is its ability to render interactive plots. Besides, the styling can easily compete with that of `seaborn`. Coming to its size, just like `matplotlib`, it can also draw 3D plots and all the other 2D plots, so pretty large. It requires much less syntax and avoids OOP interface which is sometimes disliked in `matplotlib`.\n",
    "\n",
    "Of course, it cannot replace the big two entirely yet, so I suggest using all three. The styling functions of `matplotlib` and `seaborn` still integrate much better with Jupyter Notebooks.\n",
    "\n",
    "I have seen that people write different import statements for `plotly`. I guess it is because of personal preference and different project needs. I suggest you to read its [documentation](https://plotly.com/python/) for the details."
   ]
  },
  {
   "cell_type": "markdown",
   "metadata": {},
   "source": [
    "### Helper libraries <small id='helper'></small>"
   ]
  },
  {
   "cell_type": "code",
   "execution_count": 4,
   "metadata": {},
   "outputs": [],
   "source": [
    "from tqdm.notebook import tqdm, trange      # pip install tqdm\n",
    "from colorama import Fore, Back, Style      # pip install colorama\n",
    "import warnings                             # built-in\n",
    "warnings.filterwarnings('ignore')"
   ]
  },
  {
   "cell_type": "markdown",
   "metadata": {},
   "source": [
    "Now, we are getting to the fun stuff. The first in our list of helper libraries is `tqdm`. It let's you create progress bars for your loops. As you get more serious, you will write loops which take longer and longer to run. So, for a sanity check I strongly recommend to use the `tqdm` library. The simple syntax is as follows:"
   ]
  },
  {
   "cell_type": "code",
   "execution_count": 2,
   "metadata": {},
   "outputs": [
    {
     "data": {
      "application/vnd.jupyter.widget-view+json": {
       "model_id": "1113e9a3af87466caf8c7cd7d5c1d148",
       "version_major": 2,
       "version_minor": 0
      },
      "text/plain": [
       "HBox(children=(HTML(value=''), FloatProgress(value=0.0, max=1000.0), HTML(value='')))"
      ]
     },
     "metadata": {},
     "output_type": "display_data"
    },
    {
     "name": "stdout",
     "output_type": "stream",
     "text": [
      "\n"
     ]
    }
   ],
   "source": [
    "# Simple loop without pbar\n",
    "for i in range(1000):\n",
    "    pass\n",
    "\n",
    "# A loop with pbar\n",
    "for i in tqdm(range(1000)):   # Wrap anything after `in` inside tqdm()\n",
    "    time.sleep(0.01)"
   ]
  },
  {
   "cell_type": "markdown",
   "metadata": {},
   "source": [
    "Installing and running `tqdm` for Jupyter Notebooks can be done in three steps:\n",
    "```\n",
    ">>> pip install tqdm\n",
    ">>> pip install ipywidgets\n",
    ">>> jupyter nbextension enable --py widgetsnbextension\n",
    "```"
   ]
  },
  {
   "cell_type": "markdown",
   "metadata": {},
   "source": [
    "Next very awesome library is `colorama`. Although progress bars were many common in Kaggle notebooks, I found out that very few users utilized this library. Its main purpose is to give your output texts color. For projects running miles of black and white notebooks, this library adds a certain style and novelty. Let me show you an example:"
   ]
  },
  {
   "cell_type": "code",
   "execution_count": 3,
   "metadata": {
    "scrolled": true
   },
   "outputs": [
    {
     "name": "stdout",
     "output_type": "stream",
     "text": [
      "\u001b[31mSome red text\n",
      "\u001b[40mWith a black background\n",
      "\u001b[1mWith bright style\n",
      "\u001b[0mBack to normal\n"
     ]
    }
   ],
   "source": [
    "# Most basic\n",
    "print(Fore.RED + 'Some red text')\n",
    "print(Back.BLACK + 'With a black background')\n",
    "print(Style.BRIGHT + 'With bright style')\n",
    "print(Style.RESET_ALL + 'Back to normal')"
   ]
  },
  {
   "cell_type": "markdown",
   "metadata": {},
   "source": [
    "In the beginning, we imported three sub-modules from `colorama`: `Fore` for controlling the font color, `Back` for background colors and `Style` for styling. "
   ]
  },
  {
   "cell_type": "code",
   "execution_count": 4,
   "metadata": {
    "scrolled": true
   },
   "outputs": [
    {
     "name": "stdout",
     "output_type": "stream",
     "text": [
      "\u001b[31m\u001b[1mHello\n"
     ]
    }
   ],
   "source": [
    "# Also possible to combine multiple stylings\n",
    "print(Fore.RED  + Style.BRIGHT + 'Hello')"
   ]
  },
  {
   "cell_type": "markdown",
   "metadata": {},
   "source": [
    "As you see, you can turn ugly looking notebooks into more readable and easy-on-the-eye documents. You can install it using `pip`:\n",
    "```\n",
    "pip install colorama\n",
    "```"
   ]
  },
  {
   "cell_type": "markdown",
   "metadata": {},
   "source": [
    "### Visual display setup <small id='visual2'></small>"
   ]
  },
  {
   "cell_type": "code",
   "execution_count": 5,
   "metadata": {},
   "outputs": [],
   "source": [
    "# Visual setup\n",
    "plt.style.use('fivethirtyeight')   # alternatives below\n",
    "rcParams['axes.spines.right'] = False\n",
    "rcParams['axes.spines.top'] = False\n",
    "plt.rc('xtick', labelsize=11)\n",
    "plt.rc('ytick', labelsize=11)\n",
    "custom_colors = ['#74a09e','#86c1b2','#98e2c6','#f3c969','#f2a553', '#d96548', '#c14953']\n",
    "sns.set_palette(custom_colors)\n",
    "%config InlineBackend.figure_format = 'retina'"
   ]
  },
  {
   "cell_type": "markdown",
   "metadata": {},
   "source": [
    "This section is all about controlling the style of plots globally. First, we set the global style. My favorite and also, I think on Kaggle too, is `fivethirtyeight` of `matplotlib`. Other popular ones are `seaborn`'s `darkgrid` or `whitegrid` and `matplotlib`'s `ggplot`.\n",
    "\n",
    "Then, for better clarity and to reduce the chart junk we disable right and top spines of plots. Sometimes, it would be enough to just keep the bottom one. It depends on the plot, you can learn more about it in one my articles of styling plots [here](https://towardsdatascience.com/deep-guide-into-styling-plots-delivering-effective-visuals-12e40107b380?source=your_stories_page-------------------------------------). It is also a good idea to scale up the axis ticks. You can customize the parameters according to where you eventually display your plots.\n",
    "\n",
    "For colors, I chose a nice custom palette. There are some very good ones in `seaborn` but it is just personal preference. Those color codes create this palette. You can use `sns.palplot()` to create these nice looking _palette plots_:"
   ]
  },
  {
   "cell_type": "code",
   "execution_count": 6,
   "metadata": {},
   "outputs": [
    {
     "data": {
      "image/png": "[encoded data removed]",
      "text/plain": [
       "<Figure size 504x72 with 1 Axes>"
      ]
     },
     "metadata": {
      "image/png": {
       "height": 72,
       "width": 452
      }
     },
     "output_type": "display_data"
    }
   ],
   "source": [
    "sns.palplot(sns.color_palette())   # color_palette() gives the current palette by default"
   ]
  },
  {
   "cell_type": "markdown",
   "metadata": {},
   "source": [
    "Lastly, I am using a little tweak to make the images render with more clarity. The difference is not noticeable in notebooks, but when you show the plots in other places like Medium, the distinction is very clear:"
   ]
  },
  {
   "cell_type": "code",
   "execution_count": 7,
   "metadata": {},
   "outputs": [],
   "source": [
    "%config InlineBackend.figure_format = 'retina'"
   ]
  },
  {
   "cell_type": "markdown",
   "metadata": {},
   "source": [
    "### Pandas options <small id='pandas'></small>"
   ]
  },
  {
   "cell_type": "code",
   "execution_count": 8,
   "metadata": {},
   "outputs": [],
   "source": [
    "# Pandas options\n",
    "pd.set_option('max_colwidth', 40)\n",
    "pd.options.display.max_columns = None  # Possible to limit by providing a number\n",
    "from IPython.core.interactiveshell import InteractiveShell\n",
    "InteractiveShell.ast_node_interactivity = 'all'"
   ]
  },
  {
   "cell_type": "markdown",
   "metadata": {},
   "source": [
    "There are so many options you can control with `pd.set_option()`. I have used the most useful ones:\n",
    "1. First line is to control the width of columns. `pandas` automatically clips columns with long texts and adds ellipsis. Second parameter in the second line controls that behavior.\n",
    "2. The second is also similar. I have seen Kaggle users turn off the max column limit because they often deal with massive datasets and don't need their dataframes truncated with annoying ellipsis in the middle. \n",
    "Also, you can enable Jupyter cells to run multiple commands in a single cell. If you want to print multiple dataframes with from the same cell, you have to add print statements around each of them. But this feature enabled, you won't have to:"
   ]
  },
  {
   "cell_type": "code",
   "execution_count": 9,
   "metadata": {},
   "outputs": [
    {
     "data": {
      "text/html": [
       "<div>\n",
       "<style scoped>\n",
       "    .dataframe tbody tr th:only-of-type {\n",
       "        vertical-align: middle;\n",
       "    }\n",
       "\n",
       "    .dataframe tbody tr th {\n",
       "        vertical-align: top;\n",
       "    }\n",
       "\n",
       "    .dataframe thead th {\n",
       "        text-align: right;\n",
       "    }\n",
       "</style>\n",
       "<table border=\"1\" class=\"dataframe\">\n",
       "  <thead>\n",
       "    <tr style=\"text-align: right;\">\n",
       "      <th></th>\n",
       "      <th>total_bill</th>\n",
       "      <th>tip</th>\n",
       "      <th>sex</th>\n",
       "      <th>smoker</th>\n",
       "      <th>day</th>\n",
       "      <th>time</th>\n",
       "      <th>size</th>\n",
       "    </tr>\n",
       "  </thead>\n",
       "  <tbody>\n",
       "    <tr>\n",
       "      <th>0</th>\n",
       "      <td>16.99</td>\n",
       "      <td>1.01</td>\n",
       "      <td>Female</td>\n",
       "      <td>No</td>\n",
       "      <td>Sun</td>\n",
       "      <td>Dinner</td>\n",
       "      <td>2</td>\n",
       "    </tr>\n",
       "    <tr>\n",
       "      <th>1</th>\n",
       "      <td>10.34</td>\n",
       "      <td>1.66</td>\n",
       "      <td>Male</td>\n",
       "      <td>No</td>\n",
       "      <td>Sun</td>\n",
       "      <td>Dinner</td>\n",
       "      <td>3</td>\n",
       "    </tr>\n",
       "    <tr>\n",
       "      <th>2</th>\n",
       "      <td>21.01</td>\n",
       "      <td>3.50</td>\n",
       "      <td>Male</td>\n",
       "      <td>No</td>\n",
       "      <td>Sun</td>\n",
       "      <td>Dinner</td>\n",
       "      <td>3</td>\n",
       "    </tr>\n",
       "    <tr>\n",
       "      <th>3</th>\n",
       "      <td>23.68</td>\n",
       "      <td>3.31</td>\n",
       "      <td>Male</td>\n",
       "      <td>No</td>\n",
       "      <td>Sun</td>\n",
       "      <td>Dinner</td>\n",
       "      <td>2</td>\n",
       "    </tr>\n",
       "    <tr>\n",
       "      <th>4</th>\n",
       "      <td>24.59</td>\n",
       "      <td>3.61</td>\n",
       "      <td>Female</td>\n",
       "      <td>No</td>\n",
       "      <td>Sun</td>\n",
       "      <td>Dinner</td>\n",
       "      <td>4</td>\n",
       "    </tr>\n",
       "  </tbody>\n",
       "</table>\n",
       "</div>"
      ],
      "text/plain": [
       "   total_bill   tip     sex smoker  day    time  size\n",
       "0       16.99  1.01  Female     No  Sun  Dinner     2\n",
       "1       10.34  1.66    Male     No  Sun  Dinner     3\n",
       "2       21.01  3.50    Male     No  Sun  Dinner     3\n",
       "3       23.68  3.31    Male     No  Sun  Dinner     2\n",
       "4       24.59  3.61  Female     No  Sun  Dinner     4"
      ]
     },
     "execution_count": 9,
     "metadata": {},
     "output_type": "execute_result"
    },
    {
     "name": "stdout",
     "output_type": "stream",
     "text": [
      "<class 'pandas.core.frame.DataFrame'>\n",
      "RangeIndex: 244 entries, 0 to 243\n",
      "Data columns (total 7 columns):\n",
      " #   Column      Non-Null Count  Dtype   \n",
      "---  ------      --------------  -----   \n",
      " 0   total_bill  244 non-null    float64 \n",
      " 1   tip         244 non-null    float64 \n",
      " 2   sex         244 non-null    category\n",
      " 3   smoker      244 non-null    category\n",
      " 4   day         244 non-null    category\n",
      " 5   time        244 non-null    category\n",
      " 6   size        244 non-null    int64   \n",
      "dtypes: category(4), float64(2), int64(1)\n",
      "memory usage: 7.3 KB\n"
     ]
    },
    {
     "data": {
      "text/html": [
       "<div>\n",
       "<style scoped>\n",
       "    .dataframe tbody tr th:only-of-type {\n",
       "        vertical-align: middle;\n",
       "    }\n",
       "\n",
       "    .dataframe tbody tr th {\n",
       "        vertical-align: top;\n",
       "    }\n",
       "\n",
       "    .dataframe thead th {\n",
       "        text-align: right;\n",
       "    }\n",
       "</style>\n",
       "<table border=\"1\" class=\"dataframe\">\n",
       "  <thead>\n",
       "    <tr style=\"text-align: right;\">\n",
       "      <th></th>\n",
       "      <th>total_bill</th>\n",
       "      <th>tip</th>\n",
       "      <th>sex</th>\n",
       "      <th>smoker</th>\n",
       "      <th>day</th>\n",
       "      <th>time</th>\n",
       "      <th>size</th>\n",
       "    </tr>\n",
       "  </thead>\n",
       "  <tbody>\n",
       "    <tr>\n",
       "      <th>239</th>\n",
       "      <td>29.03</td>\n",
       "      <td>5.92</td>\n",
       "      <td>Male</td>\n",
       "      <td>No</td>\n",
       "      <td>Sat</td>\n",
       "      <td>Dinner</td>\n",
       "      <td>3</td>\n",
       "    </tr>\n",
       "    <tr>\n",
       "      <th>240</th>\n",
       "      <td>27.18</td>\n",
       "      <td>2.00</td>\n",
       "      <td>Female</td>\n",
       "      <td>Yes</td>\n",
       "      <td>Sat</td>\n",
       "      <td>Dinner</td>\n",
       "      <td>2</td>\n",
       "    </tr>\n",
       "    <tr>\n",
       "      <th>241</th>\n",
       "      <td>22.67</td>\n",
       "      <td>2.00</td>\n",
       "      <td>Male</td>\n",
       "      <td>Yes</td>\n",
       "      <td>Sat</td>\n",
       "      <td>Dinner</td>\n",
       "      <td>2</td>\n",
       "    </tr>\n",
       "    <tr>\n",
       "      <th>242</th>\n",
       "      <td>17.82</td>\n",
       "      <td>1.75</td>\n",
       "      <td>Male</td>\n",
       "      <td>No</td>\n",
       "      <td>Sat</td>\n",
       "      <td>Dinner</td>\n",
       "      <td>2</td>\n",
       "    </tr>\n",
       "    <tr>\n",
       "      <th>243</th>\n",
       "      <td>18.78</td>\n",
       "      <td>3.00</td>\n",
       "      <td>Female</td>\n",
       "      <td>No</td>\n",
       "      <td>Thur</td>\n",
       "      <td>Dinner</td>\n",
       "      <td>2</td>\n",
       "    </tr>\n",
       "  </tbody>\n",
       "</table>\n",
       "</div>"
      ],
      "text/plain": [
       "     total_bill   tip     sex smoker   day    time  size\n",
       "239       29.03  5.92    Male     No   Sat  Dinner     3\n",
       "240       27.18  2.00  Female    Yes   Sat  Dinner     2\n",
       "241       22.67  2.00    Male    Yes   Sat  Dinner     2\n",
       "242       17.82  1.75    Male     No   Sat  Dinner     2\n",
       "243       18.78  3.00  Female     No  Thur  Dinner     2"
      ]
     },
     "execution_count": 9,
     "metadata": {},
     "output_type": "execute_result"
    }
   ],
   "source": [
    "tips = sns.load_dataset('tips')\n",
    "tips.head()\n",
    "tips.info()\n",
    "tips.tail()"
   ]
  },
  {
   "cell_type": "markdown",
   "metadata": {},
   "source": [
    "### Set the random state <small id='random'></small>"
   ]
  },
  {
   "cell_type": "code",
   "execution_count": 10,
   "metadata": {},
   "outputs": [],
   "source": [
    "np.random.seed(42)"
   ]
  },
  {
   "cell_type": "markdown",
   "metadata": {},
   "source": [
    "You will have to control the randomness you want to produce similar results in multiple runs. I don't know why but people seem to prefer to pass 42 to the `seed`. "
   ]
  },
  {
   "cell_type": "markdown",
   "metadata": {},
   "source": [
    "### Wrap Up\n",
    "Regardless of your project size and its purpose, the methods I talked here should benefit you greatly. I suggest you spend some time practicing and learning more about the libraries and methods. After all, it is the little things that separate great data scientist from the rest."
   ]
  }
 ],
 "metadata": {
  "kernelspec": {
   "display_name": "medium_articles",
   "language": "python",
   "name": "medium_articles"
  },
  "language_info": {
   "codemirror_mode": {
    "name": "ipython",
    "version": 3
   },
   "file_extension": ".py",
   "mimetype": "text/x-python",
   "name": "python",
   "nbconvert_exporter": "python",
   "pygments_lexer": "ipython3",
   "version": "3.8.5"
  }
 },
 "nbformat": 4,
 "nbformat_minor": 4
}
