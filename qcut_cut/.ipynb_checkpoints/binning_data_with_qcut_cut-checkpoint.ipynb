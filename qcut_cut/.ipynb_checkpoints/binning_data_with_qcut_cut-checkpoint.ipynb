{
 "cells": [
  {
   "cell_type": "markdown",
   "metadata": {},
   "source": [
    "# How do I customarily bin data with Pandas\n",
    "## Master the when and how of `qcut()` and `cut()`\n",
    "<img src='images/bin.jpg'></img>\n",
    "<figcaption style=\"text-align: center;\">\n",
    "    <strong>\n",
    "        Photo by \n",
    "        <a href='https://unsplash.com/@steve_j?utm_source=medium&utm_medium=referral'>Steve Johnson</a>\n",
    "        on \n",
    "        <a href='https://unsplash.com/?utm_source=medium&utm_medium=referral'>Unsplash</a>\n",
    "    </strong>\n",
    "</figcaption>"
   ]
  },
  {
   "cell_type": "markdown",
   "metadata": {},
   "source": [
    "### Introduction"
   ]
  },
  {
   "cell_type": "markdown",
   "metadata": {},
   "source": [
    "### Setup"
   ]
  },
  {
   "cell_type": "code",
   "execution_count": 10,
   "metadata": {},
   "outputs": [],
   "source": [
    "# Load necessary libraries\n",
    "import pandas as pd\n",
    "import matplotlib.pyplot as plt\n",
    "import seaborn as sns\n",
    "import numpy as np\n",
    "\n",
    "# Plotting pretty figures and avoid blurry images\n",
    "%config InlineBackend.figure_format = 'retina'\n",
    "# Larger scale for plots in notebooks\n",
    "sns.set_context('notebook')\n",
    "\n",
    "# Ignore warnings\n",
    "import warnings\n",
    "warnings.filterwarnings('ignore')\n",
    "\n",
    "# Enable multiple cell outputs\n",
    "from IPython.core.interactiveshell import InteractiveShell\n",
    "InteractiveShell.ast_node_interactivity = 'all'"
   ]
  },
  {
   "cell_type": "markdown",
   "metadata": {},
   "source": [
    "For the sample data, I will be using a built-in `planets` dataset of `seaborn`:"
   ]
  },
  {
   "cell_type": "code",
   "execution_count": 2,
   "metadata": {},
   "outputs": [
    {
     "data": {
      "text/html": [
       "<div>\n",
       "<style scoped>\n",
       "    .dataframe tbody tr th:only-of-type {\n",
       "        vertical-align: middle;\n",
       "    }\n",
       "\n",
       "    .dataframe tbody tr th {\n",
       "        vertical-align: top;\n",
       "    }\n",
       "\n",
       "    .dataframe thead th {\n",
       "        text-align: right;\n",
       "    }\n",
       "</style>\n",
       "<table border=\"1\" class=\"dataframe\">\n",
       "  <thead>\n",
       "    <tr style=\"text-align: right;\">\n",
       "      <th></th>\n",
       "      <th>method</th>\n",
       "      <th>orbital_period</th>\n",
       "      <th>mass</th>\n",
       "      <th>distance</th>\n",
       "    </tr>\n",
       "  </thead>\n",
       "  <tbody>\n",
       "    <tr>\n",
       "      <th>0</th>\n",
       "      <td>Radial Velocity</td>\n",
       "      <td>269.300</td>\n",
       "      <td>7.10</td>\n",
       "      <td>77.40</td>\n",
       "    </tr>\n",
       "    <tr>\n",
       "      <th>1</th>\n",
       "      <td>Radial Velocity</td>\n",
       "      <td>874.774</td>\n",
       "      <td>2.21</td>\n",
       "      <td>56.95</td>\n",
       "    </tr>\n",
       "    <tr>\n",
       "      <th>2</th>\n",
       "      <td>Radial Velocity</td>\n",
       "      <td>763.000</td>\n",
       "      <td>2.60</td>\n",
       "      <td>19.84</td>\n",
       "    </tr>\n",
       "    <tr>\n",
       "      <th>3</th>\n",
       "      <td>Radial Velocity</td>\n",
       "      <td>326.030</td>\n",
       "      <td>19.40</td>\n",
       "      <td>110.62</td>\n",
       "    </tr>\n",
       "    <tr>\n",
       "      <th>4</th>\n",
       "      <td>Radial Velocity</td>\n",
       "      <td>516.220</td>\n",
       "      <td>10.50</td>\n",
       "      <td>119.47</td>\n",
       "    </tr>\n",
       "  </tbody>\n",
       "</table>\n",
       "</div>"
      ],
      "text/plain": [
       "            method  orbital_period   mass  distance\n",
       "0  Radial Velocity         269.300   7.10     77.40\n",
       "1  Radial Velocity         874.774   2.21     56.95\n",
       "2  Radial Velocity         763.000   2.60     19.84\n",
       "3  Radial Velocity         326.030  19.40    110.62\n",
       "4  Radial Velocity         516.220  10.50    119.47"
      ]
     },
     "execution_count": 2,
     "metadata": {},
     "output_type": "execute_result"
    }
   ],
   "source": [
    "# Load sample data\n",
    "planets = sns.load_dataset(\n",
    "    'planets', usecols=['method', 'orbital_period', 'mass',\n",
    "                        'distance']).dropna()\n",
    "planets.head()"
   ]
  },
  {
   "cell_type": "code",
   "execution_count": 3,
   "metadata": {},
   "outputs": [
    {
     "data": {
      "text/html": [
       "<div>\n",
       "<style scoped>\n",
       "    .dataframe tbody tr th:only-of-type {\n",
       "        vertical-align: middle;\n",
       "    }\n",
       "\n",
       "    .dataframe tbody tr th {\n",
       "        vertical-align: top;\n",
       "    }\n",
       "\n",
       "    .dataframe thead th {\n",
       "        text-align: right;\n",
       "    }\n",
       "</style>\n",
       "<table border=\"1\" class=\"dataframe\">\n",
       "  <thead>\n",
       "    <tr style=\"text-align: right;\">\n",
       "      <th></th>\n",
       "      <th>orbital_period</th>\n",
       "      <th>mass</th>\n",
       "      <th>distance</th>\n",
       "    </tr>\n",
       "  </thead>\n",
       "  <tbody>\n",
       "    <tr>\n",
       "      <th>count</th>\n",
       "      <td>498.000000</td>\n",
       "      <td>498.000000</td>\n",
       "      <td>498.000000</td>\n",
       "    </tr>\n",
       "    <tr>\n",
       "      <th>mean</th>\n",
       "      <td>835.778671</td>\n",
       "      <td>2.509320</td>\n",
       "      <td>52.068213</td>\n",
       "    </tr>\n",
       "    <tr>\n",
       "      <th>std</th>\n",
       "      <td>1469.128259</td>\n",
       "      <td>3.636274</td>\n",
       "      <td>46.596041</td>\n",
       "    </tr>\n",
       "    <tr>\n",
       "      <th>min</th>\n",
       "      <td>1.328300</td>\n",
       "      <td>0.003600</td>\n",
       "      <td>1.350000</td>\n",
       "    </tr>\n",
       "    <tr>\n",
       "      <th>25%</th>\n",
       "      <td>38.272250</td>\n",
       "      <td>0.212500</td>\n",
       "      <td>24.497500</td>\n",
       "    </tr>\n",
       "    <tr>\n",
       "      <th>50%</th>\n",
       "      <td>357.000000</td>\n",
       "      <td>1.245000</td>\n",
       "      <td>39.940000</td>\n",
       "    </tr>\n",
       "    <tr>\n",
       "      <th>75%</th>\n",
       "      <td>999.600000</td>\n",
       "      <td>2.867500</td>\n",
       "      <td>59.332500</td>\n",
       "    </tr>\n",
       "    <tr>\n",
       "      <th>max</th>\n",
       "      <td>17337.500000</td>\n",
       "      <td>25.000000</td>\n",
       "      <td>354.000000</td>\n",
       "    </tr>\n",
       "  </tbody>\n",
       "</table>\n",
       "</div>"
      ],
      "text/plain": [
       "       orbital_period        mass    distance\n",
       "count      498.000000  498.000000  498.000000\n",
       "mean       835.778671    2.509320   52.068213\n",
       "std       1469.128259    3.636274   46.596041\n",
       "min          1.328300    0.003600    1.350000\n",
       "25%         38.272250    0.212500   24.497500\n",
       "50%        357.000000    1.245000   39.940000\n",
       "75%        999.600000    2.867500   59.332500\n",
       "max      17337.500000   25.000000  354.000000"
      ]
     },
     "execution_count": 3,
     "metadata": {},
     "output_type": "execute_result"
    }
   ],
   "source": [
    "planets.describe()"
   ]
  },
  {
   "cell_type": "code",
   "execution_count": 4,
   "metadata": {},
   "outputs": [
    {
     "name": "stdout",
     "output_type": "stream",
     "text": [
      "<class 'pandas.core.frame.DataFrame'>\n",
      "Int64Index: 498 entries, 0 to 784\n",
      "Data columns (total 4 columns):\n",
      " #   Column          Non-Null Count  Dtype  \n",
      "---  ------          --------------  -----  \n",
      " 0   method          498 non-null    object \n",
      " 1   orbital_period  498 non-null    float64\n",
      " 2   mass            498 non-null    float64\n",
      " 3   distance        498 non-null    float64\n",
      "dtypes: float64(3), object(1)\n",
      "memory usage: 19.5+ KB\n"
     ]
    }
   ],
   "source": [
    "planets.info()"
   ]
  },
  {
   "cell_type": "code",
   "execution_count": 5,
   "metadata": {
    "scrolled": true
   },
   "outputs": [
    {
     "data": {
      "text/plain": [
       "array(['Radial Velocity', 'Transit'], dtype=object)"
      ]
     },
     "execution_count": 5,
     "metadata": {},
     "output_type": "execute_result"
    }
   ],
   "source": [
    "planets['method'].unique()"
   ]
  },
  {
   "cell_type": "markdown",
   "metadata": {},
   "source": [
    "`planets` dataset was downloaded from [the Exoplanet Catalog](https://exoplanets.nasa.gov/exoplanet-catalog) of NASA and contains data about planets outside of our solar system. The three columns that are of interest are `orbital_period`, `mass` and `distance`:\n",
    "1. `mass` - how many times the planet is heavier than Jupyter\n",
    "2. `distance` - how many light years the planet is away from Earth\n",
    "3. `orbital_period` - how many Earth days it takes for the planet to fully orbit its star"
   ]
  },
  {
   "cell_type": "markdown",
   "metadata": {},
   "source": [
    "### Pandas `qcut()`"
   ]
  },
  {
   "cell_type": "markdown",
   "metadata": {},
   "source": [
    "To understand how `qcut()` works, let's start with histograms:"
   ]
  },
  {
   "cell_type": "code",
   "execution_count": 11,
   "metadata": {},
   "outputs": [
    {
     "data": {
      "image/png": "[encoded data removed]",
      "text/plain": [
       "<Figure size 432x288 with 1 Axes>"
      ]
     },
     "metadata": {
      "image/png": {
       "height": 267,
       "width": 395
      },
      "needs_background": "light"
     },
     "output_type": "display_data"
    }
   ],
   "source": [
    "sns.histplot(planets['mass'])"
   ]
  },
  {
   "cell_type": "markdown",
   "metadata": {},
   "source": [
    "Histograms automatically divide an array or list of numbers into several bins, each containing different number of observations. In `seaborn`, it is possible to control the number of bins:"
   ]
  },
  {
   "cell_type": "code",
   "execution_count": 16,
   "metadata": {},
   "outputs": [
    {
     "data": {
      "image/png": "[encoded data removed]",
      "text/plain": [
       "<Figure size 432x288 with 1 Axes>"
      ]
     },
     "metadata": {
      "image/png": {
       "height": 267,
       "width": 395
      },
      "needs_background": "light"
     },
     "output_type": "display_data"
    }
   ],
   "source": [
    "sns.histplot(planets['mass'], bins=10)"
   ]
  },
  {
   "cell_type": "markdown",
   "metadata": {},
   "source": [
    "Histograms are the first examples of binning data you might have seen. Here is another example by using the `describe()` function of `pandas`:"
   ]
  },
  {
   "cell_type": "code",
   "execution_count": 17,
   "metadata": {},
   "outputs": [
    {
     "data": {
      "text/plain": [
       "count    498.000000\n",
       "mean      52.068213\n",
       "std       46.596041\n",
       "min        1.350000\n",
       "25%       24.497500\n",
       "50%       39.940000\n",
       "75%       59.332500\n",
       "max      354.000000\n",
       "Name: distance, dtype: float64"
      ]
     },
     "execution_count": 17,
     "metadata": {},
     "output_type": "execute_result"
    }
   ],
   "source": [
    "planets['distance'].describe()"
   ]
  },
  {
   "cell_type": "markdown",
   "metadata": {},
   "source": [
    "By default, `describe()` divides the numerical columns into 4 buckets (bins) - (min, 25th), (25th, median), (median, 75th), (75th, max) and display the bin edges. You can also pass custom percentiles for the function:"
   ]
  },
  {
   "cell_type": "code",
   "execution_count": 20,
   "metadata": {
    "scrolled": false
   },
   "outputs": [
    {
     "data": {
      "text/html": [
       "<div>\n",
       "<style scoped>\n",
       "    .dataframe tbody tr th:only-of-type {\n",
       "        vertical-align: middle;\n",
       "    }\n",
       "\n",
       "    .dataframe tbody tr th {\n",
       "        vertical-align: top;\n",
       "    }\n",
       "\n",
       "    .dataframe thead th {\n",
       "        text-align: right;\n",
       "    }\n",
       "</style>\n",
       "<table border=\"1\" class=\"dataframe\">\n",
       "  <thead>\n",
       "    <tr style=\"text-align: right;\">\n",
       "      <th></th>\n",
       "      <th>index</th>\n",
       "      <th>orbital_period</th>\n",
       "    </tr>\n",
       "  </thead>\n",
       "  <tbody>\n",
       "    <tr>\n",
       "      <th>0</th>\n",
       "      <td>count</td>\n",
       "      <td>498.000000</td>\n",
       "    </tr>\n",
       "    <tr>\n",
       "      <th>1</th>\n",
       "      <td>mean</td>\n",
       "      <td>835.778671</td>\n",
       "    </tr>\n",
       "    <tr>\n",
       "      <th>2</th>\n",
       "      <td>std</td>\n",
       "      <td>1469.128259</td>\n",
       "    </tr>\n",
       "    <tr>\n",
       "      <th>3</th>\n",
       "      <td>min</td>\n",
       "      <td>1.328300</td>\n",
       "    </tr>\n",
       "    <tr>\n",
       "      <th>4</th>\n",
       "      <td>0%</td>\n",
       "      <td>1.328300</td>\n",
       "    </tr>\n",
       "    <tr>\n",
       "      <th>5</th>\n",
       "      <td>20%</td>\n",
       "      <td>19.802000</td>\n",
       "    </tr>\n",
       "    <tr>\n",
       "      <th>6</th>\n",
       "      <td>40%</td>\n",
       "      <td>191.372000</td>\n",
       "    </tr>\n",
       "    <tr>\n",
       "      <th>7</th>\n",
       "      <td>50%</td>\n",
       "      <td>357.000000</td>\n",
       "    </tr>\n",
       "    <tr>\n",
       "      <th>8</th>\n",
       "      <td>60%</td>\n",
       "      <td>507.819600</td>\n",
       "    </tr>\n",
       "    <tr>\n",
       "      <th>9</th>\n",
       "      <td>80%</td>\n",
       "      <td>1253.600000</td>\n",
       "    </tr>\n",
       "    <tr>\n",
       "      <th>10</th>\n",
       "      <td>100%</td>\n",
       "      <td>17337.500000</td>\n",
       "    </tr>\n",
       "    <tr>\n",
       "      <th>11</th>\n",
       "      <td>max</td>\n",
       "      <td>17337.500000</td>\n",
       "    </tr>\n",
       "  </tbody>\n",
       "</table>\n",
       "</div>"
      ],
      "text/plain": [
       "    index  orbital_period\n",
       "0   count      498.000000\n",
       "1    mean      835.778671\n",
       "2     std     1469.128259\n",
       "3     min        1.328300\n",
       "4      0%        1.328300\n",
       "5     20%       19.802000\n",
       "6     40%      191.372000\n",
       "7     50%      357.000000\n",
       "8     60%      507.819600\n",
       "9     80%     1253.600000\n",
       "10   100%    17337.500000\n",
       "11    max    17337.500000"
      ]
     },
     "execution_count": 20,
     "metadata": {},
     "output_type": "execute_result"
    }
   ],
   "source": [
    "planets['orbital_period'].describe(\n",
    "    percentiles=[0, 1 / 5, 2 / 5, 3 / 5, 4 / 5, 1]).reset_index()"
   ]
  },
  {
   "cell_type": "markdown",
   "metadata": {},
   "source": [
    "Those are all examples of binning data. But if you noticed, in all the above examples, we could not really control the bins. We just chose the number of bins and that's it. Besides, you cannot really take those bins out of the context of their specific functions. \n",
    "\n",
    "Now here is a question: How can you store the bin that each observation belongs to in a new column or to perform some operations for later? That is where `qcut()` and `cut()` comes in. \n",
    "\n",
    "First, let's explore the `qcut()` function. It works on any numerical array-like objects such as lists, `numpy.array`, or `pandas.Series` (dataframe column) and divides them into bins (buckets). The [documentation](https://pandas.pydata.org/pandas-docs/stable/reference/api/pandas.qcut.html) states that it is formally known as Quantile-based discretization function. Parameters we will be exploring:\n",
    "- `x`: accepts 1 dimensional array or Series to divide\n",
    "- `q`: number of quantile bins (more on this later)\n",
    "- `labels`: a list of labels for each bin category\n",
    "- `precision`: a scalar to indicate how many decimal points to keep\n",
    "- `retbins`: return an additional `numpy.ndarray` containing bin edges\n",
    "\n",
    "Let's start with general syntax:"
   ]
  },
  {
   "cell_type": "code",
   "execution_count": 22,
   "metadata": {
    "scrolled": true
   },
   "outputs": [
    {
     "data": {
      "text/plain": [
       "0                   (59.332, 354.0]\n",
       "1                   (39.94, 59.332]\n",
       "2      (1.3490000000000002, 24.498]\n",
       "3                   (59.332, 354.0]\n",
       "4                   (59.332, 354.0]\n",
       "                   ...             \n",
       "640    (1.3490000000000002, 24.498]\n",
       "641                 (39.94, 59.332]\n",
       "642    (1.3490000000000002, 24.498]\n",
       "649                 (59.332, 354.0]\n",
       "784                 (59.332, 354.0]\n",
       "Name: distance, Length: 498, dtype: category\n",
       "Categories (4, interval[float64]): [(1.3490000000000002, 24.498] < (24.498, 39.94] < (39.94, 59.332] < (59.332, 354.0]]"
      ]
     },
     "execution_count": 22,
     "metadata": {},
     "output_type": "execute_result"
    }
   ],
   "source": [
    "pd.qcut(x=planets['distance'], q=4)"
   ]
  },
  {
   "cell_type": "markdown",
   "metadata": {},
   "source": [
    "If you see this output for the first time, it can be pretty intimidating. But bear with me and you will master the function in no time.\n",
    "\n",
    "The first parameter of the function is the column to bin. The next required parameter is `q` which stands for *quantiles*. `qcut()` divides the data into percentile bins rather than constructing each bin with numeric edges.\n",
    "\n",
    "Let's explore different parts of the output individually. When we set `q` to 4, we told `pandas` to create 4 intervals or bins and let it figure out placing the values itself. \n",
    "\n",
    "The last line gives us the edges of each interval which are (1.349, 24.498], (24.498, 39.94], (39.94, 59.332],(59.332, 354]. The interval edges correspond with a percentile value depending on the value of `q`. We can verify this with the `describe()` function because it also divides the data into 4 quantiles:"
   ]
  },
  {
   "cell_type": "code",
   "execution_count": 23,
   "metadata": {},
   "outputs": [
    {
     "data": {
      "text/plain": [
       "count    498.000000\n",
       "mean      52.068213\n",
       "std       46.596041\n",
       "min        1.350000\n",
       "25%       24.497500\n",
       "50%       39.940000\n",
       "75%       59.332500\n",
       "max      354.000000\n",
       "Name: distance, dtype: float64"
      ]
     },
     "execution_count": 23,
     "metadata": {},
     "output_type": "execute_result"
    }
   ],
   "source": [
    "planets['distance'].describe()"
   ]
  },
  {
   "cell_type": "markdown",
   "metadata": {},
   "source": [
    "As you see, the values for `min` and `max`, 25th, 75th perentiles are all the same. "
   ]
  },
  {
   "cell_type": "markdown",
   "metadata": {},
   "source": [
    "Now, the main part: if you look at the actual results, each row or index is placed into one of the four bins. `pandas`, by default, gives the literal numerical bin names to each observation. To have a better image of the situation, let's store the out into a new column:"
   ]
  },
  {
   "cell_type": "code",
   "execution_count": 26,
   "metadata": {},
   "outputs": [
    {
     "data": {
      "text/html": [
       "<div>\n",
       "<style scoped>\n",
       "    .dataframe tbody tr th:only-of-type {\n",
       "        vertical-align: middle;\n",
       "    }\n",
       "\n",
       "    .dataframe tbody tr th {\n",
       "        vertical-align: top;\n",
       "    }\n",
       "\n",
       "    .dataframe thead th {\n",
       "        text-align: right;\n",
       "    }\n",
       "</style>\n",
       "<table border=\"1\" class=\"dataframe\">\n",
       "  <thead>\n",
       "    <tr style=\"text-align: right;\">\n",
       "      <th></th>\n",
       "      <th>method</th>\n",
       "      <th>orbital_period</th>\n",
       "      <th>mass</th>\n",
       "      <th>distance</th>\n",
       "      <th>quantiles_4</th>\n",
       "    </tr>\n",
       "  </thead>\n",
       "  <tbody>\n",
       "    <tr>\n",
       "      <th>415</th>\n",
       "      <td>Radial Velocity</td>\n",
       "      <td>6.4950</td>\n",
       "      <td>0.9600</td>\n",
       "      <td>121.07</td>\n",
       "      <td>(59.0, 354.0]</td>\n",
       "    </tr>\n",
       "    <tr>\n",
       "      <th>364</th>\n",
       "      <td>Radial Velocity</td>\n",
       "      <td>2473.0000</td>\n",
       "      <td>8.0600</td>\n",
       "      <td>64.56</td>\n",
       "      <td>(59.0, 354.0]</td>\n",
       "    </tr>\n",
       "    <tr>\n",
       "      <th>46</th>\n",
       "      <td>Radial Velocity</td>\n",
       "      <td>3.2357</td>\n",
       "      <td>0.0036</td>\n",
       "      <td>1.35</td>\n",
       "      <td>(0.0, 24.0]</td>\n",
       "    </tr>\n",
       "    <tr>\n",
       "      <th>234</th>\n",
       "      <td>Radial Velocity</td>\n",
       "      <td>602.0000</td>\n",
       "      <td>0.0670</td>\n",
       "      <td>39.39</td>\n",
       "      <td>(24.0, 40.0]</td>\n",
       "    </tr>\n",
       "    <tr>\n",
       "      <th>332</th>\n",
       "      <td>Radial Velocity</td>\n",
       "      <td>430.0000</td>\n",
       "      <td>5.0000</td>\n",
       "      <td>121.36</td>\n",
       "      <td>(59.0, 354.0]</td>\n",
       "    </tr>\n",
       "  </tbody>\n",
       "</table>\n",
       "</div>"
      ],
      "text/plain": [
       "              method  orbital_period    mass  distance    quantiles_4\n",
       "415  Radial Velocity          6.4950  0.9600    121.07  (59.0, 354.0]\n",
       "364  Radial Velocity       2473.0000  8.0600     64.56  (59.0, 354.0]\n",
       "46   Radial Velocity          3.2357  0.0036      1.35    (0.0, 24.0]\n",
       "234  Radial Velocity        602.0000  0.0670     39.39   (24.0, 40.0]\n",
       "332  Radial Velocity        430.0000  5.0000    121.36  (59.0, 354.0]"
      ]
     },
     "execution_count": 26,
     "metadata": {},
     "output_type": "execute_result"
    }
   ],
   "source": [
    "planets['quantiles_4'] = pd.qcut(x=planets['distance'], q=4, precision=0)\n",
    "planets.sample(5)"
   ]
  },
  {
   "cell_type": "markdown",
   "metadata": {},
   "source": [
    "After storing, we have a better bird's eye view of the dataframe. Also, you can also verify that each `distance` value is placed into a correct interval. I also introduced a new parameter `precision` which lets us specify the number of decimal points to keep. \n",
    "\n",
    "However, the new column is still not its best form. What would be ideal is if could give specific labels for each interval. This will boost the readability of our data.\n",
    "\n",
    "To achieve this, we need to create a list of labels to pass into the `labels` parameter of `qcut()`:"
   ]
  },
  {
   "cell_type": "code",
   "execution_count": 28,
   "metadata": {},
   "outputs": [
    {
     "data": {
      "text/html": [
       "<div>\n",
       "<style scoped>\n",
       "    .dataframe tbody tr th:only-of-type {\n",
       "        vertical-align: middle;\n",
       "    }\n",
       "\n",
       "    .dataframe tbody tr th {\n",
       "        vertical-align: top;\n",
       "    }\n",
       "\n",
       "    .dataframe thead th {\n",
       "        text-align: right;\n",
       "    }\n",
       "</style>\n",
       "<table border=\"1\" class=\"dataframe\">\n",
       "  <thead>\n",
       "    <tr style=\"text-align: right;\">\n",
       "      <th></th>\n",
       "      <th>method</th>\n",
       "      <th>orbital_period</th>\n",
       "      <th>mass</th>\n",
       "      <th>distance</th>\n",
       "      <th>quantiles_4</th>\n",
       "      <th>quantiles_4_labelled</th>\n",
       "    </tr>\n",
       "  </thead>\n",
       "  <tbody>\n",
       "    <tr>\n",
       "      <th>571</th>\n",
       "      <td>Radial Velocity</td>\n",
       "      <td>1333.0000</td>\n",
       "      <td>2.5800</td>\n",
       "      <td>32.99</td>\n",
       "      <td>(24.0, 40.0]</td>\n",
       "      <td>medium</td>\n",
       "    </tr>\n",
       "    <tr>\n",
       "      <th>313</th>\n",
       "      <td>Radial Velocity</td>\n",
       "      <td>51.7600</td>\n",
       "      <td>0.0164</td>\n",
       "      <td>12.83</td>\n",
       "      <td>(0.0, 24.0]</td>\n",
       "      <td>near</td>\n",
       "    </tr>\n",
       "    <tr>\n",
       "      <th>10</th>\n",
       "      <td>Radial Velocity</td>\n",
       "      <td>883.0000</td>\n",
       "      <td>0.8600</td>\n",
       "      <td>74.79</td>\n",
       "      <td>(59.0, 354.0]</td>\n",
       "      <td>very_far</td>\n",
       "    </tr>\n",
       "    <tr>\n",
       "      <th>506</th>\n",
       "      <td>Radial Velocity</td>\n",
       "      <td>4.6455</td>\n",
       "      <td>0.0130</td>\n",
       "      <td>24.05</td>\n",
       "      <td>(0.0, 24.0]</td>\n",
       "      <td>near</td>\n",
       "    </tr>\n",
       "    <tr>\n",
       "      <th>127</th>\n",
       "      <td>Radial Velocity</td>\n",
       "      <td>66.8000</td>\n",
       "      <td>0.0220</td>\n",
       "      <td>6.27</td>\n",
       "      <td>(0.0, 24.0]</td>\n",
       "      <td>near</td>\n",
       "    </tr>\n",
       "  </tbody>\n",
       "</table>\n",
       "</div>"
      ],
      "text/plain": [
       "              method  orbital_period    mass  distance    quantiles_4  \\\n",
       "571  Radial Velocity       1333.0000  2.5800     32.99   (24.0, 40.0]   \n",
       "313  Radial Velocity         51.7600  0.0164     12.83    (0.0, 24.0]   \n",
       "10   Radial Velocity        883.0000  0.8600     74.79  (59.0, 354.0]   \n",
       "506  Radial Velocity          4.6455  0.0130     24.05    (0.0, 24.0]   \n",
       "127  Radial Velocity         66.8000  0.0220      6.27    (0.0, 24.0]   \n",
       "\n",
       "    quantiles_4_labelled  \n",
       "571               medium  \n",
       "313                 near  \n",
       "10              very_far  \n",
       "506                 near  \n",
       "127                 near  "
      ]
     },
     "execution_count": 28,
     "metadata": {},
     "output_type": "execute_result"
    }
   ],
   "source": [
    "labels = ['near', 'medium', 'far', 'very_far']\n",
    "planets['quantiles_4_labelled'] = pd.qcut(planets['distance'],\n",
    "                                          q=4,\n",
    "                                          labels=labels,\n",
    "                                          precision=0)\n",
    "planets.sample(5)"
   ]
  },
  {
   "cell_type": "markdown",
   "metadata": {},
   "source": [
    "Much better! But, still we have not covered the defining point of `qcut()`. Let's call the `value_counts()` function on the newest column and see what happens:"
   ]
  },
  {
   "cell_type": "code",
   "execution_count": 29,
   "metadata": {},
   "outputs": [
    {
     "data": {
      "text/plain": [
       "very_far    125\n",
       "near        125\n",
       "far         124\n",
       "medium      124\n",
       "Name: quantiles_4_labelled, dtype: int64"
      ]
     },
     "execution_count": 29,
     "metadata": {},
     "output_type": "execute_result"
    }
   ],
   "source": [
    "planets['quantiles_4_labelled'].value_counts()"
   ]
  },
  {
   "cell_type": "markdown",
   "metadata": {},
   "source": [
    "If there are not many extreme values in the distribution, the number of values in each bin will be super close to each other. If you are familiar with statistics, this makes sense because I already said that `qcut()` defines the bin edges as percentiles of the distribution. "
   ]
  },
  {
   "cell_type": "markdown",
   "metadata": {},
   "source": [
    "Note that this does not mean the sizes of bins are the same. If you subtract the left edges of bins from the right you will get different results. For example, let's divide the mass into 5 bins and get the width of each bin:"
   ]
  },
  {
   "cell_type": "code",
   "execution_count": 32,
   "metadata": {},
   "outputs": [
    {
     "name": "stdout",
     "output_type": "stream",
     "text": [
      "[3.600e-03 7.940e-02 7.680e-01 1.800e+00 3.696e+00 2.500e+01]\n"
     ]
    }
   ],
   "source": [
    "# Get the bin edges with retbin\n",
    "results, bins_edges = pd.qcut(planets['mass'], q=5, retbins=True)\n",
    "# A numpy array with the edges of each interval\n",
    "print(bins_edges)"
   ]
  },
  {
   "cell_type": "code",
   "execution_count": 48,
   "metadata": {},
   "outputs": [
    {
     "name": "stdout",
     "output_type": "stream",
     "text": [
      "Interval 1: 0.076\n",
      "Interval 2: 0.689\n",
      "Interval 3: 1.032\n",
      "Interval 4: 1.896\n",
      "Interval 5: 21.304\n"
     ]
    }
   ],
   "source": [
    "def print_intervals(array):\n",
    "    '''\n",
    "    Simple function to print the width of\n",
    "    each bin from the bin edges in the passed list.\n",
    "    '''\n",
    "    last = 0\n",
    "    for index, edge in enumerate(array):\n",
    "        if index == 0:\n",
    "            last = edge\n",
    "            continue\n",
    "        print(f\"Interval {index}:\", round(edge - last, 3))\n",
    "        last = edge\n",
    "\n",
    "\n",
    "print_intervals(bins_edges)"
   ]
  },
  {
   "cell_type": "markdown",
   "metadata": {},
   "source": [
    "Setting `retbins` (stands for return bins) to true returns an additional `numpy.ndarray` containing the bin edges of our cut. I used a loop to display the width of each bin to verify my above point."
   ]
  },
  {
   "cell_type": "markdown",
   "metadata": {},
   "source": [
    "For the sake of simplicity for next sections, I will drop the new columns:"
   ]
  },
  {
   "cell_type": "code",
   "execution_count": 58,
   "metadata": {},
   "outputs": [],
   "source": [
    "planets.drop(['quantiles_4', 'quantiles_4_labelled'],\n",
    "             inplace=True,\n",
    "             axis='columns')"
   ]
  },
  {
   "cell_type": "markdown",
   "metadata": {},
   "source": [
    "### Pandas `cut()`"
   ]
  },
  {
   "cell_type": "markdown",
   "metadata": {},
   "source": [
    "After discussing `qcut()`, you are now able to understand differences between `cut()`. \n",
    "\n",
    "`qcut()` divided our data so that the number of values in each bin are roughly the same but the bin ranges were different. A lot of the concepts in the first section apply here too. \n",
    "\n",
    "The main difference is that `cut()` uses actual numeric bin edges and by default, it divides the distribution into bins that have equal size. Just the opposite of `qcut()`. Let's see an example first:"
   ]
  },
  {
   "cell_type": "code",
   "execution_count": 56,
   "metadata": {},
   "outputs": [
    {
     "data": {
      "text/plain": [
       "0      (-0.0214, 8.336]\n",
       "1      (-0.0214, 8.336]\n",
       "2      (-0.0214, 8.336]\n",
       "3        (16.668, 25.0]\n",
       "4       (8.336, 16.668]\n",
       "             ...       \n",
       "640    (-0.0214, 8.336]\n",
       "641    (-0.0214, 8.336]\n",
       "642    (-0.0214, 8.336]\n",
       "649    (-0.0214, 8.336]\n",
       "784    (-0.0214, 8.336]\n",
       "Name: mass, Length: 498, dtype: category\n",
       "Categories (3, interval[float64]): [(-0.0214, 8.336] < (8.336, 16.668] < (16.668, 25.0]]"
      ]
     },
     "execution_count": 56,
     "metadata": {},
     "output_type": "execute_result"
    }
   ],
   "source": [
    "pd.cut(planets['mass'], bins=3)"
   ]
  },
  {
   "cell_type": "markdown",
   "metadata": {},
   "source": [
    "We have divided the `mass` column into three different categories. Same as before, I will store the results back into the data frame and call `value_counts()` on it:"
   ]
  },
  {
   "cell_type": "code",
   "execution_count": 61,
   "metadata": {},
   "outputs": [
    {
     "data": {
      "text/html": [
       "<div>\n",
       "<style scoped>\n",
       "    .dataframe tbody tr th:only-of-type {\n",
       "        vertical-align: middle;\n",
       "    }\n",
       "\n",
       "    .dataframe tbody tr th {\n",
       "        vertical-align: top;\n",
       "    }\n",
       "\n",
       "    .dataframe thead th {\n",
       "        text-align: right;\n",
       "    }\n",
       "</style>\n",
       "<table border=\"1\" class=\"dataframe\">\n",
       "  <thead>\n",
       "    <tr style=\"text-align: right;\">\n",
       "      <th></th>\n",
       "      <th>method</th>\n",
       "      <th>orbital_period</th>\n",
       "      <th>mass</th>\n",
       "      <th>distance</th>\n",
       "      <th>equally_binned</th>\n",
       "    </tr>\n",
       "  </thead>\n",
       "  <tbody>\n",
       "    <tr>\n",
       "      <th>513</th>\n",
       "      <td>Radial Velocity</td>\n",
       "      <td>352.300</td>\n",
       "      <td>0.730</td>\n",
       "      <td>52.72</td>\n",
       "      <td>(-0.021, 8.34]</td>\n",
       "    </tr>\n",
       "    <tr>\n",
       "      <th>623</th>\n",
       "      <td>Radial Velocity</td>\n",
       "      <td>3.369</td>\n",
       "      <td>0.760</td>\n",
       "      <td>50.20</td>\n",
       "      <td>(-0.021, 8.34]</td>\n",
       "    </tr>\n",
       "    <tr>\n",
       "      <th>586</th>\n",
       "      <td>Radial Velocity</td>\n",
       "      <td>123.000</td>\n",
       "      <td>0.450</td>\n",
       "      <td>43.99</td>\n",
       "      <td>(-0.021, 8.34]</td>\n",
       "    </tr>\n",
       "    <tr>\n",
       "      <th>329</th>\n",
       "      <td>Radial Velocity</td>\n",
       "      <td>3.024</td>\n",
       "      <td>0.249</td>\n",
       "      <td>33.41</td>\n",
       "      <td>(-0.021, 8.34]</td>\n",
       "    </tr>\n",
       "    <tr>\n",
       "      <th>381</th>\n",
       "      <td>Radial Velocity</td>\n",
       "      <td>1695.000</td>\n",
       "      <td>0.920</td>\n",
       "      <td>42.48</td>\n",
       "      <td>(-0.021, 8.34]</td>\n",
       "    </tr>\n",
       "  </tbody>\n",
       "</table>\n",
       "</div>"
      ],
      "text/plain": [
       "              method  orbital_period   mass  distance  equally_binned\n",
       "513  Radial Velocity         352.300  0.730     52.72  (-0.021, 8.34]\n",
       "623  Radial Velocity           3.369  0.760     50.20  (-0.021, 8.34]\n",
       "586  Radial Velocity         123.000  0.450     43.99  (-0.021, 8.34]\n",
       "329  Radial Velocity           3.024  0.249     33.41  (-0.021, 8.34]\n",
       "381  Radial Velocity        1695.000  0.920     42.48  (-0.021, 8.34]"
      ]
     },
     "execution_count": 61,
     "metadata": {},
     "output_type": "execute_result"
    }
   ],
   "source": [
    "planets['equally_binned'], bin_edges = pd.cut(planets['mass'],\n",
    "                                              bins=3,\n",
    "                                              precision=2,\n",
    "                                              retbins=True)  # Save the bin edges for later\n",
    "planets.sample(5)"
   ]
  },
  {
   "cell_type": "code",
   "execution_count": 60,
   "metadata": {},
   "outputs": [
    {
     "data": {
      "text/plain": [
       "(-0.021, 8.34]    459\n",
       "(8.34, 16.67]      32\n",
       "(16.67, 25.0]       7\n",
       "Name: equally_binned, dtype: int64"
      ]
     },
     "execution_count": 60,
     "metadata": {},
     "output_type": "execute_result"
    }
   ],
   "source": [
    "planets['equally_binned'].value_counts()"
   ]
  },
  {
   "cell_type": "markdown",
   "metadata": {},
   "source": [
    "Also, let's see the range of each bin:"
   ]
  },
  {
   "cell_type": "code",
   "execution_count": 62,
   "metadata": {},
   "outputs": [
    {
     "name": "stdout",
     "output_type": "stream",
     "text": [
      "Interval 1: 8.357\n",
      "Interval 2: 8.332\n",
      "Interval 3: 8.332\n"
     ]
    }
   ],
   "source": [
    "print_intervals(bin_edges)   # Our handy little function from the previous section"
   ]
  },
  {
   "cell_type": "markdown",
   "metadata": {},
   "source": [
    "As you see, this time the width of bins are roughly the same and we have different number of observations in each bin. \n",
    "\n",
    "The real power of `cut` comes into play when we want to define custom ranges for the bins. "
   ]
  }
 ],
 "metadata": {
  "kernelspec": {
   "display_name": "medium_articles",
   "language": "python",
   "name": "medium_articles"
  },
  "language_info": {
   "codemirror_mode": {
    "name": "ipython",
    "version": 3
   },
   "file_extension": ".py",
   "mimetype": "text/x-python",
   "name": "python",
   "nbconvert_exporter": "python",
   "pygments_lexer": "ipython3",
   "version": "3.8.5"
  }
 },
 "nbformat": 4,
 "nbformat_minor": 4
}
