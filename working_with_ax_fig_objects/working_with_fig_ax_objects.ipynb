{
 "cells": [
  {
   "cell_type": "markdown",
   "metadata": {},
   "source": [
    "# Clearing the confusion once and for all: fig, ax = plt.subplots()"
   ]
  },
  {
   "cell_type": "markdown",
   "metadata": {},
   "source": [
    "## Introduction\n",
    "\n",
    "> By reading this article, you will learn the two core objects in Maptlolib plots: figure and axes. You will finally understand the difference between simple plotting (`plt.plot`) and creating subplots with `plt.subplots()`."
   ]
  },
  {
   "cell_type": "markdown",
   "metadata": {},
   "source": [
    "When you begin your journey into Data Science, you are introduced to Matplotlib as your first library for Data Visualization. Most tutorials for beginners play a cruel trick on students by introducing them first to the 'beginner-friendly' `pyplot > plt` interface. As these poor students venture into the real world, they will find out the dudes on StackOverflow and most other \n",
    "people use more flexible object-oriented way. They will get confused and most probably move on to Seaborn and Plotly. Or even worse, to no-code interface of Tableau, like I almost did.\n",
    "\n",
    "This notebook will introduce you to figure and axes objects in Matplotlib and their advantages over other methods."
   ]
  },
  {
   "cell_type": "markdown",
   "metadata": {},
   "source": [
    "## Setup"
   ]
  },
  {
   "cell_type": "code",
   "execution_count": 3,
   "metadata": {},
   "outputs": [],
   "source": [
    "# Loading necessary libraries\n",
    "import pandas as pd\n",
    "import numpy as np\n",
    "import matplotlib.pyplot as plt\n",
    "\n",
    "# Plotting pretty figures and avoid blurry images\n",
    "%matplotlib inline\n",
    "%config InlineBackend.figure_format = 'retina'\n",
    "\n",
    "# Enable multiple cell outputs\n",
    "from IPython.core.interactiveshell import InteractiveShell\n",
    "InteractiveShell.ast_node_interactivity = 'all'"
   ]
  }
 ],
 "metadata": {
  "kernelspec": {
   "display_name": "medium_articles",
   "language": "python",
   "name": "medium_articles"
  },
  "language_info": {
   "codemirror_mode": {
    "name": "ipython",
    "version": 3
   },
   "file_extension": ".py",
   "mimetype": "text/x-python",
   "name": "python",
   "nbconvert_exporter": "python",
   "pygments_lexer": "ipython3",
   "version": "3.8.5"
  }
 },
 "nbformat": 4,
 "nbformat_minor": 4
}
